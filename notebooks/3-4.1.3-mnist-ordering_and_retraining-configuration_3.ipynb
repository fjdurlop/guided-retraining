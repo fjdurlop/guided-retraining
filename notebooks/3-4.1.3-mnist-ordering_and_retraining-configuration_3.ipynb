{
 "cells": [
  {
   "cell_type": "markdown",
   "id": "f216e2a2",
   "metadata": {},
   "source": [
    "# Ordering by metrics and retraining phase\n",
    "\n",
    "## Dataset: Intel"
   ]
  },
  {
   "cell_type": "markdown",
   "id": "790af13b",
   "metadata": {},
   "source": [
    "## Experiment configuration 1\n"
   ]
  },
  {
   "cell_type": "markdown",
   "id": "21a98552",
   "metadata": {},
   "source": [
    "## Configuration 2\n",
    "\t2. Incremental guided retraining starting from the original model using the new adversarial inputs and original training set."
   ]
  },
  {
   "cell_type": "code",
   "execution_count": null,
   "id": "90383afd",
   "metadata": {},
   "outputs": [],
   "source": [
    "pip install --user tensorflow==2.5"
   ]
  },
  {
   "cell_type": "code",
   "execution_count": 1,
   "id": "ce1386e9",
   "metadata": {},
   "outputs": [],
   "source": [
    "import argparse\n",
    "\n",
    "import numpy as np\n",
    "import tensorflow as tf\n",
    "import keras.backend as K\n",
    "\n",
    "import matplotlib.pyplot as plt\n",
    "\n",
    "from keras.utils import np_utils\n",
    "from keras.models import Sequential\n",
    "from keras.layers import Dense, Dropout, Activation, Flatten, Conv2D, MaxPooling2D\n",
    "from keras.regularizers import l2\n",
    "\n",
    "import glob\n",
    "import os\n",
    "import cv2\n",
    "import keras\n",
    "\n",
    "\n",
    "import time\n",
    "import argparse\n",
    "\n",
    "from tqdm import tqdm\n",
    "\n",
    "from keras.models import load_model, Model\n"
   ]
  },
  {
   "cell_type": "code",
   "execution_count": 2,
   "id": "aa0aa2b2",
   "metadata": {},
   "outputs": [
    {
     "data": {
      "text/plain": [
       "True"
      ]
     },
     "execution_count": 2,
     "metadata": {},
     "output_type": "execute_result"
    }
   ],
   "source": [
    "tf.__version__ == '2.5.0' # Version of tensorflow"
   ]
  },
  {
   "cell_type": "code",
   "execution_count": 3,
   "id": "f93a3031",
   "metadata": {},
   "outputs": [
    {
     "data": {
      "text/plain": [
       "'C:\\\\Users\\\\fjdur\\\\Documents\\\\upc-july\\\\notebooks'"
      ]
     },
     "execution_count": 3,
     "metadata": {},
     "output_type": "execute_result"
    }
   ],
   "source": [
    "pwd"
   ]
  },
  {
   "cell_type": "code",
   "execution_count": 4,
   "id": "fa923a43",
   "metadata": {},
   "outputs": [
    {
     "name": "stdout",
     "output_type": "stream",
     "text": [
      "C:\\Users\\fjdur\\Documents\\utils\n"
     ]
    }
   ],
   "source": [
    "cd C:/Users/fjdur/Documents/utils//"
   ]
  },
  {
   "cell_type": "code",
   "execution_count": 5,
   "id": "87b12b81",
   "metadata": {},
   "outputs": [
    {
     "name": "stdout",
     "output_type": "stream",
     "text": [
      " Volume in drive C is Windows\n",
      " Volume Serial Number is 54D3-6FC8\n",
      "\n",
      " Directory of C:\\Users\\fjdur\\Documents\\utils\n",
      "\n",
      "24/07/2022  22:57    <DIR>          .\n",
      "24/07/2022  22:57    <DIR>          ..\n",
      "13/08/2022  18:03    <DIR>          __pycache__\n",
      "24/07/2022  22:57               432 adversarial_creation.py\n",
      "07/11/2021  18:37            11.457 project_utils.py\n",
      "17/07/2022  15:27    <DIR>          tmp\n",
      "13/08/2022  18:01            31.616 utils_guided_retraining.py\n",
      "               3 File(s)         43.505 bytes\n",
      "               4 Dir(s)  22.655.545.344 bytes free\n"
     ]
    }
   ],
   "source": [
    "ls"
   ]
  },
  {
   "cell_type": "code",
   "execution_count": 6,
   "id": "723735cb",
   "metadata": {},
   "outputs": [
    {
     "name": "stdout",
     "output_type": "stream",
     "text": [
      "2.5.0\n",
      "keras\n",
      "2.5.0\n"
     ]
    }
   ],
   "source": [
    "# utils for project\n",
    "#import utils_guided_retraining2 as utils\n",
    "import utils_guided_retraining as utils"
   ]
  },
  {
   "cell_type": "code",
   "execution_count": 7,
   "id": "1c6a307c",
   "metadata": {},
   "outputs": [],
   "source": [
    "#cd '../notebooks/'"
   ]
  },
  {
   "cell_type": "code",
   "execution_count": 8,
   "id": "de1bd2cb",
   "metadata": {},
   "outputs": [],
   "source": [
    "dataset = \"mnist\""
   ]
  },
  {
   "cell_type": "code",
   "execution_count": 9,
   "id": "50c2b3f3",
   "metadata": {},
   "outputs": [
    {
     "name": "stdout",
     "output_type": "stream",
     "text": [
      "D:/data_mnist/x_train.npy\n",
      "x_set len:  48999\n",
      "D:/data_mnist/y_train.npy\n",
      "y_set len:  48999\n",
      "D:/data_mnist/x_val.npy\n",
      "x_set len:  14000\n",
      "D:/data_mnist/y_val.npy\n",
      "y_set len:  14000\n",
      "D:/data_mnist/x_test.npy\n",
      "x_set len:  7001\n",
      "D:/data_mnist/y_test.npy\n",
      "y_set len:  7001\n"
     ]
    }
   ],
   "source": [
    "x_train,y_train = utils.get_data(dataset,\"Train\",verbose=True)\n",
    "x_val,y_val = utils.get_data(dataset,\"Val\",verbose=True)\n",
    "x_test,y_test = utils.get_data(dataset,\"Test\",verbose=True)"
   ]
  },
  {
   "cell_type": "code",
   "execution_count": 10,
   "id": "e6f6f8a7",
   "metadata": {},
   "outputs": [
    {
     "name": "stdout",
     "output_type": "stream",
     "text": [
      "D:/data_adversarial_july/mnist/train_and_adversary.npy\n",
      "x_set len:  55998\n",
      "D:/data_adversarial_july/mnist/train_and_adversary_labels.npy\n",
      "y_set len:  55998\n"
     ]
    }
   ],
   "source": [
    "x_train_and_adversary,y_train_and_adversary = utils.get_data(dataset,\"Train_and_adversary\",verbose=True)"
   ]
  },
  {
   "cell_type": "code",
   "execution_count": 11,
   "id": "53dcdf78",
   "metadata": {},
   "outputs": [
    {
     "name": "stdout",
     "output_type": "stream",
     "text": [
      "6999\n",
      "6999\n"
     ]
    }
   ],
   "source": [
    "x_adversary_training = x_train_and_adversary[len(x_train):]\n",
    "print(len(x_adversary_training))\n",
    "y_adversary_training = y_train_and_adversary[len(y_train):]\n",
    "\n",
    "print(len(y_adversary_training))"
   ]
  },
  {
   "cell_type": "code",
   "execution_count": 12,
   "id": "d8fd2c92",
   "metadata": {},
   "outputs": [],
   "source": [
    "# Obtaining adversarial examples for testing \n",
    "x_test_and_adversary,y_test_and_adversary = utils.get_adversarial_data(dataset,'Test_adversarial') "
   ]
  },
  {
   "cell_type": "code",
   "execution_count": 13,
   "id": "c27698e5",
   "metadata": {},
   "outputs": [
    {
     "name": "stdout",
     "output_type": "stream",
     "text": [
      "6999\n",
      "6999\n"
     ]
    }
   ],
   "source": [
    "x_adversary_test = x_test_and_adversary[len(x_test):]\n",
    "print(len(x_adversary_test))\n",
    "y_adversary_test = y_test_and_adversary[len(y_test):]\n",
    "\n",
    "print(len(y_adversary_test))"
   ]
  },
  {
   "cell_type": "markdown",
   "id": "becb4e3b",
   "metadata": {},
   "source": [
    "## ----"
   ]
  },
  {
   "cell_type": "code",
   "execution_count": 14,
   "id": "c1560941",
   "metadata": {},
   "outputs": [],
   "source": [
    "# Original model \n",
    "\n",
    "model_dir = \"C:/Users/fjdur/Documents/upc-july/models/tf_model_25-06/\"\n",
    "if(dataset == 'gtsrb'):\n",
    "    model_dir = \"C:/Users/fjdur/Documents/upc-july/models/tf_model_25-06\"\n",
    "elif(dataset == 'intel'):\n",
    "    model_dir = \"C:/Users/fjdur/Documents/upc-july/models/intel_model_21_10\"\n",
    "elif(dataset == 'mnist'):\n",
    "    model_dir = \"C:/Users/fjdur/Documents/upc-july/models/models2\"\n",
    "elif(dataset == 'cifar'):\n",
    "    model_dir = \"C:/Users/fjdur/Documents/upc-july/models/model_02\"\n"
   ]
  },
  {
   "cell_type": "markdown",
   "id": "40a25d92",
   "metadata": {},
   "source": [
    "model_dir = \"C:/Users/fjdurlop/Documents/upc/upc-july/models/tf_model_25-06/\"\n",
    "if(dataset == 'gtsrb'):\n",
    "    model_dir = \"C:/Users/fjdurlop/Documents/upc/upc-july/models/tf_model_25-06\"\n",
    "elif(dataset == 'intel'):\n",
    "    model_dir = \"C:/Users/fjdurlop/Documents/upc/upc-july/models/intel_model_21_10\"\n",
    "elif(dataset == 'mnist'):\n",
    "    model_dir = \"C:/Users/fjdurlop/Documents/upc/upc-july/models/models2\"\n",
    "elif(dataset == 'cifar'):\n",
    "    model_dir = \"C:/Users/fjdurlop/Documents/upc/upc-july/models/model_02\""
   ]
  },
  {
   "cell_type": "code",
   "execution_count": 15,
   "id": "e5478616",
   "metadata": {},
   "outputs": [
    {
     "name": "stdout",
     "output_type": "stream",
     "text": [
      "C:/Users/fjdur/Documents/upc-july/models/models2\n",
      "Model loaded correctly\n"
     ]
    }
   ],
   "source": [
    "print(model_dir)\n",
    "model_original = utils.My_model(dataset,True, model_dir)"
   ]
  },
  {
   "cell_type": "code",
   "execution_count": 16,
   "id": "a81f5589",
   "metadata": {},
   "outputs": [
    {
     "name": "stdout",
     "output_type": "stream",
     "text": [
      "6999\n"
     ]
    }
   ],
   "source": [
    "print(len(x_adversary_training))"
   ]
  },
  {
   "cell_type": "code",
   "execution_count": 17,
   "id": "8ea0bc17",
   "metadata": {},
   "outputs": [
    {
     "name": "stdout",
     "output_type": "stream",
     "text": [
      "(6999, 28, 28, 1)\n"
     ]
    },
    {
     "data": {
      "text/plain": [
       "349"
      ]
     },
     "execution_count": 17,
     "metadata": {},
     "output_type": "execute_result"
    }
   ],
   "source": [
    "print(x_adversary_training.shape)\n",
    "len(x_adversary_training)//20"
   ]
  },
  {
   "cell_type": "code",
   "execution_count": 18,
   "id": "983373d2",
   "metadata": {},
   "outputs": [],
   "source": [
    "n_data_points = 340"
   ]
  },
  {
   "cell_type": "code",
   "execution_count": 19,
   "id": "7537e3a8",
   "metadata": {},
   "outputs": [],
   "source": [
    "import gc"
   ]
  },
  {
   "cell_type": "markdown",
   "id": "78edd1c7",
   "metadata": {},
   "source": [
    "## Loading LSA and DSA values "
   ]
  },
  {
   "cell_type": "code",
   "execution_count": 20,
   "id": "dd62896d",
   "metadata": {},
   "outputs": [],
   "source": [
    "lsa_direction = \"C:/Users/fjdur/Documents/upc-july/data/\"+dataset+\"/lsa_values.npy\"\n"
   ]
  },
  {
   "cell_type": "code",
   "execution_count": 21,
   "id": "d62da548",
   "metadata": {},
   "outputs": [],
   "source": [
    "#lsa_direction = \"C:/Users/fjdurlop/Documents/upc/upc-july/data/\"+dataset+\"/lsa_values.npy\"\n"
   ]
  },
  {
   "cell_type": "code",
   "execution_count": 22,
   "id": "cbe684c7",
   "metadata": {},
   "outputs": [
    {
     "name": "stdout",
     "output_type": "stream",
     "text": [
      "6999\n"
     ]
    }
   ],
   "source": [
    "lsa_values = np.load(lsa_direction)[len(x_train):] \n",
    "print(len(lsa_values))\n"
   ]
  },
  {
   "cell_type": "code",
   "execution_count": null,
   "id": "8e725932",
   "metadata": {},
   "outputs": [],
   "source": []
  },
  {
   "cell_type": "code",
   "execution_count": 23,
   "id": "c0ec186e",
   "metadata": {},
   "outputs": [],
   "source": [
    "\n",
    "# Obtaining top n images by LSA values\n",
    "top_images_by_lsa = utils.get_x_of_indexes(list(np.flip(np.argsort(lsa_values))),x_adversary_training)\n",
    "top_labels_by_lsa = utils.get_x_of_indexes(list(np.flip(np.argsort(lsa_values))),y_adversary_training)\n"
   ]
  },
  {
   "cell_type": "code",
   "execution_count": null,
   "id": "037f9ba1",
   "metadata": {},
   "outputs": [],
   "source": []
  },
  {
   "cell_type": "code",
   "execution_count": 24,
   "id": "262a4841",
   "metadata": {
    "scrolled": true
   },
   "outputs": [
    {
     "name": "stdout",
     "output_type": "stream",
     "text": [
      "0 :\n",
      "0  ->  340\n",
      "340\n",
      "1 :\n",
      "0  ->  680\n",
      "680\n",
      "2 :\n",
      "0  ->  1020\n",
      "1020\n",
      "3 :\n",
      "0  ->  1360\n",
      "1360\n",
      "4 :\n",
      "0  ->  1700\n",
      "1700\n",
      "5 :\n",
      "0  ->  2040\n",
      "2040\n",
      "6 :\n",
      "0  ->  2380\n",
      "2380\n",
      "7 :\n",
      "0  ->  2720\n",
      "2720\n",
      "8 :\n",
      "0  ->  3060\n",
      "3060\n",
      "9 :\n",
      "0  ->  3400\n",
      "3400\n",
      "10 :\n",
      "0  ->  3740\n",
      "3740\n",
      "11 :\n",
      "0  ->  4080\n",
      "4080\n",
      "12 :\n",
      "0  ->  4420\n",
      "4420\n",
      "13 :\n",
      "0  ->  4760\n",
      "4760\n",
      "14 :\n",
      "0  ->  5100\n",
      "5100\n",
      "15 :\n",
      "0  ->  5440\n",
      "5440\n",
      "16 :\n",
      "0  ->  5780\n",
      "5780\n",
      "17 :\n",
      "0  ->  6120\n",
      "6120\n",
      "18 :\n",
      "0  ->  6460\n",
      "6460\n",
      "19 :\n",
      "Last\n",
      "0  ->  6999\n",
      "6999\n"
     ]
    }
   ],
   "source": [
    "m = n_data_points\n",
    "n = 0\n",
    "image_sets_lsa = []\n",
    "label_sets_lsa = []\n",
    "\n",
    "# last\n",
    "#for i in range(0,len(top_images_by_lsa)//m):\n",
    "\n",
    "for i in range((len(top_images_by_lsa)//m)):\n",
    "    print(i,\":\")\n",
    "    if (i+1 >= ((len(top_images_by_lsa)//m))):\n",
    "        print(\"Last\")\n",
    "        print(0,\" -> \",n+m+(len(top_images_by_lsa)%m))\n",
    "        top_images_by_lsa_n = np.array(top_images_by_lsa[:n+m+(len(top_images_by_lsa)%m)])\n",
    "        top_labels_by_lsa_n = np.array(top_labels_by_lsa[:n+m+(len(top_images_by_lsa)%m)])\n",
    "    else:\n",
    "        print(0,\" -> \",m+n)\n",
    "        top_images_by_lsa_n = np.array(top_images_by_lsa[:n+m])\n",
    "        top_labels_by_lsa_n = np.array(top_labels_by_lsa[:n+m])\n",
    "    image_sets_lsa.append(top_images_by_lsa_n)\n",
    "    label_sets_lsa.append(top_labels_by_lsa_n)\n",
    "    print(len(top_images_by_lsa_n))\n",
    "    n += m"
   ]
  },
  {
   "cell_type": "code",
   "execution_count": 27,
   "id": "55e3a060",
   "metadata": {},
   "outputs": [
    {
     "data": {
      "text/plain": [
       "6460"
      ]
     },
     "execution_count": 27,
     "metadata": {},
     "output_type": "execute_result"
    }
   ],
   "source": [
    "len(image_sets_lsa[-2])"
   ]
  },
  {
   "cell_type": "markdown",
   "id": "ed06a68e",
   "metadata": {},
   "source": [
    "## Training guided by LSA"
   ]
  },
  {
   "cell_type": "code",
   "execution_count": 25,
   "id": "9fa4de5c",
   "metadata": {},
   "outputs": [
    {
     "data": {
      "text/plain": [
       "20"
      ]
     },
     "execution_count": 25,
     "metadata": {},
     "output_type": "execute_result"
    }
   ],
   "source": [
    "len(label_sets_lsa)"
   ]
  },
  {
   "cell_type": "code",
   "execution_count": 26,
   "id": "21782029",
   "metadata": {},
   "outputs": [
    {
     "name": "stdout",
     "output_type": "stream",
     "text": [
      "C:/Users/fjdur/Documents/upc-july/models/models2\n"
     ]
    }
   ],
   "source": [
    "print(model_dir)"
   ]
  },
  {
   "cell_type": "code",
   "execution_count": 27,
   "id": "daef1b47",
   "metadata": {},
   "outputs": [
    {
     "name": "stdout",
     "output_type": "stream",
     "text": [
      "C:/Users/fjdur/Documents/upc-july/models/models2\n",
      "0 :\n",
      "Model loaded correctly\n",
      "Model compiled\n",
      "1 :\n",
      "Model loaded correctly\n",
      "Model compiled\n",
      "2 :\n",
      "Model loaded correctly\n",
      "Model compiled\n",
      "3 :\n",
      "Model loaded correctly\n",
      "Model compiled\n",
      "4 :\n",
      "Model loaded correctly\n",
      "Model compiled\n",
      "5 :\n",
      "Model loaded correctly\n",
      "Model compiled\n",
      "6 :\n",
      "Model loaded correctly\n",
      "Model compiled\n",
      "7 :\n",
      "Model loaded correctly\n",
      "Model compiled\n",
      "8 :\n",
      "Model loaded correctly\n",
      "Model compiled\n",
      "9 :\n",
      "Model loaded correctly\n",
      "Model compiled\n",
      "10 :\n",
      "Model loaded correctly\n",
      "Model compiled\n",
      "11 :\n",
      "Model loaded correctly\n",
      "Model compiled\n",
      "12 :\n",
      "Model loaded correctly\n",
      "Model compiled\n",
      "13 :\n",
      "Model loaded correctly\n",
      "Model compiled\n",
      "14 :\n",
      "Model loaded correctly\n",
      "Model compiled\n",
      "15 :\n",
      "Model loaded correctly\n",
      "Model compiled\n",
      "16 :\n",
      "Model loaded correctly\n",
      "Model compiled\n",
      "17 :\n",
      "Model loaded correctly\n",
      "Model compiled\n",
      "18 :\n",
      "Model loaded correctly\n",
      "Model compiled\n",
      "19 :\n",
      "Model loaded correctly\n",
      "Model compiled\n"
     ]
    }
   ],
   "source": [
    "print(model_dir)\n",
    "\n",
    "models_lsa = []\n",
    "for i in range(len(label_sets_lsa)):\n",
    "    print(i,\":\")\n",
    "    model = utils.My_model(dataset,True,model_dir)\n",
    "    model.compile_model()\n",
    "    models_lsa.append(model)\n"
   ]
  },
  {
   "cell_type": "code",
   "execution_count": 31,
   "id": "282cec1c",
   "metadata": {},
   "outputs": [
    {
     "name": "stdout",
     "output_type": "stream",
     "text": [
      "219/219 [==============================] - 26s 10ms/step - loss: 0.0340 - accuracy: 0.9908\n"
     ]
    },
    {
     "data": {
      "text/plain": [
       "[0.036614201962947845, 0.9894300699234009]"
      ]
     },
     "execution_count": 31,
     "metadata": {},
     "output_type": "execute_result"
    }
   ],
   "source": [
    "models_lsa[0].evaluate(x_test,y_test)"
   ]
  },
  {
   "cell_type": "code",
   "execution_count": 32,
   "id": "3665e51c",
   "metadata": {},
   "outputs": [
    {
     "name": "stdout",
     "output_type": "stream",
     "text": [
      "Epoch 1/10\n",
      "6/6 [==============================] - 11s 899ms/step - loss: 0.9379 - accuracy: 0.7676 - val_loss: 0.0874 - val_accuracy: 0.9836\n",
      "Epoch 2/10\n",
      "6/6 [==============================] - 5s 909ms/step - loss: 0.5987 - accuracy: 0.8441 - val_loss: 0.1194 - val_accuracy: 0.9766\n",
      "Epoch 3/10\n",
      "6/6 [==============================] - 5s 911ms/step - loss: 0.5679 - accuracy: 0.8588 - val_loss: 0.0696 - val_accuracy: 0.9844\n",
      "Epoch 4/10\n",
      "6/6 [==============================] - 5s 934ms/step - loss: 0.5325 - accuracy: 0.8735 - val_loss: 0.0680 - val_accuracy: 0.9830\n",
      "Epoch 5/10\n",
      "6/6 [==============================] - 5s 965ms/step - loss: 0.3450 - accuracy: 0.8882 - val_loss: 0.0689 - val_accuracy: 0.9837\n",
      "Epoch 6/10\n",
      "6/6 [==============================] - 5s 958ms/step - loss: 0.2883 - accuracy: 0.9118 - val_loss: 0.0670 - val_accuracy: 0.9829\n",
      "Epoch 7/10\n",
      "6/6 [==============================] - 4s 847ms/step - loss: 0.3828 - accuracy: 0.8735 - val_loss: 0.1105 - val_accuracy: 0.9754\n",
      "Epoch 8/10\n",
      "6/6 [==============================] - 4s 869ms/step - loss: 0.3380 - accuracy: 0.9000 - val_loss: 0.0842 - val_accuracy: 0.9820\n",
      "Epoch 9/10\n",
      "6/6 [==============================] - 5s 940ms/step - loss: 0.2846 - accuracy: 0.9206 - val_loss: 0.0621 - val_accuracy: 0.9841\n",
      "Epoch 10/10\n",
      "6/6 [==============================] - 5s 926ms/step - loss: 0.2585 - accuracy: 0.9235 - val_loss: 0.0924 - val_accuracy: 0.9868\n",
      "Duration: 0:00:53.114644\n"
     ]
    }
   ],
   "source": [
    "n = 0\n",
    "models_lsa[n].fit_model(image_sets_lsa[n],label_sets_lsa[n],x_val,y_val,epochs=10,batch_size = 64)\n",
    "n=n+1"
   ]
  },
  {
   "cell_type": "code",
   "execution_count": 33,
   "id": "c2f79099",
   "metadata": {},
   "outputs": [
    {
     "name": "stdout",
     "output_type": "stream",
     "text": [
      "Epoch 1/10\n",
      "11/11 [==============================] - 7s 543ms/step - loss: 0.8291 - accuracy: 0.8459 - val_loss: 0.0506 - val_accuracy: 0.9868\n",
      "Epoch 2/10\n",
      "11/11 [==============================] - 5s 514ms/step - loss: 0.4789 - accuracy: 0.8715 - val_loss: 0.0514 - val_accuracy: 0.9882\n",
      "Epoch 3/10\n",
      "11/11 [==============================] - 6s 541ms/step - loss: 0.3480 - accuracy: 0.9147 - val_loss: 0.0567 - val_accuracy: 0.9849\n",
      "Epoch 4/10\n",
      "11/11 [==============================] - 5s 493ms/step - loss: 0.3074 - accuracy: 0.9209 - val_loss: 0.0784 - val_accuracy: 0.9815\n",
      "Epoch 5/10\n",
      "11/11 [==============================] - 5s 515ms/step - loss: 0.1980 - accuracy: 0.9458 - val_loss: 0.0652 - val_accuracy: 0.9814\n",
      "Epoch 6/10\n",
      "11/11 [==============================] - 5s 522ms/step - loss: 0.2425 - accuracy: 0.9258 - val_loss: 0.0809 - val_accuracy: 0.9794\n",
      "Epoch 7/10\n",
      "11/11 [==============================] - 5s 518ms/step - loss: 0.2479 - accuracy: 0.9296 - val_loss: 0.0601 - val_accuracy: 0.9848\n",
      "Epoch 8/10\n",
      "11/11 [==============================] - 5s 522ms/step - loss: 0.2204 - accuracy: 0.9223 - val_loss: 0.0590 - val_accuracy: 0.9856\n",
      "Epoch 9/10\n",
      "11/11 [==============================] - 5s 524ms/step - loss: 0.1928 - accuracy: 0.9488 - val_loss: 0.0578 - val_accuracy: 0.9833\n",
      "Epoch 10/10\n",
      "11/11 [==============================] - 5s 508ms/step - loss: 0.1422 - accuracy: 0.9581 - val_loss: 0.0563 - val_accuracy: 0.9850\n",
      "Duration: 0:00:54.273334\n"
     ]
    }
   ],
   "source": [
    "n=1\n",
    "models_lsa[n].fit_model(image_sets_lsa[n],label_sets_lsa[n],x_val,y_val,epochs=10,batch_size = 64)\n",
    "n = n+1"
   ]
  },
  {
   "cell_type": "code",
   "execution_count": 34,
   "id": "d9f7fa66",
   "metadata": {},
   "outputs": [
    {
     "name": "stdout",
     "output_type": "stream",
     "text": [
      "2\n",
      "Epoch 1/10\n",
      "16/16 [==============================] - 7s 395ms/step - loss: 0.6595 - accuracy: 0.8665 - val_loss: 0.0409 - val_accuracy: 0.9888\n",
      "Epoch 2/10\n",
      "16/16 [==============================] - 6s 374ms/step - loss: 0.2928 - accuracy: 0.9277 - val_loss: 0.0564 - val_accuracy: 0.9860\n",
      "Epoch 3/10\n",
      "16/16 [==============================] - 6s 374ms/step - loss: 0.3084 - accuracy: 0.9222 - val_loss: 0.0601 - val_accuracy: 0.9852\n",
      "Epoch 4/10\n",
      "16/16 [==============================] - 6s 373ms/step - loss: 0.2631 - accuracy: 0.9377 - val_loss: 0.0470 - val_accuracy: 0.9880\n",
      "Epoch 5/10\n",
      "16/16 [==============================] - 6s 374ms/step - loss: 0.2616 - accuracy: 0.9388 - val_loss: 0.0498 - val_accuracy: 0.9864\n",
      "Epoch 6/10\n",
      "16/16 [==============================] - 6s 376ms/step - loss: 0.2060 - accuracy: 0.9490 - val_loss: 0.0923 - val_accuracy: 0.9792\n",
      "Epoch 7/10\n",
      "16/16 [==============================] - 6s 375ms/step - loss: 0.2134 - accuracy: 0.9396 - val_loss: 0.0606 - val_accuracy: 0.9840\n",
      "Epoch 8/10\n",
      "16/16 [==============================] - 6s 374ms/step - loss: 0.1676 - accuracy: 0.9604 - val_loss: 0.0494 - val_accuracy: 0.9871\n",
      "Epoch 9/10\n",
      "16/16 [==============================] - 6s 371ms/step - loss: 0.1184 - accuracy: 0.9586 - val_loss: 0.0573 - val_accuracy: 0.9869\n",
      "Epoch 10/10\n",
      "16/16 [==============================] - 6s 384ms/step - loss: 0.1385 - accuracy: 0.9572 - val_loss: 0.0707 - val_accuracy: 0.9840\n",
      "Duration: 0:00:58.762350\n"
     ]
    }
   ],
   "source": [
    "print(n)\n",
    "models_lsa[n].fit_model(image_sets_lsa[n],label_sets_lsa[n],x_val,y_val)\n",
    "n = n+1"
   ]
  },
  {
   "cell_type": "code",
   "execution_count": 35,
   "id": "a4586fc7",
   "metadata": {},
   "outputs": [
    {
     "name": "stdout",
     "output_type": "stream",
     "text": [
      "3\n",
      "Epoch 1/10\n",
      "22/22 [==============================] - 8s 310ms/step - loss: 0.4896 - accuracy: 0.9112 - val_loss: 0.0960 - val_accuracy: 0.9797\n",
      "Epoch 2/10\n",
      "22/22 [==============================] - 6s 292ms/step - loss: 0.3042 - accuracy: 0.9227 - val_loss: 0.0575 - val_accuracy: 0.9856\n",
      "Epoch 3/10\n",
      "22/22 [==============================] - 6s 291ms/step - loss: 0.2402 - accuracy: 0.9432 - val_loss: 0.0603 - val_accuracy: 0.9849\n",
      "Epoch 4/10\n",
      "22/22 [==============================] - 6s 294ms/step - loss: 0.1878 - accuracy: 0.9548 - val_loss: 0.0844 - val_accuracy: 0.9797\n",
      "Epoch 5/10\n",
      "22/22 [==============================] - 6s 294ms/step - loss: 0.2264 - accuracy: 0.9396 - val_loss: 0.0675 - val_accuracy: 0.9841\n",
      "Epoch 6/10\n",
      "22/22 [==============================] - 6s 289ms/step - loss: 0.2096 - accuracy: 0.9365 - val_loss: 0.0851 - val_accuracy: 0.9829\n",
      "Epoch 7/10\n",
      "22/22 [==============================] - 6s 292ms/step - loss: 0.2074 - accuracy: 0.9549 - val_loss: 0.0646 - val_accuracy: 0.9856\n",
      "Epoch 8/10\n",
      "22/22 [==============================] - 6s 293ms/step - loss: 0.1062 - accuracy: 0.9621 - val_loss: 0.0596 - val_accuracy: 0.9846\n",
      "Epoch 9/10\n",
      "22/22 [==============================] - 6s 291ms/step - loss: 0.1249 - accuracy: 0.9642 - val_loss: 0.0738 - val_accuracy: 0.9829\n",
      "Epoch 10/10\n",
      "22/22 [==============================] - 6s 296ms/step - loss: 0.0811 - accuracy: 0.9701 - val_loss: 0.0959 - val_accuracy: 0.9810\n",
      "Duration: 0:01:04.569953\n"
     ]
    }
   ],
   "source": [
    "print(n)\n",
    "models_lsa[n].fit_model(image_sets_lsa[n],label_sets_lsa[n],x_val,y_val)\n",
    "n = n+1"
   ]
  },
  {
   "cell_type": "code",
   "execution_count": 36,
   "id": "681edfc1",
   "metadata": {},
   "outputs": [
    {
     "name": "stdout",
     "output_type": "stream",
     "text": [
      "4\n",
      "Epoch 1/10\n",
      "27/27 [==============================] - 9s 279ms/step - loss: 0.4328 - accuracy: 0.9190 - val_loss: 0.0582 - val_accuracy: 0.9844\n",
      "Epoch 2/10\n",
      "27/27 [==============================] - 7s 254ms/step - loss: 0.2297 - accuracy: 0.9418 - val_loss: 0.0836 - val_accuracy: 0.9826\n",
      "Epoch 3/10\n",
      "27/27 [==============================] - 7s 257ms/step - loss: 0.2077 - accuracy: 0.9504 - val_loss: 0.0548 - val_accuracy: 0.9860\n",
      "Epoch 4/10\n",
      "27/27 [==============================] - 7s 268ms/step - loss: 0.2091 - accuracy: 0.9518 - val_loss: 0.0846 - val_accuracy: 0.9819\n",
      "Epoch 5/10\n",
      "27/27 [==============================] - 7s 263ms/step - loss: 0.1637 - accuracy: 0.9585 - val_loss: 0.0745 - val_accuracy: 0.9832\n",
      "Epoch 6/10\n",
      "27/27 [==============================] - 7s 254ms/step - loss: 0.1400 - accuracy: 0.9648 - val_loss: 0.0513 - val_accuracy: 0.9877\n",
      "Epoch 7/10\n",
      "27/27 [==============================] - 7s 255ms/step - loss: 0.1163 - accuracy: 0.9685 - val_loss: 0.0773 - val_accuracy: 0.9824\n",
      "Epoch 8/10\n",
      "27/27 [==============================] - 7s 255ms/step - loss: 0.1170 - accuracy: 0.9739 - val_loss: 0.0655 - val_accuracy: 0.9835\n",
      "Epoch 9/10\n",
      "27/27 [==============================] - 7s 254ms/step - loss: 0.0982 - accuracy: 0.9773 - val_loss: 0.0756 - val_accuracy: 0.9818\n",
      "Epoch 10/10\n",
      "27/27 [==============================] - 7s 254ms/step - loss: 0.0942 - accuracy: 0.9726 - val_loss: 0.1043 - val_accuracy: 0.9783\n",
      "Duration: 0:01:09.722916\n"
     ]
    }
   ],
   "source": [
    "print(n) #4\n",
    "models_lsa[n].fit_model(image_sets_lsa[n],label_sets_lsa[n],x_val,y_val)\n",
    "n = n+1"
   ]
  },
  {
   "cell_type": "code",
   "execution_count": 37,
   "id": "68bcdd19",
   "metadata": {},
   "outputs": [
    {
     "name": "stdout",
     "output_type": "stream",
     "text": [
      "5\n",
      "Epoch 1/10\n",
      "32/32 [==============================] - 9s 239ms/step - loss: 0.4646 - accuracy: 0.9159 - val_loss: 0.0664 - val_accuracy: 0.9851\n",
      "Epoch 2/10\n",
      "32/32 [==============================] - 7s 230ms/step - loss: 0.2364 - accuracy: 0.9443 - val_loss: 0.0766 - val_accuracy: 0.9830\n",
      "Epoch 3/10\n",
      "32/32 [==============================] - 7s 229ms/step - loss: 0.1691 - accuracy: 0.9557 - val_loss: 0.0522 - val_accuracy: 0.9869\n",
      "Epoch 4/10\n",
      "32/32 [==============================] - 7s 230ms/step - loss: 0.1255 - accuracy: 0.9719 - val_loss: 0.0490 - val_accuracy: 0.9871\n",
      "Epoch 5/10\n",
      "32/32 [==============================] - 7s 230ms/step - loss: 0.1250 - accuracy: 0.9687 - val_loss: 0.0587 - val_accuracy: 0.9857\n",
      "Epoch 6/10\n",
      "32/32 [==============================] - 7s 228ms/step - loss: 0.1152 - accuracy: 0.9739 - val_loss: 0.0741 - val_accuracy: 0.9816\n",
      "Epoch 7/10\n",
      "32/32 [==============================] - 7s 229ms/step - loss: 0.1381 - accuracy: 0.9698 - val_loss: 0.0518 - val_accuracy: 0.9866\n",
      "Epoch 8/10\n",
      "32/32 [==============================] - 7s 231ms/step - loss: 0.1020 - accuracy: 0.9757 - val_loss: 0.0577 - val_accuracy: 0.9862\n",
      "Epoch 9/10\n",
      "32/32 [==============================] - 7s 230ms/step - loss: 0.0975 - accuracy: 0.9704 - val_loss: 0.0639 - val_accuracy: 0.9849\n",
      "Epoch 10/10\n",
      "32/32 [==============================] - 7s 230ms/step - loss: 0.1167 - accuracy: 0.9704 - val_loss: 0.0551 - val_accuracy: 0.9868\n",
      "Duration: 0:01:13.755488\n"
     ]
    }
   ],
   "source": [
    "print(n)\n",
    "models_lsa[n].fit_model(image_sets_lsa[n],label_sets_lsa[n],x_val,y_val)\n",
    "n = n+1"
   ]
  },
  {
   "cell_type": "code",
   "execution_count": 38,
   "id": "39a60446",
   "metadata": {},
   "outputs": [
    {
     "name": "stdout",
     "output_type": "stream",
     "text": [
      "6\n",
      "Epoch 1/10\n",
      "38/38 [==============================] - 10s 221ms/step - loss: 0.3692 - accuracy: 0.9305 - val_loss: 0.0950 - val_accuracy: 0.9764\n",
      "Epoch 2/10\n",
      "38/38 [==============================] - 8s 205ms/step - loss: 0.2152 - accuracy: 0.9472 - val_loss: 0.0508 - val_accuracy: 0.9861\n",
      "Epoch 3/10\n",
      "38/38 [==============================] - 8s 207ms/step - loss: 0.1952 - accuracy: 0.9549 - val_loss: 0.0762 - val_accuracy: 0.9838\n",
      "Epoch 4/10\n",
      "38/38 [==============================] - 8s 206ms/step - loss: 0.1337 - accuracy: 0.9656 - val_loss: 0.2151 - val_accuracy: 0.9564\n",
      "Epoch 5/10\n",
      "38/38 [==============================] - 8s 207ms/step - loss: 0.1777 - accuracy: 0.9534 - val_loss: 0.0953 - val_accuracy: 0.9774\n",
      "Epoch 6/10\n",
      "38/38 [==============================] - 8s 206ms/step - loss: 0.1583 - accuracy: 0.9603 - val_loss: 0.0475 - val_accuracy: 0.9876\n",
      "Epoch 7/10\n",
      "38/38 [==============================] - 8s 205ms/step - loss: 0.1049 - accuracy: 0.9743 - val_loss: 0.0879 - val_accuracy: 0.9798\n",
      "Epoch 8/10\n",
      "38/38 [==============================] - 8s 207ms/step - loss: 0.1167 - accuracy: 0.9743 - val_loss: 0.0587 - val_accuracy: 0.9862\n",
      "Epoch 9/10\n",
      "38/38 [==============================] - 8s 207ms/step - loss: 0.0703 - accuracy: 0.9815 - val_loss: 0.1020 - val_accuracy: 0.9821\n",
      "Epoch 10/10\n",
      "38/38 [==============================] - 8s 207ms/step - loss: 0.0824 - accuracy: 0.9785 - val_loss: 0.0558 - val_accuracy: 0.9862\n",
      "Duration: 0:01:19.291950\n"
     ]
    }
   ],
   "source": [
    "print(n)\n",
    "models_lsa[n].fit_model(image_sets_lsa[n],label_sets_lsa[n],x_val,y_val)\n",
    "n = n+1"
   ]
  },
  {
   "cell_type": "code",
   "execution_count": 39,
   "id": "a6ca03ba",
   "metadata": {},
   "outputs": [
    {
     "name": "stdout",
     "output_type": "stream",
     "text": [
      "7\n",
      "Epoch 1/10\n",
      "43/43 [==============================] - 10s 201ms/step - loss: 0.3608 - accuracy: 0.9322 - val_loss: 0.0618 - val_accuracy: 0.9857\n",
      "Epoch 2/10\n",
      "43/43 [==============================] - 8s 193ms/step - loss: 0.1832 - accuracy: 0.9536 - val_loss: 0.0622 - val_accuracy: 0.9855\n",
      "Epoch 3/10\n",
      "43/43 [==============================] - 8s 194ms/step - loss: 0.1391 - accuracy: 0.9631 - val_loss: 0.0498 - val_accuracy: 0.9869\n",
      "Epoch 4/10\n",
      "43/43 [==============================] - 8s 193ms/step - loss: 0.1103 - accuracy: 0.9685 - val_loss: 0.0809 - val_accuracy: 0.9834\n",
      "Epoch 5/10\n",
      "43/43 [==============================] - 8s 193ms/step - loss: 0.1194 - accuracy: 0.9730 - val_loss: 0.0571 - val_accuracy: 0.9859\n",
      "Epoch 6/10\n",
      "43/43 [==============================] - 8s 194ms/step - loss: 0.1177 - accuracy: 0.9684 - val_loss: 0.0542 - val_accuracy: 0.9862\n",
      "Epoch 7/10\n",
      "43/43 [==============================] - 8s 194ms/step - loss: 0.1062 - accuracy: 0.9699 - val_loss: 0.0990 - val_accuracy: 0.9805\n",
      "Epoch 8/10\n",
      "43/43 [==============================] - 8s 192ms/step - loss: 0.0950 - accuracy: 0.9735 - val_loss: 0.0962 - val_accuracy: 0.9813\n",
      "Epoch 9/10\n",
      "43/43 [==============================] - 8s 198ms/step - loss: 0.1211 - accuracy: 0.9722 - val_loss: 0.0614 - val_accuracy: 0.9862\n",
      "Epoch 10/10\n",
      "43/43 [==============================] - 8s 197ms/step - loss: 0.0818 - accuracy: 0.9799 - val_loss: 0.0808 - val_accuracy: 0.9819\n",
      "Duration: 0:01:24.130450\n"
     ]
    }
   ],
   "source": [
    "print(n)\n",
    "models_lsa[n].fit_model(image_sets_lsa[n],label_sets_lsa[n],x_val,y_val)\n",
    "n = n+1"
   ]
  },
  {
   "cell_type": "code",
   "execution_count": 40,
   "id": "26c6cdaf",
   "metadata": {},
   "outputs": [
    {
     "name": "stdout",
     "output_type": "stream",
     "text": [
      "8\n",
      "Epoch 1/10\n",
      "48/48 [==============================] - 10s 191ms/step - loss: 0.3522 - accuracy: 0.9391 - val_loss: 0.0452 - val_accuracy: 0.9868\n",
      "Epoch 2/10\n",
      "48/48 [==============================] - 9s 183ms/step - loss: 0.1768 - accuracy: 0.9567 - val_loss: 0.0422 - val_accuracy: 0.9885\n",
      "Epoch 3/10\n",
      "48/48 [==============================] - 9s 188ms/step - loss: 0.1244 - accuracy: 0.9663 - val_loss: 0.0718 - val_accuracy: 0.9834\n",
      "Epoch 4/10\n",
      "48/48 [==============================] - 9s 188ms/step - loss: 0.1252 - accuracy: 0.9674 - val_loss: 0.0501 - val_accuracy: 0.9871\n",
      "Epoch 5/10\n",
      "48/48 [==============================] - 9s 188ms/step - loss: 0.1178 - accuracy: 0.9620 - val_loss: 0.0590 - val_accuracy: 0.9856\n",
      "Epoch 6/10\n",
      "48/48 [==============================] - 9s 188ms/step - loss: 0.0939 - accuracy: 0.9732 - val_loss: 0.0488 - val_accuracy: 0.9869\n",
      "Epoch 7/10\n",
      "48/48 [==============================] - 9s 189ms/step - loss: 0.1044 - accuracy: 0.9746 - val_loss: 0.0452 - val_accuracy: 0.9889\n",
      "Epoch 8/10\n",
      "48/48 [==============================] - 9s 190ms/step - loss: 0.1011 - accuracy: 0.9747 - val_loss: 0.1064 - val_accuracy: 0.9797\n",
      "Epoch 9/10\n",
      "48/48 [==============================] - 9s 189ms/step - loss: 0.1064 - accuracy: 0.9710 - val_loss: 0.0520 - val_accuracy: 0.9858\n",
      "Epoch 10/10\n",
      "48/48 [==============================] - 9s 190ms/step - loss: 0.0627 - accuracy: 0.9808 - val_loss: 0.0670 - val_accuracy: 0.9861\n",
      "Duration: 0:01:30.903229\n"
     ]
    }
   ],
   "source": [
    "print(n)\n",
    "models_lsa[n].fit_model(image_sets_lsa[n],label_sets_lsa[n],x_val,y_val)\n",
    "n = n+1"
   ]
  },
  {
   "cell_type": "code",
   "execution_count": 41,
   "id": "3a6dfa93",
   "metadata": {},
   "outputs": [
    {
     "name": "stdout",
     "output_type": "stream",
     "text": [
      "9\n",
      "Epoch 1/10\n",
      "54/54 [==============================] - 11s 182ms/step - loss: 0.2415 - accuracy: 0.9459 - val_loss: 0.0508 - val_accuracy: 0.9867\n",
      "Epoch 2/10\n",
      "54/54 [==============================] - 10s 180ms/step - loss: 0.1844 - accuracy: 0.9581 - val_loss: 0.0432 - val_accuracy: 0.9887\n",
      "Epoch 3/10\n",
      "54/54 [==============================] - 10s 179ms/step - loss: 0.1470 - accuracy: 0.9651 - val_loss: 0.0431 - val_accuracy: 0.9896\n",
      "Epoch 4/10\n",
      "54/54 [==============================] - 10s 182ms/step - loss: 0.1245 - accuracy: 0.9725 - val_loss: 0.1145 - val_accuracy: 0.9781\n",
      "Epoch 5/10\n",
      "54/54 [==============================] - 10s 181ms/step - loss: 0.1103 - accuracy: 0.9729 - val_loss: 0.0648 - val_accuracy: 0.9839\n",
      "Epoch 6/10\n",
      "54/54 [==============================] - 10s 182ms/step - loss: 0.1156 - accuracy: 0.9695 - val_loss: 0.0537 - val_accuracy: 0.9865\n",
      "Epoch 7/10\n",
      "54/54 [==============================] - 10s 183ms/step - loss: 0.0965 - accuracy: 0.9765 - val_loss: 0.0553 - val_accuracy: 0.9859\n",
      "Epoch 8/10\n",
      "54/54 [==============================] - 10s 184ms/step - loss: 0.0870 - accuracy: 0.9734 - val_loss: 0.0400 - val_accuracy: 0.9885\n",
      "Epoch 9/10\n",
      "54/54 [==============================] - 10s 183ms/step - loss: 0.0774 - accuracy: 0.9799 - val_loss: 0.0938 - val_accuracy: 0.9809\n",
      "Epoch 10/10\n",
      "54/54 [==============================] - 10s 185ms/step - loss: 0.0697 - accuracy: 0.9798 - val_loss: 0.0496 - val_accuracy: 0.9866\n",
      "Duration: 0:01:38.700894\n"
     ]
    }
   ],
   "source": [
    "#\n",
    "print(n)\n",
    "models_lsa[n].fit_model(image_sets_lsa[n],label_sets_lsa[n],x_val,y_val)\n",
    "n = n+1"
   ]
  },
  {
   "cell_type": "code",
   "execution_count": 42,
   "id": "2974fe90",
   "metadata": {},
   "outputs": [
    {
     "name": "stdout",
     "output_type": "stream",
     "text": [
      "10\n",
      "Epoch 1/10\n",
      "59/59 [==============================] - 12s 178ms/step - loss: 0.2797 - accuracy: 0.9428 - val_loss: 0.0442 - val_accuracy: 0.9879\n",
      "Epoch 2/10\n",
      "59/59 [==============================] - 11s 181ms/step - loss: 0.1364 - accuracy: 0.9613 - val_loss: 0.0542 - val_accuracy: 0.9862\n",
      "Epoch 3/10\n",
      "59/59 [==============================] - 10s 179ms/step - loss: 0.1344 - accuracy: 0.9668 - val_loss: 0.0628 - val_accuracy: 0.9831\n",
      "Epoch 4/10\n",
      "59/59 [==============================] - 11s 180ms/step - loss: 0.1436 - accuracy: 0.9632 - val_loss: 0.0578 - val_accuracy: 0.9870\n",
      "Epoch 5/10\n",
      "59/59 [==============================] - 11s 180ms/step - loss: 0.0975 - accuracy: 0.9747 - val_loss: 0.0437 - val_accuracy: 0.9878\n",
      "Epoch 6/10\n",
      "59/59 [==============================] - 11s 184ms/step - loss: 0.1012 - accuracy: 0.9740 - val_loss: 0.0539 - val_accuracy: 0.9870\n",
      "Epoch 7/10\n",
      "59/59 [==============================] - 11s 183ms/step - loss: 0.0843 - accuracy: 0.9785 - val_loss: 0.0616 - val_accuracy: 0.9856\n",
      "Epoch 8/10\n",
      "59/59 [==============================] - 11s 183ms/step - loss: 0.0893 - accuracy: 0.9780 - val_loss: 0.0622 - val_accuracy: 0.9848\n",
      "Epoch 9/10\n",
      "59/59 [==============================] - 11s 183ms/step - loss: 0.0928 - accuracy: 0.9731 - val_loss: 0.0520 - val_accuracy: 0.9869\n",
      "Epoch 10/10\n",
      "59/59 [==============================] - 11s 184ms/step - loss: 0.0697 - accuracy: 0.9769 - val_loss: 0.0818 - val_accuracy: 0.9816\n",
      "Duration: 0:01:47.640945\n"
     ]
    }
   ],
   "source": [
    "print(n)\n",
    "models_lsa[n].fit_model(image_sets_lsa[n],label_sets_lsa[n],x_val,y_val)\n",
    "n = n+1"
   ]
  },
  {
   "cell_type": "code",
   "execution_count": 43,
   "id": "84013f49",
   "metadata": {},
   "outputs": [
    {
     "name": "stdout",
     "output_type": "stream",
     "text": [
      "11\n",
      "Epoch 1/10\n",
      "64/64 [==============================] - 13s 177ms/step - loss: 0.2538 - accuracy: 0.9435 - val_loss: 0.0656 - val_accuracy: 0.9836\n",
      "Epoch 2/10\n",
      "64/64 [==============================] - 11s 176ms/step - loss: 0.1690 - accuracy: 0.9572 - val_loss: 0.0412 - val_accuracy: 0.9878\n",
      "Epoch 3/10\n",
      "64/64 [==============================] - 11s 176ms/step - loss: 0.1559 - accuracy: 0.9661 - val_loss: 0.0607 - val_accuracy: 0.9860\n",
      "Epoch 4/10\n",
      "64/64 [==============================] - 11s 181ms/step - loss: 0.1137 - accuracy: 0.9696 - val_loss: 0.0470 - val_accuracy: 0.9864\n",
      "Epoch 5/10\n",
      "64/64 [==============================] - 11s 179ms/step - loss: 0.1009 - accuracy: 0.9713 - val_loss: 0.0560 - val_accuracy: 0.9863\n",
      "Epoch 6/10\n",
      "64/64 [==============================] - 11s 175ms/step - loss: 0.0917 - accuracy: 0.9765 - val_loss: 0.0930 - val_accuracy: 0.9804\n",
      "Epoch 7/10\n",
      "64/64 [==============================] - 11s 178ms/step - loss: 0.0992 - accuracy: 0.9769 - val_loss: 0.0609 - val_accuracy: 0.9851\n",
      "Epoch 8/10\n",
      "64/64 [==============================] - 11s 176ms/step - loss: 0.1036 - accuracy: 0.9773 - val_loss: 0.0653 - val_accuracy: 0.9849\n",
      "Epoch 9/10\n",
      "64/64 [==============================] - 11s 176ms/step - loss: 0.1004 - accuracy: 0.9712 - val_loss: 0.0567 - val_accuracy: 0.9861\n",
      "Epoch 10/10\n",
      "64/64 [==============================] - 11s 176ms/step - loss: 0.0597 - accuracy: 0.9807 - val_loss: 0.0566 - val_accuracy: 0.9868\n",
      "Duration: 0:01:53.935077\n"
     ]
    }
   ],
   "source": [
    "print(n)\n",
    "models_lsa[n].fit_model(image_sets_lsa[n],label_sets_lsa[n],x_val,y_val)\n",
    "n = n+1"
   ]
  },
  {
   "cell_type": "code",
   "execution_count": 44,
   "id": "55e7d60b",
   "metadata": {},
   "outputs": [
    {
     "name": "stdout",
     "output_type": "stream",
     "text": [
      "12\n",
      "Epoch 1/10\n",
      "70/70 [==============================] - 13s 168ms/step - loss: 0.2112 - accuracy: 0.9540 - val_loss: 0.0684 - val_accuracy: 0.9845\n",
      "Epoch 2/10\n",
      "70/70 [==============================] - 12s 168ms/step - loss: 0.1423 - accuracy: 0.9611 - val_loss: 0.0644 - val_accuracy: 0.9834\n",
      "Epoch 3/10\n",
      "70/70 [==============================] - 12s 168ms/step - loss: 0.1509 - accuracy: 0.9593 - val_loss: 0.0824 - val_accuracy: 0.9814\n",
      "Epoch 4/10\n",
      "70/70 [==============================] - 12s 168ms/step - loss: 0.1343 - accuracy: 0.9681 - val_loss: 0.0553 - val_accuracy: 0.9843\n",
      "Epoch 5/10\n",
      "70/70 [==============================] - 12s 169ms/step - loss: 0.1032 - accuracy: 0.9719 - val_loss: 0.0463 - val_accuracy: 0.9881\n",
      "Epoch 6/10\n",
      "70/70 [==============================] - 12s 169ms/step - loss: 0.0978 - accuracy: 0.9729 - val_loss: 0.0600 - val_accuracy: 0.9839\n",
      "Epoch 7/10\n",
      "70/70 [==============================] - 12s 170ms/step - loss: 0.0788 - accuracy: 0.9798 - val_loss: 0.0426 - val_accuracy: 0.9882\n",
      "Epoch 8/10\n",
      "70/70 [==============================] - 12s 168ms/step - loss: 0.0865 - accuracy: 0.9765 - val_loss: 0.0533 - val_accuracy: 0.9857\n",
      "Epoch 9/10\n",
      "70/70 [==============================] - 12s 170ms/step - loss: 0.0884 - accuracy: 0.9786 - val_loss: 0.0619 - val_accuracy: 0.9854\n",
      "Epoch 10/10\n",
      "70/70 [==============================] - 12s 169ms/step - loss: 0.0519 - accuracy: 0.9844 - val_loss: 0.0610 - val_accuracy: 0.9845\n",
      "Duration: 0:01:58.644846\n"
     ]
    }
   ],
   "source": [
    "print(n)\n",
    "models_lsa[n].fit_model(image_sets_lsa[n],label_sets_lsa[n],x_val,y_val)\n",
    "n = n+1"
   ]
  },
  {
   "cell_type": "code",
   "execution_count": 45,
   "id": "8bb45aa3",
   "metadata": {},
   "outputs": [
    {
     "name": "stdout",
     "output_type": "stream",
     "text": [
      "13\n",
      "Epoch 1/10\n",
      "75/75 [==============================] - 14s 165ms/step - loss: 0.2376 - accuracy: 0.9511 - val_loss: 0.1285 - val_accuracy: 0.9744\n",
      "Epoch 2/10\n",
      "75/75 [==============================] - 12s 165ms/step - loss: 0.1616 - accuracy: 0.9602 - val_loss: 0.0707 - val_accuracy: 0.9829\n",
      "Epoch 3/10\n",
      "75/75 [==============================] - 12s 165ms/step - loss: 0.1128 - accuracy: 0.9740 - val_loss: 0.0495 - val_accuracy: 0.9877\n",
      "Epoch 4/10\n",
      "75/75 [==============================] - 12s 164ms/step - loss: 0.1059 - accuracy: 0.9742 - val_loss: 0.0747 - val_accuracy: 0.9813\n",
      "Epoch 5/10\n",
      "75/75 [==============================] - 12s 165ms/step - loss: 0.1242 - accuracy: 0.9707 - val_loss: 0.0639 - val_accuracy: 0.9853\n",
      "Epoch 6/10\n",
      "75/75 [==============================] - 12s 165ms/step - loss: 0.1013 - accuracy: 0.9769 - val_loss: 0.0622 - val_accuracy: 0.9864\n",
      "Epoch 7/10\n",
      "75/75 [==============================] - 12s 167ms/step - loss: 0.0929 - accuracy: 0.9760 - val_loss: 0.0554 - val_accuracy: 0.9853\n",
      "Epoch 8/10\n",
      "75/75 [==============================] - 13s 170ms/step - loss: 0.0833 - accuracy: 0.9799 - val_loss: 0.0612 - val_accuracy: 0.9862\n",
      "Epoch 9/10\n",
      "75/75 [==============================] - 12s 166ms/step - loss: 0.0801 - accuracy: 0.9787 - val_loss: 0.0546 - val_accuracy: 0.9861\n",
      "Epoch 10/10\n",
      "75/75 [==============================] - 12s 164ms/step - loss: 0.0726 - accuracy: 0.9826 - val_loss: 0.0537 - val_accuracy: 0.9866\n",
      "Duration: 0:02:04.787434\n"
     ]
    }
   ],
   "source": [
    "print(n)\n",
    "models_lsa[n].fit_model(image_sets_lsa[n],label_sets_lsa[n],x_val,y_val)\n",
    "n = n+1"
   ]
  },
  {
   "cell_type": "code",
   "execution_count": 46,
   "id": "ffbe2e9c",
   "metadata": {},
   "outputs": [
    {
     "name": "stdout",
     "output_type": "stream",
     "text": [
      "14\n",
      "Epoch 1/10\n",
      "80/80 [==============================] - 14s 160ms/step - loss: 0.2513 - accuracy: 0.9526 - val_loss: 0.0410 - val_accuracy: 0.9888\n",
      "Epoch 2/10\n",
      "80/80 [==============================] - 13s 160ms/step - loss: 0.1374 - accuracy: 0.9636 - val_loss: 0.0533 - val_accuracy: 0.9858\n",
      "Epoch 3/10\n",
      "80/80 [==============================] - 13s 161ms/step - loss: 0.1232 - accuracy: 0.9651 - val_loss: 0.0421 - val_accuracy: 0.9876\n",
      "Epoch 4/10\n",
      "80/80 [==============================] - 13s 161ms/step - loss: 0.1176 - accuracy: 0.9722 - val_loss: 0.1739 - val_accuracy: 0.9834\n",
      "Epoch 5/10\n",
      "80/80 [==============================] - 13s 161ms/step - loss: 0.1190 - accuracy: 0.9705 - val_loss: 0.0526 - val_accuracy: 0.9857\n",
      "Epoch 6/10\n",
      "80/80 [==============================] - 13s 162ms/step - loss: 0.0937 - accuracy: 0.9768 - val_loss: 0.0655 - val_accuracy: 0.9854\n",
      "Epoch 7/10\n",
      "80/80 [==============================] - 13s 161ms/step - loss: 0.0827 - accuracy: 0.9769 - val_loss: 0.0492 - val_accuracy: 0.9864\n",
      "Epoch 8/10\n",
      "80/80 [==============================] - 13s 162ms/step - loss: 0.0853 - accuracy: 0.9761 - val_loss: 0.0528 - val_accuracy: 0.9866\n",
      "Epoch 9/10\n",
      "80/80 [==============================] - 13s 160ms/step - loss: 0.0779 - accuracy: 0.9803 - val_loss: 0.0493 - val_accuracy: 0.9874\n",
      "Epoch 10/10\n",
      "80/80 [==============================] - 13s 162ms/step - loss: 0.0815 - accuracy: 0.9780 - val_loss: 0.0622 - val_accuracy: 0.9848\n",
      "Duration: 0:02:09.433875\n"
     ]
    }
   ],
   "source": [
    "#\n",
    "print(n)\n",
    "models_lsa[n].fit_model(image_sets_lsa[n],label_sets_lsa[n],x_val,y_val)\n",
    "n = n+1"
   ]
  },
  {
   "cell_type": "code",
   "execution_count": 47,
   "id": "ebdd2dda",
   "metadata": {},
   "outputs": [
    {
     "name": "stdout",
     "output_type": "stream",
     "text": [
      "15\n",
      "Epoch 1/10\n",
      "85/85 [==============================] - 15s 156ms/step - loss: 0.2121 - accuracy: 0.9529 - val_loss: 0.0568 - val_accuracy: 0.9864\n",
      "Epoch 2/10\n",
      "85/85 [==============================] - 13s 157ms/step - loss: 0.1569 - accuracy: 0.9663 - val_loss: 0.0567 - val_accuracy: 0.9866\n",
      "Epoch 3/10\n",
      "85/85 [==============================] - 13s 156ms/step - loss: 0.1321 - accuracy: 0.9675 - val_loss: 0.0449 - val_accuracy: 0.9878\n",
      "Epoch 4/10\n",
      "85/85 [==============================] - 13s 156ms/step - loss: 0.1218 - accuracy: 0.9726 - val_loss: 0.0540 - val_accuracy: 0.9862\n",
      "Epoch 5/10\n",
      "85/85 [==============================] - 13s 157ms/step - loss: 0.1184 - accuracy: 0.9721 - val_loss: 0.0533 - val_accuracy: 0.9850\n",
      "Epoch 6/10\n",
      "85/85 [==============================] - 13s 155ms/step - loss: 0.1118 - accuracy: 0.9702 - val_loss: 0.0772 - val_accuracy: 0.9832\n",
      "Epoch 7/10\n",
      "85/85 [==============================] - 13s 158ms/step - loss: 0.1071 - accuracy: 0.9713 - val_loss: 0.0506 - val_accuracy: 0.9861\n",
      "Epoch 8/10\n",
      "85/85 [==============================] - 13s 157ms/step - loss: 0.0835 - accuracy: 0.9778 - val_loss: 0.0545 - val_accuracy: 0.9866\n",
      "Epoch 9/10\n",
      "85/85 [==============================] - 13s 157ms/step - loss: 0.0926 - accuracy: 0.9785 - val_loss: 0.0501 - val_accuracy: 0.9863\n",
      "Epoch 10/10\n",
      "85/85 [==============================] - 13s 157ms/step - loss: 0.0779 - accuracy: 0.9791 - val_loss: 0.0624 - val_accuracy: 0.9848\n",
      "Duration: 0:02:13.998966\n"
     ]
    }
   ],
   "source": [
    "print(n)\n",
    "models_lsa[n].fit_model(image_sets_lsa[n],label_sets_lsa[n],x_val,y_val)\n",
    "n = n+1"
   ]
  },
  {
   "cell_type": "code",
   "execution_count": 48,
   "id": "1a22ae4c",
   "metadata": {},
   "outputs": [
    {
     "name": "stdout",
     "output_type": "stream",
     "text": [
      "16\n",
      "Epoch 1/10\n",
      "91/91 [==============================] - 15s 153ms/step - loss: 0.2482 - accuracy: 0.9465 - val_loss: 0.0521 - val_accuracy: 0.9874\n",
      "Epoch 2/10\n",
      "91/91 [==============================] - 15s 164ms/step - loss: 0.1577 - accuracy: 0.9634 - val_loss: 0.0515 - val_accuracy: 0.9865\n",
      "Epoch 3/10\n",
      "91/91 [==============================] - 15s 169ms/step - loss: 0.1192 - accuracy: 0.9718 - val_loss: 0.0435 - val_accuracy: 0.9889\n",
      "Epoch 4/10\n",
      "91/91 [==============================] - 15s 169ms/step - loss: 0.0971 - accuracy: 0.9734 - val_loss: 0.0523 - val_accuracy: 0.9861\n",
      "Epoch 5/10\n",
      "91/91 [==============================] - 15s 168ms/step - loss: 0.1239 - accuracy: 0.9735 - val_loss: 0.0486 - val_accuracy: 0.9871\n",
      "Epoch 6/10\n",
      "91/91 [==============================] - 15s 169ms/step - loss: 0.0954 - accuracy: 0.9738 - val_loss: 0.0575 - val_accuracy: 0.9855\n",
      "Epoch 7/10\n",
      "91/91 [==============================] - 15s 169ms/step - loss: 0.0722 - accuracy: 0.9782 - val_loss: 0.0734 - val_accuracy: 0.9840\n",
      "Epoch 8/10\n",
      "91/91 [==============================] - 15s 169ms/step - loss: 0.0854 - accuracy: 0.9789 - val_loss: 0.0661 - val_accuracy: 0.9850\n",
      "Epoch 9/10\n",
      "91/91 [==============================] - 15s 169ms/step - loss: 0.0904 - accuracy: 0.9787 - val_loss: 0.1072 - val_accuracy: 0.9784\n",
      "Epoch 10/10\n",
      "91/91 [==============================] - 15s 169ms/step - loss: 0.0784 - accuracy: 0.9818 - val_loss: 0.0488 - val_accuracy: 0.9856\n",
      "Duration: 0:02:32.578633\n"
     ]
    }
   ],
   "source": [
    "print(n)\n",
    "models_lsa[n].fit_model(image_sets_lsa[n],label_sets_lsa[n],x_val,y_val)\n",
    "n = n+1"
   ]
  },
  {
   "cell_type": "code",
   "execution_count": 49,
   "id": "08a857e6",
   "metadata": {},
   "outputs": [
    {
     "name": "stdout",
     "output_type": "stream",
     "text": [
      "17\n",
      "Epoch 1/10\n",
      "96/96 [==============================] - 18s 167ms/step - loss: 0.2522 - accuracy: 0.9631 - val_loss: 0.0585 - val_accuracy: 0.9867\n",
      "Epoch 2/10\n",
      "96/96 [==============================] - 16s 167ms/step - loss: 0.1446 - accuracy: 0.9678 - val_loss: 0.0607 - val_accuracy: 0.9860\n",
      "Epoch 3/10\n",
      "96/96 [==============================] - 16s 167ms/step - loss: 0.1361 - accuracy: 0.9709 - val_loss: 0.0401 - val_accuracy: 0.9888\n",
      "Epoch 4/10\n",
      "96/96 [==============================] - 16s 165ms/step - loss: 0.1139 - accuracy: 0.9723 - val_loss: 0.0493 - val_accuracy: 0.9880\n",
      "Epoch 5/10\n",
      "96/96 [==============================] - 16s 165ms/step - loss: 0.0953 - accuracy: 0.9733 - val_loss: 0.0571 - val_accuracy: 0.9862\n",
      "Epoch 6/10\n",
      "96/96 [==============================] - 16s 166ms/step - loss: 0.0859 - accuracy: 0.9774 - val_loss: 0.0444 - val_accuracy: 0.9873\n",
      "Epoch 7/10\n",
      "96/96 [==============================] - 16s 166ms/step - loss: 0.0738 - accuracy: 0.9791 - val_loss: 0.0640 - val_accuracy: 0.9839\n",
      "Epoch 8/10\n",
      "96/96 [==============================] - 16s 166ms/step - loss: 0.0831 - accuracy: 0.9765 - val_loss: 0.0506 - val_accuracy: 0.9860\n",
      "Epoch 9/10\n",
      "96/96 [==============================] - 16s 168ms/step - loss: 0.0705 - accuracy: 0.9797 - val_loss: 0.0489 - val_accuracy: 0.9872\n",
      "Epoch 10/10\n",
      "96/96 [==============================] - 16s 167ms/step - loss: 0.0708 - accuracy: 0.9771 - val_loss: 0.0469 - val_accuracy: 0.9870\n",
      "Duration: 0:02:40.830390\n"
     ]
    }
   ],
   "source": [
    "print(n)\n",
    "models_lsa[n].fit_model(image_sets_lsa[n],label_sets_lsa[n],x_val,y_val)\n",
    "n = n+1"
   ]
  },
  {
   "cell_type": "code",
   "execution_count": 50,
   "id": "f6957df9",
   "metadata": {},
   "outputs": [
    {
     "name": "stdout",
     "output_type": "stream",
     "text": [
      "18\n",
      "Epoch 1/10\n",
      "101/101 [==============================] - 18s 164ms/step - loss: 0.2161 - accuracy: 0.9563 - val_loss: 0.0422 - val_accuracy: 0.9877\n",
      "Epoch 2/10\n",
      "101/101 [==============================] - 17s 165ms/step - loss: 0.1322 - accuracy: 0.9654 - val_loss: 0.0446 - val_accuracy: 0.9888\n",
      "Epoch 3/10\n",
      "101/101 [==============================] - 16s 163ms/step - loss: 0.1248 - accuracy: 0.9743 - val_loss: 0.0571 - val_accuracy: 0.9871\n",
      "Epoch 4/10\n",
      "101/101 [==============================] - 16s 164ms/step - loss: 0.1178 - accuracy: 0.9732 - val_loss: 0.0496 - val_accuracy: 0.9853\n",
      "Epoch 5/10\n",
      "101/101 [==============================] - 16s 163ms/step - loss: 0.0981 - accuracy: 0.9759 - val_loss: 0.0425 - val_accuracy: 0.9877\n",
      "Epoch 6/10\n",
      "101/101 [==============================] - 17s 164ms/step - loss: 0.0946 - accuracy: 0.9762 - val_loss: 0.0548 - val_accuracy: 0.9857\n",
      "Epoch 7/10\n",
      "101/101 [==============================] - 16s 164ms/step - loss: 0.0773 - accuracy: 0.9802 - val_loss: 0.0584 - val_accuracy: 0.9849\n",
      "Epoch 8/10\n",
      "101/101 [==============================] - 16s 164ms/step - loss: 0.0888 - accuracy: 0.9765 - val_loss: 0.0448 - val_accuracy: 0.9883\n",
      "Epoch 9/10\n",
      "101/101 [==============================] - 16s 162ms/step - loss: 0.0660 - accuracy: 0.9828 - val_loss: 0.0556 - val_accuracy: 0.9836\n",
      "Epoch 10/10\n",
      "101/101 [==============================] - 16s 163ms/step - loss: 0.0746 - accuracy: 0.9806 - val_loss: 0.0597 - val_accuracy: 0.9846\n",
      "Duration: 0:02:46.563965\n"
     ]
    }
   ],
   "source": [
    "print(n)\n",
    "models_lsa[n].fit_model(image_sets_lsa[n],label_sets_lsa[n],x_val,y_val)\n",
    "n = n+1"
   ]
  },
  {
   "cell_type": "code",
   "execution_count": 51,
   "id": "c1080b16",
   "metadata": {},
   "outputs": [
    {
     "name": "stdout",
     "output_type": "stream",
     "text": [
      "19\n",
      "Epoch 1/10\n",
      "110/110 [==============================] - 19s 160ms/step - loss: 0.1801 - accuracy: 0.9609 - val_loss: 0.0449 - val_accuracy: 0.9875\n",
      "Epoch 2/10\n",
      "110/110 [==============================] - 17s 158ms/step - loss: 0.1299 - accuracy: 0.9650 - val_loss: 0.0857 - val_accuracy: 0.9822\n",
      "Epoch 3/10\n",
      "110/110 [==============================] - 17s 159ms/step - loss: 0.1241 - accuracy: 0.9704 - val_loss: 0.0503 - val_accuracy: 0.9876\n",
      "Epoch 4/10\n",
      "110/110 [==============================] - 17s 158ms/step - loss: 0.1200 - accuracy: 0.9720 - val_loss: 0.0426 - val_accuracy: 0.9883\n",
      "Epoch 5/10\n",
      "110/110 [==============================] - 17s 159ms/step - loss: 0.0949 - accuracy: 0.9765 - val_loss: 0.0432 - val_accuracy: 0.9875\n",
      "Epoch 6/10\n",
      "110/110 [==============================] - 17s 158ms/step - loss: 0.0814 - accuracy: 0.9764 - val_loss: 0.0667 - val_accuracy: 0.9836\n",
      "Epoch 7/10\n",
      "110/110 [==============================] - 17s 159ms/step - loss: 0.0934 - accuracy: 0.9764 - val_loss: 0.0598 - val_accuracy: 0.9847\n",
      "Epoch 8/10\n",
      "110/110 [==============================] - 18s 163ms/step - loss: 0.0782 - accuracy: 0.9774 - val_loss: 0.0592 - val_accuracy: 0.9860\n",
      "Epoch 9/10\n",
      "110/110 [==============================] - 18s 160ms/step - loss: 0.0726 - accuracy: 0.9807 - val_loss: 0.0612 - val_accuracy: 0.9856\n",
      "Epoch 10/10\n",
      "110/110 [==============================] - 18s 161ms/step - loss: 0.0630 - accuracy: 0.9821 - val_loss: 0.0590 - val_accuracy: 0.9864\n",
      "Duration: 0:02:56.758819\n"
     ]
    }
   ],
   "source": [
    "#\n",
    "print(n)\n",
    "models_lsa[n].fit_model(image_sets_lsa[n],label_sets_lsa[n],x_val,y_val)\n",
    "n = n+1"
   ]
  },
  {
   "cell_type": "code",
   "execution_count": 52,
   "id": "9cf4ae1e",
   "metadata": {},
   "outputs": [
    {
     "name": "stdout",
     "output_type": "stream",
     "text": [
      "INFO:tensorflow:Assets written to: D:/models/aug_22/mnist/C3/mnist_model_c3_aug_lsa_e1_0\\assets\n",
      "Model has been saved\n",
      "INFO:tensorflow:Assets written to: D:/models/aug_22/mnist/C3/mnist_model_c3_aug_lsa_e1_1\\assets\n",
      "Model has been saved\n",
      "INFO:tensorflow:Assets written to: D:/models/aug_22/mnist/C3/mnist_model_c3_aug_lsa_e1_2\\assets\n",
      "Model has been saved\n",
      "INFO:tensorflow:Assets written to: D:/models/aug_22/mnist/C3/mnist_model_c3_aug_lsa_e1_3\\assets\n",
      "Model has been saved\n",
      "INFO:tensorflow:Assets written to: D:/models/aug_22/mnist/C3/mnist_model_c3_aug_lsa_e1_4\\assets\n",
      "Model has been saved\n",
      "INFO:tensorflow:Assets written to: D:/models/aug_22/mnist/C3/mnist_model_c3_aug_lsa_e1_5\\assets\n",
      "Model has been saved\n",
      "INFO:tensorflow:Assets written to: D:/models/aug_22/mnist/C3/mnist_model_c3_aug_lsa_e1_6\\assets\n",
      "Model has been saved\n",
      "INFO:tensorflow:Assets written to: D:/models/aug_22/mnist/C3/mnist_model_c3_aug_lsa_e1_7\\assets\n",
      "Model has been saved\n",
      "INFO:tensorflow:Assets written to: D:/models/aug_22/mnist/C3/mnist_model_c3_aug_lsa_e1_8\\assets\n",
      "Model has been saved\n",
      "INFO:tensorflow:Assets written to: D:/models/aug_22/mnist/C3/mnist_model_c3_aug_lsa_e1_9\\assets\n",
      "Model has been saved\n",
      "INFO:tensorflow:Assets written to: D:/models/aug_22/mnist/C3/mnist_model_c3_aug_lsa_e1_10\\assets\n",
      "Model has been saved\n",
      "INFO:tensorflow:Assets written to: D:/models/aug_22/mnist/C3/mnist_model_c3_aug_lsa_e1_11\\assets\n",
      "Model has been saved\n",
      "INFO:tensorflow:Assets written to: D:/models/aug_22/mnist/C3/mnist_model_c3_aug_lsa_e1_12\\assets\n",
      "Model has been saved\n",
      "INFO:tensorflow:Assets written to: D:/models/aug_22/mnist/C3/mnist_model_c3_aug_lsa_e1_13\\assets\n",
      "Model has been saved\n",
      "INFO:tensorflow:Assets written to: D:/models/aug_22/mnist/C3/mnist_model_c3_aug_lsa_e1_14\\assets\n",
      "Model has been saved\n",
      "INFO:tensorflow:Assets written to: D:/models/aug_22/mnist/C3/mnist_model_c3_aug_lsa_e1_15\\assets\n",
      "Model has been saved\n",
      "INFO:tensorflow:Assets written to: D:/models/aug_22/mnist/C3/mnist_model_c3_aug_lsa_e1_16\\assets\n",
      "Model has been saved\n",
      "INFO:tensorflow:Assets written to: D:/models/aug_22/mnist/C3/mnist_model_c3_aug_lsa_e1_17\\assets\n",
      "Model has been saved\n",
      "INFO:tensorflow:Assets written to: D:/models/aug_22/mnist/C3/mnist_model_c3_aug_lsa_e1_18\\assets\n",
      "Model has been saved\n",
      "INFO:tensorflow:Assets written to: D:/models/aug_22/mnist/C3/mnist_model_c3_aug_lsa_e1_19\\assets\n",
      "Model has been saved\n"
     ]
    }
   ],
   "source": [
    "#new_model_lsa_dir  = \"D:/models/gtsrb_models/C3/gtsrb_model_c3_sep_lsa_e1\"\n",
    "new_model_lsa_dir  = \"D:/models/aug_22/\"+dataset+\"/C3/\"+dataset+\"_model_c3_aug_lsa_e1\"\n",
    "#new_model_lsa_dir  = \"C:/Users/fjdurlop/Documents/upc/models/\"+dataset+\"/C3/\"+dataset+\"_model_c3_aug_lsa_e1\"\n",
    "\n",
    "i=0\n",
    "\n",
    "for model in models_lsa:\n",
    "    model.save(new_model_lsa_dir+\"_\"+str(i))\n",
    "    i+=1"
   ]
  },
  {
   "cell_type": "code",
   "execution_count": 53,
   "id": "52746ba6",
   "metadata": {},
   "outputs": [],
   "source": [
    "import gc"
   ]
  },
  {
   "cell_type": "code",
   "execution_count": 54,
   "id": "b7733ff4",
   "metadata": {},
   "outputs": [],
   "source": [
    "try:\n",
    "    del lsa_values\n",
    "    del top_images_by_lsa\n",
    "    del top_labels_by_lsa\n",
    "    del image_sets_lsa\n",
    "    del label_sets_lsa\n",
    "    del models_lsa\n",
    "except:\n",
    "    print(\"Error\")"
   ]
  },
  {
   "cell_type": "code",
   "execution_count": 55,
   "id": "402aa433",
   "metadata": {},
   "outputs": [
    {
     "data": {
      "text/plain": [
       "314922"
      ]
     },
     "execution_count": 55,
     "metadata": {},
     "output_type": "execute_result"
    }
   ],
   "source": [
    "gc.collect()"
   ]
  },
  {
   "cell_type": "markdown",
   "id": "a13ef06e",
   "metadata": {},
   "source": [
    "## Training guided by DSA"
   ]
  },
  {
   "cell_type": "code",
   "execution_count": 56,
   "id": "14fc6a14",
   "metadata": {},
   "outputs": [],
   "source": [
    "dsa_direction = \"C:/Users/fjdur/Documents/upc-july/data/\"+dataset+\"/dsa_values.npy\""
   ]
  },
  {
   "cell_type": "code",
   "execution_count": 57,
   "id": "9781aafd",
   "metadata": {},
   "outputs": [],
   "source": [
    "#dsa_direction = \"C:/Users/fjdurlop/Documents/upc/upc-july/data/\"+dataset+\"/dsa_values.npy\""
   ]
  },
  {
   "cell_type": "code",
   "execution_count": 58,
   "id": "585cd8f2",
   "metadata": {},
   "outputs": [
    {
     "name": "stdout",
     "output_type": "stream",
     "text": [
      "6999\n"
     ]
    }
   ],
   "source": [
    "dsa_values = np.load(dsa_direction)[len(x_train):] \n",
    "print(len(dsa_values))"
   ]
  },
  {
   "cell_type": "code",
   "execution_count": 59,
   "id": "5944946f",
   "metadata": {},
   "outputs": [],
   "source": [
    "top_images_by_dsa = utils.get_x_of_indexes(list(np.flip(np.argsort(dsa_values))),x_adversary_training)\n",
    "top_labels_by_dsa = utils.get_x_of_indexes(list(np.flip(np.argsort(dsa_values))),y_adversary_training)"
   ]
  },
  {
   "cell_type": "code",
   "execution_count": 60,
   "id": "099c7fa2",
   "metadata": {},
   "outputs": [
    {
     "name": "stdout",
     "output_type": "stream",
     "text": [
      "0 :\n",
      "0  ->  340\n",
      "340\n",
      "1 :\n",
      "0  ->  680\n",
      "680\n",
      "2 :\n",
      "0  ->  1020\n",
      "1020\n",
      "3 :\n",
      "0  ->  1360\n",
      "1360\n",
      "4 :\n",
      "0  ->  1700\n",
      "1700\n",
      "5 :\n",
      "0  ->  2040\n",
      "2040\n",
      "6 :\n",
      "0  ->  2380\n",
      "2380\n",
      "7 :\n",
      "0  ->  2720\n",
      "2720\n",
      "8 :\n",
      "0  ->  3060\n",
      "3060\n",
      "9 :\n",
      "0  ->  3400\n",
      "3400\n",
      "10 :\n",
      "0  ->  3740\n",
      "3740\n",
      "11 :\n",
      "0  ->  4080\n",
      "4080\n",
      "12 :\n",
      "0  ->  4420\n",
      "4420\n",
      "13 :\n",
      "0  ->  4760\n",
      "4760\n",
      "14 :\n",
      "0  ->  5100\n",
      "5100\n",
      "15 :\n",
      "0  ->  5440\n",
      "5440\n",
      "16 :\n",
      "0  ->  5780\n",
      "5780\n",
      "17 :\n",
      "0  ->  6120\n",
      "6120\n",
      "18 :\n",
      "0  ->  6460\n",
      "6460\n",
      "19 :\n",
      "Last\n",
      "0  ->  6999\n",
      "6999\n"
     ]
    }
   ],
   "source": [
    "m = n_data_points\n",
    "n = 0\n",
    "image_sets_dsa = []\n",
    "label_sets_dsa = []\n",
    "\n",
    "\n",
    "for i in range((len(top_images_by_dsa)//m)):\n",
    "    print(i,\":\")\n",
    "    if (i+1 >= ((len(top_images_by_dsa)//m))):\n",
    "        print(\"Last\")\n",
    "        print(0,\" -> \",n+m+(len(top_images_by_dsa)%m))\n",
    "        top_images_by_dsa_n = np.array(top_images_by_dsa[:n+m+(len(top_images_by_dsa)%m)])\n",
    "        top_labels_by_dsa_n = np.array(top_labels_by_dsa[:n+m+(len(top_images_by_dsa)%m)])\n",
    "    else:\n",
    "        print(0,\" -> \",m+n)\n",
    "        top_images_by_dsa_n = np.array(top_images_by_dsa[:n+m])\n",
    "        top_labels_by_dsa_n = np.array(top_labels_by_dsa[:n+m])\n",
    "    image_sets_dsa.append(top_images_by_dsa_n)\n",
    "    label_sets_dsa.append(top_labels_by_dsa_n)\n",
    "    print(len(top_images_by_dsa_n))\n",
    "    n += m\n",
    "\n"
   ]
  },
  {
   "cell_type": "code",
   "execution_count": 61,
   "id": "8713d09c",
   "metadata": {
    "scrolled": true
   },
   "outputs": [
    {
     "name": "stdout",
     "output_type": "stream",
     "text": [
      "C:/Users/fjdur/Documents/upc-july/models/models2\n",
      "0 :\n",
      "Model loaded correctly\n",
      "Model compiled\n",
      "1 :\n",
      "Model loaded correctly\n",
      "Model compiled\n",
      "2 :\n",
      "Model loaded correctly\n",
      "Model compiled\n",
      "3 :\n",
      "Model loaded correctly\n",
      "Model compiled\n",
      "4 :\n",
      "Model loaded correctly\n",
      "Model compiled\n",
      "5 :\n",
      "Model loaded correctly\n",
      "Model compiled\n",
      "6 :\n",
      "Model loaded correctly\n",
      "Model compiled\n",
      "7 :\n",
      "Model loaded correctly\n",
      "Model compiled\n",
      "8 :\n",
      "Model loaded correctly\n",
      "Model compiled\n",
      "9 :\n",
      "Model loaded correctly\n",
      "Model compiled\n",
      "10 :\n",
      "Model loaded correctly\n",
      "Model compiled\n",
      "11 :\n",
      "Model loaded correctly\n",
      "Model compiled\n",
      "12 :\n",
      "Model loaded correctly\n",
      "Model compiled\n",
      "13 :\n",
      "Model loaded correctly\n",
      "Model compiled\n",
      "14 :\n",
      "Model loaded correctly\n",
      "Model compiled\n",
      "15 :\n",
      "Model loaded correctly\n",
      "Model compiled\n",
      "16 :\n",
      "Model loaded correctly\n",
      "Model compiled\n",
      "17 :\n",
      "Model loaded correctly\n",
      "Model compiled\n",
      "18 :\n",
      "Model loaded correctly\n",
      "Model compiled\n",
      "19 :\n",
      "Model loaded correctly\n",
      "Model compiled\n"
     ]
    }
   ],
   "source": [
    "print(model_dir)\n",
    "\n",
    "models_dsa = []\n",
    "for i in range(len(label_sets_dsa)):\n",
    "    print(i,\":\")\n",
    "    model = utils.My_model(dataset,True,model_dir)\n",
    "    model.compile_model()\n",
    "    models_dsa.append(model)\n"
   ]
  },
  {
   "cell_type": "code",
   "execution_count": 62,
   "id": "9990e037",
   "metadata": {},
   "outputs": [
    {
     "name": "stdout",
     "output_type": "stream",
     "text": [
      "0\n",
      "Epoch 1/10\n",
      "6/6 [==============================] - 6s 964ms/step - loss: 0.7587 - accuracy: 0.8145 - val_loss: 0.1668 - val_accuracy: 0.9779\n",
      "Epoch 2/10\n",
      "6/6 [==============================] - 5s 911ms/step - loss: 0.5281 - accuracy: 0.9065 - val_loss: 0.0533 - val_accuracy: 0.9856\n",
      "Epoch 3/10\n",
      "6/6 [==============================] - 5s 916ms/step - loss: 0.3028 - accuracy: 0.9154 - val_loss: 0.0500 - val_accuracy: 0.9883\n",
      "Epoch 4/10\n",
      "6/6 [==============================] - 5s 920ms/step - loss: 0.1708 - accuracy: 0.9455 - val_loss: 0.0845 - val_accuracy: 0.9849\n",
      "Epoch 5/10\n",
      "6/6 [==============================] - 5s 922ms/step - loss: 0.1713 - accuracy: 0.9487 - val_loss: 0.0678 - val_accuracy: 0.9849\n",
      "Epoch 6/10\n",
      "6/6 [==============================] - 5s 923ms/step - loss: 0.2010 - accuracy: 0.9595 - val_loss: 0.0642 - val_accuracy: 0.9861\n",
      "Epoch 7/10\n",
      "6/6 [==============================] - 5s 928ms/step - loss: 0.2988 - accuracy: 0.9128 - val_loss: 0.0638 - val_accuracy: 0.9856\n",
      "Epoch 8/10\n",
      "6/6 [==============================] - 5s 933ms/step - loss: 0.1842 - accuracy: 0.9388 - val_loss: 0.0526 - val_accuracy: 0.9865\n",
      "Epoch 9/10\n",
      "6/6 [==============================] - 5s 932ms/step - loss: 0.2687 - accuracy: 0.9174 - val_loss: 0.0633 - val_accuracy: 0.9861\n",
      "Epoch 10/10\n",
      "6/6 [==============================] - 5s 927ms/step - loss: 0.1034 - accuracy: 0.9600 - val_loss: 0.0813 - val_accuracy: 0.9844\n",
      "Duration: 0:00:48.628907\n"
     ]
    }
   ],
   "source": [
    "n=0\n",
    "print(n)\n",
    "\n",
    "models_dsa[n].fit_model(image_sets_dsa[n],label_sets_dsa[n],x_val,y_val)\n",
    "n = n+1"
   ]
  },
  {
   "cell_type": "code",
   "execution_count": 63,
   "id": "c24fa024",
   "metadata": {},
   "outputs": [
    {
     "name": "stdout",
     "output_type": "stream",
     "text": [
      "1\n",
      "Epoch 1/10\n",
      "11/11 [==============================] - 7s 551ms/step - loss: 0.8084 - accuracy: 0.8371 - val_loss: 0.0757 - val_accuracy: 0.9849\n",
      "Epoch 2/10\n",
      "11/11 [==============================] - 5s 512ms/step - loss: 0.3320 - accuracy: 0.9298 - val_loss: 0.0652 - val_accuracy: 0.9844\n",
      "Epoch 3/10\n",
      "11/11 [==============================] - 5s 517ms/step - loss: 0.3124 - accuracy: 0.9210 - val_loss: 0.0742 - val_accuracy: 0.9826\n",
      "Epoch 4/10\n",
      "11/11 [==============================] - 5s 514ms/step - loss: 0.3463 - accuracy: 0.9353 - val_loss: 0.0808 - val_accuracy: 0.9849\n",
      "Epoch 5/10\n",
      "11/11 [==============================] - 5s 520ms/step - loss: 0.2537 - accuracy: 0.9421 - val_loss: 0.0474 - val_accuracy: 0.9872\n",
      "Epoch 6/10\n",
      "11/11 [==============================] - 5s 525ms/step - loss: 0.2294 - accuracy: 0.9293 - val_loss: 0.0524 - val_accuracy: 0.9879\n",
      "Epoch 7/10\n",
      "11/11 [==============================] - 5s 519ms/step - loss: 0.1804 - accuracy: 0.9590 - val_loss: 0.0401 - val_accuracy: 0.9889\n",
      "Epoch 8/10\n",
      "11/11 [==============================] - 5s 516ms/step - loss: 0.2239 - accuracy: 0.9374 - val_loss: 0.0717 - val_accuracy: 0.9855\n",
      "Epoch 9/10\n",
      "11/11 [==============================] - 5s 513ms/step - loss: 0.1480 - accuracy: 0.9504 - val_loss: 0.0662 - val_accuracy: 0.9854\n",
      "Epoch 10/10\n",
      "11/11 [==============================] - 5s 516ms/step - loss: 0.1437 - accuracy: 0.9551 - val_loss: 0.0716 - val_accuracy: 0.9861\n",
      "Duration: 0:00:54.346389\n"
     ]
    }
   ],
   "source": [
    "n=1\n",
    "print(n)\n",
    "\n",
    "models_dsa[n].fit_model(image_sets_dsa[n],label_sets_dsa[n],x_val,y_val)\n",
    "n = n+1"
   ]
  },
  {
   "cell_type": "code",
   "execution_count": 64,
   "id": "cfb68060",
   "metadata": {},
   "outputs": [
    {
     "name": "stdout",
     "output_type": "stream",
     "text": [
      "2\n",
      "Epoch 1/10\n",
      "16/16 [==============================] - 7s 398ms/step - loss: 0.5816 - accuracy: 0.8847 - val_loss: 0.0511 - val_accuracy: 0.9876\n",
      "Epoch 2/10\n",
      "16/16 [==============================] - 6s 377ms/step - loss: 0.4154 - accuracy: 0.9048 - val_loss: 0.0480 - val_accuracy: 0.9880\n",
      "Epoch 3/10\n",
      "16/16 [==============================] - 6s 377ms/step - loss: 0.2460 - accuracy: 0.9429 - val_loss: 0.0581 - val_accuracy: 0.9862\n",
      "Epoch 4/10\n",
      "16/16 [==============================] - 6s 378ms/step - loss: 0.2916 - accuracy: 0.9245 - val_loss: 0.0554 - val_accuracy: 0.9866\n",
      "Epoch 5/10\n",
      "16/16 [==============================] - 6s 377ms/step - loss: 0.2161 - accuracy: 0.9520 - val_loss: 0.0416 - val_accuracy: 0.9872\n",
      "Epoch 6/10\n",
      "16/16 [==============================] - 6s 379ms/step - loss: 0.1851 - accuracy: 0.9581 - val_loss: 0.0481 - val_accuracy: 0.9873\n",
      "Epoch 7/10\n",
      "16/16 [==============================] - 6s 378ms/step - loss: 0.2076 - accuracy: 0.9369 - val_loss: 0.0548 - val_accuracy: 0.9867\n",
      "Epoch 8/10\n",
      "16/16 [==============================] - 6s 379ms/step - loss: 0.1735 - accuracy: 0.9440 - val_loss: 0.0593 - val_accuracy: 0.9863\n",
      "Epoch 9/10\n",
      "16/16 [==============================] - 6s 376ms/step - loss: 0.1721 - accuracy: 0.9596 - val_loss: 0.0570 - val_accuracy: 0.9863\n",
      "Epoch 10/10\n",
      "16/16 [==============================] - 6s 379ms/step - loss: 0.1321 - accuracy: 0.9646 - val_loss: 0.0642 - val_accuracy: 0.9864\n",
      "Duration: 0:00:59.219003\n"
     ]
    }
   ],
   "source": [
    "print(n)\n",
    "models_dsa[n].fit_model(image_sets_dsa[n],label_sets_dsa[n],x_val,y_val)\n",
    "n = n+1"
   ]
  },
  {
   "cell_type": "code",
   "execution_count": 65,
   "id": "3c5d20d6",
   "metadata": {},
   "outputs": [
    {
     "name": "stdout",
     "output_type": "stream",
     "text": [
      "3\n",
      "Epoch 1/10\n",
      "22/22 [==============================] - 8s 310ms/step - loss: 0.4464 - accuracy: 0.9035 - val_loss: 0.0619 - val_accuracy: 0.9854\n",
      "Epoch 2/10\n",
      "22/22 [==============================] - 6s 296ms/step - loss: 0.2770 - accuracy: 0.9460 - val_loss: 0.0682 - val_accuracy: 0.9844\n",
      "Epoch 3/10\n",
      "22/22 [==============================] - 6s 295ms/step - loss: 0.2873 - accuracy: 0.9335 - val_loss: 0.0581 - val_accuracy: 0.9864\n",
      "Epoch 4/10\n",
      "22/22 [==============================] - 6s 294ms/step - loss: 0.2048 - accuracy: 0.9508 - val_loss: 0.0681 - val_accuracy: 0.9853\n",
      "Epoch 5/10\n",
      "22/22 [==============================] - 6s 304ms/step - loss: 0.2398 - accuracy: 0.9360 - val_loss: 0.0642 - val_accuracy: 0.9856\n",
      "Epoch 6/10\n",
      "22/22 [==============================] - 6s 303ms/step - loss: 0.1168 - accuracy: 0.9640 - val_loss: 0.0741 - val_accuracy: 0.9841\n",
      "Epoch 7/10\n",
      "22/22 [==============================] - 6s 299ms/step - loss: 0.1286 - accuracy: 0.9627 - val_loss: 0.0587 - val_accuracy: 0.9867\n",
      "Epoch 8/10\n",
      "22/22 [==============================] - 6s 297ms/step - loss: 0.1549 - accuracy: 0.9672 - val_loss: 0.0616 - val_accuracy: 0.9869\n",
      "Epoch 9/10\n",
      "22/22 [==============================] - 6s 298ms/step - loss: 0.1276 - accuracy: 0.9678 - val_loss: 0.0657 - val_accuracy: 0.9874\n",
      "Epoch 10/10\n",
      "22/22 [==============================] - 6s 298ms/step - loss: 0.1209 - accuracy: 0.9650 - val_loss: 0.0669 - val_accuracy: 0.9850\n",
      "Duration: 0:01:05.248537\n"
     ]
    }
   ],
   "source": [
    "print(n)\n",
    "models_dsa[n].fit_model(image_sets_dsa[n],label_sets_dsa[n],x_val,y_val)\n",
    "n = n+1"
   ]
  },
  {
   "cell_type": "code",
   "execution_count": 66,
   "id": "ccb7a03f",
   "metadata": {},
   "outputs": [
    {
     "name": "stdout",
     "output_type": "stream",
     "text": [
      "4\n",
      "Epoch 1/10\n",
      "27/27 [==============================] - 8s 272ms/step - loss: 0.4254 - accuracy: 0.9210 - val_loss: 0.0660 - val_accuracy: 0.9834\n",
      "Epoch 2/10\n",
      "27/27 [==============================] - 7s 259ms/step - loss: 0.2774 - accuracy: 0.9300 - val_loss: 0.0759 - val_accuracy: 0.9831\n",
      "Epoch 3/10\n",
      "27/27 [==============================] - 7s 259ms/step - loss: 0.2278 - accuracy: 0.9470 - val_loss: 0.0525 - val_accuracy: 0.9873\n",
      "Epoch 4/10\n",
      "27/27 [==============================] - 7s 259ms/step - loss: 0.2393 - accuracy: 0.9354 - val_loss: 0.0602 - val_accuracy: 0.9849\n",
      "Epoch 5/10\n",
      "27/27 [==============================] - 7s 260ms/step - loss: 0.1625 - accuracy: 0.9526 - val_loss: 0.0545 - val_accuracy: 0.9866\n",
      "Epoch 6/10\n",
      "27/27 [==============================] - 7s 260ms/step - loss: 0.1477 - accuracy: 0.9673 - val_loss: 0.0804 - val_accuracy: 0.9804\n",
      "Epoch 7/10\n",
      "27/27 [==============================] - 7s 258ms/step - loss: 0.1447 - accuracy: 0.9609 - val_loss: 0.0838 - val_accuracy: 0.9816\n",
      "Epoch 8/10\n",
      "27/27 [==============================] - 7s 259ms/step - loss: 0.1528 - accuracy: 0.9644 - val_loss: 0.0443 - val_accuracy: 0.9876\n",
      "Epoch 9/10\n",
      "27/27 [==============================] - 7s 258ms/step - loss: 0.1027 - accuracy: 0.9626 - val_loss: 0.0557 - val_accuracy: 0.9866\n",
      "Epoch 10/10\n",
      "27/27 [==============================] - 7s 259ms/step - loss: 0.1162 - accuracy: 0.9733 - val_loss: 0.0715 - val_accuracy: 0.9858\n",
      "Duration: 0:01:09.987684\n"
     ]
    }
   ],
   "source": [
    "#\n",
    "print(n)\n",
    "models_dsa[n].fit_model(image_sets_dsa[n],label_sets_dsa[n],x_val,y_val)\n",
    "n = n+1"
   ]
  },
  {
   "cell_type": "code",
   "execution_count": 67,
   "id": "c0e3117a",
   "metadata": {},
   "outputs": [
    {
     "name": "stdout",
     "output_type": "stream",
     "text": [
      "5\n",
      "Epoch 1/10\n",
      "32/32 [==============================] - 9s 252ms/step - loss: 0.3915 - accuracy: 0.9100 - val_loss: 0.0679 - val_accuracy: 0.9840\n",
      "Epoch 2/10\n",
      "32/32 [==============================] - 7s 237ms/step - loss: 0.2460 - accuracy: 0.9503 - val_loss: 0.0574 - val_accuracy: 0.9852\n",
      "Epoch 3/10\n",
      "32/32 [==============================] - 7s 232ms/step - loss: 0.2086 - accuracy: 0.9500 - val_loss: 0.0466 - val_accuracy: 0.9877\n",
      "Epoch 4/10\n",
      "32/32 [==============================] - 7s 234ms/step - loss: 0.1596 - accuracy: 0.9663 - val_loss: 0.0475 - val_accuracy: 0.9878\n",
      "Epoch 5/10\n",
      "32/32 [==============================] - 7s 233ms/step - loss: 0.1618 - accuracy: 0.9545 - val_loss: 0.0590 - val_accuracy: 0.9871\n",
      "Epoch 6/10\n",
      "32/32 [==============================] - 7s 232ms/step - loss: 0.1377 - accuracy: 0.9622 - val_loss: 0.0531 - val_accuracy: 0.9876\n",
      "Epoch 7/10\n",
      "32/32 [==============================] - 7s 233ms/step - loss: 0.1289 - accuracy: 0.9677 - val_loss: 0.0630 - val_accuracy: 0.9863\n",
      "Epoch 8/10\n",
      "32/32 [==============================] - 7s 234ms/step - loss: 0.0832 - accuracy: 0.9774 - val_loss: 0.0533 - val_accuracy: 0.9878\n",
      "Epoch 9/10\n",
      "32/32 [==============================] - 7s 232ms/step - loss: 0.0924 - accuracy: 0.9713 - val_loss: 0.0685 - val_accuracy: 0.9827\n",
      "Epoch 10/10\n",
      "32/32 [==============================] - 7s 233ms/step - loss: 0.0664 - accuracy: 0.9798 - val_loss: 0.0566 - val_accuracy: 0.9866\n",
      "Duration: 0:01:15.438103\n"
     ]
    }
   ],
   "source": [
    "n=5\n",
    "print(n)\n",
    "models_dsa[n].fit_model(image_sets_dsa[n],label_sets_dsa[n],x_val,y_val)\n",
    "n = n+1"
   ]
  },
  {
   "cell_type": "code",
   "execution_count": 68,
   "id": "73dbf589",
   "metadata": {},
   "outputs": [
    {
     "name": "stdout",
     "output_type": "stream",
     "text": [
      "6\n",
      "Epoch 1/10\n",
      "38/38 [==============================] - 9s 217ms/step - loss: 0.3657 - accuracy: 0.9356 - val_loss: 0.0763 - val_accuracy: 0.9835\n",
      "Epoch 2/10\n",
      "38/38 [==============================] - 8s 209ms/step - loss: 0.2104 - accuracy: 0.9511 - val_loss: 0.0816 - val_accuracy: 0.9826\n",
      "Epoch 3/10\n",
      "38/38 [==============================] - 8s 213ms/step - loss: 0.1753 - accuracy: 0.9537 - val_loss: 0.0681 - val_accuracy: 0.9840\n",
      "Epoch 4/10\n",
      "38/38 [==============================] - 8s 210ms/step - loss: 0.1461 - accuracy: 0.9655 - val_loss: 0.0615 - val_accuracy: 0.9862\n",
      "Epoch 5/10\n",
      "38/38 [==============================] - 8s 213ms/step - loss: 0.1319 - accuracy: 0.9632 - val_loss: 0.0646 - val_accuracy: 0.9849\n",
      "Epoch 6/10\n",
      "38/38 [==============================] - 8s 211ms/step - loss: 0.1174 - accuracy: 0.9644 - val_loss: 0.0605 - val_accuracy: 0.9858\n",
      "Epoch 7/10\n",
      "38/38 [==============================] - 8s 211ms/step - loss: 0.1191 - accuracy: 0.9719 - val_loss: 0.0580 - val_accuracy: 0.9854\n",
      "Epoch 8/10\n",
      "38/38 [==============================] - 8s 212ms/step - loss: 0.1199 - accuracy: 0.9739 - val_loss: 0.0480 - val_accuracy: 0.9881\n",
      "Epoch 9/10\n",
      "38/38 [==============================] - 8s 217ms/step - loss: 0.0951 - accuracy: 0.9770 - val_loss: 0.0560 - val_accuracy: 0.9872\n",
      "Epoch 10/10\n",
      "38/38 [==============================] - 8s 213ms/step - loss: 0.0974 - accuracy: 0.9743 - val_loss: 0.1420 - val_accuracy: 0.9728\n",
      "Duration: 0:01:21.052327\n"
     ]
    }
   ],
   "source": [
    "print(n)\n",
    "models_dsa[n].fit_model(image_sets_dsa[n],label_sets_dsa[n],x_val,y_val)\n",
    "n = n+1"
   ]
  },
  {
   "cell_type": "code",
   "execution_count": 69,
   "id": "096fa5ed",
   "metadata": {},
   "outputs": [
    {
     "name": "stdout",
     "output_type": "stream",
     "text": [
      "7\n",
      "Epoch 1/10\n",
      "43/43 [==============================] - 10s 204ms/step - loss: 0.3514 - accuracy: 0.9411 - val_loss: 0.0473 - val_accuracy: 0.9881\n",
      "Epoch 2/10\n",
      "43/43 [==============================] - 9s 202ms/step - loss: 0.2031 - accuracy: 0.9506 - val_loss: 0.0657 - val_accuracy: 0.9837\n",
      "Epoch 3/10\n",
      "43/43 [==============================] - 9s 202ms/step - loss: 0.1595 - accuracy: 0.9597 - val_loss: 0.0557 - val_accuracy: 0.9869\n",
      "Epoch 4/10\n",
      "43/43 [==============================] - 9s 202ms/step - loss: 0.1375 - accuracy: 0.9660 - val_loss: 0.0419 - val_accuracy: 0.9890\n",
      "Epoch 5/10\n",
      "43/43 [==============================] - 9s 202ms/step - loss: 0.1058 - accuracy: 0.9715 - val_loss: 0.0496 - val_accuracy: 0.9881\n",
      "Epoch 6/10\n",
      "43/43 [==============================] - 9s 203ms/step - loss: 0.0897 - accuracy: 0.9745 - val_loss: 0.0414 - val_accuracy: 0.9878\n",
      "Epoch 7/10\n",
      "43/43 [==============================] - 9s 204ms/step - loss: 0.1628 - accuracy: 0.9679 - val_loss: 0.0489 - val_accuracy: 0.9873\n",
      "Epoch 8/10\n",
      "43/43 [==============================] - 9s 204ms/step - loss: 0.0898 - accuracy: 0.9714 - val_loss: 0.0580 - val_accuracy: 0.9841\n",
      "Epoch 9/10\n",
      "43/43 [==============================] - 9s 205ms/step - loss: 0.0916 - accuracy: 0.9792 - val_loss: 0.0668 - val_accuracy: 0.9806\n",
      "Epoch 10/10\n",
      "43/43 [==============================] - 9s 206ms/step - loss: 0.0876 - accuracy: 0.9766 - val_loss: 0.0752 - val_accuracy: 0.9859\n",
      "Duration: 0:01:27.764448\n"
     ]
    }
   ],
   "source": [
    "print(n)\n",
    "models_dsa[n].fit_model(image_sets_dsa[n],label_sets_dsa[n],x_val,y_val)\n",
    "n = n+1"
   ]
  },
  {
   "cell_type": "code",
   "execution_count": 70,
   "id": "7bb81a44",
   "metadata": {},
   "outputs": [
    {
     "name": "stdout",
     "output_type": "stream",
     "text": [
      "8\n",
      "Epoch 1/10\n",
      "48/48 [==============================] - 11s 194ms/step - loss: 0.2598 - accuracy: 0.9430 - val_loss: 0.0752 - val_accuracy: 0.9829\n",
      "Epoch 2/10\n",
      "48/48 [==============================] - 9s 196ms/step - loss: 0.1723 - accuracy: 0.9592 - val_loss: 0.0857 - val_accuracy: 0.9804\n",
      "Epoch 3/10\n",
      "48/48 [==============================] - 9s 198ms/step - loss: 0.1299 - accuracy: 0.9664 - val_loss: 0.0500 - val_accuracy: 0.9876\n",
      "Epoch 4/10\n",
      "48/48 [==============================] - 9s 199ms/step - loss: 0.1246 - accuracy: 0.9703 - val_loss: 0.0521 - val_accuracy: 0.9877\n",
      "Epoch 5/10\n",
      "48/48 [==============================] - 9s 199ms/step - loss: 0.1203 - accuracy: 0.9658 - val_loss: 0.0781 - val_accuracy: 0.9844\n",
      "Epoch 6/10\n",
      "48/48 [==============================] - 9s 199ms/step - loss: 0.0746 - accuracy: 0.9796 - val_loss: 0.0657 - val_accuracy: 0.9863\n",
      "Epoch 7/10\n",
      "48/48 [==============================] - 10s 201ms/step - loss: 0.1136 - accuracy: 0.9713 - val_loss: 0.0520 - val_accuracy: 0.9878\n",
      "Epoch 8/10\n",
      "48/48 [==============================] - 10s 201ms/step - loss: 0.0893 - accuracy: 0.9769 - val_loss: 0.0630 - val_accuracy: 0.9859\n",
      "Epoch 9/10\n",
      "48/48 [==============================] - 10s 203ms/step - loss: 0.0708 - accuracy: 0.9789 - val_loss: 0.0747 - val_accuracy: 0.9858\n",
      "Epoch 10/10\n",
      "48/48 [==============================] - 10s 203ms/step - loss: 0.0746 - accuracy: 0.9807 - val_loss: 0.0515 - val_accuracy: 0.9867\n",
      "Duration: 0:01:35.980540\n"
     ]
    }
   ],
   "source": [
    "print(n)\n",
    "models_dsa[n].fit_model(image_sets_dsa[n],label_sets_dsa[n],x_val,y_val)\n",
    "n = n+1"
   ]
  },
  {
   "cell_type": "code",
   "execution_count": 71,
   "id": "3043bc8f",
   "metadata": {},
   "outputs": [
    {
     "name": "stdout",
     "output_type": "stream",
     "text": [
      "9\n",
      "Epoch 1/10\n",
      "54/54 [==============================] - 12s 191ms/step - loss: 0.2784 - accuracy: 0.9436 - val_loss: 0.0466 - val_accuracy: 0.9867\n",
      "Epoch 2/10\n",
      "54/54 [==============================] - 10s 190ms/step - loss: 0.1613 - accuracy: 0.9616 - val_loss: 0.0742 - val_accuracy: 0.9846\n",
      "Epoch 3/10\n",
      "54/54 [==============================] - 10s 190ms/step - loss: 0.1566 - accuracy: 0.9583 - val_loss: 0.0996 - val_accuracy: 0.9774\n",
      "Epoch 4/10\n",
      "54/54 [==============================] - 10s 191ms/step - loss: 0.1303 - accuracy: 0.9705 - val_loss: 0.0627 - val_accuracy: 0.9866\n",
      "Epoch 5/10\n",
      "54/54 [==============================] - 10s 194ms/step - loss: 0.1207 - accuracy: 0.9652 - val_loss: 0.1300 - val_accuracy: 0.9702\n",
      "Epoch 6/10\n",
      "54/54 [==============================] - 10s 192ms/step - loss: 0.1229 - accuracy: 0.9679 - val_loss: 0.0527 - val_accuracy: 0.9863\n",
      "Epoch 7/10\n",
      "54/54 [==============================] - 10s 194ms/step - loss: 0.0735 - accuracy: 0.9811 - val_loss: 0.1262 - val_accuracy: 0.9714\n",
      "Epoch 8/10\n",
      "54/54 [==============================] - 11s 209ms/step - loss: 0.1105 - accuracy: 0.9758 - val_loss: 0.0472 - val_accuracy: 0.9869\n",
      "Epoch 9/10\n",
      "54/54 [==============================] - 11s 209ms/step - loss: 0.0696 - accuracy: 0.9784 - val_loss: 0.0852 - val_accuracy: 0.9830\n",
      "Epoch 10/10\n",
      "54/54 [==============================] - 11s 202ms/step - loss: 0.0763 - accuracy: 0.9801 - val_loss: 0.0486 - val_accuracy: 0.9868\n",
      "Duration: 0:01:46.446961\n"
     ]
    }
   ],
   "source": [
    "#\n",
    "print(n)\n",
    "models_dsa[n].fit_model(image_sets_dsa[n],label_sets_dsa[n],x_val,y_val)\n",
    "n = n+1"
   ]
  },
  {
   "cell_type": "code",
   "execution_count": 72,
   "id": "38509dfc",
   "metadata": {},
   "outputs": [
    {
     "name": "stdout",
     "output_type": "stream",
     "text": [
      "10\n",
      "Epoch 1/10\n",
      "59/59 [==============================] - 12s 189ms/step - loss: 0.2585 - accuracy: 0.9487 - val_loss: 0.0612 - val_accuracy: 0.9849\n",
      "Epoch 2/10\n",
      "59/59 [==============================] - 11s 187ms/step - loss: 0.1566 - accuracy: 0.9621 - val_loss: 0.0636 - val_accuracy: 0.9838\n",
      "Epoch 3/10\n",
      "59/59 [==============================] - 11s 187ms/step - loss: 0.1409 - accuracy: 0.9615 - val_loss: 0.0684 - val_accuracy: 0.9835\n",
      "Epoch 4/10\n",
      "59/59 [==============================] - 11s 186ms/step - loss: 0.1010 - accuracy: 0.9721 - val_loss: 0.0572 - val_accuracy: 0.9851\n",
      "Epoch 5/10\n",
      "59/59 [==============================] - 11s 186ms/step - loss: 0.1028 - accuracy: 0.9747 - val_loss: 0.0502 - val_accuracy: 0.9877\n",
      "Epoch 6/10\n",
      "59/59 [==============================] - 11s 188ms/step - loss: 0.0876 - accuracy: 0.9749 - val_loss: 0.0431 - val_accuracy: 0.9879\n",
      "Epoch 7/10\n",
      "59/59 [==============================] - 11s 187ms/step - loss: 0.0874 - accuracy: 0.9789 - val_loss: 0.0580 - val_accuracy: 0.9869\n",
      "Epoch 8/10\n",
      "59/59 [==============================] - 11s 188ms/step - loss: 0.0796 - accuracy: 0.9785 - val_loss: 0.0432 - val_accuracy: 0.9868\n",
      "Epoch 9/10\n",
      "59/59 [==============================] - 11s 188ms/step - loss: 0.0529 - accuracy: 0.9842 - val_loss: 0.0530 - val_accuracy: 0.9873\n",
      "Epoch 10/10\n",
      "59/59 [==============================] - 11s 189ms/step - loss: 0.0540 - accuracy: 0.9861 - val_loss: 0.0491 - val_accuracy: 0.9861\n",
      "Duration: 0:01:51.186438\n"
     ]
    }
   ],
   "source": [
    "print(n)\n",
    "models_dsa[n].fit_model(image_sets_dsa[n],label_sets_dsa[n],x_val,y_val)\n",
    "n = n+1"
   ]
  },
  {
   "cell_type": "code",
   "execution_count": 73,
   "id": "2e5bd2b1",
   "metadata": {},
   "outputs": [
    {
     "name": "stdout",
     "output_type": "stream",
     "text": [
      "11\n",
      "Epoch 1/10\n",
      "64/64 [==============================] - 13s 181ms/step - loss: 0.2695 - accuracy: 0.9505 - val_loss: 0.0537 - val_accuracy: 0.9856\n",
      "Epoch 2/10\n",
      "64/64 [==============================] - 11s 181ms/step - loss: 0.1698 - accuracy: 0.9645 - val_loss: 0.0509 - val_accuracy: 0.9866\n",
      "Epoch 3/10\n",
      "64/64 [==============================] - 12s 181ms/step - loss: 0.1285 - accuracy: 0.9713 - val_loss: 0.0431 - val_accuracy: 0.9877\n",
      "Epoch 4/10\n",
      "64/64 [==============================] - 11s 181ms/step - loss: 0.1083 - accuracy: 0.9749 - val_loss: 0.0545 - val_accuracy: 0.9871\n",
      "Epoch 5/10\n",
      "64/64 [==============================] - 11s 180ms/step - loss: 0.1208 - accuracy: 0.9728 - val_loss: 0.0863 - val_accuracy: 0.9817\n",
      "Epoch 6/10\n",
      "64/64 [==============================] - 12s 182ms/step - loss: 0.0981 - accuracy: 0.9768 - val_loss: 0.0617 - val_accuracy: 0.9864\n",
      "Epoch 7/10\n",
      "64/64 [==============================] - 11s 180ms/step - loss: 0.0686 - accuracy: 0.9818 - val_loss: 0.0718 - val_accuracy: 0.9840\n",
      "Epoch 8/10\n",
      "64/64 [==============================] - 11s 181ms/step - loss: 0.0713 - accuracy: 0.9789 - val_loss: 0.0475 - val_accuracy: 0.9868\n",
      "Epoch 9/10\n",
      "64/64 [==============================] - 11s 181ms/step - loss: 0.0676 - accuracy: 0.9844 - val_loss: 0.0775 - val_accuracy: 0.9851\n",
      "Epoch 10/10\n",
      "64/64 [==============================] - 11s 180ms/step - loss: 0.0554 - accuracy: 0.9806 - val_loss: 0.0834 - val_accuracy: 0.9844\n",
      "Duration: 0:01:56.254544\n"
     ]
    }
   ],
   "source": [
    "print(n)\n",
    "models_dsa[n].fit_model(image_sets_dsa[n],label_sets_dsa[n],x_val,y_val)\n",
    "n = n+1"
   ]
  },
  {
   "cell_type": "code",
   "execution_count": 74,
   "id": "8030a6ac",
   "metadata": {},
   "outputs": [
    {
     "name": "stdout",
     "output_type": "stream",
     "text": [
      "12\n",
      "Epoch 1/10\n",
      "70/70 [==============================] - 13s 173ms/step - loss: 0.2693 - accuracy: 0.9494 - val_loss: 0.0412 - val_accuracy: 0.9879\n",
      "Epoch 2/10\n",
      "70/70 [==============================] - 12s 172ms/step - loss: 0.1269 - accuracy: 0.9699 - val_loss: 0.0528 - val_accuracy: 0.9884\n",
      "Epoch 3/10\n",
      "70/70 [==============================] - 12s 172ms/step - loss: 0.1137 - accuracy: 0.9722 - val_loss: 0.0785 - val_accuracy: 0.9842\n",
      "Epoch 4/10\n",
      "70/70 [==============================] - 12s 172ms/step - loss: 0.1143 - accuracy: 0.9730 - val_loss: 0.0962 - val_accuracy: 0.9758\n",
      "Epoch 5/10\n",
      "70/70 [==============================] - 12s 172ms/step - loss: 0.1199 - accuracy: 0.9693 - val_loss: 0.0503 - val_accuracy: 0.9873\n",
      "Epoch 6/10\n",
      "70/70 [==============================] - 12s 174ms/step - loss: 0.0855 - accuracy: 0.9733 - val_loss: 0.0990 - val_accuracy: 0.9789\n",
      "Epoch 7/10\n",
      "70/70 [==============================] - 12s 173ms/step - loss: 0.0843 - accuracy: 0.9798 - val_loss: 0.0808 - val_accuracy: 0.9839\n",
      "Epoch 8/10\n",
      "70/70 [==============================] - 12s 173ms/step - loss: 0.0853 - accuracy: 0.9798 - val_loss: 0.0595 - val_accuracy: 0.9846\n",
      "Epoch 9/10\n",
      "70/70 [==============================] - 12s 173ms/step - loss: 0.0629 - accuracy: 0.9812 - val_loss: 0.0513 - val_accuracy: 0.9869\n",
      "Epoch 10/10\n",
      "70/70 [==============================] - 12s 173ms/step - loss: 0.0607 - accuracy: 0.9816 - val_loss: 0.0508 - val_accuracy: 0.9876\n",
      "Duration: 0:02:01.440924\n"
     ]
    }
   ],
   "source": [
    "print(n)\n",
    "models_dsa[n].fit_model(image_sets_dsa[n],label_sets_dsa[n],x_val,y_val)\n",
    "n = n+1"
   ]
  },
  {
   "cell_type": "code",
   "execution_count": 75,
   "id": "2fb5a3b1",
   "metadata": {},
   "outputs": [
    {
     "name": "stdout",
     "output_type": "stream",
     "text": [
      "13\n",
      "Epoch 1/10\n",
      "75/75 [==============================] - 14s 170ms/step - loss: 0.2616 - accuracy: 0.9434 - val_loss: 0.0494 - val_accuracy: 0.9881\n",
      "Epoch 2/10\n",
      "75/75 [==============================] - 13s 168ms/step - loss: 0.1583 - accuracy: 0.9663 - val_loss: 0.0557 - val_accuracy: 0.9857\n",
      "Epoch 3/10\n",
      "75/75 [==============================] - 13s 169ms/step - loss: 0.1412 - accuracy: 0.9684 - val_loss: 0.0566 - val_accuracy: 0.9841\n",
      "Epoch 4/10\n",
      "75/75 [==============================] - 13s 169ms/step - loss: 0.1081 - accuracy: 0.9731 - val_loss: 0.0569 - val_accuracy: 0.9858\n",
      "Epoch 5/10\n",
      "75/75 [==============================] - 13s 169ms/step - loss: 0.0953 - accuracy: 0.9758 - val_loss: 0.0858 - val_accuracy: 0.9828\n",
      "Epoch 6/10\n",
      "75/75 [==============================] - 13s 170ms/step - loss: 0.1188 - accuracy: 0.9722 - val_loss: 0.0504 - val_accuracy: 0.9869\n",
      "Epoch 7/10\n",
      "75/75 [==============================] - 13s 170ms/step - loss: 0.0818 - accuracy: 0.9772 - val_loss: 0.0521 - val_accuracy: 0.9859\n",
      "Epoch 8/10\n",
      "75/75 [==============================] - 13s 170ms/step - loss: 0.0671 - accuracy: 0.9786 - val_loss: 0.0534 - val_accuracy: 0.9866\n",
      "Epoch 9/10\n",
      "75/75 [==============================] - 13s 170ms/step - loss: 0.0612 - accuracy: 0.9815 - val_loss: 0.0547 - val_accuracy: 0.9855\n",
      "Epoch 10/10\n",
      "75/75 [==============================] - 13s 176ms/step - loss: 0.0606 - accuracy: 0.9843 - val_loss: 0.0660 - val_accuracy: 0.9834\n",
      "Duration: 0:02:08.262463\n"
     ]
    }
   ],
   "source": [
    "print(n)\n",
    "models_dsa[n].fit_model(image_sets_dsa[n],label_sets_dsa[n],x_val,y_val)\n",
    "n = n+1"
   ]
  },
  {
   "cell_type": "code",
   "execution_count": 76,
   "id": "f82df5a9",
   "metadata": {},
   "outputs": [
    {
     "name": "stdout",
     "output_type": "stream",
     "text": [
      "14\n",
      "Epoch 1/10\n",
      "80/80 [==============================] - 14s 166ms/step - loss: 0.2413 - accuracy: 0.9576 - val_loss: 0.0799 - val_accuracy: 0.9846\n",
      "Epoch 2/10\n",
      "80/80 [==============================] - 13s 163ms/step - loss: 0.1374 - accuracy: 0.9680 - val_loss: 0.0617 - val_accuracy: 0.9841\n",
      "Epoch 3/10\n",
      "80/80 [==============================] - 13s 164ms/step - loss: 0.1312 - accuracy: 0.9701 - val_loss: 0.0551 - val_accuracy: 0.9878\n",
      "Epoch 4/10\n",
      "80/80 [==============================] - 13s 164ms/step - loss: 0.1206 - accuracy: 0.9684 - val_loss: 0.0425 - val_accuracy: 0.9881\n",
      "Epoch 5/10\n",
      "80/80 [==============================] - 13s 166ms/step - loss: 0.0967 - accuracy: 0.9751 - val_loss: 0.0703 - val_accuracy: 0.9853\n",
      "Epoch 6/10\n",
      "80/80 [==============================] - 13s 166ms/step - loss: 0.1166 - accuracy: 0.9758 - val_loss: 0.0658 - val_accuracy: 0.9844\n",
      "Epoch 7/10\n",
      "80/80 [==============================] - 13s 165ms/step - loss: 0.0810 - accuracy: 0.9783 - val_loss: 0.0686 - val_accuracy: 0.9836\n",
      "Epoch 8/10\n",
      "80/80 [==============================] - 13s 165ms/step - loss: 0.0778 - accuracy: 0.9794 - val_loss: 0.0502 - val_accuracy: 0.9869\n",
      "Epoch 9/10\n",
      "80/80 [==============================] - 13s 165ms/step - loss: 0.0737 - accuracy: 0.9793 - val_loss: 0.0702 - val_accuracy: 0.9853\n",
      "Epoch 10/10\n",
      "80/80 [==============================] - 13s 166ms/step - loss: 0.0574 - accuracy: 0.9805 - val_loss: 0.0873 - val_accuracy: 0.9804\n",
      "Duration: 0:02:12.790638\n"
     ]
    }
   ],
   "source": [
    "#\n",
    "print(n)\n",
    "models_dsa[n].fit_model(image_sets_dsa[n],label_sets_dsa[n],x_val,y_val)\n",
    "n = n+1"
   ]
  },
  {
   "cell_type": "code",
   "execution_count": 77,
   "id": "614d629a",
   "metadata": {},
   "outputs": [
    {
     "name": "stdout",
     "output_type": "stream",
     "text": [
      "15\n",
      "Epoch 1/10\n",
      "85/85 [==============================] - 15s 165ms/step - loss: 0.2400 - accuracy: 0.9560 - val_loss: 0.0449 - val_accuracy: 0.9885\n",
      "Epoch 2/10\n",
      "85/85 [==============================] - 14s 162ms/step - loss: 0.1320 - accuracy: 0.9658 - val_loss: 0.0425 - val_accuracy: 0.9879\n",
      "Epoch 3/10\n",
      "85/85 [==============================] - 14s 160ms/step - loss: 0.1283 - accuracy: 0.9697 - val_loss: 0.0540 - val_accuracy: 0.9882\n",
      "Epoch 4/10\n",
      "85/85 [==============================] - 14s 163ms/step - loss: 0.0967 - accuracy: 0.9734 - val_loss: 0.0710 - val_accuracy: 0.9848\n",
      "Epoch 5/10\n",
      "85/85 [==============================] - 14s 161ms/step - loss: 0.1071 - accuracy: 0.9757 - val_loss: 0.0559 - val_accuracy: 0.9876\n",
      "Epoch 6/10\n",
      "85/85 [==============================] - 14s 162ms/step - loss: 0.1060 - accuracy: 0.9706 - val_loss: 0.0566 - val_accuracy: 0.9875\n",
      "Epoch 7/10\n",
      "85/85 [==============================] - 14s 162ms/step - loss: 0.0898 - accuracy: 0.9787 - val_loss: 0.0578 - val_accuracy: 0.9865\n",
      "Epoch 8/10\n",
      "85/85 [==============================] - 14s 162ms/step - loss: 0.0940 - accuracy: 0.9792 - val_loss: 0.0499 - val_accuracy: 0.9868\n",
      "Epoch 9/10\n",
      "85/85 [==============================] - 14s 161ms/step - loss: 0.0618 - accuracy: 0.9822 - val_loss: 0.0481 - val_accuracy: 0.9879\n",
      "Epoch 10/10\n",
      "85/85 [==============================] - 14s 162ms/step - loss: 0.0713 - accuracy: 0.9838 - val_loss: 0.0574 - val_accuracy: 0.9875\n",
      "Duration: 0:02:18.325335\n"
     ]
    }
   ],
   "source": [
    "print(n)\n",
    "models_dsa[n].fit_model(image_sets_dsa[n],label_sets_dsa[n],x_val,y_val)\n",
    "n = n+1"
   ]
  },
  {
   "cell_type": "code",
   "execution_count": 78,
   "id": "36499bca",
   "metadata": {},
   "outputs": [
    {
     "name": "stdout",
     "output_type": "stream",
     "text": [
      "16\n",
      "Epoch 1/10\n",
      "91/91 [==============================] - 16s 161ms/step - loss: 0.1972 - accuracy: 0.9556 - val_loss: 0.0907 - val_accuracy: 0.9834\n",
      "Epoch 2/10\n",
      "91/91 [==============================] - 16s 176ms/step - loss: 0.1475 - accuracy: 0.9691 - val_loss: 0.1113 - val_accuracy: 0.9798\n",
      "Epoch 3/10\n",
      "91/91 [==============================] - 16s 174ms/step - loss: 0.1119 - accuracy: 0.9680 - val_loss: 0.0520 - val_accuracy: 0.9876\n",
      "Epoch 4/10\n",
      "91/91 [==============================] - 16s 175ms/step - loss: 0.1081 - accuracy: 0.9720 - val_loss: 0.0582 - val_accuracy: 0.9872\n",
      "Epoch 5/10\n",
      "91/91 [==============================] - 16s 177ms/step - loss: 0.1130 - accuracy: 0.9716 - val_loss: 0.0478 - val_accuracy: 0.9886\n",
      "Epoch 6/10\n",
      "91/91 [==============================] - 17s 185ms/step - loss: 0.0859 - accuracy: 0.9773 - val_loss: 0.0797 - val_accuracy: 0.9796\n",
      "Epoch 7/10\n",
      "91/91 [==============================] - 17s 187ms/step - loss: 0.0803 - accuracy: 0.9770 - val_loss: 0.0446 - val_accuracy: 0.9870\n",
      "Epoch 8/10\n",
      "91/91 [==============================] - 17s 187ms/step - loss: 0.0750 - accuracy: 0.9784 - val_loss: 0.0835 - val_accuracy: 0.9844\n",
      "Epoch 9/10\n",
      "91/91 [==============================] - 17s 185ms/step - loss: 0.0717 - accuracy: 0.9829 - val_loss: 0.0561 - val_accuracy: 0.9873\n",
      "Epoch 10/10\n",
      "91/91 [==============================] - 17s 184ms/step - loss: 0.0702 - accuracy: 0.9837 - val_loss: 0.0568 - val_accuracy: 0.9871\n",
      "Duration: 0:02:43.856957\n"
     ]
    }
   ],
   "source": [
    "print(n)\n",
    "models_dsa[n].fit_model(image_sets_dsa[n],label_sets_dsa[n],x_val,y_val)\n",
    "n = n+1"
   ]
  },
  {
   "cell_type": "code",
   "execution_count": 79,
   "id": "4fdd3d0b",
   "metadata": {},
   "outputs": [
    {
     "name": "stdout",
     "output_type": "stream",
     "text": [
      "17\n",
      "Epoch 1/10\n",
      "96/96 [==============================] - 18s 175ms/step - loss: 0.1929 - accuracy: 0.9607 - val_loss: 0.0597 - val_accuracy: 0.9859\n",
      "Epoch 2/10\n",
      "96/96 [==============================] - 17s 173ms/step - loss: 0.1380 - accuracy: 0.9689 - val_loss: 0.0748 - val_accuracy: 0.9849\n",
      "Epoch 3/10\n",
      "96/96 [==============================] - 17s 173ms/step - loss: 0.1248 - accuracy: 0.9689 - val_loss: 0.0557 - val_accuracy: 0.9878\n",
      "Epoch 4/10\n",
      "96/96 [==============================] - 17s 174ms/step - loss: 0.0976 - accuracy: 0.9745 - val_loss: 0.0526 - val_accuracy: 0.9876\n",
      "Epoch 5/10\n",
      "96/96 [==============================] - 17s 174ms/step - loss: 0.1113 - accuracy: 0.9740 - val_loss: 0.0504 - val_accuracy: 0.9876\n",
      "Epoch 6/10\n",
      "96/96 [==============================] - 17s 176ms/step - loss: 0.0876 - accuracy: 0.9781 - val_loss: 0.0555 - val_accuracy: 0.9867\n",
      "Epoch 7/10\n",
      "96/96 [==============================] - 17s 175ms/step - loss: 0.0820 - accuracy: 0.9762 - val_loss: 0.1642 - val_accuracy: 0.9761\n",
      "Epoch 8/10\n",
      "96/96 [==============================] - 17s 175ms/step - loss: 0.0887 - accuracy: 0.9775 - val_loss: 0.0561 - val_accuracy: 0.9856\n",
      "Epoch 9/10\n",
      "96/96 [==============================] - 17s 175ms/step - loss: 0.0682 - accuracy: 0.9829 - val_loss: 0.0625 - val_accuracy: 0.9851\n",
      "Epoch 10/10\n",
      "96/96 [==============================] - 17s 173ms/step - loss: 0.0700 - accuracy: 0.9823 - val_loss: 0.0595 - val_accuracy: 0.9868\n",
      "Duration: 0:02:48.656680\n"
     ]
    }
   ],
   "source": [
    "print(n)\n",
    "models_dsa[n].fit_model(image_sets_dsa[n],label_sets_dsa[n],x_val,y_val)\n",
    "n = n+1"
   ]
  },
  {
   "cell_type": "code",
   "execution_count": 80,
   "id": "998c89cf",
   "metadata": {},
   "outputs": [
    {
     "name": "stdout",
     "output_type": "stream",
     "text": [
      "18\n",
      "Epoch 1/10\n",
      "101/101 [==============================] - 19s 171ms/step - loss: 0.1876 - accuracy: 0.9557 - val_loss: 0.0553 - val_accuracy: 0.9872\n",
      "Epoch 2/10\n",
      "101/101 [==============================] - 17s 172ms/step - loss: 0.1337 - accuracy: 0.9690 - val_loss: 0.0603 - val_accuracy: 0.9856\n",
      "Epoch 3/10\n",
      "101/101 [==============================] - 17s 171ms/step - loss: 0.1277 - accuracy: 0.9716 - val_loss: 0.0524 - val_accuracy: 0.9877\n",
      "Epoch 4/10\n",
      "101/101 [==============================] - 17s 172ms/step - loss: 0.0867 - accuracy: 0.9773 - val_loss: 0.0535 - val_accuracy: 0.9869\n",
      "Epoch 5/10\n",
      "101/101 [==============================] - 17s 170ms/step - loss: 0.0998 - accuracy: 0.9764 - val_loss: 0.0989 - val_accuracy: 0.9815\n",
      "Epoch 6/10\n",
      "101/101 [==============================] - 17s 172ms/step - loss: 0.0854 - accuracy: 0.9781 - val_loss: 0.0577 - val_accuracy: 0.9841\n",
      "Epoch 7/10\n",
      "101/101 [==============================] - 17s 171ms/step - loss: 0.0805 - accuracy: 0.9796 - val_loss: 0.0604 - val_accuracy: 0.9866\n",
      "Epoch 8/10\n",
      "101/101 [==============================] - 17s 172ms/step - loss: 0.0745 - accuracy: 0.9771 - val_loss: 0.0648 - val_accuracy: 0.9856\n",
      "Epoch 9/10\n",
      "101/101 [==============================] - 17s 171ms/step - loss: 0.0656 - accuracy: 0.9806 - val_loss: 0.0493 - val_accuracy: 0.9869\n",
      "Epoch 10/10\n",
      "101/101 [==============================] - 17s 171ms/step - loss: 0.0538 - accuracy: 0.9843 - val_loss: 0.0567 - val_accuracy: 0.9864\n",
      "Duration: 0:02:54.235736\n"
     ]
    }
   ],
   "source": [
    "print(n)\n",
    "models_dsa[n].fit_model(image_sets_dsa[n],label_sets_dsa[n],x_val,y_val)\n",
    "n = n+1"
   ]
  },
  {
   "cell_type": "code",
   "execution_count": 81,
   "id": "608b6028",
   "metadata": {},
   "outputs": [
    {
     "name": "stdout",
     "output_type": "stream",
     "text": [
      "19\n",
      "Epoch 1/10\n",
      "110/110 [==============================] - 21s 168ms/step - loss: 0.2089 - accuracy: 0.9620 - val_loss: 0.0589 - val_accuracy: 0.9843\n",
      "Epoch 2/10\n",
      "110/110 [==============================] - 18s 168ms/step - loss: 0.1748 - accuracy: 0.9621 - val_loss: 0.0582 - val_accuracy: 0.9842\n",
      "Epoch 3/10\n",
      "110/110 [==============================] - 18s 168ms/step - loss: 0.1124 - accuracy: 0.9746 - val_loss: 0.0580 - val_accuracy: 0.9876\n",
      "Epoch 4/10\n",
      "110/110 [==============================] - 18s 169ms/step - loss: 0.1287 - accuracy: 0.9741 - val_loss: 0.0577 - val_accuracy: 0.9854\n",
      "Epoch 5/10\n",
      "110/110 [==============================] - 18s 169ms/step - loss: 0.0780 - accuracy: 0.9787 - val_loss: 0.0549 - val_accuracy: 0.9866\n",
      "Epoch 6/10\n",
      "110/110 [==============================] - 18s 168ms/step - loss: 0.0885 - accuracy: 0.9739 - val_loss: 0.0616 - val_accuracy: 0.9848\n",
      "Epoch 7/10\n",
      "110/110 [==============================] - 19s 173ms/step - loss: 0.0873 - accuracy: 0.9777 - val_loss: 0.0732 - val_accuracy: 0.9846\n",
      "Epoch 8/10\n",
      "110/110 [==============================] - 18s 168ms/step - loss: 0.0808 - accuracy: 0.9813 - val_loss: 0.0725 - val_accuracy: 0.9822\n",
      "Epoch 9/10\n",
      "110/110 [==============================] - 18s 167ms/step - loss: 0.0811 - accuracy: 0.9791 - val_loss: 0.0474 - val_accuracy: 0.9880\n",
      "Epoch 10/10\n",
      "110/110 [==============================] - 19s 172ms/step - loss: 0.0663 - accuracy: 0.9845 - val_loss: 0.0572 - val_accuracy: 0.9863\n",
      "Duration: 0:03:07.655835\n"
     ]
    }
   ],
   "source": [
    "#\n",
    "print(n)\n",
    "models_dsa[n].fit_model(image_sets_dsa[n],label_sets_dsa[n],x_val,y_val)\n",
    "n = n+1"
   ]
  },
  {
   "cell_type": "code",
   "execution_count": 82,
   "id": "f5efcb59",
   "metadata": {},
   "outputs": [
    {
     "name": "stdout",
     "output_type": "stream",
     "text": [
      "INFO:tensorflow:Assets written to: D:/models/aug_22/mnist/C3/mnist_model_c3_aug_dsa_e1_0\\assets\n",
      "Model has been saved\n",
      "INFO:tensorflow:Assets written to: D:/models/aug_22/mnist/C3/mnist_model_c3_aug_dsa_e1_1\\assets\n",
      "Model has been saved\n",
      "INFO:tensorflow:Assets written to: D:/models/aug_22/mnist/C3/mnist_model_c3_aug_dsa_e1_2\\assets\n",
      "Model has been saved\n",
      "INFO:tensorflow:Assets written to: D:/models/aug_22/mnist/C3/mnist_model_c3_aug_dsa_e1_3\\assets\n",
      "Model has been saved\n",
      "INFO:tensorflow:Assets written to: D:/models/aug_22/mnist/C3/mnist_model_c3_aug_dsa_e1_4\\assets\n",
      "Model has been saved\n",
      "INFO:tensorflow:Assets written to: D:/models/aug_22/mnist/C3/mnist_model_c3_aug_dsa_e1_5\\assets\n",
      "Model has been saved\n",
      "INFO:tensorflow:Assets written to: D:/models/aug_22/mnist/C3/mnist_model_c3_aug_dsa_e1_6\\assets\n",
      "Model has been saved\n",
      "INFO:tensorflow:Assets written to: D:/models/aug_22/mnist/C3/mnist_model_c3_aug_dsa_e1_7\\assets\n",
      "Model has been saved\n",
      "INFO:tensorflow:Assets written to: D:/models/aug_22/mnist/C3/mnist_model_c3_aug_dsa_e1_8\\assets\n",
      "Model has been saved\n",
      "INFO:tensorflow:Assets written to: D:/models/aug_22/mnist/C3/mnist_model_c3_aug_dsa_e1_9\\assets\n",
      "Model has been saved\n",
      "INFO:tensorflow:Assets written to: D:/models/aug_22/mnist/C3/mnist_model_c3_aug_dsa_e1_10\\assets\n",
      "Model has been saved\n",
      "INFO:tensorflow:Assets written to: D:/models/aug_22/mnist/C3/mnist_model_c3_aug_dsa_e1_11\\assets\n",
      "Model has been saved\n",
      "INFO:tensorflow:Assets written to: D:/models/aug_22/mnist/C3/mnist_model_c3_aug_dsa_e1_12\\assets\n",
      "Model has been saved\n",
      "INFO:tensorflow:Assets written to: D:/models/aug_22/mnist/C3/mnist_model_c3_aug_dsa_e1_13\\assets\n",
      "Model has been saved\n",
      "INFO:tensorflow:Assets written to: D:/models/aug_22/mnist/C3/mnist_model_c3_aug_dsa_e1_14\\assets\n",
      "Model has been saved\n",
      "INFO:tensorflow:Assets written to: D:/models/aug_22/mnist/C3/mnist_model_c3_aug_dsa_e1_15\\assets\n",
      "Model has been saved\n",
      "INFO:tensorflow:Assets written to: D:/models/aug_22/mnist/C3/mnist_model_c3_aug_dsa_e1_16\\assets\n",
      "Model has been saved\n",
      "INFO:tensorflow:Assets written to: D:/models/aug_22/mnist/C3/mnist_model_c3_aug_dsa_e1_17\\assets\n",
      "Model has been saved\n",
      "INFO:tensorflow:Assets written to: D:/models/aug_22/mnist/C3/mnist_model_c3_aug_dsa_e1_18\\assets\n",
      "Model has been saved\n",
      "INFO:tensorflow:Assets written to: D:/models/aug_22/mnist/C3/mnist_model_c3_aug_dsa_e1_19\\assets\n",
      "Model has been saved\n"
     ]
    }
   ],
   "source": [
    "#new_model_dsa_dir  = \"C:/Users/fjdurlop/Documents/upc/models/\"+dataset+\"/C3/\"+dataset+\"_model_c3_aug_dsa_e1\"\n",
    "new_model_dsa_dir  = \"D:/models/aug_22/\"+dataset+\"/C3/\"+dataset+\"_model_c3_aug_dsa_e1\"\n",
    "\n",
    "\n",
    "i=0\n",
    "\n",
    "for model in models_dsa:\n",
    "    model.save(new_model_dsa_dir+\"_\"+str(i))\n",
    "    i+=1"
   ]
  },
  {
   "cell_type": "code",
   "execution_count": 83,
   "id": "77836993",
   "metadata": {},
   "outputs": [],
   "source": [
    "try:\n",
    "    del dsa_values\n",
    "    del top_images_by_dsa\n",
    "    del top_labels_by_dsa\n",
    "    del image_sets_dsa\n",
    "    del label_sets_dsa\n",
    "    del models_dsa\n",
    "except:\n",
    "    print(\"Error\")"
   ]
  },
  {
   "cell_type": "code",
   "execution_count": 84,
   "id": "a2d78dd7",
   "metadata": {},
   "outputs": [
    {
     "data": {
      "text/plain": [
       "248212"
      ]
     },
     "execution_count": 84,
     "metadata": {},
     "output_type": "execute_result"
    }
   ],
   "source": [
    "import gc\n",
    "gc.collect()"
   ]
  },
  {
   "cell_type": "markdown",
   "id": "1c73510f",
   "metadata": {},
   "source": [
    "## Uncertainty"
   ]
  },
  {
   "cell_type": "code",
   "execution_count": 85,
   "id": "0ac6d3c4",
   "metadata": {},
   "outputs": [
    {
     "name": "stdout",
     "output_type": "stream",
     "text": [
      "6999\n"
     ]
    }
   ],
   "source": [
    "#dg_direction = \"C:/Users/fjdurlop/Documents/upc/upc-july/data/\"+dataset+\"/deep_gini_values.npy\"\n",
    "\n",
    "#deep_gini_values = np.load(dg_direction)\n",
    "dg_direction = \"C:/Users/fjdur/Documents/upc-july/data/\"+dataset+\"/deep_gini_values.npy\"\n",
    "\n",
    "deep_gini_values = np.load(dg_direction)[len(x_train):] \n",
    "print(len(deep_gini_values))"
   ]
  },
  {
   "cell_type": "code",
   "execution_count": 86,
   "id": "d85ee221",
   "metadata": {},
   "outputs": [],
   "source": [
    "# Obtaining top n images by dg values\n",
    "top_images_by_dg  = utils.get_x_of_indexes(list(np.flip(np.argsort(deep_gini_values))),x_adversary_training)\n",
    "top_labels_by_dg = utils.get_x_of_indexes(list(np.flip(np.argsort(deep_gini_values))),y_adversary_training)"
   ]
  },
  {
   "cell_type": "code",
   "execution_count": 87,
   "id": "b7636eda",
   "metadata": {
    "scrolled": true
   },
   "outputs": [
    {
     "name": "stdout",
     "output_type": "stream",
     "text": [
      "0 :\n",
      "0  ->  340\n",
      "340\n",
      "1 :\n",
      "0  ->  680\n",
      "680\n",
      "2 :\n",
      "0  ->  1020\n",
      "1020\n",
      "3 :\n",
      "0  ->  1360\n",
      "1360\n",
      "4 :\n",
      "0  ->  1700\n",
      "1700\n",
      "5 :\n",
      "0  ->  2040\n",
      "2040\n",
      "6 :\n",
      "0  ->  2380\n",
      "2380\n",
      "7 :\n",
      "0  ->  2720\n",
      "2720\n",
      "8 :\n",
      "0  ->  3060\n",
      "3060\n",
      "9 :\n",
      "0  ->  3400\n",
      "3400\n",
      "10 :\n",
      "0  ->  3740\n",
      "3740\n",
      "11 :\n",
      "0  ->  4080\n",
      "4080\n",
      "12 :\n",
      "0  ->  4420\n",
      "4420\n",
      "13 :\n",
      "0  ->  4760\n",
      "4760\n",
      "14 :\n",
      "0  ->  5100\n",
      "5100\n",
      "15 :\n",
      "0  ->  5440\n",
      "5440\n",
      "16 :\n",
      "0  ->  5780\n",
      "5780\n",
      "17 :\n",
      "0  ->  6120\n",
      "6120\n",
      "18 :\n",
      "0  ->  6460\n",
      "6460\n",
      "19 :\n",
      "Last\n",
      "0  ->  6999\n",
      "6999\n"
     ]
    }
   ],
   "source": [
    "m = n_data_points\n",
    "n = 0\n",
    "image_sets_dg = []\n",
    "label_sets_dg = []\n",
    "\n",
    "# last\n",
    "#for i in range(0,len(top_images_by_lsa)//m):\n",
    "\n",
    "for i in range((len(top_images_by_dg)//m)):\n",
    "    print(i,\":\")\n",
    "    if (i+1 >= ((len(top_images_by_dg)//m))):\n",
    "        print(\"Last\")\n",
    "        print(0,\" -> \",n+m+(len(top_images_by_dg)%m))\n",
    "        top_images_by_dg_n = np.array(top_images_by_dg[:n+m+(len(top_images_by_dg)%m)])\n",
    "        top_labels_by_dg_n = np.array(top_labels_by_dg[:n+m+(len(top_images_by_dg)%m)])\n",
    "    else:\n",
    "        print(0,\" -> \",m+n)\n",
    "        top_images_by_dg_n = np.array(top_images_by_dg[:n+m])\n",
    "        top_labels_by_dg_n = np.array(top_labels_by_dg[:n+m])\n",
    "    image_sets_dg.append(top_images_by_dg_n)\n",
    "    label_sets_dg.append(top_labels_by_dg_n)\n",
    "    print(len(top_images_by_dg_n))\n",
    "    n += m\n",
    "\n"
   ]
  },
  {
   "cell_type": "code",
   "execution_count": 88,
   "id": "8235ece2",
   "metadata": {},
   "outputs": [
    {
     "name": "stdout",
     "output_type": "stream",
     "text": [
      "C:/Users/fjdur/Documents/upc-july/models/models2\n",
      "0 :\n",
      "Model loaded correctly\n",
      "Model compiled\n",
      "1 :\n",
      "Model loaded correctly\n",
      "Model compiled\n",
      "2 :\n",
      "Model loaded correctly\n",
      "Model compiled\n",
      "3 :\n",
      "Model loaded correctly\n",
      "Model compiled\n",
      "4 :\n",
      "Model loaded correctly\n",
      "Model compiled\n",
      "5 :\n",
      "Model loaded correctly\n",
      "Model compiled\n",
      "6 :\n",
      "Model loaded correctly\n",
      "Model compiled\n",
      "7 :\n",
      "Model loaded correctly\n",
      "Model compiled\n",
      "8 :\n",
      "Model loaded correctly\n",
      "Model compiled\n",
      "9 :\n",
      "Model loaded correctly\n",
      "Model compiled\n",
      "10 :\n",
      "Model loaded correctly\n",
      "Model compiled\n",
      "11 :\n",
      "Model loaded correctly\n",
      "Model compiled\n",
      "12 :\n",
      "Model loaded correctly\n",
      "Model compiled\n",
      "13 :\n",
      "Model loaded correctly\n",
      "Model compiled\n",
      "14 :\n",
      "Model loaded correctly\n",
      "Model compiled\n",
      "15 :\n",
      "Model loaded correctly\n",
      "Model compiled\n",
      "16 :\n",
      "Model loaded correctly\n",
      "Model compiled\n",
      "17 :\n",
      "Model loaded correctly\n",
      "Model compiled\n",
      "18 :\n",
      "Model loaded correctly\n",
      "Model compiled\n",
      "19 :\n",
      "Model loaded correctly\n",
      "Model compiled\n"
     ]
    }
   ],
   "source": [
    "print(model_dir)\n",
    "models_dg = []\n",
    "#for i in range(len(label_sets_lsa)):\n",
    "for i in range(len(label_sets_dg)):\n",
    "    print(i,\":\")\n",
    "    model = utils.My_model(dataset,True,model_dir)\n",
    "    model.compile_model()\n",
    "    models_dg.append(model)"
   ]
  },
  {
   "cell_type": "code",
   "execution_count": 89,
   "id": "1e0ae2d4",
   "metadata": {},
   "outputs": [
    {
     "name": "stdout",
     "output_type": "stream",
     "text": [
      "0\n",
      "Epoch 1/10\n",
      "6/6 [==============================] - 6s 1s/step - loss: 0.7633 - accuracy: 0.8406 - val_loss: 0.0711 - val_accuracy: 0.9865\n",
      "Epoch 2/10\n",
      "6/6 [==============================] - 5s 977ms/step - loss: 0.3051 - accuracy: 0.9462 - val_loss: 0.0682 - val_accuracy: 0.9869\n",
      "Epoch 3/10\n",
      "6/6 [==============================] - 5s 978ms/step - loss: 0.1745 - accuracy: 0.9546 - val_loss: 0.0853 - val_accuracy: 0.9844\n",
      "Epoch 4/10\n",
      "6/6 [==============================] - 5s 995ms/step - loss: 0.1246 - accuracy: 0.9604 - val_loss: 0.0806 - val_accuracy: 0.9846\n",
      "Epoch 5/10\n",
      "6/6 [==============================] - 6s 1s/step - loss: 0.1679 - accuracy: 0.9493 - val_loss: 0.1045 - val_accuracy: 0.9836\n",
      "Epoch 6/10\n",
      "6/6 [==============================] - 6s 1s/step - loss: 0.1302 - accuracy: 0.9480 - val_loss: 0.1026 - val_accuracy: 0.9834\n",
      "Epoch 7/10\n",
      "6/6 [==============================] - 6s 1s/step - loss: 0.0793 - accuracy: 0.9754 - val_loss: 0.1001 - val_accuracy: 0.9836\n",
      "Epoch 8/10\n",
      "6/6 [==============================] - 6s 1s/step - loss: 0.1393 - accuracy: 0.9788 - val_loss: 0.1086 - val_accuracy: 0.9831\n",
      "Epoch 9/10\n",
      "6/6 [==============================] - 6s 1s/step - loss: 0.1126 - accuracy: 0.9685 - val_loss: 0.0630 - val_accuracy: 0.9863\n",
      "Epoch 10/10\n",
      "6/6 [==============================] - 6s 1s/step - loss: 0.1290 - accuracy: 0.9507 - val_loss: 0.1122 - val_accuracy: 0.9842\n",
      "Duration: 0:00:56.218691\n"
     ]
    }
   ],
   "source": [
    "n=0\n",
    "print(n)\n",
    "models_dg[n].fit_model(image_sets_dg[n],label_sets_dg[n],x_val,y_val)\n",
    "n = n+1"
   ]
  },
  {
   "cell_type": "code",
   "execution_count": 90,
   "id": "9111d03b",
   "metadata": {},
   "outputs": [
    {
     "name": "stdout",
     "output_type": "stream",
     "text": [
      "1\n",
      "Epoch 1/10\n",
      "11/11 [==============================] - 7s 620ms/step - loss: 0.7017 - accuracy: 0.8863 - val_loss: 0.0552 - val_accuracy: 0.9866\n",
      "Epoch 2/10\n",
      "11/11 [==============================] - 6s 616ms/step - loss: 0.3573 - accuracy: 0.9195 - val_loss: 0.0561 - val_accuracy: 0.9871\n",
      "Epoch 3/10\n",
      "11/11 [==============================] - 6s 619ms/step - loss: 0.2810 - accuracy: 0.9243 - val_loss: 0.0570 - val_accuracy: 0.9862\n",
      "Epoch 4/10\n",
      "11/11 [==============================] - 6s 615ms/step - loss: 0.2059 - accuracy: 0.9573 - val_loss: 0.0741 - val_accuracy: 0.9861\n",
      "Epoch 5/10\n",
      "11/11 [==============================] - 6s 617ms/step - loss: 0.2560 - accuracy: 0.9416 - val_loss: 0.0555 - val_accuracy: 0.9874\n",
      "Epoch 6/10\n",
      "11/11 [==============================] - 6s 611ms/step - loss: 0.1637 - accuracy: 0.9512 - val_loss: 0.0679 - val_accuracy: 0.9864\n",
      "Epoch 7/10\n",
      "11/11 [==============================] - 6s 614ms/step - loss: 0.1379 - accuracy: 0.9570 - val_loss: 0.0927 - val_accuracy: 0.9820\n",
      "Epoch 8/10\n",
      "11/11 [==============================] - 6s 615ms/step - loss: 0.1480 - accuracy: 0.9542 - val_loss: 0.0625 - val_accuracy: 0.9858\n",
      "Epoch 9/10\n",
      "11/11 [==============================] - 6s 611ms/step - loss: 0.1621 - accuracy: 0.9681 - val_loss: 0.0458 - val_accuracy: 0.9873\n",
      "Epoch 10/10\n",
      "11/11 [==============================] - 6s 610ms/step - loss: 0.2007 - accuracy: 0.9549 - val_loss: 0.0529 - val_accuracy: 0.9876\n",
      "Duration: 0:01:03.804942\n"
     ]
    }
   ],
   "source": [
    "print(n)\n",
    "models_dg[n].fit_model(image_sets_dg[n],label_sets_dg[n],x_val,y_val)\n",
    "n = n+1"
   ]
  },
  {
   "cell_type": "code",
   "execution_count": 91,
   "id": "b7e4d9ba",
   "metadata": {},
   "outputs": [
    {
     "name": "stdout",
     "output_type": "stream",
     "text": [
      "2\n",
      "Epoch 1/10\n",
      "16/16 [==============================] - 8s 439ms/step - loss: 0.6392 - accuracy: 0.8630 - val_loss: 0.0472 - val_accuracy: 0.9880\n",
      "Epoch 2/10\n",
      "16/16 [==============================] - 7s 443ms/step - loss: 0.3995 - accuracy: 0.8976 - val_loss: 0.0572 - val_accuracy: 0.9880\n",
      "Epoch 3/10\n",
      "16/16 [==============================] - 7s 445ms/step - loss: 0.2161 - accuracy: 0.9399 - val_loss: 0.0657 - val_accuracy: 0.9864\n",
      "Epoch 4/10\n",
      "16/16 [==============================] - 7s 449ms/step - loss: 0.3226 - accuracy: 0.9257 - val_loss: 0.0619 - val_accuracy: 0.9857\n",
      "Epoch 5/10\n",
      "16/16 [==============================] - 7s 441ms/step - loss: 0.2011 - accuracy: 0.9403 - val_loss: 0.0518 - val_accuracy: 0.9886\n",
      "Epoch 6/10\n",
      "16/16 [==============================] - 7s 446ms/step - loss: 0.2479 - accuracy: 0.9354 - val_loss: 0.0523 - val_accuracy: 0.9881\n",
      "Epoch 7/10\n",
      "16/16 [==============================] - 7s 446ms/step - loss: 0.1788 - accuracy: 0.9527 - val_loss: 0.0558 - val_accuracy: 0.9868\n",
      "Epoch 8/10\n",
      "16/16 [==============================] - 7s 444ms/step - loss: 0.1601 - accuracy: 0.9470 - val_loss: 0.0571 - val_accuracy: 0.9870\n",
      "Epoch 9/10\n",
      "16/16 [==============================] - 7s 443ms/step - loss: 0.1524 - accuracy: 0.9670 - val_loss: 0.0533 - val_accuracy: 0.9871\n",
      "Epoch 10/10\n",
      "16/16 [==============================] - 7s 443ms/step - loss: 0.1968 - accuracy: 0.9323 - val_loss: 0.0619 - val_accuracy: 0.9871\n",
      "Duration: 0:01:09.052093\n"
     ]
    }
   ],
   "source": [
    "print(n)\n",
    "models_dg[n].fit_model(image_sets_dg[n],label_sets_dg[n],x_val,y_val)\n",
    "n = n+1"
   ]
  },
  {
   "cell_type": "code",
   "execution_count": 92,
   "id": "42875fb0",
   "metadata": {},
   "outputs": [
    {
     "name": "stdout",
     "output_type": "stream",
     "text": [
      "3\n",
      "Epoch 1/10\n",
      "22/22 [==============================] - 8s 341ms/step - loss: 0.6211 - accuracy: 0.8952 - val_loss: 0.0450 - val_accuracy: 0.9886\n",
      "Epoch 2/10\n",
      "22/22 [==============================] - 7s 344ms/step - loss: 0.3020 - accuracy: 0.9116 - val_loss: 0.0635 - val_accuracy: 0.9868\n",
      "Epoch 3/10\n",
      "22/22 [==============================] - 7s 343ms/step - loss: 0.2868 - accuracy: 0.9279 - val_loss: 0.0460 - val_accuracy: 0.9881\n",
      "Epoch 4/10\n",
      "22/22 [==============================] - 7s 341ms/step - loss: 0.2509 - accuracy: 0.9372 - val_loss: 0.0569 - val_accuracy: 0.9873\n",
      "Epoch 5/10\n",
      "22/22 [==============================] - 8s 358ms/step - loss: 0.2429 - accuracy: 0.9364 - val_loss: 0.0540 - val_accuracy: 0.9879\n",
      "Epoch 6/10\n",
      "22/22 [==============================] - 7s 342ms/step - loss: 0.1927 - accuracy: 0.9517 - val_loss: 0.0672 - val_accuracy: 0.9852\n",
      "Epoch 7/10\n",
      "22/22 [==============================] - 7s 340ms/step - loss: 0.1699 - accuracy: 0.9474 - val_loss: 0.0663 - val_accuracy: 0.9865\n",
      "Epoch 8/10\n",
      "22/22 [==============================] - 7s 341ms/step - loss: 0.2345 - accuracy: 0.9426 - val_loss: 0.0559 - val_accuracy: 0.9885\n",
      "Epoch 9/10\n",
      "22/22 [==============================] - 7s 341ms/step - loss: 0.1402 - accuracy: 0.9551 - val_loss: 0.0538 - val_accuracy: 0.9881\n",
      "Epoch 10/10\n",
      "22/22 [==============================] - 7s 344ms/step - loss: 0.1165 - accuracy: 0.9642 - val_loss: 0.0569 - val_accuracy: 0.9876\n",
      "Duration: 0:01:14.513133\n"
     ]
    }
   ],
   "source": [
    "print(n)\n",
    "models_dg[n].fit_model(image_sets_dg[n],label_sets_dg[n],x_val,y_val)\n",
    "n = n+1"
   ]
  },
  {
   "cell_type": "code",
   "execution_count": 93,
   "id": "efd03b2e",
   "metadata": {},
   "outputs": [
    {
     "name": "stdout",
     "output_type": "stream",
     "text": [
      "4\n",
      "Epoch 1/10\n",
      "27/27 [==============================] - 9s 295ms/step - loss: 0.5482 - accuracy: 0.8852 - val_loss: 0.0369 - val_accuracy: 0.9894\n",
      "Epoch 2/10\n",
      "27/27 [==============================] - 8s 300ms/step - loss: 0.3177 - accuracy: 0.9259 - val_loss: 0.0586 - val_accuracy: 0.9872\n",
      "Epoch 3/10\n",
      "27/27 [==============================] - 8s 308ms/step - loss: 0.2730 - accuracy: 0.9239 - val_loss: 0.0401 - val_accuracy: 0.9885\n",
      "Epoch 4/10\n",
      "27/27 [==============================] - 8s 299ms/step - loss: 0.2282 - accuracy: 0.9426 - val_loss: 0.0667 - val_accuracy: 0.9849\n",
      "Epoch 5/10\n",
      "27/27 [==============================] - 8s 298ms/step - loss: 0.1864 - accuracy: 0.9489 - val_loss: 0.0530 - val_accuracy: 0.9860\n",
      "Epoch 6/10\n",
      "27/27 [==============================] - 8s 295ms/step - loss: 0.1554 - accuracy: 0.9546 - val_loss: 0.0498 - val_accuracy: 0.9861\n",
      "Epoch 7/10\n",
      "27/27 [==============================] - 8s 297ms/step - loss: 0.1604 - accuracy: 0.9521 - val_loss: 0.0533 - val_accuracy: 0.9872\n",
      "Epoch 8/10\n",
      "27/27 [==============================] - 8s 295ms/step - loss: 0.1521 - accuracy: 0.9565 - val_loss: 0.0578 - val_accuracy: 0.9873\n",
      "Epoch 9/10\n",
      "27/27 [==============================] - 8s 296ms/step - loss: 0.1514 - accuracy: 0.9505 - val_loss: 0.0477 - val_accuracy: 0.9875\n",
      "Epoch 10/10\n",
      "27/27 [==============================] - 8s 300ms/step - loss: 0.1010 - accuracy: 0.9682 - val_loss: 0.0521 - val_accuracy: 0.9864\n",
      "Duration: 0:01:20.058226\n"
     ]
    }
   ],
   "source": [
    "#\n",
    "print(n)\n",
    "models_dg[n].fit_model(image_sets_dg[n],label_sets_dg[n],x_val,y_val)\n",
    "n = n+1"
   ]
  },
  {
   "cell_type": "code",
   "execution_count": 94,
   "id": "94d34929",
   "metadata": {},
   "outputs": [
    {
     "name": "stdout",
     "output_type": "stream",
     "text": [
      "5\n",
      "Epoch 1/10\n",
      "32/32 [==============================] - 10s 267ms/step - loss: 0.4959 - accuracy: 0.8953 - val_loss: 0.0513 - val_accuracy: 0.9880\n",
      "Epoch 2/10\n",
      "32/32 [==============================] - 8s 267ms/step - loss: 0.2690 - accuracy: 0.9247 - val_loss: 0.0595 - val_accuracy: 0.9868\n",
      "Epoch 3/10\n",
      "32/32 [==============================] - 8s 266ms/step - loss: 0.2416 - accuracy: 0.9480 - val_loss: 0.0529 - val_accuracy: 0.9874\n",
      "Epoch 4/10\n",
      "32/32 [==============================] - 8s 267ms/step - loss: 0.1917 - accuracy: 0.9457 - val_loss: 0.0447 - val_accuracy: 0.9878\n",
      "Epoch 5/10\n",
      "32/32 [==============================] - 8s 270ms/step - loss: 0.1656 - accuracy: 0.9542 - val_loss: 0.0438 - val_accuracy: 0.9888\n",
      "Epoch 6/10\n",
      "32/32 [==============================] - 8s 265ms/step - loss: 0.1918 - accuracy: 0.9454 - val_loss: 0.0451 - val_accuracy: 0.9879\n",
      "Epoch 7/10\n",
      "32/32 [==============================] - 8s 266ms/step - loss: 0.1499 - accuracy: 0.9563 - val_loss: 0.0473 - val_accuracy: 0.9889\n",
      "Epoch 8/10\n",
      "32/32 [==============================] - 8s 267ms/step - loss: 0.1352 - accuracy: 0.9565 - val_loss: 0.0543 - val_accuracy: 0.9889\n",
      "Epoch 9/10\n",
      "32/32 [==============================] - 8s 268ms/step - loss: 0.1587 - accuracy: 0.9572 - val_loss: 0.0507 - val_accuracy: 0.9883\n",
      "Epoch 10/10\n",
      "32/32 [==============================] - 8s 268ms/step - loss: 0.1281 - accuracy: 0.9630 - val_loss: 0.0500 - val_accuracy: 0.9879\n",
      "Duration: 0:01:25.211328\n"
     ]
    }
   ],
   "source": [
    "print(n)\n",
    "models_dg[n].fit_model(image_sets_dg[n],label_sets_dg[n],x_val,y_val)\n",
    "n = n+1"
   ]
  },
  {
   "cell_type": "code",
   "execution_count": 95,
   "id": "7c340580",
   "metadata": {},
   "outputs": [
    {
     "name": "stdout",
     "output_type": "stream",
     "text": [
      "6\n",
      "Epoch 1/10\n",
      "38/38 [==============================] - 10s 239ms/step - loss: 0.4581 - accuracy: 0.9213 - val_loss: 0.0688 - val_accuracy: 0.9853\n",
      "Epoch 2/10\n",
      "38/38 [==============================] - 9s 239ms/step - loss: 0.2942 - accuracy: 0.9253 - val_loss: 0.0467 - val_accuracy: 0.9876\n",
      "Epoch 3/10\n",
      "38/38 [==============================] - 9s 240ms/step - loss: 0.2711 - accuracy: 0.9358 - val_loss: 0.0741 - val_accuracy: 0.9845\n",
      "Epoch 4/10\n",
      "38/38 [==============================] - 9s 241ms/step - loss: 0.2299 - accuracy: 0.9405 - val_loss: 0.0612 - val_accuracy: 0.9854\n",
      "Epoch 5/10\n",
      "38/38 [==============================] - 9s 241ms/step - loss: 0.2160 - accuracy: 0.9454 - val_loss: 0.0635 - val_accuracy: 0.9819\n",
      "Epoch 6/10\n",
      "38/38 [==============================] - 9s 240ms/step - loss: 0.2385 - accuracy: 0.9330 - val_loss: 0.0761 - val_accuracy: 0.9841\n",
      "Epoch 7/10\n",
      "38/38 [==============================] - 9s 240ms/step - loss: 0.2341 - accuracy: 0.9472 - val_loss: 0.0499 - val_accuracy: 0.9875\n",
      "Epoch 8/10\n",
      "38/38 [==============================] - 9s 244ms/step - loss: 0.1466 - accuracy: 0.9589 - val_loss: 0.0718 - val_accuracy: 0.9839\n",
      "Epoch 9/10\n",
      "38/38 [==============================] - 9s 242ms/step - loss: 0.1630 - accuracy: 0.9607 - val_loss: 0.0577 - val_accuracy: 0.9864\n",
      "Epoch 10/10\n",
      "38/38 [==============================] - 9s 241ms/step - loss: 0.1405 - accuracy: 0.9627 - val_loss: 0.0528 - val_accuracy: 0.9859\n",
      "Duration: 0:01:31.795969\n"
     ]
    }
   ],
   "source": [
    "print(n)\n",
    "models_dg[n].fit_model(image_sets_dg[n],label_sets_dg[n],x_val,y_val)\n",
    "n = n+1"
   ]
  },
  {
   "cell_type": "code",
   "execution_count": 96,
   "id": "658a655f",
   "metadata": {},
   "outputs": [
    {
     "name": "stdout",
     "output_type": "stream",
     "text": [
      "7\n",
      "Epoch 1/10\n",
      "43/43 [==============================] - 11s 226ms/step - loss: 0.3997 - accuracy: 0.9209 - val_loss: 0.0417 - val_accuracy: 0.9879\n",
      "Epoch 2/10\n",
      "43/43 [==============================] - 10s 227ms/step - loss: 0.2797 - accuracy: 0.9285 - val_loss: 0.0540 - val_accuracy: 0.9877\n",
      "Epoch 3/10\n",
      "43/43 [==============================] - 10s 226ms/step - loss: 0.2369 - accuracy: 0.9347 - val_loss: 0.0480 - val_accuracy: 0.9868\n",
      "Epoch 4/10\n",
      "43/43 [==============================] - 10s 226ms/step - loss: 0.2400 - accuracy: 0.9331 - val_loss: 0.0575 - val_accuracy: 0.9861\n",
      "Epoch 5/10\n",
      "43/43 [==============================] - 10s 225ms/step - loss: 0.2483 - accuracy: 0.9352 - val_loss: 0.0421 - val_accuracy: 0.9889\n",
      "Epoch 6/10\n",
      "43/43 [==============================] - 10s 225ms/step - loss: 0.1529 - accuracy: 0.9507 - val_loss: 0.0442 - val_accuracy: 0.9884\n",
      "Epoch 7/10\n",
      "43/43 [==============================] - 10s 238ms/step - loss: 0.1689 - accuracy: 0.9553 - val_loss: 0.0644 - val_accuracy: 0.9866\n",
      "Epoch 8/10\n",
      "43/43 [==============================] - 10s 228ms/step - loss: 0.1691 - accuracy: 0.9556 - val_loss: 0.0457 - val_accuracy: 0.9879\n",
      "Epoch 9/10\n",
      "43/43 [==============================] - 10s 226ms/step - loss: 0.1478 - accuracy: 0.9620 - val_loss: 0.0444 - val_accuracy: 0.9896\n",
      "Epoch 10/10\n",
      "43/43 [==============================] - 10s 227ms/step - loss: 0.1335 - accuracy: 0.9616 - val_loss: 0.0514 - val_accuracy: 0.9874\n",
      "Duration: 0:01:37.930254\n"
     ]
    }
   ],
   "source": [
    "print(n)\n",
    "models_dg[n].fit_model(image_sets_dg[n],label_sets_dg[n],x_val,y_val)\n",
    "n = n+1"
   ]
  },
  {
   "cell_type": "code",
   "execution_count": 97,
   "id": "d53b3893",
   "metadata": {},
   "outputs": [
    {
     "name": "stdout",
     "output_type": "stream",
     "text": [
      "8\n",
      "Epoch 1/10\n",
      "48/48 [==============================] - 12s 218ms/step - loss: 0.4571 - accuracy: 0.9231 - val_loss: 0.0489 - val_accuracy: 0.9869\n",
      "Epoch 2/10\n",
      "48/48 [==============================] - 10s 215ms/step - loss: 0.2925 - accuracy: 0.9323 - val_loss: 0.0511 - val_accuracy: 0.9856\n",
      "Epoch 3/10\n",
      "48/48 [==============================] - 10s 215ms/step - loss: 0.1936 - accuracy: 0.9537 - val_loss: 0.0465 - val_accuracy: 0.9876\n",
      "Epoch 4/10\n",
      "48/48 [==============================] - 10s 215ms/step - loss: 0.2031 - accuracy: 0.9533 - val_loss: 0.0519 - val_accuracy: 0.9873\n",
      "Epoch 5/10\n",
      "48/48 [==============================] - 10s 215ms/step - loss: 0.1819 - accuracy: 0.9563 - val_loss: 0.0427 - val_accuracy: 0.9882\n",
      "Epoch 6/10\n",
      "48/48 [==============================] - 11s 236ms/step - loss: 0.1663 - accuracy: 0.9621 - val_loss: 0.0596 - val_accuracy: 0.9852\n",
      "Epoch 7/10\n",
      "48/48 [==============================] - 11s 230ms/step - loss: 0.1485 - accuracy: 0.9613 - val_loss: 0.0449 - val_accuracy: 0.9881\n",
      "Epoch 8/10\n",
      "48/48 [==============================] - 10s 216ms/step - loss: 0.1291 - accuracy: 0.9628 - val_loss: 0.0442 - val_accuracy: 0.9876\n",
      "Epoch 9/10\n",
      "48/48 [==============================] - 10s 219ms/step - loss: 0.1400 - accuracy: 0.9643 - val_loss: 0.0389 - val_accuracy: 0.9892\n",
      "Epoch 10/10\n",
      "48/48 [==============================] - 10s 218ms/step - loss: 0.1319 - accuracy: 0.9604 - val_loss: 0.0422 - val_accuracy: 0.9881\n",
      "Duration: 0:01:45.697854\n"
     ]
    }
   ],
   "source": [
    "print(n)\n",
    "models_dg[n].fit_model(image_sets_dg[n],label_sets_dg[n],x_val,y_val)\n",
    "n = n+1"
   ]
  },
  {
   "cell_type": "code",
   "execution_count": 98,
   "id": "d5a1e3c5",
   "metadata": {},
   "outputs": [
    {
     "name": "stdout",
     "output_type": "stream",
     "text": [
      "9\n",
      "Epoch 1/10\n",
      "54/54 [==============================] - 12s 200ms/step - loss: 0.4069 - accuracy: 0.9168 - val_loss: 0.0731 - val_accuracy: 0.9870\n",
      "Epoch 2/10\n",
      "54/54 [==============================] - 11s 202ms/step - loss: 0.2755 - accuracy: 0.9389 - val_loss: 0.0540 - val_accuracy: 0.9868\n",
      "Epoch 3/10\n",
      "54/54 [==============================] - 11s 199ms/step - loss: 0.1998 - accuracy: 0.9494 - val_loss: 0.0404 - val_accuracy: 0.9889\n",
      "Epoch 4/10\n",
      "54/54 [==============================] - 11s 200ms/step - loss: 0.1525 - accuracy: 0.9567 - val_loss: 0.0456 - val_accuracy: 0.9876\n",
      "Epoch 5/10\n",
      "54/54 [==============================] - 11s 200ms/step - loss: 0.1710 - accuracy: 0.9555 - val_loss: 0.0487 - val_accuracy: 0.9878\n",
      "Epoch 6/10\n",
      "54/54 [==============================] - 11s 199ms/step - loss: 0.1554 - accuracy: 0.9588 - val_loss: 0.0716 - val_accuracy: 0.9805\n",
      "Epoch 7/10\n",
      "54/54 [==============================] - 11s 199ms/step - loss: 0.1536 - accuracy: 0.9585 - val_loss: 0.0516 - val_accuracy: 0.9868\n",
      "Epoch 8/10\n",
      "54/54 [==============================] - 11s 202ms/step - loss: 0.1536 - accuracy: 0.9595 - val_loss: 0.0623 - val_accuracy: 0.9821\n",
      "Epoch 9/10\n",
      "54/54 [==============================] - 11s 205ms/step - loss: 0.1380 - accuracy: 0.9631 - val_loss: 0.0423 - val_accuracy: 0.9885\n",
      "Epoch 10/10\n",
      "54/54 [==============================] - 11s 201ms/step - loss: 0.1237 - accuracy: 0.9642 - val_loss: 0.0682 - val_accuracy: 0.9871\n",
      "Duration: 0:01:48.908016\n"
     ]
    }
   ],
   "source": [
    "#\n",
    "print(n)\n",
    "models_dg[n].fit_model(image_sets_dg[n],label_sets_dg[n],x_val,y_val)\n",
    "n = n+1"
   ]
  },
  {
   "cell_type": "code",
   "execution_count": 99,
   "id": "a3a38f77",
   "metadata": {},
   "outputs": [
    {
     "name": "stdout",
     "output_type": "stream",
     "text": [
      "10\n",
      "Epoch 1/10\n",
      "59/59 [==============================] - 13s 193ms/step - loss: 0.3488 - accuracy: 0.9263 - val_loss: 0.0546 - val_accuracy: 0.9864\n",
      "Epoch 2/10\n",
      "59/59 [==============================] - 11s 194ms/step - loss: 0.2409 - accuracy: 0.9507 - val_loss: 0.0414 - val_accuracy: 0.9886\n",
      "Epoch 3/10\n",
      "59/59 [==============================] - 11s 195ms/step - loss: 0.2096 - accuracy: 0.9460 - val_loss: 0.0428 - val_accuracy: 0.9888\n",
      "Epoch 4/10\n",
      "59/59 [==============================] - 11s 193ms/step - loss: 0.2039 - accuracy: 0.9512 - val_loss: 0.0459 - val_accuracy: 0.9877\n",
      "Epoch 5/10\n",
      "59/59 [==============================] - 11s 194ms/step - loss: 0.1565 - accuracy: 0.9629 - val_loss: 0.0497 - val_accuracy: 0.9884\n",
      "Epoch 6/10\n",
      "59/59 [==============================] - 11s 193ms/step - loss: 0.1289 - accuracy: 0.9661 - val_loss: 0.0478 - val_accuracy: 0.9881\n",
      "Epoch 7/10\n",
      "59/59 [==============================] - 11s 193ms/step - loss: 0.1228 - accuracy: 0.9637 - val_loss: 0.0471 - val_accuracy: 0.9884\n",
      "Epoch 8/10\n",
      "59/59 [==============================] - 11s 194ms/step - loss: 0.1268 - accuracy: 0.9663 - val_loss: 0.0633 - val_accuracy: 0.9837\n",
      "Epoch 9/10\n",
      "59/59 [==============================] - 11s 193ms/step - loss: 0.1112 - accuracy: 0.9675 - val_loss: 0.0449 - val_accuracy: 0.9881\n",
      "Epoch 10/10\n",
      "59/59 [==============================] - 11s 196ms/step - loss: 0.1016 - accuracy: 0.9696 - val_loss: 0.0469 - val_accuracy: 0.9876\n",
      "Duration: 0:01:54.801059\n"
     ]
    }
   ],
   "source": [
    "print(n)\n",
    "models_dg[n].fit_model(image_sets_dg[n],label_sets_dg[n],x_val,y_val)\n",
    "n = n+1"
   ]
  },
  {
   "cell_type": "code",
   "execution_count": 100,
   "id": "a1d9ca2b",
   "metadata": {},
   "outputs": [
    {
     "name": "stdout",
     "output_type": "stream",
     "text": [
      "11\n",
      "Epoch 1/10\n",
      "64/64 [==============================] - 13s 188ms/step - loss: 0.3628 - accuracy: 0.9348 - val_loss: 0.0731 - val_accuracy: 0.9849\n",
      "Epoch 2/10\n",
      "64/64 [==============================] - 12s 186ms/step - loss: 0.2413 - accuracy: 0.9383 - val_loss: 0.0576 - val_accuracy: 0.9838\n",
      "Epoch 3/10\n",
      "64/64 [==============================] - 12s 187ms/step - loss: 0.1762 - accuracy: 0.9544 - val_loss: 0.0385 - val_accuracy: 0.9890\n",
      "Epoch 4/10\n",
      "64/64 [==============================] - 12s 185ms/step - loss: 0.1716 - accuracy: 0.9602 - val_loss: 0.0370 - val_accuracy: 0.9902\n",
      "Epoch 5/10\n",
      "64/64 [==============================] - 12s 186ms/step - loss: 0.1399 - accuracy: 0.9633 - val_loss: 0.0416 - val_accuracy: 0.9881\n",
      "Epoch 6/10\n",
      "64/64 [==============================] - 12s 186ms/step - loss: 0.1159 - accuracy: 0.9703 - val_loss: 0.0417 - val_accuracy: 0.9876\n",
      "Epoch 7/10\n",
      "64/64 [==============================] - 12s 186ms/step - loss: 0.1159 - accuracy: 0.9689 - val_loss: 0.0489 - val_accuracy: 0.9858\n",
      "Epoch 8/10\n",
      "64/64 [==============================] - 12s 187ms/step - loss: 0.1173 - accuracy: 0.9668 - val_loss: 0.0435 - val_accuracy: 0.9887\n",
      "Epoch 9/10\n",
      "64/64 [==============================] - 12s 186ms/step - loss: 0.0983 - accuracy: 0.9743 - val_loss: 0.0526 - val_accuracy: 0.9853\n",
      "Epoch 10/10\n",
      "64/64 [==============================] - 12s 187ms/step - loss: 0.0885 - accuracy: 0.9753 - val_loss: 0.0449 - val_accuracy: 0.9894\n",
      "Duration: 0:01:59.926671\n"
     ]
    }
   ],
   "source": [
    "print(n)\n",
    "models_dg[n].fit_model(image_sets_dg[n],label_sets_dg[n],x_val,y_val)\n",
    "n = n+1"
   ]
  },
  {
   "cell_type": "code",
   "execution_count": 101,
   "id": "0df0a46c",
   "metadata": {},
   "outputs": [
    {
     "name": "stdout",
     "output_type": "stream",
     "text": [
      "12\n",
      "Epoch 1/10\n",
      "70/70 [==============================] - 14s 180ms/step - loss: 0.2717 - accuracy: 0.9433 - val_loss: 0.0393 - val_accuracy: 0.9881\n",
      "Epoch 2/10\n",
      "70/70 [==============================] - 12s 178ms/step - loss: 0.2185 - accuracy: 0.9493 - val_loss: 0.0453 - val_accuracy: 0.9878\n",
      "Epoch 3/10\n",
      "70/70 [==============================] - 13s 180ms/step - loss: 0.1611 - accuracy: 0.9608 - val_loss: 0.0785 - val_accuracy: 0.9859\n",
      "Epoch 4/10\n",
      "70/70 [==============================] - 12s 179ms/step - loss: 0.1746 - accuracy: 0.9557 - val_loss: 0.0539 - val_accuracy: 0.9871\n",
      "Epoch 5/10\n",
      "70/70 [==============================] - 13s 180ms/step - loss: 0.1269 - accuracy: 0.9681 - val_loss: 0.0522 - val_accuracy: 0.9866\n",
      "Epoch 6/10\n",
      "70/70 [==============================] - 13s 180ms/step - loss: 0.1179 - accuracy: 0.9661 - val_loss: 0.0500 - val_accuracy: 0.9882\n",
      "Epoch 7/10\n",
      "70/70 [==============================] - 12s 179ms/step - loss: 0.1086 - accuracy: 0.9696 - val_loss: 0.0438 - val_accuracy: 0.9872\n",
      "Epoch 8/10\n",
      "70/70 [==============================] - 12s 179ms/step - loss: 0.1226 - accuracy: 0.9643 - val_loss: 0.0448 - val_accuracy: 0.9880\n",
      "Epoch 9/10\n",
      "70/70 [==============================] - 12s 179ms/step - loss: 0.0934 - accuracy: 0.9745 - val_loss: 0.0942 - val_accuracy: 0.9826\n",
      "Epoch 10/10\n",
      "70/70 [==============================] - 13s 181ms/step - loss: 0.0983 - accuracy: 0.9759 - val_loss: 0.0515 - val_accuracy: 0.9870\n",
      "Duration: 0:02:06.307973\n"
     ]
    }
   ],
   "source": [
    "print(n)\n",
    "models_dg[n].fit_model(image_sets_dg[n],label_sets_dg[n],x_val,y_val)\n",
    "n = n+1"
   ]
  },
  {
   "cell_type": "code",
   "execution_count": 102,
   "id": "b156eb49",
   "metadata": {},
   "outputs": [
    {
     "name": "stdout",
     "output_type": "stream",
     "text": [
      "13\n",
      "Epoch 1/10\n",
      "75/75 [==============================] - 15s 178ms/step - loss: 0.3054 - accuracy: 0.9400 - val_loss: 0.0518 - val_accuracy: 0.9868\n",
      "Epoch 2/10\n",
      "75/75 [==============================] - 13s 176ms/step - loss: 0.1845 - accuracy: 0.9520 - val_loss: 0.0528 - val_accuracy: 0.9856\n",
      "Epoch 3/10\n",
      "75/75 [==============================] - 13s 175ms/step - loss: 0.1617 - accuracy: 0.9553 - val_loss: 0.0679 - val_accuracy: 0.9859\n",
      "Epoch 4/10\n",
      "75/75 [==============================] - 13s 175ms/step - loss: 0.1406 - accuracy: 0.9649 - val_loss: 0.0700 - val_accuracy: 0.9844\n",
      "Epoch 5/10\n",
      "75/75 [==============================] - 13s 175ms/step - loss: 0.1568 - accuracy: 0.9654 - val_loss: 0.0527 - val_accuracy: 0.9879\n",
      "Epoch 6/10\n",
      "75/75 [==============================] - 13s 175ms/step - loss: 0.1399 - accuracy: 0.9640 - val_loss: 0.0584 - val_accuracy: 0.9856\n",
      "Epoch 7/10\n",
      "75/75 [==============================] - 13s 176ms/step - loss: 0.1061 - accuracy: 0.9694 - val_loss: 0.0514 - val_accuracy: 0.9863\n",
      "Epoch 8/10\n",
      "75/75 [==============================] - 13s 175ms/step - loss: 0.0922 - accuracy: 0.9748 - val_loss: 0.0487 - val_accuracy: 0.9860\n",
      "Epoch 9/10\n",
      "75/75 [==============================] - 13s 175ms/step - loss: 0.1008 - accuracy: 0.9705 - val_loss: 0.0565 - val_accuracy: 0.9885\n",
      "Epoch 10/10\n",
      "75/75 [==============================] - 13s 177ms/step - loss: 0.1036 - accuracy: 0.9742 - val_loss: 0.0558 - val_accuracy: 0.9839\n",
      "Duration: 0:02:12.605244\n"
     ]
    }
   ],
   "source": [
    "print(n)\n",
    "models_dg[n].fit_model(image_sets_dg[n],label_sets_dg[n],x_val,y_val)\n",
    "n = n+1"
   ]
  },
  {
   "cell_type": "code",
   "execution_count": 103,
   "id": "c002d96d",
   "metadata": {},
   "outputs": [
    {
     "name": "stdout",
     "output_type": "stream",
     "text": [
      "14\n",
      "Epoch 1/10\n",
      "80/80 [==============================] - 15s 176ms/step - loss: 0.2967 - accuracy: 0.9352 - val_loss: 0.0414 - val_accuracy: 0.9882\n",
      "Epoch 2/10\n",
      "80/80 [==============================] - 14s 173ms/step - loss: 0.1553 - accuracy: 0.9558 - val_loss: 0.0500 - val_accuracy: 0.9858\n",
      "Epoch 3/10\n",
      "80/80 [==============================] - 14s 174ms/step - loss: 0.1469 - accuracy: 0.9608 - val_loss: 0.0539 - val_accuracy: 0.9877\n",
      "Epoch 4/10\n",
      "80/80 [==============================] - 14s 173ms/step - loss: 0.1171 - accuracy: 0.9698 - val_loss: 0.0453 - val_accuracy: 0.9862\n",
      "Epoch 5/10\n",
      "80/80 [==============================] - 14s 172ms/step - loss: 0.1238 - accuracy: 0.9693 - val_loss: 0.0477 - val_accuracy: 0.9876\n",
      "Epoch 6/10\n",
      "80/80 [==============================] - 14s 173ms/step - loss: 0.1039 - accuracy: 0.9726 - val_loss: 0.0548 - val_accuracy: 0.9874\n",
      "Epoch 7/10\n",
      "80/80 [==============================] - 14s 172ms/step - loss: 0.1082 - accuracy: 0.9710 - val_loss: 0.0460 - val_accuracy: 0.9876\n",
      "Epoch 8/10\n",
      "80/80 [==============================] - 14s 174ms/step - loss: 0.1021 - accuracy: 0.9754 - val_loss: 0.0576 - val_accuracy: 0.9872\n",
      "Epoch 9/10\n",
      "80/80 [==============================] - 14s 173ms/step - loss: 0.0668 - accuracy: 0.9825 - val_loss: 0.0462 - val_accuracy: 0.9875\n",
      "Epoch 10/10\n",
      "80/80 [==============================] - 14s 173ms/step - loss: 0.0830 - accuracy: 0.9767 - val_loss: 0.0585 - val_accuracy: 0.9834\n",
      "Duration: 0:02:19.284875\n"
     ]
    }
   ],
   "source": [
    "#\n",
    "print(n)\n",
    "models_dg[n].fit_model(image_sets_dg[n],label_sets_dg[n],x_val,y_val)\n",
    "n = n+1"
   ]
  },
  {
   "cell_type": "code",
   "execution_count": 104,
   "id": "f86550a9",
   "metadata": {},
   "outputs": [
    {
     "name": "stdout",
     "output_type": "stream",
     "text": [
      "15\n",
      "Epoch 1/10\n",
      "85/85 [==============================] - 16s 170ms/step - loss: 0.3288 - accuracy: 0.9429 - val_loss: 0.0425 - val_accuracy: 0.9879\n",
      "Epoch 2/10\n",
      "85/85 [==============================] - 16s 187ms/step - loss: 0.1732 - accuracy: 0.9582 - val_loss: 0.0525 - val_accuracy: 0.9859\n",
      "Epoch 3/10\n",
      "85/85 [==============================] - 16s 186ms/step - loss: 0.1468 - accuracy: 0.9606 - val_loss: 0.0587 - val_accuracy: 0.9849\n",
      "Epoch 4/10\n",
      "85/85 [==============================] - 16s 186ms/step - loss: 0.1573 - accuracy: 0.9645 - val_loss: 0.0535 - val_accuracy: 0.9868\n",
      "Epoch 5/10\n",
      "85/85 [==============================] - 16s 187ms/step - loss: 0.1132 - accuracy: 0.9689 - val_loss: 0.0473 - val_accuracy: 0.9861\n",
      "Epoch 6/10\n",
      "85/85 [==============================] - 16s 187ms/step - loss: 0.0848 - accuracy: 0.9788 - val_loss: 0.0527 - val_accuracy: 0.9873\n",
      "Epoch 7/10\n",
      "85/85 [==============================] - 16s 186ms/step - loss: 0.1059 - accuracy: 0.9723 - val_loss: 0.0571 - val_accuracy: 0.9845\n",
      "Epoch 8/10\n",
      "85/85 [==============================] - 16s 188ms/step - loss: 0.0975 - accuracy: 0.9733 - val_loss: 0.0410 - val_accuracy: 0.9886\n",
      "Epoch 9/10\n",
      "85/85 [==============================] - 16s 186ms/step - loss: 0.0857 - accuracy: 0.9756 - val_loss: 0.0662 - val_accuracy: 0.9847\n",
      "Epoch 10/10\n",
      "85/85 [==============================] - 16s 185ms/step - loss: 0.0748 - accuracy: 0.9784 - val_loss: 0.0439 - val_accuracy: 0.9870\n",
      "Duration: 0:02:37.832232\n"
     ]
    }
   ],
   "source": [
    "print(n)\n",
    "models_dg[n].fit_model(image_sets_dg[n],label_sets_dg[n],x_val,y_val)\n",
    "n = n+1"
   ]
  },
  {
   "cell_type": "code",
   "execution_count": 105,
   "id": "8d58ce7e",
   "metadata": {},
   "outputs": [
    {
     "name": "stdout",
     "output_type": "stream",
     "text": [
      "16\n",
      "Epoch 1/10\n",
      "91/91 [==============================] - 18s 183ms/step - loss: 0.2593 - accuracy: 0.9518 - val_loss: 0.0696 - val_accuracy: 0.9814\n",
      "Epoch 2/10\n",
      "91/91 [==============================] - 17s 189ms/step - loss: 0.1485 - accuracy: 0.9643 - val_loss: 0.0438 - val_accuracy: 0.9868\n",
      "Epoch 3/10\n",
      "91/91 [==============================] - 17s 185ms/step - loss: 0.1287 - accuracy: 0.9676 - val_loss: 0.0523 - val_accuracy: 0.9874\n",
      "Epoch 4/10\n",
      "91/91 [==============================] - 17s 184ms/step - loss: 0.1187 - accuracy: 0.9714 - val_loss: 0.0568 - val_accuracy: 0.9874\n",
      "Epoch 5/10\n",
      "91/91 [==============================] - 17s 184ms/step - loss: 0.1103 - accuracy: 0.9715 - val_loss: 0.0709 - val_accuracy: 0.9827\n",
      "Epoch 6/10\n",
      "91/91 [==============================] - 17s 186ms/step - loss: 0.0863 - accuracy: 0.9775 - val_loss: 0.0438 - val_accuracy: 0.9876\n",
      "Epoch 7/10\n",
      "91/91 [==============================] - 17s 183ms/step - loss: 0.0830 - accuracy: 0.9779 - val_loss: 0.0567 - val_accuracy: 0.9864\n",
      "Epoch 8/10\n",
      "91/91 [==============================] - 17s 183ms/step - loss: 0.0985 - accuracy: 0.9743 - val_loss: 0.0509 - val_accuracy: 0.9866\n",
      "Epoch 9/10\n",
      "91/91 [==============================] - 17s 184ms/step - loss: 0.0829 - accuracy: 0.9749 - val_loss: 0.0822 - val_accuracy: 0.9837\n",
      "Epoch 10/10\n",
      "91/91 [==============================] - 17s 183ms/step - loss: 0.0725 - accuracy: 0.9815 - val_loss: 0.0594 - val_accuracy: 0.9845\n",
      "Duration: 0:02:49.073021\n"
     ]
    }
   ],
   "source": [
    "print(n)\n",
    "models_dg[n].fit_model(image_sets_dg[n],label_sets_dg[n],x_val,y_val)\n",
    "n = n+1"
   ]
  },
  {
   "cell_type": "code",
   "execution_count": 106,
   "id": "7091e284",
   "metadata": {},
   "outputs": [
    {
     "name": "stdout",
     "output_type": "stream",
     "text": [
      "17\n",
      "Epoch 1/10\n",
      "96/96 [==============================] - 19s 184ms/step - loss: 0.2504 - accuracy: 0.9525 - val_loss: 0.0509 - val_accuracy: 0.9863\n",
      "Epoch 2/10\n",
      "96/96 [==============================] - 17s 182ms/step - loss: 0.1647 - accuracy: 0.9632 - val_loss: 0.0530 - val_accuracy: 0.9850\n",
      "Epoch 3/10\n",
      "96/96 [==============================] - 17s 182ms/step - loss: 0.1342 - accuracy: 0.9666 - val_loss: 0.0783 - val_accuracy: 0.9835\n",
      "Epoch 4/10\n",
      "96/96 [==============================] - 17s 183ms/step - loss: 0.1154 - accuracy: 0.9700 - val_loss: 0.0541 - val_accuracy: 0.9856\n",
      "Epoch 5/10\n",
      "96/96 [==============================] - 17s 182ms/step - loss: 0.1083 - accuracy: 0.9722 - val_loss: 0.0526 - val_accuracy: 0.9861\n",
      "Epoch 6/10\n",
      "96/96 [==============================] - 17s 182ms/step - loss: 0.1105 - accuracy: 0.9722 - val_loss: 0.0511 - val_accuracy: 0.9873\n",
      "Epoch 7/10\n",
      "96/96 [==============================] - 17s 181ms/step - loss: 0.0972 - accuracy: 0.9760 - val_loss: 0.0432 - val_accuracy: 0.9869\n",
      "Epoch 8/10\n",
      "96/96 [==============================] - 18s 183ms/step - loss: 0.0816 - accuracy: 0.9752 - val_loss: 0.0436 - val_accuracy: 0.9875\n",
      "Epoch 9/10\n",
      "96/96 [==============================] - 18s 183ms/step - loss: 0.0847 - accuracy: 0.9784 - val_loss: 0.0467 - val_accuracy: 0.9865\n",
      "Epoch 10/10\n",
      "96/96 [==============================] - 17s 182ms/step - loss: 0.0696 - accuracy: 0.9818 - val_loss: 0.0460 - val_accuracy: 0.9879\n",
      "Duration: 0:02:56.430363\n"
     ]
    }
   ],
   "source": [
    "print(n)\n",
    "models_dg[n].fit_model(image_sets_dg[n],label_sets_dg[n],x_val,y_val)\n",
    "n = n+1"
   ]
  },
  {
   "cell_type": "code",
   "execution_count": 107,
   "id": "96e79448",
   "metadata": {},
   "outputs": [
    {
     "name": "stdout",
     "output_type": "stream",
     "text": [
      "18\n",
      "Epoch 1/10\n",
      "101/101 [==============================] - 20s 181ms/step - loss: 0.2254 - accuracy: 0.9532 - val_loss: 0.0470 - val_accuracy: 0.9867\n",
      "Epoch 2/10\n",
      "101/101 [==============================] - 18s 181ms/step - loss: 0.1299 - accuracy: 0.9669 - val_loss: 0.0433 - val_accuracy: 0.9884\n",
      "Epoch 3/10\n",
      "101/101 [==============================] - 22s 224ms/step - loss: 0.1395 - accuracy: 0.9619 - val_loss: 0.0476 - val_accuracy: 0.9874\n",
      "Epoch 4/10\n",
      "101/101 [==============================] - 17s 170ms/step - loss: 0.1064 - accuracy: 0.9680 - val_loss: 0.0420 - val_accuracy: 0.9890\n",
      "Epoch 5/10\n",
      "101/101 [==============================] - 18s 178ms/step - loss: 0.1082 - accuracy: 0.9709 - val_loss: 0.0488 - val_accuracy: 0.9876\n",
      "Epoch 6/10\n",
      "101/101 [==============================] - 18s 179ms/step - loss: 0.0881 - accuracy: 0.9781 - val_loss: 0.0411 - val_accuracy: 0.9880\n",
      "Epoch 7/10\n",
      "101/101 [==============================] - 18s 180ms/step - loss: 0.0767 - accuracy: 0.9779 - val_loss: 0.0542 - val_accuracy: 0.9858\n",
      "Epoch 8/10\n",
      "101/101 [==============================] - 18s 180ms/step - loss: 0.0922 - accuracy: 0.9756 - val_loss: 0.0536 - val_accuracy: 0.9867\n",
      "Epoch 9/10\n",
      "101/101 [==============================] - 18s 180ms/step - loss: 0.0877 - accuracy: 0.9754 - val_loss: 0.0537 - val_accuracy: 0.9866\n",
      "Epoch 10/10\n",
      "101/101 [==============================] - 18s 180ms/step - loss: 0.0839 - accuracy: 0.9806 - val_loss: 0.0660 - val_accuracy: 0.9842\n",
      "Duration: 0:03:06.350021\n"
     ]
    }
   ],
   "source": [
    "print(n)\n",
    "models_dg[n].fit_model(image_sets_dg[n],label_sets_dg[n],x_val,y_val)\n",
    "n = n+1"
   ]
  },
  {
   "cell_type": "code",
   "execution_count": 108,
   "id": "9b3b88cb",
   "metadata": {},
   "outputs": [
    {
     "name": "stdout",
     "output_type": "stream",
     "text": [
      "19\n",
      "Epoch 1/10\n",
      "110/110 [==============================] - 21s 177ms/step - loss: 0.2062 - accuracy: 0.9559 - val_loss: 0.0429 - val_accuracy: 0.9879\n",
      "Epoch 2/10\n",
      "110/110 [==============================] - 19s 176ms/step - loss: 0.1226 - accuracy: 0.9685 - val_loss: 0.0589 - val_accuracy: 0.9845\n",
      "Epoch 3/10\n",
      "110/110 [==============================] - 19s 176ms/step - loss: 0.1278 - accuracy: 0.9676 - val_loss: 0.0439 - val_accuracy: 0.9889\n",
      "Epoch 4/10\n",
      "110/110 [==============================] - 19s 176ms/step - loss: 0.1116 - accuracy: 0.9742 - val_loss: 0.0472 - val_accuracy: 0.9880\n",
      "Epoch 5/10\n",
      "110/110 [==============================] - 19s 175ms/step - loss: 0.1029 - accuracy: 0.9740 - val_loss: 0.0474 - val_accuracy: 0.9876\n",
      "Epoch 6/10\n",
      "110/110 [==============================] - 19s 176ms/step - loss: 0.0958 - accuracy: 0.9781 - val_loss: 0.0475 - val_accuracy: 0.9864\n",
      "Epoch 7/10\n",
      "110/110 [==============================] - 19s 176ms/step - loss: 0.0899 - accuracy: 0.9776 - val_loss: 0.0715 - val_accuracy: 0.9816\n",
      "Epoch 8/10\n",
      "110/110 [==============================] - 19s 177ms/step - loss: 0.0867 - accuracy: 0.9779 - val_loss: 0.0545 - val_accuracy: 0.9875\n",
      "Epoch 9/10\n",
      "110/110 [==============================] - 19s 177ms/step - loss: 0.0783 - accuracy: 0.9781 - val_loss: 0.0506 - val_accuracy: 0.9854\n",
      "Epoch 10/10\n",
      "110/110 [==============================] - 19s 177ms/step - loss: 0.0609 - accuracy: 0.9835 - val_loss: 0.0546 - val_accuracy: 0.9871\n",
      "Duration: 0:03:15.164473\n"
     ]
    }
   ],
   "source": [
    "#\n",
    "print(n)\n",
    "models_dg[n].fit_model(image_sets_dg[n],label_sets_dg[n],x_val,y_val)\n",
    "n = n+1"
   ]
  },
  {
   "cell_type": "code",
   "execution_count": 109,
   "id": "822aa540",
   "metadata": {},
   "outputs": [
    {
     "name": "stdout",
     "output_type": "stream",
     "text": [
      "INFO:tensorflow:Assets written to: D:/models/aug_22/mnist/C3/mnist_model_c3_aug_dg_e1_0\\assets\n",
      "Model has been saved\n",
      "INFO:tensorflow:Assets written to: D:/models/aug_22/mnist/C3/mnist_model_c3_aug_dg_e1_1\\assets\n",
      "Model has been saved\n",
      "INFO:tensorflow:Assets written to: D:/models/aug_22/mnist/C3/mnist_model_c3_aug_dg_e1_2\\assets\n",
      "Model has been saved\n",
      "INFO:tensorflow:Assets written to: D:/models/aug_22/mnist/C3/mnist_model_c3_aug_dg_e1_3\\assets\n",
      "Model has been saved\n",
      "INFO:tensorflow:Assets written to: D:/models/aug_22/mnist/C3/mnist_model_c3_aug_dg_e1_4\\assets\n",
      "Model has been saved\n",
      "INFO:tensorflow:Assets written to: D:/models/aug_22/mnist/C3/mnist_model_c3_aug_dg_e1_5\\assets\n",
      "Model has been saved\n",
      "INFO:tensorflow:Assets written to: D:/models/aug_22/mnist/C3/mnist_model_c3_aug_dg_e1_6\\assets\n",
      "Model has been saved\n",
      "INFO:tensorflow:Assets written to: D:/models/aug_22/mnist/C3/mnist_model_c3_aug_dg_e1_7\\assets\n",
      "Model has been saved\n",
      "INFO:tensorflow:Assets written to: D:/models/aug_22/mnist/C3/mnist_model_c3_aug_dg_e1_8\\assets\n",
      "Model has been saved\n",
      "INFO:tensorflow:Assets written to: D:/models/aug_22/mnist/C3/mnist_model_c3_aug_dg_e1_9\\assets\n",
      "Model has been saved\n",
      "INFO:tensorflow:Assets written to: D:/models/aug_22/mnist/C3/mnist_model_c3_aug_dg_e1_10\\assets\n",
      "Model has been saved\n",
      "INFO:tensorflow:Assets written to: D:/models/aug_22/mnist/C3/mnist_model_c3_aug_dg_e1_11\\assets\n",
      "Model has been saved\n",
      "INFO:tensorflow:Assets written to: D:/models/aug_22/mnist/C3/mnist_model_c3_aug_dg_e1_12\\assets\n",
      "Model has been saved\n",
      "INFO:tensorflow:Assets written to: D:/models/aug_22/mnist/C3/mnist_model_c3_aug_dg_e1_13\\assets\n",
      "Model has been saved\n",
      "INFO:tensorflow:Assets written to: D:/models/aug_22/mnist/C3/mnist_model_c3_aug_dg_e1_14\\assets\n",
      "Model has been saved\n",
      "INFO:tensorflow:Assets written to: D:/models/aug_22/mnist/C3/mnist_model_c3_aug_dg_e1_15\\assets\n",
      "Model has been saved\n",
      "INFO:tensorflow:Assets written to: D:/models/aug_22/mnist/C3/mnist_model_c3_aug_dg_e1_16\\assets\n",
      "Model has been saved\n",
      "INFO:tensorflow:Assets written to: D:/models/aug_22/mnist/C3/mnist_model_c3_aug_dg_e1_17\\assets\n",
      "Model has been saved\n",
      "INFO:tensorflow:Assets written to: D:/models/aug_22/mnist/C3/mnist_model_c3_aug_dg_e1_18\\assets\n",
      "Model has been saved\n",
      "INFO:tensorflow:Assets written to: D:/models/aug_22/mnist/C3/mnist_model_c3_aug_dg_e1_19\\assets\n",
      "Model has been saved\n"
     ]
    }
   ],
   "source": [
    "#new_model_dg_dir  = \"C:/Users/fjdurlop/Documents/upc/models/\"+dataset+\"/C3/\"+dataset+\"_model_c3_aug_dg_e1\"\n",
    "new_model_dg_dir  = \"D:/models/aug_22/\"+dataset+\"/C3/\"+dataset+\"_model_c3_aug_dg_e1\"\n",
    "\n",
    "i=0\n",
    "\n",
    "for model in models_dg:\n",
    "    model.save(new_model_dg_dir+\"_\"+str(i))\n",
    "    i+=1"
   ]
  },
  {
   "cell_type": "code",
   "execution_count": 110,
   "id": "2139719c",
   "metadata": {},
   "outputs": [],
   "source": [
    "try:\n",
    "    del deep_gini_values\n",
    "    del top_images_by_dg\n",
    "    del top_labels_by_dg\n",
    "    del image_sets_dg\n",
    "    del label_sets_dg\n",
    "    del models_dg\n",
    "except:\n",
    "    print(\"Error\")"
   ]
  },
  {
   "cell_type": "code",
   "execution_count": 111,
   "id": "a8986882",
   "metadata": {},
   "outputs": [
    {
     "data": {
      "text/plain": [
       "315482"
      ]
     },
     "execution_count": 111,
     "metadata": {},
     "output_type": "execute_result"
    }
   ],
   "source": [
    "\n",
    "gc.collect()"
   ]
  },
  {
   "cell_type": "markdown",
   "id": "be3bfcff",
   "metadata": {},
   "source": [
    "### Softmax "
   ]
  },
  {
   "cell_type": "code",
   "execution_count": 112,
   "id": "d3b6b20c",
   "metadata": {},
   "outputs": [
    {
     "name": "stdout",
     "output_type": "stream",
     "text": [
      "6999\n"
     ]
    }
   ],
   "source": [
    "#softmax values\n",
    "#se_direction = \"C:/Users/fjdurlop/Documents/upc/upc-july/data/\"+dataset+\"/softmax_values.npy\"\n",
    "se_direction = \"C:/Users/fjdur/Documents/upc-july/data/\"+dataset+\"/softmax_values.npy\"\n",
    "\n",
    "se_values = np.load(se_direction)[len(x_train):] \n",
    "print(len(se_values))\n"
   ]
  },
  {
   "cell_type": "code",
   "execution_count": 113,
   "id": "a389aa31",
   "metadata": {},
   "outputs": [],
   "source": [
    "# Obtaining top n images by LSA values\n",
    "top_images_by_se  = utils.get_x_of_indexes(list(np.flip(np.argsort(se_values))),x_adversary_training)\n",
    "top_labels_by_se = utils.get_x_of_indexes(list(np.flip(np.argsort(se_values))),y_adversary_training)"
   ]
  },
  {
   "cell_type": "code",
   "execution_count": 114,
   "id": "74bdb95f",
   "metadata": {},
   "outputs": [
    {
     "name": "stdout",
     "output_type": "stream",
     "text": [
      "0 :\n",
      "0  ->  340\n",
      "340\n",
      "1 :\n",
      "0  ->  680\n",
      "680\n",
      "2 :\n",
      "0  ->  1020\n",
      "1020\n",
      "3 :\n",
      "0  ->  1360\n",
      "1360\n",
      "4 :\n",
      "0  ->  1700\n",
      "1700\n",
      "5 :\n",
      "0  ->  2040\n",
      "2040\n",
      "6 :\n",
      "0  ->  2380\n",
      "2380\n",
      "7 :\n",
      "0  ->  2720\n",
      "2720\n",
      "8 :\n",
      "0  ->  3060\n",
      "3060\n",
      "9 :\n",
      "0  ->  3400\n",
      "3400\n",
      "10 :\n",
      "0  ->  3740\n",
      "3740\n",
      "11 :\n",
      "0  ->  4080\n",
      "4080\n",
      "12 :\n",
      "0  ->  4420\n",
      "4420\n",
      "13 :\n",
      "0  ->  4760\n",
      "4760\n",
      "14 :\n",
      "0  ->  5100\n",
      "5100\n",
      "15 :\n",
      "0  ->  5440\n",
      "5440\n",
      "16 :\n",
      "0  ->  5780\n",
      "5780\n",
      "17 :\n",
      "0  ->  6120\n",
      "6120\n",
      "18 :\n",
      "0  ->  6460\n",
      "6460\n",
      "19 :\n",
      "Last\n",
      "0  ->  6999\n",
      "6999\n"
     ]
    }
   ],
   "source": [
    "m = n_data_points\n",
    "\n",
    "n = 0\n",
    "image_sets_se = []\n",
    "label_sets_se = []\n",
    "\n",
    "# last\n",
    "#for i in range(0,len(top_images_by_lsa)//m):\n",
    "\n",
    "for i in range((len(top_images_by_se)//m)):\n",
    "    print(i,\":\")\n",
    "    if (i+1 >= ((len(top_images_by_se)//m))):\n",
    "        print(\"Last\")\n",
    "        print(0,\" -> \",n+m+(len(top_images_by_se)%m))\n",
    "        top_images_by_se_n = np.array(top_images_by_se[:n+m+(len(top_images_by_se)%m)])\n",
    "        top_labels_by_se_n = np.array(top_labels_by_se[:n+m+(len(top_images_by_se)%m)])\n",
    "    else:\n",
    "        print(0,\" -> \",m+n)\n",
    "        top_images_by_se_n = np.array(top_images_by_se[:n+m])\n",
    "        top_labels_by_se_n = np.array(top_labels_by_se[:n+m])\n",
    "    image_sets_se.append(top_images_by_se_n)\n",
    "    label_sets_se.append(top_labels_by_se_n)\n",
    "    print(len(top_images_by_se_n))\n",
    "    n += m\n",
    "\n"
   ]
  },
  {
   "cell_type": "code",
   "execution_count": 115,
   "id": "14e3cfb3",
   "metadata": {},
   "outputs": [
    {
     "name": "stdout",
     "output_type": "stream",
     "text": [
      "C:/Users/fjdur/Documents/upc-july/models/models2\n",
      "0 :\n",
      "Model loaded correctly\n",
      "Model compiled\n",
      "1 :\n",
      "Model loaded correctly\n",
      "Model compiled\n",
      "2 :\n",
      "Model loaded correctly\n",
      "Model compiled\n",
      "3 :\n",
      "Model loaded correctly\n",
      "Model compiled\n",
      "4 :\n",
      "Model loaded correctly\n",
      "Model compiled\n",
      "5 :\n",
      "Model loaded correctly\n",
      "Model compiled\n",
      "6 :\n",
      "Model loaded correctly\n",
      "Model compiled\n",
      "7 :\n",
      "Model loaded correctly\n",
      "Model compiled\n",
      "8 :\n",
      "Model loaded correctly\n",
      "Model compiled\n",
      "9 :\n",
      "Model loaded correctly\n",
      "Model compiled\n",
      "10 :\n",
      "Model loaded correctly\n",
      "Model compiled\n",
      "11 :\n",
      "Model loaded correctly\n",
      "Model compiled\n",
      "12 :\n",
      "Model loaded correctly\n",
      "Model compiled\n",
      "13 :\n",
      "Model loaded correctly\n",
      "Model compiled\n",
      "14 :\n",
      "Model loaded correctly\n",
      "Model compiled\n",
      "15 :\n",
      "Model loaded correctly\n",
      "Model compiled\n",
      "16 :\n",
      "Model loaded correctly\n",
      "Model compiled\n",
      "17 :\n",
      "Model loaded correctly\n",
      "Model compiled\n",
      "18 :\n",
      "Model loaded correctly\n",
      "Model compiled\n",
      "19 :\n",
      "Model loaded correctly\n",
      "Model compiled\n"
     ]
    }
   ],
   "source": [
    "print(model_dir)\n",
    "models_se = []\n",
    "for i in range(len(label_sets_se)):\n",
    "    print(i,\":\")\n",
    "    model = utils.My_model(dataset,True,model_dir)\n",
    "    model.compile_model()\n",
    "    models_se.append(model)"
   ]
  },
  {
   "cell_type": "code",
   "execution_count": 116,
   "id": "f66277ed",
   "metadata": {},
   "outputs": [
    {
     "name": "stdout",
     "output_type": "stream",
     "text": [
      "0\n",
      "Epoch 1/10\n",
      "6/6 [==============================] - 6s 1s/step - loss: 0.5712 - accuracy: 0.8899 - val_loss: 0.0846 - val_accuracy: 0.9869\n",
      "Epoch 2/10\n",
      "6/6 [==============================] - 5s 925ms/step - loss: 0.2853 - accuracy: 0.9318 - val_loss: 0.0751 - val_accuracy: 0.9860\n",
      "Epoch 3/10\n",
      "6/6 [==============================] - 5s 922ms/step - loss: 0.1289 - accuracy: 0.9711 - val_loss: 0.0828 - val_accuracy: 0.9783\n",
      "Epoch 4/10\n",
      "6/6 [==============================] - 5s 945ms/step - loss: 0.3041 - accuracy: 0.9316 - val_loss: 0.0756 - val_accuracy: 0.9849\n",
      "Epoch 5/10\n",
      "6/6 [==============================] - 5s 943ms/step - loss: 0.1661 - accuracy: 0.9413 - val_loss: 0.0986 - val_accuracy: 0.9830\n",
      "Epoch 6/10\n",
      "6/6 [==============================] - 5s 945ms/step - loss: 0.1231 - accuracy: 0.9672 - val_loss: 0.1141 - val_accuracy: 0.9831\n",
      "Epoch 7/10\n",
      "6/6 [==============================] - 5s 954ms/step - loss: 0.1129 - accuracy: 0.9631 - val_loss: 0.0612 - val_accuracy: 0.9844\n",
      "Epoch 8/10\n",
      "6/6 [==============================] - 5s 952ms/step - loss: 0.1490 - accuracy: 0.9567 - val_loss: 0.1149 - val_accuracy: 0.9824\n",
      "Epoch 9/10\n",
      "6/6 [==============================] - 5s 958ms/step - loss: 0.0439 - accuracy: 0.9780 - val_loss: 0.0738 - val_accuracy: 0.9850\n",
      "Epoch 10/10\n",
      "6/6 [==============================] - 5s 958ms/step - loss: 0.0620 - accuracy: 0.9856 - val_loss: 0.1058 - val_accuracy: 0.9839\n",
      "Duration: 0:00:49.824949\n"
     ]
    }
   ],
   "source": [
    "n=0\n",
    "print(n)\n",
    "models_se[n].fit_model(image_sets_se[n],label_sets_se[n],x_val,y_val)\n",
    "n = n+1"
   ]
  },
  {
   "cell_type": "code",
   "execution_count": 117,
   "id": "5bb251b4",
   "metadata": {},
   "outputs": [
    {
     "name": "stdout",
     "output_type": "stream",
     "text": [
      "1\n",
      "Epoch 1/10\n",
      "11/11 [==============================] - 7s 556ms/step - loss: 0.5420 - accuracy: 0.8986 - val_loss: 0.0705 - val_accuracy: 0.9866\n",
      "Epoch 2/10\n",
      "11/11 [==============================] - 5s 529ms/step - loss: 0.2330 - accuracy: 0.9286 - val_loss: 0.1019 - val_accuracy: 0.9841\n",
      "Epoch 3/10\n",
      "11/11 [==============================] - 5s 527ms/step - loss: 0.1759 - accuracy: 0.9552 - val_loss: 0.0762 - val_accuracy: 0.9850\n",
      "Epoch 4/10\n",
      "11/11 [==============================] - 5s 527ms/step - loss: 0.1351 - accuracy: 0.9690 - val_loss: 0.0663 - val_accuracy: 0.9868\n",
      "Epoch 5/10\n",
      "11/11 [==============================] - 5s 528ms/step - loss: 0.1856 - accuracy: 0.9592 - val_loss: 0.0709 - val_accuracy: 0.9865\n",
      "Epoch 6/10\n",
      "11/11 [==============================] - 5s 532ms/step - loss: 0.1356 - accuracy: 0.9626 - val_loss: 0.0539 - val_accuracy: 0.9857\n",
      "Epoch 7/10\n",
      "11/11 [==============================] - 5s 534ms/step - loss: 0.1434 - accuracy: 0.9663 - val_loss: 0.0605 - val_accuracy: 0.9868\n",
      "Epoch 8/10\n",
      "11/11 [==============================] - 5s 533ms/step - loss: 0.1494 - accuracy: 0.9665 - val_loss: 0.0755 - val_accuracy: 0.9848\n",
      "Epoch 9/10\n",
      "11/11 [==============================] - 5s 532ms/step - loss: 0.0859 - accuracy: 0.9720 - val_loss: 0.0660 - val_accuracy: 0.9864\n",
      "Epoch 10/10\n",
      "11/11 [==============================] - 5s 533ms/step - loss: 0.1016 - accuracy: 0.9652 - val_loss: 0.0912 - val_accuracy: 0.9848\n",
      "Duration: 0:00:55.529694\n"
     ]
    }
   ],
   "source": [
    "print(n)\n",
    "models_se[n].fit_model(image_sets_se[n],label_sets_se[n],x_val,y_val)\n",
    "n = n+1"
   ]
  },
  {
   "cell_type": "code",
   "execution_count": 118,
   "id": "aaa22c03",
   "metadata": {},
   "outputs": [
    {
     "name": "stdout",
     "output_type": "stream",
     "text": [
      "2\n",
      "Epoch 1/10\n",
      "16/16 [==============================] - 8s 411ms/step - loss: 0.5489 - accuracy: 0.8924 - val_loss: 0.0524 - val_accuracy: 0.9845\n",
      "Epoch 2/10\n",
      "16/16 [==============================] - 6s 392ms/step - loss: 0.2638 - accuracy: 0.9326 - val_loss: 0.0614 - val_accuracy: 0.9851\n",
      "Epoch 3/10\n",
      "16/16 [==============================] - 6s 390ms/step - loss: 0.2333 - accuracy: 0.9471 - val_loss: 0.0553 - val_accuracy: 0.9867\n",
      "Epoch 4/10\n",
      "16/16 [==============================] - 6s 393ms/step - loss: 0.2509 - accuracy: 0.9453 - val_loss: 0.0475 - val_accuracy: 0.9889\n",
      "Epoch 5/10\n",
      "16/16 [==============================] - 6s 390ms/step - loss: 0.1683 - accuracy: 0.9482 - val_loss: 0.0564 - val_accuracy: 0.9874\n",
      "Epoch 6/10\n",
      "16/16 [==============================] - 6s 390ms/step - loss: 0.1214 - accuracy: 0.9586 - val_loss: 0.0456 - val_accuracy: 0.9869\n",
      "Epoch 7/10\n",
      "16/16 [==============================] - 6s 390ms/step - loss: 0.1313 - accuracy: 0.9567 - val_loss: 0.0472 - val_accuracy: 0.9888\n",
      "Epoch 8/10\n",
      "16/16 [==============================] - 6s 390ms/step - loss: 0.1727 - accuracy: 0.9554 - val_loss: 0.0632 - val_accuracy: 0.9870\n",
      "Epoch 9/10\n",
      "16/16 [==============================] - 6s 388ms/step - loss: 0.1208 - accuracy: 0.9650 - val_loss: 0.0570 - val_accuracy: 0.9879\n",
      "Epoch 10/10\n",
      "16/16 [==============================] - 6s 390ms/step - loss: 0.0866 - accuracy: 0.9745 - val_loss: 0.0492 - val_accuracy: 0.9881\n",
      "Duration: 0:01:01.159580\n"
     ]
    }
   ],
   "source": [
    "print(n)\n",
    "models_se[n].fit_model(image_sets_se[n],label_sets_se[n],x_val,y_val)\n",
    "n = n+1"
   ]
  },
  {
   "cell_type": "code",
   "execution_count": 119,
   "id": "674c7497",
   "metadata": {},
   "outputs": [
    {
     "name": "stdout",
     "output_type": "stream",
     "text": [
      "3\n",
      "Epoch 1/10\n",
      "22/22 [==============================] - 8s 319ms/step - loss: 0.5485 - accuracy: 0.8829 - val_loss: 0.0545 - val_accuracy: 0.9849\n",
      "Epoch 2/10\n",
      "22/22 [==============================] - 6s 304ms/step - loss: 0.3243 - accuracy: 0.9174 - val_loss: 0.0592 - val_accuracy: 0.9878\n",
      "Epoch 3/10\n",
      "22/22 [==============================] - 6s 304ms/step - loss: 0.2572 - accuracy: 0.9133 - val_loss: 0.0650 - val_accuracy: 0.9860\n",
      "Epoch 4/10\n",
      "22/22 [==============================] - 7s 305ms/step - loss: 0.2609 - accuracy: 0.9337 - val_loss: 0.0608 - val_accuracy: 0.9822\n",
      "Epoch 5/10\n",
      "22/22 [==============================] - 6s 304ms/step - loss: 0.1912 - accuracy: 0.9421 - val_loss: 0.0490 - val_accuracy: 0.9886\n",
      "Epoch 6/10\n",
      "22/22 [==============================] - 6s 304ms/step - loss: 0.1860 - accuracy: 0.9443 - val_loss: 0.0596 - val_accuracy: 0.9854\n",
      "Epoch 7/10\n",
      "22/22 [==============================] - 7s 306ms/step - loss: 0.1527 - accuracy: 0.9598 - val_loss: 0.0622 - val_accuracy: 0.9870\n",
      "Epoch 8/10\n",
      "22/22 [==============================] - 6s 304ms/step - loss: 0.1755 - accuracy: 0.9441 - val_loss: 0.0527 - val_accuracy: 0.9884\n",
      "Epoch 9/10\n",
      "22/22 [==============================] - 7s 305ms/step - loss: 0.1096 - accuracy: 0.9704 - val_loss: 0.0538 - val_accuracy: 0.9876\n",
      "Epoch 10/10\n",
      "22/22 [==============================] - 6s 303ms/step - loss: 0.1105 - accuracy: 0.9718 - val_loss: 0.0713 - val_accuracy: 0.9869\n",
      "Duration: 0:01:06.579689\n"
     ]
    }
   ],
   "source": [
    "print(n)\n",
    "models_se[n].fit_model(image_sets_se[n],label_sets_se[n],x_val,y_val)\n",
    "n = n+1"
   ]
  },
  {
   "cell_type": "code",
   "execution_count": 120,
   "id": "dfe9b86d",
   "metadata": {},
   "outputs": [
    {
     "name": "stdout",
     "output_type": "stream",
     "text": [
      "4\n",
      "Epoch 1/10\n",
      "27/27 [==============================] - 9s 283ms/step - loss: 0.6076 - accuracy: 0.8775 - val_loss: 0.0496 - val_accuracy: 0.9879\n",
      "Epoch 2/10\n",
      "27/27 [==============================] - 7s 270ms/step - loss: 0.3012 - accuracy: 0.9286 - val_loss: 0.0552 - val_accuracy: 0.9864\n",
      "Epoch 3/10\n",
      "27/27 [==============================] - 7s 267ms/step - loss: 0.1950 - accuracy: 0.9371 - val_loss: 0.0506 - val_accuracy: 0.9887\n",
      "Epoch 4/10\n",
      "27/27 [==============================] - 7s 270ms/step - loss: 0.1938 - accuracy: 0.9418 - val_loss: 0.0740 - val_accuracy: 0.9838\n",
      "Epoch 5/10\n",
      "27/27 [==============================] - 7s 266ms/step - loss: 0.2176 - accuracy: 0.9450 - val_loss: 0.0543 - val_accuracy: 0.9878\n",
      "Epoch 6/10\n",
      "27/27 [==============================] - 7s 271ms/step - loss: 0.1549 - accuracy: 0.9527 - val_loss: 0.0525 - val_accuracy: 0.9876\n",
      "Epoch 7/10\n",
      "27/27 [==============================] - 7s 276ms/step - loss: 0.1584 - accuracy: 0.9510 - val_loss: 0.0487 - val_accuracy: 0.9860\n",
      "Epoch 8/10\n",
      "27/27 [==============================] - 7s 271ms/step - loss: 0.1494 - accuracy: 0.9563 - val_loss: 0.0944 - val_accuracy: 0.9809\n",
      "Epoch 9/10\n",
      "27/27 [==============================] - 7s 269ms/step - loss: 0.1788 - accuracy: 0.9466 - val_loss: 0.0628 - val_accuracy: 0.9877\n",
      "Epoch 10/10\n",
      "27/27 [==============================] - 7s 269ms/step - loss: 0.1044 - accuracy: 0.9688 - val_loss: 0.0536 - val_accuracy: 0.9864\n",
      "Duration: 0:01:12.884753\n"
     ]
    }
   ],
   "source": [
    "#\n",
    "print(n)\n",
    "models_se[n].fit_model(image_sets_se[n],label_sets_se[n],x_val,y_val)\n",
    "n = n+1"
   ]
  },
  {
   "cell_type": "code",
   "execution_count": 121,
   "id": "e4ccc154",
   "metadata": {},
   "outputs": [
    {
     "name": "stdout",
     "output_type": "stream",
     "text": [
      "5\n",
      "Epoch 1/10\n",
      "32/32 [==============================] - 9s 250ms/step - loss: 0.4833 - accuracy: 0.9151 - val_loss: 0.0401 - val_accuracy: 0.9892\n",
      "Epoch 2/10\n",
      "32/32 [==============================] - 7s 239ms/step - loss: 0.2630 - accuracy: 0.9224 - val_loss: 0.0455 - val_accuracy: 0.9893\n",
      "Epoch 3/10\n",
      "32/32 [==============================] - 8s 242ms/step - loss: 0.2801 - accuracy: 0.9247 - val_loss: 0.0533 - val_accuracy: 0.9878\n",
      "Epoch 4/10\n",
      "32/32 [==============================] - 8s 240ms/step - loss: 0.1694 - accuracy: 0.9447 - val_loss: 0.0505 - val_accuracy: 0.9877\n",
      "Epoch 5/10\n",
      "32/32 [==============================] - 8s 240ms/step - loss: 0.1619 - accuracy: 0.9520 - val_loss: 0.0534 - val_accuracy: 0.9862\n",
      "Epoch 6/10\n",
      "32/32 [==============================] - 8s 240ms/step - loss: 0.1694 - accuracy: 0.9475 - val_loss: 0.0460 - val_accuracy: 0.9879\n",
      "Epoch 7/10\n",
      "32/32 [==============================] - 8s 240ms/step - loss: 0.1708 - accuracy: 0.9522 - val_loss: 0.0511 - val_accuracy: 0.9875\n",
      "Epoch 8/10\n",
      "32/32 [==============================] - 8s 243ms/step - loss: 0.1432 - accuracy: 0.9608 - val_loss: 0.0505 - val_accuracy: 0.9875\n",
      "Epoch 9/10\n",
      "32/32 [==============================] - 8s 240ms/step - loss: 0.1442 - accuracy: 0.9595 - val_loss: 0.0560 - val_accuracy: 0.9849\n",
      "Epoch 10/10\n",
      "32/32 [==============================] - 8s 241ms/step - loss: 0.1441 - accuracy: 0.9588 - val_loss: 0.0495 - val_accuracy: 0.9884\n",
      "Duration: 0:01:17.128319\n"
     ]
    }
   ],
   "source": [
    "print(n)\n",
    "models_se[n].fit_model(image_sets_se[n],label_sets_se[n],x_val,y_val)\n",
    "n = n+1"
   ]
  },
  {
   "cell_type": "code",
   "execution_count": 122,
   "id": "b9361b0f",
   "metadata": {},
   "outputs": [
    {
     "name": "stdout",
     "output_type": "stream",
     "text": [
      "6\n",
      "Epoch 1/10\n",
      "38/38 [==============================] - 10s 225ms/step - loss: 0.4944 - accuracy: 0.9045 - val_loss: 0.0498 - val_accuracy: 0.9881\n",
      "Epoch 2/10\n",
      "38/38 [==============================] - 8s 217ms/step - loss: 0.2804 - accuracy: 0.9349 - val_loss: 0.0574 - val_accuracy: 0.9881\n",
      "Epoch 3/10\n",
      "38/38 [==============================] - 8s 217ms/step - loss: 0.2437 - accuracy: 0.9381 - val_loss: 0.0647 - val_accuracy: 0.9826\n",
      "Epoch 4/10\n",
      "38/38 [==============================] - 8s 216ms/step - loss: 0.2807 - accuracy: 0.9231 - val_loss: 0.0478 - val_accuracy: 0.9868\n",
      "Epoch 5/10\n",
      "38/38 [==============================] - 8s 217ms/step - loss: 0.2013 - accuracy: 0.9473 - val_loss: 0.0465 - val_accuracy: 0.9891\n",
      "Epoch 6/10\n",
      "38/38 [==============================] - 8s 217ms/step - loss: 0.2119 - accuracy: 0.9427 - val_loss: 0.0508 - val_accuracy: 0.9876\n",
      "Epoch 7/10\n",
      "38/38 [==============================] - 8s 216ms/step - loss: 0.1718 - accuracy: 0.9481 - val_loss: 0.0410 - val_accuracy: 0.9885\n",
      "Epoch 8/10\n",
      "38/38 [==============================] - 8s 219ms/step - loss: 0.1421 - accuracy: 0.9608 - val_loss: 0.0520 - val_accuracy: 0.9863\n",
      "Epoch 9/10\n",
      "38/38 [==============================] - 8s 221ms/step - loss: 0.1525 - accuracy: 0.9428 - val_loss: 0.0505 - val_accuracy: 0.9879\n",
      "Epoch 10/10\n",
      "38/38 [==============================] - 8s 223ms/step - loss: 0.1207 - accuracy: 0.9657 - val_loss: 0.0778 - val_accuracy: 0.9844\n",
      "Duration: 0:01:23.334671\n"
     ]
    }
   ],
   "source": [
    "print(n)\n",
    "models_se[n].fit_model(image_sets_se[n],label_sets_se[n],x_val,y_val)\n",
    "n = n+1"
   ]
  },
  {
   "cell_type": "code",
   "execution_count": 123,
   "id": "5d018799",
   "metadata": {},
   "outputs": [
    {
     "name": "stdout",
     "output_type": "stream",
     "text": [
      "7\n",
      "Epoch 1/10\n",
      "43/43 [==============================] - 10s 214ms/step - loss: 0.4388 - accuracy: 0.9147 - val_loss: 0.0866 - val_accuracy: 0.9819\n",
      "Epoch 2/10\n",
      "43/43 [==============================] - 9s 209ms/step - loss: 0.2408 - accuracy: 0.9383 - val_loss: 0.0379 - val_accuracy: 0.9892\n",
      "Epoch 3/10\n",
      "43/43 [==============================] - 9s 212ms/step - loss: 0.2156 - accuracy: 0.9402 - val_loss: 0.0482 - val_accuracy: 0.9874\n",
      "Epoch 4/10\n",
      "43/43 [==============================] - 9s 213ms/step - loss: 0.2481 - accuracy: 0.9367 - val_loss: 0.0475 - val_accuracy: 0.9879\n",
      "Epoch 5/10\n",
      "43/43 [==============================] - 9s 212ms/step - loss: 0.1872 - accuracy: 0.9460 - val_loss: 0.0389 - val_accuracy: 0.9892\n",
      "Epoch 6/10\n",
      "43/43 [==============================] - 9s 213ms/step - loss: 0.1732 - accuracy: 0.9559 - val_loss: 0.0454 - val_accuracy: 0.9883\n",
      "Epoch 7/10\n",
      "43/43 [==============================] - 9s 213ms/step - loss: 0.1616 - accuracy: 0.9518 - val_loss: 0.0540 - val_accuracy: 0.9859\n",
      "Epoch 8/10\n",
      "43/43 [==============================] - 9s 214ms/step - loss: 0.1479 - accuracy: 0.9595 - val_loss: 0.0510 - val_accuracy: 0.9855\n",
      "Epoch 9/10\n",
      "43/43 [==============================] - 9s 216ms/step - loss: 0.1267 - accuracy: 0.9594 - val_loss: 0.0460 - val_accuracy: 0.9881\n",
      "Epoch 10/10\n",
      "43/43 [==============================] - 9s 216ms/step - loss: 0.1415 - accuracy: 0.9634 - val_loss: 0.0706 - val_accuracy: 0.9846\n",
      "Duration: 0:01:31.798010\n"
     ]
    }
   ],
   "source": [
    "print(n)\n",
    "models_se[n].fit_model(image_sets_se[n],label_sets_se[n],x_val,y_val)\n",
    "n = n+1"
   ]
  },
  {
   "cell_type": "code",
   "execution_count": 124,
   "id": "e73810d4",
   "metadata": {},
   "outputs": [
    {
     "name": "stdout",
     "output_type": "stream",
     "text": [
      "8\n",
      "Epoch 1/10\n",
      "48/48 [==============================] - 11s 202ms/step - loss: 0.4231 - accuracy: 0.8973 - val_loss: 0.0408 - val_accuracy: 0.9885\n",
      "Epoch 2/10\n",
      "48/48 [==============================] - 10s 203ms/step - loss: 0.2901 - accuracy: 0.9361 - val_loss: 0.0429 - val_accuracy: 0.9891\n",
      "Epoch 3/10\n",
      "48/48 [==============================] - 10s 205ms/step - loss: 0.2020 - accuracy: 0.9437 - val_loss: 0.0443 - val_accuracy: 0.9887\n",
      "Epoch 4/10\n",
      "48/48 [==============================] - 10s 204ms/step - loss: 0.1984 - accuracy: 0.9419 - val_loss: 0.0435 - val_accuracy: 0.9886\n",
      "Epoch 5/10\n",
      "48/48 [==============================] - 10s 207ms/step - loss: 0.1472 - accuracy: 0.9554 - val_loss: 0.0398 - val_accuracy: 0.9879\n",
      "Epoch 6/10\n",
      "48/48 [==============================] - 10s 205ms/step - loss: 0.1827 - accuracy: 0.9465 - val_loss: 0.0461 - val_accuracy: 0.9879\n",
      "Epoch 7/10\n",
      "48/48 [==============================] - 10s 207ms/step - loss: 0.1377 - accuracy: 0.9510 - val_loss: 0.0969 - val_accuracy: 0.9822\n",
      "Epoch 8/10\n",
      "48/48 [==============================] - 10s 209ms/step - loss: 0.1330 - accuracy: 0.9626 - val_loss: 0.0485 - val_accuracy: 0.9894\n",
      "Epoch 9/10\n",
      "48/48 [==============================] - 10s 210ms/step - loss: 0.1062 - accuracy: 0.9670 - val_loss: 0.0620 - val_accuracy: 0.9870\n",
      "Epoch 10/10\n",
      "48/48 [==============================] - 10s 211ms/step - loss: 0.0876 - accuracy: 0.9728 - val_loss: 0.0413 - val_accuracy: 0.9889\n",
      "Duration: 0:01:39.538534\n"
     ]
    }
   ],
   "source": [
    "print(n)\n",
    "models_se[n].fit_model(image_sets_se[n],label_sets_se[n],x_val,y_val)\n",
    "n = n+1"
   ]
  },
  {
   "cell_type": "code",
   "execution_count": 125,
   "id": "ec33d8eb",
   "metadata": {},
   "outputs": [
    {
     "name": "stdout",
     "output_type": "stream",
     "text": [
      "9\n",
      "Epoch 1/10\n",
      "54/54 [==============================] - 12s 200ms/step - loss: 0.3599 - accuracy: 0.9226 - val_loss: 0.0566 - val_accuracy: 0.9869\n",
      "Epoch 2/10\n",
      "54/54 [==============================] - 11s 202ms/step - loss: 0.2872 - accuracy: 0.9392 - val_loss: 0.0510 - val_accuracy: 0.9874\n",
      "Epoch 3/10\n",
      "54/54 [==============================] - 11s 201ms/step - loss: 0.1868 - accuracy: 0.9557 - val_loss: 0.0551 - val_accuracy: 0.9869\n",
      "Epoch 4/10\n",
      "54/54 [==============================] - 11s 202ms/step - loss: 0.1954 - accuracy: 0.9511 - val_loss: 0.0460 - val_accuracy: 0.9876\n",
      "Epoch 5/10\n",
      "54/54 [==============================] - 11s 203ms/step - loss: 0.1727 - accuracy: 0.9565 - val_loss: 0.0456 - val_accuracy: 0.9893\n",
      "Epoch 6/10\n",
      "54/54 [==============================] - 11s 206ms/step - loss: 0.1621 - accuracy: 0.9572 - val_loss: 0.0480 - val_accuracy: 0.9876\n",
      "Epoch 7/10\n",
      "54/54 [==============================] - 11s 206ms/step - loss: 0.1291 - accuracy: 0.9625 - val_loss: 0.0741 - val_accuracy: 0.9875\n",
      "Epoch 8/10\n",
      "54/54 [==============================] - 11s 206ms/step - loss: 0.1541 - accuracy: 0.9561 - val_loss: 0.0450 - val_accuracy: 0.9874\n",
      "Epoch 9/10\n",
      "54/54 [==============================] - 11s 206ms/step - loss: 0.1448 - accuracy: 0.9583 - val_loss: 0.0711 - val_accuracy: 0.9856\n",
      "Epoch 10/10\n",
      "54/54 [==============================] - 11s 207ms/step - loss: 0.1223 - accuracy: 0.9695 - val_loss: 0.0662 - val_accuracy: 0.9862\n",
      "Duration: 0:01:50.387380\n"
     ]
    }
   ],
   "source": [
    "#\n",
    "print(n)\n",
    "models_se[n].fit_model(image_sets_se[n],label_sets_se[n],x_val,y_val)\n",
    "n = n+1"
   ]
  },
  {
   "cell_type": "code",
   "execution_count": 126,
   "id": "8806a4e3",
   "metadata": {},
   "outputs": [
    {
     "name": "stdout",
     "output_type": "stream",
     "text": [
      "10\n",
      "Epoch 1/10\n",
      "59/59 [==============================] - 13s 199ms/step - loss: 0.3393 - accuracy: 0.9294 - val_loss: 0.0431 - val_accuracy: 0.9884\n",
      "Epoch 2/10\n",
      "59/59 [==============================] - 12s 197ms/step - loss: 0.2235 - accuracy: 0.9417 - val_loss: 0.0499 - val_accuracy: 0.9864\n",
      "Epoch 3/10\n",
      "59/59 [==============================] - 12s 198ms/step - loss: 0.1878 - accuracy: 0.9473 - val_loss: 0.0610 - val_accuracy: 0.9875\n",
      "Epoch 4/10\n",
      "59/59 [==============================] - 12s 198ms/step - loss: 0.1760 - accuracy: 0.9600 - val_loss: 0.0492 - val_accuracy: 0.9864\n",
      "Epoch 5/10\n",
      "59/59 [==============================] - 12s 199ms/step - loss: 0.1743 - accuracy: 0.9522 - val_loss: 0.0490 - val_accuracy: 0.9886\n",
      "Epoch 6/10\n",
      "59/59 [==============================] - 12s 197ms/step - loss: 0.1330 - accuracy: 0.9623 - val_loss: 0.0537 - val_accuracy: 0.9856\n",
      "Epoch 7/10\n",
      "59/59 [==============================] - 12s 200ms/step - loss: 0.1325 - accuracy: 0.9594 - val_loss: 0.0498 - val_accuracy: 0.9875\n",
      "Epoch 8/10\n",
      "59/59 [==============================] - 12s 199ms/step - loss: 0.1150 - accuracy: 0.9656 - val_loss: 0.0501 - val_accuracy: 0.9880\n",
      "Epoch 9/10\n",
      "59/59 [==============================] - 12s 199ms/step - loss: 0.1221 - accuracy: 0.9628 - val_loss: 0.0433 - val_accuracy: 0.9883\n",
      "Epoch 10/10\n",
      "59/59 [==============================] - 12s 198ms/step - loss: 0.1162 - accuracy: 0.9681 - val_loss: 0.0691 - val_accuracy: 0.9859\n",
      "Duration: 0:01:57.534296\n"
     ]
    }
   ],
   "source": [
    "print(n)\n",
    "models_se[n].fit_model(image_sets_se[n],label_sets_se[n],x_val,y_val)\n",
    "n = n+1"
   ]
  },
  {
   "cell_type": "code",
   "execution_count": 127,
   "id": "1bf6fa19",
   "metadata": {},
   "outputs": [
    {
     "name": "stdout",
     "output_type": "stream",
     "text": [
      "11\n",
      "Epoch 1/10\n",
      "64/64 [==============================] - 13s 191ms/step - loss: 0.3906 - accuracy: 0.9346 - val_loss: 0.0477 - val_accuracy: 0.9876\n",
      "Epoch 2/10\n",
      "64/64 [==============================] - 12s 190ms/step - loss: 0.2123 - accuracy: 0.9488 - val_loss: 0.0492 - val_accuracy: 0.9878\n",
      "Epoch 3/10\n",
      "64/64 [==============================] - 12s 190ms/step - loss: 0.1973 - accuracy: 0.9465 - val_loss: 0.0502 - val_accuracy: 0.9874\n",
      "Epoch 4/10\n",
      "64/64 [==============================] - 12s 190ms/step - loss: 0.2032 - accuracy: 0.9505 - val_loss: 0.0457 - val_accuracy: 0.9881\n",
      "Epoch 5/10\n",
      "64/64 [==============================] - 12s 190ms/step - loss: 0.1402 - accuracy: 0.9627 - val_loss: 0.0474 - val_accuracy: 0.9879\n",
      "Epoch 6/10\n",
      "64/64 [==============================] - 12s 191ms/step - loss: 0.1273 - accuracy: 0.9658 - val_loss: 0.0417 - val_accuracy: 0.9883\n",
      "Epoch 7/10\n",
      "64/64 [==============================] - 12s 191ms/step - loss: 0.1017 - accuracy: 0.9698 - val_loss: 0.0446 - val_accuracy: 0.9881\n",
      "Epoch 8/10\n",
      "64/64 [==============================] - 12s 191ms/step - loss: 0.1094 - accuracy: 0.9708 - val_loss: 0.0506 - val_accuracy: 0.9853\n",
      "Epoch 9/10\n",
      "64/64 [==============================] - 12s 191ms/step - loss: 0.1162 - accuracy: 0.9694 - val_loss: 0.0412 - val_accuracy: 0.9889\n",
      "Epoch 10/10\n",
      "64/64 [==============================] - 12s 191ms/step - loss: 0.1090 - accuracy: 0.9694 - val_loss: 0.0474 - val_accuracy: 0.9885\n",
      "Duration: 0:02:02.490253\n"
     ]
    }
   ],
   "source": [
    "print(n)\n",
    "models_se[n].fit_model(image_sets_se[n],label_sets_se[n],x_val,y_val)\n",
    "n = n+1"
   ]
  },
  {
   "cell_type": "code",
   "execution_count": 128,
   "id": "10a1fe8d",
   "metadata": {},
   "outputs": [
    {
     "name": "stdout",
     "output_type": "stream",
     "text": [
      "12\n",
      "Epoch 1/10\n",
      "70/70 [==============================] - 14s 184ms/step - loss: 0.3298 - accuracy: 0.9331 - val_loss: 0.0841 - val_accuracy: 0.9819\n",
      "Epoch 2/10\n",
      "70/70 [==============================] - 13s 183ms/step - loss: 0.1880 - accuracy: 0.9507 - val_loss: 0.0488 - val_accuracy: 0.9873\n",
      "Epoch 3/10\n",
      "70/70 [==============================] - 13s 183ms/step - loss: 0.1661 - accuracy: 0.9564 - val_loss: 0.0458 - val_accuracy: 0.9872\n",
      "Epoch 4/10\n",
      "70/70 [==============================] - 13s 183ms/step - loss: 0.1601 - accuracy: 0.9573 - val_loss: 0.0536 - val_accuracy: 0.9840\n",
      "Epoch 5/10\n",
      "70/70 [==============================] - 13s 183ms/step - loss: 0.1564 - accuracy: 0.9609 - val_loss: 0.0483 - val_accuracy: 0.9879\n",
      "Epoch 6/10\n",
      "70/70 [==============================] - 13s 184ms/step - loss: 0.1320 - accuracy: 0.9666 - val_loss: 0.0751 - val_accuracy: 0.9832\n",
      "Epoch 7/10\n",
      "70/70 [==============================] - 13s 183ms/step - loss: 0.1264 - accuracy: 0.9669 - val_loss: 0.0572 - val_accuracy: 0.9865\n",
      "Epoch 8/10\n",
      "70/70 [==============================] - 13s 184ms/step - loss: 0.1076 - accuracy: 0.9735 - val_loss: 0.0455 - val_accuracy: 0.9880\n",
      "Epoch 9/10\n",
      "70/70 [==============================] - 13s 185ms/step - loss: 0.0879 - accuracy: 0.9748 - val_loss: 0.0434 - val_accuracy: 0.9879\n",
      "Epoch 10/10\n",
      "70/70 [==============================] - 13s 183ms/step - loss: 0.1056 - accuracy: 0.9688 - val_loss: 0.0565 - val_accuracy: 0.9862\n",
      "Duration: 0:02:08.972622\n"
     ]
    }
   ],
   "source": [
    "print(n)\n",
    "models_se[n].fit_model(image_sets_se[n],label_sets_se[n],x_val,y_val)\n",
    "n = n+1"
   ]
  },
  {
   "cell_type": "code",
   "execution_count": 129,
   "id": "14517ae0",
   "metadata": {},
   "outputs": [
    {
     "name": "stdout",
     "output_type": "stream",
     "text": [
      "13\n",
      "Epoch 1/10\n",
      "75/75 [==============================] - 15s 178ms/step - loss: 0.3207 - accuracy: 0.9382 - val_loss: 0.0663 - val_accuracy: 0.9846\n",
      "Epoch 2/10\n",
      "75/75 [==============================] - 13s 177ms/step - loss: 0.2292 - accuracy: 0.9507 - val_loss: 0.0476 - val_accuracy: 0.9883\n",
      "Epoch 3/10\n",
      "75/75 [==============================] - 13s 178ms/step - loss: 0.1454 - accuracy: 0.9638 - val_loss: 0.0476 - val_accuracy: 0.9878\n",
      "Epoch 4/10\n",
      "75/75 [==============================] - 14s 183ms/step - loss: 0.1404 - accuracy: 0.9588 - val_loss: 0.0473 - val_accuracy: 0.9882\n",
      "Epoch 5/10\n",
      "75/75 [==============================] - 13s 180ms/step - loss: 0.1169 - accuracy: 0.9712 - val_loss: 0.0560 - val_accuracy: 0.9879\n",
      "Epoch 6/10\n",
      "75/75 [==============================] - 13s 178ms/step - loss: 0.1321 - accuracy: 0.9684 - val_loss: 0.0560 - val_accuracy: 0.9874\n",
      "Epoch 7/10\n",
      "75/75 [==============================] - 13s 178ms/step - loss: 0.1187 - accuracy: 0.9711 - val_loss: 0.0635 - val_accuracy: 0.9851\n",
      "Epoch 8/10\n",
      "75/75 [==============================] - 13s 179ms/step - loss: 0.1053 - accuracy: 0.9735 - val_loss: 0.0455 - val_accuracy: 0.9889\n",
      "Epoch 9/10\n",
      "75/75 [==============================] - 13s 179ms/step - loss: 0.0923 - accuracy: 0.9762 - val_loss: 0.0462 - val_accuracy: 0.9879\n",
      "Epoch 10/10\n",
      "75/75 [==============================] - 13s 179ms/step - loss: 0.0862 - accuracy: 0.9737 - val_loss: 0.0567 - val_accuracy: 0.9867\n",
      "Duration: 0:02:14.982003\n"
     ]
    }
   ],
   "source": [
    "print(n)\n",
    "models_se[n].fit_model(image_sets_se[n],label_sets_se[n],x_val,y_val)\n",
    "n = n+1"
   ]
  },
  {
   "cell_type": "code",
   "execution_count": 130,
   "id": "ef9d752d",
   "metadata": {},
   "outputs": [
    {
     "name": "stdout",
     "output_type": "stream",
     "text": [
      "14\n",
      "Epoch 1/10\n",
      "80/80 [==============================] - 15s 176ms/step - loss: 0.3094 - accuracy: 0.9431 - val_loss: 0.0471 - val_accuracy: 0.9875\n",
      "Epoch 2/10\n",
      "80/80 [==============================] - 14s 178ms/step - loss: 0.1618 - accuracy: 0.9597 - val_loss: 0.0480 - val_accuracy: 0.9876\n",
      "Epoch 3/10\n",
      "80/80 [==============================] - 14s 175ms/step - loss: 0.1532 - accuracy: 0.9590 - val_loss: 0.0427 - val_accuracy: 0.9887\n",
      "Epoch 4/10\n",
      "80/80 [==============================] - 14s 177ms/step - loss: 0.1410 - accuracy: 0.9680 - val_loss: 0.0390 - val_accuracy: 0.9890\n",
      "Epoch 5/10\n",
      "80/80 [==============================] - 14s 177ms/step - loss: 0.0970 - accuracy: 0.9749 - val_loss: 0.0479 - val_accuracy: 0.9882\n",
      "Epoch 6/10\n",
      "80/80 [==============================] - 14s 176ms/step - loss: 0.1273 - accuracy: 0.9651 - val_loss: 0.0409 - val_accuracy: 0.9879\n",
      "Epoch 7/10\n",
      "80/80 [==============================] - 14s 176ms/step - loss: 0.0957 - accuracy: 0.9740 - val_loss: 0.0435 - val_accuracy: 0.9883\n",
      "Epoch 8/10\n",
      "80/80 [==============================] - 14s 176ms/step - loss: 0.0993 - accuracy: 0.9741 - val_loss: 0.0443 - val_accuracy: 0.9888\n",
      "Epoch 9/10\n",
      "80/80 [==============================] - 14s 176ms/step - loss: 0.0838 - accuracy: 0.9780 - val_loss: 0.0475 - val_accuracy: 0.9881\n",
      "Epoch 10/10\n",
      "80/80 [==============================] - 14s 176ms/step - loss: 0.0880 - accuracy: 0.9761 - val_loss: 0.0725 - val_accuracy: 0.9846\n",
      "Duration: 0:02:21.778095\n"
     ]
    }
   ],
   "source": [
    "#\n",
    "print(n)\n",
    "models_se[n].fit_model(image_sets_se[n],label_sets_se[n],x_val,y_val)\n",
    "n = n+1"
   ]
  },
  {
   "cell_type": "code",
   "execution_count": 131,
   "id": "8866d4bf",
   "metadata": {},
   "outputs": [
    {
     "name": "stdout",
     "output_type": "stream",
     "text": [
      "15\n",
      "Epoch 1/10\n",
      "85/85 [==============================] - 16s 172ms/step - loss: 0.2366 - accuracy: 0.9491 - val_loss: 0.0395 - val_accuracy: 0.9889\n",
      "Epoch 2/10\n",
      "85/85 [==============================] - 15s 173ms/step - loss: 0.1828 - accuracy: 0.9556 - val_loss: 0.0479 - val_accuracy: 0.9883\n",
      "Epoch 3/10\n",
      "85/85 [==============================] - 15s 172ms/step - loss: 0.1421 - accuracy: 0.9659 - val_loss: 0.0428 - val_accuracy: 0.9890\n",
      "Epoch 4/10\n",
      "85/85 [==============================] - 14s 171ms/step - loss: 0.1468 - accuracy: 0.9642 - val_loss: 0.0483 - val_accuracy: 0.9871\n",
      "Epoch 5/10\n",
      "85/85 [==============================] - 15s 171ms/step - loss: 0.1174 - accuracy: 0.9674 - val_loss: 0.0464 - val_accuracy: 0.9878\n",
      "Epoch 6/10\n",
      "85/85 [==============================] - 15s 172ms/step - loss: 0.1061 - accuracy: 0.9715 - val_loss: 0.0475 - val_accuracy: 0.9883\n",
      "Epoch 7/10\n",
      "85/85 [==============================] - 15s 173ms/step - loss: 0.1044 - accuracy: 0.9753 - val_loss: 0.0458 - val_accuracy: 0.9874\n",
      "Epoch 8/10\n",
      "85/85 [==============================] - 16s 191ms/step - loss: 0.1005 - accuracy: 0.9717 - val_loss: 0.0474 - val_accuracy: 0.9874\n",
      "Epoch 9/10\n",
      "85/85 [==============================] - 16s 191ms/step - loss: 0.0868 - accuracy: 0.9762 - val_loss: 0.0464 - val_accuracy: 0.9887\n",
      "Epoch 10/10\n",
      "85/85 [==============================] - 16s 191ms/step - loss: 0.0765 - accuracy: 0.9781 - val_loss: 0.0498 - val_accuracy: 0.9879\n",
      "Duration: 0:02:31.808513\n"
     ]
    }
   ],
   "source": [
    "print(n)\n",
    "models_se[n].fit_model(image_sets_se[n],label_sets_se[n],x_val,y_val)\n",
    "n = n+1"
   ]
  },
  {
   "cell_type": "code",
   "execution_count": 132,
   "id": "20094079",
   "metadata": {},
   "outputs": [
    {
     "name": "stdout",
     "output_type": "stream",
     "text": [
      "16\n",
      "Epoch 1/10\n",
      "91/91 [==============================] - 19s 188ms/step - loss: 0.2176 - accuracy: 0.9502 - val_loss: 0.0550 - val_accuracy: 0.9871\n",
      "Epoch 2/10\n",
      "91/91 [==============================] - 17s 189ms/step - loss: 0.1478 - accuracy: 0.9632 - val_loss: 0.0425 - val_accuracy: 0.9886\n",
      "Epoch 3/10\n",
      "91/91 [==============================] - 17s 187ms/step - loss: 0.1238 - accuracy: 0.9676 - val_loss: 0.0615 - val_accuracy: 0.9858\n",
      "Epoch 4/10\n",
      "91/91 [==============================] - 17s 186ms/step - loss: 0.1197 - accuracy: 0.9654 - val_loss: 0.0610 - val_accuracy: 0.9853\n",
      "Epoch 5/10\n",
      "91/91 [==============================] - 17s 186ms/step - loss: 0.0926 - accuracy: 0.9736 - val_loss: 0.0663 - val_accuracy: 0.9837\n",
      "Epoch 6/10\n",
      "91/91 [==============================] - 17s 187ms/step - loss: 0.0804 - accuracy: 0.9757 - val_loss: 0.0537 - val_accuracy: 0.9870\n",
      "Epoch 7/10\n",
      "91/91 [==============================] - 17s 188ms/step - loss: 0.0880 - accuracy: 0.9759 - val_loss: 0.0739 - val_accuracy: 0.9780\n",
      "Epoch 8/10\n",
      "91/91 [==============================] - 17s 187ms/step - loss: 0.0898 - accuracy: 0.9747 - val_loss: 0.0524 - val_accuracy: 0.9876\n",
      "Epoch 9/10\n",
      "91/91 [==============================] - 17s 187ms/step - loss: 0.0993 - accuracy: 0.9728 - val_loss: 0.0846 - val_accuracy: 0.9750\n",
      "Epoch 10/10\n",
      "91/91 [==============================] - 17s 187ms/step - loss: 0.0772 - accuracy: 0.9777 - val_loss: 0.1372 - val_accuracy: 0.9784\n",
      "Duration: 0:02:51.578740\n"
     ]
    }
   ],
   "source": [
    "print(n)\n",
    "models_se[n].fit_model(image_sets_se[n],label_sets_se[n],x_val,y_val)\n",
    "n = n+1"
   ]
  },
  {
   "cell_type": "code",
   "execution_count": 133,
   "id": "86a5bf4a",
   "metadata": {},
   "outputs": [
    {
     "name": "stdout",
     "output_type": "stream",
     "text": [
      "17\n",
      "Epoch 1/10\n",
      "96/96 [==============================] - 20s 187ms/step - loss: 0.2157 - accuracy: 0.9531 - val_loss: 0.0459 - val_accuracy: 0.9879\n",
      "Epoch 2/10\n",
      "96/96 [==============================] - 18s 186ms/step - loss: 0.1686 - accuracy: 0.9576 - val_loss: 0.0425 - val_accuracy: 0.9881\n",
      "Epoch 3/10\n",
      "96/96 [==============================] - 18s 186ms/step - loss: 0.1403 - accuracy: 0.9667 - val_loss: 0.0460 - val_accuracy: 0.9883\n",
      "Epoch 4/10\n",
      "96/96 [==============================] - 18s 186ms/step - loss: 0.1099 - accuracy: 0.9740 - val_loss: 0.0583 - val_accuracy: 0.9854\n",
      "Epoch 5/10\n",
      "96/96 [==============================] - 18s 186ms/step - loss: 0.1001 - accuracy: 0.9699 - val_loss: 0.0512 - val_accuracy: 0.9876\n",
      "Epoch 6/10\n",
      "96/96 [==============================] - 18s 186ms/step - loss: 0.1000 - accuracy: 0.9756 - val_loss: 0.0466 - val_accuracy: 0.9871\n",
      "Epoch 7/10\n",
      "96/96 [==============================] - 18s 186ms/step - loss: 0.0917 - accuracy: 0.9741 - val_loss: 0.0550 - val_accuracy: 0.9864\n",
      "Epoch 8/10\n",
      "96/96 [==============================] - 18s 186ms/step - loss: 0.0722 - accuracy: 0.9819 - val_loss: 0.0451 - val_accuracy: 0.9875\n",
      "Epoch 9/10\n",
      "96/96 [==============================] - 18s 186ms/step - loss: 0.0666 - accuracy: 0.9811 - val_loss: 0.0559 - val_accuracy: 0.9864\n",
      "Epoch 10/10\n",
      "96/96 [==============================] - 19s 194ms/step - loss: 0.0607 - accuracy: 0.9830 - val_loss: 0.0418 - val_accuracy: 0.9891\n",
      "Duration: 0:03:00.737400\n"
     ]
    }
   ],
   "source": [
    "print(n)\n",
    "models_se[n].fit_model(image_sets_se[n],label_sets_se[n],x_val,y_val)\n",
    "n = n+1"
   ]
  },
  {
   "cell_type": "code",
   "execution_count": 134,
   "id": "ff39111d",
   "metadata": {},
   "outputs": [
    {
     "name": "stdout",
     "output_type": "stream",
     "text": [
      "18\n",
      "Epoch 1/10\n",
      "101/101 [==============================] - 20s 185ms/step - loss: 0.2071 - accuracy: 0.9551 - val_loss: 0.0470 - val_accuracy: 0.9889\n",
      "Epoch 2/10\n",
      "101/101 [==============================] - 19s 186ms/step - loss: 0.1615 - accuracy: 0.9611 - val_loss: 0.0607 - val_accuracy: 0.9873\n",
      "Epoch 3/10\n",
      "101/101 [==============================] - 19s 184ms/step - loss: 0.1474 - accuracy: 0.9644 - val_loss: 0.0461 - val_accuracy: 0.9870\n",
      "Epoch 4/10\n",
      "101/101 [==============================] - 18s 183ms/step - loss: 0.1228 - accuracy: 0.9736 - val_loss: 0.0492 - val_accuracy: 0.9884\n",
      "Epoch 5/10\n",
      "101/101 [==============================] - 19s 185ms/step - loss: 0.0915 - accuracy: 0.9776 - val_loss: 0.0477 - val_accuracy: 0.9867\n",
      "Epoch 6/10\n",
      "101/101 [==============================] - 19s 185ms/step - loss: 0.0913 - accuracy: 0.9776 - val_loss: 0.0514 - val_accuracy: 0.9854\n",
      "Epoch 7/10\n",
      "101/101 [==============================] - 19s 185ms/step - loss: 0.0912 - accuracy: 0.9745 - val_loss: 0.0639 - val_accuracy: 0.9861\n",
      "Epoch 8/10\n",
      "101/101 [==============================] - 19s 185ms/step - loss: 0.0712 - accuracy: 0.9819 - val_loss: 0.0533 - val_accuracy: 0.9863\n",
      "Epoch 9/10\n",
      "101/101 [==============================] - 19s 185ms/step - loss: 0.0708 - accuracy: 0.9803 - val_loss: 0.0530 - val_accuracy: 0.9852\n",
      "Epoch 10/10\n",
      "101/101 [==============================] - 19s 187ms/step - loss: 0.0864 - accuracy: 0.9774 - val_loss: 0.0506 - val_accuracy: 0.9884\n",
      "Duration: 0:03:08.137381\n"
     ]
    }
   ],
   "source": [
    "print(n)\n",
    "models_se[n].fit_model(image_sets_se[n],label_sets_se[n],x_val,y_val)\n",
    "n = n+1"
   ]
  },
  {
   "cell_type": "code",
   "execution_count": 135,
   "id": "c5efc9e3",
   "metadata": {},
   "outputs": [
    {
     "name": "stdout",
     "output_type": "stream",
     "text": [
      "19\n",
      "Epoch 1/10\n",
      "110/110 [==============================] - 22s 181ms/step - loss: 0.2153 - accuracy: 0.9605 - val_loss: 0.0533 - val_accuracy: 0.9870\n",
      "Epoch 2/10\n",
      "110/110 [==============================] - 20s 181ms/step - loss: 0.1502 - accuracy: 0.9662 - val_loss: 0.0506 - val_accuracy: 0.9883\n",
      "Epoch 3/10\n",
      "110/110 [==============================] - 20s 182ms/step - loss: 0.1219 - accuracy: 0.9721 - val_loss: 0.0610 - val_accuracy: 0.9860\n",
      "Epoch 4/10\n",
      "110/110 [==============================] - 20s 182ms/step - loss: 0.1075 - accuracy: 0.9696 - val_loss: 0.0625 - val_accuracy: 0.9856\n",
      "Epoch 5/10\n",
      "110/110 [==============================] - 20s 180ms/step - loss: 0.0941 - accuracy: 0.9743 - val_loss: 0.0513 - val_accuracy: 0.9866\n",
      "Epoch 6/10\n",
      "110/110 [==============================] - 20s 181ms/step - loss: 0.1013 - accuracy: 0.9750 - val_loss: 0.0554 - val_accuracy: 0.9871\n",
      "Epoch 7/10\n",
      "110/110 [==============================] - 20s 181ms/step - loss: 0.0992 - accuracy: 0.9773 - val_loss: 0.0644 - val_accuracy: 0.9845\n",
      "Epoch 8/10\n",
      "110/110 [==============================] - 20s 181ms/step - loss: 0.0831 - accuracy: 0.9791 - val_loss: 0.0483 - val_accuracy: 0.9876\n",
      "Epoch 9/10\n",
      "110/110 [==============================] - 20s 182ms/step - loss: 0.0717 - accuracy: 0.9833 - val_loss: 0.1319 - val_accuracy: 0.9766\n",
      "Epoch 10/10\n",
      "110/110 [==============================] - 20s 181ms/step - loss: 0.0764 - accuracy: 0.9791 - val_loss: 0.0596 - val_accuracy: 0.9846\n",
      "Duration: 0:03:20.759202\n"
     ]
    }
   ],
   "source": [
    "#\n",
    "print(n)\n",
    "models_se[n].fit_model(image_sets_se[n],label_sets_se[n],x_val,y_val)\n",
    "n = n+1"
   ]
  },
  {
   "cell_type": "code",
   "execution_count": 136,
   "id": "825c1334",
   "metadata": {},
   "outputs": [
    {
     "name": "stdout",
     "output_type": "stream",
     "text": [
      "INFO:tensorflow:Assets written to: D:/models/aug_22/mnist/C3/mnist_model_c3_aug_se_e1_0\\assets\n",
      "Model has been saved\n",
      "INFO:tensorflow:Assets written to: D:/models/aug_22/mnist/C3/mnist_model_c3_aug_se_e1_1\\assets\n",
      "Model has been saved\n",
      "INFO:tensorflow:Assets written to: D:/models/aug_22/mnist/C3/mnist_model_c3_aug_se_e1_2\\assets\n",
      "Model has been saved\n",
      "INFO:tensorflow:Assets written to: D:/models/aug_22/mnist/C3/mnist_model_c3_aug_se_e1_3\\assets\n",
      "Model has been saved\n",
      "INFO:tensorflow:Assets written to: D:/models/aug_22/mnist/C3/mnist_model_c3_aug_se_e1_4\\assets\n",
      "Model has been saved\n",
      "INFO:tensorflow:Assets written to: D:/models/aug_22/mnist/C3/mnist_model_c3_aug_se_e1_5\\assets\n",
      "Model has been saved\n",
      "INFO:tensorflow:Assets written to: D:/models/aug_22/mnist/C3/mnist_model_c3_aug_se_e1_6\\assets\n",
      "Model has been saved\n",
      "INFO:tensorflow:Assets written to: D:/models/aug_22/mnist/C3/mnist_model_c3_aug_se_e1_7\\assets\n",
      "Model has been saved\n",
      "INFO:tensorflow:Assets written to: D:/models/aug_22/mnist/C3/mnist_model_c3_aug_se_e1_8\\assets\n",
      "Model has been saved\n",
      "INFO:tensorflow:Assets written to: D:/models/aug_22/mnist/C3/mnist_model_c3_aug_se_e1_9\\assets\n",
      "Model has been saved\n",
      "INFO:tensorflow:Assets written to: D:/models/aug_22/mnist/C3/mnist_model_c3_aug_se_e1_10\\assets\n",
      "Model has been saved\n",
      "INFO:tensorflow:Assets written to: D:/models/aug_22/mnist/C3/mnist_model_c3_aug_se_e1_11\\assets\n",
      "Model has been saved\n",
      "INFO:tensorflow:Assets written to: D:/models/aug_22/mnist/C3/mnist_model_c3_aug_se_e1_12\\assets\n",
      "Model has been saved\n",
      "INFO:tensorflow:Assets written to: D:/models/aug_22/mnist/C3/mnist_model_c3_aug_se_e1_13\\assets\n",
      "Model has been saved\n",
      "INFO:tensorflow:Assets written to: D:/models/aug_22/mnist/C3/mnist_model_c3_aug_se_e1_14\\assets\n",
      "Model has been saved\n",
      "INFO:tensorflow:Assets written to: D:/models/aug_22/mnist/C3/mnist_model_c3_aug_se_e1_15\\assets\n",
      "Model has been saved\n",
      "INFO:tensorflow:Assets written to: D:/models/aug_22/mnist/C3/mnist_model_c3_aug_se_e1_16\\assets\n",
      "Model has been saved\n",
      "INFO:tensorflow:Assets written to: D:/models/aug_22/mnist/C3/mnist_model_c3_aug_se_e1_17\\assets\n",
      "Model has been saved\n",
      "INFO:tensorflow:Assets written to: D:/models/aug_22/mnist/C3/mnist_model_c3_aug_se_e1_18\\assets\n",
      "Model has been saved\n",
      "INFO:tensorflow:Assets written to: D:/models/aug_22/mnist/C3/mnist_model_c3_aug_se_e1_19\\assets\n",
      "Model has been saved\n"
     ]
    }
   ],
   "source": [
    "#new_model_se_dir  = \"C:/Users/fjdurlop/Documents/upc/models/\"+dataset+\"/C3/\"+dataset+\"_model_c3_aug_se_e1\"\n",
    "new_model_se_dir  = \"D:/models/aug_22/\"+dataset+\"/C3/\"+dataset+\"_model_c3_aug_se_e1\"\n",
    "\n",
    "i=0\n",
    "\n",
    "for model in models_se:\n",
    "    model.save(new_model_se_dir+\"_\"+str(i))\n",
    "    i+=1"
   ]
  },
  {
   "cell_type": "code",
   "execution_count": 137,
   "id": "95d86000",
   "metadata": {},
   "outputs": [],
   "source": [
    "try:\n",
    "    del se_values\n",
    "    del top_images_by_se\n",
    "    del top_labels_by_se\n",
    "    del image_sets_se\n",
    "    del label_sets_se\n",
    "    del models_se\n",
    "except:\n",
    "    print(\"Error\")"
   ]
  },
  {
   "cell_type": "code",
   "execution_count": 138,
   "id": "fcf7c5f3",
   "metadata": {},
   "outputs": [
    {
     "data": {
      "text/plain": [
       "306302"
      ]
     },
     "execution_count": 138,
     "metadata": {},
     "output_type": "execute_result"
    }
   ],
   "source": [
    "gc.collect()"
   ]
  },
  {
   "cell_type": "markdown",
   "id": "11198aa3",
   "metadata": {},
   "source": [
    "## Training guided by Random values"
   ]
  },
  {
   "cell_type": "code",
   "execution_count": 139,
   "id": "0eca574c",
   "metadata": {},
   "outputs": [
    {
     "name": "stdout",
     "output_type": "stream",
     "text": [
      "6999\n"
     ]
    }
   ],
   "source": [
    "#save_dir = \"C:/Users/fjdurlop/Documents/upc/upc-july/data/\"+dataset+\"/random_values.npy\"\n",
    "save_dir = \"C:/Users/fjdur/Documents/upc-july/data/\"+dataset+\"/random_values.npy\"\n",
    "\n",
    "\n",
    "random_indexes = np.load(save_dir)[len(x_train):] \n",
    "print(len(random_indexes))"
   ]
  },
  {
   "cell_type": "code",
   "execution_count": 140,
   "id": "5a735c0d",
   "metadata": {},
   "outputs": [
    {
     "data": {
      "text/plain": [
       "6999"
      ]
     },
     "execution_count": 140,
     "metadata": {},
     "output_type": "execute_result"
    }
   ],
   "source": [
    "len(random_indexes)"
   ]
  },
  {
   "cell_type": "code",
   "execution_count": 141,
   "id": "d13ccb6c",
   "metadata": {},
   "outputs": [],
   "source": [
    "# Obtaining top n images by random values\n",
    "top_images_by_random = utils.get_x_of_indexes(list(np.flip(np.argsort(random_indexes))),x_adversary_training)\n",
    "top_labels_by_random = utils.get_x_of_indexes(list(np.flip(np.argsort(random_indexes))),y_adversary_training)"
   ]
  },
  {
   "cell_type": "code",
   "execution_count": 142,
   "id": "1209ac75",
   "metadata": {},
   "outputs": [
    {
     "name": "stdout",
     "output_type": "stream",
     "text": [
      "0 :\n",
      "0  ->  340\n",
      "340\n",
      "1 :\n",
      "0  ->  680\n",
      "680\n",
      "2 :\n",
      "0  ->  1020\n",
      "1020\n",
      "3 :\n",
      "0  ->  1360\n",
      "1360\n",
      "4 :\n",
      "0  ->  1700\n",
      "1700\n",
      "5 :\n",
      "0  ->  2040\n",
      "2040\n",
      "6 :\n",
      "0  ->  2380\n",
      "2380\n",
      "7 :\n",
      "0  ->  2720\n",
      "2720\n",
      "8 :\n",
      "0  ->  3060\n",
      "3060\n",
      "9 :\n",
      "0  ->  3400\n",
      "3400\n",
      "10 :\n",
      "0  ->  3740\n",
      "3740\n",
      "11 :\n",
      "0  ->  4080\n",
      "4080\n",
      "12 :\n",
      "0  ->  4420\n",
      "4420\n",
      "13 :\n",
      "0  ->  4760\n",
      "4760\n",
      "14 :\n",
      "0  ->  5100\n",
      "5100\n",
      "15 :\n",
      "0  ->  5440\n",
      "5440\n",
      "16 :\n",
      "0  ->  5780\n",
      "5780\n",
      "17 :\n",
      "0  ->  6120\n",
      "6120\n",
      "18 :\n",
      "0  ->  6460\n",
      "6460\n",
      "19 :\n",
      "Last\n",
      "0  ->  6999\n",
      "6999\n"
     ]
    }
   ],
   "source": [
    "m = n_data_points\n",
    "n = 0\n",
    "image_sets_random = []\n",
    "label_sets_random = []\n",
    "\n",
    "\n",
    "\n",
    "for i in range((len(top_images_by_random)//m)):\n",
    "    print(i,\":\")\n",
    "    if (i+1 >= ((len(top_images_by_random)//m))):\n",
    "        print(\"Last\")\n",
    "        print(0,\" -> \",n+m+(len(top_images_by_random)%m))\n",
    "        top_images_by_random_n = np.array(top_images_by_random[:n+m+(len(top_images_by_random)%m)])\n",
    "        top_labels_by_random_n = np.array(top_labels_by_random[:n+m+(len(top_images_by_random)%m)])\n",
    "    else:\n",
    "        print(0,\" -> \",m+n)\n",
    "        top_images_by_random_n = np.array(top_images_by_random[:n+m])\n",
    "        top_labels_by_random_n = np.array(top_labels_by_random[:n+m])\n",
    "    image_sets_random.append(top_images_by_random_n)\n",
    "    label_sets_random.append(top_labels_by_random_n)\n",
    "    print(len(top_images_by_random_n))\n",
    "    n += m\n",
    "\n",
    "\n"
   ]
  },
  {
   "cell_type": "code",
   "execution_count": 143,
   "id": "3ed47a88",
   "metadata": {},
   "outputs": [
    {
     "data": {
      "text/plain": [
       "20"
      ]
     },
     "execution_count": 143,
     "metadata": {},
     "output_type": "execute_result"
    }
   ],
   "source": [
    "len(image_sets_random)"
   ]
  },
  {
   "cell_type": "code",
   "execution_count": 144,
   "id": "3f03e1cf",
   "metadata": {},
   "outputs": [
    {
     "name": "stdout",
     "output_type": "stream",
     "text": [
      "C:/Users/fjdur/Documents/upc-july/models/models2\n",
      "0 :\n",
      "Model loaded correctly\n",
      "Model compiled\n",
      "1 :\n",
      "Model loaded correctly\n",
      "Model compiled\n",
      "2 :\n",
      "Model loaded correctly\n",
      "Model compiled\n",
      "3 :\n",
      "Model loaded correctly\n",
      "Model compiled\n",
      "4 :\n",
      "Model loaded correctly\n",
      "Model compiled\n",
      "5 :\n",
      "Model loaded correctly\n",
      "Model compiled\n",
      "6 :\n",
      "Model loaded correctly\n",
      "Model compiled\n",
      "7 :\n",
      "Model loaded correctly\n",
      "Model compiled\n",
      "8 :\n",
      "Model loaded correctly\n",
      "Model compiled\n",
      "9 :\n",
      "Model loaded correctly\n",
      "Model compiled\n",
      "10 :\n",
      "Model loaded correctly\n",
      "Model compiled\n",
      "11 :\n",
      "Model loaded correctly\n",
      "Model compiled\n",
      "12 :\n",
      "Model loaded correctly\n",
      "Model compiled\n",
      "13 :\n",
      "Model loaded correctly\n",
      "Model compiled\n",
      "14 :\n",
      "Model loaded correctly\n",
      "Model compiled\n",
      "15 :\n",
      "Model loaded correctly\n",
      "Model compiled\n",
      "16 :\n",
      "Model loaded correctly\n",
      "Model compiled\n",
      "17 :\n",
      "Model loaded correctly\n",
      "Model compiled\n",
      "18 :\n",
      "Model loaded correctly\n",
      "Model compiled\n",
      "19 :\n",
      "Model loaded correctly\n",
      "Model compiled\n"
     ]
    }
   ],
   "source": [
    "print(model_dir)\n",
    "\n",
    "models_random = []\n",
    "for i in range(len(label_sets_random)):\n",
    "    print(i,\":\")\n",
    "    model = utils.My_model(dataset,True,model_dir)\n",
    "    model.compile_model()\n",
    "    models_random.append(model)\n"
   ]
  },
  {
   "cell_type": "code",
   "execution_count": 145,
   "id": "14912c8b",
   "metadata": {},
   "outputs": [
    {
     "name": "stdout",
     "output_type": "stream",
     "text": [
      "0\n",
      "Epoch 1/10\n",
      "6/6 [==============================] - 8s 1s/step - loss: 0.3897 - accuracy: 0.9469 - val_loss: 0.0733 - val_accuracy: 0.9794\n",
      "Epoch 2/10\n",
      "6/6 [==============================] - 6s 1s/step - loss: 0.2330 - accuracy: 0.9637 - val_loss: 0.0589 - val_accuracy: 0.9866\n",
      "Epoch 3/10\n",
      "6/6 [==============================] - 6s 1s/step - loss: 0.0516 - accuracy: 0.9877 - val_loss: 0.0544 - val_accuracy: 0.9855\n",
      "Epoch 4/10\n",
      "6/6 [==============================] - 6s 1s/step - loss: 0.0787 - accuracy: 0.9702 - val_loss: 0.0613 - val_accuracy: 0.9860\n",
      "Epoch 5/10\n",
      "6/6 [==============================] - 6s 1s/step - loss: 0.0599 - accuracy: 0.9806 - val_loss: 0.0805 - val_accuracy: 0.9841\n",
      "Epoch 6/10\n",
      "6/6 [==============================] - 6s 1s/step - loss: 0.0578 - accuracy: 0.9919 - val_loss: 0.0622 - val_accuracy: 0.9851\n",
      "Epoch 7/10\n",
      "6/6 [==============================] - 6s 1s/step - loss: 0.0314 - accuracy: 0.9888 - val_loss: 0.0820 - val_accuracy: 0.9812\n",
      "Epoch 8/10\n",
      "6/6 [==============================] - 6s 1s/step - loss: 0.0305 - accuracy: 0.9917 - val_loss: 0.0762 - val_accuracy: 0.9831\n",
      "Epoch 9/10\n",
      "6/6 [==============================] - 6s 1s/step - loss: 0.1827 - accuracy: 0.9674 - val_loss: 0.0752 - val_accuracy: 0.9840\n",
      "Epoch 10/10\n",
      "6/6 [==============================] - 6s 1s/step - loss: 0.0538 - accuracy: 0.9874 - val_loss: 0.0838 - val_accuracy: 0.9826\n",
      "Duration: 0:01:02.569832\n"
     ]
    }
   ],
   "source": [
    "n=0\n",
    "print(n)\n",
    "\n",
    "models_random[n].fit_model(image_sets_random[n],label_sets_random[n],x_val,y_val)\n",
    "n = n+1"
   ]
  },
  {
   "cell_type": "code",
   "execution_count": 146,
   "id": "f28e27b1",
   "metadata": {},
   "outputs": [
    {
     "name": "stdout",
     "output_type": "stream",
     "text": [
      "1\n",
      "Epoch 1/10\n",
      "11/11 [==============================] - 9s 680ms/step - loss: 0.3849 - accuracy: 0.9381 - val_loss: 0.0526 - val_accuracy: 0.9861\n",
      "Epoch 2/10\n",
      "11/11 [==============================] - 7s 701ms/step - loss: 0.1453 - accuracy: 0.9617 - val_loss: 0.0738 - val_accuracy: 0.9829\n",
      "Epoch 3/10\n",
      "11/11 [==============================] - 7s 702ms/step - loss: 0.1546 - accuracy: 0.9639 - val_loss: 0.0592 - val_accuracy: 0.9866\n",
      "Epoch 4/10\n",
      "11/11 [==============================] - 7s 702ms/step - loss: 0.1380 - accuracy: 0.9676 - val_loss: 0.0489 - val_accuracy: 0.9870\n",
      "Epoch 5/10\n",
      "11/11 [==============================] - 7s 702ms/step - loss: 0.0815 - accuracy: 0.9769 - val_loss: 0.0558 - val_accuracy: 0.9866\n",
      "Epoch 6/10\n",
      "11/11 [==============================] - 7s 697ms/step - loss: 0.1442 - accuracy: 0.9774 - val_loss: 0.0824 - val_accuracy: 0.9824\n",
      "Epoch 7/10\n",
      "11/11 [==============================] - 7s 703ms/step - loss: 0.1648 - accuracy: 0.9712 - val_loss: 0.0589 - val_accuracy: 0.9859\n",
      "Epoch 8/10\n",
      "11/11 [==============================] - 7s 698ms/step - loss: 0.0691 - accuracy: 0.9856 - val_loss: 0.0542 - val_accuracy: 0.9867\n",
      "Epoch 9/10\n",
      "11/11 [==============================] - 7s 705ms/step - loss: 0.0679 - accuracy: 0.9814 - val_loss: 0.0610 - val_accuracy: 0.9859\n",
      "Epoch 10/10\n",
      "11/11 [==============================] - 7s 709ms/step - loss: 0.0622 - accuracy: 0.9797 - val_loss: 0.0660 - val_accuracy: 0.9846\n",
      "Duration: 0:01:13.010798\n"
     ]
    }
   ],
   "source": [
    "print(n)\n",
    "models_random[n].fit_model(image_sets_random[n],label_sets_random[n],x_val,y_val)\n",
    "n = n+1"
   ]
  },
  {
   "cell_type": "code",
   "execution_count": 147,
   "id": "c9f5601b",
   "metadata": {},
   "outputs": [
    {
     "name": "stdout",
     "output_type": "stream",
     "text": [
      "2\n",
      "Epoch 1/10\n",
      "16/16 [==============================] - 10s 519ms/step - loss: 0.4269 - accuracy: 0.9443 - val_loss: 0.0807 - val_accuracy: 0.9833\n",
      "Epoch 2/10\n",
      "16/16 [==============================] - 8s 514ms/step - loss: 0.1145 - accuracy: 0.9708 - val_loss: 0.0624 - val_accuracy: 0.9836\n",
      "Epoch 3/10\n",
      "16/16 [==============================] - 8s 513ms/step - loss: 0.1529 - accuracy: 0.9671 - val_loss: 0.0536 - val_accuracy: 0.9861\n",
      "Epoch 4/10\n",
      "16/16 [==============================] - 8s 513ms/step - loss: 0.0858 - accuracy: 0.9773 - val_loss: 0.0538 - val_accuracy: 0.9869\n",
      "Epoch 5/10\n",
      "16/16 [==============================] - 8s 519ms/step - loss: 0.1072 - accuracy: 0.9694 - val_loss: 0.0520 - val_accuracy: 0.9871\n",
      "Epoch 6/10\n",
      "16/16 [==============================] - 8s 511ms/step - loss: 0.1135 - accuracy: 0.9783 - val_loss: 0.0522 - val_accuracy: 0.9854\n",
      "Epoch 7/10\n",
      "16/16 [==============================] - 8s 516ms/step - loss: 0.0805 - accuracy: 0.9776 - val_loss: 0.0790 - val_accuracy: 0.9821\n",
      "Epoch 8/10\n",
      "16/16 [==============================] - 8s 513ms/step - loss: 0.0486 - accuracy: 0.9810 - val_loss: 0.0548 - val_accuracy: 0.9865\n",
      "Epoch 9/10\n",
      "16/16 [==============================] - 8s 510ms/step - loss: 0.0734 - accuracy: 0.9716 - val_loss: 0.0666 - val_accuracy: 0.9860\n",
      "Epoch 10/10\n",
      "16/16 [==============================] - 8s 510ms/step - loss: 0.0622 - accuracy: 0.9840 - val_loss: 0.0481 - val_accuracy: 0.9866\n",
      "Duration: 0:01:20.037368\n"
     ]
    }
   ],
   "source": [
    "print(n)\n",
    "models_random[n].fit_model(image_sets_random[n],label_sets_random[n],x_val,y_val)\n",
    "n = n+1"
   ]
  },
  {
   "cell_type": "code",
   "execution_count": 148,
   "id": "383e5890",
   "metadata": {},
   "outputs": [
    {
     "name": "stdout",
     "output_type": "stream",
     "text": [
      "3\n",
      "Epoch 1/10\n",
      "22/22 [==============================] - 10s 395ms/step - loss: 0.2572 - accuracy: 0.9409 - val_loss: 0.0650 - val_accuracy: 0.9845\n",
      "Epoch 2/10\n",
      "22/22 [==============================] - 9s 403ms/step - loss: 0.1311 - accuracy: 0.9643 - val_loss: 0.0638 - val_accuracy: 0.9865\n",
      "Epoch 3/10\n",
      "22/22 [==============================] - 9s 399ms/step - loss: 0.1159 - accuracy: 0.9721 - val_loss: 0.0800 - val_accuracy: 0.9815\n",
      "Epoch 4/10\n",
      "22/22 [==============================] - 9s 403ms/step - loss: 0.0984 - accuracy: 0.9807 - val_loss: 0.0479 - val_accuracy: 0.9881\n",
      "Epoch 5/10\n",
      "22/22 [==============================] - 9s 400ms/step - loss: 0.0979 - accuracy: 0.9701 - val_loss: 0.0513 - val_accuracy: 0.9871\n",
      "Epoch 6/10\n",
      "22/22 [==============================] - 9s 401ms/step - loss: 0.0559 - accuracy: 0.9883 - val_loss: 0.0530 - val_accuracy: 0.9861\n",
      "Epoch 7/10\n",
      "22/22 [==============================] - 9s 401ms/step - loss: 0.0907 - accuracy: 0.9767 - val_loss: 0.0431 - val_accuracy: 0.9872\n",
      "Epoch 8/10\n",
      "22/22 [==============================] - 8s 399ms/step - loss: 0.0934 - accuracy: 0.9749 - val_loss: 0.0607 - val_accuracy: 0.9866\n",
      "Epoch 9/10\n",
      "22/22 [==============================] - 9s 403ms/step - loss: 0.0541 - accuracy: 0.9829 - val_loss: 0.0588 - val_accuracy: 0.9870\n",
      "Epoch 10/10\n",
      "22/22 [==============================] - 9s 401ms/step - loss: 0.0482 - accuracy: 0.9855 - val_loss: 0.0471 - val_accuracy: 0.9881\n",
      "Duration: 0:01:27.131451\n"
     ]
    }
   ],
   "source": [
    "print(n)\n",
    "models_random[n].fit_model(image_sets_random[n],label_sets_random[n],x_val,y_val)\n",
    "n = n+1"
   ]
  },
  {
   "cell_type": "code",
   "execution_count": 149,
   "id": "dc5c7384",
   "metadata": {},
   "outputs": [
    {
     "name": "stdout",
     "output_type": "stream",
     "text": [
      "4\n",
      "Epoch 1/10\n",
      "27/27 [==============================] - 11s 344ms/step - loss: 0.1948 - accuracy: 0.9578 - val_loss: 0.0531 - val_accuracy: 0.9866\n",
      "Epoch 2/10\n",
      "27/27 [==============================] - 9s 355ms/step - loss: 0.1407 - accuracy: 0.9664 - val_loss: 0.0472 - val_accuracy: 0.9871\n",
      "Epoch 3/10\n",
      "27/27 [==============================] - 9s 355ms/step - loss: 0.1113 - accuracy: 0.9732 - val_loss: 0.0517 - val_accuracy: 0.9849\n",
      "Epoch 4/10\n",
      "27/27 [==============================] - 9s 349ms/step - loss: 0.1041 - accuracy: 0.9770 - val_loss: 0.0637 - val_accuracy: 0.9866\n",
      "Epoch 5/10\n",
      "27/27 [==============================] - 9s 350ms/step - loss: 0.0549 - accuracy: 0.9862 - val_loss: 0.0700 - val_accuracy: 0.9833\n",
      "Epoch 6/10\n",
      "27/27 [==============================] - 9s 350ms/step - loss: 0.0957 - accuracy: 0.9760 - val_loss: 0.0931 - val_accuracy: 0.9776\n",
      "Epoch 7/10\n",
      "27/27 [==============================] - 9s 351ms/step - loss: 0.1056 - accuracy: 0.9756 - val_loss: 0.0589 - val_accuracy: 0.9859\n",
      "Epoch 8/10\n",
      "27/27 [==============================] - 9s 349ms/step - loss: 0.0624 - accuracy: 0.9861 - val_loss: 0.0618 - val_accuracy: 0.9830\n",
      "Epoch 9/10\n",
      "27/27 [==============================] - 9s 349ms/step - loss: 0.0601 - accuracy: 0.9852 - val_loss: 0.0574 - val_accuracy: 0.9871\n",
      "Epoch 10/10\n",
      "27/27 [==============================] - 9s 352ms/step - loss: 0.0333 - accuracy: 0.9905 - val_loss: 0.0649 - val_accuracy: 0.9867\n",
      "Duration: 0:01:34.247970\n"
     ]
    }
   ],
   "source": [
    "#\n",
    "print(n)\n",
    "models_random[n].fit_model(image_sets_random[n],label_sets_random[n],x_val,y_val)\n",
    "n = n+1"
   ]
  },
  {
   "cell_type": "code",
   "execution_count": 150,
   "id": "d0481a29",
   "metadata": {},
   "outputs": [
    {
     "name": "stdout",
     "output_type": "stream",
     "text": [
      "5\n",
      "Epoch 1/10\n",
      "32/32 [==============================] - 12s 316ms/step - loss: 0.3498 - accuracy: 0.9457 - val_loss: 0.0397 - val_accuracy: 0.9881\n",
      "Epoch 2/10\n",
      "32/32 [==============================] - 10s 322ms/step - loss: 0.1120 - accuracy: 0.9736 - val_loss: 0.0482 - val_accuracy: 0.9884\n",
      "Epoch 3/10\n",
      "32/32 [==============================] - 10s 314ms/step - loss: 0.1521 - accuracy: 0.9617 - val_loss: 0.0546 - val_accuracy: 0.9856\n",
      "Epoch 4/10\n",
      "32/32 [==============================] - 10s 318ms/step - loss: 0.0945 - accuracy: 0.9797 - val_loss: 0.0538 - val_accuracy: 0.9852\n",
      "Epoch 5/10\n",
      "32/32 [==============================] - 10s 314ms/step - loss: 0.0744 - accuracy: 0.9773 - val_loss: 0.0486 - val_accuracy: 0.9866\n",
      "Epoch 6/10\n",
      "32/32 [==============================] - 10s 315ms/step - loss: 0.0838 - accuracy: 0.9787 - val_loss: 0.0612 - val_accuracy: 0.9837\n",
      "Epoch 7/10\n",
      "32/32 [==============================] - 10s 315ms/step - loss: 0.0962 - accuracy: 0.9740 - val_loss: 0.0511 - val_accuracy: 0.9863\n",
      "Epoch 8/10\n",
      "32/32 [==============================] - 10s 314ms/step - loss: 0.0949 - accuracy: 0.9764 - val_loss: 0.0431 - val_accuracy: 0.9876\n",
      "Epoch 9/10\n",
      "32/32 [==============================] - 10s 316ms/step - loss: 0.0623 - accuracy: 0.9837 - val_loss: 0.0501 - val_accuracy: 0.9861\n",
      "Epoch 10/10\n",
      "32/32 [==============================] - 10s 317ms/step - loss: 0.0452 - accuracy: 0.9852 - val_loss: 0.0748 - val_accuracy: 0.9828\n",
      "Duration: 0:01:41.012482\n"
     ]
    }
   ],
   "source": [
    "print(n)\n",
    "models_random[n].fit_model(image_sets_random[n],label_sets_random[n],x_val,y_val)\n",
    "n = n+1"
   ]
  },
  {
   "cell_type": "code",
   "execution_count": 151,
   "id": "4ba8de19",
   "metadata": {},
   "outputs": [
    {
     "name": "stdout",
     "output_type": "stream",
     "text": [
      "6\n",
      "Epoch 1/10\n",
      "38/38 [==============================] - 12s 280ms/step - loss: 0.2292 - accuracy: 0.9525 - val_loss: 0.0697 - val_accuracy: 0.9834\n",
      "Epoch 2/10\n",
      "38/38 [==============================] - 11s 285ms/step - loss: 0.1242 - accuracy: 0.9634 - val_loss: 0.0503 - val_accuracy: 0.9874\n",
      "Epoch 3/10\n",
      "38/38 [==============================] - 11s 285ms/step - loss: 0.1232 - accuracy: 0.9753 - val_loss: 0.0526 - val_accuracy: 0.9862\n",
      "Epoch 4/10\n",
      "38/38 [==============================] - 11s 288ms/step - loss: 0.1117 - accuracy: 0.9743 - val_loss: 0.0456 - val_accuracy: 0.9874\n",
      "Epoch 5/10\n",
      "38/38 [==============================] - 11s 285ms/step - loss: 0.1031 - accuracy: 0.9741 - val_loss: 0.0744 - val_accuracy: 0.9839\n",
      "Epoch 6/10\n",
      "38/38 [==============================] - 11s 286ms/step - loss: 0.1105 - accuracy: 0.9800 - val_loss: 0.0518 - val_accuracy: 0.9870\n",
      "Epoch 7/10\n",
      "38/38 [==============================] - 11s 284ms/step - loss: 0.0967 - accuracy: 0.9746 - val_loss: 0.0754 - val_accuracy: 0.9848\n",
      "Epoch 8/10\n",
      "38/38 [==============================] - 11s 282ms/step - loss: 0.0552 - accuracy: 0.9853 - val_loss: 0.0549 - val_accuracy: 0.9871\n",
      "Epoch 9/10\n",
      "38/38 [==============================] - 11s 283ms/step - loss: 0.0507 - accuracy: 0.9862 - val_loss: 0.0658 - val_accuracy: 0.9843\n",
      "Epoch 10/10\n",
      "38/38 [==============================] - 11s 284ms/step - loss: 0.0592 - accuracy: 0.9837 - val_loss: 0.0649 - val_accuracy: 0.9869\n",
      "Duration: 0:01:48.339659\n"
     ]
    }
   ],
   "source": [
    "print(n)\n",
    "models_random[n].fit_model(image_sets_random[n],label_sets_random[n],x_val,y_val)\n",
    "n = n+1"
   ]
  },
  {
   "cell_type": "code",
   "execution_count": 152,
   "id": "543c4799",
   "metadata": {},
   "outputs": [
    {
     "name": "stdout",
     "output_type": "stream",
     "text": [
      "7\n",
      "Epoch 1/10\n",
      "43/43 [==============================] - 13s 265ms/step - loss: 0.2361 - accuracy: 0.9661 - val_loss: 0.0556 - val_accuracy: 0.9869\n",
      "Epoch 2/10\n",
      "43/43 [==============================] - 11s 270ms/step - loss: 0.1459 - accuracy: 0.9631 - val_loss: 0.0546 - val_accuracy: 0.9861\n",
      "Epoch 3/10\n",
      "43/43 [==============================] - 11s 269ms/step - loss: 0.1329 - accuracy: 0.9673 - val_loss: 0.0540 - val_accuracy: 0.9869\n",
      "Epoch 4/10\n",
      "43/43 [==============================] - 12s 280ms/step - loss: 0.1143 - accuracy: 0.9677 - val_loss: 0.0739 - val_accuracy: 0.9800\n",
      "Epoch 5/10\n",
      "43/43 [==============================] - 12s 272ms/step - loss: 0.1204 - accuracy: 0.9657 - val_loss: 0.0455 - val_accuracy: 0.9871\n",
      "Epoch 6/10\n",
      "43/43 [==============================] - 12s 271ms/step - loss: 0.1018 - accuracy: 0.9720 - val_loss: 0.0734 - val_accuracy: 0.9859\n",
      "Epoch 7/10\n",
      "43/43 [==============================] - 11s 271ms/step - loss: 0.1107 - accuracy: 0.9784 - val_loss: 0.0596 - val_accuracy: 0.9866\n",
      "Epoch 8/10\n",
      "43/43 [==============================] - 11s 270ms/step - loss: 0.0711 - accuracy: 0.9811 - val_loss: 0.0587 - val_accuracy: 0.9863\n",
      "Epoch 9/10\n",
      "43/43 [==============================] - 11s 271ms/step - loss: 0.0970 - accuracy: 0.9757 - val_loss: 0.0647 - val_accuracy: 0.9870\n",
      "Epoch 10/10\n",
      "43/43 [==============================] - 12s 271ms/step - loss: 0.0641 - accuracy: 0.9829 - val_loss: 0.0633 - val_accuracy: 0.9871\n",
      "Duration: 0:01:56.960725\n"
     ]
    }
   ],
   "source": [
    "print(n)\n",
    "models_random[n].fit_model(image_sets_random[n],label_sets_random[n],x_val,y_val)\n",
    "n = n+1"
   ]
  },
  {
   "cell_type": "code",
   "execution_count": 153,
   "id": "fd83ae3d",
   "metadata": {},
   "outputs": [
    {
     "name": "stdout",
     "output_type": "stream",
     "text": [
      "8\n",
      "Epoch 1/10\n",
      "48/48 [==============================] - 14s 256ms/step - loss: 0.1935 - accuracy: 0.9673 - val_loss: 0.0450 - val_accuracy: 0.9869\n",
      "Epoch 2/10\n",
      "48/48 [==============================] - 13s 275ms/step - loss: 0.1406 - accuracy: 0.9666 - val_loss: 0.0531 - val_accuracy: 0.9864\n",
      "Epoch 3/10\n",
      "48/48 [==============================] - 13s 265ms/step - loss: 0.1284 - accuracy: 0.9737 - val_loss: 0.0528 - val_accuracy: 0.9874\n",
      "Epoch 4/10\n",
      "48/48 [==============================] - 12s 259ms/step - loss: 0.1025 - accuracy: 0.9758 - val_loss: 0.0583 - val_accuracy: 0.9848\n",
      "Epoch 5/10\n",
      "48/48 [==============================] - 12s 253ms/step - loss: 0.0944 - accuracy: 0.9759 - val_loss: 0.0621 - val_accuracy: 0.9861\n",
      "Epoch 6/10\n",
      "48/48 [==============================] - 12s 253ms/step - loss: 0.0863 - accuracy: 0.9753 - val_loss: 0.0574 - val_accuracy: 0.9854\n",
      "Epoch 7/10\n",
      "48/48 [==============================] - 12s 256ms/step - loss: 0.1150 - accuracy: 0.9758 - val_loss: 0.0555 - val_accuracy: 0.9877\n",
      "Epoch 8/10\n",
      "48/48 [==============================] - 12s 252ms/step - loss: 0.0619 - accuracy: 0.9809 - val_loss: 0.0507 - val_accuracy: 0.9884\n",
      "Epoch 9/10\n",
      "48/48 [==============================] - 12s 254ms/step - loss: 0.0618 - accuracy: 0.9849 - val_loss: 0.0601 - val_accuracy: 0.9863\n",
      "Epoch 10/10\n",
      "48/48 [==============================] - 12s 253ms/step - loss: 0.0781 - accuracy: 0.9795 - val_loss: 0.0516 - val_accuracy: 0.9873\n",
      "Duration: 0:02:04.172742\n"
     ]
    }
   ],
   "source": [
    "print(n)\n",
    "models_random[n].fit_model(image_sets_random[n],label_sets_random[n],x_val,y_val)\n",
    "n = n+1"
   ]
  },
  {
   "cell_type": "code",
   "execution_count": 154,
   "id": "321027f8",
   "metadata": {},
   "outputs": [
    {
     "name": "stdout",
     "output_type": "stream",
     "text": [
      "9\n",
      "Epoch 1/10\n",
      "54/54 [==============================] - 14s 234ms/step - loss: 0.2379 - accuracy: 0.9504 - val_loss: 0.0622 - val_accuracy: 0.9869\n",
      "Epoch 2/10\n",
      "54/54 [==============================] - 12s 233ms/step - loss: 0.1289 - accuracy: 0.9710 - val_loss: 0.0399 - val_accuracy: 0.9894\n",
      "Epoch 3/10\n",
      "54/54 [==============================] - 12s 232ms/step - loss: 0.1005 - accuracy: 0.9778 - val_loss: 0.0463 - val_accuracy: 0.9881\n",
      "Epoch 4/10\n",
      "54/54 [==============================] - 13s 236ms/step - loss: 0.0788 - accuracy: 0.9800 - val_loss: 0.0563 - val_accuracy: 0.9852\n",
      "Epoch 5/10\n",
      "54/54 [==============================] - 12s 233ms/step - loss: 0.0932 - accuracy: 0.9722 - val_loss: 0.0453 - val_accuracy: 0.9888\n",
      "Epoch 6/10\n",
      "54/54 [==============================] - 12s 232ms/step - loss: 0.0774 - accuracy: 0.9827 - val_loss: 0.0468 - val_accuracy: 0.9885\n",
      "Epoch 7/10\n",
      "54/54 [==============================] - 12s 232ms/step - loss: 0.0848 - accuracy: 0.9753 - val_loss: 0.0583 - val_accuracy: 0.9874\n",
      "Epoch 8/10\n",
      "54/54 [==============================] - 12s 233ms/step - loss: 0.0928 - accuracy: 0.9772 - val_loss: 0.0583 - val_accuracy: 0.9876\n",
      "Epoch 9/10\n",
      "54/54 [==============================] - 12s 233ms/step - loss: 0.0803 - accuracy: 0.9792 - val_loss: 0.0678 - val_accuracy: 0.9869\n",
      "Epoch 10/10\n",
      "54/54 [==============================] - 13s 233ms/step - loss: 0.0551 - accuracy: 0.9848 - val_loss: 0.0696 - val_accuracy: 0.9862\n",
      "Duration: 0:02:06.682240\n"
     ]
    }
   ],
   "source": [
    "#\n",
    "print(n)\n",
    "models_random[n].fit_model(image_sets_random[n],label_sets_random[n],x_val,y_val)\n",
    "n = n+1"
   ]
  },
  {
   "cell_type": "code",
   "execution_count": 155,
   "id": "453e04da",
   "metadata": {},
   "outputs": [
    {
     "name": "stdout",
     "output_type": "stream",
     "text": [
      "10\n",
      "Epoch 1/10\n",
      "59/59 [==============================] - 15s 226ms/step - loss: 0.2191 - accuracy: 0.9620 - val_loss: 0.0448 - val_accuracy: 0.9881\n",
      "Epoch 2/10\n",
      "59/59 [==============================] - 13s 230ms/step - loss: 0.1301 - accuracy: 0.9702 - val_loss: 0.0499 - val_accuracy: 0.9876\n",
      "Epoch 3/10\n",
      "59/59 [==============================] - 14s 232ms/step - loss: 0.0994 - accuracy: 0.9722 - val_loss: 0.0489 - val_accuracy: 0.9876\n",
      "Epoch 4/10\n",
      "59/59 [==============================] - 14s 231ms/step - loss: 0.1090 - accuracy: 0.9745 - val_loss: 0.0630 - val_accuracy: 0.9849\n",
      "Epoch 5/10\n",
      "59/59 [==============================] - 13s 229ms/step - loss: 0.0879 - accuracy: 0.9786 - val_loss: 0.0682 - val_accuracy: 0.9871\n",
      "Epoch 6/10\n",
      "59/59 [==============================] - 13s 229ms/step - loss: 0.0884 - accuracy: 0.9785 - val_loss: 0.0572 - val_accuracy: 0.9870\n",
      "Epoch 7/10\n",
      "59/59 [==============================] - 13s 229ms/step - loss: 0.0737 - accuracy: 0.9815 - val_loss: 0.0483 - val_accuracy: 0.9870\n",
      "Epoch 8/10\n",
      "59/59 [==============================] - 13s 230ms/step - loss: 0.0553 - accuracy: 0.9842 - val_loss: 0.0509 - val_accuracy: 0.9859\n",
      "Epoch 9/10\n",
      "59/59 [==============================] - 13s 228ms/step - loss: 0.0655 - accuracy: 0.9812 - val_loss: 0.0529 - val_accuracy: 0.9877\n",
      "Epoch 10/10\n",
      "59/59 [==============================] - 13s 229ms/step - loss: 0.0610 - accuracy: 0.9839 - val_loss: 0.0619 - val_accuracy: 0.9850\n",
      "Duration: 0:02:16.480246\n"
     ]
    }
   ],
   "source": [
    "print(n)\n",
    "models_random[n].fit_model(image_sets_random[n],label_sets_random[n],x_val,y_val)\n",
    "n = n+1"
   ]
  },
  {
   "cell_type": "code",
   "execution_count": 156,
   "id": "8bd63529",
   "metadata": {},
   "outputs": [
    {
     "name": "stdout",
     "output_type": "stream",
     "text": [
      "11\n",
      "Epoch 1/10\n",
      "64/64 [==============================] - 16s 222ms/step - loss: 0.2817 - accuracy: 0.9506 - val_loss: 0.0630 - val_accuracy: 0.9848\n",
      "Epoch 2/10\n",
      "64/64 [==============================] - 14s 225ms/step - loss: 0.1228 - accuracy: 0.9724 - val_loss: 0.0541 - val_accuracy: 0.9867\n",
      "Epoch 3/10\n",
      "64/64 [==============================] - 14s 221ms/step - loss: 0.1265 - accuracy: 0.9706 - val_loss: 0.0496 - val_accuracy: 0.9875\n",
      "Epoch 4/10\n",
      "64/64 [==============================] - 14s 222ms/step - loss: 0.1122 - accuracy: 0.9723 - val_loss: 0.0537 - val_accuracy: 0.9876\n",
      "Epoch 5/10\n",
      "64/64 [==============================] - 14s 222ms/step - loss: 0.0915 - accuracy: 0.9743 - val_loss: 0.0415 - val_accuracy: 0.9879\n",
      "Epoch 6/10\n",
      "64/64 [==============================] - 15s 236ms/step - loss: 0.0838 - accuracy: 0.9810 - val_loss: 0.0596 - val_accuracy: 0.9831\n",
      "Epoch 7/10\n",
      "64/64 [==============================] - 14s 217ms/step - loss: 0.0780 - accuracy: 0.9844 - val_loss: 0.0583 - val_accuracy: 0.9867\n",
      "Epoch 8/10\n",
      "64/64 [==============================] - 14s 214ms/step - loss: 0.0913 - accuracy: 0.9785 - val_loss: 0.0569 - val_accuracy: 0.9867\n",
      "Epoch 9/10\n",
      "64/64 [==============================] - 13s 203ms/step - loss: 0.0684 - accuracy: 0.9836 - val_loss: 0.0405 - val_accuracy: 0.9889\n",
      "Epoch 10/10\n",
      "64/64 [==============================] - 13s 201ms/step - loss: 0.0725 - accuracy: 0.9819 - val_loss: 0.0553 - val_accuracy: 0.9874\n",
      "Duration: 0:02:20.743935\n"
     ]
    }
   ],
   "source": [
    "print(n)\n",
    "models_random[n].fit_model(image_sets_random[n],label_sets_random[n],x_val,y_val)\n",
    "n = n+1"
   ]
  },
  {
   "cell_type": "code",
   "execution_count": 157,
   "id": "7c990f66",
   "metadata": {},
   "outputs": [
    {
     "name": "stdout",
     "output_type": "stream",
     "text": [
      "12\n",
      "Epoch 1/10\n",
      "70/70 [==============================] - 15s 194ms/step - loss: 0.2608 - accuracy: 0.9532 - val_loss: 0.0420 - val_accuracy: 0.9891\n",
      "Epoch 2/10\n",
      "70/70 [==============================] - 14s 195ms/step - loss: 0.1397 - accuracy: 0.9649 - val_loss: 0.0574 - val_accuracy: 0.9879\n",
      "Epoch 3/10\n",
      "70/70 [==============================] - 13s 193ms/step - loss: 0.1313 - accuracy: 0.9669 - val_loss: 0.0652 - val_accuracy: 0.9869\n",
      "Epoch 4/10\n",
      "70/70 [==============================] - 13s 194ms/step - loss: 0.1061 - accuracy: 0.9716 - val_loss: 0.0509 - val_accuracy: 0.9886\n",
      "Epoch 5/10\n",
      "70/70 [==============================] - 13s 193ms/step - loss: 0.0960 - accuracy: 0.9737 - val_loss: 0.0483 - val_accuracy: 0.9869\n",
      "Epoch 6/10\n",
      "70/70 [==============================] - 14s 195ms/step - loss: 0.0606 - accuracy: 0.9871 - val_loss: 0.0704 - val_accuracy: 0.9817\n",
      "Epoch 7/10\n",
      "70/70 [==============================] - 13s 194ms/step - loss: 0.0885 - accuracy: 0.9812 - val_loss: 0.1628 - val_accuracy: 0.9704\n",
      "Epoch 8/10\n",
      "70/70 [==============================] - 13s 193ms/step - loss: 0.1028 - accuracy: 0.9745 - val_loss: 0.0604 - val_accuracy: 0.9871\n",
      "Epoch 9/10\n",
      "70/70 [==============================] - 14s 195ms/step - loss: 0.0552 - accuracy: 0.9834 - val_loss: 0.0682 - val_accuracy: 0.9846\n",
      "Epoch 10/10\n",
      "70/70 [==============================] - 13s 194ms/step - loss: 0.0762 - accuracy: 0.9836 - val_loss: 0.0546 - val_accuracy: 0.9876\n",
      "Duration: 0:02:16.419901\n"
     ]
    }
   ],
   "source": [
    "print(n)\n",
    "models_random[n].fit_model(image_sets_random[n],label_sets_random[n],x_val,y_val)\n",
    "n = n+1"
   ]
  },
  {
   "cell_type": "code",
   "execution_count": 158,
   "id": "8018c1a4",
   "metadata": {},
   "outputs": [
    {
     "name": "stdout",
     "output_type": "stream",
     "text": [
      "13\n",
      "Epoch 1/10\n",
      "75/75 [==============================] - 15s 189ms/step - loss: 0.1845 - accuracy: 0.9668 - val_loss: 0.0549 - val_accuracy: 0.9875\n",
      "Epoch 2/10\n",
      "75/75 [==============================] - 14s 188ms/step - loss: 0.1174 - accuracy: 0.9691 - val_loss: 0.0549 - val_accuracy: 0.9876\n",
      "Epoch 3/10\n",
      "75/75 [==============================] - 14s 188ms/step - loss: 0.1195 - accuracy: 0.9702 - val_loss: 0.0605 - val_accuracy: 0.9840\n",
      "Epoch 4/10\n",
      "75/75 [==============================] - 14s 188ms/step - loss: 0.0905 - accuracy: 0.9740 - val_loss: 0.0542 - val_accuracy: 0.9862\n",
      "Epoch 5/10\n",
      "75/75 [==============================] - 14s 188ms/step - loss: 0.0928 - accuracy: 0.9761 - val_loss: 0.0537 - val_accuracy: 0.9869\n",
      "Epoch 6/10\n",
      "75/75 [==============================] - 14s 192ms/step - loss: 0.0919 - accuracy: 0.9755 - val_loss: 0.0534 - val_accuracy: 0.9871\n",
      "Epoch 7/10\n",
      "75/75 [==============================] - 14s 188ms/step - loss: 0.0793 - accuracy: 0.9792 - val_loss: 0.0456 - val_accuracy: 0.9876\n",
      "Epoch 8/10\n",
      "75/75 [==============================] - 14s 189ms/step - loss: 0.0729 - accuracy: 0.9827 - val_loss: 0.0501 - val_accuracy: 0.9871\n",
      "Epoch 9/10\n",
      "75/75 [==============================] - 14s 188ms/step - loss: 0.0701 - accuracy: 0.9818 - val_loss: 0.0453 - val_accuracy: 0.9882\n",
      "Epoch 10/10\n",
      "75/75 [==============================] - 14s 188ms/step - loss: 0.0554 - accuracy: 0.9852 - val_loss: 0.0635 - val_accuracy: 0.9853\n",
      "Duration: 0:02:21.925418\n"
     ]
    }
   ],
   "source": [
    "print(n)\n",
    "models_random[n].fit_model(image_sets_random[n],label_sets_random[n],x_val,y_val)\n",
    "n = n+1"
   ]
  },
  {
   "cell_type": "code",
   "execution_count": 159,
   "id": "33202163",
   "metadata": {},
   "outputs": [
    {
     "name": "stdout",
     "output_type": "stream",
     "text": [
      "14\n",
      "Epoch 1/10\n",
      "80/80 [==============================] - 16s 186ms/step - loss: 0.2243 - accuracy: 0.9603 - val_loss: 0.0500 - val_accuracy: 0.9864\n",
      "Epoch 2/10\n",
      "80/80 [==============================] - 15s 187ms/step - loss: 0.1155 - accuracy: 0.9718 - val_loss: 0.0592 - val_accuracy: 0.9862\n",
      "Epoch 3/10\n",
      "80/80 [==============================] - 15s 185ms/step - loss: 0.1299 - accuracy: 0.9722 - val_loss: 0.0436 - val_accuracy: 0.9891\n",
      "Epoch 4/10\n",
      "80/80 [==============================] - 15s 189ms/step - loss: 0.0862 - accuracy: 0.9750 - val_loss: 0.0504 - val_accuracy: 0.9875\n",
      "Epoch 5/10\n",
      "80/80 [==============================] - 15s 185ms/step - loss: 0.0952 - accuracy: 0.9805 - val_loss: 0.0484 - val_accuracy: 0.9869\n",
      "Epoch 6/10\n",
      "80/80 [==============================] - 15s 186ms/step - loss: 0.1077 - accuracy: 0.9714 - val_loss: 0.0559 - val_accuracy: 0.9877\n",
      "Epoch 7/10\n",
      "80/80 [==============================] - 15s 185ms/step - loss: 0.0779 - accuracy: 0.9802 - val_loss: 0.0612 - val_accuracy: 0.9852\n",
      "Epoch 8/10\n",
      "80/80 [==============================] - 15s 185ms/step - loss: 0.0839 - accuracy: 0.9798 - val_loss: 0.0471 - val_accuracy: 0.9880\n",
      "Epoch 9/10\n",
      "80/80 [==============================] - 15s 185ms/step - loss: 0.0732 - accuracy: 0.9828 - val_loss: 0.0688 - val_accuracy: 0.9854\n",
      "Epoch 10/10\n",
      "80/80 [==============================] - 15s 185ms/step - loss: 0.0573 - accuracy: 0.9819 - val_loss: 0.0526 - val_accuracy: 0.9856\n",
      "Duration: 0:02:29.412849\n"
     ]
    }
   ],
   "source": [
    "#\n",
    "print(n)\n",
    "models_random[n].fit_model(image_sets_random[n],label_sets_random[n],x_val,y_val)\n",
    "n = n+1"
   ]
  },
  {
   "cell_type": "code",
   "execution_count": 160,
   "id": "0f220f72",
   "metadata": {},
   "outputs": [
    {
     "name": "stdout",
     "output_type": "stream",
     "text": [
      "15\n",
      "Epoch 1/10\n",
      "85/85 [==============================] - 17s 180ms/step - loss: 0.2055 - accuracy: 0.9585 - val_loss: 0.0647 - val_accuracy: 0.9829\n",
      "Epoch 2/10\n",
      "85/85 [==============================] - 15s 179ms/step - loss: 0.1514 - accuracy: 0.9672 - val_loss: 0.0510 - val_accuracy: 0.9878\n",
      "Epoch 3/10\n",
      "85/85 [==============================] - 15s 180ms/step - loss: 0.0965 - accuracy: 0.9764 - val_loss: 0.0525 - val_accuracy: 0.9870\n",
      "Epoch 4/10\n",
      "85/85 [==============================] - 15s 181ms/step - loss: 0.0997 - accuracy: 0.9745 - val_loss: 0.0476 - val_accuracy: 0.9879\n",
      "Epoch 5/10\n",
      "85/85 [==============================] - 15s 179ms/step - loss: 0.1067 - accuracy: 0.9766 - val_loss: 0.0550 - val_accuracy: 0.9877\n",
      "Epoch 6/10\n",
      "85/85 [==============================] - 15s 180ms/step - loss: 0.0906 - accuracy: 0.9753 - val_loss: 0.0557 - val_accuracy: 0.9860\n",
      "Epoch 7/10\n",
      "85/85 [==============================] - 15s 180ms/step - loss: 0.1075 - accuracy: 0.9753 - val_loss: 0.0684 - val_accuracy: 0.9853\n",
      "Epoch 8/10\n",
      "85/85 [==============================] - 15s 180ms/step - loss: 0.0744 - accuracy: 0.9784 - val_loss: 0.0482 - val_accuracy: 0.9885\n",
      "Epoch 9/10\n",
      "85/85 [==============================] - 15s 181ms/step - loss: 0.0804 - accuracy: 0.9820 - val_loss: 0.0506 - val_accuracy: 0.9866\n",
      "Epoch 10/10\n",
      "85/85 [==============================] - 16s 184ms/step - loss: 0.0651 - accuracy: 0.9831 - val_loss: 0.0437 - val_accuracy: 0.9875\n",
      "Duration: 0:02:34.050440\n"
     ]
    }
   ],
   "source": [
    "print(n)\n",
    "models_random[n].fit_model(image_sets_random[n],label_sets_random[n],x_val,y_val)\n",
    "n = n+1"
   ]
  },
  {
   "cell_type": "code",
   "execution_count": 161,
   "id": "3f47aa5c",
   "metadata": {},
   "outputs": [
    {
     "name": "stdout",
     "output_type": "stream",
     "text": [
      "16\n",
      "Epoch 1/10\n",
      "91/91 [==============================] - 17s 177ms/step - loss: 0.2403 - accuracy: 0.9508 - val_loss: 0.0622 - val_accuracy: 0.9855\n",
      "Epoch 2/10\n",
      "91/91 [==============================] - 16s 180ms/step - loss: 0.1123 - accuracy: 0.9730 - val_loss: 0.0441 - val_accuracy: 0.9889\n",
      "Epoch 3/10\n",
      "91/91 [==============================] - 16s 177ms/step - loss: 0.1485 - accuracy: 0.9635 - val_loss: 0.0464 - val_accuracy: 0.9880\n",
      "Epoch 4/10\n",
      "91/91 [==============================] - 16s 177ms/step - loss: 0.1058 - accuracy: 0.9705 - val_loss: 0.0432 - val_accuracy: 0.9881\n",
      "Epoch 5/10\n",
      "91/91 [==============================] - 16s 177ms/step - loss: 0.1059 - accuracy: 0.9738 - val_loss: 0.0505 - val_accuracy: 0.9872\n",
      "Epoch 6/10\n",
      "91/91 [==============================] - 16s 179ms/step - loss: 0.0897 - accuracy: 0.9764 - val_loss: 0.0465 - val_accuracy: 0.9879\n",
      "Epoch 7/10\n",
      "91/91 [==============================] - 16s 178ms/step - loss: 0.0698 - accuracy: 0.9802 - val_loss: 0.0561 - val_accuracy: 0.9848\n",
      "Epoch 8/10\n",
      "91/91 [==============================] - 16s 178ms/step - loss: 0.0886 - accuracy: 0.9776 - val_loss: 0.0505 - val_accuracy: 0.9874\n",
      "Epoch 9/10\n",
      "91/91 [==============================] - 16s 178ms/step - loss: 0.0765 - accuracy: 0.9791 - val_loss: 0.0467 - val_accuracy: 0.9874\n",
      "Epoch 10/10\n",
      "91/91 [==============================] - 16s 178ms/step - loss: 0.0544 - accuracy: 0.9841 - val_loss: 0.0489 - val_accuracy: 0.9870\n",
      "Duration: 0:02:42.652982\n"
     ]
    }
   ],
   "source": [
    "print(n)\n",
    "models_random[n].fit_model(image_sets_random[n],label_sets_random[n],x_val,y_val)\n",
    "n = n+1"
   ]
  },
  {
   "cell_type": "code",
   "execution_count": 162,
   "id": "2092ec3f",
   "metadata": {},
   "outputs": [
    {
     "name": "stdout",
     "output_type": "stream",
     "text": [
      "17\n",
      "Epoch 1/10\n",
      "96/96 [==============================] - 18s 176ms/step - loss: 0.1925 - accuracy: 0.9601 - val_loss: 0.0443 - val_accuracy: 0.9879\n",
      "Epoch 2/10\n",
      "96/96 [==============================] - 17s 176ms/step - loss: 0.1526 - accuracy: 0.9667 - val_loss: 0.0647 - val_accuracy: 0.9861\n",
      "Epoch 3/10\n",
      "96/96 [==============================] - 17s 176ms/step - loss: 0.1149 - accuracy: 0.9735 - val_loss: 0.0629 - val_accuracy: 0.9861\n",
      "Epoch 4/10\n",
      "96/96 [==============================] - 17s 176ms/step - loss: 0.1197 - accuracy: 0.9726 - val_loss: 0.0500 - val_accuracy: 0.9871\n",
      "Epoch 5/10\n",
      "96/96 [==============================] - 17s 175ms/step - loss: 0.0950 - accuracy: 0.9762 - val_loss: 0.0658 - val_accuracy: 0.9826\n",
      "Epoch 6/10\n",
      "96/96 [==============================] - 17s 177ms/step - loss: 0.0931 - accuracy: 0.9776 - val_loss: 0.0500 - val_accuracy: 0.9876\n",
      "Epoch 7/10\n",
      "96/96 [==============================] - 17s 175ms/step - loss: 0.0868 - accuracy: 0.9805 - val_loss: 0.0966 - val_accuracy: 0.9775\n",
      "Epoch 8/10\n",
      "96/96 [==============================] - 17s 176ms/step - loss: 0.0749 - accuracy: 0.9782 - val_loss: 0.0548 - val_accuracy: 0.9869\n",
      "Epoch 9/10\n",
      "96/96 [==============================] - 17s 176ms/step - loss: 0.0751 - accuracy: 0.9764 - val_loss: 0.0457 - val_accuracy: 0.9870\n",
      "Epoch 10/10\n",
      "96/96 [==============================] - 17s 176ms/step - loss: 0.0923 - accuracy: 0.9759 - val_loss: 0.0464 - val_accuracy: 0.9861\n",
      "Duration: 0:02:49.597950\n"
     ]
    }
   ],
   "source": [
    "print(n)\n",
    "models_random[n].fit_model(image_sets_random[n],label_sets_random[n],x_val,y_val)\n",
    "n = n+1"
   ]
  },
  {
   "cell_type": "code",
   "execution_count": 163,
   "id": "a7e42b01",
   "metadata": {},
   "outputs": [
    {
     "name": "stdout",
     "output_type": "stream",
     "text": [
      "18\n",
      "Epoch 1/10\n",
      "101/101 [==============================] - 19s 172ms/step - loss: 0.2029 - accuracy: 0.9560 - val_loss: 0.0417 - val_accuracy: 0.9880\n",
      "Epoch 2/10\n",
      "101/101 [==============================] - 17s 174ms/step - loss: 0.1471 - accuracy: 0.9649 - val_loss: 0.0770 - val_accuracy: 0.9835\n",
      "Epoch 3/10\n",
      "101/101 [==============================] - 18s 174ms/step - loss: 0.1391 - accuracy: 0.9694 - val_loss: 0.0461 - val_accuracy: 0.9880\n",
      "Epoch 4/10\n",
      "101/101 [==============================] - 17s 174ms/step - loss: 0.0924 - accuracy: 0.9732 - val_loss: 0.0535 - val_accuracy: 0.9864\n",
      "Epoch 5/10\n",
      "101/101 [==============================] - 17s 173ms/step - loss: 0.1028 - accuracy: 0.9725 - val_loss: 0.0451 - val_accuracy: 0.9884\n",
      "Epoch 6/10\n",
      "101/101 [==============================] - 17s 173ms/step - loss: 0.1032 - accuracy: 0.9740 - val_loss: 0.0553 - val_accuracy: 0.9851\n",
      "Epoch 7/10\n",
      "101/101 [==============================] - 17s 173ms/step - loss: 0.0857 - accuracy: 0.9774 - val_loss: 0.0467 - val_accuracy: 0.9869\n",
      "Epoch 8/10\n",
      "101/101 [==============================] - 17s 173ms/step - loss: 0.0737 - accuracy: 0.9790 - val_loss: 0.0534 - val_accuracy: 0.9867\n",
      "Epoch 9/10\n",
      "101/101 [==============================] - 18s 174ms/step - loss: 0.0925 - accuracy: 0.9804 - val_loss: 0.0607 - val_accuracy: 0.9874\n",
      "Epoch 10/10\n",
      "101/101 [==============================] - 18s 174ms/step - loss: 0.0627 - accuracy: 0.9810 - val_loss: 0.0537 - val_accuracy: 0.9844\n",
      "Duration: 0:02:55.957897\n"
     ]
    }
   ],
   "source": [
    "print(n)\n",
    "models_random[n].fit_model(image_sets_random[n],label_sets_random[n],x_val,y_val)\n",
    "n = n+1"
   ]
  },
  {
   "cell_type": "code",
   "execution_count": 164,
   "id": "f2884c4f",
   "metadata": {},
   "outputs": [
    {
     "name": "stdout",
     "output_type": "stream",
     "text": [
      "19\n",
      "Epoch 1/10\n",
      "110/110 [==============================] - 20s 170ms/step - loss: 0.1963 - accuracy: 0.9624 - val_loss: 0.0518 - val_accuracy: 0.9865\n",
      "Epoch 2/10\n",
      "110/110 [==============================] - 19s 171ms/step - loss: 0.1444 - accuracy: 0.9663 - val_loss: 0.0471 - val_accuracy: 0.9870\n",
      "Epoch 3/10\n",
      "110/110 [==============================] - 19s 171ms/step - loss: 0.1335 - accuracy: 0.9658 - val_loss: 0.0465 - val_accuracy: 0.9876\n",
      "Epoch 4/10\n",
      "110/110 [==============================] - 19s 170ms/step - loss: 0.1149 - accuracy: 0.9684 - val_loss: 0.1193 - val_accuracy: 0.9681\n",
      "Epoch 5/10\n",
      "110/110 [==============================] - 19s 170ms/step - loss: 0.1198 - accuracy: 0.9714 - val_loss: 0.0491 - val_accuracy: 0.9873\n",
      "Epoch 6/10\n",
      "110/110 [==============================] - 19s 170ms/step - loss: 0.0892 - accuracy: 0.9767 - val_loss: 0.0509 - val_accuracy: 0.9872\n",
      "Epoch 7/10\n",
      "110/110 [==============================] - 19s 173ms/step - loss: 0.0776 - accuracy: 0.9792 - val_loss: 0.0507 - val_accuracy: 0.9859\n",
      "Epoch 8/10\n",
      "110/110 [==============================] - 19s 169ms/step - loss: 0.0667 - accuracy: 0.9809 - val_loss: 0.0506 - val_accuracy: 0.9863\n",
      "Epoch 9/10\n",
      "110/110 [==============================] - 19s 170ms/step - loss: 0.0630 - accuracy: 0.9809 - val_loss: 0.0470 - val_accuracy: 0.9870\n",
      "Epoch 10/10\n",
      "110/110 [==============================] - 19s 170ms/step - loss: 0.0653 - accuracy: 0.9814 - val_loss: 0.0678 - val_accuracy: 0.9836\n",
      "Duration: 0:03:08.401110\n"
     ]
    }
   ],
   "source": [
    "#\n",
    "print(n)\n",
    "models_random[n].fit_model(image_sets_random[n],label_sets_random[n],x_val,y_val)\n",
    "n = n+1"
   ]
  },
  {
   "cell_type": "code",
   "execution_count": 165,
   "id": "24dc2667",
   "metadata": {},
   "outputs": [
    {
     "name": "stdout",
     "output_type": "stream",
     "text": [
      "INFO:tensorflow:Assets written to: D:/models/aug_22/mnist/C3/mnist_model_c3_aug_random_e1_0\\assets\n",
      "Model has been saved\n",
      "INFO:tensorflow:Assets written to: D:/models/aug_22/mnist/C3/mnist_model_c3_aug_random_e1_1\\assets\n",
      "Model has been saved\n",
      "INFO:tensorflow:Assets written to: D:/models/aug_22/mnist/C3/mnist_model_c3_aug_random_e1_2\\assets\n",
      "Model has been saved\n",
      "INFO:tensorflow:Assets written to: D:/models/aug_22/mnist/C3/mnist_model_c3_aug_random_e1_3\\assets\n",
      "Model has been saved\n",
      "INFO:tensorflow:Assets written to: D:/models/aug_22/mnist/C3/mnist_model_c3_aug_random_e1_4\\assets\n",
      "Model has been saved\n",
      "INFO:tensorflow:Assets written to: D:/models/aug_22/mnist/C3/mnist_model_c3_aug_random_e1_5\\assets\n",
      "Model has been saved\n",
      "INFO:tensorflow:Assets written to: D:/models/aug_22/mnist/C3/mnist_model_c3_aug_random_e1_6\\assets\n",
      "Model has been saved\n",
      "INFO:tensorflow:Assets written to: D:/models/aug_22/mnist/C3/mnist_model_c3_aug_random_e1_7\\assets\n",
      "Model has been saved\n",
      "INFO:tensorflow:Assets written to: D:/models/aug_22/mnist/C3/mnist_model_c3_aug_random_e1_8\\assets\n",
      "Model has been saved\n",
      "INFO:tensorflow:Assets written to: D:/models/aug_22/mnist/C3/mnist_model_c3_aug_random_e1_9\\assets\n",
      "Model has been saved\n",
      "INFO:tensorflow:Assets written to: D:/models/aug_22/mnist/C3/mnist_model_c3_aug_random_e1_10\\assets\n",
      "Model has been saved\n",
      "INFO:tensorflow:Assets written to: D:/models/aug_22/mnist/C3/mnist_model_c3_aug_random_e1_11\\assets\n",
      "Model has been saved\n",
      "INFO:tensorflow:Assets written to: D:/models/aug_22/mnist/C3/mnist_model_c3_aug_random_e1_12\\assets\n",
      "Model has been saved\n",
      "INFO:tensorflow:Assets written to: D:/models/aug_22/mnist/C3/mnist_model_c3_aug_random_e1_13\\assets\n",
      "Model has been saved\n",
      "INFO:tensorflow:Assets written to: D:/models/aug_22/mnist/C3/mnist_model_c3_aug_random_e1_14\\assets\n",
      "Model has been saved\n",
      "INFO:tensorflow:Assets written to: D:/models/aug_22/mnist/C3/mnist_model_c3_aug_random_e1_15\\assets\n",
      "Model has been saved\n",
      "INFO:tensorflow:Assets written to: D:/models/aug_22/mnist/C3/mnist_model_c3_aug_random_e1_16\\assets\n",
      "Model has been saved\n",
      "INFO:tensorflow:Assets written to: D:/models/aug_22/mnist/C3/mnist_model_c3_aug_random_e1_17\\assets\n",
      "Model has been saved\n",
      "INFO:tensorflow:Assets written to: D:/models/aug_22/mnist/C3/mnist_model_c3_aug_random_e1_18\\assets\n",
      "Model has been saved\n",
      "INFO:tensorflow:Assets written to: D:/models/aug_22/mnist/C3/mnist_model_c3_aug_random_e1_19\\assets\n",
      "Model has been saved\n"
     ]
    }
   ],
   "source": [
    "#new_model_random_dir  = \"C:/Users/fjdurlop/Documents/upc/models/\"+dataset+\"/C2/\"+dataset+\"_model_c2_aug_random_e1\"\n",
    "new_model_random_dir  = \"D:/models/aug_22/\"+dataset+\"/C3/\"+dataset+\"_model_c3_aug_random_e1\"\n",
    "\n",
    "i=0\n",
    "\n",
    "for model in models_random:\n",
    "    model.save(new_model_random_dir+\"_\"+str(i))\n",
    "    i+=1"
   ]
  },
  {
   "cell_type": "code",
   "execution_count": 166,
   "id": "85078e3a",
   "metadata": {},
   "outputs": [],
   "source": [
    "try:\n",
    "    del random_indexes\n",
    "    del top_images_by_random\n",
    "    del top_labels_by_random\n",
    "    del image_sets_random\n",
    "    del label_sets_random\n",
    "    del models_random\n",
    "except:\n",
    "    print(\"Error\")"
   ]
  },
  {
   "cell_type": "code",
   "execution_count": 167,
   "id": "deac767a",
   "metadata": {},
   "outputs": [],
   "source": [
    "import gc"
   ]
  },
  {
   "cell_type": "code",
   "execution_count": 168,
   "id": "5a4c9d66",
   "metadata": {},
   "outputs": [
    {
     "data": {
      "text/plain": [
       "274003"
      ]
     },
     "execution_count": 168,
     "metadata": {},
     "output_type": "execute_result"
    }
   ],
   "source": [
    "gc.collect()"
   ]
  },
  {
   "cell_type": "markdown",
   "id": "58a54b05",
   "metadata": {},
   "source": [
    "## Training guided by NC"
   ]
  },
  {
   "cell_type": "code",
   "execution_count": 169,
   "id": "e53f2bcb",
   "metadata": {},
   "outputs": [
    {
     "name": "stdout",
     "output_type": "stream",
     "text": [
      "6999\n"
     ]
    }
   ],
   "source": [
    "# NC\n",
    "nc_values = []\n",
    "for i in range(1,20):\n",
    "    #save_dir = \"C:/Users/fjdur/Desktop/upc/project_notebooks/github_project/DL_notebooks/NC_values/nc_values_\"+str(i)+\".npy\"\n",
    "    #save_dir = \"C:/Users/fjdurlop/Documents/upc/upc-july/data/\"+dataset+\"/\"+dataset+\"_nc_values_\"+str(i)+\".npy\"\n",
    "    save_dir = \"C:/Users/fjdur/Documents/upc-july/data/\"+dataset+\"/\"+dataset+\"_nc_values_\"+str(i)+\".npy\"\n",
    "\n",
    "    #print(save_dir_rand)\n",
    "    tmp_values = np.load(save_dir)\n",
    "    #print(tmp_values.shape)\n",
    "    nc_values = np.append(nc_values,tmp_values)\n",
    "    \n",
    "nc_values = nc_values[len(x_train):] \n",
    "print(len(nc_values))"
   ]
  },
  {
   "cell_type": "code",
   "execution_count": 170,
   "id": "637de522",
   "metadata": {},
   "outputs": [
    {
     "data": {
      "text/plain": [
       "(6999,)"
      ]
     },
     "execution_count": 170,
     "metadata": {},
     "output_type": "execute_result"
    }
   ],
   "source": [
    "nc_values.shape"
   ]
  },
  {
   "cell_type": "code",
   "execution_count": 171,
   "id": "024f3314",
   "metadata": {},
   "outputs": [],
   "source": [
    "\n",
    "top_images_by_nc = utils.get_x_of_indexes(list(np.flip(np.argsort(nc_values))),x_adversary_training)\n",
    "top_labels_by_nc = utils.get_x_of_indexes(list(np.flip(np.argsort(nc_values))),y_adversary_training)\n"
   ]
  },
  {
   "cell_type": "code",
   "execution_count": 172,
   "id": "7490c255",
   "metadata": {},
   "outputs": [
    {
     "name": "stdout",
     "output_type": "stream",
     "text": [
      "0 :\n",
      "0  ->  340\n",
      "340\n",
      "1 :\n",
      "0  ->  680\n",
      "680\n",
      "2 :\n",
      "0  ->  1020\n",
      "1020\n",
      "3 :\n",
      "0  ->  1360\n",
      "1360\n",
      "4 :\n",
      "0  ->  1700\n",
      "1700\n",
      "5 :\n",
      "0  ->  2040\n",
      "2040\n",
      "6 :\n",
      "0  ->  2380\n",
      "2380\n",
      "7 :\n",
      "0  ->  2720\n",
      "2720\n",
      "8 :\n",
      "0  ->  3060\n",
      "3060\n",
      "9 :\n",
      "0  ->  3400\n",
      "3400\n",
      "10 :\n",
      "0  ->  3740\n",
      "3740\n",
      "11 :\n",
      "0  ->  4080\n",
      "4080\n",
      "12 :\n",
      "0  ->  4420\n",
      "4420\n",
      "13 :\n",
      "0  ->  4760\n",
      "4760\n",
      "14 :\n",
      "0  ->  5100\n",
      "5100\n",
      "15 :\n",
      "0  ->  5440\n",
      "5440\n",
      "16 :\n",
      "0  ->  5780\n",
      "5780\n",
      "17 :\n",
      "0  ->  6120\n",
      "6120\n",
      "18 :\n",
      "0  ->  6460\n",
      "6460\n",
      "19 :\n",
      "Last\n",
      "0  ->  6999\n",
      "6999\n"
     ]
    }
   ],
   "source": [
    "m = n_data_points\n",
    "n = 0\n",
    "image_sets_nc = []\n",
    "label_sets_nc = []\n",
    "\n",
    "\n",
    "for i in range((len(top_images_by_nc)//m)):\n",
    "    print(i,\":\")\n",
    "    if (i+1 >= ((len(top_images_by_nc)//m))):\n",
    "        print(\"Last\")\n",
    "        print(0,\" -> \",n+m+(len(top_images_by_nc)%m))\n",
    "        top_images_by_nc_n = np.array(top_images_by_nc[:n+m+(len(top_images_by_nc)%m)])\n",
    "        top_labels_by_nc_n = np.array(top_labels_by_nc[:n+m+(len(top_images_by_nc)%m)])\n",
    "    else:\n",
    "        print(0,\" -> \",m+n)\n",
    "        top_images_by_nc_n = np.array(top_images_by_nc[:n+m])\n",
    "        top_labels_by_nc_n = np.array(top_labels_by_nc[:n+m])\n",
    "    image_sets_nc.append(top_images_by_nc_n)\n",
    "    label_sets_nc.append(top_labels_by_nc_n)\n",
    "    print(len(top_images_by_nc_n))\n",
    "    n += m\n",
    "\n",
    "\n"
   ]
  },
  {
   "cell_type": "code",
   "execution_count": 173,
   "id": "0a65e301",
   "metadata": {},
   "outputs": [
    {
     "name": "stdout",
     "output_type": "stream",
     "text": [
      "C:/Users/fjdur/Documents/upc-july/models/models2\n",
      "0 :\n",
      "Model loaded correctly\n",
      "Model compiled\n",
      "1 :\n",
      "Model loaded correctly\n",
      "Model compiled\n",
      "2 :\n",
      "Model loaded correctly\n",
      "Model compiled\n",
      "3 :\n",
      "Model loaded correctly\n",
      "Model compiled\n",
      "4 :\n",
      "Model loaded correctly\n",
      "Model compiled\n",
      "5 :\n",
      "Model loaded correctly\n",
      "Model compiled\n",
      "6 :\n",
      "Model loaded correctly\n",
      "Model compiled\n",
      "7 :\n",
      "Model loaded correctly\n",
      "Model compiled\n",
      "8 :\n",
      "Model loaded correctly\n",
      "Model compiled\n",
      "9 :\n",
      "Model loaded correctly\n",
      "Model compiled\n",
      "10 :\n",
      "Model loaded correctly\n",
      "Model compiled\n",
      "11 :\n",
      "Model loaded correctly\n",
      "Model compiled\n",
      "12 :\n",
      "Model loaded correctly\n",
      "Model compiled\n",
      "13 :\n",
      "Model loaded correctly\n",
      "Model compiled\n",
      "14 :\n",
      "Model loaded correctly\n",
      "Model compiled\n",
      "15 :\n",
      "Model loaded correctly\n",
      "Model compiled\n",
      "16 :\n",
      "Model loaded correctly\n",
      "Model compiled\n",
      "17 :\n",
      "Model loaded correctly\n",
      "Model compiled\n",
      "18 :\n",
      "Model loaded correctly\n",
      "Model compiled\n",
      "19 :\n",
      "Model loaded correctly\n",
      "Model compiled\n"
     ]
    }
   ],
   "source": [
    "print(model_dir)\n",
    "\n",
    "models_nc = []\n",
    "for i in range(len(label_sets_nc)):\n",
    "    print(i,\":\")\n",
    "    model = utils.My_model(dataset,True,model_dir)\n",
    "    model.compile_model()\n",
    "    models_nc.append(model)\n"
   ]
  },
  {
   "cell_type": "code",
   "execution_count": 174,
   "id": "df0b6c8f",
   "metadata": {},
   "outputs": [
    {
     "name": "stdout",
     "output_type": "stream",
     "text": [
      "0\n",
      "Epoch 1/10\n",
      "6/6 [==============================] - 6s 986ms/step - loss: 0.2479 - accuracy: 0.9529 - val_loss: 0.0940 - val_accuracy: 0.9789\n",
      "Epoch 2/10\n",
      "6/6 [==============================] - 5s 933ms/step - loss: 0.1265 - accuracy: 0.9734 - val_loss: 0.0566 - val_accuracy: 0.9838\n",
      "Epoch 3/10\n",
      "6/6 [==============================] - 5s 936ms/step - loss: 0.1456 - accuracy: 0.9700 - val_loss: 0.0566 - val_accuracy: 0.9836\n",
      "Epoch 4/10\n",
      "6/6 [==============================] - 5s 938ms/step - loss: 0.0859 - accuracy: 0.9825 - val_loss: 0.3216 - val_accuracy: 0.9629\n",
      "Epoch 5/10\n",
      "6/6 [==============================] - 5s 941ms/step - loss: 0.0829 - accuracy: 0.9807 - val_loss: 0.0533 - val_accuracy: 0.9849\n",
      "Epoch 6/10\n",
      "6/6 [==============================] - 5s 949ms/step - loss: 0.0195 - accuracy: 0.9966 - val_loss: 0.0776 - val_accuracy: 0.9831\n",
      "Epoch 7/10\n",
      "6/6 [==============================] - 5s 960ms/step - loss: 0.0201 - accuracy: 0.9965 - val_loss: 0.1091 - val_accuracy: 0.9771\n",
      "Epoch 8/10\n",
      "6/6 [==============================] - 5s 944ms/step - loss: 0.0984 - accuracy: 0.9653 - val_loss: 0.0546 - val_accuracy: 0.9839\n",
      "Epoch 9/10\n",
      "6/6 [==============================] - 5s 946ms/step - loss: 0.0149 - accuracy: 0.9932 - val_loss: 0.0514 - val_accuracy: 0.9855\n",
      "Epoch 10/10\n",
      "6/6 [==============================] - 5s 946ms/step - loss: 0.0291 - accuracy: 0.9919 - val_loss: 0.0546 - val_accuracy: 0.9841\n",
      "Duration: 0:00:49.586780\n"
     ]
    }
   ],
   "source": [
    "n=0\n",
    "print(n)\n",
    "\n",
    "models_nc[n].fit_model(image_sets_nc[n],label_sets_nc[n],x_val,y_val)\n",
    "n = n+1"
   ]
  },
  {
   "cell_type": "code",
   "execution_count": 175,
   "id": "0f4f3f4b",
   "metadata": {},
   "outputs": [
    {
     "name": "stdout",
     "output_type": "stream",
     "text": [
      "1\n",
      "Epoch 1/10\n",
      "11/11 [==============================] - 7s 578ms/step - loss: 0.2215 - accuracy: 0.9462 - val_loss: 0.0453 - val_accuracy: 0.9873\n",
      "Epoch 2/10\n",
      "11/11 [==============================] - 6s 547ms/step - loss: 0.0944 - accuracy: 0.9736 - val_loss: 0.0524 - val_accuracy: 0.9861\n",
      "Epoch 3/10\n",
      "11/11 [==============================] - 6s 543ms/step - loss: 0.1034 - accuracy: 0.9759 - val_loss: 0.0516 - val_accuracy: 0.9854\n",
      "Epoch 4/10\n",
      "11/11 [==============================] - 6s 549ms/step - loss: 0.0468 - accuracy: 0.9825 - val_loss: 0.0535 - val_accuracy: 0.9854\n",
      "Epoch 5/10\n",
      "11/11 [==============================] - 6s 551ms/step - loss: 0.0318 - accuracy: 0.9909 - val_loss: 0.1035 - val_accuracy: 0.9837\n",
      "Epoch 6/10\n",
      "11/11 [==============================] - 6s 546ms/step - loss: 0.0728 - accuracy: 0.9833 - val_loss: 0.0602 - val_accuracy: 0.9843\n",
      "Epoch 7/10\n",
      "11/11 [==============================] - 6s 548ms/step - loss: 0.0417 - accuracy: 0.9919 - val_loss: 0.0658 - val_accuracy: 0.9837\n",
      "Epoch 8/10\n",
      "11/11 [==============================] - 6s 548ms/step - loss: 0.1009 - accuracy: 0.9820 - val_loss: 0.0503 - val_accuracy: 0.9864\n",
      "Epoch 9/10\n",
      "11/11 [==============================] - 6s 550ms/step - loss: 0.0424 - accuracy: 0.9886 - val_loss: 0.0679 - val_accuracy: 0.9838\n",
      "Epoch 10/10\n",
      "11/11 [==============================] - 6s 551ms/step - loss: 0.0504 - accuracy: 0.9888 - val_loss: 0.0574 - val_accuracy: 0.9844\n",
      "Duration: 0:00:57.327890\n"
     ]
    }
   ],
   "source": [
    "print(n)\n",
    "models_nc[n].fit_model(image_sets_nc[n],label_sets_nc[n],x_val,y_val)\n",
    "n = n+1"
   ]
  },
  {
   "cell_type": "code",
   "execution_count": 176,
   "id": "48322beb",
   "metadata": {},
   "outputs": [
    {
     "name": "stdout",
     "output_type": "stream",
     "text": [
      "2\n",
      "Epoch 1/10\n",
      "16/16 [==============================] - 8s 451ms/step - loss: 0.2269 - accuracy: 0.9594 - val_loss: 0.0449 - val_accuracy: 0.9871\n",
      "Epoch 2/10\n",
      "16/16 [==============================] - 6s 424ms/step - loss: 0.0927 - accuracy: 0.9760 - val_loss: 0.0835 - val_accuracy: 0.9831\n",
      "Epoch 3/10\n",
      "16/16 [==============================] - 7s 427ms/step - loss: 0.0608 - accuracy: 0.9860 - val_loss: 0.0577 - val_accuracy: 0.9857\n",
      "Epoch 4/10\n",
      "16/16 [==============================] - 6s 427ms/step - loss: 0.0719 - accuracy: 0.9829 - val_loss: 0.0534 - val_accuracy: 0.9854\n",
      "Epoch 5/10\n",
      "16/16 [==============================] - 7s 429ms/step - loss: 0.0337 - accuracy: 0.9922 - val_loss: 0.0889 - val_accuracy: 0.9822\n",
      "Epoch 6/10\n",
      "16/16 [==============================] - 6s 426ms/step - loss: 0.0987 - accuracy: 0.9778 - val_loss: 0.0529 - val_accuracy: 0.9858\n",
      "Epoch 7/10\n",
      "16/16 [==============================] - 7s 428ms/step - loss: 0.0370 - accuracy: 0.9838 - val_loss: 0.2426 - val_accuracy: 0.9779\n",
      "Epoch 8/10\n",
      "16/16 [==============================] - 7s 427ms/step - loss: 0.0669 - accuracy: 0.9886 - val_loss: 0.0535 - val_accuracy: 0.9852\n",
      "Epoch 9/10\n",
      "16/16 [==============================] - 7s 429ms/step - loss: 0.0371 - accuracy: 0.9912 - val_loss: 0.0904 - val_accuracy: 0.9778\n",
      "Epoch 10/10\n",
      "16/16 [==============================] - 7s 427ms/step - loss: 0.0289 - accuracy: 0.9918 - val_loss: 0.0561 - val_accuracy: 0.9856\n",
      "Duration: 0:01:06.671940\n"
     ]
    }
   ],
   "source": [
    "print(n)\n",
    "models_nc[n].fit_model(image_sets_nc[n],label_sets_nc[n],x_val,y_val)\n",
    "n = n+1"
   ]
  },
  {
   "cell_type": "code",
   "execution_count": 177,
   "id": "1bdcbb42",
   "metadata": {},
   "outputs": [
    {
     "name": "stdout",
     "output_type": "stream",
     "text": [
      "3\n",
      "Epoch 1/10\n",
      "22/22 [==============================] - 9s 355ms/step - loss: 0.1328 - accuracy: 0.9654 - val_loss: 0.0456 - val_accuracy: 0.9881\n",
      "Epoch 2/10\n",
      "22/22 [==============================] - 7s 340ms/step - loss: 0.0799 - accuracy: 0.9703 - val_loss: 0.0593 - val_accuracy: 0.9872\n",
      "Epoch 3/10\n",
      "22/22 [==============================] - 7s 341ms/step - loss: 0.0876 - accuracy: 0.9797 - val_loss: 0.0577 - val_accuracy: 0.9849\n",
      "Epoch 4/10\n",
      "22/22 [==============================] - 7s 338ms/step - loss: 0.0718 - accuracy: 0.9763 - val_loss: 0.0912 - val_accuracy: 0.9797\n",
      "Epoch 5/10\n",
      "22/22 [==============================] - 7s 337ms/step - loss: 0.0804 - accuracy: 0.9817 - val_loss: 0.0503 - val_accuracy: 0.9878\n",
      "Epoch 6/10\n",
      "22/22 [==============================] - 7s 341ms/step - loss: 0.0432 - accuracy: 0.9836 - val_loss: 0.0524 - val_accuracy: 0.9863\n",
      "Epoch 7/10\n",
      "22/22 [==============================] - 7s 341ms/step - loss: 0.0405 - accuracy: 0.9917 - val_loss: 0.0668 - val_accuracy: 0.9823\n",
      "Epoch 8/10\n",
      "22/22 [==============================] - 7s 341ms/step - loss: 0.0680 - accuracy: 0.9867 - val_loss: 0.0708 - val_accuracy: 0.9859\n",
      "Epoch 9/10\n",
      "22/22 [==============================] - 7s 340ms/step - loss: 0.0315 - accuracy: 0.9909 - val_loss: 0.0774 - val_accuracy: 0.9796\n",
      "Epoch 10/10\n",
      "22/22 [==============================] - 7s 343ms/step - loss: 0.0474 - accuracy: 0.9853 - val_loss: 0.0804 - val_accuracy: 0.9807\n",
      "Duration: 0:01:14.089767\n"
     ]
    }
   ],
   "source": [
    "print(n)\n",
    "models_nc[n].fit_model(image_sets_nc[n],label_sets_nc[n],x_val,y_val)\n",
    "n = n+1"
   ]
  },
  {
   "cell_type": "code",
   "execution_count": 178,
   "id": "8d722415",
   "metadata": {},
   "outputs": [
    {
     "name": "stdout",
     "output_type": "stream",
     "text": [
      "4\n",
      "Epoch 1/10\n",
      "27/27 [==============================] - 10s 311ms/step - loss: 0.1649 - accuracy: 0.9667 - val_loss: 0.0483 - val_accuracy: 0.9866\n",
      "Epoch 2/10\n",
      "27/27 [==============================] - 8s 301ms/step - loss: 0.0989 - accuracy: 0.9772 - val_loss: 0.0574 - val_accuracy: 0.9855\n",
      "Epoch 3/10\n",
      "27/27 [==============================] - 8s 302ms/step - loss: 0.0990 - accuracy: 0.9734 - val_loss: 0.0526 - val_accuracy: 0.9886\n",
      "Epoch 4/10\n",
      "27/27 [==============================] - 8s 303ms/step - loss: 0.0750 - accuracy: 0.9850 - val_loss: 0.0640 - val_accuracy: 0.9827\n",
      "Epoch 5/10\n",
      "27/27 [==============================] - 8s 309ms/step - loss: 0.0431 - accuracy: 0.9859 - val_loss: 0.0717 - val_accuracy: 0.9828\n",
      "Epoch 6/10\n",
      "27/27 [==============================] - 8s 299ms/step - loss: 0.0485 - accuracy: 0.9864 - val_loss: 0.1119 - val_accuracy: 0.9799\n",
      "Epoch 7/10\n",
      "27/27 [==============================] - 8s 299ms/step - loss: 0.0657 - accuracy: 0.9807 - val_loss: 0.3208 - val_accuracy: 0.9622\n",
      "Epoch 8/10\n",
      "27/27 [==============================] - 8s 298ms/step - loss: 0.0523 - accuracy: 0.9854 - val_loss: 0.0457 - val_accuracy: 0.9883\n",
      "Epoch 9/10\n",
      "27/27 [==============================] - 8s 300ms/step - loss: 0.0321 - accuracy: 0.9903 - val_loss: 0.0860 - val_accuracy: 0.9821\n",
      "Epoch 10/10\n",
      "27/27 [==============================] - 8s 298ms/step - loss: 0.0652 - accuracy: 0.9861 - val_loss: 0.0755 - val_accuracy: 0.9815\n",
      "Duration: 0:01:20.964746\n"
     ]
    }
   ],
   "source": [
    "#\n",
    "print(n)\n",
    "models_nc[n].fit_model(image_sets_nc[n],label_sets_nc[n],x_val,y_val)\n",
    "n = n+1"
   ]
  },
  {
   "cell_type": "code",
   "execution_count": 179,
   "id": "7c53a99f",
   "metadata": {},
   "outputs": [
    {
     "name": "stdout",
     "output_type": "stream",
     "text": [
      "5\n",
      "Epoch 1/10\n",
      "32/32 [==============================] - 10s 278ms/step - loss: 0.1173 - accuracy: 0.9714 - val_loss: 0.1281 - val_accuracy: 0.9823\n",
      "Epoch 2/10\n",
      "32/32 [==============================] - 8s 270ms/step - loss: 0.0849 - accuracy: 0.9758 - val_loss: 0.0721 - val_accuracy: 0.9854\n",
      "Epoch 3/10\n",
      "32/32 [==============================] - 8s 269ms/step - loss: 0.0726 - accuracy: 0.9817 - val_loss: 0.0639 - val_accuracy: 0.9867\n",
      "Epoch 4/10\n",
      "32/32 [==============================] - 8s 270ms/step - loss: 0.0934 - accuracy: 0.9779 - val_loss: 0.0789 - val_accuracy: 0.9836\n",
      "Epoch 5/10\n",
      "32/32 [==============================] - 8s 270ms/step - loss: 0.0711 - accuracy: 0.9805 - val_loss: 0.0527 - val_accuracy: 0.9861\n",
      "Epoch 6/10\n",
      "32/32 [==============================] - 9s 271ms/step - loss: 0.0619 - accuracy: 0.9834 - val_loss: 0.0596 - val_accuracy: 0.9876\n",
      "Epoch 7/10\n",
      "32/32 [==============================] - 9s 273ms/step - loss: 0.0623 - accuracy: 0.9824 - val_loss: 0.0732 - val_accuracy: 0.9819\n",
      "Epoch 8/10\n",
      "32/32 [==============================] - 9s 274ms/step - loss: 0.0457 - accuracy: 0.9902 - val_loss: 0.0519 - val_accuracy: 0.9864\n",
      "Epoch 9/10\n",
      "32/32 [==============================] - 9s 274ms/step - loss: 0.0384 - accuracy: 0.9895 - val_loss: 0.0627 - val_accuracy: 0.9850\n",
      "Epoch 10/10\n",
      "32/32 [==============================] - 9s 274ms/step - loss: 0.0401 - accuracy: 0.9878 - val_loss: 0.1258 - val_accuracy: 0.9803\n",
      "Duration: 0:01:26.948246\n"
     ]
    }
   ],
   "source": [
    "print(n)\n",
    "models_nc[n].fit_model(image_sets_nc[n],label_sets_nc[n],x_val,y_val)\n",
    "n = n+1"
   ]
  },
  {
   "cell_type": "code",
   "execution_count": 180,
   "id": "39c3b443",
   "metadata": {},
   "outputs": [
    {
     "name": "stdout",
     "output_type": "stream",
     "text": [
      "6\n",
      "Epoch 1/10\n",
      "38/38 [==============================] - 11s 250ms/step - loss: 0.2211 - accuracy: 0.9610 - val_loss: 0.1981 - val_accuracy: 0.9791\n",
      "Epoch 2/10\n",
      "38/38 [==============================] - 9s 243ms/step - loss: 0.1282 - accuracy: 0.9695 - val_loss: 0.0561 - val_accuracy: 0.9851\n",
      "Epoch 3/10\n",
      "38/38 [==============================] - 9s 250ms/step - loss: 0.0984 - accuracy: 0.9817 - val_loss: 0.0507 - val_accuracy: 0.9882\n",
      "Epoch 4/10\n",
      "38/38 [==============================] - 9s 248ms/step - loss: 0.0824 - accuracy: 0.9771 - val_loss: 0.0447 - val_accuracy: 0.9871\n",
      "Epoch 5/10\n",
      "38/38 [==============================] - 9s 250ms/step - loss: 0.1076 - accuracy: 0.9717 - val_loss: 0.0690 - val_accuracy: 0.9850\n",
      "Epoch 6/10\n",
      "38/38 [==============================] - 10s 254ms/step - loss: 0.0751 - accuracy: 0.9754 - val_loss: 0.0777 - val_accuracy: 0.9789\n",
      "Epoch 7/10\n",
      "38/38 [==============================] - 9s 251ms/step - loss: 0.0680 - accuracy: 0.9796 - val_loss: 0.0779 - val_accuracy: 0.9814\n",
      "Epoch 8/10\n",
      "38/38 [==============================] - 9s 252ms/step - loss: 0.0491 - accuracy: 0.9827 - val_loss: 0.0709 - val_accuracy: 0.9836\n",
      "Epoch 9/10\n",
      "38/38 [==============================] - 10s 257ms/step - loss: 0.0651 - accuracy: 0.9819 - val_loss: 0.0778 - val_accuracy: 0.9865\n",
      "Epoch 10/10\n",
      "38/38 [==============================] - 10s 257ms/step - loss: 0.0545 - accuracy: 0.9856 - val_loss: 0.0553 - val_accuracy: 0.9864\n",
      "Duration: 0:01:35.352936\n"
     ]
    }
   ],
   "source": [
    "print(n)\n",
    "models_nc[n].fit_model(image_sets_nc[n],label_sets_nc[n],x_val,y_val)\n",
    "n = n+1"
   ]
  },
  {
   "cell_type": "code",
   "execution_count": 181,
   "id": "5c9be677",
   "metadata": {},
   "outputs": [
    {
     "name": "stdout",
     "output_type": "stream",
     "text": [
      "7\n",
      "Epoch 1/10\n",
      "43/43 [==============================] - 11s 237ms/step - loss: 0.1757 - accuracy: 0.9619 - val_loss: 0.0528 - val_accuracy: 0.9859\n",
      "Epoch 2/10\n",
      "43/43 [==============================] - 10s 243ms/step - loss: 0.1070 - accuracy: 0.9755 - val_loss: 0.0579 - val_accuracy: 0.9837\n",
      "Epoch 3/10\n",
      "43/43 [==============================] - 10s 242ms/step - loss: 0.1051 - accuracy: 0.9706 - val_loss: 0.0520 - val_accuracy: 0.9857\n",
      "Epoch 4/10\n",
      "43/43 [==============================] - 10s 242ms/step - loss: 0.0870 - accuracy: 0.9849 - val_loss: 0.0537 - val_accuracy: 0.9859\n",
      "Epoch 5/10\n",
      "43/43 [==============================] - 10s 244ms/step - loss: 0.1009 - accuracy: 0.9759 - val_loss: 0.0487 - val_accuracy: 0.9874\n",
      "Epoch 6/10\n",
      "43/43 [==============================] - 10s 245ms/step - loss: 0.0888 - accuracy: 0.9797 - val_loss: 0.0486 - val_accuracy: 0.9868\n",
      "Epoch 7/10\n",
      "43/43 [==============================] - 10s 245ms/step - loss: 0.0826 - accuracy: 0.9846 - val_loss: 0.0596 - val_accuracy: 0.9859\n",
      "Epoch 8/10\n",
      "43/43 [==============================] - 10s 247ms/step - loss: 0.0438 - accuracy: 0.9831 - val_loss: 0.0678 - val_accuracy: 0.9842\n",
      "Epoch 9/10\n",
      "43/43 [==============================] - 11s 249ms/step - loss: 0.0457 - accuracy: 0.9863 - val_loss: 0.0522 - val_accuracy: 0.9855\n",
      "Epoch 10/10\n",
      "43/43 [==============================] - 11s 253ms/step - loss: 0.0576 - accuracy: 0.9863 - val_loss: 0.0560 - val_accuracy: 0.9871\n",
      "Duration: 0:01:45.310229\n"
     ]
    }
   ],
   "source": [
    "print(n)\n",
    "models_nc[n].fit_model(image_sets_nc[n],label_sets_nc[n],x_val,y_val)\n",
    "n = n+1"
   ]
  },
  {
   "cell_type": "code",
   "execution_count": 182,
   "id": "2cb1ea37",
   "metadata": {},
   "outputs": [
    {
     "name": "stdout",
     "output_type": "stream",
     "text": [
      "8\n",
      "Epoch 1/10\n",
      "48/48 [==============================] - 13s 238ms/step - loss: 0.1489 - accuracy: 0.9703 - val_loss: 0.0468 - val_accuracy: 0.9868\n",
      "Epoch 2/10\n",
      "48/48 [==============================] - 11s 242ms/step - loss: 0.1119 - accuracy: 0.9730 - val_loss: 0.0405 - val_accuracy: 0.9885\n",
      "Epoch 3/10\n",
      "48/48 [==============================] - 12s 244ms/step - loss: 0.0921 - accuracy: 0.9756 - val_loss: 0.0412 - val_accuracy: 0.9884\n",
      "Epoch 4/10\n",
      "48/48 [==============================] - 11s 241ms/step - loss: 0.0835 - accuracy: 0.9779 - val_loss: 0.0573 - val_accuracy: 0.9861\n",
      "Epoch 5/10\n",
      "48/48 [==============================] - 11s 241ms/step - loss: 0.0870 - accuracy: 0.9784 - val_loss: 0.0449 - val_accuracy: 0.9871\n",
      "Epoch 6/10\n",
      "48/48 [==============================] - 11s 241ms/step - loss: 0.0760 - accuracy: 0.9791 - val_loss: 0.0499 - val_accuracy: 0.9871\n",
      "Epoch 7/10\n",
      "48/48 [==============================] - 11s 241ms/step - loss: 0.0643 - accuracy: 0.9830 - val_loss: 0.0644 - val_accuracy: 0.9855\n",
      "Epoch 8/10\n",
      "48/48 [==============================] - 11s 240ms/step - loss: 0.0599 - accuracy: 0.9859 - val_loss: 0.0532 - val_accuracy: 0.9859\n",
      "Epoch 9/10\n",
      "48/48 [==============================] - 11s 242ms/step - loss: 0.0822 - accuracy: 0.9785 - val_loss: 0.0621 - val_accuracy: 0.9859\n",
      "Epoch 10/10\n",
      "48/48 [==============================] - 11s 240ms/step - loss: 0.0696 - accuracy: 0.9840 - val_loss: 0.0559 - val_accuracy: 0.9860\n",
      "Duration: 0:01:55.896084\n"
     ]
    }
   ],
   "source": [
    "print(n)\n",
    "models_nc[n].fit_model(image_sets_nc[n],label_sets_nc[n],x_val,y_val)\n",
    "n = n+1"
   ]
  },
  {
   "cell_type": "code",
   "execution_count": 183,
   "id": "d9f1000d",
   "metadata": {},
   "outputs": [
    {
     "name": "stdout",
     "output_type": "stream",
     "text": [
      "9\n",
      "Epoch 1/10\n",
      "54/54 [==============================] - 14s 230ms/step - loss: 0.1896 - accuracy: 0.9670 - val_loss: 0.0402 - val_accuracy: 0.9891\n",
      "Epoch 2/10\n",
      "54/54 [==============================] - 12s 227ms/step - loss: 0.1273 - accuracy: 0.9657 - val_loss: 0.0431 - val_accuracy: 0.9884\n",
      "Epoch 3/10\n",
      "54/54 [==============================] - 12s 227ms/step - loss: 0.0892 - accuracy: 0.9734 - val_loss: 0.0599 - val_accuracy: 0.9855\n",
      "Epoch 4/10\n",
      "54/54 [==============================] - 12s 226ms/step - loss: 0.0790 - accuracy: 0.9788 - val_loss: 0.0472 - val_accuracy: 0.9867\n",
      "Epoch 5/10\n",
      "54/54 [==============================] - 12s 227ms/step - loss: 0.0877 - accuracy: 0.9756 - val_loss: 0.0599 - val_accuracy: 0.9865\n",
      "Epoch 6/10\n",
      "54/54 [==============================] - 12s 227ms/step - loss: 0.0754 - accuracy: 0.9794 - val_loss: 0.0717 - val_accuracy: 0.9824\n",
      "Epoch 7/10\n",
      "54/54 [==============================] - 12s 230ms/step - loss: 0.0921 - accuracy: 0.9737 - val_loss: 0.4001 - val_accuracy: 0.9721\n",
      "Epoch 8/10\n",
      "54/54 [==============================] - 12s 228ms/step - loss: 0.0903 - accuracy: 0.9764 - val_loss: 0.0485 - val_accuracy: 0.9859\n",
      "Epoch 9/10\n",
      "54/54 [==============================] - 12s 231ms/step - loss: 0.0501 - accuracy: 0.9850 - val_loss: 0.0528 - val_accuracy: 0.9857\n",
      "Epoch 10/10\n",
      "54/54 [==============================] - 13s 241ms/step - loss: 0.0518 - accuracy: 0.9855 - val_loss: 0.0567 - val_accuracy: 0.9850\n",
      "Duration: 0:02:04.038975\n"
     ]
    }
   ],
   "source": [
    "#\n",
    "print(n)\n",
    "models_nc[n].fit_model(image_sets_nc[n],label_sets_nc[n],x_val,y_val)\n",
    "n = n+1"
   ]
  },
  {
   "cell_type": "code",
   "execution_count": 184,
   "id": "e1cc3559",
   "metadata": {},
   "outputs": [
    {
     "name": "stdout",
     "output_type": "stream",
     "text": [
      "10\n",
      "Epoch 1/10\n",
      "59/59 [==============================] - 14s 220ms/step - loss: 0.1424 - accuracy: 0.9716 - val_loss: 0.0742 - val_accuracy: 0.9852\n",
      "Epoch 2/10\n",
      "59/59 [==============================] - 13s 220ms/step - loss: 0.1460 - accuracy: 0.9677 - val_loss: 0.0518 - val_accuracy: 0.9871\n",
      "Epoch 3/10\n",
      "59/59 [==============================] - 13s 219ms/step - loss: 0.0956 - accuracy: 0.9776 - val_loss: 0.0459 - val_accuracy: 0.9880\n",
      "Epoch 4/10\n",
      "59/59 [==============================] - 13s 220ms/step - loss: 0.0941 - accuracy: 0.9755 - val_loss: 0.0545 - val_accuracy: 0.9866\n",
      "Epoch 5/10\n",
      "59/59 [==============================] - 13s 219ms/step - loss: 0.0993 - accuracy: 0.9783 - val_loss: 0.0565 - val_accuracy: 0.9860\n",
      "Epoch 6/10\n",
      "59/59 [==============================] - 13s 220ms/step - loss: 0.0797 - accuracy: 0.9771 - val_loss: 0.0567 - val_accuracy: 0.9861\n",
      "Epoch 7/10\n",
      "59/59 [==============================] - 13s 220ms/step - loss: 0.0860 - accuracy: 0.9749 - val_loss: 0.0459 - val_accuracy: 0.9869\n",
      "Epoch 8/10\n",
      "59/59 [==============================] - 13s 219ms/step - loss: 0.0640 - accuracy: 0.9830 - val_loss: 0.0453 - val_accuracy: 0.9867\n",
      "Epoch 9/10\n",
      "59/59 [==============================] - 13s 219ms/step - loss: 0.0800 - accuracy: 0.9795 - val_loss: 0.0552 - val_accuracy: 0.9873\n",
      "Epoch 10/10\n",
      "59/59 [==============================] - 13s 220ms/step - loss: 0.0902 - accuracy: 0.9798 - val_loss: 0.0691 - val_accuracy: 0.9849\n",
      "Duration: 0:02:09.889380\n"
     ]
    }
   ],
   "source": [
    "print(n)\n",
    "models_nc[n].fit_model(image_sets_nc[n],label_sets_nc[n],x_val,y_val)\n",
    "n = n+1"
   ]
  },
  {
   "cell_type": "code",
   "execution_count": 185,
   "id": "e17d50fa",
   "metadata": {},
   "outputs": [
    {
     "name": "stdout",
     "output_type": "stream",
     "text": [
      "11\n",
      "Epoch 1/10\n",
      "64/64 [==============================] - 15s 213ms/step - loss: 0.2415 - accuracy: 0.9589 - val_loss: 0.0452 - val_accuracy: 0.9870\n",
      "Epoch 2/10\n",
      "64/64 [==============================] - 14s 214ms/step - loss: 0.1209 - accuracy: 0.9709 - val_loss: 0.0982 - val_accuracy: 0.9862\n",
      "Epoch 3/10\n",
      "64/64 [==============================] - 14s 213ms/step - loss: 0.0963 - accuracy: 0.9725 - val_loss: 0.0499 - val_accuracy: 0.9876\n",
      "Epoch 4/10\n",
      "64/64 [==============================] - 14s 213ms/step - loss: 0.1215 - accuracy: 0.9715 - val_loss: 0.0432 - val_accuracy: 0.9881\n",
      "Epoch 5/10\n",
      "64/64 [==============================] - 13s 211ms/step - loss: 0.0808 - accuracy: 0.9765 - val_loss: 0.0473 - val_accuracy: 0.9869\n",
      "Epoch 6/10\n",
      "64/64 [==============================] - 13s 212ms/step - loss: 0.0760 - accuracy: 0.9792 - val_loss: 0.0494 - val_accuracy: 0.9874\n",
      "Epoch 7/10\n",
      "64/64 [==============================] - 14s 213ms/step - loss: 0.0714 - accuracy: 0.9799 - val_loss: 0.0460 - val_accuracy: 0.9878\n",
      "Epoch 8/10\n",
      "64/64 [==============================] - 14s 214ms/step - loss: 0.0854 - accuracy: 0.9798 - val_loss: 0.0530 - val_accuracy: 0.9866\n",
      "Epoch 9/10\n",
      "64/64 [==============================] - 13s 212ms/step - loss: 0.0727 - accuracy: 0.9766 - val_loss: 0.0480 - val_accuracy: 0.9868\n",
      "Epoch 10/10\n",
      "64/64 [==============================] - 14s 216ms/step - loss: 0.0708 - accuracy: 0.9840 - val_loss: 0.0542 - val_accuracy: 0.9849\n",
      "Duration: 0:02:16.826882\n"
     ]
    }
   ],
   "source": [
    "print(n)\n",
    "models_nc[n].fit_model(image_sets_nc[n],label_sets_nc[n],x_val,y_val)\n",
    "n = n+1"
   ]
  },
  {
   "cell_type": "code",
   "execution_count": 186,
   "id": "0f12f210",
   "metadata": {},
   "outputs": [
    {
     "name": "stdout",
     "output_type": "stream",
     "text": [
      "12\n",
      "Epoch 1/10\n",
      "70/70 [==============================] - 16s 206ms/step - loss: 0.1686 - accuracy: 0.9596 - val_loss: 0.0814 - val_accuracy: 0.9829\n",
      "Epoch 2/10\n",
      "70/70 [==============================] - 14s 203ms/step - loss: 0.1322 - accuracy: 0.9660 - val_loss: 0.1219 - val_accuracy: 0.9767\n",
      "Epoch 3/10\n",
      "70/70 [==============================] - 14s 204ms/step - loss: 0.1307 - accuracy: 0.9682 - val_loss: 0.0539 - val_accuracy: 0.9847\n",
      "Epoch 4/10\n",
      "70/70 [==============================] - 14s 203ms/step - loss: 0.1022 - accuracy: 0.9743 - val_loss: 0.0780 - val_accuracy: 0.9822\n",
      "Epoch 5/10\n",
      "70/70 [==============================] - 14s 208ms/step - loss: 0.0881 - accuracy: 0.9780 - val_loss: 0.0469 - val_accuracy: 0.9867\n",
      "Epoch 6/10\n",
      "70/70 [==============================] - 14s 203ms/step - loss: 0.0892 - accuracy: 0.9768 - val_loss: 0.0549 - val_accuracy: 0.9843\n",
      "Epoch 7/10\n",
      "70/70 [==============================] - 14s 204ms/step - loss: 0.0767 - accuracy: 0.9801 - val_loss: 0.0464 - val_accuracy: 0.9881\n",
      "Epoch 8/10\n",
      "70/70 [==============================] - 14s 202ms/step - loss: 0.0868 - accuracy: 0.9742 - val_loss: 0.0477 - val_accuracy: 0.9878\n",
      "Epoch 9/10\n",
      "70/70 [==============================] - 14s 202ms/step - loss: 0.0740 - accuracy: 0.9800 - val_loss: 0.0398 - val_accuracy: 0.9886\n",
      "Epoch 10/10\n",
      "70/70 [==============================] - 14s 202ms/step - loss: 0.0678 - accuracy: 0.9813 - val_loss: 0.0525 - val_accuracy: 0.9873\n",
      "Duration: 0:02:23.149052\n"
     ]
    }
   ],
   "source": [
    "print(n)\n",
    "models_nc[n].fit_model(image_sets_nc[n],label_sets_nc[n],x_val,y_val)\n",
    "n = n+1"
   ]
  },
  {
   "cell_type": "code",
   "execution_count": 187,
   "id": "8438733c",
   "metadata": {},
   "outputs": [
    {
     "name": "stdout",
     "output_type": "stream",
     "text": [
      "13\n",
      "Epoch 1/10\n",
      "75/75 [==============================] - 16s 202ms/step - loss: 0.1934 - accuracy: 0.9601 - val_loss: 0.0442 - val_accuracy: 0.9881\n",
      "Epoch 2/10\n",
      "75/75 [==============================] - 15s 201ms/step - loss: 0.1134 - accuracy: 0.9737 - val_loss: 0.0403 - val_accuracy: 0.9883\n",
      "Epoch 3/10\n",
      "75/75 [==============================] - 15s 201ms/step - loss: 0.1005 - accuracy: 0.9769 - val_loss: 0.0448 - val_accuracy: 0.9874\n",
      "Epoch 4/10\n",
      "75/75 [==============================] - 15s 201ms/step - loss: 0.0889 - accuracy: 0.9754 - val_loss: 0.0460 - val_accuracy: 0.9857\n",
      "Epoch 5/10\n",
      "75/75 [==============================] - 15s 203ms/step - loss: 0.0852 - accuracy: 0.9716 - val_loss: 0.0456 - val_accuracy: 0.9875\n",
      "Epoch 6/10\n",
      "75/75 [==============================] - 15s 201ms/step - loss: 0.0913 - accuracy: 0.9765 - val_loss: 0.0554 - val_accuracy: 0.9873\n",
      "Epoch 7/10\n",
      "75/75 [==============================] - 15s 201ms/step - loss: 0.0777 - accuracy: 0.9797 - val_loss: 0.0718 - val_accuracy: 0.9833\n",
      "Epoch 8/10\n",
      "75/75 [==============================] - 15s 201ms/step - loss: 0.0752 - accuracy: 0.9798 - val_loss: 0.1630 - val_accuracy: 0.9799\n",
      "Epoch 9/10\n",
      "75/75 [==============================] - 15s 201ms/step - loss: 0.0839 - accuracy: 0.9785 - val_loss: 0.0517 - val_accuracy: 0.9876\n",
      "Epoch 10/10\n",
      "75/75 [==============================] - 15s 203ms/step - loss: 0.0582 - accuracy: 0.9859 - val_loss: 0.0872 - val_accuracy: 0.9816\n",
      "Duration: 0:02:31.699297\n"
     ]
    }
   ],
   "source": [
    "print(n)\n",
    "models_nc[n].fit_model(image_sets_nc[n],label_sets_nc[n],x_val,y_val)\n",
    "n = n+1"
   ]
  },
  {
   "cell_type": "code",
   "execution_count": 188,
   "id": "87e95b49",
   "metadata": {},
   "outputs": [
    {
     "name": "stdout",
     "output_type": "stream",
     "text": [
      "14\n",
      "Epoch 1/10\n",
      "80/80 [==============================] - 17s 197ms/step - loss: 0.1707 - accuracy: 0.9636 - val_loss: 0.0777 - val_accuracy: 0.9819\n",
      "Epoch 2/10\n",
      "80/80 [==============================] - 16s 196ms/step - loss: 0.1307 - accuracy: 0.9644 - val_loss: 0.0426 - val_accuracy: 0.9885\n",
      "Epoch 3/10\n",
      "80/80 [==============================] - 16s 197ms/step - loss: 0.0895 - accuracy: 0.9720 - val_loss: 0.0439 - val_accuracy: 0.9879\n",
      "Epoch 4/10\n",
      "80/80 [==============================] - 16s 197ms/step - loss: 0.1239 - accuracy: 0.9717 - val_loss: 0.0551 - val_accuracy: 0.9877\n",
      "Epoch 5/10\n",
      "80/80 [==============================] - 16s 196ms/step - loss: 0.1011 - accuracy: 0.9742 - val_loss: 0.0549 - val_accuracy: 0.9854\n",
      "Epoch 6/10\n",
      "80/80 [==============================] - 17s 213ms/step - loss: 0.0776 - accuracy: 0.9785 - val_loss: 0.0522 - val_accuracy: 0.9850\n",
      "Epoch 7/10\n",
      "80/80 [==============================] - 17s 219ms/step - loss: 0.0983 - accuracy: 0.9764 - val_loss: 0.0526 - val_accuracy: 0.9861\n",
      "Epoch 8/10\n",
      "80/80 [==============================] - 17s 219ms/step - loss: 0.0747 - accuracy: 0.9794 - val_loss: 0.0535 - val_accuracy: 0.9885\n",
      "Epoch 9/10\n",
      "80/80 [==============================] - 17s 218ms/step - loss: 0.0765 - accuracy: 0.9807 - val_loss: 0.0439 - val_accuracy: 0.9884\n",
      "Epoch 10/10\n",
      "80/80 [==============================] - 17s 220ms/step - loss: 0.0645 - accuracy: 0.9809 - val_loss: 0.0428 - val_accuracy: 0.9884\n",
      "Duration: 0:02:46.317280\n"
     ]
    }
   ],
   "source": [
    "#\n",
    "print(n)\n",
    "models_nc[n].fit_model(image_sets_nc[n],label_sets_nc[n],x_val,y_val)\n",
    "n = n+1"
   ]
  },
  {
   "cell_type": "code",
   "execution_count": 189,
   "id": "43b1e894",
   "metadata": {},
   "outputs": [
    {
     "name": "stdout",
     "output_type": "stream",
     "text": [
      "15\n",
      "Epoch 1/10\n",
      "85/85 [==============================] - 20s 218ms/step - loss: 0.2011 - accuracy: 0.9555 - val_loss: 0.0471 - val_accuracy: 0.9864\n",
      "Epoch 2/10\n",
      "85/85 [==============================] - 18s 216ms/step - loss: 0.1224 - accuracy: 0.9682 - val_loss: 0.0599 - val_accuracy: 0.9840\n",
      "Epoch 3/10\n",
      "85/85 [==============================] - 18s 216ms/step - loss: 0.1157 - accuracy: 0.9715 - val_loss: 0.0450 - val_accuracy: 0.9884\n",
      "Epoch 4/10\n",
      "85/85 [==============================] - 18s 216ms/step - loss: 0.1004 - accuracy: 0.9750 - val_loss: 0.0525 - val_accuracy: 0.9871\n",
      "Epoch 5/10\n",
      "85/85 [==============================] - 18s 216ms/step - loss: 0.0996 - accuracy: 0.9731 - val_loss: 0.0473 - val_accuracy: 0.9870\n",
      "Epoch 6/10\n",
      "85/85 [==============================] - 18s 217ms/step - loss: 0.0919 - accuracy: 0.9751 - val_loss: 0.0461 - val_accuracy: 0.9881\n",
      "Epoch 7/10\n",
      "85/85 [==============================] - 18s 215ms/step - loss: 0.1058 - accuracy: 0.9760 - val_loss: 0.0579 - val_accuracy: 0.9847\n",
      "Epoch 8/10\n",
      "85/85 [==============================] - 18s 216ms/step - loss: 0.0810 - accuracy: 0.9782 - val_loss: 0.0534 - val_accuracy: 0.9863\n",
      "Epoch 9/10\n",
      "85/85 [==============================] - 18s 217ms/step - loss: 0.0668 - accuracy: 0.9817 - val_loss: 0.0460 - val_accuracy: 0.9871\n",
      "Epoch 10/10\n",
      "85/85 [==============================] - 18s 216ms/step - loss: 0.0765 - accuracy: 0.9767 - val_loss: 0.0557 - val_accuracy: 0.9860\n",
      "Duration: 0:03:04.983961\n"
     ]
    }
   ],
   "source": [
    "print(n)\n",
    "models_nc[n].fit_model(image_sets_nc[n],label_sets_nc[n],x_val,y_val)\n",
    "n = n+1"
   ]
  },
  {
   "cell_type": "code",
   "execution_count": 190,
   "id": "7de153f9",
   "metadata": {},
   "outputs": [
    {
     "name": "stdout",
     "output_type": "stream",
     "text": [
      "16\n",
      "Epoch 1/10\n",
      "91/91 [==============================] - 22s 216ms/step - loss: 0.1467 - accuracy: 0.9642 - val_loss: 0.0451 - val_accuracy: 0.9881\n",
      "Epoch 2/10\n",
      "91/91 [==============================] - 20s 216ms/step - loss: 0.1263 - accuracy: 0.9666 - val_loss: 0.0621 - val_accuracy: 0.9855\n",
      "Epoch 3/10\n",
      "91/91 [==============================] - 20s 215ms/step - loss: 0.1310 - accuracy: 0.9687 - val_loss: 0.0633 - val_accuracy: 0.9860\n",
      "Epoch 4/10\n",
      "91/91 [==============================] - 19s 214ms/step - loss: 0.1051 - accuracy: 0.9712 - val_loss: 0.0466 - val_accuracy: 0.9872\n",
      "Epoch 5/10\n",
      "91/91 [==============================] - 19s 215ms/step - loss: 0.1058 - accuracy: 0.9731 - val_loss: 0.0403 - val_accuracy: 0.9886\n",
      "Epoch 6/10\n",
      "91/91 [==============================] - 19s 215ms/step - loss: 0.0995 - accuracy: 0.9718 - val_loss: 0.1025 - val_accuracy: 0.9836\n",
      "Epoch 7/10\n",
      "91/91 [==============================] - 19s 214ms/step - loss: 0.0895 - accuracy: 0.9789 - val_loss: 0.0552 - val_accuracy: 0.9856\n",
      "Epoch 8/10\n",
      "91/91 [==============================] - 19s 214ms/step - loss: 0.0776 - accuracy: 0.9821 - val_loss: 0.0929 - val_accuracy: 0.9796\n",
      "Epoch 9/10\n",
      "91/91 [==============================] - 20s 216ms/step - loss: 0.0761 - accuracy: 0.9807 - val_loss: 0.0441 - val_accuracy: 0.9871\n",
      "Epoch 10/10\n",
      "91/91 [==============================] - 20s 215ms/step - loss: 0.0633 - accuracy: 0.9839 - val_loss: 0.0577 - val_accuracy: 0.9859\n",
      "Duration: 0:03:16.985422\n"
     ]
    }
   ],
   "source": [
    "print(n)\n",
    "models_nc[n].fit_model(image_sets_nc[n],label_sets_nc[n],x_val,y_val)\n",
    "n = n+1"
   ]
  },
  {
   "cell_type": "code",
   "execution_count": 191,
   "id": "814d3a6c",
   "metadata": {},
   "outputs": [
    {
     "name": "stdout",
     "output_type": "stream",
     "text": [
      "17\n",
      "Epoch 1/10\n",
      "96/96 [==============================] - 22s 212ms/step - loss: 0.1736 - accuracy: 0.9627 - val_loss: 0.0449 - val_accuracy: 0.9877\n",
      "Epoch 2/10\n",
      "96/96 [==============================] - 21s 214ms/step - loss: 0.1290 - accuracy: 0.9690 - val_loss: 0.0387 - val_accuracy: 0.9890\n",
      "Epoch 3/10\n",
      "96/96 [==============================] - 22s 225ms/step - loss: 0.1095 - accuracy: 0.9731 - val_loss: 0.0559 - val_accuracy: 0.9856\n",
      "Epoch 4/10\n",
      "96/96 [==============================] - 21s 218ms/step - loss: 0.1178 - accuracy: 0.9692 - val_loss: 0.0626 - val_accuracy: 0.9845\n",
      "Epoch 5/10\n",
      "96/96 [==============================] - 20s 213ms/step - loss: 0.1039 - accuracy: 0.9722 - val_loss: 0.0530 - val_accuracy: 0.9847\n",
      "Epoch 6/10\n",
      "96/96 [==============================] - 20s 214ms/step - loss: 0.1040 - accuracy: 0.9736 - val_loss: 0.0470 - val_accuracy: 0.9870\n",
      "Epoch 7/10\n",
      "96/96 [==============================] - 21s 216ms/step - loss: 0.0894 - accuracy: 0.9785 - val_loss: 0.0562 - val_accuracy: 0.9861\n",
      "Epoch 8/10\n",
      "96/96 [==============================] - 20s 213ms/step - loss: 0.0785 - accuracy: 0.9786 - val_loss: 0.0634 - val_accuracy: 0.9813\n",
      "Epoch 9/10\n",
      "96/96 [==============================] - 20s 213ms/step - loss: 0.0735 - accuracy: 0.9817 - val_loss: 0.0629 - val_accuracy: 0.9855\n",
      "Epoch 10/10\n",
      "96/96 [==============================] - 20s 213ms/step - loss: 0.0588 - accuracy: 0.9852 - val_loss: 0.0630 - val_accuracy: 0.9861\n",
      "Duration: 0:03:27.760049\n"
     ]
    }
   ],
   "source": [
    "print(n)\n",
    "models_nc[n].fit_model(image_sets_nc[n],label_sets_nc[n],x_val,y_val)\n",
    "n = n+1"
   ]
  },
  {
   "cell_type": "code",
   "execution_count": 192,
   "id": "b5db2221",
   "metadata": {},
   "outputs": [
    {
     "name": "stdout",
     "output_type": "stream",
     "text": [
      "18\n",
      "Epoch 1/10\n",
      "101/101 [==============================] - 23s 212ms/step - loss: 0.1670 - accuracy: 0.9604 - val_loss: 0.0502 - val_accuracy: 0.9862\n",
      "Epoch 2/10\n",
      "101/101 [==============================] - 21s 212ms/step - loss: 0.1262 - accuracy: 0.9686 - val_loss: 0.0574 - val_accuracy: 0.9863\n",
      "Epoch 3/10\n",
      "101/101 [==============================] - 21s 211ms/step - loss: 0.1110 - accuracy: 0.9717 - val_loss: 0.0652 - val_accuracy: 0.9855\n",
      "Epoch 4/10\n",
      "101/101 [==============================] - 21s 210ms/step - loss: 0.0984 - accuracy: 0.9763 - val_loss: 0.0489 - val_accuracy: 0.9876\n",
      "Epoch 5/10\n",
      "101/101 [==============================] - 21s 211ms/step - loss: 0.0936 - accuracy: 0.9750 - val_loss: 0.0536 - val_accuracy: 0.9864\n",
      "Epoch 6/10\n",
      "101/101 [==============================] - 21s 212ms/step - loss: 0.1094 - accuracy: 0.9781 - val_loss: 0.0505 - val_accuracy: 0.9849\n",
      "Epoch 7/10\n",
      "101/101 [==============================] - 21s 212ms/step - loss: 0.0808 - accuracy: 0.9746 - val_loss: 0.0458 - val_accuracy: 0.9877\n",
      "Epoch 8/10\n",
      "101/101 [==============================] - 21s 211ms/step - loss: 0.0871 - accuracy: 0.9760 - val_loss: 0.0627 - val_accuracy: 0.9819\n",
      "Epoch 9/10\n",
      "101/101 [==============================] - 21s 211ms/step - loss: 0.0802 - accuracy: 0.9806 - val_loss: 0.0439 - val_accuracy: 0.9880\n",
      "Epoch 10/10\n",
      "101/101 [==============================] - 21s 211ms/step - loss: 0.0699 - accuracy: 0.9832 - val_loss: 0.0566 - val_accuracy: 0.9862\n",
      "Duration: 0:03:34.960541\n"
     ]
    }
   ],
   "source": [
    "print(n)\n",
    "models_nc[n].fit_model(image_sets_nc[n],label_sets_nc[n],x_val,y_val)\n",
    "n = n+1"
   ]
  },
  {
   "cell_type": "code",
   "execution_count": 193,
   "id": "e5b7e32d",
   "metadata": {},
   "outputs": [
    {
     "name": "stdout",
     "output_type": "stream",
     "text": [
      "19\n",
      "Epoch 1/10\n",
      "110/110 [==============================] - 25s 208ms/step - loss: 0.1882 - accuracy: 0.9582 - val_loss: 0.0619 - val_accuracy: 0.9859\n",
      "Epoch 2/10\n",
      "110/110 [==============================] - 23s 207ms/step - loss: 0.1356 - accuracy: 0.9654 - val_loss: 0.0428 - val_accuracy: 0.9877\n",
      "Epoch 3/10\n",
      "110/110 [==============================] - 23s 207ms/step - loss: 0.1158 - accuracy: 0.9719 - val_loss: 0.0603 - val_accuracy: 0.9848\n",
      "Epoch 4/10\n",
      "110/110 [==============================] - 23s 207ms/step - loss: 0.1185 - accuracy: 0.9712 - val_loss: 0.0454 - val_accuracy: 0.9870\n",
      "Epoch 5/10\n",
      "110/110 [==============================] - 23s 206ms/step - loss: 0.1142 - accuracy: 0.9723 - val_loss: 0.0594 - val_accuracy: 0.9867\n",
      "Epoch 6/10\n",
      "110/110 [==============================] - 23s 206ms/step - loss: 0.0815 - accuracy: 0.9789 - val_loss: 0.0524 - val_accuracy: 0.9854\n",
      "Epoch 7/10\n",
      "110/110 [==============================] - 23s 207ms/step - loss: 0.0831 - accuracy: 0.9800 - val_loss: 0.0546 - val_accuracy: 0.9859\n",
      "Epoch 8/10\n",
      "110/110 [==============================] - 23s 205ms/step - loss: 0.0852 - accuracy: 0.9792 - val_loss: 0.0611 - val_accuracy: 0.9827\n",
      "Epoch 9/10\n",
      "110/110 [==============================] - 23s 206ms/step - loss: 0.0661 - accuracy: 0.9819 - val_loss: 0.0573 - val_accuracy: 0.9859\n",
      "Epoch 10/10\n",
      "110/110 [==============================] - 23s 207ms/step - loss: 0.0795 - accuracy: 0.9809 - val_loss: 0.0589 - val_accuracy: 0.9864\n",
      "Duration: 0:03:48.486971\n"
     ]
    }
   ],
   "source": [
    "#\n",
    "print(n)\n",
    "models_nc[n].fit_model(image_sets_nc[n],label_sets_nc[n],x_val,y_val)\n",
    "n = n+1"
   ]
  },
  {
   "cell_type": "code",
   "execution_count": 194,
   "id": "43bd398f",
   "metadata": {},
   "outputs": [
    {
     "name": "stdout",
     "output_type": "stream",
     "text": [
      "INFO:tensorflow:Assets written to: D:/models/aug_22/mnist/C3/mnist_model_c3_aug_nc_e1_0\\assets\n",
      "Model has been saved\n",
      "INFO:tensorflow:Assets written to: D:/models/aug_22/mnist/C3/mnist_model_c3_aug_nc_e1_1\\assets\n",
      "Model has been saved\n",
      "INFO:tensorflow:Assets written to: D:/models/aug_22/mnist/C3/mnist_model_c3_aug_nc_e1_2\\assets\n",
      "Model has been saved\n",
      "INFO:tensorflow:Assets written to: D:/models/aug_22/mnist/C3/mnist_model_c3_aug_nc_e1_3\\assets\n",
      "Model has been saved\n",
      "INFO:tensorflow:Assets written to: D:/models/aug_22/mnist/C3/mnist_model_c3_aug_nc_e1_4\\assets\n",
      "Model has been saved\n",
      "INFO:tensorflow:Assets written to: D:/models/aug_22/mnist/C3/mnist_model_c3_aug_nc_e1_5\\assets\n",
      "Model has been saved\n",
      "INFO:tensorflow:Assets written to: D:/models/aug_22/mnist/C3/mnist_model_c3_aug_nc_e1_6\\assets\n",
      "Model has been saved\n",
      "INFO:tensorflow:Assets written to: D:/models/aug_22/mnist/C3/mnist_model_c3_aug_nc_e1_7\\assets\n",
      "Model has been saved\n",
      "INFO:tensorflow:Assets written to: D:/models/aug_22/mnist/C3/mnist_model_c3_aug_nc_e1_8\\assets\n",
      "Model has been saved\n",
      "INFO:tensorflow:Assets written to: D:/models/aug_22/mnist/C3/mnist_model_c3_aug_nc_e1_9\\assets\n",
      "Model has been saved\n",
      "INFO:tensorflow:Assets written to: D:/models/aug_22/mnist/C3/mnist_model_c3_aug_nc_e1_10\\assets\n",
      "Model has been saved\n",
      "INFO:tensorflow:Assets written to: D:/models/aug_22/mnist/C3/mnist_model_c3_aug_nc_e1_11\\assets\n",
      "Model has been saved\n",
      "INFO:tensorflow:Assets written to: D:/models/aug_22/mnist/C3/mnist_model_c3_aug_nc_e1_12\\assets\n",
      "Model has been saved\n",
      "INFO:tensorflow:Assets written to: D:/models/aug_22/mnist/C3/mnist_model_c3_aug_nc_e1_13\\assets\n",
      "Model has been saved\n",
      "INFO:tensorflow:Assets written to: D:/models/aug_22/mnist/C3/mnist_model_c3_aug_nc_e1_14\\assets\n",
      "Model has been saved\n",
      "INFO:tensorflow:Assets written to: D:/models/aug_22/mnist/C3/mnist_model_c3_aug_nc_e1_15\\assets\n",
      "Model has been saved\n",
      "INFO:tensorflow:Assets written to: D:/models/aug_22/mnist/C3/mnist_model_c3_aug_nc_e1_16\\assets\n",
      "Model has been saved\n",
      "INFO:tensorflow:Assets written to: D:/models/aug_22/mnist/C3/mnist_model_c3_aug_nc_e1_17\\assets\n",
      "Model has been saved\n",
      "INFO:tensorflow:Assets written to: D:/models/aug_22/mnist/C3/mnist_model_c3_aug_nc_e1_18\\assets\n",
      "Model has been saved\n",
      "INFO:tensorflow:Assets written to: D:/models/aug_22/mnist/C3/mnist_model_c3_aug_nc_e1_19\\assets\n",
      "Model has been saved\n"
     ]
    }
   ],
   "source": [
    "#new_model_nc_dir  = \"C:/Users/fjdurlop/Documents/upc/models/\"+dataset+\"/C3/\"+dataset+\"_model_c3_aug_nc_e1\"\n",
    "new_model_nc_dir  = \"D:/models/aug_22/\"+dataset+\"/C3/\"+dataset+\"_model_c3_aug_nc_e1\"\n",
    "i=0\n",
    "\n",
    "for model in models_nc:\n",
    "    model.save(new_model_nc_dir+\"_\"+str(i))\n",
    "    i+=1"
   ]
  },
  {
   "cell_type": "code",
   "execution_count": null,
   "id": "47e2faf4",
   "metadata": {},
   "outputs": [],
   "source": [
    "try:\n",
    "    del nc_values\n",
    "    del top_images_by_nc\n",
    "    del top_labels_by_nc\n",
    "    del image_sets_nc\n",
    "    del label_sets_nc\n",
    "    del models_nc\n",
    "except:\n",
    "    print(\"Error\")"
   ]
  },
  {
   "cell_type": "code",
   "execution_count": null,
   "id": "98f93725",
   "metadata": {},
   "outputs": [],
   "source": [
    "gc.collect()"
   ]
  },
  {
   "cell_type": "markdown",
   "id": "2b428980",
   "metadata": {},
   "source": [
    "## Evaluating"
   ]
  },
  {
   "cell_type": "code",
   "execution_count": null,
   "id": "e6300f23",
   "metadata": {},
   "outputs": [],
   "source": [
    "model_original.model.compile(loss= 'categorical_crossentropy', optimizer = 'rmsprop', metrics = ['accuracy',tf.keras.metrics.Precision(), tf.keras.metrics.Recall()])"
   ]
  },
  {
   "cell_type": "code",
   "execution_count": null,
   "id": "fd074ff2",
   "metadata": {},
   "outputs": [],
   "source": [
    "# Metrics using adversarial test\n",
    "evaluate_lsa_0 = []\n",
    "evaluate_dsa_0 = []\n",
    "evaluate_nc_0 = []\n",
    "evaluate_random_0 = []\n",
    "\n",
    "evaluate_lsa_0.append(model_original.evaluate(x_adversary_test_fgsm,y_adversary_test_fgsm))\n",
    "evaluate_dsa_0.append(model_original.evaluate(x_adversary_test_fgsm,y_adversary_test_fgsm))\n",
    "evaluate_nc_0.append(model_original.evaluate(x_adversary_test_fgsm,y_adversary_test_fgsm))\n",
    "evaluate_random_0.append(model_original.evaluate(x_adversary_test_fgsm,y_adversary_test_fgsm))\n",
    "\n",
    "for model in models_lsa:\n",
    "    evaluate_lsa_0.append(model.evaluate(x_adversary_test_fgsm,y_adversary_test_fgsm))\n",
    "    \n",
    "for model in models_dsa:\n",
    "    evaluate_dsa_0.append(model.evaluate(x_adversary_test_fgsm,y_adversary_test_fgsm))\n",
    "    \n",
    "for model in models_random:\n",
    "    evaluate_random_0.append(model.evaluate(x_adversary_test_fgsm,y_adversary_test_fgsm))\n",
    "    \n",
    "for model in models_nc:\n",
    "    evaluate_nc_0.append(model.evaluate(x_adversary_test_fgsm,y_adversary_test_fgsm))"
   ]
  },
  {
   "cell_type": "code",
   "execution_count": null,
   "id": "889a2bb6",
   "metadata": {},
   "outputs": [],
   "source": [
    "evaluate_lsa_0[0]=[0,0,0,0]\n",
    "evaluate_dsa_0[0]=[0,0,0,0]\n",
    "evaluate_random_0[0]=[0,0,0,0]\n",
    "evaluate_nc_0[0]=[0,0,0,0]"
   ]
  },
  {
   "cell_type": "code",
   "execution_count": null,
   "id": "11b4b138",
   "metadata": {},
   "outputs": [],
   "source": [
    "print(len(evaluate_lsa_0))\n",
    "print(len(evaluate_dsa_0))\n",
    "print(len(evaluate_random_0))\n",
    "print(len(evaluate_nc_0))"
   ]
  },
  {
   "cell_type": "code",
   "execution_count": null,
   "id": "1d1c6ec0",
   "metadata": {
    "scrolled": true
   },
   "outputs": [],
   "source": [
    "# Metrics using original test\n",
    "evaluate_lsa_1 = []\n",
    "evaluate_dsa_1 = []\n",
    "evaluate_nc_1 = []\n",
    "evaluate_random_1 = []\n",
    "\n",
    "evaluate_lsa_1.append(model_original.evaluate(x_test,y_test))\n",
    "evaluate_dsa_1.append(model_original.evaluate(x_test,y_test))\n",
    "evaluate_nc_1.append(model_original.evaluate(x_test,y_test))\n",
    "evaluate_random_1.append(model_original.evaluate(x_test,y_test))\n",
    "print(\"lsa---\")\n",
    "for model in models_lsa:\n",
    "    evaluate_lsa_1.append(model.evaluate(x_test,y_test))\n",
    "\n",
    "print(\"dsa---\")\n",
    "    \n",
    "for model in models_dsa:\n",
    "    evaluate_dsa_1.append(model.evaluate(x_test,y_test))\n",
    "    \n",
    "\n",
    "print(\"random---\")\n",
    "\n",
    "for model in models_random:\n",
    "    evaluate_random_1.append(model.evaluate(x_test,y_test))\n",
    "    \n",
    "print(\"nc---\")\n",
    "\n",
    "for model in models_nc:\n",
    "    evaluate_nc_1.append(model.evaluate(x_test,y_test))\n"
   ]
  },
  {
   "cell_type": "code",
   "execution_count": null,
   "id": "3968b39d",
   "metadata": {},
   "outputs": [],
   "source": [
    "evaluate_lsa_1[0]=[0,0,0,0]\n",
    "evaluate_dsa_1[0]=[0,0,0,0]\n",
    "evaluate_random_1[0]=[0,0,0,0]\n",
    "evaluate_nc_1[0]=[0,0,0,0]"
   ]
  },
  {
   "cell_type": "code",
   "execution_count": null,
   "id": "85dd3308",
   "metadata": {},
   "outputs": [],
   "source": [
    "\n",
    "print(len(evaluate_lsa_1))\n",
    "print(len(evaluate_dsa_1))\n",
    "print(len(evaluate_random_1))\n",
    "print(len(evaluate_nc_1))"
   ]
  },
  {
   "cell_type": "code",
   "execution_count": null,
   "id": "641ef7af",
   "metadata": {},
   "outputs": [],
   "source": [
    "type(evaluate_dsa_0[0][0])"
   ]
  },
  {
   "cell_type": "code",
   "execution_count": null,
   "id": "8c45b340",
   "metadata": {},
   "outputs": [],
   "source": [
    "import pandas as pd\n",
    "\n",
    "df_evaluate_lsa_0 = pd.DataFrame(np.array(evaluate_lsa_0),columns=[\"loss\",\"accuracy\",\"precision\",\"recall\"])\n",
    "df_evaluate_lsa_1 = pd.DataFrame(np.array(evaluate_lsa_1),columns=[\"loss\",\"accuracy\",\"precision\",\"recall\"])\n",
    "df_evaluate_dsa_0 = pd.DataFrame(np.array(evaluate_dsa_0),columns=[\"loss\",\"accuracy\",\"precision\",\"recall\"])\n",
    "df_evaluate_dsa_1 = pd.DataFrame(np.array(evaluate_dsa_1),columns=[\"loss\",\"accuracy\",\"precision\",\"recall\"])\n",
    "\n",
    "df_evaluate_random_0 = pd.DataFrame(np.array(evaluate_random_0),columns=[\"loss\",\"accuracy\",\"precision\",\"recall\"])\n",
    "df_evaluate_random_1 = pd.DataFrame(np.array(evaluate_random_1),columns=[\"loss\",\"accuracy\",\"precision\",\"recall\"])\n",
    "df_evaluate_nc_0 = pd.DataFrame(np.array(evaluate_nc_0),columns=[\"loss\",\"accuracy\",\"precision\",\"recall\"])\n",
    "df_evaluate_nc_1 = pd.DataFrame(np.array(evaluate_nc_1),columns=[\"loss\",\"accuracy\",\"precision\",\"recall\"])\n"
   ]
  },
  {
   "cell_type": "code",
   "execution_count": null,
   "id": "5fbac3f0",
   "metadata": {},
   "outputs": [],
   "source": [
    "# Original test set + adversarial set\n",
    "\n",
    "metric =\"accuracy\"\n",
    "accuracy_lsa_3 = (np.array(df_evaluate_lsa_0[metric])+np.array(df_evaluate_lsa_1[metric]))/2\n",
    "accuracy_dsa_3 = (np.array(df_evaluate_dsa_0[metric])+np.array(df_evaluate_dsa_1[metric]))/2\n",
    "accuracy_nc_3 = (np.array(df_evaluate_nc_0[metric])+np.array(df_evaluate_nc_1[metric]))/2\n",
    "accuracy_random_3 = (np.array(df_evaluate_random_0[metric])+np.array(df_evaluate_random_1[metric]))/2\n"
   ]
  },
  {
   "cell_type": "markdown",
   "id": "c0edc866",
   "metadata": {},
   "source": [
    "## Charts"
   ]
  },
  {
   "cell_type": "code",
   "execution_count": null,
   "id": "db32b23d",
   "metadata": {},
   "outputs": [],
   "source": [
    "n_inputs = [1800*i for i in range(20)]\n",
    "n_inputs.append(len(x_train_and_adversary))"
   ]
  },
  {
   "cell_type": "code",
   "execution_count": null,
   "id": "0e5d823a",
   "metadata": {},
   "outputs": [],
   "source": [
    "print(n_inputs)"
   ]
  },
  {
   "cell_type": "code",
   "execution_count": null,
   "id": "4feb0d30",
   "metadata": {},
   "outputs": [],
   "source": [
    "cd \"C:/Users/fjdur/Desktop/gtsrb_graphs/e2_graphs_dec/\""
   ]
  },
  {
   "cell_type": "code",
   "execution_count": null,
   "id": "bc3a0bf7",
   "metadata": {},
   "outputs": [],
   "source": [
    "linestyles = ['solid','dotted','dashed','dashdot']\n",
    "colors =['k','k','k','k']"
   ]
  },
  {
   "cell_type": "code",
   "execution_count": null,
   "id": "fde130ed",
   "metadata": {},
   "outputs": [],
   "source": [
    "#configuration 1\n",
    "\"\"\"\n",
    "6) Incremental guided retraining starting from the original model using only the new adversarial inputs.\n",
    "Incremental training, starting with the previous trained model. Using at each iteration a subset of the new inputs.\n",
    "\"\"\"\n",
    "import matplotlib.pyplot as plt\n",
    "import matplotlib.patches as mpatches\n",
    "from matplotlib.patches import Patch\n",
    "from matplotlib.lines import Line2D\n",
    "\n",
    "#metric = \"accuracy\" # accuracy loss\n",
    "my_metrics =[\"accuracy\",\"loss\",\"precision\",\"recall\"]\n",
    "\n",
    "for metric in my_metrics:\n",
    "    plt.clf()\n",
    "    plt.plot(n_inputs,df_evaluate_lsa_0[metric],colors[0],linestyle=linestyles[0])\n",
    "    plt.plot(n_inputs,df_evaluate_dsa_0[metric],colors[1],linestyle=linestyles[1])\n",
    "    plt.plot(n_inputs,df_evaluate_random_0[metric],colors[2],linestyle=linestyles[2])\n",
    "    plt.plot(n_inputs,df_evaluate_nc_0[metric],colors[3],linestyle=linestyles[3])\n",
    "\n",
    "\n",
    "    legend_elements = [Line2D([0], [0], color='k', label='LSA',ls = linestyles[0]),\n",
    "                   Line2D([0], [0], color='k', label='DSA',ls = linestyles[1]),\n",
    "                   Line2D([0], [0], color='k', label='Random',ls = linestyles[2]),\n",
    "                   Line2D([0], [0], color='k', label='NC',ls = linestyles[3])]\n",
    "\n",
    "\n",
    "\n",
    "    plt.legend(handles=legend_elements)#\n",
    "    plt.title(metric + \" with test set of adversarial examples FGSM\")\n",
    "    plt.xlim([0, 37000])\n",
    "    #plt.ylim([0, 1])\n",
    "    plt.xlabel('number of inputs')\n",
    "    plt.ylabel(metric)\n",
    "    plt.savefig(\"gtsrb_c1_\"+metric + \"_0.svg\")\n",
    "    plt.show()"
   ]
  },
  {
   "cell_type": "code",
   "execution_count": null,
   "id": "38563782",
   "metadata": {},
   "outputs": [],
   "source": [
    "#configuration 1\n",
    "\"\"\"\n",
    "6) Incremental guided retraining starting from the original model using only the new adversarial inputs.\n",
    "Incremental training, starting with the previous trained model. Using at each iteration a subset of the new inputs.\n",
    "\"\"\"\n",
    "import matplotlib.pyplot as plt\n",
    "import matplotlib.patches as mpatches\n",
    "\n",
    "my_metrics =[\"accuracy\",\"loss\",\"precision\",\"recall\"]\n",
    "\n",
    "for metric in my_metrics:\n",
    "    \n",
    "#metric = \"accuracy\" # accuracy loss\n",
    "    plt.clf()\n",
    "    plt.plot(n_inputs,df_evaluate_lsa_1[metric],colors[0],linestyle=linestyles[0])\n",
    "    plt.plot(n_inputs,df_evaluate_dsa_1[metric],colors[1],linestyle=linestyles[1])\n",
    "    plt.plot(n_inputs,df_evaluate_random_1[metric],colors[2],linestyle=linestyles[2])\n",
    "    plt.plot(n_inputs,df_evaluate_nc_1[metric],colors[3],linestyle=linestyles[3])\n",
    "\n",
    "    legend_elements = [Line2D([0], [0], color='k', label='LSA',ls = linestyles[0]),\n",
    "                   Line2D([0], [0], color='k', label='DSA',ls = linestyles[1]),\n",
    "                   Line2D([0], [0], color='k', label='Random',ls = linestyles[2]),\n",
    "                   Line2D([0], [0], color='k', label='NC',ls = linestyles[3])]\n",
    "\n",
    "\n",
    "\n",
    "    plt.legend(handles=legend_elements)#\n",
    "    plt.title(metric + \" with original set\")\n",
    "    plt.xlim([0, 37000])\n",
    "    #plt.ylim([0, 1])\n",
    "    plt.xlabel('number of inputs')\n",
    "    plt.ylabel(metric)\n",
    "    plt.savefig(\"gtsrb_c1_\"+metric + \"_1.svg\")\n",
    "    plt.show()"
   ]
  },
  {
   "cell_type": "code",
   "execution_count": null,
   "id": "884a1d99",
   "metadata": {},
   "outputs": [],
   "source": [
    "#adversarial jsma test set\n",
    "#configuration 3\n",
    "\"\"\"\n",
    "6) Incremental guided retraining starting from the original model using only the new adversarial inputs.\n",
    "Incremental training, starting with the previous trained model. Using at each iteration a subset of the new inputs.\n",
    "\"\"\"\n",
    "import matplotlib.pyplot as plt\n",
    "import matplotlib.patches as mpatches\n",
    "\n",
    "plt.plot(n_inputs,accuracy_lsa_3,colors[0],linestyle=linestyles[0])\n",
    "plt.plot(n_inputs,accuracy_dsa_3,colors[1],linestyle=linestyles[1])\n",
    "plt.plot(n_inputs,accuracy_random_3,colors[2],linestyle=linestyles[2])\n",
    "plt.plot(n_inputs,accuracy_nc_3,colors[3],linestyle=linestyles[3])\n",
    "\n",
    "\n",
    "legend_elements = [Line2D([0], [0], color='k', label='LSA',ls = linestyles[0]),\n",
    "                   Line2D([0], [0], color='k', label='DSA',ls = linestyles[1]),\n",
    "                   Line2D([0], [0], color='k', label='Random',ls = linestyles[2]),\n",
    "                   Line2D([0], [0], color='k', label='NC',ls = linestyles[3])]\n",
    "\n",
    "\n",
    "\n",
    "plt.legend(handles=legend_elements)#\n",
    "plt.title(\"accuracy with both sets\")\n",
    "\n",
    "print(n_inputs[np.argmax(accuracy_lsa_3)],accuracy_lsa_3.max())\n",
    "print(n_inputs[np.argmax(accuracy_dsa_3)],accuracy_dsa_3.max())\n",
    "print(n_inputs[np.argmax(accuracy_random_3)],accuracy_random_3.max())\n",
    "print(n_inputs[np.argmax(accuracy_nc_3)],accuracy_nc_3.max())\n",
    "\n",
    "plt.plot(n_inputs[np.argmax(accuracy_lsa_3)],accuracy_lsa_3.max(),'-kD')\n",
    "plt.plot(n_inputs[np.argmax(accuracy_dsa_3)],accuracy_dsa_3.max(),'-ko')\n",
    "plt.plot(n_inputs[np.argmax(accuracy_random_3)],accuracy_random_3.max(),'-kv')\n",
    "plt.plot(n_inputs[np.argmax(accuracy_nc_3)],accuracy_nc_3.max(),'-kp')\n",
    "\n",
    "plt.xlabel('number of inputs')\n",
    "plt.ylabel('accuracy')\n",
    "plt.xlim([0, 37000])\n",
    "#plt.ylim([0, 1])\n",
    "\n",
    "plt.savefig(\"gtsrb_c1_\"+\"accuracy\" + \"_both.svg\")\n",
    "\n",
    "plt.show()"
   ]
  },
  {
   "cell_type": "markdown",
   "id": "02c81771",
   "metadata": {},
   "source": [
    "## Saving models"
   ]
  },
  {
   "cell_type": "code",
   "execution_count": null,
   "id": "ef05a059",
   "metadata": {},
   "outputs": [],
   "source": [
    "new_model_lsa_dir  = \"D:/models/gtsrb_models/C1/gtsrb_model_c1_sep_lsa_e2\"\n",
    "i=0\n",
    "\n",
    "for model in models_lsa:\n",
    "    model.save(new_model_lsa_dir+\"_\"+str(i))\n",
    "    i+=1"
   ]
  },
  {
   "cell_type": "code",
   "execution_count": null,
   "id": "6464778f",
   "metadata": {},
   "outputs": [],
   "source": [
    "new_model_dsa_dir  = \"D:/models/gtsrb_models/C1/gtsrb_model_c1_sep_dsa_e2\"\n",
    "\n",
    "i=0\n",
    "for model in models_dsa:\n",
    "    model.save(new_model_dsa_dir+\"_\"+str(i))\n",
    "    i+=1"
   ]
  },
  {
   "cell_type": "code",
   "execution_count": null,
   "id": "f6406565",
   "metadata": {},
   "outputs": [],
   "source": [
    "new_model_random_dir  = \"D:/models/gtsrb_models/C1/gtsrb_model_c1_sep_random_e2\"\n",
    "\n",
    "i=0\n",
    "for model in models_random:\n",
    "    model.save(new_model_random_dir+\"_\"+str(i))\n",
    "    i+=1"
   ]
  },
  {
   "cell_type": "code",
   "execution_count": null,
   "id": "2c03ee7e",
   "metadata": {},
   "outputs": [],
   "source": [
    "new_model_nc_dir  = \"D:/models/gtsrb_models/C1/gtsrb_model_c1_sep_nc_e2\"\n",
    "\n",
    "i=0\n",
    "for model in models_nc:\n",
    "    model.save(new_model_nc_dir+\"_\"+str(i))\n",
    "    i+=1"
   ]
  }
 ],
 "metadata": {
  "kernelspec": {
   "display_name": "Python 3",
   "language": "python",
   "name": "python3"
  },
  "language_info": {
   "codemirror_mode": {
    "name": "ipython",
    "version": 3
   },
   "file_extension": ".py",
   "mimetype": "text/x-python",
   "name": "python",
   "nbconvert_exporter": "python",
   "pygments_lexer": "ipython3",
   "version": "3.8.8"
  }
 },
 "nbformat": 4,
 "nbformat_minor": 5
}
