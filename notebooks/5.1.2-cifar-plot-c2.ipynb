{
 "cells": [
  {
   "cell_type": "code",
   "execution_count": 1,
   "id": "458bf345",
   "metadata": {},
   "outputs": [],
   "source": [
    "import argparse\n",
    "\n",
    "import numpy as np\n",
    "import tensorflow as tf\n",
    "import keras.backend as K\n",
    "\n",
    "import matplotlib.pyplot as plt\n",
    "\n",
    "from keras.utils import np_utils\n",
    "from keras.models import Sequential\n",
    "from keras.layers import Dense, Dropout, Activation, Flatten, Conv2D, MaxPooling2D\n",
    "from keras.regularizers import l2\n",
    "\n",
    "import glob\n",
    "import os\n",
    "import cv2\n",
    "import keras\n",
    "\n",
    "\n",
    "import time\n",
    "import argparse\n",
    "\n",
    "from tqdm import tqdm\n",
    "\n",
    "from keras.models import load_model, Model\n"
   ]
  },
  {
   "cell_type": "code",
   "execution_count": 2,
   "id": "d87645a5",
   "metadata": {},
   "outputs": [
    {
     "name": "stdout",
     "output_type": "stream",
     "text": [
      "[WinError 3] The system cannot find the path specified: 'C:/Users/fjdur/Documents/utils/'\n",
      "C:\\Users\\fjdurlop\\Documents\\upc\\upc-july\\notebooks\n"
     ]
    }
   ],
   "source": [
    "cd C:/Users/fjdur/Documents/utils/"
   ]
  },
  {
   "cell_type": "code",
   "execution_count": 3,
   "id": "c6c83ac8",
   "metadata": {},
   "outputs": [
    {
     "name": "stdout",
     "output_type": "stream",
     "text": [
      "C:\\Users\\fjdurlop\\Documents\\upc\\utils\n"
     ]
    }
   ],
   "source": [
    "cd C:/Users/fjdurlop/Documents/upc/utils/"
   ]
  },
  {
   "cell_type": "code",
   "execution_count": 4,
   "id": "b4b5dea1",
   "metadata": {},
   "outputs": [
    {
     "name": "stdout",
     "output_type": "stream",
     "text": [
      "2.5.0\n",
      "keras\n",
      "2.5.0\n"
     ]
    }
   ],
   "source": [
    "#import utils_guided_retraining as utils\n",
    "import utils_guided_retraining2 as utils"
   ]
  },
  {
   "cell_type": "code",
   "execution_count": 5,
   "id": "a90d3511",
   "metadata": {},
   "outputs": [],
   "source": [
    "dataset = \"cifar\""
   ]
  },
  {
   "cell_type": "code",
   "execution_count": 6,
   "id": "07b34a1a",
   "metadata": {},
   "outputs": [],
   "source": [
    "x_test,y_test = utils.get_data(dataset,\"Test\")"
   ]
  },
  {
   "cell_type": "code",
   "execution_count": 7,
   "id": "244a4fbd",
   "metadata": {},
   "outputs": [],
   "source": [
    "x_train_and_adversary,y_train_and_adversary = utils.get_data(dataset,\"Train_and_adversary\")"
   ]
  },
  {
   "cell_type": "code",
   "execution_count": 8,
   "id": "739175c8",
   "metadata": {},
   "outputs": [],
   "source": [
    "x_test_and_adversary,y_test_and_adversary = utils.get_adversarial_data(dataset,'Test_adversarial') "
   ]
  },
  {
   "cell_type": "code",
   "execution_count": 9,
   "id": "0875bdf0",
   "metadata": {},
   "outputs": [],
   "source": [
    "\n",
    "model_dir = \"C:/Users/fjdur/Documents/upc-july/models/tf_model_25-06/\"\n",
    "if(dataset == 'gtsrb'):\n",
    "    model_dir = \"C:/Users/fjdur/Documents/upc-july/models/tf_model_25-06\"\n",
    "elif(dataset == 'intel'):\n",
    "    model_dir = \"C:/Users/fjdur/Documents/upc-july/models/intel_model_21_10\"\n",
    "elif(dataset == 'mnist'):\n",
    "    model_dir = \"C:/Users/fjdur/Documents/upc-july/models/models2\"\n",
    "elif(dataset == 'cifar'):\n",
    "    model_dir = \"C:/Users/fjdur/Documents/upc-july/models/model_02\"\n"
   ]
  },
  {
   "cell_type": "code",
   "execution_count": 10,
   "id": "e0c78975",
   "metadata": {},
   "outputs": [],
   "source": [
    "model_dir = \"C:/Users/fjdurlop/Documents/upc/upc-july/models/tf_model_25-06/\"\n",
    "if(dataset == 'gtsrb'):\n",
    "    model_dir = \"C:/Users/fjdurlop/Documents/upc/upc-july/models/tf_model_25-06\"\n",
    "elif(dataset == 'intel'):\n",
    "    model_dir = \"C:/Users/fjdurlop/Documents/upc/upc-july/models/intel_model_21_10\"\n",
    "elif(dataset == 'mnist'):\n",
    "    model_dir = \"C:/Users/fjdurlop/Documents/upc/upc-july/models/models2\"\n",
    "elif(dataset == 'cifar'):\n",
    "    model_dir = \"C:/Users/fjdurlop/Documents/upc/upc-july/models/model_02\""
   ]
  },
  {
   "cell_type": "code",
   "execution_count": 11,
   "id": "1485065e",
   "metadata": {},
   "outputs": [
    {
     "name": "stdout",
     "output_type": "stream",
     "text": [
      "C:/Users/fjdurlop/Documents/upc/upc-july/models/model_02\n",
      "Model loaded correctly\n"
     ]
    }
   ],
   "source": [
    "print(model_dir)\n",
    "model_original = utils.My_model(dataset,True, model_dir)"
   ]
  },
  {
   "cell_type": "code",
   "execution_count": 29,
   "id": "ceebac2d",
   "metadata": {},
   "outputs": [
    {
     "name": "stdout",
     "output_type": "stream",
     "text": [
      "376/376 [==============================] - 12s 11ms/step - loss: 2.3668 - accuracy: 0.5769\n"
     ]
    },
    {
     "data": {
      "text/plain": [
       "[2.3667659759521484, 0.5768685936927795]"
      ]
     },
     "execution_count": 29,
     "metadata": {},
     "output_type": "execute_result"
    }
   ],
   "source": [
    "model_original.evaluate(x_test_and_adversary,y_test_and_adversary)"
   ]
  },
  {
   "cell_type": "code",
   "execution_count": 13,
   "id": "a378dcc5",
   "metadata": {},
   "outputs": [],
   "source": [
    "loading_csv =True"
   ]
  },
  {
   "cell_type": "markdown",
   "id": "48e95400",
   "metadata": {},
   "source": [
    "## Loading models"
   ]
  },
  {
   "cell_type": "code",
   "execution_count": 14,
   "id": "9ca8455f",
   "metadata": {},
   "outputs": [],
   "source": [
    "data_dir = \"C:/Users/fjdurlop/Documents/upc/models\"\n",
    "dataset = \"cifar\"\n",
    "config = \"C2\"\n",
    "config_lc = \"c2\"\n",
    "num_models = 20"
   ]
  },
  {
   "cell_type": "code",
   "execution_count": 13,
   "id": "53255a20",
   "metadata": {},
   "outputs": [],
   "source": [
    "# C:/Users/fjdurlop/Documents/upc/models/intel/C2/intel_model_c2_aug_lsa_e1_0"
   ]
  },
  {
   "cell_type": "code",
   "execution_count": 14,
   "id": "fe3eb254",
   "metadata": {},
   "outputs": [],
   "source": [
    "#change config"
   ]
  },
  {
   "cell_type": "code",
   "execution_count": 15,
   "id": "c0dc05ec",
   "metadata": {
    "scrolled": true
   },
   "outputs": [
    {
     "name": "stdout",
     "output_type": "stream",
     "text": [
      "C:/Users/fjdurlop/Documents/upc/models/cifar/C2/cifar_model_c2_aug_lsa_e1_0\n",
      "Model loaded correctly\n",
      "C:/Users/fjdurlop/Documents/upc/models/cifar/C2/cifar_model_c2_aug_lsa_e1_1\n",
      "Model loaded correctly\n",
      "C:/Users/fjdurlop/Documents/upc/models/cifar/C2/cifar_model_c2_aug_lsa_e1_2\n",
      "Model loaded correctly\n",
      "C:/Users/fjdurlop/Documents/upc/models/cifar/C2/cifar_model_c2_aug_lsa_e1_3\n",
      "Model loaded correctly\n",
      "C:/Users/fjdurlop/Documents/upc/models/cifar/C2/cifar_model_c2_aug_lsa_e1_4\n",
      "Model loaded correctly\n",
      "C:/Users/fjdurlop/Documents/upc/models/cifar/C2/cifar_model_c2_aug_lsa_e1_5\n",
      "Model loaded correctly\n",
      "C:/Users/fjdurlop/Documents/upc/models/cifar/C2/cifar_model_c2_aug_lsa_e1_6\n",
      "Model loaded correctly\n",
      "C:/Users/fjdurlop/Documents/upc/models/cifar/C2/cifar_model_c2_aug_lsa_e1_7\n",
      "Model loaded correctly\n",
      "C:/Users/fjdurlop/Documents/upc/models/cifar/C2/cifar_model_c2_aug_lsa_e1_8\n",
      "Model loaded correctly\n",
      "C:/Users/fjdurlop/Documents/upc/models/cifar/C2/cifar_model_c2_aug_lsa_e1_9\n",
      "Model loaded correctly\n",
      "C:/Users/fjdurlop/Documents/upc/models/cifar/C2/cifar_model_c2_aug_lsa_e1_10\n",
      "Model loaded correctly\n",
      "C:/Users/fjdurlop/Documents/upc/models/cifar/C2/cifar_model_c2_aug_lsa_e1_11\n",
      "Model loaded correctly\n",
      "C:/Users/fjdurlop/Documents/upc/models/cifar/C2/cifar_model_c2_aug_lsa_e1_12\n",
      "Model loaded correctly\n",
      "C:/Users/fjdurlop/Documents/upc/models/cifar/C2/cifar_model_c2_aug_lsa_e1_13\n",
      "Model loaded correctly\n",
      "C:/Users/fjdurlop/Documents/upc/models/cifar/C2/cifar_model_c2_aug_lsa_e1_14\n",
      "Model loaded correctly\n",
      "C:/Users/fjdurlop/Documents/upc/models/cifar/C2/cifar_model_c2_aug_lsa_e1_15\n",
      "Model loaded correctly\n",
      "C:/Users/fjdurlop/Documents/upc/models/cifar/C2/cifar_model_c2_aug_lsa_e1_16\n",
      "Model loaded correctly\n",
      "C:/Users/fjdurlop/Documents/upc/models/cifar/C2/cifar_model_c2_aug_lsa_e1_17\n",
      "Model loaded correctly\n",
      "C:/Users/fjdurlop/Documents/upc/models/cifar/C2/cifar_model_c2_aug_lsa_e1_18\n",
      "Model loaded correctly\n",
      "C:/Users/fjdurlop/Documents/upc/models/cifar/C2/cifar_model_c2_aug_lsa_e1_19\n",
      "Model loaded correctly\n"
     ]
    }
   ],
   "source": [
    "loading = True\n",
    "\n",
    "models_lsa = []\n",
    "\n",
    "if loading:\n",
    "    for i in range(num_models):\n",
    "        model_lsa_dir = data_dir+\"/\"+dataset+\"/C2/\"+dataset+\"_model_c2_aug_lsa_e1_\"+str(i)\n",
    "        print(model_lsa_dir)\n",
    "        model =utils.My_model(dataset,True,model_lsa_dir)\n",
    "        model.model.compile(loss= 'categorical_crossentropy', optimizer = 'rmsprop', metrics = ['accuracy',tf.keras.metrics.Precision(), tf.keras.metrics.Recall()])\n",
    "        models_lsa.append(model)\n",
    "       \n",
    "    "
   ]
  },
  {
   "cell_type": "code",
   "execution_count": 16,
   "id": "da4d6ed4",
   "metadata": {},
   "outputs": [
    {
     "name": "stdout",
     "output_type": "stream",
     "text": [
      "C:/Users/fjdurlop/Documents/upc/models/cifar/C2/cifar_model_c2_aug_dsa_e1_0\n",
      "Model loaded correctly\n",
      "C:/Users/fjdurlop/Documents/upc/models/cifar/C2/cifar_model_c2_aug_dsa_e1_1\n",
      "Model loaded correctly\n",
      "C:/Users/fjdurlop/Documents/upc/models/cifar/C2/cifar_model_c2_aug_dsa_e1_2\n",
      "Model loaded correctly\n",
      "C:/Users/fjdurlop/Documents/upc/models/cifar/C2/cifar_model_c2_aug_dsa_e1_3\n",
      "Model loaded correctly\n",
      "C:/Users/fjdurlop/Documents/upc/models/cifar/C2/cifar_model_c2_aug_dsa_e1_4\n",
      "Model loaded correctly\n",
      "C:/Users/fjdurlop/Documents/upc/models/cifar/C2/cifar_model_c2_aug_dsa_e1_5\n",
      "Model loaded correctly\n",
      "C:/Users/fjdurlop/Documents/upc/models/cifar/C2/cifar_model_c2_aug_dsa_e1_6\n",
      "Model loaded correctly\n",
      "C:/Users/fjdurlop/Documents/upc/models/cifar/C2/cifar_model_c2_aug_dsa_e1_7\n",
      "Model loaded correctly\n",
      "C:/Users/fjdurlop/Documents/upc/models/cifar/C2/cifar_model_c2_aug_dsa_e1_8\n",
      "Model loaded correctly\n",
      "C:/Users/fjdurlop/Documents/upc/models/cifar/C2/cifar_model_c2_aug_dsa_e1_9\n",
      "Model loaded correctly\n",
      "C:/Users/fjdurlop/Documents/upc/models/cifar/C2/cifar_model_c2_aug_dsa_e1_10\n",
      "Model loaded correctly\n",
      "C:/Users/fjdurlop/Documents/upc/models/cifar/C2/cifar_model_c2_aug_dsa_e1_11\n",
      "Model loaded correctly\n",
      "C:/Users/fjdurlop/Documents/upc/models/cifar/C2/cifar_model_c2_aug_dsa_e1_12\n",
      "Model loaded correctly\n",
      "C:/Users/fjdurlop/Documents/upc/models/cifar/C2/cifar_model_c2_aug_dsa_e1_13\n",
      "Model loaded correctly\n",
      "C:/Users/fjdurlop/Documents/upc/models/cifar/C2/cifar_model_c2_aug_dsa_e1_14\n",
      "Model loaded correctly\n",
      "C:/Users/fjdurlop/Documents/upc/models/cifar/C2/cifar_model_c2_aug_dsa_e1_15\n",
      "Model loaded correctly\n",
      "C:/Users/fjdurlop/Documents/upc/models/cifar/C2/cifar_model_c2_aug_dsa_e1_16\n",
      "Model loaded correctly\n",
      "C:/Users/fjdurlop/Documents/upc/models/cifar/C2/cifar_model_c2_aug_dsa_e1_17\n",
      "Model loaded correctly\n",
      "C:/Users/fjdurlop/Documents/upc/models/cifar/C2/cifar_model_c2_aug_dsa_e1_18\n",
      "Model loaded correctly\n",
      "C:/Users/fjdurlop/Documents/upc/models/cifar/C2/cifar_model_c2_aug_dsa_e1_19\n",
      "Model loaded correctly\n"
     ]
    }
   ],
   "source": [
    "loading = True\n",
    "\n",
    "models_dsa = []\n",
    "\n",
    "if loading:\n",
    "    for i in range(num_models):\n",
    "        #model_dsa_dir = \"D:/models/gtsrb_models/C1/gtsrb_model_c1_sep_dsa_e2_\"+str(i)\n",
    "        model_dsa_dir = data_dir+\"/\"+dataset+\"/C2/\"+dataset+\"_model_c2_aug_dsa_e1_\"+str(i)\n",
    "        print(model_dsa_dir)\n",
    "        model =utils.My_model(dataset,True,model_dsa_dir)\n",
    "        model.model.compile(loss= 'categorical_crossentropy', optimizer = 'rmsprop', metrics = ['accuracy',tf.keras.metrics.Precision(), tf.keras.metrics.Recall()])\n",
    "        models_dsa.append(model)\n",
    "       \n",
    "\n",
    "    "
   ]
  },
  {
   "cell_type": "code",
   "execution_count": 14,
   "id": "0a4a7c64",
   "metadata": {
    "scrolled": true
   },
   "outputs": [
    {
     "name": "stdout",
     "output_type": "stream",
     "text": [
      "C:/Users/fjdurlop/Documents/upc/models/cifar/C2/cifar_model_c2_aug_dg_e1_0\n",
      "Model loaded correctly\n",
      "C:/Users/fjdurlop/Documents/upc/models/cifar/C2/cifar_model_c2_aug_dg_e1_1\n",
      "Model loaded correctly\n",
      "C:/Users/fjdurlop/Documents/upc/models/cifar/C2/cifar_model_c2_aug_dg_e1_2\n",
      "Model loaded correctly\n",
      "C:/Users/fjdurlop/Documents/upc/models/cifar/C2/cifar_model_c2_aug_dg_e1_3\n",
      "Model loaded correctly\n",
      "C:/Users/fjdurlop/Documents/upc/models/cifar/C2/cifar_model_c2_aug_dg_e1_4\n",
      "Model loaded correctly\n",
      "C:/Users/fjdurlop/Documents/upc/models/cifar/C2/cifar_model_c2_aug_dg_e1_5\n",
      "Model loaded correctly\n",
      "C:/Users/fjdurlop/Documents/upc/models/cifar/C2/cifar_model_c2_aug_dg_e1_6\n",
      "Model loaded correctly\n",
      "C:/Users/fjdurlop/Documents/upc/models/cifar/C2/cifar_model_c2_aug_dg_e1_7\n",
      "Model loaded correctly\n",
      "C:/Users/fjdurlop/Documents/upc/models/cifar/C2/cifar_model_c2_aug_dg_e1_8\n",
      "Model loaded correctly\n",
      "C:/Users/fjdurlop/Documents/upc/models/cifar/C2/cifar_model_c2_aug_dg_e1_9\n",
      "Model loaded correctly\n",
      "C:/Users/fjdurlop/Documents/upc/models/cifar/C2/cifar_model_c2_aug_dg_e1_10\n",
      "Model loaded correctly\n",
      "C:/Users/fjdurlop/Documents/upc/models/cifar/C2/cifar_model_c2_aug_dg_e1_11\n",
      "Model loaded correctly\n",
      "C:/Users/fjdurlop/Documents/upc/models/cifar/C2/cifar_model_c2_aug_dg_e1_12\n",
      "Model loaded correctly\n",
      "C:/Users/fjdurlop/Documents/upc/models/cifar/C2/cifar_model_c2_aug_dg_e1_13\n",
      "Model loaded correctly\n",
      "C:/Users/fjdurlop/Documents/upc/models/cifar/C2/cifar_model_c2_aug_dg_e1_14\n",
      "Model loaded correctly\n",
      "C:/Users/fjdurlop/Documents/upc/models/cifar/C2/cifar_model_c2_aug_dg_e1_15\n",
      "Model loaded correctly\n",
      "C:/Users/fjdurlop/Documents/upc/models/cifar/C2/cifar_model_c2_aug_dg_e1_16\n",
      "Model loaded correctly\n",
      "C:/Users/fjdurlop/Documents/upc/models/cifar/C2/cifar_model_c2_aug_dg_e1_17\n",
      "Model loaded correctly\n",
      "C:/Users/fjdurlop/Documents/upc/models/cifar/C2/cifar_model_c2_aug_dg_e1_18\n",
      "Model loaded correctly\n",
      "C:/Users/fjdurlop/Documents/upc/models/cifar/C2/cifar_model_c2_aug_dg_e1_19\n",
      "Model loaded correctly\n"
     ]
    }
   ],
   "source": [
    "loading = True\n",
    "\n",
    "models_dg = []\n",
    "\n",
    "if loading:\n",
    "    for i in range(num_models):\n",
    "        #model_dg_dir = \"D:/models/aug_22/gtsrb/C1/gtsrb_model_c1_aug_gn_e1_\"+str(i)\n",
    "        model_dg_dir = data_dir+\"/\"+dataset+\"/C2/\"+dataset+\"_model_c2_aug_dg_e1_\"+str(i)\n",
    "        \n",
    "        print(model_dg_dir)\n",
    "        model =utils.My_model(dataset,True,model_dg_dir)\n",
    "        model.model.compile(loss= 'categorical_crossentropy', optimizer = 'rmsprop', metrics = ['accuracy',tf.keras.metrics.Precision(), tf.keras.metrics.Recall()])\n",
    "        models_dg.append(model)\n",
    "       \n",
    "    "
   ]
  },
  {
   "cell_type": "code",
   "execution_count": 18,
   "id": "9301cc38",
   "metadata": {
    "scrolled": true
   },
   "outputs": [
    {
     "name": "stdout",
     "output_type": "stream",
     "text": [
      "C:/Users/fjdurlop/Documents/upc/models/cifar/C2/cifar_model_c2_aug_se_e1_0\n",
      "Model loaded correctly\n",
      "C:/Users/fjdurlop/Documents/upc/models/cifar/C2/cifar_model_c2_aug_se_e1_1\n",
      "Model loaded correctly\n",
      "C:/Users/fjdurlop/Documents/upc/models/cifar/C2/cifar_model_c2_aug_se_e1_2\n",
      "Model loaded correctly\n",
      "C:/Users/fjdurlop/Documents/upc/models/cifar/C2/cifar_model_c2_aug_se_e1_3\n",
      "Model loaded correctly\n",
      "C:/Users/fjdurlop/Documents/upc/models/cifar/C2/cifar_model_c2_aug_se_e1_4\n",
      "Model loaded correctly\n",
      "C:/Users/fjdurlop/Documents/upc/models/cifar/C2/cifar_model_c2_aug_se_e1_5\n",
      "Model loaded correctly\n",
      "C:/Users/fjdurlop/Documents/upc/models/cifar/C2/cifar_model_c2_aug_se_e1_6\n",
      "Model loaded correctly\n",
      "C:/Users/fjdurlop/Documents/upc/models/cifar/C2/cifar_model_c2_aug_se_e1_7\n",
      "Model loaded correctly\n",
      "C:/Users/fjdurlop/Documents/upc/models/cifar/C2/cifar_model_c2_aug_se_e1_8\n",
      "Model loaded correctly\n",
      "C:/Users/fjdurlop/Documents/upc/models/cifar/C2/cifar_model_c2_aug_se_e1_9\n",
      "Model loaded correctly\n",
      "C:/Users/fjdurlop/Documents/upc/models/cifar/C2/cifar_model_c2_aug_se_e1_10\n",
      "Model loaded correctly\n",
      "C:/Users/fjdurlop/Documents/upc/models/cifar/C2/cifar_model_c2_aug_se_e1_11\n",
      "Model loaded correctly\n",
      "C:/Users/fjdurlop/Documents/upc/models/cifar/C2/cifar_model_c2_aug_se_e1_12\n",
      "Model loaded correctly\n",
      "C:/Users/fjdurlop/Documents/upc/models/cifar/C2/cifar_model_c2_aug_se_e1_13\n",
      "Model loaded correctly\n",
      "C:/Users/fjdurlop/Documents/upc/models/cifar/C2/cifar_model_c2_aug_se_e1_14\n",
      "Model loaded correctly\n",
      "C:/Users/fjdurlop/Documents/upc/models/cifar/C2/cifar_model_c2_aug_se_e1_15\n",
      "Model loaded correctly\n",
      "C:/Users/fjdurlop/Documents/upc/models/cifar/C2/cifar_model_c2_aug_se_e1_16\n",
      "Model loaded correctly\n",
      "C:/Users/fjdurlop/Documents/upc/models/cifar/C2/cifar_model_c2_aug_se_e1_17\n",
      "Model loaded correctly\n",
      "C:/Users/fjdurlop/Documents/upc/models/cifar/C2/cifar_model_c2_aug_se_e1_18\n",
      "Model loaded correctly\n",
      "C:/Users/fjdurlop/Documents/upc/models/cifar/C2/cifar_model_c2_aug_se_e1_19\n",
      "Model loaded correctly\n"
     ]
    }
   ],
   "source": [
    "loading = True\n",
    "\n",
    "models_se = []\n",
    "\n",
    "if loading:\n",
    "    for i in range(num_models):\n",
    "        \n",
    "        model_se_dir = data_dir+\"/\"+dataset+\"/C2/\"+dataset+\"_model_c2_aug_se_e1_\"+str(i)\n",
    "        \n",
    "        print(model_se_dir)\n",
    "        model =utils.My_model(dataset,True,model_se_dir)\n",
    "        model.model.compile(loss= 'categorical_crossentropy', optimizer = 'rmsprop', metrics = ['accuracy',tf.keras.metrics.Precision(), tf.keras.metrics.Recall()])\n",
    "        models_se.append(model)"
   ]
  },
  {
   "cell_type": "code",
   "execution_count": 19,
   "id": "eb1718e3",
   "metadata": {
    "scrolled": true
   },
   "outputs": [
    {
     "name": "stdout",
     "output_type": "stream",
     "text": [
      "C:/Users/fjdurlop/Documents/upc/models/cifar/C2/cifar_model_c2_aug_random_e1_0\n",
      "Model loaded correctly\n",
      "C:/Users/fjdurlop/Documents/upc/models/cifar/C2/cifar_model_c2_aug_random_e1_1\n",
      "Model loaded correctly\n",
      "C:/Users/fjdurlop/Documents/upc/models/cifar/C2/cifar_model_c2_aug_random_e1_2\n",
      "Model loaded correctly\n",
      "C:/Users/fjdurlop/Documents/upc/models/cifar/C2/cifar_model_c2_aug_random_e1_3\n",
      "Model loaded correctly\n",
      "C:/Users/fjdurlop/Documents/upc/models/cifar/C2/cifar_model_c2_aug_random_e1_4\n",
      "Model loaded correctly\n",
      "C:/Users/fjdurlop/Documents/upc/models/cifar/C2/cifar_model_c2_aug_random_e1_5\n",
      "Model loaded correctly\n",
      "C:/Users/fjdurlop/Documents/upc/models/cifar/C2/cifar_model_c2_aug_random_e1_6\n",
      "Model loaded correctly\n",
      "C:/Users/fjdurlop/Documents/upc/models/cifar/C2/cifar_model_c2_aug_random_e1_7\n",
      "Model loaded correctly\n",
      "C:/Users/fjdurlop/Documents/upc/models/cifar/C2/cifar_model_c2_aug_random_e1_8\n",
      "Model loaded correctly\n",
      "C:/Users/fjdurlop/Documents/upc/models/cifar/C2/cifar_model_c2_aug_random_e1_9\n",
      "Model loaded correctly\n",
      "C:/Users/fjdurlop/Documents/upc/models/cifar/C2/cifar_model_c2_aug_random_e1_10\n",
      "Model loaded correctly\n",
      "C:/Users/fjdurlop/Documents/upc/models/cifar/C2/cifar_model_c2_aug_random_e1_11\n",
      "Model loaded correctly\n",
      "C:/Users/fjdurlop/Documents/upc/models/cifar/C2/cifar_model_c2_aug_random_e1_12\n",
      "Model loaded correctly\n",
      "C:/Users/fjdurlop/Documents/upc/models/cifar/C2/cifar_model_c2_aug_random_e1_13\n",
      "Model loaded correctly\n",
      "C:/Users/fjdurlop/Documents/upc/models/cifar/C2/cifar_model_c2_aug_random_e1_14\n",
      "Model loaded correctly\n",
      "C:/Users/fjdurlop/Documents/upc/models/cifar/C2/cifar_model_c2_aug_random_e1_15\n",
      "Model loaded correctly\n",
      "C:/Users/fjdurlop/Documents/upc/models/cifar/C2/cifar_model_c2_aug_random_e1_16\n",
      "Model loaded correctly\n",
      "C:/Users/fjdurlop/Documents/upc/models/cifar/C2/cifar_model_c2_aug_random_e1_17\n",
      "Model loaded correctly\n",
      "C:/Users/fjdurlop/Documents/upc/models/cifar/C2/cifar_model_c2_aug_random_e1_18\n",
      "Model loaded correctly\n",
      "C:/Users/fjdurlop/Documents/upc/models/cifar/C2/cifar_model_c2_aug_random_e1_19\n",
      "Model loaded correctly\n"
     ]
    }
   ],
   "source": [
    "loading = True\n",
    "\n",
    "models_random = []\n",
    "\n",
    "if loading:\n",
    "    for i in range(num_models):\n",
    "        #model_random_dir = \"D:/models/aug_22/gtsrb/C1/gtsrb_model_c1_aug_random_e1_\"+str(i)\n",
    "        model_random_dir = data_dir+\"/\"+dataset+\"/C2/\"+dataset+\"_model_c2_aug_random_e1_\"+str(i)\n",
    "        \n",
    "        print(model_random_dir)\n",
    "        model =utils.My_model(dataset,True,model_random_dir)\n",
    "        model.model.compile(loss= 'categorical_crossentropy', optimizer = 'rmsprop', metrics = ['accuracy',tf.keras.metrics.Precision(), tf.keras.metrics.Recall()])\n",
    "        models_random.append(model)\n",
    "       "
   ]
  },
  {
   "cell_type": "code",
   "execution_count": 20,
   "id": "b9860981",
   "metadata": {
    "scrolled": true
   },
   "outputs": [
    {
     "name": "stdout",
     "output_type": "stream",
     "text": [
      "C:/Users/fjdurlop/Documents/upc/models/cifar/C2/cifar_model_c2_aug_nc_e1_0\n",
      "Model loaded correctly\n",
      "C:/Users/fjdurlop/Documents/upc/models/cifar/C2/cifar_model_c2_aug_nc_e1_1\n",
      "Model loaded correctly\n",
      "C:/Users/fjdurlop/Documents/upc/models/cifar/C2/cifar_model_c2_aug_nc_e1_2\n",
      "Model loaded correctly\n",
      "C:/Users/fjdurlop/Documents/upc/models/cifar/C2/cifar_model_c2_aug_nc_e1_3\n",
      "Model loaded correctly\n",
      "C:/Users/fjdurlop/Documents/upc/models/cifar/C2/cifar_model_c2_aug_nc_e1_4\n",
      "Model loaded correctly\n",
      "C:/Users/fjdurlop/Documents/upc/models/cifar/C2/cifar_model_c2_aug_nc_e1_5\n",
      "Model loaded correctly\n",
      "C:/Users/fjdurlop/Documents/upc/models/cifar/C2/cifar_model_c2_aug_nc_e1_6\n",
      "Model loaded correctly\n",
      "C:/Users/fjdurlop/Documents/upc/models/cifar/C2/cifar_model_c2_aug_nc_e1_7\n",
      "Model loaded correctly\n",
      "C:/Users/fjdurlop/Documents/upc/models/cifar/C2/cifar_model_c2_aug_nc_e1_8\n",
      "Model loaded correctly\n",
      "C:/Users/fjdurlop/Documents/upc/models/cifar/C2/cifar_model_c2_aug_nc_e1_9\n",
      "Model loaded correctly\n",
      "C:/Users/fjdurlop/Documents/upc/models/cifar/C2/cifar_model_c2_aug_nc_e1_10\n",
      "Model loaded correctly\n",
      "C:/Users/fjdurlop/Documents/upc/models/cifar/C2/cifar_model_c2_aug_nc_e1_11\n",
      "Model loaded correctly\n",
      "C:/Users/fjdurlop/Documents/upc/models/cifar/C2/cifar_model_c2_aug_nc_e1_12\n",
      "Model loaded correctly\n",
      "C:/Users/fjdurlop/Documents/upc/models/cifar/C2/cifar_model_c2_aug_nc_e1_13\n",
      "Model loaded correctly\n",
      "C:/Users/fjdurlop/Documents/upc/models/cifar/C2/cifar_model_c2_aug_nc_e1_14\n",
      "Model loaded correctly\n",
      "C:/Users/fjdurlop/Documents/upc/models/cifar/C2/cifar_model_c2_aug_nc_e1_15\n",
      "Model loaded correctly\n",
      "C:/Users/fjdurlop/Documents/upc/models/cifar/C2/cifar_model_c2_aug_nc_e1_16\n",
      "Model loaded correctly\n",
      "C:/Users/fjdurlop/Documents/upc/models/cifar/C2/cifar_model_c2_aug_nc_e1_17\n",
      "Model loaded correctly\n",
      "C:/Users/fjdurlop/Documents/upc/models/cifar/C2/cifar_model_c2_aug_nc_e1_18\n",
      "Model loaded correctly\n",
      "C:/Users/fjdurlop/Documents/upc/models/cifar/C2/cifar_model_c2_aug_nc_e1_19\n",
      "Model loaded correctly\n"
     ]
    }
   ],
   "source": [
    "loading = True\n",
    "\n",
    "models_nc = []\n",
    "\n",
    "if loading:\n",
    "    for i in range(num_models):\n",
    "        #model_nc_dir = \"D:/models/aug_22/\"+dataset+\"/C1/\"+dataset+\"_model_c1_aug_nc_e1\"+str\n",
    "        model_nc_dir = data_dir+\"/\"+dataset+\"/C2/\"+dataset+\"_model_c2_aug_nc_e1_\"+str(i)\n",
    "        print(model_nc_dir)\n",
    "        model =utils.My_model(dataset,True,model_nc_dir)\n",
    "        model.model.compile(loss= 'categorical_crossentropy', optimizer = 'rmsprop', metrics = ['accuracy',tf.keras.metrics.Precision(), tf.keras.metrics.Recall()])\n",
    "        models_nc.append(model)"
   ]
  },
  {
   "cell_type": "markdown",
   "id": "e02952dc",
   "metadata": {},
   "source": [
    "## Evaluating"
   ]
  },
  {
   "cell_type": "code",
   "execution_count": 15,
   "id": "cbc59f41",
   "metadata": {},
   "outputs": [],
   "source": [
    "model_original.model.compile(loss= 'categorical_crossentropy', optimizer = 'rmsprop', metrics = ['accuracy',tf.keras.metrics.Precision(), tf.keras.metrics.Recall()])"
   ]
  },
  {
   "cell_type": "code",
   "execution_count": 16,
   "id": "6fd7c127",
   "metadata": {},
   "outputs": [
    {
     "name": "stdout",
     "output_type": "stream",
     "text": [
      "376/376 [==============================] - 14s 15ms/step - loss: 1.1244 - accuracy: 0.7412 - precision_20: 0.8609 - recall_20: 0.7386\n"
     ]
    },
    {
     "data": {
      "text/plain": [
       "[2.3667659759521484,\n",
       " 0.5768685936927795,\n",
       " 0.8045880794525146,\n",
       " 0.6869237422943115]"
      ]
     },
     "execution_count": 16,
     "metadata": {},
     "output_type": "execute_result"
    }
   ],
   "source": [
    "model_original.evaluate(x_test_and_adversary,y_test_and_adversary)\n"
   ]
  },
  {
   "cell_type": "code",
   "execution_count": 17,
   "id": "ae8182a2",
   "metadata": {},
   "outputs": [
    {
     "name": "stdout",
     "output_type": "stream",
     "text": [
      "376/376 [==============================] - 5s 14ms/step - loss: 2.3668 - accuracy: 0.5769 - precision_20: 0.6709 - recall_20: 0.5681\n",
      "Evaluating for dg\n",
      "376/376 [==============================] - 8s 19ms/step - loss: 1.0439 - accuracy: 0.6763 - precision: 0.8540 - recall: 0.5957\n",
      "376/376 [==============================] - 8s 17ms/step - loss: 0.9600 - accuracy: 0.7051 - precision_1: 0.8256 - recall_1: 0.6750\n",
      "376/376 [==============================] - 8s 18ms/step - loss: 0.9432 - accuracy: 0.7037 - precision_2: 0.8159 - recall_2: 0.6761\n",
      "376/376 [==============================] - 8s 18ms/step - loss: 0.8428 - accuracy: 0.7210 - precision_3: 0.8564 - recall_3: 0.6645\n",
      "376/376 [==============================] - 7s 16ms/step - loss: 0.8328 - accuracy: 0.7175 - precision_4: 0.8671 - recall_4: 0.6316\n",
      "376/376 [==============================] - 7s 16ms/step - loss: 0.8889 - accuracy: 0.6989 - precision_5: 0.8254 - recall_5: 0.6301\n",
      "376/376 [==============================] - 7s 16ms/step - loss: 0.8251 - accuracy: 0.7295 - precision_6: 0.8851 - recall_6: 0.6204\n",
      "376/376 [==============================] - 7s 16ms/step - loss: 0.8316 - accuracy: 0.7274 - precision_7: 0.9004 - recall_7: 0.6110\n",
      "376/376 [==============================] - 7s 16ms/step - loss: 0.7851 - accuracy: 0.7489 - precision_8: 0.8885 - recall_8: 0.6667\n",
      "376/376 [==============================] - 7s 16ms/step - loss: 0.8104 - accuracy: 0.7350 - precision_9: 0.9003 - recall_9: 0.6338\n",
      "376/376 [==============================] - 7s 16ms/step - loss: 0.7888 - accuracy: 0.7349 - precision_10: 0.8827 - recall_10: 0.6674\n",
      "376/376 [==============================] - 7s 16ms/step - loss: 0.7592 - accuracy: 0.7508 - precision_11: 0.8815 - recall_11: 0.7041\n",
      "376/376 [==============================] - 7s 16ms/step - loss: 0.7530 - accuracy: 0.7438 - precision_12: 0.8627 - recall_12: 0.6942\n",
      "376/376 [==============================] - 7s 16ms/step - loss: 0.7533 - accuracy: 0.7493 - precision_13: 0.8950 - recall_13: 0.6770\n",
      "376/376 [==============================] - 7s 16ms/step - loss: 0.7807 - accuracy: 0.7393 - precision_14: 0.8918 - recall_14: 0.6714\n",
      "376/376 [==============================] - 7s 16ms/step - loss: 0.7463 - accuracy: 0.7469 - precision_15: 0.8932 - recall_15: 0.6671\n",
      "376/376 [==============================] - 7s 16ms/step - loss: 0.7957 - accuracy: 0.7257 - precision_16: 0.8657 - recall_16: 0.6646\n",
      "376/376 [==============================] - 7s 16ms/step - loss: 0.8418 - accuracy: 0.7130 - precision_17: 0.8909 - recall_17: 0.6278\n",
      "376/376 [==============================] - 7s 16ms/step - loss: 0.8399 - accuracy: 0.7264 - precision_18: 0.9068 - recall_18: 0.6094\n",
      "376/376 [==============================] - 7s 16ms/step - loss: 0.8129 - accuracy: 0.7220 - precision_19: 0.8788 - recall_19: 0.6319\n"
     ]
    }
   ],
   "source": [
    "evaluate_dg = []\n",
    "evaluate_dg.append(model_original.evaluate(x_test_and_adversary,y_test_and_adversary))\n",
    "print(\"Evaluating for dg\")\n",
    "for model in models_dg:\n",
    "    evaluate_dg.append(model.evaluate(x_test_and_adversary,y_test_and_adversary))"
   ]
  },
  {
   "cell_type": "code",
   "execution_count": 23,
   "id": "286ee29c",
   "metadata": {},
   "outputs": [
    {
     "name": "stdout",
     "output_type": "stream",
     "text": [
      "376/376 [==============================] - 7s 17ms/step - loss: 2.3668 - accuracy: 0.5769 - precision_120: 0.6709 - recall_120: 0.5681\n",
      "376/376 [==============================] - 6s 16ms/step - loss: 2.3668 - accuracy: 0.5769 - precision_120: 0.6527 - recall_120: 0.5522\n",
      "376/376 [==============================] - 6s 17ms/step - loss: 2.3668 - accuracy: 0.5769 - precision_120: 0.6451 - recall_120: 0.5455\n",
      "376/376 [==============================] - 6s 17ms/step - loss: 2.3668 - accuracy: 0.5769 - precision_120: 0.6408 - recall_120: 0.5418\n",
      "376/376 [==============================] - 6s 17ms/step - loss: 2.3668 - accuracy: 0.5769 - precision_120: 0.6381 - recall_120: 0.5394\n",
      "376/376 [==============================] - 6s 17ms/step - loss: 2.3668 - accuracy: 0.5769 - precision_120: 0.6363 - recall_120: 0.5378: 3s - loss: 0.5260 - acc\n"
     ]
    }
   ],
   "source": [
    "evaluate_lsa = []\n",
    "evaluate_dsa = []\n",
    "evaluate_dg = []\n",
    "evaluate_se = []\n",
    "evaluate_nc = []\n",
    "evaluate_random = []\n",
    "\n",
    "#c2\n",
    "evaluate_lsa.append(model_original.evaluate(x_test_and_adversary,y_test_and_adversary))\n",
    "evaluate_dsa.append(model_original.evaluate(x_test_and_adversary,y_test_and_adversary))\n",
    "evaluate_dg.append(model_original.evaluate(x_test_and_adversary,y_test_and_adversary))\n",
    "evaluate_se.append(model_original.evaluate(x_test_and_adversary,y_test_and_adversary))\n",
    "evaluate_nc.append(model_original.evaluate(x_test_and_adversary,y_test_and_adversary))\n",
    "evaluate_random.append(model_original.evaluate(x_test_and_adversary,y_test_and_adversary))"
   ]
  },
  {
   "cell_type": "code",
   "execution_count": 24,
   "id": "30633373",
   "metadata": {
    "scrolled": true
   },
   "outputs": [
    {
     "name": "stdout",
     "output_type": "stream",
     "text": [
      "Evaluating for lsa\n",
      "376/376 [==============================] - 7s 16ms/step - loss: 1.6126 - accuracy: 0.5320 - precision: 0.6245 - recall: 0.4730\n",
      "376/376 [==============================] - 7s 16ms/step - loss: 1.2196 - accuracy: 0.5709 - precision_1: 0.7228 - recall_1: 0.4828\n",
      "376/376 [==============================] - 7s 16ms/step - loss: 1.2764 - accuracy: 0.5810 - precision_2: 0.7054 - recall_2: 0.5134: 2s - loss: 1.2073 - accuracy: 0.5992 - p\n",
      "376/376 [==============================] - 7s 16ms/step - loss: 1.2690 - accuracy: 0.5554 - precision_3: 0.6806 - recall_3: 0.4737: 0s - loss: 1.2548 - accuracy: 0.5596 - precision_3: 0.6814 - recall_3\n",
      "376/376 [==============================] - 8s 18ms/step - loss: 1.1300 - accuracy: 0.5963 - precision_4: 0.8259 - recall_4: 0.4660\n",
      "376/376 [==============================] - 8s 18ms/step - loss: 1.2079 - accuracy: 0.5680 - precision_5: 0.7738 - recall_5: 0.4017\n",
      "376/376 [==============================] - 8s 17ms/step - loss: 1.2227 - accuracy: 0.5755 - precision_6: 0.7682 - recall_6: 0.4525\n",
      "376/376 [==============================] - 7s 16ms/step - loss: 1.1962 - accuracy: 0.5742 - precision_7: 0.7587 - recall_7: 0.4515\n",
      "376/376 [==============================] - 7s 16ms/step - loss: 1.1443 - accuracy: 0.5759 - precision_8: 0.7420 - recall_8: 0.5073\n",
      "376/376 [==============================] - 7s 16ms/step - loss: 1.0525 - accuracy: 0.6107 - precision_9: 0.8204 - recall_9: 0.4933\n",
      "376/376 [==============================] - 7s 16ms/step - loss: 1.0352 - accuracy: 0.6048 - precision_10: 0.7949 - recall_10: 0.4921\n",
      "376/376 [==============================] - 7s 16ms/step - loss: 0.9806 - accuracy: 0.6406 - precision_11: 0.8441 - recall_11: 0.5119: 2s - loss: 0.8922 - accuracy: 0.6713 - precision_11: 0.8514 - ETA: 1s - loss: 0.9301 - accuracy: 0.6584 - precision_\n",
      "376/376 [==============================] - 7s 15ms/step - loss: 1.0824 - accuracy: 0.6061 - precision_12: 0.8426 - recall_12: 0.4742\n",
      "376/376 [==============================] - 7s 16ms/step - loss: 1.0417 - accuracy: 0.6192 - precision_13: 0.8251 - recall_13: 0.5253\n",
      "376/376 [==============================] - 7s 16ms/step - loss: 1.0107 - accuracy: 0.6223 - precision_14: 0.8154 - recall_14: 0.5396\n",
      "376/376 [==============================] - 7s 17ms/step - loss: 0.9497 - accuracy: 0.6599 - precision_15: 0.8448 - recall_15: 0.5474\n",
      "376/376 [==============================] - 7s 16ms/step - loss: 1.0011 - accuracy: 0.6533 - precision_16: 0.8395 - recall_16: 0.5499\n",
      "376/376 [==============================] - 7s 16ms/step - loss: 0.9401 - accuracy: 0.6714 - precision_17: 0.8557 - recall_17: 0.5713\n",
      "376/376 [==============================] - 7s 16ms/step - loss: 0.7716 - accuracy: 0.7375 - precision_18: 0.8753 - recall_18: 0.6759\n",
      "376/376 [==============================] - 7s 16ms/step - loss: 0.7496 - accuracy: 0.7538 - precision_19: 0.8918 - recall_19: 0.6751\n",
      "Evaluating for dsa\n",
      "376/376 [==============================] - 7s 16ms/step - loss: 1.4008 - accuracy: 0.6007 - precision_20: 0.6917 - recall_20: 0.5624\n",
      "376/376 [==============================] - 7s 16ms/step - loss: 1.2029 - accuracy: 0.6308 - precision_21: 0.7441 - recall_21: 0.5580\n",
      "376/376 [==============================] - 7s 16ms/step - loss: 0.8948 - accuracy: 0.6979 - precision_22: 0.8167 - recall_22: 0.6444: 0s - loss: 0.8725 - accuracy: 0.7058 - precision_22: 0.8188 - \n",
      "376/376 [==============================] - 7s 16ms/step - loss: 0.8393 - accuracy: 0.7131 - precision_23: 0.8478 - recall_23: 0.6591\n",
      "376/376 [==============================] - 7s 17ms/step - loss: 0.8147 - accuracy: 0.7206 - precision_24: 0.8584 - recall_24: 0.6655\n",
      "376/376 [==============================] - 7s 16ms/step - loss: 0.7911 - accuracy: 0.7431 - precision_25: 0.8529 - recall_25: 0.6965\n",
      "376/376 [==============================] - 7s 16ms/step - loss: 0.8207 - accuracy: 0.7184 - precision_26: 0.8770 - recall_26: 0.6321\n",
      "376/376 [==============================] - 7s 17ms/step - loss: 0.8002 - accuracy: 0.7281 - precision_27: 0.8657 - recall_27: 0.6583\n",
      "376/376 [==============================] - 8s 19ms/step - loss: 0.8213 - accuracy: 0.7223 - precision_28: 0.8772 - recall_28: 0.6241\n",
      "376/376 [==============================] - 8s 17ms/step - loss: 0.7672 - accuracy: 0.7369 - precision_29: 0.8856 - recall_29: 0.6541\n",
      "376/376 [==============================] - 7s 16ms/step - loss: 0.8277 - accuracy: 0.7184 - precision_30: 0.8904 - recall_30: 0.6195\n",
      "376/376 [==============================] - 7s 17ms/step - loss: 0.7925 - accuracy: 0.7329 - precision_31: 0.8871 - recall_31: 0.6384\n",
      "376/376 [==============================] - 7s 17ms/step - loss: 0.8619 - accuracy: 0.7036 - precision_32: 0.8444 - recall_32: 0.6275\n",
      "376/376 [==============================] - 7s 16ms/step - loss: 0.9292 - accuracy: 0.6998 - precision_33: 0.8967 - recall_33: 0.5326\n",
      "376/376 [==============================] - 7s 17ms/step - loss: 0.8883 - accuracy: 0.7184 - precision_34: 0.8340 - recall_34: 0.6936: 2s - loss: 0.7723 - accuracy: 0\n",
      "376/376 [==============================] - 8s 17ms/step - loss: 0.8676 - accuracy: 0.7138 - precision_35: 0.8955 - recall_35: 0.5776\n",
      "376/376 [==============================] - 7s 16ms/step - loss: 0.9151 - accuracy: 0.7007 - precision_36: 0.8966 - recall_36: 0.5576\n",
      "376/376 [==============================] - 8s 17ms/step - loss: 0.7786 - accuracy: 0.7293 - precision_37: 0.8830 - recall_37: 0.6743: 2s - loss: 0.6870 - accuracy: 0.763\n",
      "376/376 [==============================] - 8s 17ms/step - loss: 0.8556 - accuracy: 0.7101 - precision_38: 0.8821 - recall_38: 0.6085\n",
      "376/376 [==============================] - 8s 18ms/step - loss: 0.7508 - accuracy: 0.7453 - precision_39: 0.8856 - recall_39: 0.6823\n",
      "Evaluating for random\n",
      "376/376 [==============================] - 7s 16ms/step - loss: 0.7756 - accuracy: 0.7341 - precision_80: 0.8689 - recall_80: 0.7230\n",
      "376/376 [==============================] - 7s 16ms/step - loss: 0.7966 - accuracy: 0.7431 - precision_81: 0.8509 - recall_81: 0.7407\n",
      "376/376 [==============================] - 7s 16ms/step - loss: 0.8365 - accuracy: 0.7287 - precision_82: 0.8380 - recall_82: 0.7225\n",
      "376/376 [==============================] - 7s 16ms/step - loss: 0.7470 - accuracy: 0.7483 - precision_83: 0.8777 - recall_83: 0.7153\n",
      "376/376 [==============================] - 8s 17ms/step - loss: 0.8349 - accuracy: 0.7226 - precision_84: 0.8600 - recall_84: 0.6904\n",
      "376/376 [==============================] - 7s 17ms/step - loss: 0.8631 - accuracy: 0.7171 - precision_85: 0.8304 - recall_85: 0.6902\n",
      "376/376 [==============================] - 7s 16ms/step - loss: 0.7611 - accuracy: 0.7397 - precision_86: 0.8782 - recall_86: 0.6978\n",
      "376/376 [==============================] - 8s 17ms/step - loss: 0.7722 - accuracy: 0.7336 - precision_87: 0.8694 - recall_87: 0.6976\n",
      "376/376 [==============================] - 7s 16ms/step - loss: 0.8306 - accuracy: 0.7181 - precision_88: 0.8626 - recall_88: 0.6723\n",
      "376/376 [==============================] - 7s 17ms/step - loss: 0.7745 - accuracy: 0.7422 - precision_89: 0.9008 - recall_89: 0.6619\n",
      "376/376 [==============================] - 7s 16ms/step - loss: 0.7768 - accuracy: 0.7367 - precision_90: 0.8671 - recall_90: 0.6750\n",
      "376/376 [==============================] - 7s 17ms/step - loss: 0.7693 - accuracy: 0.7399 - precision_91: 0.8847 - recall_91: 0.6737\n",
      "376/376 [==============================] - 7s 16ms/step - loss: 0.8030 - accuracy: 0.7246 - precision_92: 0.8791 - recall_92: 0.6525\n",
      "376/376 [==============================] - 7s 16ms/step - loss: 0.8378 - accuracy: 0.7076 - precision_93: 0.8719 - recall_93: 0.6389\n",
      "376/376 [==============================] - 7s 17ms/step - loss: 0.8597 - accuracy: 0.7119 - precision_94: 0.8855 - recall_94: 0.5927\n",
      "376/376 [==============================] - 7s 17ms/step - loss: 0.7810 - accuracy: 0.7330 - precision_95: 0.8740 - recall_95: 0.6618\n",
      "376/376 [==============================] - 7s 16ms/step - loss: 0.8851 - accuracy: 0.7058 - precision_96: 0.8959 - recall_96: 0.5773\n",
      "376/376 [==============================] - 7s 16ms/step - loss: 0.8361 - accuracy: 0.7160 - precision_97: 0.8998 - recall_97: 0.6190\n",
      "376/376 [==============================] - 7s 16ms/step - loss: 0.8288 - accuracy: 0.7230 - precision_98: 0.8816 - recall_98: 0.6314\n",
      "376/376 [==============================] - 7s 16ms/step - loss: 0.7796 - accuracy: 0.7396 - precision_99: 0.8668 - recall_99: 0.6924\n",
      "Evaluating for nc\n",
      "376/376 [==============================] - 7s 17ms/step - loss: 1.4991 - accuracy: 0.6854 - precision_100: 0.7522 - recall_100: 0.7126: 2s - loss: 1.3088 - accuracy: 0.7312 \n",
      "376/376 [==============================] - 7s 16ms/step - loss: 1.2383 - accuracy: 0.6860 - precision_101: 0.7810 - recall_101: 0.6959: 0s - loss: 1.2057 - accuracy: 0.6972 - precision_101: 0.7831 - recall_\n",
      "376/376 [==============================] - 7s 16ms/step - loss: 1.5358 - accuracy: 0.6342 - precision_102: 0.7314 - recall_102: 0.6293\n",
      "376/376 [==============================] - 7s 16ms/step - loss: 1.0117 - accuracy: 0.6833 - precision_103: 0.7818 - recall_103: 0.6490\n",
      "376/376 [==============================] - 7s 16ms/step - loss: 1.0079 - accuracy: 0.6578 - precision_104: 0.7935 - recall_104: 0.5996\n",
      "376/376 [==============================] - 8s 16ms/step - loss: 1.0686 - accuracy: 0.6421 - precision_105: 0.8118 - recall_105: 0.5629\n",
      "376/376 [==============================] - 7s 17ms/step - loss: 0.9628 - accuracy: 0.6832 - precision_106: 0.8024 - recall_106: 0.6534\n",
      "376/376 [==============================] - 7s 16ms/step - loss: 0.9130 - accuracy: 0.6848 - precision_107: 0.8230 - recall_107: 0.6311\n",
      "376/376 [==============================] - 7s 17ms/step - loss: 0.9409 - accuracy: 0.6994 - precision_108: 0.8071 - recall_108: 0.6628\n",
      "376/376 [==============================] - 7s 16ms/step - loss: 0.9270 - accuracy: 0.6853 - precision_109: 0.8071 - recall_109: 0.6470\n",
      "376/376 [==============================] - 8s 17ms/step - loss: 0.8641 - accuracy: 0.7104 - precision_110: 0.8440 - recall_110: 0.6617\n",
      "376/376 [==============================] - 7s 16ms/step - loss: 0.9165 - accuracy: 0.6997 - precision_111: 0.8087 - recall_111: 0.6832: 1s - loss: 0.8600 - accuracy: 0.7218 - precision_111:\n",
      "376/376 [==============================] - 7s 17ms/step - loss: 0.8984 - accuracy: 0.6953 - precision_112: 0.8570 - recall_112: 0.6212\n",
      "376/376 [==============================] - 7s 16ms/step - loss: 0.8251 - accuracy: 0.7166 - precision_113: 0.8469 - recall_113: 0.6561\n",
      "376/376 [==============================] - 7s 16ms/step - loss: 0.8438 - accuracy: 0.7159 - precision_114: 0.8716 - recall_114: 0.6346\n",
      "376/376 [==============================] - 7s 17ms/step - loss: 0.8903 - accuracy: 0.7114 - precision_115: 0.8275 - recall_115: 0.7101\n",
      "376/376 [==============================] - 7s 17ms/step - loss: 0.8335 - accuracy: 0.7176 - precision_116: 0.8708 - recall_116: 0.6493\n",
      "376/376 [==============================] - 7s 16ms/step - loss: 0.8205 - accuracy: 0.7235 - precision_117: 0.8748 - recall_117: 0.6620\n",
      "376/376 [==============================] - 7s 16ms/step - loss: 0.7993 - accuracy: 0.7298 - precision_118: 0.8674 - recall_118: 0.6703\n",
      "376/376 [==============================] - 7s 17ms/step - loss: 0.8372 - accuracy: 0.7168 - precision_119: 0.8907 - recall_119: 0.6330\n"
     ]
    }
   ],
   "source": [
    "# Metrics using adversarial test\n",
    "\n",
    "#evaluate_lsa.append(model_original.evaluate(x_test_and_adversary,y_test_and_adversary))\n",
    "#evaluate_dsa.append(model_original.evaluate(x_test_and_adversary,y_test_and_adversary))\n",
    "#evaluate_nc.append(model_original.evaluate(x_test_and_adversary,y_test_and_adversary))\n",
    "#evaluate_random.append(model_original.evaluate(x_test_and_adversary,y_test_and_adversary))\n",
    "print(\"Evaluating for lsa\")\n",
    "for model in models_lsa:\n",
    "    evaluate_lsa.append(model.evaluate(x_test_and_adversary,y_test_and_adversary))\n",
    "    \n",
    "print(\"Evaluating for dsa\")\n",
    "for model in models_dsa:\n",
    "    evaluate_dsa.append(model.evaluate(x_test_and_adversary,y_test_and_adversary))\n",
    "print(\"Evaluating for random\")\n",
    "for model in models_random:\n",
    "    evaluate_random.append(model.evaluate(x_test_and_adversary,y_test_and_adversary))\n",
    "print(\"Evaluating for nc\")\n",
    "for model in models_nc:\n",
    "    evaluate_nc.append(model.evaluate(x_test_and_adversary,y_test_and_adversary))"
   ]
  },
  {
   "cell_type": "code",
   "execution_count": 25,
   "id": "ae3df5fe",
   "metadata": {
    "scrolled": true
   },
   "outputs": [
    {
     "name": "stdout",
     "output_type": "stream",
     "text": [
      "Evaluating for dg\n",
      "376/376 [==============================] - 7s 17ms/step - loss: 1.0439 - accuracy: 0.6763 - precision_40: 0.8540 - recall_40: 0.5957\n",
      "376/376 [==============================] - 7s 16ms/step - loss: 0.9600 - accuracy: 0.7051 - precision_41: 0.8256 - recall_41: 0.6750\n",
      "376/376 [==============================] - 7s 17ms/step - loss: 0.9432 - accuracy: 0.7037 - precision_42: 0.8159 - recall_42: 0.6761\n",
      "376/376 [==============================] - 7s 17ms/step - loss: 0.8428 - accuracy: 0.7210 - precision_43: 0.8564 - recall_43: 0.6645\n",
      "376/376 [==============================] - 7s 17ms/step - loss: 0.8328 - accuracy: 0.7175 - precision_44: 0.8671 - recall_44: 0.6316\n",
      "376/376 [==============================] - 8s 17ms/step - loss: 0.8889 - accuracy: 0.6989 - precision_45: 0.8254 - recall_45: 0.6301\n",
      "376/376 [==============================] - 7s 17ms/step - loss: 0.8251 - accuracy: 0.7295 - precision_46: 0.8851 - recall_46: 0.6204\n",
      "376/376 [==============================] - 7s 17ms/step - loss: 0.8316 - accuracy: 0.7274 - precision_47: 0.9004 - recall_47: 0.6110\n",
      "376/376 [==============================] - 7s 17ms/step - loss: 0.7851 - accuracy: 0.7489 - precision_48: 0.8885 - recall_48: 0.6667\n",
      "376/376 [==============================] - 7s 16ms/step - loss: 0.8104 - accuracy: 0.7350 - precision_49: 0.9003 - recall_49: 0.6338\n",
      "376/376 [==============================] - 7s 16ms/step - loss: 0.7888 - accuracy: 0.7349 - precision_50: 0.8827 - recall_50: 0.6674: 3s - loss: 0.6613 -\n",
      "376/376 [==============================] - 7s 17ms/step - loss: 0.7592 - accuracy: 0.7508 - precision_51: 0.8815 - recall_51: 0.7041\n",
      "376/376 [==============================] - 7s 17ms/step - loss: 0.7530 - accuracy: 0.7438 - precision_52: 0.8627 - recall_52: 0.6942\n",
      "376/376 [==============================] - 7s 16ms/step - loss: 0.7533 - accuracy: 0.7493 - precision_53: 0.8950 - recall_53: 0.6770\n",
      "376/376 [==============================] - 7s 16ms/step - loss: 0.7807 - accuracy: 0.7393 - precision_54: 0.8918 - recall_54: 0.6714\n",
      "376/376 [==============================] - 7s 17ms/step - loss: 0.7463 - accuracy: 0.7469 - precision_55: 0.8932 - recall_55: 0.6671\n",
      "376/376 [==============================] - 7s 16ms/step - loss: 0.7957 - accuracy: 0.7257 - precision_56: 0.8657 - recall_56: 0.6646\n",
      "376/376 [==============================] - 7s 16ms/step - loss: 0.8418 - accuracy: 0.7130 - precision_57: 0.8909 - recall_57: 0.6278\n",
      "376/376 [==============================] - 7s 16ms/step - loss: 1.2320 - accuracy: 0.6355 - precision_58: 0.7420 - recall_58: 0.5866\n",
      "376/376 [==============================] - 7s 16ms/step - loss: 0.8129 - accuracy: 0.7220 - precision_59: 0.8788 - recall_59: 0.6319\n",
      "Evaluating for se\n",
      "376/376 [==============================] - 7s 16ms/step - loss: 1.0733 - accuracy: 0.6878 - precision_60: 0.8387 - recall_60: 0.6529\n",
      "376/376 [==============================] - 7s 16ms/step - loss: 0.8715 - accuracy: 0.7250 - precision_61: 0.8573 - recall_61: 0.6775\n",
      "376/376 [==============================] - 7s 16ms/step - loss: 0.8917 - accuracy: 0.7100 - precision_62: 0.8577 - recall_62: 0.6388\n",
      "376/376 [==============================] - 7s 16ms/step - loss: 0.8791 - accuracy: 0.7038 - precision_63: 0.8528 - recall_63: 0.6186: 1s - loss: 0.7784 - accuracy: 0.7380 - precis\n",
      "376/376 [==============================] - 7s 17ms/step - loss: 0.8677 - accuracy: 0.7110 - precision_64: 0.8403 - recall_64: 0.6741\n",
      "376/376 [==============================] - 7s 17ms/step - loss: 0.8077 - accuracy: 0.7258 - precision_65: 0.8770 - recall_65: 0.6570\n",
      "376/376 [==============================] - 8s 17ms/step - loss: 0.8460 - accuracy: 0.7205 - precision_66: 0.9012 - recall_66: 0.6065\n",
      "376/376 [==============================] - 7s 16ms/step - loss: 0.7869 - accuracy: 0.7416 - precision_67: 0.8679 - recall_67: 0.6958\n",
      "376/376 [==============================] - 7s 16ms/step - loss: 0.9262 - accuracy: 0.6885 - precision_68: 0.8702 - recall_68: 0.5780: 0s - loss: 0.8920 - accuracy: 0.7011 - precision_68: 0.8735 - rec\n",
      "376/376 [==============================] - 8s 18ms/step - loss: 0.7793 - accuracy: 0.7412 - precision_69: 0.8777 - recall_69: 0.6664\n",
      "376/376 [==============================] - 7s 17ms/step - loss: 0.7854 - accuracy: 0.7286 - precision_70: 0.8685 - recall_70: 0.6516\n",
      "376/376 [==============================] - 7s 17ms/step - loss: 0.7545 - accuracy: 0.7440 - precision_71: 0.8783 - recall_71: 0.6962\n",
      "376/376 [==============================] - 7s 17ms/step - loss: 0.8413 - accuracy: 0.7227 - precision_72: 0.9013 - recall_72: 0.6117\n",
      "376/376 [==============================] - 8s 17ms/step - loss: 0.8520 - accuracy: 0.7176 - precision_73: 0.8908 - recall_73: 0.5927\n",
      "376/376 [==============================] - 7s 16ms/step - loss: 0.7819 - accuracy: 0.7318 - precision_74: 0.8654 - recall_74: 0.6595\n",
      "376/376 [==============================] - 7s 16ms/step - loss: 0.7885 - accuracy: 0.7257 - precision_75: 0.8752 - recall_75: 0.6618\n",
      "376/376 [==============================] - 7s 17ms/step - loss: 0.7580 - accuracy: 0.7394 - precision_76: 0.8913 - recall_76: 0.6719\n",
      "376/376 [==============================] - 8s 17ms/step - loss: 0.8099 - accuracy: 0.7222 - precision_77: 0.8714 - recall_77: 0.6495\n",
      "376/376 [==============================] - 8s 18ms/step - loss: 0.8553 - accuracy: 0.7050 - precision_78: 0.8575 - recall_78: 0.6396\n",
      "376/376 [==============================] - 8s 18ms/step - loss: 0.7986 - accuracy: 0.7338 - precision_79: 0.8895 - recall_79: 0.6575\n"
     ]
    }
   ],
   "source": [
    "print(\"Evaluating for dg\")\n",
    "for model in models_dg:\n",
    "    evaluate_dg.append(model.evaluate(x_test_and_adversary,y_test_and_adversary))\n",
    "    \n",
    "print(\"Evaluating for se\")\n",
    "for model in models_se:\n",
    "    evaluate_se.append(model.evaluate(x_test_and_adversary,y_test_and_adversary))\n"
   ]
  },
  {
   "cell_type": "code",
   "execution_count": 26,
   "id": "2141a097",
   "metadata": {},
   "outputs": [
    {
     "data": {
      "text/plain": [
       "21"
      ]
     },
     "execution_count": 26,
     "metadata": {},
     "output_type": "execute_result"
    }
   ],
   "source": [
    "len(evaluate_dg)"
   ]
  },
  {
   "cell_type": "code",
   "execution_count": 27,
   "id": "078f3e93",
   "metadata": {},
   "outputs": [],
   "source": [
    "#evaluate_lsa.append(models_lsa[20].evaluate(x_test_and_adversary,y_test_and_adversary))\n",
    "#evaluate_dsa.append(models_dsa[20].evaluate(x_test_and_adversary,y_test_and_adversary))\n",
    "#evaluate_dg.append(models_dg[20].evaluate(x_test_and_adversary,y_test_and_adversary))\n",
    "#evaluate_se.append(models_se[20].evaluate(x_test_and_adversary,y_test_and_adversary))\n",
    "#evaluate_random.append(models_random[20].evaluate(x_test_and_adversary,y_test_and_adversary))\n",
    "#evaluate_nc.append(models_nc[20].evaluate(x_test_and_adversary,y_test_and_adversary))\n"
   ]
  },
  {
   "cell_type": "code",
   "execution_count": 28,
   "id": "e48d1822",
   "metadata": {},
   "outputs": [
    {
     "data": {
      "text/plain": [
       "21"
      ]
     },
     "execution_count": 28,
     "metadata": {},
     "output_type": "execute_result"
    }
   ],
   "source": [
    "len(evaluate_nc)"
   ]
  },
  {
   "cell_type": "code",
   "execution_count": 19,
   "id": "84b6b536",
   "metadata": {},
   "outputs": [],
   "source": [
    "import pandas as pd\n",
    "\n",
    "df_evaluate_dg = pd.DataFrame(np.array(evaluate_dg),columns=[\"loss\",\"accuracy\",\"precision\",\"recall\"])\n"
   ]
  },
  {
   "cell_type": "code",
   "execution_count": 29,
   "id": "ba831e22",
   "metadata": {},
   "outputs": [],
   "source": [
    "import pandas as pd\n",
    "\n",
    "df_evaluate_lsa = pd.DataFrame(np.array(evaluate_lsa),columns=[\"loss\",\"accuracy\",\"precision\",\"recall\"])\n",
    "df_evaluate_dsa = pd.DataFrame(np.array(evaluate_dsa),columns=[\"loss\",\"accuracy\",\"precision\",\"recall\"])\n",
    "df_evaluate_dg = pd.DataFrame(np.array(evaluate_dg),columns=[\"loss\",\"accuracy\",\"precision\",\"recall\"])\n",
    "df_evaluate_se = pd.DataFrame(np.array(evaluate_se),columns=[\"loss\",\"accuracy\",\"precision\",\"recall\"])\n",
    "\n",
    "df_evaluate_random = pd.DataFrame(np.array(evaluate_random),columns=[\"loss\",\"accuracy\",\"precision\",\"recall\"])\n",
    "df_evaluate_nc = pd.DataFrame(np.array(evaluate_nc),columns=[\"loss\",\"accuracy\",\"precision\",\"recall\"])\n"
   ]
  },
  {
   "cell_type": "code",
   "execution_count": 15,
   "id": "d5eae8d4",
   "metadata": {},
   "outputs": [],
   "source": [
    "#save_dir = \"D:/aug_graphs/\"+dataset+\"/\"+config_lc\n",
    "save_dir = \"C:/Users/fjdurlop/Documents/upc/aug_graphs/\"+dataset+\"/\"+config_lc"
   ]
  },
  {
   "cell_type": "code",
   "execution_count": 46,
   "id": "1ff3f440",
   "metadata": {},
   "outputs": [
    {
     "name": "stdout",
     "output_type": "stream",
     "text": [
      "False\n"
     ]
    }
   ],
   "source": [
    "\n",
    "# Check if loading\n",
    "print(loading_csv)"
   ]
  },
  {
   "cell_type": "code",
   "execution_count": 21,
   "id": "aa209967",
   "metadata": {},
   "outputs": [],
   "source": [
    "df_evaluate_dg.to_csv(save_dir+\"/dg_\"+config_lc,index=False)"
   ]
  },
  {
   "cell_type": "code",
   "execution_count": 31,
   "id": "1fcc89a7",
   "metadata": {},
   "outputs": [],
   "source": [
    "df_evaluate_lsa.to_csv(save_dir+\"/lsa_\"+config_lc,index=False)\n",
    "df_evaluate_dsa.to_csv(save_dir+\"/dsa_\"+config_lc,index=False)\n",
    "df_evaluate_dg.to_csv(save_dir+\"/dg_\"+config_lc,index=False)\n",
    "df_evaluate_se.to_csv(save_dir+\"/se_\"+config_lc,index=False)\n",
    "df_evaluate_random.to_csv(save_dir+\"/random_\"+config_lc,index=False)\n",
    "df_evaluate_nc.to_csv(save_dir+\"/nc_\"+config_lc,index=False)"
   ]
  },
  {
   "cell_type": "code",
   "execution_count": 16,
   "id": "2f1f67f6",
   "metadata": {},
   "outputs": [],
   "source": [
    "import pandas as pd\n",
    "loading_csv =True\n",
    "if(loading_csv):\n",
    "    df_evaluate_lsa = pd.read_csv(save_dir+\"/lsa_\"+config_lc)\n",
    "    df_evaluate_dsa = pd.read_csv(save_dir+\"/dsa_\"+config_lc)\n",
    "    df_evaluate_dg = pd.read_csv(save_dir+\"/dg_\"+config_lc)\n",
    "    df_evaluate_se = pd.read_csv(save_dir+\"/se_\"+config_lc)\n",
    "    df_evaluate_random = pd.read_csv(save_dir+\"/random_\"+config_lc)\n",
    "    df_evaluate_nc = pd.read_csv(save_dir+\"/nc_\"+config_lc)"
   ]
  },
  {
   "cell_type": "code",
   "execution_count": 17,
   "id": "434369a2",
   "metadata": {},
   "outputs": [
    {
     "data": {
      "text/html": [
       "<div>\n",
       "<style scoped>\n",
       "    .dataframe tbody tr th:only-of-type {\n",
       "        vertical-align: middle;\n",
       "    }\n",
       "\n",
       "    .dataframe tbody tr th {\n",
       "        vertical-align: top;\n",
       "    }\n",
       "\n",
       "    .dataframe thead th {\n",
       "        text-align: right;\n",
       "    }\n",
       "</style>\n",
       "<table border=\"1\" class=\"dataframe\">\n",
       "  <thead>\n",
       "    <tr style=\"text-align: right;\">\n",
       "      <th></th>\n",
       "      <th>loss</th>\n",
       "      <th>accuracy</th>\n",
       "      <th>precision</th>\n",
       "      <th>recall</th>\n",
       "    </tr>\n",
       "  </thead>\n",
       "  <tbody>\n",
       "    <tr>\n",
       "      <th>0</th>\n",
       "      <td>2.366766</td>\n",
       "      <td>0.576869</td>\n",
       "      <td>0.670941</td>\n",
       "      <td>0.568135</td>\n",
       "    </tr>\n",
       "    <tr>\n",
       "      <th>1</th>\n",
       "      <td>1.577170</td>\n",
       "      <td>0.545621</td>\n",
       "      <td>0.806950</td>\n",
       "      <td>0.550751</td>\n",
       "    </tr>\n",
       "    <tr>\n",
       "      <th>2</th>\n",
       "      <td>1.526948</td>\n",
       "      <td>0.579118</td>\n",
       "      <td>0.784971</td>\n",
       "      <td>0.631292</td>\n",
       "    </tr>\n",
       "    <tr>\n",
       "      <th>3</th>\n",
       "      <td>1.391390</td>\n",
       "      <td>0.594034</td>\n",
       "      <td>0.783413</td>\n",
       "      <td>0.639297</td>\n",
       "    </tr>\n",
       "    <tr>\n",
       "      <th>4</th>\n",
       "      <td>1.174856</td>\n",
       "      <td>0.609616</td>\n",
       "      <td>0.831613</td>\n",
       "      <td>0.620696</td>\n",
       "    </tr>\n",
       "    <tr>\n",
       "      <th>5</th>\n",
       "      <td>1.115730</td>\n",
       "      <td>0.611949</td>\n",
       "      <td>0.846880</td>\n",
       "      <td>0.586727</td>\n",
       "    </tr>\n",
       "    <tr>\n",
       "      <th>6</th>\n",
       "      <td>1.155758</td>\n",
       "      <td>0.607866</td>\n",
       "      <td>0.807914</td>\n",
       "      <td>0.596695</td>\n",
       "    </tr>\n",
       "    <tr>\n",
       "      <th>7</th>\n",
       "      <td>1.094253</td>\n",
       "      <td>0.623615</td>\n",
       "      <td>0.864569</td>\n",
       "      <td>0.574702</td>\n",
       "    </tr>\n",
       "    <tr>\n",
       "      <th>8</th>\n",
       "      <td>1.080948</td>\n",
       "      <td>0.628281</td>\n",
       "      <td>0.881029</td>\n",
       "      <td>0.563993</td>\n",
       "    </tr>\n",
       "    <tr>\n",
       "      <th>9</th>\n",
       "      <td>1.056450</td>\n",
       "      <td>0.646363</td>\n",
       "      <td>0.866315</td>\n",
       "      <td>0.623496</td>\n",
       "    </tr>\n",
       "    <tr>\n",
       "      <th>10</th>\n",
       "      <td>1.069307</td>\n",
       "      <td>0.633281</td>\n",
       "      <td>0.882445</td>\n",
       "      <td>0.586363</td>\n",
       "    </tr>\n",
       "    <tr>\n",
       "      <th>11</th>\n",
       "      <td>1.063843</td>\n",
       "      <td>0.628281</td>\n",
       "      <td>0.872833</td>\n",
       "      <td>0.616279</td>\n",
       "    </tr>\n",
       "    <tr>\n",
       "      <th>12</th>\n",
       "      <td>1.040139</td>\n",
       "      <td>0.648779</td>\n",
       "      <td>0.860524</td>\n",
       "      <td>0.656907</td>\n",
       "    </tr>\n",
       "    <tr>\n",
       "      <th>13</th>\n",
       "      <td>1.036398</td>\n",
       "      <td>0.639197</td>\n",
       "      <td>0.853183</td>\n",
       "      <td>0.644250</td>\n",
       "    </tr>\n",
       "    <tr>\n",
       "      <th>14</th>\n",
       "      <td>1.005673</td>\n",
       "      <td>0.652362</td>\n",
       "      <td>0.882282</td>\n",
       "      <td>0.629257</td>\n",
       "    </tr>\n",
       "    <tr>\n",
       "      <th>15</th>\n",
       "      <td>1.020187</td>\n",
       "      <td>0.644863</td>\n",
       "      <td>0.886610</td>\n",
       "      <td>0.620747</td>\n",
       "    </tr>\n",
       "    <tr>\n",
       "      <th>16</th>\n",
       "      <td>1.000673</td>\n",
       "      <td>0.647446</td>\n",
       "      <td>0.878933</td>\n",
       "      <td>0.619200</td>\n",
       "    </tr>\n",
       "    <tr>\n",
       "      <th>17</th>\n",
       "      <td>1.074468</td>\n",
       "      <td>0.623365</td>\n",
       "      <td>0.852034</td>\n",
       "      <td>0.613289</td>\n",
       "    </tr>\n",
       "    <tr>\n",
       "      <th>18</th>\n",
       "      <td>1.103662</td>\n",
       "      <td>0.610116</td>\n",
       "      <td>0.881340</td>\n",
       "      <td>0.577397</td>\n",
       "    </tr>\n",
       "    <tr>\n",
       "      <th>19</th>\n",
       "      <td>1.058193</td>\n",
       "      <td>0.635280</td>\n",
       "      <td>0.894207</td>\n",
       "      <td>0.564565</td>\n",
       "    </tr>\n",
       "    <tr>\n",
       "      <th>20</th>\n",
       "      <td>1.045948</td>\n",
       "      <td>0.633864</td>\n",
       "      <td>0.868482</td>\n",
       "      <td>0.591169</td>\n",
       "    </tr>\n",
       "  </tbody>\n",
       "</table>\n",
       "</div>"
      ],
      "text/plain": [
       "        loss  accuracy  precision    recall\n",
       "0   2.366766  0.576869   0.670941  0.568135\n",
       "1   1.577170  0.545621   0.806950  0.550751\n",
       "2   1.526948  0.579118   0.784971  0.631292\n",
       "3   1.391390  0.594034   0.783413  0.639297\n",
       "4   1.174856  0.609616   0.831613  0.620696\n",
       "5   1.115730  0.611949   0.846880  0.586727\n",
       "6   1.155758  0.607866   0.807914  0.596695\n",
       "7   1.094253  0.623615   0.864569  0.574702\n",
       "8   1.080948  0.628281   0.881029  0.563993\n",
       "9   1.056450  0.646363   0.866315  0.623496\n",
       "10  1.069307  0.633281   0.882445  0.586363\n",
       "11  1.063843  0.628281   0.872833  0.616279\n",
       "12  1.040139  0.648779   0.860524  0.656907\n",
       "13  1.036398  0.639197   0.853183  0.644250\n",
       "14  1.005673  0.652362   0.882282  0.629257\n",
       "15  1.020187  0.644863   0.886610  0.620747\n",
       "16  1.000673  0.647446   0.878933  0.619200\n",
       "17  1.074468  0.623365   0.852034  0.613289\n",
       "18  1.103662  0.610116   0.881340  0.577397\n",
       "19  1.058193  0.635280   0.894207  0.564565\n",
       "20  1.045948  0.633864   0.868482  0.591169"
      ]
     },
     "execution_count": 17,
     "metadata": {},
     "output_type": "execute_result"
    }
   ],
   "source": [
    "df_evaluate_dg"
   ]
  },
  {
   "cell_type": "code",
   "execution_count": 18,
   "id": "3c21fd01",
   "metadata": {},
   "outputs": [],
   "source": [
    "\n",
    "metric =\"accuracy\"\n",
    "accuracy_lsa_3 = np.array(df_evaluate_lsa[metric])\n",
    "accuracy_dsa_3 = np.array(df_evaluate_dsa[metric])\n",
    "accuracy_dg_3 = np.array(df_evaluate_dg[metric])\n",
    "accuracy_se_3 = np.array(df_evaluate_se[metric])\n",
    "\n",
    "accuracy_nc_3 =np.array(df_evaluate_nc[metric])\n",
    "accuracy_random_3 = np.array(df_evaluate_random[metric])\n"
   ]
  },
  {
   "cell_type": "code",
   "execution_count": 19,
   "id": "7aeb569b",
   "metadata": {},
   "outputs": [
    {
     "data": {
      "text/plain": [
       "2399.95"
      ]
     },
     "execution_count": 19,
     "metadata": {},
     "output_type": "execute_result"
    }
   ],
   "source": [
    "len(x_train_and_adversary)/20"
   ]
  },
  {
   "cell_type": "code",
   "execution_count": 20,
   "id": "9ed5051f",
   "metadata": {},
   "outputs": [],
   "source": [
    "n_data_points = 2400"
   ]
  },
  {
   "cell_type": "code",
   "execution_count": 21,
   "id": "43b61f22",
   "metadata": {},
   "outputs": [
    {
     "data": {
      "text/plain": [
       "21"
      ]
     },
     "execution_count": 21,
     "metadata": {},
     "output_type": "execute_result"
    }
   ],
   "source": [
    "len(accuracy_dsa_3)"
   ]
  },
  {
   "cell_type": "code",
   "execution_count": 22,
   "id": "cb15309c",
   "metadata": {},
   "outputs": [
    {
     "data": {
      "text/plain": [
       "20"
      ]
     },
     "execution_count": 22,
     "metadata": {},
     "output_type": "execute_result"
    }
   ],
   "source": [
    "num_models"
   ]
  },
  {
   "cell_type": "code",
   "execution_count": 23,
   "id": "e67df87a",
   "metadata": {},
   "outputs": [
    {
     "name": "stdout",
     "output_type": "stream",
     "text": [
      "21\n"
     ]
    },
    {
     "data": {
      "text/plain": [
       "[0,\n",
       " 2400,\n",
       " 4800,\n",
       " 7200,\n",
       " 9600,\n",
       " 12000,\n",
       " 14400,\n",
       " 16800,\n",
       " 19200,\n",
       " 21600,\n",
       " 24000,\n",
       " 26400,\n",
       " 28800,\n",
       " 31200,\n",
       " 33600,\n",
       " 36000,\n",
       " 38400,\n",
       " 40800,\n",
       " 43200,\n",
       " 45600,\n",
       " 47999]"
      ]
     },
     "execution_count": 23,
     "metadata": {},
     "output_type": "execute_result"
    }
   ],
   "source": [
    "#if(num_models>20):\n",
    "n_inputs = [n_data_points*i for i in range(num_models)]\n",
    "n_inputs.append(len(x_train_and_adversary))\n",
    "print(len(n_inputs))\n",
    "n_inputs"
   ]
  },
  {
   "cell_type": "code",
   "execution_count": null,
   "id": "3cd2cd2d",
   "metadata": {},
   "outputs": [],
   "source": []
  },
  {
   "cell_type": "code",
   "execution_count": 24,
   "id": "b484cf9a",
   "metadata": {},
   "outputs": [],
   "source": [
    "#save_dir = \"D:/aug_graphs/\"+dataset+\"/\"+config"
   ]
  },
  {
   "cell_type": "code",
   "execution_count": 28,
   "id": "04d02a6d",
   "metadata": {},
   "outputs": [],
   "source": [
    "linestyles = ['solid','dotted','dashed','dashed','dashdot','dashdot']\n",
    "colors =['b','g','r','c','m','k']"
   ]
  },
  {
   "cell_type": "code",
   "execution_count": 27,
   "id": "aa7b5e30",
   "metadata": {},
   "outputs": [
    {
     "name": "stdout",
     "output_type": "stream",
     "text": [
      "LSA\n",
      "47999 0.6532788872718811\n",
      "DSA\n",
      "14400 0.65986168384552\n",
      "DG\n",
      "33600 0.6523622870445251\n",
      "SE\n",
      "26400 0.6433630585670471\n",
      "RANDOM\n",
      "28800 0.6406132578849792\n",
      "NC\n",
      "45600 0.6356970071792603\n"
     ]
    },
    {
     "data": {
      "image/png": "[encoded data removed]",
      "text/plain": [
       "<Figure size 432x288 with 1 Axes>"
      ]
     },
     "metadata": {
      "needs_background": "light"
     },
     "output_type": "display_data"
    }
   ],
   "source": [
    "#adversarial jsma test set\n",
    "#configuration 3\n",
    "\"\"\"\n",
    "6) Incremental guided retraining starting from the original model using only the new adversarial inputs.\n",
    "Incremental training, starting with the previous trained model. Using at each iteration a subset of the new inputs.\n",
    "\"\"\"\n",
    "import matplotlib.pyplot as plt\n",
    "import matplotlib.patches as mpatches\n",
    "\n",
    "from matplotlib.patches import Patch\n",
    "from matplotlib.lines import Line2D\n",
    "\n",
    "plt.plot(n_inputs,accuracy_lsa_3,colors[0],linestyle=linestyles[0])\n",
    "plt.plot(n_inputs,accuracy_dsa_3,colors[1],linestyle=linestyles[1])\n",
    "plt.plot(n_inputs,accuracy_dg_3,colors[2],linestyle=linestyles[2])\n",
    "plt.plot(n_inputs,accuracy_se_3,colors[3],linestyle=linestyles[3])\n",
    "plt.plot(n_inputs,accuracy_random_3,colors[4],linestyle=linestyles[4])\n",
    "plt.plot(n_inputs,accuracy_nc_3,colors[5],linestyle=linestyles[5])\n",
    "\n",
    "\n",
    "legend_elements = [Line2D([0], [0], color=colors[0], label='LSA',ls = linestyles[0]),\n",
    "                   Line2D([0], [0], color=colors[1], label='DSA',ls = linestyles[1]),\n",
    "                   Line2D([0], [0], color=colors[2], label='dg',ls = linestyles[2]),\n",
    "                   Line2D([0], [0], color=colors[3], label='se',ls = linestyles[3]),\n",
    "                   Line2D([0], [0], color=colors[4], label='Random',ls = linestyles[4]),\n",
    "                   Line2D([0], [0], color=colors[5], label='NC',ls = linestyles[5])]\n",
    "\n",
    "\n",
    "\n",
    "plt.legend(handles=legend_elements)#\n",
    "#plt.title(\"Accuracy\")\n",
    "print(\"LSA\")\n",
    "print(n_inputs[np.argmax(accuracy_lsa_3)],accuracy_lsa_3.max())\n",
    "print(\"DSA\")\n",
    "print(n_inputs[np.argmax(accuracy_dsa_3)],accuracy_dsa_3.max())\n",
    "print(\"DG\")\n",
    "print(n_inputs[np.argmax(accuracy_dg_3)],accuracy_dg_3.max())\n",
    "print(\"SE\")\n",
    "print(n_inputs[np.argmax(accuracy_se_3)],accuracy_se_3.max())\n",
    "print(\"RANDOM\")\n",
    "print(n_inputs[np.argmax(accuracy_random_3)],accuracy_random_3.max())\n",
    "print(\"NC\")\n",
    "print(n_inputs[np.argmax(accuracy_nc_3)],accuracy_nc_3.max())\n",
    "\n",
    "plt.plot(n_inputs[np.argmax(accuracy_lsa_3)],accuracy_lsa_3.max(),'-bD',)\n",
    "plt.plot(n_inputs[np.argmax(accuracy_dsa_3)],accuracy_dsa_3.max(),'-go')\n",
    "plt.plot(n_inputs[np.argmax(accuracy_dg_3)],accuracy_dg_3.max(),'-r+')\n",
    "plt.plot(n_inputs[np.argmax(accuracy_se_3)],accuracy_se_3.max(),'-c*')\n",
    "plt.plot(n_inputs[np.argmax(accuracy_random_3)],accuracy_random_3.max(),'-mv')\n",
    "plt.plot(n_inputs[np.argmax(accuracy_nc_3)],accuracy_nc_3.max(),'-kp')\n",
    "\n",
    "plt.xlabel('Number of inputs')\n",
    "plt.ylabel('Accuracy')\n",
    "plt.xlim([0, len(x_train_and_adversary)])\n",
    "#plt.ylim([0.5, 0.8])\n",
    "\n",
    "plt.savefig(save_dir+\"/\"+dataset+\"_\"+config_lc+\"_\"+\"accuracy\" + \".svg\")\n",
    "\n",
    "plt.show()"
   ]
  },
  {
   "cell_type": "code",
   "execution_count": null,
   "id": "75c13967",
   "metadata": {},
   "outputs": [],
   "source": []
  }
 ],
 "metadata": {
  "kernelspec": {
   "display_name": "Python 3 (ipykernel)",
   "language": "python",
   "name": "python3"
  },
  "language_info": {
   "codemirror_mode": {
    "name": "ipython",
    "version": 3
   },
   "file_extension": ".py",
   "mimetype": "text/x-python",
   "name": "python",
   "nbconvert_exporter": "python",
   "pygments_lexer": "ipython3",
   "version": "3.9.7"
  }
 },
 "nbformat": 4,
 "nbformat_minor": 5
}
