{
 "cells": [
  {
   "cell_type": "code",
   "execution_count": 1,
   "id": "ad95d3c7",
   "metadata": {},
   "outputs": [],
   "source": [
    "import argparse\n",
    "\n",
    "import numpy as np\n",
    "import tensorflow as tf\n",
    "#import tensorflow.keras.backend as K\n",
    "\n",
    "import matplotlib.pyplot as plt\n",
    "\n",
    "#from keras.utils import np_utils\n",
    "#from keras.models import Sequential\n",
    "#from keras.layers import Dense, Dropout, Activation, Flatten, Conv2D, MaxPooling2D\n",
    "#from keras.regularizers import l2\n",
    "\n",
    "import glob\n",
    "import os\n",
    "import cv2\n",
    "import tensorflow.keras as keras\n",
    "\n",
    "\n",
    "import time\n",
    "import argparse\n",
    "\n",
    "from tqdm import tqdm\n",
    "\n",
    "from tensorflow.keras.models import load_model, Model\n"
   ]
  },
  {
   "cell_type": "code",
   "execution_count": 2,
   "id": "8d035d9c",
   "metadata": {},
   "outputs": [
    {
     "name": "stdout",
     "output_type": "stream",
     "text": [
      "D:\\guided-retraining\\utils\n"
     ]
    }
   ],
   "source": [
    "cd ../utils"
   ]
  },
  {
   "cell_type": "code",
   "execution_count": 3,
   "id": "5d1f761f",
   "metadata": {},
   "outputs": [
    {
     "name": "stdout",
     "output_type": "stream",
     "text": [
      "2.5.0\n",
      "keras\n",
      "2.5.0\n"
     ]
    }
   ],
   "source": [
    "import utils_guided_retraining2 as utils"
   ]
  },
  {
   "cell_type": "code",
   "execution_count": 4,
   "id": "37b911ae",
   "metadata": {},
   "outputs": [],
   "source": [
    "dataset = \"fashion\""
   ]
  },
  {
   "cell_type": "code",
   "execution_count": 5,
   "id": "5067d05c",
   "metadata": {},
   "outputs": [
    {
     "name": "stdout",
     "output_type": "stream",
     "text": [
      "D:/guided-retraining/data/fashion/x_test.npy\n",
      "x_set len:  7001\n",
      "D:/guided-retraining/data/fashion/y_test.npy\n",
      "y_set len:  7001\n"
     ]
    }
   ],
   "source": [
    "x_test,y_test = utils.get_data(dataset,\"Test\",True)"
   ]
  },
  {
   "cell_type": "code",
   "execution_count": 6,
   "id": "0fa4ca3a",
   "metadata": {},
   "outputs": [
    {
     "name": "stdout",
     "output_type": "stream",
     "text": [
      "D:/guided-retraining/data/data_adversarial_july/fashion/train_and_adversary.npy\n",
      "x_set len:  55998\n",
      "D:/guided-retraining/data/data_adversarial_july/fashion/train_and_adversary_labels.npy\n",
      "y_set len:  55998\n"
     ]
    }
   ],
   "source": [
    "x_train_and_adversary,y_train_and_adversary = utils.get_data(dataset,\"Train_and_adversary\",True)"
   ]
  },
  {
   "cell_type": "code",
   "execution_count": 7,
   "id": "98036191",
   "metadata": {},
   "outputs": [
    {
     "name": "stdout",
     "output_type": "stream",
     "text": [
      "D:/guided-retraining/data/data_adversarial_july/fashion/test_and_adversary.npy D:/guided-retraining/data/data_adversarial_july/fashion/test_and_adversary_labels.npy\n",
      "D:/guided-retraining/data/data_adversarial_july/fashion/test_and_adversary.npy\n",
      "x_set len:  14000\n",
      "D:/guided-retraining/data/data_adversarial_july/fashion/test_and_adversary_labels.npy\n",
      "y_set len:  14000\n"
     ]
    }
   ],
   "source": [
    "x_test_and_adversary,y_test_and_adversary = utils.get_adversarial_data(dataset,'Test_adversarial',True) "
   ]
  },
  {
   "cell_type": "code",
   "execution_count": 8,
   "id": "19d492ed",
   "metadata": {},
   "outputs": [],
   "source": [
    "\n",
    "model_dir = \"C:/Users/fjdur/Documents/upc-july/models/tf_model_25-06/\"\n",
    "if(dataset == 'gtsrb'):\n",
    "    model_dir = \"C:/Users/fjdur/Documents/upc-july/models/tf_model_25-06\"\n",
    "elif(dataset == 'intel'):\n",
    "    model_dir = \"C:/Users/fjdur/Documents/upc-july/models/intel_model_21_10\"\n",
    "elif(dataset == 'mnist'):\n",
    "    model_dir = \"C:/Users/fjdur/Documents/upc-july/models/models2\"\n",
    "elif(dataset == 'cifar'):\n",
    "    model_dir = \"C:/Users/fjdur/Documents/upc-july/models/model_02\"\n",
    "elif(dataset == 'fashion'):\n",
    "    model_dir = \"D:/guided-retraining/models/model_fashion_2\"\n"
   ]
  },
  {
   "cell_type": "code",
   "execution_count": 9,
   "id": "57c02559",
   "metadata": {},
   "outputs": [
    {
     "name": "stdout",
     "output_type": "stream",
     "text": [
      "D:/guided-retraining/models/model_fashion_2\n",
      "D:/guided-retraining/models/model_fashion_2\n",
      "Model loaded correctly\n"
     ]
    }
   ],
   "source": [
    "print(model_dir)\n",
    "model_original = utils.My_model(dataset,True, model_dir)"
   ]
  },
  {
   "cell_type": "code",
   "execution_count": 10,
   "id": "99db75a1",
   "metadata": {},
   "outputs": [],
   "source": [
    "data_dir = \"D:/models/aug_22\"\n",
    "\n",
    "config = \"C1\"\n",
    "config_lc = \"c1\"\n",
    "num_models = 20"
   ]
  },
  {
   "cell_type": "markdown",
   "id": "84bc1203",
   "metadata": {},
   "source": [
    "## Loading models"
   ]
  },
  {
   "cell_type": "code",
   "execution_count": 13,
   "id": "a79de2ac",
   "metadata": {},
   "outputs": [
    {
     "name": "stdout",
     "output_type": "stream",
     "text": [
      "D:/models/aug_22/fashion/C1/fashion_model_c1_may_lsa_e1_0\n",
      "Model loaded correctly\n",
      "D:/models/aug_22/fashion/C1/fashion_model_c1_may_lsa_e1_1\n",
      "Model loaded correctly\n",
      "D:/models/aug_22/fashion/C1/fashion_model_c1_may_lsa_e1_2\n",
      "Model loaded correctly\n",
      "D:/models/aug_22/fashion/C1/fashion_model_c1_may_lsa_e1_3\n",
      "Model loaded correctly\n",
      "D:/models/aug_22/fashion/C1/fashion_model_c1_may_lsa_e1_4\n",
      "Model loaded correctly\n",
      "D:/models/aug_22/fashion/C1/fashion_model_c1_may_lsa_e1_5\n",
      "Model loaded correctly\n",
      "D:/models/aug_22/fashion/C1/fashion_model_c1_may_lsa_e1_6\n",
      "Model loaded correctly\n",
      "D:/models/aug_22/fashion/C1/fashion_model_c1_may_lsa_e1_7\n",
      "Model loaded correctly\n",
      "D:/models/aug_22/fashion/C1/fashion_model_c1_may_lsa_e1_8\n",
      "Model loaded correctly\n",
      "D:/models/aug_22/fashion/C1/fashion_model_c1_may_lsa_e1_9\n",
      "Model loaded correctly\n",
      "D:/models/aug_22/fashion/C1/fashion_model_c1_may_lsa_e1_10\n",
      "Model loaded correctly\n",
      "D:/models/aug_22/fashion/C1/fashion_model_c1_may_lsa_e1_11\n",
      "Model loaded correctly\n",
      "D:/models/aug_22/fashion/C1/fashion_model_c1_may_lsa_e1_12\n",
      "Model loaded correctly\n",
      "D:/models/aug_22/fashion/C1/fashion_model_c1_may_lsa_e1_13\n",
      "Model loaded correctly\n",
      "D:/models/aug_22/fashion/C1/fashion_model_c1_may_lsa_e1_14\n",
      "Model loaded correctly\n",
      "D:/models/aug_22/fashion/C1/fashion_model_c1_may_lsa_e1_15\n",
      "Model loaded correctly\n",
      "D:/models/aug_22/fashion/C1/fashion_model_c1_may_lsa_e1_16\n",
      "Model loaded correctly\n",
      "D:/models/aug_22/fashion/C1/fashion_model_c1_may_lsa_e1_17\n",
      "Model loaded correctly\n",
      "D:/models/aug_22/fashion/C1/fashion_model_c1_may_lsa_e1_18\n",
      "Model loaded correctly\n",
      "D:/models/aug_22/fashion/C1/fashion_model_c1_may_lsa_e1_19\n",
      "Model loaded correctly\n"
     ]
    }
   ],
   "source": [
    "loading = True\n",
    "\n",
    "models_lsa = []\n",
    "\n",
    "if loading:\n",
    "    for i in range(num_models):\n",
    "        model_lsa_dir = data_dir+\"/\"+dataset+\"/C1_2/\"+dataset+\"_model_c1_may_lsa_e1_\"+str(i)\n",
    "        print(model_lsa_dir)\n",
    "        model =utils.My_model(dataset,True,model_lsa_dir)\n",
    "        model.model.compile(loss= 'categorical_crossentropy', optimizer = 'rmsprop', metrics = ['accuracy',tf.keras.metrics.Precision(), tf.keras.metrics.Recall()])\n",
    "        models_lsa.append(model)\n",
    "       \n",
    "    "
   ]
  },
  {
   "cell_type": "code",
   "execution_count": 14,
   "id": "1347e307",
   "metadata": {},
   "outputs": [
    {
     "data": {
      "text/plain": [
       "20"
      ]
     },
     "execution_count": 14,
     "metadata": {},
     "output_type": "execute_result"
    }
   ],
   "source": [
    "len(models_lsa)"
   ]
  },
  {
   "cell_type": "code",
   "execution_count": 13,
   "id": "e3ff7377",
   "metadata": {
    "scrolled": true
   },
   "outputs": [
    {
     "name": "stdout",
     "output_type": "stream",
     "text": [
      "D:/models/aug_22/fashion/C1_2/fashion_model_c1_may_dsa_e1_0\n",
      "Model loaded correctly\n",
      "D:/models/aug_22/fashion/C1_2/fashion_model_c1_may_dsa_e1_1\n",
      "Model loaded correctly\n",
      "D:/models/aug_22/fashion/C1_2/fashion_model_c1_may_dsa_e1_2\n",
      "Model loaded correctly\n",
      "D:/models/aug_22/fashion/C1_2/fashion_model_c1_may_dsa_e1_3\n",
      "Model loaded correctly\n",
      "D:/models/aug_22/fashion/C1_2/fashion_model_c1_may_dsa_e1_4\n",
      "Model loaded correctly\n",
      "D:/models/aug_22/fashion/C1_2/fashion_model_c1_may_dsa_e1_5\n",
      "Model loaded correctly\n",
      "D:/models/aug_22/fashion/C1_2/fashion_model_c1_may_dsa_e1_6\n",
      "Model loaded correctly\n",
      "D:/models/aug_22/fashion/C1_2/fashion_model_c1_may_dsa_e1_7\n",
      "Model loaded correctly\n",
      "D:/models/aug_22/fashion/C1_2/fashion_model_c1_may_dsa_e1_8\n",
      "Model loaded correctly\n",
      "D:/models/aug_22/fashion/C1_2/fashion_model_c1_may_dsa_e1_9\n",
      "Model loaded correctly\n",
      "D:/models/aug_22/fashion/C1_2/fashion_model_c1_may_dsa_e1_10\n",
      "Model loaded correctly\n",
      "D:/models/aug_22/fashion/C1_2/fashion_model_c1_may_dsa_e1_11\n",
      "Model loaded correctly\n",
      "D:/models/aug_22/fashion/C1_2/fashion_model_c1_may_dsa_e1_12\n",
      "Model loaded correctly\n",
      "D:/models/aug_22/fashion/C1_2/fashion_model_c1_may_dsa_e1_13\n",
      "Model loaded correctly\n",
      "D:/models/aug_22/fashion/C1_2/fashion_model_c1_may_dsa_e1_14\n",
      "Model loaded correctly\n",
      "D:/models/aug_22/fashion/C1_2/fashion_model_c1_may_dsa_e1_15\n",
      "Model loaded correctly\n",
      "D:/models/aug_22/fashion/C1_2/fashion_model_c1_may_dsa_e1_16\n",
      "Model loaded correctly\n",
      "D:/models/aug_22/fashion/C1_2/fashion_model_c1_may_dsa_e1_17\n",
      "Model loaded correctly\n",
      "D:/models/aug_22/fashion/C1_2/fashion_model_c1_may_dsa_e1_18\n",
      "Model loaded correctly\n",
      "D:/models/aug_22/fashion/C1_2/fashion_model_c1_may_dsa_e1_19\n",
      "Model loaded correctly\n"
     ]
    }
   ],
   "source": [
    "loading = True\n",
    "\n",
    "models_dsa = []\n",
    "\n",
    "if loading:\n",
    "    for i in range(num_models):\n",
    "        #model_dsa_dir = \"D:/models/gtsrb_models/C1/gtsrb_model_c1_sep_dsa_e2_\"+str(i)\n",
    "        model_dsa_dir = data_dir+\"/\"+dataset+\"/C1_2/\"+dataset+\"_model_c1_may_dsa_e1_\"+str(i)\n",
    "        print(model_dsa_dir)\n",
    "        model =utils.My_model(dataset,True,model_dsa_dir)\n",
    "        model.model.compile(loss= 'categorical_crossentropy', optimizer = 'rmsprop', metrics = ['accuracy',tf.keras.metrics.Precision(), tf.keras.metrics.Recall()])\n",
    "        models_dsa.append(model)\n",
    "       \n",
    "\n",
    "    "
   ]
  },
  {
   "cell_type": "code",
   "execution_count": 14,
   "id": "a716e996",
   "metadata": {
    "scrolled": true
   },
   "outputs": [
    {
     "name": "stdout",
     "output_type": "stream",
     "text": [
      "D:/models/aug_22/fashion/C1_2/fashion_model_c1_may_dg_e1_0\n",
      "Model loaded correctly\n",
      "D:/models/aug_22/fashion/C1_2/fashion_model_c1_may_dg_e1_1\n",
      "Model loaded correctly\n",
      "D:/models/aug_22/fashion/C1_2/fashion_model_c1_may_dg_e1_2\n",
      "Model loaded correctly\n",
      "D:/models/aug_22/fashion/C1_2/fashion_model_c1_may_dg_e1_3\n",
      "Model loaded correctly\n",
      "D:/models/aug_22/fashion/C1_2/fashion_model_c1_may_dg_e1_4\n",
      "Model loaded correctly\n",
      "D:/models/aug_22/fashion/C1_2/fashion_model_c1_may_dg_e1_5\n",
      "Model loaded correctly\n",
      "D:/models/aug_22/fashion/C1_2/fashion_model_c1_may_dg_e1_6\n",
      "Model loaded correctly\n",
      "D:/models/aug_22/fashion/C1_2/fashion_model_c1_may_dg_e1_7\n",
      "Model loaded correctly\n",
      "D:/models/aug_22/fashion/C1_2/fashion_model_c1_may_dg_e1_8\n",
      "Model loaded correctly\n",
      "D:/models/aug_22/fashion/C1_2/fashion_model_c1_may_dg_e1_9\n",
      "Model loaded correctly\n",
      "D:/models/aug_22/fashion/C1_2/fashion_model_c1_may_dg_e1_10\n",
      "Model loaded correctly\n",
      "D:/models/aug_22/fashion/C1_2/fashion_model_c1_may_dg_e1_11\n",
      "Model loaded correctly\n",
      "D:/models/aug_22/fashion/C1_2/fashion_model_c1_may_dg_e1_12\n",
      "Model loaded correctly\n",
      "D:/models/aug_22/fashion/C1_2/fashion_model_c1_may_dg_e1_13\n",
      "Model loaded correctly\n",
      "D:/models/aug_22/fashion/C1_2/fashion_model_c1_may_dg_e1_14\n",
      "Model loaded correctly\n",
      "D:/models/aug_22/fashion/C1_2/fashion_model_c1_may_dg_e1_15\n",
      "Model loaded correctly\n",
      "D:/models/aug_22/fashion/C1_2/fashion_model_c1_may_dg_e1_16\n",
      "Model loaded correctly\n",
      "D:/models/aug_22/fashion/C1_2/fashion_model_c1_may_dg_e1_17\n",
      "Model loaded correctly\n",
      "D:/models/aug_22/fashion/C1_2/fashion_model_c1_may_dg_e1_18\n",
      "Model loaded correctly\n",
      "D:/models/aug_22/fashion/C1_2/fashion_model_c1_may_dg_e1_19\n",
      "Model loaded correctly\n"
     ]
    }
   ],
   "source": [
    "loading = True\n",
    "\n",
    "models_dg = []\n",
    "\n",
    "if loading:\n",
    "    for i in range(num_models):\n",
    "        #model_dg_dir = \"D:/models/aug_22/gtsrb/C1/gtsrb_model_c1_aug_gn_e1_\"+str(i)\n",
    "        model_dg_dir = data_dir+\"/\"+dataset+\"/C1_2/\"+dataset+\"_model_c1_may_dg_e1_\"+str(i)\n",
    "        \n",
    "        print(model_dg_dir)\n",
    "        model =utils.My_model(dataset,True,model_dg_dir)\n",
    "        model.model.compile(loss= 'categorical_crossentropy', optimizer = 'rmsprop', metrics = ['accuracy',tf.keras.metrics.Precision(), tf.keras.metrics.Recall()])\n",
    "        models_dg.append(model)\n",
    "       \n",
    "    "
   ]
  },
  {
   "cell_type": "code",
   "execution_count": 15,
   "id": "a5a45e17",
   "metadata": {
    "scrolled": false
   },
   "outputs": [
    {
     "name": "stdout",
     "output_type": "stream",
     "text": [
      "D:/models/aug_22/fashion/C1_2/fashion_model_c1_may_se_e1_0\n",
      "Model loaded correctly\n",
      "D:/models/aug_22/fashion/C1_2/fashion_model_c1_may_se_e1_1\n",
      "Model loaded correctly\n",
      "D:/models/aug_22/fashion/C1_2/fashion_model_c1_may_se_e1_2\n",
      "Model loaded correctly\n",
      "D:/models/aug_22/fashion/C1_2/fashion_model_c1_may_se_e1_3\n",
      "Model loaded correctly\n",
      "D:/models/aug_22/fashion/C1_2/fashion_model_c1_may_se_e1_4\n",
      "Model loaded correctly\n",
      "D:/models/aug_22/fashion/C1_2/fashion_model_c1_may_se_e1_5\n",
      "Model loaded correctly\n",
      "D:/models/aug_22/fashion/C1_2/fashion_model_c1_may_se_e1_6\n",
      "Model loaded correctly\n",
      "D:/models/aug_22/fashion/C1_2/fashion_model_c1_may_se_e1_7\n",
      "Model loaded correctly\n",
      "D:/models/aug_22/fashion/C1_2/fashion_model_c1_may_se_e1_8\n",
      "Model loaded correctly\n",
      "D:/models/aug_22/fashion/C1_2/fashion_model_c1_may_se_e1_9\n",
      "Model loaded correctly\n",
      "D:/models/aug_22/fashion/C1_2/fashion_model_c1_may_se_e1_10\n",
      "Model loaded correctly\n",
      "D:/models/aug_22/fashion/C1_2/fashion_model_c1_may_se_e1_11\n",
      "Model loaded correctly\n",
      "D:/models/aug_22/fashion/C1_2/fashion_model_c1_may_se_e1_12\n",
      "Model loaded correctly\n",
      "D:/models/aug_22/fashion/C1_2/fashion_model_c1_may_se_e1_13\n",
      "Model loaded correctly\n",
      "D:/models/aug_22/fashion/C1_2/fashion_model_c1_may_se_e1_14\n",
      "Model loaded correctly\n",
      "D:/models/aug_22/fashion/C1_2/fashion_model_c1_may_se_e1_15\n",
      "Model loaded correctly\n",
      "D:/models/aug_22/fashion/C1_2/fashion_model_c1_may_se_e1_16\n",
      "Model loaded correctly\n",
      "D:/models/aug_22/fashion/C1_2/fashion_model_c1_may_se_e1_17\n",
      "Model loaded correctly\n",
      "D:/models/aug_22/fashion/C1_2/fashion_model_c1_may_se_e1_18\n",
      "Model loaded correctly\n",
      "D:/models/aug_22/fashion/C1_2/fashion_model_c1_may_se_e1_19\n",
      "Model loaded correctly\n"
     ]
    }
   ],
   "source": [
    "loading = True\n",
    "\n",
    "models_se = []\n",
    "\n",
    "if loading:\n",
    "    for i in range(num_models):\n",
    "        \n",
    "        model_se_dir = data_dir+\"/\"+dataset+\"/C1_2/\"+dataset+\"_model_c1_may_se_e1_\"+str(i)\n",
    "        \n",
    "        print(model_se_dir)\n",
    "        model =utils.My_model(dataset,True,model_se_dir)\n",
    "        model.model.compile(loss= 'categorical_crossentropy', optimizer = 'rmsprop', metrics = ['accuracy',tf.keras.metrics.Precision(), tf.keras.metrics.Recall()])\n",
    "        models_se.append(model)"
   ]
  },
  {
   "cell_type": "code",
   "execution_count": 18,
   "id": "a4ac1ede",
   "metadata": {},
   "outputs": [
    {
     "name": "stdout",
     "output_type": "stream",
     "text": [
      "D:/models/aug_22/fashion/C1/fashion_model_c1_may_random_e1_0\n",
      "Model loaded correctly\n",
      "D:/models/aug_22/fashion/C1/fashion_model_c1_may_random_e1_1\n",
      "Model loaded correctly\n",
      "D:/models/aug_22/fashion/C1/fashion_model_c1_may_random_e1_2\n",
      "Model loaded correctly\n",
      "D:/models/aug_22/fashion/C1/fashion_model_c1_may_random_e1_3\n",
      "Model loaded correctly\n",
      "D:/models/aug_22/fashion/C1/fashion_model_c1_may_random_e1_4\n",
      "Model loaded correctly\n",
      "D:/models/aug_22/fashion/C1/fashion_model_c1_may_random_e1_5\n",
      "Model loaded correctly\n",
      "D:/models/aug_22/fashion/C1/fashion_model_c1_may_random_e1_6\n",
      "Model loaded correctly\n",
      "D:/models/aug_22/fashion/C1/fashion_model_c1_may_random_e1_7\n",
      "Model loaded correctly\n",
      "D:/models/aug_22/fashion/C1/fashion_model_c1_may_random_e1_8\n",
      "Model loaded correctly\n",
      "D:/models/aug_22/fashion/C1/fashion_model_c1_may_random_e1_9\n",
      "Model loaded correctly\n",
      "D:/models/aug_22/fashion/C1/fashion_model_c1_may_random_e1_10\n",
      "Model loaded correctly\n",
      "D:/models/aug_22/fashion/C1/fashion_model_c1_may_random_e1_11\n",
      "Model loaded correctly\n",
      "D:/models/aug_22/fashion/C1/fashion_model_c1_may_random_e1_12\n",
      "Model loaded correctly\n",
      "D:/models/aug_22/fashion/C1/fashion_model_c1_may_random_e1_13\n",
      "Model loaded correctly\n",
      "D:/models/aug_22/fashion/C1/fashion_model_c1_may_random_e1_14\n",
      "Model loaded correctly\n",
      "D:/models/aug_22/fashion/C1/fashion_model_c1_may_random_e1_15\n",
      "Model loaded correctly\n",
      "D:/models/aug_22/fashion/C1/fashion_model_c1_may_random_e1_16\n",
      "Model loaded correctly\n",
      "D:/models/aug_22/fashion/C1/fashion_model_c1_may_random_e1_17\n",
      "Model loaded correctly\n",
      "D:/models/aug_22/fashion/C1/fashion_model_c1_may_random_e1_18\n",
      "Model loaded correctly\n",
      "D:/models/aug_22/fashion/C1/fashion_model_c1_may_random_e1_19\n",
      "Model loaded correctly\n"
     ]
    }
   ],
   "source": [
    "loading = True\n",
    "\n",
    "models_random = []\n",
    "\n",
    "if loading:\n",
    "    for i in range(num_models):\n",
    "        #model_random_dir = \"D:/models/aug_22/gtsrb/C1/gtsrb_model_c1_aug_random_e1_\"+str(i)\n",
    "        model_random_dir = data_dir+\"/\"+dataset+\"/C1/\"+dataset+\"_model_c1_may_random_e1_\"+str(i)\n",
    "        \n",
    "        print(model_random_dir)\n",
    "        model =utils.My_model(dataset,True,model_random_dir)\n",
    "        model.model.compile(loss= 'categorical_crossentropy', optimizer = 'rmsprop', metrics = ['accuracy',tf.keras.metrics.Precision(), tf.keras.metrics.Recall()])\n",
    "        models_random.append(model)\n",
    "       "
   ]
  },
  {
   "cell_type": "code",
   "execution_count": 19,
   "id": "f1b143c0",
   "metadata": {
    "scrolled": true
   },
   "outputs": [
    {
     "name": "stdout",
     "output_type": "stream",
     "text": [
      "D:/models/aug_22/fashion/C1/fashion_model_c1_may_nc_e1_0\n",
      "Model loaded correctly\n",
      "D:/models/aug_22/fashion/C1/fashion_model_c1_may_nc_e1_1\n",
      "Model loaded correctly\n",
      "D:/models/aug_22/fashion/C1/fashion_model_c1_may_nc_e1_2\n",
      "Model loaded correctly\n",
      "D:/models/aug_22/fashion/C1/fashion_model_c1_may_nc_e1_3\n",
      "Model loaded correctly\n",
      "D:/models/aug_22/fashion/C1/fashion_model_c1_may_nc_e1_4\n",
      "Model loaded correctly\n",
      "D:/models/aug_22/fashion/C1/fashion_model_c1_may_nc_e1_5\n",
      "Model loaded correctly\n",
      "D:/models/aug_22/fashion/C1/fashion_model_c1_may_nc_e1_6\n",
      "Model loaded correctly\n",
      "D:/models/aug_22/fashion/C1/fashion_model_c1_may_nc_e1_7\n",
      "Model loaded correctly\n",
      "D:/models/aug_22/fashion/C1/fashion_model_c1_may_nc_e1_8\n",
      "Model loaded correctly\n",
      "D:/models/aug_22/fashion/C1/fashion_model_c1_may_nc_e1_9\n",
      "Model loaded correctly\n",
      "D:/models/aug_22/fashion/C1/fashion_model_c1_may_nc_e1_10\n",
      "Model loaded correctly\n",
      "D:/models/aug_22/fashion/C1/fashion_model_c1_may_nc_e1_11\n",
      "Model loaded correctly\n",
      "D:/models/aug_22/fashion/C1/fashion_model_c1_may_nc_e1_12\n",
      "Model loaded correctly\n",
      "D:/models/aug_22/fashion/C1/fashion_model_c1_may_nc_e1_13\n",
      "Model loaded correctly\n",
      "D:/models/aug_22/fashion/C1/fashion_model_c1_may_nc_e1_14\n",
      "Model loaded correctly\n",
      "D:/models/aug_22/fashion/C1/fashion_model_c1_may_nc_e1_15\n",
      "Model loaded correctly\n",
      "D:/models/aug_22/fashion/C1/fashion_model_c1_may_nc_e1_16\n",
      "Model loaded correctly\n",
      "D:/models/aug_22/fashion/C1/fashion_model_c1_may_nc_e1_17\n",
      "Model loaded correctly\n",
      "D:/models/aug_22/fashion/C1/fashion_model_c1_may_nc_e1_18\n",
      "Model loaded correctly\n",
      "D:/models/aug_22/fashion/C1/fashion_model_c1_may_nc_e1_19\n",
      "Model loaded correctly\n"
     ]
    }
   ],
   "source": [
    "loading = True\n",
    "\n",
    "models_nc = []\n",
    "\n",
    "if loading:\n",
    "    for i in range(num_models):\n",
    "        #model_nc_dir = \"D:/models/aug_22/\"+dataset+\"/C1/\"+dataset+\"_model_c1_aug_nc_e1\"+str\n",
    "        model_nc_dir = data_dir+\"/\"+dataset+\"/C1/\"+dataset+\"_model_c1_may_nc_e1_\"+str(i)\n",
    "        print(model_nc_dir)\n",
    "        model =utils.My_model(dataset,True,model_nc_dir)\n",
    "        model.model.compile(loss= 'categorical_crossentropy', optimizer = 'rmsprop', metrics = ['accuracy',tf.keras.metrics.Precision(), tf.keras.metrics.Recall()])\n",
    "        models_nc.append(model)"
   ]
  },
  {
   "cell_type": "markdown",
   "id": "833fda77",
   "metadata": {},
   "source": [
    "## Evaluating"
   ]
  },
  {
   "cell_type": "code",
   "execution_count": 16,
   "id": "750bf683",
   "metadata": {},
   "outputs": [],
   "source": [
    "model_original.model.compile(loss= 'categorical_crossentropy', optimizer = 'rmsprop', metrics = ['accuracy',tf.keras.metrics.Precision(), tf.keras.metrics.Recall()])"
   ]
  },
  {
   "cell_type": "code",
   "execution_count": 17,
   "id": "4e0bd645",
   "metadata": {},
   "outputs": [],
   "source": [
    "#evaluate_lsa = []\n",
    "evaluate_dsa = []\n",
    "evaluate_dg = []\n",
    "evaluate_se = []\n",
    "#valuate_nc = []\n",
    "#valuate_random = []\n",
    "\n",
    "#valuate_lsa.append([0,0,0,0])\n",
    "evaluate_dsa.append([0,0,0,0])\n",
    "evaluate_dg.append([0,0,0,0])\n",
    "evaluate_se.append([0,0,0,0])\n",
    "#valuate_nc.append([0,0,0,0])\n",
    "#valuate_random.append([0,0,0,0])"
   ]
  },
  {
   "cell_type": "code",
   "execution_count": 18,
   "id": "d1355117",
   "metadata": {},
   "outputs": [
    {
     "name": "stdout",
     "output_type": "stream",
     "text": [
      "Evaluating for dsa\n",
      "438/438 [==============================] - 7s 14ms/step - loss: 0.5227 - accuracy: 0.8046 - precision: 0.8605 - recall: 0.7466\n",
      "438/438 [==============================] - 7s 14ms/step - loss: 0.4214 - accuracy: 0.8496 - precision_1: 0.8912 - recall_1: 0.8034\n",
      "438/438 [==============================] - 7s 14ms/step - loss: 0.3841 - accuracy: 0.8633 - precision_2: 0.8920 - recall_2: 0.8391\n",
      "438/438 [==============================] - 8s 15ms/step - loss: 0.3425 - accuracy: 0.8844 - precision_3: 0.9032 - recall_3: 0.8599\n",
      "438/438 [==============================] - 8s 14ms/step - loss: 0.3238 - accuracy: 0.8906 - precision_4: 0.9115 - recall_4: 0.8669\n",
      "438/438 [==============================] - 7s 14ms/step - loss: 0.3242 - accuracy: 0.8928 - precision_5: 0.9103 - recall_5: 0.8774\n",
      "438/438 [==============================] - 8s 15ms/step - loss: 0.3291 - accuracy: 0.8878 - precision_6: 0.9123 - recall_6: 0.8631\n",
      "438/438 [==============================] - 8s 15ms/step - loss: 0.3220 - accuracy: 0.8894 - precision_7: 0.9247 - recall_7: 0.8478\n",
      "438/438 [==============================] - 7s 14ms/step - loss: 0.3118 - accuracy: 0.8951 - precision_8: 0.9124 - recall_8: 0.8797\n",
      "438/438 [==============================] - 7s 14ms/step - loss: 0.2942 - accuracy: 0.9024 - precision_9: 0.9203 - recall_9: 0.8880\n",
      "438/438 [==============================] - 8s 15ms/step - loss: 0.3171 - accuracy: 0.8981 - precision_10: 0.9111 - recall_10: 0.8892\n",
      "438/438 [==============================] - 8s 15ms/step - loss: 0.2838 - accuracy: 0.9071 - precision_11: 0.9246 - recall_11: 0.8881\n",
      "438/438 [==============================] - 8s 16ms/step - loss: 0.3179 - accuracy: 0.9009 - precision_12: 0.9141 - recall_12: 0.8889: 3s - loss: 0.3033 - accuracy: 0.9028 - precision_12: 0.9160 - rec - ETA: 3s - loss: 0.3093 - accuracy: \n",
      "438/438 [==============================] - 8s 15ms/step - loss: 0.3154 - accuracy: 0.8926 - precision_13: 0.9097 - recall_13: 0.8774\n",
      "438/438 [==============================] - 8s 16ms/step - loss: 0.3210 - accuracy: 0.9023 - precision_14: 0.9127 - recall_14: 0.8947: 3s - loss: 0.3231 - accuracy:\n",
      "438/438 [==============================] - 8s 15ms/step - loss: 0.3197 - accuracy: 0.8962 - precision_15: 0.9343 - recall_15: 0.8515\n",
      "438/438 [==============================] - 8s 16ms/step - loss: 0.3407 - accuracy: 0.8954 - precision_16: 0.9381 - recall_16: 0.8298\n",
      "438/438 [==============================] - 8s 15ms/step - loss: 0.3684 - accuracy: 0.8944 - precision_17: 0.9048 - recall_17: 0.8835\n",
      " 69/438 [===>..........................] - ETA: 5s - loss: 0.3105 - accuracy: 0.9013 - precision_18: 0.9307 - recall_18: 0.8397"
     ]
    }
   ],
   "source": [
    "# Metrics using adversarial test\n",
    "\n",
    "#evaluate_lsa.append(model_original.evaluate(x_test_and_adversary,y_test_and_adversary))\n",
    "#evaluate_dsa.append(model_original.evaluate(x_test_and_adversary,y_test_and_adversary))\n",
    "#evaluate_nc.append(model_original.evaluate(x_test_and_adversary,y_test_and_adversary))\n",
    "#evaluate_random.append(model_original.evaluate(x_test_and_adversary,y_test_and_adversary))\n",
    "print(\"Evaluating for dsa\")\n",
    "for model in models_dsa:\n",
    "    evaluate_dsa.append(model.evaluate(x_test_and_adversary,y_test_and_adversary))\n",
    "\"\"\"\n",
    "print(\"Evaluating for lsa\")\n",
    "for model in models_lsa:\n",
    "    evaluate_lsa.append(model.evaluate(x_test_and_adversary,y_test_and_adversary))\n",
    "    \n",
    "\n",
    "print(\"Evaluating for random\")\n",
    "for model in models_random:\n",
    "    evaluate_random.append(model.evaluate(x_test_and_adversary,y_test_and_adversary))\n",
    "print(\"Evaluating for nc\")\n",
    "for model in models_nc:\n",
    "    evaluate_nc.append(model.evaluate(x_test_and_adversary,y_test_and_adversary))\n",
    "\"\"\""
   ]
  },
  {
   "cell_type": "code",
   "execution_count": 19,
   "id": "763ceacd",
   "metadata": {},
   "outputs": [],
   "source": [
    "print(\"Evaluating for dg\")\n",
    "for model in models_dg:\n",
    "    evaluate_dg.append(model.evaluate(x_test_and_adversary,y_test_and_adversary))\n",
    "    \n",
    "print(\"Evaluating for se\")\n",
    "for model in models_se:\n",
    "    evaluate_se.append(model.evaluate(x_test_and_adversary,y_test_and_adversary))\n"
   ]
  },
  {
   "cell_type": "code",
   "execution_count": 21,
   "id": "f1f34188",
   "metadata": {},
   "outputs": [],
   "source": [
    "len(evaluate_dg)"
   ]
  },
  {
   "cell_type": "code",
   "execution_count": 25,
   "id": "5dbabf04",
   "metadata": {},
   "outputs": [
    {
     "data": {
      "text/plain": [
       "21"
      ]
     },
     "execution_count": 25,
     "metadata": {},
     "output_type": "execute_result"
    }
   ],
   "source": [
    "len(evaluate_nc)"
   ]
  },
  {
   "cell_type": "code",
   "execution_count": 22,
   "id": "517d4d11",
   "metadata": {},
   "outputs": [],
   "source": [
    "import pandas as pd\n",
    "\n",
    "#df_evaluate_lsa = pd.DataFrame(np.array(evaluate_lsa),columns=[\"loss\",\"accuracy\",\"precision\",\"recall\"])\n",
    "df_evaluate_dsa = pd.DataFrame(np.array(evaluate_dsa),columns=[\"loss\",\"accuracy\",\"precision\",\"recall\"])\n",
    "df_evaluate_dg = pd.DataFrame(np.array(evaluate_dg),columns=[\"loss\",\"accuracy\",\"precision\",\"recall\"])\n",
    "df_evaluate_se = pd.DataFrame(np.array(evaluate_se),columns=[\"loss\",\"accuracy\",\"precision\",\"recall\"])\n",
    "\n",
    "#df_evaluate_random = pd.DataFrame(np.array(evaluate_random),columns=[\"loss\",\"accuracy\",\"precision\",\"recall\"])\n",
    "#df_evaluate_nc = pd.DataFrame(np.array(evaluate_nc),columns=[\"loss\",\"accuracy\",\"precision\",\"recall\"])\n"
   ]
  },
  {
   "cell_type": "code",
   "execution_count": 25,
   "id": "61cdc34d",
   "metadata": {},
   "outputs": [],
   "source": [
    "save_dir = \"D:/models/aug_22/\"+dataset+\"/csv_good/\"+config_lc"
   ]
  },
  {
   "cell_type": "code",
   "execution_count": 26,
   "id": "3371b191",
   "metadata": {},
   "outputs": [],
   "source": [
    "import pandas as pd\n",
    "loading_csv = True\n",
    "if(loading_csv):\n",
    "    \n",
    "    df_evaluate_lsa = pd.read_csv(save_dir+\"/lsa_\"+config_lc)\n",
    "    df_evaluate_dsa = pd.read_csv(save_dir+\"/dsa_\"+config_lc)\n",
    "    df_evaluate_dg = pd.read_csv(save_dir+\"/dg_\"+config_lc)\n",
    "    df_evaluate_se = pd.read_csv(save_dir+\"/se_\"+config_lc)\n",
    "    df_evaluate_random = pd.read_csv(save_dir+\"/random_\"+config_lc)\n",
    "    df_evaluate_nc = pd.read_csv(save_dir+\"/nc_\"+config_lc)\n",
    "    "
   ]
  },
  {
   "cell_type": "code",
   "execution_count": 14,
   "id": "1fa01b13",
   "metadata": {},
   "outputs": [],
   "source": [
    "import pandas as pd\n",
    "loading_csv_2 = True\n",
    "if(loading_csv_2):\n",
    "    save_dir_2 = \"D:/models/aug_22/\"+dataset+\"/csv/\"+config_lc\n",
    "    \n",
    "    df_evaluate_lsa = pd.read_csv(save_dir_2+\"/lsa_\"+config_lc)\n",
    "    #df_evaluate_dsa = pd.read_csv(save_dir_2+\"/dsa_\"+config_lc)\n",
    "    #df_evaluate_dg = pd.read_csv(save_dir_2+\"/dg_\"+config_lc)\n",
    "    #df_evaluate_se = pd.read_csv(save_dir_2+\"/se_\"+config_lc)\n",
    "    df_evaluate_random = pd.read_csv(save_dir_2+\"/random_\"+config_lc)\n",
    "    df_evaluate_nc = pd.read_csv(save_dir_2+\"/nc_\"+config_lc)\n",
    "    "
   ]
  },
  {
   "cell_type": "code",
   "execution_count": null,
   "id": "50aaf0aa",
   "metadata": {},
   "outputs": [],
   "source": []
  },
  {
   "cell_type": "code",
   "execution_count": null,
   "id": "071139f8",
   "metadata": {},
   "outputs": [],
   "source": []
  },
  {
   "cell_type": "code",
   "execution_count": 27,
   "id": "12e3edd4",
   "metadata": {},
   "outputs": [
    {
     "data": {
      "text/plain": [
       "'c1'"
      ]
     },
     "execution_count": 27,
     "metadata": {},
     "output_type": "execute_result"
    }
   ],
   "source": [
    "config_lc"
   ]
  },
  {
   "cell_type": "code",
   "execution_count": 27,
   "id": "0ac880db",
   "metadata": {},
   "outputs": [],
   "source": [
    "if(not loading_csv):\n",
    "    #df_evaluate_lsa.to_csv(save_dir+\"/lsa_\"+config_lc,index=False)\n",
    "    df_evaluate_dsa.to_csv(save_dir+\"/dsa_\"+config_lc,index=False)\n",
    "    df_evaluate_dg.to_csv(save_dir+\"/dg_\"+config_lc,index=False)\n",
    "    df_evaluate_se.to_csv(save_dir+\"/se_\"+config_lc,index=False)\n",
    "    #df_evaluate_random.to_csv(save_dir+\"/random_\"+config_lc,index=False)\n",
    "    #df_evaluate_nc.to_csv(save_dir+\"/nc_\"+config_lc,index=False)"
   ]
  },
  {
   "cell_type": "code",
   "execution_count": 28,
   "id": "890f3a71",
   "metadata": {},
   "outputs": [],
   "source": [
    "\n",
    "metric =\"accuracy\"\n",
    "#accuracy_lsa_3 = np.array(df_evaluate_lsa[metric])\n",
    "accuracy_dsa_3 = np.array(df_evaluate_dsa[metric])\n",
    "accuracy_dg_3 = np.array(df_evaluate_dg[metric])\n",
    "accuracy_se_3 = np.array(df_evaluate_se[metric])\n",
    "\n",
    "#accuracy_nc_3 =np.array(df_evaluate_nc[metric])\n",
    "#accuracy_random_3 = np.array(df_evaluate_random[metric])\n"
   ]
  },
  {
   "cell_type": "code",
   "execution_count": 29,
   "id": "1a8bae84",
   "metadata": {},
   "outputs": [],
   "source": [
    "\n",
    "metric =\"accuracy\"\n",
    "accuracy_lsa_3 = np.array(df_evaluate_lsa[metric])\n",
    "accuracy_dsa_3 = np.array(df_evaluate_dsa[metric])\n",
    "accuracy_dg_3 = np.array(df_evaluate_dg[metric])\n",
    "accuracy_se_3 = np.array(df_evaluate_se[metric])\n",
    "\n",
    "accuracy_nc_3 =np.array(df_evaluate_nc[metric])\n",
    "accuracy_random_3 = np.array(df_evaluate_random[metric])\n"
   ]
  },
  {
   "cell_type": "code",
   "execution_count": null,
   "id": "8024d77a",
   "metadata": {},
   "outputs": [],
   "source": []
  },
  {
   "cell_type": "code",
   "execution_count": 18,
   "id": "03c35db6",
   "metadata": {},
   "outputs": [],
   "source": [
    "n_data_points = 2800"
   ]
  },
  {
   "cell_type": "code",
   "execution_count": 19,
   "id": "8f14989c",
   "metadata": {},
   "outputs": [
    {
     "data": {
      "text/plain": [
       "21"
      ]
     },
     "execution_count": 19,
     "metadata": {},
     "output_type": "execute_result"
    }
   ],
   "source": [
    "len(accuracy_dsa_3)"
   ]
  },
  {
   "cell_type": "code",
   "execution_count": 20,
   "id": "5a1006eb",
   "metadata": {},
   "outputs": [
    {
     "name": "stdout",
     "output_type": "stream",
     "text": [
      "21\n"
     ]
    },
    {
     "data": {
      "text/plain": [
       "[0,\n",
       " 2800,\n",
       " 5600,\n",
       " 8400,\n",
       " 11200,\n",
       " 14000,\n",
       " 16800,\n",
       " 19600,\n",
       " 22400,\n",
       " 25200,\n",
       " 28000,\n",
       " 30800,\n",
       " 33600,\n",
       " 36400,\n",
       " 39200,\n",
       " 42000,\n",
       " 44800,\n",
       " 47600,\n",
       " 50400,\n",
       " 53200,\n",
       " 55998]"
      ]
     },
     "execution_count": 20,
     "metadata": {},
     "output_type": "execute_result"
    }
   ],
   "source": [
    "if(len(accuracy_dsa_3)>21):\n",
    "    n_inputs = [n_data_points*i for i in range(num_models+1)]\n",
    "else:\n",
    "    n_inputs = [n_data_points*i for i in range(num_models)]\n",
    "    \n",
    "n_inputs.append(len(x_train_and_adversary))\n",
    "print(len(n_inputs))\n",
    "n_inputs"
   ]
  },
  {
   "cell_type": "code",
   "execution_count": 21,
   "id": "7d87bbdc",
   "metadata": {},
   "outputs": [
    {
     "name": "stdout",
     "output_type": "stream",
     "text": [
      "21\n",
      "21\n"
     ]
    }
   ],
   "source": [
    "print(len(df_evaluate_dsa))\n",
    "print(len(n_inputs))"
   ]
  },
  {
   "cell_type": "code",
   "execution_count": 30,
   "id": "94dd0268",
   "metadata": {},
   "outputs": [],
   "source": [
    "save_dir = \"D:/models/aug_22/\"+dataset+\"/csv_good/\"+config"
   ]
  },
  {
   "cell_type": "code",
   "execution_count": 31,
   "id": "e661d375",
   "metadata": {},
   "outputs": [],
   "source": [
    "linestyles = ['solid','dotted','dashed','dashed','dashdot','dashdot']\n",
    "colors =['b','g','r','c','m','k']"
   ]
  },
  {
   "cell_type": "code",
   "execution_count": 23,
   "id": "125545fd",
   "metadata": {},
   "outputs": [
    {
     "name": "stdout",
     "output_type": "stream",
     "text": [
      "33600 0.9071428775787354\n",
      "44800 0.9035714268684388\n",
      "44800 0.9061428308486938\n"
     ]
    },
    {
     "data": {
      "image/png": "[encoded data removed]",
      "text/plain": [
       "<Figure size 432x288 with 1 Axes>"
      ]
     },
     "metadata": {
      "needs_background": "light"
     },
     "output_type": "display_data"
    }
   ],
   "source": [
    "#adversarial jsma test set\n",
    "#configuration 3\n",
    "\"\"\"\n",
    "6) Incremental guided retraining starting from the original model using only the new adversarial inputs.\n",
    "Incremental training, starting with the previous trained model. Using at each iteration a subset of the new inputs.\n",
    "\"\"\"\n",
    "import matplotlib.pyplot as plt\n",
    "import matplotlib.patches as mpatches\n",
    "\n",
    "from matplotlib.patches import Patch\n",
    "from matplotlib.lines import Line2D\n",
    "\n",
    "#plt.plot(n_inputs,accuracy_lsa_3,colors[0],linestyle=linestyles[0])\n",
    "plt.plot(n_inputs,accuracy_dsa_3,colors[1],linestyle=linestyles[1])\n",
    "plt.plot(n_inputs,accuracy_dg_3,colors[2],linestyle=linestyles[2])\n",
    "plt.plot(n_inputs,accuracy_se_3,colors[3],linestyle=linestyles[3])\n",
    "#plt.plot(n_inputs,accuracy_random_3,colors[4],linestyle=linestyles[4])\n",
    "#plt.plot(n_inputs,accuracy_nc_3,colors[5],linestyle=linestyles[5])\n",
    "\n",
    "\n",
    "legend_elements = [\n",
    "                    #Line2D([0], [0], color=colors[0], label='LSA',ls = linestyles[0]),\n",
    "                   Line2D([0], [0], color=colors[1], label='DSA',ls = linestyles[1]),\n",
    "                   Line2D([0], [0], color=colors[2], label='dg',ls = linestyles[2]),\n",
    "                   Line2D([0], [0], color=colors[3], label='se',ls = linestyles[3]),\n",
    "                   #Line2D([0], [0], color=colors[4], label='Random',ls = linestyles[4]),\n",
    "                   #Line2D([0], [0], color=colors[5], label='NC',ls = linestyles[5])\n",
    "                    ]\n",
    "\n",
    "\n",
    "\n",
    "plt.legend(handles=legend_elements)#\n",
    "#plt.title(\"Accuracy\")\n",
    "\n",
    "#print(n_inputs[np.argmax(accuracy_lsa_3)],accuracy_lsa_3.max())\n",
    "print(n_inputs[np.argmax(accuracy_dsa_3)],accuracy_dsa_3.max())\n",
    "print(n_inputs[np.argmax(accuracy_dg_3)],accuracy_dg_3.max())\n",
    "print(n_inputs[np.argmax(accuracy_se_3)],accuracy_se_3.max())\n",
    "#print(n_inputs[np.argmax(accuracy_random_3)],accuracy_random_3.max())\n",
    "#print(n_inputs[np.argmax(accuracy_nc_3)],accuracy_nc_3.max())\n",
    "\n",
    "#plt.plot(n_inputs[np.argmax(accuracy_lsa_3)],accuracy_lsa_3.max(),'-bD',)\n",
    "plt.plot(n_inputs[np.argmax(accuracy_dsa_3)],accuracy_dsa_3.max(),'-go')\n",
    "plt.plot(n_inputs[np.argmax(accuracy_dg_3)],accuracy_dg_3.max(),'-r+')\n",
    "plt.plot(n_inputs[np.argmax(accuracy_se_3)],accuracy_se_3.max(),'-c*')\n",
    "#plt.plot(n_inputs[np.argmax(accuracy_random_3)],accuracy_random_3.max(),'-mv')\n",
    "#plt.plot(n_inputs[np.argmax(accuracy_nc_3)],accuracy_nc_3.max(),'-kp')\n",
    "\n",
    "plt.xlabel('Number of inputs')\n",
    "plt.ylabel('Accuracy')\n",
    "plt.xlim([0, len(x_train_and_adversary)])\n",
    "plt.ylim([0, 1])\n",
    "\n",
    "plt.savefig(save_dir+\"/\"+dataset+\"_\"+config_lc+\"_\"+\"accuracy\" + \".svg\")\n",
    "\n",
    "plt.show()"
   ]
  },
  {
   "cell_type": "code",
   "execution_count": 26,
   "id": "3756c593",
   "metadata": {},
   "outputs": [
    {
     "name": "stdout",
     "output_type": "stream",
     "text": [
      "55998 0.9011428356170654\n",
      "33600 0.9071428775787354\n",
      "44800 0.9035714268684388\n",
      "44800 0.9061428308486938\n",
      "44800 0.9018571376800536\n",
      "47600 0.8929286003112793\n"
     ]
    },
    {
     "data": {
      "image/png": "[encoded data removed]",
      "text/plain": [
       "<Figure size 432x288 with 1 Axes>"
      ]
     },
     "metadata": {
      "needs_background": "light"
     },
     "output_type": "display_data"
    }
   ],
   "source": [
    "#adversarial jsma test set\n",
    "#configuration 3\n",
    "\"\"\"\n",
    "6) Incremental guided retraining starting from the original model using only the new adversarial inputs.\n",
    "Incremental training, starting with the previous trained model. Using at each iteration a subset of the new inputs.\n",
    "\"\"\"\n",
    "import matplotlib.pyplot as plt\n",
    "import matplotlib.patches as mpatches\n",
    "\n",
    "from matplotlib.patches import Patch\n",
    "from matplotlib.lines import Line2D\n",
    "\n",
    "plt.plot(n_inputs,accuracy_lsa_3,colors[0],linestyle=linestyles[0])\n",
    "plt.plot(n_inputs,accuracy_dsa_3,colors[1],linestyle=linestyles[1])\n",
    "plt.plot(n_inputs,accuracy_dg_3,colors[2],linestyle=linestyles[2])\n",
    "plt.plot(n_inputs,accuracy_se_3,colors[3],linestyle=linestyles[3])\n",
    "plt.plot(n_inputs,accuracy_random_3,colors[4],linestyle=linestyles[4])\n",
    "plt.plot(n_inputs,accuracy_nc_3,colors[5],linestyle=linestyles[5])\n",
    "\n",
    "\n",
    "legend_elements = [\n",
    "                    Line2D([0], [0], color=colors[0], label='LSA',ls = linestyles[0]),\n",
    "                   Line2D([0], [0], color=colors[1], label='DSA',ls = linestyles[1]),\n",
    "                   Line2D([0], [0], color=colors[2], label='dg',ls = linestyles[2]),\n",
    "                   Line2D([0], [0], color=colors[3], label='se',ls = linestyles[3]),\n",
    "                   Line2D([0], [0], color=colors[4], label='Random',ls = linestyles[4]),\n",
    "                   Line2D([0], [0], color=colors[5], label='NC',ls = linestyles[5])\n",
    "                    ]\n",
    "\n",
    "\n",
    "\n",
    "plt.legend(handles=legend_elements)#\n",
    "#plt.title(\"Accuracy\")\n",
    "\n",
    "print(n_inputs[np.argmax(accuracy_lsa_3)],accuracy_lsa_3.max())\n",
    "print(n_inputs[np.argmax(accuracy_dsa_3)],accuracy_dsa_3.max())\n",
    "print(n_inputs[np.argmax(accuracy_dg_3)],accuracy_dg_3.max())\n",
    "print(n_inputs[np.argmax(accuracy_se_3)],accuracy_se_3.max())\n",
    "print(n_inputs[np.argmax(accuracy_random_3)],accuracy_random_3.max())\n",
    "print(n_inputs[np.argmax(accuracy_nc_3)],accuracy_nc_3.max())\n",
    "\n",
    "plt.plot(n_inputs[np.argmax(accuracy_lsa_3)],accuracy_lsa_3.max(),'-bD',)\n",
    "plt.plot(n_inputs[np.argmax(accuracy_dsa_3)],accuracy_dsa_3.max(),'-go')\n",
    "plt.plot(n_inputs[np.argmax(accuracy_dg_3)],accuracy_dg_3.max(),'-r+')\n",
    "plt.plot(n_inputs[np.argmax(accuracy_se_3)],accuracy_se_3.max(),'-c*')\n",
    "plt.plot(n_inputs[np.argmax(accuracy_random_3)],accuracy_random_3.max(),'-mv')\n",
    "plt.plot(n_inputs[np.argmax(accuracy_nc_3)],accuracy_nc_3.max(),'-kp')\n",
    "\n",
    "plt.xlabel('Number of inputs')\n",
    "plt.ylabel('Accuracy')\n",
    "plt.xlim([0, len(x_train_and_adversary)])\n",
    "plt.ylim([0, 1])\n",
    "\n",
    "plt.savefig(save_dir+\"/\"+dataset+\"_\"+config_lc+\"_\"+\"accuracy\" + \".svg\")\n",
    "\n",
    "plt.show()"
   ]
  },
  {
   "cell_type": "code",
   "execution_count": 32,
   "id": "33fab49c",
   "metadata": {},
   "outputs": [
    {
     "name": "stdout",
     "output_type": "stream",
     "text": [
      "55998 0.9011428356170654\n",
      "33600 0.9071428775787354\n",
      "44800 0.9035714268684388\n",
      "44800 0.9061428308486938\n",
      "44800 0.9018571376800536\n",
      "47600 0.8929286003112793\n"
     ]
    },
    {
     "data": {
      "image/png": "[encoded data removed]",
      "text/plain": [
       "<Figure size 432x288 with 1 Axes>"
      ]
     },
     "metadata": {
      "needs_background": "light"
     },
     "output_type": "display_data"
    }
   ],
   "source": [
    "#adversarial jsma test set\n",
    "#configuration 3\n",
    "\"\"\"\n",
    "6) Incremental guided retraining starting from the original model using only the new adversarial inputs.\n",
    "Incremental training, starting with the previous trained model. Using at each iteration a subset of the new inputs.\n",
    "\"\"\"\n",
    "import matplotlib.pyplot as plt\n",
    "import matplotlib.patches as mpatches\n",
    "\n",
    "from matplotlib.patches import Patch\n",
    "from matplotlib.lines import Line2D\n",
    "\n",
    "plt.plot(n_inputs,accuracy_lsa_3,colors[0],linestyle=linestyles[0])\n",
    "plt.plot(n_inputs,accuracy_dsa_3,colors[1],linestyle=linestyles[1])\n",
    "plt.plot(n_inputs,accuracy_dg_3,colors[2],linestyle=linestyles[2])\n",
    "plt.plot(n_inputs,accuracy_se_3,colors[3],linestyle=linestyles[3])\n",
    "plt.plot(n_inputs,accuracy_random_3,colors[4],linestyle=linestyles[4])\n",
    "plt.plot(n_inputs,accuracy_nc_3,colors[5],linestyle=linestyles[5])\n",
    "\n",
    "\n",
    "legend_elements = [\n",
    "                    Line2D([0], [0], color=colors[0], label='LSA',ls = linestyles[0]),\n",
    "                   Line2D([0], [0], color=colors[1], label='DSA',ls = linestyles[1]),\n",
    "                   Line2D([0], [0], color=colors[2], label='dg',ls = linestyles[2]),\n",
    "                   Line2D([0], [0], color=colors[3], label='se',ls = linestyles[3]),\n",
    "                   Line2D([0], [0], color=colors[4], label='Random',ls = linestyles[4]),\n",
    "                   Line2D([0], [0], color=colors[5], label='NC',ls = linestyles[5])\n",
    "                    ]\n",
    "\n",
    "\n",
    "\n",
    "plt.legend(handles=legend_elements)#\n",
    "#plt.title(\"Accuracy\")\n",
    "\n",
    "print(n_inputs[np.argmax(accuracy_lsa_3)],accuracy_lsa_3.max())\n",
    "print(n_inputs[np.argmax(accuracy_dsa_3)],accuracy_dsa_3.max())\n",
    "print(n_inputs[np.argmax(accuracy_dg_3)],accuracy_dg_3.max())\n",
    "print(n_inputs[np.argmax(accuracy_se_3)],accuracy_se_3.max())\n",
    "print(n_inputs[np.argmax(accuracy_random_3)],accuracy_random_3.max())\n",
    "print(n_inputs[np.argmax(accuracy_nc_3)],accuracy_nc_3.max())\n",
    "\n",
    "plt.plot(n_inputs[np.argmax(accuracy_lsa_3)],accuracy_lsa_3.max(),'-bD',)\n",
    "plt.plot(n_inputs[np.argmax(accuracy_dsa_3)],accuracy_dsa_3.max(),'-go')\n",
    "plt.plot(n_inputs[np.argmax(accuracy_dg_3)],accuracy_dg_3.max(),'-r+')\n",
    "plt.plot(n_inputs[np.argmax(accuracy_se_3)],accuracy_se_3.max(),'-c*')\n",
    "plt.plot(n_inputs[np.argmax(accuracy_random_3)],accuracy_random_3.max(),'-mv')\n",
    "plt.plot(n_inputs[np.argmax(accuracy_nc_3)],accuracy_nc_3.max(),'-kp')\n",
    "\n",
    "plt.xlabel('Number of inputs')\n",
    "plt.ylabel('Accuracy')\n",
    "plt.xlim([0, len(x_train_and_adversary)])\n",
    "plt.ylim([0, 1])\n",
    "\n",
    "plt.savefig(save_dir+\"/\"+dataset+\"_\"+config_lc+\"_\"+\"accuracy\" + \".svg\")\n",
    "\n",
    "plt.show()"
   ]
  },
  {
   "cell_type": "code",
   "execution_count": null,
   "id": "09841214",
   "metadata": {},
   "outputs": [],
   "source": []
  }
 ],
 "metadata": {
  "kernelspec": {
   "display_name": "Python 3 (ipykernel)",
   "language": "python",
   "name": "python3"
  },
  "language_info": {
   "codemirror_mode": {
    "name": "ipython",
    "version": 3
   },
   "file_extension": ".py",
   "mimetype": "text/x-python",
   "name": "python",
   "nbconvert_exporter": "python",
   "pygments_lexer": "ipython3",
   "version": "3.9.6"
  }
 },
 "nbformat": 4,
 "nbformat_minor": 5
}
