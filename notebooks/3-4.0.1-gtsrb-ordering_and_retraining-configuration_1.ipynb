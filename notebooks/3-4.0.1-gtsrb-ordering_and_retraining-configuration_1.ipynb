{
 "cells": [
  {
   "cell_type": "markdown",
   "id": "f216e2a2",
   "metadata": {},
   "source": [
    "# Ordering by metrics and retraining phase\n",
    "\n",
    "## Dataset: GTSRB"
   ]
  },
  {
   "cell_type": "markdown",
   "id": "790af13b",
   "metadata": {},
   "source": [
    "## Experiment configuration 1\n",
    "- Date: 27/10/2021"
   ]
  },
  {
   "cell_type": "markdown",
   "id": "21a98552",
   "metadata": {},
   "source": [
    "## Configuration\n",
    "\t1. Incremental guided retraining starting from scratchusing the new adversarial inputs and original train-ing set"
   ]
  },
  {
   "cell_type": "code",
   "execution_count": null,
   "id": "90383afd",
   "metadata": {},
   "outputs": [],
   "source": [
    "pip install --user tensorflow==2.5"
   ]
  },
  {
   "cell_type": "code",
   "execution_count": null,
   "id": "f146072e",
   "metadata": {},
   "outputs": [],
   "source": []
  },
  {
   "cell_type": "code",
   "execution_count": 1,
   "id": "ce1386e9",
   "metadata": {},
   "outputs": [],
   "source": [
    "import argparse\n",
    "\n",
    "import numpy as np\n",
    "import tensorflow as tf\n",
    "import keras.backend as K\n",
    "\n",
    "import matplotlib.pyplot as plt\n",
    "\n",
    "from keras.utils import np_utils\n",
    "from keras.models import Sequential\n",
    "from keras.layers import Dense, Dropout, Activation, Flatten, Conv2D, MaxPooling2D\n",
    "from keras.regularizers import l2\n",
    "\n",
    "import glob\n",
    "import os\n",
    "import cv2\n",
    "import keras\n",
    "\n",
    "\n",
    "import time\n",
    "import argparse\n",
    "\n",
    "from tqdm import tqdm\n",
    "\n",
    "from keras.models import load_model, Model\n"
   ]
  },
  {
   "cell_type": "code",
   "execution_count": 2,
   "id": "aa0aa2b2",
   "metadata": {},
   "outputs": [
    {
     "data": {
      "text/plain": [
       "True"
      ]
     },
     "execution_count": 2,
     "metadata": {},
     "output_type": "execute_result"
    }
   ],
   "source": [
    "tf.__version__ == '2.5.0' # Version of tensorflow"
   ]
  },
  {
   "cell_type": "code",
   "execution_count": null,
   "id": "fa923a43",
   "metadata": {},
   "outputs": [],
   "source": [
    "cd '../utils'"
   ]
  },
  {
   "cell_type": "code",
   "execution_count": 3,
   "id": "723735cb",
   "metadata": {},
   "outputs": [],
   "source": [
    "# utils for project\n",
    "import utils_guided_retraining as utils"
   ]
  },
  {
   "cell_type": "code",
   "execution_count": null,
   "id": "1c6a307c",
   "metadata": {},
   "outputs": [],
   "source": [
    "cd '../notebooks/'"
   ]
  },
  {
   "cell_type": "code",
   "execution_count": 4,
   "id": "de1bd2cb",
   "metadata": {},
   "outputs": [],
   "source": [
    "dataset = \"gtsrb\""
   ]
  },
  {
   "cell_type": "code",
   "execution_count": 5,
   "id": "50c2b3f3",
   "metadata": {},
   "outputs": [],
   "source": [
    "x_train,y_train = utils.get_data(dataset,\"Train\")\n",
    "x_val,y_val = utils.get_data(dataset,\"Val\")\n",
    "x_test,y_test = utils.get_data(dataset,\"Test\")"
   ]
  },
  {
   "cell_type": "code",
   "execution_count": 6,
   "id": "e6f6f8a7",
   "metadata": {},
   "outputs": [],
   "source": [
    "x_train_and_adversary,y_train_and_adversary = utils.get_data(dataset,\"Train_and_adversary\")"
   ]
  },
  {
   "cell_type": "code",
   "execution_count": 7,
   "id": "53dcdf78",
   "metadata": {},
   "outputs": [
    {
     "name": "stdout",
     "output_type": "stream",
     "text": [
      "5000\n",
      "5000\n"
     ]
    }
   ],
   "source": [
    "x_adversary_training = x_train_and_adversary[len(x_train):]\n",
    "print(len(x_adversary_training))\n",
    "y_adversary_training = y_train_and_adversary[len(y_train):]\n",
    "\n",
    "print(len(y_adversary_training))"
   ]
  },
  {
   "cell_type": "code",
   "execution_count": 8,
   "id": "d8fd2c92",
   "metadata": {},
   "outputs": [],
   "source": [
    "# Obtaining adversarial examples for testing \n",
    "x_test_and_adversary,y_test_and_adversary = utils.get_adversarial_data(dataset,'Test_fgsm') "
   ]
  },
  {
   "cell_type": "code",
   "execution_count": 9,
   "id": "c27698e5",
   "metadata": {},
   "outputs": [
    {
     "name": "stdout",
     "output_type": "stream",
     "text": [
      "3923\n",
      "3923\n"
     ]
    }
   ],
   "source": [
    "x_adversary_test_fgsm = x_test_and_adversary[len(x_test):]\n",
    "print(len(x_adversary_test_fgsm))\n",
    "y_adversary_test_fgsm = y_test_and_adversary[len(y_test):]\n",
    "\n",
    "print(len(y_adversary_test_fgsm))"
   ]
  },
  {
   "cell_type": "markdown",
   "id": "becb4e3b",
   "metadata": {},
   "source": [
    "## ----"
   ]
  },
  {
   "cell_type": "code",
   "execution_count": 10,
   "id": "c1560941",
   "metadata": {},
   "outputs": [],
   "source": [
    "# Original model \n",
    "model_dir = \"C:/Users/fjdur/Desktop/upc/project_notebooks/github_project/DL_notebooks/models/tf_model_25-06\"\n"
   ]
  },
  {
   "cell_type": "code",
   "execution_count": 11,
   "id": "e5478616",
   "metadata": {},
   "outputs": [
    {
     "name": "stdout",
     "output_type": "stream",
     "text": [
      "Model loaded correctly\n"
     ]
    }
   ],
   "source": [
    "model_original = utils.My_model(dataset,True, model_dir)"
   ]
  },
  {
   "cell_type": "markdown",
   "id": "78edd1c7",
   "metadata": {},
   "source": [
    "## Obtaining new LSA and DSA values "
   ]
  },
  {
   "cell_type": "code",
   "execution_count": 11,
   "id": "dd62896d",
   "metadata": {},
   "outputs": [],
   "source": [
    "save_dir_lsa = \"C:/Users/fjdur/Desktop/upc/project_notebooks/github_project/DL_notebooks/SA_values/lsa_values_1.npy\"\n",
    " \n",
    "save_dir_dsa = \"C:/Users/fjdur/Desktop/upc/project_notebooks/github_project/DL_notebooks/SA_values/dsa_values_1.npy\"\n",
    "\n",
    "target_lsa = np.load(save_dir_lsa)\n",
    "target_dsa = np.load(save_dir_dsa)"
   ]
  },
  {
   "cell_type": "code",
   "execution_count": 12,
   "id": "cbe684c7",
   "metadata": {},
   "outputs": [],
   "source": [
    "lsa_values = target_lsa\n",
    "dsa_values = target_dsa"
   ]
  },
  {
   "cell_type": "code",
   "execution_count": 13,
   "id": "c0ec186e",
   "metadata": {},
   "outputs": [],
   "source": [
    "\n",
    "# Obtaining top n images by LSA values\n",
    "top_images_by_lsa = utils.get_x_of_indexes(list(np.flip(np.argsort(lsa_values))),x_train_and_adversary)\n",
    "top_labels_by_lsa = utils.get_x_of_indexes(list(np.flip(np.argsort(lsa_values))),y_train_and_adversary)\n"
   ]
  },
  {
   "cell_type": "code",
   "execution_count": 13,
   "id": "4a3451bf",
   "metadata": {},
   "outputs": [],
   "source": [
    "\n",
    "top_images_by_dsa = utils.get_x_of_indexes(list(np.flip(np.argsort(dsa_values))),x_train_and_adversary)\n",
    "top_labels_by_dsa = utils.get_x_of_indexes(list(np.flip(np.argsort(dsa_values))),y_train_and_adversary)\n"
   ]
  },
  {
   "cell_type": "code",
   "execution_count": 15,
   "id": "4b1edf1f",
   "metadata": {},
   "outputs": [
    {
     "data": {
      "text/plain": [
       "1818"
      ]
     },
     "execution_count": 15,
     "metadata": {},
     "output_type": "execute_result"
    }
   ],
   "source": [
    "len(top_images_by_lsa)//20"
   ]
  },
  {
   "cell_type": "code",
   "execution_count": 16,
   "id": "68180e9a",
   "metadata": {},
   "outputs": [
    {
     "data": {
      "text/plain": [
       "31366"
      ]
     },
     "execution_count": 16,
     "metadata": {},
     "output_type": "execute_result"
    }
   ],
   "source": [
    "len(x_train)"
   ]
  },
  {
   "cell_type": "code",
   "execution_count": 14,
   "id": "3bc51573",
   "metadata": {},
   "outputs": [
    {
     "name": "stdout",
     "output_type": "stream",
     "text": [
      "0 :\n",
      "0  ->  1800\n",
      "1800\n",
      "1 :\n",
      "0  ->  3600\n",
      "3600\n",
      "2 :\n",
      "0  ->  5400\n",
      "5400\n",
      "3 :\n",
      "0  ->  7200\n",
      "7200\n",
      "4 :\n",
      "0  ->  9000\n",
      "9000\n",
      "5 :\n",
      "0  ->  10800\n",
      "10800\n",
      "6 :\n",
      "0  ->  12600\n",
      "12600\n",
      "7 :\n",
      "0  ->  14400\n",
      "14400\n",
      "8 :\n",
      "0  ->  16200\n",
      "16200\n",
      "9 :\n",
      "0  ->  18000\n",
      "18000\n",
      "10 :\n",
      "0  ->  19800\n",
      "19800\n",
      "11 :\n",
      "0  ->  21600\n",
      "21600\n",
      "12 :\n",
      "0  ->  23400\n",
      "23400\n",
      "13 :\n",
      "0  ->  25200\n",
      "25200\n",
      "14 :\n",
      "0  ->  27000\n",
      "27000\n",
      "15 :\n",
      "0  ->  28800\n",
      "28800\n",
      "16 :\n",
      "0  ->  30600\n",
      "30600\n",
      "17 :\n",
      "0  ->  32400\n",
      "32400\n",
      "18 :\n",
      "0  ->  34200\n",
      "34200\n",
      "19 :\n",
      "Last\n",
      "0  ->  36366\n",
      "36366\n"
     ]
    }
   ],
   "source": [
    "m = 1800\n",
    "n = 0\n",
    "image_sets_lsa = []\n",
    "label_sets_lsa = []\n",
    "\n",
    "\n",
    "for i in range(len(top_images_by_lsa)//m):\n",
    "    print(i,\":\")\n",
    "    if (i+1 >= len(top_images_by_lsa)//m):\n",
    "        print(\"Last\")\n",
    "        print(0,\" -> \",n+m+(len(top_images_by_lsa)%m))\n",
    "        top_images_by_lsa_n = np.array(top_images_by_lsa[:n+m+(len(top_images_by_lsa)%m)])\n",
    "        top_labels_by_lsa_n = np.array(top_labels_by_lsa[:n+m+(len(top_images_by_lsa)%m)])\n",
    "    else:\n",
    "        print(0,\" -> \",m+n)\n",
    "        top_images_by_lsa_n = np.array(top_images_by_lsa[:n+m])\n",
    "        top_labels_by_lsa_n = np.array(top_labels_by_lsa[:n+m])\n",
    "    image_sets_lsa.append(top_images_by_lsa_n)\n",
    "    label_sets_lsa.append(top_labels_by_lsa_n)\n",
    "    print(len(top_images_by_lsa_n))\n",
    "    n += m\n",
    "\n"
   ]
  },
  {
   "cell_type": "markdown",
   "id": "ed06a68e",
   "metadata": {},
   "source": [
    "## point lsa"
   ]
  },
  {
   "cell_type": "code",
   "execution_count": null,
   "id": "532c3a68",
   "metadata": {},
   "outputs": [],
   "source": []
  },
  {
   "cell_type": "code",
   "execution_count": 15,
   "id": "daef1b47",
   "metadata": {},
   "outputs": [
    {
     "name": "stdout",
     "output_type": "stream",
     "text": [
      "C:/Users/fjdur/Desktop/upc/project_notebooks/github_project/DL_notebooks/models/tf_model_25-06\n",
      "0 :\n",
      "Model compiled\n",
      "1 :\n",
      "Model compiled\n",
      "2 :\n",
      "Model compiled\n",
      "3 :\n",
      "Model compiled\n",
      "4 :\n",
      "Model compiled\n",
      "5 :\n",
      "Model compiled\n",
      "6 :\n",
      "Model compiled\n",
      "7 :\n",
      "Model compiled\n",
      "8 :\n",
      "Model compiled\n",
      "9 :\n",
      "Model compiled\n",
      "10 :\n",
      "Model compiled\n",
      "11 :\n",
      "Model compiled\n",
      "12 :\n",
      "Model compiled\n",
      "13 :\n",
      "Model compiled\n",
      "14 :\n",
      "Model compiled\n",
      "15 :\n",
      "Model compiled\n",
      "16 :\n",
      "Model compiled\n",
      "17 :\n",
      "Model compiled\n",
      "18 :\n",
      "Model compiled\n",
      "19 :\n",
      "Model compiled\n"
     ]
    }
   ],
   "source": [
    "print(model_dir)\n",
    "\n",
    "models_lsa = []\n",
    "for i in range(len(label_sets_lsa)):\n",
    "    print(i,\":\")\n",
    "    model = utils.My_model(dataset,False,None)\n",
    "    model.compile_model()\n",
    "    models_lsa.append(model)\n"
   ]
  },
  {
   "cell_type": "code",
   "execution_count": 21,
   "id": "3665e51c",
   "metadata": {},
   "outputs": [
    {
     "name": "stdout",
     "output_type": "stream",
     "text": [
      "Epoch 1/10\n",
      "29/29 [==============================] - 43s 648ms/step - loss: 3.6413 - accuracy: 0.0798 - val_loss: 3.5525 - val_accuracy: 0.0574\n",
      "Epoch 2/10\n",
      "29/29 [==============================] - 18s 642ms/step - loss: 3.4355 - accuracy: 0.0802 - val_loss: 3.5225 - val_accuracy: 0.0788\n",
      "Epoch 3/10\n",
      "29/29 [==============================] - 17s 585ms/step - loss: 3.4150 - accuracy: 0.0764 - val_loss: 3.6726 - val_accuracy: 0.0684\n",
      "Epoch 4/10\n",
      "29/29 [==============================] - 17s 594ms/step - loss: 3.3297 - accuracy: 0.0985 - val_loss: 3.5138 - val_accuracy: 0.0628\n",
      "Epoch 5/10\n",
      "29/29 [==============================] - 17s 604ms/step - loss: 3.2925 - accuracy: 0.1267 - val_loss: 3.7942 - val_accuracy: 0.0709\n",
      "Epoch 6/10\n",
      "29/29 [==============================] - 18s 631ms/step - loss: 3.2865 - accuracy: 0.1404 - val_loss: 3.4672 - val_accuracy: 0.0791\n",
      "Epoch 7/10\n",
      "29/29 [==============================] - 18s 632ms/step - loss: 3.2392 - accuracy: 0.1248 - val_loss: 3.4511 - val_accuracy: 0.0911\n",
      "Epoch 8/10\n",
      "29/29 [==============================] - 18s 629ms/step - loss: 3.2149 - accuracy: 0.1242 - val_loss: 3.7078 - val_accuracy: 0.0799\n",
      "Epoch 9/10\n",
      "29/29 [==============================] - 20s 709ms/step - loss: 3.2189 - accuracy: 0.1422 - val_loss: 3.2531 - val_accuracy: 0.1054\n",
      "Epoch 10/10\n",
      "29/29 [==============================] - 17s 600ms/step - loss: 3.0004 - accuracy: 0.1566 - val_loss: 3.1896 - val_accuracy: 0.1776\n",
      "Duration: 0:03:25.605150\n"
     ]
    }
   ],
   "source": [
    "n = 0\n",
    "models_lsa[n].fit_model(image_sets_lsa[n],label_sets_lsa[n],x_val,y_val)\n",
    "n=n+1"
   ]
  },
  {
   "cell_type": "code",
   "execution_count": 22,
   "id": "c2f79099",
   "metadata": {},
   "outputs": [
    {
     "name": "stdout",
     "output_type": "stream",
     "text": [
      "Epoch 1/10\n",
      "57/57 [==============================] - 32s 503ms/step - loss: 3.6457 - accuracy: 0.0431 - val_loss: 3.5626 - val_accuracy: 0.0528\n",
      "Epoch 2/10\n",
      "57/57 [==============================] - 31s 547ms/step - loss: 3.5401 - accuracy: 0.0560 - val_loss: 3.4702 - val_accuracy: 0.0901\n",
      "Epoch 3/10\n",
      "57/57 [==============================] - 30s 519ms/step - loss: 3.4748 - accuracy: 0.0894 - val_loss: 3.3957 - val_accuracy: 0.0906\n",
      "Epoch 4/10\n",
      "57/57 [==============================] - 28s 492ms/step - loss: 3.4167 - accuracy: 0.0808 - val_loss: 3.4061 - val_accuracy: 0.0916\n",
      "Epoch 5/10\n",
      "57/57 [==============================] - 27s 484ms/step - loss: 3.3952 - accuracy: 0.0976 - val_loss: 3.1350 - val_accuracy: 0.1388\n",
      "Epoch 6/10\n",
      "57/57 [==============================] - 30s 527ms/step - loss: 3.1571 - accuracy: 0.1507 - val_loss: 2.5813 - val_accuracy: 0.3034\n",
      "Epoch 7/10\n",
      "57/57 [==============================] - 32s 557ms/step - loss: 2.6253 - accuracy: 0.2926 - val_loss: 2.0799 - val_accuracy: 0.4294\n",
      "Epoch 8/10\n",
      "57/57 [==============================] - 32s 566ms/step - loss: 2.2662 - accuracy: 0.3540 - val_loss: 1.7314 - val_accuracy: 0.4810\n",
      "Epoch 9/10\n",
      "57/57 [==============================] - 29s 517ms/step - loss: 1.9273 - accuracy: 0.4365 - val_loss: 1.4604 - val_accuracy: 0.5486\n",
      "Epoch 10/10\n",
      "57/57 [==============================] - 31s 541ms/step - loss: 1.6154 - accuracy: 0.5200 - val_loss: 1.0359 - val_accuracy: 0.6836\n",
      "Duration: 0:05:01.913482\n"
     ]
    }
   ],
   "source": [
    "n=1\n",
    "models_lsa[n].fit_model(image_sets_lsa[n],label_sets_lsa[n],x_val,y_val)\n",
    "n = n+1"
   ]
  },
  {
   "cell_type": "code",
   "execution_count": 23,
   "id": "d9f7fa66",
   "metadata": {},
   "outputs": [
    {
     "name": "stdout",
     "output_type": "stream",
     "text": [
      "2\n",
      "Epoch 1/10\n",
      "85/85 [==============================] - 47s 517ms/step - loss: 3.5899 - accuracy: 0.1398 - val_loss: 3.5702 - val_accuracy: 0.0283\n",
      "Epoch 2/10\n",
      "85/85 [==============================] - 45s 530ms/step - loss: 3.2886 - accuracy: 0.1828 - val_loss: 9.5081 - val_accuracy: 0.0283\n",
      "Epoch 3/10\n",
      "85/85 [==============================] - 43s 505ms/step - loss: 3.1489 - accuracy: 0.1796 - val_loss: 7.1030 - val_accuracy: 0.0388\n",
      "Epoch 4/10\n",
      "85/85 [==============================] - 44s 513ms/step - loss: 2.7406 - accuracy: 0.2878 - val_loss: 4.3823 - val_accuracy: 0.2090\n",
      "Epoch 5/10\n",
      "85/85 [==============================] - 39s 456ms/step - loss: 2.2878 - accuracy: 0.3881 - val_loss: 2.6984 - val_accuracy: 0.3488\n",
      "Epoch 6/10\n",
      "85/85 [==============================] - 47s 552ms/step - loss: 1.9336 - accuracy: 0.4582 - val_loss: 3.3731 - val_accuracy: 0.3588\n",
      "Epoch 7/10\n",
      "85/85 [==============================] - 42s 489ms/step - loss: 1.6472 - accuracy: 0.5302 - val_loss: 2.0897 - val_accuracy: 0.4261\n",
      "Epoch 8/10\n",
      "85/85 [==============================] - 43s 507ms/step - loss: 1.3885 - accuracy: 0.5896 - val_loss: 1.9906 - val_accuracy: 0.5106\n",
      "Epoch 9/10\n",
      "85/85 [==============================] - 43s 506ms/step - loss: 1.1441 - accuracy: 0.6618 - val_loss: 5.0350 - val_accuracy: 0.3983\n",
      "Epoch 10/10\n",
      "85/85 [==============================] - 40s 472ms/step - loss: 0.9290 - accuracy: 0.7277 - val_loss: 2.0445 - val_accuracy: 0.5871\n",
      "Duration: 0:07:12.402621\n"
     ]
    }
   ],
   "source": [
    "print(n)\n",
    "models_lsa[n].fit_model(image_sets_lsa[n],label_sets_lsa[n],x_val,y_val)\n",
    "n = n+1"
   ]
  },
  {
   "cell_type": "code",
   "execution_count": 24,
   "id": "a4586fc7",
   "metadata": {},
   "outputs": [
    {
     "name": "stdout",
     "output_type": "stream",
     "text": [
      "3\n",
      "Epoch 1/10\n",
      "113/113 [==============================] - 56s 473ms/step - loss: 3.5427 - accuracy: 0.1269 - val_loss: 4.7295 - val_accuracy: 0.0383\n",
      "Epoch 2/10\n",
      "113/113 [==============================] - 56s 496ms/step - loss: 2.9893 - accuracy: 0.1801 - val_loss: 5.0105 - val_accuracy: 0.0766\n",
      "Epoch 3/10\n",
      "113/113 [==============================] - 56s 497ms/step - loss: 2.4995 - accuracy: 0.3146 - val_loss: 3.6303 - val_accuracy: 0.2258\n",
      "Epoch 4/10\n",
      "113/113 [==============================] - 61s 537ms/step - loss: 1.8358 - accuracy: 0.5099 - val_loss: 2.6173 - val_accuracy: 0.3600\n",
      "Epoch 5/10\n",
      "113/113 [==============================] - 56s 491ms/step - loss: 1.4507 - accuracy: 0.6084 - val_loss: 2.3313 - val_accuracy: 0.4644\n",
      "Epoch 6/10\n",
      "113/113 [==============================] - 58s 514ms/step - loss: 1.1416 - accuracy: 0.6813 - val_loss: 2.8618 - val_accuracy: 0.4920\n",
      "Epoch 7/10\n",
      "113/113 [==============================] - 53s 465ms/step - loss: 0.9206 - accuracy: 0.7271 - val_loss: 2.4128 - val_accuracy: 0.5070\n",
      "Epoch 8/10\n",
      "113/113 [==============================] - 60s 532ms/step - loss: 0.7524 - accuracy: 0.7770 - val_loss: 1.7400 - val_accuracy: 0.5871\n",
      "Epoch 9/10\n",
      "113/113 [==============================] - 53s 470ms/step - loss: 0.6113 - accuracy: 0.8180 - val_loss: 4.1356 - val_accuracy: 0.4792\n",
      "Epoch 10/10\n",
      "113/113 [==============================] - 54s 478ms/step - loss: 0.4617 - accuracy: 0.8665 - val_loss: 1.6411 - val_accuracy: 0.5968\n",
      "Duration: 0:09:22.176428\n"
     ]
    }
   ],
   "source": [
    "print(n)\n",
    "models_lsa[n].fit_model(image_sets_lsa[n],label_sets_lsa[n],x_val,y_val)\n",
    "n = n+1"
   ]
  },
  {
   "cell_type": "code",
   "execution_count": 25,
   "id": "681edfc1",
   "metadata": {},
   "outputs": [
    {
     "name": "stdout",
     "output_type": "stream",
     "text": [
      "4\n",
      "Epoch 1/10\n",
      "141/141 [==============================] - 73s 482ms/step - loss: 3.4640 - accuracy: 0.1191 - val_loss: 6.5284 - val_accuracy: 0.0610\n",
      "Epoch 2/10\n",
      "141/141 [==============================] - 66s 467ms/step - loss: 2.6683 - accuracy: 0.2548 - val_loss: 5.1564 - val_accuracy: 0.1697\n",
      "Epoch 3/10\n",
      "141/141 [==============================] - 68s 481ms/step - loss: 1.8688 - accuracy: 0.4997 - val_loss: 2.9126 - val_accuracy: 0.3575\n",
      "Epoch 4/10\n",
      "141/141 [==============================] - 69s 489ms/step - loss: 1.2567 - accuracy: 0.6528 - val_loss: 1.5482 - val_accuracy: 0.5575\n",
      "Epoch 5/10\n",
      "141/141 [==============================] - 68s 480ms/step - loss: 0.9649 - accuracy: 0.7288 - val_loss: 2.4625 - val_accuracy: 0.5101\n",
      "Epoch 6/10\n",
      "141/141 [==============================] - 67s 474ms/step - loss: 0.7677 - accuracy: 0.7759 - val_loss: 1.6703 - val_accuracy: 0.6349\n",
      "Epoch 7/10\n",
      "141/141 [==============================] - 63s 450ms/step - loss: 0.5908 - accuracy: 0.8283 - val_loss: 0.7971 - val_accuracy: 0.7522\n",
      "Epoch 8/10\n",
      "141/141 [==============================] - 68s 484ms/step - loss: 0.4617 - accuracy: 0.8572 - val_loss: 0.9612 - val_accuracy: 0.7591\n",
      "Epoch 9/10\n",
      "141/141 [==============================] - 70s 498ms/step - loss: 0.3706 - accuracy: 0.8914 - val_loss: 0.6361 - val_accuracy: 0.8142\n",
      "Epoch 10/10\n",
      "141/141 [==============================] - 66s 471ms/step - loss: 0.3200 - accuracy: 0.9062 - val_loss: 0.7259 - val_accuracy: 0.8150\n",
      "Duration: 0:11:18.232945\n"
     ]
    }
   ],
   "source": [
    "print(n) #4\n",
    "models_lsa[n].fit_model(image_sets_lsa[n],label_sets_lsa[n],x_val,y_val)\n",
    "n = n+1"
   ]
  },
  {
   "cell_type": "code",
   "execution_count": 16,
   "id": "d6645eca",
   "metadata": {},
   "outputs": [
    {
     "name": "stdout",
     "output_type": "stream",
     "text": [
      "5\n",
      "Epoch 1/10\n",
      "169/169 [==============================] - 98s 451ms/step - loss: 3.4256 - accuracy: 0.1071 - val_loss: 4.4837 - val_accuracy: 0.0799\n",
      "Epoch 2/10\n",
      "169/169 [==============================] - 77s 457ms/step - loss: 2.3387 - accuracy: 0.3712 - val_loss: 3.0941 - val_accuracy: 0.2860\n",
      "Epoch 3/10\n",
      "169/169 [==============================] - 77s 454ms/step - loss: 1.3788 - accuracy: 0.6284 - val_loss: 3.6378 - val_accuracy: 0.3419\n",
      "Epoch 4/10\n",
      "169/169 [==============================] - 76s 451ms/step - loss: 0.9802 - accuracy: 0.7255 - val_loss: 2.6344 - val_accuracy: 0.4863\n",
      "Epoch 5/10\n",
      "169/169 [==============================] - 69s 408ms/step - loss: 0.6776 - accuracy: 0.8040 - val_loss: 1.5367 - val_accuracy: 0.6096\n",
      "Epoch 6/10\n",
      "169/169 [==============================] - 68s 403ms/step - loss: 0.5536 - accuracy: 0.8376 - val_loss: 2.4986 - val_accuracy: 0.5810\n",
      "Epoch 7/10\n",
      "169/169 [==============================] - 68s 404ms/step - loss: 0.4325 - accuracy: 0.8690 - val_loss: 2.1960 - val_accuracy: 0.6012\n",
      "Epoch 8/10\n",
      "169/169 [==============================] - 68s 403ms/step - loss: 0.3508 - accuracy: 0.8945 - val_loss: 1.2111 - val_accuracy: 0.7262\n",
      "Epoch 9/10\n",
      "169/169 [==============================] - 68s 405ms/step - loss: 0.3030 - accuracy: 0.9072 - val_loss: 1.0133 - val_accuracy: 0.7550\n",
      "Epoch 10/10\n",
      "169/169 [==============================] - 68s 401ms/step - loss: 0.2525 - accuracy: 0.9251 - val_loss: 1.3265 - val_accuracy: 0.7252\n",
      "Duration: 0:12:18.558216\n"
     ]
    }
   ],
   "source": [
    "n=5\n",
    "print(n)\n",
    "models_lsa[n].fit_model(image_sets_lsa[n],label_sets_lsa[n],x_val,y_val)\n",
    "n = n+1"
   ]
  },
  {
   "cell_type": "code",
   "execution_count": 17,
   "id": "bd1521fb",
   "metadata": {},
   "outputs": [
    {
     "name": "stdout",
     "output_type": "stream",
     "text": [
      "6\n",
      "Epoch 1/10\n",
      "197/197 [==============================] - 82s 400ms/step - loss: 3.4418 - accuracy: 0.0938 - val_loss: 4.3586 - val_accuracy: 0.0980\n",
      "Epoch 2/10\n",
      "197/197 [==============================] - 78s 398ms/step - loss: 2.5341 - accuracy: 0.3108 - val_loss: 2.1981 - val_accuracy: 0.4736\n",
      "Epoch 3/10\n",
      "197/197 [==============================] - 78s 394ms/step - loss: 1.2596 - accuracy: 0.6567 - val_loss: 1.7486 - val_accuracy: 0.5790\n",
      "Epoch 4/10\n",
      "197/197 [==============================] - 77s 393ms/step - loss: 0.7634 - accuracy: 0.7860 - val_loss: 1.1915 - val_accuracy: 0.7071\n",
      "Epoch 5/10\n",
      "197/197 [==============================] - 78s 394ms/step - loss: 0.5311 - accuracy: 0.8430 - val_loss: 0.8280 - val_accuracy: 0.7650\n",
      "Epoch 6/10\n",
      "197/197 [==============================] - 77s 393ms/step - loss: 0.3836 - accuracy: 0.8882 - val_loss: 0.5769 - val_accuracy: 0.8285\n",
      "Epoch 7/10\n",
      "197/197 [==============================] - 80s 405ms/step - loss: 0.3110 - accuracy: 0.9044 - val_loss: 0.3880 - val_accuracy: 0.8808\n",
      "Epoch 8/10\n",
      "197/197 [==============================] - 78s 398ms/step - loss: 0.2688 - accuracy: 0.9196 - val_loss: 0.5232 - val_accuracy: 0.8607\n",
      "Epoch 9/10\n",
      "197/197 [==============================] - 78s 397ms/step - loss: 0.2080 - accuracy: 0.9376 - val_loss: 0.8756 - val_accuracy: 0.8321\n",
      "Epoch 10/10\n",
      "197/197 [==============================] - 78s 397ms/step - loss: 0.1851 - accuracy: 0.9450 - val_loss: 0.3851 - val_accuracy: 0.8867\n",
      "Duration: 0:13:04.618220\n"
     ]
    }
   ],
   "source": [
    "print(n)\n",
    "models_lsa[n].fit_model(image_sets_lsa[n],label_sets_lsa[n],x_val,y_val)\n",
    "n = n+1"
   ]
  },
  {
   "cell_type": "code",
   "execution_count": 18,
   "id": "ec3ff3ad",
   "metadata": {},
   "outputs": [
    {
     "name": "stdout",
     "output_type": "stream",
     "text": [
      "7\n",
      "Epoch 1/10\n",
      "225/225 [==============================] - 92s 394ms/step - loss: 3.4575 - accuracy: 0.0931 - val_loss: 3.6927 - val_accuracy: 0.1618\n",
      "Epoch 2/10\n",
      "225/225 [==============================] - 89s 396ms/step - loss: 2.1918 - accuracy: 0.4221 - val_loss: 2.3331 - val_accuracy: 0.4384\n",
      "Epoch 3/10\n",
      "225/225 [==============================] - 89s 394ms/step - loss: 1.0812 - accuracy: 0.7011 - val_loss: 1.3903 - val_accuracy: 0.5879\n",
      "Epoch 4/10\n",
      "225/225 [==============================] - 88s 393ms/step - loss: 0.7174 - accuracy: 0.7905 - val_loss: 1.3888 - val_accuracy: 0.6252\n",
      "Epoch 5/10\n",
      "225/225 [==============================] - 88s 392ms/step - loss: 0.5102 - accuracy: 0.8503 - val_loss: 1.1099 - val_accuracy: 0.7224\n",
      "Epoch 6/10\n",
      "225/225 [==============================] - 88s 393ms/step - loss: 0.3873 - accuracy: 0.8828 - val_loss: 0.8452 - val_accuracy: 0.7637\n",
      "Epoch 7/10\n",
      "225/225 [==============================] - 88s 393ms/step - loss: 0.2973 - accuracy: 0.9126 - val_loss: 0.9468 - val_accuracy: 0.7872\n",
      "Epoch 8/10\n",
      "225/225 [==============================] - 88s 390ms/step - loss: 0.2557 - accuracy: 0.9241 - val_loss: 0.7587 - val_accuracy: 0.7915\n",
      "Epoch 9/10\n",
      "225/225 [==============================] - 87s 387ms/step - loss: 0.2002 - accuracy: 0.9388 - val_loss: 1.2545 - val_accuracy: 0.7897\n",
      "Epoch 10/10\n",
      "225/225 [==============================] - 87s 389ms/step - loss: 0.1748 - accuracy: 0.9488 - val_loss: 0.5019 - val_accuracy: 0.8688\n",
      "Duration: 0:14:44.760284\n"
     ]
    }
   ],
   "source": [
    "print(n)\n",
    "models_lsa[n].fit_model(image_sets_lsa[n],label_sets_lsa[n],x_val,y_val)\n",
    "n = n+1"
   ]
  },
  {
   "cell_type": "code",
   "execution_count": 19,
   "id": "514d4de3",
   "metadata": {},
   "outputs": [
    {
     "name": "stdout",
     "output_type": "stream",
     "text": [
      "8\n",
      "Epoch 1/10\n",
      "254/254 [==============================] - 101s 386ms/step - loss: 3.5002 - accuracy: 0.0884 - val_loss: 4.2552 - val_accuracy: 0.1248\n",
      "Epoch 2/10\n",
      "254/254 [==============================] - 100s 395ms/step - loss: 2.2660 - accuracy: 0.3858 - val_loss: 1.6152 - val_accuracy: 0.5777\n",
      "Epoch 3/10\n",
      "254/254 [==============================] - 98s 387ms/step - loss: 0.9457 - accuracy: 0.7310 - val_loss: 0.9960 - val_accuracy: 0.7208\n",
      "Epoch 4/10\n",
      "254/254 [==============================] - 98s 387ms/step - loss: 0.5764 - accuracy: 0.8273 - val_loss: 1.5355 - val_accuracy: 0.6522\n",
      "Epoch 5/10\n",
      "254/254 [==============================] - 98s 387ms/step - loss: 0.4012 - accuracy: 0.8805 - val_loss: 0.4594 - val_accuracy: 0.8523\n",
      "Epoch 6/10\n",
      "254/254 [==============================] - 98s 386ms/step - loss: 0.2879 - accuracy: 0.9133 - val_loss: 1.3482 - val_accuracy: 0.7364\n",
      "Epoch 7/10\n",
      "254/254 [==============================] - 98s 387ms/step - loss: 0.2397 - accuracy: 0.9258 - val_loss: 0.7529 - val_accuracy: 0.8025\n",
      "Epoch 8/10\n",
      "254/254 [==============================] - 98s 386ms/step - loss: 0.1821 - accuracy: 0.9462 - val_loss: 0.7239 - val_accuracy: 0.8227\n",
      "Epoch 9/10\n",
      "254/254 [==============================] - 98s 386ms/step - loss: 0.1495 - accuracy: 0.9551 - val_loss: 0.8289 - val_accuracy: 0.8403\n",
      "Epoch 10/10\n",
      "254/254 [==============================] - 98s 386ms/step - loss: 0.1350 - accuracy: 0.9582 - val_loss: 0.4784 - val_accuracy: 0.8791\n",
      "Duration: 0:16:26.729770\n"
     ]
    }
   ],
   "source": [
    "print(n)\n",
    "models_lsa[n].fit_model(image_sets_lsa[n],label_sets_lsa[n],x_val,y_val)\n",
    "n = n+1"
   ]
  },
  {
   "cell_type": "code",
   "execution_count": 20,
   "id": "1283b165",
   "metadata": {},
   "outputs": [
    {
     "name": "stdout",
     "output_type": "stream",
     "text": [
      "9\n",
      "Epoch 1/10\n",
      "282/282 [==============================] - 112s 387ms/step - loss: 3.5394 - accuracy: 0.0955 - val_loss: 2.7367 - val_accuracy: 0.2710\n",
      "Epoch 2/10\n",
      "282/282 [==============================] - 110s 391ms/step - loss: 1.6687 - accuracy: 0.5424 - val_loss: 1.1753 - val_accuracy: 0.6328\n",
      "Epoch 3/10\n",
      "282/282 [==============================] - 108s 385ms/step - loss: 0.7037 - accuracy: 0.7918 - val_loss: 1.0555 - val_accuracy: 0.6854\n",
      "Epoch 4/10\n",
      "282/282 [==============================] - 108s 384ms/step - loss: 0.4309 - accuracy: 0.8707 - val_loss: 0.8324 - val_accuracy: 0.7714\n",
      "Epoch 5/10\n",
      "282/282 [==============================] - 108s 383ms/step - loss: 0.3178 - accuracy: 0.8995 - val_loss: 0.5051 - val_accuracy: 0.8543\n",
      "Epoch 6/10\n",
      "282/282 [==============================] - 108s 384ms/step - loss: 0.2356 - accuracy: 0.9261 - val_loss: 0.2817 - val_accuracy: 0.9125\n",
      "Epoch 7/10\n",
      "282/282 [==============================] - 108s 383ms/step - loss: 0.1805 - accuracy: 0.9437 - val_loss: 0.2490 - val_accuracy: 0.9201\n",
      "Epoch 8/10\n",
      "282/282 [==============================] - 108s 383ms/step - loss: 0.1472 - accuracy: 0.9561 - val_loss: 0.2688 - val_accuracy: 0.9163\n",
      "Epoch 9/10\n",
      "282/282 [==============================] - 109s 386ms/step - loss: 0.1164 - accuracy: 0.9641 - val_loss: 0.4532 - val_accuracy: 0.8859\n",
      "Epoch 10/10\n",
      "282/282 [==============================] - 109s 385ms/step - loss: 0.1109 - accuracy: 0.9673 - val_loss: 0.2564 - val_accuracy: 0.9263\n",
      "Duration: 0:18:08.715620\n"
     ]
    }
   ],
   "source": [
    "print(n)#9\n",
    "models_lsa[n].fit_model(image_sets_lsa[n],label_sets_lsa[n],x_val,y_val)\n",
    "n = n+1"
   ]
  },
  {
   "cell_type": "code",
   "execution_count": 21,
   "id": "15778af4",
   "metadata": {},
   "outputs": [
    {
     "name": "stdout",
     "output_type": "stream",
     "text": [
      "Epoch 1/10\n",
      "310/310 [==============================] - 123s 387ms/step - loss: 3.4786 - accuracy: 0.1059 - val_loss: 2.1169 - val_accuracy: 0.4320\n",
      "Epoch 2/10\n",
      "310/310 [==============================] - 120s 388ms/step - loss: 1.3754 - accuracy: 0.6066 - val_loss: 1.1533 - val_accuracy: 0.6466\n",
      "Epoch 3/10\n",
      "310/310 [==============================] - 121s 389ms/step - loss: 0.6043 - accuracy: 0.8279 - val_loss: 0.8153 - val_accuracy: 0.7862\n",
      "Epoch 4/10\n",
      "310/310 [==============================] - 120s 388ms/step - loss: 0.3827 - accuracy: 0.8837 - val_loss: 0.4561 - val_accuracy: 0.8594\n",
      "Epoch 5/10\n",
      "310/310 [==============================] - 120s 386ms/step - loss: 0.2742 - accuracy: 0.9173 - val_loss: 0.3281 - val_accuracy: 0.8801\n",
      "Epoch 6/10\n",
      "310/310 [==============================] - 120s 386ms/step - loss: 0.2139 - accuracy: 0.9339 - val_loss: 0.4406 - val_accuracy: 0.8755\n",
      "Epoch 7/10\n",
      "310/310 [==============================] - 120s 388ms/step - loss: 0.1786 - accuracy: 0.9448 - val_loss: 0.3843 - val_accuracy: 0.9064\n",
      "Epoch 8/10\n",
      "310/310 [==============================] - 119s 385ms/step - loss: 0.1441 - accuracy: 0.9564 - val_loss: 0.1938 - val_accuracy: 0.9436\n",
      "Epoch 9/10\n",
      "310/310 [==============================] - 118s 382ms/step - loss: 0.1309 - accuracy: 0.9613 - val_loss: 0.2033 - val_accuracy: 0.9357\n",
      "Epoch 10/10\n",
      "310/310 [==============================] - 128s 414ms/step - loss: 0.1213 - accuracy: 0.9648 - val_loss: 0.1598 - val_accuracy: 0.9482\n",
      "Duration: 0:20:09.557102\n"
     ]
    }
   ],
   "source": [
    "## print(n)\n",
    "models_lsa[n].fit_model(image_sets_lsa[n],label_sets_lsa[n],x_val,y_val)\n",
    "n = n+1"
   ]
  },
  {
   "cell_type": "code",
   "execution_count": 22,
   "id": "fcc0bfc7",
   "metadata": {},
   "outputs": [
    {
     "name": "stdout",
     "output_type": "stream",
     "text": [
      "11\n",
      "Epoch 1/10\n",
      "338/338 [==============================] - 135s 388ms/step - loss: 3.5340 - accuracy: 0.0783 - val_loss: 3.6156 - val_accuracy: 0.1962\n",
      "Epoch 2/10\n",
      "338/338 [==============================] - 134s 397ms/step - loss: 1.9941 - accuracy: 0.4750 - val_loss: 1.4867 - val_accuracy: 0.6277\n",
      "Epoch 3/10\n",
      "338/338 [==============================] - 131s 387ms/step - loss: 0.6859 - accuracy: 0.8016 - val_loss: 0.9904 - val_accuracy: 0.7219\n",
      "Epoch 4/10\n",
      "338/338 [==============================] - 133s 393ms/step - loss: 0.3805 - accuracy: 0.8876 - val_loss: 1.0122 - val_accuracy: 0.7650\n",
      "Epoch 5/10\n",
      "338/338 [==============================] - 131s 387ms/step - loss: 0.2701 - accuracy: 0.9191 - val_loss: 0.4631 - val_accuracy: 0.8620\n",
      "Epoch 6/10\n",
      "338/338 [==============================] - 134s 397ms/step - loss: 0.2157 - accuracy: 0.9333 - val_loss: 0.6765 - val_accuracy: 0.8357\n",
      "Epoch 7/10\n",
      "338/338 [==============================] - 144s 425ms/step - loss: 0.1819 - accuracy: 0.9432 - val_loss: 0.3994 - val_accuracy: 0.8954\n",
      "Epoch 8/10\n",
      "338/338 [==============================] - 138s 408ms/step - loss: 0.1395 - accuracy: 0.9592 - val_loss: 0.3665 - val_accuracy: 0.9087\n",
      "Epoch 9/10\n",
      "338/338 [==============================] - 143s 423ms/step - loss: 0.1329 - accuracy: 0.9594 - val_loss: 0.7901 - val_accuracy: 0.8686\n",
      "Epoch 10/10\n",
      "338/338 [==============================] - 144s 426ms/step - loss: 0.1249 - accuracy: 0.9643 - val_loss: 0.2533 - val_accuracy: 0.9245\n",
      "Duration: 0:22:45.556532\n"
     ]
    }
   ],
   "source": [
    "print(n)\n",
    "models_lsa[n].fit_model(image_sets_lsa[n],label_sets_lsa[n],x_val,y_val)\n",
    "n = n+1"
   ]
  },
  {
   "cell_type": "code",
   "execution_count": 23,
   "id": "13facd5c",
   "metadata": {},
   "outputs": [
    {
     "name": "stdout",
     "output_type": "stream",
     "text": [
      "12\n",
      "Epoch 1/10\n",
      "366/366 [==============================] - 162s 429ms/step - loss: 3.5116 - accuracy: 0.0867 - val_loss: 2.5865 - val_accuracy: 0.3876\n",
      "Epoch 2/10\n",
      "366/366 [==============================] - 171s 467ms/step - loss: 1.5482 - accuracy: 0.5814 - val_loss: 1.0963 - val_accuracy: 0.6884\n",
      "Epoch 3/10\n",
      "366/366 [==============================] - 170s 464ms/step - loss: 0.5928 - accuracy: 0.8240 - val_loss: 0.8784 - val_accuracy: 0.7589\n",
      "Epoch 4/10\n",
      "366/366 [==============================] - 152s 415ms/step - loss: 0.3369 - accuracy: 0.8973 - val_loss: 0.4091 - val_accuracy: 0.8691\n",
      "Epoch 5/10\n",
      "366/366 [==============================] - 158s 433ms/step - loss: 0.2321 - accuracy: 0.9297 - val_loss: 0.4287 - val_accuracy: 0.8844\n",
      "Epoch 6/10\n",
      "366/366 [==============================] - 154s 421ms/step - loss: 0.1912 - accuracy: 0.9442 - val_loss: 0.2486 - val_accuracy: 0.9245\n",
      "Epoch 7/10\n",
      "366/366 [==============================] - 150s 410ms/step - loss: 0.1484 - accuracy: 0.9559 - val_loss: 0.2708 - val_accuracy: 0.9265\n",
      "Epoch 8/10\n",
      "366/366 [==============================] - 151s 414ms/step - loss: 0.1304 - accuracy: 0.9629 - val_loss: 0.2673 - val_accuracy: 0.9257\n",
      "Epoch 9/10\n",
      "366/366 [==============================] - 158s 431ms/step - loss: 0.1120 - accuracy: 0.9677 - val_loss: 0.3487 - val_accuracy: 0.9204\n",
      "Epoch 10/10\n",
      "366/366 [==============================] - 153s 418ms/step - loss: 0.1054 - accuracy: 0.9693 - val_loss: 0.3294 - val_accuracy: 0.9275\n",
      "Duration: 0:26:19.207679\n"
     ]
    }
   ],
   "source": [
    "print(n)\n",
    "models_lsa[n].fit_model(image_sets_lsa[n],label_sets_lsa[n],x_val,y_val)\n",
    "n = n+1"
   ]
  },
  {
   "cell_type": "code",
   "execution_count": 24,
   "id": "ad7f0043",
   "metadata": {},
   "outputs": [
    {
     "name": "stdout",
     "output_type": "stream",
     "text": [
      "13\n",
      "Epoch 1/10\n",
      "394/394 [==============================] - 162s 403ms/step - loss: 3.5235 - accuracy: 0.0726 - val_loss: 3.5025 - val_accuracy: 0.1296\n",
      "Epoch 2/10\n",
      "394/394 [==============================] - 158s 400ms/step - loss: 2.2508 - accuracy: 0.4077 - val_loss: 0.8792 - val_accuracy: 0.7443\n",
      "Epoch 3/10\n",
      "394/394 [==============================] - 163s 414ms/step - loss: 0.5552 - accuracy: 0.8337 - val_loss: 0.4156 - val_accuracy: 0.8617\n",
      "Epoch 4/10\n",
      "394/394 [==============================] - 174s 442ms/step - loss: 0.2845 - accuracy: 0.9158 - val_loss: 0.2741 - val_accuracy: 0.9245\n",
      "Epoch 5/10\n",
      "394/394 [==============================] - 168s 426ms/step - loss: 0.1955 - accuracy: 0.9409 - val_loss: 0.2429 - val_accuracy: 0.9217\n",
      "Epoch 6/10\n",
      "394/394 [==============================] - 164s 417ms/step - loss: 0.1500 - accuracy: 0.9556 - val_loss: 0.4540 - val_accuracy: 0.8949\n",
      "Epoch 7/10\n",
      "394/394 [==============================] - 165s 418ms/step - loss: 0.1353 - accuracy: 0.9629 - val_loss: 0.5038 - val_accuracy: 0.8974\n",
      "Epoch 8/10\n",
      "394/394 [==============================] - 162s 412ms/step - loss: 0.1189 - accuracy: 0.9671 - val_loss: 0.7803 - val_accuracy: 0.8877\n",
      "Epoch 9/10\n",
      "394/394 [==============================] - 164s 416ms/step - loss: 0.1016 - accuracy: 0.9696 - val_loss: 0.3463 - val_accuracy: 0.9196\n",
      "Epoch 10/10\n",
      "394/394 [==============================] - 166s 421ms/step - loss: 0.0990 - accuracy: 0.9717 - val_loss: 0.2966 - val_accuracy: 0.9349\n",
      "Duration: 0:27:25.967900\n"
     ]
    }
   ],
   "source": [
    "print(n)\n",
    "models_lsa[n].fit_model(image_sets_lsa[n],label_sets_lsa[n],x_val,y_val)\n",
    "n = n+1"
   ]
  },
  {
   "cell_type": "code",
   "execution_count": 25,
   "id": "419551ee",
   "metadata": {},
   "outputs": [
    {
     "name": "stdout",
     "output_type": "stream",
     "text": [
      "14\n",
      "Epoch 1/10\n",
      "422/422 [==============================] - 168s 389ms/step - loss: 3.4978 - accuracy: 0.0973 - val_loss: 2.1476 - val_accuracy: 0.5267\n",
      "Epoch 2/10\n",
      "422/422 [==============================] - 163s 386ms/step - loss: 1.1229 - accuracy: 0.6874 - val_loss: 0.5893 - val_accuracy: 0.8165\n",
      "Epoch 3/10\n",
      "422/422 [==============================] - 163s 385ms/step - loss: 0.4197 - accuracy: 0.8780 - val_loss: 0.3679 - val_accuracy: 0.8880\n",
      "Epoch 4/10\n",
      "422/422 [==============================] - 162s 384ms/step - loss: 0.2557 - accuracy: 0.9258 - val_loss: 0.3829 - val_accuracy: 0.8910\n",
      "Epoch 5/10\n",
      "422/422 [==============================] - 161s 382ms/step - loss: 0.1921 - accuracy: 0.9433 - val_loss: 0.2700 - val_accuracy: 0.9166\n",
      "Epoch 6/10\n",
      "422/422 [==============================] - 160s 379ms/step - loss: 0.1501 - accuracy: 0.9553 - val_loss: 0.3025 - val_accuracy: 0.9148\n",
      "Epoch 7/10\n",
      "422/422 [==============================] - 160s 380ms/step - loss: 0.1216 - accuracy: 0.9646 - val_loss: 0.3493 - val_accuracy: 0.9166\n",
      "Epoch 8/10\n",
      "422/422 [==============================] - 160s 379ms/step - loss: 0.1102 - accuracy: 0.9661 - val_loss: 0.2802 - val_accuracy: 0.9265\n",
      "Epoch 9/10\n",
      "422/422 [==============================] - 160s 378ms/step - loss: 0.1083 - accuracy: 0.9714 - val_loss: 0.3338 - val_accuracy: 0.9352\n",
      "Epoch 10/10\n",
      "422/422 [==============================] - 160s 379ms/step - loss: 0.0977 - accuracy: 0.9740 - val_loss: 0.5812 - val_accuracy: 0.9268\n",
      "Duration: 0:26:56.868513\n"
     ]
    }
   ],
   "source": [
    "print(n)#14\n",
    "models_lsa[n].fit_model(image_sets_lsa[n],label_sets_lsa[n],x_val,y_val)\n",
    "n = n+1"
   ]
  },
  {
   "cell_type": "code",
   "execution_count": 16,
   "id": "60f36b0b",
   "metadata": {},
   "outputs": [
    {
     "name": "stdout",
     "output_type": "stream",
     "text": [
      "15\n",
      "Epoch 1/10\n",
      "450/450 [==============================] - 201s 397ms/step - loss: 3.4533 - accuracy: 0.0898 - val_loss: 1.8210 - val_accuracy: 0.5624\n",
      "Epoch 2/10\n",
      "450/450 [==============================] - 177s 394ms/step - loss: 1.0837 - accuracy: 0.6876 - val_loss: 0.4896 - val_accuracy: 0.8714\n",
      "Epoch 3/10\n",
      "450/450 [==============================] - 169s 375ms/step - loss: 0.3595 - accuracy: 0.8945 - val_loss: 0.4014 - val_accuracy: 0.9041\n",
      "Epoch 4/10\n",
      "450/450 [==============================] - 169s 375ms/step - loss: 0.2248 - accuracy: 0.9327 - val_loss: 0.2887 - val_accuracy: 0.9257\n",
      "Epoch 5/10\n",
      "450/450 [==============================] - 168s 374ms/step - loss: 0.1682 - accuracy: 0.9521 - val_loss: 0.1903 - val_accuracy: 0.9456\n",
      "Epoch 6/10\n",
      "450/450 [==============================] - 168s 374ms/step - loss: 0.1419 - accuracy: 0.9562 - val_loss: 0.3094 - val_accuracy: 0.9324\n",
      "Epoch 7/10\n",
      "450/450 [==============================] - 168s 373ms/step - loss: 0.1158 - accuracy: 0.9667 - val_loss: 0.2679 - val_accuracy: 0.9416\n",
      "Epoch 8/10\n",
      "450/450 [==============================] - 168s 374ms/step - loss: 0.1151 - accuracy: 0.9683 - val_loss: 0.2907 - val_accuracy: 0.9434\n",
      "Epoch 9/10\n",
      "450/450 [==============================] - 168s 373ms/step - loss: 0.1046 - accuracy: 0.9716 - val_loss: 0.1245 - val_accuracy: 0.9694\n",
      "Epoch 10/10\n",
      "450/450 [==============================] - 168s 373ms/step - loss: 0.0988 - accuracy: 0.9742 - val_loss: 0.2222 - val_accuracy: 0.9553\n",
      "Duration: 0:28:44.744833\n"
     ]
    }
   ],
   "source": [
    "n=15\n",
    "print(n)\n",
    "models_lsa[n].fit_model(image_sets_lsa[n],label_sets_lsa[n],x_val,y_val)\n",
    "n = n+1"
   ]
  },
  {
   "cell_type": "code",
   "execution_count": 17,
   "id": "b0203db1",
   "metadata": {},
   "outputs": [
    {
     "name": "stdout",
     "output_type": "stream",
     "text": [
      "16\n",
      "Epoch 1/10\n",
      "479/479 [==============================] - 182s 375ms/step - loss: 3.4623 - accuracy: 0.0907 - val_loss: 1.6415 - val_accuracy: 0.5537\n",
      "Epoch 2/10\n",
      "479/479 [==============================] - 180s 376ms/step - loss: 1.1914 - accuracy: 0.6436 - val_loss: 0.2936 - val_accuracy: 0.9212\n",
      "Epoch 3/10\n",
      "479/479 [==============================] - 180s 376ms/step - loss: 0.3607 - accuracy: 0.8909 - val_loss: 1.0117 - val_accuracy: 0.7272\n",
      "Epoch 4/10\n",
      "479/479 [==============================] - 180s 375ms/step - loss: 0.2245 - accuracy: 0.9337 - val_loss: 0.3347 - val_accuracy: 0.9023\n",
      "Epoch 5/10\n",
      "479/479 [==============================] - 180s 375ms/step - loss: 0.1653 - accuracy: 0.9518 - val_loss: 0.1981 - val_accuracy: 0.9418\n",
      "Epoch 6/10\n",
      "479/479 [==============================] - 179s 374ms/step - loss: 0.1346 - accuracy: 0.9637 - val_loss: 0.3113 - val_accuracy: 0.9408\n",
      "Epoch 7/10\n",
      "479/479 [==============================] - 179s 375ms/step - loss: 0.1099 - accuracy: 0.9693 - val_loss: 0.3147 - val_accuracy: 0.9393\n",
      "Epoch 8/10\n",
      "479/479 [==============================] - 179s 375ms/step - loss: 0.1206 - accuracy: 0.9676 - val_loss: 0.2048 - val_accuracy: 0.9559\n",
      "Epoch 9/10\n",
      "479/479 [==============================] - 179s 375ms/step - loss: 0.0986 - accuracy: 0.9736 - val_loss: 0.2720 - val_accuracy: 0.9482\n",
      "Epoch 10/10\n",
      "479/479 [==============================] - 179s 373ms/step - loss: 0.1124 - accuracy: 0.9704 - val_loss: 0.2515 - val_accuracy: 0.9597\n",
      "Duration: 0:29:58.628907\n"
     ]
    }
   ],
   "source": [
    "print(n)\n",
    "models_lsa[n].fit_model(image_sets_lsa[n],label_sets_lsa[n],x_val,y_val)\n",
    "n = n+1"
   ]
  },
  {
   "cell_type": "code",
   "execution_count": 18,
   "id": "947e9756",
   "metadata": {},
   "outputs": [
    {
     "name": "stdout",
     "output_type": "stream",
     "text": [
      "17\n",
      "Epoch 1/10\n",
      "507/507 [==============================] - 194s 377ms/step - loss: 3.4418 - accuracy: 0.0917 - val_loss: 1.2073 - val_accuracy: 0.6555\n",
      "Epoch 2/10\n",
      "507/507 [==============================] - 191s 377ms/step - loss: 0.9934 - accuracy: 0.7107 - val_loss: 0.2743 - val_accuracy: 0.9224\n",
      "Epoch 3/10\n",
      "507/507 [==============================] - 190s 375ms/step - loss: 0.3395 - accuracy: 0.9036 - val_loss: 0.2008 - val_accuracy: 0.9388\n",
      "Epoch 4/10\n",
      "507/507 [==============================] - 190s 375ms/step - loss: 0.2044 - accuracy: 0.9425 - val_loss: 0.1359 - val_accuracy: 0.9579\n",
      "Epoch 5/10\n",
      "507/507 [==============================] - 190s 374ms/step - loss: 0.1498 - accuracy: 0.9569 - val_loss: 0.1562 - val_accuracy: 0.9625\n",
      "Epoch 6/10\n",
      "507/507 [==============================] - 190s 374ms/step - loss: 0.1258 - accuracy: 0.9631 - val_loss: 0.1772 - val_accuracy: 0.9689\n",
      "Epoch 7/10\n",
      "507/507 [==============================] - 189s 374ms/step - loss: 0.1205 - accuracy: 0.9653 - val_loss: 0.1717 - val_accuracy: 0.9574\n",
      "Epoch 8/10\n",
      "507/507 [==============================] - 190s 374ms/step - loss: 0.1086 - accuracy: 0.9699 - val_loss: 0.0995 - val_accuracy: 0.9735\n",
      "Epoch 9/10\n",
      "507/507 [==============================] - 189s 373ms/step - loss: 0.0987 - accuracy: 0.9734 - val_loss: 0.1333 - val_accuracy: 0.9750\n",
      "Epoch 10/10\n",
      "507/507 [==============================] - 189s 374ms/step - loss: 0.1052 - accuracy: 0.9723 - val_loss: 0.1740 - val_accuracy: 0.9701\n",
      "Duration: 0:31:42.940524\n"
     ]
    }
   ],
   "source": [
    "print(n)\n",
    "models_lsa[n].fit_model(image_sets_lsa[n],label_sets_lsa[n],x_val,y_val)\n",
    "n = n+1"
   ]
  },
  {
   "cell_type": "code",
   "execution_count": 19,
   "id": "b9a0a231",
   "metadata": {},
   "outputs": [
    {
     "name": "stdout",
     "output_type": "stream",
     "text": [
      "18\n",
      "Epoch 1/10\n",
      "535/535 [==============================] - 202s 373ms/step - loss: 3.3831 - accuracy: 0.1079 - val_loss: 0.8368 - val_accuracy: 0.7668\n",
      "Epoch 2/10\n",
      "535/535 [==============================] - 201s 375ms/step - loss: 0.8060 - accuracy: 0.7655 - val_loss: 0.1718 - val_accuracy: 0.9357\n",
      "Epoch 3/10\n",
      "535/535 [==============================] - 200s 374ms/step - loss: 0.3053 - accuracy: 0.9115 - val_loss: 0.0661 - val_accuracy: 0.9806\n",
      "Epoch 4/10\n",
      "535/535 [==============================] - 200s 374ms/step - loss: 0.1973 - accuracy: 0.9434 - val_loss: 0.1839 - val_accuracy: 0.9518\n",
      "Epoch 5/10\n",
      "535/535 [==============================] - 200s 374ms/step - loss: 0.1683 - accuracy: 0.9501 - val_loss: 0.0666 - val_accuracy: 0.9811\n",
      "Epoch 6/10\n",
      "535/535 [==============================] - 200s 373ms/step - loss: 0.1456 - accuracy: 0.9587 - val_loss: 0.0822 - val_accuracy: 0.9737\n",
      "Epoch 7/10\n",
      "535/535 [==============================] - 200s 375ms/step - loss: 0.1223 - accuracy: 0.9667 - val_loss: 0.0505 - val_accuracy: 0.9870\n",
      "Epoch 8/10\n",
      "535/535 [==============================] - 200s 373ms/step - loss: 0.1194 - accuracy: 0.9693 - val_loss: 0.1216 - val_accuracy: 0.9694\n",
      "Epoch 9/10\n",
      "535/535 [==============================] - 200s 374ms/step - loss: 0.1156 - accuracy: 0.9704 - val_loss: 0.0624 - val_accuracy: 0.9839\n",
      "Epoch 10/10\n",
      "535/535 [==============================] - 199s 373ms/step - loss: 0.1213 - accuracy: 0.9710 - val_loss: 0.0459 - val_accuracy: 0.9929\n",
      "Duration: 0:33:22.538378\n"
     ]
    }
   ],
   "source": [
    "print(n)\n",
    "models_lsa[n].fit_model(image_sets_lsa[n],label_sets_lsa[n],x_val,y_val)\n",
    "n = n+1"
   ]
  },
  {
   "cell_type": "code",
   "execution_count": 20,
   "id": "d3a5471a",
   "metadata": {},
   "outputs": [
    {
     "name": "stdout",
     "output_type": "stream",
     "text": [
      "19\n",
      "Epoch 1/10\n",
      "569/569 [==============================] - 216s 374ms/step - loss: 3.3575 - accuracy: 0.1103 - val_loss: 0.5794 - val_accuracy: 0.8150\n",
      "Epoch 2/10\n",
      "569/569 [==============================] - 212s 373ms/step - loss: 0.6972 - accuracy: 0.7900 - val_loss: 0.0970 - val_accuracy: 0.9758\n",
      "Epoch 3/10\n",
      "569/569 [==============================] - 212s 373ms/step - loss: 0.2514 - accuracy: 0.9245 - val_loss: 0.0391 - val_accuracy: 0.9893\n",
      "Epoch 4/10\n",
      "569/569 [==============================] - 212s 373ms/step - loss: 0.1613 - accuracy: 0.9530 - val_loss: 0.0380 - val_accuracy: 0.9900\n",
      "Epoch 5/10\n",
      "569/569 [==============================] - 212s 372ms/step - loss: 0.1337 - accuracy: 0.9615 - val_loss: 0.0508 - val_accuracy: 0.9852\n",
      "Epoch 6/10\n",
      "569/569 [==============================] - 212s 373ms/step - loss: 0.1131 - accuracy: 0.9657 - val_loss: 0.0293 - val_accuracy: 0.9941\n",
      "Epoch 7/10\n",
      "569/569 [==============================] - 211s 372ms/step - loss: 0.1046 - accuracy: 0.9717 - val_loss: 0.0335 - val_accuracy: 0.9934\n",
      "Epoch 8/10\n",
      "569/569 [==============================] - 211s 371ms/step - loss: 0.1114 - accuracy: 0.9720 - val_loss: 0.0378 - val_accuracy: 0.9929\n",
      "Epoch 9/10\n",
      "569/569 [==============================] - 211s 371ms/step - loss: 0.1065 - accuracy: 0.9724 - val_loss: 0.0627 - val_accuracy: 0.9872\n",
      "Epoch 10/10\n",
      "569/569 [==============================] - 211s 371ms/step - loss: 0.1044 - accuracy: 0.9735 - val_loss: 0.0393 - val_accuracy: 0.9936\n",
      "Duration: 0:35:22.082916\n"
     ]
    }
   ],
   "source": [
    "print(n)#19\n",
    "models_lsa[n].fit_model(image_sets_lsa[n],label_sets_lsa[n],x_val,y_val)\n",
    "n = n+1"
   ]
  },
  {
   "cell_type": "code",
   "execution_count": 20,
   "id": "66c44d5f",
   "metadata": {},
   "outputs": [
    {
     "name": "stdout",
     "output_type": "stream",
     "text": [
      "D:/models/gtsrb_models/C1/gtsrb_model_c1_sep_lsa_e2_0\n",
      "Model loaded correctly\n",
      "D:/models/gtsrb_models/C1/gtsrb_model_c1_sep_lsa_e2_1\n",
      "Model loaded correctly\n",
      "D:/models/gtsrb_models/C1/gtsrb_model_c1_sep_lsa_e2_2\n",
      "Model loaded correctly\n",
      "D:/models/gtsrb_models/C1/gtsrb_model_c1_sep_lsa_e2_3\n",
      "Model loaded correctly\n",
      "D:/models/gtsrb_models/C1/gtsrb_model_c1_sep_lsa_e2_4\n",
      "Model loaded correctly\n",
      "D:/models/gtsrb_models/C1/gtsrb_model_c1_sep_lsa_e2_5\n",
      "Model loaded correctly\n",
      "D:/models/gtsrb_models/C1/gtsrb_model_c1_sep_lsa_e2_6\n",
      "Model loaded correctly\n",
      "D:/models/gtsrb_models/C1/gtsrb_model_c1_sep_lsa_e2_7\n",
      "Model loaded correctly\n",
      "D:/models/gtsrb_models/C1/gtsrb_model_c1_sep_lsa_e2_8\n",
      "Model loaded correctly\n",
      "D:/models/gtsrb_models/C1/gtsrb_model_c1_sep_lsa_e2_9\n",
      "Model loaded correctly\n",
      "D:/models/gtsrb_models/C1/gtsrb_model_c1_sep_lsa_e2_10\n",
      "Model loaded correctly\n",
      "D:/models/gtsrb_models/C1/gtsrb_model_c1_sep_lsa_e2_11\n",
      "Model loaded correctly\n",
      "D:/models/gtsrb_models/C1/gtsrb_model_c1_sep_lsa_e2_12\n",
      "Model loaded correctly\n",
      "D:/models/gtsrb_models/C1/gtsrb_model_c1_sep_lsa_e2_13\n",
      "Model loaded correctly\n",
      "D:/models/gtsrb_models/C1/gtsrb_model_c1_sep_lsa_e2_14\n",
      "Model loaded correctly\n",
      "D:/models/gtsrb_models/C1/gtsrb_model_c1_sep_lsa_e2_15\n",
      "Model loaded correctly\n",
      "D:/models/gtsrb_models/C1/gtsrb_model_c1_sep_lsa_e2_16\n",
      "Model loaded correctly\n",
      "D:/models/gtsrb_models/C1/gtsrb_model_c1_sep_lsa_e2_17\n",
      "Model loaded correctly\n",
      "D:/models/gtsrb_models/C1/gtsrb_model_c1_sep_lsa_e2_18\n",
      "Model loaded correctly\n",
      "D:/models/gtsrb_models/C1/gtsrb_model_c1_sep_lsa_e2_19\n",
      "Model loaded correctly\n"
     ]
    }
   ],
   "source": [
    "loading = True\n",
    "\n",
    "models_lsa = []\n",
    "\n",
    "if loading:\n",
    "    for i in range(20):\n",
    "        model_lsa_dir = \"D:/models/gtsrb_models/C1/gtsrb_model_c1_sep_lsa_e2_\"+str(i)\n",
    "        print(model_lsa_dir)\n",
    "        model =utils.My_model('gtsrb',True,model_lsa_dir)\n",
    "        model.model.compile(loss= 'categorical_crossentropy', optimizer = 'rmsprop', metrics = ['accuracy',tf.keras.metrics.Precision(), tf.keras.metrics.Recall()])\n",
    "        models_lsa.append(model)\n",
    "       \n",
    "    "
   ]
  },
  {
   "cell_type": "markdown",
   "id": "a13ef06e",
   "metadata": {},
   "source": [
    "## DSA"
   ]
  },
  {
   "cell_type": "markdown",
   "id": "c3e940af",
   "metadata": {},
   "source": [
    "## Point dsa"
   ]
  },
  {
   "cell_type": "code",
   "execution_count": 14,
   "id": "099c7fa2",
   "metadata": {},
   "outputs": [
    {
     "name": "stdout",
     "output_type": "stream",
     "text": [
      "0 :\n",
      "0  ->  1800\n",
      "1800\n",
      "1 :\n",
      "0  ->  3600\n",
      "3600\n",
      "2 :\n",
      "0  ->  5400\n",
      "5400\n",
      "3 :\n",
      "0  ->  7200\n",
      "7200\n",
      "4 :\n",
      "0  ->  9000\n",
      "9000\n",
      "5 :\n",
      "0  ->  10800\n",
      "10800\n",
      "6 :\n",
      "0  ->  12600\n",
      "12600\n",
      "7 :\n",
      "0  ->  14400\n",
      "14400\n",
      "8 :\n",
      "0  ->  16200\n",
      "16200\n",
      "9 :\n",
      "0  ->  18000\n",
      "18000\n",
      "10 :\n",
      "0  ->  19800\n",
      "19800\n",
      "11 :\n",
      "0  ->  21600\n",
      "21600\n",
      "12 :\n",
      "0  ->  23400\n",
      "23400\n",
      "13 :\n",
      "0  ->  25200\n",
      "25200\n",
      "14 :\n",
      "0  ->  27000\n",
      "27000\n",
      "15 :\n",
      "0  ->  28800\n",
      "28800\n",
      "16 :\n",
      "0  ->  30600\n",
      "30600\n",
      "17 :\n",
      "0  ->  32400\n",
      "32400\n",
      "18 :\n",
      "0  ->  34200\n",
      "34200\n",
      "19 :\n",
      "Last\n",
      "0  ->  36366\n",
      "36366\n"
     ]
    }
   ],
   "source": [
    "m = 1800\n",
    "n = 0\n",
    "image_sets_dsa = []\n",
    "label_sets_dsa = []\n",
    "\n",
    "\n",
    "for i in range(len(top_images_by_dsa)//m):\n",
    "    print(i,\":\")\n",
    "    if (i+1 >= len(top_images_by_dsa)//m):\n",
    "        print(\"Last\")\n",
    "        print(0,\" -> \",n+m+(len(top_images_by_dsa)%m))\n",
    "        top_images_by_dsa_n = np.array(top_images_by_dsa[:n+m+(len(top_images_by_dsa)%m)])\n",
    "        top_labels_by_dsa_n = np.array(top_labels_by_dsa[:n+m+(len(top_images_by_dsa)%m)])\n",
    "    else:\n",
    "        print(0,\" -> \",m+n)\n",
    "        top_images_by_dsa_n = np.array(top_images_by_dsa[:n+m])\n",
    "        top_labels_by_dsa_n = np.array(top_labels_by_dsa[:n+m])\n",
    "    image_sets_dsa.append(top_images_by_dsa_n)\n",
    "    label_sets_dsa.append(top_labels_by_dsa_n)\n",
    "    print(len(top_images_by_dsa_n))\n",
    "    n += m\n",
    "\n"
   ]
  },
  {
   "cell_type": "code",
   "execution_count": 15,
   "id": "8713d09c",
   "metadata": {
    "scrolled": true
   },
   "outputs": [
    {
     "name": "stdout",
     "output_type": "stream",
     "text": [
      "C:/Users/fjdur/Desktop/upc/project_notebooks/github_project/DL_notebooks/models/tf_model_25-06\n",
      "0 :\n",
      "Model compiled\n",
      "1 :\n",
      "Model compiled\n",
      "2 :\n",
      "Model compiled\n",
      "3 :\n",
      "Model compiled\n",
      "4 :\n",
      "Model compiled\n",
      "5 :\n",
      "Model compiled\n",
      "6 :\n",
      "Model compiled\n",
      "7 :\n",
      "Model compiled\n",
      "8 :\n",
      "Model compiled\n",
      "9 :\n",
      "Model compiled\n",
      "10 :\n",
      "Model compiled\n",
      "11 :\n",
      "Model compiled\n",
      "12 :\n",
      "Model compiled\n",
      "13 :\n",
      "Model compiled\n",
      "14 :\n",
      "Model compiled\n",
      "15 :\n",
      "Model compiled\n",
      "16 :\n",
      "Model compiled\n",
      "17 :\n",
      "Model compiled\n",
      "18 :\n",
      "Model compiled\n",
      "19 :\n",
      "Model compiled\n"
     ]
    }
   ],
   "source": [
    "print(model_dir)\n",
    "\n",
    "models_dsa = []\n",
    "for i in range(len(label_sets_dsa)):\n",
    "    print(i,\":\")\n",
    "    model = utils.My_model('gtsrb',False,None)\n",
    "    model.compile_model()\n",
    "    models_dsa.append(model)\n"
   ]
  },
  {
   "cell_type": "code",
   "execution_count": 16,
   "id": "2fd23c18",
   "metadata": {},
   "outputs": [],
   "source": [
    "n=0"
   ]
  },
  {
   "cell_type": "code",
   "execution_count": 24,
   "id": "9990e037",
   "metadata": {},
   "outputs": [
    {
     "name": "stdout",
     "output_type": "stream",
     "text": [
      "0\n",
      "Epoch 1/10\n",
      "29/29 [==============================] - 25s 636ms/step - loss: 3.6943 - accuracy: 0.0533 - val_loss: 3.5329 - val_accuracy: 0.0528\n",
      "Epoch 2/10\n",
      "29/29 [==============================] - 18s 630ms/step - loss: 3.5188 - accuracy: 0.0680 - val_loss: 3.5481 - val_accuracy: 0.0528\n",
      "Epoch 3/10\n",
      "29/29 [==============================] - 19s 667ms/step - loss: 3.5155 - accuracy: 0.0526 - val_loss: 3.5335 - val_accuracy: 0.0528\n",
      "Epoch 4/10\n",
      "29/29 [==============================] - 20s 685ms/step - loss: 3.4942 - accuracy: 0.0685 - val_loss: 3.5343 - val_accuracy: 0.0528\n",
      "Epoch 5/10\n",
      "29/29 [==============================] - 20s 692ms/step - loss: 3.4850 - accuracy: 0.0709 - val_loss: 3.5293 - val_accuracy: 0.0615\n",
      "Epoch 6/10\n",
      "29/29 [==============================] - 19s 652ms/step - loss: 3.4724 - accuracy: 0.0808 - val_loss: 3.4809 - val_accuracy: 0.0692\n",
      "Epoch 7/10\n",
      "29/29 [==============================] - 17s 584ms/step - loss: 3.4038 - accuracy: 0.0930 - val_loss: 3.4551 - val_accuracy: 0.0760\n",
      "Epoch 8/10\n",
      "29/29 [==============================] - 18s 638ms/step - loss: 3.3886 - accuracy: 0.0839 - val_loss: 3.4762 - val_accuracy: 0.0804\n",
      "Epoch 9/10\n",
      "29/29 [==============================] - 20s 684ms/step - loss: 3.3844 - accuracy: 0.1066 - val_loss: 3.4242 - val_accuracy: 0.1003\n",
      "Epoch 10/10\n",
      "29/29 [==============================] - 18s 642ms/step - loss: 3.3548 - accuracy: 0.1001 - val_loss: 3.4077 - val_accuracy: 0.1128\n",
      "Duration: 0:03:13.425928\n"
     ]
    }
   ],
   "source": [
    "n=0\n",
    "print(n)\n",
    "\n",
    "models_dsa[n].fit_model(image_sets_dsa[n],label_sets_dsa[n],x_val,y_val)\n",
    "n = n+1"
   ]
  },
  {
   "cell_type": "code",
   "execution_count": 25,
   "id": "c24fa024",
   "metadata": {},
   "outputs": [
    {
     "name": "stdout",
     "output_type": "stream",
     "text": [
      "1\n",
      "Epoch 1/10\n",
      "57/57 [==============================] - 37s 600ms/step - loss: 3.7226 - accuracy: 0.0406 - val_loss: 3.5337 - val_accuracy: 0.0513\n",
      "Epoch 2/10\n",
      "57/57 [==============================] - 31s 536ms/step - loss: 3.5697 - accuracy: 0.0524 - val_loss: 3.5082 - val_accuracy: 0.0508\n",
      "Epoch 3/10\n",
      "57/57 [==============================] - 35s 613ms/step - loss: 3.5465 - accuracy: 0.0670 - val_loss: 3.4515 - val_accuracy: 0.0819\n",
      "Epoch 4/10\n",
      "57/57 [==============================] - 36s 639ms/step - loss: 3.4571 - accuracy: 0.0797 - val_loss: 3.3836 - val_accuracy: 0.0926\n",
      "Epoch 5/10\n",
      "57/57 [==============================] - 31s 552ms/step - loss: 3.4218 - accuracy: 0.0873 - val_loss: 3.3155 - val_accuracy: 0.1072\n",
      "Epoch 6/10\n",
      "57/57 [==============================] - 31s 541ms/step - loss: 3.3266 - accuracy: 0.1227 - val_loss: 3.1864 - val_accuracy: 0.1653\n",
      "Epoch 7/10\n",
      "57/57 [==============================] - 32s 562ms/step - loss: 2.9420 - accuracy: 0.2184 - val_loss: 2.4627 - val_accuracy: 0.3332\n",
      "Epoch 8/10\n",
      "57/57 [==============================] - 31s 544ms/step - loss: 2.4224 - accuracy: 0.3258 - val_loss: 1.9286 - val_accuracy: 0.4562\n",
      "Epoch 9/10\n",
      "57/57 [==============================] - 31s 538ms/step - loss: 2.0104 - accuracy: 0.4346 - val_loss: 1.7301 - val_accuracy: 0.5624\n",
      "Epoch 10/10\n",
      "57/57 [==============================] - 31s 547ms/step - loss: 1.7645 - accuracy: 0.5010 - val_loss: 1.3796 - val_accuracy: 0.6195\n",
      "Duration: 0:05:25.662178\n"
     ]
    }
   ],
   "source": [
    "n=1\n",
    "print(n)\n",
    "\n",
    "models_dsa[n].fit_model(image_sets_dsa[n],label_sets_dsa[n],x_val,y_val)\n",
    "n = n+1"
   ]
  },
  {
   "cell_type": "code",
   "execution_count": 26,
   "id": "2582ba35",
   "metadata": {},
   "outputs": [
    {
     "name": "stdout",
     "output_type": "stream",
     "text": [
      "2\n",
      "Epoch 1/10\n",
      "85/85 [==============================] - 51s 543ms/step - loss: 3.6166 - accuracy: 0.0574 - val_loss: 3.5792 - val_accuracy: 0.0444\n",
      "Epoch 2/10\n",
      "85/85 [==============================] - 43s 502ms/step - loss: 3.5393 - accuracy: 0.0707 - val_loss: 3.5813 - val_accuracy: 0.0681\n",
      "Epoch 3/10\n",
      "85/85 [==============================] - 44s 515ms/step - loss: 3.3544 - accuracy: 0.1052 - val_loss: 12.9136 - val_accuracy: 0.0610\n",
      "Epoch 4/10\n",
      "85/85 [==============================] - 41s 480ms/step - loss: 3.2364 - accuracy: 0.1332 - val_loss: 7.0600 - val_accuracy: 0.1166\n",
      "Epoch 5/10\n",
      "85/85 [==============================] - 40s 472ms/step - loss: 2.8184 - accuracy: 0.2561 - val_loss: 5.7121 - val_accuracy: 0.2307\n",
      "Epoch 6/10\n",
      "85/85 [==============================] - 41s 479ms/step - loss: 2.2579 - accuracy: 0.3912 - val_loss: 4.6748 - val_accuracy: 0.3501\n",
      "Epoch 7/10\n",
      "85/85 [==============================] - 43s 503ms/step - loss: 1.7866 - accuracy: 0.5010 - val_loss: 7.2383 - val_accuracy: 0.3547\n",
      "Epoch 8/10\n",
      "85/85 [==============================] - 39s 459ms/step - loss: 1.4592 - accuracy: 0.5640 - val_loss: 3.0173 - val_accuracy: 0.4721\n",
      "Epoch 9/10\n",
      "85/85 [==============================] - 39s 456ms/step - loss: 1.1716 - accuracy: 0.6542 - val_loss: 5.9897 - val_accuracy: 0.4376\n",
      "Epoch 10/10\n",
      "85/85 [==============================] - 40s 466ms/step - loss: 0.9721 - accuracy: 0.7026 - val_loss: 3.1655 - val_accuracy: 0.5910\n",
      "Duration: 0:06:58.519527\n"
     ]
    }
   ],
   "source": [
    "n=2\n",
    "print(n)\n",
    "\n",
    "models_dsa[n].fit_model(image_sets_dsa[n],label_sets_dsa[n],x_val,y_val)\n",
    "n = n+1"
   ]
  },
  {
   "cell_type": "code",
   "execution_count": 27,
   "id": "62d686d3",
   "metadata": {},
   "outputs": [
    {
     "name": "stdout",
     "output_type": "stream",
     "text": [
      "3\n",
      "Epoch 1/10\n",
      "113/113 [==============================] - 53s 438ms/step - loss: 4.0660 - accuracy: 0.1529 - val_loss: 6.9110 - val_accuracy: 0.0531\n",
      "Epoch 2/10\n",
      "113/113 [==============================] - 51s 451ms/step - loss: 2.9984 - accuracy: 0.1987 - val_loss: 4.3787 - val_accuracy: 0.0526\n",
      "Epoch 3/10\n",
      "113/113 [==============================] - 50s 439ms/step - loss: 2.6220 - accuracy: 0.2850 - val_loss: 3.5477 - val_accuracy: 0.2598\n",
      "Epoch 4/10\n",
      "113/113 [==============================] - 50s 440ms/step - loss: 2.0443 - accuracy: 0.4579 - val_loss: 2.1527 - val_accuracy: 0.4070\n",
      "Epoch 5/10\n",
      "113/113 [==============================] - 50s 440ms/step - loss: 1.5888 - accuracy: 0.5424 - val_loss: 4.3463 - val_accuracy: 0.3799\n",
      "Epoch 6/10\n",
      "113/113 [==============================] - 50s 442ms/step - loss: 1.2186 - accuracy: 0.6480 - val_loss: 2.9209 - val_accuracy: 0.4680\n",
      "Epoch 7/10\n",
      "113/113 [==============================] - 52s 457ms/step - loss: 0.9766 - accuracy: 0.7097 - val_loss: 5.6818 - val_accuracy: 0.4412\n",
      "Epoch 8/10\n",
      "113/113 [==============================] - 55s 491ms/step - loss: 0.7968 - accuracy: 0.7598 - val_loss: 4.5349 - val_accuracy: 0.4662\n",
      "Epoch 9/10\n",
      "113/113 [==============================] - 57s 505ms/step - loss: 0.6423 - accuracy: 0.8046 - val_loss: 4.2895 - val_accuracy: 0.5726\n",
      "Epoch 10/10\n",
      "113/113 [==============================] - 51s 455ms/step - loss: 0.5242 - accuracy: 0.8391 - val_loss: 1.5467 - val_accuracy: 0.7002\n",
      "Duration: 0:08:38.275778\n"
     ]
    }
   ],
   "source": [
    "print(n)\n",
    "\n",
    "models_dsa[n].fit_model(image_sets_dsa[n],label_sets_dsa[n],x_val,y_val)\n",
    "n = n+1"
   ]
  },
  {
   "cell_type": "code",
   "execution_count": 28,
   "id": "a675c8a7",
   "metadata": {},
   "outputs": [
    {
     "name": "stdout",
     "output_type": "stream",
     "text": [
      "4\n",
      "Epoch 1/10\n",
      "141/141 [==============================] - 69s 465ms/step - loss: 3.2491 - accuracy: 0.1584 - val_loss: 6.4032 - val_accuracy: 0.0495\n",
      "Epoch 2/10\n",
      "141/141 [==============================] - 61s 434ms/step - loss: 2.7293 - accuracy: 0.2191 - val_loss: 3.4416 - val_accuracy: 0.1505\n",
      "Epoch 3/10\n",
      "141/141 [==============================] - 60s 427ms/step - loss: 1.9741 - accuracy: 0.4367 - val_loss: 2.6268 - val_accuracy: 0.3889\n",
      "Epoch 4/10\n",
      "141/141 [==============================] - 60s 428ms/step - loss: 1.3832 - accuracy: 0.6127 - val_loss: 4.5641 - val_accuracy: 0.3669\n",
      "Epoch 5/10\n",
      "141/141 [==============================] - 63s 445ms/step - loss: 0.9578 - accuracy: 0.7268 - val_loss: 1.3298 - val_accuracy: 0.6920\n",
      "Epoch 6/10\n",
      "141/141 [==============================] - 69s 487ms/step - loss: 0.7402 - accuracy: 0.7860 - val_loss: 0.7867 - val_accuracy: 0.7612\n",
      "Epoch 7/10\n",
      "141/141 [==============================] - 69s 488ms/step - loss: 0.5943 - accuracy: 0.8171 - val_loss: 2.2466 - val_accuracy: 0.5670\n",
      "Epoch 8/10\n",
      "141/141 [==============================] - 65s 460ms/step - loss: 0.5059 - accuracy: 0.8462 - val_loss: 4.6615 - val_accuracy: 0.5129\n",
      "Epoch 9/10\n",
      "141/141 [==============================] - 69s 490ms/step - loss: 0.4100 - accuracy: 0.8792 - val_loss: 1.5150 - val_accuracy: 0.7367\n",
      "Epoch 10/10\n",
      "141/141 [==============================] - 67s 477ms/step - loss: 0.3745 - accuracy: 0.8867 - val_loss: 1.1387 - val_accuracy: 0.7721\n",
      "Duration: 0:10:51.876618\n"
     ]
    }
   ],
   "source": [
    "print(n)#4\n",
    "\n",
    "models_dsa[n].fit_model(image_sets_dsa[n],label_sets_dsa[n],x_val,y_val)\n",
    "n = n+1"
   ]
  },
  {
   "cell_type": "code",
   "execution_count": 17,
   "id": "9098044d",
   "metadata": {},
   "outputs": [
    {
     "name": "stdout",
     "output_type": "stream",
     "text": [
      "5\n",
      "Epoch 1/10\n",
      "169/169 [==============================] - 122s 400ms/step - loss: 3.4658 - accuracy: 0.1290 - val_loss: 5.3484 - val_accuracy: 0.1179\n",
      "Epoch 2/10\n",
      "169/169 [==============================] - 65s 387ms/step - loss: 2.0980 - accuracy: 0.4236 - val_loss: 2.4111 - val_accuracy: 0.3544\n",
      "Epoch 3/10\n",
      "169/169 [==============================] - 66s 390ms/step - loss: 1.4186 - accuracy: 0.6060 - val_loss: 3.7369 - val_accuracy: 0.3784\n",
      "Epoch 4/10\n",
      "169/169 [==============================] - 66s 388ms/step - loss: 1.0167 - accuracy: 0.7135 - val_loss: 3.1590 - val_accuracy: 0.4721\n",
      "Epoch 5/10\n",
      "169/169 [==============================] - 67s 396ms/step - loss: 0.7464 - accuracy: 0.7884 - val_loss: 2.4779 - val_accuracy: 0.5542\n",
      "Epoch 6/10\n",
      "169/169 [==============================] - 69s 407ms/step - loss: 0.6315 - accuracy: 0.8136 - val_loss: 1.4383 - val_accuracy: 0.6657\n",
      "Epoch 7/10\n",
      "169/169 [==============================] - 67s 396ms/step - loss: 0.5368 - accuracy: 0.8435 - val_loss: 3.0737 - val_accuracy: 0.6045\n",
      "Epoch 8/10\n",
      "169/169 [==============================] - 68s 402ms/step - loss: 0.4179 - accuracy: 0.8701 - val_loss: 2.7004 - val_accuracy: 0.5915\n",
      "Epoch 9/10\n",
      "169/169 [==============================] - 68s 402ms/step - loss: 0.3676 - accuracy: 0.8871 - val_loss: 1.2588 - val_accuracy: 0.7308\n",
      "Epoch 10/10\n",
      "169/169 [==============================] - 68s 405ms/step - loss: 0.3059 - accuracy: 0.9090 - val_loss: 2.8519 - val_accuracy: 0.6285\n",
      "Duration: 0:12:08.739975\n"
     ]
    }
   ],
   "source": [
    "n=5\n",
    "print(n)\n",
    "\n",
    "models_dsa[n].fit_model(image_sets_dsa[n],label_sets_dsa[n],x_val,y_val)\n",
    "n = n+1"
   ]
  },
  {
   "cell_type": "code",
   "execution_count": 18,
   "id": "5d2e4246",
   "metadata": {},
   "outputs": [
    {
     "name": "stdout",
     "output_type": "stream",
     "text": [
      "6\n",
      "Epoch 1/10\n",
      "197/197 [==============================] - 84s 395ms/step - loss: 3.4251 - accuracy: 0.1275 - val_loss: 3.9142 - val_accuracy: 0.1572\n",
      "Epoch 2/10\n",
      "197/197 [==============================] - 78s 398ms/step - loss: 1.9222 - accuracy: 0.4651 - val_loss: 4.8370 - val_accuracy: 0.3236\n",
      "Epoch 3/10\n",
      "197/197 [==============================] - 78s 398ms/step - loss: 1.1825 - accuracy: 0.6801 - val_loss: 4.6392 - val_accuracy: 0.4113\n",
      "Epoch 4/10\n",
      "197/197 [==============================] - 78s 398ms/step - loss: 0.8747 - accuracy: 0.7636 - val_loss: 2.5528 - val_accuracy: 0.5381\n",
      "Epoch 5/10\n",
      "197/197 [==============================] - 78s 394ms/step - loss: 0.6445 - accuracy: 0.8168 - val_loss: 2.4836 - val_accuracy: 0.5912\n",
      "Epoch 6/10\n",
      "197/197 [==============================] - 96s 487ms/step - loss: 0.5399 - accuracy: 0.8413 - val_loss: 1.6002 - val_accuracy: 0.6831\n",
      "Epoch 7/10\n",
      "197/197 [==============================] - 103s 525ms/step - loss: 0.4278 - accuracy: 0.8728 - val_loss: 1.3876 - val_accuracy: 0.7265\n",
      "Epoch 8/10\n",
      "197/197 [==============================] - 95s 482ms/step - loss: 0.3562 - accuracy: 0.8948 - val_loss: 3.9438 - val_accuracy: 0.6430\n",
      "Epoch 9/10\n",
      "197/197 [==============================] - 97s 491ms/step - loss: 0.3066 - accuracy: 0.9083 - val_loss: 2.4554 - val_accuracy: 0.6905\n",
      "Epoch 10/10\n",
      "197/197 [==============================] - 92s 468ms/step - loss: 0.2546 - accuracy: 0.9210 - val_loss: 1.0143 - val_accuracy: 0.8012\n",
      "Duration: 0:14:39.815188\n"
     ]
    }
   ],
   "source": [
    "print(n)\n",
    "\n",
    "models_dsa[n].fit_model(image_sets_dsa[n],label_sets_dsa[n],x_val,y_val)\n",
    "n = n+1"
   ]
  },
  {
   "cell_type": "code",
   "execution_count": 19,
   "id": "13254a67",
   "metadata": {},
   "outputs": [
    {
     "name": "stdout",
     "output_type": "stream",
     "text": [
      "7\n",
      "Epoch 1/10\n",
      "225/225 [==============================] - 100s 429ms/step - loss: 3.0991 - accuracy: 0.1366 - val_loss: 3.7402 - val_accuracy: 0.2261\n",
      "Epoch 2/10\n",
      "225/225 [==============================] - 100s 443ms/step - loss: 1.7043 - accuracy: 0.5287 - val_loss: 3.0660 - val_accuracy: 0.4011\n",
      "Epoch 3/10\n",
      "225/225 [==============================] - 109s 482ms/step - loss: 0.9954 - accuracy: 0.7327 - val_loss: 1.8936 - val_accuracy: 0.5660\n",
      "Epoch 4/10\n",
      "225/225 [==============================] - 98s 437ms/step - loss: 0.6949 - accuracy: 0.8075 - val_loss: 2.1639 - val_accuracy: 0.5994\n",
      "Epoch 5/10\n",
      "225/225 [==============================] - 102s 453ms/step - loss: 0.5466 - accuracy: 0.8436 - val_loss: 2.8151 - val_accuracy: 0.6111\n",
      "Epoch 6/10\n",
      "225/225 [==============================] - 88s 392ms/step - loss: 0.4315 - accuracy: 0.8795 - val_loss: 1.7151 - val_accuracy: 0.7168\n",
      "Epoch 7/10\n",
      "225/225 [==============================] - 88s 392ms/step - loss: 0.3637 - accuracy: 0.8928 - val_loss: 0.7319 - val_accuracy: 0.8145\n",
      "Epoch 8/10\n",
      "225/225 [==============================] - 89s 393ms/step - loss: 0.3050 - accuracy: 0.9118 - val_loss: 2.9715 - val_accuracy: 0.7114\n",
      "Epoch 9/10\n",
      "225/225 [==============================] - 95s 421ms/step - loss: 0.2708 - accuracy: 0.9204 - val_loss: 1.0596 - val_accuracy: 0.8066\n",
      "Epoch 10/10\n",
      "225/225 [==============================] - 98s 436ms/step - loss: 0.2471 - accuracy: 0.9299 - val_loss: 0.6260 - val_accuracy: 0.8553\n",
      "Duration: 0:16:06.103185\n"
     ]
    }
   ],
   "source": [
    "print(n)\n",
    "\n",
    "models_dsa[n].fit_model(image_sets_dsa[n],label_sets_dsa[n],x_val,y_val)\n",
    "n = n+1"
   ]
  },
  {
   "cell_type": "code",
   "execution_count": 20,
   "id": "ff7478ae",
   "metadata": {},
   "outputs": [
    {
     "name": "stdout",
     "output_type": "stream",
     "text": [
      "8\n",
      "Epoch 1/10\n",
      "254/254 [==============================] - 109s 412ms/step - loss: 3.0651 - accuracy: 0.1267 - val_loss: 4.1415 - val_accuracy: 0.2253\n",
      "Epoch 2/10\n",
      "254/254 [==============================] - 100s 392ms/step - loss: 1.6803 - accuracy: 0.5393 - val_loss: 2.5471 - val_accuracy: 0.4152\n",
      "Epoch 3/10\n",
      "254/254 [==============================] - 100s 393ms/step - loss: 0.9959 - accuracy: 0.7337 - val_loss: 2.0569 - val_accuracy: 0.5739\n",
      "Epoch 4/10\n",
      "254/254 [==============================] - 100s 394ms/step - loss: 0.7059 - accuracy: 0.8140 - val_loss: 2.4075 - val_accuracy: 0.6050\n",
      "Epoch 5/10\n",
      "254/254 [==============================] - 100s 393ms/step - loss: 0.5364 - accuracy: 0.8509 - val_loss: 6.0730 - val_accuracy: 0.5119\n",
      "Epoch 6/10\n",
      "254/254 [==============================] - 99s 390ms/step - loss: 0.4324 - accuracy: 0.8749 - val_loss: 1.6222 - val_accuracy: 0.7520\n",
      "Epoch 7/10\n",
      "254/254 [==============================] - 99s 391ms/step - loss: 0.3769 - accuracy: 0.8906 - val_loss: 5.4173 - val_accuracy: 0.6389\n",
      "Epoch 8/10\n",
      "254/254 [==============================] - 99s 391ms/step - loss: 0.3116 - accuracy: 0.9106 - val_loss: 6.1042 - val_accuracy: 0.6793\n",
      "Epoch 9/10\n",
      "254/254 [==============================] - 99s 390ms/step - loss: 0.2814 - accuracy: 0.9183 - val_loss: 0.6647 - val_accuracy: 0.8512\n",
      "Epoch 10/10\n",
      "254/254 [==============================] - 99s 390ms/step - loss: 0.2574 - accuracy: 0.9220 - val_loss: 11.7035 - val_accuracy: 0.6134\n",
      "Duration: 0:16:44.228488\n"
     ]
    }
   ],
   "source": [
    "print(n)\n",
    "\n",
    "models_dsa[n].fit_model(image_sets_dsa[n],label_sets_dsa[n],x_val,y_val)\n",
    "n = n+1"
   ]
  },
  {
   "cell_type": "code",
   "execution_count": 21,
   "id": "529ba2f1",
   "metadata": {},
   "outputs": [
    {
     "name": "stdout",
     "output_type": "stream",
     "text": [
      "9\n",
      "Epoch 1/10\n",
      "282/282 [==============================] - 113s 392ms/step - loss: 3.3187 - accuracy: 0.1241 - val_loss: 5.1378 - val_accuracy: 0.1169\n",
      "Epoch 2/10\n",
      "282/282 [==============================] - 110s 390ms/step - loss: 2.1209 - accuracy: 0.3762 - val_loss: 2.5002 - val_accuracy: 0.4636\n",
      "Epoch 3/10\n",
      "282/282 [==============================] - 110s 390ms/step - loss: 0.9710 - accuracy: 0.7390 - val_loss: 2.9788 - val_accuracy: 0.5481\n",
      "Epoch 4/10\n",
      "282/282 [==============================] - 112s 396ms/step - loss: 0.6589 - accuracy: 0.8220 - val_loss: 1.3777 - val_accuracy: 0.6673\n",
      "Epoch 5/10\n",
      "282/282 [==============================] - 110s 392ms/step - loss: 0.5033 - accuracy: 0.8626 - val_loss: 2.1219 - val_accuracy: 0.6884\n",
      "Epoch 6/10\n",
      "282/282 [==============================] - 110s 389ms/step - loss: 0.4040 - accuracy: 0.8871 - val_loss: 2.3482 - val_accuracy: 0.7224\n",
      "Epoch 7/10\n",
      "282/282 [==============================] - 110s 390ms/step - loss: 0.3257 - accuracy: 0.9085 - val_loss: 0.8154 - val_accuracy: 0.8178\n",
      "Epoch 8/10\n",
      "282/282 [==============================] - 110s 390ms/step - loss: 0.2994 - accuracy: 0.9154 - val_loss: 3.2649 - val_accuracy: 0.6780\n",
      "Epoch 9/10\n",
      "282/282 [==============================] - 109s 388ms/step - loss: 0.2678 - accuracy: 0.9237 - val_loss: 0.9000 - val_accuracy: 0.8334\n",
      "Epoch 10/10\n",
      "282/282 [==============================] - 109s 388ms/step - loss: 0.2324 - accuracy: 0.9333 - val_loss: 0.3522 - val_accuracy: 0.9038\n",
      "Duration: 0:18:23.568910\n"
     ]
    }
   ],
   "source": [
    "print(n)#9\n",
    "\n",
    "models_dsa[n].fit_model(image_sets_dsa[n],label_sets_dsa[n],x_val,y_val)\n",
    "n = n+1"
   ]
  },
  {
   "cell_type": "code",
   "execution_count": 22,
   "id": "fb965078",
   "metadata": {},
   "outputs": [
    {
     "name": "stdout",
     "output_type": "stream",
     "text": [
      "10\n",
      "Epoch 1/10\n",
      "310/310 [==============================] - 123s 388ms/step - loss: 3.1225 - accuracy: 0.1202 - val_loss: 3.5382 - val_accuracy: 0.1717\n",
      "Epoch 2/10\n",
      "310/310 [==============================] - 120s 387ms/step - loss: 2.0998 - accuracy: 0.3769 - val_loss: 2.7844 - val_accuracy: 0.5040\n",
      "Epoch 3/10\n",
      "310/310 [==============================] - 122s 393ms/step - loss: 0.8890 - accuracy: 0.7650 - val_loss: 2.1377 - val_accuracy: 0.6456\n",
      "Epoch 4/10\n",
      "310/310 [==============================] - 120s 388ms/step - loss: 0.5946 - accuracy: 0.8395 - val_loss: 1.8240 - val_accuracy: 0.7066\n",
      "Epoch 5/10\n",
      "310/310 [==============================] - 120s 388ms/step - loss: 0.4498 - accuracy: 0.8725 - val_loss: 1.7074 - val_accuracy: 0.7492\n",
      "Epoch 6/10\n",
      "310/310 [==============================] - 120s 387ms/step - loss: 0.3804 - accuracy: 0.8955 - val_loss: 1.1744 - val_accuracy: 0.7614\n",
      "Epoch 7/10\n",
      "310/310 [==============================] - 120s 386ms/step - loss: 0.3049 - accuracy: 0.9121 - val_loss: 1.0908 - val_accuracy: 0.7994\n",
      "Epoch 8/10\n",
      "310/310 [==============================] - 120s 387ms/step - loss: 0.2761 - accuracy: 0.9225 - val_loss: 0.8591 - val_accuracy: 0.8418\n",
      "Epoch 9/10\n",
      "310/310 [==============================] - 120s 387ms/step - loss: 0.2419 - accuracy: 0.9306 - val_loss: 0.3359 - val_accuracy: 0.9109\n",
      "Epoch 10/10\n",
      "310/310 [==============================] - 120s 387ms/step - loss: 0.2248 - accuracy: 0.9350 - val_loss: 0.4383 - val_accuracy: 0.8990\n",
      "Duration: 0:20:05.306071\n"
     ]
    }
   ],
   "source": [
    "n=10\n",
    "print(n)\n",
    "\n",
    "models_dsa[n].fit_model(image_sets_dsa[n],label_sets_dsa[n],x_val,y_val)\n",
    "n = n+1"
   ]
  },
  {
   "cell_type": "code",
   "execution_count": 23,
   "id": "552adb28",
   "metadata": {},
   "outputs": [
    {
     "name": "stdout",
     "output_type": "stream",
     "text": [
      "11\n",
      "Epoch 1/10\n",
      "338/338 [==============================] - 134s 387ms/step - loss: 3.0723 - accuracy: 0.1145 - val_loss: 3.4570 - val_accuracy: 0.3220\n",
      "Epoch 2/10\n",
      "338/338 [==============================] - 131s 388ms/step - loss: 1.2590 - accuracy: 0.6356 - val_loss: 1.6164 - val_accuracy: 0.6369\n",
      "Epoch 3/10\n",
      "338/338 [==============================] - 131s 388ms/step - loss: 0.5652 - accuracy: 0.8486 - val_loss: 0.9809 - val_accuracy: 0.7846\n",
      "Epoch 4/10\n",
      "338/338 [==============================] - 131s 387ms/step - loss: 0.4018 - accuracy: 0.8910 - val_loss: 0.8701 - val_accuracy: 0.8109\n",
      "Epoch 5/10\n",
      "338/338 [==============================] - 131s 388ms/step - loss: 0.3063 - accuracy: 0.9152 - val_loss: 0.5623 - val_accuracy: 0.8734\n",
      "Epoch 6/10\n",
      "338/338 [==============================] - 131s 386ms/step - loss: 0.2458 - accuracy: 0.9312 - val_loss: 0.3529 - val_accuracy: 0.9064\n",
      "Epoch 7/10\n",
      "338/338 [==============================] - 131s 387ms/step - loss: 0.2128 - accuracy: 0.9375 - val_loss: 0.7961 - val_accuracy: 0.8813\n",
      "Epoch 8/10\n",
      "338/338 [==============================] - 130s 385ms/step - loss: 0.1956 - accuracy: 0.9457 - val_loss: 0.4669 - val_accuracy: 0.9071\n",
      "Epoch 9/10\n",
      "338/338 [==============================] - 130s 386ms/step - loss: 0.1963 - accuracy: 0.9484 - val_loss: 0.2660 - val_accuracy: 0.9316\n",
      "Epoch 10/10\n",
      "338/338 [==============================] - 130s 385ms/step - loss: 0.1708 - accuracy: 0.9526 - val_loss: 0.4315 - val_accuracy: 0.9191\n",
      "Duration: 0:21:49.923104\n"
     ]
    }
   ],
   "source": [
    "print(n)\n",
    "\n",
    "models_dsa[n].fit_model(image_sets_dsa[n],label_sets_dsa[n],x_val,y_val)\n",
    "n = n+1"
   ]
  },
  {
   "cell_type": "code",
   "execution_count": 24,
   "id": "110ad1aa",
   "metadata": {},
   "outputs": [
    {
     "name": "stdout",
     "output_type": "stream",
     "text": [
      "12\n",
      "Epoch 1/10\n",
      "366/366 [==============================] - 143s 384ms/step - loss: 3.1894 - accuracy: 0.1037 - val_loss: 3.5450 - val_accuracy: 0.2891\n",
      "Epoch 2/10\n",
      "366/366 [==============================] - 141s 386ms/step - loss: 1.6256 - accuracy: 0.5383 - val_loss: 1.1719 - val_accuracy: 0.7076\n",
      "Epoch 3/10\n",
      "366/366 [==============================] - 141s 385ms/step - loss: 0.5533 - accuracy: 0.8544 - val_loss: 1.0908 - val_accuracy: 0.8007\n",
      "Epoch 4/10\n",
      "366/366 [==============================] - 141s 387ms/step - loss: 0.3701 - accuracy: 0.9019 - val_loss: 0.8612 - val_accuracy: 0.8181\n",
      "Epoch 5/10\n",
      "366/366 [==============================] - 142s 389ms/step - loss: 0.2708 - accuracy: 0.9249 - val_loss: 0.5883 - val_accuracy: 0.8798\n",
      "Epoch 6/10\n",
      "366/366 [==============================] - 141s 385ms/step - loss: 0.2262 - accuracy: 0.9373 - val_loss: 0.4774 - val_accuracy: 0.8990\n",
      "Epoch 7/10\n",
      "366/366 [==============================] - 141s 385ms/step - loss: 0.1901 - accuracy: 0.9452 - val_loss: 0.9250 - val_accuracy: 0.8694\n",
      "Epoch 8/10\n",
      "366/366 [==============================] - 141s 384ms/step - loss: 0.1956 - accuracy: 0.9465 - val_loss: 0.3433 - val_accuracy: 0.9229\n",
      "Epoch 9/10\n",
      "366/366 [==============================] - 141s 384ms/step - loss: 0.1687 - accuracy: 0.9526 - val_loss: 0.4593 - val_accuracy: 0.9286\n",
      "Epoch 10/10\n",
      "366/366 [==============================] - 141s 386ms/step - loss: 0.1539 - accuracy: 0.9578 - val_loss: 0.7562 - val_accuracy: 0.9217\n",
      "Duration: 0:23:33.153657\n"
     ]
    }
   ],
   "source": [
    "print(n)\n",
    "\n",
    "models_dsa[n].fit_model(image_sets_dsa[n],label_sets_dsa[n],x_val,y_val)\n",
    "n = n+1"
   ]
  },
  {
   "cell_type": "code",
   "execution_count": 25,
   "id": "506b30e2",
   "metadata": {},
   "outputs": [
    {
     "name": "stdout",
     "output_type": "stream",
     "text": [
      "13\n",
      "Epoch 1/10\n",
      "394/394 [==============================] - 154s 383ms/step - loss: 3.2941 - accuracy: 0.0981 - val_loss: 2.5929 - val_accuracy: 0.4820\n",
      "Epoch 2/10\n",
      "394/394 [==============================] - 151s 384ms/step - loss: 1.3001 - accuracy: 0.6278 - val_loss: 1.1390 - val_accuracy: 0.7984\n",
      "Epoch 3/10\n",
      "394/394 [==============================] - 151s 383ms/step - loss: 0.4832 - accuracy: 0.8697 - val_loss: 0.7842 - val_accuracy: 0.8517\n",
      "Epoch 4/10\n",
      "394/394 [==============================] - 151s 383ms/step - loss: 0.3224 - accuracy: 0.9137 - val_loss: 0.3948 - val_accuracy: 0.9038\n",
      "Epoch 5/10\n",
      "394/394 [==============================] - 151s 382ms/step - loss: 0.2401 - accuracy: 0.9330 - val_loss: 0.3692 - val_accuracy: 0.9132\n",
      "Epoch 6/10\n",
      "394/394 [==============================] - 151s 382ms/step - loss: 0.1998 - accuracy: 0.9435 - val_loss: 0.3576 - val_accuracy: 0.9178\n",
      "Epoch 7/10\n",
      "394/394 [==============================] - 151s 382ms/step - loss: 0.1814 - accuracy: 0.9507 - val_loss: 0.3398 - val_accuracy: 0.9337\n",
      "Epoch 8/10\n",
      "394/394 [==============================] - 151s 383ms/step - loss: 0.1610 - accuracy: 0.9566 - val_loss: 0.2069 - val_accuracy: 0.9479\n",
      "Epoch 9/10\n",
      "394/394 [==============================] - 150s 382ms/step - loss: 0.1503 - accuracy: 0.9580 - val_loss: 0.1374 - val_accuracy: 0.9701\n",
      "Epoch 10/10\n",
      "394/394 [==============================] - 151s 382ms/step - loss: 0.1609 - accuracy: 0.9589 - val_loss: 0.3405 - val_accuracy: 0.9434\n",
      "Duration: 0:25:10.416072\n"
     ]
    }
   ],
   "source": [
    "print(n)\n",
    "\n",
    "models_dsa[n].fit_model(image_sets_dsa[n],label_sets_dsa[n],x_val,y_val)\n",
    "n = n+1"
   ]
  },
  {
   "cell_type": "code",
   "execution_count": 26,
   "id": "bb438669",
   "metadata": {},
   "outputs": [
    {
     "name": "stdout",
     "output_type": "stream",
     "text": [
      "14\n",
      "Epoch 1/10\n",
      "422/422 [==============================] - 163s 380ms/step - loss: 3.3277 - accuracy: 0.1010 - val_loss: 2.4512 - val_accuracy: 0.4343\n",
      "Epoch 2/10\n",
      "422/422 [==============================] - 161s 382ms/step - loss: 1.4022 - accuracy: 0.5991 - val_loss: 0.8672 - val_accuracy: 0.8038\n",
      "Epoch 3/10\n",
      "422/422 [==============================] - 161s 381ms/step - loss: 0.5194 - accuracy: 0.8582 - val_loss: 0.5230 - val_accuracy: 0.8775\n",
      "Epoch 4/10\n",
      "422/422 [==============================] - 161s 382ms/step - loss: 0.3066 - accuracy: 0.9116 - val_loss: 0.2432 - val_accuracy: 0.9217\n",
      "Epoch 5/10\n",
      "422/422 [==============================] - 162s 383ms/step - loss: 0.2126 - accuracy: 0.9376 - val_loss: 0.2072 - val_accuracy: 0.9393\n",
      "Epoch 6/10\n",
      "422/422 [==============================] - 160s 380ms/step - loss: 0.1796 - accuracy: 0.9480 - val_loss: 0.1240 - val_accuracy: 0.9576\n",
      "Epoch 7/10\n",
      "422/422 [==============================] - 160s 380ms/step - loss: 0.1630 - accuracy: 0.9543 - val_loss: 0.1890 - val_accuracy: 0.9551\n",
      "Epoch 8/10\n",
      "422/422 [==============================] - 161s 380ms/step - loss: 0.1504 - accuracy: 0.9578 - val_loss: 0.2970 - val_accuracy: 0.9518\n",
      "Epoch 9/10\n",
      "422/422 [==============================] - 160s 380ms/step - loss: 0.1367 - accuracy: 0.9635 - val_loss: 0.2012 - val_accuracy: 0.9589\n",
      "Epoch 10/10\n",
      "422/422 [==============================] - 160s 379ms/step - loss: 0.1370 - accuracy: 0.9659 - val_loss: 0.1155 - val_accuracy: 0.9671\n",
      "Duration: 0:26:49.527377\n"
     ]
    }
   ],
   "source": [
    "print(n)#14\n",
    "\n",
    "models_dsa[n].fit_model(image_sets_dsa[n],label_sets_dsa[n],x_val,y_val)\n",
    "n = n+1"
   ]
  },
  {
   "cell_type": "code",
   "execution_count": 16,
   "id": "9c988977",
   "metadata": {},
   "outputs": [
    {
     "name": "stdout",
     "output_type": "stream",
     "text": [
      "15\n",
      "Epoch 1/10\n",
      "450/450 [==============================] - 204s 405ms/step - loss: 3.1576 - accuracy: 0.1438 - val_loss: 1.5678 - val_accuracy: 0.6833\n",
      "Epoch 2/10\n",
      "450/450 [==============================] - 179s 399ms/step - loss: 0.8570 - accuracy: 0.7603 - val_loss: 0.5319 - val_accuracy: 0.8701\n",
      "Epoch 3/10\n",
      "450/450 [==============================] - 176s 390ms/step - loss: 0.3837 - accuracy: 0.8898 - val_loss: 0.3236 - val_accuracy: 0.9097\n",
      "Epoch 4/10\n",
      "450/450 [==============================] - 172s 381ms/step - loss: 0.2533 - accuracy: 0.9282 - val_loss: 0.1940 - val_accuracy: 0.9426\n",
      "Epoch 5/10\n",
      "450/450 [==============================] - 172s 381ms/step - loss: 0.1999 - accuracy: 0.9417 - val_loss: 0.3138 - val_accuracy: 0.9331\n",
      "Epoch 6/10\n",
      "450/450 [==============================] - 171s 379ms/step - loss: 0.1688 - accuracy: 0.9528 - val_loss: 0.1810 - val_accuracy: 0.9533\n",
      "Epoch 7/10\n",
      "450/450 [==============================] - 169s 376ms/step - loss: 0.1494 - accuracy: 0.9588 - val_loss: 0.2579 - val_accuracy: 0.9472\n",
      "Epoch 8/10\n",
      "450/450 [==============================] - 169s 376ms/step - loss: 0.1325 - accuracy: 0.9638 - val_loss: 0.1792 - val_accuracy: 0.9599\n",
      "Epoch 9/10\n",
      "450/450 [==============================] - 169s 377ms/step - loss: 0.1357 - accuracy: 0.9630 - val_loss: 0.0936 - val_accuracy: 0.9770\n",
      "Epoch 10/10\n",
      "450/450 [==============================] - 169s 376ms/step - loss: 0.1381 - accuracy: 0.9650 - val_loss: 0.0783 - val_accuracy: 0.9793\n",
      "Duration: 0:29:10.259649\n"
     ]
    }
   ],
   "source": [
    "n=15\n",
    "print(n)\n",
    "\n",
    "models_dsa[n].fit_model(image_sets_dsa[n],label_sets_dsa[n],x_val,y_val)\n",
    "n = n+1"
   ]
  },
  {
   "cell_type": "code",
   "execution_count": 17,
   "id": "ffd1bd2d",
   "metadata": {},
   "outputs": [],
   "source": [
    "imporsleepepeptime\n",
    "time.sleep(400)"
   ]
  },
  {
   "cell_type": "code",
   "execution_count": 18,
   "id": "ef562e5b",
   "metadata": {},
   "outputs": [
    {
     "name": "stdout",
     "output_type": "stream",
     "text": [
      "16\n",
      "Epoch 1/10\n",
      "479/479 [==============================] - 184s 378ms/step - loss: 3.3170 - accuracy: 0.1118 - val_loss: 1.2765 - val_accuracy: 0.7152\n",
      "Epoch 2/10\n",
      "479/479 [==============================] - 182s 381ms/step - loss: 0.8603 - accuracy: 0.7575 - val_loss: 0.6509 - val_accuracy: 0.8377\n",
      "Epoch 3/10\n",
      "479/479 [==============================] - 182s 380ms/step - loss: 0.3186 - accuracy: 0.9111 - val_loss: 0.3738 - val_accuracy: 0.8890\n",
      "Epoch 4/10\n",
      "479/479 [==============================] - 182s 380ms/step - loss: 0.2121 - accuracy: 0.9391 - val_loss: 0.2051 - val_accuracy: 0.9367\n",
      "Epoch 5/10\n",
      "479/479 [==============================] - 182s 380ms/step - loss: 0.1614 - accuracy: 0.9542 - val_loss: 0.2674 - val_accuracy: 0.9339\n",
      "Epoch 6/10\n",
      "479/479 [==============================] - 208s 433ms/step - loss: 0.1326 - accuracy: 0.9629 - val_loss: 0.1990 - val_accuracy: 0.9533\n",
      "Epoch 7/10\n",
      "479/479 [==============================] - 196s 410ms/step - loss: 0.1224 - accuracy: 0.9671 - val_loss: 0.1084 - val_accuracy: 0.9686\n",
      "Epoch 8/10\n",
      "479/479 [==============================] - 193s 403ms/step - loss: 0.1229 - accuracy: 0.9667 - val_loss: 0.0853 - val_accuracy: 0.9796\n",
      "Epoch 9/10\n",
      "479/479 [==============================] - 192s 401ms/step - loss: 0.1161 - accuracy: 0.9692 - val_loss: 0.0704 - val_accuracy: 0.9821\n",
      "Epoch 10/10\n",
      "479/479 [==============================] - 196s 408ms/step - loss: 0.1108 - accuracy: 0.9722 - val_loss: 0.2514 - val_accuracy: 0.9630\n",
      "Duration: 0:31:36.646859\n"
     ]
    }
   ],
   "source": [
    "print(n)\n",
    "\n",
    "models_dsa[n].fit_model(image_sets_dsa[n],label_sets_dsa[n],x_val,y_val)\n",
    "n = n+1"
   ]
  },
  {
   "cell_type": "code",
   "execution_count": 19,
   "id": "02a0088e",
   "metadata": {},
   "outputs": [],
   "source": [
    "\n",
    "time.sleep(400)"
   ]
  },
  {
   "cell_type": "code",
   "execution_count": 20,
   "id": "6d4d8530",
   "metadata": {},
   "outputs": [
    {
     "name": "stdout",
     "output_type": "stream",
     "text": [
      "17\n",
      "Epoch 1/10\n",
      "507/507 [==============================] - 206s 401ms/step - loss: 3.2413 - accuracy: 0.1327 - val_loss: 1.0599 - val_accuracy: 0.7760\n",
      "Epoch 2/10\n",
      "507/507 [==============================] - 212s 418ms/step - loss: 0.7294 - accuracy: 0.7907 - val_loss: 0.5053 - val_accuracy: 0.8829\n",
      "Epoch 3/10\n",
      "507/507 [==============================] - 209s 412ms/step - loss: 0.3099 - accuracy: 0.9113 - val_loss: 0.3061 - val_accuracy: 0.9097\n",
      "Epoch 4/10\n",
      "507/507 [==============================] - 225s 443ms/step - loss: 0.2076 - accuracy: 0.9396 - val_loss: 0.2820 - val_accuracy: 0.9260\n",
      "Epoch 5/10\n",
      "507/507 [==============================] - 222s 438ms/step - loss: 0.1595 - accuracy: 0.9535 - val_loss: 0.1992 - val_accuracy: 0.9413\n",
      "Epoch 6/10\n",
      "507/507 [==============================] - 204s 402ms/step - loss: 0.1502 - accuracy: 0.9572 - val_loss: 0.6879 - val_accuracy: 0.9224\n",
      "Epoch 7/10\n",
      "507/507 [==============================] - 204s 402ms/step - loss: 0.1359 - accuracy: 0.9615 - val_loss: 0.1129 - val_accuracy: 0.9666\n",
      "Epoch 8/10\n",
      "507/507 [==============================] - 210s 414ms/step - loss: 0.1199 - accuracy: 0.9674 - val_loss: 0.4233 - val_accuracy: 0.9400\n",
      "Epoch 9/10\n",
      "507/507 [==============================] - 205s 405ms/step - loss: 0.1307 - accuracy: 0.9665 - val_loss: 0.1254 - val_accuracy: 0.9727\n",
      "Epoch 10/10\n",
      "507/507 [==============================] - 211s 417ms/step - loss: 0.1304 - accuracy: 0.9671 - val_loss: 0.1938 - val_accuracy: 0.9607\n",
      "Duration: 0:35:07.497289\n"
     ]
    }
   ],
   "source": [
    "print(n)\n",
    "\n",
    "models_dsa[n].fit_model(image_sets_dsa[n],label_sets_dsa[n],x_val,y_val)\n",
    "n = n+1"
   ]
  },
  {
   "cell_type": "code",
   "execution_count": 21,
   "id": "59df5459",
   "metadata": {},
   "outputs": [
    {
     "name": "stdout",
     "output_type": "stream",
     "text": [
      "18\n",
      "Epoch 1/10\n",
      "535/535 [==============================] - 225s 416ms/step - loss: 3.3417 - accuracy: 0.1018 - val_loss: 1.4125 - val_accuracy: 0.6670\n",
      "Epoch 2/10\n",
      "535/535 [==============================] - 224s 419ms/step - loss: 0.8738 - accuracy: 0.7495 - val_loss: 0.3142 - val_accuracy: 0.9094\n",
      "Epoch 3/10\n",
      "535/535 [==============================] - 229s 428ms/step - loss: 0.3012 - accuracy: 0.9120 - val_loss: 0.1478 - val_accuracy: 0.9564\n",
      "Epoch 4/10\n",
      "535/535 [==============================] - 230s 429ms/step - loss: 0.2013 - accuracy: 0.9420 - val_loss: 0.1330 - val_accuracy: 0.9561\n",
      "Epoch 5/10\n",
      "535/535 [==============================] - 231s 432ms/step - loss: 0.1499 - accuracy: 0.9544 - val_loss: 0.0460 - val_accuracy: 0.9855\n",
      "Epoch 6/10\n",
      "535/535 [==============================] - 229s 428ms/step - loss: 0.1247 - accuracy: 0.9640 - val_loss: 0.0914 - val_accuracy: 0.9773\n",
      "Epoch 7/10\n",
      "535/535 [==============================] - 222s 415ms/step - loss: 0.1103 - accuracy: 0.9678 - val_loss: 0.1123 - val_accuracy: 0.9778\n",
      "Epoch 8/10\n",
      "535/535 [==============================] - 213s 397ms/step - loss: 0.1138 - accuracy: 0.9694 - val_loss: 0.0379 - val_accuracy: 0.9898\n",
      "Epoch 9/10\n",
      "535/535 [==============================] - 213s 398ms/step - loss: 0.1053 - accuracy: 0.9718 - val_loss: 0.2360 - val_accuracy: 0.9653\n",
      "Epoch 10/10\n",
      "535/535 [==============================] - 212s 397ms/step - loss: 0.1060 - accuracy: 0.9705 - val_loss: 0.0656 - val_accuracy: 0.9844\n",
      "Duration: 0:37:07.940521\n"
     ]
    }
   ],
   "source": [
    "print(n)\n",
    "\n",
    "models_dsa[n].fit_model(image_sets_dsa[n],label_sets_dsa[n],x_val,y_val)\n",
    "n = n+1"
   ]
  },
  {
   "cell_type": "code",
   "execution_count": 17,
   "id": "ff9aad2b",
   "metadata": {},
   "outputs": [
    {
     "name": "stdout",
     "output_type": "stream",
     "text": [
      "19\n",
      "Epoch 1/10\n",
      "569/569 [==============================] - 250s 398ms/step - loss: 3.3096 - accuracy: 0.1187 - val_loss: 0.6853 - val_accuracy: 0.7954\n",
      "Epoch 2/10\n",
      "569/569 [==============================] - 215s 377ms/step - loss: 0.7437 - accuracy: 0.7773 - val_loss: 0.1748 - val_accuracy: 0.9477\n",
      "Epoch 3/10\n",
      "569/569 [==============================] - 214s 376ms/step - loss: 0.2689 - accuracy: 0.9209 - val_loss: 0.1415 - val_accuracy: 0.9582\n",
      "Epoch 4/10\n",
      "569/569 [==============================] - 213s 375ms/step - loss: 0.1773 - accuracy: 0.9490 - val_loss: 0.0479 - val_accuracy: 0.9867\n",
      "Epoch 5/10\n",
      "569/569 [==============================] - 212s 373ms/step - loss: 0.1349 - accuracy: 0.9607 - val_loss: 0.0316 - val_accuracy: 0.9939\n",
      "Epoch 6/10\n",
      "569/569 [==============================] - 211s 372ms/step - loss: 0.1071 - accuracy: 0.9695 - val_loss: 0.0235 - val_accuracy: 0.9934\n",
      "Epoch 7/10\n",
      "569/569 [==============================] - 211s 371ms/step - loss: 0.1096 - accuracy: 0.9685 - val_loss: 0.0322 - val_accuracy: 0.9936\n",
      "Epoch 8/10\n",
      "569/569 [==============================] - 212s 373ms/step - loss: 0.1017 - accuracy: 0.9727 - val_loss: 0.0263 - val_accuracy: 0.9944\n",
      "Epoch 9/10\n",
      "569/569 [==============================] - 211s 371ms/step - loss: 0.1036 - accuracy: 0.9741 - val_loss: 0.0274 - val_accuracy: 0.9939\n",
      "Epoch 10/10\n",
      "569/569 [==============================] - 211s 371ms/step - loss: 0.1087 - accuracy: 0.9726 - val_loss: 0.0475 - val_accuracy: 0.9946\n",
      "Duration: 0:36:02.545127\n"
     ]
    }
   ],
   "source": [
    "n=19\n",
    "print(n)#19\n",
    "\n",
    "models_dsa[n].fit_model(image_sets_dsa[n],label_sets_dsa[n],x_val,y_val)\n",
    "n = n+1"
   ]
  },
  {
   "cell_type": "code",
   "execution_count": 21,
   "id": "58f250fb",
   "metadata": {},
   "outputs": [
    {
     "name": "stdout",
     "output_type": "stream",
     "text": [
      "D:/models/gtsrb_models/C1/gtsrb_model_c1_sep_dsa_e2_0\n",
      "Model loaded correctly\n",
      "D:/models/gtsrb_models/C1/gtsrb_model_c1_sep_dsa_e2_1\n",
      "Model loaded correctly\n",
      "D:/models/gtsrb_models/C1/gtsrb_model_c1_sep_dsa_e2_2\n",
      "Model loaded correctly\n",
      "D:/models/gtsrb_models/C1/gtsrb_model_c1_sep_dsa_e2_3\n",
      "Model loaded correctly\n",
      "D:/models/gtsrb_models/C1/gtsrb_model_c1_sep_dsa_e2_4\n",
      "Model loaded correctly\n",
      "D:/models/gtsrb_models/C1/gtsrb_model_c1_sep_dsa_e2_5\n",
      "Model loaded correctly\n",
      "D:/models/gtsrb_models/C1/gtsrb_model_c1_sep_dsa_e2_6\n",
      "Model loaded correctly\n",
      "D:/models/gtsrb_models/C1/gtsrb_model_c1_sep_dsa_e2_7\n",
      "Model loaded correctly\n",
      "D:/models/gtsrb_models/C1/gtsrb_model_c1_sep_dsa_e2_8\n",
      "Model loaded correctly\n",
      "D:/models/gtsrb_models/C1/gtsrb_model_c1_sep_dsa_e2_9\n",
      "Model loaded correctly\n",
      "D:/models/gtsrb_models/C1/gtsrb_model_c1_sep_dsa_e2_10\n",
      "Model loaded correctly\n",
      "D:/models/gtsrb_models/C1/gtsrb_model_c1_sep_dsa_e2_11\n",
      "Model loaded correctly\n",
      "D:/models/gtsrb_models/C1/gtsrb_model_c1_sep_dsa_e2_12\n",
      "Model loaded correctly\n",
      "D:/models/gtsrb_models/C1/gtsrb_model_c1_sep_dsa_e2_13\n",
      "Model loaded correctly\n",
      "D:/models/gtsrb_models/C1/gtsrb_model_c1_sep_dsa_e2_14\n",
      "Model loaded correctly\n",
      "D:/models/gtsrb_models/C1/gtsrb_model_c1_sep_dsa_e2_15\n",
      "Model loaded correctly\n",
      "D:/models/gtsrb_models/C1/gtsrb_model_c1_sep_dsa_e2_16\n",
      "Model loaded correctly\n",
      "D:/models/gtsrb_models/C1/gtsrb_model_c1_sep_dsa_e2_17\n",
      "Model loaded correctly\n",
      "D:/models/gtsrb_models/C1/gtsrb_model_c1_sep_dsa_e2_18\n",
      "Model loaded correctly\n",
      "D:/models/gtsrb_models/C1/gtsrb_model_c1_sep_dsa_e2_19\n",
      "Model loaded correctly\n"
     ]
    }
   ],
   "source": [
    "loading = True\n",
    "\n",
    "models_dsa = []\n",
    "\n",
    "if loading:\n",
    "    for i in range(20):\n",
    "        model_dsa_dir = \"D:/models/gtsrb_models/C1/gtsrb_model_c1_sep_dsa_e2_\"+str(i)\n",
    "        print(model_dsa_dir)\n",
    "        model =utils.My_model('gtsrb',True,model_dsa_dir)\n",
    "        model.model.compile(loss= 'categorical_crossentropy', optimizer = 'rmsprop', metrics = ['accuracy',tf.keras.metrics.Precision(), tf.keras.metrics.Recall()])\n",
    "        models_dsa.append(model)\n",
    "       \n",
    "    "
   ]
  },
  {
   "cell_type": "markdown",
   "id": "bf9b45e9",
   "metadata": {},
   "source": [
    "## Random"
   ]
  },
  {
   "cell_type": "markdown",
   "id": "11198aa3",
   "metadata": {},
   "source": [
    "## point random"
   ]
  },
  {
   "cell_type": "code",
   "execution_count": null,
   "id": "3581436b",
   "metadata": {},
   "outputs": [],
   "source": [
    "import random\n",
    "random_indexes =list(range(len(x_train_and_adversary)))\n",
    "random.shuffle(random_indexes)\n",
    "print(random_indexes[:10])\n",
    "print(len(random_indexes))"
   ]
  },
  {
   "cell_type": "code",
   "execution_count": 11,
   "id": "0eca574c",
   "metadata": {},
   "outputs": [],
   "source": [
    "save_dir = \"C:/Users/fjdur/Desktop/upc/project_notebooks/github_project/DL_notebooks/SA_values/gtsrb_random_values_e2.npy\"\n",
    "\n",
    "#np.save(save_dir,np.array(random_indexes))\n",
    "\n",
    "random_indexes = np.load(save_dir)"
   ]
  },
  {
   "cell_type": "code",
   "execution_count": 12,
   "id": "d13ccb6c",
   "metadata": {},
   "outputs": [],
   "source": [
    "# Obtaining top n images by random values\n",
    "top_images_by_random = utils.get_x_of_indexes(list(np.flip(np.argsort(random_indexes))),x_train_and_adversary)\n",
    "top_labels_by_random = utils.get_x_of_indexes(list(np.flip(np.argsort(random_indexes))),y_train_and_adversary)"
   ]
  },
  {
   "cell_type": "code",
   "execution_count": 13,
   "id": "1209ac75",
   "metadata": {},
   "outputs": [
    {
     "name": "stdout",
     "output_type": "stream",
     "text": [
      "0 :\n",
      "0  ->  1800\n",
      "1800\n",
      "1 :\n",
      "0  ->  3600\n",
      "3600\n",
      "2 :\n",
      "0  ->  5400\n",
      "5400\n",
      "3 :\n",
      "0  ->  7200\n",
      "7200\n",
      "4 :\n",
      "0  ->  9000\n",
      "9000\n",
      "5 :\n",
      "0  ->  10800\n",
      "10800\n",
      "6 :\n",
      "0  ->  12600\n",
      "12600\n",
      "7 :\n",
      "0  ->  14400\n",
      "14400\n",
      "8 :\n",
      "0  ->  16200\n",
      "16200\n",
      "9 :\n",
      "0  ->  18000\n",
      "18000\n",
      "10 :\n",
      "0  ->  19800\n",
      "19800\n",
      "11 :\n",
      "0  ->  21600\n",
      "21600\n",
      "12 :\n",
      "0  ->  23400\n",
      "23400\n",
      "13 :\n",
      "0  ->  25200\n",
      "25200\n",
      "14 :\n",
      "0  ->  27000\n",
      "27000\n",
      "15 :\n",
      "0  ->  28800\n",
      "28800\n",
      "16 :\n",
      "0  ->  30600\n",
      "30600\n",
      "17 :\n",
      "0  ->  32400\n",
      "32400\n",
      "18 :\n",
      "0  ->  34200\n",
      "34200\n",
      "19 :\n",
      "Last\n",
      "0  ->  36366\n",
      "36366\n"
     ]
    }
   ],
   "source": [
    "m = 1800\n",
    "n = 0\n",
    "image_sets_random = []\n",
    "label_sets_random = []\n",
    "\n",
    "\n",
    "for i in range(len(top_images_by_random)//m):\n",
    "    print(i,\":\")\n",
    "    if (i+1 >= len(top_images_by_random)//m):\n",
    "        print(\"Last\")\n",
    "        print(0,\" -> \",n+m+(len(top_images_by_random)%m))\n",
    "        top_images_by_random_n = np.array(top_images_by_random[:n+m+(len(top_images_by_random)%m)])\n",
    "        top_labels_by_random_n = np.array(top_labels_by_random[:n+m+(len(top_images_by_random)%m)])\n",
    "    else:\n",
    "        print(0,\" -> \",m+n)\n",
    "        top_images_by_random_n = np.array(top_images_by_random[:n+m])\n",
    "        top_labels_by_random_n = np.array(top_labels_by_random[:n+m])\n",
    "    image_sets_random.append(top_images_by_random_n)\n",
    "    label_sets_random.append(top_labels_by_random_n)\n",
    "    print(len(top_images_by_random_n))\n",
    "    n += m\n",
    "\n"
   ]
  },
  {
   "cell_type": "code",
   "execution_count": 14,
   "id": "3ed47a88",
   "metadata": {},
   "outputs": [
    {
     "data": {
      "text/plain": [
       "20"
      ]
     },
     "execution_count": 14,
     "metadata": {},
     "output_type": "execute_result"
    }
   ],
   "source": [
    "len(image_sets_random)"
   ]
  },
  {
   "cell_type": "code",
   "execution_count": null,
   "id": "89d604af",
   "metadata": {},
   "outputs": [],
   "source": []
  },
  {
   "cell_type": "code",
   "execution_count": 15,
   "id": "3f03e1cf",
   "metadata": {},
   "outputs": [
    {
     "name": "stdout",
     "output_type": "stream",
     "text": [
      "C:/Users/fjdur/Desktop/upc/project_notebooks/github_project/DL_notebooks/models/tf_model_25-06\n",
      "0 :\n",
      "Model compiled\n",
      "1 :\n",
      "Model compiled\n",
      "2 :\n",
      "Model compiled\n",
      "3 :\n",
      "Model compiled\n",
      "4 :\n",
      "Model compiled\n",
      "5 :\n",
      "Model compiled\n",
      "6 :\n",
      "Model compiled\n",
      "7 :\n",
      "Model compiled\n",
      "8 :\n",
      "Model compiled\n",
      "9 :\n",
      "Model compiled\n",
      "10 :\n",
      "Model compiled\n",
      "11 :\n",
      "Model compiled\n",
      "12 :\n",
      "Model compiled\n",
      "13 :\n",
      "Model compiled\n",
      "14 :\n",
      "Model compiled\n",
      "15 :\n",
      "Model compiled\n",
      "16 :\n",
      "Model compiled\n",
      "17 :\n",
      "Model compiled\n",
      "18 :\n",
      "Model compiled\n",
      "19 :\n",
      "Model compiled\n"
     ]
    }
   ],
   "source": [
    "print(model_dir)\n",
    "\n",
    "models_random = []\n",
    "for i in range(len(label_sets_random)):\n",
    "    print(i,\":\")\n",
    "    model = utils.My_model('gtsrb',False,None)\n",
    "    model.compile_model()\n",
    "    models_random.append(model)\n"
   ]
  },
  {
   "cell_type": "code",
   "execution_count": 16,
   "id": "14912c8b",
   "metadata": {},
   "outputs": [
    {
     "name": "stdout",
     "output_type": "stream",
     "text": [
      "0\n",
      "Epoch 1/10\n",
      "29/29 [==============================] - 38s 590ms/step - loss: 3.7573 - accuracy: 0.0341 - val_loss: 3.5743 - val_accuracy: 0.0528\n",
      "Epoch 2/10\n",
      "29/29 [==============================] - 16s 575ms/step - loss: 3.5847 - accuracy: 0.0473 - val_loss: 3.5109 - val_accuracy: 0.0551\n",
      "Epoch 3/10\n",
      "29/29 [==============================] - 16s 569ms/step - loss: 3.5457 - accuracy: 0.0513 - val_loss: 3.5402 - val_accuracy: 0.0574\n",
      "Epoch 4/10\n",
      "29/29 [==============================] - 16s 575ms/step - loss: 3.5276 - accuracy: 0.0522 - val_loss: 3.4934 - val_accuracy: 0.0551\n",
      "Epoch 5/10\n",
      "29/29 [==============================] - 17s 578ms/step - loss: 3.5570 - accuracy: 0.0627 - val_loss: 3.5130 - val_accuracy: 0.0633\n",
      "Epoch 6/10\n",
      "29/29 [==============================] - 17s 581ms/step - loss: 3.5170 - accuracy: 0.0608 - val_loss: 3.5110 - val_accuracy: 0.0602\n",
      "Epoch 7/10\n",
      "29/29 [==============================] - 17s 584ms/step - loss: 3.4767 - accuracy: 0.0592 - val_loss: 3.4588 - val_accuracy: 0.0811\n",
      "Epoch 8/10\n",
      "29/29 [==============================] - 17s 609ms/step - loss: 3.4365 - accuracy: 0.0785 - val_loss: 3.4498 - val_accuracy: 0.0786\n",
      "Epoch 9/10\n",
      "29/29 [==============================] - 17s 583ms/step - loss: 3.3923 - accuracy: 0.1068 - val_loss: 3.1834 - val_accuracy: 0.1722\n",
      "Epoch 10/10\n",
      "29/29 [==============================] - 17s 578ms/step - loss: 3.2017 - accuracy: 0.1533 - val_loss: 2.9818 - val_accuracy: 0.2253\n",
      "Duration: 0:03:08.654754\n"
     ]
    }
   ],
   "source": [
    "n=0\n",
    "print(n)\n",
    "\n",
    "models_random[n].fit_model(image_sets_random[n],label_sets_random[n],x_val,y_val)\n",
    "n = n+1"
   ]
  },
  {
   "cell_type": "code",
   "execution_count": 17,
   "id": "f28e27b1",
   "metadata": {},
   "outputs": [
    {
     "name": "stdout",
     "output_type": "stream",
     "text": [
      "1\n",
      "Epoch 1/10\n",
      "57/57 [==============================] - 30s 486ms/step - loss: 3.7371 - accuracy: 0.0432 - val_loss: 3.5505 - val_accuracy: 0.0574\n",
      "Epoch 2/10\n",
      "57/57 [==============================] - 28s 486ms/step - loss: 3.5520 - accuracy: 0.0520 - val_loss: 3.4673 - val_accuracy: 0.0648\n",
      "Epoch 3/10\n",
      "57/57 [==============================] - 27s 479ms/step - loss: 3.4824 - accuracy: 0.0638 - val_loss: 3.4042 - val_accuracy: 0.0814\n",
      "Epoch 4/10\n",
      "57/57 [==============================] - 27s 480ms/step - loss: 3.4027 - accuracy: 0.0878 - val_loss: 3.3153 - val_accuracy: 0.1557\n",
      "Epoch 5/10\n",
      "57/57 [==============================] - 27s 482ms/step - loss: 3.1662 - accuracy: 0.1599 - val_loss: 2.6356 - val_accuracy: 0.2883\n",
      "Epoch 6/10\n",
      "57/57 [==============================] - 31s 547ms/step - loss: 2.7194 - accuracy: 0.2608 - val_loss: 2.0898 - val_accuracy: 0.3996\n",
      "Epoch 7/10\n",
      "57/57 [==============================] - 28s 486ms/step - loss: 2.1859 - accuracy: 0.3844 - val_loss: 1.6494 - val_accuracy: 0.5027\n",
      "Epoch 8/10\n",
      "57/57 [==============================] - 28s 486ms/step - loss: 1.8655 - accuracy: 0.4558 - val_loss: 1.2252 - val_accuracy: 0.6236\n",
      "Epoch 9/10\n",
      "57/57 [==============================] - 1855s 33s/step - loss: 1.5171 - accuracy: 0.5452 - val_loss: 1.0799 - val_accuracy: 0.6558\n",
      "Epoch 10/10\n",
      "57/57 [==============================] - 30s 526ms/step - loss: 1.1520 - accuracy: 0.6508 - val_loss: 0.6875 - val_accuracy: 0.7954\n",
      "Duration: 0:35:10.853084\n"
     ]
    }
   ],
   "source": [
    "print(n)\n",
    "\n",
    "models_random[n].fit_model(image_sets_random[n],label_sets_random[n],x_val,y_val)\n",
    "n = n+1"
   ]
  },
  {
   "cell_type": "code",
   "execution_count": 18,
   "id": "86be2715",
   "metadata": {},
   "outputs": [
    {
     "name": "stdout",
     "output_type": "stream",
     "text": [
      "2\n",
      "Epoch 1/10\n",
      "85/85 [==============================] - 42s 459ms/step - loss: 3.6877 - accuracy: 0.0438 - val_loss: 3.5415 - val_accuracy: 0.0735\n",
      "Epoch 2/10\n",
      "85/85 [==============================] - 38s 453ms/step - loss: 3.4927 - accuracy: 0.0729 - val_loss: 3.4555 - val_accuracy: 0.0824\n",
      "Epoch 3/10\n",
      "85/85 [==============================] - 39s 458ms/step - loss: 3.4259 - accuracy: 0.0778 - val_loss: 3.2613 - val_accuracy: 0.1350\n",
      "Epoch 4/10\n",
      "85/85 [==============================] - 39s 456ms/step - loss: 3.1217 - accuracy: 0.1755 - val_loss: 2.1075 - val_accuracy: 0.4647\n",
      "Epoch 5/10\n",
      "85/85 [==============================] - 39s 456ms/step - loss: 2.1923 - accuracy: 0.4210 - val_loss: 1.3417 - val_accuracy: 0.6275\n",
      "Epoch 6/10\n",
      "85/85 [==============================] - 39s 460ms/step - loss: 1.5323 - accuracy: 0.5721 - val_loss: 0.8142 - val_accuracy: 0.7548\n",
      "Epoch 7/10\n",
      "85/85 [==============================] - 40s 468ms/step - loss: 1.0654 - accuracy: 0.6787 - val_loss: 0.4902 - val_accuracy: 0.8569\n",
      "Epoch 8/10\n",
      "85/85 [==============================] - 41s 482ms/step - loss: 0.7779 - accuracy: 0.7606 - val_loss: 0.3381 - val_accuracy: 0.8928\n",
      "Epoch 9/10\n",
      "85/85 [==============================] - 39s 464ms/step - loss: 0.6304 - accuracy: 0.8037 - val_loss: 0.2350 - val_accuracy: 0.9316\n",
      "Epoch 10/10\n",
      "85/85 [==============================] - 39s 455ms/step - loss: 0.5052 - accuracy: 0.8474 - val_loss: 0.1914 - val_accuracy: 0.9428\n",
      "Duration: 0:06:34.313113\n"
     ]
    }
   ],
   "source": [
    "print(n)\n",
    "\n",
    "models_random[n].fit_model(image_sets_random[n],label_sets_random[n],x_val,y_val)\n",
    "n = n+1"
   ]
  },
  {
   "cell_type": "code",
   "execution_count": 19,
   "id": "ac9da2be",
   "metadata": {
    "scrolled": true
   },
   "outputs": [
    {
     "name": "stdout",
     "output_type": "stream",
     "text": [
      "3\n",
      "Epoch 1/10\n",
      "113/113 [==============================] - 53s 440ms/step - loss: 3.6409 - accuracy: 0.0512 - val_loss: 3.4400 - val_accuracy: 0.0758\n",
      "Epoch 2/10\n",
      "113/113 [==============================] - 49s 434ms/step - loss: 3.4717 - accuracy: 0.0752 - val_loss: 3.3461 - val_accuracy: 0.1171\n",
      "Epoch 3/10\n",
      "113/113 [==============================] - 49s 438ms/step - loss: 3.0909 - accuracy: 0.1738 - val_loss: 1.9051 - val_accuracy: 0.5011\n",
      "Epoch 4/10\n",
      "113/113 [==============================] - 50s 442ms/step - loss: 1.9372 - accuracy: 0.4546 - val_loss: 1.0540 - val_accuracy: 0.7208\n",
      "Epoch 5/10\n",
      "113/113 [==============================] - 50s 440ms/step - loss: 1.2822 - accuracy: 0.6069 - val_loss: 0.5217 - val_accuracy: 0.8454\n",
      "Epoch 6/10\n",
      "113/113 [==============================] - 50s 440ms/step - loss: 0.8314 - accuracy: 0.7447 - val_loss: 0.3672 - val_accuracy: 0.8849\n",
      "Epoch 7/10\n",
      "113/113 [==============================] - 50s 439ms/step - loss: 0.5806 - accuracy: 0.8180 - val_loss: 0.2901 - val_accuracy: 0.9176\n",
      "Epoch 8/10\n",
      "113/113 [==============================] - 50s 440ms/step - loss: 0.4435 - accuracy: 0.8594 - val_loss: 0.1718 - val_accuracy: 0.9464\n",
      "Epoch 9/10\n",
      "113/113 [==============================] - 50s 440ms/step - loss: 0.3370 - accuracy: 0.8918 - val_loss: 0.1332 - val_accuracy: 0.9607\n",
      "Epoch 10/10\n",
      "113/113 [==============================] - 50s 441ms/step - loss: 0.2933 - accuracy: 0.9083 - val_loss: 0.1505 - val_accuracy: 0.9518\n",
      "Duration: 0:08:19.097963\n"
     ]
    }
   ],
   "source": [
    "print(n)\n",
    "\n",
    "models_random[n].fit_model(image_sets_random[n],label_sets_random[n],x_val,y_val)\n",
    "n = n+1"
   ]
  },
  {
   "cell_type": "code",
   "execution_count": 20,
   "id": "0c0f3809",
   "metadata": {},
   "outputs": [
    {
     "name": "stdout",
     "output_type": "stream",
     "text": [
      "4\n",
      "Epoch 1/10\n",
      "141/141 [==============================] - 63s 427ms/step - loss: 3.6274 - accuracy: 0.0512 - val_loss: 3.4348 - val_accuracy: 0.0692\n",
      "Epoch 2/10\n",
      "141/141 [==============================] - 60s 423ms/step - loss: 3.4213 - accuracy: 0.0898 - val_loss: 2.7912 - val_accuracy: 0.2682\n",
      "Epoch 3/10\n",
      "141/141 [==============================] - 60s 427ms/step - loss: 2.6720 - accuracy: 0.2719 - val_loss: 1.6594 - val_accuracy: 0.5228\n",
      "Epoch 4/10\n",
      "141/141 [==============================] - 60s 427ms/step - loss: 1.8375 - accuracy: 0.4671 - val_loss: 1.0877 - val_accuracy: 0.7007\n",
      "Epoch 5/10\n",
      "141/141 [==============================] - 61s 429ms/step - loss: 1.1260 - accuracy: 0.6581 - val_loss: 0.3818 - val_accuracy: 0.8875\n",
      "Epoch 6/10\n",
      "141/141 [==============================] - 60s 429ms/step - loss: 0.7313 - accuracy: 0.7724 - val_loss: 0.2496 - val_accuracy: 0.9316\n",
      "Epoch 7/10\n",
      "141/141 [==============================] - 60s 428ms/step - loss: 0.5391 - accuracy: 0.8281 - val_loss: 0.2026 - val_accuracy: 0.9436\n",
      "Epoch 8/10\n",
      "141/141 [==============================] - 60s 426ms/step - loss: 0.4060 - accuracy: 0.8753 - val_loss: 0.1177 - val_accuracy: 0.9645\n",
      "Epoch 9/10\n",
      "141/141 [==============================] - 60s 427ms/step - loss: 0.3225 - accuracy: 0.8998 - val_loss: 0.1067 - val_accuracy: 0.9717\n",
      "Epoch 10/10\n",
      "141/141 [==============================] - 60s 427ms/step - loss: 0.2654 - accuracy: 0.9197 - val_loss: 0.0814 - val_accuracy: 0.9801\n",
      "Duration: 0:10:04.561490\n"
     ]
    }
   ],
   "source": [
    "print(n)#4\n",
    "\n",
    "models_random[n].fit_model(image_sets_random[n],label_sets_random[n],x_val,y_val)\n",
    "n = n+1"
   ]
  },
  {
   "cell_type": "code",
   "execution_count": 21,
   "id": "cf722ccd",
   "metadata": {},
   "outputs": [
    {
     "name": "stdout",
     "output_type": "stream",
     "text": [
      "5\n",
      "Epoch 1/10\n",
      "169/169 [==============================] - 74s 419ms/step - loss: 3.6009 - accuracy: 0.0590 - val_loss: 3.3534 - val_accuracy: 0.0982\n",
      "Epoch 2/10\n",
      "169/169 [==============================] - 71s 418ms/step - loss: 3.1851 - accuracy: 0.1450 - val_loss: 1.9019 - val_accuracy: 0.4830\n",
      "Epoch 3/10\n",
      "169/169 [==============================] - 71s 420ms/step - loss: 1.7339 - accuracy: 0.5100 - val_loss: 0.5486 - val_accuracy: 0.8400\n",
      "Epoch 4/10\n",
      "169/169 [==============================] - 71s 422ms/step - loss: 0.8764 - accuracy: 0.7410 - val_loss: 0.5666 - val_accuracy: 0.8706\n",
      "Epoch 5/10\n",
      "169/169 [==============================] - 71s 420ms/step - loss: 0.5592 - accuracy: 0.8280 - val_loss: 0.1694 - val_accuracy: 0.9556\n",
      "Epoch 6/10\n",
      "169/169 [==============================] - 71s 421ms/step - loss: 0.3535 - accuracy: 0.8918 - val_loss: 0.1537 - val_accuracy: 0.9564\n",
      "Epoch 7/10\n",
      "169/169 [==============================] - 71s 419ms/step - loss: 0.2715 - accuracy: 0.9219 - val_loss: 0.0716 - val_accuracy: 0.9793\n",
      "Epoch 8/10\n",
      "169/169 [==============================] - 71s 420ms/step - loss: 0.2057 - accuracy: 0.9392 - val_loss: 0.0573 - val_accuracy: 0.9829\n",
      "Epoch 9/10\n",
      "169/169 [==============================] - 71s 423ms/step - loss: 0.1734 - accuracy: 0.9510 - val_loss: 0.0762 - val_accuracy: 0.9809\n",
      "Epoch 10/10\n",
      "169/169 [==============================] - 71s 420ms/step - loss: 0.1512 - accuracy: 0.9538 - val_loss: 0.0460 - val_accuracy: 0.9883\n",
      "Duration: 0:11:52.689819\n"
     ]
    }
   ],
   "source": [
    "print(n)\n",
    "\n",
    "models_random[n].fit_model(image_sets_random[n],label_sets_random[n],x_val,y_val)\n",
    "n = n+1"
   ]
  },
  {
   "cell_type": "code",
   "execution_count": 22,
   "id": "35301e47",
   "metadata": {},
   "outputs": [
    {
     "name": "stdout",
     "output_type": "stream",
     "text": [
      "6\n",
      "Epoch 1/10\n",
      "197/197 [==============================] - 84s 413ms/step - loss: 3.6092 - accuracy: 0.0548 - val_loss: 3.3439 - val_accuracy: 0.0926\n",
      "Epoch 2/10\n",
      "197/197 [==============================] - 90s 459ms/step - loss: 2.9166 - accuracy: 0.2160 - val_loss: 1.2261 - val_accuracy: 0.6680\n",
      "Epoch 3/10\n",
      "197/197 [==============================] - 90s 455ms/step - loss: 1.3960 - accuracy: 0.5896 - val_loss: 0.3738 - val_accuracy: 0.8987\n",
      "Epoch 4/10\n",
      "197/197 [==============================] - 82s 417ms/step - loss: 0.6615 - accuracy: 0.8027 - val_loss: 0.1952 - val_accuracy: 0.9418\n",
      "Epoch 5/10\n",
      "197/197 [==============================] - 82s 416ms/step - loss: 0.4338 - accuracy: 0.8695 - val_loss: 0.1562 - val_accuracy: 0.9576\n",
      "Epoch 6/10\n",
      "197/197 [==============================] - 82s 418ms/step - loss: 0.2937 - accuracy: 0.9107 - val_loss: 0.1320 - val_accuracy: 0.9650\n",
      "Epoch 7/10\n",
      "197/197 [==============================] - 82s 416ms/step - loss: 0.2396 - accuracy: 0.9286 - val_loss: 0.0869 - val_accuracy: 0.9758\n",
      "Epoch 8/10\n",
      "197/197 [==============================] - 82s 415ms/step - loss: 0.1931 - accuracy: 0.9421 - val_loss: 0.1075 - val_accuracy: 0.9742\n",
      "Epoch 9/10\n",
      "197/197 [==============================] - 82s 418ms/step - loss: 0.1656 - accuracy: 0.9518 - val_loss: 0.0651 - val_accuracy: 0.9811\n",
      "Epoch 10/10\n",
      "197/197 [==============================] - 84s 427ms/step - loss: 0.1424 - accuracy: 0.9571 - val_loss: 0.0557 - val_accuracy: 0.9872\n",
      "Duration: 0:14:00.407340\n"
     ]
    }
   ],
   "source": [
    "print(n)\n",
    "\n",
    "models_random[n].fit_model(image_sets_random[n],label_sets_random[n],x_val,y_val)\n",
    "n = n+1"
   ]
  },
  {
   "cell_type": "code",
   "execution_count": 23,
   "id": "31086dab",
   "metadata": {},
   "outputs": [
    {
     "name": "stdout",
     "output_type": "stream",
     "text": [
      "7\n",
      "Epoch 1/10\n",
      "225/225 [==============================] - 95s 411ms/step - loss: 3.5759 - accuracy: 0.0578 - val_loss: 3.1929 - val_accuracy: 0.1258\n",
      "Epoch 2/10\n",
      "225/225 [==============================] - 92s 411ms/step - loss: 2.8140 - accuracy: 0.2408 - val_loss: 1.1541 - val_accuracy: 0.6795\n",
      "Epoch 3/10\n",
      "225/225 [==============================] - 94s 417ms/step - loss: 1.2927 - accuracy: 0.6099 - val_loss: 0.3623 - val_accuracy: 0.8961\n",
      "Epoch 4/10\n",
      "225/225 [==============================] - 93s 414ms/step - loss: 0.6296 - accuracy: 0.8055 - val_loss: 0.1541 - val_accuracy: 0.9525\n",
      "Epoch 5/10\n",
      "225/225 [==============================] - 93s 412ms/step - loss: 0.3673 - accuracy: 0.8866 - val_loss: 0.1963 - val_accuracy: 0.9413\n",
      "Epoch 6/10\n",
      "225/225 [==============================] - 93s 413ms/step - loss: 0.2537 - accuracy: 0.9205 - val_loss: 0.0624 - val_accuracy: 0.9826\n",
      "Epoch 7/10\n",
      "225/225 [==============================] - 93s 412ms/step - loss: 0.1898 - accuracy: 0.9401 - val_loss: 0.0452 - val_accuracy: 0.9890\n",
      "Epoch 8/10\n",
      "225/225 [==============================] - 93s 413ms/step - loss: 0.1695 - accuracy: 0.9510 - val_loss: 0.0397 - val_accuracy: 0.9898\n",
      "Epoch 9/10\n",
      "225/225 [==============================] - 92s 411ms/step - loss: 0.1468 - accuracy: 0.9574 - val_loss: 0.0477 - val_accuracy: 0.9888\n",
      "Epoch 10/10\n",
      "225/225 [==============================] - 1116s 5s/step - loss: 0.1282 - accuracy: 0.9618 - val_loss: 0.0602 - val_accuracy: 0.9880\n",
      "Duration: 0:32:33.817622\n"
     ]
    }
   ],
   "source": [
    "n=7\n",
    "print(n)\n",
    "\n",
    "models_random[n].fit_model(image_sets_random[n],label_sets_random[n],x_val,y_val)\n",
    "n = n+1"
   ]
  },
  {
   "cell_type": "code",
   "execution_count": 24,
   "id": "693f95bc",
   "metadata": {},
   "outputs": [
    {
     "name": "stdout",
     "output_type": "stream",
     "text": [
      "8\n",
      "Epoch 1/10\n",
      "254/254 [==============================] - 117s 448ms/step - loss: 3.5825 - accuracy: 0.0521 - val_loss: 3.3737 - val_accuracy: 0.1003\n",
      "Epoch 2/10\n",
      "254/254 [==============================] - 113s 444ms/step - loss: 2.9357 - accuracy: 0.2186 - val_loss: 1.4497 - val_accuracy: 0.5670\n",
      "Epoch 3/10\n",
      "254/254 [==============================] - 113s 447ms/step - loss: 1.2766 - accuracy: 0.6240 - val_loss: 0.4685 - val_accuracy: 0.8569\n",
      "Epoch 4/10\n",
      "254/254 [==============================] - 116s 458ms/step - loss: 0.5799 - accuracy: 0.8294 - val_loss: 0.3331 - val_accuracy: 0.8954\n",
      "Epoch 5/10\n",
      "254/254 [==============================] - 124s 488ms/step - loss: 0.3505 - accuracy: 0.8943 - val_loss: 0.0985 - val_accuracy: 0.9712\n",
      "Epoch 6/10\n",
      "254/254 [==============================] - 122s 482ms/step - loss: 0.2472 - accuracy: 0.9230 - val_loss: 0.2178 - val_accuracy: 0.9418\n",
      "Epoch 7/10\n",
      "254/254 [==============================] - 109s 428ms/step - loss: 0.2072 - accuracy: 0.9400 - val_loss: 0.0945 - val_accuracy: 0.9732\n",
      "Epoch 8/10\n",
      "254/254 [==============================] - 113s 447ms/step - loss: 0.1685 - accuracy: 0.9485 - val_loss: 0.0323 - val_accuracy: 0.9908\n",
      "Epoch 9/10\n",
      "254/254 [==============================] - 112s 441ms/step - loss: 0.1314 - accuracy: 0.9602 - val_loss: 0.0711 - val_accuracy: 0.9786\n",
      "Epoch 10/10\n",
      "254/254 [==============================] - 111s 436ms/step - loss: 0.1300 - accuracy: 0.9642 - val_loss: 0.0354 - val_accuracy: 0.9898\n",
      "Duration: 0:19:10.581327\n"
     ]
    }
   ],
   "source": [
    "print(n)\n",
    "\n",
    "models_random[n].fit_model(image_sets_random[n],label_sets_random[n],x_val,y_val)\n",
    "n = n+1"
   ]
  },
  {
   "cell_type": "code",
   "execution_count": 25,
   "id": "6e0e5801",
   "metadata": {
    "scrolled": false
   },
   "outputs": [
    {
     "name": "stdout",
     "output_type": "stream",
     "text": [
      "9\n",
      "Epoch 1/10\n",
      "282/282 [==============================] - 121s 419ms/step - loss: 3.5651 - accuracy: 0.0575 - val_loss: 3.1664 - val_accuracy: 0.1528\n",
      "Epoch 2/10\n",
      "282/282 [==============================] - 120s 425ms/step - loss: 2.6061 - accuracy: 0.3005 - val_loss: 0.8468 - val_accuracy: 0.7800\n",
      "Epoch 3/10\n",
      "282/282 [==============================] - 126s 447ms/step - loss: 0.8731 - accuracy: 0.7336 - val_loss: 0.3533 - val_accuracy: 0.8977\n",
      "Epoch 4/10\n",
      "282/282 [==============================] - 125s 445ms/step - loss: 0.4353 - accuracy: 0.8655 - val_loss: 0.1031 - val_accuracy: 0.9663\n",
      "Epoch 5/10\n",
      "282/282 [==============================] - 120s 426ms/step - loss: 0.2828 - accuracy: 0.9218 - val_loss: 0.0790 - val_accuracy: 0.9763\n",
      "Epoch 6/10\n",
      "282/282 [==============================] - 118s 418ms/step - loss: 0.2040 - accuracy: 0.9353 - val_loss: 0.0495 - val_accuracy: 0.9842\n",
      "Epoch 7/10\n",
      "282/282 [==============================] - 121s 431ms/step - loss: 0.1724 - accuracy: 0.9477 - val_loss: 0.0448 - val_accuracy: 0.9903\n",
      "Epoch 8/10\n",
      "282/282 [==============================] - 124s 440ms/step - loss: 0.1439 - accuracy: 0.9576 - val_loss: 0.0585 - val_accuracy: 0.9832\n",
      "Epoch 9/10\n",
      "282/282 [==============================] - 129s 457ms/step - loss: 0.1185 - accuracy: 0.9648 - val_loss: 0.0423 - val_accuracy: 0.9908\n",
      "Epoch 10/10\n",
      "282/282 [==============================] - 129s 456ms/step - loss: 0.1186 - accuracy: 0.9653 - val_loss: 0.0317 - val_accuracy: 0.9934\n",
      "Duration: 0:20:33.640579\n"
     ]
    }
   ],
   "source": [
    "n=9\n",
    "print(n)#9\n",
    "\n",
    "models_random[n].fit_model(image_sets_random[n],label_sets_random[n],x_val,y_val)\n",
    "n = n+1"
   ]
  },
  {
   "cell_type": "code",
   "execution_count": 15,
   "id": "ebd0756a",
   "metadata": {},
   "outputs": [
    {
     "name": "stdout",
     "output_type": "stream",
     "text": [
      "10\n",
      "Epoch 1/10\n",
      "310/310 [==============================] - 175s 430ms/step - loss: 3.5669 - accuracy: 0.0567 - val_loss: 3.5757 - val_accuracy: 0.0566\n",
      "Epoch 2/10\n",
      "310/310 [==============================] - 129s 415ms/step - loss: 3.4454 - accuracy: 0.0780 - val_loss: 2.2232 - val_accuracy: 0.4353\n",
      "Epoch 3/10\n",
      "310/310 [==============================] - 120s 388ms/step - loss: 1.9111 - accuracy: 0.4643 - val_loss: 0.5532 - val_accuracy: 0.8267\n",
      "Epoch 4/10\n",
      "310/310 [==============================] - 121s 389ms/step - loss: 0.6990 - accuracy: 0.7805 - val_loss: 0.1467 - val_accuracy: 0.9579\n",
      "Epoch 5/10\n",
      "310/310 [==============================] - 120s 387ms/step - loss: 0.3883 - accuracy: 0.8858 - val_loss: 0.1012 - val_accuracy: 0.9696\n",
      "Epoch 6/10\n",
      "310/310 [==============================] - 122s 393ms/step - loss: 0.2663 - accuracy: 0.9214 - val_loss: 0.0574 - val_accuracy: 0.9847\n",
      "Epoch 7/10\n",
      "310/310 [==============================] - 120s 386ms/step - loss: 0.2075 - accuracy: 0.9358 - val_loss: 0.0475 - val_accuracy: 0.9880\n",
      "Epoch 8/10\n",
      "310/310 [==============================] - 119s 385ms/step - loss: 0.1690 - accuracy: 0.9529 - val_loss: 0.0519 - val_accuracy: 0.9849\n",
      "Epoch 9/10\n",
      "310/310 [==============================] - 119s 383ms/step - loss: 0.1509 - accuracy: 0.9577 - val_loss: 0.0329 - val_accuracy: 0.9911\n",
      "Epoch 10/10\n",
      "310/310 [==============================] - 119s 383ms/step - loss: 0.1310 - accuracy: 0.9610 - val_loss: 0.0339 - val_accuracy: 0.9923\n",
      "Duration: 0:21:04.839002\n"
     ]
    }
   ],
   "source": [
    "n=10\n",
    "print(n)\n",
    "\n",
    "models_random[n].fit_model(image_sets_random[n],label_sets_random[n],x_val,y_val)\n",
    "n = n+1"
   ]
  },
  {
   "cell_type": "code",
   "execution_count": 16,
   "id": "8c267b21",
   "metadata": {},
   "outputs": [
    {
     "name": "stdout",
     "output_type": "stream",
     "text": [
      "11\n",
      "Epoch 1/10\n",
      "338/338 [==============================] - 131s 380ms/step - loss: 3.5746 - accuracy: 0.0606 - val_loss: 2.6815 - val_accuracy: 0.2883\n",
      "Epoch 2/10\n",
      "338/338 [==============================] - 129s 383ms/step - loss: 1.9938 - accuracy: 0.4455 - val_loss: 0.4166 - val_accuracy: 0.8811\n",
      "Epoch 3/10\n",
      "338/338 [==============================] - 129s 382ms/step - loss: 0.6712 - accuracy: 0.7977 - val_loss: 0.1347 - val_accuracy: 0.9663\n",
      "Epoch 4/10\n",
      "338/338 [==============================] - 129s 383ms/step - loss: 0.3421 - accuracy: 0.8997 - val_loss: 0.0650 - val_accuracy: 0.9842\n",
      "Epoch 5/10\n",
      "338/338 [==============================] - 129s 382ms/step - loss: 0.2312 - accuracy: 0.9298 - val_loss: 0.0787 - val_accuracy: 0.9781\n",
      "Epoch 6/10\n",
      "338/338 [==============================] - 129s 382ms/step - loss: 0.1914 - accuracy: 0.9425 - val_loss: 0.0408 - val_accuracy: 0.9895\n",
      "Epoch 7/10\n",
      "338/338 [==============================] - 129s 382ms/step - loss: 0.1580 - accuracy: 0.9548 - val_loss: 0.0442 - val_accuracy: 0.9911\n",
      "Epoch 8/10\n",
      "338/338 [==============================] - 129s 382ms/step - loss: 0.1259 - accuracy: 0.9633 - val_loss: 0.0391 - val_accuracy: 0.9893\n",
      "Epoch 9/10\n",
      "338/338 [==============================] - 129s 382ms/step - loss: 0.1116 - accuracy: 0.9665 - val_loss: 0.0321 - val_accuracy: 0.9929\n",
      "Epoch 10/10\n",
      "338/338 [==============================] - 129s 381ms/step - loss: 0.1018 - accuracy: 0.9714 - val_loss: 0.0471 - val_accuracy: 0.9885\n",
      "Duration: 0:21:33.366024\n"
     ]
    }
   ],
   "source": [
    "print(n)\n",
    "\n",
    "models_random[n].fit_model(image_sets_random[n],label_sets_random[n],x_val,y_val)\n",
    "n = n+1"
   ]
  },
  {
   "cell_type": "code",
   "execution_count": 19,
   "id": "a0f77dbe",
   "metadata": {},
   "outputs": [
    {
     "name": "stdout",
     "output_type": "stream",
     "text": [
      "12\n",
      "Epoch 1/10\n",
      "366/366 [==============================] - 140s 382ms/step - loss: 1.0397 - accuracy: 0.6882 - val_loss: 0.2151 - val_accuracy: 0.9490\n",
      "Epoch 2/10\n",
      "366/366 [==============================] - 144s 393ms/step - loss: 0.3981 - accuracy: 0.8770 - val_loss: 0.0814 - val_accuracy: 0.9765\n",
      "Epoch 3/10\n",
      "366/366 [==============================] - 141s 387ms/step - loss: 0.2463 - accuracy: 0.9279 - val_loss: 0.0667 - val_accuracy: 0.9832\n",
      "Epoch 4/10\n",
      "366/366 [==============================] - 142s 389ms/step - loss: 0.1775 - accuracy: 0.9506 - val_loss: 0.0381 - val_accuracy: 0.9898\n",
      "Epoch 5/10\n",
      "366/366 [==============================] - 163s 446ms/step - loss: 0.1431 - accuracy: 0.9576 - val_loss: 0.0289 - val_accuracy: 0.9939\n",
      "Epoch 6/10\n",
      "366/366 [==============================] - 174s 475ms/step - loss: 0.1217 - accuracy: 0.9644 - val_loss: 0.0505 - val_accuracy: 0.9898\n",
      "Epoch 7/10\n",
      "366/366 [==============================] - 159s 434ms/step - loss: 0.1099 - accuracy: 0.9692 - val_loss: 0.0819 - val_accuracy: 0.9839\n",
      "Epoch 8/10\n",
      "366/366 [==============================] - 160s 436ms/step - loss: 0.1072 - accuracy: 0.9702 - val_loss: 0.0345 - val_accuracy: 0.9941\n",
      "Epoch 9/10\n",
      "366/366 [==============================] - 148s 403ms/step - loss: 0.0974 - accuracy: 0.9736 - val_loss: 0.0384 - val_accuracy: 0.9890\n",
      "Epoch 10/10\n",
      "366/366 [==============================] - 151s 413ms/step - loss: 0.1000 - accuracy: 0.9724 - val_loss: 0.0315 - val_accuracy: 0.9946\n",
      "Duration: 0:25:21.781277\n"
     ]
    }
   ],
   "source": [
    "n=12\n",
    "print(n)\n",
    "\n",
    "models_random[n].fit_model(image_sets_random[n],label_sets_random[n],x_val,y_val)\n",
    "n = n+1"
   ]
  },
  {
   "cell_type": "code",
   "execution_count": 20,
   "id": "f6406922",
   "metadata": {},
   "outputs": [
    {
     "name": "stdout",
     "output_type": "stream",
     "text": [
      "13\n",
      "Epoch 1/10\n",
      "394/394 [==============================] - 165s 411ms/step - loss: 3.5026 - accuracy: 0.0748 - val_loss: 1.7145 - val_accuracy: 0.5282\n",
      "Epoch 2/10\n",
      "394/394 [==============================] - 155s 395ms/step - loss: 1.5134 - accuracy: 0.5623 - val_loss: 0.2516 - val_accuracy: 0.9314\n",
      "Epoch 3/10\n",
      "394/394 [==============================] - 164s 417ms/step - loss: 0.4962 - accuracy: 0.8596 - val_loss: 0.0868 - val_accuracy: 0.9775\n",
      "Epoch 4/10\n",
      "394/394 [==============================] - 163s 414ms/step - loss: 0.2764 - accuracy: 0.9200 - val_loss: 0.0597 - val_accuracy: 0.9870\n",
      "Epoch 5/10\n",
      "394/394 [==============================] - 194s 494ms/step - loss: 0.1970 - accuracy: 0.9443 - val_loss: 0.0440 - val_accuracy: 0.9906\n",
      "Epoch 6/10\n",
      "394/394 [==============================] - 179s 453ms/step - loss: 0.1560 - accuracy: 0.9555 - val_loss: 0.0428 - val_accuracy: 0.9893\n",
      "Epoch 7/10\n",
      "394/394 [==============================] - 170s 433ms/step - loss: 0.1357 - accuracy: 0.9625 - val_loss: 0.0333 - val_accuracy: 0.9926\n",
      "Epoch 8/10\n",
      "394/394 [==============================] - 176s 446ms/step - loss: 0.1235 - accuracy: 0.9648 - val_loss: 0.0370 - val_accuracy: 0.9918\n",
      "Epoch 9/10\n",
      "394/394 [==============================] - 158s 400ms/step - loss: 0.1157 - accuracy: 0.9692 - val_loss: 0.0292 - val_accuracy: 0.9952\n",
      "Epoch 10/10\n",
      "394/394 [==============================] - 157s 398ms/step - loss: 0.1101 - accuracy: 0.9701 - val_loss: 0.0388 - val_accuracy: 0.9898\n",
      "Duration: 0:28:01.408894\n"
     ]
    }
   ],
   "source": [
    "print(n)\n",
    "\n",
    "models_random[n].fit_model(image_sets_random[n],label_sets_random[n],x_val,y_val)\n",
    "n = n+1"
   ]
  },
  {
   "cell_type": "code",
   "execution_count": 21,
   "id": "7a13139a",
   "metadata": {},
   "outputs": [
    {
     "name": "stdout",
     "output_type": "stream",
     "text": [
      "14\n",
      "Epoch 1/10\n",
      "422/422 [==============================] - 172s 400ms/step - loss: 3.5171 - accuracy: 0.0712 - val_loss: 1.8475 - val_accuracy: 0.5144\n",
      "Epoch 2/10\n",
      "422/422 [==============================] - 168s 397ms/step - loss: 1.5085 - accuracy: 0.5607 - val_loss: 0.2244 - val_accuracy: 0.9370\n",
      "Epoch 3/10\n",
      "422/422 [==============================] - 170s 403ms/step - loss: 0.4623 - accuracy: 0.8621 - val_loss: 0.0676 - val_accuracy: 0.9832\n",
      "Epoch 4/10\n",
      "422/422 [==============================] - 174s 412ms/step - loss: 0.2538 - accuracy: 0.9253 - val_loss: 0.0383 - val_accuracy: 0.9903\n",
      "Epoch 5/10\n",
      "422/422 [==============================] - 169s 399ms/step - loss: 0.1623 - accuracy: 0.9515 - val_loss: 0.0353 - val_accuracy: 0.9926\n",
      "Epoch 6/10\n",
      "422/422 [==============================] - 164s 387ms/step - loss: 0.1382 - accuracy: 0.9586 - val_loss: 0.0346 - val_accuracy: 0.9913\n",
      "Epoch 7/10\n",
      "422/422 [==============================] - 185s 438ms/step - loss: 0.1162 - accuracy: 0.9664 - val_loss: 0.0313 - val_accuracy: 0.9936\n",
      "Epoch 8/10\n",
      "422/422 [==============================] - 183s 434ms/step - loss: 0.1089 - accuracy: 0.9704 - val_loss: 0.0454 - val_accuracy: 0.9908\n",
      "Epoch 9/10\n",
      "422/422 [==============================] - 168s 398ms/step - loss: 0.0983 - accuracy: 0.9736 - val_loss: 0.0299 - val_accuracy: 0.9944\n",
      "Epoch 10/10\n",
      "422/422 [==============================] - 167s 395ms/step - loss: 0.0958 - accuracy: 0.9750 - val_loss: 0.0446 - val_accuracy: 0.9934\n",
      "Duration: 0:28:38.115156\n"
     ]
    }
   ],
   "source": [
    "print(n)#14\n",
    "\n",
    "models_random[n].fit_model(image_sets_random[n],label_sets_random[n],x_val,y_val)\n",
    "n = n+1"
   ]
  },
  {
   "cell_type": "code",
   "execution_count": 22,
   "id": "78517ef0",
   "metadata": {},
   "outputs": [
    {
     "name": "stdout",
     "output_type": "stream",
     "text": [
      "15\n",
      "Epoch 1/10\n",
      "450/450 [==============================] - 174s 380ms/step - loss: 3.4679 - accuracy: 0.0812 - val_loss: 1.3075 - val_accuracy: 0.6315\n",
      "Epoch 2/10\n",
      "450/450 [==============================] - 172s 381ms/step - loss: 1.2619 - accuracy: 0.6251 - val_loss: 0.2313 - val_accuracy: 0.9472\n",
      "Epoch 3/10\n",
      "450/450 [==============================] - 171s 380ms/step - loss: 0.3846 - accuracy: 0.8828 - val_loss: 0.0734 - val_accuracy: 0.9824\n",
      "Epoch 4/10\n",
      "450/450 [==============================] - 171s 380ms/step - loss: 0.2299 - accuracy: 0.9338 - val_loss: 0.0471 - val_accuracy: 0.9880\n",
      "Epoch 5/10\n",
      "450/450 [==============================] - 171s 380ms/step - loss: 0.1700 - accuracy: 0.9508 - val_loss: 0.0352 - val_accuracy: 0.9913\n",
      "Epoch 6/10\n",
      "450/450 [==============================] - 169s 377ms/step - loss: 0.1392 - accuracy: 0.9600 - val_loss: 0.0224 - val_accuracy: 0.9946\n",
      "Epoch 7/10\n",
      "450/450 [==============================] - 171s 381ms/step - loss: 0.1323 - accuracy: 0.9630 - val_loss: 0.0279 - val_accuracy: 0.9931\n",
      "Epoch 8/10\n",
      "450/450 [==============================] - 170s 379ms/step - loss: 0.1171 - accuracy: 0.9677 - val_loss: 0.0283 - val_accuracy: 0.9944\n",
      "Epoch 9/10\n",
      "450/450 [==============================] - 169s 375ms/step - loss: 0.1084 - accuracy: 0.9706 - val_loss: 0.0278 - val_accuracy: 0.9929\n",
      "Epoch 10/10\n",
      "450/450 [==============================] - 168s 373ms/step - loss: 0.1046 - accuracy: 0.9709 - val_loss: 0.0356 - val_accuracy: 0.9923\n",
      "Duration: 0:28:26.727946\n"
     ]
    }
   ],
   "source": [
    "print(n)\n",
    "\n",
    "models_random[n].fit_model(image_sets_random[n],label_sets_random[n],x_val,y_val)\n",
    "n = n+1"
   ]
  },
  {
   "cell_type": "code",
   "execution_count": 23,
   "id": "be924fe3",
   "metadata": {},
   "outputs": [
    {
     "name": "stdout",
     "output_type": "stream",
     "text": [
      "16\n",
      "Epoch 1/10\n",
      "479/479 [==============================] - 184s 378ms/step - loss: 3.4491 - accuracy: 0.0840 - val_loss: 1.0992 - val_accuracy: 0.6935\n",
      "Epoch 2/10\n",
      "479/479 [==============================] - 183s 381ms/step - loss: 1.0294 - accuracy: 0.7013 - val_loss: 0.1311 - val_accuracy: 0.9645\n",
      "Epoch 3/10\n",
      "479/479 [==============================] - 184s 384ms/step - loss: 0.3255 - accuracy: 0.9019 - val_loss: 0.0709 - val_accuracy: 0.9826\n",
      "Epoch 4/10\n",
      "479/479 [==============================] - 183s 383ms/step - loss: 0.2019 - accuracy: 0.9422 - val_loss: 0.0675 - val_accuracy: 0.9798\n",
      "Epoch 5/10\n",
      "479/479 [==============================] - 193s 402ms/step - loss: 0.1572 - accuracy: 0.9543 - val_loss: 0.0763 - val_accuracy: 0.9737\n",
      "Epoch 6/10\n",
      "479/479 [==============================] - 183s 381ms/step - loss: 0.1306 - accuracy: 0.9617 - val_loss: 0.0323 - val_accuracy: 0.9926\n",
      "Epoch 7/10\n",
      "479/479 [==============================] - 186s 388ms/step - loss: 0.1157 - accuracy: 0.9673 - val_loss: 0.0425 - val_accuracy: 0.9893\n",
      "Epoch 8/10\n",
      "479/479 [==============================] - 183s 382ms/step - loss: 0.1016 - accuracy: 0.9712 - val_loss: 0.0897 - val_accuracy: 0.9742\n",
      "Epoch 9/10\n",
      "479/479 [==============================] - 184s 383ms/step - loss: 0.1014 - accuracy: 0.9717 - val_loss: 0.0251 - val_accuracy: 0.9944\n",
      "Epoch 10/10\n",
      "479/479 [==============================] - 189s 395ms/step - loss: 0.1002 - accuracy: 0.9727 - val_loss: 0.0230 - val_accuracy: 0.9957\n",
      "Duration: 0:30:50.554200\n"
     ]
    }
   ],
   "source": [
    "n=16\n",
    "print(n)\n",
    "\n",
    "models_random[n].fit_model(image_sets_random[n],label_sets_random[n],x_val,y_val)\n",
    "n = n+1"
   ]
  },
  {
   "cell_type": "code",
   "execution_count": 24,
   "id": "f4b40a6c",
   "metadata": {},
   "outputs": [
    {
     "name": "stdout",
     "output_type": "stream",
     "text": [
      "17\n",
      "Epoch 1/10\n",
      "507/507 [==============================] - 200s 389ms/step - loss: 3.4570 - accuracy: 0.0857 - val_loss: 0.9360 - val_accuracy: 0.7249\n",
      "Epoch 2/10\n",
      "507/507 [==============================] - 213s 420ms/step - loss: 0.9613 - accuracy: 0.7161 - val_loss: 0.1254 - val_accuracy: 0.9579\n",
      "Epoch 3/10\n",
      "507/507 [==============================] - 198s 390ms/step - loss: 0.2948 - accuracy: 0.9112 - val_loss: 0.0461 - val_accuracy: 0.9898\n",
      "Epoch 4/10\n",
      "507/507 [==============================] - 194s 384ms/step - loss: 0.1812 - accuracy: 0.9459 - val_loss: 0.0451 - val_accuracy: 0.9855\n",
      "Epoch 5/10\n",
      "507/507 [==============================] - 194s 383ms/step - loss: 0.1337 - accuracy: 0.9604 - val_loss: 0.1868 - val_accuracy: 0.9656\n",
      "Epoch 6/10\n",
      "507/507 [==============================] - 194s 382ms/step - loss: 0.1186 - accuracy: 0.9656 - val_loss: 0.0334 - val_accuracy: 0.9931\n",
      "Epoch 7/10\n",
      "507/507 [==============================] - 199s 392ms/step - loss: 0.1159 - accuracy: 0.9677 - val_loss: 0.0263 - val_accuracy: 0.9934\n",
      "Epoch 8/10\n",
      "507/507 [==============================] - 194s 383ms/step - loss: 0.0991 - accuracy: 0.9730 - val_loss: 0.0431 - val_accuracy: 0.9911\n",
      "Epoch 9/10\n",
      "507/507 [==============================] - 194s 382ms/step - loss: 0.0940 - accuracy: 0.9736 - val_loss: 0.0455 - val_accuracy: 0.9913\n",
      "Epoch 10/10\n",
      "507/507 [==============================] - 227s 448ms/step - loss: 0.1064 - accuracy: 0.9734 - val_loss: 0.0319 - val_accuracy: 0.9944\n",
      "Duration: 0:33:26.638265\n"
     ]
    }
   ],
   "source": [
    "print(n)\n",
    "\n",
    "models_random[n].fit_model(image_sets_random[n],label_sets_random[n],x_val,y_val)\n",
    "n = n+1"
   ]
  },
  {
   "cell_type": "code",
   "execution_count": 25,
   "id": "d6ee7926",
   "metadata": {},
   "outputs": [
    {
     "name": "stdout",
     "output_type": "stream",
     "text": [
      "18\n",
      "Epoch 1/10\n",
      "535/535 [==============================] - 243s 448ms/step - loss: 3.2757 - accuracy: 0.1317 - val_loss: 0.5808 - val_accuracy: 0.8247\n",
      "Epoch 2/10\n",
      "535/535 [==============================] - 215s 402ms/step - loss: 0.7525 - accuracy: 0.7794 - val_loss: 0.0935 - val_accuracy: 0.9778\n",
      "Epoch 3/10\n",
      "535/535 [==============================] - 209s 390ms/step - loss: 0.2952 - accuracy: 0.9117 - val_loss: 0.0640 - val_accuracy: 0.9867\n",
      "Epoch 4/10\n",
      "535/535 [==============================] - 208s 388ms/step - loss: 0.2020 - accuracy: 0.9404 - val_loss: 0.0364 - val_accuracy: 0.9911\n",
      "Epoch 5/10\n",
      "535/535 [==============================] - 218s 408ms/step - loss: 0.1570 - accuracy: 0.9535 - val_loss: 0.0776 - val_accuracy: 0.9783\n",
      "Epoch 6/10\n",
      "535/535 [==============================] - 205s 384ms/step - loss: 0.1312 - accuracy: 0.9617 - val_loss: 0.0264 - val_accuracy: 0.9934\n",
      "Epoch 7/10\n",
      "535/535 [==============================] - 206s 386ms/step - loss: 0.1156 - accuracy: 0.9672 - val_loss: 0.0254 - val_accuracy: 0.9944\n",
      "Epoch 8/10\n",
      "535/535 [==============================] - 206s 386ms/step - loss: 0.1072 - accuracy: 0.9703 - val_loss: 0.0396 - val_accuracy: 0.9908\n",
      "Epoch 9/10\n",
      "535/535 [==============================] - 207s 387ms/step - loss: 0.1092 - accuracy: 0.9719 - val_loss: 0.0346 - val_accuracy: 0.9906\n",
      "Epoch 10/10\n",
      "535/535 [==============================] - 205s 382ms/step - loss: 0.1100 - accuracy: 0.9709 - val_loss: 0.0314 - val_accuracy: 0.9934\n",
      "Duration: 0:35:22.505613\n"
     ]
    }
   ],
   "source": [
    "n=18\n",
    "print(n)\n",
    "\n",
    "models_random[n].fit_model(image_sets_random[n],label_sets_random[n],x_val,y_val)\n",
    "n = n+1"
   ]
  },
  {
   "cell_type": "code",
   "execution_count": 16,
   "id": "e6497c26",
   "metadata": {},
   "outputs": [
    {
     "name": "stdout",
     "output_type": "stream",
     "text": [
      "19\n",
      "Epoch 1/10\n",
      "569/569 [==============================] - 254s 401ms/step - loss: 3.4296 - accuracy: 0.0873 - val_loss: 1.3789 - val_accuracy: 0.6696\n",
      "Epoch 2/10\n",
      "569/569 [==============================] - 225s 396ms/step - loss: 0.9284 - accuracy: 0.7200 - val_loss: 0.1323 - val_accuracy: 0.9633\n",
      "Epoch 3/10\n",
      "569/569 [==============================] - 217s 381ms/step - loss: 0.2782 - accuracy: 0.9174 - val_loss: 0.0484 - val_accuracy: 0.9878\n",
      "Epoch 4/10\n",
      "569/569 [==============================] - 217s 382ms/step - loss: 0.1877 - accuracy: 0.9458 - val_loss: 0.1001 - val_accuracy: 0.9735\n",
      "Epoch 5/10\n",
      "569/569 [==============================] - 216s 380ms/step - loss: 0.1468 - accuracy: 0.9581 - val_loss: 0.0467 - val_accuracy: 0.9880\n",
      "Epoch 6/10\n",
      "569/569 [==============================] - 214s 376ms/step - loss: 0.1156 - accuracy: 0.9667 - val_loss: 0.1972 - val_accuracy: 0.9446\n",
      "Epoch 7/10\n",
      "569/569 [==============================] - 214s 376ms/step - loss: 0.1176 - accuracy: 0.9681 - val_loss: 0.0350 - val_accuracy: 0.9941\n",
      "Epoch 8/10\n",
      "569/569 [==============================] - 214s 376ms/step - loss: 0.1092 - accuracy: 0.9720 - val_loss: 0.0260 - val_accuracy: 0.9949\n",
      "Epoch 9/10\n",
      "569/569 [==============================] - 213s 374ms/step - loss: 0.1084 - accuracy: 0.9720 - val_loss: 0.0365 - val_accuracy: 0.9916\n",
      "Epoch 10/10\n",
      "569/569 [==============================] - 213s 375ms/step - loss: 0.1181 - accuracy: 0.9709 - val_loss: 0.0340 - val_accuracy: 0.9939\n",
      "Duration: 0:36:37.715948\n"
     ]
    }
   ],
   "source": [
    "n=19\n",
    "print(n)#19\n",
    "\n",
    "models_random[n].fit_model(image_sets_random[n],label_sets_random[n],x_val,y_val)\n",
    "n = n+1"
   ]
  },
  {
   "cell_type": "code",
   "execution_count": 22,
   "id": "4d243087",
   "metadata": {},
   "outputs": [
    {
     "name": "stdout",
     "output_type": "stream",
     "text": [
      "D:/models/gtsrb_models/C1/gtsrb_model_c1_sep_random_e2_0\n",
      "Model loaded correctly\n",
      "D:/models/gtsrb_models/C1/gtsrb_model_c1_sep_random_e2_1\n",
      "Model loaded correctly\n",
      "D:/models/gtsrb_models/C1/gtsrb_model_c1_sep_random_e2_2\n",
      "Model loaded correctly\n",
      "D:/models/gtsrb_models/C1/gtsrb_model_c1_sep_random_e2_3\n",
      "Model loaded correctly\n",
      "D:/models/gtsrb_models/C1/gtsrb_model_c1_sep_random_e2_4\n",
      "Model loaded correctly\n",
      "D:/models/gtsrb_models/C1/gtsrb_model_c1_sep_random_e2_5\n",
      "Model loaded correctly\n",
      "D:/models/gtsrb_models/C1/gtsrb_model_c1_sep_random_e2_6\n",
      "Model loaded correctly\n",
      "D:/models/gtsrb_models/C1/gtsrb_model_c1_sep_random_e2_7\n",
      "Model loaded correctly\n",
      "D:/models/gtsrb_models/C1/gtsrb_model_c1_sep_random_e2_8\n",
      "Model loaded correctly\n",
      "D:/models/gtsrb_models/C1/gtsrb_model_c1_sep_random_e2_9\n",
      "Model loaded correctly\n",
      "D:/models/gtsrb_models/C1/gtsrb_model_c1_sep_random_e2_10\n",
      "Model loaded correctly\n",
      "D:/models/gtsrb_models/C1/gtsrb_model_c1_sep_random_e2_11\n",
      "Model loaded correctly\n",
      "D:/models/gtsrb_models/C1/gtsrb_model_c1_sep_random_e2_12\n",
      "Model loaded correctly\n",
      "D:/models/gtsrb_models/C1/gtsrb_model_c1_sep_random_e2_13\n",
      "Model loaded correctly\n",
      "D:/models/gtsrb_models/C1/gtsrb_model_c1_sep_random_e2_14\n",
      "Model loaded correctly\n",
      "D:/models/gtsrb_models/C1/gtsrb_model_c1_sep_random_e2_15\n",
      "Model loaded correctly\n",
      "D:/models/gtsrb_models/C1/gtsrb_model_c1_sep_random_e2_16\n",
      "Model loaded correctly\n",
      "D:/models/gtsrb_models/C1/gtsrb_model_c1_sep_random_e2_17\n",
      "Model loaded correctly\n",
      "D:/models/gtsrb_models/C1/gtsrb_model_c1_sep_random_e2_18\n",
      "Model loaded correctly\n",
      "D:/models/gtsrb_models/C1/gtsrb_model_c1_sep_random_e2_19\n",
      "Model loaded correctly\n"
     ]
    }
   ],
   "source": [
    "loading = True\n",
    "\n",
    "models_random = []\n",
    "\n",
    "if loading:\n",
    "    for i in range(20):\n",
    "        model_random_dir = \"D:/models/gtsrb_models/C1/gtsrb_model_c1_sep_random_e2_\"+str(i)\n",
    "        print(model_random_dir)\n",
    "        model =utils.My_model('gtsrb',True,model_random_dir)\n",
    "        model.model.compile(loss= 'categorical_crossentropy', optimizer = 'rmsprop', metrics = ['accuracy',tf.keras.metrics.Precision(), tf.keras.metrics.Recall()])\n",
    "        models_random.append(model)\n",
    "       "
   ]
  },
  {
   "cell_type": "markdown",
   "id": "884629f5",
   "metadata": {},
   "source": [
    "## NC"
   ]
  },
  {
   "cell_type": "markdown",
   "id": "58a54b05",
   "metadata": {},
   "source": [
    "## point nc"
   ]
  },
  {
   "cell_type": "code",
   "execution_count": 11,
   "id": "e53f2bcb",
   "metadata": {},
   "outputs": [],
   "source": [
    "# NC\n",
    "nc_values = []\n",
    "for i in range(1,38):\n",
    "    save_dir_rand = \"C:/Users/fjdur/Desktop/upc/project_notebooks/github_project/DL_notebooks/NC_values/nc_values_\"+str(i)+\".npy\"\n",
    "    #print(save_dir_rand)\n",
    "    tmp_values = np.load(save_dir_rand)\n",
    "    #print(tmp_values.shape)\n",
    "    nc_values = np.append(nc_values,tmp_values)"
   ]
  },
  {
   "cell_type": "code",
   "execution_count": 12,
   "id": "637de522",
   "metadata": {},
   "outputs": [
    {
     "data": {
      "text/plain": [
       "(36366,)"
      ]
     },
     "execution_count": 12,
     "metadata": {},
     "output_type": "execute_result"
    }
   ],
   "source": [
    "nc_values.shape"
   ]
  },
  {
   "cell_type": "code",
   "execution_count": 13,
   "id": "024f3314",
   "metadata": {},
   "outputs": [],
   "source": [
    "\n",
    "top_images_by_nc = utils.get_x_of_indexes(list(np.flip(np.argsort(nc_values))),x_train_and_adversary)\n",
    "top_labels_by_nc = utils.get_x_of_indexes(list(np.flip(np.argsort(nc_values))),y_train_and_adversary)\n"
   ]
  },
  {
   "cell_type": "code",
   "execution_count": 14,
   "id": "7490c255",
   "metadata": {},
   "outputs": [
    {
     "name": "stdout",
     "output_type": "stream",
     "text": [
      "0 :\n",
      "0  ->  1800\n",
      "1800\n",
      "1 :\n",
      "0  ->  3600\n",
      "3600\n",
      "2 :\n",
      "0  ->  5400\n",
      "5400\n",
      "3 :\n",
      "0  ->  7200\n",
      "7200\n",
      "4 :\n",
      "0  ->  9000\n",
      "9000\n",
      "5 :\n",
      "0  ->  10800\n",
      "10800\n",
      "6 :\n",
      "0  ->  12600\n",
      "12600\n",
      "7 :\n",
      "0  ->  14400\n",
      "14400\n",
      "8 :\n",
      "0  ->  16200\n",
      "16200\n",
      "9 :\n",
      "0  ->  18000\n",
      "18000\n",
      "10 :\n",
      "0  ->  19800\n",
      "19800\n",
      "11 :\n",
      "0  ->  21600\n",
      "21600\n",
      "12 :\n",
      "0  ->  23400\n",
      "23400\n",
      "13 :\n",
      "0  ->  25200\n",
      "25200\n",
      "14 :\n",
      "0  ->  27000\n",
      "27000\n",
      "15 :\n",
      "0  ->  28800\n",
      "28800\n",
      "16 :\n",
      "0  ->  30600\n",
      "30600\n",
      "17 :\n",
      "0  ->  32400\n",
      "32400\n",
      "18 :\n",
      "0  ->  34200\n",
      "34200\n",
      "19 :\n",
      "Last\n",
      "0  ->  36366\n",
      "36366\n"
     ]
    }
   ],
   "source": [
    "m = 1800\n",
    "n = 0\n",
    "image_sets_nc = []\n",
    "label_sets_nc = []\n",
    "\n",
    "\n",
    "for i in range(len(top_images_by_nc)//m):\n",
    "    print(i,\":\")\n",
    "    if (i+1 >= len(top_images_by_nc)//m):\n",
    "        print(\"Last\")\n",
    "        print(0,\" -> \",n+m+(len(top_images_by_nc)%m))\n",
    "        top_images_by_nc_n = np.array(top_images_by_nc[:n+m+(len(top_images_by_nc)%m)])\n",
    "        top_labels_by_nc_n = np.array(top_labels_by_nc[:n+m+(len(top_images_by_nc)%m)])\n",
    "    else:\n",
    "        print(0,\" -> \",m+n)\n",
    "        top_images_by_nc_n = np.array(top_images_by_nc[:n+m])\n",
    "        top_labels_by_nc_n = np.array(top_labels_by_nc[:n+m])\n",
    "    image_sets_nc.append(top_images_by_nc_n)\n",
    "    label_sets_nc.append(top_labels_by_nc_n)\n",
    "    print(len(top_images_by_nc_n))\n",
    "    n += m\n",
    "\n"
   ]
  },
  {
   "cell_type": "code",
   "execution_count": 19,
   "id": "0a65e301",
   "metadata": {},
   "outputs": [
    {
     "name": "stdout",
     "output_type": "stream",
     "text": [
      "C:/Users/fjdur/Desktop/upc/project_notebooks/github_project/DL_notebooks/models/tf_model_25-06\n",
      "0 :\n",
      "Model compiled\n",
      "1 :\n",
      "Model compiled\n",
      "2 :\n",
      "Model compiled\n",
      "3 :\n",
      "Model compiled\n",
      "4 :\n",
      "Model compiled\n",
      "5 :\n",
      "Model compiled\n",
      "6 :\n",
      "Model compiled\n",
      "7 :\n",
      "Model compiled\n",
      "8 :\n",
      "Model compiled\n",
      "9 :\n",
      "Model compiled\n",
      "10 :\n",
      "Model compiled\n",
      "11 :\n",
      "Model compiled\n",
      "12 :\n",
      "Model compiled\n",
      "13 :\n",
      "Model compiled\n",
      "14 :\n",
      "Model compiled\n",
      "15 :\n",
      "Model compiled\n",
      "16 :\n",
      "Model compiled\n",
      "17 :\n",
      "Model compiled\n",
      "18 :\n",
      "Model compiled\n",
      "19 :\n",
      "Model compiled\n"
     ]
    }
   ],
   "source": [
    "print(model_dir)\n",
    "\n",
    "models_nc = []\n",
    "for i in range(len(label_sets_nc)):\n",
    "    print(i,\":\")\n",
    "    model = utils.My_model('gtsrb',False,None)\n",
    "    model.compile_model()\n",
    "    models_nc.append(model)\n"
   ]
  },
  {
   "cell_type": "code",
   "execution_count": 16,
   "id": "df0b6c8f",
   "metadata": {},
   "outputs": [
    {
     "name": "stdout",
     "output_type": "stream",
     "text": [
      "0\n",
      "Epoch 1/10\n",
      "29/29 [==============================] - 49s 724ms/step - loss: 2.3543 - accuracy: 0.3907 - val_loss: 5.1915 - val_accuracy: 0.0625\n",
      "Epoch 2/10\n",
      "29/29 [==============================] - 19s 678ms/step - loss: 1.1285 - accuracy: 0.4431 - val_loss: 4.6380 - val_accuracy: 0.0574\n",
      "Epoch 3/10\n",
      "29/29 [==============================] - 18s 619ms/step - loss: 1.1047 - accuracy: 0.4779 - val_loss: 4.5108 - val_accuracy: 0.0623\n",
      "Epoch 4/10\n",
      "29/29 [==============================] - 19s 657ms/step - loss: 0.9354 - accuracy: 0.5988 - val_loss: 9.1258 - val_accuracy: 0.0939\n",
      "Epoch 5/10\n",
      "29/29 [==============================] - 18s 625ms/step - loss: 0.5680 - accuracy: 0.8179 - val_loss: 11.0022 - val_accuracy: 0.1266\n",
      "Epoch 6/10\n",
      "29/29 [==============================] - 19s 670ms/step - loss: 0.3144 - accuracy: 0.8894 - val_loss: 11.3063 - val_accuracy: 0.1181\n",
      "Epoch 7/10\n",
      "29/29 [==============================] - 19s 654ms/step - loss: 0.2505 - accuracy: 0.9141 - val_loss: 9.8500 - val_accuracy: 0.1370\n",
      "Epoch 8/10\n",
      "29/29 [==============================] - 20s 684ms/step - loss: 0.2135 - accuracy: 0.9272 - val_loss: 9.2367 - val_accuracy: 0.1350\n",
      "Epoch 9/10\n",
      "29/29 [==============================] - 20s 687ms/step - loss: 0.1665 - accuracy: 0.9415 - val_loss: 20.2708 - val_accuracy: 0.1396\n",
      "Epoch 10/10\n",
      "29/29 [==============================] - 19s 666ms/step - loss: 0.1598 - accuracy: 0.9634 - val_loss: 14.7610 - val_accuracy: 0.1508\n",
      "Duration: 0:03:40.081023\n"
     ]
    }
   ],
   "source": [
    "n=0\n",
    "print(n)\n",
    "\n",
    "models_nc[n].fit_model(image_sets_nc[n],label_sets_nc[n],x_val,y_val)\n",
    "n = n+1"
   ]
  },
  {
   "cell_type": "code",
   "execution_count": 17,
   "id": "0f4f3f4b",
   "metadata": {},
   "outputs": [
    {
     "name": "stdout",
     "output_type": "stream",
     "text": [
      "1\n",
      "Epoch 1/10\n",
      "57/57 [==============================] - 32s 517ms/step - loss: 2.1225 - accuracy: 0.3456 - val_loss: 6.5934 - val_accuracy: 0.0551\n",
      "Epoch 2/10\n",
      "57/57 [==============================] - 29s 508ms/step - loss: 1.0788 - accuracy: 0.4870 - val_loss: 7.8889 - val_accuracy: 0.1105\n",
      "Epoch 3/10\n",
      "57/57 [==============================] - 28s 501ms/step - loss: 0.5319 - accuracy: 0.8201 - val_loss: 11.4601 - val_accuracy: 0.1289\n",
      "Epoch 4/10\n",
      "57/57 [==============================] - 30s 524ms/step - loss: 0.3305 - accuracy: 0.8842 - val_loss: 14.8839 - val_accuracy: 0.1416\n",
      "Epoch 5/10\n",
      "57/57 [==============================] - 31s 541ms/step - loss: 0.1767 - accuracy: 0.9542 - val_loss: 12.9654 - val_accuracy: 0.1564\n",
      "Epoch 6/10\n",
      "57/57 [==============================] - 29s 505ms/step - loss: 0.1122 - accuracy: 0.9699 - val_loss: 10.6063 - val_accuracy: 0.1582\n",
      "Epoch 7/10\n",
      "57/57 [==============================] - 28s 500ms/step - loss: 0.1102 - accuracy: 0.9739 - val_loss: 16.7306 - val_accuracy: 0.1587\n",
      "Epoch 8/10\n",
      "57/57 [==============================] - 28s 496ms/step - loss: 0.1178 - accuracy: 0.9705 - val_loss: 12.7534 - val_accuracy: 0.1587\n",
      "Epoch 9/10\n",
      "57/57 [==============================] - 28s 498ms/step - loss: 0.0858 - accuracy: 0.9774 - val_loss: 12.6581 - val_accuracy: 0.1590\n",
      "Epoch 10/10\n",
      "57/57 [==============================] - 29s 507ms/step - loss: 0.0698 - accuracy: 0.9849 - val_loss: 13.1431 - val_accuracy: 0.1577\n",
      "Duration: 0:04:52.710707\n"
     ]
    }
   ],
   "source": [
    "\n",
    "print(n)\n",
    "\n",
    "models_nc[n].fit_model(image_sets_nc[n],label_sets_nc[n],x_val,y_val)\n",
    "n = n+1"
   ]
  },
  {
   "cell_type": "code",
   "execution_count": 18,
   "id": "c055f71b",
   "metadata": {},
   "outputs": [
    {
     "name": "stdout",
     "output_type": "stream",
     "text": [
      "2\n",
      "Epoch 1/10\n",
      "85/85 [==============================] - 43s 472ms/step - loss: 2.2032 - accuracy: 0.3037 - val_loss: 4.9692 - val_accuracy: 0.0686\n",
      "Epoch 2/10\n",
      "85/85 [==============================] - 40s 466ms/step - loss: 1.4713 - accuracy: 0.3861 - val_loss: 6.0505 - val_accuracy: 0.1240\n",
      "Epoch 3/10\n",
      "85/85 [==============================] - 40s 470ms/step - loss: 0.9068 - accuracy: 0.7162 - val_loss: 5.3884 - val_accuracy: 0.1460\n",
      "Epoch 4/10\n",
      "85/85 [==============================] - 41s 484ms/step - loss: 0.5852 - accuracy: 0.8323 - val_loss: 9.4677 - val_accuracy: 0.1602\n",
      "Epoch 5/10\n",
      "85/85 [==============================] - 40s 470ms/step - loss: 0.4354 - accuracy: 0.8806 - val_loss: 7.7007 - val_accuracy: 0.1666\n",
      "Epoch 6/10\n",
      "85/85 [==============================] - 41s 482ms/step - loss: 0.3084 - accuracy: 0.9134 - val_loss: 10.1980 - val_accuracy: 0.1835\n",
      "Epoch 7/10\n",
      "85/85 [==============================] - 39s 464ms/step - loss: 0.2433 - accuracy: 0.9355 - val_loss: 9.2011 - val_accuracy: 0.2026\n",
      "Epoch 8/10\n",
      "85/85 [==============================] - 40s 473ms/step - loss: 0.1885 - accuracy: 0.9441 - val_loss: 8.0929 - val_accuracy: 0.2174\n",
      "Epoch 9/10\n",
      "85/85 [==============================] - 39s 465ms/step - loss: 0.1576 - accuracy: 0.9532 - val_loss: 5.8875 - val_accuracy: 0.2562\n",
      "Epoch 10/10\n",
      "85/85 [==============================] - 40s 475ms/step - loss: 0.1637 - accuracy: 0.9568 - val_loss: 12.0778 - val_accuracy: 0.2863\n",
      "Duration: 0:06:43.640898\n"
     ]
    }
   ],
   "source": [
    "\n",
    "print(n)\n",
    "\n",
    "models_nc[n].fit_model(image_sets_nc[n],label_sets_nc[n],x_val,y_val)\n",
    "n = n+1"
   ]
  },
  {
   "cell_type": "code",
   "execution_count": 19,
   "id": "5186f306",
   "metadata": {},
   "outputs": [
    {
     "name": "stdout",
     "output_type": "stream",
     "text": [
      "3\n",
      "Epoch 1/10\n",
      "113/113 [==============================] - 55s 463ms/step - loss: 3.6430 - accuracy: 0.2337 - val_loss: 5.1118 - val_accuracy: 0.0707\n",
      "Epoch 2/10\n",
      "113/113 [==============================] - 52s 460ms/step - loss: 1.8758 - accuracy: 0.3531 - val_loss: 5.5372 - val_accuracy: 0.1429\n",
      "Epoch 3/10\n",
      "113/113 [==============================] - 51s 453ms/step - loss: 1.0266 - accuracy: 0.6547 - val_loss: 6.8992 - val_accuracy: 0.3503\n",
      "Epoch 4/10\n",
      "113/113 [==============================] - 53s 468ms/step - loss: 0.4265 - accuracy: 0.8787 - val_loss: 5.6748 - val_accuracy: 0.4282\n",
      "Epoch 5/10\n",
      "113/113 [==============================] - 51s 456ms/step - loss: 0.2731 - accuracy: 0.9191 - val_loss: 6.6675 - val_accuracy: 0.4601\n",
      "Epoch 6/10\n",
      "113/113 [==============================] - 52s 461ms/step - loss: 0.2025 - accuracy: 0.9482 - val_loss: 3.9148 - val_accuracy: 0.4215\n",
      "Epoch 7/10\n",
      "113/113 [==============================] - 53s 469ms/step - loss: 0.1484 - accuracy: 0.9595 - val_loss: 5.9513 - val_accuracy: 0.4858\n",
      "Epoch 8/10\n",
      "113/113 [==============================] - 53s 470ms/step - loss: 0.1217 - accuracy: 0.9667 - val_loss: 8.4777 - val_accuracy: 0.4989\n",
      "Epoch 9/10\n",
      "113/113 [==============================] - 51s 455ms/step - loss: 0.1265 - accuracy: 0.9670 - val_loss: 8.5184 - val_accuracy: 0.5152\n",
      "Epoch 10/10\n",
      "113/113 [==============================] - 51s 455ms/step - loss: 0.1112 - accuracy: 0.9682 - val_loss: 8.9381 - val_accuracy: 0.5050\n",
      "Duration: 0:08:43.543891\n"
     ]
    }
   ],
   "source": [
    "\n",
    "print(n)\n",
    "\n",
    "models_nc[n].fit_model(image_sets_nc[n],label_sets_nc[n],x_val,y_val)\n",
    "n = n+1"
   ]
  },
  {
   "cell_type": "code",
   "execution_count": 20,
   "id": "173fe6bf",
   "metadata": {},
   "outputs": [
    {
     "name": "stdout",
     "output_type": "stream",
     "text": [
      "4\n",
      "Epoch 1/10\n",
      "141/141 [==============================] - 67s 455ms/step - loss: 3.1402 - accuracy: 0.2055 - val_loss: 4.6581 - val_accuracy: 0.0954\n",
      "Epoch 2/10\n",
      "141/141 [==============================] - 63s 450ms/step - loss: 1.9210 - accuracy: 0.3607 - val_loss: 6.7360 - val_accuracy: 0.2493\n",
      "Epoch 3/10\n",
      "141/141 [==============================] - 66s 465ms/step - loss: 0.9319 - accuracy: 0.7011 - val_loss: 4.2462 - val_accuracy: 0.4118\n",
      "Epoch 4/10\n",
      "141/141 [==============================] - 63s 446ms/step - loss: 0.3921 - accuracy: 0.8835 - val_loss: 6.3322 - val_accuracy: 0.4986\n",
      "Epoch 5/10\n",
      "141/141 [==============================] - 64s 458ms/step - loss: 0.2293 - accuracy: 0.9363 - val_loss: 5.9390 - val_accuracy: 0.5004\n",
      "Epoch 6/10\n",
      "141/141 [==============================] - 62s 441ms/step - loss: 0.1670 - accuracy: 0.9530 - val_loss: 7.0516 - val_accuracy: 0.5251\n",
      "Epoch 7/10\n",
      "141/141 [==============================] - 63s 445ms/step - loss: 0.1371 - accuracy: 0.9636 - val_loss: 6.6071 - val_accuracy: 0.5323\n",
      "Epoch 8/10\n",
      "141/141 [==============================] - 64s 455ms/step - loss: 0.1141 - accuracy: 0.9712 - val_loss: 15.6413 - val_accuracy: 0.5274\n",
      "Epoch 9/10\n",
      "141/141 [==============================] - 62s 443ms/step - loss: 0.1213 - accuracy: 0.9695 - val_loss: 7.5926 - val_accuracy: 0.5371\n",
      "Epoch 10/10\n",
      "141/141 [==============================] - 64s 451ms/step - loss: 0.1087 - accuracy: 0.9694 - val_loss: 11.4454 - val_accuracy: 0.5379\n",
      "Duration: 0:10:38.551608\n"
     ]
    }
   ],
   "source": [
    "#4\n",
    "print(n)\n",
    "\n",
    "models_nc[n].fit_model(image_sets_nc[n],label_sets_nc[n],x_val,y_val)\n",
    "n = n+1"
   ]
  },
  {
   "cell_type": "code",
   "execution_count": 16,
   "id": "01a70471",
   "metadata": {},
   "outputs": [
    {
     "name": "stdout",
     "output_type": "stream",
     "text": [
      "5\n",
      "Epoch 1/10\n",
      "169/169 [==============================] - 129s 428ms/step - loss: 3.0646 - accuracy: 0.1602 - val_loss: 4.5499 - val_accuracy: 0.1013\n",
      "Epoch 2/10\n",
      "169/169 [==============================] - 76s 451ms/step - loss: 1.8228 - accuracy: 0.3797 - val_loss: 6.1938 - val_accuracy: 0.4144\n",
      "Epoch 3/10\n",
      "169/169 [==============================] - 69s 409ms/step - loss: 0.5834 - accuracy: 0.8272 - val_loss: 3.9355 - val_accuracy: 0.5065\n",
      "Epoch 4/10\n",
      "169/169 [==============================] - 69s 407ms/step - loss: 0.2561 - accuracy: 0.9297 - val_loss: 7.7172 - val_accuracy: 0.5338\n",
      "Epoch 5/10\n",
      "169/169 [==============================] - 69s 407ms/step - loss: 0.1814 - accuracy: 0.9557 - val_loss: 10.9004 - val_accuracy: 0.5455\n",
      "Epoch 6/10\n",
      "169/169 [==============================] - 69s 406ms/step - loss: 0.1476 - accuracy: 0.9601 - val_loss: 7.2122 - val_accuracy: 0.5376\n",
      "Epoch 7/10\n",
      "169/169 [==============================] - 69s 406ms/step - loss: 0.1213 - accuracy: 0.9709 - val_loss: 6.0726 - val_accuracy: 0.5481\n",
      "Epoch 8/10\n",
      "169/169 [==============================] - 68s 404ms/step - loss: 0.1137 - accuracy: 0.9709 - val_loss: 7.7716 - val_accuracy: 0.5581\n",
      "Epoch 9/10\n",
      "169/169 [==============================] - 68s 405ms/step - loss: 0.0858 - accuracy: 0.9771 - val_loss: 7.8344 - val_accuracy: 0.5560\n",
      "Epoch 10/10\n",
      "169/169 [==============================] - 68s 405ms/step - loss: 0.0904 - accuracy: 0.9760 - val_loss: 8.3334 - val_accuracy: 0.5545\n",
      "Duration: 0:12:36.579174\n"
     ]
    }
   ],
   "source": [
    "n=5\n",
    "print(n)\n",
    "\n",
    "models_nc[n].fit_model(image_sets_nc[n],label_sets_nc[n],x_val,y_val)\n",
    "n = n+1"
   ]
  },
  {
   "cell_type": "code",
   "execution_count": 17,
   "id": "4d0fce3f",
   "metadata": {},
   "outputs": [
    {
     "name": "stdout",
     "output_type": "stream",
     "text": [
      "6\n",
      "Epoch 1/10\n",
      "197/197 [==============================] - 82s 404ms/step - loss: 3.3056 - accuracy: 0.1502 - val_loss: 5.0555 - val_accuracy: 0.1921\n",
      "Epoch 2/10\n",
      "197/197 [==============================] - 79s 401ms/step - loss: 1.4255 - accuracy: 0.5203 - val_loss: 9.4962 - val_accuracy: 0.5045\n",
      "Epoch 3/10\n",
      "197/197 [==============================] - 79s 403ms/step - loss: 0.4187 - accuracy: 0.8816 - val_loss: 6.3758 - val_accuracy: 0.5484\n",
      "Epoch 4/10\n",
      "197/197 [==============================] - 80s 409ms/step - loss: 0.2066 - accuracy: 0.9449 - val_loss: 6.5661 - val_accuracy: 0.5565\n",
      "Epoch 5/10\n",
      "197/197 [==============================] - 80s 406ms/step - loss: 0.1460 - accuracy: 0.9622 - val_loss: 6.8268 - val_accuracy: 0.5501\n",
      "Epoch 6/10\n",
      "197/197 [==============================] - 78s 396ms/step - loss: 0.1225 - accuracy: 0.9678 - val_loss: 8.1299 - val_accuracy: 0.5596\n",
      "Epoch 7/10\n",
      "197/197 [==============================] - 78s 395ms/step - loss: 0.1186 - accuracy: 0.9712 - val_loss: 9.7967 - val_accuracy: 0.5547\n",
      "Epoch 8/10\n",
      "197/197 [==============================] - 78s 395ms/step - loss: 0.1208 - accuracy: 0.9705 - val_loss: 6.5306 - val_accuracy: 0.5570\n",
      "Epoch 9/10\n",
      "197/197 [==============================] - 78s 395ms/step - loss: 0.1012 - accuracy: 0.9749 - val_loss: 12.2301 - val_accuracy: 0.5632\n",
      "Epoch 10/10\n",
      "197/197 [==============================] - 78s 395ms/step - loss: 0.0984 - accuracy: 0.9759 - val_loss: 8.5656 - val_accuracy: 0.5655\n",
      "Duration: 0:13:10.281009\n"
     ]
    }
   ],
   "source": [
    "n=6\n",
    "print(n)\n",
    "\n",
    "models_nc[n].fit_model(image_sets_nc[n],label_sets_nc[n],x_val,y_val)\n",
    "n = n+1"
   ]
  },
  {
   "cell_type": "code",
   "execution_count": 18,
   "id": "a498b007",
   "metadata": {},
   "outputs": [
    {
     "name": "stdout",
     "output_type": "stream",
     "text": [
      "7\n",
      "Epoch 1/10\n",
      "225/225 [==============================] - 91s 392ms/step - loss: 2.7058 - accuracy: 0.1238 - val_loss: 4.6589 - val_accuracy: 0.2445\n",
      "Epoch 2/10\n",
      "225/225 [==============================] - 88s 390ms/step - loss: 1.3794 - accuracy: 0.5420 - val_loss: 6.1186 - val_accuracy: 0.5070\n",
      "Epoch 3/10\n",
      "225/225 [==============================] - 88s 392ms/step - loss: 0.4272 - accuracy: 0.8766 - val_loss: 4.1679 - val_accuracy: 0.5484\n",
      "Epoch 4/10\n",
      "225/225 [==============================] - 88s 390ms/step - loss: 0.2196 - accuracy: 0.9396 - val_loss: 6.2990 - val_accuracy: 0.5565\n",
      "Epoch 5/10\n",
      "225/225 [==============================] - 87s 388ms/step - loss: 0.1646 - accuracy: 0.9566 - val_loss: 8.9846 - val_accuracy: 0.5695\n",
      "Epoch 6/10\n",
      "225/225 [==============================] - 88s 390ms/step - loss: 0.1438 - accuracy: 0.9629 - val_loss: 6.9892 - val_accuracy: 0.5685\n",
      "Epoch 7/10\n",
      "225/225 [==============================] - 87s 389ms/step - loss: 0.1239 - accuracy: 0.9688 - val_loss: 8.1692 - val_accuracy: 0.5721\n",
      "Epoch 8/10\n",
      "225/225 [==============================] - 87s 388ms/step - loss: 0.1045 - accuracy: 0.9720 - val_loss: 5.3000 - val_accuracy: 0.5968\n",
      "Epoch 9/10\n",
      "225/225 [==============================] - 89s 396ms/step - loss: 0.1108 - accuracy: 0.9706 - val_loss: 8.4901 - val_accuracy: 0.5999\n",
      "Epoch 10/10\n",
      "225/225 [==============================] - 87s 388ms/step - loss: 0.1047 - accuracy: 0.9726 - val_loss: 7.0663 - val_accuracy: 0.6147\n",
      "Duration: 0:14:40.928720\n"
     ]
    }
   ],
   "source": [
    "n=7\n",
    "print(n)\n",
    "\n",
    "models_nc[n].fit_model(image_sets_nc[n],label_sets_nc[n],x_val,y_val)\n",
    "n = n+1"
   ]
  },
  {
   "cell_type": "code",
   "execution_count": 19,
   "id": "aa682122",
   "metadata": {},
   "outputs": [
    {
     "name": "stdout",
     "output_type": "stream",
     "text": [
      "8\n",
      "Epoch 1/10\n",
      "254/254 [==============================] - 102s 390ms/step - loss: 2.7409 - accuracy: 0.1331 - val_loss: 8.7708 - val_accuracy: 0.2822\n",
      "Epoch 2/10\n",
      "254/254 [==============================] - 99s 389ms/step - loss: 1.1559 - accuracy: 0.6299 - val_loss: 4.0503 - val_accuracy: 0.4991\n",
      "Epoch 3/10\n",
      "254/254 [==============================] - 99s 390ms/step - loss: 0.3093 - accuracy: 0.9119 - val_loss: 7.1438 - val_accuracy: 0.6032\n",
      "Epoch 4/10\n",
      "254/254 [==============================] - 100s 393ms/step - loss: 0.1952 - accuracy: 0.9465 - val_loss: 4.6027 - val_accuracy: 0.6139\n",
      "Epoch 5/10\n",
      "254/254 [==============================] - 100s 394ms/step - loss: 0.1643 - accuracy: 0.9574 - val_loss: 5.0358 - val_accuracy: 0.6509\n",
      "Epoch 6/10\n",
      "254/254 [==============================] - 99s 388ms/step - loss: 0.1342 - accuracy: 0.9668 - val_loss: 4.3932 - val_accuracy: 0.6655\n",
      "Epoch 7/10\n",
      "254/254 [==============================] - 98s 387ms/step - loss: 0.1078 - accuracy: 0.9723 - val_loss: 5.9797 - val_accuracy: 0.6762\n",
      "Epoch 8/10\n",
      "254/254 [==============================] - 98s 387ms/step - loss: 0.1208 - accuracy: 0.9713 - val_loss: 6.2329 - val_accuracy: 0.6805\n",
      "Epoch 9/10\n",
      "254/254 [==============================] - 98s 387ms/step - loss: 0.1034 - accuracy: 0.9754 - val_loss: 6.0768 - val_accuracy: 0.6793\n",
      "Epoch 10/10\n",
      "254/254 [==============================] - 98s 386ms/step - loss: 0.1222 - accuracy: 0.9695 - val_loss: 4.6932 - val_accuracy: 0.6854\n",
      "Duration: 0:16:31.586409\n"
     ]
    }
   ],
   "source": [
    "n=8\n",
    "print(n)\n",
    "\n",
    "models_nc[n].fit_model(image_sets_nc[n],label_sets_nc[n],x_val,y_val)\n",
    "n = n+1"
   ]
  },
  {
   "cell_type": "code",
   "execution_count": 20,
   "id": "7ec61144",
   "metadata": {},
   "outputs": [
    {
     "name": "stdout",
     "output_type": "stream",
     "text": [
      "9\n",
      "Epoch 1/10\n",
      "282/282 [==============================] - 112s 389ms/step - loss: 3.1394 - accuracy: 0.1444 - val_loss: 3.8087 - val_accuracy: 0.3327\n",
      "Epoch 2/10\n",
      "282/282 [==============================] - 110s 391ms/step - loss: 0.9409 - accuracy: 0.7030 - val_loss: 4.4056 - val_accuracy: 0.6772\n",
      "Epoch 3/10\n",
      "282/282 [==============================] - 111s 393ms/step - loss: 0.3003 - accuracy: 0.9200 - val_loss: 3.7165 - val_accuracy: 0.6668\n",
      "Epoch 4/10\n",
      "282/282 [==============================] - 110s 391ms/step - loss: 0.2170 - accuracy: 0.9446 - val_loss: 4.9653 - val_accuracy: 0.7247\n",
      "Epoch 5/10\n",
      "282/282 [==============================] - 109s 386ms/step - loss: 0.1513 - accuracy: 0.9619 - val_loss: 6.6617 - val_accuracy: 0.7305\n",
      "Epoch 6/10\n",
      "282/282 [==============================] - 109s 386ms/step - loss: 0.1362 - accuracy: 0.9661 - val_loss: 5.2854 - val_accuracy: 0.7418\n",
      "Epoch 7/10\n",
      "282/282 [==============================] - 109s 386ms/step - loss: 0.1326 - accuracy: 0.9696 - val_loss: 5.4774 - val_accuracy: 0.7413\n",
      "Epoch 8/10\n",
      "282/282 [==============================] - 109s 385ms/step - loss: 0.1058 - accuracy: 0.9741 - val_loss: 8.0655 - val_accuracy: 0.7402\n",
      "Epoch 9/10\n",
      "282/282 [==============================] - 108s 385ms/step - loss: 0.1095 - accuracy: 0.9736 - val_loss: 7.0241 - val_accuracy: 0.7436\n",
      "Epoch 10/10\n",
      "282/282 [==============================] - 108s 384ms/step - loss: 0.1176 - accuracy: 0.9705 - val_loss: 6.6379 - val_accuracy: 0.6864\n",
      "Duration: 0:18:15.514184\n"
     ]
    }
   ],
   "source": [
    "#reiniciar la 9\n",
    "print(n)#9\n",
    "\n",
    "models_nc[n].fit_model(image_sets_nc[n],label_sets_nc[n],x_val,y_val)\n",
    "n = n+1"
   ]
  },
  {
   "cell_type": "code",
   "execution_count": 21,
   "id": "e05d85c1",
   "metadata": {},
   "outputs": [
    {
     "name": "stdout",
     "output_type": "stream",
     "text": [
      "10\n",
      "Epoch 1/10\n",
      "310/310 [==============================] - 122s 384ms/step - loss: 3.1528 - accuracy: 0.0989 - val_loss: 4.8783 - val_accuracy: 0.2355\n",
      "Epoch 2/10\n",
      "310/310 [==============================] - 120s 387ms/step - loss: 1.5118 - accuracy: 0.5247 - val_loss: 4.4917 - val_accuracy: 0.6606\n",
      "Epoch 3/10\n",
      "310/310 [==============================] - 120s 386ms/step - loss: 0.4244 - accuracy: 0.8828 - val_loss: 4.1573 - val_accuracy: 0.7369\n",
      "Epoch 4/10\n",
      "310/310 [==============================] - 119s 385ms/step - loss: 0.2183 - accuracy: 0.9422 - val_loss: 3.7955 - val_accuracy: 0.7517\n",
      "Epoch 5/10\n",
      "310/310 [==============================] - 120s 386ms/step - loss: 0.1571 - accuracy: 0.9596 - val_loss: 4.4742 - val_accuracy: 0.7673\n",
      "Epoch 6/10\n",
      "310/310 [==============================] - 121s 389ms/step - loss: 0.1462 - accuracy: 0.9650 - val_loss: 4.0173 - val_accuracy: 0.7744\n",
      "Epoch 7/10\n",
      "310/310 [==============================] - 121s 390ms/step - loss: 0.1243 - accuracy: 0.9697 - val_loss: 3.6371 - val_accuracy: 0.7849\n",
      "Epoch 8/10\n",
      "310/310 [==============================] - 120s 389ms/step - loss: 0.1240 - accuracy: 0.9734 - val_loss: 6.2157 - val_accuracy: 0.7614\n",
      "Epoch 9/10\n",
      "310/310 [==============================] - 121s 392ms/step - loss: 0.1392 - accuracy: 0.9701 - val_loss: 5.5841 - val_accuracy: 0.7803\n",
      "Epoch 10/10\n",
      "310/310 [==============================] - 120s 387ms/step - loss: 0.1202 - accuracy: 0.9744 - val_loss: 4.7385 - val_accuracy: 0.7719\n",
      "Duration: 0:20:04.056706\n"
     ]
    }
   ],
   "source": [
    "print(n)\n",
    "\n",
    "models_nc[n].fit_model(image_sets_nc[n],label_sets_nc[n],x_val,y_val)\n",
    "n = n+1"
   ]
  },
  {
   "cell_type": "code",
   "execution_count": 22,
   "id": "a6081dea",
   "metadata": {},
   "outputs": [
    {
     "name": "stdout",
     "output_type": "stream",
     "text": [
      "11\n",
      "Epoch 1/10\n",
      "338/338 [==============================] - 134s 387ms/step - loss: 3.0024 - accuracy: 0.1164 - val_loss: 3.7069 - val_accuracy: 0.5244\n",
      "Epoch 2/10\n",
      "338/338 [==============================] - 294s 870ms/step - loss: 0.9368 - accuracy: 0.7227 - val_loss: 3.8618 - val_accuracy: 0.7632\n",
      "Epoch 3/10\n",
      "338/338 [==============================] - 131s 387ms/step - loss: 0.2644 - accuracy: 0.9329 - val_loss: 4.2447 - val_accuracy: 0.7834\n",
      "Epoch 4/10\n",
      "338/338 [==============================] - 131s 389ms/step - loss: 0.1643 - accuracy: 0.9588 - val_loss: 3.8422 - val_accuracy: 0.8007\n",
      "Epoch 5/10\n",
      "338/338 [==============================] - 134s 396ms/step - loss: 0.1475 - accuracy: 0.9624 - val_loss: 4.7709 - val_accuracy: 0.8079\n",
      "Epoch 6/10\n",
      "338/338 [==============================] - 139s 410ms/step - loss: 0.1189 - accuracy: 0.9693 - val_loss: 2.8626 - val_accuracy: 0.8114\n",
      "Epoch 7/10\n",
      "338/338 [==============================] - 128s 380ms/step - loss: 0.1108 - accuracy: 0.9718 - val_loss: 4.7619 - val_accuracy: 0.8211\n",
      "Epoch 8/10\n",
      "338/338 [==============================] - 129s 381ms/step - loss: 0.1041 - accuracy: 0.9747 - val_loss: 3.1267 - val_accuracy: 0.8252\n",
      "Epoch 9/10\n",
      "338/338 [==============================] - 131s 389ms/step - loss: 0.1046 - accuracy: 0.9763 - val_loss: 3.8982 - val_accuracy: 0.8283\n",
      "Epoch 10/10\n",
      "338/338 [==============================] - 131s 389ms/step - loss: 0.1087 - accuracy: 0.9767 - val_loss: 2.1622 - val_accuracy: 0.8242\n",
      "Duration: 0:24:41.830889\n"
     ]
    }
   ],
   "source": [
    "print(n)\n",
    "\n",
    "models_nc[n].fit_model(image_sets_nc[n],label_sets_nc[n],x_val,y_val)\n",
    "n = n+1"
   ]
  },
  {
   "cell_type": "code",
   "execution_count": 23,
   "id": "6ee630ca",
   "metadata": {},
   "outputs": [
    {
     "name": "stdout",
     "output_type": "stream",
     "text": [
      "12\n",
      "Epoch 1/10\n",
      "366/366 [==============================] - 146s 391ms/step - loss: 3.0022 - accuracy: 0.1219 - val_loss: 3.5577 - val_accuracy: 0.5509\n",
      "Epoch 2/10\n",
      "366/366 [==============================] - 143s 392ms/step - loss: 0.8249 - accuracy: 0.7484 - val_loss: 4.5464 - val_accuracy: 0.7813\n",
      "Epoch 3/10\n",
      "366/366 [==============================] - 142s 389ms/step - loss: 0.2590 - accuracy: 0.9338 - val_loss: 4.1955 - val_accuracy: 0.8232\n",
      "Epoch 4/10\n",
      "366/366 [==============================] - 142s 389ms/step - loss: 0.1728 - accuracy: 0.9567 - val_loss: 4.1039 - val_accuracy: 0.8321\n",
      "Epoch 5/10\n",
      "366/366 [==============================] - 142s 387ms/step - loss: 0.1439 - accuracy: 0.9654 - val_loss: 6.2045 - val_accuracy: 0.8278\n",
      "Epoch 6/10\n",
      "366/366 [==============================] - 140s 383ms/step - loss: 0.1260 - accuracy: 0.9677 - val_loss: 5.8790 - val_accuracy: 0.8288\n",
      "Epoch 7/10\n",
      "366/366 [==============================] - 142s 387ms/step - loss: 0.1141 - accuracy: 0.9729 - val_loss: 4.0662 - val_accuracy: 0.8390\n",
      "Epoch 8/10\n",
      "366/366 [==============================] - 142s 388ms/step - loss: 0.1090 - accuracy: 0.9740 - val_loss: 4.4635 - val_accuracy: 0.8385\n",
      "Epoch 9/10\n",
      "366/366 [==============================] - 143s 390ms/step - loss: 0.1044 - accuracy: 0.9737 - val_loss: 7.0654 - val_accuracy: 0.8316\n",
      "Epoch 10/10\n",
      "366/366 [==============================] - 141s 387ms/step - loss: 0.1132 - accuracy: 0.9744 - val_loss: 6.3661 - val_accuracy: 0.8341\n",
      "Duration: 0:23:43.512953\n"
     ]
    }
   ],
   "source": [
    "print(n)\n",
    "\n",
    "models_nc[n].fit_model(image_sets_nc[n],label_sets_nc[n],x_val,y_val)\n",
    "n = n+1"
   ]
  },
  {
   "cell_type": "code",
   "execution_count": 16,
   "id": "b333726b",
   "metadata": {},
   "outputs": [
    {
     "name": "stdout",
     "output_type": "stream",
     "text": [
      "13\n",
      "Epoch 1/10\n",
      "394/394 [==============================] - 191s 425ms/step - loss: 3.1072 - accuracy: 0.1019 - val_loss: 3.1279 - val_accuracy: 0.5810\n",
      "Epoch 2/10\n",
      "394/394 [==============================] - 166s 422ms/step - loss: 0.8047 - accuracy: 0.7647 - val_loss: 4.4252 - val_accuracy: 0.8295\n",
      "Epoch 3/10\n",
      "394/394 [==============================] - 157s 399ms/step - loss: 0.2491 - accuracy: 0.9373 - val_loss: 1.5398 - val_accuracy: 0.8099\n",
      "Epoch 4/10\n",
      "394/394 [==============================] - 157s 399ms/step - loss: 0.1690 - accuracy: 0.9584 - val_loss: 3.2850 - val_accuracy: 0.8433\n",
      "Epoch 5/10\n",
      "394/394 [==============================] - 163s 414ms/step - loss: 0.1443 - accuracy: 0.9664 - val_loss: 1.8489 - val_accuracy: 0.8489\n",
      "Epoch 6/10\n",
      "394/394 [==============================] - 159s 404ms/step - loss: 0.1191 - accuracy: 0.9687 - val_loss: 4.3971 - val_accuracy: 0.8489\n",
      "Epoch 7/10\n",
      "394/394 [==============================] - 161s 409ms/step - loss: 0.1138 - accuracy: 0.9718 - val_loss: 4.1566 - val_accuracy: 0.8523\n",
      "Epoch 8/10\n",
      "394/394 [==============================] - 165s 419ms/step - loss: 0.1205 - accuracy: 0.9705 - val_loss: 6.0912 - val_accuracy: 0.8528\n",
      "Epoch 9/10\n",
      "394/394 [==============================] - 161s 409ms/step - loss: 0.0988 - accuracy: 0.9758 - val_loss: 3.9133 - val_accuracy: 0.8538\n",
      "Epoch 10/10\n",
      "394/394 [==============================] - 176s 446ms/step - loss: 0.1072 - accuracy: 0.9756 - val_loss: 3.0011 - val_accuracy: 0.8663\n",
      "Duration: 0:27:37.684729\n"
     ]
    }
   ],
   "source": [
    "n=13\n",
    "print(n)\n",
    "\n",
    "models_nc[n].fit_model(image_sets_nc[n],label_sets_nc[n],x_val,y_val)\n",
    "n = n+1"
   ]
  },
  {
   "cell_type": "code",
   "execution_count": 22,
   "id": "a1956bc5",
   "metadata": {},
   "outputs": [
    {
     "name": "stdout",
     "output_type": "stream",
     "text": [
      "14\n",
      "Epoch 1/10\n",
      "422/422 [==============================] - 177s 412ms/step - loss: 3.1085 - accuracy: 0.1105 - val_loss: 2.7353 - val_accuracy: 0.6948\n",
      "Epoch 2/10\n",
      "422/422 [==============================] - 171s 406ms/step - loss: 0.7378 - accuracy: 0.8016 - val_loss: 2.0836 - val_accuracy: 0.8295\n",
      "Epoch 3/10\n",
      "422/422 [==============================] - 172s 407ms/step - loss: 0.2764 - accuracy: 0.9326 - val_loss: 1.6864 - val_accuracy: 0.8533\n",
      "Epoch 4/10\n",
      "422/422 [==============================] - 171s 406ms/step - loss: 0.1986 - accuracy: 0.9518 - val_loss: 2.3369 - val_accuracy: 0.8469\n",
      "Epoch 5/10\n",
      "422/422 [==============================] - 171s 406ms/step - loss: 0.1526 - accuracy: 0.9613 - val_loss: 1.4968 - val_accuracy: 0.8663\n",
      "Epoch 6/10\n",
      "422/422 [==============================] - 162s 384ms/step - loss: 0.1494 - accuracy: 0.9653 - val_loss: 1.4541 - val_accuracy: 0.8722\n",
      "Epoch 7/10\n",
      "422/422 [==============================] - 163s 385ms/step - loss: 0.1295 - accuracy: 0.9681 - val_loss: 1.7066 - val_accuracy: 0.8793\n",
      "Epoch 8/10\n",
      "422/422 [==============================] - 163s 387ms/step - loss: 0.1432 - accuracy: 0.9644 - val_loss: 2.3070 - val_accuracy: 0.8755\n",
      "Epoch 9/10\n",
      "422/422 [==============================] - 162s 384ms/step - loss: 0.1266 - accuracy: 0.9717 - val_loss: 1.6967 - val_accuracy: 0.8760\n",
      "Epoch 10/10\n",
      "422/422 [==============================] - 163s 385ms/step - loss: 0.1444 - accuracy: 0.9689 - val_loss: 1.4456 - val_accuracy: 0.8778\n",
      "Duration: 0:27:55.276211\n"
     ]
    }
   ],
   "source": [
    "#14\n",
    "n=14\n",
    "print(n)\n",
    "\n",
    "models_nc[n].fit_model(image_sets_nc[n],label_sets_nc[n],x_val,y_val)\n",
    "n = n+1"
   ]
  },
  {
   "cell_type": "code",
   "execution_count": 23,
   "id": "8657006a",
   "metadata": {},
   "outputs": [],
   "source": [
    "time.sleep(180)"
   ]
  },
  {
   "cell_type": "code",
   "execution_count": 24,
   "id": "4b7c1dd9",
   "metadata": {},
   "outputs": [
    {
     "name": "stdout",
     "output_type": "stream",
     "text": [
      "15\n",
      "Epoch 1/10\n",
      "450/450 [==============================] - 179s 388ms/step - loss: 3.1411 - accuracy: 0.1201 - val_loss: 2.1190 - val_accuracy: 0.7081\n",
      "Epoch 2/10\n",
      "450/450 [==============================] - 172s 382ms/step - loss: 0.7477 - accuracy: 0.7924 - val_loss: 1.6167 - val_accuracy: 0.8517\n",
      "Epoch 3/10\n",
      "450/450 [==============================] - 171s 380ms/step - loss: 0.2761 - accuracy: 0.9272 - val_loss: 1.2466 - val_accuracy: 0.8900\n",
      "Epoch 4/10\n",
      "450/450 [==============================] - 171s 380ms/step - loss: 0.1808 - accuracy: 0.9538 - val_loss: 2.0165 - val_accuracy: 0.9117\n",
      "Epoch 5/10\n",
      "450/450 [==============================] - 169s 376ms/step - loss: 0.1471 - accuracy: 0.9625 - val_loss: 1.6518 - val_accuracy: 0.9168\n",
      "Epoch 6/10\n",
      "450/450 [==============================] - 169s 376ms/step - loss: 0.1301 - accuracy: 0.9644 - val_loss: 1.4914 - val_accuracy: 0.9303\n",
      "Epoch 7/10\n",
      "450/450 [==============================] - 169s 375ms/step - loss: 0.1245 - accuracy: 0.9684 - val_loss: 1.8726 - val_accuracy: 0.9278\n",
      "Epoch 8/10\n",
      "450/450 [==============================] - 177s 394ms/step - loss: 0.1231 - accuracy: 0.9697 - val_loss: 1.7607 - val_accuracy: 0.9308\n",
      "Epoch 9/10\n",
      "450/450 [==============================] - 172s 382ms/step - loss: 0.1154 - accuracy: 0.9723 - val_loss: 1.6254 - val_accuracy: 0.9260\n",
      "Epoch 10/10\n",
      "450/450 [==============================] - 170s 379ms/step - loss: 0.1184 - accuracy: 0.9719 - val_loss: 1.6049 - val_accuracy: 0.9237\n",
      "Duration: 0:28:39.084179\n"
     ]
    }
   ],
   "source": [
    "\n",
    "print(n)\n",
    "\n",
    "models_nc[n].fit_model(image_sets_nc[n],label_sets_nc[n],x_val,y_val)\n",
    "n = n+1"
   ]
  },
  {
   "cell_type": "code",
   "execution_count": 25,
   "id": "e334ecca",
   "metadata": {},
   "outputs": [],
   "source": [
    "time.sleep(180)"
   ]
  },
  {
   "cell_type": "code",
   "execution_count": 26,
   "id": "7aedeb81",
   "metadata": {},
   "outputs": [
    {
     "name": "stdout",
     "output_type": "stream",
     "text": [
      "16\n",
      "Epoch 1/10\n",
      "479/479 [==============================] - 186s 383ms/step - loss: 3.1787 - accuracy: 0.1285 - val_loss: 2.0502 - val_accuracy: 0.6098\n",
      "Epoch 2/10\n",
      "479/479 [==============================] - 185s 385ms/step - loss: 0.6894 - accuracy: 0.8061 - val_loss: 1.1603 - val_accuracy: 0.9053\n",
      "Epoch 3/10\n",
      "479/479 [==============================] - 183s 383ms/step - loss: 0.2400 - accuracy: 0.9360 - val_loss: 1.2309 - val_accuracy: 0.9370\n",
      "Epoch 4/10\n",
      "479/479 [==============================] - 184s 385ms/step - loss: 0.1639 - accuracy: 0.9525 - val_loss: 1.0701 - val_accuracy: 0.9467\n",
      "Epoch 5/10\n",
      "479/479 [==============================] - 183s 381ms/step - loss: 0.1367 - accuracy: 0.9647 - val_loss: 1.0071 - val_accuracy: 0.9553\n",
      "Epoch 6/10\n",
      "479/479 [==============================] - 182s 381ms/step - loss: 0.1090 - accuracy: 0.9708 - val_loss: 1.5948 - val_accuracy: 0.9566\n",
      "Epoch 7/10\n",
      "479/479 [==============================] - 183s 383ms/step - loss: 0.1049 - accuracy: 0.9735 - val_loss: 1.4029 - val_accuracy: 0.9525\n",
      "Epoch 8/10\n",
      "479/479 [==============================] - 182s 381ms/step - loss: 0.1168 - accuracy: 0.9731 - val_loss: 1.3724 - val_accuracy: 0.9546\n",
      "Epoch 9/10\n",
      "479/479 [==============================] - 182s 380ms/step - loss: 0.1113 - accuracy: 0.9730 - val_loss: 1.6068 - val_accuracy: 0.9571\n",
      "Epoch 10/10\n",
      "479/479 [==============================] - 182s 380ms/step - loss: 0.1180 - accuracy: 0.9729 - val_loss: 1.8131 - val_accuracy: 0.9594\n",
      "Duration: 0:30:33.282774\n"
     ]
    }
   ],
   "source": [
    "n=16\n",
    "print(n)\n",
    "\n",
    "models_nc[n].fit_model(image_sets_nc[n],label_sets_nc[n],x_val,y_val)\n",
    "n = n+1"
   ]
  },
  {
   "cell_type": "code",
   "execution_count": null,
   "id": "e6a18ea8",
   "metadata": {},
   "outputs": [],
   "source": []
  },
  {
   "cell_type": "code",
   "execution_count": 27,
   "id": "26e3e080",
   "metadata": {},
   "outputs": [
    {
     "name": "stdout",
     "output_type": "stream",
     "text": [
      "17\n",
      "Epoch 1/10\n",
      "507/507 [==============================] - 196s 382ms/step - loss: 3.2460 - accuracy: 0.1145 - val_loss: 1.4624 - val_accuracy: 0.7239\n",
      "Epoch 2/10\n",
      "507/507 [==============================] - 196s 387ms/step - loss: 0.7891 - accuracy: 0.7651 - val_loss: 0.9175 - val_accuracy: 0.9120\n",
      "Epoch 3/10\n",
      "507/507 [==============================] - 197s 389ms/step - loss: 0.2711 - accuracy: 0.9221 - val_loss: 0.9705 - val_accuracy: 0.9515\n",
      "Epoch 4/10\n",
      "507/507 [==============================] - 196s 387ms/step - loss: 0.1766 - accuracy: 0.9530 - val_loss: 1.0711 - val_accuracy: 0.9584\n",
      "Epoch 5/10\n",
      "507/507 [==============================] - 196s 387ms/step - loss: 0.1328 - accuracy: 0.9642 - val_loss: 0.6961 - val_accuracy: 0.9602\n",
      "Epoch 6/10\n",
      "507/507 [==============================] - 196s 387ms/step - loss: 0.1195 - accuracy: 0.9680 - val_loss: 0.6916 - val_accuracy: 0.9597\n",
      "Epoch 7/10\n",
      "507/507 [==============================] - 194s 383ms/step - loss: 0.1067 - accuracy: 0.9714 - val_loss: 1.1540 - val_accuracy: 0.9594\n",
      "Epoch 8/10\n",
      "507/507 [==============================] - 193s 381ms/step - loss: 0.1131 - accuracy: 0.9730 - val_loss: 0.5779 - val_accuracy: 0.9610\n",
      "Epoch 9/10\n",
      "507/507 [==============================] - 193s 381ms/step - loss: 0.1037 - accuracy: 0.9726 - val_loss: 0.9323 - val_accuracy: 0.9543\n",
      "Epoch 10/10\n",
      "507/507 [==============================] - 193s 380ms/step - loss: 0.1164 - accuracy: 0.9722 - val_loss: 1.8589 - val_accuracy: 0.9620\n",
      "Duration: 0:32:31.574785\n"
     ]
    }
   ],
   "source": [
    "n=17\n",
    "print(n)\n",
    "\n",
    "models_nc[n].fit_model(image_sets_nc[n],label_sets_nc[n],x_val,y_val)\n",
    "n = n+1 "
   ]
  },
  {
   "cell_type": "code",
   "execution_count": 28,
   "id": "14409d0f",
   "metadata": {},
   "outputs": [
    {
     "name": "stdout",
     "output_type": "stream",
     "text": [
      "18\n",
      "Epoch 1/10\n",
      "535/535 [==============================] - 206s 380ms/step - loss: 3.4136 - accuracy: 0.0814 - val_loss: 1.1288 - val_accuracy: 0.7170\n",
      "Epoch 2/10\n",
      "535/535 [==============================] - 204s 382ms/step - loss: 0.8670 - accuracy: 0.7448 - val_loss: 0.4164 - val_accuracy: 0.9436\n",
      "Epoch 3/10\n",
      "535/535 [==============================] - 205s 383ms/step - loss: 0.3127 - accuracy: 0.9127 - val_loss: 0.2946 - val_accuracy: 0.9579\n",
      "Epoch 4/10\n",
      "535/535 [==============================] - 203s 380ms/step - loss: 0.2023 - accuracy: 0.9437 - val_loss: 0.2389 - val_accuracy: 0.9755\n",
      "Epoch 5/10\n",
      "535/535 [==============================] - 204s 380ms/step - loss: 0.1632 - accuracy: 0.9550 - val_loss: 0.2237 - val_accuracy: 0.9755\n",
      "Epoch 6/10\n",
      "535/535 [==============================] - 203s 379ms/step - loss: 0.1401 - accuracy: 0.9625 - val_loss: 0.2179 - val_accuracy: 0.9760\n",
      "Epoch 7/10\n",
      "535/535 [==============================] - 203s 379ms/step - loss: 0.1364 - accuracy: 0.9638 - val_loss: 0.1763 - val_accuracy: 0.9758\n",
      "Epoch 8/10\n",
      "535/535 [==============================] - 203s 379ms/step - loss: 0.1267 - accuracy: 0.9664 - val_loss: 0.1249 - val_accuracy: 0.9740\n",
      "Epoch 9/10\n",
      "535/535 [==============================] - 202s 378ms/step - loss: 0.1324 - accuracy: 0.9663 - val_loss: 0.1630 - val_accuracy: 0.9635\n",
      "Epoch 10/10\n",
      "535/535 [==============================] - 203s 379ms/step - loss: 0.1341 - accuracy: 0.9678 - val_loss: 0.1764 - val_accuracy: 0.9704\n",
      "Duration: 0:33:55.558596\n"
     ]
    }
   ],
   "source": [
    "print(n)\n",
    "\n",
    "models_nc[n].fit_model(image_sets_nc[n],label_sets_nc[n],x_val,y_val)\n",
    "n = n+1"
   ]
  },
  {
   "cell_type": "code",
   "execution_count": null,
   "id": "bff7c269",
   "metadata": {},
   "outputs": [],
   "source": [
    "\n",
    "models_nc[19] = utils.My_model('gtsrb',True,model_dir)\n",
    "models_nc[19].compile_model()"
   ]
  },
  {
   "cell_type": "code",
   "execution_count": 29,
   "id": "78afe372",
   "metadata": {},
   "outputs": [
    {
     "name": "stdout",
     "output_type": "stream",
     "text": [
      "19\n",
      "Epoch 1/10\n",
      "569/569 [==============================] - 218s 378ms/step - loss: 3.2720 - accuracy: 0.1295 - val_loss: 0.7354 - val_accuracy: 0.7663\n",
      "Epoch 2/10\n",
      "569/569 [==============================] - 215s 378ms/step - loss: 0.6649 - accuracy: 0.7976 - val_loss: 0.0861 - val_accuracy: 0.9740\n",
      "Epoch 3/10\n",
      "569/569 [==============================] - 215s 378ms/step - loss: 0.2572 - accuracy: 0.9216 - val_loss: 0.0330 - val_accuracy: 0.9906\n",
      "Epoch 4/10\n",
      "569/569 [==============================] - 215s 378ms/step - loss: 0.1725 - accuracy: 0.9515 - val_loss: 0.0312 - val_accuracy: 0.9913\n",
      "Epoch 5/10\n",
      "569/569 [==============================] - 216s 379ms/step - loss: 0.1306 - accuracy: 0.9624 - val_loss: 0.1301 - val_accuracy: 0.9650\n",
      "Epoch 6/10\n",
      "569/569 [==============================] - 218s 383ms/step - loss: 0.1179 - accuracy: 0.9673 - val_loss: 0.0392 - val_accuracy: 0.9908\n",
      "Epoch 7/10\n",
      "569/569 [==============================] - 217s 382ms/step - loss: 0.1110 - accuracy: 0.9691 - val_loss: 0.0327 - val_accuracy: 0.9946\n",
      "Epoch 8/10\n",
      "569/569 [==============================] - 217s 381ms/step - loss: 0.1027 - accuracy: 0.9730 - val_loss: 0.0327 - val_accuracy: 0.9936\n",
      "Epoch 9/10\n",
      "569/569 [==============================] - 217s 382ms/step - loss: 0.1094 - accuracy: 0.9721 - val_loss: 0.0462 - val_accuracy: 0.9923\n",
      "Epoch 10/10\n",
      "569/569 [==============================] - 215s 377ms/step - loss: 0.1093 - accuracy: 0.9715 - val_loss: 0.0264 - val_accuracy: 0.9949\n",
      "Duration: 0:36:02.620022\n"
     ]
    }
   ],
   "source": [
    "n=19\n",
    "print(n)\n",
    "\n",
    "models_nc[n].fit_model(image_sets_nc[n],label_sets_nc[n],x_val,y_val)\n",
    "n = n+1"
   ]
  },
  {
   "cell_type": "code",
   "execution_count": 23,
   "id": "7931428f",
   "metadata": {},
   "outputs": [
    {
     "name": "stdout",
     "output_type": "stream",
     "text": [
      "D:/models/gtsrb_models/C1/gtsrb_model_c1_sep_nc_e2_0\n",
      "Model loaded correctly\n",
      "D:/models/gtsrb_models/C1/gtsrb_model_c1_sep_nc_e2_1\n",
      "Model loaded correctly\n",
      "D:/models/gtsrb_models/C1/gtsrb_model_c1_sep_nc_e2_2\n",
      "Model loaded correctly\n",
      "D:/models/gtsrb_models/C1/gtsrb_model_c1_sep_nc_e2_3\n",
      "Model loaded correctly\n",
      "D:/models/gtsrb_models/C1/gtsrb_model_c1_sep_nc_e2_4\n",
      "Model loaded correctly\n",
      "D:/models/gtsrb_models/C1/gtsrb_model_c1_sep_nc_e2_5\n",
      "Model loaded correctly\n",
      "D:/models/gtsrb_models/C1/gtsrb_model_c1_sep_nc_e2_6\n",
      "Model loaded correctly\n",
      "D:/models/gtsrb_models/C1/gtsrb_model_c1_sep_nc_e2_7\n",
      "Model loaded correctly\n",
      "D:/models/gtsrb_models/C1/gtsrb_model_c1_sep_nc_e2_8\n",
      "Model loaded correctly\n",
      "D:/models/gtsrb_models/C1/gtsrb_model_c1_sep_nc_e2_9\n",
      "Model loaded correctly\n",
      "D:/models/gtsrb_models/C1/gtsrb_model_c1_sep_nc_e2_10\n",
      "Model loaded correctly\n",
      "D:/models/gtsrb_models/C1/gtsrb_model_c1_sep_nc_e2_11\n",
      "Model loaded correctly\n",
      "D:/models/gtsrb_models/C1/gtsrb_model_c1_sep_nc_e2_12\n",
      "Model loaded correctly\n",
      "D:/models/gtsrb_models/C1/gtsrb_model_c1_sep_nc_e2_13\n",
      "Model loaded correctly\n",
      "D:/models/gtsrb_models/C1/gtsrb_model_c1_sep_nc_e2_14\n",
      "Model loaded correctly\n",
      "D:/models/gtsrb_models/C1/gtsrb_model_c1_sep_nc_e2_15\n",
      "Model loaded correctly\n",
      "D:/models/gtsrb_models/C1/gtsrb_model_c1_sep_nc_e2_16\n",
      "Model loaded correctly\n",
      "D:/models/gtsrb_models/C1/gtsrb_model_c1_sep_nc_e2_17\n",
      "Model loaded correctly\n",
      "D:/models/gtsrb_models/C1/gtsrb_model_c1_sep_nc_e2_18\n",
      "Model loaded correctly\n",
      "D:/models/gtsrb_models/C1/gtsrb_model_c1_sep_nc_e2_19\n",
      "Model loaded correctly\n"
     ]
    }
   ],
   "source": [
    "loading = True\n",
    "\n",
    "models_nc = []\n",
    "\n",
    "if loading:\n",
    "    for i in range(20):\n",
    "        model_nc_dir = \"D:/models/gtsrb_models/C1/gtsrb_model_c1_sep_nc_e2_\"+str(i)\n",
    "        print(model_nc_dir)\n",
    "        model =utils.My_model('gtsrb',True,model_nc_dir)\n",
    "        model.model.compile(loss= 'categorical_crossentropy', optimizer = 'rmsprop', metrics = ['accuracy',tf.keras.metrics.Precision(), tf.keras.metrics.Recall()])\n",
    "        models_nc.append(model)\n",
    "       "
   ]
  },
  {
   "cell_type": "markdown",
   "id": "2b428980",
   "metadata": {},
   "source": [
    "## Evaluating"
   ]
  },
  {
   "cell_type": "code",
   "execution_count": 24,
   "id": "e6300f23",
   "metadata": {},
   "outputs": [],
   "source": [
    "model_original.model.compile(loss= 'categorical_crossentropy', optimizer = 'rmsprop', metrics = ['accuracy',tf.keras.metrics.Precision(), tf.keras.metrics.Recall()])"
   ]
  },
  {
   "cell_type": "code",
   "execution_count": 25,
   "id": "fd074ff2",
   "metadata": {},
   "outputs": [
    {
     "name": "stdout",
     "output_type": "stream",
     "text": [
      "123/123 [==============================] - 23s 129ms/step - loss: 4.9518 - accuracy: 0.1311 - precision_80: 0.1937 - recall_80: 0.0905\n",
      "123/123 [==============================] - 16s 126ms/step - loss: 4.5121 - accuracy: 0.1843 - precision_80: 0.2965 - recall_80: 0.1261\n",
      "123/123 [==============================] - 16s 128ms/step - loss: 4.5121 - accuracy: 0.1843 - precision_80: 0.3060 - recall_80: 0.1296\n",
      "123/123 [==============================] - 15s 126ms/step - loss: 4.5121 - accuracy: 0.1843 - precision_80: 0.3098 - recall_80: 0.1310\n",
      "123/123 [==============================] - 16s 120ms/step - loss: 2.8568 - accuracy: 0.2035 - precision: 0.4840 - recall: 0.0058\n",
      "123/123 [==============================] - 17s 124ms/step - loss: 1.1267 - accuracy: 0.6795 - precision_1: 0.6906 - recall_1: 0.4485\n",
      "123/123 [==============================] - 16s 115ms/step - loss: 0.8262 - accuracy: 0.7560 - precision_2: 0.8079 - recall_2: 0.6380\n",
      "123/123 [==============================] - 16s 118ms/step - loss: 0.6291 - accuracy: 0.8100 - precision_3: 0.8806 - recall_3: 0.6963\n",
      "123/123 [==============================] - 15s 112ms/step - loss: 0.5641 - accuracy: 0.8282 - precision_4: 0.8617 - recall_4: 0.7657\n",
      "123/123 [==============================] - 15s 110ms/step - loss: 0.4475 - accuracy: 0.8719 - precision_5: 0.9194 - recall_5: 0.7700\n",
      "123/123 [==============================] - 14s 105ms/step - loss: 0.4598 - accuracy: 0.8613 - precision_6: 0.8912 - recall_6: 0.7525\n",
      "123/123 [==============================] - 14s 104ms/step - loss: 0.5005 - accuracy: 0.8421 - precision_7: 0.8356 - recall_7: 0.7369\n",
      "123/123 [==============================] - 13s 97ms/step - loss: 0.3391 - accuracy: 0.8943 - precision_8: 0.9412 - recall_8: 0.8355\n",
      "123/123 [==============================] - 13s 97ms/step - loss: 0.2829 - accuracy: 0.9100 - precision_9: 0.9207 - recall_9: 0.8781\n",
      "123/123 [==============================] - 14s 100ms/step - loss: 0.3716 - accuracy: 0.8905 - precision_10: 0.9277 - recall_10: 0.8465\n",
      "123/123 [==============================] - 14s 102ms/step - loss: 0.3773 - accuracy: 0.8986 - precision_11: 0.9498 - recall_11: 0.8335\n",
      "123/123 [==============================] - 14s 103ms/step - loss: 0.4052 - accuracy: 0.8849 - precision_12: 0.8977 - recall_12: 0.8576\n",
      "123/123 [==============================] - 14s 102ms/step - loss: 0.3671 - accuracy: 0.8945 - precision_13: 0.9358 - recall_13: 0.8653\n",
      "123/123 [==============================] - 14s 101ms/step - loss: 0.3509 - accuracy: 0.9075 - precision_14: 0.9170 - recall_14: 0.8893\n",
      "123/123 [==============================] - 14s 101ms/step - loss: 0.3014 - accuracy: 0.9166 - precision_15: 0.9462 - recall_15: 0.8768\n",
      "123/123 [==============================] - 14s 102ms/step - loss: 0.4059 - accuracy: 0.8943 - precision_16: 0.9321 - recall_16: 0.8602\n",
      "123/123 [==============================] - 14s 103ms/step - loss: 0.3326 - accuracy: 0.9171 - precision_17: 0.9445 - recall_17: 0.8907\n",
      "123/123 [==============================] - 15s 110ms/step - loss: 0.3994 - accuracy: 0.8968 - precision_18: 0.9210 - recall_18: 0.8691\n",
      "123/123 [==============================] - 15s 113ms/step - loss: 0.3778 - accuracy: 0.9189 - precision_19: 0.9364 - recall_19: 0.9097\n",
      "123/123 [==============================] - 15s 112ms/step - loss: 2.9979 - accuracy: 0.1776 - precision_20: 0.0000e+00 - recall_20: 0.0000e+00\n",
      "123/123 [==============================] - 15s 113ms/step - loss: 1.5041 - accuracy: 0.5540 - precision_21: 0.7446 - recall_21: 0.2633\n",
      "123/123 [==============================] - 16s 116ms/step - loss: 0.7582 - accuracy: 0.7535 - precision_22: 0.8093 - recall_22: 0.6066\n",
      "123/123 [==============================] - 15s 115ms/step - loss: 0.4644 - accuracy: 0.8646 - precision_23: 0.9183 - recall_23: 0.7800\n",
      "123/123 [==============================] - 16s 117ms/step - loss: 0.4619 - accuracy: 0.8785 - precision_24: 0.9123 - recall_24: 0.8353\n",
      "123/123 [==============================] - 15s 115ms/step - loss: 0.4972 - accuracy: 0.8524 - precision_25: 0.9119 - recall_25: 0.8186\n",
      "123/123 [==============================] - 16s 117ms/step - loss: 0.4626 - accuracy: 0.8580 - precision_26: 0.8954 - recall_26: 0.8056\n",
      "123/123 [==============================] - 16s 118ms/step - loss: 0.4971 - accuracy: 0.8600 - precision_27: 0.9433 - recall_27: 0.8003\n",
      "123/123 [==============================] - 16s 116ms/step - loss: 0.5147 - accuracy: 0.8588 - precision_28: 0.9100 - recall_28: 0.8500\n",
      "123/123 [==============================] - 15s 114ms/step - loss: 0.4292 - accuracy: 0.8835 - precision_29: 0.9516 - recall_29: 0.8266\n",
      "123/123 [==============================] - 15s 113ms/step - loss: 0.3699 - accuracy: 0.8909 - precision_30: 0.9675 - recall_30: 0.8580\n",
      "123/123 [==============================] - 16s 119ms/step - loss: 0.4264 - accuracy: 0.8759 - precision_31: 0.9235 - recall_31: 0.8463\n",
      "123/123 [==============================] - 16s 121ms/step - loss: 0.3795 - accuracy: 0.9016 - precision_32: 0.9190 - recall_32: 0.8865\n",
      "123/123 [==============================] - 16s 121ms/step - loss: 0.4109 - accuracy: 0.8777 - precision_33: 0.9418 - recall_33: 0.8223\n",
      "123/123 [==============================] - 16s 122ms/step - loss: 0.4152 - accuracy: 0.8696 - precision_34: 0.9281 - recall_34: 0.8262\n",
      "123/123 [==============================] - 16s 122ms/step - loss: 0.3341 - accuracy: 0.9059 - precision_35: 0.9583 - recall_35: 0.8758\n",
      "123/123 [==============================] - 16s 122ms/step - loss: 0.5766 - accuracy: 0.9101 - precision_36: 0.9061 - recall_36: 0.8846\n",
      "123/123 [==============================] - 16s 120ms/step - loss: 0.4754 - accuracy: 0.8931 - precision_37: 0.9630 - recall_37: 0.7884\n",
      "123/123 [==============================] - 17s 126ms/step - loss: 0.4001 - accuracy: 0.9127 - precision_38: 0.9230 - recall_38: 0.8936\n",
      "123/123 [==============================] - 17s 125ms/step - loss: 0.4463 - accuracy: 0.9075 - precision_39: 0.9233 - recall_39: 0.8848\n",
      "123/123 [==============================] - 17s 127ms/step - loss: 3.0687 - accuracy: 0.0998 - precision_40: 0.1788 - recall_40: 0.0029\n",
      "123/123 [==============================] - 17s 128ms/step - loss: 1.5446 - accuracy: 0.5679 - precision_41: 0.6831 - recall_41: 0.3969\n",
      "123/123 [==============================] - 17s 130ms/step - loss: 1.2029 - accuracy: 0.6482 - precision_42: 0.7675 - recall_42: 0.5997\n",
      "123/123 [==============================] - 17s 130ms/step - loss: 1.3037 - accuracy: 0.6405 - precision_43: 0.6644 - recall_43: 0.5600\n",
      "123/123 [==============================] - 17s 131ms/step - loss: 0.8939 - accuracy: 0.7397 - precision_44: 0.8384 - recall_44: 0.6903\n",
      "123/123 [==============================] - 17s 127ms/step - loss: 0.7139 - accuracy: 0.8129 - precision_45: 0.8595 - recall_45: 0.7658\n",
      "123/123 [==============================] - 17s 128ms/step - loss: 0.6468 - accuracy: 0.8369 - precision_46: 0.8713 - recall_46: 0.8101\n",
      "123/123 [==============================] - 17s 125ms/step - loss: 0.6423 - accuracy: 0.8504 - precision_47: 0.8804 - recall_47: 0.8214\n",
      "123/123 [==============================] - 17s 126ms/step - loss: 0.5740 - accuracy: 0.8420 - precision_48: 0.8939 - recall_48: 0.8161\n",
      "123/123 [==============================] - 17s 126ms/step - loss: 0.4939 - accuracy: 0.8620 - precision_49: 0.9024 - recall_49: 0.8309\n",
      "123/123 [==============================] - 16s 124ms/step - loss: 0.5506 - accuracy: 0.8532 - precision_50: 0.8980 - recall_50: 0.8268\n",
      "123/123 [==============================] - 16s 124ms/step - loss: 0.5529 - accuracy: 0.8604 - precision_51: 0.8965 - recall_51: 0.8195\n",
      "123/123 [==============================] - 17s 125ms/step - loss: 0.3281 - accuracy: 0.9104 - precision_52: 0.9267 - recall_52: 0.8834\n",
      "123/123 [==============================] - 17s 126ms/step - loss: 0.3873 - accuracy: 0.8918 - precision_53: 0.9248 - recall_53: 0.8596\n",
      "123/123 [==============================] - 17s 125ms/step - loss: 0.3452 - accuracy: 0.9084 - precision_54: 0.9362 - recall_54: 0.8868\n",
      "123/123 [==============================] - 16s 121ms/step - loss: 0.4543 - accuracy: 0.8833 - precision_55: 0.9139 - recall_55: 0.8636\n",
      "123/123 [==============================] - 16s 123ms/step - loss: 0.3200 - accuracy: 0.9047 - precision_56: 0.9447 - recall_56: 0.8617\n",
      "123/123 [==============================] - 16s 117ms/step - loss: 0.4265 - accuracy: 0.8803 - precision_57: 0.9516 - recall_57: 0.8226\n",
      "123/123 [==============================] - 16s 117ms/step - loss: 0.3812 - accuracy: 0.9048 - precision_58: 0.9581 - recall_58: 0.8331\n",
      "123/123 [==============================] - 15s 115ms/step - loss: 0.3607 - accuracy: 0.9142 - precision_59: 0.9500 - recall_59: 0.8839\n",
      "123/123 [==============================] - 16s 117ms/step - loss: 6.7557 - accuracy: 0.1715 - precision_60: 0.1850 - recall_60: 0.1393\n",
      "123/123 [==============================] - 16s 116ms/step - loss: 7.7654 - accuracy: 0.1823 - precision_61: 0.2072 - recall_61: 0.1629\n",
      "123/123 [==============================] - 16s 116ms/step - loss: 5.3826 - accuracy: 0.3674 - precision_62: 0.5388 - recall_62: 0.3646\n",
      "123/123 [==============================] - 15s 115ms/step - loss: 5.1438 - accuracy: 0.4804 - precision_63: 0.6508 - recall_63: 0.4975\n",
      "123/123 [==============================] - 16s 117ms/step - loss: 6.3095 - accuracy: 0.5346 - precision_64: 0.6616 - recall_64: 0.5674\n",
      "123/123 [==============================] - 15s 113ms/step - loss: 5.1604 - accuracy: 0.5647 - precision_65: 0.7298 - recall_65: 0.5551\n",
      "123/123 [==============================] - 15s 114ms/step - loss: 4.5721 - accuracy: 0.6015 - precision_66: 0.7373 - recall_66: 0.6241\n",
      "123/123 [==============================] - 15s 114ms/step - loss: 5.4687 - accuracy: 0.5591 - precision_67: 0.7272 - recall_67: 0.5341\n",
      "123/123 [==============================] - 15s 112ms/step - loss: 3.1473 - accuracy: 0.5433 - precision_68: 0.7640 - recall_68: 0.4730\n",
      "123/123 [==============================] - 15s 111ms/step - loss: 4.1548 - accuracy: 0.6025 - precision_69: 0.7736 - recall_69: 0.5196\n",
      "123/123 [==============================] - 15s 113ms/step - loss: 4.9403 - accuracy: 0.7235 - precision_70: 0.7926 - recall_70: 0.6919\n",
      "123/123 [==============================] - 15s 109ms/step - loss: 2.1458 - accuracy: 0.7107 - precision_71: 0.8721 - recall_71: 0.5999\n",
      "123/123 [==============================] - 15s 115ms/step - loss: 3.6169 - accuracy: 0.7234 - precision_72: 0.8020 - recall_72: 0.6549\n",
      "123/123 [==============================] - 15s 109ms/step - loss: 2.2731 - accuracy: 0.7584 - precision_73: 0.8811 - recall_73: 0.6620\n",
      "123/123 [==============================] - 15s 111ms/step - loss: 1.0958 - accuracy: 0.7760 - precision_74: 0.8768 - recall_74: 0.6853\n",
      "123/123 [==============================] - 15s 110ms/step - loss: 0.8491 - accuracy: 0.8062 - precision_75: 0.8799 - recall_75: 0.7393\n",
      "123/123 [==============================] - 15s 109ms/step - loss: 0.7582 - accuracy: 0.8358 - precision_76: 0.9291 - recall_76: 0.8003\n",
      "123/123 [==============================] - 15s 109ms/step - loss: 0.7459 - accuracy: 0.8599 - precision_77: 0.9263 - recall_77: 0.8252\n",
      "123/123 [==============================] - 15s 110ms/step - loss: 0.8778 - accuracy: 0.7906 - precision_78: 0.9790 - recall_78: 0.6366\n",
      "123/123 [==============================] - 15s 110ms/step - loss: 0.3297 - accuracy: 0.9076 - precision_79: 0.9459 - recall_79: 0.8723\n"
     ]
    }
   ],
   "source": [
    "# Metrics using adversarial test\n",
    "evaluate_lsa_0 = []\n",
    "evaluate_dsa_0 = []\n",
    "evaluate_nc_0 = []\n",
    "evaluate_random_0 = []\n",
    "\n",
    "evaluate_lsa_0.append(model_original.evaluate(x_adversary_test_fgsm,y_adversary_test_fgsm))\n",
    "evaluate_dsa_0.append(model_original.evaluate(x_adversary_test_fgsm,y_adversary_test_fgsm))\n",
    "evaluate_nc_0.append(model_original.evaluate(x_adversary_test_fgsm,y_adversary_test_fgsm))\n",
    "evaluate_random_0.append(model_original.evaluate(x_adversary_test_fgsm,y_adversary_test_fgsm))\n",
    "\n",
    "for model in models_lsa:\n",
    "    evaluate_lsa_0.append(model.evaluate(x_adversary_test_fgsm,y_adversary_test_fgsm))\n",
    "    \n",
    "for model in models_dsa:\n",
    "    evaluate_dsa_0.append(model.evaluate(x_adversary_test_fgsm,y_adversary_test_fgsm))\n",
    "    \n",
    "for model in models_random:\n",
    "    evaluate_random_0.append(model.evaluate(x_adversary_test_fgsm,y_adversary_test_fgsm))\n",
    "    \n",
    "for model in models_nc:\n",
    "    evaluate_nc_0.append(model.evaluate(x_adversary_test_fgsm,y_adversary_test_fgsm))"
   ]
  },
  {
   "cell_type": "code",
   "execution_count": 26,
   "id": "889a2bb6",
   "metadata": {},
   "outputs": [],
   "source": [
    "evaluate_lsa_0[0]=[0,0,0,0]\n",
    "evaluate_dsa_0[0]=[0,0,0,0]\n",
    "evaluate_random_0[0]=[0,0,0,0]\n",
    "evaluate_nc_0[0]=[0,0,0,0]"
   ]
  },
  {
   "cell_type": "code",
   "execution_count": 27,
   "id": "11b4b138",
   "metadata": {},
   "outputs": [
    {
     "name": "stdout",
     "output_type": "stream",
     "text": [
      "21\n",
      "21\n",
      "21\n",
      "21\n"
     ]
    }
   ],
   "source": [
    "print(len(evaluate_lsa_0))\n",
    "print(len(evaluate_dsa_0))\n",
    "print(len(evaluate_random_0))\n",
    "print(len(evaluate_nc_0))"
   ]
  },
  {
   "cell_type": "code",
   "execution_count": 28,
   "id": "1d1c6ec0",
   "metadata": {
    "scrolled": true
   },
   "outputs": [
    {
     "name": "stdout",
     "output_type": "stream",
     "text": [
      "123/123 [==============================] - 14s 113ms/step - loss: 0.0293 - accuracy: 0.9929 - precision_80: 0.4645 - recall_80: 0.2270\n",
      "123/123 [==============================] - 14s 115ms/step - loss: 0.0293 - accuracy: 0.9929 - precision_80: 0.6339 - recall_80: 0.3667\n",
      "123/123 [==============================] - 14s 113ms/step - loss: 0.0293 - accuracy: 0.9929 - precision_80: 0.7208 - recall_80: 0.4631\n",
      "123/123 [==============================] - 14s 113ms/step - loss: 0.0293 - accuracy: 0.9929 - precision_80: 0.7739 - recall_80: 0.5337\n",
      "lsa---\n",
      "123/123 [==============================] - 14s 111ms/step - loss: 3.2089 - accuracy: 0.1659 - precision: 0.6916 - recall: 0.0034\n",
      "123/123 [==============================] - 14s 112ms/step - loss: 1.0112 - accuracy: 0.6987 - precision_1: 0.8521 - recall_1: 0.5630\n",
      "123/123 [==============================] - 14s 112ms/step - loss: 1.9459 - accuracy: 0.5944 - precision_2: 0.8190 - recall_2: 0.6229\n",
      "123/123 [==============================] - 14s 112ms/step - loss: 1.5653 - accuracy: 0.6261 - precision_3: 0.8753 - recall_3: 0.6942\n",
      "123/123 [==============================] - 14s 112ms/step - loss: 0.7023 - accuracy: 0.8193 - precision_4: 0.8870 - recall_4: 0.8245\n",
      "123/123 [==============================] - 14s 112ms/step - loss: 1.1973 - accuracy: 0.7451 - precision_5: 0.8930 - recall_5: 0.7946\n",
      "123/123 [==============================] - 14s 111ms/step - loss: 0.3620 - accuracy: 0.8881 - precision_6: 0.9321 - recall_6: 0.8463\n",
      "123/123 [==============================] - 14s 111ms/step - loss: 0.4582 - accuracy: 0.8697 - precision_7: 0.9150 - recall_7: 0.8400\n",
      "123/123 [==============================] - 14s 113ms/step - loss: 0.4133 - accuracy: 0.8845 - precision_8: 0.9361 - recall_8: 0.8663\n",
      "123/123 [==============================] - 14s 112ms/step - loss: 0.2135 - accuracy: 0.9401 - precision_9: 0.9507 - recall_9: 0.9197\n",
      "123/123 [==============================] - 14s 112ms/step - loss: 0.1626 - accuracy: 0.9490 - precision_10: 0.9522 - recall_10: 0.8995\n",
      "123/123 [==============================] - 14s 111ms/step - loss: 0.2140 - accuracy: 0.9317 - precision_11: 0.9542 - recall_11: 0.8758\n",
      "123/123 [==============================] - 14s 111ms/step - loss: 0.2836 - accuracy: 0.9307 - precision_12: 0.9286 - recall_12: 0.8981\n",
      "123/123 [==============================] - 14s 110ms/step - loss: 0.2389 - accuracy: 0.9421 - precision_13: 0.9376 - recall_13: 0.8971\n",
      "123/123 [==============================] - 14s 111ms/step - loss: 0.5169 - accuracy: 0.9276 - precision_14: 0.9248 - recall_14: 0.9121\n",
      "123/123 [==============================] - 14s 111ms/step - loss: 0.2092 - accuracy: 0.9607 - precision_15: 0.9562 - recall_15: 0.9246\n",
      "123/123 [==============================] - 14s 112ms/step - loss: 0.2292 - accuracy: 0.9633 - precision_16: 0.9500 - recall_16: 0.9120\n",
      "123/123 [==============================] - 14s 112ms/step - loss: 0.1530 - accuracy: 0.9709 - precision_17: 0.9601 - recall_17: 0.9240\n",
      "123/123 [==============================] - 14s 111ms/step - loss: 0.0401 - accuracy: 0.9913 - precision_18: 0.9584 - recall_18: 0.9296\n",
      "123/123 [==============================] - 14s 110ms/step - loss: 0.0265 - accuracy: 0.9949 - precision_19: 0.9664 - recall_19: 0.9489\n",
      "dsa---\n",
      "123/123 [==============================] - 14s 110ms/step - loss: 3.4079 - accuracy: 0.1091 - precision_20: 0.0000e+00 - recall_20: 0.0000e+00\n",
      "123/123 [==============================] - 14s 111ms/step - loss: 1.3658 - accuracy: 0.6240 - precision_21: 0.8764 - recall_21: 0.3590\n",
      "123/123 [==============================] - 14s 112ms/step - loss: 3.1691 - accuracy: 0.5906 - precision_22: 0.7955 - recall_22: 0.6246\n",
      "123/123 [==============================] - 14s 111ms/step - loss: 1.5114 - accuracy: 0.7122 - precision_23: 0.8729 - recall_23: 0.7566\n",
      "123/123 [==============================] - 14s 111ms/step - loss: 1.0123 - accuracy: 0.7887 - precision_24: 0.8899 - recall_24: 0.8075\n",
      "123/123 [==============================] - 14s 111ms/step - loss: 2.6959 - accuracy: 0.6431 - precision_25: 0.8407 - recall_25: 0.7503\n",
      "123/123 [==============================] - 14s 111ms/step - loss: 1.0505 - accuracy: 0.8144 - precision_26: 0.8887 - recall_26: 0.8089\n",
      "123/123 [==============================] - 14s 111ms/step - loss: 0.6564 - accuracy: 0.8598 - precision_27: 0.9365 - recall_27: 0.8181\n",
      "123/123 [==============================] - 14s 111ms/step - loss: 10.8687 - accuracy: 0.6276 - precision_28: 0.8507 - recall_28: 0.7835\n",
      "123/123 [==============================] - 14s 110ms/step - loss: 0.3701 - accuracy: 0.8998 - precision_29: 0.9615 - recall_29: 0.8306\n",
      "123/123 [==============================] - 14s 111ms/step - loss: 0.4383 - accuracy: 0.8927 - precision_30: 0.9642 - recall_30: 0.8491\n",
      "123/123 [==============================] - 14s 111ms/step - loss: 0.4349 - accuracy: 0.9271 - precision_31: 0.9534 - recall_31: 0.8677\n",
      "123/123 [==============================] - 14s 111ms/step - loss: 0.6209 - accuracy: 0.9307 - precision_32: 0.9516 - recall_32: 0.9014\n",
      "123/123 [==============================] - 14s 111ms/step - loss: 0.2853 - accuracy: 0.9503 - precision_33: 0.9619 - recall_33: 0.8864\n",
      "123/123 [==============================] - 14s 110ms/step - loss: 0.1018 - accuracy: 0.9676 - precision_34: 0.9565 - recall_34: 0.8938\n",
      "123/123 [==============================] - 14s 113ms/step - loss: 0.0809 - accuracy: 0.9827 - precision_35: 0.9660 - recall_35: 0.9117\n",
      "123/123 [==============================] - 14s 110ms/step - loss: 0.2573 - accuracy: 0.9676 - precision_36: 0.9525 - recall_36: 0.9376\n",
      "123/123 [==============================] - 14s 110ms/step - loss: 0.1695 - accuracy: 0.9643 - precision_37: 0.9713 - recall_37: 0.8658\n",
      "123/123 [==============================] - 14s 110ms/step - loss: 0.0654 - accuracy: 0.9845 - precision_38: 0.9631 - recall_38: 0.9438\n",
      "123/123 [==============================] - 14s 110ms/step - loss: 0.0392 - accuracy: 0.9946 - precision_39: 0.9666 - recall_39: 0.9454\n",
      "random---\n",
      "123/123 [==============================] - 14s 111ms/step - loss: 2.9909 - accuracy: 0.2200 - precision_40: 0.9859 - recall_40: 0.0197\n",
      "123/123 [==============================] - 14s 110ms/step - loss: 0.6927 - accuracy: 0.7981 - precision_41: 0.8423 - recall_41: 0.5796\n",
      "123/123 [==============================] - 14s 110ms/step - loss: 0.1768 - accuracy: 0.9472 - precision_42: 0.8785 - recall_42: 0.7366\n",
      "123/123 [==============================] - 14s 110ms/step - loss: 0.1481 - accuracy: 0.9531 - precision_43: 0.8629 - recall_43: 0.7720\n",
      "123/123 [==============================] - 14s 110ms/step - loss: 0.0740 - accuracy: 0.9791 - precision_44: 0.9217 - recall_44: 0.8184\n",
      "123/123 [==============================] - 14s 111ms/step - loss: 0.0443 - accuracy: 0.9898 - precision_45: 0.9377 - recall_45: 0.8855\n",
      "123/123 [==============================] - 14s 110ms/step - loss: 0.0530 - accuracy: 0.9888 - precision_46: 0.9300 - recall_46: 0.8933\n",
      "123/123 [==============================] - 14s 110ms/step - loss: 0.0550 - accuracy: 0.9898 - precision_47: 0.9376 - recall_47: 0.9063\n",
      "123/123 [==============================] - 14s 111ms/step - loss: 0.0436 - accuracy: 0.9893 - precision_48: 0.9387 - recall_48: 0.8912\n",
      "123/123 [==============================] - 14s 112ms/step - loss: 0.0392 - accuracy: 0.9929 - precision_49: 0.9509 - recall_49: 0.9089\n",
      "123/123 [==============================] - 14s 111ms/step - loss: 0.0329 - accuracy: 0.9936 - precision_50: 0.9481 - recall_50: 0.9023\n",
      "123/123 [==============================] - 14s 111ms/step - loss: 0.0362 - accuracy: 0.9921 - precision_51: 0.9529 - recall_51: 0.9163\n",
      "123/123 [==============================] - 14s 112ms/step - loss: 0.0295 - accuracy: 0.9944 - precision_52: 0.9658 - recall_52: 0.9460\n",
      "123/123 [==============================] - 14s 111ms/step - loss: 0.0240 - accuracy: 0.9941 - precision_53: 0.9606 - recall_53: 0.9285\n",
      "123/123 [==============================] - 14s 111ms/step - loss: 0.0240 - accuracy: 0.9949 - precision_54: 0.9685 - recall_54: 0.9452\n",
      "123/123 [==============================] - 14s 111ms/step - loss: 0.0467 - accuracy: 0.9941 - precision_55: 0.9600 - recall_55: 0.9280\n",
      "123/123 [==============================] - 14s 110ms/step - loss: 0.0254 - accuracy: 0.9944 - precision_56: 0.9718 - recall_56: 0.9282\n",
      "123/123 [==============================] - 14s 110ms/step - loss: 0.0316 - accuracy: 0.9936 - precision_57: 0.9724 - recall_57: 0.8968\n",
      "123/123 [==============================] - 14s 111ms/step - loss: 0.0267 - accuracy: 0.9941 - precision_58: 0.9754 - recall_58: 0.9142\n",
      "123/123 [==============================] - 14s 110ms/step - loss: 0.0410 - accuracy: 0.9929 - precision_59: 0.9733 - recall_59: 0.9385\n",
      "nc---\n",
      "123/123 [==============================] - 14s 110ms/step - loss: 10.8894 - accuracy: 0.1512 - precision_60: 0.1889 - recall_60: 0.1416\n",
      "123/123 [==============================] - 14s 111ms/step - loss: 13.3833 - accuracy: 0.1588 - precision_61: 0.1947 - recall_61: 0.1464\n",
      "123/123 [==============================] - 14s 111ms/step - loss: 12.0822 - accuracy: 0.2916 - precision_62: 0.3818 - recall_62: 0.2400\n",
      "123/123 [==============================] - 14s 111ms/step - loss: 9.0495 - accuracy: 0.5034 - precision_63: 0.5916 - recall_63: 0.4208\n",
      "123/123 [==============================] - 14s 111ms/step - loss: 11.4578 - accuracy: 0.5384 - precision_64: 0.5954 - recall_64: 0.4720\n",
      "123/123 [==============================] - 14s 111ms/step - loss: 8.4360 - accuracy: 0.5560 - precision_65: 0.6543 - recall_65: 0.4782\n",
      "123/123 [==============================] - 14s 112ms/step - loss: 8.6042 - accuracy: 0.5649 - precision_66: 0.6738 - recall_66: 0.5090\n",
      "123/123 [==============================] - 14s 111ms/step - loss: 7.2782 - accuracy: 0.6153 - precision_67: 0.7543 - recall_67: 0.5008\n",
      "123/123 [==============================] - 14s 111ms/step - loss: 4.7165 - accuracy: 0.6885 - precision_68: 0.8464 - recall_68: 0.5197\n",
      "123/123 [==============================] - 14s 111ms/step - loss: 6.6572 - accuracy: 0.6982 - precision_69: 0.7939 - recall_69: 0.5521\n",
      "123/123 [==============================] - 14s 111ms/step - loss: 4.7199 - accuracy: 0.7744 - precision_70: 0.8423 - recall_70: 0.6793\n",
      "123/123 [==============================] - 14s 112ms/step - loss: 2.1466 - accuracy: 0.8251 - precision_71: 0.9321 - recall_71: 0.6150\n",
      "123/123 [==============================] - 14s 111ms/step - loss: 6.2629 - accuracy: 0.8341 - precision_72: 0.8342 - recall_72: 0.7081\n",
      "123/123 [==============================] - 14s 111ms/step - loss: 2.9807 - accuracy: 0.8677 - precision_73: 0.9136 - recall_73: 0.7100\n",
      "123/123 [==============================] - 14s 110ms/step - loss: 1.4029 - accuracy: 0.8804 - precision_74: 0.9421 - recall_74: 0.7310\n",
      "123/123 [==============================] - 14s 111ms/step - loss: 1.5789 - accuracy: 0.9230 - precision_75: 0.9115 - recall_75: 0.8278\n",
      "123/123 [==============================] - 14s 110ms/step - loss: 1.5844 - accuracy: 0.9587 - precision_76: 0.9367 - recall_76: 0.8533\n",
      "123/123 [==============================] - 14s 110ms/step - loss: 1.8012 - accuracy: 0.9615 - precision_77: 0.9368 - recall_77: 0.8783\n",
      "123/123 [==============================] - 14s 110ms/step - loss: 0.1804 - accuracy: 0.9694 - precision_78: 0.9795 - recall_78: 0.7611\n",
      "123/123 [==============================] - 13s 109ms/step - loss: 0.0268 - accuracy: 0.9941 - precision_79: 0.9752 - recall_79: 0.9290\n"
     ]
    }
   ],
   "source": [
    "# Metrics using original test\n",
    "evaluate_lsa_1 = []\n",
    "evaluate_dsa_1 = []\n",
    "evaluate_nc_1 = []\n",
    "evaluate_random_1 = []\n",
    "\n",
    "evaluate_lsa_1.append(model_original.evaluate(x_test,y_test))\n",
    "evaluate_dsa_1.append(model_original.evaluate(x_test,y_test))\n",
    "evaluate_nc_1.append(model_original.evaluate(x_test,y_test))\n",
    "evaluate_random_1.append(model_original.evaluate(x_test,y_test))\n",
    "print(\"lsa---\")\n",
    "for model in models_lsa:\n",
    "    evaluate_lsa_1.append(model.evaluate(x_test,y_test))\n",
    "\n",
    "print(\"dsa---\")\n",
    "    \n",
    "for model in models_dsa:\n",
    "    evaluate_dsa_1.append(model.evaluate(x_test,y_test))\n",
    "    \n",
    "\n",
    "print(\"random---\")\n",
    "\n",
    "for model in models_random:\n",
    "    evaluate_random_1.append(model.evaluate(x_test,y_test))\n",
    "    \n",
    "print(\"nc---\")\n",
    "\n",
    "for model in models_nc:\n",
    "    evaluate_nc_1.append(model.evaluate(x_test,y_test))\n"
   ]
  },
  {
   "cell_type": "code",
   "execution_count": 29,
   "id": "3968b39d",
   "metadata": {},
   "outputs": [],
   "source": [
    "evaluate_lsa_1[0]=[0,0,0,0]\n",
    "evaluate_dsa_1[0]=[0,0,0,0]\n",
    "evaluate_random_1[0]=[0,0,0,0]\n",
    "evaluate_nc_1[0]=[0,0,0,0]"
   ]
  },
  {
   "cell_type": "code",
   "execution_count": 30,
   "id": "85dd3308",
   "metadata": {},
   "outputs": [
    {
     "name": "stdout",
     "output_type": "stream",
     "text": [
      "21\n",
      "21\n",
      "21\n",
      "21\n"
     ]
    }
   ],
   "source": [
    "\n",
    "print(len(evaluate_lsa_1))\n",
    "print(len(evaluate_dsa_1))\n",
    "print(len(evaluate_random_1))\n",
    "print(len(evaluate_nc_1))"
   ]
  },
  {
   "cell_type": "code",
   "execution_count": 49,
   "id": "641ef7af",
   "metadata": {},
   "outputs": [
    {
     "data": {
      "text/plain": [
       "float"
      ]
     },
     "execution_count": 49,
     "metadata": {},
     "output_type": "execute_result"
    }
   ],
   "source": [
    "type(evaluate_dsa_0[0][0])"
   ]
  },
  {
   "cell_type": "code",
   "execution_count": 31,
   "id": "8c45b340",
   "metadata": {},
   "outputs": [],
   "source": [
    "import pandas as pd\n",
    "\n",
    "df_evaluate_lsa_0 = pd.DataFrame(np.array(evaluate_lsa_0),columns=[\"loss\",\"accuracy\",\"precision\",\"recall\"])\n",
    "df_evaluate_lsa_1 = pd.DataFrame(np.array(evaluate_lsa_1),columns=[\"loss\",\"accuracy\",\"precision\",\"recall\"])\n",
    "df_evaluate_dsa_0 = pd.DataFrame(np.array(evaluate_dsa_0),columns=[\"loss\",\"accuracy\",\"precision\",\"recall\"])\n",
    "df_evaluate_dsa_1 = pd.DataFrame(np.array(evaluate_dsa_1),columns=[\"loss\",\"accuracy\",\"precision\",\"recall\"])\n",
    "\n",
    "df_evaluate_random_0 = pd.DataFrame(np.array(evaluate_random_0),columns=[\"loss\",\"accuracy\",\"precision\",\"recall\"])\n",
    "df_evaluate_random_1 = pd.DataFrame(np.array(evaluate_random_1),columns=[\"loss\",\"accuracy\",\"precision\",\"recall\"])\n",
    "df_evaluate_nc_0 = pd.DataFrame(np.array(evaluate_nc_0),columns=[\"loss\",\"accuracy\",\"precision\",\"recall\"])\n",
    "df_evaluate_nc_1 = pd.DataFrame(np.array(evaluate_nc_1),columns=[\"loss\",\"accuracy\",\"precision\",\"recall\"])\n"
   ]
  },
  {
   "cell_type": "code",
   "execution_count": 32,
   "id": "5fbac3f0",
   "metadata": {},
   "outputs": [],
   "source": [
    "# Original test set + adversarial set\n",
    "\n",
    "metric =\"accuracy\"\n",
    "accuracy_lsa_3 = (np.array(df_evaluate_lsa_0[metric])+np.array(df_evaluate_lsa_1[metric]))/2\n",
    "accuracy_dsa_3 = (np.array(df_evaluate_dsa_0[metric])+np.array(df_evaluate_dsa_1[metric]))/2\n",
    "accuracy_nc_3 = (np.array(df_evaluate_nc_0[metric])+np.array(df_evaluate_nc_1[metric]))/2\n",
    "accuracy_random_3 = (np.array(df_evaluate_random_0[metric])+np.array(df_evaluate_random_1[metric]))/2\n"
   ]
  },
  {
   "cell_type": "markdown",
   "id": "c0edc866",
   "metadata": {},
   "source": [
    "## Charts"
   ]
  },
  {
   "cell_type": "code",
   "execution_count": 33,
   "id": "db32b23d",
   "metadata": {},
   "outputs": [],
   "source": [
    "n_inputs = [1800*i for i in range(20)]\n",
    "n_inputs.append(len(x_train_and_adversary))"
   ]
  },
  {
   "cell_type": "code",
   "execution_count": 34,
   "id": "0e5d823a",
   "metadata": {},
   "outputs": [
    {
     "name": "stdout",
     "output_type": "stream",
     "text": [
      "[0, 1800, 3600, 5400, 7200, 9000, 10800, 12600, 14400, 16200, 18000, 19800, 21600, 23400, 25200, 27000, 28800, 30600, 32400, 34200, 36366]\n"
     ]
    }
   ],
   "source": [
    "print(n_inputs)"
   ]
  },
  {
   "cell_type": "code",
   "execution_count": 35,
   "id": "4feb0d30",
   "metadata": {},
   "outputs": [
    {
     "name": "stdout",
     "output_type": "stream",
     "text": [
      "C:\\Users\\fjdur\\Desktop\\gtsrb_graphs\\e2_graphs_dec\n"
     ]
    }
   ],
   "source": [
    "cd \"C:/Users/fjdur/Desktop/gtsrb_graphs/e2_graphs_dec/\""
   ]
  },
  {
   "cell_type": "code",
   "execution_count": 36,
   "id": "bc3a0bf7",
   "metadata": {},
   "outputs": [],
   "source": [
    "linestyles = ['solid','dotted','dashed','dashdot']\n",
    "colors =['k','k','k','k']"
   ]
  },
  {
   "cell_type": "code",
   "execution_count": 39,
   "id": "fde130ed",
   "metadata": {},
   "outputs": [
    {
     "data": {
      "image/png": "[encoded data removed]",
      "text/plain": [
       "<Figure size 432x288 with 1 Axes>"
      ]
     },
     "metadata": {
      "needs_background": "light"
     },
     "output_type": "display_data"
    },
    {
     "data": {
      "image/png": "[encoded data removed]",
      "text/plain": [
       "<Figure size 432x288 with 1 Axes>"
      ]
     },
     "metadata": {
      "needs_background": "light"
     },
     "output_type": "display_data"
    },
    {
     "data": {
      "image/png": "[encoded data removed]",
      "text/plain": [
       "<Figure size 432x288 with 1 Axes>"
      ]
     },
     "metadata": {
      "needs_background": "light"
     },
     "output_type": "display_data"
    },
    {
     "data": {
      "image/png": "[encoded data removed]",
      "text/plain": [
       "<Figure size 432x288 with 1 Axes>"
      ]
     },
     "metadata": {
      "needs_background": "light"
     },
     "output_type": "display_data"
    }
   ],
   "source": [
    "#configuration 1\n",
    "\"\"\"\n",
    "6) Incremental guided retraining starting from the original model using only the new adversarial inputs.\n",
    "Incremental training, starting with the previous trained model. Using at each iteration a subset of the new inputs.\n",
    "\"\"\"\n",
    "import matplotlib.pyplot as plt\n",
    "import matplotlib.patches as mpatches\n",
    "from matplotlib.patches import Patch\n",
    "from matplotlib.lines import Line2D\n",
    "\n",
    "#metric = \"accuracy\" # accuracy loss\n",
    "my_metrics =[\"accuracy\",\"loss\",\"precision\",\"recall\"]\n",
    "\n",
    "for metric in my_metrics:\n",
    "    plt.clf()\n",
    "    plt.plot(n_inputs,df_evaluate_lsa_0[metric],colors[0],linestyle=linestyles[0])\n",
    "    plt.plot(n_inputs,df_evaluate_dsa_0[metric],colors[1],linestyle=linestyles[1])\n",
    "    plt.plot(n_inputs,df_evaluate_random_0[metric],colors[2],linestyle=linestyles[2])\n",
    "    plt.plot(n_inputs,df_evaluate_nc_0[metric],colors[3],linestyle=linestyles[3])\n",
    "\n",
    "\n",
    "    legend_elements = [Line2D([0], [0], color='k', label='LSA',ls = linestyles[0]),\n",
    "                   Line2D([0], [0], color='k', label='DSA',ls = linestyles[1]),\n",
    "                   Line2D([0], [0], color='k', label='Random',ls = linestyles[2]),\n",
    "                   Line2D([0], [0], color='k', label='NC',ls = linestyles[3])]\n",
    "\n",
    "\n",
    "\n",
    "    plt.legend(handles=legend_elements)#\n",
    "    plt.title(metric + \" with test set of adversarial examples FGSM\")\n",
    "    plt.xlim([0, 37000])\n",
    "    #plt.ylim([0, 1])\n",
    "    plt.xlabel('number of inputs')\n",
    "    plt.ylabel(metric)\n",
    "    plt.savefig(\"gtsrb_c1_\"+metric + \"_0.svg\")\n",
    "    plt.show()"
   ]
  },
  {
   "cell_type": "code",
   "execution_count": 40,
   "id": "38563782",
   "metadata": {},
   "outputs": [
    {
     "data": {
      "image/png": "[encoded data removed]",
      "text/plain": [
       "<Figure size 432x288 with 1 Axes>"
      ]
     },
     "metadata": {
      "needs_background": "light"
     },
     "output_type": "display_data"
    },
    {
     "data": {
      "image/png": "[encoded data removed]",
      "text/plain": [
       "<Figure size 432x288 with 1 Axes>"
      ]
     },
     "metadata": {
      "needs_background": "light"
     },
     "output_type": "display_data"
    },
    {
     "data": {
      "image/png": "[encoded data removed]",
      "text/plain": [
       "<Figure size 432x288 with 1 Axes>"
      ]
     },
     "metadata": {
      "needs_background": "light"
     },
     "output_type": "display_data"
    },
    {
     "data": {
      "image/png": "[encoded data removed]",
      "text/plain": [
       "<Figure size 432x288 with 1 Axes>"
      ]
     },
     "metadata": {
      "needs_background": "light"
     },
     "output_type": "display_data"
    }
   ],
   "source": [
    "#configuration 1\n",
    "\"\"\"\n",
    "6) Incremental guided retraining starting from the original model using only the new adversarial inputs.\n",
    "Incremental training, starting with the previous trained model. Using at each iteration a subset of the new inputs.\n",
    "\"\"\"\n",
    "import matplotlib.pyplot as plt\n",
    "import matplotlib.patches as mpatches\n",
    "\n",
    "my_metrics =[\"accuracy\",\"loss\",\"precision\",\"recall\"]\n",
    "\n",
    "for metric in my_metrics:\n",
    "    \n",
    "#metric = \"accuracy\" # accuracy loss\n",
    "    plt.clf()\n",
    "    plt.plot(n_inputs,df_evaluate_lsa_1[metric],colors[0],linestyle=linestyles[0])\n",
    "    plt.plot(n_inputs,df_evaluate_dsa_1[metric],colors[1],linestyle=linestyles[1])\n",
    "    plt.plot(n_inputs,df_evaluate_random_1[metric],colors[2],linestyle=linestyles[2])\n",
    "    plt.plot(n_inputs,df_evaluate_nc_1[metric],colors[3],linestyle=linestyles[3])\n",
    "\n",
    "    legend_elements = [Line2D([0], [0], color='k', label='LSA',ls = linestyles[0]),\n",
    "                   Line2D([0], [0], color='k', label='DSA',ls = linestyles[1]),\n",
    "                   Line2D([0], [0], color='k', label='Random',ls = linestyles[2]),\n",
    "                   Line2D([0], [0], color='k', label='NC',ls = linestyles[3])]\n",
    "\n",
    "\n",
    "\n",
    "    plt.legend(handles=legend_elements)#\n",
    "    plt.title(metric + \" with original set\")\n",
    "    plt.xlim([0, 37000])\n",
    "    #plt.ylim([0, 1])\n",
    "    plt.xlabel('number of inputs')\n",
    "    plt.ylabel(metric)\n",
    "    plt.savefig(\"gtsrb_c1_\"+metric + \"_1.svg\")\n",
    "    plt.show()"
   ]
  },
  {
   "cell_type": "code",
   "execution_count": 41,
   "id": "884a1d99",
   "metadata": {},
   "outputs": [
    {
     "name": "stdout",
     "output_type": "stream",
     "text": [
      "36366 0.9668620824813843\n",
      "36366 0.9653326570987701\n",
      "27000 0.966352254152298\n",
      "36366 0.9629110395908356\n"
     ]
    },
    {
     "data": {
      "image/png": "[encoded data removed]",
      "text/plain": [
       "<Figure size 432x288 with 1 Axes>"
      ]
     },
     "metadata": {
      "needs_background": "light"
     },
     "output_type": "display_data"
    }
   ],
   "source": [
    "#adversarial jsma test set\n",
    "#configuration 3\n",
    "\"\"\"\n",
    "6) Incremental guided retraining starting from the original model using only the new adversarial inputs.\n",
    "Incremental training, starting with the previous trained model. Using at each iteration a subset of the new inputs.\n",
    "\"\"\"\n",
    "import matplotlib.pyplot as plt\n",
    "import matplotlib.patches as mpatches\n",
    "\n",
    "plt.plot(n_inputs,accuracy_lsa_3,colors[0],linestyle=linestyles[0])\n",
    "plt.plot(n_inputs,accuracy_dsa_3,colors[1],linestyle=linestyles[1])\n",
    "plt.plot(n_inputs,accuracy_random_3,colors[2],linestyle=linestyles[2])\n",
    "plt.plot(n_inputs,accuracy_nc_3,colors[3],linestyle=linestyles[3])\n",
    "\n",
    "\n",
    "legend_elements = [Line2D([0], [0], color='k', label='LSA',ls = linestyles[0]),\n",
    "                   Line2D([0], [0], color='k', label='DSA',ls = linestyles[1]),\n",
    "                   Line2D([0], [0], color='k', label='Random',ls = linestyles[2]),\n",
    "                   Line2D([0], [0], color='k', label='NC',ls = linestyles[3])]\n",
    "\n",
    "\n",
    "\n",
    "plt.legend(handles=legend_elements)#\n",
    "plt.title(\"accuracy with both sets\")\n",
    "\n",
    "print(n_inputs[np.argmax(accuracy_lsa_3)],accuracy_lsa_3.max())\n",
    "print(n_inputs[np.argmax(accuracy_dsa_3)],accuracy_dsa_3.max())\n",
    "print(n_inputs[np.argmax(accuracy_random_3)],accuracy_random_3.max())\n",
    "print(n_inputs[np.argmax(accuracy_nc_3)],accuracy_nc_3.max())\n",
    "\n",
    "plt.plot(n_inputs[np.argmax(accuracy_lsa_3)],accuracy_lsa_3.max(),'-kD')\n",
    "plt.plot(n_inputs[np.argmax(accuracy_dsa_3)],accuracy_dsa_3.max(),'-ko')\n",
    "plt.plot(n_inputs[np.argmax(accuracy_random_3)],accuracy_random_3.max(),'-kv')\n",
    "plt.plot(n_inputs[np.argmax(accuracy_nc_3)],accuracy_nc_3.max(),'-kp')\n",
    "\n",
    "plt.xlabel('number of inputs')\n",
    "plt.ylabel('accuracy')\n",
    "plt.xlim([0, 37000])\n",
    "#plt.ylim([0, 1])\n",
    "\n",
    "plt.savefig(\"gtsrb_c1_\"+\"accuracy\" + \"_both.svg\")\n",
    "\n",
    "plt.show()"
   ]
  },
  {
   "cell_type": "markdown",
   "id": "02c81771",
   "metadata": {},
   "source": [
    "## Saving models"
   ]
  },
  {
   "cell_type": "code",
   "execution_count": 16,
   "id": "ef05a059",
   "metadata": {},
   "outputs": [
    {
     "name": "stdout",
     "output_type": "stream",
     "text": [
      "INFO:tensorflow:Assets written to: D:/models/gtsrb_models/C1/gtsrb_model_c1_sep_lsa_e2_0\\assets\n",
      "Model has been saved\n",
      "INFO:tensorflow:Assets written to: D:/models/gtsrb_models/C1/gtsrb_model_c1_sep_lsa_e2_1\\assets\n",
      "Model has been saved\n",
      "INFO:tensorflow:Assets written to: D:/models/gtsrb_models/C1/gtsrb_model_c1_sep_lsa_e2_2\\assets\n",
      "Model has been saved\n",
      "INFO:tensorflow:Assets written to: D:/models/gtsrb_models/C1/gtsrb_model_c1_sep_lsa_e2_3\\assets\n",
      "Model has been saved\n",
      "INFO:tensorflow:Assets written to: D:/models/gtsrb_models/C1/gtsrb_model_c1_sep_lsa_e2_4\\assets\n",
      "Model has been saved\n",
      "INFO:tensorflow:Assets written to: D:/models/gtsrb_models/C1/gtsrb_model_c1_sep_lsa_e2_5\\assets\n",
      "Model has been saved\n",
      "INFO:tensorflow:Assets written to: D:/models/gtsrb_models/C1/gtsrb_model_c1_sep_lsa_e2_6\\assets\n",
      "Model has been saved\n",
      "INFO:tensorflow:Assets written to: D:/models/gtsrb_models/C1/gtsrb_model_c1_sep_lsa_e2_7\\assets\n",
      "Model has been saved\n",
      "INFO:tensorflow:Assets written to: D:/models/gtsrb_models/C1/gtsrb_model_c1_sep_lsa_e2_8\\assets\n",
      "Model has been saved\n",
      "INFO:tensorflow:Assets written to: D:/models/gtsrb_models/C1/gtsrb_model_c1_sep_lsa_e2_9\\assets\n",
      "Model has been saved\n",
      "INFO:tensorflow:Assets written to: D:/models/gtsrb_models/C1/gtsrb_model_c1_sep_lsa_e2_10\\assets\n",
      "Model has been saved\n",
      "INFO:tensorflow:Assets written to: D:/models/gtsrb_models/C1/gtsrb_model_c1_sep_lsa_e2_11\\assets\n",
      "Model has been saved\n",
      "INFO:tensorflow:Assets written to: D:/models/gtsrb_models/C1/gtsrb_model_c1_sep_lsa_e2_12\\assets\n",
      "Model has been saved\n",
      "INFO:tensorflow:Assets written to: D:/models/gtsrb_models/C1/gtsrb_model_c1_sep_lsa_e2_13\\assets\n",
      "Model has been saved\n",
      "INFO:tensorflow:Assets written to: D:/models/gtsrb_models/C1/gtsrb_model_c1_sep_lsa_e2_14\\assets\n",
      "Model has been saved\n",
      "INFO:tensorflow:Assets written to: D:/models/gtsrb_models/C1/gtsrb_model_c1_sep_lsa_e2_15\\assets\n",
      "Model has been saved\n",
      "INFO:tensorflow:Assets written to: D:/models/gtsrb_models/C1/gtsrb_model_c1_sep_lsa_e2_16\\assets\n",
      "Model has been saved\n",
      "INFO:tensorflow:Assets written to: D:/models/gtsrb_models/C1/gtsrb_model_c1_sep_lsa_e2_17\\assets\n",
      "Model has been saved\n",
      "INFO:tensorflow:Assets written to: D:/models/gtsrb_models/C1/gtsrb_model_c1_sep_lsa_e2_18\\assets\n",
      "Model has been saved\n",
      "INFO:tensorflow:Assets written to: D:/models/gtsrb_models/C1/gtsrb_model_c1_sep_lsa_e2_19\\assets\n",
      "Model has been saved\n"
     ]
    }
   ],
   "source": [
    "new_model_lsa_dir  = \"D:/models/gtsrb_models/C1/gtsrb_model_c1_sep_lsa_e2\"\n",
    "i=0\n",
    "\n",
    "for model in models_lsa:\n",
    "    model.save(new_model_lsa_dir+\"_\"+str(i))\n",
    "    i+=1"
   ]
  },
  {
   "cell_type": "code",
   "execution_count": 17,
   "id": "6464778f",
   "metadata": {},
   "outputs": [
    {
     "name": "stdout",
     "output_type": "stream",
     "text": [
      "INFO:tensorflow:Assets written to: D:/models/gtsrb_models/C1/gtsrb_model_c1_sep_dsa_e2_0\\assets\n",
      "Model has been saved\n",
      "INFO:tensorflow:Assets written to: D:/models/gtsrb_models/C1/gtsrb_model_c1_sep_dsa_e2_1\\assets\n",
      "Model has been saved\n",
      "INFO:tensorflow:Assets written to: D:/models/gtsrb_models/C1/gtsrb_model_c1_sep_dsa_e2_2\\assets\n",
      "Model has been saved\n",
      "INFO:tensorflow:Assets written to: D:/models/gtsrb_models/C1/gtsrb_model_c1_sep_dsa_e2_3\\assets\n",
      "Model has been saved\n",
      "INFO:tensorflow:Assets written to: D:/models/gtsrb_models/C1/gtsrb_model_c1_sep_dsa_e2_4\\assets\n",
      "Model has been saved\n",
      "INFO:tensorflow:Assets written to: D:/models/gtsrb_models/C1/gtsrb_model_c1_sep_dsa_e2_5\\assets\n",
      "Model has been saved\n",
      "INFO:tensorflow:Assets written to: D:/models/gtsrb_models/C1/gtsrb_model_c1_sep_dsa_e2_6\\assets\n",
      "Model has been saved\n",
      "INFO:tensorflow:Assets written to: D:/models/gtsrb_models/C1/gtsrb_model_c1_sep_dsa_e2_7\\assets\n",
      "Model has been saved\n",
      "INFO:tensorflow:Assets written to: D:/models/gtsrb_models/C1/gtsrb_model_c1_sep_dsa_e2_8\\assets\n",
      "Model has been saved\n",
      "INFO:tensorflow:Assets written to: D:/models/gtsrb_models/C1/gtsrb_model_c1_sep_dsa_e2_9\\assets\n",
      "Model has been saved\n",
      "INFO:tensorflow:Assets written to: D:/models/gtsrb_models/C1/gtsrb_model_c1_sep_dsa_e2_10\\assets\n",
      "Model has been saved\n",
      "INFO:tensorflow:Assets written to: D:/models/gtsrb_models/C1/gtsrb_model_c1_sep_dsa_e2_11\\assets\n",
      "Model has been saved\n",
      "INFO:tensorflow:Assets written to: D:/models/gtsrb_models/C1/gtsrb_model_c1_sep_dsa_e2_12\\assets\n",
      "Model has been saved\n",
      "INFO:tensorflow:Assets written to: D:/models/gtsrb_models/C1/gtsrb_model_c1_sep_dsa_e2_13\\assets\n",
      "Model has been saved\n",
      "INFO:tensorflow:Assets written to: D:/models/gtsrb_models/C1/gtsrb_model_c1_sep_dsa_e2_14\\assets\n",
      "Model has been saved\n",
      "INFO:tensorflow:Assets written to: D:/models/gtsrb_models/C1/gtsrb_model_c1_sep_dsa_e2_15\\assets\n",
      "Model has been saved\n",
      "INFO:tensorflow:Assets written to: D:/models/gtsrb_models/C1/gtsrb_model_c1_sep_dsa_e2_16\\assets\n",
      "Model has been saved\n",
      "INFO:tensorflow:Assets written to: D:/models/gtsrb_models/C1/gtsrb_model_c1_sep_dsa_e2_17\\assets\n",
      "Model has been saved\n",
      "INFO:tensorflow:Assets written to: D:/models/gtsrb_models/C1/gtsrb_model_c1_sep_dsa_e2_18\\assets\n",
      "Model has been saved\n",
      "INFO:tensorflow:Assets written to: D:/models/gtsrb_models/C1/gtsrb_model_c1_sep_dsa_e2_19\\assets\n",
      "Model has been saved\n"
     ]
    }
   ],
   "source": [
    "new_model_dsa_dir  = \"D:/models/gtsrb_models/C1/gtsrb_model_c1_sep_dsa_e2\"\n",
    "\n",
    "i=0\n",
    "for model in models_dsa:\n",
    "    model.save(new_model_dsa_dir+\"_\"+str(i))\n",
    "    i+=1"
   ]
  },
  {
   "cell_type": "code",
   "execution_count": 18,
   "id": "f6406565",
   "metadata": {},
   "outputs": [
    {
     "name": "stdout",
     "output_type": "stream",
     "text": [
      "INFO:tensorflow:Assets written to: D:/models/gtsrb_models/C1/gtsrb_model_c1_sep_random_e2_0\\assets\n",
      "Model has been saved\n",
      "INFO:tensorflow:Assets written to: D:/models/gtsrb_models/C1/gtsrb_model_c1_sep_random_e2_1\\assets\n",
      "Model has been saved\n",
      "INFO:tensorflow:Assets written to: D:/models/gtsrb_models/C1/gtsrb_model_c1_sep_random_e2_2\\assets\n",
      "Model has been saved\n",
      "INFO:tensorflow:Assets written to: D:/models/gtsrb_models/C1/gtsrb_model_c1_sep_random_e2_3\\assets\n",
      "Model has been saved\n",
      "INFO:tensorflow:Assets written to: D:/models/gtsrb_models/C1/gtsrb_model_c1_sep_random_e2_4\\assets\n",
      "Model has been saved\n",
      "INFO:tensorflow:Assets written to: D:/models/gtsrb_models/C1/gtsrb_model_c1_sep_random_e2_5\\assets\n",
      "Model has been saved\n",
      "INFO:tensorflow:Assets written to: D:/models/gtsrb_models/C1/gtsrb_model_c1_sep_random_e2_6\\assets\n",
      "Model has been saved\n",
      "INFO:tensorflow:Assets written to: D:/models/gtsrb_models/C1/gtsrb_model_c1_sep_random_e2_7\\assets\n",
      "Model has been saved\n",
      "INFO:tensorflow:Assets written to: D:/models/gtsrb_models/C1/gtsrb_model_c1_sep_random_e2_8\\assets\n",
      "Model has been saved\n",
      "INFO:tensorflow:Assets written to: D:/models/gtsrb_models/C1/gtsrb_model_c1_sep_random_e2_9\\assets\n",
      "Model has been saved\n",
      "INFO:tensorflow:Assets written to: D:/models/gtsrb_models/C1/gtsrb_model_c1_sep_random_e2_10\\assets\n",
      "Model has been saved\n",
      "INFO:tensorflow:Assets written to: D:/models/gtsrb_models/C1/gtsrb_model_c1_sep_random_e2_11\\assets\n",
      "Model has been saved\n",
      "INFO:tensorflow:Assets written to: D:/models/gtsrb_models/C1/gtsrb_model_c1_sep_random_e2_12\\assets\n",
      "Model has been saved\n",
      "INFO:tensorflow:Assets written to: D:/models/gtsrb_models/C1/gtsrb_model_c1_sep_random_e2_13\\assets\n",
      "Model has been saved\n",
      "INFO:tensorflow:Assets written to: D:/models/gtsrb_models/C1/gtsrb_model_c1_sep_random_e2_14\\assets\n",
      "Model has been saved\n",
      "INFO:tensorflow:Assets written to: D:/models/gtsrb_models/C1/gtsrb_model_c1_sep_random_e2_15\\assets\n",
      "Model has been saved\n",
      "INFO:tensorflow:Assets written to: D:/models/gtsrb_models/C1/gtsrb_model_c1_sep_random_e2_16\\assets\n",
      "Model has been saved\n",
      "INFO:tensorflow:Assets written to: D:/models/gtsrb_models/C1/gtsrb_model_c1_sep_random_e2_17\\assets\n",
      "Model has been saved\n",
      "INFO:tensorflow:Assets written to: D:/models/gtsrb_models/C1/gtsrb_model_c1_sep_random_e2_18\\assets\n",
      "Model has been saved\n",
      "INFO:tensorflow:Assets written to: D:/models/gtsrb_models/C1/gtsrb_model_c1_sep_random_e2_19\\assets\n",
      "Model has been saved\n"
     ]
    }
   ],
   "source": [
    "new_model_random_dir  = \"D:/models/gtsrb_models/C1/gtsrb_model_c1_sep_random_e2\"\n",
    "\n",
    "i=0\n",
    "for model in models_random:\n",
    "    model.save(new_model_random_dir+\"_\"+str(i))\n",
    "    i+=1"
   ]
  },
  {
   "cell_type": "code",
   "execution_count": 19,
   "id": "2c03ee7e",
   "metadata": {},
   "outputs": [
    {
     "name": "stdout",
     "output_type": "stream",
     "text": [
      "INFO:tensorflow:Assets written to: D:/models/gtsrb_models/C1/gtsrb_model_c1_sep_nc_e2_0\\assets\n",
      "Model has been saved\n",
      "INFO:tensorflow:Assets written to: D:/models/gtsrb_models/C1/gtsrb_model_c1_sep_nc_e2_1\\assets\n",
      "Model has been saved\n",
      "INFO:tensorflow:Assets written to: D:/models/gtsrb_models/C1/gtsrb_model_c1_sep_nc_e2_2\\assets\n",
      "Model has been saved\n",
      "INFO:tensorflow:Assets written to: D:/models/gtsrb_models/C1/gtsrb_model_c1_sep_nc_e2_3\\assets\n",
      "Model has been saved\n",
      "INFO:tensorflow:Assets written to: D:/models/gtsrb_models/C1/gtsrb_model_c1_sep_nc_e2_4\\assets\n",
      "Model has been saved\n",
      "INFO:tensorflow:Assets written to: D:/models/gtsrb_models/C1/gtsrb_model_c1_sep_nc_e2_5\\assets\n",
      "Model has been saved\n",
      "INFO:tensorflow:Assets written to: D:/models/gtsrb_models/C1/gtsrb_model_c1_sep_nc_e2_6\\assets\n",
      "Model has been saved\n",
      "INFO:tensorflow:Assets written to: D:/models/gtsrb_models/C1/gtsrb_model_c1_sep_nc_e2_7\\assets\n",
      "Model has been saved\n",
      "INFO:tensorflow:Assets written to: D:/models/gtsrb_models/C1/gtsrb_model_c1_sep_nc_e2_8\\assets\n",
      "Model has been saved\n",
      "INFO:tensorflow:Assets written to: D:/models/gtsrb_models/C1/gtsrb_model_c1_sep_nc_e2_9\\assets\n",
      "Model has been saved\n",
      "INFO:tensorflow:Assets written to: D:/models/gtsrb_models/C1/gtsrb_model_c1_sep_nc_e2_10\\assets\n",
      "Model has been saved\n",
      "INFO:tensorflow:Assets written to: D:/models/gtsrb_models/C1/gtsrb_model_c1_sep_nc_e2_11\\assets\n",
      "Model has been saved\n",
      "INFO:tensorflow:Assets written to: D:/models/gtsrb_models/C1/gtsrb_model_c1_sep_nc_e2_12\\assets\n",
      "Model has been saved\n",
      "INFO:tensorflow:Assets written to: D:/models/gtsrb_models/C1/gtsrb_model_c1_sep_nc_e2_13\\assets\n",
      "Model has been saved\n",
      "INFO:tensorflow:Assets written to: D:/models/gtsrb_models/C1/gtsrb_model_c1_sep_nc_e2_14\\assets\n",
      "Model has been saved\n",
      "INFO:tensorflow:Assets written to: D:/models/gtsrb_models/C1/gtsrb_model_c1_sep_nc_e2_15\\assets\n",
      "Model has been saved\n",
      "INFO:tensorflow:Assets written to: D:/models/gtsrb_models/C1/gtsrb_model_c1_sep_nc_e2_16\\assets\n",
      "Model has been saved\n",
      "INFO:tensorflow:Assets written to: D:/models/gtsrb_models/C1/gtsrb_model_c1_sep_nc_e2_17\\assets\n",
      "Model has been saved\n",
      "INFO:tensorflow:Assets written to: D:/models/gtsrb_models/C1/gtsrb_model_c1_sep_nc_e2_18\\assets\n",
      "Model has been saved\n",
      "INFO:tensorflow:Assets written to: D:/models/gtsrb_models/C1/gtsrb_model_c1_sep_nc_e2_19\\assets\n",
      "Model has been saved\n"
     ]
    }
   ],
   "source": [
    "new_model_nc_dir  = \"D:/models/gtsrb_models/C1/gtsrb_model_c1_sep_nc_e2\"\n",
    "\n",
    "i=0\n",
    "for model in models_nc:\n",
    "    model.save(new_model_nc_dir+\"_\"+str(i))\n",
    "    i+=1"
   ]
  }
 ],
 "metadata": {
  "kernelspec": {
   "display_name": "Python 3",
   "language": "python",
   "name": "python3"
  },
  "language_info": {
   "codemirror_mode": {
    "name": "ipython",
    "version": 3
   },
   "file_extension": ".py",
   "mimetype": "text/x-python",
   "name": "python",
   "nbconvert_exporter": "python",
   "pygments_lexer": "ipython3",
   "version": "3.8.8"
  }
 },
 "nbformat": 4,
 "nbformat_minor": 5
}
