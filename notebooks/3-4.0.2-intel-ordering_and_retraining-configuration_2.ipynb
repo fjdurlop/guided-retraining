{
 "cells": [
  {
   "cell_type": "markdown",
   "id": "4df6b8cb",
   "metadata": {},
   "source": [
    "# Ordering by metrics and retraining phase\n",
    "\n",
    "## Dataset: Intel"
   ]
  },
  {
   "cell_type": "markdown",
   "id": "28d04bdf",
   "metadata": {},
   "source": [
    "## Configuration 2\n",
    "\t2. Incremental guided retraining starting from the original model using the new adversarial inputs and original training set.\n",
    "    "
   ]
  },
  {
   "cell_type": "code",
   "execution_count": null,
   "id": "90383afd",
   "metadata": {},
   "outputs": [],
   "source": [
    "pip install --user tensorflow==2.5"
   ]
  },
  {
   "cell_type": "code",
   "execution_count": 1,
   "id": "ce1386e9",
   "metadata": {},
   "outputs": [],
   "source": [
    "import argparse\n",
    "\n",
    "import numpy as np\n",
    "import tensorflow as tf\n",
    "import keras.backend as K\n",
    "\n",
    "import matplotlib.pyplot as plt\n",
    "\n",
    "\n",
    "from keras.utils import np_utils\n",
    "from keras.models import Sequential\n",
    "from keras.layers import Dense, Dropout, Activation, Flatten, Conv2D, MaxPooling2D\n",
    "from keras.regularizers import l2\n",
    "\n",
    "import glob\n",
    "import os\n",
    "import cv2\n",
    "import keras\n",
    "\n",
    "\n",
    "import time\n",
    "import argparse\n",
    "\n",
    "from tqdm import tqdm\n",
    "\n",
    "from keras.models import load_model, Model\n"
   ]
  },
  {
   "cell_type": "code",
   "execution_count": null,
   "id": "1d603f9e",
   "metadata": {},
   "outputs": [],
   "source": [
    "cd '../utils'"
   ]
  },
  {
   "cell_type": "code",
   "execution_count": 2,
   "id": "723735cb",
   "metadata": {},
   "outputs": [],
   "source": [
    "# utils for project\n",
    "import utils_guided_retraining as utils"
   ]
  },
  {
   "cell_type": "code",
   "execution_count": null,
   "id": "3300bc54",
   "metadata": {},
   "outputs": [],
   "source": [
    "cd '../notebooks/'"
   ]
  },
  {
   "cell_type": "code",
   "execution_count": 3,
   "id": "50c2b3f3",
   "metadata": {},
   "outputs": [],
   "source": [
    "x_train,y_train = utils.get_data(\"intel\",\"Train\")\n",
    "x_val,y_val = utils.get_data(\"intel\",\"Val\")\n",
    "x_test,y_test = utils.get_data(\"intel\",\"Test\")"
   ]
  },
  {
   "cell_type": "code",
   "execution_count": 4,
   "id": "e6f6f8a7",
   "metadata": {},
   "outputs": [],
   "source": [
    "x_train_and_adversary,y_train_and_adversary = utils.get_data(\"intel\",\"Train_and_adversary\")"
   ]
  },
  {
   "cell_type": "code",
   "execution_count": 5,
   "id": "53dcdf78",
   "metadata": {},
   "outputs": [
    {
     "name": "stdout",
     "output_type": "stream",
     "text": [
      "3000\n",
      "3000\n"
     ]
    }
   ],
   "source": [
    "x_adversary_training = x_train_and_adversary[len(x_train):]\n",
    "print(len(x_adversary_training))\n",
    "y_adversary_training = y_train_and_adversary[len(y_train):]\n",
    "\n",
    "print(len(y_adversary_training))"
   ]
  },
  {
   "cell_type": "code",
   "execution_count": 6,
   "id": "d8fd2c92",
   "metadata": {},
   "outputs": [],
   "source": [
    "# Obtaining adversarial examples for testing \n",
    "x_test_and_adversary,y_test_and_adversary = utils.get_adversarial_data(\"intel\",'Test_fgsm') "
   ]
  },
  {
   "cell_type": "code",
   "execution_count": 7,
   "id": "c27698e5",
   "metadata": {},
   "outputs": [
    {
     "name": "stdout",
     "output_type": "stream",
     "text": [
      "3000\n",
      "3000\n"
     ]
    }
   ],
   "source": [
    "x_adversary_test_fgsm = x_test_and_adversary[len(x_test):]\n",
    "print(len(x_adversary_test_fgsm))\n",
    "y_adversary_test_fgsm = y_test_and_adversary[len(y_test):]\n",
    "\n",
    "print(len(y_adversary_test_fgsm))"
   ]
  },
  {
   "cell_type": "markdown",
   "id": "becb4e3b",
   "metadata": {},
   "source": [
    "## ----"
   ]
  },
  {
   "cell_type": "code",
   "execution_count": 8,
   "id": "c1560941",
   "metadata": {},
   "outputs": [],
   "source": [
    "# Original model \n",
    "model_dir = \"C:/Users/fjdur/Desktop/upc/project_notebooks/github_project/DL_notebooks/models/intel_model_21_10/\"\n"
   ]
  },
  {
   "cell_type": "code",
   "execution_count": 9,
   "id": "e5478616",
   "metadata": {},
   "outputs": [
    {
     "name": "stdout",
     "output_type": "stream",
     "text": [
      "Model loaded correctly\n"
     ]
    }
   ],
   "source": [
    "model_original = utils.My_model(\"intel\",True, model_dir)"
   ]
  },
  {
   "cell_type": "code",
   "execution_count": 11,
   "id": "1137efd4",
   "metadata": {},
   "outputs": [
    {
     "name": "stdout",
     "output_type": "stream",
     "text": [
      "94/94 [==============================] - 12s 22ms/step - loss: 0.5392 - accuracy: 0.8037\n"
     ]
    },
    {
     "data": {
      "text/plain": [
       "[0.5391883850097656, 0.8036666512489319]"
      ]
     },
     "execution_count": 11,
     "metadata": {},
     "output_type": "execute_result"
    }
   ],
   "source": [
    "model_original.evaluate(x_test,y_test)"
   ]
  },
  {
   "cell_type": "code",
   "execution_count": 13,
   "id": "397de2cb",
   "metadata": {},
   "outputs": [
    {
     "name": "stdout",
     "output_type": "stream",
     "text": [
      "94/94 [==============================] - 2s 23ms/step - loss: 3.1384 - accuracy: 0.1497\n"
     ]
    },
    {
     "data": {
      "text/plain": [
       "[3.138401746749878, 0.1496666669845581]"
      ]
     },
     "execution_count": 13,
     "metadata": {},
     "output_type": "execute_result"
    }
   ],
   "source": [
    "model_original.evaluate(x_adversary_test_fgsm,y_adversary_test_fgsm)"
   ]
  },
  {
   "cell_type": "code",
   "execution_count": null,
   "id": "62216ff6",
   "metadata": {},
   "outputs": [],
   "source": [
    "model_original.evaluate(x_adversary_test_fgsm,y_adversary_test_fgsm)"
   ]
  },
  {
   "cell_type": "markdown",
   "id": "78edd1c7",
   "metadata": {},
   "source": [
    "## Obtaining new LSA and DSA values "
   ]
  },
  {
   "cell_type": "code",
   "execution_count": 10,
   "id": "dd62896d",
   "metadata": {},
   "outputs": [],
   "source": [
    "save_dir_lsa = \"C:/Users/fjdur/Desktop/upc/project_notebooks/github_project/DL_notebooks/SA_values/intel_lsa_values_2.npy\"\n",
    "\n",
    "\n",
    "save_dir_dsa = \"C:/Users/fjdur/Desktop/upc/project_notebooks/github_project/DL_notebooks/SA_values/intel_dsa_values_2.npy\"\n",
    "\n",
    "target_lsa = np.load(save_dir_lsa)\n",
    "target_dsa = np.load(save_dir_dsa)"
   ]
  },
  {
   "cell_type": "code",
   "execution_count": 11,
   "id": "cbe684c7",
   "metadata": {},
   "outputs": [],
   "source": [
    "lsa_values = target_lsa\n",
    "dsa_values = target_dsa"
   ]
  },
  {
   "cell_type": "code",
   "execution_count": 12,
   "id": "c0ec186e",
   "metadata": {},
   "outputs": [],
   "source": [
    "\n",
    "# Obtaining top n images by LSA values\n",
    "top_images_by_lsa = utils.get_x_of_indexes(list(np.flip(np.argsort(lsa_values))),x_train_and_adversary)\n",
    "top_labels_by_lsa = utils.get_x_of_indexes(list(np.flip(np.argsort(lsa_values))),y_train_and_adversary)\n"
   ]
  },
  {
   "cell_type": "code",
   "execution_count": 13,
   "id": "4a3451bf",
   "metadata": {},
   "outputs": [],
   "source": [
    "\n",
    "top_images_by_dsa = utils.get_x_of_indexes(list(np.flip(np.argsort(dsa_values))),x_train_and_adversary)\n",
    "top_labels_by_dsa = utils.get_x_of_indexes(list(np.flip(np.argsort(dsa_values))),y_train_and_adversary)\n"
   ]
  },
  {
   "cell_type": "code",
   "execution_count": 14,
   "id": "4b1edf1f",
   "metadata": {},
   "outputs": [
    {
     "data": {
      "text/plain": [
       "711"
      ]
     },
     "execution_count": 14,
     "metadata": {},
     "output_type": "execute_result"
    }
   ],
   "source": [
    "len(top_images_by_lsa)//20"
   ]
  },
  {
   "cell_type": "code",
   "execution_count": 15,
   "id": "20f5648d",
   "metadata": {},
   "outputs": [],
   "source": [
    "top_images_by_lsa_5000 = np.array(top_images_by_lsa[:5000])\n",
    "top_labels_by_lsa_5000 = np.array(top_labels_by_lsa[:5000])\n",
    "\n"
   ]
  },
  {
   "cell_type": "code",
   "execution_count": 112,
   "id": "3bc51573",
   "metadata": {},
   "outputs": [
    {
     "name": "stdout",
     "output_type": "stream",
     "text": [
      "0 :\n",
      "0  ->  700\n",
      "700\n",
      "1 :\n",
      "0  ->  1400\n",
      "1400\n",
      "2 :\n",
      "0  ->  2100\n",
      "2100\n",
      "3 :\n",
      "0  ->  2800\n",
      "2800\n",
      "4 :\n",
      "0  ->  3500\n",
      "3500\n",
      "5 :\n",
      "0  ->  4200\n",
      "4200\n",
      "6 :\n",
      "0  ->  4900\n",
      "4900\n",
      "7 :\n",
      "0  ->  5600\n",
      "5600\n",
      "8 :\n",
      "0  ->  6300\n",
      "6300\n",
      "9 :\n",
      "0  ->  7000\n",
      "7000\n",
      "10 :\n",
      "0  ->  7700\n",
      "7700\n",
      "11 :\n",
      "0  ->  8400\n",
      "8400\n",
      "12 :\n",
      "0  ->  9100\n",
      "9100\n",
      "13 :\n",
      "0  ->  9800\n",
      "9800\n",
      "14 :\n",
      "0  ->  10500\n",
      "10500\n",
      "15 :\n",
      "0  ->  11200\n",
      "11200\n",
      "16 :\n",
      "0  ->  11900\n",
      "11900\n",
      "17 :\n",
      "0  ->  12600\n",
      "12600\n",
      "18 :\n",
      "0  ->  13300\n",
      "13300\n",
      "19 :\n",
      "Last\n",
      "0  ->  14224\n",
      "14224\n"
     ]
    }
   ],
   "source": [
    "m = 700\n",
    "n = 0\n",
    "image_sets_lsa = []\n",
    "label_sets_lsa = []\n",
    "\n",
    "\n",
    "for i in range(len(top_images_by_lsa)//m):\n",
    "    print(i,\":\")\n",
    "    if (i+1 >= len(top_images_by_lsa)//m):\n",
    "        print(\"Last\")\n",
    "        print(0,\" -> \",n+m+(len(top_images_by_lsa)%m))\n",
    "        top_images_by_lsa_n = np.array(top_images_by_lsa[:n+m+(len(top_images_by_lsa)%m)])\n",
    "        top_labels_by_lsa_n = np.array(top_labels_by_lsa[:n+m+(len(top_images_by_lsa)%m)])\n",
    "    else:\n",
    "        print(0,\" -> \",m+n)\n",
    "        top_images_by_lsa_n = np.array(top_images_by_lsa[:n+m])\n",
    "        top_labels_by_lsa_n = np.array(top_labels_by_lsa[:n+m])\n",
    "    image_sets_lsa.append(top_images_by_lsa_n)\n",
    "    label_sets_lsa.append(top_labels_by_lsa_n)\n",
    "    print(len(top_images_by_lsa_n))\n",
    "    n += m\n",
    "\n"
   ]
  },
  {
   "cell_type": "markdown",
   "id": "ed06a68e",
   "metadata": {},
   "source": [
    "## Training guided by LSA"
   ]
  },
  {
   "cell_type": "code",
   "execution_count": 17,
   "id": "f746e05f",
   "metadata": {},
   "outputs": [],
   "source": [
    "dataset = 'intel'"
   ]
  },
  {
   "cell_type": "code",
   "execution_count": 18,
   "id": "e29685ed",
   "metadata": {},
   "outputs": [
    {
     "name": "stdout",
     "output_type": "stream",
     "text": [
      "Model loaded correctly\n",
      "Model compiled\n"
     ]
    }
   ],
   "source": [
    "model_lsa_5000 =  utils.My_model(dataset,True,model_dir)\n",
    "model_lsa_5000.compile_model()"
   ]
  },
  {
   "cell_type": "code",
   "execution_count": 19,
   "id": "532c3a68",
   "metadata": {},
   "outputs": [
    {
     "name": "stdout",
     "output_type": "stream",
     "text": [
      "Epoch 1/10\n",
      "79/79 [==============================] - 29s 176ms/step - loss: 1.1935 - accuracy: 0.5353 - val_loss: 0.8302 - val_accuracy: 0.6701\n",
      "Epoch 2/10\n",
      "79/79 [==============================] - 13s 169ms/step - loss: 0.9267 - accuracy: 0.6339 - val_loss: 1.0896 - val_accuracy: 0.5899\n",
      "Epoch 3/10\n",
      "79/79 [==============================] - 14s 172ms/step - loss: 0.8681 - accuracy: 0.6547 - val_loss: 1.0818 - val_accuracy: 0.5913\n",
      "Epoch 4/10\n",
      "79/79 [==============================] - 13s 171ms/step - loss: 0.8098 - accuracy: 0.6864 - val_loss: 0.9624 - val_accuracy: 0.6316\n",
      "Epoch 5/10\n",
      "79/79 [==============================] - 13s 170ms/step - loss: 0.8086 - accuracy: 0.6873 - val_loss: 1.4199 - val_accuracy: 0.4583\n",
      "Epoch 6/10\n",
      "79/79 [==============================] - 13s 169ms/step - loss: 0.7126 - accuracy: 0.7243 - val_loss: 1.0978 - val_accuracy: 0.6031\n",
      "Epoch 7/10\n",
      "79/79 [==============================] - 13s 167ms/step - loss: 0.6787 - accuracy: 0.7435 - val_loss: 0.9577 - val_accuracy: 0.6337\n",
      "Epoch 8/10\n",
      "79/79 [==============================] - 13s 167ms/step - loss: 0.6863 - accuracy: 0.7380 - val_loss: 1.0050 - val_accuracy: 0.6123\n",
      "Epoch 9/10\n",
      "79/79 [==============================] - 14s 173ms/step - loss: 0.6714 - accuracy: 0.7454 - val_loss: 0.9199 - val_accuracy: 0.6227\n",
      "Epoch 10/10\n",
      "79/79 [==============================] - 13s 169ms/step - loss: 0.5977 - accuracy: 0.7755 - val_loss: 1.0140 - val_accuracy: 0.5920\n",
      "Duration: 0:02:30.110022\n"
     ]
    },
    {
     "data": {
      "text/plain": [
       "<keras.callbacks.History at 0x2a71b9f95e0>"
      ]
     },
     "execution_count": 19,
     "metadata": {},
     "output_type": "execute_result"
    }
   ],
   "source": [
    "model_lsa_5000.fit_model(top_images_by_lsa_5000,top_labels_by_lsa_5000,x_val,y_val)"
   ]
  },
  {
   "cell_type": "code",
   "execution_count": 108,
   "id": "c25b1199",
   "metadata": {},
   "outputs": [
    {
     "name": "stdout",
     "output_type": "stream",
     "text": [
      "0\n",
      "Model loaded correctly\n",
      "Model compiled\n",
      "1\n",
      "Model loaded correctly\n",
      "Model compiled\n",
      "2\n",
      "Model loaded correctly\n",
      "Model compiled\n",
      "3\n",
      "Model loaded correctly\n",
      "Model compiled\n",
      "4\n",
      "Model loaded correctly\n",
      "Model compiled\n",
      "5\n",
      "Model loaded correctly\n",
      "Model compiled\n",
      "6\n",
      "Model loaded correctly\n",
      "Model compiled\n"
     ]
    }
   ],
   "source": [
    "for i in range(7):\n",
    "    print(i)\n",
    "    models_lsa[i] =  utils.My_model('intel',True,model_dir)\n",
    "    models_lsa[i].compile_model()"
   ]
  },
  {
   "cell_type": "code",
   "execution_count": 110,
   "id": "f9e877c9",
   "metadata": {},
   "outputs": [
    {
     "name": "stdout",
     "output_type": "stream",
     "text": [
      "94/94 [==============================] - 3s 24ms/step - loss: 0.4941 - accuracy: 0.8294\n"
     ]
    },
    {
     "data": {
      "text/plain": [
       "[0.5391883850097656, 0.8036666512489319]"
      ]
     },
     "execution_count": 110,
     "metadata": {},
     "output_type": "execute_result"
    }
   ],
   "source": [
    "models_lsa[1].evaluate(x_test,y_test)"
   ]
  },
  {
   "cell_type": "code",
   "execution_count": 26,
   "id": "daef1b47",
   "metadata": {},
   "outputs": [
    {
     "name": "stdout",
     "output_type": "stream",
     "text": [
      "C:/Users/fjdur/Desktop/upc/project_notebooks/github_project/DL_notebooks/models/intel_model_21_10/\n",
      "0 :\n",
      "Model loaded correctly\n",
      "Model compiled\n",
      "1 :\n",
      "Model loaded correctly\n",
      "Model compiled\n",
      "2 :\n",
      "Model loaded correctly\n",
      "Model compiled\n",
      "3 :\n",
      "Model loaded correctly\n",
      "Model compiled\n",
      "4 :\n",
      "Model loaded correctly\n",
      "Model compiled\n",
      "5 :\n",
      "Model loaded correctly\n",
      "Model compiled\n",
      "6 :\n",
      "Model loaded correctly\n",
      "Model compiled\n",
      "7 :\n",
      "Model loaded correctly\n",
      "Model compiled\n",
      "8 :\n",
      "Model loaded correctly\n",
      "Model compiled\n",
      "9 :\n",
      "Model loaded correctly\n",
      "Model compiled\n",
      "10 :\n",
      "Model loaded correctly\n",
      "Model compiled\n",
      "11 :\n",
      "Model loaded correctly\n",
      "Model compiled\n",
      "12 :\n",
      "Model loaded correctly\n",
      "Model compiled\n",
      "13 :\n",
      "Model loaded correctly\n",
      "Model compiled\n",
      "14 :\n",
      "Model loaded correctly\n",
      "Model compiled\n",
      "15 :\n",
      "Model loaded correctly\n",
      "Model compiled\n",
      "16 :\n",
      "Model loaded correctly\n",
      "Model compiled\n",
      "17 :\n",
      "Model loaded correctly\n",
      "Model compiled\n",
      "18 :\n",
      "Model loaded correctly\n",
      "Model compiled\n",
      "19 :\n",
      "Model loaded correctly\n",
      "Model compiled\n"
     ]
    }
   ],
   "source": [
    "print(model_dir)\n",
    "\n",
    "models_lsa = []\n",
    "for i in range(len(label_sets_lsa)):\n",
    "    print(i,\":\")\n",
    "    model = utils.My_model('intel',True,model_dir)\n",
    "    model.compile_model()\n",
    "    models_lsa.append(model)\n"
   ]
  },
  {
   "cell_type": "code",
   "execution_count": 27,
   "id": "13f66889",
   "metadata": {},
   "outputs": [
    {
     "name": "stdout",
     "output_type": "stream",
     "text": [
      "20\n"
     ]
    }
   ],
   "source": [
    "print(len(models_lsa))\n"
   ]
  },
  {
   "cell_type": "code",
   "execution_count": 113,
   "id": "3665e51c",
   "metadata": {},
   "outputs": [
    {
     "name": "stdout",
     "output_type": "stream",
     "text": [
      "Epoch 1/20\n",
      "6/6 [==============================] - 5s 636ms/step - loss: 2.0641 - accuracy: 0.2457 - val_loss: 1.1151 - val_accuracy: 0.5603\n",
      "Epoch 2/20\n",
      "6/6 [==============================] - 4s 639ms/step - loss: 1.4756 - accuracy: 0.3757 - val_loss: 0.9574 - val_accuracy: 0.7036\n",
      "Epoch 3/20\n",
      "6/6 [==============================] - 4s 638ms/step - loss: 1.3338 - accuracy: 0.4529 - val_loss: 0.8454 - val_accuracy: 0.7304\n",
      "Epoch 4/20\n",
      "6/6 [==============================] - 4s 678ms/step - loss: 1.4258 - accuracy: 0.4214 - val_loss: 0.9247 - val_accuracy: 0.6740\n",
      "Epoch 5/20\n",
      "6/6 [==============================] - 4s 673ms/step - loss: 1.1768 - accuracy: 0.5457 - val_loss: 0.8539 - val_accuracy: 0.6994\n",
      "Epoch 6/20\n",
      "6/6 [==============================] - 4s 635ms/step - loss: 1.1639 - accuracy: 0.5343 - val_loss: 0.8525 - val_accuracy: 0.7072\n",
      "Epoch 7/20\n",
      "6/6 [==============================] - 3s 636ms/step - loss: 1.1793 - accuracy: 0.5486 - val_loss: 0.9379 - val_accuracy: 0.6883\n",
      "Epoch 8/20\n",
      "6/6 [==============================] - 4s 649ms/step - loss: 1.0407 - accuracy: 0.6157 - val_loss: 0.9068 - val_accuracy: 0.6501\n",
      "Epoch 9/20\n",
      "6/6 [==============================] - 4s 663ms/step - loss: 1.0513 - accuracy: 0.5957 - val_loss: 0.9039 - val_accuracy: 0.6558\n",
      "Epoch 10/20\n",
      "6/6 [==============================] - 3s 627ms/step - loss: 1.0279 - accuracy: 0.5943 - val_loss: 0.8752 - val_accuracy: 0.6534\n",
      "Epoch 11/20\n",
      "6/6 [==============================] - 3s 627ms/step - loss: 0.9793 - accuracy: 0.6286 - val_loss: 0.8517 - val_accuracy: 0.6794\n",
      "Epoch 12/20\n",
      "6/6 [==============================] - 3s 626ms/step - loss: 0.9016 - accuracy: 0.6486 - val_loss: 0.8642 - val_accuracy: 0.6944\n",
      "Epoch 13/20\n",
      "6/6 [==============================] - 3s 624ms/step - loss: 0.8665 - accuracy: 0.6500 - val_loss: 0.9294 - val_accuracy: 0.6009\n",
      "Epoch 14/20\n",
      "6/6 [==============================] - 3s 629ms/step - loss: 0.9954 - accuracy: 0.6200 - val_loss: 0.8286 - val_accuracy: 0.6887\n",
      "Epoch 15/20\n",
      "6/6 [==============================] - 3s 626ms/step - loss: 0.8422 - accuracy: 0.6714 - val_loss: 0.8491 - val_accuracy: 0.6819\n",
      "Epoch 16/20\n",
      "6/6 [==============================] - 3s 633ms/step - loss: 0.7811 - accuracy: 0.7043 - val_loss: 0.8510 - val_accuracy: 0.6961\n",
      "Epoch 17/20\n",
      "6/6 [==============================] - 3s 629ms/step - loss: 0.7561 - accuracy: 0.7214 - val_loss: 0.8482 - val_accuracy: 0.6986\n",
      "Epoch 18/20\n",
      "6/6 [==============================] - 3s 632ms/step - loss: 0.6925 - accuracy: 0.7314 - val_loss: 0.8442 - val_accuracy: 0.6801\n",
      "Epoch 19/20\n",
      "6/6 [==============================] - 3s 628ms/step - loss: 0.9227 - accuracy: 0.6714 - val_loss: 0.9800 - val_accuracy: 0.6534\n",
      "Epoch 20/20\n",
      "6/6 [==============================] - 3s 625ms/step - loss: 0.7154 - accuracy: 0.7343 - val_loss: 0.8701 - val_accuracy: 0.6673\n",
      "Duration: 0:01:11.779573\n"
     ]
    },
    {
     "data": {
      "text/plain": [
       "<keras.callbacks.History at 0x24f7884c2b0>"
      ]
     },
     "execution_count": 113,
     "metadata": {},
     "output_type": "execute_result"
    }
   ],
   "source": [
    "n = 0\n",
    "models_lsa[n].fit_model(image_sets_lsa[n],label_sets_lsa[n],x_val,y_val,epochs=20,batch_size = 128)"
   ]
  },
  {
   "cell_type": "code",
   "execution_count": 114,
   "id": "e9d218cf",
   "metadata": {},
   "outputs": [
    {
     "name": "stdout",
     "output_type": "stream",
     "text": [
      "Epoch 1/20\n",
      "11/11 [==============================] - 7s 482ms/step - loss: 1.8946 - accuracy: 0.3236 - val_loss: 1.1215 - val_accuracy: 0.6462\n",
      "Epoch 2/20\n",
      "11/11 [==============================] - 5s 484ms/step - loss: 1.2982 - accuracy: 0.4771 - val_loss: 0.9860 - val_accuracy: 0.6480\n",
      "Epoch 3/20\n",
      "11/11 [==============================] - 5s 480ms/step - loss: 1.1976 - accuracy: 0.5364 - val_loss: 0.9669 - val_accuracy: 0.6558\n",
      "Epoch 4/20\n",
      "11/11 [==============================] - 5s 481ms/step - loss: 1.1207 - accuracy: 0.5643 - val_loss: 0.8854 - val_accuracy: 0.6819\n",
      "Epoch 5/20\n",
      "11/11 [==============================] - 5s 490ms/step - loss: 1.1931 - accuracy: 0.5471 - val_loss: 0.9150 - val_accuracy: 0.6626\n",
      "Epoch 6/20\n",
      "11/11 [==============================] - 5s 478ms/step - loss: 1.0171 - accuracy: 0.6157 - val_loss: 1.1086 - val_accuracy: 0.5913\n",
      "Epoch 7/20\n",
      "11/11 [==============================] - 5s 475ms/step - loss: 0.9804 - accuracy: 0.6400 - val_loss: 0.8846 - val_accuracy: 0.6612\n",
      "Epoch 8/20\n",
      "11/11 [==============================] - 5s 502ms/step - loss: 0.9827 - accuracy: 0.6193 - val_loss: 0.8754 - val_accuracy: 0.6644\n",
      "Epoch 9/20\n",
      "11/11 [==============================] - 6s 529ms/step - loss: 0.8869 - accuracy: 0.6721 - val_loss: 0.9599 - val_accuracy: 0.6266\n",
      "Epoch 10/20\n",
      "11/11 [==============================] - 5s 498ms/step - loss: 0.9265 - accuracy: 0.6621 - val_loss: 0.8709 - val_accuracy: 0.6598\n",
      "Epoch 11/20\n",
      "11/11 [==============================] - 6s 523ms/step - loss: 0.8521 - accuracy: 0.6836 - val_loss: 0.9033 - val_accuracy: 0.6516\n",
      "Epoch 12/20\n",
      "11/11 [==============================] - 6s 516ms/step - loss: 0.8134 - accuracy: 0.6979 - val_loss: 0.9116 - val_accuracy: 0.6551\n",
      "Epoch 13/20\n",
      "11/11 [==============================] - 6s 546ms/step - loss: 0.8364 - accuracy: 0.6814 - val_loss: 0.8297 - val_accuracy: 0.6723\n",
      "Epoch 14/20\n",
      "11/11 [==============================] - 6s 574ms/step - loss: 0.7585 - accuracy: 0.7150 - val_loss: 0.8616 - val_accuracy: 0.6655\n",
      "Epoch 15/20\n",
      "11/11 [==============================] - 6s 566ms/step - loss: 0.7321 - accuracy: 0.7371 - val_loss: 0.8710 - val_accuracy: 0.6605\n",
      "Epoch 16/20\n",
      "11/11 [==============================] - 6s 528ms/step - loss: 0.6922 - accuracy: 0.7336 - val_loss: 0.9260 - val_accuracy: 0.6391\n",
      "Epoch 17/20\n",
      "11/11 [==============================] - 6s 554ms/step - loss: 0.6282 - accuracy: 0.7650 - val_loss: 0.9375 - val_accuracy: 0.6184\n",
      "Epoch 18/20\n",
      "11/11 [==============================] - 5s 498ms/step - loss: 0.7511 - accuracy: 0.7300 - val_loss: 0.9233 - val_accuracy: 0.6637\n",
      "Epoch 19/20\n",
      "11/11 [==============================] - 5s 495ms/step - loss: 0.6333 - accuracy: 0.7636 - val_loss: 0.8548 - val_accuracy: 0.6765\n",
      "Epoch 20/20\n",
      "11/11 [==============================] - 5s 490ms/step - loss: 0.5589 - accuracy: 0.7886 - val_loss: 1.1196 - val_accuracy: 0.5678\n",
      "Duration: 0:01:50.326372\n"
     ]
    },
    {
     "data": {
      "text/plain": [
       "<keras.callbacks.History at 0x24f79eb5d60>"
      ]
     },
     "execution_count": 114,
     "metadata": {},
     "output_type": "execute_result"
    }
   ],
   "source": [
    "n = 1\n",
    "models_lsa[n].fit_model(image_sets_lsa[n],label_sets_lsa[n],x_val,y_val,epochs=20,batch_size = 128)"
   ]
  },
  {
   "cell_type": "code",
   "execution_count": 115,
   "id": "96f1a998",
   "metadata": {},
   "outputs": [
    {
     "name": "stdout",
     "output_type": "stream",
     "text": [
      "Epoch 1/20\n",
      "17/17 [==============================] - 9s 454ms/step - loss: 1.8661 - accuracy: 0.3703 - val_loss: 0.8873 - val_accuracy: 0.6826\n",
      "Epoch 2/20\n",
      "17/17 [==============================] - 7s 404ms/step - loss: 1.1814 - accuracy: 0.5126 - val_loss: 0.9045 - val_accuracy: 0.7008\n",
      "Epoch 3/20\n",
      "17/17 [==============================] - 7s 407ms/step - loss: 1.0810 - accuracy: 0.5562 - val_loss: 1.2201 - val_accuracy: 0.5535\n",
      "Epoch 4/20\n",
      "17/17 [==============================] - 7s 426ms/step - loss: 1.1343 - accuracy: 0.5553 - val_loss: 0.9419 - val_accuracy: 0.6612\n",
      "Epoch 5/20\n",
      "17/17 [==============================] - 8s 468ms/step - loss: 1.0833 - accuracy: 0.5747 - val_loss: 1.0173 - val_accuracy: 0.6312\n",
      "Epoch 6/20\n",
      "17/17 [==============================] - 8s 453ms/step - loss: 0.9682 - accuracy: 0.6209 - val_loss: 0.8684 - val_accuracy: 0.6944\n",
      "Epoch 7/20\n",
      "17/17 [==============================] - 8s 461ms/step - loss: 0.9501 - accuracy: 0.6100 - val_loss: 1.0084 - val_accuracy: 0.6059\n",
      "Epoch 8/20\n",
      "17/17 [==============================] - 7s 437ms/step - loss: 0.8573 - accuracy: 0.6614 - val_loss: 0.9154 - val_accuracy: 0.6815\n",
      "Epoch 9/20\n",
      "17/17 [==============================] - 7s 436ms/step - loss: 0.8818 - accuracy: 0.6571 - val_loss: 0.9704 - val_accuracy: 0.6234\n",
      "Epoch 10/20\n",
      "17/17 [==============================] - 8s 464ms/step - loss: 0.7790 - accuracy: 0.6898 - val_loss: 0.9311 - val_accuracy: 0.6459\n",
      "Epoch 11/20\n",
      "17/17 [==============================] - 8s 458ms/step - loss: 0.7683 - accuracy: 0.7089 - val_loss: 0.9931 - val_accuracy: 0.6291\n",
      "Epoch 12/20\n",
      "17/17 [==============================] - 8s 471ms/step - loss: 0.7478 - accuracy: 0.6990 - val_loss: 0.9532 - val_accuracy: 0.6544\n",
      "Epoch 13/20\n",
      "17/17 [==============================] - 8s 451ms/step - loss: 0.7483 - accuracy: 0.7061 - val_loss: 0.9334 - val_accuracy: 0.6430\n",
      "Epoch 14/20\n",
      "17/17 [==============================] - 7s 419ms/step - loss: 0.7301 - accuracy: 0.7036 - val_loss: 0.9408 - val_accuracy: 0.6641\n",
      "Epoch 15/20\n",
      "17/17 [==============================] - 7s 430ms/step - loss: 0.7776 - accuracy: 0.7198 - val_loss: 1.3140 - val_accuracy: 0.5118\n",
      "Epoch 16/20\n",
      "17/17 [==============================] - 8s 454ms/step - loss: 0.6392 - accuracy: 0.7404 - val_loss: 1.0015 - val_accuracy: 0.6287\n",
      "Epoch 17/20\n",
      "17/17 [==============================] - 7s 439ms/step - loss: 0.5989 - accuracy: 0.7705 - val_loss: 0.9678 - val_accuracy: 0.6466\n",
      "Epoch 18/20\n",
      "17/17 [==============================] - 7s 423ms/step - loss: 0.5836 - accuracy: 0.7830 - val_loss: 0.9590 - val_accuracy: 0.6623\n",
      "Epoch 19/20\n",
      "17/17 [==============================] - 7s 421ms/step - loss: 0.5588 - accuracy: 0.7888 - val_loss: 0.9917 - val_accuracy: 0.6320\n",
      "Epoch 20/20\n",
      "17/17 [==============================] - 7s 412ms/step - loss: 0.6361 - accuracy: 0.7617 - val_loss: 1.0590 - val_accuracy: 0.6013\n",
      "Duration: 0:02:29.278780\n"
     ]
    },
    {
     "data": {
      "text/plain": [
       "<keras.callbacks.History at 0x24f78d0cf40>"
      ]
     },
     "execution_count": 115,
     "metadata": {},
     "output_type": "execute_result"
    }
   ],
   "source": [
    "n = 2\n",
    "models_lsa[n].fit_model(image_sets_lsa[n],label_sets_lsa[n],x_val,y_val,epochs=20,batch_size = 128)"
   ]
  },
  {
   "cell_type": "code",
   "execution_count": 116,
   "id": "56d03d26",
   "metadata": {},
   "outputs": [
    {
     "name": "stdout",
     "output_type": "stream",
     "text": [
      "Epoch 1/20\n",
      "22/22 [==============================] - 11s 428ms/step - loss: 1.5531 - accuracy: 0.4740 - val_loss: 0.8377 - val_accuracy: 0.7068\n",
      "Epoch 2/20\n",
      "22/22 [==============================] - 9s 417ms/step - loss: 0.9646 - accuracy: 0.6090 - val_loss: 0.8973 - val_accuracy: 0.6858\n",
      "Epoch 3/20\n",
      "22/22 [==============================] - 9s 428ms/step - loss: 0.9248 - accuracy: 0.6363 - val_loss: 0.8556 - val_accuracy: 0.6865\n",
      "Epoch 4/20\n",
      "22/22 [==============================] - 9s 409ms/step - loss: 0.8847 - accuracy: 0.6510 - val_loss: 0.8897 - val_accuracy: 0.6858\n",
      "Epoch 5/20\n",
      "22/22 [==============================] - 9s 410ms/step - loss: 0.8457 - accuracy: 0.6793 - val_loss: 0.9218 - val_accuracy: 0.6455\n",
      "Epoch 6/20\n",
      "22/22 [==============================] - 9s 412ms/step - loss: 0.8002 - accuracy: 0.6896 - val_loss: 1.1707 - val_accuracy: 0.5271\n",
      "Epoch 7/20\n",
      "22/22 [==============================] - 9s 409ms/step - loss: 0.8258 - accuracy: 0.6888 - val_loss: 1.0025 - val_accuracy: 0.5956\n",
      "Epoch 8/20\n",
      "22/22 [==============================] - 9s 434ms/step - loss: 0.7404 - accuracy: 0.7080 - val_loss: 1.3450 - val_accuracy: 0.4383\n",
      "Epoch 9/20\n",
      "22/22 [==============================] - 9s 418ms/step - loss: 0.7097 - accuracy: 0.7180 - val_loss: 0.9532 - val_accuracy: 0.6323\n",
      "Epoch 10/20\n",
      "22/22 [==============================] - 9s 420ms/step - loss: 0.7233 - accuracy: 0.7317 - val_loss: 0.9749 - val_accuracy: 0.6045\n",
      "Epoch 11/20\n",
      "22/22 [==============================] - 9s 425ms/step - loss: 0.6510 - accuracy: 0.7637 - val_loss: 1.0011 - val_accuracy: 0.6127\n",
      "Epoch 12/20\n",
      "22/22 [==============================] - 9s 432ms/step - loss: 0.6149 - accuracy: 0.7756 - val_loss: 0.9478 - val_accuracy: 0.6473\n",
      "Epoch 13/20\n",
      "22/22 [==============================] - 10s 449ms/step - loss: 0.6201 - accuracy: 0.7642 - val_loss: 0.8858 - val_accuracy: 0.6651\n",
      "Epoch 14/20\n",
      "22/22 [==============================] - 10s 443ms/step - loss: 0.5953 - accuracy: 0.7722 - val_loss: 1.0934 - val_accuracy: 0.5852\n",
      "Epoch 15/20\n",
      "22/22 [==============================] - 9s 431ms/step - loss: 0.5604 - accuracy: 0.7853 - val_loss: 1.1574 - val_accuracy: 0.5603\n",
      "Epoch 16/20\n",
      "22/22 [==============================] - 9s 402ms/step - loss: 0.5685 - accuracy: 0.7805 - val_loss: 1.2570 - val_accuracy: 0.5218\n",
      "Epoch 17/20\n",
      "22/22 [==============================] - 9s 404ms/step - loss: 0.5401 - accuracy: 0.7968 - val_loss: 0.9041 - val_accuracy: 0.6530\n",
      "Epoch 18/20\n",
      "22/22 [==============================] - 9s 410ms/step - loss: 0.4967 - accuracy: 0.8127 - val_loss: 1.3973 - val_accuracy: 0.4832\n",
      "Epoch 19/20\n",
      "22/22 [==============================] - 10s 456ms/step - loss: 0.4896 - accuracy: 0.8130 - val_loss: 1.1225 - val_accuracy: 0.5781\n",
      "Epoch 20/20\n",
      "22/22 [==============================] - 9s 405ms/step - loss: 0.4411 - accuracy: 0.8366 - val_loss: 1.2082 - val_accuracy: 0.5742\n",
      "Duration: 0:03:05.790499\n"
     ]
    },
    {
     "data": {
      "text/plain": [
       "<keras.callbacks.History at 0x24f7883abe0>"
      ]
     },
     "execution_count": 116,
     "metadata": {},
     "output_type": "execute_result"
    }
   ],
   "source": [
    "n = 3\n",
    "models_lsa[n].fit_model(image_sets_lsa[n],label_sets_lsa[n],x_val,y_val,epochs=20,batch_size = 128)"
   ]
  },
  {
   "cell_type": "code",
   "execution_count": 117,
   "id": "6eaa7281",
   "metadata": {},
   "outputs": [
    {
     "name": "stdout",
     "output_type": "stream",
     "text": [
      "Epoch 1/20\n",
      "28/28 [==============================] - 15s 416ms/step - loss: 1.3594 - accuracy: 0.5072 - val_loss: 1.0544 - val_accuracy: 0.6031\n",
      "Epoch 2/20\n",
      "28/28 [==============================] - 12s 420ms/step - loss: 0.9471 - accuracy: 0.6356 - val_loss: 0.8675 - val_accuracy: 0.7165\n",
      "Epoch 3/20\n",
      "28/28 [==============================] - 11s 407ms/step - loss: 0.8981 - accuracy: 0.6602 - val_loss: 1.1100 - val_accuracy: 0.5681\n",
      "Epoch 4/20\n",
      "28/28 [==============================] - 11s 390ms/step - loss: 0.8470 - accuracy: 0.6838 - val_loss: 0.9087 - val_accuracy: 0.6869\n",
      "Epoch 5/20\n",
      "28/28 [==============================] - 12s 416ms/step - loss: 0.8293 - accuracy: 0.6881 - val_loss: 0.8904 - val_accuracy: 0.6555\n",
      "Epoch 6/20\n",
      "28/28 [==============================] - 10s 374ms/step - loss: 0.7493 - accuracy: 0.7252 - val_loss: 1.1010 - val_accuracy: 0.5414\n",
      "Epoch 7/20\n",
      "28/28 [==============================] - 10s 373ms/step - loss: 0.7674 - accuracy: 0.7181 - val_loss: 1.0420 - val_accuracy: 0.5642\n",
      "Epoch 8/20\n",
      "28/28 [==============================] - 11s 384ms/step - loss: 0.7359 - accuracy: 0.7210 - val_loss: 1.0661 - val_accuracy: 0.5728\n",
      "Epoch 9/20\n",
      "28/28 [==============================] - 11s 390ms/step - loss: 0.6449 - accuracy: 0.7643 - val_loss: 1.4586 - val_accuracy: 0.4597\n",
      "Epoch 10/20\n",
      "28/28 [==============================] - 12s 434ms/step - loss: 0.7111 - accuracy: 0.7421 - val_loss: 1.0048 - val_accuracy: 0.5852\n",
      "Epoch 11/20\n",
      "28/28 [==============================] - 12s 419ms/step - loss: 0.6203 - accuracy: 0.7722 - val_loss: 0.9508 - val_accuracy: 0.6280\n",
      "Epoch 12/20\n",
      "28/28 [==============================] - 11s 398ms/step - loss: 0.5815 - accuracy: 0.7779 - val_loss: 0.8788 - val_accuracy: 0.6801\n",
      "Epoch 13/20\n",
      "28/28 [==============================] - 11s 402ms/step - loss: 0.5672 - accuracy: 0.7976 - val_loss: 0.9882 - val_accuracy: 0.6180\n",
      "Epoch 14/20\n",
      "28/28 [==============================] - 11s 402ms/step - loss: 0.5770 - accuracy: 0.7896 - val_loss: 1.0442 - val_accuracy: 0.5842\n",
      "Epoch 15/20\n",
      "28/28 [==============================] - 11s 401ms/step - loss: 0.5412 - accuracy: 0.7962 - val_loss: 0.9656 - val_accuracy: 0.6295\n",
      "Epoch 16/20\n",
      "28/28 [==============================] - 11s 391ms/step - loss: 0.5530 - accuracy: 0.7997 - val_loss: 0.9658 - val_accuracy: 0.6441\n",
      "Epoch 17/20\n",
      "28/28 [==============================] - 10s 376ms/step - loss: 0.4846 - accuracy: 0.8268 - val_loss: 0.9189 - val_accuracy: 0.6405\n",
      "Epoch 18/20\n",
      "28/28 [==============================] - 11s 384ms/step - loss: 0.5108 - accuracy: 0.8134 - val_loss: 0.9830 - val_accuracy: 0.6234\n",
      "Epoch 19/20\n",
      "28/28 [==============================] - 11s 395ms/step - loss: 0.5626 - accuracy: 0.7928 - val_loss: 0.9988 - val_accuracy: 0.6159\n",
      "Epoch 20/20\n",
      "28/28 [==============================] - 11s 387ms/step - loss: 0.4240 - accuracy: 0.8483 - val_loss: 1.5242 - val_accuracy: 0.5128\n",
      "Duration: 0:03:45.424812\n"
     ]
    },
    {
     "data": {
      "text/plain": [
       "<keras.callbacks.History at 0x24f765b27f0>"
      ]
     },
     "execution_count": 117,
     "metadata": {},
     "output_type": "execute_result"
    }
   ],
   "source": [
    "n = 4\n",
    "models_lsa[n].fit_model(image_sets_lsa[n],label_sets_lsa[n],x_val,y_val,epochs=20,batch_size = 128)"
   ]
  },
  {
   "cell_type": "code",
   "execution_count": 118,
   "id": "51c5b116",
   "metadata": {},
   "outputs": [
    {
     "name": "stdout",
     "output_type": "stream",
     "text": [
      "Epoch 1/20\n",
      "33/33 [==============================] - 15s 396ms/step - loss: 1.5245 - accuracy: 0.4783 - val_loss: 0.8874 - val_accuracy: 0.7019\n",
      "Epoch 2/20\n",
      "33/33 [==============================] - 13s 385ms/step - loss: 0.9869 - accuracy: 0.6223 - val_loss: 0.9243 - val_accuracy: 0.6669\n",
      "Epoch 3/20\n",
      "33/33 [==============================] - 13s 380ms/step - loss: 0.9366 - accuracy: 0.6428 - val_loss: 0.9287 - val_accuracy: 0.6501\n",
      "Epoch 4/20\n",
      "33/33 [==============================] - 13s 391ms/step - loss: 0.9052 - accuracy: 0.6534 - val_loss: 0.9730 - val_accuracy: 0.6041\n",
      "Epoch 5/20\n",
      "33/33 [==============================] - 13s 384ms/step - loss: 0.8564 - accuracy: 0.6722 - val_loss: 0.8483 - val_accuracy: 0.6805\n",
      "Epoch 6/20\n",
      "33/33 [==============================] - 12s 369ms/step - loss: 0.8124 - accuracy: 0.6891 - val_loss: 1.0211 - val_accuracy: 0.5852\n",
      "Epoch 7/20\n",
      "33/33 [==============================] - 2494s 78s/step - loss: 0.7682 - accuracy: 0.7008 - val_loss: 0.9547 - val_accuracy: 0.6180\n",
      "Epoch 8/20\n",
      "33/33 [==============================] - 14s 422ms/step - loss: 0.7100 - accuracy: 0.7323 - val_loss: 1.3337 - val_accuracy: 0.4700\n",
      "Epoch 9/20\n",
      "33/33 [==============================] - 13s 384ms/step - loss: 0.7394 - accuracy: 0.7204 - val_loss: 1.1667 - val_accuracy: 0.5328\n",
      "Epoch 10/20\n",
      "33/33 [==============================] - 12s 371ms/step - loss: 0.6853 - accuracy: 0.7256 - val_loss: 1.3475 - val_accuracy: 0.4971\n",
      "Epoch 11/20\n",
      "33/33 [==============================] - 12s 367ms/step - loss: 0.6472 - accuracy: 0.7535 - val_loss: 0.9886 - val_accuracy: 0.6241\n",
      "Epoch 12/20\n",
      "33/33 [==============================] - 12s 368ms/step - loss: 0.6398 - accuracy: 0.7525 - val_loss: 0.9352 - val_accuracy: 0.6402\n",
      "Epoch 13/20\n",
      "33/33 [==============================] - 12s 364ms/step - loss: 0.6172 - accuracy: 0.7687 - val_loss: 1.2990 - val_accuracy: 0.5121\n",
      "Epoch 14/20\n",
      "33/33 [==============================] - 12s 377ms/step - loss: 0.5755 - accuracy: 0.7917 - val_loss: 1.0118 - val_accuracy: 0.5934\n",
      "Epoch 15/20\n",
      "33/33 [==============================] - 12s 376ms/step - loss: 0.5533 - accuracy: 0.7957 - val_loss: 0.9680 - val_accuracy: 0.6352\n",
      "Epoch 16/20\n",
      "33/33 [==============================] - 12s 375ms/step - loss: 0.5513 - accuracy: 0.7880 - val_loss: 0.9857 - val_accuracy: 0.6341\n",
      "Epoch 17/20\n",
      "33/33 [==============================] - 12s 374ms/step - loss: 0.4900 - accuracy: 0.8160 - val_loss: 1.1406 - val_accuracy: 0.5813\n",
      "Epoch 18/20\n",
      "33/33 [==============================] - 12s 368ms/step - loss: 0.4646 - accuracy: 0.8376 - val_loss: 1.9233 - val_accuracy: 0.4016\n",
      "Epoch 19/20\n",
      "33/33 [==============================] - 12s 366ms/step - loss: 0.4829 - accuracy: 0.8204 - val_loss: 1.1202 - val_accuracy: 0.5781\n",
      "Epoch 20/20\n",
      "33/33 [==============================] - 12s 365ms/step - loss: 0.4253 - accuracy: 0.8420 - val_loss: 1.2650 - val_accuracy: 0.5300\n",
      "Duration: 0:45:32.496735\n"
     ]
    },
    {
     "data": {
      "text/plain": [
       "<keras.callbacks.History at 0x24f0448b580>"
      ]
     },
     "execution_count": 118,
     "metadata": {},
     "output_type": "execute_result"
    }
   ],
   "source": [
    "n = 5\n",
    "models_lsa[n].fit_model(image_sets_lsa[n],label_sets_lsa[n],x_val,y_val,epochs=20,batch_size = 128)"
   ]
  },
  {
   "cell_type": "code",
   "execution_count": 119,
   "id": "9d43d456",
   "metadata": {},
   "outputs": [
    {
     "name": "stdout",
     "output_type": "stream",
     "text": [
      "Epoch 1/20\n",
      "39/39 [==============================] - 16s 368ms/step - loss: 1.2959 - accuracy: 0.5116 - val_loss: 1.0358 - val_accuracy: 0.6220\n",
      "Epoch 2/20\n",
      "39/39 [==============================] - 14s 353ms/step - loss: 0.9867 - accuracy: 0.6167 - val_loss: 1.1220 - val_accuracy: 0.5806\n",
      "Epoch 3/20\n",
      "39/39 [==============================] - 14s 356ms/step - loss: 0.9196 - accuracy: 0.6397 - val_loss: 0.9736 - val_accuracy: 0.6637\n",
      "Epoch 4/20\n",
      "39/39 [==============================] - 14s 361ms/step - loss: 0.8998 - accuracy: 0.6487 - val_loss: 0.8598 - val_accuracy: 0.6737\n",
      "Epoch 5/20\n",
      "39/39 [==============================] - 14s 360ms/step - loss: 0.8201 - accuracy: 0.6734 - val_loss: 0.9242 - val_accuracy: 0.6701\n",
      "Epoch 6/20\n",
      "39/39 [==============================] - 14s 353ms/step - loss: 0.7887 - accuracy: 0.6901 - val_loss: 1.0069 - val_accuracy: 0.6580\n",
      "Epoch 7/20\n",
      "39/39 [==============================] - 14s 354ms/step - loss: 0.7982 - accuracy: 0.6908 - val_loss: 0.8798 - val_accuracy: 0.6887\n",
      "Epoch 8/20\n",
      "39/39 [==============================] - 14s 356ms/step - loss: 0.7056 - accuracy: 0.7252 - val_loss: 1.4547 - val_accuracy: 0.5292\n",
      "Epoch 9/20\n",
      "39/39 [==============================] - 14s 355ms/step - loss: 0.7537 - accuracy: 0.7045 - val_loss: 0.9854 - val_accuracy: 0.6377\n",
      "Epoch 10/20\n",
      "39/39 [==============================] - 15s 374ms/step - loss: 0.6520 - accuracy: 0.7478 - val_loss: 0.8058 - val_accuracy: 0.7154\n",
      "Epoch 11/20\n",
      "39/39 [==============================] - 14s 356ms/step - loss: 0.5992 - accuracy: 0.7755 - val_loss: 0.9326 - val_accuracy: 0.6373\n",
      "Epoch 12/20\n",
      "39/39 [==============================] - 15s 378ms/step - loss: 0.6000 - accuracy: 0.7779 - val_loss: 0.9292 - val_accuracy: 0.6295\n",
      "Epoch 13/20\n",
      "39/39 [==============================] - 15s 376ms/step - loss: 0.5964 - accuracy: 0.7706 - val_loss: 1.0841 - val_accuracy: 0.5849\n",
      "Epoch 14/20\n",
      "39/39 [==============================] - 16s 401ms/step - loss: 0.5826 - accuracy: 0.7834 - val_loss: 1.2264 - val_accuracy: 0.5756\n",
      "Epoch 15/20\n",
      "39/39 [==============================] - 14s 359ms/step - loss: 0.5488 - accuracy: 0.7913 - val_loss: 1.1725 - val_accuracy: 0.5899\n",
      "Epoch 16/20\n",
      "39/39 [==============================] - 14s 367ms/step - loss: 0.5405 - accuracy: 0.7955 - val_loss: 0.9635 - val_accuracy: 0.6348\n",
      "Epoch 17/20\n",
      "39/39 [==============================] - 15s 380ms/step - loss: 0.4669 - accuracy: 0.8281 - val_loss: 1.1636 - val_accuracy: 0.5959\n",
      "Epoch 18/20\n",
      "39/39 [==============================] - 15s 374ms/step - loss: 0.4972 - accuracy: 0.8157 - val_loss: 1.0279 - val_accuracy: 0.6009\n",
      "Epoch 19/20\n",
      "39/39 [==============================] - 15s 386ms/step - loss: 0.5155 - accuracy: 0.8132 - val_loss: 1.0452 - val_accuracy: 0.6316\n",
      "Epoch 20/20\n",
      "39/39 [==============================] - 14s 360ms/step - loss: 0.4348 - accuracy: 0.8424 - val_loss: 1.1446 - val_accuracy: 0.5981\n",
      "Duration: 0:04:46.913209\n"
     ]
    },
    {
     "data": {
      "text/plain": [
       "<keras.callbacks.History at 0x24eb648abe0>"
      ]
     },
     "execution_count": 119,
     "metadata": {},
     "output_type": "execute_result"
    }
   ],
   "source": [
    "n = 6\n",
    "models_lsa[n].fit_model(image_sets_lsa[n],label_sets_lsa[n],x_val,y_val,epochs=20,batch_size = 128)"
   ]
  },
  {
   "cell_type": "code",
   "execution_count": 40,
   "id": "824a1338",
   "metadata": {},
   "outputs": [
    {
     "name": "stdout",
     "output_type": "stream",
     "text": [
      "Epoch 1/20\n",
      "44/44 [==============================] - 16s 338ms/step - loss: 1.0141 - accuracy: 0.6048 - val_loss: 0.7934 - val_accuracy: 0.7322\n",
      "Epoch 2/20\n",
      "44/44 [==============================] - 14s 322ms/step - loss: 0.8564 - accuracy: 0.6668 - val_loss: 0.8025 - val_accuracy: 0.7161\n",
      "Epoch 3/20\n",
      "44/44 [==============================] - 14s 324ms/step - loss: 0.8062 - accuracy: 0.6920 - val_loss: 0.7807 - val_accuracy: 0.7200\n",
      "Epoch 4/20\n",
      "44/44 [==============================] - 15s 334ms/step - loss: 0.7598 - accuracy: 0.7039 - val_loss: 0.9071 - val_accuracy: 0.6587\n",
      "Epoch 5/20\n",
      "44/44 [==============================] - 14s 326ms/step - loss: 0.7213 - accuracy: 0.7175 - val_loss: 1.0161 - val_accuracy: 0.5956\n",
      "Epoch 6/20\n",
      "44/44 [==============================] - 14s 328ms/step - loss: 0.6876 - accuracy: 0.7311 - val_loss: 2.0429 - val_accuracy: 0.4198\n",
      "Epoch 7/20\n",
      "44/44 [==============================] - 14s 325ms/step - loss: 0.6943 - accuracy: 0.7312 - val_loss: 1.3482 - val_accuracy: 0.5011\n",
      "Epoch 8/20\n",
      "44/44 [==============================] - 14s 324ms/step - loss: 0.6565 - accuracy: 0.7520 - val_loss: 0.7806 - val_accuracy: 0.6983\n",
      "Epoch 9/20\n",
      "44/44 [==============================] - 14s 325ms/step - loss: 0.6137 - accuracy: 0.7657 - val_loss: 0.8346 - val_accuracy: 0.6976\n",
      "Epoch 10/20\n",
      "44/44 [==============================] - 14s 324ms/step - loss: 0.6187 - accuracy: 0.7652 - val_loss: 1.1757 - val_accuracy: 0.5599\n",
      "Epoch 11/20\n",
      "44/44 [==============================] - 14s 325ms/step - loss: 0.5809 - accuracy: 0.7805 - val_loss: 0.8818 - val_accuracy: 0.6644\n",
      "Epoch 12/20\n",
      "44/44 [==============================] - 14s 324ms/step - loss: 0.5500 - accuracy: 0.7968 - val_loss: 0.9220 - val_accuracy: 0.6352\n",
      "Epoch 13/20\n",
      "44/44 [==============================] - 14s 325ms/step - loss: 0.5498 - accuracy: 0.7900 - val_loss: 1.5051 - val_accuracy: 0.4904\n",
      "Epoch 14/20\n",
      "44/44 [==============================] - 14s 324ms/step - loss: 0.5182 - accuracy: 0.8054 - val_loss: 1.3590 - val_accuracy: 0.5392\n",
      "Epoch 15/20\n",
      "44/44 [==============================] - 14s 326ms/step - loss: 0.4916 - accuracy: 0.8175 - val_loss: 1.2730 - val_accuracy: 0.5556\n",
      "Epoch 16/20\n",
      "44/44 [==============================] - 14s 324ms/step - loss: 0.4617 - accuracy: 0.8298 - val_loss: 1.1493 - val_accuracy: 0.6009\n",
      "Epoch 17/20\n",
      "44/44 [==============================] - 14s 324ms/step - loss: 0.4553 - accuracy: 0.8329 - val_loss: 1.0280 - val_accuracy: 0.6002\n",
      "Epoch 18/20\n",
      "44/44 [==============================] - 14s 326ms/step - loss: 0.4439 - accuracy: 0.8330 - val_loss: 0.9410 - val_accuracy: 0.6330\n",
      "Epoch 19/20\n",
      "44/44 [==============================] - 14s 324ms/step - loss: 0.4008 - accuracy: 0.8512 - val_loss: 0.9906 - val_accuracy: 0.6238\n",
      "Epoch 20/20\n",
      "44/44 [==============================] - 14s 324ms/step - loss: 0.4084 - accuracy: 0.8570 - val_loss: 1.0077 - val_accuracy: 0.6180\n",
      "Duration: 0:04:47.674746\n"
     ]
    },
    {
     "data": {
      "text/plain": [
       "<keras.callbacks.History at 0x265daa8ab50>"
      ]
     },
     "execution_count": 40,
     "metadata": {},
     "output_type": "execute_result"
    }
   ],
   "source": [
    "n = 7\n",
    "models_lsa[n].fit_model(image_sets_lsa[n],label_sets_lsa[n],x_val,y_val,epochs=20,batch_size = 128)"
   ]
  },
  {
   "cell_type": "code",
   "execution_count": 41,
   "id": "59235849",
   "metadata": {},
   "outputs": [
    {
     "name": "stdout",
     "output_type": "stream",
     "text": [
      "Epoch 1/20\n",
      "50/50 [==============================] - 18s 333ms/step - loss: 1.0302 - accuracy: 0.6033 - val_loss: 0.8136 - val_accuracy: 0.7468\n",
      "Epoch 2/20\n",
      "50/50 [==============================] - 16s 316ms/step - loss: 0.8675 - accuracy: 0.6563 - val_loss: 1.5622 - val_accuracy: 0.4490\n",
      "Epoch 3/20\n",
      "50/50 [==============================] - 16s 319ms/step - loss: 0.7999 - accuracy: 0.6937 - val_loss: 0.9258 - val_accuracy: 0.6473\n",
      "Epoch 4/20\n",
      "50/50 [==============================] - 16s 318ms/step - loss: 0.7712 - accuracy: 0.6997 - val_loss: 0.7783 - val_accuracy: 0.7165\n",
      "Epoch 5/20\n",
      "50/50 [==============================] - 16s 318ms/step - loss: 0.7258 - accuracy: 0.7156 - val_loss: 0.9879 - val_accuracy: 0.6230\n",
      "Epoch 6/20\n",
      "50/50 [==============================] - 16s 317ms/step - loss: 0.6963 - accuracy: 0.7286 - val_loss: 1.0448 - val_accuracy: 0.6284\n",
      "Epoch 7/20\n",
      "50/50 [==============================] - 16s 318ms/step - loss: 0.6679 - accuracy: 0.7468 - val_loss: 0.9360 - val_accuracy: 0.6327\n",
      "Epoch 8/20\n",
      "50/50 [==============================] - 16s 317ms/step - loss: 0.6393 - accuracy: 0.7489 - val_loss: 0.7726 - val_accuracy: 0.7015\n",
      "Epoch 9/20\n",
      "50/50 [==============================] - 16s 318ms/step - loss: 0.6100 - accuracy: 0.7716 - val_loss: 1.0814 - val_accuracy: 0.5774\n",
      "Epoch 10/20\n",
      "50/50 [==============================] - 16s 319ms/step - loss: 0.5979 - accuracy: 0.7763 - val_loss: 1.0184 - val_accuracy: 0.6127\n",
      "Epoch 11/20\n",
      "50/50 [==============================] - 17s 334ms/step - loss: 0.5711 - accuracy: 0.7879 - val_loss: 0.8104 - val_accuracy: 0.7068\n",
      "Epoch 12/20\n",
      "50/50 [==============================] - 16s 319ms/step - loss: 0.5292 - accuracy: 0.8070 - val_loss: 1.2299 - val_accuracy: 0.5931\n",
      "Epoch 13/20\n",
      "50/50 [==============================] - 16s 320ms/step - loss: 0.5266 - accuracy: 0.8006 - val_loss: 0.8266 - val_accuracy: 0.6844\n",
      "Epoch 14/20\n",
      "50/50 [==============================] - 16s 319ms/step - loss: 0.4951 - accuracy: 0.8170 - val_loss: 0.9707 - val_accuracy: 0.6334\n",
      "Epoch 15/20\n",
      "50/50 [==============================] - 16s 319ms/step - loss: 0.4693 - accuracy: 0.8284 - val_loss: 1.6673 - val_accuracy: 0.4772\n",
      "Epoch 16/20\n",
      "50/50 [==============================] - 16s 319ms/step - loss: 0.4733 - accuracy: 0.8263 - val_loss: 1.0761 - val_accuracy: 0.5788\n",
      "Epoch 17/20\n",
      "50/50 [==============================] - 16s 320ms/step - loss: 0.4267 - accuracy: 0.8395 - val_loss: 1.0778 - val_accuracy: 0.5874\n",
      "Epoch 18/20\n",
      "50/50 [==============================] - 16s 320ms/step - loss: 0.4450 - accuracy: 0.8379 - val_loss: 1.2456 - val_accuracy: 0.5995\n",
      "Epoch 19/20\n",
      "50/50 [==============================] - 16s 319ms/step - loss: 0.4104 - accuracy: 0.8516 - val_loss: 1.7010 - val_accuracy: 0.5032\n",
      "Epoch 20/20\n",
      "50/50 [==============================] - 16s 320ms/step - loss: 0.3833 - accuracy: 0.8597 - val_loss: 1.0084 - val_accuracy: 0.6255\n",
      "Duration: 0:05:21.520598\n"
     ]
    },
    {
     "data": {
      "text/plain": [
       "<keras.callbacks.History at 0x265fc4c55e0>"
      ]
     },
     "execution_count": 41,
     "metadata": {},
     "output_type": "execute_result"
    }
   ],
   "source": [
    "n = 8\n",
    "models_lsa[n].fit_model(image_sets_lsa[n],label_sets_lsa[n],x_val,y_val,epochs=20,batch_size = 128)"
   ]
  },
  {
   "cell_type": "code",
   "execution_count": 42,
   "id": "60e7240c",
   "metadata": {},
   "outputs": [
    {
     "name": "stdout",
     "output_type": "stream",
     "text": [
      "Epoch 1/20\n",
      "55/55 [==============================] - 19s 324ms/step - loss: 1.0165 - accuracy: 0.5970 - val_loss: 0.7971 - val_accuracy: 0.7372\n",
      "Epoch 2/20\n",
      "55/55 [==============================] - 17s 318ms/step - loss: 0.8632 - accuracy: 0.6559 - val_loss: 0.9980 - val_accuracy: 0.6555\n",
      "Epoch 3/20\n",
      "55/55 [==============================] - 18s 331ms/step - loss: 0.8279 - accuracy: 0.6780 - val_loss: 0.7247 - val_accuracy: 0.7447\n",
      "Epoch 4/20\n",
      "55/55 [==============================] - 17s 319ms/step - loss: 0.8013 - accuracy: 0.6854 - val_loss: 0.9289 - val_accuracy: 0.6448\n",
      "Epoch 5/20\n",
      "55/55 [==============================] - 18s 320ms/step - loss: 0.7616 - accuracy: 0.7109 - val_loss: 0.7194 - val_accuracy: 0.7536\n",
      "Epoch 6/20\n",
      "55/55 [==============================] - 18s 322ms/step - loss: 0.7236 - accuracy: 0.7193 - val_loss: 0.7984 - val_accuracy: 0.6879\n",
      "Epoch 7/20\n",
      "55/55 [==============================] - 18s 323ms/step - loss: 0.6860 - accuracy: 0.7327 - val_loss: 0.7932 - val_accuracy: 0.6851\n",
      "Epoch 8/20\n",
      "55/55 [==============================] - 18s 320ms/step - loss: 0.6826 - accuracy: 0.7371 - val_loss: 0.7292 - val_accuracy: 0.7225\n",
      "Epoch 9/20\n",
      "55/55 [==============================] - 17s 318ms/step - loss: 0.6618 - accuracy: 0.7487 - val_loss: 0.7265 - val_accuracy: 0.7272\n",
      "Epoch 10/20\n",
      "55/55 [==============================] - 17s 318ms/step - loss: 0.6325 - accuracy: 0.7581 - val_loss: 0.7766 - val_accuracy: 0.7154\n",
      "Epoch 11/20\n",
      "55/55 [==============================] - 17s 318ms/step - loss: 0.6040 - accuracy: 0.7696 - val_loss: 0.7070 - val_accuracy: 0.7325\n",
      "Epoch 12/20\n",
      "55/55 [==============================] - 18s 319ms/step - loss: 0.5811 - accuracy: 0.7809 - val_loss: 0.7249 - val_accuracy: 0.7322\n",
      "Epoch 13/20\n",
      "55/55 [==============================] - 20s 365ms/step - loss: 0.5691 - accuracy: 0.7821 - val_loss: 0.8235 - val_accuracy: 0.6815\n",
      "Epoch 14/20\n",
      "55/55 [==============================] - 19s 337ms/step - loss: 0.5448 - accuracy: 0.7933 - val_loss: 0.7487 - val_accuracy: 0.7129\n",
      "Epoch 15/20\n",
      "55/55 [==============================] - 18s 321ms/step - loss: 0.5257 - accuracy: 0.8054 - val_loss: 0.8158 - val_accuracy: 0.6979\n",
      "Epoch 16/20\n",
      "55/55 [==============================] - 18s 320ms/step - loss: 0.5074 - accuracy: 0.8091 - val_loss: 0.8471 - val_accuracy: 0.6833\n",
      "Epoch 17/20\n",
      "55/55 [==============================] - 18s 321ms/step - loss: 0.4983 - accuracy: 0.8114 - val_loss: 0.7642 - val_accuracy: 0.7172\n",
      "Epoch 18/20\n",
      "55/55 [==============================] - 18s 321ms/step - loss: 0.4684 - accuracy: 0.8274 - val_loss: 0.8835 - val_accuracy: 0.6894\n",
      "Epoch 19/20\n",
      "55/55 [==============================] - 18s 328ms/step - loss: 0.4443 - accuracy: 0.8411 - val_loss: 0.8346 - val_accuracy: 0.6833\n",
      "Epoch 20/20\n",
      "55/55 [==============================] - 18s 323ms/step - loss: 0.4287 - accuracy: 0.8447 - val_loss: 1.1799 - val_accuracy: 0.5917\n",
      "Duration: 0:05:57.855470\n"
     ]
    },
    {
     "data": {
      "text/plain": [
       "<keras.callbacks.History at 0x265fc75e7f0>"
      ]
     },
     "execution_count": 42,
     "metadata": {},
     "output_type": "execute_result"
    }
   ],
   "source": [
    "n = 9\n",
    "models_lsa[n].fit_model(image_sets_lsa[n],label_sets_lsa[n],x_val,y_val,epochs=20,batch_size = 128)"
   ]
  },
  {
   "cell_type": "code",
   "execution_count": 43,
   "id": "45274d90",
   "metadata": {},
   "outputs": [
    {
     "name": "stdout",
     "output_type": "stream",
     "text": [
      "Epoch 1/20\n",
      "61/61 [==============================] - 22s 328ms/step - loss: 0.9818 - accuracy: 0.6234 - val_loss: 0.8760 - val_accuracy: 0.7040\n",
      "Epoch 2/20\n",
      "61/61 [==============================] - 19s 315ms/step - loss: 0.8478 - accuracy: 0.6725 - val_loss: 0.8838 - val_accuracy: 0.6737\n",
      "Epoch 3/20\n",
      "61/61 [==============================] - 19s 315ms/step - loss: 0.8165 - accuracy: 0.6843 - val_loss: 0.8286 - val_accuracy: 0.6648\n",
      "Epoch 4/20\n",
      "61/61 [==============================] - 19s 315ms/step - loss: 0.7676 - accuracy: 0.7048 - val_loss: 0.9776 - val_accuracy: 0.6316\n",
      "Epoch 5/20\n",
      "61/61 [==============================] - 19s 317ms/step - loss: 0.7404 - accuracy: 0.7144 - val_loss: 1.0183 - val_accuracy: 0.5981\n",
      "Epoch 6/20\n",
      "61/61 [==============================] - 19s 318ms/step - loss: 0.7205 - accuracy: 0.7239 - val_loss: 0.7239 - val_accuracy: 0.7290\n",
      "Epoch 7/20\n",
      "61/61 [==============================] - 19s 317ms/step - loss: 0.6916 - accuracy: 0.7312 - val_loss: 0.9580 - val_accuracy: 0.6202\n",
      "Epoch 8/20\n",
      "61/61 [==============================] - 19s 315ms/step - loss: 0.6731 - accuracy: 0.7414 - val_loss: 0.8468 - val_accuracy: 0.6698\n",
      "Epoch 9/20\n",
      "61/61 [==============================] - 20s 327ms/step - loss: 0.6428 - accuracy: 0.7513 - val_loss: 0.9564 - val_accuracy: 0.6384\n",
      "Epoch 10/20\n",
      "61/61 [==============================] - 19s 317ms/step - loss: 0.6183 - accuracy: 0.7684 - val_loss: 0.7993 - val_accuracy: 0.7019\n",
      "Epoch 11/20\n",
      "61/61 [==============================] - 19s 315ms/step - loss: 0.5842 - accuracy: 0.7777 - val_loss: 0.7108 - val_accuracy: 0.7400\n",
      "Epoch 12/20\n",
      "61/61 [==============================] - 19s 314ms/step - loss: 0.5809 - accuracy: 0.7805 - val_loss: 1.0145 - val_accuracy: 0.5909\n",
      "Epoch 13/20\n",
      "61/61 [==============================] - 19s 317ms/step - loss: 0.5649 - accuracy: 0.7871 - val_loss: 0.7320 - val_accuracy: 0.7215\n",
      "Epoch 14/20\n",
      "61/61 [==============================] - 20s 320ms/step - loss: 0.5305 - accuracy: 0.7935 - val_loss: 0.9582 - val_accuracy: 0.6312\n",
      "Epoch 15/20\n",
      "61/61 [==============================] - 21s 345ms/step - loss: 0.5214 - accuracy: 0.8048 - val_loss: 0.8126 - val_accuracy: 0.7061\n",
      "Epoch 16/20\n",
      "61/61 [==============================] - 19s 314ms/step - loss: 0.4982 - accuracy: 0.8162 - val_loss: 0.9771 - val_accuracy: 0.6608\n",
      "Epoch 17/20\n",
      "61/61 [==============================] - 19s 316ms/step - loss: 0.4816 - accuracy: 0.8183 - val_loss: 0.8599 - val_accuracy: 0.6979\n",
      "Epoch 18/20\n",
      "61/61 [==============================] - 19s 313ms/step - loss: 0.4671 - accuracy: 0.8205 - val_loss: 0.8884 - val_accuracy: 0.6580\n",
      "Epoch 19/20\n",
      "61/61 [==============================] - 19s 316ms/step - loss: 0.4463 - accuracy: 0.8353 - val_loss: 1.0291 - val_accuracy: 0.6437\n",
      "Epoch 20/20\n",
      "61/61 [==============================] - 19s 318ms/step - loss: 0.4467 - accuracy: 0.8357 - val_loss: 1.0232 - val_accuracy: 0.6427\n",
      "Duration: 0:06:29.986582\n"
     ]
    },
    {
     "data": {
      "text/plain": [
       "<keras.callbacks.History at 0x265dfc5a4f0>"
      ]
     },
     "execution_count": 43,
     "metadata": {},
     "output_type": "execute_result"
    }
   ],
   "source": [
    "n = 10\n",
    "models_lsa[n].fit_model(image_sets_lsa[n],label_sets_lsa[n],x_val,y_val,epochs=20,batch_size = 128)"
   ]
  },
  {
   "cell_type": "code",
   "execution_count": 44,
   "id": "96b770cc",
   "metadata": {},
   "outputs": [
    {
     "name": "stdout",
     "output_type": "stream",
     "text": [
      "Epoch 1/20\n",
      "66/66 [==============================] - 23s 319ms/step - loss: 0.9548 - accuracy: 0.6389 - val_loss: 0.8210 - val_accuracy: 0.7154\n",
      "Epoch 2/20\n",
      "66/66 [==============================] - 21s 313ms/step - loss: 0.8450 - accuracy: 0.6792 - val_loss: 0.8767 - val_accuracy: 0.6537\n",
      "Epoch 3/20\n",
      "66/66 [==============================] - 21s 313ms/step - loss: 0.7912 - accuracy: 0.6932 - val_loss: 0.7726 - val_accuracy: 0.7133\n",
      "Epoch 4/20\n",
      "66/66 [==============================] - 21s 311ms/step - loss: 0.7552 - accuracy: 0.7118 - val_loss: 0.7189 - val_accuracy: 0.7536\n",
      "Epoch 5/20\n",
      "66/66 [==============================] - 21s 312ms/step - loss: 0.7471 - accuracy: 0.7175 - val_loss: 0.8621 - val_accuracy: 0.6665\n",
      "Epoch 6/20\n",
      "66/66 [==============================] - 20s 311ms/step - loss: 0.6959 - accuracy: 0.7344 - val_loss: 0.7927 - val_accuracy: 0.6819\n",
      "Epoch 7/20\n",
      "66/66 [==============================] - 21s 311ms/step - loss: 0.6828 - accuracy: 0.7392 - val_loss: 0.7152 - val_accuracy: 0.7225\n",
      "Epoch 8/20\n",
      "66/66 [==============================] - 21s 311ms/step - loss: 0.6529 - accuracy: 0.7513 - val_loss: 0.7717 - val_accuracy: 0.7022\n",
      "Epoch 9/20\n",
      "66/66 [==============================] - 21s 312ms/step - loss: 0.6426 - accuracy: 0.7585 - val_loss: 0.8844 - val_accuracy: 0.6391\n",
      "Epoch 10/20\n",
      "66/66 [==============================] - 21s 316ms/step - loss: 0.6073 - accuracy: 0.7699 - val_loss: 0.6602 - val_accuracy: 0.7671\n",
      "Epoch 11/20\n",
      "66/66 [==============================] - 21s 313ms/step - loss: 0.5829 - accuracy: 0.7812 - val_loss: 0.7941 - val_accuracy: 0.7022\n",
      "Epoch 12/20\n",
      "66/66 [==============================] - 21s 315ms/step - loss: 0.5786 - accuracy: 0.7849 - val_loss: 0.7342 - val_accuracy: 0.7222\n",
      "Epoch 13/20\n",
      "66/66 [==============================] - 21s 311ms/step - loss: 0.5437 - accuracy: 0.7992 - val_loss: 0.7949 - val_accuracy: 0.6947\n",
      "Epoch 14/20\n",
      "66/66 [==============================] - 21s 312ms/step - loss: 0.5331 - accuracy: 0.8021 - val_loss: 0.7667 - val_accuracy: 0.7108\n",
      "Epoch 15/20\n",
      "66/66 [==============================] - 20s 311ms/step - loss: 0.5034 - accuracy: 0.8098 - val_loss: 0.9727 - val_accuracy: 0.6434\n",
      "Epoch 16/20\n",
      "66/66 [==============================] - 21s 312ms/step - loss: 0.5098 - accuracy: 0.8125 - val_loss: 0.8025 - val_accuracy: 0.6958\n",
      "Epoch 17/20\n",
      "66/66 [==============================] - 21s 313ms/step - loss: 0.4842 - accuracy: 0.8212 - val_loss: 0.8357 - val_accuracy: 0.6644\n",
      "Epoch 18/20\n",
      "66/66 [==============================] - 21s 324ms/step - loss: 0.4674 - accuracy: 0.8270 - val_loss: 0.8785 - val_accuracy: 0.6680\n",
      "Epoch 19/20\n",
      "66/66 [==============================] - 21s 320ms/step - loss: 0.4677 - accuracy: 0.8275 - val_loss: 0.9145 - val_accuracy: 0.6865\n",
      "Epoch 20/20\n",
      "66/66 [==============================] - 21s 322ms/step - loss: 0.4308 - accuracy: 0.8414 - val_loss: 0.9848 - val_accuracy: 0.6573\n",
      "Duration: 0:06:56.196394\n"
     ]
    },
    {
     "data": {
      "text/plain": [
       "<keras.callbacks.History at 0x265ff134430>"
      ]
     },
     "execution_count": 44,
     "metadata": {},
     "output_type": "execute_result"
    }
   ],
   "source": [
    "n = 11\n",
    "models_lsa[n].fit_model(image_sets_lsa[n],label_sets_lsa[n],x_val,y_val,epochs=20,batch_size = 128)"
   ]
  },
  {
   "cell_type": "code",
   "execution_count": 45,
   "id": "922b3b8d",
   "metadata": {
    "scrolled": true
   },
   "outputs": [
    {
     "name": "stdout",
     "output_type": "stream",
     "text": [
      "Epoch 1/20\n",
      "72/72 [==============================] - 24s 307ms/step - loss: 0.9401 - accuracy: 0.6445 - val_loss: 0.7893 - val_accuracy: 0.7072\n",
      "Epoch 2/20\n",
      "72/72 [==============================] - 22s 307ms/step - loss: 0.8291 - accuracy: 0.6824 - val_loss: 0.8862 - val_accuracy: 0.6751\n",
      "Epoch 3/20\n",
      "72/72 [==============================] - 23s 317ms/step - loss: 0.7826 - accuracy: 0.7012 - val_loss: 0.8630 - val_accuracy: 0.6673\n",
      "Epoch 4/20\n",
      "72/72 [==============================] - 22s 301ms/step - loss: 0.7521 - accuracy: 0.7115 - val_loss: 0.7412 - val_accuracy: 0.7193\n",
      "Epoch 5/20\n",
      "72/72 [==============================] - 22s 302ms/step - loss: 0.7211 - accuracy: 0.7263 - val_loss: 0.7178 - val_accuracy: 0.7504\n",
      "Epoch 6/20\n",
      "72/72 [==============================] - 22s 301ms/step - loss: 0.7102 - accuracy: 0.7326 - val_loss: 0.7650 - val_accuracy: 0.7004\n",
      "Epoch 7/20\n",
      "72/72 [==============================] - 22s 302ms/step - loss: 0.6792 - accuracy: 0.7409 - val_loss: 0.8653 - val_accuracy: 0.6865\n",
      "Epoch 8/20\n",
      "72/72 [==============================] - 22s 302ms/step - loss: 0.6674 - accuracy: 0.7451 - val_loss: 0.6719 - val_accuracy: 0.7575\n",
      "Epoch 9/20\n",
      "72/72 [==============================] - 22s 302ms/step - loss: 0.6289 - accuracy: 0.7598 - val_loss: 1.2657 - val_accuracy: 0.5624\n",
      "Epoch 10/20\n",
      "72/72 [==============================] - 22s 301ms/step - loss: 0.6141 - accuracy: 0.7649 - val_loss: 0.7711 - val_accuracy: 0.7126\n",
      "Epoch 11/20\n",
      "72/72 [==============================] - 22s 303ms/step - loss: 0.6041 - accuracy: 0.7664 - val_loss: 0.9243 - val_accuracy: 0.6651\n",
      "Epoch 12/20\n",
      "72/72 [==============================] - 22s 302ms/step - loss: 0.5900 - accuracy: 0.7777 - val_loss: 1.0059 - val_accuracy: 0.6494\n",
      "Epoch 13/20\n",
      "72/72 [==============================] - 22s 301ms/step - loss: 0.5598 - accuracy: 0.7838 - val_loss: 0.9711 - val_accuracy: 0.6919\n",
      "Epoch 14/20\n",
      "72/72 [==============================] - 22s 311ms/step - loss: 0.5433 - accuracy: 0.7931 - val_loss: 0.7862 - val_accuracy: 0.6947\n",
      "Epoch 15/20\n",
      "72/72 [==============================] - 22s 312ms/step - loss: 0.5328 - accuracy: 0.7989 - val_loss: 0.7691 - val_accuracy: 0.7229\n",
      "Epoch 16/20\n",
      "72/72 [==============================] - 23s 326ms/step - loss: 0.5070 - accuracy: 0.8111 - val_loss: 1.1300 - val_accuracy: 0.6106\n",
      "Epoch 17/20\n",
      "72/72 [==============================] - 23s 314ms/step - loss: 0.5076 - accuracy: 0.8145 - val_loss: 0.8347 - val_accuracy: 0.7111\n",
      "Epoch 18/20\n",
      "72/72 [==============================] - 22s 307ms/step - loss: 0.4831 - accuracy: 0.8187 - val_loss: 0.7321 - val_accuracy: 0.7350\n",
      "Epoch 19/20\n",
      "72/72 [==============================] - 22s 304ms/step - loss: 0.4681 - accuracy: 0.8249 - val_loss: 0.9948 - val_accuracy: 0.7076\n",
      "Epoch 20/20\n",
      "72/72 [==============================] - 22s 303ms/step - loss: 0.4431 - accuracy: 0.8351 - val_loss: 0.8727 - val_accuracy: 0.7101\n",
      "Duration: 0:07:22.767589\n"
     ]
    },
    {
     "data": {
      "text/plain": [
       "<keras.callbacks.History at 0x265cbf496a0>"
      ]
     },
     "execution_count": 45,
     "metadata": {},
     "output_type": "execute_result"
    }
   ],
   "source": [
    "n = 12\n",
    "models_lsa[n].fit_model(image_sets_lsa[n],label_sets_lsa[n],x_val,y_val,epochs=20,batch_size = 128)"
   ]
  },
  {
   "cell_type": "code",
   "execution_count": 50,
   "id": "c5cde6aa",
   "metadata": {},
   "outputs": [
    {
     "name": "stdout",
     "output_type": "stream",
     "text": [
      "Model loaded correctly\n",
      "Model compiled\n",
      "Model loaded correctly\n",
      "Model compiled\n"
     ]
    }
   ],
   "source": [
    "models_lsa[13] = utils.My_model('intel',True,model_dir)\n",
    "models_lsa[13].compile_model()\n",
    "models_lsa[14] = utils.My_model('intel',True,model_dir)\n",
    "models_lsa[14].compile_model()"
   ]
  },
  {
   "cell_type": "code",
   "execution_count": 51,
   "id": "8e1d1d52",
   "metadata": {},
   "outputs": [
    {
     "name": "stdout",
     "output_type": "stream",
     "text": [
      "Epoch 1/20\n",
      "77/77 [==============================] - 25s 303ms/step - loss: 1.0739 - accuracy: 0.6188 - val_loss: 0.8010 - val_accuracy: 0.7150\n",
      "Epoch 2/20\n",
      "77/77 [==============================] - 23s 297ms/step - loss: 0.8105 - accuracy: 0.6902 - val_loss: 0.6996 - val_accuracy: 0.7361\n",
      "Epoch 3/20\n",
      "77/77 [==============================] - 23s 298ms/step - loss: 0.7501 - accuracy: 0.7111 - val_loss: 0.6619 - val_accuracy: 0.7461\n",
      "Epoch 4/20\n",
      "77/77 [==============================] - 23s 297ms/step - loss: 0.7336 - accuracy: 0.7264 - val_loss: 0.7042 - val_accuracy: 0.7293\n",
      "Epoch 5/20\n",
      "77/77 [==============================] - 23s 302ms/step - loss: 0.7178 - accuracy: 0.7375 - val_loss: 0.7076 - val_accuracy: 0.7386\n",
      "Epoch 6/20\n",
      "77/77 [==============================] - 23s 300ms/step - loss: 0.6841 - accuracy: 0.7435 - val_loss: 0.8195 - val_accuracy: 0.7090\n",
      "Epoch 7/20\n",
      "77/77 [==============================] - 23s 300ms/step - loss: 0.6774 - accuracy: 0.7502 - val_loss: 0.7132 - val_accuracy: 0.7343\n",
      "Epoch 8/20\n",
      "77/77 [==============================] - 23s 300ms/step - loss: 0.6296 - accuracy: 0.7672 - val_loss: 0.6941 - val_accuracy: 0.7411\n",
      "Epoch 9/20\n",
      "77/77 [==============================] - 23s 300ms/step - loss: 0.6345 - accuracy: 0.7650 - val_loss: 0.8884 - val_accuracy: 0.6701\n",
      "Epoch 10/20\n",
      "77/77 [==============================] - 23s 304ms/step - loss: 0.5743 - accuracy: 0.7900 - val_loss: 0.7081 - val_accuracy: 0.7382\n",
      "Epoch 11/20\n",
      "77/77 [==============================] - 24s 309ms/step - loss: 0.5951 - accuracy: 0.7761 - val_loss: 0.6866 - val_accuracy: 0.7479\n",
      "Epoch 12/20\n",
      "77/77 [==============================] - 23s 304ms/step - loss: 0.5808 - accuracy: 0.7827 - val_loss: 0.6869 - val_accuracy: 0.7414\n",
      "Epoch 13/20\n",
      "77/77 [==============================] - 23s 300ms/step - loss: 0.5275 - accuracy: 0.8058 - val_loss: 0.7015 - val_accuracy: 0.7343\n",
      "Epoch 14/20\n",
      "77/77 [==============================] - 23s 305ms/step - loss: 0.5109 - accuracy: 0.8047 - val_loss: 0.7457 - val_accuracy: 0.7343\n",
      "Epoch 15/20\n",
      "77/77 [==============================] - 23s 300ms/step - loss: 0.5065 - accuracy: 0.8182 - val_loss: 0.7865 - val_accuracy: 0.7329\n",
      "Epoch 16/20\n",
      "77/77 [==============================] - 24s 306ms/step - loss: 0.5004 - accuracy: 0.8094 - val_loss: 0.8880 - val_accuracy: 0.7047\n",
      "Epoch 17/20\n",
      "77/77 [==============================] - 23s 301ms/step - loss: 0.4674 - accuracy: 0.8325 - val_loss: 0.8937 - val_accuracy: 0.6983\n",
      "Epoch 18/20\n",
      "77/77 [==============================] - 23s 301ms/step - loss: 0.4776 - accuracy: 0.8241 - val_loss: 0.9107 - val_accuracy: 0.7154\n",
      "Epoch 19/20\n",
      "77/77 [==============================] - 23s 299ms/step - loss: 0.4562 - accuracy: 0.8317 - val_loss: 0.7944 - val_accuracy: 0.7247\n",
      "Epoch 20/20\n",
      "77/77 [==============================] - 23s 299ms/step - loss: 0.4305 - accuracy: 0.8440 - val_loss: 1.0069 - val_accuracy: 0.6890\n",
      "Duration: 0:07:45.186916\n"
     ]
    },
    {
     "data": {
      "text/plain": [
       "<keras.callbacks.History at 0x265ff2067f0>"
      ]
     },
     "execution_count": 51,
     "metadata": {},
     "output_type": "execute_result"
    }
   ],
   "source": [
    "n = 13\n",
    "models_lsa[n].fit_model(image_sets_lsa[n],label_sets_lsa[n],x_val,y_val,epochs=20,batch_size = 128)"
   ]
  },
  {
   "cell_type": "code",
   "execution_count": 52,
   "id": "438cef1f",
   "metadata": {},
   "outputs": [
    {
     "name": "stdout",
     "output_type": "stream",
     "text": [
      "Epoch 1/20\n",
      "83/83 [==============================] - 26s 299ms/step - loss: 0.9787 - accuracy: 0.6390 - val_loss: 1.0858 - val_accuracy: 0.6159\n",
      "Epoch 2/20\n",
      "83/83 [==============================] - 24s 293ms/step - loss: 0.8370 - accuracy: 0.6831 - val_loss: 0.7888 - val_accuracy: 0.7297\n",
      "Epoch 3/20\n",
      "83/83 [==============================] - 25s 295ms/step - loss: 0.8074 - accuracy: 0.6955 - val_loss: 0.8777 - val_accuracy: 0.6776\n",
      "Epoch 4/20\n",
      "83/83 [==============================] - 24s 294ms/step - loss: 0.7663 - accuracy: 0.7121 - val_loss: 0.8881 - val_accuracy: 0.6904\n",
      "Epoch 5/20\n",
      "83/83 [==============================] - 25s 296ms/step - loss: 0.7507 - accuracy: 0.7155 - val_loss: 0.8028 - val_accuracy: 0.7186\n",
      "Epoch 6/20\n",
      "83/83 [==============================] - 25s 296ms/step - loss: 0.7325 - accuracy: 0.7294 - val_loss: 1.7042 - val_accuracy: 0.4786\n",
      "Epoch 7/20\n",
      "83/83 [==============================] - 24s 294ms/step - loss: 0.7233 - accuracy: 0.7327 - val_loss: 0.7150 - val_accuracy: 0.7489\n",
      "Epoch 8/20\n",
      "83/83 [==============================] - 24s 295ms/step - loss: 0.6633 - accuracy: 0.7476 - val_loss: 1.0785 - val_accuracy: 0.6262\n",
      "Epoch 9/20\n",
      "83/83 [==============================] - 25s 307ms/step - loss: 0.6621 - accuracy: 0.7548 - val_loss: 1.0198 - val_accuracy: 0.6544\n",
      "Epoch 10/20\n",
      "83/83 [==============================] - 25s 302ms/step - loss: 0.6573 - accuracy: 0.7578 - val_loss: 0.7187 - val_accuracy: 0.7257\n",
      "Epoch 11/20\n",
      "83/83 [==============================] - 25s 297ms/step - loss: 0.6141 - accuracy: 0.7669 - val_loss: 0.6917 - val_accuracy: 0.7600\n",
      "Epoch 12/20\n",
      "83/83 [==============================] - 26s 313ms/step - loss: 0.5857 - accuracy: 0.7832 - val_loss: 0.8734 - val_accuracy: 0.6715\n",
      "Epoch 13/20\n",
      "83/83 [==============================] - 30s 361ms/step - loss: 0.5884 - accuracy: 0.7771 - val_loss: 0.6749 - val_accuracy: 0.7564\n",
      "Epoch 14/20\n",
      "83/83 [==============================] - 29s 347ms/step - loss: 0.5498 - accuracy: 0.7909 - val_loss: 0.8043 - val_accuracy: 0.7093\n",
      "Epoch 15/20\n",
      "83/83 [==============================] - 27s 332ms/step - loss: 0.5506 - accuracy: 0.7918 - val_loss: 0.9964 - val_accuracy: 0.6516\n",
      "Epoch 16/20\n",
      "83/83 [==============================] - 28s 332ms/step - loss: 0.5479 - accuracy: 0.7937 - val_loss: 0.6900 - val_accuracy: 0.7557\n",
      "Epoch 17/20\n",
      "83/83 [==============================] - 27s 321ms/step - loss: 0.5188 - accuracy: 0.8117 - val_loss: 0.9152 - val_accuracy: 0.7033\n",
      "Epoch 18/20\n",
      "83/83 [==============================] - 26s 318ms/step - loss: 0.5052 - accuracy: 0.8134 - val_loss: 0.6837 - val_accuracy: 0.7589\n",
      "Epoch 19/20\n",
      "83/83 [==============================] - 26s 315ms/step - loss: 0.4771 - accuracy: 0.8185 - val_loss: 0.8107 - val_accuracy: 0.7033\n",
      "Epoch 20/20\n",
      "83/83 [==============================] - 26s 312ms/step - loss: 0.4839 - accuracy: 0.8226 - val_loss: 0.8726 - val_accuracy: 0.7133\n",
      "Duration: 0:08:37.667555\n"
     ]
    },
    {
     "data": {
      "text/plain": [
       "<keras.callbacks.History at 0x265e9a407f0>"
      ]
     },
     "execution_count": 52,
     "metadata": {},
     "output_type": "execute_result"
    }
   ],
   "source": [
    "n = 14\n",
    "models_lsa[n].fit_model(image_sets_lsa[n],label_sets_lsa[n],x_val,y_val,epochs=20,batch_size = 128)"
   ]
  },
  {
   "cell_type": "code",
   "execution_count": 53,
   "id": "f63fe796",
   "metadata": {
    "scrolled": true
   },
   "outputs": [
    {
     "name": "stdout",
     "output_type": "stream",
     "text": [
      "Epoch 1/20\n",
      "88/88 [==============================] - 28s 298ms/step - loss: 0.9273 - accuracy: 0.6525 - val_loss: 0.6116 - val_accuracy: 0.7846\n",
      "Epoch 2/20\n",
      "88/88 [==============================] - 26s 299ms/step - loss: 0.8230 - accuracy: 0.6817 - val_loss: 0.7093 - val_accuracy: 0.7361\n",
      "Epoch 3/20\n",
      "88/88 [==============================] - 26s 295ms/step - loss: 0.7700 - accuracy: 0.7038 - val_loss: 0.6230 - val_accuracy: 0.7832\n",
      "Epoch 4/20\n",
      "88/88 [==============================] - 27s 302ms/step - loss: 0.7625 - accuracy: 0.7092 - val_loss: 0.6244 - val_accuracy: 0.7743\n",
      "Epoch 5/20\n",
      "88/88 [==============================] - 26s 298ms/step - loss: 0.7274 - accuracy: 0.7221 - val_loss: 0.6227 - val_accuracy: 0.7743\n",
      "Epoch 6/20\n",
      "88/88 [==============================] - 26s 297ms/step - loss: 0.7131 - accuracy: 0.7278 - val_loss: 0.7245 - val_accuracy: 0.7364\n",
      "Epoch 7/20\n",
      "88/88 [==============================] - 26s 296ms/step - loss: 0.6896 - accuracy: 0.7377 - val_loss: 0.5607 - val_accuracy: 0.7971\n",
      "Epoch 8/20\n",
      "88/88 [==============================] - 26s 296ms/step - loss: 0.6662 - accuracy: 0.7477 - val_loss: 0.5727 - val_accuracy: 0.7964\n",
      "Epoch 9/20\n",
      "88/88 [==============================] - 26s 295ms/step - loss: 0.6445 - accuracy: 0.7544 - val_loss: 0.7508 - val_accuracy: 0.7282\n",
      "Epoch 10/20\n",
      "88/88 [==============================] - 26s 301ms/step - loss: 0.6208 - accuracy: 0.7618 - val_loss: 0.5680 - val_accuracy: 0.7989\n",
      "Epoch 11/20\n",
      "88/88 [==============================] - 26s 297ms/step - loss: 0.6101 - accuracy: 0.7638 - val_loss: 0.6879 - val_accuracy: 0.7482\n",
      "Epoch 12/20\n",
      "88/88 [==============================] - 26s 295ms/step - loss: 0.5974 - accuracy: 0.7754 - val_loss: 0.7721 - val_accuracy: 0.7275\n",
      "Epoch 13/20\n",
      "88/88 [==============================] - 26s 301ms/step - loss: 0.5695 - accuracy: 0.7873 - val_loss: 0.6459 - val_accuracy: 0.7807\n",
      "Epoch 14/20\n",
      "88/88 [==============================] - 27s 311ms/step - loss: 0.5698 - accuracy: 0.7831 - val_loss: 0.6375 - val_accuracy: 0.7746\n",
      "Epoch 15/20\n",
      "88/88 [==============================] - 30s 337ms/step - loss: 0.5560 - accuracy: 0.7921 - val_loss: 0.6152 - val_accuracy: 0.7807\n",
      "Epoch 16/20\n",
      "88/88 [==============================] - 27s 307ms/step - loss: 0.5351 - accuracy: 0.7998 - val_loss: 0.6096 - val_accuracy: 0.7746\n",
      "Epoch 17/20\n",
      "88/88 [==============================] - 27s 306ms/step - loss: 0.5106 - accuracy: 0.8052 - val_loss: 0.5741 - val_accuracy: 0.7989\n",
      "Epoch 18/20\n",
      "88/88 [==============================] - 26s 297ms/step - loss: 0.4980 - accuracy: 0.8141 - val_loss: 0.7270 - val_accuracy: 0.7511\n",
      "Epoch 19/20\n",
      "88/88 [==============================] - 28s 318ms/step - loss: 0.4876 - accuracy: 0.8163 - val_loss: 0.7024 - val_accuracy: 0.7571\n",
      "Epoch 20/20\n",
      "88/88 [==============================] - 27s 308ms/step - loss: 0.4721 - accuracy: 0.8275 - val_loss: 0.6239 - val_accuracy: 0.7867\n",
      "Duration: 0:08:53.923035\n"
     ]
    },
    {
     "data": {
      "text/plain": [
       "<keras.callbacks.History at 0x26533ef1310>"
      ]
     },
     "execution_count": 53,
     "metadata": {},
     "output_type": "execute_result"
    }
   ],
   "source": [
    "n = 15\n",
    "models_lsa[n].fit_model(image_sets_lsa[n],label_sets_lsa[n],x_val,y_val,epochs=20,batch_size = 128)"
   ]
  },
  {
   "cell_type": "code",
   "execution_count": 54,
   "id": "6db0fa02",
   "metadata": {},
   "outputs": [
    {
     "name": "stdout",
     "output_type": "stream",
     "text": [
      "Epoch 1/20\n",
      "93/93 [==============================] - 32s 325ms/step - loss: 0.8866 - accuracy: 0.6546 - val_loss: 0.5979 - val_accuracy: 0.7946\n",
      "Epoch 2/20\n",
      "93/93 [==============================] - 28s 297ms/step - loss: 0.7942 - accuracy: 0.6920 - val_loss: 0.5786 - val_accuracy: 0.7939\n",
      "Epoch 3/20\n",
      "93/93 [==============================] - 28s 300ms/step - loss: 0.7695 - accuracy: 0.7046 - val_loss: 0.6349 - val_accuracy: 0.7728\n",
      "Epoch 4/20\n",
      "93/93 [==============================] - 28s 302ms/step - loss: 0.7495 - accuracy: 0.7088 - val_loss: 0.6135 - val_accuracy: 0.7867\n",
      "Epoch 5/20\n",
      "93/93 [==============================] - 28s 296ms/step - loss: 0.7141 - accuracy: 0.7229 - val_loss: 0.5786 - val_accuracy: 0.7960\n",
      "Epoch 6/20\n",
      "93/93 [==============================] - 28s 296ms/step - loss: 0.7122 - accuracy: 0.7282 - val_loss: 0.7061 - val_accuracy: 0.7571\n",
      "Epoch 7/20\n",
      "93/93 [==============================] - 27s 295ms/step - loss: 0.6698 - accuracy: 0.7424 - val_loss: 0.6325 - val_accuracy: 0.7921\n",
      "Epoch 8/20\n",
      "93/93 [==============================] - 28s 296ms/step - loss: 0.6544 - accuracy: 0.7504 - val_loss: 0.6262 - val_accuracy: 0.7889\n",
      "Epoch 9/20\n",
      "93/93 [==============================] - 27s 294ms/step - loss: 0.6428 - accuracy: 0.7571 - val_loss: 0.5638 - val_accuracy: 0.8049\n",
      "Epoch 10/20\n",
      "93/93 [==============================] - 27s 295ms/step - loss: 0.6203 - accuracy: 0.7643 - val_loss: 0.5686 - val_accuracy: 0.7989\n",
      "Epoch 11/20\n",
      "93/93 [==============================] - 27s 294ms/step - loss: 0.6001 - accuracy: 0.7725 - val_loss: 0.5473 - val_accuracy: 0.8113\n",
      "Epoch 12/20\n",
      "93/93 [==============================] - 28s 296ms/step - loss: 0.5898 - accuracy: 0.7775 - val_loss: 0.7342 - val_accuracy: 0.7364\n",
      "Epoch 13/20\n",
      "93/93 [==============================] - 28s 296ms/step - loss: 0.5629 - accuracy: 0.7845 - val_loss: 0.5657 - val_accuracy: 0.8060\n",
      "Epoch 14/20\n",
      "93/93 [==============================] - 28s 298ms/step - loss: 0.5516 - accuracy: 0.7915 - val_loss: 0.5663 - val_accuracy: 0.8063\n",
      "Epoch 15/20\n",
      "93/93 [==============================] - 27s 295ms/step - loss: 0.5368 - accuracy: 0.7998 - val_loss: 0.6395 - val_accuracy: 0.7871\n",
      "Epoch 16/20\n",
      "93/93 [==============================] - 27s 295ms/step - loss: 0.5274 - accuracy: 0.8016 - val_loss: 0.6700 - val_accuracy: 0.7718\n",
      "Epoch 17/20\n",
      "93/93 [==============================] - 27s 295ms/step - loss: 0.5096 - accuracy: 0.8079 - val_loss: 0.6590 - val_accuracy: 0.7767\n",
      "Epoch 18/20\n",
      "93/93 [==============================] - 27s 295ms/step - loss: 0.5038 - accuracy: 0.8119 - val_loss: 0.6921 - val_accuracy: 0.7571\n",
      "Epoch 19/20\n",
      "93/93 [==============================] - 28s 297ms/step - loss: 0.4899 - accuracy: 0.8163 - val_loss: 0.5883 - val_accuracy: 0.7999\n",
      "Epoch 20/20\n",
      "93/93 [==============================] - 29s 317ms/step - loss: 0.4816 - accuracy: 0.8186 - val_loss: 0.7103 - val_accuracy: 0.7657\n",
      "Duration: 0:09:17.186845\n"
     ]
    },
    {
     "data": {
      "text/plain": [
       "<keras.callbacks.History at 0x265e87bd3a0>"
      ]
     },
     "execution_count": 54,
     "metadata": {},
     "output_type": "execute_result"
    }
   ],
   "source": [
    "n = 16\n",
    "models_lsa[n].fit_model(image_sets_lsa[n],label_sets_lsa[n],x_val,y_val,epochs=20,batch_size = 128)"
   ]
  },
  {
   "cell_type": "code",
   "execution_count": 55,
   "id": "07efc06d",
   "metadata": {},
   "outputs": [
    {
     "name": "stdout",
     "output_type": "stream",
     "text": [
      "Epoch 1/20\n",
      "99/99 [==============================] - 39s 363ms/step - loss: 0.8981 - accuracy: 0.6487 - val_loss: 0.7695 - val_accuracy: 0.7183\n",
      "Epoch 2/20\n",
      "99/99 [==============================] - 31s 314ms/step - loss: 0.8266 - accuracy: 0.6824 - val_loss: 0.7250 - val_accuracy: 0.7657\n",
      "Epoch 3/20\n",
      "99/99 [==============================] - 30s 303ms/step - loss: 0.7979 - accuracy: 0.6928 - val_loss: 0.8440 - val_accuracy: 0.7197\n",
      "Epoch 4/20\n",
      "99/99 [==============================] - 30s 303ms/step - loss: 0.7620 - accuracy: 0.7057 - val_loss: 0.6930 - val_accuracy: 0.7557\n",
      "Epoch 5/20\n",
      "99/99 [==============================] - 30s 301ms/step - loss: 0.7410 - accuracy: 0.7173 - val_loss: 0.6677 - val_accuracy: 0.7874\n",
      "Epoch 6/20\n",
      "99/99 [==============================] - 30s 306ms/step - loss: 0.7115 - accuracy: 0.7278 - val_loss: 0.7550 - val_accuracy: 0.7204\n",
      "Epoch 7/20\n",
      "99/99 [==============================] - 31s 313ms/step - loss: 0.6987 - accuracy: 0.7317 - val_loss: 0.7945 - val_accuracy: 0.7350\n",
      "Epoch 8/20\n",
      "99/99 [==============================] - 29s 295ms/step - loss: 0.6788 - accuracy: 0.7446 - val_loss: 0.7411 - val_accuracy: 0.7564\n",
      "Epoch 9/20\n",
      "99/99 [==============================] - 29s 294ms/step - loss: 0.6536 - accuracy: 0.7502 - val_loss: 0.6457 - val_accuracy: 0.7767\n",
      "Epoch 10/20\n",
      "99/99 [==============================] - 29s 292ms/step - loss: 0.6356 - accuracy: 0.7603 - val_loss: 0.8298 - val_accuracy: 0.7097\n",
      "Epoch 11/20\n",
      "99/99 [==============================] - 29s 294ms/step - loss: 0.6143 - accuracy: 0.7664 - val_loss: 0.6321 - val_accuracy: 0.7917\n",
      "Epoch 12/20\n",
      "99/99 [==============================] - 29s 295ms/step - loss: 0.6045 - accuracy: 0.7694 - val_loss: 0.6097 - val_accuracy: 0.7960\n",
      "Epoch 13/20\n",
      "99/99 [==============================] - 30s 305ms/step - loss: 0.5913 - accuracy: 0.7739 - val_loss: 0.5732 - val_accuracy: 0.8078\n",
      "Epoch 14/20\n",
      "99/99 [==============================] - 32s 322ms/step - loss: 0.5599 - accuracy: 0.7868 - val_loss: 0.7784 - val_accuracy: 0.7140\n",
      "Epoch 15/20\n",
      "99/99 [==============================] - 29s 295ms/step - loss: 0.5554 - accuracy: 0.7912 - val_loss: 0.6599 - val_accuracy: 0.7718\n",
      "Epoch 16/20\n",
      "99/99 [==============================] - 29s 292ms/step - loss: 0.5463 - accuracy: 0.7955 - val_loss: 0.6533 - val_accuracy: 0.7853\n",
      "Epoch 17/20\n",
      "99/99 [==============================] - 29s 294ms/step - loss: 0.5180 - accuracy: 0.8034 - val_loss: 0.7128 - val_accuracy: 0.7354\n",
      "Epoch 18/20\n",
      "99/99 [==============================] - 29s 293ms/step - loss: 0.5105 - accuracy: 0.8109 - val_loss: 0.6191 - val_accuracy: 0.7803\n",
      "Epoch 19/20\n",
      "99/99 [==============================] - 29s 298ms/step - loss: 0.4925 - accuracy: 0.8152 - val_loss: 0.7036 - val_accuracy: 0.7643\n",
      "Epoch 20/20\n",
      "99/99 [==============================] - 29s 293ms/step - loss: 0.4897 - accuracy: 0.8140 - val_loss: 0.7342 - val_accuracy: 0.7468\n",
      "Duration: 0:10:03.315815\n"
     ]
    },
    {
     "data": {
      "text/plain": [
       "<keras.callbacks.History at 0x265d4332a60>"
      ]
     },
     "execution_count": 55,
     "metadata": {},
     "output_type": "execute_result"
    }
   ],
   "source": [
    "n = 17\n",
    "models_lsa[n].fit_model(image_sets_lsa[n],label_sets_lsa[n],x_val,y_val,epochs=20,batch_size = 128)"
   ]
  },
  {
   "cell_type": "code",
   "execution_count": 56,
   "id": "51ac5b5e",
   "metadata": {},
   "outputs": [
    {
     "name": "stdout",
     "output_type": "stream",
     "text": [
      "Epoch 1/20\n",
      "104/104 [==============================] - 32s 297ms/step - loss: 0.8969 - accuracy: 0.6632 - val_loss: 0.6320 - val_accuracy: 0.7807\n",
      "Epoch 2/20\n",
      "104/104 [==============================] - 30s 291ms/step - loss: 0.8038 - accuracy: 0.6947 - val_loss: 0.6904 - val_accuracy: 0.7582\n",
      "Epoch 3/20\n",
      "104/104 [==============================] - 30s 293ms/step - loss: 0.7664 - accuracy: 0.7074 - val_loss: 0.5988 - val_accuracy: 0.7953\n",
      "Epoch 4/20\n",
      "104/104 [==============================] - 30s 292ms/step - loss: 0.7500 - accuracy: 0.7135 - val_loss: 0.5814 - val_accuracy: 0.7996\n",
      "Epoch 5/20\n",
      "104/104 [==============================] - 30s 292ms/step - loss: 0.7146 - accuracy: 0.7235 - val_loss: 0.5815 - val_accuracy: 0.7853\n",
      "Epoch 6/20\n",
      "104/104 [==============================] - 30s 292ms/step - loss: 0.7050 - accuracy: 0.7332 - val_loss: 0.5399 - val_accuracy: 0.8092\n",
      "Epoch 7/20\n",
      "104/104 [==============================] - 30s 292ms/step - loss: 0.6797 - accuracy: 0.7403 - val_loss: 0.6413 - val_accuracy: 0.7653\n",
      "Epoch 8/20\n",
      "104/104 [==============================] - 30s 293ms/step - loss: 0.6594 - accuracy: 0.7483 - val_loss: 0.5775 - val_accuracy: 0.7999\n",
      "Epoch 9/20\n",
      "104/104 [==============================] - 30s 291ms/step - loss: 0.6330 - accuracy: 0.7614 - val_loss: 0.5925 - val_accuracy: 0.7971\n",
      "Epoch 10/20\n",
      "104/104 [==============================] - 30s 292ms/step - loss: 0.6187 - accuracy: 0.7677 - val_loss: 0.5904 - val_accuracy: 0.7835\n",
      "Epoch 11/20\n",
      "104/104 [==============================] - 31s 297ms/step - loss: 0.5903 - accuracy: 0.7782 - val_loss: 0.6443 - val_accuracy: 0.7743\n",
      "Epoch 12/20\n",
      "104/104 [==============================] - 34s 332ms/step - loss: 0.5947 - accuracy: 0.7798 - val_loss: 0.5508 - val_accuracy: 0.8042\n",
      "Epoch 13/20\n",
      "104/104 [==============================] - 31s 295ms/step - loss: 0.5667 - accuracy: 0.7850 - val_loss: 0.5646 - val_accuracy: 0.8010\n",
      "Epoch 14/20\n",
      "104/104 [==============================] - 31s 294ms/step - loss: 0.5641 - accuracy: 0.7880 - val_loss: 0.6007 - val_accuracy: 0.7821\n",
      "Epoch 15/20\n",
      "104/104 [==============================] - 31s 295ms/step - loss: 0.5383 - accuracy: 0.7998 - val_loss: 0.5739 - val_accuracy: 0.8017\n",
      "Epoch 16/20\n",
      "104/104 [==============================] - 30s 293ms/step - loss: 0.5293 - accuracy: 0.7999 - val_loss: 0.5960 - val_accuracy: 0.7921\n",
      "Epoch 17/20\n",
      "104/104 [==============================] - 30s 292ms/step - loss: 0.5136 - accuracy: 0.8078 - val_loss: 0.5468 - val_accuracy: 0.8153\n",
      "Epoch 18/20\n",
      "104/104 [==============================] - 32s 307ms/step - loss: 0.4975 - accuracy: 0.8203 - val_loss: 0.5551 - val_accuracy: 0.8092\n",
      "Epoch 19/20\n",
      "104/104 [==============================] - 31s 294ms/step - loss: 0.4807 - accuracy: 0.8194 - val_loss: 0.5949 - val_accuracy: 0.7924\n",
      "Epoch 20/20\n",
      "104/104 [==============================] - 31s 295ms/step - loss: 0.4720 - accuracy: 0.8246 - val_loss: 0.7685 - val_accuracy: 0.7546\n",
      "Duration: 0:10:16.869981\n"
     ]
    },
    {
     "data": {
      "text/plain": [
       "<keras.callbacks.History at 0x265345f1ac0>"
      ]
     },
     "execution_count": 56,
     "metadata": {},
     "output_type": "execute_result"
    }
   ],
   "source": [
    "n = 18\n",
    "models_lsa[n].fit_model(image_sets_lsa[n],label_sets_lsa[n],x_val,y_val,epochs=20,batch_size = 128)"
   ]
  },
  {
   "cell_type": "code",
   "execution_count": 57,
   "id": "f52f0722",
   "metadata": {},
   "outputs": [
    {
     "name": "stdout",
     "output_type": "stream",
     "text": [
      "Epoch 1/20\n",
      "112/112 [==============================] - 34s 290ms/step - loss: 0.8577 - accuracy: 0.6857 - val_loss: 0.5769 - val_accuracy: 0.7924\n",
      "Epoch 2/20\n",
      "112/112 [==============================] - 32s 289ms/step - loss: 0.7639 - accuracy: 0.7145 - val_loss: 0.6809 - val_accuracy: 0.7821\n",
      "Epoch 3/20\n",
      "112/112 [==============================] - 32s 289ms/step - loss: 0.7349 - accuracy: 0.7188 - val_loss: 1.0961 - val_accuracy: 0.5424\n",
      "Epoch 4/20\n",
      "112/112 [==============================] - 32s 289ms/step - loss: 0.7127 - accuracy: 0.7308 - val_loss: 0.7965 - val_accuracy: 0.7222\n",
      "Epoch 5/20\n",
      "112/112 [==============================] - 33s 295ms/step - loss: 0.6877 - accuracy: 0.7395 - val_loss: 0.6855 - val_accuracy: 0.7561\n",
      "Epoch 6/20\n",
      "112/112 [==============================] - 33s 290ms/step - loss: 0.6663 - accuracy: 0.7496 - val_loss: 1.1202 - val_accuracy: 0.5795\n",
      "Epoch 7/20\n",
      "112/112 [==============================] - 32s 288ms/step - loss: 0.6573 - accuracy: 0.7537 - val_loss: 0.7033 - val_accuracy: 0.7514\n",
      "Epoch 8/20\n",
      "112/112 [==============================] - 33s 295ms/step - loss: 0.6214 - accuracy: 0.7649 - val_loss: 0.6092 - val_accuracy: 0.7885\n",
      "Epoch 9/20\n",
      "112/112 [==============================] - 35s 308ms/step - loss: 0.6084 - accuracy: 0.7701 - val_loss: 0.7119 - val_accuracy: 0.7504\n",
      "Epoch 10/20\n",
      "112/112 [==============================] - 32s 290ms/step - loss: 0.5916 - accuracy: 0.7762 - val_loss: 0.6675 - val_accuracy: 0.7643\n",
      "Epoch 11/20\n",
      "112/112 [==============================] - 32s 289ms/step - loss: 0.5826 - accuracy: 0.7814 - val_loss: 0.6600 - val_accuracy: 0.7636\n",
      "Epoch 12/20\n",
      "112/112 [==============================] - 32s 289ms/step - loss: 0.5585 - accuracy: 0.7903 - val_loss: 0.7380 - val_accuracy: 0.7211\n",
      "Epoch 13/20\n",
      "112/112 [==============================] - 32s 289ms/step - loss: 0.5378 - accuracy: 0.8015 - val_loss: 0.6118 - val_accuracy: 0.8024\n",
      "Epoch 14/20\n",
      "112/112 [==============================] - 32s 289ms/step - loss: 0.5307 - accuracy: 0.8031 - val_loss: 0.8139 - val_accuracy: 0.7136\n",
      "Epoch 15/20\n",
      "112/112 [==============================] - 33s 291ms/step - loss: 0.5137 - accuracy: 0.8099 - val_loss: 0.6391 - val_accuracy: 0.7842\n",
      "Epoch 16/20\n",
      "112/112 [==============================] - 32s 290ms/step - loss: 0.5006 - accuracy: 0.8174 - val_loss: 0.5803 - val_accuracy: 0.7992\n",
      "Epoch 17/20\n",
      "112/112 [==============================] - 33s 293ms/step - loss: 0.4889 - accuracy: 0.8176 - val_loss: 0.6892 - val_accuracy: 0.7589\n",
      "Epoch 18/20\n",
      "112/112 [==============================] - 33s 295ms/step - loss: 0.4730 - accuracy: 0.8247 - val_loss: 0.6746 - val_accuracy: 0.7785\n",
      "Epoch 19/20\n",
      "112/112 [==============================] - 32s 290ms/step - loss: 0.4691 - accuracy: 0.8261 - val_loss: 0.5809 - val_accuracy: 0.8021\n",
      "Epoch 20/20\n",
      "112/112 [==============================] - 33s 292ms/step - loss: 0.4430 - accuracy: 0.8371 - val_loss: 0.6540 - val_accuracy: 0.7785\n",
      "Duration: 0:10:54.431207\n"
     ]
    },
    {
     "data": {
      "text/plain": [
       "<keras.callbacks.History at 0x265e6f12280>"
      ]
     },
     "execution_count": 57,
     "metadata": {},
     "output_type": "execute_result"
    }
   ],
   "source": [
    "n = 19\n",
    "models_lsa[n].fit_model(image_sets_lsa[n],label_sets_lsa[n],x_val,y_val,epochs=20,batch_size = 128)"
   ]
  },
  {
   "cell_type": "code",
   "execution_count": 20,
   "id": "66c44d5f",
   "metadata": {},
   "outputs": [
    {
     "name": "stdout",
     "output_type": "stream",
     "text": [
      "D:/models/intel_models/C2/intel_model_c2_sep_lsa_e2_0\n",
      "Model loaded correctly\n",
      "D:/models/intel_models/C2/intel_model_c2_sep_lsa_e2_1\n",
      "Model loaded correctly\n",
      "D:/models/intel_models/C2/intel_model_c2_sep_lsa_e2_2\n",
      "Model loaded correctly\n",
      "D:/models/intel_models/C2/intel_model_c2_sep_lsa_e2_3\n",
      "Model loaded correctly\n",
      "D:/models/intel_models/C2/intel_model_c2_sep_lsa_e2_4\n",
      "Model loaded correctly\n",
      "D:/models/intel_models/C2/intel_model_c2_sep_lsa_e2_5\n",
      "Model loaded correctly\n",
      "D:/models/intel_models/C2/intel_model_c2_sep_lsa_e2_6\n",
      "Model loaded correctly\n",
      "D:/models/intel_models/C2/intel_model_c2_sep_lsa_e2_7\n",
      "Model loaded correctly\n",
      "D:/models/intel_models/C2/intel_model_c2_sep_lsa_e2_8\n",
      "Model loaded correctly\n",
      "D:/models/intel_models/C2/intel_model_c2_sep_lsa_e2_9\n",
      "Model loaded correctly\n",
      "D:/models/intel_models/C2/intel_model_c2_sep_lsa_e2_10\n",
      "Model loaded correctly\n",
      "D:/models/intel_models/C2/intel_model_c2_sep_lsa_e2_11\n",
      "Model loaded correctly\n",
      "D:/models/intel_models/C2/intel_model_c2_sep_lsa_e2_12\n",
      "Model loaded correctly\n",
      "D:/models/intel_models/C2/intel_model_c2_sep_lsa_e2_13\n",
      "Model loaded correctly\n",
      "D:/models/intel_models/C2/intel_model_c2_sep_lsa_e2_14\n",
      "Model loaded correctly\n",
      "D:/models/intel_models/C2/intel_model_c2_sep_lsa_e2_15\n",
      "Model loaded correctly\n",
      "D:/models/intel_models/C2/intel_model_c2_sep_lsa_e2_16\n",
      "Model loaded correctly\n",
      "D:/models/intel_models/C2/intel_model_c2_sep_lsa_e2_17\n",
      "Model loaded correctly\n",
      "D:/models/intel_models/C2/intel_model_c2_sep_lsa_e2_18\n",
      "Model loaded correctly\n",
      "D:/models/intel_models/C2/intel_model_c2_sep_lsa_e2_19\n",
      "Model loaded correctly\n"
     ]
    }
   ],
   "source": [
    "loading = True\n",
    "\n",
    "models_lsa = []\n",
    "\n",
    "if loading:\n",
    "    for i in range(20):\n",
    "        model_lsa_dir = \"D:/models/intel_models/C2/intel_model_c2_sep_lsa_e2_\"+str(i)\n",
    "        print(model_lsa_dir)\n",
    "        model =utils.My_model('intel',True,model_lsa_dir)\n",
    "        model.model.compile(loss= 'categorical_crossentropy', optimizer = 'rmsprop', metrics = ['accuracy',tf.keras.metrics.Precision(), tf.keras.metrics.Recall()])\n",
    "        models_lsa.append(model)\n",
    "       \n",
    "    "
   ]
  },
  {
   "cell_type": "markdown",
   "id": "a13ef06e",
   "metadata": {},
   "source": [
    "## Training guided by DSA"
   ]
  },
  {
   "cell_type": "code",
   "execution_count": 20,
   "id": "1e8dde33",
   "metadata": {},
   "outputs": [
    {
     "name": "stdout",
     "output_type": "stream",
     "text": [
      "Model loaded correctly\n",
      "Model compiled\n",
      "Epoch 1/10\n",
      "79/79 [==============================] - 16s 183ms/step - loss: 1.2097 - accuracy: 0.5704 - val_loss: 1.4648 - val_accuracy: 0.4975\n",
      "Epoch 2/10\n",
      "79/79 [==============================] - 13s 168ms/step - loss: 0.9588 - accuracy: 0.6459 - val_loss: 2.6739 - val_accuracy: 0.3627\n",
      "Epoch 3/10\n",
      "79/79 [==============================] - 14s 175ms/step - loss: 0.9534 - accuracy: 0.6621 - val_loss: 1.0395 - val_accuracy: 0.5977\n",
      "Epoch 4/10\n",
      "79/79 [==============================] - 14s 177ms/step - loss: 0.8596 - accuracy: 0.6855 - val_loss: 1.3329 - val_accuracy: 0.4971\n",
      "Epoch 5/10\n",
      "79/79 [==============================] - 14s 180ms/step - loss: 0.7888 - accuracy: 0.7085 - val_loss: 1.9018 - val_accuracy: 0.5178\n",
      "Epoch 6/10\n",
      "79/79 [==============================] - 15s 194ms/step - loss: 0.7790 - accuracy: 0.7204 - val_loss: 1.2383 - val_accuracy: 0.5788\n",
      "Epoch 7/10\n",
      "79/79 [==============================] - 15s 195ms/step - loss: 0.7200 - accuracy: 0.7398 - val_loss: 1.0920 - val_accuracy: 0.6195\n",
      "Epoch 8/10\n",
      "79/79 [==============================] - 15s 186ms/step - loss: 0.6766 - accuracy: 0.7547 - val_loss: 1.5629 - val_accuracy: 0.5032\n",
      "Epoch 9/10\n",
      "79/79 [==============================] - 16s 207ms/step - loss: 0.6354 - accuracy: 0.7698 - val_loss: 1.3361 - val_accuracy: 0.5895\n",
      "Epoch 10/10\n",
      "79/79 [==============================] - 14s 183ms/step - loss: 0.6132 - accuracy: 0.7894 - val_loss: 1.7874 - val_accuracy: 0.5164\n",
      "Duration: 0:02:27.422643\n"
     ]
    },
    {
     "data": {
      "text/plain": [
       "<keras.callbacks.History at 0x2a71c628700>"
      ]
     },
     "execution_count": 20,
     "metadata": {},
     "output_type": "execute_result"
    }
   ],
   "source": [
    "top_images_by_dsa_5000 = np.array(top_images_by_dsa[:5000])\n",
    "top_labels_by_dsa_5000 = np.array(top_labels_by_dsa[:5000])\n",
    "model_dsa_5000 =  utils.My_model(dataset,True,model_dir)\n",
    "model_dsa_5000.compile_model()\n",
    "model_dsa_5000.fit_model(top_images_by_dsa_5000,top_labels_by_dsa_5000,x_val,y_val)"
   ]
  },
  {
   "cell_type": "code",
   "execution_count": 18,
   "id": "099c7fa2",
   "metadata": {},
   "outputs": [
    {
     "name": "stdout",
     "output_type": "stream",
     "text": [
      "0 :\n",
      "0  ->  700\n",
      "700\n",
      "1 :\n",
      "0  ->  1400\n",
      "1400\n",
      "2 :\n",
      "0  ->  2100\n",
      "2100\n",
      "3 :\n",
      "0  ->  2800\n",
      "2800\n",
      "4 :\n",
      "0  ->  3500\n",
      "3500\n",
      "5 :\n",
      "0  ->  4200\n",
      "4200\n",
      "6 :\n",
      "0  ->  4900\n",
      "4900\n",
      "7 :\n",
      "0  ->  5600\n",
      "5600\n",
      "8 :\n",
      "0  ->  6300\n",
      "6300\n",
      "9 :\n",
      "0  ->  7000\n",
      "7000\n",
      "10 :\n",
      "0  ->  7700\n",
      "7700\n",
      "11 :\n",
      "0  ->  8400\n",
      "8400\n",
      "12 :\n",
      "0  ->  9100\n",
      "9100\n",
      "13 :\n",
      "0  ->  9800\n",
      "9800\n",
      "14 :\n",
      "0  ->  10500\n",
      "10500\n",
      "15 :\n",
      "0  ->  11200\n",
      "11200\n",
      "16 :\n",
      "0  ->  11900\n",
      "11900\n",
      "17 :\n",
      "0  ->  12600\n",
      "12600\n",
      "18 :\n",
      "0  ->  13300\n",
      "13300\n",
      "19 :\n",
      "Last\n",
      "0  ->  14224\n",
      "14224\n"
     ]
    }
   ],
   "source": [
    "m = 700\n",
    "n = 0\n",
    "image_sets_dsa = []\n",
    "label_sets_dsa = []\n",
    "\n",
    "\n",
    "for i in range(len(top_images_by_dsa)//m):\n",
    "    print(i,\":\")\n",
    "    if (i+1 >= len(top_images_by_dsa)//m):\n",
    "        print(\"Last\")\n",
    "        print(0,\" -> \",n+m+(len(top_images_by_dsa)%m))\n",
    "        top_images_by_dsa_n = np.array(top_images_by_dsa[:n+m+(len(top_images_by_dsa)%m)])\n",
    "        top_labels_by_dsa_n = np.array(top_labels_by_dsa[:n+m+(len(top_images_by_dsa)%m)])\n",
    "    else:\n",
    "        print(0,\" -> \",m+n)\n",
    "        top_images_by_dsa_n = np.array(top_images_by_dsa[:n+m])\n",
    "        top_labels_by_dsa_n = np.array(top_labels_by_dsa[:n+m])\n",
    "    image_sets_dsa.append(top_images_by_dsa_n)\n",
    "    label_sets_dsa.append(top_labels_by_dsa_n)\n",
    "    print(len(top_images_by_dsa_n))\n",
    "    n += m\n",
    "\n"
   ]
  },
  {
   "cell_type": "code",
   "execution_count": 19,
   "id": "8713d09c",
   "metadata": {},
   "outputs": [
    {
     "name": "stdout",
     "output_type": "stream",
     "text": [
      "C:/Users/fjdur/Desktop/upc/project_notebooks/github_project/DL_notebooks/models/intel_model_21_10/\n",
      "0 :\n",
      "Model loaded correctly\n",
      "Model compiled\n",
      "1 :\n",
      "Model loaded correctly\n",
      "Model compiled\n",
      "2 :\n",
      "Model loaded correctly\n",
      "Model compiled\n",
      "3 :\n",
      "Model loaded correctly\n",
      "Model compiled\n",
      "4 :\n",
      "Model loaded correctly\n",
      "Model compiled\n",
      "5 :\n",
      "Model loaded correctly\n",
      "Model compiled\n",
      "6 :\n",
      "Model loaded correctly\n",
      "Model compiled\n",
      "7 :\n",
      "Model loaded correctly\n",
      "Model compiled\n",
      "8 :\n",
      "Model loaded correctly\n",
      "Model compiled\n",
      "9 :\n",
      "Model loaded correctly\n",
      "Model compiled\n",
      "10 :\n",
      "Model loaded correctly\n",
      "Model compiled\n",
      "11 :\n",
      "Model loaded correctly\n",
      "Model compiled\n",
      "12 :\n",
      "Model loaded correctly\n",
      "Model compiled\n",
      "13 :\n",
      "Model loaded correctly\n",
      "Model compiled\n",
      "14 :\n",
      "Model loaded correctly\n",
      "Model compiled\n",
      "15 :\n",
      "Model loaded correctly\n",
      "Model compiled\n",
      "16 :\n",
      "Model loaded correctly\n",
      "Model compiled\n",
      "17 :\n",
      "Model loaded correctly\n",
      "Model compiled\n",
      "18 :\n",
      "Model loaded correctly\n",
      "Model compiled\n",
      "19 :\n",
      "Model loaded correctly\n",
      "Model compiled\n"
     ]
    }
   ],
   "source": [
    "print(model_dir)\n",
    "\n",
    "models_dsa = []\n",
    "for i in range(len(label_sets_dsa)):\n",
    "    print(i,\":\")\n",
    "    model = utils.My_model('intel',True,model_dir)\n",
    "    model.compile_model()\n",
    "    models_dsa.append(model)\n"
   ]
  },
  {
   "cell_type": "code",
   "execution_count": null,
   "id": "2fd23c18",
   "metadata": {},
   "outputs": [],
   "source": [
    "n=0"
   ]
  },
  {
   "cell_type": "code",
   "execution_count": 121,
   "id": "5d7143d2",
   "metadata": {},
   "outputs": [
    {
     "name": "stdout",
     "output_type": "stream",
     "text": [
      "0\n",
      "Model loaded correctly\n",
      "Model compiled\n",
      "1\n",
      "Model loaded correctly\n",
      "Model compiled\n",
      "2\n",
      "Model loaded correctly\n",
      "Model compiled\n",
      "3\n",
      "Model loaded correctly\n",
      "Model compiled\n",
      "4\n",
      "Model loaded correctly\n",
      "Model compiled\n",
      "5\n",
      "Model loaded correctly\n",
      "Model compiled\n",
      "6\n",
      "Model loaded correctly\n",
      "Model compiled\n"
     ]
    }
   ],
   "source": [
    "for i in range(7):\n",
    "    print(i)\n",
    "    models_dsa[i] =  utils.My_model('intel',True,model_dir)\n",
    "    models_dsa[i].compile_model()"
   ]
  },
  {
   "cell_type": "code",
   "execution_count": 120,
   "id": "109bfa3e",
   "metadata": {},
   "outputs": [
    {
     "name": "stdout",
     "output_type": "stream",
     "text": [
      "94/94 [==============================] - 2s 25ms/step - loss: 0.5392 - accuracy: 0.8037 - precision_21: 0.5778 - recall_21: 0.5040\n",
      "[0.5391883850097656, 0.8036666512489319, 0.5778048038482666, 0.5040168166160583]\n",
      "94/94 [==============================] - 2s 25ms/step - loss: 0.5392 - accuracy: 0.8037 - precision_22: 0.5778 - recall_22: 0.5040\n",
      "[0.5391883850097656, 0.8036666512489319, 0.5778048038482666, 0.5040168166160583]\n"
     ]
    }
   ],
   "source": [
    "print(models_dsa[0].evaluate(x_test,y_test))\n",
    "print(models_dsa[1].evaluate(x_test,y_test))"
   ]
  },
  {
   "cell_type": "code",
   "execution_count": 122,
   "id": "9990e037",
   "metadata": {},
   "outputs": [
    {
     "name": "stdout",
     "output_type": "stream",
     "text": [
      "0\n",
      "Epoch 1/20\n",
      "6/6 [==============================] - 6s 739ms/step - loss: 1.8341 - accuracy: 0.3353 - val_loss: 0.9751 - val_accuracy: 0.6516\n",
      "Epoch 2/20\n",
      "6/6 [==============================] - 4s 665ms/step - loss: 1.3965 - accuracy: 0.4720 - val_loss: 0.8531 - val_accuracy: 0.6926\n",
      "Epoch 3/20\n",
      "6/6 [==============================] - 4s 638ms/step - loss: 1.4183 - accuracy: 0.5115 - val_loss: 0.7926 - val_accuracy: 0.7072\n",
      "Epoch 4/20\n",
      "6/6 [==============================] - 4s 674ms/step - loss: 1.1483 - accuracy: 0.5770 - val_loss: 0.9252 - val_accuracy: 0.6673\n",
      "Epoch 5/20\n",
      "6/6 [==============================] - 4s 656ms/step - loss: 1.1505 - accuracy: 0.5826 - val_loss: 0.8574 - val_accuracy: 0.6569\n",
      "Epoch 6/20\n",
      "6/6 [==============================] - 3s 629ms/step - loss: 1.0109 - accuracy: 0.6365 - val_loss: 0.9656 - val_accuracy: 0.6027\n",
      "Epoch 7/20\n",
      "6/6 [==============================] - 4s 665ms/step - loss: 1.2730 - accuracy: 0.5258 - val_loss: 0.8445 - val_accuracy: 0.6865\n",
      "Epoch 8/20\n",
      "6/6 [==============================] - 4s 661ms/step - loss: 0.9185 - accuracy: 0.6569 - val_loss: 0.9039 - val_accuracy: 0.6501\n",
      "Epoch 9/20\n",
      "6/6 [==============================] - 4s 677ms/step - loss: 0.9251 - accuracy: 0.6681 - val_loss: 0.9411 - val_accuracy: 0.6280\n",
      "Epoch 10/20\n",
      "6/6 [==============================] - 4s 663ms/step - loss: 0.9292 - accuracy: 0.6439 - val_loss: 0.8679 - val_accuracy: 0.6698\n",
      "Epoch 11/20\n",
      "6/6 [==============================] - 3s 631ms/step - loss: 0.9371 - accuracy: 0.6636 - val_loss: 0.8041 - val_accuracy: 0.7022\n",
      "Epoch 12/20\n",
      "6/6 [==============================] - 4s 685ms/step - loss: 0.8334 - accuracy: 0.6899 - val_loss: 0.9045 - val_accuracy: 0.6530\n",
      "Epoch 13/20\n",
      "6/6 [==============================] - 4s 678ms/step - loss: 0.7448 - accuracy: 0.7415 - val_loss: 0.8841 - val_accuracy: 0.6897\n",
      "Epoch 14/20\n",
      "6/6 [==============================] - 4s 658ms/step - loss: 0.7744 - accuracy: 0.7244 - val_loss: 0.7985 - val_accuracy: 0.7122\n",
      "Epoch 15/20\n",
      "6/6 [==============================] - 4s 717ms/step - loss: 0.6400 - accuracy: 0.7632 - val_loss: 0.8573 - val_accuracy: 0.6969\n",
      "Epoch 16/20\n",
      "6/6 [==============================] - 4s 707ms/step - loss: 0.7734 - accuracy: 0.7033 - val_loss: 1.0267 - val_accuracy: 0.5777\n",
      "Epoch 17/20\n",
      "6/6 [==============================] - 4s 737ms/step - loss: 0.7321 - accuracy: 0.7348 - val_loss: 0.8320 - val_accuracy: 0.6961\n",
      "Epoch 18/20\n",
      "6/6 [==============================] - 4s 762ms/step - loss: 0.6417 - accuracy: 0.7860 - val_loss: 0.9154 - val_accuracy: 0.6790\n",
      "Epoch 19/20\n",
      "6/6 [==============================] - 4s 680ms/step - loss: 0.6835 - accuracy: 0.7539 - val_loss: 1.0281 - val_accuracy: 0.6494\n",
      "Epoch 20/20\n",
      "6/6 [==============================] - 4s 730ms/step - loss: 0.6023 - accuracy: 0.7837 - val_loss: 1.0922 - val_accuracy: 0.6177\n",
      "Duration: 0:01:16.887977\n"
     ]
    }
   ],
   "source": [
    "n=0\n",
    "print(n)\n",
    "\n",
    "models_dsa[n].fit_model(image_sets_dsa[n],label_sets_dsa[n],x_val,y_val,epochs=20,batch_size = 128)\n",
    "n = n+1"
   ]
  },
  {
   "cell_type": "code",
   "execution_count": 123,
   "id": "c24fa024",
   "metadata": {},
   "outputs": [
    {
     "name": "stdout",
     "output_type": "stream",
     "text": [
      "1\n",
      "Epoch 1/20\n",
      "11/11 [==============================] - 9s 610ms/step - loss: 1.8194 - accuracy: 0.3002 - val_loss: 0.9017 - val_accuracy: 0.7029\n",
      "Epoch 2/20\n",
      "11/11 [==============================] - 5s 473ms/step - loss: 1.2239 - accuracy: 0.5101 - val_loss: 0.8405 - val_accuracy: 0.7175\n",
      "Epoch 3/20\n",
      "11/11 [==============================] - 5s 480ms/step - loss: 1.1612 - accuracy: 0.5530 - val_loss: 0.9563 - val_accuracy: 0.6398\n",
      "Epoch 4/20\n",
      "11/11 [==============================] - 5s 478ms/step - loss: 1.2435 - accuracy: 0.5126 - val_loss: 0.8654 - val_accuracy: 0.6758\n",
      "Epoch 5/20\n",
      "11/11 [==============================] - 5s 476ms/step - loss: 1.0440 - accuracy: 0.5929 - val_loss: 0.8110 - val_accuracy: 0.6990\n",
      "Epoch 6/20\n",
      "11/11 [==============================] - 5s 494ms/step - loss: 1.0054 - accuracy: 0.6294 - val_loss: 0.8614 - val_accuracy: 0.6772\n",
      "Epoch 7/20\n",
      "11/11 [==============================] - 8s 735ms/step - loss: 0.9600 - accuracy: 0.6227 - val_loss: 0.8509 - val_accuracy: 0.6787\n",
      "Epoch 8/20\n",
      "11/11 [==============================] - 6s 522ms/step - loss: 0.8875 - accuracy: 0.6600 - val_loss: 0.8111 - val_accuracy: 0.7204\n",
      "Epoch 9/20\n",
      "11/11 [==============================] - 6s 607ms/step - loss: 0.8617 - accuracy: 0.6725 - val_loss: 0.8915 - val_accuracy: 0.6708\n",
      "Epoch 10/20\n",
      "11/11 [==============================] - 7s 626ms/step - loss: 0.8220 - accuracy: 0.6956 - val_loss: 0.7906 - val_accuracy: 0.7086\n",
      "Epoch 11/20\n",
      "11/11 [==============================] - 6s 543ms/step - loss: 0.8136 - accuracy: 0.6908 - val_loss: 0.8658 - val_accuracy: 0.6837\n",
      "Epoch 12/20\n",
      "11/11 [==============================] - 6s 546ms/step - loss: 0.8191 - accuracy: 0.6964 - val_loss: 0.9055 - val_accuracy: 0.6805\n",
      "Epoch 13/20\n",
      "11/11 [==============================] - 6s 532ms/step - loss: 0.7934 - accuracy: 0.7059 - val_loss: 0.8202 - val_accuracy: 0.7022\n",
      "Epoch 14/20\n",
      "11/11 [==============================] - 6s 552ms/step - loss: 0.6845 - accuracy: 0.7331 - val_loss: 0.9004 - val_accuracy: 0.6790\n",
      "Epoch 15/20\n",
      "11/11 [==============================] - 6s 573ms/step - loss: 0.7093 - accuracy: 0.7254 - val_loss: 0.8263 - val_accuracy: 0.6951\n",
      "Epoch 16/20\n",
      "11/11 [==============================] - 6s 547ms/step - loss: 0.6929 - accuracy: 0.7505 - val_loss: 0.8238 - val_accuracy: 0.7019\n",
      "Epoch 17/20\n",
      "11/11 [==============================] - 6s 545ms/step - loss: 0.5916 - accuracy: 0.7856 - val_loss: 0.8612 - val_accuracy: 0.6929\n",
      "Epoch 18/20\n",
      "11/11 [==============================] - 5s 482ms/step - loss: 0.6932 - accuracy: 0.7652 - val_loss: 0.8412 - val_accuracy: 0.6976\n",
      "Epoch 19/20\n",
      "11/11 [==============================] - 5s 477ms/step - loss: 0.5770 - accuracy: 0.7769 - val_loss: 0.8414 - val_accuracy: 0.6933\n",
      "Epoch 20/20\n",
      "11/11 [==============================] - 5s 488ms/step - loss: 0.5750 - accuracy: 0.7913 - val_loss: 0.8690 - val_accuracy: 0.7065\n",
      "Duration: 0:01:57.110130\n"
     ]
    }
   ],
   "source": [
    "print(n)\n",
    "\n",
    "models_dsa[n].fit_model(image_sets_dsa[n],label_sets_dsa[n],x_val,y_val,epochs=20,batch_size = 128)\n",
    "n = n+1"
   ]
  },
  {
   "cell_type": "code",
   "execution_count": 124,
   "id": "fee6d680",
   "metadata": {},
   "outputs": [
    {
     "name": "stdout",
     "output_type": "stream",
     "text": [
      "2\n",
      "Epoch 1/20\n",
      "17/17 [==============================] - 9s 412ms/step - loss: 2.0086 - accuracy: 0.2918 - val_loss: 0.9769 - val_accuracy: 0.6787\n",
      "Epoch 2/20\n",
      "17/17 [==============================] - 7s 390ms/step - loss: 1.2672 - accuracy: 0.4997 - val_loss: 0.9330 - val_accuracy: 0.6801\n",
      "Epoch 3/20\n",
      "17/17 [==============================] - 7s 403ms/step - loss: 1.1926 - accuracy: 0.5458 - val_loss: 1.0821 - val_accuracy: 0.5863\n",
      "Epoch 4/20\n",
      "17/17 [==============================] - 7s 412ms/step - loss: 1.1949 - accuracy: 0.5529 - val_loss: 0.8693 - val_accuracy: 0.6787\n",
      "Epoch 5/20\n",
      "17/17 [==============================] - 7s 396ms/step - loss: 0.9911 - accuracy: 0.6169 - val_loss: 1.0233 - val_accuracy: 0.6145\n",
      "Epoch 6/20\n",
      "17/17 [==============================] - 7s 398ms/step - loss: 1.0158 - accuracy: 0.6031 - val_loss: 0.8416 - val_accuracy: 0.6940\n",
      "Epoch 7/20\n",
      "17/17 [==============================] - 7s 388ms/step - loss: 1.0038 - accuracy: 0.6094 - val_loss: 0.8555 - val_accuracy: 0.6758\n",
      "Epoch 8/20\n",
      "17/17 [==============================] - 7s 398ms/step - loss: 0.8955 - accuracy: 0.6390 - val_loss: 0.9352 - val_accuracy: 0.6444\n",
      "Epoch 9/20\n",
      "17/17 [==============================] - 7s 401ms/step - loss: 0.8899 - accuracy: 0.6673 - val_loss: 1.0283 - val_accuracy: 0.6302\n",
      "Epoch 10/20\n",
      "17/17 [==============================] - 7s 394ms/step - loss: 0.9324 - accuracy: 0.6583 - val_loss: 0.9051 - val_accuracy: 0.6566\n",
      "Epoch 11/20\n",
      "17/17 [==============================] - 7s 393ms/step - loss: 0.7944 - accuracy: 0.6942 - val_loss: 0.8947 - val_accuracy: 0.6573\n",
      "Epoch 12/20\n",
      "17/17 [==============================] - 7s 405ms/step - loss: 0.8194 - accuracy: 0.6805 - val_loss: 0.8506 - val_accuracy: 0.6872\n",
      "Epoch 13/20\n",
      "17/17 [==============================] - 7s 401ms/step - loss: 0.7370 - accuracy: 0.7348 - val_loss: 1.0124 - val_accuracy: 0.6270\n",
      "Epoch 14/20\n",
      "17/17 [==============================] - 7s 394ms/step - loss: 0.7714 - accuracy: 0.7055 - val_loss: 0.8245 - val_accuracy: 0.6901\n",
      "Epoch 15/20\n",
      "17/17 [==============================] - 7s 403ms/step - loss: 0.7265 - accuracy: 0.7234 - val_loss: 0.9594 - val_accuracy: 0.6573\n",
      "Epoch 16/20\n",
      "17/17 [==============================] - 7s 429ms/step - loss: 0.6861 - accuracy: 0.7505 - val_loss: 0.9974 - val_accuracy: 0.6501\n",
      "Epoch 17/20\n",
      "17/17 [==============================] - 7s 430ms/step - loss: 0.6697 - accuracy: 0.7611 - val_loss: 0.9034 - val_accuracy: 0.6755\n",
      "Epoch 18/20\n",
      "17/17 [==============================] - 7s 423ms/step - loss: 0.5738 - accuracy: 0.7717 - val_loss: 0.8751 - val_accuracy: 0.6737\n",
      "Epoch 19/20\n",
      "17/17 [==============================] - 7s 405ms/step - loss: 0.5954 - accuracy: 0.7837 - val_loss: 0.9253 - val_accuracy: 0.6701\n",
      "Epoch 20/20\n",
      "17/17 [==============================] - 7s 398ms/step - loss: 0.5815 - accuracy: 0.7943 - val_loss: 0.9785 - val_accuracy: 0.6623\n",
      "Duration: 0:02:17.028100\n"
     ]
    }
   ],
   "source": [
    "print(n)\n",
    "\n",
    "models_dsa[n].fit_model(image_sets_dsa[n],label_sets_dsa[n],x_val,y_val,epochs=20,batch_size = 128)\n",
    "n = n+1"
   ]
  },
  {
   "cell_type": "code",
   "execution_count": 125,
   "id": "a77a0919",
   "metadata": {},
   "outputs": [
    {
     "name": "stdout",
     "output_type": "stream",
     "text": [
      "3\n",
      "Epoch 1/20\n",
      "22/22 [==============================] - 10s 405ms/step - loss: 1.7335 - accuracy: 0.3105 - val_loss: 0.9461 - val_accuracy: 0.6758\n",
      "Epoch 2/20\n",
      "22/22 [==============================] - 8s 381ms/step - loss: 1.2345 - accuracy: 0.4819 - val_loss: 0.9555 - val_accuracy: 0.6673\n",
      "Epoch 3/20\n",
      "22/22 [==============================] - 8s 386ms/step - loss: 1.1619 - accuracy: 0.5276 - val_loss: 0.8928 - val_accuracy: 0.6715\n",
      "Epoch 4/20\n",
      "22/22 [==============================] - 9s 403ms/step - loss: 1.1328 - accuracy: 0.5508 - val_loss: 0.9218 - val_accuracy: 0.6487\n",
      "Epoch 5/20\n",
      "22/22 [==============================] - 9s 428ms/step - loss: 1.0466 - accuracy: 0.5857 - val_loss: 0.8869 - val_accuracy: 0.6619\n",
      "Epoch 6/20\n",
      "22/22 [==============================] - 8s 386ms/step - loss: 0.9508 - accuracy: 0.6252 - val_loss: 0.8624 - val_accuracy: 0.6901\n",
      "Epoch 7/20\n",
      "22/22 [==============================] - 8s 386ms/step - loss: 0.9559 - accuracy: 0.6215 - val_loss: 0.9122 - val_accuracy: 0.6769\n",
      "Epoch 8/20\n",
      "22/22 [==============================] - 9s 406ms/step - loss: 0.9360 - accuracy: 0.6322 - val_loss: 0.9013 - val_accuracy: 0.6598\n",
      "Epoch 9/20\n",
      "22/22 [==============================] - 8s 380ms/step - loss: 0.8595 - accuracy: 0.6696 - val_loss: 0.8827 - val_accuracy: 0.6601\n",
      "Epoch 10/20\n",
      "22/22 [==============================] - 8s 387ms/step - loss: 0.8431 - accuracy: 0.6746 - val_loss: 0.8460 - val_accuracy: 0.6912\n",
      "Epoch 11/20\n",
      "22/22 [==============================] - 9s 412ms/step - loss: 0.8225 - accuracy: 0.6880 - val_loss: 0.9007 - val_accuracy: 0.6412\n",
      "Epoch 12/20\n",
      "22/22 [==============================] - 9s 393ms/step - loss: 0.8293 - accuracy: 0.6820 - val_loss: 0.9221 - val_accuracy: 0.6580\n",
      "Epoch 13/20\n",
      "22/22 [==============================] - 8s 388ms/step - loss: 0.7603 - accuracy: 0.7225 - val_loss: 1.0540 - val_accuracy: 0.5909\n",
      "Epoch 14/20\n",
      "22/22 [==============================] - 9s 392ms/step - loss: 0.7515 - accuracy: 0.7180 - val_loss: 0.9530 - val_accuracy: 0.6284\n",
      "Epoch 15/20\n",
      "22/22 [==============================] - 8s 385ms/step - loss: 0.6536 - accuracy: 0.7557 - val_loss: 1.0044 - val_accuracy: 0.6227\n",
      "Epoch 16/20\n",
      "22/22 [==============================] - 8s 384ms/step - loss: 0.6150 - accuracy: 0.7746 - val_loss: 1.1464 - val_accuracy: 0.5799\n",
      "Epoch 17/20\n",
      "22/22 [==============================] - 9s 395ms/step - loss: 0.5872 - accuracy: 0.7954 - val_loss: 1.2692 - val_accuracy: 0.5485\n",
      "Epoch 18/20\n",
      "22/22 [==============================] - 9s 406ms/step - loss: 0.6588 - accuracy: 0.7715 - val_loss: 1.1609 - val_accuracy: 0.5792\n",
      "Epoch 19/20\n",
      "22/22 [==============================] - 9s 395ms/step - loss: 0.5457 - accuracy: 0.7938 - val_loss: 1.3381 - val_accuracy: 0.5606\n",
      "Epoch 20/20\n",
      "22/22 [==============================] - 9s 405ms/step - loss: 0.5105 - accuracy: 0.8126 - val_loss: 1.3212 - val_accuracy: 0.5360\n",
      "Duration: 0:02:53.924100\n"
     ]
    }
   ],
   "source": [
    "print(n)\n",
    "\n",
    "models_dsa[n].fit_model(image_sets_dsa[n],label_sets_dsa[n],x_val,y_val,epochs=20,batch_size = 128)\n",
    "n = n+1"
   ]
  },
  {
   "cell_type": "code",
   "execution_count": 126,
   "id": "cea438ef",
   "metadata": {},
   "outputs": [
    {
     "name": "stdout",
     "output_type": "stream",
     "text": [
      "4\n",
      "Epoch 1/20\n",
      "28/28 [==============================] - 12s 386ms/step - loss: 1.6714 - accuracy: 0.3680 - val_loss: 1.2927 - val_accuracy: 0.5160\n",
      "Epoch 2/20\n",
      "28/28 [==============================] - 10s 361ms/step - loss: 1.2143 - accuracy: 0.5088 - val_loss: 1.1113 - val_accuracy: 0.5506\n",
      "Epoch 3/20\n",
      "28/28 [==============================] - 11s 382ms/step - loss: 1.1633 - accuracy: 0.5645 - val_loss: 1.2252 - val_accuracy: 0.5210\n",
      "Epoch 4/20\n",
      "28/28 [==============================] - 10s 364ms/step - loss: 1.0421 - accuracy: 0.5703 - val_loss: 1.0424 - val_accuracy: 0.5642\n",
      "Epoch 5/20\n",
      "28/28 [==============================] - 10s 371ms/step - loss: 1.0320 - accuracy: 0.5956 - val_loss: 0.9483 - val_accuracy: 0.6373\n",
      "Epoch 6/20\n",
      "28/28 [==============================] - 11s 383ms/step - loss: 0.9840 - accuracy: 0.6240 - val_loss: 2.0712 - val_accuracy: 0.5118\n",
      "Epoch 7/20\n",
      "28/28 [==============================] - 11s 392ms/step - loss: 0.9702 - accuracy: 0.6242 - val_loss: 1.3188 - val_accuracy: 0.4936\n",
      "Epoch 8/20\n",
      "28/28 [==============================] - 11s 385ms/step - loss: 0.9481 - accuracy: 0.6356 - val_loss: 2.1468 - val_accuracy: 0.5460\n",
      "Epoch 9/20\n",
      "28/28 [==============================] - 10s 370ms/step - loss: 0.8849 - accuracy: 0.6680 - val_loss: 1.3288 - val_accuracy: 0.5849\n",
      "Epoch 10/20\n",
      "28/28 [==============================] - 11s 384ms/step - loss: 0.8105 - accuracy: 0.6938 - val_loss: 3.4350 - val_accuracy: 0.4868\n",
      "Epoch 11/20\n",
      "28/28 [==============================] - 10s 369ms/step - loss: 0.7748 - accuracy: 0.7097 - val_loss: 2.1538 - val_accuracy: 0.5267\n",
      "Epoch 12/20\n",
      "28/28 [==============================] - 11s 379ms/step - loss: 0.7545 - accuracy: 0.7292 - val_loss: 2.4403 - val_accuracy: 0.5004\n",
      "Epoch 13/20\n",
      "28/28 [==============================] - 10s 360ms/step - loss: 0.6967 - accuracy: 0.7388 - val_loss: 2.5034 - val_accuracy: 0.4829\n",
      "Epoch 14/20\n",
      "28/28 [==============================] - 10s 362ms/step - loss: 0.6377 - accuracy: 0.7667 - val_loss: 2.6990 - val_accuracy: 0.4772\n",
      "Epoch 15/20\n",
      "28/28 [==============================] - 10s 363ms/step - loss: 0.5980 - accuracy: 0.7834 - val_loss: 3.1646 - val_accuracy: 0.4779\n",
      "Epoch 16/20\n",
      "28/28 [==============================] - 10s 369ms/step - loss: 0.5928 - accuracy: 0.7814 - val_loss: 3.5012 - val_accuracy: 0.5118\n",
      "Epoch 17/20\n",
      "28/28 [==============================] - 10s 355ms/step - loss: 0.5713 - accuracy: 0.7864 - val_loss: 1.6059 - val_accuracy: 0.5432\n",
      "Epoch 18/20\n",
      "28/28 [==============================] - 10s 363ms/step - loss: 0.5441 - accuracy: 0.8055 - val_loss: 4.0505 - val_accuracy: 0.4643\n",
      "Epoch 19/20\n",
      "28/28 [==============================] - 10s 364ms/step - loss: 0.4674 - accuracy: 0.8319 - val_loss: 2.5596 - val_accuracy: 0.5378\n",
      "Epoch 20/20\n",
      "28/28 [==============================] - 10s 365ms/step - loss: 0.4841 - accuracy: 0.8270 - val_loss: 1.3531 - val_accuracy: 0.5014\n",
      "Duration: 0:03:28.592317\n"
     ]
    }
   ],
   "source": [
    "print(n)#4\n",
    "\n",
    "models_dsa[n].fit_model(image_sets_dsa[n],label_sets_dsa[n],x_val,y_val,epochs=20,batch_size = 128)\n",
    "n = n+1"
   ]
  },
  {
   "cell_type": "code",
   "execution_count": 127,
   "id": "bebcdd7a",
   "metadata": {},
   "outputs": [
    {
     "name": "stdout",
     "output_type": "stream",
     "text": [
      "5\n",
      "Epoch 1/20\n",
      "33/33 [==============================] - 15s 389ms/step - loss: 1.4727 - accuracy: 0.4627 - val_loss: 1.1130 - val_accuracy: 0.5456\n",
      "Epoch 2/20\n",
      "33/33 [==============================] - 12s 370ms/step - loss: 1.0792 - accuracy: 0.5815 - val_loss: 1.0811 - val_accuracy: 0.5770\n",
      "Epoch 3/20\n",
      "33/33 [==============================] - 14s 413ms/step - loss: 1.0184 - accuracy: 0.6002 - val_loss: 1.6744 - val_accuracy: 0.5200\n",
      "Epoch 4/20\n",
      "33/33 [==============================] - 13s 394ms/step - loss: 0.9497 - accuracy: 0.6292 - val_loss: 1.3306 - val_accuracy: 0.5292\n",
      "Epoch 5/20\n",
      "33/33 [==============================] - 13s 393ms/step - loss: 0.8901 - accuracy: 0.6738 - val_loss: 1.3546 - val_accuracy: 0.5728\n",
      "Epoch 6/20\n",
      "33/33 [==============================] - 13s 408ms/step - loss: 0.8357 - accuracy: 0.6902 - val_loss: 1.8005 - val_accuracy: 0.5310\n",
      "Epoch 7/20\n",
      "33/33 [==============================] - 14s 415ms/step - loss: 0.8049 - accuracy: 0.6932 - val_loss: 1.1787 - val_accuracy: 0.5934\n",
      "Epoch 8/20\n",
      "33/33 [==============================] - 13s 397ms/step - loss: 0.7679 - accuracy: 0.7195 - val_loss: 2.4720 - val_accuracy: 0.4932\n",
      "Epoch 9/20\n",
      "33/33 [==============================] - 12s 377ms/step - loss: 0.7700 - accuracy: 0.7223 - val_loss: 1.6558 - val_accuracy: 0.5346\n",
      "Epoch 10/20\n",
      "33/33 [==============================] - 12s 362ms/step - loss: 0.6732 - accuracy: 0.7563 - val_loss: 1.4414 - val_accuracy: 0.5670\n",
      "Epoch 11/20\n",
      "33/33 [==============================] - 12s 367ms/step - loss: 0.6581 - accuracy: 0.7579 - val_loss: 1.8973 - val_accuracy: 0.5296\n",
      "Epoch 12/20\n",
      "33/33 [==============================] - 12s 367ms/step - loss: 0.5977 - accuracy: 0.7851 - val_loss: 2.5465 - val_accuracy: 0.4907\n",
      "Epoch 13/20\n",
      "33/33 [==============================] - 12s 361ms/step - loss: 0.6074 - accuracy: 0.7872 - val_loss: 2.9372 - val_accuracy: 0.4975\n",
      "Epoch 14/20\n",
      "33/33 [==============================] - 12s 369ms/step - loss: 0.5845 - accuracy: 0.7911 - val_loss: 4.1378 - val_accuracy: 0.4173\n",
      "Epoch 15/20\n",
      "33/33 [==============================] - 12s 372ms/step - loss: 0.5431 - accuracy: 0.8113 - val_loss: 3.0619 - val_accuracy: 0.5200\n",
      "Epoch 16/20\n",
      "33/33 [==============================] - 14s 435ms/step - loss: 0.5193 - accuracy: 0.8175 - val_loss: 1.9752 - val_accuracy: 0.5471\n",
      "Epoch 17/20\n",
      "33/33 [==============================] - 14s 428ms/step - loss: 0.4760 - accuracy: 0.8266 - val_loss: 2.2246 - val_accuracy: 0.5367\n",
      "Epoch 18/20\n",
      "33/33 [==============================] - 13s 406ms/step - loss: 0.4429 - accuracy: 0.8450 - val_loss: 3.9415 - val_accuracy: 0.4519\n",
      "Epoch 19/20\n",
      "33/33 [==============================] - 13s 402ms/step - loss: 0.4359 - accuracy: 0.8495 - val_loss: 3.6743 - val_accuracy: 0.4843\n",
      "Epoch 20/20\n",
      "33/33 [==============================] - 14s 414ms/step - loss: 0.4046 - accuracy: 0.8537 - val_loss: 4.8601 - val_accuracy: 0.4497\n",
      "Duration: 0:04:19.634906\n"
     ]
    }
   ],
   "source": [
    "print(n)\n",
    "\n",
    "models_dsa[n].fit_model(image_sets_dsa[n],label_sets_dsa[n],x_val,y_val,epochs=20,batch_size = 128)\n",
    "n = n+1"
   ]
  },
  {
   "cell_type": "code",
   "execution_count": 128,
   "id": "ac6a1e6b",
   "metadata": {},
   "outputs": [
    {
     "name": "stdout",
     "output_type": "stream",
     "text": [
      "6\n",
      "Epoch 1/20\n",
      "39/39 [==============================] - 17s 385ms/step - loss: 1.4967 - accuracy: 0.5053 - val_loss: 1.0042 - val_accuracy: 0.5617\n",
      "Epoch 2/20\n",
      "39/39 [==============================] - 15s 386ms/step - loss: 0.9886 - accuracy: 0.6371 - val_loss: 1.1294 - val_accuracy: 0.5674\n",
      "Epoch 3/20\n",
      "39/39 [==============================] - 14s 369ms/step - loss: 0.9068 - accuracy: 0.6551 - val_loss: 1.3311 - val_accuracy: 0.5328\n",
      "Epoch 4/20\n",
      "39/39 [==============================] - 15s 388ms/step - loss: 0.8781 - accuracy: 0.6723 - val_loss: 1.2314 - val_accuracy: 0.5631\n",
      "Epoch 5/20\n",
      "39/39 [==============================] - 15s 388ms/step - loss: 0.8109 - accuracy: 0.6923 - val_loss: 1.0422 - val_accuracy: 0.5556\n",
      "Epoch 6/20\n",
      "39/39 [==============================] - 16s 400ms/step - loss: 0.7864 - accuracy: 0.7136 - val_loss: 1.7174 - val_accuracy: 0.5018\n",
      "Epoch 7/20\n",
      "39/39 [==============================] - 14s 367ms/step - loss: 0.7551 - accuracy: 0.7109 - val_loss: 2.2118 - val_accuracy: 0.5235\n",
      "Epoch 8/20\n",
      "39/39 [==============================] - 14s 353ms/step - loss: 0.7116 - accuracy: 0.7309 - val_loss: 2.4543 - val_accuracy: 0.4522\n",
      "Epoch 9/20\n",
      "39/39 [==============================] - 14s 351ms/step - loss: 0.6979 - accuracy: 0.7359 - val_loss: 2.1299 - val_accuracy: 0.4957\n",
      "Epoch 10/20\n",
      "39/39 [==============================] - 13s 341ms/step - loss: 0.6354 - accuracy: 0.7679 - val_loss: 2.3614 - val_accuracy: 0.4932\n",
      "Epoch 11/20\n",
      "39/39 [==============================] - 15s 391ms/step - loss: 0.6400 - accuracy: 0.7739 - val_loss: 1.1451 - val_accuracy: 0.5959\n",
      "Epoch 12/20\n",
      "39/39 [==============================] - 15s 396ms/step - loss: 0.5907 - accuracy: 0.7941 - val_loss: 2.2039 - val_accuracy: 0.4711\n",
      "Epoch 13/20\n",
      "39/39 [==============================] - 16s 415ms/step - loss: 0.5326 - accuracy: 0.8075 - val_loss: 2.4222 - val_accuracy: 0.4576\n",
      "Epoch 14/20\n",
      "39/39 [==============================] - 15s 385ms/step - loss: 0.6641 - accuracy: 0.7653 - val_loss: 1.0891 - val_accuracy: 0.6209\n",
      "Epoch 15/20\n",
      "39/39 [==============================] - 15s 378ms/step - loss: 0.4983 - accuracy: 0.8175 - val_loss: 4.3358 - val_accuracy: 0.4536\n",
      "Epoch 16/20\n",
      "39/39 [==============================] - 14s 367ms/step - loss: 0.5225 - accuracy: 0.8260 - val_loss: 1.3370 - val_accuracy: 0.5571\n",
      "Epoch 17/20\n",
      "39/39 [==============================] - 16s 402ms/step - loss: 0.4549 - accuracy: 0.8329 - val_loss: 2.9284 - val_accuracy: 0.4729\n",
      "Epoch 18/20\n",
      "39/39 [==============================] - 14s 366ms/step - loss: 0.4663 - accuracy: 0.8372 - val_loss: 3.9989 - val_accuracy: 0.4558\n",
      "Epoch 19/20\n",
      "39/39 [==============================] - 13s 347ms/step - loss: 0.3890 - accuracy: 0.8711 - val_loss: 3.6470 - val_accuracy: 0.4961\n",
      "Epoch 20/20\n",
      "39/39 [==============================] - 15s 379ms/step - loss: 0.4240 - accuracy: 0.8478 - val_loss: 3.0149 - val_accuracy: 0.4807\n",
      "Duration: 0:04:55.783409\n"
     ]
    }
   ],
   "source": [
    "print(n)\n",
    "\n",
    "models_dsa[n].fit_model(image_sets_dsa[n],label_sets_dsa[n],x_val,y_val,epochs=20,batch_size = 128)\n",
    "n = n+1"
   ]
  },
  {
   "cell_type": "code",
   "execution_count": 17,
   "id": "bca8ffc0",
   "metadata": {},
   "outputs": [
    {
     "name": "stdout",
     "output_type": "stream",
     "text": [
      "0\n",
      "1\n",
      "2\n",
      "3\n",
      "4\n",
      "5\n",
      "6\n"
     ]
    }
   ],
   "source": [
    "for i in range(7):\n",
    "    print(i)"
   ]
  },
  {
   "cell_type": "code",
   "execution_count": null,
   "id": "9ce3a249",
   "metadata": {},
   "outputs": [],
   "source": [
    "loading = True\n",
    "\n",
    "models_dsa = []\n",
    "\n",
    "if loading:\n",
    "    for i in range(7):\n",
    "        model_dsa_dir = \"D:/models/intel/C3/intel_model_c3_sep_dsa_e2_\"+str(i)\n",
    "        print(model_dsa_dir)\n",
    "        model =utils.My_model('intel',True,model_dsa_dir)\n",
    "        model.model.compile(loss= 'categorical_crossentropy', optimizer = 'rmsprop', metrics = ['accuracy',tf.keras.metrics.Precision(), tf.keras.metrics.Recall()])\n",
    "        models_lsa.append(model)\n",
    "       "
   ]
  },
  {
   "cell_type": "code",
   "execution_count": 22,
   "id": "2b76f91b",
   "metadata": {},
   "outputs": [
    {
     "name": "stdout",
     "output_type": "stream",
     "text": [
      "7\n",
      "Epoch 1/20\n",
      "44/44 [==============================] - 20s 323ms/step - loss: 1.3139 - accuracy: 0.5490 - val_loss: 1.0318 - val_accuracy: 0.6352\n",
      "Epoch 2/20\n",
      "44/44 [==============================] - 13s 300ms/step - loss: 0.9326 - accuracy: 0.6607 - val_loss: 1.5681 - val_accuracy: 0.4904\n",
      "Epoch 3/20\n",
      "44/44 [==============================] - 13s 297ms/step - loss: 0.8626 - accuracy: 0.6820 - val_loss: 1.1357 - val_accuracy: 0.5642\n",
      "Epoch 4/20\n",
      "44/44 [==============================] - 13s 300ms/step - loss: 0.8330 - accuracy: 0.6876 - val_loss: 1.1728 - val_accuracy: 0.5720\n",
      "Epoch 5/20\n",
      "44/44 [==============================] - 13s 296ms/step - loss: 0.7329 - accuracy: 0.7380 - val_loss: 1.0324 - val_accuracy: 0.5892\n",
      "Epoch 6/20\n",
      "44/44 [==============================] - 13s 295ms/step - loss: 0.7097 - accuracy: 0.7382 - val_loss: 1.5976 - val_accuracy: 0.5221\n",
      "Epoch 7/20\n",
      "44/44 [==============================] - 13s 296ms/step - loss: 0.6782 - accuracy: 0.7512 - val_loss: 1.1679 - val_accuracy: 0.5756\n",
      "Epoch 8/20\n",
      "44/44 [==============================] - 13s 299ms/step - loss: 0.6536 - accuracy: 0.7551 - val_loss: 2.3692 - val_accuracy: 0.4943\n",
      "Epoch 9/20\n",
      "44/44 [==============================] - 13s 301ms/step - loss: 0.5884 - accuracy: 0.7893 - val_loss: 2.5407 - val_accuracy: 0.4344\n",
      "Epoch 10/20\n",
      "44/44 [==============================] - 13s 299ms/step - loss: 0.6002 - accuracy: 0.7775 - val_loss: 2.2317 - val_accuracy: 0.4750\n",
      "Epoch 11/20\n",
      "44/44 [==============================] - 13s 303ms/step - loss: 0.5723 - accuracy: 0.7932 - val_loss: 1.6865 - val_accuracy: 0.5332\n",
      "Epoch 12/20\n",
      "44/44 [==============================] - 14s 312ms/step - loss: 0.5212 - accuracy: 0.8152 - val_loss: 1.4755 - val_accuracy: 0.5414\n",
      "Epoch 13/20\n",
      "44/44 [==============================] - 14s 313ms/step - loss: 0.5050 - accuracy: 0.8224 - val_loss: 1.7552 - val_accuracy: 0.5296\n",
      "Epoch 14/20\n",
      "44/44 [==============================] - 16s 367ms/step - loss: 0.4372 - accuracy: 0.8447 - val_loss: 1.4731 - val_accuracy: 0.5863\n",
      "Epoch 15/20\n",
      "44/44 [==============================] - 14s 319ms/step - loss: 0.4556 - accuracy: 0.8379 - val_loss: 1.8662 - val_accuracy: 0.5114\n",
      "Epoch 16/20\n",
      "44/44 [==============================] - 14s 312ms/step - loss: 0.4750 - accuracy: 0.8363 - val_loss: 2.6916 - val_accuracy: 0.4879\n",
      "Epoch 17/20\n",
      "44/44 [==============================] - 13s 301ms/step - loss: 0.3990 - accuracy: 0.8574 - val_loss: 1.2868 - val_accuracy: 0.6066\n",
      "Epoch 18/20\n",
      "44/44 [==============================] - 13s 302ms/step - loss: 0.3973 - accuracy: 0.8672 - val_loss: 1.0835 - val_accuracy: 0.5892\n",
      "Epoch 19/20\n",
      "44/44 [==============================] - 13s 299ms/step - loss: 0.3987 - accuracy: 0.8612 - val_loss: 1.8301 - val_accuracy: 0.5182\n",
      "Epoch 20/20\n",
      "44/44 [==============================] - 13s 298ms/step - loss: 0.3392 - accuracy: 0.8876 - val_loss: 2.1462 - val_accuracy: 0.4925\n",
      "Duration: 0:04:35.402243\n"
     ]
    }
   ],
   "source": [
    "n=7\n",
    "print(n)\n",
    "\n",
    "models_dsa[n].fit_model(image_sets_dsa[n],label_sets_dsa[n],x_val,y_val,epochs=20,batch_size = 128)\n",
    "n = n+1"
   ]
  },
  {
   "cell_type": "code",
   "execution_count": 23,
   "id": "61db35c7",
   "metadata": {},
   "outputs": [
    {
     "name": "stdout",
     "output_type": "stream",
     "text": [
      "8\n",
      "Epoch 1/20\n",
      "50/50 [==============================] - 16s 296ms/step - loss: 1.1786 - accuracy: 0.6038 - val_loss: 0.9140 - val_accuracy: 0.6680\n",
      "Epoch 2/20\n",
      "50/50 [==============================] - 15s 292ms/step - loss: 0.8841 - accuracy: 0.6683 - val_loss: 1.8508 - val_accuracy: 0.5057\n",
      "Epoch 3/20\n",
      "50/50 [==============================] - 15s 291ms/step - loss: 0.8622 - accuracy: 0.6847 - val_loss: 1.2368 - val_accuracy: 0.5767\n",
      "Epoch 4/20\n",
      "50/50 [==============================] - 15s 299ms/step - loss: 0.7787 - accuracy: 0.7153 - val_loss: 1.5844 - val_accuracy: 0.4964\n",
      "Epoch 5/20\n",
      "50/50 [==============================] - 15s 293ms/step - loss: 0.7483 - accuracy: 0.7227 - val_loss: 1.2816 - val_accuracy: 0.5806\n",
      "Epoch 6/20\n",
      "50/50 [==============================] - 15s 292ms/step - loss: 0.7209 - accuracy: 0.7277 - val_loss: 1.4454 - val_accuracy: 0.5089\n",
      "Epoch 7/20\n",
      "50/50 [==============================] - 15s 291ms/step - loss: 0.6938 - accuracy: 0.7507 - val_loss: 2.0445 - val_accuracy: 0.5196\n",
      "Epoch 8/20\n",
      "50/50 [==============================] - 15s 296ms/step - loss: 0.7009 - accuracy: 0.7518 - val_loss: 1.5727 - val_accuracy: 0.5489\n",
      "Epoch 9/20\n",
      "50/50 [==============================] - 15s 293ms/step - loss: 0.6169 - accuracy: 0.7715 - val_loss: 1.8273 - val_accuracy: 0.5239\n",
      "Epoch 10/20\n",
      "50/50 [==============================] - 15s 294ms/step - loss: 0.6070 - accuracy: 0.7795 - val_loss: 1.3299 - val_accuracy: 0.5695\n",
      "Epoch 11/20\n",
      "50/50 [==============================] - 15s 292ms/step - loss: 0.5581 - accuracy: 0.8013 - val_loss: 1.2393 - val_accuracy: 0.5999\n",
      "Epoch 12/20\n",
      "50/50 [==============================] - 15s 292ms/step - loss: 0.5287 - accuracy: 0.8106 - val_loss: 1.3451 - val_accuracy: 0.5585\n",
      "Epoch 13/20\n",
      "50/50 [==============================] - 15s 297ms/step - loss: 0.4894 - accuracy: 0.8224 - val_loss: 2.2404 - val_accuracy: 0.5303\n",
      "Epoch 14/20\n",
      "50/50 [==============================] - 15s 293ms/step - loss: 0.5212 - accuracy: 0.8134 - val_loss: 1.1923 - val_accuracy: 0.6198\n",
      "Epoch 15/20\n",
      "50/50 [==============================] - 15s 294ms/step - loss: 0.4717 - accuracy: 0.8307 - val_loss: 1.7635 - val_accuracy: 0.6113\n",
      "Epoch 16/20\n",
      "50/50 [==============================] - 15s 293ms/step - loss: 0.4531 - accuracy: 0.8445 - val_loss: 2.1762 - val_accuracy: 0.5246\n",
      "Epoch 17/20\n",
      "50/50 [==============================] - 15s 293ms/step - loss: 0.4621 - accuracy: 0.8413 - val_loss: 1.3012 - val_accuracy: 0.5884\n",
      "Epoch 18/20\n",
      "50/50 [==============================] - 15s 297ms/step - loss: 0.4499 - accuracy: 0.8394 - val_loss: 2.4453 - val_accuracy: 0.5432\n",
      "Epoch 19/20\n",
      "50/50 [==============================] - 15s 292ms/step - loss: 0.4218 - accuracy: 0.8549 - val_loss: 1.3633 - val_accuracy: 0.5674\n",
      "Epoch 20/20\n",
      "50/50 [==============================] - 15s 311ms/step - loss: 0.4215 - accuracy: 0.8504 - val_loss: 2.1619 - val_accuracy: 0.5350\n",
      "Duration: 0:04:55.624787\n"
     ]
    }
   ],
   "source": [
    "print(n)\n",
    "\n",
    "models_dsa[n].fit_model(image_sets_dsa[n],label_sets_dsa[n],x_val,y_val,epochs=20,batch_size = 128)\n",
    "n = n+1"
   ]
  },
  {
   "cell_type": "code",
   "execution_count": 24,
   "id": "a9320edc",
   "metadata": {},
   "outputs": [
    {
     "name": "stdout",
     "output_type": "stream",
     "text": [
      "9\n",
      "Epoch 1/20\n",
      "55/55 [==============================] - 18s 299ms/step - loss: 1.2194 - accuracy: 0.5793 - val_loss: 1.4030 - val_accuracy: 0.5432\n",
      "Epoch 2/20\n",
      "55/55 [==============================] - 16s 292ms/step - loss: 0.8515 - accuracy: 0.6864 - val_loss: 1.7573 - val_accuracy: 0.5556\n",
      "Epoch 3/20\n",
      "55/55 [==============================] - 16s 285ms/step - loss: 0.7792 - accuracy: 0.7096 - val_loss: 0.9715 - val_accuracy: 0.6273\n",
      "Epoch 4/20\n",
      "55/55 [==============================] - 16s 291ms/step - loss: 0.7214 - accuracy: 0.7310 - val_loss: 1.4171 - val_accuracy: 0.5724\n",
      "Epoch 5/20\n",
      "55/55 [==============================] - 16s 298ms/step - loss: 0.7025 - accuracy: 0.7310 - val_loss: 1.3097 - val_accuracy: 0.5610\n",
      "Epoch 6/20\n",
      "55/55 [==============================] - 16s 288ms/step - loss: 0.7078 - accuracy: 0.7384 - val_loss: 0.9445 - val_accuracy: 0.6551\n",
      "Epoch 7/20\n",
      "55/55 [==============================] - 17s 305ms/step - loss: 0.6242 - accuracy: 0.7658 - val_loss: 1.0727 - val_accuracy: 0.6134\n",
      "Epoch 8/20\n",
      "55/55 [==============================] - 16s 295ms/step - loss: 0.6252 - accuracy: 0.7750 - val_loss: 1.3155 - val_accuracy: 0.5752\n",
      "Epoch 9/20\n",
      "55/55 [==============================] - 17s 311ms/step - loss: 0.5633 - accuracy: 0.8001 - val_loss: 1.4355 - val_accuracy: 0.5852\n",
      "Epoch 10/20\n",
      "55/55 [==============================] - 16s 284ms/step - loss: 0.5542 - accuracy: 0.7981 - val_loss: 1.2442 - val_accuracy: 0.5874\n",
      "Epoch 11/20\n",
      "55/55 [==============================] - 16s 283ms/step - loss: 0.5282 - accuracy: 0.8133 - val_loss: 1.4388 - val_accuracy: 0.5439\n",
      "Epoch 12/20\n",
      "55/55 [==============================] - 16s 285ms/step - loss: 0.5081 - accuracy: 0.8131 - val_loss: 1.6776 - val_accuracy: 0.5510\n",
      "Epoch 13/20\n",
      "55/55 [==============================] - 16s 289ms/step - loss: 0.4916 - accuracy: 0.8289 - val_loss: 1.6443 - val_accuracy: 0.5353\n",
      "Epoch 14/20\n",
      "55/55 [==============================] - 18s 322ms/step - loss: 0.4579 - accuracy: 0.8280 - val_loss: 2.2269 - val_accuracy: 0.5499\n",
      "Epoch 15/20\n",
      "55/55 [==============================] - 18s 325ms/step - loss: 0.4349 - accuracy: 0.8452 - val_loss: 2.0284 - val_accuracy: 0.5432\n",
      "Epoch 16/20\n",
      "55/55 [==============================] - 17s 316ms/step - loss: 0.4185 - accuracy: 0.8498 - val_loss: 2.3254 - val_accuracy: 0.5496\n",
      "Epoch 17/20\n",
      "55/55 [==============================] - 17s 314ms/step - loss: 0.4834 - accuracy: 0.8341 - val_loss: 1.7106 - val_accuracy: 0.5781\n",
      "Epoch 18/20\n",
      "55/55 [==============================] - 17s 302ms/step - loss: 0.3868 - accuracy: 0.8710 - val_loss: 1.6543 - val_accuracy: 0.5653\n",
      "Epoch 19/20\n",
      "55/55 [==============================] - 17s 316ms/step - loss: 0.3853 - accuracy: 0.8632 - val_loss: 1.5551 - val_accuracy: 0.5489\n",
      "Epoch 20/20\n",
      "55/55 [==============================] - 18s 325ms/step - loss: 0.3248 - accuracy: 0.8818 - val_loss: 1.0686 - val_accuracy: 0.6031\n",
      "Duration: 0:05:32.412901\n"
     ]
    }
   ],
   "source": [
    "print(n)#9\n",
    "\n",
    "models_dsa[n].fit_model(image_sets_dsa[n],label_sets_dsa[n],x_val,y_val,epochs=20,batch_size = 128)\n",
    "n = n+1"
   ]
  },
  {
   "cell_type": "code",
   "execution_count": 25,
   "id": "e523b577",
   "metadata": {},
   "outputs": [
    {
     "name": "stdout",
     "output_type": "stream",
     "text": [
      "10\n",
      "Epoch 1/20\n",
      "61/61 [==============================] - 22s 336ms/step - loss: 1.1040 - accuracy: 0.6195 - val_loss: 1.5230 - val_accuracy: 0.5235\n",
      "Epoch 2/20\n",
      "61/61 [==============================] - 18s 298ms/step - loss: 0.8082 - accuracy: 0.7131 - val_loss: 1.2927 - val_accuracy: 0.5428\n",
      "Epoch 3/20\n",
      "61/61 [==============================] - 20s 332ms/step - loss: 0.7644 - accuracy: 0.7204 - val_loss: 1.2494 - val_accuracy: 0.5770\n",
      "Epoch 4/20\n",
      "61/61 [==============================] - 21s 350ms/step - loss: 0.7030 - accuracy: 0.7447 - val_loss: 1.1273 - val_accuracy: 0.5959\n",
      "Epoch 5/20\n",
      "61/61 [==============================] - 20s 329ms/step - loss: 0.6739 - accuracy: 0.7635 - val_loss: 1.7665 - val_accuracy: 0.5399\n",
      "Epoch 6/20\n",
      "61/61 [==============================] - 19s 319ms/step - loss: 0.6408 - accuracy: 0.7653 - val_loss: 1.7034 - val_accuracy: 0.5321\n",
      "Epoch 7/20\n",
      "61/61 [==============================] - 18s 290ms/step - loss: 0.5969 - accuracy: 0.7843 - val_loss: 1.7040 - val_accuracy: 0.4861\n",
      "Epoch 8/20\n",
      "61/61 [==============================] - 18s 288ms/step - loss: 0.5917 - accuracy: 0.7872 - val_loss: 2.3044 - val_accuracy: 0.4929\n",
      "Epoch 9/20\n",
      "61/61 [==============================] - 17s 284ms/step - loss: 0.5530 - accuracy: 0.8022 - val_loss: 1.8371 - val_accuracy: 0.5168\n",
      "Epoch 10/20\n",
      "61/61 [==============================] - 17s 282ms/step - loss: 0.5501 - accuracy: 0.8024 - val_loss: 1.5767 - val_accuracy: 0.5514\n",
      "Epoch 11/20\n",
      "61/61 [==============================] - 18s 290ms/step - loss: 0.4994 - accuracy: 0.8234 - val_loss: 1.7483 - val_accuracy: 0.5503\n",
      "Epoch 12/20\n",
      "61/61 [==============================] - 18s 299ms/step - loss: 0.4837 - accuracy: 0.8225 - val_loss: 1.1356 - val_accuracy: 0.6038\n",
      "Epoch 13/20\n",
      "61/61 [==============================] - 17s 286ms/step - loss: 0.4715 - accuracy: 0.8364 - val_loss: 1.2563 - val_accuracy: 0.5906\n",
      "Epoch 14/20\n",
      "61/61 [==============================] - 17s 283ms/step - loss: 0.4625 - accuracy: 0.8340 - val_loss: 1.7464 - val_accuracy: 0.5300\n",
      "Epoch 15/20\n",
      "61/61 [==============================] - 17s 284ms/step - loss: 0.4285 - accuracy: 0.8594 - val_loss: 1.6004 - val_accuracy: 0.5599\n",
      "Epoch 16/20\n",
      "61/61 [==============================] - 17s 285ms/step - loss: 0.4108 - accuracy: 0.8569 - val_loss: 1.7552 - val_accuracy: 0.5407\n",
      "Epoch 17/20\n",
      "61/61 [==============================] - 17s 283ms/step - loss: 0.3935 - accuracy: 0.8638 - val_loss: 1.7824 - val_accuracy: 0.5624\n",
      "Epoch 18/20\n",
      "61/61 [==============================] - 17s 285ms/step - loss: 0.3929 - accuracy: 0.8589 - val_loss: 1.2477 - val_accuracy: 0.5720\n",
      "Epoch 19/20\n",
      "61/61 [==============================] - 17s 284ms/step - loss: 0.3768 - accuracy: 0.8713 - val_loss: 1.7906 - val_accuracy: 0.5535\n",
      "Epoch 20/20\n",
      "61/61 [==============================] - 17s 285ms/step - loss: 0.3590 - accuracy: 0.8739 - val_loss: 2.1418 - val_accuracy: 0.5321\n",
      "Duration: 0:06:05.606389\n"
     ]
    }
   ],
   "source": [
    "print(n)\n",
    "\n",
    "models_dsa[n].fit_model(image_sets_dsa[n],label_sets_dsa[n],x_val,y_val,epochs=20,batch_size = 128)\n",
    "n = n+1"
   ]
  },
  {
   "cell_type": "code",
   "execution_count": 26,
   "id": "e2760bd6",
   "metadata": {},
   "outputs": [
    {
     "name": "stdout",
     "output_type": "stream",
     "text": [
      "11\n",
      "Epoch 1/20\n",
      "66/66 [==============================] - 21s 295ms/step - loss: 1.0265 - accuracy: 0.6546 - val_loss: 1.1369 - val_accuracy: 0.5774\n",
      "Epoch 2/20\n",
      "66/66 [==============================] - 19s 288ms/step - loss: 0.7898 - accuracy: 0.7142 - val_loss: 1.1505 - val_accuracy: 0.5399\n",
      "Epoch 3/20\n",
      "66/66 [==============================] - 19s 286ms/step - loss: 0.6944 - accuracy: 0.7488 - val_loss: 1.1718 - val_accuracy: 0.5863\n",
      "Epoch 4/20\n",
      "66/66 [==============================] - 19s 286ms/step - loss: 0.6881 - accuracy: 0.7557 - val_loss: 0.8664 - val_accuracy: 0.6733\n",
      "Epoch 5/20\n",
      "66/66 [==============================] - 19s 287ms/step - loss: 0.6315 - accuracy: 0.7726 - val_loss: 1.3921 - val_accuracy: 0.5364\n",
      "Epoch 6/20\n",
      "66/66 [==============================] - 19s 295ms/step - loss: 0.5790 - accuracy: 0.7921 - val_loss: 1.9832 - val_accuracy: 0.5164\n",
      "Epoch 7/20\n",
      "66/66 [==============================] - 19s 286ms/step - loss: 0.5793 - accuracy: 0.7900 - val_loss: 1.3164 - val_accuracy: 0.5624\n",
      "Epoch 8/20\n",
      "66/66 [==============================] - 19s 293ms/step - loss: 0.5696 - accuracy: 0.7936 - val_loss: 1.3092 - val_accuracy: 0.5713\n",
      "Epoch 9/20\n",
      "66/66 [==============================] - 19s 288ms/step - loss: 0.5208 - accuracy: 0.8121 - val_loss: 1.3003 - val_accuracy: 0.5849\n",
      "Epoch 10/20\n",
      "66/66 [==============================] - 19s 285ms/step - loss: 0.4916 - accuracy: 0.8249 - val_loss: 1.5522 - val_accuracy: 0.5731\n",
      "Epoch 11/20\n",
      "66/66 [==============================] - 19s 284ms/step - loss: 0.4690 - accuracy: 0.8278 - val_loss: 1.2364 - val_accuracy: 0.5795\n",
      "Epoch 12/20\n",
      "66/66 [==============================] - 19s 284ms/step - loss: 0.4443 - accuracy: 0.8446 - val_loss: 1.5829 - val_accuracy: 0.5464\n",
      "Epoch 13/20\n",
      "66/66 [==============================] - 19s 284ms/step - loss: 0.4387 - accuracy: 0.8482 - val_loss: 1.5690 - val_accuracy: 0.5243\n",
      "Epoch 14/20\n",
      "66/66 [==============================] - 19s 285ms/step - loss: 0.3887 - accuracy: 0.8650 - val_loss: 2.0296 - val_accuracy: 0.5300\n",
      "Epoch 15/20\n",
      "66/66 [==============================] - 19s 286ms/step - loss: 0.4316 - accuracy: 0.8466 - val_loss: 1.5617 - val_accuracy: 0.5360\n",
      "Epoch 16/20\n",
      "66/66 [==============================] - 19s 284ms/step - loss: 0.4015 - accuracy: 0.8622 - val_loss: 1.6134 - val_accuracy: 0.5310\n",
      "Epoch 17/20\n",
      "66/66 [==============================] - 19s 286ms/step - loss: 0.3477 - accuracy: 0.8811 - val_loss: 1.6304 - val_accuracy: 0.5524\n",
      "Epoch 18/20\n",
      "66/66 [==============================] - 19s 285ms/step - loss: 0.3311 - accuracy: 0.8833 - val_loss: 1.5870 - val_accuracy: 0.5563\n",
      "Epoch 19/20\n",
      "66/66 [==============================] - 19s 284ms/step - loss: 0.3620 - accuracy: 0.8702 - val_loss: 1.5225 - val_accuracy: 0.5717\n",
      "Epoch 20/20\n",
      "66/66 [==============================] - 19s 284ms/step - loss: 0.3409 - accuracy: 0.8849 - val_loss: 1.6933 - val_accuracy: 0.5403\n",
      "Duration: 0:06:19.754355\n"
     ]
    }
   ],
   "source": [
    "print(n)\n",
    "\n",
    "models_dsa[n].fit_model(image_sets_dsa[n],label_sets_dsa[n],x_val,y_val,epochs=20,batch_size = 128)\n",
    "n = n+1"
   ]
  },
  {
   "cell_type": "code",
   "execution_count": 27,
   "id": "19356b89",
   "metadata": {},
   "outputs": [
    {
     "name": "stdout",
     "output_type": "stream",
     "text": [
      "12\n",
      "Epoch 1/20\n",
      "72/72 [==============================] - 22s 285ms/step - loss: 0.9956 - accuracy: 0.6508 - val_loss: 0.8741 - val_accuracy: 0.6733\n",
      "Epoch 2/20\n",
      "72/72 [==============================] - 20s 278ms/step - loss: 0.7771 - accuracy: 0.7218 - val_loss: 0.8981 - val_accuracy: 0.6772\n",
      "Epoch 3/20\n",
      "72/72 [==============================] - 20s 279ms/step - loss: 0.7401 - accuracy: 0.7294 - val_loss: 1.3747 - val_accuracy: 0.5510\n",
      "Epoch 4/20\n",
      "72/72 [==============================] - 21s 292ms/step - loss: 0.7305 - accuracy: 0.7343 - val_loss: 1.1316 - val_accuracy: 0.6302\n",
      "Epoch 5/20\n",
      "72/72 [==============================] - 20s 279ms/step - loss: 0.6831 - accuracy: 0.7472 - val_loss: 1.0581 - val_accuracy: 0.6177\n",
      "Epoch 6/20\n",
      "72/72 [==============================] - 20s 280ms/step - loss: 0.6482 - accuracy: 0.7680 - val_loss: 0.9766 - val_accuracy: 0.6494\n",
      "Epoch 7/20\n",
      "72/72 [==============================] - 20s 282ms/step - loss: 0.6140 - accuracy: 0.7751 - val_loss: 1.1395 - val_accuracy: 0.5906\n",
      "Epoch 8/20\n",
      "72/72 [==============================] - 20s 280ms/step - loss: 0.6054 - accuracy: 0.7802 - val_loss: 1.0921 - val_accuracy: 0.5710\n",
      "Epoch 9/20\n",
      "72/72 [==============================] - 20s 281ms/step - loss: 0.5835 - accuracy: 0.7878 - val_loss: 1.0704 - val_accuracy: 0.5660\n",
      "Epoch 10/20\n",
      "72/72 [==============================] - 20s 281ms/step - loss: 0.5311 - accuracy: 0.8072 - val_loss: 0.8753 - val_accuracy: 0.6701\n",
      "Epoch 11/20\n",
      "72/72 [==============================] - 20s 279ms/step - loss: 0.5114 - accuracy: 0.8111 - val_loss: 1.1351 - val_accuracy: 0.5949\n",
      "Epoch 12/20\n",
      "72/72 [==============================] - 20s 279ms/step - loss: 0.5468 - accuracy: 0.8103 - val_loss: 1.0202 - val_accuracy: 0.6305\n",
      "Epoch 13/20\n",
      "72/72 [==============================] - 20s 281ms/step - loss: 0.4899 - accuracy: 0.8251 - val_loss: 1.0013 - val_accuracy: 0.6555\n",
      "Epoch 14/20\n",
      "72/72 [==============================] - 21s 291ms/step - loss: 0.4493 - accuracy: 0.8384 - val_loss: 0.8588 - val_accuracy: 0.6805\n",
      "Epoch 15/20\n",
      "72/72 [==============================] - 20s 284ms/step - loss: 0.4406 - accuracy: 0.8461 - val_loss: 0.9382 - val_accuracy: 0.6683\n",
      "Epoch 16/20\n",
      "72/72 [==============================] - 21s 291ms/step - loss: 0.4381 - accuracy: 0.8456 - val_loss: 1.0086 - val_accuracy: 0.6220\n",
      "Epoch 17/20\n",
      "72/72 [==============================] - 20s 283ms/step - loss: 0.4308 - accuracy: 0.8459 - val_loss: 1.0197 - val_accuracy: 0.6890\n",
      "Epoch 18/20\n",
      "72/72 [==============================] - 21s 288ms/step - loss: 0.3754 - accuracy: 0.8666 - val_loss: 1.1711 - val_accuracy: 0.6320\n",
      "Epoch 19/20\n",
      "72/72 [==============================] - 20s 283ms/step - loss: 0.3958 - accuracy: 0.8630 - val_loss: 0.8553 - val_accuracy: 0.6680\n",
      "Epoch 20/20\n",
      "72/72 [==============================] - 20s 280ms/step - loss: 0.3706 - accuracy: 0.8710 - val_loss: 0.9553 - val_accuracy: 0.6826\n",
      "Duration: 0:06:48.721765\n"
     ]
    }
   ],
   "source": [
    "print(n)\n",
    "\n",
    "models_dsa[n].fit_model(image_sets_dsa[n],label_sets_dsa[n],x_val,y_val,epochs=20,batch_size = 128)\n",
    "n = n+1"
   ]
  },
  {
   "cell_type": "code",
   "execution_count": 28,
   "id": "ca949272",
   "metadata": {},
   "outputs": [
    {
     "name": "stdout",
     "output_type": "stream",
     "text": [
      "13\n",
      "Epoch 1/20\n",
      "77/77 [==============================] - 25s 303ms/step - loss: 0.9526 - accuracy: 0.6602 - val_loss: 0.7496 - val_accuracy: 0.7168\n",
      "Epoch 2/20\n",
      "77/77 [==============================] - 22s 280ms/step - loss: 0.7868 - accuracy: 0.7117 - val_loss: 0.7901 - val_accuracy: 0.7133\n",
      "Epoch 3/20\n",
      "77/77 [==============================] - 23s 293ms/step - loss: 0.7276 - accuracy: 0.7344 - val_loss: 0.8348 - val_accuracy: 0.7004\n",
      "Epoch 4/20\n",
      "77/77 [==============================] - 22s 283ms/step - loss: 0.7051 - accuracy: 0.7407 - val_loss: 0.8352 - val_accuracy: 0.7040\n",
      "Epoch 5/20\n",
      "77/77 [==============================] - 22s 284ms/step - loss: 0.6659 - accuracy: 0.7621 - val_loss: 0.9804 - val_accuracy: 0.6783\n",
      "Epoch 6/20\n",
      "77/77 [==============================] - 22s 282ms/step - loss: 0.6421 - accuracy: 0.7651 - val_loss: 0.9201 - val_accuracy: 0.6623\n",
      "Epoch 7/20\n",
      "77/77 [==============================] - 22s 284ms/step - loss: 0.6189 - accuracy: 0.7735 - val_loss: 0.8604 - val_accuracy: 0.6937\n",
      "Epoch 8/20\n",
      "77/77 [==============================] - 22s 282ms/step - loss: 0.5951 - accuracy: 0.7796 - val_loss: 0.9165 - val_accuracy: 0.6755\n",
      "Epoch 9/20\n",
      "77/77 [==============================] - 22s 287ms/step - loss: 0.5727 - accuracy: 0.7909 - val_loss: 0.7476 - val_accuracy: 0.7186\n",
      "Epoch 10/20\n",
      "77/77 [==============================] - 22s 290ms/step - loss: 0.5339 - accuracy: 0.7996 - val_loss: 0.8550 - val_accuracy: 0.6944\n",
      "Epoch 11/20\n",
      "77/77 [==============================] - 22s 281ms/step - loss: 0.5172 - accuracy: 0.8117 - val_loss: 0.8523 - val_accuracy: 0.7061\n",
      "Epoch 12/20\n",
      "77/77 [==============================] - 22s 282ms/step - loss: 0.5032 - accuracy: 0.8181 - val_loss: 0.8448 - val_accuracy: 0.7090\n",
      "Epoch 13/20\n",
      "77/77 [==============================] - 22s 281ms/step - loss: 0.4823 - accuracy: 0.8215 - val_loss: 1.1084 - val_accuracy: 0.6427\n",
      "Epoch 14/20\n",
      "77/77 [==============================] - 24s 311ms/step - loss: 0.4726 - accuracy: 0.8273 - val_loss: 0.7012 - val_accuracy: 0.7361\n",
      "Epoch 15/20\n",
      "77/77 [==============================] - 22s 286ms/step - loss: 0.4411 - accuracy: 0.8418 - val_loss: 0.8860 - val_accuracy: 0.7061\n",
      "Epoch 16/20\n",
      "77/77 [==============================] - 22s 288ms/step - loss: 0.4502 - accuracy: 0.8399 - val_loss: 0.8918 - val_accuracy: 0.7133\n",
      "Epoch 17/20\n",
      "77/77 [==============================] - 22s 281ms/step - loss: 0.4185 - accuracy: 0.8507 - val_loss: 0.7738 - val_accuracy: 0.7140\n",
      "Epoch 18/20\n",
      "77/77 [==============================] - 23s 299ms/step - loss: 0.3966 - accuracy: 0.8620 - val_loss: 1.3686 - val_accuracy: 0.6345\n",
      "Epoch 19/20\n",
      "77/77 [==============================] - 28s 365ms/step - loss: 0.3976 - accuracy: 0.8609 - val_loss: 1.1240 - val_accuracy: 0.6865\n",
      "Epoch 20/20\n",
      "77/77 [==============================] - 33s 426ms/step - loss: 0.3879 - accuracy: 0.8623 - val_loss: 0.9530 - val_accuracy: 0.6983\n",
      "Duration: 0:07:40.879816\n"
     ]
    }
   ],
   "source": [
    "print(n)\n",
    "\n",
    "models_dsa[n].fit_model(image_sets_dsa[n],label_sets_dsa[n],x_val,y_val,epochs=20,batch_size = 128)\n",
    "n = n+1"
   ]
  },
  {
   "cell_type": "code",
   "execution_count": 29,
   "id": "f975c6fb",
   "metadata": {},
   "outputs": [
    {
     "name": "stdout",
     "output_type": "stream",
     "text": [
      "14\n",
      "Epoch 1/20\n",
      "83/83 [==============================] - 31s 318ms/step - loss: 1.0091 - accuracy: 0.6414 - val_loss: 1.1078 - val_accuracy: 0.6184\n",
      "Epoch 2/20\n",
      "83/83 [==============================] - 23s 281ms/step - loss: 0.8259 - accuracy: 0.7058 - val_loss: 1.3660 - val_accuracy: 0.5136\n",
      "Epoch 3/20\n",
      "83/83 [==============================] - 23s 283ms/step - loss: 0.7882 - accuracy: 0.7124 - val_loss: 0.8392 - val_accuracy: 0.6972\n",
      "Epoch 4/20\n",
      "83/83 [==============================] - 24s 289ms/step - loss: 0.7018 - accuracy: 0.7371 - val_loss: 0.7954 - val_accuracy: 0.7108\n",
      "Epoch 5/20\n",
      "83/83 [==============================] - 25s 302ms/step - loss: 0.6815 - accuracy: 0.7436 - val_loss: 0.9211 - val_accuracy: 0.6790\n",
      "Epoch 6/20\n",
      "83/83 [==============================] - 25s 298ms/step - loss: 0.6689 - accuracy: 0.7573 - val_loss: 0.9311 - val_accuracy: 0.6705\n",
      "Epoch 7/20\n",
      "83/83 [==============================] - 24s 290ms/step - loss: 0.6173 - accuracy: 0.7684 - val_loss: 0.8598 - val_accuracy: 0.6951\n",
      "Epoch 8/20\n",
      "83/83 [==============================] - 27s 324ms/step - loss: 0.6124 - accuracy: 0.7742 - val_loss: 0.6578 - val_accuracy: 0.7525\n",
      "Epoch 9/20\n",
      "83/83 [==============================] - 25s 307ms/step - loss: 0.5715 - accuracy: 0.7924 - val_loss: 0.7497 - val_accuracy: 0.7150\n",
      "Epoch 10/20\n",
      "83/83 [==============================] - 27s 327ms/step - loss: 0.5415 - accuracy: 0.8008 - val_loss: 1.1043 - val_accuracy: 0.6459\n",
      "Epoch 11/20\n",
      "83/83 [==============================] - 26s 312ms/step - loss: 0.5953 - accuracy: 0.7916 - val_loss: 1.0647 - val_accuracy: 0.6648\n",
      "Epoch 12/20\n",
      "83/83 [==============================] - 24s 288ms/step - loss: 0.5201 - accuracy: 0.8112 - val_loss: 1.0952 - val_accuracy: 0.6576\n",
      "Epoch 13/20\n",
      "83/83 [==============================] - 25s 296ms/step - loss: 0.5255 - accuracy: 0.8077 - val_loss: 0.9114 - val_accuracy: 0.7072\n",
      "Epoch 14/20\n",
      "83/83 [==============================] - 24s 288ms/step - loss: 0.5077 - accuracy: 0.8184 - val_loss: 0.9886 - val_accuracy: 0.6837\n",
      "Epoch 15/20\n",
      "83/83 [==============================] - 26s 312ms/step - loss: 0.4731 - accuracy: 0.8254 - val_loss: 0.8011 - val_accuracy: 0.7175\n",
      "Epoch 16/20\n",
      "83/83 [==============================] - 23s 282ms/step - loss: 0.4319 - accuracy: 0.8448 - val_loss: 0.9333 - val_accuracy: 0.6366\n",
      "Epoch 17/20\n",
      "83/83 [==============================] - 23s 282ms/step - loss: 0.4532 - accuracy: 0.8355 - val_loss: 0.7355 - val_accuracy: 0.7315\n",
      "Epoch 18/20\n",
      "83/83 [==============================] - 26s 309ms/step - loss: 0.4193 - accuracy: 0.8478 - val_loss: 1.5233 - val_accuracy: 0.5795\n",
      "Epoch 19/20\n",
      "83/83 [==============================] - 25s 307ms/step - loss: 0.5280 - accuracy: 0.8321 - val_loss: 0.8900 - val_accuracy: 0.7183\n",
      "Epoch 20/20\n",
      "83/83 [==============================] - 27s 326ms/step - loss: 0.3915 - accuracy: 0.8614 - val_loss: 1.4148 - val_accuracy: 0.5924\n",
      "Duration: 0:08:23.994035\n"
     ]
    }
   ],
   "source": [
    "print(n)#14\n",
    "\n",
    "models_dsa[n].fit_model(image_sets_dsa[n],label_sets_dsa[n],x_val,y_val,epochs=20,batch_size = 128)\n",
    "n = n+1"
   ]
  },
  {
   "cell_type": "code",
   "execution_count": 30,
   "id": "d8821b6e",
   "metadata": {},
   "outputs": [
    {
     "name": "stdout",
     "output_type": "stream",
     "text": [
      "15\n",
      "Epoch 1/20\n",
      "88/88 [==============================] - 27s 286ms/step - loss: 0.9539 - accuracy: 0.6649 - val_loss: 0.7131 - val_accuracy: 0.7368\n",
      "Epoch 2/20\n",
      "88/88 [==============================] - 25s 287ms/step - loss: 0.7550 - accuracy: 0.7226 - val_loss: 0.7933 - val_accuracy: 0.7261\n",
      "Epoch 3/20\n",
      "88/88 [==============================] - 27s 302ms/step - loss: 0.7200 - accuracy: 0.7385 - val_loss: 0.7096 - val_accuracy: 0.7257\n",
      "Epoch 4/20\n",
      "88/88 [==============================] - 27s 312ms/step - loss: 0.6833 - accuracy: 0.7476 - val_loss: 1.0486 - val_accuracy: 0.6334\n",
      "Epoch 5/20\n",
      "88/88 [==============================] - 25s 281ms/step - loss: 0.6510 - accuracy: 0.7627 - val_loss: 0.7480 - val_accuracy: 0.7293\n",
      "Epoch 6/20\n",
      "88/88 [==============================] - 25s 282ms/step - loss: 0.6375 - accuracy: 0.7628 - val_loss: 0.7179 - val_accuracy: 0.7293\n",
      "Epoch 7/20\n",
      "88/88 [==============================] - 28s 316ms/step - loss: 0.6041 - accuracy: 0.7796 - val_loss: 0.7775 - val_accuracy: 0.7254\n",
      "Epoch 8/20\n",
      "88/88 [==============================] - 28s 320ms/step - loss: 0.5610 - accuracy: 0.7940 - val_loss: 0.7494 - val_accuracy: 0.7165\n",
      "Epoch 9/20\n",
      "88/88 [==============================] - 27s 309ms/step - loss: 0.5590 - accuracy: 0.7920 - val_loss: 0.9400 - val_accuracy: 0.6972\n",
      "Epoch 10/20\n",
      "88/88 [==============================] - 25s 280ms/step - loss: 0.5306 - accuracy: 0.8032 - val_loss: 0.9634 - val_accuracy: 0.7079\n",
      "Epoch 11/20\n",
      "88/88 [==============================] - 26s 291ms/step - loss: 0.5164 - accuracy: 0.8172 - val_loss: 0.7137 - val_accuracy: 0.7357\n",
      "Epoch 12/20\n",
      "88/88 [==============================] - 27s 307ms/step - loss: 0.5157 - accuracy: 0.8120 - val_loss: 0.8025 - val_accuracy: 0.7172\n",
      "Epoch 13/20\n",
      "88/88 [==============================] - 27s 312ms/step - loss: 0.4775 - accuracy: 0.8324 - val_loss: 0.8861 - val_accuracy: 0.7172\n",
      "Epoch 14/20\n",
      "88/88 [==============================] - 25s 285ms/step - loss: 0.4750 - accuracy: 0.8271 - val_loss: 0.8914 - val_accuracy: 0.6676\n",
      "Epoch 15/20\n",
      "88/88 [==============================] - 25s 280ms/step - loss: 0.4541 - accuracy: 0.8343 - val_loss: 0.8957 - val_accuracy: 0.7001\n",
      "Epoch 16/20\n",
      "88/88 [==============================] - 28s 321ms/step - loss: 0.4291 - accuracy: 0.8434 - val_loss: 0.7985 - val_accuracy: 0.7261\n",
      "Epoch 17/20\n",
      "88/88 [==============================] - 24s 278ms/step - loss: 0.4031 - accuracy: 0.8554 - val_loss: 0.8211 - val_accuracy: 0.7154\n",
      "Epoch 18/20\n",
      "88/88 [==============================] - 27s 310ms/step - loss: 0.4010 - accuracy: 0.8598 - val_loss: 0.7700 - val_accuracy: 0.7129\n",
      "Epoch 19/20\n",
      "88/88 [==============================] - 24s 278ms/step - loss: 0.3821 - accuracy: 0.8630 - val_loss: 1.0756 - val_accuracy: 0.7008\n",
      "Epoch 20/20\n",
      "88/88 [==============================] - 24s 276ms/step - loss: 0.3597 - accuracy: 0.8766 - val_loss: 0.9164 - val_accuracy: 0.7008\n",
      "Duration: 0:08:41.622655\n"
     ]
    }
   ],
   "source": [
    "print(n)\n",
    "\n",
    "models_dsa[n].fit_model(image_sets_dsa[n],label_sets_dsa[n],x_val,y_val,epochs=20,batch_size = 128)\n",
    "n = n+1"
   ]
  },
  {
   "cell_type": "code",
   "execution_count": 31,
   "id": "c2b8981f",
   "metadata": {},
   "outputs": [
    {
     "name": "stdout",
     "output_type": "stream",
     "text": [
      "16\n",
      "Epoch 1/20\n",
      "93/93 [==============================] - 28s 281ms/step - loss: 0.9355 - accuracy: 0.6643 - val_loss: 0.7606 - val_accuracy: 0.7272\n",
      "Epoch 2/20\n",
      "93/93 [==============================] - 28s 297ms/step - loss: 0.7602 - accuracy: 0.7136 - val_loss: 0.6578 - val_accuracy: 0.7632\n",
      "Epoch 3/20\n",
      "93/93 [==============================] - 27s 287ms/step - loss: 0.7165 - accuracy: 0.7329 - val_loss: 0.6528 - val_accuracy: 0.7739\n",
      "Epoch 4/20\n",
      "93/93 [==============================] - 26s 275ms/step - loss: 0.7030 - accuracy: 0.7408 - val_loss: 0.6222 - val_accuracy: 0.7693\n",
      "Epoch 5/20\n",
      "93/93 [==============================] - 26s 276ms/step - loss: 0.6607 - accuracy: 0.7491 - val_loss: 0.6787 - val_accuracy: 0.7675\n",
      "Epoch 6/20\n",
      "93/93 [==============================] - 26s 275ms/step - loss: 0.6515 - accuracy: 0.7585 - val_loss: 0.6856 - val_accuracy: 0.7546\n",
      "Epoch 7/20\n",
      "93/93 [==============================] - 26s 278ms/step - loss: 0.6325 - accuracy: 0.7717 - val_loss: 0.6051 - val_accuracy: 0.7792\n",
      "Epoch 8/20\n",
      "93/93 [==============================] - 26s 281ms/step - loss: 0.5805 - accuracy: 0.7849 - val_loss: 0.6058 - val_accuracy: 0.7882\n",
      "Epoch 9/20\n",
      "93/93 [==============================] - 26s 278ms/step - loss: 0.5846 - accuracy: 0.7774 - val_loss: 0.6405 - val_accuracy: 0.7564\n",
      "Epoch 10/20\n",
      "93/93 [==============================] - 26s 278ms/step - loss: 0.5538 - accuracy: 0.7863 - val_loss: 0.5923 - val_accuracy: 0.7889\n",
      "Epoch 11/20\n",
      "93/93 [==============================] - 26s 281ms/step - loss: 0.5208 - accuracy: 0.8069 - val_loss: 0.6070 - val_accuracy: 0.7775\n",
      "Epoch 12/20\n",
      "93/93 [==============================] - 26s 278ms/step - loss: 0.5327 - accuracy: 0.7998 - val_loss: 0.6543 - val_accuracy: 0.7653\n",
      "Epoch 13/20\n",
      "93/93 [==============================] - 26s 279ms/step - loss: 0.5043 - accuracy: 0.8123 - val_loss: 0.6746 - val_accuracy: 0.7714\n",
      "Epoch 14/20\n",
      "93/93 [==============================] - 26s 278ms/step - loss: 0.4918 - accuracy: 0.8198 - val_loss: 0.6396 - val_accuracy: 0.7753\n",
      "Epoch 15/20\n",
      "93/93 [==============================] - 26s 278ms/step - loss: 0.5074 - accuracy: 0.8137 - val_loss: 0.6255 - val_accuracy: 0.7732\n",
      "Epoch 16/20\n",
      "93/93 [==============================] - 26s 279ms/step - loss: 0.4432 - accuracy: 0.8354 - val_loss: 0.6454 - val_accuracy: 0.7703\n",
      "Epoch 17/20\n",
      "93/93 [==============================] - 26s 277ms/step - loss: 0.4327 - accuracy: 0.8399 - val_loss: 0.6499 - val_accuracy: 0.7671\n",
      "Epoch 18/20\n",
      "93/93 [==============================] - 26s 278ms/step - loss: 0.4220 - accuracy: 0.8457 - val_loss: 0.6929 - val_accuracy: 0.7468\n",
      "Epoch 19/20\n",
      "93/93 [==============================] - 26s 278ms/step - loss: 0.4104 - accuracy: 0.8511 - val_loss: 0.7404 - val_accuracy: 0.7646\n",
      "Epoch 20/20\n",
      "93/93 [==============================] - 26s 285ms/step - loss: 0.4006 - accuracy: 0.8574 - val_loss: 0.6595 - val_accuracy: 0.7628\n",
      "Duration: 0:08:41.913704\n"
     ]
    }
   ],
   "source": [
    "print(n)\n",
    "\n",
    "models_dsa[n].fit_model(image_sets_dsa[n],label_sets_dsa[n],x_val,y_val,epochs=20,batch_size = 128)\n",
    "n = n+1"
   ]
  },
  {
   "cell_type": "code",
   "execution_count": 32,
   "id": "4547555e",
   "metadata": {},
   "outputs": [
    {
     "name": "stdout",
     "output_type": "stream",
     "text": [
      "17\n",
      "Epoch 1/20\n",
      "99/99 [==============================] - 31s 294ms/step - loss: 0.9186 - accuracy: 0.6660 - val_loss: 0.6461 - val_accuracy: 0.7689\n",
      "Epoch 2/20\n",
      "99/99 [==============================] - 30s 304ms/step - loss: 0.7797 - accuracy: 0.7138 - val_loss: 0.7021 - val_accuracy: 0.7600\n",
      "Epoch 3/20\n",
      "99/99 [==============================] - 31s 312ms/step - loss: 0.7419 - accuracy: 0.7216 - val_loss: 0.7270 - val_accuracy: 0.7275\n",
      "Epoch 4/20\n",
      "99/99 [==============================] - 30s 304ms/step - loss: 0.7022 - accuracy: 0.7345 - val_loss: 0.6678 - val_accuracy: 0.7571\n",
      "Epoch 5/20\n",
      "99/99 [==============================] - 30s 304ms/step - loss: 0.6597 - accuracy: 0.7592 - val_loss: 0.6579 - val_accuracy: 0.7593\n",
      "Epoch 6/20\n",
      "99/99 [==============================] - 30s 302ms/step - loss: 0.6483 - accuracy: 0.7594 - val_loss: 0.6492 - val_accuracy: 0.7696\n",
      "Epoch 7/20\n",
      "99/99 [==============================] - 28s 284ms/step - loss: 0.6345 - accuracy: 0.7609 - val_loss: 0.5867 - val_accuracy: 0.7892\n",
      "Epoch 8/20\n",
      "99/99 [==============================] - 27s 275ms/step - loss: 0.6163 - accuracy: 0.7711 - val_loss: 0.5891 - val_accuracy: 0.7878\n",
      "Epoch 9/20\n",
      "99/99 [==============================] - 29s 296ms/step - loss: 0.5956 - accuracy: 0.7756 - val_loss: 0.5672 - val_accuracy: 0.8003\n",
      "Epoch 10/20\n",
      "99/99 [==============================] - 29s 295ms/step - loss: 0.5765 - accuracy: 0.7867 - val_loss: 0.6265 - val_accuracy: 0.7860\n",
      "Epoch 11/20\n",
      "99/99 [==============================] - 29s 291ms/step - loss: 0.5821 - accuracy: 0.7860 - val_loss: 0.5974 - val_accuracy: 0.7964\n",
      "Epoch 12/20\n",
      "99/99 [==============================] - 28s 288ms/step - loss: 0.5390 - accuracy: 0.7920 - val_loss: 0.5793 - val_accuracy: 0.7978\n",
      "Epoch 13/20\n",
      "99/99 [==============================] - 28s 278ms/step - loss: 0.5309 - accuracy: 0.8043 - val_loss: 0.6784 - val_accuracy: 0.7718\n",
      "Epoch 14/20\n",
      "99/99 [==============================] - 27s 276ms/step - loss: 0.5251 - accuracy: 0.8080 - val_loss: 0.5877 - val_accuracy: 0.7949\n",
      "Epoch 15/20\n",
      "99/99 [==============================] - 27s 276ms/step - loss: 0.5133 - accuracy: 0.8116 - val_loss: 0.6169 - val_accuracy: 0.7839\n",
      "Epoch 16/20\n",
      "99/99 [==============================] - 28s 280ms/step - loss: 0.4759 - accuracy: 0.8281 - val_loss: 0.6405 - val_accuracy: 0.7832\n",
      "Epoch 17/20\n",
      "99/99 [==============================] - 29s 298ms/step - loss: 0.4688 - accuracy: 0.8315 - val_loss: 0.5818 - val_accuracy: 0.7946\n",
      "Epoch 18/20\n",
      "99/99 [==============================] - 27s 274ms/step - loss: 0.4417 - accuracy: 0.8383 - val_loss: 0.6759 - val_accuracy: 0.7700\n",
      "Epoch 19/20\n",
      "99/99 [==============================] - 27s 278ms/step - loss: 0.4530 - accuracy: 0.8388 - val_loss: 0.7065 - val_accuracy: 0.7764\n",
      "Epoch 20/20\n",
      "99/99 [==============================] - 27s 274ms/step - loss: 0.4249 - accuracy: 0.8478 - val_loss: 0.6294 - val_accuracy: 0.7817\n",
      "Duration: 0:09:33.955572\n"
     ]
    }
   ],
   "source": [
    "print(n)\n",
    "\n",
    "models_dsa[n].fit_model(image_sets_dsa[n],label_sets_dsa[n],x_val,y_val,epochs=20,batch_size = 128)\n",
    "n = n+1"
   ]
  },
  {
   "cell_type": "code",
   "execution_count": 33,
   "id": "85c540e3",
   "metadata": {},
   "outputs": [
    {
     "name": "stdout",
     "output_type": "stream",
     "text": [
      "18\n",
      "Epoch 1/20\n",
      "104/104 [==============================] - 32s 289ms/step - loss: 0.9410 - accuracy: 0.6561 - val_loss: 0.6836 - val_accuracy: 0.7696\n",
      "Epoch 2/20\n",
      "104/104 [==============================] - 29s 275ms/step - loss: 0.7681 - accuracy: 0.7180 - val_loss: 0.6620 - val_accuracy: 0.7689\n",
      "Epoch 3/20\n",
      "104/104 [==============================] - 29s 275ms/step - loss: 0.7424 - accuracy: 0.7254 - val_loss: 0.7090 - val_accuracy: 0.7500\n",
      "Epoch 4/20\n",
      "104/104 [==============================] - 29s 275ms/step - loss: 0.7052 - accuracy: 0.7328 - val_loss: 0.5789 - val_accuracy: 0.7921\n",
      "Epoch 5/20\n",
      "104/104 [==============================] - 29s 277ms/step - loss: 0.6981 - accuracy: 0.7340 - val_loss: 0.7064 - val_accuracy: 0.7464\n",
      "Epoch 6/20\n",
      "104/104 [==============================] - 30s 288ms/step - loss: 0.6690 - accuracy: 0.7421 - val_loss: 0.6033 - val_accuracy: 0.7828\n",
      "Epoch 7/20\n",
      "104/104 [==============================] - 39s 373ms/step - loss: 0.6350 - accuracy: 0.7650 - val_loss: 0.5657 - val_accuracy: 0.7967\n",
      "Epoch 8/20\n",
      "104/104 [==============================] - 33s 321ms/step - loss: 0.6405 - accuracy: 0.7654 - val_loss: 0.6266 - val_accuracy: 0.7721\n",
      "Epoch 9/20\n",
      "104/104 [==============================] - 30s 293ms/step - loss: 0.5852 - accuracy: 0.7745 - val_loss: 0.6317 - val_accuracy: 0.7689\n",
      "Epoch 10/20\n",
      "104/104 [==============================] - 31s 296ms/step - loss: 0.5758 - accuracy: 0.7845 - val_loss: 0.5860 - val_accuracy: 0.7989\n",
      "Epoch 11/20\n",
      "104/104 [==============================] - 31s 300ms/step - loss: 0.5745 - accuracy: 0.7849 - val_loss: 0.6346 - val_accuracy: 0.7764\n",
      "Epoch 12/20\n",
      "104/104 [==============================] - 30s 293ms/step - loss: 0.5543 - accuracy: 0.7968 - val_loss: 0.6058 - val_accuracy: 0.7928\n",
      "Epoch 13/20\n",
      "104/104 [==============================] - 29s 276ms/step - loss: 0.5200 - accuracy: 0.8073 - val_loss: 0.5869 - val_accuracy: 0.7917\n",
      "Epoch 14/20\n",
      "104/104 [==============================] - 29s 281ms/step - loss: 0.5196 - accuracy: 0.8054 - val_loss: 0.5670 - val_accuracy: 0.8060\n",
      "Epoch 15/20\n",
      "104/104 [==============================] - 29s 277ms/step - loss: 0.5072 - accuracy: 0.8125 - val_loss: 0.6344 - val_accuracy: 0.7696\n",
      "Epoch 16/20\n",
      "104/104 [==============================] - 29s 278ms/step - loss: 0.4858 - accuracy: 0.8243 - val_loss: 0.9626 - val_accuracy: 0.6926\n",
      "Epoch 17/20\n",
      "104/104 [==============================] - 29s 277ms/step - loss: 0.5049 - accuracy: 0.8174 - val_loss: 0.5640 - val_accuracy: 0.8106\n",
      "Epoch 18/20\n",
      "104/104 [==============================] - 29s 278ms/step - loss: 0.4791 - accuracy: 0.8290 - val_loss: 0.6171 - val_accuracy: 0.7864\n",
      "Epoch 19/20\n",
      "104/104 [==============================] - 29s 282ms/step - loss: 0.4446 - accuracy: 0.8328 - val_loss: 0.5598 - val_accuracy: 0.8042\n",
      "Epoch 20/20\n",
      "104/104 [==============================] - 29s 278ms/step - loss: 0.4364 - accuracy: 0.8368 - val_loss: 0.6002 - val_accuracy: 0.7956\n",
      "Duration: 0:10:02.768448\n"
     ]
    }
   ],
   "source": [
    "print(n)\n",
    "\n",
    "models_dsa[n].fit_model(image_sets_dsa[n],label_sets_dsa[n],x_val,y_val,epochs=20,batch_size = 128)\n",
    "n = n+1"
   ]
  },
  {
   "cell_type": "code",
   "execution_count": 34,
   "id": "a7b597ce",
   "metadata": {},
   "outputs": [
    {
     "name": "stdout",
     "output_type": "stream",
     "text": [
      "19\n",
      "Epoch 1/20\n",
      "112/112 [==============================] - 39s 328ms/step - loss: 0.9049 - accuracy: 0.6743 - val_loss: 0.6402 - val_accuracy: 0.7732\n",
      "Epoch 2/20\n",
      "112/112 [==============================] - 30s 272ms/step - loss: 0.7729 - accuracy: 0.7142 - val_loss: 0.9989 - val_accuracy: 0.6530\n",
      "Epoch 3/20\n",
      "112/112 [==============================] - 31s 274ms/step - loss: 0.7468 - accuracy: 0.7206 - val_loss: 0.9305 - val_accuracy: 0.6690\n",
      "Epoch 4/20\n",
      "112/112 [==============================] - 31s 273ms/step - loss: 0.7256 - accuracy: 0.7314 - val_loss: 0.7152 - val_accuracy: 0.7407\n",
      "Epoch 5/20\n",
      "112/112 [==============================] - 31s 278ms/step - loss: 0.6799 - accuracy: 0.7414 - val_loss: 0.7996 - val_accuracy: 0.7179\n",
      "Epoch 6/20\n",
      "112/112 [==============================] - 31s 279ms/step - loss: 0.6719 - accuracy: 0.7494 - val_loss: 0.6102 - val_accuracy: 0.7775\n",
      "Epoch 7/20\n",
      "112/112 [==============================] - 35s 310ms/step - loss: 0.6392 - accuracy: 0.7585 - val_loss: 0.6540 - val_accuracy: 0.7796\n",
      "Epoch 8/20\n",
      "112/112 [==============================] - 30s 272ms/step - loss: 0.6462 - accuracy: 0.7548 - val_loss: 0.8461 - val_accuracy: 0.6822\n",
      "Epoch 9/20\n",
      "112/112 [==============================] - 31s 273ms/step - loss: 0.6215 - accuracy: 0.7640 - val_loss: 0.6285 - val_accuracy: 0.7796\n",
      "Epoch 10/20\n",
      "112/112 [==============================] - 31s 273ms/step - loss: 0.5805 - accuracy: 0.7790 - val_loss: 0.6018 - val_accuracy: 0.7924\n",
      "Epoch 11/20\n",
      "112/112 [==============================] - 31s 274ms/step - loss: 0.5576 - accuracy: 0.7903 - val_loss: 0.5697 - val_accuracy: 0.8071\n",
      "Epoch 12/20\n",
      "112/112 [==============================] - 31s 279ms/step - loss: 0.5507 - accuracy: 0.7933 - val_loss: 0.8532 - val_accuracy: 0.7150\n",
      "Epoch 13/20\n",
      "112/112 [==============================] - 34s 300ms/step - loss: 0.5488 - accuracy: 0.7961 - val_loss: 0.5912 - val_accuracy: 0.7942\n",
      "Epoch 14/20\n",
      "112/112 [==============================] - 33s 297ms/step - loss: 0.5271 - accuracy: 0.8030 - val_loss: 0.6484 - val_accuracy: 0.7743\n",
      "Epoch 15/20\n",
      "112/112 [==============================] - 33s 290ms/step - loss: 0.5040 - accuracy: 0.8138 - val_loss: 0.6683 - val_accuracy: 0.7539\n",
      "Epoch 16/20\n",
      "112/112 [==============================] - 31s 281ms/step - loss: 0.4907 - accuracy: 0.8185 - val_loss: 0.5995 - val_accuracy: 0.7928\n",
      "Epoch 17/20\n",
      "112/112 [==============================] - 31s 273ms/step - loss: 0.4941 - accuracy: 0.8168 - val_loss: 0.5791 - val_accuracy: 0.8024\n",
      "Epoch 18/20\n",
      "112/112 [==============================] - 30s 272ms/step - loss: 0.4779 - accuracy: 0.8247 - val_loss: 0.9117 - val_accuracy: 0.6933\n",
      "Epoch 19/20\n",
      "112/112 [==============================] - 31s 278ms/step - loss: 0.4834 - accuracy: 0.8234 - val_loss: 0.6478 - val_accuracy: 0.7682\n",
      "Epoch 20/20\n",
      "112/112 [==============================] - 31s 280ms/step - loss: 0.4422 - accuracy: 0.8342 - val_loss: 0.5668 - val_accuracy: 0.8024\n",
      "Duration: 0:10:35.550820\n"
     ]
    }
   ],
   "source": [
    "print(n)#19\n",
    "\n",
    "models_dsa[n].fit_model(image_sets_dsa[n],label_sets_dsa[n],x_val,y_val,epochs=20,batch_size = 128)\n",
    "n = n+1"
   ]
  },
  {
   "cell_type": "code",
   "execution_count": 24,
   "id": "1db52939",
   "metadata": {},
   "outputs": [
    {
     "name": "stdout",
     "output_type": "stream",
     "text": [
      "D:/models/intel_models/C2/intel_model_c2_sep_dsa_e2_0\n",
      "Model loaded correctly\n",
      "D:/models/intel_models/C2/intel_model_c2_sep_dsa_e2_1\n",
      "Model loaded correctly\n",
      "D:/models/intel_models/C2/intel_model_c2_sep_dsa_e2_2\n",
      "Model loaded correctly\n",
      "D:/models/intel_models/C2/intel_model_c2_sep_dsa_e2_3\n",
      "Model loaded correctly\n",
      "D:/models/intel_models/C2/intel_model_c2_sep_dsa_e2_4\n",
      "Model loaded correctly\n",
      "D:/models/intel_models/C2/intel_model_c2_sep_dsa_e2_5\n",
      "Model loaded correctly\n",
      "D:/models/intel_models/C2/intel_model_c2_sep_dsa_e2_6\n",
      "Model loaded correctly\n",
      "D:/models/intel_models/C2/intel_model_c2_sep_dsa_e2_7\n",
      "Model loaded correctly\n",
      "D:/models/intel_models/C2/intel_model_c2_sep_dsa_e2_8\n",
      "Model loaded correctly\n",
      "D:/models/intel_models/C2/intel_model_c2_sep_dsa_e2_9\n",
      "Model loaded correctly\n",
      "D:/models/intel_models/C2/intel_model_c2_sep_dsa_e2_10\n",
      "Model loaded correctly\n",
      "D:/models/intel_models/C2/intel_model_c2_sep_dsa_e2_11\n",
      "Model loaded correctly\n",
      "D:/models/intel_models/C2/intel_model_c2_sep_dsa_e2_12\n",
      "Model loaded correctly\n",
      "D:/models/intel_models/C2/intel_model_c2_sep_dsa_e2_13\n",
      "Model loaded correctly\n",
      "D:/models/intel_models/C2/intel_model_c2_sep_dsa_e2_14\n",
      "Model loaded correctly\n",
      "D:/models/intel_models/C2/intel_model_c2_sep_dsa_e2_15\n",
      "Model loaded correctly\n",
      "D:/models/intel_models/C2/intel_model_c2_sep_dsa_e2_16\n",
      "Model loaded correctly\n",
      "D:/models/intel_models/C2/intel_model_c2_sep_dsa_e2_17\n",
      "Model loaded correctly\n",
      "D:/models/intel_models/C2/intel_model_c2_sep_dsa_e2_18\n",
      "Model loaded correctly\n",
      "D:/models/intel_models/C2/intel_model_c2_sep_dsa_e2_19\n",
      "Model loaded correctly\n"
     ]
    }
   ],
   "source": [
    "loading = True\n",
    "\n",
    "models_dsa = []\n",
    "\n",
    "if loading:\n",
    "    for i in range(20):\n",
    "        model_dsa_dir = \"D:/models/intel_models/C2/intel_model_c2_sep_dsa_e2_\"+str(i)\n",
    "        print(model_dsa_dir)\n",
    "        model =utils.My_model('intel',True,model_dsa_dir)\n",
    "        model.model.compile(loss= 'categorical_crossentropy', optimizer = 'rmsprop', metrics = ['accuracy',tf.keras.metrics.Precision(), tf.keras.metrics.Recall()])\n",
    "        models_dsa.append(model)\n",
    "       \n",
    "    "
   ]
  },
  {
   "cell_type": "markdown",
   "id": "bf9b45e9",
   "metadata": {},
   "source": [
    "## Training guided by Random"
   ]
  },
  {
   "cell_type": "code",
   "execution_count": null,
   "id": "3581436b",
   "metadata": {},
   "outputs": [],
   "source": [
    "import random\n",
    "random_indexes =list(range(len(x_train_and_adversary)))\n",
    "random.shuffle(random_indexes)\n",
    "print(random_indexes[:10])\n",
    "print(len(random_indexes))"
   ]
  },
  {
   "cell_type": "code",
   "execution_count": 21,
   "id": "0eca574c",
   "metadata": {},
   "outputs": [],
   "source": [
    "save_dir = \"C:/Users/fjdur/Desktop/upc/project_notebooks/github_project/DL_notebooks/SA_values/intel_random_values_e2.npy\"\n",
    "\n",
    "#np.save(save_dir,np.array(random_indexes))\n",
    "\n",
    "random_indexes = np.load(save_dir)"
   ]
  },
  {
   "cell_type": "code",
   "execution_count": 22,
   "id": "d13ccb6c",
   "metadata": {},
   "outputs": [],
   "source": [
    "# Obtaining top n images by LSA values\n",
    "top_images_by_random = utils.get_x_of_indexes(list(np.flip(np.argsort(random_indexes))),x_train_and_adversary)\n",
    "top_labels_by_random = utils.get_x_of_indexes(list(np.flip(np.argsort(random_indexes))),y_train_and_adversary)"
   ]
  },
  {
   "cell_type": "code",
   "execution_count": 23,
   "id": "3c413fdf",
   "metadata": {},
   "outputs": [
    {
     "name": "stdout",
     "output_type": "stream",
     "text": [
      "Model loaded correctly\n",
      "Model compiled\n",
      "Epoch 1/10\n",
      "79/79 [==============================] - 15s 174ms/step - loss: 0.9726 - accuracy: 0.6593 - val_loss: 0.8246 - val_accuracy: 0.7140\n",
      "Epoch 2/10\n",
      "79/79 [==============================] - 13s 166ms/step - loss: 0.7901 - accuracy: 0.7008 - val_loss: 0.8300 - val_accuracy: 0.7286\n",
      "Epoch 3/10\n",
      "79/79 [==============================] - 13s 164ms/step - loss: 0.7689 - accuracy: 0.7128 - val_loss: 0.6727 - val_accuracy: 0.7707\n",
      "Epoch 4/10\n",
      "79/79 [==============================] - 13s 165ms/step - loss: 0.7580 - accuracy: 0.7095 - val_loss: 0.6485 - val_accuracy: 0.7718\n",
      "Epoch 5/10\n",
      "79/79 [==============================] - 13s 163ms/step - loss: 0.7001 - accuracy: 0.7294 - val_loss: 0.9690 - val_accuracy: 0.6619\n",
      "Epoch 6/10\n",
      "79/79 [==============================] - 13s 163ms/step - loss: 0.7165 - accuracy: 0.7479 - val_loss: 0.6327 - val_accuracy: 0.7871\n",
      "Epoch 7/10\n",
      "79/79 [==============================] - 13s 168ms/step - loss: 0.6617 - accuracy: 0.7437 - val_loss: 1.0373 - val_accuracy: 0.6305\n",
      "Epoch 8/10\n",
      "79/79 [==============================] - 13s 164ms/step - loss: 0.6948 - accuracy: 0.7491 - val_loss: 0.6284 - val_accuracy: 0.7800\n",
      "Epoch 9/10\n",
      "79/79 [==============================] - 13s 165ms/step - loss: 0.5997 - accuracy: 0.7709 - val_loss: 1.2105 - val_accuracy: 0.6152\n",
      "Epoch 10/10\n",
      "79/79 [==============================] - 13s 163ms/step - loss: 0.6949 - accuracy: 0.7554 - val_loss: 0.7108 - val_accuracy: 0.7511\n",
      "Duration: 0:02:12.184972\n"
     ]
    },
    {
     "data": {
      "text/plain": [
       "<keras.callbacks.History at 0x2a71ebc8fd0>"
      ]
     },
     "execution_count": 23,
     "metadata": {},
     "output_type": "execute_result"
    }
   ],
   "source": [
    "top_images_by_random_5000 = np.array(top_images_by_random[:5000])\n",
    "top_labels_by_random_5000 = np.array(top_labels_by_random[:5000])\n",
    "\n",
    "model_random_5000 =  utils.My_model(dataset,True,model_dir)\n",
    "model_random_5000.compile_model()\n",
    "\n",
    "model_random_5000.fit_model(top_images_by_random_5000,top_labels_by_random_5000,x_val,y_val)"
   ]
  },
  {
   "cell_type": "code",
   "execution_count": 41,
   "id": "1209ac75",
   "metadata": {},
   "outputs": [
    {
     "name": "stdout",
     "output_type": "stream",
     "text": [
      "0 :\n",
      "0  ->  700\n",
      "700\n",
      "1 :\n",
      "0  ->  1400\n",
      "1400\n",
      "2 :\n",
      "0  ->  2100\n",
      "2100\n",
      "3 :\n",
      "0  ->  2800\n",
      "2800\n",
      "4 :\n",
      "0  ->  3500\n",
      "3500\n",
      "5 :\n",
      "0  ->  4200\n",
      "4200\n",
      "6 :\n",
      "0  ->  4900\n",
      "4900\n",
      "7 :\n",
      "0  ->  5600\n",
      "5600\n",
      "8 :\n",
      "0  ->  6300\n",
      "6300\n",
      "9 :\n",
      "0  ->  7000\n",
      "7000\n",
      "10 :\n",
      "0  ->  7700\n",
      "7700\n",
      "11 :\n",
      "0  ->  8400\n",
      "8400\n",
      "12 :\n",
      "0  ->  9100\n",
      "9100\n",
      "13 :\n",
      "0  ->  9800\n",
      "9800\n",
      "14 :\n",
      "0  ->  10500\n",
      "10500\n",
      "15 :\n",
      "0  ->  11200\n",
      "11200\n",
      "16 :\n",
      "0  ->  11900\n",
      "11900\n",
      "17 :\n",
      "0  ->  12600\n",
      "12600\n",
      "18 :\n",
      "0  ->  13300\n",
      "13300\n",
      "19 :\n",
      "Last\n",
      "0  ->  14224\n",
      "14224\n"
     ]
    }
   ],
   "source": [
    "m = 700\n",
    "n = 0\n",
    "image_sets_random = []\n",
    "label_sets_random = []\n",
    "\n",
    "\n",
    "for i in range(len(top_images_by_random)//m):\n",
    "    print(i,\":\")\n",
    "    if (i+1 >= len(top_images_by_random)//m):\n",
    "        print(\"Last\")\n",
    "        print(0,\" -> \",n+m+(len(top_images_by_random)%m))\n",
    "        top_images_by_random_n = np.array(top_images_by_random[:n+m+(len(top_images_by_random)%m)])\n",
    "        top_labels_by_random_n = np.array(top_labels_by_random[:n+m+(len(top_images_by_random)%m)])\n",
    "    else:\n",
    "        print(0,\" -> \",m+n)\n",
    "        top_images_by_random_n = np.array(top_images_by_random[:n+m])\n",
    "        top_labels_by_random_n = np.array(top_labels_by_random[:n+m])\n",
    "    image_sets_random.append(top_images_by_random_n)\n",
    "    label_sets_random.append(top_labels_by_random_n)\n",
    "    print(len(top_images_by_random_n))\n",
    "    n += m\n",
    "\n"
   ]
  },
  {
   "cell_type": "code",
   "execution_count": 42,
   "id": "3f03e1cf",
   "metadata": {},
   "outputs": [
    {
     "name": "stdout",
     "output_type": "stream",
     "text": [
      "C:/Users/fjdur/Desktop/upc/project_notebooks/github_project/DL_notebooks/models/intel_model_21_10/\n",
      "0 :\n",
      "Model loaded correctly\n",
      "Model compiled\n",
      "1 :\n",
      "Model loaded correctly\n",
      "Model compiled\n",
      "2 :\n",
      "Model loaded correctly\n",
      "Model compiled\n",
      "3 :\n",
      "Model loaded correctly\n",
      "Model compiled\n",
      "4 :\n",
      "Model loaded correctly\n",
      "Model compiled\n",
      "5 :\n",
      "Model loaded correctly\n",
      "Model compiled\n",
      "6 :\n",
      "Model loaded correctly\n",
      "Model compiled\n",
      "7 :\n",
      "Model loaded correctly\n",
      "Model compiled\n",
      "8 :\n",
      "Model loaded correctly\n",
      "Model compiled\n",
      "9 :\n",
      "Model loaded correctly\n",
      "Model compiled\n",
      "10 :\n",
      "Model loaded correctly\n",
      "Model compiled\n",
      "11 :\n",
      "Model loaded correctly\n",
      "Model compiled\n",
      "12 :\n",
      "Model loaded correctly\n",
      "Model compiled\n",
      "13 :\n",
      "Model loaded correctly\n",
      "Model compiled\n",
      "14 :\n",
      "Model loaded correctly\n",
      "Model compiled\n",
      "15 :\n",
      "Model loaded correctly\n",
      "Model compiled\n",
      "16 :\n",
      "Model loaded correctly\n",
      "Model compiled\n",
      "17 :\n",
      "Model loaded correctly\n",
      "Model compiled\n",
      "18 :\n",
      "Model loaded correctly\n",
      "Model compiled\n",
      "19 :\n",
      "Model loaded correctly\n",
      "Model compiled\n"
     ]
    }
   ],
   "source": [
    "print(model_dir)\n",
    "\n",
    "models_random = []\n",
    "for i in range(len(label_sets_random)):\n",
    "    print(i,\":\")\n",
    "    model = utils.My_model('intel',True,model_dir)\n",
    "    model.compile_model()\n",
    "    models_random.append(model)\n"
   ]
  },
  {
   "cell_type": "code",
   "execution_count": 43,
   "id": "14912c8b",
   "metadata": {},
   "outputs": [
    {
     "name": "stdout",
     "output_type": "stream",
     "text": [
      "0\n",
      "Epoch 1/20\n",
      "6/6 [==============================] - 5s 646ms/step - loss: 1.2836 - accuracy: 0.5596 - val_loss: 0.7477 - val_accuracy: 0.7693\n",
      "Epoch 2/20\n",
      "6/6 [==============================] - 3s 569ms/step - loss: 0.8344 - accuracy: 0.6906 - val_loss: 0.9677 - val_accuracy: 0.6223\n",
      "Epoch 3/20\n",
      "6/6 [==============================] - 3s 571ms/step - loss: 0.9391 - accuracy: 0.6581 - val_loss: 0.6466 - val_accuracy: 0.7743\n",
      "Epoch 4/20\n",
      "6/6 [==============================] - 3s 571ms/step - loss: 0.7012 - accuracy: 0.7308 - val_loss: 0.6058 - val_accuracy: 0.7924\n",
      "Epoch 5/20\n",
      "6/6 [==============================] - 3s 571ms/step - loss: 0.6889 - accuracy: 0.7357 - val_loss: 0.7124 - val_accuracy: 0.7493\n",
      "Epoch 6/20\n",
      "6/6 [==============================] - 3s 576ms/step - loss: 0.7906 - accuracy: 0.6990 - val_loss: 0.6390 - val_accuracy: 0.7646\n",
      "Epoch 7/20\n",
      "6/6 [==============================] - 3s 573ms/step - loss: 0.6094 - accuracy: 0.7674 - val_loss: 0.6596 - val_accuracy: 0.7710\n",
      "Epoch 8/20\n",
      "6/6 [==============================] - 3s 574ms/step - loss: 0.5809 - accuracy: 0.7752 - val_loss: 0.6909 - val_accuracy: 0.7479\n",
      "Epoch 9/20\n",
      "6/6 [==============================] - 3s 570ms/step - loss: 0.5552 - accuracy: 0.7976 - val_loss: 0.7084 - val_accuracy: 0.7418\n",
      "Epoch 10/20\n",
      "6/6 [==============================] - 3s 571ms/step - loss: 0.5527 - accuracy: 0.7857 - val_loss: 0.6716 - val_accuracy: 0.7664\n",
      "Epoch 11/20\n",
      "6/6 [==============================] - 3s 568ms/step - loss: 0.5287 - accuracy: 0.8183 - val_loss: 0.5976 - val_accuracy: 0.7953\n",
      "Epoch 12/20\n",
      "6/6 [==============================] - 3s 586ms/step - loss: 0.4524 - accuracy: 0.8271 - val_loss: 0.7186 - val_accuracy: 0.7511\n",
      "Epoch 13/20\n",
      "6/6 [==============================] - 3s 617ms/step - loss: 0.5057 - accuracy: 0.8090 - val_loss: 0.6217 - val_accuracy: 0.7889\n",
      "Epoch 14/20\n",
      "6/6 [==============================] - 3s 603ms/step - loss: 0.4590 - accuracy: 0.8091 - val_loss: 0.7193 - val_accuracy: 0.7521\n",
      "Epoch 15/20\n",
      "6/6 [==============================] - 3s 605ms/step - loss: 0.4326 - accuracy: 0.8437 - val_loss: 0.8408 - val_accuracy: 0.7215\n",
      "Epoch 16/20\n",
      "6/6 [==============================] - 3s 582ms/step - loss: 0.5379 - accuracy: 0.7814 - val_loss: 0.6200 - val_accuracy: 0.7907\n",
      "Epoch 17/20\n",
      "6/6 [==============================] - 3s 578ms/step - loss: 0.3596 - accuracy: 0.8594 - val_loss: 0.8593 - val_accuracy: 0.7557\n",
      "Epoch 18/20\n",
      "6/6 [==============================] - 3s 590ms/step - loss: 0.5159 - accuracy: 0.7991 - val_loss: 0.7335 - val_accuracy: 0.7653\n",
      "Epoch 19/20\n",
      "6/6 [==============================] - 3s 612ms/step - loss: 0.3904 - accuracy: 0.8421 - val_loss: 0.7290 - val_accuracy: 0.7614\n",
      "Epoch 20/20\n",
      "6/6 [==============================] - 3s 621ms/step - loss: 0.4363 - accuracy: 0.8313 - val_loss: 0.7180 - val_accuracy: 0.7689\n",
      "Duration: 0:01:05.703367\n"
     ]
    }
   ],
   "source": [
    "n=0\n",
    "print(n)\n",
    "\n",
    "models_random[n].fit_model(image_sets_random[n],label_sets_random[n],x_val,y_val,epochs=20,batch_size = 128)\n",
    "n = n+1"
   ]
  },
  {
   "cell_type": "code",
   "execution_count": 44,
   "id": "f28e27b1",
   "metadata": {},
   "outputs": [
    {
     "name": "stdout",
     "output_type": "stream",
     "text": [
      "1\n",
      "Epoch 1/20\n",
      "11/11 [==============================] - 8s 566ms/step - loss: 1.1568 - accuracy: 0.6029 - val_loss: 0.6663 - val_accuracy: 0.7750\n",
      "Epoch 2/20\n",
      "11/11 [==============================] - 5s 460ms/step - loss: 0.7539 - accuracy: 0.7294 - val_loss: 0.5747 - val_accuracy: 0.8042\n",
      "Epoch 3/20\n",
      "11/11 [==============================] - 5s 444ms/step - loss: 0.7137 - accuracy: 0.7274 - val_loss: 0.6230 - val_accuracy: 0.7778\n",
      "Epoch 4/20\n",
      "11/11 [==============================] - 5s 427ms/step - loss: 0.7936 - accuracy: 0.7025 - val_loss: 0.5934 - val_accuracy: 0.7924\n",
      "Epoch 5/20\n",
      "11/11 [==============================] - 5s 429ms/step - loss: 0.6864 - accuracy: 0.7392 - val_loss: 0.7229 - val_accuracy: 0.7539\n",
      "Epoch 6/20\n",
      "11/11 [==============================] - 5s 429ms/step - loss: 0.6617 - accuracy: 0.7610 - val_loss: 0.6210 - val_accuracy: 0.7832\n",
      "Epoch 7/20\n",
      "11/11 [==============================] - 5s 444ms/step - loss: 0.6829 - accuracy: 0.7401 - val_loss: 0.5699 - val_accuracy: 0.8056\n",
      "Epoch 8/20\n",
      "11/11 [==============================] - 5s 460ms/step - loss: 0.5852 - accuracy: 0.7889 - val_loss: 0.6748 - val_accuracy: 0.7650\n",
      "Epoch 9/20\n",
      "11/11 [==============================] - 5s 455ms/step - loss: 0.6723 - accuracy: 0.7438 - val_loss: 0.6276 - val_accuracy: 0.7817\n",
      "Epoch 10/20\n",
      "11/11 [==============================] - 5s 443ms/step - loss: 0.5466 - accuracy: 0.7824 - val_loss: 0.6282 - val_accuracy: 0.7878\n",
      "Epoch 11/20\n",
      "11/11 [==============================] - 5s 434ms/step - loss: 0.5270 - accuracy: 0.8060 - val_loss: 0.6706 - val_accuracy: 0.7746\n",
      "Epoch 12/20\n",
      "11/11 [==============================] - 5s 463ms/step - loss: 0.5464 - accuracy: 0.7799 - val_loss: 0.6433 - val_accuracy: 0.7782\n",
      "Epoch 13/20\n",
      "11/11 [==============================] - 5s 449ms/step - loss: 0.5490 - accuracy: 0.7958 - val_loss: 0.6190 - val_accuracy: 0.7924\n",
      "Epoch 14/20\n",
      "11/11 [==============================] - 5s 431ms/step - loss: 0.5410 - accuracy: 0.7926 - val_loss: 0.6666 - val_accuracy: 0.7668\n",
      "Epoch 15/20\n",
      "11/11 [==============================] - 5s 439ms/step - loss: 0.4970 - accuracy: 0.8153 - val_loss: 0.8250 - val_accuracy: 0.7215\n",
      "Epoch 16/20\n",
      "11/11 [==============================] - 5s 432ms/step - loss: 0.5332 - accuracy: 0.7801 - val_loss: 0.6860 - val_accuracy: 0.7700\n",
      "Epoch 17/20\n",
      "11/11 [==============================] - 5s 434ms/step - loss: 0.4318 - accuracy: 0.8206 - val_loss: 0.6194 - val_accuracy: 0.7853\n",
      "Epoch 18/20\n",
      "11/11 [==============================] - 5s 434ms/step - loss: 0.4331 - accuracy: 0.8368 - val_loss: 0.6396 - val_accuracy: 0.7846\n",
      "Epoch 19/20\n",
      "11/11 [==============================] - 5s 446ms/step - loss: 0.4062 - accuracy: 0.8397 - val_loss: 0.7764 - val_accuracy: 0.7475\n",
      "Epoch 20/20\n",
      "11/11 [==============================] - 5s 451ms/step - loss: 0.5113 - accuracy: 0.7980 - val_loss: 0.6892 - val_accuracy: 0.7628\n",
      "Duration: 0:01:37.472121\n"
     ]
    }
   ],
   "source": [
    "print(n)\n",
    "\n",
    "models_random[n].fit_model(image_sets_random[n],label_sets_random[n],x_val,y_val,epochs=20,batch_size = 128)\n",
    "n = n+1"
   ]
  },
  {
   "cell_type": "code",
   "execution_count": 45,
   "id": "3bb99229",
   "metadata": {},
   "outputs": [
    {
     "name": "stdout",
     "output_type": "stream",
     "text": [
      "2\n",
      "Epoch 1/20\n",
      "17/17 [==============================] - 8s 384ms/step - loss: 1.1232 - accuracy: 0.6054 - val_loss: 0.7775 - val_accuracy: 0.7290\n",
      "Epoch 2/20\n",
      "17/17 [==============================] - 6s 361ms/step - loss: 0.8419 - accuracy: 0.6732 - val_loss: 0.6292 - val_accuracy: 0.7767\n",
      "Epoch 3/20\n",
      "17/17 [==============================] - 6s 361ms/step - loss: 0.7205 - accuracy: 0.7310 - val_loss: 0.8380 - val_accuracy: 0.6961\n",
      "Epoch 4/20\n",
      "17/17 [==============================] - 6s 361ms/step - loss: 0.7453 - accuracy: 0.7146 - val_loss: 0.7557 - val_accuracy: 0.7250\n",
      "Epoch 5/20\n",
      "17/17 [==============================] - 6s 370ms/step - loss: 0.7455 - accuracy: 0.7322 - val_loss: 0.6529 - val_accuracy: 0.7764\n",
      "Epoch 6/20\n",
      "17/17 [==============================] - 6s 373ms/step - loss: 0.6692 - accuracy: 0.7375 - val_loss: 0.7017 - val_accuracy: 0.7471\n",
      "Epoch 7/20\n",
      "17/17 [==============================] - 6s 364ms/step - loss: 0.6529 - accuracy: 0.7550 - val_loss: 0.5874 - val_accuracy: 0.7899\n",
      "Epoch 8/20\n",
      "17/17 [==============================] - 6s 364ms/step - loss: 0.5886 - accuracy: 0.7748 - val_loss: 0.9301 - val_accuracy: 0.6530\n",
      "Epoch 9/20\n",
      "17/17 [==============================] - 6s 364ms/step - loss: 0.6043 - accuracy: 0.7745 - val_loss: 0.5947 - val_accuracy: 0.7932\n",
      "Epoch 10/20\n",
      "17/17 [==============================] - 6s 365ms/step - loss: 0.5768 - accuracy: 0.7843 - val_loss: 0.6344 - val_accuracy: 0.7860\n",
      "Epoch 11/20\n",
      "17/17 [==============================] - 6s 362ms/step - loss: 0.5694 - accuracy: 0.7901 - val_loss: 0.7511 - val_accuracy: 0.7254\n",
      "Epoch 12/20\n",
      "17/17 [==============================] - 6s 367ms/step - loss: 0.5429 - accuracy: 0.7842 - val_loss: 0.7002 - val_accuracy: 0.7500\n",
      "Epoch 13/20\n",
      "17/17 [==============================] - 6s 364ms/step - loss: 0.6047 - accuracy: 0.7729 - val_loss: 0.6150 - val_accuracy: 0.7850\n",
      "Epoch 14/20\n",
      "17/17 [==============================] - 6s 365ms/step - loss: 0.4427 - accuracy: 0.8380 - val_loss: 0.6417 - val_accuracy: 0.7835\n",
      "Epoch 15/20\n",
      "17/17 [==============================] - 6s 365ms/step - loss: 0.4553 - accuracy: 0.8169 - val_loss: 0.6678 - val_accuracy: 0.7778\n",
      "Epoch 16/20\n",
      "17/17 [==============================] - 6s 365ms/step - loss: 0.4586 - accuracy: 0.8251 - val_loss: 0.7906 - val_accuracy: 0.7300\n",
      "Epoch 17/20\n",
      "17/17 [==============================] - 6s 361ms/step - loss: 0.5287 - accuracy: 0.7966 - val_loss: 0.6944 - val_accuracy: 0.7725\n",
      "Epoch 18/20\n",
      "17/17 [==============================] - 6s 365ms/step - loss: 0.4188 - accuracy: 0.8397 - val_loss: 0.7060 - val_accuracy: 0.7682\n",
      "Epoch 19/20\n",
      "17/17 [==============================] - 6s 379ms/step - loss: 0.4618 - accuracy: 0.8238 - val_loss: 0.7058 - val_accuracy: 0.7743\n",
      "Epoch 20/20\n",
      "17/17 [==============================] - 6s 369ms/step - loss: 0.4138 - accuracy: 0.8436 - val_loss: 0.6704 - val_accuracy: 0.7775\n",
      "Duration: 0:02:04.288846\n"
     ]
    }
   ],
   "source": [
    "print(n)\n",
    "n=2\n",
    "\n",
    "models_random[n].fit_model(image_sets_random[n],label_sets_random[n],x_val,y_val,epochs=20,batch_size = 128)\n",
    "n = n+1"
   ]
  },
  {
   "cell_type": "code",
   "execution_count": 46,
   "id": "2b9be2e6",
   "metadata": {},
   "outputs": [
    {
     "name": "stdout",
     "output_type": "stream",
     "text": [
      "3\n",
      "Epoch 1/20\n",
      "22/22 [==============================] - 9s 363ms/step - loss: 1.1172 - accuracy: 0.6257 - val_loss: 0.6357 - val_accuracy: 0.7928\n",
      "Epoch 2/20\n",
      "22/22 [==============================] - 7s 342ms/step - loss: 0.7337 - accuracy: 0.7295 - val_loss: 0.6205 - val_accuracy: 0.7953\n",
      "Epoch 3/20\n",
      "22/22 [==============================] - 7s 343ms/step - loss: 0.7633 - accuracy: 0.7121 - val_loss: 0.6636 - val_accuracy: 0.7693\n",
      "Epoch 4/20\n",
      "22/22 [==============================] - 9s 415ms/step - loss: 0.6845 - accuracy: 0.7413 - val_loss: 0.5830 - val_accuracy: 0.7989\n",
      "Epoch 5/20\n",
      "22/22 [==============================] - 33709s 1605s/step - loss: 0.6694 - accuracy: 0.7435 - val_loss: 0.6399 - val_accuracy: 0.7789\n",
      "Epoch 6/20\n",
      "22/22 [==============================] - 9s 421ms/step - loss: 0.6500 - accuracy: 0.7578 - val_loss: 0.6795 - val_accuracy: 0.7593\n",
      "Epoch 7/20\n",
      "22/22 [==============================] - 9s 392ms/step - loss: 0.6623 - accuracy: 0.7571 - val_loss: 0.6887 - val_accuracy: 0.7561\n",
      "Epoch 8/20\n",
      "22/22 [==============================] - 8s 388ms/step - loss: 0.5964 - accuracy: 0.7748 - val_loss: 0.6213 - val_accuracy: 0.7864\n",
      "Epoch 9/20\n",
      "22/22 [==============================] - 9s 403ms/step - loss: 0.5781 - accuracy: 0.7714 - val_loss: 0.6572 - val_accuracy: 0.7682\n",
      "Epoch 10/20\n",
      "22/22 [==============================] - 9s 393ms/step - loss: 0.5793 - accuracy: 0.7770 - val_loss: 0.5981 - val_accuracy: 0.7946\n",
      "Epoch 11/20\n",
      "22/22 [==============================] - 8s 387ms/step - loss: 0.5636 - accuracy: 0.7741 - val_loss: 0.7534 - val_accuracy: 0.7357\n",
      "Epoch 12/20\n",
      "22/22 [==============================] - 8s 386ms/step - loss: 0.5970 - accuracy: 0.7801 - val_loss: 0.6564 - val_accuracy: 0.7732\n",
      "Epoch 13/20\n",
      "22/22 [==============================] - 8s 383ms/step - loss: 0.5250 - accuracy: 0.8068 - val_loss: 0.6113 - val_accuracy: 0.7867\n",
      "Epoch 14/20\n",
      "22/22 [==============================] - 8s 369ms/step - loss: 0.4673 - accuracy: 0.8258 - val_loss: 0.6702 - val_accuracy: 0.7725\n",
      "Epoch 15/20\n",
      "22/22 [==============================] - 8s 376ms/step - loss: 0.5128 - accuracy: 0.8033 - val_loss: 0.7151 - val_accuracy: 0.7757\n",
      "Epoch 16/20\n",
      "22/22 [==============================] - 8s 355ms/step - loss: 0.4689 - accuracy: 0.8168 - val_loss: 0.7640 - val_accuracy: 0.7411\n",
      "Epoch 17/20\n",
      "22/22 [==============================] - 8s 354ms/step - loss: 0.4973 - accuracy: 0.8209 - val_loss: 0.6434 - val_accuracy: 0.7839\n",
      "Epoch 18/20\n",
      "22/22 [==============================] - 8s 352ms/step - loss: 0.4416 - accuracy: 0.8335 - val_loss: 0.6861 - val_accuracy: 0.7803\n",
      "Epoch 19/20\n",
      "22/22 [==============================] - 8s 369ms/step - loss: 0.4328 - accuracy: 0.8318 - val_loss: 0.6661 - val_accuracy: 0.7932\n",
      "Epoch 20/20\n",
      "22/22 [==============================] - 8s 379ms/step - loss: 0.4272 - accuracy: 0.8374 - val_loss: 0.6832 - val_accuracy: 0.7878\n",
      "Duration: 9:24:27.089724\n"
     ]
    }
   ],
   "source": [
    "print(n)\n",
    "\n",
    "models_random[n].fit_model(image_sets_random[n],label_sets_random[n],x_val,y_val,epochs=20,batch_size = 128)\n",
    "n = n+1"
   ]
  },
  {
   "cell_type": "code",
   "execution_count": 47,
   "id": "d7bfc529",
   "metadata": {},
   "outputs": [
    {
     "name": "stdout",
     "output_type": "stream",
     "text": [
      "4\n",
      "Epoch 1/20\n",
      "28/28 [==============================] - 13s 378ms/step - loss: 1.0184 - accuracy: 0.6396 - val_loss: 0.6994 - val_accuracy: 0.7529\n",
      "Epoch 2/20\n",
      "28/28 [==============================] - 10s 344ms/step - loss: 0.8102 - accuracy: 0.6894 - val_loss: 0.6423 - val_accuracy: 0.7743\n",
      "Epoch 3/20\n",
      "28/28 [==============================] - 10s 343ms/step - loss: 0.7515 - accuracy: 0.7264 - val_loss: 0.7493 - val_accuracy: 0.7386\n",
      "Epoch 4/20\n",
      "28/28 [==============================] - 10s 350ms/step - loss: 0.7618 - accuracy: 0.7163 - val_loss: 0.6176 - val_accuracy: 0.7864\n",
      "Epoch 5/20\n",
      "28/28 [==============================] - 10s 368ms/step - loss: 0.6883 - accuracy: 0.7397 - val_loss: 0.8094 - val_accuracy: 0.7247\n",
      "Epoch 6/20\n",
      "28/28 [==============================] - 11s 389ms/step - loss: 0.6541 - accuracy: 0.7486 - val_loss: 0.6457 - val_accuracy: 0.7803\n",
      "Epoch 7/20\n",
      "28/28 [==============================] - 10s 369ms/step - loss: 0.6578 - accuracy: 0.7445 - val_loss: 0.7541 - val_accuracy: 0.7379\n",
      "Epoch 8/20\n",
      "28/28 [==============================] - 10s 364ms/step - loss: 0.6201 - accuracy: 0.7596 - val_loss: 0.5911 - val_accuracy: 0.7989\n",
      "Epoch 9/20\n",
      "28/28 [==============================] - 10s 366ms/step - loss: 0.5973 - accuracy: 0.7853 - val_loss: 0.6607 - val_accuracy: 0.7750\n",
      "Epoch 10/20\n",
      "28/28 [==============================] - 10s 361ms/step - loss: 0.5901 - accuracy: 0.7723 - val_loss: 0.7022 - val_accuracy: 0.7653\n",
      "Epoch 11/20\n",
      "28/28 [==============================] - 10s 366ms/step - loss: 0.5898 - accuracy: 0.7762 - val_loss: 0.7318 - val_accuracy: 0.7589\n",
      "Epoch 12/20\n",
      "28/28 [==============================] - 10s 350ms/step - loss: 0.5872 - accuracy: 0.7748 - val_loss: 0.8419 - val_accuracy: 0.7211\n",
      "Epoch 13/20\n",
      "28/28 [==============================] - 10s 356ms/step - loss: 0.5794 - accuracy: 0.7810 - val_loss: 0.7392 - val_accuracy: 0.7760\n",
      "Epoch 14/20\n",
      "28/28 [==============================] - 10s 357ms/step - loss: 0.5411 - accuracy: 0.7945 - val_loss: 0.6259 - val_accuracy: 0.7867\n",
      "Epoch 15/20\n",
      "28/28 [==============================] - 10s 352ms/step - loss: 0.4951 - accuracy: 0.8120 - val_loss: 0.6685 - val_accuracy: 0.7871\n",
      "Epoch 16/20\n",
      "28/28 [==============================] - 10s 348ms/step - loss: 0.5116 - accuracy: 0.8078 - val_loss: 0.6229 - val_accuracy: 0.7960\n",
      "Epoch 17/20\n",
      "28/28 [==============================] - 10s 354ms/step - loss: 0.4921 - accuracy: 0.8175 - val_loss: 0.7814 - val_accuracy: 0.7479\n",
      "Epoch 18/20\n",
      "28/28 [==============================] - 9s 338ms/step - loss: 0.4774 - accuracy: 0.8125 - val_loss: 0.9852 - val_accuracy: 0.7044\n",
      "Epoch 19/20\n",
      "28/28 [==============================] - 9s 340ms/step - loss: 0.5010 - accuracy: 0.8157 - val_loss: 0.7702 - val_accuracy: 0.7689\n",
      "Epoch 20/20\n",
      "28/28 [==============================] - 9s 337ms/step - loss: 0.4529 - accuracy: 0.8308 - val_loss: 0.7939 - val_accuracy: 0.7311\n",
      "Duration: 0:03:20.558046\n"
     ]
    }
   ],
   "source": [
    "print(n)#4\n",
    "\n",
    "models_random[n].fit_model(image_sets_random[n],label_sets_random[n],x_val,y_val,epochs=20,batch_size = 128)\n",
    "n = n+1"
   ]
  },
  {
   "cell_type": "code",
   "execution_count": 48,
   "id": "d489a7b8",
   "metadata": {},
   "outputs": [
    {
     "name": "stdout",
     "output_type": "stream",
     "text": [
      "5\n",
      "Epoch 1/20\n",
      "33/33 [==============================] - 15s 361ms/step - loss: 0.9801 - accuracy: 0.6526 - val_loss: 0.5929 - val_accuracy: 0.7842\n",
      "Epoch 2/20\n",
      "33/33 [==============================] - 11s 336ms/step - loss: 0.8031 - accuracy: 0.6996 - val_loss: 0.5824 - val_accuracy: 0.7917\n",
      "Epoch 3/20\n",
      "33/33 [==============================] - 11s 336ms/step - loss: 0.7910 - accuracy: 0.7078 - val_loss: 0.5693 - val_accuracy: 0.8003\n",
      "Epoch 4/20\n",
      "33/33 [==============================] - 11s 337ms/step - loss: 0.7335 - accuracy: 0.7197 - val_loss: 0.6506 - val_accuracy: 0.7675\n",
      "Epoch 5/20\n",
      "33/33 [==============================] - 12s 355ms/step - loss: 0.6739 - accuracy: 0.7424 - val_loss: 0.6634 - val_accuracy: 0.7678\n",
      "Epoch 6/20\n",
      "33/33 [==============================] - 11s 340ms/step - loss: 0.6594 - accuracy: 0.7491 - val_loss: 0.6797 - val_accuracy: 0.7707\n",
      "Epoch 7/20\n",
      "33/33 [==============================] - 11s 346ms/step - loss: 0.6566 - accuracy: 0.7458 - val_loss: 0.6241 - val_accuracy: 0.7878\n",
      "Epoch 8/20\n",
      "33/33 [==============================] - 11s 343ms/step - loss: 0.6017 - accuracy: 0.7783 - val_loss: 0.6171 - val_accuracy: 0.7924\n",
      "Epoch 9/20\n",
      "33/33 [==============================] - 11s 337ms/step - loss: 0.6170 - accuracy: 0.7624 - val_loss: 0.6487 - val_accuracy: 0.7874\n",
      "Epoch 10/20\n",
      "33/33 [==============================] - 11s 332ms/step - loss: 0.6005 - accuracy: 0.7624 - val_loss: 0.6585 - val_accuracy: 0.7767\n",
      "Epoch 11/20\n",
      "33/33 [==============================] - 10s 318ms/step - loss: 0.5624 - accuracy: 0.7813 - val_loss: 0.6241 - val_accuracy: 0.7860\n",
      "Epoch 12/20\n",
      "33/33 [==============================] - 10s 319ms/step - loss: 0.5793 - accuracy: 0.7802 - val_loss: 0.6677 - val_accuracy: 0.7725\n",
      "Epoch 13/20\n",
      "33/33 [==============================] - 11s 322ms/step - loss: 0.5318 - accuracy: 0.7974 - val_loss: 0.6323 - val_accuracy: 0.7896\n",
      "Epoch 14/20\n",
      "33/33 [==============================] - 11s 321ms/step - loss: 0.5131 - accuracy: 0.8087 - val_loss: 0.6301 - val_accuracy: 0.7889\n",
      "Epoch 15/20\n",
      "33/33 [==============================] - 10s 319ms/step - loss: 0.5172 - accuracy: 0.8073 - val_loss: 0.6581 - val_accuracy: 0.7767\n",
      "Epoch 16/20\n",
      "33/33 [==============================] - 10s 319ms/step - loss: 0.4628 - accuracy: 0.8288 - val_loss: 0.7716 - val_accuracy: 0.7208\n",
      "Epoch 17/20\n",
      "33/33 [==============================] - 11s 320ms/step - loss: 0.4685 - accuracy: 0.8229 - val_loss: 0.6851 - val_accuracy: 0.7735\n",
      "Epoch 18/20\n",
      "33/33 [==============================] - 10s 318ms/step - loss: 0.4486 - accuracy: 0.8181 - val_loss: 0.6446 - val_accuracy: 0.7892\n",
      "Epoch 19/20\n",
      "33/33 [==============================] - 11s 320ms/step - loss: 0.4471 - accuracy: 0.8232 - val_loss: 1.0927 - val_accuracy: 0.6790\n",
      "Epoch 20/20\n",
      "33/33 [==============================] - 10s 319ms/step - loss: 0.4698 - accuracy: 0.8311 - val_loss: 0.7058 - val_accuracy: 0.7700\n",
      "Duration: 0:03:41.056583\n"
     ]
    }
   ],
   "source": [
    "print(n)\n",
    "\n",
    "models_random[n].fit_model(image_sets_random[n],label_sets_random[n],x_val,y_val,epochs=20,batch_size = 128)\n",
    "n = n+1"
   ]
  },
  {
   "cell_type": "code",
   "execution_count": 49,
   "id": "255dba5e",
   "metadata": {},
   "outputs": [
    {
     "name": "stdout",
     "output_type": "stream",
     "text": [
      "6\n",
      "Epoch 1/20\n",
      "39/39 [==============================] - 14s 317ms/step - loss: 0.9925 - accuracy: 0.6421 - val_loss: 0.7643 - val_accuracy: 0.7514\n",
      "Epoch 2/20\n",
      "39/39 [==============================] - 12s 303ms/step - loss: 0.7966 - accuracy: 0.6910 - val_loss: 0.6480 - val_accuracy: 0.7671\n",
      "Epoch 3/20\n",
      "39/39 [==============================] - 12s 307ms/step - loss: 0.7562 - accuracy: 0.7091 - val_loss: 0.6302 - val_accuracy: 0.7671\n",
      "Epoch 4/20\n",
      "39/39 [==============================] - 12s 319ms/step - loss: 0.7007 - accuracy: 0.7348 - val_loss: 0.6919 - val_accuracy: 0.7571\n",
      "Epoch 5/20\n",
      "39/39 [==============================] - 12s 310ms/step - loss: 0.6747 - accuracy: 0.7391 - val_loss: 0.6682 - val_accuracy: 0.7507\n",
      "Epoch 6/20\n",
      "39/39 [==============================] - 12s 309ms/step - loss: 0.6784 - accuracy: 0.7366 - val_loss: 0.6659 - val_accuracy: 0.7614\n",
      "Epoch 7/20\n",
      "39/39 [==============================] - 12s 306ms/step - loss: 0.6271 - accuracy: 0.7623 - val_loss: 0.6574 - val_accuracy: 0.7639\n",
      "Epoch 8/20\n",
      "39/39 [==============================] - 12s 306ms/step - loss: 0.6078 - accuracy: 0.7660 - val_loss: 0.5975 - val_accuracy: 0.7903\n",
      "Epoch 9/20\n",
      "39/39 [==============================] - 12s 306ms/step - loss: 0.5796 - accuracy: 0.7767 - val_loss: 0.7341 - val_accuracy: 0.7389\n",
      "Epoch 10/20\n",
      "39/39 [==============================] - 12s 306ms/step - loss: 0.5976 - accuracy: 0.7730 - val_loss: 0.6770 - val_accuracy: 0.7596\n",
      "Epoch 11/20\n",
      "39/39 [==============================] - 12s 309ms/step - loss: 0.5668 - accuracy: 0.7870 - val_loss: 0.6381 - val_accuracy: 0.7871\n",
      "Epoch 12/20\n",
      "39/39 [==============================] - 12s 306ms/step - loss: 0.5590 - accuracy: 0.7903 - val_loss: 0.6980 - val_accuracy: 0.7660\n",
      "Epoch 13/20\n",
      "39/39 [==============================] - 12s 307ms/step - loss: 0.5673 - accuracy: 0.7838 - val_loss: 0.7369 - val_accuracy: 0.7461\n",
      "Epoch 14/20\n",
      "39/39 [==============================] - 12s 307ms/step - loss: 0.5507 - accuracy: 0.7941 - val_loss: 0.8793 - val_accuracy: 0.7072\n",
      "Epoch 15/20\n",
      "39/39 [==============================] - 12s 308ms/step - loss: 0.5140 - accuracy: 0.8115 - val_loss: 0.6669 - val_accuracy: 0.7657\n",
      "Epoch 16/20\n",
      "39/39 [==============================] - 12s 307ms/step - loss: 0.5096 - accuracy: 0.8086 - val_loss: 0.9175 - val_accuracy: 0.6822\n",
      "Epoch 17/20\n",
      "39/39 [==============================] - 12s 306ms/step - loss: 0.5055 - accuracy: 0.8027 - val_loss: 0.7660 - val_accuracy: 0.7593\n",
      "Epoch 18/20\n",
      "39/39 [==============================] - 12s 306ms/step - loss: 0.4708 - accuracy: 0.8227 - val_loss: 0.7598 - val_accuracy: 0.7561\n",
      "Epoch 19/20\n",
      "39/39 [==============================] - 12s 305ms/step - loss: 0.4646 - accuracy: 0.8200 - val_loss: 0.9009 - val_accuracy: 0.7129\n",
      "Epoch 20/20\n",
      "39/39 [==============================] - 13s 328ms/step - loss: 0.5050 - accuracy: 0.8123 - val_loss: 0.6884 - val_accuracy: 0.7682\n",
      "Duration: 0:04:02.253475\n"
     ]
    }
   ],
   "source": [
    "print(n)\n",
    "\n",
    "models_random[n].fit_model(image_sets_random[n],label_sets_random[n],x_val,y_val,epochs=20,batch_size = 128)\n",
    "n = n+1"
   ]
  },
  {
   "cell_type": "code",
   "execution_count": 50,
   "id": "d08885ff",
   "metadata": {},
   "outputs": [
    {
     "name": "stdout",
     "output_type": "stream",
     "text": [
      "7\n",
      "Epoch 1/20\n",
      "44/44 [==============================] - 17s 332ms/step - loss: 0.9714 - accuracy: 0.6588 - val_loss: 0.7163 - val_accuracy: 0.7354\n",
      "Epoch 2/20\n",
      "44/44 [==============================] - 13s 301ms/step - loss: 0.7789 - accuracy: 0.7098 - val_loss: 0.6274 - val_accuracy: 0.7814\n",
      "Epoch 3/20\n",
      "44/44 [==============================] - 13s 304ms/step - loss: 0.7541 - accuracy: 0.7109 - val_loss: 0.5996 - val_accuracy: 0.7921\n",
      "Epoch 4/20\n",
      "44/44 [==============================] - 13s 305ms/step - loss: 0.7040 - accuracy: 0.7375 - val_loss: 0.6209 - val_accuracy: 0.7860\n",
      "Epoch 5/20\n",
      "44/44 [==============================] - 13s 305ms/step - loss: 0.6792 - accuracy: 0.7482 - val_loss: 0.5889 - val_accuracy: 0.8017\n",
      "Epoch 6/20\n",
      "44/44 [==============================] - 13s 305ms/step - loss: 0.6562 - accuracy: 0.7574 - val_loss: 0.6563 - val_accuracy: 0.7760\n",
      "Epoch 7/20\n",
      "44/44 [==============================] - 13s 304ms/step - loss: 0.6564 - accuracy: 0.7518 - val_loss: 0.6256 - val_accuracy: 0.7860\n",
      "Epoch 8/20\n",
      "44/44 [==============================] - 14s 310ms/step - loss: 0.6122 - accuracy: 0.7741 - val_loss: 0.6062 - val_accuracy: 0.7921\n",
      "Epoch 9/20\n",
      "44/44 [==============================] - 14s 325ms/step - loss: 0.6233 - accuracy: 0.7676 - val_loss: 0.6130 - val_accuracy: 0.7889\n",
      "Epoch 10/20\n",
      "44/44 [==============================] - 14s 315ms/step - loss: 0.6073 - accuracy: 0.7791 - val_loss: 0.6687 - val_accuracy: 0.7878\n",
      "Epoch 11/20\n",
      "44/44 [==============================] - 13s 304ms/step - loss: 0.5808 - accuracy: 0.7867 - val_loss: 0.6284 - val_accuracy: 0.7953\n",
      "Epoch 12/20\n",
      "44/44 [==============================] - 13s 304ms/step - loss: 0.5486 - accuracy: 0.7876 - val_loss: 0.6094 - val_accuracy: 0.7928\n",
      "Epoch 13/20\n",
      "44/44 [==============================] - 13s 306ms/step - loss: 0.5376 - accuracy: 0.7962 - val_loss: 0.5893 - val_accuracy: 0.8003\n",
      "Epoch 14/20\n",
      "44/44 [==============================] - 13s 305ms/step - loss: 0.5195 - accuracy: 0.8065 - val_loss: 0.7218 - val_accuracy: 0.7464\n",
      "Epoch 15/20\n",
      "44/44 [==============================] - 13s 305ms/step - loss: 0.5081 - accuracy: 0.8111 - val_loss: 0.5820 - val_accuracy: 0.7971\n",
      "Epoch 16/20\n",
      "44/44 [==============================] - 13s 304ms/step - loss: 0.4942 - accuracy: 0.8101 - val_loss: 0.6132 - val_accuracy: 0.7956\n",
      "Epoch 17/20\n",
      "44/44 [==============================] - 13s 304ms/step - loss: 0.4993 - accuracy: 0.8162 - val_loss: 0.7414 - val_accuracy: 0.7521\n",
      "Epoch 18/20\n",
      "44/44 [==============================] - 13s 305ms/step - loss: 0.5028 - accuracy: 0.8146 - val_loss: 0.6981 - val_accuracy: 0.7539\n",
      "Epoch 19/20\n",
      "44/44 [==============================] - 13s 302ms/step - loss: 0.4482 - accuracy: 0.8329 - val_loss: 0.6172 - val_accuracy: 0.7953\n",
      "Epoch 20/20\n",
      "44/44 [==============================] - 13s 302ms/step - loss: 0.4709 - accuracy: 0.8264 - val_loss: 0.7145 - val_accuracy: 0.7675\n",
      "Duration: 0:04:31.783805\n"
     ]
    }
   ],
   "source": [
    "print(n)\n",
    "\n",
    "models_random[n].fit_model(image_sets_random[n],label_sets_random[n],x_val,y_val,epochs=20,batch_size = 128)\n",
    "n = n+1"
   ]
  },
  {
   "cell_type": "code",
   "execution_count": 51,
   "id": "679a850b",
   "metadata": {},
   "outputs": [
    {
     "name": "stdout",
     "output_type": "stream",
     "text": [
      "8\n",
      "Epoch 1/20\n",
      "50/50 [==============================] - 17s 301ms/step - loss: 0.9425 - accuracy: 0.6607 - val_loss: 1.0058 - val_accuracy: 0.6690\n",
      "Epoch 2/20\n",
      "50/50 [==============================] - 15s 297ms/step - loss: 0.8023 - accuracy: 0.7037 - val_loss: 0.7386 - val_accuracy: 0.7414\n",
      "Epoch 3/20\n",
      "50/50 [==============================] - 15s 297ms/step - loss: 0.7640 - accuracy: 0.7203 - val_loss: 0.6345 - val_accuracy: 0.7646\n",
      "Epoch 4/20\n",
      "50/50 [==============================] - 15s 298ms/step - loss: 0.7240 - accuracy: 0.7328 - val_loss: 0.7860 - val_accuracy: 0.7343\n",
      "Epoch 5/20\n",
      "50/50 [==============================] - 15s 296ms/step - loss: 0.7075 - accuracy: 0.7346 - val_loss: 0.6318 - val_accuracy: 0.7764\n",
      "Epoch 6/20\n",
      "50/50 [==============================] - 15s 297ms/step - loss: 0.6563 - accuracy: 0.7508 - val_loss: 0.6442 - val_accuracy: 0.7614\n",
      "Epoch 7/20\n",
      "50/50 [==============================] - 15s 295ms/step - loss: 0.6531 - accuracy: 0.7476 - val_loss: 0.7450 - val_accuracy: 0.7486\n",
      "Epoch 8/20\n",
      "50/50 [==============================] - 15s 295ms/step - loss: 0.6676 - accuracy: 0.7521 - val_loss: 0.6805 - val_accuracy: 0.7746\n",
      "Epoch 9/20\n",
      "50/50 [==============================] - 15s 296ms/step - loss: 0.6089 - accuracy: 0.7651 - val_loss: 0.7569 - val_accuracy: 0.7329\n",
      "Epoch 10/20\n",
      "50/50 [==============================] - 15s 298ms/step - loss: 0.6327 - accuracy: 0.7560 - val_loss: 0.6924 - val_accuracy: 0.7511\n",
      "Epoch 11/20\n",
      "50/50 [==============================] - 15s 296ms/step - loss: 0.5690 - accuracy: 0.7806 - val_loss: 0.7142 - val_accuracy: 0.7443\n",
      "Epoch 12/20\n",
      "50/50 [==============================] - 15s 295ms/step - loss: 0.5998 - accuracy: 0.7726 - val_loss: 0.8013 - val_accuracy: 0.7297\n",
      "Epoch 13/20\n",
      "50/50 [==============================] - 15s 296ms/step - loss: 0.5671 - accuracy: 0.7792 - val_loss: 0.6602 - val_accuracy: 0.7896\n",
      "Epoch 14/20\n",
      "50/50 [==============================] - 15s 295ms/step - loss: 0.5699 - accuracy: 0.7852 - val_loss: 0.6073 - val_accuracy: 0.7985\n",
      "Epoch 15/20\n",
      "50/50 [==============================] - 15s 297ms/step - loss: 0.4917 - accuracy: 0.8117 - val_loss: 0.6440 - val_accuracy: 0.7871\n",
      "Epoch 16/20\n",
      "50/50 [==============================] - 15s 294ms/step - loss: 0.4960 - accuracy: 0.8161 - val_loss: 0.9031 - val_accuracy: 0.6912\n",
      "Epoch 17/20\n",
      "50/50 [==============================] - 15s 296ms/step - loss: 0.5190 - accuracy: 0.8144 - val_loss: 0.7167 - val_accuracy: 0.7611\n",
      "Epoch 18/20\n",
      "50/50 [==============================] - 15s 298ms/step - loss: 0.4978 - accuracy: 0.8079 - val_loss: 0.6716 - val_accuracy: 0.7753\n",
      "Epoch 19/20\n",
      "50/50 [==============================] - 15s 300ms/step - loss: 0.4786 - accuracy: 0.8155 - val_loss: 1.4874 - val_accuracy: 0.5934\n",
      "Epoch 20/20\n",
      "50/50 [==============================] - 15s 299ms/step - loss: 0.5674 - accuracy: 0.8090 - val_loss: 0.6553 - val_accuracy: 0.7850\n",
      "Duration: 0:04:57.759505\n"
     ]
    }
   ],
   "source": [
    "print(n)\n",
    "\n",
    "models_random[n].fit_model(image_sets_random[n],label_sets_random[n],x_val,y_val,epochs=20,batch_size = 128)\n",
    "n = n+1"
   ]
  },
  {
   "cell_type": "code",
   "execution_count": 52,
   "id": "caa43f51",
   "metadata": {},
   "outputs": [
    {
     "name": "stdout",
     "output_type": "stream",
     "text": [
      "9\n",
      "Epoch 1/20\n",
      "55/55 [==============================] - 18s 300ms/step - loss: 0.9626 - accuracy: 0.6475 - val_loss: 0.7462 - val_accuracy: 0.7329\n",
      "Epoch 2/20\n",
      "55/55 [==============================] - 16s 297ms/step - loss: 0.7756 - accuracy: 0.7133 - val_loss: 0.8295 - val_accuracy: 0.6947\n",
      "Epoch 3/20\n",
      "55/55 [==============================] - 16s 297ms/step - loss: 0.7588 - accuracy: 0.7133 - val_loss: 0.5684 - val_accuracy: 0.7985\n",
      "Epoch 4/20\n",
      "55/55 [==============================] - 16s 295ms/step - loss: 0.7083 - accuracy: 0.7316 - val_loss: 0.6397 - val_accuracy: 0.7839\n",
      "Epoch 5/20\n",
      "55/55 [==============================] - 16s 295ms/step - loss: 0.6716 - accuracy: 0.7480 - val_loss: 0.6019 - val_accuracy: 0.7871\n",
      "Epoch 6/20\n",
      "55/55 [==============================] - 16s 299ms/step - loss: 0.6757 - accuracy: 0.7437 - val_loss: 0.5716 - val_accuracy: 0.7981\n",
      "Epoch 7/20\n",
      "55/55 [==============================] - 16s 295ms/step - loss: 0.6566 - accuracy: 0.7571 - val_loss: 0.5975 - val_accuracy: 0.7896\n",
      "Epoch 8/20\n",
      "55/55 [==============================] - 16s 295ms/step - loss: 0.6150 - accuracy: 0.7641 - val_loss: 0.5672 - val_accuracy: 0.8028\n",
      "Epoch 9/20\n",
      "55/55 [==============================] - 16s 296ms/step - loss: 0.5871 - accuracy: 0.7733 - val_loss: 0.6234 - val_accuracy: 0.7850\n",
      "Epoch 10/20\n",
      "55/55 [==============================] - 16s 297ms/step - loss: 0.6176 - accuracy: 0.7749 - val_loss: 0.6169 - val_accuracy: 0.7817\n",
      "Epoch 11/20\n",
      "55/55 [==============================] - 16s 295ms/step - loss: 0.5907 - accuracy: 0.7801 - val_loss: 0.6076 - val_accuracy: 0.7939\n",
      "Epoch 12/20\n",
      "55/55 [==============================] - 16s 294ms/step - loss: 0.5490 - accuracy: 0.7906 - val_loss: 0.6464 - val_accuracy: 0.7771\n",
      "Epoch 13/20\n",
      "55/55 [==============================] - 16s 297ms/step - loss: 0.5404 - accuracy: 0.7932 - val_loss: 0.6215 - val_accuracy: 0.7842\n",
      "Epoch 14/20\n",
      "55/55 [==============================] - 16s 295ms/step - loss: 0.5341 - accuracy: 0.7979 - val_loss: 0.5708 - val_accuracy: 0.8131\n",
      "Epoch 15/20\n",
      "55/55 [==============================] - 16s 295ms/step - loss: 0.5122 - accuracy: 0.8016 - val_loss: 0.5874 - val_accuracy: 0.8042\n",
      "Epoch 16/20\n",
      "55/55 [==============================] - 16s 297ms/step - loss: 0.5048 - accuracy: 0.8080 - val_loss: 0.6048 - val_accuracy: 0.8006\n",
      "Epoch 17/20\n",
      "55/55 [==============================] - 16s 297ms/step - loss: 0.4993 - accuracy: 0.8155 - val_loss: 0.5898 - val_accuracy: 0.7996\n",
      "Epoch 18/20\n",
      "55/55 [==============================] - 16s 295ms/step - loss: 0.4797 - accuracy: 0.8208 - val_loss: 0.7111 - val_accuracy: 0.7596\n",
      "Epoch 19/20\n",
      "55/55 [==============================] - 16s 296ms/step - loss: 0.4714 - accuracy: 0.8229 - val_loss: 0.6421 - val_accuracy: 0.7832\n",
      "Epoch 20/20\n",
      "55/55 [==============================] - 16s 295ms/step - loss: 0.4650 - accuracy: 0.8269 - val_loss: 0.6310 - val_accuracy: 0.7899\n",
      "Duration: 0:05:26.650157\n"
     ]
    }
   ],
   "source": [
    "print(n)#9\n",
    "\n",
    "models_random[n].fit_model(image_sets_random[n],label_sets_random[n],x_val,y_val,epochs=20,batch_size = 128)\n",
    "n = n+1"
   ]
  },
  {
   "cell_type": "code",
   "execution_count": 53,
   "id": "ce5b4337",
   "metadata": {},
   "outputs": [
    {
     "name": "stdout",
     "output_type": "stream",
     "text": [
      "10\n",
      "Epoch 1/20\n",
      "61/61 [==============================] - 20s 300ms/step - loss: 1.1486 - accuracy: 0.6263 - val_loss: 0.6493 - val_accuracy: 0.7682\n",
      "Epoch 2/20\n",
      "61/61 [==============================] - 17s 287ms/step - loss: 0.7537 - accuracy: 0.7155 - val_loss: 0.6974 - val_accuracy: 0.7532\n",
      "Epoch 3/20\n",
      "61/61 [==============================] - 18s 289ms/step - loss: 0.7237 - accuracy: 0.7294 - val_loss: 0.7426 - val_accuracy: 0.7432\n",
      "Epoch 4/20\n",
      "61/61 [==============================] - 18s 290ms/step - loss: 0.7435 - accuracy: 0.7224 - val_loss: 0.5717 - val_accuracy: 0.7960\n",
      "Epoch 5/20\n",
      "61/61 [==============================] - 18s 290ms/step - loss: 0.6851 - accuracy: 0.7370 - val_loss: 0.6195 - val_accuracy: 0.7771\n",
      "Epoch 6/20\n",
      "61/61 [==============================] - 18s 297ms/step - loss: 0.6755 - accuracy: 0.7501 - val_loss: 0.6598 - val_accuracy: 0.7764\n",
      "Epoch 7/20\n",
      "61/61 [==============================] - 18s 298ms/step - loss: 0.6459 - accuracy: 0.7620 - val_loss: 0.7511 - val_accuracy: 0.7347\n",
      "Epoch 8/20\n",
      "61/61 [==============================] - 18s 297ms/step - loss: 0.6460 - accuracy: 0.7581 - val_loss: 0.7104 - val_accuracy: 0.7379\n",
      "Epoch 9/20\n",
      "61/61 [==============================] - 18s 288ms/step - loss: 0.5943 - accuracy: 0.7730 - val_loss: 0.7314 - val_accuracy: 0.7311\n",
      "Epoch 10/20\n",
      "61/61 [==============================] - 18s 290ms/step - loss: 0.6169 - accuracy: 0.7718 - val_loss: 0.6450 - val_accuracy: 0.7846\n",
      "Epoch 11/20\n",
      "61/61 [==============================] - 18s 289ms/step - loss: 0.5808 - accuracy: 0.7785 - val_loss: 0.7093 - val_accuracy: 0.7532\n",
      "Epoch 12/20\n",
      "61/61 [==============================] - 18s 288ms/step - loss: 0.5735 - accuracy: 0.7821 - val_loss: 0.6727 - val_accuracy: 0.7721\n",
      "Epoch 13/20\n",
      "61/61 [==============================] - 18s 288ms/step - loss: 0.5588 - accuracy: 0.7853 - val_loss: 0.9150 - val_accuracy: 0.6655\n",
      "Epoch 14/20\n",
      "61/61 [==============================] - 18s 291ms/step - loss: 0.5610 - accuracy: 0.7888 - val_loss: 1.0720 - val_accuracy: 0.6623\n",
      "Epoch 15/20\n",
      "61/61 [==============================] - 18s 289ms/step - loss: 0.5883 - accuracy: 0.7816 - val_loss: 0.8357 - val_accuracy: 0.7315\n",
      "Epoch 16/20\n",
      "61/61 [==============================] - 17s 287ms/step - loss: 0.5136 - accuracy: 0.8066 - val_loss: 0.6555 - val_accuracy: 0.7850\n",
      "Epoch 17/20\n",
      "61/61 [==============================] - 18s 289ms/step - loss: 0.5279 - accuracy: 0.8059 - val_loss: 0.7749 - val_accuracy: 0.7525\n",
      "Epoch 18/20\n",
      "61/61 [==============================] - 18s 290ms/step - loss: 0.4903 - accuracy: 0.8182 - val_loss: 0.7591 - val_accuracy: 0.7564\n",
      "Epoch 19/20\n",
      "61/61 [==============================] - 18s 289ms/step - loss: 0.4805 - accuracy: 0.8238 - val_loss: 0.7241 - val_accuracy: 0.7814\n",
      "Epoch 20/20\n",
      "61/61 [==============================] - 18s 288ms/step - loss: 0.4727 - accuracy: 0.8234 - val_loss: 0.7584 - val_accuracy: 0.7578\n",
      "Duration: 0:05:55.645484\n"
     ]
    }
   ],
   "source": [
    "print(n)\n",
    "\n",
    "models_random[n].fit_model(image_sets_random[n],label_sets_random[n],x_val,y_val,epochs=20,batch_size = 128)\n",
    "n = n+1"
   ]
  },
  {
   "cell_type": "code",
   "execution_count": 54,
   "id": "62c61ccf",
   "metadata": {},
   "outputs": [
    {
     "name": "stdout",
     "output_type": "stream",
     "text": [
      "11\n",
      "Epoch 1/20\n",
      "66/66 [==============================] - 21s 297ms/step - loss: 0.9442 - accuracy: 0.6608 - val_loss: 0.6492 - val_accuracy: 0.7757\n",
      "Epoch 2/20\n",
      "66/66 [==============================] - 19s 287ms/step - loss: 0.7707 - accuracy: 0.7137 - val_loss: 0.5978 - val_accuracy: 0.7885\n",
      "Epoch 3/20\n",
      "66/66 [==============================] - 19s 291ms/step - loss: 0.7445 - accuracy: 0.7231 - val_loss: 0.6068 - val_accuracy: 0.7850\n",
      "Epoch 4/20\n",
      "66/66 [==============================] - 19s 290ms/step - loss: 0.7450 - accuracy: 0.7229 - val_loss: 0.5875 - val_accuracy: 0.7924\n",
      "Epoch 5/20\n",
      "66/66 [==============================] - 19s 289ms/step - loss: 0.6852 - accuracy: 0.7472 - val_loss: 0.6207 - val_accuracy: 0.7828\n",
      "Epoch 6/20\n",
      "66/66 [==============================] - 19s 289ms/step - loss: 0.6662 - accuracy: 0.7523 - val_loss: 0.6375 - val_accuracy: 0.7842\n",
      "Epoch 7/20\n",
      "66/66 [==============================] - 19s 290ms/step - loss: 0.6510 - accuracy: 0.7526 - val_loss: 0.6425 - val_accuracy: 0.7771\n",
      "Epoch 8/20\n",
      "66/66 [==============================] - 19s 291ms/step - loss: 0.6299 - accuracy: 0.7580 - val_loss: 0.6420 - val_accuracy: 0.7785\n",
      "Epoch 9/20\n",
      "66/66 [==============================] - 19s 289ms/step - loss: 0.6065 - accuracy: 0.7698 - val_loss: 0.5958 - val_accuracy: 0.8006\n",
      "Epoch 10/20\n",
      "66/66 [==============================] - 19s 290ms/step - loss: 0.5874 - accuracy: 0.7808 - val_loss: 0.6890 - val_accuracy: 0.7650\n",
      "Epoch 11/20\n",
      "66/66 [==============================] - 19s 290ms/step - loss: 0.5897 - accuracy: 0.7765 - val_loss: 0.5816 - val_accuracy: 0.8021\n",
      "Epoch 12/20\n",
      "66/66 [==============================] - 19s 291ms/step - loss: 0.5379 - accuracy: 0.8005 - val_loss: 0.5844 - val_accuracy: 0.7960\n",
      "Epoch 13/20\n",
      "66/66 [==============================] - 19s 289ms/step - loss: 0.5792 - accuracy: 0.7895 - val_loss: 0.6622 - val_accuracy: 0.7792\n",
      "Epoch 14/20\n",
      "66/66 [==============================] - 19s 292ms/step - loss: 0.5240 - accuracy: 0.8065 - val_loss: 0.6240 - val_accuracy: 0.7853\n",
      "Epoch 15/20\n",
      "66/66 [==============================] - 19s 295ms/step - loss: 0.5087 - accuracy: 0.8111 - val_loss: 0.6264 - val_accuracy: 0.7857\n",
      "Epoch 16/20\n",
      "66/66 [==============================] - 19s 290ms/step - loss: 0.5164 - accuracy: 0.8085 - val_loss: 0.7176 - val_accuracy: 0.7792\n",
      "Epoch 17/20\n",
      "66/66 [==============================] - 19s 288ms/step - loss: 0.4901 - accuracy: 0.8223 - val_loss: 0.5777 - val_accuracy: 0.8039\n",
      "Epoch 18/20\n",
      "66/66 [==============================] - 19s 289ms/step - loss: 0.4596 - accuracy: 0.8305 - val_loss: 0.6363 - val_accuracy: 0.7860\n",
      "Epoch 19/20\n",
      "66/66 [==============================] - 19s 290ms/step - loss: 0.4333 - accuracy: 0.8356 - val_loss: 0.6924 - val_accuracy: 0.7668\n",
      "Epoch 20/20\n",
      "66/66 [==============================] - 19s 291ms/step - loss: 0.4565 - accuracy: 0.8287 - val_loss: 0.6664 - val_accuracy: 0.7703\n",
      "Duration: 0:06:24.509251\n"
     ]
    }
   ],
   "source": [
    "print(n)\n",
    "\n",
    "models_random[n].fit_model(image_sets_random[n],label_sets_random[n],x_val,y_val,epochs=20,batch_size = 128)\n",
    "n = n+1"
   ]
  },
  {
   "cell_type": "code",
   "execution_count": 55,
   "id": "7bfb876f",
   "metadata": {},
   "outputs": [
    {
     "name": "stdout",
     "output_type": "stream",
     "text": [
      "12\n",
      "Epoch 1/20\n",
      "72/72 [==============================] - 22s 290ms/step - loss: 0.9299 - accuracy: 0.6647 - val_loss: 0.9709 - val_accuracy: 0.6476\n",
      "Epoch 2/20\n",
      "72/72 [==============================] - 20s 283ms/step - loss: 0.7771 - accuracy: 0.7071 - val_loss: 0.7329 - val_accuracy: 0.7183\n",
      "Epoch 3/20\n",
      "72/72 [==============================] - 21s 286ms/step - loss: 0.7302 - accuracy: 0.7256 - val_loss: 0.7229 - val_accuracy: 0.7482\n",
      "Epoch 4/20\n",
      "72/72 [==============================] - 20s 285ms/step - loss: 0.7126 - accuracy: 0.7373 - val_loss: 0.7188 - val_accuracy: 0.7575\n",
      "Epoch 5/20\n",
      "72/72 [==============================] - 21s 285ms/step - loss: 0.6985 - accuracy: 0.7330 - val_loss: 0.6376 - val_accuracy: 0.7750\n",
      "Epoch 6/20\n",
      "72/72 [==============================] - 21s 286ms/step - loss: 0.6718 - accuracy: 0.7452 - val_loss: 0.7154 - val_accuracy: 0.7532\n",
      "Epoch 7/20\n",
      "72/72 [==============================] - 20s 284ms/step - loss: 0.6625 - accuracy: 0.7447 - val_loss: 0.6516 - val_accuracy: 0.7710\n",
      "Epoch 8/20\n",
      "72/72 [==============================] - 20s 285ms/step - loss: 0.6457 - accuracy: 0.7618 - val_loss: 0.8809 - val_accuracy: 0.6826\n",
      "Epoch 9/20\n",
      "72/72 [==============================] - 21s 285ms/step - loss: 0.6264 - accuracy: 0.7658 - val_loss: 0.6338 - val_accuracy: 0.7832\n",
      "Epoch 10/20\n",
      "72/72 [==============================] - 20s 284ms/step - loss: 0.6105 - accuracy: 0.7775 - val_loss: 0.7146 - val_accuracy: 0.7521\n",
      "Epoch 11/20\n",
      "72/72 [==============================] - 21s 285ms/step - loss: 0.5728 - accuracy: 0.7846 - val_loss: 0.7252 - val_accuracy: 0.7571\n",
      "Epoch 12/20\n",
      "72/72 [==============================] - 21s 286ms/step - loss: 0.5784 - accuracy: 0.7834 - val_loss: 0.6735 - val_accuracy: 0.7703\n",
      "Epoch 13/20\n",
      "72/72 [==============================] - 21s 287ms/step - loss: 0.5616 - accuracy: 0.7922 - val_loss: 0.7952 - val_accuracy: 0.7172\n",
      "Epoch 14/20\n",
      "72/72 [==============================] - 21s 286ms/step - loss: 0.5532 - accuracy: 0.7975 - val_loss: 1.3495 - val_accuracy: 0.6630\n",
      "Epoch 15/20\n",
      "72/72 [==============================] - 21s 285ms/step - loss: 0.6080 - accuracy: 0.7885 - val_loss: 0.6718 - val_accuracy: 0.7593\n",
      "Epoch 16/20\n",
      "72/72 [==============================] - 21s 285ms/step - loss: 0.5185 - accuracy: 0.8037 - val_loss: 0.6624 - val_accuracy: 0.7725\n",
      "Epoch 17/20\n",
      "72/72 [==============================] - 21s 285ms/step - loss: 0.4871 - accuracy: 0.8171 - val_loss: 0.6328 - val_accuracy: 0.7996\n",
      "Epoch 18/20\n",
      "72/72 [==============================] - 21s 286ms/step - loss: 0.4632 - accuracy: 0.8261 - val_loss: 0.8117 - val_accuracy: 0.7250\n",
      "Epoch 19/20\n",
      "72/72 [==============================] - 20s 285ms/step - loss: 0.4700 - accuracy: 0.8210 - val_loss: 0.7308 - val_accuracy: 0.7743\n",
      "Epoch 20/20\n",
      "72/72 [==============================] - 21s 285ms/step - loss: 0.4822 - accuracy: 0.8196 - val_loss: 0.5955 - val_accuracy: 0.7999\n",
      "Duration: 0:06:52.145383\n"
     ]
    }
   ],
   "source": [
    "print(n)\n",
    "\n",
    "models_random[n].fit_model(image_sets_random[n],label_sets_random[n],x_val,y_val,epochs=20,batch_size = 128)\n",
    "n = n+1"
   ]
  },
  {
   "cell_type": "code",
   "execution_count": 56,
   "id": "c5b6359c",
   "metadata": {},
   "outputs": [
    {
     "name": "stdout",
     "output_type": "stream",
     "text": [
      "13\n",
      "Epoch 1/20\n",
      "77/77 [==============================] - 24s 289ms/step - loss: 0.9826 - accuracy: 0.6545 - val_loss: 0.6198 - val_accuracy: 0.7981\n",
      "Epoch 2/20\n",
      "77/77 [==============================] - 22s 284ms/step - loss: 0.7657 - accuracy: 0.7163 - val_loss: 0.6749 - val_accuracy: 0.7718\n",
      "Epoch 3/20\n",
      "77/77 [==============================] - 22s 287ms/step - loss: 0.7578 - accuracy: 0.7203 - val_loss: 0.6234 - val_accuracy: 0.7882\n",
      "Epoch 4/20\n",
      "77/77 [==============================] - 22s 285ms/step - loss: 0.7029 - accuracy: 0.7407 - val_loss: 0.6949 - val_accuracy: 0.7486\n",
      "Epoch 5/20\n",
      "77/77 [==============================] - 22s 284ms/step - loss: 0.6788 - accuracy: 0.7421 - val_loss: 0.6958 - val_accuracy: 0.7361\n",
      "Epoch 6/20\n",
      "77/77 [==============================] - 22s 286ms/step - loss: 0.6893 - accuracy: 0.7434 - val_loss: 0.5533 - val_accuracy: 0.8117\n",
      "Epoch 7/20\n",
      "77/77 [==============================] - 22s 287ms/step - loss: 0.6429 - accuracy: 0.7503 - val_loss: 0.6026 - val_accuracy: 0.7907\n",
      "Epoch 8/20\n",
      "77/77 [==============================] - 22s 288ms/step - loss: 0.6068 - accuracy: 0.7818 - val_loss: 0.5948 - val_accuracy: 0.7896\n",
      "Epoch 9/20\n",
      "77/77 [==============================] - 22s 286ms/step - loss: 0.6126 - accuracy: 0.7709 - val_loss: 0.5795 - val_accuracy: 0.7967\n",
      "Epoch 10/20\n",
      "77/77 [==============================] - 22s 286ms/step - loss: 0.5942 - accuracy: 0.7723 - val_loss: 0.5717 - val_accuracy: 0.7942\n",
      "Epoch 11/20\n",
      "77/77 [==============================] - 22s 288ms/step - loss: 0.5783 - accuracy: 0.7847 - val_loss: 0.5746 - val_accuracy: 0.7992\n",
      "Epoch 12/20\n",
      "77/77 [==============================] - 22s 286ms/step - loss: 0.5404 - accuracy: 0.7949 - val_loss: 0.6473 - val_accuracy: 0.7792\n",
      "Epoch 13/20\n",
      "77/77 [==============================] - 22s 285ms/step - loss: 0.5409 - accuracy: 0.7989 - val_loss: 0.6579 - val_accuracy: 0.7660\n",
      "Epoch 14/20\n",
      "77/77 [==============================] - 22s 287ms/step - loss: 0.5258 - accuracy: 0.8011 - val_loss: 0.6457 - val_accuracy: 0.7817\n",
      "Epoch 15/20\n",
      "77/77 [==============================] - 22s 290ms/step - loss: 0.5222 - accuracy: 0.8088 - val_loss: 0.5976 - val_accuracy: 0.7910\n",
      "Epoch 16/20\n",
      "77/77 [==============================] - 22s 287ms/step - loss: 0.5011 - accuracy: 0.8132 - val_loss: 0.6257 - val_accuracy: 0.7910\n",
      "Epoch 17/20\n",
      "77/77 [==============================] - 22s 286ms/step - loss: 0.4562 - accuracy: 0.8286 - val_loss: 0.5906 - val_accuracy: 0.7935\n",
      "Epoch 18/20\n",
      "77/77 [==============================] - 22s 286ms/step - loss: 0.4610 - accuracy: 0.8279 - val_loss: 0.5903 - val_accuracy: 0.8021\n",
      "Epoch 19/20\n",
      "77/77 [==============================] - 22s 286ms/step - loss: 0.4750 - accuracy: 0.8253 - val_loss: 0.5595 - val_accuracy: 0.8085\n",
      "Epoch 20/20\n",
      "77/77 [==============================] - 22s 287ms/step - loss: 0.4438 - accuracy: 0.8384 - val_loss: 0.6123 - val_accuracy: 0.7964\n",
      "Duration: 0:07:22.554227\n"
     ]
    }
   ],
   "source": [
    "print(n)\n",
    "\n",
    "models_random[n].fit_model(image_sets_random[n],label_sets_random[n],x_val,y_val,epochs=20,batch_size = 128)\n",
    "n = n+1"
   ]
  },
  {
   "cell_type": "code",
   "execution_count": 57,
   "id": "be2d6574",
   "metadata": {},
   "outputs": [
    {
     "name": "stdout",
     "output_type": "stream",
     "text": [
      "14\n",
      "Epoch 1/20\n",
      "83/83 [==============================] - 25s 285ms/step - loss: 0.9105 - accuracy: 0.6650 - val_loss: 0.9335 - val_accuracy: 0.5952\n",
      "Epoch 2/20\n",
      "83/83 [==============================] - 23s 281ms/step - loss: 0.7910 - accuracy: 0.7040 - val_loss: 1.0065 - val_accuracy: 0.6341\n",
      "Epoch 3/20\n",
      "83/83 [==============================] - 23s 281ms/step - loss: 0.7785 - accuracy: 0.7082 - val_loss: 0.7396 - val_accuracy: 0.7653\n",
      "Epoch 4/20\n",
      "83/83 [==============================] - 23s 283ms/step - loss: 0.7226 - accuracy: 0.7297 - val_loss: 0.8295 - val_accuracy: 0.7061\n",
      "Epoch 5/20\n",
      "83/83 [==============================] - 23s 283ms/step - loss: 0.6912 - accuracy: 0.7417 - val_loss: 0.8473 - val_accuracy: 0.7193\n",
      "Epoch 6/20\n",
      "83/83 [==============================] - 23s 282ms/step - loss: 0.6796 - accuracy: 0.7439 - val_loss: 1.0960 - val_accuracy: 0.6337\n",
      "Epoch 7/20\n",
      "83/83 [==============================] - 23s 283ms/step - loss: 0.7013 - accuracy: 0.7394 - val_loss: 0.6161 - val_accuracy: 0.7750\n",
      "Epoch 8/20\n",
      "83/83 [==============================] - 23s 282ms/step - loss: 0.6647 - accuracy: 0.7522 - val_loss: 0.6614 - val_accuracy: 0.7710\n",
      "Epoch 9/20\n",
      "83/83 [==============================] - 23s 283ms/step - loss: 0.6332 - accuracy: 0.7638 - val_loss: 0.6873 - val_accuracy: 0.7689\n",
      "Epoch 10/20\n",
      "83/83 [==============================] - 24s 283ms/step - loss: 0.6138 - accuracy: 0.7631 - val_loss: 0.7459 - val_accuracy: 0.7307\n",
      "Epoch 11/20\n",
      "83/83 [==============================] - 23s 282ms/step - loss: 0.5803 - accuracy: 0.7839 - val_loss: 0.6562 - val_accuracy: 0.7628\n",
      "Epoch 12/20\n",
      "83/83 [==============================] - 24s 284ms/step - loss: 0.5720 - accuracy: 0.7848 - val_loss: 0.6571 - val_accuracy: 0.7721\n",
      "Epoch 13/20\n",
      "83/83 [==============================] - 23s 282ms/step - loss: 0.5494 - accuracy: 0.7921 - val_loss: 0.7519 - val_accuracy: 0.7546\n",
      "Epoch 14/20\n",
      "83/83 [==============================] - 24s 286ms/step - loss: 0.5432 - accuracy: 0.7954 - val_loss: 0.7955 - val_accuracy: 0.7122\n",
      "Epoch 15/20\n",
      "83/83 [==============================] - 24s 284ms/step - loss: 0.5465 - accuracy: 0.7943 - val_loss: 0.7420 - val_accuracy: 0.7650\n",
      "Epoch 16/20\n",
      "83/83 [==============================] - 24s 287ms/step - loss: 0.5824 - accuracy: 0.7921 - val_loss: 0.6797 - val_accuracy: 0.7703\n",
      "Epoch 17/20\n",
      "83/83 [==============================] - 24s 285ms/step - loss: 0.4844 - accuracy: 0.8257 - val_loss: 1.0106 - val_accuracy: 0.6979\n",
      "Epoch 18/20\n",
      "83/83 [==============================] - 23s 282ms/step - loss: 0.4997 - accuracy: 0.8126 - val_loss: 0.6346 - val_accuracy: 0.7871\n",
      "Epoch 19/20\n",
      "83/83 [==============================] - 23s 282ms/step - loss: 0.4471 - accuracy: 0.8348 - val_loss: 0.8381 - val_accuracy: 0.7429\n",
      "Epoch 20/20\n",
      "83/83 [==============================] - 24s 284ms/step - loss: 0.4620 - accuracy: 0.8340 - val_loss: 0.6726 - val_accuracy: 0.7621\n",
      "Duration: 0:07:51.398111\n"
     ]
    }
   ],
   "source": [
    "print(n)#14\n",
    "\n",
    "models_random[n].fit_model(image_sets_random[n],label_sets_random[n],x_val,y_val,epochs=20,batch_size = 128)\n",
    "n = n+1"
   ]
  },
  {
   "cell_type": "code",
   "execution_count": 58,
   "id": "43ff9265",
   "metadata": {},
   "outputs": [
    {
     "name": "stdout",
     "output_type": "stream",
     "text": [
      "15\n",
      "Epoch 1/20\n",
      "88/88 [==============================] - 27s 286ms/step - loss: 0.9266 - accuracy: 0.6664 - val_loss: 0.6982 - val_accuracy: 0.7578\n",
      "Epoch 2/20\n",
      "88/88 [==============================] - 25s 283ms/step - loss: 0.7619 - accuracy: 0.7166 - val_loss: 0.6365 - val_accuracy: 0.7857\n",
      "Epoch 3/20\n",
      "88/88 [==============================] - 25s 282ms/step - loss: 0.7351 - accuracy: 0.7234 - val_loss: 0.5855 - val_accuracy: 0.7914\n",
      "Epoch 4/20\n",
      "88/88 [==============================] - 25s 283ms/step - loss: 0.6964 - accuracy: 0.7351 - val_loss: 0.5955 - val_accuracy: 0.7910\n",
      "Epoch 5/20\n",
      "88/88 [==============================] - 25s 283ms/step - loss: 0.6787 - accuracy: 0.7408 - val_loss: 0.6450 - val_accuracy: 0.7721\n",
      "Epoch 6/20\n",
      "88/88 [==============================] - 25s 281ms/step - loss: 0.6764 - accuracy: 0.7452 - val_loss: 0.5585 - val_accuracy: 0.7999\n",
      "Epoch 7/20\n",
      "88/88 [==============================] - 25s 283ms/step - loss: 0.6189 - accuracy: 0.7644 - val_loss: 0.6958 - val_accuracy: 0.7543\n",
      "Epoch 8/20\n",
      "88/88 [==============================] - 25s 282ms/step - loss: 0.6086 - accuracy: 0.7734 - val_loss: 0.5762 - val_accuracy: 0.7939\n",
      "Epoch 9/20\n",
      "88/88 [==============================] - 25s 284ms/step - loss: 0.6116 - accuracy: 0.7695 - val_loss: 0.5720 - val_accuracy: 0.7996\n",
      "Epoch 10/20\n",
      "88/88 [==============================] - 27s 306ms/step - loss: 0.5941 - accuracy: 0.7816 - val_loss: 0.6740 - val_accuracy: 0.7789\n",
      "Epoch 11/20\n",
      "88/88 [==============================] - 28s 314ms/step - loss: 0.5904 - accuracy: 0.7769 - val_loss: 0.7650 - val_accuracy: 0.7215\n",
      "Epoch 12/20\n",
      "88/88 [==============================] - 28s 321ms/step - loss: 0.5589 - accuracy: 0.7899 - val_loss: 0.5628 - val_accuracy: 0.8031\n",
      "Epoch 13/20\n",
      "88/88 [==============================] - 25s 289ms/step - loss: 0.5332 - accuracy: 0.8008 - val_loss: 0.5698 - val_accuracy: 0.8014\n",
      "Epoch 14/20\n",
      "88/88 [==============================] - 25s 284ms/step - loss: 0.5369 - accuracy: 0.7980 - val_loss: 0.5764 - val_accuracy: 0.7939\n",
      "Epoch 15/20\n",
      "88/88 [==============================] - 25s 283ms/step - loss: 0.5085 - accuracy: 0.8059 - val_loss: 0.5582 - val_accuracy: 0.8067\n",
      "Epoch 16/20\n",
      "88/88 [==============================] - 25s 283ms/step - loss: 0.4748 - accuracy: 0.8176 - val_loss: 0.5604 - val_accuracy: 0.8071\n",
      "Epoch 17/20\n",
      "88/88 [==============================] - 25s 283ms/step - loss: 0.4895 - accuracy: 0.8168 - val_loss: 0.6480 - val_accuracy: 0.7800\n",
      "Epoch 18/20\n",
      "88/88 [==============================] - 25s 283ms/step - loss: 0.4616 - accuracy: 0.8289 - val_loss: 0.6401 - val_accuracy: 0.7846\n",
      "Epoch 19/20\n",
      "88/88 [==============================] - 25s 283ms/step - loss: 0.4513 - accuracy: 0.8283 - val_loss: 0.6234 - val_accuracy: 0.7803\n",
      "Epoch 20/20\n",
      "88/88 [==============================] - 25s 283ms/step - loss: 0.4430 - accuracy: 0.8410 - val_loss: 0.6245 - val_accuracy: 0.7835\n",
      "Duration: 0:08:28.119134\n"
     ]
    }
   ],
   "source": [
    "print(n)\n",
    "\n",
    "models_random[n].fit_model(image_sets_random[n],label_sets_random[n],x_val,y_val,epochs=20,batch_size = 128)\n",
    "n = n+1"
   ]
  },
  {
   "cell_type": "code",
   "execution_count": 59,
   "id": "c78ea3cc",
   "metadata": {},
   "outputs": [
    {
     "name": "stdout",
     "output_type": "stream",
     "text": [
      "16\n",
      "Epoch 1/20\n",
      "93/93 [==============================] - 28s 287ms/step - loss: 0.8911 - accuracy: 0.6747 - val_loss: 0.6219 - val_accuracy: 0.7825\n",
      "Epoch 2/20\n",
      "93/93 [==============================] - 26s 283ms/step - loss: 0.7857 - accuracy: 0.7057 - val_loss: 0.6123 - val_accuracy: 0.7964\n",
      "Epoch 3/20\n",
      "93/93 [==============================] - 26s 283ms/step - loss: 0.7162 - accuracy: 0.7270 - val_loss: 0.6007 - val_accuracy: 0.7921\n",
      "Epoch 4/20\n",
      "93/93 [==============================] - 26s 284ms/step - loss: 0.7165 - accuracy: 0.7275 - val_loss: 0.5962 - val_accuracy: 0.7921\n",
      "Epoch 5/20\n",
      "93/93 [==============================] - 26s 283ms/step - loss: 0.6910 - accuracy: 0.7402 - val_loss: 0.6245 - val_accuracy: 0.7792\n",
      "Epoch 6/20\n",
      "93/93 [==============================] - 26s 283ms/step - loss: 0.6570 - accuracy: 0.7512 - val_loss: 0.6028 - val_accuracy: 0.7935\n",
      "Epoch 7/20\n",
      "93/93 [==============================] - 26s 284ms/step - loss: 0.6312 - accuracy: 0.7666 - val_loss: 0.6589 - val_accuracy: 0.7689\n",
      "Epoch 8/20\n",
      "93/93 [==============================] - 26s 284ms/step - loss: 0.6125 - accuracy: 0.7725 - val_loss: 0.5927 - val_accuracy: 0.7942\n",
      "Epoch 9/20\n",
      "93/93 [==============================] - 27s 286ms/step - loss: 0.5951 - accuracy: 0.7775 - val_loss: 0.6000 - val_accuracy: 0.7871\n",
      "Epoch 10/20\n",
      "93/93 [==============================] - 26s 283ms/step - loss: 0.5926 - accuracy: 0.7786 - val_loss: 0.5967 - val_accuracy: 0.7935\n",
      "Epoch 11/20\n",
      "93/93 [==============================] - 26s 285ms/step - loss: 0.5561 - accuracy: 0.7953 - val_loss: 0.5448 - val_accuracy: 0.8117\n",
      "Epoch 12/20\n",
      "93/93 [==============================] - 26s 283ms/step - loss: 0.5399 - accuracy: 0.7991 - val_loss: 0.5667 - val_accuracy: 0.8010\n",
      "Epoch 13/20\n",
      "93/93 [==============================] - 26s 285ms/step - loss: 0.5328 - accuracy: 0.8043 - val_loss: 0.5526 - val_accuracy: 0.8081\n",
      "Epoch 14/20\n",
      "93/93 [==============================] - 26s 285ms/step - loss: 0.5426 - accuracy: 0.7938 - val_loss: 0.6198 - val_accuracy: 0.7882\n",
      "Epoch 15/20\n",
      "93/93 [==============================] - 26s 283ms/step - loss: 0.5061 - accuracy: 0.8099 - val_loss: 0.6753 - val_accuracy: 0.7611\n",
      "Epoch 16/20\n",
      "93/93 [==============================] - 26s 282ms/step - loss: 0.4967 - accuracy: 0.8149 - val_loss: 0.5537 - val_accuracy: 0.8092\n",
      "Epoch 17/20\n",
      "93/93 [==============================] - 26s 283ms/step - loss: 0.4704 - accuracy: 0.8224 - val_loss: 0.6306 - val_accuracy: 0.7967\n",
      "Epoch 18/20\n",
      "93/93 [==============================] - 26s 285ms/step - loss: 0.4595 - accuracy: 0.8304 - val_loss: 0.5519 - val_accuracy: 0.8117\n",
      "Epoch 19/20\n",
      "93/93 [==============================] - 26s 283ms/step - loss: 0.4343 - accuracy: 0.8413 - val_loss: 0.5671 - val_accuracy: 0.8071\n",
      "Epoch 20/20\n",
      "93/93 [==============================] - 26s 282ms/step - loss: 0.4385 - accuracy: 0.8365 - val_loss: 0.5990 - val_accuracy: 0.7981\n",
      "Duration: 0:08:49.057053\n"
     ]
    }
   ],
   "source": [
    "print(n)\n",
    "\n",
    "models_random[n].fit_model(image_sets_random[n],label_sets_random[n],x_val,y_val,epochs=20,batch_size = 128)\n",
    "n = n+1"
   ]
  },
  {
   "cell_type": "code",
   "execution_count": 60,
   "id": "5b399df9",
   "metadata": {},
   "outputs": [
    {
     "name": "stdout",
     "output_type": "stream",
     "text": [
      "17\n",
      "Epoch 1/20\n",
      "99/99 [==============================] - 30s 285ms/step - loss: 0.9402 - accuracy: 0.6659 - val_loss: 0.8094 - val_accuracy: 0.7058\n",
      "Epoch 2/20\n",
      "99/99 [==============================] - 28s 281ms/step - loss: 0.7897 - accuracy: 0.7044 - val_loss: 0.5902 - val_accuracy: 0.7921\n",
      "Epoch 3/20\n",
      "99/99 [==============================] - 28s 281ms/step - loss: 0.7265 - accuracy: 0.7239 - val_loss: 0.5526 - val_accuracy: 0.7989\n",
      "Epoch 4/20\n",
      "99/99 [==============================] - 28s 281ms/step - loss: 0.6906 - accuracy: 0.7411 - val_loss: 0.6186 - val_accuracy: 0.7810\n",
      "Epoch 5/20\n",
      "99/99 [==============================] - 28s 281ms/step - loss: 0.6963 - accuracy: 0.7384 - val_loss: 0.6224 - val_accuracy: 0.7767\n",
      "Epoch 6/20\n",
      "99/99 [==============================] - 28s 282ms/step - loss: 0.6577 - accuracy: 0.7542 - val_loss: 0.6352 - val_accuracy: 0.7778\n",
      "Epoch 7/20\n",
      "99/99 [==============================] - 28s 285ms/step - loss: 0.6340 - accuracy: 0.7616 - val_loss: 0.6577 - val_accuracy: 0.7650\n",
      "Epoch 8/20\n",
      "99/99 [==============================] - 28s 283ms/step - loss: 0.6438 - accuracy: 0.7549 - val_loss: 0.5554 - val_accuracy: 0.8067\n",
      "Epoch 9/20\n",
      "99/99 [==============================] - 28s 282ms/step - loss: 0.6095 - accuracy: 0.7726 - val_loss: 0.6698 - val_accuracy: 0.7757\n",
      "Epoch 10/20\n",
      "99/99 [==============================] - 28s 281ms/step - loss: 0.5941 - accuracy: 0.7729 - val_loss: 0.5715 - val_accuracy: 0.8046\n",
      "Epoch 11/20\n",
      "99/99 [==============================] - 28s 282ms/step - loss: 0.5537 - accuracy: 0.7946 - val_loss: 0.5939 - val_accuracy: 0.7917\n",
      "Epoch 12/20\n",
      "99/99 [==============================] - 28s 284ms/step - loss: 0.5669 - accuracy: 0.7904 - val_loss: 0.6006 - val_accuracy: 0.7910\n",
      "Epoch 13/20\n",
      "99/99 [==============================] - 28s 280ms/step - loss: 0.5329 - accuracy: 0.7993 - val_loss: 0.6652 - val_accuracy: 0.7914\n",
      "Epoch 14/20\n",
      "99/99 [==============================] - 28s 281ms/step - loss: 0.5402 - accuracy: 0.7991 - val_loss: 0.6532 - val_accuracy: 0.7935\n",
      "Epoch 15/20\n",
      "99/99 [==============================] - 28s 282ms/step - loss: 0.5153 - accuracy: 0.8104 - val_loss: 0.6148 - val_accuracy: 0.7899\n",
      "Epoch 16/20\n",
      "99/99 [==============================] - 28s 282ms/step - loss: 0.4947 - accuracy: 0.8212 - val_loss: 0.5974 - val_accuracy: 0.7992\n",
      "Epoch 17/20\n",
      "99/99 [==============================] - 28s 280ms/step - loss: 0.4879 - accuracy: 0.8203 - val_loss: 0.5773 - val_accuracy: 0.7978\n",
      "Epoch 18/20\n",
      "99/99 [==============================] - 28s 282ms/step - loss: 0.4834 - accuracy: 0.8248 - val_loss: 0.6907 - val_accuracy: 0.7468\n",
      "Epoch 19/20\n",
      "99/99 [==============================] - 28s 281ms/step - loss: 0.4536 - accuracy: 0.8347 - val_loss: 1.0069 - val_accuracy: 0.6929\n",
      "Epoch 20/20\n",
      "99/99 [==============================] - 28s 282ms/step - loss: 0.4965 - accuracy: 0.8215 - val_loss: 0.6033 - val_accuracy: 0.7942\n",
      "Duration: 0:09:19.312522\n"
     ]
    }
   ],
   "source": [
    "print(n)\n",
    "\n",
    "models_random[n].fit_model(image_sets_random[n],label_sets_random[n],x_val,y_val,epochs=20,batch_size = 128)\n",
    "n = n+1"
   ]
  },
  {
   "cell_type": "code",
   "execution_count": 61,
   "id": "ef9414fe",
   "metadata": {},
   "outputs": [
    {
     "name": "stdout",
     "output_type": "stream",
     "text": [
      "18\n",
      "Epoch 1/20\n",
      "104/104 [==============================] - 31s 286ms/step - loss: 0.9320 - accuracy: 0.6638 - val_loss: 0.6721 - val_accuracy: 0.7603\n",
      "Epoch 2/20\n",
      "104/104 [==============================] - 29s 281ms/step - loss: 0.7762 - accuracy: 0.7051 - val_loss: 0.6299 - val_accuracy: 0.7792\n",
      "Epoch 3/20\n",
      "104/104 [==============================] - 30s 284ms/step - loss: 0.7352 - accuracy: 0.7184 - val_loss: 0.6903 - val_accuracy: 0.7675\n",
      "Epoch 4/20\n",
      "104/104 [==============================] - 29s 280ms/step - loss: 0.7230 - accuracy: 0.7283 - val_loss: 0.5774 - val_accuracy: 0.7910\n",
      "Epoch 5/20\n",
      "104/104 [==============================] - 29s 280ms/step - loss: 0.6714 - accuracy: 0.7498 - val_loss: 0.6998 - val_accuracy: 0.7636\n",
      "Epoch 6/20\n",
      "104/104 [==============================] - 29s 280ms/step - loss: 0.6593 - accuracy: 0.7492 - val_loss: 0.5941 - val_accuracy: 0.7853\n",
      "Epoch 7/20\n",
      "104/104 [==============================] - 29s 282ms/step - loss: 0.6377 - accuracy: 0.7638 - val_loss: 0.5929 - val_accuracy: 0.7860\n",
      "Epoch 8/20\n",
      "104/104 [==============================] - 31s 294ms/step - loss: 0.6230 - accuracy: 0.7675 - val_loss: 0.6073 - val_accuracy: 0.7878\n",
      "Epoch 9/20\n",
      "104/104 [==============================] - 29s 284ms/step - loss: 0.5844 - accuracy: 0.7857 - val_loss: 0.5634 - val_accuracy: 0.8053\n",
      "Epoch 10/20\n",
      "104/104 [==============================] - 29s 283ms/step - loss: 0.6009 - accuracy: 0.7791 - val_loss: 0.8679 - val_accuracy: 0.6883\n",
      "Epoch 11/20\n",
      "104/104 [==============================] - 29s 283ms/step - loss: 0.5735 - accuracy: 0.7848 - val_loss: 0.5370 - val_accuracy: 0.8142\n",
      "Epoch 12/20\n",
      "104/104 [==============================] - 30s 285ms/step - loss: 0.5440 - accuracy: 0.7944 - val_loss: 0.5801 - val_accuracy: 0.8003\n",
      "Epoch 13/20\n",
      "104/104 [==============================] - 29s 283ms/step - loss: 0.5229 - accuracy: 0.8041 - val_loss: 0.5877 - val_accuracy: 0.8003\n",
      "Epoch 14/20\n",
      "104/104 [==============================] - 29s 283ms/step - loss: 0.5204 - accuracy: 0.8023 - val_loss: 0.5459 - val_accuracy: 0.8121\n",
      "Epoch 15/20\n",
      "104/104 [==============================] - 29s 283ms/step - loss: 0.5088 - accuracy: 0.8091 - val_loss: 0.6607 - val_accuracy: 0.7760\n",
      "Epoch 16/20\n",
      "104/104 [==============================] - 30s 287ms/step - loss: 0.4901 - accuracy: 0.8240 - val_loss: 0.5818 - val_accuracy: 0.8053\n",
      "Epoch 17/20\n",
      "104/104 [==============================] - 29s 283ms/step - loss: 0.4742 - accuracy: 0.8242 - val_loss: 0.6280 - val_accuracy: 0.7810\n",
      "Epoch 18/20\n",
      "104/104 [==============================] - 30s 284ms/step - loss: 0.4679 - accuracy: 0.8263 - val_loss: 0.6345 - val_accuracy: 0.7899\n",
      "Epoch 19/20\n",
      "104/104 [==============================] - 30s 288ms/step - loss: 0.4634 - accuracy: 0.8275 - val_loss: 0.5402 - val_accuracy: 0.8142\n",
      "Epoch 20/20\n",
      "104/104 [==============================] - 30s 286ms/step - loss: 0.4321 - accuracy: 0.8410 - val_loss: 0.6297 - val_accuracy: 0.7885\n",
      "Duration: 0:09:52.042785\n"
     ]
    }
   ],
   "source": [
    "print(n)\n",
    "\n",
    "models_random[n].fit_model(image_sets_random[n],label_sets_random[n],x_val,y_val,epochs=20,batch_size = 128)\n",
    "n = n+1"
   ]
  },
  {
   "cell_type": "code",
   "execution_count": 62,
   "id": "13a8477e",
   "metadata": {},
   "outputs": [
    {
     "name": "stdout",
     "output_type": "stream",
     "text": [
      "19\n",
      "Epoch 1/20\n",
      "112/112 [==============================] - 33s 283ms/step - loss: 0.8993 - accuracy: 0.6757 - val_loss: 0.7548 - val_accuracy: 0.7165\n",
      "Epoch 2/20\n",
      "112/112 [==============================] - 32s 283ms/step - loss: 0.7655 - accuracy: 0.7149 - val_loss: 0.7105 - val_accuracy: 0.7322\n",
      "Epoch 3/20\n",
      "112/112 [==============================] - 31s 280ms/step - loss: 0.7296 - accuracy: 0.7308 - val_loss: 0.6598 - val_accuracy: 0.7714\n",
      "Epoch 4/20\n",
      "112/112 [==============================] - 31s 280ms/step - loss: 0.7175 - accuracy: 0.7319 - val_loss: 0.6476 - val_accuracy: 0.7678\n",
      "Epoch 5/20\n",
      "112/112 [==============================] - 31s 280ms/step - loss: 0.6740 - accuracy: 0.7437 - val_loss: 0.6966 - val_accuracy: 0.7293\n",
      "Epoch 6/20\n",
      "112/112 [==============================] - 31s 280ms/step - loss: 0.6739 - accuracy: 0.7470 - val_loss: 0.6575 - val_accuracy: 0.7600\n",
      "Epoch 7/20\n",
      "112/112 [==============================] - 32s 282ms/step - loss: 0.6545 - accuracy: 0.7554 - val_loss: 0.7266 - val_accuracy: 0.7414\n",
      "Epoch 8/20\n",
      "112/112 [==============================] - 31s 281ms/step - loss: 0.6322 - accuracy: 0.7662 - val_loss: 0.6360 - val_accuracy: 0.7960\n",
      "Epoch 9/20\n",
      "112/112 [==============================] - 31s 280ms/step - loss: 0.6066 - accuracy: 0.7723 - val_loss: 0.9037 - val_accuracy: 0.6872\n",
      "Epoch 10/20\n",
      "112/112 [==============================] - 32s 281ms/step - loss: 0.6024 - accuracy: 0.7753 - val_loss: 0.6069 - val_accuracy: 0.7942\n",
      "Epoch 11/20\n",
      "112/112 [==============================] - 31s 280ms/step - loss: 0.5795 - accuracy: 0.7819 - val_loss: 0.6925 - val_accuracy: 0.7696\n",
      "Epoch 12/20\n",
      "112/112 [==============================] - 32s 282ms/step - loss: 0.5685 - accuracy: 0.7890 - val_loss: 0.8871 - val_accuracy: 0.6748\n",
      "Epoch 13/20\n",
      "112/112 [==============================] - 31s 280ms/step - loss: 0.5568 - accuracy: 0.7930 - val_loss: 0.6966 - val_accuracy: 0.7618\n",
      "Epoch 14/20\n",
      "112/112 [==============================] - 31s 280ms/step - loss: 0.5231 - accuracy: 0.8012 - val_loss: 0.7061 - val_accuracy: 0.7543\n",
      "Epoch 15/20\n",
      "112/112 [==============================] - 31s 281ms/step - loss: 0.5132 - accuracy: 0.8078 - val_loss: 0.7167 - val_accuracy: 0.7336\n",
      "Epoch 16/20\n",
      "112/112 [==============================] - 31s 280ms/step - loss: 0.5119 - accuracy: 0.8112 - val_loss: 0.7189 - val_accuracy: 0.7571\n",
      "Epoch 17/20\n",
      "112/112 [==============================] - 32s 282ms/step - loss: 0.5186 - accuracy: 0.8122 - val_loss: 0.7239 - val_accuracy: 0.7910\n",
      "Epoch 18/20\n",
      "112/112 [==============================] - 31s 279ms/step - loss: 0.4813 - accuracy: 0.8204 - val_loss: 0.6690 - val_accuracy: 0.7800\n",
      "Epoch 19/20\n",
      "112/112 [==============================] - 31s 279ms/step - loss: 0.4921 - accuracy: 0.8209 - val_loss: 0.7433 - val_accuracy: 0.7443\n",
      "Epoch 20/20\n",
      "112/112 [==============================] - 31s 278ms/step - loss: 0.4532 - accuracy: 0.8347 - val_loss: 0.7976 - val_accuracy: 0.7257\n",
      "Duration: 0:10:30.011363\n"
     ]
    }
   ],
   "source": [
    "print(n)#19\n",
    "\n",
    "models_random[n].fit_model(image_sets_random[n],label_sets_random[n],x_val,y_val,epochs=20,batch_size = 128)\n",
    "n = n+1"
   ]
  },
  {
   "cell_type": "code",
   "execution_count": 25,
   "id": "ffcdf061",
   "metadata": {},
   "outputs": [
    {
     "name": "stdout",
     "output_type": "stream",
     "text": [
      "D:/models/intel_models/C2/intel_model_c2_sep_random_e2_0\n",
      "Model loaded correctly\n",
      "D:/models/intel_models/C2/intel_model_c2_sep_random_e2_1\n",
      "Model loaded correctly\n",
      "D:/models/intel_models/C2/intel_model_c2_sep_random_e2_2\n",
      "Model loaded correctly\n",
      "D:/models/intel_models/C2/intel_model_c2_sep_random_e2_3\n",
      "Model loaded correctly\n",
      "D:/models/intel_models/C2/intel_model_c2_sep_random_e2_4\n",
      "Model loaded correctly\n",
      "D:/models/intel_models/C2/intel_model_c2_sep_random_e2_5\n",
      "Model loaded correctly\n",
      "D:/models/intel_models/C2/intel_model_c2_sep_random_e2_6\n",
      "Model loaded correctly\n",
      "D:/models/intel_models/C2/intel_model_c2_sep_random_e2_7\n",
      "Model loaded correctly\n",
      "D:/models/intel_models/C2/intel_model_c2_sep_random_e2_8\n",
      "Model loaded correctly\n",
      "D:/models/intel_models/C2/intel_model_c2_sep_random_e2_9\n",
      "Model loaded correctly\n",
      "D:/models/intel_models/C2/intel_model_c2_sep_random_e2_10\n",
      "Model loaded correctly\n",
      "D:/models/intel_models/C2/intel_model_c2_sep_random_e2_11\n",
      "Model loaded correctly\n",
      "D:/models/intel_models/C2/intel_model_c2_sep_random_e2_12\n",
      "Model loaded correctly\n",
      "D:/models/intel_models/C2/intel_model_c2_sep_random_e2_13\n",
      "Model loaded correctly\n",
      "D:/models/intel_models/C2/intel_model_c2_sep_random_e2_14\n",
      "Model loaded correctly\n",
      "D:/models/intel_models/C2/intel_model_c2_sep_random_e2_15\n",
      "Model loaded correctly\n",
      "D:/models/intel_models/C2/intel_model_c2_sep_random_e2_16\n",
      "Model loaded correctly\n",
      "D:/models/intel_models/C2/intel_model_c2_sep_random_e2_17\n",
      "Model loaded correctly\n",
      "D:/models/intel_models/C2/intel_model_c2_sep_random_e2_18\n",
      "Model loaded correctly\n",
      "D:/models/intel_models/C2/intel_model_c2_sep_random_e2_19\n",
      "Model loaded correctly\n"
     ]
    }
   ],
   "source": [
    "loading = True\n",
    "\n",
    "models_random = []\n",
    "\n",
    "if loading:\n",
    "    for i in range(20):\n",
    "        model_random_dir = \"D:/models/intel_models/C2/intel_model_c2_sep_random_e2_\"+str(i)\n",
    "        print(model_random_dir)\n",
    "        model =utils.My_model('intel',True,model_random_dir)\n",
    "        model.model.compile(loss= 'categorical_crossentropy', optimizer = 'rmsprop', metrics = ['accuracy',tf.keras.metrics.Precision(), tf.keras.metrics.Recall()])\n",
    "        models_random.append(model)\n",
    "       \n",
    "    "
   ]
  },
  {
   "cell_type": "markdown",
   "id": "884629f5",
   "metadata": {},
   "source": [
    "## Training guided by NC"
   ]
  },
  {
   "cell_type": "code",
   "execution_count": 24,
   "id": "e53f2bcb",
   "metadata": {},
   "outputs": [],
   "source": [
    "# NC\n",
    "nc_values = []\n",
    "for i in range(1,15):\n",
    "    save_dir_rand = \"C:/Users/fjdur/Desktop/upc/project_notebooks/github_project/DL_notebooks/NC_values/intel_nc_values_\"+str(i)+\".npy\"\n",
    "    #print(save_dir_rand)\n",
    "    tmp_values = np.load(save_dir_rand)\n",
    "    #print(tmp_values.shape)\n",
    "    nc_values = np.append(nc_values,tmp_values)"
   ]
  },
  {
   "cell_type": "code",
   "execution_count": 25,
   "id": "024f3314",
   "metadata": {},
   "outputs": [],
   "source": [
    "\n",
    "top_images_by_nc = utils.get_x_of_indexes(list(np.flip(np.argsort(nc_values))),x_train_and_adversary)\n",
    "top_labels_by_nc = utils.get_x_of_indexes(list(np.flip(np.argsort(nc_values))),y_train_and_adversary)\n"
   ]
  },
  {
   "cell_type": "code",
   "execution_count": 26,
   "id": "41d661aa",
   "metadata": {},
   "outputs": [
    {
     "name": "stdout",
     "output_type": "stream",
     "text": [
      "Model loaded correctly\n",
      "Model compiled\n",
      "Epoch 1/10\n",
      "79/79 [==============================] - 15s 167ms/step - loss: 0.9155 - accuracy: 0.6827 - val_loss: 0.9797 - val_accuracy: 0.6252\n",
      "Epoch 2/10\n",
      "79/79 [==============================] - 13s 162ms/step - loss: 0.7808 - accuracy: 0.7188 - val_loss: 0.8830 - val_accuracy: 0.6976\n",
      "Epoch 3/10\n",
      "79/79 [==============================] - 13s 161ms/step - loss: 0.7079 - accuracy: 0.7482 - val_loss: 0.7339 - val_accuracy: 0.7479\n",
      "Epoch 4/10\n",
      "79/79 [==============================] - 13s 164ms/step - loss: 0.6930 - accuracy: 0.7453 - val_loss: 0.6557 - val_accuracy: 0.7735\n",
      "Epoch 5/10\n",
      "79/79 [==============================] - 13s 168ms/step - loss: 0.6461 - accuracy: 0.7686 - val_loss: 0.8490 - val_accuracy: 0.7101\n",
      "Epoch 6/10\n",
      "79/79 [==============================] - 13s 168ms/step - loss: 0.6403 - accuracy: 0.7628 - val_loss: 0.8018 - val_accuracy: 0.7200\n",
      "Epoch 7/10\n",
      "79/79 [==============================] - 13s 171ms/step - loss: 0.6455 - accuracy: 0.7668 - val_loss: 0.6711 - val_accuracy: 0.7721\n",
      "Epoch 8/10\n",
      "79/79 [==============================] - 13s 169ms/step - loss: 0.5780 - accuracy: 0.7916 - val_loss: 0.7400 - val_accuracy: 0.7732\n",
      "Epoch 9/10\n",
      "79/79 [==============================] - 14s 173ms/step - loss: 0.5996 - accuracy: 0.7915 - val_loss: 0.8316 - val_accuracy: 0.7407\n",
      "Epoch 10/10\n",
      "79/79 [==============================] - 15s 187ms/step - loss: 0.5942 - accuracy: 0.7781 - val_loss: 0.8322 - val_accuracy: 0.7233\n",
      "Duration: 0:02:14.828512\n"
     ]
    },
    {
     "data": {
      "text/plain": [
       "<keras.callbacks.History at 0x2a71f758100>"
      ]
     },
     "execution_count": 26,
     "metadata": {},
     "output_type": "execute_result"
    }
   ],
   "source": [
    "top_images_by_nc_5000 = np.array(top_images_by_nc[:5000])\n",
    "top_labels_by_nc_5000 = np.array(top_labels_by_nc[:5000])\n",
    "\n",
    "model_nc_5000 =  utils.My_model(dataset,True,model_dir)\n",
    "model_nc_5000.compile_model()\n",
    "\n",
    "model_nc_5000.fit_model(top_images_by_nc_5000,top_labels_by_nc_5000,x_val,y_val)"
   ]
  },
  {
   "cell_type": "code",
   "execution_count": 66,
   "id": "7490c255",
   "metadata": {},
   "outputs": [
    {
     "name": "stdout",
     "output_type": "stream",
     "text": [
      "0 :\n",
      "0  ->  700\n",
      "700\n",
      "1 :\n",
      "0  ->  1400\n",
      "1400\n",
      "2 :\n",
      "0  ->  2100\n",
      "2100\n",
      "3 :\n",
      "0  ->  2800\n",
      "2800\n",
      "4 :\n",
      "0  ->  3500\n",
      "3500\n",
      "5 :\n",
      "0  ->  4200\n",
      "4200\n",
      "6 :\n",
      "0  ->  4900\n",
      "4900\n",
      "7 :\n",
      "0  ->  5600\n",
      "5600\n",
      "8 :\n",
      "0  ->  6300\n",
      "6300\n",
      "9 :\n",
      "0  ->  7000\n",
      "7000\n",
      "10 :\n",
      "0  ->  7700\n",
      "7700\n",
      "11 :\n",
      "0  ->  8400\n",
      "8400\n",
      "12 :\n",
      "0  ->  9100\n",
      "9100\n",
      "13 :\n",
      "0  ->  9800\n",
      "9800\n",
      "14 :\n",
      "0  ->  10500\n",
      "10500\n",
      "15 :\n",
      "0  ->  11200\n",
      "11200\n",
      "16 :\n",
      "0  ->  11900\n",
      "11900\n",
      "17 :\n",
      "0  ->  12600\n",
      "12600\n",
      "18 :\n",
      "0  ->  13300\n",
      "13300\n",
      "19 :\n",
      "Last\n",
      "0  ->  14224\n",
      "14224\n"
     ]
    }
   ],
   "source": [
    "m = 700\n",
    "n = 0\n",
    "image_sets_nc = []\n",
    "label_sets_nc = []\n",
    "\n",
    "\n",
    "for i in range(len(top_images_by_nc)//m):\n",
    "    print(i,\":\")\n",
    "    if (i+1 >= len(top_images_by_nc)//m):\n",
    "        print(\"Last\")\n",
    "        print(0,\" -> \",n+m+(len(top_images_by_nc)%m))\n",
    "        top_images_by_nc_n = np.array(top_images_by_nc[:n+m+(len(top_images_by_nc)%m)])\n",
    "        top_labels_by_nc_n = np.array(top_labels_by_nc[:n+m+(len(top_images_by_nc)%m)])\n",
    "    else:\n",
    "        print(0,\" -> \",m+n)\n",
    "        top_images_by_nc_n = np.array(top_images_by_nc[:n+m])\n",
    "        top_labels_by_nc_n = np.array(top_labels_by_nc[:n+m])\n",
    "    image_sets_nc.append(top_images_by_nc_n)\n",
    "    label_sets_nc.append(top_labels_by_nc_n)\n",
    "    print(len(top_images_by_nc_n))\n",
    "    n += m\n",
    "\n"
   ]
  },
  {
   "cell_type": "code",
   "execution_count": 67,
   "id": "0a65e301",
   "metadata": {},
   "outputs": [
    {
     "name": "stdout",
     "output_type": "stream",
     "text": [
      "C:/Users/fjdur/Desktop/upc/project_notebooks/github_project/DL_notebooks/models/intel_model_21_10/\n",
      "0 :\n",
      "Model loaded correctly\n",
      "Model compiled\n",
      "1 :\n",
      "Model loaded correctly\n",
      "Model compiled\n",
      "2 :\n",
      "Model loaded correctly\n",
      "Model compiled\n",
      "3 :\n",
      "Model loaded correctly\n",
      "Model compiled\n",
      "4 :\n",
      "Model loaded correctly\n",
      "Model compiled\n",
      "5 :\n",
      "Model loaded correctly\n",
      "Model compiled\n",
      "6 :\n",
      "Model loaded correctly\n",
      "Model compiled\n",
      "7 :\n",
      "Model loaded correctly\n",
      "Model compiled\n",
      "8 :\n",
      "Model loaded correctly\n",
      "Model compiled\n",
      "9 :\n",
      "Model loaded correctly\n",
      "Model compiled\n",
      "10 :\n",
      "Model loaded correctly\n",
      "Model compiled\n",
      "11 :\n",
      "Model loaded correctly\n",
      "Model compiled\n",
      "12 :\n",
      "Model loaded correctly\n",
      "Model compiled\n",
      "13 :\n",
      "Model loaded correctly\n",
      "Model compiled\n",
      "14 :\n",
      "Model loaded correctly\n",
      "Model compiled\n",
      "15 :\n",
      "Model loaded correctly\n",
      "Model compiled\n",
      "16 :\n",
      "Model loaded correctly\n",
      "Model compiled\n",
      "17 :\n",
      "Model loaded correctly\n",
      "Model compiled\n",
      "18 :\n",
      "Model loaded correctly\n",
      "Model compiled\n",
      "19 :\n",
      "Model loaded correctly\n",
      "Model compiled\n"
     ]
    }
   ],
   "source": [
    "print(model_dir)\n",
    "\n",
    "models_nc = []\n",
    "for i in range(len(label_sets_nc)):\n",
    "    print(i,\":\")\n",
    "    model = utils.My_model('intel',True,model_dir)\n",
    "    model.compile_model()\n",
    "    models_nc.append(model)\n"
   ]
  },
  {
   "cell_type": "code",
   "execution_count": 68,
   "id": "df0b6c8f",
   "metadata": {},
   "outputs": [
    {
     "name": "stdout",
     "output_type": "stream",
     "text": [
      "0\n",
      "Epoch 1/20\n",
      "6/6 [==============================] - 5s 638ms/step - loss: 1.1656 - accuracy: 0.6301 - val_loss: 0.7497 - val_accuracy: 0.7518\n",
      "Epoch 2/20\n",
      "6/6 [==============================] - 3s 558ms/step - loss: 0.7278 - accuracy: 0.7486 - val_loss: 0.7630 - val_accuracy: 0.7364\n",
      "Epoch 3/20\n",
      "6/6 [==============================] - 3s 572ms/step - loss: 0.7037 - accuracy: 0.7520 - val_loss: 1.0144 - val_accuracy: 0.7008\n",
      "Epoch 4/20\n",
      "6/6 [==============================] - 3s 584ms/step - loss: 0.7348 - accuracy: 0.7799 - val_loss: 1.0723 - val_accuracy: 0.6509\n",
      "Epoch 5/20\n",
      "6/6 [==============================] - 3s 565ms/step - loss: 0.7431 - accuracy: 0.7504 - val_loss: 0.8908 - val_accuracy: 0.7115\n",
      "Epoch 6/20\n",
      "6/6 [==============================] - 3s 561ms/step - loss: 0.6569 - accuracy: 0.7524 - val_loss: 0.8974 - val_accuracy: 0.7343\n",
      "Epoch 7/20\n",
      "6/6 [==============================] - 3s 564ms/step - loss: 0.6345 - accuracy: 0.7772 - val_loss: 0.7422 - val_accuracy: 0.7607\n",
      "Epoch 8/20\n",
      "6/6 [==============================] - 3s 557ms/step - loss: 0.5366 - accuracy: 0.8009 - val_loss: 0.7693 - val_accuracy: 0.7614\n",
      "Epoch 9/20\n",
      "6/6 [==============================] - 3s 558ms/step - loss: 0.4615 - accuracy: 0.8355 - val_loss: 0.6596 - val_accuracy: 0.7639\n",
      "Epoch 10/20\n",
      "6/6 [==============================] - 3s 559ms/step - loss: 0.5987 - accuracy: 0.7839 - val_loss: 0.8201 - val_accuracy: 0.7582\n",
      "Epoch 11/20\n",
      "6/6 [==============================] - 3s 559ms/step - loss: 0.4105 - accuracy: 0.8420 - val_loss: 0.7837 - val_accuracy: 0.7468\n",
      "Epoch 12/20\n",
      "6/6 [==============================] - 3s 557ms/step - loss: 0.5909 - accuracy: 0.7806 - val_loss: 0.7388 - val_accuracy: 0.7586\n",
      "Epoch 13/20\n",
      "6/6 [==============================] - 3s 564ms/step - loss: 0.3808 - accuracy: 0.8608 - val_loss: 0.8320 - val_accuracy: 0.7233\n",
      "Epoch 14/20\n",
      "6/6 [==============================] - 3s 572ms/step - loss: 0.3942 - accuracy: 0.8602 - val_loss: 0.9021 - val_accuracy: 0.7450\n",
      "Epoch 15/20\n",
      "6/6 [==============================] - 3s 566ms/step - loss: 0.3784 - accuracy: 0.8787 - val_loss: 1.7438 - val_accuracy: 0.5624\n",
      "Epoch 16/20\n",
      "6/6 [==============================] - 3s 568ms/step - loss: 0.5234 - accuracy: 0.8172 - val_loss: 0.9946 - val_accuracy: 0.7161\n",
      "Epoch 17/20\n",
      "6/6 [==============================] - 3s 571ms/step - loss: 0.2935 - accuracy: 0.8883 - val_loss: 1.2260 - val_accuracy: 0.7065\n",
      "Epoch 18/20\n",
      "6/6 [==============================] - 3s 565ms/step - loss: 0.3565 - accuracy: 0.8730 - val_loss: 0.9174 - val_accuracy: 0.7311\n",
      "Epoch 19/20\n",
      "6/6 [==============================] - 3s 573ms/step - loss: 0.3892 - accuracy: 0.8600 - val_loss: 1.0645 - val_accuracy: 0.7290\n",
      "Epoch 20/20\n",
      "6/6 [==============================] - 3s 569ms/step - loss: 0.2707 - accuracy: 0.9069 - val_loss: 0.9103 - val_accuracy: 0.7504\n",
      "Duration: 0:01:03.823340\n"
     ]
    }
   ],
   "source": [
    "n=0\n",
    "print(n)\n",
    "\n",
    "models_nc[n].fit_model(image_sets_nc[n],label_sets_nc[n],x_val,y_val,epochs=20,batch_size = 128)\n",
    "n = n+1"
   ]
  },
  {
   "cell_type": "code",
   "execution_count": 69,
   "id": "0f4f3f4b",
   "metadata": {},
   "outputs": [
    {
     "name": "stdout",
     "output_type": "stream",
     "text": [
      "1\n",
      "Epoch 1/20\n",
      "11/11 [==============================] - 7s 478ms/step - loss: 1.1393 - accuracy: 0.6472 - val_loss: 0.7696 - val_accuracy: 0.7165\n",
      "Epoch 2/20\n",
      "11/11 [==============================] - 5s 424ms/step - loss: 0.7460 - accuracy: 0.7373 - val_loss: 0.9574 - val_accuracy: 0.7115\n",
      "Epoch 3/20\n",
      "11/11 [==============================] - 5s 425ms/step - loss: 0.7890 - accuracy: 0.7303 - val_loss: 0.6407 - val_accuracy: 0.7703\n",
      "Epoch 4/20\n",
      "11/11 [==============================] - 5s 428ms/step - loss: 0.6637 - accuracy: 0.7588 - val_loss: 0.6624 - val_accuracy: 0.7668\n",
      "Epoch 5/20\n",
      "11/11 [==============================] - 4s 423ms/step - loss: 0.6424 - accuracy: 0.7558 - val_loss: 0.6970 - val_accuracy: 0.7657\n",
      "Epoch 6/20\n",
      "11/11 [==============================] - 5s 426ms/step - loss: 0.6284 - accuracy: 0.7733 - val_loss: 0.8015 - val_accuracy: 0.7493\n",
      "Epoch 7/20\n",
      "11/11 [==============================] - 5s 425ms/step - loss: 0.5909 - accuracy: 0.7978 - val_loss: 0.6744 - val_accuracy: 0.7743\n",
      "Epoch 8/20\n",
      "11/11 [==============================] - 5s 428ms/step - loss: 0.6008 - accuracy: 0.7935 - val_loss: 1.0083 - val_accuracy: 0.6986\n",
      "Epoch 9/20\n",
      "11/11 [==============================] - 5s 429ms/step - loss: 0.5628 - accuracy: 0.7919 - val_loss: 0.8660 - val_accuracy: 0.7479\n",
      "Epoch 10/20\n",
      "11/11 [==============================] - 5s 430ms/step - loss: 0.5425 - accuracy: 0.8138 - val_loss: 0.8085 - val_accuracy: 0.7529\n",
      "Epoch 11/20\n",
      "11/11 [==============================] - 5s 433ms/step - loss: 0.5266 - accuracy: 0.8062 - val_loss: 0.8134 - val_accuracy: 0.7468\n",
      "Epoch 12/20\n",
      "11/11 [==============================] - 5s 435ms/step - loss: 0.4904 - accuracy: 0.8141 - val_loss: 0.8588 - val_accuracy: 0.7511\n",
      "Epoch 13/20\n",
      "11/11 [==============================] - 5s 436ms/step - loss: 0.4517 - accuracy: 0.8397 - val_loss: 0.8175 - val_accuracy: 0.7575\n",
      "Epoch 14/20\n",
      "11/11 [==============================] - 5s 434ms/step - loss: 0.4548 - accuracy: 0.8275 - val_loss: 0.7460 - val_accuracy: 0.7771\n",
      "Epoch 15/20\n",
      "11/11 [==============================] - 5s 427ms/step - loss: 0.4202 - accuracy: 0.8511 - val_loss: 0.9028 - val_accuracy: 0.7514\n",
      "Epoch 16/20\n",
      "11/11 [==============================] - 5s 430ms/step - loss: 0.4555 - accuracy: 0.8344 - val_loss: 0.9665 - val_accuracy: 0.6990\n",
      "Epoch 17/20\n",
      "11/11 [==============================] - 5s 429ms/step - loss: 0.3751 - accuracy: 0.8670 - val_loss: 0.8282 - val_accuracy: 0.7675\n",
      "Epoch 18/20\n",
      "11/11 [==============================] - 5s 430ms/step - loss: 0.3496 - accuracy: 0.8767 - val_loss: 0.8170 - val_accuracy: 0.7785\n",
      "Epoch 19/20\n",
      "11/11 [==============================] - 5s 430ms/step - loss: 0.3609 - accuracy: 0.8689 - val_loss: 0.9303 - val_accuracy: 0.7482\n",
      "Epoch 20/20\n",
      "11/11 [==============================] - 5s 433ms/step - loss: 0.3822 - accuracy: 0.8548 - val_loss: 0.9944 - val_accuracy: 0.7468\n",
      "Duration: 0:01:33.352888\n"
     ]
    }
   ],
   "source": [
    "n=1\n",
    "print(n)\n",
    "\n",
    "models_nc[n].fit_model(image_sets_nc[n],label_sets_nc[n],x_val,y_val,epochs=20,batch_size = 128)\n",
    "n = n+1"
   ]
  },
  {
   "cell_type": "code",
   "execution_count": 70,
   "id": "01a70471",
   "metadata": {},
   "outputs": [
    {
     "name": "stdout",
     "output_type": "stream",
     "text": [
      "2\n",
      "Epoch 1/20\n",
      "17/17 [==============================] - 8s 382ms/step - loss: 0.9874 - accuracy: 0.6564 - val_loss: 1.0628 - val_accuracy: 0.6298\n",
      "Epoch 2/20\n",
      "17/17 [==============================] - 6s 357ms/step - loss: 0.8326 - accuracy: 0.7149 - val_loss: 0.9070 - val_accuracy: 0.6887\n",
      "Epoch 3/20\n",
      "17/17 [==============================] - 6s 357ms/step - loss: 0.7121 - accuracy: 0.7479 - val_loss: 0.7244 - val_accuracy: 0.7596\n",
      "Epoch 4/20\n",
      "17/17 [==============================] - 6s 363ms/step - loss: 0.7380 - accuracy: 0.7522 - val_loss: 0.8415 - val_accuracy: 0.7051\n",
      "Epoch 5/20\n",
      "17/17 [==============================] - 6s 363ms/step - loss: 0.7053 - accuracy: 0.7411 - val_loss: 0.7267 - val_accuracy: 0.7693\n",
      "Epoch 6/20\n",
      "17/17 [==============================] - 6s 368ms/step - loss: 0.6252 - accuracy: 0.7671 - val_loss: 0.6720 - val_accuracy: 0.7792\n",
      "Epoch 7/20\n",
      "17/17 [==============================] - 6s 360ms/step - loss: 0.5394 - accuracy: 0.8065 - val_loss: 0.6830 - val_accuracy: 0.7632\n",
      "Epoch 8/20\n",
      "17/17 [==============================] - 6s 360ms/step - loss: 0.5278 - accuracy: 0.7963 - val_loss: 0.6957 - val_accuracy: 0.7732\n",
      "Epoch 9/20\n",
      "17/17 [==============================] - 6s 359ms/step - loss: 0.5933 - accuracy: 0.7984 - val_loss: 0.8562 - val_accuracy: 0.7539\n",
      "Epoch 10/20\n",
      "17/17 [==============================] - 6s 359ms/step - loss: 0.5288 - accuracy: 0.8186 - val_loss: 0.7168 - val_accuracy: 0.7618\n",
      "Epoch 11/20\n",
      "17/17 [==============================] - 6s 380ms/step - loss: 0.5274 - accuracy: 0.8017 - val_loss: 0.6911 - val_accuracy: 0.7703\n",
      "Epoch 12/20\n",
      "17/17 [==============================] - 6s 377ms/step - loss: 0.5218 - accuracy: 0.8099 - val_loss: 0.9649 - val_accuracy: 0.7147\n",
      "Epoch 13/20\n",
      "17/17 [==============================] - 6s 366ms/step - loss: 0.5756 - accuracy: 0.7766 - val_loss: 0.7967 - val_accuracy: 0.7650\n",
      "Epoch 14/20\n",
      "17/17 [==============================] - 6s 361ms/step - loss: 0.4253 - accuracy: 0.8385 - val_loss: 0.8442 - val_accuracy: 0.7447\n",
      "Epoch 15/20\n",
      "17/17 [==============================] - 6s 360ms/step - loss: 0.4763 - accuracy: 0.8279 - val_loss: 0.7163 - val_accuracy: 0.7814\n",
      "Epoch 16/20\n",
      "17/17 [==============================] - 6s 360ms/step - loss: 0.4022 - accuracy: 0.8537 - val_loss: 0.8627 - val_accuracy: 0.7514\n",
      "Epoch 17/20\n",
      "17/17 [==============================] - 6s 360ms/step - loss: 0.4740 - accuracy: 0.8330 - val_loss: 0.8853 - val_accuracy: 0.7204\n",
      "Epoch 18/20\n",
      "17/17 [==============================] - 6s 362ms/step - loss: 0.4587 - accuracy: 0.8279 - val_loss: 0.8689 - val_accuracy: 0.7778\n",
      "Epoch 19/20\n",
      "17/17 [==============================] - 6s 361ms/step - loss: 0.4285 - accuracy: 0.8423 - val_loss: 1.1165 - val_accuracy: 0.7450\n",
      "Epoch 20/20\n",
      "17/17 [==============================] - 6s 359ms/step - loss: 0.4245 - accuracy: 0.8570 - val_loss: 1.1453 - val_accuracy: 0.7190\n",
      "Duration: 0:02:03.414520\n"
     ]
    }
   ],
   "source": [
    "print(n)\n",
    "\n",
    "models_nc[n].fit_model(image_sets_nc[n],label_sets_nc[n],x_val,y_val,epochs=20,batch_size = 128)\n",
    "n = n+1"
   ]
  },
  {
   "cell_type": "code",
   "execution_count": 71,
   "id": "4d91d8b6",
   "metadata": {},
   "outputs": [
    {
     "name": "stdout",
     "output_type": "stream",
     "text": [
      "3\n",
      "Epoch 1/20\n",
      "22/22 [==============================] - 9s 359ms/step - loss: 0.9905 - accuracy: 0.6645 - val_loss: 0.5942 - val_accuracy: 0.7917\n",
      "Epoch 2/20\n",
      "22/22 [==============================] - 7s 339ms/step - loss: 0.7359 - accuracy: 0.7496 - val_loss: 0.6275 - val_accuracy: 0.7842\n",
      "Epoch 3/20\n",
      "22/22 [==============================] - 7s 340ms/step - loss: 0.6394 - accuracy: 0.7627 - val_loss: 0.6526 - val_accuracy: 0.7778\n",
      "Epoch 4/20\n",
      "22/22 [==============================] - 8s 349ms/step - loss: 0.6522 - accuracy: 0.7674 - val_loss: 0.6431 - val_accuracy: 0.7750\n",
      "Epoch 5/20\n",
      "22/22 [==============================] - 7s 344ms/step - loss: 0.6051 - accuracy: 0.7799 - val_loss: 0.7205 - val_accuracy: 0.7607\n",
      "Epoch 6/20\n",
      "22/22 [==============================] - 8s 345ms/step - loss: 0.5834 - accuracy: 0.7818 - val_loss: 0.8318 - val_accuracy: 0.7215\n",
      "Epoch 7/20\n",
      "22/22 [==============================] - 7s 342ms/step - loss: 0.5997 - accuracy: 0.7764 - val_loss: 0.6581 - val_accuracy: 0.7668\n",
      "Epoch 8/20\n",
      "22/22 [==============================] - 7s 344ms/step - loss: 0.5906 - accuracy: 0.7886 - val_loss: 0.6494 - val_accuracy: 0.7803\n",
      "Epoch 9/20\n",
      "22/22 [==============================] - 7s 341ms/step - loss: 0.5364 - accuracy: 0.8035 - val_loss: 0.7541 - val_accuracy: 0.7357\n",
      "Epoch 10/20\n",
      "22/22 [==============================] - 7s 343ms/step - loss: 0.5402 - accuracy: 0.8077 - val_loss: 1.1234 - val_accuracy: 0.6434\n",
      "Epoch 11/20\n",
      "22/22 [==============================] - 8s 346ms/step - loss: 0.7027 - accuracy: 0.7520 - val_loss: 0.9367 - val_accuracy: 0.7272\n",
      "Epoch 12/20\n",
      "22/22 [==============================] - 7s 343ms/step - loss: 0.4991 - accuracy: 0.8243 - val_loss: 0.7177 - val_accuracy: 0.7735\n",
      "Epoch 13/20\n",
      "22/22 [==============================] - 7s 344ms/step - loss: 0.4733 - accuracy: 0.8227 - val_loss: 0.9378 - val_accuracy: 0.7211\n",
      "Epoch 14/20\n",
      "22/22 [==============================] - 8s 346ms/step - loss: 0.4755 - accuracy: 0.8252 - val_loss: 0.7187 - val_accuracy: 0.7832\n",
      "Epoch 15/20\n",
      "22/22 [==============================] - 7s 344ms/step - loss: 0.4713 - accuracy: 0.8377 - val_loss: 0.7750 - val_accuracy: 0.7682\n",
      "Epoch 16/20\n",
      "22/22 [==============================] - 7s 344ms/step - loss: 0.4217 - accuracy: 0.8510 - val_loss: 0.8884 - val_accuracy: 0.7297\n",
      "Epoch 17/20\n",
      "22/22 [==============================] - 7s 343ms/step - loss: 0.4386 - accuracy: 0.8331 - val_loss: 0.7781 - val_accuracy: 0.7750\n",
      "Epoch 18/20\n",
      "22/22 [==============================] - 8s 345ms/step - loss: 0.3769 - accuracy: 0.8542 - val_loss: 0.8606 - val_accuracy: 0.7728\n",
      "Epoch 19/20\n",
      "22/22 [==============================] - 8s 344ms/step - loss: 0.3944 - accuracy: 0.8687 - val_loss: 0.8162 - val_accuracy: 0.7418\n",
      "Epoch 20/20\n",
      "22/22 [==============================] - 8s 349ms/step - loss: 0.3662 - accuracy: 0.8616 - val_loss: 0.7797 - val_accuracy: 0.7636\n",
      "Duration: 0:02:31.751599\n"
     ]
    }
   ],
   "source": [
    "print(n)\n",
    "\n",
    "models_nc[n].fit_model(image_sets_nc[n],label_sets_nc[n],x_val,y_val,epochs=20,batch_size = 128)\n",
    "n = n+1"
   ]
  },
  {
   "cell_type": "code",
   "execution_count": 72,
   "id": "a498b007",
   "metadata": {},
   "outputs": [
    {
     "name": "stdout",
     "output_type": "stream",
     "text": [
      "4\n",
      "Epoch 1/20\n",
      "28/28 [==============================] - 11s 335ms/step - loss: 1.0233 - accuracy: 0.6629 - val_loss: 0.6750 - val_accuracy: 0.7700\n",
      "Epoch 2/20\n",
      "28/28 [==============================] - 9s 319ms/step - loss: 0.7411 - accuracy: 0.7348 - val_loss: 0.7149 - val_accuracy: 0.7710\n",
      "Epoch 3/20\n",
      "28/28 [==============================] - 9s 321ms/step - loss: 0.6960 - accuracy: 0.7490 - val_loss: 0.7056 - val_accuracy: 0.7728\n",
      "Epoch 4/20\n",
      "28/28 [==============================] - 9s 321ms/step - loss: 0.6702 - accuracy: 0.7662 - val_loss: 0.9546 - val_accuracy: 0.6819\n",
      "Epoch 5/20\n",
      "28/28 [==============================] - 9s 322ms/step - loss: 0.7089 - accuracy: 0.7460 - val_loss: 0.6958 - val_accuracy: 0.7639\n",
      "Epoch 6/20\n",
      "28/28 [==============================] - 9s 321ms/step - loss: 0.6241 - accuracy: 0.7763 - val_loss: 0.7223 - val_accuracy: 0.7600\n",
      "Epoch 7/20\n",
      "28/28 [==============================] - 9s 320ms/step - loss: 0.6255 - accuracy: 0.7758 - val_loss: 0.7074 - val_accuracy: 0.7718\n",
      "Epoch 8/20\n",
      "28/28 [==============================] - 9s 321ms/step - loss: 0.5433 - accuracy: 0.8018 - val_loss: 0.8692 - val_accuracy: 0.7175\n",
      "Epoch 9/20\n",
      "28/28 [==============================] - 9s 323ms/step - loss: 0.5644 - accuracy: 0.7935 - val_loss: 0.7240 - val_accuracy: 0.7746\n",
      "Epoch 10/20\n",
      "28/28 [==============================] - 9s 322ms/step - loss: 0.5296 - accuracy: 0.8019 - val_loss: 0.7986 - val_accuracy: 0.7668\n",
      "Epoch 11/20\n",
      "28/28 [==============================] - 9s 322ms/step - loss: 0.5308 - accuracy: 0.8020 - val_loss: 0.7834 - val_accuracy: 0.7625\n",
      "Epoch 12/20\n",
      "28/28 [==============================] - 9s 320ms/step - loss: 0.5218 - accuracy: 0.8009 - val_loss: 0.8154 - val_accuracy: 0.7735\n",
      "Epoch 13/20\n",
      "28/28 [==============================] - 9s 325ms/step - loss: 0.5030 - accuracy: 0.8242 - val_loss: 0.6960 - val_accuracy: 0.7796\n",
      "Epoch 14/20\n",
      "28/28 [==============================] - 9s 323ms/step - loss: 0.4447 - accuracy: 0.8367 - val_loss: 0.7128 - val_accuracy: 0.7664\n",
      "Epoch 15/20\n",
      "28/28 [==============================] - 9s 320ms/step - loss: 0.4815 - accuracy: 0.8272 - val_loss: 0.8803 - val_accuracy: 0.7568\n",
      "Epoch 16/20\n",
      "28/28 [==============================] - 9s 321ms/step - loss: 0.4752 - accuracy: 0.8275 - val_loss: 0.8112 - val_accuracy: 0.7743\n",
      "Epoch 17/20\n",
      "28/28 [==============================] - 9s 322ms/step - loss: 0.4462 - accuracy: 0.8312 - val_loss: 0.8825 - val_accuracy: 0.7486\n",
      "Epoch 18/20\n",
      "28/28 [==============================] - 9s 319ms/step - loss: 0.4261 - accuracy: 0.8380 - val_loss: 0.8815 - val_accuracy: 0.7521\n",
      "Epoch 19/20\n",
      "28/28 [==============================] - 9s 321ms/step - loss: 0.4433 - accuracy: 0.8347 - val_loss: 0.9838 - val_accuracy: 0.7447\n",
      "Epoch 20/20\n",
      "28/28 [==============================] - 9s 334ms/step - loss: 0.3937 - accuracy: 0.8588 - val_loss: 0.8487 - val_accuracy: 0.7625\n",
      "Duration: 0:03:01.148893\n"
     ]
    }
   ],
   "source": [
    "print(n)#4\n",
    "\n",
    "models_nc[n].fit_model(image_sets_nc[n],label_sets_nc[n],x_val,y_val,epochs=20,batch_size = 128)\n",
    "n = n+1"
   ]
  },
  {
   "cell_type": "code",
   "execution_count": 73,
   "id": "aa682122",
   "metadata": {},
   "outputs": [
    {
     "name": "stdout",
     "output_type": "stream",
     "text": [
      "5\n",
      "Epoch 1/20\n",
      "33/33 [==============================] - 12s 332ms/step - loss: 1.0076 - accuracy: 0.6437 - val_loss: 0.7114 - val_accuracy: 0.7507\n",
      "Epoch 2/20\n",
      "33/33 [==============================] - 10s 315ms/step - loss: 0.7331 - accuracy: 0.7331 - val_loss: 0.6486 - val_accuracy: 0.7700\n",
      "Epoch 3/20\n",
      "33/33 [==============================] - 10s 314ms/step - loss: 0.7026 - accuracy: 0.7520 - val_loss: 0.6941 - val_accuracy: 0.7564\n",
      "Epoch 4/20\n",
      "33/33 [==============================] - 10s 316ms/step - loss: 0.7044 - accuracy: 0.7383 - val_loss: 0.6545 - val_accuracy: 0.7796\n",
      "Epoch 5/20\n",
      "33/33 [==============================] - 11s 324ms/step - loss: 0.6319 - accuracy: 0.7658 - val_loss: 0.7690 - val_accuracy: 0.7393\n",
      "Epoch 6/20\n",
      "33/33 [==============================] - 10s 319ms/step - loss: 0.6154 - accuracy: 0.7724 - val_loss: 0.6158 - val_accuracy: 0.7867\n",
      "Epoch 7/20\n",
      "33/33 [==============================] - 10s 314ms/step - loss: 0.5668 - accuracy: 0.7925 - val_loss: 0.7058 - val_accuracy: 0.7486\n",
      "Epoch 8/20\n",
      "33/33 [==============================] - 10s 316ms/step - loss: 0.6922 - accuracy: 0.7662 - val_loss: 0.7131 - val_accuracy: 0.7618\n",
      "Epoch 9/20\n",
      "33/33 [==============================] - 10s 316ms/step - loss: 0.5640 - accuracy: 0.7952 - val_loss: 0.6370 - val_accuracy: 0.7899\n",
      "Epoch 10/20\n",
      "33/33 [==============================] - 10s 314ms/step - loss: 0.5262 - accuracy: 0.8012 - val_loss: 0.6488 - val_accuracy: 0.7821\n",
      "Epoch 11/20\n",
      "33/33 [==============================] - 10s 315ms/step - loss: 0.5605 - accuracy: 0.7975 - val_loss: 0.7415 - val_accuracy: 0.7885\n",
      "Epoch 12/20\n",
      "33/33 [==============================] - 10s 316ms/step - loss: 0.5367 - accuracy: 0.8026 - val_loss: 0.7867 - val_accuracy: 0.7611\n",
      "Epoch 13/20\n",
      "33/33 [==============================] - 10s 317ms/step - loss: 0.5051 - accuracy: 0.8139 - val_loss: 0.7288 - val_accuracy: 0.7782\n",
      "Epoch 14/20\n",
      "33/33 [==============================] - 10s 316ms/step - loss: 0.4759 - accuracy: 0.8292 - val_loss: 0.6978 - val_accuracy: 0.7828\n",
      "Epoch 15/20\n",
      "33/33 [==============================] - 10s 315ms/step - loss: 0.4720 - accuracy: 0.8308 - val_loss: 0.9283 - val_accuracy: 0.7058\n",
      "Epoch 16/20\n",
      "33/33 [==============================] - 10s 316ms/step - loss: 0.4686 - accuracy: 0.8263 - val_loss: 0.7202 - val_accuracy: 0.7892\n",
      "Epoch 17/20\n",
      "33/33 [==============================] - 10s 317ms/step - loss: 0.4217 - accuracy: 0.8496 - val_loss: 0.8221 - val_accuracy: 0.7653\n",
      "Epoch 18/20\n",
      "33/33 [==============================] - 10s 317ms/step - loss: 0.4861 - accuracy: 0.8203 - val_loss: 0.9748 - val_accuracy: 0.7051\n",
      "Epoch 19/20\n",
      "33/33 [==============================] - 10s 317ms/step - loss: 0.4372 - accuracy: 0.8386 - val_loss: 1.0414 - val_accuracy: 0.7275\n",
      "Epoch 20/20\n",
      "33/33 [==============================] - 10s 317ms/step - loss: 0.4234 - accuracy: 0.8493 - val_loss: 0.7397 - val_accuracy: 0.7810\n",
      "Duration: 0:03:29.906213\n"
     ]
    }
   ],
   "source": [
    "print(n)\n",
    "\n",
    "models_nc[n].fit_model(image_sets_nc[n],label_sets_nc[n],x_val,y_val,epochs=20,batch_size = 128)\n",
    "n = n+1"
   ]
  },
  {
   "cell_type": "code",
   "execution_count": 74,
   "id": "7ec61144",
   "metadata": {},
   "outputs": [
    {
     "name": "stdout",
     "output_type": "stream",
     "text": [
      "6\n",
      "Epoch 1/20\n",
      "39/39 [==============================] - 14s 313ms/step - loss: 0.9042 - accuracy: 0.6954 - val_loss: 0.6776 - val_accuracy: 0.7771\n",
      "Epoch 2/20\n",
      "39/39 [==============================] - 12s 301ms/step - loss: 0.7103 - accuracy: 0.7370 - val_loss: 0.6164 - val_accuracy: 0.7785\n",
      "Epoch 3/20\n",
      "39/39 [==============================] - 12s 303ms/step - loss: 0.7048 - accuracy: 0.7468 - val_loss: 0.6044 - val_accuracy: 0.7885\n",
      "Epoch 4/20\n",
      "39/39 [==============================] - 12s 304ms/step - loss: 0.7002 - accuracy: 0.7418 - val_loss: 0.7152 - val_accuracy: 0.7471\n",
      "Epoch 5/20\n",
      "39/39 [==============================] - 12s 303ms/step - loss: 0.6593 - accuracy: 0.7654 - val_loss: 0.7492 - val_accuracy: 0.7568\n",
      "Epoch 6/20\n",
      "39/39 [==============================] - 12s 303ms/step - loss: 0.6312 - accuracy: 0.7667 - val_loss: 0.8804 - val_accuracy: 0.6912\n",
      "Epoch 7/20\n",
      "39/39 [==============================] - 12s 303ms/step - loss: 0.6191 - accuracy: 0.7668 - val_loss: 1.0128 - val_accuracy: 0.6865\n",
      "Epoch 8/20\n",
      "39/39 [==============================] - 12s 307ms/step - loss: 0.5975 - accuracy: 0.7876 - val_loss: 0.7041 - val_accuracy: 0.7796\n",
      "Epoch 9/20\n",
      "39/39 [==============================] - 12s 305ms/step - loss: 0.5803 - accuracy: 0.7855 - val_loss: 0.6564 - val_accuracy: 0.7946\n",
      "Epoch 10/20\n",
      "39/39 [==============================] - 12s 303ms/step - loss: 0.5440 - accuracy: 0.7987 - val_loss: 0.8012 - val_accuracy: 0.7447\n",
      "Epoch 11/20\n",
      "39/39 [==============================] - 12s 304ms/step - loss: 0.6093 - accuracy: 0.7856 - val_loss: 0.6799 - val_accuracy: 0.7835\n",
      "Epoch 12/20\n",
      "39/39 [==============================] - 12s 304ms/step - loss: 0.5042 - accuracy: 0.8120 - val_loss: 0.7000 - val_accuracy: 0.7525\n",
      "Epoch 13/20\n",
      "39/39 [==============================] - 12s 305ms/step - loss: 0.5018 - accuracy: 0.8211 - val_loss: 0.7326 - val_accuracy: 0.7792\n",
      "Epoch 14/20\n",
      "39/39 [==============================] - 12s 305ms/step - loss: 0.4763 - accuracy: 0.8278 - val_loss: 0.7021 - val_accuracy: 0.7653\n",
      "Epoch 15/20\n",
      "39/39 [==============================] - 12s 305ms/step - loss: 0.4528 - accuracy: 0.8364 - val_loss: 0.8894 - val_accuracy: 0.6961\n",
      "Epoch 16/20\n",
      "39/39 [==============================] - 12s 304ms/step - loss: 0.4797 - accuracy: 0.8219 - val_loss: 0.9069 - val_accuracy: 0.7703\n",
      "Epoch 17/20\n",
      "39/39 [==============================] - 12s 303ms/step - loss: 0.4466 - accuracy: 0.8311 - val_loss: 0.7112 - val_accuracy: 0.7885\n",
      "Epoch 18/20\n",
      "39/39 [==============================] - 12s 306ms/step - loss: 0.4018 - accuracy: 0.8562 - val_loss: 0.7362 - val_accuracy: 0.7600\n",
      "Epoch 19/20\n",
      "39/39 [==============================] - 13s 334ms/step - loss: 0.4159 - accuracy: 0.8580 - val_loss: 0.8168 - val_accuracy: 0.7700\n",
      "Epoch 20/20\n",
      "39/39 [==============================] - 13s 334ms/step - loss: 0.4601 - accuracy: 0.8331 - val_loss: 1.2481 - val_accuracy: 0.6830\n",
      "Duration: 0:04:00.590220\n"
     ]
    }
   ],
   "source": [
    "print(n)\n",
    "\n",
    "models_nc[n].fit_model(image_sets_nc[n],label_sets_nc[n],x_val,y_val,epochs=20,batch_size = 128)\n",
    "n = n+1"
   ]
  },
  {
   "cell_type": "code",
   "execution_count": 75,
   "id": "e05d85c1",
   "metadata": {},
   "outputs": [
    {
     "name": "stdout",
     "output_type": "stream",
     "text": [
      "7\n",
      "Epoch 1/20\n",
      "44/44 [==============================] - 16s 323ms/step - loss: 0.9002 - accuracy: 0.6857 - val_loss: 0.7370 - val_accuracy: 0.7279\n",
      "Epoch 2/20\n",
      "44/44 [==============================] - 5120s 119s/step - loss: 0.7426 - accuracy: 0.7226 - val_loss: 0.6289 - val_accuracy: 0.7835\n",
      "Epoch 3/20\n",
      "44/44 [==============================] - 16s 356ms/step - loss: 0.6855 - accuracy: 0.7557 - val_loss: 0.6996 - val_accuracy: 0.7518\n",
      "Epoch 4/20\n",
      "44/44 [==============================] - 15s 353ms/step - loss: 0.6767 - accuracy: 0.7492 - val_loss: 0.6475 - val_accuracy: 0.7853\n",
      "Epoch 5/20\n",
      "44/44 [==============================] - 14s 313ms/step - loss: 0.6401 - accuracy: 0.7683 - val_loss: 0.7150 - val_accuracy: 0.7618\n",
      "Epoch 6/20\n",
      "44/44 [==============================] - 14s 311ms/step - loss: 0.6420 - accuracy: 0.7724 - val_loss: 0.6166 - val_accuracy: 0.7917\n",
      "Epoch 7/20\n",
      "44/44 [==============================] - 14s 330ms/step - loss: 0.6187 - accuracy: 0.7750 - val_loss: 0.7452 - val_accuracy: 0.7596\n",
      "Epoch 8/20\n",
      "44/44 [==============================] - 14s 316ms/step - loss: 0.6032 - accuracy: 0.7820 - val_loss: 0.6769 - val_accuracy: 0.7710\n",
      "Epoch 9/20\n",
      "44/44 [==============================] - 17s 388ms/step - loss: 0.5585 - accuracy: 0.7899 - val_loss: 0.7841 - val_accuracy: 0.7386\n",
      "Epoch 10/20\n",
      "44/44 [==============================] - 17s 379ms/step - loss: 0.5826 - accuracy: 0.7881 - val_loss: 0.6916 - val_accuracy: 0.7853\n",
      "Epoch 11/20\n",
      "44/44 [==============================] - 17s 385ms/step - loss: 0.5246 - accuracy: 0.8102 - val_loss: 0.6455 - val_accuracy: 0.7860\n",
      "Epoch 12/20\n",
      "44/44 [==============================] - 18s 400ms/step - loss: 0.4985 - accuracy: 0.8196 - val_loss: 0.7129 - val_accuracy: 0.7832\n",
      "Epoch 13/20\n",
      "44/44 [==============================] - 17s 388ms/step - loss: 0.4972 - accuracy: 0.8227 - val_loss: 0.7374 - val_accuracy: 0.7721\n",
      "Epoch 14/20\n",
      "44/44 [==============================] - 16s 371ms/step - loss: 0.5037 - accuracy: 0.8248 - val_loss: 0.8742 - val_accuracy: 0.7461\n",
      "Epoch 15/20\n",
      "44/44 [==============================] - 15s 339ms/step - loss: 0.5086 - accuracy: 0.8230 - val_loss: 0.8567 - val_accuracy: 0.7721\n",
      "Epoch 16/20\n",
      "44/44 [==============================] - 15s 346ms/step - loss: 0.4737 - accuracy: 0.8293 - val_loss: 0.9519 - val_accuracy: 0.7543\n",
      "Epoch 17/20\n",
      "44/44 [==============================] - 14s 312ms/step - loss: 0.4511 - accuracy: 0.8347 - val_loss: 0.7585 - val_accuracy: 0.7693\n",
      "Epoch 18/20\n",
      "44/44 [==============================] - 17s 385ms/step - loss: 0.4227 - accuracy: 0.8470 - val_loss: 0.7117 - val_accuracy: 0.7874\n",
      "Epoch 19/20\n",
      "44/44 [==============================] - 14s 314ms/step - loss: 0.4108 - accuracy: 0.8430 - val_loss: 0.9171 - val_accuracy: 0.7743\n",
      "Epoch 20/20\n",
      "44/44 [==============================] - 14s 316ms/step - loss: 0.4224 - accuracy: 0.8501 - val_loss: 0.7697 - val_accuracy: 0.7700\n",
      "Duration: 1:30:13.001859\n"
     ]
    }
   ],
   "source": [
    "print(n)\n",
    "\n",
    "models_nc[n].fit_model(image_sets_nc[n],label_sets_nc[n],x_val,y_val,epochs=20,batch_size = 128)\n",
    "n = n+1"
   ]
  },
  {
   "cell_type": "code",
   "execution_count": 76,
   "id": "93680f4f",
   "metadata": {},
   "outputs": [
    {
     "name": "stdout",
     "output_type": "stream",
     "text": [
      "8\n",
      "Epoch 1/20\n",
      "50/50 [==============================] - 17s 312ms/step - loss: 0.9197 - accuracy: 0.6747 - val_loss: 0.6257 - val_accuracy: 0.7678\n",
      "Epoch 2/20\n",
      "50/50 [==============================] - 16s 315ms/step - loss: 0.7358 - accuracy: 0.7325 - val_loss: 0.7556 - val_accuracy: 0.7536\n",
      "Epoch 3/20\n",
      "50/50 [==============================] - 15s 310ms/step - loss: 0.7071 - accuracy: 0.7431 - val_loss: 1.0012 - val_accuracy: 0.7097\n",
      "Epoch 4/20\n",
      "50/50 [==============================] - 16s 325ms/step - loss: 0.7703 - accuracy: 0.7371 - val_loss: 0.8014 - val_accuracy: 0.7193\n",
      "Epoch 5/20\n",
      "50/50 [==============================] - 15s 311ms/step - loss: 0.6754 - accuracy: 0.7563 - val_loss: 0.7185 - val_accuracy: 0.7471\n",
      "Epoch 6/20\n",
      "50/50 [==============================] - 15s 305ms/step - loss: 0.6500 - accuracy: 0.7550 - val_loss: 0.7427 - val_accuracy: 0.7511\n",
      "Epoch 7/20\n",
      "50/50 [==============================] - 15s 305ms/step - loss: 0.6377 - accuracy: 0.7698 - val_loss: 0.6642 - val_accuracy: 0.7807\n",
      "Epoch 8/20\n",
      "50/50 [==============================] - 15s 305ms/step - loss: 0.5898 - accuracy: 0.7795 - val_loss: 0.7031 - val_accuracy: 0.7668\n",
      "Epoch 9/20\n",
      "50/50 [==============================] - 15s 305ms/step - loss: 0.5817 - accuracy: 0.7872 - val_loss: 0.7465 - val_accuracy: 0.7375\n",
      "Epoch 10/20\n",
      "50/50 [==============================] - 16s 312ms/step - loss: 0.5754 - accuracy: 0.7943 - val_loss: 0.6917 - val_accuracy: 0.7675\n",
      "Epoch 11/20\n",
      "50/50 [==============================] - 16s 314ms/step - loss: 0.5413 - accuracy: 0.8036 - val_loss: 0.7134 - val_accuracy: 0.7650\n",
      "Epoch 12/20\n",
      "50/50 [==============================] - 16s 330ms/step - loss: 0.5109 - accuracy: 0.8138 - val_loss: 0.7163 - val_accuracy: 0.7707\n",
      "Epoch 13/20\n",
      "50/50 [==============================] - 19s 376ms/step - loss: 0.5266 - accuracy: 0.8085 - val_loss: 0.7585 - val_accuracy: 0.7800\n",
      "Epoch 14/20\n",
      "50/50 [==============================] - 17s 347ms/step - loss: 0.4876 - accuracy: 0.8184 - val_loss: 1.1353 - val_accuracy: 0.7222\n",
      "Epoch 15/20\n",
      "50/50 [==============================] - 16s 313ms/step - loss: 0.4992 - accuracy: 0.8119 - val_loss: 0.9427 - val_accuracy: 0.7611\n",
      "Epoch 16/20\n",
      "50/50 [==============================] - 17s 340ms/step - loss: 0.5282 - accuracy: 0.8108 - val_loss: 0.9353 - val_accuracy: 0.7186\n",
      "Epoch 17/20\n",
      "50/50 [==============================] - 17s 332ms/step - loss: 0.4999 - accuracy: 0.8259 - val_loss: 0.6802 - val_accuracy: 0.7803\n",
      "Epoch 18/20\n",
      "50/50 [==============================] - 18s 355ms/step - loss: 0.4578 - accuracy: 0.8395 - val_loss: 0.8432 - val_accuracy: 0.7636\n",
      "Epoch 19/20\n",
      "50/50 [==============================] - 19s 373ms/step - loss: 0.4552 - accuracy: 0.8391 - val_loss: 0.7463 - val_accuracy: 0.7439\n",
      "Epoch 20/20\n",
      "50/50 [==============================] - 16s 312ms/step - loss: 0.4397 - accuracy: 0.8383 - val_loss: 0.9218 - val_accuracy: 0.7183\n",
      "Duration: 0:05:25.834807\n"
     ]
    }
   ],
   "source": [
    "print(n)\n",
    "\n",
    "models_nc[n].fit_model(image_sets_nc[n],label_sets_nc[n],x_val,y_val,epochs=20,batch_size = 128)\n",
    "n = n+1"
   ]
  },
  {
   "cell_type": "code",
   "execution_count": 77,
   "id": "2b7e2e8b",
   "metadata": {},
   "outputs": [
    {
     "name": "stdout",
     "output_type": "stream",
     "text": [
      "9\n",
      "Epoch 1/20\n",
      "55/55 [==============================] - 21s 347ms/step - loss: 0.9754 - accuracy: 0.6676 - val_loss: 0.5735 - val_accuracy: 0.7956\n",
      "Epoch 2/20\n",
      "55/55 [==============================] - 20s 371ms/step - loss: 0.7849 - accuracy: 0.7096 - val_loss: 0.6698 - val_accuracy: 0.7636\n",
      "Epoch 3/20\n",
      "55/55 [==============================] - 19s 350ms/step - loss: 0.7105 - accuracy: 0.7402 - val_loss: 0.7166 - val_accuracy: 0.7618\n",
      "Epoch 4/20\n",
      "55/55 [==============================] - 19s 337ms/step - loss: 0.6968 - accuracy: 0.7455 - val_loss: 0.6185 - val_accuracy: 0.7871\n",
      "Epoch 5/20\n",
      "55/55 [==============================] - 18s 330ms/step - loss: 0.6454 - accuracy: 0.7541 - val_loss: 0.6676 - val_accuracy: 0.7746\n",
      "Epoch 6/20\n",
      "55/55 [==============================] - 18s 328ms/step - loss: 0.6610 - accuracy: 0.7571 - val_loss: 0.7348 - val_accuracy: 0.7660\n",
      "Epoch 7/20\n",
      "55/55 [==============================] - 19s 347ms/step - loss: 0.6397 - accuracy: 0.7612 - val_loss: 0.5957 - val_accuracy: 0.8006\n",
      "Epoch 8/20\n",
      "55/55 [==============================] - 18s 332ms/step - loss: 0.6164 - accuracy: 0.7745 - val_loss: 0.6446 - val_accuracy: 0.7874\n",
      "Epoch 9/20\n",
      "55/55 [==============================] - 18s 324ms/step - loss: 0.5725 - accuracy: 0.7804 - val_loss: 0.8787 - val_accuracy: 0.7208\n",
      "Epoch 10/20\n",
      "55/55 [==============================] - 18s 322ms/step - loss: 0.5525 - accuracy: 0.7930 - val_loss: 0.6970 - val_accuracy: 0.7846\n",
      "Epoch 11/20\n",
      "55/55 [==============================] - 20s 363ms/step - loss: 0.5860 - accuracy: 0.7852 - val_loss: 0.6936 - val_accuracy: 0.7832\n",
      "Epoch 12/20\n",
      "55/55 [==============================] - 19s 337ms/step - loss: 0.5479 - accuracy: 0.8019 - val_loss: 0.7029 - val_accuracy: 0.7878\n",
      "Epoch 13/20\n",
      "55/55 [==============================] - 19s 340ms/step - loss: 0.5300 - accuracy: 0.8028 - val_loss: 0.6920 - val_accuracy: 0.7757\n",
      "Epoch 14/20\n",
      "55/55 [==============================] - 17s 309ms/step - loss: 0.5004 - accuracy: 0.8176 - val_loss: 0.7095 - val_accuracy: 0.7707\n",
      "Epoch 15/20\n",
      "55/55 [==============================] - 18s 322ms/step - loss: 0.4807 - accuracy: 0.8247 - val_loss: 0.7817 - val_accuracy: 0.7600\n",
      "Epoch 16/20\n",
      "55/55 [==============================] - 17s 310ms/step - loss: 0.4806 - accuracy: 0.8231 - val_loss: 0.7263 - val_accuracy: 0.7700\n",
      "Epoch 17/20\n",
      "55/55 [==============================] - 17s 312ms/step - loss: 0.4565 - accuracy: 0.8395 - val_loss: 0.7678 - val_accuracy: 0.7817\n",
      "Epoch 18/20\n",
      "55/55 [==============================] - 17s 314ms/step - loss: 0.4864 - accuracy: 0.8255 - val_loss: 0.8624 - val_accuracy: 0.7689\n",
      "Epoch 19/20\n",
      "55/55 [==============================] - 17s 310ms/step - loss: 0.4570 - accuracy: 0.8359 - val_loss: 0.7889 - val_accuracy: 0.7871\n",
      "Epoch 20/20\n",
      "55/55 [==============================] - 18s 326ms/step - loss: 0.4345 - accuracy: 0.8410 - val_loss: 0.7966 - val_accuracy: 0.7850\n",
      "Duration: 0:06:05.802695\n"
     ]
    }
   ],
   "source": [
    "print(n)#9\n",
    "\n",
    "models_nc[n].fit_model(image_sets_nc[n],label_sets_nc[n],x_val,y_val,epochs=20,batch_size = 128)\n",
    "n = n+1"
   ]
  },
  {
   "cell_type": "code",
   "execution_count": 78,
   "id": "97b1ffaa",
   "metadata": {},
   "outputs": [
    {
     "name": "stdout",
     "output_type": "stream",
     "text": [
      "10\n",
      "Epoch 1/20\n",
      "61/61 [==============================] - 22s 325ms/step - loss: 0.9880 - accuracy: 0.6588 - val_loss: 0.8487 - val_accuracy: 0.6673\n",
      "Epoch 2/20\n",
      "61/61 [==============================] - 19s 314ms/step - loss: 0.7937 - accuracy: 0.6956 - val_loss: 0.6868 - val_accuracy: 0.7603\n",
      "Epoch 3/20\n",
      "61/61 [==============================] - 19s 309ms/step - loss: 0.7298 - accuracy: 0.7254 - val_loss: 0.6146 - val_accuracy: 0.7728\n",
      "Epoch 4/20\n",
      "61/61 [==============================] - 19s 313ms/step - loss: 0.6865 - accuracy: 0.7453 - val_loss: 0.7555 - val_accuracy: 0.7411\n",
      "Epoch 5/20\n",
      "61/61 [==============================] - 19s 313ms/step - loss: 0.6703 - accuracy: 0.7520 - val_loss: 1.0765 - val_accuracy: 0.6740\n",
      "Epoch 6/20\n",
      "61/61 [==============================] - 19s 304ms/step - loss: 0.7311 - accuracy: 0.7424 - val_loss: 0.6852 - val_accuracy: 0.7614\n",
      "Epoch 7/20\n",
      "61/61 [==============================] - 18s 301ms/step - loss: 0.6248 - accuracy: 0.7641 - val_loss: 1.0415 - val_accuracy: 0.6648\n",
      "Epoch 8/20\n",
      "61/61 [==============================] - 18s 301ms/step - loss: 0.6482 - accuracy: 0.7641 - val_loss: 0.6234 - val_accuracy: 0.7882\n",
      "Epoch 9/20\n",
      "61/61 [==============================] - 19s 314ms/step - loss: 0.6039 - accuracy: 0.7738 - val_loss: 0.9409 - val_accuracy: 0.7561\n",
      "Epoch 10/20\n",
      "61/61 [==============================] - 19s 305ms/step - loss: 0.6074 - accuracy: 0.7722 - val_loss: 0.6868 - val_accuracy: 0.7703\n",
      "Epoch 11/20\n",
      "61/61 [==============================] - 20s 326ms/step - loss: 0.5665 - accuracy: 0.7912 - val_loss: 0.8233 - val_accuracy: 0.7675\n",
      "Epoch 12/20\n",
      "61/61 [==============================] - 19s 317ms/step - loss: 0.5688 - accuracy: 0.7860 - val_loss: 0.8214 - val_accuracy: 0.7553\n",
      "Epoch 13/20\n",
      "61/61 [==============================] - 19s 305ms/step - loss: 0.5443 - accuracy: 0.7962 - val_loss: 0.7688 - val_accuracy: 0.7725\n",
      "Epoch 14/20\n",
      "61/61 [==============================] - 19s 319ms/step - loss: 0.5309 - accuracy: 0.8074 - val_loss: 0.6919 - val_accuracy: 0.7896\n",
      "Epoch 15/20\n",
      "61/61 [==============================] - 18s 301ms/step - loss: 0.5019 - accuracy: 0.8137 - val_loss: 0.7262 - val_accuracy: 0.7832\n",
      "Epoch 16/20\n",
      "61/61 [==============================] - 18s 301ms/step - loss: 0.4592 - accuracy: 0.8320 - val_loss: 1.0055 - val_accuracy: 0.7304\n",
      "Epoch 17/20\n",
      "61/61 [==============================] - 19s 308ms/step - loss: 0.5269 - accuracy: 0.8212 - val_loss: 0.8181 - val_accuracy: 0.7386\n",
      "Epoch 18/20\n",
      "61/61 [==============================] - 19s 305ms/step - loss: 0.4679 - accuracy: 0.8237 - val_loss: 0.8004 - val_accuracy: 0.7682\n",
      "Epoch 19/20\n",
      "61/61 [==============================] - 19s 306ms/step - loss: 0.4539 - accuracy: 0.8330 - val_loss: 0.7543 - val_accuracy: 0.7632\n",
      "Epoch 20/20\n",
      "61/61 [==============================] - 21s 338ms/step - loss: 0.4566 - accuracy: 0.8281 - val_loss: 0.8863 - val_accuracy: 0.7782\n",
      "Duration: 0:06:21.124306\n"
     ]
    }
   ],
   "source": [
    "print(n)\n",
    "\n",
    "models_nc[n].fit_model(image_sets_nc[n],label_sets_nc[n],x_val,y_val,epochs=20,batch_size = 128)\n",
    "n = n+1"
   ]
  },
  {
   "cell_type": "code",
   "execution_count": 79,
   "id": "0ff4a719",
   "metadata": {},
   "outputs": [
    {
     "name": "stdout",
     "output_type": "stream",
     "text": [
      "11\n",
      "Epoch 1/20\n",
      "66/66 [==============================] - 26s 356ms/step - loss: 0.8878 - accuracy: 0.6736 - val_loss: 0.7346 - val_accuracy: 0.7482\n",
      "Epoch 2/20\n",
      "66/66 [==============================] - 22s 336ms/step - loss: 0.7644 - accuracy: 0.7174 - val_loss: 0.6456 - val_accuracy: 0.7817\n",
      "Epoch 3/20\n",
      "66/66 [==============================] - 22s 332ms/step - loss: 0.7159 - accuracy: 0.7337 - val_loss: 0.6096 - val_accuracy: 0.7885\n",
      "Epoch 4/20\n",
      "66/66 [==============================] - 21s 313ms/step - loss: 0.7062 - accuracy: 0.7359 - val_loss: 0.6286 - val_accuracy: 0.7835\n",
      "Epoch 5/20\n",
      "66/66 [==============================] - 20s 308ms/step - loss: 0.6621 - accuracy: 0.7530 - val_loss: 0.8252 - val_accuracy: 0.7279\n",
      "Epoch 6/20\n",
      "66/66 [==============================] - 21s 319ms/step - loss: 0.6782 - accuracy: 0.7568 - val_loss: 0.6438 - val_accuracy: 0.7817\n",
      "Epoch 7/20\n",
      "66/66 [==============================] - 22s 326ms/step - loss: 0.6212 - accuracy: 0.7663 - val_loss: 0.9280 - val_accuracy: 0.7218\n",
      "Epoch 8/20\n",
      "66/66 [==============================] - 21s 319ms/step - loss: 0.6154 - accuracy: 0.7738 - val_loss: 0.6831 - val_accuracy: 0.7850\n",
      "Epoch 9/20\n",
      "66/66 [==============================] - 22s 328ms/step - loss: 0.5995 - accuracy: 0.7775 - val_loss: 0.7335 - val_accuracy: 0.7628\n",
      "Epoch 10/20\n",
      "66/66 [==============================] - 22s 331ms/step - loss: 0.5722 - accuracy: 0.7863 - val_loss: 0.7133 - val_accuracy: 0.7714\n",
      "Epoch 11/20\n",
      "66/66 [==============================] - 22s 333ms/step - loss: 0.5428 - accuracy: 0.7974 - val_loss: 0.7517 - val_accuracy: 0.7450\n",
      "Epoch 12/20\n",
      "66/66 [==============================] - 21s 312ms/step - loss: 0.5296 - accuracy: 0.8017 - val_loss: 0.7957 - val_accuracy: 0.7639\n",
      "Epoch 13/20\n",
      "66/66 [==============================] - 21s 326ms/step - loss: 0.5421 - accuracy: 0.8025 - val_loss: 0.6812 - val_accuracy: 0.7871\n",
      "Epoch 14/20\n",
      "66/66 [==============================] - 22s 331ms/step - loss: 0.5256 - accuracy: 0.8051 - val_loss: 0.7506 - val_accuracy: 0.7735\n",
      "Epoch 15/20\n",
      "66/66 [==============================] - 22s 327ms/step - loss: 0.5172 - accuracy: 0.7982 - val_loss: 0.8808 - val_accuracy: 0.7368\n",
      "Epoch 16/20\n",
      "66/66 [==============================] - 21s 320ms/step - loss: 0.5140 - accuracy: 0.8137 - val_loss: 0.7975 - val_accuracy: 0.7596\n",
      "Epoch 17/20\n",
      "66/66 [==============================] - 21s 325ms/step - loss: 0.4669 - accuracy: 0.8301 - val_loss: 0.7681 - val_accuracy: 0.7728\n",
      "Epoch 18/20\n",
      "66/66 [==============================] - 22s 335ms/step - loss: 0.4785 - accuracy: 0.8241 - val_loss: 0.7486 - val_accuracy: 0.7614\n",
      "Epoch 19/20\n",
      "66/66 [==============================] - 22s 336ms/step - loss: 0.4621 - accuracy: 0.8355 - val_loss: 0.7771 - val_accuracy: 0.7707\n",
      "Epoch 20/20\n",
      "66/66 [==============================] - 21s 321ms/step - loss: 0.4480 - accuracy: 0.8359 - val_loss: 0.7162 - val_accuracy: 0.7817\n",
      "Duration: 0:07:13.530899\n"
     ]
    }
   ],
   "source": [
    "print(n)\n",
    "\n",
    "models_nc[n].fit_model(image_sets_nc[n],label_sets_nc[n],x_val,y_val,epochs=20,batch_size = 128)\n",
    "n = n+1"
   ]
  },
  {
   "cell_type": "code",
   "execution_count": 80,
   "id": "26c8d3a1",
   "metadata": {},
   "outputs": [
    {
     "name": "stdout",
     "output_type": "stream",
     "text": [
      "12\n",
      "Epoch 1/20\n",
      "72/72 [==============================] - 27s 341ms/step - loss: 0.9053 - accuracy: 0.6713 - val_loss: 0.8258 - val_accuracy: 0.6908\n",
      "Epoch 2/20\n",
      "72/72 [==============================] - 25s 344ms/step - loss: 0.7928 - accuracy: 0.7051 - val_loss: 1.1022 - val_accuracy: 0.6259\n",
      "Epoch 3/20\n",
      "72/72 [==============================] - 22s 312ms/step - loss: 0.7678 - accuracy: 0.7143 - val_loss: 0.7916 - val_accuracy: 0.7218\n",
      "Epoch 4/20\n",
      "72/72 [==============================] - 23s 315ms/step - loss: 0.7286 - accuracy: 0.7311 - val_loss: 0.7726 - val_accuracy: 0.7389\n",
      "Epoch 5/20\n",
      "72/72 [==============================] - 24s 338ms/step - loss: 0.6901 - accuracy: 0.7392 - val_loss: 0.7844 - val_accuracy: 0.7628\n",
      "Epoch 6/20\n",
      "72/72 [==============================] - 22s 304ms/step - loss: 0.6656 - accuracy: 0.7499 - val_loss: 0.7866 - val_accuracy: 0.7511\n",
      "Epoch 7/20\n",
      "72/72 [==============================] - 22s 302ms/step - loss: 0.6463 - accuracy: 0.7592 - val_loss: 0.7559 - val_accuracy: 0.7625\n",
      "Epoch 8/20\n",
      "72/72 [==============================] - 22s 303ms/step - loss: 0.6502 - accuracy: 0.7624 - val_loss: 0.6964 - val_accuracy: 0.7664\n",
      "Epoch 9/20\n",
      "72/72 [==============================] - 22s 303ms/step - loss: 0.6261 - accuracy: 0.7714 - val_loss: 0.7785 - val_accuracy: 0.7450\n",
      "Epoch 10/20\n",
      "72/72 [==============================] - 22s 302ms/step - loss: 0.6020 - accuracy: 0.7770 - val_loss: 0.6736 - val_accuracy: 0.7828\n",
      "Epoch 11/20\n",
      "72/72 [==============================] - 22s 302ms/step - loss: 0.5833 - accuracy: 0.7795 - val_loss: 0.7668 - val_accuracy: 0.7350\n",
      "Epoch 12/20\n",
      "72/72 [==============================] - 22s 306ms/step - loss: 0.5559 - accuracy: 0.7919 - val_loss: 0.6892 - val_accuracy: 0.7960\n",
      "Epoch 13/20\n",
      "72/72 [==============================] - 22s 313ms/step - loss: 0.5343 - accuracy: 0.8023 - val_loss: 0.8827 - val_accuracy: 0.7372\n",
      "Epoch 14/20\n",
      "72/72 [==============================] - 24s 333ms/step - loss: 0.5667 - accuracy: 0.7910 - val_loss: 0.9472 - val_accuracy: 0.6894\n",
      "Epoch 15/20\n",
      "72/72 [==============================] - 24s 337ms/step - loss: 0.5550 - accuracy: 0.7931 - val_loss: 0.7279 - val_accuracy: 0.7696\n",
      "Epoch 16/20\n",
      "72/72 [==============================] - 22s 308ms/step - loss: 0.5316 - accuracy: 0.7988 - val_loss: 0.8619 - val_accuracy: 0.7129\n",
      "Epoch 17/20\n",
      "72/72 [==============================] - 22s 307ms/step - loss: 0.5343 - accuracy: 0.8046 - val_loss: 0.7651 - val_accuracy: 0.7721\n",
      "Epoch 18/20\n",
      "72/72 [==============================] - 22s 304ms/step - loss: 0.5069 - accuracy: 0.8158 - val_loss: 1.1289 - val_accuracy: 0.7168\n",
      "Epoch 19/20\n",
      "72/72 [==============================] - 22s 302ms/step - loss: 0.4718 - accuracy: 0.8306 - val_loss: 0.8796 - val_accuracy: 0.7083\n",
      "Epoch 20/20\n",
      "72/72 [==============================] - 22s 307ms/step - loss: 0.4835 - accuracy: 0.8232 - val_loss: 0.8053 - val_accuracy: 0.7375\n",
      "Duration: 0:07:34.369681\n"
     ]
    }
   ],
   "source": [
    "print(n)\n",
    "\n",
    "models_nc[n].fit_model(image_sets_nc[n],label_sets_nc[n],x_val,y_val,epochs=20,batch_size = 128)\n",
    "n = n+1"
   ]
  },
  {
   "cell_type": "code",
   "execution_count": 81,
   "id": "c4c6ec11",
   "metadata": {},
   "outputs": [
    {
     "name": "stdout",
     "output_type": "stream",
     "text": [
      "13\n",
      "Epoch 1/20\n",
      "77/77 [==============================] - 26s 311ms/step - loss: 0.9006 - accuracy: 0.6747 - val_loss: 0.6444 - val_accuracy: 0.7807\n",
      "Epoch 2/20\n",
      "77/77 [==============================] - 23s 303ms/step - loss: 0.7671 - accuracy: 0.7196 - val_loss: 0.7991 - val_accuracy: 0.6972\n",
      "Epoch 3/20\n",
      "77/77 [==============================] - 23s 302ms/step - loss: 0.7320 - accuracy: 0.7321 - val_loss: 0.5837 - val_accuracy: 0.7996\n",
      "Epoch 4/20\n",
      "77/77 [==============================] - 23s 302ms/step - loss: 0.6824 - accuracy: 0.7358 - val_loss: 0.9115 - val_accuracy: 0.6937\n",
      "Epoch 5/20\n",
      "77/77 [==============================] - 23s 303ms/step - loss: 0.6776 - accuracy: 0.7431 - val_loss: 0.6454 - val_accuracy: 0.7767\n",
      "Epoch 6/20\n",
      "77/77 [==============================] - 23s 302ms/step - loss: 0.6691 - accuracy: 0.7525 - val_loss: 1.0005 - val_accuracy: 0.6705\n",
      "Epoch 7/20\n",
      "77/77 [==============================] - 25s 319ms/step - loss: 0.6239 - accuracy: 0.7682 - val_loss: 0.6233 - val_accuracy: 0.7889\n",
      "Epoch 8/20\n",
      "77/77 [==============================] - 24s 307ms/step - loss: 0.6190 - accuracy: 0.7700 - val_loss: 0.6211 - val_accuracy: 0.7907\n",
      "Epoch 9/20\n",
      "77/77 [==============================] - 23s 304ms/step - loss: 0.5864 - accuracy: 0.7830 - val_loss: 0.7127 - val_accuracy: 0.7553\n",
      "Epoch 10/20\n",
      "77/77 [==============================] - 23s 303ms/step - loss: 0.5827 - accuracy: 0.7751 - val_loss: 0.6727 - val_accuracy: 0.7714\n",
      "Epoch 11/20\n",
      "77/77 [==============================] - 23s 304ms/step - loss: 0.5702 - accuracy: 0.7883 - val_loss: 0.6689 - val_accuracy: 0.7718\n",
      "Epoch 12/20\n",
      "77/77 [==============================] - 23s 305ms/step - loss: 0.5573 - accuracy: 0.7882 - val_loss: 0.7513 - val_accuracy: 0.7364\n",
      "Epoch 13/20\n",
      "77/77 [==============================] - 23s 304ms/step - loss: 0.5414 - accuracy: 0.7928 - val_loss: 0.6263 - val_accuracy: 0.7939\n",
      "Epoch 14/20\n",
      "77/77 [==============================] - 23s 303ms/step - loss: 0.5361 - accuracy: 0.7991 - val_loss: 0.6489 - val_accuracy: 0.7857\n",
      "Epoch 15/20\n",
      "77/77 [==============================] - 23s 303ms/step - loss: 0.5123 - accuracy: 0.8090 - val_loss: 0.7006 - val_accuracy: 0.7835\n",
      "Epoch 16/20\n",
      "77/77 [==============================] - 23s 302ms/step - loss: 0.4912 - accuracy: 0.8181 - val_loss: 0.6379 - val_accuracy: 0.7981\n",
      "Epoch 17/20\n",
      "77/77 [==============================] - 23s 304ms/step - loss: 0.4734 - accuracy: 0.8219 - val_loss: 0.7092 - val_accuracy: 0.7685\n",
      "Epoch 18/20\n",
      "77/77 [==============================] - 23s 303ms/step - loss: 0.4881 - accuracy: 0.8207 - val_loss: 0.7114 - val_accuracy: 0.7660\n",
      "Epoch 19/20\n",
      "77/77 [==============================] - 23s 303ms/step - loss: 0.4515 - accuracy: 0.8320 - val_loss: 0.6752 - val_accuracy: 0.7785\n",
      "Epoch 20/20\n",
      "77/77 [==============================] - 24s 309ms/step - loss: 0.4185 - accuracy: 0.8474 - val_loss: 0.7552 - val_accuracy: 0.7504\n",
      "Duration: 0:07:50.755710\n"
     ]
    }
   ],
   "source": [
    "print(n)\n",
    "\n",
    "models_nc[n].fit_model(image_sets_nc[n],label_sets_nc[n],x_val,y_val,epochs=20,batch_size = 128)\n",
    "n = n+1"
   ]
  },
  {
   "cell_type": "code",
   "execution_count": 82,
   "id": "20e6504c",
   "metadata": {},
   "outputs": [
    {
     "name": "stdout",
     "output_type": "stream",
     "text": [
      "14\n",
      "Epoch 1/20\n",
      "83/83 [==============================] - 27s 303ms/step - loss: 0.8818 - accuracy: 0.6831 - val_loss: 0.7968 - val_accuracy: 0.6997\n",
      "Epoch 2/20\n",
      "83/83 [==============================] - 25s 299ms/step - loss: 0.7660 - accuracy: 0.7161 - val_loss: 0.8203 - val_accuracy: 0.7236\n",
      "Epoch 3/20\n",
      "83/83 [==============================] - 25s 299ms/step - loss: 0.7508 - accuracy: 0.7227 - val_loss: 0.6854 - val_accuracy: 0.7660\n",
      "Epoch 4/20\n",
      "83/83 [==============================] - 25s 299ms/step - loss: 0.7048 - accuracy: 0.7380 - val_loss: 0.9760 - val_accuracy: 0.6498\n",
      "Epoch 5/20\n",
      "83/83 [==============================] - 25s 303ms/step - loss: 0.6890 - accuracy: 0.7453 - val_loss: 0.7398 - val_accuracy: 0.7454\n",
      "Epoch 6/20\n",
      "83/83 [==============================] - 25s 301ms/step - loss: 0.6604 - accuracy: 0.7514 - val_loss: 0.7243 - val_accuracy: 0.7832\n",
      "Epoch 7/20\n",
      "83/83 [==============================] - 25s 301ms/step - loss: 0.6683 - accuracy: 0.7547 - val_loss: 1.3760 - val_accuracy: 0.5631\n",
      "Epoch 8/20\n",
      "83/83 [==============================] - 25s 298ms/step - loss: 0.6955 - accuracy: 0.7501 - val_loss: 1.1584 - val_accuracy: 0.6155\n",
      "Epoch 9/20\n",
      "83/83 [==============================] - 25s 299ms/step - loss: 0.6839 - accuracy: 0.7525 - val_loss: 1.0667 - val_accuracy: 0.6287\n",
      "Epoch 10/20\n",
      "83/83 [==============================] - 25s 300ms/step - loss: 0.6173 - accuracy: 0.7697 - val_loss: 0.9503 - val_accuracy: 0.6683\n",
      "Epoch 11/20\n",
      "83/83 [==============================] - 25s 298ms/step - loss: 0.5820 - accuracy: 0.7805 - val_loss: 0.7903 - val_accuracy: 0.7529\n",
      "Epoch 12/20\n",
      "83/83 [==============================] - 25s 303ms/step - loss: 0.5879 - accuracy: 0.7845 - val_loss: 0.6203 - val_accuracy: 0.8010\n",
      "Epoch 13/20\n",
      "83/83 [==============================] - 25s 300ms/step - loss: 0.5593 - accuracy: 0.7935 - val_loss: 0.7111 - val_accuracy: 0.7389\n",
      "Epoch 14/20\n",
      "83/83 [==============================] - 25s 298ms/step - loss: 0.5399 - accuracy: 0.8013 - val_loss: 0.6700 - val_accuracy: 0.7732\n",
      "Epoch 15/20\n",
      "83/83 [==============================] - 25s 305ms/step - loss: 0.5281 - accuracy: 0.8036 - val_loss: 0.7644 - val_accuracy: 0.7197\n",
      "Epoch 16/20\n",
      "83/83 [==============================] - 26s 316ms/step - loss: 0.5129 - accuracy: 0.8129 - val_loss: 0.7488 - val_accuracy: 0.7379\n",
      "Epoch 17/20\n",
      "83/83 [==============================] - 25s 299ms/step - loss: 0.5185 - accuracy: 0.8138 - val_loss: 0.6317 - val_accuracy: 0.7942\n",
      "Epoch 18/20\n",
      "83/83 [==============================] - 25s 303ms/step - loss: 0.4954 - accuracy: 0.8161 - val_loss: 0.8336 - val_accuracy: 0.7450\n",
      "Epoch 19/20\n",
      "83/83 [==============================] - 26s 310ms/step - loss: 0.4692 - accuracy: 0.8248 - val_loss: 1.0662 - val_accuracy: 0.6430\n",
      "Epoch 20/20\n",
      "83/83 [==============================] - 27s 324ms/step - loss: 0.4750 - accuracy: 0.8267 - val_loss: 0.7093 - val_accuracy: 0.7967\n",
      "Duration: 0:08:24.320607\n"
     ]
    }
   ],
   "source": [
    "print(n)#14\n",
    "\n",
    "models_nc[n].fit_model(image_sets_nc[n],label_sets_nc[n],x_val,y_val,epochs=20,batch_size = 128)\n",
    "n = n+1"
   ]
  },
  {
   "cell_type": "code",
   "execution_count": 85,
   "id": "4f4faa38",
   "metadata": {},
   "outputs": [
    {
     "name": "stdout",
     "output_type": "stream",
     "text": [
      "15\n",
      "Epoch 1/20\n",
      "88/88 [==============================] - 33s 354ms/step - loss: 0.9361 - accuracy: 0.6765 - val_loss: 0.6157 - val_accuracy: 0.7760\n",
      "Epoch 2/20\n",
      "88/88 [==============================] - 29s 329ms/step - loss: 0.7561 - accuracy: 0.7174 - val_loss: 0.7046 - val_accuracy: 0.7511\n",
      "Epoch 3/20\n",
      "88/88 [==============================] - 29s 331ms/step - loss: 0.7541 - accuracy: 0.7204 - val_loss: 0.6416 - val_accuracy: 0.7685\n",
      "Epoch 4/20\n",
      "88/88 [==============================] - 30s 336ms/step - loss: 0.6982 - accuracy: 0.7406 - val_loss: 0.5963 - val_accuracy: 0.7864\n",
      "Epoch 5/20\n",
      "88/88 [==============================] - 29s 331ms/step - loss: 0.6808 - accuracy: 0.7405 - val_loss: 0.5996 - val_accuracy: 0.8006\n",
      "Epoch 6/20\n",
      "88/88 [==============================] - 28s 322ms/step - loss: 0.6608 - accuracy: 0.7502 - val_loss: 0.6859 - val_accuracy: 0.7660\n",
      "Epoch 7/20\n",
      "88/88 [==============================] - 30s 336ms/step - loss: 0.6243 - accuracy: 0.7658 - val_loss: 0.5623 - val_accuracy: 0.8010\n",
      "Epoch 8/20\n",
      "88/88 [==============================] - 30s 337ms/step - loss: 0.6325 - accuracy: 0.7628 - val_loss: 0.6536 - val_accuracy: 0.7696\n",
      "Epoch 9/20\n",
      "88/88 [==============================] - 28s 324ms/step - loss: 0.6139 - accuracy: 0.7739 - val_loss: 0.6075 - val_accuracy: 0.7935\n",
      "Epoch 10/20\n",
      "88/88 [==============================] - 31s 350ms/step - loss: 0.5833 - accuracy: 0.7822 - val_loss: 0.5856 - val_accuracy: 0.7960\n",
      "Epoch 11/20\n",
      "88/88 [==============================] - 29s 334ms/step - loss: 0.5509 - accuracy: 0.7961 - val_loss: 0.6019 - val_accuracy: 0.8003\n",
      "Epoch 12/20\n",
      "88/88 [==============================] - 29s 329ms/step - loss: 0.5656 - accuracy: 0.7944 - val_loss: 0.8565 - val_accuracy: 0.6901\n",
      "Epoch 13/20\n",
      "88/88 [==============================] - 29s 335ms/step - loss: 0.5830 - accuracy: 0.7886 - val_loss: 0.6579 - val_accuracy: 0.7789\n",
      "Epoch 14/20\n",
      "88/88 [==============================] - 30s 339ms/step - loss: 0.5105 - accuracy: 0.8095 - val_loss: 0.7098 - val_accuracy: 0.7643\n",
      "Epoch 15/20\n",
      "88/88 [==============================] - 29s 328ms/step - loss: 0.5132 - accuracy: 0.8066 - val_loss: 0.6066 - val_accuracy: 0.7942\n",
      "Epoch 16/20\n",
      "88/88 [==============================] - 32s 363ms/step - loss: 0.4814 - accuracy: 0.8205 - val_loss: 0.6201 - val_accuracy: 0.7942\n",
      "Epoch 17/20\n",
      "88/88 [==============================] - 30s 336ms/step - loss: 0.4772 - accuracy: 0.8210 - val_loss: 0.6149 - val_accuracy: 0.7956\n",
      "Epoch 18/20\n",
      "88/88 [==============================] - 29s 332ms/step - loss: 0.4719 - accuracy: 0.8273 - val_loss: 0.7119 - val_accuracy: 0.7628\n",
      "Epoch 19/20\n",
      "88/88 [==============================] - 29s 326ms/step - loss: 0.4652 - accuracy: 0.8288 - val_loss: 0.6452 - val_accuracy: 0.7825\n",
      "Epoch 20/20\n",
      "88/88 [==============================] - 29s 328ms/step - loss: 0.4536 - accuracy: 0.8316 - val_loss: 0.6915 - val_accuracy: 0.8039\n",
      "Duration: 0:09:50.655437\n"
     ]
    }
   ],
   "source": [
    "print(n)\n",
    "\n",
    "models_nc[n].fit_model(image_sets_nc[n],label_sets_nc[n],x_val,y_val,epochs=20,batch_size = 128)\n",
    "n = n+1"
   ]
  },
  {
   "cell_type": "code",
   "execution_count": 86,
   "id": "354b9d6e",
   "metadata": {},
   "outputs": [
    {
     "name": "stdout",
     "output_type": "stream",
     "text": [
      "16\n",
      "Epoch 1/20\n",
      "93/93 [==============================] - 33s 335ms/step - loss: 0.8748 - accuracy: 0.6891 - val_loss: 0.6865 - val_accuracy: 0.7899\n",
      "Epoch 2/20\n",
      "93/93 [==============================] - 31s 335ms/step - loss: 0.7378 - accuracy: 0.7282 - val_loss: 0.5928 - val_accuracy: 0.7917\n",
      "Epoch 3/20\n",
      "93/93 [==============================] - 29s 310ms/step - loss: 0.7099 - accuracy: 0.7342 - val_loss: 0.5822 - val_accuracy: 0.8049\n",
      "Epoch 4/20\n",
      "93/93 [==============================] - 30s 320ms/step - loss: 0.6988 - accuracy: 0.7371 - val_loss: 0.6082 - val_accuracy: 0.7867\n",
      "Epoch 5/20\n",
      "93/93 [==============================] - 31s 330ms/step - loss: 0.6626 - accuracy: 0.7532 - val_loss: 0.5697 - val_accuracy: 0.7928\n",
      "Epoch 6/20\n",
      "93/93 [==============================] - 32s 340ms/step - loss: 0.6319 - accuracy: 0.7645 - val_loss: 0.6369 - val_accuracy: 0.7825\n",
      "Epoch 7/20\n",
      "93/93 [==============================] - 31s 335ms/step - loss: 0.6292 - accuracy: 0.7653 - val_loss: 0.5772 - val_accuracy: 0.7949\n",
      "Epoch 8/20\n",
      "93/93 [==============================] - 30s 327ms/step - loss: 0.6112 - accuracy: 0.7742 - val_loss: 0.6204 - val_accuracy: 0.7821\n",
      "Epoch 9/20\n",
      "93/93 [==============================] - 30s 325ms/step - loss: 0.5860 - accuracy: 0.7784 - val_loss: 0.5842 - val_accuracy: 0.7946\n",
      "Epoch 10/20\n",
      "93/93 [==============================] - 32s 338ms/step - loss: 0.5790 - accuracy: 0.7814 - val_loss: 0.5721 - val_accuracy: 0.7992\n",
      "Epoch 11/20\n",
      "93/93 [==============================] - 31s 338ms/step - loss: 0.5490 - accuracy: 0.7982 - val_loss: 0.5553 - val_accuracy: 0.7978\n",
      "Epoch 12/20\n",
      "93/93 [==============================] - 32s 345ms/step - loss: 0.5517 - accuracy: 0.7967 - val_loss: 0.5626 - val_accuracy: 0.8060\n",
      "Epoch 13/20\n",
      "93/93 [==============================] - 30s 328ms/step - loss: 0.5496 - accuracy: 0.7915 - val_loss: 0.6467 - val_accuracy: 0.7632\n",
      "Epoch 14/20\n",
      "93/93 [==============================] - 31s 338ms/step - loss: 0.5263 - accuracy: 0.7999 - val_loss: 0.6754 - val_accuracy: 0.7582\n",
      "Epoch 15/20\n",
      "93/93 [==============================] - 35s 379ms/step - loss: 0.5007 - accuracy: 0.8116 - val_loss: 0.5647 - val_accuracy: 0.8021\n",
      "Epoch 16/20\n",
      "93/93 [==============================] - 32s 341ms/step - loss: 0.4906 - accuracy: 0.8190 - val_loss: 0.6313 - val_accuracy: 0.7685\n",
      "Epoch 17/20\n",
      "93/93 [==============================] - 31s 330ms/step - loss: 0.4786 - accuracy: 0.8209 - val_loss: 0.6436 - val_accuracy: 0.7867\n",
      "Epoch 18/20\n",
      "93/93 [==============================] - 31s 331ms/step - loss: 0.4720 - accuracy: 0.8274 - val_loss: 0.5937 - val_accuracy: 0.8071\n",
      "Epoch 19/20\n",
      "93/93 [==============================] - 30s 321ms/step - loss: 0.4487 - accuracy: 0.8316 - val_loss: 0.6092 - val_accuracy: 0.7946\n",
      "Epoch 20/20\n",
      "93/93 [==============================] - 30s 325ms/step - loss: 0.4390 - accuracy: 0.8377 - val_loss: 0.6178 - val_accuracy: 0.8031\n",
      "Duration: 0:10:21.933504\n"
     ]
    }
   ],
   "source": [
    "print(n)\n",
    "\n",
    "models_nc[n].fit_model(image_sets_nc[n],label_sets_nc[n],x_val,y_val,epochs=20,batch_size = 128)\n",
    "n = n+1"
   ]
  },
  {
   "cell_type": "code",
   "execution_count": 87,
   "id": "d1027e8b",
   "metadata": {},
   "outputs": [
    {
     "name": "stdout",
     "output_type": "stream",
     "text": [
      "17\n",
      "Epoch 1/20\n",
      "99/99 [==============================] - 36s 338ms/step - loss: 0.9040 - accuracy: 0.6817 - val_loss: 0.6053 - val_accuracy: 0.7871\n",
      "Epoch 2/20\n",
      "99/99 [==============================] - 33s 332ms/step - loss: 0.7538 - accuracy: 0.7266 - val_loss: 0.6326 - val_accuracy: 0.7668\n",
      "Epoch 3/20\n",
      "99/99 [==============================] - 32s 323ms/step - loss: 0.7327 - accuracy: 0.7283 - val_loss: 0.6089 - val_accuracy: 0.7903\n",
      "Epoch 4/20\n",
      "99/99 [==============================] - 32s 326ms/step - loss: 0.6935 - accuracy: 0.7477 - val_loss: 0.7835 - val_accuracy: 0.7200\n",
      "Epoch 5/20\n",
      "99/99 [==============================] - 32s 323ms/step - loss: 0.6986 - accuracy: 0.7413 - val_loss: 0.7709 - val_accuracy: 0.7650\n",
      "Epoch 6/20\n",
      "99/99 [==============================] - 32s 326ms/step - loss: 0.6578 - accuracy: 0.7573 - val_loss: 0.6213 - val_accuracy: 0.7803\n",
      "Epoch 7/20\n",
      "99/99 [==============================] - 31s 315ms/step - loss: 0.6281 - accuracy: 0.7663 - val_loss: 0.5922 - val_accuracy: 0.7967\n",
      "Epoch 8/20\n",
      "99/99 [==============================] - 32s 324ms/step - loss: 0.6340 - accuracy: 0.7607 - val_loss: 0.6096 - val_accuracy: 0.7924\n",
      "Epoch 9/20\n",
      "99/99 [==============================] - 33s 329ms/step - loss: 0.6290 - accuracy: 0.7665 - val_loss: 0.6373 - val_accuracy: 0.7707\n",
      "Epoch 10/20\n",
      "99/99 [==============================] - 32s 322ms/step - loss: 0.5740 - accuracy: 0.7876 - val_loss: 0.5580 - val_accuracy: 0.8056\n",
      "Epoch 11/20\n",
      "99/99 [==============================] - 32s 325ms/step - loss: 0.5651 - accuracy: 0.7864 - val_loss: 0.5485 - val_accuracy: 0.8067\n",
      "Epoch 12/20\n",
      "99/99 [==============================] - 33s 332ms/step - loss: 0.5354 - accuracy: 0.7990 - val_loss: 0.5904 - val_accuracy: 0.7971\n",
      "Epoch 13/20\n",
      "99/99 [==============================] - 34s 342ms/step - loss: 0.5250 - accuracy: 0.8023 - val_loss: 0.5815 - val_accuracy: 0.7949\n",
      "Epoch 14/20\n",
      "99/99 [==============================] - 32s 324ms/step - loss: 0.5397 - accuracy: 0.8021 - val_loss: 0.6593 - val_accuracy: 0.7653\n",
      "Epoch 15/20\n",
      "99/99 [==============================] - 32s 325ms/step - loss: 0.5115 - accuracy: 0.8079 - val_loss: 0.6640 - val_accuracy: 0.7860\n",
      "Epoch 16/20\n",
      "99/99 [==============================] - 32s 323ms/step - loss: 0.5033 - accuracy: 0.8160 - val_loss: 0.6453 - val_accuracy: 0.7853\n",
      "Epoch 17/20\n",
      "99/99 [==============================] - 32s 322ms/step - loss: 0.4686 - accuracy: 0.8279 - val_loss: 0.5877 - val_accuracy: 0.8031\n",
      "Epoch 18/20\n",
      "99/99 [==============================] - 32s 321ms/step - loss: 0.4561 - accuracy: 0.8293 - val_loss: 0.6229 - val_accuracy: 0.7999\n",
      "Epoch 19/20\n",
      "99/99 [==============================] - 32s 323ms/step - loss: 0.4657 - accuracy: 0.8292 - val_loss: 0.6023 - val_accuracy: 0.7985\n",
      "Epoch 20/20\n",
      "99/99 [==============================] - 33s 331ms/step - loss: 0.4407 - accuracy: 0.8407 - val_loss: 0.6564 - val_accuracy: 0.7800\n",
      "Duration: 0:10:47.680401\n"
     ]
    }
   ],
   "source": [
    "print(n)\n",
    "\n",
    "models_nc[n].fit_model(image_sets_nc[n],label_sets_nc[n],x_val,y_val,epochs=20,batch_size = 128)\n",
    "n = n+1"
   ]
  },
  {
   "cell_type": "code",
   "execution_count": 88,
   "id": "e1f83bf3",
   "metadata": {},
   "outputs": [
    {
     "name": "stdout",
     "output_type": "stream",
     "text": [
      "18\n",
      "Epoch 1/20\n",
      "104/104 [==============================] - 37s 335ms/step - loss: 0.9316 - accuracy: 0.6613 - val_loss: 0.5931 - val_accuracy: 0.7914\n",
      "Epoch 2/20\n",
      "104/104 [==============================] - 34s 328ms/step - loss: 0.7570 - accuracy: 0.7177 - val_loss: 0.7490 - val_accuracy: 0.7158\n",
      "Epoch 3/20\n",
      "104/104 [==============================] - 32s 309ms/step - loss: 0.7062 - accuracy: 0.7405 - val_loss: 0.7483 - val_accuracy: 0.7511\n",
      "Epoch 4/20\n",
      "104/104 [==============================] - 33s 321ms/step - loss: 0.7167 - accuracy: 0.7302 - val_loss: 0.5809 - val_accuracy: 0.7914\n",
      "Epoch 5/20\n",
      "104/104 [==============================] - 31s 303ms/step - loss: 0.6815 - accuracy: 0.7435 - val_loss: 0.6486 - val_accuracy: 0.7664\n",
      "Epoch 6/20\n",
      "104/104 [==============================] - 31s 300ms/step - loss: 0.6424 - accuracy: 0.7581 - val_loss: 0.7047 - val_accuracy: 0.7432\n",
      "Epoch 7/20\n",
      "104/104 [==============================] - 31s 302ms/step - loss: 0.6437 - accuracy: 0.7556 - val_loss: 0.5616 - val_accuracy: 0.8024\n",
      "Epoch 8/20\n",
      "104/104 [==============================] - 34s 331ms/step - loss: 0.6234 - accuracy: 0.7678 - val_loss: 0.5434 - val_accuracy: 0.8103\n",
      "Epoch 9/20\n",
      "104/104 [==============================] - 34s 327ms/step - loss: 0.5993 - accuracy: 0.7760 - val_loss: 0.5861 - val_accuracy: 0.7896\n",
      "Epoch 10/20\n",
      "104/104 [==============================] - 32s 312ms/step - loss: 0.5844 - accuracy: 0.7836 - val_loss: 0.6920 - val_accuracy: 0.7475\n",
      "Epoch 11/20\n",
      "104/104 [==============================] - 32s 308ms/step - loss: 0.5698 - accuracy: 0.7785 - val_loss: 0.6352 - val_accuracy: 0.7899\n",
      "Epoch 12/20\n",
      "104/104 [==============================] - 34s 325ms/step - loss: 0.5484 - accuracy: 0.7897 - val_loss: 0.6225 - val_accuracy: 0.7785\n",
      "Epoch 13/20\n",
      "104/104 [==============================] - 34s 329ms/step - loss: 0.5426 - accuracy: 0.7960 - val_loss: 0.5542 - val_accuracy: 0.8106\n",
      "Epoch 14/20\n",
      "104/104 [==============================] - 34s 322ms/step - loss: 0.5086 - accuracy: 0.8105 - val_loss: 0.6020 - val_accuracy: 0.7878\n",
      "Epoch 15/20\n",
      "104/104 [==============================] - 35s 334ms/step - loss: 0.5080 - accuracy: 0.8130 - val_loss: 0.5571 - val_accuracy: 0.8035\n",
      "Epoch 16/20\n",
      "104/104 [==============================] - 33s 318ms/step - loss: 0.4858 - accuracy: 0.8176 - val_loss: 0.7793 - val_accuracy: 0.7329\n",
      "Epoch 17/20\n",
      "104/104 [==============================] - 34s 329ms/step - loss: 0.4862 - accuracy: 0.8200 - val_loss: 0.5849 - val_accuracy: 0.7985\n",
      "Epoch 18/20\n",
      "104/104 [==============================] - 35s 333ms/step - loss: 0.4666 - accuracy: 0.8290 - val_loss: 0.5695 - val_accuracy: 0.8035\n",
      "Epoch 19/20\n",
      "104/104 [==============================] - 32s 304ms/step - loss: 0.4406 - accuracy: 0.8340 - val_loss: 0.5887 - val_accuracy: 0.8039\n",
      "Epoch 20/20\n",
      "104/104 [==============================] - 34s 323ms/step - loss: 0.4540 - accuracy: 0.8359 - val_loss: 0.5946 - val_accuracy: 0.8035\n",
      "Duration: 0:11:06.981311\n"
     ]
    }
   ],
   "source": [
    "print(n)\n",
    "\n",
    "models_nc[n].fit_model(image_sets_nc[n],label_sets_nc[n],x_val,y_val,epochs=20,batch_size = 128)\n",
    "n = n+1"
   ]
  },
  {
   "cell_type": "code",
   "execution_count": 89,
   "id": "cde646a5",
   "metadata": {},
   "outputs": [
    {
     "name": "stdout",
     "output_type": "stream",
     "text": [
      "19\n",
      "Epoch 1/20\n",
      "112/112 [==============================] - 38s 325ms/step - loss: 0.8897 - accuracy: 0.6740 - val_loss: 0.8277 - val_accuracy: 0.7179\n",
      "Epoch 2/20\n",
      "112/112 [==============================] - 37s 328ms/step - loss: 0.7749 - accuracy: 0.7114 - val_loss: 0.7148 - val_accuracy: 0.7589\n",
      "Epoch 3/20\n",
      "112/112 [==============================] - 36s 325ms/step - loss: 0.7272 - accuracy: 0.7278 - val_loss: 0.8833 - val_accuracy: 0.6548\n",
      "Epoch 4/20\n",
      "112/112 [==============================] - 37s 330ms/step - loss: 0.7178 - accuracy: 0.7306 - val_loss: 0.7772 - val_accuracy: 0.7439\n",
      "Epoch 5/20\n",
      "112/112 [==============================] - 37s 327ms/step - loss: 0.6683 - accuracy: 0.7487 - val_loss: 0.7488 - val_accuracy: 0.7108\n",
      "Epoch 6/20\n",
      "112/112 [==============================] - 37s 330ms/step - loss: 0.6591 - accuracy: 0.7521 - val_loss: 0.7600 - val_accuracy: 0.7372\n",
      "Epoch 7/20\n",
      "112/112 [==============================] - 37s 331ms/step - loss: 0.6410 - accuracy: 0.7610 - val_loss: 0.6140 - val_accuracy: 0.7935\n",
      "Epoch 8/20\n",
      "112/112 [==============================] - 36s 324ms/step - loss: 0.6216 - accuracy: 0.7673 - val_loss: 0.6759 - val_accuracy: 0.7714\n",
      "Epoch 9/20\n",
      "112/112 [==============================] - 36s 321ms/step - loss: 0.6156 - accuracy: 0.7693 - val_loss: 0.7038 - val_accuracy: 0.7507\n",
      "Epoch 10/20\n",
      "112/112 [==============================] - 37s 328ms/step - loss: 0.5583 - accuracy: 0.7890 - val_loss: 0.6179 - val_accuracy: 0.7825\n",
      "Epoch 11/20\n",
      "112/112 [==============================] - 37s 329ms/step - loss: 0.5548 - accuracy: 0.7918 - val_loss: 0.8918 - val_accuracy: 0.6969\n",
      "Epoch 12/20\n",
      "112/112 [==============================] - 36s 323ms/step - loss: 0.5671 - accuracy: 0.7910 - val_loss: 0.7114 - val_accuracy: 0.7675\n",
      "Epoch 13/20\n",
      "112/112 [==============================] - 37s 327ms/step - loss: 0.5384 - accuracy: 0.8000 - val_loss: 0.6374 - val_accuracy: 0.7828\n",
      "Epoch 14/20\n",
      "112/112 [==============================] - 35s 316ms/step - loss: 0.5184 - accuracy: 0.8097 - val_loss: 0.6308 - val_accuracy: 0.7757\n",
      "Epoch 15/20\n",
      "112/112 [==============================] - 38s 342ms/step - loss: 0.5203 - accuracy: 0.8065 - val_loss: 0.6664 - val_accuracy: 0.7721\n",
      "Epoch 16/20\n",
      "112/112 [==============================] - 38s 336ms/step - loss: 0.4998 - accuracy: 0.8123 - val_loss: 0.7446 - val_accuracy: 0.7368\n",
      "Epoch 17/20\n",
      "112/112 [==============================] - 35s 308ms/step - loss: 0.4964 - accuracy: 0.8202 - val_loss: 0.6398 - val_accuracy: 0.7899\n",
      "Epoch 18/20\n",
      "112/112 [==============================] - 36s 318ms/step - loss: 0.4563 - accuracy: 0.8361 - val_loss: 0.7487 - val_accuracy: 0.7364\n",
      "Epoch 19/20\n",
      "112/112 [==============================] - 38s 340ms/step - loss: 0.4697 - accuracy: 0.8237 - val_loss: 0.6118 - val_accuracy: 0.7946\n",
      "Epoch 20/20\n",
      "112/112 [==============================] - 37s 333ms/step - loss: 0.4544 - accuracy: 0.8331 - val_loss: 0.6699 - val_accuracy: 0.7582\n",
      "Duration: 0:12:14.403769\n"
     ]
    }
   ],
   "source": [
    "print(n)#19\n",
    "\n",
    "models_nc[n].fit_model(image_sets_nc[n],label_sets_nc[n],x_val,y_val,epochs=20,batch_size = 128)\n",
    "n = n+1"
   ]
  },
  {
   "cell_type": "code",
   "execution_count": 26,
   "id": "6d006f0a",
   "metadata": {},
   "outputs": [
    {
     "name": "stdout",
     "output_type": "stream",
     "text": [
      "D:/models/intel_models/C2/intel_model_c2_sep_nc_e2_0\n",
      "Model loaded correctly\n",
      "D:/models/intel_models/C2/intel_model_c2_sep_nc_e2_1\n",
      "Model loaded correctly\n",
      "D:/models/intel_models/C2/intel_model_c2_sep_nc_e2_2\n",
      "Model loaded correctly\n",
      "D:/models/intel_models/C2/intel_model_c2_sep_nc_e2_3\n",
      "Model loaded correctly\n",
      "D:/models/intel_models/C2/intel_model_c2_sep_nc_e2_4\n",
      "Model loaded correctly\n",
      "D:/models/intel_models/C2/intel_model_c2_sep_nc_e2_5\n",
      "Model loaded correctly\n",
      "D:/models/intel_models/C2/intel_model_c2_sep_nc_e2_6\n",
      "Model loaded correctly\n",
      "D:/models/intel_models/C2/intel_model_c2_sep_nc_e2_7\n",
      "Model loaded correctly\n",
      "D:/models/intel_models/C2/intel_model_c2_sep_nc_e2_8\n",
      "Model loaded correctly\n",
      "D:/models/intel_models/C2/intel_model_c2_sep_nc_e2_9\n",
      "Model loaded correctly\n",
      "D:/models/intel_models/C2/intel_model_c2_sep_nc_e2_10\n",
      "Model loaded correctly\n",
      "D:/models/intel_models/C2/intel_model_c2_sep_nc_e2_11\n",
      "Model loaded correctly\n",
      "D:/models/intel_models/C2/intel_model_c2_sep_nc_e2_12\n",
      "Model loaded correctly\n",
      "D:/models/intel_models/C2/intel_model_c2_sep_nc_e2_13\n",
      "Model loaded correctly\n",
      "D:/models/intel_models/C2/intel_model_c2_sep_nc_e2_14\n",
      "Model loaded correctly\n",
      "D:/models/intel_models/C2/intel_model_c2_sep_nc_e2_15\n",
      "Model loaded correctly\n",
      "D:/models/intel_models/C2/intel_model_c2_sep_nc_e2_16\n",
      "Model loaded correctly\n",
      "D:/models/intel_models/C2/intel_model_c2_sep_nc_e2_17\n",
      "Model loaded correctly\n",
      "D:/models/intel_models/C2/intel_model_c2_sep_nc_e2_18\n",
      "Model loaded correctly\n",
      "D:/models/intel_models/C2/intel_model_c2_sep_nc_e2_19\n",
      "Model loaded correctly\n"
     ]
    }
   ],
   "source": [
    "loading = True\n",
    "\n",
    "models_nc = []\n",
    "\n",
    "if loading:\n",
    "    for i in range(20):\n",
    "        model_nc_dir = \"D:/models/intel_models/C2/intel_model_c2_sep_nc_e2_\"+str(i)\n",
    "        print(model_nc_dir)\n",
    "        model =utils.My_model('intel',True,model_nc_dir)\n",
    "        model.model.compile(loss= 'categorical_crossentropy', optimizer = 'rmsprop', metrics = ['accuracy',tf.keras.metrics.Precision(), tf.keras.metrics.Recall()])\n",
    "        models_nc.append(model)\n",
    "       \n",
    "    "
   ]
  },
  {
   "cell_type": "markdown",
   "id": "2b428980",
   "metadata": {},
   "source": [
    "## Evaluating"
   ]
  },
  {
   "cell_type": "code",
   "execution_count": 27,
   "id": "8701627a",
   "metadata": {},
   "outputs": [],
   "source": [
    "model_lsa_5000.model.compile(loss= 'categorical_crossentropy', optimizer = 'rmsprop', metrics = ['accuracy',tf.keras.metrics.Precision(), tf.keras.metrics.Recall()])\n",
    "model_dsa_5000.model.compile(loss= 'categorical_crossentropy', optimizer = 'rmsprop', metrics = ['accuracy',tf.keras.metrics.Precision(), tf.keras.metrics.Recall()])\n",
    "model_random_5000.model.compile(loss= 'categorical_crossentropy', optimizer = 'rmsprop', metrics = ['accuracy',tf.keras.metrics.Precision(), tf.keras.metrics.Recall()])\n",
    "model_nc_5000.model.compile(loss= 'categorical_crossentropy', optimizer = 'rmsprop', metrics = ['accuracy',tf.keras.metrics.Precision(), tf.keras.metrics.Recall()])"
   ]
  },
  {
   "cell_type": "code",
   "execution_count": 27,
   "id": "e6300f23",
   "metadata": {},
   "outputs": [],
   "source": [
    "model_original.model.compile(loss= 'categorical_crossentropy', optimizer = 'rmsprop', metrics = ['accuracy',tf.keras.metrics.Precision(), tf.keras.metrics.Recall()])"
   ]
  },
  {
   "cell_type": "code",
   "execution_count": 28,
   "id": "ef10e194",
   "metadata": {},
   "outputs": [
    {
     "name": "stdout",
     "output_type": "stream",
     "text": [
      "94/94 [==============================] - 3s 23ms/step - loss: 1.1961 - accuracy: 0.5823 - precision: 0.6831 - recall: 0.3655\n",
      "94/94 [==============================] - 3s 23ms/step - loss: 1.1526 - accuracy: 0.6261 - precision_1: 0.7158 - recall_1: 0.5604\n",
      "94/94 [==============================] - 3s 24ms/step - loss: 1.5592 - accuracy: 0.4125 - precision_2: 0.4003 - recall_2: 0.2362\n",
      "94/94 [==============================] - 3s 23ms/step - loss: 2.1211 - accuracy: 0.4166 - precision_3: 0.3631 - recall_3: 0.2446\n"
     ]
    }
   ],
   "source": [
    "evaluate_lsa_5k_0 = []\n",
    "evaluate_dsa_5k_0 = []\n",
    "evaluate_nc_5k_0 = []\n",
    "evaluate_random_5k_0 = []\n",
    "\n",
    "evaluate_lsa_5k_0.append(model_lsa_5000.evaluate(x_adversary_test_fgsm,y_adversary_test_fgsm))\n",
    "evaluate_dsa_5k_0.append(model_dsa_5000.evaluate(x_adversary_test_fgsm,y_adversary_test_fgsm))\n",
    "evaluate_random_5k_0.append(model_random_5000.evaluate(x_adversary_test_fgsm,y_adversary_test_fgsm))\n",
    "evaluate_nc_5k_0.append(model_nc_5000.evaluate(x_adversary_test_fgsm,y_adversary_test_fgsm))"
   ]
  },
  {
   "cell_type": "code",
   "execution_count": 28,
   "id": "fd074ff2",
   "metadata": {},
   "outputs": [
    {
     "name": "stdout",
     "output_type": "stream",
     "text": [
      "94/94 [==============================] - 9s 34ms/step - loss: 3.1689 - accuracy: 0.1456 - precision_140: 0.1084 - recall_140: 0.0858\n",
      "94/94 [==============================] - 3s 34ms/step - loss: 3.1384 - accuracy: 0.1497 - precision_140: 0.1314 - recall_140: 0.1048\n",
      "94/94 [==============================] - 3s 32ms/step - loss: 3.1384 - accuracy: 0.1497 - precision_140: 0.1312 - recall_140: 0.1048\n",
      "94/94 [==============================] - 3s 32ms/step - loss: 3.1384 - accuracy: 0.1497 - precision_140: 0.1311 - recall_140: 0.1048\n",
      "94/94 [==============================] - 4s 29ms/step - loss: 1.6743 - accuracy: 0.5013 - precision: 0.4590 - recall: 0.3547\n",
      "94/94 [==============================] - 4s 29ms/step - loss: 1.4151 - accuracy: 0.5177 - precision_1: 0.4891 - recall_1: 0.3837\n",
      "94/94 [==============================] - 4s 29ms/step - loss: 1.6931 - accuracy: 0.4457 - precision_2: 0.3649 - recall_2: 0.2791\n",
      "94/94 [==============================] - 4s 29ms/step - loss: 1.4600 - accuracy: 0.5361 - precision_3: 0.5075 - recall_3: 0.4196\n",
      "94/94 [==============================] - 4s 28ms/step - loss: 1.3591 - accuracy: 0.5651 - precision_4: 0.5298 - recall_4: 0.4251\n",
      "94/94 [==============================] - 4s 28ms/step - loss: 0.9693 - accuracy: 0.6619 - precision_5: 0.7101 - recall_5: 0.5601\n",
      "94/94 [==============================] - 4s 28ms/step - loss: 1.0831 - accuracy: 0.6287 - precision_6: 0.6898 - recall_6: 0.5801\n",
      "94/94 [==============================] - 4s 29ms/step - loss: 1.2635 - accuracy: 0.5665 - precision_7: 0.5802 - recall_7: 0.4346\n",
      "94/94 [==============================] - 4s 27ms/step - loss: 1.4714 - accuracy: 0.5315 - precision_8: 0.5095 - recall_8: 0.4081\n",
      "94/94 [==============================] - 4s 25ms/step - loss: 1.3267 - accuracy: 0.5676 - precision_9: 0.6573 - recall_9: 0.5366\n",
      "94/94 [==============================] - 5s 25ms/step - loss: 1.1856 - accuracy: 0.5828 - precision_10: 0.5685 - recall_10: 0.4143\n",
      "94/94 [==============================] - 4s 25ms/step - loss: 1.2884 - accuracy: 0.5883 - precision_11: 0.5769 - recall_11: 0.4632: 0s - loss: 1.3441 - accuracy: 0.5796 - precision_11: 0.5569 - recall\n",
      "94/94 [==============================] - 4s 27ms/step - loss: 1.2392 - accuracy: 0.5734 - precision_12: 0.5916 - recall_12: 0.4644\n",
      "94/94 [==============================] - 5s 36ms/step - loss: 1.2549 - accuracy: 0.5934 - precision_13: 0.6508 - recall_13: 0.5546\n",
      "94/94 [==============================] - 5s 30ms/step - loss: 1.6943 - accuracy: 0.4877 - precision_14: 0.4448 - recall_14: 0.3387\n",
      "94/94 [==============================] - 4s 24ms/step - loss: 1.3173 - accuracy: 0.5421 - precision_15: 0.5349 - recall_15: 0.4124\n",
      "94/94 [==============================] - 3s 23ms/step - loss: 1.4854 - accuracy: 0.5259 - precision_16: 0.5687 - recall_16: 0.4783\n",
      "94/94 [==============================] - 3s 23ms/step - loss: 1.3583 - accuracy: 0.5389 - precision_17: 0.5165 - recall_17: 0.3571\n",
      "94/94 [==============================] - 3s 23ms/step - loss: 1.3332 - accuracy: 0.6125 - precision_18: 0.5888 - recall_18: 0.5202\n",
      "94/94 [==============================] - 3s 24ms/step - loss: 1.3747 - accuracy: 0.5359 - precision_19: 0.5849 - recall_19: 0.4766\n",
      "94/94 [==============================] - 3s 23ms/step - loss: 2.0880 - accuracy: 0.4147 - precision_80: 0.4582 - recall_80: 0.3694\n",
      "94/94 [==============================] - 3s 24ms/step - loss: 1.4194 - accuracy: 0.5949 - precision_81: 0.6089 - recall_81: 0.5256\n",
      "94/94 [==============================] - 3s 23ms/step - loss: 1.1814 - accuracy: 0.6432 - precision_82: 0.6566 - recall_82: 0.5588\n",
      "94/94 [==============================] - 3s 23ms/step - loss: 1.0547 - accuracy: 0.6525 - precision_83: 0.6381 - recall_83: 0.5320: 0s - loss: 1.1402 - accuracy: 0.6326 - precision_83: 0.6087 - recall\n",
      "94/94 [==============================] - 3s 24ms/step - loss: 0.8778 - accuracy: 0.6849 - precision_84: 0.7775 - recall_84: 0.6114\n",
      "94/94 [==============================] - 3s 24ms/step - loss: 0.9425 - accuracy: 0.6586 - precision_85: 0.7042 - recall_85: 0.5743\n",
      "94/94 [==============================] - 3s 24ms/step - loss: 1.3228 - accuracy: 0.6129 - precision_86: 0.6157 - recall_86: 0.5618\n",
      "94/94 [==============================] - 3s 24ms/step - loss: 0.8627 - accuracy: 0.7068 - precision_87: 0.7024 - recall_87: 0.5880\n",
      "94/94 [==============================] - 3s 25ms/step - loss: 0.9757 - accuracy: 0.7004 - precision_88: 0.7091 - recall_88: 0.6264\n",
      "94/94 [==============================] - 4s 25ms/step - loss: 0.9178 - accuracy: 0.6872 - precision_89: 0.6941 - recall_89: 0.5843\n",
      "94/94 [==============================] - 4s 26ms/step - loss: 1.1188 - accuracy: 0.6934 - precision_90: 0.6636 - recall_90: 0.5945\n",
      "94/94 [==============================] - 4s 26ms/step - loss: 0.7465 - accuracy: 0.7466 - precision_91: 0.8023 - recall_91: 0.6842\n",
      "94/94 [==============================] - 4s 28ms/step - loss: 1.1000 - accuracy: 0.6304 - precision_92: 0.6284 - recall_92: 0.5139\n",
      "94/94 [==============================] - 4s 29ms/step - loss: 0.9916 - accuracy: 0.6697 - precision_93: 0.7232 - recall_93: 0.5973\n",
      "94/94 [==============================] - 4s 29ms/step - loss: 2.1638 - accuracy: 0.4322 - precision_94: 0.4165 - recall_94: 0.3222\n",
      "94/94 [==============================] - 4s 30ms/step - loss: 1.0600 - accuracy: 0.6493 - precision_95: 0.6235 - recall_95: 0.5238\n",
      "94/94 [==============================] - 4s 31ms/step - loss: 1.0726 - accuracy: 0.5988 - precision_96: 0.6645 - recall_96: 0.4399\n",
      "94/94 [==============================] - 4s 31ms/step - loss: 1.2326 - accuracy: 0.5604 - precision_97: 0.5891 - recall_97: 0.4362\n",
      "94/94 [==============================] - 4s 34ms/step - loss: 1.2616 - accuracy: 0.5651 - precision_98: 0.5912 - recall_98: 0.4762\n",
      "94/94 [==============================] - 5s 38ms/step - loss: 1.2880 - accuracy: 0.5678 - precision_99: 0.5694 - recall_99: 0.4683\n",
      "94/94 [==============================] - 5s 39ms/step - loss: 2.0499 - accuracy: 0.3648 - precision_100: 0.3323 - recall_100: 0.2538\n",
      "94/94 [==============================] - 5s 40ms/step - loss: 1.8827 - accuracy: 0.3727 - precision_101: 0.3447 - recall_101: 0.2411\n",
      "94/94 [==============================] - 5s 40ms/step - loss: 1.8549 - accuracy: 0.3890 - precision_102: 0.3788 - recall_102: 0.2590\n",
      "94/94 [==============================] - 5s 41ms/step - loss: 1.9452 - accuracy: 0.4205 - precision_103: 0.3620 - recall_103: 0.2917\n",
      "94/94 [==============================] - 5s 42ms/step - loss: 1.6859 - accuracy: 0.4122 - precision_104: 0.3813 - recall_104: 0.2421\n",
      "94/94 [==============================] - 5s 42ms/step - loss: 1.6781 - accuracy: 0.4199 - precision_105: 0.3580 - recall_105: 0.2550\n",
      "94/94 [==============================] - 5s 42ms/step - loss: 1.5373 - accuracy: 0.4806 - precision_106: 0.5020 - recall_106: 0.3434\n",
      "94/94 [==============================] - 5s 43ms/step - loss: 1.6613 - accuracy: 0.4322 - precision_107: 0.3798 - recall_107: 0.2453\n",
      "94/94 [==============================] - 5s 44ms/step - loss: 1.5076 - accuracy: 0.4874 - precision_108: 0.4434 - recall_108: 0.3328\n",
      "94/94 [==============================] - 5s 43ms/step - loss: 1.4788 - accuracy: 0.4682 - precision_109: 0.4127 - recall_109: 0.2785\n",
      "94/94 [==============================] - 5s 45ms/step - loss: 1.6406 - accuracy: 0.4933 - precision_110: 0.4824 - recall_110: 0.3752\n",
      "94/94 [==============================] - 5s 45ms/step - loss: 1.3865 - accuracy: 0.5372 - precision_111: 0.6102 - recall_111: 0.4999\n",
      "94/94 [==============================] - 5s 45ms/step - loss: 1.4061 - accuracy: 0.5169 - precision_112: 0.5096 - recall_112: 0.3858\n",
      "94/94 [==============================] - 6s 46ms/step - loss: 1.4202 - accuracy: 0.5183 - precision_113: 0.4907 - recall_113: 0.3768\n",
      "94/94 [==============================] - 6s 48ms/step - loss: 1.3247 - accuracy: 0.5500 - precision_114: 0.5866 - recall_114: 0.4666\n",
      "94/94 [==============================] - 6s 47ms/step - loss: 1.2444 - accuracy: 0.5462 - precision_115: 0.5359 - recall_115: 0.3935\n",
      "94/94 [==============================] - 6s 49ms/step - loss: 1.1189 - accuracy: 0.6030 - precision_116: 0.6340 - recall_116: 0.5034\n",
      "94/94 [==============================] - 6s 49ms/step - loss: 1.3281 - accuracy: 0.5412 - precision_117: 0.5171 - recall_117: 0.4009\n",
      "94/94 [==============================] - 6s 50ms/step - loss: 1.1154 - accuracy: 0.6190 - precision_118: 0.6457 - recall_118: 0.5367\n",
      "94/94 [==============================] - 6s 51ms/step - loss: 1.2651 - accuracy: 0.5805 - precision_119: 0.5834 - recall_119: 0.4602\n",
      "94/94 [==============================] - 7s 51ms/step - loss: 3.0393 - accuracy: 0.2747 - precision_120: 0.2587 - recall_120: 0.2146\n",
      "94/94 [==============================] - 6s 53ms/step - loss: 2.8886 - accuracy: 0.3384 - precision_121: 0.3458 - recall_121: 0.2972\n",
      "94/94 [==============================] - 6s 53ms/step - loss: 3.0231 - accuracy: 0.3354 - precision_122: 0.3538 - recall_122: 0.2716\n",
      "94/94 [==============================] - 6s 53ms/step - loss: 2.4298 - accuracy: 0.3788 - precision_123: 0.4226 - recall_123: 0.3131\n",
      "94/94 [==============================] - 6s 54ms/step - loss: 2.5234 - accuracy: 0.4269 - precision_124: 0.4605 - recall_124: 0.3618\n",
      "94/94 [==============================] - 6s 54ms/step - loss: 2.6160 - accuracy: 0.4027 - precision_125: 0.3593 - recall_125: 0.2899\n",
      "94/94 [==============================] - 6s 55ms/step - loss: 3.0732 - accuracy: 0.2759 - precision_126: 0.2588 - recall_126: 0.2227\n",
      "94/94 [==============================] - 7s 61ms/step - loss: 2.2346 - accuracy: 0.4495 - precision_127: 0.3900 - recall_127: 0.2831\n",
      "94/94 [==============================] - 7s 57ms/step - loss: 2.4547 - accuracy: 0.4099 - precision_128: 0.4152 - recall_128: 0.3131\n",
      "94/94 [==============================] - 7s 59ms/step - loss: 2.7150 - accuracy: 0.4318 - precision_129: 0.4099 - recall_129: 0.3368\n",
      "94/94 [==============================] - 7s 55ms/step - loss: 2.5278 - accuracy: 0.4905 - precision_130: 0.4176 - recall_130: 0.3689\n",
      "94/94 [==============================] - 7s 55ms/step - loss: 1.8514 - accuracy: 0.5109 - precision_131: 0.4868 - recall_131: 0.3826\n",
      "94/94 [==============================] - 7s 55ms/step - loss: 1.8326 - accuracy: 0.5223 - precision_132: 0.5235 - recall_132: 0.3949\n",
      "94/94 [==============================] - 6s 55ms/step - loss: 1.8023 - accuracy: 0.4881 - precision_133: 0.4807 - recall_133: 0.3451\n",
      "94/94 [==============================] - 6s 55ms/step - loss: 1.8004 - accuracy: 0.5207 - precision_134: 0.4772 - recall_134: 0.4130\n",
      "94/94 [==============================] - 7s 55ms/step - loss: 1.7998 - accuracy: 0.5344 - precision_135: 0.4802 - recall_135: 0.4256\n",
      "94/94 [==============================] - 6s 54ms/step - loss: 1.5619 - accuracy: 0.5446 - precision_136: 0.5172 - recall_136: 0.4399\n",
      "94/94 [==============================] - 6s 54ms/step - loss: 1.5091 - accuracy: 0.5142 - precision_137: 0.4743 - recall_137: 0.3832\n",
      "94/94 [==============================] - 6s 54ms/step - loss: 1.2455 - accuracy: 0.5798 - precision_138: 0.5771 - recall_138: 0.4750\n",
      "94/94 [==============================] - 6s 54ms/step - loss: 1.3515 - accuracy: 0.5318 - precision_139: 0.5143 - recall_139: 0.3749\n"
     ]
    }
   ],
   "source": [
    "# Metrics using adversarial test\n",
    "evaluate_lsa_0 = []\n",
    "evaluate_dsa_0 = []\n",
    "evaluate_nc_0 = []\n",
    "evaluate_random_0 = []\n",
    "\n",
    "evaluate_lsa_0.append(model_original.evaluate(x_adversary_test_fgsm,y_adversary_test_fgsm))\n",
    "evaluate_dsa_0.append(model_original.evaluate(x_adversary_test_fgsm,y_adversary_test_fgsm))\n",
    "evaluate_nc_0.append(model_original.evaluate(x_adversary_test_fgsm,y_adversary_test_fgsm))\n",
    "evaluate_random_0.append(model_original.evaluate(x_adversary_test_fgsm,y_adversary_test_fgsm))\n",
    "\n",
    "for model in models_lsa:\n",
    "    evaluate_lsa_0.append(model.evaluate(x_adversary_test_fgsm,y_adversary_test_fgsm))\n",
    "    \n",
    "for model in models_dsa:\n",
    "    evaluate_dsa_0.append(model.evaluate(x_adversary_test_fgsm,y_adversary_test_fgsm))\n",
    "    \n",
    "for model in models_random:\n",
    "    evaluate_random_0.append(model.evaluate(x_adversary_test_fgsm,y_adversary_test_fgsm))\n",
    "    \n",
    "for model in models_nc:\n",
    "    evaluate_nc_0.append(model.evaluate(x_adversary_test_fgsm,y_adversary_test_fgsm))"
   ]
  },
  {
   "cell_type": "code",
   "execution_count": 29,
   "id": "11b4b138",
   "metadata": {},
   "outputs": [
    {
     "name": "stdout",
     "output_type": "stream",
     "text": [
      "21\n",
      "21\n",
      "21\n",
      "21\n"
     ]
    }
   ],
   "source": [
    "print(len(evaluate_lsa_0))\n",
    "print(len(evaluate_dsa_0))\n",
    "print(len(evaluate_random_0))\n",
    "print(len(evaluate_nc_0))"
   ]
  },
  {
   "cell_type": "code",
   "execution_count": 29,
   "id": "83e264e7",
   "metadata": {},
   "outputs": [
    {
     "name": "stdout",
     "output_type": "stream",
     "text": [
      "94/94 [==============================] - 2s 23ms/step - loss: 1.0256 - accuracy: 0.5807 - precision: 0.7100 - recall: 0.4094\n",
      "94/94 [==============================] - 2s 23ms/step - loss: 1.8615 - accuracy: 0.5073 - precision_1: 0.6286 - recall_1: 0.4814\n",
      "94/94 [==============================] - 2s 24ms/step - loss: 0.7475 - accuracy: 0.7393 - precision_2: 0.6064 - recall_2: 0.4190\n",
      "94/94 [==============================] - 2s 22ms/step - loss: 0.8464 - accuracy: 0.7127 - precision_3: 0.6006 - recall_3: 0.4322\n"
     ]
    }
   ],
   "source": [
    "evaluate_lsa_5k_1 = []\n",
    "evaluate_dsa_5k_1 = []\n",
    "evaluate_nc_5k_1 = []\n",
    "evaluate_random_5k_1 = []\n",
    "\n",
    "evaluate_lsa_5k_1.append(model_lsa_5000.evaluate(x_test,y_test))\n",
    "evaluate_dsa_5k_1.append(model_dsa_5000.evaluate(x_test,y_test))\n",
    "evaluate_nc_5k_1.append(model_random_5000.evaluate(x_test,y_test))\n",
    "evaluate_random_5k_1.append(model_nc_5000.evaluate(x_test,y_test))"
   ]
  },
  {
   "cell_type": "code",
   "execution_count": 30,
   "id": "1d1c6ec0",
   "metadata": {
    "scrolled": true
   },
   "outputs": [
    {
     "name": "stdout",
     "output_type": "stream",
     "text": [
      "94/94 [==============================] - 5s 54ms/step - loss: 0.5392 - accuracy: 0.8037 - precision_140: 0.2196 - recall_140: 0.1788\n",
      "94/94 [==============================] - 5s 54ms/step - loss: 0.5392 - accuracy: 0.8037 - precision_140: 0.3442 - recall_140: 0.2867\n",
      "94/94 [==============================] - 5s 54ms/step - loss: 0.5392 - accuracy: 0.8037 - precision_140: 0.4268 - recall_140: 0.3612\n",
      "94/94 [==============================] - 5s 54ms/step - loss: 0.5392 - accuracy: 0.8037 - precision_140: 0.4857 - recall_140: 0.4157\n",
      "lsa---\n",
      "94/94 [==============================] - 5s 54ms/step - loss: 0.9717 - accuracy: 0.6690 - precision: 0.6133 - recall: 0.4625\n",
      "94/94 [==============================] - 5s 54ms/step - loss: 0.9240 - accuracy: 0.6720 - precision_1: 0.6341 - recall_1: 0.5143\n",
      "94/94 [==============================] - 5s 54ms/step - loss: 1.0626 - accuracy: 0.6007 - precision_2: 0.5901 - recall_2: 0.4816\n",
      "94/94 [==============================] - 5s 56ms/step - loss: 1.1786 - accuracy: 0.5970 - precision_3: 0.6422 - recall_3: 0.5294\n",
      "94/94 [==============================] - 5s 53ms/step - loss: 0.9930 - accuracy: 0.6337 - precision_4: 0.6582 - recall_4: 0.5046\n",
      "94/94 [==============================] - 5s 53ms/step - loss: 1.3059 - accuracy: 0.5360 - precision_5: 0.7220 - recall_5: 0.5853\n",
      "94/94 [==============================] - 5s 53ms/step - loss: 1.3436 - accuracy: 0.5480 - precision_6: 0.6526 - recall_6: 0.5210\n",
      "94/94 [==============================] - 5s 54ms/step - loss: 1.0106 - accuracy: 0.6257 - precision_7: 0.6804 - recall_7: 0.5474\n",
      "94/94 [==============================] - 5s 53ms/step - loss: 1.0561 - accuracy: 0.6150 - precision_8: 0.6617 - recall_8: 0.5414\n",
      "94/94 [==============================] - 5s 53ms/step - loss: 1.1601 - accuracy: 0.5897 - precision_9: 0.6216 - recall_9: 0.4638\n",
      "94/94 [==============================] - 5s 53ms/step - loss: 1.0207 - accuracy: 0.6390 - precision_10: 0.6677 - recall_10: 0.5501\n",
      "94/94 [==============================] - 5s 53ms/step - loss: 0.9552 - accuracy: 0.6750 - precision_11: 0.6846 - recall_11: 0.5995\n",
      "94/94 [==============================] - 5s 53ms/step - loss: 0.8972 - accuracy: 0.6907 - precision_12: 0.6910 - recall_12: 0.5798\n",
      "94/94 [==============================] - 5s 53ms/step - loss: 1.0010 - accuracy: 0.6690 - precision_13: 0.6420 - recall_13: 0.5633\n",
      "94/94 [==============================] - 5s 53ms/step - loss: 0.9112 - accuracy: 0.6973 - precision_14: 0.6127 - recall_14: 0.5240\n",
      "94/94 [==============================] - 5s 53ms/step - loss: 0.6607 - accuracy: 0.7820 - precision_15: 0.6724 - recall_15: 0.5507\n",
      "94/94 [==============================] - 5s 53ms/step - loss: 0.7470 - accuracy: 0.7563 - precision_16: 0.6365 - recall_16: 0.5319\n",
      "94/94 [==============================] - 5s 53ms/step - loss: 0.7497 - accuracy: 0.7403 - precision_17: 0.6918 - recall_17: 0.5235\n",
      "94/94 [==============================] - 5s 53ms/step - loss: 0.7872 - accuracy: 0.7447 - precision_18: 0.6672 - recall_18: 0.6039\n",
      "94/94 [==============================] - 5s 53ms/step - loss: 0.6976 - accuracy: 0.7647 - precision_19: 0.6656 - recall_19: 0.5051\n",
      "dsa---\n",
      "94/94 [==============================] - 5s 53ms/step - loss: 1.1960 - accuracy: 0.6047 - precision_80: 0.5224 - recall_80: 0.4202\n",
      "94/94 [==============================] - 5s 53ms/step - loss: 0.9296 - accuracy: 0.6993 - precision_81: 0.6491 - recall_81: 0.5490\n",
      "94/94 [==============================] - 5s 53ms/step - loss: 1.0476 - accuracy: 0.6553 - precision_82: 0.6818 - recall_82: 0.5918\n",
      "94/94 [==============================] - 5s 53ms/step - loss: 1.3665 - accuracy: 0.5277 - precision_83: 0.6912 - recall_83: 0.5911\n",
      "94/94 [==============================] - 5s 54ms/step - loss: 1.3481 - accuracy: 0.5143 - precision_84: 0.6942 - recall_84: 0.4664\n",
      "94/94 [==============================] - 5s 53ms/step - loss: 4.8531 - accuracy: 0.4577 - precision_85: 0.6422 - recall_85: 0.5465\n",
      "94/94 [==============================] - 5s 53ms/step - loss: 3.0725 - accuracy: 0.4777 - precision_86: 0.6326 - recall_86: 0.5912\n",
      "94/94 [==============================] - 5s 53ms/step - loss: 2.1315 - accuracy: 0.5020 - precision_87: 0.7036 - recall_87: 0.6279\n",
      "94/94 [==============================] - 5s 53ms/step - loss: 2.2134 - accuracy: 0.5370 - precision_88: 0.7025 - recall_88: 0.6456\n",
      "94/94 [==============================] - 5s 53ms/step - loss: 1.0841 - accuracy: 0.6030 - precision_89: 0.7351 - recall_89: 0.6087\n",
      "94/94 [==============================] - 5s 53ms/step - loss: 2.1392 - accuracy: 0.5320 - precision_90: 0.7038 - recall_90: 0.6561\n",
      "94/94 [==============================] - 5s 53ms/step - loss: 1.6590 - accuracy: 0.5433 - precision_91: 0.7691 - recall_91: 0.6681\n",
      "94/94 [==============================] - 5s 53ms/step - loss: 0.9740 - accuracy: 0.6837 - precision_92: 0.7141 - recall_92: 0.6304\n",
      "94/94 [==============================] - 5s 53ms/step - loss: 0.9656 - accuracy: 0.6913 - precision_93: 0.7150 - recall_93: 0.6197\n",
      "94/94 [==============================] - 5s 53ms/step - loss: 1.4496 - accuracy: 0.5953 - precision_94: 0.5789 - recall_94: 0.4843\n",
      "94/94 [==============================] - 5s 53ms/step - loss: 0.8886 - accuracy: 0.7093 - precision_95: 0.7295 - recall_95: 0.6298\n",
      "94/94 [==============================] - 5s 53ms/step - loss: 0.6726 - accuracy: 0.7603 - precision_96: 0.7648 - recall_96: 0.5643\n",
      "94/94 [==============================] - 5s 53ms/step - loss: 0.6538 - accuracy: 0.7713 - precision_97: 0.6922 - recall_97: 0.5205\n",
      "94/94 [==============================] - 5s 53ms/step - loss: 0.6260 - accuracy: 0.7853 - precision_98: 0.6840 - recall_98: 0.5679\n",
      "94/94 [==============================] - 5s 53ms/step - loss: 0.5897 - accuracy: 0.8037 - precision_99: 0.6862 - recall_99: 0.5701\n",
      "random---\n",
      "94/94 [==============================] - 5s 52ms/step - loss: 0.7516 - accuracy: 0.7577 - precision_100: 0.5192 - recall_100: 0.4190\n",
      "94/94 [==============================] - 5s 53ms/step - loss: 0.7243 - accuracy: 0.7600 - precision_101: 0.5599 - recall_101: 0.4011\n",
      "94/94 [==============================] - 5s 53ms/step - loss: 0.7209 - accuracy: 0.7643 - precision_102: 0.5577 - recall_102: 0.4097\n",
      "94/94 [==============================] - 5s 52ms/step - loss: 0.7175 - accuracy: 0.7743 - precision_103: 0.5661 - recall_103: 0.4619\n",
      "94/94 [==============================] - 5s 53ms/step - loss: 0.7979 - accuracy: 0.7207 - precision_104: 0.5970 - recall_104: 0.4263\n",
      "94/94 [==============================] - 5s 53ms/step - loss: 0.7218 - accuracy: 0.7533 - precision_105: 0.6109 - recall_105: 0.4410\n",
      "94/94 [==============================] - 5s 58ms/step - loss: 0.7227 - accuracy: 0.7510 - precision_106: 0.6374 - recall_106: 0.4180\n",
      "94/94 [==============================] - 5s 57ms/step - loss: 0.7435 - accuracy: 0.7543 - precision_107: 0.6222 - recall_107: 0.4504\n",
      "94/94 [==============================] - 6s 60ms/step - loss: 0.6848 - accuracy: 0.7627 - precision_108: 0.6270 - recall_108: 0.4818\n",
      "94/94 [==============================] - 5s 55ms/step - loss: 0.6760 - accuracy: 0.7650 - precision_109: 0.6561 - recall_109: 0.4693\n",
      "94/94 [==============================] - 5s 54ms/step - loss: 0.7861 - accuracy: 0.7447 - precision_110: 0.6159 - recall_110: 0.4957\n",
      "94/94 [==============================] - 5s 54ms/step - loss: 0.6942 - accuracy: 0.7613 - precision_111: 0.6251 - recall_111: 0.5189\n",
      "94/94 [==============================] - 5s 55ms/step - loss: 0.6260 - accuracy: 0.7907 - precision_112: 0.6567 - recall_112: 0.5377\n",
      "94/94 [==============================] - 5s 53ms/step - loss: 0.6471 - accuracy: 0.7730 - precision_113: 0.6554 - recall_113: 0.5283\n",
      "94/94 [==============================] - 5s 53ms/step - loss: 0.7010 - accuracy: 0.7553 - precision_114: 0.6302 - recall_114: 0.5280\n",
      "94/94 [==============================] - 5s 54ms/step - loss: 0.6473 - accuracy: 0.7840 - precision_115: 0.7010 - recall_115: 0.5126\n",
      "94/94 [==============================] - 6s 62ms/step - loss: 0.6176 - accuracy: 0.7810 - precision_116: 0.7071 - recall_116: 0.5686\n",
      "94/94 [==============================] - 6s 61ms/step - loss: 0.6239 - accuracy: 0.7863 - precision_117: 0.6659 - recall_117: 0.5531\n",
      "94/94 [==============================] - 5s 55ms/step - loss: 0.6336 - accuracy: 0.7813 - precision_118: 0.7020 - recall_118: 0.6093\n",
      "94/94 [==============================] - 5s 54ms/step - loss: 0.8006 - accuracy: 0.7163 - precision_119: 0.6718 - recall_119: 0.5644\n",
      "nc---\n",
      "94/94 [==============================] - 5s 54ms/step - loss: 1.0090 - accuracy: 0.7360 - precision_120: 0.4766 - recall_120: 0.4154\n",
      "94/94 [==============================] - 5s 56ms/step - loss: 1.0655 - accuracy: 0.7333 - precision_121: 0.4951 - recall_121: 0.4354\n",
      "94/94 [==============================] - 5s 58ms/step - loss: 1.2105 - accuracy: 0.7023 - precision_122: 0.5081 - recall_122: 0.4006\n",
      "94/94 [==============================] - 5s 54ms/step - loss: 0.8371 - accuracy: 0.7480 - precision_123: 0.5519 - recall_123: 0.4111\n",
      "94/94 [==============================] - 5s 53ms/step - loss: 0.9104 - accuracy: 0.7547 - precision_124: 0.5624 - recall_124: 0.4606\n",
      "94/94 [==============================] - 5s 53ms/step - loss: 0.7820 - accuracy: 0.7833 - precision_125: 0.5988 - recall_125: 0.5085\n",
      "94/94 [==============================] - 5s 53ms/step - loss: 1.3974 - accuracy: 0.6707 - precision_126: 0.4773 - recall_126: 0.4251\n",
      "94/94 [==============================] - 6s 61ms/step - loss: 0.8129 - accuracy: 0.7570 - precision_127: 0.6401 - recall_127: 0.4995\n",
      "94/94 [==============================] - 5s 54ms/step - loss: 0.9983 - accuracy: 0.6960 - precision_128: 0.5742 - recall_128: 0.4537\n",
      "94/94 [==============================] - 5s 54ms/step - loss: 0.8504 - accuracy: 0.7730 - precision_129: 0.6122 - recall_129: 0.5050\n",
      "94/94 [==============================] - 5s 55ms/step - loss: 0.9097 - accuracy: 0.7747 - precision_130: 0.6382 - recall_130: 0.5836\n",
      "94/94 [==============================] - 5s 54ms/step - loss: 0.7171 - accuracy: 0.7867 - precision_131: 0.6622 - recall_131: 0.5560\n",
      "94/94 [==============================] - 5s 55ms/step - loss: 0.8478 - accuracy: 0.7343 - precision_132: 0.6698 - recall_132: 0.4742\n",
      "94/94 [==============================] - 5s 55ms/step - loss: 0.7993 - accuracy: 0.7520 - precision_133: 0.6477 - recall_133: 0.5042\n",
      "94/94 [==============================] - 5s 54ms/step - loss: 0.7365 - accuracy: 0.8007 - precision_134: 0.6594 - recall_134: 0.5815\n",
      "94/94 [==============================] - 5s 55ms/step - loss: 0.7250 - accuracy: 0.7970 - precision_135: 0.6618 - recall_135: 0.6022\n",
      "94/94 [==============================] - 5s 54ms/step - loss: 0.6395 - accuracy: 0.8017 - precision_136: 0.6620 - recall_136: 0.5797\n",
      "94/94 [==============================] - 5s 54ms/step - loss: 0.6719 - accuracy: 0.7700 - precision_137: 0.6686 - recall_137: 0.5645\n",
      "94/94 [==============================] - 5s 54ms/step - loss: 0.6022 - accuracy: 0.7960 - precision_138: 0.6822 - recall_138: 0.5682\n",
      "94/94 [==============================] - 5s 53ms/step - loss: 0.7159 - accuracy: 0.7537 - precision_139: 0.6694 - recall_139: 0.5318\n"
     ]
    }
   ],
   "source": [
    "# Metrics using original test\n",
    "evaluate_lsa_1 = []\n",
    "evaluate_dsa_1 = []\n",
    "evaluate_nc_1 = []\n",
    "evaluate_random_1 = []\n",
    "\n",
    "evaluate_lsa_1.append(model_original.evaluate(x_test,y_test))\n",
    "evaluate_dsa_1.append(model_original.evaluate(x_test,y_test))\n",
    "evaluate_nc_1.append(model_original.evaluate(x_test,y_test))\n",
    "evaluate_random_1.append(model_original.evaluate(x_test,y_test))\n",
    "print(\"lsa---\")\n",
    "for model in models_lsa:\n",
    "    evaluate_lsa_1.append(model.evaluate(x_test,y_test))\n",
    "\n",
    "print(\"dsa---\")\n",
    "    \n",
    "for model in models_dsa:\n",
    "    evaluate_dsa_1.append(model.evaluate(x_test,y_test))\n",
    "    \n",
    "print(\"random---\")\n",
    "\n",
    "for model in models_random:\n",
    "    evaluate_random_1.append(model.evaluate(x_test,y_test))\n",
    "    \n",
    "print(\"nc---\")\n",
    "\n",
    "for model in models_nc:\n",
    "    evaluate_nc_1.append(model.evaluate(x_test,y_test))"
   ]
  },
  {
   "cell_type": "code",
   "execution_count": 34,
   "id": "85dd3308",
   "metadata": {},
   "outputs": [
    {
     "name": "stdout",
     "output_type": "stream",
     "text": [
      "21\n",
      "21\n",
      "21\n",
      "21\n"
     ]
    }
   ],
   "source": [
    "print(len(evaluate_lsa_1))\n",
    "print(len(evaluate_dsa_1))\n",
    "print(len(evaluate_random_1))\n",
    "print(len(evaluate_nc_1))"
   ]
  },
  {
   "cell_type": "code",
   "execution_count": 30,
   "id": "179761c5",
   "metadata": {},
   "outputs": [],
   "source": [
    "import pandas as pd\n",
    "\n",
    "df_evaluate_lsa_5k_0 = pd.DataFrame(np.array(evaluate_lsa_5k_0),columns=[\"loss\",\"accuracy\",\"precision\",\"recall\"])\n",
    "df_evaluate_lsa_5k_1 = pd.DataFrame(np.array(evaluate_lsa_5k_1),columns=[\"loss\",\"accuracy\",\"precision\",\"recall\"])\n",
    "df_evaluate_dsa_5k_0 = pd.DataFrame(np.array(evaluate_dsa_5k_0),columns=[\"loss\",\"accuracy\",\"precision\",\"recall\"])\n",
    "df_evaluate_dsa_5k_1 = pd.DataFrame(np.array(evaluate_dsa_5k_1),columns=[\"loss\",\"accuracy\",\"precision\",\"recall\"])\n",
    "\n",
    "df_evaluate_random_5k_0 = pd.DataFrame(np.array(evaluate_random_5k_0),columns=[\"loss\",\"accuracy\",\"precision\",\"recall\"])\n",
    "df_evaluate_random_5k_1 = pd.DataFrame(np.array(evaluate_random_5k_1),columns=[\"loss\",\"accuracy\",\"precision\",\"recall\"])\n",
    "df_evaluate_nc_5k_0 = pd.DataFrame(np.array(evaluate_nc_5k_0),columns=[\"loss\",\"accuracy\",\"precision\",\"recall\"])\n",
    "df_evaluate_nc_5k_1 = pd.DataFrame(np.array(evaluate_nc_5k_1),columns=[\"loss\",\"accuracy\",\"precision\",\"recall\"])\n"
   ]
  },
  {
   "cell_type": "code",
   "execution_count": 32,
   "id": "8c45b340",
   "metadata": {},
   "outputs": [],
   "source": [
    "import pandas as pd\n",
    "\n",
    "df_evaluate_lsa_0 = pd.DataFrame(np.array(evaluate_lsa_0),columns=[\"loss\",\"accuracy\",\"precision\",\"recall\"])\n",
    "df_evaluate_lsa_1 = pd.DataFrame(np.array(evaluate_lsa_1),columns=[\"loss\",\"accuracy\",\"precision\",\"recall\"])\n",
    "df_evaluate_dsa_0 = pd.DataFrame(np.array(evaluate_dsa_0),columns=[\"loss\",\"accuracy\",\"precision\",\"recall\"])\n",
    "df_evaluate_dsa_1 = pd.DataFrame(np.array(evaluate_dsa_1),columns=[\"loss\",\"accuracy\",\"precision\",\"recall\"])\n",
    "df_evaluate_random_0 = pd.DataFrame(np.array(evaluate_random_0),columns=[\"loss\",\"accuracy\",\"precision\",\"recall\"])\n",
    "df_evaluate_random_1 = pd.DataFrame(np.array(evaluate_random_1),columns=[\"loss\",\"accuracy\",\"precision\",\"recall\"])\n",
    "df_evaluate_nc_0 = pd.DataFrame(np.array(evaluate_nc_0),columns=[\"loss\",\"accuracy\",\"precision\",\"recall\"])\n",
    "df_evaluate_nc_1 = pd.DataFrame(np.array(evaluate_nc_1),columns=[\"loss\",\"accuracy\",\"precision\",\"recall\"])"
   ]
  },
  {
   "cell_type": "code",
   "execution_count": 31,
   "id": "93fd1f00",
   "metadata": {},
   "outputs": [],
   "source": [
    "# Original test set + adversarial set\n",
    "\n",
    "metric =\"accuracy\"\n",
    "accuracy_c3_lsa_5k_3 = (np.array(df_evaluate_lsa_5k_0[metric])+np.array(df_evaluate_lsa_5k_1[metric]))/2\n",
    "accuracy_c3_dsa_5k_3 = (np.array(df_evaluate_dsa_5k_0[metric])+np.array(df_evaluate_dsa_5k_1[metric]))/2\n",
    "accuracy_c3_nc_5k_3 = (np.array(df_evaluate_nc_5k_0[metric])+np.array(df_evaluate_nc_5k_1[metric]))/2\n",
    "accuracy_c3_random_5k_3 = (np.array(df_evaluate_random_5k_0[metric])+np.array(df_evaluate_random_5k_1[metric]))/2\n"
   ]
  },
  {
   "cell_type": "code",
   "execution_count": 33,
   "id": "5fbac3f0",
   "metadata": {},
   "outputs": [],
   "source": [
    "# Original test set + adversarial set\n",
    "\n",
    "metric =\"accuracy\"\n",
    "accuracy_c3_lsa_3 = (np.array(df_evaluate_lsa_0[metric])+np.array(df_evaluate_lsa_1[metric]))/2\n",
    "accuracy_c3_dsa_3 = (np.array(df_evaluate_dsa_0[metric])+np.array(df_evaluate_dsa_1[metric]))/2\n",
    "accuracy_c3_nc_3 = (np.array(df_evaluate_nc_0[metric])+np.array(df_evaluate_nc_1[metric]))/2\n",
    "accuracy_c3_random_3 = (np.array(df_evaluate_random_0[metric])+np.array(df_evaluate_random_1[metric]))/2\n"
   ]
  },
  {
   "cell_type": "markdown",
   "id": "c0edc866",
   "metadata": {},
   "source": [
    "## Charts"
   ]
  },
  {
   "cell_type": "code",
   "execution_count": 35,
   "id": "db32b23d",
   "metadata": {},
   "outputs": [],
   "source": [
    "n_inputs = [700*i for i in range(20)]\n",
    "n_inputs.append(len(x_train_and_adversary))"
   ]
  },
  {
   "cell_type": "code",
   "execution_count": 36,
   "id": "4feb0d30",
   "metadata": {},
   "outputs": [
    {
     "name": "stdout",
     "output_type": "stream",
     "text": [
      "C:\\Users\\fjdur\\Desktop\\intel_graphs\\e2_graphs_dec\n"
     ]
    }
   ],
   "source": [
    "cd \"C:/Users/fjdur/Desktop/intel_graphs/e2_graphs_dec/\""
   ]
  },
  {
   "cell_type": "code",
   "execution_count": 37,
   "id": "b4c1b48a",
   "metadata": {},
   "outputs": [],
   "source": [
    "linestyles = ['solid','dotted','dashed','dashdot']\n",
    "colors =['k','k','k','k']"
   ]
  },
  {
   "cell_type": "code",
   "execution_count": 41,
   "id": "fde130ed",
   "metadata": {},
   "outputs": [
    {
     "data": {
      "image/png": "[encoded data removed]",
      "text/plain": [
       "<Figure size 432x288 with 1 Axes>"
      ]
     },
     "metadata": {
      "needs_background": "light"
     },
     "output_type": "display_data"
    },
    {
     "data": {
      "image/png": "[encoded data removed]",
      "text/plain": [
       "<Figure size 432x288 with 1 Axes>"
      ]
     },
     "metadata": {
      "needs_background": "light"
     },
     "output_type": "display_data"
    },
    {
     "data": {
      "image/png": "[encoded data removed]",
      "text/plain": [
       "<Figure size 432x288 with 1 Axes>"
      ]
     },
     "metadata": {
      "needs_background": "light"
     },
     "output_type": "display_data"
    },
    {
     "data": {
      "image/png": "[encoded data removed]",
      "text/plain": [
       "<Figure size 432x288 with 1 Axes>"
      ]
     },
     "metadata": {
      "needs_background": "light"
     },
     "output_type": "display_data"
    }
   ],
   "source": [
    "\n",
    "import matplotlib.pyplot as plt\n",
    "import matplotlib.patches as mpatches\n",
    "from matplotlib.patches import Patch\n",
    "from matplotlib.lines import Line2D\n",
    "\n",
    "#metric = \"accuracy\" # accuracy loss\n",
    "my_metrics =[\"accuracy\",\"loss\",\"precision\",\"recall\"]\n",
    "\n",
    "for metric in my_metrics:\n",
    "    plt.clf()\n",
    "    plt.plot(n_inputs,df_evaluate_lsa_0[metric],colors[0],linestyle=linestyles[0])\n",
    "    plt.plot(n_inputs,df_evaluate_dsa_0[metric],colors[1],linestyle=linestyles[1])\n",
    "    plt.plot(n_inputs,df_evaluate_random_0[metric],colors[2],linestyle=linestyles[2])\n",
    "    plt.plot(n_inputs,df_evaluate_nc_0[metric],colors[3],linestyle=linestyles[3])\n",
    "\n",
    "\n",
    "    legend_elements = [Line2D([0], [0], color='k', label='LSA',ls = linestyles[0]),\n",
    "                   Line2D([0], [0], color='k', label='DSA',ls = linestyles[1]),\n",
    "                   Line2D([0], [0], color='k', label='Random',ls = linestyles[2]),\n",
    "                   Line2D([0], [0], color='k', label='NC',ls = linestyles[3])]\n",
    "\n",
    "\n",
    "\n",
    "    plt.legend(handles=legend_elements)#\n",
    "    plt.title(metric + \" with test set of adversarial examples FGSM\")\n",
    "    plt.xlim([0, 15000])\n",
    "    #plt.ylim([0, 1])\n",
    "    plt.xlabel('number of inputs')\n",
    "    plt.ylabel(metric)\n",
    "    plt.savefig(\"intel_c2_\"+metric + \"_0.svg\")\n",
    "    plt.show()"
   ]
  },
  {
   "cell_type": "code",
   "execution_count": 42,
   "id": "38563782",
   "metadata": {},
   "outputs": [
    {
     "data": {
      "image/png": "[encoded data removed]",
      "text/plain": [
       "<Figure size 432x288 with 1 Axes>"
      ]
     },
     "metadata": {
      "needs_background": "light"
     },
     "output_type": "display_data"
    },
    {
     "data": {
      "image/png": "[encoded data removed]",
      "text/plain": [
       "<Figure size 432x288 with 1 Axes>"
      ]
     },
     "metadata": {
      "needs_background": "light"
     },
     "output_type": "display_data"
    },
    {
     "data": {
      "image/png": "[encoded data removed]",
      "text/plain": [
       "<Figure size 432x288 with 1 Axes>"
      ]
     },
     "metadata": {
      "needs_background": "light"
     },
     "output_type": "display_data"
    },
    {
     "data": {
      "image/png": "[encoded data removed]",
      "text/plain": [
       "<Figure size 432x288 with 1 Axes>"
      ]
     },
     "metadata": {
      "needs_background": "light"
     },
     "output_type": "display_data"
    }
   ],
   "source": [
    "\n",
    "import matplotlib.pyplot as plt\n",
    "import matplotlib.patches as mpatches\n",
    "\n",
    "my_metrics =[\"accuracy\",\"loss\",\"precision\",\"recall\"]\n",
    "\n",
    "for metric in my_metrics:\n",
    "    \n",
    "#metric = \"accuracy\" # accuracy loss\n",
    "    plt.clf()\n",
    "    plt.plot(n_inputs,df_evaluate_lsa_1[metric],colors[0],linestyle=linestyles[0])\n",
    "    plt.plot(n_inputs,df_evaluate_dsa_1[metric],colors[1],linestyle=linestyles[1])\n",
    "    plt.plot(n_inputs,df_evaluate_random_1[metric],colors[2],linestyle=linestyles[2])\n",
    "    plt.plot(n_inputs,df_evaluate_nc_1[metric],colors[3],linestyle=linestyles[3])\n",
    "\n",
    "    legend_elements = [Line2D([0], [0], color='k', label='LSA',ls = linestyles[0]),\n",
    "                   Line2D([0], [0], color='k', label='DSA',ls = linestyles[1]),\n",
    "                   Line2D([0], [0], color='k', label='Random',ls = linestyles[2]),\n",
    "                   Line2D([0], [0], color='k', label='NC',ls = linestyles[3])]\n",
    "\n",
    "\n",
    "\n",
    "    plt.legend(handles=legend_elements)#\n",
    "    plt.title(metric + \" with original set\")\n",
    "    plt.xlim([0, 15000])\n",
    "    #plt.ylim([0, 1])\n",
    "    plt.xlabel('number of inputs')\n",
    "    plt.ylabel(metric)\n",
    "    plt.savefig(\"intel_c2_\"+metric + \"_1.svg\")\n",
    "    plt.show()"
   ]
  },
  {
   "cell_type": "code",
   "execution_count": 43,
   "id": "884a1d99",
   "metadata": {},
   "outputs": [
    {
     "name": "stdout",
     "output_type": "stream",
     "text": [
      "11200 0.6689999997615814\n",
      "11900 0.695000022649765\n",
      "13300 0.6859999895095825\n",
      "11200 0.6759999990463257\n"
     ]
    },
    {
     "data": {
      "image/png": "[encoded data removed]",
      "text/plain": [
       "<Figure size 432x288 with 1 Axes>"
      ]
     },
     "metadata": {
      "needs_background": "light"
     },
     "output_type": "display_data"
    }
   ],
   "source": [
    "#adversarial jsma test set\n",
    "#configuration 3\n",
    "\"\"\"\n",
    "6) Incremental guided retraining starting from the original model using only the new adversarial inputs.\n",
    "Incremental training, starting with the previous trained model. Using at each iteration a subset of the new inputs.\n",
    "\"\"\"\n",
    "import matplotlib.pyplot as plt\n",
    "import matplotlib.patches as mpatches\n",
    "\n",
    "\n",
    "plt.plot(n_inputs,accuracy_c3_lsa_3,colors[0],linestyle=linestyles[0])\n",
    "plt.plot(n_inputs,accuracy_c3_dsa_3,colors[1],linestyle=linestyles[1])\n",
    "plt.plot(n_inputs,accuracy_c3_random_3,colors[2],linestyle=linestyles[2])\n",
    "plt.plot(n_inputs,accuracy_c3_nc_3,colors[3],linestyle=linestyles[3])\n",
    "\n",
    "\n",
    "legend_elements = [Line2D([0], [0], color='k', label='LSA',ls = linestyles[0]),\n",
    "                   Line2D([0], [0], color='k', label='DSA',ls = linestyles[1]),\n",
    "                   Line2D([0], [0], color='k', label='Random',ls = linestyles[2]),\n",
    "                   Line2D([0], [0], color='k', label='NC',ls = linestyles[3])]\n",
    "\n",
    "\n",
    "\n",
    "plt.legend(handles=legend_elements)#\n",
    "\n",
    "plt.title(\"accuracy with both sets\")\n",
    "\n",
    "print(n_inputs[np.argmax(accuracy_c3_lsa_3)],accuracy_c3_lsa_3.max())\n",
    "print(n_inputs[np.argmax(accuracy_c3_dsa_3)],accuracy_c3_dsa_3.max())\n",
    "print(n_inputs[np.argmax(accuracy_c3_random_3)],accuracy_c3_random_3.max())\n",
    "print(n_inputs[np.argmax(accuracy_c3_nc_3)],accuracy_c3_nc_3.max())\n",
    "\n",
    "plt.plot(n_inputs[np.argmax(accuracy_c3_lsa_3)],accuracy_c3_lsa_3.max(),'-kD')\n",
    "plt.plot(n_inputs[np.argmax(accuracy_c3_dsa_3)],accuracy_c3_dsa_3.max(),'-ko')\n",
    "plt.plot(n_inputs[np.argmax(accuracy_c3_random_3)],accuracy_c3_random_3.max(),'-kv')\n",
    "plt.plot(n_inputs[np.argmax(accuracy_c3_nc_3)],accuracy_c3_nc_3.max(),'-kp')\n",
    "\n",
    "plt.xlabel('number of inputs')\n",
    "plt.ylabel('accuracy')\n",
    "plt.xlim([0, 15000])\n",
    "#plt.ylim([0, 1])\n",
    "\n",
    "plt.savefig(\"intel_c2_\"+\"accuracy\" + \"_both.svg\")\n",
    "\n",
    "plt.show()"
   ]
  },
  {
   "cell_type": "code",
   "execution_count": 33,
   "id": "b8cfe6f9",
   "metadata": {},
   "outputs": [
    {
     "name": "stdout",
     "output_type": "stream",
     "text": [
      "[0.55466667]\n",
      "[0.54416665]\n",
      "[0.5795]\n",
      "[0.6015]\n"
     ]
    }
   ],
   "source": [
    "print(accuracy_c3_lsa_5k_3)\n",
    "print(accuracy_c3_dsa_5k_3)\n",
    "print(accuracy_c3_random_5k_3)\n",
    "print(accuracy_c3_nc_5k_3)\n"
   ]
  },
  {
   "cell_type": "markdown",
   "id": "02c81771",
   "metadata": {},
   "source": [
    "## Saving models"
   ]
  },
  {
   "cell_type": "code",
   "execution_count": 14,
   "id": "0aeb880a",
   "metadata": {},
   "outputs": [
    {
     "name": "stdout",
     "output_type": "stream",
     "text": [
      "INFO:tensorflow:Assets written to: D:/models/intel_models/C2/intel_model_c2_sep_lsa_e2_0\\assets\n",
      "Model has been saved\n",
      "INFO:tensorflow:Assets written to: D:/models/intel_models/C2/intel_model_c2_sep_lsa_e2_1\\assets\n",
      "Model has been saved\n",
      "INFO:tensorflow:Assets written to: D:/models/intel_models/C2/intel_model_c2_sep_lsa_e2_2\\assets\n",
      "Model has been saved\n",
      "INFO:tensorflow:Assets written to: D:/models/intel_models/C2/intel_model_c2_sep_lsa_e2_3\\assets\n",
      "Model has been saved\n",
      "INFO:tensorflow:Assets written to: D:/models/intel_models/C2/intel_model_c2_sep_lsa_e2_4\\assets\n",
      "Model has been saved\n",
      "INFO:tensorflow:Assets written to: D:/models/intel_models/C2/intel_model_c2_sep_lsa_e2_5\\assets\n",
      "Model has been saved\n",
      "INFO:tensorflow:Assets written to: D:/models/intel_models/C2/intel_model_c2_sep_lsa_e2_6\\assets\n",
      "Model has been saved\n",
      "INFO:tensorflow:Assets written to: D:/models/intel_models/C2/intel_model_c2_sep_lsa_e2_7\\assets\n",
      "Model has been saved\n",
      "INFO:tensorflow:Assets written to: D:/models/intel_models/C2/intel_model_c2_sep_lsa_e2_8\\assets\n",
      "Model has been saved\n",
      "INFO:tensorflow:Assets written to: D:/models/intel_models/C2/intel_model_c2_sep_lsa_e2_9\\assets\n",
      "Model has been saved\n",
      "INFO:tensorflow:Assets written to: D:/models/intel_models/C2/intel_model_c2_sep_lsa_e2_10\\assets\n",
      "Model has been saved\n",
      "INFO:tensorflow:Assets written to: D:/models/intel_models/C2/intel_model_c2_sep_lsa_e2_11\\assets\n",
      "Model has been saved\n",
      "INFO:tensorflow:Assets written to: D:/models/intel_models/C2/intel_model_c2_sep_lsa_e2_12\\assets\n",
      "Model has been saved\n",
      "INFO:tensorflow:Assets written to: D:/models/intel_models/C2/intel_model_c2_sep_lsa_e2_13\\assets\n",
      "Model has been saved\n",
      "INFO:tensorflow:Assets written to: D:/models/intel_models/C2/intel_model_c2_sep_lsa_e2_14\\assets\n",
      "Model has been saved\n",
      "INFO:tensorflow:Assets written to: D:/models/intel_models/C2/intel_model_c2_sep_lsa_e2_15\\assets\n",
      "Model has been saved\n",
      "INFO:tensorflow:Assets written to: D:/models/intel_models/C2/intel_model_c2_sep_lsa_e2_16\\assets\n",
      "Model has been saved\n",
      "INFO:tensorflow:Assets written to: D:/models/intel_models/C2/intel_model_c2_sep_lsa_e2_17\\assets\n",
      "Model has been saved\n",
      "INFO:tensorflow:Assets written to: D:/models/intel_models/C2/intel_model_c2_sep_lsa_e2_18\\assets\n",
      "Model has been saved\n",
      "INFO:tensorflow:Assets written to: D:/models/intel_models/C2/intel_model_c2_sep_lsa_e2_19\\assets\n",
      "Model has been saved\n"
     ]
    }
   ],
   "source": [
    "new_model_lsa_dir  = \"D:/models/intel_models/C2/intel_model_c2_sep_lsa_e2\"\n",
    "i=0\n",
    "\n",
    "for model in models_lsa:\n",
    "    model.save(new_model_lsa_dir+\"_\"+str(i))\n",
    "    i+=1"
   ]
  },
  {
   "cell_type": "code",
   "execution_count": 18,
   "id": "8e10e8c3",
   "metadata": {},
   "outputs": [
    {
     "name": "stdout",
     "output_type": "stream",
     "text": [
      "INFO:tensorflow:Assets written to: D:/models/intel_models/C2/intel_model_c2_sep_dsa_e2_0\\assets\n",
      "Model has been saved\n",
      "INFO:tensorflow:Assets written to: D:/models/intel_models/C2/intel_model_c2_sep_dsa_e2_1\\assets\n",
      "Model has been saved\n",
      "INFO:tensorflow:Assets written to: D:/models/intel_models/C2/intel_model_c2_sep_dsa_e2_2\\assets\n",
      "Model has been saved\n",
      "INFO:tensorflow:Assets written to: D:/models/intel_models/C2/intel_model_c2_sep_dsa_e2_3\\assets\n",
      "Model has been saved\n",
      "INFO:tensorflow:Assets written to: D:/models/intel_models/C2/intel_model_c2_sep_dsa_e2_4\\assets\n",
      "Model has been saved\n",
      "INFO:tensorflow:Assets written to: D:/models/intel_models/C2/intel_model_c2_sep_dsa_e2_5\\assets\n",
      "Model has been saved\n",
      "INFO:tensorflow:Assets written to: D:/models/intel_models/C2/intel_model_c2_sep_dsa_e2_6\\assets\n",
      "Model has been saved\n",
      "INFO:tensorflow:Assets written to: D:/models/intel_models/C2/intel_model_c2_sep_dsa_e2_7\\assets\n",
      "Model has been saved\n",
      "INFO:tensorflow:Assets written to: D:/models/intel_models/C2/intel_model_c2_sep_dsa_e2_8\\assets\n",
      "Model has been saved\n",
      "INFO:tensorflow:Assets written to: D:/models/intel_models/C2/intel_model_c2_sep_dsa_e2_9\\assets\n",
      "Model has been saved\n",
      "INFO:tensorflow:Assets written to: D:/models/intel_models/C2/intel_model_c2_sep_dsa_e2_10\\assets\n",
      "Model has been saved\n",
      "INFO:tensorflow:Assets written to: D:/models/intel_models/C2/intel_model_c2_sep_dsa_e2_11\\assets\n",
      "Model has been saved\n",
      "INFO:tensorflow:Assets written to: D:/models/intel_models/C2/intel_model_c2_sep_dsa_e2_12\\assets\n",
      "Model has been saved\n",
      "INFO:tensorflow:Assets written to: D:/models/intel_models/C2/intel_model_c2_sep_dsa_e2_13\\assets\n",
      "Model has been saved\n",
      "INFO:tensorflow:Assets written to: D:/models/intel_models/C2/intel_model_c2_sep_dsa_e2_14\\assets\n",
      "Model has been saved\n",
      "INFO:tensorflow:Assets written to: D:/models/intel_models/C2/intel_model_c2_sep_dsa_e2_15\\assets\n",
      "Model has been saved\n",
      "INFO:tensorflow:Assets written to: D:/models/intel_models/C2/intel_model_c2_sep_dsa_e2_16\\assets\n",
      "Model has been saved\n",
      "INFO:tensorflow:Assets written to: D:/models/intel_models/C2/intel_model_c2_sep_dsa_e2_17\\assets\n",
      "Model has been saved\n",
      "INFO:tensorflow:Assets written to: D:/models/intel_models/C2/intel_model_c2_sep_dsa_e2_18\\assets\n",
      "Model has been saved\n",
      "INFO:tensorflow:Assets written to: D:/models/intel_models/C2/intel_model_c2_sep_dsa_e2_19\\assets\n",
      "Model has been saved\n"
     ]
    }
   ],
   "source": [
    "new_model_dsa_dir  = \"D:/models/intel_models/C2/intel_model_c2_sep_dsa_e2\"\n",
    "i=0\n",
    "for model in models_dsa:\n",
    "    model.save(new_model_dsa_dir+\"_\"+str(i))\n",
    "    i+=1"
   ]
  },
  {
   "cell_type": "code",
   "execution_count": 19,
   "id": "f6406565",
   "metadata": {},
   "outputs": [
    {
     "name": "stdout",
     "output_type": "stream",
     "text": [
      "INFO:tensorflow:Assets written to: D:/models/intel_models/C2/intel_model_c2_sep_random_e2_0\\assets\n",
      "Model has been saved\n",
      "INFO:tensorflow:Assets written to: D:/models/intel_models/C2/intel_model_c2_sep_random_e2_1\\assets\n",
      "Model has been saved\n",
      "INFO:tensorflow:Assets written to: D:/models/intel_models/C2/intel_model_c2_sep_random_e2_2\\assets\n",
      "Model has been saved\n",
      "INFO:tensorflow:Assets written to: D:/models/intel_models/C2/intel_model_c2_sep_random_e2_3\\assets\n",
      "Model has been saved\n",
      "INFO:tensorflow:Assets written to: D:/models/intel_models/C2/intel_model_c2_sep_random_e2_4\\assets\n",
      "Model has been saved\n",
      "INFO:tensorflow:Assets written to: D:/models/intel_models/C2/intel_model_c2_sep_random_e2_5\\assets\n",
      "Model has been saved\n",
      "INFO:tensorflow:Assets written to: D:/models/intel_models/C2/intel_model_c2_sep_random_e2_6\\assets\n",
      "Model has been saved\n",
      "INFO:tensorflow:Assets written to: D:/models/intel_models/C2/intel_model_c2_sep_random_e2_7\\assets\n",
      "Model has been saved\n",
      "INFO:tensorflow:Assets written to: D:/models/intel_models/C2/intel_model_c2_sep_random_e2_8\\assets\n",
      "Model has been saved\n",
      "INFO:tensorflow:Assets written to: D:/models/intel_models/C2/intel_model_c2_sep_random_e2_9\\assets\n",
      "Model has been saved\n",
      "INFO:tensorflow:Assets written to: D:/models/intel_models/C2/intel_model_c2_sep_random_e2_10\\assets\n",
      "Model has been saved\n",
      "INFO:tensorflow:Assets written to: D:/models/intel_models/C2/intel_model_c2_sep_random_e2_11\\assets\n",
      "Model has been saved\n",
      "INFO:tensorflow:Assets written to: D:/models/intel_models/C2/intel_model_c2_sep_random_e2_12\\assets\n",
      "Model has been saved\n",
      "INFO:tensorflow:Assets written to: D:/models/intel_models/C2/intel_model_c2_sep_random_e2_13\\assets\n",
      "Model has been saved\n",
      "INFO:tensorflow:Assets written to: D:/models/intel_models/C2/intel_model_c2_sep_random_e2_14\\assets\n",
      "Model has been saved\n",
      "INFO:tensorflow:Assets written to: D:/models/intel_models/C2/intel_model_c2_sep_random_e2_15\\assets\n",
      "Model has been saved\n",
      "INFO:tensorflow:Assets written to: D:/models/intel_models/C2/intel_model_c2_sep_random_e2_16\\assets\n",
      "Model has been saved\n",
      "INFO:tensorflow:Assets written to: D:/models/intel_models/C2/intel_model_c2_sep_random_e2_17\\assets\n",
      "Model has been saved\n",
      "INFO:tensorflow:Assets written to: D:/models/intel_models/C2/intel_model_c2_sep_random_e2_18\\assets\n",
      "Model has been saved\n",
      "INFO:tensorflow:Assets written to: D:/models/intel_models/C2/intel_model_c2_sep_random_e2_19\\assets\n",
      "Model has been saved\n"
     ]
    }
   ],
   "source": [
    "new_model_random_dir  = \"D:/models/intel_models/C2/intel_model_c2_sep_random_e2\"\n",
    "\n",
    "i=0\n",
    "for model in models_random:\n",
    "    model.save(new_model_random_dir+\"_\"+str(i))\n",
    "    i+=1"
   ]
  },
  {
   "cell_type": "code",
   "execution_count": 17,
   "id": "2c03ee7e",
   "metadata": {},
   "outputs": [
    {
     "name": "stdout",
     "output_type": "stream",
     "text": [
      "INFO:tensorflow:Assets written to: D:/models/intel_models/C2/intel_model_c2_sep_nc_e2_0\\assets\n",
      "Model has been saved\n",
      "INFO:tensorflow:Assets written to: D:/models/intel_models/C2/intel_model_c2_sep_nc_e2_1\\assets\n",
      "Model has been saved\n",
      "INFO:tensorflow:Assets written to: D:/models/intel_models/C2/intel_model_c2_sep_nc_e2_2\\assets\n",
      "Model has been saved\n",
      "INFO:tensorflow:Assets written to: D:/models/intel_models/C2/intel_model_c2_sep_nc_e2_3\\assets\n",
      "Model has been saved\n",
      "INFO:tensorflow:Assets written to: D:/models/intel_models/C2/intel_model_c2_sep_nc_e2_4\\assets\n",
      "Model has been saved\n",
      "INFO:tensorflow:Assets written to: D:/models/intel_models/C2/intel_model_c2_sep_nc_e2_5\\assets\n",
      "Model has been saved\n",
      "INFO:tensorflow:Assets written to: D:/models/intel_models/C2/intel_model_c2_sep_nc_e2_6\\assets\n",
      "Model has been saved\n",
      "INFO:tensorflow:Assets written to: D:/models/intel_models/C2/intel_model_c2_sep_nc_e2_7\\assets\n",
      "Model has been saved\n",
      "INFO:tensorflow:Assets written to: D:/models/intel_models/C2/intel_model_c2_sep_nc_e2_8\\assets\n",
      "Model has been saved\n",
      "INFO:tensorflow:Assets written to: D:/models/intel_models/C2/intel_model_c2_sep_nc_e2_9\\assets\n",
      "Model has been saved\n",
      "INFO:tensorflow:Assets written to: D:/models/intel_models/C2/intel_model_c2_sep_nc_e2_10\\assets\n",
      "Model has been saved\n",
      "INFO:tensorflow:Assets written to: D:/models/intel_models/C2/intel_model_c2_sep_nc_e2_11\\assets\n",
      "Model has been saved\n",
      "INFO:tensorflow:Assets written to: D:/models/intel_models/C2/intel_model_c2_sep_nc_e2_12\\assets\n",
      "Model has been saved\n",
      "INFO:tensorflow:Assets written to: D:/models/intel_models/C2/intel_model_c2_sep_nc_e2_13\\assets\n",
      "Model has been saved\n",
      "INFO:tensorflow:Assets written to: D:/models/intel_models/C2/intel_model_c2_sep_nc_e2_14\\assets\n",
      "Model has been saved\n",
      "INFO:tensorflow:Assets written to: D:/models/intel_models/C2/intel_model_c2_sep_nc_e2_15\\assets\n",
      "Model has been saved\n",
      "INFO:tensorflow:Assets written to: D:/models/intel_models/C2/intel_model_c2_sep_nc_e2_16\\assets\n",
      "Model has been saved\n",
      "INFO:tensorflow:Assets written to: D:/models/intel_models/C2/intel_model_c2_sep_nc_e2_17\\assets\n",
      "Model has been saved\n",
      "INFO:tensorflow:Assets written to: D:/models/intel_models/C2/intel_model_c2_sep_nc_e2_18\\assets\n",
      "Model has been saved\n",
      "INFO:tensorflow:Assets written to: D:/models/intel_models/C2/intel_model_c2_sep_nc_e2_19\\assets\n",
      "Model has been saved\n"
     ]
    }
   ],
   "source": [
    "new_model_nc_dir  = \"D:/models/intel_models/C2/intel_model_c2_sep_nc_e2\"\n",
    "\n",
    "i=0\n",
    "for model in models_nc:\n",
    "    model.save(new_model_nc_dir+\"_\"+str(i))\n",
    "    i+=1"
   ]
  },
  {
   "cell_type": "code",
   "execution_count": null,
   "id": "3ec305a8",
   "metadata": {},
   "outputs": [],
   "source": []
  }
 ],
 "metadata": {
  "kernelspec": {
   "display_name": "Python 3",
   "language": "python",
   "name": "python3"
  },
  "language_info": {
   "codemirror_mode": {
    "name": "ipython",
    "version": 3
   },
   "file_extension": ".py",
   "mimetype": "text/x-python",
   "name": "python",
   "nbconvert_exporter": "python",
   "pygments_lexer": "ipython3",
   "version": "3.8.8"
  }
 },
 "nbformat": 4,
 "nbformat_minor": 5
}
