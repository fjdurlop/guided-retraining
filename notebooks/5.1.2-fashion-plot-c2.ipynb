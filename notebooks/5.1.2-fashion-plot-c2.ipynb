{
 "cells": [
  {
   "cell_type": "code",
   "execution_count": 6,
   "id": "b9156efa",
   "metadata": {},
   "outputs": [
    {
     "name": "stdout",
     "output_type": "stream",
     "text": [
      "Requirement already satisfied: pip in c:\\users\\fjdur\\appdata\\local\\programs\\python\\python39\\lib\\site-packages (23.1.1)\n",
      "Collecting pip\n",
      "  Using cached pip-23.1.2-py3-none-any.whl (2.1 MB)\n",
      "Installing collected packages: pip\n",
      "  Attempting uninstall: pip\n",
      "    Found existing installation: pip 23.1.1\n",
      "    Uninstalling pip-23.1.1:\n",
      "      Successfully uninstalled pip-23.1.1\n",
      "Successfully installed pip-23.1.2\n",
      "Note: you may need to restart the kernel to use updated packages.\n"
     ]
    },
    {
     "name": "stderr",
     "output_type": "stream",
     "text": [
      "WARNING: Ignoring invalid distribution -rotobuf (c:\\users\\fjdur\\appdata\\local\\programs\\python\\python39\\lib\\site-packages)\n",
      "WARNING: Ignoring invalid distribution -rotobuf (c:\\users\\fjdur\\appdata\\local\\programs\\python\\python39\\lib\\site-packages)\n"
     ]
    }
   ],
   "source": [
    "pip install --upgrade pip"
   ]
  },
  {
   "cell_type": "code",
   "execution_count": 2,
   "id": "bcebfa0e",
   "metadata": {},
   "outputs": [
    {
     "name": "stdout",
     "output_type": "stream",
     "text": [
      "Collecting pandas\n",
      "  Using cached pandas-2.0.1-cp39-cp39-win_amd64.whl (10.7 MB)\n",
      "Requirement already satisfied: python-dateutil>=2.8.2 in c:\\users\\fjdur\\appdata\\local\\programs\\python\\python39\\lib\\site-packages (from pandas) (2.8.2)\n",
      "Requirement already satisfied: pytz>=2020.1 in c:\\users\\fjdur\\appdata\\local\\programs\\python\\python39\\lib\\site-packages (from pandas) (2021.1)\n",
      "Requirement already satisfied: tzdata>=2022.1 in c:\\users\\fjdur\\appdata\\local\\programs\\python\\python39\\lib\\site-packages (from pandas) (2023.3)\n",
      "Requirement already satisfied: numpy>=1.20.3 in c:\\users\\fjdur\\appdata\\local\\programs\\python\\python39\\lib\\site-packages (from pandas) (1.24.3)\n",
      "Requirement already satisfied: six>=1.5 in c:\\users\\fjdur\\appdata\\local\\programs\\python\\python39\\lib\\site-packages (from python-dateutil>=2.8.2->pandas) (1.15.0)\n",
      "Installing collected packages: pandas\n",
      "Successfully installed pandas-2.0.1\n",
      "Note: you may need to restart the kernel to use updated packages.\n"
     ]
    },
    {
     "name": "stderr",
     "output_type": "stream",
     "text": [
      "WARNING: Ignoring invalid distribution -rotobuf (c:\\users\\fjdur\\appdata\\local\\programs\\python\\python39\\lib\\site-packages)\n",
      "WARNING: Ignoring invalid distribution -rotobuf (c:\\users\\fjdur\\appdata\\local\\programs\\python\\python39\\lib\\site-packages)\n"
     ]
    }
   ],
   "source": [
    "pip install pandas"
   ]
  },
  {
   "cell_type": "code",
   "execution_count": 1,
   "id": "c0c73237",
   "metadata": {},
   "outputs": [],
   "source": [
    "import pandas as pd\n",
    "import numpy as np"
   ]
  },
  {
   "cell_type": "code",
   "execution_count": 2,
   "id": "458bf345",
   "metadata": {},
   "outputs": [],
   "source": [
    "import argparse\n",
    "\n",
    "import numpy as np\n",
    "import tensorflow as tf\n",
    "import tensorflow.keras.backend as K\n",
    "\n",
    "import matplotlib.pyplot as plt\n",
    "\n",
    "#from tensorflow.keras.utils import np_utils\n",
    "#from tensorflow.keras.models import Sequential\n",
    "#from tensorflow.keras.layers import Dense, Dropout, Activation, Flatten, Conv2D, MaxPooling2D\n",
    "#from tensorflow.keras.regularizers import l2\n",
    "\n",
    "import glob\n",
    "import os\n",
    "import cv2\n",
    "import tensorflow.keras\n",
    "\n",
    "\n",
    "import time\n",
    "import argparse\n",
    "\n",
    "from tqdm import tqdm\n",
    "\n",
    "from tensorflow.keras.models import load_model, Model\n",
    "\n",
    "import pandas as pd\n"
   ]
  },
  {
   "cell_type": "code",
   "execution_count": 3,
   "id": "d87645a5",
   "metadata": {},
   "outputs": [
    {
     "name": "stdout",
     "output_type": "stream",
     "text": [
      "D:\\guided-retraining\\utils\n"
     ]
    }
   ],
   "source": [
    "cd ../utils"
   ]
  },
  {
   "cell_type": "code",
   "execution_count": 4,
   "id": "b4b5dea1",
   "metadata": {},
   "outputs": [
    {
     "name": "stdout",
     "output_type": "stream",
     "text": [
      "2.5.0\n",
      "keras\n",
      "2.5.0\n"
     ]
    }
   ],
   "source": [
    "import utils_guided_retraining2 as utils"
   ]
  },
  {
   "cell_type": "code",
   "execution_count": 5,
   "id": "a90d3511",
   "metadata": {},
   "outputs": [],
   "source": [
    "dataset = \"fashion\""
   ]
  },
  {
   "cell_type": "code",
   "execution_count": 6,
   "id": "07b34a1a",
   "metadata": {},
   "outputs": [
    {
     "name": "stdout",
     "output_type": "stream",
     "text": [
      "D:/guided-retraining/data/fashion/x_test.npy\n",
      "x_set len:  7001\n",
      "D:/guided-retraining/data/fashion/y_test.npy\n",
      "y_set len:  7001\n"
     ]
    }
   ],
   "source": [
    "x_test,y_test = utils.get_data(dataset,\"Test\",True)"
   ]
  },
  {
   "cell_type": "code",
   "execution_count": 7,
   "id": "244a4fbd",
   "metadata": {},
   "outputs": [
    {
     "name": "stdout",
     "output_type": "stream",
     "text": [
      "D:/guided-retraining/data/data_adversarial_july/fashion/train_and_adversary.npy\n",
      "x_set len:  55998\n",
      "D:/guided-retraining/data/data_adversarial_july/fashion/train_and_adversary_labels.npy\n",
      "y_set len:  55998\n"
     ]
    }
   ],
   "source": [
    "x_train_and_adversary,y_train_and_adversary = utils.get_data(dataset,\"Train_and_adversary\",True)"
   ]
  },
  {
   "cell_type": "code",
   "execution_count": 8,
   "id": "739175c8",
   "metadata": {},
   "outputs": [
    {
     "name": "stdout",
     "output_type": "stream",
     "text": [
      "D:/guided-retraining/data/data_adversarial_july/fashion/test_and_adversary.npy D:/guided-retraining/data/data_adversarial_july/fashion/test_and_adversary_labels.npy\n",
      "D:/guided-retraining/data/data_adversarial_july/fashion/test_and_adversary.npy\n",
      "x_set len:  14000\n",
      "D:/guided-retraining/data/data_adversarial_july/fashion/test_and_adversary_labels.npy\n",
      "y_set len:  14000\n"
     ]
    }
   ],
   "source": [
    "x_test_and_adversary,y_test_and_adversary = utils.get_adversarial_data(dataset,'Test_adversarial', True) "
   ]
  },
  {
   "cell_type": "code",
   "execution_count": 9,
   "id": "0875bdf0",
   "metadata": {},
   "outputs": [],
   "source": [
    "\n",
    "model_dir = \"C:/Users/fjdur/Documents/upc-july/models/tf_model_25-06/\"\n",
    "if(dataset == 'gtsrb'):\n",
    "    model_dir = \"C:/Users/fjdur/Documents/upc-july/models/tf_model_25-06\"\n",
    "elif(dataset == 'intel'):\n",
    "    model_dir = \"C:/Users/fjdur/Documents/upc-july/models/intel_model_21_10\"\n",
    "elif(dataset == 'mnist'):\n",
    "    model_dir = \"C:/Users/fjdur/Documents/upc-july/models/models2\"\n",
    "elif(dataset == 'cifar'):\n",
    "    model_dir = \"C:/Users/fjdur/Documents/upc-july/models/model_02\"\n",
    "elif(dataset == 'fashion'):\n",
    "    model_dir = \"D:/guided-retraining/models/model_fashion_2\"\n"
   ]
  },
  {
   "cell_type": "code",
   "execution_count": 10,
   "id": "1485065e",
   "metadata": {},
   "outputs": [
    {
     "name": "stdout",
     "output_type": "stream",
     "text": [
      "D:/guided-retraining/models/model_fashion_2\n",
      "D:/guided-retraining/models/model_fashion_2\n",
      "Model loaded correctly\n"
     ]
    }
   ],
   "source": [
    "print(model_dir)\n",
    "model_original = utils.My_model(dataset,True, model_dir)"
   ]
  },
  {
   "cell_type": "markdown",
   "id": "48e95400",
   "metadata": {},
   "source": [
    "## Loading models"
   ]
  },
  {
   "cell_type": "code",
   "execution_count": 11,
   "id": "a22156f9",
   "metadata": {},
   "outputs": [],
   "source": [
    "data_dir = \"D:/models/aug_22\"\n",
    "dataset = \"fashion\"\n",
    "config = \"C2\"\n",
    "config_lc = \"c2\"\n",
    "num_models = 20"
   ]
  },
  {
   "cell_type": "code",
   "execution_count": 13,
   "id": "c0dc05ec",
   "metadata": {},
   "outputs": [
    {
     "name": "stdout",
     "output_type": "stream",
     "text": [
      "D:/models/aug_22/fashion/C2/fashion_model_c2_may_lsa_e1_0\n",
      "Model loaded correctly\n",
      "D:/models/aug_22/fashion/C2/fashion_model_c2_may_lsa_e1_1\n",
      "Model loaded correctly\n",
      "D:/models/aug_22/fashion/C2/fashion_model_c2_may_lsa_e1_2\n",
      "Model loaded correctly\n",
      "D:/models/aug_22/fashion/C2/fashion_model_c2_may_lsa_e1_3\n",
      "Model loaded correctly\n",
      "D:/models/aug_22/fashion/C2/fashion_model_c2_may_lsa_e1_4\n",
      "Model loaded correctly\n",
      "D:/models/aug_22/fashion/C2/fashion_model_c2_may_lsa_e1_5\n",
      "Model loaded correctly\n",
      "D:/models/aug_22/fashion/C2/fashion_model_c2_may_lsa_e1_6\n",
      "Model loaded correctly\n",
      "D:/models/aug_22/fashion/C2/fashion_model_c2_may_lsa_e1_7\n",
      "Model loaded correctly\n",
      "D:/models/aug_22/fashion/C2/fashion_model_c2_may_lsa_e1_8\n",
      "Model loaded correctly\n",
      "D:/models/aug_22/fashion/C2/fashion_model_c2_may_lsa_e1_9\n",
      "Model loaded correctly\n",
      "D:/models/aug_22/fashion/C2/fashion_model_c2_may_lsa_e1_10\n",
      "Model loaded correctly\n",
      "D:/models/aug_22/fashion/C2/fashion_model_c2_may_lsa_e1_11\n",
      "Model loaded correctly\n",
      "D:/models/aug_22/fashion/C2/fashion_model_c2_may_lsa_e1_12\n",
      "Model loaded correctly\n",
      "D:/models/aug_22/fashion/C2/fashion_model_c2_may_lsa_e1_13\n",
      "Model loaded correctly\n",
      "D:/models/aug_22/fashion/C2/fashion_model_c2_may_lsa_e1_14\n",
      "Model loaded correctly\n",
      "D:/models/aug_22/fashion/C2/fashion_model_c2_may_lsa_e1_15\n",
      "Model loaded correctly\n",
      "D:/models/aug_22/fashion/C2/fashion_model_c2_may_lsa_e1_16\n",
      "Model loaded correctly\n",
      "D:/models/aug_22/fashion/C2/fashion_model_c2_may_lsa_e1_17\n",
      "Model loaded correctly\n",
      "D:/models/aug_22/fashion/C2/fashion_model_c2_may_lsa_e1_18\n",
      "Model loaded correctly\n",
      "D:/models/aug_22/fashion/C2/fashion_model_c2_may_lsa_e1_19\n",
      "Model loaded correctly\n"
     ]
    }
   ],
   "source": [
    "loading = True\n",
    "\n",
    "models_lsa = []\n",
    "\n",
    "if loading:\n",
    "    for i in range(num_models):\n",
    "        model_lsa_dir = data_dir+\"/\"+dataset+\"/C2/\"+dataset+\"_model_c2_may_lsa_e1_\"+str(i)\n",
    "        print(model_lsa_dir)\n",
    "        model =utils.My_model(dataset,True,model_lsa_dir)\n",
    "        model.model.compile(loss= 'categorical_crossentropy', optimizer = 'rmsprop', metrics = ['accuracy',tf.keras.metrics.Precision(), tf.keras.metrics.Recall()])\n",
    "        models_lsa.append(model)\n",
    "       \n",
    "    "
   ]
  },
  {
   "cell_type": "code",
   "execution_count": 14,
   "id": "6499958d",
   "metadata": {},
   "outputs": [
    {
     "data": {
      "text/plain": [
       "20"
      ]
     },
     "execution_count": 14,
     "metadata": {},
     "output_type": "execute_result"
    }
   ],
   "source": [
    "len(models_lsa)"
   ]
  },
  {
   "cell_type": "code",
   "execution_count": 12,
   "id": "da4d6ed4",
   "metadata": {},
   "outputs": [
    {
     "name": "stdout",
     "output_type": "stream",
     "text": [
      "D:/models/aug_22/fashion/C2_2/fashion_model_c2_may_dsa_e1_0\n",
      "Model loaded correctly\n",
      "D:/models/aug_22/fashion/C2_2/fashion_model_c2_may_dsa_e1_1\n",
      "Model loaded correctly\n",
      "D:/models/aug_22/fashion/C2_2/fashion_model_c2_may_dsa_e1_2\n",
      "Model loaded correctly\n",
      "D:/models/aug_22/fashion/C2_2/fashion_model_c2_may_dsa_e1_3\n",
      "Model loaded correctly\n",
      "D:/models/aug_22/fashion/C2_2/fashion_model_c2_may_dsa_e1_4\n",
      "Model loaded correctly\n",
      "D:/models/aug_22/fashion/C2_2/fashion_model_c2_may_dsa_e1_5\n",
      "Model loaded correctly\n",
      "D:/models/aug_22/fashion/C2_2/fashion_model_c2_may_dsa_e1_6\n",
      "Model loaded correctly\n",
      "D:/models/aug_22/fashion/C2_2/fashion_model_c2_may_dsa_e1_7\n",
      "Model loaded correctly\n",
      "D:/models/aug_22/fashion/C2_2/fashion_model_c2_may_dsa_e1_8\n",
      "Model loaded correctly\n",
      "D:/models/aug_22/fashion/C2_2/fashion_model_c2_may_dsa_e1_9\n",
      "Model loaded correctly\n",
      "D:/models/aug_22/fashion/C2_2/fashion_model_c2_may_dsa_e1_10\n",
      "Model loaded correctly\n",
      "D:/models/aug_22/fashion/C2_2/fashion_model_c2_may_dsa_e1_11\n",
      "Model loaded correctly\n",
      "D:/models/aug_22/fashion/C2_2/fashion_model_c2_may_dsa_e1_12\n",
      "Model loaded correctly\n",
      "D:/models/aug_22/fashion/C2_2/fashion_model_c2_may_dsa_e1_13\n",
      "Model loaded correctly\n",
      "D:/models/aug_22/fashion/C2_2/fashion_model_c2_may_dsa_e1_14\n",
      "Model loaded correctly\n",
      "D:/models/aug_22/fashion/C2_2/fashion_model_c2_may_dsa_e1_15\n",
      "Model loaded correctly\n",
      "D:/models/aug_22/fashion/C2_2/fashion_model_c2_may_dsa_e1_16\n",
      "Model loaded correctly\n",
      "D:/models/aug_22/fashion/C2_2/fashion_model_c2_may_dsa_e1_17\n",
      "Model loaded correctly\n",
      "D:/models/aug_22/fashion/C2_2/fashion_model_c2_may_dsa_e1_18\n",
      "Model loaded correctly\n",
      "D:/models/aug_22/fashion/C2_2/fashion_model_c2_may_dsa_e1_19\n",
      "Model loaded correctly\n"
     ]
    }
   ],
   "source": [
    "loading = True\n",
    "\n",
    "models_dsa = []\n",
    "\n",
    "if loading:\n",
    "    for i in range(num_models):\n",
    "        #model_dsa_dir = \"D:/models/gtsrb_models/C1/gtsrb_model_c1_sep_dsa_e2_\"+str(i)\n",
    "        model_dsa_dir = data_dir+\"/\"+dataset+\"/C2_2/\"+dataset+\"_model_c2_may_dsa_e1_\"+str(i)\n",
    "        print(model_dsa_dir)\n",
    "        model =utils.My_model(dataset,True,model_dsa_dir)\n",
    "        model.model.compile(loss= 'categorical_crossentropy', optimizer = 'rmsprop', metrics = ['accuracy',tf.keras.metrics.Precision(), tf.keras.metrics.Recall()])\n",
    "        models_dsa.append(model)\n",
    "       \n",
    "\n",
    "    "
   ]
  },
  {
   "cell_type": "code",
   "execution_count": 13,
   "id": "0a4a7c64",
   "metadata": {
    "scrolled": true
   },
   "outputs": [
    {
     "name": "stdout",
     "output_type": "stream",
     "text": [
      "D:/models/aug_22/fashion/C2_2/fashion_model_c2_may_dg_e1_0\n",
      "Model loaded correctly\n",
      "D:/models/aug_22/fashion/C2_2/fashion_model_c2_may_dg_e1_1\n",
      "Model loaded correctly\n",
      "D:/models/aug_22/fashion/C2_2/fashion_model_c2_may_dg_e1_2\n",
      "Model loaded correctly\n",
      "D:/models/aug_22/fashion/C2_2/fashion_model_c2_may_dg_e1_3\n",
      "Model loaded correctly\n",
      "D:/models/aug_22/fashion/C2_2/fashion_model_c2_may_dg_e1_4\n",
      "Model loaded correctly\n",
      "D:/models/aug_22/fashion/C2_2/fashion_model_c2_may_dg_e1_5\n",
      "Model loaded correctly\n",
      "D:/models/aug_22/fashion/C2_2/fashion_model_c2_may_dg_e1_6\n",
      "Model loaded correctly\n",
      "D:/models/aug_22/fashion/C2_2/fashion_model_c2_may_dg_e1_7\n",
      "Model loaded correctly\n",
      "D:/models/aug_22/fashion/C2_2/fashion_model_c2_may_dg_e1_8\n",
      "Model loaded correctly\n",
      "D:/models/aug_22/fashion/C2_2/fashion_model_c2_may_dg_e1_9\n",
      "Model loaded correctly\n",
      "D:/models/aug_22/fashion/C2_2/fashion_model_c2_may_dg_e1_10\n",
      "Model loaded correctly\n",
      "D:/models/aug_22/fashion/C2_2/fashion_model_c2_may_dg_e1_11\n",
      "Model loaded correctly\n",
      "D:/models/aug_22/fashion/C2_2/fashion_model_c2_may_dg_e1_12\n",
      "Model loaded correctly\n",
      "D:/models/aug_22/fashion/C2_2/fashion_model_c2_may_dg_e1_13\n",
      "Model loaded correctly\n",
      "D:/models/aug_22/fashion/C2_2/fashion_model_c2_may_dg_e1_14\n",
      "Model loaded correctly\n",
      "D:/models/aug_22/fashion/C2_2/fashion_model_c2_may_dg_e1_15\n",
      "Model loaded correctly\n",
      "D:/models/aug_22/fashion/C2_2/fashion_model_c2_may_dg_e1_16\n",
      "Model loaded correctly\n",
      "D:/models/aug_22/fashion/C2_2/fashion_model_c2_may_dg_e1_17\n",
      "Model loaded correctly\n",
      "D:/models/aug_22/fashion/C2_2/fashion_model_c2_may_dg_e1_18\n",
      "Model loaded correctly\n",
      "D:/models/aug_22/fashion/C2_2/fashion_model_c2_may_dg_e1_19\n",
      "Model loaded correctly\n"
     ]
    }
   ],
   "source": [
    "loading = True\n",
    "\n",
    "models_dg = []\n",
    "\n",
    "if loading:\n",
    "    for i in range(num_models):\n",
    "        #model_dg_dir = \"D:/models/aug_22/gtsrb/C1/gtsrb_model_c1_aug_gn_e1_\"+str(i)\n",
    "        model_dg_dir = data_dir+\"/\"+dataset+\"/C2_2/\"+dataset+\"_model_c2_may_dg_e1_\"+str(i)\n",
    "        \n",
    "        print(model_dg_dir)\n",
    "        model =utils.My_model(dataset,True,model_dg_dir)\n",
    "        model.model.compile(loss= 'categorical_crossentropy', optimizer = 'rmsprop', metrics = ['accuracy',tf.keras.metrics.Precision(), tf.keras.metrics.Recall()])\n",
    "        models_dg.append(model)\n",
    "       \n",
    "    "
   ]
  },
  {
   "cell_type": "code",
   "execution_count": 14,
   "id": "9301cc38",
   "metadata": {},
   "outputs": [
    {
     "name": "stdout",
     "output_type": "stream",
     "text": [
      "D:/models/aug_22/fashion/C2_2/fashion_model_c2_may_se_e1_0\n",
      "Model loaded correctly\n",
      "D:/models/aug_22/fashion/C2_2/fashion_model_c2_may_se_e1_1\n",
      "Model loaded correctly\n",
      "D:/models/aug_22/fashion/C2_2/fashion_model_c2_may_se_e1_2\n",
      "Model loaded correctly\n",
      "D:/models/aug_22/fashion/C2_2/fashion_model_c2_may_se_e1_3\n",
      "Model loaded correctly\n",
      "D:/models/aug_22/fashion/C2_2/fashion_model_c2_may_se_e1_4\n",
      "Model loaded correctly\n",
      "D:/models/aug_22/fashion/C2_2/fashion_model_c2_may_se_e1_5\n",
      "Model loaded correctly\n",
      "D:/models/aug_22/fashion/C2_2/fashion_model_c2_may_se_e1_6\n",
      "Model loaded correctly\n",
      "D:/models/aug_22/fashion/C2_2/fashion_model_c2_may_se_e1_7\n",
      "Model loaded correctly\n",
      "D:/models/aug_22/fashion/C2_2/fashion_model_c2_may_se_e1_8\n",
      "Model loaded correctly\n",
      "D:/models/aug_22/fashion/C2_2/fashion_model_c2_may_se_e1_9\n",
      "Model loaded correctly\n",
      "D:/models/aug_22/fashion/C2_2/fashion_model_c2_may_se_e1_10\n",
      "Model loaded correctly\n",
      "D:/models/aug_22/fashion/C2_2/fashion_model_c2_may_se_e1_11\n",
      "Model loaded correctly\n",
      "D:/models/aug_22/fashion/C2_2/fashion_model_c2_may_se_e1_12\n",
      "Model loaded correctly\n",
      "D:/models/aug_22/fashion/C2_2/fashion_model_c2_may_se_e1_13\n",
      "Model loaded correctly\n",
      "D:/models/aug_22/fashion/C2_2/fashion_model_c2_may_se_e1_14\n",
      "Model loaded correctly\n",
      "D:/models/aug_22/fashion/C2_2/fashion_model_c2_may_se_e1_15\n",
      "Model loaded correctly\n",
      "D:/models/aug_22/fashion/C2_2/fashion_model_c2_may_se_e1_16\n",
      "Model loaded correctly\n",
      "D:/models/aug_22/fashion/C2_2/fashion_model_c2_may_se_e1_17\n",
      "Model loaded correctly\n",
      "D:/models/aug_22/fashion/C2_2/fashion_model_c2_may_se_e1_18\n",
      "Model loaded correctly\n",
      "D:/models/aug_22/fashion/C2_2/fashion_model_c2_may_se_e1_19\n",
      "Model loaded correctly\n"
     ]
    }
   ],
   "source": [
    "loading = True\n",
    "\n",
    "models_se = []\n",
    "\n",
    "if loading:\n",
    "    for i in range(num_models):\n",
    "        \n",
    "        model_se_dir = data_dir+\"/\"+dataset+\"/C2_2/\"+dataset+\"_model_c2_may_se_e1_\"+str(i)\n",
    "        \n",
    "        print(model_se_dir)\n",
    "        model =utils.My_model(dataset,True,model_se_dir)\n",
    "        model.model.compile(loss= 'categorical_crossentropy', optimizer = 'rmsprop', metrics = ['accuracy',tf.keras.metrics.Precision(), tf.keras.metrics.Recall()])\n",
    "        models_se.append(model)"
   ]
  },
  {
   "cell_type": "code",
   "execution_count": 18,
   "id": "eb1718e3",
   "metadata": {},
   "outputs": [
    {
     "name": "stdout",
     "output_type": "stream",
     "text": [
      "D:/models/aug_22/fashion/C2/fashion_model_c2_may_random_e1_0\n",
      "Model loaded correctly\n",
      "D:/models/aug_22/fashion/C2/fashion_model_c2_may_random_e1_1\n",
      "Model loaded correctly\n",
      "D:/models/aug_22/fashion/C2/fashion_model_c2_may_random_e1_2\n",
      "Model loaded correctly\n",
      "D:/models/aug_22/fashion/C2/fashion_model_c2_may_random_e1_3\n",
      "Model loaded correctly\n",
      "D:/models/aug_22/fashion/C2/fashion_model_c2_may_random_e1_4\n",
      "Model loaded correctly\n",
      "D:/models/aug_22/fashion/C2/fashion_model_c2_may_random_e1_5\n",
      "Model loaded correctly\n",
      "D:/models/aug_22/fashion/C2/fashion_model_c2_may_random_e1_6\n",
      "Model loaded correctly\n",
      "D:/models/aug_22/fashion/C2/fashion_model_c2_may_random_e1_7\n",
      "Model loaded correctly\n",
      "D:/models/aug_22/fashion/C2/fashion_model_c2_may_random_e1_8\n",
      "Model loaded correctly\n",
      "D:/models/aug_22/fashion/C2/fashion_model_c2_may_random_e1_9\n",
      "Model loaded correctly\n",
      "D:/models/aug_22/fashion/C2/fashion_model_c2_may_random_e1_10\n",
      "Model loaded correctly\n",
      "D:/models/aug_22/fashion/C2/fashion_model_c2_may_random_e1_11\n",
      "Model loaded correctly\n",
      "D:/models/aug_22/fashion/C2/fashion_model_c2_may_random_e1_12\n",
      "Model loaded correctly\n",
      "D:/models/aug_22/fashion/C2/fashion_model_c2_may_random_e1_13\n",
      "Model loaded correctly\n",
      "D:/models/aug_22/fashion/C2/fashion_model_c2_may_random_e1_14\n",
      "Model loaded correctly\n",
      "D:/models/aug_22/fashion/C2/fashion_model_c2_may_random_e1_15\n",
      "Model loaded correctly\n",
      "D:/models/aug_22/fashion/C2/fashion_model_c2_may_random_e1_16\n",
      "Model loaded correctly\n",
      "D:/models/aug_22/fashion/C2/fashion_model_c2_may_random_e1_17\n",
      "Model loaded correctly\n",
      "D:/models/aug_22/fashion/C2/fashion_model_c2_may_random_e1_18\n",
      "Model loaded correctly\n",
      "D:/models/aug_22/fashion/C2/fashion_model_c2_may_random_e1_19\n",
      "Model loaded correctly\n"
     ]
    }
   ],
   "source": [
    "loading = True\n",
    "\n",
    "models_random = []\n",
    "\n",
    "if loading:\n",
    "    for i in range(num_models):\n",
    "        #model_random_dir = \"D:/models/aug_22/gtsrb/C1/gtsrb_model_c1_aug_random_e1_\"+str(i)\n",
    "        model_random_dir = data_dir+\"/\"+dataset+\"/C2/\"+dataset+\"_model_c2_may_random_e1_\"+str(i)\n",
    "        \n",
    "        print(model_random_dir)\n",
    "        model =utils.My_model(dataset,True,model_random_dir)\n",
    "        model.model.compile(loss= 'categorical_crossentropy', optimizer = 'rmsprop', metrics = ['accuracy',tf.keras.metrics.Precision(), tf.keras.metrics.Recall()])\n",
    "        models_random.append(model)\n",
    "       "
   ]
  },
  {
   "cell_type": "code",
   "execution_count": 19,
   "id": "b9860981",
   "metadata": {
    "scrolled": true
   },
   "outputs": [
    {
     "name": "stdout",
     "output_type": "stream",
     "text": [
      "D:/models/aug_22/fashion/C2/fashion_model_c2_may_nc_e1_0\n",
      "Model loaded correctly\n",
      "D:/models/aug_22/fashion/C2/fashion_model_c2_may_nc_e1_1\n",
      "Model loaded correctly\n",
      "D:/models/aug_22/fashion/C2/fashion_model_c2_may_nc_e1_2\n",
      "Model loaded correctly\n",
      "D:/models/aug_22/fashion/C2/fashion_model_c2_may_nc_e1_3\n",
      "Model loaded correctly\n",
      "D:/models/aug_22/fashion/C2/fashion_model_c2_may_nc_e1_4\n",
      "Model loaded correctly\n",
      "D:/models/aug_22/fashion/C2/fashion_model_c2_may_nc_e1_5\n",
      "Model loaded correctly\n",
      "D:/models/aug_22/fashion/C2/fashion_model_c2_may_nc_e1_6\n",
      "Model loaded correctly\n",
      "D:/models/aug_22/fashion/C2/fashion_model_c2_may_nc_e1_7\n",
      "Model loaded correctly\n",
      "D:/models/aug_22/fashion/C2/fashion_model_c2_may_nc_e1_8\n",
      "Model loaded correctly\n",
      "D:/models/aug_22/fashion/C2/fashion_model_c2_may_nc_e1_9\n",
      "Model loaded correctly\n",
      "D:/models/aug_22/fashion/C2/fashion_model_c2_may_nc_e1_10\n",
      "Model loaded correctly\n",
      "D:/models/aug_22/fashion/C2/fashion_model_c2_may_nc_e1_11\n",
      "Model loaded correctly\n",
      "D:/models/aug_22/fashion/C2/fashion_model_c2_may_nc_e1_12\n",
      "Model loaded correctly\n",
      "D:/models/aug_22/fashion/C2/fashion_model_c2_may_nc_e1_13\n",
      "Model loaded correctly\n",
      "D:/models/aug_22/fashion/C2/fashion_model_c2_may_nc_e1_14\n",
      "Model loaded correctly\n",
      "D:/models/aug_22/fashion/C2/fashion_model_c2_may_nc_e1_15\n",
      "Model loaded correctly\n",
      "D:/models/aug_22/fashion/C2/fashion_model_c2_may_nc_e1_16\n",
      "Model loaded correctly\n",
      "D:/models/aug_22/fashion/C2/fashion_model_c2_may_nc_e1_17\n",
      "Model loaded correctly\n",
      "D:/models/aug_22/fashion/C2/fashion_model_c2_may_nc_e1_18\n",
      "Model loaded correctly\n",
      "D:/models/aug_22/fashion/C2/fashion_model_c2_may_nc_e1_19\n",
      "Model loaded correctly\n"
     ]
    }
   ],
   "source": [
    "loading = True\n",
    "\n",
    "models_nc = []\n",
    "\n",
    "if loading:\n",
    "    for i in range(num_models):\n",
    "        #model_nc_dir = \"D:/models/aug_22/\"+dataset+\"/C1/\"+dataset+\"_model_c1_aug_nc_e1\"+str\n",
    "        model_nc_dir = data_dir+\"/\"+dataset+\"/C2/\"+dataset+\"_model_c2_may_nc_e1_\"+str(i)\n",
    "        print(model_nc_dir)\n",
    "        model =utils.My_model(dataset,True,model_nc_dir)\n",
    "        model.model.compile(loss= 'categorical_crossentropy', optimizer = 'rmsprop', metrics = ['accuracy',tf.keras.metrics.Precision(), tf.keras.metrics.Recall()])\n",
    "        models_nc.append(model)"
   ]
  },
  {
   "cell_type": "markdown",
   "id": "e02952dc",
   "metadata": {},
   "source": [
    "## Evaluating"
   ]
  },
  {
   "cell_type": "code",
   "execution_count": 15,
   "id": "cbc59f41",
   "metadata": {},
   "outputs": [],
   "source": [
    "model_original.model.compile(loss= 'categorical_crossentropy', optimizer = 'rmsprop', metrics = ['accuracy',tf.keras.metrics.Precision(), tf.keras.metrics.Recall()])"
   ]
  },
  {
   "cell_type": "code",
   "execution_count": 16,
   "id": "286ee29c",
   "metadata": {},
   "outputs": [
    {
     "name": "stdout",
     "output_type": "stream",
     "text": [
      "438/438 [==============================] - 7s 14ms/step - loss: 0.5032 - accuracy: 0.8342 - precision_60: 0.8589 - recall_60: 0.8172\n",
      "438/438 [==============================] - 6s 14ms/step - loss: 0.5032 - accuracy: 0.8342 - precision_60: 0.8589 - recall_60: 0.8172\n",
      "438/438 [==============================] - 6s 14ms/step - loss: 0.5032 - accuracy: 0.8342 - precision_60: 0.8589 - recall_60: 0.8172\n"
     ]
    }
   ],
   "source": [
    "#evaluate_lsa = []\n",
    "evaluate_dsa = []\n",
    "evaluate_dg = []\n",
    "evaluate_se = []\n",
    "#evaluate_nc = []\n",
    "#evaluate_random = []\n",
    "\n",
    "#evaluate_lsa.append(model_original.evaluate(x_test_and_adversary,y_test_and_adversary))\n",
    "evaluate_dsa.append(model_original.evaluate(x_test_and_adversary,y_test_and_adversary))\n",
    "evaluate_dg.append(model_original.evaluate(x_test_and_adversary,y_test_and_adversary))\n",
    "evaluate_se.append(model_original.evaluate(x_test_and_adversary,y_test_and_adversary))\n",
    "#evaluate_nc.append(model_original.evaluate(x_test_and_adversary,y_test_and_adversary))\n",
    "#evaluate_random.append(model_original.evaluate(x_test_and_adversary,y_test_and_adversary))"
   ]
  },
  {
   "cell_type": "code",
   "execution_count": 17,
   "id": "30633373",
   "metadata": {},
   "outputs": [
    {
     "name": "stdout",
     "output_type": "stream",
     "text": [
      "Evaluating for dsa\n",
      "438/438 [==============================] - 7s 14ms/step - loss: 0.3700 - accuracy: 0.8756 - precision: 0.8900 - recall: 0.8647\n",
      "438/438 [==============================] - 8s 14ms/step - loss: 0.3115 - accuracy: 0.9039 - precision_1: 0.9154 - recall_1: 0.8961\n",
      "438/438 [==============================] - 7s 14ms/step - loss: 0.3189 - accuracy: 0.9057 - precision_2: 0.9163 - recall_2: 0.8958\n",
      "438/438 [==============================] - 7s 13ms/step - loss: 0.3298 - accuracy: 0.9084 - precision_3: 0.9179 - recall_3: 0.9021\n",
      "438/438 [==============================] - 7s 13ms/step - loss: 0.2980 - accuracy: 0.9071 - precision_4: 0.9234 - recall_4: 0.8919\n",
      "438/438 [==============================] - 7s 13ms/step - loss: 0.3143 - accuracy: 0.9035 - precision_5: 0.9191 - recall_5: 0.8906\n",
      "438/438 [==============================] - 7s 14ms/step - loss: 0.3498 - accuracy: 0.9012 - precision_6: 0.9128 - recall_6: 0.8904\n",
      "438/438 [==============================] - 7s 13ms/step - loss: 0.2981 - accuracy: 0.9087 - precision_7: 0.9225 - recall_7: 0.8949\n",
      "438/438 [==============================] - 7s 13ms/step - loss: 0.3317 - accuracy: 0.9027 - precision_8: 0.9206 - recall_8: 0.8821\n",
      "438/438 [==============================] - 7s 14ms/step - loss: 0.3857 - accuracy: 0.8949 - precision_9: 0.9059 - recall_9: 0.8847\n",
      "438/438 [==============================] - 7s 13ms/step - loss: 0.3214 - accuracy: 0.9018 - precision_10: 0.9291 - recall_10: 0.8644\n",
      "438/438 [==============================] - 7s 13ms/step - loss: 0.3961 - accuracy: 0.9034 - precision_11: 0.9119 - recall_11: 0.8983: 1s - loss: 0.3790 - accuracy: 0.9037 - precision_1\n",
      "438/438 [==============================] - 7s 13ms/step - loss: 0.3156 - accuracy: 0.8994 - precision_12: 0.9185 - recall_12: 0.8776\n",
      "438/438 [==============================] - 7s 14ms/step - loss: 0.3224 - accuracy: 0.9029 - precision_13: 0.9199 - recall_13: 0.8886\n",
      "438/438 [==============================] - 7s 13ms/step - loss: 0.3982 - accuracy: 0.8895 - precision_14: 0.9013 - recall_14: 0.8816\n",
      "438/438 [==============================] - 7s 14ms/step - loss: 0.3443 - accuracy: 0.8888 - precision_15: 0.9232 - recall_15: 0.8493\n",
      "438/438 [==============================] - 7s 13ms/step - loss: 0.3267 - accuracy: 0.8966 - precision_16: 0.9380 - recall_16: 0.8412\n",
      "438/438 [==============================] - 7s 13ms/step - loss: 0.3979 - accuracy: 0.8822 - precision_17: 0.9449 - recall_17: 0.7859\n",
      "438/438 [==============================] - 7s 13ms/step - loss: 0.3403 - accuracy: 0.8889 - precision_18: 0.9319 - recall_18: 0.8412\n",
      "438/438 [==============================] - 7s 14ms/step - loss: 0.3367 - accuracy: 0.8920 - precision_19: 0.9182 - recall_19: 0.8616: 2s - loss: 0.3189 - accuracy: 0.8930 - p\n"
     ]
    }
   ],
   "source": [
    "# Metrics using adversarial test\n",
    "\n",
    "#evaluate_lsa.append(model_original.evaluate(x_test_and_adversary,y_test_and_adversary))\n",
    "#evaluate_dsa.append(model_original.evaluate(x_test_and_adversary,y_test_and_adversary))\n",
    "#evaluate_nc.append(model_original.evaluate(x_test_and_adversary,y_test_and_adversary))\n",
    "#evaluate_random.append(model_original.evaluate(x_test_and_adversary,y_test_and_adversary))\n",
    "\"\"\"\n",
    "print(\"Evaluating for lsa\")\n",
    "for model in models_lsa:\n",
    "    evaluate_lsa.append(model.evaluate(x_test_and_adversary,y_test_and_adversary))\n",
    "    \n",
    "print(\"Evaluating for random\")\n",
    "for model in models_random:\n",
    "    evaluate_random.append(model.evaluate(x_test_and_adversary,y_test_and_adversary))\n",
    "    \n",
    "print(\"Evaluating for nc\")\n",
    "for model in models_nc:\n",
    "    evaluate_nc.append(model.evaluate(x_test_and_adversary,y_test_and_adversary))\n",
    "\"\"\"\n",
    "\n",
    "    \n",
    "print(\"Evaluating for dsa\")\n",
    "for model in models_dsa:\n",
    "    evaluate_dsa.append(model.evaluate(x_test_and_adversary,y_test_and_adversary))\n"
   ]
  },
  {
   "cell_type": "code",
   "execution_count": 18,
   "id": "ae3df5fe",
   "metadata": {},
   "outputs": [
    {
     "name": "stdout",
     "output_type": "stream",
     "text": [
      "Evaluating for dg\n",
      "438/438 [==============================] - 7s 14ms/step - loss: 0.4573 - accuracy: 0.8663 - precision_20: 0.8843 - recall_20: 0.8503\n",
      "438/438 [==============================] - 7s 13ms/step - loss: 0.4000 - accuracy: 0.8624 - precision_21: 0.8787 - recall_21: 0.8504\n",
      "438/438 [==============================] - 7s 13ms/step - loss: 0.3706 - accuracy: 0.8741 - precision_22: 0.8918 - recall_22: 0.8589\n",
      "438/438 [==============================] - 7s 13ms/step - loss: 0.3562 - accuracy: 0.8871 - precision_23: 0.9020 - recall_23: 0.8720\n",
      "438/438 [==============================] - 7s 13ms/step - loss: 0.3419 - accuracy: 0.8921 - precision_24: 0.9093 - recall_24: 0.8791\n",
      "438/438 [==============================] - 7s 13ms/step - loss: 0.3895 - accuracy: 0.8929 - precision_25: 0.9008 - recall_25: 0.8871\n",
      "438/438 [==============================] - 7s 13ms/step - loss: 0.3175 - accuracy: 0.9036 - precision_26: 0.9225 - recall_26: 0.8845\n",
      "438/438 [==============================] - 7s 14ms/step - loss: 0.3027 - accuracy: 0.9011 - precision_27: 0.9218 - recall_27: 0.8823\n",
      "438/438 [==============================] - 7s 13ms/step - loss: 0.3023 - accuracy: 0.9044 - precision_28: 0.9241 - recall_28: 0.8814\n",
      "438/438 [==============================] - 7s 13ms/step - loss: 0.3179 - accuracy: 0.9062 - precision_29: 0.9194 - recall_29: 0.8969\n",
      "438/438 [==============================] - 7s 13ms/step - loss: 0.4033 - accuracy: 0.8929 - precision_30: 0.9010 - recall_30: 0.8854\n",
      "438/438 [==============================] - 7s 14ms/step - loss: 0.3500 - accuracy: 0.8954 - precision_31: 0.9084 - recall_31: 0.8834\n",
      "438/438 [==============================] - 7s 13ms/step - loss: 0.2867 - accuracy: 0.9018 - precision_32: 0.9314 - recall_32: 0.8683: 2s - loss: 0.2722 - accuracy: 0.9035 - \n",
      "438/438 [==============================] - 7s 13ms/step - loss: 0.3328 - accuracy: 0.8975 - precision_33: 0.9143 - recall_33: 0.8776: 4s - loss: 0\n",
      "438/438 [==============================] - 7s 14ms/step - loss: 0.4370 - accuracy: 0.8924 - precision_34: 0.8988 - recall_34: 0.8878\n",
      "438/438 [==============================] - 7s 13ms/step - loss: 0.3523 - accuracy: 0.8966 - precision_35: 0.9082 - recall_35: 0.8872\n",
      "438/438 [==============================] - 7s 13ms/step - loss: 0.2910 - accuracy: 0.9046 - precision_36: 0.9272 - recall_36: 0.8775\n",
      "438/438 [==============================] - 7s 14ms/step - loss: 0.3065 - accuracy: 0.9009 - precision_37: 0.9239 - recall_37: 0.8749\n",
      "438/438 [==============================] - 7s 13ms/step - loss: 0.4337 - accuracy: 0.8868 - precision_38: 0.8974 - recall_38: 0.8789\n",
      "438/438 [==============================] - 7s 13ms/step - loss: 0.3322 - accuracy: 0.8964 - precision_39: 0.9290 - recall_39: 0.8540\n",
      "Evaluating for se\n",
      "438/438 [==============================] - 7s 13ms/step - loss: 0.4556 - accuracy: 0.8677 - precision_40: 0.8855 - recall_40: 0.8535\n",
      "438/438 [==============================] - 7s 14ms/step - loss: 0.4114 - accuracy: 0.8774 - precision_41: 0.8935 - recall_41: 0.8644\n",
      "438/438 [==============================] - 7s 14ms/step - loss: 0.3695 - accuracy: 0.8777 - precision_42: 0.8932 - recall_42: 0.8593: 3s - loss: 0.25\n",
      "438/438 [==============================] - 7s 14ms/step - loss: 0.3561 - accuracy: 0.8888 - precision_43: 0.9022 - recall_43: 0.8755\n",
      "438/438 [==============================] - 8s 15ms/step - loss: 0.3283 - accuracy: 0.8975 - precision_44: 0.9108 - recall_44: 0.8851\n",
      "438/438 [==============================] - 7s 14ms/step - loss: 0.3099 - accuracy: 0.9030 - precision_45: 0.9246 - recall_45: 0.8821: 4s - loss: 0.2543 - - ETA: 0s - loss: 0.2937 - accuracy: 0.9076 - precision_45: 0.9285 - recall_45: \n",
      "438/438 [==============================] - 7s 14ms/step - loss: 0.3760 - accuracy: 0.8973 - precision_46: 0.9064 - recall_46: 0.8899\n",
      "438/438 [==============================] - 7s 13ms/step - loss: 0.3092 - accuracy: 0.9046 - precision_47: 0.9183 - recall_47: 0.8920\n",
      "438/438 [==============================] - 7s 14ms/step - loss: 0.3072 - accuracy: 0.9020 - precision_48: 0.9209 - recall_48: 0.8846\n",
      "438/438 [==============================] - 7s 14ms/step - loss: 0.3293 - accuracy: 0.9014 - precision_49: 0.9141 - recall_49: 0.8912\n",
      "438/438 [==============================] - 7s 13ms/step - loss: 0.3412 - accuracy: 0.9030 - precision_50: 0.9120 - recall_50: 0.8954\n",
      "438/438 [==============================] - 7s 14ms/step - loss: 0.3049 - accuracy: 0.9030 - precision_51: 0.9317 - recall_51: 0.8637\n",
      "438/438 [==============================] - 7s 13ms/step - loss: 0.3005 - accuracy: 0.9061 - precision_52: 0.9302 - recall_52: 0.8811\n",
      "438/438 [==============================] - 8s 15ms/step - loss: 0.3041 - accuracy: 0.9036 - precision_53: 0.9238 - recall_53: 0.8868\n",
      "438/438 [==============================] - 7s 14ms/step - loss: 0.3064 - accuracy: 0.9092 - precision_54: 0.9237 - recall_54: 0.8941\n",
      "438/438 [==============================] - 7s 14ms/step - loss: 0.3122 - accuracy: 0.8971 - precision_55: 0.9151 - recall_55: 0.8811\n",
      "438/438 [==============================] - 8s 14ms/step - loss: 0.3161 - accuracy: 0.8997 - precision_56: 0.9189 - recall_56: 0.8817\n",
      "438/438 [==============================] - 7s 14ms/step - loss: 0.3341 - accuracy: 0.8904 - precision_57: 0.9225 - recall_57: 0.8523\n",
      "438/438 [==============================] - 7s 14ms/step - loss: 0.3541 - accuracy: 0.8891 - precision_58: 0.9039 - recall_58: 0.8770\n",
      "438/438 [==============================] - 7s 14ms/step - loss: 0.3354 - accuracy: 0.8909 - precision_59: 0.9165 - recall_59: 0.8633\n"
     ]
    }
   ],
   "source": [
    "print(\"Evaluating for dg\")\n",
    "for model in models_dg:\n",
    "    evaluate_dg.append(model.evaluate(x_test_and_adversary,y_test_and_adversary))\n",
    "    \n",
    "print(\"Evaluating for se\")\n",
    "for model in models_se:\n",
    "    evaluate_se.append(model.evaluate(x_test_and_adversary,y_test_and_adversary))\n"
   ]
  },
  {
   "cell_type": "code",
   "execution_count": 19,
   "id": "2141a097",
   "metadata": {},
   "outputs": [
    {
     "data": {
      "text/plain": [
       "21"
      ]
     },
     "execution_count": 19,
     "metadata": {},
     "output_type": "execute_result"
    }
   ],
   "source": [
    "len(evaluate_dg)"
   ]
  },
  {
   "cell_type": "code",
   "execution_count": 25,
   "id": "e48d1822",
   "metadata": {},
   "outputs": [
    {
     "data": {
      "text/plain": [
       "21"
      ]
     },
     "execution_count": 25,
     "metadata": {},
     "output_type": "execute_result"
    }
   ],
   "source": [
    "len(evaluate_nc)"
   ]
  },
  {
   "cell_type": "code",
   "execution_count": 22,
   "id": "ba831e22",
   "metadata": {},
   "outputs": [],
   "source": [
    "import pandas as pd\n",
    "\n",
    "#df_evaluate_lsa = pd.DataFrame(np.array(evaluate_lsa),columns=[\"loss\",\"accuracy\",\"precision\",\"recall\"])\n",
    "df_evaluate_dsa = pd.DataFrame(np.array(evaluate_dsa),columns=[\"loss\",\"accuracy\",\"precision\",\"recall\"])\n",
    "df_evaluate_dg = pd.DataFrame(np.array(evaluate_dg),columns=[\"loss\",\"accuracy\",\"precision\",\"recall\"])\n",
    "df_evaluate_se = pd.DataFrame(np.array(evaluate_se),columns=[\"loss\",\"accuracy\",\"precision\",\"recall\"])\n",
    "\n",
    "#df_evaluate_random = pd.DataFrame(np.array(evaluate_random),columns=[\"loss\",\"accuracy\",\"precision\",\"recall\"])\n",
    "#df_evaluate_nc = pd.DataFrame(np.array(evaluate_nc),columns=[\"loss\",\"accuracy\",\"precision\",\"recall\"])\n"
   ]
  },
  {
   "cell_type": "code",
   "execution_count": 27,
   "id": "d5eae8d4",
   "metadata": {},
   "outputs": [
    {
     "name": "stdout",
     "output_type": "stream",
     "text": [
      "D:/models/aug_22/fashion/csv_good/c2\n"
     ]
    }
   ],
   "source": [
    "save_dir = \"D:/models/aug_22/\"+dataset+\"/csv_good/\"+config_lc\n",
    "#D:\\models\\aug_22\\fashion\n",
    "print(save_dir)"
   ]
  },
  {
   "cell_type": "code",
   "execution_count": 24,
   "id": "1fcc89a7",
   "metadata": {},
   "outputs": [],
   "source": [
    "#df_evaluate_lsa.to_csv(save_dir+\"/lsa_\"+config_lc,index=False)\n",
    "df_evaluate_dsa.to_csv(save_dir+\"/dsa_\"+config_lc,index=False)\n",
    "df_evaluate_dg.to_csv(save_dir+\"/dg_\"+config_lc,index=False)\n",
    "df_evaluate_se.to_csv(save_dir+\"/se_\"+config_lc,index=False)\n",
    "#df_evaluate_random.to_csv(save_dir+\"/random_\"+config_lc,index=False)\n",
    "#df_evaluate_nc.to_csv(save_dir+\"/nc_\"+config_lc,index=False)"
   ]
  },
  {
   "cell_type": "code",
   "execution_count": 28,
   "id": "6b575e92",
   "metadata": {},
   "outputs": [],
   "source": [
    "import pandas as pd\n",
    "loading_csv = True\n",
    "if(loading_csv):\n",
    "    \n",
    "    df_evaluate_lsa = pd.read_csv(save_dir+\"/lsa_\"+config_lc)\n",
    "    df_evaluate_dsa = pd.read_csv(save_dir+\"/dsa_\"+config_lc)\n",
    "    df_evaluate_dg = pd.read_csv(save_dir+\"/dg_\"+config_lc)\n",
    "    df_evaluate_se = pd.read_csv(save_dir+\"/se_\"+config_lc)\n",
    "    df_evaluate_random = pd.read_csv(save_dir+\"/random_\"+config_lc)\n",
    "    df_evaluate_nc = pd.read_csv(save_dir+\"/nc_\"+config_lc)"
   ]
  },
  {
   "cell_type": "code",
   "execution_count": 16,
   "id": "4d682924",
   "metadata": {},
   "outputs": [
    {
     "name": "stdout",
     "output_type": "stream",
     "text": [
      "D:/models/aug_22/fashion/csv/c2\n"
     ]
    }
   ],
   "source": [
    "import pandas as pd\n",
    "loading_csv_2 = True\n",
    "if(loading_csv_2):\n",
    "    save_dir_2 = \"D:/models/aug_22/\"+dataset+\"/csv/\"+config_lc\n",
    "    print(save_dir_2)\n",
    "    df_evaluate_lsa = pd.read_csv(save_dir_2+\"/lsa_\"+config_lc)\n",
    "    #df_evaluate_dsa = pd.read_csv(save_dir_2+\"/dsa_\"+config_lc)\n",
    "    #df_evaluate_dg = pd.read_csv(save_dir_2+\"/dg_\"+config_lc)\n",
    "    #df_evaluate_se = pd.read_csv(save_dir_2+\"/se_\"+config_lc)\n",
    "    df_evaluate_random = pd.read_csv(save_dir_2+\"/random_\"+config_lc)\n",
    "    df_evaluate_nc = pd.read_csv(save_dir_2+\"/nc_\"+config_lc)"
   ]
  },
  {
   "cell_type": "code",
   "execution_count": 29,
   "id": "434369a2",
   "metadata": {},
   "outputs": [
    {
     "data": {
      "text/html": [
       "<div>\n",
       "<style scoped>\n",
       "    .dataframe tbody tr th:only-of-type {\n",
       "        vertical-align: middle;\n",
       "    }\n",
       "\n",
       "    .dataframe tbody tr th {\n",
       "        vertical-align: top;\n",
       "    }\n",
       "\n",
       "    .dataframe thead th {\n",
       "        text-align: right;\n",
       "    }\n",
       "</style>\n",
       "<table border=\"1\" class=\"dataframe\">\n",
       "  <thead>\n",
       "    <tr style=\"text-align: right;\">\n",
       "      <th></th>\n",
       "      <th>loss</th>\n",
       "      <th>accuracy</th>\n",
       "      <th>precision</th>\n",
       "      <th>recall</th>\n",
       "    </tr>\n",
       "  </thead>\n",
       "  <tbody>\n",
       "    <tr>\n",
       "      <th>0</th>\n",
       "      <td>0.503242</td>\n",
       "      <td>0.834214</td>\n",
       "      <td>0.858934</td>\n",
       "      <td>0.817214</td>\n",
       "    </tr>\n",
       "    <tr>\n",
       "      <th>1</th>\n",
       "      <td>0.369976</td>\n",
       "      <td>0.875643</td>\n",
       "      <td>0.889951</td>\n",
       "      <td>0.864714</td>\n",
       "    </tr>\n",
       "    <tr>\n",
       "      <th>2</th>\n",
       "      <td>0.311529</td>\n",
       "      <td>0.903857</td>\n",
       "      <td>0.915366</td>\n",
       "      <td>0.896143</td>\n",
       "    </tr>\n",
       "    <tr>\n",
       "      <th>3</th>\n",
       "      <td>0.318927</td>\n",
       "      <td>0.905714</td>\n",
       "      <td>0.916338</td>\n",
       "      <td>0.895786</td>\n",
       "    </tr>\n",
       "    <tr>\n",
       "      <th>4</th>\n",
       "      <td>0.329779</td>\n",
       "      <td>0.908429</td>\n",
       "      <td>0.917872</td>\n",
       "      <td>0.902071</td>\n",
       "    </tr>\n",
       "    <tr>\n",
       "      <th>5</th>\n",
       "      <td>0.298048</td>\n",
       "      <td>0.907071</td>\n",
       "      <td>0.923390</td>\n",
       "      <td>0.891929</td>\n",
       "    </tr>\n",
       "    <tr>\n",
       "      <th>6</th>\n",
       "      <td>0.314285</td>\n",
       "      <td>0.903500</td>\n",
       "      <td>0.919130</td>\n",
       "      <td>0.890571</td>\n",
       "    </tr>\n",
       "    <tr>\n",
       "      <th>7</th>\n",
       "      <td>0.349779</td>\n",
       "      <td>0.901214</td>\n",
       "      <td>0.912786</td>\n",
       "      <td>0.890357</td>\n",
       "    </tr>\n",
       "    <tr>\n",
       "      <th>8</th>\n",
       "      <td>0.298077</td>\n",
       "      <td>0.908714</td>\n",
       "      <td>0.922539</td>\n",
       "      <td>0.894929</td>\n",
       "    </tr>\n",
       "    <tr>\n",
       "      <th>9</th>\n",
       "      <td>0.331720</td>\n",
       "      <td>0.902714</td>\n",
       "      <td>0.920605</td>\n",
       "      <td>0.882071</td>\n",
       "    </tr>\n",
       "    <tr>\n",
       "      <th>10</th>\n",
       "      <td>0.385670</td>\n",
       "      <td>0.894857</td>\n",
       "      <td>0.905939</td>\n",
       "      <td>0.884714</td>\n",
       "    </tr>\n",
       "    <tr>\n",
       "      <th>11</th>\n",
       "      <td>0.321416</td>\n",
       "      <td>0.901786</td>\n",
       "      <td>0.929131</td>\n",
       "      <td>0.864357</td>\n",
       "    </tr>\n",
       "    <tr>\n",
       "      <th>12</th>\n",
       "      <td>0.396076</td>\n",
       "      <td>0.903429</td>\n",
       "      <td>0.911899</td>\n",
       "      <td>0.898286</td>\n",
       "    </tr>\n",
       "    <tr>\n",
       "      <th>13</th>\n",
       "      <td>0.315610</td>\n",
       "      <td>0.899357</td>\n",
       "      <td>0.918517</td>\n",
       "      <td>0.877643</td>\n",
       "    </tr>\n",
       "    <tr>\n",
       "      <th>14</th>\n",
       "      <td>0.322368</td>\n",
       "      <td>0.902857</td>\n",
       "      <td>0.919920</td>\n",
       "      <td>0.888643</td>\n",
       "    </tr>\n",
       "    <tr>\n",
       "      <th>15</th>\n",
       "      <td>0.398208</td>\n",
       "      <td>0.889500</td>\n",
       "      <td>0.901344</td>\n",
       "      <td>0.881643</td>\n",
       "    </tr>\n",
       "    <tr>\n",
       "      <th>16</th>\n",
       "      <td>0.344324</td>\n",
       "      <td>0.888786</td>\n",
       "      <td>0.923208</td>\n",
       "      <td>0.849286</td>\n",
       "    </tr>\n",
       "    <tr>\n",
       "      <th>17</th>\n",
       "      <td>0.326668</td>\n",
       "      <td>0.896643</td>\n",
       "      <td>0.938033</td>\n",
       "      <td>0.841214</td>\n",
       "    </tr>\n",
       "    <tr>\n",
       "      <th>18</th>\n",
       "      <td>0.397927</td>\n",
       "      <td>0.882214</td>\n",
       "      <td>0.944945</td>\n",
       "      <td>0.785857</td>\n",
       "    </tr>\n",
       "    <tr>\n",
       "      <th>19</th>\n",
       "      <td>0.340332</td>\n",
       "      <td>0.888857</td>\n",
       "      <td>0.931872</td>\n",
       "      <td>0.841214</td>\n",
       "    </tr>\n",
       "    <tr>\n",
       "      <th>20</th>\n",
       "      <td>0.336742</td>\n",
       "      <td>0.892000</td>\n",
       "      <td>0.918170</td>\n",
       "      <td>0.861571</td>\n",
       "    </tr>\n",
       "  </tbody>\n",
       "</table>\n",
       "</div>"
      ],
      "text/plain": [
       "        loss  accuracy  precision    recall\n",
       "0   0.503242  0.834214   0.858934  0.817214\n",
       "1   0.369976  0.875643   0.889951  0.864714\n",
       "2   0.311529  0.903857   0.915366  0.896143\n",
       "3   0.318927  0.905714   0.916338  0.895786\n",
       "4   0.329779  0.908429   0.917872  0.902071\n",
       "5   0.298048  0.907071   0.923390  0.891929\n",
       "6   0.314285  0.903500   0.919130  0.890571\n",
       "7   0.349779  0.901214   0.912786  0.890357\n",
       "8   0.298077  0.908714   0.922539  0.894929\n",
       "9   0.331720  0.902714   0.920605  0.882071\n",
       "10  0.385670  0.894857   0.905939  0.884714\n",
       "11  0.321416  0.901786   0.929131  0.864357\n",
       "12  0.396076  0.903429   0.911899  0.898286\n",
       "13  0.315610  0.899357   0.918517  0.877643\n",
       "14  0.322368  0.902857   0.919920  0.888643\n",
       "15  0.398208  0.889500   0.901344  0.881643\n",
       "16  0.344324  0.888786   0.923208  0.849286\n",
       "17  0.326668  0.896643   0.938033  0.841214\n",
       "18  0.397927  0.882214   0.944945  0.785857\n",
       "19  0.340332  0.888857   0.931872  0.841214\n",
       "20  0.336742  0.892000   0.918170  0.861571"
      ]
     },
     "execution_count": 29,
     "metadata": {},
     "output_type": "execute_result"
    }
   ],
   "source": [
    "df_evaluate_dsa"
   ]
  },
  {
   "cell_type": "code",
   "execution_count": 30,
   "id": "3c21fd01",
   "metadata": {},
   "outputs": [],
   "source": [
    "\n",
    "metric =\"accuracy\"\n",
    "accuracy_lsa_3 = np.array(df_evaluate_lsa[metric])\n",
    "accuracy_dsa_3 = np.array(df_evaluate_dsa[metric])\n",
    "accuracy_dg_3 = np.array(df_evaluate_dg[metric])\n",
    "accuracy_se_3 = np.array(df_evaluate_se[metric])\n",
    "\n",
    "accuracy_nc_3 =np.array(df_evaluate_nc[metric])\n",
    "accuracy_random_3 = np.array(df_evaluate_random[metric])\n"
   ]
  },
  {
   "cell_type": "code",
   "execution_count": null,
   "id": "7aeb569b",
   "metadata": {},
   "outputs": [],
   "source": []
  },
  {
   "cell_type": "code",
   "execution_count": 19,
   "id": "9ed5051f",
   "metadata": {},
   "outputs": [],
   "source": [
    "n_data_points = 2800"
   ]
  },
  {
   "cell_type": "code",
   "execution_count": 20,
   "id": "43b61f22",
   "metadata": {},
   "outputs": [
    {
     "data": {
      "text/plain": [
       "21"
      ]
     },
     "execution_count": 20,
     "metadata": {},
     "output_type": "execute_result"
    }
   ],
   "source": [
    "len(accuracy_dsa_3)"
   ]
  },
  {
   "cell_type": "code",
   "execution_count": 21,
   "id": "f989196d",
   "metadata": {},
   "outputs": [
    {
     "data": {
      "text/plain": [
       "55998"
      ]
     },
     "execution_count": 21,
     "metadata": {},
     "output_type": "execute_result"
    }
   ],
   "source": [
    "len(x_train_and_adversary)"
   ]
  },
  {
   "cell_type": "code",
   "execution_count": 22,
   "id": "e67df87a",
   "metadata": {},
   "outputs": [
    {
     "name": "stdout",
     "output_type": "stream",
     "text": [
      "21\n"
     ]
    },
    {
     "data": {
      "text/plain": [
       "[0,\n",
       " 2800,\n",
       " 5600,\n",
       " 8400,\n",
       " 11200,\n",
       " 14000,\n",
       " 16800,\n",
       " 19600,\n",
       " 22400,\n",
       " 25200,\n",
       " 28000,\n",
       " 30800,\n",
       " 33600,\n",
       " 36400,\n",
       " 39200,\n",
       " 42000,\n",
       " 44800,\n",
       " 47600,\n",
       " 50400,\n",
       " 53200,\n",
       " 55998]"
      ]
     },
     "execution_count": 22,
     "metadata": {},
     "output_type": "execute_result"
    }
   ],
   "source": [
    "n_inputs = [n_data_points*i for i in range(num_models)]\n",
    "n_inputs.append(len(x_train_and_adversary))\n",
    "print(len(n_inputs))\n",
    "n_inputs"
   ]
  },
  {
   "cell_type": "code",
   "execution_count": 23,
   "id": "3cd2cd2d",
   "metadata": {},
   "outputs": [
    {
     "name": "stdout",
     "output_type": "stream",
     "text": [
      "21\n",
      "21\n"
     ]
    }
   ],
   "source": [
    "print(len(df_evaluate_dg))\n",
    "print(len(n_inputs))"
   ]
  },
  {
   "cell_type": "code",
   "execution_count": 24,
   "id": "b484cf9a",
   "metadata": {},
   "outputs": [],
   "source": [
    "#save_dir = \"D:/aug_graphs/\"+dataset+\"/\"+config"
   ]
  },
  {
   "cell_type": "code",
   "execution_count": 31,
   "id": "04d02a6d",
   "metadata": {},
   "outputs": [],
   "source": [
    "linestyles = ['solid','dotted','dashed','dashed','dashdot','dashdot']\n",
    "colors =['b','g','r','c','m','k']"
   ]
  },
  {
   "cell_type": "code",
   "execution_count": 24,
   "id": "9d88b02f",
   "metadata": {},
   "outputs": [
    {
     "name": "stdout",
     "output_type": "stream",
     "text": [
      "22400 0.9087142944335938\n",
      "28000 0.9062142968177797\n",
      "42000 0.9092142581939696\n"
     ]
    },
    {
     "data": {
      "image/png": "[encoded data removed]",
      "text/plain": [
       "<Figure size 432x288 with 1 Axes>"
      ]
     },
     "metadata": {
      "needs_background": "light"
     },
     "output_type": "display_data"
    }
   ],
   "source": [
    "#adversarial jsma test set\n",
    "#configuration 3\n",
    "\"\"\"\n",
    "6) Incremental guided retraining starting from the original model using only the new adversarial inputs.\n",
    "Incremental training, starting with the previous trained model. Using at each iteration a subset of the new inputs.\n",
    "\"\"\"\n",
    "import matplotlib.pyplot as plt\n",
    "import matplotlib.patches as mpatches\n",
    "\n",
    "from matplotlib.patches import Patch\n",
    "from matplotlib.lines import Line2D\n",
    "\n",
    "#plt.plot(n_inputs,accuracy_lsa_3,colors[0],linestyle=linestyles[0])\n",
    "plt.plot(n_inputs,accuracy_dsa_3,colors[1],linestyle=linestyles[1])\n",
    "plt.plot(n_inputs,accuracy_dg_3,colors[2],linestyle=linestyles[2])\n",
    "plt.plot(n_inputs,accuracy_se_3,colors[3],linestyle=linestyles[3])\n",
    "#plt.plot(n_inputs,accuracy_random_3,colors[4],linestyle=linestyles[4])\n",
    "#plt.plot(n_inputs,accuracy_nc_3,colors[5],linestyle=linestyles[5])\n",
    "\n",
    "\n",
    "legend_elements = [\n",
    "                    #Line2D([0], [0], color=colors[0], label='LSA',ls = linestyles[0]),\n",
    "                   Line2D([0], [0], color=colors[1], label='DSA',ls = linestyles[1]),\n",
    "                   Line2D([0], [0], color=colors[2], label='dg',ls = linestyles[2]),\n",
    "                   Line2D([0], [0], color=colors[3], label='se',ls = linestyles[3]),\n",
    "                   #Line2D([0], [0], color=colors[4], label='Random',ls = linestyles[4]),\n",
    "                   #Line2D([0], [0], color=colors[5], label='NC',ls = linestyles[5])\n",
    "                ]\n",
    "\n",
    "\n",
    "\n",
    "plt.legend(handles=legend_elements)#\n",
    "#plt.title(\"Accuracy\")\n",
    "\n",
    "#print(n_inputs[np.argmax(accuracy_lsa_3)],accuracy_lsa_3.max())\n",
    "print(n_inputs[np.argmax(accuracy_dsa_3)],accuracy_dsa_3.max())\n",
    "print(n_inputs[np.argmax(accuracy_dg_3)],accuracy_dg_3.max())\n",
    "print(n_inputs[np.argmax(accuracy_se_3)],accuracy_se_3.max())\n",
    "#print(n_inputs[np.argmax(accuracy_random_3)],accuracy_random_3.max())\n",
    "#print(n_inputs[np.argmax(accuracy_nc_3)],accuracy_nc_3.max())\n",
    "\n",
    "#plt.plot(n_inputs[np.argmax(accuracy_lsa_3)],accuracy_lsa_3.max(),'-bD',)\n",
    "plt.plot(n_inputs[np.argmax(accuracy_dsa_3)],accuracy_dsa_3.max(),'-go')\n",
    "plt.plot(n_inputs[np.argmax(accuracy_dg_3)],accuracy_dg_3.max(),'-r+')\n",
    "plt.plot(n_inputs[np.argmax(accuracy_se_3)],accuracy_se_3.max(),'-c*')\n",
    "#plt.plot(n_inputs[np.argmax(accuracy_random_3)],accuracy_random_3.max(),'-mv')\n",
    "#plt.plot(n_inputs[np.argmax(accuracy_nc_3)],accuracy_nc_3.max(),'-kp')\n",
    "\n",
    "plt.xlabel('Number of inputs')\n",
    "plt.ylabel('Accuracy')\n",
    "plt.xlim([0, len(x_train_and_adversary)])\n",
    "#plt.ylim([0.9, 1])\n",
    "\n",
    "plt.savefig(save_dir+\"/\"+dataset+\"_\"+config_lc+\"_\"+\"accuracy\" + \".svg\")\n",
    "\n",
    "plt.show()"
   ]
  },
  {
   "cell_type": "code",
   "execution_count": 31,
   "id": "63320f48",
   "metadata": {},
   "outputs": [
    {
     "name": "stdout",
     "output_type": "stream",
     "text": [
      "55998 0.9005714058876038\n",
      "22400 0.9087142944335938\n",
      "28000 0.9062142968177797\n",
      "42000 0.9092142581939696\n",
      "36400 0.892214298248291\n",
      "55998 0.8938571214675903\n"
     ]
    },
    {
     "data": {
      "image/png": "[encoded data removed]",
      "text/plain": [
       "<Figure size 432x288 with 1 Axes>"
      ]
     },
     "metadata": {
      "needs_background": "light"
     },
     "output_type": "display_data"
    }
   ],
   "source": [
    "#adversarial jsma test set\n",
    "#configuration 3\n",
    "\"\"\"\n",
    "6) Incremental guided retraining starting from the original model using only the new adversarial inputs.\n",
    "Incremental training, starting with the previous trained model. Using at each iteration a subset of the new inputs.\n",
    "\"\"\"\n",
    "import matplotlib.pyplot as plt\n",
    "import matplotlib.patches as mpatches\n",
    "\n",
    "from matplotlib.patches import Patch\n",
    "from matplotlib.lines import Line2D\n",
    "\n",
    "plt.plot(n_inputs,accuracy_lsa_3,colors[0],linestyle=linestyles[0])\n",
    "plt.plot(n_inputs,accuracy_dsa_3,colors[1],linestyle=linestyles[1])\n",
    "plt.plot(n_inputs,accuracy_dg_3,colors[2],linestyle=linestyles[2])\n",
    "plt.plot(n_inputs,accuracy_se_3,colors[3],linestyle=linestyles[3])\n",
    "plt.plot(n_inputs,accuracy_random_3,colors[4],linestyle=linestyles[4])\n",
    "plt.plot(n_inputs,accuracy_nc_3,colors[5],linestyle=linestyles[5])\n",
    "\n",
    "\n",
    "legend_elements = [\n",
    "                Line2D([0], [0], color=colors[0], label='LSA',ls = linestyles[0]),\n",
    "                   Line2D([0], [0], color=colors[1], label='DSA',ls = linestyles[1]),\n",
    "                   Line2D([0], [0], color=colors[2], label='dg',ls = linestyles[2]),\n",
    "                   Line2D([0], [0], color=colors[3], label='se',ls = linestyles[3]),\n",
    "                   Line2D([0], [0], color=colors[4], label='Random',ls = linestyles[4]),\n",
    "                   Line2D([0], [0], color=colors[5], label='NC',ls = linestyles[5])\n",
    "                ]\n",
    "\n",
    "\n",
    "\n",
    "plt.legend(handles=legend_elements)#\n",
    "#plt.title(\"Accuracy\")\n",
    "\n",
    "print(n_inputs[np.argmax(accuracy_lsa_3)],accuracy_lsa_3.max())\n",
    "print(n_inputs[np.argmax(accuracy_dsa_3)],accuracy_dsa_3.max())\n",
    "print(n_inputs[np.argmax(accuracy_dg_3)],accuracy_dg_3.max())\n",
    "print(n_inputs[np.argmax(accuracy_se_3)],accuracy_se_3.max())\n",
    "print(n_inputs[np.argmax(accuracy_random_3)],accuracy_random_3.max())\n",
    "print(n_inputs[np.argmax(accuracy_nc_3)],accuracy_nc_3.max())\n",
    "\n",
    "plt.plot(n_inputs[np.argmax(accuracy_lsa_3)],accuracy_lsa_3.max(),'-bD',)\n",
    "plt.plot(n_inputs[np.argmax(accuracy_dsa_3)],accuracy_dsa_3.max(),'-go')\n",
    "plt.plot(n_inputs[np.argmax(accuracy_dg_3)],accuracy_dg_3.max(),'-r+')\n",
    "plt.plot(n_inputs[np.argmax(accuracy_se_3)],accuracy_se_3.max(),'-c*')\n",
    "plt.plot(n_inputs[np.argmax(accuracy_random_3)],accuracy_random_3.max(),'-mv')\n",
    "plt.plot(n_inputs[np.argmax(accuracy_nc_3)],accuracy_nc_3.max(),'-kp')\n",
    "\n",
    "plt.xlabel('Number of inputs')\n",
    "plt.ylabel('Accuracy')\n",
    "plt.xlim([0, len(x_train_and_adversary)])\n",
    "#plt.ylim([0.9, 0.92])\n",
    "\n",
    "plt.savefig(save_dir+\"/\"+dataset+\"_\"+config_lc+\"_\"+\"accuracy\" + \".svg\")\n",
    "\n",
    "plt.show()"
   ]
  },
  {
   "cell_type": "code",
   "execution_count": 32,
   "id": "99463a8c",
   "metadata": {},
   "outputs": [
    {
     "name": "stdout",
     "output_type": "stream",
     "text": [
      "55998 0.9005714058876038\n",
      "22400 0.9087142944335938\n",
      "28000 0.9062142968177797\n",
      "42000 0.9092142581939696\n",
      "36400 0.892214298248291\n",
      "55998 0.8938571214675903\n"
     ]
    },
    {
     "data": {
      "image/png": "[encoded data removed]",
      "text/plain": [
       "<Figure size 432x288 with 1 Axes>"
      ]
     },
     "metadata": {
      "needs_background": "light"
     },
     "output_type": "display_data"
    }
   ],
   "source": [
    "#adversarial jsma test set\n",
    "#configuration 3\n",
    "\"\"\"\n",
    "6) Incremental guided retraining starting from the original model using only the new adversarial inputs.\n",
    "Incremental training, starting with the previous trained model. Using at each iteration a subset of the new inputs.\n",
    "\"\"\"\n",
    "import matplotlib.pyplot as plt\n",
    "import matplotlib.patches as mpatches\n",
    "\n",
    "from matplotlib.patches import Patch\n",
    "from matplotlib.lines import Line2D\n",
    "\n",
    "plt.plot(n_inputs,accuracy_lsa_3,colors[0],linestyle=linestyles[0])\n",
    "plt.plot(n_inputs,accuracy_dsa_3,colors[1],linestyle=linestyles[1])\n",
    "plt.plot(n_inputs,accuracy_dg_3,colors[2],linestyle=linestyles[2])\n",
    "plt.plot(n_inputs,accuracy_se_3,colors[3],linestyle=linestyles[3])\n",
    "plt.plot(n_inputs,accuracy_random_3,colors[4],linestyle=linestyles[4])\n",
    "plt.plot(n_inputs,accuracy_nc_3,colors[5],linestyle=linestyles[5])\n",
    "\n",
    "\n",
    "legend_elements = [\n",
    "                Line2D([0], [0], color=colors[0], label='LSA',ls = linestyles[0]),\n",
    "                   Line2D([0], [0], color=colors[1], label='DSA',ls = linestyles[1]),\n",
    "                   Line2D([0], [0], color=colors[2], label='dg',ls = linestyles[2]),\n",
    "                   Line2D([0], [0], color=colors[3], label='se',ls = linestyles[3]),\n",
    "                   Line2D([0], [0], color=colors[4], label='Random',ls = linestyles[4]),\n",
    "                   Line2D([0], [0], color=colors[5], label='NC',ls = linestyles[5])\n",
    "                ]\n",
    "\n",
    "\n",
    "\n",
    "plt.legend(handles=legend_elements)#\n",
    "#plt.title(\"Accuracy\")\n",
    "\n",
    "print(n_inputs[np.argmax(accuracy_lsa_3)],accuracy_lsa_3.max())\n",
    "print(n_inputs[np.argmax(accuracy_dsa_3)],accuracy_dsa_3.max())\n",
    "print(n_inputs[np.argmax(accuracy_dg_3)],accuracy_dg_3.max())\n",
    "print(n_inputs[np.argmax(accuracy_se_3)],accuracy_se_3.max())\n",
    "print(n_inputs[np.argmax(accuracy_random_3)],accuracy_random_3.max())\n",
    "print(n_inputs[np.argmax(accuracy_nc_3)],accuracy_nc_3.max())\n",
    "\n",
    "plt.plot(n_inputs[np.argmax(accuracy_lsa_3)],accuracy_lsa_3.max(),'-bD',)\n",
    "plt.plot(n_inputs[np.argmax(accuracy_dsa_3)],accuracy_dsa_3.max(),'-go')\n",
    "plt.plot(n_inputs[np.argmax(accuracy_dg_3)],accuracy_dg_3.max(),'-r+')\n",
    "plt.plot(n_inputs[np.argmax(accuracy_se_3)],accuracy_se_3.max(),'-c*')\n",
    "plt.plot(n_inputs[np.argmax(accuracy_random_3)],accuracy_random_3.max(),'-mv')\n",
    "plt.plot(n_inputs[np.argmax(accuracy_nc_3)],accuracy_nc_3.max(),'-kp')\n",
    "\n",
    "plt.xlabel('Number of inputs')\n",
    "plt.ylabel('Accuracy')\n",
    "plt.xlim([0, len(x_train_and_adversary)])\n",
    "#plt.ylim([0.9, 0.92])\n",
    "\n",
    "plt.savefig(save_dir+\"/\"+dataset+\"_\"+config_lc+\"_\"+\"accuracy\" + \".svg\")\n",
    "\n",
    "plt.show()"
   ]
  },
  {
   "cell_type": "code",
   "execution_count": null,
   "id": "75c13967",
   "metadata": {},
   "outputs": [],
   "source": []
  }
 ],
 "metadata": {
  "kernelspec": {
   "display_name": "Python 3 (ipykernel)",
   "language": "python",
   "name": "python3"
  },
  "language_info": {
   "codemirror_mode": {
    "name": "ipython",
    "version": 3
   },
   "file_extension": ".py",
   "mimetype": "text/x-python",
   "name": "python",
   "nbconvert_exporter": "python",
   "pygments_lexer": "ipython3",
   "version": "3.9.6"
  }
 },
 "nbformat": 4,
 "nbformat_minor": 5
}
