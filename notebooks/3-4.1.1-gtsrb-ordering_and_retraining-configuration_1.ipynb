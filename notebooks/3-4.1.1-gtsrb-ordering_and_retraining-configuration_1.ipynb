{
 "cells": [
  {
   "cell_type": "markdown",
   "id": "f216e2a2",
   "metadata": {},
   "source": [
    "# Ordering by metrics and retraining phase\n",
    "\n",
    "## Dataset: GTSRB"
   ]
  },
  {
   "cell_type": "markdown",
   "id": "790af13b",
   "metadata": {},
   "source": [
    "## Experiment configuration 1\n"
   ]
  },
  {
   "cell_type": "markdown",
   "id": "21a98552",
   "metadata": {},
   "source": [
    "## Configuration 1\n",
    "\t1. Incremental guided retraining starting from scratch using the new adversarial inputs and original training set"
   ]
  },
  {
   "cell_type": "code",
   "execution_count": null,
   "id": "90383afd",
   "metadata": {},
   "outputs": [],
   "source": [
    "pip install --user tensorflow==2.5"
   ]
  },
  {
   "cell_type": "code",
   "execution_count": 1,
   "id": "ce1386e9",
   "metadata": {},
   "outputs": [],
   "source": [
    "import argparse\n",
    "\n",
    "import numpy as np\n",
    "import tensorflow as tf\n",
    "import keras.backend as K\n",
    "\n",
    "import matplotlib.pyplot as plt\n",
    "\n",
    "from keras.utils import np_utils\n",
    "from keras.models import Sequential\n",
    "from keras.layers import Dense, Dropout, Activation, Flatten, Conv2D, MaxPooling2D\n",
    "from keras.regularizers import l2\n",
    "\n",
    "import glob\n",
    "import os\n",
    "import cv2\n",
    "import keras\n",
    "\n",
    "\n",
    "import time\n",
    "import argparse\n",
    "\n",
    "from tqdm import tqdm\n",
    "\n",
    "from keras.models import load_model, Model\n"
   ]
  },
  {
   "cell_type": "code",
   "execution_count": 2,
   "id": "aa0aa2b2",
   "metadata": {},
   "outputs": [
    {
     "data": {
      "text/plain": [
       "True"
      ]
     },
     "execution_count": 2,
     "metadata": {},
     "output_type": "execute_result"
    }
   ],
   "source": [
    "tf.__version__ == '2.5.0' # Version of tensorflow"
   ]
  },
  {
   "cell_type": "code",
   "execution_count": 3,
   "id": "fa923a43",
   "metadata": {},
   "outputs": [
    {
     "name": "stdout",
     "output_type": "stream",
     "text": [
      "C:\\Users\\fjdur\\Documents\\utils\n"
     ]
    }
   ],
   "source": [
    "cd C:/Users/fjdur/Documents/utils/"
   ]
  },
  {
   "cell_type": "code",
   "execution_count": 4,
   "id": "723735cb",
   "metadata": {},
   "outputs": [
    {
     "name": "stdout",
     "output_type": "stream",
     "text": [
      "2.5.0\n",
      "keras\n",
      "2.5.0\n"
     ]
    }
   ],
   "source": [
    "# utils for project\n",
    "import utils_guided_retraining as utils"
   ]
  },
  {
   "cell_type": "code",
   "execution_count": 5,
   "id": "1c6a307c",
   "metadata": {},
   "outputs": [],
   "source": [
    "#cd '../notebooks/'"
   ]
  },
  {
   "cell_type": "code",
   "execution_count": 6,
   "id": "de1bd2cb",
   "metadata": {},
   "outputs": [],
   "source": [
    "dataset = \"gtsrb\""
   ]
  },
  {
   "cell_type": "code",
   "execution_count": 7,
   "id": "50c2b3f3",
   "metadata": {},
   "outputs": [],
   "source": [
    "x_train,y_train = utils.get_data(dataset,\"Train\")\n",
    "x_val,y_val = utils.get_data(dataset,\"Val\")\n",
    "x_test,y_test = utils.get_data(dataset,\"Test\")"
   ]
  },
  {
   "cell_type": "code",
   "execution_count": 8,
   "id": "e6f6f8a7",
   "metadata": {},
   "outputs": [],
   "source": [
    "x_train_and_adversary,y_train_and_adversary = utils.get_data(dataset,\"Train_and_adversary\")"
   ]
  },
  {
   "cell_type": "code",
   "execution_count": 9,
   "id": "53dcdf78",
   "metadata": {},
   "outputs": [
    {
     "name": "stdout",
     "output_type": "stream",
     "text": [
      "3921\n",
      "3921\n"
     ]
    }
   ],
   "source": [
    "x_adversary_training = x_train_and_adversary[len(x_train):]\n",
    "print(len(x_adversary_training))\n",
    "y_adversary_training = y_train_and_adversary[len(y_train):]\n",
    "\n",
    "print(len(y_adversary_training))"
   ]
  },
  {
   "cell_type": "code",
   "execution_count": 10,
   "id": "d8fd2c92",
   "metadata": {},
   "outputs": [],
   "source": [
    "# Obtaining adversarial examples for testing \n",
    "x_test_and_adversary,y_test_and_adversary = utils.get_adversarial_data(dataset,'Test_adversarial') "
   ]
  },
  {
   "cell_type": "code",
   "execution_count": 11,
   "id": "c27698e5",
   "metadata": {},
   "outputs": [
    {
     "name": "stdout",
     "output_type": "stream",
     "text": [
      "3921\n",
      "3921\n"
     ]
    }
   ],
   "source": [
    "x_adversary_test_fgsm = x_test_and_adversary[len(x_test):]\n",
    "print(len(x_adversary_test_fgsm))\n",
    "y_adversary_test_fgsm = y_test_and_adversary[len(y_test):]\n",
    "\n",
    "print(len(y_adversary_test_fgsm))"
   ]
  },
  {
   "cell_type": "markdown",
   "id": "becb4e3b",
   "metadata": {},
   "source": [
    "## ----"
   ]
  },
  {
   "cell_type": "code",
   "execution_count": 12,
   "id": "c1560941",
   "metadata": {},
   "outputs": [],
   "source": [
    "# Original model \n",
    "model_dir = \"C:/Users/fjdur/Documents/upc-july/models/tf_model_25-06/\"\n"
   ]
  },
  {
   "cell_type": "code",
   "execution_count": 13,
   "id": "e5478616",
   "metadata": {},
   "outputs": [
    {
     "name": "stdout",
     "output_type": "stream",
     "text": [
      "Model loaded correctly\n"
     ]
    }
   ],
   "source": [
    "model_original = utils.My_model(dataset,True, model_dir)"
   ]
  },
  {
   "cell_type": "code",
   "execution_count": 14,
   "id": "a81f5589",
   "metadata": {},
   "outputs": [],
   "source": [
    "lsa_direction = \"C:/Users/fjdur/Documents/upc-july/data/\"+dataset+\"/lsa_values.npy\"\n",
    "dsa_direction = \"C:/Users/fjdur/Documents/upc-july/data/\"+dataset+\"/dsa_values.npy\""
   ]
  },
  {
   "cell_type": "code",
   "execution_count": 14,
   "id": "983373d2",
   "metadata": {},
   "outputs": [],
   "source": [
    "n_data_points = 1750"
   ]
  },
  {
   "cell_type": "markdown",
   "id": "78edd1c7",
   "metadata": {},
   "source": [
    "## Loading LSA and DSA values "
   ]
  },
  {
   "cell_type": "code",
   "execution_count": null,
   "id": "dd62896d",
   "metadata": {},
   "outputs": [],
   "source": []
  },
  {
   "cell_type": "code",
   "execution_count": 15,
   "id": "cbe684c7",
   "metadata": {},
   "outputs": [],
   "source": [
    "lsa_values = np.load(lsa_direction)\n"
   ]
  },
  {
   "cell_type": "code",
   "execution_count": 52,
   "id": "8e725932",
   "metadata": {},
   "outputs": [],
   "source": [
    "dsa_values = np.load(dsa_direction)"
   ]
  },
  {
   "cell_type": "code",
   "execution_count": 17,
   "id": "c0ec186e",
   "metadata": {},
   "outputs": [],
   "source": [
    "\n",
    "# Obtaining top n images by LSA values\n",
    "top_images_by_lsa = utils.get_x_of_indexes(list(np.flip(np.argsort(lsa_values))),x_train_and_adversary)\n",
    "top_labels_by_lsa = utils.get_x_of_indexes(list(np.flip(np.argsort(lsa_values))),y_train_and_adversary)\n"
   ]
  },
  {
   "cell_type": "code",
   "execution_count": 53,
   "id": "4a3451bf",
   "metadata": {},
   "outputs": [],
   "source": [
    "\n",
    "top_images_by_dsa = utils.get_x_of_indexes(list(np.flip(np.argsort(dsa_values))),x_train_and_adversary)\n",
    "top_labels_by_dsa = utils.get_x_of_indexes(list(np.flip(np.argsort(dsa_values))),y_train_and_adversary)\n"
   ]
  },
  {
   "cell_type": "code",
   "execution_count": null,
   "id": "677d3bad",
   "metadata": {},
   "outputs": [],
   "source": []
  },
  {
   "cell_type": "code",
   "execution_count": 18,
   "id": "4b1edf1f",
   "metadata": {},
   "outputs": [
    {
     "name": "stdout",
     "output_type": "stream",
     "text": [
      "(35287, 48, 48, 1)\n"
     ]
    },
    {
     "data": {
      "text/plain": [
       "1764"
      ]
     },
     "execution_count": 18,
     "metadata": {},
     "output_type": "execute_result"
    }
   ],
   "source": [
    "print(x_train_and_adversary.shape)\n",
    "len(top_images_by_lsa)//20"
   ]
  },
  {
   "cell_type": "code",
   "execution_count": null,
   "id": "037f9ba1",
   "metadata": {},
   "outputs": [],
   "source": []
  },
  {
   "cell_type": "code",
   "execution_count": 19,
   "id": "262a4841",
   "metadata": {},
   "outputs": [
    {
     "name": "stdout",
     "output_type": "stream",
     "text": [
      "0 :\n",
      "0  ->  1750\n",
      "1750\n",
      "1 :\n",
      "0  ->  3500\n",
      "3500\n",
      "2 :\n",
      "0  ->  5250\n",
      "5250\n",
      "3 :\n",
      "0  ->  7000\n",
      "7000\n",
      "4 :\n",
      "0  ->  8750\n",
      "8750\n",
      "5 :\n",
      "0  ->  10500\n",
      "10500\n",
      "6 :\n",
      "0  ->  12250\n",
      "12250\n",
      "7 :\n",
      "0  ->  14000\n",
      "14000\n",
      "8 :\n",
      "0  ->  15750\n",
      "15750\n",
      "9 :\n",
      "0  ->  17500\n",
      "17500\n",
      "10 :\n",
      "0  ->  19250\n",
      "19250\n",
      "11 :\n",
      "0  ->  21000\n",
      "21000\n",
      "12 :\n",
      "0  ->  22750\n",
      "22750\n",
      "13 :\n",
      "0  ->  24500\n",
      "24500\n",
      "14 :\n",
      "0  ->  26250\n",
      "26250\n",
      "15 :\n",
      "0  ->  28000\n",
      "28000\n",
      "16 :\n",
      "0  ->  29750\n",
      "29750\n",
      "17 :\n",
      "0  ->  31500\n",
      "31500\n",
      "18 :\n",
      "0  ->  33250\n",
      "33250\n",
      "19 :\n",
      "0  ->  35000\n",
      "35000\n",
      "20 :\n",
      "Last\n",
      "0  ->  37037\n",
      "35287\n"
     ]
    }
   ],
   "source": [
    "m = 1750 \n",
    "n = 0\n",
    "image_sets_lsa = []\n",
    "label_sets_lsa = []\n",
    "\n",
    "# last\n",
    "#for i in range(0,len(top_images_by_lsa)//m):\n",
    "\n",
    "for i in range((len(top_images_by_lsa)//m)+1):\n",
    "    print(i,\":\")\n",
    "    if (i+1 >= ((len(top_images_by_lsa)//m)+1)):\n",
    "        print(\"Last\")\n",
    "        print(0,\" -> \",n+m+(len(top_images_by_lsa)%m))\n",
    "        top_images_by_lsa_n = np.array(top_images_by_lsa[:n+m+(len(top_images_by_lsa)%m)])\n",
    "        top_labels_by_lsa_n = np.array(top_labels_by_lsa[:n+m+(len(top_images_by_lsa)%m)])\n",
    "    else:\n",
    "        print(0,\" -> \",m+n)\n",
    "        top_images_by_lsa_n = np.array(top_images_by_lsa[:n+m])\n",
    "        top_labels_by_lsa_n = np.array(top_labels_by_lsa[:n+m])\n",
    "    image_sets_lsa.append(top_images_by_lsa_n)\n",
    "    label_sets_lsa.append(top_labels_by_lsa_n)\n",
    "    print(len(top_images_by_lsa_n))\n",
    "    n += m"
   ]
  },
  {
   "cell_type": "code",
   "execution_count": null,
   "id": "3bc51573",
   "metadata": {
    "scrolled": true
   },
   "outputs": [],
   "source": [
    "m = 1750\n",
    "n = 0\n",
    "image_sets_lsa = []\n",
    "label_sets_lsa = []\n",
    "\n",
    "\n",
    "for i in range(len(top_images_by_lsa)//m):\n",
    "    print(i,\":\")\n",
    "    if (i+1 >= len(top_images_by_lsa)//m):\n",
    "        print(\"Last\")\n",
    "        print(0,\" -> \",n+m+(len(top_images_by_lsa)%m))\n",
    "        top_images_by_lsa_n = np.array(top_images_by_lsa[:n+m+(len(top_images_by_lsa)%m)])\n",
    "        top_labels_by_lsa_n = np.array(top_labels_by_lsa[:n+m+(len(top_images_by_lsa)%m)])\n",
    "    else:\n",
    "        print(0,\" -> \",m+n)\n",
    "        top_images_by_lsa_n = np.array(top_images_by_lsa[:n+m])\n",
    "        top_labels_by_lsa_n = np.array(top_labels_by_lsa[:n+m])\n",
    "    image_sets_lsa.append(top_images_by_lsa_n)\n",
    "    label_sets_lsa.append(top_labels_by_lsa_n)\n",
    "    print(len(top_images_by_lsa_n))\n",
    "    n += m\n",
    "\n",
    "print(len(image_sets_lsa),\" total sets\")"
   ]
  },
  {
   "cell_type": "markdown",
   "id": "ed06a68e",
   "metadata": {},
   "source": [
    "## Training guided by LSA"
   ]
  },
  {
   "cell_type": "code",
   "execution_count": 44,
   "id": "bc2a7dd2",
   "metadata": {},
   "outputs": [
    {
     "data": {
      "text/plain": [
       "21"
      ]
     },
     "execution_count": 44,
     "metadata": {},
     "output_type": "execute_result"
    }
   ],
   "source": [
    "len(label_sets_lsa)"
   ]
  },
  {
   "cell_type": "code",
   "execution_count": 20,
   "id": "daef1b47",
   "metadata": {},
   "outputs": [
    {
     "name": "stdout",
     "output_type": "stream",
     "text": [
      "C:/Users/fjdur/Documents/upc-july/models/tf_model_25-06/\n",
      "0 :\n",
      "Model compiled\n",
      "1 :\n",
      "Model compiled\n",
      "2 :\n",
      "Model compiled\n",
      "3 :\n",
      "Model compiled\n",
      "4 :\n",
      "Model compiled\n",
      "5 :\n",
      "Model compiled\n",
      "6 :\n",
      "Model compiled\n",
      "7 :\n",
      "Model compiled\n",
      "8 :\n",
      "Model compiled\n",
      "9 :\n",
      "Model compiled\n",
      "10 :\n",
      "Model compiled\n",
      "11 :\n",
      "Model compiled\n",
      "12 :\n",
      "Model compiled\n",
      "13 :\n",
      "Model compiled\n",
      "14 :\n",
      "Model compiled\n",
      "15 :\n",
      "Model compiled\n",
      "16 :\n",
      "Model compiled\n",
      "17 :\n",
      "Model compiled\n",
      "18 :\n",
      "Model compiled\n",
      "19 :\n",
      "Model compiled\n",
      "20 :\n",
      "Model compiled\n"
     ]
    }
   ],
   "source": [
    "print(model_dir)\n",
    "\n",
    "models_lsa = []\n",
    "for i in range(len(label_sets_lsa)):\n",
    "    print(i,\":\")\n",
    "    model = utils.My_model(dataset,False,None)\n",
    "    model.compile_model()\n",
    "    models_lsa.append(model)\n"
   ]
  },
  {
   "cell_type": "code",
   "execution_count": 21,
   "id": "3665e51c",
   "metadata": {},
   "outputs": [
    {
     "name": "stdout",
     "output_type": "stream",
     "text": [
      "Epoch 1/10\n",
      "28/28 [==============================] - 86s 631ms/step - loss: 4.8942 - accuracy: 0.2407 - val_loss: 3.6864 - val_accuracy: 0.0283\n",
      "Epoch 2/10\n",
      "28/28 [==============================] - 16s 592ms/step - loss: 2.9764 - accuracy: 0.3766 - val_loss: 9.7876 - val_accuracy: 0.0283\n",
      "Epoch 3/10\n",
      "28/28 [==============================] - 17s 612ms/step - loss: 3.5282 - accuracy: 0.3496 - val_loss: 3.6120 - val_accuracy: 0.0283\n",
      "Epoch 4/10\n",
      "28/28 [==============================] - 17s 611ms/step - loss: 2.9806 - accuracy: 0.3644 - val_loss: 3.6103 - val_accuracy: 0.0283\n",
      "Epoch 5/10\n",
      "28/28 [==============================] - 17s 608ms/step - loss: 2.6414 - accuracy: 0.3548 - val_loss: 3.4948 - val_accuracy: 0.0832\n",
      "Epoch 6/10\n",
      "28/28 [==============================] - 17s 614ms/step - loss: 2.3707 - accuracy: 0.3747 - val_loss: 3.3254 - val_accuracy: 0.0952\n",
      "Epoch 7/10\n",
      "28/28 [==============================] - 17s 611ms/step - loss: 2.2980 - accuracy: 0.3880 - val_loss: 3.3016 - val_accuracy: 0.1386\n",
      "Epoch 8/10\n",
      "28/28 [==============================] - 17s 607ms/step - loss: 2.1903 - accuracy: 0.4271 - val_loss: 3.0596 - val_accuracy: 0.1809\n",
      "Epoch 9/10\n",
      "28/28 [==============================] - 17s 609ms/step - loss: 2.0531 - accuracy: 0.4423 - val_loss: 2.8469 - val_accuracy: 0.2513\n",
      "Epoch 10/10\n",
      "28/28 [==============================] - 17s 614ms/step - loss: 2.0797 - accuracy: 0.4315 - val_loss: 2.9771 - val_accuracy: 0.1985\n",
      "Duration: 0:03:59.785491\n"
     ]
    }
   ],
   "source": [
    "n = 0\n",
    "models_lsa[n].fit_model(image_sets_lsa[n],label_sets_lsa[n],x_val,y_val)\n",
    "n=n+1"
   ]
  },
  {
   "cell_type": "code",
   "execution_count": 22,
   "id": "c2f79099",
   "metadata": {},
   "outputs": [
    {
     "name": "stdout",
     "output_type": "stream",
     "text": [
      "Epoch 1/10\n",
      "55/55 [==============================] - 33s 528ms/step - loss: 3.2903 - accuracy: 0.2114 - val_loss: 4.0217 - val_accuracy: 0.0283\n",
      "Epoch 2/10\n",
      "55/55 [==============================] - 29s 524ms/step - loss: 2.6193 - accuracy: 0.2629 - val_loss: 6.6657 - val_accuracy: 0.0311\n",
      "Epoch 3/10\n",
      "55/55 [==============================] - 29s 529ms/step - loss: 2.4747 - accuracy: 0.3226 - val_loss: 4.8335 - val_accuracy: 0.0595\n",
      "Epoch 4/10\n",
      "55/55 [==============================] - 29s 529ms/step - loss: 1.7177 - accuracy: 0.5600 - val_loss: 3.4569 - val_accuracy: 0.1253\n",
      "Epoch 5/10\n",
      "55/55 [==============================] - 29s 537ms/step - loss: 1.3873 - accuracy: 0.6579 - val_loss: 3.0631 - val_accuracy: 0.1699\n",
      "Epoch 6/10\n",
      "55/55 [==============================] - 30s 550ms/step - loss: 1.1985 - accuracy: 0.6894 - val_loss: 2.7094 - val_accuracy: 0.3154\n",
      "Epoch 7/10\n",
      "55/55 [==============================] - 31s 564ms/step - loss: 1.0788 - accuracy: 0.7160 - val_loss: 2.4129 - val_accuracy: 0.4172\n",
      "Epoch 8/10\n",
      "55/55 [==============================] - 29s 531ms/step - loss: 1.0046 - accuracy: 0.7309 - val_loss: 2.0380 - val_accuracy: 0.4744\n",
      "Epoch 9/10\n",
      "55/55 [==============================] - 29s 529ms/step - loss: 0.8415 - accuracy: 0.7682 - val_loss: 1.6619 - val_accuracy: 0.5535\n",
      "Epoch 10/10\n",
      "55/55 [==============================] - 29s 535ms/step - loss: 0.7278 - accuracy: 0.7969 - val_loss: 1.4697 - val_accuracy: 0.6035\n",
      "Duration: 0:04:57.936759\n"
     ]
    }
   ],
   "source": [
    "n=1\n",
    "models_lsa[n].fit_model(image_sets_lsa[n],label_sets_lsa[n],x_val,y_val)\n",
    "n = n+1"
   ]
  },
  {
   "cell_type": "code",
   "execution_count": 23,
   "id": "d9f7fa66",
   "metadata": {},
   "outputs": [
    {
     "name": "stdout",
     "output_type": "stream",
     "text": [
      "2\n",
      "Epoch 1/10\n",
      "83/83 [==============================] - 46s 501ms/step - loss: 3.0930 - accuracy: 0.1988 - val_loss: 4.5288 - val_accuracy: 0.0383\n",
      "Epoch 2/10\n",
      "83/83 [==============================] - 42s 512ms/step - loss: 2.5791 - accuracy: 0.2373 - val_loss: 3.6951 - val_accuracy: 0.0676\n",
      "Epoch 3/10\n",
      "83/83 [==============================] - 43s 513ms/step - loss: 1.9391 - accuracy: 0.4756 - val_loss: 3.4882 - val_accuracy: 0.1653\n",
      "Epoch 4/10\n",
      "83/83 [==============================] - 43s 520ms/step - loss: 1.2346 - accuracy: 0.6786 - val_loss: 3.3169 - val_accuracy: 0.1756\n",
      "Epoch 5/10\n",
      "83/83 [==============================] - 44s 536ms/step - loss: 1.0522 - accuracy: 0.7252 - val_loss: 2.6947 - val_accuracy: 0.2626\n",
      "Epoch 6/10\n",
      "83/83 [==============================] - 45s 541ms/step - loss: 0.8748 - accuracy: 0.7719 - val_loss: 2.1842 - val_accuracy: 0.4111\n",
      "Epoch 7/10\n",
      "83/83 [==============================] - 44s 535ms/step - loss: 0.7217 - accuracy: 0.8037 - val_loss: 1.8941 - val_accuracy: 0.4613\n",
      "Epoch 8/10\n",
      "83/83 [==============================] - 45s 540ms/step - loss: 0.5997 - accuracy: 0.8315 - val_loss: 1.9544 - val_accuracy: 0.5055\n",
      "Epoch 9/10\n",
      "83/83 [==============================] - 45s 540ms/step - loss: 0.5398 - accuracy: 0.8479 - val_loss: 1.9716 - val_accuracy: 0.5188\n",
      "Epoch 10/10\n",
      "83/83 [==============================] - 46s 558ms/step - loss: 0.4929 - accuracy: 0.8570 - val_loss: 1.3611 - val_accuracy: 0.6502\n",
      "Duration: 0:07:23.267611\n"
     ]
    }
   ],
   "source": [
    "print(n)\n",
    "models_lsa[n].fit_model(image_sets_lsa[n],label_sets_lsa[n],x_val,y_val)\n",
    "n = n+1"
   ]
  },
  {
   "cell_type": "code",
   "execution_count": 24,
   "id": "a4586fc7",
   "metadata": {},
   "outputs": [
    {
     "name": "stdout",
     "output_type": "stream",
     "text": [
      "3\n",
      "Epoch 1/10\n",
      "110/110 [==============================] - 64s 535ms/step - loss: 3.8196 - accuracy: 0.1528 - val_loss: 4.9618 - val_accuracy: 0.0383\n",
      "Epoch 2/10\n",
      "110/110 [==============================] - 58s 527ms/step - loss: 2.6281 - accuracy: 0.2252 - val_loss: 3.7556 - val_accuracy: 0.1434\n",
      "Epoch 3/10\n",
      "110/110 [==============================] - 58s 527ms/step - loss: 1.3634 - accuracy: 0.6534 - val_loss: 3.2086 - val_accuracy: 0.2866\n",
      "Epoch 4/10\n",
      "110/110 [==============================] - 58s 526ms/step - loss: 0.8408 - accuracy: 0.7970 - val_loss: 2.5428 - val_accuracy: 0.3065\n",
      "Epoch 5/10\n",
      "110/110 [==============================] - 58s 527ms/step - loss: 0.7295 - accuracy: 0.8227 - val_loss: 2.7116 - val_accuracy: 0.3927\n",
      "Epoch 6/10\n",
      "110/110 [==============================] - 58s 525ms/step - loss: 0.6473 - accuracy: 0.8327 - val_loss: 2.1001 - val_accuracy: 0.4478\n",
      "Epoch 7/10\n",
      "110/110 [==============================] - 58s 530ms/step - loss: 0.5219 - accuracy: 0.8584 - val_loss: 2.0878 - val_accuracy: 0.4966\n",
      "Epoch 8/10\n",
      "110/110 [==============================] - 58s 525ms/step - loss: 0.4447 - accuracy: 0.8764 - val_loss: 1.7664 - val_accuracy: 0.5573\n",
      "Epoch 9/10\n",
      "110/110 [==============================] - 58s 529ms/step - loss: 0.3966 - accuracy: 0.8917 - val_loss: 1.3714 - val_accuracy: 0.6392\n",
      "Epoch 10/10\n",
      "110/110 [==============================] - 58s 526ms/step - loss: 0.3312 - accuracy: 0.9051 - val_loss: 1.3478 - val_accuracy: 0.6305\n",
      "Duration: 0:09:45.437967\n"
     ]
    }
   ],
   "source": [
    "print(n)\n",
    "models_lsa[n].fit_model(image_sets_lsa[n],label_sets_lsa[n],x_val,y_val)\n",
    "n = n+1"
   ]
  },
  {
   "cell_type": "code",
   "execution_count": 25,
   "id": "681edfc1",
   "metadata": {},
   "outputs": [
    {
     "name": "stdout",
     "output_type": "stream",
     "text": [
      "4\n",
      "Epoch 1/10\n",
      "137/137 [==============================] - 75s 520ms/step - loss: 3.3948 - accuracy: 0.1220 - val_loss: 4.5539 - val_accuracy: 0.0306\n",
      "Epoch 2/10\n",
      "137/137 [==============================] - 70s 514ms/step - loss: 2.8313 - accuracy: 0.1594 - val_loss: 3.6048 - val_accuracy: 0.1651\n",
      "Epoch 3/10\n",
      "137/137 [==============================] - 71s 517ms/step - loss: 1.5666 - accuracy: 0.5983 - val_loss: 3.8482 - val_accuracy: 0.2235\n",
      "Epoch 4/10\n",
      "137/137 [==============================] - 71s 517ms/step - loss: 0.8933 - accuracy: 0.7749 - val_loss: 3.0433 - val_accuracy: 0.3361\n",
      "Epoch 5/10\n",
      "137/137 [==============================] - 71s 520ms/step - loss: 0.6461 - accuracy: 0.8356 - val_loss: 3.1534 - val_accuracy: 0.3373\n",
      "Epoch 6/10\n",
      "137/137 [==============================] - 72s 527ms/step - loss: 0.4980 - accuracy: 0.8668 - val_loss: 2.8683 - val_accuracy: 0.3858\n",
      "Epoch 7/10\n",
      "137/137 [==============================] - 72s 524ms/step - loss: 0.4277 - accuracy: 0.8856 - val_loss: 1.8118 - val_accuracy: 0.5379\n",
      "Epoch 8/10\n",
      "137/137 [==============================] - 72s 525ms/step - loss: 0.3957 - accuracy: 0.8886 - val_loss: 1.6895 - val_accuracy: 0.5573\n",
      "Epoch 9/10\n",
      "137/137 [==============================] - 72s 526ms/step - loss: 0.3653 - accuracy: 0.8990 - val_loss: 1.4291 - val_accuracy: 0.6410\n",
      "Epoch 10/10\n",
      "137/137 [==============================] - 72s 527ms/step - loss: 0.3289 - accuracy: 0.9092 - val_loss: 1.3481 - val_accuracy: 0.6563\n",
      "Duration: 0:11:58.619270\n"
     ]
    }
   ],
   "source": [
    "print(n) #4\n",
    "models_lsa[n].fit_model(image_sets_lsa[n],label_sets_lsa[n],x_val,y_val)\n",
    "n = n+1"
   ]
  },
  {
   "cell_type": "code",
   "execution_count": 26,
   "id": "d6645eca",
   "metadata": {},
   "outputs": [
    {
     "name": "stdout",
     "output_type": "stream",
     "text": [
      "5\n",
      "Epoch 1/10\n",
      "165/165 [==============================] - 89s 515ms/step - loss: 3.2702 - accuracy: 0.1030 - val_loss: 5.4055 - val_accuracy: 0.0365\n",
      "Epoch 2/10\n",
      "165/165 [==============================] - 88s 531ms/step - loss: 2.7814 - accuracy: 0.2058 - val_loss: 3.3709 - val_accuracy: 0.2087\n",
      "Epoch 3/10\n",
      "165/165 [==============================] - 85s 516ms/step - loss: 1.2557 - accuracy: 0.6691 - val_loss: 2.7994 - val_accuracy: 0.2881\n",
      "Epoch 4/10\n",
      "165/165 [==============================] - 86s 518ms/step - loss: 0.6436 - accuracy: 0.8399 - val_loss: 2.6982 - val_accuracy: 0.3873\n",
      "Epoch 5/10\n",
      "165/165 [==============================] - 86s 519ms/step - loss: 0.4664 - accuracy: 0.8788 - val_loss: 2.1067 - val_accuracy: 0.4825\n",
      "Epoch 6/10\n",
      "165/165 [==============================] - 86s 519ms/step - loss: 0.3986 - accuracy: 0.8957 - val_loss: 1.6208 - val_accuracy: 0.5843\n",
      "Epoch 7/10\n",
      "165/165 [==============================] - 85s 517ms/step - loss: 0.2914 - accuracy: 0.9210 - val_loss: 1.3937 - val_accuracy: 0.6576\n",
      "Epoch 8/10\n",
      "165/165 [==============================] - 85s 515ms/step - loss: 0.2786 - accuracy: 0.9250 - val_loss: 1.5486 - val_accuracy: 0.5629\n",
      "Epoch 9/10\n",
      "165/165 [==============================] - 85s 516ms/step - loss: 0.2556 - accuracy: 0.9283 - val_loss: 1.1327 - val_accuracy: 0.7234\n",
      "Epoch 10/10\n",
      "165/165 [==============================] - 85s 515ms/step - loss: 0.2097 - accuracy: 0.9411 - val_loss: 1.6609 - val_accuracy: 0.6713\n",
      "Duration: 0:14:18.873524\n"
     ]
    }
   ],
   "source": [
    "n=5\n",
    "print(n)\n",
    "models_lsa[n].fit_model(image_sets_lsa[n],label_sets_lsa[n],x_val,y_val)\n",
    "n = n+1"
   ]
  },
  {
   "cell_type": "code",
   "execution_count": 27,
   "id": "bd1521fb",
   "metadata": {},
   "outputs": [
    {
     "name": "stdout",
     "output_type": "stream",
     "text": [
      "6\n",
      "Epoch 1/10\n",
      "192/192 [==============================] - 103s 515ms/step - loss: 3.3278 - accuracy: 0.0994 - val_loss: 5.7535 - val_accuracy: 0.0799\n",
      "Epoch 2/10\n",
      "192/192 [==============================] - 100s 520ms/step - loss: 2.4454 - accuracy: 0.3275 - val_loss: 2.8760 - val_accuracy: 0.2896\n",
      "Epoch 3/10\n",
      "192/192 [==============================] - 100s 519ms/step - loss: 0.8770 - accuracy: 0.7762 - val_loss: 2.3132 - val_accuracy: 0.4376\n",
      "Epoch 4/10\n",
      "192/192 [==============================] - 98s 513ms/step - loss: 0.5085 - accuracy: 0.8727 - val_loss: 1.8283 - val_accuracy: 0.5507\n",
      "Epoch 5/10\n",
      "192/192 [==============================] - 99s 513ms/step - loss: 0.3383 - accuracy: 0.9114 - val_loss: 1.2580 - val_accuracy: 0.6474\n",
      "Epoch 6/10\n",
      "192/192 [==============================] - 99s 514ms/step - loss: 0.2844 - accuracy: 0.9264 - val_loss: 1.0090 - val_accuracy: 0.7402\n",
      "Epoch 7/10\n",
      "192/192 [==============================] - 98s 513ms/step - loss: 0.2229 - accuracy: 0.9353 - val_loss: 1.0459 - val_accuracy: 0.7219\n",
      "Epoch 8/10\n",
      "192/192 [==============================] - 98s 513ms/step - loss: 0.1885 - accuracy: 0.9438 - val_loss: 0.8464 - val_accuracy: 0.7813\n",
      "Epoch 9/10\n",
      "192/192 [==============================] - 100s 522ms/step - loss: 0.1802 - accuracy: 0.9496 - val_loss: 0.8570 - val_accuracy: 0.7244\n",
      "Epoch 10/10\n",
      "192/192 [==============================] - 98s 513ms/step - loss: 0.1505 - accuracy: 0.9533 - val_loss: 0.8289 - val_accuracy: 0.8066\n",
      "Duration: 0:16:34.244497\n"
     ]
    }
   ],
   "source": [
    "print(n)\n",
    "models_lsa[n].fit_model(image_sets_lsa[n],label_sets_lsa[n],x_val,y_val)\n",
    "n = n+1"
   ]
  },
  {
   "cell_type": "code",
   "execution_count": 28,
   "id": "ec3ff3ad",
   "metadata": {},
   "outputs": [
    {
     "name": "stdout",
     "output_type": "stream",
     "text": [
      "7\n",
      "Epoch 1/10\n",
      "219/219 [==============================] - 117s 513ms/step - loss: 3.4395 - accuracy: 0.0976 - val_loss: 4.8942 - val_accuracy: 0.0699\n",
      "Epoch 2/10\n",
      "219/219 [==============================] - 112s 512ms/step - loss: 2.4346 - accuracy: 0.3598 - val_loss: 3.1111 - val_accuracy: 0.3248\n",
      "Epoch 3/10\n",
      "219/219 [==============================] - 112s 509ms/step - loss: 0.8701 - accuracy: 0.7683 - val_loss: 2.3570 - val_accuracy: 0.4011\n",
      "Epoch 4/10\n",
      "219/219 [==============================] - 114s 518ms/step - loss: 0.4767 - accuracy: 0.8681 - val_loss: 1.7511 - val_accuracy: 0.5154\n",
      "Epoch 5/10\n",
      "219/219 [==============================] - 112s 512ms/step - loss: 0.3502 - accuracy: 0.9039 - val_loss: 1.3817 - val_accuracy: 0.6017\n",
      "Epoch 6/10\n",
      "219/219 [==============================] - 111s 509ms/step - loss: 0.2708 - accuracy: 0.9228 - val_loss: 1.1786 - val_accuracy: 0.6711\n",
      "Epoch 7/10\n",
      "219/219 [==============================] - 111s 508ms/step - loss: 0.2364 - accuracy: 0.9313 - val_loss: 1.0197 - val_accuracy: 0.7160\n",
      "Epoch 8/10\n",
      "219/219 [==============================] - 112s 512ms/step - loss: 0.2052 - accuracy: 0.9388 - val_loss: 0.9695 - val_accuracy: 0.7698\n",
      "Epoch 9/10\n",
      "219/219 [==============================] - 126s 573ms/step - loss: 0.1747 - accuracy: 0.9480 - val_loss: 0.9384 - val_accuracy: 0.7451\n",
      "Epoch 10/10\n",
      "219/219 [==============================] - 115s 525ms/step - loss: 0.1632 - accuracy: 0.9498 - val_loss: 0.9821 - val_accuracy: 0.7576\n",
      "Duration: 0:19:01.444373\n"
     ]
    }
   ],
   "source": [
    "print(n)\n",
    "models_lsa[n].fit_model(image_sets_lsa[n],label_sets_lsa[n],x_val,y_val)\n",
    "n = n+1"
   ]
  },
  {
   "cell_type": "code",
   "execution_count": 29,
   "id": "514d4de3",
   "metadata": {},
   "outputs": [
    {
     "name": "stdout",
     "output_type": "stream",
     "text": [
      "8\n",
      "Epoch 1/10\n",
      "247/247 [==============================] - 134s 525ms/step - loss: 3.4650 - accuracy: 0.0993 - val_loss: 3.8192 - val_accuracy: 0.1319\n",
      "Epoch 2/10\n",
      "247/247 [==============================] - 125s 505ms/step - loss: 1.8026 - accuracy: 0.5293 - val_loss: 2.2716 - val_accuracy: 0.4108\n",
      "Epoch 3/10\n",
      "247/247 [==============================] - 125s 506ms/step - loss: 0.5870 - accuracy: 0.8426 - val_loss: 1.6093 - val_accuracy: 0.5586\n",
      "Epoch 4/10\n",
      "247/247 [==============================] - 125s 506ms/step - loss: 0.3588 - accuracy: 0.9043 - val_loss: 1.3514 - val_accuracy: 0.6132\n",
      "Epoch 5/10\n",
      "247/247 [==============================] - 125s 506ms/step - loss: 0.2675 - accuracy: 0.9232 - val_loss: 1.1152 - val_accuracy: 0.7025\n",
      "Epoch 6/10\n",
      "247/247 [==============================] - 117s 475ms/step - loss: 0.2154 - accuracy: 0.9379 - val_loss: 0.9043 - val_accuracy: 0.7522\n",
      "Epoch 7/10\n",
      "247/247 [==============================] - 126s 508ms/step - loss: 0.1781 - accuracy: 0.9486 - val_loss: 0.9078 - val_accuracy: 0.7604\n",
      "Epoch 8/10\n",
      "247/247 [==============================] - 134s 543ms/step - loss: 0.1659 - accuracy: 0.9507 - val_loss: 0.7568 - val_accuracy: 0.7982\n",
      "Epoch 9/10\n",
      "247/247 [==============================] - 115s 465ms/step - loss: 0.1322 - accuracy: 0.9608 - val_loss: 0.6813 - val_accuracy: 0.8094\n",
      "Epoch 10/10\n",
      "247/247 [==============================] - 129s 522ms/step - loss: 0.1209 - accuracy: 0.9616 - val_loss: 0.7117 - val_accuracy: 0.8250\n",
      "Duration: 0:20:53.828897\n"
     ]
    }
   ],
   "source": [
    "print(n)\n",
    "models_lsa[n].fit_model(image_sets_lsa[n],label_sets_lsa[n],x_val,y_val)\n",
    "n = n+1"
   ]
  },
  {
   "cell_type": "code",
   "execution_count": 30,
   "id": "1283b165",
   "metadata": {},
   "outputs": [
    {
     "name": "stdout",
     "output_type": "stream",
     "text": [
      "9\n",
      "Epoch 1/10\n",
      "274/274 [==============================] - 144s 510ms/step - loss: 3.5127 - accuracy: 0.0856 - val_loss: 4.4511 - val_accuracy: 0.0646\n",
      "Epoch 2/10\n",
      "274/274 [==============================] - 137s 501ms/step - loss: 2.9176 - accuracy: 0.2180 - val_loss: 2.6420 - val_accuracy: 0.5019\n",
      "Epoch 3/10\n",
      "274/274 [==============================] - 139s 506ms/step - loss: 0.8819 - accuracy: 0.7561 - val_loss: 1.3994 - val_accuracy: 0.6318\n",
      "Epoch 4/10\n",
      "274/274 [==============================] - 138s 504ms/step - loss: 0.3823 - accuracy: 0.8957 - val_loss: 1.1394 - val_accuracy: 0.7106\n",
      "Epoch 5/10\n",
      "274/274 [==============================] - 138s 504ms/step - loss: 0.2385 - accuracy: 0.9330 - val_loss: 1.1456 - val_accuracy: 0.7122\n",
      "Epoch 6/10\n",
      "274/274 [==============================] - 138s 505ms/step - loss: 0.1898 - accuracy: 0.9458 - val_loss: 1.0317 - val_accuracy: 0.7834\n",
      "Epoch 7/10\n",
      "274/274 [==============================] - 138s 504ms/step - loss: 0.1632 - accuracy: 0.9519 - val_loss: 1.0692 - val_accuracy: 0.7951\n",
      "Epoch 8/10\n",
      "274/274 [==============================] - 139s 507ms/step - loss: 0.1454 - accuracy: 0.9582 - val_loss: 0.6685 - val_accuracy: 0.8380\n",
      "Epoch 9/10\n",
      "274/274 [==============================] - 138s 503ms/step - loss: 0.1251 - accuracy: 0.9644 - val_loss: 0.9097 - val_accuracy: 0.8295\n",
      "Epoch 10/10\n",
      "274/274 [==============================] - 138s 504ms/step - loss: 0.1263 - accuracy: 0.9653 - val_loss: 0.5208 - val_accuracy: 0.8791\n",
      "Duration: 0:23:07.991560\n"
     ]
    }
   ],
   "source": [
    "print(n)#9\n",
    "models_lsa[n].fit_model(image_sets_lsa[n],label_sets_lsa[n],x_val,y_val)\n",
    "n = n+1"
   ]
  },
  {
   "cell_type": "code",
   "execution_count": 32,
   "id": "15778af4",
   "metadata": {},
   "outputs": [
    {
     "name": "stdout",
     "output_type": "stream",
     "text": [
      "Epoch 1/10\n",
      "301/301 [==============================] - 139s 448ms/step - loss: 3.4556 - accuracy: 0.0968 - val_loss: 3.3064 - val_accuracy: 0.4080\n",
      "Epoch 2/10\n",
      "301/301 [==============================] - 137s 456ms/step - loss: 1.3402 - accuracy: 0.6322 - val_loss: 2.9244 - val_accuracy: 0.6076\n",
      "Epoch 3/10\n",
      "301/301 [==============================] - 144s 477ms/step - loss: 0.4939 - accuracy: 0.8632 - val_loss: 1.9233 - val_accuracy: 0.6430\n",
      "Epoch 4/10\n",
      "301/301 [==============================] - 151s 500ms/step - loss: 0.2888 - accuracy: 0.9201 - val_loss: 1.1837 - val_accuracy: 0.7201\n",
      "Epoch 5/10\n",
      "301/301 [==============================] - 153s 509ms/step - loss: 0.2208 - accuracy: 0.9382 - val_loss: 1.0221 - val_accuracy: 0.7413\n",
      "Epoch 6/10\n",
      "301/301 [==============================] - 154s 511ms/step - loss: 0.1796 - accuracy: 0.9505 - val_loss: 0.9081 - val_accuracy: 0.7936\n",
      "Epoch 7/10\n",
      "301/301 [==============================] - 152s 505ms/step - loss: 0.1501 - accuracy: 0.9562 - val_loss: 1.0083 - val_accuracy: 0.8028\n",
      "Epoch 8/10\n",
      "301/301 [==============================] - 152s 506ms/step - loss: 0.1374 - accuracy: 0.9604 - val_loss: 0.8882 - val_accuracy: 0.8183\n",
      "Epoch 9/10\n",
      "301/301 [==============================] - 154s 510ms/step - loss: 0.1246 - accuracy: 0.9643 - val_loss: 0.5594 - val_accuracy: 0.8523\n",
      "Epoch 10/10\n",
      "301/301 [==============================] - 152s 504ms/step - loss: 0.1163 - accuracy: 0.9664 - val_loss: 0.6110 - val_accuracy: 0.8535\n",
      "Duration: 0:24:47.145371\n"
     ]
    }
   ],
   "source": [
    "## print(n)\n",
    "n=10\n",
    "models_lsa[n].fit_model(image_sets_lsa[n],label_sets_lsa[n],x_val,y_val)\n",
    "n = n+1"
   ]
  },
  {
   "cell_type": "code",
   "execution_count": 33,
   "id": "fcc0bfc7",
   "metadata": {},
   "outputs": [
    {
     "name": "stdout",
     "output_type": "stream",
     "text": [
      "11\n",
      "Epoch 1/10\n",
      "329/329 [==============================] - 171s 506ms/step - loss: 3.4186 - accuracy: 0.0854 - val_loss: 4.2187 - val_accuracy: 0.4289\n",
      "Epoch 2/10\n",
      "329/329 [==============================] - 166s 505ms/step - loss: 1.3492 - accuracy: 0.6424 - val_loss: 2.6102 - val_accuracy: 0.6127\n",
      "Epoch 3/10\n",
      "329/329 [==============================] - 165s 503ms/step - loss: 0.4619 - accuracy: 0.8796 - val_loss: 1.8617 - val_accuracy: 0.6407\n",
      "Epoch 4/10\n",
      "329/329 [==============================] - 165s 502ms/step - loss: 0.2683 - accuracy: 0.9279 - val_loss: 1.2021 - val_accuracy: 0.7214\n",
      "Epoch 5/10\n",
      "329/329 [==============================] - 166s 505ms/step - loss: 0.2077 - accuracy: 0.9433 - val_loss: 0.9294 - val_accuracy: 0.7474\n",
      "Epoch 6/10\n",
      "329/329 [==============================] - 165s 503ms/step - loss: 0.1871 - accuracy: 0.9485 - val_loss: 1.1209 - val_accuracy: 0.7471\n",
      "Epoch 7/10\n",
      "329/329 [==============================] - 165s 503ms/step - loss: 0.1484 - accuracy: 0.9599 - val_loss: 0.8341 - val_accuracy: 0.7892\n",
      "Epoch 8/10\n",
      "329/329 [==============================] - 166s 504ms/step - loss: 0.1401 - accuracy: 0.9617 - val_loss: 0.8891 - val_accuracy: 0.7897\n",
      "Epoch 9/10\n",
      "329/329 [==============================] - 168s 511ms/step - loss: 0.1302 - accuracy: 0.9639 - val_loss: 1.1179 - val_accuracy: 0.7790\n",
      "Epoch 10/10\n",
      "329/329 [==============================] - 161s 488ms/step - loss: 0.1188 - accuracy: 0.9676 - val_loss: 0.4426 - val_accuracy: 0.8553\n",
      "Duration: 0:27:39.083197\n"
     ]
    }
   ],
   "source": [
    "print(n)\n",
    "models_lsa[n].fit_model(image_sets_lsa[n],label_sets_lsa[n],x_val,y_val)\n",
    "n = n+1"
   ]
  },
  {
   "cell_type": "code",
   "execution_count": 34,
   "id": "13facd5c",
   "metadata": {},
   "outputs": [
    {
     "name": "stdout",
     "output_type": "stream",
     "text": [
      "12\n",
      "Epoch 1/10\n",
      "356/356 [==============================] - 185s 509ms/step - loss: 3.4829 - accuracy: 0.0783 - val_loss: 3.9674 - val_accuracy: 0.0732\n",
      "Epoch 2/10\n",
      "356/356 [==============================] - 179s 502ms/step - loss: 2.3236 - accuracy: 0.4000 - val_loss: 1.9234 - val_accuracy: 0.6423\n",
      "Epoch 3/10\n",
      "356/356 [==============================] - 180s 505ms/step - loss: 0.5004 - accuracy: 0.8629 - val_loss: 1.2374 - val_accuracy: 0.7408\n",
      "Epoch 4/10\n",
      "356/356 [==============================] - 179s 502ms/step - loss: 0.2475 - accuracy: 0.9321 - val_loss: 0.6373 - val_accuracy: 0.8443\n",
      "Epoch 5/10\n",
      "356/356 [==============================] - 186s 522ms/step - loss: 0.1857 - accuracy: 0.9495 - val_loss: 0.5171 - val_accuracy: 0.8520\n",
      "Epoch 6/10\n",
      "356/356 [==============================] - 181s 508ms/step - loss: 0.1376 - accuracy: 0.9615 - val_loss: 0.6325 - val_accuracy: 0.8505\n",
      "Epoch 7/10\n",
      "356/356 [==============================] - 178s 501ms/step - loss: 0.1234 - accuracy: 0.9649 - val_loss: 0.4819 - val_accuracy: 0.8706\n",
      "Epoch 8/10\n",
      "356/356 [==============================] - 177s 498ms/step - loss: 0.1078 - accuracy: 0.9709 - val_loss: 0.2782 - val_accuracy: 0.9385\n",
      "Epoch 9/10\n",
      "356/356 [==============================] - 177s 497ms/step - loss: 0.1025 - accuracy: 0.9724 - val_loss: 0.3395 - val_accuracy: 0.9224\n",
      "Epoch 10/10\n",
      "356/356 [==============================] - 177s 497ms/step - loss: 0.0990 - accuracy: 0.9720 - val_loss: 0.3313 - val_accuracy: 0.9186\n",
      "Duration: 0:29:58.447344\n"
     ]
    }
   ],
   "source": [
    "print(n)\n",
    "models_lsa[n].fit_model(image_sets_lsa[n],label_sets_lsa[n],x_val,y_val)\n",
    "n = n+1"
   ]
  },
  {
   "cell_type": "code",
   "execution_count": 35,
   "id": "ad7f0043",
   "metadata": {},
   "outputs": [
    {
     "name": "stdout",
     "output_type": "stream",
     "text": [
      "13\n",
      "Epoch 1/10\n",
      "383/383 [==============================] - 198s 504ms/step - loss: 3.3532 - accuracy: 0.1082 - val_loss: 2.5006 - val_accuracy: 0.5292\n",
      "Epoch 2/10\n",
      "383/383 [==============================] - 192s 501ms/step - loss: 1.0195 - accuracy: 0.7213 - val_loss: 1.5018 - val_accuracy: 0.7038\n",
      "Epoch 3/10\n",
      "383/383 [==============================] - 193s 503ms/step - loss: 0.3303 - accuracy: 0.9126 - val_loss: 1.3701 - val_accuracy: 0.7459\n",
      "Epoch 4/10\n",
      "383/383 [==============================] - 191s 498ms/step - loss: 0.2068 - accuracy: 0.9452 - val_loss: 0.9993 - val_accuracy: 0.7831\n",
      "Epoch 5/10\n",
      "383/383 [==============================] - 192s 502ms/step - loss: 0.1529 - accuracy: 0.9584 - val_loss: 0.7121 - val_accuracy: 0.8227\n",
      "Epoch 6/10\n",
      "383/383 [==============================] - 193s 503ms/step - loss: 0.1381 - accuracy: 0.9613 - val_loss: 0.7164 - val_accuracy: 0.8443\n",
      "Epoch 7/10\n",
      "383/383 [==============================] - 192s 500ms/step - loss: 0.1197 - accuracy: 0.9683 - val_loss: 0.5812 - val_accuracy: 0.8752\n",
      "Epoch 8/10\n",
      "383/383 [==============================] - 191s 499ms/step - loss: 0.1110 - accuracy: 0.9695 - val_loss: 0.4468 - val_accuracy: 0.8910\n",
      "Epoch 9/10\n",
      "383/383 [==============================] - 190s 497ms/step - loss: 0.1010 - accuracy: 0.9722 - val_loss: 0.6236 - val_accuracy: 0.8857\n",
      "Epoch 10/10\n",
      "383/383 [==============================] - 190s 497ms/step - loss: 0.1053 - accuracy: 0.9733 - val_loss: 0.5145 - val_accuracy: 0.8961\n",
      "Duration: 0:32:01.544049\n"
     ]
    }
   ],
   "source": [
    "print(n)\n",
    "models_lsa[n].fit_model(image_sets_lsa[n],label_sets_lsa[n],x_val,y_val)\n",
    "n = n+1"
   ]
  },
  {
   "cell_type": "code",
   "execution_count": 36,
   "id": "419551ee",
   "metadata": {},
   "outputs": [
    {
     "name": "stdout",
     "output_type": "stream",
     "text": [
      "14\n",
      "Epoch 1/10\n",
      "411/411 [==============================] - 209s 498ms/step - loss: 3.3909 - accuracy: 0.1109 - val_loss: 2.5643 - val_accuracy: 0.5394\n",
      "Epoch 2/10\n",
      "411/411 [==============================] - 207s 504ms/step - loss: 0.9343 - accuracy: 0.7444 - val_loss: 1.3228 - val_accuracy: 0.7290\n",
      "Epoch 3/10\n",
      "411/411 [==============================] - 213s 519ms/step - loss: 0.3169 - accuracy: 0.9153 - val_loss: 0.8572 - val_accuracy: 0.8301\n",
      "Epoch 4/10\n",
      "411/411 [==============================] - 217s 529ms/step - loss: 0.1838 - accuracy: 0.9505 - val_loss: 0.4850 - val_accuracy: 0.8671\n",
      "Epoch 5/10\n",
      "411/411 [==============================] - 196s 478ms/step - loss: 0.1428 - accuracy: 0.9594 - val_loss: 0.6948 - val_accuracy: 0.8579\n",
      "Epoch 6/10\n",
      "411/411 [==============================] - 204s 497ms/step - loss: 0.1184 - accuracy: 0.9659 - val_loss: 0.2915 - val_accuracy: 0.9104\n",
      "Epoch 7/10\n",
      "411/411 [==============================] - 205s 498ms/step - loss: 0.1115 - accuracy: 0.9701 - val_loss: 0.6255 - val_accuracy: 0.8747\n",
      "Epoch 8/10\n",
      "411/411 [==============================] - 204s 497ms/step - loss: 0.0973 - accuracy: 0.9732 - val_loss: 0.3685 - val_accuracy: 0.9051\n",
      "Epoch 9/10\n",
      "411/411 [==============================] - 205s 500ms/step - loss: 0.0874 - accuracy: 0.9771 - val_loss: 0.6998 - val_accuracy: 0.8844\n",
      "Epoch 10/10\n",
      "411/411 [==============================] - 204s 496ms/step - loss: 0.0910 - accuracy: 0.9746 - val_loss: 0.2696 - val_accuracy: 0.9278\n",
      "Duration: 0:34:24.921547\n"
     ]
    }
   ],
   "source": [
    "print(n)#14\n",
    "models_lsa[n].fit_model(image_sets_lsa[n],label_sets_lsa[n],x_val,y_val)\n",
    "n = n+1"
   ]
  },
  {
   "cell_type": "code",
   "execution_count": 37,
   "id": "60f36b0b",
   "metadata": {},
   "outputs": [
    {
     "name": "stdout",
     "output_type": "stream",
     "text": [
      "15\n",
      "Epoch 1/10\n",
      "438/438 [==============================] - 221s 495ms/step - loss: 3.3320 - accuracy: 0.1298 - val_loss: 1.7462 - val_accuracy: 0.6652\n",
      "Epoch 2/10\n",
      "438/438 [==============================] - 217s 496ms/step - loss: 0.7742 - accuracy: 0.7753 - val_loss: 0.9061 - val_accuracy: 0.7938\n",
      "Epoch 3/10\n",
      "438/438 [==============================] - 218s 497ms/step - loss: 0.2926 - accuracy: 0.9180 - val_loss: 0.5027 - val_accuracy: 0.9109\n",
      "Epoch 4/10\n",
      "438/438 [==============================] - 217s 495ms/step - loss: 0.1766 - accuracy: 0.9514 - val_loss: 0.3842 - val_accuracy: 0.9219\n",
      "Epoch 5/10\n",
      "438/438 [==============================] - 217s 494ms/step - loss: 0.1340 - accuracy: 0.9616 - val_loss: 0.2531 - val_accuracy: 0.9416\n",
      "Epoch 6/10\n",
      "438/438 [==============================] - 216s 494ms/step - loss: 0.1107 - accuracy: 0.9686 - val_loss: 0.3052 - val_accuracy: 0.9403\n",
      "Epoch 7/10\n",
      "438/438 [==============================] - 216s 494ms/step - loss: 0.0978 - accuracy: 0.9724 - val_loss: 0.1862 - val_accuracy: 0.9439\n",
      "Epoch 8/10\n",
      "438/438 [==============================] - 217s 497ms/step - loss: 0.0985 - accuracy: 0.9737 - val_loss: 0.1406 - val_accuracy: 0.9610\n",
      "Epoch 9/10\n",
      "438/438 [==============================] - 219s 499ms/step - loss: 0.0904 - accuracy: 0.9744 - val_loss: 0.1411 - val_accuracy: 0.9520\n",
      "Epoch 10/10\n",
      "438/438 [==============================] - 219s 500ms/step - loss: 0.0951 - accuracy: 0.9768 - val_loss: 0.1933 - val_accuracy: 0.9576\n",
      "Duration: 0:36:17.720904\n"
     ]
    }
   ],
   "source": [
    "n=15\n",
    "print(n)\n",
    "models_lsa[n].fit_model(image_sets_lsa[n],label_sets_lsa[n],x_val,y_val)\n",
    "n = n+1"
   ]
  },
  {
   "cell_type": "code",
   "execution_count": 38,
   "id": "b0203db1",
   "metadata": {},
   "outputs": [
    {
     "name": "stdout",
     "output_type": "stream",
     "text": [
      "16\n",
      "Epoch 1/10\n",
      "465/465 [==============================] - 236s 499ms/step - loss: 3.4119 - accuracy: 0.0977 - val_loss: 1.7727 - val_accuracy: 0.6591\n",
      "Epoch 2/10\n",
      "465/465 [==============================] - 233s 500ms/step - loss: 0.8846 - accuracy: 0.7451 - val_loss: 0.8356 - val_accuracy: 0.8658\n",
      "Epoch 3/10\n",
      "465/465 [==============================] - 231s 496ms/step - loss: 0.2877 - accuracy: 0.9173 - val_loss: 0.4265 - val_accuracy: 0.9219\n",
      "Epoch 4/10\n",
      "465/465 [==============================] - 230s 495ms/step - loss: 0.1667 - accuracy: 0.9533 - val_loss: 0.2314 - val_accuracy: 0.9283\n",
      "Epoch 5/10\n",
      "465/465 [==============================] - 230s 495ms/step - loss: 0.1188 - accuracy: 0.9668 - val_loss: 0.3376 - val_accuracy: 0.9393\n",
      "Epoch 6/10\n",
      "465/465 [==============================] - 231s 496ms/step - loss: 0.1058 - accuracy: 0.9705 - val_loss: 0.2148 - val_accuracy: 0.9456\n",
      "Epoch 7/10\n",
      "465/465 [==============================] - 230s 494ms/step - loss: 0.0945 - accuracy: 0.9745 - val_loss: 0.1663 - val_accuracy: 0.9638\n",
      "Epoch 8/10\n",
      "465/465 [==============================] - 230s 494ms/step - loss: 0.0898 - accuracy: 0.9759 - val_loss: 0.1785 - val_accuracy: 0.9610\n",
      "Epoch 9/10\n",
      "465/465 [==============================] - 230s 494ms/step - loss: 0.0843 - accuracy: 0.9784 - val_loss: 0.1411 - val_accuracy: 0.9699\n",
      "Epoch 10/10\n",
      "465/465 [==============================] - 230s 496ms/step - loss: 0.0827 - accuracy: 0.9791 - val_loss: 0.3953 - val_accuracy: 0.9456\n",
      "Duration: 0:38:30.504173\n"
     ]
    }
   ],
   "source": [
    "print(n)\n",
    "models_lsa[n].fit_model(image_sets_lsa[n],label_sets_lsa[n],x_val,y_val)\n",
    "n = n+1"
   ]
  },
  {
   "cell_type": "code",
   "execution_count": 39,
   "id": "947e9756",
   "metadata": {},
   "outputs": [
    {
     "name": "stdout",
     "output_type": "stream",
     "text": [
      "17\n",
      "Epoch 1/10\n",
      "493/493 [==============================] - 247s 493ms/step - loss: 3.4610 - accuracy: 0.0834 - val_loss: 1.7534 - val_accuracy: 0.5925\n",
      "Epoch 2/10\n",
      "493/493 [==============================] - 244s 494ms/step - loss: 1.0035 - accuracy: 0.7181 - val_loss: 0.3677 - val_accuracy: 0.9255\n",
      "Epoch 3/10\n",
      "493/493 [==============================] - 244s 495ms/step - loss: 0.2479 - accuracy: 0.9269 - val_loss: 0.1735 - val_accuracy: 0.9467\n",
      "Epoch 4/10\n",
      "493/493 [==============================] - 243s 493ms/step - loss: 0.1430 - accuracy: 0.9605 - val_loss: 0.3232 - val_accuracy: 0.9456\n",
      "Epoch 5/10\n",
      "493/493 [==============================] - 245s 496ms/step - loss: 0.1044 - accuracy: 0.9703 - val_loss: 0.1769 - val_accuracy: 0.9492\n",
      "Epoch 6/10\n",
      "493/493 [==============================] - 270s 547ms/step - loss: 0.0948 - accuracy: 0.9718 - val_loss: 0.0946 - val_accuracy: 0.9691\n",
      "Epoch 7/10\n",
      "493/493 [==============================] - 243s 494ms/step - loss: 0.0797 - accuracy: 0.9794 - val_loss: 0.3104 - val_accuracy: 0.9510\n",
      "Epoch 8/10\n",
      "493/493 [==============================] - 243s 492ms/step - loss: 0.0834 - accuracy: 0.9790 - val_loss: 0.0721 - val_accuracy: 0.9781\n",
      "Epoch 9/10\n",
      "493/493 [==============================] - 243s 493ms/step - loss: 0.0793 - accuracy: 0.9795 - val_loss: 0.2568 - val_accuracy: 0.9569\n",
      "Epoch 10/10\n",
      "493/493 [==============================] - 242s 492ms/step - loss: 0.0791 - accuracy: 0.9800 - val_loss: 0.1036 - val_accuracy: 0.9750\n",
      "Duration: 0:41:03.781116\n"
     ]
    }
   ],
   "source": [
    "print(n)\n",
    "models_lsa[n].fit_model(image_sets_lsa[n],label_sets_lsa[n],x_val,y_val)\n",
    "n = n+1"
   ]
  },
  {
   "cell_type": "code",
   "execution_count": 40,
   "id": "b9a0a231",
   "metadata": {},
   "outputs": [
    {
     "name": "stdout",
     "output_type": "stream",
     "text": [
      "18\n",
      "Epoch 1/10\n",
      "520/520 [==============================] - 262s 495ms/step - loss: 3.3563 - accuracy: 0.1098 - val_loss: 0.8334 - val_accuracy: 0.7755\n",
      "Epoch 2/10\n",
      "520/520 [==============================] - 258s 495ms/step - loss: 0.6810 - accuracy: 0.8023 - val_loss: 0.1214 - val_accuracy: 0.9599\n",
      "Epoch 3/10\n",
      "520/520 [==============================] - 257s 495ms/step - loss: 0.2014 - accuracy: 0.9408 - val_loss: 0.1142 - val_accuracy: 0.9579\n",
      "Epoch 4/10\n",
      "520/520 [==============================] - 257s 494ms/step - loss: 0.1372 - accuracy: 0.9604 - val_loss: 0.0881 - val_accuracy: 0.9709\n",
      "Epoch 5/10\n",
      "520/520 [==============================] - 257s 495ms/step - loss: 0.1049 - accuracy: 0.9703 - val_loss: 0.0561 - val_accuracy: 0.9867\n",
      "Epoch 6/10\n",
      "520/520 [==============================] - 256s 491ms/step - loss: 0.0976 - accuracy: 0.9733 - val_loss: 0.0412 - val_accuracy: 0.9893\n",
      "Epoch 7/10\n",
      "520/520 [==============================] - 255s 490ms/step - loss: 0.0905 - accuracy: 0.9750 - val_loss: 0.0337 - val_accuracy: 0.9923\n",
      "Epoch 8/10\n",
      "520/520 [==============================] - 256s 492ms/step - loss: 0.0822 - accuracy: 0.9781 - val_loss: 0.0352 - val_accuracy: 0.9944\n",
      "Epoch 9/10\n",
      "520/520 [==============================] - 257s 494ms/step - loss: 0.0905 - accuracy: 0.9758 - val_loss: 0.0328 - val_accuracy: 0.9923\n",
      "Epoch 10/10\n",
      "520/520 [==============================] - 255s 490ms/step - loss: 0.0815 - accuracy: 0.9786 - val_loss: 0.0335 - val_accuracy: 0.9939\n",
      "Duration: 0:42:48.879990\n"
     ]
    }
   ],
   "source": [
    "print(n)\n",
    "models_lsa[n].fit_model(image_sets_lsa[n],label_sets_lsa[n],x_val,y_val)\n",
    "n = n+1"
   ]
  },
  {
   "cell_type": "code",
   "execution_count": 41,
   "id": "d3a5471a",
   "metadata": {},
   "outputs": [
    {
     "name": "stdout",
     "output_type": "stream",
     "text": [
      "19\n",
      "Epoch 1/10\n",
      "547/547 [==============================] - 273s 492ms/step - loss: 3.3047 - accuracy: 0.1202 - val_loss: 0.5335 - val_accuracy: 0.8273\n",
      "Epoch 2/10\n",
      "547/547 [==============================] - 268s 491ms/step - loss: 0.6030 - accuracy: 0.8179 - val_loss: 0.0666 - val_accuracy: 0.9809\n",
      "Epoch 3/10\n",
      "547/547 [==============================] - 271s 495ms/step - loss: 0.1928 - accuracy: 0.9433 - val_loss: 0.0346 - val_accuracy: 0.9916\n",
      "Epoch 4/10\n",
      "547/547 [==============================] - 269s 493ms/step - loss: 0.1303 - accuracy: 0.9639 - val_loss: 0.0518 - val_accuracy: 0.9855\n",
      "Epoch 5/10\n",
      "547/547 [==============================] - 271s 495ms/step - loss: 0.1052 - accuracy: 0.9717 - val_loss: 0.0738 - val_accuracy: 0.9824\n",
      "Epoch 6/10\n",
      "547/547 [==============================] - 299s 548ms/step - loss: 0.0814 - accuracy: 0.9775 - val_loss: 0.0288 - val_accuracy: 0.9936\n",
      "Epoch 7/10\n",
      "547/547 [==============================] - 359s 657ms/step - loss: 0.0828 - accuracy: 0.9781 - val_loss: 0.0258 - val_accuracy: 0.9964\n",
      "Epoch 8/10\n",
      "547/547 [==============================] - 357s 653ms/step - loss: 0.0850 - accuracy: 0.9781 - val_loss: 0.0251 - val_accuracy: 0.9954\n",
      "Epoch 9/10\n",
      "547/547 [==============================] - 358s 655ms/step - loss: 0.0754 - accuracy: 0.9807 - val_loss: 0.0213 - val_accuracy: 0.9957\n",
      "Epoch 10/10\n",
      "547/547 [==============================] - 358s 654ms/step - loss: 0.0867 - accuracy: 0.9788 - val_loss: 0.0275 - val_accuracy: 0.9949\n",
      "Duration: 0:51:24.701596\n"
     ]
    }
   ],
   "source": [
    "print(n)#19\n",
    "models_lsa[n].fit_model(image_sets_lsa[n],label_sets_lsa[n],x_val,y_val)\n",
    "n = n+1"
   ]
  },
  {
   "cell_type": "code",
   "execution_count": 46,
   "id": "0e25266c",
   "metadata": {},
   "outputs": [
    {
     "name": "stdout",
     "output_type": "stream",
     "text": [
      "20\n",
      "Epoch 1/10\n",
      "552/552 [==============================] - 352s 620ms/step - loss: 3.4177 - accuracy: 0.0913 - val_loss: 1.4554 - val_accuracy: 0.5233\n",
      "Epoch 2/10\n",
      "552/552 [==============================] - 339s 614ms/step - loss: 1.0160 - accuracy: 0.6861 - val_loss: 0.1723 - val_accuracy: 0.9546\n",
      "Epoch 3/10\n",
      "552/552 [==============================] - 365s 661ms/step - loss: 0.2643 - accuracy: 0.9206 - val_loss: 0.0559 - val_accuracy: 0.9819\n",
      "Epoch 4/10\n",
      "552/552 [==============================] - 364s 659ms/step - loss: 0.1577 - accuracy: 0.9558 - val_loss: 0.0305 - val_accuracy: 0.9931\n",
      "Epoch 5/10\n",
      "552/552 [==============================] - 363s 658ms/step - loss: 0.1243 - accuracy: 0.9661 - val_loss: 0.1096 - val_accuracy: 0.9737\n",
      "Epoch 6/10\n",
      "552/552 [==============================] - 363s 657ms/step - loss: 0.0941 - accuracy: 0.9737 - val_loss: 0.0290 - val_accuracy: 0.9936\n",
      "Epoch 7/10\n",
      "552/552 [==============================] - 365s 661ms/step - loss: 0.0939 - accuracy: 0.9736 - val_loss: 0.0306 - val_accuracy: 0.9934\n",
      "Epoch 8/10\n",
      "552/552 [==============================] - 366s 663ms/step - loss: 0.0963 - accuracy: 0.9759 - val_loss: 0.0365 - val_accuracy: 0.9954\n",
      "Epoch 9/10\n",
      "552/552 [==============================] - 352s 638ms/step - loss: 0.0898 - accuracy: 0.9771 - val_loss: 0.0589 - val_accuracy: 0.9934\n",
      "Epoch 10/10\n",
      "552/552 [==============================] - 357s 647ms/step - loss: 0.0943 - accuracy: 0.9775 - val_loss: 0.0348 - val_accuracy: 0.9949\n",
      "Duration: 0:59:45.212731\n"
     ]
    }
   ],
   "source": [
    "print(n)#last\n",
    "models_lsa[n].fit_model(image_sets_lsa[n],label_sets_lsa[n],x_val,y_val)\n",
    "n = n+1"
   ]
  },
  {
   "cell_type": "code",
   "execution_count": null,
   "id": "a6deb814",
   "metadata": {},
   "outputs": [],
   "source": [
    "len(models_lsa)"
   ]
  },
  {
   "cell_type": "code",
   "execution_count": null,
   "id": "00eb4c81",
   "metadata": {},
   "outputs": [],
   "source": [
    "models_lsa[-1].evaluate(x_val,y_val)"
   ]
  },
  {
   "cell_type": "code",
   "execution_count": 43,
   "id": "a50d6c39",
   "metadata": {},
   "outputs": [
    {
     "data": {
      "text/plain": [
       "21"
      ]
     },
     "execution_count": 43,
     "metadata": {},
     "output_type": "execute_result"
    }
   ],
   "source": [
    "len(models_lsa)"
   ]
  },
  {
   "cell_type": "code",
   "execution_count": 47,
   "id": "c7794bb9",
   "metadata": {},
   "outputs": [
    {
     "name": "stdout",
     "output_type": "stream",
     "text": [
      "INFO:tensorflow:Assets written to: D:/models/aug_22/gtsrb/C1-2/gtsrb_model_c1_aug_lsa_e1_20\\assets\n",
      "Model has been saved\n"
     ]
    }
   ],
   "source": [
    "#new_model_lsa_dir  = \"D:/models/gtsrb_models/C1/gtsrb_model_c1_sep_lsa_e2\"\n",
    "new_model_lsa_dir  = \"D:/models/aug_22/gtsrb/C1-2/gtsrb_model_c1_aug_lsa_e1\"\n",
    "\n",
    "i=20\n",
    "\n",
    "for model in models_lsa[-1:]:\n",
    "    model.save(new_model_lsa_dir+\"_\"+str(i))\n",
    "    i+=1"
   ]
  },
  {
   "cell_type": "code",
   "execution_count": 48,
   "id": "f4c281ec",
   "metadata": {},
   "outputs": [],
   "source": [
    "import gc"
   ]
  },
  {
   "cell_type": "code",
   "execution_count": 50,
   "id": "1695d396",
   "metadata": {},
   "outputs": [
    {
     "ename": "NameError",
     "evalue": "name 'image_sets_lsa' is not defined",
     "output_type": "error",
     "traceback": [
      "\u001b[1;31m---------------------------------------------------------------------------\u001b[0m",
      "\u001b[1;31mNameError\u001b[0m                                 Traceback (most recent call last)",
      "\u001b[1;32m<ipython-input-50-1a95b935d1f5>\u001b[0m in \u001b[0;36m<module>\u001b[1;34m\u001b[0m\n\u001b[1;32m----> 1\u001b[1;33m \u001b[1;32mdel\u001b[0m \u001b[0mimage_sets_lsa\u001b[0m\u001b[1;33m\u001b[0m\u001b[1;33m\u001b[0m\u001b[0m\n\u001b[0m\u001b[0;32m      2\u001b[0m \u001b[1;32mdel\u001b[0m \u001b[0mlabel_sets_lsa\u001b[0m\u001b[1;33m\u001b[0m\u001b[1;33m\u001b[0m\u001b[0m\n\u001b[0;32m      3\u001b[0m \u001b[1;32mdel\u001b[0m \u001b[0mlsa_values\u001b[0m\u001b[1;33m\u001b[0m\u001b[1;33m\u001b[0m\u001b[0m\n\u001b[0;32m      4\u001b[0m \u001b[1;31m#del target_lsa\u001b[0m\u001b[1;33m\u001b[0m\u001b[1;33m\u001b[0m\u001b[1;33m\u001b[0m\u001b[0m\n",
      "\u001b[1;31mNameError\u001b[0m: name 'image_sets_lsa' is not defined"
     ]
    }
   ],
   "source": [
    "del image_sets_lsa\n",
    "del label_sets_lsa\n",
    "del lsa_values"
   ]
  },
  {
   "cell_type": "code",
   "execution_count": 57,
   "id": "994df783",
   "metadata": {},
   "outputs": [],
   "source": [
    "del models_lsa"
   ]
  },
  {
   "cell_type": "code",
   "execution_count": 58,
   "id": "521a0e50",
   "metadata": {},
   "outputs": [
    {
     "data": {
      "text/plain": [
       "5416"
      ]
     },
     "execution_count": 58,
     "metadata": {},
     "output_type": "execute_result"
    }
   ],
   "source": [
    "gc.collect()"
   ]
  },
  {
   "cell_type": "code",
   "execution_count": null,
   "id": "66c44d5f",
   "metadata": {},
   "outputs": [],
   "source": [
    "loading = False\n",
    "\n",
    "models_lsa = []\n",
    "\n",
    "if loading:\n",
    "    for i in range(10,20):\n",
    "        model_lsa_dir = \"D:/models/aug_22/gtsrb/C1/gtsrb_model_c1_aug_lsa_e1_\"+str(i)\n",
    "        print(model_lsa_dir)\n",
    "        model =utils.My_model('gtsrb',True,model_lsa_dir)\n",
    "        model.model.compile(loss= 'categorical_crossentropy', optimizer = 'rmsprop', metrics = ['accuracy',tf.keras.metrics.Precision(), tf.keras.metrics.Recall()])\n",
    "        models_lsa.append(model)\n",
    "       \n",
    "    "
   ]
  },
  {
   "cell_type": "markdown",
   "id": "a13ef06e",
   "metadata": {},
   "source": [
    "## Training guided by DSA"
   ]
  },
  {
   "cell_type": "code",
   "execution_count": null,
   "id": "89a3d5c2",
   "metadata": {},
   "outputs": [],
   "source": []
  },
  {
   "cell_type": "code",
   "execution_count": 54,
   "id": "099c7fa2",
   "metadata": {},
   "outputs": [
    {
     "name": "stdout",
     "output_type": "stream",
     "text": [
      "0 :\n",
      "0  ->  1750\n",
      "1750\n",
      "1 :\n",
      "0  ->  3500\n",
      "3500\n",
      "2 :\n",
      "0  ->  5250\n",
      "5250\n",
      "3 :\n",
      "0  ->  7000\n",
      "7000\n",
      "4 :\n",
      "0  ->  8750\n",
      "8750\n",
      "5 :\n",
      "0  ->  10500\n",
      "10500\n",
      "6 :\n",
      "0  ->  12250\n",
      "12250\n",
      "7 :\n",
      "0  ->  14000\n",
      "14000\n",
      "8 :\n",
      "0  ->  15750\n",
      "15750\n",
      "9 :\n",
      "0  ->  17500\n",
      "17500\n",
      "10 :\n",
      "0  ->  19250\n",
      "19250\n",
      "11 :\n",
      "0  ->  21000\n",
      "21000\n",
      "12 :\n",
      "0  ->  22750\n",
      "22750\n",
      "13 :\n",
      "0  ->  24500\n",
      "24500\n",
      "14 :\n",
      "0  ->  26250\n",
      "26250\n",
      "15 :\n",
      "0  ->  28000\n",
      "28000\n",
      "16 :\n",
      "0  ->  29750\n",
      "29750\n",
      "17 :\n",
      "0  ->  31500\n",
      "31500\n",
      "18 :\n",
      "0  ->  33250\n",
      "33250\n",
      "19 :\n",
      "0  ->  35000\n",
      "35000\n",
      "20 :\n",
      "Last\n",
      "0  ->  37037\n",
      "35287\n"
     ]
    }
   ],
   "source": [
    "m = 1750\n",
    "n = 0\n",
    "image_sets_dsa = []\n",
    "label_sets_dsa = []\n",
    "\n",
    "\n",
    "for i in range((len(top_images_by_dsa)//m)+1):\n",
    "    print(i,\":\")\n",
    "    if (i+1 >= ((len(top_images_by_dsa)//m)+1)):\n",
    "        print(\"Last\")\n",
    "        print(0,\" -> \",n+m+(len(top_images_by_dsa)%m))\n",
    "        top_images_by_dsa_n = np.array(top_images_by_dsa[:n+m+(len(top_images_by_dsa)%m)])\n",
    "        top_labels_by_dsa_n = np.array(top_labels_by_dsa[:n+m+(len(top_images_by_dsa)%m)])\n",
    "    else:\n",
    "        print(0,\" -> \",m+n)\n",
    "        top_images_by_dsa_n = np.array(top_images_by_dsa[:n+m])\n",
    "        top_labels_by_dsa_n = np.array(top_labels_by_dsa[:n+m])\n",
    "    image_sets_dsa.append(top_images_by_dsa_n)\n",
    "    label_sets_dsa.append(top_labels_by_dsa_n)\n",
    "    print(len(top_images_by_dsa_n))\n",
    "    n += m\n",
    "\n"
   ]
  },
  {
   "cell_type": "code",
   "execution_count": 64,
   "id": "8713d09c",
   "metadata": {
    "scrolled": true
   },
   "outputs": [
    {
     "name": "stdout",
     "output_type": "stream",
     "text": [
      "C:/Users/fjdur/Documents/upc-july/models/tf_model_25-06/\n",
      "0 :\n",
      "Model compiled\n",
      "1 :\n",
      "Model compiled\n",
      "2 :\n",
      "Model compiled\n",
      "3 :\n",
      "Model compiled\n",
      "4 :\n",
      "Model compiled\n",
      "5 :\n",
      "Model compiled\n",
      "6 :\n",
      "Model compiled\n",
      "7 :\n",
      "Model compiled\n",
      "8 :\n",
      "Model compiled\n",
      "9 :\n",
      "Model compiled\n",
      "10 :\n",
      "Model compiled\n",
      "11 :\n",
      "Model compiled\n",
      "12 :\n",
      "Model compiled\n",
      "13 :\n",
      "Model compiled\n",
      "14 :\n",
      "Model compiled\n",
      "15 :\n",
      "Model compiled\n",
      "16 :\n",
      "Model compiled\n",
      "17 :\n",
      "Model compiled\n",
      "18 :\n",
      "Model compiled\n",
      "19 :\n",
      "Model compiled\n",
      "20 :\n",
      "Model compiled\n"
     ]
    }
   ],
   "source": [
    "print(model_dir)\n",
    "\n",
    "models_dsa = []\n",
    "for i in range(len(label_sets_dsa)):\n",
    "    print(i,\":\")\n",
    "    model = utils.My_model('gtsrb',False,None)\n",
    "    model.compile_model()\n",
    "    models_dsa.append(model)\n"
   ]
  },
  {
   "cell_type": "code",
   "execution_count": 65,
   "id": "9990e037",
   "metadata": {},
   "outputs": [
    {
     "name": "stdout",
     "output_type": "stream",
     "text": [
      "0\n",
      "Epoch 1/10\n",
      "28/28 [==============================] - 37s 978ms/step - loss: 3.9212 - accuracy: 0.0542 - val_loss: 3.5527 - val_accuracy: 0.0574\n",
      "Epoch 2/10\n",
      "28/28 [==============================] - 27s 980ms/step - loss: 3.5350 - accuracy: 0.0659 - val_loss: 3.5438 - val_accuracy: 0.0554\n",
      "Epoch 3/10\n",
      "28/28 [==============================] - 27s 969ms/step - loss: 3.5194 - accuracy: 0.0567 - val_loss: 3.4831 - val_accuracy: 0.0776\n",
      "Epoch 4/10\n",
      "28/28 [==============================] - 27s 972ms/step - loss: 3.4850 - accuracy: 0.0873 - val_loss: 3.4509 - val_accuracy: 0.0967\n",
      "Epoch 5/10\n",
      "28/28 [==============================] - 26s 956ms/step - loss: 3.4419 - accuracy: 0.0976 - val_loss: 3.4590 - val_accuracy: 0.0579\n",
      "Epoch 6/10\n",
      "28/28 [==============================] - 25s 900ms/step - loss: 3.4483 - accuracy: 0.0777 - val_loss: 3.4436 - val_accuracy: 0.0857\n",
      "Epoch 7/10\n",
      "28/28 [==============================] - 25s 917ms/step - loss: 3.4118 - accuracy: 0.0978 - val_loss: 3.4163 - val_accuracy: 0.0799\n",
      "Epoch 8/10\n",
      "28/28 [==============================] - 26s 923ms/step - loss: 3.3515 - accuracy: 0.1164 - val_loss: 3.3599 - val_accuracy: 0.0822\n",
      "Epoch 9/10\n",
      "28/28 [==============================] - 27s 967ms/step - loss: 3.2671 - accuracy: 0.1154 - val_loss: 3.7030 - val_accuracy: 0.1018\n",
      "Epoch 10/10\n",
      "28/28 [==============================] - 25s 922ms/step - loss: 3.1945 - accuracy: 0.1432 - val_loss: 2.9676 - val_accuracy: 0.2029\n",
      "Duration: 0:04:32.405736\n"
     ]
    }
   ],
   "source": [
    "n=0\n",
    "print(n)\n",
    "\n",
    "models_dsa[n].fit_model(image_sets_dsa[n],label_sets_dsa[n],x_val,y_val)\n",
    "n = n+1"
   ]
  },
  {
   "cell_type": "code",
   "execution_count": 66,
   "id": "c24fa024",
   "metadata": {},
   "outputs": [
    {
     "name": "stdout",
     "output_type": "stream",
     "text": [
      "1\n",
      "Epoch 1/10\n",
      "55/55 [==============================] - 59s 831ms/step - loss: 3.6809 - accuracy: 0.0522 - val_loss: 3.5126 - val_accuracy: 0.0498\n",
      "Epoch 2/10\n",
      "55/55 [==============================] - 44s 811ms/step - loss: 3.5639 - accuracy: 0.0632 - val_loss: 3.4273 - val_accuracy: 0.0873\n",
      "Epoch 3/10\n",
      "55/55 [==============================] - 44s 810ms/step - loss: 3.4784 - accuracy: 0.0883 - val_loss: 3.4011 - val_accuracy: 0.0908\n",
      "Epoch 4/10\n",
      "55/55 [==============================] - 44s 811ms/step - loss: 3.4525 - accuracy: 0.0913 - val_loss: 3.4166 - val_accuracy: 0.0875\n",
      "Epoch 5/10\n",
      "55/55 [==============================] - 46s 833ms/step - loss: 3.3746 - accuracy: 0.1080 - val_loss: 2.9297 - val_accuracy: 0.2085\n",
      "Epoch 6/10\n",
      "55/55 [==============================] - 45s 820ms/step - loss: 2.9960 - accuracy: 0.2009 - val_loss: 2.4161 - val_accuracy: 0.3174\n",
      "Epoch 7/10\n",
      "55/55 [==============================] - 44s 806ms/step - loss: 2.5526 - accuracy: 0.2871 - val_loss: 1.7408 - val_accuracy: 0.4978\n",
      "Epoch 8/10\n",
      "55/55 [==============================] - 45s 813ms/step - loss: 2.0812 - accuracy: 0.4057 - val_loss: 1.2356 - val_accuracy: 0.6234\n",
      "Epoch 9/10\n",
      "55/55 [==============================] - 44s 809ms/step - loss: 1.6676 - accuracy: 0.5202 - val_loss: 1.3468 - val_accuracy: 0.6542\n",
      "Epoch 10/10\n",
      "55/55 [==============================] - 45s 817ms/step - loss: 1.3416 - accuracy: 0.5980 - val_loss: 0.6284 - val_accuracy: 0.8081\n",
      "Duration: 0:07:41.142403\n"
     ]
    }
   ],
   "source": [
    "n=1\n",
    "print(n)\n",
    "\n",
    "models_dsa[n].fit_model(image_sets_dsa[n],label_sets_dsa[n],x_val,y_val)\n",
    "n = n+1"
   ]
  },
  {
   "cell_type": "code",
   "execution_count": 67,
   "id": "2582ba35",
   "metadata": {},
   "outputs": [
    {
     "name": "stdout",
     "output_type": "stream",
     "text": [
      "2\n",
      "Epoch 1/10\n",
      "83/83 [==============================] - 73s 764ms/step - loss: 3.5560 - accuracy: 0.1608 - val_loss: 3.6020 - val_accuracy: 0.0452\n",
      "Epoch 2/10\n",
      "83/83 [==============================] - 54s 656ms/step - loss: 3.1190 - accuracy: 0.2352 - val_loss: 3.5177 - val_accuracy: 0.0674\n",
      "Epoch 3/10\n",
      "83/83 [==============================] - 49s 586ms/step - loss: 2.7537 - accuracy: 0.3201 - val_loss: 3.3288 - val_accuracy: 0.1717\n",
      "Epoch 4/10\n",
      "83/83 [==============================] - 47s 564ms/step - loss: 2.1163 - accuracy: 0.4409 - val_loss: 2.5367 - val_accuracy: 0.2991\n",
      "Epoch 5/10\n",
      "83/83 [==============================] - 47s 564ms/step - loss: 1.7506 - accuracy: 0.5291 - val_loss: 1.4480 - val_accuracy: 0.6109\n",
      "Epoch 6/10\n",
      "83/83 [==============================] - 47s 562ms/step - loss: 1.3365 - accuracy: 0.6115 - val_loss: 1.4836 - val_accuracy: 0.5665\n",
      "Epoch 7/10\n",
      "83/83 [==============================] - 47s 567ms/step - loss: 1.0486 - accuracy: 0.7029 - val_loss: 0.6523 - val_accuracy: 0.8056\n",
      "Epoch 8/10\n",
      "83/83 [==============================] - 47s 571ms/step - loss: 0.7483 - accuracy: 0.7747 - val_loss: 0.4241 - val_accuracy: 0.8645\n",
      "Epoch 9/10\n",
      "83/83 [==============================] - 48s 580ms/step - loss: 0.6308 - accuracy: 0.8072 - val_loss: 0.4300 - val_accuracy: 0.8727\n",
      "Epoch 10/10\n",
      "83/83 [==============================] - 46s 549ms/step - loss: 0.5200 - accuracy: 0.8476 - val_loss: 0.3528 - val_accuracy: 0.8928\n",
      "Duration: 0:08:23.899842\n"
     ]
    }
   ],
   "source": [
    "n=2\n",
    "print(n)\n",
    "\n",
    "models_dsa[n].fit_model(image_sets_dsa[n],label_sets_dsa[n],x_val,y_val)\n",
    "n = n+1"
   ]
  },
  {
   "cell_type": "code",
   "execution_count": 68,
   "id": "62d686d3",
   "metadata": {},
   "outputs": [
    {
     "name": "stdout",
     "output_type": "stream",
     "text": [
      "3\n",
      "Epoch 1/10\n",
      "110/110 [==============================] - 64s 541ms/step - loss: 4.6983 - accuracy: 0.1639 - val_loss: 4.4671 - val_accuracy: 0.0513\n",
      "Epoch 2/10\n",
      "110/110 [==============================] - 58s 531ms/step - loss: 2.8858 - accuracy: 0.2582 - val_loss: 3.9251 - val_accuracy: 0.0643\n",
      "Epoch 3/10\n",
      "110/110 [==============================] - 59s 540ms/step - loss: 2.2965 - accuracy: 0.3652 - val_loss: 2.3294 - val_accuracy: 0.4075\n",
      "Epoch 4/10\n",
      "110/110 [==============================] - 59s 538ms/step - loss: 1.5056 - accuracy: 0.6096 - val_loss: 1.7552 - val_accuracy: 0.5022\n",
      "Epoch 5/10\n",
      "110/110 [==============================] - 80s 726ms/step - loss: 1.0796 - accuracy: 0.7082 - val_loss: 1.2883 - val_accuracy: 0.6652\n",
      "Epoch 6/10\n",
      "110/110 [==============================] - 79s 719ms/step - loss: 0.8268 - accuracy: 0.7558 - val_loss: 0.7558 - val_accuracy: 0.7880\n",
      "Epoch 7/10\n",
      "110/110 [==============================] - 80s 724ms/step - loss: 0.6274 - accuracy: 0.8172 - val_loss: 0.5614 - val_accuracy: 0.8316\n",
      "Epoch 8/10\n",
      "110/110 [==============================] - 80s 724ms/step - loss: 0.4925 - accuracy: 0.8505 - val_loss: 0.3944 - val_accuracy: 0.8898\n",
      "Epoch 9/10\n",
      "110/110 [==============================] - 79s 722ms/step - loss: 0.4150 - accuracy: 0.8749 - val_loss: 0.3036 - val_accuracy: 0.9061\n",
      "Epoch 10/10\n",
      "110/110 [==============================] - 79s 721ms/step - loss: 0.3394 - accuracy: 0.8908 - val_loss: 0.2861 - val_accuracy: 0.9145\n",
      "Duration: 0:11:56.828794\n"
     ]
    }
   ],
   "source": [
    "print(n)\n",
    "\n",
    "models_dsa[n].fit_model(image_sets_dsa[n],label_sets_dsa[n],x_val,y_val)\n",
    "n = n+1"
   ]
  },
  {
   "cell_type": "code",
   "execution_count": 69,
   "id": "a675c8a7",
   "metadata": {},
   "outputs": [
    {
     "name": "stdout",
     "output_type": "stream",
     "text": [
      "4\n",
      "Epoch 1/10\n",
      "137/137 [==============================] - 109s 729ms/step - loss: 3.2359 - accuracy: 0.1385 - val_loss: 3.6938 - val_accuracy: 0.0536\n",
      "Epoch 2/10\n",
      "137/137 [==============================] - 100s 731ms/step - loss: 2.7103 - accuracy: 0.2559 - val_loss: 2.9631 - val_accuracy: 0.2072\n",
      "Epoch 3/10\n",
      "137/137 [==============================] - 99s 720ms/step - loss: 1.7556 - accuracy: 0.5315 - val_loss: 2.3267 - val_accuracy: 0.3912\n",
      "Epoch 4/10\n",
      "137/137 [==============================] - 98s 713ms/step - loss: 1.1036 - accuracy: 0.7122 - val_loss: 1.3746 - val_accuracy: 0.6091\n",
      "Epoch 5/10\n",
      "137/137 [==============================] - 98s 712ms/step - loss: 0.7797 - accuracy: 0.7838 - val_loss: 0.9101 - val_accuracy: 0.7397\n",
      "Epoch 6/10\n",
      "137/137 [==============================] - 100s 732ms/step - loss: 0.5931 - accuracy: 0.8284 - val_loss: 0.6859 - val_accuracy: 0.8137\n",
      "Epoch 7/10\n",
      "137/137 [==============================] - 94s 683ms/step - loss: 0.4500 - accuracy: 0.8701 - val_loss: 0.4635 - val_accuracy: 0.8780\n",
      "Epoch 8/10\n",
      "137/137 [==============================] - 98s 719ms/step - loss: 0.3516 - accuracy: 0.8946 - val_loss: 0.4534 - val_accuracy: 0.8594\n",
      "Epoch 9/10\n",
      "137/137 [==============================] - 86s 631ms/step - loss: 0.3050 - accuracy: 0.9115 - val_loss: 0.2819 - val_accuracy: 0.9255\n",
      "Epoch 10/10\n",
      "137/137 [==============================] - 79s 573ms/step - loss: 0.2608 - accuracy: 0.9210 - val_loss: 0.2362 - val_accuracy: 0.9360\n",
      "Duration: 0:16:00.120331\n"
     ]
    }
   ],
   "source": [
    "print(n)#4\n",
    "\n",
    "models_dsa[n].fit_model(image_sets_dsa[n],label_sets_dsa[n],x_val,y_val)\n",
    "n = n+1"
   ]
  },
  {
   "cell_type": "code",
   "execution_count": 70,
   "id": "9098044d",
   "metadata": {},
   "outputs": [
    {
     "name": "stdout",
     "output_type": "stream",
     "text": [
      "5\n",
      "Epoch 1/10\n",
      "165/165 [==============================] - 103s 574ms/step - loss: 3.3693 - accuracy: 0.1445 - val_loss: 3.6543 - val_accuracy: 0.0607\n",
      "Epoch 2/10\n",
      "165/165 [==============================] - 94s 570ms/step - loss: 2.6638 - accuracy: 0.2139 - val_loss: 3.0212 - val_accuracy: 0.2268\n",
      "Epoch 3/10\n",
      "165/165 [==============================] - 2004s 12s/step - loss: 1.4455 - accuracy: 0.6414 - val_loss: 2.2014 - val_accuracy: 0.4407\n",
      "Epoch 4/10\n",
      "165/165 [==============================] - 107s 645ms/step - loss: 0.8816 - accuracy: 0.7759 - val_loss: 1.3187 - val_accuracy: 0.6124\n",
      "Epoch 5/10\n",
      "165/165 [==============================] - 86s 523ms/step - loss: 0.6353 - accuracy: 0.8223 - val_loss: 1.5069 - val_accuracy: 0.5596\n",
      "Epoch 6/10\n",
      "165/165 [==============================] - 86s 522ms/step - loss: 0.5063 - accuracy: 0.8538 - val_loss: 0.7367 - val_accuracy: 0.7997\n",
      "Epoch 7/10\n",
      "165/165 [==============================] - 90s 549ms/step - loss: 0.3893 - accuracy: 0.8830 - val_loss: 0.5129 - val_accuracy: 0.8438\n",
      "Epoch 8/10\n",
      "165/165 [==============================] - 86s 522ms/step - loss: 0.3286 - accuracy: 0.9031 - val_loss: 0.4079 - val_accuracy: 0.8783\n",
      "Epoch 9/10\n",
      "165/165 [==============================] - 86s 522ms/step - loss: 0.2905 - accuracy: 0.9134 - val_loss: 0.3372 - val_accuracy: 0.9087\n",
      "Epoch 10/10\n",
      "165/165 [==============================] - 87s 524ms/step - loss: 0.2317 - accuracy: 0.9314 - val_loss: 0.2516 - val_accuracy: 0.9240\n",
      "Duration: 0:47:09.863616\n"
     ]
    }
   ],
   "source": [
    "n=5\n",
    "print(n)\n",
    "\n",
    "models_dsa[n].fit_model(image_sets_dsa[n],label_sets_dsa[n],x_val,y_val)\n",
    "n = n+1"
   ]
  },
  {
   "cell_type": "code",
   "execution_count": 71,
   "id": "5d2e4246",
   "metadata": {},
   "outputs": [
    {
     "name": "stdout",
     "output_type": "stream",
     "text": [
      "6\n",
      "Epoch 1/10\n",
      "192/192 [==============================] - 105s 520ms/step - loss: 3.1013 - accuracy: 0.1345 - val_loss: 3.6604 - val_accuracy: 0.0758\n",
      "Epoch 2/10\n",
      "192/192 [==============================] - 99s 514ms/step - loss: 2.4722 - accuracy: 0.2701 - val_loss: 2.5488 - val_accuracy: 0.3401\n",
      "Epoch 3/10\n",
      "192/192 [==============================] - 100s 522ms/step - loss: 1.0892 - accuracy: 0.7378 - val_loss: 1.6337 - val_accuracy: 0.5430\n",
      "Epoch 4/10\n",
      "192/192 [==============================] - 99s 517ms/step - loss: 0.6960 - accuracy: 0.8142 - val_loss: 1.1459 - val_accuracy: 0.6793\n",
      "Epoch 5/10\n",
      "192/192 [==============================] - 99s 516ms/step - loss: 0.4877 - accuracy: 0.8641 - val_loss: 0.7752 - val_accuracy: 0.7747\n",
      "Epoch 6/10\n",
      "192/192 [==============================] - 99s 517ms/step - loss: 0.3733 - accuracy: 0.8886 - val_loss: 0.6531 - val_accuracy: 0.8071\n",
      "Epoch 7/10\n",
      "192/192 [==============================] - 99s 515ms/step - loss: 0.2988 - accuracy: 0.9131 - val_loss: 0.3540 - val_accuracy: 0.9051\n",
      "Epoch 8/10\n",
      "192/192 [==============================] - 99s 517ms/step - loss: 0.2757 - accuracy: 0.9222 - val_loss: 0.3347 - val_accuracy: 0.8959\n",
      "Epoch 9/10\n",
      "192/192 [==============================] - 99s 514ms/step - loss: 0.2192 - accuracy: 0.9353 - val_loss: 0.2644 - val_accuracy: 0.9303\n",
      "Epoch 10/10\n",
      "192/192 [==============================] - 99s 514ms/step - loss: 0.1900 - accuracy: 0.9441 - val_loss: 0.2175 - val_accuracy: 0.9469\n",
      "Duration: 0:16:36.671824\n"
     ]
    }
   ],
   "source": [
    "print(n)\n",
    "\n",
    "models_dsa[n].fit_model(image_sets_dsa[n],label_sets_dsa[n],x_val,y_val)\n",
    "n = n+1"
   ]
  },
  {
   "cell_type": "code",
   "execution_count": 72,
   "id": "13254a67",
   "metadata": {},
   "outputs": [
    {
     "name": "stdout",
     "output_type": "stream",
     "text": [
      "7\n",
      "Epoch 1/10\n",
      "219/219 [==============================] - 119s 517ms/step - loss: 3.3514 - accuracy: 0.1375 - val_loss: 3.9724 - val_accuracy: 0.0875\n",
      "Epoch 2/10\n",
      "219/219 [==============================] - 113s 515ms/step - loss: 2.3080 - accuracy: 0.3289 - val_loss: 2.4471 - val_accuracy: 0.4024\n",
      "Epoch 3/10\n",
      "219/219 [==============================] - 114s 520ms/step - loss: 0.9292 - accuracy: 0.7723 - val_loss: 1.7215 - val_accuracy: 0.5662\n",
      "Epoch 4/10\n",
      "219/219 [==============================] - 112s 512ms/step - loss: 0.5536 - accuracy: 0.8598 - val_loss: 0.9658 - val_accuracy: 0.7714\n",
      "Epoch 5/10\n",
      "219/219 [==============================] - 113s 514ms/step - loss: 0.4197 - accuracy: 0.8864 - val_loss: 0.7080 - val_accuracy: 0.7948\n",
      "Epoch 6/10\n",
      "219/219 [==============================] - 113s 515ms/step - loss: 0.3164 - accuracy: 0.9128 - val_loss: 0.5067 - val_accuracy: 0.8464\n",
      "Epoch 7/10\n",
      "219/219 [==============================] - 112s 513ms/step - loss: 0.2708 - accuracy: 0.9215 - val_loss: 0.4016 - val_accuracy: 0.8849\n",
      "Epoch 8/10\n",
      "219/219 [==============================] - 112s 512ms/step - loss: 0.2343 - accuracy: 0.9357 - val_loss: 0.3121 - val_accuracy: 0.9181\n",
      "Epoch 9/10\n",
      "219/219 [==============================] - 112s 513ms/step - loss: 0.2039 - accuracy: 0.9448 - val_loss: 0.2589 - val_accuracy: 0.9255\n",
      "Epoch 10/10\n",
      "219/219 [==============================] - 112s 511ms/step - loss: 0.1765 - accuracy: 0.9472 - val_loss: 0.4024 - val_accuracy: 0.9079\n",
      "Duration: 0:18:51.845777\n"
     ]
    }
   ],
   "source": [
    "print(n)\n",
    "\n",
    "models_dsa[n].fit_model(image_sets_dsa[n],label_sets_dsa[n],x_val,y_val)\n",
    "n = n+1"
   ]
  },
  {
   "cell_type": "code",
   "execution_count": 73,
   "id": "ff7478ae",
   "metadata": {},
   "outputs": [
    {
     "name": "stdout",
     "output_type": "stream",
     "text": [
      "8\n",
      "Epoch 1/10\n",
      "247/247 [==============================] - 130s 508ms/step - loss: 3.0004 - accuracy: 0.1414 - val_loss: 4.5777 - val_accuracy: 0.0763\n",
      "Epoch 2/10\n",
      "247/247 [==============================] - 127s 516ms/step - loss: 2.3467 - accuracy: 0.3105 - val_loss: 2.9735 - val_accuracy: 0.3981\n",
      "Epoch 3/10\n",
      "247/247 [==============================] - 125s 508ms/step - loss: 0.8873 - accuracy: 0.7688 - val_loss: 1.3511 - val_accuracy: 0.6535\n",
      "Epoch 4/10\n",
      "247/247 [==============================] - 125s 508ms/step - loss: 0.4962 - accuracy: 0.8692 - val_loss: 0.8920 - val_accuracy: 0.7777\n",
      "Epoch 5/10\n",
      "247/247 [==============================] - 125s 508ms/step - loss: 0.3629 - accuracy: 0.8996 - val_loss: 0.7127 - val_accuracy: 0.8398\n",
      "Epoch 6/10\n",
      "247/247 [==============================] - 126s 509ms/step - loss: 0.2767 - accuracy: 0.9256 - val_loss: 0.4521 - val_accuracy: 0.8882\n",
      "Epoch 7/10\n",
      "247/247 [==============================] - 127s 514ms/step - loss: 0.2367 - accuracy: 0.9340 - val_loss: 0.4594 - val_accuracy: 0.8839\n",
      "Epoch 8/10\n",
      "247/247 [==============================] - 126s 508ms/step - loss: 0.2098 - accuracy: 0.9407 - val_loss: 0.3485 - val_accuracy: 0.9109\n",
      "Epoch 9/10\n",
      "247/247 [==============================] - 126s 511ms/step - loss: 0.1787 - accuracy: 0.9465 - val_loss: 0.2419 - val_accuracy: 0.9347\n",
      "Epoch 10/10\n",
      "247/247 [==============================] - 125s 507ms/step - loss: 0.1678 - accuracy: 0.9537 - val_loss: 0.1984 - val_accuracy: 0.9411\n",
      "Duration: 0:21:03.074183\n"
     ]
    }
   ],
   "source": [
    "print(n)\n",
    "\n",
    "models_dsa[n].fit_model(image_sets_dsa[n],label_sets_dsa[n],x_val,y_val)\n",
    "n = n+1"
   ]
  },
  {
   "cell_type": "code",
   "execution_count": 74,
   "id": "529ba2f1",
   "metadata": {},
   "outputs": [
    {
     "name": "stdout",
     "output_type": "stream",
     "text": [
      "9\n",
      "Epoch 1/10\n",
      "274/274 [==============================] - 144s 512ms/step - loss: 3.4456 - accuracy: 0.1254 - val_loss: 3.5657 - val_accuracy: 0.0967\n",
      "Epoch 2/10\n",
      "274/274 [==============================] - 139s 506ms/step - loss: 2.2610 - accuracy: 0.3307 - val_loss: 2.1796 - val_accuracy: 0.4478\n",
      "Epoch 3/10\n",
      "274/274 [==============================] - 139s 508ms/step - loss: 0.7840 - accuracy: 0.7903 - val_loss: 1.3901 - val_accuracy: 0.6545\n",
      "Epoch 4/10\n",
      "274/274 [==============================] - 139s 506ms/step - loss: 0.4555 - accuracy: 0.8809 - val_loss: 1.0467 - val_accuracy: 0.7351\n",
      "Epoch 5/10\n",
      "274/274 [==============================] - 140s 510ms/step - loss: 0.3542 - accuracy: 0.9062 - val_loss: 0.5216 - val_accuracy: 0.8622\n",
      "Epoch 6/10\n",
      "274/274 [==============================] - 138s 505ms/step - loss: 0.2531 - accuracy: 0.9306 - val_loss: 0.4167 - val_accuracy: 0.8788\n",
      "Epoch 7/10\n",
      "274/274 [==============================] - 139s 506ms/step - loss: 0.2317 - accuracy: 0.9377 - val_loss: 0.3995 - val_accuracy: 0.8836\n",
      "Epoch 8/10\n",
      "274/274 [==============================] - 138s 505ms/step - loss: 0.2213 - accuracy: 0.9411 - val_loss: 0.3525 - val_accuracy: 0.8969\n",
      "Epoch 9/10\n",
      "274/274 [==============================] - 138s 505ms/step - loss: 0.1860 - accuracy: 0.9474 - val_loss: 0.2525 - val_accuracy: 0.9145\n",
      "Epoch 10/10\n",
      "274/274 [==============================] - 139s 508ms/step - loss: 0.1730 - accuracy: 0.9514 - val_loss: 0.2355 - val_accuracy: 0.9240\n",
      "Duration: 0:23:13.491675\n"
     ]
    }
   ],
   "source": [
    "print(n)#9\n",
    "\n",
    "models_dsa[n].fit_model(image_sets_dsa[n],label_sets_dsa[n],x_val,y_val)\n",
    "n = n+1"
   ]
  },
  {
   "cell_type": "code",
   "execution_count": 75,
   "id": "fb965078",
   "metadata": {},
   "outputs": [
    {
     "name": "stdout",
     "output_type": "stream",
     "text": [
      "10\n",
      "Epoch 1/10\n",
      "301/301 [==============================] - 156s 505ms/step - loss: 2.9762 - accuracy: 0.1156 - val_loss: 3.6918 - val_accuracy: 0.1283\n",
      "Epoch 2/10\n",
      "301/301 [==============================] - 152s 507ms/step - loss: 2.0781 - accuracy: 0.3792 - val_loss: 2.0924 - val_accuracy: 0.5144\n",
      "Epoch 3/10\n",
      "301/301 [==============================] - 153s 507ms/step - loss: 0.6224 - accuracy: 0.8332 - val_loss: 1.2092 - val_accuracy: 0.7140\n",
      "Epoch 4/10\n",
      "301/301 [==============================] - 152s 507ms/step - loss: 0.3767 - accuracy: 0.9038 - val_loss: 0.7091 - val_accuracy: 0.8086\n",
      "Epoch 5/10\n",
      "301/301 [==============================] - 153s 507ms/step - loss: 0.2877 - accuracy: 0.9211 - val_loss: 0.5498 - val_accuracy: 0.8563\n",
      "Epoch 6/10\n",
      "301/301 [==============================] - 153s 507ms/step - loss: 0.2427 - accuracy: 0.9358 - val_loss: 0.4044 - val_accuracy: 0.8974\n",
      "Epoch 7/10\n",
      "301/301 [==============================] - 152s 506ms/step - loss: 0.2127 - accuracy: 0.9436 - val_loss: 0.3307 - val_accuracy: 0.8946\n",
      "Epoch 8/10\n",
      "301/301 [==============================] - 154s 512ms/step - loss: 0.1895 - accuracy: 0.9498 - val_loss: 0.2751 - val_accuracy: 0.9138\n",
      "Epoch 9/10\n",
      "301/301 [==============================] - 152s 505ms/step - loss: 0.1688 - accuracy: 0.9541 - val_loss: 0.2606 - val_accuracy: 0.9263\n",
      "Epoch 10/10\n",
      "301/301 [==============================] - 152s 504ms/step - loss: 0.1470 - accuracy: 0.9595 - val_loss: 0.2363 - val_accuracy: 0.9411\n",
      "Duration: 0:25:29.517187\n"
     ]
    }
   ],
   "source": [
    "n=10\n",
    "print(n)\n",
    "\n",
    "models_dsa[n].fit_model(image_sets_dsa[n],label_sets_dsa[n],x_val,y_val)\n",
    "n = n+1"
   ]
  },
  {
   "cell_type": "code",
   "execution_count": 76,
   "id": "552adb28",
   "metadata": {},
   "outputs": [
    {
     "name": "stdout",
     "output_type": "stream",
     "text": [
      "11\n",
      "Epoch 1/10\n",
      "329/329 [==============================] - 170s 503ms/step - loss: 3.1804 - accuracy: 0.1051 - val_loss: 3.4592 - val_accuracy: 0.1978\n",
      "Epoch 2/10\n",
      "329/329 [==============================] - 167s 507ms/step - loss: 1.7667 - accuracy: 0.4830 - val_loss: 1.5490 - val_accuracy: 0.6818\n",
      "Epoch 3/10\n",
      "329/329 [==============================] - 166s 504ms/step - loss: 0.5070 - accuracy: 0.8730 - val_loss: 0.8145 - val_accuracy: 0.7910\n",
      "Epoch 4/10\n",
      "329/329 [==============================] - 167s 507ms/step - loss: 0.3069 - accuracy: 0.9154 - val_loss: 0.7262 - val_accuracy: 0.8168\n",
      "Epoch 5/10\n",
      "329/329 [==============================] - 166s 503ms/step - loss: 0.2405 - accuracy: 0.9357 - val_loss: 0.4229 - val_accuracy: 0.8859\n",
      "Epoch 6/10\n",
      "329/329 [==============================] - 166s 504ms/step - loss: 0.1944 - accuracy: 0.9425 - val_loss: 0.3586 - val_accuracy: 0.8972\n",
      "Epoch 7/10\n",
      "329/329 [==============================] - 166s 504ms/step - loss: 0.1772 - accuracy: 0.9497 - val_loss: 0.2717 - val_accuracy: 0.9125\n",
      "Epoch 8/10\n",
      "329/329 [==============================] - 165s 502ms/step - loss: 0.1669 - accuracy: 0.9538 - val_loss: 0.2725 - val_accuracy: 0.9209\n",
      "Epoch 9/10\n",
      "329/329 [==============================] - 165s 502ms/step - loss: 0.1519 - accuracy: 0.9574 - val_loss: 0.2107 - val_accuracy: 0.9403\n",
      "Epoch 10/10\n",
      "329/329 [==============================] - 165s 502ms/step - loss: 0.1331 - accuracy: 0.9621 - val_loss: 0.2154 - val_accuracy: 0.9428\n",
      "Duration: 0:27:41.517357\n"
     ]
    }
   ],
   "source": [
    "print(n)\n",
    "\n",
    "models_dsa[n].fit_model(image_sets_dsa[n],label_sets_dsa[n],x_val,y_val)\n",
    "n = n+1"
   ]
  },
  {
   "cell_type": "code",
   "execution_count": 77,
   "id": "110ad1aa",
   "metadata": {},
   "outputs": [
    {
     "name": "stdout",
     "output_type": "stream",
     "text": [
      "12\n",
      "Epoch 1/10\n",
      "356/356 [==============================] - 182s 500ms/step - loss: 3.2073 - accuracy: 0.0987 - val_loss: 3.0755 - val_accuracy: 0.2927\n",
      "Epoch 2/10\n",
      "356/356 [==============================] - 179s 503ms/step - loss: 1.5694 - accuracy: 0.5466 - val_loss: 1.5317 - val_accuracy: 0.6619\n",
      "Epoch 3/10\n",
      "356/356 [==============================] - 180s 507ms/step - loss: 0.4801 - accuracy: 0.8743 - val_loss: 0.6600 - val_accuracy: 0.8188\n",
      "Epoch 4/10\n",
      "356/356 [==============================] - 178s 501ms/step - loss: 0.2902 - accuracy: 0.9230 - val_loss: 0.3998 - val_accuracy: 0.8734\n",
      "Epoch 5/10\n",
      "356/356 [==============================] - 178s 501ms/step - loss: 0.2313 - accuracy: 0.9349 - val_loss: 0.5182 - val_accuracy: 0.8933\n",
      "Epoch 6/10\n",
      "356/356 [==============================] - 178s 501ms/step - loss: 0.1835 - accuracy: 0.9494 - val_loss: 0.2400 - val_accuracy: 0.9380\n",
      "Epoch 7/10\n",
      "356/356 [==============================] - 178s 500ms/step - loss: 0.1650 - accuracy: 0.9548 - val_loss: 0.2937 - val_accuracy: 0.9257\n",
      "Epoch 8/10\n",
      "356/356 [==============================] - 178s 501ms/step - loss: 0.1569 - accuracy: 0.9549 - val_loss: 0.1679 - val_accuracy: 0.9518\n",
      "Epoch 9/10\n",
      "356/356 [==============================] - 182s 511ms/step - loss: 0.1510 - accuracy: 0.9618 - val_loss: 0.1325 - val_accuracy: 0.9689\n",
      "Epoch 10/10\n",
      "356/356 [==============================] - 178s 500ms/step - loss: 0.1355 - accuracy: 0.9635 - val_loss: 0.2008 - val_accuracy: 0.9449\n",
      "Duration: 0:29:52.588971\n"
     ]
    }
   ],
   "source": [
    "print(n)\n",
    "\n",
    "models_dsa[n].fit_model(image_sets_dsa[n],label_sets_dsa[n],x_val,y_val)\n",
    "n = n+1"
   ]
  },
  {
   "cell_type": "code",
   "execution_count": 78,
   "id": "506b30e2",
   "metadata": {},
   "outputs": [
    {
     "name": "stdout",
     "output_type": "stream",
     "text": [
      "13\n",
      "Epoch 1/10\n",
      "383/383 [==============================] - 196s 499ms/step - loss: 3.2296 - accuracy: 0.1031 - val_loss: 3.2238 - val_accuracy: 0.3776\n",
      "Epoch 2/10\n",
      "383/383 [==============================] - 192s 502ms/step - loss: 1.2810 - accuracy: 0.6330 - val_loss: 0.9638 - val_accuracy: 0.7857\n",
      "Epoch 3/10\n",
      "383/383 [==============================] - 193s 504ms/step - loss: 0.3885 - accuracy: 0.8990 - val_loss: 0.5995 - val_accuracy: 0.8548\n",
      "Epoch 4/10\n",
      "383/383 [==============================] - 192s 501ms/step - loss: 0.2287 - accuracy: 0.9388 - val_loss: 0.3464 - val_accuracy: 0.8956\n",
      "Epoch 5/10\n",
      "383/383 [==============================] - 192s 500ms/step - loss: 0.1718 - accuracy: 0.9537 - val_loss: 0.1692 - val_accuracy: 0.9502\n",
      "Epoch 6/10\n",
      "383/383 [==============================] - 191s 500ms/step - loss: 0.1501 - accuracy: 0.9568 - val_loss: 0.1427 - val_accuracy: 0.9650\n",
      "Epoch 7/10\n",
      "383/383 [==============================] - 192s 501ms/step - loss: 0.1288 - accuracy: 0.9634 - val_loss: 0.1470 - val_accuracy: 0.9686\n",
      "Epoch 8/10\n",
      "383/383 [==============================] - 191s 499ms/step - loss: 0.1189 - accuracy: 0.9664 - val_loss: 0.0942 - val_accuracy: 0.9783\n",
      "Epoch 9/10\n",
      "383/383 [==============================] - 191s 499ms/step - loss: 0.1184 - accuracy: 0.9685 - val_loss: 0.1078 - val_accuracy: 0.9781\n",
      "Epoch 10/10\n",
      "383/383 [==============================] - 191s 499ms/step - loss: 0.1096 - accuracy: 0.9700 - val_loss: 0.2007 - val_accuracy: 0.9599\n",
      "Duration: 0:32:01.102904\n"
     ]
    }
   ],
   "source": [
    "print(n)\n",
    "\n",
    "models_dsa[n].fit_model(image_sets_dsa[n],label_sets_dsa[n],x_val,y_val)\n",
    "n = n+1"
   ]
  },
  {
   "cell_type": "code",
   "execution_count": 79,
   "id": "bb438669",
   "metadata": {},
   "outputs": [
    {
     "name": "stdout",
     "output_type": "stream",
     "text": [
      "14\n",
      "Epoch 1/10\n",
      "411/411 [==============================] - 208s 497ms/step - loss: 3.2841 - accuracy: 0.1117 - val_loss: 2.5737 - val_accuracy: 0.4889\n",
      "Epoch 2/10\n",
      "411/411 [==============================] - 206s 501ms/step - loss: 1.0517 - accuracy: 0.7073 - val_loss: 0.6961 - val_accuracy: 0.8515\n",
      "Epoch 3/10\n",
      "411/411 [==============================] - 205s 498ms/step - loss: 0.3061 - accuracy: 0.9183 - val_loss: 0.5379 - val_accuracy: 0.8778\n",
      "Epoch 4/10\n",
      "411/411 [==============================] - 205s 498ms/step - loss: 0.1894 - accuracy: 0.9474 - val_loss: 0.1663 - val_accuracy: 0.9561\n",
      "Epoch 5/10\n",
      "411/411 [==============================] - 204s 497ms/step - loss: 0.1397 - accuracy: 0.9618 - val_loss: 0.1159 - val_accuracy: 0.9696\n",
      "Epoch 6/10\n",
      "411/411 [==============================] - 204s 497ms/step - loss: 0.1320 - accuracy: 0.9632 - val_loss: 0.1358 - val_accuracy: 0.9709\n",
      "Epoch 7/10\n",
      "411/411 [==============================] - 212s 516ms/step - loss: 0.1155 - accuracy: 0.9701 - val_loss: 0.0779 - val_accuracy: 0.9821\n",
      "Epoch 8/10\n",
      "411/411 [==============================] - 215s 524ms/step - loss: 0.1100 - accuracy: 0.9717 - val_loss: 0.2142 - val_accuracy: 0.9543\n",
      "Epoch 9/10\n",
      "411/411 [==============================] - 209s 509ms/step - loss: 0.1205 - accuracy: 0.9681 - val_loss: 0.0694 - val_accuracy: 0.9860\n",
      "Epoch 10/10\n",
      "411/411 [==============================] - 204s 497ms/step - loss: 0.0995 - accuracy: 0.9739 - val_loss: 0.0696 - val_accuracy: 0.9883\n",
      "Duration: 0:34:33.626667\n"
     ]
    }
   ],
   "source": [
    "print(n)#14\n",
    "\n",
    "models_dsa[n].fit_model(image_sets_dsa[n],label_sets_dsa[n],x_val,y_val)\n",
    "n = n+1"
   ]
  },
  {
   "cell_type": "code",
   "execution_count": 80,
   "id": "9c988977",
   "metadata": {},
   "outputs": [
    {
     "name": "stdout",
     "output_type": "stream",
     "text": [
      "15\n",
      "Epoch 1/10\n",
      "438/438 [==============================] - 223s 499ms/step - loss: 3.3826 - accuracy: 0.0873 - val_loss: 2.2732 - val_accuracy: 0.4601\n",
      "Epoch 2/10\n",
      "438/438 [==============================] - 218s 497ms/step - loss: 1.3257 - accuracy: 0.6216 - val_loss: 0.7905 - val_accuracy: 0.8548\n",
      "Epoch 3/10\n",
      "438/438 [==============================] - 218s 497ms/step - loss: 0.3819 - accuracy: 0.8960 - val_loss: 0.4906 - val_accuracy: 0.8893\n",
      "Epoch 4/10\n",
      "438/438 [==============================] - 217s 496ms/step - loss: 0.2208 - accuracy: 0.9390 - val_loss: 0.2874 - val_accuracy: 0.9286\n",
      "Epoch 5/10\n",
      "438/438 [==============================] - 217s 496ms/step - loss: 0.1845 - accuracy: 0.9516 - val_loss: 0.1924 - val_accuracy: 0.9528\n",
      "Epoch 6/10\n",
      "438/438 [==============================] - 217s 496ms/step - loss: 0.1513 - accuracy: 0.9605 - val_loss: 0.1237 - val_accuracy: 0.9678\n",
      "Epoch 7/10\n",
      "438/438 [==============================] - 217s 495ms/step - loss: 0.1245 - accuracy: 0.9636 - val_loss: 0.1533 - val_accuracy: 0.9582\n",
      "Epoch 8/10\n",
      "438/438 [==============================] - 217s 495ms/step - loss: 0.1242 - accuracy: 0.9671 - val_loss: 0.1064 - val_accuracy: 0.9684\n",
      "Epoch 9/10\n",
      "438/438 [==============================] - 219s 500ms/step - loss: 0.1136 - accuracy: 0.9706 - val_loss: 0.1753 - val_accuracy: 0.9704\n",
      "Epoch 10/10\n",
      "438/438 [==============================] - 216s 494ms/step - loss: 0.1193 - accuracy: 0.9706 - val_loss: 0.1209 - val_accuracy: 0.9684\n",
      "Duration: 0:36:19.200658\n"
     ]
    }
   ],
   "source": [
    "n=15\n",
    "print(n)\n",
    "\n",
    "models_dsa[n].fit_model(image_sets_dsa[n],label_sets_dsa[n],x_val,y_val)\n",
    "n = n+1"
   ]
  },
  {
   "cell_type": "code",
   "execution_count": 81,
   "id": "ffd1bd2d",
   "metadata": {},
   "outputs": [],
   "source": [
    "import time\n",
    "time.sleep(400)"
   ]
  },
  {
   "cell_type": "code",
   "execution_count": 82,
   "id": "ef562e5b",
   "metadata": {},
   "outputs": [
    {
     "name": "stdout",
     "output_type": "stream",
     "text": [
      "16\n",
      "Epoch 1/10\n",
      "465/465 [==============================] - 205s 432ms/step - loss: 3.3544 - accuracy: 0.0953 - val_loss: 1.6787 - val_accuracy: 0.6137\n",
      "Epoch 2/10\n",
      "465/465 [==============================] - 212s 457ms/step - loss: 1.0253 - accuracy: 0.7032 - val_loss: 0.4901 - val_accuracy: 0.8803\n",
      "Epoch 3/10\n",
      "465/465 [==============================] - 223s 480ms/step - loss: 0.3169 - accuracy: 0.9135 - val_loss: 0.3614 - val_accuracy: 0.9071\n",
      "Epoch 4/10\n",
      "465/465 [==============================] - 230s 495ms/step - loss: 0.1881 - accuracy: 0.9480 - val_loss: 0.2083 - val_accuracy: 0.9316\n",
      "Epoch 5/10\n",
      "465/465 [==============================] - 231s 496ms/step - loss: 0.1504 - accuracy: 0.9609 - val_loss: 0.1966 - val_accuracy: 0.9497\n",
      "Epoch 6/10\n",
      "465/465 [==============================] - 230s 495ms/step - loss: 0.1276 - accuracy: 0.9661 - val_loss: 0.1040 - val_accuracy: 0.9699\n",
      "Epoch 7/10\n",
      "465/465 [==============================] - 231s 496ms/step - loss: 0.1128 - accuracy: 0.9691 - val_loss: 0.0912 - val_accuracy: 0.9801\n",
      "Epoch 8/10\n",
      "465/465 [==============================] - 230s 495ms/step - loss: 0.1138 - accuracy: 0.9685 - val_loss: 0.0875 - val_accuracy: 0.9796\n",
      "Epoch 9/10\n",
      "465/465 [==============================] - 229s 493ms/step - loss: 0.1076 - accuracy: 0.9723 - val_loss: 0.0695 - val_accuracy: 0.9816\n",
      "Epoch 10/10\n",
      "465/465 [==============================] - 230s 494ms/step - loss: 0.0960 - accuracy: 0.9752 - val_loss: 0.1014 - val_accuracy: 0.9760\n",
      "Duration: 0:37:30.843329\n"
     ]
    }
   ],
   "source": [
    "print(n)\n",
    "\n",
    "models_dsa[n].fit_model(image_sets_dsa[n],label_sets_dsa[n],x_val,y_val)\n",
    "n = n+1"
   ]
  },
  {
   "cell_type": "code",
   "execution_count": 83,
   "id": "02a0088e",
   "metadata": {},
   "outputs": [],
   "source": [
    "\n",
    "time.sleep(400)"
   ]
  },
  {
   "cell_type": "code",
   "execution_count": 84,
   "id": "6d4d8530",
   "metadata": {},
   "outputs": [
    {
     "name": "stdout",
     "output_type": "stream",
     "text": [
      "17\n",
      "Epoch 1/10\n",
      "493/493 [==============================] - 215s 427ms/step - loss: 3.3743 - accuracy: 0.0903 - val_loss: 1.7142 - val_accuracy: 0.5343\n",
      "Epoch 2/10\n",
      "493/493 [==============================] - 215s 435ms/step - loss: 0.9804 - accuracy: 0.7113 - val_loss: 0.5072 - val_accuracy: 0.8905\n",
      "Epoch 3/10\n",
      "493/493 [==============================] - 222s 451ms/step - loss: 0.2663 - accuracy: 0.9274 - val_loss: 0.2957 - val_accuracy: 0.9393\n",
      "Epoch 4/10\n",
      "493/493 [==============================] - 237s 480ms/step - loss: 0.1595 - accuracy: 0.9564 - val_loss: 0.1684 - val_accuracy: 0.9515\n",
      "Epoch 5/10\n",
      "493/493 [==============================] - 243s 493ms/step - loss: 0.1270 - accuracy: 0.9660 - val_loss: 0.2573 - val_accuracy: 0.9423\n",
      "Epoch 6/10\n",
      "493/493 [==============================] - 245s 498ms/step - loss: 0.1145 - accuracy: 0.9673 - val_loss: 0.0942 - val_accuracy: 0.9678\n",
      "Epoch 7/10\n",
      "493/493 [==============================] - 243s 492ms/step - loss: 0.1101 - accuracy: 0.9727 - val_loss: 0.0766 - val_accuracy: 0.9783\n",
      "Epoch 8/10\n",
      "493/493 [==============================] - 242s 492ms/step - loss: 0.0959 - accuracy: 0.9743 - val_loss: 0.0788 - val_accuracy: 0.9786\n",
      "Epoch 9/10\n",
      "493/493 [==============================] - 243s 494ms/step - loss: 0.0958 - accuracy: 0.9752 - val_loss: 0.0863 - val_accuracy: 0.9796\n",
      "Epoch 10/10\n",
      "493/493 [==============================] - 243s 493ms/step - loss: 0.1020 - accuracy: 0.9756 - val_loss: 0.0528 - val_accuracy: 0.9883\n",
      "Duration: 0:39:08.129370\n"
     ]
    }
   ],
   "source": [
    "print(n)\n",
    "\n",
    "models_dsa[n].fit_model(image_sets_dsa[n],label_sets_dsa[n],x_val,y_val)\n",
    "n = n+1"
   ]
  },
  {
   "cell_type": "code",
   "execution_count": 85,
   "id": "59df5459",
   "metadata": {},
   "outputs": [
    {
     "name": "stdout",
     "output_type": "stream",
     "text": [
      "18\n",
      "Epoch 1/10\n",
      "520/520 [==============================] - 261s 493ms/step - loss: 3.3032 - accuracy: 0.1070 - val_loss: 1.2044 - val_accuracy: 0.6844\n",
      "Epoch 2/10\n",
      "520/520 [==============================] - 257s 495ms/step - loss: 0.8724 - accuracy: 0.7415 - val_loss: 0.3868 - val_accuracy: 0.8969\n",
      "Epoch 3/10\n",
      "520/520 [==============================] - 258s 496ms/step - loss: 0.2546 - accuracy: 0.9279 - val_loss: 0.2186 - val_accuracy: 0.9520\n",
      "Epoch 4/10\n",
      "520/520 [==============================] - 257s 494ms/step - loss: 0.1563 - accuracy: 0.9552 - val_loss: 0.1045 - val_accuracy: 0.9717\n",
      "Epoch 5/10\n",
      "520/520 [==============================] - 256s 493ms/step - loss: 0.1115 - accuracy: 0.9694 - val_loss: 0.1341 - val_accuracy: 0.9673\n",
      "Epoch 6/10\n",
      "520/520 [==============================] - 258s 496ms/step - loss: 0.0983 - accuracy: 0.9735 - val_loss: 0.0873 - val_accuracy: 0.9826\n",
      "Epoch 7/10\n",
      "520/520 [==============================] - 257s 494ms/step - loss: 0.1012 - accuracy: 0.9728 - val_loss: 0.0852 - val_accuracy: 0.9814\n",
      "Epoch 8/10\n",
      "520/520 [==============================] - 256s 493ms/step - loss: 0.0960 - accuracy: 0.9754 - val_loss: 0.0410 - val_accuracy: 0.9885\n",
      "Epoch 9/10\n",
      "520/520 [==============================] - 256s 491ms/step - loss: 0.1020 - accuracy: 0.9757 - val_loss: 0.0533 - val_accuracy: 0.9890\n",
      "Epoch 10/10\n",
      "520/520 [==============================] - 258s 497ms/step - loss: 0.0979 - accuracy: 0.9766 - val_loss: 0.0771 - val_accuracy: 0.9867\n",
      "Duration: 0:42:54.258326\n"
     ]
    }
   ],
   "source": [
    "print(n)\n",
    "\n",
    "models_dsa[n].fit_model(image_sets_dsa[n],label_sets_dsa[n],x_val,y_val)\n",
    "n = n+1"
   ]
  },
  {
   "cell_type": "code",
   "execution_count": 86,
   "id": "ff9aad2b",
   "metadata": {},
   "outputs": [
    {
     "name": "stdout",
     "output_type": "stream",
     "text": [
      "19\n",
      "Epoch 1/10\n",
      "547/547 [==============================] - 284s 510ms/step - loss: 3.2615 - accuracy: 0.1323 - val_loss: 0.4813 - val_accuracy: 0.8576\n",
      "Epoch 2/10\n",
      "547/547 [==============================] - 270s 494ms/step - loss: 0.5925 - accuracy: 0.8227 - val_loss: 0.1154 - val_accuracy: 0.9786\n",
      "Epoch 3/10\n",
      "547/547 [==============================] - 271s 495ms/step - loss: 0.2003 - accuracy: 0.9404 - val_loss: 0.0859 - val_accuracy: 0.9867\n",
      "Epoch 4/10\n",
      "547/547 [==============================] - 270s 494ms/step - loss: 0.1293 - accuracy: 0.9626 - val_loss: 0.0539 - val_accuracy: 0.9872\n",
      "Epoch 5/10\n",
      "547/547 [==============================] - 270s 493ms/step - loss: 0.0995 - accuracy: 0.9726 - val_loss: 0.0339 - val_accuracy: 0.9921\n",
      "Epoch 6/10\n",
      "547/547 [==============================] - 269s 491ms/step - loss: 0.0871 - accuracy: 0.9754 - val_loss: 0.0295 - val_accuracy: 0.9946\n",
      "Epoch 7/10\n",
      "547/547 [==============================] - 269s 492ms/step - loss: 0.0828 - accuracy: 0.9771 - val_loss: 0.0325 - val_accuracy: 0.9941\n",
      "Epoch 8/10\n",
      "547/547 [==============================] - 269s 491ms/step - loss: 0.0958 - accuracy: 0.9744 - val_loss: 0.0206 - val_accuracy: 0.9967\n",
      "Epoch 9/10\n",
      "547/547 [==============================] - 270s 494ms/step - loss: 0.0809 - accuracy: 0.9796 - val_loss: 0.0280 - val_accuracy: 0.9941\n",
      "Epoch 10/10\n",
      "547/547 [==============================] - 270s 493ms/step - loss: 0.0918 - accuracy: 0.9778 - val_loss: 0.0302 - val_accuracy: 0.9939\n",
      "Duration: 0:45:11.961454\n"
     ]
    }
   ],
   "source": [
    "n=19\n",
    "print(n)#19\n",
    "\n",
    "models_dsa[n].fit_model(image_sets_dsa[n],label_sets_dsa[n],x_val,y_val)\n",
    "n = n+1"
   ]
  },
  {
   "cell_type": "code",
   "execution_count": 87,
   "id": "f21f8698",
   "metadata": {},
   "outputs": [
    {
     "name": "stdout",
     "output_type": "stream",
     "text": [
      "20\n",
      "Epoch 1/10\n",
      "552/552 [==============================] - 276s 492ms/step - loss: 3.3701 - accuracy: 0.1060 - val_loss: 0.7863 - val_accuracy: 0.7517\n",
      "Epoch 2/10\n",
      "552/552 [==============================] - 273s 495ms/step - loss: 0.7010 - accuracy: 0.7893 - val_loss: 0.1102 - val_accuracy: 0.9701\n",
      "Epoch 3/10\n",
      "552/552 [==============================] - 272s 493ms/step - loss: 0.2027 - accuracy: 0.9425 - val_loss: 0.0267 - val_accuracy: 0.9923\n",
      "Epoch 4/10\n",
      "552/552 [==============================] - 275s 497ms/step - loss: 0.1266 - accuracy: 0.9627 - val_loss: 0.0340 - val_accuracy: 0.9936\n",
      "Epoch 5/10\n",
      "552/552 [==============================] - 272s 493ms/step - loss: 0.1087 - accuracy: 0.9686 - val_loss: 0.0227 - val_accuracy: 0.9957\n",
      "Epoch 6/10\n",
      "552/552 [==============================] - 272s 493ms/step - loss: 0.0932 - accuracy: 0.9738 - val_loss: 0.0394 - val_accuracy: 0.9936\n",
      "Epoch 7/10\n",
      "552/552 [==============================] - 274s 496ms/step - loss: 0.0851 - accuracy: 0.9772 - val_loss: 0.0237 - val_accuracy: 0.9967\n",
      "Epoch 8/10\n",
      "552/552 [==============================] - 272s 493ms/step - loss: 0.0845 - accuracy: 0.9790 - val_loss: 0.0225 - val_accuracy: 0.9957\n",
      "Epoch 9/10\n",
      "552/552 [==============================] - 271s 491ms/step - loss: 0.0889 - accuracy: 0.9785 - val_loss: 0.0316 - val_accuracy: 0.9946\n",
      "Epoch 10/10\n",
      "552/552 [==============================] - 271s 491ms/step - loss: 0.0840 - accuracy: 0.9792 - val_loss: 0.0395 - val_accuracy: 0.9964\n",
      "Duration: 0:45:28.238019\n"
     ]
    }
   ],
   "source": [
    "n=20\n",
    "print(n)\n",
    "\n",
    "models_dsa[n].fit_model(image_sets_dsa[n],label_sets_dsa[n],x_val,y_val)\n",
    "n = n+1"
   ]
  },
  {
   "cell_type": "code",
   "execution_count": 89,
   "id": "3f61bd3e",
   "metadata": {},
   "outputs": [
    {
     "name": "stdout",
     "output_type": "stream",
     "text": [
      "INFO:tensorflow:Assets written to: D:/models/aug_22/gtsrb/C1/gtsrb_model_c1_aug_dsa_e1_0\\assets\n",
      "Model has been saved\n",
      "INFO:tensorflow:Assets written to: D:/models/aug_22/gtsrb/C1/gtsrb_model_c1_aug_dsa_e1_1\\assets\n",
      "Model has been saved\n",
      "INFO:tensorflow:Assets written to: D:/models/aug_22/gtsrb/C1/gtsrb_model_c1_aug_dsa_e1_2\\assets\n",
      "Model has been saved\n",
      "INFO:tensorflow:Assets written to: D:/models/aug_22/gtsrb/C1/gtsrb_model_c1_aug_dsa_e1_3\\assets\n",
      "Model has been saved\n",
      "INFO:tensorflow:Assets written to: D:/models/aug_22/gtsrb/C1/gtsrb_model_c1_aug_dsa_e1_4\\assets\n",
      "Model has been saved\n",
      "INFO:tensorflow:Assets written to: D:/models/aug_22/gtsrb/C1/gtsrb_model_c1_aug_dsa_e1_5\\assets\n",
      "Model has been saved\n",
      "INFO:tensorflow:Assets written to: D:/models/aug_22/gtsrb/C1/gtsrb_model_c1_aug_dsa_e1_6\\assets\n",
      "Model has been saved\n",
      "INFO:tensorflow:Assets written to: D:/models/aug_22/gtsrb/C1/gtsrb_model_c1_aug_dsa_e1_7\\assets\n",
      "Model has been saved\n",
      "INFO:tensorflow:Assets written to: D:/models/aug_22/gtsrb/C1/gtsrb_model_c1_aug_dsa_e1_8\\assets\n",
      "Model has been saved\n",
      "INFO:tensorflow:Assets written to: D:/models/aug_22/gtsrb/C1/gtsrb_model_c1_aug_dsa_e1_9\\assets\n",
      "Model has been saved\n",
      "INFO:tensorflow:Assets written to: D:/models/aug_22/gtsrb/C1/gtsrb_model_c1_aug_dsa_e1_10\\assets\n",
      "Model has been saved\n",
      "INFO:tensorflow:Assets written to: D:/models/aug_22/gtsrb/C1/gtsrb_model_c1_aug_dsa_e1_11\\assets\n",
      "Model has been saved\n",
      "INFO:tensorflow:Assets written to: D:/models/aug_22/gtsrb/C1/gtsrb_model_c1_aug_dsa_e1_12\\assets\n",
      "Model has been saved\n",
      "INFO:tensorflow:Assets written to: D:/models/aug_22/gtsrb/C1/gtsrb_model_c1_aug_dsa_e1_13\\assets\n",
      "Model has been saved\n",
      "INFO:tensorflow:Assets written to: D:/models/aug_22/gtsrb/C1/gtsrb_model_c1_aug_dsa_e1_14\\assets\n",
      "Model has been saved\n",
      "INFO:tensorflow:Assets written to: D:/models/aug_22/gtsrb/C1/gtsrb_model_c1_aug_dsa_e1_15\\assets\n",
      "Model has been saved\n",
      "INFO:tensorflow:Assets written to: D:/models/aug_22/gtsrb/C1/gtsrb_model_c1_aug_dsa_e1_16\\assets\n",
      "Model has been saved\n",
      "INFO:tensorflow:Assets written to: D:/models/aug_22/gtsrb/C1/gtsrb_model_c1_aug_dsa_e1_17\\assets\n",
      "Model has been saved\n",
      "INFO:tensorflow:Assets written to: D:/models/aug_22/gtsrb/C1/gtsrb_model_c1_aug_dsa_e1_18\\assets\n",
      "Model has been saved\n",
      "INFO:tensorflow:Assets written to: D:/models/aug_22/gtsrb/C1/gtsrb_model_c1_aug_dsa_e1_19\\assets\n",
      "Model has been saved\n",
      "INFO:tensorflow:Assets written to: D:/models/aug_22/gtsrb/C1/gtsrb_model_c1_aug_dsa_e1_20\\assets\n",
      "Model has been saved\n"
     ]
    }
   ],
   "source": [
    "new_model_dsa_dir  = \"D:/models/aug_22/gtsrb/C1/gtsrb_model_c1_aug_dsa_e1\"\n",
    "\n",
    "i=0\n",
    "\n",
    "for model in models_dsa:\n",
    "    model.save(new_model_dsa_dir+\"_\"+str(i))\n",
    "    i+=1"
   ]
  },
  {
   "cell_type": "code",
   "execution_count": null,
   "id": "58f250fb",
   "metadata": {},
   "outputs": [],
   "source": [
    "loading = True\n",
    "\n",
    "models_dsa = []\n",
    "\n",
    "if loading:\n",
    "    for i in range(20):\n",
    "        model_dsa_dir = \"D:/models/gtsrb_models/C1/gtsrb_model_c1_sep_dsa_e2_\"+str(i)\n",
    "        print(model_dsa_dir)\n",
    "        model =utils.My_model('gtsrb',True,model_dsa_dir)\n",
    "        model.model.compile(loss= 'categorical_crossentropy', optimizer = 'rmsprop', metrics = ['accuracy',tf.keras.metrics.Precision(), tf.keras.metrics.Recall()])\n",
    "        models_dsa.append(model)\n",
    "       \n",
    "    "
   ]
  },
  {
   "cell_type": "code",
   "execution_count": null,
   "id": "d91a832b",
   "metadata": {},
   "outputs": [],
   "source": [
    "try:\n",
    "    del dsa_values\n",
    "    del top_images_by_dsa\n",
    "    del top_labels_by_dsa\n",
    "    del image_sets_dsa\n",
    "    del label_sets_dsa\n",
    "    del models_dsa\n",
    "except:\n",
    "    print(\"Error\")"
   ]
  },
  {
   "cell_type": "code",
   "execution_count": null,
   "id": "5a1923ff",
   "metadata": {},
   "outputs": [],
   "source": [
    "gc.collect()"
   ]
  },
  {
   "cell_type": "markdown",
   "id": "dc50a24e",
   "metadata": {},
   "source": [
    "## Uncertainty"
   ]
  },
  {
   "cell_type": "code",
   "execution_count": 15,
   "id": "4eaaacd1",
   "metadata": {},
   "outputs": [],
   "source": [
    "dg_direction = \"C:/Users/fjdur/Documents/upc-july/data/\"+dataset+\"/deep_gini_values.npy\"\n",
    "\n",
    "deep_gini_values = np.load(dg_direction)\n"
   ]
  },
  {
   "cell_type": "code",
   "execution_count": 16,
   "id": "b6e7817b",
   "metadata": {},
   "outputs": [],
   "source": [
    "# Obtaining top n images by dg values\n",
    "top_images_by_dg  = utils.get_x_of_indexes(list(np.flip(np.argsort(deep_gini_values))),x_train_and_adversary)\n",
    "top_labels_by_dg = utils.get_x_of_indexes(list(np.flip(np.argsort(deep_gini_values))),y_train_and_adversary)"
   ]
  },
  {
   "cell_type": "code",
   "execution_count": 17,
   "id": "4b3ae30e",
   "metadata": {},
   "outputs": [
    {
     "name": "stdout",
     "output_type": "stream",
     "text": [
      "0 :\n",
      "0  ->  1750\n",
      "1750\n",
      "1 :\n",
      "0  ->  3500\n",
      "3500\n",
      "2 :\n",
      "0  ->  5250\n",
      "5250\n",
      "3 :\n",
      "0  ->  7000\n",
      "7000\n",
      "4 :\n",
      "0  ->  8750\n",
      "8750\n",
      "5 :\n",
      "0  ->  10500\n",
      "10500\n",
      "6 :\n",
      "0  ->  12250\n",
      "12250\n",
      "7 :\n",
      "0  ->  14000\n",
      "14000\n",
      "8 :\n",
      "0  ->  15750\n",
      "15750\n",
      "9 :\n",
      "0  ->  17500\n",
      "17500\n",
      "10 :\n",
      "0  ->  19250\n",
      "19250\n",
      "11 :\n",
      "0  ->  21000\n",
      "21000\n",
      "12 :\n",
      "0  ->  22750\n",
      "22750\n",
      "13 :\n",
      "0  ->  24500\n",
      "24500\n",
      "14 :\n",
      "0  ->  26250\n",
      "26250\n",
      "15 :\n",
      "0  ->  28000\n",
      "28000\n",
      "16 :\n",
      "0  ->  29750\n",
      "29750\n",
      "17 :\n",
      "0  ->  31500\n",
      "31500\n",
      "18 :\n",
      "0  ->  33250\n",
      "33250\n",
      "19 :\n",
      "0  ->  35000\n",
      "35000\n",
      "20 :\n",
      "Last\n",
      "0  ->  37037\n",
      "35287\n"
     ]
    }
   ],
   "source": [
    "m = n_data_points\n",
    "n = 0\n",
    "image_sets_dg = []\n",
    "label_sets_dg = []\n",
    "\n",
    "# last\n",
    "#for i in range(0,len(top_images_by_lsa)//m):\n",
    "\n",
    "for i in range((len(top_images_by_dg)//m)+1):\n",
    "    print(i,\":\")\n",
    "    if (i+1 >= ((len(top_images_by_dg)//m)+1)):\n",
    "        print(\"Last\")\n",
    "        print(0,\" -> \",n+m+(len(top_images_by_dg)%m))\n",
    "        top_images_by_dg_n = np.array(top_images_by_dg[:n+m+(len(top_images_by_dg)%m)])\n",
    "        top_labels_by_dg_n = np.array(top_labels_by_dg[:n+m+(len(top_images_by_dg)%m)])\n",
    "    else:\n",
    "        print(0,\" -> \",m+n)\n",
    "        top_images_by_dg_n = np.array(top_images_by_dg[:n+m])\n",
    "        top_labels_by_dg_n = np.array(top_labels_by_dg[:n+m])\n",
    "    image_sets_dg.append(top_images_by_dg_n)\n",
    "    label_sets_dg.append(top_labels_by_dg_n)\n",
    "    print(len(top_images_by_dg_n))\n",
    "    n += m\n",
    "\n"
   ]
  },
  {
   "cell_type": "code",
   "execution_count": 18,
   "id": "a513cf02",
   "metadata": {},
   "outputs": [
    {
     "name": "stdout",
     "output_type": "stream",
     "text": [
      "0 :\n",
      "Model compiled\n",
      "1 :\n",
      "Model compiled\n",
      "2 :\n",
      "Model compiled\n",
      "3 :\n",
      "Model compiled\n",
      "4 :\n",
      "Model compiled\n",
      "5 :\n",
      "Model compiled\n",
      "6 :\n",
      "Model compiled\n",
      "7 :\n",
      "Model compiled\n",
      "8 :\n",
      "Model compiled\n",
      "9 :\n",
      "Model compiled\n",
      "10 :\n",
      "Model compiled\n",
      "11 :\n",
      "Model compiled\n",
      "12 :\n",
      "Model compiled\n",
      "13 :\n",
      "Model compiled\n",
      "14 :\n",
      "Model compiled\n",
      "15 :\n",
      "Model compiled\n",
      "16 :\n",
      "Model compiled\n",
      "17 :\n",
      "Model compiled\n",
      "18 :\n",
      "Model compiled\n",
      "19 :\n",
      "Model compiled\n",
      "20 :\n",
      "Model compiled\n"
     ]
    }
   ],
   "source": [
    "models_dg = []\n",
    "#for i in range(len(label_sets_lsa)):\n",
    "for i in range(len(label_sets_dg)):\n",
    "    print(i,\":\")\n",
    "    model = utils.My_model(dataset,False)\n",
    "    model.compile_model()\n",
    "    models_dg.append(model)"
   ]
  },
  {
   "cell_type": "code",
   "execution_count": null,
   "id": "4f769fda",
   "metadata": {},
   "outputs": [
    {
     "name": "stdout",
     "output_type": "stream",
     "text": [
      "0\n",
      "Epoch 1/10\n",
      "28/28 [==============================] - 96s 933ms/step - loss: 3.8220 - accuracy: 0.0745 - val_loss: 3.5440 - val_accuracy: 0.0566\n",
      "Epoch 2/10\n",
      "28/28 [==============================] - 23s 816ms/step - loss: 3.4775 - accuracy: 0.0902 - val_loss: 3.5465 - val_accuracy: 0.0566\n",
      "Epoch 3/10\n",
      "28/28 [==============================] - 21s 761ms/step - loss: 3.4510 - accuracy: 0.1146 - val_loss: 3.5762 - val_accuracy: 0.0566\n",
      "Epoch 4/10\n",
      "28/28 [==============================] - 22s 794ms/step - loss: 3.4835 - accuracy: 0.1354 - val_loss: 3.5484 - val_accuracy: 0.0566\n",
      "Epoch 5/10\n",
      "28/28 [==============================] - 24s 852ms/step - loss: 3.4325 - accuracy: 0.1071 - val_loss: 3.5512 - val_accuracy: 0.0566\n",
      "Epoch 6/10\n",
      "28/28 [==============================] - 25s 916ms/step - loss: 3.4109 - accuracy: 0.1244 - val_loss: 3.5280 - val_accuracy: 0.0566\n",
      "Epoch 7/10\n",
      "28/28 [==============================] - 26s 950ms/step - loss: 3.3830 - accuracy: 0.1130 - val_loss: 3.5673 - val_accuracy: 0.0566\n",
      "Epoch 8/10\n",
      "28/28 [==============================] - 27s 976ms/step - loss: 3.4092 - accuracy: 0.1216 - val_loss: 3.6117 - val_accuracy: 0.0566\n",
      "Epoch 9/10\n",
      "24/28 [========================>.....] - ETA: 2s - loss: 3.3815 - accuracy: 0.1434"
     ]
    }
   ],
   "source": [
    "n=0\n",
    "print(n)\n",
    "models_dg[n].fit_model(image_sets_dg[n],label_sets_dg[n],x_val,y_val,epochs=10,batch_size = 64)\n",
    "n = n+1"
   ]
  },
  {
   "cell_type": "code",
   "execution_count": 34,
   "id": "82f0e9df",
   "metadata": {},
   "outputs": [
    {
     "name": "stdout",
     "output_type": "stream",
     "text": [
      "1\n",
      "Epoch 1/10\n",
      "55/55 [==============================] - 35s 566ms/step - loss: 3.6983 - accuracy: 0.0946 - val_loss: 3.6527 - val_accuracy: 0.0566\n",
      "Epoch 2/10\n",
      "55/55 [==============================] - 31s 566ms/step - loss: 3.3817 - accuracy: 0.1342 - val_loss: 3.5867 - val_accuracy: 0.0748\n",
      "Epoch 3/10\n",
      "55/55 [==============================] - 31s 568ms/step - loss: 3.3353 - accuracy: 0.1580 - val_loss: 3.5494 - val_accuracy: 0.0758\n",
      "Epoch 4/10\n",
      "55/55 [==============================] - 31s 570ms/step - loss: 3.2806 - accuracy: 0.1575 - val_loss: 3.5513 - val_accuracy: 0.0786\n",
      "Epoch 5/10\n",
      "55/55 [==============================] - 32s 581ms/step - loss: 3.2397 - accuracy: 0.1726 - val_loss: 3.6669 - val_accuracy: 0.0750\n",
      "Epoch 6/10\n",
      "55/55 [==============================] - 33s 604ms/step - loss: 3.1836 - accuracy: 0.1736 - val_loss: 3.5021 - val_accuracy: 0.0852\n",
      "Epoch 7/10\n",
      "55/55 [==============================] - 34s 614ms/step - loss: 3.0716 - accuracy: 0.1943 - val_loss: 3.4625 - val_accuracy: 0.0916\n",
      "Epoch 8/10\n",
      "55/55 [==============================] - 33s 601ms/step - loss: 2.9155 - accuracy: 0.1921 - val_loss: 3.5605 - val_accuracy: 0.1235\n",
      "Epoch 9/10\n",
      "55/55 [==============================] - 33s 607ms/step - loss: 2.7064 - accuracy: 0.2673 - val_loss: 2.6961 - val_accuracy: 0.2587\n",
      "Epoch 10/10\n",
      "55/55 [==============================] - 33s 606ms/step - loss: 2.4261 - accuracy: 0.3309 - val_loss: 2.3782 - val_accuracy: 0.3636\n",
      "Duration: 0:05:27.060361\n"
     ]
    }
   ],
   "source": [
    "print(n)\n",
    "models_dg[n].fit_model(image_sets_dg[n],label_sets_dg[n],x_val,y_val,epochs=10,batch_size = 64)\n",
    "n = n+1"
   ]
  },
  {
   "cell_type": "code",
   "execution_count": 35,
   "id": "a7171738",
   "metadata": {},
   "outputs": [
    {
     "name": "stdout",
     "output_type": "stream",
     "text": [
      "2\n",
      "Epoch 1/10\n",
      "83/83 [==============================] - 51s 559ms/step - loss: 3.5855 - accuracy: 0.0876 - val_loss: 3.6179 - val_accuracy: 0.0722\n",
      "Epoch 2/10\n",
      "83/83 [==============================] - 46s 553ms/step - loss: 3.3701 - accuracy: 0.1351 - val_loss: 4.0322 - val_accuracy: 0.0482\n",
      "Epoch 3/10\n",
      "83/83 [==============================] - 46s 554ms/step - loss: 3.3427 - accuracy: 0.1537 - val_loss: 3.5803 - val_accuracy: 0.0857\n",
      "Epoch 4/10\n",
      "83/83 [==============================] - 46s 554ms/step - loss: 3.1204 - accuracy: 0.1837 - val_loss: 3.0674 - val_accuracy: 0.1837\n",
      "Epoch 5/10\n",
      "83/83 [==============================] - 46s 558ms/step - loss: 2.7281 - accuracy: 0.2464 - val_loss: 2.8838 - val_accuracy: 0.2376\n",
      "Epoch 6/10\n",
      "83/83 [==============================] - 46s 556ms/step - loss: 2.2617 - accuracy: 0.3609 - val_loss: 2.3584 - val_accuracy: 0.4394\n",
      "Epoch 7/10\n",
      "83/83 [==============================] - 46s 560ms/step - loss: 1.8735 - accuracy: 0.4676 - val_loss: 1.7355 - val_accuracy: 0.5262\n",
      "Epoch 8/10\n",
      "83/83 [==============================] - 46s 556ms/step - loss: 1.5000 - accuracy: 0.5690 - val_loss: 1.5037 - val_accuracy: 0.5767\n",
      "Epoch 9/10\n",
      "83/83 [==============================] - 46s 556ms/step - loss: 1.2229 - accuracy: 0.6426 - val_loss: 0.9413 - val_accuracy: 0.7436\n",
      "Epoch 10/10\n",
      "83/83 [==============================] - 48s 577ms/step - loss: 0.9737 - accuracy: 0.7078 - val_loss: 0.8146 - val_accuracy: 0.7589\n",
      "Duration: 0:07:47.679708\n"
     ]
    }
   ],
   "source": [
    "print(n)\n",
    "models_dg[n].fit_model(image_sets_dg[n],label_sets_dg[n],x_val,y_val,epochs=10,batch_size = 64)\n",
    "n = n+1"
   ]
  },
  {
   "cell_type": "code",
   "execution_count": 43,
   "id": "63a5e662",
   "metadata": {},
   "outputs": [
    {
     "name": "stdout",
     "output_type": "stream",
     "text": [
      "3\n",
      "Epoch 1/10\n",
      "110/110 [==============================] - 84s 675ms/step - loss: 3.5843 - accuracy: 0.0904 - val_loss: 3.6086 - val_accuracy: 0.0740\n",
      "Epoch 2/10\n",
      "110/110 [==============================] - 58s 527ms/step - loss: 3.3519 - accuracy: 0.1487 - val_loss: 3.6831 - val_accuracy: 0.0766\n",
      "Epoch 3/10\n",
      "110/110 [==============================] - 59s 538ms/step - loss: 3.2293 - accuracy: 0.1687 - val_loss: 3.2191 - val_accuracy: 0.1363\n",
      "Epoch 4/10\n",
      "110/110 [==============================] - 61s 551ms/step - loss: 2.7776 - accuracy: 0.2417 - val_loss: 2.4888 - val_accuracy: 0.2728\n",
      "Epoch 5/10\n",
      "110/110 [==============================] - 61s 554ms/step - loss: 2.2279 - accuracy: 0.3506 - val_loss: 1.6213 - val_accuracy: 0.5509\n",
      "Epoch 6/10\n",
      "110/110 [==============================] - 62s 560ms/step - loss: 1.6199 - accuracy: 0.5261 - val_loss: 1.3148 - val_accuracy: 0.6440\n",
      "Epoch 7/10\n",
      "110/110 [==============================] - 61s 552ms/step - loss: 1.2360 - accuracy: 0.6295 - val_loss: 1.0339 - val_accuracy: 0.7152\n",
      "Epoch 8/10\n",
      "110/110 [==============================] - 61s 552ms/step - loss: 0.8782 - accuracy: 0.7253 - val_loss: 0.5511 - val_accuracy: 0.8324\n",
      "Epoch 9/10\n",
      "110/110 [==============================] - 60s 549ms/step - loss: 0.6703 - accuracy: 0.7944 - val_loss: 0.3967 - val_accuracy: 0.8785\n",
      "Epoch 10/10\n",
      "110/110 [==============================] - 61s 551ms/step - loss: 0.5296 - accuracy: 0.8324 - val_loss: 0.3622 - val_accuracy: 0.8882\n",
      "Duration: 0:10:26.455472\n"
     ]
    }
   ],
   "source": [
    "n=3\n",
    "print(n)\n",
    "models_dg[n].fit_model(image_sets_dg[n],label_sets_dg[n],x_val,y_val,epochs=10,batch_size = 64)\n",
    "n = n+1"
   ]
  },
  {
   "cell_type": "code",
   "execution_count": 44,
   "id": "3e21bc29",
   "metadata": {},
   "outputs": [
    {
     "name": "stdout",
     "output_type": "stream",
     "text": [
      "4\n",
      "Epoch 1/10\n",
      "137/137 [==============================] - 79s 544ms/step - loss: 3.5679 - accuracy: 0.0874 - val_loss: 3.5966 - val_accuracy: 0.0755\n",
      "Epoch 2/10\n",
      "137/137 [==============================] - 74s 538ms/step - loss: 3.3493 - accuracy: 0.1565 - val_loss: 3.6995 - val_accuracy: 0.0806\n",
      "Epoch 3/10\n",
      "137/137 [==============================] - 76s 552ms/step - loss: 2.9843 - accuracy: 0.1910 - val_loss: 2.6994 - val_accuracy: 0.2888\n",
      "Epoch 4/10\n",
      "137/137 [==============================] - 75s 550ms/step - loss: 2.2544 - accuracy: 0.3595 - val_loss: 1.5462 - val_accuracy: 0.5729\n",
      "Epoch 5/10\n",
      "137/137 [==============================] - 75s 545ms/step - loss: 1.4971 - accuracy: 0.5614 - val_loss: 0.8582 - val_accuracy: 0.7328\n",
      "Epoch 6/10\n",
      "137/137 [==============================] - 75s 545ms/step - loss: 1.0618 - accuracy: 0.6743 - val_loss: 0.5895 - val_accuracy: 0.8181\n",
      "Epoch 7/10\n",
      "137/137 [==============================] - 75s 545ms/step - loss: 0.7469 - accuracy: 0.7690 - val_loss: 0.4668 - val_accuracy: 0.8678\n",
      "Epoch 8/10\n",
      "137/137 [==============================] - 75s 545ms/step - loss: 0.5550 - accuracy: 0.8270 - val_loss: 0.2957 - val_accuracy: 0.9058\n",
      "Epoch 9/10\n",
      "137/137 [==============================] - 75s 546ms/step - loss: 0.4146 - accuracy: 0.8713 - val_loss: 0.1433 - val_accuracy: 0.9615\n",
      "Epoch 10/10\n",
      "137/137 [==============================] - 75s 544ms/step - loss: 0.3771 - accuracy: 0.8842 - val_loss: 0.1609 - val_accuracy: 0.9490\n",
      "Duration: 0:12:31.040823\n"
     ]
    }
   ],
   "source": [
    "print(n)\n",
    "models_dg[n].fit_model(image_sets_dg[n],label_sets_dg[n],x_val,y_val,epochs=10,batch_size = 64)\n",
    "n = n+1"
   ]
  },
  {
   "cell_type": "code",
   "execution_count": 45,
   "id": "034f0415",
   "metadata": {},
   "outputs": [
    {
     "name": "stdout",
     "output_type": "stream",
     "text": [
      "5\n",
      "Epoch 1/10\n",
      "165/165 [==============================] - 93s 540ms/step - loss: 3.6692 - accuracy: 0.0802 - val_loss: 3.5803 - val_accuracy: 0.0842\n",
      "Epoch 2/10\n",
      "165/165 [==============================] - 87s 531ms/step - loss: 3.2964 - accuracy: 0.1426 - val_loss: 3.4726 - val_accuracy: 0.1110\n",
      "Epoch 3/10\n",
      "165/165 [==============================] - 88s 533ms/step - loss: 2.7914 - accuracy: 0.2164 - val_loss: 2.5776 - val_accuracy: 0.2689\n",
      "Epoch 4/10\n",
      "165/165 [==============================] - 89s 537ms/step - loss: 1.9151 - accuracy: 0.4367 - val_loss: 1.3816 - val_accuracy: 0.6165\n",
      "Epoch 5/10\n",
      "165/165 [==============================] - 88s 535ms/step - loss: 1.1708 - accuracy: 0.6482 - val_loss: 0.8820 - val_accuracy: 0.7265\n",
      "Epoch 6/10\n",
      "165/165 [==============================] - 89s 541ms/step - loss: 0.7891 - accuracy: 0.7545 - val_loss: 0.3265 - val_accuracy: 0.8798\n",
      "Epoch 7/10\n",
      "165/165 [==============================] - 99s 599ms/step - loss: 0.5255 - accuracy: 0.8355 - val_loss: 0.2428 - val_accuracy: 0.9163\n",
      "Epoch 8/10\n",
      "165/165 [==============================] - 96s 580ms/step - loss: 0.3824 - accuracy: 0.8839 - val_loss: 0.1797 - val_accuracy: 0.9446\n",
      "Epoch 9/10\n",
      "165/165 [==============================] - 89s 541ms/step - loss: 0.3064 - accuracy: 0.9076 - val_loss: 0.1539 - val_accuracy: 0.9487\n",
      "Epoch 10/10\n",
      "165/165 [==============================] - 89s 537ms/step - loss: 0.2362 - accuracy: 0.9226 - val_loss: 0.1743 - val_accuracy: 0.9487\n",
      "Duration: 0:15:07.318991\n"
     ]
    }
   ],
   "source": [
    "print(n)#5\n",
    "models_dg[n].fit_model(image_sets_dg[n],label_sets_dg[n],x_val,y_val,epochs=10,batch_size = 64)\n",
    "n = n+1"
   ]
  },
  {
   "cell_type": "code",
   "execution_count": 46,
   "id": "20bbd631",
   "metadata": {},
   "outputs": [
    {
     "name": "stdout",
     "output_type": "stream",
     "text": [
      "6\n",
      "Epoch 1/10\n",
      "192/192 [==============================] - 108s 536ms/step - loss: 3.4394 - accuracy: 0.0944 - val_loss: 3.6372 - val_accuracy: 0.0773\n",
      "Epoch 2/10\n",
      "192/192 [==============================] - 102s 532ms/step - loss: 2.7650 - accuracy: 0.2572 - val_loss: 2.4164 - val_accuracy: 0.3881\n",
      "Epoch 3/10\n",
      "192/192 [==============================] - 102s 533ms/step - loss: 1.5447 - accuracy: 0.5669 - val_loss: 0.9636 - val_accuracy: 0.7617\n",
      "Epoch 4/10\n",
      "192/192 [==============================] - 103s 536ms/step - loss: 0.8989 - accuracy: 0.7356 - val_loss: 0.5182 - val_accuracy: 0.8497\n",
      "Epoch 5/10\n",
      "192/192 [==============================] - 102s 532ms/step - loss: 0.5842 - accuracy: 0.8211 - val_loss: 0.2329 - val_accuracy: 0.9293\n",
      "Epoch 6/10\n",
      "192/192 [==============================] - 102s 531ms/step - loss: 0.4318 - accuracy: 0.8727 - val_loss: 0.1481 - val_accuracy: 0.9538\n",
      "Epoch 7/10\n",
      "192/192 [==============================] - 102s 530ms/step - loss: 0.3182 - accuracy: 0.9041 - val_loss: 0.1611 - val_accuracy: 0.9553\n",
      "Epoch 8/10\n",
      "192/192 [==============================] - 102s 530ms/step - loss: 0.2528 - accuracy: 0.9208 - val_loss: 0.0610 - val_accuracy: 0.9842\n",
      "Epoch 9/10\n",
      "192/192 [==============================] - 102s 530ms/step - loss: 0.2083 - accuracy: 0.9365 - val_loss: 0.0439 - val_accuracy: 0.9878\n",
      "Epoch 10/10\n",
      "192/192 [==============================] - 103s 538ms/step - loss: 0.1906 - accuracy: 0.9453 - val_loss: 0.0657 - val_accuracy: 0.9801\n",
      "Duration: 0:17:08.190568\n"
     ]
    }
   ],
   "source": [
    "print(n)\n",
    "models_dg[n].fit_model(image_sets_dg[n],label_sets_dg[n],x_val,y_val,epochs=10,batch_size = 64)\n",
    "n = n+1"
   ]
  },
  {
   "cell_type": "code",
   "execution_count": 47,
   "id": "18acb9c3",
   "metadata": {},
   "outputs": [
    {
     "name": "stdout",
     "output_type": "stream",
     "text": [
      "7\n",
      "Epoch 1/10\n",
      "219/219 [==============================] - 118s 521ms/step - loss: 3.3508 - accuracy: 0.1054 - val_loss: 3.5159 - val_accuracy: 0.0916\n",
      "Epoch 2/10\n",
      "219/219 [==============================] - 114s 522ms/step - loss: 2.5996 - accuracy: 0.2976 - val_loss: 2.0800 - val_accuracy: 0.4537\n",
      "Epoch 3/10\n",
      "219/219 [==============================] - 114s 521ms/step - loss: 1.3026 - accuracy: 0.6293 - val_loss: 1.0995 - val_accuracy: 0.7244\n",
      "Epoch 4/10\n",
      "219/219 [==============================] - 114s 522ms/step - loss: 0.7175 - accuracy: 0.7866 - val_loss: 0.3057 - val_accuracy: 0.9122\n",
      "Epoch 5/10\n",
      "219/219 [==============================] - 114s 522ms/step - loss: 0.4418 - accuracy: 0.8646 - val_loss: 0.1505 - val_accuracy: 0.9556\n",
      "Epoch 6/10\n",
      "219/219 [==============================] - 114s 521ms/step - loss: 0.3086 - accuracy: 0.9048 - val_loss: 0.1181 - val_accuracy: 0.9673\n",
      "Epoch 7/10\n",
      "219/219 [==============================] - 114s 522ms/step - loss: 0.2476 - accuracy: 0.9237 - val_loss: 0.0795 - val_accuracy: 0.9811\n",
      "Epoch 8/10\n",
      "219/219 [==============================] - 114s 522ms/step - loss: 0.1925 - accuracy: 0.9418 - val_loss: 0.0842 - val_accuracy: 0.9768\n",
      "Epoch 9/10\n",
      "219/219 [==============================] - 114s 521ms/step - loss: 0.1606 - accuracy: 0.9551 - val_loss: 0.0656 - val_accuracy: 0.9829\n",
      "Epoch 10/10\n",
      "219/219 [==============================] - 115s 527ms/step - loss: 0.1580 - accuracy: 0.9516 - val_loss: 0.0541 - val_accuracy: 0.9862\n",
      "Duration: 0:19:07.488620\n"
     ]
    }
   ],
   "source": [
    "print(n)\n",
    "models_dg[n].fit_model(image_sets_dg[n],label_sets_dg[n],x_val,y_val,epochs=10,batch_size = 64)\n",
    "n = n+1"
   ]
  },
  {
   "cell_type": "code",
   "execution_count": 48,
   "id": "f6fb73a0",
   "metadata": {},
   "outputs": [
    {
     "name": "stdout",
     "output_type": "stream",
     "text": [
      "8\n",
      "Epoch 1/10\n",
      "247/247 [==============================] - 122s 478ms/step - loss: 3.4353 - accuracy: 0.1120 - val_loss: 3.7373 - val_accuracy: 0.1357\n",
      "Epoch 2/10\n",
      "247/247 [==============================] - 125s 507ms/step - loss: 2.3642 - accuracy: 0.3554 - val_loss: 1.9500 - val_accuracy: 0.4264\n",
      "Epoch 3/10\n",
      "247/247 [==============================] - 128s 517ms/step - loss: 1.0849 - accuracy: 0.6953 - val_loss: 0.7932 - val_accuracy: 0.7441\n",
      "Epoch 4/10\n",
      "247/247 [==============================] - 128s 518ms/step - loss: 0.6375 - accuracy: 0.8075 - val_loss: 0.2927 - val_accuracy: 0.9173\n",
      "Epoch 5/10\n",
      "247/247 [==============================] - 127s 515ms/step - loss: 0.4064 - accuracy: 0.8780 - val_loss: 0.1507 - val_accuracy: 0.9518\n",
      "Epoch 6/10\n",
      "247/247 [==============================] - 128s 517ms/step - loss: 0.2849 - accuracy: 0.9110 - val_loss: 0.0721 - val_accuracy: 0.9781\n",
      "Epoch 7/10\n",
      "247/247 [==============================] - 129s 522ms/step - loss: 0.2325 - accuracy: 0.9335 - val_loss: 0.0651 - val_accuracy: 0.9826\n",
      "Epoch 8/10\n",
      "247/247 [==============================] - 127s 514ms/step - loss: 0.2023 - accuracy: 0.9391 - val_loss: 0.0636 - val_accuracy: 0.9816\n",
      "Epoch 9/10\n",
      "247/247 [==============================] - 128s 517ms/step - loss: 0.1618 - accuracy: 0.9514 - val_loss: 0.0991 - val_accuracy: 0.9765\n",
      "Epoch 10/10\n",
      "247/247 [==============================] - 127s 514ms/step - loss: 0.1402 - accuracy: 0.9585 - val_loss: 0.0511 - val_accuracy: 0.9857\n",
      "Duration: 0:21:08.485509\n"
     ]
    }
   ],
   "source": [
    "print(n)\n",
    "models_dg[n].fit_model(image_sets_dg[n],label_sets_dg[n],x_val,y_val,epochs=10,batch_size = 64)\n",
    "n = n+1"
   ]
  },
  {
   "cell_type": "code",
   "execution_count": 49,
   "id": "57f11b03",
   "metadata": {},
   "outputs": [
    {
     "name": "stdout",
     "output_type": "stream",
     "text": [
      "9\n",
      "Epoch 1/10\n",
      "274/274 [==============================] - 146s 515ms/step - loss: 3.2849 - accuracy: 0.1245 - val_loss: 3.3532 - val_accuracy: 0.1643\n",
      "Epoch 2/10\n",
      "274/274 [==============================] - 140s 510ms/step - loss: 2.1505 - accuracy: 0.4008 - val_loss: 1.6791 - val_accuracy: 0.5343\n",
      "Epoch 3/10\n",
      "274/274 [==============================] - 140s 510ms/step - loss: 0.9894 - accuracy: 0.7142 - val_loss: 0.8226 - val_accuracy: 0.8242\n",
      "Epoch 4/10\n",
      "274/274 [==============================] - 140s 510ms/step - loss: 0.5502 - accuracy: 0.8418 - val_loss: 0.1797 - val_accuracy: 0.9444\n",
      "Epoch 5/10\n",
      "274/274 [==============================] - 181s 660ms/step - loss: 0.3302 - accuracy: 0.8997 - val_loss: 0.0882 - val_accuracy: 0.9719\n",
      "Epoch 6/10\n",
      "274/274 [==============================] - 183s 667ms/step - loss: 0.2457 - accuracy: 0.9248 - val_loss: 0.0671 - val_accuracy: 0.9819\n",
      "Epoch 7/10\n",
      "274/274 [==============================] - 184s 671ms/step - loss: 0.1870 - accuracy: 0.9440 - val_loss: 0.0508 - val_accuracy: 0.9855\n",
      "Epoch 8/10\n",
      "274/274 [==============================] - 185s 676ms/step - loss: 0.1543 - accuracy: 0.9529 - val_loss: 0.0381 - val_accuracy: 0.9903\n",
      "Epoch 9/10\n",
      "274/274 [==============================] - 183s 670ms/step - loss: 0.1411 - accuracy: 0.9588 - val_loss: 0.0274 - val_accuracy: 0.9908\n",
      "Epoch 10/10\n",
      "274/274 [==============================] - 183s 669ms/step - loss: 0.1314 - accuracy: 0.9636 - val_loss: 0.0328 - val_accuracy: 0.9906\n",
      "Duration: 0:27:44.282369\n"
     ]
    }
   ],
   "source": [
    "print(n)\n",
    "models_dg[n].fit_model(image_sets_dg[n],label_sets_dg[n],x_val,y_val,epochs=10,batch_size = 64)\n",
    "n = n+1"
   ]
  },
  {
   "cell_type": "code",
   "execution_count": 50,
   "id": "631fb05e",
   "metadata": {},
   "outputs": [
    {
     "name": "stdout",
     "output_type": "stream",
     "text": [
      "10\n",
      "Epoch 1/10\n",
      "301/301 [==============================] - 194s 606ms/step - loss: 3.2590 - accuracy: 0.1173 - val_loss: 3.2832 - val_accuracy: 0.1878\n",
      "Epoch 2/10\n",
      "301/301 [==============================] - 198s 659ms/step - loss: 1.8997 - accuracy: 0.4776 - val_loss: 1.0843 - val_accuracy: 0.7571\n",
      "Epoch 3/10\n",
      "301/301 [==============================] - 199s 660ms/step - loss: 0.7800 - accuracy: 0.7808 - val_loss: 0.4979 - val_accuracy: 0.8785\n",
      "Epoch 4/10\n",
      "301/301 [==============================] - 192s 638ms/step - loss: 0.4620 - accuracy: 0.8617 - val_loss: 0.1841 - val_accuracy: 0.9431\n",
      "Epoch 5/10\n",
      "301/301 [==============================] - 202s 671ms/step - loss: 0.3190 - accuracy: 0.9025 - val_loss: 0.1211 - val_accuracy: 0.9684\n",
      "Epoch 6/10\n",
      "301/301 [==============================] - 202s 671ms/step - loss: 0.2469 - accuracy: 0.9259 - val_loss: 0.0707 - val_accuracy: 0.9788\n",
      "Epoch 7/10\n",
      "301/301 [==============================] - 202s 671ms/step - loss: 0.1962 - accuracy: 0.9404 - val_loss: 0.0514 - val_accuracy: 0.9880\n",
      "Epoch 8/10\n",
      "301/301 [==============================] - 202s 671ms/step - loss: 0.1640 - accuracy: 0.9520 - val_loss: 0.0293 - val_accuracy: 0.9926\n",
      "Epoch 9/10\n",
      "301/301 [==============================] - 203s 674ms/step - loss: 0.1395 - accuracy: 0.9586 - val_loss: 0.0427 - val_accuracy: 0.9885\n",
      "Epoch 10/10\n",
      "301/301 [==============================] - 202s 672ms/step - loss: 0.1315 - accuracy: 0.9623 - val_loss: 0.0291 - val_accuracy: 0.9934\n",
      "Duration: 0:33:15.758623\n"
     ]
    }
   ],
   "source": [
    "print(n)#10\n",
    "models_dg[n].fit_model(image_sets_dg[n],label_sets_dg[n],x_val,y_val,epochs=10,batch_size = 64)\n",
    "n = n+1"
   ]
  },
  {
   "cell_type": "code",
   "execution_count": 19,
   "id": "2cda7f58",
   "metadata": {},
   "outputs": [
    {
     "name": "stdout",
     "output_type": "stream",
     "text": [
      "11\n",
      "Epoch 1/10\n",
      "329/329 [==============================] - 215s 448ms/step - loss: 3.2790 - accuracy: 0.1049 - val_loss: 3.4912 - val_accuracy: 0.1505\n",
      "Epoch 2/10\n",
      "329/329 [==============================] - 128s 389ms/step - loss: 2.1339 - accuracy: 0.3664 - val_loss: 1.2319 - val_accuracy: 0.7140\n",
      "Epoch 3/10\n",
      "329/329 [==============================] - 129s 392ms/step - loss: 0.7601 - accuracy: 0.7816 - val_loss: 0.6166 - val_accuracy: 0.8359\n",
      "Epoch 4/10\n",
      "329/329 [==============================] - 130s 394ms/step - loss: 0.3984 - accuracy: 0.8804 - val_loss: 0.1440 - val_accuracy: 0.9561\n",
      "Epoch 5/10\n",
      "329/329 [==============================] - 131s 400ms/step - loss: 0.2626 - accuracy: 0.9215 - val_loss: 0.0782 - val_accuracy: 0.9778\n",
      "Epoch 6/10\n",
      "329/329 [==============================] - 140s 424ms/step - loss: 0.1905 - accuracy: 0.9454 - val_loss: 0.0370 - val_accuracy: 0.9906\n",
      "Epoch 7/10\n",
      "329/329 [==============================] - 146s 445ms/step - loss: 0.1666 - accuracy: 0.9537 - val_loss: 0.1281 - val_accuracy: 0.9673\n",
      "Epoch 8/10\n",
      "329/329 [==============================] - 141s 430ms/step - loss: 0.1434 - accuracy: 0.9563 - val_loss: 0.0286 - val_accuracy: 0.9916\n",
      "Epoch 9/10\n",
      "329/329 [==============================] - 141s 430ms/step - loss: 0.1139 - accuracy: 0.9676 - val_loss: 0.0746 - val_accuracy: 0.9770\n",
      "Epoch 10/10\n",
      "329/329 [==============================] - 149s 452ms/step - loss: 0.1085 - accuracy: 0.9724 - val_loss: 0.0414 - val_accuracy: 0.9916\n",
      "Duration: 0:24:12.633017\n"
     ]
    }
   ],
   "source": [
    "n=11\n",
    "print(n)\n",
    "models_dg[n].fit_model(image_sets_dg[n],label_sets_dg[n],x_val,y_val,epochs=10,batch_size = 64)\n",
    "n = n+1"
   ]
  },
  {
   "cell_type": "code",
   "execution_count": 20,
   "id": "50367000",
   "metadata": {},
   "outputs": [
    {
     "name": "stdout",
     "output_type": "stream",
     "text": [
      "12\n",
      "Epoch 1/10\n",
      "356/356 [==============================] - 163s 448ms/step - loss: 3.3040 - accuracy: 0.1038 - val_loss: 2.7618 - val_accuracy: 0.2557\n",
      "Epoch 2/10\n",
      "356/356 [==============================] - 172s 484ms/step - loss: 1.7343 - accuracy: 0.4932 - val_loss: 0.6569 - val_accuracy: 0.8352\n",
      "Epoch 3/10\n",
      "356/356 [==============================] - 169s 475ms/step - loss: 0.5674 - accuracy: 0.8374 - val_loss: 0.1982 - val_accuracy: 0.9490\n",
      "Epoch 4/10\n",
      "356/356 [==============================] - 168s 472ms/step - loss: 0.3144 - accuracy: 0.9071 - val_loss: 0.1080 - val_accuracy: 0.9640\n",
      "Epoch 5/10\n",
      "356/356 [==============================] - 169s 475ms/step - loss: 0.2146 - accuracy: 0.9370 - val_loss: 0.0590 - val_accuracy: 0.9849\n",
      "Epoch 6/10\n",
      "356/356 [==============================] - 171s 480ms/step - loss: 0.1730 - accuracy: 0.9505 - val_loss: 0.0747 - val_accuracy: 0.9786\n",
      "Epoch 7/10\n",
      "356/356 [==============================] - 169s 475ms/step - loss: 0.1407 - accuracy: 0.9596 - val_loss: 0.0334 - val_accuracy: 0.9921\n",
      "Epoch 8/10\n",
      "356/356 [==============================] - 167s 468ms/step - loss: 0.1297 - accuracy: 0.9638 - val_loss: 0.0568 - val_accuracy: 0.9824\n",
      "Epoch 9/10\n",
      "356/356 [==============================] - 172s 482ms/step - loss: 0.1175 - accuracy: 0.9664 - val_loss: 0.0353 - val_accuracy: 0.9906\n",
      "Epoch 10/10\n",
      "356/356 [==============================] - 166s 467ms/step - loss: 0.1134 - accuracy: 0.9696 - val_loss: 0.0489 - val_accuracy: 0.9911\n",
      "Duration: 0:28:06.040761\n"
     ]
    }
   ],
   "source": [
    "print(n)\n",
    "models_dg[n].fit_model(image_sets_dg[n],label_sets_dg[n],x_val,y_val,epochs=10,batch_size = 64)\n",
    "n = n+1"
   ]
  },
  {
   "cell_type": "code",
   "execution_count": 21,
   "id": "60ffaa47",
   "metadata": {},
   "outputs": [
    {
     "name": "stdout",
     "output_type": "stream",
     "text": [
      "13\n",
      "Epoch 1/10\n",
      "383/383 [==============================] - 188s 478ms/step - loss: 3.4779 - accuracy: 0.0943 - val_loss: 2.7511 - val_accuracy: 0.2774\n",
      "Epoch 2/10\n",
      "383/383 [==============================] - 182s 476ms/step - loss: 1.6315 - accuracy: 0.5257 - val_loss: 0.5643 - val_accuracy: 0.8540\n",
      "Epoch 3/10\n",
      "383/383 [==============================] - 188s 492ms/step - loss: 0.4782 - accuracy: 0.8577 - val_loss: 0.1379 - val_accuracy: 0.9589\n",
      "Epoch 4/10\n",
      "383/383 [==============================] - 187s 487ms/step - loss: 0.2499 - accuracy: 0.9264 - val_loss: 0.0843 - val_accuracy: 0.9770\n",
      "Epoch 5/10\n",
      "383/383 [==============================] - 182s 476ms/step - loss: 0.1864 - accuracy: 0.9490 - val_loss: 0.0319 - val_accuracy: 0.9903\n",
      "Epoch 6/10\n",
      "383/383 [==============================] - 185s 483ms/step - loss: 0.1365 - accuracy: 0.9602 - val_loss: 0.0640 - val_accuracy: 0.9849\n",
      "Epoch 7/10\n",
      "383/383 [==============================] - 182s 476ms/step - loss: 0.1197 - accuracy: 0.9662 - val_loss: 0.0334 - val_accuracy: 0.9913\n",
      "Epoch 8/10\n",
      "383/383 [==============================] - 165s 430ms/step - loss: 0.1139 - accuracy: 0.9692 - val_loss: 0.0176 - val_accuracy: 0.9964\n",
      "Epoch 9/10\n",
      "383/383 [==============================] - 166s 434ms/step - loss: 0.0962 - accuracy: 0.9740 - val_loss: 0.0258 - val_accuracy: 0.9939\n",
      "Epoch 10/10\n",
      "383/383 [==============================] - 164s 428ms/step - loss: 0.0962 - accuracy: 0.9740 - val_loss: 0.0293 - val_accuracy: 0.9921\n",
      "Duration: 0:29:49.773621\n"
     ]
    }
   ],
   "source": [
    "print(n)\n",
    "models_dg[n].fit_model(image_sets_dg[n],label_sets_dg[n],x_val,y_val,epochs=10,batch_size = 64)\n",
    "n = n+1"
   ]
  },
  {
   "cell_type": "code",
   "execution_count": 22,
   "id": "3344080a",
   "metadata": {},
   "outputs": [
    {
     "name": "stdout",
     "output_type": "stream",
     "text": [
      "14\n",
      "Epoch 1/10\n",
      "411/411 [==============================] - 185s 442ms/step - loss: 3.3776 - accuracy: 0.0935 - val_loss: 2.3617 - val_accuracy: 0.3674\n",
      "Epoch 2/10\n",
      "411/411 [==============================] - 177s 432ms/step - loss: 1.3979 - accuracy: 0.5944 - val_loss: 0.3310 - val_accuracy: 0.9127\n",
      "Epoch 3/10\n",
      "411/411 [==============================] - 176s 428ms/step - loss: 0.3960 - accuracy: 0.8855 - val_loss: 0.1112 - val_accuracy: 0.9630\n",
      "Epoch 4/10\n",
      "411/411 [==============================] - 178s 432ms/step - loss: 0.2098 - accuracy: 0.9400 - val_loss: 0.0989 - val_accuracy: 0.9689\n",
      "Epoch 5/10\n",
      "411/411 [==============================] - 178s 434ms/step - loss: 0.1539 - accuracy: 0.9557 - val_loss: 0.0572 - val_accuracy: 0.9809\n",
      "Epoch 6/10\n",
      "411/411 [==============================] - 184s 447ms/step - loss: 0.1248 - accuracy: 0.9642 - val_loss: 0.0279 - val_accuracy: 0.9908\n",
      "Epoch 7/10\n",
      "411/411 [==============================] - 198s 483ms/step - loss: 0.1083 - accuracy: 0.9692 - val_loss: 0.0278 - val_accuracy: 0.9918\n",
      "Epoch 8/10\n",
      "411/411 [==============================] - 175s 426ms/step - loss: 0.1014 - accuracy: 0.9722 - val_loss: 0.0264 - val_accuracy: 0.9926\n",
      "Epoch 9/10\n",
      "411/411 [==============================] - 177s 429ms/step - loss: 0.0997 - accuracy: 0.9738 - val_loss: 0.0567 - val_accuracy: 0.9852\n",
      "Epoch 10/10\n",
      "411/411 [==============================] - 175s 425ms/step - loss: 0.0908 - accuracy: 0.9755 - val_loss: 0.0194 - val_accuracy: 0.9962\n",
      "Duration: 0:30:03.228032\n"
     ]
    }
   ],
   "source": [
    "print(n)\n",
    "models_dg[n].fit_model(image_sets_dg[n],label_sets_dg[n],x_val,y_val,epochs=10,batch_size = 64)\n",
    "n = n+1"
   ]
  },
  {
   "cell_type": "code",
   "execution_count": 23,
   "id": "f9358860",
   "metadata": {},
   "outputs": [
    {
     "name": "stdout",
     "output_type": "stream",
     "text": [
      "15\n",
      "Epoch 1/10\n",
      "438/438 [==============================] - 189s 425ms/step - loss: 3.2917 - accuracy: 0.1172 - val_loss: 1.4826 - val_accuracy: 0.6331\n",
      "Epoch 2/10\n",
      "438/438 [==============================] - 187s 427ms/step - loss: 0.9289 - accuracy: 0.7355 - val_loss: 0.2751 - val_accuracy: 0.9178\n",
      "Epoch 3/10\n",
      "438/438 [==============================] - 188s 428ms/step - loss: 0.3055 - accuracy: 0.9115 - val_loss: 0.0778 - val_accuracy: 0.9786\n",
      "Epoch 4/10\n",
      "438/438 [==============================] - 187s 428ms/step - loss: 0.1754 - accuracy: 0.9505 - val_loss: 0.0681 - val_accuracy: 0.9847\n",
      "Epoch 5/10\n",
      "438/438 [==============================] - 187s 427ms/step - loss: 0.1315 - accuracy: 0.9621 - val_loss: 0.0361 - val_accuracy: 0.9888\n",
      "Epoch 6/10\n",
      "438/438 [==============================] - 203s 464ms/step - loss: 0.1145 - accuracy: 0.9679 - val_loss: 0.0367 - val_accuracy: 0.9911\n",
      "Epoch 7/10\n",
      "438/438 [==============================] - 203s 463ms/step - loss: 0.0928 - accuracy: 0.9734 - val_loss: 0.0322 - val_accuracy: 0.9921\n",
      "Epoch 8/10\n",
      "438/438 [==============================] - 203s 463ms/step - loss: 0.0969 - accuracy: 0.9742 - val_loss: 0.0189 - val_accuracy: 0.9954\n",
      "Epoch 9/10\n",
      "438/438 [==============================] - 203s 463ms/step - loss: 0.0965 - accuracy: 0.9745 - val_loss: 0.0338 - val_accuracy: 0.9936\n",
      "Epoch 10/10\n",
      "438/438 [==============================] - 203s 463ms/step - loss: 0.0863 - accuracy: 0.9770 - val_loss: 0.0313 - val_accuracy: 0.9952\n",
      "Duration: 0:32:32.774178\n"
     ]
    }
   ],
   "source": [
    "print(n)#15\n",
    "models_dg[n].fit_model(image_sets_dg[n],label_sets_dg[n],x_val,y_val,epochs=10,batch_size = 64)\n",
    "n = n+1"
   ]
  },
  {
   "cell_type": "code",
   "execution_count": 24,
   "id": "b7e50494",
   "metadata": {},
   "outputs": [
    {
     "name": "stdout",
     "output_type": "stream",
     "text": [
      "16\n",
      "Epoch 1/10\n",
      "465/465 [==============================] - 219s 462ms/step - loss: 3.3058 - accuracy: 0.1108 - val_loss: 1.2767 - val_accuracy: 0.6504\n",
      "Epoch 2/10\n",
      "465/465 [==============================] - 216s 464ms/step - loss: 0.8707 - accuracy: 0.7488 - val_loss: 0.2337 - val_accuracy: 0.9342\n",
      "Epoch 3/10\n",
      "465/465 [==============================] - 216s 465ms/step - loss: 0.3398 - accuracy: 0.9001 - val_loss: 0.0722 - val_accuracy: 0.9811\n",
      "Epoch 4/10\n",
      "465/465 [==============================] - 216s 464ms/step - loss: 0.2119 - accuracy: 0.9389 - val_loss: 0.0594 - val_accuracy: 0.9852\n",
      "Epoch 5/10\n",
      "465/465 [==============================] - 213s 459ms/step - loss: 0.1553 - accuracy: 0.9544 - val_loss: 0.0493 - val_accuracy: 0.9865\n",
      "Epoch 6/10\n",
      "465/465 [==============================] - 199s 429ms/step - loss: 0.1332 - accuracy: 0.9633 - val_loss: 0.0495 - val_accuracy: 0.9860\n",
      "Epoch 7/10\n",
      "465/465 [==============================] - 198s 426ms/step - loss: 0.1151 - accuracy: 0.9690 - val_loss: 0.0368 - val_accuracy: 0.9921\n",
      "Epoch 8/10\n",
      "465/465 [==============================] - 202s 435ms/step - loss: 0.1140 - accuracy: 0.9697 - val_loss: 0.0329 - val_accuracy: 0.9931\n",
      "Epoch 9/10\n",
      "465/465 [==============================] - 205s 441ms/step - loss: 0.1058 - accuracy: 0.9714 - val_loss: 0.0678 - val_accuracy: 0.9824\n",
      "Epoch 10/10\n",
      "465/465 [==============================] - 200s 431ms/step - loss: 0.1001 - accuracy: 0.9747 - val_loss: 0.0370 - val_accuracy: 0.9939\n",
      "Duration: 0:34:46.072575\n"
     ]
    }
   ],
   "source": [
    "print(n)\n",
    "models_dg[n].fit_model(image_sets_dg[n],label_sets_dg[n],x_val,y_val,epochs=10,batch_size = 64)\n",
    "n = n+1"
   ]
  },
  {
   "cell_type": "code",
   "execution_count": 25,
   "id": "c8510837",
   "metadata": {},
   "outputs": [
    {
     "name": "stdout",
     "output_type": "stream",
     "text": [
      "17\n",
      "Epoch 1/10\n",
      "493/493 [==============================] - 214s 426ms/step - loss: 3.2976 - accuracy: 0.1144 - val_loss: 1.2146 - val_accuracy: 0.7316\n",
      "Epoch 2/10\n",
      "493/493 [==============================] - 218s 442ms/step - loss: 0.7630 - accuracy: 0.7891 - val_loss: 0.3102 - val_accuracy: 0.9112\n",
      "Epoch 3/10\n",
      "493/493 [==============================] - 234s 475ms/step - loss: 0.2484 - accuracy: 0.9263 - val_loss: 0.1292 - val_accuracy: 0.9604\n",
      "Epoch 4/10\n",
      "493/493 [==============================] - 237s 481ms/step - loss: 0.1498 - accuracy: 0.9553 - val_loss: 0.0710 - val_accuracy: 0.9804\n",
      "Epoch 5/10\n",
      "493/493 [==============================] - 230s 467ms/step - loss: 0.1080 - accuracy: 0.9690 - val_loss: 0.0518 - val_accuracy: 0.9824\n",
      "Epoch 6/10\n",
      "493/493 [==============================] - 228s 463ms/step - loss: 0.1007 - accuracy: 0.9715 - val_loss: 0.0248 - val_accuracy: 0.9949\n",
      "Epoch 7/10\n",
      "493/493 [==============================] - 232s 471ms/step - loss: 0.0790 - accuracy: 0.9777 - val_loss: 0.0299 - val_accuracy: 0.9941\n",
      "Epoch 8/10\n",
      "493/493 [==============================] - 223s 452ms/step - loss: 0.0894 - accuracy: 0.9777 - val_loss: 0.0329 - val_accuracy: 0.9921\n",
      "Epoch 9/10\n",
      "493/493 [==============================] - 215s 435ms/step - loss: 0.0913 - accuracy: 0.9778 - val_loss: 0.0194 - val_accuracy: 0.9959\n",
      "Epoch 10/10\n",
      "493/493 [==============================] - 214s 433ms/step - loss: 0.0830 - accuracy: 0.9798 - val_loss: 0.0210 - val_accuracy: 0.9952\n",
      "Duration: 0:37:24.821846\n"
     ]
    }
   ],
   "source": [
    "print(n)\n",
    "models_dg[n].fit_model(image_sets_dg[n],label_sets_dg[n],x_val,y_val,epochs=10,batch_size = 64)\n",
    "n = n+1"
   ]
  },
  {
   "cell_type": "code",
   "execution_count": 26,
   "id": "49761e00",
   "metadata": {},
   "outputs": [
    {
     "name": "stdout",
     "output_type": "stream",
     "text": [
      "18\n",
      "Epoch 1/10\n",
      "520/520 [==============================] - 227s 429ms/step - loss: 3.3061 - accuracy: 0.1115 - val_loss: 1.1134 - val_accuracy: 0.7157\n",
      "Epoch 2/10\n",
      "520/520 [==============================] - 224s 431ms/step - loss: 0.7224 - accuracy: 0.7927 - val_loss: 0.1230 - val_accuracy: 0.9686\n",
      "Epoch 3/10\n",
      "520/520 [==============================] - 222s 426ms/step - loss: 0.2112 - accuracy: 0.9379 - val_loss: 0.0413 - val_accuracy: 0.9908\n",
      "Epoch 4/10\n",
      "520/520 [==============================] - 220s 423ms/step - loss: 0.1343 - accuracy: 0.9616 - val_loss: 0.0362 - val_accuracy: 0.9923\n",
      "Epoch 5/10\n",
      "520/520 [==============================] - 221s 424ms/step - loss: 0.1105 - accuracy: 0.9696 - val_loss: 0.0324 - val_accuracy: 0.9944\n",
      "Epoch 6/10\n",
      "520/520 [==============================] - 242s 466ms/step - loss: 0.0927 - accuracy: 0.9739 - val_loss: 0.0307 - val_accuracy: 0.9903\n",
      "Epoch 7/10\n",
      "520/520 [==============================] - 242s 465ms/step - loss: 0.0919 - accuracy: 0.9766 - val_loss: 0.0468 - val_accuracy: 0.9931\n",
      "Epoch 8/10\n",
      "520/520 [==============================] - 238s 459ms/step - loss: 0.0954 - accuracy: 0.9773 - val_loss: 0.0223 - val_accuracy: 0.9962\n",
      "Epoch 9/10\n",
      "520/520 [==============================] - 239s 460ms/step - loss: 0.0786 - accuracy: 0.9790 - val_loss: 0.0201 - val_accuracy: 0.9957\n",
      "Epoch 10/10\n",
      "520/520 [==============================] - 239s 459ms/step - loss: 0.0876 - accuracy: 0.9793 - val_loss: 0.0317 - val_accuracy: 0.9969\n",
      "Duration: 0:39:26.495299\n"
     ]
    }
   ],
   "source": [
    "print(n)\n",
    "models_dg[n].fit_model(image_sets_dg[n],label_sets_dg[n],x_val,y_val,epochs=10,batch_size = 64)\n",
    "n = n+1"
   ]
  },
  {
   "cell_type": "code",
   "execution_count": 27,
   "id": "f3b393ee",
   "metadata": {},
   "outputs": [
    {
     "name": "stdout",
     "output_type": "stream",
     "text": [
      "19\n",
      "Epoch 1/10\n",
      "547/547 [==============================] - 258s 463ms/step - loss: 3.3708 - accuracy: 0.1045 - val_loss: 0.7366 - val_accuracy: 0.7686\n",
      "Epoch 2/10\n",
      "547/547 [==============================] - 263s 481ms/step - loss: 0.7141 - accuracy: 0.7857 - val_loss: 0.0657 - val_accuracy: 0.9819\n",
      "Epoch 3/10\n",
      "547/547 [==============================] - 252s 461ms/step - loss: 0.2057 - accuracy: 0.9390 - val_loss: 0.0416 - val_accuracy: 0.9895\n",
      "Epoch 4/10\n",
      "547/547 [==============================] - 253s 462ms/step - loss: 0.1248 - accuracy: 0.9643 - val_loss: 0.0235 - val_accuracy: 0.9939\n",
      "Epoch 5/10\n",
      "547/547 [==============================] - 257s 469ms/step - loss: 0.1046 - accuracy: 0.9711 - val_loss: 0.0292 - val_accuracy: 0.9929\n",
      "Epoch 6/10\n",
      "547/547 [==============================] - 235s 430ms/step - loss: 0.0906 - accuracy: 0.9747 - val_loss: 0.0348 - val_accuracy: 0.9946\n",
      "Epoch 7/10\n",
      "547/547 [==============================] - 226s 413ms/step - loss: 0.0891 - accuracy: 0.9749 - val_loss: 0.0218 - val_accuracy: 0.9952\n",
      "Epoch 8/10\n",
      "547/547 [==============================] - 233s 426ms/step - loss: 0.0808 - accuracy: 0.9796 - val_loss: 0.0280 - val_accuracy: 0.9949\n",
      "Epoch 9/10\n",
      "547/547 [==============================] - 233s 425ms/step - loss: 0.0771 - accuracy: 0.9801 - val_loss: 0.0312 - val_accuracy: 0.9939\n",
      "Epoch 10/10\n",
      "547/547 [==============================] - 235s 429ms/step - loss: 0.0857 - accuracy: 0.9793 - val_loss: 0.0232 - val_accuracy: 0.9964\n",
      "Duration: 0:40:45.353841\n"
     ]
    }
   ],
   "source": [
    "print(n)\n",
    "models_dg[n].fit_model(image_sets_dg[n],label_sets_dg[n],x_val,y_val,epochs=10,batch_size = 64)\n",
    "n = n+1"
   ]
  },
  {
   "cell_type": "code",
   "execution_count": 28,
   "id": "3583f6f1",
   "metadata": {},
   "outputs": [
    {
     "name": "stdout",
     "output_type": "stream",
     "text": [
      "20\n",
      "Epoch 1/10\n",
      "552/552 [==============================] - 237s 424ms/step - loss: 3.2929 - accuracy: 0.1180 - val_loss: 1.1381 - val_accuracy: 0.7211\n",
      "Epoch 2/10\n",
      "552/552 [==============================] - 240s 434ms/step - loss: 0.6442 - accuracy: 0.8054 - val_loss: 0.1022 - val_accuracy: 0.9701\n",
      "Epoch 3/10\n",
      "552/552 [==============================] - 258s 468ms/step - loss: 0.2035 - accuracy: 0.9397 - val_loss: 0.0338 - val_accuracy: 0.9911\n",
      "Epoch 4/10\n",
      "552/552 [==============================] - 256s 465ms/step - loss: 0.1318 - accuracy: 0.9618 - val_loss: 0.0300 - val_accuracy: 0.9941\n",
      "Epoch 5/10\n",
      "552/552 [==============================] - 267s 485ms/step - loss: 0.1161 - accuracy: 0.9679 - val_loss: 0.0280 - val_accuracy: 0.9934\n",
      "Epoch 6/10\n",
      "552/552 [==============================] - 256s 464ms/step - loss: 0.0879 - accuracy: 0.9758 - val_loss: 0.0299 - val_accuracy: 0.9944\n",
      "Epoch 7/10\n",
      "552/552 [==============================] - 261s 472ms/step - loss: 0.0885 - accuracy: 0.9763 - val_loss: 0.0253 - val_accuracy: 0.9952\n",
      "Epoch 8/10\n",
      "552/552 [==============================] - 259s 470ms/step - loss: 0.0797 - accuracy: 0.9805 - val_loss: 0.0439 - val_accuracy: 0.9934\n",
      "Epoch 9/10\n",
      "552/552 [==============================] - 253s 459ms/step - loss: 0.0838 - accuracy: 0.9781 - val_loss: 0.0285 - val_accuracy: 0.9954\n",
      "Epoch 10/10\n",
      "552/552 [==============================] - 253s 459ms/step - loss: 0.0734 - accuracy: 0.9820 - val_loss: 0.0311 - val_accuracy: 0.9954\n",
      "Duration: 0:42:21.525170\n"
     ]
    }
   ],
   "source": [
    "print(n)\n",
    "models_dg[n].fit_model(image_sets_dg[n],label_sets_dg[n],x_val,y_val,epochs=10,batch_size = 64)\n",
    "n = n+1"
   ]
  },
  {
   "cell_type": "code",
   "execution_count": 29,
   "id": "eec48aaa",
   "metadata": {},
   "outputs": [
    {
     "name": "stdout",
     "output_type": "stream",
     "text": [
      "INFO:tensorflow:Assets written to: D:/models/aug_22/gtsrb/C1/gtsrb_model_c1_aug_dg_e1_11\\assets\n",
      "Model has been saved\n",
      "INFO:tensorflow:Assets written to: D:/models/aug_22/gtsrb/C1/gtsrb_model_c1_aug_dg_e1_12\\assets\n",
      "Model has been saved\n",
      "INFO:tensorflow:Assets written to: D:/models/aug_22/gtsrb/C1/gtsrb_model_c1_aug_dg_e1_13\\assets\n",
      "Model has been saved\n",
      "INFO:tensorflow:Assets written to: D:/models/aug_22/gtsrb/C1/gtsrb_model_c1_aug_dg_e1_14\\assets\n",
      "Model has been saved\n",
      "INFO:tensorflow:Assets written to: D:/models/aug_22/gtsrb/C1/gtsrb_model_c1_aug_dg_e1_15\\assets\n",
      "Model has been saved\n",
      "INFO:tensorflow:Assets written to: D:/models/aug_22/gtsrb/C1/gtsrb_model_c1_aug_dg_e1_16\\assets\n",
      "Model has been saved\n",
      "INFO:tensorflow:Assets written to: D:/models/aug_22/gtsrb/C1/gtsrb_model_c1_aug_dg_e1_17\\assets\n",
      "Model has been saved\n",
      "INFO:tensorflow:Assets written to: D:/models/aug_22/gtsrb/C1/gtsrb_model_c1_aug_dg_e1_18\\assets\n",
      "Model has been saved\n",
      "INFO:tensorflow:Assets written to: D:/models/aug_22/gtsrb/C1/gtsrb_model_c1_aug_dg_e1_19\\assets\n",
      "Model has been saved\n",
      "INFO:tensorflow:Assets written to: D:/models/aug_22/gtsrb/C1/gtsrb_model_c1_aug_dg_e1_20\\assets\n",
      "Model has been saved\n"
     ]
    }
   ],
   "source": [
    "#rerun 0 model\n",
    "new_model_dg_dir  = \"D:/models/aug_22/gtsrb/C1/gtsrb_model_c1_aug_dg_e1\"\n",
    "\n",
    "i=11\n",
    "\n",
    "for model in models_dg[11:]:\n",
    "    model.save(new_model_dg_dir+\"_\"+str(i))\n",
    "    i+=1"
   ]
  },
  {
   "cell_type": "code",
   "execution_count": 160,
   "id": "f0c083eb",
   "metadata": {},
   "outputs": [
    {
     "name": "stdout",
     "output_type": "stream",
     "text": [
      "INFO:tensorflow:Assets written to: D:/models/aug_22/gtsrb/C1/gtsrb_model_c1_aug_dg_e1_0\\assets\n",
      "Model has been saved\n"
     ]
    }
   ],
   "source": [
    "#rerun 0 model\n",
    "new_model_dg_dir  = \"D:/models/aug_22/gtsrb/C1/gtsrb_model_c1_aug_dg_e1\"\n",
    "\n",
    "i=0\n",
    "\n",
    "for model in models_dg[11:12]:\n",
    "    model.save(new_model_dg_dir+\"_\"+str(i))\n",
    "    i+=1"
   ]
  },
  {
   "cell_type": "code",
   "execution_count": 52,
   "id": "17e60676",
   "metadata": {},
   "outputs": [],
   "source": [
    "loading = False\n",
    "\n",
    "models_dg = []\n",
    "\n",
    "if loading:\n",
    "    for i in range(5):\n",
    "        model_dg_dir = \"D:/models/aug_22/gtsrb/C1/gtsrb_model_c1_aug_gn_e1_\"+str(i)\n",
    "        print(model_dg_dir)\n",
    "        model =utils.My_model('gtsrb',True,model_dg_dir)\n",
    "        model.model.compile(loss= 'categorical_crossentropy', optimizer = 'rmsprop', metrics = ['accuracy',tf.keras.metrics.Precision(), tf.keras.metrics.Recall()])\n",
    "        models_dg.append(model)\n",
    "       \n",
    "    "
   ]
  },
  {
   "cell_type": "code",
   "execution_count": 53,
   "id": "2b8f5e4e",
   "metadata": {},
   "outputs": [],
   "source": [
    "try:\n",
    "    del deep_gini_values\n",
    "    del top_images_by_dg\n",
    "    del top_labels_by_dg\n",
    "    del image_sets_dg\n",
    "    del label_sets_dg\n",
    "    del models_dg\n",
    "except:\n",
    "    print(\"Error\")"
   ]
  },
  {
   "cell_type": "code",
   "execution_count": 55,
   "id": "c70ce257",
   "metadata": {},
   "outputs": [
    {
     "data": {
      "text/plain": [
       "100996"
      ]
     },
     "execution_count": 55,
     "metadata": {},
     "output_type": "execute_result"
    }
   ],
   "source": [
    "import gc\n",
    "gc.collect()"
   ]
  },
  {
   "cell_type": "markdown",
   "id": "55c50119",
   "metadata": {},
   "source": [
    "### Softmax "
   ]
  },
  {
   "cell_type": "code",
   "execution_count": 125,
   "id": "8d58b9e0",
   "metadata": {},
   "outputs": [],
   "source": [
    "#softmax values\n",
    "se_direction = \"C:/Users/fjdur/Documents/upc-july/data/\"+dataset+\"/softmax_values.npy\"\n",
    "se_values = np.load(se_direction)\n"
   ]
  },
  {
   "cell_type": "code",
   "execution_count": 126,
   "id": "1f59b50b",
   "metadata": {},
   "outputs": [],
   "source": [
    "# Obtaining top n images by LSA values\n",
    "top_images_by_se  = utils.get_x_of_indexes(list(np.flip(np.argsort(se_values))),x_train_and_adversary)\n",
    "top_labels_by_se = utils.get_x_of_indexes(list(np.flip(np.argsort(se_values))),y_train_and_adversary)"
   ]
  },
  {
   "cell_type": "code",
   "execution_count": 127,
   "id": "90c005be",
   "metadata": {},
   "outputs": [
    {
     "name": "stdout",
     "output_type": "stream",
     "text": [
      "0 :\n",
      "0  ->  1750\n",
      "1750\n",
      "1 :\n",
      "0  ->  3500\n",
      "3500\n",
      "2 :\n",
      "0  ->  5250\n",
      "5250\n",
      "3 :\n",
      "0  ->  7000\n",
      "7000\n",
      "4 :\n",
      "0  ->  8750\n",
      "8750\n",
      "5 :\n",
      "0  ->  10500\n",
      "10500\n",
      "6 :\n",
      "0  ->  12250\n",
      "12250\n",
      "7 :\n",
      "0  ->  14000\n",
      "14000\n",
      "8 :\n",
      "0  ->  15750\n",
      "15750\n",
      "9 :\n",
      "0  ->  17500\n",
      "17500\n",
      "10 :\n",
      "0  ->  19250\n",
      "19250\n",
      "11 :\n",
      "0  ->  21000\n",
      "21000\n",
      "12 :\n",
      "0  ->  22750\n",
      "22750\n",
      "13 :\n",
      "0  ->  24500\n",
      "24500\n",
      "14 :\n",
      "0  ->  26250\n",
      "26250\n",
      "15 :\n",
      "0  ->  28000\n",
      "28000\n",
      "16 :\n",
      "0  ->  29750\n",
      "29750\n",
      "17 :\n",
      "0  ->  31500\n",
      "31500\n",
      "18 :\n",
      "0  ->  33250\n",
      "33250\n",
      "19 :\n",
      "0  ->  35000\n",
      "35000\n",
      "20 :\n",
      "Last\n",
      "0  ->  37037\n",
      "35287\n"
     ]
    }
   ],
   "source": [
    "m = n_data_points\n",
    "\n",
    "n = 0\n",
    "image_sets_se = []\n",
    "label_sets_se = []\n",
    "\n",
    "# last\n",
    "#for i in range(0,len(top_images_by_lsa)//m):\n",
    "\n",
    "for i in range((len(top_images_by_se)//m)+1):\n",
    "    print(i,\":\")\n",
    "    if (i+1 >= ((len(top_images_by_se)//m)+1)):\n",
    "        print(\"Last\")\n",
    "        print(0,\" -> \",n+m+(len(top_images_by_se)%m))\n",
    "        top_images_by_se_n = np.array(top_images_by_se[:n+m+(len(top_images_by_se)%m)])\n",
    "        top_labels_by_se_n = np.array(top_labels_by_se[:n+m+(len(top_images_by_se)%m)])\n",
    "    else:\n",
    "        print(0,\" -> \",m+n)\n",
    "        top_images_by_se_n = np.array(top_images_by_se[:n+m])\n",
    "        top_labels_by_se_n = np.array(top_labels_by_se[:n+m])\n",
    "    image_sets_se.append(top_images_by_se_n)\n",
    "    label_sets_se.append(top_labels_by_se_n)\n",
    "    print(len(top_images_by_se_n))\n",
    "    n += m\n",
    "\n"
   ]
  },
  {
   "cell_type": "code",
   "execution_count": 128,
   "id": "7a6e01cb",
   "metadata": {},
   "outputs": [
    {
     "name": "stdout",
     "output_type": "stream",
     "text": [
      "0 :\n",
      "Model compiled\n",
      "1 :\n",
      "Model compiled\n",
      "2 :\n",
      "Model compiled\n",
      "3 :\n",
      "Model compiled\n",
      "4 :\n",
      "Model compiled\n",
      "5 :\n",
      "Model compiled\n",
      "6 :\n",
      "Model compiled\n",
      "7 :\n",
      "Model compiled\n",
      "8 :\n",
      "Model compiled\n",
      "9 :\n",
      "Model compiled\n",
      "10 :\n",
      "Model compiled\n",
      "11 :\n",
      "Model compiled\n",
      "12 :\n",
      "Model compiled\n",
      "13 :\n",
      "Model compiled\n",
      "14 :\n",
      "Model compiled\n",
      "15 :\n",
      "Model compiled\n",
      "16 :\n",
      "Model compiled\n",
      "17 :\n",
      "Model compiled\n",
      "18 :\n",
      "Model compiled\n",
      "19 :\n",
      "Model compiled\n",
      "20 :\n",
      "Model compiled\n"
     ]
    }
   ],
   "source": [
    "models_se = []\n",
    "for i in range(len(label_sets_se)):\n",
    "    print(i,\":\")\n",
    "    model = utils.My_model(dataset,False)\n",
    "    model.compile_model()\n",
    "    models_se.append(model)"
   ]
  },
  {
   "cell_type": "code",
   "execution_count": 61,
   "id": "f64cd379",
   "metadata": {},
   "outputs": [
    {
     "name": "stdout",
     "output_type": "stream",
     "text": [
      "0\n",
      "Epoch 1/10\n",
      "28/28 [==============================] - 27s 788ms/step - loss: 3.9488 - accuracy: 0.0781 - val_loss: 3.6190 - val_accuracy: 0.0566\n",
      "Epoch 2/10\n",
      "28/28 [==============================] - 22s 794ms/step - loss: 3.4949 - accuracy: 0.1172 - val_loss: 3.5713 - val_accuracy: 0.0566\n",
      "Epoch 3/10\n",
      "28/28 [==============================] - 20s 715ms/step - loss: 3.4184 - accuracy: 0.1322 - val_loss: 3.5513 - val_accuracy: 0.0566\n",
      "Epoch 4/10\n",
      "28/28 [==============================] - 20s 721ms/step - loss: 3.4157 - accuracy: 0.1183 - val_loss: 3.5434 - val_accuracy: 0.0566\n",
      "Epoch 5/10\n",
      "28/28 [==============================] - 20s 734ms/step - loss: 3.4479 - accuracy: 0.1211 - val_loss: 3.5415 - val_accuracy: 0.0566\n",
      "Epoch 6/10\n",
      "28/28 [==============================] - 20s 725ms/step - loss: 3.4244 - accuracy: 0.1221 - val_loss: 3.5249 - val_accuracy: 0.0720\n",
      "Epoch 7/10\n",
      "28/28 [==============================] - 20s 729ms/step - loss: 3.4101 - accuracy: 0.1194 - val_loss: 3.5946 - val_accuracy: 0.0569\n",
      "Epoch 8/10\n",
      "28/28 [==============================] - 20s 733ms/step - loss: 3.3457 - accuracy: 0.1459 - val_loss: 3.6111 - val_accuracy: 0.0447\n",
      "Epoch 9/10\n",
      "28/28 [==============================] - 20s 728ms/step - loss: 3.3578 - accuracy: 0.1384 - val_loss: 3.4750 - val_accuracy: 0.0801\n",
      "Epoch 10/10\n",
      "28/28 [==============================] - 20s 730ms/step - loss: 3.3024 - accuracy: 0.1549 - val_loss: 3.4193 - val_accuracy: 0.0898\n",
      "Duration: 0:03:29.849107\n"
     ]
    }
   ],
   "source": [
    "n=0\n",
    "print(n)\n",
    "models_se[n].fit_model(image_sets_se[n],label_sets_se[n],x_val,y_val,epochs=10,batch_size = 64)\n",
    "n = n+1"
   ]
  },
  {
   "cell_type": "code",
   "execution_count": 62,
   "id": "190558b1",
   "metadata": {},
   "outputs": [
    {
     "name": "stdout",
     "output_type": "stream",
     "text": [
      "1\n",
      "Epoch 1/10\n",
      "55/55 [==============================] - 38s 616ms/step - loss: 3.9830 - accuracy: 0.0910 - val_loss: 3.5935 - val_accuracy: 0.0758\n",
      "Epoch 2/10\n",
      "55/55 [==============================] - 34s 620ms/step - loss: 3.3757 - accuracy: 0.1282 - val_loss: 3.7574 - val_accuracy: 0.0753\n",
      "Epoch 3/10\n",
      "55/55 [==============================] - 34s 611ms/step - loss: 3.3465 - accuracy: 0.1454 - val_loss: 3.6883 - val_accuracy: 0.0783\n",
      "Epoch 4/10\n",
      "55/55 [==============================] - 34s 622ms/step - loss: 3.2666 - accuracy: 0.1743 - val_loss: 3.5154 - val_accuracy: 0.0814\n",
      "Epoch 5/10\n",
      "55/55 [==============================] - 34s 626ms/step - loss: 3.2057 - accuracy: 0.1629 - val_loss: 3.5806 - val_accuracy: 0.0771\n",
      "Epoch 6/10\n",
      "55/55 [==============================] - 33s 598ms/step - loss: 3.0513 - accuracy: 0.1857 - val_loss: 3.2667 - val_accuracy: 0.1212\n",
      "Epoch 7/10\n",
      "55/55 [==============================] - 32s 592ms/step - loss: 2.8057 - accuracy: 0.2277 - val_loss: 2.9408 - val_accuracy: 0.2046\n",
      "Epoch 8/10\n",
      "55/55 [==============================] - 32s 592ms/step - loss: 2.5778 - accuracy: 0.2756 - val_loss: 2.6085 - val_accuracy: 0.3131\n",
      "Epoch 9/10\n",
      "55/55 [==============================] - 33s 599ms/step - loss: 2.2898 - accuracy: 0.3579 - val_loss: 2.3262 - val_accuracy: 0.4027\n",
      "Epoch 10/10\n",
      "55/55 [==============================] - 33s 594ms/step - loss: 1.9799 - accuracy: 0.4282 - val_loss: 2.0165 - val_accuracy: 0.4782\n",
      "Duration: 0:05:37.682182\n"
     ]
    }
   ],
   "source": [
    "print(n)\n",
    "models_se[n].fit_model(image_sets_se[n],label_sets_se[n],x_val,y_val,epochs=10,batch_size = 64)\n",
    "n = n+1"
   ]
  },
  {
   "cell_type": "code",
   "execution_count": 63,
   "id": "b59702fb",
   "metadata": {},
   "outputs": [
    {
     "name": "stdout",
     "output_type": "stream",
     "text": [
      "2\n",
      "Epoch 1/10\n",
      "83/83 [==============================] - 51s 563ms/step - loss: 3.5503 - accuracy: 0.0871 - val_loss: 3.9882 - val_accuracy: 0.0541\n",
      "Epoch 2/10\n",
      "83/83 [==============================] - 46s 561ms/step - loss: 3.3910 - accuracy: 0.1285 - val_loss: 3.8952 - val_accuracy: 0.0712\n",
      "Epoch 3/10\n",
      "83/83 [==============================] - 46s 558ms/step - loss: 3.3330 - accuracy: 0.1497 - val_loss: 3.5178 - val_accuracy: 0.0809\n",
      "Epoch 4/10\n",
      "83/83 [==============================] - 46s 559ms/step - loss: 3.1997 - accuracy: 0.1689 - val_loss: 3.4755 - val_accuracy: 0.0855\n",
      "Epoch 5/10\n",
      "83/83 [==============================] - 47s 563ms/step - loss: 2.9090 - accuracy: 0.2134 - val_loss: 4.2731 - val_accuracy: 0.1013\n",
      "Epoch 6/10\n",
      "83/83 [==============================] - 47s 561ms/step - loss: 2.5470 - accuracy: 0.2978 - val_loss: 2.5898 - val_accuracy: 0.3121\n",
      "Epoch 7/10\n",
      "83/83 [==============================] - 47s 565ms/step - loss: 2.1331 - accuracy: 0.3926 - val_loss: 1.9077 - val_accuracy: 0.4718\n",
      "Epoch 8/10\n",
      "83/83 [==============================] - 47s 564ms/step - loss: 1.6774 - accuracy: 0.5133 - val_loss: 1.7205 - val_accuracy: 0.5200\n",
      "Epoch 9/10\n",
      "83/83 [==============================] - 47s 562ms/step - loss: 1.3742 - accuracy: 0.6003 - val_loss: 1.3227 - val_accuracy: 0.6734\n",
      "Epoch 10/10\n",
      "83/83 [==============================] - 47s 564ms/step - loss: 1.0874 - accuracy: 0.6725 - val_loss: 1.3197 - val_accuracy: 0.6938\n",
      "Duration: 0:07:50.796247\n"
     ]
    }
   ],
   "source": [
    "print(n)\n",
    "models_se[n].fit_model(image_sets_se[n],label_sets_se[n],x_val,y_val,epochs=10,batch_size = 64)\n",
    "n = n+1"
   ]
  },
  {
   "cell_type": "code",
   "execution_count": 64,
   "id": "2b3c34ed",
   "metadata": {},
   "outputs": [
    {
     "name": "stdout",
     "output_type": "stream",
     "text": [
      "3\n",
      "Epoch 1/10\n",
      "110/110 [==============================] - 68s 577ms/step - loss: 3.5633 - accuracy: 0.0895 - val_loss: 3.7173 - val_accuracy: 0.0727\n",
      "Epoch 2/10\n",
      "110/110 [==============================] - 64s 581ms/step - loss: 3.4040 - accuracy: 0.1227 - val_loss: 3.6899 - val_accuracy: 0.0755\n",
      "Epoch 3/10\n",
      "110/110 [==============================] - 60s 544ms/step - loss: 3.3150 - accuracy: 0.1507 - val_loss: 3.4888 - val_accuracy: 0.0873\n",
      "Epoch 4/10\n",
      "110/110 [==============================] - 60s 543ms/step - loss: 3.1198 - accuracy: 0.1684 - val_loss: 3.1550 - val_accuracy: 0.1460\n",
      "Epoch 5/10\n",
      "110/110 [==============================] - 60s 549ms/step - loss: 2.6383 - accuracy: 0.2607 - val_loss: 2.7204 - val_accuracy: 0.2840\n",
      "Epoch 6/10\n",
      "110/110 [==============================] - 60s 549ms/step - loss: 2.1014 - accuracy: 0.3902 - val_loss: 1.5654 - val_accuracy: 0.5588\n",
      "Epoch 7/10\n",
      "110/110 [==============================] - 60s 550ms/step - loss: 1.5444 - accuracy: 0.5422 - val_loss: 1.2454 - val_accuracy: 0.6542\n",
      "Epoch 8/10\n",
      "110/110 [==============================] - 61s 551ms/step - loss: 1.1192 - accuracy: 0.6628 - val_loss: 0.7943 - val_accuracy: 0.7757\n",
      "Epoch 9/10\n",
      "110/110 [==============================] - 60s 548ms/step - loss: 0.8520 - accuracy: 0.7393 - val_loss: 0.5195 - val_accuracy: 0.8329\n",
      "Epoch 10/10\n",
      "110/110 [==============================] - 60s 546ms/step - loss: 0.6495 - accuracy: 0.8022 - val_loss: 0.4304 - val_accuracy: 0.8734\n",
      "Duration: 0:10:13.391306\n"
     ]
    }
   ],
   "source": [
    "print(n)\n",
    "models_se[n].fit_model(image_sets_se[n],label_sets_se[n],x_val,y_val,epochs=10,batch_size = 64)\n",
    "n = n+1"
   ]
  },
  {
   "cell_type": "code",
   "execution_count": 65,
   "id": "ffa82743",
   "metadata": {},
   "outputs": [
    {
     "name": "stdout",
     "output_type": "stream",
     "text": [
      "4\n",
      "Epoch 1/10\n",
      "137/137 [==============================] - 78s 537ms/step - loss: 3.9204 - accuracy: 0.0903 - val_loss: 3.6328 - val_accuracy: 0.0809\n",
      "Epoch 2/10\n",
      "137/137 [==============================] - 73s 531ms/step - loss: 3.3482 - accuracy: 0.1452 - val_loss: 3.3668 - val_accuracy: 0.1153\n",
      "Epoch 3/10\n",
      "137/137 [==============================] - 73s 533ms/step - loss: 2.9644 - accuracy: 0.2005 - val_loss: 2.6968 - val_accuracy: 0.2220\n",
      "Epoch 4/10\n",
      "137/137 [==============================] - 73s 533ms/step - loss: 2.2180 - accuracy: 0.3313 - val_loss: 1.5039 - val_accuracy: 0.5708\n",
      "Epoch 5/10\n",
      "137/137 [==============================] - 74s 538ms/step - loss: 1.5294 - accuracy: 0.5444 - val_loss: 0.8435 - val_accuracy: 0.7400\n",
      "Epoch 6/10\n",
      "137/137 [==============================] - 74s 538ms/step - loss: 0.9878 - accuracy: 0.6969 - val_loss: 0.5213 - val_accuracy: 0.8408\n",
      "Epoch 7/10\n",
      "137/137 [==============================] - 73s 534ms/step - loss: 0.7161 - accuracy: 0.7790 - val_loss: 0.2751 - val_accuracy: 0.9007\n",
      "Epoch 8/10\n",
      "137/137 [==============================] - 73s 536ms/step - loss: 0.5087 - accuracy: 0.8431 - val_loss: 0.1966 - val_accuracy: 0.9400\n",
      "Epoch 9/10\n",
      "137/137 [==============================] - 73s 534ms/step - loss: 0.4007 - accuracy: 0.8784 - val_loss: 0.1352 - val_accuracy: 0.9556\n",
      "Epoch 10/10\n",
      "137/137 [==============================] - 76s 553ms/step - loss: 0.3016 - accuracy: 0.9077 - val_loss: 0.1135 - val_accuracy: 0.9686\n",
      "Duration: 0:12:19.911610\n"
     ]
    }
   ],
   "source": [
    "print(n)#4\n",
    "models_se[n].fit_model(image_sets_se[n],label_sets_se[n],x_val,y_val,epochs=10,batch_size = 64)\n",
    "n = n+1"
   ]
  },
  {
   "cell_type": "code",
   "execution_count": 66,
   "id": "a621fa8d",
   "metadata": {},
   "outputs": [
    {
     "name": "stdout",
     "output_type": "stream",
     "text": [
      "5\n",
      "Epoch 1/10\n",
      "165/165 [==============================] - 92s 526ms/step - loss: 3.5908 - accuracy: 0.0952 - val_loss: 3.8952 - val_accuracy: 0.0722\n",
      "Epoch 2/10\n",
      "165/165 [==============================] - 86s 522ms/step - loss: 3.3314 - accuracy: 0.1542 - val_loss: 3.3574 - val_accuracy: 0.1146\n",
      "Epoch 3/10\n",
      "165/165 [==============================] - 87s 525ms/step - loss: 2.7892 - accuracy: 0.2355 - val_loss: 2.2240 - val_accuracy: 0.4164\n",
      "Epoch 4/10\n",
      "165/165 [==============================] - 87s 526ms/step - loss: 1.7998 - accuracy: 0.4694 - val_loss: 1.0757 - val_accuracy: 0.6798\n",
      "Epoch 5/10\n",
      "165/165 [==============================] - 87s 527ms/step - loss: 1.0523 - accuracy: 0.6817 - val_loss: 0.7294 - val_accuracy: 0.7864\n",
      "Epoch 6/10\n",
      "165/165 [==============================] - 87s 525ms/step - loss: 0.6718 - accuracy: 0.7966 - val_loss: 0.2547 - val_accuracy: 0.9183\n",
      "Epoch 7/10\n",
      "165/165 [==============================] - 90s 543ms/step - loss: 0.4673 - accuracy: 0.8590 - val_loss: 0.1447 - val_accuracy: 0.9582\n",
      "Epoch 8/10\n",
      "165/165 [==============================] - 87s 529ms/step - loss: 0.3530 - accuracy: 0.8929 - val_loss: 0.1735 - val_accuracy: 0.9518\n",
      "Epoch 9/10\n",
      "165/165 [==============================] - 87s 526ms/step - loss: 0.2874 - accuracy: 0.9096 - val_loss: 0.0893 - val_accuracy: 0.9732\n",
      "Epoch 10/10\n",
      "165/165 [==============================] - 87s 527ms/step - loss: 0.2366 - accuracy: 0.9312 - val_loss: 0.0812 - val_accuracy: 0.9798\n",
      "Duration: 0:14:35.121970\n"
     ]
    }
   ],
   "source": [
    "print(n)\n",
    "models_se[n].fit_model(image_sets_se[n],label_sets_se[n],x_val,y_val,epochs=10,batch_size = 64)\n",
    "n = n+1"
   ]
  },
  {
   "cell_type": "code",
   "execution_count": 67,
   "id": "31580fe4",
   "metadata": {},
   "outputs": [
    {
     "name": "stdout",
     "output_type": "stream",
     "text": [
      "6\n",
      "Epoch 1/10\n",
      "192/192 [==============================] - 105s 522ms/step - loss: 3.5454 - accuracy: 0.0948 - val_loss: 3.5734 - val_accuracy: 0.0855\n",
      "Epoch 2/10\n",
      "192/192 [==============================] - 99s 518ms/step - loss: 3.2066 - accuracy: 0.1661 - val_loss: 2.5587 - val_accuracy: 0.2919\n",
      "Epoch 3/10\n",
      "192/192 [==============================] - 100s 521ms/step - loss: 2.1454 - accuracy: 0.3743 - val_loss: 1.3036 - val_accuracy: 0.6351\n",
      "Epoch 4/10\n",
      "192/192 [==============================] - 100s 521ms/step - loss: 1.1686 - accuracy: 0.6575 - val_loss: 0.5501 - val_accuracy: 0.8232\n",
      "Epoch 5/10\n",
      "192/192 [==============================] - 100s 520ms/step - loss: 0.6621 - accuracy: 0.7958 - val_loss: 0.3803 - val_accuracy: 0.9074\n",
      "Epoch 6/10\n",
      "192/192 [==============================] - 100s 523ms/step - loss: 0.4765 - accuracy: 0.8585 - val_loss: 0.1376 - val_accuracy: 0.9582\n",
      "Epoch 7/10\n",
      "192/192 [==============================] - 100s 521ms/step - loss: 0.3355 - accuracy: 0.8973 - val_loss: 0.1182 - val_accuracy: 0.9630\n",
      "Epoch 8/10\n",
      "192/192 [==============================] - 100s 521ms/step - loss: 0.2492 - accuracy: 0.9256 - val_loss: 0.0936 - val_accuracy: 0.9768\n",
      "Epoch 9/10\n",
      "192/192 [==============================] - 100s 521ms/step - loss: 0.2162 - accuracy: 0.9375 - val_loss: 0.0584 - val_accuracy: 0.9824\n",
      "Epoch 10/10\n",
      "192/192 [==============================] - 100s 520ms/step - loss: 0.1666 - accuracy: 0.9513 - val_loss: 0.0554 - val_accuracy: 0.9888\n",
      "Duration: 0:16:44.908019\n"
     ]
    }
   ],
   "source": [
    "print(n)\n",
    "models_se[n].fit_model(image_sets_se[n],label_sets_se[n],x_val,y_val,epochs=10,batch_size = 64)\n",
    "n = n+1"
   ]
  },
  {
   "cell_type": "code",
   "execution_count": 68,
   "id": "2b4b0cd8",
   "metadata": {},
   "outputs": [
    {
     "name": "stdout",
     "output_type": "stream",
     "text": [
      "7\n",
      "Epoch 1/10\n",
      "219/219 [==============================] - 118s 518ms/step - loss: 3.5765 - accuracy: 0.0904 - val_loss: 3.5624 - val_accuracy: 0.0845\n",
      "Epoch 2/10\n",
      "219/219 [==============================] - 113s 516ms/step - loss: 3.2653 - accuracy: 0.1484 - val_loss: 2.5220 - val_accuracy: 0.2860\n",
      "Epoch 3/10\n",
      "219/219 [==============================] - 114s 520ms/step - loss: 2.1729 - accuracy: 0.3608 - val_loss: 0.9658 - val_accuracy: 0.7022\n",
      "Epoch 4/10\n",
      "219/219 [==============================] - 114s 521ms/step - loss: 1.0744 - accuracy: 0.6745 - val_loss: 0.3815 - val_accuracy: 0.8857\n",
      "Epoch 5/10\n",
      "219/219 [==============================] - 115s 523ms/step - loss: 0.6343 - accuracy: 0.8080 - val_loss: 0.1827 - val_accuracy: 0.9485\n",
      "Epoch 6/10\n",
      "219/219 [==============================] - 114s 521ms/step - loss: 0.3894 - accuracy: 0.8848 - val_loss: 0.1047 - val_accuracy: 0.9681\n",
      "Epoch 7/10\n",
      "219/219 [==============================] - 115s 524ms/step - loss: 0.2631 - accuracy: 0.9177 - val_loss: 0.0903 - val_accuracy: 0.9816\n",
      "Epoch 8/10\n",
      "219/219 [==============================] - 114s 519ms/step - loss: 0.2296 - accuracy: 0.9282 - val_loss: 0.0502 - val_accuracy: 0.9857\n",
      "Epoch 9/10\n",
      "219/219 [==============================] - 114s 520ms/step - loss: 0.1776 - accuracy: 0.9435 - val_loss: 0.0407 - val_accuracy: 0.9895\n",
      "Epoch 10/10\n",
      "219/219 [==============================] - 113s 518ms/step - loss: 0.1672 - accuracy: 0.9517 - val_loss: 0.0450 - val_accuracy: 0.9893\n",
      "Duration: 0:19:03.500140\n"
     ]
    }
   ],
   "source": [
    "print(n)\n",
    "models_se[n].fit_model(image_sets_se[n],label_sets_se[n],x_val,y_val,epochs=10,batch_size = 64)\n",
    "n = n+1"
   ]
  },
  {
   "cell_type": "code",
   "execution_count": 69,
   "id": "a291bc67",
   "metadata": {},
   "outputs": [
    {
     "name": "stdout",
     "output_type": "stream",
     "text": [
      "8\n",
      "Epoch 1/10\n",
      "247/247 [==============================] - 131s 513ms/step - loss: 3.6197 - accuracy: 0.0945 - val_loss: 3.5166 - val_accuracy: 0.1028\n",
      "Epoch 2/10\n",
      "247/247 [==============================] - 127s 515ms/step - loss: 2.7837 - accuracy: 0.2306 - val_loss: 1.7728 - val_accuracy: 0.5461\n",
      "Epoch 3/10\n",
      "247/247 [==============================] - 127s 516ms/step - loss: 1.2483 - accuracy: 0.6250 - val_loss: 0.2766 - val_accuracy: 0.9181\n",
      "Epoch 4/10\n",
      "247/247 [==============================] - 127s 515ms/step - loss: 0.5705 - accuracy: 0.8222 - val_loss: 0.1974 - val_accuracy: 0.9479\n",
      "Epoch 5/10\n",
      "247/247 [==============================] - 130s 528ms/step - loss: 0.3639 - accuracy: 0.8902 - val_loss: 0.0947 - val_accuracy: 0.9796\n",
      "Epoch 6/10\n",
      "247/247 [==============================] - 128s 517ms/step - loss: 0.2413 - accuracy: 0.9283 - val_loss: 0.0497 - val_accuracy: 0.9844\n",
      "Epoch 7/10\n",
      "247/247 [==============================] - 127s 515ms/step - loss: 0.2137 - accuracy: 0.9401 - val_loss: 0.0285 - val_accuracy: 0.9911\n",
      "Epoch 8/10\n",
      "247/247 [==============================] - 127s 514ms/step - loss: 0.1543 - accuracy: 0.9506 - val_loss: 0.0701 - val_accuracy: 0.9816\n",
      "Epoch 9/10\n",
      "247/247 [==============================] - 127s 516ms/step - loss: 0.1428 - accuracy: 0.9587 - val_loss: 0.0395 - val_accuracy: 0.9918\n",
      "Epoch 10/10\n",
      "247/247 [==============================] - 127s 513ms/step - loss: 0.1335 - accuracy: 0.9624 - val_loss: 0.0234 - val_accuracy: 0.9952\n",
      "Duration: 0:21:19.287591\n"
     ]
    }
   ],
   "source": [
    "print(n)\n",
    "models_se[n].fit_model(image_sets_se[n],label_sets_se[n],x_val,y_val,epochs=10,batch_size = 64)\n",
    "n = n+1"
   ]
  },
  {
   "cell_type": "code",
   "execution_count": 70,
   "id": "66f94d63",
   "metadata": {},
   "outputs": [
    {
     "name": "stdout",
     "output_type": "stream",
     "text": [
      "9\n",
      "Epoch 1/10\n",
      "274/274 [==============================] - 143s 508ms/step - loss: 3.6063 - accuracy: 0.0969 - val_loss: 3.1809 - val_accuracy: 0.1324\n",
      "Epoch 2/10\n",
      "274/274 [==============================] - 140s 512ms/step - loss: 2.6718 - accuracy: 0.2525 - val_loss: 1.1300 - val_accuracy: 0.7553\n",
      "Epoch 3/10\n",
      "274/274 [==============================] - 140s 511ms/step - loss: 1.0731 - accuracy: 0.6707 - val_loss: 0.2214 - val_accuracy: 0.9416\n",
      "Epoch 4/10\n",
      "274/274 [==============================] - 141s 516ms/step - loss: 0.5004 - accuracy: 0.8431 - val_loss: 0.1799 - val_accuracy: 0.9566\n",
      "Epoch 5/10\n",
      "274/274 [==============================] - 140s 511ms/step - loss: 0.3004 - accuracy: 0.9119 - val_loss: 0.0495 - val_accuracy: 0.9880\n",
      "Epoch 6/10\n",
      "274/274 [==============================] - 140s 511ms/step - loss: 0.2004 - accuracy: 0.9391 - val_loss: 0.0442 - val_accuracy: 0.9885\n",
      "Epoch 7/10\n",
      "274/274 [==============================] - 140s 509ms/step - loss: 0.1654 - accuracy: 0.9525 - val_loss: 0.0282 - val_accuracy: 0.9939\n",
      "Epoch 8/10\n",
      "274/274 [==============================] - 140s 510ms/step - loss: 0.1294 - accuracy: 0.9606 - val_loss: 0.0295 - val_accuracy: 0.9936\n",
      "Epoch 9/10\n",
      "274/274 [==============================] - 140s 511ms/step - loss: 0.1178 - accuracy: 0.9643 - val_loss: 0.0315 - val_accuracy: 0.9918\n",
      "Epoch 10/10\n",
      "274/274 [==============================] - 140s 510ms/step - loss: 0.1068 - accuracy: 0.9694 - val_loss: 0.0334 - val_accuracy: 0.9957\n",
      "Duration: 0:23:24.362354\n"
     ]
    }
   ],
   "source": [
    "print(n)#9\n",
    "models_se[n].fit_model(image_sets_se[n],label_sets_se[n],x_val,y_val,epochs=10,batch_size = 64)\n",
    "n = n+1"
   ]
  },
  {
   "cell_type": "code",
   "execution_count": 73,
   "id": "5b4c5df0",
   "metadata": {},
   "outputs": [
    {
     "name": "stdout",
     "output_type": "stream",
     "text": [
      "10\n",
      "Epoch 1/10\n",
      "301/301 [==============================] - 138s 443ms/step - loss: 3.5451 - accuracy: 0.0925 - val_loss: 2.9733 - val_accuracy: 0.1891\n",
      "Epoch 2/10\n",
      "301/301 [==============================] - 135s 449ms/step - loss: 2.3918 - accuracy: 0.3197 - val_loss: 0.4968 - val_accuracy: 0.8446\n",
      "Epoch 3/10\n",
      "301/301 [==============================] - 137s 454ms/step - loss: 0.8427 - accuracy: 0.7459 - val_loss: 0.1234 - val_accuracy: 0.9658\n",
      "Epoch 4/10\n",
      "301/301 [==============================] - 140s 465ms/step - loss: 0.4350 - accuracy: 0.8676 - val_loss: 0.0758 - val_accuracy: 0.9798\n",
      "Epoch 5/10\n",
      "301/301 [==============================] - 145s 482ms/step - loss: 0.2731 - accuracy: 0.9156 - val_loss: 0.0502 - val_accuracy: 0.9875\n",
      "Epoch 6/10\n",
      "301/301 [==============================] - 152s 505ms/step - loss: 0.1956 - accuracy: 0.9404 - val_loss: 0.0383 - val_accuracy: 0.9888\n",
      "Epoch 7/10\n",
      "301/301 [==============================] - 158s 524ms/step - loss: 0.1652 - accuracy: 0.9501 - val_loss: 0.0428 - val_accuracy: 0.9890\n",
      "Epoch 8/10\n",
      "301/301 [==============================] - 155s 516ms/step - loss: 0.1377 - accuracy: 0.9597 - val_loss: 0.0575 - val_accuracy: 0.9857\n",
      "Epoch 9/10\n",
      "301/301 [==============================] - 155s 515ms/step - loss: 0.1350 - accuracy: 0.9624 - val_loss: 0.0386 - val_accuracy: 0.9916\n",
      "Epoch 10/10\n",
      "301/301 [==============================] - 155s 515ms/step - loss: 0.1119 - accuracy: 0.9690 - val_loss: 0.0237 - val_accuracy: 0.9946\n",
      "Duration: 0:24:29.533811\n"
     ]
    }
   ],
   "source": [
    "n=10\n",
    "print(n)\n",
    "models_se[n].fit_model(image_sets_se[n],label_sets_se[n],x_val,y_val,epochs=10,batch_size = 64)\n",
    "n = n+1"
   ]
  },
  {
   "cell_type": "code",
   "execution_count": 74,
   "id": "6d8475d2",
   "metadata": {},
   "outputs": [
    {
     "name": "stdout",
     "output_type": "stream",
     "text": [
      "11\n",
      "Epoch 1/10\n",
      "329/329 [==============================] - 175s 519ms/step - loss: 3.5451 - accuracy: 0.0877 - val_loss: 3.0954 - val_accuracy: 0.1615\n",
      "Epoch 2/10\n",
      "329/329 [==============================] - 168s 511ms/step - loss: 2.2026 - accuracy: 0.3647 - val_loss: 0.4381 - val_accuracy: 0.8398\n",
      "Epoch 3/10\n",
      "329/329 [==============================] - 170s 517ms/step - loss: 0.6953 - accuracy: 0.7835 - val_loss: 0.1525 - val_accuracy: 0.9569\n",
      "Epoch 4/10\n",
      "329/329 [==============================] - 170s 517ms/step - loss: 0.3372 - accuracy: 0.8990 - val_loss: 0.0737 - val_accuracy: 0.9796\n",
      "Epoch 5/10\n",
      "329/329 [==============================] - 170s 517ms/step - loss: 0.2189 - accuracy: 0.9322 - val_loss: 0.0371 - val_accuracy: 0.9895\n",
      "Epoch 6/10\n",
      "329/329 [==============================] - 170s 517ms/step - loss: 0.1603 - accuracy: 0.9517 - val_loss: 0.0353 - val_accuracy: 0.9898\n",
      "Epoch 7/10\n",
      "329/329 [==============================] - 168s 512ms/step - loss: 0.1361 - accuracy: 0.9579 - val_loss: 0.0227 - val_accuracy: 0.9946\n",
      "Epoch 8/10\n",
      "329/329 [==============================] - 169s 513ms/step - loss: 0.1235 - accuracy: 0.9645 - val_loss: 0.0204 - val_accuracy: 0.9946\n",
      "Epoch 9/10\n",
      "329/329 [==============================] - 171s 519ms/step - loss: 0.1066 - accuracy: 0.9713 - val_loss: 0.0217 - val_accuracy: 0.9949\n",
      "Epoch 10/10\n",
      "329/329 [==============================] - 169s 515ms/step - loss: 0.1028 - accuracy: 0.9701 - val_loss: 0.0297 - val_accuracy: 0.9944\n",
      "Duration: 0:28:20.987975\n"
     ]
    }
   ],
   "source": [
    "n=11\n",
    "print(n)\n",
    "models_se[n].fit_model(image_sets_se[n],label_sets_se[n],x_val,y_val,epochs=10,batch_size = 64)\n",
    "n = n+1"
   ]
  },
  {
   "cell_type": "code",
   "execution_count": 75,
   "id": "f6b129a9",
   "metadata": {},
   "outputs": [
    {
     "name": "stdout",
     "output_type": "stream",
     "text": [
      "12\n",
      "Epoch 1/10\n",
      "356/356 [==============================] - 189s 518ms/step - loss: 3.5494 - accuracy: 0.0844 - val_loss: 2.3368 - val_accuracy: 0.3516\n",
      "Epoch 2/10\n",
      "356/356 [==============================] - 223s 626ms/step - loss: 1.8974 - accuracy: 0.4381 - val_loss: 0.2946 - val_accuracy: 0.9020\n",
      "Epoch 3/10\n",
      "356/356 [==============================] - 246s 690ms/step - loss: 0.5509 - accuracy: 0.8294 - val_loss: 0.1272 - val_accuracy: 0.9630\n",
      "Epoch 4/10\n",
      "356/356 [==============================] - 245s 689ms/step - loss: 0.2770 - accuracy: 0.9161 - val_loss: 0.0371 - val_accuracy: 0.9890\n",
      "Epoch 5/10\n",
      "356/356 [==============================] - 245s 688ms/step - loss: 0.1814 - accuracy: 0.9473 - val_loss: 0.0455 - val_accuracy: 0.9883\n",
      "Epoch 6/10\n",
      "356/356 [==============================] - 245s 690ms/step - loss: 0.1424 - accuracy: 0.9566 - val_loss: 0.0204 - val_accuracy: 0.9964\n",
      "Epoch 7/10\n",
      "356/356 [==============================] - 245s 688ms/step - loss: 0.1203 - accuracy: 0.9661 - val_loss: 0.0691 - val_accuracy: 0.9860\n",
      "Epoch 8/10\n",
      "356/356 [==============================] - 245s 688ms/step - loss: 0.0975 - accuracy: 0.9718 - val_loss: 0.0297 - val_accuracy: 0.9934\n",
      "Epoch 9/10\n",
      "356/356 [==============================] - 243s 683ms/step - loss: 0.0931 - accuracy: 0.9735 - val_loss: 0.0319 - val_accuracy: 0.9911\n",
      "Epoch 10/10\n",
      "356/356 [==============================] - 245s 687ms/step - loss: 0.0893 - accuracy: 0.9764 - val_loss: 0.0359 - val_accuracy: 0.9916\n",
      "Duration: 0:39:30.292598\n"
     ]
    }
   ],
   "source": [
    "print(n)\n",
    "models_se[n].fit_model(image_sets_se[n],label_sets_se[n],x_val,y_val,epochs=10,batch_size = 64)\n",
    "n = n+1"
   ]
  },
  {
   "cell_type": "code",
   "execution_count": 129,
   "id": "812935ba",
   "metadata": {},
   "outputs": [
    {
     "name": "stdout",
     "output_type": "stream",
     "text": [
      "13\n",
      "Epoch 1/10\n",
      "383/383 [==============================] - 279s 705ms/step - loss: 3.4529 - accuracy: 0.0979 - val_loss: 1.1713 - val_accuracy: 0.6685\n",
      "Epoch 2/10\n",
      "383/383 [==============================] - 270s 705ms/step - loss: 1.2065 - accuracy: 0.6368 - val_loss: 0.2417 - val_accuracy: 0.9293\n",
      "Epoch 3/10\n",
      "383/383 [==============================] - 268s 700ms/step - loss: 0.4042 - accuracy: 0.8743 - val_loss: 0.0698 - val_accuracy: 0.9793\n",
      "Epoch 4/10\n",
      "383/383 [==============================] - 268s 700ms/step - loss: 0.2299 - accuracy: 0.9316 - val_loss: 0.0309 - val_accuracy: 0.9921\n",
      "Epoch 5/10\n",
      "383/383 [==============================] - 268s 699ms/step - loss: 0.1653 - accuracy: 0.9523 - val_loss: 0.0302 - val_accuracy: 0.9906\n",
      "Epoch 6/10\n",
      "383/383 [==============================] - 268s 701ms/step - loss: 0.1340 - accuracy: 0.9611 - val_loss: 0.0248 - val_accuracy: 0.9934\n",
      "Epoch 7/10\n",
      "383/383 [==============================] - 268s 701ms/step - loss: 0.1117 - accuracy: 0.9677 - val_loss: 0.0220 - val_accuracy: 0.9941\n",
      "Epoch 8/10\n",
      "383/383 [==============================] - 267s 697ms/step - loss: 0.1029 - accuracy: 0.9703 - val_loss: 0.0282 - val_accuracy: 0.9923\n",
      "Epoch 9/10\n",
      "383/383 [==============================] - 267s 698ms/step - loss: 0.0971 - accuracy: 0.9724 - val_loss: 0.0315 - val_accuracy: 0.9949\n",
      "Epoch 10/10\n",
      "383/383 [==============================] - 268s 700ms/step - loss: 0.0958 - accuracy: 0.9735 - val_loss: 0.0311 - val_accuracy: 0.9934\n",
      "Duration: 0:44:52.279144\n"
     ]
    }
   ],
   "source": [
    "n=13\n",
    "print(n)\n",
    "models_se[n].fit_model(image_sets_se[n],label_sets_se[n],x_val,y_val,epochs=10,batch_size = 64)\n",
    "n = n+1"
   ]
  },
  {
   "cell_type": "code",
   "execution_count": 130,
   "id": "4b030967",
   "metadata": {},
   "outputs": [
    {
     "name": "stdout",
     "output_type": "stream",
     "text": [
      "14\n",
      "Epoch 1/10\n",
      "411/411 [==============================] - 296s 697ms/step - loss: 3.5548 - accuracy: 0.0829 - val_loss: 1.9908 - val_accuracy: 0.4231\n",
      "Epoch 2/10\n",
      "411/411 [==============================] - 284s 691ms/step - loss: 1.6197 - accuracy: 0.5107 - val_loss: 0.2076 - val_accuracy: 0.9367\n",
      "Epoch 3/10\n",
      "411/411 [==============================] - 284s 692ms/step - loss: 0.4971 - accuracy: 0.8458 - val_loss: 0.0717 - val_accuracy: 0.9816\n",
      "Epoch 4/10\n",
      "411/411 [==============================] - 283s 689ms/step - loss: 0.2524 - accuracy: 0.9245 - val_loss: 0.0832 - val_accuracy: 0.9750\n",
      "Epoch 5/10\n",
      "411/411 [==============================] - 284s 691ms/step - loss: 0.1852 - accuracy: 0.9461 - val_loss: 0.0326 - val_accuracy: 0.9908\n",
      "Epoch 6/10\n",
      "411/411 [==============================] - 285s 694ms/step - loss: 0.1359 - accuracy: 0.9593 - val_loss: 0.1931 - val_accuracy: 0.9579\n",
      "Epoch 7/10\n",
      "411/411 [==============================] - 284s 690ms/step - loss: 0.1335 - accuracy: 0.9617 - val_loss: 0.0509 - val_accuracy: 0.9883\n",
      "Epoch 8/10\n",
      "411/411 [==============================] - 284s 690ms/step - loss: 0.1128 - accuracy: 0.9673 - val_loss: 0.0281 - val_accuracy: 0.9936\n",
      "Epoch 9/10\n",
      "411/411 [==============================] - 284s 691ms/step - loss: 0.1074 - accuracy: 0.9720 - val_loss: 0.1953 - val_accuracy: 0.9643\n",
      "Epoch 10/10\n",
      "411/411 [==============================] - 283s 689ms/step - loss: 0.1093 - accuracy: 0.9726 - val_loss: 0.0194 - val_accuracy: 0.9952\n",
      "Duration: 0:47:30.861088\n"
     ]
    }
   ],
   "source": [
    "print(n)#14\n",
    "models_se[n].fit_model(image_sets_se[n],label_sets_se[n],x_val,y_val,epochs=10,batch_size = 64)\n",
    "n = n+1"
   ]
  },
  {
   "cell_type": "code",
   "execution_count": 131,
   "id": "be10cf76",
   "metadata": {},
   "outputs": [
    {
     "name": "stdout",
     "output_type": "stream",
     "text": [
      "15\n",
      "Epoch 1/10\n",
      "438/438 [==============================] - 316s 700ms/step - loss: 3.4783 - accuracy: 0.0958 - val_loss: 1.6685 - val_accuracy: 0.6004\n",
      "Epoch 2/10\n",
      "438/438 [==============================] - 307s 701ms/step - loss: 1.1040 - accuracy: 0.6647 - val_loss: 0.1494 - val_accuracy: 0.9584\n",
      "Epoch 3/10\n",
      "438/438 [==============================] - 306s 699ms/step - loss: 0.3345 - accuracy: 0.9015 - val_loss: 0.2035 - val_accuracy: 0.9385\n",
      "Epoch 4/10\n",
      "438/438 [==============================] - 306s 699ms/step - loss: 0.2103 - accuracy: 0.9386 - val_loss: 0.0394 - val_accuracy: 0.9893\n",
      "Epoch 5/10\n",
      "438/438 [==============================] - 307s 701ms/step - loss: 0.1412 - accuracy: 0.9595 - val_loss: 0.0370 - val_accuracy: 0.9923\n",
      "Epoch 6/10\n",
      "438/438 [==============================] - 308s 702ms/step - loss: 0.1108 - accuracy: 0.9676 - val_loss: 0.0377 - val_accuracy: 0.9934\n",
      "Epoch 7/10\n",
      "438/438 [==============================] - 265s 606ms/step - loss: 0.0961 - accuracy: 0.9718 - val_loss: 0.0436 - val_accuracy: 0.9931\n",
      "Epoch 8/10\n",
      "438/438 [==============================] - 227s 519ms/step - loss: 0.0942 - accuracy: 0.9745 - val_loss: 0.0221 - val_accuracy: 0.9967\n",
      "Epoch 9/10\n",
      "438/438 [==============================] - 227s 519ms/step - loss: 0.0881 - accuracy: 0.9782 - val_loss: 0.0597 - val_accuracy: 0.9908\n",
      "Epoch 10/10\n",
      "438/438 [==============================] - 229s 523ms/step - loss: 0.0971 - accuracy: 0.9761 - val_loss: 0.0354 - val_accuracy: 0.9957\n",
      "Duration: 0:46:39.298155\n"
     ]
    }
   ],
   "source": [
    "print(n)\n",
    "models_se[n].fit_model(image_sets_se[n],label_sets_se[n],x_val,y_val,epochs=10,batch_size = 64)\n",
    "n = n+1"
   ]
  },
  {
   "cell_type": "code",
   "execution_count": 132,
   "id": "250c6dbb",
   "metadata": {},
   "outputs": [
    {
     "name": "stdout",
     "output_type": "stream",
     "text": [
      "16\n",
      "Epoch 1/10\n",
      "465/465 [==============================] - 245s 519ms/step - loss: 3.4504 - accuracy: 0.0970 - val_loss: 0.8577 - val_accuracy: 0.7441\n",
      "Epoch 2/10\n",
      "465/465 [==============================] - 298s 641ms/step - loss: 0.9815 - accuracy: 0.6979 - val_loss: 0.1017 - val_accuracy: 0.9709\n",
      "Epoch 3/10\n",
      "465/465 [==============================] - 331s 712ms/step - loss: 0.2984 - accuracy: 0.9137 - val_loss: 0.0796 - val_accuracy: 0.9791\n",
      "Epoch 4/10\n",
      "465/465 [==============================] - 314s 675ms/step - loss: 0.1761 - accuracy: 0.9491 - val_loss: 0.0272 - val_accuracy: 0.9923\n",
      "Epoch 5/10\n",
      "465/465 [==============================] - 313s 673ms/step - loss: 0.1218 - accuracy: 0.9646 - val_loss: 0.0218 - val_accuracy: 0.9949\n",
      "Epoch 6/10\n",
      "465/465 [==============================] - 314s 675ms/step - loss: 0.1171 - accuracy: 0.9667 - val_loss: 0.0171 - val_accuracy: 0.9959\n",
      "Epoch 7/10\n",
      "465/465 [==============================] - 312s 672ms/step - loss: 0.1034 - accuracy: 0.9720 - val_loss: 0.0325 - val_accuracy: 0.9936\n",
      "Epoch 8/10\n",
      "465/465 [==============================] - 312s 671ms/step - loss: 0.0954 - accuracy: 0.9741 - val_loss: 0.0326 - val_accuracy: 0.9936\n",
      "Epoch 9/10\n",
      "465/465 [==============================] - 319s 685ms/step - loss: 0.0843 - accuracy: 0.9770 - val_loss: 0.0188 - val_accuracy: 0.9967\n",
      "Epoch 10/10\n",
      "465/465 [==============================] - 319s 686ms/step - loss: 0.0898 - accuracy: 0.9771 - val_loss: 0.0210 - val_accuracy: 0.9974\n",
      "Duration: 0:51:17.519541\n"
     ]
    }
   ],
   "source": [
    "print(n)\n",
    "models_se[n].fit_model(image_sets_se[n],label_sets_se[n],x_val,y_val,epochs=10,batch_size = 64)\n",
    "n = n+1"
   ]
  },
  {
   "cell_type": "code",
   "execution_count": 133,
   "id": "0fbb2ca1",
   "metadata": {},
   "outputs": [
    {
     "name": "stdout",
     "output_type": "stream",
     "text": [
      "17\n",
      "Epoch 1/10\n",
      "493/493 [==============================] - 338s 676ms/step - loss: 3.4221 - accuracy: 0.0995 - val_loss: 1.3497 - val_accuracy: 0.6890\n",
      "Epoch 2/10\n",
      "493/493 [==============================] - 224s 455ms/step - loss: 0.9357 - accuracy: 0.7173 - val_loss: 0.2527 - val_accuracy: 0.9342\n",
      "Epoch 3/10\n",
      "493/493 [==============================] - 231s 468ms/step - loss: 0.3068 - accuracy: 0.9127 - val_loss: 0.0360 - val_accuracy: 0.9916\n",
      "Epoch 4/10\n",
      "493/493 [==============================] - 244s 495ms/step - loss: 0.1797 - accuracy: 0.9476 - val_loss: 0.0427 - val_accuracy: 0.9903\n",
      "Epoch 5/10\n",
      "493/493 [==============================] - 260s 528ms/step - loss: 0.1395 - accuracy: 0.9611 - val_loss: 0.0317 - val_accuracy: 0.9926\n",
      "Epoch 6/10\n",
      "493/493 [==============================] - 258s 524ms/step - loss: 0.1249 - accuracy: 0.9656 - val_loss: 0.0227 - val_accuracy: 0.9936\n",
      "Epoch 7/10\n",
      "493/493 [==============================] - 257s 522ms/step - loss: 0.0997 - accuracy: 0.9729 - val_loss: 0.0341 - val_accuracy: 0.9936\n",
      "Epoch 8/10\n",
      "493/493 [==============================] - 257s 522ms/step - loss: 0.1000 - accuracy: 0.9724 - val_loss: 0.0278 - val_accuracy: 0.9949\n",
      "Epoch 9/10\n",
      "493/493 [==============================] - 257s 520ms/step - loss: 0.1082 - accuracy: 0.9710 - val_loss: 0.0343 - val_accuracy: 0.9929\n",
      "Epoch 10/10\n",
      "493/493 [==============================] - 259s 525ms/step - loss: 0.1015 - accuracy: 0.9726 - val_loss: 0.0254 - val_accuracy: 0.9952\n",
      "Duration: 0:43:05.569824\n"
     ]
    }
   ],
   "source": [
    "print(n)\n",
    "models_se[n].fit_model(image_sets_se[n],label_sets_se[n],x_val,y_val,epochs=10,batch_size = 64)\n",
    "n = n+1"
   ]
  },
  {
   "cell_type": "code",
   "execution_count": 134,
   "id": "3dfdc65c",
   "metadata": {},
   "outputs": [
    {
     "name": "stdout",
     "output_type": "stream",
     "text": [
      "18\n",
      "Epoch 1/10\n",
      "520/520 [==============================] - 274s 519ms/step - loss: 3.4378 - accuracy: 0.0868 - val_loss: 1.1251 - val_accuracy: 0.7344\n",
      "Epoch 2/10\n",
      "520/520 [==============================] - 273s 525ms/step - loss: 0.9836 - accuracy: 0.6984 - val_loss: 0.1824 - val_accuracy: 0.9497\n",
      "Epoch 3/10\n",
      "520/520 [==============================] - 277s 533ms/step - loss: 0.2867 - accuracy: 0.9143 - val_loss: 0.0805 - val_accuracy: 0.9781\n",
      "Epoch 4/10\n",
      "520/520 [==============================] - 270s 519ms/step - loss: 0.1753 - accuracy: 0.9507 - val_loss: 0.0377 - val_accuracy: 0.9934\n",
      "Epoch 5/10\n",
      "520/520 [==============================] - 269s 518ms/step - loss: 0.1217 - accuracy: 0.9656 - val_loss: 0.0310 - val_accuracy: 0.9921\n",
      "Epoch 6/10\n",
      "520/520 [==============================] - 274s 527ms/step - loss: 0.1118 - accuracy: 0.9690 - val_loss: 0.0259 - val_accuracy: 0.9939\n",
      "Epoch 7/10\n",
      "520/520 [==============================] - 260s 500ms/step - loss: 0.0927 - accuracy: 0.9748 - val_loss: 0.0258 - val_accuracy: 0.9939\n",
      "Epoch 8/10\n",
      "520/520 [==============================] - 256s 493ms/step - loss: 0.0954 - accuracy: 0.9755 - val_loss: 0.0372 - val_accuracy: 0.9941\n",
      "Epoch 9/10\n",
      "520/520 [==============================] - 263s 506ms/step - loss: 0.0970 - accuracy: 0.9752 - val_loss: 0.0237 - val_accuracy: 0.9954\n",
      "Epoch 10/10\n",
      "520/520 [==============================] - 268s 516ms/step - loss: 0.0930 - accuracy: 0.9752 - val_loss: 0.0413 - val_accuracy: 0.9941\n",
      "Duration: 0:44:45.599459\n"
     ]
    }
   ],
   "source": [
    "print(n)\n",
    "models_se[n].fit_model(image_sets_se[n],label_sets_se[n],x_val,y_val,epochs=10,batch_size = 64)\n",
    "n = n+1"
   ]
  },
  {
   "cell_type": "code",
   "execution_count": 135,
   "id": "3f1a28bf",
   "metadata": {},
   "outputs": [
    {
     "name": "stdout",
     "output_type": "stream",
     "text": [
      "19\n",
      "Epoch 1/10\n",
      "547/547 [==============================] - 288s 519ms/step - loss: 3.2261 - accuracy: 0.1425 - val_loss: 0.4447 - val_accuracy: 0.8655\n",
      "Epoch 2/10\n",
      "547/547 [==============================] - 285s 520ms/step - loss: 0.6118 - accuracy: 0.8186 - val_loss: 0.0685 - val_accuracy: 0.9819\n",
      "Epoch 3/10\n",
      "547/547 [==============================] - 283s 517ms/step - loss: 0.2202 - accuracy: 0.9362 - val_loss: 0.0345 - val_accuracy: 0.9913\n",
      "Epoch 4/10\n",
      "547/547 [==============================] - 284s 520ms/step - loss: 0.1390 - accuracy: 0.9598 - val_loss: 0.0370 - val_accuracy: 0.9923\n",
      "Epoch 5/10\n",
      "547/547 [==============================] - 283s 517ms/step - loss: 0.1089 - accuracy: 0.9683 - val_loss: 0.0348 - val_accuracy: 0.9921\n",
      "Epoch 6/10\n",
      "547/547 [==============================] - 283s 517ms/step - loss: 0.0946 - accuracy: 0.9747 - val_loss: 0.0309 - val_accuracy: 0.9926\n",
      "Epoch 7/10\n",
      "547/547 [==============================] - 286s 523ms/step - loss: 0.0890 - accuracy: 0.9751 - val_loss: 0.0285 - val_accuracy: 0.9934\n",
      "Epoch 8/10\n",
      "547/547 [==============================] - 284s 518ms/step - loss: 0.0819 - accuracy: 0.9793 - val_loss: 0.0304 - val_accuracy: 0.9941\n",
      "Epoch 9/10\n",
      "547/547 [==============================] - 283s 517ms/step - loss: 0.0852 - accuracy: 0.9772 - val_loss: 0.0233 - val_accuracy: 0.9959\n",
      "Epoch 10/10\n",
      "547/547 [==============================] - 296s 542ms/step - loss: 0.0863 - accuracy: 0.9766 - val_loss: 0.0333 - val_accuracy: 0.9957\n",
      "Duration: 0:47:34.727859\n"
     ]
    }
   ],
   "source": [
    "print(n)#19\n",
    "models_se[n].fit_model(image_sets_se[n],label_sets_se[n],x_val,y_val,epochs=10,batch_size = 64)\n",
    "n = n+1"
   ]
  },
  {
   "cell_type": "code",
   "execution_count": 136,
   "id": "b0758c50",
   "metadata": {},
   "outputs": [
    {
     "name": "stdout",
     "output_type": "stream",
     "text": [
      "20\n",
      "Epoch 1/10\n",
      "552/552 [==============================] - 307s 547ms/step - loss: 3.3352 - accuracy: 0.1139 - val_loss: 0.5678 - val_accuracy: 0.8285\n",
      "Epoch 2/10\n",
      "552/552 [==============================] - 296s 536ms/step - loss: 0.6639 - accuracy: 0.8046 - val_loss: 0.1038 - val_accuracy: 0.9750\n",
      "Epoch 3/10\n",
      "552/552 [==============================] - 288s 522ms/step - loss: 0.2211 - accuracy: 0.9359 - val_loss: 0.0361 - val_accuracy: 0.9906\n",
      "Epoch 4/10\n",
      "552/552 [==============================] - 286s 519ms/step - loss: 0.1519 - accuracy: 0.9560 - val_loss: 0.0377 - val_accuracy: 0.9893\n",
      "Epoch 5/10\n",
      "552/552 [==============================] - 289s 523ms/step - loss: 0.1114 - accuracy: 0.9689 - val_loss: 0.0244 - val_accuracy: 0.9944\n",
      "Epoch 6/10\n",
      "552/552 [==============================] - 286s 519ms/step - loss: 0.1019 - accuracy: 0.9731 - val_loss: 0.0254 - val_accuracy: 0.9952\n",
      "Epoch 7/10\n",
      "552/552 [==============================] - 286s 518ms/step - loss: 0.0940 - accuracy: 0.9747 - val_loss: 0.0341 - val_accuracy: 0.9939\n",
      "Epoch 8/10\n",
      "552/552 [==============================] - 288s 521ms/step - loss: 0.0904 - accuracy: 0.9768 - val_loss: 0.0275 - val_accuracy: 0.9944\n",
      "Epoch 9/10\n",
      "552/552 [==============================] - 344s 623ms/step - loss: 0.0836 - accuracy: 0.9786 - val_loss: 0.0239 - val_accuracy: 0.9972\n",
      "Epoch 10/10\n",
      "552/552 [==============================] - 384s 696ms/step - loss: 0.0907 - accuracy: 0.9774 - val_loss: 0.0342 - val_accuracy: 0.9952\n",
      "Duration: 0:50:53.686844\n"
     ]
    }
   ],
   "source": [
    "print(n)\n",
    "models_se[n].fit_model(image_sets_se[n],label_sets_se[n],x_val,y_val,epochs=10,batch_size = 64)\n",
    "n = n+1"
   ]
  },
  {
   "cell_type": "code",
   "execution_count": 72,
   "id": "d2081045",
   "metadata": {},
   "outputs": [
    {
     "data": {
      "text/plain": [
       "21"
      ]
     },
     "execution_count": 72,
     "metadata": {},
     "output_type": "execute_result"
    }
   ],
   "source": [
    "len(models_se)"
   ]
  },
  {
   "cell_type": "code",
   "execution_count": 137,
   "id": "7e298532",
   "metadata": {},
   "outputs": [
    {
     "name": "stdout",
     "output_type": "stream",
     "text": [
      "INFO:tensorflow:Assets written to: D:/models/aug_22/gtsrb/C1/gtsrb_model_c1_aug_se_e1_13\\assets\n",
      "Model has been saved\n",
      "INFO:tensorflow:Assets written to: D:/models/aug_22/gtsrb/C1/gtsrb_model_c1_aug_se_e1_14\\assets\n",
      "Model has been saved\n",
      "INFO:tensorflow:Assets written to: D:/models/aug_22/gtsrb/C1/gtsrb_model_c1_aug_se_e1_15\\assets\n",
      "Model has been saved\n",
      "INFO:tensorflow:Assets written to: D:/models/aug_22/gtsrb/C1/gtsrb_model_c1_aug_se_e1_16\\assets\n",
      "Model has been saved\n",
      "INFO:tensorflow:Assets written to: D:/models/aug_22/gtsrb/C1/gtsrb_model_c1_aug_se_e1_17\\assets\n",
      "Model has been saved\n",
      "INFO:tensorflow:Assets written to: D:/models/aug_22/gtsrb/C1/gtsrb_model_c1_aug_se_e1_18\\assets\n",
      "Model has been saved\n",
      "INFO:tensorflow:Assets written to: D:/models/aug_22/gtsrb/C1/gtsrb_model_c1_aug_se_e1_19\\assets\n",
      "Model has been saved\n",
      "INFO:tensorflow:Assets written to: D:/models/aug_22/gtsrb/C1/gtsrb_model_c1_aug_se_e1_20\\assets\n",
      "Model has been saved\n"
     ]
    }
   ],
   "source": [
    "new_model_se_dir  = \"D:/models/aug_22/gtsrb/C1/gtsrb_model_c1_aug_se_e1\"\n",
    "\n",
    "i=13\n",
    "\n",
    "for model in models_se[13:]:\n",
    "    model.save(new_model_se_dir+\"_\"+str(i))\n",
    "    i+=1"
   ]
  },
  {
   "cell_type": "code",
   "execution_count": 138,
   "id": "f189e7cf",
   "metadata": {},
   "outputs": [],
   "source": [
    "try:\n",
    "    del se_values\n",
    "    del top_images_by_se\n",
    "    del top_labels_by_se\n",
    "    del image_sets_se\n",
    "    del label_sets_se\n",
    "    del models_se\n",
    "except:\n",
    "    print(\"Error\")"
   ]
  },
  {
   "cell_type": "code",
   "execution_count": 139,
   "id": "d4d60437",
   "metadata": {},
   "outputs": [
    {
     "data": {
      "text/plain": [
       "73414"
      ]
     },
     "execution_count": 139,
     "metadata": {},
     "output_type": "execute_result"
    }
   ],
   "source": [
    "gc.collect()"
   ]
  },
  {
   "cell_type": "markdown",
   "id": "11198aa3",
   "metadata": {},
   "source": [
    "## Training guided by Random values"
   ]
  },
  {
   "cell_type": "code",
   "execution_count": null,
   "id": "3581436b",
   "metadata": {},
   "outputs": [],
   "source": [
    "import random\n",
    "random_indexes =list(range(len(x_train_and_adversary)))\n",
    "random.shuffle(random_indexes)\n",
    "print(random_indexes[:10])\n",
    "print(len(random_indexes))"
   ]
  },
  {
   "cell_type": "code",
   "execution_count": 15,
   "id": "0eca574c",
   "metadata": {},
   "outputs": [],
   "source": [
    "save_dir = \"C:/Users/fjdur/Documents/upc-july/data/\"+dataset+\"/random_values.npy\"\n",
    "\n",
    "\n",
    "random_indexes = np.load(save_dir)"
   ]
  },
  {
   "cell_type": "code",
   "execution_count": 16,
   "id": "94967b8d",
   "metadata": {},
   "outputs": [
    {
     "data": {
      "text/plain": [
       "35287"
      ]
     },
     "execution_count": 16,
     "metadata": {},
     "output_type": "execute_result"
    }
   ],
   "source": [
    "len(random_indexes)"
   ]
  },
  {
   "cell_type": "code",
   "execution_count": 17,
   "id": "d13ccb6c",
   "metadata": {},
   "outputs": [],
   "source": [
    "# Obtaining top n images by random values\n",
    "top_images_by_random = utils.get_x_of_indexes(list(np.flip(np.argsort(random_indexes))),x_train_and_adversary)\n",
    "top_labels_by_random = utils.get_x_of_indexes(list(np.flip(np.argsort(random_indexes))),y_train_and_adversary)"
   ]
  },
  {
   "cell_type": "code",
   "execution_count": 18,
   "id": "1209ac75",
   "metadata": {},
   "outputs": [
    {
     "name": "stdout",
     "output_type": "stream",
     "text": [
      "0 :\n",
      "0  ->  1750\n",
      "1750\n",
      "1 :\n",
      "0  ->  3500\n",
      "3500\n",
      "2 :\n",
      "0  ->  5250\n",
      "5250\n",
      "3 :\n",
      "0  ->  7000\n",
      "7000\n",
      "4 :\n",
      "0  ->  8750\n",
      "8750\n",
      "5 :\n",
      "0  ->  10500\n",
      "10500\n",
      "6 :\n",
      "0  ->  12250\n",
      "12250\n",
      "7 :\n",
      "0  ->  14000\n",
      "14000\n",
      "8 :\n",
      "0  ->  15750\n",
      "15750\n",
      "9 :\n",
      "0  ->  17500\n",
      "17500\n",
      "10 :\n",
      "0  ->  19250\n",
      "19250\n",
      "11 :\n",
      "0  ->  21000\n",
      "21000\n",
      "12 :\n",
      "0  ->  22750\n",
      "22750\n",
      "13 :\n",
      "0  ->  24500\n",
      "24500\n",
      "14 :\n",
      "0  ->  26250\n",
      "26250\n",
      "15 :\n",
      "0  ->  28000\n",
      "28000\n",
      "16 :\n",
      "0  ->  29750\n",
      "29750\n",
      "17 :\n",
      "0  ->  31500\n",
      "31500\n",
      "18 :\n",
      "0  ->  33250\n",
      "33250\n",
      "19 :\n",
      "0  ->  35000\n",
      "35000\n",
      "20 :\n",
      "Last\n",
      "0  ->  37037\n",
      "35287\n"
     ]
    }
   ],
   "source": [
    "m = n_data_points\n",
    "n = 0\n",
    "image_sets_random = []\n",
    "label_sets_random = []\n",
    "\n",
    "\n",
    "\n",
    "for i in range((len(top_images_by_random)//m)+1):\n",
    "    print(i,\":\")\n",
    "    if (i+1 >= ((len(top_images_by_random)//m)+1)):\n",
    "        print(\"Last\")\n",
    "        print(0,\" -> \",n+m+(len(top_images_by_random)%m))\n",
    "        top_images_by_random_n = np.array(top_images_by_random[:n+m+(len(top_images_by_random)%m)])\n",
    "        top_labels_by_random_n = np.array(top_labels_by_random[:n+m+(len(top_images_by_random)%m)])\n",
    "    else:\n",
    "        print(0,\" -> \",m+n)\n",
    "        top_images_by_random_n = np.array(top_images_by_random[:n+m])\n",
    "        top_labels_by_random_n = np.array(top_labels_by_random[:n+m])\n",
    "    image_sets_random.append(top_images_by_random_n)\n",
    "    label_sets_random.append(top_labels_by_random_n)\n",
    "    print(len(top_images_by_random_n))\n",
    "    n += m\n",
    "\n",
    "\n"
   ]
  },
  {
   "cell_type": "code",
   "execution_count": 21,
   "id": "3ed47a88",
   "metadata": {},
   "outputs": [
    {
     "data": {
      "text/plain": [
       "21"
      ]
     },
     "execution_count": 21,
     "metadata": {},
     "output_type": "execute_result"
    }
   ],
   "source": [
    "len(image_sets_random)"
   ]
  },
  {
   "cell_type": "code",
   "execution_count": null,
   "id": "89d604af",
   "metadata": {},
   "outputs": [],
   "source": []
  },
  {
   "cell_type": "code",
   "execution_count": 20,
   "id": "3f03e1cf",
   "metadata": {},
   "outputs": [
    {
     "name": "stdout",
     "output_type": "stream",
     "text": [
      "C:/Users/fjdur/Documents/upc-july/models/tf_model_25-06/\n",
      "0 :\n",
      "Model compiled\n",
      "1 :\n",
      "Model compiled\n",
      "2 :\n",
      "Model compiled\n",
      "3 :\n",
      "Model compiled\n",
      "4 :\n",
      "Model compiled\n",
      "5 :\n",
      "Model compiled\n",
      "6 :\n",
      "Model compiled\n",
      "7 :\n",
      "Model compiled\n",
      "8 :\n",
      "Model compiled\n",
      "9 :\n",
      "Model compiled\n",
      "10 :\n",
      "Model compiled\n",
      "11 :\n",
      "Model compiled\n",
      "12 :\n",
      "Model compiled\n",
      "13 :\n",
      "Model compiled\n",
      "14 :\n",
      "Model compiled\n",
      "15 :\n",
      "Model compiled\n",
      "16 :\n",
      "Model compiled\n",
      "17 :\n",
      "Model compiled\n",
      "18 :\n",
      "Model compiled\n",
      "19 :\n",
      "Model compiled\n",
      "20 :\n",
      "Model compiled\n"
     ]
    }
   ],
   "source": [
    "print(model_dir)\n",
    "\n",
    "models_random = []\n",
    "for i in range(len(label_sets_random)):\n",
    "    print(i,\":\")\n",
    "    model = utils.My_model(dataset,False,None)\n",
    "    model.compile_model()\n",
    "    models_random.append(model)\n"
   ]
  },
  {
   "cell_type": "code",
   "execution_count": 145,
   "id": "14912c8b",
   "metadata": {},
   "outputs": [
    {
     "name": "stdout",
     "output_type": "stream",
     "text": [
      "0\n",
      "Epoch 1/10\n",
      "28/28 [==============================] - 41s 1s/step - loss: 3.7066 - accuracy: 0.0474 - val_loss: 3.5053 - val_accuracy: 0.0646\n",
      "Epoch 2/10\n",
      "28/28 [==============================] - 29s 1s/step - loss: 3.5529 - accuracy: 0.0665 - val_loss: 3.5015 - val_accuracy: 0.0551\n",
      "Epoch 3/10\n",
      "28/28 [==============================] - 29s 1s/step - loss: 3.5464 - accuracy: 0.0594 - val_loss: 3.4888 - val_accuracy: 0.0635\n",
      "Epoch 4/10\n",
      "28/28 [==============================] - 29s 1s/step - loss: 3.5047 - accuracy: 0.0808 - val_loss: 3.4819 - val_accuracy: 0.0799\n",
      "Epoch 5/10\n",
      "28/28 [==============================] - 28s 1s/step - loss: 3.4605 - accuracy: 0.0888 - val_loss: 3.4365 - val_accuracy: 0.0926\n",
      "Epoch 6/10\n",
      "28/28 [==============================] - 29s 1s/step - loss: 3.4413 - accuracy: 0.0771 - val_loss: 3.3993 - val_accuracy: 0.0965\n",
      "Epoch 7/10\n",
      "28/28 [==============================] - 29s 1s/step - loss: 3.4420 - accuracy: 0.0761 - val_loss: 3.4080 - val_accuracy: 0.0901\n",
      "Epoch 8/10\n",
      "28/28 [==============================] - 29s 1s/step - loss: 3.3184 - accuracy: 0.1022 - val_loss: 3.2929 - val_accuracy: 0.1419\n",
      "Epoch 9/10\n",
      "28/28 [==============================] - 29s 1s/step - loss: 3.1905 - accuracy: 0.1274 - val_loss: 3.0260 - val_accuracy: 0.1804\n",
      "Epoch 10/10\n",
      "28/28 [==============================] - 29s 1s/step - loss: 3.0553 - accuracy: 0.1886 - val_loss: 2.4948 - val_accuracy: 0.3414\n",
      "Duration: 0:05:01.681891\n"
     ]
    }
   ],
   "source": [
    "n=0\n",
    "print(n)\n",
    "\n",
    "models_random[n].fit_model(image_sets_random[n],label_sets_random[n],x_val,y_val)\n",
    "n = n+1"
   ]
  },
  {
   "cell_type": "code",
   "execution_count": 146,
   "id": "f28e27b1",
   "metadata": {},
   "outputs": [
    {
     "name": "stdout",
     "output_type": "stream",
     "text": [
      "1\n",
      "Epoch 1/10\n",
      "55/55 [==============================] - 58s 886ms/step - loss: 3.6938 - accuracy: 0.0489 - val_loss: 3.5070 - val_accuracy: 0.0551\n",
      "Epoch 2/10\n",
      "55/55 [==============================] - 47s 857ms/step - loss: 3.5424 - accuracy: 0.0511 - val_loss: 3.5100 - val_accuracy: 0.0845\n",
      "Epoch 3/10\n",
      "55/55 [==============================] - 48s 868ms/step - loss: 3.4920 - accuracy: 0.0796 - val_loss: 3.4178 - val_accuracy: 0.0947\n",
      "Epoch 4/10\n",
      "55/55 [==============================] - 48s 867ms/step - loss: 3.4380 - accuracy: 0.0740 - val_loss: 3.3786 - val_accuracy: 0.0993\n",
      "Epoch 5/10\n",
      "55/55 [==============================] - 47s 858ms/step - loss: 3.3231 - accuracy: 0.1131 - val_loss: 3.1201 - val_accuracy: 0.1536\n",
      "Epoch 6/10\n",
      "55/55 [==============================] - 47s 852ms/step - loss: 2.9579 - accuracy: 0.2161 - val_loss: 2.2699 - val_accuracy: 0.3514\n",
      "Epoch 7/10\n",
      "55/55 [==============================] - 47s 857ms/step - loss: 2.3440 - accuracy: 0.3553 - val_loss: 1.7441 - val_accuracy: 0.4606\n",
      "Epoch 8/10\n",
      "55/55 [==============================] - 183s 3s/step - loss: 1.9902 - accuracy: 0.4219 - val_loss: 1.5675 - val_accuracy: 0.5239\n",
      "Epoch 9/10\n",
      "55/55 [==============================] - 83s 2s/step - loss: 1.6192 - accuracy: 0.5224 - val_loss: 0.9667 - val_accuracy: 0.7119\n",
      "Epoch 10/10\n",
      "55/55 [==============================] - 48s 881ms/step - loss: 1.2295 - accuracy: 0.6170 - val_loss: 0.7757 - val_accuracy: 0.7599\n",
      "Duration: 0:10:54.866467\n"
     ]
    }
   ],
   "source": [
    "print(n)\n",
    "\n",
    "models_random[n].fit_model(image_sets_random[n],label_sets_random[n],x_val,y_val)\n",
    "n = n+1"
   ]
  },
  {
   "cell_type": "code",
   "execution_count": 147,
   "id": "86be2715",
   "metadata": {},
   "outputs": [
    {
     "name": "stdout",
     "output_type": "stream",
     "text": [
      "2\n",
      "Epoch 1/10\n",
      "83/83 [==============================] - 65s 664ms/step - loss: 3.6517 - accuracy: 0.0483 - val_loss: 3.6066 - val_accuracy: 0.0498\n",
      "Epoch 2/10\n",
      "83/83 [==============================] - 41s 498ms/step - loss: 3.5164 - accuracy: 0.0789 - val_loss: 3.3947 - val_accuracy: 0.0817\n",
      "Epoch 3/10\n",
      "83/83 [==============================] - 43s 513ms/step - loss: 3.4279 - accuracy: 0.0926 - val_loss: 3.2195 - val_accuracy: 0.1227\n",
      "Epoch 4/10\n",
      "83/83 [==============================] - 45s 546ms/step - loss: 3.1278 - accuracy: 0.1580 - val_loss: 2.6620 - val_accuracy: 0.2534\n",
      "Epoch 5/10\n",
      "83/83 [==============================] - 52s 631ms/step - loss: 2.3981 - accuracy: 0.3391 - val_loss: 1.7847 - val_accuracy: 0.4649\n",
      "Epoch 6/10\n",
      "83/83 [==============================] - 43s 513ms/step - loss: 1.7826 - accuracy: 0.4747 - val_loss: 1.3127 - val_accuracy: 0.5690\n",
      "Epoch 7/10\n",
      "83/83 [==============================] - 42s 511ms/step - loss: 1.2849 - accuracy: 0.6021 - val_loss: 0.8516 - val_accuracy: 0.7275\n",
      "Epoch 8/10\n",
      "83/83 [==============================] - 44s 526ms/step - loss: 0.9463 - accuracy: 0.7185 - val_loss: 0.3110 - val_accuracy: 0.8987\n",
      "Epoch 9/10\n",
      "83/83 [==============================] - 44s 527ms/step - loss: 0.6605 - accuracy: 0.7976 - val_loss: 0.2386 - val_accuracy: 0.9347\n",
      "Epoch 10/10\n",
      "83/83 [==============================] - 44s 527ms/step - loss: 0.4428 - accuracy: 0.8607 - val_loss: 0.1932 - val_accuracy: 0.9413\n",
      "Duration: 0:07:41.894430\n"
     ]
    }
   ],
   "source": [
    "print(n)\n",
    "\n",
    "models_random[n].fit_model(image_sets_random[n],label_sets_random[n],x_val,y_val)\n",
    "n = n+1"
   ]
  },
  {
   "cell_type": "code",
   "execution_count": 22,
   "id": "ac9da2be",
   "metadata": {
    "scrolled": true
   },
   "outputs": [
    {
     "name": "stdout",
     "output_type": "stream",
     "text": [
      "3\n",
      "Epoch 1/10\n",
      "110/110 [==============================] - 95s 568ms/step - loss: 3.6506 - accuracy: 0.0481 - val_loss: 3.4113 - val_accuracy: 0.0944\n",
      "Epoch 2/10\n",
      "110/110 [==============================] - 58s 532ms/step - loss: 3.4575 - accuracy: 0.0777 - val_loss: 3.2246 - val_accuracy: 0.1312\n",
      "Epoch 3/10\n",
      "110/110 [==============================] - 59s 539ms/step - loss: 3.1040 - accuracy: 0.1733 - val_loss: 2.3455 - val_accuracy: 0.3465\n",
      "Epoch 4/10\n",
      "110/110 [==============================] - 61s 557ms/step - loss: 2.0770 - accuracy: 0.4267 - val_loss: 0.9986 - val_accuracy: 0.6920\n",
      "Epoch 5/10\n",
      "110/110 [==============================] - 59s 540ms/step - loss: 1.2563 - accuracy: 0.6222 - val_loss: 0.5617 - val_accuracy: 0.8102\n",
      "Epoch 6/10\n",
      "110/110 [==============================] - 59s 540ms/step - loss: 0.7882 - accuracy: 0.7741 - val_loss: 0.3505 - val_accuracy: 0.8941\n",
      "Epoch 7/10\n",
      "110/110 [==============================] - 64s 582ms/step - loss: 0.5657 - accuracy: 0.8347 - val_loss: 0.1891 - val_accuracy: 0.9459\n",
      "Epoch 8/10\n",
      "110/110 [==============================] - 61s 551ms/step - loss: 0.3873 - accuracy: 0.8808 - val_loss: 0.1207 - val_accuracy: 0.9684\n",
      "Epoch 9/10\n",
      "110/110 [==============================] - 61s 557ms/step - loss: 0.2744 - accuracy: 0.9169 - val_loss: 0.1222 - val_accuracy: 0.9678\n",
      "Epoch 10/10\n",
      "110/110 [==============================] - 60s 546ms/step - loss: 0.2482 - accuracy: 0.9258 - val_loss: 0.0867 - val_accuracy: 0.9763\n",
      "Duration: 0:10:39.072369\n"
     ]
    }
   ],
   "source": [
    "n=3\n",
    "print(n)\n",
    "models_random[n].fit_model(image_sets_random[n],label_sets_random[n],x_val,y_val)\n",
    "n = n+1"
   ]
  },
  {
   "cell_type": "code",
   "execution_count": 23,
   "id": "0c0f3809",
   "metadata": {},
   "outputs": [
    {
     "name": "stdout",
     "output_type": "stream",
     "text": [
      "4\n",
      "Epoch 1/10\n",
      "137/137 [==============================] - 77s 529ms/step - loss: 3.6223 - accuracy: 0.0449 - val_loss: 3.5088 - val_accuracy: 0.0817\n",
      "Epoch 2/10\n",
      "137/137 [==============================] - 72s 523ms/step - loss: 3.4874 - accuracy: 0.0703 - val_loss: 3.3476 - val_accuracy: 0.1041\n",
      "Epoch 3/10\n",
      "137/137 [==============================] - 75s 546ms/step - loss: 3.2072 - accuracy: 0.1420 - val_loss: 1.9064 - val_accuracy: 0.4565\n",
      "Epoch 4/10\n",
      "137/137 [==============================] - 74s 543ms/step - loss: 1.9896 - accuracy: 0.4458 - val_loss: 0.8516 - val_accuracy: 0.7535\n",
      "Epoch 5/10\n",
      "137/137 [==============================] - 72s 530ms/step - loss: 1.0896 - accuracy: 0.6681 - val_loss: 0.3790 - val_accuracy: 0.9069\n",
      "Epoch 6/10\n",
      "137/137 [==============================] - 72s 529ms/step - loss: 0.6543 - accuracy: 0.8035 - val_loss: 0.2691 - val_accuracy: 0.9252\n",
      "Epoch 7/10\n",
      "137/137 [==============================] - 73s 531ms/step - loss: 0.4233 - accuracy: 0.8665 - val_loss: 0.1640 - val_accuracy: 0.9589\n",
      "Epoch 8/10\n",
      "137/137 [==============================] - 72s 528ms/step - loss: 0.3140 - accuracy: 0.9066 - val_loss: 0.2142 - val_accuracy: 0.9331\n",
      "Epoch 9/10\n",
      "137/137 [==============================] - 72s 529ms/step - loss: 0.2298 - accuracy: 0.9288 - val_loss: 0.0865 - val_accuracy: 0.9775\n",
      "Epoch 10/10\n",
      "137/137 [==============================] - 73s 533ms/step - loss: 0.1818 - accuracy: 0.9436 - val_loss: 0.0577 - val_accuracy: 0.9809\n",
      "Duration: 0:12:12.780917\n"
     ]
    }
   ],
   "source": [
    "print(n)#4\n",
    "\n",
    "models_random[n].fit_model(image_sets_random[n],label_sets_random[n],x_val,y_val)\n",
    "n = n+1"
   ]
  },
  {
   "cell_type": "code",
   "execution_count": 24,
   "id": "cf722ccd",
   "metadata": {},
   "outputs": [
    {
     "name": "stdout",
     "output_type": "stream",
     "text": [
      "5\n",
      "Epoch 1/10\n",
      "165/165 [==============================] - 90s 517ms/step - loss: 3.6327 - accuracy: 0.0569 - val_loss: 3.4122 - val_accuracy: 0.0857\n",
      "Epoch 2/10\n",
      "165/165 [==============================] - 85s 517ms/step - loss: 3.3485 - accuracy: 0.1050 - val_loss: 2.1377 - val_accuracy: 0.3960\n",
      "Epoch 3/10\n",
      "165/165 [==============================] - 86s 519ms/step - loss: 2.1088 - accuracy: 0.4075 - val_loss: 1.0731 - val_accuracy: 0.7071\n",
      "Epoch 4/10\n",
      "165/165 [==============================] - 87s 528ms/step - loss: 1.0572 - accuracy: 0.6858 - val_loss: 0.4076 - val_accuracy: 0.8711\n",
      "Epoch 5/10\n",
      "165/165 [==============================] - 86s 519ms/step - loss: 0.5672 - accuracy: 0.8296 - val_loss: 0.5670 - val_accuracy: 0.9168\n",
      "Epoch 6/10\n",
      "165/165 [==============================] - 85s 518ms/step - loss: 0.3739 - accuracy: 0.8842 - val_loss: 0.1207 - val_accuracy: 0.9678\n",
      "Epoch 7/10\n",
      "165/165 [==============================] - 86s 520ms/step - loss: 0.2532 - accuracy: 0.9219 - val_loss: 0.0809 - val_accuracy: 0.9768\n",
      "Epoch 8/10\n",
      "165/165 [==============================] - 87s 526ms/step - loss: 0.1826 - accuracy: 0.9458 - val_loss: 0.1203 - val_accuracy: 0.9658\n",
      "Epoch 9/10\n",
      "165/165 [==============================] - 85s 518ms/step - loss: 0.1672 - accuracy: 0.9522 - val_loss: 0.1051 - val_accuracy: 0.9742\n",
      "Epoch 10/10\n",
      "165/165 [==============================] - 85s 518ms/step - loss: 0.1360 - accuracy: 0.9554 - val_loss: 0.0390 - val_accuracy: 0.9885\n",
      "Duration: 0:14:22.078098\n"
     ]
    }
   ],
   "source": [
    "print(n)\n",
    "\n",
    "models_random[n].fit_model(image_sets_random[n],label_sets_random[n],x_val,y_val)\n",
    "n = n+1"
   ]
  },
  {
   "cell_type": "code",
   "execution_count": 25,
   "id": "35301e47",
   "metadata": {},
   "outputs": [
    {
     "name": "stdout",
     "output_type": "stream",
     "text": [
      "6\n",
      "Epoch 1/10\n",
      "192/192 [==============================] - 103s 513ms/step - loss: 3.5964 - accuracy: 0.0515 - val_loss: 3.4921 - val_accuracy: 0.0704\n",
      "Epoch 2/10\n",
      "192/192 [==============================] - 98s 512ms/step - loss: 3.3390 - accuracy: 0.1099 - val_loss: 2.0027 - val_accuracy: 0.4330\n",
      "Epoch 3/10\n",
      "192/192 [==============================] - 99s 514ms/step - loss: 1.9914 - accuracy: 0.4391 - val_loss: 0.7448 - val_accuracy: 0.7887\n",
      "Epoch 4/10\n",
      "192/192 [==============================] - 100s 519ms/step - loss: 0.9494 - accuracy: 0.7148 - val_loss: 0.2985 - val_accuracy: 0.9196\n",
      "Epoch 5/10\n",
      "192/192 [==============================] - 101s 524ms/step - loss: 0.5122 - accuracy: 0.8504 - val_loss: 0.1994 - val_accuracy: 0.9441\n",
      "Epoch 6/10\n",
      "192/192 [==============================] - 99s 516ms/step - loss: 0.3044 - accuracy: 0.9075 - val_loss: 0.1149 - val_accuracy: 0.9717\n",
      "Epoch 7/10\n",
      "192/192 [==============================] - 99s 514ms/step - loss: 0.2212 - accuracy: 0.9354 - val_loss: 0.0857 - val_accuracy: 0.9809\n",
      "Epoch 8/10\n",
      "192/192 [==============================] - 99s 514ms/step - loss: 0.1718 - accuracy: 0.9472 - val_loss: 0.0597 - val_accuracy: 0.9860\n",
      "Epoch 9/10\n",
      "192/192 [==============================] - 99s 515ms/step - loss: 0.1420 - accuracy: 0.9572 - val_loss: 0.0531 - val_accuracy: 0.9903\n",
      "Epoch 10/10\n",
      "192/192 [==============================] - 99s 515ms/step - loss: 0.1283 - accuracy: 0.9617 - val_loss: 0.0543 - val_accuracy: 0.9885\n",
      "Duration: 0:16:34.612703\n"
     ]
    }
   ],
   "source": [
    "print(n)\n",
    "\n",
    "models_random[n].fit_model(image_sets_random[n],label_sets_random[n],x_val,y_val)\n",
    "n = n+1"
   ]
  },
  {
   "cell_type": "code",
   "execution_count": 26,
   "id": "31086dab",
   "metadata": {},
   "outputs": [
    {
     "name": "stdout",
     "output_type": "stream",
     "text": [
      "7\n",
      "Epoch 1/10\n",
      "219/219 [==============================] - 116s 512ms/step - loss: 3.5690 - accuracy: 0.0544 - val_loss: 3.2607 - val_accuracy: 0.1477\n",
      "Epoch 2/10\n",
      "219/219 [==============================] - 112s 511ms/step - loss: 2.8455 - accuracy: 0.2233 - val_loss: 0.9605 - val_accuracy: 0.7058\n",
      "Epoch 3/10\n",
      "219/219 [==============================] - 113s 515ms/step - loss: 1.0922 - accuracy: 0.6644 - val_loss: 0.2130 - val_accuracy: 0.9385\n",
      "Epoch 4/10\n",
      "219/219 [==============================] - 112s 511ms/step - loss: 0.4722 - accuracy: 0.8546 - val_loss: 0.1227 - val_accuracy: 0.9635\n",
      "Epoch 5/10\n",
      "219/219 [==============================] - 112s 511ms/step - loss: 0.2839 - accuracy: 0.9151 - val_loss: 0.0697 - val_accuracy: 0.9814\n",
      "Epoch 6/10\n",
      "219/219 [==============================] - 112s 511ms/step - loss: 0.1844 - accuracy: 0.9429 - val_loss: 0.0532 - val_accuracy: 0.9860\n",
      "Epoch 7/10\n",
      "219/219 [==============================] - 112s 511ms/step - loss: 0.1435 - accuracy: 0.9560 - val_loss: 0.0545 - val_accuracy: 0.9847\n",
      "Epoch 8/10\n",
      "219/219 [==============================] - 112s 513ms/step - loss: 0.1244 - accuracy: 0.9643 - val_loss: 0.0519 - val_accuracy: 0.9857\n",
      "Epoch 9/10\n",
      "219/219 [==============================] - 111s 509ms/step - loss: 0.1066 - accuracy: 0.9674 - val_loss: 0.0365 - val_accuracy: 0.9918\n",
      "Epoch 10/10\n",
      "219/219 [==============================] - 112s 510ms/step - loss: 0.0920 - accuracy: 0.9731 - val_loss: 0.0499 - val_accuracy: 0.9888\n",
      "Duration: 0:18:44.268180\n"
     ]
    }
   ],
   "source": [
    "n=7\n",
    "print(n)\n",
    "\n",
    "models_random[n].fit_model(image_sets_random[n],label_sets_random[n],x_val,y_val)\n",
    "n = n+1"
   ]
  },
  {
   "cell_type": "code",
   "execution_count": 27,
   "id": "693f95bc",
   "metadata": {},
   "outputs": [
    {
     "name": "stdout",
     "output_type": "stream",
     "text": [
      "8\n",
      "Epoch 1/10\n",
      "247/247 [==============================] - 131s 512ms/step - loss: 3.5714 - accuracy: 0.0531 - val_loss: 3.4035 - val_accuracy: 0.0860\n",
      "Epoch 2/10\n",
      "247/247 [==============================] - 124s 504ms/step - loss: 3.3084 - accuracy: 0.1105 - val_loss: 1.9097 - val_accuracy: 0.4486\n",
      "Epoch 3/10\n",
      "247/247 [==============================] - 126s 509ms/step - loss: 1.6653 - accuracy: 0.5078 - val_loss: 0.5053 - val_accuracy: 0.8449\n",
      "Epoch 4/10\n",
      "247/247 [==============================] - 125s 508ms/step - loss: 0.6614 - accuracy: 0.7911 - val_loss: 0.2465 - val_accuracy: 0.9303\n",
      "Epoch 5/10\n",
      "247/247 [==============================] - 125s 507ms/step - loss: 0.3355 - accuracy: 0.8997 - val_loss: 0.0667 - val_accuracy: 0.9801\n",
      "Epoch 6/10\n",
      "247/247 [==============================] - 125s 506ms/step - loss: 0.2128 - accuracy: 0.9362 - val_loss: 0.1057 - val_accuracy: 0.9719\n",
      "Epoch 7/10\n",
      "247/247 [==============================] - 126s 509ms/step - loss: 0.1695 - accuracy: 0.9500 - val_loss: 0.0444 - val_accuracy: 0.9890\n",
      "Epoch 8/10\n",
      "247/247 [==============================] - 125s 507ms/step - loss: 0.1304 - accuracy: 0.9629 - val_loss: 0.1794 - val_accuracy: 0.9495\n",
      "Epoch 9/10\n",
      "247/247 [==============================] - 125s 505ms/step - loss: 0.1175 - accuracy: 0.9652 - val_loss: 0.0396 - val_accuracy: 0.9911\n",
      "Epoch 10/10\n",
      "247/247 [==============================] - 125s 505ms/step - loss: 0.1034 - accuracy: 0.9703 - val_loss: 0.0291 - val_accuracy: 0.9941\n",
      "Duration: 0:20:56.787332\n"
     ]
    }
   ],
   "source": [
    "print(n)\n",
    "\n",
    "models_random[n].fit_model(image_sets_random[n],label_sets_random[n],x_val,y_val)\n",
    "n = n+1"
   ]
  },
  {
   "cell_type": "code",
   "execution_count": 28,
   "id": "6e0e5801",
   "metadata": {
    "scrolled": false
   },
   "outputs": [
    {
     "name": "stdout",
     "output_type": "stream",
     "text": [
      "9\n",
      "Epoch 1/10\n",
      "274/274 [==============================] - 142s 504ms/step - loss: 3.5695 - accuracy: 0.0561 - val_loss: 3.2127 - val_accuracy: 0.1909\n",
      "Epoch 2/10\n",
      "274/274 [==============================] - 139s 509ms/step - loss: 2.3547 - accuracy: 0.3446 - val_loss: 0.4720 - val_accuracy: 0.8632\n",
      "Epoch 3/10\n",
      "274/274 [==============================] - 138s 505ms/step - loss: 0.6745 - accuracy: 0.7963 - val_loss: 0.1394 - val_accuracy: 0.9610\n",
      "Epoch 4/10\n",
      "274/274 [==============================] - 139s 506ms/step - loss: 0.3010 - accuracy: 0.9082 - val_loss: 0.0907 - val_accuracy: 0.9755\n",
      "Epoch 5/10\n",
      "274/274 [==============================] - 140s 510ms/step - loss: 0.1910 - accuracy: 0.9427 - val_loss: 0.0499 - val_accuracy: 0.9860\n",
      "Epoch 6/10\n",
      "274/274 [==============================] - 138s 503ms/step - loss: 0.1381 - accuracy: 0.9594 - val_loss: 0.0452 - val_accuracy: 0.9885\n",
      "Epoch 7/10\n",
      "274/274 [==============================] - 138s 503ms/step - loss: 0.1147 - accuracy: 0.9673 - val_loss: 0.0483 - val_accuracy: 0.9898\n",
      "Epoch 8/10\n",
      "274/274 [==============================] - 139s 507ms/step - loss: 0.1008 - accuracy: 0.9698 - val_loss: 0.0422 - val_accuracy: 0.9911\n",
      "Epoch 9/10\n",
      "274/274 [==============================] - 138s 504ms/step - loss: 0.0863 - accuracy: 0.9750 - val_loss: 0.0236 - val_accuracy: 0.9957\n",
      "Epoch 10/10\n",
      "274/274 [==============================] - 138s 505ms/step - loss: 0.0885 - accuracy: 0.9768 - val_loss: 0.0580 - val_accuracy: 0.9895\n",
      "Duration: 0:23:09.612126\n"
     ]
    }
   ],
   "source": [
    "n=9\n",
    "print(n)#9\n",
    "\n",
    "models_random[n].fit_model(image_sets_random[n],label_sets_random[n],x_val,y_val)\n",
    "n = n+1"
   ]
  },
  {
   "cell_type": "code",
   "execution_count": 29,
   "id": "ebd0756a",
   "metadata": {},
   "outputs": [
    {
     "name": "stdout",
     "output_type": "stream",
     "text": [
      "10\n",
      "Epoch 1/10\n",
      "301/301 [==============================] - 156s 502ms/step - loss: 3.5454 - accuracy: 0.0578 - val_loss: 2.6785 - val_accuracy: 0.2853\n",
      "Epoch 2/10\n",
      "301/301 [==============================] - 155s 515ms/step - loss: 2.1873 - accuracy: 0.3964 - val_loss: 0.3599 - val_accuracy: 0.8974\n",
      "Epoch 3/10\n",
      "301/301 [==============================] - 152s 505ms/step - loss: 0.6060 - accuracy: 0.8158 - val_loss: 0.1136 - val_accuracy: 0.9681\n",
      "Epoch 4/10\n",
      "301/301 [==============================] - 141s 468ms/step - loss: 0.2966 - accuracy: 0.9112 - val_loss: 0.0913 - val_accuracy: 0.9747\n",
      "Epoch 5/10\n",
      "301/301 [==============================] - 166s 550ms/step - loss: 0.1944 - accuracy: 0.9415 - val_loss: 0.0483 - val_accuracy: 0.9880\n",
      "Epoch 6/10\n",
      "301/301 [==============================] - 152s 504ms/step - loss: 0.1426 - accuracy: 0.9585 - val_loss: 0.0561 - val_accuracy: 0.9867\n",
      "Epoch 7/10\n",
      "301/301 [==============================] - 154s 511ms/step - loss: 0.1189 - accuracy: 0.9672 - val_loss: 0.0593 - val_accuracy: 0.9860\n",
      "Epoch 8/10\n",
      "301/301 [==============================] - 151s 502ms/step - loss: 0.1102 - accuracy: 0.9687 - val_loss: 0.0329 - val_accuracy: 0.9934\n",
      "Epoch 9/10\n",
      "301/301 [==============================] - 151s 500ms/step - loss: 0.0961 - accuracy: 0.9709 - val_loss: 0.0246 - val_accuracy: 0.9939\n",
      "Epoch 10/10\n",
      "301/301 [==============================] - 150s 500ms/step - loss: 0.0823 - accuracy: 0.9781 - val_loss: 0.0286 - val_accuracy: 0.9939\n",
      "Duration: 0:25:26.552893\n"
     ]
    }
   ],
   "source": [
    "n=10\n",
    "print(n)\n",
    "\n",
    "models_random[n].fit_model(image_sets_random[n],label_sets_random[n],x_val,y_val)\n",
    "n = n+1"
   ]
  },
  {
   "cell_type": "code",
   "execution_count": 30,
   "id": "8c267b21",
   "metadata": {},
   "outputs": [
    {
     "name": "stdout",
     "output_type": "stream",
     "text": [
      "11\n",
      "Epoch 1/10\n",
      "329/329 [==============================] - 168s 498ms/step - loss: 3.5664 - accuracy: 0.0593 - val_loss: 2.5647 - val_accuracy: 0.3279\n",
      "Epoch 2/10\n",
      "329/329 [==============================] - 165s 500ms/step - loss: 2.0284 - accuracy: 0.4494 - val_loss: 0.2920 - val_accuracy: 0.9041\n",
      "Epoch 3/10\n",
      "329/329 [==============================] - 165s 502ms/step - loss: 0.4959 - accuracy: 0.8479 - val_loss: 0.0732 - val_accuracy: 0.9750\n",
      "Epoch 4/10\n",
      "329/329 [==============================] - 164s 500ms/step - loss: 0.2307 - accuracy: 0.9342 - val_loss: 0.0582 - val_accuracy: 0.9862\n",
      "Epoch 5/10\n",
      "329/329 [==============================] - 164s 499ms/step - loss: 0.1569 - accuracy: 0.9537 - val_loss: 0.0378 - val_accuracy: 0.9890\n",
      "Epoch 6/10\n",
      "329/329 [==============================] - 164s 499ms/step - loss: 0.1178 - accuracy: 0.9656 - val_loss: 0.0349 - val_accuracy: 0.9934\n",
      "Epoch 7/10\n",
      "329/329 [==============================] - 164s 499ms/step - loss: 0.1012 - accuracy: 0.9697 - val_loss: 0.1357 - val_accuracy: 0.9617\n",
      "Epoch 8/10\n",
      "329/329 [==============================] - 164s 500ms/step - loss: 0.0951 - accuracy: 0.9728 - val_loss: 0.0234 - val_accuracy: 0.9934\n",
      "Epoch 9/10\n",
      "329/329 [==============================] - 164s 499ms/step - loss: 0.0797 - accuracy: 0.9776 - val_loss: 0.0271 - val_accuracy: 0.9949\n",
      "Epoch 10/10\n",
      "329/329 [==============================] - 163s 497ms/step - loss: 0.0742 - accuracy: 0.9792 - val_loss: 0.0343 - val_accuracy: 0.9906\n",
      "Duration: 0:27:26.521668\n"
     ]
    }
   ],
   "source": [
    "print(n)\n",
    "\n",
    "models_random[n].fit_model(image_sets_random[n],label_sets_random[n],x_val,y_val)\n",
    "n = n+1"
   ]
  },
  {
   "cell_type": "code",
   "execution_count": 31,
   "id": "a0f77dbe",
   "metadata": {},
   "outputs": [
    {
     "name": "stdout",
     "output_type": "stream",
     "text": [
      "12\n",
      "Epoch 1/10\n",
      "356/356 [==============================] - 180s 495ms/step - loss: 3.5460 - accuracy: 0.0651 - val_loss: 2.0954 - val_accuracy: 0.4282\n",
      "Epoch 2/10\n",
      "356/356 [==============================] - 178s 499ms/step - loss: 1.6733 - accuracy: 0.5330 - val_loss: 0.2531 - val_accuracy: 0.9212\n",
      "Epoch 3/10\n",
      "356/356 [==============================] - 178s 499ms/step - loss: 0.4274 - accuracy: 0.8708 - val_loss: 0.0918 - val_accuracy: 0.9752\n",
      "Epoch 4/10\n",
      "356/356 [==============================] - 178s 500ms/step - loss: 0.2133 - accuracy: 0.9357 - val_loss: 0.0501 - val_accuracy: 0.9888\n",
      "Epoch 5/10\n",
      "356/356 [==============================] - 177s 498ms/step - loss: 0.1433 - accuracy: 0.9579 - val_loss: 0.0454 - val_accuracy: 0.9872\n",
      "Epoch 6/10\n",
      "356/356 [==============================] - 177s 496ms/step - loss: 0.1126 - accuracy: 0.9682 - val_loss: 0.0300 - val_accuracy: 0.9918\n",
      "Epoch 7/10\n",
      "356/356 [==============================] - 178s 499ms/step - loss: 0.1096 - accuracy: 0.9697 - val_loss: 0.0293 - val_accuracy: 0.9934\n",
      "Epoch 8/10\n",
      "356/356 [==============================] - 177s 498ms/step - loss: 0.0885 - accuracy: 0.9750 - val_loss: 0.0388 - val_accuracy: 0.9906\n",
      "Epoch 9/10\n",
      "356/356 [==============================] - 178s 501ms/step - loss: 0.0909 - accuracy: 0.9751 - val_loss: 0.0224 - val_accuracy: 0.9952\n",
      "Epoch 10/10\n",
      "356/356 [==============================] - 177s 498ms/step - loss: 0.0728 - accuracy: 0.9783 - val_loss: 0.0251 - val_accuracy: 0.9946\n",
      "Duration: 0:29:38.557711\n"
     ]
    }
   ],
   "source": [
    "n=12\n",
    "print(n)\n",
    "\n",
    "models_random[n].fit_model(image_sets_random[n],label_sets_random[n],x_val,y_val)\n",
    "n = n+1"
   ]
  },
  {
   "cell_type": "code",
   "execution_count": 32,
   "id": "f6406922",
   "metadata": {},
   "outputs": [
    {
     "name": "stdout",
     "output_type": "stream",
     "text": [
      "13\n",
      "Epoch 1/10\n",
      "383/383 [==============================] - 194s 495ms/step - loss: 3.5085 - accuracy: 0.0678 - val_loss: 1.5365 - val_accuracy: 0.5542\n",
      "Epoch 2/10\n",
      "383/383 [==============================] - 191s 498ms/step - loss: 1.4205 - accuracy: 0.5835 - val_loss: 0.1881 - val_accuracy: 0.9449\n",
      "Epoch 3/10\n",
      "383/383 [==============================] - 191s 498ms/step - loss: 0.4002 - accuracy: 0.8797 - val_loss: 0.0803 - val_accuracy: 0.9770\n",
      "Epoch 4/10\n",
      "383/383 [==============================] - 191s 499ms/step - loss: 0.2021 - accuracy: 0.9400 - val_loss: 0.0542 - val_accuracy: 0.9844\n",
      "Epoch 5/10\n",
      "383/383 [==============================] - 190s 497ms/step - loss: 0.1363 - accuracy: 0.9603 - val_loss: 0.0425 - val_accuracy: 0.9888\n",
      "Epoch 6/10\n",
      "383/383 [==============================] - 192s 500ms/step - loss: 0.1173 - accuracy: 0.9657 - val_loss: 0.0302 - val_accuracy: 0.9939\n",
      "Epoch 7/10\n",
      "383/383 [==============================] - 190s 496ms/step - loss: 0.0999 - accuracy: 0.9715 - val_loss: 0.0315 - val_accuracy: 0.9936\n",
      "Epoch 8/10\n",
      "383/383 [==============================] - 190s 497ms/step - loss: 0.0924 - accuracy: 0.9738 - val_loss: 0.0193 - val_accuracy: 0.9952\n",
      "Epoch 9/10\n",
      "383/383 [==============================] - 190s 496ms/step - loss: 0.0901 - accuracy: 0.9755 - val_loss: 0.0236 - val_accuracy: 0.9952\n",
      "Epoch 10/10\n",
      "383/383 [==============================] - 190s 495ms/step - loss: 0.0805 - accuracy: 0.9774 - val_loss: 0.0237 - val_accuracy: 0.9944\n",
      "Duration: 0:31:47.705438\n"
     ]
    }
   ],
   "source": [
    "print(n)\n",
    "\n",
    "models_random[n].fit_model(image_sets_random[n],label_sets_random[n],x_val,y_val)\n",
    "n = n+1"
   ]
  },
  {
   "cell_type": "code",
   "execution_count": 33,
   "id": "7a13139a",
   "metadata": {},
   "outputs": [
    {
     "name": "stdout",
     "output_type": "stream",
     "text": [
      "14\n",
      "Epoch 1/10\n",
      "411/411 [==============================] - 207s 494ms/step - loss: 3.4142 - accuracy: 0.0986 - val_loss: 1.1170 - val_accuracy: 0.6466\n",
      "Epoch 2/10\n",
      "411/411 [==============================] - 205s 500ms/step - loss: 1.0106 - accuracy: 0.7023 - val_loss: 0.3515 - val_accuracy: 0.8903\n",
      "Epoch 3/10\n",
      "411/411 [==============================] - 205s 498ms/step - loss: 0.2771 - accuracy: 0.9189 - val_loss: 0.0630 - val_accuracy: 0.9821\n",
      "Epoch 4/10\n",
      "411/411 [==============================] - 204s 496ms/step - loss: 0.1639 - accuracy: 0.9509 - val_loss: 0.0409 - val_accuracy: 0.9890\n",
      "Epoch 5/10\n",
      "411/411 [==============================] - 204s 495ms/step - loss: 0.1244 - accuracy: 0.9647 - val_loss: 0.0335 - val_accuracy: 0.9911\n",
      "Epoch 6/10\n",
      "411/411 [==============================] - 204s 496ms/step - loss: 0.1001 - accuracy: 0.9709 - val_loss: 0.0389 - val_accuracy: 0.9926\n",
      "Epoch 7/10\n",
      "411/411 [==============================] - 206s 501ms/step - loss: 0.0831 - accuracy: 0.9765 - val_loss: 0.0931 - val_accuracy: 0.9786\n",
      "Epoch 8/10\n",
      "411/411 [==============================] - 203s 494ms/step - loss: 0.0865 - accuracy: 0.9767 - val_loss: 0.0362 - val_accuracy: 0.9957\n",
      "Epoch 9/10\n",
      "411/411 [==============================] - 203s 494ms/step - loss: 0.0779 - accuracy: 0.9784 - val_loss: 0.0339 - val_accuracy: 0.9946\n",
      "Epoch 10/10\n",
      "411/411 [==============================] - 203s 495ms/step - loss: 0.0740 - accuracy: 0.9803 - val_loss: 0.0278 - val_accuracy: 0.9954\n",
      "Duration: 0:34:04.249475\n"
     ]
    }
   ],
   "source": [
    "print(n)#14\n",
    "\n",
    "models_random[n].fit_model(image_sets_random[n],label_sets_random[n],x_val,y_val)\n",
    "n = n+1"
   ]
  },
  {
   "cell_type": "code",
   "execution_count": 34,
   "id": "78517ef0",
   "metadata": {},
   "outputs": [
    {
     "name": "stdout",
     "output_type": "stream",
     "text": [
      "15\n",
      "Epoch 1/10\n",
      "438/438 [==============================] - 221s 494ms/step - loss: 3.4797 - accuracy: 0.0762 - val_loss: 1.4844 - val_accuracy: 0.5458\n",
      "Epoch 2/10\n",
      "438/438 [==============================] - 217s 496ms/step - loss: 1.2223 - accuracy: 0.6316 - val_loss: 0.1052 - val_accuracy: 0.9676\n",
      "Epoch 3/10\n",
      "438/438 [==============================] - 216s 494ms/step - loss: 0.2967 - accuracy: 0.9092 - val_loss: 0.0522 - val_accuracy: 0.9839\n",
      "Epoch 4/10\n",
      "438/438 [==============================] - 197s 450ms/step - loss: 0.1628 - accuracy: 0.9544 - val_loss: 0.0386 - val_accuracy: 0.9900\n",
      "Epoch 5/10\n",
      "438/438 [==============================] - 222s 506ms/step - loss: 0.1150 - accuracy: 0.9673 - val_loss: 0.0278 - val_accuracy: 0.9957\n",
      "Epoch 6/10\n",
      "438/438 [==============================] - 228s 520ms/step - loss: 0.1092 - accuracy: 0.9680 - val_loss: 0.0411 - val_accuracy: 0.9913\n",
      "Epoch 7/10\n",
      "438/438 [==============================] - 223s 509ms/step - loss: 0.0817 - accuracy: 0.9767 - val_loss: 0.0311 - val_accuracy: 0.9946\n",
      "Epoch 8/10\n",
      "438/438 [==============================] - 216s 493ms/step - loss: 0.0777 - accuracy: 0.9776 - val_loss: 0.0331 - val_accuracy: 0.9946\n",
      "Epoch 9/10\n",
      "438/438 [==============================] - 216s 494ms/step - loss: 0.0797 - accuracy: 0.9779 - val_loss: 0.0271 - val_accuracy: 0.9962\n",
      "Epoch 10/10\n",
      "438/438 [==============================] - 217s 496ms/step - loss: 0.0735 - accuracy: 0.9805 - val_loss: 0.0244 - val_accuracy: 0.9964\n",
      "Duration: 0:36:13.311675\n"
     ]
    }
   ],
   "source": [
    "print(n)\n",
    "\n",
    "models_random[n].fit_model(image_sets_random[n],label_sets_random[n],x_val,y_val)\n",
    "n = n+1"
   ]
  },
  {
   "cell_type": "code",
   "execution_count": 35,
   "id": "be924fe3",
   "metadata": {},
   "outputs": [
    {
     "name": "stdout",
     "output_type": "stream",
     "text": [
      "16\n",
      "Epoch 1/10\n",
      "465/465 [==============================] - 233s 492ms/step - loss: 3.4779 - accuracy: 0.0798 - val_loss: 1.1071 - val_accuracy: 0.7002\n",
      "Epoch 2/10\n",
      "465/465 [==============================] - 230s 494ms/step - loss: 1.0484 - accuracy: 0.6953 - val_loss: 0.1525 - val_accuracy: 0.9538\n",
      "Epoch 3/10\n",
      "465/465 [==============================] - 229s 493ms/step - loss: 0.2912 - accuracy: 0.9147 - val_loss: 0.0417 - val_accuracy: 0.9883\n",
      "Epoch 4/10\n",
      "465/465 [==============================] - 232s 498ms/step - loss: 0.1481 - accuracy: 0.9581 - val_loss: 0.0330 - val_accuracy: 0.9916\n",
      "Epoch 5/10\n",
      "465/465 [==============================] - 216s 465ms/step - loss: 0.1183 - accuracy: 0.9670 - val_loss: 0.0378 - val_accuracy: 0.9911\n",
      "Epoch 6/10\n",
      "465/465 [==============================] - 197s 423ms/step - loss: 0.0902 - accuracy: 0.9738 - val_loss: 0.0258 - val_accuracy: 0.9936\n",
      "Epoch 7/10\n",
      "465/465 [==============================] - 198s 425ms/step - loss: 0.0870 - accuracy: 0.9750 - val_loss: 0.0321 - val_accuracy: 0.9929\n",
      "Epoch 8/10\n",
      "465/465 [==============================] - 197s 424ms/step - loss: 0.0789 - accuracy: 0.9780 - val_loss: 0.0211 - val_accuracy: 0.9964\n",
      "Epoch 9/10\n",
      "465/465 [==============================] - 197s 423ms/step - loss: 0.0779 - accuracy: 0.9793 - val_loss: 0.0292 - val_accuracy: 0.9939\n",
      "Epoch 10/10\n",
      "465/465 [==============================] - 197s 423ms/step - loss: 0.0756 - accuracy: 0.9799 - val_loss: 0.0233 - val_accuracy: 0.9962\n",
      "Duration: 0:35:25.192428\n"
     ]
    }
   ],
   "source": [
    "n=16\n",
    "print(n)\n",
    "\n",
    "models_random[n].fit_model(image_sets_random[n],label_sets_random[n],x_val,y_val)\n",
    "n = n+1"
   ]
  },
  {
   "cell_type": "code",
   "execution_count": 36,
   "id": "f4b40a6c",
   "metadata": {},
   "outputs": [
    {
     "name": "stdout",
     "output_type": "stream",
     "text": [
      "17\n",
      "Epoch 1/10\n",
      "493/493 [==============================] - 213s 424ms/step - loss: 3.3588 - accuracy: 0.1237 - val_loss: 0.6774 - val_accuracy: 0.8045\n",
      "Epoch 2/10\n",
      "493/493 [==============================] - 209s 424ms/step - loss: 0.7825 - accuracy: 0.7687 - val_loss: 0.1231 - val_accuracy: 0.9620\n",
      "Epoch 3/10\n",
      "493/493 [==============================] - 230s 466ms/step - loss: 0.2713 - accuracy: 0.9204 - val_loss: 0.0526 - val_accuracy: 0.9844\n",
      "Epoch 4/10\n",
      "493/493 [==============================] - 227s 461ms/step - loss: 0.1664 - accuracy: 0.9535 - val_loss: 0.0538 - val_accuracy: 0.9860\n",
      "Epoch 5/10\n",
      "493/493 [==============================] - 228s 462ms/step - loss: 0.1190 - accuracy: 0.9647 - val_loss: 0.0319 - val_accuracy: 0.9939\n",
      "Epoch 6/10\n",
      "493/493 [==============================] - 228s 462ms/step - loss: 0.1085 - accuracy: 0.9688 - val_loss: 0.0282 - val_accuracy: 0.9936\n",
      "Epoch 7/10\n",
      "493/493 [==============================] - 228s 462ms/step - loss: 0.0955 - accuracy: 0.9727 - val_loss: 0.0239 - val_accuracy: 0.9941\n",
      "Epoch 8/10\n",
      "493/493 [==============================] - 227s 460ms/step - loss: 0.0911 - accuracy: 0.9747 - val_loss: 0.0228 - val_accuracy: 0.9946\n",
      "Epoch 9/10\n",
      "493/493 [==============================] - 227s 461ms/step - loss: 0.0851 - accuracy: 0.9778 - val_loss: 0.0304 - val_accuracy: 0.9957\n",
      "Epoch 10/10\n",
      "493/493 [==============================] - 228s 462ms/step - loss: 0.0865 - accuracy: 0.9784 - val_loss: 0.0231 - val_accuracy: 0.9957\n",
      "Duration: 0:37:24.510395\n"
     ]
    }
   ],
   "source": [
    "print(n)\n",
    "\n",
    "models_random[n].fit_model(image_sets_random[n],label_sets_random[n],x_val,y_val)\n",
    "n = n+1"
   ]
  },
  {
   "cell_type": "code",
   "execution_count": 37,
   "id": "d6ee7926",
   "metadata": {},
   "outputs": [
    {
     "name": "stdout",
     "output_type": "stream",
     "text": [
      "18\n",
      "Epoch 1/10\n",
      "520/520 [==============================] - 246s 461ms/step - loss: 3.4529 - accuracy: 0.0837 - val_loss: 0.9779 - val_accuracy: 0.7405\n",
      "Epoch 2/10\n",
      "520/520 [==============================] - 240s 462ms/step - loss: 0.8663 - accuracy: 0.7419 - val_loss: 0.1577 - val_accuracy: 0.9582\n",
      "Epoch 3/10\n",
      "520/520 [==============================] - 240s 462ms/step - loss: 0.2418 - accuracy: 0.9286 - val_loss: 0.0831 - val_accuracy: 0.9775\n",
      "Epoch 4/10\n",
      "520/520 [==============================] - 240s 462ms/step - loss: 0.1396 - accuracy: 0.9607 - val_loss: 0.0475 - val_accuracy: 0.9860\n",
      "Epoch 5/10\n",
      "520/520 [==============================] - 240s 461ms/step - loss: 0.1051 - accuracy: 0.9681 - val_loss: 0.0554 - val_accuracy: 0.9872\n",
      "Epoch 6/10\n",
      "520/520 [==============================] - 239s 461ms/step - loss: 0.0894 - accuracy: 0.9748 - val_loss: 0.0358 - val_accuracy: 0.9898\n",
      "Epoch 7/10\n",
      "520/520 [==============================] - 239s 460ms/step - loss: 0.0816 - accuracy: 0.9766 - val_loss: 0.0394 - val_accuracy: 0.9923\n",
      "Epoch 8/10\n",
      "520/520 [==============================] - 240s 461ms/step - loss: 0.0792 - accuracy: 0.9784 - val_loss: 0.0237 - val_accuracy: 0.9952\n",
      "Epoch 9/10\n",
      "520/520 [==============================] - 239s 459ms/step - loss: 0.0794 - accuracy: 0.9801 - val_loss: 0.0208 - val_accuracy: 0.9967\n",
      "Epoch 10/10\n",
      "520/520 [==============================] - 239s 460ms/step - loss: 0.0787 - accuracy: 0.9807 - val_loss: 0.0519 - val_accuracy: 0.9964\n",
      "Duration: 0:40:03.238505\n"
     ]
    }
   ],
   "source": [
    "n=18\n",
    "print(n)\n",
    "\n",
    "models_random[n].fit_model(image_sets_random[n],label_sets_random[n],x_val,y_val)\n",
    "n = n+1"
   ]
  },
  {
   "cell_type": "code",
   "execution_count": 38,
   "id": "e6497c26",
   "metadata": {},
   "outputs": [
    {
     "name": "stdout",
     "output_type": "stream",
     "text": [
      "19\n",
      "Epoch 1/10\n",
      "547/547 [==============================] - 257s 461ms/step - loss: 3.3034 - accuracy: 0.1245 - val_loss: 0.5306 - val_accuracy: 0.8456\n",
      "Epoch 2/10\n",
      "547/547 [==============================] - 255s 466ms/step - loss: 0.6385 - accuracy: 0.8132 - val_loss: 0.0748 - val_accuracy: 0.9809\n",
      "Epoch 3/10\n",
      "547/547 [==============================] - 253s 463ms/step - loss: 0.2249 - accuracy: 0.9362 - val_loss: 0.0523 - val_accuracy: 0.9880\n",
      "Epoch 4/10\n",
      "547/547 [==============================] - 254s 464ms/step - loss: 0.1366 - accuracy: 0.9595 - val_loss: 0.0256 - val_accuracy: 0.9934\n",
      "Epoch 5/10\n",
      "547/547 [==============================] - 254s 465ms/step - loss: 0.1105 - accuracy: 0.9681 - val_loss: 0.0222 - val_accuracy: 0.9941\n",
      "Epoch 6/10\n",
      "547/547 [==============================] - 253s 463ms/step - loss: 0.1045 - accuracy: 0.9723 - val_loss: 0.0215 - val_accuracy: 0.9959\n",
      "Epoch 7/10\n",
      "547/547 [==============================] - 253s 462ms/step - loss: 0.0889 - accuracy: 0.9759 - val_loss: 0.0447 - val_accuracy: 0.9898\n",
      "Epoch 8/10\n",
      "547/547 [==============================] - 252s 461ms/step - loss: 0.0898 - accuracy: 0.9776 - val_loss: 0.0341 - val_accuracy: 0.9931\n",
      "Epoch 9/10\n",
      "547/547 [==============================] - 253s 462ms/step - loss: 0.0950 - accuracy: 0.9758 - val_loss: 0.0214 - val_accuracy: 0.9936\n",
      "Epoch 10/10\n",
      "547/547 [==============================] - 252s 460ms/step - loss: 0.0837 - accuracy: 0.9791 - val_loss: 0.0355 - val_accuracy: 0.9954\n",
      "Duration: 0:42:15.060487\n"
     ]
    }
   ],
   "source": [
    "n=19\n",
    "print(n)#19\n",
    "\n",
    "models_random[n].fit_model(image_sets_random[n],label_sets_random[n],x_val,y_val)\n",
    "n = n+1"
   ]
  },
  {
   "cell_type": "code",
   "execution_count": 39,
   "id": "1d57eade",
   "metadata": {},
   "outputs": [
    {
     "name": "stdout",
     "output_type": "stream",
     "text": [
      "20\n",
      "Epoch 1/10\n",
      "552/552 [==============================] - 259s 461ms/step - loss: 3.3355 - accuracy: 0.1086 - val_loss: 0.7901 - val_accuracy: 0.7423\n",
      "Epoch 2/10\n",
      "552/552 [==============================] - 255s 463ms/step - loss: 0.7054 - accuracy: 0.7880 - val_loss: 0.1537 - val_accuracy: 0.9604\n",
      "Epoch 3/10\n",
      "552/552 [==============================] - 255s 462ms/step - loss: 0.2240 - accuracy: 0.9334 - val_loss: 0.0327 - val_accuracy: 0.9939\n",
      "Epoch 4/10\n",
      "552/552 [==============================] - 254s 461ms/step - loss: 0.1389 - accuracy: 0.9603 - val_loss: 0.0403 - val_accuracy: 0.9921\n",
      "Epoch 5/10\n",
      "552/552 [==============================] - 255s 462ms/step - loss: 0.1081 - accuracy: 0.9689 - val_loss: 0.0193 - val_accuracy: 0.9964\n",
      "Epoch 6/10\n",
      "552/552 [==============================] - 257s 465ms/step - loss: 0.0961 - accuracy: 0.9745 - val_loss: 0.0373 - val_accuracy: 0.9949\n",
      "Epoch 7/10\n",
      "552/552 [==============================] - 254s 460ms/step - loss: 0.0848 - accuracy: 0.9760 - val_loss: 0.0179 - val_accuracy: 0.9969\n",
      "Epoch 8/10\n",
      "552/552 [==============================] - 254s 461ms/step - loss: 0.0844 - accuracy: 0.9772 - val_loss: 0.0513 - val_accuracy: 0.9885\n",
      "Epoch 9/10\n",
      "552/552 [==============================] - 255s 463ms/step - loss: 0.0900 - accuracy: 0.9763 - val_loss: 0.0160 - val_accuracy: 0.9967\n",
      "Epoch 10/10\n",
      "552/552 [==============================] - 254s 460ms/step - loss: 0.0788 - accuracy: 0.9809 - val_loss: 0.0305 - val_accuracy: 0.9957\n",
      "Duration: 0:42:33.830490\n"
     ]
    }
   ],
   "source": [
    "\n",
    "print(n)\n",
    "\n",
    "models_random[n].fit_model(image_sets_random[n],label_sets_random[n],x_val,y_val)\n",
    "n = n+1"
   ]
  },
  {
   "cell_type": "code",
   "execution_count": 40,
   "id": "721d09f6",
   "metadata": {},
   "outputs": [
    {
     "name": "stdout",
     "output_type": "stream",
     "text": [
      "INFO:tensorflow:Assets written to: D:/models/aug_22/gtsrb/C1/gtsrb_model_c1_aug_random_e1_3\\assets\n",
      "Model has been saved\n",
      "INFO:tensorflow:Assets written to: D:/models/aug_22/gtsrb/C1/gtsrb_model_c1_aug_random_e1_4\\assets\n",
      "Model has been saved\n",
      "INFO:tensorflow:Assets written to: D:/models/aug_22/gtsrb/C1/gtsrb_model_c1_aug_random_e1_5\\assets\n",
      "Model has been saved\n",
      "INFO:tensorflow:Assets written to: D:/models/aug_22/gtsrb/C1/gtsrb_model_c1_aug_random_e1_6\\assets\n",
      "Model has been saved\n",
      "INFO:tensorflow:Assets written to: D:/models/aug_22/gtsrb/C1/gtsrb_model_c1_aug_random_e1_7\\assets\n",
      "Model has been saved\n",
      "INFO:tensorflow:Assets written to: D:/models/aug_22/gtsrb/C1/gtsrb_model_c1_aug_random_e1_8\\assets\n",
      "Model has been saved\n",
      "INFO:tensorflow:Assets written to: D:/models/aug_22/gtsrb/C1/gtsrb_model_c1_aug_random_e1_9\\assets\n",
      "Model has been saved\n",
      "INFO:tensorflow:Assets written to: D:/models/aug_22/gtsrb/C1/gtsrb_model_c1_aug_random_e1_10\\assets\n",
      "Model has been saved\n",
      "INFO:tensorflow:Assets written to: D:/models/aug_22/gtsrb/C1/gtsrb_model_c1_aug_random_e1_11\\assets\n",
      "Model has been saved\n",
      "INFO:tensorflow:Assets written to: D:/models/aug_22/gtsrb/C1/gtsrb_model_c1_aug_random_e1_12\\assets\n",
      "Model has been saved\n",
      "INFO:tensorflow:Assets written to: D:/models/aug_22/gtsrb/C1/gtsrb_model_c1_aug_random_e1_13\\assets\n",
      "Model has been saved\n",
      "INFO:tensorflow:Assets written to: D:/models/aug_22/gtsrb/C1/gtsrb_model_c1_aug_random_e1_14\\assets\n",
      "Model has been saved\n",
      "INFO:tensorflow:Assets written to: D:/models/aug_22/gtsrb/C1/gtsrb_model_c1_aug_random_e1_15\\assets\n",
      "Model has been saved\n",
      "INFO:tensorflow:Assets written to: D:/models/aug_22/gtsrb/C1/gtsrb_model_c1_aug_random_e1_16\\assets\n",
      "Model has been saved\n",
      "INFO:tensorflow:Assets written to: D:/models/aug_22/gtsrb/C1/gtsrb_model_c1_aug_random_e1_17\\assets\n",
      "Model has been saved\n",
      "INFO:tensorflow:Assets written to: D:/models/aug_22/gtsrb/C1/gtsrb_model_c1_aug_random_e1_18\\assets\n",
      "Model has been saved\n",
      "INFO:tensorflow:Assets written to: D:/models/aug_22/gtsrb/C1/gtsrb_model_c1_aug_random_e1_19\\assets\n",
      "Model has been saved\n",
      "INFO:tensorflow:Assets written to: D:/models/aug_22/gtsrb/C1/gtsrb_model_c1_aug_random_e1_20\\assets\n",
      "Model has been saved\n"
     ]
    }
   ],
   "source": [
    "new_model_random_dir  = \"D:/models/aug_22/gtsrb/C1/gtsrb_model_c1_aug_random_e1\"\n",
    "\n",
    "i=3\n",
    "\n",
    "for model in models_random[3:]:\n",
    "    model.save(new_model_random_dir+\"_\"+str(i))\n",
    "    i+=1"
   ]
  },
  {
   "cell_type": "code",
   "execution_count": null,
   "id": "4d243087",
   "metadata": {},
   "outputs": [],
   "source": [
    "loading = False\n",
    "\n",
    "models_random = []\n",
    "\n",
    "if loading:\n",
    "    for i in range(20):\n",
    "        model_random_dir = \"D:/models/aug_22/gtsrb/C1/gtsrb_model_c1_aug_random_e1_\"+str(i)\n",
    "        print(model_random_dir)\n",
    "        model =utils.My_model('gtsrb',True,model_random_dir)\n",
    "        model.model.compile(loss= 'categorical_crossentropy', optimizer = 'rmsprop', metrics = ['accuracy',tf.keras.metrics.Precision(), tf.keras.metrics.Recall()])\n",
    "        models_random.append(model)\n",
    "       "
   ]
  },
  {
   "cell_type": "code",
   "execution_count": 149,
   "id": "c33d4ae4",
   "metadata": {},
   "outputs": [
    {
     "name": "stdout",
     "output_type": "stream",
     "text": [
      "Error\n"
     ]
    }
   ],
   "source": [
    "try:\n",
    "    del random_values\n",
    "    del top_images_by_random\n",
    "    del top_labels_by_random\n",
    "    del image_sets_random\n",
    "    del label_sets_random\n",
    "    del models_random\n",
    "except:\n",
    "    print(\"Error\")"
   ]
  },
  {
   "cell_type": "code",
   "execution_count": 153,
   "id": "62489ace",
   "metadata": {},
   "outputs": [],
   "source": []
  },
  {
   "cell_type": "code",
   "execution_count": 154,
   "id": "4302c95c",
   "metadata": {},
   "outputs": [
    {
     "data": {
      "text/plain": [
       "6486"
      ]
     },
     "execution_count": 154,
     "metadata": {},
     "output_type": "execute_result"
    }
   ],
   "source": [
    "gc.collect()"
   ]
  },
  {
   "cell_type": "markdown",
   "id": "58a54b05",
   "metadata": {},
   "source": [
    "## Training guided by NC"
   ]
  },
  {
   "cell_type": "code",
   "execution_count": 92,
   "id": "e53f2bcb",
   "metadata": {},
   "outputs": [],
   "source": [
    "# NC\n",
    "nc_values = []\n",
    "for i in range(1,13):\n",
    "    #save_dir = \"C:/Users/fjdur/Desktop/upc/project_notebooks/github_project/DL_notebooks/NC_values/nc_values_\"+str(i)+\".npy\"\n",
    "    save_dir = \"C:/Users/fjdur/Documents/upc-july/data/\"+dataset+\"/gtsrb_nc_values_\"+str(i)+\".npy\"\n",
    "\n",
    "    #print(save_dir_rand)\n",
    "    tmp_values = np.load(save_dir)\n",
    "    #print(tmp_values.shape)\n",
    "    nc_values = np.append(nc_values,tmp_values)"
   ]
  },
  {
   "cell_type": "code",
   "execution_count": null,
   "id": "7fbf7788",
   "metadata": {},
   "outputs": [],
   "source": []
  },
  {
   "cell_type": "code",
   "execution_count": 93,
   "id": "637de522",
   "metadata": {},
   "outputs": [
    {
     "data": {
      "text/plain": [
       "(35287,)"
      ]
     },
     "execution_count": 93,
     "metadata": {},
     "output_type": "execute_result"
    }
   ],
   "source": [
    "nc_values.shape"
   ]
  },
  {
   "cell_type": "code",
   "execution_count": 94,
   "id": "024f3314",
   "metadata": {},
   "outputs": [],
   "source": [
    "\n",
    "top_images_by_nc = utils.get_x_of_indexes(list(np.flip(np.argsort(nc_values))),x_train_and_adversary)\n",
    "top_labels_by_nc = utils.get_x_of_indexes(list(np.flip(np.argsort(nc_values))),y_train_and_adversary)\n"
   ]
  },
  {
   "cell_type": "code",
   "execution_count": 95,
   "id": "7490c255",
   "metadata": {},
   "outputs": [
    {
     "name": "stdout",
     "output_type": "stream",
     "text": [
      "0 :\n",
      "0  ->  1750\n",
      "1750\n",
      "1 :\n",
      "0  ->  3500\n",
      "3500\n",
      "2 :\n",
      "0  ->  5250\n",
      "5250\n",
      "3 :\n",
      "0  ->  7000\n",
      "7000\n",
      "4 :\n",
      "0  ->  8750\n",
      "8750\n",
      "5 :\n",
      "0  ->  10500\n",
      "10500\n",
      "6 :\n",
      "0  ->  12250\n",
      "12250\n",
      "7 :\n",
      "0  ->  14000\n",
      "14000\n",
      "8 :\n",
      "0  ->  15750\n",
      "15750\n",
      "9 :\n",
      "0  ->  17500\n",
      "17500\n",
      "10 :\n",
      "0  ->  19250\n",
      "19250\n",
      "11 :\n",
      "0  ->  21000\n",
      "21000\n",
      "12 :\n",
      "0  ->  22750\n",
      "22750\n",
      "13 :\n",
      "0  ->  24500\n",
      "24500\n",
      "14 :\n",
      "0  ->  26250\n",
      "26250\n",
      "15 :\n",
      "0  ->  28000\n",
      "28000\n",
      "16 :\n",
      "0  ->  29750\n",
      "29750\n",
      "17 :\n",
      "0  ->  31500\n",
      "31500\n",
      "18 :\n",
      "0  ->  33250\n",
      "33250\n",
      "19 :\n",
      "0  ->  35000\n",
      "35000\n",
      "20 :\n",
      "Last\n",
      "0  ->  37037\n",
      "35287\n"
     ]
    }
   ],
   "source": [
    "m = n_data_points\n",
    "n = 0\n",
    "image_sets_nc = []\n",
    "label_sets_nc = []\n",
    "\n",
    "\n",
    "for i in range((len(top_images_by_nc)//m)+1):\n",
    "    print(i,\":\")\n",
    "    if (i+1 >= ((len(top_images_by_nc)//m)+1)):\n",
    "        print(\"Last\")\n",
    "        print(0,\" -> \",n+m+(len(top_images_by_nc)%m))\n",
    "        top_images_by_nc_n = np.array(top_images_by_nc[:n+m+(len(top_images_by_nc)%m)])\n",
    "        top_labels_by_nc_n = np.array(top_labels_by_nc[:n+m+(len(top_images_by_nc)%m)])\n",
    "    else:\n",
    "        print(0,\" -> \",m+n)\n",
    "        top_images_by_nc_n = np.array(top_images_by_nc[:n+m])\n",
    "        top_labels_by_nc_n = np.array(top_labels_by_nc[:n+m])\n",
    "    image_sets_nc.append(top_images_by_nc_n)\n",
    "    label_sets_nc.append(top_labels_by_nc_n)\n",
    "    print(len(top_images_by_nc_n))\n",
    "    n += m\n",
    "\n",
    "\n"
   ]
  },
  {
   "cell_type": "code",
   "execution_count": 96,
   "id": "0a65e301",
   "metadata": {},
   "outputs": [
    {
     "name": "stdout",
     "output_type": "stream",
     "text": [
      "C:/Users/fjdur/Documents/upc-july/models/tf_model_25-06/\n",
      "0 :\n",
      "Model compiled\n",
      "1 :\n",
      "Model compiled\n",
      "2 :\n",
      "Model compiled\n",
      "3 :\n",
      "Model compiled\n",
      "4 :\n",
      "Model compiled\n",
      "5 :\n",
      "Model compiled\n",
      "6 :\n",
      "Model compiled\n",
      "7 :\n",
      "Model compiled\n",
      "8 :\n",
      "Model compiled\n",
      "9 :\n",
      "Model compiled\n",
      "10 :\n",
      "Model compiled\n",
      "11 :\n",
      "Model compiled\n",
      "12 :\n",
      "Model compiled\n",
      "13 :\n",
      "Model compiled\n",
      "14 :\n",
      "Model compiled\n",
      "15 :\n",
      "Model compiled\n",
      "16 :\n",
      "Model compiled\n",
      "17 :\n",
      "Model compiled\n",
      "18 :\n",
      "Model compiled\n",
      "19 :\n",
      "Model compiled\n",
      "20 :\n",
      "Model compiled\n"
     ]
    }
   ],
   "source": [
    "print(model_dir)\n",
    "\n",
    "models_nc = []\n",
    "for i in range(len(label_sets_nc)):\n",
    "    print(i,\":\")\n",
    "    model = utils.My_model(dataset,False,None)\n",
    "    model.compile_model()\n",
    "    models_nc.append(model)\n"
   ]
  },
  {
   "cell_type": "code",
   "execution_count": 97,
   "id": "df0b6c8f",
   "metadata": {},
   "outputs": [
    {
     "name": "stdout",
     "output_type": "stream",
     "text": [
      "0\n",
      "Epoch 1/10\n",
      "28/28 [==============================] - 39s 1s/step - loss: 2.8898 - accuracy: 0.4021 - val_loss: 8.1936 - val_accuracy: 0.0574\n",
      "Epoch 2/10\n",
      "28/28 [==============================] - 28s 996ms/step - loss: 1.1312 - accuracy: 0.4507 - val_loss: 8.9305 - val_accuracy: 0.0620\n",
      "Epoch 3/10\n",
      "28/28 [==============================] - 27s 989ms/step - loss: 1.0065 - accuracy: 0.4907 - val_loss: 6.9683 - val_accuracy: 0.0947\n",
      "Epoch 4/10\n",
      "28/28 [==============================] - 28s 1s/step - loss: 0.6759 - accuracy: 0.7294 - val_loss: 12.5758 - val_accuracy: 0.1135\n",
      "Epoch 5/10\n",
      "28/28 [==============================] - 28s 1s/step - loss: 0.2722 - accuracy: 0.9160 - val_loss: 11.5658 - val_accuracy: 0.1276\n",
      "Epoch 6/10\n",
      "28/28 [==============================] - 28s 1000ms/step - loss: 0.2127 - accuracy: 0.9190 - val_loss: 12.1767 - val_accuracy: 0.1312\n",
      "Epoch 7/10\n",
      "28/28 [==============================] - 29s 1s/step - loss: 0.1435 - accuracy: 0.9522 - val_loss: 13.5869 - val_accuracy: 0.1424\n",
      "Epoch 8/10\n",
      "28/28 [==============================] - 28s 1s/step - loss: 0.1074 - accuracy: 0.9667 - val_loss: 14.3328 - val_accuracy: 0.1505\n",
      "Epoch 9/10\n",
      "28/28 [==============================] - 27s 986ms/step - loss: 0.0626 - accuracy: 0.9818 - val_loss: 15.8108 - val_accuracy: 0.1523\n",
      "Epoch 10/10\n",
      "28/28 [==============================] - 28s 1s/step - loss: 0.0349 - accuracy: 0.9909 - val_loss: 22.8360 - val_accuracy: 0.1534\n",
      "Duration: 0:04:48.826149\n"
     ]
    }
   ],
   "source": [
    "n=0\n",
    "print(n)\n",
    "\n",
    "models_nc[n].fit_model(image_sets_nc[n],label_sets_nc[n],x_val,y_val)\n",
    "n = n+1"
   ]
  },
  {
   "cell_type": "code",
   "execution_count": 98,
   "id": "0f4f3f4b",
   "metadata": {},
   "outputs": [
    {
     "name": "stdout",
     "output_type": "stream",
     "text": [
      "1\n",
      "Epoch 1/10\n",
      "55/55 [==============================] - 56s 836ms/step - loss: 1.8409 - accuracy: 0.3812 - val_loss: 7.2774 - val_accuracy: 0.0646\n",
      "Epoch 2/10\n",
      "55/55 [==============================] - 45s 817ms/step - loss: 1.0537 - accuracy: 0.4788 - val_loss: 13.1253 - val_accuracy: 0.1084\n",
      "Epoch 3/10\n",
      "55/55 [==============================] - 46s 840ms/step - loss: 0.4133 - accuracy: 0.8418 - val_loss: 8.7736 - val_accuracy: 0.1240\n",
      "Epoch 4/10\n",
      "55/55 [==============================] - 45s 830ms/step - loss: 0.2354 - accuracy: 0.9221 - val_loss: 13.9278 - val_accuracy: 0.1434\n",
      "Epoch 5/10\n",
      "55/55 [==============================] - 33s 591ms/step - loss: 0.1253 - accuracy: 0.9692 - val_loss: 13.0958 - val_accuracy: 0.1582\n",
      "Epoch 6/10\n",
      "55/55 [==============================] - 30s 554ms/step - loss: 0.0726 - accuracy: 0.9855 - val_loss: 16.1308 - val_accuracy: 0.1579\n",
      "Epoch 7/10\n",
      "55/55 [==============================] - 30s 554ms/step - loss: 0.0435 - accuracy: 0.9901 - val_loss: 15.8347 - val_accuracy: 0.1590\n",
      "Epoch 8/10\n",
      "55/55 [==============================] - 30s 552ms/step - loss: 0.0288 - accuracy: 0.9949 - val_loss: 15.9026 - val_accuracy: 0.1585\n",
      "Epoch 9/10\n",
      "55/55 [==============================] - 31s 564ms/step - loss: 0.0441 - accuracy: 0.9907 - val_loss: 18.3651 - val_accuracy: 0.1590\n",
      "Epoch 10/10\n",
      "55/55 [==============================] - 32s 582ms/step - loss: 0.0498 - accuracy: 0.9867 - val_loss: 24.8387 - val_accuracy: 0.1582\n",
      "Duration: 0:06:18.679207\n"
     ]
    }
   ],
   "source": [
    "\n",
    "print(n)\n",
    "\n",
    "models_nc[n].fit_model(image_sets_nc[n],label_sets_nc[n],x_val,y_val)\n",
    "n = n+1"
   ]
  },
  {
   "cell_type": "code",
   "execution_count": 99,
   "id": "c055f71b",
   "metadata": {},
   "outputs": [
    {
     "name": "stdout",
     "output_type": "stream",
     "text": [
      "2\n",
      "Epoch 1/10\n",
      "83/83 [==============================] - 49s 536ms/step - loss: 1.9321 - accuracy: 0.3238 - val_loss: 9.2605 - val_accuracy: 0.0681\n",
      "Epoch 2/10\n",
      "83/83 [==============================] - 45s 538ms/step - loss: 1.2417 - accuracy: 0.4902 - val_loss: 9.5498 - val_accuracy: 0.1266\n",
      "Epoch 3/10\n",
      "83/83 [==============================] - 46s 554ms/step - loss: 0.6356 - accuracy: 0.7823 - val_loss: 4.9545 - val_accuracy: 0.1266\n",
      "Epoch 4/10\n",
      "83/83 [==============================] - 47s 572ms/step - loss: 0.4374 - accuracy: 0.8842 - val_loss: 14.4051 - val_accuracy: 0.1567\n",
      "Epoch 5/10\n",
      "83/83 [==============================] - 47s 563ms/step - loss: 0.2524 - accuracy: 0.9321 - val_loss: 6.3458 - val_accuracy: 0.1600\n",
      "Epoch 6/10\n",
      "83/83 [==============================] - 47s 568ms/step - loss: 0.2036 - accuracy: 0.9446 - val_loss: 13.2238 - val_accuracy: 0.1457\n",
      "Epoch 7/10\n",
      "83/83 [==============================] - 47s 570ms/step - loss: 0.1975 - accuracy: 0.9514 - val_loss: 10.4364 - val_accuracy: 0.1776\n",
      "Epoch 8/10\n",
      "83/83 [==============================] - 47s 571ms/step - loss: 0.1378 - accuracy: 0.9635 - val_loss: 10.4321 - val_accuracy: 0.1888\n",
      "Epoch 9/10\n",
      "83/83 [==============================] - 47s 573ms/step - loss: 0.1152 - accuracy: 0.9683 - val_loss: 7.6033 - val_accuracy: 0.2003\n",
      "Epoch 10/10\n",
      "83/83 [==============================] - 47s 566ms/step - loss: 0.1092 - accuracy: 0.9724 - val_loss: 15.4079 - val_accuracy: 0.1939\n",
      "Duration: 0:07:49.489491\n"
     ]
    }
   ],
   "source": [
    "\n",
    "print(n)\n",
    "\n",
    "models_nc[n].fit_model(image_sets_nc[n],label_sets_nc[n],x_val,y_val)\n",
    "n = n+1"
   ]
  },
  {
   "cell_type": "code",
   "execution_count": 100,
   "id": "5186f306",
   "metadata": {},
   "outputs": [
    {
     "name": "stdout",
     "output_type": "stream",
     "text": [
      "3\n",
      "Epoch 1/10\n",
      "110/110 [==============================] - 65s 550ms/step - loss: 2.3125 - accuracy: 0.2534 - val_loss: 4.7377 - val_accuracy: 0.0755\n",
      "Epoch 2/10\n",
      "110/110 [==============================] - 60s 544ms/step - loss: 1.7010 - accuracy: 0.4026 - val_loss: 5.9562 - val_accuracy: 0.1312\n",
      "Epoch 3/10\n",
      "110/110 [==============================] - 60s 547ms/step - loss: 1.0825 - accuracy: 0.6405 - val_loss: 7.8958 - val_accuracy: 0.2001\n",
      "Epoch 4/10\n",
      "110/110 [==============================] - 60s 550ms/step - loss: 0.6365 - accuracy: 0.7967 - val_loss: 7.3251 - val_accuracy: 0.1870\n",
      "Epoch 5/10\n",
      "110/110 [==============================] - 60s 548ms/step - loss: 0.3907 - accuracy: 0.8788 - val_loss: 9.4240 - val_accuracy: 0.3782\n",
      "Epoch 6/10\n",
      "110/110 [==============================] - 60s 545ms/step - loss: 0.2431 - accuracy: 0.9311 - val_loss: 7.2663 - val_accuracy: 0.4348\n",
      "Epoch 7/10\n",
      "110/110 [==============================] - 60s 550ms/step - loss: 0.1636 - accuracy: 0.9499 - val_loss: 7.9070 - val_accuracy: 0.4440\n",
      "Epoch 8/10\n",
      "110/110 [==============================] - 60s 545ms/step - loss: 0.1194 - accuracy: 0.9623 - val_loss: 8.4306 - val_accuracy: 0.4496\n",
      "Epoch 9/10\n",
      "110/110 [==============================] - 60s 547ms/step - loss: 0.0927 - accuracy: 0.9710 - val_loss: 10.2300 - val_accuracy: 0.4738\n",
      "Epoch 10/10\n",
      "110/110 [==============================] - 60s 546ms/step - loss: 0.0918 - accuracy: 0.9726 - val_loss: 6.8366 - val_accuracy: 0.4879\n",
      "Duration: 0:10:06.009629\n"
     ]
    }
   ],
   "source": [
    "\n",
    "print(n)\n",
    "\n",
    "models_nc[n].fit_model(image_sets_nc[n],label_sets_nc[n],x_val,y_val)\n",
    "n = n+1"
   ]
  },
  {
   "cell_type": "code",
   "execution_count": 101,
   "id": "173fe6bf",
   "metadata": {},
   "outputs": [
    {
     "name": "stdout",
     "output_type": "stream",
     "text": [
      "4\n",
      "Epoch 1/10\n",
      "137/137 [==============================] - 79s 545ms/step - loss: 2.5450 - accuracy: 0.2175 - val_loss: 5.3183 - val_accuracy: 0.0952\n",
      "Epoch 2/10\n",
      "137/137 [==============================] - 76s 553ms/step - loss: 1.7156 - accuracy: 0.4302 - val_loss: 8.1487 - val_accuracy: 0.2965\n",
      "Epoch 3/10\n",
      "137/137 [==============================] - 74s 538ms/step - loss: 0.7308 - accuracy: 0.7659 - val_loss: 10.5233 - val_accuracy: 0.4177\n",
      "Epoch 4/10\n",
      "137/137 [==============================] - 75s 546ms/step - loss: 0.2562 - accuracy: 0.9248 - val_loss: 4.7467 - val_accuracy: 0.5063\n",
      "Epoch 5/10\n",
      "137/137 [==============================] - 74s 541ms/step - loss: 0.1473 - accuracy: 0.9607 - val_loss: 4.9063 - val_accuracy: 0.5162\n",
      "Epoch 6/10\n",
      "137/137 [==============================] - 74s 537ms/step - loss: 0.1171 - accuracy: 0.9673 - val_loss: 8.9874 - val_accuracy: 0.5233\n",
      "Epoch 7/10\n",
      "137/137 [==============================] - 74s 538ms/step - loss: 0.0939 - accuracy: 0.9752 - val_loss: 10.2453 - val_accuracy: 0.5343\n",
      "Epoch 8/10\n",
      "137/137 [==============================] - 74s 537ms/step - loss: 0.0811 - accuracy: 0.9774 - val_loss: 8.8916 - val_accuracy: 0.5425\n",
      "Epoch 9/10\n",
      "137/137 [==============================] - 74s 538ms/step - loss: 0.0840 - accuracy: 0.9771 - val_loss: 10.6896 - val_accuracy: 0.5427\n",
      "Epoch 10/10\n",
      "137/137 [==============================] - 75s 546ms/step - loss: 0.0584 - accuracy: 0.9856 - val_loss: 9.2609 - val_accuracy: 0.5453\n",
      "Duration: 0:12:26.325509\n"
     ]
    }
   ],
   "source": [
    "#4\n",
    "print(n)\n",
    "\n",
    "models_nc[n].fit_model(image_sets_nc[n],label_sets_nc[n],x_val,y_val)\n",
    "n = n+1"
   ]
  },
  {
   "cell_type": "code",
   "execution_count": 102,
   "id": "01a70471",
   "metadata": {},
   "outputs": [
    {
     "name": "stdout",
     "output_type": "stream",
     "text": [
      "5\n",
      "Epoch 1/10\n",
      "165/165 [==============================] - 92s 529ms/step - loss: 2.8615 - accuracy: 0.1662 - val_loss: 8.1425 - val_accuracy: 0.0804\n",
      "Epoch 2/10\n",
      "165/165 [==============================] - 87s 526ms/step - loss: 1.7584 - accuracy: 0.4120 - val_loss: 9.3901 - val_accuracy: 0.3312\n",
      "Epoch 3/10\n",
      "165/165 [==============================] - 88s 532ms/step - loss: 0.5916 - accuracy: 0.8143 - val_loss: 6.4114 - val_accuracy: 0.4578\n",
      "Epoch 4/10\n",
      "165/165 [==============================] - 89s 537ms/step - loss: 0.2169 - accuracy: 0.9384 - val_loss: 9.9784 - val_accuracy: 0.5285\n",
      "Epoch 5/10\n",
      "165/165 [==============================] - 88s 533ms/step - loss: 0.1286 - accuracy: 0.9652 - val_loss: 10.2124 - val_accuracy: 0.5152\n",
      "Epoch 6/10\n",
      "165/165 [==============================] - 95s 579ms/step - loss: 0.1003 - accuracy: 0.9737 - val_loss: 9.6486 - val_accuracy: 0.5527\n",
      "Epoch 7/10\n",
      "165/165 [==============================] - 86s 521ms/step - loss: 0.0851 - accuracy: 0.9791 - val_loss: 9.0275 - val_accuracy: 0.5560\n",
      "Epoch 8/10\n",
      "165/165 [==============================] - 85s 513ms/step - loss: 0.0740 - accuracy: 0.9802 - val_loss: 17.2290 - val_accuracy: 0.5519\n",
      "Epoch 9/10\n",
      "165/165 [==============================] - 84s 509ms/step - loss: 0.0689 - accuracy: 0.9842 - val_loss: 9.9054 - val_accuracy: 0.5568\n",
      "Epoch 10/10\n",
      "165/165 [==============================] - 84s 507ms/step - loss: 0.0546 - accuracy: 0.9881 - val_loss: 9.3359 - val_accuracy: 0.5555\n",
      "Duration: 0:14:36.285719\n"
     ]
    }
   ],
   "source": [
    "n=5\n",
    "print(n)\n",
    "\n",
    "models_nc[n].fit_model(image_sets_nc[n],label_sets_nc[n],x_val,y_val)\n",
    "n = n+1"
   ]
  },
  {
   "cell_type": "code",
   "execution_count": 103,
   "id": "4d0fce3f",
   "metadata": {},
   "outputs": [
    {
     "name": "stdout",
     "output_type": "stream",
     "text": [
      "6\n",
      "Epoch 1/10\n",
      "192/192 [==============================] - 101s 503ms/step - loss: 3.1940 - accuracy: 0.1470 - val_loss: 6.1583 - val_accuracy: 0.0786\n",
      "Epoch 2/10\n",
      "192/192 [==============================] - 96s 499ms/step - loss: 1.6740 - accuracy: 0.4253 - val_loss: 4.7386 - val_accuracy: 0.4343\n",
      "Epoch 3/10\n",
      "192/192 [==============================] - 96s 502ms/step - loss: 0.3719 - accuracy: 0.8934 - val_loss: 9.1510 - val_accuracy: 0.5142\n",
      "Epoch 4/10\n",
      "192/192 [==============================] - 100s 520ms/step - loss: 0.1769 - accuracy: 0.9495 - val_loss: 9.8147 - val_accuracy: 0.5438\n",
      "Epoch 5/10\n",
      "192/192 [==============================] - 100s 521ms/step - loss: 0.1214 - accuracy: 0.9681 - val_loss: 5.6743 - val_accuracy: 0.5448\n",
      "Epoch 6/10\n",
      "192/192 [==============================] - 100s 520ms/step - loss: 0.0871 - accuracy: 0.9755 - val_loss: 11.3790 - val_accuracy: 0.5410\n",
      "Epoch 7/10\n",
      "192/192 [==============================] - 104s 541ms/step - loss: 0.0786 - accuracy: 0.9798 - val_loss: 8.7430 - val_accuracy: 0.5489\n",
      "Epoch 8/10\n",
      "192/192 [==============================] - 100s 521ms/step - loss: 0.0850 - accuracy: 0.9762 - val_loss: 8.7206 - val_accuracy: 0.5570\n",
      "Epoch 9/10\n",
      "192/192 [==============================] - 101s 525ms/step - loss: 0.0663 - accuracy: 0.9845 - val_loss: 10.2605 - val_accuracy: 0.5486\n",
      "Epoch 10/10\n",
      "192/192 [==============================] - 100s 523ms/step - loss: 0.0709 - accuracy: 0.9845 - val_loss: 12.7109 - val_accuracy: 0.5507\n",
      "Duration: 0:16:38.097960\n"
     ]
    }
   ],
   "source": [
    "n=6\n",
    "print(n)\n",
    "\n",
    "models_nc[n].fit_model(image_sets_nc[n],label_sets_nc[n],x_val,y_val)\n",
    "n = n+1"
   ]
  },
  {
   "cell_type": "code",
   "execution_count": 104,
   "id": "a498b007",
   "metadata": {},
   "outputs": [
    {
     "name": "stdout",
     "output_type": "stream",
     "text": [
      "7\n",
      "Epoch 1/10\n",
      "219/219 [==============================] - 118s 517ms/step - loss: 2.7249 - accuracy: 0.1260 - val_loss: 5.6114 - val_accuracy: 0.1990\n",
      "Epoch 2/10\n",
      "219/219 [==============================] - 114s 519ms/step - loss: 1.3056 - accuracy: 0.5521 - val_loss: 6.0110 - val_accuracy: 0.5027\n",
      "Epoch 3/10\n",
      "219/219 [==============================] - 113s 518ms/step - loss: 0.3124 - accuracy: 0.9118 - val_loss: 7.6723 - val_accuracy: 0.5471\n",
      "Epoch 4/10\n",
      "219/219 [==============================] - 114s 520ms/step - loss: 0.1502 - accuracy: 0.9596 - val_loss: 6.4933 - val_accuracy: 0.5542\n",
      "Epoch 5/10\n",
      "219/219 [==============================] - 113s 517ms/step - loss: 0.1030 - accuracy: 0.9735 - val_loss: 5.6000 - val_accuracy: 0.5555\n",
      "Epoch 6/10\n",
      "219/219 [==============================] - 114s 519ms/step - loss: 0.0771 - accuracy: 0.9793 - val_loss: 10.1448 - val_accuracy: 0.5547\n",
      "Epoch 7/10\n",
      "219/219 [==============================] - 113s 518ms/step - loss: 0.0755 - accuracy: 0.9804 - val_loss: 9.4393 - val_accuracy: 0.5632\n",
      "Epoch 8/10\n",
      "219/219 [==============================] - 113s 518ms/step - loss: 0.0566 - accuracy: 0.9854 - val_loss: 10.0862 - val_accuracy: 0.5677\n",
      "Epoch 9/10\n",
      "219/219 [==============================] - 113s 517ms/step - loss: 0.0575 - accuracy: 0.9855 - val_loss: 7.7557 - val_accuracy: 0.5772\n",
      "Epoch 10/10\n",
      "219/219 [==============================] - 116s 528ms/step - loss: 0.0617 - accuracy: 0.9853 - val_loss: 13.2860 - val_accuracy: 0.5606\n",
      "Duration: 0:19:01.210822\n"
     ]
    }
   ],
   "source": [
    "n=7\n",
    "print(n)\n",
    "\n",
    "models_nc[n].fit_model(image_sets_nc[n],label_sets_nc[n],x_val,y_val)\n",
    "n = n+1"
   ]
  },
  {
   "cell_type": "code",
   "execution_count": 105,
   "id": "aa682122",
   "metadata": {},
   "outputs": [
    {
     "name": "stdout",
     "output_type": "stream",
     "text": [
      "8\n",
      "Epoch 1/10\n",
      "247/247 [==============================] - 132s 516ms/step - loss: 2.7474 - accuracy: 0.1364 - val_loss: 3.6525 - val_accuracy: 0.1937\n",
      "Epoch 2/10\n",
      "247/247 [==============================] - 128s 518ms/step - loss: 1.0898 - accuracy: 0.6382 - val_loss: 3.0780 - val_accuracy: 0.4960\n",
      "Epoch 3/10\n",
      "247/247 [==============================] - 128s 518ms/step - loss: 0.2464 - accuracy: 0.9341 - val_loss: 5.7663 - val_accuracy: 0.5558\n",
      "Epoch 4/10\n",
      "247/247 [==============================] - 128s 517ms/step - loss: 0.1469 - accuracy: 0.9639 - val_loss: 10.8314 - val_accuracy: 0.5088\n",
      "Epoch 5/10\n",
      "247/247 [==============================] - 128s 518ms/step - loss: 0.1359 - accuracy: 0.9678 - val_loss: 5.7412 - val_accuracy: 0.5808\n",
      "Epoch 6/10\n",
      "247/247 [==============================] - 128s 519ms/step - loss: 0.0948 - accuracy: 0.9754 - val_loss: 5.0574 - val_accuracy: 0.5879\n",
      "Epoch 7/10\n",
      "247/247 [==============================] - 128s 517ms/step - loss: 0.0797 - accuracy: 0.9781 - val_loss: 5.2154 - val_accuracy: 0.5797\n",
      "Epoch 8/10\n",
      "247/247 [==============================] - 127s 515ms/step - loss: 0.0708 - accuracy: 0.9818 - val_loss: 11.1350 - val_accuracy: 0.5848\n",
      "Epoch 9/10\n",
      "247/247 [==============================] - 127s 515ms/step - loss: 0.0756 - accuracy: 0.9830 - val_loss: 5.9290 - val_accuracy: 0.5917\n",
      "Epoch 10/10\n",
      "247/247 [==============================] - 127s 516ms/step - loss: 0.0839 - accuracy: 0.9784 - val_loss: 9.0804 - val_accuracy: 0.5943\n",
      "Duration: 0:21:20.986210\n"
     ]
    }
   ],
   "source": [
    "n=8\n",
    "print(n)\n",
    "\n",
    "models_nc[n].fit_model(image_sets_nc[n],label_sets_nc[n],x_val,y_val)\n",
    "n = n+1"
   ]
  },
  {
   "cell_type": "code",
   "execution_count": 106,
   "id": "7ec61144",
   "metadata": {},
   "outputs": [
    {
     "name": "stdout",
     "output_type": "stream",
     "text": [
      "9\n",
      "Epoch 1/10\n",
      "274/274 [==============================] - 146s 517ms/step - loss: 2.8771 - accuracy: 0.1218 - val_loss: 5.0074 - val_accuracy: 0.3003\n",
      "Epoch 2/10\n",
      "274/274 [==============================] - 142s 520ms/step - loss: 1.0655 - accuracy: 0.6536 - val_loss: 3.4228 - val_accuracy: 0.5723\n",
      "Epoch 3/10\n",
      "274/274 [==============================] - 143s 522ms/step - loss: 0.2309 - accuracy: 0.9364 - val_loss: 3.6279 - val_accuracy: 0.6338\n",
      "Epoch 4/10\n",
      "274/274 [==============================] - 143s 523ms/step - loss: 0.1494 - accuracy: 0.9628 - val_loss: 6.6400 - val_accuracy: 0.6930\n",
      "Epoch 5/10\n",
      "274/274 [==============================] - 142s 517ms/step - loss: 0.1040 - accuracy: 0.9748 - val_loss: 4.2406 - val_accuracy: 0.7180\n",
      "Epoch 6/10\n",
      "274/274 [==============================] - 141s 516ms/step - loss: 0.0838 - accuracy: 0.9801 - val_loss: 4.1200 - val_accuracy: 0.7129\n",
      "Epoch 7/10\n",
      "274/274 [==============================] - 142s 517ms/step - loss: 0.0841 - accuracy: 0.9781 - val_loss: 5.3346 - val_accuracy: 0.7183\n",
      "Epoch 8/10\n",
      "274/274 [==============================] - 143s 521ms/step - loss: 0.0732 - accuracy: 0.9821 - val_loss: 5.9982 - val_accuracy: 0.7027\n",
      "Epoch 9/10\n",
      "274/274 [==============================] - 160s 585ms/step - loss: 0.0846 - accuracy: 0.9827 - val_loss: 4.4167 - val_accuracy: 0.7247\n",
      "Epoch 10/10\n",
      "274/274 [==============================] - 164s 600ms/step - loss: 0.0842 - accuracy: 0.9813 - val_loss: 6.4748 - val_accuracy: 0.7265\n",
      "Duration: 0:24:27.243931\n"
     ]
    }
   ],
   "source": [
    "#reiniciar la 9\n",
    "print(n)#9\n",
    "\n",
    "models_nc[n].fit_model(image_sets_nc[n],label_sets_nc[n],x_val,y_val)\n",
    "n = n+1"
   ]
  },
  {
   "cell_type": "code",
   "execution_count": 107,
   "id": "e05d85c1",
   "metadata": {},
   "outputs": [
    {
     "name": "stdout",
     "output_type": "stream",
     "text": [
      "10\n",
      "Epoch 1/10\n",
      "301/301 [==============================] - 177s 562ms/step - loss: 2.8452 - accuracy: 0.1213 - val_loss: 4.8083 - val_accuracy: 0.3702\n",
      "Epoch 2/10\n",
      "301/301 [==============================] - 162s 537ms/step - loss: 0.9515 - accuracy: 0.6981 - val_loss: 4.9266 - val_accuracy: 0.6915\n",
      "Epoch 3/10\n",
      "301/301 [==============================] - 162s 537ms/step - loss: 0.2295 - accuracy: 0.9408 - val_loss: 6.8583 - val_accuracy: 0.7224\n",
      "Epoch 4/10\n",
      "301/301 [==============================] - 158s 526ms/step - loss: 0.1308 - accuracy: 0.9663 - val_loss: 5.4077 - val_accuracy: 0.7420\n",
      "Epoch 5/10\n",
      "301/301 [==============================] - 157s 522ms/step - loss: 0.1040 - accuracy: 0.9744 - val_loss: 6.2442 - val_accuracy: 0.7499\n",
      "Epoch 6/10\n",
      "301/301 [==============================] - 157s 522ms/step - loss: 0.0934 - accuracy: 0.9821 - val_loss: 7.0191 - val_accuracy: 0.7487\n",
      "Epoch 7/10\n",
      "301/301 [==============================] - 155s 517ms/step - loss: 0.0765 - accuracy: 0.9832 - val_loss: 5.9231 - val_accuracy: 0.7525\n",
      "Epoch 8/10\n",
      "301/301 [==============================] - 156s 518ms/step - loss: 0.0730 - accuracy: 0.9824 - val_loss: 6.6577 - val_accuracy: 0.7512\n",
      "Epoch 9/10\n",
      "301/301 [==============================] - 156s 520ms/step - loss: 0.0867 - accuracy: 0.9801 - val_loss: 5.4309 - val_accuracy: 0.7530\n",
      "Epoch 10/10\n",
      "301/301 [==============================] - 155s 516ms/step - loss: 0.0832 - accuracy: 0.9821 - val_loss: 5.9523 - val_accuracy: 0.7482\n",
      "Duration: 0:26:35.967078\n"
     ]
    }
   ],
   "source": [
    "print(n)\n",
    "\n",
    "models_nc[n].fit_model(image_sets_nc[n],label_sets_nc[n],x_val,y_val)\n",
    "n = n+1"
   ]
  },
  {
   "cell_type": "code",
   "execution_count": 108,
   "id": "a6081dea",
   "metadata": {},
   "outputs": [
    {
     "name": "stdout",
     "output_type": "stream",
     "text": [
      "11\n",
      "Epoch 1/10\n",
      "329/329 [==============================] - 174s 517ms/step - loss: 2.8425 - accuracy: 0.1329 - val_loss: 4.9431 - val_accuracy: 0.4072\n",
      "Epoch 2/10\n",
      "329/329 [==============================] - 172s 524ms/step - loss: 0.8701 - accuracy: 0.7321 - val_loss: 6.3606 - val_accuracy: 0.7295\n",
      "Epoch 3/10\n",
      "329/329 [==============================] - 171s 520ms/step - loss: 0.2089 - accuracy: 0.9474 - val_loss: 3.2567 - val_accuracy: 0.7359\n",
      "Epoch 4/10\n",
      "329/329 [==============================] - 170s 517ms/step - loss: 0.1195 - accuracy: 0.9693 - val_loss: 3.9127 - val_accuracy: 0.7487\n",
      "Epoch 5/10\n",
      "329/329 [==============================] - 170s 517ms/step - loss: 0.0981 - accuracy: 0.9743 - val_loss: 5.1844 - val_accuracy: 0.7635\n",
      "Epoch 6/10\n",
      "329/329 [==============================] - 170s 517ms/step - loss: 0.0952 - accuracy: 0.9757 - val_loss: 6.6183 - val_accuracy: 0.7719\n",
      "Epoch 7/10\n",
      "329/329 [==============================] - 170s 517ms/step - loss: 0.0760 - accuracy: 0.9803 - val_loss: 8.1563 - val_accuracy: 0.7706\n",
      "Epoch 8/10\n",
      "329/329 [==============================] - 169s 514ms/step - loss: 0.0884 - accuracy: 0.9806 - val_loss: 6.5361 - val_accuracy: 0.7800\n",
      "Epoch 9/10\n",
      "329/329 [==============================] - 170s 516ms/step - loss: 0.0684 - accuracy: 0.9846 - val_loss: 5.9501 - val_accuracy: 0.7859\n",
      "Epoch 10/10\n",
      "329/329 [==============================] - 172s 521ms/step - loss: 0.0712 - accuracy: 0.9837 - val_loss: 12.8006 - val_accuracy: 0.7714\n",
      "Duration: 0:28:28.844879\n"
     ]
    }
   ],
   "source": [
    "print(n)\n",
    "\n",
    "models_nc[n].fit_model(image_sets_nc[n],label_sets_nc[n],x_val,y_val)\n",
    "n = n+1"
   ]
  },
  {
   "cell_type": "code",
   "execution_count": 109,
   "id": "6ee630ca",
   "metadata": {},
   "outputs": [
    {
     "name": "stdout",
     "output_type": "stream",
     "text": [
      "12\n",
      "Epoch 1/10\n",
      "356/356 [==============================] - 189s 518ms/step - loss: 3.0030 - accuracy: 0.1357 - val_loss: 6.1479 - val_accuracy: 0.6035\n",
      "Epoch 2/10\n",
      "356/356 [==============================] - 184s 517ms/step - loss: 0.6098 - accuracy: 0.8183 - val_loss: 2.4592 - val_accuracy: 0.7665\n",
      "Epoch 3/10\n",
      "356/356 [==============================] - 184s 517ms/step - loss: 0.1723 - accuracy: 0.9570 - val_loss: 3.4790 - val_accuracy: 0.7999\n",
      "Epoch 4/10\n",
      "356/356 [==============================] - 183s 515ms/step - loss: 0.1166 - accuracy: 0.9715 - val_loss: 5.3748 - val_accuracy: 0.8221\n",
      "Epoch 5/10\n",
      "356/356 [==============================] - 184s 516ms/step - loss: 0.0838 - accuracy: 0.9810 - val_loss: 5.9516 - val_accuracy: 0.8288\n",
      "Epoch 6/10\n",
      "356/356 [==============================] - 184s 516ms/step - loss: 0.0729 - accuracy: 0.9810 - val_loss: 6.0545 - val_accuracy: 0.8216\n",
      "Epoch 7/10\n",
      "356/356 [==============================] - 184s 516ms/step - loss: 0.0650 - accuracy: 0.9851 - val_loss: 3.8365 - val_accuracy: 0.8306\n",
      "Epoch 8/10\n",
      "356/356 [==============================] - 183s 514ms/step - loss: 0.0643 - accuracy: 0.9841 - val_loss: 8.2063 - val_accuracy: 0.8283\n",
      "Epoch 9/10\n",
      "356/356 [==============================] - 183s 514ms/step - loss: 0.0746 - accuracy: 0.9846 - val_loss: 5.7119 - val_accuracy: 0.8359\n",
      "Epoch 10/10\n",
      "356/356 [==============================] - 185s 520ms/step - loss: 0.0563 - accuracy: 0.9874 - val_loss: 6.3623 - val_accuracy: 0.8387\n",
      "Duration: 0:30:42.698014\n"
     ]
    }
   ],
   "source": [
    "print(n)\n",
    "\n",
    "models_nc[n].fit_model(image_sets_nc[n],label_sets_nc[n],x_val,y_val)\n",
    "n = n+1"
   ]
  },
  {
   "cell_type": "code",
   "execution_count": 110,
   "id": "b333726b",
   "metadata": {},
   "outputs": [
    {
     "name": "stdout",
     "output_type": "stream",
     "text": [
      "13\n",
      "Epoch 1/10\n",
      "383/383 [==============================] - 204s 518ms/step - loss: 3.1827 - accuracy: 0.1150 - val_loss: 3.7307 - val_accuracy: 0.5609\n",
      "Epoch 2/10\n",
      "383/383 [==============================] - 200s 522ms/step - loss: 0.7264 - accuracy: 0.7778 - val_loss: 3.3003 - val_accuracy: 0.7874\n",
      "Epoch 3/10\n",
      "383/383 [==============================] - 199s 521ms/step - loss: 0.2286 - accuracy: 0.9458 - val_loss: 3.9308 - val_accuracy: 0.8267\n",
      "Epoch 4/10\n",
      "383/383 [==============================] - 198s 518ms/step - loss: 0.1269 - accuracy: 0.9689 - val_loss: 4.6978 - val_accuracy: 0.8331\n",
      "Epoch 5/10\n",
      "383/383 [==============================] - 198s 518ms/step - loss: 0.1073 - accuracy: 0.9749 - val_loss: 2.8663 - val_accuracy: 0.8130\n",
      "Epoch 6/10\n",
      "383/383 [==============================] - 198s 517ms/step - loss: 0.0828 - accuracy: 0.9786 - val_loss: 3.0880 - val_accuracy: 0.8395\n",
      "Epoch 7/10\n",
      "383/383 [==============================] - 198s 517ms/step - loss: 0.0746 - accuracy: 0.9820 - val_loss: 5.4964 - val_accuracy: 0.8372\n",
      "Epoch 8/10\n",
      "383/383 [==============================] - 198s 517ms/step - loss: 0.0762 - accuracy: 0.9834 - val_loss: 5.8864 - val_accuracy: 0.8387\n",
      "Epoch 9/10\n",
      "383/383 [==============================] - 199s 520ms/step - loss: 0.0846 - accuracy: 0.9806 - val_loss: 7.0163 - val_accuracy: 0.8369\n",
      "Epoch 10/10\n",
      "383/383 [==============================] - 198s 516ms/step - loss: 0.0782 - accuracy: 0.9838 - val_loss: 4.4173 - val_accuracy: 0.8380\n",
      "Duration: 0:33:11.623950\n"
     ]
    }
   ],
   "source": [
    "n=13\n",
    "print(n)\n",
    "\n",
    "models_nc[n].fit_model(image_sets_nc[n],label_sets_nc[n],x_val,y_val)\n",
    "n = n+1"
   ]
  },
  {
   "cell_type": "code",
   "execution_count": 111,
   "id": "a1956bc5",
   "metadata": {},
   "outputs": [
    {
     "name": "stdout",
     "output_type": "stream",
     "text": [
      "14\n",
      "Epoch 1/10\n",
      "411/411 [==============================] - 218s 521ms/step - loss: 3.0432 - accuracy: 0.1456 - val_loss: 2.9755 - val_accuracy: 0.7170\n",
      "Epoch 2/10\n",
      "411/411 [==============================] - 214s 522ms/step - loss: 0.4789 - accuracy: 0.8691 - val_loss: 2.9863 - val_accuracy: 0.8298\n",
      "Epoch 3/10\n",
      "411/411 [==============================] - 214s 522ms/step - loss: 0.1592 - accuracy: 0.9620 - val_loss: 1.9737 - val_accuracy: 0.8329\n",
      "Epoch 4/10\n",
      "411/411 [==============================] - 214s 521ms/step - loss: 0.1051 - accuracy: 0.9748 - val_loss: 2.8013 - val_accuracy: 0.8441\n",
      "Epoch 5/10\n",
      "411/411 [==============================] - 214s 521ms/step - loss: 0.0984 - accuracy: 0.9777 - val_loss: 2.4237 - val_accuracy: 0.8502\n",
      "Epoch 6/10\n",
      "411/411 [==============================] - 216s 527ms/step - loss: 0.0892 - accuracy: 0.9792 - val_loss: 3.6380 - val_accuracy: 0.8533\n",
      "Epoch 7/10\n",
      "411/411 [==============================] - 214s 520ms/step - loss: 0.0858 - accuracy: 0.9789 - val_loss: 4.1868 - val_accuracy: 0.8492\n",
      "Epoch 8/10\n",
      "411/411 [==============================] - 213s 518ms/step - loss: 0.0809 - accuracy: 0.9822 - val_loss: 2.1963 - val_accuracy: 0.8045\n",
      "Epoch 9/10\n",
      "411/411 [==============================] - 213s 518ms/step - loss: 0.0831 - accuracy: 0.9819 - val_loss: 3.9278 - val_accuracy: 0.8523\n",
      "Epoch 10/10\n",
      "411/411 [==============================] - 216s 525ms/step - loss: 0.0925 - accuracy: 0.9809 - val_loss: 2.2358 - val_accuracy: 0.8676\n",
      "Duration: 0:35:47.101060\n"
     ]
    }
   ],
   "source": [
    "#14\n",
    "n=14\n",
    "print(n)\n",
    "\n",
    "models_nc[n].fit_model(image_sets_nc[n],label_sets_nc[n],x_val,y_val)\n",
    "n = n+1"
   ]
  },
  {
   "cell_type": "code",
   "execution_count": 112,
   "id": "8657006a",
   "metadata": {},
   "outputs": [],
   "source": [
    "time.sleep(180)"
   ]
  },
  {
   "cell_type": "code",
   "execution_count": 113,
   "id": "4b7c1dd9",
   "metadata": {},
   "outputs": [
    {
     "name": "stdout",
     "output_type": "stream",
     "text": [
      "15\n",
      "Epoch 1/10\n",
      "438/438 [==============================] - 222s 496ms/step - loss: 3.1994 - accuracy: 0.1167 - val_loss: 3.0637 - val_accuracy: 0.6849\n",
      "Epoch 2/10\n",
      "438/438 [==============================] - 234s 533ms/step - loss: 0.6591 - accuracy: 0.8211 - val_loss: 1.9588 - val_accuracy: 0.8392\n",
      "Epoch 3/10\n",
      "438/438 [==============================] - 236s 539ms/step - loss: 0.1920 - accuracy: 0.9543 - val_loss: 2.0220 - val_accuracy: 0.8497\n",
      "Epoch 4/10\n",
      "438/438 [==============================] - 227s 518ms/step - loss: 0.1268 - accuracy: 0.9711 - val_loss: 2.0482 - val_accuracy: 0.8643\n",
      "Epoch 5/10\n",
      "438/438 [==============================] - 230s 524ms/step - loss: 0.1162 - accuracy: 0.9733 - val_loss: 3.3673 - val_accuracy: 0.8778\n",
      "Epoch 6/10\n",
      "438/438 [==============================] - 226s 517ms/step - loss: 0.0942 - accuracy: 0.9774 - val_loss: 1.9529 - val_accuracy: 0.8806\n",
      "Epoch 7/10\n",
      "438/438 [==============================] - 227s 518ms/step - loss: 0.0945 - accuracy: 0.9773 - val_loss: 2.4482 - val_accuracy: 0.8826\n",
      "Epoch 8/10\n",
      "438/438 [==============================] - 227s 518ms/step - loss: 0.0995 - accuracy: 0.9790 - val_loss: 1.1808 - val_accuracy: 0.8408\n",
      "Epoch 9/10\n",
      "438/438 [==============================] - 234s 535ms/step - loss: 0.0992 - accuracy: 0.9795 - val_loss: 2.7031 - val_accuracy: 0.8900\n",
      "Epoch 10/10\n",
      "438/438 [==============================] - 244s 557ms/step - loss: 0.0842 - accuracy: 0.9812 - val_loss: 3.6517 - val_accuracy: 0.8854\n",
      "Duration: 0:38:26.226325\n"
     ]
    }
   ],
   "source": [
    "\n",
    "print(n)\n",
    "\n",
    "models_nc[n].fit_model(image_sets_nc[n],label_sets_nc[n],x_val,y_val)\n",
    "n = n+1"
   ]
  },
  {
   "cell_type": "code",
   "execution_count": 114,
   "id": "e334ecca",
   "metadata": {},
   "outputs": [],
   "source": [
    "time.sleep(180)"
   ]
  },
  {
   "cell_type": "code",
   "execution_count": 115,
   "id": "7aedeb81",
   "metadata": {},
   "outputs": [
    {
     "name": "stdout",
     "output_type": "stream",
     "text": [
      "16\n",
      "Epoch 1/10\n",
      "465/465 [==============================] - 249s 526ms/step - loss: 3.1819 - accuracy: 0.1107 - val_loss: 2.2403 - val_accuracy: 0.7050\n",
      "Epoch 2/10\n",
      "465/465 [==============================] - 251s 540ms/step - loss: 0.6530 - accuracy: 0.8192 - val_loss: 1.5529 - val_accuracy: 0.8933\n",
      "Epoch 3/10\n",
      "465/465 [==============================] - 247s 530ms/step - loss: 0.1968 - accuracy: 0.9471 - val_loss: 1.3727 - val_accuracy: 0.9199\n",
      "Epoch 4/10\n",
      "465/465 [==============================] - 247s 530ms/step - loss: 0.1401 - accuracy: 0.9644 - val_loss: 1.4427 - val_accuracy: 0.9296\n",
      "Epoch 5/10\n",
      "465/465 [==============================] - 246s 530ms/step - loss: 0.1082 - accuracy: 0.9715 - val_loss: 1.2549 - val_accuracy: 0.9324\n",
      "Epoch 6/10\n",
      "465/465 [==============================] - 247s 532ms/step - loss: 0.0948 - accuracy: 0.9758 - val_loss: 1.4314 - val_accuracy: 0.9314\n",
      "Epoch 7/10\n",
      "465/465 [==============================] - 246s 529ms/step - loss: 0.0906 - accuracy: 0.9773 - val_loss: 1.9559 - val_accuracy: 0.9352\n",
      "Epoch 8/10\n",
      "465/465 [==============================] - 246s 530ms/step - loss: 0.0875 - accuracy: 0.9778 - val_loss: 1.4289 - val_accuracy: 0.9380\n",
      "Epoch 9/10\n",
      "465/465 [==============================] - 247s 531ms/step - loss: 0.0885 - accuracy: 0.9788 - val_loss: 1.4885 - val_accuracy: 0.9393\n",
      "Epoch 10/10\n",
      "465/465 [==============================] - 245s 527ms/step - loss: 0.0998 - accuracy: 0.9781 - val_loss: 1.9965 - val_accuracy: 0.9382\n",
      "Duration: 0:41:10.537247\n"
     ]
    }
   ],
   "source": [
    "n=16\n",
    "print(n)\n",
    "\n",
    "models_nc[n].fit_model(image_sets_nc[n],label_sets_nc[n],x_val,y_val)\n",
    "n = n+1"
   ]
  },
  {
   "cell_type": "code",
   "execution_count": null,
   "id": "e6a18ea8",
   "metadata": {},
   "outputs": [],
   "source": []
  },
  {
   "cell_type": "code",
   "execution_count": 116,
   "id": "26e3e080",
   "metadata": {},
   "outputs": [
    {
     "name": "stdout",
     "output_type": "stream",
     "text": [
      "17\n",
      "Epoch 1/10\n",
      "493/493 [==============================] - 264s 526ms/step - loss: 3.2945 - accuracy: 0.0946 - val_loss: 1.9581 - val_accuracy: 0.5764\n",
      "Epoch 2/10\n",
      "493/493 [==============================] - 262s 532ms/step - loss: 0.8118 - accuracy: 0.7675 - val_loss: 2.1105 - val_accuracy: 0.8694\n",
      "Epoch 3/10\n",
      "493/493 [==============================] - 261s 530ms/step - loss: 0.2229 - accuracy: 0.9400 - val_loss: 1.8059 - val_accuracy: 0.9291\n",
      "Epoch 4/10\n",
      "493/493 [==============================] - 260s 526ms/step - loss: 0.1468 - accuracy: 0.9604 - val_loss: 1.0766 - val_accuracy: 0.9510\n",
      "Epoch 5/10\n",
      "493/493 [==============================] - 260s 526ms/step - loss: 0.1093 - accuracy: 0.9705 - val_loss: 1.7042 - val_accuracy: 0.9492\n",
      "Epoch 6/10\n",
      "493/493 [==============================] - 264s 535ms/step - loss: 0.0944 - accuracy: 0.9747 - val_loss: 2.4801 - val_accuracy: 0.9510\n",
      "Epoch 7/10\n",
      "493/493 [==============================] - 261s 529ms/step - loss: 0.0893 - accuracy: 0.9784 - val_loss: 2.3685 - val_accuracy: 0.9520\n",
      "Epoch 8/10\n",
      "493/493 [==============================] - 263s 533ms/step - loss: 0.0891 - accuracy: 0.9778 - val_loss: 1.0426 - val_accuracy: 0.9462\n",
      "Epoch 9/10\n",
      "493/493 [==============================] - 260s 526ms/step - loss: 0.0957 - accuracy: 0.9782 - val_loss: 1.8692 - val_accuracy: 0.9523\n",
      "Epoch 10/10\n",
      "493/493 [==============================] - 260s 527ms/step - loss: 0.0887 - accuracy: 0.9769 - val_loss: 1.6944 - val_accuracy: 0.9597\n",
      "Duration: 0:43:33.315583\n"
     ]
    }
   ],
   "source": [
    "n=17\n",
    "print(n)\n",
    "\n",
    "models_nc[n].fit_model(image_sets_nc[n],label_sets_nc[n],x_val,y_val)\n",
    "n = n+1 "
   ]
  },
  {
   "cell_type": "code",
   "execution_count": 117,
   "id": "14409d0f",
   "metadata": {},
   "outputs": [
    {
     "name": "stdout",
     "output_type": "stream",
     "text": [
      "18\n",
      "Epoch 1/10\n",
      "520/520 [==============================] - 277s 525ms/step - loss: 3.3055 - accuracy: 0.1011 - val_loss: 1.4831 - val_accuracy: 0.6683\n",
      "Epoch 2/10\n",
      "520/520 [==============================] - 274s 528ms/step - loss: 0.7583 - accuracy: 0.7733 - val_loss: 1.0005 - val_accuracy: 0.9434\n",
      "Epoch 3/10\n",
      "520/520 [==============================] - 276s 531ms/step - loss: 0.2124 - accuracy: 0.9400 - val_loss: 0.7849 - val_accuracy: 0.9513\n",
      "Epoch 4/10\n",
      "520/520 [==============================] - 273s 526ms/step - loss: 0.1325 - accuracy: 0.9645 - val_loss: 0.7746 - val_accuracy: 0.9582\n",
      "Epoch 5/10\n",
      "520/520 [==============================] - 273s 525ms/step - loss: 0.1056 - accuracy: 0.9713 - val_loss: 0.9962 - val_accuracy: 0.9525\n",
      "Epoch 6/10\n",
      "520/520 [==============================] - 273s 526ms/step - loss: 0.0964 - accuracy: 0.9758 - val_loss: 0.6761 - val_accuracy: 0.9564\n",
      "Epoch 7/10\n",
      "520/520 [==============================] - 274s 528ms/step - loss: 0.0869 - accuracy: 0.9771 - val_loss: 0.7817 - val_accuracy: 0.9576\n",
      "Epoch 8/10\n",
      "520/520 [==============================] - 275s 528ms/step - loss: 0.0876 - accuracy: 0.9781 - val_loss: 0.6373 - val_accuracy: 0.9620\n",
      "Epoch 9/10\n",
      "520/520 [==============================] - 273s 525ms/step - loss: 0.0796 - accuracy: 0.9800 - val_loss: 1.0954 - val_accuracy: 0.9622\n",
      "Epoch 10/10\n",
      "520/520 [==============================] - 273s 525ms/step - loss: 0.0932 - accuracy: 0.9786 - val_loss: 0.8361 - val_accuracy: 0.9625\n",
      "Duration: 0:45:43.302714\n"
     ]
    }
   ],
   "source": [
    "print(n)\n",
    "\n",
    "models_nc[n].fit_model(image_sets_nc[n],label_sets_nc[n],x_val,y_val)\n",
    "n = n+1"
   ]
  },
  {
   "cell_type": "code",
   "execution_count": 120,
   "id": "78afe372",
   "metadata": {},
   "outputs": [
    {
     "name": "stdout",
     "output_type": "stream",
     "text": [
      "19\n",
      "Epoch 1/10\n",
      "547/547 [==============================] - 253s 457ms/step - loss: 0.1609 - accuracy: 0.9611 - val_loss: 0.0272 - val_accuracy: 0.9941\n",
      "Epoch 2/10\n",
      "547/547 [==============================] - 253s 463ms/step - loss: 0.1422 - accuracy: 0.9642 - val_loss: 0.0270 - val_accuracy: 0.9949\n",
      "Epoch 3/10\n",
      "547/547 [==============================] - 267s 488ms/step - loss: 0.1252 - accuracy: 0.9686 - val_loss: 0.0179 - val_accuracy: 0.9954\n",
      "Epoch 4/10\n",
      "547/547 [==============================] - 282s 516ms/step - loss: 0.1239 - accuracy: 0.9712 - val_loss: 0.0594 - val_accuracy: 0.9857\n",
      "Epoch 5/10\n",
      "547/547 [==============================] - 283s 517ms/step - loss: 0.1255 - accuracy: 0.9704 - val_loss: 0.0220 - val_accuracy: 0.9949\n",
      "Epoch 6/10\n",
      "547/547 [==============================] - 282s 516ms/step - loss: 0.1356 - accuracy: 0.9690 - val_loss: 0.0386 - val_accuracy: 0.9944\n",
      "Epoch 7/10\n",
      "547/547 [==============================] - 282s 516ms/step - loss: 0.1361 - accuracy: 0.9693 - val_loss: 0.0267 - val_accuracy: 0.9959\n",
      "Epoch 8/10\n",
      "547/547 [==============================] - 345s 631ms/step - loss: 0.1394 - accuracy: 0.9700 - val_loss: 0.0590 - val_accuracy: 0.9898\n",
      "Epoch 9/10\n",
      "547/547 [==============================] - 289s 529ms/step - loss: 0.1495 - accuracy: 0.9685 - val_loss: 0.0481 - val_accuracy: 0.9893\n",
      "Epoch 10/10\n",
      "547/547 [==============================] - 277s 506ms/step - loss: 0.1597 - accuracy: 0.9675 - val_loss: 0.0418 - val_accuracy: 0.9893\n",
      "Duration: 0:46:54.426630\n"
     ]
    }
   ],
   "source": [
    "n=19\n",
    "print(n)\n",
    "\n",
    "models_nc[n].fit_model(image_sets_nc[n],label_sets_nc[n],x_val,y_val)\n",
    "n = n+1"
   ]
  },
  {
   "cell_type": "code",
   "execution_count": 121,
   "id": "1b3e5f1c",
   "metadata": {},
   "outputs": [
    {
     "name": "stdout",
     "output_type": "stream",
     "text": [
      "20\n",
      "Epoch 1/10\n",
      "552/552 [==============================] - 297s 529ms/step - loss: 3.2910 - accuracy: 0.1303 - val_loss: 0.7808 - val_accuracy: 0.7591\n",
      "Epoch 2/10\n",
      "552/552 [==============================] - 300s 544ms/step - loss: 0.5593 - accuracy: 0.8335 - val_loss: 0.1318 - val_accuracy: 0.9589\n",
      "Epoch 3/10\n",
      "552/552 [==============================] - 289s 524ms/step - loss: 0.1856 - accuracy: 0.9479 - val_loss: 0.0337 - val_accuracy: 0.9923\n",
      "Epoch 4/10\n",
      "552/552 [==============================] - 284s 514ms/step - loss: 0.1229 - accuracy: 0.9654 - val_loss: 0.0295 - val_accuracy: 0.9929\n",
      "Epoch 5/10\n",
      "552/552 [==============================] - 284s 514ms/step - loss: 0.0920 - accuracy: 0.9740 - val_loss: 0.0288 - val_accuracy: 0.9944\n",
      "Epoch 6/10\n",
      "552/552 [==============================] - 283s 513ms/step - loss: 0.0822 - accuracy: 0.9779 - val_loss: 0.0369 - val_accuracy: 0.9939\n",
      "Epoch 7/10\n",
      "552/552 [==============================] - 286s 517ms/step - loss: 0.0794 - accuracy: 0.9806 - val_loss: 0.0300 - val_accuracy: 0.9957\n",
      "Epoch 8/10\n",
      "552/552 [==============================] - 284s 514ms/step - loss: 0.0737 - accuracy: 0.9791 - val_loss: 0.0336 - val_accuracy: 0.9954\n",
      "Epoch 9/10\n",
      "552/552 [==============================] - 284s 515ms/step - loss: 0.0793 - accuracy: 0.9795 - val_loss: 0.0270 - val_accuracy: 0.9959\n",
      "Epoch 10/10\n",
      "552/552 [==============================] - 283s 513ms/step - loss: 0.0761 - accuracy: 0.9820 - val_loss: 0.0255 - val_accuracy: 0.9964\n",
      "Duration: 0:47:54.296514\n"
     ]
    }
   ],
   "source": [
    "n=20\n",
    "print(n)\n",
    "\n",
    "models_nc[n].fit_model(image_sets_nc[n],label_sets_nc[n],x_val,y_val)\n",
    "n = n+1"
   ]
  },
  {
   "cell_type": "code",
   "execution_count": 122,
   "id": "cbc65556",
   "metadata": {},
   "outputs": [
    {
     "name": "stdout",
     "output_type": "stream",
     "text": [
      "INFO:tensorflow:Assets written to: D:/models/aug_22/gtsrb/C1/gtsrb_model_c1_aug_nc_e1_19\\assets\n",
      "Model has been saved\n",
      "INFO:tensorflow:Assets written to: D:/models/aug_22/gtsrb/C1/gtsrb_model_c1_aug_nc_e1_20\\assets\n",
      "Model has been saved\n"
     ]
    }
   ],
   "source": [
    "new_model_nc_dir  = \"D:/models/aug_22/gtsrb/C1/gtsrb_model_c1_aug_nc_e1\"\n",
    "\n",
    "i=19\n",
    "\n",
    "for model in models_nc[19:]:\n",
    "    model.save(new_model_nc_dir+\"_\"+str(i))\n",
    "    i+=1"
   ]
  },
  {
   "cell_type": "code",
   "execution_count": null,
   "id": "7931428f",
   "metadata": {},
   "outputs": [],
   "source": [
    "loading = False\n",
    "\n",
    "models_nc = []\n",
    "\n",
    "if loading:\n",
    "    for i in range(20):\n",
    "        model_nc_dir = \"D:/models/aug_22/gtsrb/C1/gtsrb_model_c1_aug_nc_e1\"+str(i)\n",
    "        print(model_nc_dir)\n",
    "        model =utils.My_model(dataset,True,model_nc_dir)\n",
    "        model.model.compile(loss= 'categorical_crossentropy', optimizer = 'rmsprop', metrics = ['accuracy',tf.keras.metrics.Precision(), tf.keras.metrics.Recall()])\n",
    "        models_nc.append(model)\n",
    "       "
   ]
  },
  {
   "cell_type": "code",
   "execution_count": 123,
   "id": "66fa31cc",
   "metadata": {},
   "outputs": [],
   "source": [
    "try:\n",
    "    del nc_values\n",
    "    del top_images_by_nc\n",
    "    del top_labels_by_nc\n",
    "    del image_sets_nc\n",
    "    del label_sets_nc\n",
    "    del models_nc\n",
    "except:\n",
    "    print(\"Error\")"
   ]
  },
  {
   "cell_type": "code",
   "execution_count": 124,
   "id": "dbc6f3a6",
   "metadata": {},
   "outputs": [
    {
     "data": {
      "text/plain": [
       "110759"
      ]
     },
     "execution_count": 124,
     "metadata": {},
     "output_type": "execute_result"
    }
   ],
   "source": [
    "gc.collect()"
   ]
  },
  {
   "cell_type": "markdown",
   "id": "2b428980",
   "metadata": {},
   "source": [
    "## Evaluating"
   ]
  },
  {
   "cell_type": "code",
   "execution_count": null,
   "id": "e6300f23",
   "metadata": {},
   "outputs": [],
   "source": [
    "model_original.model.compile(loss= 'categorical_crossentropy', optimizer = 'rmsprop', metrics = ['accuracy',tf.keras.metrics.Precision(), tf.keras.metrics.Recall()])"
   ]
  },
  {
   "cell_type": "code",
   "execution_count": null,
   "id": "fd074ff2",
   "metadata": {},
   "outputs": [],
   "source": [
    "# Metrics using adversarial test\n",
    "evaluate_lsa_0 = []\n",
    "evaluate_dsa_0 = []\n",
    "evaluate_nc_0 = []\n",
    "evaluate_random_0 = []\n",
    "\n",
    "evaluate_lsa_0.append(model_original.evaluate(x_adversary_test_fgsm,y_adversary_test_fgsm))\n",
    "evaluate_dsa_0.append(model_original.evaluate(x_adversary_test_fgsm,y_adversary_test_fgsm))\n",
    "evaluate_nc_0.append(model_original.evaluate(x_adversary_test_fgsm,y_adversary_test_fgsm))\n",
    "evaluate_random_0.append(model_original.evaluate(x_adversary_test_fgsm,y_adversary_test_fgsm))\n",
    "\n",
    "for model in models_lsa:\n",
    "    evaluate_lsa_0.append(model.evaluate(x_adversary_test_fgsm,y_adversary_test_fgsm))\n",
    "    \n",
    "for model in models_dsa:\n",
    "    evaluate_dsa_0.append(model.evaluate(x_adversary_test_fgsm,y_adversary_test_fgsm))\n",
    "    \n",
    "for model in models_random:\n",
    "    evaluate_random_0.append(model.evaluate(x_adversary_test_fgsm,y_adversary_test_fgsm))\n",
    "    \n",
    "for model in models_nc:\n",
    "    evaluate_nc_0.append(model.evaluate(x_adversary_test_fgsm,y_adversary_test_fgsm))"
   ]
  },
  {
   "cell_type": "code",
   "execution_count": null,
   "id": "889a2bb6",
   "metadata": {},
   "outputs": [],
   "source": [
    "evaluate_lsa_0[0]=[0,0,0,0]\n",
    "evaluate_dsa_0[0]=[0,0,0,0]\n",
    "evaluate_random_0[0]=[0,0,0,0]\n",
    "evaluate_nc_0[0]=[0,0,0,0]"
   ]
  },
  {
   "cell_type": "code",
   "execution_count": null,
   "id": "11b4b138",
   "metadata": {},
   "outputs": [],
   "source": [
    "print(len(evaluate_lsa_0))\n",
    "print(len(evaluate_dsa_0))\n",
    "print(len(evaluate_random_0))\n",
    "print(len(evaluate_nc_0))"
   ]
  },
  {
   "cell_type": "code",
   "execution_count": null,
   "id": "1d1c6ec0",
   "metadata": {
    "scrolled": true
   },
   "outputs": [],
   "source": [
    "# Metrics using original test\n",
    "evaluate_lsa_1 = []\n",
    "evaluate_dsa_1 = []\n",
    "evaluate_nc_1 = []\n",
    "evaluate_random_1 = []\n",
    "\n",
    "evaluate_lsa_1.append(model_original.evaluate(x_test,y_test))\n",
    "evaluate_dsa_1.append(model_original.evaluate(x_test,y_test))\n",
    "evaluate_nc_1.append(model_original.evaluate(x_test,y_test))\n",
    "evaluate_random_1.append(model_original.evaluate(x_test,y_test))\n",
    "print(\"lsa---\")\n",
    "for model in models_lsa:\n",
    "    evaluate_lsa_1.append(model.evaluate(x_test,y_test))\n",
    "\n",
    "print(\"dsa---\")\n",
    "    \n",
    "for model in models_dsa:\n",
    "    evaluate_dsa_1.append(model.evaluate(x_test,y_test))\n",
    "    \n",
    "\n",
    "print(\"random---\")\n",
    "\n",
    "for model in models_random:\n",
    "    evaluate_random_1.append(model.evaluate(x_test,y_test))\n",
    "    \n",
    "print(\"nc---\")\n",
    "\n",
    "for model in models_nc:\n",
    "    evaluate_nc_1.append(model.evaluate(x_test,y_test))\n"
   ]
  },
  {
   "cell_type": "code",
   "execution_count": null,
   "id": "3968b39d",
   "metadata": {},
   "outputs": [],
   "source": [
    "evaluate_lsa_1[0]=[0,0,0,0]\n",
    "evaluate_dsa_1[0]=[0,0,0,0]\n",
    "evaluate_random_1[0]=[0,0,0,0]\n",
    "evaluate_nc_1[0]=[0,0,0,0]"
   ]
  },
  {
   "cell_type": "code",
   "execution_count": null,
   "id": "85dd3308",
   "metadata": {},
   "outputs": [],
   "source": [
    "\n",
    "print(len(evaluate_lsa_1))\n",
    "print(len(evaluate_dsa_1))\n",
    "print(len(evaluate_random_1))\n",
    "print(len(evaluate_nc_1))"
   ]
  },
  {
   "cell_type": "code",
   "execution_count": null,
   "id": "641ef7af",
   "metadata": {},
   "outputs": [],
   "source": [
    "type(evaluate_dsa_0[0][0])"
   ]
  },
  {
   "cell_type": "code",
   "execution_count": null,
   "id": "8c45b340",
   "metadata": {},
   "outputs": [],
   "source": [
    "import pandas as pd\n",
    "\n",
    "df_evaluate_lsa_0 = pd.DataFrame(np.array(evaluate_lsa_0),columns=[\"loss\",\"accuracy\",\"precision\",\"recall\"])\n",
    "df_evaluate_lsa_1 = pd.DataFrame(np.array(evaluate_lsa_1),columns=[\"loss\",\"accuracy\",\"precision\",\"recall\"])\n",
    "df_evaluate_dsa_0 = pd.DataFrame(np.array(evaluate_dsa_0),columns=[\"loss\",\"accuracy\",\"precision\",\"recall\"])\n",
    "df_evaluate_dsa_1 = pd.DataFrame(np.array(evaluate_dsa_1),columns=[\"loss\",\"accuracy\",\"precision\",\"recall\"])\n",
    "\n",
    "df_evaluate_random_0 = pd.DataFrame(np.array(evaluate_random_0),columns=[\"loss\",\"accuracy\",\"precision\",\"recall\"])\n",
    "df_evaluate_random_1 = pd.DataFrame(np.array(evaluate_random_1),columns=[\"loss\",\"accuracy\",\"precision\",\"recall\"])\n",
    "df_evaluate_nc_0 = pd.DataFrame(np.array(evaluate_nc_0),columns=[\"loss\",\"accuracy\",\"precision\",\"recall\"])\n",
    "df_evaluate_nc_1 = pd.DataFrame(np.array(evaluate_nc_1),columns=[\"loss\",\"accuracy\",\"precision\",\"recall\"])\n"
   ]
  },
  {
   "cell_type": "code",
   "execution_count": null,
   "id": "5fbac3f0",
   "metadata": {},
   "outputs": [],
   "source": [
    "# Original test set + adversarial set\n",
    "\n",
    "metric =\"accuracy\"\n",
    "accuracy_lsa_3 = (np.array(df_evaluate_lsa_0[metric])+np.array(df_evaluate_lsa_1[metric]))/2\n",
    "accuracy_dsa_3 = (np.array(df_evaluate_dsa_0[metric])+np.array(df_evaluate_dsa_1[metric]))/2\n",
    "accuracy_nc_3 = (np.array(df_evaluate_nc_0[metric])+np.array(df_evaluate_nc_1[metric]))/2\n",
    "accuracy_random_3 = (np.array(df_evaluate_random_0[metric])+np.array(df_evaluate_random_1[metric]))/2\n"
   ]
  },
  {
   "cell_type": "markdown",
   "id": "c0edc866",
   "metadata": {},
   "source": [
    "## Charts"
   ]
  },
  {
   "cell_type": "code",
   "execution_count": null,
   "id": "db32b23d",
   "metadata": {},
   "outputs": [],
   "source": [
    "n_inputs = [1800*i for i in range(20)]\n",
    "n_inputs.append(len(x_train_and_adversary))"
   ]
  },
  {
   "cell_type": "code",
   "execution_count": null,
   "id": "0e5d823a",
   "metadata": {},
   "outputs": [],
   "source": [
    "print(n_inputs)"
   ]
  },
  {
   "cell_type": "code",
   "execution_count": null,
   "id": "4feb0d30",
   "metadata": {},
   "outputs": [],
   "source": [
    "cd \"C:/Users/fjdur/Desktop/gtsrb_graphs/e2_graphs_dec/\""
   ]
  },
  {
   "cell_type": "code",
   "execution_count": null,
   "id": "bc3a0bf7",
   "metadata": {},
   "outputs": [],
   "source": [
    "linestyles = ['solid','dotted','dashed','dashdot']\n",
    "colors =['k','k','k','k']"
   ]
  },
  {
   "cell_type": "code",
   "execution_count": null,
   "id": "fde130ed",
   "metadata": {},
   "outputs": [],
   "source": [
    "#configuration 1\n",
    "\"\"\"\n",
    "6) Incremental guided retraining starting from the original model using only the new adversarial inputs.\n",
    "Incremental training, starting with the previous trained model. Using at each iteration a subset of the new inputs.\n",
    "\"\"\"\n",
    "import matplotlib.pyplot as plt\n",
    "import matplotlib.patches as mpatches\n",
    "from matplotlib.patches import Patch\n",
    "from matplotlib.lines import Line2D\n",
    "\n",
    "#metric = \"accuracy\" # accuracy loss\n",
    "my_metrics =[\"accuracy\",\"loss\",\"precision\",\"recall\"]\n",
    "\n",
    "for metric in my_metrics:\n",
    "    plt.clf()\n",
    "    plt.plot(n_inputs,df_evaluate_lsa_0[metric],colors[0],linestyle=linestyles[0])\n",
    "    plt.plot(n_inputs,df_evaluate_dsa_0[metric],colors[1],linestyle=linestyles[1])\n",
    "    plt.plot(n_inputs,df_evaluate_random_0[metric],colors[2],linestyle=linestyles[2])\n",
    "    plt.plot(n_inputs,df_evaluate_nc_0[metric],colors[3],linestyle=linestyles[3])\n",
    "\n",
    "\n",
    "    legend_elements = [Line2D([0], [0], color='k', label='LSA',ls = linestyles[0]),\n",
    "                   Line2D([0], [0], color='k', label='DSA',ls = linestyles[1]),\n",
    "                   Line2D([0], [0], color='k', label='Random',ls = linestyles[2]),\n",
    "                   Line2D([0], [0], color='k', label='NC',ls = linestyles[3])]\n",
    "\n",
    "\n",
    "\n",
    "    plt.legend(handles=legend_elements)#\n",
    "    plt.title(metric + \" with test set of adversarial examples FGSM\")\n",
    "    plt.xlim([0, 37000])\n",
    "    #plt.ylim([0, 1])\n",
    "    plt.xlabel('number of inputs')\n",
    "    plt.ylabel(metric)\n",
    "    plt.savefig(\"gtsrb_c1_\"+metric + \"_0.svg\")\n",
    "    plt.show()"
   ]
  },
  {
   "cell_type": "code",
   "execution_count": null,
   "id": "38563782",
   "metadata": {},
   "outputs": [],
   "source": [
    "#configuration 1\n",
    "\"\"\"\n",
    "6) Incremental guided retraining starting from the original model using only the new adversarial inputs.\n",
    "Incremental training, starting with the previous trained model. Using at each iteration a subset of the new inputs.\n",
    "\"\"\"\n",
    "import matplotlib.pyplot as plt\n",
    "import matplotlib.patches as mpatches\n",
    "\n",
    "my_metrics =[\"accuracy\",\"loss\",\"precision\",\"recall\"]\n",
    "\n",
    "for metric in my_metrics:\n",
    "    \n",
    "#metric = \"accuracy\" # accuracy loss\n",
    "    plt.clf()\n",
    "    plt.plot(n_inputs,df_evaluate_lsa_1[metric],colors[0],linestyle=linestyles[0])\n",
    "    plt.plot(n_inputs,df_evaluate_dsa_1[metric],colors[1],linestyle=linestyles[1])\n",
    "    plt.plot(n_inputs,df_evaluate_random_1[metric],colors[2],linestyle=linestyles[2])\n",
    "    plt.plot(n_inputs,df_evaluate_nc_1[metric],colors[3],linestyle=linestyles[3])\n",
    "\n",
    "    legend_elements = [Line2D([0], [0], color='k', label='LSA',ls = linestyles[0]),\n",
    "                   Line2D([0], [0], color='k', label='DSA',ls = linestyles[1]),\n",
    "                   Line2D([0], [0], color='k', label='Random',ls = linestyles[2]),\n",
    "                   Line2D([0], [0], color='k', label='NC',ls = linestyles[3])]\n",
    "\n",
    "\n",
    "\n",
    "    plt.legend(handles=legend_elements)#\n",
    "    plt.title(metric + \" with original set\")\n",
    "    plt.xlim([0, 37000])\n",
    "    #plt.ylim([0, 1])\n",
    "    plt.xlabel('number of inputs')\n",
    "    plt.ylabel(metric)\n",
    "    plt.savefig(\"gtsrb_c1_\"+metric + \"_1.svg\")\n",
    "    plt.show()"
   ]
  },
  {
   "cell_type": "code",
   "execution_count": null,
   "id": "884a1d99",
   "metadata": {},
   "outputs": [],
   "source": [
    "#adversarial jsma test set\n",
    "#configuration 3\n",
    "\"\"\"\n",
    "6) Incremental guided retraining starting from the original model using only the new adversarial inputs.\n",
    "Incremental training, starting with the previous trained model. Using at each iteration a subset of the new inputs.\n",
    "\"\"\"\n",
    "import matplotlib.pyplot as plt\n",
    "import matplotlib.patches as mpatches\n",
    "\n",
    "plt.plot(n_inputs,accuracy_lsa_3,colors[0],linestyle=linestyles[0])\n",
    "plt.plot(n_inputs,accuracy_dsa_3,colors[1],linestyle=linestyles[1])\n",
    "plt.plot(n_inputs,accuracy_random_3,colors[2],linestyle=linestyles[2])\n",
    "plt.plot(n_inputs,accuracy_nc_3,colors[3],linestyle=linestyles[3])\n",
    "\n",
    "\n",
    "legend_elements = [Line2D([0], [0], color='k', label='LSA',ls = linestyles[0]),\n",
    "                   Line2D([0], [0], color='k', label='DSA',ls = linestyles[1]),\n",
    "                   Line2D([0], [0], color='k', label='Random',ls = linestyles[2]),\n",
    "                   Line2D([0], [0], color='k', label='NC',ls = linestyles[3])]\n",
    "\n",
    "\n",
    "\n",
    "plt.legend(handles=legend_elements)#\n",
    "plt.title(\"accuracy with both sets\")\n",
    "\n",
    "print(n_inputs[np.argmax(accuracy_lsa_3)],accuracy_lsa_3.max())\n",
    "print(n_inputs[np.argmax(accuracy_dsa_3)],accuracy_dsa_3.max())\n",
    "print(n_inputs[np.argmax(accuracy_random_3)],accuracy_random_3.max())\n",
    "print(n_inputs[np.argmax(accuracy_nc_3)],accuracy_nc_3.max())\n",
    "\n",
    "plt.plot(n_inputs[np.argmax(accuracy_lsa_3)],accuracy_lsa_3.max(),'-kD')\n",
    "plt.plot(n_inputs[np.argmax(accuracy_dsa_3)],accuracy_dsa_3.max(),'-ko')\n",
    "plt.plot(n_inputs[np.argmax(accuracy_random_3)],accuracy_random_3.max(),'-kv')\n",
    "plt.plot(n_inputs[np.argmax(accuracy_nc_3)],accuracy_nc_3.max(),'-kp')\n",
    "\n",
    "plt.xlabel('number of inputs')\n",
    "plt.ylabel('accuracy')\n",
    "plt.xlim([0, 37000])\n",
    "#plt.ylim([0, 1])\n",
    "\n",
    "plt.savefig(\"gtsrb_c1_\"+\"accuracy\" + \"_both.svg\")\n",
    "\n",
    "plt.show()"
   ]
  },
  {
   "cell_type": "markdown",
   "id": "02c81771",
   "metadata": {},
   "source": [
    "## Saving models"
   ]
  },
  {
   "cell_type": "code",
   "execution_count": null,
   "id": "ef05a059",
   "metadata": {},
   "outputs": [],
   "source": [
    "new_model_lsa_dir  = \"D:/models/gtsrb_models/C1/gtsrb_model_c1_sep_lsa_e2\"\n",
    "i=0\n",
    "\n",
    "for model in models_lsa:\n",
    "    model.save(new_model_lsa_dir+\"_\"+str(i))\n",
    "    i+=1"
   ]
  },
  {
   "cell_type": "code",
   "execution_count": null,
   "id": "6464778f",
   "metadata": {},
   "outputs": [],
   "source": [
    "new_model_dsa_dir  = \"D:/models/gtsrb_models/C1/gtsrb_model_c1_sep_dsa_e2\"\n",
    "\n",
    "i=0\n",
    "for model in models_dsa:\n",
    "    model.save(new_model_dsa_dir+\"_\"+str(i))\n",
    "    i+=1"
   ]
  },
  {
   "cell_type": "code",
   "execution_count": null,
   "id": "f6406565",
   "metadata": {},
   "outputs": [],
   "source": [
    "new_model_random_dir  = \"D:/models/gtsrb_models/C1/gtsrb_model_c1_sep_random_e2\"\n",
    "\n",
    "i=0\n",
    "for model in models_random:\n",
    "    model.save(new_model_random_dir+\"_\"+str(i))\n",
    "    i+=1"
   ]
  },
  {
   "cell_type": "code",
   "execution_count": null,
   "id": "2c03ee7e",
   "metadata": {},
   "outputs": [],
   "source": [
    "new_model_nc_dir  = \"D:/models/gtsrb_models/C1/gtsrb_model_c1_sep_nc_e2\"\n",
    "\n",
    "i=0\n",
    "for model in models_nc:\n",
    "    model.save(new_model_nc_dir+\"_\"+str(i))\n",
    "    i+=1"
   ]
  }
 ],
 "metadata": {
  "kernelspec": {
   "display_name": "Python 3",
   "language": "python",
   "name": "python3"
  },
  "language_info": {
   "codemirror_mode": {
    "name": "ipython",
    "version": 3
   },
   "file_extension": ".py",
   "mimetype": "text/x-python",
   "name": "python",
   "nbconvert_exporter": "python",
   "pygments_lexer": "ipython3",
   "version": "3.8.8"
  }
 },
 "nbformat": 4,
 "nbformat_minor": 5
}
