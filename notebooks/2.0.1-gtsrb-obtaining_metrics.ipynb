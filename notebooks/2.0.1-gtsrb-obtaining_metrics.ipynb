{
 "cells": [
  {
   "cell_type": "markdown",
   "id": "790af13b",
   "metadata": {},
   "source": [
    "## Experiment configuration 3 of protocol\n",
    "- Date: 20/09/2021"
   ]
  },
  {
   "attachments": {
    "imagen.png": {
     "image/png": "[encoded data removed]"
    }
   },
   "cell_type": "markdown",
   "id": "21a98552",
   "metadata": {},
   "source": [
    "## Configuration\n",
    "\t3. (3) Incremental guided retraining starting from the original\n",
    "\tmodel using the new adversarial inputs and\n",
    "\toriginal training set\n",
    "\t\ta. (a) The new inputs are added to the training set. Incremental\n",
    "\t\ttraining, starting with the previous\n",
    "\t\ttrained model. Using at each iteration a subset of\n",
    "the new training set.![imagen.png](attachment:imagen.png)"
   ]
  },
  {
   "cell_type": "code",
   "execution_count": 1,
   "id": "ce1386e9",
   "metadata": {},
   "outputs": [],
   "source": [
    "import argparse\n",
    "\n",
    "import numpy as np\n",
    "import tensorflow as tf\n",
    "import keras.backend as K\n",
    "\n",
    "import matplotlib.pyplot as plt\n",
    "\n",
    "from keras.utils import np_utils\n",
    "from keras.models import Sequential\n",
    "from keras.layers import Dense, Dropout, Activation, Flatten, Conv2D, MaxPooling2D\n",
    "from keras.regularizers import l2\n",
    "\n",
    "import glob\n",
    "import os\n",
    "import cv2\n",
    "import keras\n",
    "\n",
    "\n",
    "import time\n",
    "import argparse\n",
    "\n",
    "from tqdm import tqdm\n",
    "\n",
    "from keras.models import load_model, Model\n"
   ]
  },
  {
   "cell_type": "code",
   "execution_count": 2,
   "id": "723735cb",
   "metadata": {},
   "outputs": [],
   "source": [
    "# utils for project\n",
    "import project_utils as utils"
   ]
  },
  {
   "cell_type": "code",
   "execution_count": 3,
   "id": "50c2b3f3",
   "metadata": {},
   "outputs": [],
   "source": [
    "x_train,y_train = utils.get_data(\"Train\")\n",
    "x_val,y_val = utils.get_data(\"Val\")\n",
    "x_test,y_test = utils.get_data(\"Test\")"
   ]
  },
  {
   "cell_type": "code",
   "execution_count": 4,
   "id": "e6f6f8a7",
   "metadata": {},
   "outputs": [],
   "source": [
    "x_train_and_adversary,y_train_and_adversary = utils.get_data(\"Train_and_adversary\")"
   ]
  },
  {
   "cell_type": "code",
   "execution_count": 5,
   "id": "53dcdf78",
   "metadata": {},
   "outputs": [
    {
     "name": "stdout",
     "output_type": "stream",
     "text": [
      "5000\n",
      "5000\n"
     ]
    }
   ],
   "source": [
    "x_adversary_training = x_train_and_adversary[len(x_train):]\n",
    "print(len(x_adversary_training))\n",
    "y_adversary_training = y_train_and_adversary[len(y_train):]\n",
    "\n",
    "print(len(y_adversary_training))"
   ]
  },
  {
   "cell_type": "code",
   "execution_count": 6,
   "id": "d8fd2c92",
   "metadata": {},
   "outputs": [],
   "source": [
    "# Obtaining adversarial examples for testing \n",
    "x_test_and_adversary,y_test_and_adversary = utils.get_adversarial_data('Test_fgsm') "
   ]
  },
  {
   "cell_type": "code",
   "execution_count": 8,
   "id": "c27698e5",
   "metadata": {},
   "outputs": [
    {
     "name": "stdout",
     "output_type": "stream",
     "text": [
      "3923\n",
      "3923\n"
     ]
    }
   ],
   "source": [
    "x_adversary_test_fgsm = x_test_and_adversary[len(x_test):]\n",
    "print(len(x_adversary_test_fgsm))\n",
    "y_adversary_test_fgsm = y_test_and_adversary[len(y_test):]\n",
    "\n",
    "print(len(y_adversary_test_fgsm))"
   ]
  },
  {
   "cell_type": "code",
   "execution_count": 7,
   "id": "a8be363b",
   "metadata": {},
   "outputs": [],
   "source": [
    "x_test_and_adversary_jsma,y_test_and_adversary_jsma = utils.get_adversarial_data('Test_jsma') "
   ]
  },
  {
   "cell_type": "code",
   "execution_count": 9,
   "id": "043cb855",
   "metadata": {},
   "outputs": [
    {
     "name": "stdout",
     "output_type": "stream",
     "text": [
      "3923\n",
      "3923\n"
     ]
    }
   ],
   "source": [
    "x_adversary_test_jsma = x_test_and_adversary_jsma[len(x_test):]\n",
    "print(len(x_adversary_test_jsma))\n",
    "y_adversary_test_jsma = y_test_and_adversary_jsma[len(y_test):]\n",
    "\n",
    "print(len(y_adversary_test_jsma))"
   ]
  },
  {
   "cell_type": "markdown",
   "id": "becb4e3b",
   "metadata": {},
   "source": [
    "## ----"
   ]
  },
  {
   "cell_type": "code",
   "execution_count": 10,
   "id": "c1560941",
   "metadata": {},
   "outputs": [],
   "source": [
    "# Original model \n",
    "model_dir = \"C:/Users/fjdur/Desktop/upc/project_notebooks/github_project/DL_notebooks/models/tf_model_25-06\""
   ]
  },
  {
   "cell_type": "code",
   "execution_count": 11,
   "id": "e5478616",
   "metadata": {},
   "outputs": [
    {
     "name": "stdout",
     "output_type": "stream",
     "text": [
      "Model loaded correctly\n"
     ]
    }
   ],
   "source": [
    "model_original = utils.My_model(True, model_dir)"
   ]
  },
  {
   "cell_type": "markdown",
   "id": "78edd1c7",
   "metadata": {},
   "source": [
    "## Obtaining new LSA and DSA values "
   ]
  },
  {
   "cell_type": "markdown",
   "id": "b5da5932",
   "metadata": {},
   "source": [
    "- We need the module 'deepo'"
   ]
  },
  {
   "cell_type": "code",
   "execution_count": 1,
   "id": "1eccf405",
   "metadata": {},
   "outputs": [
    {
     "name": "stdout",
     "output_type": "stream",
     "text": [
      "C:\\Users\\fjdur\\Desktop\\upc\\project_notebooks\\deepimportance_code_release\n"
     ]
    }
   ],
   "source": [
    "\n",
    "cd \"C:\\Users\\fjdur\\Desktop\\upc\\project_notebooks\\deepimportance_code_release\"\n"
   ]
  },
  {
   "cell_type": "code",
   "execution_count": 19,
   "id": "6df52b78",
   "metadata": {},
   "outputs": [],
   "source": [
    "# from 07_notebook\n",
    "from utils import filter_val_set, get_trainable_layers\n",
    "from utils import generate_adversarial, filter_correct_classifications\n",
    "from coverages.idc import ImportanceDrivenCoverage\n",
    "from coverages.neuron_cov import NeuronCoverage\n",
    "from coverages.tkn import DeepGaugeLayerLevelCoverage\n",
    "from coverages.kmn import DeepGaugePercentCoverage\n",
    "from coverages.ss import SSCover\n",
    "from coverages.sa import SurpriseAdequacy\n"
   ]
  },
  {
   "cell_type": "code",
   "execution_count": 22,
   "id": "718bf035",
   "metadata": {},
   "outputs": [
    {
     "name": "stdout",
     "output_type": "stream",
     "text": [
      "Trainable layers: [0, 1, 4, 5, 8, 9, 13, 15, 17]\n",
      "Non trainable layers: [2, 3, 6, 7, 10, 11, 12, 14, 16]\n"
     ]
    }
   ],
   "source": [
    "trainable_layers = get_trainable_layers(model_original.model)\n",
    "non_trainable_layers = list(set(range(len(model_original.model.layers))) - set(trainable_layers))\n",
    "print('Trainable layers: ' + str(trainable_layers))\n",
    "print('Non trainable layers: ' + str(non_trainable_layers))"
   ]
  },
  {
   "cell_type": "code",
   "execution_count": 24,
   "id": "67d41b48",
   "metadata": {},
   "outputs": [
    {
     "name": "stdout",
     "output_type": "stream",
     "text": [
      "Model: \"sequential\"\n",
      "_________________________________________________________________\n",
      "Layer (type)                 Output Shape              Param #   \n",
      "=================================================================\n",
      "conv2d (Conv2D)              (None, 48, 48, 32)        320       \n",
      "_________________________________________________________________\n",
      "conv2d_1 (Conv2D)            (None, 48, 48, 32)        9248      \n",
      "_________________________________________________________________\n",
      "max_pooling2d (MaxPooling2D) (None, 24, 24, 32)        0         \n",
      "_________________________________________________________________\n",
      "dropout (Dropout)            (None, 24, 24, 32)        0         \n",
      "_________________________________________________________________\n",
      "conv2d_2 (Conv2D)            (None, 24, 24, 64)        18496     \n",
      "_________________________________________________________________\n",
      "conv2d_3 (Conv2D)            (None, 24, 24, 64)        36928     \n",
      "_________________________________________________________________\n",
      "max_pooling2d_1 (MaxPooling2 (None, 12, 12, 64)        0         \n",
      "_________________________________________________________________\n",
      "dropout_1 (Dropout)          (None, 12, 12, 64)        0         \n",
      "_________________________________________________________________\n",
      "conv2d_4 (Conv2D)            (None, 12, 12, 128)       73856     \n",
      "_________________________________________________________________\n",
      "conv2d_5 (Conv2D)            (None, 12, 12, 128)       147584    \n",
      "_________________________________________________________________\n",
      "max_pooling2d_2 (MaxPooling2 (None, 6, 6, 128)         0         \n",
      "_________________________________________________________________\n",
      "dropout_2 (Dropout)          (None, 6, 6, 128)         0         \n",
      "_________________________________________________________________\n",
      "flatten (Flatten)            (None, 4608)              0         \n",
      "_________________________________________________________________\n",
      "dense (Dense)                (None, 512)               2359808   \n",
      "_________________________________________________________________\n",
      "dropout_3 (Dropout)          (None, 512)               0         \n",
      "_________________________________________________________________\n",
      "dense_1 (Dense)              (None, 256)               131328    \n",
      "_________________________________________________________________\n",
      "dropout_4 (Dropout)          (None, 256)               0         \n",
      "_________________________________________________________________\n",
      "dense_2 (Dense)              (None, 43)                11051     \n",
      "=================================================================\n",
      "Total params: 2,788,619\n",
      "Trainable params: 2,788,619\n",
      "Non-trainable params: 0\n",
      "_________________________________________________________________\n"
     ]
    }
   ],
   "source": [
    "model_original.model.summary()"
   ]
  },
  {
   "cell_type": "code",
   "execution_count": 25,
   "id": "e2c1771f",
   "metadata": {},
   "outputs": [
    {
     "data": {
      "text/plain": [
       "['dense_1']"
      ]
     },
     "execution_count": 25,
     "metadata": {},
     "output_type": "execute_result"
    }
   ],
   "source": [
    "subject_layer = trainable_layers[-2]\n",
    "layer_names = [model_original.model.layers[-3].name]\n",
    "upper_bound = 2000\n",
    "layer_names"
   ]
  },
  {
   "cell_type": "code",
   "execution_count": 26,
   "id": "dd102757",
   "metadata": {},
   "outputs": [],
   "source": [
    "from coverages import sa\n",
    "from datetime import datetime"
   ]
  },
  {
   "cell_type": "code",
   "execution_count": 27,
   "id": "80d8649b",
   "metadata": {},
   "outputs": [
    {
     "name": "stdout",
     "output_type": "stream",
     "text": [
      "[train] Model serving\n",
      "18\n",
      "246/246 [==============================] - 48s 171ms/step\n",
      "246/246 [==============================] - 44s 179ms/step\n",
      "[train] Processing ATs\n",
      "Layer: dense_1\n",
      "train ATs is saved at ./sa_data\\model_original_c3_sep_train_dense_1_ats.npy\n",
      "[conf_3_sep] Model serving\n",
      "18\n",
      "285/285 [==============================] - 54s 188ms/step\n",
      "285/285 [==============================] - 54s 189ms/step\n",
      "[conf_3_sep] Processing ATs\n",
      "Layer: dense_1\n",
      "conf_3_sep ATs is saved at ./sa_data\\model_original_c3_sep_conf_3_sep_dense_1_ats.npy\n",
      "yes\n",
      "dict_keys([0, 17, 1, 2, 4, 5, 3, 32, 14, 28, 13, 6, 7, 8, 9, 10, 11, 27, 30, 12, 36, 15, 16, 18, 24, 19, 21, 20, 29, 22, 23, 31, 25, 26, 33, 34, 35, 37, 38, 39, 40, 41, 42])\n",
      "The number of removed columns: 245\n",
      "[conf_3_sep] Fetching LSA\n",
      "Duration: 0:03:29.735387\n"
     ]
    }
   ],
   "source": [
    "start_time = datetime.now()\n",
    "#surprise of all inputs wrt to the original inputs\n",
    "target_lsa = sa.fetch_lsa(model_original.model, x_train, x_train_and_adversary,\n",
    "                                   \"conf_3_sep\", layer_names,\n",
    "                                   43, True,\n",
    "                                   1e-05, './sa_data', \"model_original_c3_sep\")\n",
    "\n",
    "\n",
    "end_time = datetime.now()\n",
    "print('Duration: {}'.format(end_time - start_time))"
   ]
  },
  {
   "cell_type": "code",
   "execution_count": 29,
   "id": "58c23d37",
   "metadata": {},
   "outputs": [
    {
     "name": "stdout",
     "output_type": "stream",
     "text": [
      "Found saved train ATs, skip serving\n",
      "[conf_3_sep] Model serving\n",
      "18\n",
      "285/285 [==============================] - 50s 174ms/step\n",
      "285/285 [==============================] - 52s 182ms/step\n",
      "[conf_3_sep] Processing ATs\n",
      "Layer: dense_1\n",
      "conf_3_sep ATs is saved at ./sa_data\\model_original_c3_sep_conf_3_sep_dense_1_ats.npy\n",
      "[conf_3_sep] Fetching DSA\n",
      "Duration: 0:24:03.934272\n"
     ]
    }
   ],
   "source": [
    "start_time = datetime.now()\n",
    "\n",
    "target_dsa = sa.fetch_dsa(model_original.model, x_train, x_train_and_adversary,\n",
    "                                   \"conf_3_sep\", layer_names,\n",
    "                                   43, True,\n",
    "                                   './sa_data',  \"model_original_c3_sep\")\n",
    "end_time = datetime.now()\n",
    "print('Duration: {}'.format(end_time - start_time))"
   ]
  },
  {
   "cell_type": "code",
   "execution_count": 30,
   "id": "5e3ad78f",
   "metadata": {},
   "outputs": [
    {
     "data": {
      "text/plain": [
       "['dense_1']"
      ]
     },
     "execution_count": 30,
     "metadata": {},
     "output_type": "execute_result"
    }
   ],
   "source": [
    "layer_names"
   ]
  },
  {
   "cell_type": "code",
   "execution_count": 35,
   "id": "b264130a",
   "metadata": {},
   "outputs": [],
   "source": [
    "save_dir = \"C:/Users/fjdur/Desktop/upc/project_notebooks/github_project/DL_notebooks/SA_values/dsa_values_1.npy\"\n",
    "\n",
    "np.save(save_dir,np.array(target_dsa))\n",
    "save_dir = \"C:/Users/fjdur/Desktop/upc/project_notebooks/github_project/DL_notebooks/SA_values/lsa_values_1.npy\"\n",
    "\n",
    "np.save(save_dir,np.array(target_lsa))"
   ]
  },
  {
   "cell_type": "markdown",
   "id": "a13ef06e",
   "metadata": {},
   "source": [
    "## DSA"
   ]
  },
  {
   "cell_type": "markdown",
   "id": "bf9b45e9",
   "metadata": {},
   "source": [
    "## Random"
   ]
  },
  {
   "cell_type": "code",
   "execution_count": 47,
   "id": "3581436b",
   "metadata": {},
   "outputs": [
    {
     "name": "stdout",
     "output_type": "stream",
     "text": [
      "[23507, 15626, 28167, 10700, 25144, 4555, 16571, 28994, 27072, 1340]\n",
      "36366\n"
     ]
    }
   ],
   "source": [
    "import random\n",
    "random_indexes =list(range(len(x_train_and_adversary)))\n",
    "random.shuffle(random_indexes)\n",
    "print(random_indexes[:10])\n",
    "print(len(random_indexes))"
   ]
  },
  {
   "cell_type": "code",
   "execution_count": 48,
   "id": "0eca574c",
   "metadata": {},
   "outputs": [],
   "source": [
    "save_dir = \"C:/Users/fjdur/Desktop/upc/project_notebooks/github_project/DL_notebooks/SA_values/random_values_1.npy\"\n",
    "\n",
    "np.save(save_dir,np.array(random_indexes))"
   ]
  },
  {
   "cell_type": "markdown",
   "id": "884629f5",
   "metadata": {},
   "source": [
    "## NC"
   ]
  }
 ],
 "metadata": {
  "kernelspec": {
   "display_name": "Python 3",
   "language": "python",
   "name": "python3"
  },
  "language_info": {
   "codemirror_mode": {
    "name": "ipython",
    "version": 3
   },
   "file_extension": ".py",
   "mimetype": "text/x-python",
   "name": "python",
   "nbconvert_exporter": "python",
   "pygments_lexer": "ipython3",
   "version": "3.8.8"
  }
 },
 "nbformat": 4,
 "nbformat_minor": 5
}
