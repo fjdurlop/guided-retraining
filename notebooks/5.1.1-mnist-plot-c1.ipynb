{
 "cells": [
  {
   "cell_type": "code",
   "execution_count": 1,
   "id": "ad95d3c7",
   "metadata": {},
   "outputs": [],
   "source": [
    "import argparse\n",
    "\n",
    "import numpy as np\n",
    "import tensorflow as tf\n",
    "import keras.backend as K\n",
    "\n",
    "import matplotlib.pyplot as plt\n",
    "\n",
    "from keras.utils import np_utils\n",
    "from keras.models import Sequential\n",
    "from keras.layers import Dense, Dropout, Activation, Flatten, Conv2D, MaxPooling2D\n",
    "from keras.regularizers import l2\n",
    "\n",
    "import glob\n",
    "import os\n",
    "import cv2\n",
    "import keras\n",
    "\n",
    "\n",
    "import time\n",
    "import argparse\n",
    "\n",
    "from tqdm import tqdm\n",
    "\n",
    "from keras.models import load_model, Model\n"
   ]
  },
  {
   "cell_type": "code",
   "execution_count": 2,
   "id": "8d035d9c",
   "metadata": {},
   "outputs": [
    {
     "name": "stdout",
     "output_type": "stream",
     "text": [
      "C:\\Users\\fjdur\\Documents\\utils\n"
     ]
    }
   ],
   "source": [
    "cd C:/Users/fjdur/Documents/utils/"
   ]
  },
  {
   "cell_type": "code",
   "execution_count": 3,
   "id": "5d1f761f",
   "metadata": {},
   "outputs": [
    {
     "name": "stdout",
     "output_type": "stream",
     "text": [
      "2.5.0\n",
      "keras\n",
      "2.5.0\n"
     ]
    }
   ],
   "source": [
    "import utils_guided_retraining as utils"
   ]
  },
  {
   "cell_type": "code",
   "execution_count": 4,
   "id": "37b911ae",
   "metadata": {},
   "outputs": [],
   "source": [
    "dataset = \"mnist\""
   ]
  },
  {
   "cell_type": "code",
   "execution_count": 5,
   "id": "5067d05c",
   "metadata": {},
   "outputs": [],
   "source": [
    "x_test,y_test = utils.get_data(dataset,\"Test\")"
   ]
  },
  {
   "cell_type": "code",
   "execution_count": 6,
   "id": "0fa4ca3a",
   "metadata": {},
   "outputs": [],
   "source": [
    "x_train_and_adversary,y_train_and_adversary = utils.get_data(dataset,\"Train_and_adversary\")"
   ]
  },
  {
   "cell_type": "code",
   "execution_count": 7,
   "id": "98036191",
   "metadata": {},
   "outputs": [],
   "source": [
    "x_test_and_adversary,y_test_and_adversary = utils.get_adversarial_data(dataset,'Test_adversarial') "
   ]
  },
  {
   "cell_type": "code",
   "execution_count": 8,
   "id": "19d492ed",
   "metadata": {},
   "outputs": [],
   "source": [
    "\n",
    "model_dir = \"C:/Users/fjdur/Documents/upc-july/models/tf_model_25-06/\"\n",
    "if(dataset == 'gtsrb'):\n",
    "    model_dir = \"C:/Users/fjdur/Documents/upc-july/models/tf_model_25-06\"\n",
    "elif(dataset == 'intel'):\n",
    "    model_dir = \"C:/Users/fjdur/Documents/upc-july/models/intel_model_21_10\"\n",
    "elif(dataset == 'mnist'):\n",
    "    model_dir = \"C:/Users/fjdur/Documents/upc-july/models/models2\"\n",
    "elif(dataset == 'cifar'):\n",
    "    model_dir = \"C:/Users/fjdur/Documents/upc-july/models/model_02\"\n"
   ]
  },
  {
   "cell_type": "code",
   "execution_count": 9,
   "id": "57c02559",
   "metadata": {},
   "outputs": [
    {
     "name": "stdout",
     "output_type": "stream",
     "text": [
      "C:/Users/fjdur/Documents/upc-july/models/models2\n",
      "Model loaded correctly\n"
     ]
    }
   ],
   "source": [
    "print(model_dir)\n",
    "model_original = utils.My_model(dataset,True, model_dir)"
   ]
  },
  {
   "cell_type": "markdown",
   "id": "84bc1203",
   "metadata": {},
   "source": [
    "## Loading models"
   ]
  },
  {
   "cell_type": "code",
   "execution_count": 10,
   "id": "3a3b0a3b",
   "metadata": {},
   "outputs": [],
   "source": [
    "data_dir = \"D:/models/aug_22\"\n",
    "\n",
    "config = \"C1\"\n",
    "config_lc = \"c1\"\n",
    "num_models = 20"
   ]
  },
  {
   "cell_type": "code",
   "execution_count": 14,
   "id": "a79de2ac",
   "metadata": {},
   "outputs": [
    {
     "name": "stdout",
     "output_type": "stream",
     "text": [
      "D:/models/aug_22/mnist/C1/mnist_model_c1_aug_lsa_e1_0\n",
      "Model loaded correctly\n",
      "D:/models/aug_22/mnist/C1/mnist_model_c1_aug_lsa_e1_1\n",
      "Model loaded correctly\n",
      "D:/models/aug_22/mnist/C1/mnist_model_c1_aug_lsa_e1_2\n",
      "Model loaded correctly\n",
      "D:/models/aug_22/mnist/C1/mnist_model_c1_aug_lsa_e1_3\n",
      "Model loaded correctly\n",
      "D:/models/aug_22/mnist/C1/mnist_model_c1_aug_lsa_e1_4\n",
      "Model loaded correctly\n",
      "D:/models/aug_22/mnist/C1/mnist_model_c1_aug_lsa_e1_5\n",
      "Model loaded correctly\n",
      "D:/models/aug_22/mnist/C1/mnist_model_c1_aug_lsa_e1_6\n",
      "Model loaded correctly\n",
      "D:/models/aug_22/mnist/C1/mnist_model_c1_aug_lsa_e1_7\n",
      "Model loaded correctly\n",
      "D:/models/aug_22/mnist/C1/mnist_model_c1_aug_lsa_e1_8\n",
      "Model loaded correctly\n",
      "D:/models/aug_22/mnist/C1/mnist_model_c1_aug_lsa_e1_9\n",
      "Model loaded correctly\n",
      "D:/models/aug_22/mnist/C1/mnist_model_c1_aug_lsa_e1_10\n",
      "Model loaded correctly\n",
      "D:/models/aug_22/mnist/C1/mnist_model_c1_aug_lsa_e1_11\n",
      "Model loaded correctly\n",
      "D:/models/aug_22/mnist/C1/mnist_model_c1_aug_lsa_e1_12\n",
      "Model loaded correctly\n",
      "D:/models/aug_22/mnist/C1/mnist_model_c1_aug_lsa_e1_13\n",
      "Model loaded correctly\n",
      "D:/models/aug_22/mnist/C1/mnist_model_c1_aug_lsa_e1_14\n",
      "Model loaded correctly\n",
      "D:/models/aug_22/mnist/C1/mnist_model_c1_aug_lsa_e1_15\n",
      "Model loaded correctly\n",
      "D:/models/aug_22/mnist/C1/mnist_model_c1_aug_lsa_e1_16\n",
      "Model loaded correctly\n",
      "D:/models/aug_22/mnist/C1/mnist_model_c1_aug_lsa_e1_17\n",
      "Model loaded correctly\n",
      "D:/models/aug_22/mnist/C1/mnist_model_c1_aug_lsa_e1_18\n",
      "Model loaded correctly\n",
      "D:/models/aug_22/mnist/C1/mnist_model_c1_aug_lsa_e1_19\n",
      "Model loaded correctly\n"
     ]
    }
   ],
   "source": [
    "loading = True\n",
    "\n",
    "models_lsa = []\n",
    "\n",
    "if loading:\n",
    "    for i in range(num_models):\n",
    "        model_lsa_dir = data_dir+\"/\"+dataset+\"/C1/\"+dataset+\"_model_c1_aug_lsa_e1_\"+str(i)\n",
    "        print(model_lsa_dir)\n",
    "        model =utils.My_model(dataset,True,model_lsa_dir)\n",
    "        model.model.compile(loss= 'categorical_crossentropy', optimizer = 'rmsprop', metrics = ['accuracy',tf.keras.metrics.Precision(), tf.keras.metrics.Recall()])\n",
    "        models_lsa.append(model)\n",
    "       \n",
    "    "
   ]
  },
  {
   "cell_type": "code",
   "execution_count": null,
   "id": "1347e307",
   "metadata": {},
   "outputs": [],
   "source": [
    "len(models_lsa)"
   ]
  },
  {
   "cell_type": "code",
   "execution_count": 15,
   "id": "e3ff7377",
   "metadata": {},
   "outputs": [
    {
     "name": "stdout",
     "output_type": "stream",
     "text": [
      "D:/models/aug_22/mnist/C1/mnist_model_c1_aug_dsa_e1_0\n",
      "Model loaded correctly\n",
      "D:/models/aug_22/mnist/C1/mnist_model_c1_aug_dsa_e1_1\n",
      "Model loaded correctly\n",
      "D:/models/aug_22/mnist/C1/mnist_model_c1_aug_dsa_e1_2\n",
      "Model loaded correctly\n",
      "D:/models/aug_22/mnist/C1/mnist_model_c1_aug_dsa_e1_3\n",
      "Model loaded correctly\n",
      "D:/models/aug_22/mnist/C1/mnist_model_c1_aug_dsa_e1_4\n",
      "Model loaded correctly\n",
      "D:/models/aug_22/mnist/C1/mnist_model_c1_aug_dsa_e1_5\n",
      "Model loaded correctly\n",
      "D:/models/aug_22/mnist/C1/mnist_model_c1_aug_dsa_e1_6\n",
      "Model loaded correctly\n",
      "D:/models/aug_22/mnist/C1/mnist_model_c1_aug_dsa_e1_7\n",
      "Model loaded correctly\n",
      "D:/models/aug_22/mnist/C1/mnist_model_c1_aug_dsa_e1_8\n",
      "Model loaded correctly\n",
      "D:/models/aug_22/mnist/C1/mnist_model_c1_aug_dsa_e1_9\n",
      "Model loaded correctly\n",
      "D:/models/aug_22/mnist/C1/mnist_model_c1_aug_dsa_e1_10\n",
      "Model loaded correctly\n",
      "D:/models/aug_22/mnist/C1/mnist_model_c1_aug_dsa_e1_11\n",
      "Model loaded correctly\n",
      "D:/models/aug_22/mnist/C1/mnist_model_c1_aug_dsa_e1_12\n",
      "Model loaded correctly\n",
      "D:/models/aug_22/mnist/C1/mnist_model_c1_aug_dsa_e1_13\n",
      "Model loaded correctly\n",
      "D:/models/aug_22/mnist/C1/mnist_model_c1_aug_dsa_e1_14\n",
      "Model loaded correctly\n",
      "D:/models/aug_22/mnist/C1/mnist_model_c1_aug_dsa_e1_15\n",
      "Model loaded correctly\n",
      "D:/models/aug_22/mnist/C1/mnist_model_c1_aug_dsa_e1_16\n",
      "Model loaded correctly\n",
      "D:/models/aug_22/mnist/C1/mnist_model_c1_aug_dsa_e1_17\n",
      "Model loaded correctly\n",
      "D:/models/aug_22/mnist/C1/mnist_model_c1_aug_dsa_e1_18\n",
      "Model loaded correctly\n",
      "D:/models/aug_22/mnist/C1/mnist_model_c1_aug_dsa_e1_19\n",
      "Model loaded correctly\n"
     ]
    }
   ],
   "source": [
    "loading = True\n",
    "\n",
    "models_dsa = []\n",
    "\n",
    "if loading:\n",
    "    for i in range(num_models):\n",
    "        #model_dsa_dir = \"D:/models/gtsrb_models/C1/gtsrb_model_c1_sep_dsa_e2_\"+str(i)\n",
    "        model_dsa_dir = data_dir+\"/\"+dataset+\"/C1/\"+dataset+\"_model_c1_aug_dsa_e1_\"+str(i)\n",
    "        print(model_dsa_dir)\n",
    "        model =utils.My_model(dataset,True,model_dsa_dir)\n",
    "        model.model.compile(loss= 'categorical_crossentropy', optimizer = 'rmsprop', metrics = ['accuracy',tf.keras.metrics.Precision(), tf.keras.metrics.Recall()])\n",
    "        models_dsa.append(model)\n",
    "       \n",
    "\n",
    "    "
   ]
  },
  {
   "cell_type": "code",
   "execution_count": 16,
   "id": "a716e996",
   "metadata": {
    "scrolled": true
   },
   "outputs": [
    {
     "name": "stdout",
     "output_type": "stream",
     "text": [
      "D:/models/aug_22/mnist/C1/mnist_model_c1_aug_dg_e1_0\n",
      "Model loaded correctly\n",
      "D:/models/aug_22/mnist/C1/mnist_model_c1_aug_dg_e1_1\n",
      "Model loaded correctly\n",
      "D:/models/aug_22/mnist/C1/mnist_model_c1_aug_dg_e1_2\n",
      "Model loaded correctly\n",
      "D:/models/aug_22/mnist/C1/mnist_model_c1_aug_dg_e1_3\n",
      "Model loaded correctly\n",
      "D:/models/aug_22/mnist/C1/mnist_model_c1_aug_dg_e1_4\n",
      "Model loaded correctly\n",
      "D:/models/aug_22/mnist/C1/mnist_model_c1_aug_dg_e1_5\n",
      "Model loaded correctly\n",
      "D:/models/aug_22/mnist/C1/mnist_model_c1_aug_dg_e1_6\n",
      "Model loaded correctly\n",
      "D:/models/aug_22/mnist/C1/mnist_model_c1_aug_dg_e1_7\n",
      "Model loaded correctly\n",
      "D:/models/aug_22/mnist/C1/mnist_model_c1_aug_dg_e1_8\n",
      "Model loaded correctly\n",
      "D:/models/aug_22/mnist/C1/mnist_model_c1_aug_dg_e1_9\n",
      "Model loaded correctly\n",
      "D:/models/aug_22/mnist/C1/mnist_model_c1_aug_dg_e1_10\n",
      "Model loaded correctly\n",
      "D:/models/aug_22/mnist/C1/mnist_model_c1_aug_dg_e1_11\n",
      "Model loaded correctly\n",
      "D:/models/aug_22/mnist/C1/mnist_model_c1_aug_dg_e1_12\n",
      "Model loaded correctly\n",
      "D:/models/aug_22/mnist/C1/mnist_model_c1_aug_dg_e1_13\n",
      "Model loaded correctly\n",
      "D:/models/aug_22/mnist/C1/mnist_model_c1_aug_dg_e1_14\n",
      "Model loaded correctly\n",
      "D:/models/aug_22/mnist/C1/mnist_model_c1_aug_dg_e1_15\n",
      "Model loaded correctly\n",
      "D:/models/aug_22/mnist/C1/mnist_model_c1_aug_dg_e1_16\n",
      "Model loaded correctly\n",
      "D:/models/aug_22/mnist/C1/mnist_model_c1_aug_dg_e1_17\n",
      "Model loaded correctly\n",
      "D:/models/aug_22/mnist/C1/mnist_model_c1_aug_dg_e1_18\n",
      "Model loaded correctly\n",
      "D:/models/aug_22/mnist/C1/mnist_model_c1_aug_dg_e1_19\n",
      "Model loaded correctly\n"
     ]
    }
   ],
   "source": [
    "loading = True\n",
    "\n",
    "models_dg = []\n",
    "\n",
    "if loading:\n",
    "    for i in range(num_models):\n",
    "        #model_dg_dir = \"D:/models/aug_22/gtsrb/C1/gtsrb_model_c1_aug_gn_e1_\"+str(i)\n",
    "        model_dg_dir = data_dir+\"/\"+dataset+\"/C1/\"+dataset+\"_model_c1_aug_dg_e1_\"+str(i)\n",
    "        \n",
    "        print(model_dg_dir)\n",
    "        model =utils.My_model(dataset,True,model_dg_dir)\n",
    "        model.model.compile(loss= 'categorical_crossentropy', optimizer = 'rmsprop', metrics = ['accuracy',tf.keras.metrics.Precision(), tf.keras.metrics.Recall()])\n",
    "        models_dg.append(model)\n",
    "       \n",
    "    "
   ]
  },
  {
   "cell_type": "code",
   "execution_count": 17,
   "id": "a5a45e17",
   "metadata": {},
   "outputs": [
    {
     "name": "stdout",
     "output_type": "stream",
     "text": [
      "D:/models/aug_22/mnist/C1/mnist_model_c1_aug_se_e1_0\n",
      "Model loaded correctly\n",
      "D:/models/aug_22/mnist/C1/mnist_model_c1_aug_se_e1_1\n",
      "Model loaded correctly\n",
      "D:/models/aug_22/mnist/C1/mnist_model_c1_aug_se_e1_2\n",
      "Model loaded correctly\n",
      "D:/models/aug_22/mnist/C1/mnist_model_c1_aug_se_e1_3\n",
      "Model loaded correctly\n",
      "D:/models/aug_22/mnist/C1/mnist_model_c1_aug_se_e1_4\n",
      "Model loaded correctly\n",
      "D:/models/aug_22/mnist/C1/mnist_model_c1_aug_se_e1_5\n",
      "Model loaded correctly\n",
      "D:/models/aug_22/mnist/C1/mnist_model_c1_aug_se_e1_6\n",
      "Model loaded correctly\n",
      "D:/models/aug_22/mnist/C1/mnist_model_c1_aug_se_e1_7\n",
      "Model loaded correctly\n",
      "D:/models/aug_22/mnist/C1/mnist_model_c1_aug_se_e1_8\n",
      "Model loaded correctly\n",
      "D:/models/aug_22/mnist/C1/mnist_model_c1_aug_se_e1_9\n",
      "Model loaded correctly\n",
      "D:/models/aug_22/mnist/C1/mnist_model_c1_aug_se_e1_10\n",
      "Model loaded correctly\n",
      "D:/models/aug_22/mnist/C1/mnist_model_c1_aug_se_e1_11\n",
      "Model loaded correctly\n",
      "D:/models/aug_22/mnist/C1/mnist_model_c1_aug_se_e1_12\n",
      "Model loaded correctly\n",
      "D:/models/aug_22/mnist/C1/mnist_model_c1_aug_se_e1_13\n",
      "Model loaded correctly\n",
      "D:/models/aug_22/mnist/C1/mnist_model_c1_aug_se_e1_14\n",
      "Model loaded correctly\n",
      "D:/models/aug_22/mnist/C1/mnist_model_c1_aug_se_e1_15\n",
      "Model loaded correctly\n",
      "D:/models/aug_22/mnist/C1/mnist_model_c1_aug_se_e1_16\n",
      "Model loaded correctly\n",
      "D:/models/aug_22/mnist/C1/mnist_model_c1_aug_se_e1_17\n",
      "Model loaded correctly\n",
      "D:/models/aug_22/mnist/C1/mnist_model_c1_aug_se_e1_18\n",
      "Model loaded correctly\n",
      "D:/models/aug_22/mnist/C1/mnist_model_c1_aug_se_e1_19\n",
      "Model loaded correctly\n"
     ]
    }
   ],
   "source": [
    "loading = True\n",
    "\n",
    "models_se = []\n",
    "\n",
    "if loading:\n",
    "    for i in range(num_models):\n",
    "        \n",
    "        model_se_dir = data_dir+\"/\"+dataset+\"/C1/\"+dataset+\"_model_c1_aug_se_e1_\"+str(i)\n",
    "        \n",
    "        print(model_se_dir)\n",
    "        model =utils.My_model(dataset,True,model_se_dir)\n",
    "        model.model.compile(loss= 'categorical_crossentropy', optimizer = 'rmsprop', metrics = ['accuracy',tf.keras.metrics.Precision(), tf.keras.metrics.Recall()])\n",
    "        models_se.append(model)"
   ]
  },
  {
   "cell_type": "code",
   "execution_count": 18,
   "id": "a4ac1ede",
   "metadata": {},
   "outputs": [
    {
     "name": "stdout",
     "output_type": "stream",
     "text": [
      "D:/models/aug_22/mnist/C1/mnist_model_c1_aug_random_e1_0\n",
      "Model loaded correctly\n",
      "D:/models/aug_22/mnist/C1/mnist_model_c1_aug_random_e1_1\n",
      "Model loaded correctly\n",
      "D:/models/aug_22/mnist/C1/mnist_model_c1_aug_random_e1_2\n",
      "Model loaded correctly\n",
      "D:/models/aug_22/mnist/C1/mnist_model_c1_aug_random_e1_3\n",
      "Model loaded correctly\n",
      "D:/models/aug_22/mnist/C1/mnist_model_c1_aug_random_e1_4\n",
      "Model loaded correctly\n",
      "D:/models/aug_22/mnist/C1/mnist_model_c1_aug_random_e1_5\n",
      "Model loaded correctly\n",
      "D:/models/aug_22/mnist/C1/mnist_model_c1_aug_random_e1_6\n",
      "Model loaded correctly\n",
      "D:/models/aug_22/mnist/C1/mnist_model_c1_aug_random_e1_7\n",
      "Model loaded correctly\n",
      "D:/models/aug_22/mnist/C1/mnist_model_c1_aug_random_e1_8\n",
      "Model loaded correctly\n",
      "D:/models/aug_22/mnist/C1/mnist_model_c1_aug_random_e1_9\n",
      "Model loaded correctly\n",
      "D:/models/aug_22/mnist/C1/mnist_model_c1_aug_random_e1_10\n",
      "Model loaded correctly\n",
      "D:/models/aug_22/mnist/C1/mnist_model_c1_aug_random_e1_11\n",
      "Model loaded correctly\n",
      "D:/models/aug_22/mnist/C1/mnist_model_c1_aug_random_e1_12\n",
      "Model loaded correctly\n",
      "D:/models/aug_22/mnist/C1/mnist_model_c1_aug_random_e1_13\n",
      "Model loaded correctly\n",
      "D:/models/aug_22/mnist/C1/mnist_model_c1_aug_random_e1_14\n",
      "Model loaded correctly\n",
      "D:/models/aug_22/mnist/C1/mnist_model_c1_aug_random_e1_15\n",
      "Model loaded correctly\n",
      "D:/models/aug_22/mnist/C1/mnist_model_c1_aug_random_e1_16\n",
      "Model loaded correctly\n",
      "D:/models/aug_22/mnist/C1/mnist_model_c1_aug_random_e1_17\n",
      "Model loaded correctly\n",
      "D:/models/aug_22/mnist/C1/mnist_model_c1_aug_random_e1_18\n",
      "Model loaded correctly\n",
      "D:/models/aug_22/mnist/C1/mnist_model_c1_aug_random_e1_19\n",
      "Model loaded correctly\n"
     ]
    }
   ],
   "source": [
    "loading = True\n",
    "\n",
    "models_random = []\n",
    "\n",
    "if loading:\n",
    "    for i in range(num_models):\n",
    "        #model_random_dir = \"D:/models/aug_22/gtsrb/C1/gtsrb_model_c1_aug_random_e1_\"+str(i)\n",
    "        model_random_dir = data_dir+\"/\"+dataset+\"/C1/\"+dataset+\"_model_c1_aug_random_e1_\"+str(i)\n",
    "        \n",
    "        print(model_random_dir)\n",
    "        model =utils.My_model(dataset,True,model_random_dir)\n",
    "        model.model.compile(loss= 'categorical_crossentropy', optimizer = 'rmsprop', metrics = ['accuracy',tf.keras.metrics.Precision(), tf.keras.metrics.Recall()])\n",
    "        models_random.append(model)\n",
    "       "
   ]
  },
  {
   "cell_type": "code",
   "execution_count": 19,
   "id": "f1b143c0",
   "metadata": {
    "scrolled": true
   },
   "outputs": [
    {
     "name": "stdout",
     "output_type": "stream",
     "text": [
      "D:/models/aug_22/mnist/C1/mnist_model_c1_aug_nc_e1_0\n",
      "Model loaded correctly\n",
      "D:/models/aug_22/mnist/C1/mnist_model_c1_aug_nc_e1_1\n",
      "Model loaded correctly\n",
      "D:/models/aug_22/mnist/C1/mnist_model_c1_aug_nc_e1_2\n",
      "Model loaded correctly\n",
      "D:/models/aug_22/mnist/C1/mnist_model_c1_aug_nc_e1_3\n",
      "Model loaded correctly\n",
      "D:/models/aug_22/mnist/C1/mnist_model_c1_aug_nc_e1_4\n",
      "Model loaded correctly\n",
      "D:/models/aug_22/mnist/C1/mnist_model_c1_aug_nc_e1_5\n",
      "Model loaded correctly\n",
      "D:/models/aug_22/mnist/C1/mnist_model_c1_aug_nc_e1_6\n",
      "Model loaded correctly\n",
      "D:/models/aug_22/mnist/C1/mnist_model_c1_aug_nc_e1_7\n",
      "Model loaded correctly\n",
      "D:/models/aug_22/mnist/C1/mnist_model_c1_aug_nc_e1_8\n",
      "Model loaded correctly\n",
      "D:/models/aug_22/mnist/C1/mnist_model_c1_aug_nc_e1_9\n",
      "Model loaded correctly\n",
      "D:/models/aug_22/mnist/C1/mnist_model_c1_aug_nc_e1_10\n",
      "Model loaded correctly\n",
      "D:/models/aug_22/mnist/C1/mnist_model_c1_aug_nc_e1_11\n",
      "Model loaded correctly\n",
      "D:/models/aug_22/mnist/C1/mnist_model_c1_aug_nc_e1_12\n",
      "Model loaded correctly\n",
      "D:/models/aug_22/mnist/C1/mnist_model_c1_aug_nc_e1_13\n",
      "Model loaded correctly\n",
      "D:/models/aug_22/mnist/C1/mnist_model_c1_aug_nc_e1_14\n",
      "Model loaded correctly\n",
      "D:/models/aug_22/mnist/C1/mnist_model_c1_aug_nc_e1_15\n",
      "Model loaded correctly\n",
      "D:/models/aug_22/mnist/C1/mnist_model_c1_aug_nc_e1_16\n",
      "Model loaded correctly\n",
      "D:/models/aug_22/mnist/C1/mnist_model_c1_aug_nc_e1_17\n",
      "Model loaded correctly\n",
      "D:/models/aug_22/mnist/C1/mnist_model_c1_aug_nc_e1_18\n",
      "Model loaded correctly\n",
      "D:/models/aug_22/mnist/C1/mnist_model_c1_aug_nc_e1_19\n",
      "Model loaded correctly\n"
     ]
    }
   ],
   "source": [
    "loading = True\n",
    "\n",
    "models_nc = []\n",
    "\n",
    "if loading:\n",
    "    for i in range(num_models):\n",
    "        #model_nc_dir = \"D:/models/aug_22/\"+dataset+\"/C1/\"+dataset+\"_model_c1_aug_nc_e1\"+str\n",
    "        model_nc_dir = data_dir+\"/\"+dataset+\"/C1/\"+dataset+\"_model_c1_aug_nc_e1_\"+str(i)\n",
    "        print(model_nc_dir)\n",
    "        model =utils.My_model(dataset,True,model_nc_dir)\n",
    "        model.model.compile(loss= 'categorical_crossentropy', optimizer = 'rmsprop', metrics = ['accuracy',tf.keras.metrics.Precision(), tf.keras.metrics.Recall()])\n",
    "        models_nc.append(model)"
   ]
  },
  {
   "cell_type": "markdown",
   "id": "833fda77",
   "metadata": {},
   "source": [
    "## Evaluating"
   ]
  },
  {
   "cell_type": "code",
   "execution_count": 20,
   "id": "750bf683",
   "metadata": {},
   "outputs": [],
   "source": [
    "model_original.model.compile(loss= 'categorical_crossentropy', optimizer = 'rmsprop', metrics = ['accuracy',tf.keras.metrics.Precision(), tf.keras.metrics.Recall()])"
   ]
  },
  {
   "cell_type": "code",
   "execution_count": 22,
   "id": "4e0bd645",
   "metadata": {},
   "outputs": [],
   "source": [
    "evaluate_lsa = []\n",
    "evaluate_dsa = []\n",
    "evaluate_dg = []\n",
    "evaluate_se = []\n",
    "evaluate_nc = []\n",
    "evaluate_random = []\n",
    "\n",
    "evaluate_lsa.append([0,0,0,0])\n",
    "evaluate_dsa.append([0,0,0,0])\n",
    "evaluate_dg.append([0,0,0,0])\n",
    "evaluate_se.append([0,0,0,0])\n",
    "evaluate_nc.append([0,0,0,0])\n",
    "evaluate_random.append([0,0,0,0])"
   ]
  },
  {
   "cell_type": "code",
   "execution_count": 23,
   "id": "d1355117",
   "metadata": {},
   "outputs": [
    {
     "name": "stdout",
     "output_type": "stream",
     "text": [
      "Evaluating for lsa\n",
      "438/438 [==============================] - 45s 24ms/step - loss: 1.5123 - accuracy: 0.6414 - precision_21: 0.6468 - recall_21: 0.6296\n",
      "438/438 [==============================] - 12s 23ms/step - loss: 4.4298 - accuracy: 0.3189 - precision_22: 0.3034 - recall_22: 0.3022 3s - loss: 4.4\n",
      "438/438 [==============================] - 12s 22ms/step - loss: 2.3462 - accuracy: 0.6060 - precision_23: 0.6132 - recall_23: 0.6061 8s - loss: 2.3352 - accuracy: \n",
      "438/438 [==============================] - 12s 21ms/step - loss: 1.0734 - accuracy: 0.6958 - precision_24: 0.7127 - recall_24: 0.6781\n",
      "438/438 [==============================] - 12s 21ms/step - loss: 1.1419 - accuracy: 0.6827 - precision_25: 0.7101 - recall_25: 0.6660\n",
      "438/438 [==============================] - 11s 20ms/step - loss: 1.3994 - accuracy: 0.6506 - precision_26: 0.6868 - recall_26: 0.6373\n",
      "438/438 [==============================] - 11s 20ms/step - loss: 1.0273 - accuracy: 0.7335 - precision_27: 0.9869 - recall_27: 0.4102 0s - loss: 1.0297 - accuracy: 0.7330 - precision_27: 0.9871 - recall_2\n",
      "438/438 [==============================] - 11s 20ms/step - loss: 1.1443 - accuracy: 0.7403 - precision_28: 0.8085 - recall_28: 0.7263\n",
      "438/438 [==============================] - 13s 24ms/step - loss: 1.4616 - accuracy: 0.6942 - precision_29: 0.7305 - recall_29: 0.6792\n",
      "438/438 [==============================] - 11s 20ms/step - loss: 0.9502 - accuracy: 0.7655 - precision_30: 0.8123 - recall_30: 0.7532\n",
      "438/438 [==============================] - 11s 20ms/step - loss: 1.4855 - accuracy: 0.7280 - precision_31: 0.7929 - recall_31: 0.7216\n",
      "438/438 [==============================] - 11s 20ms/step - loss: 0.5469 - accuracy: 0.8239 - precision_32: 0.9252 - recall_32: 0.8218\n",
      "438/438 [==============================] - 11s 20ms/step - loss: 1.1379 - accuracy: 0.7811 - precision_33: 0.8291 - recall_33: 0.7791 2s - loss: 1.1387 - accuracy: 0.7811 - precision_33: 0.83 - ETA: 1s - loss: 1.1422 - accuracy: 0.7803 - precision_33: 0.\n",
      "438/438 [==============================] - 11s 20ms/step - loss: 0.3078 - accuracy: 0.9657 - precision_34: 0.9882 - recall_34: 0.8453\n",
      "438/438 [==============================] - 12s 21ms/step - loss: 0.3367 - accuracy: 0.8789 - precision_35: 0.9459 - recall_35: 0.8619\n",
      "438/438 [==============================] - 11s 20ms/step - loss: 0.1417 - accuracy: 0.9652 - precision_36: 0.9767 - recall_36: 0.9465\n",
      "438/438 [==============================] - 11s 20ms/step - loss: 0.2759 - accuracy: 0.9848 - precision_37: 0.9916 - recall_37: 0.8302 3s - loss: 0.2729 - accura\n",
      "438/438 [==============================] - 11s 20ms/step - loss: 0.0464 - accuracy: 0.9885 - precision_38: 0.9917 - recall_38: 0.9880\n",
      "438/438 [==============================] - 11s 20ms/step - loss: 0.0500 - accuracy: 0.9895 - precision_39: 0.9914 - recall_39: 0.9905\n",
      "438/438 [==============================] - 11s 20ms/step - loss: 0.0369 - accuracy: 0.9894 - precision_40: 0.9921 - recall_40: 0.9904 2s - loss: 0.0354 - accuracy: 0.9900 - preci\n",
      "Evaluating for dsa\n",
      "438/438 [==============================] - 11s 20ms/step - loss: 0.1726 - accuracy: 0.9560 - precision_41: 0.9604 - recall_41: 0.9568 0s - loss: 0.1732 - accuracy: 0.9558 - precision_41: 0.9605 - recall_41:\n",
      "438/438 [==============================] - 11s 20ms/step - loss: 0.0876 - accuracy: 0.9761 - precision_42: 0.9791 - recall_42: 0.9774 6s - loss: 0.0773 -  - ETA: 2s - loss: 0.0868 - accuracy: 0.9\n",
      "438/438 [==============================] - 11s 20ms/step - loss: 0.0917 - accuracy: 0.9781 - precision_43: 0.9787 - recall_43: 0.9768 2s - loss: 0.0939 - accuracy\n",
      "438/438 [==============================] - 11s 20ms/step - loss: 0.0519 - accuracy: 0.9842 - precision_44: 0.9861 - recall_44: 0.9843 7s - loss: 0.0488 - accuracy: 0.9856 - p\n",
      "438/438 [==============================] - 11s 20ms/step - loss: 0.0494 - accuracy: 0.9866 - precision_45: 0.9881 - recall_45: 0.9868\n",
      "438/438 [==============================] - 11s 20ms/step - loss: 0.0482 - accuracy: 0.9856 - precision_46: 0.9874 - recall_46: 0.9861 1s - loss: 0.0473 - accuracy: 0.9858 - precision_46: 0.9877 - recall_46: 0 - ETA: 1s - loss: 0.0476 - accuracy: 0.9857 - precision_46: 0\n",
      "438/438 [==============================] - 11s 20ms/step - loss: 0.0559 - accuracy: 0.9845 - precision_47: 0.9864 - recall_47: 0.9857 8s - loss: 0.0468 - accur\n",
      "438/438 [==============================] - 11s 20ms/step - loss: 0.0436 - accuracy: 0.9879 - precision_48: 0.9896 - recall_48: 0.9891\n",
      "438/438 [==============================] - 13s 20ms/step - loss: 0.0386 - accuracy: 0.9888 - precision_49: 0.9911 - recall_49: 0.9899\n",
      "438/438 [==============================] - 11s 20ms/step - loss: 0.0468 - accuracy: 0.9871 - precision_50: 0.9891 - recall_50: 0.9881 2s - loss: 0.0451 - accuracy: 0.\n",
      "438/438 [==============================] - 11s 20ms/step - loss: 0.0423 - accuracy: 0.9883 - precision_51: 0.9902 - recall_51: 0.9893\n",
      "438/438 [==============================] - 11s 20ms/step - loss: 0.0427 - accuracy: 0.9889 - precision_52: 0.9923 - recall_52: 0.9894\n",
      "438/438 [==============================] - 11s 20ms/step - loss: 0.0465 - accuracy: 0.9871 - precision_53: 0.9903 - recall_53: 0.9851\n",
      "438/438 [==============================] - 11s 20ms/step - loss: 0.0459 - accuracy: 0.9871 - precision_54: 0.9900 - recall_54: 0.9842\n",
      "438/438 [==============================] - 11s 20ms/step - loss: 0.0502 - accuracy: 0.9863 - precision_55: 0.9863 - recall_55: 0.9856 1s - loss: 0.0490 - accuracy: 0.9863 - precision_55: 0.9862 - recall_55: 0 - ETA: 1s - loss: 0.0491 - accuracy: 0.9863 - precision_55: \n",
      "438/438 [==============================] - 11s 20ms/step - loss: 0.0533 - accuracy: 0.9877 - precision_56: 0.9904 - recall_56: 0.9896\n",
      "438/438 [==============================] - 11s 20ms/step - loss: 0.0501 - accuracy: 0.9879 - precision_57: 0.9894 - recall_57: 0.9891\n",
      "438/438 [==============================] - 11s 20ms/step - loss: 0.0552 - accuracy: 0.9870 - precision_58: 0.9889 - recall_58: 0.9880: 8s - loss: 0.0472 - accu\n",
      "438/438 [==============================] - 11s 20ms/step - loss: 0.0437 - accuracy: 0.9880 - precision_59: 0.9920 - recall_59: 0.9879 2s - loss: 0.0415 - accuracy: 0.9885 -\n",
      "438/438 [==============================] - 12s 21ms/step - loss: 0.0472 - accuracy: 0.9878 - precision_60: 0.9901 - recall_60: 0.9896 2s - loss: 0.0453 - accuracy: 0.9883 - pre\n",
      "Evaluating for random\n",
      "438/438 [==============================] - 12s 20ms/step - loss: 0.1410 - accuracy: 0.9649 - precision_101: 0.9712 - recall_101: 0.9665\n",
      "438/438 [==============================] - 11s 20ms/step - loss: 0.0772 - accuracy: 0.9772 - precision_102: 0.9791 - recall_102: 0.9762\n",
      "438/438 [==============================] - 11s 20ms/step - loss: 0.0732 - accuracy: 0.9806 - precision_103: 0.9816 - recall_103: 0.9811 1s - loss: 0.0723 - accuracy: 0.9809 - precision_103: 0.981 - ETA: 0s - loss: 0.0729 - accuracy: 0.9807 - precision_103: 0.9817 - recall_103:\n",
      "438/438 [==============================] - 11s 20ms/step - loss: 0.0737 - accuracy: 0.9819 - precision_104: 0.9837 - recall_104: 0.9824 5s - loss: 0.0678  - ETA: 2s - loss: 0.0723 - accuracy: 0.9823 - precision\n",
      "438/438 [==============================] - 12s 20ms/step - loss: 0.0630 - accuracy: 0.9826 - precision_105: 0.9847 - recall_105: 0.9836\n",
      "438/438 [==============================] - 11s 20ms/step - loss: 0.0637 - accuracy: 0.9843 - precision_106: 0.9854 - recall_106: 0.9849\n",
      "438/438 [==============================] - 11s 20ms/step - loss: 0.0513 - accuracy: 0.9853 - precision_107: 0.9865 - recall_107: 0.9862\n",
      "438/438 [==============================] - 11s 20ms/step - loss: 0.0599 - accuracy: 0.9845 - precision_108: 0.9862 - recall_108: 0.9837 3s - loss: 0.0581 - accurac\n",
      "438/438 [==============================] - 11s 20ms/step - loss: 0.0493 - accuracy: 0.9860 - precision_109: 0.9873 - recall_109: 0.9864\n",
      "438/438 [==============================] - 11s 20ms/step - loss: 0.0504 - accuracy: 0.9867 - precision_110: 0.9893 - recall_110: 0.9874 6s - loss: 0.0423 - accuracy: 0.9889 - precision_11 - ETA: 5s - loss: 0.0453 - accuracy: - ETA: 2s - loss: 0.0490 - accuracy: 0.9870 - precisi\n",
      "438/438 [==============================] - 13s 24ms/step - loss: 0.0482 - accuracy: 0.9859 - precision_111: 0.9885 - recall_111: 0.9858\n",
      "438/438 [==============================] - 11s 20ms/step - loss: 0.0371 - accuracy: 0.9894 - precision_112: 0.9917 - recall_112: 0.9903 8s - loss: 0.0297 - accuracy: 0.9914\n",
      "438/438 [==============================] - 11s 20ms/step - loss: 0.0397 - accuracy: 0.9878 - precision_113: 0.9892 - recall_113: 0.9884 6s - loss: 0.0346  - ETA: 2s - loss: 0.0381 - accuracy: 0.98\n",
      "438/438 [==============================] - 11s 20ms/step - loss: 0.0390 - accuracy: 0.9903 - precision_114: 0.9922 - recall_114: 0.9919\n",
      "438/438 [==============================] - 11s 20ms/step - loss: 0.0540 - accuracy: 0.9865 - precision_115: 0.9888 - recall_115: 0.9882 6s - loss: 0.0457 - accuracy: 0.9896 - precision_115: 0.9916 - recall_11 - ETA: 6s - loss: 0.0470 - accuracy: 0.9889 - pre - ETA: 3s - loss: 0.0503 - accuracy: 0.9876 - precision_115: 0.9 - ETA: 2s - loss: 0.0521 - accuracy: 0.9871 - precision_115: 0.9894 - re - ETA: 1s - loss: 0.0525 - accuracy: 0.9869 - precision_115: \n",
      "438/438 [==============================] - 11s 20ms/step - loss: 0.0433 - accuracy: 0.9864 - precision_116: 0.9878 - recall_116: 0.9858 0s - loss: 0.0428 - accuracy: 0.9865 - precision_116: 0.9879 - recall_1\n",
      "438/438 [==============================] - 11s 20ms/step - loss: 0.0621 - accuracy: 0.9875 - precision_117: 0.9897 - recall_117: 0.9890\n",
      "438/438 [==============================] - 11s 20ms/step - loss: 0.8149 - accuracy: 0.9308 - precision_118: 0.9978 - recall_118: 0.4884\n",
      "438/438 [==============================] - 11s 20ms/step - loss: 0.0332 - accuracy: 0.9899 - precision_119: 0.9924 - recall_119: 0.9901\n",
      "438/438 [==============================] - 11s 20ms/step - loss: 0.0425 - accuracy: 0.9878 - precision_120: 0.9900 - recall_120: 0.9895\n",
      "Evaluating for nc\n",
      "438/438 [==============================] - 11s 20ms/step - loss: 3.2988 - accuracy: 0.5977 - precision_121: 0.6235 - recall_121: 0.5921\n",
      "438/438 [==============================] - 11s 20ms/step - loss: 2.3730 - accuracy: 0.7209 - precision_122: 0.7437 - recall_122: 0.7124 4\n",
      "438/438 [==============================] - 11s 20ms/step - loss: 3.6845 - accuracy: 0.7239 - precision_123: 0.7320 - recall_123: 0.7227\n",
      "438/438 [==============================] - 11s 20ms/step - loss: 1.5040 - accuracy: 0.7680 - precision_124: 0.7847 - recall_124: 0.7703\n",
      "438/438 [==============================] - 11s 20ms/step - loss: 1.5012 - accuracy: 0.7705 - precision_125: 0.8044 - recall_125: 0.7735 8s - loss:  - ETA: 3s - loss: 1.493\n",
      "438/438 [==============================] - 11s 20ms/step - loss: 1.4245 - accuracy: 0.8197 - precision_126: 0.8462 - recall_126: 0.8210\n",
      "438/438 [==============================] - 11s 20ms/step - loss: 1.3096 - accuracy: 0.8171 - precision_127: 0.8332 - recall_127: 0.8196\n",
      "438/438 [==============================] - 11s 20ms/step - loss: 0.8530 - accuracy: 0.8390 - precision_128: 0.8886 - recall_128: 0.8371\n",
      "438/438 [==============================] - 11s 20ms/step - loss: 0.7278 - accuracy: 0.8495 - precision_129: 0.8691 - recall_129: 0.8492\n",
      "438/438 [==============================] - 11s 20ms/step - loss: 0.3148 - accuracy: 0.9306 - precision_130: 0.9612 - recall_130: 0.8528 2s - loss: 0.3134 - accuracy: 0\n",
      "438/438 [==============================] - 11s 20ms/step - loss: 0.1527 - accuracy: 0.9590 - precision_131: 0.9739 - recall_131: 0.9368\n",
      "438/438 [==============================] - 11s 20ms/step - loss: 0.2275 - accuracy: 0.9212 - precision_132: 0.9385 - recall_132: 0.9118\n",
      "438/438 [==============================] - 11s 20ms/step - loss: 0.1707 - accuracy: 0.9565 - precision_133: 0.9680 - recall_133: 0.9451\n",
      "438/438 [==============================] - 11s 20ms/step - loss: 0.0789 - accuracy: 0.9790 - precision_134: 0.9884 - recall_134: 0.9716 6s - loss: 0.0651 - accuracy: 0.9827 - precision_134: 0.9909 - re - ET\n",
      "438/438 [==============================] - 11s 20ms/step - loss: 0.0591 - accuracy: 0.9836 - precision_135: 0.9861 - recall_135: 0.9842\n",
      "438/438 [==============================] - 11s 20ms/step - loss: 0.0556 - accuracy: 0.9852 - precision_136: 0.9876 - recall_136: 0.9858\n",
      "438/438 [==============================] - 11s 20ms/step - loss: 0.0484 - accuracy: 0.9864 - precision_137: 0.9896 - recall_137: 0.9857\n",
      "438/438 [==============================] - 11s 20ms/step - loss: 0.0658 - accuracy: 0.9832 - precision_138: 0.9853 - recall_138: 0.9834\n",
      "438/438 [==============================] - 11s 20ms/step - loss: 0.0481 - accuracy: 0.9886 - precision_139: 0.9914 - recall_139: 0.9909\n",
      "438/438 [==============================] - 11s 20ms/step - loss: 0.0411 - accuracy: 0.9884 - precision_140: 0.9910 - recall_140: 0.9900 7s - loss: 0.0225 - accuracy: 0.9924 - precision_140: 0.9942 - r - ETA: 6s - loss: 0.0276 - accuracy: 0.9911 - precision_140: 0.9936 - r -  - ETA: 0s - loss: 0.0405 - accuracy: 0.9885 - precision_140: 0.9910 - recall_140:\n"
     ]
    }
   ],
   "source": [
    "# Metrics using adversarial test\n",
    "\n",
    "#evaluate_lsa.append(model_original.evaluate(x_test_and_adversary,y_test_and_adversary))\n",
    "#evaluate_dsa.append(model_original.evaluate(x_test_and_adversary,y_test_and_adversary))\n",
    "#evaluate_nc.append(model_original.evaluate(x_test_and_adversary,y_test_and_adversary))\n",
    "#evaluate_random.append(model_original.evaluate(x_test_and_adversary,y_test_and_adversary))\n",
    "print(\"Evaluating for lsa\")\n",
    "for model in models_lsa:\n",
    "    evaluate_lsa.append(model.evaluate(x_test_and_adversary,y_test_and_adversary))\n",
    "    \n",
    "print(\"Evaluating for dsa\")\n",
    "for model in models_dsa:\n",
    "    evaluate_dsa.append(model.evaluate(x_test_and_adversary,y_test_and_adversary))\n",
    "print(\"Evaluating for random\")\n",
    "for model in models_random:\n",
    "    evaluate_random.append(model.evaluate(x_test_and_adversary,y_test_and_adversary))\n",
    "print(\"Evaluating for nc\")\n",
    "for model in models_nc:\n",
    "    evaluate_nc.append(model.evaluate(x_test_and_adversary,y_test_and_adversary))"
   ]
  },
  {
   "cell_type": "code",
   "execution_count": 24,
   "id": "763ceacd",
   "metadata": {},
   "outputs": [
    {
     "name": "stdout",
     "output_type": "stream",
     "text": [
      "Evaluating for dg\n",
      "438/438 [==============================] - 13s 20ms/step - loss: 0.1853 - accuracy: 0.9375 - precision_61: 0.9453 - recall_61: 0.9351\n",
      "438/438 [==============================] - 11s 20ms/step - loss: 0.0629 - accuracy: 0.9785 - precision_62: 0.9810 - recall_62: 0.9744 4s - loss: 0.0645 - acc - ETA: 0s - loss: 0.0634 - accuracy: 0.9784 - precision_62: 0.9809 - re\n",
      "438/438 [==============================] - 11s 20ms/step - loss: 0.0444 - accuracy: 0.9850 - precision_63: 0.9870 - recall_63: 0.9852\n",
      "438/438 [==============================] - 11s 20ms/step - loss: 0.0264 - accuracy: 0.9913 - precision_64: 0.9930 - recall_64: 0.9916\n",
      "438/438 [==============================] - 11s 20ms/step - loss: 0.0308 - accuracy: 0.9909 - precision_65: 0.9935 - recall_65: 0.9902\n",
      "438/438 [==============================] - 11s 20ms/step - loss: 0.0433 - accuracy: 0.9868 - precision_66: 0.9878 - recall_66: 0.9873\n",
      "438/438 [==============================] - 11s 20ms/step - loss: 0.0322 - accuracy: 0.9904 - precision_67: 0.9920 - recall_67: 0.9914\n",
      "438/438 [==============================] - 11s 20ms/step - loss: 0.0317 - accuracy: 0.9907 - precision_68: 0.9915 - recall_68: 0.9904\n",
      "438/438 [==============================] - 11s 20ms/step - loss: 0.0316 - accuracy: 0.9912 - precision_69: 0.9934 - recall_69: 0.9918 1s - loss: 0.0312 - accuracy: 0.9915 - precision_69:\n",
      "438/438 [==============================] - 11s 20ms/step - loss: 0.0379 - accuracy: 0.9913 - precision_70: 0.9927 - recall_70: 0.9916\n",
      "438/438 [==============================] - 11s 20ms/step - loss: 0.0306 - accuracy: 0.9909 - precision_71: 0.9936 - recall_71: 0.9907 4s - loss\n",
      "438/438 [==============================] - 11s 20ms/step - loss: 0.0327 - accuracy: 0.9908 - precision_72: 0.9931 - recall_72: 0.9904 6s - loss: 0.0233 - accuracy: 0.9936 - pr - ETA: 3s - loss: 0.0288 - accuracy: 0.9919 - precision_72:  - ETA: 2s - loss: 0.0310 - accuracy: 0.9913 -\n",
      "438/438 [==============================] - 11s 20ms/step - loss: 0.0332 - accuracy: 0.9912 - precision_73: 0.9941 - recall_73: 0.9926 4s - loss: 0.0291 - accuracy: 0.9931 - precision_73: 0.9958 - recall_ - ETA: 4s - loss:\n",
      "438/438 [==============================] - 11s 20ms/step - loss: 0.0390 - accuracy: 0.9908 - precision_74: 0.9938 - recall_74: 0.9928\n",
      "438/438 [==============================] - 11s 20ms/step - loss: 0.0509 - accuracy: 0.9874 - precision_75: 0.9884 - recall_75: 0.9877 0s - loss: 0.0500 - accuracy: 0.9875 - precision_75: 0.9884 - re\n",
      "438/438 [==============================] - 10s 18ms/step - loss: 0.0402 - accuracy: 0.9902 - precision_76: 0.9930 - recall_76: 0.9902\n",
      "438/438 [==============================] - 10s 20ms/step - loss: 0.0388 - accuracy: 0.9898 - precision_77: 0.9916 - recall_77: 0.9877\n",
      "438/438 [==============================] - 11s 20ms/step - loss: 0.0421 - accuracy: 0.9899 - precision_78: 0.9919 - recall_78: 0.9918 2s - loss: 0.0400 - accuracy: 0.9905 - precision_78: 0. - ETA: 1s - loss: 0.0410 - accuracy: 0.9902 - precision_78: \n",
      "438/438 [==============================] - 11s 20ms/step - loss: 0.0924 - accuracy: 0.9833 - precision_79: 0.9903 - recall_79: 0.9669\n",
      "438/438 [==============================] - 11s 20ms/step - loss: 0.0542 - accuracy: 0.9855 - precision_80: 0.9883 - recall_80: 0.9859 6s - loss: 0.0508 - accuracy: 0.9875 - precision_80: 0.9905 - ETA: \n",
      "Evaluating for se\n",
      "438/438 [==============================] - 11s 20ms/step - loss: 0.1894 - accuracy: 0.9378 - precision_81: 0.9447 - recall_81: 0.9317\n",
      "438/438 [==============================] - 11s 20ms/step - loss: 0.0574 - accuracy: 0.9814 - precision_82: 0.9844 - recall_82: 0.9798 3s - loss: 0.0568 -\n",
      "438/438 [==============================] - 11s 20ms/step - loss: 0.0419 - accuracy: 0.9849 - precision_83: 0.9872 - recall_83: 0.9837\n",
      "438/438 [==============================] - 11s 20ms/step - loss: 0.0339 - accuracy: 0.9902 - precision_84: 0.9910 - recall_84: 0.9906\n",
      "438/438 [==============================] - 11s 20ms/step - loss: 0.0415 - accuracy: 0.9867 - precision_85: 0.9893 - recall_85: 0.9838 7s - loss: 0.0381 - accurac - ETA: 4s \n",
      "438/438 [==============================] - 11s 20ms/step - loss: 0.0328 - accuracy: 0.9903 - precision_86: 0.9920 - recall_86: 0.9908\n",
      "438/438 [==============================] - 11s 20ms/step - loss: 0.0351 - accuracy: 0.9904 - precision_87: 0.9918 - recall_87: 0.9918 6s - loss: 0.0274 - accuracy: 0.99 - ETA: 4s - loss: 0.0319 - accuracy: 0.9911 - precision_87: 0.9929 - re - ETA: 3s - loss: 0.0333 - accur\n",
      "438/438 [==============================] - 11s 20ms/step - loss: 0.0350 - accuracy: 0.9900 - precision_88: 0.9909 - recall_88: 0.9909 0s - loss: 0.0345 - accuracy: 0.9901 - precision_88: 0.9910 - recal\n",
      "438/438 [==============================] - 11s 20ms/step - loss: 0.0325 - accuracy: 0.9904 - precision_89: 0.9918 - recall_89: 0.9914 1s - loss: 0.0321 - accuracy: 0.9906 - precision_89: 0.9920 - - ETA: 0s - loss: 0.0323 - accuracy: 0.9905 - precision_89: 0.9919 - rec\n",
      "438/438 [==============================] - 12s 20ms/step - loss: 0.0438 - accuracy: 0.9883 - precision_90: 0.9910 - recall_90: 0.9893\n",
      "438/438 [==============================] - 11s 20ms/step - loss: 0.0300 - accuracy: 0.9906 - precision_91: 0.9936 - recall_91: 0.9922\n",
      "438/438 [==============================] - 12s 20ms/step - loss: 0.0343 - accuracy: 0.9906 - precision_92: 0.9920 - recall_92: 0.9891 4s -\n",
      "438/438 [==============================] - 11s 20ms/step - loss: 0.0348 - accuracy: 0.9899 - precision_93: 0.9908 - recall_93: 0.9900 3s - loss: 0.0330 - accuracy: 0. - ETA: 0s - loss: 0.0342 - accuracy: 0.9900 - precision_93: 0.9909 - rec\n",
      "438/438 [==============================] - 11s 20ms/step - loss: 0.0391 - accuracy: 0.9889 - precision_94: 0.9910 - recall_94: 0.9898 5s - l - ETA: 1s - loss: 0.0384 - accuracy: 0.9891 - precision_94: \n",
      "438/438 [==============================] - 12s 20ms/step - loss: 0.0453 - accuracy: 0.9891 - precision_95: 0.9904 - recall_95: 0.9901\n",
      "438/438 [==============================] - 12s 20ms/step - loss: 0.0390 - accuracy: 0.9889 - precision_96: 0.9905 - recall_96: 0.9886\n",
      "438/438 [==============================] - 11s 20ms/step - loss: 0.0513 - accuracy: 0.9867 - precision_97: 0.9880 - recall_97: 0.9876 4s\n",
      "438/438 [==============================] - 11s 20ms/step - loss: 0.0437 - accuracy: 0.9883 - precision_98: 0.9893 - recall_98: 0.9886\n",
      "438/438 [==============================] - 11s 20ms/step - loss: 0.0466 - accuracy: 0.9890 - precision_99: 0.9898 - recall_99: 0.9891\n",
      "438/438 [==============================] - 11s 20ms/step - loss: 0.0352 - accuracy: 0.9900 - precision_100: 0.9918 - recall_100: 0.9908 3s - loss: 0.0320 - accu\n"
     ]
    }
   ],
   "source": [
    "print(\"Evaluating for dg\")\n",
    "for model in models_dg:\n",
    "    evaluate_dg.append(model.evaluate(x_test_and_adversary,y_test_and_adversary))\n",
    "    \n",
    "print(\"Evaluating for se\")\n",
    "for model in models_se:\n",
    "    evaluate_se.append(model.evaluate(x_test_and_adversary,y_test_and_adversary))\n"
   ]
  },
  {
   "cell_type": "code",
   "execution_count": 25,
   "id": "f1f34188",
   "metadata": {},
   "outputs": [
    {
     "data": {
      "text/plain": [
       "21"
      ]
     },
     "execution_count": 25,
     "metadata": {},
     "output_type": "execute_result"
    }
   ],
   "source": [
    "len(evaluate_dg)"
   ]
  },
  {
   "cell_type": "code",
   "execution_count": 26,
   "id": "5dbabf04",
   "metadata": {},
   "outputs": [
    {
     "data": {
      "text/plain": [
       "21"
      ]
     },
     "execution_count": 26,
     "metadata": {},
     "output_type": "execute_result"
    }
   ],
   "source": [
    "len(evaluate_nc)"
   ]
  },
  {
   "cell_type": "code",
   "execution_count": 27,
   "id": "517d4d11",
   "metadata": {},
   "outputs": [],
   "source": [
    "import pandas as pd\n",
    "\n",
    "df_evaluate_lsa = pd.DataFrame(np.array(evaluate_lsa),columns=[\"loss\",\"accuracy\",\"precision\",\"recall\"])\n",
    "df_evaluate_dsa = pd.DataFrame(np.array(evaluate_dsa),columns=[\"loss\",\"accuracy\",\"precision\",\"recall\"])\n",
    "df_evaluate_dg = pd.DataFrame(np.array(evaluate_dg),columns=[\"loss\",\"accuracy\",\"precision\",\"recall\"])\n",
    "df_evaluate_se = pd.DataFrame(np.array(evaluate_se),columns=[\"loss\",\"accuracy\",\"precision\",\"recall\"])\n",
    "\n",
    "df_evaluate_random = pd.DataFrame(np.array(evaluate_random),columns=[\"loss\",\"accuracy\",\"precision\",\"recall\"])\n",
    "df_evaluate_nc = pd.DataFrame(np.array(evaluate_nc),columns=[\"loss\",\"accuracy\",\"precision\",\"recall\"])\n"
   ]
  },
  {
   "cell_type": "code",
   "execution_count": 11,
   "id": "61cdc34d",
   "metadata": {},
   "outputs": [],
   "source": [
    "save_dir = \"D:/aug_graphs/\"+dataset+\"/\"+config_lc"
   ]
  },
  {
   "cell_type": "code",
   "execution_count": 12,
   "id": "3371b191",
   "metadata": {},
   "outputs": [],
   "source": [
    "import pandas as pd\n",
    "loading_csv = True\n",
    "if(loading_csv):\n",
    "    \n",
    "    df_evaluate_lsa = pd.read_csv(save_dir+\"/lsa_\"+config_lc)\n",
    "    df_evaluate_dsa = pd.read_csv(save_dir+\"/dsa_\"+config_lc)\n",
    "    df_evaluate_dg = pd.read_csv(save_dir+\"/dg_\"+config_lc)\n",
    "    df_evaluate_se = pd.read_csv(save_dir+\"/se_\"+config_lc)\n",
    "    df_evaluate_random = pd.read_csv(save_dir+\"/random_\"+config_lc)\n",
    "    df_evaluate_nc = pd.read_csv(save_dir+\"/nc_\"+config_lc)\n",
    "    "
   ]
  },
  {
   "cell_type": "code",
   "execution_count": null,
   "id": "50aaf0aa",
   "metadata": {},
   "outputs": [],
   "source": []
  },
  {
   "cell_type": "code",
   "execution_count": null,
   "id": "071139f8",
   "metadata": {},
   "outputs": [],
   "source": []
  },
  {
   "cell_type": "code",
   "execution_count": 30,
   "id": "0ac880db",
   "metadata": {},
   "outputs": [],
   "source": [
    "if(not loading_csv):\n",
    "    df_evaluate_lsa.to_csv(save_dir+\"/lsa_\"+config_lc,index=False)\n",
    "    df_evaluate_dsa.to_csv(save_dir+\"/dsa_\"+config_lc,index=False)\n",
    "    df_evaluate_dg.to_csv(save_dir+\"/dg_\"+config_lc,index=False)\n",
    "    df_evaluate_se.to_csv(save_dir+\"/se_\"+config_lc,index=False)\n",
    "    df_evaluate_random.to_csv(save_dir+\"/random_\"+config_lc,index=False)\n",
    "    df_evaluate_nc.to_csv(save_dir+\"/nc_\"+config_lc,index=False)"
   ]
  },
  {
   "cell_type": "code",
   "execution_count": 13,
   "id": "890f3a71",
   "metadata": {},
   "outputs": [],
   "source": [
    "\n",
    "metric =\"accuracy\"\n",
    "accuracy_lsa_3 = np.array(df_evaluate_lsa[metric])\n",
    "accuracy_dsa_3 = np.array(df_evaluate_dsa[metric])\n",
    "accuracy_dg_3 = np.array(df_evaluate_dg[metric])\n",
    "accuracy_se_3 = np.array(df_evaluate_se[metric])\n",
    "\n",
    "accuracy_nc_3 =np.array(df_evaluate_nc[metric])\n",
    "accuracy_random_3 = np.array(df_evaluate_random[metric])\n"
   ]
  },
  {
   "cell_type": "code",
   "execution_count": null,
   "id": "8024d77a",
   "metadata": {},
   "outputs": [],
   "source": []
  },
  {
   "cell_type": "code",
   "execution_count": 14,
   "id": "03c35db6",
   "metadata": {},
   "outputs": [],
   "source": [
    "n_data_points = 2800"
   ]
  },
  {
   "cell_type": "code",
   "execution_count": 15,
   "id": "8f14989c",
   "metadata": {},
   "outputs": [
    {
     "data": {
      "text/plain": [
       "21"
      ]
     },
     "execution_count": 15,
     "metadata": {},
     "output_type": "execute_result"
    }
   ],
   "source": [
    "len(accuracy_dsa_3)"
   ]
  },
  {
   "cell_type": "code",
   "execution_count": 16,
   "id": "5a1006eb",
   "metadata": {},
   "outputs": [
    {
     "name": "stdout",
     "output_type": "stream",
     "text": [
      "21\n"
     ]
    },
    {
     "data": {
      "text/plain": [
       "[0,\n",
       " 2800,\n",
       " 5600,\n",
       " 8400,\n",
       " 11200,\n",
       " 14000,\n",
       " 16800,\n",
       " 19600,\n",
       " 22400,\n",
       " 25200,\n",
       " 28000,\n",
       " 30800,\n",
       " 33600,\n",
       " 36400,\n",
       " 39200,\n",
       " 42000,\n",
       " 44800,\n",
       " 47600,\n",
       " 50400,\n",
       " 53200,\n",
       " 55998]"
      ]
     },
     "execution_count": 16,
     "metadata": {},
     "output_type": "execute_result"
    }
   ],
   "source": [
    "if(len(accuracy_lsa_3)>21):\n",
    "    n_inputs = [n_data_points*i for i in range(num_models+1)]\n",
    "else:\n",
    "    n_inputs = [n_data_points*i for i in range(num_models)]\n",
    "    \n",
    "n_inputs.append(len(x_train_and_adversary))\n",
    "print(len(n_inputs))\n",
    "n_inputs"
   ]
  },
  {
   "cell_type": "code",
   "execution_count": 17,
   "id": "7d87bbdc",
   "metadata": {},
   "outputs": [
    {
     "name": "stdout",
     "output_type": "stream",
     "text": [
      "21\n",
      "21\n"
     ]
    }
   ],
   "source": [
    "print(len(df_evaluate_lsa))\n",
    "print(len(n_inputs))"
   ]
  },
  {
   "cell_type": "code",
   "execution_count": 18,
   "id": "94dd0268",
   "metadata": {},
   "outputs": [],
   "source": [
    "save_dir = \"D:/aug_graphs/\"+dataset+\"/\"+config"
   ]
  },
  {
   "cell_type": "code",
   "execution_count": 19,
   "id": "e661d375",
   "metadata": {},
   "outputs": [],
   "source": [
    "linestyles = ['solid','dotted','dashed','dashed','dashdot','dashdot']\n",
    "colors =['b','g','r','c','m','k']"
   ]
  },
  {
   "cell_type": "code",
   "execution_count": 23,
   "id": "125545fd",
   "metadata": {},
   "outputs": [
    {
     "name": "stdout",
     "output_type": "stream",
     "text": [
      "53200 0.9869999885559082\n",
      "25200 0.9884999990463256\n",
      "11200 0.9915000200271606\n",
      "11200 0.9902856945991516\n",
      "53200 0.9883571267127992\n",
      "55998 0.9858571290969848\n"
     ]
    },
    {
     "data": {
      "image/png": "[encoded data removed]",
      "text/plain": [
       "<Figure size 432x288 with 1 Axes>"
      ]
     },
     "metadata": {
      "needs_background": "light"
     },
     "output_type": "display_data"
    }
   ],
   "source": [
    "#adversarial jsma test set\n",
    "#configuration 3\n",
    "\"\"\"\n",
    "6) Incremental guided retraining starting from the original model using only the new adversarial inputs.\n",
    "Incremental training, starting with the previous trained model. Using at each iteration a subset of the new inputs.\n",
    "\"\"\"\n",
    "import matplotlib.pyplot as plt\n",
    "import matplotlib.patches as mpatches\n",
    "\n",
    "from matplotlib.patches import Patch\n",
    "from matplotlib.lines import Line2D\n",
    "\n",
    "plt.plot(n_inputs,accuracy_lsa_3,colors[0],linestyle=linestyles[0])\n",
    "plt.plot(n_inputs,accuracy_dsa_3,colors[1],linestyle=linestyles[1])\n",
    "plt.plot(n_inputs,accuracy_dg_3,colors[2],linestyle=linestyles[2])\n",
    "plt.plot(n_inputs,accuracy_se_3,colors[3],linestyle=linestyles[3])\n",
    "plt.plot(n_inputs,accuracy_random_3,colors[4],linestyle=linestyles[4])\n",
    "plt.plot(n_inputs,accuracy_nc_3,colors[5],linestyle=linestyles[5])\n",
    "\n",
    "\n",
    "legend_elements = [Line2D([0], [0], color=colors[0], label='LSA',ls = linestyles[0]),\n",
    "                   Line2D([0], [0], color=colors[1], label='DSA',ls = linestyles[1]),\n",
    "                   Line2D([0], [0], color=colors[2], label='dg',ls = linestyles[2]),\n",
    "                   Line2D([0], [0], color=colors[3], label='se',ls = linestyles[3]),\n",
    "                   Line2D([0], [0], color=colors[4], label='Random',ls = linestyles[4]),\n",
    "                   Line2D([0], [0], color=colors[5], label='NC',ls = linestyles[5])]\n",
    "\n",
    "\n",
    "\n",
    "plt.legend(handles=legend_elements)#\n",
    "#plt.title(\"Accuracy\")\n",
    "\n",
    "print(n_inputs[np.argmax(accuracy_lsa_3)],accuracy_lsa_3.max())\n",
    "print(n_inputs[np.argmax(accuracy_dsa_3)],accuracy_dsa_3.max())\n",
    "print(n_inputs[np.argmax(accuracy_dg_3)],accuracy_dg_3.max())\n",
    "print(n_inputs[np.argmax(accuracy_se_3)],accuracy_se_3.max())\n",
    "print(n_inputs[np.argmax(accuracy_random_3)],accuracy_random_3.max())\n",
    "print(n_inputs[np.argmax(accuracy_nc_3)],accuracy_nc_3.max())\n",
    "\n",
    "plt.plot(n_inputs[np.argmax(accuracy_lsa_3)],accuracy_lsa_3.max(),'-bD',)\n",
    "plt.plot(n_inputs[np.argmax(accuracy_dsa_3)],accuracy_dsa_3.max(),'-go')\n",
    "plt.plot(n_inputs[np.argmax(accuracy_dg_3)],accuracy_dg_3.max(),'-r+')\n",
    "plt.plot(n_inputs[np.argmax(accuracy_se_3)],accuracy_se_3.max(),'-c*')\n",
    "plt.plot(n_inputs[np.argmax(accuracy_random_3)],accuracy_random_3.max(),'-mv')\n",
    "plt.plot(n_inputs[np.argmax(accuracy_nc_3)],accuracy_nc_3.max(),'-kp')\n",
    "\n",
    "plt.xlabel('Number of inputs')\n",
    "plt.ylabel('Accuracy')\n",
    "plt.xlim([0, len(x_train_and_adversary)])\n",
    "plt.ylim([0.9, 1])\n",
    "\n",
    "plt.savefig(save_dir+\"/\"+dataset+\"_\"+config_lc+\"_\"+\"accuracy\" + \".svg\")\n",
    "\n",
    "plt.show()"
   ]
  },
  {
   "cell_type": "code",
   "execution_count": 24,
   "id": "e3ea3c04",
   "metadata": {},
   "outputs": [
    {
     "name": "stdout",
     "output_type": "stream",
     "text": [
      "53200 0.9869999885559082\n",
      "25200 0.9884999990463256\n",
      "11200 0.9915000200271606\n",
      "11200 0.9902856945991516\n",
      "53200 0.9883571267127992\n",
      "55998 0.9858571290969848\n"
     ]
    },
    {
     "data": {
      "image/png": "[encoded data removed]",
      "text/plain": [
       "<Figure size 432x288 with 1 Axes>"
      ]
     },
     "metadata": {
      "needs_background": "light"
     },
     "output_type": "display_data"
    }
   ],
   "source": [
    "#adversarial jsma test set\n",
    "#configuration 3\n",
    "\"\"\"\n",
    "6) Incremental guided retraining starting from the original model using only the new adversarial inputs.\n",
    "Incremental training, starting with the previous trained model. Using at each iteration a subset of the new inputs.\n",
    "\"\"\"\n",
    "import matplotlib.pyplot as plt\n",
    "import matplotlib.patches as mpatches\n",
    "\n",
    "from matplotlib.patches import Patch\n",
    "from matplotlib.lines import Line2D\n",
    "\n",
    "plt.plot(n_inputs,accuracy_lsa_3,colors[0],linestyle=linestyles[0])\n",
    "plt.plot(n_inputs,accuracy_dsa_3,colors[1],linestyle=linestyles[1])\n",
    "plt.plot(n_inputs,accuracy_dg_3,colors[2],linestyle=linestyles[2])\n",
    "plt.plot(n_inputs,accuracy_se_3,colors[3],linestyle=linestyles[3])\n",
    "plt.plot(n_inputs,accuracy_random_3,colors[4],linestyle=linestyles[4])\n",
    "plt.plot(n_inputs,accuracy_nc_3,colors[5],linestyle=linestyles[5])\n",
    "\n",
    "\n",
    "legend_elements = [Line2D([0], [0], color=colors[0], label='LSA',ls = linestyles[0]),\n",
    "                   Line2D([0], [0], color=colors[1], label='DSA',ls = linestyles[1]),\n",
    "                   Line2D([0], [0], color=colors[2], label='dg',ls = linestyles[2]),\n",
    "                   Line2D([0], [0], color=colors[3], label='se',ls = linestyles[3]),\n",
    "                   Line2D([0], [0], color=colors[4], label='Random',ls = linestyles[4]),\n",
    "                   Line2D([0], [0], color=colors[5], label='NC',ls = linestyles[5])]\n",
    "\n",
    "\n",
    "\n",
    "plt.legend(handles=legend_elements)#\n",
    "#plt.title(\"Accuracy\")\n",
    "\n",
    "print(n_inputs[np.argmax(accuracy_lsa_3)],accuracy_lsa_3.max())\n",
    "print(n_inputs[np.argmax(accuracy_dsa_3)],accuracy_dsa_3.max())\n",
    "print(n_inputs[np.argmax(accuracy_dg_3)],accuracy_dg_3.max())\n",
    "print(n_inputs[np.argmax(accuracy_se_3)],accuracy_se_3.max())\n",
    "print(n_inputs[np.argmax(accuracy_random_3)],accuracy_random_3.max())\n",
    "print(n_inputs[np.argmax(accuracy_nc_3)],accuracy_nc_3.max())\n",
    "\n",
    "plt.plot(n_inputs[np.argmax(accuracy_lsa_3)],accuracy_lsa_3.max(),'-bD',)\n",
    "plt.plot(n_inputs[np.argmax(accuracy_dsa_3)],accuracy_dsa_3.max(),'-go')\n",
    "plt.plot(n_inputs[np.argmax(accuracy_dg_3)],accuracy_dg_3.max(),'-r+')\n",
    "plt.plot(n_inputs[np.argmax(accuracy_se_3)],accuracy_se_3.max(),'-c*')\n",
    "plt.plot(n_inputs[np.argmax(accuracy_random_3)],accuracy_random_3.max(),'-mv')\n",
    "plt.plot(n_inputs[np.argmax(accuracy_nc_3)],accuracy_nc_3.max(),'-kp')\n",
    "\n",
    "plt.xlabel('Number of inputs')\n",
    "plt.ylabel('Accuracy')\n",
    "plt.xlim([0, len(x_train_and_adversary)])\n",
    "plt.ylim([0, 1])\n",
    "\n",
    "plt.savefig(save_dir+\"/\"+dataset+\"_\"+config_lc+\"_\"+\"accuracy\" + \".svg\")\n",
    "\n",
    "plt.show()"
   ]
  },
  {
   "cell_type": "code",
   "execution_count": null,
   "id": "09841214",
   "metadata": {},
   "outputs": [],
   "source": []
  }
 ],
 "metadata": {
  "kernelspec": {
   "display_name": "Python 3 (ipykernel)",
   "language": "python",
   "name": "python3"
  },
  "language_info": {
   "codemirror_mode": {
    "name": "ipython",
    "version": 3
   },
   "file_extension": ".py",
   "mimetype": "text/x-python",
   "name": "python",
   "nbconvert_exporter": "python",
   "pygments_lexer": "ipython3",
   "version": "3.9.7"
  }
 },
 "nbformat": 4,
 "nbformat_minor": 5
}
