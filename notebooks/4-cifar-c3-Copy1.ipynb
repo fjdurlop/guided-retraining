{
 "cells": [
  {
   "cell_type": "code",
   "execution_count": 1,
   "id": "458bf345",
   "metadata": {},
   "outputs": [],
   "source": [
    "import argparse\n",
    "\n",
    "import numpy as np\n",
    "import tensorflow as tf\n",
    "import keras.backend as K\n",
    "\n",
    "import matplotlib.pyplot as plt\n",
    "\n",
    "from keras.utils import np_utils\n",
    "from keras.models import Sequential\n",
    "from keras.layers import Dense, Dropout, Activation, Flatten, Conv2D, MaxPooling2D\n",
    "from keras.regularizers import l2\n",
    "\n",
    "import glob\n",
    "import os\n",
    "import cv2\n",
    "import keras\n",
    "\n",
    "\n",
    "import time\n",
    "import argparse\n",
    "\n",
    "from tqdm import tqdm\n",
    "\n",
    "from keras.models import load_model, Model\n"
   ]
  },
  {
   "cell_type": "code",
   "execution_count": 2,
   "id": "d87645a5",
   "metadata": {},
   "outputs": [
    {
     "name": "stdout",
     "output_type": "stream",
     "text": [
      "[WinError 3] The system cannot find the path specified: 'C:/Users/fjdur/Documents/utils/'\n",
      "C:\\Users\\fjdurlop\\Documents\\upc\\upc-july\\notebooks\n"
     ]
    }
   ],
   "source": [
    "cd C:/Users/fjdur/Documents/utils/"
   ]
  },
  {
   "cell_type": "code",
   "execution_count": 3,
   "id": "c6c83ac8",
   "metadata": {},
   "outputs": [
    {
     "name": "stdout",
     "output_type": "stream",
     "text": [
      "C:\\Users\\fjdurlop\\Documents\\upc\\utils\n"
     ]
    }
   ],
   "source": [
    "cd C:/Users/fjdurlop/Documents/upc/utils/"
   ]
  },
  {
   "cell_type": "code",
   "execution_count": 4,
   "id": "b4b5dea1",
   "metadata": {},
   "outputs": [
    {
     "name": "stdout",
     "output_type": "stream",
     "text": [
      "2.5.0\n",
      "keras\n",
      "2.5.0\n"
     ]
    }
   ],
   "source": [
    "#import utils_guided_retraining as utils\n",
    "import utils_guided_retraining2 as utils"
   ]
  },
  {
   "cell_type": "code",
   "execution_count": 5,
   "id": "a90d3511",
   "metadata": {},
   "outputs": [],
   "source": [
    "dataset = \"cifar\""
   ]
  },
  {
   "cell_type": "code",
   "execution_count": 6,
   "id": "07b34a1a",
   "metadata": {},
   "outputs": [],
   "source": [
    "x_test,y_test = utils.get_data(dataset,\"Test\")"
   ]
  },
  {
   "cell_type": "code",
   "execution_count": 7,
   "id": "244a4fbd",
   "metadata": {},
   "outputs": [],
   "source": [
    "x_train_and_adversary,y_train_and_adversary = utils.get_data(dataset,\"Train_and_adversary\")"
   ]
  },
  {
   "cell_type": "code",
   "execution_count": 8,
   "id": "739175c8",
   "metadata": {},
   "outputs": [],
   "source": [
    "x_test_and_adversary,y_test_and_adversary = utils.get_adversarial_data(dataset,'Test_adversarial') "
   ]
  },
  {
   "cell_type": "code",
   "execution_count": 9,
   "id": "0875bdf0",
   "metadata": {},
   "outputs": [],
   "source": [
    "\n",
    "model_dir = \"C:/Users/fjdur/Documents/upc-july/models/tf_model_25-06/\"\n",
    "if(dataset == 'gtsrb'):\n",
    "    model_dir = \"C:/Users/fjdur/Documents/upc-july/models/tf_model_25-06\"\n",
    "elif(dataset == 'intel'):\n",
    "    model_dir = \"C:/Users/fjdur/Documents/upc-july/models/intel_model_21_10\"\n",
    "elif(dataset == 'mnist'):\n",
    "    model_dir = \"C:/Users/fjdur/Documents/upc-july/models/models2\"\n",
    "elif(dataset == 'cifar'):\n",
    "    model_dir = \"C:/Users/fjdur/Documents/upc-july/models/model_02\"\n"
   ]
  },
  {
   "cell_type": "code",
   "execution_count": 10,
   "id": "e0c78975",
   "metadata": {},
   "outputs": [],
   "source": [
    "model_dir = \"C:/Users/fjdurlop/Documents/upc/upc-july/models/tf_model_25-06/\"\n",
    "if(dataset == 'gtsrb'):\n",
    "    model_dir = \"C:/Users/fjdurlop/Documents/upc/upc-july/models/tf_model_25-06\"\n",
    "elif(dataset == 'intel'):\n",
    "    model_dir = \"C:/Users/fjdurlop/Documents/upc/upc-july/models/intel_model_21_10\"\n",
    "elif(dataset == 'mnist'):\n",
    "    model_dir = \"C:/Users/fjdurlop/Documents/upc/upc-july/models/models2\"\n",
    "elif(dataset == 'cifar'):\n",
    "    model_dir = \"C:/Users/fjdurlop/Documents/upc/upc-july/models/model_02\""
   ]
  },
  {
   "cell_type": "code",
   "execution_count": 11,
   "id": "1485065e",
   "metadata": {},
   "outputs": [
    {
     "name": "stdout",
     "output_type": "stream",
     "text": [
      "C:/Users/fjdurlop/Documents/upc/upc-july/models/model_02\n",
      "Model loaded correctly\n"
     ]
    }
   ],
   "source": [
    "print(model_dir)\n",
    "model_original = utils.My_model(dataset,True, model_dir)"
   ]
  },
  {
   "cell_type": "code",
   "execution_count": 12,
   "id": "a378dcc5",
   "metadata": {},
   "outputs": [],
   "source": [
    "loading_csv =True"
   ]
  },
  {
   "cell_type": "markdown",
   "id": "48e95400",
   "metadata": {},
   "source": [
    "## Loading models"
   ]
  },
  {
   "cell_type": "code",
   "execution_count": 13,
   "id": "9ca8455f",
   "metadata": {},
   "outputs": [],
   "source": [
    "data_dir = \"C:/Users/fjdurlop/Documents/upc/models\"\n",
    "dataset = \"cifar\"\n",
    "config = \"C3\"\n",
    "config_lc = \"c3\"\n",
    "num_models = 20"
   ]
  },
  {
   "cell_type": "code",
   "execution_count": 14,
   "id": "53255a20",
   "metadata": {},
   "outputs": [],
   "source": [
    "# C:/Users/fjdurlop/Documents/upc/models/intel/C2/intel_model_c2_aug_lsa_e1_0"
   ]
  },
  {
   "cell_type": "code",
   "execution_count": null,
   "id": "fe3eb254",
   "metadata": {},
   "outputs": [],
   "source": [
    "#change config"
   ]
  },
  {
   "cell_type": "code",
   "execution_count": 15,
   "id": "c0dc05ec",
   "metadata": {},
   "outputs": [
    {
     "name": "stdout",
     "output_type": "stream",
     "text": [
      "C:/Users/fjdurlop/Documents/upc/models/cifar/C3/e2/cifar_model_c3_aug_lsa_e2_0\n",
      "Model loaded correctly\n",
      "C:/Users/fjdurlop/Documents/upc/models/cifar/C3/e2/cifar_model_c3_aug_lsa_e2_1\n",
      "Model loaded correctly\n",
      "C:/Users/fjdurlop/Documents/upc/models/cifar/C3/e2/cifar_model_c3_aug_lsa_e2_2\n",
      "Model loaded correctly\n",
      "C:/Users/fjdurlop/Documents/upc/models/cifar/C3/e2/cifar_model_c3_aug_lsa_e2_3\n",
      "Model loaded correctly\n",
      "C:/Users/fjdurlop/Documents/upc/models/cifar/C3/e2/cifar_model_c3_aug_lsa_e2_4\n",
      "Model loaded correctly\n",
      "C:/Users/fjdurlop/Documents/upc/models/cifar/C3/e2/cifar_model_c3_aug_lsa_e2_5\n",
      "Model loaded correctly\n",
      "C:/Users/fjdurlop/Documents/upc/models/cifar/C3/e2/cifar_model_c3_aug_lsa_e2_6\n",
      "Model loaded correctly\n",
      "C:/Users/fjdurlop/Documents/upc/models/cifar/C3/e2/cifar_model_c3_aug_lsa_e2_7\n",
      "Model loaded correctly\n",
      "C:/Users/fjdurlop/Documents/upc/models/cifar/C3/e2/cifar_model_c3_aug_lsa_e2_8\n",
      "Model loaded correctly\n",
      "C:/Users/fjdurlop/Documents/upc/models/cifar/C3/e2/cifar_model_c3_aug_lsa_e2_9\n",
      "Model loaded correctly\n",
      "C:/Users/fjdurlop/Documents/upc/models/cifar/C3/e2/cifar_model_c3_aug_lsa_e2_10\n",
      "Model loaded correctly\n",
      "C:/Users/fjdurlop/Documents/upc/models/cifar/C3/e2/cifar_model_c3_aug_lsa_e2_11\n",
      "Model loaded correctly\n",
      "C:/Users/fjdurlop/Documents/upc/models/cifar/C3/e2/cifar_model_c3_aug_lsa_e2_12\n",
      "Model loaded correctly\n",
      "C:/Users/fjdurlop/Documents/upc/models/cifar/C3/e2/cifar_model_c3_aug_lsa_e2_13\n",
      "Model loaded correctly\n",
      "C:/Users/fjdurlop/Documents/upc/models/cifar/C3/e2/cifar_model_c3_aug_lsa_e2_14\n",
      "Model loaded correctly\n",
      "C:/Users/fjdurlop/Documents/upc/models/cifar/C3/e2/cifar_model_c3_aug_lsa_e2_15\n",
      "Model loaded correctly\n",
      "C:/Users/fjdurlop/Documents/upc/models/cifar/C3/e2/cifar_model_c3_aug_lsa_e2_16\n",
      "Model loaded correctly\n",
      "C:/Users/fjdurlop/Documents/upc/models/cifar/C3/e2/cifar_model_c3_aug_lsa_e2_17\n",
      "Model loaded correctly\n",
      "C:/Users/fjdurlop/Documents/upc/models/cifar/C3/e2/cifar_model_c3_aug_lsa_e2_18\n",
      "Model loaded correctly\n",
      "C:/Users/fjdurlop/Documents/upc/models/cifar/C3/e2/cifar_model_c3_aug_lsa_e2_19\n",
      "Model loaded correctly\n"
     ]
    }
   ],
   "source": [
    "loading = True\n",
    "\n",
    "models_lsa = []\n",
    "\n",
    "if loading:\n",
    "    for i in range(num_models):\n",
    "        model_lsa_dir = data_dir+\"/\"+dataset+\"/C3/e2/\"+dataset+\"_model_c3_aug_lsa_e2_\"+str(i)\n",
    "        print(model_lsa_dir)\n",
    "        model =utils.My_model(dataset,True,model_lsa_dir)\n",
    "        model.model.compile(loss= 'categorical_crossentropy', optimizer = 'rmsprop', metrics = ['accuracy',tf.keras.metrics.Precision(), tf.keras.metrics.Recall()])\n",
    "        models_lsa.append(model)\n",
    "       \n",
    "    "
   ]
  },
  {
   "cell_type": "code",
   "execution_count": 16,
   "id": "da4d6ed4",
   "metadata": {},
   "outputs": [
    {
     "name": "stdout",
     "output_type": "stream",
     "text": [
      "C:/Users/fjdurlop/Documents/upc/models/cifar/C3/e2/cifar_model_c3_aug_dsa_e2_0\n",
      "Model loaded correctly\n",
      "C:/Users/fjdurlop/Documents/upc/models/cifar/C3/e2/cifar_model_c3_aug_dsa_e2_1\n",
      "Model loaded correctly\n",
      "C:/Users/fjdurlop/Documents/upc/models/cifar/C3/e2/cifar_model_c3_aug_dsa_e2_2\n",
      "Model loaded correctly\n",
      "C:/Users/fjdurlop/Documents/upc/models/cifar/C3/e2/cifar_model_c3_aug_dsa_e2_3\n",
      "Model loaded correctly\n",
      "C:/Users/fjdurlop/Documents/upc/models/cifar/C3/e2/cifar_model_c3_aug_dsa_e2_4\n",
      "Model loaded correctly\n",
      "C:/Users/fjdurlop/Documents/upc/models/cifar/C3/e2/cifar_model_c3_aug_dsa_e2_5\n",
      "Model loaded correctly\n",
      "C:/Users/fjdurlop/Documents/upc/models/cifar/C3/e2/cifar_model_c3_aug_dsa_e2_6\n",
      "Model loaded correctly\n",
      "C:/Users/fjdurlop/Documents/upc/models/cifar/C3/e2/cifar_model_c3_aug_dsa_e2_7\n",
      "Model loaded correctly\n",
      "C:/Users/fjdurlop/Documents/upc/models/cifar/C3/e2/cifar_model_c3_aug_dsa_e2_8\n",
      "Model loaded correctly\n",
      "C:/Users/fjdurlop/Documents/upc/models/cifar/C3/e2/cifar_model_c3_aug_dsa_e2_9\n",
      "Model loaded correctly\n",
      "C:/Users/fjdurlop/Documents/upc/models/cifar/C3/e2/cifar_model_c3_aug_dsa_e2_10\n",
      "Model loaded correctly\n",
      "C:/Users/fjdurlop/Documents/upc/models/cifar/C3/e2/cifar_model_c3_aug_dsa_e2_11\n",
      "Model loaded correctly\n",
      "C:/Users/fjdurlop/Documents/upc/models/cifar/C3/e2/cifar_model_c3_aug_dsa_e2_12\n",
      "Model loaded correctly\n",
      "C:/Users/fjdurlop/Documents/upc/models/cifar/C3/e2/cifar_model_c3_aug_dsa_e2_13\n",
      "Model loaded correctly\n",
      "C:/Users/fjdurlop/Documents/upc/models/cifar/C3/e2/cifar_model_c3_aug_dsa_e2_14\n",
      "Model loaded correctly\n",
      "C:/Users/fjdurlop/Documents/upc/models/cifar/C3/e2/cifar_model_c3_aug_dsa_e2_15\n",
      "Model loaded correctly\n",
      "C:/Users/fjdurlop/Documents/upc/models/cifar/C3/e2/cifar_model_c3_aug_dsa_e2_16\n",
      "Model loaded correctly\n",
      "C:/Users/fjdurlop/Documents/upc/models/cifar/C3/e2/cifar_model_c3_aug_dsa_e2_17\n",
      "Model loaded correctly\n",
      "C:/Users/fjdurlop/Documents/upc/models/cifar/C3/e2/cifar_model_c3_aug_dsa_e2_18\n",
      "Model loaded correctly\n",
      "C:/Users/fjdurlop/Documents/upc/models/cifar/C3/e2/cifar_model_c3_aug_dsa_e2_19\n",
      "Model loaded correctly\n"
     ]
    }
   ],
   "source": [
    "loading = True\n",
    "\n",
    "models_dsa = []\n",
    "\n",
    "if loading:\n",
    "    for i in range(num_models):\n",
    "        #model_dsa_dir = \"D:/models/gtsrb_models/C1/gtsrb_model_c1_sep_dsa_e2_\"+str(i)\n",
    "        model_dsa_dir = data_dir+\"/\"+dataset+\"/C3/e2/\"+dataset+\"_model_c3_aug_dsa_e2_\"+str(i)\n",
    "        print(model_dsa_dir)\n",
    "        model =utils.My_model(dataset,True,model_dsa_dir)\n",
    "        model.model.compile(loss= 'categorical_crossentropy', optimizer = 'rmsprop', metrics = ['accuracy',tf.keras.metrics.Precision(), tf.keras.metrics.Recall()])\n",
    "        models_dsa.append(model)\n",
    "       \n",
    "\n",
    "    "
   ]
  },
  {
   "cell_type": "code",
   "execution_count": 17,
   "id": "0a4a7c64",
   "metadata": {
    "scrolled": true
   },
   "outputs": [
    {
     "name": "stdout",
     "output_type": "stream",
     "text": [
      "C:/Users/fjdurlop/Documents/upc/models/cifar/C3/e2/cifar_model_c3_aug_dg_e2_0\n",
      "Model loaded correctly\n",
      "C:/Users/fjdurlop/Documents/upc/models/cifar/C3/e2/cifar_model_c3_aug_dg_e2_1\n",
      "Model loaded correctly\n",
      "C:/Users/fjdurlop/Documents/upc/models/cifar/C3/e2/cifar_model_c3_aug_dg_e2_2\n",
      "Model loaded correctly\n",
      "C:/Users/fjdurlop/Documents/upc/models/cifar/C3/e2/cifar_model_c3_aug_dg_e2_3\n",
      "Model loaded correctly\n",
      "C:/Users/fjdurlop/Documents/upc/models/cifar/C3/e2/cifar_model_c3_aug_dg_e2_4\n",
      "Model loaded correctly\n",
      "C:/Users/fjdurlop/Documents/upc/models/cifar/C3/e2/cifar_model_c3_aug_dg_e2_5\n",
      "Model loaded correctly\n",
      "C:/Users/fjdurlop/Documents/upc/models/cifar/C3/e2/cifar_model_c3_aug_dg_e2_6\n",
      "Model loaded correctly\n",
      "C:/Users/fjdurlop/Documents/upc/models/cifar/C3/e2/cifar_model_c3_aug_dg_e2_7\n",
      "Model loaded correctly\n",
      "C:/Users/fjdurlop/Documents/upc/models/cifar/C3/e2/cifar_model_c3_aug_dg_e2_8\n",
      "Model loaded correctly\n",
      "C:/Users/fjdurlop/Documents/upc/models/cifar/C3/e2/cifar_model_c3_aug_dg_e2_9\n",
      "Model loaded correctly\n",
      "C:/Users/fjdurlop/Documents/upc/models/cifar/C3/e2/cifar_model_c3_aug_dg_e2_10\n",
      "Model loaded correctly\n",
      "C:/Users/fjdurlop/Documents/upc/models/cifar/C3/e2/cifar_model_c3_aug_dg_e2_11\n",
      "Model loaded correctly\n",
      "C:/Users/fjdurlop/Documents/upc/models/cifar/C3/e2/cifar_model_c3_aug_dg_e2_12\n",
      "Model loaded correctly\n",
      "C:/Users/fjdurlop/Documents/upc/models/cifar/C3/e2/cifar_model_c3_aug_dg_e2_13\n",
      "Model loaded correctly\n",
      "C:/Users/fjdurlop/Documents/upc/models/cifar/C3/e2/cifar_model_c3_aug_dg_e2_14\n",
      "Model loaded correctly\n",
      "C:/Users/fjdurlop/Documents/upc/models/cifar/C3/e2/cifar_model_c3_aug_dg_e2_15\n",
      "Model loaded correctly\n",
      "C:/Users/fjdurlop/Documents/upc/models/cifar/C3/e2/cifar_model_c3_aug_dg_e2_16\n",
      "Model loaded correctly\n",
      "C:/Users/fjdurlop/Documents/upc/models/cifar/C3/e2/cifar_model_c3_aug_dg_e2_17\n",
      "Model loaded correctly\n",
      "C:/Users/fjdurlop/Documents/upc/models/cifar/C3/e2/cifar_model_c3_aug_dg_e2_18\n",
      "Model loaded correctly\n",
      "C:/Users/fjdurlop/Documents/upc/models/cifar/C3/e2/cifar_model_c3_aug_dg_e2_19\n",
      "Model loaded correctly\n"
     ]
    }
   ],
   "source": [
    "loading = True\n",
    "\n",
    "models_dg = []\n",
    "\n",
    "if loading:\n",
    "    for i in range(num_models):\n",
    "        #model_dg_dir = \"D:/models/aug_22/gtsrb/C1/gtsrb_model_c1_aug_gn_e1_\"+str(i)\n",
    "        model_dg_dir = data_dir+\"/\"+dataset+\"/C3/e2/\"+dataset+\"_model_c3_aug_dg_e2_\"+str(i)\n",
    "        \n",
    "        print(model_dg_dir)\n",
    "        model =utils.My_model(dataset,True,model_dg_dir)\n",
    "        model.model.compile(loss= 'categorical_crossentropy', optimizer = 'rmsprop', metrics = ['accuracy',tf.keras.metrics.Precision(), tf.keras.metrics.Recall()])\n",
    "        models_dg.append(model)\n",
    "       \n",
    "    "
   ]
  },
  {
   "cell_type": "code",
   "execution_count": 18,
   "id": "9301cc38",
   "metadata": {
    "scrolled": true
   },
   "outputs": [
    {
     "name": "stdout",
     "output_type": "stream",
     "text": [
      "C:/Users/fjdurlop/Documents/upc/models/cifar/C3/e2/cifar_model_c3_aug_se_e2_0\n",
      "Model loaded correctly\n",
      "C:/Users/fjdurlop/Documents/upc/models/cifar/C3/e2/cifar_model_c3_aug_se_e2_1\n",
      "Model loaded correctly\n",
      "C:/Users/fjdurlop/Documents/upc/models/cifar/C3/e2/cifar_model_c3_aug_se_e2_2\n",
      "Model loaded correctly\n",
      "C:/Users/fjdurlop/Documents/upc/models/cifar/C3/e2/cifar_model_c3_aug_se_e2_3\n",
      "Model loaded correctly\n",
      "C:/Users/fjdurlop/Documents/upc/models/cifar/C3/e2/cifar_model_c3_aug_se_e2_4\n",
      "Model loaded correctly\n",
      "C:/Users/fjdurlop/Documents/upc/models/cifar/C3/e2/cifar_model_c3_aug_se_e2_5\n",
      "Model loaded correctly\n",
      "C:/Users/fjdurlop/Documents/upc/models/cifar/C3/e2/cifar_model_c3_aug_se_e2_6\n",
      "Model loaded correctly\n",
      "C:/Users/fjdurlop/Documents/upc/models/cifar/C3/e2/cifar_model_c3_aug_se_e2_7\n",
      "Model loaded correctly\n",
      "C:/Users/fjdurlop/Documents/upc/models/cifar/C3/e2/cifar_model_c3_aug_se_e2_8\n",
      "Model loaded correctly\n",
      "C:/Users/fjdurlop/Documents/upc/models/cifar/C3/e2/cifar_model_c3_aug_se_e2_9\n",
      "Model loaded correctly\n",
      "C:/Users/fjdurlop/Documents/upc/models/cifar/C3/e2/cifar_model_c3_aug_se_e2_10\n",
      "Model loaded correctly\n",
      "C:/Users/fjdurlop/Documents/upc/models/cifar/C3/e2/cifar_model_c3_aug_se_e2_11\n",
      "Model loaded correctly\n",
      "C:/Users/fjdurlop/Documents/upc/models/cifar/C3/e2/cifar_model_c3_aug_se_e2_12\n",
      "Model loaded correctly\n",
      "C:/Users/fjdurlop/Documents/upc/models/cifar/C3/e2/cifar_model_c3_aug_se_e2_13\n",
      "Model loaded correctly\n",
      "C:/Users/fjdurlop/Documents/upc/models/cifar/C3/e2/cifar_model_c3_aug_se_e2_14\n",
      "Model loaded correctly\n",
      "C:/Users/fjdurlop/Documents/upc/models/cifar/C3/e2/cifar_model_c3_aug_se_e2_15\n",
      "Model loaded correctly\n",
      "C:/Users/fjdurlop/Documents/upc/models/cifar/C3/e2/cifar_model_c3_aug_se_e2_16\n",
      "Model loaded correctly\n",
      "C:/Users/fjdurlop/Documents/upc/models/cifar/C3/e2/cifar_model_c3_aug_se_e2_17\n",
      "Model loaded correctly\n",
      "C:/Users/fjdurlop/Documents/upc/models/cifar/C3/e2/cifar_model_c3_aug_se_e2_18\n",
      "Model loaded correctly\n",
      "C:/Users/fjdurlop/Documents/upc/models/cifar/C3/e2/cifar_model_c3_aug_se_e2_19\n",
      "Model loaded correctly\n"
     ]
    }
   ],
   "source": [
    "loading = True\n",
    "\n",
    "models_se = []\n",
    "\n",
    "if loading:\n",
    "    for i in range(num_models):\n",
    "        \n",
    "        model_se_dir = data_dir+\"/\"+dataset+\"/C3/e2/\"+dataset+\"_model_c3_aug_se_e2_\"+str(i)\n",
    "        \n",
    "        print(model_se_dir)\n",
    "        model =utils.My_model(dataset,True,model_se_dir)\n",
    "        model.model.compile(loss= 'categorical_crossentropy', optimizer = 'rmsprop', metrics = ['accuracy',tf.keras.metrics.Precision(), tf.keras.metrics.Recall()])\n",
    "        models_se.append(model)"
   ]
  },
  {
   "cell_type": "code",
   "execution_count": 19,
   "id": "eb1718e3",
   "metadata": {
    "scrolled": true
   },
   "outputs": [
    {
     "name": "stdout",
     "output_type": "stream",
     "text": [
      "C:/Users/fjdurlop/Documents/upc/models/cifar/C3/e2/cifar_model_c3_aug_random_e2_0\n",
      "Model loaded correctly\n",
      "C:/Users/fjdurlop/Documents/upc/models/cifar/C3/e2/cifar_model_c3_aug_random_e2_1\n",
      "Model loaded correctly\n",
      "C:/Users/fjdurlop/Documents/upc/models/cifar/C3/e2/cifar_model_c3_aug_random_e2_2\n",
      "Model loaded correctly\n",
      "C:/Users/fjdurlop/Documents/upc/models/cifar/C3/e2/cifar_model_c3_aug_random_e2_3\n",
      "Model loaded correctly\n",
      "C:/Users/fjdurlop/Documents/upc/models/cifar/C3/e2/cifar_model_c3_aug_random_e2_4\n",
      "Model loaded correctly\n",
      "C:/Users/fjdurlop/Documents/upc/models/cifar/C3/e2/cifar_model_c3_aug_random_e2_5\n",
      "Model loaded correctly\n",
      "C:/Users/fjdurlop/Documents/upc/models/cifar/C3/e2/cifar_model_c3_aug_random_e2_6\n",
      "Model loaded correctly\n",
      "C:/Users/fjdurlop/Documents/upc/models/cifar/C3/e2/cifar_model_c3_aug_random_e2_7\n",
      "Model loaded correctly\n",
      "C:/Users/fjdurlop/Documents/upc/models/cifar/C3/e2/cifar_model_c3_aug_random_e2_8\n",
      "Model loaded correctly\n",
      "C:/Users/fjdurlop/Documents/upc/models/cifar/C3/e2/cifar_model_c3_aug_random_e2_9\n",
      "Model loaded correctly\n",
      "C:/Users/fjdurlop/Documents/upc/models/cifar/C3/e2/cifar_model_c3_aug_random_e2_10\n",
      "Model loaded correctly\n",
      "C:/Users/fjdurlop/Documents/upc/models/cifar/C3/e2/cifar_model_c3_aug_random_e2_11\n",
      "Model loaded correctly\n",
      "C:/Users/fjdurlop/Documents/upc/models/cifar/C3/e2/cifar_model_c3_aug_random_e2_12\n",
      "Model loaded correctly\n",
      "C:/Users/fjdurlop/Documents/upc/models/cifar/C3/e2/cifar_model_c3_aug_random_e2_13\n",
      "Model loaded correctly\n",
      "C:/Users/fjdurlop/Documents/upc/models/cifar/C3/e2/cifar_model_c3_aug_random_e2_14\n",
      "Model loaded correctly\n",
      "C:/Users/fjdurlop/Documents/upc/models/cifar/C3/e2/cifar_model_c3_aug_random_e2_15\n",
      "Model loaded correctly\n",
      "C:/Users/fjdurlop/Documents/upc/models/cifar/C3/e2/cifar_model_c3_aug_random_e2_16\n",
      "Model loaded correctly\n",
      "C:/Users/fjdurlop/Documents/upc/models/cifar/C3/e2/cifar_model_c3_aug_random_e2_17\n",
      "Model loaded correctly\n",
      "C:/Users/fjdurlop/Documents/upc/models/cifar/C3/e2/cifar_model_c3_aug_random_e2_18\n",
      "Model loaded correctly\n",
      "C:/Users/fjdurlop/Documents/upc/models/cifar/C3/e2/cifar_model_c3_aug_random_e2_19\n",
      "Model loaded correctly\n"
     ]
    }
   ],
   "source": [
    "loading = True\n",
    "\n",
    "models_random = []\n",
    "\n",
    "if loading:\n",
    "    for i in range(num_models):\n",
    "        #model_random_dir = \"D:/models/aug_22/gtsrb/C1/gtsrb_model_c1_aug_random_e1_\"+str(i)\n",
    "        model_random_dir = data_dir+\"/\"+dataset+\"/C3/e2/\"+dataset+\"_model_c3_aug_random_e2_\"+str(i)\n",
    "        \n",
    "        print(model_random_dir)\n",
    "        model =utils.My_model(dataset,True,model_random_dir)\n",
    "        model.model.compile(loss= 'categorical_crossentropy', optimizer = 'rmsprop', metrics = ['accuracy',tf.keras.metrics.Precision(), tf.keras.metrics.Recall()])\n",
    "        models_random.append(model)\n",
    "       "
   ]
  },
  {
   "cell_type": "code",
   "execution_count": 20,
   "id": "b9860981",
   "metadata": {
    "scrolled": true
   },
   "outputs": [
    {
     "name": "stdout",
     "output_type": "stream",
     "text": [
      "C:/Users/fjdurlop/Documents/upc/models/cifar/C3/e2/cifar_model_c3_aug_nc_e2_0\n",
      "Model loaded correctly\n",
      "C:/Users/fjdurlop/Documents/upc/models/cifar/C3/e2/cifar_model_c3_aug_nc_e2_1\n",
      "Model loaded correctly\n",
      "C:/Users/fjdurlop/Documents/upc/models/cifar/C3/e2/cifar_model_c3_aug_nc_e2_2\n",
      "Model loaded correctly\n",
      "C:/Users/fjdurlop/Documents/upc/models/cifar/C3/e2/cifar_model_c3_aug_nc_e2_3\n",
      "Model loaded correctly\n",
      "C:/Users/fjdurlop/Documents/upc/models/cifar/C3/e2/cifar_model_c3_aug_nc_e2_4\n",
      "Model loaded correctly\n",
      "C:/Users/fjdurlop/Documents/upc/models/cifar/C3/e2/cifar_model_c3_aug_nc_e2_5\n",
      "Model loaded correctly\n",
      "C:/Users/fjdurlop/Documents/upc/models/cifar/C3/e2/cifar_model_c3_aug_nc_e2_6\n",
      "Model loaded correctly\n",
      "C:/Users/fjdurlop/Documents/upc/models/cifar/C3/e2/cifar_model_c3_aug_nc_e2_7\n",
      "Model loaded correctly\n",
      "C:/Users/fjdurlop/Documents/upc/models/cifar/C3/e2/cifar_model_c3_aug_nc_e2_8\n",
      "Model loaded correctly\n",
      "C:/Users/fjdurlop/Documents/upc/models/cifar/C3/e2/cifar_model_c3_aug_nc_e2_9\n",
      "Model loaded correctly\n",
      "C:/Users/fjdurlop/Documents/upc/models/cifar/C3/e2/cifar_model_c3_aug_nc_e2_10\n",
      "Model loaded correctly\n",
      "C:/Users/fjdurlop/Documents/upc/models/cifar/C3/e2/cifar_model_c3_aug_nc_e2_11\n",
      "Model loaded correctly\n",
      "C:/Users/fjdurlop/Documents/upc/models/cifar/C3/e2/cifar_model_c3_aug_nc_e2_12\n",
      "Model loaded correctly\n",
      "C:/Users/fjdurlop/Documents/upc/models/cifar/C3/e2/cifar_model_c3_aug_nc_e2_13\n",
      "Model loaded correctly\n",
      "C:/Users/fjdurlop/Documents/upc/models/cifar/C3/e2/cifar_model_c3_aug_nc_e2_14\n",
      "Model loaded correctly\n",
      "C:/Users/fjdurlop/Documents/upc/models/cifar/C3/e2/cifar_model_c3_aug_nc_e2_15\n",
      "Model loaded correctly\n",
      "C:/Users/fjdurlop/Documents/upc/models/cifar/C3/e2/cifar_model_c3_aug_nc_e2_16\n",
      "Model loaded correctly\n",
      "C:/Users/fjdurlop/Documents/upc/models/cifar/C3/e2/cifar_model_c3_aug_nc_e2_17\n",
      "Model loaded correctly\n",
      "C:/Users/fjdurlop/Documents/upc/models/cifar/C3/e2/cifar_model_c3_aug_nc_e2_18\n",
      "Model loaded correctly\n",
      "C:/Users/fjdurlop/Documents/upc/models/cifar/C3/e2/cifar_model_c3_aug_nc_e2_19\n",
      "Model loaded correctly\n"
     ]
    }
   ],
   "source": [
    "loading = True\n",
    "\n",
    "models_nc = []\n",
    "\n",
    "if loading:\n",
    "    for i in range(num_models):\n",
    "        #model_nc_dir = \"D:/models/aug_22/\"+dataset+\"/C1/\"+dataset+\"_model_c1_aug_nc_e1\"+str\n",
    "        model_nc_dir = data_dir+\"/\"+dataset+\"/C3/e2/\"+dataset+\"_model_c3_aug_nc_e2_\"+str(i)\n",
    "        print(model_nc_dir)\n",
    "        model =utils.My_model(dataset,True,model_nc_dir)\n",
    "        model.model.compile(loss= 'categorical_crossentropy', optimizer = 'rmsprop', metrics = ['accuracy',tf.keras.metrics.Precision(), tf.keras.metrics.Recall()])\n",
    "        models_nc.append(model)"
   ]
  },
  {
   "cell_type": "markdown",
   "id": "e02952dc",
   "metadata": {},
   "source": [
    "## Evaluating"
   ]
  },
  {
   "cell_type": "code",
   "execution_count": 21,
   "id": "cbc59f41",
   "metadata": {},
   "outputs": [],
   "source": [
    "model_original.model.compile(loss= 'categorical_crossentropy', optimizer = 'rmsprop', metrics = ['accuracy',tf.keras.metrics.Precision(), tf.keras.metrics.Recall()])"
   ]
  },
  {
   "cell_type": "code",
   "execution_count": 22,
   "id": "6fd7c127",
   "metadata": {},
   "outputs": [
    {
     "name": "stdout",
     "output_type": "stream",
     "text": [
      "376/376 [==============================] - 17s 20ms/step - loss: 1.1244 - accuracy: 0.7412 - precision_120: 0.8609 - recall_120: 0.7386\n"
     ]
    },
    {
     "data": {
      "text/plain": [
       "[2.3667659759521484,\n",
       " 0.5768685936927795,\n",
       " 0.8045880794525146,\n",
       " 0.6869237422943115]"
      ]
     },
     "execution_count": 22,
     "metadata": {},
     "output_type": "execute_result"
    }
   ],
   "source": [
    "model_original.evaluate(x_test_and_adversary,y_test_and_adversary)\n"
   ]
  },
  {
   "cell_type": "code",
   "execution_count": 22,
   "id": "ae8182a2",
   "metadata": {},
   "outputs": [
    {
     "name": "stdout",
     "output_type": "stream",
     "text": [
      "376/376 [==============================] - 7s 18ms/step - loss: 2.3668 - accuracy: 0.5769 - precision_120: 0.6709 - recall_120: 0.5681\n",
      "Evaluating for dg\n",
      "376/376 [==============================] - 8s 17ms/step - loss: 1.1323 - accuracy: 0.6849 - precision_40: 0.7967 - recall_40: 0.6663\n",
      "376/376 [==============================] - 8s 17ms/step - loss: 1.1779 - accuracy: 0.6529 - precision_41: 0.7599 - recall_41: 0.6284\n",
      "376/376 [==============================] - 8s 16ms/step - loss: 1.4862 - accuracy: 0.6384 - precision_42: 0.7312 - recall_42: 0.6277\n",
      "376/376 [==============================] - 8s 17ms/step - loss: 1.2480 - accuracy: 0.6113 - precision_43: 0.7507 - recall_43: 0.5463\n",
      "376/376 [==============================] - 8s 17ms/step - loss: 1.3319 - accuracy: 0.6230 - precision_44: 0.7271 - recall_44: 0.5804\n",
      "376/376 [==============================] - 8s 17ms/step - loss: 1.3287 - accuracy: 0.5495 - precision_45: 0.7338 - recall_45: 0.3922\n",
      "376/376 [==============================] - 8s 17ms/step - loss: 1.0488 - accuracy: 0.6455 - precision_46: 0.8051 - recall_46: 0.5310\n",
      "376/376 [==============================] - 8s 16ms/step - loss: 1.0121 - accuracy: 0.6685 - precision_47: 0.7894 - recall_47: 0.6157\n",
      "376/376 [==============================] - 8s 17ms/step - loss: 1.0758 - accuracy: 0.6224 - precision_48: 0.7773 - recall_48: 0.5098\n",
      "376/376 [==============================] - 8s 17ms/step - loss: 1.1577 - accuracy: 0.6061 - precision_49: 0.7720 - recall_49: 0.4510\n",
      "376/376 [==============================] - 8s 16ms/step - loss: 1.0425 - accuracy: 0.6535 - precision_50: 0.7819 - recall_50: 0.5728\n",
      "376/376 [==============================] - 8s 17ms/step - loss: 1.0276 - accuracy: 0.6697 - precision_51: 0.7719 - recall_51: 0.5772\n",
      "376/376 [==============================] - 8s 16ms/step - loss: 0.9647 - accuracy: 0.6699 - precision_52: 0.8055 - recall_52: 0.5939\n",
      "376/376 [==============================] - 8s 16ms/step - loss: 0.9894 - accuracy: 0.6700 - precision_53: 0.7937 - recall_53: 0.5948\n",
      "376/376 [==============================] - 8s 17ms/step - loss: 0.9992 - accuracy: 0.6601 - precision_54: 0.7854 - recall_54: 0.5631\n",
      "376/376 [==============================] - 8s 16ms/step - loss: 0.9230 - accuracy: 0.6826 - precision_55: 0.8049 - recall_55: 0.5989\n",
      "376/376 [==============================] - 8s 16ms/step - loss: 0.9890 - accuracy: 0.6619 - precision_56: 0.7970 - recall_56: 0.5948\n",
      "376/376 [==============================] - 8s 17ms/step - loss: 0.9165 - accuracy: 0.6913 - precision_57: 0.8067 - recall_57: 0.6331\n",
      "376/376 [==============================] - 8s 17ms/step - loss: 1.0298 - accuracy: 0.6811 - precision_58: 0.7777 - recall_58: 0.6427\n",
      "376/376 [==============================] - 8s 16ms/step - loss: 0.8973 - accuracy: 0.6955 - precision_59: 0.8237 - recall_59: 0.6107\n"
     ]
    }
   ],
   "source": [
    "evaluate_dg = []\n",
    "evaluate_dg.append(model_original.evaluate(x_test_and_adversary,y_test_and_adversary))\n",
    "print(\"Evaluating for dg\")\n",
    "for model in models_dg:\n",
    "    evaluate_dg.append(model.evaluate(x_test_and_adversary,y_test_and_adversary))"
   ]
  },
  {
   "cell_type": "code",
   "execution_count": 23,
   "id": "286ee29c",
   "metadata": {},
   "outputs": [
    {
     "name": "stdout",
     "output_type": "stream",
     "text": [
      "376/376 [==============================] - 7s 19ms/step - loss: 2.3668 - accuracy: 0.5769 - precision_120: 0.6709 - recall_120: 0.5681\n",
      "376/376 [==============================] - 7s 19ms/step - loss: 2.3668 - accuracy: 0.5769 - precision_120: 0.6527 - recall_120: 0.5522\n",
      "376/376 [==============================] - 7s 18ms/step - loss: 2.3668 - accuracy: 0.5769 - precision_120: 0.6451 - recall_120: 0.5455\n",
      "376/376 [==============================] - 7s 20ms/step - loss: 2.3668 - accuracy: 0.5769 - precision_120: 0.6408 - recall_120: 0.5418\n",
      "376/376 [==============================] - 7s 19ms/step - loss: 2.3668 - accuracy: 0.5769 - precision_120: 0.6381 - recall_120: 0.5394\n",
      "376/376 [==============================] - 7s 18ms/step - loss: 2.3668 - accuracy: 0.5769 - precision_120: 0.6363 - recall_120: 0.5378\n"
     ]
    }
   ],
   "source": [
    "evaluate_lsa = []\n",
    "evaluate_dsa = []\n",
    "evaluate_dg = []\n",
    "evaluate_se = []\n",
    "evaluate_nc = []\n",
    "evaluate_random = []\n",
    "\n",
    "#c2\n",
    "evaluate_lsa.append(model_original.evaluate(x_test_and_adversary,y_test_and_adversary))\n",
    "evaluate_dsa.append(model_original.evaluate(x_test_and_adversary,y_test_and_adversary))\n",
    "evaluate_dg.append(model_original.evaluate(x_test_and_adversary,y_test_and_adversary))\n",
    "evaluate_se.append(model_original.evaluate(x_test_and_adversary,y_test_and_adversary))\n",
    "evaluate_nc.append(model_original.evaluate(x_test_and_adversary,y_test_and_adversary))\n",
    "evaluate_random.append(model_original.evaluate(x_test_and_adversary,y_test_and_adversary))"
   ]
  },
  {
   "cell_type": "code",
   "execution_count": 24,
   "id": "30633373",
   "metadata": {
    "scrolled": true
   },
   "outputs": [
    {
     "name": "stdout",
     "output_type": "stream",
     "text": [
      "Evaluating for lsa\n",
      "376/376 [==============================] - 6s 15ms/step - loss: 1.8757 - accuracy: 0.4626 - precision: 0.5400 - recall: 0.4432\n",
      "376/376 [==============================] - 9s 19ms/step - loss: 1.6627 - accuracy: 0.4538 - precision_1: 0.5868 - recall_1: 0.3323\n",
      "376/376 [==============================] - 8s 19ms/step - loss: 2.1520 - accuracy: 0.4010 - precision_2: 0.4869 - recall_2: 0.3214\n",
      "376/376 [==============================] - 8s 18ms/step - loss: 1.4585 - accuracy: 0.4802 - precision_3: 0.6395 - recall_3: 0.3557\n",
      "376/376 [==============================] - 8s 19ms/step - loss: 1.5237 - accuracy: 0.4936 - precision_4: 0.6243 - recall_4: 0.4040\n",
      "376/376 [==============================] - 8s 19ms/step - loss: 1.3594 - accuracy: 0.5462 - precision_5: 0.6768 - recall_5: 0.4559\n",
      "376/376 [==============================] - 8s 19ms/step - loss: 1.2684 - accuracy: 0.5832 - precision_6: 0.7047 - recall_6: 0.4973\n",
      "376/376 [==============================] - 8s 19ms/step - loss: 1.2902 - accuracy: 0.5861 - precision_7: 0.7178 - recall_7: 0.5025: 2s - loss: 1.2571 - accuracy: 0.59\n",
      "376/376 [==============================] - 8s 19ms/step - loss: 1.3202 - accuracy: 0.5854 - precision_8: 0.7212 - recall_8: 0.5046\n",
      "376/376 [==============================] - 8s 18ms/step - loss: 1.2767 - accuracy: 0.5870 - precision_9: 0.7403 - recall_9: 0.5022\n",
      "376/376 [==============================] - 8s 18ms/step - loss: 1.1207 - accuracy: 0.6190 - precision_10: 0.7689 - recall_10: 0.5202\n",
      "376/376 [==============================] - 8s 18ms/step - loss: 1.1574 - accuracy: 0.6097 - precision_11: 0.7537 - recall_11: 0.5118\n",
      "376/376 [==============================] - 8s 18ms/step - loss: 1.1027 - accuracy: 0.6467 - precision_12: 0.7755 - recall_12: 0.5730\n",
      "376/376 [==============================] - 8s 18ms/step - loss: 1.0514 - accuracy: 0.6445 - precision_13: 0.7758 - recall_13: 0.5711\n",
      "376/376 [==============================] - 8s 18ms/step - loss: 1.1173 - accuracy: 0.6146 - precision_14: 0.7737 - recall_14: 0.5322\n",
      "376/376 [==============================] - 8s 18ms/step - loss: 1.0428 - accuracy: 0.6585 - precision_15: 0.7972 - recall_15: 0.5745\n",
      "376/376 [==============================] - 8s 18ms/step - loss: 1.0260 - accuracy: 0.6737 - precision_16: 0.7670 - recall_16: 0.6397\n",
      "376/376 [==============================] - 8s 19ms/step - loss: 1.1023 - accuracy: 0.6457 - precision_17: 0.7549 - recall_17: 0.5887\n",
      "376/376 [==============================] - 8s 18ms/step - loss: 1.1387 - accuracy: 0.6393 - precision_18: 0.7459 - recall_18: 0.5994\n",
      "376/376 [==============================] - 8s 18ms/step - loss: 0.9707 - accuracy: 0.6896 - precision_19: 0.8082 - recall_19: 0.6331\n",
      "Evaluating for dsa\n",
      "376/376 [==============================] - 9s 19ms/step - loss: 2.6487 - accuracy: 0.5169 - precision_20: 0.5913 - recall_20: 0.4708\n",
      "376/376 [==============================] - 9s 19ms/step - loss: 1.3538 - accuracy: 0.5787 - precision_21: 0.7011 - recall_21: 0.4963\n",
      "376/376 [==============================] - 9s 20ms/step - loss: 1.5050 - accuracy: 0.5064 - precision_22: 0.6473 - recall_22: 0.3927\n",
      "376/376 [==============================] - 9s 20ms/step - loss: 1.6406 - accuracy: 0.5239 - precision_23: 0.6149 - recall_23: 0.4768\n",
      "376/376 [==============================] - 9s 20ms/step - loss: 1.3627 - accuracy: 0.5588 - precision_24: 0.6937 - recall_24: 0.4622\n",
      "376/376 [==============================] - 9s 20ms/step - loss: 1.5330 - accuracy: 0.5271 - precision_25: 0.6337 - recall_25: 0.4413\n",
      "376/376 [==============================] - 9s 20ms/step - loss: 1.3993 - accuracy: 0.5930 - precision_26: 0.6735 - recall_26: 0.5371\n",
      "376/376 [==============================] - 9s 20ms/step - loss: 1.4512 - accuracy: 0.5677 - precision_27: 0.6567 - recall_27: 0.5130\n",
      "376/376 [==============================] - 9s 20ms/step - loss: 1.3203 - accuracy: 0.5839 - precision_28: 0.7009 - recall_28: 0.5057\n",
      "376/376 [==============================] - 9s 20ms/step - loss: 1.2446 - accuracy: 0.5944 - precision_29: 0.7039 - recall_29: 0.5205\n",
      "376/376 [==============================] - 9s 20ms/step - loss: 1.2050 - accuracy: 0.6059 - precision_30: 0.7260 - recall_30: 0.5036\n",
      "376/376 [==============================] - 9s 20ms/step - loss: 1.3402 - accuracy: 0.5979 - precision_31: 0.6810 - recall_31: 0.5558\n",
      "376/376 [==============================] - 9s 20ms/step - loss: 1.2181 - accuracy: 0.5958 - precision_32: 0.7387 - recall_32: 0.5001\n",
      "376/376 [==============================] - 9s 20ms/step - loss: 1.1741 - accuracy: 0.6185 - precision_33: 0.7417 - recall_33: 0.5222\n",
      "376/376 [==============================] - 9s 20ms/step - loss: 1.1817 - accuracy: 0.5980 - precision_34: 0.7526 - recall_34: 0.4662\n",
      "376/376 [==============================] - 9s 20ms/step - loss: 1.0293 - accuracy: 0.6540 - precision_35: 0.7658 - recall_35: 0.5784\n",
      "376/376 [==============================] - 9s 20ms/step - loss: 0.9939 - accuracy: 0.6653 - precision_36: 0.7875 - recall_36: 0.5972\n",
      "376/376 [==============================] - 9s 20ms/step - loss: 1.0119 - accuracy: 0.6642 - precision_37: 0.7651 - recall_37: 0.6163\n",
      "376/376 [==============================] - 9s 21ms/step - loss: 0.9770 - accuracy: 0.6766 - precision_38: 0.7866 - recall_38: 0.6232\n",
      "376/376 [==============================] - 9s 20ms/step - loss: 0.9256 - accuracy: 0.6918 - precision_39: 0.7945 - recall_39: 0.6424\n",
      "Evaluating for random\n",
      "376/376 [==============================] - 9s 20ms/step - loss: 1.2152 - accuracy: 0.6608 - precision_80: 0.7487 - recall_80: 0.6503\n",
      "376/376 [==============================] - 9s 21ms/step - loss: 1.2917 - accuracy: 0.6129 - precision_81: 0.7251 - recall_81: 0.5912\n",
      "376/376 [==============================] - 9s 20ms/step - loss: 0.9522 - accuracy: 0.6862 - precision_82: 0.7980 - recall_82: 0.6420\n",
      "376/376 [==============================] - 9s 21ms/step - loss: 0.9219 - accuracy: 0.6961 - precision_83: 0.8120 - recall_83: 0.6431\n",
      "376/376 [==============================] - 9s 20ms/step - loss: 0.9415 - accuracy: 0.6845 - precision_84: 0.8050 - recall_84: 0.6217\n",
      "376/376 [==============================] - 9s 20ms/step - loss: 1.0200 - accuracy: 0.6920 - precision_85: 0.7733 - recall_85: 0.6843\n",
      "376/376 [==============================] - 9s 20ms/step - loss: 0.8899 - accuracy: 0.6917 - precision_86: 0.8108 - recall_86: 0.6407\n",
      "376/376 [==============================] - 10s 20ms/step - loss: 1.0461 - accuracy: 0.6898 - precision_87: 0.7803 - recall_87: 0.6819\n",
      "376/376 [==============================] - 9s 20ms/step - loss: 1.0811 - accuracy: 0.6197 - precision_88: 0.7730 - recall_88: 0.5439\n",
      "376/376 [==============================] - 10s 22ms/step - loss: 0.9312 - accuracy: 0.6905 - precision_89: 0.7769 - recall_89: 0.6703\n",
      "376/376 [==============================] - 10s 21ms/step - loss: 0.9456 - accuracy: 0.6899 - precision_90: 0.7853 - recall_90: 0.6583\n",
      "376/376 [==============================] - 9s 20ms/step - loss: 0.9512 - accuracy: 0.6828 - precision_91: 0.7974 - recall_91: 0.6455\n",
      "376/376 [==============================] - 9s 21ms/step - loss: 0.9083 - accuracy: 0.6947 - precision_92: 0.8168 - recall_92: 0.6363\n",
      "376/376 [==============================] - 9s 20ms/step - loss: 0.9359 - accuracy: 0.6945 - precision_93: 0.7926 - recall_93: 0.6608\n",
      "376/376 [==============================] - 9s 20ms/step - loss: 0.9098 - accuracy: 0.6998 - precision_94: 0.8024 - recall_94: 0.6689\n",
      "376/376 [==============================] - 9s 20ms/step - loss: 0.8361 - accuracy: 0.7159 - precision_95: 0.8403 - recall_95: 0.6595\n",
      "376/376 [==============================] - 9s 20ms/step - loss: 0.9019 - accuracy: 0.7133 - precision_96: 0.8151 - recall_96: 0.6765: 0s - loss: 0.8956 - accuracy: 0.7156 - precision_96: 0.8157 - recall_96: 0\n",
      "376/376 [==============================] - 9s 20ms/step - loss: 0.9007 - accuracy: 0.7117 - precision_97: 0.8179 - recall_97: 0.6668\n",
      "376/376 [==============================] - 9s 20ms/step - loss: 1.0034 - accuracy: 0.6490 - precision_98: 0.8323 - recall_98: 0.5322\n",
      "376/376 [==============================] - 9s 21ms/step - loss: 1.0042 - accuracy: 0.6502 - precision_99: 0.7905 - recall_99: 0.5508\n",
      "Evaluating for nc\n"
     ]
    },
    {
     "name": "stdout",
     "output_type": "stream",
     "text": [
      "376/376 [==============================] - 11s 24ms/step - loss: 2.0093 - accuracy: 0.6398 - precision_100: 0.6986 - recall_100: 0.6611\n",
      "376/376 [==============================] - 10s 21ms/step - loss: 1.5310 - accuracy: 0.6373 - precision_101: 0.7093 - recall_101: 0.6373\n",
      "376/376 [==============================] - 9s 20ms/step - loss: 1.4645 - accuracy: 0.6492 - precision_102: 0.7173 - recall_102: 0.6554\n",
      "376/376 [==============================] - 9s 20ms/step - loss: 1.1478 - accuracy: 0.6528 - precision_103: 0.7423 - recall_103: 0.6355: 2s - loss: 1.0972 - accuracy: 0.6731 - prec\n",
      "376/376 [==============================] - 10s 22ms/step - loss: 1.2916 - accuracy: 0.6688 - precision_104: 0.7480 - recall_104: 0.6760\n",
      "376/376 [==============================] - 9s 20ms/step - loss: 1.5473 - accuracy: 0.6324 - precision_105: 0.7036 - recall_105: 0.6291\n",
      "376/376 [==============================] - 9s 20ms/step - loss: 1.2985 - accuracy: 0.6817 - precision_106: 0.7538 - recall_106: 0.6859\n",
      "376/376 [==============================] - 9s 19ms/step - loss: 1.2681 - accuracy: 0.6600 - precision_107: 0.7419 - recall_107: 0.6531\n",
      "376/376 [==============================] - 9s 20ms/step - loss: 1.3567 - accuracy: 0.6531 - precision_108: 0.7148 - recall_108: 0.6401\n",
      "376/376 [==============================] - 9s 20ms/step - loss: 1.1398 - accuracy: 0.6858 - precision_109: 0.7644 - recall_109: 0.6672: 2s - loss: 1.1015 - accuracy: 0.7017 - precisi\n",
      "376/376 [==============================] - 9s 20ms/step - loss: 1.4693 - accuracy: 0.6548 - precision_110: 0.7191 - recall_110: 0.6521\n",
      "376/376 [==============================] - 9s 20ms/step - loss: 1.2973 - accuracy: 0.6508 - precision_111: 0.7202 - recall_111: 0.6397\n",
      "376/376 [==============================] - 10s 22ms/step - loss: 1.5385 - accuracy: 0.6439 - precision_112: 0.6882 - recall_112: 0.6319\n",
      "376/376 [==============================] - 9s 20ms/step - loss: 1.0056 - accuracy: 0.6742 - precision_113: 0.7697 - recall_113: 0.6393\n",
      "376/376 [==============================] - 9s 20ms/step - loss: 1.1093 - accuracy: 0.6817 - precision_114: 0.7583 - recall_114: 0.6754\n",
      "376/376 [==============================] - 9s 20ms/step - loss: 0.9335 - accuracy: 0.6881 - precision_115: 0.7774 - recall_115: 0.6456\n",
      "376/376 [==============================] - 9s 20ms/step - loss: 0.9428 - accuracy: 0.6778 - precision_116: 0.7966 - recall_116: 0.6145\n",
      "376/376 [==============================] - 9s 20ms/step - loss: 0.9802 - accuracy: 0.6728 - precision_117: 0.7821 - recall_117: 0.6302\n",
      "376/376 [==============================] - 9s 19ms/step - loss: 0.9970 - accuracy: 0.6870 - precision_118: 0.7753 - recall_118: 0.6606\n",
      "376/376 [==============================] - 9s 19ms/step - loss: 0.9545 - accuracy: 0.6717 - precision_119: 0.8336 - recall_119: 0.5643\n"
     ]
    }
   ],
   "source": [
    "# Metrics using adversarial test\n",
    "\n",
    "#evaluate_lsa.append(model_original.evaluate(x_test_and_adversary,y_test_and_adversary))\n",
    "#evaluate_dsa.append(model_original.evaluate(x_test_and_adversary,y_test_and_adversary))\n",
    "#evaluate_nc.append(model_original.evaluate(x_test_and_adversary,y_test_and_adversary))\n",
    "#evaluate_random.append(model_original.evaluate(x_test_and_adversary,y_test_and_adversary))\n",
    "print(\"Evaluating for lsa\")\n",
    "for model in models_lsa:\n",
    "    evaluate_lsa.append(model.evaluate(x_test_and_adversary,y_test_and_adversary))\n",
    "    \n",
    "print(\"Evaluating for dsa\")\n",
    "for model in models_dsa:\n",
    "    evaluate_dsa.append(model.evaluate(x_test_and_adversary,y_test_and_adversary))\n",
    "print(\"Evaluating for random\")\n",
    "for model in models_random:\n",
    "    evaluate_random.append(model.evaluate(x_test_and_adversary,y_test_and_adversary))\n",
    "print(\"Evaluating for nc\")\n",
    "for model in models_nc:\n",
    "    evaluate_nc.append(model.evaluate(x_test_and_adversary,y_test_and_adversary))"
   ]
  },
  {
   "cell_type": "code",
   "execution_count": 25,
   "id": "ae3df5fe",
   "metadata": {
    "scrolled": true
   },
   "outputs": [
    {
     "name": "stdout",
     "output_type": "stream",
     "text": [
      "Evaluating for dg\n",
      "376/376 [==============================] - 9s 19ms/step - loss: 1.2136 - accuracy: 0.6602 - precision_40: 0.7846 - recall_40: 0.6386\n",
      "376/376 [==============================] - 9s 19ms/step - loss: 1.2380 - accuracy: 0.6741 - precision_41: 0.7650 - recall_41: 0.6756\n",
      "376/376 [==============================] - 9s 19ms/step - loss: 1.2196 - accuracy: 0.6369 - precision_42: 0.7789 - recall_42: 0.5795\n",
      "376/376 [==============================] - 9s 19ms/step - loss: 1.1645 - accuracy: 0.6323 - precision_43: 0.7531 - recall_43: 0.5688\n",
      "376/376 [==============================] - 9s 19ms/step - loss: 1.1940 - accuracy: 0.6246 - precision_44: 0.7658 - recall_44: 0.5514\n",
      "376/376 [==============================] - 9s 20ms/step - loss: 1.1116 - accuracy: 0.6308 - precision_45: 0.7892 - recall_45: 0.5223\n",
      "376/376 [==============================] - 9s 19ms/step - loss: 1.1687 - accuracy: 0.6116 - precision_46: 0.7547 - recall_46: 0.5229\n",
      "376/376 [==============================] - 9s 20ms/step - loss: 1.1119 - accuracy: 0.6330 - precision_47: 0.7725 - recall_47: 0.5392\n",
      "376/376 [==============================] - 9s 20ms/step - loss: 1.1219 - accuracy: 0.6214 - precision_48: 0.7721 - recall_48: 0.5269\n",
      "376/376 [==============================] - 9s 19ms/step - loss: 1.0820 - accuracy: 0.6475 - precision_49: 0.7777 - recall_49: 0.5907\n",
      "376/376 [==============================] - 9s 19ms/step - loss: 1.1018 - accuracy: 0.6252 - precision_50: 0.7932 - recall_50: 0.4817\n",
      "376/376 [==============================] - 9s 20ms/step - loss: 1.1127 - accuracy: 0.6249 - precision_51: 0.7708 - recall_51: 0.5212\n",
      "376/376 [==============================] - 9s 20ms/step - loss: 1.0987 - accuracy: 0.6478 - precision_52: 0.7664 - recall_52: 0.5925\n",
      "376/376 [==============================] - 9s 19ms/step - loss: 0.9896 - accuracy: 0.6690 - precision_53: 0.8116 - recall_53: 0.5662\n",
      "376/376 [==============================] - 9s 21ms/step - loss: 1.1341 - accuracy: 0.6186 - precision_54: 0.7547 - recall_54: 0.5166\n",
      "376/376 [==============================] - 9s 20ms/step - loss: 0.9624 - accuracy: 0.6629 - precision_55: 0.8071 - recall_55: 0.5642\n",
      "376/376 [==============================] - 9s 20ms/step - loss: 0.9359 - accuracy: 0.6889 - precision_56: 0.8022 - recall_56: 0.6409\n",
      "376/376 [==============================] - 9s 19ms/step - loss: 0.9287 - accuracy: 0.6914 - precision_57: 0.7952 - recall_57: 0.6510\n",
      "376/376 [==============================] - 9s 20ms/step - loss: 0.9230 - accuracy: 0.7033 - precision_58: 0.8020 - recall_58: 0.6741\n",
      "376/376 [==============================] - 9s 19ms/step - loss: 0.9004 - accuracy: 0.6864 - precision_59: 0.8284 - recall_59: 0.6045\n",
      "Evaluating for se\n",
      "376/376 [==============================] - 9s 20ms/step - loss: 1.2877 - accuracy: 0.7075 - precision_60: 0.8051 - recall_60: 0.7187\n",
      "376/376 [==============================] - 9s 19ms/step - loss: 1.2916 - accuracy: 0.6713 - precision_61: 0.7579 - recall_61: 0.6716\n",
      "376/376 [==============================] - 9s 19ms/step - loss: 1.5729 - accuracy: 0.5785 - precision_62: 0.6925 - recall_62: 0.5447\n",
      "376/376 [==============================] - 9s 19ms/step - loss: 1.1390 - accuracy: 0.6698 - precision_63: 0.7882 - recall_63: 0.6243\n",
      "376/376 [==============================] - 9s 20ms/step - loss: 1.0908 - accuracy: 0.6604 - precision_64: 0.7749 - recall_64: 0.6083\n",
      "376/376 [==============================] - 8s 19ms/step - loss: 1.1149 - accuracy: 0.6578 - precision_65: 0.7584 - recall_65: 0.6158\n",
      "376/376 [==============================] - 9s 20ms/step - loss: 1.1814 - accuracy: 0.6381 - precision_66: 0.7507 - recall_66: 0.5952: 3s - loss: 1.0417 - accuracy: 0.6670 - precision_66: 0.7640 - recall_66: 0. - ETA: 3s - loss: 1.042\n",
      "376/376 [==============================] - 9s 20ms/step - loss: 1.0815 - accuracy: 0.6276 - precision_67: 0.8102 - recall_67: 0.4938\n",
      "376/376 [==============================] - 9s 21ms/step - loss: 1.2401 - accuracy: 0.6070 - precision_68: 0.7363 - recall_68: 0.5336\n",
      "376/376 [==============================] - 9s 19ms/step - loss: 1.0710 - accuracy: 0.6421 - precision_69: 0.7854 - recall_69: 0.5427\n",
      "376/376 [==============================] - 9s 19ms/step - loss: 1.1579 - accuracy: 0.6266 - precision_70: 0.7572 - recall_70: 0.5610\n",
      "376/376 [==============================] - 9s 20ms/step - loss: 1.0583 - accuracy: 0.6412 - precision_71: 0.7820 - recall_71: 0.5234\n",
      "376/376 [==============================] - 9s 19ms/step - loss: 1.0052 - accuracy: 0.6682 - precision_72: 0.7983 - recall_72: 0.5811\n",
      "376/376 [==============================] - 9s 19ms/step - loss: 0.9657 - accuracy: 0.6709 - precision_73: 0.8037 - recall_73: 0.5970\n",
      "376/376 [==============================] - 9s 19ms/step - loss: 1.0109 - accuracy: 0.6744 - precision_74: 0.7888 - recall_74: 0.6253\n",
      "376/376 [==============================] - 8s 19ms/step - loss: 1.0025 - accuracy: 0.6571 - precision_75: 0.7852 - recall_75: 0.5739\n",
      "376/376 [==============================] - 9s 20ms/step - loss: 0.9200 - accuracy: 0.6930 - precision_76: 0.7988 - recall_76: 0.6408\n",
      "376/376 [==============================] - 9s 20ms/step - loss: 0.9408 - accuracy: 0.6876 - precision_77: 0.7968 - recall_77: 0.6548\n",
      "376/376 [==============================] - 9s 19ms/step - loss: 1.0231 - accuracy: 0.6466 - precision_78: 0.8019 - recall_78: 0.5636\n",
      "376/376 [==============================] - 9s 19ms/step - loss: 1.0398 - accuracy: 0.6468 - precision_79: 0.8309 - recall_79: 0.4871\n"
     ]
    }
   ],
   "source": [
    "print(\"Evaluating for dg\")\n",
    "for model in models_dg:\n",
    "    evaluate_dg.append(model.evaluate(x_test_and_adversary,y_test_and_adversary))\n",
    "    \n",
    "print(\"Evaluating for se\")\n",
    "for model in models_se:\n",
    "    evaluate_se.append(model.evaluate(x_test_and_adversary,y_test_and_adversary))\n"
   ]
  },
  {
   "cell_type": "code",
   "execution_count": 32,
   "id": "2141a097",
   "metadata": {},
   "outputs": [
    {
     "data": {
      "text/plain": [
       "21"
      ]
     },
     "execution_count": 32,
     "metadata": {},
     "output_type": "execute_result"
    }
   ],
   "source": [
    "len(evaluate_dg)"
   ]
  },
  {
   "cell_type": "code",
   "execution_count": 27,
   "id": "078f3e93",
   "metadata": {},
   "outputs": [],
   "source": [
    "#evaluate_lsa.append(models_lsa[20].evaluate(x_test_and_adversary,y_test_and_adversary))\n",
    "#evaluate_dsa.append(models_dsa[20].evaluate(x_test_and_adversary,y_test_and_adversary))\n",
    "#evaluate_dg.append(models_dg[20].evaluate(x_test_and_adversary,y_test_and_adversary))\n",
    "#evaluate_se.append(models_se[20].evaluate(x_test_and_adversary,y_test_and_adversary))\n",
    "#evaluate_random.append(models_random[20].evaluate(x_test_and_adversary,y_test_and_adversary))\n",
    "#evaluate_nc.append(models_nc[20].evaluate(x_test_and_adversary,y_test_and_adversary))\n"
   ]
  },
  {
   "cell_type": "code",
   "execution_count": 28,
   "id": "e48d1822",
   "metadata": {},
   "outputs": [
    {
     "data": {
      "text/plain": [
       "21"
      ]
     },
     "execution_count": 28,
     "metadata": {},
     "output_type": "execute_result"
    }
   ],
   "source": [
    "len(evaluate_nc)"
   ]
  },
  {
   "cell_type": "code",
   "execution_count": 29,
   "id": "84b6b536",
   "metadata": {},
   "outputs": [],
   "source": [
    "import pandas as pd\n",
    "\n",
    "df_evaluate_dg = pd.DataFrame(np.array(evaluate_dg),columns=[\"loss\",\"accuracy\",\"precision\",\"recall\"])\n"
   ]
  },
  {
   "cell_type": "code",
   "execution_count": 29,
   "id": "ba831e22",
   "metadata": {},
   "outputs": [],
   "source": [
    "import pandas as pd\n",
    "\n",
    "df_evaluate_lsa = pd.DataFrame(np.array(evaluate_lsa),columns=[\"loss\",\"accuracy\",\"precision\",\"recall\"])\n",
    "df_evaluate_dsa = pd.DataFrame(np.array(evaluate_dsa),columns=[\"loss\",\"accuracy\",\"precision\",\"recall\"])\n",
    "df_evaluate_dg = pd.DataFrame(np.array(evaluate_dg),columns=[\"loss\",\"accuracy\",\"precision\",\"recall\"])\n",
    "df_evaluate_se = pd.DataFrame(np.array(evaluate_se),columns=[\"loss\",\"accuracy\",\"precision\",\"recall\"])\n",
    "\n",
    "df_evaluate_random = pd.DataFrame(np.array(evaluate_random),columns=[\"loss\",\"accuracy\",\"precision\",\"recall\"])\n",
    "df_evaluate_nc = pd.DataFrame(np.array(evaluate_nc),columns=[\"loss\",\"accuracy\",\"precision\",\"recall\"])\n"
   ]
  },
  {
   "cell_type": "code",
   "execution_count": 30,
   "id": "d5eae8d4",
   "metadata": {},
   "outputs": [],
   "source": [
    "#save_dir = \"D:/aug_graphs/\"+dataset+\"/\"+config_lc\n",
    "save_dir = \"C:/Users/fjdurlop/Documents/upc/aug_graphs/\"+dataset+\"/\"+config_lc+\"_e2\""
   ]
  },
  {
   "cell_type": "code",
   "execution_count": 31,
   "id": "1ff3f440",
   "metadata": {},
   "outputs": [
    {
     "name": "stdout",
     "output_type": "stream",
     "text": [
      "True\n"
     ]
    }
   ],
   "source": [
    "\n",
    "# Check if loading\n",
    "print(loading_csv)"
   ]
  },
  {
   "cell_type": "code",
   "execution_count": 33,
   "id": "aa209967",
   "metadata": {},
   "outputs": [],
   "source": [
    "df_evaluate_dg.to_csv(save_dir+\"/dg_\"+config_lc,index=False)"
   ]
  },
  {
   "cell_type": "code",
   "execution_count": 33,
   "id": "1fcc89a7",
   "metadata": {},
   "outputs": [],
   "source": [
    "df_evaluate_lsa.to_csv(save_dir+\"/lsa_\"+config_lc,index=False)\n",
    "df_evaluate_dsa.to_csv(save_dir+\"/dsa_\"+config_lc,index=False)\n",
    "df_evaluate_dg.to_csv(save_dir+\"/dg_\"+config_lc,index=False)\n",
    "df_evaluate_se.to_csv(save_dir+\"/se_\"+config_lc,index=False)\n",
    "df_evaluate_random.to_csv(save_dir+\"/random_\"+config_lc,index=False)\n",
    "df_evaluate_nc.to_csv(save_dir+\"/nc_\"+config_lc,index=False)"
   ]
  },
  {
   "cell_type": "code",
   "execution_count": 16,
   "id": "2f1f67f6",
   "metadata": {},
   "outputs": [],
   "source": [
    "import pandas as pd\n",
    "loading_csv =True\n",
    "if(loading_csv):\n",
    "    df_evaluate_lsa = pd.read_csv(save_dir+\"/lsa_\"+config_lc)\n",
    "    df_evaluate_dsa = pd.read_csv(save_dir+\"/dsa_\"+config_lc)\n",
    "    df_evaluate_dg = pd.read_csv(save_dir+\"/dg_\"+config_lc)\n",
    "    df_evaluate_se = pd.read_csv(save_dir+\"/se_\"+config_lc)\n",
    "    df_evaluate_random = pd.read_csv(save_dir+\"/random_\"+config_lc)\n",
    "    df_evaluate_nc = pd.read_csv(save_dir+\"/nc_\"+config_lc)"
   ]
  },
  {
   "cell_type": "code",
   "execution_count": 34,
   "id": "434369a2",
   "metadata": {},
   "outputs": [
    {
     "data": {
      "text/html": [
       "<div>\n",
       "<style scoped>\n",
       "    .dataframe tbody tr th:only-of-type {\n",
       "        vertical-align: middle;\n",
       "    }\n",
       "\n",
       "    .dataframe tbody tr th {\n",
       "        vertical-align: top;\n",
       "    }\n",
       "\n",
       "    .dataframe thead th {\n",
       "        text-align: right;\n",
       "    }\n",
       "</style>\n",
       "<table border=\"1\" class=\"dataframe\">\n",
       "  <thead>\n",
       "    <tr style=\"text-align: right;\">\n",
       "      <th></th>\n",
       "      <th>loss</th>\n",
       "      <th>accuracy</th>\n",
       "      <th>precision</th>\n",
       "      <th>recall</th>\n",
       "    </tr>\n",
       "  </thead>\n",
       "  <tbody>\n",
       "    <tr>\n",
       "      <th>0</th>\n",
       "      <td>2.366766</td>\n",
       "      <td>0.576869</td>\n",
       "      <td>0.645068</td>\n",
       "      <td>0.545468</td>\n",
       "    </tr>\n",
       "    <tr>\n",
       "      <th>1</th>\n",
       "      <td>1.998067</td>\n",
       "      <td>0.534872</td>\n",
       "      <td>0.734970</td>\n",
       "      <td>0.597127</td>\n",
       "    </tr>\n",
       "    <tr>\n",
       "      <th>2</th>\n",
       "      <td>1.860668</td>\n",
       "      <td>0.573036</td>\n",
       "      <td>0.726422</td>\n",
       "      <td>0.635265</td>\n",
       "    </tr>\n",
       "    <tr>\n",
       "      <th>3</th>\n",
       "      <td>1.698466</td>\n",
       "      <td>0.554454</td>\n",
       "      <td>0.729333</td>\n",
       "      <td>0.546508</td>\n",
       "    </tr>\n",
       "    <tr>\n",
       "      <th>4</th>\n",
       "      <td>1.481856</td>\n",
       "      <td>0.561703</td>\n",
       "      <td>0.726192</td>\n",
       "      <td>0.544043</td>\n",
       "    </tr>\n",
       "    <tr>\n",
       "      <th>5</th>\n",
       "      <td>1.481218</td>\n",
       "      <td>0.554787</td>\n",
       "      <td>0.729832</td>\n",
       "      <td>0.521979</td>\n",
       "    </tr>\n",
       "    <tr>\n",
       "      <th>6</th>\n",
       "      <td>1.360741</td>\n",
       "      <td>0.564286</td>\n",
       "      <td>0.757174</td>\n",
       "      <td>0.493617</td>\n",
       "    </tr>\n",
       "    <tr>\n",
       "      <th>7</th>\n",
       "      <td>1.370800</td>\n",
       "      <td>0.561787</td>\n",
       "      <td>0.725572</td>\n",
       "      <td>0.501730</td>\n",
       "    </tr>\n",
       "    <tr>\n",
       "      <th>8</th>\n",
       "      <td>1.283863</td>\n",
       "      <td>0.585784</td>\n",
       "      <td>0.747927</td>\n",
       "      <td>0.516312</td>\n",
       "    </tr>\n",
       "    <tr>\n",
       "      <th>9</th>\n",
       "      <td>1.282095</td>\n",
       "      <td>0.576952</td>\n",
       "      <td>0.747388</td>\n",
       "      <td>0.502282</td>\n",
       "    </tr>\n",
       "    <tr>\n",
       "      <th>10</th>\n",
       "      <td>1.322349</td>\n",
       "      <td>0.584285</td>\n",
       "      <td>0.745419</td>\n",
       "      <td>0.562970</td>\n",
       "    </tr>\n",
       "    <tr>\n",
       "      <th>11</th>\n",
       "      <td>1.246851</td>\n",
       "      <td>0.582618</td>\n",
       "      <td>0.773300</td>\n",
       "      <td>0.465220</td>\n",
       "    </tr>\n",
       "    <tr>\n",
       "      <th>12</th>\n",
       "      <td>1.249534</td>\n",
       "      <td>0.590617</td>\n",
       "      <td>0.747362</td>\n",
       "      <td>0.503346</td>\n",
       "    </tr>\n",
       "    <tr>\n",
       "      <th>13</th>\n",
       "      <td>1.305280</td>\n",
       "      <td>0.597034</td>\n",
       "      <td>0.738278</td>\n",
       "      <td>0.564401</td>\n",
       "    </tr>\n",
       "    <tr>\n",
       "      <th>14</th>\n",
       "      <td>1.147572</td>\n",
       "      <td>0.624865</td>\n",
       "      <td>0.787055</td>\n",
       "      <td>0.542496</td>\n",
       "    </tr>\n",
       "    <tr>\n",
       "      <th>15</th>\n",
       "      <td>1.247728</td>\n",
       "      <td>0.579535</td>\n",
       "      <td>0.738783</td>\n",
       "      <td>0.496660</td>\n",
       "    </tr>\n",
       "    <tr>\n",
       "      <th>16</th>\n",
       "      <td>1.100398</td>\n",
       "      <td>0.614365</td>\n",
       "      <td>0.787437</td>\n",
       "      <td>0.546289</td>\n",
       "    </tr>\n",
       "    <tr>\n",
       "      <th>17</th>\n",
       "      <td>1.100651</td>\n",
       "      <td>0.632697</td>\n",
       "      <td>0.783873</td>\n",
       "      <td>0.608804</td>\n",
       "    </tr>\n",
       "    <tr>\n",
       "      <th>18</th>\n",
       "      <td>1.111512</td>\n",
       "      <td>0.632614</td>\n",
       "      <td>0.779140</td>\n",
       "      <td>0.617784</td>\n",
       "    </tr>\n",
       "    <tr>\n",
       "      <th>19</th>\n",
       "      <td>1.111479</td>\n",
       "      <td>0.648279</td>\n",
       "      <td>0.786520</td>\n",
       "      <td>0.643979</td>\n",
       "    </tr>\n",
       "    <tr>\n",
       "      <th>20</th>\n",
       "      <td>1.050644</td>\n",
       "      <td>0.629448</td>\n",
       "      <td>0.825891</td>\n",
       "      <td>0.572161</td>\n",
       "    </tr>\n",
       "  </tbody>\n",
       "</table>\n",
       "</div>"
      ],
      "text/plain": [
       "        loss  accuracy  precision    recall\n",
       "0   2.366766  0.576869   0.645068  0.545468\n",
       "1   1.998067  0.534872   0.734970  0.597127\n",
       "2   1.860668  0.573036   0.726422  0.635265\n",
       "3   1.698466  0.554454   0.729333  0.546508\n",
       "4   1.481856  0.561703   0.726192  0.544043\n",
       "5   1.481218  0.554787   0.729832  0.521979\n",
       "6   1.360741  0.564286   0.757174  0.493617\n",
       "7   1.370800  0.561787   0.725572  0.501730\n",
       "8   1.283863  0.585784   0.747927  0.516312\n",
       "9   1.282095  0.576952   0.747388  0.502282\n",
       "10  1.322349  0.584285   0.745419  0.562970\n",
       "11  1.246851  0.582618   0.773300  0.465220\n",
       "12  1.249534  0.590617   0.747362  0.503346\n",
       "13  1.305280  0.597034   0.738278  0.564401\n",
       "14  1.147572  0.624865   0.787055  0.542496\n",
       "15  1.247728  0.579535   0.738783  0.496660\n",
       "16  1.100398  0.614365   0.787437  0.546289\n",
       "17  1.100651  0.632697   0.783873  0.608804\n",
       "18  1.111512  0.632614   0.779140  0.617784\n",
       "19  1.111479  0.648279   0.786520  0.643979\n",
       "20  1.050644  0.629448   0.825891  0.572161"
      ]
     },
     "execution_count": 34,
     "metadata": {},
     "output_type": "execute_result"
    }
   ],
   "source": [
    "df_evaluate_dg"
   ]
  },
  {
   "cell_type": "code",
   "execution_count": 35,
   "id": "3c21fd01",
   "metadata": {},
   "outputs": [],
   "source": [
    "\n",
    "metric =\"accuracy\"\n",
    "accuracy_lsa_3 = np.array(df_evaluate_lsa[metric])\n",
    "accuracy_dsa_3 = np.array(df_evaluate_dsa[metric])\n",
    "accuracy_dg_3 = np.array(df_evaluate_dg[metric])\n",
    "accuracy_se_3 = np.array(df_evaluate_se[metric])\n",
    "\n",
    "accuracy_nc_3 =np.array(df_evaluate_nc[metric])\n",
    "accuracy_random_3 = np.array(df_evaluate_random[metric])\n"
   ]
  },
  {
   "cell_type": "code",
   "execution_count": null,
   "id": "7aeb569b",
   "metadata": {},
   "outputs": [],
   "source": []
  },
  {
   "cell_type": "code",
   "execution_count": 36,
   "id": "9ed5051f",
   "metadata": {},
   "outputs": [],
   "source": [
    "n_data_points = 300"
   ]
  },
  {
   "cell_type": "code",
   "execution_count": 37,
   "id": "43b61f22",
   "metadata": {},
   "outputs": [
    {
     "data": {
      "text/plain": [
       "21"
      ]
     },
     "execution_count": 37,
     "metadata": {},
     "output_type": "execute_result"
    }
   ],
   "source": [
    "len(accuracy_dsa_3)"
   ]
  },
  {
   "cell_type": "code",
   "execution_count": 38,
   "id": "cb15309c",
   "metadata": {},
   "outputs": [
    {
     "data": {
      "text/plain": [
       "20"
      ]
     },
     "execution_count": 38,
     "metadata": {},
     "output_type": "execute_result"
    }
   ],
   "source": [
    "num_models"
   ]
  },
  {
   "cell_type": "code",
   "execution_count": 39,
   "id": "e67df87a",
   "metadata": {},
   "outputs": [
    {
     "name": "stdout",
     "output_type": "stream",
     "text": [
      "21\n"
     ]
    },
    {
     "data": {
      "text/plain": [
       "[0,\n",
       " 300,\n",
       " 600,\n",
       " 900,\n",
       " 1200,\n",
       " 1500,\n",
       " 1800,\n",
       " 2100,\n",
       " 2400,\n",
       " 2700,\n",
       " 3000,\n",
       " 3300,\n",
       " 3600,\n",
       " 3900,\n",
       " 4200,\n",
       " 4500,\n",
       " 4800,\n",
       " 5100,\n",
       " 5400,\n",
       " 5700,\n",
       " 6000]"
      ]
     },
     "execution_count": 39,
     "metadata": {},
     "output_type": "execute_result"
    }
   ],
   "source": [
    "#if(num_models>20):\n",
    "n_inputs = [n_data_points*i for i in range(num_models+1)]\n",
    "#n_inputs.append(len(x_train_and_adversary))\n",
    "print(len(n_inputs))\n",
    "n_inputs"
   ]
  },
  {
   "cell_type": "code",
   "execution_count": 40,
   "id": "3cd2cd2d",
   "metadata": {},
   "outputs": [
    {
     "name": "stdout",
     "output_type": "stream",
     "text": [
      "21\n",
      "21\n"
     ]
    }
   ],
   "source": [
    "print(len(df_evaluate_dg))\n",
    "print(len(n_inputs))"
   ]
  },
  {
   "cell_type": "code",
   "execution_count": 41,
   "id": "b484cf9a",
   "metadata": {},
   "outputs": [],
   "source": [
    "#save_dir = \"D:/aug_graphs/\"+dataset+\"/\"+config"
   ]
  },
  {
   "cell_type": "code",
   "execution_count": 42,
   "id": "04d02a6d",
   "metadata": {},
   "outputs": [],
   "source": [
    "linestyles = ['solid','dotted','dashed','dashed','dashdot','dashdot']\n",
    "colors =['b','g','r','c','m','k']"
   ]
  },
  {
   "cell_type": "code",
   "execution_count": 43,
   "id": "75c13967",
   "metadata": {},
   "outputs": [
    {
     "name": "stdout",
     "output_type": "stream",
     "text": [
      "LSA\n",
      "6000 0.6265311241149902\n",
      "DSA\n",
      "6000 0.6369469165802002\n",
      "DG\n",
      "5700 0.6482793092727661\n",
      "SE\n",
      "5100 0.6441130042076111\n",
      "RANDOM\n",
      "4800 0.6538621783256531\n",
      "NC\n",
      "5700 0.6346970796585083\n"
     ]
    },
    {
     "data": {
      "image/png": "[encoded data removed]",
      "text/plain": [
       "<Figure size 432x288 with 1 Axes>"
      ]
     },
     "metadata": {
      "needs_background": "light"
     },
     "output_type": "display_data"
    }
   ],
   "source": [
    "#adversarial jsma test set\n",
    "#configuration 3\n",
    "\"\"\"\n",
    "6) Incremental guided retraining starting from the original model using only the new adversarial inputs.\n",
    "Incremental training, starting with the previous trained model. Using at each iteration a subset of the new inputs.\n",
    "\"\"\"\n",
    "import matplotlib.pyplot as plt\n",
    "import matplotlib.patches as mpatches\n",
    "\n",
    "from matplotlib.patches import Patch\n",
    "from matplotlib.lines import Line2D\n",
    "\n",
    "plt.plot(n_inputs,accuracy_lsa_3,colors[0],linestyle=linestyles[0])\n",
    "plt.plot(n_inputs,accuracy_dsa_3,colors[1],linestyle=linestyles[1])\n",
    "plt.plot(n_inputs,accuracy_dg_3,colors[2],linestyle=linestyles[2])\n",
    "plt.plot(n_inputs,accuracy_se_3,colors[3],linestyle=linestyles[3])\n",
    "plt.plot(n_inputs,accuracy_random_3,colors[4],linestyle=linestyles[4])\n",
    "plt.plot(n_inputs,accuracy_nc_3,colors[5],linestyle=linestyles[5])\n",
    "\n",
    "\n",
    "legend_elements = [Line2D([0], [0], color=colors[0], label='LSA',ls = linestyles[0]),\n",
    "                   Line2D([0], [0], color=colors[1], label='DSA',ls = linestyles[1]),\n",
    "                   Line2D([0], [0], color=colors[2], label='dg',ls = linestyles[2]),\n",
    "                   Line2D([0], [0], color=colors[3], label='se',ls = linestyles[3]),\n",
    "                   Line2D([0], [0], color=colors[4], label='Random',ls = linestyles[4]),\n",
    "                   Line2D([0], [0], color=colors[5], label='NC',ls = linestyles[5])]\n",
    "\n",
    "\n",
    "\n",
    "plt.legend(handles=legend_elements)#\n",
    "#plt.title(\"Accuracy\")\n",
    "print(\"LSA\")\n",
    "print(n_inputs[np.argmax(accuracy_lsa_3)],accuracy_lsa_3.max())\n",
    "print(\"DSA\")\n",
    "print(n_inputs[np.argmax(accuracy_dsa_3)],accuracy_dsa_3.max())\n",
    "print(\"DG\")\n",
    "print(n_inputs[np.argmax(accuracy_dg_3)],accuracy_dg_3.max())\n",
    "print(\"SE\")\n",
    "print(n_inputs[np.argmax(accuracy_se_3)],accuracy_se_3.max())\n",
    "print(\"RANDOM\")\n",
    "print(n_inputs[np.argmax(accuracy_random_3)],accuracy_random_3.max())\n",
    "print(\"NC\")\n",
    "print(n_inputs[np.argmax(accuracy_nc_3)],accuracy_nc_3.max())\n",
    "\n",
    "plt.plot(n_inputs[np.argmax(accuracy_lsa_3)],accuracy_lsa_3.max(),'-bD',)\n",
    "plt.plot(n_inputs[np.argmax(accuracy_dsa_3)],accuracy_dsa_3.max(),'-go')\n",
    "plt.plot(n_inputs[np.argmax(accuracy_dg_3)],accuracy_dg_3.max(),'-r+')\n",
    "plt.plot(n_inputs[np.argmax(accuracy_se_3)],accuracy_se_3.max(),'-c*')\n",
    "plt.plot(n_inputs[np.argmax(accuracy_random_3)],accuracy_random_3.max(),'-mv')\n",
    "plt.plot(n_inputs[np.argmax(accuracy_nc_3)],accuracy_nc_3.max(),'-kp')\n",
    "\n",
    "plt.xlabel('Number of inputs')\n",
    "plt.ylabel('Accuracy')\n",
    "plt.xlim([0, 6000])\n",
    "#plt.ylim([0.5, 0.8])\n",
    "\n",
    "plt.savefig(save_dir+\"/\"+dataset+\"_\"+config_lc+\"_\"+\"accuracy\" + \".svg\")\n",
    "\n",
    "plt.show()"
   ]
  },
  {
   "cell_type": "code",
   "execution_count": null,
   "id": "a7f63081",
   "metadata": {},
   "outputs": [],
   "source": []
  }
 ],
 "metadata": {
  "kernelspec": {
   "display_name": "Python 3 (ipykernel)",
   "language": "python",
   "name": "python3"
  },
  "language_info": {
   "codemirror_mode": {
    "name": "ipython",
    "version": 3
   },
   "file_extension": ".py",
   "mimetype": "text/x-python",
   "name": "python",
   "nbconvert_exporter": "python",
   "pygments_lexer": "ipython3",
   "version": "3.9.7"
  }
 },
 "nbformat": 4,
 "nbformat_minor": 5
}
