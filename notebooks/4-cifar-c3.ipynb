{
 "cells": [
  {
   "cell_type": "code",
   "execution_count": 1,
   "id": "458bf345",
   "metadata": {},
   "outputs": [],
   "source": [
    "import argparse\n",
    "\n",
    "import numpy as np\n",
    "import tensorflow as tf\n",
    "import keras.backend as K\n",
    "\n",
    "import matplotlib.pyplot as plt\n",
    "\n",
    "from keras.utils import np_utils\n",
    "from keras.models import Sequential\n",
    "from keras.layers import Dense, Dropout, Activation, Flatten, Conv2D, MaxPooling2D\n",
    "from keras.regularizers import l2\n",
    "\n",
    "import glob\n",
    "import os\n",
    "import cv2\n",
    "import keras\n",
    "\n",
    "\n",
    "import time\n",
    "import argparse\n",
    "\n",
    "from tqdm import tqdm\n",
    "\n",
    "from keras.models import load_model, Model\n"
   ]
  },
  {
   "cell_type": "code",
   "execution_count": 2,
   "id": "d87645a5",
   "metadata": {},
   "outputs": [
    {
     "name": "stdout",
     "output_type": "stream",
     "text": [
      "[WinError 3] The system cannot find the path specified: 'C:/Users/fjdur/Documents/utils/'\n",
      "C:\\Users\\fjdurlop\\Documents\\upc\\upc-july\\notebooks\n"
     ]
    }
   ],
   "source": [
    "cd C:/Users/fjdur/Documents/utils/"
   ]
  },
  {
   "cell_type": "code",
   "execution_count": 3,
   "id": "c6c83ac8",
   "metadata": {},
   "outputs": [
    {
     "name": "stdout",
     "output_type": "stream",
     "text": [
      "C:\\Users\\fjdurlop\\Documents\\upc\\utils\n"
     ]
    }
   ],
   "source": [
    "cd C:/Users/fjdurlop/Documents/upc/utils/"
   ]
  },
  {
   "cell_type": "code",
   "execution_count": 4,
   "id": "b4b5dea1",
   "metadata": {},
   "outputs": [
    {
     "name": "stdout",
     "output_type": "stream",
     "text": [
      "2.5.0\n",
      "keras\n",
      "2.5.0\n"
     ]
    }
   ],
   "source": [
    "#import utils_guided_retraining as utils\n",
    "import utils_guided_retraining2 as utils"
   ]
  },
  {
   "cell_type": "code",
   "execution_count": 5,
   "id": "a90d3511",
   "metadata": {},
   "outputs": [],
   "source": [
    "dataset = \"cifar\""
   ]
  },
  {
   "cell_type": "code",
   "execution_count": 6,
   "id": "07b34a1a",
   "metadata": {},
   "outputs": [],
   "source": [
    "x_test,y_test = utils.get_data(dataset,\"Test\")"
   ]
  },
  {
   "cell_type": "code",
   "execution_count": 7,
   "id": "244a4fbd",
   "metadata": {},
   "outputs": [],
   "source": [
    "x_train_and_adversary,y_train_and_adversary = utils.get_data(dataset,\"Train_and_adversary\")"
   ]
  },
  {
   "cell_type": "code",
   "execution_count": 8,
   "id": "739175c8",
   "metadata": {},
   "outputs": [],
   "source": [
    "x_test_and_adversary,y_test_and_adversary = utils.get_adversarial_data(dataset,'Test_adversarial') "
   ]
  },
  {
   "cell_type": "code",
   "execution_count": 9,
   "id": "0875bdf0",
   "metadata": {},
   "outputs": [],
   "source": [
    "\n",
    "model_dir = \"C:/Users/fjdur/Documents/upc-july/models/tf_model_25-06/\"\n",
    "if(dataset == 'gtsrb'):\n",
    "    model_dir = \"C:/Users/fjdur/Documents/upc-july/models/tf_model_25-06\"\n",
    "elif(dataset == 'intel'):\n",
    "    model_dir = \"C:/Users/fjdur/Documents/upc-july/models/intel_model_21_10\"\n",
    "elif(dataset == 'mnist'):\n",
    "    model_dir = \"C:/Users/fjdur/Documents/upc-july/models/models2\"\n",
    "elif(dataset == 'cifar'):\n",
    "    model_dir = \"C:/Users/fjdur/Documents/upc-july/models/model_02\"\n"
   ]
  },
  {
   "cell_type": "code",
   "execution_count": 10,
   "id": "e0c78975",
   "metadata": {},
   "outputs": [],
   "source": [
    "model_dir = \"C:/Users/fjdurlop/Documents/upc/upc-july/models/tf_model_25-06/\"\n",
    "if(dataset == 'gtsrb'):\n",
    "    model_dir = \"C:/Users/fjdurlop/Documents/upc/upc-july/models/tf_model_25-06\"\n",
    "elif(dataset == 'intel'):\n",
    "    model_dir = \"C:/Users/fjdurlop/Documents/upc/upc-july/models/intel_model_21_10\"\n",
    "elif(dataset == 'mnist'):\n",
    "    model_dir = \"C:/Users/fjdurlop/Documents/upc/upc-july/models/models2\"\n",
    "elif(dataset == 'cifar'):\n",
    "    model_dir = \"C:/Users/fjdurlop/Documents/upc/upc-july/models/model_02\""
   ]
  },
  {
   "cell_type": "code",
   "execution_count": 11,
   "id": "1485065e",
   "metadata": {},
   "outputs": [
    {
     "name": "stdout",
     "output_type": "stream",
     "text": [
      "C:/Users/fjdurlop/Documents/upc/upc-july/models/model_02\n",
      "Model loaded correctly\n"
     ]
    }
   ],
   "source": [
    "print(model_dir)\n",
    "model_original = utils.My_model(dataset,True, model_dir)"
   ]
  },
  {
   "cell_type": "code",
   "execution_count": 12,
   "id": "a378dcc5",
   "metadata": {},
   "outputs": [],
   "source": [
    "loading_csv =True"
   ]
  },
  {
   "cell_type": "markdown",
   "id": "48e95400",
   "metadata": {},
   "source": [
    "## Loading models"
   ]
  },
  {
   "cell_type": "code",
   "execution_count": 13,
   "id": "9ca8455f",
   "metadata": {},
   "outputs": [],
   "source": [
    "data_dir = \"C:/Users/fjdurlop/Documents/upc/models\"\n",
    "dataset = \"cifar\"\n",
    "config = \"C3\"\n",
    "config_lc = \"c3\"\n",
    "num_models = 20"
   ]
  },
  {
   "cell_type": "code",
   "execution_count": null,
   "id": "53255a20",
   "metadata": {},
   "outputs": [],
   "source": [
    "# C:/Users/fjdurlop/Documents/upc/models/intel/C2/intel_model_c2_aug_lsa_e1_0"
   ]
  },
  {
   "cell_type": "code",
   "execution_count": null,
   "id": "fe3eb254",
   "metadata": {},
   "outputs": [],
   "source": [
    "#change config"
   ]
  },
  {
   "cell_type": "code",
   "execution_count": 14,
   "id": "c0dc05ec",
   "metadata": {
    "scrolled": true
   },
   "outputs": [
    {
     "name": "stdout",
     "output_type": "stream",
     "text": [
      "C:/Users/fjdurlop/Documents/upc/models/cifar/C3/cifar_model_c3_aug_lsa_e1_0\n",
      "Model loaded correctly\n",
      "C:/Users/fjdurlop/Documents/upc/models/cifar/C3/cifar_model_c3_aug_lsa_e1_1\n",
      "Model loaded correctly\n",
      "C:/Users/fjdurlop/Documents/upc/models/cifar/C3/cifar_model_c3_aug_lsa_e1_2\n",
      "Model loaded correctly\n",
      "C:/Users/fjdurlop/Documents/upc/models/cifar/C3/cifar_model_c3_aug_lsa_e1_3\n",
      "Model loaded correctly\n",
      "C:/Users/fjdurlop/Documents/upc/models/cifar/C3/cifar_model_c3_aug_lsa_e1_4\n",
      "Model loaded correctly\n",
      "C:/Users/fjdurlop/Documents/upc/models/cifar/C3/cifar_model_c3_aug_lsa_e1_5\n",
      "Model loaded correctly\n",
      "C:/Users/fjdurlop/Documents/upc/models/cifar/C3/cifar_model_c3_aug_lsa_e1_6\n",
      "Model loaded correctly\n",
      "C:/Users/fjdurlop/Documents/upc/models/cifar/C3/cifar_model_c3_aug_lsa_e1_7\n",
      "Model loaded correctly\n",
      "C:/Users/fjdurlop/Documents/upc/models/cifar/C3/cifar_model_c3_aug_lsa_e1_8\n",
      "Model loaded correctly\n",
      "C:/Users/fjdurlop/Documents/upc/models/cifar/C3/cifar_model_c3_aug_lsa_e1_9\n",
      "Model loaded correctly\n",
      "C:/Users/fjdurlop/Documents/upc/models/cifar/C3/cifar_model_c3_aug_lsa_e1_10\n",
      "Model loaded correctly\n",
      "C:/Users/fjdurlop/Documents/upc/models/cifar/C3/cifar_model_c3_aug_lsa_e1_11\n",
      "Model loaded correctly\n",
      "C:/Users/fjdurlop/Documents/upc/models/cifar/C3/cifar_model_c3_aug_lsa_e1_12\n",
      "Model loaded correctly\n",
      "C:/Users/fjdurlop/Documents/upc/models/cifar/C3/cifar_model_c3_aug_lsa_e1_13\n",
      "Model loaded correctly\n",
      "C:/Users/fjdurlop/Documents/upc/models/cifar/C3/cifar_model_c3_aug_lsa_e1_14\n",
      "Model loaded correctly\n",
      "C:/Users/fjdurlop/Documents/upc/models/cifar/C3/cifar_model_c3_aug_lsa_e1_15\n",
      "Model loaded correctly\n",
      "C:/Users/fjdurlop/Documents/upc/models/cifar/C3/cifar_model_c3_aug_lsa_e1_16\n",
      "Model loaded correctly\n",
      "C:/Users/fjdurlop/Documents/upc/models/cifar/C3/cifar_model_c3_aug_lsa_e1_17\n",
      "Model loaded correctly\n",
      "C:/Users/fjdurlop/Documents/upc/models/cifar/C3/cifar_model_c3_aug_lsa_e1_18\n",
      "Model loaded correctly\n",
      "C:/Users/fjdurlop/Documents/upc/models/cifar/C3/cifar_model_c3_aug_lsa_e1_19\n",
      "Model loaded correctly\n"
     ]
    }
   ],
   "source": [
    "loading = True\n",
    "\n",
    "models_lsa = []\n",
    "\n",
    "if loading:\n",
    "    for i in range(num_models):\n",
    "        model_lsa_dir = data_dir+\"/\"+dataset+\"/C3/\"+dataset+\"_model_c3_aug_lsa_e1_\"+str(i)\n",
    "        print(model_lsa_dir)\n",
    "        model =utils.My_model(dataset,True,model_lsa_dir)\n",
    "        model.model.compile(loss= 'categorical_crossentropy', optimizer = 'rmsprop', metrics = ['accuracy',tf.keras.metrics.Precision(), tf.keras.metrics.Recall()])\n",
    "        models_lsa.append(model)\n",
    "       \n",
    "    "
   ]
  },
  {
   "cell_type": "code",
   "execution_count": 15,
   "id": "da4d6ed4",
   "metadata": {},
   "outputs": [
    {
     "name": "stdout",
     "output_type": "stream",
     "text": [
      "C:/Users/fjdurlop/Documents/upc/models/cifar/C3/cifar_model_c3_aug_dsa_e1_0\n",
      "Model loaded correctly\n",
      "C:/Users/fjdurlop/Documents/upc/models/cifar/C3/cifar_model_c3_aug_dsa_e1_1\n",
      "Model loaded correctly\n",
      "C:/Users/fjdurlop/Documents/upc/models/cifar/C3/cifar_model_c3_aug_dsa_e1_2\n",
      "Model loaded correctly\n",
      "C:/Users/fjdurlop/Documents/upc/models/cifar/C3/cifar_model_c3_aug_dsa_e1_3\n",
      "Model loaded correctly\n",
      "C:/Users/fjdurlop/Documents/upc/models/cifar/C3/cifar_model_c3_aug_dsa_e1_4\n",
      "Model loaded correctly\n",
      "C:/Users/fjdurlop/Documents/upc/models/cifar/C3/cifar_model_c3_aug_dsa_e1_5\n",
      "Model loaded correctly\n",
      "C:/Users/fjdurlop/Documents/upc/models/cifar/C3/cifar_model_c3_aug_dsa_e1_6\n",
      "Model loaded correctly\n",
      "C:/Users/fjdurlop/Documents/upc/models/cifar/C3/cifar_model_c3_aug_dsa_e1_7\n",
      "Model loaded correctly\n",
      "C:/Users/fjdurlop/Documents/upc/models/cifar/C3/cifar_model_c3_aug_dsa_e1_8\n",
      "Model loaded correctly\n",
      "C:/Users/fjdurlop/Documents/upc/models/cifar/C3/cifar_model_c3_aug_dsa_e1_9\n",
      "Model loaded correctly\n",
      "C:/Users/fjdurlop/Documents/upc/models/cifar/C3/cifar_model_c3_aug_dsa_e1_10\n",
      "Model loaded correctly\n",
      "C:/Users/fjdurlop/Documents/upc/models/cifar/C3/cifar_model_c3_aug_dsa_e1_11\n",
      "Model loaded correctly\n",
      "C:/Users/fjdurlop/Documents/upc/models/cifar/C3/cifar_model_c3_aug_dsa_e1_12\n",
      "Model loaded correctly\n",
      "C:/Users/fjdurlop/Documents/upc/models/cifar/C3/cifar_model_c3_aug_dsa_e1_13\n",
      "Model loaded correctly\n",
      "C:/Users/fjdurlop/Documents/upc/models/cifar/C3/cifar_model_c3_aug_dsa_e1_14\n",
      "Model loaded correctly\n",
      "C:/Users/fjdurlop/Documents/upc/models/cifar/C3/cifar_model_c3_aug_dsa_e1_15\n",
      "Model loaded correctly\n",
      "C:/Users/fjdurlop/Documents/upc/models/cifar/C3/cifar_model_c3_aug_dsa_e1_16\n",
      "Model loaded correctly\n",
      "C:/Users/fjdurlop/Documents/upc/models/cifar/C3/cifar_model_c3_aug_dsa_e1_17\n",
      "Model loaded correctly\n",
      "C:/Users/fjdurlop/Documents/upc/models/cifar/C3/cifar_model_c3_aug_dsa_e1_18\n",
      "Model loaded correctly\n",
      "C:/Users/fjdurlop/Documents/upc/models/cifar/C3/cifar_model_c3_aug_dsa_e1_19\n",
      "Model loaded correctly\n"
     ]
    }
   ],
   "source": [
    "loading = True\n",
    "\n",
    "models_dsa = []\n",
    "\n",
    "if loading:\n",
    "    for i in range(num_models):\n",
    "        #model_dsa_dir = \"D:/models/gtsrb_models/C1/gtsrb_model_c1_sep_dsa_e2_\"+str(i)\n",
    "        model_dsa_dir = data_dir+\"/\"+dataset+\"/C3/\"+dataset+\"_model_c3_aug_dsa_e1_\"+str(i)\n",
    "        print(model_dsa_dir)\n",
    "        model =utils.My_model(dataset,True,model_dsa_dir)\n",
    "        model.model.compile(loss= 'categorical_crossentropy', optimizer = 'rmsprop', metrics = ['accuracy',tf.keras.metrics.Precision(), tf.keras.metrics.Recall()])\n",
    "        models_dsa.append(model)\n",
    "       \n",
    "\n",
    "    "
   ]
  },
  {
   "cell_type": "code",
   "execution_count": 16,
   "id": "0a4a7c64",
   "metadata": {
    "scrolled": true
   },
   "outputs": [
    {
     "name": "stdout",
     "output_type": "stream",
     "text": [
      "C:/Users/fjdurlop/Documents/upc/models/cifar/C3/cifar_model_c3_aug_dg_e1_0\n",
      "Model loaded correctly\n",
      "C:/Users/fjdurlop/Documents/upc/models/cifar/C3/cifar_model_c3_aug_dg_e1_1\n",
      "Model loaded correctly\n",
      "C:/Users/fjdurlop/Documents/upc/models/cifar/C3/cifar_model_c3_aug_dg_e1_2\n",
      "Model loaded correctly\n",
      "C:/Users/fjdurlop/Documents/upc/models/cifar/C3/cifar_model_c3_aug_dg_e1_3\n",
      "Model loaded correctly\n",
      "C:/Users/fjdurlop/Documents/upc/models/cifar/C3/cifar_model_c3_aug_dg_e1_4\n",
      "Model loaded correctly\n",
      "C:/Users/fjdurlop/Documents/upc/models/cifar/C3/cifar_model_c3_aug_dg_e1_5\n",
      "Model loaded correctly\n",
      "C:/Users/fjdurlop/Documents/upc/models/cifar/C3/cifar_model_c3_aug_dg_e1_6\n",
      "Model loaded correctly\n",
      "C:/Users/fjdurlop/Documents/upc/models/cifar/C3/cifar_model_c3_aug_dg_e1_7\n",
      "Model loaded correctly\n",
      "C:/Users/fjdurlop/Documents/upc/models/cifar/C3/cifar_model_c3_aug_dg_e1_8\n",
      "Model loaded correctly\n",
      "C:/Users/fjdurlop/Documents/upc/models/cifar/C3/cifar_model_c3_aug_dg_e1_9\n",
      "Model loaded correctly\n",
      "C:/Users/fjdurlop/Documents/upc/models/cifar/C3/cifar_model_c3_aug_dg_e1_10\n",
      "Model loaded correctly\n",
      "C:/Users/fjdurlop/Documents/upc/models/cifar/C3/cifar_model_c3_aug_dg_e1_11\n",
      "Model loaded correctly\n",
      "C:/Users/fjdurlop/Documents/upc/models/cifar/C3/cifar_model_c3_aug_dg_e1_12\n",
      "Model loaded correctly\n",
      "C:/Users/fjdurlop/Documents/upc/models/cifar/C3/cifar_model_c3_aug_dg_e1_13\n",
      "Model loaded correctly\n",
      "C:/Users/fjdurlop/Documents/upc/models/cifar/C3/cifar_model_c3_aug_dg_e1_14\n",
      "Model loaded correctly\n",
      "C:/Users/fjdurlop/Documents/upc/models/cifar/C3/cifar_model_c3_aug_dg_e1_15\n",
      "Model loaded correctly\n",
      "C:/Users/fjdurlop/Documents/upc/models/cifar/C3/cifar_model_c3_aug_dg_e1_16\n",
      "Model loaded correctly\n",
      "C:/Users/fjdurlop/Documents/upc/models/cifar/C3/cifar_model_c3_aug_dg_e1_17\n",
      "Model loaded correctly\n",
      "C:/Users/fjdurlop/Documents/upc/models/cifar/C3/cifar_model_c3_aug_dg_e1_18\n",
      "Model loaded correctly\n",
      "C:/Users/fjdurlop/Documents/upc/models/cifar/C3/cifar_model_c3_aug_dg_e1_19\n",
      "Model loaded correctly\n"
     ]
    }
   ],
   "source": [
    "loading = True\n",
    "\n",
    "models_dg = []\n",
    "\n",
    "if loading:\n",
    "    for i in range(num_models):\n",
    "        #model_dg_dir = \"D:/models/aug_22/gtsrb/C1/gtsrb_model_c1_aug_gn_e1_\"+str(i)\n",
    "        model_dg_dir = data_dir+\"/\"+dataset+\"/C3/\"+dataset+\"_model_c3_aug_dg_e1_\"+str(i)\n",
    "        \n",
    "        print(model_dg_dir)\n",
    "        model =utils.My_model(dataset,True,model_dg_dir)\n",
    "        model.model.compile(loss= 'categorical_crossentropy', optimizer = 'rmsprop', metrics = ['accuracy',tf.keras.metrics.Precision(), tf.keras.metrics.Recall()])\n",
    "        models_dg.append(model)\n",
    "       \n",
    "    "
   ]
  },
  {
   "cell_type": "code",
   "execution_count": 17,
   "id": "9301cc38",
   "metadata": {
    "scrolled": true
   },
   "outputs": [
    {
     "name": "stdout",
     "output_type": "stream",
     "text": [
      "C:/Users/fjdurlop/Documents/upc/models/cifar/C3/cifar_model_c3_aug_se_e1_0\n",
      "Model loaded correctly\n",
      "C:/Users/fjdurlop/Documents/upc/models/cifar/C3/cifar_model_c3_aug_se_e1_1\n",
      "Model loaded correctly\n",
      "C:/Users/fjdurlop/Documents/upc/models/cifar/C3/cifar_model_c3_aug_se_e1_2\n",
      "Model loaded correctly\n",
      "C:/Users/fjdurlop/Documents/upc/models/cifar/C3/cifar_model_c3_aug_se_e1_3\n",
      "Model loaded correctly\n",
      "C:/Users/fjdurlop/Documents/upc/models/cifar/C3/cifar_model_c3_aug_se_e1_4\n",
      "Model loaded correctly\n",
      "C:/Users/fjdurlop/Documents/upc/models/cifar/C3/cifar_model_c3_aug_se_e1_5\n",
      "Model loaded correctly\n",
      "C:/Users/fjdurlop/Documents/upc/models/cifar/C3/cifar_model_c3_aug_se_e1_6\n",
      "Model loaded correctly\n",
      "C:/Users/fjdurlop/Documents/upc/models/cifar/C3/cifar_model_c3_aug_se_e1_7\n",
      "Model loaded correctly\n",
      "C:/Users/fjdurlop/Documents/upc/models/cifar/C3/cifar_model_c3_aug_se_e1_8\n",
      "Model loaded correctly\n",
      "C:/Users/fjdurlop/Documents/upc/models/cifar/C3/cifar_model_c3_aug_se_e1_9\n",
      "Model loaded correctly\n",
      "C:/Users/fjdurlop/Documents/upc/models/cifar/C3/cifar_model_c3_aug_se_e1_10\n",
      "Model loaded correctly\n",
      "C:/Users/fjdurlop/Documents/upc/models/cifar/C3/cifar_model_c3_aug_se_e1_11\n",
      "Model loaded correctly\n",
      "C:/Users/fjdurlop/Documents/upc/models/cifar/C3/cifar_model_c3_aug_se_e1_12\n",
      "Model loaded correctly\n",
      "C:/Users/fjdurlop/Documents/upc/models/cifar/C3/cifar_model_c3_aug_se_e1_13\n",
      "Model loaded correctly\n",
      "C:/Users/fjdurlop/Documents/upc/models/cifar/C3/cifar_model_c3_aug_se_e1_14\n",
      "Model loaded correctly\n",
      "C:/Users/fjdurlop/Documents/upc/models/cifar/C3/cifar_model_c3_aug_se_e1_15\n",
      "Model loaded correctly\n",
      "C:/Users/fjdurlop/Documents/upc/models/cifar/C3/cifar_model_c3_aug_se_e1_16\n",
      "Model loaded correctly\n",
      "C:/Users/fjdurlop/Documents/upc/models/cifar/C3/cifar_model_c3_aug_se_e1_17\n",
      "Model loaded correctly\n",
      "C:/Users/fjdurlop/Documents/upc/models/cifar/C3/cifar_model_c3_aug_se_e1_18\n",
      "Model loaded correctly\n",
      "C:/Users/fjdurlop/Documents/upc/models/cifar/C3/cifar_model_c3_aug_se_e1_19\n",
      "Model loaded correctly\n"
     ]
    }
   ],
   "source": [
    "loading = True\n",
    "\n",
    "models_se = []\n",
    "\n",
    "if loading:\n",
    "    for i in range(num_models):\n",
    "        \n",
    "        model_se_dir = data_dir+\"/\"+dataset+\"/C3/\"+dataset+\"_model_c3_aug_se_e1_\"+str(i)\n",
    "        \n",
    "        print(model_se_dir)\n",
    "        model =utils.My_model(dataset,True,model_se_dir)\n",
    "        model.model.compile(loss= 'categorical_crossentropy', optimizer = 'rmsprop', metrics = ['accuracy',tf.keras.metrics.Precision(), tf.keras.metrics.Recall()])\n",
    "        models_se.append(model)"
   ]
  },
  {
   "cell_type": "code",
   "execution_count": 18,
   "id": "eb1718e3",
   "metadata": {
    "scrolled": true
   },
   "outputs": [
    {
     "name": "stdout",
     "output_type": "stream",
     "text": [
      "C:/Users/fjdurlop/Documents/upc/models/cifar/C3/cifar_model_c3_aug_random_e1_0\n",
      "Model loaded correctly\n",
      "C:/Users/fjdurlop/Documents/upc/models/cifar/C3/cifar_model_c3_aug_random_e1_1\n",
      "Model loaded correctly\n",
      "C:/Users/fjdurlop/Documents/upc/models/cifar/C3/cifar_model_c3_aug_random_e1_2\n",
      "Model loaded correctly\n",
      "C:/Users/fjdurlop/Documents/upc/models/cifar/C3/cifar_model_c3_aug_random_e1_3\n",
      "Model loaded correctly\n",
      "C:/Users/fjdurlop/Documents/upc/models/cifar/C3/cifar_model_c3_aug_random_e1_4\n",
      "Model loaded correctly\n",
      "C:/Users/fjdurlop/Documents/upc/models/cifar/C3/cifar_model_c3_aug_random_e1_5\n",
      "Model loaded correctly\n",
      "C:/Users/fjdurlop/Documents/upc/models/cifar/C3/cifar_model_c3_aug_random_e1_6\n",
      "Model loaded correctly\n",
      "C:/Users/fjdurlop/Documents/upc/models/cifar/C3/cifar_model_c3_aug_random_e1_7\n",
      "Model loaded correctly\n",
      "C:/Users/fjdurlop/Documents/upc/models/cifar/C3/cifar_model_c3_aug_random_e1_8\n",
      "Model loaded correctly\n",
      "C:/Users/fjdurlop/Documents/upc/models/cifar/C3/cifar_model_c3_aug_random_e1_9\n",
      "Model loaded correctly\n",
      "C:/Users/fjdurlop/Documents/upc/models/cifar/C3/cifar_model_c3_aug_random_e1_10\n",
      "Model loaded correctly\n",
      "C:/Users/fjdurlop/Documents/upc/models/cifar/C3/cifar_model_c3_aug_random_e1_11\n",
      "Model loaded correctly\n",
      "C:/Users/fjdurlop/Documents/upc/models/cifar/C3/cifar_model_c3_aug_random_e1_12\n",
      "Model loaded correctly\n",
      "C:/Users/fjdurlop/Documents/upc/models/cifar/C3/cifar_model_c3_aug_random_e1_13\n",
      "Model loaded correctly\n",
      "C:/Users/fjdurlop/Documents/upc/models/cifar/C3/cifar_model_c3_aug_random_e1_14\n",
      "Model loaded correctly\n",
      "C:/Users/fjdurlop/Documents/upc/models/cifar/C3/cifar_model_c3_aug_random_e1_15\n",
      "Model loaded correctly\n",
      "C:/Users/fjdurlop/Documents/upc/models/cifar/C3/cifar_model_c3_aug_random_e1_16\n",
      "Model loaded correctly\n",
      "C:/Users/fjdurlop/Documents/upc/models/cifar/C3/cifar_model_c3_aug_random_e1_17\n",
      "Model loaded correctly\n",
      "C:/Users/fjdurlop/Documents/upc/models/cifar/C3/cifar_model_c3_aug_random_e1_18\n",
      "Model loaded correctly\n",
      "C:/Users/fjdurlop/Documents/upc/models/cifar/C3/cifar_model_c3_aug_random_e1_19\n",
      "Model loaded correctly\n"
     ]
    }
   ],
   "source": [
    "loading = True\n",
    "\n",
    "models_random = []\n",
    "\n",
    "if loading:\n",
    "    for i in range(num_models):\n",
    "        #model_random_dir = \"D:/models/aug_22/gtsrb/C1/gtsrb_model_c1_aug_random_e1_\"+str(i)\n",
    "        model_random_dir = data_dir+\"/\"+dataset+\"/C3/\"+dataset+\"_model_c3_aug_random_e1_\"+str(i)\n",
    "        \n",
    "        print(model_random_dir)\n",
    "        model =utils.My_model(dataset,True,model_random_dir)\n",
    "        model.model.compile(loss= 'categorical_crossentropy', optimizer = 'rmsprop', metrics = ['accuracy',tf.keras.metrics.Precision(), tf.keras.metrics.Recall()])\n",
    "        models_random.append(model)\n",
    "       "
   ]
  },
  {
   "cell_type": "code",
   "execution_count": 19,
   "id": "b9860981",
   "metadata": {
    "scrolled": true
   },
   "outputs": [
    {
     "name": "stdout",
     "output_type": "stream",
     "text": [
      "C:/Users/fjdurlop/Documents/upc/models/cifar/C3/cifar_model_c3_aug_nc_e1_0\n",
      "Model loaded correctly\n",
      "C:/Users/fjdurlop/Documents/upc/models/cifar/C3/cifar_model_c3_aug_nc_e1_1\n",
      "Model loaded correctly\n",
      "C:/Users/fjdurlop/Documents/upc/models/cifar/C3/cifar_model_c3_aug_nc_e1_2\n",
      "Model loaded correctly\n",
      "C:/Users/fjdurlop/Documents/upc/models/cifar/C3/cifar_model_c3_aug_nc_e1_3\n",
      "Model loaded correctly\n",
      "C:/Users/fjdurlop/Documents/upc/models/cifar/C3/cifar_model_c3_aug_nc_e1_4\n",
      "Model loaded correctly\n",
      "C:/Users/fjdurlop/Documents/upc/models/cifar/C3/cifar_model_c3_aug_nc_e1_5\n",
      "Model loaded correctly\n",
      "C:/Users/fjdurlop/Documents/upc/models/cifar/C3/cifar_model_c3_aug_nc_e1_6\n",
      "Model loaded correctly\n",
      "C:/Users/fjdurlop/Documents/upc/models/cifar/C3/cifar_model_c3_aug_nc_e1_7\n",
      "Model loaded correctly\n",
      "C:/Users/fjdurlop/Documents/upc/models/cifar/C3/cifar_model_c3_aug_nc_e1_8\n",
      "Model loaded correctly\n",
      "C:/Users/fjdurlop/Documents/upc/models/cifar/C3/cifar_model_c3_aug_nc_e1_9\n",
      "Model loaded correctly\n",
      "C:/Users/fjdurlop/Documents/upc/models/cifar/C3/cifar_model_c3_aug_nc_e1_10\n",
      "Model loaded correctly\n",
      "C:/Users/fjdurlop/Documents/upc/models/cifar/C3/cifar_model_c3_aug_nc_e1_11\n",
      "Model loaded correctly\n",
      "C:/Users/fjdurlop/Documents/upc/models/cifar/C3/cifar_model_c3_aug_nc_e1_12\n",
      "Model loaded correctly\n",
      "C:/Users/fjdurlop/Documents/upc/models/cifar/C3/cifar_model_c3_aug_nc_e1_13\n",
      "Model loaded correctly\n",
      "C:/Users/fjdurlop/Documents/upc/models/cifar/C3/cifar_model_c3_aug_nc_e1_14\n",
      "Model loaded correctly\n",
      "C:/Users/fjdurlop/Documents/upc/models/cifar/C3/cifar_model_c3_aug_nc_e1_15\n",
      "Model loaded correctly\n",
      "C:/Users/fjdurlop/Documents/upc/models/cifar/C3/cifar_model_c3_aug_nc_e1_16\n",
      "Model loaded correctly\n",
      "C:/Users/fjdurlop/Documents/upc/models/cifar/C3/cifar_model_c3_aug_nc_e1_17\n",
      "Model loaded correctly\n",
      "C:/Users/fjdurlop/Documents/upc/models/cifar/C3/cifar_model_c3_aug_nc_e1_18\n",
      "Model loaded correctly\n",
      "C:/Users/fjdurlop/Documents/upc/models/cifar/C3/cifar_model_c3_aug_nc_e1_19\n",
      "Model loaded correctly\n"
     ]
    }
   ],
   "source": [
    "loading = True\n",
    "\n",
    "models_nc = []\n",
    "\n",
    "if loading:\n",
    "    for i in range(num_models):\n",
    "        #model_nc_dir = \"D:/models/aug_22/\"+dataset+\"/C1/\"+dataset+\"_model_c1_aug_nc_e1\"+str\n",
    "        model_nc_dir = data_dir+\"/\"+dataset+\"/C3/\"+dataset+\"_model_c3_aug_nc_e1_\"+str(i)\n",
    "        print(model_nc_dir)\n",
    "        model =utils.My_model(dataset,True,model_nc_dir)\n",
    "        model.model.compile(loss= 'categorical_crossentropy', optimizer = 'rmsprop', metrics = ['accuracy',tf.keras.metrics.Precision(), tf.keras.metrics.Recall()])\n",
    "        models_nc.append(model)"
   ]
  },
  {
   "cell_type": "markdown",
   "id": "e02952dc",
   "metadata": {},
   "source": [
    "## Evaluating"
   ]
  },
  {
   "cell_type": "code",
   "execution_count": 20,
   "id": "cbc59f41",
   "metadata": {},
   "outputs": [],
   "source": [
    "model_original.model.compile(loss= 'categorical_crossentropy', optimizer = 'rmsprop', metrics = ['accuracy',tf.keras.metrics.Precision(), tf.keras.metrics.Recall()])"
   ]
  },
  {
   "cell_type": "code",
   "execution_count": 21,
   "id": "6fd7c127",
   "metadata": {},
   "outputs": [
    {
     "name": "stdout",
     "output_type": "stream",
     "text": [
      "376/376 [==============================] - 17s 17ms/step - loss: 1.1244 - accuracy: 0.7412 - precision_120: 0.8609 - recall_120: 0.7386\n"
     ]
    },
    {
     "data": {
      "text/plain": [
       "[2.3667659759521484,\n",
       " 0.5768685936927795,\n",
       " 0.8045880794525146,\n",
       " 0.6869237422943115]"
      ]
     },
     "execution_count": 21,
     "metadata": {},
     "output_type": "execute_result"
    }
   ],
   "source": [
    "model_original.evaluate(x_test_and_adversary,y_test_and_adversary)\n"
   ]
  },
  {
   "cell_type": "code",
   "execution_count": 22,
   "id": "ae8182a2",
   "metadata": {},
   "outputs": [
    {
     "name": "stdout",
     "output_type": "stream",
     "text": [
      "376/376 [==============================] - 7s 18ms/step - loss: 2.3668 - accuracy: 0.5769 - precision_120: 0.6709 - recall_120: 0.5681\n",
      "Evaluating for dg\n",
      "376/376 [==============================] - 8s 17ms/step - loss: 1.1323 - accuracy: 0.6849 - precision_40: 0.7967 - recall_40: 0.6663\n",
      "376/376 [==============================] - 8s 17ms/step - loss: 1.1779 - accuracy: 0.6529 - precision_41: 0.7599 - recall_41: 0.6284\n",
      "376/376 [==============================] - 8s 16ms/step - loss: 1.4862 - accuracy: 0.6384 - precision_42: 0.7312 - recall_42: 0.6277\n",
      "376/376 [==============================] - 8s 17ms/step - loss: 1.2480 - accuracy: 0.6113 - precision_43: 0.7507 - recall_43: 0.5463\n",
      "376/376 [==============================] - 8s 17ms/step - loss: 1.3319 - accuracy: 0.6230 - precision_44: 0.7271 - recall_44: 0.5804\n",
      "376/376 [==============================] - 8s 17ms/step - loss: 1.3287 - accuracy: 0.5495 - precision_45: 0.7338 - recall_45: 0.3922\n",
      "376/376 [==============================] - 8s 17ms/step - loss: 1.0488 - accuracy: 0.6455 - precision_46: 0.8051 - recall_46: 0.5310\n",
      "376/376 [==============================] - 8s 16ms/step - loss: 1.0121 - accuracy: 0.6685 - precision_47: 0.7894 - recall_47: 0.6157\n",
      "376/376 [==============================] - 8s 17ms/step - loss: 1.0758 - accuracy: 0.6224 - precision_48: 0.7773 - recall_48: 0.5098\n",
      "376/376 [==============================] - 8s 17ms/step - loss: 1.1577 - accuracy: 0.6061 - precision_49: 0.7720 - recall_49: 0.4510\n",
      "376/376 [==============================] - 8s 16ms/step - loss: 1.0425 - accuracy: 0.6535 - precision_50: 0.7819 - recall_50: 0.5728\n",
      "376/376 [==============================] - 8s 17ms/step - loss: 1.0276 - accuracy: 0.6697 - precision_51: 0.7719 - recall_51: 0.5772\n",
      "376/376 [==============================] - 8s 16ms/step - loss: 0.9647 - accuracy: 0.6699 - precision_52: 0.8055 - recall_52: 0.5939\n",
      "376/376 [==============================] - 8s 16ms/step - loss: 0.9894 - accuracy: 0.6700 - precision_53: 0.7937 - recall_53: 0.5948\n",
      "376/376 [==============================] - 8s 17ms/step - loss: 0.9992 - accuracy: 0.6601 - precision_54: 0.7854 - recall_54: 0.5631\n",
      "376/376 [==============================] - 8s 16ms/step - loss: 0.9230 - accuracy: 0.6826 - precision_55: 0.8049 - recall_55: 0.5989\n",
      "376/376 [==============================] - 8s 16ms/step - loss: 0.9890 - accuracy: 0.6619 - precision_56: 0.7970 - recall_56: 0.5948\n",
      "376/376 [==============================] - 8s 17ms/step - loss: 0.9165 - accuracy: 0.6913 - precision_57: 0.8067 - recall_57: 0.6331\n",
      "376/376 [==============================] - 8s 17ms/step - loss: 1.0298 - accuracy: 0.6811 - precision_58: 0.7777 - recall_58: 0.6427\n",
      "376/376 [==============================] - 8s 16ms/step - loss: 0.8973 - accuracy: 0.6955 - precision_59: 0.8237 - recall_59: 0.6107\n"
     ]
    }
   ],
   "source": [
    "evaluate_dg = []\n",
    "evaluate_dg.append(model_original.evaluate(x_test_and_adversary,y_test_and_adversary))\n",
    "print(\"Evaluating for dg\")\n",
    "for model in models_dg:\n",
    "    evaluate_dg.append(model.evaluate(x_test_and_adversary,y_test_and_adversary))"
   ]
  },
  {
   "cell_type": "code",
   "execution_count": 23,
   "id": "286ee29c",
   "metadata": {},
   "outputs": [
    {
     "name": "stdout",
     "output_type": "stream",
     "text": [
      "376/376 [==============================] - 6s 17ms/step - loss: 2.3668 - accuracy: 0.5769 - precision_120: 0.6527 - recall_120: 0.5522\n",
      "376/376 [==============================] - 6s 17ms/step - loss: 2.3668 - accuracy: 0.5769 - precision_120: 0.6451 - recall_120: 0.5455\n",
      "376/376 [==============================] - 6s 17ms/step - loss: 2.3668 - accuracy: 0.5769 - precision_120: 0.6408 - recall_120: 0.5418\n",
      "376/376 [==============================] - 6s 17ms/step - loss: 2.3668 - accuracy: 0.5769 - precision_120: 0.6381 - recall_120: 0.5394\n",
      "376/376 [==============================] - 6s 17ms/step - loss: 2.3668 - accuracy: 0.5769 - precision_120: 0.6363 - recall_120: 0.5378\n",
      "376/376 [==============================] - 7s 17ms/step - loss: 2.3668 - accuracy: 0.5769 - precision_120: 0.6349 - recall_120: 0.5366\n"
     ]
    }
   ],
   "source": [
    "evaluate_lsa = []\n",
    "evaluate_dsa = []\n",
    "evaluate_dg = []\n",
    "evaluate_se = []\n",
    "evaluate_nc = []\n",
    "evaluate_random = []\n",
    "\n",
    "#c2\n",
    "evaluate_lsa.append(model_original.evaluate(x_test_and_adversary,y_test_and_adversary))\n",
    "evaluate_dsa.append(model_original.evaluate(x_test_and_adversary,y_test_and_adversary))\n",
    "evaluate_dg.append(model_original.evaluate(x_test_and_adversary,y_test_and_adversary))\n",
    "evaluate_se.append(model_original.evaluate(x_test_and_adversary,y_test_and_adversary))\n",
    "evaluate_nc.append(model_original.evaluate(x_test_and_adversary,y_test_and_adversary))\n",
    "evaluate_random.append(model_original.evaluate(x_test_and_adversary,y_test_and_adversary))"
   ]
  },
  {
   "cell_type": "code",
   "execution_count": 24,
   "id": "30633373",
   "metadata": {
    "scrolled": true
   },
   "outputs": [
    {
     "name": "stdout",
     "output_type": "stream",
     "text": [
      "Evaluating for lsa\n",
      "376/376 [==============================] - 8s 16ms/step - loss: 1.8483 - accuracy: 0.4824 - precision: 0.5499 - recall: 0.4470\n",
      "376/376 [==============================] - 8s 18ms/step - loss: 1.7484 - accuracy: 0.4491 - precision_1: 0.5663 - recall_1: 0.3549\n",
      "376/376 [==============================] - 8s 16ms/step - loss: 1.6155 - accuracy: 0.4239 - precision_2: 0.5993 - recall_2: 0.3145\n",
      "376/376 [==============================] - 8s 16ms/step - loss: 1.6594 - accuracy: 0.5221 - precision_3: 0.6338 - recall_3: 0.4684: 2s - loss: 1.6019 - accur\n",
      "376/376 [==============================] - 8s 16ms/step - loss: 1.3710 - accuracy: 0.5291 - precision_4: 0.6733 - recall_4: 0.4272\n",
      "376/376 [==============================] - 8s 16ms/step - loss: 1.4101 - accuracy: 0.5521 - precision_5: 0.6731 - recall_5: 0.4753\n",
      "376/376 [==============================] - 8s 17ms/step - loss: 1.3312 - accuracy: 0.5651 - precision_6: 0.6769 - recall_6: 0.4770\n",
      "376/376 [==============================] - 8s 16ms/step - loss: 1.3187 - accuracy: 0.5952 - precision_7: 0.7032 - recall_7: 0.5417: 2s - loss: 1.2695 - accuracy: 0.\n",
      "376/376 [==============================] - 8s 16ms/step - loss: 1.6175 - accuracy: 0.5333 - precision_8: 0.6375 - recall_8: 0.4713\n",
      "376/376 [==============================] - 8s 17ms/step - loss: 1.3839 - accuracy: 0.6071 - precision_9: 0.6997 - recall_9: 0.5591\n",
      "376/376 [==============================] - 8s 17ms/step - loss: 1.2054 - accuracy: 0.5892 - precision_10: 0.7467 - recall_10: 0.5100\n",
      "376/376 [==============================] - 8s 17ms/step - loss: 1.1988 - accuracy: 0.6223 - precision_11: 0.7349 - recall_11: 0.5692\n",
      "376/376 [==============================] - 8s 17ms/step - loss: 1.0003 - accuracy: 0.6635 - precision_12: 0.7885 - recall_12: 0.6082\n",
      "376/376 [==============================] - 8s 16ms/step - loss: 1.0480 - accuracy: 0.6413 - precision_13: 0.7765 - recall_13: 0.5479\n",
      "376/376 [==============================] - 8s 17ms/step - loss: 1.1462 - accuracy: 0.6080 - precision_14: 0.7844 - recall_14: 0.4859\n",
      "376/376 [==============================] - 8s 17ms/step - loss: 1.0383 - accuracy: 0.6533 - precision_15: 0.7719 - recall_15: 0.5769\n",
      "376/376 [==============================] - 8s 17ms/step - loss: 1.0396 - accuracy: 0.6600 - precision_16: 0.7923 - recall_16: 0.5826\n",
      "376/376 [==============================] - 8s 16ms/step - loss: 0.9980 - accuracy: 0.6647 - precision_17: 0.7940 - recall_17: 0.6134\n",
      "376/376 [==============================] - 8s 17ms/step - loss: 1.2388 - accuracy: 0.6736 - precision_18: 0.7400 - recall_18: 0.6563\n",
      "376/376 [==============================] - 8s 16ms/step - loss: 0.9053 - accuracy: 0.6917 - precision_19: 0.8079 - recall_19: 0.6318\n",
      "Evaluating for dsa\n",
      "376/376 [==============================] - 8s 16ms/step - loss: 1.9572 - accuracy: 0.5435 - precision_20: 0.6352 - recall_20: 0.4910\n",
      "376/376 [==============================] - 8s 16ms/step - loss: 1.5084 - accuracy: 0.5811 - precision_21: 0.6782 - recall_21: 0.5481\n",
      "376/376 [==============================] - 8s 16ms/step - loss: 1.6484 - accuracy: 0.5674 - precision_22: 0.6525 - recall_22: 0.5424\n",
      "376/376 [==============================] - 8s 16ms/step - loss: 1.4402 - accuracy: 0.5072 - precision_23: 0.6674 - recall_23: 0.3653\n",
      "376/376 [==============================] - 9s 15ms/step - loss: 1.3417 - accuracy: 0.5773 - precision_24: 0.6954 - recall_24: 0.5108\n",
      "376/376 [==============================] - 8s 17ms/step - loss: 1.3912 - accuracy: 0.5552 - precision_25: 0.6732 - recall_25: 0.4866\n",
      "376/376 [==============================] - 8s 17ms/step - loss: 1.3181 - accuracy: 0.5742 - precision_26: 0.6880 - recall_26: 0.4963\n",
      "376/376 [==============================] - 8s 16ms/step - loss: 1.2967 - accuracy: 0.5938 - precision_27: 0.6946 - recall_27: 0.5294\n",
      "376/376 [==============================] - 8s 16ms/step - loss: 1.2277 - accuracy: 0.6010 - precision_28: 0.7150 - recall_28: 0.5084\n",
      "376/376 [==============================] - 8s 16ms/step - loss: 1.2378 - accuracy: 0.6014 - precision_29: 0.7140 - recall_29: 0.5424\n",
      "376/376 [==============================] - 8s 17ms/step - loss: 1.4040 - accuracy: 0.5639 - precision_30: 0.6783 - recall_30: 0.4547\n",
      "376/376 [==============================] - 8s 16ms/step - loss: 1.2902 - accuracy: 0.5963 - precision_31: 0.7104 - recall_31: 0.5158\n",
      "376/376 [==============================] - 8s 17ms/step - loss: 1.1668 - accuracy: 0.6061 - precision_32: 0.7511 - recall_32: 0.5066\n",
      "376/376 [==============================] - 8s 17ms/step - loss: 1.2047 - accuracy: 0.6292 - precision_33: 0.7238 - recall_33: 0.5785\n",
      "376/376 [==============================] - 8s 17ms/step - loss: 1.2342 - accuracy: 0.6135 - precision_34: 0.7431 - recall_34: 0.5208\n",
      "376/376 [==============================] - 8s 16ms/step - loss: 1.0956 - accuracy: 0.6550 - precision_35: 0.7621 - recall_35: 0.5867\n",
      "376/376 [==============================] - 8s 17ms/step - loss: 1.1281 - accuracy: 0.6436 - precision_36: 0.7518 - recall_36: 0.5863\n",
      "376/376 [==============================] - 8s 16ms/step - loss: 1.0241 - accuracy: 0.6721 - precision_37: 0.7753 - recall_37: 0.6212\n",
      "376/376 [==============================] - 8s 17ms/step - loss: 0.9088 - accuracy: 0.6969 - precision_38: 0.8128 - recall_38: 0.6394\n",
      "376/376 [==============================] - 8s 17ms/step - loss: 0.9835 - accuracy: 0.6685 - precision_39: 0.7949 - recall_39: 0.5948\n",
      "Evaluating for random\n",
      "376/376 [==============================] - 8s 16ms/step - loss: 1.0575 - accuracy: 0.6747 - precision_80: 0.7736 - recall_80: 0.6296\n",
      "376/376 [==============================] - 8s 17ms/step - loss: 1.1148 - accuracy: 0.6838 - precision_81: 0.7806 - recall_81: 0.6838\n",
      "376/376 [==============================] - 8s 16ms/step - loss: 1.0016 - accuracy: 0.6662 - precision_82: 0.8237 - recall_82: 0.5853\n",
      "376/376 [==============================] - 8s 18ms/step - loss: 0.9596 - accuracy: 0.6991 - precision_83: 0.7973 - recall_83: 0.6512\n",
      "376/376 [==============================] - 8s 17ms/step - loss: 0.9800 - accuracy: 0.6736 - precision_84: 0.8146 - recall_84: 0.6000\n",
      "376/376 [==============================] - 8s 17ms/step - loss: 1.2654 - accuracy: 0.6566 - precision_85: 0.7477 - recall_85: 0.6568\n",
      "376/376 [==============================] - 8s 17ms/step - loss: 0.9494 - accuracy: 0.6780 - precision_86: 0.7926 - recall_86: 0.6303\n",
      "376/376 [==============================] - 8s 16ms/step - loss: 0.9860 - accuracy: 0.6676 - precision_87: 0.7914 - recall_87: 0.6291\n",
      "376/376 [==============================] - 8s 16ms/step - loss: 0.9986 - accuracy: 0.6874 - precision_88: 0.7775 - recall_88: 0.6559\n",
      "376/376 [==============================] - 8s 17ms/step - loss: 0.9025 - accuracy: 0.6985 - precision_89: 0.8085 - recall_89: 0.6746\n",
      "376/376 [==============================] - 8s 17ms/step - loss: 0.9466 - accuracy: 0.6804 - precision_90: 0.7894 - recall_90: 0.6353\n",
      "376/376 [==============================] - 8s 16ms/step - loss: 1.0025 - accuracy: 0.6910 - precision_91: 0.7847 - recall_91: 0.6687\n",
      "376/376 [==============================] - 8s 17ms/step - loss: 0.8950 - accuracy: 0.6937 - precision_92: 0.8013 - recall_92: 0.6365\n",
      "376/376 [==============================] - 8s 17ms/step - loss: 0.8733 - accuracy: 0.7006 - precision_93: 0.8193 - recall_93: 0.6457\n",
      "376/376 [==============================] - 8s 17ms/step - loss: 0.8969 - accuracy: 0.6911 - precision_94: 0.8111 - recall_94: 0.6486\n",
      "376/376 [==============================] - 8s 16ms/step - loss: 0.9279 - accuracy: 0.6917 - precision_95: 0.8113 - recall_95: 0.6361: 3s - loss: 0.8549 - a\n",
      "376/376 [==============================] - 8s 17ms/step - loss: 0.9228 - accuracy: 0.6936 - precision_96: 0.7974 - recall_96: 0.6566\n",
      "376/376 [==============================] - 8s 16ms/step - loss: 0.9195 - accuracy: 0.7137 - precision_97: 0.7986 - recall_97: 0.6894\n",
      "376/376 [==============================] - 8s 16ms/step - loss: 1.0960 - accuracy: 0.6274 - precision_98: 0.8278 - recall_98: 0.4986\n",
      "376/376 [==============================] - 8s 17ms/step - loss: 0.9814 - accuracy: 0.6891 - precision_99: 0.7729 - recall_99: 0.6465\n",
      "Evaluating for nc\n",
      "376/376 [==============================] - 8s 16ms/step - loss: 1.6089 - accuracy: 0.6450 - precision_100: 0.7140 - recall_100: 0.6438\n",
      "376/376 [==============================] - 8s 17ms/step - loss: 1.3438 - accuracy: 0.6484 - precision_101: 0.7289 - recall_101: 0.6310\n",
      "376/376 [==============================] - 8s 16ms/step - loss: 1.3967 - accuracy: 0.6532 - precision_102: 0.7203 - recall_102: 0.6579\n",
      "376/376 [==============================] - 8s 16ms/step - loss: 1.3321 - accuracy: 0.6978 - precision_103: 0.7583 - recall_103: 0.7111\n",
      "376/376 [==============================] - 8s 16ms/step - loss: 1.2549 - accuracy: 0.6679 - precision_104: 0.7409 - recall_104: 0.6706\n",
      "376/376 [==============================] - 8s 16ms/step - loss: 1.4923 - accuracy: 0.6661 - precision_105: 0.7388 - recall_105: 0.6806\n",
      "376/376 [==============================] - 8s 17ms/step - loss: 1.2810 - accuracy: 0.6671 - precision_106: 0.7504 - recall_106: 0.6532\n",
      "376/376 [==============================] - 8s 18ms/step - loss: 1.5404 - accuracy: 0.6701 - precision_107: 0.7250 - recall_107: 0.6763\n",
      "376/376 [==============================] - 8s 16ms/step - loss: 1.4135 - accuracy: 0.6498 - precision_108: 0.7114 - recall_108: 0.6380\n",
      "376/376 [==============================] - 8s 17ms/step - loss: 1.3944 - accuracy: 0.6644 - precision_109: 0.7267 - recall_109: 0.6600\n",
      "376/376 [==============================] - 8s 16ms/step - loss: 1.2435 - accuracy: 0.6831 - precision_110: 0.7431 - recall_110: 0.6674\n",
      "376/376 [==============================] - 8s 16ms/step - loss: 1.1579 - accuracy: 0.6645 - precision_111: 0.7437 - recall_111: 0.6302\n",
      "376/376 [==============================] - 8s 16ms/step - loss: 1.0546 - accuracy: 0.6726 - precision_112: 0.7658 - recall_112: 0.6279\n",
      "376/376 [==============================] - 8s 17ms/step - loss: 1.0712 - accuracy: 0.6698 - precision_113: 0.7687 - recall_113: 0.6313\n",
      "376/376 [==============================] - 8s 16ms/step - loss: 1.1864 - accuracy: 0.6764 - precision_114: 0.7507 - recall_114: 0.6648\n",
      "376/376 [==============================] - 8s 16ms/step - loss: 1.0551 - accuracy: 0.6619 - precision_115: 0.7746 - recall_115: 0.6010\n",
      "376/376 [==============================] - 8s 16ms/step - loss: 1.0796 - accuracy: 0.6857 - precision_116: 0.7610 - recall_116: 0.6559\n",
      "376/376 [==============================] - 8s 17ms/step - loss: 1.0101 - accuracy: 0.6964 - precision_117: 0.7746 - recall_117: 0.6597\n",
      "376/376 [==============================] - 8s 16ms/step - loss: 1.4903 - accuracy: 0.6169 - precision_118: 0.6893 - recall_118: 0.5972\n",
      "376/376 [==============================] - 8s 16ms/step - loss: 0.9505 - accuracy: 0.6843 - precision_119: 0.8031 - recall_119: 0.6231\n"
     ]
    }
   ],
   "source": [
    "# Metrics using adversarial test\n",
    "\n",
    "#evaluate_lsa.append(model_original.evaluate(x_test_and_adversary,y_test_and_adversary))\n",
    "#evaluate_dsa.append(model_original.evaluate(x_test_and_adversary,y_test_and_adversary))\n",
    "#evaluate_nc.append(model_original.evaluate(x_test_and_adversary,y_test_and_adversary))\n",
    "#evaluate_random.append(model_original.evaluate(x_test_and_adversary,y_test_and_adversary))\n",
    "print(\"Evaluating for lsa\")\n",
    "for model in models_lsa:\n",
    "    evaluate_lsa.append(model.evaluate(x_test_and_adversary,y_test_and_adversary))\n",
    "    \n",
    "print(\"Evaluating for dsa\")\n",
    "for model in models_dsa:\n",
    "    evaluate_dsa.append(model.evaluate(x_test_and_adversary,y_test_and_adversary))\n",
    "print(\"Evaluating for random\")\n",
    "for model in models_random:\n",
    "    evaluate_random.append(model.evaluate(x_test_and_adversary,y_test_and_adversary))\n",
    "print(\"Evaluating for nc\")\n",
    "for model in models_nc:\n",
    "    evaluate_nc.append(model.evaluate(x_test_and_adversary,y_test_and_adversary))"
   ]
  },
  {
   "cell_type": "code",
   "execution_count": 25,
   "id": "ae3df5fe",
   "metadata": {
    "scrolled": true
   },
   "outputs": [
    {
     "name": "stdout",
     "output_type": "stream",
     "text": [
      "Evaluating for dg\n",
      "376/376 [==============================] - 6s 17ms/step - loss: 1.8370 - accuracy: 0.5653 - precision_40: 0.6555 - recall_40: 0.5390\n",
      "376/376 [==============================] - 6s 17ms/step - loss: 1.7602 - accuracy: 0.5523 - precision_41: 0.6342 - recall_41: 0.5210\n",
      "376/376 [==============================] - 6s 17ms/step - loss: 2.2701 - accuracy: 0.5473 - precision_42: 0.6131 - recall_42: 0.5284\n",
      "376/376 [==============================] - 6s 17ms/step - loss: 1.5372 - accuracy: 0.5429 - precision_43: 0.6596 - recall_43: 0.4649\n",
      "376/376 [==============================] - 6s 17ms/step - loss: 1.6343 - accuracy: 0.5604 - precision_44: 0.6493 - recall_44: 0.5087\n",
      "376/376 [==============================] - 7s 18ms/step - loss: 1.5632 - accuracy: 0.4880 - precision_45: 0.6214 - recall_45: 0.3464\n",
      "376/376 [==============================] - 6s 17ms/step - loss: 1.2441 - accuracy: 0.5863 - precision_46: 0.7188 - recall_46: 0.4667\n",
      "376/376 [==============================] - 6s 17ms/step - loss: 1.3208 - accuracy: 0.5906 - precision_47: 0.6896 - recall_47: 0.5261\n",
      "376/376 [==============================] - 7s 18ms/step - loss: 1.2493 - accuracy: 0.5670 - precision_48: 0.7101 - recall_48: 0.4511\n",
      "376/376 [==============================] - 7s 18ms/step - loss: 1.2721 - accuracy: 0.5685 - precision_49: 0.7222 - recall_49: 0.4196\n",
      "376/376 [==============================] - 7s 18ms/step - loss: 1.2322 - accuracy: 0.6054 - precision_50: 0.7199 - recall_50: 0.5201\n",
      "376/376 [==============================] - 7s 18ms/step - loss: 1.1856 - accuracy: 0.6281 - precision_51: 0.7246 - recall_51: 0.5402\n",
      "376/376 [==============================] - 7s 19ms/step - loss: 1.1559 - accuracy: 0.6150 - precision_52: 0.7299 - recall_52: 0.5234\n",
      "376/376 [==============================] - 7s 18ms/step - loss: 1.1745 - accuracy: 0.6240 - precision_53: 0.7388 - recall_53: 0.5401\n",
      "376/376 [==============================] - 7s 19ms/step - loss: 1.1304 - accuracy: 0.6179 - precision_54: 0.7619 - recall_54: 0.5072\n",
      "376/376 [==============================] - 7s 18ms/step - loss: 1.0846 - accuracy: 0.6293 - precision_55: 0.7661 - recall_55: 0.5332\n",
      "376/376 [==============================] - 7s 18ms/step - loss: 1.1573 - accuracy: 0.6014 - precision_56: 0.7484 - recall_56: 0.5144\n",
      "376/376 [==============================] - 7s 18ms/step - loss: 1.0903 - accuracy: 0.6354 - precision_57: 0.7563 - recall_57: 0.5540\n",
      "376/376 [==============================] - 7s 18ms/step - loss: 1.2320 - accuracy: 0.6259 - precision_58: 0.7395 - recall_58: 0.5650\n",
      "376/376 [==============================] - 7s 19ms/step - loss: 1.0542 - accuracy: 0.6406 - precision_59: 0.7886 - recall_59: 0.5381: 0s - loss: 1.0385 - accuracy: 0.6455 - precision_59: 0.7889 - recall_59: 0.\n",
      "Evaluating for se\n",
      "376/376 [==============================] - 9s 20ms/step - loss: 1.3277 - accuracy: 0.6796 - precision_60: 0.7760 - recall_60: 0.6818\n",
      "376/376 [==============================] - 12s 27ms/step - loss: 1.1506 - accuracy: 0.6585 - precision_61: 0.7735 - recall_61: 0.6257\n",
      "376/376 [==============================] - 20s 44ms/step - loss: 1.0942 - accuracy: 0.6883 - precision_62: 0.7845 - recall_62: 0.6796\n",
      "376/376 [==============================] - 20s 44ms/step - loss: 1.0655 - accuracy: 0.6620 - precision_63: 0.7887 - recall_63: 0.5914\n",
      "376/376 [==============================] - 22s 49ms/step - loss: 1.1852 - accuracy: 0.6283 - precision_64: 0.7636 - recall_64: 0.5625\n",
      "376/376 [==============================] - 21s 45ms/step - loss: 1.1477 - accuracy: 0.6147 - precision_65: 0.7962 - recall_65: 0.4729\n",
      "376/376 [==============================] - 18s 41ms/step - loss: 1.1299 - accuracy: 0.6466 - precision_66: 0.7680 - recall_66: 0.5928\n",
      "376/376 [==============================] - 18s 41ms/step - loss: 1.2308 - accuracy: 0.6276 - precision_67: 0.7133 - recall_67: 0.5981\n",
      "376/376 [==============================] - 18s 40ms/step - loss: 1.1075 - accuracy: 0.6273 - precision_68: 0.7972 - recall_68: 0.4629\n",
      "376/376 [==============================] - 18s 40ms/step - loss: 1.0342 - accuracy: 0.6736 - precision_69: 0.7888 - recall_69: 0.6206\n",
      "376/376 [==============================] - 18s 41ms/step - loss: 1.2210 - accuracy: 0.6307 - precision_70: 0.7258 - recall_70: 0.5826\n",
      "376/376 [==============================] - 18s 41ms/step - loss: 1.0078 - accuracy: 0.6550 - precision_71: 0.8150 - recall_71: 0.5455\n",
      "376/376 [==============================] - 18s 40ms/step - loss: 1.0558 - accuracy: 0.6663 - precision_72: 0.7686 - recall_72: 0.6094\n",
      "376/376 [==============================] - 18s 40ms/step - loss: 1.0787 - accuracy: 0.6404 - precision_73: 0.7697 - recall_73: 0.5386\n",
      "376/376 [==============================] - 19s 42ms/step - loss: 1.0449 - accuracy: 0.6430 - precision_74: 0.7833 - recall_74: 0.5371\n",
      "376/376 [==============================] - 18s 40ms/step - loss: 0.9363 - accuracy: 0.6791 - precision_75: 0.8397 - recall_75: 0.5723\n",
      "376/376 [==============================] - 18s 42ms/step - loss: 0.9257 - accuracy: 0.6942 - precision_76: 0.8176 - recall_76: 0.6261\n",
      "376/376 [==============================] - 18s 40ms/step - loss: 1.0979 - accuracy: 0.6159 - precision_77: 0.7665 - recall_77: 0.5268\n",
      "376/376 [==============================] - 17s 39ms/step - loss: 1.1278 - accuracy: 0.6295 - precision_78: 0.7545 - recall_78: 0.5697\n",
      "376/376 [==============================] - 20s 41ms/step - loss: 0.9327 - accuracy: 0.6807 - precision_79: 0.8032 - recall_79: 0.6234\n"
     ]
    }
   ],
   "source": [
    "print(\"Evaluating for dg\")\n",
    "for model in models_dg:\n",
    "    evaluate_dg.append(model.evaluate(x_test_and_adversary,y_test_and_adversary))\n",
    "    \n",
    "print(\"Evaluating for se\")\n",
    "for model in models_se:\n",
    "    evaluate_se.append(model.evaluate(x_test_and_adversary,y_test_and_adversary))\n"
   ]
  },
  {
   "cell_type": "code",
   "execution_count": 26,
   "id": "2141a097",
   "metadata": {},
   "outputs": [
    {
     "data": {
      "text/plain": [
       "21"
      ]
     },
     "execution_count": 26,
     "metadata": {},
     "output_type": "execute_result"
    }
   ],
   "source": [
    "len(evaluate_dg)"
   ]
  },
  {
   "cell_type": "code",
   "execution_count": 27,
   "id": "078f3e93",
   "metadata": {},
   "outputs": [],
   "source": [
    "#evaluate_lsa.append(models_lsa[20].evaluate(x_test_and_adversary,y_test_and_adversary))\n",
    "#evaluate_dsa.append(models_dsa[20].evaluate(x_test_and_adversary,y_test_and_adversary))\n",
    "#evaluate_dg.append(models_dg[20].evaluate(x_test_and_adversary,y_test_and_adversary))\n",
    "#evaluate_se.append(models_se[20].evaluate(x_test_and_adversary,y_test_and_adversary))\n",
    "#evaluate_random.append(models_random[20].evaluate(x_test_and_adversary,y_test_and_adversary))\n",
    "#evaluate_nc.append(models_nc[20].evaluate(x_test_and_adversary,y_test_and_adversary))\n"
   ]
  },
  {
   "cell_type": "code",
   "execution_count": 28,
   "id": "e48d1822",
   "metadata": {},
   "outputs": [
    {
     "data": {
      "text/plain": [
       "21"
      ]
     },
     "execution_count": 28,
     "metadata": {},
     "output_type": "execute_result"
    }
   ],
   "source": [
    "len(evaluate_nc)"
   ]
  },
  {
   "cell_type": "code",
   "execution_count": 29,
   "id": "84b6b536",
   "metadata": {},
   "outputs": [],
   "source": [
    "import pandas as pd\n",
    "\n",
    "df_evaluate_dg = pd.DataFrame(np.array(evaluate_dg),columns=[\"loss\",\"accuracy\",\"precision\",\"recall\"])\n"
   ]
  },
  {
   "cell_type": "code",
   "execution_count": 30,
   "id": "ba831e22",
   "metadata": {},
   "outputs": [],
   "source": [
    "import pandas as pd\n",
    "\n",
    "df_evaluate_lsa = pd.DataFrame(np.array(evaluate_lsa),columns=[\"loss\",\"accuracy\",\"precision\",\"recall\"])\n",
    "df_evaluate_dsa = pd.DataFrame(np.array(evaluate_dsa),columns=[\"loss\",\"accuracy\",\"precision\",\"recall\"])\n",
    "df_evaluate_dg = pd.DataFrame(np.array(evaluate_dg),columns=[\"loss\",\"accuracy\",\"precision\",\"recall\"])\n",
    "df_evaluate_se = pd.DataFrame(np.array(evaluate_se),columns=[\"loss\",\"accuracy\",\"precision\",\"recall\"])\n",
    "\n",
    "df_evaluate_random = pd.DataFrame(np.array(evaluate_random),columns=[\"loss\",\"accuracy\",\"precision\",\"recall\"])\n",
    "df_evaluate_nc = pd.DataFrame(np.array(evaluate_nc),columns=[\"loss\",\"accuracy\",\"precision\",\"recall\"])\n"
   ]
  },
  {
   "cell_type": "code",
   "execution_count": 14,
   "id": "d5eae8d4",
   "metadata": {},
   "outputs": [],
   "source": [
    "#save_dir = \"D:/aug_graphs/\"+dataset+\"/\"+config_lc\n",
    "save_dir = \"C:/Users/fjdurlop/Documents/upc/aug_graphs/\"+dataset+\"/\"+config_lc"
   ]
  },
  {
   "cell_type": "code",
   "execution_count": 15,
   "id": "1ff3f440",
   "metadata": {},
   "outputs": [
    {
     "name": "stdout",
     "output_type": "stream",
     "text": [
      "True\n"
     ]
    }
   ],
   "source": [
    "\n",
    "# Check if loading\n",
    "print(loading_csv)"
   ]
  },
  {
   "cell_type": "code",
   "execution_count": 33,
   "id": "aa209967",
   "metadata": {},
   "outputs": [],
   "source": [
    "df_evaluate_dg.to_csv(save_dir+\"/dg_\"+config_lc,index=False)"
   ]
  },
  {
   "cell_type": "code",
   "execution_count": 34,
   "id": "1fcc89a7",
   "metadata": {},
   "outputs": [],
   "source": [
    "df_evaluate_lsa.to_csv(save_dir+\"/lsa_\"+config_lc,index=False)\n",
    "df_evaluate_dsa.to_csv(save_dir+\"/dsa_\"+config_lc,index=False)\n",
    "df_evaluate_dg.to_csv(save_dir+\"/dg_\"+config_lc,index=False)\n",
    "df_evaluate_se.to_csv(save_dir+\"/se_\"+config_lc,index=False)\n",
    "df_evaluate_random.to_csv(save_dir+\"/random_\"+config_lc,index=False)\n",
    "df_evaluate_nc.to_csv(save_dir+\"/nc_\"+config_lc,index=False)"
   ]
  },
  {
   "cell_type": "code",
   "execution_count": 16,
   "id": "2f1f67f6",
   "metadata": {},
   "outputs": [],
   "source": [
    "import pandas as pd\n",
    "loading_csv =True\n",
    "if(loading_csv):\n",
    "    df_evaluate_lsa = pd.read_csv(save_dir+\"/lsa_\"+config_lc)\n",
    "    df_evaluate_dsa = pd.read_csv(save_dir+\"/dsa_\"+config_lc)\n",
    "    df_evaluate_dg = pd.read_csv(save_dir+\"/dg_\"+config_lc)\n",
    "    df_evaluate_se = pd.read_csv(save_dir+\"/se_\"+config_lc)\n",
    "    df_evaluate_random = pd.read_csv(save_dir+\"/random_\"+config_lc)\n",
    "    df_evaluate_nc = pd.read_csv(save_dir+\"/nc_\"+config_lc)"
   ]
  },
  {
   "cell_type": "code",
   "execution_count": 36,
   "id": "434369a2",
   "metadata": {},
   "outputs": [
    {
     "data": {
      "text/html": [
       "<div>\n",
       "<style scoped>\n",
       "    .dataframe tbody tr th:only-of-type {\n",
       "        vertical-align: middle;\n",
       "    }\n",
       "\n",
       "    .dataframe tbody tr th {\n",
       "        vertical-align: top;\n",
       "    }\n",
       "\n",
       "    .dataframe thead th {\n",
       "        text-align: right;\n",
       "    }\n",
       "</style>\n",
       "<table border=\"1\" class=\"dataframe\">\n",
       "  <thead>\n",
       "    <tr style=\"text-align: right;\">\n",
       "      <th></th>\n",
       "      <th>loss</th>\n",
       "      <th>accuracy</th>\n",
       "      <th>precision</th>\n",
       "      <th>recall</th>\n",
       "    </tr>\n",
       "  </thead>\n",
       "  <tbody>\n",
       "    <tr>\n",
       "      <th>0</th>\n",
       "      <td>2.366766</td>\n",
       "      <td>0.576869</td>\n",
       "      <td>0.640821</td>\n",
       "      <td>0.541757</td>\n",
       "    </tr>\n",
       "    <tr>\n",
       "      <th>1</th>\n",
       "      <td>1.837048</td>\n",
       "      <td>0.565286</td>\n",
       "      <td>0.655509</td>\n",
       "      <td>0.539021</td>\n",
       "    </tr>\n",
       "    <tr>\n",
       "      <th>2</th>\n",
       "      <td>1.760228</td>\n",
       "      <td>0.552287</td>\n",
       "      <td>0.634163</td>\n",
       "      <td>0.520967</td>\n",
       "    </tr>\n",
       "    <tr>\n",
       "      <th>3</th>\n",
       "      <td>2.270082</td>\n",
       "      <td>0.547288</td>\n",
       "      <td>0.613144</td>\n",
       "      <td>0.528396</td>\n",
       "    </tr>\n",
       "    <tr>\n",
       "      <th>4</th>\n",
       "      <td>1.537172</td>\n",
       "      <td>0.542871</td>\n",
       "      <td>0.659594</td>\n",
       "      <td>0.464867</td>\n",
       "    </tr>\n",
       "    <tr>\n",
       "      <th>5</th>\n",
       "      <td>1.634315</td>\n",
       "      <td>0.560370</td>\n",
       "      <td>0.649311</td>\n",
       "      <td>0.508700</td>\n",
       "    </tr>\n",
       "    <tr>\n",
       "      <th>6</th>\n",
       "      <td>1.563224</td>\n",
       "      <td>0.487959</td>\n",
       "      <td>0.621372</td>\n",
       "      <td>0.346370</td>\n",
       "    </tr>\n",
       "    <tr>\n",
       "      <th>7</th>\n",
       "      <td>1.244069</td>\n",
       "      <td>0.586284</td>\n",
       "      <td>0.718790</td>\n",
       "      <td>0.466742</td>\n",
       "    </tr>\n",
       "    <tr>\n",
       "      <th>8</th>\n",
       "      <td>1.320802</td>\n",
       "      <td>0.590617</td>\n",
       "      <td>0.689637</td>\n",
       "      <td>0.526067</td>\n",
       "    </tr>\n",
       "    <tr>\n",
       "      <th>9</th>\n",
       "      <td>1.249341</td>\n",
       "      <td>0.566953</td>\n",
       "      <td>0.710096</td>\n",
       "      <td>0.451076</td>\n",
       "    </tr>\n",
       "    <tr>\n",
       "      <th>10</th>\n",
       "      <td>1.272083</td>\n",
       "      <td>0.568453</td>\n",
       "      <td>0.722244</td>\n",
       "      <td>0.419567</td>\n",
       "    </tr>\n",
       "    <tr>\n",
       "      <th>11</th>\n",
       "      <td>1.232170</td>\n",
       "      <td>0.605450</td>\n",
       "      <td>0.719903</td>\n",
       "      <td>0.520071</td>\n",
       "    </tr>\n",
       "    <tr>\n",
       "      <th>12</th>\n",
       "      <td>1.185640</td>\n",
       "      <td>0.628114</td>\n",
       "      <td>0.724586</td>\n",
       "      <td>0.540156</td>\n",
       "    </tr>\n",
       "    <tr>\n",
       "      <th>13</th>\n",
       "      <td>1.155910</td>\n",
       "      <td>0.615032</td>\n",
       "      <td>0.729865</td>\n",
       "      <td>0.523383</td>\n",
       "    </tr>\n",
       "    <tr>\n",
       "      <th>14</th>\n",
       "      <td>1.174546</td>\n",
       "      <td>0.624031</td>\n",
       "      <td>0.738810</td>\n",
       "      <td>0.540072</td>\n",
       "    </tr>\n",
       "    <tr>\n",
       "      <th>15</th>\n",
       "      <td>1.130413</td>\n",
       "      <td>0.617865</td>\n",
       "      <td>0.761855</td>\n",
       "      <td>0.507161</td>\n",
       "    </tr>\n",
       "    <tr>\n",
       "      <th>16</th>\n",
       "      <td>1.084620</td>\n",
       "      <td>0.629281</td>\n",
       "      <td>0.766070</td>\n",
       "      <td>0.533230</td>\n",
       "    </tr>\n",
       "    <tr>\n",
       "      <th>17</th>\n",
       "      <td>1.157317</td>\n",
       "      <td>0.601450</td>\n",
       "      <td>0.748410</td>\n",
       "      <td>0.514400</td>\n",
       "    </tr>\n",
       "    <tr>\n",
       "      <th>18</th>\n",
       "      <td>1.090266</td>\n",
       "      <td>0.635364</td>\n",
       "      <td>0.756251</td>\n",
       "      <td>0.554022</td>\n",
       "    </tr>\n",
       "    <tr>\n",
       "      <th>19</th>\n",
       "      <td>1.232044</td>\n",
       "      <td>0.625948</td>\n",
       "      <td>0.739538</td>\n",
       "      <td>0.564999</td>\n",
       "    </tr>\n",
       "    <tr>\n",
       "      <th>20</th>\n",
       "      <td>1.054227</td>\n",
       "      <td>0.640613</td>\n",
       "      <td>0.788602</td>\n",
       "      <td>0.538088</td>\n",
       "    </tr>\n",
       "  </tbody>\n",
       "</table>\n",
       "</div>"
      ],
      "text/plain": [
       "        loss  accuracy  precision    recall\n",
       "0   2.366766  0.576869   0.640821  0.541757\n",
       "1   1.837048  0.565286   0.655509  0.539021\n",
       "2   1.760228  0.552287   0.634163  0.520967\n",
       "3   2.270082  0.547288   0.613144  0.528396\n",
       "4   1.537172  0.542871   0.659594  0.464867\n",
       "5   1.634315  0.560370   0.649311  0.508700\n",
       "6   1.563224  0.487959   0.621372  0.346370\n",
       "7   1.244069  0.586284   0.718790  0.466742\n",
       "8   1.320802  0.590617   0.689637  0.526067\n",
       "9   1.249341  0.566953   0.710096  0.451076\n",
       "10  1.272083  0.568453   0.722244  0.419567\n",
       "11  1.232170  0.605450   0.719903  0.520071\n",
       "12  1.185640  0.628114   0.724586  0.540156\n",
       "13  1.155910  0.615032   0.729865  0.523383\n",
       "14  1.174546  0.624031   0.738810  0.540072\n",
       "15  1.130413  0.617865   0.761855  0.507161\n",
       "16  1.084620  0.629281   0.766070  0.533230\n",
       "17  1.157317  0.601450   0.748410  0.514400\n",
       "18  1.090266  0.635364   0.756251  0.554022\n",
       "19  1.232044  0.625948   0.739538  0.564999\n",
       "20  1.054227  0.640613   0.788602  0.538088"
      ]
     },
     "execution_count": 36,
     "metadata": {},
     "output_type": "execute_result"
    }
   ],
   "source": [
    "df_evaluate_dg"
   ]
  },
  {
   "cell_type": "code",
   "execution_count": 17,
   "id": "3c21fd01",
   "metadata": {},
   "outputs": [],
   "source": [
    "\n",
    "metric =\"accuracy\"\n",
    "accuracy_lsa_3 = np.array(df_evaluate_lsa[metric])\n",
    "accuracy_dsa_3 = np.array(df_evaluate_dsa[metric])\n",
    "accuracy_dg_3 = np.array(df_evaluate_dg[metric])\n",
    "accuracy_se_3 = np.array(df_evaluate_se[metric])\n",
    "\n",
    "accuracy_nc_3 =np.array(df_evaluate_nc[metric])\n",
    "accuracy_random_3 = np.array(df_evaluate_random[metric])\n"
   ]
  },
  {
   "cell_type": "code",
   "execution_count": null,
   "id": "7aeb569b",
   "metadata": {},
   "outputs": [],
   "source": []
  },
  {
   "cell_type": "code",
   "execution_count": 18,
   "id": "9ed5051f",
   "metadata": {},
   "outputs": [],
   "source": [
    "n_data_points = 300"
   ]
  },
  {
   "cell_type": "code",
   "execution_count": 19,
   "id": "43b61f22",
   "metadata": {},
   "outputs": [
    {
     "data": {
      "text/plain": [
       "21"
      ]
     },
     "execution_count": 19,
     "metadata": {},
     "output_type": "execute_result"
    }
   ],
   "source": [
    "len(accuracy_dsa_3)"
   ]
  },
  {
   "cell_type": "code",
   "execution_count": 20,
   "id": "cb15309c",
   "metadata": {},
   "outputs": [
    {
     "data": {
      "text/plain": [
       "20"
      ]
     },
     "execution_count": 20,
     "metadata": {},
     "output_type": "execute_result"
    }
   ],
   "source": [
    "num_models"
   ]
  },
  {
   "cell_type": "code",
   "execution_count": 21,
   "id": "e67df87a",
   "metadata": {},
   "outputs": [
    {
     "name": "stdout",
     "output_type": "stream",
     "text": [
      "21\n"
     ]
    },
    {
     "data": {
      "text/plain": [
       "[0,\n",
       " 300,\n",
       " 600,\n",
       " 900,\n",
       " 1200,\n",
       " 1500,\n",
       " 1800,\n",
       " 2100,\n",
       " 2400,\n",
       " 2700,\n",
       " 3000,\n",
       " 3300,\n",
       " 3600,\n",
       " 3900,\n",
       " 4200,\n",
       " 4500,\n",
       " 4800,\n",
       " 5100,\n",
       " 5400,\n",
       " 5700,\n",
       " 6000]"
      ]
     },
     "execution_count": 21,
     "metadata": {},
     "output_type": "execute_result"
    }
   ],
   "source": [
    "#if(num_models>20):\n",
    "n_inputs = [n_data_points*i for i in range(num_models+1)]\n",
    "#n_inputs.append(len(x_train_and_adversary))\n",
    "print(len(n_inputs))\n",
    "n_inputs"
   ]
  },
  {
   "cell_type": "code",
   "execution_count": 22,
   "id": "3cd2cd2d",
   "metadata": {},
   "outputs": [
    {
     "name": "stdout",
     "output_type": "stream",
     "text": [
      "21\n",
      "21\n"
     ]
    }
   ],
   "source": [
    "print(len(df_evaluate_dg))\n",
    "print(len(n_inputs))"
   ]
  },
  {
   "cell_type": "code",
   "execution_count": 23,
   "id": "b484cf9a",
   "metadata": {},
   "outputs": [],
   "source": [
    "#save_dir = \"D:/aug_graphs/\"+dataset+\"/\"+config"
   ]
  },
  {
   "cell_type": "code",
   "execution_count": 24,
   "id": "04d02a6d",
   "metadata": {},
   "outputs": [],
   "source": [
    "linestyles = ['solid','dotted','dashed','dashed','dashdot','dashdot']\n",
    "colors =['b','g','r','c','m','k']"
   ]
  },
  {
   "cell_type": "code",
   "execution_count": 26,
   "id": "75c13967",
   "metadata": {},
   "outputs": [
    {
     "name": "stdout",
     "output_type": "stream",
     "text": [
      "LSA\n",
      "6000 0.6337805390357971\n",
      "DSA\n",
      "5700 0.6432797312736511\n",
      "DG\n",
      "6000 0.6406132578849792\n",
      "SE\n",
      "5100 0.6358636617660522\n",
      "RANDOM\n",
      "5400 0.6531955599784851\n",
      "NC\n",
      "5400 0.6389467716217041\n"
     ]
    },
    {
     "data": {
      "image/png": "[encoded data removed]",
      "text/plain": [
       "<Figure size 432x288 with 1 Axes>"
      ]
     },
     "metadata": {
      "needs_background": "light"
     },
     "output_type": "display_data"
    }
   ],
   "source": [
    "#adversarial jsma test set\n",
    "#configuration 3\n",
    "\"\"\"\n",
    "6) Incremental guided retraining starting from the original model using only the new adversarial inputs.\n",
    "Incremental training, starting with the previous trained model. Using at each iteration a subset of the new inputs.\n",
    "\"\"\"\n",
    "import matplotlib.pyplot as plt\n",
    "import matplotlib.patches as mpatches\n",
    "\n",
    "from matplotlib.patches import Patch\n",
    "from matplotlib.lines import Line2D\n",
    "\n",
    "plt.plot(n_inputs,accuracy_lsa_3,colors[0],linestyle=linestyles[0])\n",
    "plt.plot(n_inputs,accuracy_dsa_3,colors[1],linestyle=linestyles[1])\n",
    "plt.plot(n_inputs,accuracy_dg_3,colors[2],linestyle=linestyles[2])\n",
    "plt.plot(n_inputs,accuracy_se_3,colors[3],linestyle=linestyles[3])\n",
    "plt.plot(n_inputs,accuracy_random_3,colors[4],linestyle=linestyles[4])\n",
    "plt.plot(n_inputs,accuracy_nc_3,colors[5],linestyle=linestyles[5])\n",
    "\n",
    "\n",
    "legend_elements = [Line2D([0], [0], color=colors[0], label='LSA',ls = linestyles[0]),\n",
    "                   Line2D([0], [0], color=colors[1], label='DSA',ls = linestyles[1]),\n",
    "                   Line2D([0], [0], color=colors[2], label='dg',ls = linestyles[2]),\n",
    "                   Line2D([0], [0], color=colors[3], label='se',ls = linestyles[3]),\n",
    "                   Line2D([0], [0], color=colors[4], label='Random',ls = linestyles[4]),\n",
    "                   Line2D([0], [0], color=colors[5], label='NC',ls = linestyles[5])]\n",
    "\n",
    "\n",
    "\n",
    "plt.legend(handles=legend_elements)#\n",
    "#plt.title(\"Accuracy\")\n",
    "print(\"LSA\")\n",
    "print(n_inputs[np.argmax(accuracy_lsa_3)],accuracy_lsa_3.max())\n",
    "print(\"DSA\")\n",
    "print(n_inputs[np.argmax(accuracy_dsa_3)],accuracy_dsa_3.max())\n",
    "print(\"DG\")\n",
    "print(n_inputs[np.argmax(accuracy_dg_3)],accuracy_dg_3.max())\n",
    "print(\"SE\")\n",
    "print(n_inputs[np.argmax(accuracy_se_3)],accuracy_se_3.max())\n",
    "print(\"RANDOM\")\n",
    "print(n_inputs[np.argmax(accuracy_random_3)],accuracy_random_3.max())\n",
    "print(\"NC\")\n",
    "print(n_inputs[np.argmax(accuracy_nc_3)],accuracy_nc_3.max())\n",
    "\n",
    "plt.plot(n_inputs[np.argmax(accuracy_lsa_3)],accuracy_lsa_3.max(),'-bD',)\n",
    "plt.plot(n_inputs[np.argmax(accuracy_dsa_3)],accuracy_dsa_3.max(),'-go')\n",
    "plt.plot(n_inputs[np.argmax(accuracy_dg_3)],accuracy_dg_3.max(),'-r+')\n",
    "plt.plot(n_inputs[np.argmax(accuracy_se_3)],accuracy_se_3.max(),'-c*')\n",
    "plt.plot(n_inputs[np.argmax(accuracy_random_3)],accuracy_random_3.max(),'-mv')\n",
    "plt.plot(n_inputs[np.argmax(accuracy_nc_3)],accuracy_nc_3.max(),'-kp')\n",
    "\n",
    "plt.xlabel('Number of inputs')\n",
    "plt.ylabel('Accuracy')\n",
    "plt.xlim([0, 6000])\n",
    "#plt.ylim([0.5, 0.8])\n",
    "\n",
    "plt.savefig(save_dir+\"/\"+dataset+\"_\"+config_lc+\"_\"+\"accuracy\" + \".svg\")\n",
    "\n",
    "plt.show()"
   ]
  },
  {
   "cell_type": "code",
   "execution_count": null,
   "id": "a7f63081",
   "metadata": {},
   "outputs": [],
   "source": []
  }
 ],
 "metadata": {
  "kernelspec": {
   "display_name": "Python 3 (ipykernel)",
   "language": "python",
   "name": "python3"
  },
  "language_info": {
   "codemirror_mode": {
    "name": "ipython",
    "version": 3
   },
   "file_extension": ".py",
   "mimetype": "text/x-python",
   "name": "python",
   "nbconvert_exporter": "python",
   "pygments_lexer": "ipython3",
   "version": "3.9.7"
  }
 },
 "nbformat": 4,
 "nbformat_minor": 5
}
