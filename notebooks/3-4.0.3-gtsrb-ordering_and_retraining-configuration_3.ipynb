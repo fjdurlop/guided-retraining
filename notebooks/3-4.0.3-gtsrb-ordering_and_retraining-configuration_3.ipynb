{
 "cells": [
  {
   "cell_type": "markdown",
   "id": "dcf350cc",
   "metadata": {},
   "source": [
    "# Ordering by metrics and retraining phase\n",
    "\n",
    "## Dataset: GTSRB"
   ]
  },
  {
   "cell_type": "markdown",
   "id": "790af13b",
   "metadata": {},
   "source": [
    "## Experiment configuration 3\n",
    "- Date: 27/10/2021"
   ]
  },
  {
   "cell_type": "markdown",
   "id": "21a98552",
   "metadata": {},
   "source": [
    "## Configuration\n",
    "\t3. Incremental guided retraining starting from the original model using only the new adversarial inputs"
   ]
  },
  {
   "cell_type": "code",
   "execution_count": null,
   "id": "90383afd",
   "metadata": {},
   "outputs": [],
   "source": [
    "pip install --user tensorflow==2.5"
   ]
  },
  {
   "cell_type": "code",
   "execution_count": null,
   "id": "f146072e",
   "metadata": {},
   "outputs": [],
   "source": [
    "tf.__version__ == '2.5.0' # Version of tensorflow"
   ]
  },
  {
   "cell_type": "code",
   "execution_count": 1,
   "id": "ce1386e9",
   "metadata": {},
   "outputs": [],
   "source": [
    "import argparse\n",
    "\n",
    "import numpy as np\n",
    "import tensorflow as tf\n",
    "import keras.backend as K\n",
    "\n",
    "import matplotlib.pyplot as plt\n",
    "\n",
    "from keras.utils import np_utils\n",
    "from keras.models import Sequential\n",
    "from keras.layers import Dense, Dropout, Activation, Flatten, Conv2D, MaxPooling2D\n",
    "from keras.regularizers import l2\n",
    "\n",
    "import glob\n",
    "import os\n",
    "import cv2\n",
    "import keras\n",
    "\n",
    "\n",
    "import time\n",
    "import argparse\n",
    "\n",
    "from tqdm import tqdm\n",
    "\n",
    "from keras.models import load_model, Model\n"
   ]
  },
  {
   "cell_type": "code",
   "execution_count": null,
   "id": "55a147b0",
   "metadata": {},
   "outputs": [],
   "source": [
    "cd '../utils/'"
   ]
  },
  {
   "cell_type": "code",
   "execution_count": 2,
   "id": "723735cb",
   "metadata": {},
   "outputs": [],
   "source": [
    "# utils for project\n",
    "import utils_guided_retraining as utils"
   ]
  },
  {
   "cell_type": "code",
   "execution_count": null,
   "id": "7ecc0408",
   "metadata": {},
   "outputs": [],
   "source": [
    "cd '../notebooks/'"
   ]
  },
  {
   "cell_type": "code",
   "execution_count": 3,
   "id": "de1bd2cb",
   "metadata": {},
   "outputs": [],
   "source": [
    "dataset = \"gtsrb\""
   ]
  },
  {
   "cell_type": "code",
   "execution_count": 4,
   "id": "50c2b3f3",
   "metadata": {},
   "outputs": [],
   "source": [
    "x_train,y_train = utils.get_data(dataset,\"Train\")\n",
    "x_val,y_val = utils.get_data(dataset,\"Val\")\n",
    "x_test,y_test = utils.get_data(dataset,\"Test\")"
   ]
  },
  {
   "cell_type": "code",
   "execution_count": 5,
   "id": "e6f6f8a7",
   "metadata": {},
   "outputs": [],
   "source": [
    "x_train_and_adversary,y_train_and_adversary = utils.get_data(dataset,\"Train_and_adversary\")"
   ]
  },
  {
   "cell_type": "code",
   "execution_count": 6,
   "id": "53dcdf78",
   "metadata": {},
   "outputs": [
    {
     "name": "stdout",
     "output_type": "stream",
     "text": [
      "5000\n",
      "5000\n"
     ]
    }
   ],
   "source": [
    "x_adversary_training = x_train_and_adversary[len(x_train):]\n",
    "print(len(x_adversary_training))\n",
    "y_adversary_training = y_train_and_adversary[len(y_train):]\n",
    "\n",
    "print(len(y_adversary_training))"
   ]
  },
  {
   "cell_type": "code",
   "execution_count": 7,
   "id": "d8fd2c92",
   "metadata": {},
   "outputs": [],
   "source": [
    "# Obtaining adversarial examples for testing \n",
    "x_test_and_adversary,y_test_and_adversary = utils.get_adversarial_data(dataset,'Test_fgsm') "
   ]
  },
  {
   "cell_type": "code",
   "execution_count": 8,
   "id": "c27698e5",
   "metadata": {},
   "outputs": [
    {
     "name": "stdout",
     "output_type": "stream",
     "text": [
      "3923\n",
      "3923\n"
     ]
    }
   ],
   "source": [
    "x_adversary_test_fgsm = x_test_and_adversary[len(x_test):]\n",
    "print(len(x_adversary_test_fgsm))\n",
    "y_adversary_test_fgsm = y_test_and_adversary[len(y_test):]\n",
    "\n",
    "print(len(y_adversary_test_fgsm))"
   ]
  },
  {
   "cell_type": "markdown",
   "id": "becb4e3b",
   "metadata": {},
   "source": [
    "## ----"
   ]
  },
  {
   "cell_type": "code",
   "execution_count": 9,
   "id": "c1560941",
   "metadata": {},
   "outputs": [],
   "source": [
    "# Original model \n",
    "model_dir = \"C:/Users/fjdur/Desktop/upc/project_notebooks/github_project/DL_notebooks/models/tf_model_25-06\"\n"
   ]
  },
  {
   "cell_type": "code",
   "execution_count": 10,
   "id": "e5478616",
   "metadata": {},
   "outputs": [
    {
     "name": "stdout",
     "output_type": "stream",
     "text": [
      "Model loaded correctly\n"
     ]
    }
   ],
   "source": [
    "model_original = utils.My_model(dataset,True, model_dir)"
   ]
  },
  {
   "cell_type": "code",
   "execution_count": 11,
   "id": "1137efd4",
   "metadata": {},
   "outputs": [
    {
     "name": "stdout",
     "output_type": "stream",
     "text": [
      "123/123 [==============================] - 17s 51ms/step - loss: 0.0293 - accuracy: 0.9929\n"
     ]
    },
    {
     "data": {
      "text/plain": [
       "[0.029302377253770828, 0.9928625822067261]"
      ]
     },
     "execution_count": 11,
     "metadata": {},
     "output_type": "execute_result"
    }
   ],
   "source": [
    "model_original.evaluate(x_test,y_test)"
   ]
  },
  {
   "cell_type": "code",
   "execution_count": null,
   "id": "397de2cb",
   "metadata": {},
   "outputs": [],
   "source": [
    "model_original.evaluate(x_adversary_test_fgsm,y_adversary_test_fgsm)"
   ]
  },
  {
   "cell_type": "markdown",
   "id": "78edd1c7",
   "metadata": {},
   "source": [
    "## Obtaining new LSA and DSA values "
   ]
  },
  {
   "cell_type": "code",
   "execution_count": 12,
   "id": "dd62896d",
   "metadata": {},
   "outputs": [],
   "source": [
    "# Obtaining SA values just of the adversarial inputs\n",
    "\n",
    "lsa_dir = \"C:/Users/fjdur/Desktop/upc/project_notebooks/github_project/DL_notebooks/SA_values/dsa_values_1.npy\"\n",
    "\n",
    "lsa_values = np.load(lsa_dir)[len(x_train):] \n",
    "\n",
    "dsa_dir = \"C:/Users/fjdur/Desktop/upc/project_notebooks/github_project/DL_notebooks/SA_values/lsa_values_1.npy\"\n",
    "\n",
    "dsa_values = np.load(dsa_dir)[len(x_train):]"
   ]
  },
  {
   "cell_type": "code",
   "execution_count": 13,
   "id": "cbe684c7",
   "metadata": {},
   "outputs": [
    {
     "data": {
      "text/plain": [
       "(5000,)"
      ]
     },
     "execution_count": 13,
     "metadata": {},
     "output_type": "execute_result"
    }
   ],
   "source": [
    "lsa_values.shape"
   ]
  },
  {
   "cell_type": "code",
   "execution_count": 14,
   "id": "c0ec186e",
   "metadata": {},
   "outputs": [],
   "source": [
    "\n",
    "# Obtaining top n images by LSA values\n",
    "top_images_by_lsa = utils.get_x_of_indexes(list(np.flip(np.argsort(lsa_values))),x_adversary_training)\n",
    "top_labels_by_lsa = utils.get_x_of_indexes(list(np.flip(np.argsort(lsa_values))),y_adversary_training)\n"
   ]
  },
  {
   "cell_type": "code",
   "execution_count": 15,
   "id": "4a3451bf",
   "metadata": {},
   "outputs": [],
   "source": [
    "\n",
    "top_images_by_dsa = utils.get_x_of_indexes(list(np.flip(np.argsort(dsa_values))),x_adversary_training)\n",
    "top_labels_by_dsa = utils.get_x_of_indexes(list(np.flip(np.argsort(dsa_values))),y_adversary_training)\n"
   ]
  },
  {
   "cell_type": "code",
   "execution_count": 16,
   "id": "4b1edf1f",
   "metadata": {},
   "outputs": [
    {
     "data": {
      "text/plain": [
       "250"
      ]
     },
     "execution_count": 16,
     "metadata": {},
     "output_type": "execute_result"
    }
   ],
   "source": [
    "len(top_images_by_lsa)//20"
   ]
  },
  {
   "cell_type": "code",
   "execution_count": 17,
   "id": "68180e9a",
   "metadata": {},
   "outputs": [
    {
     "data": {
      "text/plain": [
       "5000"
      ]
     },
     "execution_count": 17,
     "metadata": {},
     "output_type": "execute_result"
    }
   ],
   "source": [
    "len(top_images_by_dsa)"
   ]
  },
  {
   "cell_type": "code",
   "execution_count": 18,
   "id": "3bc51573",
   "metadata": {},
   "outputs": [
    {
     "name": "stdout",
     "output_type": "stream",
     "text": [
      "0 :\n",
      "0  ->  250\n",
      "250\n",
      "1 :\n",
      "0  ->  500\n",
      "500\n",
      "2 :\n",
      "0  ->  750\n",
      "750\n",
      "3 :\n",
      "0  ->  1000\n",
      "1000\n",
      "4 :\n",
      "0  ->  1250\n",
      "1250\n",
      "5 :\n",
      "0  ->  1500\n",
      "1500\n",
      "6 :\n",
      "0  ->  1750\n",
      "1750\n",
      "7 :\n",
      "0  ->  2000\n",
      "2000\n",
      "8 :\n",
      "0  ->  2250\n",
      "2250\n",
      "9 :\n",
      "0  ->  2500\n",
      "2500\n",
      "10 :\n",
      "0  ->  2750\n",
      "2750\n",
      "11 :\n",
      "0  ->  3000\n",
      "3000\n",
      "12 :\n",
      "0  ->  3250\n",
      "3250\n",
      "13 :\n",
      "0  ->  3500\n",
      "3500\n",
      "14 :\n",
      "0  ->  3750\n",
      "3750\n",
      "15 :\n",
      "0  ->  4000\n",
      "4000\n",
      "16 :\n",
      "0  ->  4250\n",
      "4250\n",
      "17 :\n",
      "0  ->  4500\n",
      "4500\n",
      "18 :\n",
      "0  ->  4750\n",
      "4750\n",
      "19 :\n",
      "Last\n",
      "0  ->  5000\n",
      "5000\n"
     ]
    }
   ],
   "source": [
    "m = 250\n",
    "n = 0\n",
    "image_sets_lsa = []\n",
    "label_sets_lsa = []\n",
    "\n",
    "\n",
    "for i in range(len(top_images_by_lsa)//m):\n",
    "    print(i,\":\")\n",
    "    if (i+1 >= len(top_images_by_lsa)//m):\n",
    "        print(\"Last\")\n",
    "        print(0,\" -> \",n+m+(len(top_images_by_lsa)%m))\n",
    "        top_images_by_lsa_n = np.array(top_images_by_lsa[:n+m+(len(top_images_by_lsa)%m)])\n",
    "        top_labels_by_lsa_n = np.array(top_labels_by_lsa[:n+m+(len(top_images_by_lsa)%m)])\n",
    "    else:\n",
    "        print(0,\" -> \",m+n)\n",
    "        top_images_by_lsa_n = np.array(top_images_by_lsa[:n+m])\n",
    "        top_labels_by_lsa_n = np.array(top_labels_by_lsa[:n+m])\n",
    "    image_sets_lsa.append(top_images_by_lsa_n)\n",
    "    label_sets_lsa.append(top_labels_by_lsa_n)\n",
    "    print(len(top_images_by_lsa_n))\n",
    "    n += m\n",
    "\n"
   ]
  },
  {
   "cell_type": "markdown",
   "id": "ed06a68e",
   "metadata": {},
   "source": [
    "## point lsa"
   ]
  },
  {
   "cell_type": "code",
   "execution_count": 19,
   "id": "daef1b47",
   "metadata": {
    "scrolled": true
   },
   "outputs": [
    {
     "name": "stdout",
     "output_type": "stream",
     "text": [
      "C:/Users/fjdur/Desktop/upc/project_notebooks/github_project/DL_notebooks/models/tf_model_25-06\n",
      "0 :\n",
      "Model loaded correctly\n",
      "Model compiled\n",
      "1 :\n",
      "Model loaded correctly\n",
      "Model compiled\n",
      "2 :\n",
      "Model loaded correctly\n",
      "Model compiled\n",
      "3 :\n",
      "Model loaded correctly\n",
      "Model compiled\n",
      "4 :\n",
      "Model loaded correctly\n",
      "Model compiled\n",
      "5 :\n",
      "Model loaded correctly\n",
      "Model compiled\n",
      "6 :\n",
      "Model loaded correctly\n",
      "Model compiled\n",
      "7 :\n",
      "Model loaded correctly\n",
      "Model compiled\n",
      "8 :\n",
      "Model loaded correctly\n",
      "Model compiled\n",
      "9 :\n",
      "Model loaded correctly\n",
      "Model compiled\n",
      "10 :\n",
      "Model loaded correctly\n",
      "Model compiled\n",
      "11 :\n",
      "Model loaded correctly\n",
      "Model compiled\n",
      "12 :\n",
      "Model loaded correctly\n",
      "Model compiled\n",
      "13 :\n",
      "Model loaded correctly\n",
      "Model compiled\n",
      "14 :\n",
      "Model loaded correctly\n",
      "Model compiled\n",
      "15 :\n",
      "Model loaded correctly\n",
      "Model compiled\n",
      "16 :\n",
      "Model loaded correctly\n",
      "Model compiled\n",
      "17 :\n",
      "Model loaded correctly\n",
      "Model compiled\n",
      "18 :\n",
      "Model loaded correctly\n",
      "Model compiled\n",
      "19 :\n",
      "Model loaded correctly\n",
      "Model compiled\n"
     ]
    }
   ],
   "source": [
    "print(model_dir)\n",
    "\n",
    "models_lsa = []\n",
    "for i in range(len(label_sets_lsa)):\n",
    "    print(i,\":\")\n",
    "    model = utils.My_model(dataset,True,model_dir)\n",
    "    model.compile_model()\n",
    "    models_lsa.append(model)\n"
   ]
  },
  {
   "cell_type": "code",
   "execution_count": 23,
   "id": "3665e51c",
   "metadata": {},
   "outputs": [
    {
     "name": "stdout",
     "output_type": "stream",
     "text": [
      "Epoch 1/10\n",
      "4/4 [==============================] - 14s 2s/step - loss: 5.5069 - accuracy: 0.0373 - val_loss: 1.8878 - val_accuracy: 0.7328\n",
      "Epoch 2/10\n",
      "4/4 [==============================] - 7s 2s/step - loss: 3.4949 - accuracy: 0.0858 - val_loss: 1.0679 - val_accuracy: 0.8625\n",
      "Epoch 3/10\n",
      "4/4 [==============================] - 7s 2s/step - loss: 3.2527 - accuracy: 0.1261 - val_loss: 1.2638 - val_accuracy: 0.8135\n",
      "Epoch 4/10\n",
      "4/4 [==============================] - 8s 2s/step - loss: 3.1510 - accuracy: 0.2160 - val_loss: 0.6799 - val_accuracy: 0.9002\n",
      "Epoch 5/10\n",
      "4/4 [==============================] - 8s 2s/step - loss: 2.8042 - accuracy: 0.2612 - val_loss: 0.6215 - val_accuracy: 0.9176\n",
      "Epoch 6/10\n",
      "4/4 [==============================] - 7s 2s/step - loss: 2.4275 - accuracy: 0.3170 - val_loss: 0.5306 - val_accuracy: 0.9257\n",
      "Epoch 7/10\n",
      "4/4 [==============================] - 7s 2s/step - loss: 2.3385 - accuracy: 0.3513 - val_loss: 0.3154 - val_accuracy: 0.9513\n",
      "Epoch 8/10\n",
      "4/4 [==============================] - 7s 2s/step - loss: 2.0336 - accuracy: 0.4435 - val_loss: 0.5230 - val_accuracy: 0.8808\n",
      "Epoch 9/10\n",
      "4/4 [==============================] - 7s 2s/step - loss: 1.8630 - accuracy: 0.4828 - val_loss: 0.4092 - val_accuracy: 0.9087\n",
      "Epoch 10/10\n",
      "4/4 [==============================] - 7s 2s/step - loss: 1.8226 - accuracy: 0.4769 - val_loss: 0.3776 - val_accuracy: 0.9314\n",
      "Duration: 0:01:19.307918\n"
     ]
    }
   ],
   "source": [
    "n = 0\n",
    "models_lsa[n].fit_model(image_sets_lsa[n],label_sets_lsa[n],x_val,y_val)\n",
    "n=n+1"
   ]
  },
  {
   "cell_type": "code",
   "execution_count": 24,
   "id": "c2f79099",
   "metadata": {},
   "outputs": [
    {
     "name": "stdout",
     "output_type": "stream",
     "text": [
      "Epoch 1/10\n",
      "8/8 [==============================] - 11s 1s/step - loss: 4.6635 - accuracy: 0.0821 - val_loss: 0.6325 - val_accuracy: 0.9352\n",
      "Epoch 2/10\n",
      "8/8 [==============================] - 10s 1s/step - loss: 3.0381 - accuracy: 0.2055 - val_loss: 0.3874 - val_accuracy: 0.9291\n",
      "Epoch 3/10\n",
      "8/8 [==============================] - 9s 1s/step - loss: 2.5998 - accuracy: 0.2937 - val_loss: 0.4775 - val_accuracy: 0.9125\n",
      "Epoch 4/10\n",
      "8/8 [==============================] - 9s 1s/step - loss: 2.2955 - accuracy: 0.3436 - val_loss: 0.3703 - val_accuracy: 0.9069\n",
      "Epoch 5/10\n",
      "8/8 [==============================] - 9s 1s/step - loss: 1.9737 - accuracy: 0.4636 - val_loss: 0.2930 - val_accuracy: 0.9316\n",
      "Epoch 6/10\n",
      "8/8 [==============================] - 9s 1s/step - loss: 1.8302 - accuracy: 0.4959 - val_loss: 0.5700 - val_accuracy: 0.8301\n",
      "Epoch 7/10\n",
      "8/8 [==============================] - 9s 1s/step - loss: 1.7619 - accuracy: 0.5282 - val_loss: 0.4097 - val_accuracy: 0.8882\n",
      "Epoch 8/10\n",
      "8/8 [==============================] - 9s 1s/step - loss: 1.5128 - accuracy: 0.5738 - val_loss: 0.4574 - val_accuracy: 0.8880\n",
      "Epoch 9/10\n",
      "8/8 [==============================] - 11s 1s/step - loss: 1.3648 - accuracy: 0.6063 - val_loss: 0.5475 - val_accuracy: 0.8607\n",
      "Epoch 10/10\n",
      "8/8 [==============================] - 10s 1s/step - loss: 1.3032 - accuracy: 0.6464 - val_loss: 0.3143 - val_accuracy: 0.9270\n",
      "Duration: 0:01:35.928886\n"
     ]
    }
   ],
   "source": [
    "n=1\n",
    "models_lsa[n].fit_model(image_sets_lsa[n],label_sets_lsa[n],x_val,y_val)\n",
    "n = n+1"
   ]
  },
  {
   "cell_type": "code",
   "execution_count": 25,
   "id": "d9f7fa66",
   "metadata": {},
   "outputs": [
    {
     "name": "stdout",
     "output_type": "stream",
     "text": [
      "2\n",
      "Epoch 1/10\n",
      "12/12 [==============================] - 14s 1s/step - loss: 4.3744 - accuracy: 0.0795 - val_loss: 0.2648 - val_accuracy: 0.9689\n",
      "Epoch 2/10\n",
      "12/12 [==============================] - 11s 927ms/step - loss: 2.6919 - accuracy: 0.2630 - val_loss: 0.2308 - val_accuracy: 0.9431\n",
      "Epoch 3/10\n",
      "12/12 [==============================] - 11s 984ms/step - loss: 2.2294 - accuracy: 0.4257 - val_loss: 0.2116 - val_accuracy: 0.9451\n",
      "Epoch 4/10\n",
      "12/12 [==============================] - 11s 925ms/step - loss: 1.8258 - accuracy: 0.4942 - val_loss: 0.4430 - val_accuracy: 0.9074\n",
      "Epoch 5/10\n",
      "12/12 [==============================] - 10s 915ms/step - loss: 1.5513 - accuracy: 0.5334 - val_loss: 0.3647 - val_accuracy: 0.9084\n",
      "Epoch 6/10\n",
      "12/12 [==============================] - 12s 1s/step - loss: 1.3999 - accuracy: 0.6219 - val_loss: 0.3589 - val_accuracy: 0.9148\n",
      "Epoch 7/10\n",
      "12/12 [==============================] - 10s 890ms/step - loss: 1.2889 - accuracy: 0.6257 - val_loss: 0.4014 - val_accuracy: 0.8941\n",
      "Epoch 8/10\n",
      "12/12 [==============================] - 10s 917ms/step - loss: 1.1753 - accuracy: 0.6587 - val_loss: 0.3868 - val_accuracy: 0.9076\n",
      "Epoch 9/10\n",
      "12/12 [==============================] - 10s 891ms/step - loss: 1.0115 - accuracy: 0.7252 - val_loss: 0.3567 - val_accuracy: 0.9130\n",
      "Epoch 10/10\n",
      "12/12 [==============================] - 10s 900ms/step - loss: 0.8799 - accuracy: 0.7273 - val_loss: 0.6989 - val_accuracy: 0.8849\n",
      "Duration: 0:01:49.728213\n"
     ]
    }
   ],
   "source": [
    "print(n)\n",
    "models_lsa[n].fit_model(image_sets_lsa[n],label_sets_lsa[n],x_val,y_val)\n",
    "n = n+1"
   ]
  },
  {
   "cell_type": "code",
   "execution_count": 26,
   "id": "a4586fc7",
   "metadata": {},
   "outputs": [
    {
     "name": "stdout",
     "output_type": "stream",
     "text": [
      "3\n",
      "Epoch 1/10\n",
      "16/16 [==============================] - 14s 774ms/step - loss: 3.8351 - accuracy: 0.1359 - val_loss: 2.6199 - val_accuracy: 0.6887\n",
      "Epoch 2/10\n",
      "16/16 [==============================] - 12s 756ms/step - loss: 2.6239 - accuracy: 0.3381 - val_loss: 0.5953 - val_accuracy: 0.8872\n",
      "Epoch 3/10\n",
      "16/16 [==============================] - 12s 797ms/step - loss: 1.9538 - accuracy: 0.4642 - val_loss: 0.3608 - val_accuracy: 0.9079\n",
      "Epoch 4/10\n",
      "16/16 [==============================] - 12s 763ms/step - loss: 1.6868 - accuracy: 0.5264 - val_loss: 0.6117 - val_accuracy: 0.8413\n",
      "Epoch 5/10\n",
      "16/16 [==============================] - 12s 761ms/step - loss: 1.5700 - accuracy: 0.5581 - val_loss: 0.5861 - val_accuracy: 0.8341\n",
      "Epoch 6/10\n",
      "16/16 [==============================] - 13s 851ms/step - loss: 1.2894 - accuracy: 0.6163 - val_loss: 0.4818 - val_accuracy: 0.8722\n",
      "Epoch 7/10\n",
      "16/16 [==============================] - 12s 768ms/step - loss: 1.0944 - accuracy: 0.6719 - val_loss: 0.5481 - val_accuracy: 0.8507\n",
      "Epoch 8/10\n",
      "16/16 [==============================] - 12s 787ms/step - loss: 1.0356 - accuracy: 0.6944 - val_loss: 0.6533 - val_accuracy: 0.8377\n",
      "Epoch 9/10\n",
      "16/16 [==============================] - 13s 819ms/step - loss: 0.9610 - accuracy: 0.7104 - val_loss: 0.4623 - val_accuracy: 0.8678\n",
      "Epoch 10/10\n",
      "16/16 [==============================] - 13s 815ms/step - loss: 0.8108 - accuracy: 0.7810 - val_loss: 0.6727 - val_accuracy: 0.8262\n",
      "Duration: 0:02:04.331779\n"
     ]
    }
   ],
   "source": [
    "print(n)\n",
    "models_lsa[n].fit_model(image_sets_lsa[n],label_sets_lsa[n],x_val,y_val)\n",
    "n = n+1"
   ]
  },
  {
   "cell_type": "code",
   "execution_count": 27,
   "id": "681edfc1",
   "metadata": {},
   "outputs": [
    {
     "name": "stdout",
     "output_type": "stream",
     "text": [
      "4\n",
      "Epoch 1/10\n",
      "20/20 [==============================] - 20s 901ms/step - loss: 3.9175 - accuracy: 0.1464 - val_loss: 0.3362 - val_accuracy: 0.9242\n",
      "Epoch 2/10\n",
      "20/20 [==============================] - 15s 782ms/step - loss: 2.2183 - accuracy: 0.4050 - val_loss: 0.4456 - val_accuracy: 0.8793\n",
      "Epoch 3/10\n",
      "20/20 [==============================] - 14s 721ms/step - loss: 1.6717 - accuracy: 0.5586 - val_loss: 0.3765 - val_accuracy: 0.9007\n",
      "Epoch 4/10\n",
      "20/20 [==============================] - 13s 682ms/step - loss: 1.4210 - accuracy: 0.5903 - val_loss: 0.6646 - val_accuracy: 0.8528\n",
      "Epoch 5/10\n",
      "20/20 [==============================] - 13s 685ms/step - loss: 1.1816 - accuracy: 0.6560 - val_loss: 0.4437 - val_accuracy: 0.8798\n",
      "Epoch 6/10\n",
      "20/20 [==============================] - 13s 678ms/step - loss: 1.0894 - accuracy: 0.6816 - val_loss: 0.9266 - val_accuracy: 0.8461\n",
      "Epoch 7/10\n",
      "20/20 [==============================] - 13s 681ms/step - loss: 0.9826 - accuracy: 0.7174 - val_loss: 0.4949 - val_accuracy: 0.8711\n",
      "Epoch 8/10\n",
      "20/20 [==============================] - 13s 688ms/step - loss: 0.8988 - accuracy: 0.7295 - val_loss: 1.0328 - val_accuracy: 0.7798\n",
      "Epoch 9/10\n",
      "20/20 [==============================] - 13s 680ms/step - loss: 0.7414 - accuracy: 0.7714 - val_loss: 0.5108 - val_accuracy: 0.8676\n",
      "Epoch 10/10\n",
      "20/20 [==============================] - 13s 677ms/step - loss: 0.7212 - accuracy: 0.7943 - val_loss: 0.6451 - val_accuracy: 0.8301\n",
      "Duration: 0:02:22.809425\n"
     ]
    }
   ],
   "source": [
    "print(n) #4\n",
    "models_lsa[n].fit_model(image_sets_lsa[n],label_sets_lsa[n],x_val,y_val)\n",
    "n = n+1"
   ]
  },
  {
   "cell_type": "code",
   "execution_count": 28,
   "id": "d6645eca",
   "metadata": {},
   "outputs": [
    {
     "name": "stdout",
     "output_type": "stream",
     "text": [
      "5\n",
      "Epoch 1/10\n",
      "24/24 [==============================] - 17s 639ms/step - loss: 3.5831 - accuracy: 0.1742 - val_loss: 0.6377 - val_accuracy: 0.8428\n",
      "Epoch 2/10\n",
      "24/24 [==============================] - 15s 623ms/step - loss: 2.0734 - accuracy: 0.4248 - val_loss: 0.3754 - val_accuracy: 0.9038\n",
      "Epoch 3/10\n",
      "24/24 [==============================] - 15s 626ms/step - loss: 1.6317 - accuracy: 0.5387 - val_loss: 0.8183 - val_accuracy: 0.8188\n",
      "Epoch 4/10\n",
      "24/24 [==============================] - 15s 625ms/step - loss: 1.3804 - accuracy: 0.6001 - val_loss: 1.0078 - val_accuracy: 0.8007\n",
      "Epoch 5/10\n",
      "24/24 [==============================] - 15s 625ms/step - loss: 1.2140 - accuracy: 0.6540 - val_loss: 0.5546 - val_accuracy: 0.8400\n",
      "Epoch 6/10\n",
      "24/24 [==============================] - 15s 629ms/step - loss: 1.0832 - accuracy: 0.6828 - val_loss: 0.5045 - val_accuracy: 0.8686\n",
      "Epoch 7/10\n",
      "24/24 [==============================] - 15s 626ms/step - loss: 0.9630 - accuracy: 0.7259 - val_loss: 0.4825 - val_accuracy: 0.8584\n",
      "Epoch 8/10\n",
      "24/24 [==============================] - 15s 637ms/step - loss: 0.8231 - accuracy: 0.7530 - val_loss: 0.9870 - val_accuracy: 0.7836\n",
      "Epoch 9/10\n",
      "24/24 [==============================] - 15s 627ms/step - loss: 0.7222 - accuracy: 0.7942 - val_loss: 0.6914 - val_accuracy: 0.8403\n",
      "Epoch 10/10\n",
      "24/24 [==============================] - 15s 653ms/step - loss: 0.6678 - accuracy: 0.7861 - val_loss: 0.5583 - val_accuracy: 0.8492\n",
      "Duration: 0:02:31.117879\n"
     ]
    }
   ],
   "source": [
    "print(n)\n",
    "models_lsa[n].fit_model(image_sets_lsa[n],label_sets_lsa[n],x_val,y_val)\n",
    "n = n+1"
   ]
  },
  {
   "cell_type": "code",
   "execution_count": 29,
   "id": "bd1521fb",
   "metadata": {},
   "outputs": [
    {
     "name": "stdout",
     "output_type": "stream",
     "text": [
      "6\n",
      "Epoch 1/10\n",
      "28/28 [==============================] - 18s 599ms/step - loss: 3.6114 - accuracy: 0.1782 - val_loss: 0.2712 - val_accuracy: 0.9426\n",
      "Epoch 2/10\n",
      "28/28 [==============================] - 16s 592ms/step - loss: 2.0096 - accuracy: 0.4491 - val_loss: 0.2889 - val_accuracy: 0.9296\n",
      "Epoch 3/10\n",
      "28/28 [==============================] - 17s 611ms/step - loss: 1.5402 - accuracy: 0.5680 - val_loss: 0.2986 - val_accuracy: 0.9270\n",
      "Epoch 4/10\n",
      "28/28 [==============================] - 17s 601ms/step - loss: 1.3069 - accuracy: 0.6342 - val_loss: 0.4019 - val_accuracy: 0.8806\n",
      "Epoch 5/10\n",
      "28/28 [==============================] - 16s 584ms/step - loss: 1.1021 - accuracy: 0.6774 - val_loss: 0.4568 - val_accuracy: 0.8750\n",
      "Epoch 6/10\n",
      "28/28 [==============================] - 17s 613ms/step - loss: 0.9449 - accuracy: 0.7082 - val_loss: 0.4193 - val_accuracy: 0.8834\n",
      "Epoch 7/10\n",
      "28/28 [==============================] - 17s 602ms/step - loss: 0.8230 - accuracy: 0.7459 - val_loss: 0.5524 - val_accuracy: 0.8625\n",
      "Epoch 8/10\n",
      "28/28 [==============================] - 16s 574ms/step - loss: 0.7438 - accuracy: 0.7571 - val_loss: 1.1174 - val_accuracy: 0.8142\n",
      "Epoch 9/10\n",
      "28/28 [==============================] - 16s 589ms/step - loss: 0.7192 - accuracy: 0.7955 - val_loss: 0.8879 - val_accuracy: 0.8176\n",
      "Epoch 10/10\n",
      "28/28 [==============================] - 16s 581ms/step - loss: 0.5247 - accuracy: 0.8280 - val_loss: 0.6195 - val_accuracy: 0.8602\n",
      "Duration: 0:02:46.453456\n"
     ]
    }
   ],
   "source": [
    "print(n)\n",
    "models_lsa[n].fit_model(image_sets_lsa[n],label_sets_lsa[n],x_val,y_val)\n",
    "n = n+1"
   ]
  },
  {
   "cell_type": "code",
   "execution_count": 30,
   "id": "ec3ff3ad",
   "metadata": {},
   "outputs": [
    {
     "name": "stdout",
     "output_type": "stream",
     "text": [
      "7\n",
      "Epoch 1/10\n",
      "32/32 [==============================] - 20s 559ms/step - loss: 3.5522 - accuracy: 0.1758 - val_loss: 0.2494 - val_accuracy: 0.9510\n",
      "Epoch 2/10\n",
      "32/32 [==============================] - 20s 642ms/step - loss: 1.9313 - accuracy: 0.4828 - val_loss: 0.4006 - val_accuracy: 0.9099\n",
      "Epoch 3/10\n",
      "32/32 [==============================] - 21s 675ms/step - loss: 1.5328 - accuracy: 0.5670 - val_loss: 0.9031 - val_accuracy: 0.8546\n",
      "Epoch 4/10\n",
      "32/32 [==============================] - 20s 628ms/step - loss: 1.2998 - accuracy: 0.6304 - val_loss: 0.5034 - val_accuracy: 0.8691\n",
      "Epoch 5/10\n",
      "32/32 [==============================] - 21s 677ms/step - loss: 1.0399 - accuracy: 0.6947 - val_loss: 0.3811 - val_accuracy: 0.8987\n",
      "Epoch 6/10\n",
      "32/32 [==============================] - 20s 625ms/step - loss: 0.9336 - accuracy: 0.7309 - val_loss: 0.8600 - val_accuracy: 0.7959\n",
      "Epoch 7/10\n",
      "32/32 [==============================] - 18s 556ms/step - loss: 0.8114 - accuracy: 0.7604 - val_loss: 0.3254 - val_accuracy: 0.9138\n",
      "Epoch 8/10\n",
      "32/32 [==============================] - 18s 553ms/step - loss: 0.6865 - accuracy: 0.7937 - val_loss: 1.0111 - val_accuracy: 0.8594\n",
      "Epoch 9/10\n",
      "32/32 [==============================] - 17s 550ms/step - loss: 0.6929 - accuracy: 0.7978 - val_loss: 3.1437 - val_accuracy: 0.7709\n",
      "Epoch 10/10\n",
      "32/32 [==============================] - 17s 551ms/step - loss: 0.5687 - accuracy: 0.8270 - val_loss: 1.0424 - val_accuracy: 0.8051\n",
      "Duration: 0:03:12.514807\n"
     ]
    }
   ],
   "source": [
    "print(n)\n",
    "models_lsa[n].fit_model(image_sets_lsa[n],label_sets_lsa[n],x_val,y_val)\n",
    "n = n+1"
   ]
  },
  {
   "cell_type": "code",
   "execution_count": 31,
   "id": "514d4de3",
   "metadata": {},
   "outputs": [
    {
     "name": "stdout",
     "output_type": "stream",
     "text": [
      "8\n",
      "Epoch 1/10\n",
      "36/36 [==============================] - 21s 537ms/step - loss: 3.3550 - accuracy: 0.1955 - val_loss: 0.2637 - val_accuracy: 0.9329\n",
      "Epoch 2/10\n",
      "36/36 [==============================] - 19s 532ms/step - loss: 1.8027 - accuracy: 0.4994 - val_loss: 0.5209 - val_accuracy: 0.8632\n",
      "Epoch 3/10\n",
      "36/36 [==============================] - 19s 530ms/step - loss: 1.4917 - accuracy: 0.5803 - val_loss: 0.5402 - val_accuracy: 0.8410\n",
      "Epoch 4/10\n",
      "36/36 [==============================] - 19s 537ms/step - loss: 1.1321 - accuracy: 0.6743 - val_loss: 0.8409 - val_accuracy: 0.8035\n",
      "Epoch 5/10\n",
      "36/36 [==============================] - 19s 530ms/step - loss: 1.0347 - accuracy: 0.6894 - val_loss: 0.4713 - val_accuracy: 0.8849\n",
      "Epoch 6/10\n",
      "36/36 [==============================] - 19s 530ms/step - loss: 0.8605 - accuracy: 0.7399 - val_loss: 0.3901 - val_accuracy: 0.8944\n",
      "Epoch 7/10\n",
      "36/36 [==============================] - 19s 531ms/step - loss: 0.7403 - accuracy: 0.7730 - val_loss: 0.7533 - val_accuracy: 0.8410\n",
      "Epoch 8/10\n",
      "36/36 [==============================] - 19s 531ms/step - loss: 0.6539 - accuracy: 0.8021 - val_loss: 1.1502 - val_accuracy: 0.8104\n",
      "Epoch 9/10\n",
      "36/36 [==============================] - 19s 543ms/step - loss: 0.5780 - accuracy: 0.8238 - val_loss: 1.4235 - val_accuracy: 0.7862\n",
      "Epoch 10/10\n",
      "36/36 [==============================] - 19s 532ms/step - loss: 0.5599 - accuracy: 0.8357 - val_loss: 0.5594 - val_accuracy: 0.8441\n",
      "Duration: 0:03:12.825128\n"
     ]
    }
   ],
   "source": [
    "print(n)\n",
    "models_lsa[n].fit_model(image_sets_lsa[n],label_sets_lsa[n],x_val,y_val)\n",
    "n = n+1"
   ]
  },
  {
   "cell_type": "code",
   "execution_count": 32,
   "id": "1283b165",
   "metadata": {},
   "outputs": [
    {
     "name": "stdout",
     "output_type": "stream",
     "text": [
      "9\n",
      "Epoch 1/10\n",
      "40/40 [==============================] - 23s 523ms/step - loss: 3.1776 - accuracy: 0.2229 - val_loss: 0.8105 - val_accuracy: 0.8045\n",
      "Epoch 2/10\n",
      "40/40 [==============================] - 20s 515ms/step - loss: 1.8561 - accuracy: 0.4900 - val_loss: 0.8068 - val_accuracy: 0.8010\n",
      "Epoch 3/10\n",
      "40/40 [==============================] - 20s 514ms/step - loss: 1.4262 - accuracy: 0.5866 - val_loss: 1.0849 - val_accuracy: 0.7275\n",
      "Epoch 4/10\n",
      "40/40 [==============================] - 21s 528ms/step - loss: 1.1136 - accuracy: 0.6731 - val_loss: 0.6155 - val_accuracy: 0.8336\n",
      "Epoch 5/10\n",
      "40/40 [==============================] - 21s 518ms/step - loss: 0.9356 - accuracy: 0.7205 - val_loss: 1.1364 - val_accuracy: 0.7122\n",
      "Epoch 6/10\n",
      "40/40 [==============================] - 21s 522ms/step - loss: 0.8683 - accuracy: 0.7479 - val_loss: 0.5123 - val_accuracy: 0.8620\n",
      "Epoch 7/10\n",
      "40/40 [==============================] - 21s 526ms/step - loss: 0.7173 - accuracy: 0.7822 - val_loss: 0.8163 - val_accuracy: 0.7977\n",
      "Epoch 8/10\n",
      "40/40 [==============================] - 22s 541ms/step - loss: 0.6313 - accuracy: 0.8020 - val_loss: 1.4341 - val_accuracy: 0.7681\n",
      "Epoch 9/10\n",
      "40/40 [==============================] - 26s 646ms/step - loss: 0.5194 - accuracy: 0.8468 - val_loss: 0.6258 - val_accuracy: 0.8390\n",
      "Epoch 10/10\n",
      "40/40 [==============================] - 21s 531ms/step - loss: 0.4638 - accuracy: 0.8603 - val_loss: 2.8868 - val_accuracy: 0.7117\n",
      "Duration: 0:03:35.267112\n"
     ]
    }
   ],
   "source": [
    "print(n)#9\n",
    "models_lsa[n].fit_model(image_sets_lsa[n],label_sets_lsa[n],x_val,y_val)\n",
    "n = n+1"
   ]
  },
  {
   "cell_type": "code",
   "execution_count": 20,
   "id": "f9bbeb00",
   "metadata": {},
   "outputs": [
    {
     "name": "stdout",
     "output_type": "stream",
     "text": [
      "10\n",
      "Epoch 1/10\n",
      "43/43 [==============================] - 31s 567ms/step - loss: 3.3377 - accuracy: 0.2229 - val_loss: 0.4869 - val_accuracy: 0.8775\n",
      "Epoch 2/10\n",
      "43/43 [==============================] - 25s 578ms/step - loss: 1.7457 - accuracy: 0.5195 - val_loss: 0.2914 - val_accuracy: 0.9257\n",
      "Epoch 3/10\n",
      "43/43 [==============================] - 23s 541ms/step - loss: 1.3617 - accuracy: 0.6077 - val_loss: 0.5306 - val_accuracy: 0.8678\n",
      "Epoch 4/10\n",
      "43/43 [==============================] - 23s 536ms/step - loss: 1.1069 - accuracy: 0.6772 - val_loss: 0.5143 - val_accuracy: 0.8533\n",
      "Epoch 5/10\n",
      "43/43 [==============================] - 24s 554ms/step - loss: 0.8834 - accuracy: 0.7330 - val_loss: 0.5179 - val_accuracy: 0.8563\n",
      "Epoch 6/10\n",
      "43/43 [==============================] - 24s 558ms/step - loss: 0.7482 - accuracy: 0.7713 - val_loss: 0.6618 - val_accuracy: 0.8387\n",
      "Epoch 7/10\n",
      "43/43 [==============================] - 24s 567ms/step - loss: 0.6088 - accuracy: 0.8147 - val_loss: 0.5262 - val_accuracy: 0.8530\n",
      "Epoch 8/10\n",
      "43/43 [==============================] - 24s 557ms/step - loss: 0.5288 - accuracy: 0.8401 - val_loss: 0.6728 - val_accuracy: 0.8216\n",
      "Epoch 9/10\n",
      "43/43 [==============================] - 24s 552ms/step - loss: 0.4382 - accuracy: 0.8655 - val_loss: 0.9508 - val_accuracy: 0.7885\n",
      "Epoch 10/10\n",
      "43/43 [==============================] - 24s 560ms/step - loss: 0.4178 - accuracy: 0.8690 - val_loss: 0.6173 - val_accuracy: 0.8438\n",
      "Duration: 0:04:04.664659\n"
     ]
    }
   ],
   "source": [
    "n=10\n",
    "print(n)\n",
    "models_lsa[n].fit_model(image_sets_lsa[n],label_sets_lsa[n],x_val,y_val)\n",
    "n = n+1"
   ]
  },
  {
   "cell_type": "code",
   "execution_count": 21,
   "id": "fcc0bfc7",
   "metadata": {},
   "outputs": [
    {
     "name": "stdout",
     "output_type": "stream",
     "text": [
      "11\n",
      "Epoch 1/10\n",
      "47/47 [==============================] - 27s 534ms/step - loss: 3.2659 - accuracy: 0.2122 - val_loss: 0.2722 - val_accuracy: 0.9411\n",
      "Epoch 2/10\n",
      "47/47 [==============================] - 25s 538ms/step - loss: 1.6274 - accuracy: 0.5331 - val_loss: 0.6497 - val_accuracy: 0.8423\n",
      "Epoch 3/10\n",
      "47/47 [==============================] - 25s 531ms/step - loss: 1.2354 - accuracy: 0.6403 - val_loss: 0.4557 - val_accuracy: 0.8671\n",
      "Epoch 4/10\n",
      "47/47 [==============================] - 25s 537ms/step - loss: 0.9467 - accuracy: 0.7157 - val_loss: 0.7293 - val_accuracy: 0.8140\n",
      "Epoch 5/10\n",
      "47/47 [==============================] - 25s 533ms/step - loss: 0.8361 - accuracy: 0.7559 - val_loss: 1.4970 - val_accuracy: 0.7678\n",
      "Epoch 6/10\n",
      "47/47 [==============================] - 26s 545ms/step - loss: 0.6829 - accuracy: 0.7960 - val_loss: 1.2414 - val_accuracy: 0.7956\n",
      "Epoch 7/10\n",
      "47/47 [==============================] - 25s 533ms/step - loss: 0.6583 - accuracy: 0.8099 - val_loss: 0.6445 - val_accuracy: 0.8301\n",
      "Epoch 8/10\n",
      "47/47 [==============================] - 26s 550ms/step - loss: 0.4706 - accuracy: 0.8559 - val_loss: 1.2539 - val_accuracy: 0.8119\n",
      "Epoch 9/10\n",
      "47/47 [==============================] - 25s 537ms/step - loss: 0.4633 - accuracy: 0.8681 - val_loss: 0.6884 - val_accuracy: 0.8377\n",
      "Epoch 10/10\n",
      "47/47 [==============================] - 25s 538ms/step - loss: 0.4418 - accuracy: 0.8779 - val_loss: 0.8226 - val_accuracy: 0.7864\n",
      "Duration: 0:04:13.509418\n"
     ]
    }
   ],
   "source": [
    "print(n)\n",
    "models_lsa[n].fit_model(image_sets_lsa[n],label_sets_lsa[n],x_val,y_val)\n",
    "n = n+1"
   ]
  },
  {
   "cell_type": "code",
   "execution_count": 22,
   "id": "13facd5c",
   "metadata": {},
   "outputs": [
    {
     "name": "stdout",
     "output_type": "stream",
     "text": [
      "12\n",
      "Epoch 1/10\n",
      "51/51 [==============================] - 29s 534ms/step - loss: 3.2241 - accuracy: 0.2306 - val_loss: 0.2920 - val_accuracy: 0.9191\n",
      "Epoch 2/10\n",
      "51/51 [==============================] - 27s 525ms/step - loss: 1.6157 - accuracy: 0.5501 - val_loss: 0.3915 - val_accuracy: 0.8964\n",
      "Epoch 3/10\n",
      "51/51 [==============================] - 27s 523ms/step - loss: 1.1829 - accuracy: 0.6551 - val_loss: 0.4482 - val_accuracy: 0.8714\n",
      "Epoch 4/10\n",
      "51/51 [==============================] - 27s 534ms/step - loss: 0.9630 - accuracy: 0.7089 - val_loss: 0.4380 - val_accuracy: 0.8854\n",
      "Epoch 5/10\n",
      "51/51 [==============================] - 27s 526ms/step - loss: 0.8389 - accuracy: 0.7511 - val_loss: 1.3853 - val_accuracy: 0.7913\n",
      "Epoch 6/10\n",
      "51/51 [==============================] - 27s 532ms/step - loss: 0.7028 - accuracy: 0.7982 - val_loss: 0.6190 - val_accuracy: 0.8392\n",
      "Epoch 7/10\n",
      "51/51 [==============================] - 27s 528ms/step - loss: 0.5664 - accuracy: 0.8256 - val_loss: 0.7704 - val_accuracy: 0.8247\n",
      "Epoch 8/10\n",
      "51/51 [==============================] - 27s 534ms/step - loss: 0.5425 - accuracy: 0.8403 - val_loss: 0.7298 - val_accuracy: 0.8122\n",
      "Epoch 9/10\n",
      "51/51 [==============================] - 27s 535ms/step - loss: 0.3853 - accuracy: 0.8807 - val_loss: 0.4854 - val_accuracy: 0.8762\n",
      "Epoch 10/10\n",
      "51/51 [==============================] - 27s 530ms/step - loss: 0.3930 - accuracy: 0.8820 - val_loss: 0.6538 - val_accuracy: 0.8329\n",
      "Duration: 0:04:31.520863\n"
     ]
    }
   ],
   "source": [
    "print(n)\n",
    "models_lsa[n].fit_model(image_sets_lsa[n],label_sets_lsa[n],x_val,y_val)\n",
    "n = n+1"
   ]
  },
  {
   "cell_type": "code",
   "execution_count": 23,
   "id": "ad7f0043",
   "metadata": {},
   "outputs": [
    {
     "name": "stdout",
     "output_type": "stream",
     "text": [
      "13\n",
      "Epoch 1/10\n",
      "55/55 [==============================] - 32s 561ms/step - loss: 3.0156 - accuracy: 0.2665 - val_loss: 0.4400 - val_accuracy: 0.8949\n",
      "Epoch 2/10\n",
      "55/55 [==============================] - 26s 482ms/step - loss: 1.5227 - accuracy: 0.5734 - val_loss: 0.4081 - val_accuracy: 0.8844\n",
      "Epoch 3/10\n",
      "55/55 [==============================] - 26s 479ms/step - loss: 1.0820 - accuracy: 0.6754 - val_loss: 0.6279 - val_accuracy: 0.8398\n",
      "Epoch 4/10\n",
      "55/55 [==============================] - 27s 496ms/step - loss: 0.8419 - accuracy: 0.7478 - val_loss: 0.8136 - val_accuracy: 0.7834\n",
      "Epoch 5/10\n",
      "55/55 [==============================] - 27s 487ms/step - loss: 0.6896 - accuracy: 0.7865 - val_loss: 0.6239 - val_accuracy: 0.8426\n",
      "Epoch 6/10\n",
      "55/55 [==============================] - 27s 492ms/step - loss: 0.5997 - accuracy: 0.8175 - val_loss: 0.9368 - val_accuracy: 0.8022\n",
      "Epoch 7/10\n",
      "55/55 [==============================] - 27s 489ms/step - loss: 0.5422 - accuracy: 0.8425 - val_loss: 0.7752 - val_accuracy: 0.7900\n",
      "Epoch 8/10\n",
      "55/55 [==============================] - 27s 489ms/step - loss: 0.4345 - accuracy: 0.8640 - val_loss: 0.7516 - val_accuracy: 0.8020\n",
      "Epoch 9/10\n",
      "55/55 [==============================] - 30s 542ms/step - loss: 0.3775 - accuracy: 0.8814 - val_loss: 0.8271 - val_accuracy: 0.7992\n",
      "Epoch 10/10\n",
      "55/55 [==============================] - 31s 570ms/step - loss: 0.3174 - accuracy: 0.9054 - val_loss: 0.7496 - val_accuracy: 0.8127\n",
      "Duration: 0:04:40.638517\n"
     ]
    }
   ],
   "source": [
    "print(n)\n",
    "models_lsa[n].fit_model(image_sets_lsa[n],label_sets_lsa[n],x_val,y_val)\n",
    "n = n+1"
   ]
  },
  {
   "cell_type": "code",
   "execution_count": 24,
   "id": "419551ee",
   "metadata": {},
   "outputs": [
    {
     "name": "stdout",
     "output_type": "stream",
     "text": [
      "14\n",
      "Epoch 1/10\n",
      "59/59 [==============================] - 35s 565ms/step - loss: 2.8399 - accuracy: 0.3024 - val_loss: 0.4662 - val_accuracy: 0.8742\n",
      "Epoch 2/10\n",
      "59/59 [==============================] - 34s 571ms/step - loss: 1.4274 - accuracy: 0.6024 - val_loss: 0.5390 - val_accuracy: 0.8533\n",
      "Epoch 3/10\n",
      "59/59 [==============================] - 32s 541ms/step - loss: 1.0957 - accuracy: 0.6798 - val_loss: 0.4719 - val_accuracy: 0.8614\n",
      "Epoch 4/10\n",
      "59/59 [==============================] - 30s 517ms/step - loss: 0.8593 - accuracy: 0.7510 - val_loss: 0.5552 - val_accuracy: 0.8426\n",
      "Epoch 5/10\n",
      "59/59 [==============================] - 33s 553ms/step - loss: 0.6803 - accuracy: 0.7943 - val_loss: 0.7476 - val_accuracy: 0.7923\n",
      "Epoch 6/10\n",
      "59/59 [==============================] - 31s 531ms/step - loss: 0.5822 - accuracy: 0.8214 - val_loss: 0.8247 - val_accuracy: 0.7844\n",
      "Epoch 7/10\n",
      "59/59 [==============================] - 30s 510ms/step - loss: 0.5263 - accuracy: 0.8370 - val_loss: 0.8219 - val_accuracy: 0.7732\n",
      "Epoch 8/10\n",
      "59/59 [==============================] - 29s 486ms/step - loss: 0.3955 - accuracy: 0.8821 - val_loss: 0.8408 - val_accuracy: 0.7923\n",
      "Epoch 9/10\n",
      "59/59 [==============================] - 29s 485ms/step - loss: 0.3645 - accuracy: 0.8943 - val_loss: 0.7709 - val_accuracy: 0.8354\n",
      "Epoch 10/10\n",
      "59/59 [==============================] - 29s 485ms/step - loss: 0.3027 - accuracy: 0.9000 - val_loss: 0.8401 - val_accuracy: 0.8099\n",
      "Duration: 0:05:10.523384\n"
     ]
    }
   ],
   "source": [
    "print(n)#14\n",
    "models_lsa[n].fit_model(image_sets_lsa[n],label_sets_lsa[n],x_val,y_val)\n",
    "n = n+1"
   ]
  },
  {
   "cell_type": "code",
   "execution_count": 17,
   "id": "60f36b0b",
   "metadata": {},
   "outputs": [
    {
     "name": "stdout",
     "output_type": "stream",
     "text": [
      "15\n",
      "Epoch 1/10\n",
      "63/63 [==============================] - 45s 477ms/step - loss: 2.6900 - accuracy: 0.3290 - val_loss: 0.4312 - val_accuracy: 0.8880\n",
      "Epoch 2/10\n",
      "63/63 [==============================] - 29s 467ms/step - loss: 1.3396 - accuracy: 0.6141 - val_loss: 0.4636 - val_accuracy: 0.8699\n",
      "Epoch 3/10\n",
      "63/63 [==============================] - 30s 474ms/step - loss: 0.9693 - accuracy: 0.7134 - val_loss: 0.5396 - val_accuracy: 0.8472\n",
      "Epoch 4/10\n",
      "63/63 [==============================] - 30s 478ms/step - loss: 0.7975 - accuracy: 0.7607 - val_loss: 0.6281 - val_accuracy: 0.8553\n",
      "Epoch 5/10\n",
      "63/63 [==============================] - 30s 477ms/step - loss: 0.6550 - accuracy: 0.8069 - val_loss: 0.5151 - val_accuracy: 0.8574\n",
      "Epoch 6/10\n",
      "63/63 [==============================] - 30s 476ms/step - loss: 0.5339 - accuracy: 0.8459 - val_loss: 0.5740 - val_accuracy: 0.8538\n",
      "Epoch 7/10\n",
      "63/63 [==============================] - 30s 476ms/step - loss: 0.4891 - accuracy: 0.8482 - val_loss: 0.4616 - val_accuracy: 0.8719\n",
      "Epoch 8/10\n",
      "63/63 [==============================] - 30s 482ms/step - loss: 0.4413 - accuracy: 0.8695 - val_loss: 0.6577 - val_accuracy: 0.8395\n",
      "Epoch 9/10\n",
      "63/63 [==============================] - 31s 488ms/step - loss: 0.3624 - accuracy: 0.8905 - val_loss: 0.7852 - val_accuracy: 0.7941\n",
      "Epoch 10/10\n",
      "63/63 [==============================] - 29s 456ms/step - loss: 0.3115 - accuracy: 0.9112 - val_loss: 0.4886 - val_accuracy: 0.8811\n",
      "Duration: 0:05:14.324950\n"
     ]
    }
   ],
   "source": [
    "n=15\n",
    "print(n)\n",
    "models_lsa[n].fit_model(image_sets_lsa[n],label_sets_lsa[n],x_val,y_val)\n",
    "n = n+1"
   ]
  },
  {
   "cell_type": "code",
   "execution_count": 18,
   "id": "b0203db1",
   "metadata": {},
   "outputs": [
    {
     "name": "stdout",
     "output_type": "stream",
     "text": [
      "16\n",
      "Epoch 1/10\n",
      "67/67 [==============================] - 33s 463ms/step - loss: 2.7622 - accuracy: 0.3196 - val_loss: 0.6525 - val_accuracy: 0.8122\n",
      "Epoch 2/10\n",
      "67/67 [==============================] - 30s 452ms/step - loss: 1.3844 - accuracy: 0.6025 - val_loss: 0.6272 - val_accuracy: 0.8288\n",
      "Epoch 3/10\n",
      "67/67 [==============================] - 30s 454ms/step - loss: 0.9351 - accuracy: 0.7258 - val_loss: 0.8555 - val_accuracy: 0.7793\n",
      "Epoch 4/10\n",
      "67/67 [==============================] - 30s 451ms/step - loss: 0.7510 - accuracy: 0.7752 - val_loss: 0.6740 - val_accuracy: 0.8219\n",
      "Epoch 5/10\n",
      "67/67 [==============================] - 30s 453ms/step - loss: 0.5837 - accuracy: 0.8195 - val_loss: 0.6722 - val_accuracy: 0.8196\n",
      "Epoch 6/10\n",
      "67/67 [==============================] - 32s 485ms/step - loss: 0.5004 - accuracy: 0.8553 - val_loss: 0.8822 - val_accuracy: 0.7739\n",
      "Epoch 7/10\n",
      "67/67 [==============================] - 31s 457ms/step - loss: 0.4140 - accuracy: 0.8768 - val_loss: 1.1524 - val_accuracy: 0.7642\n",
      "Epoch 8/10\n",
      "67/67 [==============================] - 30s 450ms/step - loss: 0.4067 - accuracy: 0.8850 - val_loss: 1.0662 - val_accuracy: 0.7821\n",
      "Epoch 9/10\n",
      "67/67 [==============================] - 31s 462ms/step - loss: 0.3098 - accuracy: 0.9005 - val_loss: 0.9914 - val_accuracy: 0.7966\n",
      "Epoch 10/10\n",
      "67/67 [==============================] - 31s 463ms/step - loss: 0.3171 - accuracy: 0.9094 - val_loss: 0.9228 - val_accuracy: 0.7979\n",
      "Duration: 0:05:08.909805\n"
     ]
    }
   ],
   "source": [
    "print(n)\n",
    "models_lsa[n].fit_model(image_sets_lsa[n],label_sets_lsa[n],x_val,y_val)\n",
    "n = n+1"
   ]
  },
  {
   "cell_type": "code",
   "execution_count": 19,
   "id": "947e9756",
   "metadata": {},
   "outputs": [
    {
     "name": "stdout",
     "output_type": "stream",
     "text": [
      "17\n",
      "Epoch 1/10\n",
      "71/71 [==============================] - 34s 451ms/step - loss: 2.7732 - accuracy: 0.3104 - val_loss: 0.4775 - val_accuracy: 0.8839\n",
      "Epoch 2/10\n",
      "71/71 [==============================] - 32s 448ms/step - loss: 1.3182 - accuracy: 0.6138 - val_loss: 0.4014 - val_accuracy: 0.9056\n",
      "Epoch 3/10\n",
      "71/71 [==============================] - 32s 449ms/step - loss: 0.9428 - accuracy: 0.7241 - val_loss: 0.6403 - val_accuracy: 0.8576\n",
      "Epoch 4/10\n",
      "71/71 [==============================] - 32s 446ms/step - loss: 0.7386 - accuracy: 0.7813 - val_loss: 0.5761 - val_accuracy: 0.8421\n",
      "Epoch 5/10\n",
      "71/71 [==============================] - 32s 446ms/step - loss: 0.6310 - accuracy: 0.8141 - val_loss: 0.6302 - val_accuracy: 0.8221\n",
      "Epoch 6/10\n",
      "71/71 [==============================] - 32s 450ms/step - loss: 0.5474 - accuracy: 0.8364 - val_loss: 0.6121 - val_accuracy: 0.8484\n",
      "Epoch 7/10\n",
      "71/71 [==============================] - 32s 448ms/step - loss: 0.4488 - accuracy: 0.8642 - val_loss: 0.6386 - val_accuracy: 0.8377\n",
      "Epoch 8/10\n",
      "71/71 [==============================] - 32s 447ms/step - loss: 0.3640 - accuracy: 0.8897 - val_loss: 0.8641 - val_accuracy: 0.7683\n",
      "Epoch 9/10\n",
      "71/71 [==============================] - 32s 446ms/step - loss: 0.3437 - accuracy: 0.8907 - val_loss: 0.9460 - val_accuracy: 0.7831\n",
      "Epoch 10/10\n",
      "71/71 [==============================] - 32s 447ms/step - loss: 0.3154 - accuracy: 0.9100 - val_loss: 0.6236 - val_accuracy: 0.8387\n",
      "Duration: 0:05:19.284973\n"
     ]
    }
   ],
   "source": [
    "print(n)\n",
    "models_lsa[n].fit_model(image_sets_lsa[n],label_sets_lsa[n],x_val,y_val)\n",
    "n = n+1"
   ]
  },
  {
   "cell_type": "code",
   "execution_count": 20,
   "id": "b9a0a231",
   "metadata": {},
   "outputs": [
    {
     "name": "stdout",
     "output_type": "stream",
     "text": [
      "18\n",
      "Epoch 1/10\n",
      "75/75 [==============================] - 35s 442ms/step - loss: 2.6945 - accuracy: 0.3490 - val_loss: 0.9348 - val_accuracy: 0.8369\n",
      "Epoch 2/10\n",
      "75/75 [==============================] - 32s 434ms/step - loss: 1.3036 - accuracy: 0.6447 - val_loss: 0.5291 - val_accuracy: 0.8594\n",
      "Epoch 3/10\n",
      "75/75 [==============================] - 33s 440ms/step - loss: 0.9344 - accuracy: 0.7339 - val_loss: 0.6382 - val_accuracy: 0.8293\n",
      "Epoch 4/10\n",
      "75/75 [==============================] - 33s 443ms/step - loss: 0.7347 - accuracy: 0.7903 - val_loss: 0.6565 - val_accuracy: 0.8206\n",
      "Epoch 5/10\n",
      "75/75 [==============================] - 33s 442ms/step - loss: 0.5901 - accuracy: 0.8158 - val_loss: 0.9149 - val_accuracy: 0.7586\n",
      "Epoch 6/10\n",
      "75/75 [==============================] - 33s 442ms/step - loss: 0.4522 - accuracy: 0.8618 - val_loss: 0.7927 - val_accuracy: 0.8104\n",
      "Epoch 7/10\n",
      "75/75 [==============================] - 33s 444ms/step - loss: 0.3995 - accuracy: 0.8829 - val_loss: 0.6927 - val_accuracy: 0.8147\n",
      "Epoch 8/10\n",
      "75/75 [==============================] - 33s 445ms/step - loss: 0.3661 - accuracy: 0.8959 - val_loss: 0.6434 - val_accuracy: 0.8265\n",
      "Epoch 9/10\n",
      "75/75 [==============================] - 33s 442ms/step - loss: 0.3041 - accuracy: 0.9055 - val_loss: 1.0569 - val_accuracy: 0.7721\n",
      "Epoch 10/10\n",
      "75/75 [==============================] - 33s 447ms/step - loss: 0.2927 - accuracy: 0.9183 - val_loss: 1.9032 - val_accuracy: 0.7288\n",
      "Duration: 0:05:32.870302\n"
     ]
    }
   ],
   "source": [
    "print(n)\n",
    "models_lsa[n].fit_model(image_sets_lsa[n],label_sets_lsa[n],x_val,y_val)\n",
    "n = n+1"
   ]
  },
  {
   "cell_type": "code",
   "execution_count": 21,
   "id": "d3a5471a",
   "metadata": {},
   "outputs": [
    {
     "name": "stdout",
     "output_type": "stream",
     "text": [
      "19\n",
      "Epoch 1/10\n",
      "79/79 [==============================] - 42s 454ms/step - loss: 2.4876 - accuracy: 0.3757 - val_loss: 0.4284 - val_accuracy: 0.9066\n",
      "Epoch 2/10\n",
      "79/79 [==============================] - 35s 446ms/step - loss: 1.1859 - accuracy: 0.6580 - val_loss: 0.6252 - val_accuracy: 0.8701\n",
      "Epoch 3/10\n",
      "79/79 [==============================] - 35s 448ms/step - loss: 0.8654 - accuracy: 0.7426 - val_loss: 0.4204 - val_accuracy: 0.9023\n",
      "Epoch 4/10\n",
      "79/79 [==============================] - 36s 453ms/step - loss: 0.7149 - accuracy: 0.7835 - val_loss: 0.6813 - val_accuracy: 0.8147\n",
      "Epoch 5/10\n",
      "79/79 [==============================] - 36s 456ms/step - loss: 0.5590 - accuracy: 0.8269 - val_loss: 0.6346 - val_accuracy: 0.8285\n",
      "Epoch 6/10\n",
      "79/79 [==============================] - 36s 458ms/step - loss: 0.4736 - accuracy: 0.8560 - val_loss: 0.5426 - val_accuracy: 0.8500\n",
      "Epoch 7/10\n",
      "79/79 [==============================] - 36s 453ms/step - loss: 0.4146 - accuracy: 0.8772 - val_loss: 0.6211 - val_accuracy: 0.8303\n",
      "Epoch 8/10\n",
      "79/79 [==============================] - 36s 459ms/step - loss: 0.3754 - accuracy: 0.8956 - val_loss: 0.4686 - val_accuracy: 0.8783\n",
      "Epoch 9/10\n",
      "79/79 [==============================] - 38s 476ms/step - loss: 0.3301 - accuracy: 0.9005 - val_loss: 0.6604 - val_accuracy: 0.8298\n",
      "Epoch 10/10\n",
      "79/79 [==============================] - 37s 463ms/step - loss: 0.2839 - accuracy: 0.9075 - val_loss: 1.0330 - val_accuracy: 0.7829\n",
      "Duration: 0:06:06.950392\n"
     ]
    }
   ],
   "source": [
    "n=19\n",
    "print(n)#19\n",
    "models_lsa[n].fit_model(image_sets_lsa[n],label_sets_lsa[n],x_val,y_val)\n",
    "n = n+1"
   ]
  },
  {
   "cell_type": "code",
   "execution_count": 20,
   "id": "66c44d5f",
   "metadata": {},
   "outputs": [
    {
     "name": "stdout",
     "output_type": "stream",
     "text": [
      "D:/models/gtsrb_models/C3/gtsrb_model_c3_sep_lsa_e2_0\n",
      "Model loaded correctly\n",
      "D:/models/gtsrb_models/C3/gtsrb_model_c3_sep_lsa_e2_1\n",
      "Model loaded correctly\n",
      "D:/models/gtsrb_models/C3/gtsrb_model_c3_sep_lsa_e2_2\n",
      "Model loaded correctly\n",
      "D:/models/gtsrb_models/C3/gtsrb_model_c3_sep_lsa_e2_3\n",
      "Model loaded correctly\n",
      "D:/models/gtsrb_models/C3/gtsrb_model_c3_sep_lsa_e2_4\n",
      "Model loaded correctly\n",
      "D:/models/gtsrb_models/C3/gtsrb_model_c3_sep_lsa_e2_5\n",
      "Model loaded correctly\n",
      "D:/models/gtsrb_models/C3/gtsrb_model_c3_sep_lsa_e2_6\n",
      "Model loaded correctly\n",
      "D:/models/gtsrb_models/C3/gtsrb_model_c3_sep_lsa_e2_7\n",
      "Model loaded correctly\n",
      "D:/models/gtsrb_models/C3/gtsrb_model_c3_sep_lsa_e2_8\n",
      "Model loaded correctly\n",
      "D:/models/gtsrb_models/C3/gtsrb_model_c3_sep_lsa_e2_9\n",
      "Model loaded correctly\n",
      "D:/models/gtsrb_models/C3/gtsrb_model_c3_sep_lsa_e2_10\n",
      "Model loaded correctly\n",
      "D:/models/gtsrb_models/C3/gtsrb_model_c3_sep_lsa_e2_11\n",
      "Model loaded correctly\n",
      "D:/models/gtsrb_models/C3/gtsrb_model_c3_sep_lsa_e2_12\n",
      "Model loaded correctly\n",
      "D:/models/gtsrb_models/C3/gtsrb_model_c3_sep_lsa_e2_13\n",
      "Model loaded correctly\n",
      "D:/models/gtsrb_models/C3/gtsrb_model_c3_sep_lsa_e2_14\n",
      "Model loaded correctly\n",
      "D:/models/gtsrb_models/C3/gtsrb_model_c3_sep_lsa_e2_15\n",
      "Model loaded correctly\n",
      "D:/models/gtsrb_models/C3/gtsrb_model_c3_sep_lsa_e2_16\n",
      "Model loaded correctly\n",
      "D:/models/gtsrb_models/C3/gtsrb_model_c3_sep_lsa_e2_17\n",
      "Model loaded correctly\n",
      "D:/models/gtsrb_models/C3/gtsrb_model_c3_sep_lsa_e2_18\n",
      "Model loaded correctly\n",
      "D:/models/gtsrb_models/C3/gtsrb_model_c3_sep_lsa_e2_19\n",
      "Model loaded correctly\n"
     ]
    }
   ],
   "source": [
    "loading = True\n",
    "\n",
    "models_lsa = []\n",
    "\n",
    "if loading:\n",
    "    for i in range(20):\n",
    "        model_lsa_dir = \"D:/models/gtsrb_models/C3/gtsrb_model_c3_sep_lsa_e2_\"+str(i)\n",
    "        print(model_lsa_dir)\n",
    "        model =utils.My_model('gtsrb',True,model_lsa_dir)\n",
    "        model.model.compile(loss= 'categorical_crossentropy', optimizer = 'rmsprop', metrics = ['accuracy',tf.keras.metrics.Precision(), tf.keras.metrics.Recall()])\n",
    "        models_lsa.append(model)\n",
    "       \n",
    "    "
   ]
  },
  {
   "cell_type": "markdown",
   "id": "a13ef06e",
   "metadata": {},
   "source": [
    "## DSA"
   ]
  },
  {
   "cell_type": "markdown",
   "id": "c3e940af",
   "metadata": {},
   "source": [
    "## Point dsa"
   ]
  },
  {
   "cell_type": "code",
   "execution_count": 22,
   "id": "099c7fa2",
   "metadata": {},
   "outputs": [
    {
     "name": "stdout",
     "output_type": "stream",
     "text": [
      "0 :\n",
      "0  ->  250\n",
      "250\n",
      "1 :\n",
      "0  ->  500\n",
      "500\n",
      "2 :\n",
      "0  ->  750\n",
      "750\n",
      "3 :\n",
      "0  ->  1000\n",
      "1000\n",
      "4 :\n",
      "0  ->  1250\n",
      "1250\n",
      "5 :\n",
      "0  ->  1500\n",
      "1500\n",
      "6 :\n",
      "0  ->  1750\n",
      "1750\n",
      "7 :\n",
      "0  ->  2000\n",
      "2000\n",
      "8 :\n",
      "0  ->  2250\n",
      "2250\n",
      "9 :\n",
      "0  ->  2500\n",
      "2500\n",
      "10 :\n",
      "0  ->  2750\n",
      "2750\n",
      "11 :\n",
      "0  ->  3000\n",
      "3000\n",
      "12 :\n",
      "0  ->  3250\n",
      "3250\n",
      "13 :\n",
      "0  ->  3500\n",
      "3500\n",
      "14 :\n",
      "0  ->  3750\n",
      "3750\n",
      "15 :\n",
      "0  ->  4000\n",
      "4000\n",
      "16 :\n",
      "0  ->  4250\n",
      "4250\n",
      "17 :\n",
      "0  ->  4500\n",
      "4500\n",
      "18 :\n",
      "0  ->  4750\n",
      "4750\n",
      "19 :\n",
      "Last\n",
      "0  ->  5000\n",
      "5000\n"
     ]
    }
   ],
   "source": [
    "m = 250\n",
    "n = 0\n",
    "image_sets_dsa = []\n",
    "label_sets_dsa = []\n",
    "\n",
    "\n",
    "for i in range(len(top_images_by_dsa)//m):\n",
    "    print(i,\":\")\n",
    "    if (i+1 >= len(top_images_by_dsa)//m):\n",
    "        print(\"Last\")\n",
    "        print(0,\" -> \",n+m+(len(top_images_by_dsa)%m))\n",
    "        top_images_by_dsa_n = np.array(top_images_by_dsa[:n+m+(len(top_images_by_dsa)%m)])\n",
    "        top_labels_by_dsa_n = np.array(top_labels_by_dsa[:n+m+(len(top_images_by_dsa)%m)])\n",
    "    else:\n",
    "        print(0,\" -> \",m+n)\n",
    "        top_images_by_dsa_n = np.array(top_images_by_dsa[:n+m])\n",
    "        top_labels_by_dsa_n = np.array(top_labels_by_dsa[:n+m])\n",
    "    image_sets_dsa.append(top_images_by_dsa_n)\n",
    "    label_sets_dsa.append(top_labels_by_dsa_n)\n",
    "    print(len(top_images_by_dsa_n))\n",
    "    n += m\n",
    "\n"
   ]
  },
  {
   "cell_type": "code",
   "execution_count": 23,
   "id": "8713d09c",
   "metadata": {
    "scrolled": true
   },
   "outputs": [
    {
     "name": "stdout",
     "output_type": "stream",
     "text": [
      "C:/Users/fjdur/Desktop/upc/project_notebooks/github_project/DL_notebooks/models/tf_model_25-06\n",
      "0 :\n",
      "Model loaded correctly\n",
      "Model compiled\n",
      "1 :\n",
      "Model loaded correctly\n",
      "Model compiled\n",
      "2 :\n",
      "Model loaded correctly\n",
      "Model compiled\n",
      "3 :\n",
      "Model loaded correctly\n",
      "Model compiled\n",
      "4 :\n",
      "Model loaded correctly\n",
      "Model compiled\n",
      "5 :\n",
      "Model loaded correctly\n",
      "Model compiled\n",
      "6 :\n",
      "Model loaded correctly\n",
      "Model compiled\n",
      "7 :\n",
      "Model loaded correctly\n",
      "Model compiled\n",
      "8 :\n",
      "Model loaded correctly\n",
      "Model compiled\n",
      "9 :\n",
      "Model loaded correctly\n",
      "Model compiled\n",
      "10 :\n",
      "Model loaded correctly\n",
      "Model compiled\n",
      "11 :\n",
      "Model loaded correctly\n",
      "Model compiled\n",
      "12 :\n",
      "Model loaded correctly\n",
      "Model compiled\n",
      "13 :\n",
      "Model loaded correctly\n",
      "Model compiled\n",
      "14 :\n",
      "Model loaded correctly\n",
      "Model compiled\n",
      "15 :\n",
      "Model loaded correctly\n",
      "Model compiled\n",
      "16 :\n",
      "Model loaded correctly\n",
      "Model compiled\n",
      "17 :\n",
      "Model loaded correctly\n",
      "Model compiled\n",
      "18 :\n",
      "Model loaded correctly\n",
      "Model compiled\n",
      "19 :\n",
      "Model loaded correctly\n",
      "Model compiled\n"
     ]
    }
   ],
   "source": [
    "print(model_dir)\n",
    "\n",
    "models_dsa = []\n",
    "for i in range(len(label_sets_dsa)):\n",
    "    print(i,\":\")\n",
    "    model = utils.My_model('gtsrb',True,model_dir)\n",
    "    model.compile_model()\n",
    "    models_dsa.append(model)\n"
   ]
  },
  {
   "cell_type": "code",
   "execution_count": 19,
   "id": "6185e378",
   "metadata": {},
   "outputs": [
    {
     "name": "stdout",
     "output_type": "stream",
     "text": [
      "123/123 [==============================] - 18s 52ms/step - loss: 0.0595 - accuracy: 0.9859\n"
     ]
    },
    {
     "data": {
      "text/plain": [
       "[0.029302377253770828, 0.9928625822067261]"
      ]
     },
     "execution_count": 19,
     "metadata": {},
     "output_type": "execute_result"
    }
   ],
   "source": [
    "models_dsa[1].evaluate(x_test,y_test)"
   ]
  },
  {
   "cell_type": "code",
   "execution_count": 20,
   "id": "2fd23c18",
   "metadata": {},
   "outputs": [],
   "source": [
    "n=0"
   ]
  },
  {
   "cell_type": "code",
   "execution_count": 21,
   "id": "9990e037",
   "metadata": {},
   "outputs": [
    {
     "name": "stdout",
     "output_type": "stream",
     "text": [
      "0\n",
      "Epoch 1/10\n",
      "4/4 [==============================] - 14s 2s/step - loss: 6.8834 - accuracy: 0.0504 - val_loss: 2.0648 - val_accuracy: 0.6683\n",
      "Epoch 2/10\n",
      "4/4 [==============================] - 7s 2s/step - loss: 3.4306 - accuracy: 0.0984 - val_loss: 1.0025 - val_accuracy: 0.8329\n",
      "Epoch 3/10\n",
      "4/4 [==============================] - 7s 2s/step - loss: 3.0765 - accuracy: 0.1973 - val_loss: 0.5459 - val_accuracy: 0.8933\n",
      "Epoch 4/10\n",
      "4/4 [==============================] - 7s 2s/step - loss: 2.8788 - accuracy: 0.2378 - val_loss: 0.7031 - val_accuracy: 0.8385\n",
      "Epoch 5/10\n",
      "4/4 [==============================] - 7s 2s/step - loss: 2.8099 - accuracy: 0.2615 - val_loss: 0.5345 - val_accuracy: 0.8824\n",
      "Epoch 6/10\n",
      "4/4 [==============================] - 8s 3s/step - loss: 2.4950 - accuracy: 0.3706 - val_loss: 0.6959 - val_accuracy: 0.8369\n",
      "Epoch 7/10\n",
      "4/4 [==============================] - 8s 2s/step - loss: 2.3100 - accuracy: 0.3979 - val_loss: 0.7288 - val_accuracy: 0.8369\n",
      "Epoch 8/10\n",
      "4/4 [==============================] - 7s 2s/step - loss: 2.2006 - accuracy: 0.3980 - val_loss: 0.5386 - val_accuracy: 0.8780\n",
      "Epoch 9/10\n",
      "4/4 [==============================] - 7s 2s/step - loss: 2.0996 - accuracy: 0.3955 - val_loss: 0.4761 - val_accuracy: 0.8865\n",
      "Epoch 10/10\n",
      "4/4 [==============================] - 7s 2s/step - loss: 1.9950 - accuracy: 0.4515 - val_loss: 0.5113 - val_accuracy: 0.8719\n",
      "Duration: 0:01:20.693597\n"
     ]
    }
   ],
   "source": [
    "n=0\n",
    "print(n)\n",
    "\n",
    "models_dsa[n].fit_model(image_sets_dsa[n],label_sets_dsa[n],x_val,y_val)\n",
    "n = n+1"
   ]
  },
  {
   "cell_type": "code",
   "execution_count": 22,
   "id": "c24fa024",
   "metadata": {},
   "outputs": [
    {
     "name": "stdout",
     "output_type": "stream",
     "text": [
      "1\n",
      "Epoch 1/10\n",
      "8/8 [==============================] - 11s 1s/step - loss: 4.1316 - accuracy: 0.0740 - val_loss: 0.5670 - val_accuracy: 0.9201\n",
      "Epoch 2/10\n",
      "8/8 [==============================] - 9s 1s/step - loss: 2.8370 - accuracy: 0.2120 - val_loss: 0.8496 - val_accuracy: 0.8660\n",
      "Epoch 3/10\n",
      "8/8 [==============================] - 9s 1s/step - loss: 2.5053 - accuracy: 0.2980 - val_loss: 0.5523 - val_accuracy: 0.9242\n",
      "Epoch 4/10\n",
      "8/8 [==============================] - 9s 1s/step - loss: 2.3730 - accuracy: 0.3280 - val_loss: 0.5642 - val_accuracy: 0.9048\n",
      "Epoch 5/10\n",
      "8/8 [==============================] - 10s 1s/step - loss: 2.0763 - accuracy: 0.4140 - val_loss: 0.4313 - val_accuracy: 0.9115\n",
      "Epoch 6/10\n",
      "8/8 [==============================] - 9s 1s/step - loss: 1.8673 - accuracy: 0.4540 - val_loss: 0.2853 - val_accuracy: 0.9308\n",
      "Epoch 7/10\n",
      "8/8 [==============================] - 9s 1s/step - loss: 1.7009 - accuracy: 0.4980 - val_loss: 0.4011 - val_accuracy: 0.8982\n",
      "Epoch 8/10\n",
      "8/8 [==============================] - 9s 1s/step - loss: 1.5311 - accuracy: 0.5820 - val_loss: 0.3366 - val_accuracy: 0.9135\n",
      "Epoch 9/10\n",
      "8/8 [==============================] - 9s 1s/step - loss: 1.5025 - accuracy: 0.5600 - val_loss: 0.2885 - val_accuracy: 0.9199\n",
      "Epoch 10/10\n",
      "8/8 [==============================] - 9s 1s/step - loss: 1.3742 - accuracy: 0.6240 - val_loss: 0.3569 - val_accuracy: 0.9109\n",
      "Duration: 0:01:33.739877\n"
     ]
    }
   ],
   "source": [
    "n=1\n",
    "print(n)\n",
    "\n",
    "models_dsa[n].fit_model(image_sets_dsa[n],label_sets_dsa[n],x_val,y_val)\n",
    "n = n+1"
   ]
  },
  {
   "cell_type": "code",
   "execution_count": 23,
   "id": "2582ba35",
   "metadata": {},
   "outputs": [
    {
     "name": "stdout",
     "output_type": "stream",
     "text": [
      "2\n",
      "Epoch 1/10\n",
      "12/12 [==============================] - 13s 938ms/step - loss: 4.8344 - accuracy: 0.0628 - val_loss: 0.4893 - val_accuracy: 0.9127\n",
      "Epoch 2/10\n",
      "12/12 [==============================] - 11s 931ms/step - loss: 2.9633 - accuracy: 0.1846 - val_loss: 0.5807 - val_accuracy: 0.9314\n",
      "Epoch 3/10\n",
      "12/12 [==============================] - 10s 909ms/step - loss: 2.4913 - accuracy: 0.2930 - val_loss: 0.3319 - val_accuracy: 0.9334\n",
      "Epoch 4/10\n",
      "12/12 [==============================] - 10s 915ms/step - loss: 1.9906 - accuracy: 0.4066 - val_loss: 0.6092 - val_accuracy: 0.8466\n",
      "Epoch 5/10\n",
      "12/12 [==============================] - 11s 945ms/step - loss: 1.7932 - accuracy: 0.4500 - val_loss: 0.3935 - val_accuracy: 0.8972\n",
      "Epoch 6/10\n",
      "12/12 [==============================] - 11s 977ms/step - loss: 1.5475 - accuracy: 0.5493 - val_loss: 0.2823 - val_accuracy: 0.9275\n",
      "Epoch 7/10\n",
      "12/12 [==============================] - 11s 987ms/step - loss: 1.3930 - accuracy: 0.6001 - val_loss: 0.5598 - val_accuracy: 0.8709\n",
      "Epoch 8/10\n",
      "12/12 [==============================] - 11s 936ms/step - loss: 1.2583 - accuracy: 0.6395 - val_loss: 0.4837 - val_accuracy: 0.8877\n",
      "Epoch 9/10\n",
      "12/12 [==============================] - 11s 960ms/step - loss: 1.2397 - accuracy: 0.6245 - val_loss: 1.0210 - val_accuracy: 0.8007\n",
      "Epoch 10/10\n",
      "12/12 [==============================] - 10s 897ms/step - loss: 1.1607 - accuracy: 0.6589 - val_loss: 0.4032 - val_accuracy: 0.8961\n",
      "Duration: 0:01:49.378891\n"
     ]
    }
   ],
   "source": [
    "n=2\n",
    "print(n)\n",
    "\n",
    "models_dsa[n].fit_model(image_sets_dsa[n],label_sets_dsa[n],x_val,y_val)\n",
    "n = n+1"
   ]
  },
  {
   "cell_type": "code",
   "execution_count": 24,
   "id": "62d686d3",
   "metadata": {},
   "outputs": [
    {
     "name": "stdout",
     "output_type": "stream",
     "text": [
      "3\n",
      "Epoch 1/10\n",
      "16/16 [==============================] - 14s 775ms/step - loss: 4.3140 - accuracy: 0.1229 - val_loss: 0.4379 - val_accuracy: 0.9166\n",
      "Epoch 2/10\n",
      "16/16 [==============================] - 12s 756ms/step - loss: 2.4560 - accuracy: 0.2976 - val_loss: 0.7625 - val_accuracy: 0.8451\n",
      "Epoch 3/10\n",
      "16/16 [==============================] - 12s 754ms/step - loss: 1.9003 - accuracy: 0.4579 - val_loss: 0.5155 - val_accuracy: 0.8678\n",
      "Epoch 4/10\n",
      "16/16 [==============================] - 12s 763ms/step - loss: 1.6593 - accuracy: 0.5366 - val_loss: 1.2807 - val_accuracy: 0.8066\n",
      "Epoch 5/10\n",
      "16/16 [==============================] - 12s 753ms/step - loss: 1.5775 - accuracy: 0.5616 - val_loss: 0.9178 - val_accuracy: 0.8104\n",
      "Epoch 6/10\n",
      "16/16 [==============================] - 12s 759ms/step - loss: 1.2164 - accuracy: 0.6480 - val_loss: 0.9330 - val_accuracy: 0.8209\n",
      "Epoch 7/10\n",
      "16/16 [==============================] - 12s 781ms/step - loss: 1.2289 - accuracy: 0.6397 - val_loss: 0.8559 - val_accuracy: 0.8331\n",
      "Epoch 8/10\n",
      "16/16 [==============================] - 13s 826ms/step - loss: 0.9681 - accuracy: 0.6967 - val_loss: 0.5429 - val_accuracy: 0.8739\n",
      "Epoch 9/10\n",
      "16/16 [==============================] - 13s 820ms/step - loss: 0.8474 - accuracy: 0.7373 - val_loss: 0.8611 - val_accuracy: 0.8232\n",
      "Epoch 10/10\n",
      "16/16 [==============================] - 12s 798ms/step - loss: 0.9001 - accuracy: 0.7258 - val_loss: 1.3921 - val_accuracy: 0.7757\n",
      "Duration: 0:02:02.793649\n"
     ]
    }
   ],
   "source": [
    "print(n)\n",
    "\n",
    "models_dsa[n].fit_model(image_sets_dsa[n],label_sets_dsa[n],x_val,y_val)\n",
    "n = n+1"
   ]
  },
  {
   "cell_type": "code",
   "execution_count": 25,
   "id": "a675c8a7",
   "metadata": {},
   "outputs": [
    {
     "name": "stdout",
     "output_type": "stream",
     "text": [
      "4\n",
      "Epoch 1/10\n",
      "20/20 [==============================] - 16s 713ms/step - loss: 3.8336 - accuracy: 0.1329 - val_loss: 0.2320 - val_accuracy: 0.9314\n",
      "Epoch 2/10\n",
      "20/20 [==============================] - 14s 712ms/step - loss: 2.1836 - accuracy: 0.3881 - val_loss: 1.0080 - val_accuracy: 0.7844\n",
      "Epoch 3/10\n",
      "20/20 [==============================] - 13s 689ms/step - loss: 1.7860 - accuracy: 0.5058 - val_loss: 0.4199 - val_accuracy: 0.8714\n",
      "Epoch 4/10\n",
      "20/20 [==============================] - 13s 686ms/step - loss: 1.5830 - accuracy: 0.5372 - val_loss: 0.5838 - val_accuracy: 0.8479\n",
      "Epoch 5/10\n",
      "20/20 [==============================] - 14s 704ms/step - loss: 1.3706 - accuracy: 0.5912 - val_loss: 0.9608 - val_accuracy: 0.8237\n",
      "Epoch 6/10\n",
      "20/20 [==============================] - 14s 693ms/step - loss: 1.0680 - accuracy: 0.6744 - val_loss: 0.6953 - val_accuracy: 0.8543\n",
      "Epoch 7/10\n",
      "20/20 [==============================] - 14s 735ms/step - loss: 0.9215 - accuracy: 0.7262 - val_loss: 0.7305 - val_accuracy: 0.8247\n",
      "Epoch 8/10\n",
      "20/20 [==============================] - 14s 697ms/step - loss: 0.9397 - accuracy: 0.7264 - val_loss: 1.0035 - val_accuracy: 0.7806\n",
      "Epoch 9/10\n",
      "20/20 [==============================] - 13s 688ms/step - loss: 0.7408 - accuracy: 0.7782 - val_loss: 0.6474 - val_accuracy: 0.8066\n",
      "Epoch 10/10\n",
      "20/20 [==============================] - 13s 681ms/step - loss: 0.6538 - accuracy: 0.8100 - val_loss: 0.8330 - val_accuracy: 0.8280\n",
      "Duration: 0:02:19.053518\n"
     ]
    }
   ],
   "source": [
    "print(n)#4\n",
    "\n",
    "models_dsa[n].fit_model(image_sets_dsa[n],label_sets_dsa[n],x_val,y_val)\n",
    "n = n+1"
   ]
  },
  {
   "cell_type": "code",
   "execution_count": 26,
   "id": "9098044d",
   "metadata": {},
   "outputs": [
    {
     "name": "stdout",
     "output_type": "stream",
     "text": [
      "5\n",
      "Epoch 1/10\n",
      "24/24 [==============================] - 17s 641ms/step - loss: 3.8336 - accuracy: 0.1533 - val_loss: 0.2463 - val_accuracy: 0.9622\n",
      "Epoch 2/10\n",
      "24/24 [==============================] - 15s 630ms/step - loss: 2.1102 - accuracy: 0.3983 - val_loss: 0.6680 - val_accuracy: 0.8635\n",
      "Epoch 3/10\n",
      "24/24 [==============================] - 15s 628ms/step - loss: 1.7393 - accuracy: 0.4857 - val_loss: 0.5492 - val_accuracy: 0.8668\n",
      "Epoch 4/10\n",
      "24/24 [==============================] - 15s 649ms/step - loss: 1.5079 - accuracy: 0.5669 - val_loss: 0.5164 - val_accuracy: 0.8714\n",
      "Epoch 5/10\n",
      "24/24 [==============================] - 15s 630ms/step - loss: 1.2205 - accuracy: 0.6399 - val_loss: 0.4996 - val_accuracy: 0.8729\n",
      "Epoch 6/10\n",
      "24/24 [==============================] - 15s 638ms/step - loss: 1.1049 - accuracy: 0.6797 - val_loss: 0.3409 - val_accuracy: 0.9061\n",
      "Epoch 7/10\n",
      "24/24 [==============================] - 15s 644ms/step - loss: 0.9210 - accuracy: 0.7211 - val_loss: 0.5020 - val_accuracy: 0.8895\n",
      "Epoch 8/10\n",
      "24/24 [==============================] - 15s 647ms/step - loss: 0.7939 - accuracy: 0.7648 - val_loss: 1.0381 - val_accuracy: 0.8155\n",
      "Epoch 9/10\n",
      "24/24 [==============================] - 16s 668ms/step - loss: 0.6803 - accuracy: 0.7957 - val_loss: 1.3701 - val_accuracy: 0.8316\n",
      "Epoch 10/10\n",
      "24/24 [==============================] - 15s 633ms/step - loss: 0.6782 - accuracy: 0.8019 - val_loss: 1.0537 - val_accuracy: 0.8418\n",
      "Duration: 0:02:33.411408\n"
     ]
    }
   ],
   "source": [
    "print(n)\n",
    "\n",
    "models_dsa[n].fit_model(image_sets_dsa[n],label_sets_dsa[n],x_val,y_val)\n",
    "n = n+1"
   ]
  },
  {
   "cell_type": "code",
   "execution_count": 27,
   "id": "5d2e4246",
   "metadata": {},
   "outputs": [
    {
     "name": "stdout",
     "output_type": "stream",
     "text": [
      "6\n",
      "Epoch 1/10\n",
      "28/28 [==============================] - 19s 605ms/step - loss: 3.6123 - accuracy: 0.1654 - val_loss: 0.3762 - val_accuracy: 0.9393\n",
      "Epoch 2/10\n",
      "28/28 [==============================] - 16s 596ms/step - loss: 2.0638 - accuracy: 0.4242 - val_loss: 0.3737 - val_accuracy: 0.8984\n",
      "Epoch 3/10\n",
      "28/28 [==============================] - 17s 596ms/step - loss: 1.5791 - accuracy: 0.5612 - val_loss: 0.4829 - val_accuracy: 0.8921\n",
      "Epoch 4/10\n",
      "28/28 [==============================] - 17s 599ms/step - loss: 1.4039 - accuracy: 0.5735 - val_loss: 0.5562 - val_accuracy: 0.8640\n",
      "Epoch 5/10\n",
      "28/28 [==============================] - 17s 596ms/step - loss: 1.1846 - accuracy: 0.6565 - val_loss: 0.7544 - val_accuracy: 0.8400\n",
      "Epoch 6/10\n",
      "28/28 [==============================] - 17s 608ms/step - loss: 0.9515 - accuracy: 0.7210 - val_loss: 0.6873 - val_accuracy: 0.8729\n",
      "Epoch 7/10\n",
      "28/28 [==============================] - 17s 608ms/step - loss: 0.9061 - accuracy: 0.7230 - val_loss: 0.7293 - val_accuracy: 0.8561\n",
      "Epoch 8/10\n",
      "28/28 [==============================] - 17s 603ms/step - loss: 0.7379 - accuracy: 0.7725 - val_loss: 0.9199 - val_accuracy: 0.8150\n",
      "Epoch 9/10\n",
      "28/28 [==============================] - 17s 604ms/step - loss: 0.6738 - accuracy: 0.8022 - val_loss: 0.6178 - val_accuracy: 0.8459\n",
      "Epoch 10/10\n",
      "28/28 [==============================] - 17s 602ms/step - loss: 0.5504 - accuracy: 0.8268 - val_loss: 1.0993 - val_accuracy: 0.8204\n",
      "Duration: 0:02:48.727202\n"
     ]
    }
   ],
   "source": [
    "print(n)\n",
    "\n",
    "models_dsa[n].fit_model(image_sets_dsa[n],label_sets_dsa[n],x_val,y_val)\n",
    "n = n+1"
   ]
  },
  {
   "cell_type": "code",
   "execution_count": 28,
   "id": "13254a67",
   "metadata": {},
   "outputs": [
    {
     "name": "stdout",
     "output_type": "stream",
     "text": [
      "7\n",
      "Epoch 1/10\n",
      "32/32 [==============================] - 20s 585ms/step - loss: 3.6819 - accuracy: 0.1620 - val_loss: 0.4867 - val_accuracy: 0.9056\n",
      "Epoch 2/10\n",
      "32/32 [==============================] - 18s 573ms/step - loss: 1.9740 - accuracy: 0.4455 - val_loss: 0.4545 - val_accuracy: 0.8770\n",
      "Epoch 3/10\n",
      "32/32 [==============================] - 19s 589ms/step - loss: 1.5529 - accuracy: 0.5613 - val_loss: 0.3444 - val_accuracy: 0.9127\n",
      "Epoch 4/10\n",
      "32/32 [==============================] - 18s 576ms/step - loss: 1.2946 - accuracy: 0.6223 - val_loss: 0.3826 - val_accuracy: 0.9168\n",
      "Epoch 5/10\n",
      "32/32 [==============================] - 19s 593ms/step - loss: 1.0167 - accuracy: 0.6980 - val_loss: 0.4039 - val_accuracy: 0.9033\n",
      "Epoch 6/10\n",
      "32/32 [==============================] - 18s 553ms/step - loss: 0.9793 - accuracy: 0.7140 - val_loss: 0.6892 - val_accuracy: 0.8571\n",
      "Epoch 7/10\n",
      "32/32 [==============================] - 18s 553ms/step - loss: 0.7689 - accuracy: 0.7683 - val_loss: 1.0596 - val_accuracy: 0.8400\n",
      "Epoch 8/10\n",
      "32/32 [==============================] - 18s 555ms/step - loss: 0.6810 - accuracy: 0.8017 - val_loss: 0.7948 - val_accuracy: 0.8612\n",
      "Epoch 9/10\n",
      "32/32 [==============================] - 18s 578ms/step - loss: 0.6726 - accuracy: 0.8181 - val_loss: 1.4215 - val_accuracy: 0.8232\n",
      "Epoch 10/10\n",
      "32/32 [==============================] - 18s 557ms/step - loss: 0.5391 - accuracy: 0.8263 - val_loss: 0.5419 - val_accuracy: 0.8566\n",
      "Duration: 0:03:03.079029\n"
     ]
    }
   ],
   "source": [
    "print(n)\n",
    "\n",
    "models_dsa[n].fit_model(image_sets_dsa[n],label_sets_dsa[n],x_val,y_val)\n",
    "n = n+1"
   ]
  },
  {
   "cell_type": "code",
   "execution_count": 29,
   "id": "ff7478ae",
   "metadata": {},
   "outputs": [
    {
     "name": "stdout",
     "output_type": "stream",
     "text": [
      "8\n",
      "Epoch 1/10\n",
      "36/36 [==============================] - 22s 565ms/step - loss: 3.4685 - accuracy: 0.1973 - val_loss: 0.2858 - val_accuracy: 0.9372\n",
      "Epoch 2/10\n",
      "36/36 [==============================] - 19s 541ms/step - loss: 1.8733 - accuracy: 0.5009 - val_loss: 0.5362 - val_accuracy: 0.8865\n",
      "Epoch 3/10\n",
      "36/36 [==============================] - 20s 553ms/step - loss: 1.4362 - accuracy: 0.5930 - val_loss: 2.3558 - val_accuracy: 0.7627\n",
      "Epoch 4/10\n",
      "36/36 [==============================] - 19s 537ms/step - loss: 1.1822 - accuracy: 0.6604 - val_loss: 0.7812 - val_accuracy: 0.8556\n",
      "Epoch 5/10\n",
      "36/36 [==============================] - 19s 536ms/step - loss: 0.9875 - accuracy: 0.7222 - val_loss: 1.9306 - val_accuracy: 0.7591\n",
      "Epoch 6/10\n",
      "36/36 [==============================] - 19s 535ms/step - loss: 0.8879 - accuracy: 0.7444 - val_loss: 1.4700 - val_accuracy: 0.8262\n",
      "Epoch 7/10\n",
      "36/36 [==============================] - 19s 538ms/step - loss: 0.7358 - accuracy: 0.7862 - val_loss: 0.5251 - val_accuracy: 0.8676\n",
      "Epoch 8/10\n",
      "36/36 [==============================] - 19s 535ms/step - loss: 0.6453 - accuracy: 0.7936 - val_loss: 0.9895 - val_accuracy: 0.8081\n",
      "Epoch 9/10\n",
      "36/36 [==============================] - 19s 532ms/step - loss: 0.6301 - accuracy: 0.8115 - val_loss: 1.0210 - val_accuracy: 0.8512\n",
      "Epoch 10/10\n",
      "36/36 [==============================] - 20s 558ms/step - loss: 0.5181 - accuracy: 0.8514 - val_loss: 1.8705 - val_accuracy: 0.7915\n",
      "Duration: 0:03:16.072477\n"
     ]
    }
   ],
   "source": [
    "print(n)\n",
    "\n",
    "models_dsa[n].fit_model(image_sets_dsa[n],label_sets_dsa[n],x_val,y_val)\n",
    "n = n+1"
   ]
  },
  {
   "cell_type": "code",
   "execution_count": 30,
   "id": "529ba2f1",
   "metadata": {},
   "outputs": [
    {
     "name": "stdout",
     "output_type": "stream",
     "text": [
      "9\n",
      "Epoch 1/10\n",
      "40/40 [==============================] - 23s 526ms/step - loss: 3.3106 - accuracy: 0.2221 - val_loss: 0.1420 - val_accuracy: 0.9696\n",
      "Epoch 2/10\n",
      "40/40 [==============================] - 21s 523ms/step - loss: 1.8297 - accuracy: 0.4989 - val_loss: 0.3869 - val_accuracy: 0.8974\n",
      "Epoch 3/10\n",
      "40/40 [==============================] - 21s 529ms/step - loss: 1.3918 - accuracy: 0.6120 - val_loss: 0.7352 - val_accuracy: 0.8007\n",
      "Epoch 4/10\n",
      "40/40 [==============================] - 21s 520ms/step - loss: 1.1075 - accuracy: 0.6782 - val_loss: 0.6144 - val_accuracy: 0.8791\n",
      "Epoch 5/10\n",
      "40/40 [==============================] - 20s 514ms/step - loss: 0.9432 - accuracy: 0.7210 - val_loss: 1.5862 - val_accuracy: 0.7719\n",
      "Epoch 6/10\n",
      "40/40 [==============================] - 21s 519ms/step - loss: 0.8195 - accuracy: 0.7644 - val_loss: 0.4584 - val_accuracy: 0.8755\n",
      "Epoch 7/10\n",
      "40/40 [==============================] - 22s 554ms/step - loss: 0.7014 - accuracy: 0.7777 - val_loss: 0.6808 - val_accuracy: 0.7999\n",
      "Epoch 8/10\n",
      "40/40 [==============================] - 22s 545ms/step - loss: 0.6722 - accuracy: 0.8115 - val_loss: 1.1588 - val_accuracy: 0.8497\n",
      "Epoch 9/10\n",
      "40/40 [==============================] - 22s 559ms/step - loss: 0.5105 - accuracy: 0.8351 - val_loss: 1.2647 - val_accuracy: 0.7512\n",
      "Epoch 10/10\n",
      "40/40 [==============================] - 22s 555ms/step - loss: 0.6387 - accuracy: 0.8270 - val_loss: 0.8394 - val_accuracy: 0.8163\n",
      "Duration: 0:03:34.446907\n"
     ]
    }
   ],
   "source": [
    "print(n)#9\n",
    "\n",
    "models_dsa[n].fit_model(image_sets_dsa[n],label_sets_dsa[n],x_val,y_val)\n",
    "n = n+1"
   ]
  },
  {
   "cell_type": "code",
   "execution_count": 20,
   "id": "fb965078",
   "metadata": {},
   "outputs": [
    {
     "name": "stdout",
     "output_type": "stream",
     "text": [
      "10\n",
      "Epoch 1/10\n",
      "43/43 [==============================] - 29s 533ms/step - loss: 3.0077 - accuracy: 0.2607 - val_loss: 0.2583 - val_accuracy: 0.9436\n",
      "Epoch 2/10\n",
      "43/43 [==============================] - 22s 524ms/step - loss: 1.7527 - accuracy: 0.5189 - val_loss: 0.4135 - val_accuracy: 0.9010\n",
      "Epoch 3/10\n",
      "43/43 [==============================] - 22s 520ms/step - loss: 1.3009 - accuracy: 0.6239 - val_loss: 0.4981 - val_accuracy: 0.8643\n",
      "Epoch 4/10\n",
      "43/43 [==============================] - 23s 533ms/step - loss: 1.0344 - accuracy: 0.6917 - val_loss: 1.2542 - val_accuracy: 0.8204\n",
      "Epoch 5/10\n",
      "43/43 [==============================] - 23s 537ms/step - loss: 0.8761 - accuracy: 0.7254 - val_loss: 0.6390 - val_accuracy: 0.8336\n",
      "Epoch 6/10\n",
      "43/43 [==============================] - 23s 531ms/step - loss: 0.7405 - accuracy: 0.7853 - val_loss: 0.4250 - val_accuracy: 0.8870\n",
      "Epoch 7/10\n",
      "43/43 [==============================] - 23s 539ms/step - loss: 0.5664 - accuracy: 0.8231 - val_loss: 0.4406 - val_accuracy: 0.8928\n",
      "Epoch 8/10\n",
      "43/43 [==============================] - 23s 545ms/step - loss: 0.5451 - accuracy: 0.8393 - val_loss: 0.4947 - val_accuracy: 0.8688\n",
      "Epoch 9/10\n",
      "43/43 [==============================] - 23s 540ms/step - loss: 0.4457 - accuracy: 0.8624 - val_loss: 0.6134 - val_accuracy: 0.8362\n",
      "Epoch 10/10\n",
      "43/43 [==============================] - 23s 541ms/step - loss: 0.4351 - accuracy: 0.8767 - val_loss: 1.1297 - val_accuracy: 0.8112\n",
      "Duration: 0:03:54.691551\n"
     ]
    }
   ],
   "source": [
    "n=10\n",
    "print(n)\n",
    "\n",
    "models_dsa[n].fit_model(image_sets_dsa[n],label_sets_dsa[n],x_val,y_val)\n",
    "n = n+1"
   ]
  },
  {
   "cell_type": "code",
   "execution_count": 21,
   "id": "552adb28",
   "metadata": {},
   "outputs": [
    {
     "name": "stdout",
     "output_type": "stream",
     "text": [
      "11\n",
      "Epoch 1/10\n",
      "47/47 [==============================] - 27s 536ms/step - loss: 3.0344 - accuracy: 0.2677 - val_loss: 0.4954 - val_accuracy: 0.8898\n",
      "Epoch 2/10\n",
      "47/47 [==============================] - 25s 542ms/step - loss: 1.6072 - accuracy: 0.5546 - val_loss: 0.3222 - val_accuracy: 0.9163\n",
      "Epoch 3/10\n",
      "47/47 [==============================] - 31s 661ms/step - loss: 1.2180 - accuracy: 0.6376 - val_loss: 0.3883 - val_accuracy: 0.8977\n",
      "Epoch 4/10\n",
      "47/47 [==============================] - 29s 612ms/step - loss: 0.9159 - accuracy: 0.7225 - val_loss: 0.3973 - val_accuracy: 0.8801\n",
      "Epoch 5/10\n",
      "47/47 [==============================] - 26s 556ms/step - loss: 0.8011 - accuracy: 0.7574 - val_loss: 0.3182 - val_accuracy: 0.9178\n",
      "Epoch 6/10\n",
      "47/47 [==============================] - 28s 592ms/step - loss: 0.6638 - accuracy: 0.8047 - val_loss: 0.4974 - val_accuracy: 0.8783\n",
      "Epoch 7/10\n",
      "47/47 [==============================] - 26s 566ms/step - loss: 0.5308 - accuracy: 0.8409 - val_loss: 0.6450 - val_accuracy: 0.8507\n",
      "Epoch 8/10\n",
      "47/47 [==============================] - 25s 527ms/step - loss: 0.5160 - accuracy: 0.8362 - val_loss: 1.0588 - val_accuracy: 0.8349\n",
      "Epoch 9/10\n",
      "47/47 [==============================] - 25s 533ms/step - loss: 0.4244 - accuracy: 0.8744 - val_loss: 0.6701 - val_accuracy: 0.8201\n",
      "Epoch 10/10\n",
      "47/47 [==============================] - 25s 533ms/step - loss: 0.3962 - accuracy: 0.8805 - val_loss: 0.9135 - val_accuracy: 0.8153\n",
      "Duration: 0:04:26.577419\n"
     ]
    }
   ],
   "source": [
    "print(n)\n",
    "\n",
    "models_dsa[n].fit_model(image_sets_dsa[n],label_sets_dsa[n],x_val,y_val)\n",
    "n = n+1"
   ]
  },
  {
   "cell_type": "code",
   "execution_count": 22,
   "id": "110ad1aa",
   "metadata": {},
   "outputs": [
    {
     "name": "stdout",
     "output_type": "stream",
     "text": [
      "12\n",
      "Epoch 1/10\n",
      "51/51 [==============================] - 29s 532ms/step - loss: 3.0037 - accuracy: 0.2813 - val_loss: 0.7902 - val_accuracy: 0.8313\n",
      "Epoch 2/10\n",
      "51/51 [==============================] - 26s 521ms/step - loss: 1.5715 - accuracy: 0.5540 - val_loss: 0.8352 - val_accuracy: 0.8349\n",
      "Epoch 3/10\n",
      "51/51 [==============================] - 30s 588ms/step - loss: 1.1112 - accuracy: 0.6671 - val_loss: 0.6362 - val_accuracy: 0.8255\n",
      "Epoch 4/10\n",
      "51/51 [==============================] - 27s 541ms/step - loss: 0.9139 - accuracy: 0.7160 - val_loss: 0.7039 - val_accuracy: 0.7994\n",
      "Epoch 5/10\n",
      "51/51 [==============================] - 26s 521ms/step - loss: 0.7724 - accuracy: 0.7733 - val_loss: 0.6159 - val_accuracy: 0.8265\n",
      "Epoch 6/10\n",
      "51/51 [==============================] - 27s 535ms/step - loss: 0.6000 - accuracy: 0.8146 - val_loss: 0.6136 - val_accuracy: 0.8375\n",
      "Epoch 7/10\n",
      "51/51 [==============================] - 29s 561ms/step - loss: 0.5998 - accuracy: 0.8149 - val_loss: 0.6071 - val_accuracy: 0.8451\n",
      "Epoch 8/10\n",
      "51/51 [==============================] - 27s 534ms/step - loss: 0.4838 - accuracy: 0.8633 - val_loss: 0.6916 - val_accuracy: 0.8403\n",
      "Epoch 9/10\n",
      "51/51 [==============================] - 26s 508ms/step - loss: 0.4364 - accuracy: 0.8656 - val_loss: 0.6246 - val_accuracy: 0.8533\n",
      "Epoch 10/10\n",
      "51/51 [==============================] - 26s 510ms/step - loss: 0.3583 - accuracy: 0.8910 - val_loss: 0.6039 - val_accuracy: 0.8495\n",
      "Duration: 0:04:33.897547\n"
     ]
    }
   ],
   "source": [
    "print(n)\n",
    "\n",
    "models_dsa[n].fit_model(image_sets_dsa[n],label_sets_dsa[n],x_val,y_val)\n",
    "n = n+1"
   ]
  },
  {
   "cell_type": "code",
   "execution_count": 23,
   "id": "506b30e2",
   "metadata": {},
   "outputs": [
    {
     "name": "stdout",
     "output_type": "stream",
     "text": [
      "13\n",
      "Epoch 1/10\n",
      "55/55 [==============================] - 30s 505ms/step - loss: 3.1008 - accuracy: 0.2672 - val_loss: 0.5199 - val_accuracy: 0.8793\n",
      "Epoch 2/10\n",
      "55/55 [==============================] - 28s 502ms/step - loss: 1.4519 - accuracy: 0.5901 - val_loss: 0.3790 - val_accuracy: 0.8951\n",
      "Epoch 3/10\n",
      "55/55 [==============================] - 27s 499ms/step - loss: 1.1203 - accuracy: 0.6661 - val_loss: 0.4896 - val_accuracy: 0.8614\n",
      "Epoch 4/10\n",
      "55/55 [==============================] - 27s 498ms/step - loss: 0.8284 - accuracy: 0.7521 - val_loss: 0.5974 - val_accuracy: 0.8589\n",
      "Epoch 5/10\n",
      "55/55 [==============================] - 27s 500ms/step - loss: 0.7416 - accuracy: 0.7780 - val_loss: 0.4570 - val_accuracy: 0.8709\n",
      "Epoch 6/10\n",
      "55/55 [==============================] - 27s 498ms/step - loss: 0.6190 - accuracy: 0.8079 - val_loss: 0.5953 - val_accuracy: 0.8500\n",
      "Epoch 7/10\n",
      "55/55 [==============================] - 28s 506ms/step - loss: 0.5389 - accuracy: 0.8425 - val_loss: 0.3305 - val_accuracy: 0.9099\n",
      "Epoch 8/10\n",
      "55/55 [==============================] - 28s 519ms/step - loss: 0.4940 - accuracy: 0.8511 - val_loss: 0.4831 - val_accuracy: 0.8727\n",
      "Epoch 9/10\n",
      "55/55 [==============================] - 28s 509ms/step - loss: 0.3980 - accuracy: 0.8806 - val_loss: 0.5704 - val_accuracy: 0.8571\n",
      "Epoch 10/10\n",
      "55/55 [==============================] - 29s 523ms/step - loss: 0.3441 - accuracy: 0.8971 - val_loss: 0.8794 - val_accuracy: 0.8107\n",
      "Duration: 0:04:39.096647\n"
     ]
    }
   ],
   "source": [
    "print(n)\n",
    "\n",
    "models_dsa[n].fit_model(image_sets_dsa[n],label_sets_dsa[n],x_val,y_val)\n",
    "n = n+1"
   ]
  },
  {
   "cell_type": "code",
   "execution_count": 24,
   "id": "bb438669",
   "metadata": {},
   "outputs": [
    {
     "name": "stdout",
     "output_type": "stream",
     "text": [
      "14\n",
      "Epoch 1/10\n",
      "59/59 [==============================] - 33s 516ms/step - loss: 2.8417 - accuracy: 0.3061 - val_loss: 0.3419 - val_accuracy: 0.9260\n",
      "Epoch 2/10\n",
      "59/59 [==============================] - 29s 491ms/step - loss: 1.5044 - accuracy: 0.5688 - val_loss: 0.4535 - val_accuracy: 0.8928\n",
      "Epoch 3/10\n",
      "59/59 [==============================] - 29s 489ms/step - loss: 1.0672 - accuracy: 0.6822 - val_loss: 0.3625 - val_accuracy: 0.9041\n",
      "Epoch 4/10\n",
      "59/59 [==============================] - 29s 490ms/step - loss: 0.8517 - accuracy: 0.7556 - val_loss: 0.3937 - val_accuracy: 0.8918\n",
      "Epoch 5/10\n",
      "59/59 [==============================] - 29s 493ms/step - loss: 0.7135 - accuracy: 0.7798 - val_loss: 1.0469 - val_accuracy: 0.8043\n",
      "Epoch 6/10\n",
      "59/59 [==============================] - 29s 490ms/step - loss: 0.6282 - accuracy: 0.8208 - val_loss: 1.6044 - val_accuracy: 0.7844\n",
      "Epoch 7/10\n",
      "59/59 [==============================] - 29s 494ms/step - loss: 0.5066 - accuracy: 0.8521 - val_loss: 0.6338 - val_accuracy: 0.8454\n",
      "Epoch 8/10\n",
      "59/59 [==============================] - 30s 509ms/step - loss: 0.4110 - accuracy: 0.8760 - val_loss: 0.6145 - val_accuracy: 0.8273\n",
      "Epoch 9/10\n",
      "59/59 [==============================] - 30s 514ms/step - loss: 0.3821 - accuracy: 0.8893 - val_loss: 0.6168 - val_accuracy: 0.8566\n",
      "Epoch 10/10\n",
      "59/59 [==============================] - 31s 524ms/step - loss: 0.3253 - accuracy: 0.9018 - val_loss: 0.7942 - val_accuracy: 0.8221\n",
      "Duration: 0:04:57.346841\n"
     ]
    }
   ],
   "source": [
    "print(n)#14\n",
    "\n",
    "models_dsa[n].fit_model(image_sets_dsa[n],label_sets_dsa[n],x_val,y_val)\n",
    "n = n+1"
   ]
  },
  {
   "cell_type": "code",
   "execution_count": 19,
   "id": "9c988977",
   "metadata": {},
   "outputs": [
    {
     "name": "stdout",
     "output_type": "stream",
     "text": [
      "15\n",
      "Epoch 1/10\n",
      "63/63 [==============================] - 44s 458ms/step - loss: 2.8134 - accuracy: 0.3025 - val_loss: 0.3903 - val_accuracy: 0.9331\n",
      "Epoch 2/10\n",
      "63/63 [==============================] - 28s 448ms/step - loss: 1.4192 - accuracy: 0.5945 - val_loss: 0.5010 - val_accuracy: 0.8742\n",
      "Epoch 3/10\n",
      "63/63 [==============================] - 29s 457ms/step - loss: 1.0145 - accuracy: 0.7084 - val_loss: 0.5376 - val_accuracy: 0.8574\n",
      "Epoch 4/10\n",
      "63/63 [==============================] - 29s 457ms/step - loss: 0.8378 - accuracy: 0.7545 - val_loss: 0.4849 - val_accuracy: 0.8686\n",
      "Epoch 5/10\n",
      "63/63 [==============================] - 29s 460ms/step - loss: 0.6587 - accuracy: 0.8040 - val_loss: 1.4991 - val_accuracy: 0.8104\n",
      "Epoch 6/10\n",
      "63/63 [==============================] - 29s 459ms/step - loss: 0.6225 - accuracy: 0.8186 - val_loss: 0.6301 - val_accuracy: 0.8303\n",
      "Epoch 7/10\n",
      "63/63 [==============================] - 29s 458ms/step - loss: 0.5251 - accuracy: 0.8515 - val_loss: 0.5755 - val_accuracy: 0.8469\n",
      "Epoch 8/10\n",
      "63/63 [==============================] - 29s 458ms/step - loss: 0.4180 - accuracy: 0.8777 - val_loss: 0.5891 - val_accuracy: 0.8515\n",
      "Epoch 9/10\n",
      "63/63 [==============================] - 31s 497ms/step - loss: 0.3973 - accuracy: 0.8831 - val_loss: 0.7052 - val_accuracy: 0.8229\n",
      "Epoch 10/10\n",
      "63/63 [==============================] - 29s 464ms/step - loss: 0.3314 - accuracy: 0.9025 - val_loss: 0.7707 - val_accuracy: 0.8219\n",
      "Duration: 0:05:06.409024\n"
     ]
    }
   ],
   "source": [
    "n=15\n",
    "print(n)\n",
    "\n",
    "models_dsa[n].fit_model(image_sets_dsa[n],label_sets_dsa[n],x_val,y_val)\n",
    "n = n+1"
   ]
  },
  {
   "cell_type": "code",
   "execution_count": 20,
   "id": "ef562e5b",
   "metadata": {},
   "outputs": [
    {
     "name": "stdout",
     "output_type": "stream",
     "text": [
      "16\n",
      "Epoch 1/10\n",
      "67/67 [==============================] - 33s 461ms/step - loss: 2.8929 - accuracy: 0.3070 - val_loss: 0.5687 - val_accuracy: 0.8648\n",
      "Epoch 2/10\n",
      "67/67 [==============================] - 30s 450ms/step - loss: 1.3241 - accuracy: 0.6264 - val_loss: 0.4658 - val_accuracy: 0.8880\n",
      "Epoch 3/10\n",
      "67/67 [==============================] - 30s 450ms/step - loss: 1.0333 - accuracy: 0.7006 - val_loss: 0.6349 - val_accuracy: 0.8278\n",
      "Epoch 4/10\n",
      "67/67 [==============================] - 30s 451ms/step - loss: 0.7866 - accuracy: 0.7609 - val_loss: 1.1662 - val_accuracy: 0.7938\n",
      "Epoch 5/10\n",
      "67/67 [==============================] - 30s 449ms/step - loss: 0.6628 - accuracy: 0.7920 - val_loss: 0.7090 - val_accuracy: 0.8247\n",
      "Epoch 6/10\n",
      "67/67 [==============================] - 30s 451ms/step - loss: 0.5643 - accuracy: 0.8350 - val_loss: 0.9036 - val_accuracy: 0.7448\n",
      "Epoch 7/10\n",
      "67/67 [==============================] - 30s 450ms/step - loss: 0.4700 - accuracy: 0.8677 - val_loss: 1.3542 - val_accuracy: 0.7173\n",
      "Epoch 8/10\n",
      "67/67 [==============================] - 30s 454ms/step - loss: 0.3844 - accuracy: 0.8847 - val_loss: 1.0495 - val_accuracy: 0.7734\n",
      "Epoch 9/10\n",
      "67/67 [==============================] - 30s 449ms/step - loss: 0.3370 - accuracy: 0.8948 - val_loss: 0.9754 - val_accuracy: 0.8107\n",
      "Epoch 10/10\n",
      "67/67 [==============================] - 30s 451ms/step - loss: 0.3169 - accuracy: 0.9094 - val_loss: 0.6966 - val_accuracy: 0.8183\n",
      "Duration: 0:05:04.265912\n"
     ]
    }
   ],
   "source": [
    "print(n)\n",
    "\n",
    "models_dsa[n].fit_model(image_sets_dsa[n],label_sets_dsa[n],x_val,y_val)\n",
    "n = n+1"
   ]
  },
  {
   "cell_type": "code",
   "execution_count": 21,
   "id": "6d4d8530",
   "metadata": {},
   "outputs": [
    {
     "name": "stdout",
     "output_type": "stream",
     "text": [
      "17\n",
      "Epoch 1/10\n",
      "71/71 [==============================] - 34s 452ms/step - loss: 2.6848 - accuracy: 0.3411 - val_loss: 0.4503 - val_accuracy: 0.8867\n",
      "Epoch 2/10\n",
      "71/71 [==============================] - 32s 447ms/step - loss: 1.2906 - accuracy: 0.6251 - val_loss: 0.5258 - val_accuracy: 0.8645\n",
      "Epoch 3/10\n",
      "71/71 [==============================] - 32s 445ms/step - loss: 0.9100 - accuracy: 0.7296 - val_loss: 0.7185 - val_accuracy: 0.7969\n",
      "Epoch 4/10\n",
      "71/71 [==============================] - 32s 446ms/step - loss: 0.7298 - accuracy: 0.7807 - val_loss: 0.5850 - val_accuracy: 0.8466\n",
      "Epoch 5/10\n",
      "71/71 [==============================] - 32s 454ms/step - loss: 0.5779 - accuracy: 0.8248 - val_loss: 0.7398 - val_accuracy: 0.8040\n",
      "Epoch 6/10\n",
      "71/71 [==============================] - 34s 474ms/step - loss: 0.5011 - accuracy: 0.8509 - val_loss: 0.7589 - val_accuracy: 0.8007\n",
      "Epoch 7/10\n",
      "71/71 [==============================] - 33s 462ms/step - loss: 0.4483 - accuracy: 0.8693 - val_loss: 0.8440 - val_accuracy: 0.8035\n",
      "Epoch 8/10\n",
      "71/71 [==============================] - 33s 468ms/step - loss: 0.3627 - accuracy: 0.8914 - val_loss: 0.9093 - val_accuracy: 0.7788\n",
      "Epoch 9/10\n",
      "71/71 [==============================] - 33s 468ms/step - loss: 0.3190 - accuracy: 0.9005 - val_loss: 1.0848 - val_accuracy: 0.7857\n",
      "Epoch 10/10\n",
      "71/71 [==============================] - 32s 458ms/step - loss: 0.2881 - accuracy: 0.9164 - val_loss: 1.1271 - val_accuracy: 0.7499\n",
      "Duration: 0:05:25.853134\n"
     ]
    }
   ],
   "source": [
    "print(n)\n",
    "\n",
    "models_dsa[n].fit_model(image_sets_dsa[n],label_sets_dsa[n],x_val,y_val)\n",
    "n = n+1"
   ]
  },
  {
   "cell_type": "code",
   "execution_count": 22,
   "id": "59df5459",
   "metadata": {},
   "outputs": [
    {
     "name": "stdout",
     "output_type": "stream",
     "text": [
      "18\n",
      "Epoch 1/10\n",
      "75/75 [==============================] - 37s 475ms/step - loss: 2.5439 - accuracy: 0.3755 - val_loss: 0.3034 - val_accuracy: 0.9115\n",
      "Epoch 2/10\n",
      "75/75 [==============================] - 37s 501ms/step - loss: 1.3427 - accuracy: 0.6197 - val_loss: 0.5672 - val_accuracy: 0.8443\n",
      "Epoch 3/10\n",
      "75/75 [==============================] - 36s 486ms/step - loss: 0.9345 - accuracy: 0.7351 - val_loss: 0.7621 - val_accuracy: 0.8038\n",
      "Epoch 4/10\n",
      "75/75 [==============================] - 36s 484ms/step - loss: 0.7088 - accuracy: 0.7901 - val_loss: 0.7061 - val_accuracy: 0.8199\n",
      "Epoch 5/10\n",
      "75/75 [==============================] - 36s 484ms/step - loss: 0.5742 - accuracy: 0.8305 - val_loss: 0.9832 - val_accuracy: 0.8091\n",
      "Epoch 6/10\n",
      "75/75 [==============================] - 36s 483ms/step - loss: 0.4813 - accuracy: 0.8650 - val_loss: 1.3160 - val_accuracy: 0.7341\n",
      "Epoch 7/10\n",
      "75/75 [==============================] - 36s 484ms/step - loss: 0.3962 - accuracy: 0.8883 - val_loss: 0.5895 - val_accuracy: 0.8525\n",
      "Epoch 8/10\n",
      "75/75 [==============================] - 33s 447ms/step - loss: 0.3731 - accuracy: 0.8889 - val_loss: 0.9991 - val_accuracy: 0.7612\n",
      "Epoch 9/10\n",
      "75/75 [==============================] - 33s 444ms/step - loss: 0.3074 - accuracy: 0.9111 - val_loss: 0.9590 - val_accuracy: 0.8137\n",
      "Epoch 10/10\n",
      "75/75 [==============================] - 33s 445ms/step - loss: 0.2515 - accuracy: 0.9215 - val_loss: 0.7639 - val_accuracy: 0.8107\n",
      "Duration: 0:05:56.296749\n"
     ]
    }
   ],
   "source": [
    "print(n)\n",
    "\n",
    "models_dsa[n].fit_model(image_sets_dsa[n],label_sets_dsa[n],x_val,y_val)\n",
    "n = n+1"
   ]
  },
  {
   "cell_type": "code",
   "execution_count": 24,
   "id": "ff9aad2b",
   "metadata": {},
   "outputs": [
    {
     "name": "stdout",
     "output_type": "stream",
     "text": [
      "19\n",
      "Epoch 1/10\n",
      "79/79 [==============================] - 38s 458ms/step - loss: 2.6989 - accuracy: 0.3412 - val_loss: 0.5777 - val_accuracy: 0.8347\n",
      "Epoch 2/10\n",
      "79/79 [==============================] - 37s 465ms/step - loss: 1.2180 - accuracy: 0.6465 - val_loss: 0.5242 - val_accuracy: 0.8530\n",
      "Epoch 3/10\n",
      "79/79 [==============================] - 36s 458ms/step - loss: 0.8724 - accuracy: 0.7499 - val_loss: 0.4298 - val_accuracy: 0.8762\n",
      "Epoch 4/10\n",
      "79/79 [==============================] - 36s 460ms/step - loss: 0.7259 - accuracy: 0.7914 - val_loss: 0.7776 - val_accuracy: 0.7857\n",
      "Epoch 5/10\n",
      "79/79 [==============================] - 38s 488ms/step - loss: 0.5620 - accuracy: 0.8345 - val_loss: 0.9105 - val_accuracy: 0.8191\n",
      "Epoch 6/10\n",
      "79/79 [==============================] - 36s 461ms/step - loss: 0.5255 - accuracy: 0.8404 - val_loss: 0.7091 - val_accuracy: 0.8104\n",
      "Epoch 7/10\n",
      "79/79 [==============================] - 36s 456ms/step - loss: 0.4220 - accuracy: 0.8819 - val_loss: 0.7887 - val_accuracy: 0.8079\n",
      "Epoch 8/10\n",
      "79/79 [==============================] - 36s 460ms/step - loss: 0.3467 - accuracy: 0.8930 - val_loss: 0.7702 - val_accuracy: 0.8234\n",
      "Epoch 9/10\n",
      "79/79 [==============================] - 36s 458ms/step - loss: 0.3002 - accuracy: 0.9087 - val_loss: 0.8335 - val_accuracy: 0.7964\n",
      "Epoch 10/10\n",
      "79/79 [==============================] - 36s 457ms/step - loss: 0.2739 - accuracy: 0.9170 - val_loss: 0.6564 - val_accuracy: 0.8474\n",
      "Duration: 0:06:06.217862\n"
     ]
    }
   ],
   "source": [
    "n=19\n",
    "print(n)#19\n",
    "\n",
    "models_dsa[n].fit_model(image_sets_dsa[n],label_sets_dsa[n],x_val,y_val)\n",
    "n = n+1"
   ]
  },
  {
   "cell_type": "code",
   "execution_count": 21,
   "id": "58f250fb",
   "metadata": {},
   "outputs": [
    {
     "name": "stdout",
     "output_type": "stream",
     "text": [
      "D:/models/gtsrb_models/C3/gtsrb_model_c3_sep_dsa_e2_0\n",
      "Model loaded correctly\n",
      "D:/models/gtsrb_models/C3/gtsrb_model_c3_sep_dsa_e2_1\n",
      "Model loaded correctly\n",
      "D:/models/gtsrb_models/C3/gtsrb_model_c3_sep_dsa_e2_2\n",
      "Model loaded correctly\n",
      "D:/models/gtsrb_models/C3/gtsrb_model_c3_sep_dsa_e2_3\n",
      "Model loaded correctly\n",
      "D:/models/gtsrb_models/C3/gtsrb_model_c3_sep_dsa_e2_4\n",
      "Model loaded correctly\n",
      "D:/models/gtsrb_models/C3/gtsrb_model_c3_sep_dsa_e2_5\n",
      "Model loaded correctly\n",
      "D:/models/gtsrb_models/C3/gtsrb_model_c3_sep_dsa_e2_6\n",
      "Model loaded correctly\n",
      "D:/models/gtsrb_models/C3/gtsrb_model_c3_sep_dsa_e2_7\n",
      "Model loaded correctly\n",
      "D:/models/gtsrb_models/C3/gtsrb_model_c3_sep_dsa_e2_8\n",
      "Model loaded correctly\n",
      "D:/models/gtsrb_models/C3/gtsrb_model_c3_sep_dsa_e2_9\n",
      "Model loaded correctly\n",
      "D:/models/gtsrb_models/C3/gtsrb_model_c3_sep_dsa_e2_10\n",
      "Model loaded correctly\n",
      "D:/models/gtsrb_models/C3/gtsrb_model_c3_sep_dsa_e2_11\n",
      "Model loaded correctly\n",
      "D:/models/gtsrb_models/C3/gtsrb_model_c3_sep_dsa_e2_12\n",
      "Model loaded correctly\n",
      "D:/models/gtsrb_models/C3/gtsrb_model_c3_sep_dsa_e2_13\n",
      "Model loaded correctly\n",
      "D:/models/gtsrb_models/C3/gtsrb_model_c3_sep_dsa_e2_14\n",
      "Model loaded correctly\n",
      "D:/models/gtsrb_models/C3/gtsrb_model_c3_sep_dsa_e2_15\n",
      "Model loaded correctly\n",
      "D:/models/gtsrb_models/C3/gtsrb_model_c3_sep_dsa_e2_16\n",
      "Model loaded correctly\n",
      "D:/models/gtsrb_models/C3/gtsrb_model_c3_sep_dsa_e2_17\n",
      "Model loaded correctly\n",
      "D:/models/gtsrb_models/C3/gtsrb_model_c3_sep_dsa_e2_18\n",
      "Model loaded correctly\n",
      "D:/models/gtsrb_models/C3/gtsrb_model_c3_sep_dsa_e2_19\n",
      "Model loaded correctly\n"
     ]
    }
   ],
   "source": [
    "loading = True\n",
    "\n",
    "models_dsa = []\n",
    "\n",
    "if loading:\n",
    "    for i in range(20):\n",
    "        model_dsa_dir = \"D:/models/gtsrb_models/C3/gtsrb_model_c3_sep_dsa_e2_\"+str(i)\n",
    "        print(model_dsa_dir)\n",
    "        model =utils.My_model('gtsrb',True,model_dsa_dir)\n",
    "        model.model.compile(loss= 'categorical_crossentropy', optimizer = 'rmsprop', metrics = ['accuracy',tf.keras.metrics.Precision(), tf.keras.metrics.Recall()])\n",
    "        models_dsa.append(model)\n",
    "       \n",
    "    "
   ]
  },
  {
   "cell_type": "markdown",
   "id": "bf9b45e9",
   "metadata": {},
   "source": [
    "## Random"
   ]
  },
  {
   "cell_type": "markdown",
   "id": "11198aa3",
   "metadata": {},
   "source": [
    "## point random"
   ]
  },
  {
   "cell_type": "code",
   "execution_count": 11,
   "id": "3581436b",
   "metadata": {},
   "outputs": [
    {
     "name": "stdout",
     "output_type": "stream",
     "text": [
      "[3017, 846, 3968, 2921, 3561, 2089, 2624, 1354, 2880, 4528]\n",
      "5000\n"
     ]
    }
   ],
   "source": [
    "import random\n",
    "random_indexes =list(range(len(x_adversary_training)))\n",
    "random.shuffle(random_indexes)\n",
    "print(random_indexes[:10])\n",
    "print(len(random_indexes))"
   ]
  },
  {
   "cell_type": "code",
   "execution_count": 11,
   "id": "0eca574c",
   "metadata": {},
   "outputs": [],
   "source": [
    "save_dir = \"C:/Users/fjdur/Desktop/upc/project_notebooks/github_project/DL_notebooks/SA_values/random_values_2_5000.npy\"\n",
    "\n",
    "#np.save(save_dir,np.array(random_indexes))\n",
    "random_indexes = np.load(save_dir)"
   ]
  },
  {
   "cell_type": "code",
   "execution_count": 12,
   "id": "7fab6c02",
   "metadata": {},
   "outputs": [
    {
     "data": {
      "text/plain": [
       "array([2999, 2311, 3460, ..., 2733,  249, 4598])"
      ]
     },
     "execution_count": 12,
     "metadata": {},
     "output_type": "execute_result"
    }
   ],
   "source": [
    "random_indexes"
   ]
  },
  {
   "cell_type": "code",
   "execution_count": 13,
   "id": "d13ccb6c",
   "metadata": {},
   "outputs": [],
   "source": [
    "# Obtaining top n images by random values\n",
    "top_images_by_random = utils.get_x_of_indexes(list(np.flip(np.argsort(random_indexes))),x_adversary_training)\n",
    "top_labels_by_random = utils.get_x_of_indexes(list(np.flip(np.argsort(random_indexes))),y_adversary_training)"
   ]
  },
  {
   "cell_type": "code",
   "execution_count": 14,
   "id": "1209ac75",
   "metadata": {},
   "outputs": [
    {
     "name": "stdout",
     "output_type": "stream",
     "text": [
      "0 :\n",
      "0  ->  250\n",
      "250\n",
      "1 :\n",
      "0  ->  500\n",
      "500\n",
      "2 :\n",
      "0  ->  750\n",
      "750\n",
      "3 :\n",
      "0  ->  1000\n",
      "1000\n",
      "4 :\n",
      "0  ->  1250\n",
      "1250\n",
      "5 :\n",
      "0  ->  1500\n",
      "1500\n",
      "6 :\n",
      "0  ->  1750\n",
      "1750\n",
      "7 :\n",
      "0  ->  2000\n",
      "2000\n",
      "8 :\n",
      "0  ->  2250\n",
      "2250\n",
      "9 :\n",
      "0  ->  2500\n",
      "2500\n",
      "10 :\n",
      "0  ->  2750\n",
      "2750\n",
      "11 :\n",
      "0  ->  3000\n",
      "3000\n",
      "12 :\n",
      "0  ->  3250\n",
      "3250\n",
      "13 :\n",
      "0  ->  3500\n",
      "3500\n",
      "14 :\n",
      "0  ->  3750\n",
      "3750\n",
      "15 :\n",
      "0  ->  4000\n",
      "4000\n",
      "16 :\n",
      "0  ->  4250\n",
      "4250\n",
      "17 :\n",
      "0  ->  4500\n",
      "4500\n",
      "18 :\n",
      "0  ->  4750\n",
      "4750\n",
      "19 :\n",
      "Last\n",
      "0  ->  5000\n",
      "5000\n"
     ]
    }
   ],
   "source": [
    "m = 250\n",
    "n = 0\n",
    "image_sets_random = []\n",
    "label_sets_random = []\n",
    "\n",
    "\n",
    "for i in range(len(top_images_by_random)//m):\n",
    "    print(i,\":\")\n",
    "    if (i+1 >= len(top_images_by_random)//m):\n",
    "        print(\"Last\")\n",
    "        print(0,\" -> \",n+m+(len(top_images_by_random)%m))\n",
    "        top_images_by_random_n = np.array(top_images_by_random[:n+m+(len(top_images_by_random)%m)])\n",
    "        top_labels_by_random_n = np.array(top_labels_by_random[:n+m+(len(top_images_by_random)%m)])\n",
    "    else:\n",
    "        print(0,\" -> \",m+n)\n",
    "        top_images_by_random_n = np.array(top_images_by_random[:n+m])\n",
    "        top_labels_by_random_n = np.array(top_labels_by_random[:n+m])\n",
    "    image_sets_random.append(top_images_by_random_n)\n",
    "    label_sets_random.append(top_labels_by_random_n)\n",
    "    print(len(top_images_by_random_n))\n",
    "    n += m\n",
    "\n"
   ]
  },
  {
   "cell_type": "code",
   "execution_count": 15,
   "id": "3f03e1cf",
   "metadata": {},
   "outputs": [
    {
     "name": "stdout",
     "output_type": "stream",
     "text": [
      "C:/Users/fjdur/Desktop/upc/project_notebooks/github_project/DL_notebooks/models/tf_model_25-06\n",
      "0 :\n",
      "Model loaded correctly\n",
      "Model compiled\n",
      "1 :\n",
      "Model loaded correctly\n",
      "Model compiled\n",
      "2 :\n",
      "Model loaded correctly\n",
      "Model compiled\n",
      "3 :\n",
      "Model loaded correctly\n",
      "Model compiled\n",
      "4 :\n",
      "Model loaded correctly\n",
      "Model compiled\n",
      "5 :\n",
      "Model loaded correctly\n",
      "Model compiled\n",
      "6 :\n",
      "Model loaded correctly\n",
      "Model compiled\n",
      "7 :\n",
      "Model loaded correctly\n",
      "Model compiled\n",
      "8 :\n",
      "Model loaded correctly\n",
      "Model compiled\n",
      "9 :\n",
      "Model loaded correctly\n",
      "Model compiled\n",
      "10 :\n",
      "Model loaded correctly\n",
      "Model compiled\n",
      "11 :\n",
      "Model loaded correctly\n",
      "Model compiled\n",
      "12 :\n",
      "Model loaded correctly\n",
      "Model compiled\n",
      "13 :\n",
      "Model loaded correctly\n",
      "Model compiled\n",
      "14 :\n",
      "Model loaded correctly\n",
      "Model compiled\n",
      "15 :\n",
      "Model loaded correctly\n",
      "Model compiled\n",
      "16 :\n",
      "Model loaded correctly\n",
      "Model compiled\n",
      "17 :\n",
      "Model loaded correctly\n",
      "Model compiled\n",
      "18 :\n",
      "Model loaded correctly\n",
      "Model compiled\n",
      "19 :\n",
      "Model loaded correctly\n",
      "Model compiled\n"
     ]
    }
   ],
   "source": [
    "print(model_dir)\n",
    "\n",
    "models_random = []\n",
    "for i in range(len(label_sets_random)):\n",
    "    print(i,\":\")\n",
    "    model = utils.My_model('gtsrb',True,model_dir)\n",
    "    model.compile_model()\n",
    "    models_random.append(model)\n"
   ]
  },
  {
   "cell_type": "code",
   "execution_count": 17,
   "id": "14912c8b",
   "metadata": {},
   "outputs": [
    {
     "name": "stdout",
     "output_type": "stream",
     "text": [
      "0\n",
      "Epoch 1/10\n",
      "4/4 [==============================] - 23s 2s/step - loss: 4.8658 - accuracy: 0.1184 - val_loss: 0.2392 - val_accuracy: 0.9735\n",
      "Epoch 2/10\n",
      "4/4 [==============================] - 7s 2s/step - loss: 2.8337 - accuracy: 0.2941 - val_loss: 0.1702 - val_accuracy: 0.9727\n",
      "Epoch 3/10\n",
      "4/4 [==============================] - 7s 2s/step - loss: 2.3852 - accuracy: 0.3178 - val_loss: 0.2419 - val_accuracy: 0.9617\n",
      "Epoch 4/10\n",
      "4/4 [==============================] - 7s 2s/step - loss: 2.1758 - accuracy: 0.4163 - val_loss: 0.1320 - val_accuracy: 0.9742\n",
      "Epoch 5/10\n",
      "4/4 [==============================] - 7s 2s/step - loss: 1.8567 - accuracy: 0.4503 - val_loss: 0.3572 - val_accuracy: 0.9265\n",
      "Epoch 6/10\n",
      "4/4 [==============================] - 7s 2s/step - loss: 1.7275 - accuracy: 0.5058 - val_loss: 0.2402 - val_accuracy: 0.9490\n",
      "Epoch 7/10\n",
      "4/4 [==============================] - 7s 2s/step - loss: 1.6289 - accuracy: 0.5507 - val_loss: 0.2466 - val_accuracy: 0.9426\n",
      "Epoch 8/10\n",
      "4/4 [==============================] - 7s 2s/step - loss: 1.3605 - accuracy: 0.6304 - val_loss: 0.1493 - val_accuracy: 0.9635\n",
      "Epoch 9/10\n",
      "4/4 [==============================] - 7s 2s/step - loss: 1.2535 - accuracy: 0.6032 - val_loss: 0.3409 - val_accuracy: 0.9303\n",
      "Epoch 10/10\n",
      "4/4 [==============================] - 7s 2s/step - loss: 1.0205 - accuracy: 0.7070 - val_loss: 0.2514 - val_accuracy: 0.9395\n",
      "Duration: 0:01:27.297815\n"
     ]
    }
   ],
   "source": [
    "n=0\n",
    "print(n)\n",
    "\n",
    "models_random[n].fit_model(image_sets_random[n],label_sets_random[n],x_val,y_val)\n",
    "n = n+1"
   ]
  },
  {
   "cell_type": "code",
   "execution_count": 18,
   "id": "f28e27b1",
   "metadata": {},
   "outputs": [
    {
     "name": "stdout",
     "output_type": "stream",
     "text": [
      "1\n",
      "Epoch 1/10\n",
      "8/8 [==============================] - 11s 1s/step - loss: 4.0697 - accuracy: 0.1386 - val_loss: 0.3167 - val_accuracy: 0.9538\n",
      "Epoch 2/10\n",
      "8/8 [==============================] - 9s 1s/step - loss: 2.4782 - accuracy: 0.3458 - val_loss: 0.3798 - val_accuracy: 0.9303\n",
      "Epoch 3/10\n",
      "8/8 [==============================] - 9s 1s/step - loss: 2.1088 - accuracy: 0.4228 - val_loss: 0.5530 - val_accuracy: 0.8951\n",
      "Epoch 4/10\n",
      "8/8 [==============================] - 9s 1s/step - loss: 1.8484 - accuracy: 0.4938 - val_loss: 0.3741 - val_accuracy: 0.9234\n",
      "Epoch 5/10\n",
      "8/8 [==============================] - 9s 1s/step - loss: 1.5771 - accuracy: 0.5597 - val_loss: 0.4846 - val_accuracy: 0.9023\n",
      "Epoch 6/10\n",
      "8/8 [==============================] - 9s 1s/step - loss: 1.4025 - accuracy: 0.6010 - val_loss: 0.2937 - val_accuracy: 0.9382\n",
      "Epoch 7/10\n",
      "8/8 [==============================] - 9s 1s/step - loss: 1.2252 - accuracy: 0.6443 - val_loss: 0.5651 - val_accuracy: 0.8765\n",
      "Epoch 8/10\n",
      "8/8 [==============================] - 9s 1s/step - loss: 1.2356 - accuracy: 0.6498 - val_loss: 0.5122 - val_accuracy: 0.8982\n",
      "Epoch 9/10\n",
      "8/8 [==============================] - 9s 1s/step - loss: 1.0622 - accuracy: 0.6750 - val_loss: 0.5117 - val_accuracy: 0.8984\n",
      "Epoch 10/10\n",
      "8/8 [==============================] - 9s 1s/step - loss: 1.0233 - accuracy: 0.7149 - val_loss: 0.3032 - val_accuracy: 0.9286\n",
      "Duration: 0:01:32.400206\n"
     ]
    }
   ],
   "source": [
    "print(n)\n",
    "\n",
    "models_random[n].fit_model(image_sets_random[n],label_sets_random[n],x_val,y_val)\n",
    "n = n+1"
   ]
  },
  {
   "cell_type": "code",
   "execution_count": 19,
   "id": "86be2715",
   "metadata": {},
   "outputs": [
    {
     "name": "stdout",
     "output_type": "stream",
     "text": [
      "2\n",
      "Epoch 1/10\n",
      "12/12 [==============================] - 13s 986ms/step - loss: 3.8011 - accuracy: 0.1609 - val_loss: 0.3490 - val_accuracy: 0.9523\n",
      "Epoch 2/10\n",
      "12/12 [==============================] - 10s 909ms/step - loss: 2.3880 - accuracy: 0.3375 - val_loss: 0.2143 - val_accuracy: 0.9592\n",
      "Epoch 3/10\n",
      "12/12 [==============================] - 10s 895ms/step - loss: 1.8372 - accuracy: 0.4949 - val_loss: 0.2657 - val_accuracy: 0.9462\n",
      "Epoch 4/10\n",
      "12/12 [==============================] - 10s 891ms/step - loss: 1.6456 - accuracy: 0.5339 - val_loss: 0.5162 - val_accuracy: 0.8597\n",
      "Epoch 5/10\n",
      "12/12 [==============================] - 10s 889ms/step - loss: 1.3781 - accuracy: 0.6022 - val_loss: 0.3750 - val_accuracy: 0.9013\n",
      "Epoch 6/10\n",
      "12/12 [==============================] - 10s 897ms/step - loss: 1.2612 - accuracy: 0.6502 - val_loss: 0.2155 - val_accuracy: 0.9418\n",
      "Epoch 7/10\n",
      "12/12 [==============================] - 10s 914ms/step - loss: 1.1619 - accuracy: 0.6829 - val_loss: 0.5135 - val_accuracy: 0.8678\n",
      "Epoch 8/10\n",
      "12/12 [==============================] - 10s 887ms/step - loss: 0.9600 - accuracy: 0.7076 - val_loss: 0.4753 - val_accuracy: 0.8622\n",
      "Epoch 9/10\n",
      "12/12 [==============================] - 10s 884ms/step - loss: 0.8661 - accuracy: 0.7346 - val_loss: 0.3841 - val_accuracy: 0.8959\n",
      "Epoch 10/10\n",
      "12/12 [==============================] - 10s 883ms/step - loss: 0.9049 - accuracy: 0.7271 - val_loss: 0.4730 - val_accuracy: 0.8701\n",
      "Duration: 0:01:45.500088\n"
     ]
    }
   ],
   "source": [
    "print(n)\n",
    "\n",
    "models_random[n].fit_model(image_sets_random[n],label_sets_random[n],x_val,y_val)\n",
    "n = n+1"
   ]
  },
  {
   "cell_type": "code",
   "execution_count": 20,
   "id": "ac9da2be",
   "metadata": {
    "scrolled": true
   },
   "outputs": [
    {
     "name": "stdout",
     "output_type": "stream",
     "text": [
      "3\n",
      "Epoch 1/10\n",
      "16/16 [==============================] - 14s 768ms/step - loss: 3.6259 - accuracy: 0.1905 - val_loss: 0.2278 - val_accuracy: 0.9449\n",
      "Epoch 2/10\n",
      "16/16 [==============================] - 12s 751ms/step - loss: 2.0647 - accuracy: 0.4301 - val_loss: 0.3782 - val_accuracy: 0.9176\n",
      "Epoch 3/10\n",
      "16/16 [==============================] - 12s 750ms/step - loss: 1.6381 - accuracy: 0.5340 - val_loss: 0.7526 - val_accuracy: 0.8515\n",
      "Epoch 4/10\n",
      "16/16 [==============================] - 12s 752ms/step - loss: 1.4909 - accuracy: 0.5824 - val_loss: 0.3109 - val_accuracy: 0.9161\n",
      "Epoch 5/10\n",
      "16/16 [==============================] - 12s 752ms/step - loss: 1.2808 - accuracy: 0.6144 - val_loss: 0.3531 - val_accuracy: 0.8959\n",
      "Epoch 6/10\n",
      "16/16 [==============================] - 12s 753ms/step - loss: 1.0668 - accuracy: 0.6929 - val_loss: 0.4047 - val_accuracy: 0.8941\n",
      "Epoch 7/10\n",
      "16/16 [==============================] - 12s 774ms/step - loss: 0.9403 - accuracy: 0.7018 - val_loss: 0.3514 - val_accuracy: 0.9109\n",
      "Epoch 8/10\n",
      "16/16 [==============================] - 12s 757ms/step - loss: 0.8475 - accuracy: 0.7399 - val_loss: 0.9146 - val_accuracy: 0.8247\n",
      "Epoch 9/10\n",
      "16/16 [==============================] - 12s 753ms/step - loss: 0.7912 - accuracy: 0.7884 - val_loss: 0.5465 - val_accuracy: 0.8581\n",
      "Epoch 10/10\n",
      "16/16 [==============================] - 12s 751ms/step - loss: 0.7257 - accuracy: 0.7750 - val_loss: 0.4024 - val_accuracy: 0.8992\n",
      "Duration: 0:01:59.304511\n"
     ]
    }
   ],
   "source": [
    "print(n)\n",
    "\n",
    "models_random[n].fit_model(image_sets_random[n],label_sets_random[n],x_val,y_val)\n",
    "n = n+1"
   ]
  },
  {
   "cell_type": "code",
   "execution_count": 21,
   "id": "0c0f3809",
   "metadata": {},
   "outputs": [
    {
     "name": "stdout",
     "output_type": "stream",
     "text": [
      "4\n",
      "Epoch 1/10\n",
      "20/20 [==============================] - 15s 691ms/step - loss: 3.5390 - accuracy: 0.1981 - val_loss: 0.4337 - val_accuracy: 0.9428\n",
      "Epoch 2/10\n",
      "20/20 [==============================] - 13s 679ms/step - loss: 2.0474 - accuracy: 0.4392 - val_loss: 0.4498 - val_accuracy: 0.9046\n",
      "Epoch 3/10\n",
      "20/20 [==============================] - 13s 678ms/step - loss: 1.5602 - accuracy: 0.5530 - val_loss: 0.6694 - val_accuracy: 0.8295\n",
      "Epoch 4/10\n",
      "20/20 [==============================] - 13s 681ms/step - loss: 1.3801 - accuracy: 0.6122 - val_loss: 1.1631 - val_accuracy: 0.7954\n",
      "Epoch 5/10\n",
      "20/20 [==============================] - 13s 684ms/step - loss: 1.2687 - accuracy: 0.6330 - val_loss: 0.5820 - val_accuracy: 0.8413\n",
      "Epoch 6/10\n",
      "20/20 [==============================] - 13s 689ms/step - loss: 0.9525 - accuracy: 0.7289 - val_loss: 0.9204 - val_accuracy: 0.7992\n",
      "Epoch 7/10\n",
      "20/20 [==============================] - 13s 681ms/step - loss: 0.8887 - accuracy: 0.7653 - val_loss: 0.7623 - val_accuracy: 0.8140\n",
      "Epoch 8/10\n",
      "20/20 [==============================] - 13s 682ms/step - loss: 0.7969 - accuracy: 0.7691 - val_loss: 0.9000 - val_accuracy: 0.8086\n",
      "Epoch 9/10\n",
      "20/20 [==============================] - 13s 682ms/step - loss: 0.7529 - accuracy: 0.7836 - val_loss: 0.6521 - val_accuracy: 0.8367\n",
      "Epoch 10/10\n",
      "20/20 [==============================] - 13s 680ms/step - loss: 0.6263 - accuracy: 0.8052 - val_loss: 0.6192 - val_accuracy: 0.8357\n",
      "Duration: 0:02:15.542498\n"
     ]
    }
   ],
   "source": [
    "print(n)#4\n",
    "\n",
    "models_random[n].fit_model(image_sets_random[n],label_sets_random[n],x_val,y_val)\n",
    "n = n+1"
   ]
  },
  {
   "cell_type": "code",
   "execution_count": 22,
   "id": "cf722ccd",
   "metadata": {},
   "outputs": [
    {
     "name": "stdout",
     "output_type": "stream",
     "text": [
      "5\n",
      "Epoch 1/10\n",
      "24/24 [==============================] - 17s 639ms/step - loss: 3.4109 - accuracy: 0.2232 - val_loss: 0.7360 - val_accuracy: 0.8318\n",
      "Epoch 2/10\n",
      "24/24 [==============================] - 15s 643ms/step - loss: 1.9596 - accuracy: 0.4613 - val_loss: 0.7285 - val_accuracy: 0.8160\n",
      "Epoch 3/10\n",
      "24/24 [==============================] - 15s 624ms/step - loss: 1.4723 - accuracy: 0.5943 - val_loss: 0.5777 - val_accuracy: 0.8520\n",
      "Epoch 4/10\n",
      "24/24 [==============================] - 15s 630ms/step - loss: 1.2924 - accuracy: 0.6297 - val_loss: 0.5024 - val_accuracy: 0.8678\n",
      "Epoch 5/10\n",
      "24/24 [==============================] - 15s 627ms/step - loss: 1.0746 - accuracy: 0.6890 - val_loss: 0.4667 - val_accuracy: 0.8717\n",
      "Epoch 6/10\n",
      "24/24 [==============================] - 15s 626ms/step - loss: 0.9690 - accuracy: 0.7184 - val_loss: 0.7154 - val_accuracy: 0.8500\n",
      "Epoch 7/10\n",
      "24/24 [==============================] - 15s 625ms/step - loss: 0.8780 - accuracy: 0.7345 - val_loss: 0.7853 - val_accuracy: 0.7959\n",
      "Epoch 8/10\n",
      "24/24 [==============================] - 15s 625ms/step - loss: 0.8151 - accuracy: 0.7380 - val_loss: 0.6091 - val_accuracy: 0.8336\n",
      "Epoch 9/10\n",
      "24/24 [==============================] - 15s 625ms/step - loss: 0.7406 - accuracy: 0.7852 - val_loss: 0.4801 - val_accuracy: 0.8724\n",
      "Epoch 10/10\n",
      "24/24 [==============================] - 15s 626ms/step - loss: 0.6430 - accuracy: 0.8047 - val_loss: 1.3100 - val_accuracy: 0.7494\n",
      "Duration: 0:02:30.499690\n"
     ]
    }
   ],
   "source": [
    "n=5\n",
    "print(n)\n",
    "\n",
    "models_random[n].fit_model(image_sets_random[n],label_sets_random[n],x_val,y_val)\n",
    "n = n+1"
   ]
  },
  {
   "cell_type": "code",
   "execution_count": 23,
   "id": "35301e47",
   "metadata": {},
   "outputs": [
    {
     "name": "stdout",
     "output_type": "stream",
     "text": [
      "6\n",
      "Epoch 1/10\n",
      "28/28 [==============================] - 19s 595ms/step - loss: 3.3484 - accuracy: 0.2026 - val_loss: 0.7051 - val_accuracy: 0.8604\n",
      "Epoch 2/10\n",
      "28/28 [==============================] - 17s 597ms/step - loss: 1.9659 - accuracy: 0.4641 - val_loss: 0.6435 - val_accuracy: 0.8882\n",
      "Epoch 3/10\n",
      "28/28 [==============================] - 16s 590ms/step - loss: 1.5507 - accuracy: 0.5756 - val_loss: 0.4650 - val_accuracy: 0.8752\n",
      "Epoch 4/10\n",
      "28/28 [==============================] - 16s 590ms/step - loss: 1.2778 - accuracy: 0.6203 - val_loss: 0.7615 - val_accuracy: 0.8051\n",
      "Epoch 5/10\n",
      "28/28 [==============================] - 16s 592ms/step - loss: 1.1216 - accuracy: 0.6612 - val_loss: 0.4439 - val_accuracy: 0.8732\n",
      "Epoch 6/10\n",
      "28/28 [==============================] - 16s 591ms/step - loss: 1.0026 - accuracy: 0.7099 - val_loss: 0.4964 - val_accuracy: 0.8576\n",
      "Epoch 7/10\n",
      "28/28 [==============================] - 17s 601ms/step - loss: 0.7898 - accuracy: 0.7698 - val_loss: 0.5641 - val_accuracy: 0.8464\n",
      "Epoch 8/10\n",
      "28/28 [==============================] - 17s 601ms/step - loss: 0.7357 - accuracy: 0.7707 - val_loss: 0.5095 - val_accuracy: 0.8622\n",
      "Epoch 9/10\n",
      "28/28 [==============================] - 17s 633ms/step - loss: 0.6646 - accuracy: 0.7973 - val_loss: 0.5395 - val_accuracy: 0.8492\n",
      "Epoch 10/10\n",
      "28/28 [==============================] - 17s 609ms/step - loss: 0.5920 - accuracy: 0.8157 - val_loss: 0.5897 - val_accuracy: 0.8474\n",
      "Duration: 0:02:48.267559\n"
     ]
    }
   ],
   "source": [
    "print(n)\n",
    "\n",
    "models_random[n].fit_model(image_sets_random[n],label_sets_random[n],x_val,y_val)\n",
    "n = n+1"
   ]
  },
  {
   "cell_type": "code",
   "execution_count": 24,
   "id": "31086dab",
   "metadata": {},
   "outputs": [
    {
     "name": "stdout",
     "output_type": "stream",
     "text": [
      "7\n",
      "Epoch 1/10\n",
      "32/32 [==============================] - 20s 553ms/step - loss: 3.2201 - accuracy: 0.2363 - val_loss: 0.6273 - val_accuracy: 0.8599\n",
      "Epoch 2/10\n",
      "32/32 [==============================] - 17s 539ms/step - loss: 1.8061 - accuracy: 0.4737 - val_loss: 1.1705 - val_accuracy: 0.7719\n",
      "Epoch 3/10\n",
      "32/32 [==============================] - 18s 557ms/step - loss: 1.5373 - accuracy: 0.5575 - val_loss: 0.7516 - val_accuracy: 0.8035\n",
      "Epoch 4/10\n",
      "32/32 [==============================] - 17s 544ms/step - loss: 1.2627 - accuracy: 0.6486 - val_loss: 1.1456 - val_accuracy: 0.7015\n",
      "Epoch 5/10\n",
      "32/32 [==============================] - 17s 541ms/step - loss: 1.1068 - accuracy: 0.6693 - val_loss: 0.6024 - val_accuracy: 0.8290\n",
      "Epoch 6/10\n",
      "32/32 [==============================] - 17s 545ms/step - loss: 0.8644 - accuracy: 0.7466 - val_loss: 0.8442 - val_accuracy: 0.8339\n",
      "Epoch 7/10\n",
      "32/32 [==============================] - 17s 541ms/step - loss: 0.7773 - accuracy: 0.7637 - val_loss: 0.5705 - val_accuracy: 0.8369\n",
      "Epoch 8/10\n",
      "32/32 [==============================] - 17s 539ms/step - loss: 0.7164 - accuracy: 0.7899 - val_loss: 0.6124 - val_accuracy: 0.8293\n",
      "Epoch 9/10\n",
      "32/32 [==============================] - 17s 539ms/step - loss: 0.6926 - accuracy: 0.8122 - val_loss: 0.6690 - val_accuracy: 0.8229\n",
      "Epoch 10/10\n",
      "32/32 [==============================] - 17s 539ms/step - loss: 0.6384 - accuracy: 0.8210 - val_loss: 2.3158 - val_accuracy: 0.6808\n",
      "Duration: 0:02:54.470939\n"
     ]
    }
   ],
   "source": [
    "n=7\n",
    "print(n)\n",
    "\n",
    "models_random[n].fit_model(image_sets_random[n],label_sets_random[n],x_val,y_val)\n",
    "n = n+1"
   ]
  },
  {
   "cell_type": "code",
   "execution_count": 25,
   "id": "693f95bc",
   "metadata": {},
   "outputs": [
    {
     "name": "stdout",
     "output_type": "stream",
     "text": [
      "8\n",
      "Epoch 1/10\n",
      "36/36 [==============================] - 21s 527ms/step - loss: 3.0975 - accuracy: 0.2684 - val_loss: 0.2335 - val_accuracy: 0.9594\n",
      "Epoch 2/10\n",
      "36/36 [==============================] - 19s 526ms/step - loss: 1.7245 - accuracy: 0.5278 - val_loss: 0.6850 - val_accuracy: 0.8492\n",
      "Epoch 3/10\n",
      "36/36 [==============================] - 19s 526ms/step - loss: 1.4529 - accuracy: 0.5804 - val_loss: 0.4167 - val_accuracy: 0.8992\n",
      "Epoch 4/10\n",
      "36/36 [==============================] - 19s 519ms/step - loss: 1.0962 - accuracy: 0.6714 - val_loss: 1.9279 - val_accuracy: 0.7999\n",
      "Epoch 5/10\n",
      "36/36 [==============================] - 19s 519ms/step - loss: 1.1118 - accuracy: 0.6899 - val_loss: 0.5738 - val_accuracy: 0.8579\n",
      "Epoch 6/10\n",
      "36/36 [==============================] - 19s 534ms/step - loss: 0.8819 - accuracy: 0.7495 - val_loss: 0.4449 - val_accuracy: 0.8933\n",
      "Epoch 7/10\n",
      "36/36 [==============================] - 19s 526ms/step - loss: 0.7319 - accuracy: 0.7912 - val_loss: 1.1128 - val_accuracy: 0.8426\n",
      "Epoch 8/10\n",
      "36/36 [==============================] - 19s 519ms/step - loss: 0.6509 - accuracy: 0.8138 - val_loss: 4.2081 - val_accuracy: 0.7229\n",
      "Epoch 9/10\n",
      "36/36 [==============================] - 19s 523ms/step - loss: 0.8192 - accuracy: 0.7996 - val_loss: 0.8961 - val_accuracy: 0.7959\n",
      "Epoch 10/10\n",
      "36/36 [==============================] - 19s 519ms/step - loss: 0.4978 - accuracy: 0.8494 - val_loss: 1.2062 - val_accuracy: 0.8469\n",
      "Duration: 0:03:09.143905\n"
     ]
    }
   ],
   "source": [
    "print(n)\n",
    "\n",
    "models_random[n].fit_model(image_sets_random[n],label_sets_random[n],x_val,y_val)\n",
    "n = n+1"
   ]
  },
  {
   "cell_type": "code",
   "execution_count": 26,
   "id": "6e0e5801",
   "metadata": {
    "scrolled": false
   },
   "outputs": [
    {
     "name": "stdout",
     "output_type": "stream",
     "text": [
      "9\n",
      "Epoch 1/10\n",
      "40/40 [==============================] - 22s 510ms/step - loss: 3.1293 - accuracy: 0.2480 - val_loss: 0.7645 - val_accuracy: 0.8224\n",
      "Epoch 2/10\n",
      "40/40 [==============================] - 21s 529ms/step - loss: 1.8088 - accuracy: 0.5043 - val_loss: 0.3297 - val_accuracy: 0.9064\n",
      "Epoch 3/10\n",
      "40/40 [==============================] - 20s 504ms/step - loss: 1.2619 - accuracy: 0.6266 - val_loss: 0.7184 - val_accuracy: 0.8196\n",
      "Epoch 4/10\n",
      "40/40 [==============================] - 20s 503ms/step - loss: 1.0838 - accuracy: 0.6900 - val_loss: 1.3912 - val_accuracy: 0.6463\n",
      "Epoch 5/10\n",
      "40/40 [==============================] - 20s 508ms/step - loss: 1.1064 - accuracy: 0.6939 - val_loss: 0.4477 - val_accuracy: 0.8701\n",
      "Epoch 6/10\n",
      "40/40 [==============================] - 20s 504ms/step - loss: 0.7208 - accuracy: 0.7908 - val_loss: 2.1939 - val_accuracy: 0.4269\n",
      "Epoch 7/10\n",
      "40/40 [==============================] - 20s 504ms/step - loss: 1.0132 - accuracy: 0.7130 - val_loss: 0.5733 - val_accuracy: 0.8683\n",
      "Epoch 8/10\n",
      "40/40 [==============================] - 20s 504ms/step - loss: 0.6077 - accuracy: 0.8151 - val_loss: 0.5955 - val_accuracy: 0.8377\n",
      "Epoch 9/10\n",
      "40/40 [==============================] - 20s 503ms/step - loss: 0.5262 - accuracy: 0.8375 - val_loss: 0.7839 - val_accuracy: 0.8359\n",
      "Epoch 10/10\n",
      "40/40 [==============================] - 20s 503ms/step - loss: 0.4378 - accuracy: 0.8723 - val_loss: 0.8588 - val_accuracy: 0.7698\n",
      "Duration: 0:03:23.599980\n"
     ]
    }
   ],
   "source": [
    "n=9\n",
    "print(n)#9\n",
    "\n",
    "models_random[n].fit_model(image_sets_random[n],label_sets_random[n],x_val,y_val)\n",
    "n = n+1"
   ]
  },
  {
   "cell_type": "code",
   "execution_count": 27,
   "id": "ebd0756a",
   "metadata": {},
   "outputs": [
    {
     "name": "stdout",
     "output_type": "stream",
     "text": [
      "10\n",
      "Epoch 1/10\n",
      "43/43 [==============================] - 24s 512ms/step - loss: 3.1170 - accuracy: 0.2614 - val_loss: 0.6468 - val_accuracy: 0.8581\n",
      "Epoch 2/10\n",
      "43/43 [==============================] - 21s 501ms/step - loss: 1.5579 - accuracy: 0.5479 - val_loss: 0.6308 - val_accuracy: 0.8459\n",
      "Epoch 3/10\n",
      "43/43 [==============================] - 22s 503ms/step - loss: 1.1739 - accuracy: 0.6597 - val_loss: 0.6567 - val_accuracy: 0.8244\n",
      "Epoch 4/10\n",
      "43/43 [==============================] - 22s 503ms/step - loss: 0.9632 - accuracy: 0.7225 - val_loss: 0.9366 - val_accuracy: 0.7823\n",
      "Epoch 5/10\n",
      "43/43 [==============================] - 21s 500ms/step - loss: 0.8238 - accuracy: 0.7597 - val_loss: 0.7152 - val_accuracy: 0.8043\n",
      "Epoch 6/10\n",
      "43/43 [==============================] - 21s 501ms/step - loss: 0.6621 - accuracy: 0.8017 - val_loss: 0.7251 - val_accuracy: 0.8091\n",
      "Epoch 7/10\n",
      "43/43 [==============================] - 22s 504ms/step - loss: 0.5507 - accuracy: 0.8370 - val_loss: 0.9600 - val_accuracy: 0.7931\n",
      "Epoch 8/10\n",
      "43/43 [==============================] - 21s 500ms/step - loss: 0.5174 - accuracy: 0.8357 - val_loss: 0.6749 - val_accuracy: 0.8306\n",
      "Epoch 9/10\n",
      "43/43 [==============================] - 21s 500ms/step - loss: 0.4549 - accuracy: 0.8637 - val_loss: 0.6141 - val_accuracy: 0.8306\n",
      "Epoch 10/10\n",
      "43/43 [==============================] - 22s 517ms/step - loss: 0.4074 - accuracy: 0.8770 - val_loss: 0.8923 - val_accuracy: 0.7714\n",
      "Duration: 0:03:37.602181\n"
     ]
    }
   ],
   "source": [
    "n=10\n",
    "print(n)\n",
    "\n",
    "models_random[n].fit_model(image_sets_random[n],label_sets_random[n],x_val,y_val)\n",
    "n = n+1"
   ]
  },
  {
   "cell_type": "code",
   "execution_count": 28,
   "id": "8c267b21",
   "metadata": {},
   "outputs": [
    {
     "name": "stdout",
     "output_type": "stream",
     "text": [
      "11\n",
      "Epoch 1/10\n",
      "47/47 [==============================] - 25s 497ms/step - loss: 2.8337 - accuracy: 0.3000 - val_loss: 0.4730 - val_accuracy: 0.8813\n",
      "Epoch 2/10\n",
      "47/47 [==============================] - 23s 498ms/step - loss: 1.4169 - accuracy: 0.6085 - val_loss: 0.7717 - val_accuracy: 0.8546\n",
      "Epoch 3/10\n",
      "47/47 [==============================] - 23s 492ms/step - loss: 1.1528 - accuracy: 0.6707 - val_loss: 0.5866 - val_accuracy: 0.8474\n",
      "Epoch 4/10\n",
      "47/47 [==============================] - 23s 490ms/step - loss: 0.8881 - accuracy: 0.7255 - val_loss: 0.5930 - val_accuracy: 0.8380\n",
      "Epoch 5/10\n",
      "47/47 [==============================] - 23s 498ms/step - loss: 0.7553 - accuracy: 0.7802 - val_loss: 0.6966 - val_accuracy: 0.8181\n",
      "Epoch 6/10\n",
      "47/47 [==============================] - 23s 492ms/step - loss: 0.6155 - accuracy: 0.8045 - val_loss: 0.6713 - val_accuracy: 0.8117\n",
      "Epoch 7/10\n",
      "47/47 [==============================] - 23s 492ms/step - loss: 0.5496 - accuracy: 0.8349 - val_loss: 1.0893 - val_accuracy: 0.7882\n",
      "Epoch 8/10\n",
      "47/47 [==============================] - 23s 489ms/step - loss: 0.5055 - accuracy: 0.8489 - val_loss: 1.0923 - val_accuracy: 0.7869\n",
      "Epoch 9/10\n",
      "47/47 [==============================] - 23s 489ms/step - loss: 0.4134 - accuracy: 0.8691 - val_loss: 1.2413 - val_accuracy: 0.7798\n",
      "Epoch 10/10\n",
      "47/47 [==============================] - 23s 490ms/step - loss: 0.3190 - accuracy: 0.8987 - val_loss: 0.6530 - val_accuracy: 0.8367\n",
      "Duration: 0:03:52.428258\n"
     ]
    }
   ],
   "source": [
    "print(n)\n",
    "\n",
    "models_random[n].fit_model(image_sets_random[n],label_sets_random[n],x_val,y_val)\n",
    "n = n+1"
   ]
  },
  {
   "cell_type": "code",
   "execution_count": 29,
   "id": "a0f77dbe",
   "metadata": {},
   "outputs": [
    {
     "name": "stdout",
     "output_type": "stream",
     "text": [
      "12\n",
      "Epoch 1/10\n",
      "51/51 [==============================] - 26s 485ms/step - loss: 2.8591 - accuracy: 0.2775 - val_loss: 0.4353 - val_accuracy: 0.9046\n",
      "Epoch 2/10\n",
      "51/51 [==============================] - 25s 490ms/step - loss: 1.4739 - accuracy: 0.5888 - val_loss: 0.3896 - val_accuracy: 0.8979\n",
      "Epoch 3/10\n",
      "51/51 [==============================] - 25s 489ms/step - loss: 1.0809 - accuracy: 0.6814 - val_loss: 0.6051 - val_accuracy: 0.8290\n",
      "Epoch 4/10\n",
      "51/51 [==============================] - 24s 481ms/step - loss: 0.9487 - accuracy: 0.7175 - val_loss: 0.5827 - val_accuracy: 0.8382\n",
      "Epoch 5/10\n",
      "51/51 [==============================] - 25s 494ms/step - loss: 0.7500 - accuracy: 0.7726 - val_loss: 0.6523 - val_accuracy: 0.8405\n",
      "Epoch 6/10\n",
      "51/51 [==============================] - 24s 480ms/step - loss: 0.6294 - accuracy: 0.8089 - val_loss: 0.5402 - val_accuracy: 0.8421\n",
      "Epoch 7/10\n",
      "51/51 [==============================] - 25s 482ms/step - loss: 0.5177 - accuracy: 0.8454 - val_loss: 0.6845 - val_accuracy: 0.8227\n",
      "Epoch 8/10\n",
      "51/51 [==============================] - 24s 479ms/step - loss: 0.4830 - accuracy: 0.8533 - val_loss: 0.4984 - val_accuracy: 0.8724\n",
      "Epoch 9/10\n",
      "51/51 [==============================] - 24s 480ms/step - loss: 0.4442 - accuracy: 0.8728 - val_loss: 0.7706 - val_accuracy: 0.8186\n",
      "Epoch 10/10\n",
      "51/51 [==============================] - 24s 479ms/step - loss: 0.3430 - accuracy: 0.8894 - val_loss: 0.6965 - val_accuracy: 0.8400\n",
      "Duration: 0:04:07.843490\n"
     ]
    }
   ],
   "source": [
    "print(n)\n",
    "\n",
    "models_random[n].fit_model(image_sets_random[n],label_sets_random[n],x_val,y_val)\n",
    "n = n+1"
   ]
  },
  {
   "cell_type": "code",
   "execution_count": 30,
   "id": "f6406922",
   "metadata": {},
   "outputs": [
    {
     "name": "stdout",
     "output_type": "stream",
     "text": [
      "13\n",
      "Epoch 1/10\n",
      "55/55 [==============================] - 28s 476ms/step - loss: 2.8063 - accuracy: 0.3054 - val_loss: 0.4414 - val_accuracy: 0.8936\n",
      "Epoch 2/10\n",
      "55/55 [==============================] - 26s 473ms/step - loss: 1.3924 - accuracy: 0.5908 - val_loss: 0.3398 - val_accuracy: 0.9125\n",
      "Epoch 3/10\n",
      "55/55 [==============================] - 27s 489ms/step - loss: 1.0493 - accuracy: 0.6930 - val_loss: 0.3359 - val_accuracy: 0.9048\n",
      "Epoch 4/10\n",
      "55/55 [==============================] - 27s 493ms/step - loss: 0.8445 - accuracy: 0.7523 - val_loss: 0.4055 - val_accuracy: 0.8895\n",
      "Epoch 5/10\n",
      "55/55 [==============================] - 26s 475ms/step - loss: 0.6867 - accuracy: 0.7871 - val_loss: 0.4537 - val_accuracy: 0.8893\n",
      "Epoch 6/10\n",
      "55/55 [==============================] - 26s 476ms/step - loss: 0.5713 - accuracy: 0.8305 - val_loss: 0.2873 - val_accuracy: 0.9240\n",
      "Epoch 7/10\n",
      "55/55 [==============================] - 26s 473ms/step - loss: 0.5297 - accuracy: 0.8457 - val_loss: 0.9290 - val_accuracy: 0.8181\n",
      "Epoch 8/10\n",
      "55/55 [==============================] - 26s 471ms/step - loss: 0.4593 - accuracy: 0.8625 - val_loss: 0.7291 - val_accuracy: 0.8627\n",
      "Epoch 9/10\n",
      "55/55 [==============================] - 26s 471ms/step - loss: 0.4132 - accuracy: 0.8834 - val_loss: 0.4646 - val_accuracy: 0.8806\n",
      "Epoch 10/10\n",
      "55/55 [==============================] - 26s 471ms/step - loss: 0.3138 - accuracy: 0.9020 - val_loss: 0.4344 - val_accuracy: 0.8821\n",
      "Duration: 0:04:23.305790\n"
     ]
    }
   ],
   "source": [
    "print(n)\n",
    "\n",
    "models_random[n].fit_model(image_sets_random[n],label_sets_random[n],x_val,y_val)\n",
    "n = n+1"
   ]
  },
  {
   "cell_type": "code",
   "execution_count": 31,
   "id": "7a13139a",
   "metadata": {},
   "outputs": [
    {
     "name": "stdout",
     "output_type": "stream",
     "text": [
      "14\n",
      "Epoch 1/10\n",
      "59/59 [==============================] - 30s 472ms/step - loss: 2.8527 - accuracy: 0.3138 - val_loss: 0.3713 - val_accuracy: 0.9005\n",
      "Epoch 2/10\n",
      "59/59 [==============================] - 27s 464ms/step - loss: 1.4231 - accuracy: 0.5982 - val_loss: 0.3847 - val_accuracy: 0.9002\n",
      "Epoch 3/10\n",
      "59/59 [==============================] - 28s 471ms/step - loss: 1.0606 - accuracy: 0.6921 - val_loss: 0.7946 - val_accuracy: 0.8377\n",
      "Epoch 4/10\n",
      "59/59 [==============================] - 27s 464ms/step - loss: 0.8742 - accuracy: 0.7424 - val_loss: 0.4969 - val_accuracy: 0.8665\n",
      "Epoch 5/10\n",
      "59/59 [==============================] - 27s 466ms/step - loss: 0.7121 - accuracy: 0.7970 - val_loss: 0.6401 - val_accuracy: 0.8456\n",
      "Epoch 6/10\n",
      "59/59 [==============================] - 27s 464ms/step - loss: 0.5857 - accuracy: 0.8262 - val_loss: 1.2207 - val_accuracy: 0.7946\n",
      "Epoch 7/10\n",
      "59/59 [==============================] - 27s 465ms/step - loss: 0.4971 - accuracy: 0.8503 - val_loss: 0.5635 - val_accuracy: 0.8428\n",
      "Epoch 8/10\n",
      "59/59 [==============================] - 28s 475ms/step - loss: 0.4359 - accuracy: 0.8669 - val_loss: 1.0342 - val_accuracy: 0.8168\n",
      "Epoch 9/10\n",
      "59/59 [==============================] - 27s 465ms/step - loss: 0.4064 - accuracy: 0.8749 - val_loss: 0.5039 - val_accuracy: 0.8696\n",
      "Epoch 10/10\n",
      "59/59 [==============================] - 28s 468ms/step - loss: 0.3508 - accuracy: 0.8910 - val_loss: 0.5141 - val_accuracy: 0.8686\n",
      "Duration: 0:04:36.913934\n"
     ]
    }
   ],
   "source": [
    "print(n)#14\n",
    "\n",
    "models_random[n].fit_model(image_sets_random[n],label_sets_random[n],x_val,y_val)\n",
    "n = n+1"
   ]
  },
  {
   "cell_type": "code",
   "execution_count": 18,
   "id": "78517ef0",
   "metadata": {},
   "outputs": [
    {
     "name": "stdout",
     "output_type": "stream",
     "text": [
      "15\n",
      "Epoch 1/10\n",
      "63/63 [==============================] - 45s 461ms/step - loss: 2.8212 - accuracy: 0.3045 - val_loss: 0.4604 - val_accuracy: 0.8806\n",
      "Epoch 2/10\n",
      "63/63 [==============================] - 28s 452ms/step - loss: 1.3605 - accuracy: 0.6056 - val_loss: 0.5621 - val_accuracy: 0.8382\n",
      "Epoch 3/10\n",
      "63/63 [==============================] - 29s 455ms/step - loss: 0.9990 - accuracy: 0.7130 - val_loss: 0.9154 - val_accuracy: 0.7895\n",
      "Epoch 4/10\n",
      "63/63 [==============================] - 29s 455ms/step - loss: 0.7548 - accuracy: 0.7714 - val_loss: 0.7002 - val_accuracy: 0.8117\n",
      "Epoch 5/10\n",
      "63/63 [==============================] - 29s 457ms/step - loss: 0.6759 - accuracy: 0.8011 - val_loss: 0.6481 - val_accuracy: 0.8283\n",
      "Epoch 6/10\n",
      "63/63 [==============================] - 29s 465ms/step - loss: 0.5513 - accuracy: 0.8326 - val_loss: 0.5486 - val_accuracy: 0.8505\n",
      "Epoch 7/10\n",
      "63/63 [==============================] - 30s 479ms/step - loss: 0.4634 - accuracy: 0.8582 - val_loss: 0.5209 - val_accuracy: 0.8688\n",
      "Epoch 8/10\n",
      "63/63 [==============================] - 30s 481ms/step - loss: 0.3737 - accuracy: 0.8824 - val_loss: 0.5400 - val_accuracy: 0.8459\n",
      "Epoch 9/10\n",
      "63/63 [==============================] - 30s 479ms/step - loss: 0.3247 - accuracy: 0.9028 - val_loss: 0.6432 - val_accuracy: 0.8359\n",
      "Epoch 10/10\n",
      "63/63 [==============================] - 29s 466ms/step - loss: 0.3020 - accuracy: 0.9035 - val_loss: 1.7570 - val_accuracy: 0.7545\n",
      "Duration: 0:05:08.213773\n"
     ]
    }
   ],
   "source": [
    "n=15\n",
    "print(n)\n",
    "\n",
    "models_random[n].fit_model(image_sets_random[n],label_sets_random[n],x_val,y_val)\n",
    "n = n+1"
   ]
  },
  {
   "cell_type": "code",
   "execution_count": 19,
   "id": "be924fe3",
   "metadata": {},
   "outputs": [
    {
     "name": "stdout",
     "output_type": "stream",
     "text": [
      "16\n",
      "Epoch 1/10\n",
      "67/67 [==============================] - 34s 483ms/step - loss: 2.6276 - accuracy: 0.3454 - val_loss: 0.4044 - val_accuracy: 0.8956\n",
      "Epoch 2/10\n",
      "67/67 [==============================] - 31s 466ms/step - loss: 1.3118 - accuracy: 0.6273 - val_loss: 0.5499 - val_accuracy: 0.8581\n",
      "Epoch 3/10\n",
      "67/67 [==============================] - 30s 450ms/step - loss: 0.9420 - accuracy: 0.7207 - val_loss: 0.6055 - val_accuracy: 0.8380\n",
      "Epoch 4/10\n",
      "67/67 [==============================] - 30s 448ms/step - loss: 0.7616 - accuracy: 0.7713 - val_loss: 0.8570 - val_accuracy: 0.7974\n",
      "Epoch 5/10\n",
      "67/67 [==============================] - 30s 449ms/step - loss: 0.6090 - accuracy: 0.8155 - val_loss: 0.9564 - val_accuracy: 0.7798\n",
      "Epoch 6/10\n",
      "67/67 [==============================] - 30s 455ms/step - loss: 0.5079 - accuracy: 0.8551 - val_loss: 0.7328 - val_accuracy: 0.8096\n",
      "Epoch 7/10\n",
      "67/67 [==============================] - 30s 450ms/step - loss: 0.4380 - accuracy: 0.8618 - val_loss: 0.7703 - val_accuracy: 0.8474\n",
      "Epoch 8/10\n",
      "67/67 [==============================] - 30s 447ms/step - loss: 0.4080 - accuracy: 0.8808 - val_loss: 0.6076 - val_accuracy: 0.8492\n",
      "Epoch 9/10\n",
      "67/67 [==============================] - 30s 448ms/step - loss: 0.3418 - accuracy: 0.8968 - val_loss: 1.1750 - val_accuracy: 0.7798\n",
      "Epoch 10/10\n",
      "67/67 [==============================] - 31s 458ms/step - loss: 0.3133 - accuracy: 0.9026 - val_loss: 1.2226 - val_accuracy: 0.8020\n",
      "Duration: 0:05:06.424024\n"
     ]
    }
   ],
   "source": [
    "n=16\n",
    "print(n)\n",
    "\n",
    "models_random[n].fit_model(image_sets_random[n],label_sets_random[n],x_val,y_val)\n",
    "n = n+1"
   ]
  },
  {
   "cell_type": "code",
   "execution_count": 20,
   "id": "f4b40a6c",
   "metadata": {},
   "outputs": [
    {
     "name": "stdout",
     "output_type": "stream",
     "text": [
      "17\n",
      "Epoch 1/10\n",
      "71/71 [==============================] - 34s 451ms/step - loss: 2.7248 - accuracy: 0.3228 - val_loss: 0.5965 - val_accuracy: 0.8459\n",
      "Epoch 2/10\n",
      "71/71 [==============================] - 32s 458ms/step - loss: 1.2695 - accuracy: 0.6288 - val_loss: 0.4049 - val_accuracy: 0.9109\n",
      "Epoch 3/10\n",
      "71/71 [==============================] - 32s 447ms/step - loss: 0.9580 - accuracy: 0.7266 - val_loss: 0.9174 - val_accuracy: 0.8278\n",
      "Epoch 4/10\n",
      "71/71 [==============================] - 31s 444ms/step - loss: 0.7806 - accuracy: 0.7668 - val_loss: 0.6536 - val_accuracy: 0.8502\n",
      "Epoch 5/10\n",
      "71/71 [==============================] - 33s 462ms/step - loss: 0.5882 - accuracy: 0.8203 - val_loss: 0.4798 - val_accuracy: 0.8770\n",
      "Epoch 6/10\n",
      "71/71 [==============================] - 31s 443ms/step - loss: 0.4632 - accuracy: 0.8600 - val_loss: 0.9578 - val_accuracy: 0.8237\n",
      "Epoch 7/10\n",
      "71/71 [==============================] - 34s 475ms/step - loss: 0.4212 - accuracy: 0.8693 - val_loss: 1.3161 - val_accuracy: 0.7755\n",
      "Epoch 8/10\n",
      "71/71 [==============================] - 33s 467ms/step - loss: 0.4008 - accuracy: 0.8835 - val_loss: 0.4367 - val_accuracy: 0.8683\n",
      "Epoch 9/10\n",
      "71/71 [==============================] - 36s 509ms/step - loss: 0.3305 - accuracy: 0.9020 - val_loss: 0.7936 - val_accuracy: 0.8010\n",
      "Epoch 10/10\n",
      "71/71 [==============================] - 35s 488ms/step - loss: 0.3006 - accuracy: 0.9124 - val_loss: 1.0054 - val_accuracy: 0.8191\n",
      "Duration: 0:05:30.795278\n"
     ]
    }
   ],
   "source": [
    "print(n)\n",
    "\n",
    "models_random[n].fit_model(image_sets_random[n],label_sets_random[n],x_val,y_val)\n",
    "n = n+1"
   ]
  },
  {
   "cell_type": "code",
   "execution_count": 21,
   "id": "d6ee7926",
   "metadata": {},
   "outputs": [
    {
     "name": "stdout",
     "output_type": "stream",
     "text": [
      "18\n",
      "Epoch 1/10\n",
      "75/75 [==============================] - 37s 471ms/step - loss: 2.5869 - accuracy: 0.3629 - val_loss: 0.5671 - val_accuracy: 0.8579\n",
      "Epoch 2/10\n",
      "75/75 [==============================] - 35s 473ms/step - loss: 1.2574 - accuracy: 0.6437 - val_loss: 1.3193 - val_accuracy: 0.7816\n",
      "Epoch 3/10\n",
      "75/75 [==============================] - 37s 498ms/step - loss: 0.9199 - accuracy: 0.7278 - val_loss: 0.6264 - val_accuracy: 0.8477\n",
      "Epoch 4/10\n",
      "75/75 [==============================] - 37s 492ms/step - loss: 0.6967 - accuracy: 0.7933 - val_loss: 3.3877 - val_accuracy: 0.6805\n",
      "Epoch 5/10\n",
      "75/75 [==============================] - 37s 494ms/step - loss: 0.6203 - accuracy: 0.8204 - val_loss: 0.5902 - val_accuracy: 0.8285\n",
      "Epoch 6/10\n",
      "75/75 [==============================] - 35s 468ms/step - loss: 0.4700 - accuracy: 0.8641 - val_loss: 1.2811 - val_accuracy: 0.7900\n",
      "Epoch 7/10\n",
      "75/75 [==============================] - 36s 485ms/step - loss: 0.3943 - accuracy: 0.8796 - val_loss: 0.5348 - val_accuracy: 0.8571\n",
      "Epoch 8/10\n",
      "75/75 [==============================] - 37s 491ms/step - loss: 0.3667 - accuracy: 0.8975 - val_loss: 0.6228 - val_accuracy: 0.8219\n",
      "Epoch 9/10\n",
      "75/75 [==============================] - 33s 442ms/step - loss: 0.2895 - accuracy: 0.9152 - val_loss: 1.1307 - val_accuracy: 0.8219\n",
      "Epoch 10/10\n",
      "75/75 [==============================] - 33s 439ms/step - loss: 0.3106 - accuracy: 0.9072 - val_loss: 1.4120 - val_accuracy: 0.7535\n",
      "Duration: 0:05:57.930466\n"
     ]
    }
   ],
   "source": [
    "n=18\n",
    "print(n)\n",
    "\n",
    "models_random[n].fit_model(image_sets_random[n],label_sets_random[n],x_val,y_val)\n",
    "n = n+1"
   ]
  },
  {
   "cell_type": "code",
   "execution_count": 16,
   "id": "e6497c26",
   "metadata": {},
   "outputs": [
    {
     "name": "stdout",
     "output_type": "stream",
     "text": [
      "19\n",
      "Epoch 1/10\n",
      "79/79 [==============================] - 90s 571ms/step - loss: 2.5786 - accuracy: 0.3412 - val_loss: 0.7239 - val_accuracy: 0.8382\n",
      "Epoch 2/10\n",
      "79/79 [==============================] - 45s 570ms/step - loss: 1.2260 - accuracy: 0.6476 - val_loss: 1.1359 - val_accuracy: 0.8025\n",
      "Epoch 3/10\n",
      "79/79 [==============================] - 46s 578ms/step - loss: 0.9079 - accuracy: 0.7339 - val_loss: 0.6723 - val_accuracy: 0.8150\n",
      "Epoch 4/10\n",
      "79/79 [==============================] - 47s 590ms/step - loss: 0.6540 - accuracy: 0.7984 - val_loss: 0.4377 - val_accuracy: 0.8793\n",
      "Epoch 5/10\n",
      "79/79 [==============================] - 45s 574ms/step - loss: 0.5761 - accuracy: 0.8313 - val_loss: 1.1302 - val_accuracy: 0.7737\n",
      "Epoch 6/10\n",
      "79/79 [==============================] - 45s 573ms/step - loss: 0.4966 - accuracy: 0.8594 - val_loss: 0.8834 - val_accuracy: 0.7948\n",
      "Epoch 7/10\n",
      "79/79 [==============================] - 45s 564ms/step - loss: 0.4111 - accuracy: 0.8733 - val_loss: 0.8379 - val_accuracy: 0.7849\n",
      "Epoch 8/10\n",
      "79/79 [==============================] - 45s 576ms/step - loss: 0.3672 - accuracy: 0.8919 - val_loss: 0.8774 - val_accuracy: 0.7892\n",
      "Epoch 9/10\n",
      "79/79 [==============================] - 46s 579ms/step - loss: 0.3343 - accuracy: 0.8922 - val_loss: 1.1761 - val_accuracy: 0.8038\n",
      "Epoch 10/10\n",
      "79/79 [==============================] - 46s 584ms/step - loss: 0.2753 - accuracy: 0.9176 - val_loss: 0.9580 - val_accuracy: 0.7816\n",
      "Duration: 0:08:20.358235\n"
     ]
    }
   ],
   "source": [
    "n=19\n",
    "print(n)#19\n",
    "\n",
    "models_random[n].fit_model(image_sets_random[n],label_sets_random[n],x_val,y_val)\n",
    "n = n+1"
   ]
  },
  {
   "cell_type": "code",
   "execution_count": 22,
   "id": "4d243087",
   "metadata": {},
   "outputs": [
    {
     "name": "stdout",
     "output_type": "stream",
     "text": [
      "D:/models/gtsrb_models/C3/gtsrb_model_c3_sep_random_e2_0\n",
      "Model loaded correctly\n",
      "D:/models/gtsrb_models/C3/gtsrb_model_c3_sep_random_e2_1\n",
      "Model loaded correctly\n",
      "D:/models/gtsrb_models/C3/gtsrb_model_c3_sep_random_e2_2\n",
      "Model loaded correctly\n",
      "D:/models/gtsrb_models/C3/gtsrb_model_c3_sep_random_e2_3\n",
      "Model loaded correctly\n",
      "D:/models/gtsrb_models/C3/gtsrb_model_c3_sep_random_e2_4\n",
      "Model loaded correctly\n",
      "D:/models/gtsrb_models/C3/gtsrb_model_c3_sep_random_e2_5\n",
      "Model loaded correctly\n",
      "D:/models/gtsrb_models/C3/gtsrb_model_c3_sep_random_e2_6\n",
      "Model loaded correctly\n",
      "D:/models/gtsrb_models/C3/gtsrb_model_c3_sep_random_e2_7\n",
      "Model loaded correctly\n",
      "D:/models/gtsrb_models/C3/gtsrb_model_c3_sep_random_e2_8\n",
      "Model loaded correctly\n",
      "D:/models/gtsrb_models/C3/gtsrb_model_c3_sep_random_e2_9\n",
      "Model loaded correctly\n",
      "D:/models/gtsrb_models/C3/gtsrb_model_c3_sep_random_e2_10\n",
      "Model loaded correctly\n",
      "D:/models/gtsrb_models/C3/gtsrb_model_c3_sep_random_e2_11\n",
      "Model loaded correctly\n",
      "D:/models/gtsrb_models/C3/gtsrb_model_c3_sep_random_e2_12\n",
      "Model loaded correctly\n",
      "D:/models/gtsrb_models/C3/gtsrb_model_c3_sep_random_e2_13\n",
      "Model loaded correctly\n",
      "D:/models/gtsrb_models/C3/gtsrb_model_c3_sep_random_e2_14\n",
      "Model loaded correctly\n",
      "D:/models/gtsrb_models/C3/gtsrb_model_c3_sep_random_e2_15\n",
      "Model loaded correctly\n",
      "D:/models/gtsrb_models/C3/gtsrb_model_c3_sep_random_e2_16\n",
      "Model loaded correctly\n",
      "D:/models/gtsrb_models/C3/gtsrb_model_c3_sep_random_e2_17\n",
      "Model loaded correctly\n",
      "D:/models/gtsrb_models/C3/gtsrb_model_c3_sep_random_e2_18\n",
      "Model loaded correctly\n",
      "D:/models/gtsrb_models/C3/gtsrb_model_c3_sep_random_e2_19\n",
      "Model loaded correctly\n"
     ]
    }
   ],
   "source": [
    "loading = True\n",
    "\n",
    "models_random = []\n",
    "\n",
    "if loading:\n",
    "    for i in range(20):\n",
    "        model_random_dir = \"D:/models/gtsrb_models/C3/gtsrb_model_c3_sep_random_e2_\"+str(i)\n",
    "        print(model_random_dir)\n",
    "        model =utils.My_model('gtsrb',True,model_random_dir)\n",
    "        model.model.compile(loss= 'categorical_crossentropy', optimizer = 'rmsprop', metrics = ['accuracy',tf.keras.metrics.Precision(), tf.keras.metrics.Recall()])\n",
    "        models_random.append(model)\n",
    "       "
   ]
  },
  {
   "cell_type": "markdown",
   "id": "884629f5",
   "metadata": {},
   "source": [
    "## NC"
   ]
  },
  {
   "cell_type": "markdown",
   "id": "58a54b05",
   "metadata": {},
   "source": [
    "## point nc"
   ]
  },
  {
   "cell_type": "code",
   "execution_count": 17,
   "id": "e53f2bcb",
   "metadata": {},
   "outputs": [],
   "source": [
    "# NC\n",
    "nc_values = []\n",
    "for i in range(1,38):\n",
    "    save_dir_rand = \"C:/Users/fjdur/Desktop/upc/project_notebooks/github_project/DL_notebooks/NC_values/nc_values_\"+str(i)+\".npy\"\n",
    "    #print(save_dir_rand)\n",
    "    tmp_values = np.load(save_dir_rand)\n",
    "    #print(tmp_values.shape)\n",
    "    nc_values = np.append(nc_values,tmp_values)"
   ]
  },
  {
   "cell_type": "code",
   "execution_count": 18,
   "id": "637de522",
   "metadata": {},
   "outputs": [
    {
     "data": {
      "text/plain": [
       "(36366,)"
      ]
     },
     "execution_count": 18,
     "metadata": {},
     "output_type": "execute_result"
    }
   ],
   "source": [
    "nc_values.shape"
   ]
  },
  {
   "cell_type": "code",
   "execution_count": 19,
   "id": "b7388b74",
   "metadata": {},
   "outputs": [
    {
     "data": {
      "text/plain": [
       "(5000,)"
      ]
     },
     "execution_count": 19,
     "metadata": {},
     "output_type": "execute_result"
    }
   ],
   "source": [
    "nc_values_adversarial = nc_values[len(x_train):]\n",
    "nc_values_adversarial.shape"
   ]
  },
  {
   "cell_type": "code",
   "execution_count": 20,
   "id": "024f3314",
   "metadata": {},
   "outputs": [],
   "source": [
    "\n",
    "top_images_by_nc = utils.get_x_of_indexes(list(np.flip(np.argsort(nc_values_adversarial))),x_adversary_training)\n",
    "top_labels_by_nc = utils.get_x_of_indexes(list(np.flip(np.argsort(nc_values_adversarial))),y_adversary_training)\n"
   ]
  },
  {
   "cell_type": "code",
   "execution_count": 21,
   "id": "7490c255",
   "metadata": {},
   "outputs": [
    {
     "name": "stdout",
     "output_type": "stream",
     "text": [
      "0 :\n",
      "0  ->  250\n",
      "250\n",
      "1 :\n",
      "0  ->  500\n",
      "500\n",
      "2 :\n",
      "0  ->  750\n",
      "750\n",
      "3 :\n",
      "0  ->  1000\n",
      "1000\n",
      "4 :\n",
      "0  ->  1250\n",
      "1250\n",
      "5 :\n",
      "0  ->  1500\n",
      "1500\n",
      "6 :\n",
      "0  ->  1750\n",
      "1750\n",
      "7 :\n",
      "0  ->  2000\n",
      "2000\n",
      "8 :\n",
      "0  ->  2250\n",
      "2250\n",
      "9 :\n",
      "0  ->  2500\n",
      "2500\n",
      "10 :\n",
      "0  ->  2750\n",
      "2750\n",
      "11 :\n",
      "0  ->  3000\n",
      "3000\n",
      "12 :\n",
      "0  ->  3250\n",
      "3250\n",
      "13 :\n",
      "0  ->  3500\n",
      "3500\n",
      "14 :\n",
      "0  ->  3750\n",
      "3750\n",
      "15 :\n",
      "0  ->  4000\n",
      "4000\n",
      "16 :\n",
      "0  ->  4250\n",
      "4250\n",
      "17 :\n",
      "0  ->  4500\n",
      "4500\n",
      "18 :\n",
      "0  ->  4750\n",
      "4750\n",
      "19 :\n",
      "Last\n",
      "0  ->  5000\n",
      "5000\n"
     ]
    }
   ],
   "source": [
    "m = 250\n",
    "n = 0\n",
    "image_sets_nc = []\n",
    "label_sets_nc = []\n",
    "\n",
    "\n",
    "for i in range(len(top_images_by_nc)//m):\n",
    "    print(i,\":\")\n",
    "    if (i+1 >= len(top_images_by_nc)//m):\n",
    "        print(\"Last\")\n",
    "        print(0,\" -> \",n+m+(len(top_images_by_nc)%m))\n",
    "        top_images_by_nc_n = np.array(top_images_by_nc[:n+m+(len(top_images_by_nc)%m)])\n",
    "        top_labels_by_nc_n = np.array(top_labels_by_nc[:n+m+(len(top_images_by_nc)%m)])\n",
    "    else:\n",
    "        print(0,\" -> \",m+n)\n",
    "        top_images_by_nc_n = np.array(top_images_by_nc[:n+m])\n",
    "        top_labels_by_nc_n = np.array(top_labels_by_nc[:n+m])\n",
    "    image_sets_nc.append(top_images_by_nc_n)\n",
    "    label_sets_nc.append(top_labels_by_nc_n)\n",
    "    print(len(top_images_by_nc_n))\n",
    "    n += m\n",
    "\n"
   ]
  },
  {
   "cell_type": "code",
   "execution_count": 22,
   "id": "0a65e301",
   "metadata": {},
   "outputs": [
    {
     "name": "stdout",
     "output_type": "stream",
     "text": [
      "C:/Users/fjdur/Desktop/upc/project_notebooks/github_project/DL_notebooks/models/tf_model_25-06\n",
      "0 :\n",
      "Model loaded correctly\n",
      "Model compiled\n",
      "1 :\n",
      "Model loaded correctly\n",
      "Model compiled\n",
      "2 :\n",
      "Model loaded correctly\n",
      "Model compiled\n",
      "3 :\n",
      "Model loaded correctly\n",
      "Model compiled\n",
      "4 :\n",
      "Model loaded correctly\n",
      "Model compiled\n",
      "5 :\n",
      "Model loaded correctly\n",
      "Model compiled\n",
      "6 :\n",
      "Model loaded correctly\n",
      "Model compiled\n",
      "7 :\n",
      "Model loaded correctly\n",
      "Model compiled\n",
      "8 :\n",
      "Model loaded correctly\n",
      "Model compiled\n",
      "9 :\n",
      "Model loaded correctly\n",
      "Model compiled\n",
      "10 :\n",
      "Model loaded correctly\n",
      "Model compiled\n",
      "11 :\n",
      "Model loaded correctly\n",
      "Model compiled\n",
      "12 :\n",
      "Model loaded correctly\n",
      "Model compiled\n",
      "13 :\n",
      "Model loaded correctly\n",
      "Model compiled\n",
      "14 :\n",
      "Model loaded correctly\n",
      "Model compiled\n",
      "15 :\n",
      "Model loaded correctly\n",
      "Model compiled\n",
      "16 :\n",
      "Model loaded correctly\n",
      "Model compiled\n",
      "17 :\n",
      "Model loaded correctly\n",
      "Model compiled\n",
      "18 :\n",
      "Model loaded correctly\n",
      "Model compiled\n",
      "19 :\n",
      "Model loaded correctly\n",
      "Model compiled\n"
     ]
    }
   ],
   "source": [
    "print(model_dir)\n",
    "\n",
    "models_nc = []\n",
    "for i in range(len(label_sets_nc)):\n",
    "    print(i,\":\")\n",
    "    model = utils.My_model('gtsrb',True,model_dir)\n",
    "    model.compile_model()\n",
    "    models_nc.append(model)\n"
   ]
  },
  {
   "cell_type": "code",
   "execution_count": 17,
   "id": "df0b6c8f",
   "metadata": {},
   "outputs": [
    {
     "name": "stdout",
     "output_type": "stream",
     "text": [
      "0\n",
      "Epoch 1/10\n",
      "4/4 [==============================] - 23s 2s/step - loss: 7.7773 - accuracy: 0.1656 - val_loss: 1.5795 - val_accuracy: 0.7321\n",
      "Epoch 2/10\n",
      "4/4 [==============================] - 7s 2s/step - loss: 2.7674 - accuracy: 0.2410 - val_loss: 1.2464 - val_accuracy: 0.7747\n",
      "Epoch 3/10\n",
      "4/4 [==============================] - 7s 2s/step - loss: 2.6087 - accuracy: 0.2919 - val_loss: 0.9143 - val_accuracy: 0.7974\n",
      "Epoch 4/10\n",
      "4/4 [==============================] - 7s 2s/step - loss: 2.3021 - accuracy: 0.3357 - val_loss: 0.6994 - val_accuracy: 0.8709\n",
      "Epoch 5/10\n",
      "4/4 [==============================] - 7s 2s/step - loss: 2.1792 - accuracy: 0.3781 - val_loss: 0.9254 - val_accuracy: 0.8137\n",
      "Epoch 6/10\n",
      "4/4 [==============================] - 7s 2s/step - loss: 2.3245 - accuracy: 0.3690 - val_loss: 0.8908 - val_accuracy: 0.8285\n",
      "Epoch 7/10\n",
      "4/4 [==============================] - 7s 2s/step - loss: 1.9720 - accuracy: 0.4232 - val_loss: 0.5651 - val_accuracy: 0.9020\n",
      "Epoch 8/10\n",
      "4/4 [==============================] - 7s 2s/step - loss: 1.8811 - accuracy: 0.4828 - val_loss: 0.5282 - val_accuracy: 0.8974\n",
      "Epoch 9/10\n",
      "4/4 [==============================] - 7s 2s/step - loss: 1.8626 - accuracy: 0.4736 - val_loss: 0.7001 - val_accuracy: 0.8645\n",
      "Epoch 10/10\n",
      "4/4 [==============================] - 7s 2s/step - loss: 1.8712 - accuracy: 0.4870 - val_loss: 0.6721 - val_accuracy: 0.8569\n",
      "Duration: 0:01:28.454183\n"
     ]
    }
   ],
   "source": [
    "n=0\n",
    "print(n)\n",
    "\n",
    "models_nc[n].fit_model(image_sets_nc[n],label_sets_nc[n],x_val,y_val)\n",
    "n = n+1"
   ]
  },
  {
   "cell_type": "code",
   "execution_count": 18,
   "id": "0f4f3f4b",
   "metadata": {},
   "outputs": [
    {
     "name": "stdout",
     "output_type": "stream",
     "text": [
      "1\n",
      "Epoch 1/10\n",
      "8/8 [==============================] - 11s 1s/step - loss: 5.0118 - accuracy: 0.1634 - val_loss: 0.9989 - val_accuracy: 0.8158\n",
      "Epoch 2/10\n",
      "8/8 [==============================] - 9s 1s/step - loss: 2.5601 - accuracy: 0.2782 - val_loss: 0.6951 - val_accuracy: 0.8681\n",
      "Epoch 3/10\n",
      "8/8 [==============================] - 9s 1s/step - loss: 2.2094 - accuracy: 0.3735 - val_loss: 0.8348 - val_accuracy: 0.8206\n",
      "Epoch 4/10\n",
      "8/8 [==============================] - 9s 1s/step - loss: 2.1412 - accuracy: 0.3497 - val_loss: 0.9045 - val_accuracy: 0.7844\n",
      "Epoch 5/10\n",
      "8/8 [==============================] - 9s 1s/step - loss: 2.0132 - accuracy: 0.4182 - val_loss: 0.4619 - val_accuracy: 0.8956\n",
      "Epoch 6/10\n",
      "8/8 [==============================] - 9s 1s/step - loss: 1.8499 - accuracy: 0.4851 - val_loss: 0.6067 - val_accuracy: 0.8505\n",
      "Epoch 7/10\n",
      "8/8 [==============================] - 9s 1s/step - loss: 1.7732 - accuracy: 0.4766 - val_loss: 0.8536 - val_accuracy: 0.7851\n",
      "Epoch 8/10\n",
      "8/8 [==============================] - 9s 1s/step - loss: 1.7710 - accuracy: 0.4972 - val_loss: 0.8835 - val_accuracy: 0.7806\n",
      "Epoch 9/10\n",
      "8/8 [==============================] - 9s 1s/step - loss: 1.6969 - accuracy: 0.5243 - val_loss: 0.5858 - val_accuracy: 0.8717\n",
      "Epoch 10/10\n",
      "8/8 [==============================] - 9s 1s/step - loss: 1.3027 - accuracy: 0.6127 - val_loss: 0.5176 - val_accuracy: 0.8780\n",
      "Duration: 0:01:30.945243\n"
     ]
    }
   ],
   "source": [
    "\n",
    "print(n)\n",
    "\n",
    "models_nc[n].fit_model(image_sets_nc[n],label_sets_nc[n],x_val,y_val)\n",
    "n = n+1"
   ]
  },
  {
   "cell_type": "code",
   "execution_count": 19,
   "id": "c055f71b",
   "metadata": {},
   "outputs": [
    {
     "name": "stdout",
     "output_type": "stream",
     "text": [
      "2\n",
      "Epoch 1/10\n",
      "12/12 [==============================] - 12s 928ms/step - loss: 5.1305 - accuracy: 0.1163 - val_loss: 0.7686 - val_accuracy: 0.8729\n",
      "Epoch 2/10\n",
      "12/12 [==============================] - 10s 910ms/step - loss: 2.5467 - accuracy: 0.2691 - val_loss: 0.6593 - val_accuracy: 0.8591\n",
      "Epoch 3/10\n",
      "12/12 [==============================] - 10s 913ms/step - loss: 2.3767 - accuracy: 0.3364 - val_loss: 0.6044 - val_accuracy: 0.8793\n",
      "Epoch 4/10\n",
      "12/12 [==============================] - 10s 905ms/step - loss: 1.9560 - accuracy: 0.4298 - val_loss: 3.2494 - val_accuracy: 0.6764\n",
      "Epoch 5/10\n",
      "12/12 [==============================] - 10s 908ms/step - loss: 2.9963 - accuracy: 0.3720 - val_loss: 0.4170 - val_accuracy: 0.9066\n",
      "Epoch 6/10\n",
      "12/12 [==============================] - 10s 906ms/step - loss: 1.7902 - accuracy: 0.4875 - val_loss: 0.3588 - val_accuracy: 0.9018\n",
      "Epoch 7/10\n",
      "12/12 [==============================] - 11s 925ms/step - loss: 1.5140 - accuracy: 0.5485 - val_loss: 0.7674 - val_accuracy: 0.8020\n",
      "Epoch 8/10\n",
      "12/12 [==============================] - 12s 1s/step - loss: 1.4081 - accuracy: 0.6132 - val_loss: 0.5165 - val_accuracy: 0.8599\n",
      "Epoch 9/10\n",
      "12/12 [==============================] - 11s 936ms/step - loss: 1.1970 - accuracy: 0.6445 - val_loss: 0.4837 - val_accuracy: 0.8803\n",
      "Epoch 10/10\n",
      "12/12 [==============================] - 10s 917ms/step - loss: 1.1481 - accuracy: 0.6648 - val_loss: 0.6743 - val_accuracy: 0.8410\n",
      "Duration: 0:01:47.882745\n"
     ]
    }
   ],
   "source": [
    "\n",
    "print(n)\n",
    "\n",
    "models_nc[n].fit_model(image_sets_nc[n],label_sets_nc[n],x_val,y_val)\n",
    "n = n+1"
   ]
  },
  {
   "cell_type": "code",
   "execution_count": 20,
   "id": "5186f306",
   "metadata": {},
   "outputs": [
    {
     "name": "stdout",
     "output_type": "stream",
     "text": [
      "3\n",
      "Epoch 1/10\n",
      "16/16 [==============================] - 14s 802ms/step - loss: 3.8587 - accuracy: 0.1880 - val_loss: 0.5428 - val_accuracy: 0.9028\n",
      "Epoch 2/10\n",
      "16/16 [==============================] - 13s 805ms/step - loss: 2.2605 - accuracy: 0.3643 - val_loss: 0.7672 - val_accuracy: 0.8398\n",
      "Epoch 3/10\n",
      "16/16 [==============================] - 12s 755ms/step - loss: 1.9314 - accuracy: 0.4295 - val_loss: 0.6002 - val_accuracy: 0.8676\n",
      "Epoch 4/10\n",
      "16/16 [==============================] - 12s 744ms/step - loss: 1.6672 - accuracy: 0.5161 - val_loss: 0.5177 - val_accuracy: 0.8732\n",
      "Epoch 5/10\n",
      "16/16 [==============================] - 12s 742ms/step - loss: 1.5675 - accuracy: 0.5612 - val_loss: 0.5372 - val_accuracy: 0.8495\n",
      "Epoch 6/10\n",
      "16/16 [==============================] - 11s 740ms/step - loss: 1.3011 - accuracy: 0.6472 - val_loss: 0.4785 - val_accuracy: 0.8734\n",
      "Epoch 7/10\n",
      "16/16 [==============================] - 11s 740ms/step - loss: 1.1348 - accuracy: 0.6647 - val_loss: 1.2555 - val_accuracy: 0.7755\n",
      "Epoch 8/10\n",
      "16/16 [==============================] - 12s 745ms/step - loss: 0.9982 - accuracy: 0.7097 - val_loss: 0.5911 - val_accuracy: 0.8459\n",
      "Epoch 9/10\n",
      "16/16 [==============================] - 12s 742ms/step - loss: 0.9595 - accuracy: 0.7226 - val_loss: 0.7044 - val_accuracy: 0.8278\n",
      "Epoch 10/10\n",
      "16/16 [==============================] - 12s 750ms/step - loss: 0.8344 - accuracy: 0.7558 - val_loss: 1.3135 - val_accuracy: 0.7709\n",
      "Duration: 0:01:59.440837\n"
     ]
    }
   ],
   "source": [
    "\n",
    "print(n)\n",
    "\n",
    "models_nc[n].fit_model(image_sets_nc[n],label_sets_nc[n],x_val,y_val)\n",
    "n = n+1"
   ]
  },
  {
   "cell_type": "code",
   "execution_count": 21,
   "id": "173fe6bf",
   "metadata": {},
   "outputs": [
    {
     "name": "stdout",
     "output_type": "stream",
     "text": [
      "4\n",
      "Epoch 1/10\n",
      "20/20 [==============================] - 15s 675ms/step - loss: 3.7553 - accuracy: 0.2270 - val_loss: 0.7026 - val_accuracy: 0.8686\n",
      "Epoch 2/10\n",
      "20/20 [==============================] - 13s 665ms/step - loss: 2.1776 - accuracy: 0.3696 - val_loss: 0.6010 - val_accuracy: 0.8579\n",
      "Epoch 3/10\n",
      "20/20 [==============================] - 13s 664ms/step - loss: 1.8461 - accuracy: 0.4584 - val_loss: 0.7841 - val_accuracy: 0.8015\n",
      "Epoch 4/10\n",
      "20/20 [==============================] - 13s 662ms/step - loss: 1.5677 - accuracy: 0.5372 - val_loss: 0.3777 - val_accuracy: 0.9122\n",
      "Epoch 5/10\n",
      "20/20 [==============================] - 13s 663ms/step - loss: 1.4052 - accuracy: 0.6098 - val_loss: 0.5999 - val_accuracy: 0.8334\n",
      "Epoch 6/10\n",
      "20/20 [==============================] - 13s 663ms/step - loss: 1.2742 - accuracy: 0.6256 - val_loss: 0.5886 - val_accuracy: 0.8449\n",
      "Epoch 7/10\n",
      "20/20 [==============================] - 13s 663ms/step - loss: 1.0179 - accuracy: 0.7036 - val_loss: 0.6889 - val_accuracy: 0.8099\n",
      "Epoch 8/10\n",
      "20/20 [==============================] - 13s 666ms/step - loss: 0.8888 - accuracy: 0.7384 - val_loss: 0.9230 - val_accuracy: 0.8094\n",
      "Epoch 9/10\n",
      "20/20 [==============================] - 13s 671ms/step - loss: 0.8657 - accuracy: 0.7376 - val_loss: 1.0125 - val_accuracy: 0.8071\n",
      "Epoch 10/10\n",
      "20/20 [==============================] - 14s 698ms/step - loss: 0.7764 - accuracy: 0.7874 - val_loss: 0.8457 - val_accuracy: 0.8061\n",
      "Duration: 0:02:12.989925\n"
     ]
    }
   ],
   "source": [
    "#4\n",
    "print(n)\n",
    "\n",
    "models_nc[n].fit_model(image_sets_nc[n],label_sets_nc[n],x_val,y_val)\n",
    "n = n+1"
   ]
  },
  {
   "cell_type": "code",
   "execution_count": 23,
   "id": "01a70471",
   "metadata": {},
   "outputs": [
    {
     "name": "stdout",
     "output_type": "stream",
     "text": [
      "5\n",
      "Epoch 1/10\n",
      "24/24 [==============================] - 17s 627ms/step - loss: 3.5933 - accuracy: 0.1950 - val_loss: 0.5620 - val_accuracy: 0.8806\n",
      "Epoch 2/10\n",
      "24/24 [==============================] - 14s 590ms/step - loss: 2.0479 - accuracy: 0.4001 - val_loss: 0.8122 - val_accuracy: 0.8191\n",
      "Epoch 3/10\n",
      "24/24 [==============================] - 14s 589ms/step - loss: 1.7060 - accuracy: 0.5021 - val_loss: 0.6836 - val_accuracy: 0.8199\n",
      "Epoch 4/10\n",
      "24/24 [==============================] - 15s 619ms/step - loss: 1.4469 - accuracy: 0.5805 - val_loss: 0.5839 - val_accuracy: 0.8431\n",
      "Epoch 5/10\n",
      "24/24 [==============================] - 16s 665ms/step - loss: 1.2351 - accuracy: 0.6268 - val_loss: 0.4509 - val_accuracy: 0.8762\n",
      "Epoch 6/10\n",
      "24/24 [==============================] - 17s 711ms/step - loss: 1.0558 - accuracy: 0.6929 - val_loss: 0.7645 - val_accuracy: 0.7999\n",
      "Epoch 7/10\n",
      "24/24 [==============================] - 15s 632ms/step - loss: 0.9573 - accuracy: 0.7232 - val_loss: 0.6828 - val_accuracy: 0.8221\n",
      "Epoch 8/10\n",
      "24/24 [==============================] - 14s 609ms/step - loss: 0.8961 - accuracy: 0.7564 - val_loss: 0.7319 - val_accuracy: 0.8022\n",
      "Epoch 9/10\n",
      "24/24 [==============================] - 14s 611ms/step - loss: 0.7806 - accuracy: 0.7747 - val_loss: 0.8724 - val_accuracy: 0.7977\n",
      "Epoch 10/10\n",
      "24/24 [==============================] - 15s 627ms/step - loss: 0.6749 - accuracy: 0.7939 - val_loss: 0.6804 - val_accuracy: 0.8273\n",
      "Duration: 0:02:30.422562\n"
     ]
    }
   ],
   "source": [
    "n=5\n",
    "print(n)\n",
    "\n",
    "models_nc[n].fit_model(image_sets_nc[n],label_sets_nc[n],x_val,y_val)\n",
    "n = n+1"
   ]
  },
  {
   "cell_type": "code",
   "execution_count": 24,
   "id": "4d0fce3f",
   "metadata": {},
   "outputs": [
    {
     "name": "stdout",
     "output_type": "stream",
     "text": [
      "6\n",
      "Epoch 1/10\n",
      "28/28 [==============================] - 18s 594ms/step - loss: 3.5022 - accuracy: 0.2123 - val_loss: 0.2627 - val_accuracy: 0.9768\n",
      "Epoch 2/10\n",
      "28/28 [==============================] - 16s 575ms/step - loss: 1.9404 - accuracy: 0.4365 - val_loss: 0.5827 - val_accuracy: 0.9043\n",
      "Epoch 3/10\n",
      "28/28 [==============================] - 16s 578ms/step - loss: 1.5592 - accuracy: 0.5468 - val_loss: 0.5134 - val_accuracy: 0.8796\n",
      "Epoch 4/10\n",
      "28/28 [==============================] - 16s 579ms/step - loss: 1.2770 - accuracy: 0.6273 - val_loss: 0.3517 - val_accuracy: 0.8997\n",
      "Epoch 5/10\n",
      "28/28 [==============================] - 16s 576ms/step - loss: 1.0954 - accuracy: 0.6775 - val_loss: 0.4358 - val_accuracy: 0.8900\n",
      "Epoch 6/10\n",
      "28/28 [==============================] - 16s 577ms/step - loss: 0.9305 - accuracy: 0.7296 - val_loss: 0.4405 - val_accuracy: 0.8773\n",
      "Epoch 7/10\n",
      "28/28 [==============================] - 16s 576ms/step - loss: 0.7902 - accuracy: 0.7674 - val_loss: 0.4040 - val_accuracy: 0.8992\n",
      "Epoch 8/10\n",
      "28/28 [==============================] - 16s 577ms/step - loss: 0.7183 - accuracy: 0.7887 - val_loss: 0.5577 - val_accuracy: 0.8655\n",
      "Epoch 9/10\n",
      "28/28 [==============================] - 16s 575ms/step - loss: 0.6222 - accuracy: 0.8291 - val_loss: 0.4934 - val_accuracy: 0.8808\n",
      "Epoch 10/10\n",
      "28/28 [==============================] - 16s 576ms/step - loss: 0.5528 - accuracy: 0.8390 - val_loss: 0.4557 - val_accuracy: 0.8857\n",
      "Duration: 0:02:41.987738\n"
     ]
    }
   ],
   "source": [
    "n=6\n",
    "print(n)\n",
    "\n",
    "models_nc[n].fit_model(image_sets_nc[n],label_sets_nc[n],x_val,y_val)\n",
    "n = n+1"
   ]
  },
  {
   "cell_type": "code",
   "execution_count": 25,
   "id": "a498b007",
   "metadata": {},
   "outputs": [
    {
     "name": "stdout",
     "output_type": "stream",
     "text": [
      "7\n",
      "Epoch 1/10\n",
      "32/32 [==============================] - 20s 561ms/step - loss: 3.0945 - accuracy: 0.2601 - val_loss: 1.2746 - val_accuracy: 0.8012\n",
      "Epoch 2/10\n",
      "32/32 [==============================] - 17s 548ms/step - loss: 1.8039 - accuracy: 0.4957 - val_loss: 0.4662 - val_accuracy: 0.8770\n",
      "Epoch 3/10\n",
      "32/32 [==============================] - 17s 550ms/step - loss: 1.3455 - accuracy: 0.6224 - val_loss: 0.3880 - val_accuracy: 0.9020\n",
      "Epoch 4/10\n",
      "32/32 [==============================] - 17s 547ms/step - loss: 1.1514 - accuracy: 0.6705 - val_loss: 0.3946 - val_accuracy: 0.9020\n",
      "Epoch 5/10\n",
      "32/32 [==============================] - 17s 547ms/step - loss: 0.9535 - accuracy: 0.7112 - val_loss: 0.3288 - val_accuracy: 0.9112\n",
      "Epoch 6/10\n",
      "32/32 [==============================] - 18s 555ms/step - loss: 0.9060 - accuracy: 0.7558 - val_loss: 0.4342 - val_accuracy: 0.9002\n",
      "Epoch 7/10\n",
      "32/32 [==============================] - 17s 547ms/step - loss: 0.7666 - accuracy: 0.7864 - val_loss: 0.4215 - val_accuracy: 0.8750\n",
      "Epoch 8/10\n",
      "32/32 [==============================] - 17s 551ms/step - loss: 0.6877 - accuracy: 0.8024 - val_loss: 0.4407 - val_accuracy: 0.8872\n",
      "Epoch 9/10\n",
      "32/32 [==============================] - 17s 547ms/step - loss: 0.6185 - accuracy: 0.8231 - val_loss: 0.4454 - val_accuracy: 0.9064\n",
      "Epoch 10/10\n",
      "32/32 [==============================] - 17s 551ms/step - loss: 0.4975 - accuracy: 0.8491 - val_loss: 0.8463 - val_accuracy: 0.8523\n",
      "Duration: 0:02:56.450004\n"
     ]
    }
   ],
   "source": [
    "n=7\n",
    "print(n)\n",
    "\n",
    "models_nc[n].fit_model(image_sets_nc[n],label_sets_nc[n],x_val,y_val)\n",
    "n = n+1"
   ]
  },
  {
   "cell_type": "code",
   "execution_count": 26,
   "id": "aa682122",
   "metadata": {},
   "outputs": [
    {
     "name": "stdout",
     "output_type": "stream",
     "text": [
      "8\n",
      "Epoch 1/10\n",
      "36/36 [==============================] - 22s 553ms/step - loss: 3.5727 - accuracy: 0.1972 - val_loss: 2.6159 - val_accuracy: 0.6836\n",
      "Epoch 2/10\n",
      "36/36 [==============================] - 19s 527ms/step - loss: 2.2978 - accuracy: 0.4608 - val_loss: 0.7466 - val_accuracy: 0.7844\n",
      "Epoch 3/10\n",
      "36/36 [==============================] - 19s 526ms/step - loss: 1.4411 - accuracy: 0.5875 - val_loss: 0.3987 - val_accuracy: 0.8936\n",
      "Epoch 4/10\n",
      "36/36 [==============================] - 19s 532ms/step - loss: 1.1082 - accuracy: 0.6773 - val_loss: 0.2696 - val_accuracy: 0.9260\n",
      "Epoch 5/10\n",
      "36/36 [==============================] - 19s 538ms/step - loss: 0.9572 - accuracy: 0.7138 - val_loss: 0.5377 - val_accuracy: 0.8742\n",
      "Epoch 6/10\n",
      "36/36 [==============================] - 19s 527ms/step - loss: 0.8754 - accuracy: 0.7437 - val_loss: 0.3549 - val_accuracy: 0.9015\n",
      "Epoch 7/10\n",
      "36/36 [==============================] - 19s 544ms/step - loss: 0.7290 - accuracy: 0.7923 - val_loss: 0.7362 - val_accuracy: 0.7979\n",
      "Epoch 8/10\n",
      "36/36 [==============================] - 20s 571ms/step - loss: 0.6474 - accuracy: 0.8154 - val_loss: 0.5587 - val_accuracy: 0.8484\n",
      "Epoch 9/10\n",
      "36/36 [==============================] - 21s 595ms/step - loss: 0.5404 - accuracy: 0.8442 - val_loss: 0.6487 - val_accuracy: 0.8170\n",
      "Epoch 10/10\n",
      "36/36 [==============================] - 19s 543ms/step - loss: 0.5500 - accuracy: 0.8438 - val_loss: 0.7105 - val_accuracy: 0.8135\n",
      "Duration: 0:03:17.163733\n"
     ]
    }
   ],
   "source": [
    "n=8\n",
    "print(n)\n",
    "\n",
    "models_nc[n].fit_model(image_sets_nc[n],label_sets_nc[n],x_val,y_val)\n",
    "n = n+1"
   ]
  },
  {
   "cell_type": "code",
   "execution_count": 28,
   "id": "7ec61144",
   "metadata": {},
   "outputs": [
    {
     "name": "stdout",
     "output_type": "stream",
     "text": [
      "9\n",
      "Epoch 1/10\n",
      "40/40 [==============================] - 24s 560ms/step - loss: 3.2981 - accuracy: 0.2603 - val_loss: 0.3026 - val_accuracy: 0.9268\n",
      "Epoch 2/10\n",
      "40/40 [==============================] - 21s 538ms/step - loss: 1.6529 - accuracy: 0.5271 - val_loss: 0.4609 - val_accuracy: 0.8750\n",
      "Epoch 3/10\n",
      "40/40 [==============================] - 21s 533ms/step - loss: 1.2664 - accuracy: 0.6272 - val_loss: 0.7768 - val_accuracy: 0.7874\n",
      "Epoch 4/10\n",
      "40/40 [==============================] - 22s 546ms/step - loss: 1.0851 - accuracy: 0.6862 - val_loss: 0.4994 - val_accuracy: 0.8683\n",
      "Epoch 5/10\n",
      "40/40 [==============================] - 23s 576ms/step - loss: 0.8958 - accuracy: 0.7486 - val_loss: 2.5307 - val_accuracy: 0.6571\n",
      "Epoch 6/10\n",
      "40/40 [==============================] - 21s 533ms/step - loss: 0.8081 - accuracy: 0.7733 - val_loss: 0.7835 - val_accuracy: 0.8354\n",
      "Epoch 7/10\n",
      "40/40 [==============================] - 21s 531ms/step - loss: 0.6456 - accuracy: 0.8204 - val_loss: 0.7307 - val_accuracy: 0.7977\n",
      "Epoch 8/10\n",
      "40/40 [==============================] - 21s 536ms/step - loss: 0.5556 - accuracy: 0.8334 - val_loss: 0.7084 - val_accuracy: 0.8237\n",
      "Epoch 9/10\n",
      "40/40 [==============================] - 21s 536ms/step - loss: 0.5088 - accuracy: 0.8452 - val_loss: 0.9947 - val_accuracy: 0.7448\n",
      "Epoch 10/10\n",
      "40/40 [==============================] - 22s 562ms/step - loss: 0.4611 - accuracy: 0.8683 - val_loss: 1.4104 - val_accuracy: 0.7742\n",
      "Duration: 0:03:38.751975\n"
     ]
    }
   ],
   "source": [
    "print(n)#9\n",
    "\n",
    "models_nc[n].fit_model(image_sets_nc[n],label_sets_nc[n],x_val,y_val)\n",
    "n = n+1"
   ]
  },
  {
   "cell_type": "code",
   "execution_count": 18,
   "id": "e05d85c1",
   "metadata": {},
   "outputs": [
    {
     "name": "stdout",
     "output_type": "stream",
     "text": [
      "10\n",
      "Epoch 1/10\n",
      "43/43 [==============================] - 30s 529ms/step - loss: 3.0823 - accuracy: 0.2802 - val_loss: 0.3910 - val_accuracy: 0.9061\n",
      "Epoch 2/10\n",
      "43/43 [==============================] - 22s 514ms/step - loss: 1.5796 - accuracy: 0.5548 - val_loss: 0.4840 - val_accuracy: 0.8765\n",
      "Epoch 3/10\n",
      "43/43 [==============================] - 24s 567ms/step - loss: 1.2308 - accuracy: 0.6628 - val_loss: 0.5949 - val_accuracy: 0.8398\n",
      "Epoch 4/10\n",
      "43/43 [==============================] - 24s 554ms/step - loss: 1.0425 - accuracy: 0.7126 - val_loss: 0.5658 - val_accuracy: 0.8492\n",
      "Epoch 5/10\n",
      "43/43 [==============================] - 22s 506ms/step - loss: 0.8549 - accuracy: 0.7355 - val_loss: 0.5068 - val_accuracy: 0.8607\n",
      "Epoch 6/10\n",
      "43/43 [==============================] - 22s 504ms/step - loss: 0.6727 - accuracy: 0.8044 - val_loss: 0.5852 - val_accuracy: 0.8492\n",
      "Epoch 7/10\n",
      "43/43 [==============================] - 22s 503ms/step - loss: 0.6237 - accuracy: 0.8119 - val_loss: 0.5255 - val_accuracy: 0.8584\n",
      "Epoch 8/10\n",
      "43/43 [==============================] - 21s 502ms/step - loss: 0.5076 - accuracy: 0.8482 - val_loss: 0.7703 - val_accuracy: 0.7923\n",
      "Epoch 9/10\n",
      "43/43 [==============================] - 22s 504ms/step - loss: 0.4339 - accuracy: 0.8700 - val_loss: 0.4913 - val_accuracy: 0.8586\n",
      "Epoch 10/10\n",
      "43/43 [==============================] - 22s 506ms/step - loss: 0.4317 - accuracy: 0.8726 - val_loss: 0.6360 - val_accuracy: 0.8331\n",
      "Duration: 0:03:48.788004\n"
     ]
    }
   ],
   "source": [
    "n=10\n",
    "print(n)\n",
    "\n",
    "models_nc[n].fit_model(image_sets_nc[n],label_sets_nc[n],x_val,y_val)\n",
    "n = n+1"
   ]
  },
  {
   "cell_type": "code",
   "execution_count": 19,
   "id": "a6081dea",
   "metadata": {},
   "outputs": [
    {
     "name": "stdout",
     "output_type": "stream",
     "text": [
      "11\n",
      "Epoch 1/10\n",
      "47/47 [==============================] - 25s 495ms/step - loss: 2.7629 - accuracy: 0.3239 - val_loss: 0.2872 - val_accuracy: 0.9548\n",
      "Epoch 2/10\n",
      "47/47 [==============================] - 23s 491ms/step - loss: 1.4545 - accuracy: 0.5878 - val_loss: 0.4197 - val_accuracy: 0.8987\n",
      "Epoch 3/10\n",
      "47/47 [==============================] - 23s 489ms/step - loss: 1.1114 - accuracy: 0.6859 - val_loss: 0.5079 - val_accuracy: 0.8678\n",
      "Epoch 4/10\n",
      "47/47 [==============================] - 23s 490ms/step - loss: 0.8852 - accuracy: 0.7317 - val_loss: 0.3380 - val_accuracy: 0.9109\n",
      "Epoch 5/10\n",
      "47/47 [==============================] - 24s 518ms/step - loss: 0.7236 - accuracy: 0.7820 - val_loss: 0.6142 - val_accuracy: 0.8584\n",
      "Epoch 6/10\n",
      "47/47 [==============================] - 24s 514ms/step - loss: 0.5886 - accuracy: 0.8287 - val_loss: 1.5268 - val_accuracy: 0.7612\n",
      "Epoch 7/10\n",
      "47/47 [==============================] - 24s 504ms/step - loss: 0.5079 - accuracy: 0.8458 - val_loss: 0.4863 - val_accuracy: 0.8783\n",
      "Epoch 8/10\n",
      "47/47 [==============================] - 23s 493ms/step - loss: 0.4715 - accuracy: 0.8532 - val_loss: 1.9253 - val_accuracy: 0.8089\n",
      "Epoch 9/10\n",
      "47/47 [==============================] - 24s 503ms/step - loss: 0.4161 - accuracy: 0.8816 - val_loss: 2.1008 - val_accuracy: 0.7721\n",
      "Epoch 10/10\n",
      "47/47 [==============================] - 23s 495ms/step - loss: 0.4130 - accuracy: 0.8758 - val_loss: 0.6372 - val_accuracy: 0.8364\n",
      "Duration: 0:03:55.493698\n"
     ]
    }
   ],
   "source": [
    "print(n)\n",
    "\n",
    "models_nc[n].fit_model(image_sets_nc[n],label_sets_nc[n],x_val,y_val)\n",
    "n = n+1"
   ]
  },
  {
   "cell_type": "code",
   "execution_count": 20,
   "id": "6ee630ca",
   "metadata": {},
   "outputs": [
    {
     "name": "stdout",
     "output_type": "stream",
     "text": [
      "12\n",
      "Epoch 1/10\n",
      "51/51 [==============================] - 26s 485ms/step - loss: 3.0094 - accuracy: 0.2763 - val_loss: 0.3112 - val_accuracy: 0.9166\n",
      "Epoch 2/10\n",
      "51/51 [==============================] - 25s 488ms/step - loss: 1.4135 - accuracy: 0.5809 - val_loss: 0.4238 - val_accuracy: 0.8862\n",
      "Epoch 3/10\n",
      "51/51 [==============================] - 27s 539ms/step - loss: 1.0712 - accuracy: 0.6928 - val_loss: 0.5221 - val_accuracy: 0.8620\n",
      "Epoch 4/10\n",
      "51/51 [==============================] - 25s 495ms/step - loss: 0.9120 - accuracy: 0.7428 - val_loss: 0.6483 - val_accuracy: 0.8295\n",
      "Epoch 5/10\n",
      "51/51 [==============================] - 25s 501ms/step - loss: 0.7312 - accuracy: 0.7834 - val_loss: 0.9779 - val_accuracy: 0.8038\n",
      "Epoch 6/10\n",
      "51/51 [==============================] - 25s 484ms/step - loss: 0.5953 - accuracy: 0.8250 - val_loss: 0.9319 - val_accuracy: 0.8270\n",
      "Epoch 7/10\n",
      "51/51 [==============================] - 24s 478ms/step - loss: 0.4807 - accuracy: 0.8602 - val_loss: 0.6690 - val_accuracy: 0.8242\n",
      "Epoch 8/10\n",
      "51/51 [==============================] - 24s 482ms/step - loss: 0.4228 - accuracy: 0.8812 - val_loss: 0.8445 - val_accuracy: 0.7971\n",
      "Epoch 9/10\n",
      "51/51 [==============================] - 25s 484ms/step - loss: 0.3856 - accuracy: 0.8880 - val_loss: 0.8720 - val_accuracy: 0.8135\n",
      "Epoch 10/10\n",
      "51/51 [==============================] - 26s 514ms/step - loss: 0.3585 - accuracy: 0.8890 - val_loss: 1.0672 - val_accuracy: 0.8250\n",
      "Duration: 0:04:13.253413\n"
     ]
    }
   ],
   "source": [
    "print(n)\n",
    "\n",
    "models_nc[n].fit_model(image_sets_nc[n],label_sets_nc[n],x_val,y_val)\n",
    "n = n+1"
   ]
  },
  {
   "cell_type": "code",
   "execution_count": 21,
   "id": "b333726b",
   "metadata": {},
   "outputs": [
    {
     "name": "stdout",
     "output_type": "stream",
     "text": [
      "13\n",
      "Epoch 1/10\n",
      "55/55 [==============================] - 33s 550ms/step - loss: 2.9872 - accuracy: 0.2894 - val_loss: 0.3487 - val_accuracy: 0.9268\n",
      "Epoch 2/10\n",
      "55/55 [==============================] - 29s 522ms/step - loss: 1.4183 - accuracy: 0.5904 - val_loss: 0.5331 - val_accuracy: 0.8849\n",
      "Epoch 3/10\n",
      "55/55 [==============================] - 27s 484ms/step - loss: 1.0488 - accuracy: 0.7009 - val_loss: 0.5845 - val_accuracy: 0.8459\n",
      "Epoch 4/10\n",
      "55/55 [==============================] - 27s 484ms/step - loss: 0.8299 - accuracy: 0.7555 - val_loss: 1.0934 - val_accuracy: 0.8214\n",
      "Epoch 5/10\n",
      "55/55 [==============================] - 27s 490ms/step - loss: 0.6909 - accuracy: 0.8025 - val_loss: 0.5561 - val_accuracy: 0.8502\n",
      "Epoch 6/10\n",
      "55/55 [==============================] - 26s 470ms/step - loss: 0.5487 - accuracy: 0.8370 - val_loss: 0.8642 - val_accuracy: 0.8341\n",
      "Epoch 7/10\n",
      "55/55 [==============================] - 26s 472ms/step - loss: 0.5219 - accuracy: 0.8523 - val_loss: 1.1438 - val_accuracy: 0.8073\n",
      "Epoch 8/10\n",
      "55/55 [==============================] - 26s 468ms/step - loss: 0.4007 - accuracy: 0.8803 - val_loss: 0.7083 - val_accuracy: 0.8232\n",
      "Epoch 9/10\n",
      "55/55 [==============================] - 26s 470ms/step - loss: 0.3804 - accuracy: 0.8851 - val_loss: 0.8136 - val_accuracy: 0.8066\n",
      "Epoch 10/10\n",
      "55/55 [==============================] - 26s 473ms/step - loss: 0.3377 - accuracy: 0.8962 - val_loss: 0.7598 - val_accuracy: 0.8063\n",
      "Duration: 0:04:30.348773\n"
     ]
    }
   ],
   "source": [
    "n=13\n",
    "print(n)\n",
    "\n",
    "models_nc[n].fit_model(image_sets_nc[n],label_sets_nc[n],x_val,y_val)\n",
    "n = n+1"
   ]
  },
  {
   "cell_type": "code",
   "execution_count": 22,
   "id": "a1956bc5",
   "metadata": {},
   "outputs": [
    {
     "name": "stdout",
     "output_type": "stream",
     "text": [
      "14\n",
      "Epoch 1/10\n",
      "59/59 [==============================] - 32s 501ms/step - loss: 2.7962 - accuracy: 0.3218 - val_loss: 0.3934 - val_accuracy: 0.9247\n",
      "Epoch 2/10\n",
      "59/59 [==============================] - 28s 479ms/step - loss: 1.3501 - accuracy: 0.6149 - val_loss: 0.3421 - val_accuracy: 0.9109\n",
      "Epoch 3/10\n",
      "59/59 [==============================] - 29s 488ms/step - loss: 1.0436 - accuracy: 0.6975 - val_loss: 0.4790 - val_accuracy: 0.8762\n",
      "Epoch 4/10\n",
      "59/59 [==============================] - 28s 471ms/step - loss: 0.8460 - accuracy: 0.7497 - val_loss: 0.3910 - val_accuracy: 0.8933\n",
      "Epoch 5/10\n",
      "59/59 [==============================] - 107s 2s/step - loss: 0.7408 - accuracy: 0.7842 - val_loss: 0.5922 - val_accuracy: 0.8410\n",
      "Epoch 6/10\n",
      "59/59 [==============================] - 32s 537ms/step - loss: 0.5649 - accuracy: 0.8294 - val_loss: 0.7813 - val_accuracy: 0.8415\n",
      "Epoch 7/10\n",
      "59/59 [==============================] - 27s 463ms/step - loss: 0.5210 - accuracy: 0.8517 - val_loss: 0.4644 - val_accuracy: 0.8739\n",
      "Epoch 8/10\n",
      "59/59 [==============================] - 27s 462ms/step - loss: 0.4619 - accuracy: 0.8633 - val_loss: 0.6439 - val_accuracy: 0.8436\n",
      "Epoch 9/10\n",
      "59/59 [==============================] - 30s 506ms/step - loss: 0.3698 - accuracy: 0.8901 - val_loss: 1.3502 - val_accuracy: 0.7734\n",
      "Epoch 10/10\n",
      "59/59 [==============================] - 28s 473ms/step - loss: 0.3468 - accuracy: 0.8973 - val_loss: 0.6611 - val_accuracy: 0.8273\n",
      "Duration: 0:06:06.945605\n"
     ]
    }
   ],
   "source": [
    "\n",
    "print(n)\n",
    "\n",
    "models_nc[n].fit_model(image_sets_nc[n],label_sets_nc[n],x_val,y_val)\n",
    "n = n+1"
   ]
  },
  {
   "cell_type": "code",
   "execution_count": 18,
   "id": "4b7c1dd9",
   "metadata": {},
   "outputs": [
    {
     "name": "stdout",
     "output_type": "stream",
     "text": [
      "15\n",
      "Epoch 1/10\n",
      "63/63 [==============================] - 44s 462ms/step - loss: 2.7089 - accuracy: 0.3448 - val_loss: 1.0523 - val_accuracy: 0.8227\n",
      "Epoch 2/10\n",
      "63/63 [==============================] - 28s 452ms/step - loss: 1.3531 - accuracy: 0.6198 - val_loss: 0.4162 - val_accuracy: 0.8877\n",
      "Epoch 3/10\n",
      "63/63 [==============================] - 29s 460ms/step - loss: 0.9547 - accuracy: 0.7165 - val_loss: 0.7385 - val_accuracy: 0.8099\n",
      "Epoch 4/10\n",
      "63/63 [==============================] - 29s 463ms/step - loss: 0.7616 - accuracy: 0.7719 - val_loss: 0.8030 - val_accuracy: 0.7729\n",
      "Epoch 5/10\n",
      "63/63 [==============================] - 29s 460ms/step - loss: 0.5968 - accuracy: 0.8230 - val_loss: 0.7627 - val_accuracy: 0.7836\n",
      "Epoch 6/10\n",
      "63/63 [==============================] - 29s 463ms/step - loss: 0.5471 - accuracy: 0.8506 - val_loss: 0.7749 - val_accuracy: 0.8007\n",
      "Epoch 7/10\n",
      "63/63 [==============================] - 30s 471ms/step - loss: 0.4500 - accuracy: 0.8689 - val_loss: 0.6427 - val_accuracy: 0.8540\n",
      "Epoch 8/10\n",
      "63/63 [==============================] - 31s 489ms/step - loss: 0.3760 - accuracy: 0.8871 - val_loss: 0.7231 - val_accuracy: 0.8336\n",
      "Epoch 9/10\n",
      "63/63 [==============================] - 29s 464ms/step - loss: 0.3546 - accuracy: 0.8986 - val_loss: 0.7954 - val_accuracy: 0.8178\n",
      "Epoch 10/10\n",
      "63/63 [==============================] - 30s 471ms/step - loss: 0.3561 - accuracy: 0.8920 - val_loss: 0.6452 - val_accuracy: 0.8492\n",
      "Duration: 0:05:08.157181\n"
     ]
    }
   ],
   "source": [
    "n=15\n",
    "print(n)\n",
    "\n",
    "models_nc[n].fit_model(image_sets_nc[n],label_sets_nc[n],x_val,y_val)\n",
    "n = n+1"
   ]
  },
  {
   "cell_type": "code",
   "execution_count": 19,
   "id": "7aedeb81",
   "metadata": {},
   "outputs": [
    {
     "name": "stdout",
     "output_type": "stream",
     "text": [
      "16\n",
      "Epoch 1/10\n",
      "67/67 [==============================] - 34s 480ms/step - loss: 2.5876 - accuracy: 0.3620 - val_loss: 0.6327 - val_accuracy: 0.8489\n",
      "Epoch 2/10\n",
      "67/67 [==============================] - 31s 457ms/step - loss: 1.2244 - accuracy: 0.6629 - val_loss: 0.6255 - val_accuracy: 0.8533\n",
      "Epoch 3/10\n",
      "67/67 [==============================] - 30s 455ms/step - loss: 0.8969 - accuracy: 0.7360 - val_loss: 0.5226 - val_accuracy: 0.8597\n",
      "Epoch 4/10\n",
      "67/67 [==============================] - 32s 480ms/step - loss: 0.7393 - accuracy: 0.7862 - val_loss: 1.1989 - val_accuracy: 0.7813\n",
      "Epoch 5/10\n",
      "67/67 [==============================] - 32s 473ms/step - loss: 0.5956 - accuracy: 0.8213 - val_loss: 1.0270 - val_accuracy: 0.8395\n",
      "Epoch 6/10\n",
      "67/67 [==============================] - 32s 478ms/step - loss: 0.5260 - accuracy: 0.8380 - val_loss: 0.9863 - val_accuracy: 0.7726\n",
      "Epoch 7/10\n",
      "67/67 [==============================] - 31s 461ms/step - loss: 0.4474 - accuracy: 0.8610 - val_loss: 0.4873 - val_accuracy: 0.8699\n",
      "Epoch 8/10\n",
      "67/67 [==============================] - 32s 478ms/step - loss: 0.3761 - accuracy: 0.8857 - val_loss: 0.7725 - val_accuracy: 0.7928\n",
      "Epoch 9/10\n",
      "67/67 [==============================] - 33s 497ms/step - loss: 0.3255 - accuracy: 0.9094 - val_loss: 2.0817 - val_accuracy: 0.7438\n",
      "Epoch 10/10\n",
      "67/67 [==============================] - 31s 463ms/step - loss: 0.3133 - accuracy: 0.8998 - val_loss: 0.8093 - val_accuracy: 0.8176\n",
      "Duration: 0:05:17.694379\n"
     ]
    }
   ],
   "source": [
    "n=16\n",
    "print(n)\n",
    "\n",
    "models_nc[n].fit_model(image_sets_nc[n],label_sets_nc[n],x_val,y_val)\n",
    "n = n+1"
   ]
  },
  {
   "cell_type": "code",
   "execution_count": 20,
   "id": "26e3e080",
   "metadata": {},
   "outputs": [
    {
     "name": "stdout",
     "output_type": "stream",
     "text": [
      "17\n",
      "Epoch 1/10\n",
      "71/71 [==============================] - 36s 476ms/step - loss: 2.5312 - accuracy: 0.3627 - val_loss: 1.6164 - val_accuracy: 0.7096\n",
      "Epoch 2/10\n",
      "71/71 [==============================] - 33s 461ms/step - loss: 1.2827 - accuracy: 0.6305 - val_loss: 0.8521 - val_accuracy: 0.8045\n",
      "Epoch 3/10\n",
      "71/71 [==============================] - 34s 487ms/step - loss: 0.9233 - accuracy: 0.7320 - val_loss: 0.6843 - val_accuracy: 0.8104\n",
      "Epoch 4/10\n",
      "71/71 [==============================] - 33s 469ms/step - loss: 0.7362 - accuracy: 0.7886 - val_loss: 0.6514 - val_accuracy: 0.8160\n",
      "Epoch 5/10\n",
      "71/71 [==============================] - 33s 462ms/step - loss: 0.5899 - accuracy: 0.8267 - val_loss: 0.5662 - val_accuracy: 0.8415\n",
      "Epoch 6/10\n",
      "71/71 [==============================] - 34s 476ms/step - loss: 0.4728 - accuracy: 0.8575 - val_loss: 1.1010 - val_accuracy: 0.7476\n",
      "Epoch 7/10\n",
      "71/71 [==============================] - 34s 474ms/step - loss: 0.4128 - accuracy: 0.8773 - val_loss: 0.6642 - val_accuracy: 0.8275\n",
      "Epoch 8/10\n",
      "71/71 [==============================] - 34s 477ms/step - loss: 0.3688 - accuracy: 0.8874 - val_loss: 0.8497 - val_accuracy: 0.7915\n",
      "Epoch 9/10\n",
      "71/71 [==============================] - 35s 490ms/step - loss: 0.3219 - accuracy: 0.9067 - val_loss: 1.6936 - val_accuracy: 0.7617\n",
      "Epoch 10/10\n",
      "71/71 [==============================] - 33s 466ms/step - loss: 0.2882 - accuracy: 0.9238 - val_loss: 0.6756 - val_accuracy: 0.8262\n",
      "Duration: 0:05:38.094698\n"
     ]
    }
   ],
   "source": [
    "n=17\n",
    "print(n)\n",
    "\n",
    "models_nc[n].fit_model(image_sets_nc[n],label_sets_nc[n],x_val,y_val)\n",
    "n = n+1"
   ]
  },
  {
   "cell_type": "code",
   "execution_count": 21,
   "id": "14409d0f",
   "metadata": {},
   "outputs": [
    {
     "name": "stdout",
     "output_type": "stream",
     "text": [
      "18\n",
      "Epoch 1/10\n",
      "75/75 [==============================] - 38s 484ms/step - loss: 2.5751 - accuracy: 0.3631 - val_loss: 0.9205 - val_accuracy: 0.7925\n",
      "Epoch 2/10\n",
      "75/75 [==============================] - 33s 442ms/step - loss: 1.1726 - accuracy: 0.6575 - val_loss: 0.4947 - val_accuracy: 0.8694\n",
      "Epoch 3/10\n",
      "75/75 [==============================] - 33s 443ms/step - loss: 0.8754 - accuracy: 0.7386 - val_loss: 0.6877 - val_accuracy: 0.8459\n",
      "Epoch 4/10\n",
      "75/75 [==============================] - 33s 442ms/step - loss: 0.7219 - accuracy: 0.7868 - val_loss: 0.4758 - val_accuracy: 0.8706\n",
      "Epoch 5/10\n",
      "75/75 [==============================] - 33s 442ms/step - loss: 0.6437 - accuracy: 0.8144 - val_loss: 0.7553 - val_accuracy: 0.7925\n",
      "Epoch 6/10\n",
      "75/75 [==============================] - 33s 443ms/step - loss: 0.5076 - accuracy: 0.8496 - val_loss: 0.6215 - val_accuracy: 0.8535\n",
      "Epoch 7/10\n",
      "75/75 [==============================] - 34s 452ms/step - loss: 0.3873 - accuracy: 0.8887 - val_loss: 0.7419 - val_accuracy: 0.8117\n",
      "Epoch 8/10\n",
      "75/75 [==============================] - 34s 451ms/step - loss: 0.3578 - accuracy: 0.8874 - val_loss: 0.6482 - val_accuracy: 0.8604\n",
      "Epoch 9/10\n",
      "75/75 [==============================] - 33s 442ms/step - loss: 0.2944 - accuracy: 0.9062 - val_loss: 1.1774 - val_accuracy: 0.7839\n",
      "Epoch 10/10\n",
      "75/75 [==============================] - 34s 457ms/step - loss: 0.2907 - accuracy: 0.9134 - val_loss: 0.8170 - val_accuracy: 0.8293\n",
      "Duration: 0:05:38.857098\n"
     ]
    }
   ],
   "source": [
    "print(n)\n",
    "\n",
    "models_nc[n].fit_model(image_sets_nc[n],label_sets_nc[n],x_val,y_val)\n",
    "n = n+1"
   ]
  },
  {
   "cell_type": "code",
   "execution_count": 23,
   "id": "78afe372",
   "metadata": {},
   "outputs": [
    {
     "name": "stdout",
     "output_type": "stream",
     "text": [
      "19\n",
      "Epoch 1/10\n",
      "79/79 [==============================] - 52s 601ms/step - loss: 2.5447 - accuracy: 0.3672 - val_loss: 0.6685 - val_accuracy: 0.8324\n",
      "Epoch 2/10\n",
      "79/79 [==============================] - 45s 576ms/step - loss: 1.1542 - accuracy: 0.6720 - val_loss: 0.7532 - val_accuracy: 0.7954\n",
      "Epoch 3/10\n",
      "79/79 [==============================] - 46s 587ms/step - loss: 0.8534 - accuracy: 0.7405 - val_loss: 0.5942 - val_accuracy: 0.8377\n",
      "Epoch 4/10\n",
      "79/79 [==============================] - 46s 588ms/step - loss: 0.6855 - accuracy: 0.7917 - val_loss: 0.8764 - val_accuracy: 0.7624\n",
      "Epoch 5/10\n",
      "79/79 [==============================] - 46s 587ms/step - loss: 0.5928 - accuracy: 0.8214 - val_loss: 0.8155 - val_accuracy: 0.7933\n",
      "Epoch 6/10\n",
      "79/79 [==============================] - 47s 590ms/step - loss: 0.4670 - accuracy: 0.8512 - val_loss: 0.8545 - val_accuracy: 0.7785\n",
      "Epoch 7/10\n",
      "79/79 [==============================] - 46s 589ms/step - loss: 0.4169 - accuracy: 0.8717 - val_loss: 0.8130 - val_accuracy: 0.7936\n",
      "Epoch 8/10\n",
      "79/79 [==============================] - 47s 600ms/step - loss: 0.3743 - accuracy: 0.8849 - val_loss: 1.2199 - val_accuracy: 0.7448\n",
      "Epoch 9/10\n",
      "79/79 [==============================] - 46s 586ms/step - loss: 0.2766 - accuracy: 0.9195 - val_loss: 0.9154 - val_accuracy: 0.7943\n",
      "Epoch 10/10\n",
      "79/79 [==============================] - 45s 569ms/step - loss: 0.2727 - accuracy: 0.9196 - val_loss: 0.6141 - val_accuracy: 0.8551\n",
      "Duration: 0:07:48.049260\n"
     ]
    }
   ],
   "source": [
    "n=19\n",
    "print(n)\n",
    "\n",
    "models_nc[n].fit_model(image_sets_nc[n],label_sets_nc[n],x_val,y_val)\n",
    "n = n+1"
   ]
  },
  {
   "cell_type": "code",
   "execution_count": 23,
   "id": "7931428f",
   "metadata": {},
   "outputs": [
    {
     "name": "stdout",
     "output_type": "stream",
     "text": [
      "D:/models/gtsrb_models/C3/gtsrb_model_c3_sep_nc_e2_0\n",
      "Model loaded correctly\n",
      "D:/models/gtsrb_models/C3/gtsrb_model_c3_sep_nc_e2_1\n",
      "Model loaded correctly\n",
      "D:/models/gtsrb_models/C3/gtsrb_model_c3_sep_nc_e2_2\n",
      "Model loaded correctly\n",
      "D:/models/gtsrb_models/C3/gtsrb_model_c3_sep_nc_e2_3\n",
      "Model loaded correctly\n",
      "D:/models/gtsrb_models/C3/gtsrb_model_c3_sep_nc_e2_4\n",
      "Model loaded correctly\n",
      "D:/models/gtsrb_models/C3/gtsrb_model_c3_sep_nc_e2_5\n",
      "Model loaded correctly\n",
      "D:/models/gtsrb_models/C3/gtsrb_model_c3_sep_nc_e2_6\n",
      "Model loaded correctly\n",
      "D:/models/gtsrb_models/C3/gtsrb_model_c3_sep_nc_e2_7\n",
      "Model loaded correctly\n",
      "D:/models/gtsrb_models/C3/gtsrb_model_c3_sep_nc_e2_8\n",
      "Model loaded correctly\n",
      "D:/models/gtsrb_models/C3/gtsrb_model_c3_sep_nc_e2_9\n",
      "Model loaded correctly\n",
      "D:/models/gtsrb_models/C3/gtsrb_model_c3_sep_nc_e2_10\n",
      "Model loaded correctly\n",
      "D:/models/gtsrb_models/C3/gtsrb_model_c3_sep_nc_e2_11\n",
      "Model loaded correctly\n",
      "D:/models/gtsrb_models/C3/gtsrb_model_c3_sep_nc_e2_12\n",
      "Model loaded correctly\n",
      "D:/models/gtsrb_models/C3/gtsrb_model_c3_sep_nc_e2_13\n",
      "Model loaded correctly\n",
      "D:/models/gtsrb_models/C3/gtsrb_model_c3_sep_nc_e2_14\n",
      "Model loaded correctly\n",
      "D:/models/gtsrb_models/C3/gtsrb_model_c3_sep_nc_e2_15\n",
      "Model loaded correctly\n",
      "D:/models/gtsrb_models/C3/gtsrb_model_c3_sep_nc_e2_16\n",
      "Model loaded correctly\n",
      "D:/models/gtsrb_models/C3/gtsrb_model_c3_sep_nc_e2_17\n",
      "Model loaded correctly\n",
      "D:/models/gtsrb_models/C3/gtsrb_model_c3_sep_nc_e2_18\n",
      "Model loaded correctly\n",
      "D:/models/gtsrb_models/C3/gtsrb_model_c3_sep_nc_e2_19\n",
      "Model loaded correctly\n"
     ]
    }
   ],
   "source": [
    "loading = True\n",
    "\n",
    "models_nc = []\n",
    "\n",
    "if loading:\n",
    "    for i in range(20):\n",
    "        model_nc_dir = \"D:/models/gtsrb_models/C3/gtsrb_model_c3_sep_nc_e2_\"+str(i)\n",
    "        print(model_nc_dir)\n",
    "        model =utils.My_model('gtsrb',True,model_nc_dir)\n",
    "        model.model.compile(loss= 'categorical_crossentropy', optimizer = 'rmsprop', metrics = ['accuracy',tf.keras.metrics.Precision(), tf.keras.metrics.Recall()])\n",
    "        models_nc.append(model)\n",
    "       "
   ]
  },
  {
   "cell_type": "markdown",
   "id": "2b428980",
   "metadata": {},
   "source": [
    "## Evaluating"
   ]
  },
  {
   "cell_type": "code",
   "execution_count": 24,
   "id": "e6300f23",
   "metadata": {},
   "outputs": [],
   "source": [
    "model_original.model.compile(loss= 'categorical_crossentropy', optimizer = 'rmsprop', metrics = ['accuracy',tf.keras.metrics.Precision(), tf.keras.metrics.Recall()])"
   ]
  },
  {
   "cell_type": "code",
   "execution_count": 25,
   "id": "fd074ff2",
   "metadata": {},
   "outputs": [
    {
     "name": "stdout",
     "output_type": "stream",
     "text": [
      "123/123 [==============================] - 22s 126ms/step - loss: 4.9518 - accuracy: 0.1311 - precision_80: 0.1937 - recall_80: 0.0905\n",
      "123/123 [==============================] - 15s 121ms/step - loss: 4.5121 - accuracy: 0.1843 - precision_80: 0.2965 - recall_80: 0.1261\n",
      "123/123 [==============================] - 15s 122ms/step - loss: 4.5121 - accuracy: 0.1843 - precision_80: 0.3060 - recall_80: 0.1296\n",
      "123/123 [==============================] - 15s 124ms/step - loss: 4.5121 - accuracy: 0.1843 - precision_80: 0.3098 - recall_80: 0.1310\n",
      "123/123 [==============================] - 19s 141ms/step - loss: 1.9137 - accuracy: 0.4402 - precision: 0.7414 - recall: 0.3156\n",
      "123/123 [==============================] - 17s 122ms/step - loss: 1.3374 - accuracy: 0.6002 - precision_1: 0.8114 - recall_1: 0.5305\n",
      "123/123 [==============================] - 15s 110ms/step - loss: 1.1751 - accuracy: 0.6920 - precision_2: 0.8215 - recall_2: 0.6344\n",
      "123/123 [==============================] - 15s 114ms/step - loss: 0.9520 - accuracy: 0.7219 - precision_3: 0.8222 - recall_3: 0.6459\n",
      "123/123 [==============================] - 14s 100ms/step - loss: 0.9655 - accuracy: 0.7354 - precision_4: 0.8200 - recall_4: 0.6624\n",
      "123/123 [==============================] - 14s 104ms/step - loss: 0.6940 - accuracy: 0.8031 - precision_5: 0.8878 - recall_5: 0.7417\n",
      "123/123 [==============================] - 16s 117ms/step - loss: 0.7136 - accuracy: 0.7917 - precision_6: 0.8519 - recall_6: 0.7269\n",
      "123/123 [==============================] - 17s 131ms/step - loss: 0.6012 - accuracy: 0.8364 - precision_7: 0.8891 - recall_7: 0.7729\n",
      "123/123 [==============================] - 18s 132ms/step - loss: 0.5252 - accuracy: 0.8197 - precision_8: 0.8973 - recall_8: 0.7472\n",
      "123/123 [==============================] - 18s 137ms/step - loss: 0.8149 - accuracy: 0.8230 - precision_9: 0.8629 - recall_9: 0.7553\n",
      "123/123 [==============================] - 18s 133ms/step - loss: 0.4095 - accuracy: 0.8850 - precision_10: 0.9104 - recall_10: 0.8380\n",
      "123/123 [==============================] - 18s 135ms/step - loss: 0.4913 - accuracy: 0.8471 - precision_11: 0.8784 - recall_11: 0.7603\n",
      "123/123 [==============================] - 19s 143ms/step - loss: 0.3692 - accuracy: 0.8890 - precision_12: 0.9164 - recall_12: 0.8334\n",
      "123/123 [==============================] - 19s 143ms/step - loss: 0.3576 - accuracy: 0.9000 - precision_13: 0.9434 - recall_13: 0.8563\n",
      "123/123 [==============================] - 20s 149ms/step - loss: 0.3830 - accuracy: 0.8960 - precision_14: 0.9269 - recall_14: 0.8510\n",
      "123/123 [==============================] - 22s 167ms/step - loss: 0.3784 - accuracy: 0.8952 - precision_15: 0.9341 - recall_15: 0.8601\n",
      "123/123 [==============================] - 21s 155ms/step - loss: 0.3283 - accuracy: 0.9026 - precision_16: 0.9141 - recall_16: 0.8547\n",
      "123/123 [==============================] - 20s 155ms/step - loss: 0.3227 - accuracy: 0.9091 - precision_17: 0.9332 - recall_17: 0.8607\n",
      "123/123 [==============================] - 21s 157ms/step - loss: 0.4424 - accuracy: 0.8836 - precision_18: 0.8749 - recall_18: 0.8479\n",
      "123/123 [==============================] - 22s 167ms/step - loss: 0.3648 - accuracy: 0.9102 - precision_19: 0.9144 - recall_19: 0.8824\n",
      "123/123 [==============================] - 25s 193ms/step - loss: 2.4935 - accuracy: 0.2809 - precision_20: 0.2784 - recall_20: 0.0959\n",
      "123/123 [==============================] - 22s 166ms/step - loss: 1.5730 - accuracy: 0.5135 - precision_21: 0.6890 - recall_21: 0.4106\n",
      "123/123 [==============================] - 22s 170ms/step - loss: 1.1580 - accuracy: 0.6485 - precision_22: 0.7827 - recall_22: 0.5834\n",
      "123/123 [==============================] - 23s 168ms/step - loss: 1.1213 - accuracy: 0.7144 - precision_23: 0.7788 - recall_23: 0.6474\n",
      "123/123 [==============================] - 22s 173ms/step - loss: 0.7663 - accuracy: 0.7627 - precision_24: 0.9241 - recall_24: 0.6703\n",
      "123/123 [==============================] - 23s 173ms/step - loss: 0.7112 - accuracy: 0.7992 - precision_25: 0.8769 - recall_25: 0.7369\n",
      "123/123 [==============================] - 23s 173ms/step - loss: 0.7058 - accuracy: 0.7751 - precision_26: 0.8733 - recall_26: 0.6996\n",
      "123/123 [==============================] - 23s 174ms/step - loss: 0.7382 - accuracy: 0.8032 - precision_27: 0.8416 - recall_27: 0.7508\n",
      "123/123 [==============================] - 23s 179ms/step - loss: 0.7235 - accuracy: 0.8073 - precision_28: 0.8836 - recall_28: 0.7304\n",
      "123/123 [==============================] - 24s 189ms/step - loss: 0.5757 - accuracy: 0.8220 - precision_29: 0.8811 - recall_29: 0.7685\n",
      "123/123 [==============================] - 26s 197ms/step - loss: 0.5844 - accuracy: 0.8467 - precision_30: 0.8881 - recall_30: 0.79591s - loss: 0.5990 - accuracy: 0.8432 - precision_30: 0.8865 - recall_\n",
      "123/123 [==============================] - 24s 184ms/step - loss: 0.4912 - accuracy: 0.8595 - precision_31: 0.8773 - recall_31: 0.7928\n",
      "123/123 [==============================] - 24s 184ms/step - loss: 0.4796 - accuracy: 0.8506 - precision_32: 0.8980 - recall_32: 0.7892\n",
      "123/123 [==============================] - 24s 183ms/step - loss: 0.4336 - accuracy: 0.8777 - precision_33: 0.8964 - recall_33: 0.8228\n",
      "123/123 [==============================] - 24s 183ms/step - loss: 0.4568 - accuracy: 0.8805 - precision_34: 0.8901 - recall_34: 0.8267\n",
      "123/123 [==============================] - 24s 184ms/step - loss: 0.4094 - accuracy: 0.8735 - precision_35: 0.9098 - recall_35: 0.8051\n",
      "123/123 [==============================] - 23s 180ms/step - loss: 0.3861 - accuracy: 0.8905 - precision_36: 0.9197 - recall_36: 0.8328\n",
      "123/123 [==============================] - 23s 178ms/step - loss: 0.4557 - accuracy: 0.8752 - precision_37: 0.9221 - recall_37: 0.802517s - loss: 0.6974 -\n",
      "123/123 [==============================] - 23s 176ms/step - loss: 0.4436 - accuracy: 0.8598 - precision_38: 0.9157 - recall_38: 0.84692s - loss: 0.4475 - accuracy: 0.8576 - precision_38: 0.9166 - \n",
      "123/123 [==============================] - 23s 175ms/step - loss: 0.3325 - accuracy: 0.9127 - precision_39: 0.9301 - recall_39: 0.8875\n",
      "123/123 [==============================] - 23s 178ms/step - loss: 1.8170 - accuracy: 0.4726 - precision_40: 0.6841 - recall_40: 0.36869s - loss: 1.9194 - accur\n",
      "123/123 [==============================] - 23s 174ms/step - loss: 1.2383 - accuracy: 0.6044 - precision_41: 0.8393 - recall_41: 0.5095\n",
      "123/123 [==============================] - 23s 175ms/step - loss: 1.0235 - accuracy: 0.6916 - precision_42: 0.8499 - recall_42: 0.5923\n",
      "123/123 [==============================] - 23s 174ms/step - loss: 0.8781 - accuracy: 0.7329 - precision_43: 0.9008 - recall_43: 0.6483\n",
      "123/123 [==============================] - 22s 171ms/step - loss: 0.7820 - accuracy: 0.7725 - precision_44: 0.8726 - recall_44: 0.7135\n",
      "123/123 [==============================] - 22s 170ms/step - loss: 0.9156 - accuracy: 0.7354 - precision_45: 0.8343 - recall_45: 0.6510 9s - loss: 1.0706 - a\n",
      "123/123 [==============================] - 22s 171ms/step - loss: 0.6492 - accuracy: 0.8086 - precision_46: 0.8621 - recall_46: 0.7515\n",
      "123/123 [==============================] - 22s 171ms/step - loss: 0.8504 - accuracy: 0.7799 - precision_47: 0.8711 - recall_47: 0.6881\n",
      "123/123 [==============================] - 22s 168ms/step - loss: 0.7191 - accuracy: 0.7842 - precision_48: 0.8567 - recall_48: 0.7352\n",
      "123/123 [==============================] - 22s 167ms/step - loss: 0.6819 - accuracy: 0.8037 - precision_49: 0.9205 - recall_49: 0.7021\n",
      "123/123 [==============================] - 22s 169ms/step - loss: 0.5610 - accuracy: 0.8434 - precision_50: 0.8921 - recall_50: 0.7818\n",
      "123/123 [==============================] - 22s 167ms/step - loss: 0.4398 - accuracy: 0.8666 - precision_51: 0.9296 - recall_51: 0.7920\n",
      "123/123 [==============================] - 21s 164ms/step - loss: 0.4093 - accuracy: 0.8737 - precision_52: 0.9000 - recall_52: 0.8323\n",
      "123/123 [==============================] - 21s 162ms/step - loss: 0.4067 - accuracy: 0.8865 - precision_53: 0.9255 - recall_53: 0.8359\n",
      "123/123 [==============================] - 21s 164ms/step - loss: 0.4104 - accuracy: 0.8687 - precision_54: 0.9052 - recall_54: 0.8173\n",
      "123/123 [==============================] - 21s 162ms/step - loss: 0.5396 - accuracy: 0.8710 - precision_55: 0.9058 - recall_55: 0.8272\n",
      "123/123 [==============================] - 21s 162ms/step - loss: 0.3154 - accuracy: 0.9079 - precision_56: 0.9323 - recall_56: 0.8565\n",
      "123/123 [==============================] - 21s 163ms/step - loss: 0.2976 - accuracy: 0.9133 - precision_57: 0.9330 - recall_57: 0.8896\n",
      "123/123 [==============================] - 21s 158ms/step - loss: 0.3368 - accuracy: 0.9124 - precision_58: 0.9353 - recall_58: 0.8769\n",
      "123/123 [==============================] - 21s 157ms/step - loss: 0.3179 - accuracy: 0.9138 - precision_59: 0.9304 - recall_59: 0.8912\n",
      "123/123 [==============================] - 21s 159ms/step - loss: 2.4417 - accuracy: 0.2400 - precision_60: 0.6515 - recall_60: 0.1022\n",
      "123/123 [==============================] - 20s 156ms/step - loss: 1.7307 - accuracy: 0.4716 - precision_61: 0.7364 - recall_61: 0.3568\n",
      "123/123 [==============================] - 20s 156ms/step - loss: 1.4760 - accuracy: 0.5682 - precision_62: 0.7520 - recall_62: 0.4790\n",
      "123/123 [==============================] - 20s 155ms/step - loss: 1.3409 - accuracy: 0.6827 - precision_63: 0.7474 - recall_63: 0.5900\n",
      "123/123 [==============================] - 20s 154ms/step - loss: 1.0595 - accuracy: 0.7108 - precision_64: 0.7809 - recall_64: 0.6221\n",
      "123/123 [==============================] - 20s 152ms/step - loss: 0.9168 - accuracy: 0.7469 - precision_65: 0.8200 - recall_65: 0.6524\n",
      "123/123 [==============================] - 20s 152ms/step - loss: 0.6992 - accuracy: 0.7895 - precision_66: 0.9084 - recall_66: 0.7465\n",
      "123/123 [==============================] - 20s 149ms/step - loss: 0.9052 - accuracy: 0.7800 - precision_67: 0.8378 - recall_67: 0.7496\n",
      "123/123 [==============================] - 20s 149ms/step - loss: 0.5593 - accuracy: 0.8310 - precision_68: 0.9193 - recall_68: 0.7743\n",
      "123/123 [==============================] - 19s 146ms/step - loss: 0.6278 - accuracy: 0.8271 - precision_69: 0.8690 - recall_69: 0.7964\n",
      "123/123 [==============================] - 19s 146ms/step - loss: 0.5066 - accuracy: 0.8436 - precision_70: 0.9305 - recall_70: 0.7867\n",
      "123/123 [==============================] - 19s 143ms/step - loss: 0.4511 - accuracy: 0.8575 - precision_71: 0.9061 - recall_71: 0.7956\n",
      "123/123 [==============================] - 19s 143ms/step - loss: 0.4111 - accuracy: 0.8749 - precision_72: 0.9155 - recall_72: 0.8408\n",
      "123/123 [==============================] - 19s 141ms/step - loss: 0.5328 - accuracy: 0.8548 - precision_73: 0.9097 - recall_73: 0.7974\n",
      "123/123 [==============================] - 18s 140ms/step - loss: 0.4269 - accuracy: 0.8731 - precision_74: 0.9188 - recall_74: 0.8224\n",
      "123/123 [==============================] - 18s 140ms/step - loss: 0.3654 - accuracy: 0.8919 - precision_75: 0.9224 - recall_75: 0.8842\n",
      "123/123 [==============================] - 18s 138ms/step - loss: 0.3530 - accuracy: 0.9022 - precision_76: 0.9226 - recall_76: 0.8494\n",
      "123/123 [==============================] - 18s 136ms/step - loss: 0.4414 - accuracy: 0.8732 - precision_77: 0.9154 - recall_77: 0.8194\n",
      "123/123 [==============================] - 18s 135ms/step - loss: 0.4996 - accuracy: 0.8577 - precision_78: 0.9049 - recall_78: 0.8245\n",
      "123/123 [==============================] - 19s 133ms/step - loss: 0.3344 - accuracy: 0.9080 - precision_79: 0.9300 - recall_79: 0.8822\n"
     ]
    }
   ],
   "source": [
    "# Metrics using adversarial test\n",
    "evaluate_lsa_0 = []\n",
    "evaluate_dsa_0 = []\n",
    "evaluate_nc_0 = []\n",
    "evaluate_random_0 = []\n",
    "\n",
    "evaluate_lsa_0.append(model_original.evaluate(x_adversary_test_fgsm,y_adversary_test_fgsm))\n",
    "evaluate_dsa_0.append(model_original.evaluate(x_adversary_test_fgsm,y_adversary_test_fgsm))\n",
    "evaluate_nc_0.append(model_original.evaluate(x_adversary_test_fgsm,y_adversary_test_fgsm))\n",
    "evaluate_random_0.append(model_original.evaluate(x_adversary_test_fgsm,y_adversary_test_fgsm))\n",
    "\n",
    "for model in models_lsa:\n",
    "    evaluate_lsa_0.append(model.evaluate(x_adversary_test_fgsm,y_adversary_test_fgsm))\n",
    "    \n",
    "for model in models_dsa:\n",
    "    evaluate_dsa_0.append(model.evaluate(x_adversary_test_fgsm,y_adversary_test_fgsm))\n",
    "    \n",
    "for model in models_random:\n",
    "    evaluate_random_0.append(model.evaluate(x_adversary_test_fgsm,y_adversary_test_fgsm))\n",
    "    \n",
    "for model in models_nc:\n",
    "    evaluate_nc_0.append(model.evaluate(x_adversary_test_fgsm,y_adversary_test_fgsm))"
   ]
  },
  {
   "cell_type": "code",
   "execution_count": 26,
   "id": "11b4b138",
   "metadata": {},
   "outputs": [
    {
     "name": "stdout",
     "output_type": "stream",
     "text": [
      "21\n",
      "21\n",
      "21\n",
      "21\n"
     ]
    }
   ],
   "source": [
    "print(len(evaluate_lsa_0))\n",
    "print(len(evaluate_dsa_0))\n",
    "print(len(evaluate_random_0))\n",
    "print(len(evaluate_nc_0))"
   ]
  },
  {
   "cell_type": "code",
   "execution_count": 27,
   "id": "1d1c6ec0",
   "metadata": {
    "scrolled": true
   },
   "outputs": [
    {
     "name": "stdout",
     "output_type": "stream",
     "text": [
      "123/123 [==============================] - 17s 135ms/step - loss: 0.0293 - accuracy: 0.9929 - precision_80: 0.4645 - recall_80: 0.2270\n",
      "123/123 [==============================] - 17s 136ms/step - loss: 0.0293 - accuracy: 0.9929 - precision_80: 0.6339 - recall_80: 0.3667\n",
      "123/123 [==============================] - 16s 134ms/step - loss: 0.0293 - accuracy: 0.9929 - precision_80: 0.7208 - recall_80: 0.4631\n",
      "123/123 [==============================] - 17s 134ms/step - loss: 0.0293 - accuracy: 0.9929 - precision_80: 0.7739 - recall_80: 0.5337\n",
      "lsa---\n",
      "123/123 [==============================] - 16s 134ms/step - loss: 0.3534 - accuracy: 0.9419 - precision: 0.9022 - recall: 0.4939\n",
      "123/123 [==============================] - 17s 136ms/step - loss: 0.2911 - accuracy: 0.9350 - precision_1: 0.8785 - recall_1: 0.6606\n",
      "123/123 [==============================] - 17s 136ms/step - loss: 0.6886 - accuracy: 0.8876 - precision_2: 0.8640 - recall_2: 0.7319\n",
      "123/123 [==============================] - 17s 136ms/step - loss: 0.6765 - accuracy: 0.8272 - precision_3: 0.8815 - recall_3: 0.7265\n",
      "123/123 [==============================] - 17s 135ms/step - loss: 0.6664 - accuracy: 0.8318 - precision_4: 0.8847 - recall_4: 0.7447\n",
      "123/123 [==============================] - 17s 135ms/step - loss: 0.5483 - accuracy: 0.8481 - precision_5: 0.9076 - recall_5: 0.7846\n",
      "123/123 [==============================] - 17s 136ms/step - loss: 0.5984 - accuracy: 0.8593 - precision_6: 0.8941 - recall_6: 0.8104\n",
      "123/123 [==============================] - 17s 138ms/step - loss: 1.0184 - accuracy: 0.8070 - precision_7: 0.8929 - recall_7: 0.8025\n",
      "123/123 [==============================] - 18s 142ms/step - loss: 0.5624 - accuracy: 0.8407 - precision_8: 0.9255 - recall_8: 0.8036\n",
      "123/123 [==============================] - 17s 138ms/step - loss: 2.8608 - accuracy: 0.7158 - precision_9: 0.8415 - recall_9: 0.7815\n",
      "123/123 [==============================] - 17s 142ms/step - loss: 0.6176 - accuracy: 0.8366 - precision_10: 0.9298 - recall_10: 0.8458\n",
      "123/123 [==============================] - 17s 142ms/step - loss: 0.7968 - accuracy: 0.7943 - precision_11: 0.9315 - recall_11: 0.8083\n",
      "123/123 [==============================] - 17s 136ms/step - loss: 0.6334 - accuracy: 0.8376 - precision_12: 0.9464 - recall_12: 0.8519\n",
      "123/123 [==============================] - 17s 136ms/step - loss: 0.7680 - accuracy: 0.8012 - precision_13: 0.9408 - recall_13: 0.8392\n",
      "123/123 [==============================] - 17s 140ms/step - loss: 0.8752 - accuracy: 0.8109 - precision_14: 0.9294 - recall_14: 0.8595\n",
      "123/123 [==============================] - 17s 135ms/step - loss: 0.4701 - accuracy: 0.8774 - precision_15: 0.9327 - recall_15: 0.8645\n",
      "123/123 [==============================] - 18s 143ms/step - loss: 0.9213 - accuracy: 0.7905 - precision_16: 0.9336 - recall_16: 0.8581\n",
      "123/123 [==============================] - 19s 151ms/step - loss: 0.6019 - accuracy: 0.8381 - precision_17: 0.9523 - recall_17: 0.8759\n",
      "123/123 [==============================] - 19s 151ms/step - loss: 1.8446 - accuracy: 0.7349 - precision_18: 0.8938 - recall_18: 0.8382\n",
      "123/123 [==============================] - 18s 149ms/step - loss: 1.0443 - accuracy: 0.7854 - precision_19: 0.9222 - recall_19: 0.8667\n",
      "dsa---\n",
      "123/123 [==============================] - 18s 143ms/step - loss: 0.4884 - accuracy: 0.8794 - precision_20: 0.8134 - recall_20: 0.3687\n",
      "123/123 [==============================] - 19s 156ms/step - loss: 0.3314 - accuracy: 0.9123 - precision_21: 0.8552 - recall_21: 0.5918\n",
      "123/123 [==============================] - 19s 153ms/step - loss: 0.4010 - accuracy: 0.8985 - precision_22: 0.8633 - recall_22: 0.6974\n",
      "123/123 [==============================] - 19s 151ms/step - loss: 1.3664 - accuracy: 0.7782 - precision_23: 0.8218 - recall_23: 0.7275\n",
      "123/123 [==============================] - 17s 138ms/step - loss: 0.8362 - accuracy: 0.8282 - precision_24: 0.9056 - recall_24: 0.7339\n",
      "123/123 [==============================] - 17s 138ms/step - loss: 1.0210 - accuracy: 0.8491 - precision_25: 0.8909 - recall_25: 0.8025\n",
      "123/123 [==============================] - 17s 136ms/step - loss: 1.0382 - accuracy: 0.8236 - precision_26: 0.8854 - recall_26: 0.7548\n",
      "123/123 [==============================] - 17s 138ms/step - loss: 0.5222 - accuracy: 0.8598 - precision_27: 0.9006 - recall_27: 0.8178\n",
      "123/123 [==============================] - 17s 137ms/step - loss: 1.7748 - accuracy: 0.8022 - precision_28: 0.8741 - recall_28: 0.7973\n",
      "123/123 [==============================] - 17s 140ms/step - loss: 0.8273 - accuracy: 0.8078 - precision_29: 0.8945 - recall_29: 0.7953\n",
      "123/123 [==============================] - 17s 135ms/step - loss: 1.0748 - accuracy: 0.8157 - precision_30: 0.9016 - recall_30: 0.8347\n",
      "123/123 [==============================] - 17s 140ms/step - loss: 0.8711 - accuracy: 0.8165 - precision_31: 0.9191 - recall_31: 0.8369\n",
      "123/123 [==============================] - 17s 138ms/step - loss: 0.5832 - accuracy: 0.8471 - precision_32: 0.9371 - recall_32: 0.8256\n",
      "123/123 [==============================] - 17s 137ms/step - loss: 0.8944 - accuracy: 0.8137 - precision_33: 0.9169 - recall_33: 0.8441\n",
      "123/123 [==============================] - 17s 134ms/step - loss: 0.7811 - accuracy: 0.8211 - precision_34: 0.9252 - recall_34: 0.8621\n",
      "123/123 [==============================] - 17s 137ms/step - loss: 0.7592 - accuracy: 0.8152 - precision_35: 0.9433 - recall_35: 0.8426\n",
      "123/123 [==============================] - 17s 137ms/step - loss: 0.7104 - accuracy: 0.8129 - precision_36: 0.9486 - recall_36: 0.8514\n",
      "123/123 [==============================] - 16s 134ms/step - loss: 1.0986 - accuracy: 0.7566 - precision_37: 0.9132 - recall_37: 0.8269\n",
      "123/123 [==============================] - 17s 138ms/step - loss: 0.7408 - accuracy: 0.8083 - precision_38: 0.9173 - recall_38: 0.8181\n",
      "123/123 [==============================] - 17s 136ms/step - loss: 0.6089 - accuracy: 0.8473 - precision_39: 0.9466 - recall_39: 0.8833\n",
      "random---\n",
      "123/123 [==============================] - 17s 135ms/step - loss: 0.2597 - accuracy: 0.9332 - precision_40: 0.8544 - recall_40: 0.5999\n",
      "123/123 [==============================] - 17s 136ms/step - loss: 0.3163 - accuracy: 0.9276 - precision_41: 0.9015 - recall_41: 0.6635\n",
      "123/123 [==============================] - 17s 136ms/step - loss: 0.4796 - accuracy: 0.8697 - precision_42: 0.9008 - recall_42: 0.7074\n",
      "123/123 [==============================] - 16s 134ms/step - loss: 0.3854 - accuracy: 0.8945 - precision_43: 0.9166 - recall_43: 0.7227\n",
      "123/123 [==============================] - 16s 133ms/step - loss: 0.6126 - accuracy: 0.8361 - precision_44: 0.9127 - recall_44: 0.7597\n",
      "123/123 [==============================] - 16s 134ms/step - loss: 1.3341 - accuracy: 0.7487 - precision_45: 0.8540 - recall_45: 0.7294\n",
      "123/123 [==============================] - 17s 139ms/step - loss: 0.5880 - accuracy: 0.8463 - precision_46: 0.9090 - recall_46: 0.8076\n",
      "123/123 [==============================] - 16s 134ms/step - loss: 2.2714 - accuracy: 0.6885 - precision_47: 0.8296 - recall_47: 0.7222\n",
      "123/123 [==============================] - 17s 135ms/step - loss: 1.1131 - accuracy: 0.8504 - precision_48: 0.8710 - recall_48: 0.7945\n",
      "123/123 [==============================] - 17s 134ms/step - loss: 0.8269 - accuracy: 0.7764 - precision_49: 0.9306 - recall_49: 0.7467\n",
      "123/123 [==============================] - 17s 134ms/step - loss: 0.9095 - accuracy: 0.7716 - precision_50: 0.9227 - recall_50: 0.8132\n",
      "123/123 [==============================] - 16s 134ms/step - loss: 0.6244 - accuracy: 0.8407 - precision_51: 0.9431 - recall_51: 0.8226\n",
      "123/123 [==============================] - 17s 134ms/step - loss: 0.6666 - accuracy: 0.8417 - precision_52: 0.9283 - recall_52: 0.8616\n",
      "123/123 [==============================] - 16s 133ms/step - loss: 0.4297 - accuracy: 0.8827 - precision_53: 0.9486 - recall_53: 0.8653\n",
      "123/123 [==============================] - 16s 134ms/step - loss: 0.5057 - accuracy: 0.8669 - precision_54: 0.9372 - recall_54: 0.8508\n",
      "123/123 [==============================] - 16s 133ms/step - loss: 1.7009 - accuracy: 0.7573 - precision_55: 0.8744 - recall_55: 0.8326\n",
      "123/123 [==============================] - 16s 134ms/step - loss: 1.1703 - accuracy: 0.8109 - precision_56: 0.9168 - recall_56: 0.8595\n",
      "123/123 [==============================] - 16s 133ms/step - loss: 0.9887 - accuracy: 0.8198 - precision_57: 0.9191 - recall_57: 0.8732\n",
      "123/123 [==============================] - 16s 133ms/step - loss: 1.3730 - accuracy: 0.7663 - precision_58: 0.8981 - recall_58: 0.8559\n",
      "123/123 [==============================] - 16s 133ms/step - loss: 0.9513 - accuracy: 0.7828 - precision_59: 0.9348 - recall_59: 0.8610\n",
      "nc---\n",
      "123/123 [==============================] - 16s 133ms/step - loss: 0.6338 - accuracy: 0.8654 - precision_60: 0.9046 - recall_60: 0.2882\n",
      "123/123 [==============================] - 17s 139ms/step - loss: 0.4851 - accuracy: 0.8855 - precision_61: 0.8664 - recall_61: 0.4789\n",
      "123/123 [==============================] - 16s 134ms/step - loss: 0.6540 - accuracy: 0.8478 - precision_62: 0.8255 - recall_62: 0.5701\n",
      "123/123 [==============================] - 17s 136ms/step - loss: 1.2861 - accuracy: 0.7823 - precision_63: 0.8186 - recall_63: 0.6838\n",
      "123/123 [==============================] - 17s 137ms/step - loss: 0.8118 - accuracy: 0.8093 - precision_64: 0.8597 - recall_64: 0.7035\n",
      "123/123 [==============================] - 17s 135ms/step - loss: 0.6631 - accuracy: 0.8310 - precision_65: 0.8863 - recall_65: 0.7213\n",
      "123/123 [==============================] - 17s 134ms/step - loss: 0.4605 - accuracy: 0.8815 - precision_66: 0.9050 - recall_66: 0.7550\n",
      "123/123 [==============================] - 17s 134ms/step - loss: 0.7822 - accuracy: 0.8629 - precision_67: 0.8571 - recall_67: 0.7892\n",
      "123/123 [==============================] - 16s 133ms/step - loss: 0.7006 - accuracy: 0.8154 - precision_68: 0.9265 - recall_68: 0.7705\n",
      "123/123 [==============================] - 16s 134ms/step - loss: 1.4252 - accuracy: 0.7759 - precision_69: 0.8597 - recall_69: 0.7910\n",
      "123/123 [==============================] - 16s 134ms/step - loss: 0.6265 - accuracy: 0.8412 - precision_70: 0.9376 - recall_70: 0.8089\n",
      "123/123 [==============================] - 16s 134ms/step - loss: 0.6269 - accuracy: 0.8389 - precision_71: 0.9350 - recall_71: 0.8180\n",
      "123/123 [==============================] - 16s 133ms/step - loss: 1.0422 - accuracy: 0.8231 - precision_72: 0.9048 - recall_72: 0.8377\n",
      "123/123 [==============================] - 16s 134ms/step - loss: 0.7663 - accuracy: 0.8086 - precision_73: 0.9184 - recall_73: 0.8217\n",
      "123/123 [==============================] - 17s 135ms/step - loss: 0.6660 - accuracy: 0.8246 - precision_74: 0.9264 - recall_74: 0.8334\n",
      "123/123 [==============================] - 17s 134ms/step - loss: 0.6392 - accuracy: 0.8524 - precision_75: 0.9244 - recall_75: 0.8602\n",
      "123/123 [==============================] - 16s 134ms/step - loss: 0.7719 - accuracy: 0.8259 - precision_76: 0.9207 - recall_76: 0.8605\n",
      "123/123 [==============================] - 17s 134ms/step - loss: 0.6381 - accuracy: 0.8330 - precision_77: 0.9329 - recall_77: 0.8385\n",
      "123/123 [==============================] - 16s 133ms/step - loss: 0.8047 - accuracy: 0.8313 - precision_78: 0.9237 - recall_78: 0.8357\n",
      "123/123 [==============================] - 16s 134ms/step - loss: 0.6092 - accuracy: 0.8504 - precision_79: 0.9350 - recall_79: 0.8802\n"
     ]
    }
   ],
   "source": [
    "# Metrics using original test\n",
    "evaluate_lsa_1 = []\n",
    "evaluate_dsa_1 = []\n",
    "evaluate_nc_1 = []\n",
    "evaluate_random_1 = []\n",
    "\n",
    "evaluate_lsa_1.append(model_original.evaluate(x_test,y_test))\n",
    "evaluate_dsa_1.append(model_original.evaluate(x_test,y_test))\n",
    "evaluate_nc_1.append(model_original.evaluate(x_test,y_test))\n",
    "evaluate_random_1.append(model_original.evaluate(x_test,y_test))\n",
    "print(\"lsa---\")\n",
    "for model in models_lsa:\n",
    "    evaluate_lsa_1.append(model.evaluate(x_test,y_test))\n",
    "\n",
    "print(\"dsa---\")\n",
    "    \n",
    "for model in models_dsa:\n",
    "    evaluate_dsa_1.append(model.evaluate(x_test,y_test))\n",
    "    \n",
    "\n",
    "print(\"random---\")\n",
    "\n",
    "for model in models_random:\n",
    "    evaluate_random_1.append(model.evaluate(x_test,y_test))\n",
    "    \n",
    "print(\"nc---\")\n",
    "\n",
    "for model in models_nc:\n",
    "    evaluate_nc_1.append(model.evaluate(x_test,y_test))\n"
   ]
  },
  {
   "cell_type": "code",
   "execution_count": 31,
   "id": "85dd3308",
   "metadata": {},
   "outputs": [
    {
     "name": "stdout",
     "output_type": "stream",
     "text": [
      "21\n",
      "21\n",
      "21\n",
      "21\n"
     ]
    }
   ],
   "source": [
    "\n",
    "print(len(evaluate_lsa_1))\n",
    "print(len(evaluate_dsa_1))\n",
    "print(len(evaluate_random_1))\n",
    "print(len(evaluate_nc_1))"
   ]
  },
  {
   "cell_type": "code",
   "execution_count": 32,
   "id": "8c45b340",
   "metadata": {},
   "outputs": [],
   "source": [
    "import pandas as pd\n",
    "\n",
    "df_evaluate_lsa_0 = pd.DataFrame(np.array(evaluate_lsa_0),columns=[\"loss\",\"accuracy\",\"precision\",\"recall\"])\n",
    "df_evaluate_lsa_1 = pd.DataFrame(np.array(evaluate_lsa_1),columns=[\"loss\",\"accuracy\",\"precision\",\"recall\"])\n",
    "df_evaluate_dsa_0 = pd.DataFrame(np.array(evaluate_dsa_0),columns=[\"loss\",\"accuracy\",\"precision\",\"recall\"])\n",
    "df_evaluate_dsa_1 = pd.DataFrame(np.array(evaluate_dsa_1),columns=[\"loss\",\"accuracy\",\"precision\",\"recall\"])\n",
    "\n",
    "df_evaluate_random_0 = pd.DataFrame(np.array(evaluate_random_0),columns=[\"loss\",\"accuracy\",\"precision\",\"recall\"])\n",
    "df_evaluate_random_1 = pd.DataFrame(np.array(evaluate_random_1),columns=[\"loss\",\"accuracy\",\"precision\",\"recall\"])\n",
    "df_evaluate_nc_0 = pd.DataFrame(np.array(evaluate_nc_0),columns=[\"loss\",\"accuracy\",\"precision\",\"recall\"])\n",
    "df_evaluate_nc_1 = pd.DataFrame(np.array(evaluate_nc_1),columns=[\"loss\",\"accuracy\",\"precision\",\"recall\"])\n"
   ]
  },
  {
   "cell_type": "code",
   "execution_count": 33,
   "id": "5fbac3f0",
   "metadata": {},
   "outputs": [],
   "source": [
    "# Original test set + adversarial set\n",
    "\n",
    "metric =\"accuracy\"\n",
    "accuracy_c3_lsa_3 = (np.array(df_evaluate_lsa_0[metric])+np.array(df_evaluate_lsa_1[metric]))/2\n",
    "accuracy_c3_dsa_3 = (np.array(df_evaluate_dsa_0[metric])+np.array(df_evaluate_dsa_1[metric]))/2\n",
    "accuracy_c3_nc_3 = (np.array(df_evaluate_nc_0[metric])+np.array(df_evaluate_nc_1[metric]))/2\n",
    "accuracy_c3_random_3 = (np.array(df_evaluate_random_0[metric])+np.array(df_evaluate_random_1[metric]))/2\n"
   ]
  },
  {
   "cell_type": "markdown",
   "id": "c0edc866",
   "metadata": {},
   "source": [
    "## Charts"
   ]
  },
  {
   "cell_type": "code",
   "execution_count": 34,
   "id": "db32b23d",
   "metadata": {},
   "outputs": [],
   "source": [
    "n_inputs = [250*i for i in range(20)]\n",
    "n_inputs.append(len(x_adversary_training))\n",
    "#n_inputs=n_inputs[:20]"
   ]
  },
  {
   "cell_type": "code",
   "execution_count": 35,
   "id": "0e5d823a",
   "metadata": {},
   "outputs": [
    {
     "name": "stdout",
     "output_type": "stream",
     "text": [
      "[0, 250, 500, 750, 1000, 1250, 1500, 1750, 2000, 2250, 2500, 2750, 3000, 3250, 3500, 3750, 4000, 4250, 4500, 4750, 5000]\n"
     ]
    }
   ],
   "source": [
    "print(n_inputs)"
   ]
  },
  {
   "cell_type": "code",
   "execution_count": 36,
   "id": "4feb0d30",
   "metadata": {},
   "outputs": [
    {
     "name": "stdout",
     "output_type": "stream",
     "text": [
      "C:\\Users\\fjdur\\Desktop\\gtsrb_graphs\\e2_graphs_dec\n"
     ]
    }
   ],
   "source": [
    "cd \"C:/Users/fjdur/Desktop/gtsrb_graphs/e2_graphs_dec//\""
   ]
  },
  {
   "cell_type": "code",
   "execution_count": 37,
   "id": "fdc4d0bc",
   "metadata": {},
   "outputs": [],
   "source": [
    "linestyles = ['solid','dotted','dashed','dashdot']\n",
    "colors =['k','k','k','k']"
   ]
  },
  {
   "cell_type": "code",
   "execution_count": 38,
   "id": "fde130ed",
   "metadata": {},
   "outputs": [
    {
     "data": {
      "image/png": "[encoded data removed]",
      "text/plain": [
       "<Figure size 432x288 with 1 Axes>"
      ]
     },
     "metadata": {
      "needs_background": "light"
     },
     "output_type": "display_data"
    },
    {
     "data": {
      "image/png": "[encoded data removed]",
      "text/plain": [
       "<Figure size 432x288 with 1 Axes>"
      ]
     },
     "metadata": {
      "needs_background": "light"
     },
     "output_type": "display_data"
    },
    {
     "data": {
      "image/png": "[encoded data removed]",
      "text/plain": [
       "<Figure size 432x288 with 1 Axes>"
      ]
     },
     "metadata": {
      "needs_background": "light"
     },
     "output_type": "display_data"
    },
    {
     "data": {
      "image/png": "[encoded data removed]",
      "text/plain": [
       "<Figure size 432x288 with 1 Axes>"
      ]
     },
     "metadata": {
      "needs_background": "light"
     },
     "output_type": "display_data"
    }
   ],
   "source": [
    "#configuration 3\n",
    "\n",
    "import matplotlib.pyplot as plt\n",
    "import matplotlib.patches as mpatches\n",
    "from matplotlib.patches import Patch\n",
    "from matplotlib.lines import Line2D\n",
    "\n",
    "#metric = \"accuracy\" # accuracy loss\n",
    "my_metrics =[\"accuracy\",\"loss\",\"precision\",\"recall\"]\n",
    "\n",
    "for metric in my_metrics:\n",
    "    plt.clf()\n",
    "    plt.plot(n_inputs,df_evaluate_lsa_0[metric],colors[0],linestyle=linestyles[0])\n",
    "    plt.plot(n_inputs,df_evaluate_dsa_0[metric],colors[1],linestyle=linestyles[1])\n",
    "    plt.plot(n_inputs,df_evaluate_random_0[metric],colors[2],linestyle=linestyles[2])\n",
    "    plt.plot(n_inputs,df_evaluate_nc_0[metric],colors[3],linestyle=linestyles[3])\n",
    "\n",
    "\n",
    "    legend_elements = [Line2D([0], [0], color='k', label='LSA',ls = linestyles[0]),\n",
    "                   Line2D([0], [0], color='k', label='DSA',ls = linestyles[1]),\n",
    "                   Line2D([0], [0], color='k', label='Random',ls = linestyles[2]),\n",
    "                   Line2D([0], [0], color='k', label='NC',ls = linestyles[3])]\n",
    "\n",
    "\n",
    "\n",
    "    plt.legend(handles=legend_elements)#\n",
    "    plt.title(metric + \" with test set of adversarial examples FGSM\")\n",
    "    plt.xlim([0, 5500])\n",
    "    #plt.ylim([0, 1])\n",
    "    plt.xlabel('Num of inputs')\n",
    "    plt.ylabel(metric)\n",
    "    plt.savefig(\"gtsrb_c3_\"+metric + \"_0.svg\")\n",
    "    plt.show()"
   ]
  },
  {
   "cell_type": "code",
   "execution_count": 39,
   "id": "38563782",
   "metadata": {},
   "outputs": [
    {
     "data": {
      "image/png": "[encoded data removed]",
      "text/plain": [
       "<Figure size 432x288 with 1 Axes>"
      ]
     },
     "metadata": {
      "needs_background": "light"
     },
     "output_type": "display_data"
    },
    {
     "data": {
      "image/png": "[encoded data removed]",
      "text/plain": [
       "<Figure size 432x288 with 1 Axes>"
      ]
     },
     "metadata": {
      "needs_background": "light"
     },
     "output_type": "display_data"
    },
    {
     "data": {
      "image/png": "[encoded data removed]",
      "text/plain": [
       "<Figure size 432x288 with 1 Axes>"
      ]
     },
     "metadata": {
      "needs_background": "light"
     },
     "output_type": "display_data"
    },
    {
     "data": {
      "image/png": "[encoded data removed]",
      "text/plain": [
       "<Figure size 432x288 with 1 Axes>"
      ]
     },
     "metadata": {
      "needs_background": "light"
     },
     "output_type": "display_data"
    }
   ],
   "source": [
    "#configuration 3\n",
    "\n",
    "import matplotlib.pyplot as plt\n",
    "import matplotlib.patches as mpatches\n",
    "\n",
    "my_metrics =[\"accuracy\",\"loss\",\"precision\",\"recall\"]\n",
    "\n",
    "for metric in my_metrics:\n",
    "    \n",
    "#metric = \"accuracy\" # accuracy loss\n",
    "    plt.clf()\n",
    "    plt.plot(n_inputs,df_evaluate_lsa_1[metric],colors[0],linestyle=linestyles[0])\n",
    "    plt.plot(n_inputs,df_evaluate_dsa_1[metric],colors[1],linestyle=linestyles[1])\n",
    "    plt.plot(n_inputs,df_evaluate_random_1[metric],colors[2],linestyle=linestyles[2])\n",
    "    plt.plot(n_inputs,df_evaluate_nc_1[metric],colors[3],linestyle=linestyles[3])\n",
    "\n",
    "\n",
    "    legend_elements = [Line2D([0], [0], color='k', label='LSA',ls = linestyles[0]),\n",
    "                   Line2D([0], [0], color='k', label='DSA',ls = linestyles[1]),\n",
    "                   Line2D([0], [0], color='k', label='Random',ls = linestyles[2]),\n",
    "                   Line2D([0], [0], color='k', label='NC',ls = linestyles[3])]\n",
    "\n",
    "\n",
    "\n",
    "    plt.legend(handles=legend_elements)#\n",
    "    plt.title(metric + \" with original set\")\n",
    "    plt.xlim([0, 5500])\n",
    "    #plt.ylim([0, 1])\n",
    "    plt.xlabel('Num of inputs')\n",
    "    plt.ylabel(metric)\n",
    "    plt.savefig(\"gtsrb_c3_\"+metric + \"_1.svg\")\n",
    "    plt.show()"
   ]
  },
  {
   "cell_type": "code",
   "execution_count": 40,
   "id": "884a1d99",
   "metadata": {},
   "outputs": [
    {
     "name": "stdout",
     "output_type": "stream",
     "text": [
      "4000 0.8898801803588867\n",
      "5000 0.8896252810955048\n",
      "3500 0.8980372250080109\n",
      "5000 0.8888605833053589\n"
     ]
    },
    {
     "data": {
      "image/png": "[encoded data removed]",
      "text/plain": [
       "<Figure size 432x288 with 1 Axes>"
      ]
     },
     "metadata": {
      "needs_background": "light"
     },
     "output_type": "display_data"
    }
   ],
   "source": [
    "#adversarial jsma test set\n",
    "#configuration 3\n",
    "\"\"\"\n",
    "6) Incremental guided retraining starting from the original model using only the new adversarial inputs.\n",
    "Incremental training, starting with the previous trained model. Using at each iteration a subset of the new inputs.\n",
    "\"\"\"\n",
    "import matplotlib.pyplot as plt\n",
    "import matplotlib.patches as mpatches\n",
    "\n",
    "\n",
    "\n",
    "plt.plot(n_inputs,accuracy_c3_lsa_3,colors[0],linestyle=linestyles[0])\n",
    "plt.plot(n_inputs,accuracy_c3_dsa_3,colors[1],linestyle=linestyles[1])\n",
    "plt.plot(n_inputs,accuracy_c3_random_3,colors[2],linestyle=linestyles[2])\n",
    "plt.plot(n_inputs,accuracy_c3_nc_3,colors[3],linestyle=linestyles[3])\n",
    "\n",
    "\n",
    "\n",
    "legend_elements = [Line2D([0], [0], color='k', label='LSA',ls = linestyles[0]),\n",
    "                   Line2D([0], [0], color='k', label='DSA',ls = linestyles[1]),\n",
    "                   Line2D([0], [0], color='k', label='Random',ls = linestyles[2]),\n",
    "                   Line2D([0], [0], color='k', label='NC',ls = linestyles[3])]\n",
    "\n",
    "\n",
    "\n",
    "plt.legend(handles=legend_elements)#\n",
    "plt.title(\"accuracy with both sets\")\n",
    "\n",
    "print(n_inputs[np.argmax(accuracy_c3_lsa_3)],accuracy_c3_lsa_3.max())\n",
    "print(n_inputs[np.argmax(accuracy_c3_dsa_3)],accuracy_c3_dsa_3.max())\n",
    "print(n_inputs[np.argmax(accuracy_c3_random_3)],accuracy_c3_random_3.max())\n",
    "print(n_inputs[np.argmax(accuracy_c3_nc_3)],accuracy_c3_nc_3.max())\n",
    "\n",
    "plt.plot(n_inputs[np.argmax(accuracy_c3_lsa_3)],accuracy_c3_lsa_3.max(),'-kD')\n",
    "plt.plot(n_inputs[np.argmax(accuracy_c3_dsa_3)],accuracy_c3_dsa_3.max(),'-ko')\n",
    "plt.plot(n_inputs[np.argmax(accuracy_c3_random_3)],accuracy_c3_random_3.max(),'-kv')\n",
    "plt.plot(n_inputs[np.argmax(accuracy_c3_nc_3)],accuracy_c3_nc_3.max(),'-kp')\n",
    "\n",
    "plt.xlabel('number of inputs')\n",
    "plt.ylabel('accuracy')\n",
    "plt.xlim([0, 5500])\n",
    "#plt.ylim([0, 1])\n",
    "\n",
    "plt.savefig(\"gtsrb_c3_\"+\"accuracy\" + \"_both.svg\")\n",
    "\n",
    "plt.show()"
   ]
  },
  {
   "cell_type": "code",
   "execution_count": null,
   "id": "68659418",
   "metadata": {},
   "outputs": [],
   "source": [
    "n_inputs"
   ]
  },
  {
   "cell_type": "code",
   "execution_count": 41,
   "id": "951868c1",
   "metadata": {},
   "outputs": [
    {
     "name": "stdout",
     "output_type": "stream",
     "text": [
      "750 0.8085649013519287\n",
      "750 0.7954371869564056\n",
      "750 0.8070354461669922\n",
      "750 0.7058373689651489\n"
     ]
    }
   ],
   "source": [
    "print(n_inputs[3],accuracy_c3_lsa_3[3])\n",
    "print(n_inputs[3],accuracy_c3_dsa_3[3])\n",
    "print(n_inputs[3],accuracy_c3_random_3[3])\n",
    "print(n_inputs[3],accuracy_c3_nc_3[3])\n"
   ]
  },
  {
   "cell_type": "markdown",
   "id": "02c81771",
   "metadata": {},
   "source": [
    "## Saving models"
   ]
  },
  {
   "cell_type": "code",
   "execution_count": 15,
   "id": "dab8d1d5",
   "metadata": {},
   "outputs": [
    {
     "name": "stdout",
     "output_type": "stream",
     "text": [
      "INFO:tensorflow:Assets written to: D:/models/gtsrb_models/C3/gtsrb_model_c3_sep_lsa_e2_0\\assets\n",
      "Model has been saved\n",
      "INFO:tensorflow:Assets written to: D:/models/gtsrb_models/C3/gtsrb_model_c3_sep_lsa_e2_1\\assets\n",
      "Model has been saved\n",
      "INFO:tensorflow:Assets written to: D:/models/gtsrb_models/C3/gtsrb_model_c3_sep_lsa_e2_2\\assets\n",
      "Model has been saved\n",
      "INFO:tensorflow:Assets written to: D:/models/gtsrb_models/C3/gtsrb_model_c3_sep_lsa_e2_3\\assets\n",
      "Model has been saved\n",
      "INFO:tensorflow:Assets written to: D:/models/gtsrb_models/C3/gtsrb_model_c3_sep_lsa_e2_4\\assets\n",
      "Model has been saved\n",
      "INFO:tensorflow:Assets written to: D:/models/gtsrb_models/C3/gtsrb_model_c3_sep_lsa_e2_5\\assets\n",
      "Model has been saved\n",
      "INFO:tensorflow:Assets written to: D:/models/gtsrb_models/C3/gtsrb_model_c3_sep_lsa_e2_6\\assets\n",
      "Model has been saved\n",
      "INFO:tensorflow:Assets written to: D:/models/gtsrb_models/C3/gtsrb_model_c3_sep_lsa_e2_7\\assets\n",
      "Model has been saved\n",
      "INFO:tensorflow:Assets written to: D:/models/gtsrb_models/C3/gtsrb_model_c3_sep_lsa_e2_8\\assets\n",
      "Model has been saved\n",
      "INFO:tensorflow:Assets written to: D:/models/gtsrb_models/C3/gtsrb_model_c3_sep_lsa_e2_9\\assets\n",
      "Model has been saved\n",
      "INFO:tensorflow:Assets written to: D:/models/gtsrb_models/C3/gtsrb_model_c3_sep_lsa_e2_10\\assets\n",
      "Model has been saved\n",
      "INFO:tensorflow:Assets written to: D:/models/gtsrb_models/C3/gtsrb_model_c3_sep_lsa_e2_11\\assets\n",
      "Model has been saved\n",
      "INFO:tensorflow:Assets written to: D:/models/gtsrb_models/C3/gtsrb_model_c3_sep_lsa_e2_12\\assets\n",
      "Model has been saved\n",
      "INFO:tensorflow:Assets written to: D:/models/gtsrb_models/C3/gtsrb_model_c3_sep_lsa_e2_13\\assets\n",
      "Model has been saved\n",
      "INFO:tensorflow:Assets written to: D:/models/gtsrb_models/C3/gtsrb_model_c3_sep_lsa_e2_14\\assets\n",
      "Model has been saved\n",
      "INFO:tensorflow:Assets written to: D:/models/gtsrb_models/C3/gtsrb_model_c3_sep_lsa_e2_15\\assets\n",
      "Model has been saved\n",
      "INFO:tensorflow:Assets written to: D:/models/gtsrb_models/C3/gtsrb_model_c3_sep_lsa_e2_16\\assets\n",
      "Model has been saved\n",
      "INFO:tensorflow:Assets written to: D:/models/gtsrb_models/C3/gtsrb_model_c3_sep_lsa_e2_17\\assets\n",
      "Model has been saved\n",
      "INFO:tensorflow:Assets written to: D:/models/gtsrb_models/C3/gtsrb_model_c3_sep_lsa_e2_18\\assets\n",
      "Model has been saved\n",
      "INFO:tensorflow:Assets written to: D:/models/gtsrb_models/C3/gtsrb_model_c3_sep_lsa_e2_19\\assets\n",
      "Model has been saved\n"
     ]
    }
   ],
   "source": [
    "new_model_lsa_dir  = \"D:/models/gtsrb_models/C3/gtsrb_model_c3_sep_lsa_e2\"\n",
    "\n",
    "i=0\n",
    "\n",
    "for model in models_lsa:\n",
    "    model.save(new_model_lsa_dir+\"_\"+str(i))\n",
    "    i+=1"
   ]
  },
  {
   "cell_type": "code",
   "execution_count": 16,
   "id": "895502e0",
   "metadata": {},
   "outputs": [
    {
     "name": "stdout",
     "output_type": "stream",
     "text": [
      "INFO:tensorflow:Assets written to: D:/models/gtsrb_models/C3/gtsrb_model_c3_sep_dsa_e2_0\\assets\n",
      "Model has been saved\n",
      "INFO:tensorflow:Assets written to: D:/models/gtsrb_models/C3/gtsrb_model_c3_sep_dsa_e2_1\\assets\n",
      "Model has been saved\n",
      "INFO:tensorflow:Assets written to: D:/models/gtsrb_models/C3/gtsrb_model_c3_sep_dsa_e2_2\\assets\n",
      "Model has been saved\n",
      "INFO:tensorflow:Assets written to: D:/models/gtsrb_models/C3/gtsrb_model_c3_sep_dsa_e2_3\\assets\n",
      "Model has been saved\n",
      "INFO:tensorflow:Assets written to: D:/models/gtsrb_models/C3/gtsrb_model_c3_sep_dsa_e2_4\\assets\n",
      "Model has been saved\n",
      "INFO:tensorflow:Assets written to: D:/models/gtsrb_models/C3/gtsrb_model_c3_sep_dsa_e2_5\\assets\n",
      "Model has been saved\n",
      "INFO:tensorflow:Assets written to: D:/models/gtsrb_models/C3/gtsrb_model_c3_sep_dsa_e2_6\\assets\n",
      "Model has been saved\n",
      "INFO:tensorflow:Assets written to: D:/models/gtsrb_models/C3/gtsrb_model_c3_sep_dsa_e2_7\\assets\n",
      "Model has been saved\n",
      "INFO:tensorflow:Assets written to: D:/models/gtsrb_models/C3/gtsrb_model_c3_sep_dsa_e2_8\\assets\n",
      "Model has been saved\n",
      "INFO:tensorflow:Assets written to: D:/models/gtsrb_models/C3/gtsrb_model_c3_sep_dsa_e2_9\\assets\n",
      "Model has been saved\n",
      "INFO:tensorflow:Assets written to: D:/models/gtsrb_models/C3/gtsrb_model_c3_sep_dsa_e2_10\\assets\n",
      "Model has been saved\n",
      "INFO:tensorflow:Assets written to: D:/models/gtsrb_models/C3/gtsrb_model_c3_sep_dsa_e2_11\\assets\n",
      "Model has been saved\n",
      "INFO:tensorflow:Assets written to: D:/models/gtsrb_models/C3/gtsrb_model_c3_sep_dsa_e2_12\\assets\n",
      "Model has been saved\n",
      "INFO:tensorflow:Assets written to: D:/models/gtsrb_models/C3/gtsrb_model_c3_sep_dsa_e2_13\\assets\n",
      "Model has been saved\n",
      "INFO:tensorflow:Assets written to: D:/models/gtsrb_models/C3/gtsrb_model_c3_sep_dsa_e2_14\\assets\n",
      "Model has been saved\n",
      "INFO:tensorflow:Assets written to: D:/models/gtsrb_models/C3/gtsrb_model_c3_sep_dsa_e2_15\\assets\n",
      "Model has been saved\n",
      "INFO:tensorflow:Assets written to: D:/models/gtsrb_models/C3/gtsrb_model_c3_sep_dsa_e2_16\\assets\n",
      "Model has been saved\n",
      "INFO:tensorflow:Assets written to: D:/models/gtsrb_models/C3/gtsrb_model_c3_sep_dsa_e2_17\\assets\n",
      "Model has been saved\n",
      "INFO:tensorflow:Assets written to: D:/models/gtsrb_models/C3/gtsrb_model_c3_sep_dsa_e2_18\\assets\n",
      "Model has been saved\n",
      "INFO:tensorflow:Assets written to: D:/models/gtsrb_models/C3/gtsrb_model_c3_sep_dsa_e2_19\\assets\n",
      "Model has been saved\n"
     ]
    }
   ],
   "source": [
    "new_model_dsa_dir  = \"D:/models/gtsrb_models/C3/gtsrb_model_c3_sep_dsa_e2\"\n",
    "\n",
    "i=0\n",
    "for model in models_dsa:\n",
    "    model.save(new_model_dsa_dir+\"_\"+str(i))\n",
    "    i+=1"
   ]
  },
  {
   "cell_type": "code",
   "execution_count": 17,
   "id": "21d47d72",
   "metadata": {},
   "outputs": [
    {
     "name": "stdout",
     "output_type": "stream",
     "text": [
      "INFO:tensorflow:Assets written to: D:/models/gtsrb_models/C3/gtsrb_model_c3_sep_random_e2_0\\assets\n",
      "Model has been saved\n",
      "INFO:tensorflow:Assets written to: D:/models/gtsrb_models/C3/gtsrb_model_c3_sep_random_e2_1\\assets\n",
      "Model has been saved\n",
      "INFO:tensorflow:Assets written to: D:/models/gtsrb_models/C3/gtsrb_model_c3_sep_random_e2_2\\assets\n",
      "Model has been saved\n",
      "INFO:tensorflow:Assets written to: D:/models/gtsrb_models/C3/gtsrb_model_c3_sep_random_e2_3\\assets\n",
      "Model has been saved\n",
      "INFO:tensorflow:Assets written to: D:/models/gtsrb_models/C3/gtsrb_model_c3_sep_random_e2_4\\assets\n",
      "Model has been saved\n",
      "INFO:tensorflow:Assets written to: D:/models/gtsrb_models/C3/gtsrb_model_c3_sep_random_e2_5\\assets\n",
      "Model has been saved\n",
      "INFO:tensorflow:Assets written to: D:/models/gtsrb_models/C3/gtsrb_model_c3_sep_random_e2_6\\assets\n",
      "Model has been saved\n",
      "INFO:tensorflow:Assets written to: D:/models/gtsrb_models/C3/gtsrb_model_c3_sep_random_e2_7\\assets\n",
      "Model has been saved\n",
      "INFO:tensorflow:Assets written to: D:/models/gtsrb_models/C3/gtsrb_model_c3_sep_random_e2_8\\assets\n",
      "Model has been saved\n",
      "INFO:tensorflow:Assets written to: D:/models/gtsrb_models/C3/gtsrb_model_c3_sep_random_e2_9\\assets\n",
      "Model has been saved\n",
      "INFO:tensorflow:Assets written to: D:/models/gtsrb_models/C3/gtsrb_model_c3_sep_random_e2_10\\assets\n",
      "Model has been saved\n",
      "INFO:tensorflow:Assets written to: D:/models/gtsrb_models/C3/gtsrb_model_c3_sep_random_e2_11\\assets\n",
      "Model has been saved\n",
      "INFO:tensorflow:Assets written to: D:/models/gtsrb_models/C3/gtsrb_model_c3_sep_random_e2_12\\assets\n",
      "Model has been saved\n",
      "INFO:tensorflow:Assets written to: D:/models/gtsrb_models/C3/gtsrb_model_c3_sep_random_e2_13\\assets\n",
      "Model has been saved\n",
      "INFO:tensorflow:Assets written to: D:/models/gtsrb_models/C3/gtsrb_model_c3_sep_random_e2_14\\assets\n",
      "Model has been saved\n",
      "INFO:tensorflow:Assets written to: D:/models/gtsrb_models/C3/gtsrb_model_c3_sep_random_e2_15\\assets\n",
      "Model has been saved\n",
      "INFO:tensorflow:Assets written to: D:/models/gtsrb_models/C3/gtsrb_model_c3_sep_random_e2_16\\assets\n",
      "Model has been saved\n",
      "INFO:tensorflow:Assets written to: D:/models/gtsrb_models/C3/gtsrb_model_c3_sep_random_e2_17\\assets\n",
      "Model has been saved\n",
      "INFO:tensorflow:Assets written to: D:/models/gtsrb_models/C3/gtsrb_model_c3_sep_random_e2_18\\assets\n",
      "Model has been saved\n",
      "INFO:tensorflow:Assets written to: D:/models/gtsrb_models/C3/gtsrb_model_c3_sep_random_e2_19\\assets\n",
      "Model has been saved\n"
     ]
    }
   ],
   "source": [
    "new_model_random_dir  = \"D:/models/gtsrb_models/C3/gtsrb_model_c3_sep_random_e2\"\n",
    "\n",
    "i=0\n",
    "for model in models_random:\n",
    "    model.save(new_model_random_dir+\"_\"+str(i))\n",
    "    i+=1"
   ]
  },
  {
   "cell_type": "code",
   "execution_count": 19,
   "id": "a837ddb6",
   "metadata": {},
   "outputs": [
    {
     "name": "stdout",
     "output_type": "stream",
     "text": [
      "INFO:tensorflow:Assets written to: D:/models/gtsrb_models/C3/gtsrb_model_c3_sep_nc_e2_0\\assets\n",
      "Model has been saved\n",
      "INFO:tensorflow:Assets written to: D:/models/gtsrb_models/C3/gtsrb_model_c3_sep_nc_e2_1\\assets\n",
      "Model has been saved\n",
      "INFO:tensorflow:Assets written to: D:/models/gtsrb_models/C3/gtsrb_model_c3_sep_nc_e2_2\\assets\n",
      "Model has been saved\n",
      "INFO:tensorflow:Assets written to: D:/models/gtsrb_models/C3/gtsrb_model_c3_sep_nc_e2_3\\assets\n",
      "Model has been saved\n",
      "INFO:tensorflow:Assets written to: D:/models/gtsrb_models/C3/gtsrb_model_c3_sep_nc_e2_4\\assets\n",
      "Model has been saved\n",
      "INFO:tensorflow:Assets written to: D:/models/gtsrb_models/C3/gtsrb_model_c3_sep_nc_e2_5\\assets\n",
      "Model has been saved\n",
      "INFO:tensorflow:Assets written to: D:/models/gtsrb_models/C3/gtsrb_model_c3_sep_nc_e2_6\\assets\n",
      "Model has been saved\n",
      "INFO:tensorflow:Assets written to: D:/models/gtsrb_models/C3/gtsrb_model_c3_sep_nc_e2_7\\assets\n",
      "Model has been saved\n",
      "INFO:tensorflow:Assets written to: D:/models/gtsrb_models/C3/gtsrb_model_c3_sep_nc_e2_8\\assets\n",
      "Model has been saved\n",
      "INFO:tensorflow:Assets written to: D:/models/gtsrb_models/C3/gtsrb_model_c3_sep_nc_e2_9\\assets\n",
      "Model has been saved\n",
      "INFO:tensorflow:Assets written to: D:/models/gtsrb_models/C3/gtsrb_model_c3_sep_nc_e2_10\\assets\n",
      "Model has been saved\n",
      "INFO:tensorflow:Assets written to: D:/models/gtsrb_models/C3/gtsrb_model_c3_sep_nc_e2_11\\assets\n",
      "Model has been saved\n",
      "INFO:tensorflow:Assets written to: D:/models/gtsrb_models/C3/gtsrb_model_c3_sep_nc_e2_12\\assets\n",
      "Model has been saved\n",
      "INFO:tensorflow:Assets written to: D:/models/gtsrb_models/C3/gtsrb_model_c3_sep_nc_e2_13\\assets\n",
      "Model has been saved\n",
      "INFO:tensorflow:Assets written to: D:/models/gtsrb_models/C3/gtsrb_model_c3_sep_nc_e2_14\\assets\n",
      "Model has been saved\n",
      "INFO:tensorflow:Assets written to: D:/models/gtsrb_models/C3/gtsrb_model_c3_sep_nc_e2_15\\assets\n",
      "Model has been saved\n",
      "INFO:tensorflow:Assets written to: D:/models/gtsrb_models/C3/gtsrb_model_c3_sep_nc_e2_16\\assets\n",
      "Model has been saved\n",
      "INFO:tensorflow:Assets written to: D:/models/gtsrb_models/C3/gtsrb_model_c3_sep_nc_e2_17\\assets\n",
      "Model has been saved\n",
      "INFO:tensorflow:Assets written to: D:/models/gtsrb_models/C3/gtsrb_model_c3_sep_nc_e2_18\\assets\n",
      "Model has been saved\n",
      "INFO:tensorflow:Assets written to: D:/models/gtsrb_models/C3/gtsrb_model_c3_sep_nc_e2_19\\assets\n",
      "Model has been saved\n"
     ]
    }
   ],
   "source": [
    "new_model_nc_dir  = \"D:/models/gtsrb_models/C3/gtsrb_model_c3_sep_nc_e2\"\n",
    "\n",
    "i=0\n",
    "for model in models_nc:\n",
    "    model.save(new_model_nc_dir+\"_\"+str(i))\n",
    "    i+=1"
   ]
  },
  {
   "cell_type": "code",
   "execution_count": null,
   "id": "f3e41163",
   "metadata": {},
   "outputs": [],
   "source": []
  }
 ],
 "metadata": {
  "kernelspec": {
   "display_name": "Python 3",
   "language": "python",
   "name": "python3"
  },
  "language_info": {
   "codemirror_mode": {
    "name": "ipython",
    "version": 3
   },
   "file_extension": ".py",
   "mimetype": "text/x-python",
   "name": "python",
   "nbconvert_exporter": "python",
   "pygments_lexer": "ipython3",
   "version": "3.8.8"
  }
 },
 "nbformat": 4,
 "nbformat_minor": 5
}
