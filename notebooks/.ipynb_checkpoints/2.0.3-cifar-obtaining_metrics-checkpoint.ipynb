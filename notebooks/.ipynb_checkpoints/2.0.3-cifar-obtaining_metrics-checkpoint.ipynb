{
 "cells": [
  {
   "cell_type": "markdown",
   "id": "b89fa188",
   "metadata": {},
   "source": []
  },
  {
   "cell_type": "code",
   "execution_count": 1,
   "id": "ce1386e9",
   "metadata": {},
   "outputs": [],
   "source": [
    "import argparse\n",
    "\n",
    "import numpy as np\n",
    "import tensorflow as tf\n",
    "import keras.backend as K\n",
    "\n",
    "import matplotlib.pyplot as plt\n",
    "\n",
    "from keras.utils import np_utils\n",
    "from keras.models import Sequential\n",
    "from keras.layers import Dense, Dropout, Activation, Flatten, Conv2D, MaxPooling2D\n",
    "from keras.regularizers import l2\n",
    "\n",
    "import glob\n",
    "import os\n",
    "import cv2\n",
    "import keras\n",
    "\n",
    "\n",
    "import time\n",
    "import argparse\n",
    "\n",
    "from tqdm import tqdm\n",
    "\n",
    "from keras.models import load_model, Model\n",
    "from importlib import reload  \n"
   ]
  },
  {
   "cell_type": "code",
   "execution_count": 2,
   "id": "4a0f60c0",
   "metadata": {},
   "outputs": [
    {
     "data": {
      "text/plain": [
       "'C:\\\\Users\\\\fjdur\\\\Documents\\\\upc-july\\\\notebooks'"
      ]
     },
     "execution_count": 2,
     "metadata": {},
     "output_type": "execute_result"
    }
   ],
   "source": [
    "pwd"
   ]
  },
  {
   "cell_type": "code",
   "execution_count": 4,
   "id": "1af83a55",
   "metadata": {},
   "outputs": [],
   "source": [
    "dataset = \"cifar\""
   ]
  },
  {
   "cell_type": "code",
   "execution_count": 5,
   "id": "5c0d4469",
   "metadata": {},
   "outputs": [],
   "source": [
    "model_direction = \"C:/Users/fjdur/Documents/upc-july/models/tf_model_25-06/\"\n",
    "if(dataset == 'gtsrb'):\n",
    "    model_direction = \"C:/Users/fjdur/Documents/upc-july/models/tf_model_25-06\"\n",
    "elif(dataset == 'intel'):\n",
    "    model_direction = \"C:/Users/fjdur/Documents/upc-july/models/intel_model_21_10\"\n",
    "elif(dataset == 'mnist'):\n",
    "    model_direction = \"C:/Users/fjdur/Documents/MNIST project/models2\"\n",
    "elif(dataset == 'cifar'):\n",
    "    model_direction = \"C:/Users/fjdur/Documents/upc-july/models/model_02\"\n"
   ]
  },
  {
   "cell_type": "code",
   "execution_count": 19,
   "id": "7aa9fcbd",
   "metadata": {},
   "outputs": [
    {
     "name": "stdout",
     "output_type": "stream",
     "text": [
      "C:\\Users\\fjdur\\Documents\\utils\n"
     ]
    }
   ],
   "source": [
    "cd C:/Users/fjdur/Documents/utils/"
   ]
  },
  {
   "cell_type": "code",
   "execution_count": 20,
   "id": "723735cb",
   "metadata": {},
   "outputs": [],
   "source": [
    "# utils for project\n",
    "import utils_guided_retraining as utils"
   ]
  },
  {
   "cell_type": "code",
   "execution_count": 21,
   "id": "e91b351f",
   "metadata": {},
   "outputs": [
    {
     "data": {
      "text/plain": [
       "'C:\\\\Users\\\\fjdur\\\\Documents\\\\utils'"
      ]
     },
     "execution_count": 21,
     "metadata": {},
     "output_type": "execute_result"
    }
   ],
   "source": [
    "pwd"
   ]
  },
  {
   "cell_type": "code",
   "execution_count": 22,
   "id": "bbb2f8e1",
   "metadata": {},
   "outputs": [
    {
     "name": "stdout",
     "output_type": "stream",
     "text": [
      "2.5.0\n",
      "keras\n",
      "2.5.0\n"
     ]
    }
   ],
   "source": [
    "from importlib import reload  \n",
    "utils = reload(utils)"
   ]
  },
  {
   "cell_type": "code",
   "execution_count": 23,
   "id": "09cb7606",
   "metadata": {},
   "outputs": [
    {
     "name": "stdout",
     "output_type": "stream",
     "text": [
      "C:\\Users\\fjdur\\Documents\\MNIST project\n"
     ]
    }
   ],
   "source": [
    "cd ../MNIST project/"
   ]
  },
  {
   "cell_type": "code",
   "execution_count": null,
   "id": "dd8a9274",
   "metadata": {},
   "outputs": [],
   "source": []
  },
  {
   "cell_type": "code",
   "execution_count": 24,
   "id": "50c2b3f3",
   "metadata": {},
   "outputs": [],
   "source": [
    "x_train,y_train = utils.get_data(dataset,\"Train\")\n",
    "x_val,y_val = utils.get_data(dataset,\"Val\")\n",
    "x_test,y_test = utils.get_data(dataset,\"Test\")"
   ]
  },
  {
   "cell_type": "code",
   "execution_count": 25,
   "id": "e6f6f8a7",
   "metadata": {},
   "outputs": [],
   "source": [
    "x_train_and_adversary,y_train_and_adversary = utils.get_data(dataset,\"Train_and_adversary\")"
   ]
  },
  {
   "cell_type": "code",
   "execution_count": 26,
   "id": "d7d112f8",
   "metadata": {},
   "outputs": [
    {
     "name": "stdout",
     "output_type": "stream",
     "text": [
      "(41999, 32, 32, 1)\n",
      "(41999, 10)\n",
      "(12000, 32, 32, 1)\n",
      "(12000, 10)\n",
      "(6001, 32, 32, 1)\n",
      "(6001, 10)\n",
      "---\n",
      "(32, 32, 1)\n",
      "(47999, 32, 32, 1)\n",
      "(47999, 10)\n"
     ]
    }
   ],
   "source": [
    "print(x_train.shape)\n",
    "print(y_train.shape)\n",
    "print(x_val.shape)\n",
    "print(y_val.shape)\n",
    "print(x_test.shape)\n",
    "print(y_test.shape)\n",
    "print(\"---\")\n",
    "print(x_train[0].shape)\n",
    "print(x_train_and_adversary.shape)\n",
    "print(y_train_and_adversary.shape)"
   ]
  },
  {
   "cell_type": "code",
   "execution_count": 27,
   "id": "1a43a014",
   "metadata": {},
   "outputs": [
    {
     "name": "stdout",
     "output_type": "stream",
     "text": [
      "10\n"
     ]
    }
   ],
   "source": [
    "num_classes = y_train_and_adversary.shape[-1]\n",
    "print(num_classes)"
   ]
  },
  {
   "cell_type": "code",
   "execution_count": 28,
   "id": "68da837f",
   "metadata": {},
   "outputs": [],
   "source": [
    "#here editing\n"
   ]
  },
  {
   "cell_type": "code",
   "execution_count": 29,
   "id": "53dcdf78",
   "metadata": {},
   "outputs": [
    {
     "name": "stdout",
     "output_type": "stream",
     "text": [
      "6000\n",
      "6000\n"
     ]
    }
   ],
   "source": [
    "x_adversary_training = x_train_and_adversary[len(x_train):]\n",
    "print(len(x_adversary_training))\n",
    "y_adversary_training = y_train_and_adversary[len(y_train):]\n",
    "\n",
    "print(len(y_adversary_training))"
   ]
  },
  {
   "cell_type": "code",
   "execution_count": 30,
   "id": "d8fd2c92",
   "metadata": {},
   "outputs": [],
   "source": [
    "# Obtaining adversarial examples for testing \n",
    "x_test_and_adversary,y_test_and_adversary = utils.get_adversarial_data(dataset,\"Test_adversarial\") "
   ]
  },
  {
   "cell_type": "code",
   "execution_count": 31,
   "id": "7a119796",
   "metadata": {},
   "outputs": [
    {
     "name": "stdout",
     "output_type": "stream",
     "text": [
      "(12001, 32, 32, 1)\n",
      "(12001, 10)\n"
     ]
    }
   ],
   "source": [
    "print(x_test_and_adversary.shape)\n",
    "print(y_test_and_adversary.shape)"
   ]
  },
  {
   "cell_type": "code",
   "execution_count": 32,
   "id": "c27698e5",
   "metadata": {},
   "outputs": [
    {
     "name": "stdout",
     "output_type": "stream",
     "text": [
      "6000\n",
      "6000\n"
     ]
    }
   ],
   "source": [
    "x_adversary_test_fgsm = x_test_and_adversary[len(x_test):]\n",
    "print(len(x_adversary_test_fgsm))\n",
    "y_adversary_test_fgsm = y_test_and_adversary[len(y_test):]\n",
    "\n",
    "print(len(y_adversary_test_fgsm))"
   ]
  },
  {
   "cell_type": "code",
   "execution_count": 15,
   "id": "a8be363b",
   "metadata": {},
   "outputs": [],
   "source": [
    "#x_test_and_adversary_jsma,y_test_and_adversary_jsma = utils.get_adversarial_data('Test_jsma') "
   ]
  },
  {
   "cell_type": "code",
   "execution_count": null,
   "id": "043cb855",
   "metadata": {},
   "outputs": [],
   "source": []
  },
  {
   "cell_type": "markdown",
   "id": "becb4e3b",
   "metadata": {},
   "source": [
    "## ----"
   ]
  },
  {
   "cell_type": "code",
   "execution_count": 16,
   "id": "c1560941",
   "metadata": {},
   "outputs": [],
   "source": [
    "# Original model \n",
    "#model_dir = \"C:/Users/fjdur/Desktop/upc/project_notebooks/github_project/DL_notebooks/models/tf_model_25-06\""
   ]
  },
  {
   "cell_type": "code",
   "execution_count": 17,
   "id": "e5478616",
   "metadata": {},
   "outputs": [],
   "source": [
    "#model_original = utils.My_model(True, model_dir)"
   ]
  },
  {
   "cell_type": "code",
   "execution_count": 33,
   "id": "10bf9c4c",
   "metadata": {},
   "outputs": [],
   "source": [
    "# Loading model already trained\n",
    "#model_dir = \"C:/Users/fjdur/Documents/upc-july/models/tf_model_25-06/\"\n",
    "model = keras.models.load_model(model_direction)"
   ]
  },
  {
   "cell_type": "code",
   "execution_count": 34,
   "id": "f9299057",
   "metadata": {},
   "outputs": [
    {
     "name": "stdout",
     "output_type": "stream",
     "text": [
      "188/188 [==============================] - 37s 31ms/step - loss: 0.5240 - accuracy: 0.8259\n"
     ]
    },
    {
     "data": {
      "text/plain": [
       "[0.524002730846405, 0.8258623480796814]"
      ]
     },
     "execution_count": 34,
     "metadata": {},
     "output_type": "execute_result"
    }
   ],
   "source": [
    "model.evaluate(x_test,y_test)"
   ]
  },
  {
   "cell_type": "code",
   "execution_count": 35,
   "id": "30e521c2",
   "metadata": {},
   "outputs": [
    {
     "name": "stdout",
     "output_type": "stream",
     "text": [
      "376/376 [==============================] - 12s 31ms/step - loss: 2.3668 - accuracy: 0.5769\n"
     ]
    },
    {
     "data": {
      "text/plain": [
       "[2.3667662143707275, 0.5768685936927795]"
      ]
     },
     "execution_count": 35,
     "metadata": {},
     "output_type": "execute_result"
    }
   ],
   "source": [
    "model.evaluate(x_test_and_adversary,y_test_and_adversary)"
   ]
  },
  {
   "cell_type": "markdown",
   "id": "78edd1c7",
   "metadata": {},
   "source": [
    "## Obtaining new LSA and DSA values \n",
    "- Required module 'deepimportance_code_release'"
   ]
  },
  {
   "cell_type": "code",
   "execution_count": 36,
   "id": "1eccf405",
   "metadata": {},
   "outputs": [
    {
     "name": "stdout",
     "output_type": "stream",
     "text": [
      "D:\\deepimportance_code_release\n"
     ]
    }
   ],
   "source": [
    "cd \"D:deepimportance_code_release\""
   ]
  },
  {
   "cell_type": "code",
   "execution_count": 37,
   "id": "6df52b78",
   "metadata": {},
   "outputs": [],
   "source": [
    "# from 07_notebook\n",
    "from utils import filter_val_set, get_trainable_layers\n",
    "from utils import generate_adversarial, filter_correct_classifications\n",
    "from coverages.idc import ImportanceDrivenCoverage\n",
    "from coverages.neuron_cov import NeuronCoverage\n",
    "from coverages.tkn import DeepGaugeLayerLevelCoverage\n",
    "from coverages.kmn import DeepGaugePercentCoverage\n",
    "from coverages.ss import SSCover\n",
    "from coverages.sa import SurpriseAdequacy\n"
   ]
  },
  {
   "cell_type": "code",
   "execution_count": 38,
   "id": "718bf035",
   "metadata": {},
   "outputs": [
    {
     "name": "stdout",
     "output_type": "stream",
     "text": [
      "Trainable layers: [0, 1, 3, 4, 7, 12, 14, 15]\n",
      "Non trainable layers: [2, 5, 6, 8, 9, 10, 11, 13]\n"
     ]
    }
   ],
   "source": [
    "trainable_layers = get_trainable_layers(model)\n",
    "non_trainable_layers = list(set(range(len(model.layers))) - set(trainable_layers))\n",
    "print('Trainable layers: ' + str(trainable_layers))\n",
    "print('Non trainable layers: ' + str(non_trainable_layers))"
   ]
  },
  {
   "cell_type": "code",
   "execution_count": 39,
   "id": "67d41b48",
   "metadata": {},
   "outputs": [
    {
     "name": "stdout",
     "output_type": "stream",
     "text": [
      "Model: \"sequential_13\"\n",
      "_________________________________________________________________\n",
      "Layer (type)                 Output Shape              Param #   \n",
      "=================================================================\n",
      "conv2d_79 (Conv2D)           (None, 32, 32, 16)        160       \n",
      "_________________________________________________________________\n",
      "conv2d_80 (Conv2D)           (None, 32, 32, 32)        4640      \n",
      "_________________________________________________________________\n",
      "max_pooling2d_73 (MaxPooling (None, 16, 16, 32)        0         \n",
      "_________________________________________________________________\n",
      "conv2d_81 (Conv2D)           (None, 16, 16, 64)        18496     \n",
      "_________________________________________________________________\n",
      "conv2d_82 (Conv2D)           (None, 16, 16, 64)        36928     \n",
      "_________________________________________________________________\n",
      "max_pooling2d_74 (MaxPooling (None, 8, 8, 64)          0         \n",
      "_________________________________________________________________\n",
      "dropout_85 (Dropout)         (None, 8, 8, 64)          0         \n",
      "_________________________________________________________________\n",
      "conv2d_83 (Conv2D)           (None, 8, 8, 128)         73856     \n",
      "_________________________________________________________________\n",
      "max_pooling2d_75 (MaxPooling (None, 4, 4, 128)         0         \n",
      "_________________________________________________________________\n",
      "dropout_86 (Dropout)         (None, 4, 4, 128)         0         \n",
      "_________________________________________________________________\n",
      "flatten_13 (Flatten)         (None, 2048)              0         \n",
      "_________________________________________________________________\n",
      "dropout_87 (Dropout)         (None, 2048)              0         \n",
      "_________________________________________________________________\n",
      "dense_45 (Dense)             (None, 256)               524544    \n",
      "_________________________________________________________________\n",
      "dropout_88 (Dropout)         (None, 256)               0         \n",
      "_________________________________________________________________\n",
      "dense_46 (Dense)             (None, 64)                16448     \n",
      "_________________________________________________________________\n",
      "dense_47 (Dense)             (None, 10)                650       \n",
      "=================================================================\n",
      "Total params: 675,722\n",
      "Trainable params: 675,722\n",
      "Non-trainable params: 0\n",
      "_________________________________________________________________\n"
     ]
    }
   ],
   "source": [
    "model.summary()"
   ]
  },
  {
   "cell_type": "code",
   "execution_count": 42,
   "id": "e2c1771f",
   "metadata": {},
   "outputs": [
    {
     "data": {
      "text/plain": [
       "['dense_46']"
      ]
     },
     "execution_count": 42,
     "metadata": {},
     "output_type": "execute_result"
    }
   ],
   "source": [
    "subject_layer = trainable_layers[-2]\n",
    "layer_names = [model.layers[-2].name]\n",
    "upper_bound = 2000\n",
    "layer_names"
   ]
  },
  {
   "cell_type": "code",
   "execution_count": 43,
   "id": "0562cf75",
   "metadata": {},
   "outputs": [
    {
     "data": {
      "text/plain": [
       "14"
      ]
     },
     "execution_count": 43,
     "metadata": {},
     "output_type": "execute_result"
    }
   ],
   "source": [
    "subject_layer"
   ]
  },
  {
   "cell_type": "code",
   "execution_count": 44,
   "id": "dd102757",
   "metadata": {},
   "outputs": [],
   "source": [
    "from coverages import sa\n",
    "from datetime import datetime"
   ]
  },
  {
   "cell_type": "code",
   "execution_count": 45,
   "id": "857f2c1c",
   "metadata": {},
   "outputs": [
    {
     "data": {
      "text/plain": [
       "'D:\\\\deepimportance_code_release'"
      ]
     },
     "execution_count": 45,
     "metadata": {},
     "output_type": "execute_result"
    }
   ],
   "source": [
    "pwd"
   ]
  },
  {
   "cell_type": "code",
   "execution_count": 46,
   "id": "efef58c4",
   "metadata": {},
   "outputs": [
    {
     "name": "stdout",
     "output_type": "stream",
     "text": [
      "check  cifar\n"
     ]
    }
   ],
   "source": [
    "print(\"check \",dataset)"
   ]
  },
  {
   "cell_type": "code",
   "execution_count": 47,
   "id": "80d8649b",
   "metadata": {},
   "outputs": [
    {
     "name": "stdout",
     "output_type": "stream",
     "text": [
      "[train] Model serving\n",
      "16\n",
      "329/329 [==============================] - 31s 90ms/step\n",
      "329/329 [==============================] - 32s 94ms/step\n",
      "[train] Processing ATs\n",
      "Layer: dense_46\n",
      "train ATs is saved at ./sa_cifar\\model_03_aug_train_dense_46_ats.npy\n",
      "[conf_03_aug] Model serving\n",
      "16\n",
      "375/375 [==============================] - 36s 95ms/step\n",
      "375/375 [==============================] - 36s 95ms/step\n",
      "[conf_03_aug] Processing ATs\n",
      "Layer: dense_46\n",
      "conf_03_aug ATs is saved at ./sa_cifar\\model_03_aug_conf_03_aug_dense_46_ats.npy\n",
      "yes\n",
      "dict_keys([9, 6, 4, 2, 8, 1, 5, 0, 7, 3])\n",
      "The number of removed columns: 6\n",
      "[conf_03_aug] Fetching LSA\n",
      "Duration: 0:08:49.566418\n"
     ]
    }
   ],
   "source": [
    "start_time = datetime.now()\n",
    "#surprise of all inputs wrt to the original inputs\n",
    "target_lsa = sa.fetch_lsa(model, x_train, x_train_and_adversary,\n",
    "                                   \"conf_03_aug\", layer_names,\n",
    "                                   num_classes, True,\n",
    "                                   1e-05, './sa_'+dataset, \"model_03_aug\")\n",
    "\n",
    "\n",
    "end_time = datetime.now()\n",
    "print('Duration: {}'.format(end_time - start_time))"
   ]
  },
  {
   "cell_type": "code",
   "execution_count": 48,
   "id": "7eef5f72",
   "metadata": {},
   "outputs": [
    {
     "data": {
      "text/plain": [
       "'D:\\\\deepimportance_code_release'"
      ]
     },
     "execution_count": 48,
     "metadata": {},
     "output_type": "execute_result"
    }
   ],
   "source": [
    "pwd"
   ]
  },
  {
   "cell_type": "code",
   "execution_count": null,
   "id": "2c0d4dca",
   "metadata": {},
   "outputs": [],
   "source": []
  },
  {
   "cell_type": "code",
   "execution_count": 49,
   "id": "eccd446e",
   "metadata": {},
   "outputs": [],
   "source": [
    "save_dir = \"C:/Users/fjdur/Documents/upc-july/data/\"+dataset+\"/lsa_values.npy\"\n",
    "np.save(save_dir,np.array(target_lsa))"
   ]
  },
  {
   "cell_type": "code",
   "execution_count": 50,
   "id": "5bfd8b90",
   "metadata": {},
   "outputs": [],
   "source": [
    "# editing here"
   ]
  },
  {
   "cell_type": "code",
   "execution_count": 51,
   "id": "58c23d37",
   "metadata": {},
   "outputs": [
    {
     "name": "stdout",
     "output_type": "stream",
     "text": [
      "[train] Model serving\n",
      "16\n",
      "329/329 [==============================] - 31s 94ms/step\n",
      "329/329 [==============================] - 32s 95ms/step\n",
      "[train] Processing ATs\n",
      "Layer: dense_46\n",
      "train ATs is saved at ./sa_cifar\\model_02_aug_train_dense_46_ats.npy\n",
      "[conf_02_aug] Model serving\n",
      "16\n",
      "375/375 [==============================] - 35s 94ms/step\n",
      "375/375 [==============================] - 37s 95ms/step\n",
      "[conf_02_aug] Processing ATs\n",
      "Layer: dense_46\n",
      "conf_02_aug ATs is saved at ./sa_cifar\\model_02_aug_conf_02_aug_dense_46_ats.npy\n",
      "[conf_02_aug] Fetching DSA\n",
      "Duration: 0:48:25.458844\n"
     ]
    }
   ],
   "source": [
    "start_time = datetime.now()\n",
    "\n",
    "target_dsa = sa.fetch_dsa(model, x_train, x_train_and_adversary,\n",
    "                                   \"conf_02_aug\", layer_names,\n",
    "                                   num_classes, True,\n",
    "                                   './sa_'+dataset,  \"model_02_aug\")\n",
    "end_time = datetime.now()\n",
    "print('Duration: {}'.format(end_time - start_time))"
   ]
  },
  {
   "cell_type": "code",
   "execution_count": 60,
   "id": "5e3ad78f",
   "metadata": {},
   "outputs": [],
   "source": [
    "save_dir = \"C:/Users/fjdur/Documents/upc-july/data/\"+dataset+\"/dsa_values.npy\"\n",
    "np.save(save_dir,np.array(target_dsa))"
   ]
  },
  {
   "cell_type": "code",
   "execution_count": null,
   "id": "9d9901e2",
   "metadata": {},
   "outputs": [],
   "source": []
  },
  {
   "cell_type": "code",
   "execution_count": 35,
   "id": "b264130a",
   "metadata": {},
   "outputs": [],
   "source": []
  },
  {
   "cell_type": "code",
   "execution_count": 42,
   "id": "274b5982",
   "metadata": {},
   "outputs": [],
   "source": [
    "#loading\n",
    "loading =False\n",
    "if (loading == True):\n",
    "    save_dir = \"C:/Users/fjdurlop/Documents/upc-july/data/\"+dataset+\"/lsa_values.npy\"\n",
    "    target_lsa = np.load(save_dir)\n",
    "\n",
    "    save_dir = \"C:/Users/fjdurlop/Documents/upc-july/data/\"+dataset+\"/dsa_values.npy\"\n",
    "    target_dsa = np.load(save_dir)"
   ]
  },
  {
   "cell_type": "code",
   "execution_count": 43,
   "id": "6777ec82",
   "metadata": {},
   "outputs": [
    {
     "name": "stdout",
     "output_type": "stream",
     "text": [
      "[0.0, 0.0, 0.0, 0.0, 0.0, 0.0, 0.0, 0.0, 0.0, 0.0, 0.0, 0.0, 0.0, 0.0, 0.0, 0.0, 0.0, 0.0, 1.4198453e-07, 0.103650354, 0.110504985, 0.11916372, 0.09978015, 0.15995812, 0.10416289, 0.13666278, 0.08570866, 0.18017817, 0.12767863, 0.11186311]\n"
     ]
    }
   ],
   "source": [
    "#print(target_dsa[48980:49010])"
   ]
  },
  {
   "cell_type": "code",
   "execution_count": 44,
   "id": "d74088e9",
   "metadata": {},
   "outputs": [
    {
     "name": "stdout",
     "output_type": "stream",
     "text": [
      "[0.16274497, 0.101583555, 0.12083733, 0.14051229, 0.11820864, 0.112263255, 0.085314415, 0.098417014, 0.13010219, 0.11316547, 0.11753961, 0.10477573, 0.101970434, 0.14521681, 0.110462874, 0.14807995, 0.12886639, 0.12255348, 0.11675078, 0.10050738, 0.114456624, 0.14356047, 0.14551164, 0.15918754, 0.0727881, 0.13202144, 0.11643102, 0.20601466, 0.11816457, 0.13781092]\n"
     ]
    }
   ],
   "source": [
    "#print(target_dsa[49180:49210])"
   ]
  },
  {
   "cell_type": "code",
   "execution_count": 45,
   "id": "0613b226",
   "metadata": {},
   "outputs": [
    {
     "name": "stdout",
     "output_type": "stream",
     "text": [
      "[0.0, 0.0, 0.0, 0.0, 0.0, 0.0, 0.0, 0.0, 0.0, 0.0, 0.0, 0.0, 0.0, 0.0, 0.0, 0.0, 0.0, 0.0, 0.0, 0.0, 0.0, 0.0, 0.0, 0.0, 0.0, 0.0, 0.0, 0.0, 0.0, 0.0]\n"
     ]
    }
   ],
   "source": [
    "#print(target_dsa[40180:40210])"
   ]
  },
  {
   "cell_type": "markdown",
   "id": "bf9b45e9",
   "metadata": {},
   "source": [
    "## Random"
   ]
  },
  {
   "cell_type": "code",
   "execution_count": 53,
   "id": "3581436b",
   "metadata": {},
   "outputs": [
    {
     "name": "stdout",
     "output_type": "stream",
     "text": [
      "[7474, 10003, 6626, 17602, 21101, 4905, 14248, 13128, 43125, 31673]\n",
      "47999\n"
     ]
    }
   ],
   "source": [
    "import random\n",
    "random_indexes =list(range(len(x_train_and_adversary)))\n",
    "random.shuffle(random_indexes)\n",
    "print(random_indexes[:10])\n",
    "print(len(random_indexes))"
   ]
  },
  {
   "cell_type": "code",
   "execution_count": 54,
   "id": "0eca574c",
   "metadata": {},
   "outputs": [],
   "source": [
    "\n",
    "save_dir = \"C:/Users/fjdur/Documents/upc-july/data/\"+dataset+\"/random_values.npy\"\n",
    "\n",
    "np.save(save_dir,np.array(random_indexes))"
   ]
  },
  {
   "cell_type": "code",
   "execution_count": 61,
   "id": "86cd9ff9",
   "metadata": {},
   "outputs": [
    {
     "name": "stdout",
     "output_type": "stream",
     "text": [
      "D:\\backup_UPC\\upc\\project_notebooks\\TestSelection\n"
     ]
    }
   ],
   "source": [
    "cd D:/backup_UPC/upc/project_notebooks/TestSelection"
   ]
  },
  {
   "cell_type": "code",
   "execution_count": 62,
   "id": "5b460723",
   "metadata": {},
   "outputs": [
    {
     "name": "stdout",
     "output_type": "stream",
     "text": [
      "D:\\backup_UPC\\upc\\project_notebooks\n"
     ]
    }
   ],
   "source": [
    "cd .."
   ]
  },
  {
   "cell_type": "code",
   "execution_count": 57,
   "id": "5edb8353",
   "metadata": {},
   "outputs": [
    {
     "data": {
      "text/plain": [
       "'D:\\\\backup_UPC\\\\upc\\\\project_notebooks'"
      ]
     },
     "execution_count": 57,
     "metadata": {},
     "output_type": "execute_result"
    }
   ],
   "source": [
    "pwd"
   ]
  },
  {
   "cell_type": "code",
   "execution_count": 63,
   "id": "2b25a2ee",
   "metadata": {},
   "outputs": [],
   "source": [
    "import TestSelection\n",
    "from TestSelection.utils.ncoverage import NCoverage # https://github.com/TestSelection/TestSelection"
   ]
  },
  {
   "cell_type": "code",
   "execution_count": null,
   "id": "a538f993",
   "metadata": {},
   "outputs": [],
   "source": []
  },
  {
   "cell_type": "code",
   "execution_count": 64,
   "id": "d479d410",
   "metadata": {},
   "outputs": [
    {
     "name": "stdout",
     "output_type": "stream",
     "text": [
      "Model: \"sequential_13\"\n",
      "_________________________________________________________________\n",
      "Layer (type)                 Output Shape              Param #   \n",
      "=================================================================\n",
      "conv2d_79 (Conv2D)           (None, 32, 32, 16)        160       \n",
      "_________________________________________________________________\n",
      "conv2d_80 (Conv2D)           (None, 32, 32, 32)        4640      \n",
      "_________________________________________________________________\n",
      "max_pooling2d_73 (MaxPooling (None, 16, 16, 32)        0         \n",
      "_________________________________________________________________\n",
      "conv2d_81 (Conv2D)           (None, 16, 16, 64)        18496     \n",
      "_________________________________________________________________\n",
      "conv2d_82 (Conv2D)           (None, 16, 16, 64)        36928     \n",
      "_________________________________________________________________\n",
      "max_pooling2d_74 (MaxPooling (None, 8, 8, 64)          0         \n",
      "_________________________________________________________________\n",
      "dropout_85 (Dropout)         (None, 8, 8, 64)          0         \n",
      "_________________________________________________________________\n",
      "conv2d_83 (Conv2D)           (None, 8, 8, 128)         73856     \n",
      "_________________________________________________________________\n",
      "max_pooling2d_75 (MaxPooling (None, 4, 4, 128)         0         \n",
      "_________________________________________________________________\n",
      "dropout_86 (Dropout)         (None, 4, 4, 128)         0         \n",
      "_________________________________________________________________\n",
      "flatten_13 (Flatten)         (None, 2048)              0         \n",
      "_________________________________________________________________\n",
      "dropout_87 (Dropout)         (None, 2048)              0         \n",
      "_________________________________________________________________\n",
      "dense_45 (Dense)             (None, 256)               524544    \n",
      "_________________________________________________________________\n",
      "dropout_88 (Dropout)         (None, 256)               0         \n",
      "_________________________________________________________________\n",
      "dense_46 (Dense)             (None, 64)                16448     \n",
      "_________________________________________________________________\n",
      "dense_47 (Dense)             (None, 10)                650       \n",
      "=================================================================\n",
      "Total params: 675,722\n",
      "Trainable params: 675,722\n",
      "Non-trainable params: 0\n",
      "_________________________________________________________________\n"
     ]
    }
   ],
   "source": [
    "model.summary()"
   ]
  },
  {
   "cell_type": "code",
   "execution_count": 65,
   "id": "0fed54b8",
   "metadata": {},
   "outputs": [
    {
     "name": "stdout",
     "output_type": "stream",
     "text": [
      "models loaded\n",
      "['dense_46']\n"
     ]
    }
   ],
   "source": [
    "ncComputor_model_1 = NCoverage(model, threshold=0.2,only_layers=[ 'dense_46']) #last hidden layer"
   ]
  },
  {
   "cell_type": "code",
   "execution_count": 66,
   "id": "b7ffce90",
   "metadata": {},
   "outputs": [
    {
     "name": "stdout",
     "output_type": "stream",
     "text": [
      "(47999, 32, 32, 1)\n"
     ]
    }
   ],
   "source": [
    "# number of total inputs\n",
    "print(x_train_and_adversary.shape)"
   ]
  },
  {
   "cell_type": "code",
   "execution_count": 67,
   "id": "eec35f81",
   "metadata": {},
   "outputs": [
    {
     "name": "stdout",
     "output_type": "stream",
     "text": [
      "WARNING:tensorflow:5 out of the last 379 calls to <function Model.make_predict_function.<locals>.predict_function at 0x000002DBEAB51820> triggered tf.function retracing. Tracing is expensive and the excessive number of tracings could be due to (1) creating @tf.function repeatedly in a loop, (2) passing tensors with different shapes, (3) passing Python objects instead of tensors. For (1), please define your @tf.function outside of the loop. For (2), @tf.function has experimental_relax_shapes=True option that relaxes argument shapes that can avoid unnecessary retracing. For (3), please refer to https://www.tensorflow.org/guide/function#controlling_retracing and https://www.tensorflow.org/api_docs/python/tf/function for  more details.\n",
      "WARNING:tensorflow:6 out of the last 380 calls to <function Model.make_predict_function.<locals>.predict_function at 0x000002DBEAB83B80> triggered tf.function retracing. Tracing is expensive and the excessive number of tracings could be due to (1) creating @tf.function repeatedly in a loop, (2) passing tensors with different shapes, (3) passing Python objects instead of tensors. For (1), please define your @tf.function outside of the loop. For (2), @tf.function has experimental_relax_shapes=True option that relaxes argument shapes that can avoid unnecessary retracing. For (3), please refer to https://www.tensorflow.org/guide/function#controlling_retracing and https://www.tensorflow.org/api_docs/python/tf/function for  more details.\n",
      "--- 1729.8578932285309 seconds ---\n"
     ]
    }
   ],
   "source": [
    "import time\n",
    "start_time = time.time()\n",
    "nc_model_original_values_1 = [ncComputor_model_1.NC(tf.expand_dims(x, axis=0)) for x in x_train_and_adversary[:3000]]\n",
    "print(\"--- %s seconds ---\" % (time.time() - start_time))\n"
   ]
  },
  {
   "cell_type": "code",
   "execution_count": 68,
   "id": "f7f42ae7",
   "metadata": {},
   "outputs": [
    {
     "name": "stdout",
     "output_type": "stream",
     "text": [
      "--- 1420.9735825061798 seconds ---\n"
     ]
    }
   ],
   "source": [
    "start_time = time.time()\n",
    "nc_model_original_values_2 = [ncComputor_model_1.NC(tf.expand_dims(x, axis=0)) for x in x_train_and_adversary[3000:6000]]\n",
    "print(\"--- %s seconds ---\" % (time.time() - start_time))\n"
   ]
  },
  {
   "cell_type": "code",
   "execution_count": 69,
   "id": "6079222b",
   "metadata": {},
   "outputs": [
    {
     "data": {
      "text/plain": [
       "(47999, 32, 32, 1)"
      ]
     },
     "execution_count": 69,
     "metadata": {},
     "output_type": "execute_result"
    }
   ],
   "source": [
    "x_train_and_adversary.shape"
   ]
  },
  {
   "cell_type": "code",
   "execution_count": 70,
   "id": "5ef296f0",
   "metadata": {},
   "outputs": [],
   "source": [
    "nc_model_original_values_3 = [ncComputor_model_1.NC(tf.expand_dims(x, axis=0)) for x in x_train_and_adversary[6000:9000]]"
   ]
  },
  {
   "cell_type": "code",
   "execution_count": 71,
   "id": "503101de",
   "metadata": {},
   "outputs": [],
   "source": [
    "nc_values = [\n",
    "    nc_model_original_values_1,\n",
    "    nc_model_original_values_2,\n",
    "    nc_model_original_values_3\n",
    "]"
   ]
  },
  {
   "cell_type": "code",
   "execution_count": 73,
   "id": "cef50798",
   "metadata": {},
   "outputs": [
    {
     "name": "stdout",
     "output_type": "stream",
     "text": [
      "C:\\Users\\fjdur\\Documents\\upc-july\\data\\cifar\n"
     ]
    }
   ],
   "source": [
    "cd C:/Users/fjdur/Documents/upc-july/data/cifar"
   ]
  },
  {
   "cell_type": "code",
   "execution_count": 74,
   "id": "b03e0dd5",
   "metadata": {},
   "outputs": [
    {
     "name": "stdout",
     "output_type": "stream",
     "text": [
      "C:\\Users\\fjdur\\Documents\\upc-july\\data\\cifar\n"
     ]
    }
   ],
   "source": [
    "cd C:/Users/fjdur/Documents/upc-july/data/cifar"
   ]
  },
  {
   "cell_type": "code",
   "execution_count": 75,
   "id": "096b6b2f",
   "metadata": {},
   "outputs": [],
   "source": [
    "#Save nc values\n",
    "i=1\n",
    "for values in nc_values:\n",
    "    with open(dataset+'_nc_values_'+str(i)+'.npy', 'wb') as f:\n",
    "        np.save(f, np.array(values))\n",
    "    i+=1"
   ]
  },
  {
   "cell_type": "code",
   "execution_count": 76,
   "id": "7a6ba132",
   "metadata": {},
   "outputs": [],
   "source": [
    "nc_model_original_values_4 = [ncComputor_model_1.NC(tf.expand_dims(x, axis=0)) for x in x_train_and_adversary[9000:12000]]\n",
    "nc_model_original_values_5 = [ncComputor_model_1.NC(tf.expand_dims(x, axis=0)) for x in x_train_and_adversary[12000:15000]]\n"
   ]
  },
  {
   "cell_type": "code",
   "execution_count": 77,
   "id": "9641e91e",
   "metadata": {},
   "outputs": [],
   "source": [
    "nc_values = [\n",
    "    nc_model_original_values_4,\n",
    "    nc_model_original_values_5\n",
    "]"
   ]
  },
  {
   "cell_type": "code",
   "execution_count": 78,
   "id": "fcf114c6",
   "metadata": {},
   "outputs": [],
   "source": [
    "#Save nc values\n",
    "i=4\n",
    "for values in nc_values:\n",
    "    with open(dataset+'_nc_values_'+str(i)+'.npy', 'wb') as f:\n",
    "        np.save(f, np.array(values))\n",
    "    i+=1"
   ]
  },
  {
   "cell_type": "code",
   "execution_count": 79,
   "id": "b8d175de",
   "metadata": {},
   "outputs": [],
   "source": [
    "nc_model_original_values_6 = [ncComputor_model_1.NC(tf.expand_dims(x, axis=0)) for x in x_train_and_adversary[15000:18000]]\n",
    "nc_model_original_values_7 = [ncComputor_model_1.NC(tf.expand_dims(x, axis=0)) for x in x_train_and_adversary[18000:21000]]\n"
   ]
  },
  {
   "cell_type": "code",
   "execution_count": 80,
   "id": "0a3edff4",
   "metadata": {},
   "outputs": [],
   "source": [
    "nc_values = [\n",
    "    nc_model_original_values_6,\n",
    "    nc_model_original_values_7\n",
    "]"
   ]
  },
  {
   "cell_type": "code",
   "execution_count": 81,
   "id": "af5c8a43",
   "metadata": {},
   "outputs": [],
   "source": [
    "#Save nc values\n",
    "i=6\n",
    "for values in nc_values:\n",
    "    with open(dataset+'_nc_values_'+str(i)+'.npy', 'wb') as f:\n",
    "        np.save(f, np.array(values))\n",
    "    i+=1"
   ]
  },
  {
   "cell_type": "code",
   "execution_count": 82,
   "id": "f0e55b87",
   "metadata": {},
   "outputs": [
    {
     "name": "stdout",
     "output_type": "stream",
     "text": [
      "--- 1219.9750046730042 seconds ---\n",
      "--- 2907.314273118973 seconds ---\n",
      "--- 4133.049585819244 seconds ---\n"
     ]
    }
   ],
   "source": [
    "start_time = time.time()\n",
    "nc_model_original_values_8 = [ncComputor_model_1.NC(tf.expand_dims(x, axis=0)) for x in x_train_and_adversary[21000:24000]]\n",
    "print(\"--- %s seconds ---\" % (time.time() - start_time))\n",
    "\n",
    "nc_model_original_values_9 = [ncComputor_model_1.NC(tf.expand_dims(x, axis=0)) for x in x_train_and_adversary[24000:27000]]\n",
    "print(\"--- %s seconds ---\" % (time.time() - start_time))\n",
    "\n",
    "nc_model_original_values_10 = [ncComputor_model_1.NC(tf.expand_dims(x, axis=0)) for x in x_train_and_adversary[27000:30000]]\n",
    "print(\"--- %s seconds ---\" % (time.time() - start_time))\n"
   ]
  },
  {
   "cell_type": "code",
   "execution_count": 83,
   "id": "8f8a7816",
   "metadata": {},
   "outputs": [],
   "source": [
    "nc_values = [\n",
    "    nc_model_original_values_8,\n",
    "    nc_model_original_values_9,\n",
    "    nc_model_original_values_10\n",
    "]"
   ]
  },
  {
   "cell_type": "code",
   "execution_count": 84,
   "id": "bcdfa37f",
   "metadata": {},
   "outputs": [],
   "source": [
    "#Save nc values\n",
    "i=8\n",
    "for values in nc_values:\n",
    "    with open(dataset+'_nc_values_'+str(i)+'.npy', 'wb') as f:\n",
    "        np.save(f, np.array(values))\n",
    "    i+=1"
   ]
  },
  {
   "cell_type": "code",
   "execution_count": 85,
   "id": "0eb977fd",
   "metadata": {},
   "outputs": [],
   "source": [
    "nc_model_original_values_11 = [ncComputor_model_1.NC(tf.expand_dims(x, axis=0)) for x in x_train_and_adversary[30000:33000]]\n",
    "nc_model_original_values_12 = [ncComputor_model_1.NC(tf.expand_dims(x, axis=0)) for x in x_train_and_adversary[33000:36000]]\n",
    "nc_model_original_values_13 = [ncComputor_model_1.NC(tf.expand_dims(x, axis=0)) for x in x_train_and_adversary[36000:39000]]\n",
    "nc_model_original_values_14 = [ncComputor_model_1.NC(tf.expand_dims(x, axis=0)) for x in x_train_and_adversary[39000:42000]]\n",
    "nc_model_original_values_15 = [ncComputor_model_1.NC(tf.expand_dims(x, axis=0)) for x in x_train_and_adversary[42000:45000]]\n",
    "nc_model_original_values_16 = [ncComputor_model_1.NC(tf.expand_dims(x, axis=0)) for x in x_train_and_adversary[45000:]]\n",
    "\n"
   ]
  },
  {
   "cell_type": "code",
   "execution_count": 86,
   "id": "29222252",
   "metadata": {},
   "outputs": [],
   "source": [
    "nc_values = [\n",
    "    nc_model_original_values_11,\n",
    "    nc_model_original_values_12,\n",
    "    nc_model_original_values_13,\n",
    "    nc_model_original_values_14,\n",
    "    nc_model_original_values_15,\n",
    "    nc_model_original_values_16,\n",
    "    \n",
    "]"
   ]
  },
  {
   "cell_type": "code",
   "execution_count": 87,
   "id": "b926300a",
   "metadata": {},
   "outputs": [
    {
     "data": {
      "text/plain": [
       "(47999, 32, 32, 1)"
      ]
     },
     "execution_count": 87,
     "metadata": {},
     "output_type": "execute_result"
    }
   ],
   "source": [
    "x_train_and_adversary.shape"
   ]
  },
  {
   "cell_type": "code",
   "execution_count": 88,
   "id": "7104e1c3",
   "metadata": {},
   "outputs": [],
   "source": [
    "#Save nc values\n",
    "i=11\n",
    "for values in nc_values:\n",
    "    with open(dataset+'_nc_values_'+str(i)+'.npy', 'wb') as f:\n",
    "        np.save(f, np.array(values))\n",
    "    i+=1"
   ]
  },
  {
   "cell_type": "code",
   "execution_count": null,
   "id": "3326f4b0",
   "metadata": {},
   "outputs": [],
   "source": []
  },
  {
   "cell_type": "markdown",
   "id": "38f1a214",
   "metadata": {},
   "source": [
    "## Uncertainty"
   ]
  },
  {
   "cell_type": "code",
   "execution_count": 89,
   "id": "646bc36f",
   "metadata": {},
   "outputs": [],
   "source": [
    "from tensorflow.keras import layers\n",
    "from tensorflow import keras"
   ]
  },
  {
   "cell_type": "code",
   "execution_count": 90,
   "id": "0be6d988",
   "metadata": {},
   "outputs": [],
   "source": [
    "# Guardar el Modelo\n",
    "model_dir = \"C:/Users/fjdur/Documents/upc-july/models/model_\"+dataset+\".h5\"\n",
    "\n",
    "model.save(model_dir)\n",
    "\n"
   ]
  },
  {
   "cell_type": "code",
   "execution_count": 91,
   "id": "fc1d7a81",
   "metadata": {},
   "outputs": [
    {
     "name": "stdout",
     "output_type": "stream",
     "text": [
      "188/188 [==============================] - 3s 17ms/step - loss: 0.5240 - accuracy: 0.8259\n"
     ]
    },
    {
     "data": {
      "text/plain": [
       "[0.524002730846405, 0.8258623480796814]"
      ]
     },
     "execution_count": 91,
     "metadata": {},
     "output_type": "execute_result"
    }
   ],
   "source": [
    "model.evaluate(x_test,y_test)"
   ]
  },
  {
   "cell_type": "code",
   "execution_count": 92,
   "id": "5ca1b107",
   "metadata": {},
   "outputs": [],
   "source": [
    "model_dir = \"C:/Users/fjdur/Documents/upc-july/models/model_\"+dataset+\".h5\"\n",
    "\n",
    "model_original_functional = keras.models.load_model(model_dir)"
   ]
  },
  {
   "cell_type": "code",
   "execution_count": 93,
   "id": "91e826e0",
   "metadata": {},
   "outputs": [
    {
     "name": "stdout",
     "output_type": "stream",
     "text": [
      "188/188 [==============================] - 3s 17ms/step - loss: 0.5240 - accuracy: 0.8259\n"
     ]
    },
    {
     "data": {
      "text/plain": [
       "[0.524002730846405, 0.8258623480796814]"
      ]
     },
     "execution_count": 93,
     "metadata": {},
     "output_type": "execute_result"
    }
   ],
   "source": [
    "model_original_functional.evaluate(x_test,y_test)"
   ]
  },
  {
   "cell_type": "code",
   "execution_count": 94,
   "id": "8be0f7d6",
   "metadata": {},
   "outputs": [],
   "source": [
    "try:\n",
    "  import uncertainty_wizard as uwiz\n",
    "except ModuleNotFoundError as e:\n",
    "  # Uncertainty wizard was not installed. Install it now (we're probably on colab)\n",
    "  !pip install uncertainty_wizard\n",
    "  import uncertainty_wizard as uwiz"
   ]
  },
  {
   "cell_type": "code",
   "execution_count": 95,
   "id": "e2beecfa",
   "metadata": {},
   "outputs": [
    {
     "data": {
      "text/plain": [
       "tensorflow.python.keras.engine.sequential.Sequential"
      ]
     },
     "execution_count": 95,
     "metadata": {},
     "output_type": "execute_result"
    }
   ],
   "source": [
    "type(model_original_functional)"
   ]
  },
  {
   "cell_type": "code",
   "execution_count": 96,
   "id": "e8727ac0",
   "metadata": {},
   "outputs": [],
   "source": [
    "stochastic_model2 = uwiz.models.stochastic_from_keras(model_original_functional)\n"
   ]
  },
  {
   "cell_type": "code",
   "execution_count": 97,
   "id": "3eb4b300",
   "metadata": {},
   "outputs": [
    {
     "name": "stdout",
     "output_type": "stream",
     "text": [
      "750/750 [==============================] - 21s 28ms/step\n"
     ]
    }
   ],
   "source": [
    "quantifiers = ['deep_gini']\n",
    "results_1 = stochastic_model2.predict_quantified(x_train_and_adversary,\n",
    "                                   quantifier=quantifiers,\n",
    "                                   batch_size=64,\n",
    "                                   sample_size=32,\n",
    "                                   verbose=1)"
   ]
  },
  {
   "cell_type": "code",
   "execution_count": 98,
   "id": "effcfbd8",
   "metadata": {},
   "outputs": [
    {
     "name": "stdout",
     "output_type": "stream",
     "text": [
      "750/750 [==============================] - 22s 29ms/step\n"
     ]
    }
   ],
   "source": [
    "quantifiers = [ 'softmax_entropy']\n",
    "results_2 = stochastic_model2.predict_quantified(x_train_and_adversary,\n",
    "                                   quantifier=quantifiers,\n",
    "                                   batch_size=64,\n",
    "                                   sample_size=32,\n",
    "                                   verbose=1)"
   ]
  },
  {
   "cell_type": "code",
   "execution_count": 99,
   "id": "3b9885bd",
   "metadata": {},
   "outputs": [
    {
     "data": {
      "text/plain": [
       "47999"
      ]
     },
     "execution_count": 99,
     "metadata": {},
     "output_type": "execute_result"
    }
   ],
   "source": [
    "len(x_train_and_adversary)"
   ]
  },
  {
   "cell_type": "code",
   "execution_count": 100,
   "id": "37fa8edb",
   "metadata": {},
   "outputs": [],
   "source": [
    "#deep_gini_values = results[0][1]\n",
    "#softmax_values = results[1][1]\n",
    "\n",
    "deep_gini_values = results_1[0][1]\n",
    "softmax_values = results_2[0][1]"
   ]
  },
  {
   "cell_type": "code",
   "execution_count": 78,
   "id": "ad9da949",
   "metadata": {},
   "outputs": [
    {
     "name": "stdout",
     "output_type": "stream",
     "text": [
      "(14224,)\n",
      "(14224,)\n"
     ]
    }
   ],
   "source": [
    "print(deep_gini_values.shape)\n",
    "print(softmax_values.shape)"
   ]
  },
  {
   "cell_type": "code",
   "execution_count": 101,
   "id": "7fd3bde6",
   "metadata": {},
   "outputs": [],
   "source": [
    "save_dir = \"C:/Users/fjdur/Documents/upc-july/data/\"+dataset+\"/deep_gini_values.npy\"\n",
    "np.save(save_dir,np.array(deep_gini_values))\n",
    "\n",
    "save_dir = \"C:/Users/fjdur/Documents/upc-july/data/\"+dataset+\"/softmax_values.npy\"\n",
    "np.save(save_dir,np.array(softmax_values))"
   ]
  },
  {
   "cell_type": "code",
   "execution_count": 80,
   "id": "78e640c2",
   "metadata": {},
   "outputs": [
    {
     "data": {
      "text/plain": [
       "array([0.95119286, 0.9268266 , 2.3521495 , 1.5793939 , 1.4716263 ,\n",
       "       1.624482  , 1.2282022 , 1.4915899 , 0.32582468, 1.8323919 ,\n",
       "       1.1253238 , 0.49804133, 1.5765084 , 1.9983608 , 1.4013311 ],\n",
       "      dtype=float32)"
      ]
     },
     "execution_count": 80,
     "metadata": {},
     "output_type": "execute_result"
    }
   ],
   "source": [
    "softmax_values[-15:]"
   ]
  },
  {
   "cell_type": "code",
   "execution_count": 81,
   "id": "7189dd65",
   "metadata": {},
   "outputs": [
    {
     "data": {
      "text/plain": [
       "array([1.9636624 , 1.1286783 , 0.75007904, 0.64505386, 1.4529158 ,\n",
       "       0.96874285, 0.1260533 , 0.12664267, 0.16722937, 0.90813065,\n",
       "       0.6678082 , 0.47133207, 0.03909138, 0.13503881, 0.02686379],\n",
       "      dtype=float32)"
      ]
     },
     "execution_count": 81,
     "metadata": {},
     "output_type": "execute_result"
    }
   ],
   "source": [
    "softmax_values[:15]"
   ]
  },
  {
   "cell_type": "code",
   "execution_count": 76,
   "id": "5ceb0a2b",
   "metadata": {},
   "outputs": [
    {
     "data": {
      "text/plain": [
       "array([[0., 0., 0., 0., 0., 0., 0., 1., 0., 0.],\n",
       "       [0., 0., 0., 0., 0., 0., 0., 0., 0., 1.],\n",
       "       [0., 0., 1., 0., 0., 0., 0., 0., 0., 0.],\n",
       "       [0., 0., 0., 0., 1., 0., 0., 0., 0., 0.],\n",
       "       [0., 0., 0., 0., 0., 1., 0., 0., 0., 0.],\n",
       "       [0., 0., 0., 0., 0., 0., 1., 0., 0., 0.],\n",
       "       [0., 0., 0., 0., 1., 0., 0., 0., 0., 0.],\n",
       "       [1., 0., 0., 0., 0., 0., 0., 0., 0., 0.],\n",
       "       [0., 0., 0., 0., 0., 0., 0., 0., 0., 1.],\n",
       "       [0., 0., 0., 1., 0., 0., 0., 0., 0., 0.]], dtype=float32)"
      ]
     },
     "execution_count": 76,
     "metadata": {},
     "output_type": "execute_result"
    }
   ],
   "source": [
    "y_test_and_adversary[:10]"
   ]
  },
  {
   "cell_type": "code",
   "execution_count": null,
   "id": "f93c81b5",
   "metadata": {},
   "outputs": [],
   "source": [
    "# results[0][0] contains the point-predictions from the 'pcs' quantifier\n",
    "#     (i.e., argmax of a single non-randomized network forward pass)\n",
    "# results[0][1] contains the prediction confidence scores for these predictions\n",
    "\n",
    "# results[1][0] contains the predictions from the 'mean_softmax' quantifier\n",
    "#     (i.e., argmax of 32 averages forward pass samples on the randomized DNN)\n",
    "# results[1][1] contains the corresponding confidence\n",
    "#     (i.e., the average softmax value of the class with the highest average softmax value)"
   ]
  },
  {
   "cell_type": "code",
   "execution_count": 30,
   "id": "8e79942f",
   "metadata": {},
   "outputs": [
    {
     "name": "stdout",
     "output_type": "stream",
     "text": [
      "[7 9 2 ... 8 4 9]\n"
     ]
    }
   ],
   "source": [
    "print(results[0][0])"
   ]
  },
  {
   "cell_type": "code",
   "execution_count": 82,
   "id": "39ef4e1c",
   "metadata": {},
   "outputs": [
    {
     "name": "stdout",
     "output_type": "stream",
     "text": [
      "[1.9636624  1.1286783  0.75007904 0.64505386 1.4529158  0.96874285\n",
      " 0.1260533  0.12664267 0.16722937 0.90813065 0.6678082  0.47133207\n",
      " 0.03909138 0.13503881 0.02686379]\n",
      "[0.95119286 0.9268266  2.3521495  1.5793939  1.4716263  1.624482\n",
      " 1.2282022  1.4915899  0.32582468 1.8323919  1.1253238  0.49804133\n",
      " 1.5765084  1.9983608  1.4013311 ]\n"
     ]
    }
   ],
   "source": [
    "print(results_2[0][1][:15])\n",
    "print(results_2[0][1][-15:])"
   ]
  },
  {
   "cell_type": "code",
   "execution_count": 83,
   "id": "99879f9d",
   "metadata": {},
   "outputs": [
    {
     "name": "stdout",
     "output_type": "stream",
     "text": [
      "[0.6519574  0.35906863 0.22482598 0.19670624 0.47535992 0.39142632\n",
      " 0.02635032 0.03382593 0.04328644 0.33758348 0.23817265 0.12240326\n",
      " 0.00700969 0.03394562 0.00443   ]\n",
      "[0.42461354 0.33367443 0.77483237 0.566026   0.48991388 0.58239764\n",
      " 0.46859473 0.5567219  0.09249663 0.6583172  0.40377843 0.1521892\n",
      " 0.518263   0.6998366  0.4969082 ]\n"
     ]
    }
   ],
   "source": [
    "print(results_1[0][1][:15])\n",
    "print(results_1[0][1][-15:])"
   ]
  },
  {
   "cell_type": "code",
   "execution_count": null,
   "id": "6abcc8b4",
   "metadata": {},
   "outputs": [],
   "source": []
  }
 ],
 "metadata": {
  "kernelspec": {
   "display_name": "Python 3 (ipykernel)",
   "language": "python",
   "name": "python3"
  },
  "language_info": {
   "codemirror_mode": {
    "name": "ipython",
    "version": 3
   },
   "file_extension": ".py",
   "mimetype": "text/x-python",
   "name": "python",
   "nbconvert_exporter": "python",
   "pygments_lexer": "ipython3",
   "version": "3.9.7"
  }
 },
 "nbformat": 4,
 "nbformat_minor": 5
}
