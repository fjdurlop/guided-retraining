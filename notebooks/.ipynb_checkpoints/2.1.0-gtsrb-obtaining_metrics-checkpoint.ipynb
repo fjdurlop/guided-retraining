{
 "cells": [
  {
   "cell_type": "markdown",
   "id": "b89fa188",
   "metadata": {},
   "source": [
    "# Obtaining metrics\n",
    "\n",
    "## Dataset: GTSRB\n"
   ]
  },
  {
   "cell_type": "code",
   "execution_count": 1,
   "id": "ce1386e9",
   "metadata": {},
   "outputs": [],
   "source": [
    "import argparse\n",
    "\n",
    "import numpy as np\n",
    "import tensorflow as tf\n",
    "import keras.backend as K\n",
    "\n",
    "import matplotlib.pyplot as plt\n",
    "\n",
    "from keras.utils import np_utils\n",
    "from keras.models import Sequential\n",
    "from keras.layers import Dense, Dropout, Activation, Flatten, Conv2D, MaxPooling2D\n",
    "from keras.regularizers import l2\n",
    "\n",
    "import glob\n",
    "import os\n",
    "import cv2\n",
    "import keras\n",
    "\n",
    "\n",
    "import time\n",
    "import argparse\n",
    "\n",
    "from tqdm import tqdm\n",
    "\n",
    "from keras.models import load_model, Model\n",
    "from importlib import reload  \n"
   ]
  },
  {
   "cell_type": "code",
   "execution_count": 2,
   "id": "4a0f60c0",
   "metadata": {},
   "outputs": [
    {
     "data": {
      "text/plain": [
       "'C:\\\\Users\\\\fjdur\\\\Documents\\\\upc-july\\\\notebooks'"
      ]
     },
     "execution_count": 2,
     "metadata": {},
     "output_type": "execute_result"
    }
   ],
   "source": [
    "pwd"
   ]
  },
  {
   "cell_type": "code",
   "execution_count": 3,
   "id": "1af83a55",
   "metadata": {},
   "outputs": [],
   "source": [
    "dataset = \"gtsrb\""
   ]
  },
  {
   "cell_type": "code",
   "execution_count": 4,
   "id": "5c0d4469",
   "metadata": {},
   "outputs": [],
   "source": [
    "model_direction = \"C:/Users/fjdur/Documents/upc-july/models/tf_model_25-06/\"\n",
    "if(dataset == 'gtsrb'):\n",
    "    model_direction = \"C:/Users/fjdur/Documents/upc-july/models/tf_model_25-06\"\n",
    "elif(dataset == 'intel'):\n",
    "    model_direction = \"C:/Users/fjdur/Documents/upc-july/models/intel_model_21_10\"\n",
    "elif(dataset == 'mnist'):\n",
    "    model_direction = \"C:/Users/fjdur/Documents/MNIST project/models2\""
   ]
  },
  {
   "cell_type": "code",
   "execution_count": 5,
   "id": "7aa9fcbd",
   "metadata": {},
   "outputs": [
    {
     "name": "stdout",
     "output_type": "stream",
     "text": [
      "C:\\Users\\fjdur\\Documents\\utils\n"
     ]
    }
   ],
   "source": [
    "cd C:/Users/fjdur/Documents/utils/"
   ]
  },
  {
   "cell_type": "code",
   "execution_count": 6,
   "id": "723735cb",
   "metadata": {},
   "outputs": [
    {
     "name": "stdout",
     "output_type": "stream",
     "text": [
      "2.5.0\n",
      "keras\n",
      "2.5.0\n"
     ]
    }
   ],
   "source": [
    "# utils for project\n",
    "import utils_guided_retraining as utils"
   ]
  },
  {
   "cell_type": "code",
   "execution_count": 7,
   "id": "e91b351f",
   "metadata": {},
   "outputs": [
    {
     "data": {
      "text/plain": [
       "'C:\\\\Users\\\\fjdur\\\\Documents\\\\utils'"
      ]
     },
     "execution_count": 7,
     "metadata": {},
     "output_type": "execute_result"
    }
   ],
   "source": [
    "pwd"
   ]
  },
  {
   "cell_type": "code",
   "execution_count": 8,
   "id": "bbb2f8e1",
   "metadata": {},
   "outputs": [
    {
     "name": "stdout",
     "output_type": "stream",
     "text": [
      "2.5.0\n",
      "keras\n",
      "2.5.0\n"
     ]
    }
   ],
   "source": [
    "from importlib import reload  \n",
    "utils = reload(utils)"
   ]
  },
  {
   "cell_type": "code",
   "execution_count": 9,
   "id": "09cb7606",
   "metadata": {},
   "outputs": [
    {
     "name": "stdout",
     "output_type": "stream",
     "text": [
      "C:\\Users\\fjdur\\Documents\\MNIST project\n"
     ]
    }
   ],
   "source": [
    "cd ../MNIST project/"
   ]
  },
  {
   "cell_type": "code",
   "execution_count": null,
   "id": "dd8a9274",
   "metadata": {},
   "outputs": [],
   "source": []
  },
  {
   "cell_type": "code",
   "execution_count": 10,
   "id": "50c2b3f3",
   "metadata": {},
   "outputs": [],
   "source": [
    "x_train,y_train = utils.get_data(dataset,\"Train\")\n",
    "x_val,y_val = utils.get_data(dataset,\"Val\")\n",
    "x_test,y_test = utils.get_data(dataset,\"Test\")"
   ]
  },
  {
   "cell_type": "code",
   "execution_count": 11,
   "id": "e6f6f8a7",
   "metadata": {},
   "outputs": [],
   "source": [
    "x_train_and_adversary,y_train_and_adversary = utils.get_data(dataset,\"Train_and_adversary\")"
   ]
  },
  {
   "cell_type": "code",
   "execution_count": 12,
   "id": "d7d112f8",
   "metadata": {},
   "outputs": [
    {
     "name": "stdout",
     "output_type": "stream",
     "text": [
      "(31366, 48, 48, 1)\n",
      "(31366, 43)\n",
      "(3919, 48, 48, 1)\n",
      "(3919, 43)\n",
      "(3923, 48, 48, 1)\n",
      "(3923, 43)\n",
      "---\n",
      "(48, 48, 1)\n",
      "(35287, 48, 48, 1)\n",
      "(35287, 43)\n"
     ]
    }
   ],
   "source": [
    "print(x_train.shape)\n",
    "print(y_train.shape)\n",
    "print(x_val.shape)\n",
    "print(y_val.shape)\n",
    "print(x_test.shape)\n",
    "print(y_test.shape)\n",
    "print(\"---\")\n",
    "print(x_train[0].shape)\n",
    "print(x_train_and_adversary.shape)\n",
    "print(y_train_and_adversary.shape)"
   ]
  },
  {
   "cell_type": "code",
   "execution_count": 13,
   "id": "1a43a014",
   "metadata": {},
   "outputs": [
    {
     "name": "stdout",
     "output_type": "stream",
     "text": [
      "43\n"
     ]
    }
   ],
   "source": [
    "num_classes = y_train_and_adversary.shape[-1]\n",
    "print(num_classes)"
   ]
  },
  {
   "cell_type": "code",
   "execution_count": 14,
   "id": "68da837f",
   "metadata": {},
   "outputs": [],
   "source": [
    "#here editing\n"
   ]
  },
  {
   "cell_type": "code",
   "execution_count": 14,
   "id": "53dcdf78",
   "metadata": {},
   "outputs": [
    {
     "name": "stdout",
     "output_type": "stream",
     "text": [
      "3921\n",
      "3921\n"
     ]
    }
   ],
   "source": [
    "x_adversary_training = x_train_and_adversary[len(x_train):]\n",
    "print(len(x_adversary_training))\n",
    "y_adversary_training = y_train_and_adversary[len(y_train):]\n",
    "\n",
    "print(len(y_adversary_training))"
   ]
  },
  {
   "cell_type": "code",
   "execution_count": 15,
   "id": "d8fd2c92",
   "metadata": {},
   "outputs": [],
   "source": [
    "# Obtaining adversarial examples for testing \n",
    "x_test_and_adversary,y_test_and_adversary = utils.get_adversarial_data(dataset,\"Test_adversarial\") "
   ]
  },
  {
   "cell_type": "code",
   "execution_count": 16,
   "id": "7a119796",
   "metadata": {},
   "outputs": [
    {
     "name": "stdout",
     "output_type": "stream",
     "text": [
      "(7844, 48, 48, 1)\n",
      "(7844, 43)\n"
     ]
    }
   ],
   "source": [
    "print(x_test_and_adversary.shape)\n",
    "print(y_test_and_adversary.shape)"
   ]
  },
  {
   "cell_type": "code",
   "execution_count": 17,
   "id": "c27698e5",
   "metadata": {},
   "outputs": [
    {
     "name": "stdout",
     "output_type": "stream",
     "text": [
      "3921\n",
      "3921\n"
     ]
    }
   ],
   "source": [
    "x_adversary_test_fgsm = x_test_and_adversary[len(x_test):]\n",
    "print(len(x_adversary_test_fgsm))\n",
    "y_adversary_test_fgsm = y_test_and_adversary[len(y_test):]\n",
    "\n",
    "print(len(y_adversary_test_fgsm))"
   ]
  },
  {
   "cell_type": "code",
   "execution_count": 19,
   "id": "a8be363b",
   "metadata": {},
   "outputs": [],
   "source": [
    "#x_test_and_adversary_jsma,y_test_and_adversary_jsma = utils.get_adversarial_data('Test_jsma') "
   ]
  },
  {
   "cell_type": "code",
   "execution_count": null,
   "id": "043cb855",
   "metadata": {},
   "outputs": [],
   "source": []
  },
  {
   "cell_type": "markdown",
   "id": "becb4e3b",
   "metadata": {},
   "source": [
    "## ----"
   ]
  },
  {
   "cell_type": "code",
   "execution_count": 16,
   "id": "c1560941",
   "metadata": {},
   "outputs": [],
   "source": [
    "# Original model \n",
    "#model_dir = \"C:/Users/fjdur/Desktop/upc/project_notebooks/github_project/DL_notebooks/models/tf_model_25-06\""
   ]
  },
  {
   "cell_type": "code",
   "execution_count": 17,
   "id": "e5478616",
   "metadata": {},
   "outputs": [],
   "source": [
    "#model_original = utils.My_model(True, model_dir)"
   ]
  },
  {
   "cell_type": "code",
   "execution_count": 20,
   "id": "10bf9c4c",
   "metadata": {},
   "outputs": [],
   "source": [
    "# Loading model already trained\n",
    "#model_dir = \"C:/Users/fjdur/Documents/upc-july/models/tf_model_25-06/\"\n",
    "model = keras.models.load_model(model_direction)"
   ]
  },
  {
   "cell_type": "code",
   "execution_count": 21,
   "id": "f9299057",
   "metadata": {},
   "outputs": [
    {
     "name": "stdout",
     "output_type": "stream",
     "text": [
      "123/123 [==============================] - 44s 76ms/step - loss: 0.0293 - accuracy: 0.9929\n"
     ]
    },
    {
     "data": {
      "text/plain": [
       "[0.029302377253770828, 0.9928625822067261]"
      ]
     },
     "execution_count": 21,
     "metadata": {},
     "output_type": "execute_result"
    }
   ],
   "source": [
    "model.evaluate(x_test,y_test)"
   ]
  },
  {
   "cell_type": "code",
   "execution_count": 22,
   "id": "39c927c4",
   "metadata": {},
   "outputs": [
    {
     "name": "stdout",
     "output_type": "stream",
     "text": [
      "246/246 [==============================] - 19s 75ms/step - loss: 0.8656 - accuracy: 0.8480\n"
     ]
    },
    {
     "data": {
      "text/plain": [
       "[0.8655991554260254, 0.8480367064476013]"
      ]
     },
     "execution_count": 22,
     "metadata": {},
     "output_type": "execute_result"
    }
   ],
   "source": [
    "model.evaluate(x_test_and_adversary,y_test_and_adversary)"
   ]
  },
  {
   "cell_type": "markdown",
   "id": "78edd1c7",
   "metadata": {},
   "source": [
    "## Obtaining new LSA and DSA values \n",
    "- Required module 'deepimportance_code_release'"
   ]
  },
  {
   "cell_type": "code",
   "execution_count": 23,
   "id": "1eccf405",
   "metadata": {},
   "outputs": [
    {
     "name": "stdout",
     "output_type": "stream",
     "text": [
      "D:\\deepimportance_code_release\n"
     ]
    }
   ],
   "source": [
    "cd \"D:deepimportance_code_release\""
   ]
  },
  {
   "cell_type": "code",
   "execution_count": 24,
   "id": "6df52b78",
   "metadata": {},
   "outputs": [],
   "source": [
    "# from 07_notebook\n",
    "from utils import filter_val_set, get_trainable_layers\n",
    "from utils import generate_adversarial, filter_correct_classifications\n",
    "from coverages.idc import ImportanceDrivenCoverage\n",
    "from coverages.neuron_cov import NeuronCoverage\n",
    "from coverages.tkn import DeepGaugeLayerLevelCoverage\n",
    "from coverages.kmn import DeepGaugePercentCoverage\n",
    "from coverages.ss import SSCover\n",
    "from coverages.sa import SurpriseAdequacy\n"
   ]
  },
  {
   "cell_type": "code",
   "execution_count": 25,
   "id": "718bf035",
   "metadata": {},
   "outputs": [
    {
     "name": "stdout",
     "output_type": "stream",
     "text": [
      "Trainable layers: [0, 1, 4, 5, 8, 9, 13, 15, 17]\n",
      "Non trainable layers: [2, 3, 6, 7, 10, 11, 12, 14, 16]\n"
     ]
    }
   ],
   "source": [
    "trainable_layers = get_trainable_layers(model)\n",
    "non_trainable_layers = list(set(range(len(model.layers))) - set(trainable_layers))\n",
    "print('Trainable layers: ' + str(trainable_layers))\n",
    "print('Non trainable layers: ' + str(non_trainable_layers))"
   ]
  },
  {
   "cell_type": "code",
   "execution_count": 26,
   "id": "67d41b48",
   "metadata": {},
   "outputs": [
    {
     "name": "stdout",
     "output_type": "stream",
     "text": [
      "Model: \"sequential\"\n",
      "_________________________________________________________________\n",
      "Layer (type)                 Output Shape              Param #   \n",
      "=================================================================\n",
      "conv2d (Conv2D)              (None, 48, 48, 32)        320       \n",
      "_________________________________________________________________\n",
      "conv2d_1 (Conv2D)            (None, 48, 48, 32)        9248      \n",
      "_________________________________________________________________\n",
      "max_pooling2d (MaxPooling2D) (None, 24, 24, 32)        0         \n",
      "_________________________________________________________________\n",
      "dropout (Dropout)            (None, 24, 24, 32)        0         \n",
      "_________________________________________________________________\n",
      "conv2d_2 (Conv2D)            (None, 24, 24, 64)        18496     \n",
      "_________________________________________________________________\n",
      "conv2d_3 (Conv2D)            (None, 24, 24, 64)        36928     \n",
      "_________________________________________________________________\n",
      "max_pooling2d_1 (MaxPooling2 (None, 12, 12, 64)        0         \n",
      "_________________________________________________________________\n",
      "dropout_1 (Dropout)          (None, 12, 12, 64)        0         \n",
      "_________________________________________________________________\n",
      "conv2d_4 (Conv2D)            (None, 12, 12, 128)       73856     \n",
      "_________________________________________________________________\n",
      "conv2d_5 (Conv2D)            (None, 12, 12, 128)       147584    \n",
      "_________________________________________________________________\n",
      "max_pooling2d_2 (MaxPooling2 (None, 6, 6, 128)         0         \n",
      "_________________________________________________________________\n",
      "dropout_2 (Dropout)          (None, 6, 6, 128)         0         \n",
      "_________________________________________________________________\n",
      "flatten (Flatten)            (None, 4608)              0         \n",
      "_________________________________________________________________\n",
      "dense (Dense)                (None, 512)               2359808   \n",
      "_________________________________________________________________\n",
      "dropout_3 (Dropout)          (None, 512)               0         \n",
      "_________________________________________________________________\n",
      "dense_1 (Dense)              (None, 256)               131328    \n",
      "_________________________________________________________________\n",
      "dropout_4 (Dropout)          (None, 256)               0         \n",
      "_________________________________________________________________\n",
      "dense_2 (Dense)              (None, 43)                11051     \n",
      "=================================================================\n",
      "Total params: 2,788,619\n",
      "Trainable params: 2,788,619\n",
      "Non-trainable params: 0\n",
      "_________________________________________________________________\n"
     ]
    }
   ],
   "source": [
    "model.summary()"
   ]
  },
  {
   "cell_type": "code",
   "execution_count": 27,
   "id": "e2c1771f",
   "metadata": {},
   "outputs": [
    {
     "data": {
      "text/plain": [
       "['dense_1']"
      ]
     },
     "execution_count": 27,
     "metadata": {},
     "output_type": "execute_result"
    }
   ],
   "source": [
    "subject_layer = trainable_layers[-2]\n",
    "layer_names = [model.layers[-3].name]\n",
    "upper_bound = 2000\n",
    "layer_names"
   ]
  },
  {
   "cell_type": "code",
   "execution_count": 28,
   "id": "0562cf75",
   "metadata": {},
   "outputs": [
    {
     "data": {
      "text/plain": [
       "15"
      ]
     },
     "execution_count": 28,
     "metadata": {},
     "output_type": "execute_result"
    }
   ],
   "source": [
    "subject_layer"
   ]
  },
  {
   "cell_type": "code",
   "execution_count": 29,
   "id": "dd102757",
   "metadata": {},
   "outputs": [],
   "source": [
    "from coverages import sa\n",
    "from datetime import datetime"
   ]
  },
  {
   "cell_type": "code",
   "execution_count": 30,
   "id": "857f2c1c",
   "metadata": {},
   "outputs": [
    {
     "data": {
      "text/plain": [
       "'D:\\\\deepimportance_code_release'"
      ]
     },
     "execution_count": 30,
     "metadata": {},
     "output_type": "execute_result"
    }
   ],
   "source": [
    "pwd"
   ]
  },
  {
   "cell_type": "code",
   "execution_count": 31,
   "id": "efef58c4",
   "metadata": {},
   "outputs": [
    {
     "name": "stdout",
     "output_type": "stream",
     "text": [
      "check  gtsrb\n"
     ]
    }
   ],
   "source": [
    "print(\"check \",dataset)"
   ]
  },
  {
   "cell_type": "code",
   "execution_count": 32,
   "id": "80d8649b",
   "metadata": {},
   "outputs": [
    {
     "name": "stdout",
     "output_type": "stream",
     "text": [
      "[train] Model serving\n",
      "18\n",
      "246/246 [==============================] - 69s 274ms/step\n",
      "246/246 [==============================] - 69s 276ms/step\n",
      "[train] Processing ATs\n",
      "Layer: dense_1\n",
      "train ATs is saved at ./sa_gtsrb\\model_01_aug_train_dense_1_ats.npy\n",
      "[conf_01_aug] Model serving\n",
      "18\n",
      "276/276 [==============================] - 76s 276ms/step\n",
      "276/276 [==============================] - 73s 260ms/step\n",
      "[conf_01_aug] Processing ATs\n",
      "Layer: dense_1\n",
      "conf_01_aug ATs is saved at ./sa_gtsrb\\model_01_aug_conf_01_aug_dense_1_ats.npy\n",
      "yes\n",
      "dict_keys([0, 17, 1, 2, 4, 5, 3, 32, 14, 28, 13, 6, 7, 8, 9, 10, 11, 27, 30, 12, 36, 15, 16, 18, 24, 19, 21, 20, 29, 22, 23, 31, 25, 26, 33, 34, 35, 37, 38, 39, 40, 41, 42])\n",
      "The number of removed columns: 245\n",
      "[conf_01_aug] Fetching LSA\n",
      "Duration: 0:04:58.706088\n"
     ]
    }
   ],
   "source": [
    "start_time = datetime.now()\n",
    "#surprise of all inputs wrt to the original inputs\n",
    "target_lsa = sa.fetch_lsa(model, x_train, x_train_and_adversary,\n",
    "                                   \"conf_01_aug\", layer_names,\n",
    "                                   num_classes, True,\n",
    "                                   1e-05, './sa_'+dataset, \"model_01_aug\")\n",
    "\n",
    "\n",
    "end_time = datetime.now()\n",
    "print('Duration: {}'.format(end_time - start_time))"
   ]
  },
  {
   "cell_type": "code",
   "execution_count": 33,
   "id": "7eef5f72",
   "metadata": {},
   "outputs": [
    {
     "data": {
      "text/plain": [
       "'D:\\\\deepimportance_code_release'"
      ]
     },
     "execution_count": 33,
     "metadata": {},
     "output_type": "execute_result"
    }
   ],
   "source": [
    "pwd"
   ]
  },
  {
   "cell_type": "code",
   "execution_count": null,
   "id": "2c0d4dca",
   "metadata": {},
   "outputs": [],
   "source": []
  },
  {
   "cell_type": "code",
   "execution_count": 34,
   "id": "eccd446e",
   "metadata": {},
   "outputs": [],
   "source": [
    "save_dir = \"C:/Users/fjdur/Documents/upc-july/data/\"+dataset+\"/lsa_values.npy\"\n",
    "np.save(save_dir,np.array(target_lsa))"
   ]
  },
  {
   "cell_type": "code",
   "execution_count": 35,
   "id": "5bfd8b90",
   "metadata": {},
   "outputs": [],
   "source": [
    "# editing here"
   ]
  },
  {
   "cell_type": "code",
   "execution_count": 36,
   "id": "58c23d37",
   "metadata": {},
   "outputs": [
    {
     "name": "stdout",
     "output_type": "stream",
     "text": [
      "Found saved train ATs, skip serving\n",
      "[conf_01_aug] Model serving\n",
      "18\n",
      "276/276 [==============================] - 54s 197ms/step\n",
      "276/276 [==============================] - 56s 200ms/step\n",
      "[conf_01_aug] Processing ATs\n",
      "Layer: dense_1\n",
      "conf_01_aug ATs is saved at ./sa_gtsrb\\model_01_aug_conf_01_aug_dense_1_ats.npy\n",
      "[conf_01_aug] Fetching DSA\n",
      "Duration: 0:31:44.606062\n"
     ]
    }
   ],
   "source": [
    "start_time = datetime.now()\n",
    "\n",
    "target_dsa = sa.fetch_dsa(model, x_train, x_train_and_adversary,\n",
    "                                   \"conf_01_aug\", layer_names,\n",
    "                                   num_classes, True,\n",
    "                                   './sa_'+dataset,  \"model_01_aug\")\n",
    "end_time = datetime.now()\n",
    "print('Duration: {}'.format(end_time - start_time))"
   ]
  },
  {
   "cell_type": "code",
   "execution_count": 37,
   "id": "5e3ad78f",
   "metadata": {},
   "outputs": [],
   "source": [
    "save_dir = \"C:/Users/fjdur/Documents/upc-july/data/\"+dataset+\"/dsa_values.npy\"\n",
    "np.save(save_dir,np.array(target_dsa))"
   ]
  },
  {
   "cell_type": "code",
   "execution_count": null,
   "id": "9d9901e2",
   "metadata": {},
   "outputs": [],
   "source": []
  },
  {
   "cell_type": "code",
   "execution_count": 35,
   "id": "b264130a",
   "metadata": {},
   "outputs": [],
   "source": []
  },
  {
   "cell_type": "code",
   "execution_count": 42,
   "id": "274b5982",
   "metadata": {},
   "outputs": [],
   "source": [
    "#loading\n",
    "loading =False\n",
    "if (loading == True):\n",
    "    save_dir = \"C:/Users/fjdurlop/Documents/upc-july/data/\"+dataset+\"/lsa_values.npy\"\n",
    "    target_lsa = np.load(save_dir)\n",
    "\n",
    "    save_dir = \"C:/Users/fjdurlop/Documents/upc-july/data/\"+dataset+\"/dsa_values.npy\"\n",
    "    target_dsa = np.load(save_dir)"
   ]
  },
  {
   "cell_type": "code",
   "execution_count": 43,
   "id": "6777ec82",
   "metadata": {},
   "outputs": [
    {
     "name": "stdout",
     "output_type": "stream",
     "text": [
      "[0.0, 0.0, 0.0, 0.0, 0.0, 0.0, 0.0, 0.0, 0.0, 0.0, 0.0, 0.0, 0.0, 0.0, 0.0, 0.0, 0.0, 0.0, 1.4198453e-07, 0.103650354, 0.110504985, 0.11916372, 0.09978015, 0.15995812, 0.10416289, 0.13666278, 0.08570866, 0.18017817, 0.12767863, 0.11186311]\n"
     ]
    }
   ],
   "source": [
    "#print(target_dsa[48980:49010])"
   ]
  },
  {
   "cell_type": "code",
   "execution_count": 44,
   "id": "d74088e9",
   "metadata": {},
   "outputs": [
    {
     "name": "stdout",
     "output_type": "stream",
     "text": [
      "[0.16274497, 0.101583555, 0.12083733, 0.14051229, 0.11820864, 0.112263255, 0.085314415, 0.098417014, 0.13010219, 0.11316547, 0.11753961, 0.10477573, 0.101970434, 0.14521681, 0.110462874, 0.14807995, 0.12886639, 0.12255348, 0.11675078, 0.10050738, 0.114456624, 0.14356047, 0.14551164, 0.15918754, 0.0727881, 0.13202144, 0.11643102, 0.20601466, 0.11816457, 0.13781092]\n"
     ]
    }
   ],
   "source": [
    "#print(target_dsa[49180:49210])"
   ]
  },
  {
   "cell_type": "code",
   "execution_count": 45,
   "id": "0613b226",
   "metadata": {},
   "outputs": [
    {
     "name": "stdout",
     "output_type": "stream",
     "text": [
      "[0.0, 0.0, 0.0, 0.0, 0.0, 0.0, 0.0, 0.0, 0.0, 0.0, 0.0, 0.0, 0.0, 0.0, 0.0, 0.0, 0.0, 0.0, 0.0, 0.0, 0.0, 0.0, 0.0, 0.0, 0.0, 0.0, 0.0, 0.0, 0.0, 0.0]\n"
     ]
    }
   ],
   "source": [
    "#print(target_dsa[40180:40210])"
   ]
  },
  {
   "cell_type": "markdown",
   "id": "bf9b45e9",
   "metadata": {},
   "source": [
    "## Random"
   ]
  },
  {
   "cell_type": "code",
   "execution_count": 18,
   "id": "3581436b",
   "metadata": {},
   "outputs": [
    {
     "name": "stdout",
     "output_type": "stream",
     "text": [
      "[21318, 27488, 33805, 7359, 24182, 12381, 5654, 9867, 28174, 13750]\n",
      "35287\n"
     ]
    }
   ],
   "source": [
    "import random\n",
    "random_indexes =list(range(len(x_train_and_adversary)))\n",
    "random.shuffle(random_indexes)\n",
    "print(random_indexes[:10])\n",
    "print(len(random_indexes))"
   ]
  },
  {
   "cell_type": "code",
   "execution_count": 19,
   "id": "0eca574c",
   "metadata": {},
   "outputs": [],
   "source": [
    "\n",
    "save_dir = \"C:/Users/fjdur/Documents/upc-july/data/\"+dataset+\"/random_values.npy\"\n",
    "\n",
    "np.save(save_dir,np.array(random_indexes))"
   ]
  },
  {
   "cell_type": "code",
   "execution_count": 38,
   "id": "86cd9ff9",
   "metadata": {},
   "outputs": [
    {
     "name": "stdout",
     "output_type": "stream",
     "text": [
      "D:\\backup_UPC\\upc\\project_notebooks\\TestSelection\n"
     ]
    }
   ],
   "source": [
    "cd D:/backup_UPC/upc/project_notebooks/TestSelection"
   ]
  },
  {
   "cell_type": "code",
   "execution_count": 39,
   "id": "5b460723",
   "metadata": {},
   "outputs": [
    {
     "name": "stdout",
     "output_type": "stream",
     "text": [
      "D:\\backup_UPC\\upc\\project_notebooks\n"
     ]
    }
   ],
   "source": [
    "cd .."
   ]
  },
  {
   "cell_type": "code",
   "execution_count": 40,
   "id": "5edb8353",
   "metadata": {},
   "outputs": [
    {
     "data": {
      "text/plain": [
       "'D:\\\\backup_UPC\\\\upc\\\\project_notebooks'"
      ]
     },
     "execution_count": 40,
     "metadata": {},
     "output_type": "execute_result"
    }
   ],
   "source": [
    "pwd"
   ]
  },
  {
   "cell_type": "code",
   "execution_count": 41,
   "id": "2b25a2ee",
   "metadata": {},
   "outputs": [],
   "source": [
    "import TestSelection\n",
    "from TestSelection.utils.ncoverage import NCoverage # https://github.com/TestSelection/TestSelection"
   ]
  },
  {
   "cell_type": "code",
   "execution_count": 42,
   "id": "d479d410",
   "metadata": {},
   "outputs": [
    {
     "name": "stdout",
     "output_type": "stream",
     "text": [
      "Model: \"sequential\"\n",
      "_________________________________________________________________\n",
      "Layer (type)                 Output Shape              Param #   \n",
      "=================================================================\n",
      "conv2d (Conv2D)              (None, 48, 48, 32)        320       \n",
      "_________________________________________________________________\n",
      "conv2d_1 (Conv2D)            (None, 48, 48, 32)        9248      \n",
      "_________________________________________________________________\n",
      "max_pooling2d (MaxPooling2D) (None, 24, 24, 32)        0         \n",
      "_________________________________________________________________\n",
      "dropout (Dropout)            (None, 24, 24, 32)        0         \n",
      "_________________________________________________________________\n",
      "conv2d_2 (Conv2D)            (None, 24, 24, 64)        18496     \n",
      "_________________________________________________________________\n",
      "conv2d_3 (Conv2D)            (None, 24, 24, 64)        36928     \n",
      "_________________________________________________________________\n",
      "max_pooling2d_1 (MaxPooling2 (None, 12, 12, 64)        0         \n",
      "_________________________________________________________________\n",
      "dropout_1 (Dropout)          (None, 12, 12, 64)        0         \n",
      "_________________________________________________________________\n",
      "conv2d_4 (Conv2D)            (None, 12, 12, 128)       73856     \n",
      "_________________________________________________________________\n",
      "conv2d_5 (Conv2D)            (None, 12, 12, 128)       147584    \n",
      "_________________________________________________________________\n",
      "max_pooling2d_2 (MaxPooling2 (None, 6, 6, 128)         0         \n",
      "_________________________________________________________________\n",
      "dropout_2 (Dropout)          (None, 6, 6, 128)         0         \n",
      "_________________________________________________________________\n",
      "flatten (Flatten)            (None, 4608)              0         \n",
      "_________________________________________________________________\n",
      "dense (Dense)                (None, 512)               2359808   \n",
      "_________________________________________________________________\n",
      "dropout_3 (Dropout)          (None, 512)               0         \n",
      "_________________________________________________________________\n",
      "dense_1 (Dense)              (None, 256)               131328    \n",
      "_________________________________________________________________\n",
      "dropout_4 (Dropout)          (None, 256)               0         \n",
      "_________________________________________________________________\n",
      "dense_2 (Dense)              (None, 43)                11051     \n",
      "=================================================================\n",
      "Total params: 2,788,619\n",
      "Trainable params: 2,788,619\n",
      "Non-trainable params: 0\n",
      "_________________________________________________________________\n"
     ]
    }
   ],
   "source": [
    "model.summary()"
   ]
  },
  {
   "cell_type": "code",
   "execution_count": 43,
   "id": "0fed54b8",
   "metadata": {},
   "outputs": [
    {
     "name": "stdout",
     "output_type": "stream",
     "text": [
      "models loaded\n",
      "['dense_1']\n"
     ]
    }
   ],
   "source": [
    "ncComputor_model_1 = NCoverage(model, threshold=0.2,only_layers=[ 'dense_1']) #last hidden layer"
   ]
  },
  {
   "cell_type": "code",
   "execution_count": 44,
   "id": "b7ffce90",
   "metadata": {},
   "outputs": [
    {
     "name": "stdout",
     "output_type": "stream",
     "text": [
      "(35287, 48, 48, 1)\n"
     ]
    }
   ],
   "source": [
    "# number of total inputs\n",
    "print(x_train_and_adversary.shape)"
   ]
  },
  {
   "cell_type": "code",
   "execution_count": 45,
   "id": "eec35f81",
   "metadata": {},
   "outputs": [
    {
     "name": "stdout",
     "output_type": "stream",
     "text": [
      "WARNING:tensorflow:5 out of the last 280 calls to <function Model.make_predict_function.<locals>.predict_function at 0x000001B784725AF0> triggered tf.function retracing. Tracing is expensive and the excessive number of tracings could be due to (1) creating @tf.function repeatedly in a loop, (2) passing tensors with different shapes, (3) passing Python objects instead of tensors. For (1), please define your @tf.function outside of the loop. For (2), @tf.function has experimental_relax_shapes=True option that relaxes argument shapes that can avoid unnecessary retracing. For (3), please refer to https://www.tensorflow.org/guide/function#controlling_retracing and https://www.tensorflow.org/api_docs/python/tf/function for  more details.\n",
      "WARNING:tensorflow:6 out of the last 281 calls to <function Model.make_predict_function.<locals>.predict_function at 0x000001B7847254C0> triggered tf.function retracing. Tracing is expensive and the excessive number of tracings could be due to (1) creating @tf.function repeatedly in a loop, (2) passing tensors with different shapes, (3) passing Python objects instead of tensors. For (1), please define your @tf.function outside of the loop. For (2), @tf.function has experimental_relax_shapes=True option that relaxes argument shapes that can avoid unnecessary retracing. For (3), please refer to https://www.tensorflow.org/guide/function#controlling_retracing and https://www.tensorflow.org/api_docs/python/tf/function for  more details.\n",
      "--- 1544.8305699825287 seconds ---\n"
     ]
    }
   ],
   "source": [
    "import time\n",
    "start_time = time.time()\n",
    "nc_model_original_values_1 = [ncComputor_model_1.NC(tf.expand_dims(x, axis=0)) for x in x_train_and_adversary[:3000]]\n",
    "print(\"--- %s seconds ---\" % (time.time() - start_time))\n"
   ]
  },
  {
   "cell_type": "code",
   "execution_count": 46,
   "id": "f7f42ae7",
   "metadata": {},
   "outputs": [
    {
     "name": "stdout",
     "output_type": "stream",
     "text": [
      "--- 1559.3876414299011 seconds ---\n"
     ]
    }
   ],
   "source": [
    "start_time = time.time()\n",
    "nc_model_original_values_2 = [ncComputor_model_1.NC(tf.expand_dims(x, axis=0)) for x in x_train_and_adversary[3000:6000]]\n",
    "print(\"--- %s seconds ---\" % (time.time() - start_time))\n"
   ]
  },
  {
   "cell_type": "code",
   "execution_count": 47,
   "id": "6079222b",
   "metadata": {},
   "outputs": [
    {
     "data": {
      "text/plain": [
       "(35287, 48, 48, 1)"
      ]
     },
     "execution_count": 47,
     "metadata": {},
     "output_type": "execute_result"
    }
   ],
   "source": [
    "x_train_and_adversary.shape"
   ]
  },
  {
   "cell_type": "code",
   "execution_count": 48,
   "id": "5ef296f0",
   "metadata": {},
   "outputs": [],
   "source": [
    "nc_model_original_values_3 = [ncComputor_model_1.NC(tf.expand_dims(x, axis=0)) for x in x_train_and_adversary[6000:9000]]"
   ]
  },
  {
   "cell_type": "code",
   "execution_count": 51,
   "id": "503101de",
   "metadata": {},
   "outputs": [],
   "source": [
    "nc_values = [\n",
    "    nc_model_original_values_1,\n",
    "    nc_model_original_values_2,\n",
    "    nc_model_original_values_3\n",
    "]"
   ]
  },
  {
   "cell_type": "code",
   "execution_count": 52,
   "id": "cef50798",
   "metadata": {},
   "outputs": [
    {
     "name": "stdout",
     "output_type": "stream",
     "text": [
      "C:\\Users\\fjdur\\Documents\\upc-july\\data\\gtsrb\n"
     ]
    }
   ],
   "source": [
    "cd C:/Users/fjdur/Documents/upc-july/data/gtsrb"
   ]
  },
  {
   "cell_type": "code",
   "execution_count": 53,
   "id": "096b6b2f",
   "metadata": {},
   "outputs": [],
   "source": [
    "#Save nc values\n",
    "i=1\n",
    "for values in nc_values:\n",
    "    with open(dataset+'_nc_values_'+str(i)+'.npy', 'wb') as f:\n",
    "        np.save(f, np.array(values))\n",
    "    i+=1"
   ]
  },
  {
   "cell_type": "code",
   "execution_count": 54,
   "id": "7a6ba132",
   "metadata": {},
   "outputs": [],
   "source": [
    "nc_model_original_values_4 = [ncComputor_model_1.NC(tf.expand_dims(x, axis=0)) for x in x_train_and_adversary[9000:12000]]\n",
    "nc_model_original_values_5 = [ncComputor_model_1.NC(tf.expand_dims(x, axis=0)) for x in x_train_and_adversary[12000:15000]]\n",
    "nc_model_original_values_6 = [ncComputor_model_1.NC(tf.expand_dims(x, axis=0)) for x in x_train_and_adversary[15000:18000]]\n",
    "nc_model_original_values_7 = [ncComputor_model_1.NC(tf.expand_dims(x, axis=0)) for x in x_train_and_adversary[18000:21000]]"
   ]
  },
  {
   "cell_type": "code",
   "execution_count": 55,
   "id": "9641e91e",
   "metadata": {},
   "outputs": [],
   "source": [
    "nc_values = [\n",
    "    nc_model_original_values_4,\n",
    "    nc_model_original_values_5,\n",
    "    nc_model_original_values_6,\n",
    "    nc_model_original_values_7\n",
    "]"
   ]
  },
  {
   "cell_type": "code",
   "execution_count": 56,
   "id": "fcf114c6",
   "metadata": {},
   "outputs": [],
   "source": [
    "#Save nc values\n",
    "i=4\n",
    "for values in nc_values:\n",
    "    with open(dataset+'_nc_values_'+str(i)+'.npy', 'wb') as f:\n",
    "        np.save(f, np.array(values))\n",
    "    i+=1"
   ]
  },
  {
   "cell_type": "code",
   "execution_count": 57,
   "id": "f0e55b87",
   "metadata": {},
   "outputs": [
    {
     "name": "stdout",
     "output_type": "stream",
     "text": [
      "--- 1638.7706694602966 seconds ---\n",
      "--- 3373.7903110980988 seconds ---\n",
      "--- 5016.764564990997 seconds ---\n"
     ]
    }
   ],
   "source": [
    "start_time = time.time()\n",
    "nc_model_original_values_8 = [ncComputor_model_1.NC(tf.expand_dims(x, axis=0)) for x in x_train_and_adversary[21000:24000]]\n",
    "print(\"--- %s seconds ---\" % (time.time() - start_time))\n",
    "\n",
    "nc_model_original_values_9 = [ncComputor_model_1.NC(tf.expand_dims(x, axis=0)) for x in x_train_and_adversary[24000:27000]]\n",
    "print(\"--- %s seconds ---\" % (time.time() - start_time))\n",
    "\n",
    "nc_model_original_values_10 = [ncComputor_model_1.NC(tf.expand_dims(x, axis=0)) for x in x_train_and_adversary[27000:30000]]\n",
    "print(\"--- %s seconds ---\" % (time.time() - start_time))\n"
   ]
  },
  {
   "cell_type": "code",
   "execution_count": 58,
   "id": "8f8a7816",
   "metadata": {},
   "outputs": [],
   "source": [
    "nc_values = [\n",
    "    nc_model_original_values_8,\n",
    "    nc_model_original_values_9,\n",
    "    nc_model_original_values_10\n",
    "]"
   ]
  },
  {
   "cell_type": "code",
   "execution_count": 59,
   "id": "bcdfa37f",
   "metadata": {},
   "outputs": [],
   "source": [
    "#Save nc values\n",
    "i=8\n",
    "for values in nc_values:\n",
    "    with open(dataset+'_nc_values_'+str(i)+'.npy', 'wb') as f:\n",
    "        np.save(f, np.array(values))\n",
    "    i+=1"
   ]
  },
  {
   "cell_type": "code",
   "execution_count": 60,
   "id": "0eb977fd",
   "metadata": {},
   "outputs": [],
   "source": [
    "nc_model_original_values_11 = [ncComputor_model_1.NC(tf.expand_dims(x, axis=0)) for x in x_train_and_adversary[30000:33000]]\n",
    "nc_model_original_values_12 = [ncComputor_model_1.NC(tf.expand_dims(x, axis=0)) for x in x_train_and_adversary[33000:]]\n"
   ]
  },
  {
   "cell_type": "code",
   "execution_count": 61,
   "id": "29222252",
   "metadata": {},
   "outputs": [],
   "source": [
    "nc_values = [\n",
    "    nc_model_original_values_11,\n",
    "    nc_model_original_values_12\n",
    "]"
   ]
  },
  {
   "cell_type": "code",
   "execution_count": 62,
   "id": "b926300a",
   "metadata": {},
   "outputs": [
    {
     "data": {
      "text/plain": [
       "(35287, 48, 48, 1)"
      ]
     },
     "execution_count": 62,
     "metadata": {},
     "output_type": "execute_result"
    }
   ],
   "source": [
    "x_train_and_adversary.shape"
   ]
  },
  {
   "cell_type": "code",
   "execution_count": 63,
   "id": "7104e1c3",
   "metadata": {},
   "outputs": [],
   "source": [
    "#Save nc values\n",
    "i=11\n",
    "for values in nc_values:\n",
    "    with open(dataset+'_nc_values_'+str(i)+'.npy', 'wb') as f:\n",
    "        np.save(f, np.array(values))\n",
    "    i+=1"
   ]
  },
  {
   "cell_type": "code",
   "execution_count": null,
   "id": "3326f4b0",
   "metadata": {},
   "outputs": [],
   "source": []
  },
  {
   "cell_type": "markdown",
   "id": "38f1a214",
   "metadata": {},
   "source": [
    "## Uncertainty"
   ]
  },
  {
   "cell_type": "code",
   "execution_count": 64,
   "id": "646bc36f",
   "metadata": {},
   "outputs": [],
   "source": [
    "from tensorflow.keras import layers\n",
    "from tensorflow import keras"
   ]
  },
  {
   "cell_type": "code",
   "execution_count": 65,
   "id": "0be6d988",
   "metadata": {},
   "outputs": [],
   "source": [
    "# Guardar el Modelo\n",
    "model_dir = \"C:/Users/fjdur/Documents/upc-july/models/model_\"+dataset+\".h5\"\n",
    "\n",
    "model.save(model_dir)\n",
    "\n"
   ]
  },
  {
   "cell_type": "code",
   "execution_count": 66,
   "id": "fc1d7a81",
   "metadata": {},
   "outputs": [
    {
     "name": "stdout",
     "output_type": "stream",
     "text": [
      "123/123 [==============================] - 8s 65ms/step - loss: 0.0293 - accuracy: 0.9929\n"
     ]
    },
    {
     "data": {
      "text/plain": [
       "[0.029302377253770828, 0.9928625822067261]"
      ]
     },
     "execution_count": 66,
     "metadata": {},
     "output_type": "execute_result"
    }
   ],
   "source": [
    "model.evaluate(x_test,y_test)"
   ]
  },
  {
   "cell_type": "code",
   "execution_count": 67,
   "id": "5ca1b107",
   "metadata": {},
   "outputs": [],
   "source": [
    "model_dir = \"C:/Users/fjdur/Documents/upc-july/models/model_\"+dataset+\".h5\"\n",
    "\n",
    "model_original_functional = keras.models.load_model(model_dir)"
   ]
  },
  {
   "cell_type": "code",
   "execution_count": 68,
   "id": "91e826e0",
   "metadata": {},
   "outputs": [
    {
     "name": "stdout",
     "output_type": "stream",
     "text": [
      "123/123 [==============================] - 8s 64ms/step - loss: 0.0293 - accuracy: 0.9929\n"
     ]
    },
    {
     "data": {
      "text/plain": [
       "[0.029302377253770828, 0.9928625822067261]"
      ]
     },
     "execution_count": 68,
     "metadata": {},
     "output_type": "execute_result"
    }
   ],
   "source": [
    "model_original_functional.evaluate(x_test,y_test)"
   ]
  },
  {
   "cell_type": "code",
   "execution_count": 69,
   "id": "8be0f7d6",
   "metadata": {},
   "outputs": [],
   "source": [
    "try:\n",
    "  import uncertainty_wizard as uwiz\n",
    "except ModuleNotFoundError as e:\n",
    "  # Uncertainty wizard was not installed. Install it now (we're probably on colab)\n",
    "  !pip install uncertainty_wizard\n",
    "  import uncertainty_wizard as uwiz"
   ]
  },
  {
   "cell_type": "code",
   "execution_count": 70,
   "id": "e2beecfa",
   "metadata": {},
   "outputs": [
    {
     "data": {
      "text/plain": [
       "tensorflow.python.keras.engine.sequential.Sequential"
      ]
     },
     "execution_count": 70,
     "metadata": {},
     "output_type": "execute_result"
    }
   ],
   "source": [
    "type(model_original_functional)"
   ]
  },
  {
   "cell_type": "code",
   "execution_count": 71,
   "id": "e8727ac0",
   "metadata": {},
   "outputs": [],
   "source": [
    "stochastic_model2 = uwiz.models.stochastic_from_keras(model_original_functional)\n"
   ]
  },
  {
   "cell_type": "code",
   "execution_count": 72,
   "id": "3eb4b300",
   "metadata": {},
   "outputs": [
    {
     "name": "stdout",
     "output_type": "stream",
     "text": [
      "552/552 [==============================] - 68s 123ms/step\n"
     ]
    }
   ],
   "source": [
    "quantifiers = ['deep_gini']\n",
    "results_1 = stochastic_model2.predict_quantified(x_train_and_adversary,\n",
    "                                   quantifier=quantifiers,\n",
    "                                   batch_size=64,\n",
    "                                   sample_size=32,\n",
    "                                   verbose=1)"
   ]
  },
  {
   "cell_type": "code",
   "execution_count": 73,
   "id": "effcfbd8",
   "metadata": {},
   "outputs": [
    {
     "name": "stdout",
     "output_type": "stream",
     "text": [
      "552/552 [==============================] - 66s 119ms/step\n"
     ]
    }
   ],
   "source": [
    "quantifiers = [ 'softmax_entropy']\n",
    "results_2 = stochastic_model2.predict_quantified(x_train_and_adversary,\n",
    "                                   quantifier=quantifiers,\n",
    "                                   batch_size=64,\n",
    "                                   sample_size=32,\n",
    "                                   verbose=1)"
   ]
  },
  {
   "cell_type": "code",
   "execution_count": 74,
   "id": "3b9885bd",
   "metadata": {},
   "outputs": [
    {
     "data": {
      "text/plain": [
       "35287"
      ]
     },
     "execution_count": 74,
     "metadata": {},
     "output_type": "execute_result"
    }
   ],
   "source": [
    "len(x_train_and_adversary)"
   ]
  },
  {
   "cell_type": "code",
   "execution_count": 75,
   "id": "37fa8edb",
   "metadata": {},
   "outputs": [],
   "source": [
    "#deep_gini_values = results[0][1]\n",
    "#softmax_values = results[1][1]\n",
    "\n",
    "deep_gini_values = results_1[0][1]\n",
    "softmax_values = results_2[0][1]"
   ]
  },
  {
   "cell_type": "code",
   "execution_count": 76,
   "id": "ad9da949",
   "metadata": {},
   "outputs": [
    {
     "name": "stdout",
     "output_type": "stream",
     "text": [
      "(35287,)\n",
      "(35287,)\n"
     ]
    }
   ],
   "source": [
    "print(deep_gini_values.shape)\n",
    "print(softmax_values.shape)"
   ]
  },
  {
   "cell_type": "code",
   "execution_count": 77,
   "id": "7fd3bde6",
   "metadata": {},
   "outputs": [],
   "source": [
    "save_dir = \"C:/Users/fjdur/Documents/upc-july/data/\"+dataset+\"/deep_gini_values.npy\"\n",
    "np.save(save_dir,np.array(deep_gini_values))\n",
    "\n",
    "save_dir = \"C:/Users/fjdur/Documents/upc-july/data/\"+dataset+\"/softmax_values.npy\"\n",
    "np.save(save_dir,np.array(softmax_values))"
   ]
  },
  {
   "cell_type": "code",
   "execution_count": null,
   "id": "78e640c2",
   "metadata": {},
   "outputs": [],
   "source": [
    "softmax_values[-15:]"
   ]
  },
  {
   "cell_type": "code",
   "execution_count": null,
   "id": "7189dd65",
   "metadata": {},
   "outputs": [],
   "source": [
    "softmax_values[:15]"
   ]
  },
  {
   "cell_type": "code",
   "execution_count": 76,
   "id": "5ceb0a2b",
   "metadata": {},
   "outputs": [
    {
     "data": {
      "text/plain": [
       "array([[0., 0., 0., 0., 0., 0., 0., 1., 0., 0.],\n",
       "       [0., 0., 0., 0., 0., 0., 0., 0., 0., 1.],\n",
       "       [0., 0., 1., 0., 0., 0., 0., 0., 0., 0.],\n",
       "       [0., 0., 0., 0., 1., 0., 0., 0., 0., 0.],\n",
       "       [0., 0., 0., 0., 0., 1., 0., 0., 0., 0.],\n",
       "       [0., 0., 0., 0., 0., 0., 1., 0., 0., 0.],\n",
       "       [0., 0., 0., 0., 1., 0., 0., 0., 0., 0.],\n",
       "       [1., 0., 0., 0., 0., 0., 0., 0., 0., 0.],\n",
       "       [0., 0., 0., 0., 0., 0., 0., 0., 0., 1.],\n",
       "       [0., 0., 0., 1., 0., 0., 0., 0., 0., 0.]], dtype=float32)"
      ]
     },
     "execution_count": 76,
     "metadata": {},
     "output_type": "execute_result"
    }
   ],
   "source": [
    "y_test_and_adversary[:10]"
   ]
  },
  {
   "cell_type": "code",
   "execution_count": null,
   "id": "f93c81b5",
   "metadata": {},
   "outputs": [],
   "source": [
    "# results[0][0] contains the point-predictions from the 'pcs' quantifier\n",
    "#     (i.e., argmax of a single non-randomized network forward pass)\n",
    "# results[0][1] contains the prediction confidence scores for these predictions\n",
    "\n",
    "# results[1][0] contains the predictions from the 'mean_softmax' quantifier\n",
    "#     (i.e., argmax of 32 averages forward pass samples on the randomized DNN)\n",
    "# results[1][1] contains the corresponding confidence\n",
    "#     (i.e., the average softmax value of the class with the highest average softmax value)"
   ]
  },
  {
   "cell_type": "code",
   "execution_count": 30,
   "id": "8e79942f",
   "metadata": {},
   "outputs": [
    {
     "name": "stdout",
     "output_type": "stream",
     "text": [
      "[7 9 2 ... 8 4 9]\n"
     ]
    }
   ],
   "source": [
    "print(results[0][0])"
   ]
  },
  {
   "cell_type": "code",
   "execution_count": 78,
   "id": "39ef4e1c",
   "metadata": {},
   "outputs": [
    {
     "name": "stdout",
     "output_type": "stream",
     "text": [
      "[1.5463616e-04 1.9838268e-01 1.0098722e-03 6.1843824e-01 1.5649363e-02\n",
      " 3.0791519e-02 1.7598845e-02 2.3867244e-05 4.7011952e-07 7.2639450e-06\n",
      " 2.4672965e-05 2.4710948e-07 2.8708859e-05 7.4917531e-01 1.1955755e-02]\n",
      "[0.16717713 0.40944645 2.3119917  0.21343209 0.6736572  0.0310397\n",
      " 0.6719951  1.2669243  0.01966682 1.9966614  0.97211266 0.07036015\n",
      " 0.98849934 0.64909196 1.377052  ]\n"
     ]
    }
   ],
   "source": [
    "print(results_2[0][1][:15])\n",
    "print(results_2[0][1][-15:])"
   ]
  },
  {
   "cell_type": "code",
   "execution_count": 80,
   "id": "99879f9d",
   "metadata": {},
   "outputs": [
    {
     "name": "stdout",
     "output_type": "stream",
     "text": [
      "[1.5974045e-05 5.4982126e-02 1.1563301e-04 2.0268744e-01 2.4631619e-03\n",
      " 6.1262846e-03 3.2230616e-03 2.1457672e-06 0.0000000e+00 4.7683716e-07\n",
      " 2.1457672e-06 0.0000000e+00 2.6226044e-06 2.3311919e-01 2.0952225e-03]\n",
      "[0.03549308 0.10513455 0.7360556  0.04261881 0.16043854 0.0056935\n",
      " 0.2402224  0.34408778 0.00295168 0.5682963  0.45457488 0.01497811\n",
      " 0.43309665 0.17329419 0.4262073 ]\n"
     ]
    }
   ],
   "source": [
    "print(results_1[0][1][:15])\n",
    "print(results_1[0][1][-15:])"
   ]
  },
  {
   "cell_type": "code",
   "execution_count": null,
   "id": "6abcc8b4",
   "metadata": {},
   "outputs": [],
   "source": []
  }
 ],
 "metadata": {
  "kernelspec": {
   "display_name": "Python 3 (ipykernel)",
   "language": "python",
   "name": "python3"
  },
  "language_info": {
   "codemirror_mode": {
    "name": "ipython",
    "version": 3
   },
   "file_extension": ".py",
   "mimetype": "text/x-python",
   "name": "python",
   "nbconvert_exporter": "python",
   "pygments_lexer": "ipython3",
   "version": "3.9.7"
  }
 },
 "nbformat": 4,
 "nbformat_minor": 5
}
