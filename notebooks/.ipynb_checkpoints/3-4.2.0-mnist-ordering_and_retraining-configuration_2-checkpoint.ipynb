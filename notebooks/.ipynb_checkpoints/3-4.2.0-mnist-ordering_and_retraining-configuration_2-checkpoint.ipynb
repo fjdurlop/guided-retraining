{
 "cells": [
  {
   "cell_type": "markdown",
   "id": "f216e2a2",
   "metadata": {},
   "source": [
    "# Ordering by metrics and retraining phase\n",
    "\n",
    "## Dataset: Intel"
   ]
  },
  {
   "cell_type": "markdown",
   "id": "790af13b",
   "metadata": {},
   "source": [
    "## Experiment configuration 1\n"
   ]
  },
  {
   "cell_type": "markdown",
   "id": "21a98552",
   "metadata": {},
   "source": [
    "## Configuration 1\n",
    "\t1. Incremental guided retraining starting from scratch using the new adversarial inputs and original training set"
   ]
  },
  {
   "cell_type": "code",
   "execution_count": null,
   "id": "90383afd",
   "metadata": {},
   "outputs": [],
   "source": [
    "#pip install --user tensorflow==2.5"
   ]
  },
  {
   "cell_type": "code",
   "execution_count": 1,
   "id": "ce1386e9",
   "metadata": {},
   "outputs": [],
   "source": [
    "import argparse\n",
    "\n",
    "import numpy as np\n",
    "import tensorflow as tf\n",
    "import keras.backend as K\n",
    "\n",
    "import matplotlib.pyplot as plt\n",
    "\n",
    "from keras.utils import np_utils\n",
    "from keras.models import Sequential\n",
    "from keras.layers import Dense, Dropout, Activation, Flatten, Conv2D, MaxPooling2D\n",
    "from keras.regularizers import l2\n",
    "\n",
    "import glob\n",
    "import os\n",
    "import cv2\n",
    "import keras\n",
    "\n",
    "\n",
    "import time\n",
    "import argparse\n",
    "\n",
    "from tqdm import tqdm\n",
    "\n",
    "from keras.models import load_model, Model\n"
   ]
  },
  {
   "cell_type": "code",
   "execution_count": 2,
   "id": "aa0aa2b2",
   "metadata": {},
   "outputs": [
    {
     "data": {
      "text/plain": [
       "True"
      ]
     },
     "execution_count": 2,
     "metadata": {},
     "output_type": "execute_result"
    }
   ],
   "source": [
    "tf.__version__ == '2.5.0' # Version of tensorflow"
   ]
  },
  {
   "cell_type": "code",
   "execution_count": 3,
   "id": "fa923a43",
   "metadata": {},
   "outputs": [
    {
     "name": "stdout",
     "output_type": "stream",
     "text": [
      "C:\\Users\\fjdur\\Documents\\utils\n"
     ]
    }
   ],
   "source": [
    "cd C:/Users/fjdur/Documents/utils/"
   ]
  },
  {
   "cell_type": "code",
   "execution_count": 4,
   "id": "723735cb",
   "metadata": {},
   "outputs": [
    {
     "name": "stdout",
     "output_type": "stream",
     "text": [
      "2.5.0\n",
      "keras\n",
      "2.5.0\n"
     ]
    }
   ],
   "source": [
    "# utils for project\n",
    "import utils_guided_retraining as utils"
   ]
  },
  {
   "cell_type": "code",
   "execution_count": 5,
   "id": "1c6a307c",
   "metadata": {},
   "outputs": [],
   "source": [
    "#cd '../notebooks/'"
   ]
  },
  {
   "cell_type": "code",
   "execution_count": 6,
   "id": "de1bd2cb",
   "metadata": {},
   "outputs": [],
   "source": [
    "dataset = \"mnist\""
   ]
  },
  {
   "cell_type": "code",
   "execution_count": 7,
   "id": "50c2b3f3",
   "metadata": {},
   "outputs": [],
   "source": [
    "x_train,y_train = utils.get_data(dataset,\"Train\")\n",
    "x_val,y_val = utils.get_data(dataset,\"Val\")\n",
    "x_test,y_test = utils.get_data(dataset,\"Test\")"
   ]
  },
  {
   "cell_type": "code",
   "execution_count": 8,
   "id": "e6f6f8a7",
   "metadata": {},
   "outputs": [],
   "source": [
    "x_train_and_adversary,y_train_and_adversary = utils.get_data(dataset,\"Train_and_adversary\")"
   ]
  },
  {
   "cell_type": "code",
   "execution_count": 9,
   "id": "53dcdf78",
   "metadata": {},
   "outputs": [
    {
     "name": "stdout",
     "output_type": "stream",
     "text": [
      "6999\n",
      "6999\n"
     ]
    }
   ],
   "source": [
    "x_adversary_training = x_train_and_adversary[len(x_train):]\n",
    "print(len(x_adversary_training))\n",
    "y_adversary_training = y_train_and_adversary[len(y_train):]\n",
    "\n",
    "print(len(y_adversary_training))"
   ]
  },
  {
   "cell_type": "code",
   "execution_count": 10,
   "id": "d8fd2c92",
   "metadata": {},
   "outputs": [],
   "source": [
    "# Obtaining adversarial examples for testing \n",
    "x_test_and_adversary,y_test_and_adversary = utils.get_adversarial_data(dataset,'Test_adversarial') "
   ]
  },
  {
   "cell_type": "code",
   "execution_count": 11,
   "id": "c27698e5",
   "metadata": {},
   "outputs": [
    {
     "name": "stdout",
     "output_type": "stream",
     "text": [
      "6999\n",
      "6999\n"
     ]
    }
   ],
   "source": [
    "x_adversary_test = x_test_and_adversary[len(x_test):]\n",
    "print(len(x_adversary_test))\n",
    "y_adversary_test = y_test_and_adversary[len(y_test):]\n",
    "\n",
    "print(len(y_adversary_test))"
   ]
  },
  {
   "cell_type": "markdown",
   "id": "becb4e3b",
   "metadata": {},
   "source": [
    "## ----"
   ]
  },
  {
   "cell_type": "code",
   "execution_count": 12,
   "id": "c1560941",
   "metadata": {},
   "outputs": [],
   "source": [
    "# Original model \n",
    "\n",
    "model_dir = \"C:/Users/fjdur/Documents/upc-july/models/tf_model_25-06/\"\n",
    "if(dataset == 'gtsrb'):\n",
    "    model_dir = \"C:/Users/fjdur/Documents/upc-july/models/tf_model_25-06\"\n",
    "elif(dataset == 'intel'):\n",
    "    model_dir = \"C:/Users/fjdur/Documents/upc-july/models/intel_model_21_10\"\n",
    "elif(dataset == 'mnist'):\n",
    "    model_dir = \"C:/Users/fjdur/Documents/upc-july/models/models2\"\n",
    "elif(dataset == 'cifar'):\n",
    "    model_dir = \"C:/Users/fjdur/Documents/upc-july/models/model_02\"\n"
   ]
  },
  {
   "cell_type": "code",
   "execution_count": 13,
   "id": "e5478616",
   "metadata": {},
   "outputs": [
    {
     "name": "stdout",
     "output_type": "stream",
     "text": [
      "C:/Users/fjdur/Documents/upc-july/models/models2\n",
      "Model loaded correctly\n"
     ]
    }
   ],
   "source": [
    "print(model_dir)\n",
    "model_original = utils.My_model(dataset,True, model_dir)"
   ]
  },
  {
   "cell_type": "code",
   "execution_count": null,
   "id": "a81f5589",
   "metadata": {},
   "outputs": [],
   "source": []
  },
  {
   "cell_type": "code",
   "execution_count": 14,
   "id": "8ea0bc17",
   "metadata": {},
   "outputs": [
    {
     "name": "stdout",
     "output_type": "stream",
     "text": [
      "(55998, 28, 28, 1)\n"
     ]
    },
    {
     "data": {
      "text/plain": [
       "2799"
      ]
     },
     "execution_count": 14,
     "metadata": {},
     "output_type": "execute_result"
    }
   ],
   "source": [
    "print(x_train_and_adversary.shape)\n",
    "len(x_train_and_adversary)//20"
   ]
  },
  {
   "cell_type": "code",
   "execution_count": 15,
   "id": "983373d2",
   "metadata": {},
   "outputs": [],
   "source": [
    "n_data_points = 2800"
   ]
  },
  {
   "cell_type": "markdown",
   "id": "78edd1c7",
   "metadata": {},
   "source": [
    "## Loading LSA and DSA values "
   ]
  },
  {
   "cell_type": "code",
   "execution_count": 16,
   "id": "dd62896d",
   "metadata": {},
   "outputs": [],
   "source": [
    "lsa_direction = \"C:/Users/fjdur/Documents/upc-july/data/\"+dataset+\"/lsa_values.npy\""
   ]
  },
  {
   "cell_type": "code",
   "execution_count": null,
   "id": "d62da548",
   "metadata": {},
   "outputs": [],
   "source": []
  },
  {
   "cell_type": "code",
   "execution_count": 17,
   "id": "cbe684c7",
   "metadata": {},
   "outputs": [],
   "source": [
    "lsa_values = np.load(lsa_direction)\n"
   ]
  },
  {
   "cell_type": "code",
   "execution_count": 18,
   "id": "c0ec186e",
   "metadata": {},
   "outputs": [],
   "source": [
    "\n",
    "# Obtaining top n images by LSA values\n",
    "top_images_by_lsa = utils.get_x_of_indexes(list(np.flip(np.argsort(lsa_values))),x_train_and_adversary)\n",
    "top_labels_by_lsa = utils.get_x_of_indexes(list(np.flip(np.argsort(lsa_values))),y_train_and_adversary)\n"
   ]
  },
  {
   "cell_type": "code",
   "execution_count": 19,
   "id": "262a4841",
   "metadata": {},
   "outputs": [
    {
     "name": "stdout",
     "output_type": "stream",
     "text": [
      "0 :\n",
      "0  ->  2800\n",
      "2800\n",
      "1 :\n",
      "0  ->  5600\n",
      "5600\n",
      "2 :\n",
      "0  ->  8400\n",
      "8400\n",
      "3 :\n",
      "0  ->  11200\n",
      "11200\n",
      "4 :\n",
      "0  ->  14000\n",
      "14000\n",
      "5 :\n",
      "0  ->  16800\n",
      "16800\n",
      "6 :\n",
      "0  ->  19600\n",
      "19600\n",
      "7 :\n",
      "0  ->  22400\n",
      "22400\n",
      "8 :\n",
      "0  ->  25200\n",
      "25200\n",
      "9 :\n",
      "0  ->  28000\n",
      "28000\n",
      "10 :\n",
      "0  ->  30800\n",
      "30800\n",
      "11 :\n",
      "0  ->  33600\n",
      "33600\n",
      "12 :\n",
      "0  ->  36400\n",
      "36400\n",
      "13 :\n",
      "0  ->  39200\n",
      "39200\n",
      "14 :\n",
      "0  ->  42000\n",
      "42000\n",
      "15 :\n",
      "0  ->  44800\n",
      "44800\n",
      "16 :\n",
      "0  ->  47600\n",
      "47600\n",
      "17 :\n",
      "0  ->  50400\n",
      "50400\n",
      "18 :\n",
      "0  ->  53200\n",
      "53200\n",
      "19 :\n",
      "Last\n",
      "0  ->  58798\n",
      "55998\n"
     ]
    }
   ],
   "source": [
    "m = n_data_points\n",
    "n = 0\n",
    "image_sets_lsa = []\n",
    "label_sets_lsa = []\n",
    "\n",
    "# last\n",
    "#for i in range(0,len(top_images_by_lsa)//m):\n",
    "\n",
    "for i in range((len(top_images_by_lsa)//m)+1):\n",
    "    print(i,\":\")\n",
    "    if (i+1 >= ((len(top_images_by_lsa)//m)+1)):\n",
    "        print(\"Last\")\n",
    "        print(0,\" -> \",n+m+(len(top_images_by_lsa)%m))\n",
    "        top_images_by_lsa_n = np.array(top_images_by_lsa[:n+m+(len(top_images_by_lsa)%m)])\n",
    "        top_labels_by_lsa_n = np.array(top_labels_by_lsa[:n+m+(len(top_images_by_lsa)%m)])\n",
    "    else:\n",
    "        print(0,\" -> \",m+n)\n",
    "        top_images_by_lsa_n = np.array(top_images_by_lsa[:n+m])\n",
    "        top_labels_by_lsa_n = np.array(top_labels_by_lsa[:n+m])\n",
    "    image_sets_lsa.append(top_images_by_lsa_n)\n",
    "    label_sets_lsa.append(top_labels_by_lsa_n)\n",
    "    print(len(top_images_by_lsa_n))\n",
    "    n += m"
   ]
  },
  {
   "cell_type": "code",
   "execution_count": 20,
   "id": "55e3a060",
   "metadata": {},
   "outputs": [
    {
     "data": {
      "text/plain": [
       "20"
      ]
     },
     "execution_count": 20,
     "metadata": {},
     "output_type": "execute_result"
    }
   ],
   "source": [
    "len(image_sets_lsa)"
   ]
  },
  {
   "cell_type": "markdown",
   "id": "ed06a68e",
   "metadata": {},
   "source": [
    "## Training guided by LSA"
   ]
  },
  {
   "cell_type": "code",
   "execution_count": 21,
   "id": "9fa4de5c",
   "metadata": {},
   "outputs": [
    {
     "data": {
      "text/plain": [
       "20"
      ]
     },
     "execution_count": 21,
     "metadata": {},
     "output_type": "execute_result"
    }
   ],
   "source": [
    "len(label_sets_lsa)"
   ]
  },
  {
   "cell_type": "code",
   "execution_count": 22,
   "id": "daef1b47",
   "metadata": {},
   "outputs": [
    {
     "name": "stdout",
     "output_type": "stream",
     "text": [
      "C:/Users/fjdur/Documents/upc-july/models/models2\n",
      "0 :\n",
      "Model loaded correctly\n",
      "Model compiled\n",
      "1 :\n",
      "Model loaded correctly\n",
      "Model compiled\n",
      "2 :\n",
      "Model loaded correctly\n",
      "Model compiled\n",
      "3 :\n",
      "Model loaded correctly\n",
      "Model compiled\n",
      "4 :\n",
      "Model loaded correctly\n",
      "Model compiled\n",
      "5 :\n",
      "Model loaded correctly\n",
      "Model compiled\n",
      "6 :\n",
      "Model loaded correctly\n",
      "Model compiled\n",
      "7 :\n",
      "Model loaded correctly\n",
      "Model compiled\n",
      "8 :\n",
      "Model loaded correctly\n",
      "Model compiled\n",
      "9 :\n",
      "Model loaded correctly\n",
      "Model compiled\n",
      "10 :\n",
      "Model loaded correctly\n",
      "Model compiled\n",
      "11 :\n",
      "Model loaded correctly\n",
      "Model compiled\n",
      "12 :\n",
      "Model loaded correctly\n",
      "Model compiled\n",
      "13 :\n",
      "Model loaded correctly\n",
      "Model compiled\n",
      "14 :\n",
      "Model loaded correctly\n",
      "Model compiled\n",
      "15 :\n",
      "Model loaded correctly\n",
      "Model compiled\n",
      "16 :\n",
      "Model loaded correctly\n",
      "Model compiled\n",
      "17 :\n",
      "Model loaded correctly\n",
      "Model compiled\n",
      "18 :\n",
      "Model loaded correctly\n",
      "Model compiled\n",
      "19 :\n",
      "Model loaded correctly\n",
      "Model compiled\n"
     ]
    }
   ],
   "source": [
    "print(model_dir)\n",
    "\n",
    "models_lsa = []\n",
    "for i in range(len(label_sets_lsa)):\n",
    "    print(i,\":\")\n",
    "    model = utils.My_model(dataset,True,model_dir)\n",
    "    model.compile_model()\n",
    "    models_lsa.append(model)\n"
   ]
  },
  {
   "cell_type": "code",
   "execution_count": 23,
   "id": "3665e51c",
   "metadata": {},
   "outputs": [
    {
     "name": "stdout",
     "output_type": "stream",
     "text": [
      "Epoch 1/10\n",
      "44/44 [==============================] - 57s 338ms/step - loss: 0.3572 - accuracy: 0.9372 - val_loss: 0.0659 - val_accuracy: 0.9831\n",
      "Epoch 2/10\n",
      "44/44 [==============================] - 13s 302ms/step - loss: 0.1903 - accuracy: 0.9578 - val_loss: 0.0491 - val_accuracy: 0.9861\n",
      "Epoch 3/10\n",
      "44/44 [==============================] - 13s 302ms/step - loss: 0.1458 - accuracy: 0.9620 - val_loss: 0.0525 - val_accuracy: 0.9857\n",
      "Epoch 4/10\n",
      "44/44 [==============================] - 10s 239ms/step - loss: 0.1558 - accuracy: 0.9690 - val_loss: 0.0510 - val_accuracy: 0.9862\n",
      "Epoch 5/10\n",
      "44/44 [==============================] - 9s 201ms/step - loss: 0.1324 - accuracy: 0.9601 - val_loss: 0.0852 - val_accuracy: 0.9804\n",
      "Epoch 6/10\n",
      "44/44 [==============================] - 9s 198ms/step - loss: 0.0862 - accuracy: 0.9770 - val_loss: 0.1000 - val_accuracy: 0.9771\n",
      "Epoch 7/10\n",
      "44/44 [==============================] - 9s 197ms/step - loss: 0.0919 - accuracy: 0.9751 - val_loss: 0.0802 - val_accuracy: 0.9802\n",
      "Epoch 8/10\n",
      "44/44 [==============================] - 8s 192ms/step - loss: 0.1006 - accuracy: 0.9775 - val_loss: 0.0482 - val_accuracy: 0.9870\n",
      "Epoch 9/10\n",
      "44/44 [==============================] - 8s 192ms/step - loss: 0.0753 - accuracy: 0.9783 - val_loss: 0.0852 - val_accuracy: 0.9784\n",
      "Epoch 10/10\n",
      "44/44 [==============================] - 8s 191ms/step - loss: 0.0715 - accuracy: 0.9795 - val_loss: 0.0960 - val_accuracy: 0.9764\n",
      "Duration: 0:02:26.148694\n"
     ]
    }
   ],
   "source": [
    "n = 0\n",
    "models_lsa[n].fit_model(image_sets_lsa[n],label_sets_lsa[n],x_val,y_val,epochs=10,batch_size = 64)\n",
    "n=n+1"
   ]
  },
  {
   "cell_type": "code",
   "execution_count": 24,
   "id": "c2f79099",
   "metadata": {},
   "outputs": [
    {
     "name": "stdout",
     "output_type": "stream",
     "text": [
      "Epoch 1/10\n",
      "88/88 [==============================] - 14s 145ms/step - loss: 0.1771 - accuracy: 0.9622 - val_loss: 0.0488 - val_accuracy: 0.9859\n",
      "Epoch 2/10\n",
      "88/88 [==============================] - 12s 141ms/step - loss: 0.1116 - accuracy: 0.9747 - val_loss: 0.1055 - val_accuracy: 0.9773\n",
      "Epoch 3/10\n",
      "88/88 [==============================] - 12s 141ms/step - loss: 0.1411 - accuracy: 0.9674 - val_loss: 0.0806 - val_accuracy: 0.9772\n",
      "Epoch 4/10\n",
      "88/88 [==============================] - 12s 141ms/step - loss: 0.1063 - accuracy: 0.9718 - val_loss: 0.0609 - val_accuracy: 0.9831\n",
      "Epoch 5/10\n",
      "88/88 [==============================] - 12s 141ms/step - loss: 0.0810 - accuracy: 0.9787 - val_loss: 0.1278 - val_accuracy: 0.9694\n",
      "Epoch 6/10\n",
      "88/88 [==============================] - 12s 141ms/step - loss: 0.0909 - accuracy: 0.9773 - val_loss: 0.0881 - val_accuracy: 0.9775\n",
      "Epoch 7/10\n",
      "88/88 [==============================] - 12s 141ms/step - loss: 0.0707 - accuracy: 0.9817 - val_loss: 0.0953 - val_accuracy: 0.9771\n",
      "Epoch 8/10\n",
      "88/88 [==============================] - 12s 141ms/step - loss: 0.0616 - accuracy: 0.9849 - val_loss: 0.1521 - val_accuracy: 0.9619\n",
      "Epoch 9/10\n",
      "88/88 [==============================] - 12s 141ms/step - loss: 0.0663 - accuracy: 0.9864 - val_loss: 0.0996 - val_accuracy: 0.9753\n",
      "Epoch 10/10\n",
      "88/88 [==============================] - 12s 142ms/step - loss: 0.0490 - accuracy: 0.9884 - val_loss: 0.0845 - val_accuracy: 0.9762\n",
      "Duration: 0:02:05.603317\n"
     ]
    }
   ],
   "source": [
    "n=1\n",
    "models_lsa[n].fit_model(image_sets_lsa[n],label_sets_lsa[n],x_val,y_val,epochs=10,batch_size = 64)\n",
    "n = n+1"
   ]
  },
  {
   "cell_type": "code",
   "execution_count": 25,
   "id": "d9f7fa66",
   "metadata": {},
   "outputs": [
    {
     "name": "stdout",
     "output_type": "stream",
     "text": [
      "2\n",
      "Epoch 1/10\n",
      "132/132 [==============================] - 18s 127ms/step - loss: 0.1717 - accuracy: 0.9610 - val_loss: 0.0598 - val_accuracy: 0.9861\n",
      "Epoch 2/10\n",
      "132/132 [==============================] - 17s 126ms/step - loss: 0.1134 - accuracy: 0.9758 - val_loss: 0.0869 - val_accuracy: 0.9814\n",
      "Epoch 3/10\n",
      "132/132 [==============================] - 17s 130ms/step - loss: 0.0834 - accuracy: 0.9799 - val_loss: 0.0637 - val_accuracy: 0.9839\n",
      "Epoch 4/10\n",
      "132/132 [==============================] - 16s 125ms/step - loss: 0.0895 - accuracy: 0.9817 - val_loss: 0.0798 - val_accuracy: 0.9816\n",
      "Epoch 5/10\n",
      "132/132 [==============================] - 16s 124ms/step - loss: 0.0819 - accuracy: 0.9818 - val_loss: 0.0679 - val_accuracy: 0.9813\n",
      "Epoch 6/10\n",
      "132/132 [==============================] - 17s 129ms/step - loss: 0.0574 - accuracy: 0.9849 - val_loss: 0.0702 - val_accuracy: 0.9829\n",
      "Epoch 7/10\n",
      "132/132 [==============================] - 17s 129ms/step - loss: 0.0758 - accuracy: 0.9804 - val_loss: 0.0560 - val_accuracy: 0.9866\n",
      "Epoch 8/10\n",
      "132/132 [==============================] - 17s 126ms/step - loss: 0.0532 - accuracy: 0.9866 - val_loss: 0.0790 - val_accuracy: 0.9807\n",
      "Epoch 9/10\n",
      "132/132 [==============================] - 16s 125ms/step - loss: 0.0592 - accuracy: 0.9865 - val_loss: 0.1274 - val_accuracy: 0.9688\n",
      "Epoch 10/10\n",
      "132/132 [==============================] - 16s 125ms/step - loss: 0.0594 - accuracy: 0.9885 - val_loss: 0.0738 - val_accuracy: 0.9802\n",
      "Duration: 0:02:48.083792\n"
     ]
    }
   ],
   "source": [
    "print(n)\n",
    "models_lsa[n].fit_model(image_sets_lsa[n],label_sets_lsa[n],x_val,y_val,epochs=10,batch_size = 64)\n",
    "n = n+1"
   ]
  },
  {
   "cell_type": "code",
   "execution_count": 26,
   "id": "1f1f84df",
   "metadata": {},
   "outputs": [
    {
     "name": "stdout",
     "output_type": "stream",
     "text": [
      "3\n",
      "Epoch 1/10\n",
      "175/175 [==============================] - 22s 117ms/step - loss: 0.1379 - accuracy: 0.9763 - val_loss: 0.0792 - val_accuracy: 0.9835\n",
      "Epoch 2/10\n",
      "175/175 [==============================] - 20s 115ms/step - loss: 0.0750 - accuracy: 0.9834 - val_loss: 0.0514 - val_accuracy: 0.9858\n",
      "Epoch 3/10\n",
      "175/175 [==============================] - 20s 115ms/step - loss: 0.0729 - accuracy: 0.9823 - val_loss: 0.0583 - val_accuracy: 0.9846\n",
      "Epoch 4/10\n",
      "175/175 [==============================] - 20s 115ms/step - loss: 0.0634 - accuracy: 0.9838 - val_loss: 0.0771 - val_accuracy: 0.9813\n",
      "Epoch 5/10\n",
      "175/175 [==============================] - 20s 116ms/step - loss: 0.0693 - accuracy: 0.9827 - val_loss: 0.0731 - val_accuracy: 0.9824\n",
      "Epoch 6/10\n",
      "175/175 [==============================] - 20s 115ms/step - loss: 0.0753 - accuracy: 0.9824 - val_loss: 0.0742 - val_accuracy: 0.9807\n",
      "Epoch 7/10\n",
      "175/175 [==============================] - 20s 116ms/step - loss: 0.0614 - accuracy: 0.9835 - val_loss: 0.1243 - val_accuracy: 0.9711\n",
      "Epoch 8/10\n",
      "175/175 [==============================] - 20s 116ms/step - loss: 0.0592 - accuracy: 0.9859 - val_loss: 0.0807 - val_accuracy: 0.9806\n",
      "Epoch 9/10\n",
      "175/175 [==============================] - 20s 116ms/step - loss: 0.0688 - accuracy: 0.9845 - val_loss: 0.1630 - val_accuracy: 0.9626\n",
      "Epoch 10/10\n",
      "175/175 [==============================] - 20s 117ms/step - loss: 0.0537 - accuracy: 0.9871 - val_loss: 0.1262 - val_accuracy: 0.9738\n",
      "Duration: 0:03:23.600655\n"
     ]
    }
   ],
   "source": [
    "print(n)\n",
    "models_lsa[n].fit_model(image_sets_lsa[n],label_sets_lsa[n],x_val,y_val,epochs=10,batch_size = 64)\n",
    "n = n+1"
   ]
  },
  {
   "cell_type": "code",
   "execution_count": 27,
   "id": "23e0459b",
   "metadata": {},
   "outputs": [
    {
     "name": "stdout",
     "output_type": "stream",
     "text": [
      "4\n",
      "Epoch 1/10\n",
      "219/219 [==============================] - 26s 114ms/step - loss: 0.1257 - accuracy: 0.9710 - val_loss: 0.0462 - val_accuracy: 0.9874\n",
      "Epoch 2/10\n",
      "219/219 [==============================] - 25s 113ms/step - loss: 0.0952 - accuracy: 0.9766 - val_loss: 0.0771 - val_accuracy: 0.9781\n",
      "Epoch 3/10\n",
      "219/219 [==============================] - 25s 114ms/step - loss: 0.0802 - accuracy: 0.9798 - val_loss: 0.0591 - val_accuracy: 0.9846\n",
      "Epoch 4/10\n",
      "219/219 [==============================] - 25s 115ms/step - loss: 0.0882 - accuracy: 0.9771 - val_loss: 0.0806 - val_accuracy: 0.9826\n",
      "Epoch 5/10\n",
      "219/219 [==============================] - 25s 115ms/step - loss: 0.0725 - accuracy: 0.9799 - val_loss: 0.0804 - val_accuracy: 0.9793\n",
      "Epoch 6/10\n",
      "219/219 [==============================] - 25s 116ms/step - loss: 0.0708 - accuracy: 0.9821 - val_loss: 0.1435 - val_accuracy: 0.9807\n",
      "Epoch 7/10\n",
      "219/219 [==============================] - 26s 117ms/step - loss: 0.0672 - accuracy: 0.9838 - val_loss: 0.1344 - val_accuracy: 0.9725\n",
      "Epoch 8/10\n",
      "219/219 [==============================] - 26s 118ms/step - loss: 0.0617 - accuracy: 0.9858 - val_loss: 0.1347 - val_accuracy: 0.9669\n",
      "Epoch 9/10\n",
      "219/219 [==============================] - 26s 120ms/step - loss: 0.0615 - accuracy: 0.9836 - val_loss: 0.1006 - val_accuracy: 0.9751\n",
      "Epoch 10/10\n",
      "219/219 [==============================] - 28s 126ms/step - loss: 0.0588 - accuracy: 0.9861 - val_loss: 0.1311 - val_accuracy: 0.9694\n",
      "Duration: 0:04:16.990644\n"
     ]
    }
   ],
   "source": [
    "print(n)#\n",
    "models_lsa[n].fit_model(image_sets_lsa[n],label_sets_lsa[n],x_val,y_val,epochs=10,batch_size = 64)\n",
    "n = n+1"
   ]
  },
  {
   "cell_type": "code",
   "execution_count": 28,
   "id": "4eccb083",
   "metadata": {},
   "outputs": [
    {
     "name": "stdout",
     "output_type": "stream",
     "text": [
      "5\n",
      "Epoch 1/10\n",
      "263/263 [==============================] - 33s 120ms/step - loss: 0.1406 - accuracy: 0.9752 - val_loss: 0.0786 - val_accuracy: 0.9811\n",
      "Epoch 2/10\n",
      "263/263 [==============================] - 31s 118ms/step - loss: 0.0816 - accuracy: 0.9801 - val_loss: 0.0677 - val_accuracy: 0.9837\n",
      "Epoch 3/10\n",
      "263/263 [==============================] - 31s 118ms/step - loss: 0.0914 - accuracy: 0.9788 - val_loss: 0.0790 - val_accuracy: 0.9783\n",
      "Epoch 4/10\n",
      "263/263 [==============================] - 31s 118ms/step - loss: 0.0740 - accuracy: 0.9810 - val_loss: 0.1276 - val_accuracy: 0.9685\n",
      "Epoch 5/10\n",
      "263/263 [==============================] - 31s 118ms/step - loss: 0.0650 - accuracy: 0.9837 - val_loss: 0.0679 - val_accuracy: 0.9809s - loss: 0\n",
      "Epoch 6/10\n",
      "263/263 [==============================] - 31s 118ms/step - loss: 0.0594 - accuracy: 0.9853 - val_loss: 0.1307 - val_accuracy: 0.9690\n",
      "Epoch 7/10\n",
      "263/263 [==============================] - 31s 118ms/step - loss: 0.0582 - accuracy: 0.9857 - val_loss: 0.1722 - val_accuracy: 0.9794\n",
      "Epoch 8/10\n",
      "263/263 [==============================] - 31s 118ms/step - loss: 0.0663 - accuracy: 0.9850 - val_loss: 0.0938 - val_accuracy: 0.9790\n",
      "Epoch 9/10\n",
      "263/263 [==============================] - 31s 118ms/step - loss: 0.0619 - accuracy: 0.9849 - val_loss: 0.1845 - val_accuracy: 0.9666\n",
      "Epoch 10/10\n",
      "263/263 [==============================] - 31s 118ms/step - loss: 0.0573 - accuracy: 0.9853 - val_loss: 0.1356 - val_accuracy: 0.9641\n",
      "Duration: 0:05:12.143054\n"
     ]
    }
   ],
   "source": [
    "print(n)\n",
    "models_lsa[n].fit_model(image_sets_lsa[n],label_sets_lsa[n],x_val,y_val,epochs=10,batch_size = 64)\n",
    "n = n+1"
   ]
  },
  {
   "cell_type": "code",
   "execution_count": 29,
   "id": "c148cfda",
   "metadata": {},
   "outputs": [
    {
     "name": "stdout",
     "output_type": "stream",
     "text": [
      "6\n",
      "Epoch 1/10\n",
      "307/307 [==============================] - 37s 117ms/step - loss: 0.1159 - accuracy: 0.9745 - val_loss: 0.0707 - val_accuracy: 0.9838\n",
      "Epoch 2/10\n",
      "307/307 [==============================] - 35s 115ms/step - loss: 0.0967 - accuracy: 0.9797 - val_loss: 0.1813 - val_accuracy: 0.9583\n",
      "Epoch 3/10\n",
      "307/307 [==============================] - 35s 115ms/step - loss: 0.0758 - accuracy: 0.9827 - val_loss: 0.1693 - val_accuracy: 0.9680\n",
      "Epoch 4/10\n",
      "307/307 [==============================] - 35s 116ms/step - loss: 0.0724 - accuracy: 0.9838 - val_loss: 0.1379 - val_accuracy: 0.9674\n",
      "Epoch 5/10\n",
      "307/307 [==============================] - 35s 115ms/step - loss: 0.0829 - accuracy: 0.9803 - val_loss: 0.1160 - val_accuracy: 0.9726\n",
      "Epoch 6/10\n",
      "307/307 [==============================] - 35s 115ms/step - loss: 0.0720 - accuracy: 0.9820 - val_loss: 0.1822 - val_accuracy: 0.9628\n",
      "Epoch 7/10\n",
      "307/307 [==============================] - 35s 116ms/step - loss: 0.0744 - accuracy: 0.9811 - val_loss: 0.2149 - val_accuracy: 0.9657\n",
      "Epoch 8/10\n",
      "307/307 [==============================] - 35s 116ms/step - loss: 0.0685 - accuracy: 0.9839 - val_loss: 0.1058 - val_accuracy: 0.9748\n",
      "Epoch 9/10\n",
      "307/307 [==============================] - 35s 115ms/step - loss: 0.0642 - accuracy: 0.9843 - val_loss: 0.2104 - val_accuracy: 0.9556\n",
      "Epoch 10/10\n",
      "307/307 [==============================] - 40s 130ms/step - loss: 0.0626 - accuracy: 0.9865 - val_loss: 0.1286 - val_accuracy: 0.9729\n",
      "Duration: 0:06:00.059928\n"
     ]
    }
   ],
   "source": [
    "print(n)\n",
    "models_lsa[n].fit_model(image_sets_lsa[n],label_sets_lsa[n],x_val,y_val,epochs=10,batch_size = 64)\n",
    "n = n+1"
   ]
  },
  {
   "cell_type": "code",
   "execution_count": 30,
   "id": "e472398e",
   "metadata": {},
   "outputs": [
    {
     "name": "stdout",
     "output_type": "stream",
     "text": [
      "7\n",
      "Epoch 1/10\n",
      "350/350 [==============================] - 48s 133ms/step - loss: 0.1020 - accuracy: 0.9765 - val_loss: 0.0704 - val_accuracy: 0.9810\n",
      "Epoch 2/10\n",
      "350/350 [==============================] - 45s 130ms/step - loss: 0.0859 - accuracy: 0.9805 - val_loss: 0.1119 - val_accuracy: 0.9729\n",
      "Epoch 3/10\n",
      "350/350 [==============================] - 47s 134ms/step - loss: 0.0767 - accuracy: 0.9827 - val_loss: 0.1189 - val_accuracy: 0.9681\n",
      "Epoch 4/10\n",
      "350/350 [==============================] - 44s 125ms/step - loss: 0.0693 - accuracy: 0.9830 - val_loss: 0.1218 - val_accuracy: 0.9699\n",
      "Epoch 5/10\n",
      "350/350 [==============================] - 44s 124ms/step - loss: 0.0733 - accuracy: 0.9828 - val_loss: 0.1135 - val_accuracy: 0.9754\n",
      "Epoch 6/10\n",
      "350/350 [==============================] - 46s 133ms/step - loss: 0.0685 - accuracy: 0.9839 - val_loss: 0.1784 - val_accuracy: 0.9630\n",
      "Epoch 7/10\n",
      "350/350 [==============================] - 44s 127ms/step - loss: 0.0674 - accuracy: 0.9833 - val_loss: 0.1334 - val_accuracy: 0.9663\n",
      "Epoch 8/10\n",
      "350/350 [==============================] - 46s 131ms/step - loss: 0.0716 - accuracy: 0.9838 - val_loss: 0.1817 - val_accuracy: 0.9679\n",
      "Epoch 9/10\n",
      "350/350 [==============================] - 44s 124ms/step - loss: 0.0712 - accuracy: 0.9834 - val_loss: 0.1565 - val_accuracy: 0.9661\n",
      "Epoch 10/10\n",
      "350/350 [==============================] - 43s 124ms/step - loss: 0.0724 - accuracy: 0.9844 - val_loss: 0.3124 - val_accuracy: 0.9326\n",
      "Duration: 0:07:31.258213\n"
     ]
    }
   ],
   "source": [
    "print(n)\n",
    "models_lsa[n].fit_model(image_sets_lsa[n],label_sets_lsa[n],x_val,y_val,epochs=10,batch_size = 64)\n",
    "n = n+1"
   ]
  },
  {
   "cell_type": "code",
   "execution_count": 31,
   "id": "f5cdc620",
   "metadata": {},
   "outputs": [
    {
     "name": "stdout",
     "output_type": "stream",
     "text": [
      "8\n",
      "Epoch 1/10\n",
      "394/394 [==============================] - 51s 124ms/step - loss: 0.1139 - accuracy: 0.9747 - val_loss: 0.0566 - val_accuracy: 0.9857\n",
      "Epoch 2/10\n",
      "394/394 [==============================] - 49s 123ms/step - loss: 0.0922 - accuracy: 0.9772 - val_loss: 0.0610 - val_accuracy: 0.9824\n",
      "Epoch 3/10\n",
      "394/394 [==============================] - 50s 128ms/step - loss: 0.0883 - accuracy: 0.9786 - val_loss: 0.0968 - val_accuracy: 0.9776\n",
      "Epoch 4/10\n",
      "394/394 [==============================] - 49s 124ms/step - loss: 0.0856 - accuracy: 0.9803 - val_loss: 0.3842 - val_accuracy: 0.9604\n",
      "Epoch 5/10\n",
      "394/394 [==============================] - 49s 124ms/step - loss: 0.0839 - accuracy: 0.9801 - val_loss: 0.1290 - val_accuracy: 0.9771\n",
      "Epoch 6/10\n",
      "394/394 [==============================] - 49s 124ms/step - loss: 0.0827 - accuracy: 0.9818 - val_loss: 0.0870 - val_accuracy: 0.9749\n",
      "Epoch 7/10\n",
      "394/394 [==============================] - 49s 124ms/step - loss: 0.0791 - accuracy: 0.9819 - val_loss: 0.1524 - val_accuracy: 0.9648\n",
      "Epoch 8/10\n",
      "394/394 [==============================] - 49s 124ms/step - loss: 0.0775 - accuracy: 0.9834 - val_loss: 0.3322 - val_accuracy: 0.9189\n",
      "Epoch 9/10\n",
      "394/394 [==============================] - 49s 125ms/step - loss: 0.0700 - accuracy: 0.9828 - val_loss: 0.4686 - val_accuracy: 0.9680\n",
      "Epoch 10/10\n",
      "394/394 [==============================] - 49s 124ms/step - loss: 0.0737 - accuracy: 0.9839 - val_loss: 0.2598 - val_accuracy: 0.9456\n",
      "Duration: 0:08:11.512032\n"
     ]
    }
   ],
   "source": [
    "print(n)\n",
    "models_lsa[n].fit_model(image_sets_lsa[n],label_sets_lsa[n],x_val,y_val,epochs=10,batch_size = 64)\n",
    "n = n+1"
   ]
  },
  {
   "cell_type": "code",
   "execution_count": 32,
   "id": "6edd628e",
   "metadata": {},
   "outputs": [
    {
     "name": "stdout",
     "output_type": "stream",
     "text": [
      "9\n",
      "Epoch 1/10\n",
      "438/438 [==============================] - 55s 122ms/step - loss: 0.1069 - accuracy: 0.9766 - val_loss: 0.0658 - val_accuracy: 0.9829\n",
      "Epoch 2/10\n",
      "438/438 [==============================] - 53s 122ms/step - loss: 0.0804 - accuracy: 0.9809 - val_loss: 0.1670 - val_accuracy: 0.9812\n",
      "Epoch 3/10\n",
      "438/438 [==============================] - 54s 122ms/step - loss: 0.0825 - accuracy: 0.9798 - val_loss: 0.1078 - val_accuracy: 0.9714\n",
      "Epoch 4/10\n",
      "438/438 [==============================] - 54s 122ms/step - loss: 0.0838 - accuracy: 0.9804 - val_loss: 0.1877 - val_accuracy: 0.9538\n",
      "Epoch 5/10\n",
      "438/438 [==============================] - 54s 122ms/step - loss: 0.0868 - accuracy: 0.9785 - val_loss: 0.1239 - val_accuracy: 0.9699\n",
      "Epoch 6/10\n",
      "438/438 [==============================] - 53s 122ms/step - loss: 0.0780 - accuracy: 0.9813 - val_loss: 0.1570 - val_accuracy: 0.9629\n",
      "Epoch 7/10\n",
      "438/438 [==============================] - 53s 122ms/step - loss: 0.0790 - accuracy: 0.9820 - val_loss: 0.1992 - val_accuracy: 0.9529\n",
      "Epoch 8/10\n",
      "438/438 [==============================] - 49s 112ms/step - loss: 0.0736 - accuracy: 0.9823 - val_loss: 0.4107 - val_accuracy: 0.9080: 0.0736 - ac\n",
      "Epoch 9/10\n",
      "438/438 [==============================] - 48s 110ms/step - loss: 0.0803 - accuracy: 0.9830 - val_loss: 0.2516 - val_accuracy: 0.9476\n",
      "Epoch 10/10\n",
      "438/438 [==============================] - 48s 111ms/step - loss: 0.0755 - accuracy: 0.9817 - val_loss: 0.2314 - val_accuracy: 0.9434\n",
      "Duration: 0:08:42.408933\n"
     ]
    }
   ],
   "source": [
    "print(n)#\n",
    "models_lsa[n].fit_model(image_sets_lsa[n],label_sets_lsa[n],x_val,y_val,epochs=10,batch_size = 64)\n",
    "n = n+1"
   ]
  },
  {
   "cell_type": "code",
   "execution_count": 33,
   "id": "b03a4caf",
   "metadata": {},
   "outputs": [
    {
     "name": "stdout",
     "output_type": "stream",
     "text": [
      "10\n",
      "Epoch 1/10\n",
      "482/482 [==============================] - 54s 110ms/step - loss: 0.1304 - accuracy: 0.9698 - val_loss: 0.0772 - val_accuracy: 0.9809\n",
      "Epoch 2/10\n",
      "482/482 [==============================] - 53s 110ms/step - loss: 0.0990 - accuracy: 0.9767 - val_loss: 0.1541 - val_accuracy: 0.9707\n",
      "Epoch 3/10\n",
      "482/482 [==============================] - 53s 110ms/step - loss: 0.1026 - accuracy: 0.9768 - val_loss: 0.0847 - val_accuracy: 0.9774\n",
      "Epoch 4/10\n",
      "482/482 [==============================] - 53s 110ms/step - loss: 0.0942 - accuracy: 0.9779 - val_loss: 0.2451 - val_accuracy: 0.9510\n",
      "Epoch 5/10\n",
      "482/482 [==============================] - 53s 111ms/step - loss: 0.0943 - accuracy: 0.9766 - val_loss: 0.0912 - val_accuracy: 0.9774\n",
      "Epoch 6/10\n",
      "482/482 [==============================] - 53s 110ms/step - loss: 0.0818 - accuracy: 0.9803 - val_loss: 0.1584 - val_accuracy: 0.9738\n",
      "Epoch 7/10\n",
      "482/482 [==============================] - 53s 110ms/step - loss: 0.0884 - accuracy: 0.9791 - val_loss: 0.3674 - val_accuracy: 0.9219\n",
      "Epoch 8/10\n",
      "482/482 [==============================] - 53s 110ms/step - loss: 0.0847 - accuracy: 0.9784 - val_loss: 0.1639 - val_accuracy: 0.9621\n",
      "Epoch 9/10\n",
      "482/482 [==============================] - 53s 111ms/step - loss: 0.0832 - accuracy: 0.9800 - val_loss: 0.1758 - val_accuracy: 0.9579\n",
      "Epoch 10/10\n",
      "482/482 [==============================] - 53s 109ms/step - loss: 0.0853 - accuracy: 0.9787 - val_loss: 0.1996 - val_accuracy: 0.9541\n",
      "Duration: 0:08:50.891287\n"
     ]
    }
   ],
   "source": [
    "print(n)\n",
    "models_lsa[n].fit_model(image_sets_lsa[n],label_sets_lsa[n],x_val,y_val,epochs=10,batch_size = 64)\n",
    "n = n+1"
   ]
  },
  {
   "cell_type": "code",
   "execution_count": 34,
   "id": "a437cd1a",
   "metadata": {},
   "outputs": [
    {
     "name": "stdout",
     "output_type": "stream",
     "text": [
      "11\n",
      "Epoch 1/10\n",
      "525/525 [==============================] - 58s 108ms/step - loss: 0.1077 - accuracy: 0.9750 - val_loss: 0.0916 - val_accuracy: 0.9781\n",
      "Epoch 2/10\n",
      "525/525 [==============================] - 56s 107ms/step - loss: 0.0858 - accuracy: 0.9788 - val_loss: 0.0739 - val_accuracy: 0.9790\n",
      "Epoch 3/10\n",
      "525/525 [==============================] - 57s 108ms/step - loss: 0.1002 - accuracy: 0.9769 - val_loss: 0.1233 - val_accuracy: 0.9721\n",
      "Epoch 4/10\n",
      "525/525 [==============================] - 56s 107ms/step - loss: 0.0780 - accuracy: 0.9807 - val_loss: 0.1115 - val_accuracy: 0.9714\n",
      "Epoch 5/10\n",
      "525/525 [==============================] - 56s 107ms/step - loss: 0.0886 - accuracy: 0.9782 - val_loss: 0.0905 - val_accuracy: 0.9763\n",
      "Epoch 6/10\n",
      "525/525 [==============================] - 56s 107ms/step - loss: 0.0785 - accuracy: 0.9803 - val_loss: 0.2246 - val_accuracy: 0.9546\n",
      "Epoch 7/10\n",
      "525/525 [==============================] - 56s 107ms/step - loss: 0.0812 - accuracy: 0.9794 - val_loss: 0.1245 - val_accuracy: 0.9732\n",
      "Epoch 8/10\n",
      "525/525 [==============================] - 56s 107ms/step - loss: 0.0811 - accuracy: 0.9811 - val_loss: 0.1522 - val_accuracy: 0.9615\n",
      "Epoch 9/10\n",
      "525/525 [==============================] - 56s 107ms/step - loss: 0.0835 - accuracy: 0.9795 - val_loss: 0.1964 - val_accuracy: 0.9514\n",
      "Epoch 10/10\n",
      "525/525 [==============================] - 56s 107ms/step - loss: 0.0786 - accuracy: 0.9802 - val_loss: 0.3904 - val_accuracy: 0.9144\n",
      "Duration: 0:09:24.568646\n"
     ]
    }
   ],
   "source": [
    "print(n)\n",
    "models_lsa[n].fit_model(image_sets_lsa[n],label_sets_lsa[n],x_val,y_val,epochs=10,batch_size = 64)\n",
    "n = n+1"
   ]
  },
  {
   "cell_type": "code",
   "execution_count": 35,
   "id": "5f350a88",
   "metadata": {},
   "outputs": [
    {
     "name": "stdout",
     "output_type": "stream",
     "text": [
      "12\n",
      "Epoch 1/10\n",
      "569/569 [==============================] - 63s 108ms/step - loss: 0.1145 - accuracy: 0.9750 - val_loss: 0.0545 - val_accuracy: 0.9844\n",
      "Epoch 2/10\n",
      "569/569 [==============================] - 61s 108ms/step - loss: 0.0961 - accuracy: 0.9783 - val_loss: 0.1499 - val_accuracy: 0.9652\n",
      "Epoch 3/10\n",
      "569/569 [==============================] - 61s 108ms/step - loss: 0.0935 - accuracy: 0.9765 - val_loss: 0.1197 - val_accuracy: 0.9729\n",
      "Epoch 4/10\n",
      "569/569 [==============================] - 63s 111ms/step - loss: 0.0939 - accuracy: 0.9780 - val_loss: 0.1177 - val_accuracy: 0.9704\n",
      "Epoch 5/10\n",
      "569/569 [==============================] - 67s 118ms/step - loss: 0.0901 - accuracy: 0.9763 - val_loss: 0.3966 - val_accuracy: 0.9649\n",
      "Epoch 6/10\n",
      "569/569 [==============================] - 68s 120ms/step - loss: 0.0898 - accuracy: 0.9788 - val_loss: 0.1372 - val_accuracy: 0.9729\n",
      "Epoch 7/10\n",
      "569/569 [==============================] - 68s 120ms/step - loss: 0.0854 - accuracy: 0.9790 - val_loss: 0.1631 - val_accuracy: 0.9676\n",
      "Epoch 8/10\n",
      "569/569 [==============================] - 68s 120ms/step - loss: 0.0883 - accuracy: 0.9788 - val_loss: 0.1080 - val_accuracy: 0.9766\n",
      "Epoch 9/10\n",
      "569/569 [==============================] - 68s 119ms/step - loss: 0.0895 - accuracy: 0.9804 - val_loss: 0.2466 - val_accuracy: 0.9465\n",
      "Epoch 10/10\n",
      "569/569 [==============================] - 68s 119ms/step - loss: 0.0865 - accuracy: 0.9797 - val_loss: 0.2239 - val_accuracy: 0.9494\n",
      "Duration: 0:10:55.657615\n"
     ]
    }
   ],
   "source": [
    "print(n)\n",
    "models_lsa[n].fit_model(image_sets_lsa[n],label_sets_lsa[n],x_val,y_val,epochs=10,batch_size = 64)\n",
    "n = n+1"
   ]
  },
  {
   "cell_type": "code",
   "execution_count": 36,
   "id": "e44708f1",
   "metadata": {},
   "outputs": [
    {
     "name": "stdout",
     "output_type": "stream",
     "text": [
      "13\n",
      "Epoch 1/10\n",
      "613/613 [==============================] - 75s 119ms/step - loss: 0.1117 - accuracy: 0.9746 - val_loss: 0.0561 - val_accuracy: 0.9850\n",
      "Epoch 2/10\n",
      "613/613 [==============================] - 73s 119ms/step - loss: 0.0962 - accuracy: 0.9765 - val_loss: 0.1211 - val_accuracy: 0.9762\n",
      "Epoch 3/10\n",
      "613/613 [==============================] - 73s 119ms/step - loss: 0.0922 - accuracy: 0.9773 - val_loss: 0.0521 - val_accuracy: 0.9861\n",
      "Epoch 4/10\n",
      "613/613 [==============================] - 73s 120ms/step - loss: 0.0866 - accuracy: 0.9798 - val_loss: 0.1660 - val_accuracy: 0.9699\n",
      "Epoch 5/10\n",
      "613/613 [==============================] - 74s 120ms/step - loss: 0.0933 - accuracy: 0.9773 - val_loss: 0.1373 - val_accuracy: 0.9723\n",
      "Epoch 6/10\n",
      "613/613 [==============================] - 73s 119ms/step - loss: 0.0937 - accuracy: 0.9781 - val_loss: 0.1455 - val_accuracy: 0.9689\n",
      "Epoch 7/10\n",
      "613/613 [==============================] - 73s 119ms/step - loss: 0.0916 - accuracy: 0.9782 - val_loss: 0.2841 - val_accuracy: 0.9419\n",
      "Epoch 8/10\n",
      "613/613 [==============================] - 73s 119ms/step - loss: 0.0874 - accuracy: 0.9793 - val_loss: 0.1005 - val_accuracy: 0.9806\n",
      "Epoch 9/10\n",
      "613/613 [==============================] - 73s 120ms/step - loss: 0.0872 - accuracy: 0.9799 - val_loss: 0.0877 - val_accuracy: 0.9814\n",
      "Epoch 10/10\n",
      "613/613 [==============================] - 73s 119ms/step - loss: 0.0875 - accuracy: 0.9786 - val_loss: 0.2753 - val_accuracy: 0.9686\n",
      "Duration: 0:12:12.865182\n"
     ]
    }
   ],
   "source": [
    "print(n)\n",
    "models_lsa[n].fit_model(image_sets_lsa[n],label_sets_lsa[n],x_val,y_val,epochs=10,batch_size = 64)\n",
    "n = n+1"
   ]
  },
  {
   "cell_type": "code",
   "execution_count": 37,
   "id": "eedcb6d2",
   "metadata": {},
   "outputs": [
    {
     "name": "stdout",
     "output_type": "stream",
     "text": [
      "14\n",
      "Epoch 1/10\n",
      "657/657 [==============================] - 80s 119ms/step - loss: 0.1150 - accuracy: 0.9733 - val_loss: 0.0907 - val_accuracy: 0.9821\n",
      "Epoch 2/10\n",
      "657/657 [==============================] - 78s 118ms/step - loss: 0.1020 - accuracy: 0.9746 - val_loss: 0.0588 - val_accuracy: 0.9836\n",
      "Epoch 3/10\n",
      "657/657 [==============================] - 78s 119ms/step - loss: 0.0967 - accuracy: 0.9769 - val_loss: 0.1039 - val_accuracy: 0.9844\n",
      "Epoch 4/10\n",
      "657/657 [==============================] - 77s 118ms/step - loss: 0.1000 - accuracy: 0.9764 - val_loss: 0.0822 - val_accuracy: 0.9813\n",
      "Epoch 5/10\n",
      "657/657 [==============================] - 78s 119ms/step - loss: 0.1043 - accuracy: 0.9750 - val_loss: 0.1783 - val_accuracy: 0.9649\n",
      "Epoch 6/10\n",
      "657/657 [==============================] - 78s 118ms/step - loss: 0.0939 - accuracy: 0.9776 - val_loss: 0.2021 - val_accuracy: 0.9651\n",
      "Epoch 7/10\n",
      "657/657 [==============================] - 78s 119ms/step - loss: 0.1015 - accuracy: 0.9760 - val_loss: 0.3650 - val_accuracy: 0.9086\n",
      "Epoch 8/10\n",
      "657/657 [==============================] - 78s 118ms/step - loss: 0.0973 - accuracy: 0.9769 - val_loss: 0.2881 - val_accuracy: 0.9504\n",
      "Epoch 9/10\n",
      "657/657 [==============================] - 77s 118ms/step - loss: 0.0987 - accuracy: 0.9770 - val_loss: 0.0933 - val_accuracy: 0.9781\n",
      "Epoch 10/10\n",
      "657/657 [==============================] - 78s 118ms/step - loss: 0.0962 - accuracy: 0.9776 - val_loss: 0.1349 - val_accuracy: 0.9773\n",
      "Duration: 0:12:59.616312\n"
     ]
    }
   ],
   "source": [
    "print(n)#\n",
    "models_lsa[n].fit_model(image_sets_lsa[n],label_sets_lsa[n],x_val,y_val,epochs=10,batch_size = 64)\n",
    "n = n+1"
   ]
  },
  {
   "cell_type": "code",
   "execution_count": 38,
   "id": "7137d84d",
   "metadata": {},
   "outputs": [
    {
     "name": "stdout",
     "output_type": "stream",
     "text": [
      "15\n",
      "Epoch 1/10\n",
      "700/700 [==============================] - 83s 116ms/step - loss: 0.1115 - accuracy: 0.9736 - val_loss: 0.0415 - val_accuracy: 0.9876\n",
      "Epoch 2/10\n",
      "700/700 [==============================] - 81s 116ms/step - loss: 0.0925 - accuracy: 0.9788 - val_loss: 0.0839 - val_accuracy: 0.9823\n",
      "Epoch 3/10\n",
      "700/700 [==============================] - 81s 116ms/step - loss: 0.0922 - accuracy: 0.9783 - val_loss: 0.0650 - val_accuracy: 0.9839\n",
      "Epoch 4/10\n",
      "700/700 [==============================] - 81s 116ms/step - loss: 0.0901 - accuracy: 0.9786 - val_loss: 0.0806 - val_accuracy: 0.9808\n",
      "Epoch 5/10\n",
      "700/700 [==============================] - 83s 119ms/step - loss: 0.0948 - accuracy: 0.9769 - val_loss: 0.1114 - val_accuracy: 0.9835\n",
      "Epoch 6/10\n",
      "700/700 [==============================] - 77s 109ms/step - loss: 0.0952 - accuracy: 0.9769 - val_loss: 0.0879 - val_accuracy: 0.9816\n",
      "Epoch 7/10\n",
      "700/700 [==============================] - 73s 105ms/step - loss: 0.0960 - accuracy: 0.9765 - val_loss: 0.1076 - val_accuracy: 0.9787\n",
      "Epoch 8/10\n",
      "700/700 [==============================] - 73s 105ms/step - loss: 0.0919 - accuracy: 0.9783 - val_loss: 0.1109 - val_accuracy: 0.9746\n",
      "Epoch 9/10\n",
      "700/700 [==============================] - 75s 107ms/step - loss: 0.0986 - accuracy: 0.9761 - val_loss: 0.1135 - val_accuracy: 0.9813\n",
      "Epoch 10/10\n",
      "700/700 [==============================] - 76s 109ms/step - loss: 0.0879 - accuracy: 0.9778 - val_loss: 0.1355 - val_accuracy: 0.9785\n",
      "Duration: 0:13:05.099316\n"
     ]
    }
   ],
   "source": [
    "print(n)\n",
    "models_lsa[n].fit_model(image_sets_lsa[n],label_sets_lsa[n],x_val,y_val,epochs=10,batch_size = 64)\n",
    "n = n+1"
   ]
  },
  {
   "cell_type": "code",
   "execution_count": 39,
   "id": "bb8f82be",
   "metadata": {},
   "outputs": [
    {
     "name": "stdout",
     "output_type": "stream",
     "text": [
      "16\n",
      "Epoch 1/10\n",
      "744/744 [==============================] - 81s 107ms/step - loss: 0.1135 - accuracy: 0.9740 - val_loss: 0.0493 - val_accuracy: 0.9852\n",
      "Epoch 2/10\n",
      "744/744 [==============================] - 79s 106ms/step - loss: 0.0965 - accuracy: 0.9766 - val_loss: 0.0688 - val_accuracy: 0.9841\n",
      "Epoch 3/10\n",
      "744/744 [==============================] - 79s 106ms/step - loss: 0.0977 - accuracy: 0.9760 - val_loss: 0.0526 - val_accuracy: 0.9861\n",
      "Epoch 4/10\n",
      "744/744 [==============================] - 79s 106ms/step - loss: 0.1000 - accuracy: 0.9764 - val_loss: 0.0734 - val_accuracy: 0.9836\n",
      "Epoch 5/10\n",
      "744/744 [==============================] - 79s 106ms/step - loss: 0.0979 - accuracy: 0.9765 - val_loss: 0.0778 - val_accuracy: 0.9826\n",
      "Epoch 6/10\n",
      "744/744 [==============================] - 79s 106ms/step - loss: 0.0981 - accuracy: 0.9776 - val_loss: 0.2625 - val_accuracy: 0.9619\n",
      "Epoch 7/10\n",
      "744/744 [==============================] - 79s 106ms/step - loss: 0.0963 - accuracy: 0.9766 - val_loss: 0.0838 - val_accuracy: 0.9850\n",
      "Epoch 8/10\n",
      "744/744 [==============================] - 79s 106ms/step - loss: 0.0932 - accuracy: 0.9786 - val_loss: 0.1366 - val_accuracy: 0.9736\n",
      "Epoch 9/10\n",
      "744/744 [==============================] - 79s 106ms/step - loss: 0.0994 - accuracy: 0.9785 - val_loss: 0.1173 - val_accuracy: 0.9835\n",
      "Epoch 10/10\n",
      "744/744 [==============================] - 79s 106ms/step - loss: 0.1098 - accuracy: 0.9762 - val_loss: 0.0722 - val_accuracy: 0.9826\n",
      "Duration: 0:13:11.160603\n"
     ]
    }
   ],
   "source": [
    "print(n)\n",
    "models_lsa[n].fit_model(image_sets_lsa[n],label_sets_lsa[n],x_val,y_val,epochs=10,batch_size = 64)\n",
    "n = n+1"
   ]
  },
  {
   "cell_type": "code",
   "execution_count": 40,
   "id": "ff11737d",
   "metadata": {},
   "outputs": [
    {
     "name": "stdout",
     "output_type": "stream",
     "text": [
      "17\n",
      "Epoch 1/10\n",
      "788/788 [==============================] - 85s 106ms/step - loss: 0.1059 - accuracy: 0.9746 - val_loss: 0.0504 - val_accuracy: 0.9858\n",
      "Epoch 2/10\n",
      "788/788 [==============================] - 83s 105ms/step - loss: 0.0966 - accuracy: 0.9783 - val_loss: 0.0550 - val_accuracy: 0.9844\n",
      "Epoch 3/10\n",
      "788/788 [==============================] - 85s 108ms/step - loss: 0.0979 - accuracy: 0.9757 - val_loss: 0.0509 - val_accuracy: 0.9861\n",
      "Epoch 4/10\n",
      "788/788 [==============================] - 83s 106ms/step - loss: 0.0938 - accuracy: 0.9779 - val_loss: 0.0462 - val_accuracy: 0.9874\n",
      "Epoch 5/10\n",
      "788/788 [==============================] - 85s 107ms/step - loss: 0.0895 - accuracy: 0.9782 - val_loss: 0.0463 - val_accuracy: 0.9867\n",
      "Epoch 6/10\n",
      "788/788 [==============================] - 92s 116ms/step - loss: 0.0917 - accuracy: 0.9781 - val_loss: 0.0501 - val_accuracy: 0.9869\n",
      "Epoch 7/10\n",
      "788/788 [==============================] - 92s 117ms/step - loss: 0.0898 - accuracy: 0.9778 - val_loss: 0.0663 - val_accuracy: 0.9858\n",
      "Epoch 8/10\n",
      "788/788 [==============================] - 92s 117ms/step - loss: 0.0999 - accuracy: 0.9764 - val_loss: 0.0869 - val_accuracy: 0.9831\n",
      "Epoch 9/10\n",
      "788/788 [==============================] - 92s 117ms/step - loss: 0.0891 - accuracy: 0.9775 - val_loss: 0.0564 - val_accuracy: 0.9851\n",
      "Epoch 10/10\n",
      "788/788 [==============================] - 92s 117ms/step - loss: 0.0917 - accuracy: 0.9779 - val_loss: 0.1392 - val_accuracy: 0.9824\n",
      "Duration: 0:14:40.388568\n"
     ]
    }
   ],
   "source": [
    "print(n)\n",
    "models_lsa[n].fit_model(image_sets_lsa[n],label_sets_lsa[n],x_val,y_val,epochs=10,batch_size = 64)\n",
    "n = n+1"
   ]
  },
  {
   "cell_type": "code",
   "execution_count": 41,
   "id": "8737c9b0",
   "metadata": {},
   "outputs": [
    {
     "name": "stdout",
     "output_type": "stream",
     "text": [
      "18\n",
      "Epoch 1/10\n",
      "832/832 [==============================] - 99s 117ms/step - loss: 0.1097 - accuracy: 0.9737 - val_loss: 0.0518 - val_accuracy: 0.9872\n",
      "Epoch 2/10\n",
      "832/832 [==============================] - 97s 116ms/step - loss: 0.0942 - accuracy: 0.9764 - val_loss: 0.0445 - val_accuracy: 0.9872\n",
      "Epoch 3/10\n",
      "832/832 [==============================] - 98s 118ms/step - loss: 0.0918 - accuracy: 0.9763 - val_loss: 0.0525 - val_accuracy: 0.9864\n",
      "Epoch 4/10\n",
      "832/832 [==============================] - 97s 117ms/step - loss: 0.0934 - accuracy: 0.9774 - val_loss: 0.0583 - val_accuracy: 0.9876\n",
      "Epoch 5/10\n",
      "832/832 [==============================] - 97s 117ms/step - loss: 0.0904 - accuracy: 0.9778 - val_loss: 0.0660 - val_accuracy: 0.9836\n",
      "Epoch 6/10\n",
      "832/832 [==============================] - 98s 118ms/step - loss: 0.0947 - accuracy: 0.9769 - val_loss: 0.0574 - val_accuracy: 0.9864\n",
      "Epoch 7/10\n",
      "832/832 [==============================] - 97s 117ms/step - loss: 0.0882 - accuracy: 0.9781 - val_loss: 0.0558 - val_accuracy: 0.9861\n",
      "Epoch 8/10\n",
      "832/832 [==============================] - 97s 116ms/step - loss: 0.0985 - accuracy: 0.9771 - val_loss: 0.0873 - val_accuracy: 0.9819\n",
      "Epoch 9/10\n",
      "832/832 [==============================] - 97s 116ms/step - loss: 0.0912 - accuracy: 0.9775 - val_loss: 0.1022 - val_accuracy: 0.9766\n",
      "Epoch 10/10\n",
      "832/832 [==============================] - 97s 117ms/step - loss: 0.0942 - accuracy: 0.9779 - val_loss: 0.0729 - val_accuracy: 0.9834\n",
      "Duration: 0:16:13.806591\n"
     ]
    }
   ],
   "source": [
    "print(n)\n",
    "models_lsa[n].fit_model(image_sets_lsa[n],label_sets_lsa[n],x_val,y_val,epochs=10,batch_size = 64)\n",
    "n = n+1"
   ]
  },
  {
   "cell_type": "code",
   "execution_count": 42,
   "id": "787a45bb",
   "metadata": {},
   "outputs": [
    {
     "name": "stdout",
     "output_type": "stream",
     "text": [
      "19\n",
      "Epoch 1/10\n",
      "875/875 [==============================] - 104s 117ms/step - loss: 0.1086 - accuracy: 0.9733 - val_loss: 0.0599 - val_accuracy: 0.9869\n",
      "Epoch 2/10\n",
      "875/875 [==============================] - 102s 116ms/step - loss: 0.0986 - accuracy: 0.9766 - val_loss: 0.0472 - val_accuracy: 0.9859\n",
      "Epoch 3/10\n",
      "875/875 [==============================] - 102s 116ms/step - loss: 0.0913 - accuracy: 0.9778 - val_loss: 0.0607 - val_accuracy: 0.9834\n",
      "Epoch 4/10\n",
      "875/875 [==============================] - 102s 116ms/step - loss: 0.0902 - accuracy: 0.9777 - val_loss: 0.0538 - val_accuracy: 0.9850\n",
      "Epoch 5/10\n",
      "875/875 [==============================] - 102s 116ms/step - loss: 0.0903 - accuracy: 0.9783 - val_loss: 0.0553 - val_accuracy: 0.9855\n",
      "Epoch 6/10\n",
      "875/875 [==============================] - 102s 117ms/step - loss: 0.0902 - accuracy: 0.9778 - val_loss: 0.0450 - val_accuracy: 0.9868\n",
      "Epoch 7/10\n",
      "875/875 [==============================] - 101s 116ms/step - loss: 0.0910 - accuracy: 0.9777 - val_loss: 0.0538 - val_accuracy: 0.9850\n",
      "Epoch 8/10\n",
      "875/875 [==============================] - 102s 116ms/step - loss: 0.0917 - accuracy: 0.9793 - val_loss: 0.0584 - val_accuracy: 0.9869\n",
      "Epoch 9/10\n",
      "875/875 [==============================] - 102s 117ms/step - loss: 0.0841 - accuracy: 0.9791 - val_loss: 0.0593 - val_accuracy: 0.9865\n",
      "Epoch 10/10\n",
      "875/875 [==============================] - 102s 116ms/step - loss: 0.0913 - accuracy: 0.9789 - val_loss: 0.0592 - val_accuracy: 0.9858\n",
      "Duration: 0:17:00.457437\n"
     ]
    }
   ],
   "source": [
    "print(n)#\n",
    "models_lsa[n].fit_model(image_sets_lsa[n],label_sets_lsa[n],x_val,y_val,epochs=10,batch_size = 64)\n",
    "n = n+1"
   ]
  },
  {
   "cell_type": "code",
   "execution_count": null,
   "id": "6fe2527b",
   "metadata": {},
   "outputs": [],
   "source": [
    "time.sleep(400)"
   ]
  },
  {
   "cell_type": "code",
   "execution_count": 43,
   "id": "cb139a21",
   "metadata": {},
   "outputs": [
    {
     "data": {
      "text/plain": [
       "20"
      ]
     },
     "execution_count": 43,
     "metadata": {},
     "output_type": "execute_result"
    }
   ],
   "source": [
    "len(models_lsa)"
   ]
  },
  {
   "cell_type": "code",
   "execution_count": 44,
   "id": "9cf4ae1e",
   "metadata": {},
   "outputs": [
    {
     "name": "stdout",
     "output_type": "stream",
     "text": [
      "INFO:tensorflow:Assets written to: D:/models/aug_22/mnist/C2/mnist_model_c2_aug_lsa_e1_0\\assets\n",
      "Model has been saved\n",
      "INFO:tensorflow:Assets written to: D:/models/aug_22/mnist/C2/mnist_model_c2_aug_lsa_e1_1\\assets\n",
      "Model has been saved\n",
      "INFO:tensorflow:Assets written to: D:/models/aug_22/mnist/C2/mnist_model_c2_aug_lsa_e1_2\\assets\n",
      "Model has been saved\n",
      "INFO:tensorflow:Assets written to: D:/models/aug_22/mnist/C2/mnist_model_c2_aug_lsa_e1_3\\assets\n",
      "Model has been saved\n",
      "INFO:tensorflow:Assets written to: D:/models/aug_22/mnist/C2/mnist_model_c2_aug_lsa_e1_4\\assets\n",
      "Model has been saved\n",
      "INFO:tensorflow:Assets written to: D:/models/aug_22/mnist/C2/mnist_model_c2_aug_lsa_e1_5\\assets\n",
      "Model has been saved\n",
      "INFO:tensorflow:Assets written to: D:/models/aug_22/mnist/C2/mnist_model_c2_aug_lsa_e1_6\\assets\n",
      "Model has been saved\n",
      "INFO:tensorflow:Assets written to: D:/models/aug_22/mnist/C2/mnist_model_c2_aug_lsa_e1_7\\assets\n",
      "Model has been saved\n",
      "INFO:tensorflow:Assets written to: D:/models/aug_22/mnist/C2/mnist_model_c2_aug_lsa_e1_8\\assets\n",
      "Model has been saved\n",
      "INFO:tensorflow:Assets written to: D:/models/aug_22/mnist/C2/mnist_model_c2_aug_lsa_e1_9\\assets\n",
      "Model has been saved\n",
      "INFO:tensorflow:Assets written to: D:/models/aug_22/mnist/C2/mnist_model_c2_aug_lsa_e1_10\\assets\n",
      "Model has been saved\n",
      "INFO:tensorflow:Assets written to: D:/models/aug_22/mnist/C2/mnist_model_c2_aug_lsa_e1_11\\assets\n",
      "Model has been saved\n",
      "INFO:tensorflow:Assets written to: D:/models/aug_22/mnist/C2/mnist_model_c2_aug_lsa_e1_12\\assets\n",
      "Model has been saved\n",
      "INFO:tensorflow:Assets written to: D:/models/aug_22/mnist/C2/mnist_model_c2_aug_lsa_e1_13\\assets\n",
      "Model has been saved\n",
      "INFO:tensorflow:Assets written to: D:/models/aug_22/mnist/C2/mnist_model_c2_aug_lsa_e1_14\\assets\n",
      "Model has been saved\n",
      "INFO:tensorflow:Assets written to: D:/models/aug_22/mnist/C2/mnist_model_c2_aug_lsa_e1_15\\assets\n",
      "Model has been saved\n",
      "INFO:tensorflow:Assets written to: D:/models/aug_22/mnist/C2/mnist_model_c2_aug_lsa_e1_16\\assets\n",
      "Model has been saved\n",
      "INFO:tensorflow:Assets written to: D:/models/aug_22/mnist/C2/mnist_model_c2_aug_lsa_e1_17\\assets\n",
      "Model has been saved\n",
      "INFO:tensorflow:Assets written to: D:/models/aug_22/mnist/C2/mnist_model_c2_aug_lsa_e1_18\\assets\n",
      "Model has been saved\n",
      "INFO:tensorflow:Assets written to: D:/models/aug_22/mnist/C2/mnist_model_c2_aug_lsa_e1_19\\assets\n",
      "Model has been saved\n"
     ]
    }
   ],
   "source": [
    "#new_model_lsa_dir  = \"D:/models/gtsrb_models/C1/gtsrb_model_c1_sep_lsa_e2\"\n",
    "new_model_lsa_dir  = \"D:/models/aug_22/\"+dataset+\"/C2/\"+dataset+\"_model_c2_aug_lsa_e1\"\n",
    "\n",
    "i=0\n",
    "\n",
    "for model in models_lsa:\n",
    "    model.save(new_model_lsa_dir+\"_\"+str(i))\n",
    "    i+=1"
   ]
  },
  {
   "cell_type": "code",
   "execution_count": 45,
   "id": "52746ba6",
   "metadata": {},
   "outputs": [],
   "source": [
    "import gc"
   ]
  },
  {
   "cell_type": "code",
   "execution_count": 46,
   "id": "759bc241",
   "metadata": {},
   "outputs": [],
   "source": [
    "try:\n",
    "    del lsa_values\n",
    "    del top_images_by_lsa\n",
    "    del top_labels_by_lsa\n",
    "    del image_sets_lsa\n",
    "    del label_sets_lsa\n",
    "    del models_lsa\n",
    "except:\n",
    "    print(\"Error\")"
   ]
  },
  {
   "cell_type": "code",
   "execution_count": null,
   "id": "a5e9b28b",
   "metadata": {},
   "outputs": [],
   "source": []
  },
  {
   "cell_type": "code",
   "execution_count": 47,
   "id": "402aa433",
   "metadata": {},
   "outputs": [
    {
     "data": {
      "text/plain": [
       "306991"
      ]
     },
     "execution_count": 47,
     "metadata": {},
     "output_type": "execute_result"
    }
   ],
   "source": [
    "gc.collect()"
   ]
  },
  {
   "cell_type": "code",
   "execution_count": null,
   "id": "66c44d5f",
   "metadata": {},
   "outputs": [],
   "source": [
    "loading = False\n",
    "\n",
    "models_lsa = []\n",
    "\n",
    "if loading:\n",
    "    for i in range(10,20):\n",
    "        #model_lsa_dir = \"D:/models/aug_22/gtsrb/C1/gtsrb_model_c1_aug_lsa_e1_\"+str(i)\n",
    "        print(model_lsa_dir)\n",
    "        model =utils.My_model(dataset,True,model_lsa_dir)\n",
    "        model.model.compile(loss= 'categorical_crossentropy', optimizer = 'rmsprop', metrics = ['accuracy',tf.keras.metrics.Precision(), tf.keras.metrics.Recall()])\n",
    "        models_lsa.append(model)\n",
    "       \n",
    "    "
   ]
  },
  {
   "cell_type": "markdown",
   "id": "a13ef06e",
   "metadata": {},
   "source": [
    "## Training guided by DSA"
   ]
  },
  {
   "cell_type": "code",
   "execution_count": 48,
   "id": "14fc6a14",
   "metadata": {},
   "outputs": [],
   "source": [
    "dsa_direction = \"C:/Users/fjdur/Documents/upc-july/data/\"+dataset+\"/dsa_values.npy\""
   ]
  },
  {
   "cell_type": "code",
   "execution_count": 49,
   "id": "585cd8f2",
   "metadata": {},
   "outputs": [],
   "source": [
    "dsa_values = np.load(dsa_direction)"
   ]
  },
  {
   "cell_type": "code",
   "execution_count": 50,
   "id": "5944946f",
   "metadata": {},
   "outputs": [],
   "source": [
    "top_images_by_dsa = utils.get_x_of_indexes(list(np.flip(np.argsort(dsa_values))),x_train_and_adversary)\n",
    "top_labels_by_dsa = utils.get_x_of_indexes(list(np.flip(np.argsort(dsa_values))),y_train_and_adversary)"
   ]
  },
  {
   "cell_type": "code",
   "execution_count": 51,
   "id": "099c7fa2",
   "metadata": {},
   "outputs": [
    {
     "name": "stdout",
     "output_type": "stream",
     "text": [
      "0 :\n",
      "0  ->  2800\n",
      "2800\n",
      "1 :\n",
      "0  ->  5600\n",
      "5600\n",
      "2 :\n",
      "0  ->  8400\n",
      "8400\n",
      "3 :\n",
      "0  ->  11200\n",
      "11200\n",
      "4 :\n",
      "0  ->  14000\n",
      "14000\n",
      "5 :\n",
      "0  ->  16800\n",
      "16800\n",
      "6 :\n",
      "0  ->  19600\n",
      "19600\n",
      "7 :\n",
      "0  ->  22400\n",
      "22400\n",
      "8 :\n",
      "0  ->  25200\n",
      "25200\n",
      "9 :\n",
      "0  ->  28000\n",
      "28000\n",
      "10 :\n",
      "0  ->  30800\n",
      "30800\n",
      "11 :\n",
      "0  ->  33600\n",
      "33600\n",
      "12 :\n",
      "0  ->  36400\n",
      "36400\n",
      "13 :\n",
      "0  ->  39200\n",
      "39200\n",
      "14 :\n",
      "0  ->  42000\n",
      "42000\n",
      "15 :\n",
      "0  ->  44800\n",
      "44800\n",
      "16 :\n",
      "0  ->  47600\n",
      "47600\n",
      "17 :\n",
      "0  ->  50400\n",
      "50400\n",
      "18 :\n",
      "0  ->  53200\n",
      "53200\n",
      "19 :\n",
      "Last\n",
      "0  ->  58798\n",
      "55998\n"
     ]
    }
   ],
   "source": [
    "m = n_data_points\n",
    "n = 0\n",
    "image_sets_dsa = []\n",
    "label_sets_dsa = []\n",
    "\n",
    "\n",
    "for i in range((len(top_images_by_dsa)//m)+1):\n",
    "    print(i,\":\")\n",
    "    if (i+1 >= ((len(top_images_by_dsa)//m)+1)):\n",
    "        print(\"Last\")\n",
    "        print(0,\" -> \",n+m+(len(top_images_by_dsa)%m))\n",
    "        top_images_by_dsa_n = np.array(top_images_by_dsa[:n+m+(len(top_images_by_dsa)%m)])\n",
    "        top_labels_by_dsa_n = np.array(top_labels_by_dsa[:n+m+(len(top_images_by_dsa)%m)])\n",
    "    else:\n",
    "        print(0,\" -> \",m+n)\n",
    "        top_images_by_dsa_n = np.array(top_images_by_dsa[:n+m])\n",
    "        top_labels_by_dsa_n = np.array(top_labels_by_dsa[:n+m])\n",
    "    image_sets_dsa.append(top_images_by_dsa_n)\n",
    "    label_sets_dsa.append(top_labels_by_dsa_n)\n",
    "    print(len(top_images_by_dsa_n))\n",
    "    n += m\n",
    "\n"
   ]
  },
  {
   "cell_type": "code",
   "execution_count": 52,
   "id": "8713d09c",
   "metadata": {
    "scrolled": true
   },
   "outputs": [
    {
     "name": "stdout",
     "output_type": "stream",
     "text": [
      "C:/Users/fjdur/Documents/upc-july/models/models2\n",
      "0 :\n",
      "Model loaded correctly\n",
      "Model compiled\n",
      "1 :\n",
      "Model loaded correctly\n",
      "Model compiled\n",
      "2 :\n",
      "Model loaded correctly\n",
      "Model compiled\n",
      "3 :\n",
      "Model loaded correctly\n",
      "Model compiled\n",
      "4 :\n",
      "Model loaded correctly\n",
      "Model compiled\n",
      "5 :\n",
      "Model loaded correctly\n",
      "Model compiled\n",
      "6 :\n",
      "Model loaded correctly\n",
      "Model compiled\n",
      "7 :\n",
      "Model loaded correctly\n",
      "Model compiled\n",
      "8 :\n",
      "Model loaded correctly\n",
      "Model compiled\n",
      "9 :\n",
      "Model loaded correctly\n",
      "Model compiled\n",
      "10 :\n",
      "Model loaded correctly\n",
      "Model compiled\n",
      "11 :\n",
      "Model loaded correctly\n",
      "Model compiled\n",
      "12 :\n",
      "Model loaded correctly\n",
      "Model compiled\n",
      "13 :\n",
      "Model loaded correctly\n",
      "Model compiled\n",
      "14 :\n",
      "Model loaded correctly\n",
      "Model compiled\n",
      "15 :\n",
      "Model loaded correctly\n",
      "Model compiled\n",
      "16 :\n",
      "Model loaded correctly\n",
      "Model compiled\n",
      "17 :\n",
      "Model loaded correctly\n",
      "Model compiled\n",
      "18 :\n",
      "Model loaded correctly\n",
      "Model compiled\n",
      "19 :\n",
      "Model loaded correctly\n",
      "Model compiled\n"
     ]
    }
   ],
   "source": [
    "print(model_dir)\n",
    "\n",
    "models_dsa = []\n",
    "for i in range(len(label_sets_dsa)):\n",
    "    print(i,\":\")\n",
    "    model = utils.My_model(dataset,True,model_dir)\n",
    "    model.compile_model()\n",
    "    models_dsa.append(model)\n"
   ]
  },
  {
   "cell_type": "code",
   "execution_count": 53,
   "id": "9990e037",
   "metadata": {
    "scrolled": true
   },
   "outputs": [
    {
     "name": "stdout",
     "output_type": "stream",
     "text": [
      "0\n",
      "Epoch 1/10\n",
      "44/44 [==============================] - 13s 255ms/step - loss: 0.3034 - accuracy: 0.9544 - val_loss: 0.0607 - val_accuracy: 0.9871\n",
      "Epoch 2/10\n",
      "44/44 [==============================] - 11s 251ms/step - loss: 0.1975 - accuracy: 0.9504 - val_loss: 0.0555 - val_accuracy: 0.9871\n",
      "Epoch 3/10\n",
      "44/44 [==============================] - 11s 249ms/step - loss: 0.1809 - accuracy: 0.9606 - val_loss: 0.0513 - val_accuracy: 0.9861\n",
      "Epoch 4/10\n",
      "44/44 [==============================] - 11s 256ms/step - loss: 0.1301 - accuracy: 0.9636 - val_loss: 0.0534 - val_accuracy: 0.9846\n",
      "Epoch 5/10\n",
      "44/44 [==============================] - 10s 241ms/step - loss: 0.1168 - accuracy: 0.9633 - val_loss: 0.0629 - val_accuracy: 0.9861\n",
      "Epoch 6/10\n",
      "44/44 [==============================] - 10s 239ms/step - loss: 0.0999 - accuracy: 0.9709 - val_loss: 0.0620 - val_accuracy: 0.9857\n",
      "Epoch 7/10\n",
      "44/44 [==============================] - 10s 239ms/step - loss: 0.0921 - accuracy: 0.9710 - val_loss: 0.0966 - val_accuracy: 0.9811\n",
      "Epoch 8/10\n",
      "44/44 [==============================] - 10s 239ms/step - loss: 0.1151 - accuracy: 0.9742 - val_loss: 0.0623 - val_accuracy: 0.9863\n",
      "Epoch 9/10\n",
      "44/44 [==============================] - 10s 242ms/step - loss: 0.0720 - accuracy: 0.9840 - val_loss: 0.0759 - val_accuracy: 0.9831\n",
      "Epoch 10/10\n",
      "44/44 [==============================] - 10s 240ms/step - loss: 0.0801 - accuracy: 0.9759 - val_loss: 0.0688 - val_accuracy: 0.9869\n",
      "Duration: 0:01:48.504255\n"
     ]
    }
   ],
   "source": [
    "n=0\n",
    "print(n)\n",
    "\n",
    "models_dsa[n].fit_model(image_sets_dsa[n],label_sets_dsa[n],x_val,y_val,epochs=10,batch_size = 64)\n",
    "n = n+1"
   ]
  },
  {
   "cell_type": "code",
   "execution_count": 54,
   "id": "c24fa024",
   "metadata": {},
   "outputs": [
    {
     "name": "stdout",
     "output_type": "stream",
     "text": [
      "1\n",
      "Epoch 1/10\n",
      "88/88 [==============================] - 17s 176ms/step - loss: 0.2235 - accuracy: 0.9588 - val_loss: 0.0402 - val_accuracy: 0.9878\n",
      "Epoch 2/10\n",
      "88/88 [==============================] - 17s 193ms/step - loss: 0.1553 - accuracy: 0.9638 - val_loss: 0.0468 - val_accuracy: 0.9877\n",
      "Epoch 3/10\n",
      "88/88 [==============================] - 16s 185ms/step - loss: 0.1412 - accuracy: 0.9690 - val_loss: 0.0513 - val_accuracy: 0.9879\n",
      "Epoch 4/10\n",
      "88/88 [==============================] - 15s 175ms/step - loss: 0.1232 - accuracy: 0.9723 - val_loss: 0.0747 - val_accuracy: 0.9797\n",
      "Epoch 5/10\n",
      "88/88 [==============================] - 15s 176ms/step - loss: 0.1069 - accuracy: 0.9721 - val_loss: 0.0522 - val_accuracy: 0.9864\n",
      "Epoch 6/10\n",
      "88/88 [==============================] - 15s 175ms/step - loss: 0.0807 - accuracy: 0.9798 - val_loss: 0.0513 - val_accuracy: 0.9876\n",
      "Epoch 7/10\n",
      "88/88 [==============================] - 15s 175ms/step - loss: 0.1056 - accuracy: 0.9767 - val_loss: 0.0527 - val_accuracy: 0.9869\n",
      "Epoch 8/10\n",
      "88/88 [==============================] - 15s 175ms/step - loss: 0.0766 - accuracy: 0.9797 - val_loss: 0.0459 - val_accuracy: 0.9879\n",
      "Epoch 9/10\n",
      "88/88 [==============================] - 16s 178ms/step - loss: 0.0760 - accuracy: 0.9802 - val_loss: 0.0504 - val_accuracy: 0.9865\n",
      "Epoch 10/10\n",
      "88/88 [==============================] - 16s 182ms/step - loss: 0.0669 - accuracy: 0.9821 - val_loss: 0.0600 - val_accuracy: 0.9849\n",
      "Duration: 0:02:38.576320\n"
     ]
    }
   ],
   "source": [
    "n=1\n",
    "print(n)\n",
    "models_dsa[n].fit_model(image_sets_dsa[n],label_sets_dsa[n],x_val,y_val,epochs=10,batch_size = 64)\n",
    "n = n+1"
   ]
  },
  {
   "cell_type": "code",
   "execution_count": 55,
   "id": "2582ba35",
   "metadata": {},
   "outputs": [
    {
     "name": "stdout",
     "output_type": "stream",
     "text": [
      "2\n",
      "Epoch 1/10\n",
      "132/132 [==============================] - 22s 157ms/step - loss: 0.1748 - accuracy: 0.9631 - val_loss: 0.0590 - val_accuracy: 0.9845\n",
      "Epoch 2/10\n",
      "132/132 [==============================] - 20s 154ms/step - loss: 0.1433 - accuracy: 0.9672 - val_loss: 0.0490 - val_accuracy: 0.9858\n",
      "Epoch 3/10\n",
      "132/132 [==============================] - 20s 153ms/step - loss: 0.1277 - accuracy: 0.9702 - val_loss: 0.0483 - val_accuracy: 0.9876\n",
      "Epoch 4/10\n",
      "132/132 [==============================] - 20s 153ms/step - loss: 0.1106 - accuracy: 0.9746 - val_loss: 0.0453 - val_accuracy: 0.9881\n",
      "Epoch 5/10\n",
      "132/132 [==============================] - 21s 157ms/step - loss: 0.0894 - accuracy: 0.9764 - val_loss: 0.0791 - val_accuracy: 0.9820\n",
      "Epoch 6/10\n",
      "132/132 [==============================] - 22s 165ms/step - loss: 0.0934 - accuracy: 0.9781 - val_loss: 0.0504 - val_accuracy: 0.9872\n",
      "Epoch 7/10\n",
      "132/132 [==============================] - 20s 154ms/step - loss: 0.0814 - accuracy: 0.9759 - val_loss: 0.0623 - val_accuracy: 0.9856\n",
      "Epoch 8/10\n",
      "132/132 [==============================] - 20s 153ms/step - loss: 0.0753 - accuracy: 0.9800 - val_loss: 0.1344 - val_accuracy: 0.9756\n",
      "Epoch 9/10\n",
      "132/132 [==============================] - 20s 154ms/step - loss: 0.0801 - accuracy: 0.9802 - val_loss: 0.0576 - val_accuracy: 0.9864\n",
      "Epoch 10/10\n",
      "132/132 [==============================] - 20s 154ms/step - loss: 0.0688 - accuracy: 0.9810 - val_loss: 0.0399 - val_accuracy: 0.9874\n",
      "Duration: 0:03:26.658087\n"
     ]
    }
   ],
   "source": [
    "n=2\n",
    "print(n)\n",
    "\n",
    "models_dsa[n].fit_model(image_sets_dsa[n],label_sets_dsa[n],x_val,y_val,epochs=10,batch_size = 64)\n",
    "n = n+1"
   ]
  },
  {
   "cell_type": "code",
   "execution_count": 56,
   "id": "62d686d3",
   "metadata": {},
   "outputs": [
    {
     "name": "stdout",
     "output_type": "stream",
     "text": [
      "3\n",
      "Epoch 1/10\n",
      "175/175 [==============================] - 27s 143ms/step - loss: 0.1578 - accuracy: 0.9678 - val_loss: 0.0453 - val_accuracy: 0.9878\n",
      "Epoch 2/10\n",
      "175/175 [==============================] - 25s 142ms/step - loss: 0.1252 - accuracy: 0.9719 - val_loss: 0.0438 - val_accuracy: 0.9874\n",
      "Epoch 3/10\n",
      "175/175 [==============================] - 25s 142ms/step - loss: 0.1098 - accuracy: 0.9765 - val_loss: 0.0424 - val_accuracy: 0.9891\n",
      "Epoch 4/10\n",
      "175/175 [==============================] - 25s 142ms/step - loss: 0.0989 - accuracy: 0.9759 - val_loss: 0.0450 - val_accuracy: 0.9874\n",
      "Epoch 5/10\n",
      "175/175 [==============================] - 25s 142ms/step - loss: 0.0781 - accuracy: 0.9805 - val_loss: 0.0471 - val_accuracy: 0.9867\n",
      "Epoch 6/10\n",
      "175/175 [==============================] - 25s 142ms/step - loss: 0.0878 - accuracy: 0.9798 - val_loss: 0.0479 - val_accuracy: 0.9877\n",
      "Epoch 7/10\n",
      "175/175 [==============================] - 25s 143ms/step - loss: 0.0913 - accuracy: 0.9764 - val_loss: 0.0729 - val_accuracy: 0.9854\n",
      "Epoch 8/10\n",
      "175/175 [==============================] - 25s 142ms/step - loss: 0.0693 - accuracy: 0.9814 - val_loss: 0.0586 - val_accuracy: 0.9847\n",
      "Epoch 9/10\n",
      "175/175 [==============================] - 25s 142ms/step - loss: 0.0696 - accuracy: 0.9831 - val_loss: 0.0625 - val_accuracy: 0.9831\n",
      "Epoch 10/10\n",
      "175/175 [==============================] - 25s 142ms/step - loss: 0.0585 - accuracy: 0.9824 - val_loss: 0.0648 - val_accuracy: 0.9858\n",
      "Duration: 0:04:10.404686\n"
     ]
    }
   ],
   "source": [
    "print(n)\n",
    "models_dsa[n].fit_model(image_sets_dsa[n],label_sets_dsa[n],x_val,y_val,epochs=10,batch_size = 64)\n",
    "n = n+1"
   ]
  },
  {
   "cell_type": "code",
   "execution_count": 57,
   "id": "c84953cf",
   "metadata": {},
   "outputs": [
    {
     "name": "stdout",
     "output_type": "stream",
     "text": [
      "4\n",
      "Epoch 1/10\n",
      "219/219 [==============================] - 32s 137ms/step - loss: 0.1527 - accuracy: 0.9657 - val_loss: 0.0473 - val_accuracy: 0.9871\n",
      "Epoch 2/10\n",
      "219/219 [==============================] - 31s 142ms/step - loss: 0.1025 - accuracy: 0.9740 - val_loss: 0.0427 - val_accuracy: 0.9881\n",
      "Epoch 3/10\n",
      "219/219 [==============================] - 30s 137ms/step - loss: 0.1106 - accuracy: 0.9743 - val_loss: 0.0446 - val_accuracy: 0.9888\n",
      "Epoch 4/10\n",
      "219/219 [==============================] - 30s 137ms/step - loss: 0.0991 - accuracy: 0.9760 - val_loss: 0.0565 - val_accuracy: 0.9856\n",
      "Epoch 5/10\n",
      "219/219 [==============================] - 30s 138ms/step - loss: 0.0844 - accuracy: 0.9765 - val_loss: 0.0415 - val_accuracy: 0.9880\n",
      "Epoch 6/10\n",
      "219/219 [==============================] - 32s 144ms/step - loss: 0.0800 - accuracy: 0.9828 - val_loss: 0.0581 - val_accuracy: 0.9849\n",
      "Epoch 7/10\n",
      "219/219 [==============================] - 30s 139ms/step - loss: 0.0821 - accuracy: 0.9811 - val_loss: 0.0683 - val_accuracy: 0.9847\n",
      "Epoch 8/10\n",
      "219/219 [==============================] - 30s 138ms/step - loss: 0.0684 - accuracy: 0.9831 - val_loss: 0.0533 - val_accuracy: 0.9851\n",
      "Epoch 9/10\n",
      "219/219 [==============================] - 30s 138ms/step - loss: 0.0664 - accuracy: 0.9818 - val_loss: 0.0652 - val_accuracy: 0.9830\n",
      "Epoch 10/10\n",
      "219/219 [==============================] - 30s 138ms/step - loss: 0.0608 - accuracy: 0.9839 - val_loss: 0.0500 - val_accuracy: 0.9864\n",
      "Duration: 0:05:05.819986\n"
     ]
    }
   ],
   "source": [
    "print(n)#\n",
    "models_dsa[n].fit_model(image_sets_dsa[n],label_sets_dsa[n],x_val,y_val,epochs=10,batch_size = 64)\n",
    "n = n+1"
   ]
  },
  {
   "cell_type": "code",
   "execution_count": 58,
   "id": "1f934485",
   "metadata": {},
   "outputs": [
    {
     "name": "stdout",
     "output_type": "stream",
     "text": [
      "5\n",
      "Epoch 1/10\n",
      "263/263 [==============================] - 37s 134ms/step - loss: 0.1498 - accuracy: 0.9673 - val_loss: 0.0440 - val_accuracy: 0.9894\n",
      "Epoch 2/10\n",
      "263/263 [==============================] - 35s 134ms/step - loss: 0.1167 - accuracy: 0.9723 - val_loss: 0.0666 - val_accuracy: 0.9840\n",
      "Epoch 3/10\n",
      "263/263 [==============================] - 35s 134ms/step - loss: 0.1086 - accuracy: 0.9742 - val_loss: 0.0528 - val_accuracy: 0.9878\n",
      "Epoch 4/10\n",
      "263/263 [==============================] - 35s 134ms/step - loss: 0.0765 - accuracy: 0.9802 - val_loss: 0.0494 - val_accuracy: 0.9874\n",
      "Epoch 5/10\n",
      "263/263 [==============================] - 35s 134ms/step - loss: 0.0891 - accuracy: 0.9781 - val_loss: 0.0464 - val_accuracy: 0.9876\n",
      "Epoch 6/10\n",
      "263/263 [==============================] - 35s 134ms/step - loss: 0.0809 - accuracy: 0.9795 - val_loss: 0.0714 - val_accuracy: 0.9849\n",
      "Epoch 7/10\n",
      "263/263 [==============================] - 35s 135ms/step - loss: 0.0775 - accuracy: 0.9809 - val_loss: 0.0506 - val_accuracy: 0.9854\n",
      "Epoch 8/10\n",
      "263/263 [==============================] - 35s 134ms/step - loss: 0.0766 - accuracy: 0.9813 - val_loss: 0.0482 - val_accuracy: 0.9881\n",
      "Epoch 9/10\n",
      "263/263 [==============================] - 36s 136ms/step - loss: 0.0755 - accuracy: 0.9809 - val_loss: 0.0639 - val_accuracy: 0.9839\n",
      "Epoch 10/10\n",
      "263/263 [==============================] - 35s 134ms/step - loss: 0.0693 - accuracy: 0.9832 - val_loss: 0.0623 - val_accuracy: 0.9851\n",
      "Duration: 0:05:54.740378\n"
     ]
    }
   ],
   "source": [
    "print(n)\n",
    "models_dsa[n].fit_model(image_sets_dsa[n],label_sets_dsa[n],x_val,y_val,epochs=10,batch_size = 64)\n",
    "n = n+1"
   ]
  },
  {
   "cell_type": "code",
   "execution_count": 59,
   "id": "50981582",
   "metadata": {},
   "outputs": [
    {
     "name": "stdout",
     "output_type": "stream",
     "text": [
      "6\n",
      "Epoch 1/10\n",
      "307/307 [==============================] - 42s 131ms/step - loss: 0.1354 - accuracy: 0.9713 - val_loss: 0.0500 - val_accuracy: 0.9866\n",
      "Epoch 2/10\n",
      "307/307 [==============================] - 41s 135ms/step - loss: 0.1085 - accuracy: 0.9735 - val_loss: 0.0454 - val_accuracy: 0.9870\n",
      "Epoch 3/10\n",
      "307/307 [==============================] - 41s 132ms/step - loss: 0.0892 - accuracy: 0.9784 - val_loss: 0.0667 - val_accuracy: 0.9819\n",
      "Epoch 4/10\n",
      "307/307 [==============================] - 40s 131ms/step - loss: 0.0928 - accuracy: 0.9765 - val_loss: 0.1330 - val_accuracy: 0.9712\n",
      "Epoch 5/10\n",
      "307/307 [==============================] - 40s 132ms/step - loss: 0.0926 - accuracy: 0.9779 - val_loss: 0.0411 - val_accuracy: 0.9887\n",
      "Epoch 6/10\n",
      "307/307 [==============================] - 40s 131ms/step - loss: 0.0778 - accuracy: 0.9795 - val_loss: 0.0558 - val_accuracy: 0.9870\n",
      "Epoch 7/10\n",
      "307/307 [==============================] - 40s 131ms/step - loss: 0.0756 - accuracy: 0.9799 - val_loss: 0.0476 - val_accuracy: 0.9880\n",
      "Epoch 8/10\n",
      "307/307 [==============================] - 40s 132ms/step - loss: 0.0727 - accuracy: 0.9806 - val_loss: 0.0524 - val_accuracy: 0.9875\n",
      "Epoch 9/10\n",
      "307/307 [==============================] - 40s 131ms/step - loss: 0.0655 - accuracy: 0.9835 - val_loss: 0.0610 - val_accuracy: 0.9852\n",
      "Epoch 10/10\n",
      "307/307 [==============================] - 40s 132ms/step - loss: 0.0721 - accuracy: 0.9833 - val_loss: 0.0730 - val_accuracy: 0.9832\n",
      "Duration: 0:06:45.563744\n"
     ]
    }
   ],
   "source": [
    "print(n)\n",
    "models_dsa[n].fit_model(image_sets_dsa[n],label_sets_dsa[n],x_val,y_val,epochs=10,batch_size = 64)\n",
    "n = n+1"
   ]
  },
  {
   "cell_type": "code",
   "execution_count": 60,
   "id": "688f57f8",
   "metadata": {},
   "outputs": [
    {
     "name": "stdout",
     "output_type": "stream",
     "text": [
      "7\n",
      "Epoch 1/10\n",
      "350/350 [==============================] - 47s 129ms/step - loss: 0.1350 - accuracy: 0.9678 - val_loss: 0.0452 - val_accuracy: 0.9883\n",
      "Epoch 2/10\n",
      "350/350 [==============================] - 45s 128ms/step - loss: 0.1001 - accuracy: 0.9769 - val_loss: 0.0439 - val_accuracy: 0.9880\n",
      "Epoch 3/10\n",
      "350/350 [==============================] - 45s 128ms/step - loss: 0.0992 - accuracy: 0.9759 - val_loss: 0.0754 - val_accuracy: 0.9831\n",
      "Epoch 4/10\n",
      "350/350 [==============================] - 45s 127ms/step - loss: 0.0886 - accuracy: 0.9788 - val_loss: 0.0444 - val_accuracy: 0.9879\n",
      "Epoch 5/10\n",
      "350/350 [==============================] - 45s 128ms/step - loss: 0.0861 - accuracy: 0.9782 - val_loss: 0.0961 - val_accuracy: 0.9805\n",
      "Epoch 6/10\n",
      "350/350 [==============================] - 45s 128ms/step - loss: 0.0688 - accuracy: 0.9805 - val_loss: 0.0479 - val_accuracy: 0.9880\n",
      "Epoch 7/10\n",
      "350/350 [==============================] - 45s 128ms/step - loss: 0.0751 - accuracy: 0.9795 - val_loss: 0.0431 - val_accuracy: 0.9876\n",
      "Epoch 8/10\n",
      "350/350 [==============================] - 45s 128ms/step - loss: 0.0823 - accuracy: 0.9805 - val_loss: 0.0635 - val_accuracy: 0.9856\n",
      "Epoch 9/10\n",
      "350/350 [==============================] - 45s 129ms/step - loss: 0.0688 - accuracy: 0.9820 - val_loss: 0.1108 - val_accuracy: 0.9814\n",
      "Epoch 10/10\n",
      "350/350 [==============================] - 45s 128ms/step - loss: 0.0750 - accuracy: 0.9796 - val_loss: 0.0486 - val_accuracy: 0.9875\n",
      "Duration: 0:07:29.515933\n"
     ]
    }
   ],
   "source": [
    "print(n)\n",
    "models_dsa[n].fit_model(image_sets_dsa[n],label_sets_dsa[n],x_val,y_val,epochs=10,batch_size = 64)\n",
    "n = n+1"
   ]
  },
  {
   "cell_type": "code",
   "execution_count": 61,
   "id": "27a88171",
   "metadata": {},
   "outputs": [
    {
     "name": "stdout",
     "output_type": "stream",
     "text": [
      "8\n",
      "Epoch 1/10\n",
      "394/394 [==============================] - 52s 128ms/step - loss: 0.1304 - accuracy: 0.9715 - val_loss: 0.0537 - val_accuracy: 0.9865\n",
      "Epoch 2/10\n",
      "394/394 [==============================] - 50s 128ms/step - loss: 0.1019 - accuracy: 0.9764 - val_loss: 0.0530 - val_accuracy: 0.9841\n",
      "Epoch 3/10\n",
      "394/394 [==============================] - 50s 128ms/step - loss: 0.0989 - accuracy: 0.9767 - val_loss: 0.0506 - val_accuracy: 0.9869\n",
      "Epoch 4/10\n",
      "394/394 [==============================] - 51s 128ms/step - loss: 0.0840 - accuracy: 0.9790 - val_loss: 0.0515 - val_accuracy: 0.9867\n",
      "Epoch 5/10\n",
      "394/394 [==============================] - 50s 128ms/step - loss: 0.0787 - accuracy: 0.9810 - val_loss: 0.0583 - val_accuracy: 0.9858\n",
      "Epoch 6/10\n",
      "394/394 [==============================] - 50s 128ms/step - loss: 0.0839 - accuracy: 0.9805 - val_loss: 0.0521 - val_accuracy: 0.9860\n",
      "Epoch 7/10\n",
      "394/394 [==============================] - 50s 128ms/step - loss: 0.0808 - accuracy: 0.9811 - val_loss: 0.0541 - val_accuracy: 0.9877\n",
      "Epoch 8/10\n",
      "394/394 [==============================] - 50s 128ms/step - loss: 0.0732 - accuracy: 0.9809 - val_loss: 0.0454 - val_accuracy: 0.9871\n",
      "Epoch 9/10\n",
      "394/394 [==============================] - 51s 128ms/step - loss: 0.0739 - accuracy: 0.9819 - val_loss: 0.0982 - val_accuracy: 0.9822\n",
      "Epoch 10/10\n",
      "394/394 [==============================] - 50s 128ms/step - loss: 0.0696 - accuracy: 0.9828 - val_loss: 0.0529 - val_accuracy: 0.9853\n",
      "Duration: 0:08:25.948820\n"
     ]
    }
   ],
   "source": [
    "print(n)\n",
    "models_dsa[n].fit_model(image_sets_dsa[n],label_sets_dsa[n],x_val,y_val,epochs=10,batch_size = 64)\n",
    "n = n+1"
   ]
  },
  {
   "cell_type": "code",
   "execution_count": 62,
   "id": "85b5daa1",
   "metadata": {},
   "outputs": [
    {
     "name": "stdout",
     "output_type": "stream",
     "text": [
      "9\n",
      "Epoch 1/10\n",
      "438/438 [==============================] - 57s 128ms/step - loss: 0.1185 - accuracy: 0.9718 - val_loss: 0.0426 - val_accuracy: 0.9876\n",
      "Epoch 2/10\n",
      "438/438 [==============================] - 55s 127ms/step - loss: 0.1031 - accuracy: 0.9755 - val_loss: 0.0470 - val_accuracy: 0.9874\n",
      "Epoch 3/10\n",
      "438/438 [==============================] - 56s 127ms/step - loss: 0.0917 - accuracy: 0.9756 - val_loss: 0.1972 - val_accuracy: 0.9814\n",
      "Epoch 4/10\n",
      "438/438 [==============================] - 56s 127ms/step - loss: 0.0895 - accuracy: 0.9787 - val_loss: 0.0459 - val_accuracy: 0.9884\n",
      "Epoch 5/10\n",
      "438/438 [==============================] - 56s 127ms/step - loss: 0.0812 - accuracy: 0.9788 - val_loss: 0.0517 - val_accuracy: 0.9871\n",
      "Epoch 6/10\n",
      "438/438 [==============================] - 56s 127ms/step - loss: 0.0774 - accuracy: 0.9809 - val_loss: 0.0495 - val_accuracy: 0.9858\n",
      "Epoch 7/10\n",
      "438/438 [==============================] - 56s 127ms/step - loss: 0.0727 - accuracy: 0.9821 - val_loss: 0.0458 - val_accuracy: 0.9877\n",
      "Epoch 8/10\n",
      "438/438 [==============================] - 56s 128ms/step - loss: 0.0808 - accuracy: 0.9806 - val_loss: 0.0607 - val_accuracy: 0.9874\n",
      "Epoch 9/10\n",
      "438/438 [==============================] - 56s 127ms/step - loss: 0.0748 - accuracy: 0.9806 - val_loss: 0.0531 - val_accuracy: 0.9854\n",
      "Epoch 10/10\n",
      "438/438 [==============================] - 56s 127ms/step - loss: 0.0714 - accuracy: 0.9834 - val_loss: 0.0491 - val_accuracy: 0.9862\n",
      "Duration: 0:09:18.391447\n"
     ]
    }
   ],
   "source": [
    "print(n)#\n",
    "models_dsa[n].fit_model(image_sets_dsa[n],label_sets_dsa[n],x_val,y_val,epochs=10,batch_size = 64)\n",
    "n = n+1"
   ]
  },
  {
   "cell_type": "code",
   "execution_count": 63,
   "id": "c2579015",
   "metadata": {},
   "outputs": [
    {
     "name": "stdout",
     "output_type": "stream",
     "text": [
      "10\n",
      "Epoch 1/10\n",
      "482/482 [==============================] - 63s 126ms/step - loss: 0.1286 - accuracy: 0.9716 - val_loss: 0.1292 - val_accuracy: 0.9797\n",
      "Epoch 2/10\n",
      "482/482 [==============================] - 61s 126ms/step - loss: 0.0980 - accuracy: 0.9752 - val_loss: 0.0443 - val_accuracy: 0.9876\n",
      "Epoch 3/10\n",
      "482/482 [==============================] - 61s 126ms/step - loss: 0.0924 - accuracy: 0.9780 - val_loss: 0.0705 - val_accuracy: 0.9843\n",
      "Epoch 4/10\n",
      "482/482 [==============================] - 61s 126ms/step - loss: 0.0871 - accuracy: 0.9788 - val_loss: 0.0530 - val_accuracy: 0.9868\n",
      "Epoch 5/10\n",
      "482/482 [==============================] - 61s 126ms/step - loss: 0.0839 - accuracy: 0.9808 - val_loss: 0.0498 - val_accuracy: 0.9880\n",
      "Epoch 6/10\n",
      "482/482 [==============================] - 61s 126ms/step - loss: 0.0868 - accuracy: 0.9793 - val_loss: 0.0532 - val_accuracy: 0.9861\n",
      "Epoch 7/10\n",
      "482/482 [==============================] - 60s 126ms/step - loss: 0.0784 - accuracy: 0.9811 - val_loss: 0.0538 - val_accuracy: 0.9847\n",
      "Epoch 8/10\n",
      "482/482 [==============================] - 61s 126ms/step - loss: 0.0783 - accuracy: 0.9808 - val_loss: 0.0548 - val_accuracy: 0.9863\n",
      "Epoch 9/10\n",
      "482/482 [==============================] - 61s 127ms/step - loss: 0.0743 - accuracy: 0.9812 - val_loss: 0.0553 - val_accuracy: 0.9869\n",
      "Epoch 10/10\n",
      "482/482 [==============================] - 61s 126ms/step - loss: 0.0780 - accuracy: 0.9819 - val_loss: 0.0549 - val_accuracy: 0.9846\n",
      "Duration: 0:10:09.837817\n"
     ]
    }
   ],
   "source": [
    "print(n)\n",
    "models_dsa[n].fit_model(image_sets_dsa[n],label_sets_dsa[n],x_val,y_val,epochs=10,batch_size = 64)\n",
    "n = n+1"
   ]
  },
  {
   "cell_type": "code",
   "execution_count": 64,
   "id": "23a41bd0",
   "metadata": {},
   "outputs": [
    {
     "name": "stdout",
     "output_type": "stream",
     "text": [
      "11\n",
      "Epoch 1/10\n",
      "525/525 [==============================] - 67s 124ms/step - loss: 0.1219 - accuracy: 0.9717 - val_loss: 0.0496 - val_accuracy: 0.9871\n",
      "Epoch 2/10\n",
      "525/525 [==============================] - 65s 124ms/step - loss: 0.0906 - accuracy: 0.9770 - val_loss: 0.0442 - val_accuracy: 0.9882\n",
      "Epoch 3/10\n",
      "525/525 [==============================] - 65s 125ms/step - loss: 0.0932 - accuracy: 0.9778 - val_loss: 0.0582 - val_accuracy: 0.9869\n",
      "Epoch 4/10\n",
      "525/525 [==============================] - 65s 125ms/step - loss: 0.0864 - accuracy: 0.9788 - val_loss: 0.0509 - val_accuracy: 0.9873\n",
      "Epoch 5/10\n",
      "525/525 [==============================] - 65s 124ms/step - loss: 0.0892 - accuracy: 0.9775 - val_loss: 0.0571 - val_accuracy: 0.9869\n",
      "Epoch 6/10\n",
      "525/525 [==============================] - 65s 125ms/step - loss: 0.0775 - accuracy: 0.9813 - val_loss: 0.0518 - val_accuracy: 0.9877\n",
      "Epoch 7/10\n",
      "525/525 [==============================] - 65s 125ms/step - loss: 0.0828 - accuracy: 0.9801 - val_loss: 0.0505 - val_accuracy: 0.9854\n",
      "Epoch 8/10\n",
      "525/525 [==============================] - 65s 125ms/step - loss: 0.0842 - accuracy: 0.9785 - val_loss: 0.0564 - val_accuracy: 0.9864\n",
      "Epoch 9/10\n",
      "525/525 [==============================] - 67s 127ms/step - loss: 0.0794 - accuracy: 0.9805 - val_loss: 0.0662 - val_accuracy: 0.9839\n",
      "Epoch 10/10\n",
      "525/525 [==============================] - 66s 125ms/step - loss: 0.0826 - accuracy: 0.9790 - val_loss: 0.0524 - val_accuracy: 0.9861\n",
      "Duration: 0:10:56.860872\n"
     ]
    }
   ],
   "source": [
    "print(n)\n",
    "models_dsa[n].fit_model(image_sets_dsa[n],label_sets_dsa[n],x_val,y_val,epochs=10,batch_size = 64)\n",
    "n = n+1"
   ]
  },
  {
   "cell_type": "code",
   "execution_count": 65,
   "id": "adf85f23",
   "metadata": {},
   "outputs": [
    {
     "name": "stdout",
     "output_type": "stream",
     "text": [
      "12\n",
      "Epoch 1/10\n",
      "569/569 [==============================] - 73s 125ms/step - loss: 0.1230 - accuracy: 0.9696 - val_loss: 0.0619 - val_accuracy: 0.9824\n",
      "Epoch 2/10\n",
      "569/569 [==============================] - 71s 125ms/step - loss: 0.0921 - accuracy: 0.9768 - val_loss: 0.0512 - val_accuracy: 0.9863\n",
      "Epoch 3/10\n",
      "569/569 [==============================] - 71s 126ms/step - loss: 0.0940 - accuracy: 0.9767 - val_loss: 0.0419 - val_accuracy: 0.9883\n",
      "Epoch 4/10\n",
      "569/569 [==============================] - 72s 126ms/step - loss: 0.0787 - accuracy: 0.9809 - val_loss: 0.0636 - val_accuracy: 0.9863\n",
      "Epoch 5/10\n",
      "569/569 [==============================] - 72s 126ms/step - loss: 0.0805 - accuracy: 0.9796 - val_loss: 0.0537 - val_accuracy: 0.9861\n",
      "Epoch 6/10\n",
      "569/569 [==============================] - 72s 126ms/step - loss: 0.0841 - accuracy: 0.9780 - val_loss: 0.0719 - val_accuracy: 0.9808\n",
      "Epoch 7/10\n",
      "569/569 [==============================] - 72s 126ms/step - loss: 0.0776 - accuracy: 0.9811 - val_loss: 0.0567 - val_accuracy: 0.9881\n",
      "Epoch 8/10\n",
      "569/569 [==============================] - 72s 126ms/step - loss: 0.0803 - accuracy: 0.9799 - val_loss: 0.0591 - val_accuracy: 0.9872\n",
      "Epoch 9/10\n",
      "569/569 [==============================] - 72s 126ms/step - loss: 0.0853 - accuracy: 0.9786 - val_loss: 0.0519 - val_accuracy: 0.9869\n",
      "Epoch 10/10\n",
      "569/569 [==============================] - 72s 126ms/step - loss: 0.0768 - accuracy: 0.9809 - val_loss: 0.0551 - val_accuracy: 0.9841\n",
      "Duration: 0:11:57.626144\n"
     ]
    }
   ],
   "source": [
    "print(n)\n",
    "models_dsa[n].fit_model(image_sets_dsa[n],label_sets_dsa[n],x_val,y_val,epochs=10,batch_size = 64)\n",
    "n = n+1"
   ]
  },
  {
   "cell_type": "code",
   "execution_count": 66,
   "id": "41082ec3",
   "metadata": {},
   "outputs": [
    {
     "name": "stdout",
     "output_type": "stream",
     "text": [
      "13\n",
      "Epoch 1/10\n",
      "613/613 [==============================] - 79s 125ms/step - loss: 0.1162 - accuracy: 0.9750 - val_loss: 0.0696 - val_accuracy: 0.9865\n",
      "Epoch 2/10\n",
      "613/613 [==============================] - 77s 126ms/step - loss: 0.0889 - accuracy: 0.9764 - val_loss: 0.0526 - val_accuracy: 0.9870\n",
      "Epoch 3/10\n",
      "613/613 [==============================] - 77s 125ms/step - loss: 0.0939 - accuracy: 0.9768 - val_loss: 0.0691 - val_accuracy: 0.9861\n",
      "Epoch 4/10\n",
      "613/613 [==============================] - 77s 125ms/step - loss: 0.1010 - accuracy: 0.9759 - val_loss: 0.0632 - val_accuracy: 0.9840\n",
      "Epoch 5/10\n",
      "613/613 [==============================] - 77s 125ms/step - loss: 0.0917 - accuracy: 0.9770 - val_loss: 0.0594 - val_accuracy: 0.9864\n",
      "Epoch 6/10\n",
      "613/613 [==============================] - 78s 127ms/step - loss: 0.0875 - accuracy: 0.9791 - val_loss: 0.0508 - val_accuracy: 0.9868\n",
      "Epoch 7/10\n",
      "613/613 [==============================] - 77s 126ms/step - loss: 0.0827 - accuracy: 0.9788 - val_loss: 0.0530 - val_accuracy: 0.9862\n",
      "Epoch 8/10\n",
      "613/613 [==============================] - 77s 125ms/step - loss: 0.0843 - accuracy: 0.9786 - val_loss: 0.0729 - val_accuracy: 0.9854\n",
      "Epoch 9/10\n",
      "613/613 [==============================] - 77s 125ms/step - loss: 0.0792 - accuracy: 0.9801 - val_loss: 0.0693 - val_accuracy: 0.9856\n",
      "Epoch 10/10\n",
      "613/613 [==============================] - 77s 125ms/step - loss: 0.0774 - accuracy: 0.9810 - val_loss: 0.0653 - val_accuracy: 0.9851\n",
      "Duration: 0:12:51.204331\n"
     ]
    }
   ],
   "source": [
    "print(n)\n",
    "models_dsa[n].fit_model(image_sets_dsa[n],label_sets_dsa[n],x_val,y_val,epochs=10,batch_size = 64)\n",
    "n = n+1"
   ]
  },
  {
   "cell_type": "code",
   "execution_count": 67,
   "id": "77a453d5",
   "metadata": {},
   "outputs": [
    {
     "name": "stdout",
     "output_type": "stream",
     "text": [
      "14\n",
      "Epoch 1/10\n",
      "657/657 [==============================] - 83s 124ms/step - loss: 0.1173 - accuracy: 0.9743 - val_loss: 0.0544 - val_accuracy: 0.9853\n",
      "Epoch 2/10\n",
      "657/657 [==============================] - 82s 124ms/step - loss: 0.1001 - accuracy: 0.9754 - val_loss: 0.0466 - val_accuracy: 0.9876\n",
      "Epoch 3/10\n",
      "657/657 [==============================] - 82s 125ms/step - loss: 0.0900 - accuracy: 0.9778 - val_loss: 0.0586 - val_accuracy: 0.9854\n",
      "Epoch 4/10\n",
      "657/657 [==============================] - 82s 125ms/step - loss: 0.0865 - accuracy: 0.9788 - val_loss: 0.0451 - val_accuracy: 0.9878\n",
      "Epoch 5/10\n",
      "657/657 [==============================] - 82s 124ms/step - loss: 0.0871 - accuracy: 0.9784 - val_loss: 0.0657 - val_accuracy: 0.9870\n",
      "Epoch 6/10\n",
      "657/657 [==============================] - 82s 124ms/step - loss: 0.0868 - accuracy: 0.9778 - val_loss: 0.0746 - val_accuracy: 0.9844\n",
      "Epoch 7/10\n",
      "657/657 [==============================] - 82s 124ms/step - loss: 0.0800 - accuracy: 0.9806 - val_loss: 0.0821 - val_accuracy: 0.9828\n",
      "Epoch 8/10\n",
      "657/657 [==============================] - 82s 124ms/step - loss: 0.0857 - accuracy: 0.9792 - val_loss: 0.0613 - val_accuracy: 0.9832\n",
      "Epoch 9/10\n",
      "657/657 [==============================] - 82s 124ms/step - loss: 0.0835 - accuracy: 0.9804 - val_loss: 0.0666 - val_accuracy: 0.9852\n",
      "Epoch 10/10\n",
      "657/657 [==============================] - 82s 124ms/step - loss: 0.0887 - accuracy: 0.9800 - val_loss: 0.0689 - val_accuracy: 0.9858\n",
      "Duration: 0:13:38.954988\n"
     ]
    }
   ],
   "source": [
    "print(n)#\n",
    "models_dsa[n].fit_model(image_sets_dsa[n],label_sets_dsa[n],x_val,y_val,epochs=10,batch_size = 64)\n",
    "n = n+1"
   ]
  },
  {
   "cell_type": "code",
   "execution_count": 68,
   "id": "7e683b93",
   "metadata": {},
   "outputs": [],
   "source": [
    "time.sleep(400)"
   ]
  },
  {
   "cell_type": "code",
   "execution_count": 69,
   "id": "9e4b28c0",
   "metadata": {},
   "outputs": [
    {
     "name": "stdout",
     "output_type": "stream",
     "text": [
      "15\n",
      "Epoch 1/10\n",
      "700/700 [==============================] - 83s 116ms/step - loss: 0.1174 - accuracy: 0.9738 - val_loss: 0.0414 - val_accuracy: 0.9892\n",
      "Epoch 2/10\n",
      "700/700 [==============================] - 82s 117ms/step - loss: 0.0907 - accuracy: 0.9784 - val_loss: 0.0440 - val_accuracy: 0.9875\n",
      "Epoch 3/10\n",
      "700/700 [==============================] - 82s 117ms/step - loss: 0.0928 - accuracy: 0.9777 - val_loss: 0.0495 - val_accuracy: 0.9867\n",
      "Epoch 4/10\n",
      "700/700 [==============================] - 82s 117ms/step - loss: 0.0922 - accuracy: 0.9775 - val_loss: 0.0500 - val_accuracy: 0.9865\n",
      "Epoch 5/10\n",
      "700/700 [==============================] - 82s 117ms/step - loss: 0.0902 - accuracy: 0.9778 - val_loss: 0.0667 - val_accuracy: 0.9834\n",
      "Epoch 6/10\n",
      "700/700 [==============================] - 82s 117ms/step - loss: 0.0950 - accuracy: 0.9790 - val_loss: 0.0695 - val_accuracy: 0.9859\n",
      "Epoch 7/10\n",
      "700/700 [==============================] - 83s 119ms/step - loss: 0.0817 - accuracy: 0.9797 - val_loss: 0.0798 - val_accuracy: 0.9851\n",
      "Epoch 8/10\n",
      "700/700 [==============================] - 82s 117ms/step - loss: 0.0786 - accuracy: 0.9806 - val_loss: 0.0521 - val_accuracy: 0.9866\n",
      "Epoch 9/10\n",
      "700/700 [==============================] - 85s 122ms/step - loss: 0.0775 - accuracy: 0.9801 - val_loss: 0.0559 - val_accuracy: 0.9874\n",
      "Epoch 10/10\n",
      "700/700 [==============================] - 85s 122ms/step - loss: 0.0821 - accuracy: 0.9806 - val_loss: 0.0629 - val_accuracy: 0.9851\n",
      "Duration: 0:13:49.329888\n"
     ]
    }
   ],
   "source": [
    "print(n)\n",
    "models_dsa[n].fit_model(image_sets_dsa[n],label_sets_dsa[n],x_val,y_val,epochs=10,batch_size = 64)\n",
    "n = n+1"
   ]
  },
  {
   "cell_type": "code",
   "execution_count": 70,
   "id": "4a3a318f",
   "metadata": {},
   "outputs": [
    {
     "name": "stdout",
     "output_type": "stream",
     "text": [
      "16\n",
      "Epoch 1/10\n",
      "744/744 [==============================] - 96s 126ms/step - loss: 0.1055 - accuracy: 0.9762 - val_loss: 0.0549 - val_accuracy: 0.9866\n",
      "Epoch 2/10\n",
      "744/744 [==============================] - 94s 126ms/step - loss: 0.0908 - accuracy: 0.9783 - val_loss: 0.0468 - val_accuracy: 0.9870\n",
      "Epoch 3/10\n",
      "744/744 [==============================] - 94s 126ms/step - loss: 0.0898 - accuracy: 0.9790 - val_loss: 0.0553 - val_accuracy: 0.9860\n",
      "Epoch 4/10\n",
      "744/744 [==============================] - 94s 126ms/step - loss: 0.0857 - accuracy: 0.9785 - val_loss: 0.0491 - val_accuracy: 0.9876\n",
      "Epoch 5/10\n",
      "744/744 [==============================] - 94s 126ms/step - loss: 0.0906 - accuracy: 0.9773 - val_loss: 0.0482 - val_accuracy: 0.9875\n",
      "Epoch 6/10\n",
      "744/744 [==============================] - 95s 127ms/step - loss: 0.0805 - accuracy: 0.9801 - val_loss: 0.0649 - val_accuracy: 0.9831\n",
      "Epoch 7/10\n",
      "744/744 [==============================] - 94s 126ms/step - loss: 0.0825 - accuracy: 0.9796 - val_loss: 0.0996 - val_accuracy: 0.9724\n",
      "Epoch 8/10\n",
      "744/744 [==============================] - 94s 126ms/step - loss: 0.0827 - accuracy: 0.9793 - val_loss: 0.0583 - val_accuracy: 0.9862\n",
      "Epoch 9/10\n",
      "744/744 [==============================] - 94s 126ms/step - loss: 0.0851 - accuracy: 0.9792 - val_loss: 0.0732 - val_accuracy: 0.9811\n",
      "Epoch 10/10\n",
      "744/744 [==============================] - 94s 126ms/step - loss: 0.0842 - accuracy: 0.9788 - val_loss: 0.0690 - val_accuracy: 0.9853\n",
      "Duration: 0:15:40.126678\n"
     ]
    }
   ],
   "source": [
    "print(n)\n",
    "models_dsa[n].fit_model(image_sets_dsa[n],label_sets_dsa[n],x_val,y_val,epochs=10,batch_size = 64)\n",
    "n = n+1"
   ]
  },
  {
   "cell_type": "code",
   "execution_count": null,
   "id": "f4be2e66",
   "metadata": {},
   "outputs": [],
   "source": [
    "time.sleep(400)"
   ]
  },
  {
   "cell_type": "code",
   "execution_count": 71,
   "id": "da804ebf",
   "metadata": {},
   "outputs": [
    {
     "name": "stdout",
     "output_type": "stream",
     "text": [
      "17\n",
      "Epoch 1/10\n",
      "788/788 [==============================] - 101s 126ms/step - loss: 0.1074 - accuracy: 0.9726 - val_loss: 0.0632 - val_accuracy: 0.9868\n",
      "Epoch 2/10\n",
      "788/788 [==============================] - 102s 129ms/step - loss: 0.0948 - accuracy: 0.9772 - val_loss: 0.0561 - val_accuracy: 0.9869\n",
      "Epoch 3/10\n",
      "788/788 [==============================] - 102s 130ms/step - loss: 0.0883 - accuracy: 0.9785 - val_loss: 0.0644 - val_accuracy: 0.9869\n",
      "Epoch 4/10\n",
      "788/788 [==============================] - 101s 128ms/step - loss: 0.0918 - accuracy: 0.9778 - val_loss: 0.0517 - val_accuracy: 0.9875\n",
      "Epoch 5/10\n",
      "788/788 [==============================] - 103s 130ms/step - loss: 0.0878 - accuracy: 0.9778 - val_loss: 0.0583 - val_accuracy: 0.9850\n",
      "Epoch 6/10\n",
      "788/788 [==============================] - 103s 130ms/step - loss: 0.0856 - accuracy: 0.9788 - val_loss: 0.1446 - val_accuracy: 0.9799\n",
      "Epoch 7/10\n",
      "788/788 [==============================] - 100s 127ms/step - loss: 0.0819 - accuracy: 0.9796 - val_loss: 0.0749 - val_accuracy: 0.9830\n",
      "Epoch 8/10\n",
      "788/788 [==============================] - 100s 127ms/step - loss: 0.0885 - accuracy: 0.9794 - val_loss: 0.0779 - val_accuracy: 0.9836\n",
      "Epoch 9/10\n",
      "788/788 [==============================] - 100s 127ms/step - loss: 0.0863 - accuracy: 0.9793 - val_loss: 0.1007 - val_accuracy: 0.9821\n",
      "Epoch 10/10\n",
      "788/788 [==============================] - 100s 127ms/step - loss: 0.0922 - accuracy: 0.9785 - val_loss: 0.0663 - val_accuracy: 0.9844\n",
      "Duration: 0:16:51.376670\n"
     ]
    }
   ],
   "source": [
    "print(n)\n",
    "models_dsa[n].fit_model(image_sets_dsa[n],label_sets_dsa[n],x_val,y_val,epochs=10,batch_size = 64)\n",
    "n = n+1"
   ]
  },
  {
   "cell_type": "code",
   "execution_count": null,
   "id": "7b20bbd4",
   "metadata": {},
   "outputs": [],
   "source": [
    "time.sleep(400)"
   ]
  },
  {
   "cell_type": "code",
   "execution_count": 72,
   "id": "1adc9ed7",
   "metadata": {},
   "outputs": [
    {
     "name": "stdout",
     "output_type": "stream",
     "text": [
      "18\n",
      "Epoch 1/10\n",
      "832/832 [==============================] - 106s 126ms/step - loss: 0.1040 - accuracy: 0.9762 - val_loss: 0.0503 - val_accuracy: 0.9856\n",
      "Epoch 2/10\n",
      "832/832 [==============================] - 105s 126ms/step - loss: 0.0919 - accuracy: 0.9766 - val_loss: 0.0551 - val_accuracy: 0.9879\n",
      "Epoch 3/10\n",
      "832/832 [==============================] - 105s 126ms/step - loss: 0.0947 - accuracy: 0.9769 - val_loss: 0.0613 - val_accuracy: 0.9856\n",
      "Epoch 4/10\n",
      "832/832 [==============================] - 105s 126ms/step - loss: 0.0939 - accuracy: 0.9766 - val_loss: 0.0647 - val_accuracy: 0.9838\n",
      "Epoch 5/10\n",
      "832/832 [==============================] - 104s 125ms/step - loss: 0.0858 - accuracy: 0.9784 - val_loss: 0.0580 - val_accuracy: 0.9838\n",
      "Epoch 6/10\n",
      "832/832 [==============================] - 105s 126ms/step - loss: 0.0842 - accuracy: 0.9786 - val_loss: 0.0653 - val_accuracy: 0.9866\n",
      "Epoch 7/10\n",
      "832/832 [==============================] - 105s 126ms/step - loss: 0.0834 - accuracy: 0.9788 - val_loss: 0.2511 - val_accuracy: 0.9581\n",
      "Epoch 8/10\n",
      "832/832 [==============================] - 105s 126ms/step - loss: 0.0884 - accuracy: 0.9787 - val_loss: 0.0627 - val_accuracy: 0.9851\n",
      "Epoch 9/10\n",
      "832/832 [==============================] - 108s 130ms/step - loss: 0.0964 - accuracy: 0.9779 - val_loss: 0.0654 - val_accuracy: 0.9855\n",
      "Epoch 10/10\n",
      "832/832 [==============================] - 107s 128ms/step - loss: 0.0880 - accuracy: 0.9794 - val_loss: 0.0660 - val_accuracy: 0.9844\n",
      "Duration: 0:17:33.252988\n"
     ]
    }
   ],
   "source": [
    "print(n)\n",
    "models_dsa[n].fit_model(image_sets_dsa[n],label_sets_dsa[n],x_val,y_val,epochs=10,batch_size = 64)\n",
    "n = n+1"
   ]
  },
  {
   "cell_type": "code",
   "execution_count": null,
   "id": "74b5dc66",
   "metadata": {},
   "outputs": [],
   "source": [
    "time.sleep(400)"
   ]
  },
  {
   "cell_type": "code",
   "execution_count": 73,
   "id": "c53a3160",
   "metadata": {},
   "outputs": [
    {
     "name": "stdout",
     "output_type": "stream",
     "text": [
      "19\n",
      "Epoch 1/10\n",
      "875/875 [==============================] - 111s 125ms/step - loss: 0.1070 - accuracy: 0.9753 - val_loss: 0.0453 - val_accuracy: 0.9880\n",
      "Epoch 2/10\n",
      "875/875 [==============================] - 109s 125ms/step - loss: 0.0907 - accuracy: 0.9780 - val_loss: 0.0662 - val_accuracy: 0.9837\n",
      "Epoch 3/10\n",
      "875/875 [==============================] - 109s 125ms/step - loss: 0.0888 - accuracy: 0.9778 - val_loss: 0.0554 - val_accuracy: 0.9853\n",
      "Epoch 4/10\n",
      "875/875 [==============================] - 110s 125ms/step - loss: 0.0906 - accuracy: 0.9776 - val_loss: 0.0489 - val_accuracy: 0.9866\n",
      "Epoch 5/10\n",
      "875/875 [==============================] - 110s 125ms/step - loss: 0.0915 - accuracy: 0.9779 - val_loss: 0.1390 - val_accuracy: 0.9719\n",
      "Epoch 6/10\n",
      "875/875 [==============================] - 111s 127ms/step - loss: 0.0874 - accuracy: 0.9776 - val_loss: 0.0716 - val_accuracy: 0.9826\n",
      "Epoch 7/10\n",
      "875/875 [==============================] - 110s 126ms/step - loss: 0.0941 - accuracy: 0.9783 - val_loss: 0.0527 - val_accuracy: 0.9866\n",
      "Epoch 8/10\n",
      "875/875 [==============================] - 110s 126ms/step - loss: 0.0920 - accuracy: 0.9790 - val_loss: 0.0563 - val_accuracy: 0.9849\n",
      "Epoch 9/10\n",
      "875/875 [==============================] - 110s 125ms/step - loss: 0.0915 - accuracy: 0.9775 - val_loss: 0.0631 - val_accuracy: 0.9860\n",
      "Epoch 10/10\n",
      "875/875 [==============================] - 115s 132ms/step - loss: 0.0916 - accuracy: 0.9779 - val_loss: 0.0714 - val_accuracy: 0.9822\n",
      "Duration: 0:18:25.247393\n"
     ]
    }
   ],
   "source": [
    "print(n)#\n",
    "models_dsa[n].fit_model(image_sets_dsa[n],label_sets_dsa[n],x_val,y_val,epochs=10,batch_size = 64)\n",
    "n = n+1"
   ]
  },
  {
   "cell_type": "code",
   "execution_count": 74,
   "id": "f5efcb59",
   "metadata": {},
   "outputs": [
    {
     "name": "stdout",
     "output_type": "stream",
     "text": [
      "INFO:tensorflow:Assets written to: D:/models/aug_22/mnist/C2/mnist_model_c2_aug_dsa_e1_0\\assets\n",
      "Model has been saved\n",
      "INFO:tensorflow:Assets written to: D:/models/aug_22/mnist/C2/mnist_model_c2_aug_dsa_e1_1\\assets\n",
      "Model has been saved\n",
      "INFO:tensorflow:Assets written to: D:/models/aug_22/mnist/C2/mnist_model_c2_aug_dsa_e1_2\\assets\n",
      "Model has been saved\n",
      "INFO:tensorflow:Assets written to: D:/models/aug_22/mnist/C2/mnist_model_c2_aug_dsa_e1_3\\assets\n",
      "Model has been saved\n",
      "INFO:tensorflow:Assets written to: D:/models/aug_22/mnist/C2/mnist_model_c2_aug_dsa_e1_4\\assets\n",
      "Model has been saved\n",
      "INFO:tensorflow:Assets written to: D:/models/aug_22/mnist/C2/mnist_model_c2_aug_dsa_e1_5\\assets\n",
      "Model has been saved\n",
      "INFO:tensorflow:Assets written to: D:/models/aug_22/mnist/C2/mnist_model_c2_aug_dsa_e1_6\\assets\n",
      "Model has been saved\n",
      "INFO:tensorflow:Assets written to: D:/models/aug_22/mnist/C2/mnist_model_c2_aug_dsa_e1_7\\assets\n",
      "Model has been saved\n",
      "INFO:tensorflow:Assets written to: D:/models/aug_22/mnist/C2/mnist_model_c2_aug_dsa_e1_8\\assets\n",
      "Model has been saved\n",
      "INFO:tensorflow:Assets written to: D:/models/aug_22/mnist/C2/mnist_model_c2_aug_dsa_e1_9\\assets\n",
      "Model has been saved\n",
      "INFO:tensorflow:Assets written to: D:/models/aug_22/mnist/C2/mnist_model_c2_aug_dsa_e1_10\\assets\n",
      "Model has been saved\n",
      "INFO:tensorflow:Assets written to: D:/models/aug_22/mnist/C2/mnist_model_c2_aug_dsa_e1_11\\assets\n",
      "Model has been saved\n",
      "INFO:tensorflow:Assets written to: D:/models/aug_22/mnist/C2/mnist_model_c2_aug_dsa_e1_12\\assets\n",
      "Model has been saved\n",
      "INFO:tensorflow:Assets written to: D:/models/aug_22/mnist/C2/mnist_model_c2_aug_dsa_e1_13\\assets\n",
      "Model has been saved\n",
      "INFO:tensorflow:Assets written to: D:/models/aug_22/mnist/C2/mnist_model_c2_aug_dsa_e1_14\\assets\n",
      "Model has been saved\n",
      "INFO:tensorflow:Assets written to: D:/models/aug_22/mnist/C2/mnist_model_c2_aug_dsa_e1_15\\assets\n",
      "Model has been saved\n",
      "INFO:tensorflow:Assets written to: D:/models/aug_22/mnist/C2/mnist_model_c2_aug_dsa_e1_16\\assets\n",
      "Model has been saved\n",
      "INFO:tensorflow:Assets written to: D:/models/aug_22/mnist/C2/mnist_model_c2_aug_dsa_e1_17\\assets\n",
      "Model has been saved\n",
      "INFO:tensorflow:Assets written to: D:/models/aug_22/mnist/C2/mnist_model_c2_aug_dsa_e1_18\\assets\n",
      "Model has been saved\n",
      "INFO:tensorflow:Assets written to: D:/models/aug_22/mnist/C2/mnist_model_c2_aug_dsa_e1_19\\assets\n",
      "Model has been saved\n"
     ]
    }
   ],
   "source": [
    "new_model_dsa_dir  = \"D:/models/aug_22/\"+dataset+\"/C2/\"+dataset+\"_model_c2_aug_dsa_e1\"\n",
    "\n",
    "i=0\n",
    "\n",
    "for model in models_dsa:\n",
    "    model.save(new_model_dsa_dir+\"_\"+str(i))\n",
    "    i+=1"
   ]
  },
  {
   "cell_type": "code",
   "execution_count": null,
   "id": "58f250fb",
   "metadata": {},
   "outputs": [],
   "source": [
    "loading = False\n",
    "\n",
    "models_dsa = []\n",
    "\n",
    "if loading:\n",
    "    for i in range(20):\n",
    "        model_dsa_dir = \"D:/models/gtsrb_models/C1/gtsrb_model_c1_sep_dsa_e2_\"+str(i)\n",
    "        print(model_dsa_dir)\n",
    "        model =utils.My_model('gtsrb',True,model_dsa_dir)\n",
    "        model.model.compile(loss= 'categorical_crossentropy', optimizer = 'rmsprop', metrics = ['accuracy',tf.keras.metrics.Precision(), tf.keras.metrics.Recall()])\n",
    "        models_dsa.append(model)\n",
    "       \n",
    "    "
   ]
  },
  {
   "cell_type": "code",
   "execution_count": 75,
   "id": "77836993",
   "metadata": {},
   "outputs": [],
   "source": [
    "try:\n",
    "    del dsa_values\n",
    "    del top_images_by_dsa\n",
    "    del top_labels_by_dsa\n",
    "    del image_sets_dsa\n",
    "    del label_sets_dsa\n",
    "    del models_dsa\n",
    "except:\n",
    "    print(\"Error\")"
   ]
  },
  {
   "cell_type": "code",
   "execution_count": 76,
   "id": "a2d78dd7",
   "metadata": {},
   "outputs": [
    {
     "data": {
      "text/plain": [
       "330973"
      ]
     },
     "execution_count": 76,
     "metadata": {},
     "output_type": "execute_result"
    }
   ],
   "source": [
    "gc.collect()"
   ]
  },
  {
   "cell_type": "markdown",
   "id": "1c73510f",
   "metadata": {},
   "source": [
    "## Uncertainty"
   ]
  },
  {
   "cell_type": "code",
   "execution_count": 77,
   "id": "0ac6d3c4",
   "metadata": {},
   "outputs": [],
   "source": [
    "dg_direction = \"C:/Users/fjdur/Documents/upc-july/data/\"+dataset+\"/deep_gini_values.npy\"\n",
    "\n",
    "deep_gini_values = np.load(dg_direction)\n"
   ]
  },
  {
   "cell_type": "code",
   "execution_count": 78,
   "id": "d85ee221",
   "metadata": {},
   "outputs": [],
   "source": [
    "# Obtaining top n images by dg values\n",
    "top_images_by_dg  = utils.get_x_of_indexes(list(np.flip(np.argsort(deep_gini_values))),x_train_and_adversary)\n",
    "top_labels_by_dg = utils.get_x_of_indexes(list(np.flip(np.argsort(deep_gini_values))),y_train_and_adversary)"
   ]
  },
  {
   "cell_type": "code",
   "execution_count": 79,
   "id": "b7636eda",
   "metadata": {},
   "outputs": [
    {
     "name": "stdout",
     "output_type": "stream",
     "text": [
      "0 :\n",
      "0  ->  2800\n",
      "2800\n",
      "1 :\n",
      "0  ->  5600\n",
      "5600\n",
      "2 :\n",
      "0  ->  8400\n",
      "8400\n",
      "3 :\n",
      "0  ->  11200\n",
      "11200\n",
      "4 :\n",
      "0  ->  14000\n",
      "14000\n",
      "5 :\n",
      "0  ->  16800\n",
      "16800\n",
      "6 :\n",
      "0  ->  19600\n",
      "19600\n",
      "7 :\n",
      "0  ->  22400\n",
      "22400\n",
      "8 :\n",
      "0  ->  25200\n",
      "25200\n",
      "9 :\n",
      "0  ->  28000\n",
      "28000\n",
      "10 :\n",
      "0  ->  30800\n",
      "30800\n",
      "11 :\n",
      "0  ->  33600\n",
      "33600\n",
      "12 :\n",
      "0  ->  36400\n",
      "36400\n",
      "13 :\n",
      "0  ->  39200\n",
      "39200\n",
      "14 :\n",
      "0  ->  42000\n",
      "42000\n",
      "15 :\n",
      "0  ->  44800\n",
      "44800\n",
      "16 :\n",
      "0  ->  47600\n",
      "47600\n",
      "17 :\n",
      "0  ->  50400\n",
      "50400\n",
      "18 :\n",
      "0  ->  53200\n",
      "53200\n",
      "19 :\n",
      "Last\n",
      "0  ->  58798\n",
      "55998\n"
     ]
    }
   ],
   "source": [
    "m = n_data_points\n",
    "n = 0\n",
    "image_sets_dg = []\n",
    "label_sets_dg = []\n",
    "\n",
    "# last\n",
    "#for i in range(0,len(top_images_by_lsa)//m):\n",
    "\n",
    "for i in range((len(top_images_by_dg)//m)+1):\n",
    "    print(i,\":\")\n",
    "    if (i+1 >= ((len(top_images_by_dg)//m)+1)):\n",
    "        print(\"Last\")\n",
    "        print(0,\" -> \",n+m+(len(top_images_by_dg)%m))\n",
    "        top_images_by_dg_n = np.array(top_images_by_dg[:n+m+(len(top_images_by_dg)%m)])\n",
    "        top_labels_by_dg_n = np.array(top_labels_by_dg[:n+m+(len(top_images_by_dg)%m)])\n",
    "    else:\n",
    "        print(0,\" -> \",m+n)\n",
    "        top_images_by_dg_n = np.array(top_images_by_dg[:n+m])\n",
    "        top_labels_by_dg_n = np.array(top_labels_by_dg[:n+m])\n",
    "    image_sets_dg.append(top_images_by_dg_n)\n",
    "    label_sets_dg.append(top_labels_by_dg_n)\n",
    "    print(len(top_images_by_dg_n))\n",
    "    n += m\n",
    "\n"
   ]
  },
  {
   "cell_type": "code",
   "execution_count": 80,
   "id": "8235ece2",
   "metadata": {},
   "outputs": [
    {
     "name": "stdout",
     "output_type": "stream",
     "text": [
      "C:/Users/fjdur/Documents/upc-july/models/models2\n",
      "0 :\n",
      "Model loaded correctly\n",
      "Model compiled\n",
      "1 :\n",
      "Model loaded correctly\n",
      "Model compiled\n",
      "2 :\n",
      "Model loaded correctly\n",
      "Model compiled\n",
      "3 :\n",
      "Model loaded correctly\n",
      "Model compiled\n",
      "4 :\n",
      "Model loaded correctly\n",
      "Model compiled\n",
      "5 :\n",
      "Model loaded correctly\n",
      "Model compiled\n",
      "6 :\n",
      "Model loaded correctly\n",
      "Model compiled\n",
      "7 :\n",
      "Model loaded correctly\n",
      "Model compiled\n",
      "8 :\n",
      "Model loaded correctly\n",
      "Model compiled\n",
      "9 :\n",
      "Model loaded correctly\n",
      "Model compiled\n",
      "10 :\n",
      "Model loaded correctly\n",
      "Model compiled\n",
      "11 :\n",
      "Model loaded correctly\n",
      "Model compiled\n",
      "12 :\n",
      "Model loaded correctly\n",
      "Model compiled\n",
      "13 :\n",
      "Model loaded correctly\n",
      "Model compiled\n",
      "14 :\n",
      "Model loaded correctly\n",
      "Model compiled\n",
      "15 :\n",
      "Model loaded correctly\n",
      "Model compiled\n",
      "16 :\n",
      "Model loaded correctly\n",
      "Model compiled\n",
      "17 :\n",
      "Model loaded correctly\n",
      "Model compiled\n",
      "18 :\n",
      "Model loaded correctly\n",
      "Model compiled\n",
      "19 :\n",
      "Model loaded correctly\n",
      "Model compiled\n"
     ]
    }
   ],
   "source": [
    "print(model_dir)\n",
    "models_dg = []\n",
    "#for i in range(len(label_sets_lsa)):\n",
    "for i in range(len(label_sets_dg)):\n",
    "    print(i,\":\")\n",
    "    model = utils.My_model(dataset,True,model_dir)\n",
    "    model.compile_model()\n",
    "    models_dg.append(model)"
   ]
  },
  {
   "cell_type": "code",
   "execution_count": 81,
   "id": "1e0ae2d4",
   "metadata": {},
   "outputs": [
    {
     "name": "stdout",
     "output_type": "stream",
     "text": [
      "0\n",
      "Epoch 1/10\n",
      "44/44 [==============================] - 12s 235ms/step - loss: 0.9134 - accuracy: 0.7689 - val_loss: 0.0388 - val_accuracy: 0.9887\n",
      "Epoch 2/10\n",
      "44/44 [==============================] - 10s 223ms/step - loss: 0.5896 - accuracy: 0.8254 - val_loss: 0.0515 - val_accuracy: 0.9868\n",
      "Epoch 3/10\n",
      "44/44 [==============================] - 10s 224ms/step - loss: 0.5471 - accuracy: 0.8362 - val_loss: 0.0464 - val_accuracy: 0.9866\n",
      "Epoch 4/10\n",
      "44/44 [==============================] - 10s 238ms/step - loss: 0.4729 - accuracy: 0.8522 - val_loss: 0.0357 - val_accuracy: 0.9896\n",
      "Epoch 5/10\n",
      "44/44 [==============================] - 10s 240ms/step - loss: 0.4452 - accuracy: 0.8679 - val_loss: 0.0331 - val_accuracy: 0.9902\n",
      "Epoch 6/10\n",
      "44/44 [==============================] - 10s 241ms/step - loss: 0.3878 - accuracy: 0.8715 - val_loss: 0.0412 - val_accuracy: 0.9891\n",
      "Epoch 7/10\n",
      "44/44 [==============================] - 10s 242ms/step - loss: 0.3490 - accuracy: 0.8956 - val_loss: 0.0331 - val_accuracy: 0.9904\n",
      "Epoch 8/10\n",
      "44/44 [==============================] - 10s 240ms/step - loss: 0.3275 - accuracy: 0.9010 - val_loss: 0.0375 - val_accuracy: 0.9895\n",
      "Epoch 9/10\n",
      "44/44 [==============================] - 10s 240ms/step - loss: 0.3146 - accuracy: 0.9026 - val_loss: 0.0370 - val_accuracy: 0.9894\n",
      "Epoch 10/10\n",
      "44/44 [==============================] - 10s 240ms/step - loss: 0.2781 - accuracy: 0.9101 - val_loss: 0.0325 - val_accuracy: 0.9900\n",
      "Duration: 0:01:44.509985\n"
     ]
    }
   ],
   "source": [
    "n=0\n",
    "print(n)\n",
    "models_dg[n].fit_model(image_sets_dg[n],label_sets_dg[n],x_val,y_val,epochs=10,batch_size = 64)\n",
    "n = n+1"
   ]
  },
  {
   "cell_type": "code",
   "execution_count": 82,
   "id": "9111d03b",
   "metadata": {},
   "outputs": [
    {
     "name": "stdout",
     "output_type": "stream",
     "text": [
      "1\n",
      "Epoch 1/10\n",
      "88/88 [==============================] - 17s 176ms/step - loss: 0.5998 - accuracy: 0.8318 - val_loss: 0.0347 - val_accuracy: 0.9899\n",
      "Epoch 2/10\n",
      "88/88 [==============================] - 16s 177ms/step - loss: 0.4606 - accuracy: 0.8704 - val_loss: 0.0363 - val_accuracy: 0.9900\n",
      "Epoch 3/10\n",
      "88/88 [==============================] - 15s 176ms/step - loss: 0.3868 - accuracy: 0.8931 - val_loss: 0.0400 - val_accuracy: 0.9894\n",
      "Epoch 4/10\n",
      "88/88 [==============================] - 15s 175ms/step - loss: 0.4078 - accuracy: 0.8830 - val_loss: 0.0393 - val_accuracy: 0.9899\n",
      "Epoch 5/10\n",
      "88/88 [==============================] - 15s 175ms/step - loss: 0.3583 - accuracy: 0.8906 - val_loss: 0.0736 - val_accuracy: 0.9879\n",
      "Epoch 6/10\n",
      "88/88 [==============================] - 15s 175ms/step - loss: 0.3312 - accuracy: 0.9020 - val_loss: 0.0338 - val_accuracy: 0.9904\n",
      "Epoch 7/10\n",
      "88/88 [==============================] - 15s 175ms/step - loss: 0.3040 - accuracy: 0.9129 - val_loss: 0.0408 - val_accuracy: 0.9898\n",
      "Epoch 8/10\n",
      "88/88 [==============================] - 15s 174ms/step - loss: 0.2954 - accuracy: 0.9084 - val_loss: 0.0385 - val_accuracy: 0.9896\n",
      "Epoch 9/10\n",
      "88/88 [==============================] - 15s 176ms/step - loss: 0.2700 - accuracy: 0.9266 - val_loss: 0.0335 - val_accuracy: 0.9906\n",
      "Epoch 10/10\n",
      "88/88 [==============================] - 15s 175ms/step - loss: 0.2489 - accuracy: 0.9255 - val_loss: 0.0376 - val_accuracy: 0.9910\n",
      "Duration: 0:02:35.620515\n"
     ]
    }
   ],
   "source": [
    "print(n)\n",
    "models_dg[n].fit_model(image_sets_dg[n],label_sets_dg[n],x_val,y_val,epochs=10,batch_size = 64)\n",
    "n = n+1"
   ]
  },
  {
   "cell_type": "code",
   "execution_count": 83,
   "id": "57dcb4d8",
   "metadata": {},
   "outputs": [
    {
     "name": "stdout",
     "output_type": "stream",
     "text": [
      "2\n",
      "Epoch 1/10\n",
      "132/132 [==============================] - 22s 155ms/step - loss: 0.4910 - accuracy: 0.8700 - val_loss: 0.0438 - val_accuracy: 0.9884\n",
      "Epoch 2/10\n",
      "132/132 [==============================] - 20s 154ms/step - loss: 0.3569 - accuracy: 0.9011 - val_loss: 0.0703 - val_accuracy: 0.9806\n",
      "Epoch 3/10\n",
      "132/132 [==============================] - 21s 161ms/step - loss: 0.3402 - accuracy: 0.9052 - val_loss: 0.0534 - val_accuracy: 0.9842\n",
      "Epoch 4/10\n",
      "132/132 [==============================] - 22s 164ms/step - loss: 0.3094 - accuracy: 0.9157 - val_loss: 0.0351 - val_accuracy: 0.9904\n",
      "Epoch 5/10\n",
      "132/132 [==============================] - 21s 157ms/step - loss: 0.2676 - accuracy: 0.9249 - val_loss: 0.0538 - val_accuracy: 0.9889\n",
      "Epoch 6/10\n",
      "132/132 [==============================] - 21s 159ms/step - loss: 0.2622 - accuracy: 0.9277 - val_loss: 0.0588 - val_accuracy: 0.9876\n",
      "Epoch 7/10\n",
      "132/132 [==============================] - 21s 157ms/step - loss: 0.2446 - accuracy: 0.9320 - val_loss: 0.0357 - val_accuracy: 0.9897\n",
      "Epoch 8/10\n",
      "132/132 [==============================] - 21s 157ms/step - loss: 0.2126 - accuracy: 0.9390 - val_loss: 0.0350 - val_accuracy: 0.9904\n",
      "Epoch 9/10\n",
      "132/132 [==============================] - 21s 156ms/step - loss: 0.1766 - accuracy: 0.9503 - val_loss: 0.0552 - val_accuracy: 0.9886\n",
      "Epoch 10/10\n",
      "132/132 [==============================] - 21s 156ms/step - loss: 0.1821 - accuracy: 0.9502 - val_loss: 0.0413 - val_accuracy: 0.9903\n",
      "Duration: 0:03:29.448382\n"
     ]
    }
   ],
   "source": [
    "print(n)\n",
    "models_dg[n].fit_model(image_sets_dg[n],label_sets_dg[n],x_val,y_val,epochs=10,batch_size = 64)\n",
    "n = n+1"
   ]
  },
  {
   "cell_type": "code",
   "execution_count": 84,
   "id": "ec6bc487",
   "metadata": {},
   "outputs": [
    {
     "name": "stdout",
     "output_type": "stream",
     "text": [
      "3\n",
      "Epoch 1/10\n",
      "175/175 [==============================] - 27s 145ms/step - loss: 0.4198 - accuracy: 0.8991 - val_loss: 0.0315 - val_accuracy: 0.9902\n",
      "Epoch 2/10\n",
      "175/175 [==============================] - 25s 143ms/step - loss: 0.3010 - accuracy: 0.9212 - val_loss: 0.0337 - val_accuracy: 0.9903\n",
      "Epoch 3/10\n",
      "175/175 [==============================] - 25s 142ms/step - loss: 0.2663 - accuracy: 0.9254 - val_loss: 0.0318 - val_accuracy: 0.9901\n",
      "Epoch 4/10\n",
      "175/175 [==============================] - 25s 143ms/step - loss: 0.2503 - accuracy: 0.9337 - val_loss: 0.0345 - val_accuracy: 0.9897\n",
      "Epoch 5/10\n",
      "175/175 [==============================] - 25s 144ms/step - loss: 0.2231 - accuracy: 0.9394 - val_loss: 0.0338 - val_accuracy: 0.9904\n",
      "Epoch 6/10\n",
      "175/175 [==============================] - 25s 145ms/step - loss: 0.2116 - accuracy: 0.9407 - val_loss: 0.0374 - val_accuracy: 0.9894\n",
      "Epoch 7/10\n",
      "175/175 [==============================] - 25s 143ms/step - loss: 0.1856 - accuracy: 0.9465 - val_loss: 0.0320 - val_accuracy: 0.9911\n",
      "Epoch 8/10\n",
      "175/175 [==============================] - 25s 145ms/step - loss: 0.1871 - accuracy: 0.9500 - val_loss: 0.0424 - val_accuracy: 0.9897\n",
      "Epoch 9/10\n",
      "175/175 [==============================] - 26s 149ms/step - loss: 0.1648 - accuracy: 0.9533 - val_loss: 0.0346 - val_accuracy: 0.9904\n",
      "Epoch 10/10\n",
      "175/175 [==============================] - 25s 144ms/step - loss: 0.1676 - accuracy: 0.9498 - val_loss: 0.0388 - val_accuracy: 0.9902\n",
      "Duration: 0:04:13.822823\n"
     ]
    }
   ],
   "source": [
    "print(n)\n",
    "models_dg[n].fit_model(image_sets_dg[n],label_sets_dg[n],x_val,y_val,epochs=10,batch_size = 64)\n",
    "n = n+1"
   ]
  },
  {
   "cell_type": "code",
   "execution_count": 85,
   "id": "dcbe45fb",
   "metadata": {},
   "outputs": [
    {
     "name": "stdout",
     "output_type": "stream",
     "text": [
      "4\n",
      "Epoch 1/10\n",
      "219/219 [==============================] - 32s 140ms/step - loss: 0.3523 - accuracy: 0.9138 - val_loss: 0.0399 - val_accuracy: 0.9902\n",
      "Epoch 2/10\n",
      "219/219 [==============================] - 31s 140ms/step - loss: 0.2534 - accuracy: 0.9344 - val_loss: 0.0375 - val_accuracy: 0.9902\n",
      "Epoch 3/10\n",
      "219/219 [==============================] - 30s 139ms/step - loss: 0.2327 - accuracy: 0.9393 - val_loss: 0.0356 - val_accuracy: 0.9897\n",
      "Epoch 4/10\n",
      "219/219 [==============================] - 31s 140ms/step - loss: 0.2103 - accuracy: 0.9457 - val_loss: 0.0378 - val_accuracy: 0.9896\n",
      "Epoch 5/10\n",
      "219/219 [==============================] - 31s 140ms/step - loss: 0.1923 - accuracy: 0.9478 - val_loss: 0.0367 - val_accuracy: 0.9896\n",
      "Epoch 6/10\n",
      "219/219 [==============================] - 31s 139ms/step - loss: 0.1806 - accuracy: 0.9497 - val_loss: 0.0341 - val_accuracy: 0.9900\n",
      "Epoch 7/10\n",
      "219/219 [==============================] - 31s 143ms/step - loss: 0.1660 - accuracy: 0.9565 - val_loss: 0.0370 - val_accuracy: 0.9899\n",
      "Epoch 8/10\n",
      "219/219 [==============================] - 32s 146ms/step - loss: 0.1509 - accuracy: 0.9585 - val_loss: 0.0376 - val_accuracy: 0.9898\n",
      "Epoch 9/10\n",
      "219/219 [==============================] - 33s 150ms/step - loss: 0.1530 - accuracy: 0.9570 - val_loss: 0.0362 - val_accuracy: 0.9905\n",
      "Epoch 10/10\n",
      "219/219 [==============================] - 31s 143ms/step - loss: 0.1524 - accuracy: 0.9605 - val_loss: 0.0364 - val_accuracy: 0.9903\n",
      "Duration: 0:05:12.683398\n"
     ]
    }
   ],
   "source": [
    "print(n)#\n",
    "models_dg[n].fit_model(image_sets_dg[n],label_sets_dg[n],x_val,y_val,epochs=10,batch_size = 64)\n",
    "n = n+1"
   ]
  },
  {
   "cell_type": "code",
   "execution_count": 86,
   "id": "0107db68",
   "metadata": {},
   "outputs": [
    {
     "name": "stdout",
     "output_type": "stream",
     "text": [
      "5\n",
      "Epoch 1/10\n",
      "263/263 [==============================] - 36s 130ms/step - loss: 0.3070 - accuracy: 0.9274 - val_loss: 0.0456 - val_accuracy: 0.9867\n",
      "Epoch 2/10\n",
      "263/263 [==============================] - 34s 130ms/step - loss: 0.2240 - accuracy: 0.9412 - val_loss: 0.0415 - val_accuracy: 0.9894\n",
      "Epoch 3/10\n",
      "263/263 [==============================] - 34s 130ms/step - loss: 0.2009 - accuracy: 0.9459 - val_loss: 0.0335 - val_accuracy: 0.9897\n",
      "Epoch 4/10\n",
      "263/263 [==============================] - 34s 129ms/step - loss: 0.1905 - accuracy: 0.9483 - val_loss: 0.0399 - val_accuracy: 0.9896\n",
      "Epoch 5/10\n",
      "263/263 [==============================] - 34s 129ms/step - loss: 0.1723 - accuracy: 0.9545 - val_loss: 0.0449 - val_accuracy: 0.9896\n",
      "Epoch 6/10\n",
      "263/263 [==============================] - 35s 131ms/step - loss: 0.1703 - accuracy: 0.9569 - val_loss: 0.0618 - val_accuracy: 0.9862\n",
      "Epoch 7/10\n",
      "263/263 [==============================] - 34s 130ms/step - loss: 0.1746 - accuracy: 0.9557 - val_loss: 0.0392 - val_accuracy: 0.9895\n",
      "Epoch 8/10\n",
      "263/263 [==============================] - 34s 130ms/step - loss: 0.1597 - accuracy: 0.9571 - val_loss: 0.0362 - val_accuracy: 0.9903\n",
      "Epoch 9/10\n",
      "263/263 [==============================] - 34s 130ms/step - loss: 0.1321 - accuracy: 0.9615 - val_loss: 0.0344 - val_accuracy: 0.9902\n",
      "Epoch 10/10\n",
      "263/263 [==============================] - 34s 130ms/step - loss: 0.1457 - accuracy: 0.9608 - val_loss: 0.0393 - val_accuracy: 0.9896\n",
      "Duration: 0:05:42.987757\n"
     ]
    }
   ],
   "source": [
    "print(n)\n",
    "models_dg[n].fit_model(image_sets_dg[n],label_sets_dg[n],x_val,y_val,epochs=10,batch_size = 64)\n",
    "n = n+1"
   ]
  },
  {
   "cell_type": "code",
   "execution_count": 87,
   "id": "dc5e2f40",
   "metadata": {},
   "outputs": [
    {
     "name": "stdout",
     "output_type": "stream",
     "text": [
      "6\n",
      "Epoch 1/10\n",
      "307/307 [==============================] - 40s 126ms/step - loss: 0.2458 - accuracy: 0.9428 - val_loss: 0.0339 - val_accuracy: 0.9904\n",
      "Epoch 2/10\n",
      "307/307 [==============================] - 39s 126ms/step - loss: 0.1809 - accuracy: 0.9516 - val_loss: 0.0395 - val_accuracy: 0.9888\n",
      "Epoch 3/10\n",
      "307/307 [==============================] - 39s 126ms/step - loss: 0.1795 - accuracy: 0.9550 - val_loss: 0.0422 - val_accuracy: 0.9886\n",
      "Epoch 4/10\n",
      "307/307 [==============================] - 39s 126ms/step - loss: 0.1584 - accuracy: 0.9561 - val_loss: 0.0369 - val_accuracy: 0.9898\n",
      "Epoch 5/10\n",
      "307/307 [==============================] - 39s 126ms/step - loss: 0.1661 - accuracy: 0.9586 - val_loss: 0.0407 - val_accuracy: 0.9894\n",
      "Epoch 6/10\n",
      "307/307 [==============================] - 39s 126ms/step - loss: 0.1696 - accuracy: 0.9560 - val_loss: 0.0436 - val_accuracy: 0.9883\n",
      "Epoch 7/10\n",
      "307/307 [==============================] - 39s 129ms/step - loss: 0.1382 - accuracy: 0.9632 - val_loss: 0.0419 - val_accuracy: 0.9884\n",
      "Epoch 8/10\n",
      "307/307 [==============================] - 41s 132ms/step - loss: 0.1456 - accuracy: 0.9618 - val_loss: 0.0486 - val_accuracy: 0.9877\n",
      "Epoch 9/10\n",
      "307/307 [==============================] - 41s 134ms/step - loss: 0.1289 - accuracy: 0.9651 - val_loss: 0.0420 - val_accuracy: 0.9896\n",
      "Epoch 10/10\n",
      "307/307 [==============================] - 40s 131ms/step - loss: 0.1270 - accuracy: 0.9649 - val_loss: 0.0374 - val_accuracy: 0.9884\n",
      "Duration: 0:06:35.245189\n"
     ]
    }
   ],
   "source": [
    "print(n)\n",
    "models_dg[n].fit_model(image_sets_dg[n],label_sets_dg[n],x_val,y_val,epochs=10,batch_size = 64)\n",
    "n = n+1"
   ]
  },
  {
   "cell_type": "code",
   "execution_count": 88,
   "id": "f76364c7",
   "metadata": {},
   "outputs": [
    {
     "name": "stdout",
     "output_type": "stream",
     "text": [
      "7\n",
      "Epoch 1/10\n",
      "350/350 [==============================] - 47s 128ms/step - loss: 0.2325 - accuracy: 0.9466 - val_loss: 0.0351 - val_accuracy: 0.9895\n",
      "Epoch 2/10\n",
      "350/350 [==============================] - 45s 128ms/step - loss: 0.1881 - accuracy: 0.9514 - val_loss: 0.0450 - val_accuracy: 0.9872\n",
      "Epoch 3/10\n",
      "350/350 [==============================] - 45s 129ms/step - loss: 0.1606 - accuracy: 0.9579 - val_loss: 0.0429 - val_accuracy: 0.9895\n",
      "Epoch 4/10\n",
      "350/350 [==============================] - 45s 129ms/step - loss: 0.1517 - accuracy: 0.9589 - val_loss: 0.0386 - val_accuracy: 0.9896\n",
      "Epoch 5/10\n",
      "350/350 [==============================] - 45s 128ms/step - loss: 0.1480 - accuracy: 0.9629 - val_loss: 0.0434 - val_accuracy: 0.9887\n",
      "Epoch 6/10\n",
      "350/350 [==============================] - 45s 128ms/step - loss: 0.1412 - accuracy: 0.9650 - val_loss: 0.0387 - val_accuracy: 0.9883\n",
      "Epoch 7/10\n",
      "350/350 [==============================] - 45s 128ms/step - loss: 0.1358 - accuracy: 0.9649 - val_loss: 0.0575 - val_accuracy: 0.9857\n",
      "Epoch 8/10\n",
      "350/350 [==============================] - 45s 128ms/step - loss: 0.1332 - accuracy: 0.9644 - val_loss: 0.0468 - val_accuracy: 0.9875\n",
      "Epoch 9/10\n",
      "350/350 [==============================] - 45s 129ms/step - loss: 0.1241 - accuracy: 0.9668 - val_loss: 0.0435 - val_accuracy: 0.9881\n",
      "Epoch 10/10\n",
      "350/350 [==============================] - 45s 128ms/step - loss: 0.1176 - accuracy: 0.9729 - val_loss: 0.0402 - val_accuracy: 0.9888\n",
      "Duration: 0:07:31.281027\n"
     ]
    }
   ],
   "source": [
    "print(n)\n",
    "models_dg[n].fit_model(image_sets_dg[n],label_sets_dg[n],x_val,y_val,epochs=10,batch_size = 64)\n",
    "n = n+1"
   ]
  },
  {
   "cell_type": "code",
   "execution_count": 89,
   "id": "c77cb3fc",
   "metadata": {},
   "outputs": [
    {
     "name": "stdout",
     "output_type": "stream",
     "text": [
      "8\n",
      "Epoch 1/10\n",
      "394/394 [==============================] - 52s 128ms/step - loss: 0.2089 - accuracy: 0.9523 - val_loss: 0.0409 - val_accuracy: 0.9883\n",
      "Epoch 2/10\n",
      "394/394 [==============================] - 51s 129ms/step - loss: 0.1610 - accuracy: 0.9581 - val_loss: 0.0537 - val_accuracy: 0.9886\n",
      "Epoch 3/10\n",
      "394/394 [==============================] - 51s 129ms/step - loss: 0.1566 - accuracy: 0.9588 - val_loss: 0.0435 - val_accuracy: 0.9881\n",
      "Epoch 4/10\n",
      "394/394 [==============================] - 51s 129ms/step - loss: 0.1370 - accuracy: 0.9651 - val_loss: 0.0391 - val_accuracy: 0.9889\n",
      "Epoch 5/10\n",
      "394/394 [==============================] - 50s 128ms/step - loss: 0.1276 - accuracy: 0.9657 - val_loss: 0.0430 - val_accuracy: 0.9889\n",
      "Epoch 6/10\n",
      "394/394 [==============================] - 51s 128ms/step - loss: 0.1306 - accuracy: 0.9674 - val_loss: 0.0461 - val_accuracy: 0.9884\n",
      "Epoch 7/10\n",
      "394/394 [==============================] - 51s 129ms/step - loss: 0.1188 - accuracy: 0.9684 - val_loss: 0.0555 - val_accuracy: 0.9859\n",
      "Epoch 8/10\n",
      "394/394 [==============================] - 51s 129ms/step - loss: 0.1243 - accuracy: 0.9675 - val_loss: 0.0428 - val_accuracy: 0.9884\n",
      "Epoch 9/10\n",
      "394/394 [==============================] - 51s 129ms/step - loss: 0.1323 - accuracy: 0.9654 - val_loss: 0.0411 - val_accuracy: 0.9889\n",
      "Epoch 10/10\n",
      "394/394 [==============================] - 50s 128ms/step - loss: 0.1201 - accuracy: 0.9680 - val_loss: 0.0440 - val_accuracy: 0.9881\n",
      "Duration: 0:08:27.939003\n"
     ]
    }
   ],
   "source": [
    "print(n)\n",
    "models_dg[n].fit_model(image_sets_dg[n],label_sets_dg[n],x_val,y_val,epochs=10,batch_size = 64)\n",
    "n = n+1"
   ]
  },
  {
   "cell_type": "code",
   "execution_count": 90,
   "id": "a4f393d5",
   "metadata": {},
   "outputs": [
    {
     "name": "stdout",
     "output_type": "stream",
     "text": [
      "9\n",
      "Epoch 1/10\n",
      "438/438 [==============================] - 57s 127ms/step - loss: 0.1842 - accuracy: 0.9557 - val_loss: 0.0445 - val_accuracy: 0.9881\n",
      "Epoch 2/10\n",
      "438/438 [==============================] - 55s 126ms/step - loss: 0.1570 - accuracy: 0.9593 - val_loss: 0.0410 - val_accuracy: 0.9884\n",
      "Epoch 3/10\n",
      "438/438 [==============================] - 55s 126ms/step - loss: 0.1305 - accuracy: 0.9686 - val_loss: 0.0393 - val_accuracy: 0.9889\n",
      "Epoch 4/10\n",
      "438/438 [==============================] - 55s 126ms/step - loss: 0.1374 - accuracy: 0.9653 - val_loss: 0.0356 - val_accuracy: 0.9891\n",
      "Epoch 5/10\n",
      "438/438 [==============================] - 55s 127ms/step - loss: 0.1270 - accuracy: 0.9658 - val_loss: 0.0397 - val_accuracy: 0.9894\n",
      "Epoch 6/10\n",
      "438/438 [==============================] - 57s 131ms/step - loss: 0.1204 - accuracy: 0.9695 - val_loss: 0.0400 - val_accuracy: 0.9889\n",
      "Epoch 7/10\n",
      "438/438 [==============================] - 55s 127ms/step - loss: 0.1148 - accuracy: 0.9705 - val_loss: 0.0374 - val_accuracy: 0.9896\n",
      "Epoch 8/10\n",
      "438/438 [==============================] - 55s 126ms/step - loss: 0.1151 - accuracy: 0.9695 - val_loss: 0.0493 - val_accuracy: 0.9881\n",
      "Epoch 9/10\n",
      "438/438 [==============================] - 56s 127ms/step - loss: 0.1226 - accuracy: 0.9676 - val_loss: 0.0742 - val_accuracy: 0.9849\n",
      "Epoch 10/10\n",
      "438/438 [==============================] - 55s 126ms/step - loss: 0.1213 - accuracy: 0.9702 - val_loss: 0.0602 - val_accuracy: 0.9870\n",
      "Duration: 0:09:18.030418\n"
     ]
    }
   ],
   "source": [
    "print(n)#\n",
    "models_dg[n].fit_model(image_sets_dg[n],label_sets_dg[n],x_val,y_val,epochs=10,batch_size = 64)\n",
    "n = n+1"
   ]
  },
  {
   "cell_type": "code",
   "execution_count": 91,
   "id": "2f9b9aa8",
   "metadata": {},
   "outputs": [
    {
     "name": "stdout",
     "output_type": "stream",
     "text": [
      "10\n",
      "Epoch 1/10\n",
      "482/482 [==============================] - 63s 127ms/step - loss: 0.1699 - accuracy: 0.9587 - val_loss: 0.0865 - val_accuracy: 0.9791\n",
      "Epoch 2/10\n",
      "482/482 [==============================] - 61s 126ms/step - loss: 0.1470 - accuracy: 0.9645 - val_loss: 0.0531 - val_accuracy: 0.9851\n",
      "Epoch 3/10\n",
      "482/482 [==============================] - 61s 126ms/step - loss: 0.1353 - accuracy: 0.9660 - val_loss: 0.0579 - val_accuracy: 0.9851\n",
      "Epoch 4/10\n",
      "482/482 [==============================] - 61s 126ms/step - loss: 0.1256 - accuracy: 0.9681 - val_loss: 0.0466 - val_accuracy: 0.9886\n",
      "Epoch 5/10\n",
      "482/482 [==============================] - 61s 127ms/step - loss: 0.1227 - accuracy: 0.9697 - val_loss: 0.0813 - val_accuracy: 0.9834\n",
      "Epoch 6/10\n",
      "482/482 [==============================] - 61s 126ms/step - loss: 0.1200 - accuracy: 0.9687 - val_loss: 0.0511 - val_accuracy: 0.9885\n",
      "Epoch 7/10\n",
      "482/482 [==============================] - 61s 126ms/step - loss: 0.1243 - accuracy: 0.9691 - val_loss: 0.4449 - val_accuracy: 0.8961\n",
      "Epoch 8/10\n",
      "482/482 [==============================] - 61s 127ms/step - loss: 0.1229 - accuracy: 0.9661 - val_loss: 0.0406 - val_accuracy: 0.9892\n",
      "Epoch 9/10\n",
      "482/482 [==============================] - 61s 126ms/step - loss: 0.1100 - accuracy: 0.9711 - val_loss: 0.0446 - val_accuracy: 0.9872\n",
      "Epoch 10/10\n",
      "482/482 [==============================] - 61s 127ms/step - loss: 0.1053 - accuracy: 0.9734 - val_loss: 0.0754 - val_accuracy: 0.9859\n",
      "Duration: 0:10:11.032704\n"
     ]
    }
   ],
   "source": [
    "print(n)\n",
    "models_dg[n].fit_model(image_sets_dg[n],label_sets_dg[n],x_val,y_val,epochs=10,batch_size = 64)\n",
    "n = n+1"
   ]
  },
  {
   "cell_type": "code",
   "execution_count": 92,
   "id": "e4849039",
   "metadata": {},
   "outputs": [
    {
     "name": "stdout",
     "output_type": "stream",
     "text": [
      "11\n",
      "Epoch 1/10\n",
      "525/525 [==============================] - 67s 125ms/step - loss: 0.1667 - accuracy: 0.9614 - val_loss: 0.0399 - val_accuracy: 0.9887\n",
      "Epoch 2/10\n",
      "525/525 [==============================] - 65s 124ms/step - loss: 0.1431 - accuracy: 0.9647 - val_loss: 0.0497 - val_accuracy: 0.9871\n",
      "Epoch 3/10\n",
      "525/525 [==============================] - 65s 124ms/step - loss: 0.1253 - accuracy: 0.9672 - val_loss: 0.0501 - val_accuracy: 0.9870\n",
      "Epoch 4/10\n",
      "525/525 [==============================] - 65s 124ms/step - loss: 0.1212 - accuracy: 0.9700 - val_loss: 0.0394 - val_accuracy: 0.9899\n",
      "Epoch 5/10\n",
      "525/525 [==============================] - 65s 124ms/step - loss: 0.1168 - accuracy: 0.9715 - val_loss: 0.0411 - val_accuracy: 0.9894\n",
      "Epoch 6/10\n",
      "525/525 [==============================] - 65s 124ms/step - loss: 0.1071 - accuracy: 0.9726 - val_loss: 0.0465 - val_accuracy: 0.9886\n",
      "Epoch 7/10\n",
      "525/525 [==============================] - 65s 124ms/step - loss: 0.1099 - accuracy: 0.9729 - val_loss: 0.0410 - val_accuracy: 0.9889\n",
      "Epoch 8/10\n",
      "525/525 [==============================] - 65s 124ms/step - loss: 0.1070 - accuracy: 0.9740 - val_loss: 0.0456 - val_accuracy: 0.9884\n",
      "Epoch 9/10\n",
      "525/525 [==============================] - 65s 124ms/step - loss: 0.1084 - accuracy: 0.9744 - val_loss: 0.0399 - val_accuracy: 0.9884\n",
      "Epoch 10/10\n",
      "525/525 [==============================] - 65s 124ms/step - loss: 0.1044 - accuracy: 0.9751 - val_loss: 0.0436 - val_accuracy: 0.9879\n",
      "Duration: 0:10:53.516930\n"
     ]
    }
   ],
   "source": [
    "print(n)\n",
    "models_dg[n].fit_model(image_sets_dg[n],label_sets_dg[n],x_val,y_val,epochs=10,batch_size = 64)\n",
    "n = n+1"
   ]
  },
  {
   "cell_type": "code",
   "execution_count": 93,
   "id": "43963e70",
   "metadata": {},
   "outputs": [
    {
     "name": "stdout",
     "output_type": "stream",
     "text": [
      "12\n",
      "Epoch 1/10\n",
      "569/569 [==============================] - 73s 126ms/step - loss: 0.1436 - accuracy: 0.9663 - val_loss: 0.0591 - val_accuracy: 0.9842\n",
      "Epoch 2/10\n",
      "569/569 [==============================] - 71s 125ms/step - loss: 0.1281 - accuracy: 0.9684 - val_loss: 0.0410 - val_accuracy: 0.9888\n",
      "Epoch 3/10\n",
      "569/569 [==============================] - 71s 125ms/step - loss: 0.1241 - accuracy: 0.9691 - val_loss: 0.0377 - val_accuracy: 0.9904\n",
      "Epoch 4/10\n",
      "569/569 [==============================] - 71s 125ms/step - loss: 0.1120 - accuracy: 0.9705 - val_loss: 0.0455 - val_accuracy: 0.9892\n",
      "Epoch 5/10\n",
      "569/569 [==============================] - 71s 125ms/step - loss: 0.1050 - accuracy: 0.9727 - val_loss: 0.0449 - val_accuracy: 0.9879\n",
      "Epoch 6/10\n",
      "569/569 [==============================] - 72s 127ms/step - loss: 0.1150 - accuracy: 0.9725 - val_loss: 0.0785 - val_accuracy: 0.9839\n",
      "Epoch 7/10\n",
      "569/569 [==============================] - 72s 127ms/step - loss: 0.1059 - accuracy: 0.9734 - val_loss: 0.0643 - val_accuracy: 0.9866\n",
      "Epoch 8/10\n",
      "569/569 [==============================] - 74s 131ms/step - loss: 0.0967 - accuracy: 0.9748 - val_loss: 0.0487 - val_accuracy: 0.9885\n",
      "Epoch 9/10\n",
      "569/569 [==============================] - 71s 125ms/step - loss: 0.1008 - accuracy: 0.9743 - val_loss: 0.0528 - val_accuracy: 0.9858\n",
      "Epoch 10/10\n",
      "569/569 [==============================] - 71s 124ms/step - loss: 0.1014 - accuracy: 0.9744 - val_loss: 0.0579 - val_accuracy: 0.9870\n",
      "Duration: 0:11:58.589923\n"
     ]
    }
   ],
   "source": [
    "print(n)\n",
    "models_dg[n].fit_model(image_sets_dg[n],label_sets_dg[n],x_val,y_val,epochs=10,batch_size = 64)\n",
    "n = n+1"
   ]
  },
  {
   "cell_type": "code",
   "execution_count": 94,
   "id": "d8ba0ffb",
   "metadata": {},
   "outputs": [
    {
     "name": "stdout",
     "output_type": "stream",
     "text": [
      "13\n",
      "Epoch 1/10\n",
      "613/613 [==============================] - 78s 125ms/step - loss: 0.1427 - accuracy: 0.9645 - val_loss: 0.0481 - val_accuracy: 0.9881\n",
      "Epoch 2/10\n",
      "613/613 [==============================] - 77s 125ms/step - loss: 0.1193 - accuracy: 0.9707 - val_loss: 0.0421 - val_accuracy: 0.9876\n",
      "Epoch 3/10\n",
      "613/613 [==============================] - 77s 125ms/step - loss: 0.1024 - accuracy: 0.9735 - val_loss: 0.0495 - val_accuracy: 0.9878\n",
      "Epoch 4/10\n",
      "613/613 [==============================] - 77s 125ms/step - loss: 0.1084 - accuracy: 0.9708 - val_loss: 0.0430 - val_accuracy: 0.9879\n",
      "Epoch 5/10\n",
      "613/613 [==============================] - 76s 125ms/step - loss: 0.1017 - accuracy: 0.9726 - val_loss: 0.0520 - val_accuracy: 0.9872\n",
      "Epoch 6/10\n",
      "613/613 [==============================] - 77s 125ms/step - loss: 0.1043 - accuracy: 0.9726 - val_loss: 0.0436 - val_accuracy: 0.9879\n",
      "Epoch 7/10\n",
      "613/613 [==============================] - 77s 125ms/step - loss: 0.1072 - accuracy: 0.9735 - val_loss: 0.0555 - val_accuracy: 0.9856\n",
      "Epoch 8/10\n",
      "613/613 [==============================] - 77s 125ms/step - loss: 0.1068 - accuracy: 0.9736 - val_loss: 0.0466 - val_accuracy: 0.9879\n",
      "Epoch 9/10\n",
      "613/613 [==============================] - 77s 125ms/step - loss: 0.1016 - accuracy: 0.9743 - val_loss: 0.0543 - val_accuracy: 0.9877\n",
      "Epoch 10/10\n",
      "613/613 [==============================] - 77s 125ms/step - loss: 0.1020 - accuracy: 0.9744 - val_loss: 0.0532 - val_accuracy: 0.9861\n",
      "Duration: 0:12:48.137885\n"
     ]
    }
   ],
   "source": [
    "print(n)\n",
    "models_dg[n].fit_model(image_sets_dg[n],label_sets_dg[n],x_val,y_val,epochs=10,batch_size = 64)\n",
    "n = n+1"
   ]
  },
  {
   "cell_type": "code",
   "execution_count": 95,
   "id": "c33080eb",
   "metadata": {},
   "outputs": [
    {
     "name": "stdout",
     "output_type": "stream",
     "text": [
      "14\n",
      "Epoch 1/10\n",
      "657/657 [==============================] - 84s 125ms/step - loss: 0.1344 - accuracy: 0.9693 - val_loss: 0.0426 - val_accuracy: 0.9886\n",
      "Epoch 2/10\n",
      "657/657 [==============================] - 82s 125ms/step - loss: 0.1163 - accuracy: 0.9719 - val_loss: 0.0401 - val_accuracy: 0.9889\n",
      "Epoch 3/10\n",
      "657/657 [==============================] - 85s 129ms/step - loss: 0.1055 - accuracy: 0.9739 - val_loss: 0.0430 - val_accuracy: 0.9884\n",
      "Epoch 4/10\n",
      "657/657 [==============================] - 89s 135ms/step - loss: 0.0999 - accuracy: 0.9733 - val_loss: 0.0508 - val_accuracy: 0.9874\n",
      "Epoch 5/10\n",
      "657/657 [==============================] - 90s 136ms/step - loss: 0.1040 - accuracy: 0.9755 - val_loss: 0.0603 - val_accuracy: 0.9864\n",
      "Epoch 6/10\n",
      "657/657 [==============================] - 87s 133ms/step - loss: 0.1053 - accuracy: 0.9738 - val_loss: 0.0505 - val_accuracy: 0.9872\n",
      "Epoch 7/10\n",
      "657/657 [==============================] - 89s 135ms/step - loss: 0.0983 - accuracy: 0.9761 - val_loss: 0.0601 - val_accuracy: 0.9880\n",
      "Epoch 8/10\n",
      "657/657 [==============================] - 87s 132ms/step - loss: 0.1046 - accuracy: 0.9746 - val_loss: 0.0596 - val_accuracy: 0.9868\n",
      "Epoch 9/10\n",
      "657/657 [==============================] - 84s 128ms/step - loss: 0.0995 - accuracy: 0.9756 - val_loss: 0.0846 - val_accuracy: 0.9834\n",
      "Epoch 10/10\n",
      "657/657 [==============================] - 82s 125ms/step - loss: 0.1058 - accuracy: 0.9743 - val_loss: 0.0713 - val_accuracy: 0.9861\n",
      "Duration: 0:14:18.016714\n"
     ]
    }
   ],
   "source": [
    "print(n)#\n",
    "models_dg[n].fit_model(image_sets_dg[n],label_sets_dg[n],x_val,y_val,epochs=10,batch_size = 64)\n",
    "n = n+1"
   ]
  },
  {
   "cell_type": "code",
   "execution_count": 96,
   "id": "935d2c7f",
   "metadata": {},
   "outputs": [
    {
     "name": "stdout",
     "output_type": "stream",
     "text": [
      "15\n",
      "Epoch 1/10\n",
      "700/700 [==============================] - 88s 124ms/step - loss: 0.1198 - accuracy: 0.9712 - val_loss: 0.0411 - val_accuracy: 0.9891\n",
      "Epoch 2/10\n",
      "700/700 [==============================] - 86s 123ms/step - loss: 0.1072 - accuracy: 0.9728 - val_loss: 0.0482 - val_accuracy: 0.9870\n",
      "Epoch 3/10\n",
      "700/700 [==============================] - 87s 124ms/step - loss: 0.0985 - accuracy: 0.9749 - val_loss: 0.0559 - val_accuracy: 0.9862\n",
      "Epoch 4/10\n",
      "700/700 [==============================] - 87s 124ms/step - loss: 0.1034 - accuracy: 0.9751 - val_loss: 0.0475 - val_accuracy: 0.9862\n",
      "Epoch 5/10\n",
      "700/700 [==============================] - 87s 124ms/step - loss: 0.0981 - accuracy: 0.9751 - val_loss: 0.0546 - val_accuracy: 0.9859\n",
      "Epoch 6/10\n",
      "700/700 [==============================] - 87s 124ms/step - loss: 0.0964 - accuracy: 0.9757 - val_loss: 0.0566 - val_accuracy: 0.9871\n",
      "Epoch 7/10\n",
      "700/700 [==============================] - 87s 124ms/step - loss: 0.0950 - accuracy: 0.9765 - val_loss: 0.0483 - val_accuracy: 0.9874\n",
      "Epoch 8/10\n",
      "700/700 [==============================] - 88s 126ms/step - loss: 0.0966 - accuracy: 0.9774 - val_loss: 0.0416 - val_accuracy: 0.9883\n",
      "Epoch 9/10\n",
      "700/700 [==============================] - 87s 124ms/step - loss: 0.0966 - accuracy: 0.9759 - val_loss: 0.0474 - val_accuracy: 0.9880\n",
      "Epoch 10/10\n",
      "700/700 [==============================] - 87s 124ms/step - loss: 0.0985 - accuracy: 0.9767 - val_loss: 0.0547 - val_accuracy: 0.9857\n",
      "Duration: 0:14:30.284022\n"
     ]
    }
   ],
   "source": [
    "print(n)\n",
    "models_dg[n].fit_model(image_sets_dg[n],label_sets_dg[n],x_val,y_val,epochs=10,batch_size = 64)\n",
    "n = n+1"
   ]
  },
  {
   "cell_type": "code",
   "execution_count": 97,
   "id": "0a242661",
   "metadata": {},
   "outputs": [],
   "source": [
    "time.sleep(400)"
   ]
  },
  {
   "cell_type": "code",
   "execution_count": 98,
   "id": "ab5a778b",
   "metadata": {},
   "outputs": [
    {
     "name": "stdout",
     "output_type": "stream",
     "text": [
      "16\n",
      "Epoch 1/10\n",
      "744/744 [==============================] - 92s 121ms/step - loss: 0.1151 - accuracy: 0.9723 - val_loss: 0.0510 - val_accuracy: 0.9885\n",
      "Epoch 2/10\n",
      "744/744 [==============================] - 90s 121ms/step - loss: 0.1068 - accuracy: 0.9739 - val_loss: 0.0499 - val_accuracy: 0.9876\n",
      "Epoch 3/10\n",
      "744/744 [==============================] - 90s 121ms/step - loss: 0.1064 - accuracy: 0.9742 - val_loss: 0.0474 - val_accuracy: 0.9855\n",
      "Epoch 4/10\n",
      "744/744 [==============================] - 90s 121ms/step - loss: 0.1051 - accuracy: 0.9748 - val_loss: 0.0476 - val_accuracy: 0.9877\n",
      "Epoch 5/10\n",
      "744/744 [==============================] - 90s 121ms/step - loss: 0.1037 - accuracy: 0.9760 - val_loss: 0.0604 - val_accuracy: 0.9852\n",
      "Epoch 6/10\n",
      "744/744 [==============================] - 90s 121ms/step - loss: 0.1058 - accuracy: 0.9755 - val_loss: 0.0558 - val_accuracy: 0.9876\n",
      "Epoch 7/10\n",
      "744/744 [==============================] - 90s 121ms/step - loss: 0.1009 - accuracy: 0.9762 - val_loss: 0.0608 - val_accuracy: 0.9846\n",
      "Epoch 8/10\n",
      "744/744 [==============================] - 90s 121ms/step - loss: 0.0907 - accuracy: 0.9782 - val_loss: 0.0591 - val_accuracy: 0.9858\n",
      "Epoch 9/10\n",
      "744/744 [==============================] - 91s 123ms/step - loss: 0.0891 - accuracy: 0.9764 - val_loss: 0.0661 - val_accuracy: 0.9871\n",
      "Epoch 10/10\n",
      "744/744 [==============================] - 94s 126ms/step - loss: 0.0976 - accuracy: 0.9759 - val_loss: 0.0561 - val_accuracy: 0.9854\n",
      "Duration: 0:15:06.687193\n"
     ]
    }
   ],
   "source": [
    "print(n)\n",
    "models_dg[n].fit_model(image_sets_dg[n],label_sets_dg[n],x_val,y_val,epochs=10,batch_size = 64)\n",
    "n = n+1"
   ]
  },
  {
   "cell_type": "code",
   "execution_count": 99,
   "id": "9e8ae173",
   "metadata": {},
   "outputs": [],
   "source": [
    "time.sleep(400)"
   ]
  },
  {
   "cell_type": "code",
   "execution_count": 100,
   "id": "0b00dcc1",
   "metadata": {},
   "outputs": [
    {
     "name": "stdout",
     "output_type": "stream",
     "text": [
      "17\n",
      "Epoch 1/10\n",
      "788/788 [==============================] - 96s 120ms/step - loss: 0.1162 - accuracy: 0.9733 - val_loss: 0.0376 - val_accuracy: 0.9892\n",
      "Epoch 2/10\n",
      "788/788 [==============================] - 95s 120ms/step - loss: 0.1031 - accuracy: 0.9755 - val_loss: 0.0601 - val_accuracy: 0.9865\n",
      "Epoch 3/10\n",
      "788/788 [==============================] - 95s 120ms/step - loss: 0.0947 - accuracy: 0.9759 - val_loss: 0.0555 - val_accuracy: 0.9847\n",
      "Epoch 4/10\n",
      "788/788 [==============================] - 95s 121ms/step - loss: 0.0935 - accuracy: 0.9765 - val_loss: 0.0469 - val_accuracy: 0.9871\n",
      "Epoch 5/10\n",
      "788/788 [==============================] - 95s 120ms/step - loss: 0.0833 - accuracy: 0.9789 - val_loss: 0.0628 - val_accuracy: 0.9854\n",
      "Epoch 6/10\n",
      "788/788 [==============================] - 95s 120ms/step - loss: 0.0962 - accuracy: 0.9772 - val_loss: 0.0495 - val_accuracy: 0.9868\n",
      "Epoch 7/10\n",
      "788/788 [==============================] - 95s 120ms/step - loss: 0.0881 - accuracy: 0.9784 - val_loss: 0.0493 - val_accuracy: 0.9869\n",
      "Epoch 8/10\n",
      "788/788 [==============================] - 96s 122ms/step - loss: 0.0903 - accuracy: 0.9784 - val_loss: 0.0615 - val_accuracy: 0.9859\n",
      "Epoch 9/10\n",
      "788/788 [==============================] - 98s 124ms/step - loss: 0.0887 - accuracy: 0.9788 - val_loss: 0.6218 - val_accuracy: 0.9069\n",
      "Epoch 10/10\n",
      "788/788 [==============================] - 99s 125ms/step - loss: 0.1071 - accuracy: 0.9747 - val_loss: 0.0658 - val_accuracy: 0.9859\n",
      "Duration: 0:15:57.966506\n"
     ]
    }
   ],
   "source": [
    "print(n)\n",
    "models_dg[n].fit_model(image_sets_dg[n],label_sets_dg[n],x_val,y_val,epochs=10,batch_size = 64)\n",
    "n = n+1"
   ]
  },
  {
   "cell_type": "code",
   "execution_count": 101,
   "id": "ed4a70b7",
   "metadata": {},
   "outputs": [],
   "source": [
    "time.sleep(400)"
   ]
  },
  {
   "cell_type": "code",
   "execution_count": 102,
   "id": "c6cccdf0",
   "metadata": {},
   "outputs": [
    {
     "name": "stdout",
     "output_type": "stream",
     "text": [
      "18\n",
      "Epoch 1/10\n",
      "832/832 [==============================] - 102s 121ms/step - loss: 0.1093 - accuracy: 0.9746 - val_loss: 0.1004 - val_accuracy: 0.9756\n",
      "Epoch 2/10\n",
      "832/832 [==============================] - 100s 120ms/step - loss: 0.1020 - accuracy: 0.9744 - val_loss: 0.0693 - val_accuracy: 0.9834\n",
      "Epoch 3/10\n",
      "832/832 [==============================] - 100s 120ms/step - loss: 0.0840 - accuracy: 0.9785 - val_loss: 0.0744 - val_accuracy: 0.9841\n",
      "Epoch 4/10\n",
      "832/832 [==============================] - 100s 121ms/step - loss: 0.0973 - accuracy: 0.9775 - val_loss: 0.0702 - val_accuracy: 0.9822\n",
      "Epoch 5/10\n",
      "832/832 [==============================] - 100s 120ms/step - loss: 0.0921 - accuracy: 0.9785 - val_loss: 0.0480 - val_accuracy: 0.9860\n",
      "Epoch 6/10\n",
      "832/832 [==============================] - 100s 120ms/step - loss: 0.0941 - accuracy: 0.9773 - val_loss: 0.0979 - val_accuracy: 0.9784\n",
      "Epoch 7/10\n",
      "832/832 [==============================] - 100s 120ms/step - loss: 0.0923 - accuracy: 0.9765 - val_loss: 0.1748 - val_accuracy: 0.9718\n",
      "Epoch 8/10\n",
      "832/832 [==============================] - 101s 122ms/step - loss: 0.0921 - accuracy: 0.9777 - val_loss: 0.0721 - val_accuracy: 0.9814\n",
      "Epoch 9/10\n",
      "832/832 [==============================] - 104s 125ms/step - loss: 0.0918 - accuracy: 0.9773 - val_loss: 0.0630 - val_accuracy: 0.9846\n",
      "Epoch 10/10\n",
      "832/832 [==============================] - 105s 126ms/step - loss: 0.0997 - accuracy: 0.9775 - val_loss: 0.0574 - val_accuracy: 0.9837\n",
      "Duration: 0:16:53.173854\n"
     ]
    }
   ],
   "source": [
    "print(n)\n",
    "models_dg[n].fit_model(image_sets_dg[n],label_sets_dg[n],x_val,y_val,epochs=10,batch_size = 64)\n",
    "n = n+1"
   ]
  },
  {
   "cell_type": "code",
   "execution_count": 103,
   "id": "83cc5bdf",
   "metadata": {},
   "outputs": [],
   "source": [
    "time.sleep(400)"
   ]
  },
  {
   "cell_type": "code",
   "execution_count": 104,
   "id": "b8140fc7",
   "metadata": {},
   "outputs": [
    {
     "name": "stdout",
     "output_type": "stream",
     "text": [
      "19\n",
      "Epoch 1/10\n",
      "875/875 [==============================] - 108s 121ms/step - loss: 0.1034 - accuracy: 0.9756 - val_loss: 0.0470 - val_accuracy: 0.9869\n",
      "Epoch 2/10\n",
      "875/875 [==============================] - 106s 121ms/step - loss: 0.0919 - accuracy: 0.9776 - val_loss: 0.0471 - val_accuracy: 0.9876\n",
      "Epoch 3/10\n",
      "875/875 [==============================] - 106s 121ms/step - loss: 0.0900 - accuracy: 0.9776 - val_loss: 0.0543 - val_accuracy: 0.9864\n",
      "Epoch 4/10\n",
      "875/875 [==============================] - 105s 120ms/step - loss: 0.0870 - accuracy: 0.9781 - val_loss: 0.0483 - val_accuracy: 0.9871\n",
      "Epoch 5/10\n",
      "875/875 [==============================] - 106s 121ms/step - loss: 0.0909 - accuracy: 0.9780 - val_loss: 0.0566 - val_accuracy: 0.9846\n",
      "Epoch 6/10\n",
      "875/875 [==============================] - 106s 121ms/step - loss: 0.0915 - accuracy: 0.9782 - val_loss: 0.0535 - val_accuracy: 0.9864\n",
      "Epoch 7/10\n",
      "875/875 [==============================] - 106s 121ms/step - loss: 0.0870 - accuracy: 0.9790 - val_loss: 0.0561 - val_accuracy: 0.9854\n",
      "Epoch 8/10\n",
      "875/875 [==============================] - 108s 123ms/step - loss: 0.0872 - accuracy: 0.9786 - val_loss: 0.0654 - val_accuracy: 0.9839\n",
      "Epoch 9/10\n",
      "875/875 [==============================] - 110s 126ms/step - loss: 0.0936 - accuracy: 0.9780 - val_loss: 0.0567 - val_accuracy: 0.9858\n",
      "Epoch 10/10\n",
      "875/875 [==============================] - 110s 126ms/step - loss: 0.0916 - accuracy: 0.9785 - val_loss: 0.0525 - val_accuracy: 0.9869\n",
      "Duration: 0:17:50.833887\n"
     ]
    }
   ],
   "source": [
    "print(n)#\n",
    "models_dg[n].fit_model(image_sets_dg[n],label_sets_dg[n],x_val,y_val,epochs=10,batch_size = 64)\n",
    "n = n+1"
   ]
  },
  {
   "cell_type": "code",
   "execution_count": 105,
   "id": "822aa540",
   "metadata": {},
   "outputs": [
    {
     "name": "stdout",
     "output_type": "stream",
     "text": [
      "INFO:tensorflow:Assets written to: D:/models/aug_22/mnist/C2/mnist_model_c2_aug_dg_e1_0\\assets\n",
      "Model has been saved\n",
      "INFO:tensorflow:Assets written to: D:/models/aug_22/mnist/C2/mnist_model_c2_aug_dg_e1_1\\assets\n",
      "Model has been saved\n",
      "INFO:tensorflow:Assets written to: D:/models/aug_22/mnist/C2/mnist_model_c2_aug_dg_e1_2\\assets\n",
      "Model has been saved\n",
      "INFO:tensorflow:Assets written to: D:/models/aug_22/mnist/C2/mnist_model_c2_aug_dg_e1_3\\assets\n",
      "Model has been saved\n",
      "INFO:tensorflow:Assets written to: D:/models/aug_22/mnist/C2/mnist_model_c2_aug_dg_e1_4\\assets\n",
      "Model has been saved\n",
      "INFO:tensorflow:Assets written to: D:/models/aug_22/mnist/C2/mnist_model_c2_aug_dg_e1_5\\assets\n",
      "Model has been saved\n",
      "INFO:tensorflow:Assets written to: D:/models/aug_22/mnist/C2/mnist_model_c2_aug_dg_e1_6\\assets\n",
      "Model has been saved\n",
      "INFO:tensorflow:Assets written to: D:/models/aug_22/mnist/C2/mnist_model_c2_aug_dg_e1_7\\assets\n",
      "Model has been saved\n",
      "INFO:tensorflow:Assets written to: D:/models/aug_22/mnist/C2/mnist_model_c2_aug_dg_e1_8\\assets\n",
      "Model has been saved\n",
      "INFO:tensorflow:Assets written to: D:/models/aug_22/mnist/C2/mnist_model_c2_aug_dg_e1_9\\assets\n",
      "Model has been saved\n",
      "INFO:tensorflow:Assets written to: D:/models/aug_22/mnist/C2/mnist_model_c2_aug_dg_e1_10\\assets\n",
      "Model has been saved\n",
      "INFO:tensorflow:Assets written to: D:/models/aug_22/mnist/C2/mnist_model_c2_aug_dg_e1_11\\assets\n",
      "Model has been saved\n",
      "INFO:tensorflow:Assets written to: D:/models/aug_22/mnist/C2/mnist_model_c2_aug_dg_e1_12\\assets\n",
      "Model has been saved\n",
      "INFO:tensorflow:Assets written to: D:/models/aug_22/mnist/C2/mnist_model_c2_aug_dg_e1_13\\assets\n",
      "Model has been saved\n",
      "INFO:tensorflow:Assets written to: D:/models/aug_22/mnist/C2/mnist_model_c2_aug_dg_e1_14\\assets\n",
      "Model has been saved\n",
      "INFO:tensorflow:Assets written to: D:/models/aug_22/mnist/C2/mnist_model_c2_aug_dg_e1_15\\assets\n",
      "Model has been saved\n",
      "INFO:tensorflow:Assets written to: D:/models/aug_22/mnist/C2/mnist_model_c2_aug_dg_e1_16\\assets\n",
      "Model has been saved\n",
      "INFO:tensorflow:Assets written to: D:/models/aug_22/mnist/C2/mnist_model_c2_aug_dg_e1_17\\assets\n",
      "Model has been saved\n",
      "INFO:tensorflow:Assets written to: D:/models/aug_22/mnist/C2/mnist_model_c2_aug_dg_e1_18\\assets\n",
      "Model has been saved\n",
      "INFO:tensorflow:Assets written to: D:/models/aug_22/mnist/C2/mnist_model_c2_aug_dg_e1_19\\assets\n",
      "Model has been saved\n"
     ]
    }
   ],
   "source": [
    "new_model_dg_dir  = \"D:/models/aug_22/\"+dataset+\"/C2/\"+dataset+\"_model_c2_aug_dg_e1\"\n",
    "\n",
    "i=0\n",
    "\n",
    "for model in models_dg:\n",
    "    model.save(new_model_dg_dir+\"_\"+str(i))\n",
    "    i+=1"
   ]
  },
  {
   "cell_type": "code",
   "execution_count": null,
   "id": "87737d9a",
   "metadata": {},
   "outputs": [],
   "source": [
    "loading = False\n",
    "\n",
    "models_dg = []\n",
    "\n",
    "if loading:\n",
    "    for i in range(5):\n",
    "        model_dg_dir = \"D:/models/aug_22/gtsrb/C1/gtsrb_model_c1_aug_gn_e1_\"+str(i)\n",
    "        print(model_dg_dir)\n",
    "        model =utils.My_model('gtsrb',True,model_dg_dir)\n",
    "        model.model.compile(loss= 'categorical_crossentropy', optimizer = 'rmsprop', metrics = ['accuracy',tf.keras.metrics.Precision(), tf.keras.metrics.Recall()])\n",
    "        models_dg.append(model)\n",
    "       \n",
    "    "
   ]
  },
  {
   "cell_type": "code",
   "execution_count": 106,
   "id": "2139719c",
   "metadata": {},
   "outputs": [],
   "source": [
    "try:\n",
    "    del deep_gini_values\n",
    "    del top_images_by_dg\n",
    "    del top_labels_by_dg\n",
    "    del image_sets_dg\n",
    "    del label_sets_dg\n",
    "    del models_dg\n",
    "except:\n",
    "    print(\"Error\")"
   ]
  },
  {
   "cell_type": "code",
   "execution_count": 107,
   "id": "a8986882",
   "metadata": {},
   "outputs": [
    {
     "data": {
      "text/plain": [
       "314580"
      ]
     },
     "execution_count": 107,
     "metadata": {},
     "output_type": "execute_result"
    }
   ],
   "source": [
    "import gc\n",
    "gc.collect()"
   ]
  },
  {
   "cell_type": "markdown",
   "id": "be3bfcff",
   "metadata": {},
   "source": [
    "### Softmax "
   ]
  },
  {
   "cell_type": "code",
   "execution_count": 108,
   "id": "d3b6b20c",
   "metadata": {},
   "outputs": [],
   "source": [
    "#softmax values\n",
    "se_direction = \"C:/Users/fjdur/Documents/upc-july/data/\"+dataset+\"/softmax_values.npy\"\n",
    "se_values = np.load(se_direction)\n"
   ]
  },
  {
   "cell_type": "code",
   "execution_count": 109,
   "id": "a389aa31",
   "metadata": {},
   "outputs": [],
   "source": [
    "# Obtaining top n images by LSA values\n",
    "top_images_by_se  = utils.get_x_of_indexes(list(np.flip(np.argsort(se_values))),x_train_and_adversary)\n",
    "top_labels_by_se = utils.get_x_of_indexes(list(np.flip(np.argsort(se_values))),y_train_and_adversary)"
   ]
  },
  {
   "cell_type": "code",
   "execution_count": 110,
   "id": "74bdb95f",
   "metadata": {},
   "outputs": [
    {
     "name": "stdout",
     "output_type": "stream",
     "text": [
      "0 :\n",
      "0  ->  2800\n",
      "2800\n",
      "1 :\n",
      "0  ->  5600\n",
      "5600\n",
      "2 :\n",
      "0  ->  8400\n",
      "8400\n",
      "3 :\n",
      "0  ->  11200\n",
      "11200\n",
      "4 :\n",
      "0  ->  14000\n",
      "14000\n",
      "5 :\n",
      "0  ->  16800\n",
      "16800\n",
      "6 :\n",
      "0  ->  19600\n",
      "19600\n",
      "7 :\n",
      "0  ->  22400\n",
      "22400\n",
      "8 :\n",
      "0  ->  25200\n",
      "25200\n",
      "9 :\n",
      "0  ->  28000\n",
      "28000\n",
      "10 :\n",
      "0  ->  30800\n",
      "30800\n",
      "11 :\n",
      "0  ->  33600\n",
      "33600\n",
      "12 :\n",
      "0  ->  36400\n",
      "36400\n",
      "13 :\n",
      "0  ->  39200\n",
      "39200\n",
      "14 :\n",
      "0  ->  42000\n",
      "42000\n",
      "15 :\n",
      "0  ->  44800\n",
      "44800\n",
      "16 :\n",
      "0  ->  47600\n",
      "47600\n",
      "17 :\n",
      "0  ->  50400\n",
      "50400\n",
      "18 :\n",
      "0  ->  53200\n",
      "53200\n",
      "19 :\n",
      "Last\n",
      "0  ->  58798\n",
      "55998\n"
     ]
    }
   ],
   "source": [
    "m = n_data_points\n",
    "\n",
    "n = 0\n",
    "image_sets_se = []\n",
    "label_sets_se = []\n",
    "\n",
    "# last\n",
    "#for i in range(0,len(top_images_by_lsa)//m):\n",
    "\n",
    "for i in range((len(top_images_by_se)//m)+1):\n",
    "    print(i,\":\")\n",
    "    if (i+1 >= ((len(top_images_by_se)//m)+1)):\n",
    "        print(\"Last\")\n",
    "        print(0,\" -> \",n+m+(len(top_images_by_se)%m))\n",
    "        top_images_by_se_n = np.array(top_images_by_se[:n+m+(len(top_images_by_se)%m)])\n",
    "        top_labels_by_se_n = np.array(top_labels_by_se[:n+m+(len(top_images_by_se)%m)])\n",
    "    else:\n",
    "        print(0,\" -> \",m+n)\n",
    "        top_images_by_se_n = np.array(top_images_by_se[:n+m])\n",
    "        top_labels_by_se_n = np.array(top_labels_by_se[:n+m])\n",
    "    image_sets_se.append(top_images_by_se_n)\n",
    "    label_sets_se.append(top_labels_by_se_n)\n",
    "    print(len(top_images_by_se_n))\n",
    "    n += m\n",
    "\n"
   ]
  },
  {
   "cell_type": "code",
   "execution_count": 111,
   "id": "14e3cfb3",
   "metadata": {},
   "outputs": [
    {
     "name": "stdout",
     "output_type": "stream",
     "text": [
      "C:/Users/fjdur/Documents/upc-july/models/models2\n",
      "0 :\n",
      "Model loaded correctly\n",
      "Model compiled\n",
      "1 :\n",
      "Model loaded correctly\n",
      "Model compiled\n",
      "2 :\n",
      "Model loaded correctly\n",
      "Model compiled\n",
      "3 :\n",
      "Model loaded correctly\n",
      "Model compiled\n",
      "4 :\n",
      "Model loaded correctly\n",
      "Model compiled\n",
      "5 :\n",
      "Model loaded correctly\n",
      "Model compiled\n",
      "6 :\n",
      "Model loaded correctly\n",
      "Model compiled\n",
      "7 :\n",
      "Model loaded correctly\n",
      "Model compiled\n",
      "8 :\n",
      "Model loaded correctly\n",
      "Model compiled\n",
      "9 :\n",
      "Model loaded correctly\n",
      "Model compiled\n",
      "10 :\n",
      "Model loaded correctly\n",
      "Model compiled\n",
      "11 :\n",
      "Model loaded correctly\n",
      "Model compiled\n",
      "12 :\n",
      "Model loaded correctly\n",
      "Model compiled\n",
      "13 :\n",
      "Model loaded correctly\n",
      "Model compiled\n",
      "14 :\n",
      "Model loaded correctly\n",
      "Model compiled\n",
      "15 :\n",
      "Model loaded correctly\n",
      "Model compiled\n",
      "16 :\n",
      "Model loaded correctly\n",
      "Model compiled\n",
      "17 :\n",
      "Model loaded correctly\n",
      "Model compiled\n",
      "18 :\n",
      "Model loaded correctly\n",
      "Model compiled\n",
      "19 :\n",
      "Model loaded correctly\n",
      "Model compiled\n"
     ]
    }
   ],
   "source": [
    "print(model_dir)\n",
    "models_se = []\n",
    "for i in range(len(label_sets_se)):\n",
    "    print(i,\":\")\n",
    "    model = utils.My_model(dataset,True,model_dir)\n",
    "    model.compile_model()\n",
    "    models_se.append(model)"
   ]
  },
  {
   "cell_type": "code",
   "execution_count": 112,
   "id": "f66277ed",
   "metadata": {},
   "outputs": [
    {
     "name": "stdout",
     "output_type": "stream",
     "text": [
      "0\n",
      "Epoch 1/10\n",
      "44/44 [==============================] - 12s 231ms/step - loss: 0.8671 - accuracy: 0.7846 - val_loss: 0.0356 - val_accuracy: 0.9900\n",
      "Epoch 2/10\n",
      "44/44 [==============================] - 10s 220ms/step - loss: 0.6057 - accuracy: 0.8312 - val_loss: 0.0463 - val_accuracy: 0.9878\n",
      "Epoch 3/10\n",
      "44/44 [==============================] - 10s 223ms/step - loss: 0.5056 - accuracy: 0.8583 - val_loss: 0.0346 - val_accuracy: 0.9891\n",
      "Epoch 4/10\n",
      "44/44 [==============================] - 10s 239ms/step - loss: 0.5039 - accuracy: 0.8568 - val_loss: 0.0403 - val_accuracy: 0.9883\n",
      "Epoch 5/10\n",
      "44/44 [==============================] - 10s 238ms/step - loss: 0.5025 - accuracy: 0.8643 - val_loss: 0.0317 - val_accuracy: 0.9907\n",
      "Epoch 6/10\n",
      "44/44 [==============================] - 10s 238ms/step - loss: 0.4112 - accuracy: 0.8723 - val_loss: 0.0331 - val_accuracy: 0.9907\n",
      "Epoch 7/10\n",
      "44/44 [==============================] - 10s 238ms/step - loss: 0.3875 - accuracy: 0.8822 - val_loss: 0.0352 - val_accuracy: 0.9904\n",
      "Epoch 8/10\n",
      "44/44 [==============================] - 11s 242ms/step - loss: 0.3632 - accuracy: 0.9053 - val_loss: 0.0327 - val_accuracy: 0.9905\n",
      "Epoch 9/10\n",
      "44/44 [==============================] - 10s 238ms/step - loss: 0.3315 - accuracy: 0.9084 - val_loss: 0.0331 - val_accuracy: 0.9904\n",
      "Epoch 10/10\n",
      "44/44 [==============================] - 10s 238ms/step - loss: 0.3250 - accuracy: 0.8897 - val_loss: 0.0377 - val_accuracy: 0.9908\n",
      "Duration: 0:01:43.566698\n"
     ]
    }
   ],
   "source": [
    "n=0\n",
    "print(n)\n",
    "models_se[n].fit_model(image_sets_se[n],label_sets_se[n],x_val,y_val,epochs=10,batch_size = 64)\n",
    "n = n+1"
   ]
  },
  {
   "cell_type": "code",
   "execution_count": 113,
   "id": "5bb251b4",
   "metadata": {},
   "outputs": [
    {
     "name": "stdout",
     "output_type": "stream",
     "text": [
      "1\n",
      "Epoch 1/10\n",
      "88/88 [==============================] - 17s 177ms/step - loss: 0.6332 - accuracy: 0.8449 - val_loss: 0.0388 - val_accuracy: 0.9890\n",
      "Epoch 2/10\n",
      "88/88 [==============================] - 15s 176ms/step - loss: 0.4619 - accuracy: 0.8829 - val_loss: 0.0705 - val_accuracy: 0.9849\n",
      "Epoch 3/10\n",
      "88/88 [==============================] - 15s 176ms/step - loss: 0.4226 - accuracy: 0.8796 - val_loss: 0.0355 - val_accuracy: 0.9894\n",
      "Epoch 4/10\n",
      "88/88 [==============================] - 15s 176ms/step - loss: 0.3920 - accuracy: 0.8934 - val_loss: 0.0333 - val_accuracy: 0.9900\n",
      "Epoch 5/10\n",
      "88/88 [==============================] - 15s 175ms/step - loss: 0.3200 - accuracy: 0.9019 - val_loss: 0.0398 - val_accuracy: 0.9894\n",
      "Epoch 6/10\n",
      "88/88 [==============================] - 15s 176ms/step - loss: 0.3140 - accuracy: 0.9122 - val_loss: 0.0475 - val_accuracy: 0.9882\n",
      "Epoch 7/10\n",
      "88/88 [==============================] - 16s 177ms/step - loss: 0.2866 - accuracy: 0.9084 - val_loss: 0.0381 - val_accuracy: 0.9888\n",
      "Epoch 8/10\n",
      "88/88 [==============================] - 16s 177ms/step - loss: 0.2655 - accuracy: 0.9265 - val_loss: 0.0349 - val_accuracy: 0.9905\n",
      "Epoch 9/10\n",
      "88/88 [==============================] - 15s 176ms/step - loss: 0.2622 - accuracy: 0.9230 - val_loss: 0.0387 - val_accuracy: 0.9900\n",
      "Epoch 10/10\n",
      "88/88 [==============================] - 15s 176ms/step - loss: 0.2170 - accuracy: 0.9329 - val_loss: 0.0331 - val_accuracy: 0.9906\n",
      "Duration: 0:02:36.353889\n"
     ]
    }
   ],
   "source": [
    "print(n)\n",
    "models_se[n].fit_model(image_sets_se[n],label_sets_se[n],x_val,y_val,epochs=10,batch_size = 64)\n",
    "n = n+1"
   ]
  },
  {
   "cell_type": "code",
   "execution_count": 114,
   "id": "b3b84fa2",
   "metadata": {},
   "outputs": [
    {
     "name": "stdout",
     "output_type": "stream",
     "text": [
      "2\n",
      "Epoch 1/10\n",
      "132/132 [==============================] - 22s 156ms/step - loss: 0.5347 - accuracy: 0.8709 - val_loss: 0.0377 - val_accuracy: 0.9894\n",
      "Epoch 2/10\n",
      "132/132 [==============================] - 21s 156ms/step - loss: 0.3731 - accuracy: 0.9022 - val_loss: 0.0527 - val_accuracy: 0.9884\n",
      "Epoch 3/10\n",
      "132/132 [==============================] - 21s 157ms/step - loss: 0.3257 - accuracy: 0.9098 - val_loss: 0.0800 - val_accuracy: 0.9834\n",
      "Epoch 4/10\n",
      "132/132 [==============================] - 21s 156ms/step - loss: 0.2654 - accuracy: 0.9246 - val_loss: 0.0374 - val_accuracy: 0.9895\n",
      "Epoch 5/10\n",
      "132/132 [==============================] - 20s 156ms/step - loss: 0.2608 - accuracy: 0.9264 - val_loss: 0.0447 - val_accuracy: 0.9894\n",
      "Epoch 6/10\n",
      "132/132 [==============================] - 21s 156ms/step - loss: 0.2815 - accuracy: 0.9241 - val_loss: 0.0407 - val_accuracy: 0.9901\n",
      "Epoch 7/10\n",
      "132/132 [==============================] - 21s 156ms/step - loss: 0.2291 - accuracy: 0.9337 - val_loss: 0.0434 - val_accuracy: 0.9891\n",
      "Epoch 8/10\n",
      "132/132 [==============================] - 21s 156ms/step - loss: 0.2150 - accuracy: 0.9425 - val_loss: 0.0364 - val_accuracy: 0.9899\n",
      "Epoch 9/10\n",
      "132/132 [==============================] - 21s 157ms/step - loss: 0.2092 - accuracy: 0.9351 - val_loss: 0.0344 - val_accuracy: 0.9905\n",
      "Epoch 10/10\n",
      "132/132 [==============================] - 22s 164ms/step - loss: 0.1836 - accuracy: 0.9471 - val_loss: 0.0406 - val_accuracy: 0.9906\n",
      "Duration: 0:03:28.571894\n"
     ]
    }
   ],
   "source": [
    "print(n)\n",
    "models_se[n].fit_model(image_sets_se[n],label_sets_se[n],x_val,y_val,epochs=10,batch_size = 64)\n",
    "n = n+1"
   ]
  },
  {
   "cell_type": "code",
   "execution_count": 115,
   "id": "2dd3cc7c",
   "metadata": {},
   "outputs": [
    {
     "name": "stdout",
     "output_type": "stream",
     "text": [
      "3\n",
      "Epoch 1/10\n",
      "175/175 [==============================] - 28s 151ms/step - loss: 0.3877 - accuracy: 0.9020 - val_loss: 0.0336 - val_accuracy: 0.9902\n",
      "Epoch 2/10\n",
      "175/175 [==============================] - 25s 145ms/step - loss: 0.3002 - accuracy: 0.9158 - val_loss: 0.0338 - val_accuracy: 0.9904\n",
      "Epoch 3/10\n",
      "175/175 [==============================] - 25s 145ms/step - loss: 0.2669 - accuracy: 0.9294 - val_loss: 0.0325 - val_accuracy: 0.9905\n",
      "Epoch 4/10\n",
      "175/175 [==============================] - 26s 148ms/step - loss: 0.2509 - accuracy: 0.9329 - val_loss: 0.0376 - val_accuracy: 0.9896\n",
      "Epoch 5/10\n",
      "175/175 [==============================] - 26s 149ms/step - loss: 0.2262 - accuracy: 0.9333 - val_loss: 0.0347 - val_accuracy: 0.9896\n",
      "Epoch 6/10\n",
      "175/175 [==============================] - 25s 146ms/step - loss: 0.1951 - accuracy: 0.9468 - val_loss: 0.0350 - val_accuracy: 0.9896\n",
      "Epoch 7/10\n",
      "175/175 [==============================] - 25s 146ms/step - loss: 0.1808 - accuracy: 0.9505 - val_loss: 0.0370 - val_accuracy: 0.9903\n",
      "Epoch 8/10\n",
      "175/175 [==============================] - 25s 145ms/step - loss: 0.1901 - accuracy: 0.9491 - val_loss: 0.0390 - val_accuracy: 0.9894\n",
      "Epoch 9/10\n",
      "175/175 [==============================] - 26s 146ms/step - loss: 0.1463 - accuracy: 0.9560 - val_loss: 0.0347 - val_accuracy: 0.9896\n",
      "Epoch 10/10\n",
      "175/175 [==============================] - 25s 145ms/step - loss: 0.1750 - accuracy: 0.9517 - val_loss: 0.0451 - val_accuracy: 0.9892\n",
      "Duration: 0:04:17.918596\n"
     ]
    }
   ],
   "source": [
    "print(n)\n",
    "models_se[n].fit_model(image_sets_se[n],label_sets_se[n],x_val,y_val,epochs=10,batch_size = 64)\n",
    "n = n+1"
   ]
  },
  {
   "cell_type": "code",
   "execution_count": 116,
   "id": "e151e755",
   "metadata": {},
   "outputs": [
    {
     "name": "stdout",
     "output_type": "stream",
     "text": [
      "4\n",
      "Epoch 1/10\n",
      "219/219 [==============================] - 33s 143ms/step - loss: 0.3581 - accuracy: 0.9117 - val_loss: 0.0346 - val_accuracy: 0.9900\n",
      "Epoch 2/10\n",
      "219/219 [==============================] - 31s 142ms/step - loss: 0.2762 - accuracy: 0.9296 - val_loss: 0.0418 - val_accuracy: 0.9876\n",
      "Epoch 3/10\n",
      "219/219 [==============================] - 31s 143ms/step - loss: 0.2258 - accuracy: 0.9400 - val_loss: 0.0445 - val_accuracy: 0.9879\n",
      "Epoch 4/10\n",
      "219/219 [==============================] - 31s 142ms/step - loss: 0.2198 - accuracy: 0.9427 - val_loss: 0.0808 - val_accuracy: 0.9899\n",
      "Epoch 5/10\n",
      "219/219 [==============================] - 31s 142ms/step - loss: 0.1908 - accuracy: 0.9469 - val_loss: 0.0348 - val_accuracy: 0.9899\n",
      "Epoch 6/10\n",
      "219/219 [==============================] - 31s 142ms/step - loss: 0.1788 - accuracy: 0.9528 - val_loss: 0.0318 - val_accuracy: 0.9904\n",
      "Epoch 7/10\n",
      "219/219 [==============================] - 31s 143ms/step - loss: 0.1627 - accuracy: 0.9583 - val_loss: 0.0367 - val_accuracy: 0.9894\n",
      "Epoch 8/10\n",
      "219/219 [==============================] - 31s 142ms/step - loss: 0.1769 - accuracy: 0.9516 - val_loss: 0.0403 - val_accuracy: 0.9889\n",
      "Epoch 9/10\n",
      "219/219 [==============================] - 31s 142ms/step - loss: 0.1529 - accuracy: 0.9556 - val_loss: 0.0346 - val_accuracy: 0.9907\n",
      "Epoch 10/10\n",
      "219/219 [==============================] - 31s 142ms/step - loss: 0.1569 - accuracy: 0.9588 - val_loss: 0.0376 - val_accuracy: 0.9901\n",
      "Duration: 0:05:13.355623\n"
     ]
    }
   ],
   "source": [
    "print(n)#\n",
    "models_se[n].fit_model(image_sets_se[n],label_sets_se[n],x_val,y_val,epochs=10,batch_size = 64)\n",
    "n = n+1"
   ]
  },
  {
   "cell_type": "code",
   "execution_count": 117,
   "id": "976d21de",
   "metadata": {},
   "outputs": [
    {
     "name": "stdout",
     "output_type": "stream",
     "text": [
      "5\n",
      "Epoch 1/10\n",
      "263/263 [==============================] - 38s 139ms/step - loss: 0.2884 - accuracy: 0.9291 - val_loss: 0.0340 - val_accuracy: 0.9903\n",
      "Epoch 2/10\n",
      "263/263 [==============================] - 37s 139ms/step - loss: 0.2236 - accuracy: 0.9424 - val_loss: 0.0377 - val_accuracy: 0.9896\n",
      "Epoch 3/10\n",
      "263/263 [==============================] - 37s 141ms/step - loss: 0.2068 - accuracy: 0.9462 - val_loss: 0.0464 - val_accuracy: 0.9872\n",
      "Epoch 4/10\n",
      "263/263 [==============================] - 37s 141ms/step - loss: 0.1907 - accuracy: 0.9508 - val_loss: 0.0415 - val_accuracy: 0.9889\n",
      "Epoch 5/10\n",
      "263/263 [==============================] - 37s 139ms/step - loss: 0.1824 - accuracy: 0.9516 - val_loss: 0.0356 - val_accuracy: 0.9886\n",
      "Epoch 6/10\n",
      "263/263 [==============================] - 37s 139ms/step - loss: 0.1553 - accuracy: 0.9586 - val_loss: 0.0441 - val_accuracy: 0.9881\n",
      "Epoch 7/10\n",
      "263/263 [==============================] - 37s 140ms/step - loss: 0.1537 - accuracy: 0.9599 - val_loss: 0.0470 - val_accuracy: 0.9901\n",
      "Epoch 8/10\n",
      "263/263 [==============================] - 37s 140ms/step - loss: 0.1515 - accuracy: 0.9597 - val_loss: 0.0482 - val_accuracy: 0.9881\n",
      "Epoch 9/10\n",
      "263/263 [==============================] - 38s 143ms/step - loss: 0.1392 - accuracy: 0.9603 - val_loss: 0.0401 - val_accuracy: 0.9896\n",
      "Epoch 10/10\n",
      "263/263 [==============================] - 37s 140ms/step - loss: 0.1501 - accuracy: 0.9621 - val_loss: 0.0600 - val_accuracy: 0.9854\n",
      "Duration: 0:06:10.087955\n"
     ]
    }
   ],
   "source": [
    "print(n)\n",
    "models_se[n].fit_model(image_sets_se[n],label_sets_se[n],x_val,y_val,epochs=10,batch_size = 64)\n",
    "n = n+1"
   ]
  },
  {
   "cell_type": "code",
   "execution_count": 118,
   "id": "86546a95",
   "metadata": {},
   "outputs": [
    {
     "name": "stdout",
     "output_type": "stream",
     "text": [
      "6\n",
      "Epoch 1/10\n",
      "307/307 [==============================] - 44s 138ms/step - loss: 0.2467 - accuracy: 0.9405 - val_loss: 0.0380 - val_accuracy: 0.9892\n",
      "Epoch 2/10\n",
      "307/307 [==============================] - 42s 138ms/step - loss: 0.1869 - accuracy: 0.9497 - val_loss: 0.0764 - val_accuracy: 0.9852\n",
      "Epoch 3/10\n",
      "307/307 [==============================] - 42s 137ms/step - loss: 0.1802 - accuracy: 0.9522 - val_loss: 0.0365 - val_accuracy: 0.9892\n",
      "Epoch 4/10\n",
      "307/307 [==============================] - 42s 137ms/step - loss: 0.1705 - accuracy: 0.9570 - val_loss: 0.0433 - val_accuracy: 0.9876\n",
      "Epoch 5/10\n",
      "307/307 [==============================] - 42s 137ms/step - loss: 0.1551 - accuracy: 0.9559 - val_loss: 0.0474 - val_accuracy: 0.9886\n",
      "Epoch 6/10\n",
      "307/307 [==============================] - 42s 137ms/step - loss: 0.1519 - accuracy: 0.9591 - val_loss: 0.0407 - val_accuracy: 0.9881\n",
      "Epoch 7/10\n",
      "307/307 [==============================] - 42s 137ms/step - loss: 0.1399 - accuracy: 0.9610 - val_loss: 0.0409 - val_accuracy: 0.9887\n",
      "Epoch 8/10\n",
      "307/307 [==============================] - 43s 141ms/step - loss: 0.1355 - accuracy: 0.9635 - val_loss: 0.0463 - val_accuracy: 0.9868\n",
      "Epoch 9/10\n",
      "307/307 [==============================] - 42s 137ms/step - loss: 0.1454 - accuracy: 0.9639 - val_loss: 0.0369 - val_accuracy: 0.9900\n",
      "Epoch 10/10\n",
      "307/307 [==============================] - 42s 137ms/step - loss: 0.1300 - accuracy: 0.9652 - val_loss: 0.0418 - val_accuracy: 0.9896\n",
      "Duration: 0:07:04.362129\n"
     ]
    }
   ],
   "source": [
    "print(n)\n",
    "models_se[n].fit_model(image_sets_se[n],label_sets_se[n],x_val,y_val,epochs=10,batch_size = 64)\n",
    "n = n+1"
   ]
  },
  {
   "cell_type": "code",
   "execution_count": 119,
   "id": "01855707",
   "metadata": {},
   "outputs": [
    {
     "name": "stdout",
     "output_type": "stream",
     "text": [
      "7\n",
      "Epoch 1/10\n",
      "350/350 [==============================] - 49s 134ms/step - loss: 0.2168 - accuracy: 0.9513 - val_loss: 0.0371 - val_accuracy: 0.9900\n",
      "Epoch 2/10\n",
      "350/350 [==============================] - 47s 134ms/step - loss: 0.1713 - accuracy: 0.9543 - val_loss: 0.0427 - val_accuracy: 0.9882\n",
      "Epoch 3/10\n",
      "350/350 [==============================] - 47s 135ms/step - loss: 0.1608 - accuracy: 0.9576 - val_loss: 0.0340 - val_accuracy: 0.9898\n",
      "Epoch 4/10\n",
      "350/350 [==============================] - 47s 136ms/step - loss: 0.1479 - accuracy: 0.9630 - val_loss: 0.0358 - val_accuracy: 0.9895\n",
      "Epoch 5/10\n",
      "350/350 [==============================] - 47s 135ms/step - loss: 0.1393 - accuracy: 0.9632 - val_loss: 0.0359 - val_accuracy: 0.9897\n",
      "Epoch 6/10\n",
      "350/350 [==============================] - 47s 135ms/step - loss: 0.1357 - accuracy: 0.9645 - val_loss: 0.0440 - val_accuracy: 0.9894\n",
      "Epoch 7/10\n",
      "350/350 [==============================] - 47s 134ms/step - loss: 0.1431 - accuracy: 0.9627 - val_loss: 0.0464 - val_accuracy: 0.9887\n",
      "Epoch 8/10\n",
      "350/350 [==============================] - 47s 134ms/step - loss: 0.1216 - accuracy: 0.9690 - val_loss: 0.0370 - val_accuracy: 0.9890\n",
      "Epoch 9/10\n",
      "350/350 [==============================] - 47s 135ms/step - loss: 0.1125 - accuracy: 0.9707 - val_loss: 0.0378 - val_accuracy: 0.9897\n",
      "Epoch 10/10\n",
      "350/350 [==============================] - 47s 135ms/step - loss: 0.1235 - accuracy: 0.9685 - val_loss: 0.0368 - val_accuracy: 0.9906\n",
      "Duration: 0:07:53.108433\n"
     ]
    }
   ],
   "source": [
    "print(n)\n",
    "models_se[n].fit_model(image_sets_se[n],label_sets_se[n],x_val,y_val,epochs=10,batch_size = 64)\n",
    "n = n+1"
   ]
  },
  {
   "cell_type": "code",
   "execution_count": 120,
   "id": "4e8db845",
   "metadata": {},
   "outputs": [
    {
     "name": "stdout",
     "output_type": "stream",
     "text": [
      "8\n",
      "Epoch 1/10\n",
      "394/394 [==============================] - 56s 137ms/step - loss: 0.2073 - accuracy: 0.9485 - val_loss: 0.0456 - val_accuracy: 0.9889\n",
      "Epoch 2/10\n",
      "394/394 [==============================] - 55s 140ms/step - loss: 0.1621 - accuracy: 0.9597 - val_loss: 0.0363 - val_accuracy: 0.9896\n",
      "Epoch 3/10\n",
      "394/394 [==============================] - 54s 138ms/step - loss: 0.1427 - accuracy: 0.9630 - val_loss: 0.0358 - val_accuracy: 0.9896\n",
      "Epoch 4/10\n",
      "394/394 [==============================] - 55s 140ms/step - loss: 0.1481 - accuracy: 0.9627 - val_loss: 0.0356 - val_accuracy: 0.9894\n",
      "Epoch 5/10\n",
      "394/394 [==============================] - 56s 143ms/step - loss: 0.1274 - accuracy: 0.9640 - val_loss: 0.0445 - val_accuracy: 0.9875\n",
      "Epoch 6/10\n",
      "394/394 [==============================] - 54s 137ms/step - loss: 0.1318 - accuracy: 0.9641 - val_loss: 0.0554 - val_accuracy: 0.9901\n",
      "Epoch 7/10\n",
      "394/394 [==============================] - 57s 144ms/step - loss: 0.1286 - accuracy: 0.9665 - val_loss: 0.0470 - val_accuracy: 0.9888\n",
      "Epoch 8/10\n",
      "394/394 [==============================] - 54s 136ms/step - loss: 0.1276 - accuracy: 0.9674 - val_loss: 0.0452 - val_accuracy: 0.9876\n",
      "Epoch 9/10\n",
      "394/394 [==============================] - 56s 141ms/step - loss: 0.1260 - accuracy: 0.9673 - val_loss: 0.0713 - val_accuracy: 0.9861\n",
      "Epoch 10/10\n",
      "394/394 [==============================] - 53s 135ms/step - loss: 0.1182 - accuracy: 0.9683 - val_loss: 0.0445 - val_accuracy: 0.9886\n",
      "Duration: 0:09:09.313822\n"
     ]
    }
   ],
   "source": [
    "print(n)\n",
    "models_se[n].fit_model(image_sets_se[n],label_sets_se[n],x_val,y_val,epochs=10,batch_size = 64)\n",
    "n = n+1"
   ]
  },
  {
   "cell_type": "code",
   "execution_count": 121,
   "id": "9e26b00b",
   "metadata": {},
   "outputs": [
    {
     "name": "stdout",
     "output_type": "stream",
     "text": [
      "9\n",
      "Epoch 1/10\n",
      "438/438 [==============================] - 61s 135ms/step - loss: 0.1917 - accuracy: 0.9540 - val_loss: 0.0599 - val_accuracy: 0.9854\n",
      "Epoch 2/10\n",
      "438/438 [==============================] - 60s 137ms/step - loss: 0.1615 - accuracy: 0.9622 - val_loss: 0.0354 - val_accuracy: 0.9892\n",
      "Epoch 3/10\n",
      "438/438 [==============================] - 60s 136ms/step - loss: 0.1321 - accuracy: 0.9653 - val_loss: 0.0474 - val_accuracy: 0.9870\n",
      "Epoch 4/10\n",
      "438/438 [==============================] - 59s 136ms/step - loss: 0.1256 - accuracy: 0.9682 - val_loss: 0.0514 - val_accuracy: 0.9878\n",
      "Epoch 5/10\n",
      "438/438 [==============================] - 59s 135ms/step - loss: 0.1318 - accuracy: 0.9665 - val_loss: 0.0459 - val_accuracy: 0.9881\n",
      "Epoch 6/10\n",
      "438/438 [==============================] - 59s 136ms/step - loss: 0.1159 - accuracy: 0.9705 - val_loss: 0.0490 - val_accuracy: 0.9879\n",
      "Epoch 7/10\n",
      "438/438 [==============================] - 59s 136ms/step - loss: 0.1177 - accuracy: 0.9694 - val_loss: 0.0567 - val_accuracy: 0.9844\n",
      "Epoch 8/10\n",
      "438/438 [==============================] - 60s 136ms/step - loss: 0.1235 - accuracy: 0.9697 - val_loss: 0.0541 - val_accuracy: 0.9876\n",
      "Epoch 9/10\n",
      "438/438 [==============================] - 59s 135ms/step - loss: 0.1171 - accuracy: 0.9716 - val_loss: 0.0526 - val_accuracy: 0.9876\n",
      "Epoch 10/10\n",
      "438/438 [==============================] - 59s 136ms/step - loss: 0.1209 - accuracy: 0.9712 - val_loss: 0.0505 - val_accuracy: 0.9877\n",
      "Duration: 0:09:56.603305\n"
     ]
    }
   ],
   "source": [
    "print(n)#\n",
    "models_se[n].fit_model(image_sets_se[n],label_sets_se[n],x_val,y_val,epochs=10,batch_size = 64)\n",
    "n = n+1"
   ]
  },
  {
   "cell_type": "code",
   "execution_count": 122,
   "id": "20c681f3",
   "metadata": {},
   "outputs": [
    {
     "name": "stdout",
     "output_type": "stream",
     "text": [
      "10\n",
      "Epoch 1/10\n",
      "482/482 [==============================] - 66s 134ms/step - loss: 0.1667 - accuracy: 0.9605 - val_loss: 0.0583 - val_accuracy: 0.9849\n",
      "Epoch 2/10\n",
      "482/482 [==============================] - 64s 133ms/step - loss: 0.1415 - accuracy: 0.9663 - val_loss: 0.0480 - val_accuracy: 0.9881\n",
      "Epoch 3/10\n",
      "482/482 [==============================] - 64s 133ms/step - loss: 0.1390 - accuracy: 0.9675 - val_loss: 0.0418 - val_accuracy: 0.9889\n",
      "Epoch 4/10\n",
      "482/482 [==============================] - 64s 133ms/step - loss: 0.1293 - accuracy: 0.9689 - val_loss: 0.0446 - val_accuracy: 0.9881\n",
      "Epoch 5/10\n",
      "482/482 [==============================] - 64s 133ms/step - loss: 0.1275 - accuracy: 0.9680 - val_loss: 0.0590 - val_accuracy: 0.9841\n",
      "Epoch 6/10\n",
      "482/482 [==============================] - 64s 134ms/step - loss: 0.1201 - accuracy: 0.9690 - val_loss: 0.0434 - val_accuracy: 0.9889\n",
      "Epoch 7/10\n",
      "482/482 [==============================] - 64s 133ms/step - loss: 0.1157 - accuracy: 0.9708 - val_loss: 0.0630 - val_accuracy: 0.9831\n",
      "Epoch 8/10\n",
      "482/482 [==============================] - 64s 133ms/step - loss: 0.1209 - accuracy: 0.9690 - val_loss: 0.0706 - val_accuracy: 0.9819\n",
      "Epoch 9/10\n",
      "482/482 [==============================] - 66s 136ms/step - loss: 0.1118 - accuracy: 0.9724 - val_loss: 0.0512 - val_accuracy: 0.9881\n",
      "Epoch 10/10\n",
      "482/482 [==============================] - 64s 134ms/step - loss: 0.1171 - accuracy: 0.9710 - val_loss: 0.0591 - val_accuracy: 0.9865\n",
      "Duration: 0:10:46.237158\n"
     ]
    }
   ],
   "source": [
    "print(n)\n",
    "models_se[n].fit_model(image_sets_se[n],label_sets_se[n],x_val,y_val,epochs=10,batch_size = 64)\n",
    "n = n+1"
   ]
  },
  {
   "cell_type": "code",
   "execution_count": 123,
   "id": "363f1a8e",
   "metadata": {},
   "outputs": [
    {
     "name": "stdout",
     "output_type": "stream",
     "text": [
      "11\n",
      "Epoch 1/10\n",
      "525/525 [==============================] - 70s 130ms/step - loss: 0.1675 - accuracy: 0.9613 - val_loss: 0.0505 - val_accuracy: 0.9889\n",
      "Epoch 2/10\n",
      "525/525 [==============================] - 69s 131ms/step - loss: 0.1354 - accuracy: 0.9651 - val_loss: 0.0471 - val_accuracy: 0.9870\n",
      "Epoch 3/10\n",
      "525/525 [==============================] - 69s 131ms/step - loss: 0.1380 - accuracy: 0.9663 - val_loss: 0.0440 - val_accuracy: 0.9871\n",
      "Epoch 4/10\n",
      "525/525 [==============================] - 68s 130ms/step - loss: 0.1120 - accuracy: 0.9726 - val_loss: 0.0411 - val_accuracy: 0.9878\n",
      "Epoch 5/10\n",
      "525/525 [==============================] - 69s 131ms/step - loss: 0.1083 - accuracy: 0.9732 - val_loss: 0.0475 - val_accuracy: 0.9869\n",
      "Epoch 6/10\n",
      "525/525 [==============================] - 69s 131ms/step - loss: 0.1151 - accuracy: 0.9706 - val_loss: 0.0462 - val_accuracy: 0.9876\n",
      "Epoch 7/10\n",
      "525/525 [==============================] - 69s 131ms/step - loss: 0.1011 - accuracy: 0.9734 - val_loss: 0.0556 - val_accuracy: 0.9839\n",
      "Epoch 8/10\n",
      "525/525 [==============================] - 69s 131ms/step - loss: 0.1074 - accuracy: 0.9733 - val_loss: 0.0545 - val_accuracy: 0.9858\n",
      "Epoch 9/10\n",
      "525/525 [==============================] - 69s 131ms/step - loss: 0.1016 - accuracy: 0.9726 - val_loss: 0.0422 - val_accuracy: 0.9878\n",
      "Epoch 10/10\n",
      "525/525 [==============================] - 69s 132ms/step - loss: 0.1105 - accuracy: 0.9726 - val_loss: 0.0493 - val_accuracy: 0.9874\n",
      "Duration: 0:11:28.959681\n"
     ]
    }
   ],
   "source": [
    "print(n)\n",
    "models_se[n].fit_model(image_sets_se[n],label_sets_se[n],x_val,y_val,epochs=10,batch_size = 64)\n",
    "n = n+1"
   ]
  },
  {
   "cell_type": "code",
   "execution_count": 124,
   "id": "49e2515c",
   "metadata": {},
   "outputs": [
    {
     "name": "stdout",
     "output_type": "stream",
     "text": [
      "12\n",
      "Epoch 1/10\n",
      "569/569 [==============================] - 78s 134ms/step - loss: 0.1516 - accuracy: 0.9641 - val_loss: 0.0461 - val_accuracy: 0.9875\n",
      "Epoch 2/10\n",
      "569/569 [==============================] - 77s 135ms/step - loss: 0.1220 - accuracy: 0.9686 - val_loss: 0.0429 - val_accuracy: 0.9887\n",
      "Epoch 3/10\n",
      "569/569 [==============================] - 77s 135ms/step - loss: 0.1212 - accuracy: 0.9696 - val_loss: 0.0490 - val_accuracy: 0.9869\n",
      "Epoch 4/10\n",
      "569/569 [==============================] - 77s 135ms/step - loss: 0.1111 - accuracy: 0.9707 - val_loss: 0.0437 - val_accuracy: 0.9880\n",
      "Epoch 5/10\n",
      "569/569 [==============================] - 77s 135ms/step - loss: 0.1122 - accuracy: 0.9721 - val_loss: 0.0655 - val_accuracy: 0.9855\n",
      "Epoch 6/10\n",
      "569/569 [==============================] - 77s 135ms/step - loss: 0.1043 - accuracy: 0.9749 - val_loss: 0.0495 - val_accuracy: 0.9894\n",
      "Epoch 7/10\n",
      "569/569 [==============================] - 77s 135ms/step - loss: 0.0986 - accuracy: 0.9767 - val_loss: 0.0517 - val_accuracy: 0.9866\n",
      "Epoch 8/10\n",
      "569/569 [==============================] - 77s 135ms/step - loss: 0.1124 - accuracy: 0.9738 - val_loss: 0.0496 - val_accuracy: 0.9863\n",
      "Epoch 9/10\n",
      "569/569 [==============================] - 76s 134ms/step - loss: 0.1060 - accuracy: 0.9741 - val_loss: 0.0421 - val_accuracy: 0.9881\n",
      "Epoch 10/10\n",
      "569/569 [==============================] - 76s 134ms/step - loss: 0.1026 - accuracy: 0.9736 - val_loss: 0.0727 - val_accuracy: 0.9858\n",
      "Duration: 0:12:48.335759\n"
     ]
    }
   ],
   "source": [
    "print(n)\n",
    "models_se[n].fit_model(image_sets_se[n],label_sets_se[n],x_val,y_val,epochs=10,batch_size = 64)\n",
    "n = n+1"
   ]
  },
  {
   "cell_type": "code",
   "execution_count": 125,
   "id": "8144888f",
   "metadata": {},
   "outputs": [
    {
     "name": "stdout",
     "output_type": "stream",
     "text": [
      "13\n",
      "Epoch 1/10\n",
      "613/613 [==============================] - 84s 135ms/step - loss: 0.1362 - accuracy: 0.9652 - val_loss: 0.0437 - val_accuracy: 0.9869\n",
      "Epoch 2/10\n",
      "613/613 [==============================] - 83s 135ms/step - loss: 0.1169 - accuracy: 0.9706 - val_loss: 0.0873 - val_accuracy: 0.9789\n",
      "Epoch 3/10\n",
      "613/613 [==============================] - 83s 135ms/step - loss: 0.1195 - accuracy: 0.9691 - val_loss: 0.0595 - val_accuracy: 0.9869\n",
      "Epoch 4/10\n",
      "613/613 [==============================] - 83s 135ms/step - loss: 0.1089 - accuracy: 0.9734 - val_loss: 0.0544 - val_accuracy: 0.9874\n",
      "Epoch 5/10\n",
      "613/613 [==============================] - 83s 135ms/step - loss: 0.1044 - accuracy: 0.9732 - val_loss: 0.0732 - val_accuracy: 0.9828\n",
      "Epoch 6/10\n",
      "613/613 [==============================] - 83s 135ms/step - loss: 0.0994 - accuracy: 0.9754 - val_loss: 0.0441 - val_accuracy: 0.9885\n",
      "Epoch 7/10\n",
      "613/613 [==============================] - 83s 135ms/step - loss: 0.1024 - accuracy: 0.9734 - val_loss: 0.0555 - val_accuracy: 0.9851\n",
      "Epoch 8/10\n",
      "613/613 [==============================] - 83s 135ms/step - loss: 0.1081 - accuracy: 0.9745 - val_loss: 0.0612 - val_accuracy: 0.9832\n",
      "Epoch 9/10\n",
      "613/613 [==============================] - 83s 135ms/step - loss: 0.1067 - accuracy: 0.9734 - val_loss: 0.0503 - val_accuracy: 0.9863\n",
      "Epoch 10/10\n",
      "613/613 [==============================] - 83s 135ms/step - loss: 0.1007 - accuracy: 0.9743 - val_loss: 0.0878 - val_accuracy: 0.9838\n",
      "Duration: 0:13:48.581967\n"
     ]
    }
   ],
   "source": [
    "print(n)\n",
    "models_se[n].fit_model(image_sets_se[n],label_sets_se[n],x_val,y_val,epochs=10,batch_size = 64)\n",
    "n = n+1"
   ]
  },
  {
   "cell_type": "code",
   "execution_count": 126,
   "id": "c9ba5f63",
   "metadata": {},
   "outputs": [
    {
     "name": "stdout",
     "output_type": "stream",
     "text": [
      "14\n",
      "Epoch 1/10\n",
      "657/657 [==============================] - 92s 137ms/step - loss: 0.1425 - accuracy: 0.9674 - val_loss: 0.0448 - val_accuracy: 0.9872\n",
      "Epoch 2/10\n",
      "657/657 [==============================] - 90s 138ms/step - loss: 0.1162 - accuracy: 0.9723 - val_loss: 0.0432 - val_accuracy: 0.9887\n",
      "Epoch 3/10\n",
      "657/657 [==============================] - 90s 137ms/step - loss: 0.1096 - accuracy: 0.9729 - val_loss: 0.0487 - val_accuracy: 0.9879\n",
      "Epoch 4/10\n",
      "657/657 [==============================] - 90s 137ms/step - loss: 0.1109 - accuracy: 0.9733 - val_loss: 0.0588 - val_accuracy: 0.9864\n",
      "Epoch 5/10\n",
      "657/657 [==============================] - 90s 137ms/step - loss: 0.1025 - accuracy: 0.9740 - val_loss: 0.0503 - val_accuracy: 0.9866\n",
      "Epoch 6/10\n",
      "657/657 [==============================] - 90s 137ms/step - loss: 0.1100 - accuracy: 0.9725 - val_loss: 0.0529 - val_accuracy: 0.9869\n",
      "Epoch 7/10\n",
      "657/657 [==============================] - 90s 138ms/step - loss: 0.1132 - accuracy: 0.9737 - val_loss: 0.0996 - val_accuracy: 0.9828\n",
      "Epoch 8/10\n",
      "657/657 [==============================] - 90s 137ms/step - loss: 0.1095 - accuracy: 0.9738 - val_loss: 0.0604 - val_accuracy: 0.9853\n",
      "Epoch 9/10\n",
      "657/657 [==============================] - 90s 137ms/step - loss: 0.1045 - accuracy: 0.9739 - val_loss: 0.0729 - val_accuracy: 0.9862\n",
      "Epoch 10/10\n",
      "657/657 [==============================] - 90s 137ms/step - loss: 0.1147 - accuracy: 0.9737 - val_loss: 0.0623 - val_accuracy: 0.9867\n",
      "Duration: 0:15:03.681794\n"
     ]
    }
   ],
   "source": [
    "print(n)#\n",
    "models_se[n].fit_model(image_sets_se[n],label_sets_se[n],x_val,y_val,epochs=10,batch_size = 64)\n",
    "n = n+1"
   ]
  },
  {
   "cell_type": "code",
   "execution_count": 127,
   "id": "147a3a59",
   "metadata": {},
   "outputs": [
    {
     "name": "stdout",
     "output_type": "stream",
     "text": [
      "15\n",
      "Epoch 1/10\n",
      "700/700 [==============================] - 97s 135ms/step - loss: 0.1207 - accuracy: 0.9728 - val_loss: 0.0417 - val_accuracy: 0.9887\n",
      "Epoch 2/10\n",
      "700/700 [==============================] - 95s 136ms/step - loss: 0.1070 - accuracy: 0.9744 - val_loss: 0.0509 - val_accuracy: 0.9869\n",
      "Epoch 3/10\n",
      "700/700 [==============================] - 95s 136ms/step - loss: 0.1051 - accuracy: 0.9747 - val_loss: 0.0658 - val_accuracy: 0.9866\n",
      "Epoch 4/10\n",
      "700/700 [==============================] - 96s 137ms/step - loss: 0.1070 - accuracy: 0.9746 - val_loss: 0.0404 - val_accuracy: 0.9887\n",
      "Epoch 5/10\n",
      "700/700 [==============================] - 95s 136ms/step - loss: 0.1066 - accuracy: 0.9739 - val_loss: 0.0467 - val_accuracy: 0.9876\n",
      "Epoch 6/10\n",
      "700/700 [==============================] - 95s 136ms/step - loss: 0.1002 - accuracy: 0.9771 - val_loss: 0.0471 - val_accuracy: 0.9883\n",
      "Epoch 7/10\n",
      "700/700 [==============================] - 95s 136ms/step - loss: 0.0919 - accuracy: 0.9774 - val_loss: 0.0588 - val_accuracy: 0.9857\n",
      "Epoch 8/10\n",
      "700/700 [==============================] - 95s 136ms/step - loss: 0.1000 - accuracy: 0.9762 - val_loss: 0.0810 - val_accuracy: 0.9855\n",
      "Epoch 9/10\n",
      "700/700 [==============================] - 95s 136ms/step - loss: 0.0936 - accuracy: 0.9758 - val_loss: 0.0558 - val_accuracy: 0.9859\n",
      "Epoch 10/10\n",
      "700/700 [==============================] - 95s 135ms/step - loss: 0.1037 - accuracy: 0.9745 - val_loss: 0.0750 - val_accuracy: 0.9857\n",
      "Duration: 0:15:52.601529\n"
     ]
    }
   ],
   "source": [
    "print(n)\n",
    "models_se[n].fit_model(image_sets_se[n],label_sets_se[n],x_val,y_val,epochs=10,batch_size = 64)\n",
    "n = n+1"
   ]
  },
  {
   "cell_type": "code",
   "execution_count": 128,
   "id": "2153455d",
   "metadata": {},
   "outputs": [
    {
     "name": "stdout",
     "output_type": "stream",
     "text": [
      "16\n",
      "Epoch 1/10\n",
      "744/744 [==============================] - 104s 138ms/step - loss: 0.1239 - accuracy: 0.9699 - val_loss: 0.0441 - val_accuracy: 0.9871\n",
      "Epoch 2/10\n",
      "744/744 [==============================] - 103s 138ms/step - loss: 0.1038 - accuracy: 0.9747 - val_loss: 0.0418 - val_accuracy: 0.9885\n",
      "Epoch 3/10\n",
      "744/744 [==============================] - 102s 138ms/step - loss: 0.0999 - accuracy: 0.9751 - val_loss: 0.0476 - val_accuracy: 0.9874\n",
      "Epoch 4/10\n",
      "744/744 [==============================] - 103s 139ms/step - loss: 0.0970 - accuracy: 0.9764 - val_loss: 0.0493 - val_accuracy: 0.9866\n",
      "Epoch 5/10\n",
      "744/744 [==============================] - 103s 138ms/step - loss: 0.0946 - accuracy: 0.9774 - val_loss: 0.0532 - val_accuracy: 0.9866\n",
      "Epoch 6/10\n",
      "744/744 [==============================] - 102s 137ms/step - loss: 0.0983 - accuracy: 0.9771 - val_loss: 0.0665 - val_accuracy: 0.9857\n",
      "Epoch 7/10\n",
      "744/744 [==============================] - 103s 139ms/step - loss: 0.1004 - accuracy: 0.9748 - val_loss: 0.0590 - val_accuracy: 0.9859\n",
      "Epoch 8/10\n",
      "744/744 [==============================] - 102s 137ms/step - loss: 0.0907 - accuracy: 0.9770 - val_loss: 0.0497 - val_accuracy: 0.9873\n",
      "Epoch 9/10\n",
      "744/744 [==============================] - 104s 140ms/step - loss: 0.0940 - accuracy: 0.9766 - val_loss: 0.0534 - val_accuracy: 0.9858\n",
      "Epoch 10/10\n",
      "744/744 [==============================] - 106s 142ms/step - loss: 0.1000 - accuracy: 0.9758 - val_loss: 0.0598 - val_accuracy: 0.9844\n",
      "Duration: 0:17:13.076199\n"
     ]
    }
   ],
   "source": [
    "print(n)\n",
    "models_se[n].fit_model(image_sets_se[n],label_sets_se[n],x_val,y_val,epochs=10,batch_size = 64)\n",
    "n = n+1"
   ]
  },
  {
   "cell_type": "code",
   "execution_count": 129,
   "id": "1670fb79",
   "metadata": {},
   "outputs": [],
   "source": [
    "time.sleep(400)"
   ]
  },
  {
   "cell_type": "code",
   "execution_count": 130,
   "id": "8763f2f6",
   "metadata": {},
   "outputs": [
    {
     "name": "stdout",
     "output_type": "stream",
     "text": [
      "17\n",
      "Epoch 1/10\n",
      "788/788 [==============================] - 110s 137ms/step - loss: 0.1195 - accuracy: 0.9723 - val_loss: 0.0431 - val_accuracy: 0.9879\n",
      "Epoch 2/10\n",
      "788/788 [==============================] - 108s 137ms/step - loss: 0.0969 - accuracy: 0.9757 - val_loss: 0.0437 - val_accuracy: 0.9874\n",
      "Epoch 3/10\n",
      "788/788 [==============================] - 108s 137ms/step - loss: 0.1006 - accuracy: 0.9761 - val_loss: 0.0461 - val_accuracy: 0.9879\n",
      "Epoch 4/10\n",
      "788/788 [==============================] - 109s 138ms/step - loss: 0.0970 - accuracy: 0.9758 - val_loss: 0.0525 - val_accuracy: 0.9874\n",
      "Epoch 5/10\n",
      "788/788 [==============================] - 108s 137ms/step - loss: 0.1023 - accuracy: 0.9771 - val_loss: 0.0694 - val_accuracy: 0.9835\n",
      "Epoch 6/10\n",
      "788/788 [==============================] - 107s 136ms/step - loss: 0.0940 - accuracy: 0.9765 - val_loss: 0.0592 - val_accuracy: 0.9869\n",
      "Epoch 7/10\n",
      "788/788 [==============================] - 112s 142ms/step - loss: 0.0956 - accuracy: 0.9774 - val_loss: 0.0962 - val_accuracy: 0.9781\n",
      "Epoch 8/10\n",
      "788/788 [==============================] - 111s 141ms/step - loss: 0.1007 - accuracy: 0.9767 - val_loss: 0.0743 - val_accuracy: 0.9809\n",
      "Epoch 9/10\n",
      "788/788 [==============================] - 111s 141ms/step - loss: 0.1005 - accuracy: 0.9769 - val_loss: 0.1028 - val_accuracy: 0.9786\n",
      "Epoch 10/10\n",
      "788/788 [==============================] - 110s 140ms/step - loss: 0.0951 - accuracy: 0.9762 - val_loss: 0.0647 - val_accuracy: 0.9862\n",
      "Duration: 0:18:13.683432\n"
     ]
    }
   ],
   "source": [
    "print(n)\n",
    "models_se[n].fit_model(image_sets_se[n],label_sets_se[n],x_val,y_val,epochs=10,batch_size = 64)\n",
    "n = n+1"
   ]
  },
  {
   "cell_type": "code",
   "execution_count": 131,
   "id": "b91ad678",
   "metadata": {},
   "outputs": [],
   "source": [
    "time.sleep(400)"
   ]
  },
  {
   "cell_type": "code",
   "execution_count": 132,
   "id": "f6c0a987",
   "metadata": {},
   "outputs": [
    {
     "name": "stdout",
     "output_type": "stream",
     "text": [
      "18\n",
      "Epoch 1/10\n",
      "832/832 [==============================] - 117s 139ms/step - loss: 0.1148 - accuracy: 0.9740 - val_loss: 0.0835 - val_accuracy: 0.9829\n",
      "Epoch 2/10\n",
      "832/832 [==============================] - 117s 141ms/step - loss: 0.0925 - accuracy: 0.9769 - val_loss: 0.0523 - val_accuracy: 0.9888\n",
      "Epoch 3/10\n",
      "832/832 [==============================] - 117s 141ms/step - loss: 0.0935 - accuracy: 0.9769 - val_loss: 0.0444 - val_accuracy: 0.9869\n",
      "Epoch 4/10\n",
      "832/832 [==============================] - 117s 141ms/step - loss: 0.0891 - accuracy: 0.9771 - val_loss: 0.0485 - val_accuracy: 0.9869\n",
      "Epoch 5/10\n",
      "832/832 [==============================] - 117s 141ms/step - loss: 0.0968 - accuracy: 0.9775 - val_loss: 0.0565 - val_accuracy: 0.9865\n",
      "Epoch 6/10\n",
      "832/832 [==============================] - 120s 145ms/step - loss: 0.0944 - accuracy: 0.9769 - val_loss: 0.0637 - val_accuracy: 0.9819\n",
      "Epoch 7/10\n",
      "832/832 [==============================] - 123s 147ms/step - loss: 0.0949 - accuracy: 0.9784 - val_loss: 0.0495 - val_accuracy: 0.9879\n",
      "Epoch 8/10\n",
      "832/832 [==============================] - 122s 147ms/step - loss: 0.0969 - accuracy: 0.9773 - val_loss: 0.0630 - val_accuracy: 0.9852\n",
      "Epoch 9/10\n",
      "832/832 [==============================] - 125s 150ms/step - loss: 0.0987 - accuracy: 0.9766 - val_loss: 0.0546 - val_accuracy: 0.9854\n",
      "Epoch 10/10\n",
      "832/832 [==============================] - 119s 143ms/step - loss: 0.1000 - accuracy: 0.9767 - val_loss: 0.0859 - val_accuracy: 0.9835\n",
      "Duration: 0:19:54.871292\n"
     ]
    }
   ],
   "source": [
    "print(n)\n",
    "models_se[n].fit_model(image_sets_se[n],label_sets_se[n],x_val,y_val,epochs=10,batch_size = 64)\n",
    "n = n+1"
   ]
  },
  {
   "cell_type": "code",
   "execution_count": 133,
   "id": "39f645c7",
   "metadata": {},
   "outputs": [],
   "source": [
    "time.sleep(400)"
   ]
  },
  {
   "cell_type": "code",
   "execution_count": 134,
   "id": "ee3c5163",
   "metadata": {},
   "outputs": [
    {
     "name": "stdout",
     "output_type": "stream",
     "text": [
      "19\n",
      "Epoch 1/10\n",
      "875/875 [==============================] - 126s 142ms/step - loss: 0.1097 - accuracy: 0.9741 - val_loss: 0.0479 - val_accuracy: 0.9859\n",
      "Epoch 2/10\n",
      "875/875 [==============================] - 124s 142ms/step - loss: 0.0953 - accuracy: 0.9773 - val_loss: 0.0519 - val_accuracy: 0.9859\n",
      "Epoch 3/10\n",
      "875/875 [==============================] - 125s 142ms/step - loss: 0.0882 - accuracy: 0.9786 - val_loss: 0.0584 - val_accuracy: 0.9856\n",
      "Epoch 4/10\n",
      "875/875 [==============================] - 124s 142ms/step - loss: 0.0900 - accuracy: 0.9784 - val_loss: 0.0555 - val_accuracy: 0.9871\n",
      "Epoch 5/10\n",
      "875/875 [==============================] - 125s 143ms/step - loss: 0.0893 - accuracy: 0.9782 - val_loss: 0.0559 - val_accuracy: 0.9863\n",
      "Epoch 6/10\n",
      "875/875 [==============================] - 125s 143ms/step - loss: 0.0882 - accuracy: 0.9787 - val_loss: 0.0531 - val_accuracy: 0.9849\n",
      "Epoch 7/10\n",
      "875/875 [==============================] - 125s 142ms/step - loss: 0.0858 - accuracy: 0.9795 - val_loss: 0.0549 - val_accuracy: 0.9844\n",
      "Epoch 8/10\n",
      "875/875 [==============================] - 125s 143ms/step - loss: 0.0919 - accuracy: 0.9775 - val_loss: 0.0623 - val_accuracy: 0.9841\n",
      "Epoch 9/10\n",
      "875/875 [==============================] - 125s 143ms/step - loss: 0.0905 - accuracy: 0.9796 - val_loss: 0.0890 - val_accuracy: 0.9779\n",
      "Epoch 10/10\n",
      "875/875 [==============================] - 125s 143ms/step - loss: 0.0920 - accuracy: 0.9787 - val_loss: 0.0673 - val_accuracy: 0.9843\n",
      "Duration: 0:20:49.230746\n"
     ]
    }
   ],
   "source": [
    "print(n)\n",
    "models_se[n].fit_model(image_sets_se[n],label_sets_se[n],x_val,y_val,epochs=10,batch_size = 64)\n",
    "n = n+1"
   ]
  },
  {
   "cell_type": "code",
   "execution_count": 135,
   "id": "61d40f4a",
   "metadata": {},
   "outputs": [
    {
     "data": {
      "text/plain": [
       "20"
      ]
     },
     "execution_count": 135,
     "metadata": {},
     "output_type": "execute_result"
    }
   ],
   "source": [
    "len(models_se)"
   ]
  },
  {
   "cell_type": "code",
   "execution_count": 136,
   "id": "825c1334",
   "metadata": {},
   "outputs": [
    {
     "name": "stdout",
     "output_type": "stream",
     "text": [
      "INFO:tensorflow:Assets written to: D:/models/aug_22/mnist/C2/mnist_model_c2_aug_se_e1_0\\assets\n",
      "Model has been saved\n",
      "INFO:tensorflow:Assets written to: D:/models/aug_22/mnist/C2/mnist_model_c2_aug_se_e1_1\\assets\n",
      "Model has been saved\n",
      "INFO:tensorflow:Assets written to: D:/models/aug_22/mnist/C2/mnist_model_c2_aug_se_e1_2\\assets\n",
      "Model has been saved\n",
      "INFO:tensorflow:Assets written to: D:/models/aug_22/mnist/C2/mnist_model_c2_aug_se_e1_3\\assets\n",
      "Model has been saved\n",
      "INFO:tensorflow:Assets written to: D:/models/aug_22/mnist/C2/mnist_model_c2_aug_se_e1_4\\assets\n",
      "Model has been saved\n",
      "INFO:tensorflow:Assets written to: D:/models/aug_22/mnist/C2/mnist_model_c2_aug_se_e1_5\\assets\n",
      "Model has been saved\n",
      "INFO:tensorflow:Assets written to: D:/models/aug_22/mnist/C2/mnist_model_c2_aug_se_e1_6\\assets\n",
      "Model has been saved\n",
      "INFO:tensorflow:Assets written to: D:/models/aug_22/mnist/C2/mnist_model_c2_aug_se_e1_7\\assets\n",
      "Model has been saved\n",
      "INFO:tensorflow:Assets written to: D:/models/aug_22/mnist/C2/mnist_model_c2_aug_se_e1_8\\assets\n",
      "Model has been saved\n",
      "INFO:tensorflow:Assets written to: D:/models/aug_22/mnist/C2/mnist_model_c2_aug_se_e1_9\\assets\n",
      "Model has been saved\n",
      "INFO:tensorflow:Assets written to: D:/models/aug_22/mnist/C2/mnist_model_c2_aug_se_e1_10\\assets\n",
      "Model has been saved\n",
      "INFO:tensorflow:Assets written to: D:/models/aug_22/mnist/C2/mnist_model_c2_aug_se_e1_11\\assets\n",
      "Model has been saved\n",
      "INFO:tensorflow:Assets written to: D:/models/aug_22/mnist/C2/mnist_model_c2_aug_se_e1_12\\assets\n",
      "Model has been saved\n",
      "INFO:tensorflow:Assets written to: D:/models/aug_22/mnist/C2/mnist_model_c2_aug_se_e1_13\\assets\n",
      "Model has been saved\n",
      "INFO:tensorflow:Assets written to: D:/models/aug_22/mnist/C2/mnist_model_c2_aug_se_e1_14\\assets\n",
      "Model has been saved\n",
      "INFO:tensorflow:Assets written to: D:/models/aug_22/mnist/C2/mnist_model_c2_aug_se_e1_15\\assets\n",
      "Model has been saved\n",
      "INFO:tensorflow:Assets written to: D:/models/aug_22/mnist/C2/mnist_model_c2_aug_se_e1_16\\assets\n",
      "Model has been saved\n",
      "INFO:tensorflow:Assets written to: D:/models/aug_22/mnist/C2/mnist_model_c2_aug_se_e1_17\\assets\n",
      "Model has been saved\n",
      "INFO:tensorflow:Assets written to: D:/models/aug_22/mnist/C2/mnist_model_c2_aug_se_e1_18\\assets\n",
      "Model has been saved\n",
      "INFO:tensorflow:Assets written to: D:/models/aug_22/mnist/C2/mnist_model_c2_aug_se_e1_19\\assets\n",
      "Model has been saved\n"
     ]
    }
   ],
   "source": [
    "new_model_se_dir  = \"D:/models/aug_22/\"+dataset+\"/C2/\"+dataset+\"_model_c2_aug_se_e1\"\n",
    "\n",
    "i=0\n",
    "\n",
    "for model in models_se:\n",
    "    model.save(new_model_se_dir+\"_\"+str(i))\n",
    "    i+=1"
   ]
  },
  {
   "cell_type": "code",
   "execution_count": 137,
   "id": "95d86000",
   "metadata": {},
   "outputs": [],
   "source": [
    "try:\n",
    "    del se_values\n",
    "    del top_images_by_se\n",
    "    del top_labels_by_se\n",
    "    del image_sets_se\n",
    "    del label_sets_se\n",
    "    del models_se\n",
    "except:\n",
    "    print(\"Error\")"
   ]
  },
  {
   "cell_type": "code",
   "execution_count": 138,
   "id": "fcf7c5f3",
   "metadata": {},
   "outputs": [
    {
     "data": {
      "text/plain": [
       "299764"
      ]
     },
     "execution_count": 138,
     "metadata": {},
     "output_type": "execute_result"
    }
   ],
   "source": [
    "gc.collect()"
   ]
  },
  {
   "cell_type": "markdown",
   "id": "11198aa3",
   "metadata": {},
   "source": [
    "## Training guided by Random values"
   ]
  },
  {
   "cell_type": "code",
   "execution_count": null,
   "id": "3581436b",
   "metadata": {},
   "outputs": [],
   "source": [
    "import random\n",
    "random_indexes =list(range(len(x_train_and_adversary)))\n",
    "random.shuffle(random_indexes)\n",
    "print(random_indexes[:10])\n",
    "print(len(random_indexes))"
   ]
  },
  {
   "cell_type": "code",
   "execution_count": 139,
   "id": "0eca574c",
   "metadata": {},
   "outputs": [],
   "source": [
    "save_dir = \"C:/Users/fjdur/Documents/upc-july/data/\"+dataset+\"/random_values.npy\"\n",
    "random_indexes = np.load(save_dir)"
   ]
  },
  {
   "cell_type": "code",
   "execution_count": 140,
   "id": "5a735c0d",
   "metadata": {},
   "outputs": [
    {
     "data": {
      "text/plain": [
       "55998"
      ]
     },
     "execution_count": 140,
     "metadata": {},
     "output_type": "execute_result"
    }
   ],
   "source": [
    "len(random_indexes)"
   ]
  },
  {
   "cell_type": "code",
   "execution_count": 141,
   "id": "d13ccb6c",
   "metadata": {},
   "outputs": [],
   "source": [
    "# Obtaining top n images by random values\n",
    "top_images_by_random = utils.get_x_of_indexes(list(np.flip(np.argsort(random_indexes))),x_train_and_adversary)\n",
    "top_labels_by_random = utils.get_x_of_indexes(list(np.flip(np.argsort(random_indexes))),y_train_and_adversary)"
   ]
  },
  {
   "cell_type": "code",
   "execution_count": 142,
   "id": "1209ac75",
   "metadata": {},
   "outputs": [
    {
     "name": "stdout",
     "output_type": "stream",
     "text": [
      "0 :\n",
      "0  ->  2800\n",
      "2800\n",
      "1 :\n",
      "0  ->  5600\n",
      "5600\n",
      "2 :\n",
      "0  ->  8400\n",
      "8400\n",
      "3 :\n",
      "0  ->  11200\n",
      "11200\n",
      "4 :\n",
      "0  ->  14000\n",
      "14000\n",
      "5 :\n",
      "0  ->  16800\n",
      "16800\n",
      "6 :\n",
      "0  ->  19600\n",
      "19600\n",
      "7 :\n",
      "0  ->  22400\n",
      "22400\n",
      "8 :\n",
      "0  ->  25200\n",
      "25200\n",
      "9 :\n",
      "0  ->  28000\n",
      "28000\n",
      "10 :\n",
      "0  ->  30800\n",
      "30800\n",
      "11 :\n",
      "0  ->  33600\n",
      "33600\n",
      "12 :\n",
      "0  ->  36400\n",
      "36400\n",
      "13 :\n",
      "0  ->  39200\n",
      "39200\n",
      "14 :\n",
      "0  ->  42000\n",
      "42000\n",
      "15 :\n",
      "0  ->  44800\n",
      "44800\n",
      "16 :\n",
      "0  ->  47600\n",
      "47600\n",
      "17 :\n",
      "0  ->  50400\n",
      "50400\n",
      "18 :\n",
      "0  ->  53200\n",
      "53200\n",
      "19 :\n",
      "Last\n",
      "0  ->  58798\n",
      "55998\n"
     ]
    }
   ],
   "source": [
    "m = n_data_points\n",
    "n = 0\n",
    "image_sets_random = []\n",
    "label_sets_random = []\n",
    "\n",
    "\n",
    "\n",
    "for i in range((len(top_images_by_random)//m)+1):\n",
    "    print(i,\":\")\n",
    "    if (i+1 >= ((len(top_images_by_random)//m)+1)):\n",
    "        print(\"Last\")\n",
    "        print(0,\" -> \",n+m+(len(top_images_by_random)%m))\n",
    "        top_images_by_random_n = np.array(top_images_by_random[:n+m+(len(top_images_by_random)%m)])\n",
    "        top_labels_by_random_n = np.array(top_labels_by_random[:n+m+(len(top_images_by_random)%m)])\n",
    "    else:\n",
    "        print(0,\" -> \",m+n)\n",
    "        top_images_by_random_n = np.array(top_images_by_random[:n+m])\n",
    "        top_labels_by_random_n = np.array(top_labels_by_random[:n+m])\n",
    "    image_sets_random.append(top_images_by_random_n)\n",
    "    label_sets_random.append(top_labels_by_random_n)\n",
    "    print(len(top_images_by_random_n))\n",
    "    n += m\n",
    "\n",
    "\n"
   ]
  },
  {
   "cell_type": "code",
   "execution_count": 143,
   "id": "3ed47a88",
   "metadata": {},
   "outputs": [
    {
     "data": {
      "text/plain": [
       "20"
      ]
     },
     "execution_count": 143,
     "metadata": {},
     "output_type": "execute_result"
    }
   ],
   "source": [
    "len(image_sets_random)"
   ]
  },
  {
   "cell_type": "code",
   "execution_count": 144,
   "id": "3f03e1cf",
   "metadata": {},
   "outputs": [
    {
     "name": "stdout",
     "output_type": "stream",
     "text": [
      "C:/Users/fjdur/Documents/upc-july/models/models2\n",
      "0 :\n",
      "Model loaded correctly\n",
      "Model compiled\n",
      "1 :\n",
      "Model loaded correctly\n",
      "Model compiled\n",
      "2 :\n",
      "Model loaded correctly\n",
      "Model compiled\n",
      "3 :\n",
      "Model loaded correctly\n",
      "Model compiled\n",
      "4 :\n",
      "Model loaded correctly\n",
      "Model compiled\n",
      "5 :\n",
      "Model loaded correctly\n",
      "Model compiled\n",
      "6 :\n",
      "Model loaded correctly\n",
      "Model compiled\n",
      "7 :\n",
      "Model loaded correctly\n",
      "Model compiled\n",
      "8 :\n",
      "Model loaded correctly\n",
      "Model compiled\n",
      "9 :\n",
      "Model loaded correctly\n",
      "Model compiled\n",
      "10 :\n",
      "Model loaded correctly\n",
      "Model compiled\n",
      "11 :\n",
      "Model loaded correctly\n",
      "Model compiled\n",
      "12 :\n",
      "Model loaded correctly\n",
      "Model compiled\n",
      "13 :\n",
      "Model loaded correctly\n",
      "Model compiled\n",
      "14 :\n",
      "Model loaded correctly\n",
      "Model compiled\n",
      "15 :\n",
      "Model loaded correctly\n",
      "Model compiled\n",
      "16 :\n",
      "Model loaded correctly\n",
      "Model compiled\n",
      "17 :\n",
      "Model loaded correctly\n",
      "Model compiled\n",
      "18 :\n",
      "Model loaded correctly\n",
      "Model compiled\n",
      "19 :\n",
      "Model loaded correctly\n",
      "Model compiled\n"
     ]
    }
   ],
   "source": [
    "print(model_dir)\n",
    "\n",
    "models_random = []\n",
    "for i in range(len(label_sets_random)):\n",
    "    print(i,\":\")\n",
    "    model = utils.My_model(dataset,True,model_dir)\n",
    "    model.compile_model()\n",
    "    models_random.append(model)\n"
   ]
  },
  {
   "cell_type": "code",
   "execution_count": 145,
   "id": "14912c8b",
   "metadata": {},
   "outputs": [
    {
     "name": "stdout",
     "output_type": "stream",
     "text": [
      "0\n",
      "Epoch 1/10\n",
      "44/44 [==============================] - 18s 338ms/step - loss: 0.0900 - accuracy: 0.9758 - val_loss: 0.0441 - val_accuracy: 0.9877\n",
      "Epoch 2/10\n",
      "44/44 [==============================] - 14s 321ms/step - loss: 0.0683 - accuracy: 0.9838 - val_loss: 0.0436 - val_accuracy: 0.9869\n",
      "Epoch 3/10\n",
      "44/44 [==============================] - 14s 321ms/step - loss: 0.0611 - accuracy: 0.9830 - val_loss: 0.0519 - val_accuracy: 0.9872\n",
      "Epoch 4/10\n",
      "44/44 [==============================] - 14s 322ms/step - loss: 0.0662 - accuracy: 0.9824 - val_loss: 0.0453 - val_accuracy: 0.9885\n",
      "Epoch 5/10\n",
      "44/44 [==============================] - 14s 323ms/step - loss: 0.0519 - accuracy: 0.9845 - val_loss: 0.0564 - val_accuracy: 0.9846\n",
      "Epoch 6/10\n",
      "44/44 [==============================] - 14s 322ms/step - loss: 0.0468 - accuracy: 0.9875 - val_loss: 0.0482 - val_accuracy: 0.9883\n",
      "Epoch 7/10\n",
      "44/44 [==============================] - 14s 321ms/step - loss: 0.0552 - accuracy: 0.9821 - val_loss: 0.0598 - val_accuracy: 0.9840\n",
      "Epoch 8/10\n",
      "44/44 [==============================] - 14s 321ms/step - loss: 0.0344 - accuracy: 0.9924 - val_loss: 0.0511 - val_accuracy: 0.9853\n",
      "Epoch 9/10\n",
      "44/44 [==============================] - 14s 322ms/step - loss: 0.0383 - accuracy: 0.9910 - val_loss: 0.0440 - val_accuracy: 0.9886\n",
      "Epoch 10/10\n",
      "44/44 [==============================] - 14s 322ms/step - loss: 0.0299 - accuracy: 0.9901 - val_loss: 0.0488 - val_accuracy: 0.9873\n",
      "Duration: 0:02:23.474346\n"
     ]
    }
   ],
   "source": [
    "n=0\n",
    "print(n)\n",
    "\n",
    "models_random[n].fit_model(image_sets_random[n],label_sets_random[n],x_val,y_val,epochs=10,batch_size = 64)\n",
    "n = n+1"
   ]
  },
  {
   "cell_type": "code",
   "execution_count": 146,
   "id": "f28e27b1",
   "metadata": {},
   "outputs": [
    {
     "name": "stdout",
     "output_type": "stream",
     "text": [
      "1\n",
      "Epoch 1/10\n",
      "88/88 [==============================] - 24s 244ms/step - loss: 0.1362 - accuracy: 0.9725 - val_loss: 0.0459 - val_accuracy: 0.9869\n",
      "Epoch 2/10\n",
      "88/88 [==============================] - 21s 236ms/step - loss: 0.0797 - accuracy: 0.9782 - val_loss: 0.0481 - val_accuracy: 0.9865\n",
      "Epoch 3/10\n",
      "88/88 [==============================] - 21s 235ms/step - loss: 0.0696 - accuracy: 0.9823 - val_loss: 0.0543 - val_accuracy: 0.9851\n",
      "Epoch 4/10\n",
      "88/88 [==============================] - 21s 238ms/step - loss: 0.0618 - accuracy: 0.9842 - val_loss: 0.0603 - val_accuracy: 0.9863\n",
      "Epoch 5/10\n",
      "88/88 [==============================] - 21s 236ms/step - loss: 0.0717 - accuracy: 0.9806 - val_loss: 0.0442 - val_accuracy: 0.9881\n",
      "Epoch 6/10\n",
      "88/88 [==============================] - 21s 240ms/step - loss: 0.0523 - accuracy: 0.9866 - val_loss: 0.0483 - val_accuracy: 0.9881\n",
      "Epoch 7/10\n",
      "88/88 [==============================] - 21s 243ms/step - loss: 0.0628 - accuracy: 0.9856 - val_loss: 0.0488 - val_accuracy: 0.9870\n",
      "Epoch 8/10\n",
      "88/88 [==============================] - 20s 231ms/step - loss: 0.0498 - accuracy: 0.9854 - val_loss: 0.0511 - val_accuracy: 0.9875\n",
      "Epoch 9/10\n",
      "88/88 [==============================] - 20s 232ms/step - loss: 0.0600 - accuracy: 0.9850 - val_loss: 0.0495 - val_accuracy: 0.9865\n",
      "Epoch 10/10\n",
      "88/88 [==============================] - 20s 231ms/step - loss: 0.0480 - accuracy: 0.9872 - val_loss: 0.0544 - val_accuracy: 0.9879\n",
      "Duration: 0:03:30.303643\n"
     ]
    }
   ],
   "source": [
    "print(n)\n",
    "models_random[n].fit_model(image_sets_random[n],label_sets_random[n],x_val,y_val,epochs=10,batch_size = 64)\n",
    "n = n+1"
   ]
  },
  {
   "cell_type": "code",
   "execution_count": 147,
   "id": "a212da14",
   "metadata": {},
   "outputs": [
    {
     "name": "stdout",
     "output_type": "stream",
     "text": [
      "2\n",
      "Epoch 1/10\n",
      "132/132 [==============================] - 32s 221ms/step - loss: 0.1018 - accuracy: 0.9740 - val_loss: 0.0495 - val_accuracy: 0.9876\n",
      "Epoch 2/10\n",
      "132/132 [==============================] - 29s 218ms/step - loss: 0.0780 - accuracy: 0.9767 - val_loss: 0.0545 - val_accuracy: 0.9846\n",
      "Epoch 3/10\n",
      "132/132 [==============================] - 29s 220ms/step - loss: 0.0845 - accuracy: 0.9781 - val_loss: 0.0458 - val_accuracy: 0.9869\n",
      "Epoch 4/10\n",
      "132/132 [==============================] - 30s 228ms/step - loss: 0.0845 - accuracy: 0.9803 - val_loss: 0.0577 - val_accuracy: 0.9868\n",
      "Epoch 5/10\n",
      "132/132 [==============================] - 29s 218ms/step - loss: 0.0719 - accuracy: 0.9820 - val_loss: 0.0650 - val_accuracy: 0.9875\n",
      "Epoch 6/10\n",
      "132/132 [==============================] - 29s 217ms/step - loss: 0.0676 - accuracy: 0.9840 - val_loss: 0.0571 - val_accuracy: 0.9881\n",
      "Epoch 7/10\n",
      "132/132 [==============================] - 29s 217ms/step - loss: 0.0726 - accuracy: 0.9831 - val_loss: 0.0432 - val_accuracy: 0.9889\n",
      "Epoch 8/10\n",
      "132/132 [==============================] - 29s 217ms/step - loss: 0.0531 - accuracy: 0.9850 - val_loss: 0.1302 - val_accuracy: 0.9794\n",
      "Epoch 9/10\n",
      "132/132 [==============================] - 29s 218ms/step - loss: 0.0716 - accuracy: 0.9828 - val_loss: 0.0583 - val_accuracy: 0.9869\n",
      "Epoch 10/10\n",
      "132/132 [==============================] - 29s 218ms/step - loss: 0.0536 - accuracy: 0.9837 - val_loss: 0.0619 - val_accuracy: 0.9869\n",
      "Duration: 0:04:51.587589\n"
     ]
    }
   ],
   "source": [
    "print(n)\n",
    "models_random[n].fit_model(image_sets_random[n],label_sets_random[n],x_val,y_val,epochs=10,batch_size = 64)\n",
    "n = n+1"
   ]
  },
  {
   "cell_type": "code",
   "execution_count": 148,
   "id": "825cb011",
   "metadata": {},
   "outputs": [
    {
     "name": "stdout",
     "output_type": "stream",
     "text": [
      "3\n",
      "Epoch 1/10\n",
      "175/175 [==============================] - 38s 199ms/step - loss: 0.1098 - accuracy: 0.9743 - val_loss: 0.0459 - val_accuracy: 0.9875\n",
      "Epoch 2/10\n",
      "175/175 [==============================] - 36s 204ms/step - loss: 0.0864 - accuracy: 0.9788 - val_loss: 0.0418 - val_accuracy: 0.9889\n",
      "Epoch 3/10\n",
      "175/175 [==============================] - 37s 214ms/step - loss: 0.0798 - accuracy: 0.9797 - val_loss: 0.0529 - val_accuracy: 0.9875\n",
      "Epoch 4/10\n",
      "175/175 [==============================] - 36s 204ms/step - loss: 0.0713 - accuracy: 0.9836 - val_loss: 0.0602 - val_accuracy: 0.9864\n",
      "Epoch 5/10\n",
      "175/175 [==============================] - 36s 205ms/step - loss: 0.0629 - accuracy: 0.9831 - val_loss: 0.0455 - val_accuracy: 0.9886\n",
      "Epoch 6/10\n",
      "175/175 [==============================] - 36s 206ms/step - loss: 0.0632 - accuracy: 0.9832 - val_loss: 0.0688 - val_accuracy: 0.9821\n",
      "Epoch 7/10\n",
      "175/175 [==============================] - 36s 205ms/step - loss: 0.0615 - accuracy: 0.9835 - val_loss: 0.0423 - val_accuracy: 0.9884\n",
      "Epoch 8/10\n",
      "175/175 [==============================] - 36s 206ms/step - loss: 0.0660 - accuracy: 0.9819 - val_loss: 0.0580 - val_accuracy: 0.9843\n",
      "Epoch 9/10\n",
      "175/175 [==============================] - 36s 205ms/step - loss: 0.0628 - accuracy: 0.9819 - val_loss: 0.0869 - val_accuracy: 0.9831\n",
      "Epoch 10/10\n",
      "175/175 [==============================] - 36s 206ms/step - loss: 0.0559 - accuracy: 0.9858 - val_loss: 0.0470 - val_accuracy: 0.9869\n",
      "Duration: 0:06:01.773276\n"
     ]
    }
   ],
   "source": [
    "print(n)\n",
    "models_random[n].fit_model(image_sets_random[n],label_sets_random[n],x_val,y_val,epochs=10,batch_size = 64)\n",
    "n = n+1"
   ]
  },
  {
   "cell_type": "code",
   "execution_count": 149,
   "id": "b6988483",
   "metadata": {},
   "outputs": [
    {
     "name": "stdout",
     "output_type": "stream",
     "text": [
      "4\n",
      "Epoch 1/10\n",
      "219/219 [==============================] - 47s 203ms/step - loss: 0.1141 - accuracy: 0.9739 - val_loss: 0.0540 - val_accuracy: 0.9872\n",
      "Epoch 2/10\n",
      "219/219 [==============================] - 44s 201ms/step - loss: 0.0902 - accuracy: 0.9791 - val_loss: 0.0413 - val_accuracy: 0.9891\n",
      "Epoch 3/10\n",
      "219/219 [==============================] - 44s 201ms/step - loss: 0.0755 - accuracy: 0.9808 - val_loss: 0.0564 - val_accuracy: 0.9864\n",
      "Epoch 4/10\n",
      "219/219 [==============================] - 44s 201ms/step - loss: 0.0807 - accuracy: 0.9805 - val_loss: 0.0483 - val_accuracy: 0.9888\n",
      "Epoch 5/10\n",
      "219/219 [==============================] - 44s 202ms/step - loss: 0.0810 - accuracy: 0.9799 - val_loss: 0.0469 - val_accuracy: 0.9864\n",
      "Epoch 6/10\n",
      "219/219 [==============================] - 44s 201ms/step - loss: 0.0733 - accuracy: 0.9815 - val_loss: 0.0503 - val_accuracy: 0.9876\n",
      "Epoch 7/10\n",
      "219/219 [==============================] - 44s 202ms/step - loss: 0.0583 - accuracy: 0.9832 - val_loss: 0.0445 - val_accuracy: 0.9874\n",
      "Epoch 8/10\n",
      "219/219 [==============================] - 44s 201ms/step - loss: 0.0550 - accuracy: 0.9856 - val_loss: 0.0450 - val_accuracy: 0.9882\n",
      "Epoch 9/10\n",
      "219/219 [==============================] - 44s 202ms/step - loss: 0.0601 - accuracy: 0.9834 - val_loss: 0.0442 - val_accuracy: 0.9876\n",
      "Epoch 10/10\n",
      "219/219 [==============================] - 44s 200ms/step - loss: 0.0611 - accuracy: 0.9853 - val_loss: 0.0529 - val_accuracy: 0.9876\n",
      "Duration: 0:07:23.506388\n"
     ]
    }
   ],
   "source": [
    "print(n)#\n",
    "models_random[n].fit_model(image_sets_random[n],label_sets_random[n],x_val,y_val,epochs=10,batch_size = 64)\n",
    "n = n+1"
   ]
  },
  {
   "cell_type": "code",
   "execution_count": 150,
   "id": "b5013c8d",
   "metadata": {},
   "outputs": [
    {
     "name": "stdout",
     "output_type": "stream",
     "text": [
      "5\n",
      "Epoch 1/10\n",
      "263/263 [==============================] - 55s 199ms/step - loss: 0.1039 - accuracy: 0.9737 - val_loss: 0.0422 - val_accuracy: 0.9875\n",
      "Epoch 2/10\n",
      "263/263 [==============================] - 52s 198ms/step - loss: 0.0928 - accuracy: 0.9773 - val_loss: 0.0498 - val_accuracy: 0.9869\n",
      "Epoch 3/10\n",
      "263/263 [==============================] - 52s 197ms/step - loss: 0.0839 - accuracy: 0.9798 - val_loss: 0.0468 - val_accuracy: 0.9880\n",
      "Epoch 4/10\n",
      "263/263 [==============================] - 52s 198ms/step - loss: 0.0826 - accuracy: 0.9794 - val_loss: 0.0473 - val_accuracy: 0.9862\n",
      "Epoch 5/10\n",
      "263/263 [==============================] - 52s 199ms/step - loss: 0.0689 - accuracy: 0.9818 - val_loss: 0.0549 - val_accuracy: 0.9858\n",
      "Epoch 6/10\n",
      "263/263 [==============================] - 52s 198ms/step - loss: 0.0726 - accuracy: 0.9807 - val_loss: 0.0489 - val_accuracy: 0.9885\n",
      "Epoch 7/10\n",
      "263/263 [==============================] - 52s 198ms/step - loss: 0.0730 - accuracy: 0.9813 - val_loss: 0.0495 - val_accuracy: 0.9871\n",
      "Epoch 8/10\n",
      "263/263 [==============================] - 52s 199ms/step - loss: 0.0639 - accuracy: 0.9852 - val_loss: 0.0507 - val_accuracy: 0.9875\n",
      "Epoch 9/10\n",
      "263/263 [==============================] - 52s 199ms/step - loss: 0.0787 - accuracy: 0.9802 - val_loss: 0.0524 - val_accuracy: 0.9874\n",
      "Epoch 10/10\n",
      "263/263 [==============================] - 52s 199ms/step - loss: 0.0753 - accuracy: 0.9827 - val_loss: 0.0649 - val_accuracy: 0.9851\n",
      "Duration: 0:08:44.611605\n"
     ]
    }
   ],
   "source": [
    "print(n)\n",
    "models_random[n].fit_model(image_sets_random[n],label_sets_random[n],x_val,y_val,epochs=10,batch_size = 64)\n",
    "n = n+1"
   ]
  },
  {
   "cell_type": "code",
   "execution_count": 151,
   "id": "6af282f1",
   "metadata": {},
   "outputs": [
    {
     "name": "stdout",
     "output_type": "stream",
     "text": [
      "6\n",
      "Epoch 1/10\n",
      "307/307 [==============================] - 64s 199ms/step - loss: 0.1086 - accuracy: 0.9752 - val_loss: 0.0454 - val_accuracy: 0.9874\n",
      "Epoch 2/10\n",
      "307/307 [==============================] - 61s 198ms/step - loss: 0.0820 - accuracy: 0.9788 - val_loss: 0.0437 - val_accuracy: 0.9881\n",
      "Epoch 3/10\n",
      "307/307 [==============================] - 61s 198ms/step - loss: 0.0902 - accuracy: 0.9809 - val_loss: 0.0531 - val_accuracy: 0.9866\n",
      "Epoch 4/10\n",
      "307/307 [==============================] - 61s 199ms/step - loss: 0.0754 - accuracy: 0.9807 - val_loss: 0.0520 - val_accuracy: 0.9846\n",
      "Epoch 5/10\n",
      "307/307 [==============================] - 61s 197ms/step - loss: 0.0849 - accuracy: 0.9772 - val_loss: 0.0614 - val_accuracy: 0.9851\n",
      "Epoch 6/10\n",
      "307/307 [==============================] - 61s 198ms/step - loss: 0.0805 - accuracy: 0.9815 - val_loss: 0.0502 - val_accuracy: 0.9871\n",
      "Epoch 7/10\n",
      "307/307 [==============================] - 61s 198ms/step - loss: 0.0798 - accuracy: 0.9791 - val_loss: 0.0432 - val_accuracy: 0.9878\n",
      "Epoch 8/10\n",
      "307/307 [==============================] - 60s 197ms/step - loss: 0.0741 - accuracy: 0.9808 - val_loss: 0.0479 - val_accuracy: 0.9863\n",
      "Epoch 9/10\n",
      "307/307 [==============================] - 59s 192ms/step - loss: 0.0714 - accuracy: 0.9838 - val_loss: 0.0657 - val_accuracy: 0.9856\n",
      "Epoch 10/10\n",
      "307/307 [==============================] - 60s 197ms/step - loss: 0.0736 - accuracy: 0.9815 - val_loss: 0.0498 - val_accuracy: 0.9870\n",
      "Duration: 0:10:07.672134\n"
     ]
    }
   ],
   "source": [
    "print(n)\n",
    "models_random[n].fit_model(image_sets_random[n],label_sets_random[n],x_val,y_val,epochs=10,batch_size = 64)\n",
    "n = n+1"
   ]
  },
  {
   "cell_type": "code",
   "execution_count": 152,
   "id": "d29def12",
   "metadata": {},
   "outputs": [
    {
     "name": "stdout",
     "output_type": "stream",
     "text": [
      "7\n",
      "Epoch 1/10\n",
      "350/350 [==============================] - 63s 173ms/step - loss: 0.1109 - accuracy: 0.9733 - val_loss: 0.0411 - val_accuracy: 0.9879\n",
      "Epoch 2/10\n",
      "350/350 [==============================] - 61s 173ms/step - loss: 0.0938 - accuracy: 0.9764 - val_loss: 0.0417 - val_accuracy: 0.9884\n",
      "Epoch 3/10\n",
      "350/350 [==============================] - 49s 141ms/step - loss: 0.0923 - accuracy: 0.9765 - val_loss: 0.0542 - val_accuracy: 0.9855\n",
      "Epoch 4/10\n",
      "350/350 [==============================] - 40s 114ms/step - loss: 0.0875 - accuracy: 0.9788 - val_loss: 0.0536 - val_accuracy: 0.9880\n",
      "Epoch 5/10\n",
      "350/350 [==============================] - 40s 113ms/step - loss: 0.0742 - accuracy: 0.9805 - val_loss: 0.0532 - val_accuracy: 0.9871\n",
      "Epoch 6/10\n",
      "350/350 [==============================] - 40s 114ms/step - loss: 0.0799 - accuracy: 0.9811 - val_loss: 0.0568 - val_accuracy: 0.9864\n",
      "Epoch 7/10\n",
      "350/350 [==============================] - 40s 113ms/step - loss: 0.0786 - accuracy: 0.9811 - val_loss: 0.0837 - val_accuracy: 0.9823\n",
      "Epoch 8/10\n",
      "350/350 [==============================] - 40s 114ms/step - loss: 0.0801 - accuracy: 0.9793 - val_loss: 0.0496 - val_accuracy: 0.9861\n",
      "Epoch 9/10\n",
      "350/350 [==============================] - 40s 114ms/step - loss: 0.0765 - accuracy: 0.9810 - val_loss: 0.0605 - val_accuracy: 0.9839\n",
      "Epoch 10/10\n",
      "350/350 [==============================] - 40s 113ms/step - loss: 0.0780 - accuracy: 0.9803 - val_loss: 0.0550 - val_accuracy: 0.9851\n",
      "Duration: 0:07:31.104231\n"
     ]
    }
   ],
   "source": [
    "print(n)\n",
    "models_random[n].fit_model(image_sets_random[n],label_sets_random[n],x_val,y_val,epochs=10,batch_size = 64)\n",
    "n = n+1"
   ]
  },
  {
   "cell_type": "code",
   "execution_count": 153,
   "id": "279e2866",
   "metadata": {},
   "outputs": [
    {
     "name": "stdout",
     "output_type": "stream",
     "text": [
      "8\n",
      "Epoch 1/10\n",
      "394/394 [==============================] - 47s 115ms/step - loss: 0.1064 - accuracy: 0.9743 - val_loss: 0.0462 - val_accuracy: 0.9866\n",
      "Epoch 2/10\n",
      "394/394 [==============================] - 45s 115ms/step - loss: 0.0996 - accuracy: 0.9764 - val_loss: 0.0525 - val_accuracy: 0.9868\n",
      "Epoch 3/10\n",
      "394/394 [==============================] - 46s 116ms/step - loss: 0.0925 - accuracy: 0.9771 - val_loss: 0.0660 - val_accuracy: 0.9866\n",
      "Epoch 4/10\n",
      "394/394 [==============================] - 47s 118ms/step - loss: 0.0947 - accuracy: 0.9783 - val_loss: 0.0516 - val_accuracy: 0.9876\n",
      "Epoch 5/10\n",
      "394/394 [==============================] - 49s 124ms/step - loss: 0.0822 - accuracy: 0.9802 - val_loss: 0.1447 - val_accuracy: 0.9835\n",
      "Epoch 6/10\n",
      "394/394 [==============================] - 48s 122ms/step - loss: 0.0871 - accuracy: 0.9793 - val_loss: 0.0504 - val_accuracy: 0.9864\n",
      "Epoch 7/10\n",
      "394/394 [==============================] - 48s 123ms/step - loss: 0.0781 - accuracy: 0.9808 - val_loss: 0.0577 - val_accuracy: 0.9866\n",
      "Epoch 8/10\n",
      "394/394 [==============================] - 48s 123ms/step - loss: 0.0800 - accuracy: 0.9795 - val_loss: 0.0596 - val_accuracy: 0.9849\n",
      "Epoch 9/10\n",
      "394/394 [==============================] - 48s 123ms/step - loss: 0.0732 - accuracy: 0.9819 - val_loss: 0.0515 - val_accuracy: 0.9857\n",
      "Epoch 10/10\n",
      "394/394 [==============================] - 48s 123ms/step - loss: 0.0773 - accuracy: 0.9814 - val_loss: 0.0608 - val_accuracy: 0.9853\n",
      "Duration: 0:07:54.734916\n"
     ]
    }
   ],
   "source": [
    "print(n)\n",
    "models_random[n].fit_model(image_sets_random[n],label_sets_random[n],x_val,y_val,epochs=10,batch_size = 64)\n",
    "n = n+1"
   ]
  },
  {
   "cell_type": "code",
   "execution_count": 154,
   "id": "4767ce8f",
   "metadata": {},
   "outputs": [
    {
     "name": "stdout",
     "output_type": "stream",
     "text": [
      "9\n",
      "Epoch 1/10\n",
      "438/438 [==============================] - 55s 122ms/step - loss: 0.1006 - accuracy: 0.9757 - val_loss: 0.0464 - val_accuracy: 0.9875\n",
      "Epoch 2/10\n",
      "438/438 [==============================] - 54s 123ms/step - loss: 0.0924 - accuracy: 0.9778 - val_loss: 0.0418 - val_accuracy: 0.9888\n",
      "Epoch 3/10\n",
      "438/438 [==============================] - 54s 122ms/step - loss: 0.0929 - accuracy: 0.9776 - val_loss: 0.0425 - val_accuracy: 0.9877\n",
      "Epoch 4/10\n",
      "438/438 [==============================] - 54s 123ms/step - loss: 0.0835 - accuracy: 0.9793 - val_loss: 0.0469 - val_accuracy: 0.9863\n",
      "Epoch 5/10\n",
      "438/438 [==============================] - 54s 123ms/step - loss: 0.0858 - accuracy: 0.9782 - val_loss: 0.0997 - val_accuracy: 0.9800\n",
      "Epoch 6/10\n",
      "438/438 [==============================] - 54s 123ms/step - loss: 0.0915 - accuracy: 0.9786 - val_loss: 0.0484 - val_accuracy: 0.9859\n",
      "Epoch 7/10\n",
      "438/438 [==============================] - 54s 123ms/step - loss: 0.0733 - accuracy: 0.9826 - val_loss: 0.0491 - val_accuracy: 0.9869\n",
      "Epoch 8/10\n",
      "438/438 [==============================] - 54s 123ms/step - loss: 0.0752 - accuracy: 0.9805 - val_loss: 0.0650 - val_accuracy: 0.9853\n",
      "Epoch 9/10\n",
      "438/438 [==============================] - 54s 124ms/step - loss: 0.0787 - accuracy: 0.9807 - val_loss: 0.0620 - val_accuracy: 0.9869\n",
      "Epoch 10/10\n",
      "438/438 [==============================] - 54s 123ms/step - loss: 0.0783 - accuracy: 0.9809 - val_loss: 0.0538 - val_accuracy: 0.9869\n",
      "Duration: 0:09:00.449496\n"
     ]
    }
   ],
   "source": [
    "print(n)#\n",
    "models_random[n].fit_model(image_sets_random[n],label_sets_random[n],x_val,y_val,epochs=10,batch_size = 64)\n",
    "n = n+1"
   ]
  },
  {
   "cell_type": "code",
   "execution_count": 155,
   "id": "fb28909f",
   "metadata": {},
   "outputs": [
    {
     "name": "stdout",
     "output_type": "stream",
     "text": [
      "10\n",
      "Epoch 1/10\n",
      "482/482 [==============================] - 60s 120ms/step - loss: 0.1092 - accuracy: 0.9761 - val_loss: 0.0461 - val_accuracy: 0.9872\n",
      "Epoch 2/10\n",
      "482/482 [==============================] - 60s 124ms/step - loss: 0.1013 - accuracy: 0.9753 - val_loss: 0.0478 - val_accuracy: 0.9861\n",
      "Epoch 3/10\n",
      "482/482 [==============================] - 65s 135ms/step - loss: 0.0954 - accuracy: 0.9741 - val_loss: 0.0599 - val_accuracy: 0.9844\n",
      "Epoch 4/10\n",
      "482/482 [==============================] - 65s 135ms/step - loss: 0.0869 - accuracy: 0.9777 - val_loss: 0.0524 - val_accuracy: 0.9854\n",
      "Epoch 5/10\n",
      "482/482 [==============================] - 68s 142ms/step - loss: 0.0917 - accuracy: 0.9784 - val_loss: 0.0517 - val_accuracy: 0.9877\n",
      "Epoch 6/10\n",
      "482/482 [==============================] - 69s 143ms/step - loss: 0.0812 - accuracy: 0.9778 - val_loss: 0.0551 - val_accuracy: 0.9879\n",
      "Epoch 7/10\n",
      "482/482 [==============================] - 69s 143ms/step - loss: 0.0834 - accuracy: 0.9783 - val_loss: 0.0585 - val_accuracy: 0.9854\n",
      "Epoch 8/10\n",
      "482/482 [==============================] - 68s 141ms/step - loss: 0.0895 - accuracy: 0.9784 - val_loss: 0.0479 - val_accuracy: 0.9874\n",
      "Epoch 9/10\n",
      "482/482 [==============================] - 68s 141ms/step - loss: 0.0809 - accuracy: 0.9786 - val_loss: 0.2833 - val_accuracy: 0.9662\n",
      "Epoch 10/10\n",
      "482/482 [==============================] - 66s 138ms/step - loss: 0.0886 - accuracy: 0.9785 - val_loss: 0.0607 - val_accuracy: 0.9851\n",
      "Duration: 0:10:59.026065\n"
     ]
    }
   ],
   "source": [
    "print(n)\n",
    "models_random[n].fit_model(image_sets_random[n],label_sets_random[n],x_val,y_val,epochs=10,batch_size = 64)\n",
    "n = n+1"
   ]
  },
  {
   "cell_type": "code",
   "execution_count": 156,
   "id": "0e5cdaeb",
   "metadata": {},
   "outputs": [
    {
     "name": "stdout",
     "output_type": "stream",
     "text": [
      "11\n",
      "Epoch 1/10\n",
      "525/525 [==============================] - 74s 137ms/step - loss: 0.1147 - accuracy: 0.9736 - val_loss: 0.0420 - val_accuracy: 0.9889\n",
      "Epoch 2/10\n",
      "525/525 [==============================] - 69s 132ms/step - loss: 0.0950 - accuracy: 0.9765 - val_loss: 0.0488 - val_accuracy: 0.9879\n",
      "Epoch 3/10\n",
      "525/525 [==============================] - 69s 132ms/step - loss: 0.0951 - accuracy: 0.9765 - val_loss: 0.0699 - val_accuracy: 0.9836\n",
      "Epoch 4/10\n",
      "525/525 [==============================] - 69s 132ms/step - loss: 0.0937 - accuracy: 0.9786 - val_loss: 0.0655 - val_accuracy: 0.9863\n",
      "Epoch 5/10\n",
      "525/525 [==============================] - 70s 133ms/step - loss: 0.0838 - accuracy: 0.9769 - val_loss: 0.0543 - val_accuracy: 0.9860\n",
      "Epoch 6/10\n",
      "525/525 [==============================] - 69s 132ms/step - loss: 0.0897 - accuracy: 0.9789 - val_loss: 0.0503 - val_accuracy: 0.9858\n",
      "Epoch 7/10\n",
      "525/525 [==============================] - 69s 132ms/step - loss: 0.0861 - accuracy: 0.9800 - val_loss: 0.0414 - val_accuracy: 0.9881\n",
      "Epoch 8/10\n",
      "525/525 [==============================] - 70s 133ms/step - loss: 0.0866 - accuracy: 0.9790 - val_loss: 0.0508 - val_accuracy: 0.9859\n",
      "Epoch 9/10\n",
      "525/525 [==============================] - 69s 132ms/step - loss: 0.0754 - accuracy: 0.9803 - val_loss: 0.0574 - val_accuracy: 0.9860\n",
      "Epoch 10/10\n",
      "525/525 [==============================] - 69s 132ms/step - loss: 0.0798 - accuracy: 0.9806 - val_loss: 0.0656 - val_accuracy: 0.9833\n",
      "Duration: 0:11:38.496075\n"
     ]
    }
   ],
   "source": [
    "print(n)\n",
    "models_random[n].fit_model(image_sets_random[n],label_sets_random[n],x_val,y_val,epochs=10,batch_size = 64)\n",
    "n = n+1"
   ]
  },
  {
   "cell_type": "code",
   "execution_count": 157,
   "id": "5a093e50",
   "metadata": {},
   "outputs": [
    {
     "name": "stdout",
     "output_type": "stream",
     "text": [
      "12\n",
      "Epoch 1/10\n",
      "569/569 [==============================] - 78s 134ms/step - loss: 0.1112 - accuracy: 0.9748 - val_loss: 0.0420 - val_accuracy: 0.9888\n",
      "Epoch 2/10\n",
      "569/569 [==============================] - 76s 133ms/step - loss: 0.0914 - accuracy: 0.9783 - val_loss: 0.0454 - val_accuracy: 0.9872\n",
      "Epoch 3/10\n",
      "569/569 [==============================] - 76s 133ms/step - loss: 0.0912 - accuracy: 0.9766 - val_loss: 0.0496 - val_accuracy: 0.9873\n",
      "Epoch 4/10\n",
      "569/569 [==============================] - 76s 133ms/step - loss: 0.0863 - accuracy: 0.9774 - val_loss: 0.0447 - val_accuracy: 0.9874\n",
      "Epoch 5/10\n",
      "569/569 [==============================] - 75s 133ms/step - loss: 0.0857 - accuracy: 0.9773 - val_loss: 0.0694 - val_accuracy: 0.9821\n",
      "Epoch 6/10\n",
      "569/569 [==============================] - 76s 133ms/step - loss: 0.0852 - accuracy: 0.9784 - val_loss: 0.0522 - val_accuracy: 0.9856\n",
      "Epoch 7/10\n",
      "569/569 [==============================] - 76s 133ms/step - loss: 0.0815 - accuracy: 0.9792 - val_loss: 0.0619 - val_accuracy: 0.9859\n",
      "Epoch 8/10\n",
      "569/569 [==============================] - 76s 134ms/step - loss: 0.0847 - accuracy: 0.9795 - val_loss: 0.0558 - val_accuracy: 0.9864\n",
      "Epoch 9/10\n",
      "569/569 [==============================] - 75s 133ms/step - loss: 0.0837 - accuracy: 0.9800 - val_loss: 0.0606 - val_accuracy: 0.9845\n",
      "Epoch 10/10\n",
      "569/569 [==============================] - 76s 133ms/step - loss: 0.0831 - accuracy: 0.9793 - val_loss: 0.0508 - val_accuracy: 0.9875\n",
      "Duration: 0:12:38.337248\n"
     ]
    }
   ],
   "source": [
    "print(n)\n",
    "models_random[n].fit_model(image_sets_random[n],label_sets_random[n],x_val,y_val,epochs=10,batch_size = 64)\n",
    "n = n+1"
   ]
  },
  {
   "cell_type": "code",
   "execution_count": 158,
   "id": "7d59f257",
   "metadata": {},
   "outputs": [
    {
     "name": "stdout",
     "output_type": "stream",
     "text": [
      "13\n",
      "Epoch 1/10\n",
      "613/613 [==============================] - 83s 132ms/step - loss: 0.1135 - accuracy: 0.9723 - val_loss: 0.0507 - val_accuracy: 0.9872\n",
      "Epoch 2/10\n",
      "613/613 [==============================] - 80s 130ms/step - loss: 0.0946 - accuracy: 0.9771 - val_loss: 0.0528 - val_accuracy: 0.9868\n",
      "Epoch 3/10\n",
      "613/613 [==============================] - 80s 131ms/step - loss: 0.0905 - accuracy: 0.9782 - val_loss: 0.0435 - val_accuracy: 0.9882\n",
      "Epoch 4/10\n",
      "613/613 [==============================] - 80s 131ms/step - loss: 0.0862 - accuracy: 0.9795 - val_loss: 0.0451 - val_accuracy: 0.9881\n",
      "Epoch 5/10\n",
      "613/613 [==============================] - 81s 131ms/step - loss: 0.0874 - accuracy: 0.9791 - val_loss: 0.0587 - val_accuracy: 0.9865\n",
      "Epoch 6/10\n",
      "613/613 [==============================] - 81s 131ms/step - loss: 0.0925 - accuracy: 0.9781 - val_loss: 0.0606 - val_accuracy: 0.9850\n",
      "Epoch 7/10\n",
      "613/613 [==============================] - 81s 133ms/step - loss: 0.0858 - accuracy: 0.9794 - val_loss: 0.0493 - val_accuracy: 0.9869\n",
      "Epoch 8/10\n",
      "613/613 [==============================] - 72s 117ms/step - loss: 0.0824 - accuracy: 0.9804 - val_loss: 0.0684 - val_accuracy: 0.9801\n",
      "Epoch 9/10\n",
      "613/613 [==============================] - 72s 118ms/step - loss: 0.0848 - accuracy: 0.9802 - val_loss: 0.0609 - val_accuracy: 0.9847\n",
      "Epoch 10/10\n",
      "613/613 [==============================] - 74s 120ms/step - loss: 0.0819 - accuracy: 0.9792 - val_loss: 0.0493 - val_accuracy: 0.9866\n",
      "Duration: 0:13:03.043321\n"
     ]
    }
   ],
   "source": [
    "print(n)\n",
    "models_random[n].fit_model(image_sets_random[n],label_sets_random[n],x_val,y_val,epochs=10,batch_size = 64)\n",
    "n = n+1"
   ]
  },
  {
   "cell_type": "code",
   "execution_count": 159,
   "id": "4b04c74e",
   "metadata": {},
   "outputs": [
    {
     "name": "stdout",
     "output_type": "stream",
     "text": [
      "14\n",
      "Epoch 1/10\n",
      "657/657 [==============================] - 78s 117ms/step - loss: 0.1104 - accuracy: 0.9742 - val_loss: 0.0451 - val_accuracy: 0.9876\n",
      "Epoch 2/10\n",
      "657/657 [==============================] - 78s 118ms/step - loss: 0.0967 - accuracy: 0.9760 - val_loss: 0.0681 - val_accuracy: 0.9850\n",
      "Epoch 3/10\n",
      "657/657 [==============================] - 78s 118ms/step - loss: 0.0900 - accuracy: 0.9789 - val_loss: 0.0573 - val_accuracy: 0.9867\n",
      "Epoch 4/10\n",
      "657/657 [==============================] - 77s 118ms/step - loss: 0.0800 - accuracy: 0.9793 - val_loss: 0.0442 - val_accuracy: 0.9876\n",
      "Epoch 5/10\n",
      "657/657 [==============================] - 77s 118ms/step - loss: 0.0885 - accuracy: 0.9778 - val_loss: 0.0453 - val_accuracy: 0.9876\n",
      "Epoch 6/10\n",
      "657/657 [==============================] - 77s 118ms/step - loss: 0.0909 - accuracy: 0.9785 - val_loss: 0.0506 - val_accuracy: 0.9869\n",
      "Epoch 7/10\n",
      "657/657 [==============================] - 77s 118ms/step - loss: 0.0930 - accuracy: 0.9789 - val_loss: 0.0525 - val_accuracy: 0.9857\n",
      "Epoch 8/10\n",
      "657/657 [==============================] - 77s 118ms/step - loss: 0.0833 - accuracy: 0.9798 - val_loss: 0.0552 - val_accuracy: 0.9844\n",
      "Epoch 9/10\n",
      "657/657 [==============================] - 77s 118ms/step - loss: 0.0819 - accuracy: 0.9799 - val_loss: 0.0530 - val_accuracy: 0.9866\n",
      "Epoch 10/10\n",
      "657/657 [==============================] - 77s 117ms/step - loss: 0.0829 - accuracy: 0.9806 - val_loss: 0.1198 - val_accuracy: 0.9784\n",
      "Duration: 0:12:54.870112\n"
     ]
    }
   ],
   "source": [
    "print(n)#\n",
    "models_random[n].fit_model(image_sets_random[n],label_sets_random[n],x_val,y_val,epochs=10,batch_size = 64)\n",
    "n = n+1"
   ]
  },
  {
   "cell_type": "code",
   "execution_count": 160,
   "id": "230fb39c",
   "metadata": {},
   "outputs": [
    {
     "name": "stdout",
     "output_type": "stream",
     "text": [
      "15\n",
      "Epoch 1/10\n",
      "700/700 [==============================] - 83s 116ms/step - loss: 0.1055 - accuracy: 0.9742 - val_loss: 0.0445 - val_accuracy: 0.9874\n",
      "Epoch 2/10\n",
      "700/700 [==============================] - 81s 116ms/step - loss: 0.0906 - accuracy: 0.9770 - val_loss: 0.0450 - val_accuracy: 0.9881\n",
      "Epoch 3/10\n",
      "700/700 [==============================] - 81s 116ms/step - loss: 0.0925 - accuracy: 0.9789 - val_loss: 0.0446 - val_accuracy: 0.9878\n",
      "Epoch 4/10\n",
      "700/700 [==============================] - 82s 117ms/step - loss: 0.0877 - accuracy: 0.9783 - val_loss: 0.0437 - val_accuracy: 0.9879\n",
      "Epoch 5/10\n",
      "700/700 [==============================] - 81s 116ms/step - loss: 0.0867 - accuracy: 0.9773 - val_loss: 0.0448 - val_accuracy: 0.9871\n",
      "Epoch 6/10\n",
      "700/700 [==============================] - 81s 116ms/step - loss: 0.0877 - accuracy: 0.9781 - val_loss: 0.0675 - val_accuracy: 0.9851\n",
      "Epoch 7/10\n",
      "700/700 [==============================] - 89s 127ms/step - loss: 0.0843 - accuracy: 0.9787 - val_loss: 0.0484 - val_accuracy: 0.9869\n",
      "Epoch 8/10\n",
      "700/700 [==============================] - 92s 131ms/step - loss: 0.0855 - accuracy: 0.9788 - val_loss: 0.0544 - val_accuracy: 0.9863\n",
      "Epoch 9/10\n",
      "700/700 [==============================] - 91s 129ms/step - loss: 0.0844 - accuracy: 0.9794 - val_loss: 0.0708 - val_accuracy: 0.9861\n",
      "Epoch 10/10\n",
      "700/700 [==============================] - 90s 129ms/step - loss: 0.0895 - accuracy: 0.9798 - val_loss: 0.0504 - val_accuracy: 0.9861\n",
      "Duration: 0:14:10.823137\n"
     ]
    }
   ],
   "source": [
    "print(n)\n",
    "models_random[n].fit_model(image_sets_random[n],label_sets_random[n],x_val,y_val,epochs=10,batch_size = 64)\n",
    "n = n+1"
   ]
  },
  {
   "cell_type": "code",
   "execution_count": 161,
   "id": "7c52ef78",
   "metadata": {},
   "outputs": [
    {
     "name": "stdout",
     "output_type": "stream",
     "text": [
      "16\n",
      "Epoch 1/10\n",
      "744/744 [==============================] - 101s 133ms/step - loss: 0.1151 - accuracy: 0.9753 - val_loss: 0.0596 - val_accuracy: 0.9878\n",
      "Epoch 2/10\n",
      "744/744 [==============================] - 99s 133ms/step - loss: 0.0953 - accuracy: 0.9770 - val_loss: 0.0469 - val_accuracy: 0.9864\n",
      "Epoch 3/10\n",
      "744/744 [==============================] - 99s 133ms/step - loss: 0.0874 - accuracy: 0.9778 - val_loss: 0.0500 - val_accuracy: 0.9860\n",
      "Epoch 4/10\n",
      "744/744 [==============================] - 99s 134ms/step - loss: 0.0884 - accuracy: 0.9781 - val_loss: 0.0524 - val_accuracy: 0.9868\n",
      "Epoch 5/10\n",
      "744/744 [==============================] - 99s 133ms/step - loss: 0.0860 - accuracy: 0.9779 - val_loss: 0.0506 - val_accuracy: 0.9851\n",
      "Epoch 6/10\n",
      "744/744 [==============================] - 99s 133ms/step - loss: 0.0858 - accuracy: 0.9790 - val_loss: 0.0669 - val_accuracy: 0.9847\n",
      "Epoch 7/10\n",
      "744/744 [==============================] - 99s 133ms/step - loss: 0.0905 - accuracy: 0.9778 - val_loss: 0.0664 - val_accuracy: 0.9864\n",
      "Epoch 8/10\n",
      "744/744 [==============================] - 99s 134ms/step - loss: 0.0905 - accuracy: 0.9777 - val_loss: 0.0795 - val_accuracy: 0.9828\n",
      "Epoch 9/10\n",
      "744/744 [==============================] - 99s 133ms/step - loss: 0.0857 - accuracy: 0.9790 - val_loss: 0.0695 - val_accuracy: 0.9862\n",
      "Epoch 10/10\n",
      "744/744 [==============================] - 99s 133ms/step - loss: 0.0910 - accuracy: 0.9788 - val_loss: 0.0581 - val_accuracy: 0.9845\n",
      "Duration: 0:16:33.150463\n"
     ]
    }
   ],
   "source": [
    "print(n)\n",
    "models_random[n].fit_model(image_sets_random[n],label_sets_random[n],x_val,y_val,epochs=10,batch_size = 64)\n",
    "n = n+1"
   ]
  },
  {
   "cell_type": "code",
   "execution_count": 162,
   "id": "470b8507",
   "metadata": {},
   "outputs": [],
   "source": [
    "time.sleep(400)"
   ]
  },
  {
   "cell_type": "code",
   "execution_count": 163,
   "id": "9f44f5c2",
   "metadata": {},
   "outputs": [
    {
     "name": "stdout",
     "output_type": "stream",
     "text": [
      "17\n",
      "Epoch 1/10\n",
      "788/788 [==============================] - 103s 128ms/step - loss: 0.1026 - accuracy: 0.9757 - val_loss: 0.0634 - val_accuracy: 0.9845\n",
      "Epoch 2/10\n",
      "788/788 [==============================] - 101s 129ms/step - loss: 0.0939 - accuracy: 0.9766 - val_loss: 0.0634 - val_accuracy: 0.9859\n",
      "Epoch 3/10\n",
      "788/788 [==============================] - 102s 130ms/step - loss: 0.0903 - accuracy: 0.9786 - val_loss: 0.0760 - val_accuracy: 0.9833\n",
      "Epoch 4/10\n",
      "788/788 [==============================] - 102s 129ms/step - loss: 0.0862 - accuracy: 0.9783 - val_loss: 0.0995 - val_accuracy: 0.9816\n",
      "Epoch 5/10\n",
      "788/788 [==============================] - 103s 131ms/step - loss: 0.0852 - accuracy: 0.9784 - val_loss: 0.0608 - val_accuracy: 0.9854\n",
      "Epoch 6/10\n",
      "788/788 [==============================] - 105s 134ms/step - loss: 0.0814 - accuracy: 0.9796 - val_loss: 0.0616 - val_accuracy: 0.9864\n",
      "Epoch 7/10\n",
      "788/788 [==============================] - 107s 136ms/step - loss: 0.0844 - accuracy: 0.9781 - val_loss: 0.1188 - val_accuracy: 0.9778\n",
      "Epoch 8/10\n",
      "788/788 [==============================] - 106s 134ms/step - loss: 0.0906 - accuracy: 0.9791 - val_loss: 0.0670 - val_accuracy: 0.9828\n",
      "Epoch 9/10\n",
      "788/788 [==============================] - 105s 134ms/step - loss: 0.0890 - accuracy: 0.9788 - val_loss: 0.0661 - val_accuracy: 0.9808\n",
      "Epoch 10/10\n",
      "788/788 [==============================] - 105s 134ms/step - loss: 0.0906 - accuracy: 0.9777 - val_loss: 0.0586 - val_accuracy: 0.9860\n",
      "Duration: 0:17:20.606729\n"
     ]
    }
   ],
   "source": [
    "print(n)\n",
    "models_random[n].fit_model(image_sets_random[n],label_sets_random[n],x_val,y_val,epochs=10,batch_size = 64)\n",
    "n = n+1"
   ]
  },
  {
   "cell_type": "code",
   "execution_count": null,
   "id": "66419a3a",
   "metadata": {},
   "outputs": [],
   "source": [
    "time.sleep(400)"
   ]
  },
  {
   "cell_type": "code",
   "execution_count": 164,
   "id": "d61ae9f8",
   "metadata": {},
   "outputs": [
    {
     "name": "stdout",
     "output_type": "stream",
     "text": [
      "18\n",
      "Epoch 1/10\n",
      "832/832 [==============================] - 114s 134ms/step - loss: 0.1074 - accuracy: 0.9752 - val_loss: 0.0596 - val_accuracy: 0.9864\n",
      "Epoch 2/10\n",
      "832/832 [==============================] - 111s 134ms/step - loss: 0.0963 - accuracy: 0.9755 - val_loss: 0.0709 - val_accuracy: 0.9843\n",
      "Epoch 3/10\n",
      "832/832 [==============================] - 111s 134ms/step - loss: 0.0853 - accuracy: 0.9787 - val_loss: 0.0526 - val_accuracy: 0.9864\n",
      "Epoch 4/10\n",
      "832/832 [==============================] - 112s 135ms/step - loss: 0.0920 - accuracy: 0.9776 - val_loss: 0.1022 - val_accuracy: 0.9777\n",
      "Epoch 5/10\n",
      "832/832 [==============================] - 112s 135ms/step - loss: 0.0903 - accuracy: 0.9788 - val_loss: 0.0492 - val_accuracy: 0.9874\n",
      "Epoch 6/10\n",
      "832/832 [==============================] - 113s 135ms/step - loss: 0.0883 - accuracy: 0.9779 - val_loss: 0.1615 - val_accuracy: 0.9792\n",
      "Epoch 7/10\n",
      "832/832 [==============================] - 111s 134ms/step - loss: 0.0926 - accuracy: 0.9780 - val_loss: 0.1425 - val_accuracy: 0.9793\n",
      "Epoch 8/10\n",
      "832/832 [==============================] - 111s 134ms/step - loss: 0.0946 - accuracy: 0.9775 - val_loss: 0.1883 - val_accuracy: 0.9725\n",
      "Epoch 9/10\n",
      "832/832 [==============================] - 111s 134ms/step - loss: 0.0944 - accuracy: 0.9772 - val_loss: 0.0530 - val_accuracy: 0.9859\n",
      "Epoch 10/10\n",
      "832/832 [==============================] - 111s 134ms/step - loss: 0.0894 - accuracy: 0.9776 - val_loss: 0.0848 - val_accuracy: 0.9850\n",
      "Duration: 0:18:38.999511\n"
     ]
    }
   ],
   "source": [
    "print(n)\n",
    "models_random[n].fit_model(image_sets_random[n],label_sets_random[n],x_val,y_val,epochs=10,batch_size = 64)\n",
    "n = n+1"
   ]
  },
  {
   "cell_type": "code",
   "execution_count": null,
   "id": "8d844da6",
   "metadata": {},
   "outputs": [],
   "source": [
    "time.sleep(400)"
   ]
  },
  {
   "cell_type": "code",
   "execution_count": 165,
   "id": "486d063b",
   "metadata": {},
   "outputs": [
    {
     "name": "stdout",
     "output_type": "stream",
     "text": [
      "19\n",
      "Epoch 1/10\n",
      "875/875 [==============================] - 106s 120ms/step - loss: 0.1042 - accuracy: 0.9749 - val_loss: 0.0503 - val_accuracy: 0.9874\n",
      "Epoch 2/10\n",
      "875/875 [==============================] - 105s 120ms/step - loss: 0.0951 - accuracy: 0.9770 - val_loss: 0.0552 - val_accuracy: 0.9847\n",
      "Epoch 3/10\n",
      "875/875 [==============================] - 106s 121ms/step - loss: 0.0956 - accuracy: 0.9769 - val_loss: 0.0441 - val_accuracy: 0.9876\n",
      "Epoch 4/10\n",
      "875/875 [==============================] - 105s 120ms/step - loss: 0.0853 - accuracy: 0.9784 - val_loss: 0.0514 - val_accuracy: 0.9873\n",
      "Epoch 5/10\n",
      "875/875 [==============================] - 105s 120ms/step - loss: 0.0874 - accuracy: 0.9783 - val_loss: 0.0456 - val_accuracy: 0.9868\n",
      "Epoch 6/10\n",
      "875/875 [==============================] - 105s 120ms/step - loss: 0.0901 - accuracy: 0.9785 - val_loss: 0.0780 - val_accuracy: 0.9833\n",
      "Epoch 7/10\n",
      "875/875 [==============================] - 105s 120ms/step - loss: 0.0850 - accuracy: 0.9796 - val_loss: 0.0499 - val_accuracy: 0.9852\n",
      "Epoch 8/10\n",
      "875/875 [==============================] - 105s 120ms/step - loss: 0.0899 - accuracy: 0.9777 - val_loss: 0.0689 - val_accuracy: 0.9819\n",
      "Epoch 9/10\n",
      "875/875 [==============================] - 105s 120ms/step - loss: 0.0889 - accuracy: 0.9786 - val_loss: 0.0527 - val_accuracy: 0.9849\n",
      "Epoch 10/10\n",
      "875/875 [==============================] - 105s 120ms/step - loss: 0.0918 - accuracy: 0.9782 - val_loss: 0.0667 - val_accuracy: 0.9842\n",
      "Duration: 0:17:31.142756\n"
     ]
    }
   ],
   "source": [
    "print(n)#\n",
    "models_random[n].fit_model(image_sets_random[n],label_sets_random[n],x_val,y_val,epochs=10,batch_size = 64)\n",
    "n = n+1"
   ]
  },
  {
   "cell_type": "code",
   "execution_count": 166,
   "id": "24dc2667",
   "metadata": {},
   "outputs": [
    {
     "name": "stdout",
     "output_type": "stream",
     "text": [
      "INFO:tensorflow:Assets written to: D:/models/aug_22/mnist/C2/mnist_model_c2_aug_random_e1_0\\assets\n",
      "Model has been saved\n",
      "INFO:tensorflow:Assets written to: D:/models/aug_22/mnist/C2/mnist_model_c2_aug_random_e1_1\\assets\n",
      "Model has been saved\n",
      "INFO:tensorflow:Assets written to: D:/models/aug_22/mnist/C2/mnist_model_c2_aug_random_e1_2\\assets\n",
      "Model has been saved\n",
      "INFO:tensorflow:Assets written to: D:/models/aug_22/mnist/C2/mnist_model_c2_aug_random_e1_3\\assets\n",
      "Model has been saved\n",
      "INFO:tensorflow:Assets written to: D:/models/aug_22/mnist/C2/mnist_model_c2_aug_random_e1_4\\assets\n",
      "Model has been saved\n",
      "INFO:tensorflow:Assets written to: D:/models/aug_22/mnist/C2/mnist_model_c2_aug_random_e1_5\\assets\n",
      "Model has been saved\n",
      "INFO:tensorflow:Assets written to: D:/models/aug_22/mnist/C2/mnist_model_c2_aug_random_e1_6\\assets\n",
      "Model has been saved\n",
      "INFO:tensorflow:Assets written to: D:/models/aug_22/mnist/C2/mnist_model_c2_aug_random_e1_7\\assets\n",
      "Model has been saved\n",
      "INFO:tensorflow:Assets written to: D:/models/aug_22/mnist/C2/mnist_model_c2_aug_random_e1_8\\assets\n",
      "Model has been saved\n",
      "INFO:tensorflow:Assets written to: D:/models/aug_22/mnist/C2/mnist_model_c2_aug_random_e1_9\\assets\n",
      "Model has been saved\n",
      "INFO:tensorflow:Assets written to: D:/models/aug_22/mnist/C2/mnist_model_c2_aug_random_e1_10\\assets\n",
      "Model has been saved\n",
      "INFO:tensorflow:Assets written to: D:/models/aug_22/mnist/C2/mnist_model_c2_aug_random_e1_11\\assets\n",
      "Model has been saved\n",
      "INFO:tensorflow:Assets written to: D:/models/aug_22/mnist/C2/mnist_model_c2_aug_random_e1_12\\assets\n",
      "Model has been saved\n",
      "INFO:tensorflow:Assets written to: D:/models/aug_22/mnist/C2/mnist_model_c2_aug_random_e1_13\\assets\n",
      "Model has been saved\n",
      "INFO:tensorflow:Assets written to: D:/models/aug_22/mnist/C2/mnist_model_c2_aug_random_e1_14\\assets\n",
      "Model has been saved\n",
      "INFO:tensorflow:Assets written to: D:/models/aug_22/mnist/C2/mnist_model_c2_aug_random_e1_15\\assets\n",
      "Model has been saved\n",
      "INFO:tensorflow:Assets written to: D:/models/aug_22/mnist/C2/mnist_model_c2_aug_random_e1_16\\assets\n",
      "Model has been saved\n",
      "INFO:tensorflow:Assets written to: D:/models/aug_22/mnist/C2/mnist_model_c2_aug_random_e1_17\\assets\n",
      "Model has been saved\n",
      "INFO:tensorflow:Assets written to: D:/models/aug_22/mnist/C2/mnist_model_c2_aug_random_e1_18\\assets\n",
      "Model has been saved\n",
      "INFO:tensorflow:Assets written to: D:/models/aug_22/mnist/C2/mnist_model_c2_aug_random_e1_19\\assets\n",
      "Model has been saved\n"
     ]
    }
   ],
   "source": [
    "new_model_random_dir  = \"D:/models/aug_22/\"+dataset+\"/C2/\"+dataset+\"_model_c2_aug_random_e1\"\n",
    "\n",
    "i=0\n",
    "\n",
    "for model in models_random:\n",
    "    model.save(new_model_random_dir+\"_\"+str(i))\n",
    "    i+=1"
   ]
  },
  {
   "cell_type": "code",
   "execution_count": null,
   "id": "4d243087",
   "metadata": {},
   "outputs": [],
   "source": [
    "loading = False\n",
    "\n",
    "models_random = []\n",
    "\n",
    "if loading:\n",
    "    for i in range(20):\n",
    "        model_random_dir = \"D:/models/aug_22/gtsrb/C1/gtsrb_model_c1_aug_random_e1_\"+str(i)\n",
    "        print(model_random_dir)\n",
    "        model =utils.My_model('gtsrb',True,model_random_dir)\n",
    "        model.model.compile(loss= 'categorical_crossentropy', optimizer = 'rmsprop', metrics = ['accuracy',tf.keras.metrics.Precision(), tf.keras.metrics.Recall()])\n",
    "        models_random.append(model)\n",
    "       "
   ]
  },
  {
   "cell_type": "code",
   "execution_count": 167,
   "id": "85078e3a",
   "metadata": {},
   "outputs": [],
   "source": [
    "try:\n",
    "    del random_indexes\n",
    "    del top_images_by_random\n",
    "    del top_labels_by_random\n",
    "    del image_sets_random\n",
    "    del label_sets_random\n",
    "    del models_random\n",
    "except:\n",
    "    print(\"Error\")"
   ]
  },
  {
   "cell_type": "code",
   "execution_count": null,
   "id": "cae6021e",
   "metadata": {},
   "outputs": [],
   "source": []
  },
  {
   "cell_type": "code",
   "execution_count": 168,
   "id": "5a4c9d66",
   "metadata": {},
   "outputs": [
    {
     "data": {
      "text/plain": [
       "273988"
      ]
     },
     "execution_count": 168,
     "metadata": {},
     "output_type": "execute_result"
    }
   ],
   "source": [
    "gc.collect()"
   ]
  },
  {
   "cell_type": "markdown",
   "id": "58a54b05",
   "metadata": {},
   "source": [
    "## Training guided by NC"
   ]
  },
  {
   "cell_type": "code",
   "execution_count": 169,
   "id": "e53f2bcb",
   "metadata": {},
   "outputs": [],
   "source": [
    "# NC\n",
    "nc_values = []\n",
    "for i in range(1,20):\n",
    "    #save_dir = \"C:/Users/fjdur/Desktop/upc/project_notebooks/github_project/DL_notebooks/NC_values/nc_values_\"+str(i)+\".npy\"\n",
    "    save_dir = \"C:/Users/fjdur/Documents/upc-july/data/\"+dataset+\"/\"+dataset+\"_nc_values_\"+str(i)+\".npy\"\n",
    "\n",
    "    #print(save_dir_rand)\n",
    "    tmp_values = np.load(save_dir)\n",
    "    #print(tmp_values.shape)\n",
    "    nc_values = np.append(nc_values,tmp_values)"
   ]
  },
  {
   "cell_type": "code",
   "execution_count": 170,
   "id": "637de522",
   "metadata": {},
   "outputs": [
    {
     "data": {
      "text/plain": [
       "(55998,)"
      ]
     },
     "execution_count": 170,
     "metadata": {},
     "output_type": "execute_result"
    }
   ],
   "source": [
    "nc_values.shape"
   ]
  },
  {
   "cell_type": "code",
   "execution_count": 171,
   "id": "024f3314",
   "metadata": {},
   "outputs": [],
   "source": [
    "\n",
    "top_images_by_nc = utils.get_x_of_indexes(list(np.flip(np.argsort(nc_values))),x_train_and_adversary)\n",
    "top_labels_by_nc = utils.get_x_of_indexes(list(np.flip(np.argsort(nc_values))),y_train_and_adversary)\n"
   ]
  },
  {
   "cell_type": "code",
   "execution_count": 172,
   "id": "7490c255",
   "metadata": {},
   "outputs": [
    {
     "name": "stdout",
     "output_type": "stream",
     "text": [
      "0 :\n",
      "0  ->  2800\n",
      "2800\n",
      "1 :\n",
      "0  ->  5600\n",
      "5600\n",
      "2 :\n",
      "0  ->  8400\n",
      "8400\n",
      "3 :\n",
      "0  ->  11200\n",
      "11200\n",
      "4 :\n",
      "0  ->  14000\n",
      "14000\n",
      "5 :\n",
      "0  ->  16800\n",
      "16800\n",
      "6 :\n",
      "0  ->  19600\n",
      "19600\n",
      "7 :\n",
      "0  ->  22400\n",
      "22400\n",
      "8 :\n",
      "0  ->  25200\n",
      "25200\n",
      "9 :\n",
      "0  ->  28000\n",
      "28000\n",
      "10 :\n",
      "0  ->  30800\n",
      "30800\n",
      "11 :\n",
      "0  ->  33600\n",
      "33600\n",
      "12 :\n",
      "0  ->  36400\n",
      "36400\n",
      "13 :\n",
      "0  ->  39200\n",
      "39200\n",
      "14 :\n",
      "0  ->  42000\n",
      "42000\n",
      "15 :\n",
      "0  ->  44800\n",
      "44800\n",
      "16 :\n",
      "0  ->  47600\n",
      "47600\n",
      "17 :\n",
      "0  ->  50400\n",
      "50400\n",
      "18 :\n",
      "0  ->  53200\n",
      "53200\n",
      "19 :\n",
      "Last\n",
      "0  ->  58798\n",
      "55998\n"
     ]
    }
   ],
   "source": [
    "m = n_data_points\n",
    "n = 0\n",
    "image_sets_nc = []\n",
    "label_sets_nc = []\n",
    "\n",
    "\n",
    "for i in range((len(top_images_by_nc)//m)+1):\n",
    "    print(i,\":\")\n",
    "    if (i+1 >= ((len(top_images_by_nc)//m)+1)):\n",
    "        print(\"Last\")\n",
    "        print(0,\" -> \",n+m+(len(top_images_by_nc)%m))\n",
    "        top_images_by_nc_n = np.array(top_images_by_nc[:n+m+(len(top_images_by_nc)%m)])\n",
    "        top_labels_by_nc_n = np.array(top_labels_by_nc[:n+m+(len(top_images_by_nc)%m)])\n",
    "    else:\n",
    "        print(0,\" -> \",m+n)\n",
    "        top_images_by_nc_n = np.array(top_images_by_nc[:n+m])\n",
    "        top_labels_by_nc_n = np.array(top_labels_by_nc[:n+m])\n",
    "    image_sets_nc.append(top_images_by_nc_n)\n",
    "    label_sets_nc.append(top_labels_by_nc_n)\n",
    "    print(len(top_images_by_nc_n))\n",
    "    n += m\n",
    "\n",
    "\n"
   ]
  },
  {
   "cell_type": "code",
   "execution_count": 173,
   "id": "0a65e301",
   "metadata": {},
   "outputs": [
    {
     "name": "stdout",
     "output_type": "stream",
     "text": [
      "C:/Users/fjdur/Documents/upc-july/models/models2\n",
      "0 :\n",
      "Model loaded correctly\n",
      "Model compiled\n",
      "1 :\n",
      "Model loaded correctly\n",
      "Model compiled\n",
      "2 :\n",
      "Model loaded correctly\n",
      "Model compiled\n",
      "3 :\n",
      "Model loaded correctly\n",
      "Model compiled\n",
      "4 :\n",
      "Model loaded correctly\n",
      "Model compiled\n",
      "5 :\n",
      "Model loaded correctly\n",
      "Model compiled\n",
      "6 :\n",
      "Model loaded correctly\n",
      "Model compiled\n",
      "7 :\n",
      "Model loaded correctly\n",
      "Model compiled\n",
      "8 :\n",
      "Model loaded correctly\n",
      "Model compiled\n",
      "9 :\n",
      "Model loaded correctly\n",
      "Model compiled\n",
      "10 :\n",
      "Model loaded correctly\n",
      "Model compiled\n",
      "11 :\n",
      "Model loaded correctly\n",
      "Model compiled\n",
      "12 :\n",
      "Model loaded correctly\n",
      "Model compiled\n",
      "13 :\n",
      "Model loaded correctly\n",
      "Model compiled\n",
      "14 :\n",
      "Model loaded correctly\n",
      "Model compiled\n",
      "15 :\n",
      "Model loaded correctly\n",
      "Model compiled\n",
      "16 :\n",
      "Model loaded correctly\n",
      "Model compiled\n",
      "17 :\n",
      "Model loaded correctly\n",
      "Model compiled\n",
      "18 :\n",
      "Model loaded correctly\n",
      "Model compiled\n",
      "19 :\n",
      "Model loaded correctly\n",
      "Model compiled\n"
     ]
    }
   ],
   "source": [
    "print(model_dir)\n",
    "\n",
    "models_nc = []\n",
    "for i in range(len(label_sets_nc)):\n",
    "    print(i,\":\")\n",
    "    model = utils.My_model(dataset,True,model_dir)\n",
    "    model.compile_model()\n",
    "    models_nc.append(model)\n"
   ]
  },
  {
   "cell_type": "code",
   "execution_count": 174,
   "id": "df0b6c8f",
   "metadata": {},
   "outputs": [
    {
     "name": "stdout",
     "output_type": "stream",
     "text": [
      "0\n",
      "Epoch 1/10\n",
      "44/44 [==============================] - 10s 207ms/step - loss: 0.1327 - accuracy: 0.9688 - val_loss: 0.0450 - val_accuracy: 0.9859\n",
      "Epoch 2/10\n",
      "44/44 [==============================] - 9s 204ms/step - loss: 0.0631 - accuracy: 0.9820 - val_loss: 0.0440 - val_accuracy: 0.9869\n",
      "Epoch 3/10\n",
      "44/44 [==============================] - 10s 221ms/step - loss: 0.0613 - accuracy: 0.9836 - val_loss: 0.3275 - val_accuracy: 0.9789\n",
      "Epoch 4/10\n",
      "44/44 [==============================] - 11s 263ms/step - loss: 0.0636 - accuracy: 0.9887 - val_loss: 0.0653 - val_accuracy: 0.9826\n",
      "Epoch 5/10\n",
      "44/44 [==============================] - 11s 250ms/step - loss: 0.0434 - accuracy: 0.9867 - val_loss: 0.0434 - val_accuracy: 0.9876\n",
      "Epoch 6/10\n",
      "44/44 [==============================] - 12s 269ms/step - loss: 0.0316 - accuracy: 0.9902 - val_loss: 0.0531 - val_accuracy: 0.9855\n",
      "Epoch 7/10\n",
      "44/44 [==============================] - 11s 245ms/step - loss: 0.0400 - accuracy: 0.9872 - val_loss: 0.0998 - val_accuracy: 0.9811\n",
      "Epoch 8/10\n",
      "44/44 [==============================] - 11s 262ms/step - loss: 0.0536 - accuracy: 0.9864 - val_loss: 0.0527 - val_accuracy: 0.9857\n",
      "Epoch 9/10\n",
      "44/44 [==============================] - 10s 232ms/step - loss: 0.0324 - accuracy: 0.9894 - val_loss: 0.0467 - val_accuracy: 0.9872\n",
      "Epoch 10/10\n",
      "44/44 [==============================] - 10s 228ms/step - loss: 0.0258 - accuracy: 0.9924 - val_loss: 0.0629 - val_accuracy: 0.9826\n",
      "Duration: 0:01:45.101261\n"
     ]
    }
   ],
   "source": [
    "n=0\n",
    "print(n)\n",
    "\n",
    "models_nc[n].fit_model(image_sets_nc[n],label_sets_nc[n],x_val,y_val,epochs=10,batch_size = 64)\n",
    "n = n+1"
   ]
  },
  {
   "cell_type": "code",
   "execution_count": 175,
   "id": "0f4f3f4b",
   "metadata": {},
   "outputs": [
    {
     "name": "stdout",
     "output_type": "stream",
     "text": [
      "1\n",
      "Epoch 1/10\n",
      "88/88 [==============================] - 16s 163ms/step - loss: 0.0996 - accuracy: 0.9723 - val_loss: 0.0582 - val_accuracy: 0.9859\n",
      "Epoch 2/10\n",
      "88/88 [==============================] - 14s 164ms/step - loss: 0.0752 - accuracy: 0.9837 - val_loss: 0.0565 - val_accuracy: 0.9833\n",
      "Epoch 3/10\n",
      "88/88 [==============================] - 14s 164ms/step - loss: 0.0486 - accuracy: 0.9846 - val_loss: 0.0432 - val_accuracy: 0.9879\n",
      "Epoch 4/10\n",
      "88/88 [==============================] - 14s 164ms/step - loss: 0.0497 - accuracy: 0.9876 - val_loss: 0.0575 - val_accuracy: 0.9847\n",
      "Epoch 5/10\n",
      "88/88 [==============================] - 14s 164ms/step - loss: 0.0434 - accuracy: 0.9876 - val_loss: 0.0666 - val_accuracy: 0.9828\n",
      "Epoch 6/10\n",
      "88/88 [==============================] - 15s 176ms/step - loss: 0.0420 - accuracy: 0.9886 - val_loss: 0.0469 - val_accuracy: 0.9875\n",
      "Epoch 7/10\n",
      "88/88 [==============================] - 15s 167ms/step - loss: 0.0440 - accuracy: 0.9885 - val_loss: 0.0753 - val_accuracy: 0.9831\n",
      "Epoch 8/10\n",
      "88/88 [==============================] - 17s 191ms/step - loss: 0.0331 - accuracy: 0.9899 - val_loss: 0.0504 - val_accuracy: 0.9872\n",
      "Epoch 9/10\n",
      "88/88 [==============================] - 14s 165ms/step - loss: 0.0292 - accuracy: 0.9923 - val_loss: 0.0579 - val_accuracy: 0.9839\n",
      "Epoch 10/10\n",
      "88/88 [==============================] - 15s 167ms/step - loss: 0.0360 - accuracy: 0.9879 - val_loss: 0.1552 - val_accuracy: 0.9676\n",
      "Duration: 0:02:29.251654\n"
     ]
    }
   ],
   "source": [
    "print(n)\n",
    "models_nc[n].fit_model(image_sets_nc[n],label_sets_nc[n],x_val,y_val,epochs=10,batch_size = 64)\n",
    "n = n+1"
   ]
  },
  {
   "cell_type": "code",
   "execution_count": 176,
   "id": "5f72b7a3",
   "metadata": {},
   "outputs": [
    {
     "name": "stdout",
     "output_type": "stream",
     "text": [
      "2\n",
      "Epoch 1/10\n",
      "132/132 [==============================] - 21s 145ms/step - loss: 0.0918 - accuracy: 0.9758 - val_loss: 0.0656 - val_accuracy: 0.9817\n",
      "Epoch 2/10\n",
      "132/132 [==============================] - 19s 146ms/step - loss: 0.0664 - accuracy: 0.9833 - val_loss: 0.0489 - val_accuracy: 0.9870\n",
      "Epoch 3/10\n",
      "132/132 [==============================] - 19s 147ms/step - loss: 0.0611 - accuracy: 0.9836 - val_loss: 0.0613 - val_accuracy: 0.9829\n",
      "Epoch 4/10\n",
      "132/132 [==============================] - 19s 146ms/step - loss: 0.0584 - accuracy: 0.9854 - val_loss: 0.0601 - val_accuracy: 0.9834\n",
      "Epoch 5/10\n",
      "132/132 [==============================] - 19s 146ms/step - loss: 0.0426 - accuracy: 0.9883 - val_loss: 0.1828 - val_accuracy: 0.9600\n",
      "Epoch 6/10\n",
      "132/132 [==============================] - 21s 157ms/step - loss: 0.0435 - accuracy: 0.9893 - val_loss: 0.0961 - val_accuracy: 0.9754\n",
      "Epoch 7/10\n",
      "132/132 [==============================] - 21s 161ms/step - loss: 0.0303 - accuracy: 0.9907 - val_loss: 0.1277 - val_accuracy: 0.9796\n",
      "Epoch 8/10\n",
      "132/132 [==============================] - 21s 161ms/step - loss: 0.0386 - accuracy: 0.9892 - val_loss: 0.0863 - val_accuracy: 0.9769\n",
      "Epoch 9/10\n",
      "132/132 [==============================] - 21s 163ms/step - loss: 0.0432 - accuracy: 0.9908 - val_loss: 0.1592 - val_accuracy: 0.9597\n",
      "Epoch 10/10\n",
      "132/132 [==============================] - 21s 162ms/step - loss: 0.0393 - accuracy: 0.9879 - val_loss: 0.1119 - val_accuracy: 0.9719\n",
      "Duration: 0:03:23.790628\n"
     ]
    }
   ],
   "source": [
    "print(n)\n",
    "models_nc[n].fit_model(image_sets_nc[n],label_sets_nc[n],x_val,y_val,epochs=10,batch_size = 64)\n",
    "n = n+1"
   ]
  },
  {
   "cell_type": "code",
   "execution_count": 177,
   "id": "08f19179",
   "metadata": {},
   "outputs": [
    {
     "name": "stdout",
     "output_type": "stream",
     "text": [
      "3\n",
      "Epoch 1/10\n",
      "175/175 [==============================] - 29s 153ms/step - loss: 0.0953 - accuracy: 0.9822 - val_loss: 0.0600 - val_accuracy: 0.9841\n",
      "Epoch 2/10\n",
      "175/175 [==============================] - 26s 151ms/step - loss: 0.0700 - accuracy: 0.9833 - val_loss: 0.0555 - val_accuracy: 0.9848\n",
      "Epoch 3/10\n",
      "175/175 [==============================] - 27s 152ms/step - loss: 0.0547 - accuracy: 0.9854 - val_loss: 0.0465 - val_accuracy: 0.9871\n",
      "Epoch 4/10\n",
      "175/175 [==============================] - 27s 152ms/step - loss: 0.0611 - accuracy: 0.9847 - val_loss: 0.0833 - val_accuracy: 0.9785\n",
      "Epoch 5/10\n",
      "175/175 [==============================] - 26s 152ms/step - loss: 0.0518 - accuracy: 0.9870 - val_loss: 0.0639 - val_accuracy: 0.9811\n",
      "Epoch 6/10\n",
      "175/175 [==============================] - 27s 154ms/step - loss: 0.0489 - accuracy: 0.9871 - val_loss: 0.0730 - val_accuracy: 0.9789\n",
      "Epoch 7/10\n",
      "175/175 [==============================] - 27s 156ms/step - loss: 0.0482 - accuracy: 0.9881 - val_loss: 0.0681 - val_accuracy: 0.9804\n",
      "Epoch 8/10\n",
      "175/175 [==============================] - 27s 153ms/step - loss: 0.0334 - accuracy: 0.9923 - val_loss: 0.0828 - val_accuracy: 0.9774\n",
      "Epoch 9/10\n",
      "175/175 [==============================] - 27s 152ms/step - loss: 0.0402 - accuracy: 0.9899 - val_loss: 0.1257 - val_accuracy: 0.9714\n",
      "Epoch 10/10\n",
      "175/175 [==============================] - 27s 154ms/step - loss: 0.0334 - accuracy: 0.9905 - val_loss: 0.0974 - val_accuracy: 0.9751\n",
      "Duration: 0:04:29.335384\n"
     ]
    }
   ],
   "source": [
    "print(n)\n",
    "models_nc[n].fit_model(image_sets_nc[n],label_sets_nc[n],x_val,y_val,epochs=10,batch_size = 64)\n",
    "n = n+1"
   ]
  },
  {
   "cell_type": "code",
   "execution_count": 178,
   "id": "bf71df4f",
   "metadata": {},
   "outputs": [
    {
     "name": "stdout",
     "output_type": "stream",
     "text": [
      "4\n",
      "Epoch 1/10\n",
      "219/219 [==============================] - 36s 154ms/step - loss: 0.0761 - accuracy: 0.9843 - val_loss: 0.0593 - val_accuracy: 0.9841\n",
      "Epoch 2/10\n",
      "219/219 [==============================] - 34s 155ms/step - loss: 0.0517 - accuracy: 0.9862 - val_loss: 0.0631 - val_accuracy: 0.9839\n",
      "Epoch 3/10\n",
      "219/219 [==============================] - 34s 155ms/step - loss: 0.0536 - accuracy: 0.9867 - val_loss: 0.0804 - val_accuracy: 0.9774\n",
      "Epoch 4/10\n",
      "219/219 [==============================] - 34s 154ms/step - loss: 0.0493 - accuracy: 0.9871 - val_loss: 0.0728 - val_accuracy: 0.9815\n",
      "Epoch 5/10\n",
      "219/219 [==============================] - 34s 157ms/step - loss: 0.0514 - accuracy: 0.9867 - val_loss: 0.0587 - val_accuracy: 0.9839\n",
      "Epoch 6/10\n",
      "219/219 [==============================] - 35s 159ms/step - loss: 0.0448 - accuracy: 0.9897 - val_loss: 0.1229 - val_accuracy: 0.9669\n",
      "Epoch 7/10\n",
      "219/219 [==============================] - 33s 149ms/step - loss: 0.0445 - accuracy: 0.9881 - val_loss: 0.0913 - val_accuracy: 0.9746\n",
      "Epoch 8/10\n",
      "219/219 [==============================] - 33s 151ms/step - loss: 0.0441 - accuracy: 0.9891 - val_loss: 0.1030 - val_accuracy: 0.9734\n",
      "Epoch 9/10\n",
      "219/219 [==============================] - 33s 152ms/step - loss: 0.0433 - accuracy: 0.9897 - val_loss: 0.1326 - val_accuracy: 0.9778\n",
      "Epoch 10/10\n",
      "219/219 [==============================] - 33s 150ms/step - loss: 0.0409 - accuracy: 0.9897 - val_loss: 0.1005 - val_accuracy: 0.9749\n",
      "Duration: 0:05:38.457645\n"
     ]
    }
   ],
   "source": [
    "print(n)#\n",
    "models_nc[n].fit_model(image_sets_nc[n],label_sets_nc[n],x_val,y_val,epochs=10,batch_size = 64)\n",
    "n = n+1"
   ]
  },
  {
   "cell_type": "code",
   "execution_count": 179,
   "id": "72c612a2",
   "metadata": {},
   "outputs": [
    {
     "name": "stdout",
     "output_type": "stream",
     "text": [
      "5\n",
      "Epoch 1/10\n",
      "263/263 [==============================] - 41s 148ms/step - loss: 0.0912 - accuracy: 0.9834 - val_loss: 0.0604 - val_accuracy: 0.9831\n",
      "Epoch 2/10\n",
      "263/263 [==============================] - 39s 147ms/step - loss: 0.0678 - accuracy: 0.9843 - val_loss: 0.0887 - val_accuracy: 0.9741\n",
      "Epoch 3/10\n",
      "263/263 [==============================] - 39s 147ms/step - loss: 0.0512 - accuracy: 0.9872 - val_loss: 0.0569 - val_accuracy: 0.9845\n",
      "Epoch 4/10\n",
      "263/263 [==============================] - 40s 153ms/step - loss: 0.0372 - accuracy: 0.9901 - val_loss: 0.1295 - val_accuracy: 0.9744\n",
      "Epoch 5/10\n",
      "263/263 [==============================] - 39s 147ms/step - loss: 0.0538 - accuracy: 0.9874 - val_loss: 0.1299 - val_accuracy: 0.9686\n",
      "Epoch 6/10\n",
      "263/263 [==============================] - 39s 147ms/step - loss: 0.0489 - accuracy: 0.9885 - val_loss: 0.1055 - val_accuracy: 0.9736\n",
      "Epoch 7/10\n",
      "263/263 [==============================] - 38s 146ms/step - loss: 0.0440 - accuracy: 0.9897 - val_loss: 0.0979 - val_accuracy: 0.9763\n",
      "Epoch 8/10\n",
      "263/263 [==============================] - 38s 146ms/step - loss: 0.0434 - accuracy: 0.9889 - val_loss: 0.1035 - val_accuracy: 0.9728\n",
      "Epoch 9/10\n",
      "263/263 [==============================] - 39s 147ms/step - loss: 0.0450 - accuracy: 0.9886 - val_loss: 0.1717 - val_accuracy: 0.9614\n",
      "Epoch 10/10\n",
      "263/263 [==============================] - 38s 146ms/step - loss: 0.0404 - accuracy: 0.9896 - val_loss: 0.1250 - val_accuracy: 0.9710\n",
      "Duration: 0:06:29.553293\n"
     ]
    }
   ],
   "source": [
    "print(n)\n",
    "models_nc[n].fit_model(image_sets_nc[n],label_sets_nc[n],x_val,y_val,epochs=10,batch_size = 64)\n",
    "n = n+1"
   ]
  },
  {
   "cell_type": "code",
   "execution_count": 180,
   "id": "534d3527",
   "metadata": {},
   "outputs": [
    {
     "name": "stdout",
     "output_type": "stream",
     "text": [
      "6\n",
      "Epoch 1/10\n",
      "307/307 [==============================] - 47s 146ms/step - loss: 0.0638 - accuracy: 0.9836 - val_loss: 0.0488 - val_accuracy: 0.9878\n",
      "Epoch 2/10\n",
      "307/307 [==============================] - 45s 147ms/step - loss: 0.0565 - accuracy: 0.9863 - val_loss: 0.0904 - val_accuracy: 0.9789\n",
      "Epoch 3/10\n",
      "307/307 [==============================] - 45s 146ms/step - loss: 0.0542 - accuracy: 0.9853 - val_loss: 0.0536 - val_accuracy: 0.9852\n",
      "Epoch 4/10\n",
      "307/307 [==============================] - 45s 147ms/step - loss: 0.0560 - accuracy: 0.9869 - val_loss: 0.1624 - val_accuracy: 0.9750\n",
      "Epoch 5/10\n",
      "307/307 [==============================] - 45s 146ms/step - loss: 0.0527 - accuracy: 0.9869 - val_loss: 0.1672 - val_accuracy: 0.9531\n",
      "Epoch 6/10\n",
      "307/307 [==============================] - 45s 146ms/step - loss: 0.0531 - accuracy: 0.9878 - val_loss: 0.1496 - val_accuracy: 0.9618\n",
      "Epoch 7/10\n",
      "307/307 [==============================] - 45s 147ms/step - loss: 0.0540 - accuracy: 0.9866 - val_loss: 0.1001 - val_accuracy: 0.9743\n",
      "Epoch 8/10\n",
      "307/307 [==============================] - 45s 146ms/step - loss: 0.0556 - accuracy: 0.9878 - val_loss: 0.1752 - val_accuracy: 0.9650\n",
      "Epoch 9/10\n",
      "307/307 [==============================] - 45s 146ms/step - loss: 0.0516 - accuracy: 0.9883 - val_loss: 0.2160 - val_accuracy: 0.9355\n",
      "Epoch 10/10\n",
      "307/307 [==============================] - 45s 146ms/step - loss: 0.0594 - accuracy: 0.9880 - val_loss: 0.2603 - val_accuracy: 0.9514\n",
      "Duration: 0:07:31.111855\n"
     ]
    }
   ],
   "source": [
    "print(n)\n",
    "models_nc[n].fit_model(image_sets_nc[n],label_sets_nc[n],x_val,y_val,epochs=10,batch_size = 64)\n",
    "n = n+1"
   ]
  },
  {
   "cell_type": "code",
   "execution_count": 181,
   "id": "1266750b",
   "metadata": {},
   "outputs": [
    {
     "name": "stdout",
     "output_type": "stream",
     "text": [
      "7\n",
      "Epoch 1/10\n",
      "350/350 [==============================] - 52s 142ms/step - loss: 0.0662 - accuracy: 0.9830 - val_loss: 0.0636 - val_accuracy: 0.9831\n",
      "Epoch 2/10\n",
      "350/350 [==============================] - 50s 142ms/step - loss: 0.0593 - accuracy: 0.9849 - val_loss: 0.0542 - val_accuracy: 0.9868\n",
      "Epoch 3/10\n",
      "350/350 [==============================] - 50s 142ms/step - loss: 0.0572 - accuracy: 0.9868 - val_loss: 0.0731 - val_accuracy: 0.9845\n",
      "Epoch 4/10\n",
      "350/350 [==============================] - 49s 141ms/step - loss: 0.0490 - accuracy: 0.9868 - val_loss: 0.1603 - val_accuracy: 0.9689\n",
      "Epoch 5/10\n",
      "350/350 [==============================] - 49s 141ms/step - loss: 0.0562 - accuracy: 0.9876 - val_loss: 0.1318 - val_accuracy: 0.9749\n",
      "Epoch 6/10\n",
      "350/350 [==============================] - 50s 142ms/step - loss: 0.0479 - accuracy: 0.9879 - val_loss: 0.1210 - val_accuracy: 0.9696\n",
      "Epoch 7/10\n",
      "350/350 [==============================] - 49s 141ms/step - loss: 0.0617 - accuracy: 0.9863 - val_loss: 0.1541 - val_accuracy: 0.9653\n",
      "Epoch 8/10\n",
      "350/350 [==============================] - 49s 141ms/step - loss: 0.0530 - accuracy: 0.9879 - val_loss: 0.1523 - val_accuracy: 0.9652\n",
      "Epoch 9/10\n",
      "350/350 [==============================] - 50s 144ms/step - loss: 0.0526 - accuracy: 0.9870 - val_loss: 0.3252 - val_accuracy: 0.9446\n",
      "Epoch 10/10\n",
      "350/350 [==============================] - 49s 141ms/step - loss: 0.0521 - accuracy: 0.9875 - val_loss: 0.2387 - val_accuracy: 0.9417\n",
      "Duration: 0:08:17.900511\n"
     ]
    }
   ],
   "source": [
    "print(n)\n",
    "models_nc[n].fit_model(image_sets_nc[n],label_sets_nc[n],x_val,y_val,epochs=10,batch_size = 64)\n",
    "n = n+1"
   ]
  },
  {
   "cell_type": "code",
   "execution_count": 182,
   "id": "28f83db6",
   "metadata": {},
   "outputs": [
    {
     "name": "stdout",
     "output_type": "stream",
     "text": [
      "8\n",
      "Epoch 1/10\n",
      "394/394 [==============================] - 58s 144ms/step - loss: 0.0807 - accuracy: 0.9829 - val_loss: 0.0609 - val_accuracy: 0.9865\n",
      "Epoch 2/10\n",
      "394/394 [==============================] - 56s 143ms/step - loss: 0.0573 - accuracy: 0.9863 - val_loss: 0.1170 - val_accuracy: 0.9716\n",
      "Epoch 3/10\n",
      "394/394 [==============================] - 56s 143ms/step - loss: 0.0591 - accuracy: 0.9846 - val_loss: 0.0888 - val_accuracy: 0.9812\n",
      "Epoch 4/10\n",
      "394/394 [==============================] - 57s 143ms/step - loss: 0.0615 - accuracy: 0.9852 - val_loss: 0.0802 - val_accuracy: 0.9803\n",
      "Epoch 5/10\n",
      "394/394 [==============================] - 56s 143ms/step - loss: 0.0584 - accuracy: 0.9863 - val_loss: 0.0994 - val_accuracy: 0.9791\n",
      "Epoch 6/10\n",
      "394/394 [==============================] - 57s 144ms/step - loss: 0.0500 - accuracy: 0.9872 - val_loss: 0.1712 - val_accuracy: 0.9784\n",
      "Epoch 7/10\n",
      "394/394 [==============================] - 56s 143ms/step - loss: 0.0542 - accuracy: 0.9870 - val_loss: 0.2640 - val_accuracy: 0.9761\n",
      "Epoch 8/10\n",
      "394/394 [==============================] - 57s 144ms/step - loss: 0.0603 - accuracy: 0.9861 - val_loss: 0.1103 - val_accuracy: 0.9786\n",
      "Epoch 9/10\n",
      "394/394 [==============================] - 57s 144ms/step - loss: 0.0599 - accuracy: 0.9854 - val_loss: 0.3415 - val_accuracy: 0.9705\n",
      "Epoch 10/10\n",
      "394/394 [==============================] - 57s 144ms/step - loss: 0.0568 - accuracy: 0.9860 - val_loss: 0.1874 - val_accuracy: 0.9676\n",
      "Duration: 0:09:27.206707\n"
     ]
    }
   ],
   "source": [
    "print(n)\n",
    "models_nc[n].fit_model(image_sets_nc[n],label_sets_nc[n],x_val,y_val,epochs=10,batch_size = 64)\n",
    "n = n+1"
   ]
  },
  {
   "cell_type": "code",
   "execution_count": 183,
   "id": "0b788eac",
   "metadata": {},
   "outputs": [
    {
     "name": "stdout",
     "output_type": "stream",
     "text": [
      "9\n",
      "Epoch 1/10\n",
      "438/438 [==============================] - 65s 143ms/step - loss: 0.0738 - accuracy: 0.9820 - val_loss: 0.0628 - val_accuracy: 0.9826\n",
      "Epoch 2/10\n",
      "438/438 [==============================] - 62s 142ms/step - loss: 0.0682 - accuracy: 0.9845 - val_loss: 0.0833 - val_accuracy: 0.9841\n",
      "Epoch 3/10\n",
      "438/438 [==============================] - 62s 142ms/step - loss: 0.0641 - accuracy: 0.9832 - val_loss: 0.0870 - val_accuracy: 0.9786\n",
      "Epoch 4/10\n",
      "438/438 [==============================] - 62s 142ms/step - loss: 0.0575 - accuracy: 0.9851 - val_loss: 0.0901 - val_accuracy: 0.9784\n",
      "Epoch 5/10\n",
      "438/438 [==============================] - 62s 142ms/step - loss: 0.0615 - accuracy: 0.9851 - val_loss: 0.0720 - val_accuracy: 0.9824\n",
      "Epoch 6/10\n",
      "438/438 [==============================] - 63s 143ms/step - loss: 0.0569 - accuracy: 0.9871 - val_loss: 0.0940 - val_accuracy: 0.9768\n",
      "Epoch 7/10\n",
      "438/438 [==============================] - 62s 142ms/step - loss: 0.0596 - accuracy: 0.9845 - val_loss: 0.2777 - val_accuracy: 0.9540\n",
      "Epoch 8/10\n",
      "438/438 [==============================] - 62s 142ms/step - loss: 0.0660 - accuracy: 0.9853 - val_loss: 0.2279 - val_accuracy: 0.9633\n",
      "Epoch 9/10\n",
      "438/438 [==============================] - 62s 142ms/step - loss: 0.0656 - accuracy: 0.9850 - val_loss: 0.1110 - val_accuracy: 0.9721\n",
      "Epoch 10/10\n",
      "438/438 [==============================] - 63s 143ms/step - loss: 0.0669 - accuracy: 0.9856 - val_loss: 0.1209 - val_accuracy: 0.9764\n",
      "Duration: 0:10:25.343680\n"
     ]
    }
   ],
   "source": [
    "print(n)#\n",
    "models_nc[n].fit_model(image_sets_nc[n],label_sets_nc[n],x_val,y_val,epochs=10,batch_size = 64)\n",
    "n = n+1"
   ]
  },
  {
   "cell_type": "code",
   "execution_count": 184,
   "id": "b73a982c",
   "metadata": {},
   "outputs": [
    {
     "name": "stdout",
     "output_type": "stream",
     "text": [
      "10\n",
      "Epoch 1/10\n",
      "482/482 [==============================] - 70s 142ms/step - loss: 0.0805 - accuracy: 0.9815 - val_loss: 0.0595 - val_accuracy: 0.9860\n",
      "Epoch 2/10\n",
      "482/482 [==============================] - 69s 142ms/step - loss: 0.0691 - accuracy: 0.9828 - val_loss: 0.0593 - val_accuracy: 0.9839\n",
      "Epoch 3/10\n",
      "482/482 [==============================] - 69s 143ms/step - loss: 0.0618 - accuracy: 0.9842 - val_loss: 0.0567 - val_accuracy: 0.9856\n",
      "Epoch 4/10\n",
      "482/482 [==============================] - 68s 142ms/step - loss: 0.0599 - accuracy: 0.9847 - val_loss: 0.2335 - val_accuracy: 0.9632\n",
      "Epoch 5/10\n",
      "482/482 [==============================] - 69s 143ms/step - loss: 0.0674 - accuracy: 0.9826 - val_loss: 0.0624 - val_accuracy: 0.9835\n",
      "Epoch 6/10\n",
      "482/482 [==============================] - 68s 142ms/step - loss: 0.0662 - accuracy: 0.9835 - val_loss: 0.0711 - val_accuracy: 0.9832\n",
      "Epoch 7/10\n",
      "482/482 [==============================] - 69s 144ms/step - loss: 0.0683 - accuracy: 0.9846 - val_loss: 0.0943 - val_accuracy: 0.9788\n",
      "Epoch 8/10\n",
      "482/482 [==============================] - 62s 128ms/step - loss: 0.0697 - accuracy: 0.9838 - val_loss: 0.1093 - val_accuracy: 0.9821\n",
      "Epoch 9/10\n",
      "482/482 [==============================] - 62s 128ms/step - loss: 0.0692 - accuracy: 0.9831 - val_loss: 0.1436 - val_accuracy: 0.9755\n",
      "Epoch 10/10\n",
      "482/482 [==============================] - 61s 127ms/step - loss: 0.0649 - accuracy: 0.9846 - val_loss: 0.0934 - val_accuracy: 0.9779\n",
      "Duration: 0:11:07.893295\n"
     ]
    }
   ],
   "source": [
    "print(n)\n",
    "models_nc[n].fit_model(image_sets_nc[n],label_sets_nc[n],x_val,y_val,epochs=10,batch_size = 64)\n",
    "n = n+1"
   ]
  },
  {
   "cell_type": "code",
   "execution_count": 185,
   "id": "b9367822",
   "metadata": {},
   "outputs": [
    {
     "name": "stdout",
     "output_type": "stream",
     "text": [
      "11\n",
      "Epoch 1/10\n",
      "525/525 [==============================] - 68s 126ms/step - loss: 0.0797 - accuracy: 0.9797 - val_loss: 0.0507 - val_accuracy: 0.9861\n",
      "Epoch 2/10\n",
      "525/525 [==============================] - 67s 127ms/step - loss: 0.0744 - accuracy: 0.9814 - val_loss: 0.0528 - val_accuracy: 0.9874\n",
      "Epoch 3/10\n",
      "525/525 [==============================] - 66s 126ms/step - loss: 0.0763 - accuracy: 0.9841 - val_loss: 0.0584 - val_accuracy: 0.9841\n",
      "Epoch 4/10\n",
      "525/525 [==============================] - 66s 125ms/step - loss: 0.0605 - accuracy: 0.9846 - val_loss: 0.0648 - val_accuracy: 0.9854\n",
      "Epoch 5/10\n",
      "525/525 [==============================] - 66s 125ms/step - loss: 0.0799 - accuracy: 0.9821 - val_loss: 0.1057 - val_accuracy: 0.9816\n",
      "Epoch 6/10\n",
      "525/525 [==============================] - 67s 128ms/step - loss: 0.0663 - accuracy: 0.9840 - val_loss: 0.0733 - val_accuracy: 0.9819\n",
      "Epoch 7/10\n",
      "525/525 [==============================] - 66s 126ms/step - loss: 0.0769 - accuracy: 0.9823 - val_loss: 0.0969 - val_accuracy: 0.9809\n",
      "Epoch 8/10\n",
      "525/525 [==============================] - 66s 125ms/step - loss: 0.0714 - accuracy: 0.9845 - val_loss: 0.1125 - val_accuracy: 0.9736\n",
      "Epoch 9/10\n",
      "525/525 [==============================] - 66s 125ms/step - loss: 0.0670 - accuracy: 0.9840 - val_loss: 0.0872 - val_accuracy: 0.9820\n",
      "Epoch 10/10\n",
      "525/525 [==============================] - 66s 125ms/step - loss: 0.0742 - accuracy: 0.9829 - val_loss: 0.0775 - val_accuracy: 0.9822\n",
      "Duration: 0:11:02.233116\n"
     ]
    }
   ],
   "source": [
    "print(n)\n",
    "models_nc[n].fit_model(image_sets_nc[n],label_sets_nc[n],x_val,y_val,epochs=10,batch_size = 64)\n",
    "n = n+1"
   ]
  },
  {
   "cell_type": "code",
   "execution_count": 186,
   "id": "6c7fcec4",
   "metadata": {},
   "outputs": [
    {
     "name": "stdout",
     "output_type": "stream",
     "text": [
      "12\n",
      "Epoch 1/10\n",
      "569/569 [==============================] - 75s 129ms/step - loss: 0.0815 - accuracy: 0.9802 - val_loss: 0.0709 - val_accuracy: 0.9858\n",
      "Epoch 2/10\n",
      "569/569 [==============================] - 73s 129ms/step - loss: 0.0700 - accuracy: 0.9831 - val_loss: 0.0599 - val_accuracy: 0.9846\n",
      "Epoch 3/10\n",
      "569/569 [==============================] - 74s 130ms/step - loss: 0.0723 - accuracy: 0.9828 - val_loss: 0.1211 - val_accuracy: 0.9761\n",
      "Epoch 4/10\n",
      "569/569 [==============================] - 74s 129ms/step - loss: 0.0688 - accuracy: 0.9833 - val_loss: 0.0639 - val_accuracy: 0.9843\n",
      "Epoch 5/10\n",
      "569/569 [==============================] - 74s 130ms/step - loss: 0.0717 - accuracy: 0.9831 - val_loss: 0.0700 - val_accuracy: 0.9826\n",
      "Epoch 6/10\n",
      "569/569 [==============================] - 74s 130ms/step - loss: 0.0669 - accuracy: 0.9850 - val_loss: 0.1402 - val_accuracy: 0.9744\n",
      "Epoch 7/10\n",
      "569/569 [==============================] - 73s 129ms/step - loss: 0.0689 - accuracy: 0.9846 - val_loss: 0.1844 - val_accuracy: 0.9724\n",
      "Epoch 8/10\n",
      "569/569 [==============================] - 74s 129ms/step - loss: 0.0704 - accuracy: 0.9831 - val_loss: 0.1938 - val_accuracy: 0.9815\n",
      "Epoch 9/10\n",
      "569/569 [==============================] - 76s 133ms/step - loss: 0.0698 - accuracy: 0.9847 - val_loss: 0.1132 - val_accuracy: 0.9826\n",
      "Epoch 10/10\n",
      "569/569 [==============================] - 83s 146ms/step - loss: 0.0774 - accuracy: 0.9832 - val_loss: 0.1383 - val_accuracy: 0.9774\n",
      "Duration: 0:12:29.564135\n"
     ]
    }
   ],
   "source": [
    "print(n)\n",
    "models_nc[n].fit_model(image_sets_nc[n],label_sets_nc[n],x_val,y_val,epochs=10,batch_size = 64)\n",
    "n = n+1"
   ]
  },
  {
   "cell_type": "code",
   "execution_count": 187,
   "id": "9e832bba",
   "metadata": {},
   "outputs": [
    {
     "name": "stdout",
     "output_type": "stream",
     "text": [
      "13\n",
      "Epoch 1/10\n",
      "613/613 [==============================] - 90s 143ms/step - loss: 0.0943 - accuracy: 0.9793 - val_loss: 0.1261 - val_accuracy: 0.9839\n",
      "Epoch 2/10\n",
      "613/613 [==============================] - 88s 144ms/step - loss: 0.0808 - accuracy: 0.9817 - val_loss: 0.0619 - val_accuracy: 0.9846\n",
      "Epoch 3/10\n",
      "613/613 [==============================] - 88s 144ms/step - loss: 0.0762 - accuracy: 0.9826 - val_loss: 0.0679 - val_accuracy: 0.9850\n",
      "Epoch 4/10\n",
      "613/613 [==============================] - 88s 144ms/step - loss: 0.0718 - accuracy: 0.9827 - val_loss: 0.0498 - val_accuracy: 0.9861\n",
      "Epoch 5/10\n",
      "613/613 [==============================] - 88s 144ms/step - loss: 0.0705 - accuracy: 0.9830 - val_loss: 0.0655 - val_accuracy: 0.9836\n",
      "Epoch 6/10\n",
      "613/613 [==============================] - 88s 144ms/step - loss: 0.0747 - accuracy: 0.9821 - val_loss: 0.0671 - val_accuracy: 0.9854\n",
      "Epoch 7/10\n",
      "613/613 [==============================] - 88s 144ms/step - loss: 0.0775 - accuracy: 0.9821 - val_loss: 0.2003 - val_accuracy: 0.9572\n",
      "Epoch 8/10\n",
      "613/613 [==============================] - 88s 144ms/step - loss: 0.0745 - accuracy: 0.9830 - val_loss: 0.1808 - val_accuracy: 0.9686\n",
      "Epoch 9/10\n",
      "613/613 [==============================] - 88s 144ms/step - loss: 0.0797 - accuracy: 0.9828 - val_loss: 0.1160 - val_accuracy: 0.9788\n",
      "Epoch 10/10\n",
      "613/613 [==============================] - 88s 144ms/step - loss: 0.0770 - accuracy: 0.9833 - val_loss: 0.1509 - val_accuracy: 0.9717\n",
      "Duration: 0:14:43.439665\n"
     ]
    }
   ],
   "source": [
    "print(n)\n",
    "models_nc[n].fit_model(image_sets_nc[n],label_sets_nc[n],x_val,y_val,epochs=10,batch_size = 64)\n",
    "n = n+1"
   ]
  },
  {
   "cell_type": "code",
   "execution_count": 188,
   "id": "95525d5f",
   "metadata": {},
   "outputs": [
    {
     "name": "stdout",
     "output_type": "stream",
     "text": [
      "14\n",
      "Epoch 1/10\n",
      "657/657 [==============================] - 97s 144ms/step - loss: 0.0885 - accuracy: 0.9787 - val_loss: 0.0492 - val_accuracy: 0.9867\n",
      "Epoch 2/10\n",
      "657/657 [==============================] - 94s 143ms/step - loss: 0.0796 - accuracy: 0.9816 - val_loss: 0.0925 - val_accuracy: 0.9797\n",
      "Epoch 3/10\n",
      "657/657 [==============================] - 94s 143ms/step - loss: 0.0793 - accuracy: 0.9804 - val_loss: 0.0828 - val_accuracy: 0.9815\n",
      "Epoch 4/10\n",
      "657/657 [==============================] - 94s 144ms/step - loss: 0.0725 - accuracy: 0.9823 - val_loss: 0.0589 - val_accuracy: 0.9850\n",
      "Epoch 5/10\n",
      "657/657 [==============================] - 94s 143ms/step - loss: 0.0810 - accuracy: 0.9815 - val_loss: 0.0796 - val_accuracy: 0.9821\n",
      "Epoch 6/10\n",
      "657/657 [==============================] - 95s 144ms/step - loss: 0.0772 - accuracy: 0.9820 - val_loss: 0.0574 - val_accuracy: 0.9848\n",
      "Epoch 7/10\n",
      "657/657 [==============================] - 94s 143ms/step - loss: 0.0825 - accuracy: 0.9807 - val_loss: 0.3659 - val_accuracy: 0.9341\n",
      "Epoch 8/10\n",
      "657/657 [==============================] - 94s 143ms/step - loss: 0.0828 - accuracy: 0.9806 - val_loss: 0.0705 - val_accuracy: 0.9827\n",
      "Epoch 9/10\n",
      "657/657 [==============================] - 94s 144ms/step - loss: 0.0837 - accuracy: 0.9808 - val_loss: 0.1138 - val_accuracy: 0.9785\n",
      "Epoch 10/10\n",
      "657/657 [==============================] - 94s 143ms/step - loss: 0.0810 - accuracy: 0.9814 - val_loss: 0.0676 - val_accuracy: 0.9829\n",
      "Duration: 0:15:44.748862\n"
     ]
    }
   ],
   "source": [
    "print(n)#\n",
    "models_nc[n].fit_model(image_sets_nc[n],label_sets_nc[n],x_val,y_val,epochs=10,batch_size = 64)\n",
    "n = n+1"
   ]
  },
  {
   "cell_type": "code",
   "execution_count": null,
   "id": "90c55183",
   "metadata": {},
   "outputs": [],
   "source": [
    "time.sleep(400)"
   ]
  },
  {
   "cell_type": "code",
   "execution_count": 189,
   "id": "c41a1606",
   "metadata": {},
   "outputs": [
    {
     "name": "stdout",
     "output_type": "stream",
     "text": [
      "15\n",
      "Epoch 1/10\n",
      "700/700 [==============================] - 103s 144ms/step - loss: 0.0935 - accuracy: 0.9790 - val_loss: 0.0475 - val_accuracy: 0.9878\n",
      "Epoch 2/10\n",
      "700/700 [==============================] - 101s 144ms/step - loss: 0.0805 - accuracy: 0.9811 - val_loss: 0.0442 - val_accuracy: 0.9869\n",
      "Epoch 3/10\n",
      "700/700 [==============================] - 101s 144ms/step - loss: 0.0738 - accuracy: 0.9814 - val_loss: 0.0475 - val_accuracy: 0.9864\n",
      "Epoch 4/10\n",
      "700/700 [==============================] - 101s 144ms/step - loss: 0.0722 - accuracy: 0.9820 - val_loss: 0.0563 - val_accuracy: 0.9861\n",
      "Epoch 5/10\n",
      "700/700 [==============================] - 101s 145ms/step - loss: 0.0811 - accuracy: 0.9805 - val_loss: 0.0583 - val_accuracy: 0.9843\n",
      "Epoch 6/10\n",
      "700/700 [==============================] - 101s 145ms/step - loss: 0.0771 - accuracy: 0.9819 - val_loss: 0.0595 - val_accuracy: 0.9850\n",
      "Epoch 7/10\n",
      "700/700 [==============================] - 101s 144ms/step - loss: 0.0827 - accuracy: 0.9804 - val_loss: 0.6971 - val_accuracy: 0.9413\n",
      "Epoch 8/10\n",
      "700/700 [==============================] - 102s 146ms/step - loss: 0.0863 - accuracy: 0.9808 - val_loss: 0.0877 - val_accuracy: 0.9822\n",
      "Epoch 9/10\n",
      "700/700 [==============================] - 101s 144ms/step - loss: 0.0918 - accuracy: 0.9795 - val_loss: 0.0974 - val_accuracy: 0.9820\n",
      "Epoch 10/10\n",
      "700/700 [==============================] - 101s 144ms/step - loss: 0.0836 - accuracy: 0.9810 - val_loss: 0.0654 - val_accuracy: 0.9843\n",
      "Duration: 0:16:51.959919\n"
     ]
    }
   ],
   "source": [
    "print(n)\n",
    "models_nc[n].fit_model(image_sets_nc[n],label_sets_nc[n],x_val,y_val,epochs=10,batch_size = 64)\n",
    "n = n+1"
   ]
  },
  {
   "cell_type": "code",
   "execution_count": null,
   "id": "0280db18",
   "metadata": {},
   "outputs": [],
   "source": [
    "time.sleep(400)"
   ]
  },
  {
   "cell_type": "code",
   "execution_count": 190,
   "id": "c801b11d",
   "metadata": {},
   "outputs": [
    {
     "name": "stdout",
     "output_type": "stream",
     "text": [
      "16\n",
      "Epoch 1/10\n",
      "744/744 [==============================] - 109s 143ms/step - loss: 0.0925 - accuracy: 0.9779 - val_loss: 0.0591 - val_accuracy: 0.9864\n",
      "Epoch 2/10\n",
      "744/744 [==============================] - 99s 133ms/step - loss: 0.0788 - accuracy: 0.9795 - val_loss: 0.0556 - val_accuracy: 0.9872\n",
      "Epoch 3/10\n",
      "744/744 [==============================] - 99s 133ms/step - loss: 0.0807 - accuracy: 0.9808 - val_loss: 0.0801 - val_accuracy: 0.9829\n",
      "Epoch 4/10\n",
      "744/744 [==============================] - 100s 134ms/step - loss: 0.0841 - accuracy: 0.9794 - val_loss: 0.0572 - val_accuracy: 0.9861\n",
      "Epoch 5/10\n",
      "744/744 [==============================] - 99s 133ms/step - loss: 0.0840 - accuracy: 0.9804 - val_loss: 0.0620 - val_accuracy: 0.9846\n",
      "Epoch 6/10\n",
      "744/744 [==============================] - 99s 133ms/step - loss: 0.0875 - accuracy: 0.9795 - val_loss: 0.0606 - val_accuracy: 0.9856\n",
      "Epoch 7/10\n",
      "744/744 [==============================] - 101s 136ms/step - loss: 0.0811 - accuracy: 0.9804 - val_loss: 0.0838 - val_accuracy: 0.9835\n",
      "Epoch 8/10\n",
      "744/744 [==============================] - 101s 136ms/step - loss: 0.0811 - accuracy: 0.9814 - val_loss: 0.0685 - val_accuracy: 0.9849\n",
      "Epoch 9/10\n",
      "744/744 [==============================] - 99s 134ms/step - loss: 0.0800 - accuracy: 0.9815 - val_loss: 0.0620 - val_accuracy: 0.9835\n",
      "Epoch 10/10\n",
      "744/744 [==============================] - 102s 137ms/step - loss: 0.0839 - accuracy: 0.9804 - val_loss: 0.0644 - val_accuracy: 0.9849\n",
      "Duration: 0:16:48.000167\n"
     ]
    }
   ],
   "source": [
    "print(n)\n",
    "models_nc[n].fit_model(image_sets_nc[n],label_sets_nc[n],x_val,y_val,epochs=10,batch_size = 64)\n",
    "n = n+1"
   ]
  },
  {
   "cell_type": "code",
   "execution_count": null,
   "id": "bf0ab4e9",
   "metadata": {},
   "outputs": [],
   "source": [
    "time.sleep(400)"
   ]
  },
  {
   "cell_type": "code",
   "execution_count": 191,
   "id": "8a689e2d",
   "metadata": {},
   "outputs": [
    {
     "name": "stdout",
     "output_type": "stream",
     "text": [
      "17\n",
      "Epoch 1/10\n",
      "788/788 [==============================] - 107s 134ms/step - loss: 0.0870 - accuracy: 0.9798 - val_loss: 0.1654 - val_accuracy: 0.9816\n",
      "Epoch 2/10\n",
      "788/788 [==============================] - 106s 134ms/step - loss: 0.0858 - accuracy: 0.9795 - val_loss: 0.0490 - val_accuracy: 0.9864\n",
      "Epoch 3/10\n",
      "788/788 [==============================] - 106s 134ms/step - loss: 0.0864 - accuracy: 0.9791 - val_loss: 0.0564 - val_accuracy: 0.9849\n",
      "Epoch 4/10\n",
      "788/788 [==============================] - 105s 134ms/step - loss: 0.0877 - accuracy: 0.9786 - val_loss: 0.0533 - val_accuracy: 0.9854\n",
      "Epoch 5/10\n",
      "788/788 [==============================] - 105s 134ms/step - loss: 0.0797 - accuracy: 0.9794 - val_loss: 0.0713 - val_accuracy: 0.9816\n",
      "Epoch 6/10\n",
      "788/788 [==============================] - 107s 135ms/step - loss: 0.0809 - accuracy: 0.9800 - val_loss: 0.0625 - val_accuracy: 0.9847\n",
      "Epoch 7/10\n",
      "788/788 [==============================] - 105s 134ms/step - loss: 0.0878 - accuracy: 0.9784 - val_loss: 0.0629 - val_accuracy: 0.9836\n",
      "Epoch 8/10\n",
      "788/788 [==============================] - 105s 134ms/step - loss: 0.0863 - accuracy: 0.9800 - val_loss: 0.1462 - val_accuracy: 0.9775\n",
      "Epoch 9/10\n",
      "788/788 [==============================] - 107s 136ms/step - loss: 0.0851 - accuracy: 0.9808 - val_loss: 0.0636 - val_accuracy: 0.9826\n",
      "Epoch 10/10\n",
      "788/788 [==============================] - 107s 136ms/step - loss: 0.0905 - accuracy: 0.9783 - val_loss: 0.0990 - val_accuracy: 0.9816\n",
      "Duration: 0:17:40.924382\n"
     ]
    }
   ],
   "source": [
    "print(n)\n",
    "models_nc[n].fit_model(image_sets_nc[n],label_sets_nc[n],x_val,y_val,epochs=10,batch_size = 64)\n",
    "n = n+1"
   ]
  },
  {
   "cell_type": "code",
   "execution_count": null,
   "id": "117d7bfe",
   "metadata": {},
   "outputs": [],
   "source": [
    "time.sleep(400)"
   ]
  },
  {
   "cell_type": "code",
   "execution_count": 192,
   "id": "7a79f353",
   "metadata": {},
   "outputs": [
    {
     "name": "stdout",
     "output_type": "stream",
     "text": [
      "18\n",
      "Epoch 1/10\n",
      "832/832 [==============================] - 121s 144ms/step - loss: 0.1015 - accuracy: 0.9764 - val_loss: 0.0509 - val_accuracy: 0.9861\n",
      "Epoch 2/10\n",
      "832/832 [==============================] - 112s 135ms/step - loss: 0.0847 - accuracy: 0.9793 - val_loss: 0.1086 - val_accuracy: 0.9780\n",
      "Epoch 3/10\n",
      "832/832 [==============================] - 119s 144ms/step - loss: 0.0902 - accuracy: 0.9778 - val_loss: 0.1155 - val_accuracy: 0.9800\n",
      "Epoch 4/10\n",
      "832/832 [==============================] - 125s 150ms/step - loss: 0.0787 - accuracy: 0.9807 - val_loss: 0.0516 - val_accuracy: 0.9865\n",
      "Epoch 5/10\n",
      "832/832 [==============================] - 117s 141ms/step - loss: 0.0773 - accuracy: 0.9807 - val_loss: 0.0608 - val_accuracy: 0.9859\n",
      "Epoch 6/10\n",
      "832/832 [==============================] - 111s 134ms/step - loss: 0.0927 - accuracy: 0.9778 - val_loss: 0.0556 - val_accuracy: 0.9840\n",
      "Epoch 7/10\n",
      "832/832 [==============================] - 111s 134ms/step - loss: 0.0907 - accuracy: 0.9781 - val_loss: 0.0595 - val_accuracy: 0.9860\n",
      "Epoch 8/10\n",
      "832/832 [==============================] - 111s 134ms/step - loss: 0.0881 - accuracy: 0.9780 - val_loss: 0.0878 - val_accuracy: 0.9829\n",
      "Epoch 9/10\n",
      "832/832 [==============================] - 111s 134ms/step - loss: 0.0900 - accuracy: 0.9789 - val_loss: 0.0887 - val_accuracy: 0.9798\n",
      "Epoch 10/10\n",
      "832/832 [==============================] - 112s 134ms/step - loss: 0.0950 - accuracy: 0.9777 - val_loss: 0.0635 - val_accuracy: 0.9856\n",
      "Duration: 0:19:11.379895\n"
     ]
    }
   ],
   "source": [
    "print(n)\n",
    "models_nc[n].fit_model(image_sets_nc[n],label_sets_nc[n],x_val,y_val,epochs=10,batch_size = 64)\n",
    "n = n+1"
   ]
  },
  {
   "cell_type": "code",
   "execution_count": null,
   "id": "8fbbb96b",
   "metadata": {},
   "outputs": [],
   "source": [
    "time.sleep(400)"
   ]
  },
  {
   "cell_type": "code",
   "execution_count": 193,
   "id": "a19fc597",
   "metadata": {},
   "outputs": [
    {
     "name": "stdout",
     "output_type": "stream",
     "text": [
      "19\n",
      "Epoch 1/10\n",
      "875/875 [==============================] - 120s 136ms/step - loss: 0.1008 - accuracy: 0.9753 - val_loss: 0.0393 - val_accuracy: 0.9884\n",
      "Epoch 2/10\n",
      "875/875 [==============================] - 117s 134ms/step - loss: 0.0909 - accuracy: 0.9774 - val_loss: 0.0505 - val_accuracy: 0.9861\n",
      "Epoch 3/10\n",
      "875/875 [==============================] - 116s 133ms/step - loss: 0.0928 - accuracy: 0.9788 - val_loss: 0.0482 - val_accuracy: 0.9859\n",
      "Epoch 4/10\n",
      "875/875 [==============================] - 162s 185ms/step - loss: 0.0981 - accuracy: 0.9766 - val_loss: 0.0482 - val_accuracy: 0.9858\n",
      "Epoch 5/10\n",
      "875/875 [==============================] - 180s 206ms/step - loss: 0.0868 - accuracy: 0.9780 - val_loss: 0.0658 - val_accuracy: 0.9816\n",
      "Epoch 6/10\n",
      "875/875 [==============================] - 178s 204ms/step - loss: 0.0843 - accuracy: 0.9780 - val_loss: 0.0460 - val_accuracy: 0.9868\n",
      "Epoch 7/10\n",
      "875/875 [==============================] - 182s 208ms/step - loss: 0.0853 - accuracy: 0.9790 - val_loss: 0.0523 - val_accuracy: 0.9855\n",
      "Epoch 8/10\n",
      "875/875 [==============================] - 186s 212ms/step - loss: 0.0910 - accuracy: 0.9787 - val_loss: 0.0605 - val_accuracy: 0.9862\n",
      "Epoch 9/10\n",
      "875/875 [==============================] - 194s 221ms/step - loss: 0.0908 - accuracy: 0.9788 - val_loss: 0.0498 - val_accuracy: 0.9864\n",
      "Epoch 10/10\n",
      "875/875 [==============================] - 192s 220ms/step - loss: 0.0921 - accuracy: 0.9784 - val_loss: 0.0533 - val_accuracy: 0.9860\n",
      "Duration: 0:27:08.970365\n"
     ]
    }
   ],
   "source": [
    "print(n)#\n",
    "models_nc[n].fit_model(image_sets_nc[n],label_sets_nc[n],x_val,y_val,epochs=10,batch_size = 64)\n",
    "n = n+1"
   ]
  },
  {
   "cell_type": "code",
   "execution_count": 194,
   "id": "43bd398f",
   "metadata": {},
   "outputs": [
    {
     "name": "stdout",
     "output_type": "stream",
     "text": [
      "INFO:tensorflow:Assets written to: D:/models/aug_22/mnist/C2/mnist_model_c2_aug_nc_e1_0\\assets\n",
      "Model has been saved\n",
      "INFO:tensorflow:Assets written to: D:/models/aug_22/mnist/C2/mnist_model_c2_aug_nc_e1_1\\assets\n",
      "Model has been saved\n",
      "INFO:tensorflow:Assets written to: D:/models/aug_22/mnist/C2/mnist_model_c2_aug_nc_e1_2\\assets\n",
      "Model has been saved\n",
      "INFO:tensorflow:Assets written to: D:/models/aug_22/mnist/C2/mnist_model_c2_aug_nc_e1_3\\assets\n",
      "Model has been saved\n",
      "INFO:tensorflow:Assets written to: D:/models/aug_22/mnist/C2/mnist_model_c2_aug_nc_e1_4\\assets\n",
      "Model has been saved\n",
      "INFO:tensorflow:Assets written to: D:/models/aug_22/mnist/C2/mnist_model_c2_aug_nc_e1_5\\assets\n",
      "Model has been saved\n",
      "INFO:tensorflow:Assets written to: D:/models/aug_22/mnist/C2/mnist_model_c2_aug_nc_e1_6\\assets\n",
      "Model has been saved\n",
      "INFO:tensorflow:Assets written to: D:/models/aug_22/mnist/C2/mnist_model_c2_aug_nc_e1_7\\assets\n",
      "Model has been saved\n",
      "INFO:tensorflow:Assets written to: D:/models/aug_22/mnist/C2/mnist_model_c2_aug_nc_e1_8\\assets\n",
      "Model has been saved\n",
      "INFO:tensorflow:Assets written to: D:/models/aug_22/mnist/C2/mnist_model_c2_aug_nc_e1_9\\assets\n",
      "Model has been saved\n",
      "INFO:tensorflow:Assets written to: D:/models/aug_22/mnist/C2/mnist_model_c2_aug_nc_e1_10\\assets\n",
      "Model has been saved\n",
      "INFO:tensorflow:Assets written to: D:/models/aug_22/mnist/C2/mnist_model_c2_aug_nc_e1_11\\assets\n",
      "Model has been saved\n",
      "INFO:tensorflow:Assets written to: D:/models/aug_22/mnist/C2/mnist_model_c2_aug_nc_e1_12\\assets\n",
      "Model has been saved\n",
      "INFO:tensorflow:Assets written to: D:/models/aug_22/mnist/C2/mnist_model_c2_aug_nc_e1_13\\assets\n",
      "Model has been saved\n",
      "INFO:tensorflow:Assets written to: D:/models/aug_22/mnist/C2/mnist_model_c2_aug_nc_e1_14\\assets\n",
      "Model has been saved\n",
      "INFO:tensorflow:Assets written to: D:/models/aug_22/mnist/C2/mnist_model_c2_aug_nc_e1_15\\assets\n",
      "Model has been saved\n",
      "INFO:tensorflow:Assets written to: D:/models/aug_22/mnist/C2/mnist_model_c2_aug_nc_e1_16\\assets\n",
      "Model has been saved\n",
      "INFO:tensorflow:Assets written to: D:/models/aug_22/mnist/C2/mnist_model_c2_aug_nc_e1_17\\assets\n",
      "Model has been saved\n",
      "INFO:tensorflow:Assets written to: D:/models/aug_22/mnist/C2/mnist_model_c2_aug_nc_e1_18\\assets\n",
      "Model has been saved\n",
      "INFO:tensorflow:Assets written to: D:/models/aug_22/mnist/C2/mnist_model_c2_aug_nc_e1_19\\assets\n",
      "Model has been saved\n"
     ]
    }
   ],
   "source": [
    "new_model_nc_dir  = \"D:/models/aug_22/\"+dataset+\"/C2/\"+dataset+\"_model_c2_aug_nc_e1\"\n",
    "\n",
    "i=0\n",
    "\n",
    "for model in models_nc:\n",
    "    model.save(new_model_nc_dir+\"_\"+str(i))\n",
    "    i+=1"
   ]
  },
  {
   "cell_type": "code",
   "execution_count": null,
   "id": "7931428f",
   "metadata": {},
   "outputs": [],
   "source": [
    "loading = False\n",
    "\n",
    "models_nc = []\n",
    "\n",
    "if loading:\n",
    "    for i in range(20):\n",
    "        model_nc_dir = \"D:/models/aug_22/gtsrb/C1/gtsrb_model_c1_aug_nc_e1\"+str(i)\n",
    "        print(model_nc_dir)\n",
    "        model =utils.My_model(dataset,True,model_nc_dir)\n",
    "        model.model.compile(loss= 'categorical_crossentropy', optimizer = 'rmsprop', metrics = ['accuracy',tf.keras.metrics.Precision(), tf.keras.metrics.Recall()])\n",
    "        models_nc.append(model)\n",
    "       "
   ]
  },
  {
   "cell_type": "code",
   "execution_count": 195,
   "id": "47e2faf4",
   "metadata": {},
   "outputs": [],
   "source": [
    "try:\n",
    "    del nc_values\n",
    "    del top_images_by_nc\n",
    "    del top_labels_by_nc\n",
    "    del image_sets_nc\n",
    "    del label_sets_nc\n",
    "    del models_nc\n",
    "except:\n",
    "    print(\"Error\")"
   ]
  },
  {
   "cell_type": "code",
   "execution_count": 196,
   "id": "98f93725",
   "metadata": {},
   "outputs": [
    {
     "data": {
      "text/plain": [
       "263449"
      ]
     },
     "execution_count": 196,
     "metadata": {},
     "output_type": "execute_result"
    }
   ],
   "source": [
    "gc.collect()"
   ]
  },
  {
   "cell_type": "markdown",
   "id": "2b428980",
   "metadata": {},
   "source": [
    "## Evaluating"
   ]
  },
  {
   "cell_type": "code",
   "execution_count": null,
   "id": "e6300f23",
   "metadata": {},
   "outputs": [],
   "source": [
    "model_original.model.compile(loss= 'categorical_crossentropy', optimizer = 'rmsprop', metrics = ['accuracy',tf.keras.metrics.Precision(), tf.keras.metrics.Recall()])"
   ]
  },
  {
   "cell_type": "code",
   "execution_count": null,
   "id": "fd074ff2",
   "metadata": {},
   "outputs": [],
   "source": [
    "# Metrics using adversarial test\n",
    "evaluate_lsa_0 = []\n",
    "evaluate_dsa_0 = []\n",
    "evaluate_nc_0 = []\n",
    "evaluate_random_0 = []\n",
    "\n",
    "evaluate_lsa_0.append(model_original.evaluate(x_adversary_test_fgsm,y_adversary_test_fgsm))\n",
    "evaluate_dsa_0.append(model_original.evaluate(x_adversary_test_fgsm,y_adversary_test_fgsm))\n",
    "evaluate_nc_0.append(model_original.evaluate(x_adversary_test_fgsm,y_adversary_test_fgsm))\n",
    "evaluate_random_0.append(model_original.evaluate(x_adversary_test_fgsm,y_adversary_test_fgsm))\n",
    "\n",
    "for model in models_lsa:\n",
    "    evaluate_lsa_0.append(model.evaluate(x_adversary_test_fgsm,y_adversary_test_fgsm))\n",
    "    \n",
    "for model in models_dsa:\n",
    "    evaluate_dsa_0.append(model.evaluate(x_adversary_test_fgsm,y_adversary_test_fgsm))\n",
    "    \n",
    "for model in models_random:\n",
    "    evaluate_random_0.append(model.evaluate(x_adversary_test_fgsm,y_adversary_test_fgsm))\n",
    "    \n",
    "for model in models_nc:\n",
    "    evaluate_nc_0.append(model.evaluate(x_adversary_test_fgsm,y_adversary_test_fgsm))"
   ]
  },
  {
   "cell_type": "code",
   "execution_count": null,
   "id": "889a2bb6",
   "metadata": {},
   "outputs": [],
   "source": [
    "evaluate_lsa_0[0]=[0,0,0,0]\n",
    "evaluate_dsa_0[0]=[0,0,0,0]\n",
    "evaluate_random_0[0]=[0,0,0,0]\n",
    "evaluate_nc_0[0]=[0,0,0,0]"
   ]
  },
  {
   "cell_type": "code",
   "execution_count": null,
   "id": "11b4b138",
   "metadata": {},
   "outputs": [],
   "source": [
    "print(len(evaluate_lsa_0))\n",
    "print(len(evaluate_dsa_0))\n",
    "print(len(evaluate_random_0))\n",
    "print(len(evaluate_nc_0))"
   ]
  },
  {
   "cell_type": "code",
   "execution_count": null,
   "id": "1d1c6ec0",
   "metadata": {
    "scrolled": true
   },
   "outputs": [],
   "source": [
    "# Metrics using original test\n",
    "evaluate_lsa_1 = []\n",
    "evaluate_dsa_1 = []\n",
    "evaluate_nc_1 = []\n",
    "evaluate_random_1 = []\n",
    "\n",
    "evaluate_lsa_1.append(model_original.evaluate(x_test,y_test))\n",
    "evaluate_dsa_1.append(model_original.evaluate(x_test,y_test))\n",
    "evaluate_nc_1.append(model_original.evaluate(x_test,y_test))\n",
    "evaluate_random_1.append(model_original.evaluate(x_test,y_test))\n",
    "print(\"lsa---\")\n",
    "for model in models_lsa:\n",
    "    evaluate_lsa_1.append(model.evaluate(x_test,y_test))\n",
    "\n",
    "print(\"dsa---\")\n",
    "    \n",
    "for model in models_dsa:\n",
    "    evaluate_dsa_1.append(model.evaluate(x_test,y_test))\n",
    "    \n",
    "\n",
    "print(\"random---\")\n",
    "\n",
    "for model in models_random:\n",
    "    evaluate_random_1.append(model.evaluate(x_test,y_test))\n",
    "    \n",
    "print(\"nc---\")\n",
    "\n",
    "for model in models_nc:\n",
    "    evaluate_nc_1.append(model.evaluate(x_test,y_test))\n"
   ]
  },
  {
   "cell_type": "code",
   "execution_count": null,
   "id": "3968b39d",
   "metadata": {},
   "outputs": [],
   "source": [
    "evaluate_lsa_1[0]=[0,0,0,0]\n",
    "evaluate_dsa_1[0]=[0,0,0,0]\n",
    "evaluate_random_1[0]=[0,0,0,0]\n",
    "evaluate_nc_1[0]=[0,0,0,0]"
   ]
  },
  {
   "cell_type": "code",
   "execution_count": null,
   "id": "85dd3308",
   "metadata": {},
   "outputs": [],
   "source": [
    "\n",
    "print(len(evaluate_lsa_1))\n",
    "print(len(evaluate_dsa_1))\n",
    "print(len(evaluate_random_1))\n",
    "print(len(evaluate_nc_1))"
   ]
  },
  {
   "cell_type": "code",
   "execution_count": null,
   "id": "641ef7af",
   "metadata": {},
   "outputs": [],
   "source": [
    "type(evaluate_dsa_0[0][0])"
   ]
  },
  {
   "cell_type": "code",
   "execution_count": null,
   "id": "8c45b340",
   "metadata": {},
   "outputs": [],
   "source": [
    "import pandas as pd\n",
    "\n",
    "df_evaluate_lsa_0 = pd.DataFrame(np.array(evaluate_lsa_0),columns=[\"loss\",\"accuracy\",\"precision\",\"recall\"])\n",
    "df_evaluate_lsa_1 = pd.DataFrame(np.array(evaluate_lsa_1),columns=[\"loss\",\"accuracy\",\"precision\",\"recall\"])\n",
    "df_evaluate_dsa_0 = pd.DataFrame(np.array(evaluate_dsa_0),columns=[\"loss\",\"accuracy\",\"precision\",\"recall\"])\n",
    "df_evaluate_dsa_1 = pd.DataFrame(np.array(evaluate_dsa_1),columns=[\"loss\",\"accuracy\",\"precision\",\"recall\"])\n",
    "\n",
    "df_evaluate_random_0 = pd.DataFrame(np.array(evaluate_random_0),columns=[\"loss\",\"accuracy\",\"precision\",\"recall\"])\n",
    "df_evaluate_random_1 = pd.DataFrame(np.array(evaluate_random_1),columns=[\"loss\",\"accuracy\",\"precision\",\"recall\"])\n",
    "df_evaluate_nc_0 = pd.DataFrame(np.array(evaluate_nc_0),columns=[\"loss\",\"accuracy\",\"precision\",\"recall\"])\n",
    "df_evaluate_nc_1 = pd.DataFrame(np.array(evaluate_nc_1),columns=[\"loss\",\"accuracy\",\"precision\",\"recall\"])\n"
   ]
  },
  {
   "cell_type": "code",
   "execution_count": null,
   "id": "5fbac3f0",
   "metadata": {},
   "outputs": [],
   "source": [
    "# Original test set + adversarial set\n",
    "\n",
    "metric =\"accuracy\"\n",
    "accuracy_lsa_3 = (np.array(df_evaluate_lsa_0[metric])+np.array(df_evaluate_lsa_1[metric]))/2\n",
    "accuracy_dsa_3 = (np.array(df_evaluate_dsa_0[metric])+np.array(df_evaluate_dsa_1[metric]))/2\n",
    "accuracy_nc_3 = (np.array(df_evaluate_nc_0[metric])+np.array(df_evaluate_nc_1[metric]))/2\n",
    "accuracy_random_3 = (np.array(df_evaluate_random_0[metric])+np.array(df_evaluate_random_1[metric]))/2\n"
   ]
  },
  {
   "cell_type": "markdown",
   "id": "c0edc866",
   "metadata": {},
   "source": [
    "## Charts"
   ]
  },
  {
   "cell_type": "code",
   "execution_count": null,
   "id": "db32b23d",
   "metadata": {},
   "outputs": [],
   "source": [
    "n_inputs = [1800*i for i in range(20)]\n",
    "n_inputs.append(len(x_train_and_adversary))"
   ]
  },
  {
   "cell_type": "code",
   "execution_count": null,
   "id": "0e5d823a",
   "metadata": {},
   "outputs": [],
   "source": [
    "print(n_inputs)"
   ]
  },
  {
   "cell_type": "code",
   "execution_count": null,
   "id": "4feb0d30",
   "metadata": {},
   "outputs": [],
   "source": [
    "cd \"C:/Users/fjdur/Desktop/gtsrb_graphs/e2_graphs_dec/\""
   ]
  },
  {
   "cell_type": "code",
   "execution_count": null,
   "id": "bc3a0bf7",
   "metadata": {},
   "outputs": [],
   "source": [
    "linestyles = ['solid','dotted','dashed','dashdot']\n",
    "colors =['k','k','k','k']"
   ]
  },
  {
   "cell_type": "code",
   "execution_count": null,
   "id": "fde130ed",
   "metadata": {},
   "outputs": [],
   "source": [
    "#configuration 1\n",
    "\"\"\"\n",
    "6) Incremental guided retraining starting from the original model using only the new adversarial inputs.\n",
    "Incremental training, starting with the previous trained model. Using at each iteration a subset of the new inputs.\n",
    "\"\"\"\n",
    "import matplotlib.pyplot as plt\n",
    "import matplotlib.patches as mpatches\n",
    "from matplotlib.patches import Patch\n",
    "from matplotlib.lines import Line2D\n",
    "\n",
    "#metric = \"accuracy\" # accuracy loss\n",
    "my_metrics =[\"accuracy\",\"loss\",\"precision\",\"recall\"]\n",
    "\n",
    "for metric in my_metrics:\n",
    "    plt.clf()\n",
    "    plt.plot(n_inputs,df_evaluate_lsa_0[metric],colors[0],linestyle=linestyles[0])\n",
    "    plt.plot(n_inputs,df_evaluate_dsa_0[metric],colors[1],linestyle=linestyles[1])\n",
    "    plt.plot(n_inputs,df_evaluate_random_0[metric],colors[2],linestyle=linestyles[2])\n",
    "    plt.plot(n_inputs,df_evaluate_nc_0[metric],colors[3],linestyle=linestyles[3])\n",
    "\n",
    "\n",
    "    legend_elements = [Line2D([0], [0], color='k', label='LSA',ls = linestyles[0]),\n",
    "                   Line2D([0], [0], color='k', label='DSA',ls = linestyles[1]),\n",
    "                   Line2D([0], [0], color='k', label='Random',ls = linestyles[2]),\n",
    "                   Line2D([0], [0], color='k', label='NC',ls = linestyles[3])]\n",
    "\n",
    "\n",
    "\n",
    "    plt.legend(handles=legend_elements)#\n",
    "    plt.title(metric + \" with test set of adversarial examples FGSM\")\n",
    "    plt.xlim([0, 37000])\n",
    "    #plt.ylim([0, 1])\n",
    "    plt.xlabel('number of inputs')\n",
    "    plt.ylabel(metric)\n",
    "    plt.savefig(\"gtsrb_c1_\"+metric + \"_0.svg\")\n",
    "    plt.show()"
   ]
  },
  {
   "cell_type": "code",
   "execution_count": null,
   "id": "38563782",
   "metadata": {},
   "outputs": [],
   "source": [
    "#configuration 1\n",
    "\"\"\"\n",
    "6) Incremental guided retraining starting from the original model using only the new adversarial inputs.\n",
    "Incremental training, starting with the previous trained model. Using at each iteration a subset of the new inputs.\n",
    "\"\"\"\n",
    "import matplotlib.pyplot as plt\n",
    "import matplotlib.patches as mpatches\n",
    "\n",
    "my_metrics =[\"accuracy\",\"loss\",\"precision\",\"recall\"]\n",
    "\n",
    "for metric in my_metrics:\n",
    "    \n",
    "#metric = \"accuracy\" # accuracy loss\n",
    "    plt.clf()\n",
    "    plt.plot(n_inputs,df_evaluate_lsa_1[metric],colors[0],linestyle=linestyles[0])\n",
    "    plt.plot(n_inputs,df_evaluate_dsa_1[metric],colors[1],linestyle=linestyles[1])\n",
    "    plt.plot(n_inputs,df_evaluate_random_1[metric],colors[2],linestyle=linestyles[2])\n",
    "    plt.plot(n_inputs,df_evaluate_nc_1[metric],colors[3],linestyle=linestyles[3])\n",
    "\n",
    "    legend_elements = [Line2D([0], [0], color='k', label='LSA',ls = linestyles[0]),\n",
    "                   Line2D([0], [0], color='k', label='DSA',ls = linestyles[1]),\n",
    "                   Line2D([0], [0], color='k', label='Random',ls = linestyles[2]),\n",
    "                   Line2D([0], [0], color='k', label='NC',ls = linestyles[3])]\n",
    "\n",
    "\n",
    "\n",
    "    plt.legend(handles=legend_elements)#\n",
    "    plt.title(metric + \" with original set\")\n",
    "    plt.xlim([0, 37000])\n",
    "    #plt.ylim([0, 1])\n",
    "    plt.xlabel('number of inputs')\n",
    "    plt.ylabel(metric)\n",
    "    plt.savefig(\"gtsrb_c1_\"+metric + \"_1.svg\")\n",
    "    plt.show()"
   ]
  },
  {
   "cell_type": "code",
   "execution_count": null,
   "id": "884a1d99",
   "metadata": {},
   "outputs": [],
   "source": [
    "#adversarial jsma test set\n",
    "#configuration 3\n",
    "\"\"\"\n",
    "6) Incremental guided retraining starting from the original model using only the new adversarial inputs.\n",
    "Incremental training, starting with the previous trained model. Using at each iteration a subset of the new inputs.\n",
    "\"\"\"\n",
    "import matplotlib.pyplot as plt\n",
    "import matplotlib.patches as mpatches\n",
    "\n",
    "plt.plot(n_inputs,accuracy_lsa_3,colors[0],linestyle=linestyles[0])\n",
    "plt.plot(n_inputs,accuracy_dsa_3,colors[1],linestyle=linestyles[1])\n",
    "plt.plot(n_inputs,accuracy_random_3,colors[2],linestyle=linestyles[2])\n",
    "plt.plot(n_inputs,accuracy_nc_3,colors[3],linestyle=linestyles[3])\n",
    "\n",
    "\n",
    "legend_elements = [Line2D([0], [0], color='k', label='LSA',ls = linestyles[0]),\n",
    "                   Line2D([0], [0], color='k', label='DSA',ls = linestyles[1]),\n",
    "                   Line2D([0], [0], color='k', label='Random',ls = linestyles[2]),\n",
    "                   Line2D([0], [0], color='k', label='NC',ls = linestyles[3])]\n",
    "\n",
    "\n",
    "\n",
    "plt.legend(handles=legend_elements)#\n",
    "plt.title(\"accuracy with both sets\")\n",
    "\n",
    "print(n_inputs[np.argmax(accuracy_lsa_3)],accuracy_lsa_3.max())\n",
    "print(n_inputs[np.argmax(accuracy_dsa_3)],accuracy_dsa_3.max())\n",
    "print(n_inputs[np.argmax(accuracy_random_3)],accuracy_random_3.max())\n",
    "print(n_inputs[np.argmax(accuracy_nc_3)],accuracy_nc_3.max())\n",
    "\n",
    "plt.plot(n_inputs[np.argmax(accuracy_lsa_3)],accuracy_lsa_3.max(),'-kD')\n",
    "plt.plot(n_inputs[np.argmax(accuracy_dsa_3)],accuracy_dsa_3.max(),'-ko')\n",
    "plt.plot(n_inputs[np.argmax(accuracy_random_3)],accuracy_random_3.max(),'-kv')\n",
    "plt.plot(n_inputs[np.argmax(accuracy_nc_3)],accuracy_nc_3.max(),'-kp')\n",
    "\n",
    "plt.xlabel('number of inputs')\n",
    "plt.ylabel('accuracy')\n",
    "plt.xlim([0, 37000])\n",
    "#plt.ylim([0, 1])\n",
    "\n",
    "plt.savefig(\"gtsrb_c1_\"+\"accuracy\" + \"_both.svg\")\n",
    "\n",
    "plt.show()"
   ]
  },
  {
   "cell_type": "markdown",
   "id": "02c81771",
   "metadata": {},
   "source": [
    "## Saving models"
   ]
  },
  {
   "cell_type": "code",
   "execution_count": null,
   "id": "ef05a059",
   "metadata": {},
   "outputs": [],
   "source": [
    "new_model_lsa_dir  = \"D:/models/gtsrb_models/C1/gtsrb_model_c1_sep_lsa_e2\"\n",
    "i=0\n",
    "\n",
    "for model in models_lsa:\n",
    "    model.save(new_model_lsa_dir+\"_\"+str(i))\n",
    "    i+=1"
   ]
  },
  {
   "cell_type": "code",
   "execution_count": null,
   "id": "6464778f",
   "metadata": {},
   "outputs": [],
   "source": [
    "new_model_dsa_dir  = \"D:/models/gtsrb_models/C1/gtsrb_model_c1_sep_dsa_e2\"\n",
    "\n",
    "i=0\n",
    "for model in models_dsa:\n",
    "    model.save(new_model_dsa_dir+\"_\"+str(i))\n",
    "    i+=1"
   ]
  },
  {
   "cell_type": "code",
   "execution_count": null,
   "id": "f6406565",
   "metadata": {},
   "outputs": [],
   "source": [
    "new_model_random_dir  = \"D:/models/gtsrb_models/C1/gtsrb_model_c1_sep_random_e2\"\n",
    "\n",
    "i=0\n",
    "for model in models_random:\n",
    "    model.save(new_model_random_dir+\"_\"+str(i))\n",
    "    i+=1"
   ]
  },
  {
   "cell_type": "code",
   "execution_count": null,
   "id": "2c03ee7e",
   "metadata": {},
   "outputs": [],
   "source": [
    "new_model_nc_dir  = \"D:/models/gtsrb_models/C1/gtsrb_model_c1_sep_nc_e2\"\n",
    "\n",
    "i=0\n",
    "for model in models_nc:\n",
    "    model.save(new_model_nc_dir+\"_\"+str(i))\n",
    "    i+=1"
   ]
  }
 ],
 "metadata": {
  "kernelspec": {
   "display_name": "Python 3 (ipykernel)",
   "language": "python",
   "name": "python3"
  },
  "language_info": {
   "codemirror_mode": {
    "name": "ipython",
    "version": 3
   },
   "file_extension": ".py",
   "mimetype": "text/x-python",
   "name": "python",
   "nbconvert_exporter": "python",
   "pygments_lexer": "ipython3",
   "version": "3.9.7"
  }
 },
 "nbformat": 4,
 "nbformat_minor": 5
}
