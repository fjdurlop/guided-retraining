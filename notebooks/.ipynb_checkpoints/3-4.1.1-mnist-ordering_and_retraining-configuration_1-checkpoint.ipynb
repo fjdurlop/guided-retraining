{
 "cells": [
  {
   "cell_type": "markdown",
   "id": "f216e2a2",
   "metadata": {},
   "source": [
    "# Ordering by metrics and retraining phase\n",
    "\n",
    "## Dataset: MNIST"
   ]
  },
  {
   "cell_type": "markdown",
   "id": "790af13b",
   "metadata": {},
   "source": [
    "## Experiment configuration 1\n"
   ]
  },
  {
   "cell_type": "markdown",
   "id": "21a98552",
   "metadata": {},
   "source": [
    "## Configuration 1\n",
    "\t1. Incremental guided retraining starting from scratch using the new adversarial inputs and original training set"
   ]
  },
  {
   "cell_type": "code",
   "execution_count": null,
   "id": "90383afd",
   "metadata": {},
   "outputs": [],
   "source": [
    "#pip install --user tensorflow==2.5"
   ]
  },
  {
   "cell_type": "code",
   "execution_count": 1,
   "id": "ce1386e9",
   "metadata": {},
   "outputs": [],
   "source": [
    "import argparse\n",
    "\n",
    "import numpy as np\n",
    "import tensorflow as tf\n",
    "import keras.backend as K\n",
    "\n",
    "import matplotlib.pyplot as plt\n",
    "\n",
    "from keras.utils import np_utils\n",
    "from keras.models import Sequential\n",
    "from keras.layers import Dense, Dropout, Activation, Flatten, Conv2D, MaxPooling2D\n",
    "from keras.regularizers import l2\n",
    "\n",
    "import glob\n",
    "import os\n",
    "import cv2\n",
    "import keras\n",
    "\n",
    "\n",
    "import time\n",
    "import argparse\n",
    "\n",
    "from tqdm import tqdm\n",
    "\n",
    "from keras.models import load_model, Model\n"
   ]
  },
  {
   "cell_type": "code",
   "execution_count": 2,
   "id": "aa0aa2b2",
   "metadata": {},
   "outputs": [
    {
     "data": {
      "text/plain": [
       "True"
      ]
     },
     "execution_count": 2,
     "metadata": {},
     "output_type": "execute_result"
    }
   ],
   "source": [
    "tf.__version__ == '2.5.0' # Version of tensorflow"
   ]
  },
  {
   "cell_type": "code",
   "execution_count": 3,
   "id": "fa923a43",
   "metadata": {},
   "outputs": [
    {
     "name": "stdout",
     "output_type": "stream",
     "text": [
      "C:\\Users\\fjdur\\Documents\\utils\n"
     ]
    }
   ],
   "source": [
    "cd C:/Users/fjdur/Documents/utils/"
   ]
  },
  {
   "cell_type": "code",
   "execution_count": 4,
   "id": "723735cb",
   "metadata": {},
   "outputs": [
    {
     "name": "stdout",
     "output_type": "stream",
     "text": [
      "2.5.0\n",
      "keras\n",
      "2.5.0\n"
     ]
    }
   ],
   "source": [
    "# utils for project\n",
    "import utils_guided_retraining as utils"
   ]
  },
  {
   "cell_type": "code",
   "execution_count": 5,
   "id": "1c6a307c",
   "metadata": {},
   "outputs": [],
   "source": [
    "#cd '../notebooks/'"
   ]
  },
  {
   "cell_type": "code",
   "execution_count": 6,
   "id": "de1bd2cb",
   "metadata": {},
   "outputs": [],
   "source": [
    "dataset = \"mnist\""
   ]
  },
  {
   "cell_type": "code",
   "execution_count": 7,
   "id": "50c2b3f3",
   "metadata": {},
   "outputs": [],
   "source": [
    "x_train,y_train = utils.get_data(dataset,\"Train\")\n",
    "x_val,y_val = utils.get_data(dataset,\"Val\")\n",
    "x_test,y_test = utils.get_data(dataset,\"Test\")"
   ]
  },
  {
   "cell_type": "code",
   "execution_count": 8,
   "id": "e6f6f8a7",
   "metadata": {},
   "outputs": [],
   "source": [
    "x_train_and_adversary,y_train_and_adversary = utils.get_data(dataset,\"Train_and_adversary\")"
   ]
  },
  {
   "cell_type": "code",
   "execution_count": 9,
   "id": "53dcdf78",
   "metadata": {},
   "outputs": [
    {
     "name": "stdout",
     "output_type": "stream",
     "text": [
      "6999\n",
      "6999\n"
     ]
    }
   ],
   "source": [
    "x_adversary_training = x_train_and_adversary[len(x_train):]\n",
    "print(len(x_adversary_training))\n",
    "y_adversary_training = y_train_and_adversary[len(y_train):]\n",
    "\n",
    "print(len(y_adversary_training))"
   ]
  },
  {
   "cell_type": "code",
   "execution_count": 10,
   "id": "d8fd2c92",
   "metadata": {},
   "outputs": [],
   "source": [
    "# Obtaining adversarial examples for testing \n",
    "x_test_and_adversary,y_test_and_adversary = utils.get_adversarial_data(dataset,'Test_adversarial') "
   ]
  },
  {
   "cell_type": "code",
   "execution_count": 11,
   "id": "c27698e5",
   "metadata": {},
   "outputs": [
    {
     "name": "stdout",
     "output_type": "stream",
     "text": [
      "6999\n",
      "6999\n"
     ]
    }
   ],
   "source": [
    "x_adversary_test = x_test_and_adversary[len(x_test):]\n",
    "print(len(x_adversary_test))\n",
    "y_adversary_test = y_test_and_adversary[len(y_test):]\n",
    "\n",
    "print(len(y_adversary_test))"
   ]
  },
  {
   "cell_type": "markdown",
   "id": "becb4e3b",
   "metadata": {},
   "source": [
    "## ----"
   ]
  },
  {
   "cell_type": "code",
   "execution_count": 12,
   "id": "c1560941",
   "metadata": {},
   "outputs": [],
   "source": [
    "# Original model \n",
    "\n",
    "model_dir = \"C:/Users/fjdur/Documents/upc-july/models/tf_model_25-06/\"\n",
    "if(dataset == 'gtsrb'):\n",
    "    model_dir = \"C:/Users/fjdur/Documents/upc-july/models/tf_model_25-06\"\n",
    "elif(dataset == 'intel'):\n",
    "    model_dir = \"C:/Users/fjdur/Documents/upc-july/models/intel_model_21_10\"\n",
    "elif(dataset == 'mnist'):\n",
    "    model_dir = \"C:/Users/fjdur/Documents/upc-july/models/models2\"\n",
    "elif(dataset == 'cifar'):\n",
    "    model_dir = \"C:/Users/fjdur/Documents/upc-july/models/model_02\"\n"
   ]
  },
  {
   "cell_type": "code",
   "execution_count": 13,
   "id": "e5478616",
   "metadata": {},
   "outputs": [
    {
     "name": "stdout",
     "output_type": "stream",
     "text": [
      "C:/Users/fjdur/Documents/upc-july/models/models2\n",
      "Model loaded correctly\n"
     ]
    }
   ],
   "source": [
    "print(model_dir)\n",
    "model_original = utils.My_model(dataset,True, model_dir)"
   ]
  },
  {
   "cell_type": "code",
   "execution_count": null,
   "id": "a81f5589",
   "metadata": {},
   "outputs": [],
   "source": []
  },
  {
   "cell_type": "code",
   "execution_count": 14,
   "id": "8ea0bc17",
   "metadata": {},
   "outputs": [
    {
     "name": "stdout",
     "output_type": "stream",
     "text": [
      "(55998, 28, 28, 1)\n"
     ]
    },
    {
     "data": {
      "text/plain": [
       "2799"
      ]
     },
     "execution_count": 14,
     "metadata": {},
     "output_type": "execute_result"
    }
   ],
   "source": [
    "print(x_train_and_adversary.shape)\n",
    "len(x_train_and_adversary)//20"
   ]
  },
  {
   "cell_type": "code",
   "execution_count": 15,
   "id": "983373d2",
   "metadata": {},
   "outputs": [],
   "source": [
    "n_data_points = 2800"
   ]
  },
  {
   "cell_type": "markdown",
   "id": "78edd1c7",
   "metadata": {},
   "source": [
    "## Loading LSA and DSA values "
   ]
  },
  {
   "cell_type": "code",
   "execution_count": 16,
   "id": "dd62896d",
   "metadata": {},
   "outputs": [],
   "source": [
    "lsa_direction = \"C:/Users/fjdur/Documents/upc-july/data/\"+dataset+\"/lsa_values.npy\""
   ]
  },
  {
   "cell_type": "code",
   "execution_count": null,
   "id": "d62da548",
   "metadata": {},
   "outputs": [],
   "source": []
  },
  {
   "cell_type": "code",
   "execution_count": 17,
   "id": "cbe684c7",
   "metadata": {},
   "outputs": [],
   "source": [
    "lsa_values = np.load(lsa_direction)\n"
   ]
  },
  {
   "cell_type": "code",
   "execution_count": 18,
   "id": "c0ec186e",
   "metadata": {},
   "outputs": [],
   "source": [
    "\n",
    "# Obtaining top n images by LSA values\n",
    "top_images_by_lsa = utils.get_x_of_indexes(list(np.flip(np.argsort(lsa_values))),x_train_and_adversary)\n",
    "top_labels_by_lsa = utils.get_x_of_indexes(list(np.flip(np.argsort(lsa_values))),y_train_and_adversary)\n"
   ]
  },
  {
   "cell_type": "code",
   "execution_count": 19,
   "id": "262a4841",
   "metadata": {},
   "outputs": [
    {
     "name": "stdout",
     "output_type": "stream",
     "text": [
      "0 :\n",
      "0  ->  2800\n",
      "2800\n",
      "1 :\n",
      "0  ->  5600\n",
      "5600\n",
      "2 :\n",
      "0  ->  8400\n",
      "8400\n",
      "3 :\n",
      "0  ->  11200\n",
      "11200\n",
      "4 :\n",
      "0  ->  14000\n",
      "14000\n",
      "5 :\n",
      "0  ->  16800\n",
      "16800\n",
      "6 :\n",
      "0  ->  19600\n",
      "19600\n",
      "7 :\n",
      "0  ->  22400\n",
      "22400\n",
      "8 :\n",
      "0  ->  25200\n",
      "25200\n",
      "9 :\n",
      "0  ->  28000\n",
      "28000\n",
      "10 :\n",
      "0  ->  30800\n",
      "30800\n",
      "11 :\n",
      "0  ->  33600\n",
      "33600\n",
      "12 :\n",
      "0  ->  36400\n",
      "36400\n",
      "13 :\n",
      "0  ->  39200\n",
      "39200\n",
      "14 :\n",
      "0  ->  42000\n",
      "42000\n",
      "15 :\n",
      "0  ->  44800\n",
      "44800\n",
      "16 :\n",
      "0  ->  47600\n",
      "47600\n",
      "17 :\n",
      "0  ->  50400\n",
      "50400\n",
      "18 :\n",
      "0  ->  53200\n",
      "53200\n",
      "19 :\n",
      "Last\n",
      "0  ->  58798\n",
      "55998\n"
     ]
    }
   ],
   "source": [
    "m = n_data_points\n",
    "n = 0\n",
    "image_sets_lsa = []\n",
    "label_sets_lsa = []\n",
    "\n",
    "# last\n",
    "#for i in range(0,len(top_images_by_lsa)//m):\n",
    "\n",
    "for i in range((len(top_images_by_lsa)//m)+1):\n",
    "    print(i,\":\")\n",
    "    if (i+1 >= ((len(top_images_by_lsa)//m)+1)):\n",
    "        print(\"Last\")\n",
    "        print(0,\" -> \",n+m+(len(top_images_by_lsa)%m))\n",
    "        top_images_by_lsa_n = np.array(top_images_by_lsa[:n+m+(len(top_images_by_lsa)%m)])\n",
    "        top_labels_by_lsa_n = np.array(top_labels_by_lsa[:n+m+(len(top_images_by_lsa)%m)])\n",
    "    else:\n",
    "        print(0,\" -> \",m+n)\n",
    "        top_images_by_lsa_n = np.array(top_images_by_lsa[:n+m])\n",
    "        top_labels_by_lsa_n = np.array(top_labels_by_lsa[:n+m])\n",
    "    image_sets_lsa.append(top_images_by_lsa_n)\n",
    "    label_sets_lsa.append(top_labels_by_lsa_n)\n",
    "    print(len(top_images_by_lsa_n))\n",
    "    n += m"
   ]
  },
  {
   "cell_type": "code",
   "execution_count": 20,
   "id": "55e3a060",
   "metadata": {},
   "outputs": [
    {
     "data": {
      "text/plain": [
       "20"
      ]
     },
     "execution_count": 20,
     "metadata": {},
     "output_type": "execute_result"
    }
   ],
   "source": [
    "len(image_sets_lsa)"
   ]
  },
  {
   "cell_type": "markdown",
   "id": "ed06a68e",
   "metadata": {},
   "source": [
    "## Training guided by LSA"
   ]
  },
  {
   "cell_type": "code",
   "execution_count": 21,
   "id": "9fa4de5c",
   "metadata": {},
   "outputs": [
    {
     "data": {
      "text/plain": [
       "20"
      ]
     },
     "execution_count": 21,
     "metadata": {},
     "output_type": "execute_result"
    }
   ],
   "source": [
    "len(label_sets_lsa)"
   ]
  },
  {
   "cell_type": "code",
   "execution_count": 22,
   "id": "daef1b47",
   "metadata": {},
   "outputs": [
    {
     "name": "stdout",
     "output_type": "stream",
     "text": [
      "C:/Users/fjdur/Documents/upc-july/models/models2\n",
      "0 :\n",
      "Model compiled\n",
      "1 :\n",
      "Model compiled\n",
      "2 :\n",
      "Model compiled\n",
      "3 :\n",
      "Model compiled\n",
      "4 :\n",
      "Model compiled\n",
      "5 :\n",
      "Model compiled\n",
      "6 :\n",
      "Model compiled\n",
      "7 :\n",
      "Model compiled\n",
      "8 :\n",
      "Model compiled\n",
      "9 :\n",
      "Model compiled\n",
      "10 :\n",
      "Model compiled\n",
      "11 :\n",
      "Model compiled\n",
      "12 :\n",
      "Model compiled\n",
      "13 :\n",
      "Model compiled\n",
      "14 :\n",
      "Model compiled\n",
      "15 :\n",
      "Model compiled\n",
      "16 :\n",
      "Model compiled\n",
      "17 :\n",
      "Model compiled\n",
      "18 :\n",
      "Model compiled\n",
      "19 :\n",
      "Model compiled\n"
     ]
    }
   ],
   "source": [
    "print(model_dir)\n",
    "\n",
    "models_lsa = []\n",
    "for i in range(len(label_sets_lsa)):\n",
    "    print(i,\":\")\n",
    "    model = utils.My_model(dataset,False,None)\n",
    "    model.compile_model()\n",
    "    models_lsa.append(model)\n"
   ]
  },
  {
   "cell_type": "code",
   "execution_count": 23,
   "id": "3665e51c",
   "metadata": {},
   "outputs": [
    {
     "name": "stdout",
     "output_type": "stream",
     "text": [
      "Epoch 1/10\n",
      "44/44 [==============================] - 38s 203ms/step - loss: 1.2483 - accuracy: 0.6059 - val_loss: 2.1323 - val_accuracy: 0.4211\n",
      "Epoch 2/10\n",
      "44/44 [==============================] - 8s 190ms/step - loss: 0.4583 - accuracy: 0.8789 - val_loss: 2.0624 - val_accuracy: 0.5346\n",
      "Epoch 3/10\n",
      "44/44 [==============================] - 8s 188ms/step - loss: 0.2740 - accuracy: 0.9211 - val_loss: 1.7863 - val_accuracy: 0.5829\n",
      "Epoch 4/10\n",
      "44/44 [==============================] - 8s 190ms/step - loss: 0.2120 - accuracy: 0.9578 - val_loss: 1.2709 - val_accuracy: 0.6466\n",
      "Epoch 5/10\n",
      "44/44 [==============================] - 8s 189ms/step - loss: 0.1409 - accuracy: 0.9640 - val_loss: 1.3822 - val_accuracy: 0.6560\n",
      "Epoch 6/10\n",
      "44/44 [==============================] - 8s 190ms/step - loss: 0.1022 - accuracy: 0.9762 - val_loss: 2.0500 - val_accuracy: 0.5491\n",
      "Epoch 7/10\n",
      "44/44 [==============================] - 8s 188ms/step - loss: 0.0825 - accuracy: 0.9808 - val_loss: 1.3215 - val_accuracy: 0.6676\n",
      "Epoch 8/10\n",
      "44/44 [==============================] - 8s 190ms/step - loss: 0.0633 - accuracy: 0.9832 - val_loss: 1.3583 - val_accuracy: 0.6784\n",
      "Epoch 9/10\n",
      "44/44 [==============================] - 8s 190ms/step - loss: 0.0657 - accuracy: 0.9815 - val_loss: 1.4908 - val_accuracy: 0.6602\n",
      "Epoch 10/10\n",
      "44/44 [==============================] - 8s 192ms/step - loss: 0.0465 - accuracy: 0.9890 - val_loss: 1.4933 - val_accuracy: 0.6477\n",
      "Duration: 0:01:52.999237\n"
     ]
    }
   ],
   "source": [
    "n = 0\n",
    "models_lsa[n].fit_model(image_sets_lsa[n],label_sets_lsa[n],x_val,y_val,epochs=10,batch_size = 64)\n",
    "n=n+1"
   ]
  },
  {
   "cell_type": "code",
   "execution_count": 24,
   "id": "c2f79099",
   "metadata": {},
   "outputs": [
    {
     "name": "stdout",
     "output_type": "stream",
     "text": [
      "Epoch 1/10\n",
      "88/88 [==============================] - 15s 148ms/step - loss: 0.7439 - accuracy: 0.7881 - val_loss: 3.1025 - val_accuracy: 0.2627\n",
      "Epoch 2/10\n",
      "88/88 [==============================] - 13s 144ms/step - loss: 0.2664 - accuracy: 0.9370 - val_loss: 1.8128 - val_accuracy: 0.5577\n",
      "Epoch 3/10\n",
      "88/88 [==============================] - 13s 143ms/step - loss: 0.1588 - accuracy: 0.9610 - val_loss: 2.5821 - val_accuracy: 0.4654\n",
      "Epoch 4/10\n",
      "88/88 [==============================] - 13s 144ms/step - loss: 0.1189 - accuracy: 0.9709 - val_loss: 2.6016 - val_accuracy: 0.4873\n",
      "Epoch 5/10\n",
      "88/88 [==============================] - 13s 144ms/step - loss: 0.1031 - accuracy: 0.9793 - val_loss: 1.7138 - val_accuracy: 0.6369\n",
      "Epoch 6/10\n",
      "88/88 [==============================] - 13s 144ms/step - loss: 0.0870 - accuracy: 0.9811 - val_loss: 3.2342 - val_accuracy: 0.4416\n",
      "Epoch 7/10\n",
      "88/88 [==============================] - 13s 144ms/step - loss: 0.0684 - accuracy: 0.9824 - val_loss: 1.4447 - val_accuracy: 0.6456\n",
      "Epoch 8/10\n",
      "88/88 [==============================] - 13s 144ms/step - loss: 0.0531 - accuracy: 0.9848 - val_loss: 1.2094 - val_accuracy: 0.6697\n",
      "Epoch 9/10\n",
      "88/88 [==============================] - 13s 143ms/step - loss: 0.0507 - accuracy: 0.9875 - val_loss: 4.3814 - val_accuracy: 0.3418\n",
      "Epoch 10/10\n",
      "88/88 [==============================] - 13s 143ms/step - loss: 0.0549 - accuracy: 0.9862 - val_loss: 4.4289 - val_accuracy: 0.3158\n",
      "Duration: 0:02:08.025167\n"
     ]
    }
   ],
   "source": [
    "n=1\n",
    "models_lsa[n].fit_model(image_sets_lsa[n],label_sets_lsa[n],x_val,y_val,epochs=10,batch_size = 64)\n",
    "n = n+1"
   ]
  },
  {
   "cell_type": "code",
   "execution_count": 25,
   "id": "d9f7fa66",
   "metadata": {},
   "outputs": [
    {
     "name": "stdout",
     "output_type": "stream",
     "text": [
      "2\n",
      "Epoch 1/10\n",
      "132/132 [==============================] - 19s 129ms/step - loss: 0.7763 - accuracy: 0.7609 - val_loss: 1.9829 - val_accuracy: 0.5953\n",
      "Epoch 2/10\n",
      "132/132 [==============================] - 17s 127ms/step - loss: 0.1664 - accuracy: 0.9566 - val_loss: 1.8479 - val_accuracy: 0.6691\n",
      "Epoch 3/10\n",
      "132/132 [==============================] - 17s 128ms/step - loss: 0.1321 - accuracy: 0.9719 - val_loss: 1.6921 - val_accuracy: 0.6893\n",
      "Epoch 4/10\n",
      "132/132 [==============================] - 17s 127ms/step - loss: 0.0881 - accuracy: 0.9796 - val_loss: 1.1576 - val_accuracy: 0.7369\n",
      "Epoch 5/10\n",
      "132/132 [==============================] - 17s 127ms/step - loss: 0.0716 - accuracy: 0.9841 - val_loss: 1.5313 - val_accuracy: 0.6889\n",
      "Epoch 6/10\n",
      "132/132 [==============================] - 17s 126ms/step - loss: 0.0645 - accuracy: 0.9848 - val_loss: 2.3764 - val_accuracy: 0.5524\n",
      "Epoch 7/10\n",
      "132/132 [==============================] - 17s 126ms/step - loss: 0.0465 - accuracy: 0.9877 - val_loss: 1.6589 - val_accuracy: 0.6482\n",
      "Epoch 8/10\n",
      "132/132 [==============================] - 17s 126ms/step - loss: 0.0495 - accuracy: 0.9847 - val_loss: 1.2728 - val_accuracy: 0.6826\n",
      "Epoch 9/10\n",
      "132/132 [==============================] - 17s 127ms/step - loss: 0.0434 - accuracy: 0.9880 - val_loss: 1.0509 - val_accuracy: 0.7402\n",
      "Epoch 10/10\n",
      "132/132 [==============================] - 17s 125ms/step - loss: 0.0412 - accuracy: 0.9891 - val_loss: 2.3775 - val_accuracy: 0.5981\n",
      "Duration: 0:02:49.002961\n"
     ]
    }
   ],
   "source": [
    "print(n)\n",
    "models_lsa[n].fit_model(image_sets_lsa[n],label_sets_lsa[n],x_val,y_val,epochs=10,batch_size = 64)\n",
    "n = n+1"
   ]
  },
  {
   "cell_type": "code",
   "execution_count": 26,
   "id": "1f1f84df",
   "metadata": {},
   "outputs": [
    {
     "name": "stdout",
     "output_type": "stream",
     "text": [
      "3\n",
      "Epoch 1/10\n",
      "175/175 [==============================] - 23s 120ms/step - loss: 0.6304 - accuracy: 0.8056 - val_loss: 1.6806 - val_accuracy: 0.6219\n",
      "Epoch 2/10\n",
      "175/175 [==============================] - 20s 117ms/step - loss: 0.1326 - accuracy: 0.9647 - val_loss: 1.4368 - val_accuracy: 0.6779\n",
      "Epoch 3/10\n",
      "175/175 [==============================] - 20s 117ms/step - loss: 0.0934 - accuracy: 0.9777 - val_loss: 1.2871 - val_accuracy: 0.7106\n",
      "Epoch 4/10\n",
      "175/175 [==============================] - 21s 118ms/step - loss: 0.0613 - accuracy: 0.9852 - val_loss: 1.1456 - val_accuracy: 0.7164\n",
      "Epoch 5/10\n",
      "175/175 [==============================] - 21s 119ms/step - loss: 0.0485 - accuracy: 0.9865 - val_loss: 0.9400 - val_accuracy: 0.7592\n",
      "Epoch 6/10\n",
      "175/175 [==============================] - 21s 119ms/step - loss: 0.0448 - accuracy: 0.9900 - val_loss: 1.1359 - val_accuracy: 0.7045\n",
      "Epoch 7/10\n",
      "175/175 [==============================] - 21s 119ms/step - loss: 0.0400 - accuracy: 0.9908 - val_loss: 1.4685 - val_accuracy: 0.6822\n",
      "Epoch 8/10\n",
      "175/175 [==============================] - 21s 120ms/step - loss: 0.0421 - accuracy: 0.9905 - val_loss: 0.9969 - val_accuracy: 0.7069\n",
      "Epoch 9/10\n",
      "175/175 [==============================] - 21s 121ms/step - loss: 0.0410 - accuracy: 0.9910 - val_loss: 0.8671 - val_accuracy: 0.7307\n",
      "Epoch 10/10\n",
      "175/175 [==============================] - 21s 121ms/step - loss: 0.0383 - accuracy: 0.9921 - val_loss: 1.1175 - val_accuracy: 0.6845\n",
      "Duration: 0:03:30.179784\n"
     ]
    }
   ],
   "source": [
    "print(n)\n",
    "models_lsa[n].fit_model(image_sets_lsa[n],label_sets_lsa[n],x_val,y_val,epochs=10,batch_size = 64)\n",
    "n = n+1"
   ]
  },
  {
   "cell_type": "code",
   "execution_count": 27,
   "id": "23e0459b",
   "metadata": {},
   "outputs": [
    {
     "name": "stdout",
     "output_type": "stream",
     "text": [
      "4\n",
      "Epoch 1/10\n",
      "219/219 [==============================] - 28s 120ms/step - loss: 0.6194 - accuracy: 0.7978 - val_loss: 1.1883 - val_accuracy: 0.7529\n",
      "Epoch 2/10\n",
      "219/219 [==============================] - 26s 120ms/step - loss: 0.1278 - accuracy: 0.9667 - val_loss: 1.3565 - val_accuracy: 0.7199\n",
      "Epoch 3/10\n",
      "219/219 [==============================] - 27s 121ms/step - loss: 0.0810 - accuracy: 0.9784 - val_loss: 1.4861 - val_accuracy: 0.6894\n",
      "Epoch 4/10\n",
      "219/219 [==============================] - 27s 122ms/step - loss: 0.0572 - accuracy: 0.9845 - val_loss: 1.3626 - val_accuracy: 0.7030\n",
      "Epoch 5/10\n",
      "219/219 [==============================] - 27s 122ms/step - loss: 0.0500 - accuracy: 0.9873 - val_loss: 1.2363 - val_accuracy: 0.7006\n",
      "Epoch 6/10\n",
      "219/219 [==============================] - 27s 122ms/step - loss: 0.0446 - accuracy: 0.9877 - val_loss: 1.9621 - val_accuracy: 0.6309\n",
      "Epoch 7/10\n",
      "219/219 [==============================] - 27s 122ms/step - loss: 0.0425 - accuracy: 0.9893 - val_loss: 1.0571 - val_accuracy: 0.6921\n",
      "Epoch 8/10\n",
      "219/219 [==============================] - 27s 124ms/step - loss: 0.0436 - accuracy: 0.9901 - val_loss: 0.6863 - val_accuracy: 0.7683\n",
      "Epoch 9/10\n",
      "219/219 [==============================] - 28s 126ms/step - loss: 0.0402 - accuracy: 0.9896 - val_loss: 0.7289 - val_accuracy: 0.7677\n",
      "Epoch 10/10\n",
      "219/219 [==============================] - 25s 115ms/step - loss: 0.0310 - accuracy: 0.9908 - val_loss: 1.1915 - val_accuracy: 0.6781\n",
      "Duration: 0:04:27.725754\n"
     ]
    }
   ],
   "source": [
    "print(n)#\n",
    "models_lsa[n].fit_model(image_sets_lsa[n],label_sets_lsa[n],x_val,y_val,epochs=10,batch_size = 64)\n",
    "n = n+1"
   ]
  },
  {
   "cell_type": "code",
   "execution_count": 28,
   "id": "4eccb083",
   "metadata": {},
   "outputs": [
    {
     "name": "stdout",
     "output_type": "stream",
     "text": [
      "5\n",
      "Epoch 1/10\n",
      "263/263 [==============================] - 31s 112ms/step - loss: 0.5377 - accuracy: 0.8278 - val_loss: 1.5092 - val_accuracy: 0.6477\n",
      "Epoch 2/10\n",
      "263/263 [==============================] - 29s 112ms/step - loss: 0.1077 - accuracy: 0.9715 - val_loss: 2.0663 - val_accuracy: 0.6461\n",
      "Epoch 3/10\n",
      "263/263 [==============================] - 29s 112ms/step - loss: 0.0731 - accuracy: 0.9839 - val_loss: 1.1179 - val_accuracy: 0.7429\n",
      "Epoch 4/10\n",
      "263/263 [==============================] - 29s 112ms/step - loss: 0.0609 - accuracy: 0.9851 - val_loss: 1.4108 - val_accuracy: 0.6829\n",
      "Epoch 5/10\n",
      "263/263 [==============================] - 29s 111ms/step - loss: 0.0514 - accuracy: 0.9892 - val_loss: 2.1561 - val_accuracy: 0.5869\n",
      "Epoch 6/10\n",
      "263/263 [==============================] - 30s 113ms/step - loss: 0.0459 - accuracy: 0.9903 - val_loss: 0.6773 - val_accuracy: 0.8011\n",
      "Epoch 7/10\n",
      "263/263 [==============================] - 29s 111ms/step - loss: 0.0460 - accuracy: 0.9891 - val_loss: 0.9722 - val_accuracy: 0.7046\n",
      "Epoch 8/10\n",
      "263/263 [==============================] - 30s 113ms/step - loss: 0.0447 - accuracy: 0.9890 - val_loss: 1.4569 - val_accuracy: 0.6734\n",
      "Epoch 9/10\n",
      "263/263 [==============================] - 29s 111ms/step - loss: 0.0418 - accuracy: 0.9904 - val_loss: 1.1506 - val_accuracy: 0.6725\n",
      "Epoch 10/10\n",
      "263/263 [==============================] - 29s 112ms/step - loss: 0.0468 - accuracy: 0.9889 - val_loss: 1.4884 - val_accuracy: 0.6384\n",
      "Duration: 0:04:56.068032\n"
     ]
    }
   ],
   "source": [
    "print(n)\n",
    "models_lsa[n].fit_model(image_sets_lsa[n],label_sets_lsa[n],x_val,y_val,epochs=10,batch_size = 64)\n",
    "n = n+1"
   ]
  },
  {
   "cell_type": "code",
   "execution_count": 29,
   "id": "c148cfda",
   "metadata": {},
   "outputs": [
    {
     "name": "stdout",
     "output_type": "stream",
     "text": [
      "6\n",
      "Epoch 1/10\n",
      "307/307 [==============================] - 35s 109ms/step - loss: 0.5357 - accuracy: 0.8297 - val_loss: 1.1176 - val_accuracy: 0.7474\n",
      "Epoch 2/10\n",
      "307/307 [==============================] - 33s 109ms/step - loss: 0.1038 - accuracy: 0.9744 - val_loss: 1.7215 - val_accuracy: 0.6661\n",
      "Epoch 3/10\n",
      "307/307 [==============================] - 33s 109ms/step - loss: 0.0728 - accuracy: 0.9819 - val_loss: 0.7986 - val_accuracy: 0.8260\n",
      "Epoch 4/10\n",
      "307/307 [==============================] - 34s 109ms/step - loss: 0.0548 - accuracy: 0.9859 - val_loss: 1.1994 - val_accuracy: 0.7162\n",
      "Epoch 5/10\n",
      "307/307 [==============================] - 33s 109ms/step - loss: 0.0590 - accuracy: 0.9871 - val_loss: 1.1655 - val_accuracy: 0.6899\n",
      "Epoch 6/10\n",
      "307/307 [==============================] - 33s 108ms/step - loss: 0.0499 - accuracy: 0.9873 - val_loss: 1.0416 - val_accuracy: 0.7293\n",
      "Epoch 7/10\n",
      "307/307 [==============================] - 33s 109ms/step - loss: 0.0521 - accuracy: 0.9877 - val_loss: 1.2523 - val_accuracy: 0.6874\n",
      "Epoch 8/10\n",
      "307/307 [==============================] - 33s 108ms/step - loss: 0.0521 - accuracy: 0.9883 - val_loss: 1.0457 - val_accuracy: 0.7249\n",
      "Epoch 9/10\n",
      "307/307 [==============================] - 33s 108ms/step - loss: 0.0539 - accuracy: 0.9873 - val_loss: 2.0877 - val_accuracy: 0.6038\n",
      "Epoch 10/10\n",
      "307/307 [==============================] - 34s 109ms/step - loss: 0.0472 - accuracy: 0.9882 - val_loss: 1.0287 - val_accuracy: 0.7452\n",
      "Duration: 0:05:35.699550\n"
     ]
    }
   ],
   "source": [
    "print(n)\n",
    "models_lsa[n].fit_model(image_sets_lsa[n],label_sets_lsa[n],x_val,y_val,epochs=10,batch_size = 64)\n",
    "n = n+1"
   ]
  },
  {
   "cell_type": "code",
   "execution_count": 30,
   "id": "e472398e",
   "metadata": {},
   "outputs": [
    {
     "name": "stdout",
     "output_type": "stream",
     "text": [
      "7\n",
      "Epoch 1/10\n",
      "350/350 [==============================] - 44s 118ms/step - loss: 0.4641 - accuracy: 0.8547 - val_loss: 1.8433 - val_accuracy: 0.6744\n",
      "Epoch 2/10\n",
      "350/350 [==============================] - 41s 117ms/step - loss: 0.0931 - accuracy: 0.9757 - val_loss: 1.4185 - val_accuracy: 0.7129\n",
      "Epoch 3/10\n",
      "350/350 [==============================] - 41s 117ms/step - loss: 0.0691 - accuracy: 0.9833 - val_loss: 1.0655 - val_accuracy: 0.7648\n",
      "Epoch 4/10\n",
      "350/350 [==============================] - 41s 117ms/step - loss: 0.0520 - accuracy: 0.9877 - val_loss: 0.7202 - val_accuracy: 0.7746\n",
      "Epoch 5/10\n",
      "350/350 [==============================] - 42s 121ms/step - loss: 0.0578 - accuracy: 0.9869 - val_loss: 0.9970 - val_accuracy: 0.7624\n",
      "Epoch 6/10\n",
      "350/350 [==============================] - 42s 119ms/step - loss: 0.0523 - accuracy: 0.9886 - val_loss: 1.2131 - val_accuracy: 0.7351\n",
      "Epoch 7/10\n",
      "350/350 [==============================] - 41s 117ms/step - loss: 0.0452 - accuracy: 0.9894 - val_loss: 1.2719 - val_accuracy: 0.7130\n",
      "Epoch 8/10\n",
      "350/350 [==============================] - 41s 117ms/step - loss: 0.0453 - accuracy: 0.9895 - val_loss: 0.6773 - val_accuracy: 0.7894\n",
      "Epoch 9/10\n",
      "350/350 [==============================] - 41s 116ms/step - loss: 0.0551 - accuracy: 0.9887 - val_loss: 0.8402 - val_accuracy: 0.7751\n",
      "Epoch 10/10\n",
      "350/350 [==============================] - 41s 117ms/step - loss: 0.0516 - accuracy: 0.9883 - val_loss: 1.1607 - val_accuracy: 0.7412\n",
      "Duration: 0:06:53.954981\n"
     ]
    }
   ],
   "source": [
    "print(n)\n",
    "models_lsa[n].fit_model(image_sets_lsa[n],label_sets_lsa[n],x_val,y_val,epochs=10,batch_size = 64)\n",
    "n = n+1"
   ]
  },
  {
   "cell_type": "code",
   "execution_count": 31,
   "id": "f5cdc620",
   "metadata": {},
   "outputs": [
    {
     "name": "stdout",
     "output_type": "stream",
     "text": [
      "8\n",
      "Epoch 1/10\n",
      "394/394 [==============================] - 49s 117ms/step - loss: 0.5010 - accuracy: 0.8437 - val_loss: 1.3818 - val_accuracy: 0.7451\n",
      "Epoch 2/10\n",
      "394/394 [==============================] - 46s 117ms/step - loss: 0.0913 - accuracy: 0.9754 - val_loss: 0.8375 - val_accuracy: 0.7824\n",
      "Epoch 3/10\n",
      "394/394 [==============================] - 46s 117ms/step - loss: 0.0671 - accuracy: 0.9831 - val_loss: 1.3069 - val_accuracy: 0.6674\n",
      "Epoch 4/10\n",
      "394/394 [==============================] - 46s 116ms/step - loss: 0.0650 - accuracy: 0.9850 - val_loss: 1.2805 - val_accuracy: 0.6778\n",
      "Epoch 5/10\n",
      "394/394 [==============================] - 46s 116ms/step - loss: 0.0597 - accuracy: 0.9861 - val_loss: 1.2936 - val_accuracy: 0.7057\n",
      "Epoch 6/10\n",
      "394/394 [==============================] - 46s 116ms/step - loss: 0.0586 - accuracy: 0.9856 - val_loss: 0.8365 - val_accuracy: 0.7569\n",
      "Epoch 7/10\n",
      "394/394 [==============================] - 46s 116ms/step - loss: 0.0589 - accuracy: 0.9862 - val_loss: 1.0017 - val_accuracy: 0.7567\n",
      "Epoch 8/10\n",
      "394/394 [==============================] - 46s 116ms/step - loss: 0.0563 - accuracy: 0.9869 - val_loss: 0.7797 - val_accuracy: 0.7857\n",
      "Epoch 9/10\n",
      "394/394 [==============================] - 46s 116ms/step - loss: 0.0583 - accuracy: 0.9858 - val_loss: 0.8743 - val_accuracy: 0.7519\n",
      "Epoch 10/10\n",
      "394/394 [==============================] - 46s 116ms/step - loss: 0.0602 - accuracy: 0.9863 - val_loss: 1.4985 - val_accuracy: 0.6928\n",
      "Duration: 0:07:41.264666\n"
     ]
    }
   ],
   "source": [
    "print(n)\n",
    "models_lsa[n].fit_model(image_sets_lsa[n],label_sets_lsa[n],x_val,y_val,epochs=10,batch_size = 64)\n",
    "n = n+1"
   ]
  },
  {
   "cell_type": "code",
   "execution_count": 32,
   "id": "6edd628e",
   "metadata": {},
   "outputs": [
    {
     "name": "stdout",
     "output_type": "stream",
     "text": [
      "9\n",
      "Epoch 1/10\n",
      "438/438 [==============================] - 53s 115ms/step - loss: 0.4407 - accuracy: 0.8619 - val_loss: 1.0935 - val_accuracy: 0.7794\n",
      "Epoch 2/10\n",
      "438/438 [==============================] - 51s 115ms/step - loss: 0.0819 - accuracy: 0.9781 - val_loss: 0.6822 - val_accuracy: 0.8236\n",
      "Epoch 3/10\n",
      "438/438 [==============================] - 50s 115ms/step - loss: 0.0624 - accuracy: 0.9848 - val_loss: 0.5166 - val_accuracy: 0.8402\n",
      "Epoch 4/10\n",
      "438/438 [==============================] - 50s 115ms/step - loss: 0.0535 - accuracy: 0.9862 - val_loss: 0.8394 - val_accuracy: 0.8162\n",
      "Epoch 5/10\n",
      "438/438 [==============================] - 50s 115ms/step - loss: 0.0556 - accuracy: 0.9873 - val_loss: 0.7260 - val_accuracy: 0.7998\n",
      "Epoch 6/10\n",
      "438/438 [==============================] - 51s 116ms/step - loss: 0.0560 - accuracy: 0.9866 - val_loss: 0.6970 - val_accuracy: 0.8074\n",
      "Epoch 7/10\n",
      "438/438 [==============================] - 50s 115ms/step - loss: 0.0512 - accuracy: 0.9877 - val_loss: 0.6230 - val_accuracy: 0.8203\n",
      "Epoch 8/10\n",
      "438/438 [==============================] - 50s 114ms/step - loss: 0.0586 - accuracy: 0.9854 - val_loss: 1.4583 - val_accuracy: 0.7645\n",
      "Epoch 9/10\n",
      "438/438 [==============================] - 50s 114ms/step - loss: 0.0630 - accuracy: 0.9851 - val_loss: 0.8098 - val_accuracy: 0.7848\n",
      "Epoch 10/10\n",
      "438/438 [==============================] - 50s 115ms/step - loss: 0.0667 - accuracy: 0.9839 - val_loss: 0.9686 - val_accuracy: 0.7696\n",
      "Duration: 0:08:26.312350\n"
     ]
    }
   ],
   "source": [
    "print(n)#\n",
    "models_lsa[n].fit_model(image_sets_lsa[n],label_sets_lsa[n],x_val,y_val,epochs=10,batch_size = 64)\n",
    "n = n+1"
   ]
  },
  {
   "cell_type": "code",
   "execution_count": 33,
   "id": "b03a4caf",
   "metadata": {},
   "outputs": [
    {
     "name": "stdout",
     "output_type": "stream",
     "text": [
      "10\n",
      "Epoch 1/10\n",
      "482/482 [==============================] - 58s 115ms/step - loss: 0.4720 - accuracy: 0.8475 - val_loss: 1.1220 - val_accuracy: 0.7907\n",
      "Epoch 2/10\n",
      "482/482 [==============================] - 56s 115ms/step - loss: 0.0972 - accuracy: 0.9727 - val_loss: 0.9021 - val_accuracy: 0.7804\n",
      "Epoch 3/10\n",
      "482/482 [==============================] - 55s 115ms/step - loss: 0.0750 - accuracy: 0.9800 - val_loss: 0.9624 - val_accuracy: 0.7949\n",
      "Epoch 4/10\n",
      "482/482 [==============================] - 55s 114ms/step - loss: 0.0624 - accuracy: 0.9844 - val_loss: 0.9424 - val_accuracy: 0.7873\n",
      "Epoch 5/10\n",
      "482/482 [==============================] - 55s 114ms/step - loss: 0.0647 - accuracy: 0.9836 - val_loss: 1.4817 - val_accuracy: 0.7788\n",
      "Epoch 6/10\n",
      "482/482 [==============================] - 55s 114ms/step - loss: 0.0687 - accuracy: 0.9828 - val_loss: 1.1269 - val_accuracy: 0.7717\n",
      "Epoch 7/10\n",
      "482/482 [==============================] - 55s 114ms/step - loss: 0.0598 - accuracy: 0.9861 - val_loss: 0.9507 - val_accuracy: 0.8157\n",
      "Epoch 8/10\n",
      "482/482 [==============================] - 55s 114ms/step - loss: 0.0646 - accuracy: 0.9837 - val_loss: 0.7546 - val_accuracy: 0.8064\n",
      "Epoch 9/10\n",
      "482/482 [==============================] - 55s 113ms/step - loss: 0.0733 - accuracy: 0.9824 - val_loss: 1.3700 - val_accuracy: 0.8127\n",
      "Epoch 10/10\n",
      "482/482 [==============================] - 55s 114ms/step - loss: 0.0668 - accuracy: 0.9827 - val_loss: 1.5185 - val_accuracy: 0.7360\n",
      "Duration: 0:09:12.623856\n"
     ]
    }
   ],
   "source": [
    "print(n)\n",
    "models_lsa[n].fit_model(image_sets_lsa[n],label_sets_lsa[n],x_val,y_val,epochs=10,batch_size = 64)\n",
    "n = n+1"
   ]
  },
  {
   "cell_type": "code",
   "execution_count": 34,
   "id": "a437cd1a",
   "metadata": {},
   "outputs": [
    {
     "name": "stdout",
     "output_type": "stream",
     "text": [
      "11\n",
      "Epoch 1/10\n",
      "525/525 [==============================] - 62s 114ms/step - loss: 0.4422 - accuracy: 0.8570 - val_loss: 1.2233 - val_accuracy: 0.7970\n",
      "Epoch 2/10\n",
      "525/525 [==============================] - 59s 113ms/step - loss: 0.0871 - accuracy: 0.9760 - val_loss: 1.2542 - val_accuracy: 0.7860ETA: 0s - loss: 0.0872 - accuracy\n",
      "Epoch 3/10\n",
      "525/525 [==============================] - 59s 112ms/step - loss: 0.0623 - accuracy: 0.9825 - val_loss: 1.0919 - val_accuracy: 0.8229\n",
      "Epoch 4/10\n",
      "525/525 [==============================] - 59s 112ms/step - loss: 0.0580 - accuracy: 0.9847 - val_loss: 0.4103 - val_accuracy: 0.8661\n",
      "Epoch 5/10\n",
      "525/525 [==============================] - 59s 113ms/step - loss: 0.0570 - accuracy: 0.9854 - val_loss: 0.7818 - val_accuracy: 0.8328\n",
      "Epoch 6/10\n",
      "525/525 [==============================] - 59s 112ms/step - loss: 0.0621 - accuracy: 0.9844 - val_loss: 0.4286 - val_accuracy: 0.8572\n",
      "Epoch 7/10\n",
      "525/525 [==============================] - 60s 114ms/step - loss: 0.0655 - accuracy: 0.9851 - val_loss: 0.4480 - val_accuracy: 0.8490\n",
      "Epoch 8/10\n",
      "525/525 [==============================] - 60s 114ms/step - loss: 0.0654 - accuracy: 0.9838 - val_loss: 0.5036 - val_accuracy: 0.8361\n",
      "Epoch 9/10\n",
      "525/525 [==============================] - 60s 114ms/step - loss: 0.0730 - accuracy: 0.9810 - val_loss: 0.6266 - val_accuracy: 0.8219\n",
      "Epoch 10/10\n",
      "525/525 [==============================] - 59s 113ms/step - loss: 0.0751 - accuracy: 0.9826 - val_loss: 0.5647 - val_accuracy: 0.8281\n",
      "Duration: 0:09:57.023151\n"
     ]
    }
   ],
   "source": [
    "print(n)\n",
    "models_lsa[n].fit_model(image_sets_lsa[n],label_sets_lsa[n],x_val,y_val,epochs=10,batch_size = 64)\n",
    "n = n+1"
   ]
  },
  {
   "cell_type": "code",
   "execution_count": 35,
   "id": "5f350a88",
   "metadata": {},
   "outputs": [
    {
     "name": "stdout",
     "output_type": "stream",
     "text": [
      "12\n",
      "Epoch 1/10\n",
      "569/569 [==============================] - 70s 118ms/step - loss: 0.4325 - accuracy: 0.8603 - val_loss: 1.3162 - val_accuracy: 0.8034\n",
      "Epoch 2/10\n",
      "569/569 [==============================] - 68s 120ms/step - loss: 0.0934 - accuracy: 0.9742 - val_loss: 0.7587 - val_accuracy: 0.8412\n",
      "Epoch 3/10\n",
      "569/569 [==============================] - 61s 107ms/step - loss: 0.0680 - accuracy: 0.9821 - val_loss: 0.4037 - val_accuracy: 0.8646\n",
      "Epoch 4/10\n",
      "569/569 [==============================] - 59s 104ms/step - loss: 0.0620 - accuracy: 0.9838 - val_loss: 0.7022 - val_accuracy: 0.8401\n",
      "Epoch 5/10\n",
      "569/569 [==============================] - 59s 104ms/step - loss: 0.0657 - accuracy: 0.9831 - val_loss: 0.4651 - val_accuracy: 0.8520\n",
      "Epoch 6/10\n",
      "569/569 [==============================] - 59s 104ms/step - loss: 0.0662 - accuracy: 0.9824 - val_loss: 0.8133 - val_accuracy: 0.8175\n",
      "Epoch 7/10\n",
      "569/569 [==============================] - 60s 105ms/step - loss: 0.0730 - accuracy: 0.9818 - val_loss: 0.7260 - val_accuracy: 0.8326\n",
      "Epoch 8/10\n",
      "569/569 [==============================] - 59s 104ms/step - loss: 0.0771 - accuracy: 0.9812 - val_loss: 0.8686 - val_accuracy: 0.8231\n",
      "Epoch 9/10\n",
      "569/569 [==============================] - 59s 104ms/step - loss: 0.0792 - accuracy: 0.9811 - val_loss: 0.6628 - val_accuracy: 0.8250\n",
      "Epoch 10/10\n",
      "569/569 [==============================] - 59s 104ms/step - loss: 0.0840 - accuracy: 0.9794 - val_loss: 1.1459 - val_accuracy: 0.7875\n",
      "Duration: 0:10:13.542764\n"
     ]
    }
   ],
   "source": [
    "print(n)\n",
    "models_lsa[n].fit_model(image_sets_lsa[n],label_sets_lsa[n],x_val,y_val,epochs=10,batch_size = 64)\n",
    "n = n+1"
   ]
  },
  {
   "cell_type": "code",
   "execution_count": 36,
   "id": "e44708f1",
   "metadata": {},
   "outputs": [
    {
     "name": "stdout",
     "output_type": "stream",
     "text": [
      "13\n",
      "Epoch 1/10\n",
      "613/613 [==============================] - 66s 104ms/step - loss: 0.4452 - accuracy: 0.8599 - val_loss: 0.6561 - val_accuracy: 0.8504\n",
      "Epoch 2/10\n",
      "613/613 [==============================] - 64s 105ms/step - loss: 0.0987 - accuracy: 0.9712 - val_loss: 0.7352 - val_accuracy: 0.8608\n",
      "Epoch 3/10\n",
      "613/613 [==============================] - 64s 105ms/step - loss: 0.0700 - accuracy: 0.9801 - val_loss: 0.3518 - val_accuracy: 0.8811\n",
      "Epoch 4/10\n",
      "613/613 [==============================] - 64s 104ms/step - loss: 0.0659 - accuracy: 0.9814 - val_loss: 0.5856 - val_accuracy: 0.8677\n",
      "Epoch 5/10\n",
      "613/613 [==============================] - 64s 104ms/step - loss: 0.0693 - accuracy: 0.9807 - val_loss: 0.4663 - val_accuracy: 0.8716\n",
      "Epoch 6/10\n",
      "613/613 [==============================] - 64s 104ms/step - loss: 0.0657 - accuracy: 0.9819 - val_loss: 0.2878 - val_accuracy: 0.8980\n",
      "Epoch 7/10\n",
      "613/613 [==============================] - 64s 104ms/step - loss: 0.0725 - accuracy: 0.9810 - val_loss: 0.6112 - val_accuracy: 0.8643\n",
      "Epoch 8/10\n",
      "613/613 [==============================] - 64s 104ms/step - loss: 0.0761 - accuracy: 0.9811 - val_loss: 0.3574 - val_accuracy: 0.8730\n",
      "Epoch 9/10\n",
      "613/613 [==============================] - 63s 104ms/step - loss: 0.0750 - accuracy: 0.9825 - val_loss: 0.4899 - val_accuracy: 0.8669\n",
      "Epoch 10/10\n",
      "613/613 [==============================] - 64s 104ms/step - loss: 0.0786 - accuracy: 0.9799 - val_loss: 0.3046 - val_accuracy: 0.9654\n",
      "Duration: 0:10:40.702040\n"
     ]
    }
   ],
   "source": [
    "print(n)\n",
    "models_lsa[n].fit_model(image_sets_lsa[n],label_sets_lsa[n],x_val,y_val,epochs=10,batch_size = 64)\n",
    "n = n+1"
   ]
  },
  {
   "cell_type": "code",
   "execution_count": 37,
   "id": "eedcb6d2",
   "metadata": {},
   "outputs": [
    {
     "name": "stdout",
     "output_type": "stream",
     "text": [
      "14\n",
      "Epoch 1/10\n",
      "657/657 [==============================] - 74s 109ms/step - loss: 0.4271 - accuracy: 0.8653 - val_loss: 0.5657 - val_accuracy: 0.8666\n",
      "Epoch 2/10\n",
      "657/657 [==============================] - 69s 105ms/step - loss: 0.0965 - accuracy: 0.9739 - val_loss: 0.6109 - val_accuracy: 0.8662\n",
      "Epoch 3/10\n",
      "657/657 [==============================] - 69s 105ms/step - loss: 0.0730 - accuracy: 0.9812 - val_loss: 0.3145 - val_accuracy: 0.8829\n",
      "Epoch 4/10\n",
      "657/657 [==============================] - 68s 104ms/step - loss: 0.0684 - accuracy: 0.9810 - val_loss: 0.4884 - val_accuracy: 0.8724\n",
      "Epoch 5/10\n",
      "657/657 [==============================] - 69s 105ms/step - loss: 0.0705 - accuracy: 0.9816 - val_loss: 0.3406 - val_accuracy: 0.8839\n",
      "Epoch 6/10\n",
      "657/657 [==============================] - 70s 106ms/step - loss: 0.0729 - accuracy: 0.9818 - val_loss: 0.2938 - val_accuracy: 0.8845\n",
      "Epoch 7/10\n",
      "657/657 [==============================] - 76s 116ms/step - loss: 0.0755 - accuracy: 0.9813 - val_loss: 0.2324 - val_accuracy: 0.9324\n",
      "Epoch 8/10\n",
      "657/657 [==============================] - 76s 115ms/step - loss: 0.0702 - accuracy: 0.9821 - val_loss: 0.3605 - val_accuracy: 0.8941\n",
      "Epoch 9/10\n",
      "657/657 [==============================] - 76s 115ms/step - loss: 0.0747 - accuracy: 0.9809 - val_loss: 0.3307 - val_accuracy: 0.8906\n",
      "Epoch 10/10\n",
      "657/657 [==============================] - 76s 115ms/step - loss: 0.0772 - accuracy: 0.9812 - val_loss: 0.3335 - val_accuracy: 0.8861\n",
      "Duration: 0:12:01.593815\n"
     ]
    }
   ],
   "source": [
    "print(n)#\n",
    "models_lsa[n].fit_model(image_sets_lsa[n],label_sets_lsa[n],x_val,y_val,epochs=10,batch_size = 64)\n",
    "n = n+1"
   ]
  },
  {
   "cell_type": "code",
   "execution_count": 38,
   "id": "7137d84d",
   "metadata": {},
   "outputs": [
    {
     "name": "stdout",
     "output_type": "stream",
     "text": [
      "15\n",
      "Epoch 1/10\n",
      "700/700 [==============================] - 84s 117ms/step - loss: 0.4178 - accuracy: 0.8668 - val_loss: 0.4279 - val_accuracy: 0.8744\n",
      "Epoch 2/10\n",
      "700/700 [==============================] - 80s 115ms/step - loss: 0.0921 - accuracy: 0.9744 - val_loss: 0.2447 - val_accuracy: 0.9051\n",
      "Epoch 3/10\n",
      "700/700 [==============================] - 81s 115ms/step - loss: 0.0741 - accuracy: 0.9790 - val_loss: 0.1876 - val_accuracy: 0.9421\n",
      "Epoch 4/10\n",
      "700/700 [==============================] - 80s 115ms/step - loss: 0.0659 - accuracy: 0.9814 - val_loss: 0.1686 - val_accuracy: 0.9708\n",
      "Epoch 5/10\n",
      "700/700 [==============================] - 79s 114ms/step - loss: 0.0678 - accuracy: 0.9823 - val_loss: 0.1371 - val_accuracy: 0.9679\n",
      "Epoch 6/10\n",
      "700/700 [==============================] - 80s 114ms/step - loss: 0.0654 - accuracy: 0.9816 - val_loss: 0.1610 - val_accuracy: 0.9601\n",
      "Epoch 7/10\n",
      "700/700 [==============================] - 82s 117ms/step - loss: 0.0709 - accuracy: 0.9822 - val_loss: 0.1909 - val_accuracy: 0.9826\n",
      "Epoch 8/10\n",
      "700/700 [==============================] - 80s 114ms/step - loss: 0.0716 - accuracy: 0.9834 - val_loss: 0.1334 - val_accuracy: 0.9771\n",
      "Epoch 9/10\n",
      "700/700 [==============================] - 80s 114ms/step - loss: 0.0788 - accuracy: 0.9801 - val_loss: 0.1707 - val_accuracy: 0.9752\n",
      "Epoch 10/10\n",
      "700/700 [==============================] - 79s 114ms/step - loss: 0.0772 - accuracy: 0.9810 - val_loss: 0.1548 - val_accuracy: 0.9663\n",
      "Duration: 0:13:26.108480\n"
     ]
    }
   ],
   "source": [
    "print(n)\n",
    "models_lsa[n].fit_model(image_sets_lsa[n],label_sets_lsa[n],x_val,y_val,epochs=10,batch_size = 64)\n",
    "n = n+1"
   ]
  },
  {
   "cell_type": "code",
   "execution_count": 39,
   "id": "bb8f82be",
   "metadata": {},
   "outputs": [
    {
     "name": "stdout",
     "output_type": "stream",
     "text": [
      "16\n",
      "Epoch 1/10\n",
      "744/744 [==============================] - 90s 117ms/step - loss: 0.4386 - accuracy: 0.8644 - val_loss: 0.5860 - val_accuracy: 0.8741\n",
      "Epoch 2/10\n",
      "744/744 [==============================] - 87s 116ms/step - loss: 0.1003 - accuracy: 0.9731 - val_loss: 0.3139 - val_accuracy: 0.8912\n",
      "Epoch 3/10\n",
      "744/744 [==============================] - 87s 116ms/step - loss: 0.0698 - accuracy: 0.9806 - val_loss: 0.2029 - val_accuracy: 0.9369\n",
      "Epoch 4/10\n",
      "744/744 [==============================] - 87s 116ms/step - loss: 0.0606 - accuracy: 0.9830 - val_loss: 0.1429 - val_accuracy: 0.9635\n",
      "Epoch 5/10\n",
      "744/744 [==============================] - 86s 116ms/step - loss: 0.0601 - accuracy: 0.9834 - val_loss: 0.1346 - val_accuracy: 0.9794\n",
      "Epoch 6/10\n",
      "744/744 [==============================] - 86s 116ms/step - loss: 0.0613 - accuracy: 0.9830 - val_loss: 0.1613 - val_accuracy: 0.9611\n",
      "Epoch 7/10\n",
      "744/744 [==============================] - 80s 108ms/step - loss: 0.0606 - accuracy: 0.9835 - val_loss: 0.1891 - val_accuracy: 0.9556\n",
      "Epoch 8/10\n",
      "744/744 [==============================] - 78s 105ms/step - loss: 0.0670 - accuracy: 0.9837 - val_loss: 0.1503 - val_accuracy: 0.9664\n",
      "Epoch 9/10\n",
      "744/744 [==============================] - 78s 105ms/step - loss: 0.0678 - accuracy: 0.9832 - val_loss: 0.1623 - val_accuracy: 0.9699\n",
      "Epoch 10/10\n",
      "744/744 [==============================] - 80s 108ms/step - loss: 0.0703 - accuracy: 0.9830 - val_loss: 0.2676 - val_accuracy: 0.9821\n",
      "Duration: 0:13:58.285036\n"
     ]
    }
   ],
   "source": [
    "print(n)\n",
    "models_lsa[n].fit_model(image_sets_lsa[n],label_sets_lsa[n],x_val,y_val,epochs=10,batch_size = 64)\n",
    "n = n+1"
   ]
  },
  {
   "cell_type": "code",
   "execution_count": 40,
   "id": "ff11737d",
   "metadata": {},
   "outputs": [
    {
     "name": "stdout",
     "output_type": "stream",
     "text": [
      "17\n",
      "Epoch 1/10\n",
      "788/788 [==============================] - 85s 106ms/step - loss: 0.3959 - accuracy: 0.8756 - val_loss: 0.0726 - val_accuracy: 0.9779\n",
      "Epoch 2/10\n",
      "788/788 [==============================] - 79s 101ms/step - loss: 0.0877 - accuracy: 0.9740 - val_loss: 0.0547 - val_accuracy: 0.9827\n",
      "Epoch 3/10\n",
      "788/788 [==============================] - 79s 100ms/step - loss: 0.0671 - accuracy: 0.9809 - val_loss: 0.0605 - val_accuracy: 0.9826\n",
      "Epoch 4/10\n",
      "788/788 [==============================] - 79s 100ms/step - loss: 0.0590 - accuracy: 0.9824 - val_loss: 0.0540 - val_accuracy: 0.9837\n",
      "Epoch 5/10\n",
      "788/788 [==============================] - 79s 101ms/step - loss: 0.0609 - accuracy: 0.9827 - val_loss: 0.0553 - val_accuracy: 0.9838\n",
      "Epoch 6/10\n",
      "788/788 [==============================] - 79s 100ms/step - loss: 0.0660 - accuracy: 0.9823 - val_loss: 0.0617 - val_accuracy: 0.9839\n",
      "Epoch 7/10\n",
      "788/788 [==============================] - 79s 100ms/step - loss: 0.0695 - accuracy: 0.9824 - val_loss: 0.0608 - val_accuracy: 0.9846\n",
      "Epoch 8/10\n",
      "788/788 [==============================] - 79s 100ms/step - loss: 0.0672 - accuracy: 0.9826 - val_loss: 0.0599 - val_accuracy: 0.9846\n",
      "Epoch 9/10\n",
      "788/788 [==============================] - 83s 105ms/step - loss: 0.0680 - accuracy: 0.9817 - val_loss: 0.0768 - val_accuracy: 0.9817\n",
      "Epoch 10/10\n",
      "788/788 [==============================] - 82s 104ms/step - loss: 0.0780 - accuracy: 0.9824 - val_loss: 0.0655 - val_accuracy: 0.9852\n",
      "Duration: 0:13:23.007091\n"
     ]
    }
   ],
   "source": [
    "print(n)\n",
    "models_lsa[n].fit_model(image_sets_lsa[n],label_sets_lsa[n],x_val,y_val,epochs=10,batch_size = 64)\n",
    "n = n+1"
   ]
  },
  {
   "cell_type": "code",
   "execution_count": 41,
   "id": "8737c9b0",
   "metadata": {},
   "outputs": [
    {
     "name": "stdout",
     "output_type": "stream",
     "text": [
      "18\n",
      "Epoch 1/10\n",
      "832/832 [==============================] - 89s 105ms/step - loss: 0.3867 - accuracy: 0.8773 - val_loss: 0.0570 - val_accuracy: 0.9825\n",
      "Epoch 2/10\n",
      "832/832 [==============================] - 87s 105ms/step - loss: 0.0902 - accuracy: 0.9736 - val_loss: 0.0513 - val_accuracy: 0.9839\n",
      "Epoch 3/10\n",
      "832/832 [==============================] - 87s 105ms/step - loss: 0.0699 - accuracy: 0.9798 - val_loss: 0.0462 - val_accuracy: 0.9856\n",
      "Epoch 4/10\n",
      "832/832 [==============================] - 89s 107ms/step - loss: 0.0637 - accuracy: 0.9815 - val_loss: 0.0507 - val_accuracy: 0.9859\n",
      "Epoch 5/10\n",
      "832/832 [==============================] - 92s 110ms/step - loss: 0.0669 - accuracy: 0.9827 - val_loss: 0.0581 - val_accuracy: 0.9834\n",
      "Epoch 6/10\n",
      "832/832 [==============================] - 97s 116ms/step - loss: 0.0699 - accuracy: 0.9819 - val_loss: 0.0516 - val_accuracy: 0.9857\n",
      "Epoch 7/10\n",
      "832/832 [==============================] - 96s 116ms/step - loss: 0.0691 - accuracy: 0.9813 - val_loss: 0.0491 - val_accuracy: 0.9853\n",
      "Epoch 8/10\n",
      "832/832 [==============================] - 96s 116ms/step - loss: 0.0716 - accuracy: 0.9815 - val_loss: 0.0617 - val_accuracy: 0.9856\n",
      "Epoch 9/10\n",
      "832/832 [==============================] - 97s 117ms/step - loss: 0.0745 - accuracy: 0.9810 - val_loss: 0.0514 - val_accuracy: 0.9862\n",
      "Epoch 10/10\n",
      "832/832 [==============================] - 96s 116ms/step - loss: 0.0745 - accuracy: 0.9818 - val_loss: 0.0662 - val_accuracy: 0.9848\n",
      "Duration: 0:15:27.245022\n"
     ]
    }
   ],
   "source": [
    "print(n)\n",
    "models_lsa[n].fit_model(image_sets_lsa[n],label_sets_lsa[n],x_val,y_val,epochs=10,batch_size = 64)\n",
    "n = n+1"
   ]
  },
  {
   "cell_type": "code",
   "execution_count": 42,
   "id": "787a45bb",
   "metadata": {},
   "outputs": [
    {
     "name": "stdout",
     "output_type": "stream",
     "text": [
      "19\n",
      "Epoch 1/10\n",
      "875/875 [==============================] - 104s 116ms/step - loss: 0.3969 - accuracy: 0.8760 - val_loss: 0.0629 - val_accuracy: 0.9811\n",
      "Epoch 2/10\n",
      "875/875 [==============================] - 102s 116ms/step - loss: 0.0875 - accuracy: 0.9750 - val_loss: 0.0617 - val_accuracy: 0.9823\n",
      "Epoch 3/10\n",
      "875/875 [==============================] - 99s 113ms/step - loss: 0.0673 - accuracy: 0.9807 - val_loss: 0.0539 - val_accuracy: 0.9841\n",
      "Epoch 4/10\n",
      "875/875 [==============================] - 92s 105ms/step - loss: 0.0600 - accuracy: 0.9837 - val_loss: 0.0459 - val_accuracy: 0.9865\n",
      "Epoch 5/10\n",
      "875/875 [==============================] - 93s 106ms/step - loss: 0.0616 - accuracy: 0.9833 - val_loss: 0.0458 - val_accuracy: 0.9858\n",
      "Epoch 6/10\n",
      "875/875 [==============================] - 93s 106ms/step - loss: 0.0652 - accuracy: 0.9826 - val_loss: 0.0478 - val_accuracy: 0.9857\n",
      "Epoch 7/10\n",
      "875/875 [==============================] - 92s 105ms/step - loss: 0.0705 - accuracy: 0.9832 - val_loss: 0.0550 - val_accuracy: 0.9858\n",
      "Epoch 8/10\n",
      "875/875 [==============================] - 92s 105ms/step - loss: 0.0633 - accuracy: 0.9842 - val_loss: 0.0531 - val_accuracy: 0.9866\n",
      "Epoch 9/10\n",
      "875/875 [==============================] - 92s 105ms/step - loss: 0.0722 - accuracy: 0.9818 - val_loss: 0.0581 - val_accuracy: 0.9842\n",
      "Epoch 10/10\n",
      "875/875 [==============================] - 92s 105ms/step - loss: 0.0731 - accuracy: 0.9823 - val_loss: 0.0463 - val_accuracy: 0.9865\n",
      "Duration: 0:15:49.341915\n"
     ]
    }
   ],
   "source": [
    "print(n)#\n",
    "models_lsa[n].fit_model(image_sets_lsa[n],label_sets_lsa[n],x_val,y_val,epochs=10,batch_size = 64)\n",
    "n = n+1"
   ]
  },
  {
   "cell_type": "code",
   "execution_count": null,
   "id": "6fe2527b",
   "metadata": {},
   "outputs": [],
   "source": [
    "time.sleep(400)"
   ]
  },
  {
   "cell_type": "code",
   "execution_count": null,
   "id": "cb139a21",
   "metadata": {},
   "outputs": [],
   "source": [
    "len(models_lsa)"
   ]
  },
  {
   "cell_type": "code",
   "execution_count": 43,
   "id": "9cf4ae1e",
   "metadata": {},
   "outputs": [
    {
     "name": "stdout",
     "output_type": "stream",
     "text": [
      "INFO:tensorflow:Assets written to: D:/models/aug_22/mnist/C1/mnist_model_c1_aug_lsa_e1_0\\assets\n",
      "Model has been saved\n",
      "INFO:tensorflow:Assets written to: D:/models/aug_22/mnist/C1/mnist_model_c1_aug_lsa_e1_1\\assets\n",
      "Model has been saved\n",
      "INFO:tensorflow:Assets written to: D:/models/aug_22/mnist/C1/mnist_model_c1_aug_lsa_e1_2\\assets\n",
      "Model has been saved\n",
      "INFO:tensorflow:Assets written to: D:/models/aug_22/mnist/C1/mnist_model_c1_aug_lsa_e1_3\\assets\n",
      "Model has been saved\n",
      "INFO:tensorflow:Assets written to: D:/models/aug_22/mnist/C1/mnist_model_c1_aug_lsa_e1_4\\assets\n",
      "Model has been saved\n",
      "INFO:tensorflow:Assets written to: D:/models/aug_22/mnist/C1/mnist_model_c1_aug_lsa_e1_5\\assets\n",
      "Model has been saved\n",
      "INFO:tensorflow:Assets written to: D:/models/aug_22/mnist/C1/mnist_model_c1_aug_lsa_e1_6\\assets\n",
      "Model has been saved\n",
      "INFO:tensorflow:Assets written to: D:/models/aug_22/mnist/C1/mnist_model_c1_aug_lsa_e1_7\\assets\n",
      "Model has been saved\n",
      "INFO:tensorflow:Assets written to: D:/models/aug_22/mnist/C1/mnist_model_c1_aug_lsa_e1_8\\assets\n",
      "Model has been saved\n",
      "INFO:tensorflow:Assets written to: D:/models/aug_22/mnist/C1/mnist_model_c1_aug_lsa_e1_9\\assets\n",
      "Model has been saved\n",
      "INFO:tensorflow:Assets written to: D:/models/aug_22/mnist/C1/mnist_model_c1_aug_lsa_e1_10\\assets\n",
      "Model has been saved\n",
      "INFO:tensorflow:Assets written to: D:/models/aug_22/mnist/C1/mnist_model_c1_aug_lsa_e1_11\\assets\n",
      "Model has been saved\n",
      "INFO:tensorflow:Assets written to: D:/models/aug_22/mnist/C1/mnist_model_c1_aug_lsa_e1_12\\assets\n",
      "Model has been saved\n",
      "INFO:tensorflow:Assets written to: D:/models/aug_22/mnist/C1/mnist_model_c1_aug_lsa_e1_13\\assets\n",
      "Model has been saved\n",
      "INFO:tensorflow:Assets written to: D:/models/aug_22/mnist/C1/mnist_model_c1_aug_lsa_e1_14\\assets\n",
      "Model has been saved\n",
      "INFO:tensorflow:Assets written to: D:/models/aug_22/mnist/C1/mnist_model_c1_aug_lsa_e1_15\\assets\n",
      "Model has been saved\n",
      "INFO:tensorflow:Assets written to: D:/models/aug_22/mnist/C1/mnist_model_c1_aug_lsa_e1_16\\assets\n",
      "Model has been saved\n",
      "INFO:tensorflow:Assets written to: D:/models/aug_22/mnist/C1/mnist_model_c1_aug_lsa_e1_17\\assets\n",
      "Model has been saved\n",
      "INFO:tensorflow:Assets written to: D:/models/aug_22/mnist/C1/mnist_model_c1_aug_lsa_e1_18\\assets\n",
      "Model has been saved\n",
      "INFO:tensorflow:Assets written to: D:/models/aug_22/mnist/C1/mnist_model_c1_aug_lsa_e1_19\\assets\n",
      "Model has been saved\n"
     ]
    }
   ],
   "source": [
    "#new_model_lsa_dir  = \"D:/models/gtsrb_models/C1/gtsrb_model_c1_sep_lsa_e2\"\n",
    "new_model_lsa_dir  = \"D:/models/aug_22/\"+dataset+\"/C1/\"+dataset+\"_model_c1_aug_lsa_e1\"\n",
    "\n",
    "i=0\n",
    "\n",
    "for model in models_lsa:\n",
    "    model.save(new_model_lsa_dir+\"_\"+str(i))\n",
    "    i+=1"
   ]
  },
  {
   "cell_type": "code",
   "execution_count": 44,
   "id": "52746ba6",
   "metadata": {},
   "outputs": [],
   "source": [
    "import gc"
   ]
  },
  {
   "cell_type": "code",
   "execution_count": 45,
   "id": "759bc241",
   "metadata": {},
   "outputs": [],
   "source": [
    "try:\n",
    "    del lsa_values\n",
    "    del top_images_by_lsa\n",
    "    del top_labels_by_lsa\n",
    "    del image_sets_lsa\n",
    "    del label_sets_lsa\n",
    "    del models_lsa\n",
    "except:\n",
    "    print(\"Error\")"
   ]
  },
  {
   "cell_type": "code",
   "execution_count": null,
   "id": "a5e9b28b",
   "metadata": {},
   "outputs": [],
   "source": []
  },
  {
   "cell_type": "code",
   "execution_count": 46,
   "id": "402aa433",
   "metadata": {},
   "outputs": [
    {
     "data": {
      "text/plain": [
       "72824"
      ]
     },
     "execution_count": 46,
     "metadata": {},
     "output_type": "execute_result"
    }
   ],
   "source": [
    "gc.collect()"
   ]
  },
  {
   "cell_type": "code",
   "execution_count": null,
   "id": "66c44d5f",
   "metadata": {},
   "outputs": [],
   "source": [
    "loading = False\n",
    "\n",
    "models_lsa = []\n",
    "\n",
    "if loading:\n",
    "    for i in range(10,20):\n",
    "        #model_lsa_dir = \"D:/models/aug_22/gtsrb/C1/gtsrb_model_c1_aug_lsa_e1_\"+str(i)\n",
    "        print(model_lsa_dir)\n",
    "        model =utils.My_model(dataset,True,model_lsa_dir)\n",
    "        model.model.compile(loss= 'categorical_crossentropy', optimizer = 'rmsprop', metrics = ['accuracy',tf.keras.metrics.Precision(), tf.keras.metrics.Recall()])\n",
    "        models_lsa.append(model)\n",
    "       \n",
    "    "
   ]
  },
  {
   "cell_type": "markdown",
   "id": "a13ef06e",
   "metadata": {},
   "source": [
    "## Training guided by DSA"
   ]
  },
  {
   "cell_type": "code",
   "execution_count": 47,
   "id": "14fc6a14",
   "metadata": {},
   "outputs": [],
   "source": [
    "dsa_direction = \"C:/Users/fjdur/Documents/upc-july/data/\"+dataset+\"/dsa_values.npy\""
   ]
  },
  {
   "cell_type": "code",
   "execution_count": 48,
   "id": "585cd8f2",
   "metadata": {},
   "outputs": [],
   "source": [
    "dsa_values = np.load(dsa_direction)"
   ]
  },
  {
   "cell_type": "code",
   "execution_count": 49,
   "id": "5944946f",
   "metadata": {},
   "outputs": [],
   "source": [
    "top_images_by_dsa = utils.get_x_of_indexes(list(np.flip(np.argsort(dsa_values))),x_train_and_adversary)\n",
    "top_labels_by_dsa = utils.get_x_of_indexes(list(np.flip(np.argsort(dsa_values))),y_train_and_adversary)"
   ]
  },
  {
   "cell_type": "code",
   "execution_count": 50,
   "id": "099c7fa2",
   "metadata": {},
   "outputs": [
    {
     "name": "stdout",
     "output_type": "stream",
     "text": [
      "0 :\n",
      "0  ->  2800\n",
      "2800\n",
      "1 :\n",
      "0  ->  5600\n",
      "5600\n",
      "2 :\n",
      "0  ->  8400\n",
      "8400\n",
      "3 :\n",
      "0  ->  11200\n",
      "11200\n",
      "4 :\n",
      "0  ->  14000\n",
      "14000\n",
      "5 :\n",
      "0  ->  16800\n",
      "16800\n",
      "6 :\n",
      "0  ->  19600\n",
      "19600\n",
      "7 :\n",
      "0  ->  22400\n",
      "22400\n",
      "8 :\n",
      "0  ->  25200\n",
      "25200\n",
      "9 :\n",
      "0  ->  28000\n",
      "28000\n",
      "10 :\n",
      "0  ->  30800\n",
      "30800\n",
      "11 :\n",
      "0  ->  33600\n",
      "33600\n",
      "12 :\n",
      "0  ->  36400\n",
      "36400\n",
      "13 :\n",
      "0  ->  39200\n",
      "39200\n",
      "14 :\n",
      "0  ->  42000\n",
      "42000\n",
      "15 :\n",
      "0  ->  44800\n",
      "44800\n",
      "16 :\n",
      "0  ->  47600\n",
      "47600\n",
      "17 :\n",
      "0  ->  50400\n",
      "50400\n",
      "18 :\n",
      "0  ->  53200\n",
      "53200\n",
      "19 :\n",
      "Last\n",
      "0  ->  58798\n",
      "55998\n"
     ]
    }
   ],
   "source": [
    "m = n_data_points\n",
    "n = 0\n",
    "image_sets_dsa = []\n",
    "label_sets_dsa = []\n",
    "\n",
    "\n",
    "for i in range((len(top_images_by_dsa)//m)+1):\n",
    "    print(i,\":\")\n",
    "    if (i+1 >= ((len(top_images_by_dsa)//m)+1)):\n",
    "        print(\"Last\")\n",
    "        print(0,\" -> \",n+m+(len(top_images_by_dsa)%m))\n",
    "        top_images_by_dsa_n = np.array(top_images_by_dsa[:n+m+(len(top_images_by_dsa)%m)])\n",
    "        top_labels_by_dsa_n = np.array(top_labels_by_dsa[:n+m+(len(top_images_by_dsa)%m)])\n",
    "    else:\n",
    "        print(0,\" -> \",m+n)\n",
    "        top_images_by_dsa_n = np.array(top_images_by_dsa[:n+m])\n",
    "        top_labels_by_dsa_n = np.array(top_labels_by_dsa[:n+m])\n",
    "    image_sets_dsa.append(top_images_by_dsa_n)\n",
    "    label_sets_dsa.append(top_labels_by_dsa_n)\n",
    "    print(len(top_images_by_dsa_n))\n",
    "    n += m\n",
    "\n"
   ]
  },
  {
   "cell_type": "code",
   "execution_count": 51,
   "id": "8713d09c",
   "metadata": {
    "scrolled": true
   },
   "outputs": [
    {
     "name": "stdout",
     "output_type": "stream",
     "text": [
      "C:/Users/fjdur/Documents/upc-july/models/models2\n",
      "0 :\n",
      "Model compiled\n",
      "1 :\n",
      "Model compiled\n",
      "2 :\n",
      "Model compiled\n",
      "3 :\n",
      "Model compiled\n",
      "4 :\n",
      "Model compiled\n",
      "5 :\n",
      "Model compiled\n",
      "6 :\n",
      "Model compiled\n",
      "7 :\n",
      "Model compiled\n",
      "8 :\n",
      "Model compiled\n",
      "9 :\n",
      "Model compiled\n",
      "10 :\n",
      "Model compiled\n",
      "11 :\n",
      "Model compiled\n",
      "12 :\n",
      "Model compiled\n",
      "13 :\n",
      "Model compiled\n",
      "14 :\n",
      "Model compiled\n",
      "15 :\n",
      "Model compiled\n",
      "16 :\n",
      "Model compiled\n",
      "17 :\n",
      "Model compiled\n",
      "18 :\n",
      "Model compiled\n",
      "19 :\n",
      "Model compiled\n"
     ]
    }
   ],
   "source": [
    "print(model_dir)\n",
    "\n",
    "models_dsa = []\n",
    "for i in range(len(label_sets_dsa)):\n",
    "    print(i,\":\")\n",
    "    model = utils.My_model(dataset,False,None)\n",
    "    model.compile_model()\n",
    "    models_dsa.append(model)\n"
   ]
  },
  {
   "cell_type": "code",
   "execution_count": 52,
   "id": "9990e037",
   "metadata": {
    "scrolled": true
   },
   "outputs": [
    {
     "name": "stdout",
     "output_type": "stream",
     "text": [
      "0\n",
      "Epoch 1/10\n",
      "44/44 [==============================] - 11s 205ms/step - loss: 1.3809 - accuracy: 0.5335 - val_loss: 0.3321 - val_accuracy: 0.8994\n",
      "Epoch 2/10\n",
      "44/44 [==============================] - 9s 198ms/step - loss: 0.3766 - accuracy: 0.8682 - val_loss: 0.2089 - val_accuracy: 0.9364\n",
      "Epoch 3/10\n",
      "44/44 [==============================] - 9s 205ms/step - loss: 0.2041 - accuracy: 0.9392 - val_loss: 0.1689 - val_accuracy: 0.9470\n",
      "Epoch 4/10\n",
      "44/44 [==============================] - 10s 219ms/step - loss: 0.1569 - accuracy: 0.9551 - val_loss: 0.1630 - val_accuracy: 0.9496\n",
      "Epoch 5/10\n",
      "44/44 [==============================] - 10s 221ms/step - loss: 0.1084 - accuracy: 0.9615 - val_loss: 0.1578 - val_accuracy: 0.9518\n",
      "Epoch 6/10\n",
      "44/44 [==============================] - 10s 219ms/step - loss: 0.0630 - accuracy: 0.9795 - val_loss: 0.1614 - val_accuracy: 0.9524\n",
      "Epoch 7/10\n",
      "44/44 [==============================] - 9s 218ms/step - loss: 0.0471 - accuracy: 0.9846 - val_loss: 0.1526 - val_accuracy: 0.9547\n",
      "Epoch 8/10\n",
      "44/44 [==============================] - 9s 217ms/step - loss: 0.0362 - accuracy: 0.9906 - val_loss: 0.1620 - val_accuracy: 0.9554\n",
      "Epoch 9/10\n",
      "44/44 [==============================] - 10s 219ms/step - loss: 0.0349 - accuracy: 0.9907 - val_loss: 0.1796 - val_accuracy: 0.9544\n",
      "Epoch 10/10\n",
      "44/44 [==============================] - 10s 227ms/step - loss: 0.0198 - accuracy: 0.9931 - val_loss: 0.1852 - val_accuracy: 0.9529\n",
      "Duration: 0:01:35.135661\n"
     ]
    }
   ],
   "source": [
    "n=0\n",
    "print(n)\n",
    "\n",
    "models_dsa[n].fit_model(image_sets_dsa[n],label_sets_dsa[n],x_val,y_val,epochs=10,batch_size = 64)\n",
    "n = n+1"
   ]
  },
  {
   "cell_type": "code",
   "execution_count": 53,
   "id": "c24fa024",
   "metadata": {},
   "outputs": [
    {
     "name": "stdout",
     "output_type": "stream",
     "text": [
      "1\n",
      "Epoch 1/10\n",
      "88/88 [==============================] - 16s 158ms/step - loss: 1.0781 - accuracy: 0.6430 - val_loss: 0.2019 - val_accuracy: 0.9373\n",
      "Epoch 2/10\n",
      "88/88 [==============================] - 14s 158ms/step - loss: 0.2624 - accuracy: 0.9200 - val_loss: 0.1418 - val_accuracy: 0.9567\n",
      "Epoch 3/10\n",
      "88/88 [==============================] - 14s 158ms/step - loss: 0.1587 - accuracy: 0.9495 - val_loss: 0.1362 - val_accuracy: 0.9574\n",
      "Epoch 4/10\n",
      "88/88 [==============================] - 14s 157ms/step - loss: 0.1138 - accuracy: 0.9672 - val_loss: 0.1078 - val_accuracy: 0.9681\n",
      "Epoch 5/10\n",
      "88/88 [==============================] - 14s 158ms/step - loss: 0.0917 - accuracy: 0.9719 - val_loss: 0.1017 - val_accuracy: 0.9682\n",
      "Epoch 6/10\n",
      "88/88 [==============================] - 14s 157ms/step - loss: 0.0704 - accuracy: 0.9809 - val_loss: 0.0982 - val_accuracy: 0.9705\n",
      "Epoch 7/10\n",
      "88/88 [==============================] - 14s 157ms/step - loss: 0.0521 - accuracy: 0.9823 - val_loss: 0.0983 - val_accuracy: 0.9713\n",
      "Epoch 8/10\n",
      "88/88 [==============================] - 14s 158ms/step - loss: 0.0454 - accuracy: 0.9864 - val_loss: 0.1012 - val_accuracy: 0.9726\n",
      "Epoch 9/10\n",
      "88/88 [==============================] - 14s 157ms/step - loss: 0.0372 - accuracy: 0.9886 - val_loss: 0.0993 - val_accuracy: 0.9745\n",
      "Epoch 10/10\n",
      "88/88 [==============================] - 14s 157ms/step - loss: 0.0329 - accuracy: 0.9880 - val_loss: 0.1013 - val_accuracy: 0.9738\n",
      "Duration: 0:02:19.982316\n"
     ]
    }
   ],
   "source": [
    "n=1\n",
    "print(n)\n",
    "models_dsa[n].fit_model(image_sets_dsa[n],label_sets_dsa[n],x_val,y_val,epochs=10,batch_size = 64)\n",
    "n = n+1"
   ]
  },
  {
   "cell_type": "code",
   "execution_count": 54,
   "id": "2582ba35",
   "metadata": {},
   "outputs": [
    {
     "name": "stdout",
     "output_type": "stream",
     "text": [
      "2\n",
      "Epoch 1/10\n",
      "132/132 [==============================] - 20s 138ms/step - loss: 0.9345 - accuracy: 0.7010 - val_loss: 0.1659 - val_accuracy: 0.9469\n",
      "Epoch 2/10\n",
      "132/132 [==============================] - 18s 138ms/step - loss: 0.2270 - accuracy: 0.9383 - val_loss: 0.1245 - val_accuracy: 0.9621\n",
      "Epoch 3/10\n",
      "132/132 [==============================] - 18s 138ms/step - loss: 0.1355 - accuracy: 0.9606 - val_loss: 0.1089 - val_accuracy: 0.9666\n",
      "Epoch 4/10\n",
      "132/132 [==============================] - 18s 138ms/step - loss: 0.1122 - accuracy: 0.9665 - val_loss: 0.0963 - val_accuracy: 0.9710\n",
      "Epoch 5/10\n",
      "132/132 [==============================] - 18s 138ms/step - loss: 0.0822 - accuracy: 0.9748 - val_loss: 0.0797 - val_accuracy: 0.9756\n",
      "Epoch 6/10\n",
      "132/132 [==============================] - 18s 139ms/step - loss: 0.0632 - accuracy: 0.9813 - val_loss: 0.0864 - val_accuracy: 0.9739\n",
      "Epoch 7/10\n",
      "132/132 [==============================] - 18s 138ms/step - loss: 0.0547 - accuracy: 0.9852 - val_loss: 0.0778 - val_accuracy: 0.9774\n",
      "Epoch 8/10\n",
      "132/132 [==============================] - 18s 138ms/step - loss: 0.0449 - accuracy: 0.9854 - val_loss: 0.0848 - val_accuracy: 0.9754\n",
      "Epoch 9/10\n",
      "132/132 [==============================] - 18s 139ms/step - loss: 0.0336 - accuracy: 0.9889 - val_loss: 0.0783 - val_accuracy: 0.9775\n",
      "Epoch 10/10\n",
      "132/132 [==============================] - 18s 138ms/step - loss: 0.0295 - accuracy: 0.9907 - val_loss: 0.1014 - val_accuracy: 0.9746\n",
      "Duration: 0:03:04.187800\n"
     ]
    }
   ],
   "source": [
    "n=2\n",
    "print(n)\n",
    "\n",
    "models_dsa[n].fit_model(image_sets_dsa[n],label_sets_dsa[n],x_val,y_val,epochs=10,batch_size = 64)\n",
    "n = n+1"
   ]
  },
  {
   "cell_type": "code",
   "execution_count": 55,
   "id": "62d686d3",
   "metadata": {},
   "outputs": [
    {
     "name": "stdout",
     "output_type": "stream",
     "text": [
      "3\n",
      "Epoch 1/10\n",
      "175/175 [==============================] - 25s 130ms/step - loss: 0.7935 - accuracy: 0.7395 - val_loss: 0.1478 - val_accuracy: 0.9541\n",
      "Epoch 2/10\n",
      "175/175 [==============================] - 22s 128ms/step - loss: 0.1891 - accuracy: 0.9459 - val_loss: 0.0992 - val_accuracy: 0.9697\n",
      "Epoch 3/10\n",
      "175/175 [==============================] - 21s 122ms/step - loss: 0.1261 - accuracy: 0.9602 - val_loss: 0.0825 - val_accuracy: 0.9746\n",
      "Epoch 4/10\n",
      "175/175 [==============================] - 21s 122ms/step - loss: 0.0914 - accuracy: 0.9748 - val_loss: 0.0740 - val_accuracy: 0.9780\n",
      "Epoch 5/10\n",
      "175/175 [==============================] - 21s 122ms/step - loss: 0.0734 - accuracy: 0.9791 - val_loss: 0.0703 - val_accuracy: 0.9777\n",
      "Epoch 6/10\n",
      "175/175 [==============================] - 21s 122ms/step - loss: 0.0530 - accuracy: 0.9828 - val_loss: 0.0710 - val_accuracy: 0.9793\n",
      "Epoch 7/10\n",
      "175/175 [==============================] - 21s 122ms/step - loss: 0.0497 - accuracy: 0.9837 - val_loss: 0.0681 - val_accuracy: 0.9805\n",
      "Epoch 8/10\n",
      "175/175 [==============================] - 21s 122ms/step - loss: 0.0355 - accuracy: 0.9881 - val_loss: 0.0622 - val_accuracy: 0.9812\n",
      "Epoch 9/10\n",
      "175/175 [==============================] - 21s 122ms/step - loss: 0.0337 - accuracy: 0.9889 - val_loss: 0.0667 - val_accuracy: 0.9806\n",
      "Epoch 10/10\n",
      "175/175 [==============================] - 21s 122ms/step - loss: 0.0357 - accuracy: 0.9884 - val_loss: 0.0642 - val_accuracy: 0.9817\n",
      "Duration: 0:03:37.351063\n"
     ]
    }
   ],
   "source": [
    "print(n)\n",
    "models_dsa[n].fit_model(image_sets_dsa[n],label_sets_dsa[n],x_val,y_val,epochs=10,batch_size = 64)\n",
    "n = n+1"
   ]
  },
  {
   "cell_type": "code",
   "execution_count": 56,
   "id": "c84953cf",
   "metadata": {},
   "outputs": [
    {
     "name": "stdout",
     "output_type": "stream",
     "text": [
      "4\n",
      "Epoch 1/10\n",
      "219/219 [==============================] - 28s 118ms/step - loss: 0.7428 - accuracy: 0.7536 - val_loss: 0.1337 - val_accuracy: 0.9591\n",
      "Epoch 2/10\n",
      "219/219 [==============================] - 26s 118ms/step - loss: 0.1615 - accuracy: 0.9493 - val_loss: 0.0767 - val_accuracy: 0.9762\n",
      "Epoch 3/10\n",
      "219/219 [==============================] - 26s 118ms/step - loss: 0.1092 - accuracy: 0.9684 - val_loss: 0.0671 - val_accuracy: 0.9796\n",
      "Epoch 4/10\n",
      "219/219 [==============================] - 26s 118ms/step - loss: 0.0910 - accuracy: 0.9745 - val_loss: 0.0701 - val_accuracy: 0.9780\n",
      "Epoch 5/10\n",
      "219/219 [==============================] - 26s 119ms/step - loss: 0.0600 - accuracy: 0.9794 - val_loss: 0.0626 - val_accuracy: 0.9816\n",
      "Epoch 6/10\n",
      "219/219 [==============================] - 26s 120ms/step - loss: 0.0543 - accuracy: 0.9839 - val_loss: 0.0688 - val_accuracy: 0.9810\n",
      "Epoch 7/10\n",
      "219/219 [==============================] - 29s 132ms/step - loss: 0.0419 - accuracy: 0.9871 - val_loss: 0.0577 - val_accuracy: 0.9826\n",
      "Epoch 8/10\n",
      "219/219 [==============================] - 29s 131ms/step - loss: 0.0371 - accuracy: 0.9886 - val_loss: 0.0577 - val_accuracy: 0.9831\n",
      "Epoch 9/10\n",
      "219/219 [==============================] - 29s 131ms/step - loss: 0.0321 - accuracy: 0.9896 - val_loss: 0.0635 - val_accuracy: 0.9818\n",
      "Epoch 10/10\n",
      "219/219 [==============================] - 29s 132ms/step - loss: 0.0392 - accuracy: 0.9885 - val_loss: 0.0568 - val_accuracy: 0.9835\n",
      "Duration: 0:04:32.542116\n"
     ]
    }
   ],
   "source": [
    "print(n)#\n",
    "models_dsa[n].fit_model(image_sets_dsa[n],label_sets_dsa[n],x_val,y_val,epochs=10,batch_size = 64)\n",
    "n = n+1"
   ]
  },
  {
   "cell_type": "code",
   "execution_count": 57,
   "id": "1f934485",
   "metadata": {},
   "outputs": [
    {
     "name": "stdout",
     "output_type": "stream",
     "text": [
      "5\n",
      "Epoch 1/10\n",
      "263/263 [==============================] - 37s 130ms/step - loss: 0.7056 - accuracy: 0.7775 - val_loss: 0.1159 - val_accuracy: 0.9636\n",
      "Epoch 2/10\n",
      "263/263 [==============================] - 34s 129ms/step - loss: 0.1432 - accuracy: 0.9588 - val_loss: 0.0697 - val_accuracy: 0.9787\n",
      "Epoch 3/10\n",
      "263/263 [==============================] - 34s 129ms/step - loss: 0.0917 - accuracy: 0.9751 - val_loss: 0.0650 - val_accuracy: 0.9804\n",
      "Epoch 4/10\n",
      "263/263 [==============================] - 34s 129ms/step - loss: 0.0727 - accuracy: 0.9793 - val_loss: 0.0581 - val_accuracy: 0.9820\n",
      "Epoch 5/10\n",
      "263/263 [==============================] - 34s 129ms/step - loss: 0.0567 - accuracy: 0.9825 - val_loss: 0.0572 - val_accuracy: 0.9818\n",
      "Epoch 6/10\n",
      "263/263 [==============================] - 34s 128ms/step - loss: 0.0513 - accuracy: 0.9826 - val_loss: 0.0597 - val_accuracy: 0.9829\n",
      "Epoch 7/10\n",
      "263/263 [==============================] - 34s 129ms/step - loss: 0.0451 - accuracy: 0.9863 - val_loss: 0.0547 - val_accuracy: 0.9848\n",
      "Epoch 8/10\n",
      "263/263 [==============================] - 34s 128ms/step - loss: 0.0396 - accuracy: 0.9871 - val_loss: 0.0532 - val_accuracy: 0.9846\n",
      "Epoch 9/10\n",
      "263/263 [==============================] - 34s 128ms/step - loss: 0.0341 - accuracy: 0.9891 - val_loss: 0.0534 - val_accuracy: 0.9837\n",
      "Epoch 10/10\n",
      "263/263 [==============================] - 34s 129ms/step - loss: 0.0335 - accuracy: 0.9897 - val_loss: 0.0606 - val_accuracy: 0.9831\n",
      "Duration: 0:05:41.825519\n"
     ]
    }
   ],
   "source": [
    "print(n)\n",
    "models_dsa[n].fit_model(image_sets_dsa[n],label_sets_dsa[n],x_val,y_val,epochs=10,batch_size = 64)\n",
    "n = n+1"
   ]
  },
  {
   "cell_type": "code",
   "execution_count": 58,
   "id": "50981582",
   "metadata": {},
   "outputs": [
    {
     "name": "stdout",
     "output_type": "stream",
     "text": [
      "6\n",
      "Epoch 1/10\n",
      "307/307 [==============================] - 42s 127ms/step - loss: 0.6407 - accuracy: 0.7971 - val_loss: 0.1074 - val_accuracy: 0.9677\n",
      "Epoch 2/10\n",
      "307/307 [==============================] - 39s 126ms/step - loss: 0.1365 - accuracy: 0.9580 - val_loss: 0.0788 - val_accuracy: 0.9762\n",
      "Epoch 3/10\n",
      "307/307 [==============================] - 39s 127ms/step - loss: 0.0926 - accuracy: 0.9726 - val_loss: 0.0599 - val_accuracy: 0.9817\n",
      "Epoch 4/10\n",
      "307/307 [==============================] - 39s 126ms/step - loss: 0.0722 - accuracy: 0.9803 - val_loss: 0.0567 - val_accuracy: 0.9829\n",
      "Epoch 5/10\n",
      "307/307 [==============================] - 39s 126ms/step - loss: 0.0587 - accuracy: 0.9832 - val_loss: 0.0526 - val_accuracy: 0.9836\n",
      "Epoch 6/10\n",
      "307/307 [==============================] - 39s 126ms/step - loss: 0.0516 - accuracy: 0.9840 - val_loss: 0.0623 - val_accuracy: 0.9830\n",
      "Epoch 7/10\n",
      "307/307 [==============================] - 38s 125ms/step - loss: 0.0499 - accuracy: 0.9849 - val_loss: 0.0505 - val_accuracy: 0.9849\n",
      "Epoch 8/10\n",
      "307/307 [==============================] - 39s 126ms/step - loss: 0.0403 - accuracy: 0.9882 - val_loss: 0.0521 - val_accuracy: 0.9854\n",
      "Epoch 9/10\n",
      "307/307 [==============================] - 39s 128ms/step - loss: 0.0358 - accuracy: 0.9888 - val_loss: 0.0526 - val_accuracy: 0.9861\n",
      "Epoch 10/10\n",
      "307/307 [==============================] - 38s 125ms/step - loss: 0.0336 - accuracy: 0.9902 - val_loss: 0.0637 - val_accuracy: 0.9839\n",
      "Duration: 0:06:29.885520\n"
     ]
    }
   ],
   "source": [
    "print(n)\n",
    "models_dsa[n].fit_model(image_sets_dsa[n],label_sets_dsa[n],x_val,y_val,epochs=10,batch_size = 64)\n",
    "n = n+1"
   ]
  },
  {
   "cell_type": "code",
   "execution_count": 59,
   "id": "688f57f8",
   "metadata": {},
   "outputs": [
    {
     "name": "stdout",
     "output_type": "stream",
     "text": [
      "7\n",
      "Epoch 1/10\n",
      "350/350 [==============================] - 38s 104ms/step - loss: 0.5899 - accuracy: 0.8065 - val_loss: 0.0913 - val_accuracy: 0.9707\n",
      "Epoch 2/10\n",
      "350/350 [==============================] - 36s 103ms/step - loss: 0.1353 - accuracy: 0.9611 - val_loss: 0.0705 - val_accuracy: 0.9779\n",
      "Epoch 3/10\n",
      "350/350 [==============================] - 36s 101ms/step - loss: 0.0933 - accuracy: 0.9728 - val_loss: 0.0541 - val_accuracy: 0.9833\n",
      "Epoch 4/10\n",
      "350/350 [==============================] - 35s 101ms/step - loss: 0.0714 - accuracy: 0.9785 - val_loss: 0.0534 - val_accuracy: 0.9827\n",
      "Epoch 5/10\n",
      "350/350 [==============================] - 35s 101ms/step - loss: 0.0613 - accuracy: 0.9829 - val_loss: 0.0542 - val_accuracy: 0.9832\n",
      "Epoch 6/10\n",
      "350/350 [==============================] - 35s 101ms/step - loss: 0.0550 - accuracy: 0.9845 - val_loss: 0.0477 - val_accuracy: 0.9850\n",
      "Epoch 7/10\n",
      "350/350 [==============================] - 35s 100ms/step - loss: 0.0421 - accuracy: 0.9877 - val_loss: 0.0530 - val_accuracy: 0.9847\n",
      "Epoch 8/10\n",
      "350/350 [==============================] - 35s 100ms/step - loss: 0.0386 - accuracy: 0.9875 - val_loss: 0.0450 - val_accuracy: 0.9862\n",
      "Epoch 9/10\n",
      "350/350 [==============================] - 35s 100ms/step - loss: 0.0412 - accuracy: 0.9894 - val_loss: 0.0465 - val_accuracy: 0.9869\n",
      "Epoch 10/10\n",
      "350/350 [==============================] - 35s 101ms/step - loss: 0.0343 - accuracy: 0.9905 - val_loss: 0.0576 - val_accuracy: 0.9844\n",
      "Duration: 0:05:55.747809\n"
     ]
    }
   ],
   "source": [
    "print(n)\n",
    "models_dsa[n].fit_model(image_sets_dsa[n],label_sets_dsa[n],x_val,y_val,epochs=10,batch_size = 64)\n",
    "n = n+1"
   ]
  },
  {
   "cell_type": "code",
   "execution_count": 60,
   "id": "27a88171",
   "metadata": {},
   "outputs": [
    {
     "name": "stdout",
     "output_type": "stream",
     "text": [
      "8\n",
      "Epoch 1/10\n",
      "394/394 [==============================] - 43s 104ms/step - loss: 0.5808 - accuracy: 0.8134 - val_loss: 0.0844 - val_accuracy: 0.9737\n",
      "Epoch 2/10\n",
      "394/394 [==============================] - 41s 104ms/step - loss: 0.1120 - accuracy: 0.9658 - val_loss: 0.0593 - val_accuracy: 0.9811\n",
      "Epoch 3/10\n",
      "394/394 [==============================] - 41s 103ms/step - loss: 0.0796 - accuracy: 0.9761 - val_loss: 0.0584 - val_accuracy: 0.9822\n",
      "Epoch 4/10\n",
      "394/394 [==============================] - 41s 105ms/step - loss: 0.0641 - accuracy: 0.9825 - val_loss: 0.0487 - val_accuracy: 0.9845\n",
      "Epoch 5/10\n",
      "394/394 [==============================] - 42s 106ms/step - loss: 0.0521 - accuracy: 0.9851 - val_loss: 0.0540 - val_accuracy: 0.9830\n",
      "Epoch 6/10\n",
      "394/394 [==============================] - 42s 106ms/step - loss: 0.0491 - accuracy: 0.9868 - val_loss: 0.0634 - val_accuracy: 0.9823\n",
      "Epoch 7/10\n",
      "394/394 [==============================] - 43s 110ms/step - loss: 0.0478 - accuracy: 0.9874 - val_loss: 0.0506 - val_accuracy: 0.9842\n",
      "Epoch 8/10\n",
      "394/394 [==============================] - 44s 111ms/step - loss: 0.0444 - accuracy: 0.9873 - val_loss: 0.0508 - val_accuracy: 0.9846\n",
      "Epoch 9/10\n",
      "394/394 [==============================] - 44s 112ms/step - loss: 0.0398 - accuracy: 0.9878 - val_loss: 0.0559 - val_accuracy: 0.9853\n",
      "Epoch 10/10\n",
      "394/394 [==============================] - 45s 113ms/step - loss: 0.0461 - accuracy: 0.9867 - val_loss: 0.0547 - val_accuracy: 0.9846\n",
      "Duration: 0:07:05.037271\n"
     ]
    }
   ],
   "source": [
    "print(n)\n",
    "models_dsa[n].fit_model(image_sets_dsa[n],label_sets_dsa[n],x_val,y_val,epochs=10,batch_size = 64)\n",
    "n = n+1"
   ]
  },
  {
   "cell_type": "code",
   "execution_count": 61,
   "id": "85b5daa1",
   "metadata": {},
   "outputs": [
    {
     "name": "stdout",
     "output_type": "stream",
     "text": [
      "9\n",
      "Epoch 1/10\n",
      "438/438 [==============================] - 51s 113ms/step - loss: 0.5335 - accuracy: 0.8257 - val_loss: 0.0931 - val_accuracy: 0.9716\n",
      "Epoch 2/10\n",
      "438/438 [==============================] - 49s 112ms/step - loss: 0.1152 - accuracy: 0.9653 - val_loss: 0.0659 - val_accuracy: 0.9804\n",
      "Epoch 3/10\n",
      "438/438 [==============================] - 48s 111ms/step - loss: 0.0815 - accuracy: 0.9763 - val_loss: 0.0573 - val_accuracy: 0.9819\n",
      "Epoch 4/10\n",
      "438/438 [==============================] - 50s 113ms/step - loss: 0.0654 - accuracy: 0.9804 - val_loss: 0.0583 - val_accuracy: 0.9831\n",
      "Epoch 5/10\n",
      "438/438 [==============================] - 49s 113ms/step - loss: 0.0600 - accuracy: 0.9835 - val_loss: 0.0499 - val_accuracy: 0.9851\n",
      "Epoch 6/10\n",
      "438/438 [==============================] - 49s 111ms/step - loss: 0.0512 - accuracy: 0.9851 - val_loss: 0.0520 - val_accuracy: 0.9849\n",
      "Epoch 7/10\n",
      "438/438 [==============================] - 49s 111ms/step - loss: 0.0504 - accuracy: 0.9851 - val_loss: 0.0798 - val_accuracy: 0.9800\n",
      "Epoch 8/10\n",
      "438/438 [==============================] - 48s 111ms/step - loss: 0.0575 - accuracy: 0.9848 - val_loss: 0.0466 - val_accuracy: 0.9869\n",
      "Epoch 9/10\n",
      "438/438 [==============================] - 48s 110ms/step - loss: 0.0468 - accuracy: 0.9868 - val_loss: 0.0575 - val_accuracy: 0.9860\n",
      "Epoch 10/10\n",
      "438/438 [==============================] - 52s 120ms/step - loss: 0.0541 - accuracy: 0.9853 - val_loss: 0.0553 - val_accuracy: 0.9844\n",
      "Duration: 0:08:14.390803\n"
     ]
    }
   ],
   "source": [
    "print(n)#\n",
    "models_dsa[n].fit_model(image_sets_dsa[n],label_sets_dsa[n],x_val,y_val,epochs=10,batch_size = 64)\n",
    "n = n+1"
   ]
  },
  {
   "cell_type": "code",
   "execution_count": 62,
   "id": "c2579015",
   "metadata": {},
   "outputs": [
    {
     "name": "stdout",
     "output_type": "stream",
     "text": [
      "10\n",
      "Epoch 1/10\n",
      "482/482 [==============================] - 79s 156ms/step - loss: 0.4875 - accuracy: 0.8462 - val_loss: 0.0936 - val_accuracy: 0.9706\n",
      "Epoch 2/10\n",
      "482/482 [==============================] - 74s 153ms/step - loss: 0.1072 - accuracy: 0.9693 - val_loss: 0.0632 - val_accuracy: 0.9804\n",
      "Epoch 3/10\n",
      "482/482 [==============================] - 74s 154ms/step - loss: 0.0800 - accuracy: 0.9759 - val_loss: 0.0594 - val_accuracy: 0.9819\n",
      "Epoch 4/10\n",
      "482/482 [==============================] - 78s 162ms/step - loss: 0.0750 - accuracy: 0.9790 - val_loss: 0.0643 - val_accuracy: 0.9809\n",
      "Epoch 5/10\n",
      "482/482 [==============================] - 80s 166ms/step - loss: 0.0547 - accuracy: 0.9836 - val_loss: 0.0551 - val_accuracy: 0.9845\n",
      "Epoch 6/10\n",
      "482/482 [==============================] - 80s 166ms/step - loss: 0.0571 - accuracy: 0.9834 - val_loss: 0.0558 - val_accuracy: 0.9846\n",
      "Epoch 7/10\n",
      "482/482 [==============================] - 80s 165ms/step - loss: 0.0509 - accuracy: 0.9857 - val_loss: 0.0603 - val_accuracy: 0.9846\n",
      "Epoch 8/10\n",
      "482/482 [==============================] - 80s 166ms/step - loss: 0.0550 - accuracy: 0.9839 - val_loss: 0.0591 - val_accuracy: 0.9837\n",
      "Epoch 9/10\n",
      "482/482 [==============================] - 79s 165ms/step - loss: 0.0553 - accuracy: 0.9847 - val_loss: 0.0555 - val_accuracy: 0.9850\n",
      "Epoch 10/10\n",
      "482/482 [==============================] - 80s 167ms/step - loss: 0.0564 - accuracy: 0.9848 - val_loss: 0.0574 - val_accuracy: 0.9851\n",
      "Duration: 0:13:04.576690\n"
     ]
    }
   ],
   "source": [
    "print(n)\n",
    "models_dsa[n].fit_model(image_sets_dsa[n],label_sets_dsa[n],x_val,y_val,epochs=10,batch_size = 64)\n",
    "n = n+1"
   ]
  },
  {
   "cell_type": "code",
   "execution_count": 63,
   "id": "23a41bd0",
   "metadata": {},
   "outputs": [
    {
     "name": "stdout",
     "output_type": "stream",
     "text": [
      "11\n",
      "Epoch 1/10\n",
      "525/525 [==============================] - 91s 164ms/step - loss: 0.4856 - accuracy: 0.8459 - val_loss: 0.0766 - val_accuracy: 0.9766\n",
      "Epoch 2/10\n",
      "525/525 [==============================] - 85s 162ms/step - loss: 0.1062 - accuracy: 0.9703 - val_loss: 0.0607 - val_accuracy: 0.9820\n",
      "Epoch 3/10\n",
      "525/525 [==============================] - 84s 160ms/step - loss: 0.0740 - accuracy: 0.9784 - val_loss: 0.0512 - val_accuracy: 0.9835\n",
      "Epoch 4/10\n",
      "525/525 [==============================] - 84s 161ms/step - loss: 0.0597 - accuracy: 0.9816 - val_loss: 0.0495 - val_accuracy: 0.9845\n",
      "Epoch 5/10\n",
      "525/525 [==============================] - 85s 162ms/step - loss: 0.0573 - accuracy: 0.9833 - val_loss: 0.0489 - val_accuracy: 0.9848\n",
      "Epoch 6/10\n",
      "525/525 [==============================] - 84s 160ms/step - loss: 0.0548 - accuracy: 0.9841 - val_loss: 0.0483 - val_accuracy: 0.9852\n",
      "Epoch 7/10\n",
      "525/525 [==============================] - 85s 161ms/step - loss: 0.0421 - accuracy: 0.9878 - val_loss: 0.0574 - val_accuracy: 0.9850\n",
      "Epoch 8/10\n",
      "525/525 [==============================] - 84s 160ms/step - loss: 0.0477 - accuracy: 0.9866 - val_loss: 0.0588 - val_accuracy: 0.9849\n",
      "Epoch 9/10\n",
      "525/525 [==============================] - 84s 160ms/step - loss: 0.0534 - accuracy: 0.9848 - val_loss: 0.0703 - val_accuracy: 0.9845\n",
      "Epoch 10/10\n",
      "525/525 [==============================] - 83s 159ms/step - loss: 0.0509 - accuracy: 0.9864 - val_loss: 0.0582 - val_accuracy: 0.9852\n",
      "Duration: 0:14:09.446887\n"
     ]
    }
   ],
   "source": [
    "print(n)\n",
    "models_dsa[n].fit_model(image_sets_dsa[n],label_sets_dsa[n],x_val,y_val,epochs=10,batch_size = 64)\n",
    "n = n+1"
   ]
  },
  {
   "cell_type": "code",
   "execution_count": 64,
   "id": "adf85f23",
   "metadata": {},
   "outputs": [
    {
     "name": "stdout",
     "output_type": "stream",
     "text": [
      "12\n",
      "Epoch 1/10\n",
      "569/569 [==============================] - 99s 165ms/step - loss: 0.4853 - accuracy: 0.8457 - val_loss: 0.0768 - val_accuracy: 0.9767\n",
      "Epoch 2/10\n",
      "569/569 [==============================] - 93s 164ms/step - loss: 0.0969 - accuracy: 0.9708 - val_loss: 0.0611 - val_accuracy: 0.9810\n",
      "Epoch 3/10\n",
      "569/569 [==============================] - 94s 166ms/step - loss: 0.0730 - accuracy: 0.9791 - val_loss: 0.0549 - val_accuracy: 0.9830\n",
      "Epoch 4/10\n",
      "569/569 [==============================] - 93s 163ms/step - loss: 0.0652 - accuracy: 0.9822 - val_loss: 0.0454 - val_accuracy: 0.9862\n",
      "Epoch 5/10\n",
      "569/569 [==============================] - 94s 166ms/step - loss: 0.0552 - accuracy: 0.9843 - val_loss: 0.0436 - val_accuracy: 0.9873\n",
      "Epoch 6/10\n",
      "569/569 [==============================] - 94s 165ms/step - loss: 0.0494 - accuracy: 0.9854 - val_loss: 0.0464 - val_accuracy: 0.9869\n",
      "Epoch 7/10\n",
      "569/569 [==============================] - 94s 165ms/step - loss: 0.0547 - accuracy: 0.9852 - val_loss: 0.0516 - val_accuracy: 0.9861\n",
      "Epoch 8/10\n",
      "569/569 [==============================] - 94s 165ms/step - loss: 0.0577 - accuracy: 0.9849 - val_loss: 0.0494 - val_accuracy: 0.9866\n",
      "Epoch 9/10\n",
      "569/569 [==============================] - 94s 164ms/step - loss: 0.0537 - accuracy: 0.9859 - val_loss: 0.0635 - val_accuracy: 0.9839\n",
      "Epoch 10/10\n",
      "569/569 [==============================] - 93s 164ms/step - loss: 0.0581 - accuracy: 0.9854 - val_loss: 0.0558 - val_accuracy: 0.9846\n",
      "Duration: 0:15:41.262896\n"
     ]
    }
   ],
   "source": [
    "print(n)\n",
    "models_dsa[n].fit_model(image_sets_dsa[n],label_sets_dsa[n],x_val,y_val,epochs=10,batch_size = 64)\n",
    "n = n+1"
   ]
  },
  {
   "cell_type": "code",
   "execution_count": 65,
   "id": "41082ec3",
   "metadata": {},
   "outputs": [
    {
     "name": "stdout",
     "output_type": "stream",
     "text": [
      "13\n",
      "Epoch 1/10\n",
      "613/613 [==============================] - 105s 164ms/step - loss: 0.4823 - accuracy: 0.8491 - val_loss: 0.0707 - val_accuracy: 0.9790\n",
      "Epoch 2/10\n",
      "613/613 [==============================] - 100s 163ms/step - loss: 0.1026 - accuracy: 0.9714 - val_loss: 0.0592 - val_accuracy: 0.9819\n",
      "Epoch 3/10\n",
      "613/613 [==============================] - 100s 163ms/step - loss: 0.0711 - accuracy: 0.9796 - val_loss: 0.0494 - val_accuracy: 0.9848\n",
      "Epoch 4/10\n",
      "613/613 [==============================] - 100s 163ms/step - loss: 0.0604 - accuracy: 0.9817 - val_loss: 0.0555 - val_accuracy: 0.9844\n",
      "Epoch 5/10\n",
      "613/613 [==============================] - 100s 164ms/step - loss: 0.0565 - accuracy: 0.9839 - val_loss: 0.0518 - val_accuracy: 0.9864\n",
      "Epoch 6/10\n",
      "613/613 [==============================] - 100s 163ms/step - loss: 0.0540 - accuracy: 0.9841 - val_loss: 0.0550 - val_accuracy: 0.9838\n",
      "Epoch 7/10\n",
      "613/613 [==============================] - 100s 163ms/step - loss: 0.0549 - accuracy: 0.9854 - val_loss: 0.0678 - val_accuracy: 0.9854\n",
      "Epoch 8/10\n",
      "613/613 [==============================] - 100s 163ms/step - loss: 0.0578 - accuracy: 0.9840 - val_loss: 0.0626 - val_accuracy: 0.9851\n",
      "Epoch 9/10\n",
      "613/613 [==============================] - 100s 163ms/step - loss: 0.0597 - accuracy: 0.9850 - val_loss: 0.0561 - val_accuracy: 0.9857\n",
      "Epoch 10/10\n",
      "613/613 [==============================] - 100s 163ms/step - loss: 0.0582 - accuracy: 0.9844 - val_loss: 0.0557 - val_accuracy: 0.9855\n",
      "Duration: 0:16:44.883844\n"
     ]
    }
   ],
   "source": [
    "print(n)\n",
    "models_dsa[n].fit_model(image_sets_dsa[n],label_sets_dsa[n],x_val,y_val,epochs=10,batch_size = 64)\n",
    "n = n+1"
   ]
  },
  {
   "cell_type": "code",
   "execution_count": 66,
   "id": "77a453d5",
   "metadata": {},
   "outputs": [
    {
     "name": "stdout",
     "output_type": "stream",
     "text": [
      "14\n",
      "Epoch 1/10\n",
      "657/657 [==============================] - 112s 163ms/step - loss: 0.4342 - accuracy: 0.8639 - val_loss: 0.0630 - val_accuracy: 0.9802\n",
      "Epoch 2/10\n",
      "657/657 [==============================] - 107s 162ms/step - loss: 0.0919 - accuracy: 0.9730 - val_loss: 0.0655 - val_accuracy: 0.9801\n",
      "Epoch 3/10\n",
      "657/657 [==============================] - 106s 162ms/step - loss: 0.0690 - accuracy: 0.9798 - val_loss: 0.0487 - val_accuracy: 0.9849\n",
      "Epoch 4/10\n",
      "657/657 [==============================] - 106s 161ms/step - loss: 0.0583 - accuracy: 0.9844 - val_loss: 0.0593 - val_accuracy: 0.9826\n",
      "Epoch 5/10\n",
      "657/657 [==============================] - 106s 162ms/step - loss: 0.0582 - accuracy: 0.9830 - val_loss: 0.0469 - val_accuracy: 0.9864\n",
      "Epoch 6/10\n",
      "657/657 [==============================] - 106s 161ms/step - loss: 0.0562 - accuracy: 0.9845 - val_loss: 0.0525 - val_accuracy: 0.9846\n",
      "Epoch 7/10\n",
      "657/657 [==============================] - 107s 163ms/step - loss: 0.0517 - accuracy: 0.9853 - val_loss: 0.0859 - val_accuracy: 0.9781\n",
      "Epoch 8/10\n",
      "657/657 [==============================] - 106s 162ms/step - loss: 0.0545 - accuracy: 0.9844 - val_loss: 0.0584 - val_accuracy: 0.9839\n",
      "Epoch 9/10\n",
      "657/657 [==============================] - 106s 162ms/step - loss: 0.0578 - accuracy: 0.9846 - val_loss: 0.0612 - val_accuracy: 0.9851\n",
      "Epoch 10/10\n",
      "657/657 [==============================] - 106s 162ms/step - loss: 0.0517 - accuracy: 0.9858 - val_loss: 0.0586 - val_accuracy: 0.9859\n",
      "Duration: 0:17:48.451785\n"
     ]
    }
   ],
   "source": [
    "print(n)#\n",
    "models_dsa[n].fit_model(image_sets_dsa[n],label_sets_dsa[n],x_val,y_val,epochs=10,batch_size = 64)\n",
    "n = n+1"
   ]
  },
  {
   "cell_type": "code",
   "execution_count": 67,
   "id": "7e683b93",
   "metadata": {},
   "outputs": [],
   "source": [
    "time.sleep(400)"
   ]
  },
  {
   "cell_type": "code",
   "execution_count": 68,
   "id": "9e4b28c0",
   "metadata": {},
   "outputs": [
    {
     "name": "stdout",
     "output_type": "stream",
     "text": [
      "15\n",
      "Epoch 1/10\n",
      "700/700 [==============================] - 116s 159ms/step - loss: 0.4235 - accuracy: 0.8683 - val_loss: 0.0653 - val_accuracy: 0.9804\n",
      "Epoch 2/10\n",
      "700/700 [==============================] - 111s 159ms/step - loss: 0.0910 - accuracy: 0.9739 - val_loss: 0.0525 - val_accuracy: 0.9832\n",
      "Epoch 3/10\n",
      "700/700 [==============================] - 111s 159ms/step - loss: 0.0688 - accuracy: 0.9801 - val_loss: 0.0483 - val_accuracy: 0.9848\n",
      "Epoch 4/10\n",
      "700/700 [==============================] - 111s 158ms/step - loss: 0.0601 - accuracy: 0.9829 - val_loss: 0.0454 - val_accuracy: 0.9869\n",
      "Epoch 5/10\n",
      "700/700 [==============================] - 111s 158ms/step - loss: 0.0584 - accuracy: 0.9845 - val_loss: 0.0479 - val_accuracy: 0.9856\n",
      "Epoch 6/10\n",
      "700/700 [==============================] - 96s 138ms/step - loss: 0.0547 - accuracy: 0.9851 - val_loss: 0.0486 - val_accuracy: 0.9859\n",
      "Epoch 7/10\n",
      "700/700 [==============================] - 69s 99ms/step - loss: 0.0606 - accuracy: 0.9834 - val_loss: 0.0525 - val_accuracy: 0.9861\n",
      "Epoch 8/10\n",
      "700/700 [==============================] - 68s 97ms/step - loss: 0.0667 - accuracy: 0.9831 - val_loss: 0.0540 - val_accuracy: 0.9856\n",
      "Epoch 9/10\n",
      "700/700 [==============================] - 68s 98ms/step - loss: 0.0684 - accuracy: 0.9830 - val_loss: 0.0713 - val_accuracy: 0.9830\n",
      "Epoch 10/10\n",
      "700/700 [==============================] - 69s 98ms/step - loss: 0.0656 - accuracy: 0.9836 - val_loss: 0.0777 - val_accuracy: 0.9846\n",
      "Duration: 0:15:30.076754\n"
     ]
    }
   ],
   "source": [
    "print(n)\n",
    "models_dsa[n].fit_model(image_sets_dsa[n],label_sets_dsa[n],x_val,y_val,epochs=10,batch_size = 64)\n",
    "n = n+1"
   ]
  },
  {
   "cell_type": "code",
   "execution_count": 69,
   "id": "4a3a318f",
   "metadata": {},
   "outputs": [
    {
     "name": "stdout",
     "output_type": "stream",
     "text": [
      "16\n",
      "Epoch 1/10\n",
      "744/744 [==============================] - 77s 101ms/step - loss: 0.4165 - accuracy: 0.8726 - val_loss: 0.0590 - val_accuracy: 0.9810\n",
      "Epoch 2/10\n",
      "744/744 [==============================] - 74s 100ms/step - loss: 0.0843 - accuracy: 0.9755 - val_loss: 0.0557 - val_accuracy: 0.9840\n",
      "Epoch 3/10\n",
      "744/744 [==============================] - 76s 102ms/step - loss: 0.0645 - accuracy: 0.9816 - val_loss: 0.0488 - val_accuracy: 0.9851\n",
      "Epoch 4/10\n",
      "744/744 [==============================] - 77s 104ms/step - loss: 0.0582 - accuracy: 0.9835 - val_loss: 0.0465 - val_accuracy: 0.9851\n",
      "Epoch 5/10\n",
      "744/744 [==============================] - 79s 106ms/step - loss: 0.0580 - accuracy: 0.9846 - val_loss: 0.0449 - val_accuracy: 0.9865\n",
      "Epoch 6/10\n",
      "744/744 [==============================] - 80s 107ms/step - loss: 0.0675 - accuracy: 0.9821 - val_loss: 0.0485 - val_accuracy: 0.9851\n",
      "Epoch 7/10\n",
      "744/744 [==============================] - 79s 107ms/step - loss: 0.0610 - accuracy: 0.9839 - val_loss: 0.0489 - val_accuracy: 0.9859\n",
      "Epoch 8/10\n",
      "744/744 [==============================] - 80s 107ms/step - loss: 0.0624 - accuracy: 0.9843 - val_loss: 0.0857 - val_accuracy: 0.9828\n",
      "Epoch 9/10\n",
      "744/744 [==============================] - 80s 107ms/step - loss: 0.0700 - accuracy: 0.9817 - val_loss: 0.0487 - val_accuracy: 0.9857\n",
      "Epoch 10/10\n",
      "744/744 [==============================] - 80s 107ms/step - loss: 0.0641 - accuracy: 0.9833 - val_loss: 0.0680 - val_accuracy: 0.9849\n",
      "Duration: 0:13:01.503345\n"
     ]
    }
   ],
   "source": [
    "print(n)\n",
    "models_dsa[n].fit_model(image_sets_dsa[n],label_sets_dsa[n],x_val,y_val,epochs=10,batch_size = 64)\n",
    "n = n+1"
   ]
  },
  {
   "cell_type": "code",
   "execution_count": 70,
   "id": "f4be2e66",
   "metadata": {},
   "outputs": [],
   "source": [
    "time.sleep(400)"
   ]
  },
  {
   "cell_type": "code",
   "execution_count": 71,
   "id": "da804ebf",
   "metadata": {},
   "outputs": [
    {
     "name": "stdout",
     "output_type": "stream",
     "text": [
      "17\n",
      "Epoch 1/10\n",
      "788/788 [==============================] - 86s 106ms/step - loss: 0.3876 - accuracy: 0.8800 - val_loss: 0.0591 - val_accuracy: 0.9821\n",
      "Epoch 2/10\n",
      "788/788 [==============================] - 89s 113ms/step - loss: 0.0817 - accuracy: 0.9768 - val_loss: 0.0460 - val_accuracy: 0.9864\n",
      "Epoch 3/10\n",
      "788/788 [==============================] - 89s 113ms/step - loss: 0.0631 - accuracy: 0.9811 - val_loss: 0.0456 - val_accuracy: 0.9851\n",
      "Epoch 4/10\n",
      "788/788 [==============================] - 89s 113ms/step - loss: 0.0568 - accuracy: 0.9836 - val_loss: 0.0459 - val_accuracy: 0.9861\n",
      "Epoch 5/10\n",
      "788/788 [==============================] - 87s 110ms/step - loss: 0.0573 - accuracy: 0.9837 - val_loss: 0.0511 - val_accuracy: 0.9865\n",
      "Epoch 6/10\n",
      "788/788 [==============================] - 78s 99ms/step - loss: 0.0610 - accuracy: 0.9841 - val_loss: 0.0515 - val_accuracy: 0.9858\n",
      "Epoch 7/10\n",
      "788/788 [==============================] - 78s 99ms/step - loss: 0.0601 - accuracy: 0.9837 - val_loss: 0.0531 - val_accuracy: 0.9862\n",
      "Epoch 8/10\n",
      "788/788 [==============================] - 80s 101ms/step - loss: 0.0631 - accuracy: 0.9843 - val_loss: 0.0617 - val_accuracy: 0.9846\n",
      "Epoch 9/10\n",
      "788/788 [==============================] - 81s 103ms/step - loss: 0.0648 - accuracy: 0.9832 - val_loss: 0.0512 - val_accuracy: 0.9861\n",
      "Epoch 10/10\n",
      "788/788 [==============================] - 82s 105ms/step - loss: 0.0679 - accuracy: 0.9825 - val_loss: 0.0702 - val_accuracy: 0.9851\n",
      "Duration: 0:13:59.023153\n"
     ]
    }
   ],
   "source": [
    "print(n)\n",
    "models_dsa[n].fit_model(image_sets_dsa[n],label_sets_dsa[n],x_val,y_val,epochs=10,batch_size = 64)\n",
    "n = n+1"
   ]
  },
  {
   "cell_type": "code",
   "execution_count": 72,
   "id": "7b20bbd4",
   "metadata": {},
   "outputs": [],
   "source": [
    "time.sleep(400)"
   ]
  },
  {
   "cell_type": "code",
   "execution_count": 73,
   "id": "1adc9ed7",
   "metadata": {},
   "outputs": [
    {
     "name": "stdout",
     "output_type": "stream",
     "text": [
      "18\n",
      "Epoch 1/10\n",
      "832/832 [==============================] - 85s 100ms/step - loss: 0.3986 - accuracy: 0.8730 - val_loss: 0.0604 - val_accuracy: 0.9812\n",
      "Epoch 2/10\n",
      "832/832 [==============================] - 83s 100ms/step - loss: 0.0866 - accuracy: 0.9757 - val_loss: 0.0519 - val_accuracy: 0.9839\n",
      "Epoch 3/10\n",
      "832/832 [==============================] - 83s 100ms/step - loss: 0.0668 - accuracy: 0.9810 - val_loss: 0.0449 - val_accuracy: 0.9858\n",
      "Epoch 4/10\n",
      "832/832 [==============================] - 82s 99ms/step - loss: 0.0605 - accuracy: 0.9828 - val_loss: 0.0450 - val_accuracy: 0.9862\n",
      "Epoch 5/10\n",
      "832/832 [==============================] - 83s 99ms/step - loss: 0.0605 - accuracy: 0.9831 - val_loss: 0.0444 - val_accuracy: 0.9873\n",
      "Epoch 6/10\n",
      "832/832 [==============================] - 83s 99ms/step - loss: 0.0560 - accuracy: 0.9846 - val_loss: 0.0565 - val_accuracy: 0.9836\n",
      "Epoch 7/10\n",
      "832/832 [==============================] - 83s 99ms/step - loss: 0.0643 - accuracy: 0.9835 - val_loss: 0.0533 - val_accuracy: 0.9861\n",
      "Epoch 8/10\n",
      "832/832 [==============================] - 82s 99ms/step - loss: 0.0640 - accuracy: 0.9833 - val_loss: 0.0514 - val_accuracy: 0.9851\n",
      "Epoch 9/10\n",
      "832/832 [==============================] - 92s 110ms/step - loss: 0.0677 - accuracy: 0.9819 - val_loss: 0.0491 - val_accuracy: 0.9854\n",
      "Epoch 10/10\n",
      "832/832 [==============================] - 96s 115ms/step - loss: 0.0716 - accuracy: 0.9821 - val_loss: 0.0501 - val_accuracy: 0.9851\n",
      "Duration: 0:14:11.008733\n"
     ]
    }
   ],
   "source": [
    "print(n)\n",
    "models_dsa[n].fit_model(image_sets_dsa[n],label_sets_dsa[n],x_val,y_val,epochs=10,batch_size = 64)\n",
    "n = n+1"
   ]
  },
  {
   "cell_type": "code",
   "execution_count": null,
   "id": "74b5dc66",
   "metadata": {},
   "outputs": [],
   "source": [
    "time.sleep(400)"
   ]
  },
  {
   "cell_type": "code",
   "execution_count": 74,
   "id": "c53a3160",
   "metadata": {},
   "outputs": [
    {
     "name": "stdout",
     "output_type": "stream",
     "text": [
      "19\n",
      "Epoch 1/10\n",
      "875/875 [==============================] - 111s 124ms/step - loss: 0.3846 - accuracy: 0.8788 - val_loss: 0.0588 - val_accuracy: 0.9813\n",
      "Epoch 2/10\n",
      "875/875 [==============================] - 103s 118ms/step - loss: 0.0848 - accuracy: 0.9745 - val_loss: 0.0501 - val_accuracy: 0.9849\n",
      "Epoch 3/10\n",
      "875/875 [==============================] - 103s 118ms/step - loss: 0.0645 - accuracy: 0.9810 - val_loss: 0.0444 - val_accuracy: 0.9869\n",
      "Epoch 4/10\n",
      "875/875 [==============================] - 103s 117ms/step - loss: 0.0604 - accuracy: 0.9831 - val_loss: 0.0487 - val_accuracy: 0.9864\n",
      "Epoch 5/10\n",
      "875/875 [==============================] - 103s 117ms/step - loss: 0.0587 - accuracy: 0.9835 - val_loss: 0.0506 - val_accuracy: 0.9851\n",
      "Epoch 6/10\n",
      "875/875 [==============================] - 103s 118ms/step - loss: 0.0617 - accuracy: 0.9835 - val_loss: 0.0624 - val_accuracy: 0.9843\n",
      "Epoch 7/10\n",
      "875/875 [==============================] - 103s 117ms/step - loss: 0.0609 - accuracy: 0.9836 - val_loss: 0.0453 - val_accuracy: 0.9866\n",
      "Epoch 8/10\n",
      "875/875 [==============================] - 106s 121ms/step - loss: 0.0631 - accuracy: 0.9833 - val_loss: 0.0530 - val_accuracy: 0.9856\n",
      "Epoch 9/10\n",
      "875/875 [==============================] - 103s 118ms/step - loss: 0.0675 - accuracy: 0.9831 - val_loss: 0.0518 - val_accuracy: 0.9873\n",
      "Epoch 10/10\n",
      "875/875 [==============================] - 104s 119ms/step - loss: 0.0683 - accuracy: 0.9824 - val_loss: 0.0609 - val_accuracy: 0.9840\n",
      "Duration: 0:17:21.603798\n"
     ]
    }
   ],
   "source": [
    "print(n)#\n",
    "models_dsa[n].fit_model(image_sets_dsa[n],label_sets_dsa[n],x_val,y_val,epochs=10,batch_size = 64)\n",
    "n = n+1"
   ]
  },
  {
   "cell_type": "code",
   "execution_count": 75,
   "id": "f5efcb59",
   "metadata": {},
   "outputs": [
    {
     "name": "stdout",
     "output_type": "stream",
     "text": [
      "INFO:tensorflow:Assets written to: D:/models/aug_22/mnist/C1/mnist_model_c1_aug_dsa_e1_0\\assets\n",
      "Model has been saved\n",
      "INFO:tensorflow:Assets written to: D:/models/aug_22/mnist/C1/mnist_model_c1_aug_dsa_e1_1\\assets\n",
      "Model has been saved\n",
      "INFO:tensorflow:Assets written to: D:/models/aug_22/mnist/C1/mnist_model_c1_aug_dsa_e1_2\\assets\n",
      "Model has been saved\n",
      "INFO:tensorflow:Assets written to: D:/models/aug_22/mnist/C1/mnist_model_c1_aug_dsa_e1_3\\assets\n",
      "Model has been saved\n",
      "INFO:tensorflow:Assets written to: D:/models/aug_22/mnist/C1/mnist_model_c1_aug_dsa_e1_4\\assets\n",
      "Model has been saved\n",
      "INFO:tensorflow:Assets written to: D:/models/aug_22/mnist/C1/mnist_model_c1_aug_dsa_e1_5\\assets\n",
      "Model has been saved\n",
      "INFO:tensorflow:Assets written to: D:/models/aug_22/mnist/C1/mnist_model_c1_aug_dsa_e1_6\\assets\n",
      "Model has been saved\n",
      "INFO:tensorflow:Assets written to: D:/models/aug_22/mnist/C1/mnist_model_c1_aug_dsa_e1_7\\assets\n",
      "Model has been saved\n",
      "INFO:tensorflow:Assets written to: D:/models/aug_22/mnist/C1/mnist_model_c1_aug_dsa_e1_8\\assets\n",
      "Model has been saved\n",
      "INFO:tensorflow:Assets written to: D:/models/aug_22/mnist/C1/mnist_model_c1_aug_dsa_e1_9\\assets\n",
      "Model has been saved\n",
      "INFO:tensorflow:Assets written to: D:/models/aug_22/mnist/C1/mnist_model_c1_aug_dsa_e1_10\\assets\n",
      "Model has been saved\n",
      "INFO:tensorflow:Assets written to: D:/models/aug_22/mnist/C1/mnist_model_c1_aug_dsa_e1_11\\assets\n",
      "Model has been saved\n",
      "INFO:tensorflow:Assets written to: D:/models/aug_22/mnist/C1/mnist_model_c1_aug_dsa_e1_12\\assets\n",
      "Model has been saved\n",
      "INFO:tensorflow:Assets written to: D:/models/aug_22/mnist/C1/mnist_model_c1_aug_dsa_e1_13\\assets\n",
      "Model has been saved\n",
      "INFO:tensorflow:Assets written to: D:/models/aug_22/mnist/C1/mnist_model_c1_aug_dsa_e1_14\\assets\n",
      "Model has been saved\n",
      "INFO:tensorflow:Assets written to: D:/models/aug_22/mnist/C1/mnist_model_c1_aug_dsa_e1_15\\assets\n",
      "Model has been saved\n",
      "INFO:tensorflow:Assets written to: D:/models/aug_22/mnist/C1/mnist_model_c1_aug_dsa_e1_16\\assets\n",
      "Model has been saved\n",
      "INFO:tensorflow:Assets written to: D:/models/aug_22/mnist/C1/mnist_model_c1_aug_dsa_e1_17\\assets\n",
      "Model has been saved\n",
      "INFO:tensorflow:Assets written to: D:/models/aug_22/mnist/C1/mnist_model_c1_aug_dsa_e1_18\\assets\n",
      "Model has been saved\n",
      "INFO:tensorflow:Assets written to: D:/models/aug_22/mnist/C1/mnist_model_c1_aug_dsa_e1_19\\assets\n",
      "Model has been saved\n"
     ]
    }
   ],
   "source": [
    "new_model_dsa_dir  = \"D:/models/aug_22/\"+dataset+\"/C1/\"+dataset+\"_model_c1_aug_dsa_e1\"\n",
    "\n",
    "i=0\n",
    "\n",
    "for model in models_dsa:\n",
    "    model.save(new_model_dsa_dir+\"_\"+str(i))\n",
    "    i+=1"
   ]
  },
  {
   "cell_type": "code",
   "execution_count": null,
   "id": "58f250fb",
   "metadata": {},
   "outputs": [],
   "source": [
    "loading = False\n",
    "\n",
    "models_dsa = []\n",
    "\n",
    "if loading:\n",
    "    for i in range(20):\n",
    "        model_dsa_dir = \"D:/models/gtsrb_models/C1/gtsrb_model_c1_sep_dsa_e2_\"+str(i)\n",
    "        print(model_dsa_dir)\n",
    "        model =utils.My_model('gtsrb',True,model_dsa_dir)\n",
    "        model.model.compile(loss= 'categorical_crossentropy', optimizer = 'rmsprop', metrics = ['accuracy',tf.keras.metrics.Precision(), tf.keras.metrics.Recall()])\n",
    "        models_dsa.append(model)\n",
    "       \n",
    "    "
   ]
  },
  {
   "cell_type": "code",
   "execution_count": 76,
   "id": "77836993",
   "metadata": {},
   "outputs": [],
   "source": [
    "try:\n",
    "    del dsa_values\n",
    "    del top_images_by_dsa\n",
    "    del top_labels_by_dsa\n",
    "    del image_sets_dsa\n",
    "    del label_sets_dsa\n",
    "    del models_dsa\n",
    "except:\n",
    "    print(\"Error\")"
   ]
  },
  {
   "cell_type": "code",
   "execution_count": 77,
   "id": "a2d78dd7",
   "metadata": {},
   "outputs": [
    {
     "data": {
      "text/plain": [
       "72809"
      ]
     },
     "execution_count": 77,
     "metadata": {},
     "output_type": "execute_result"
    }
   ],
   "source": [
    "gc.collect()"
   ]
  },
  {
   "cell_type": "markdown",
   "id": "1c73510f",
   "metadata": {},
   "source": [
    "## Uncertainty"
   ]
  },
  {
   "cell_type": "code",
   "execution_count": 78,
   "id": "0ac6d3c4",
   "metadata": {},
   "outputs": [],
   "source": [
    "dg_direction = \"C:/Users/fjdur/Documents/upc-july/data/\"+dataset+\"/deep_gini_values.npy\"\n",
    "\n",
    "deep_gini_values = np.load(dg_direction)\n"
   ]
  },
  {
   "cell_type": "code",
   "execution_count": 79,
   "id": "d85ee221",
   "metadata": {},
   "outputs": [],
   "source": [
    "# Obtaining top n images by dg values\n",
    "top_images_by_dg  = utils.get_x_of_indexes(list(np.flip(np.argsort(deep_gini_values))),x_train_and_adversary)\n",
    "top_labels_by_dg = utils.get_x_of_indexes(list(np.flip(np.argsort(deep_gini_values))),y_train_and_adversary)"
   ]
  },
  {
   "cell_type": "code",
   "execution_count": 80,
   "id": "b7636eda",
   "metadata": {},
   "outputs": [
    {
     "name": "stdout",
     "output_type": "stream",
     "text": [
      "0 :\n",
      "0  ->  2800\n",
      "2800\n",
      "1 :\n",
      "0  ->  5600\n",
      "5600\n",
      "2 :\n",
      "0  ->  8400\n",
      "8400\n",
      "3 :\n",
      "0  ->  11200\n",
      "11200\n",
      "4 :\n",
      "0  ->  14000\n",
      "14000\n",
      "5 :\n",
      "0  ->  16800\n",
      "16800\n",
      "6 :\n",
      "0  ->  19600\n",
      "19600\n",
      "7 :\n",
      "0  ->  22400\n",
      "22400\n",
      "8 :\n",
      "0  ->  25200\n",
      "25200\n",
      "9 :\n",
      "0  ->  28000\n",
      "28000\n",
      "10 :\n",
      "0  ->  30800\n",
      "30800\n",
      "11 :\n",
      "0  ->  33600\n",
      "33600\n",
      "12 :\n",
      "0  ->  36400\n",
      "36400\n",
      "13 :\n",
      "0  ->  39200\n",
      "39200\n",
      "14 :\n",
      "0  ->  42000\n",
      "42000\n",
      "15 :\n",
      "0  ->  44800\n",
      "44800\n",
      "16 :\n",
      "0  ->  47600\n",
      "47600\n",
      "17 :\n",
      "0  ->  50400\n",
      "50400\n",
      "18 :\n",
      "0  ->  53200\n",
      "53200\n",
      "19 :\n",
      "Last\n",
      "0  ->  58798\n",
      "55998\n"
     ]
    }
   ],
   "source": [
    "m = n_data_points\n",
    "n = 0\n",
    "image_sets_dg = []\n",
    "label_sets_dg = []\n",
    "\n",
    "# last\n",
    "#for i in range(0,len(top_images_by_lsa)//m):\n",
    "\n",
    "for i in range((len(top_images_by_dg)//m)+1):\n",
    "    print(i,\":\")\n",
    "    if (i+1 >= ((len(top_images_by_dg)//m)+1)):\n",
    "        print(\"Last\")\n",
    "        print(0,\" -> \",n+m+(len(top_images_by_dg)%m))\n",
    "        top_images_by_dg_n = np.array(top_images_by_dg[:n+m+(len(top_images_by_dg)%m)])\n",
    "        top_labels_by_dg_n = np.array(top_labels_by_dg[:n+m+(len(top_images_by_dg)%m)])\n",
    "    else:\n",
    "        print(0,\" -> \",m+n)\n",
    "        top_images_by_dg_n = np.array(top_images_by_dg[:n+m])\n",
    "        top_labels_by_dg_n = np.array(top_labels_by_dg[:n+m])\n",
    "    image_sets_dg.append(top_images_by_dg_n)\n",
    "    label_sets_dg.append(top_labels_by_dg_n)\n",
    "    print(len(top_images_by_dg_n))\n",
    "    n += m\n",
    "\n"
   ]
  },
  {
   "cell_type": "code",
   "execution_count": 81,
   "id": "8235ece2",
   "metadata": {},
   "outputs": [
    {
     "name": "stdout",
     "output_type": "stream",
     "text": [
      "0 :\n",
      "Model compiled\n",
      "1 :\n",
      "Model compiled\n",
      "2 :\n",
      "Model compiled\n",
      "3 :\n",
      "Model compiled\n",
      "4 :\n",
      "Model compiled\n",
      "5 :\n",
      "Model compiled\n",
      "6 :\n",
      "Model compiled\n",
      "7 :\n",
      "Model compiled\n",
      "8 :\n",
      "Model compiled\n",
      "9 :\n",
      "Model compiled\n",
      "10 :\n",
      "Model compiled\n",
      "11 :\n",
      "Model compiled\n",
      "12 :\n",
      "Model compiled\n",
      "13 :\n",
      "Model compiled\n",
      "14 :\n",
      "Model compiled\n",
      "15 :\n",
      "Model compiled\n",
      "16 :\n",
      "Model compiled\n",
      "17 :\n",
      "Model compiled\n",
      "18 :\n",
      "Model compiled\n",
      "19 :\n",
      "Model compiled\n"
     ]
    }
   ],
   "source": [
    "models_dg = []\n",
    "#for i in range(len(label_sets_lsa)):\n",
    "for i in range(len(label_sets_dg)):\n",
    "    print(i,\":\")\n",
    "    model = utils.My_model(dataset,False)\n",
    "    model.compile_model()\n",
    "    models_dg.append(model)"
   ]
  },
  {
   "cell_type": "code",
   "execution_count": 82,
   "id": "1e0ae2d4",
   "metadata": {},
   "outputs": [
    {
     "name": "stdout",
     "output_type": "stream",
     "text": [
      "0\n",
      "Epoch 1/10\n",
      "44/44 [==============================] - 12s 228ms/step - loss: 1.8663 - accuracy: 0.3469 - val_loss: 0.7016 - val_accuracy: 0.7845\n",
      "Epoch 2/10\n",
      "44/44 [==============================] - 10s 219ms/step - loss: 1.0772 - accuracy: 0.6296 - val_loss: 0.4178 - val_accuracy: 0.8770\n",
      "Epoch 3/10\n",
      "44/44 [==============================] - 10s 224ms/step - loss: 0.7938 - accuracy: 0.7292 - val_loss: 0.3226 - val_accuracy: 0.9157\n",
      "Epoch 4/10\n",
      "44/44 [==============================] - 11s 242ms/step - loss: 0.6403 - accuracy: 0.7849 - val_loss: 0.2773 - val_accuracy: 0.9220\n",
      "Epoch 5/10\n",
      "44/44 [==============================] - 10s 240ms/step - loss: 0.5515 - accuracy: 0.8139 - val_loss: 0.2670 - val_accuracy: 0.9148\n",
      "Epoch 6/10\n",
      "44/44 [==============================] - 10s 240ms/step - loss: 0.4387 - accuracy: 0.8453 - val_loss: 0.1997 - val_accuracy: 0.9409\n",
      "Epoch 7/10\n",
      "44/44 [==============================] - 11s 246ms/step - loss: 0.3856 - accuracy: 0.8632 - val_loss: 0.2042 - val_accuracy: 0.9411\n",
      "Epoch 8/10\n",
      "44/44 [==============================] - 11s 257ms/step - loss: 0.3341 - accuracy: 0.8919 - val_loss: 0.2135 - val_accuracy: 0.9356\n",
      "Epoch 9/10\n",
      "44/44 [==============================] - 11s 256ms/step - loss: 0.2936 - accuracy: 0.8990 - val_loss: 0.1722 - val_accuracy: 0.9481\n",
      "Epoch 10/10\n",
      "44/44 [==============================] - 11s 243ms/step - loss: 0.2747 - accuracy: 0.9070 - val_loss: 0.1972 - val_accuracy: 0.9365\n",
      "Duration: 0:01:46.471720\n"
     ]
    }
   ],
   "source": [
    "n=0\n",
    "print(n)\n",
    "models_dg[n].fit_model(image_sets_dg[n],label_sets_dg[n],x_val,y_val,epochs=10,batch_size = 64)\n",
    "n = n+1"
   ]
  },
  {
   "cell_type": "code",
   "execution_count": 83,
   "id": "9111d03b",
   "metadata": {},
   "outputs": [
    {
     "name": "stdout",
     "output_type": "stream",
     "text": [
      "1\n",
      "Epoch 1/10\n",
      "88/88 [==============================] - 19s 188ms/step - loss: 1.6796 - accuracy: 0.4257 - val_loss: 0.3464 - val_accuracy: 0.8997\n",
      "Epoch 2/10\n",
      "88/88 [==============================] - 15s 176ms/step - loss: 0.8230 - accuracy: 0.7330 - val_loss: 0.1990 - val_accuracy: 0.9458\n",
      "Epoch 3/10\n",
      "88/88 [==============================] - 15s 176ms/step - loss: 0.6425 - accuracy: 0.7754 - val_loss: 0.1394 - val_accuracy: 0.9642\n",
      "Epoch 4/10\n",
      "88/88 [==============================] - 15s 176ms/step - loss: 0.4534 - accuracy: 0.8436 - val_loss: 0.1500 - val_accuracy: 0.9562\n",
      "Epoch 5/10\n",
      "88/88 [==============================] - 15s 175ms/step - loss: 0.4115 - accuracy: 0.8581 - val_loss: 0.0886 - val_accuracy: 0.9722\n",
      "Epoch 6/10\n",
      "88/88 [==============================] - 15s 177ms/step - loss: 0.3238 - accuracy: 0.8904 - val_loss: 0.1093 - val_accuracy: 0.9675\n",
      "Epoch 7/10\n",
      "88/88 [==============================] - 16s 178ms/step - loss: 0.3018 - accuracy: 0.9055 - val_loss: 0.0978 - val_accuracy: 0.9696\n",
      "Epoch 8/10\n",
      "88/88 [==============================] - 15s 174ms/step - loss: 0.2679 - accuracy: 0.9058 - val_loss: 0.0879 - val_accuracy: 0.9726\n",
      "Epoch 9/10\n",
      "88/88 [==============================] - 15s 174ms/step - loss: 0.2281 - accuracy: 0.9265 - val_loss: 0.0717 - val_accuracy: 0.9779\n",
      "Epoch 10/10\n",
      "88/88 [==============================] - 15s 175ms/step - loss: 0.2056 - accuracy: 0.9343 - val_loss: 0.0696 - val_accuracy: 0.9789\n",
      "Duration: 0:02:37.546191\n"
     ]
    }
   ],
   "source": [
    "print(n)\n",
    "models_dg[n].fit_model(image_sets_dg[n],label_sets_dg[n],x_val,y_val,epochs=10,batch_size = 64)\n",
    "n = n+1"
   ]
  },
  {
   "cell_type": "code",
   "execution_count": 84,
   "id": "57dcb4d8",
   "metadata": {},
   "outputs": [
    {
     "name": "stdout",
     "output_type": "stream",
     "text": [
      "2\n",
      "Epoch 1/10\n",
      "132/132 [==============================] - 23s 159ms/step - loss: 1.4299 - accuracy: 0.5197 - val_loss: 0.1931 - val_accuracy: 0.9515\n",
      "Epoch 2/10\n",
      "132/132 [==============================] - 20s 153ms/step - loss: 0.5943 - accuracy: 0.8003 - val_loss: 0.1150 - val_accuracy: 0.9668\n",
      "Epoch 3/10\n",
      "132/132 [==============================] - 19s 148ms/step - loss: 0.4084 - accuracy: 0.8647 - val_loss: 0.0927 - val_accuracy: 0.9714\n",
      "Epoch 4/10\n",
      "132/132 [==============================] - 19s 147ms/step - loss: 0.3382 - accuracy: 0.8825 - val_loss: 0.0689 - val_accuracy: 0.9786\n",
      "Epoch 5/10\n",
      "132/132 [==============================] - 19s 148ms/step - loss: 0.2774 - accuracy: 0.9009 - val_loss: 0.0958 - val_accuracy: 0.9699\n",
      "Epoch 6/10\n",
      "132/132 [==============================] - 19s 147ms/step - loss: 0.2251 - accuracy: 0.9256 - val_loss: 0.0518 - val_accuracy: 0.9851\n",
      "Epoch 7/10\n",
      "132/132 [==============================] - 19s 147ms/step - loss: 0.1975 - accuracy: 0.9346 - val_loss: 0.0529 - val_accuracy: 0.9832\n",
      "Epoch 8/10\n",
      "132/132 [==============================] - 20s 150ms/step - loss: 0.1790 - accuracy: 0.9386 - val_loss: 0.0509 - val_accuracy: 0.9839\n",
      "Epoch 9/10\n",
      "132/132 [==============================] - 19s 148ms/step - loss: 0.1586 - accuracy: 0.9447 - val_loss: 0.0655 - val_accuracy: 0.9800\n",
      "Epoch 10/10\n",
      "132/132 [==============================] - 19s 147ms/step - loss: 0.1534 - accuracy: 0.9513 - val_loss: 0.0519 - val_accuracy: 0.9834\n",
      "Duration: 0:03:19.147471\n"
     ]
    }
   ],
   "source": [
    "print(n)\n",
    "models_dg[n].fit_model(image_sets_dg[n],label_sets_dg[n],x_val,y_val,epochs=10,batch_size = 64)\n",
    "n = n+1"
   ]
  },
  {
   "cell_type": "code",
   "execution_count": 85,
   "id": "ec6bc487",
   "metadata": {},
   "outputs": [
    {
     "name": "stdout",
     "output_type": "stream",
     "text": [
      "3\n",
      "Epoch 1/10\n",
      "175/175 [==============================] - 28s 145ms/step - loss: 1.2279 - accuracy: 0.5943 - val_loss: 0.1565 - val_accuracy: 0.9589\n",
      "Epoch 2/10\n",
      "175/175 [==============================] - 25s 142ms/step - loss: 0.4412 - accuracy: 0.8539 - val_loss: 0.0723 - val_accuracy: 0.9787\n",
      "Epoch 3/10\n",
      "175/175 [==============================] - 25s 143ms/step - loss: 0.3060 - accuracy: 0.8992 - val_loss: 0.0640 - val_accuracy: 0.9799\n",
      "Epoch 4/10\n",
      "175/175 [==============================] - 25s 144ms/step - loss: 0.2470 - accuracy: 0.9228 - val_loss: 0.0572 - val_accuracy: 0.9819\n",
      "Epoch 5/10\n",
      "175/175 [==============================] - 25s 143ms/step - loss: 0.1981 - accuracy: 0.9350 - val_loss: 0.0480 - val_accuracy: 0.9855\n",
      "Epoch 6/10\n",
      "175/175 [==============================] - 24s 137ms/step - loss: 0.1761 - accuracy: 0.9449 - val_loss: 0.0430 - val_accuracy: 0.9864\n",
      "Epoch 7/10\n",
      "175/175 [==============================] - 24s 135ms/step - loss: 0.1556 - accuracy: 0.9461 - val_loss: 0.0432 - val_accuracy: 0.9859\n",
      "Epoch 8/10\n",
      "175/175 [==============================] - 24s 138ms/step - loss: 0.1362 - accuracy: 0.9540 - val_loss: 0.0424 - val_accuracy: 0.9870\n",
      "Epoch 9/10\n",
      "175/175 [==============================] - 24s 137ms/step - loss: 0.1141 - accuracy: 0.9638 - val_loss: 0.0474 - val_accuracy: 0.9850\n",
      "Epoch 10/10\n",
      "175/175 [==============================] - 24s 136ms/step - loss: 0.1048 - accuracy: 0.9653 - val_loss: 0.0397 - val_accuracy: 0.9871\n",
      "Duration: 0:04:07.105264\n"
     ]
    }
   ],
   "source": [
    "print(n)\n",
    "models_dg[n].fit_model(image_sets_dg[n],label_sets_dg[n],x_val,y_val,epochs=10,batch_size = 64)\n",
    "n = n+1"
   ]
  },
  {
   "cell_type": "code",
   "execution_count": 86,
   "id": "dcbe45fb",
   "metadata": {},
   "outputs": [
    {
     "name": "stdout",
     "output_type": "stream",
     "text": [
      "4\n",
      "Epoch 1/10\n",
      "219/219 [==============================] - 31s 133ms/step - loss: 1.1107 - accuracy: 0.6410 - val_loss: 0.1308 - val_accuracy: 0.9652\n",
      "Epoch 2/10\n",
      "219/219 [==============================] - 28s 130ms/step - loss: 0.4003 - accuracy: 0.8704 - val_loss: 0.0703 - val_accuracy: 0.9785\n",
      "Epoch 3/10\n",
      "219/219 [==============================] - 29s 132ms/step - loss: 0.2616 - accuracy: 0.9177 - val_loss: 0.0549 - val_accuracy: 0.9833\n",
      "Epoch 4/10\n",
      "219/219 [==============================] - 29s 131ms/step - loss: 0.2068 - accuracy: 0.9362 - val_loss: 0.0494 - val_accuracy: 0.9841\n",
      "Epoch 5/10\n",
      "219/219 [==============================] - 29s 131ms/step - loss: 0.1796 - accuracy: 0.9426 - val_loss: 0.0396 - val_accuracy: 0.9876\n",
      "Epoch 6/10\n",
      "219/219 [==============================] - 29s 130ms/step - loss: 0.1475 - accuracy: 0.9515 - val_loss: 0.0399 - val_accuracy: 0.9871\n",
      "Epoch 7/10\n",
      "219/219 [==============================] - 30s 138ms/step - loss: 0.1273 - accuracy: 0.9613 - val_loss: 0.0393 - val_accuracy: 0.9878\n",
      "Epoch 8/10\n",
      "219/219 [==============================] - 30s 135ms/step - loss: 0.1149 - accuracy: 0.9611 - val_loss: 0.0422 - val_accuracy: 0.9869\n",
      "Epoch 9/10\n",
      "219/219 [==============================] - 29s 131ms/step - loss: 0.1118 - accuracy: 0.9635 - val_loss: 0.0390 - val_accuracy: 0.9875\n",
      "Epoch 10/10\n",
      "219/219 [==============================] - 29s 134ms/step - loss: 0.1081 - accuracy: 0.9660 - val_loss: 0.0402 - val_accuracy: 0.9877\n",
      "Duration: 0:04:52.152813\n"
     ]
    }
   ],
   "source": [
    "print(n)#\n",
    "models_dg[n].fit_model(image_sets_dg[n],label_sets_dg[n],x_val,y_val,epochs=10,batch_size = 64)\n",
    "n = n+1"
   ]
  },
  {
   "cell_type": "code",
   "execution_count": 87,
   "id": "0107db68",
   "metadata": {},
   "outputs": [
    {
     "name": "stdout",
     "output_type": "stream",
     "text": [
      "5\n",
      "Epoch 1/10\n",
      "263/263 [==============================] - 37s 131ms/step - loss: 1.0161 - accuracy: 0.6641 - val_loss: 0.1306 - val_accuracy: 0.9591\n",
      "Epoch 2/10\n",
      "263/263 [==============================] - 36s 139ms/step - loss: 0.3244 - accuracy: 0.8999 - val_loss: 0.0713 - val_accuracy: 0.9779\n",
      "Epoch 3/10\n",
      "263/263 [==============================] - 34s 131ms/step - loss: 0.2234 - accuracy: 0.9302 - val_loss: 0.0547 - val_accuracy: 0.9835\n",
      "Epoch 4/10\n",
      "263/263 [==============================] - 33s 127ms/step - loss: 0.1784 - accuracy: 0.9435 - val_loss: 0.0480 - val_accuracy: 0.9848\n",
      "Epoch 5/10\n",
      "263/263 [==============================] - 33s 127ms/step - loss: 0.1391 - accuracy: 0.9558 - val_loss: 0.0435 - val_accuracy: 0.9866\n",
      "Epoch 6/10\n",
      "263/263 [==============================] - 34s 128ms/step - loss: 0.1245 - accuracy: 0.9611 - val_loss: 0.0392 - val_accuracy: 0.9878\n",
      "Epoch 7/10\n",
      "263/263 [==============================] - 33s 127ms/step - loss: 0.1193 - accuracy: 0.9649 - val_loss: 0.0467 - val_accuracy: 0.9852\n",
      "Epoch 8/10\n",
      "263/263 [==============================] - 33s 127ms/step - loss: 0.1091 - accuracy: 0.9647 - val_loss: 0.0441 - val_accuracy: 0.9874\n",
      "Epoch 9/10\n",
      "263/263 [==============================] - 35s 134ms/step - loss: 0.0980 - accuracy: 0.9699 - val_loss: 0.0631 - val_accuracy: 0.9867\n",
      "Epoch 10/10\n",
      "263/263 [==============================] - 34s 129ms/step - loss: 0.1104 - accuracy: 0.9668 - val_loss: 0.0533 - val_accuracy: 0.9851\n",
      "Duration: 0:05:44.411964\n"
     ]
    }
   ],
   "source": [
    "print(n)\n",
    "models_dg[n].fit_model(image_sets_dg[n],label_sets_dg[n],x_val,y_val,epochs=10,batch_size = 64)\n",
    "n = n+1"
   ]
  },
  {
   "cell_type": "code",
   "execution_count": 88,
   "id": "dc5e2f40",
   "metadata": {},
   "outputs": [
    {
     "name": "stdout",
     "output_type": "stream",
     "text": [
      "6\n",
      "Epoch 1/10\n",
      "307/307 [==============================] - 41s 124ms/step - loss: 0.8814 - accuracy: 0.7131 - val_loss: 0.0893 - val_accuracy: 0.9731\n",
      "Epoch 2/10\n",
      "307/307 [==============================] - 38s 124ms/step - loss: 0.2620 - accuracy: 0.9178 - val_loss: 0.0594 - val_accuracy: 0.9807\n",
      "Epoch 3/10\n",
      "307/307 [==============================] - 38s 124ms/step - loss: 0.1803 - accuracy: 0.9447 - val_loss: 0.0483 - val_accuracy: 0.9844\n",
      "Epoch 4/10\n",
      "307/307 [==============================] - 38s 125ms/step - loss: 0.1420 - accuracy: 0.9561 - val_loss: 0.0516 - val_accuracy: 0.9837\n",
      "Epoch 5/10\n",
      "307/307 [==============================] - 38s 124ms/step - loss: 0.1236 - accuracy: 0.9599 - val_loss: 0.0494 - val_accuracy: 0.9846\n",
      "Epoch 6/10\n",
      "307/307 [==============================] - 39s 127ms/step - loss: 0.1140 - accuracy: 0.9643 - val_loss: 0.0372 - val_accuracy: 0.9884\n",
      "Epoch 7/10\n",
      "307/307 [==============================] - 41s 134ms/step - loss: 0.1015 - accuracy: 0.9680 - val_loss: 0.0374 - val_accuracy: 0.9879\n",
      "Epoch 8/10\n",
      "307/307 [==============================] - 45s 146ms/step - loss: 0.0878 - accuracy: 0.9724 - val_loss: 0.0433 - val_accuracy: 0.9882\n",
      "Epoch 9/10\n",
      "307/307 [==============================] - 44s 144ms/step - loss: 0.0849 - accuracy: 0.9751 - val_loss: 0.0486 - val_accuracy: 0.9873\n",
      "Epoch 10/10\n",
      "307/307 [==============================] - 41s 133ms/step - loss: 0.0881 - accuracy: 0.9744 - val_loss: 0.0486 - val_accuracy: 0.9875\n",
      "Duration: 0:06:43.156486\n"
     ]
    }
   ],
   "source": [
    "print(n)\n",
    "models_dg[n].fit_model(image_sets_dg[n],label_sets_dg[n],x_val,y_val,epochs=10,batch_size = 64)\n",
    "n = n+1"
   ]
  },
  {
   "cell_type": "code",
   "execution_count": 89,
   "id": "f76364c7",
   "metadata": {},
   "outputs": [
    {
     "name": "stdout",
     "output_type": "stream",
     "text": [
      "7\n",
      "Epoch 1/10\n",
      "350/350 [==============================] - 47s 127ms/step - loss: 0.8093 - accuracy: 0.7433 - val_loss: 0.0890 - val_accuracy: 0.9729\n",
      "Epoch 2/10\n",
      "350/350 [==============================] - 43s 124ms/step - loss: 0.2364 - accuracy: 0.9268 - val_loss: 0.0520 - val_accuracy: 0.9834\n",
      "Epoch 3/10\n",
      "350/350 [==============================] - 43s 124ms/step - loss: 0.1635 - accuracy: 0.9492 - val_loss: 0.0441 - val_accuracy: 0.9859\n",
      "Epoch 4/10\n",
      "350/350 [==============================] - 43s 123ms/step - loss: 0.1285 - accuracy: 0.9609 - val_loss: 0.0469 - val_accuracy: 0.9846\n",
      "Epoch 5/10\n",
      "350/350 [==============================] - 43s 123ms/step - loss: 0.1080 - accuracy: 0.9669 - val_loss: 0.0376 - val_accuracy: 0.9885\n",
      "Epoch 6/10\n",
      "350/350 [==============================] - 45s 128ms/step - loss: 0.0902 - accuracy: 0.9704 - val_loss: 0.0375 - val_accuracy: 0.9876\n",
      "Epoch 7/10\n",
      "350/350 [==============================] - 44s 126ms/step - loss: 0.0852 - accuracy: 0.9734 - val_loss: 0.0481 - val_accuracy: 0.9854\n",
      "Epoch 8/10\n",
      "350/350 [==============================] - 43s 123ms/step - loss: 0.0905 - accuracy: 0.9739 - val_loss: 0.0512 - val_accuracy: 0.9846\n",
      "Epoch 9/10\n",
      "350/350 [==============================] - 43s 123ms/step - loss: 0.0891 - accuracy: 0.9764 - val_loss: 0.0479 - val_accuracy: 0.9870\n",
      "Epoch 10/10\n",
      "350/350 [==============================] - 43s 123ms/step - loss: 0.0785 - accuracy: 0.9773 - val_loss: 0.0430 - val_accuracy: 0.9883\n",
      "Duration: 0:07:17.421488\n"
     ]
    }
   ],
   "source": [
    "print(n)\n",
    "models_dg[n].fit_model(image_sets_dg[n],label_sets_dg[n],x_val,y_val,epochs=10,batch_size = 64)\n",
    "n = n+1"
   ]
  },
  {
   "cell_type": "code",
   "execution_count": 90,
   "id": "c77cb3fc",
   "metadata": {},
   "outputs": [
    {
     "name": "stdout",
     "output_type": "stream",
     "text": [
      "8\n",
      "Epoch 1/10\n",
      "394/394 [==============================] - 51s 123ms/step - loss: 0.7619 - accuracy: 0.7579 - val_loss: 0.0941 - val_accuracy: 0.9695\n",
      "Epoch 2/10\n",
      "394/394 [==============================] - 49s 124ms/step - loss: 0.2042 - accuracy: 0.9374 - val_loss: 0.0553 - val_accuracy: 0.9825\n",
      "Epoch 3/10\n",
      "394/394 [==============================] - 48s 123ms/step - loss: 0.1471 - accuracy: 0.9562 - val_loss: 0.0436 - val_accuracy: 0.9862\n",
      "Epoch 4/10\n",
      "394/394 [==============================] - 48s 123ms/step - loss: 0.1113 - accuracy: 0.9661 - val_loss: 0.0414 - val_accuracy: 0.9873\n",
      "Epoch 5/10\n",
      "394/394 [==============================] - 48s 122ms/step - loss: 0.0930 - accuracy: 0.9718 - val_loss: 0.0395 - val_accuracy: 0.9877\n",
      "Epoch 6/10\n",
      "394/394 [==============================] - 48s 122ms/step - loss: 0.0904 - accuracy: 0.9740 - val_loss: 0.0413 - val_accuracy: 0.9877\n",
      "Epoch 7/10\n",
      "394/394 [==============================] - 48s 122ms/step - loss: 0.0845 - accuracy: 0.9753 - val_loss: 0.0420 - val_accuracy: 0.9876\n",
      "Epoch 8/10\n",
      "394/394 [==============================] - 51s 128ms/step - loss: 0.0761 - accuracy: 0.9755 - val_loss: 0.0421 - val_accuracy: 0.9887\n",
      "Epoch 9/10\n",
      "394/394 [==============================] - 49s 123ms/step - loss: 0.0794 - accuracy: 0.9777 - val_loss: 0.0403 - val_accuracy: 0.9890\n",
      "Epoch 10/10\n",
      "394/394 [==============================] - 48s 122ms/step - loss: 0.0778 - accuracy: 0.9786 - val_loss: 0.0372 - val_accuracy: 0.9894\n",
      "Duration: 0:08:08.237958\n"
     ]
    }
   ],
   "source": [
    "print(n)\n",
    "models_dg[n].fit_model(image_sets_dg[n],label_sets_dg[n],x_val,y_val,epochs=10,batch_size = 64)\n",
    "n = n+1"
   ]
  },
  {
   "cell_type": "code",
   "execution_count": 91,
   "id": "a4f393d5",
   "metadata": {},
   "outputs": [
    {
     "name": "stdout",
     "output_type": "stream",
     "text": [
      "9\n",
      "Epoch 1/10\n",
      "438/438 [==============================] - 56s 124ms/step - loss: 0.6891 - accuracy: 0.7799 - val_loss: 0.0711 - val_accuracy: 0.9792\n",
      "Epoch 2/10\n",
      "438/438 [==============================] - 54s 123ms/step - loss: 0.1617 - accuracy: 0.9522 - val_loss: 0.0496 - val_accuracy: 0.9847\n",
      "Epoch 3/10\n",
      "438/438 [==============================] - 54s 123ms/step - loss: 0.1179 - accuracy: 0.9653 - val_loss: 0.0466 - val_accuracy: 0.9856\n",
      "Epoch 4/10\n",
      "438/438 [==============================] - 54s 123ms/step - loss: 0.0994 - accuracy: 0.9694 - val_loss: 0.0434 - val_accuracy: 0.9866\n",
      "Epoch 5/10\n",
      "438/438 [==============================] - 54s 123ms/step - loss: 0.0830 - accuracy: 0.9751 - val_loss: 0.0490 - val_accuracy: 0.9851\n",
      "Epoch 6/10\n",
      "438/438 [==============================] - 54s 123ms/step - loss: 0.0804 - accuracy: 0.9778 - val_loss: 0.0465 - val_accuracy: 0.9867\n",
      "Epoch 7/10\n",
      "438/438 [==============================] - 54s 123ms/step - loss: 0.0794 - accuracy: 0.9766 - val_loss: 0.0500 - val_accuracy: 0.9866\n",
      "Epoch 8/10\n",
      "438/438 [==============================] - 54s 123ms/step - loss: 0.0740 - accuracy: 0.9790 - val_loss: 0.0479 - val_accuracy: 0.9871\n",
      "Epoch 9/10\n",
      "438/438 [==============================] - 54s 123ms/step - loss: 0.0809 - accuracy: 0.9775 - val_loss: 0.0456 - val_accuracy: 0.9878\n",
      "Epoch 10/10\n",
      "438/438 [==============================] - 54s 123ms/step - loss: 0.0790 - accuracy: 0.9786 - val_loss: 0.0521 - val_accuracy: 0.9881\n",
      "Duration: 0:09:01.055428\n"
     ]
    }
   ],
   "source": [
    "print(n)#\n",
    "models_dg[n].fit_model(image_sets_dg[n],label_sets_dg[n],x_val,y_val,epochs=10,batch_size = 64)\n",
    "n = n+1"
   ]
  },
  {
   "cell_type": "code",
   "execution_count": 92,
   "id": "2f9b9aa8",
   "metadata": {},
   "outputs": [
    {
     "name": "stdout",
     "output_type": "stream",
     "text": [
      "10\n",
      "Epoch 1/10\n",
      "482/482 [==============================] - 53s 105ms/step - loss: 0.6727 - accuracy: 0.7866 - val_loss: 0.0772 - val_accuracy: 0.9754\n",
      "Epoch 2/10\n",
      "482/482 [==============================] - 50s 104ms/step - loss: 0.1650 - accuracy: 0.9501 - val_loss: 0.0490 - val_accuracy: 0.9843\n",
      "Epoch 3/10\n",
      "482/482 [==============================] - 50s 104ms/step - loss: 0.1191 - accuracy: 0.9661 - val_loss: 0.0489 - val_accuracy: 0.9851\n",
      "Epoch 4/10\n",
      "482/482 [==============================] - 50s 104ms/step - loss: 0.0985 - accuracy: 0.9719 - val_loss: 0.0398 - val_accuracy: 0.9871\n",
      "Epoch 5/10\n",
      "482/482 [==============================] - 50s 104ms/step - loss: 0.0808 - accuracy: 0.9758 - val_loss: 0.0442 - val_accuracy: 0.9873\n",
      "Epoch 6/10\n",
      "482/482 [==============================] - 50s 104ms/step - loss: 0.0807 - accuracy: 0.9759 - val_loss: 0.0403 - val_accuracy: 0.9879\n",
      "Epoch 7/10\n",
      "482/482 [==============================] - 51s 105ms/step - loss: 0.0791 - accuracy: 0.9768 - val_loss: 0.0448 - val_accuracy: 0.9875\n",
      "Epoch 8/10\n",
      "482/482 [==============================] - 51s 106ms/step - loss: 0.0761 - accuracy: 0.9785 - val_loss: 0.0505 - val_accuracy: 0.9869\n",
      "Epoch 9/10\n",
      "482/482 [==============================] - 52s 107ms/step - loss: 0.0764 - accuracy: 0.9786 - val_loss: 0.0464 - val_accuracy: 0.9871\n",
      "Epoch 10/10\n",
      "482/482 [==============================] - 53s 109ms/step - loss: 0.0884 - accuracy: 0.9761 - val_loss: 0.0466 - val_accuracy: 0.9870\n",
      "Duration: 0:08:28.519130\n"
     ]
    }
   ],
   "source": [
    "print(n)\n",
    "models_dg[n].fit_model(image_sets_dg[n],label_sets_dg[n],x_val,y_val,epochs=10,batch_size = 64)\n",
    "n = n+1"
   ]
  },
  {
   "cell_type": "code",
   "execution_count": 93,
   "id": "e4849039",
   "metadata": {},
   "outputs": [
    {
     "name": "stdout",
     "output_type": "stream",
     "text": [
      "11\n",
      "Epoch 1/10\n",
      "525/525 [==============================] - 60s 110ms/step - loss: 0.5893 - accuracy: 0.8162 - val_loss: 0.0628 - val_accuracy: 0.9801\n",
      "Epoch 2/10\n",
      "525/525 [==============================] - 58s 110ms/step - loss: 0.1416 - accuracy: 0.9573 - val_loss: 0.0496 - val_accuracy: 0.9842\n",
      "Epoch 3/10\n",
      "525/525 [==============================] - 58s 110ms/step - loss: 0.1064 - accuracy: 0.9683 - val_loss: 0.0434 - val_accuracy: 0.9863\n",
      "Epoch 4/10\n",
      "525/525 [==============================] - 58s 110ms/step - loss: 0.0805 - accuracy: 0.9757 - val_loss: 0.0423 - val_accuracy: 0.9864\n",
      "Epoch 5/10\n",
      "525/525 [==============================] - 58s 111ms/step - loss: 0.0765 - accuracy: 0.9781 - val_loss: 0.0434 - val_accuracy: 0.9875\n",
      "Epoch 6/10\n",
      "525/525 [==============================] - 58s 111ms/step - loss: 0.0702 - accuracy: 0.9801 - val_loss: 0.0441 - val_accuracy: 0.9876\n",
      "Epoch 7/10\n",
      "525/525 [==============================] - 58s 111ms/step - loss: 0.0685 - accuracy: 0.9814 - val_loss: 0.0403 - val_accuracy: 0.9889\n",
      "Epoch 8/10\n",
      "525/525 [==============================] - 58s 110ms/step - loss: 0.0730 - accuracy: 0.9799 - val_loss: 0.0500 - val_accuracy: 0.9867\n",
      "Epoch 9/10\n",
      "525/525 [==============================] - 58s 110ms/step - loss: 0.0783 - accuracy: 0.9787 - val_loss: 0.0513 - val_accuracy: 0.9855\n",
      "Epoch 10/10\n",
      "525/525 [==============================] - 58s 110ms/step - loss: 0.0747 - accuracy: 0.9793 - val_loss: 0.0496 - val_accuracy: 0.9866\n",
      "Duration: 0:09:40.539535\n"
     ]
    }
   ],
   "source": [
    "print(n)\n",
    "models_dg[n].fit_model(image_sets_dg[n],label_sets_dg[n],x_val,y_val,epochs=10,batch_size = 64)\n",
    "n = n+1"
   ]
  },
  {
   "cell_type": "code",
   "execution_count": 94,
   "id": "43963e70",
   "metadata": {},
   "outputs": [
    {
     "name": "stdout",
     "output_type": "stream",
     "text": [
      "12\n",
      "Epoch 1/10\n",
      "569/569 [==============================] - 65s 112ms/step - loss: 0.5363 - accuracy: 0.8312 - val_loss: 0.0722 - val_accuracy: 0.9769\n",
      "Epoch 2/10\n",
      "569/569 [==============================] - 63s 111ms/step - loss: 0.1288 - accuracy: 0.9606 - val_loss: 0.0499 - val_accuracy: 0.9839\n",
      "Epoch 3/10\n",
      "569/569 [==============================] - 64s 112ms/step - loss: 0.0914 - accuracy: 0.9723 - val_loss: 0.0436 - val_accuracy: 0.9860\n",
      "Epoch 4/10\n",
      "569/569 [==============================] - 63s 111ms/step - loss: 0.0766 - accuracy: 0.9771 - val_loss: 0.0417 - val_accuracy: 0.9876\n",
      "Epoch 5/10\n",
      "569/569 [==============================] - 64s 112ms/step - loss: 0.0640 - accuracy: 0.9813 - val_loss: 0.0378 - val_accuracy: 0.9879\n",
      "Epoch 6/10\n",
      "569/569 [==============================] - 63s 111ms/step - loss: 0.0632 - accuracy: 0.9815 - val_loss: 0.0430 - val_accuracy: 0.9870\n",
      "Epoch 7/10\n",
      "569/569 [==============================] - 64s 112ms/step - loss: 0.0695 - accuracy: 0.9804 - val_loss: 0.0475 - val_accuracy: 0.9866\n",
      "Epoch 8/10\n",
      "569/569 [==============================] - 71s 124ms/step - loss: 0.0742 - accuracy: 0.9795 - val_loss: 0.0436 - val_accuracy: 0.9866\n",
      "Epoch 9/10\n",
      "569/569 [==============================] - 71s 124ms/step - loss: 0.0714 - accuracy: 0.9801 - val_loss: 0.0479 - val_accuracy: 0.9866\n",
      "Epoch 10/10\n",
      "569/569 [==============================] - 70s 123ms/step - loss: 0.0739 - accuracy: 0.9807 - val_loss: 0.0452 - val_accuracy: 0.9871\n",
      "Duration: 0:10:57.389342\n"
     ]
    }
   ],
   "source": [
    "print(n)\n",
    "models_dg[n].fit_model(image_sets_dg[n],label_sets_dg[n],x_val,y_val,epochs=10,batch_size = 64)\n",
    "n = n+1"
   ]
  },
  {
   "cell_type": "code",
   "execution_count": 95,
   "id": "d8ba0ffb",
   "metadata": {},
   "outputs": [
    {
     "name": "stdout",
     "output_type": "stream",
     "text": [
      "13\n",
      "Epoch 1/10\n",
      "613/613 [==============================] - 78s 122ms/step - loss: 0.5353 - accuracy: 0.8332 - val_loss: 0.0576 - val_accuracy: 0.9812\n",
      "Epoch 2/10\n",
      "613/613 [==============================] - 75s 122ms/step - loss: 0.1235 - accuracy: 0.9653 - val_loss: 0.0542 - val_accuracy: 0.9834\n",
      "Epoch 3/10\n",
      "613/613 [==============================] - 75s 122ms/step - loss: 0.0872 - accuracy: 0.9754 - val_loss: 0.0433 - val_accuracy: 0.9861\n",
      "Epoch 4/10\n",
      "613/613 [==============================] - 77s 125ms/step - loss: 0.0824 - accuracy: 0.9779 - val_loss: 0.0586 - val_accuracy: 0.9854\n",
      "Epoch 5/10\n",
      "613/613 [==============================] - 75s 123ms/step - loss: 0.0744 - accuracy: 0.9783 - val_loss: 0.0423 - val_accuracy: 0.9870\n",
      "Epoch 6/10\n",
      "613/613 [==============================] - 71s 115ms/step - loss: 0.0691 - accuracy: 0.9802 - val_loss: 0.0422 - val_accuracy: 0.9874\n",
      "Epoch 7/10\n",
      "613/613 [==============================] - 68s 111ms/step - loss: 0.0730 - accuracy: 0.9783 - val_loss: 0.0456 - val_accuracy: 0.9879\n",
      "Epoch 8/10\n",
      "613/613 [==============================] - 68s 111ms/step - loss: 0.0735 - accuracy: 0.9793 - val_loss: 0.0567 - val_accuracy: 0.9856\n",
      "Epoch 9/10\n",
      "613/613 [==============================] - 68s 111ms/step - loss: 0.0765 - accuracy: 0.9795 - val_loss: 0.0460 - val_accuracy: 0.9864\n",
      "Epoch 10/10\n",
      "613/613 [==============================] - 68s 111ms/step - loss: 0.0809 - accuracy: 0.9803 - val_loss: 0.0515 - val_accuracy: 0.9867\n",
      "Duration: 0:12:02.131821\n"
     ]
    }
   ],
   "source": [
    "print(n)\n",
    "models_dg[n].fit_model(image_sets_dg[n],label_sets_dg[n],x_val,y_val,epochs=10,batch_size = 64)\n",
    "n = n+1"
   ]
  },
  {
   "cell_type": "code",
   "execution_count": 96,
   "id": "c33080eb",
   "metadata": {},
   "outputs": [
    {
     "name": "stdout",
     "output_type": "stream",
     "text": [
      "14\n",
      "Epoch 1/10\n",
      "657/657 [==============================] - 74s 110ms/step - loss: 0.5112 - accuracy: 0.8416 - val_loss: 0.0642 - val_accuracy: 0.9789\n",
      "Epoch 2/10\n",
      "657/657 [==============================] - 72s 110ms/step - loss: 0.1134 - accuracy: 0.9661 - val_loss: 0.0617 - val_accuracy: 0.9801\n",
      "Epoch 3/10\n",
      "657/657 [==============================] - 72s 110ms/step - loss: 0.0856 - accuracy: 0.9758 - val_loss: 0.0434 - val_accuracy: 0.9859\n",
      "Epoch 4/10\n",
      "657/657 [==============================] - 72s 110ms/step - loss: 0.0717 - accuracy: 0.9797 - val_loss: 0.0460 - val_accuracy: 0.9864\n",
      "Epoch 5/10\n",
      "657/657 [==============================] - 72s 109ms/step - loss: 0.0721 - accuracy: 0.9804 - val_loss: 0.0493 - val_accuracy: 0.9872\n",
      "Epoch 6/10\n",
      "657/657 [==============================] - 72s 109ms/step - loss: 0.0652 - accuracy: 0.9811 - val_loss: 0.0496 - val_accuracy: 0.9861\n",
      "Epoch 7/10\n",
      "657/657 [==============================] - 72s 109ms/step - loss: 0.0645 - accuracy: 0.9826 - val_loss: 0.0429 - val_accuracy: 0.9874\n",
      "Epoch 8/10\n",
      "657/657 [==============================] - 72s 109ms/step - loss: 0.0693 - accuracy: 0.9813 - val_loss: 0.0466 - val_accuracy: 0.9881\n",
      "Epoch 9/10\n",
      "657/657 [==============================] - 72s 110ms/step - loss: 0.0720 - accuracy: 0.9810 - val_loss: 0.0482 - val_accuracy: 0.9869\n",
      "Epoch 10/10\n",
      "657/657 [==============================] - 72s 109ms/step - loss: 0.0719 - accuracy: 0.9824 - val_loss: 0.0570 - val_accuracy: 0.9856\n",
      "Duration: 0:12:02.215939\n"
     ]
    }
   ],
   "source": [
    "print(n)#\n",
    "models_dg[n].fit_model(image_sets_dg[n],label_sets_dg[n],x_val,y_val,epochs=10,batch_size = 64)\n",
    "n = n+1"
   ]
  },
  {
   "cell_type": "code",
   "execution_count": 97,
   "id": "935d2c7f",
   "metadata": {},
   "outputs": [
    {
     "name": "stdout",
     "output_type": "stream",
     "text": [
      "15\n",
      "Epoch 1/10\n",
      "700/700 [==============================] - 78s 108ms/step - loss: 0.4561 - accuracy: 0.8558 - val_loss: 0.0622 - val_accuracy: 0.9809\n",
      "Epoch 2/10\n",
      "700/700 [==============================] - 75s 108ms/step - loss: 0.1118 - accuracy: 0.9679 - val_loss: 0.0491 - val_accuracy: 0.9836\n",
      "Epoch 3/10\n",
      "700/700 [==============================] - 75s 107ms/step - loss: 0.0802 - accuracy: 0.9775 - val_loss: 0.0459 - val_accuracy: 0.9849\n",
      "Epoch 4/10\n",
      "700/700 [==============================] - 75s 108ms/step - loss: 0.0725 - accuracy: 0.9782 - val_loss: 0.0511 - val_accuracy: 0.9847\n",
      "Epoch 5/10\n",
      "700/700 [==============================] - 76s 109ms/step - loss: 0.0686 - accuracy: 0.9806 - val_loss: 0.0463 - val_accuracy: 0.9867\n",
      "Epoch 6/10\n",
      "700/700 [==============================] - 75s 108ms/step - loss: 0.0663 - accuracy: 0.9819 - val_loss: 0.0446 - val_accuracy: 0.9871\n",
      "Epoch 7/10\n",
      "700/700 [==============================] - 83s 119ms/step - loss: 0.0720 - accuracy: 0.9808 - val_loss: 0.0427 - val_accuracy: 0.9869\n",
      "Epoch 8/10\n",
      "700/700 [==============================] - 83s 119ms/step - loss: 0.0714 - accuracy: 0.9819 - val_loss: 0.0422 - val_accuracy: 0.9875\n",
      "Epoch 9/10\n",
      "700/700 [==============================] - 83s 119ms/step - loss: 0.0719 - accuracy: 0.9817 - val_loss: 0.0536 - val_accuracy: 0.9863\n",
      "Epoch 10/10\n",
      "700/700 [==============================] - 83s 119ms/step - loss: 0.0800 - accuracy: 0.9793 - val_loss: 0.0461 - val_accuracy: 0.9874\n",
      "Duration: 0:13:07.645004\n"
     ]
    }
   ],
   "source": [
    "print(n)\n",
    "models_dg[n].fit_model(image_sets_dg[n],label_sets_dg[n],x_val,y_val,epochs=10,batch_size = 64)\n",
    "n = n+1"
   ]
  },
  {
   "cell_type": "code",
   "execution_count": 98,
   "id": "0a242661",
   "metadata": {},
   "outputs": [],
   "source": [
    "time.sleep(400)"
   ]
  },
  {
   "cell_type": "code",
   "execution_count": 99,
   "id": "ab5a778b",
   "metadata": {},
   "outputs": [
    {
     "name": "stdout",
     "output_type": "stream",
     "text": [
      "16\n",
      "Epoch 1/10\n",
      "744/744 [==============================] - 88s 115ms/step - loss: 0.4722 - accuracy: 0.8517 - val_loss: 0.0664 - val_accuracy: 0.9794\n",
      "Epoch 2/10\n",
      "744/744 [==============================] - 86s 115ms/step - loss: 0.1049 - accuracy: 0.9690 - val_loss: 0.0505 - val_accuracy: 0.9835\n",
      "Epoch 3/10\n",
      "744/744 [==============================] - 85s 115ms/step - loss: 0.0795 - accuracy: 0.9769 - val_loss: 0.0572 - val_accuracy: 0.9836\n",
      "Epoch 4/10\n",
      "744/744 [==============================] - 85s 115ms/step - loss: 0.0732 - accuracy: 0.9793 - val_loss: 0.0586 - val_accuracy: 0.9828\n",
      "Epoch 5/10\n",
      "744/744 [==============================] - 85s 115ms/step - loss: 0.0647 - accuracy: 0.9822 - val_loss: 0.0530 - val_accuracy: 0.9851\n",
      "Epoch 6/10\n",
      "744/744 [==============================] - 85s 114ms/step - loss: 0.0679 - accuracy: 0.9813 - val_loss: 0.0470 - val_accuracy: 0.9863\n",
      "Epoch 7/10\n",
      "744/744 [==============================] - 85s 115ms/step - loss: 0.0686 - accuracy: 0.9823 - val_loss: 0.0503 - val_accuracy: 0.9869\n",
      "Epoch 8/10\n",
      "744/744 [==============================] - 85s 114ms/step - loss: 0.0717 - accuracy: 0.9812 - val_loss: 0.0472 - val_accuracy: 0.9872\n",
      "Epoch 9/10\n",
      "744/744 [==============================] - 85s 115ms/step - loss: 0.0725 - accuracy: 0.9805 - val_loss: 0.0603 - val_accuracy: 0.9855\n",
      "Epoch 10/10\n",
      "744/744 [==============================] - 87s 117ms/step - loss: 0.0749 - accuracy: 0.9811 - val_loss: 0.0495 - val_accuracy: 0.9864\n",
      "Duration: 0:14:18.082100\n"
     ]
    }
   ],
   "source": [
    "print(n)\n",
    "models_dg[n].fit_model(image_sets_dg[n],label_sets_dg[n],x_val,y_val,epochs=10,batch_size = 64)\n",
    "n = n+1"
   ]
  },
  {
   "cell_type": "code",
   "execution_count": 100,
   "id": "9e8ae173",
   "metadata": {},
   "outputs": [],
   "source": [
    "time.sleep(400)"
   ]
  },
  {
   "cell_type": "code",
   "execution_count": 101,
   "id": "0b00dcc1",
   "metadata": {},
   "outputs": [
    {
     "name": "stdout",
     "output_type": "stream",
     "text": [
      "17\n",
      "Epoch 1/10\n",
      "788/788 [==============================] - 93s 115ms/step - loss: 0.4233 - accuracy: 0.8682 - val_loss: 0.0675 - val_accuracy: 0.9791\n",
      "Epoch 2/10\n",
      "788/788 [==============================] - 90s 115ms/step - loss: 0.0933 - accuracy: 0.9720 - val_loss: 0.0471 - val_accuracy: 0.9841\n",
      "Epoch 3/10\n",
      "788/788 [==============================] - 90s 115ms/step - loss: 0.0712 - accuracy: 0.9790 - val_loss: 0.0447 - val_accuracy: 0.9849\n",
      "Epoch 4/10\n",
      "788/788 [==============================] - 90s 114ms/step - loss: 0.0615 - accuracy: 0.9819 - val_loss: 0.0448 - val_accuracy: 0.9861\n",
      "Epoch 5/10\n",
      "788/788 [==============================] - 90s 114ms/step - loss: 0.0622 - accuracy: 0.9828 - val_loss: 0.0479 - val_accuracy: 0.9862\n",
      "Epoch 6/10\n",
      "788/788 [==============================] - 90s 114ms/step - loss: 0.0625 - accuracy: 0.9828 - val_loss: 0.0555 - val_accuracy: 0.9869\n",
      "Epoch 7/10\n",
      "788/788 [==============================] - 90s 114ms/step - loss: 0.0632 - accuracy: 0.9832 - val_loss: 0.0515 - val_accuracy: 0.9869\n",
      "Epoch 8/10\n",
      "788/788 [==============================] - 90s 114ms/step - loss: 0.0664 - accuracy: 0.9828 - val_loss: 0.0506 - val_accuracy: 0.9867\n",
      "Epoch 9/10\n",
      "788/788 [==============================] - 91s 116ms/step - loss: 0.0648 - accuracy: 0.9816 - val_loss: 0.0624 - val_accuracy: 0.9857\n",
      "Epoch 10/10\n",
      "788/788 [==============================] - 93s 118ms/step - loss: 0.0682 - accuracy: 0.9823 - val_loss: 0.0565 - val_accuracy: 0.9860\n",
      "Duration: 0:15:08.550302\n"
     ]
    }
   ],
   "source": [
    "print(n)\n",
    "models_dg[n].fit_model(image_sets_dg[n],label_sets_dg[n],x_val,y_val,epochs=10,batch_size = 64)\n",
    "n = n+1"
   ]
  },
  {
   "cell_type": "code",
   "execution_count": null,
   "id": "ed4a70b7",
   "metadata": {},
   "outputs": [],
   "source": [
    "time.sleep(400)"
   ]
  },
  {
   "cell_type": "code",
   "execution_count": 102,
   "id": "c6cccdf0",
   "metadata": {},
   "outputs": [
    {
     "name": "stdout",
     "output_type": "stream",
     "text": [
      "18\n",
      "Epoch 1/10\n",
      "832/832 [==============================] - 100s 118ms/step - loss: 0.3917 - accuracy: 0.8764 - val_loss: 0.0641 - val_accuracy: 0.9808\n",
      "Epoch 2/10\n",
      "832/832 [==============================] - 93s 112ms/step - loss: 0.0856 - accuracy: 0.9754 - val_loss: 0.0516 - val_accuracy: 0.9848\n",
      "Epoch 3/10\n",
      "832/832 [==============================] - 89s 107ms/step - loss: 0.0670 - accuracy: 0.9811 - val_loss: 0.0444 - val_accuracy: 0.9861\n",
      "Epoch 4/10\n",
      "832/832 [==============================] - 88s 106ms/step - loss: 0.0612 - accuracy: 0.9817 - val_loss: 0.0431 - val_accuracy: 0.9859\n",
      "Epoch 5/10\n",
      "832/832 [==============================] - 88s 106ms/step - loss: 0.0640 - accuracy: 0.9822 - val_loss: 0.0510 - val_accuracy: 0.9851\n",
      "Epoch 6/10\n",
      "832/832 [==============================] - 89s 107ms/step - loss: 0.0652 - accuracy: 0.9832 - val_loss: 0.0541 - val_accuracy: 0.9860\n",
      "Epoch 7/10\n",
      "832/832 [==============================] - 88s 106ms/step - loss: 0.0631 - accuracy: 0.9831 - val_loss: 0.0594 - val_accuracy: 0.9851\n",
      "Epoch 8/10\n",
      "832/832 [==============================] - 88s 105ms/step - loss: 0.0676 - accuracy: 0.9823 - val_loss: 0.0592 - val_accuracy: 0.9849\n",
      "Epoch 9/10\n",
      "832/832 [==============================] - 88s 106ms/step - loss: 0.0725 - accuracy: 0.9816 - val_loss: 0.0735 - val_accuracy: 0.9816\n",
      "Epoch 10/10\n",
      "832/832 [==============================] - 88s 106ms/step - loss: 0.0739 - accuracy: 0.9818 - val_loss: 0.0948 - val_accuracy: 0.9813\n",
      "Duration: 0:14:59.231893\n"
     ]
    }
   ],
   "source": [
    "print(n)\n",
    "models_dg[n].fit_model(image_sets_dg[n],label_sets_dg[n],x_val,y_val,epochs=10,batch_size = 64)\n",
    "n = n+1"
   ]
  },
  {
   "cell_type": "code",
   "execution_count": null,
   "id": "83cc5bdf",
   "metadata": {},
   "outputs": [],
   "source": [
    "time.sleep(400)"
   ]
  },
  {
   "cell_type": "code",
   "execution_count": 103,
   "id": "b8140fc7",
   "metadata": {},
   "outputs": [
    {
     "name": "stdout",
     "output_type": "stream",
     "text": [
      "19\n",
      "Epoch 1/10\n",
      "875/875 [==============================] - 95s 106ms/step - loss: 0.3840 - accuracy: 0.8816 - val_loss: 0.0562 - val_accuracy: 0.9825\n",
      "Epoch 2/10\n",
      "875/875 [==============================] - 93s 106ms/step - loss: 0.0843 - accuracy: 0.9748 - val_loss: 0.0491 - val_accuracy: 0.9844\n",
      "Epoch 3/10\n",
      "875/875 [==============================] - 93s 106ms/step - loss: 0.0711 - accuracy: 0.9797 - val_loss: 0.0463 - val_accuracy: 0.9852\n",
      "Epoch 4/10\n",
      "875/875 [==============================] - 93s 106ms/step - loss: 0.0598 - accuracy: 0.9830 - val_loss: 0.0408 - val_accuracy: 0.9871\n",
      "Epoch 5/10\n",
      "875/875 [==============================] - 92s 106ms/step - loss: 0.0572 - accuracy: 0.9846 - val_loss: 0.0478 - val_accuracy: 0.9861\n",
      "Epoch 6/10\n",
      "875/875 [==============================] - 93s 106ms/step - loss: 0.0580 - accuracy: 0.9834 - val_loss: 0.0663 - val_accuracy: 0.9839\n",
      "Epoch 7/10\n",
      "875/875 [==============================] - 93s 106ms/step - loss: 0.0613 - accuracy: 0.9837 - val_loss: 0.0534 - val_accuracy: 0.9856\n",
      "Epoch 8/10\n",
      "875/875 [==============================] - 92s 106ms/step - loss: 0.0666 - accuracy: 0.9824 - val_loss: 0.0606 - val_accuracy: 0.9841\n",
      "Epoch 9/10\n",
      "875/875 [==============================] - 96s 109ms/step - loss: 0.0726 - accuracy: 0.9814 - val_loss: 0.0541 - val_accuracy: 0.9843\n",
      "Epoch 10/10\n",
      "875/875 [==============================] - 103s 117ms/step - loss: 0.0697 - accuracy: 0.9825 - val_loss: 0.0575 - val_accuracy: 0.9844\n",
      "Duration: 0:15:41.184712\n"
     ]
    }
   ],
   "source": [
    "print(n)#\n",
    "models_dg[n].fit_model(image_sets_dg[n],label_sets_dg[n],x_val,y_val,epochs=10,batch_size = 64)\n",
    "n = n+1"
   ]
  },
  {
   "cell_type": "code",
   "execution_count": 104,
   "id": "822aa540",
   "metadata": {},
   "outputs": [
    {
     "name": "stdout",
     "output_type": "stream",
     "text": [
      "INFO:tensorflow:Assets written to: D:/models/aug_22/mnist/C1/mnist_model_c1_aug_dg_e1_0\\assets\n",
      "Model has been saved\n",
      "INFO:tensorflow:Assets written to: D:/models/aug_22/mnist/C1/mnist_model_c1_aug_dg_e1_1\\assets\n",
      "Model has been saved\n",
      "INFO:tensorflow:Assets written to: D:/models/aug_22/mnist/C1/mnist_model_c1_aug_dg_e1_2\\assets\n",
      "Model has been saved\n",
      "INFO:tensorflow:Assets written to: D:/models/aug_22/mnist/C1/mnist_model_c1_aug_dg_e1_3\\assets\n",
      "Model has been saved\n",
      "INFO:tensorflow:Assets written to: D:/models/aug_22/mnist/C1/mnist_model_c1_aug_dg_e1_4\\assets\n",
      "Model has been saved\n",
      "INFO:tensorflow:Assets written to: D:/models/aug_22/mnist/C1/mnist_model_c1_aug_dg_e1_5\\assets\n",
      "Model has been saved\n",
      "INFO:tensorflow:Assets written to: D:/models/aug_22/mnist/C1/mnist_model_c1_aug_dg_e1_6\\assets\n",
      "Model has been saved\n",
      "INFO:tensorflow:Assets written to: D:/models/aug_22/mnist/C1/mnist_model_c1_aug_dg_e1_7\\assets\n",
      "Model has been saved\n",
      "INFO:tensorflow:Assets written to: D:/models/aug_22/mnist/C1/mnist_model_c1_aug_dg_e1_8\\assets\n",
      "Model has been saved\n",
      "INFO:tensorflow:Assets written to: D:/models/aug_22/mnist/C1/mnist_model_c1_aug_dg_e1_9\\assets\n",
      "Model has been saved\n",
      "INFO:tensorflow:Assets written to: D:/models/aug_22/mnist/C1/mnist_model_c1_aug_dg_e1_10\\assets\n",
      "Model has been saved\n",
      "INFO:tensorflow:Assets written to: D:/models/aug_22/mnist/C1/mnist_model_c1_aug_dg_e1_11\\assets\n",
      "Model has been saved\n",
      "INFO:tensorflow:Assets written to: D:/models/aug_22/mnist/C1/mnist_model_c1_aug_dg_e1_12\\assets\n",
      "Model has been saved\n",
      "INFO:tensorflow:Assets written to: D:/models/aug_22/mnist/C1/mnist_model_c1_aug_dg_e1_13\\assets\n",
      "Model has been saved\n",
      "INFO:tensorflow:Assets written to: D:/models/aug_22/mnist/C1/mnist_model_c1_aug_dg_e1_14\\assets\n",
      "Model has been saved\n",
      "INFO:tensorflow:Assets written to: D:/models/aug_22/mnist/C1/mnist_model_c1_aug_dg_e1_15\\assets\n",
      "Model has been saved\n",
      "INFO:tensorflow:Assets written to: D:/models/aug_22/mnist/C1/mnist_model_c1_aug_dg_e1_16\\assets\n",
      "Model has been saved\n",
      "INFO:tensorflow:Assets written to: D:/models/aug_22/mnist/C1/mnist_model_c1_aug_dg_e1_17\\assets\n",
      "Model has been saved\n",
      "INFO:tensorflow:Assets written to: D:/models/aug_22/mnist/C1/mnist_model_c1_aug_dg_e1_18\\assets\n",
      "Model has been saved\n",
      "INFO:tensorflow:Assets written to: D:/models/aug_22/mnist/C1/mnist_model_c1_aug_dg_e1_19\\assets\n",
      "Model has been saved\n"
     ]
    }
   ],
   "source": [
    "new_model_dg_dir  = \"D:/models/aug_22/\"+dataset+\"/C1/\"+dataset+\"_model_c1_aug_dg_e1\"\n",
    "\n",
    "i=0\n",
    "\n",
    "for model in models_dg:\n",
    "    model.save(new_model_dg_dir+\"_\"+str(i))\n",
    "    i+=1"
   ]
  },
  {
   "cell_type": "code",
   "execution_count": null,
   "id": "87737d9a",
   "metadata": {},
   "outputs": [],
   "source": [
    "loading = False\n",
    "\n",
    "models_dg = []\n",
    "\n",
    "if loading:\n",
    "    for i in range(5):\n",
    "        model_dg_dir = \"D:/models/aug_22/gtsrb/C1/gtsrb_model_c1_aug_gn_e1_\"+str(i)\n",
    "        print(model_dg_dir)\n",
    "        model =utils.My_model('gtsrb',True,model_dg_dir)\n",
    "        model.model.compile(loss= 'categorical_crossentropy', optimizer = 'rmsprop', metrics = ['accuracy',tf.keras.metrics.Precision(), tf.keras.metrics.Recall()])\n",
    "        models_dg.append(model)\n",
    "       \n",
    "    "
   ]
  },
  {
   "cell_type": "code",
   "execution_count": 105,
   "id": "2139719c",
   "metadata": {},
   "outputs": [],
   "source": [
    "try:\n",
    "    del deep_gini_values\n",
    "    del top_images_by_dg\n",
    "    del top_labels_by_dg\n",
    "    del image_sets_dg\n",
    "    del label_sets_dg\n",
    "    del models_dg\n",
    "except:\n",
    "    print(\"Error\")"
   ]
  },
  {
   "cell_type": "code",
   "execution_count": 106,
   "id": "a8986882",
   "metadata": {},
   "outputs": [
    {
     "data": {
      "text/plain": [
       "73342"
      ]
     },
     "execution_count": 106,
     "metadata": {},
     "output_type": "execute_result"
    }
   ],
   "source": [
    "import gc\n",
    "gc.collect()"
   ]
  },
  {
   "cell_type": "markdown",
   "id": "be3bfcff",
   "metadata": {},
   "source": [
    "### Softmax "
   ]
  },
  {
   "cell_type": "code",
   "execution_count": 107,
   "id": "d3b6b20c",
   "metadata": {},
   "outputs": [],
   "source": [
    "#softmax values\n",
    "se_direction = \"C:/Users/fjdur/Documents/upc-july/data/\"+dataset+\"/softmax_values.npy\"\n",
    "se_values = np.load(se_direction)\n"
   ]
  },
  {
   "cell_type": "code",
   "execution_count": 108,
   "id": "a389aa31",
   "metadata": {},
   "outputs": [],
   "source": [
    "# Obtaining top n images by LSA values\n",
    "top_images_by_se  = utils.get_x_of_indexes(list(np.flip(np.argsort(se_values))),x_train_and_adversary)\n",
    "top_labels_by_se = utils.get_x_of_indexes(list(np.flip(np.argsort(se_values))),y_train_and_adversary)"
   ]
  },
  {
   "cell_type": "code",
   "execution_count": 109,
   "id": "74bdb95f",
   "metadata": {},
   "outputs": [
    {
     "name": "stdout",
     "output_type": "stream",
     "text": [
      "0 :\n",
      "0  ->  2800\n",
      "2800\n",
      "1 :\n",
      "0  ->  5600\n",
      "5600\n",
      "2 :\n",
      "0  ->  8400\n",
      "8400\n",
      "3 :\n",
      "0  ->  11200\n",
      "11200\n",
      "4 :\n",
      "0  ->  14000\n",
      "14000\n",
      "5 :\n",
      "0  ->  16800\n",
      "16800\n",
      "6 :\n",
      "0  ->  19600\n",
      "19600\n",
      "7 :\n",
      "0  ->  22400\n",
      "22400\n",
      "8 :\n",
      "0  ->  25200\n",
      "25200\n",
      "9 :\n",
      "0  ->  28000\n",
      "28000\n",
      "10 :\n",
      "0  ->  30800\n",
      "30800\n",
      "11 :\n",
      "0  ->  33600\n",
      "33600\n",
      "12 :\n",
      "0  ->  36400\n",
      "36400\n",
      "13 :\n",
      "0  ->  39200\n",
      "39200\n",
      "14 :\n",
      "0  ->  42000\n",
      "42000\n",
      "15 :\n",
      "0  ->  44800\n",
      "44800\n",
      "16 :\n",
      "0  ->  47600\n",
      "47600\n",
      "17 :\n",
      "0  ->  50400\n",
      "50400\n",
      "18 :\n",
      "0  ->  53200\n",
      "53200\n",
      "19 :\n",
      "Last\n",
      "0  ->  58798\n",
      "55998\n"
     ]
    }
   ],
   "source": [
    "m = n_data_points\n",
    "\n",
    "n = 0\n",
    "image_sets_se = []\n",
    "label_sets_se = []\n",
    "\n",
    "# last\n",
    "#for i in range(0,len(top_images_by_lsa)//m):\n",
    "\n",
    "for i in range((len(top_images_by_se)//m)+1):\n",
    "    print(i,\":\")\n",
    "    if (i+1 >= ((len(top_images_by_se)//m)+1)):\n",
    "        print(\"Last\")\n",
    "        print(0,\" -> \",n+m+(len(top_images_by_se)%m))\n",
    "        top_images_by_se_n = np.array(top_images_by_se[:n+m+(len(top_images_by_se)%m)])\n",
    "        top_labels_by_se_n = np.array(top_labels_by_se[:n+m+(len(top_images_by_se)%m)])\n",
    "    else:\n",
    "        print(0,\" -> \",m+n)\n",
    "        top_images_by_se_n = np.array(top_images_by_se[:n+m])\n",
    "        top_labels_by_se_n = np.array(top_labels_by_se[:n+m])\n",
    "    image_sets_se.append(top_images_by_se_n)\n",
    "    label_sets_se.append(top_labels_by_se_n)\n",
    "    print(len(top_images_by_se_n))\n",
    "    n += m\n",
    "\n"
   ]
  },
  {
   "cell_type": "code",
   "execution_count": 110,
   "id": "14e3cfb3",
   "metadata": {},
   "outputs": [
    {
     "name": "stdout",
     "output_type": "stream",
     "text": [
      "0 :\n",
      "Model compiled\n",
      "1 :\n",
      "Model compiled\n",
      "2 :\n",
      "Model compiled\n",
      "3 :\n",
      "Model compiled\n",
      "4 :\n",
      "Model compiled\n",
      "5 :\n",
      "Model compiled\n",
      "6 :\n",
      "Model compiled\n",
      "7 :\n",
      "Model compiled\n",
      "8 :\n",
      "Model compiled\n",
      "9 :\n",
      "Model compiled\n",
      "10 :\n",
      "Model compiled\n",
      "11 :\n",
      "Model compiled\n",
      "12 :\n",
      "Model compiled\n",
      "13 :\n",
      "Model compiled\n",
      "14 :\n",
      "Model compiled\n",
      "15 :\n",
      "Model compiled\n",
      "16 :\n",
      "Model compiled\n",
      "17 :\n",
      "Model compiled\n",
      "18 :\n",
      "Model compiled\n",
      "19 :\n",
      "Model compiled\n"
     ]
    }
   ],
   "source": [
    "models_se = []\n",
    "for i in range(len(label_sets_se)):\n",
    "    print(i,\":\")\n",
    "    model = utils.My_model(dataset,False)\n",
    "    model.compile_model()\n",
    "    models_se.append(model)"
   ]
  },
  {
   "cell_type": "code",
   "execution_count": 111,
   "id": "f66277ed",
   "metadata": {},
   "outputs": [
    {
     "name": "stdout",
     "output_type": "stream",
     "text": [
      "0\n",
      "Epoch 1/10\n",
      "44/44 [==============================] - 12s 224ms/step - loss: 1.8133 - accuracy: 0.3810 - val_loss: 0.6419 - val_accuracy: 0.7885\n",
      "Epoch 2/10\n",
      "44/44 [==============================] - 10s 226ms/step - loss: 0.9365 - accuracy: 0.6923 - val_loss: 0.3556 - val_accuracy: 0.8906\n",
      "Epoch 3/10\n",
      "44/44 [==============================] - 10s 234ms/step - loss: 0.7260 - accuracy: 0.7486 - val_loss: 0.3263 - val_accuracy: 0.8963\n",
      "Epoch 4/10\n",
      "44/44 [==============================] - 11s 246ms/step - loss: 0.5748 - accuracy: 0.8025 - val_loss: 0.4550 - val_accuracy: 0.8573\n",
      "Epoch 5/10\n",
      "44/44 [==============================] - 11s 243ms/step - loss: 0.4869 - accuracy: 0.8347 - val_loss: 0.2375 - val_accuracy: 0.9262\n",
      "Epoch 6/10\n",
      "44/44 [==============================] - 11s 242ms/step - loss: 0.3910 - accuracy: 0.8557 - val_loss: 0.2197 - val_accuracy: 0.9291\n",
      "Epoch 7/10\n",
      "44/44 [==============================] - 11s 242ms/step - loss: 0.3532 - accuracy: 0.8796 - val_loss: 0.2088 - val_accuracy: 0.9327\n",
      "Epoch 8/10\n",
      "44/44 [==============================] - 10s 241ms/step - loss: 0.2814 - accuracy: 0.9084 - val_loss: 0.1913 - val_accuracy: 0.9374\n",
      "Epoch 9/10\n",
      "44/44 [==============================] - 10s 241ms/step - loss: 0.2425 - accuracy: 0.9076 - val_loss: 0.2144 - val_accuracy: 0.9324\n",
      "Epoch 10/10\n",
      "44/44 [==============================] - 11s 242ms/step - loss: 0.2004 - accuracy: 0.9331 - val_loss: 0.2045 - val_accuracy: 0.9341\n",
      "Duration: 0:01:45.976748\n"
     ]
    }
   ],
   "source": [
    "n=0\n",
    "print(n)\n",
    "models_se[n].fit_model(image_sets_se[n],label_sets_se[n],x_val,y_val,epochs=10,batch_size = 64)\n",
    "n = n+1"
   ]
  },
  {
   "cell_type": "code",
   "execution_count": 112,
   "id": "5bb251b4",
   "metadata": {},
   "outputs": [
    {
     "name": "stdout",
     "output_type": "stream",
     "text": [
      "1\n",
      "Epoch 1/10\n",
      "88/88 [==============================] - 18s 178ms/step - loss: 1.7682 - accuracy: 0.4089 - val_loss: 0.3689 - val_accuracy: 0.8992\n",
      "Epoch 2/10\n",
      "88/88 [==============================] - 16s 179ms/step - loss: 0.7676 - accuracy: 0.7454 - val_loss: 0.2125 - val_accuracy: 0.9396\n",
      "Epoch 3/10\n",
      "88/88 [==============================] - 16s 181ms/step - loss: 0.5931 - accuracy: 0.8035 - val_loss: 0.1353 - val_accuracy: 0.9609\n",
      "Epoch 4/10\n",
      "88/88 [==============================] - 16s 180ms/step - loss: 0.4608 - accuracy: 0.8451 - val_loss: 0.1164 - val_accuracy: 0.9634\n",
      "Epoch 5/10\n",
      "88/88 [==============================] - 16s 178ms/step - loss: 0.3659 - accuracy: 0.8717 - val_loss: 0.0975 - val_accuracy: 0.9688\n",
      "Epoch 6/10\n",
      "88/88 [==============================] - 16s 180ms/step - loss: 0.3139 - accuracy: 0.8936 - val_loss: 0.0794 - val_accuracy: 0.9741\n",
      "Epoch 7/10\n",
      "88/88 [==============================] - 16s 179ms/step - loss: 0.2697 - accuracy: 0.9074 - val_loss: 0.0753 - val_accuracy: 0.9770\n",
      "Epoch 8/10\n",
      "88/88 [==============================] - 16s 179ms/step - loss: 0.2199 - accuracy: 0.9271 - val_loss: 0.0840 - val_accuracy: 0.9724\n",
      "Epoch 9/10\n",
      "88/88 [==============================] - 16s 179ms/step - loss: 0.2035 - accuracy: 0.9360 - val_loss: 0.0872 - val_accuracy: 0.9721\n",
      "Epoch 10/10\n",
      "88/88 [==============================] - 16s 179ms/step - loss: 0.1919 - accuracy: 0.9384 - val_loss: 0.0731 - val_accuracy: 0.9765\n",
      "Duration: 0:02:39.685244\n"
     ]
    }
   ],
   "source": [
    "print(n)\n",
    "models_se[n].fit_model(image_sets_se[n],label_sets_se[n],x_val,y_val,epochs=10,batch_size = 64)\n",
    "n = n+1"
   ]
  },
  {
   "cell_type": "code",
   "execution_count": 113,
   "id": "b3b84fa2",
   "metadata": {},
   "outputs": [
    {
     "name": "stdout",
     "output_type": "stream",
     "text": [
      "2\n",
      "Epoch 1/10\n",
      "132/132 [==============================] - 23s 157ms/step - loss: 1.4349 - accuracy: 0.5216 - val_loss: 0.2163 - val_accuracy: 0.9556\n",
      "Epoch 2/10\n",
      "132/132 [==============================] - 21s 157ms/step - loss: 0.5885 - accuracy: 0.8072 - val_loss: 0.1416 - val_accuracy: 0.9561\n",
      "Epoch 3/10\n",
      "132/132 [==============================] - 21s 157ms/step - loss: 0.4289 - accuracy: 0.8552 - val_loss: 0.0882 - val_accuracy: 0.9736\n",
      "Epoch 4/10\n",
      "132/132 [==============================] - 21s 157ms/step - loss: 0.3355 - accuracy: 0.8871 - val_loss: 0.0743 - val_accuracy: 0.9764\n",
      "Epoch 5/10\n",
      "132/132 [==============================] - 21s 157ms/step - loss: 0.2515 - accuracy: 0.9148 - val_loss: 0.0601 - val_accuracy: 0.9801\n",
      "Epoch 6/10\n",
      "132/132 [==============================] - 21s 157ms/step - loss: 0.2217 - accuracy: 0.9292 - val_loss: 0.0531 - val_accuracy: 0.9843\n",
      "Epoch 7/10\n",
      "132/132 [==============================] - 21s 162ms/step - loss: 0.1871 - accuracy: 0.9377 - val_loss: 0.0473 - val_accuracy: 0.9842\n",
      "Epoch 8/10\n",
      "132/132 [==============================] - 20s 152ms/step - loss: 0.1728 - accuracy: 0.9454 - val_loss: 0.0528 - val_accuracy: 0.9829\n",
      "Epoch 9/10\n",
      "132/132 [==============================] - 20s 149ms/step - loss: 0.1478 - accuracy: 0.9515 - val_loss: 0.0454 - val_accuracy: 0.9861\n",
      "Epoch 10/10\n",
      "132/132 [==============================] - 20s 150ms/step - loss: 0.1355 - accuracy: 0.9565 - val_loss: 0.0451 - val_accuracy: 0.9861\n",
      "Duration: 0:03:27.513460\n"
     ]
    }
   ],
   "source": [
    "print(n)\n",
    "models_se[n].fit_model(image_sets_se[n],label_sets_se[n],x_val,y_val,epochs=10,batch_size = 64)\n",
    "n = n+1"
   ]
  },
  {
   "cell_type": "code",
   "execution_count": 114,
   "id": "2dd3cc7c",
   "metadata": {},
   "outputs": [
    {
     "name": "stdout",
     "output_type": "stream",
     "text": [
      "3\n",
      "Epoch 1/10\n",
      "175/175 [==============================] - 28s 144ms/step - loss: 1.2047 - accuracy: 0.5922 - val_loss: 0.1547 - val_accuracy: 0.9570\n",
      "Epoch 2/10\n",
      "175/175 [==============================] - 25s 142ms/step - loss: 0.4231 - accuracy: 0.8608 - val_loss: 0.0843 - val_accuracy: 0.9746\n",
      "Epoch 3/10\n",
      "175/175 [==============================] - 25s 141ms/step - loss: 0.2931 - accuracy: 0.9032 - val_loss: 0.0667 - val_accuracy: 0.9809\n",
      "Epoch 4/10\n",
      "175/175 [==============================] - 25s 142ms/step - loss: 0.2215 - accuracy: 0.9268 - val_loss: 0.0574 - val_accuracy: 0.9822\n",
      "Epoch 5/10\n",
      "175/175 [==============================] - 25s 141ms/step - loss: 0.1895 - accuracy: 0.9378 - val_loss: 0.0452 - val_accuracy: 0.9863\n",
      "Epoch 6/10\n",
      "175/175 [==============================] - 25s 141ms/step - loss: 0.1677 - accuracy: 0.9462 - val_loss: 0.0437 - val_accuracy: 0.9859\n",
      "Epoch 7/10\n",
      "175/175 [==============================] - 25s 141ms/step - loss: 0.1344 - accuracy: 0.9562 - val_loss: 0.0437 - val_accuracy: 0.9862\n",
      "Epoch 8/10\n",
      "175/175 [==============================] - 25s 141ms/step - loss: 0.1265 - accuracy: 0.9594 - val_loss: 0.0432 - val_accuracy: 0.9861\n",
      "Epoch 9/10\n",
      "175/175 [==============================] - 25s 141ms/step - loss: 0.1079 - accuracy: 0.9630 - val_loss: 0.0465 - val_accuracy: 0.9852\n",
      "Epoch 10/10\n",
      "175/175 [==============================] - 25s 141ms/step - loss: 0.0998 - accuracy: 0.9679 - val_loss: 0.0450 - val_accuracy: 0.9867\n",
      "Duration: 0:04:09.819660\n"
     ]
    }
   ],
   "source": [
    "print(n)\n",
    "models_se[n].fit_model(image_sets_se[n],label_sets_se[n],x_val,y_val,epochs=10,batch_size = 64)\n",
    "n = n+1"
   ]
  },
  {
   "cell_type": "code",
   "execution_count": 115,
   "id": "e151e755",
   "metadata": {},
   "outputs": [
    {
     "name": "stdout",
     "output_type": "stream",
     "text": [
      "4\n",
      "Epoch 1/10\n",
      "219/219 [==============================] - 34s 141ms/step - loss: 1.1507 - accuracy: 0.6198 - val_loss: 0.1226 - val_accuracy: 0.9706\n",
      "Epoch 2/10\n",
      "219/219 [==============================] - 32s 145ms/step - loss: 0.3956 - accuracy: 0.8754 - val_loss: 0.0779 - val_accuracy: 0.9765\n",
      "Epoch 3/10\n",
      "219/219 [==============================] - 32s 144ms/step - loss: 0.2725 - accuracy: 0.9126 - val_loss: 0.0579 - val_accuracy: 0.9816\n",
      "Epoch 4/10\n",
      "219/219 [==============================] - 31s 141ms/step - loss: 0.2135 - accuracy: 0.9304 - val_loss: 0.0481 - val_accuracy: 0.9845\n",
      "Epoch 5/10\n",
      "219/219 [==============================] - 31s 141ms/step - loss: 0.1760 - accuracy: 0.9455 - val_loss: 0.0522 - val_accuracy: 0.9844\n",
      "Epoch 6/10\n",
      "219/219 [==============================] - 31s 140ms/step - loss: 0.1530 - accuracy: 0.9531 - val_loss: 0.0474 - val_accuracy: 0.9853\n",
      "Epoch 7/10\n",
      "219/219 [==============================] - 31s 140ms/step - loss: 0.1325 - accuracy: 0.9586 - val_loss: 0.0372 - val_accuracy: 0.9884\n",
      "Epoch 8/10\n",
      "219/219 [==============================] - 31s 141ms/step - loss: 0.1205 - accuracy: 0.9618 - val_loss: 0.0393 - val_accuracy: 0.9874\n",
      "Epoch 9/10\n",
      "219/219 [==============================] - 31s 141ms/step - loss: 0.1109 - accuracy: 0.9626 - val_loss: 0.0400 - val_accuracy: 0.9869\n",
      "Epoch 10/10\n",
      "219/219 [==============================] - 31s 140ms/step - loss: 0.0999 - accuracy: 0.9661 - val_loss: 0.0518 - val_accuracy: 0.9840\n",
      "Duration: 0:05:12.112219\n"
     ]
    }
   ],
   "source": [
    "print(n)#\n",
    "models_se[n].fit_model(image_sets_se[n],label_sets_se[n],x_val,y_val,epochs=10,batch_size = 64)\n",
    "n = n+1"
   ]
  },
  {
   "cell_type": "code",
   "execution_count": 116,
   "id": "976d21de",
   "metadata": {},
   "outputs": [
    {
     "name": "stdout",
     "output_type": "stream",
     "text": [
      "5\n",
      "Epoch 1/10\n",
      "263/263 [==============================] - 38s 136ms/step - loss: 0.9863 - accuracy: 0.6794 - val_loss: 0.1022 - val_accuracy: 0.9704\n",
      "Epoch 2/10\n",
      "263/263 [==============================] - 35s 134ms/step - loss: 0.3056 - accuracy: 0.8986 - val_loss: 0.0691 - val_accuracy: 0.9786\n",
      "Epoch 3/10\n",
      "263/263 [==============================] - 35s 135ms/step - loss: 0.2077 - accuracy: 0.9340 - val_loss: 0.0464 - val_accuracy: 0.9857\n",
      "Epoch 4/10\n",
      "263/263 [==============================] - 35s 134ms/step - loss: 0.1617 - accuracy: 0.9500 - val_loss: 0.0441 - val_accuracy: 0.9861\n",
      "Epoch 5/10\n",
      "263/263 [==============================] - 35s 134ms/step - loss: 0.1288 - accuracy: 0.9605 - val_loss: 0.0572 - val_accuracy: 0.9824\n",
      "Epoch 6/10\n",
      "263/263 [==============================] - 35s 134ms/step - loss: 0.1169 - accuracy: 0.9616 - val_loss: 0.0432 - val_accuracy: 0.9871\n",
      "Epoch 7/10\n",
      "263/263 [==============================] - 35s 134ms/step - loss: 0.1030 - accuracy: 0.9699 - val_loss: 0.0371 - val_accuracy: 0.9881\n",
      "Epoch 8/10\n",
      "263/263 [==============================] - 35s 134ms/step - loss: 0.0886 - accuracy: 0.9716 - val_loss: 0.0383 - val_accuracy: 0.9880\n",
      "Epoch 9/10\n",
      "263/263 [==============================] - 35s 135ms/step - loss: 0.0883 - accuracy: 0.9724 - val_loss: 0.0398 - val_accuracy: 0.9872\n",
      "Epoch 10/10\n",
      "263/263 [==============================] - 35s 134ms/step - loss: 0.0892 - accuracy: 0.9717 - val_loss: 0.0434 - val_accuracy: 0.9864\n",
      "Duration: 0:05:55.703005\n"
     ]
    }
   ],
   "source": [
    "print(n)\n",
    "models_se[n].fit_model(image_sets_se[n],label_sets_se[n],x_val,y_val,epochs=10,batch_size = 64)\n",
    "n = n+1"
   ]
  },
  {
   "cell_type": "code",
   "execution_count": 117,
   "id": "86546a95",
   "metadata": {},
   "outputs": [
    {
     "name": "stdout",
     "output_type": "stream",
     "text": [
      "6\n",
      "Epoch 1/10\n",
      "307/307 [==============================] - 44s 134ms/step - loss: 0.8821 - accuracy: 0.7077 - val_loss: 0.1004 - val_accuracy: 0.9704\n",
      "Epoch 2/10\n",
      "307/307 [==============================] - 41s 133ms/step - loss: 0.2504 - accuracy: 0.9189 - val_loss: 0.0583 - val_accuracy: 0.9813\n",
      "Epoch 3/10\n",
      "307/307 [==============================] - 41s 132ms/step - loss: 0.1799 - accuracy: 0.9428 - val_loss: 0.0574 - val_accuracy: 0.9812\n",
      "Epoch 4/10\n",
      "307/307 [==============================] - 41s 135ms/step - loss: 0.1465 - accuracy: 0.9548 - val_loss: 0.0461 - val_accuracy: 0.9855\n",
      "Epoch 5/10\n",
      "307/307 [==============================] - 41s 132ms/step - loss: 0.1145 - accuracy: 0.9643 - val_loss: 0.0653 - val_accuracy: 0.9803\n",
      "Epoch 6/10\n",
      "307/307 [==============================] - 41s 132ms/step - loss: 0.1089 - accuracy: 0.9654 - val_loss: 0.0458 - val_accuracy: 0.9853\n",
      "Epoch 7/10\n",
      "307/307 [==============================] - 41s 132ms/step - loss: 0.0947 - accuracy: 0.9710 - val_loss: 0.0374 - val_accuracy: 0.9881\n",
      "Epoch 8/10\n",
      "307/307 [==============================] - 46s 150ms/step - loss: 0.0881 - accuracy: 0.9730 - val_loss: 0.0420 - val_accuracy: 0.9875\n",
      "Epoch 9/10\n",
      "307/307 [==============================] - 41s 132ms/step - loss: 0.0941 - accuracy: 0.9717 - val_loss: 0.0409 - val_accuracy: 0.9874\n",
      "Epoch 10/10\n",
      "307/307 [==============================] - 41s 133ms/step - loss: 0.0878 - accuracy: 0.9749 - val_loss: 0.0470 - val_accuracy: 0.9865\n",
      "Duration: 0:06:55.542874\n"
     ]
    }
   ],
   "source": [
    "print(n)\n",
    "models_se[n].fit_model(image_sets_se[n],label_sets_se[n],x_val,y_val,epochs=10,batch_size = 64)\n",
    "n = n+1"
   ]
  },
  {
   "cell_type": "code",
   "execution_count": 118,
   "id": "01855707",
   "metadata": {},
   "outputs": [
    {
     "name": "stdout",
     "output_type": "stream",
     "text": [
      "7\n",
      "Epoch 1/10\n",
      "350/350 [==============================] - 48s 131ms/step - loss: 0.8084 - accuracy: 0.7412 - val_loss: 0.0765 - val_accuracy: 0.9781\n",
      "Epoch 2/10\n",
      "350/350 [==============================] - 45s 130ms/step - loss: 0.2199 - accuracy: 0.9298 - val_loss: 0.0530 - val_accuracy: 0.9838\n",
      "Epoch 3/10\n",
      "350/350 [==============================] - 45s 130ms/step - loss: 0.1537 - accuracy: 0.9515 - val_loss: 0.0521 - val_accuracy: 0.9838\n",
      "Epoch 4/10\n",
      "350/350 [==============================] - 48s 136ms/step - loss: 0.1204 - accuracy: 0.9629 - val_loss: 0.0445 - val_accuracy: 0.9858\n",
      "Epoch 5/10\n",
      "350/350 [==============================] - 46s 132ms/step - loss: 0.0993 - accuracy: 0.9699 - val_loss: 0.0436 - val_accuracy: 0.9859\n",
      "Epoch 6/10\n",
      "350/350 [==============================] - 46s 132ms/step - loss: 0.0866 - accuracy: 0.9729 - val_loss: 0.0398 - val_accuracy: 0.9881\n",
      "Epoch 7/10\n",
      "350/350 [==============================] - 47s 134ms/step - loss: 0.0797 - accuracy: 0.9763 - val_loss: 0.0399 - val_accuracy: 0.9886\n",
      "Epoch 8/10\n",
      "350/350 [==============================] - 46s 131ms/step - loss: 0.0781 - accuracy: 0.9764 - val_loss: 0.0393 - val_accuracy: 0.9878\n",
      "Epoch 9/10\n",
      "350/350 [==============================] - 46s 131ms/step - loss: 0.0819 - accuracy: 0.9767 - val_loss: 0.0498 - val_accuracy: 0.9865\n",
      "Epoch 10/10\n",
      "350/350 [==============================] - 46s 131ms/step - loss: 0.0787 - accuracy: 0.9769 - val_loss: 0.0532 - val_accuracy: 0.9867\n",
      "Duration: 0:07:43.781781\n"
     ]
    }
   ],
   "source": [
    "print(n)\n",
    "models_se[n].fit_model(image_sets_se[n],label_sets_se[n],x_val,y_val,epochs=10,batch_size = 64)\n",
    "n = n+1"
   ]
  },
  {
   "cell_type": "code",
   "execution_count": 119,
   "id": "4e8db845",
   "metadata": {},
   "outputs": [
    {
     "name": "stdout",
     "output_type": "stream",
     "text": [
      "8\n",
      "Epoch 1/10\n",
      "394/394 [==============================] - 56s 135ms/step - loss: 0.7415 - accuracy: 0.7686 - val_loss: 0.0712 - val_accuracy: 0.9791\n",
      "Epoch 2/10\n",
      "394/394 [==============================] - 52s 131ms/step - loss: 0.1968 - accuracy: 0.9381 - val_loss: 0.0551 - val_accuracy: 0.9827\n",
      "Epoch 3/10\n",
      "394/394 [==============================] - 52s 132ms/step - loss: 0.1488 - accuracy: 0.9559 - val_loss: 0.0445 - val_accuracy: 0.9866\n",
      "Epoch 4/10\n",
      "394/394 [==============================] - 52s 132ms/step - loss: 0.1139 - accuracy: 0.9656 - val_loss: 0.0468 - val_accuracy: 0.9854\n",
      "Epoch 5/10\n",
      "394/394 [==============================] - 54s 137ms/step - loss: 0.0982 - accuracy: 0.9701 - val_loss: 0.0431 - val_accuracy: 0.9864\n",
      "Epoch 6/10\n",
      "394/394 [==============================] - 55s 139ms/step - loss: 0.0865 - accuracy: 0.9737 - val_loss: 0.0418 - val_accuracy: 0.9877\n",
      "Epoch 7/10\n",
      "394/394 [==============================] - 55s 139ms/step - loss: 0.0847 - accuracy: 0.9762 - val_loss: 0.0386 - val_accuracy: 0.9881\n",
      "Epoch 8/10\n",
      "394/394 [==============================] - 53s 135ms/step - loss: 0.0822 - accuracy: 0.9760 - val_loss: 0.0382 - val_accuracy: 0.9891\n",
      "Epoch 9/10\n",
      "394/394 [==============================] - 51s 128ms/step - loss: 0.0860 - accuracy: 0.9756 - val_loss: 0.0412 - val_accuracy: 0.9882\n",
      "Epoch 10/10\n",
      "394/394 [==============================] - 51s 128ms/step - loss: 0.0914 - accuracy: 0.9755 - val_loss: 0.0429 - val_accuracy: 0.9884\n",
      "Duration: 0:08:48.827706\n"
     ]
    }
   ],
   "source": [
    "print(n)\n",
    "models_se[n].fit_model(image_sets_se[n],label_sets_se[n],x_val,y_val,epochs=10,batch_size = 64)\n",
    "n = n+1"
   ]
  },
  {
   "cell_type": "code",
   "execution_count": 120,
   "id": "9e26b00b",
   "metadata": {},
   "outputs": [
    {
     "name": "stdout",
     "output_type": "stream",
     "text": [
      "9\n",
      "Epoch 1/10\n",
      "438/438 [==============================] - 57s 125ms/step - loss: 0.6707 - accuracy: 0.7875 - val_loss: 0.0719 - val_accuracy: 0.9774\n",
      "Epoch 2/10\n",
      "438/438 [==============================] - 55s 125ms/step - loss: 0.1795 - accuracy: 0.9453 - val_loss: 0.0495 - val_accuracy: 0.9847\n",
      "Epoch 3/10\n",
      "438/438 [==============================] - 55s 125ms/step - loss: 0.1265 - accuracy: 0.9624 - val_loss: 0.0439 - val_accuracy: 0.9859\n",
      "Epoch 4/10\n",
      "438/438 [==============================] - 55s 125ms/step - loss: 0.1123 - accuracy: 0.9666 - val_loss: 0.0407 - val_accuracy: 0.9874\n",
      "Epoch 5/10\n",
      "438/438 [==============================] - 55s 125ms/step - loss: 0.0914 - accuracy: 0.9735 - val_loss: 0.0396 - val_accuracy: 0.9879\n",
      "Epoch 6/10\n",
      "438/438 [==============================] - 54s 124ms/step - loss: 0.0843 - accuracy: 0.9752 - val_loss: 0.0459 - val_accuracy: 0.9866\n",
      "Epoch 7/10\n",
      "438/438 [==============================] - 55s 125ms/step - loss: 0.0913 - accuracy: 0.9739 - val_loss: 0.0401 - val_accuracy: 0.9886\n",
      "Epoch 8/10\n",
      "438/438 [==============================] - 54s 124ms/step - loss: 0.0930 - accuracy: 0.9742 - val_loss: 0.0499 - val_accuracy: 0.9869\n",
      "Epoch 9/10\n",
      "438/438 [==============================] - 55s 126ms/step - loss: 0.0879 - accuracy: 0.9765 - val_loss: 0.0487 - val_accuracy: 0.9865\n",
      "Epoch 10/10\n",
      "438/438 [==============================] - 57s 130ms/step - loss: 0.0904 - accuracy: 0.9743 - val_loss: 0.0491 - val_accuracy: 0.9854\n",
      "Duration: 0:09:10.920956\n"
     ]
    }
   ],
   "source": [
    "print(n)#\n",
    "models_se[n].fit_model(image_sets_se[n],label_sets_se[n],x_val,y_val,epochs=10,batch_size = 64)\n",
    "n = n+1"
   ]
  },
  {
   "cell_type": "code",
   "execution_count": 121,
   "id": "20c681f3",
   "metadata": {},
   "outputs": [
    {
     "name": "stdout",
     "output_type": "stream",
     "text": [
      "10\n",
      "Epoch 1/10\n",
      "482/482 [==============================] - 64s 128ms/step - loss: 0.6224 - accuracy: 0.7989 - val_loss: 0.0741 - val_accuracy: 0.9769\n",
      "Epoch 2/10\n",
      "482/482 [==============================] - 61s 127ms/step - loss: 0.1560 - accuracy: 0.9512 - val_loss: 0.0497 - val_accuracy: 0.9836\n",
      "Epoch 3/10\n",
      "482/482 [==============================] - 61s 127ms/step - loss: 0.1153 - accuracy: 0.9666 - val_loss: 0.0459 - val_accuracy: 0.9851\n",
      "Epoch 4/10\n",
      "482/482 [==============================] - 61s 127ms/step - loss: 0.0983 - accuracy: 0.9707 - val_loss: 0.0470 - val_accuracy: 0.9851\n",
      "Epoch 5/10\n",
      "482/482 [==============================] - 62s 128ms/step - loss: 0.0958 - accuracy: 0.9724 - val_loss: 0.0421 - val_accuracy: 0.9879\n",
      "Epoch 6/10\n",
      "482/482 [==============================] - 61s 127ms/step - loss: 0.0798 - accuracy: 0.9756 - val_loss: 0.0403 - val_accuracy: 0.9881\n",
      "Epoch 7/10\n",
      "482/482 [==============================] - 61s 127ms/step - loss: 0.0789 - accuracy: 0.9768 - val_loss: 0.0524 - val_accuracy: 0.9871\n",
      "Epoch 8/10\n",
      "482/482 [==============================] - 61s 127ms/step - loss: 0.0808 - accuracy: 0.9762 - val_loss: 0.0428 - val_accuracy: 0.9876\n",
      "Epoch 9/10\n",
      "482/482 [==============================] - 61s 127ms/step - loss: 0.0855 - accuracy: 0.9747 - val_loss: 0.0470 - val_accuracy: 0.9867\n",
      "Epoch 10/10\n",
      "482/482 [==============================] - 61s 127ms/step - loss: 0.0870 - accuracy: 0.9752 - val_loss: 0.0396 - val_accuracy: 0.9875\n",
      "Duration: 0:10:15.702213\n"
     ]
    }
   ],
   "source": [
    "print(n)\n",
    "models_se[n].fit_model(image_sets_se[n],label_sets_se[n],x_val,y_val,epochs=10,batch_size = 64)\n",
    "n = n+1"
   ]
  },
  {
   "cell_type": "code",
   "execution_count": 122,
   "id": "363f1a8e",
   "metadata": {},
   "outputs": [
    {
     "name": "stdout",
     "output_type": "stream",
     "text": [
      "11\n",
      "Epoch 1/10\n",
      "525/525 [==============================] - 69s 126ms/step - loss: 0.6225 - accuracy: 0.8018 - val_loss: 0.0732 - val_accuracy: 0.9769\n",
      "Epoch 2/10\n",
      "525/525 [==============================] - 66s 125ms/step - loss: 0.1568 - accuracy: 0.9512 - val_loss: 0.0584 - val_accuracy: 0.9822\n",
      "Epoch 3/10\n",
      "525/525 [==============================] - 66s 125ms/step - loss: 0.1169 - accuracy: 0.9653 - val_loss: 0.0418 - val_accuracy: 0.9868\n",
      "Epoch 4/10\n",
      "525/525 [==============================] - 66s 125ms/step - loss: 0.0922 - accuracy: 0.9720 - val_loss: 0.0430 - val_accuracy: 0.9864\n",
      "Epoch 5/10\n",
      "525/525 [==============================] - 66s 125ms/step - loss: 0.0793 - accuracy: 0.9756 - val_loss: 0.0410 - val_accuracy: 0.9870\n",
      "Epoch 6/10\n",
      "525/525 [==============================] - 65s 125ms/step - loss: 0.0832 - accuracy: 0.9771 - val_loss: 0.0422 - val_accuracy: 0.9881\n",
      "Epoch 7/10\n",
      "525/525 [==============================] - 66s 125ms/step - loss: 0.0780 - accuracy: 0.9776 - val_loss: 0.0433 - val_accuracy: 0.9880\n",
      "Epoch 8/10\n",
      "525/525 [==============================] - 66s 125ms/step - loss: 0.0824 - accuracy: 0.9755 - val_loss: 0.0554 - val_accuracy: 0.9855\n",
      "Epoch 9/10\n",
      "525/525 [==============================] - 65s 125ms/step - loss: 0.0800 - accuracy: 0.9768 - val_loss: 0.0420 - val_accuracy: 0.9876\n",
      "Epoch 10/10\n",
      "525/525 [==============================] - 66s 125ms/step - loss: 0.0817 - accuracy: 0.9771 - val_loss: 0.0412 - val_accuracy: 0.9878\n",
      "Duration: 0:10:59.100222\n"
     ]
    }
   ],
   "source": [
    "print(n)\n",
    "models_se[n].fit_model(image_sets_se[n],label_sets_se[n],x_val,y_val,epochs=10,batch_size = 64)\n",
    "n = n+1"
   ]
  },
  {
   "cell_type": "code",
   "execution_count": 123,
   "id": "49e2515c",
   "metadata": {},
   "outputs": [
    {
     "name": "stdout",
     "output_type": "stream",
     "text": [
      "12\n",
      "Epoch 1/10\n",
      "569/569 [==============================] - 76s 129ms/step - loss: 0.5518 - accuracy: 0.8255 - val_loss: 0.0641 - val_accuracy: 0.9801\n",
      "Epoch 2/10\n",
      "569/569 [==============================] - 71s 126ms/step - loss: 0.1341 - accuracy: 0.9618 - val_loss: 0.0598 - val_accuracy: 0.9810\n",
      "Epoch 3/10\n",
      "569/569 [==============================] - 72s 126ms/step - loss: 0.1014 - accuracy: 0.9703 - val_loss: 0.0444 - val_accuracy: 0.9862\n",
      "Epoch 4/10\n",
      "569/569 [==============================] - 72s 126ms/step - loss: 0.0804 - accuracy: 0.9761 - val_loss: 0.0442 - val_accuracy: 0.9866\n",
      "Epoch 5/10\n",
      "569/569 [==============================] - 72s 126ms/step - loss: 0.0718 - accuracy: 0.9794 - val_loss: 0.0455 - val_accuracy: 0.9867\n",
      "Epoch 6/10\n",
      "569/569 [==============================] - 72s 126ms/step - loss: 0.0601 - accuracy: 0.9812 - val_loss: 0.0412 - val_accuracy: 0.9892\n",
      "Epoch 7/10\n",
      "569/569 [==============================] - 71s 126ms/step - loss: 0.0645 - accuracy: 0.9801 - val_loss: 0.0438 - val_accuracy: 0.9874\n",
      "Epoch 8/10\n",
      "569/569 [==============================] - 72s 126ms/step - loss: 0.0678 - accuracy: 0.9804 - val_loss: 0.0462 - val_accuracy: 0.9876\n",
      "Epoch 9/10\n",
      "569/569 [==============================] - 71s 126ms/step - loss: 0.0659 - accuracy: 0.9811 - val_loss: 0.0455 - val_accuracy: 0.9883\n",
      "Epoch 10/10\n",
      "569/569 [==============================] - 72s 126ms/step - loss: 0.0735 - accuracy: 0.9802 - val_loss: 0.0433 - val_accuracy: 0.9879\n",
      "Duration: 0:12:00.879605\n"
     ]
    }
   ],
   "source": [
    "print(n)\n",
    "models_se[n].fit_model(image_sets_se[n],label_sets_se[n],x_val,y_val,epochs=10,batch_size = 64)\n",
    "n = n+1"
   ]
  },
  {
   "cell_type": "code",
   "execution_count": 124,
   "id": "8144888f",
   "metadata": {},
   "outputs": [
    {
     "name": "stdout",
     "output_type": "stream",
     "text": [
      "13\n",
      "Epoch 1/10\n",
      "613/613 [==============================] - 79s 126ms/step - loss: 0.5346 - accuracy: 0.8275 - val_loss: 0.0699 - val_accuracy: 0.9794\n",
      "Epoch 2/10\n",
      "613/613 [==============================] - 77s 126ms/step - loss: 0.1281 - accuracy: 0.9615 - val_loss: 0.0819 - val_accuracy: 0.9746\n",
      "Epoch 3/10\n",
      "613/613 [==============================] - 77s 125ms/step - loss: 0.1030 - accuracy: 0.9693 - val_loss: 0.0519 - val_accuracy: 0.9849\n",
      "Epoch 4/10\n",
      "613/613 [==============================] - 77s 125ms/step - loss: 0.0843 - accuracy: 0.9747 - val_loss: 0.0462 - val_accuracy: 0.9867\n",
      "Epoch 5/10\n",
      "613/613 [==============================] - 77s 125ms/step - loss: 0.0695 - accuracy: 0.9805 - val_loss: 0.0445 - val_accuracy: 0.9872\n",
      "Epoch 6/10\n",
      "613/613 [==============================] - 77s 125ms/step - loss: 0.0652 - accuracy: 0.9812 - val_loss: 0.0506 - val_accuracy: 0.9868\n",
      "Epoch 7/10\n",
      "613/613 [==============================] - 77s 125ms/step - loss: 0.0770 - accuracy: 0.9802 - val_loss: 0.0523 - val_accuracy: 0.9861\n",
      "Epoch 8/10\n",
      "613/613 [==============================] - 77s 125ms/step - loss: 0.0778 - accuracy: 0.9807 - val_loss: 0.0499 - val_accuracy: 0.9874\n",
      "Epoch 9/10\n",
      "613/613 [==============================] - 77s 125ms/step - loss: 0.0733 - accuracy: 0.9810 - val_loss: 0.0471 - val_accuracy: 0.9875\n",
      "Epoch 10/10\n",
      "613/613 [==============================] - 77s 125ms/step - loss: 0.0797 - accuracy: 0.9797 - val_loss: 0.0488 - val_accuracy: 0.9874\n",
      "Duration: 0:12:50.225966\n"
     ]
    }
   ],
   "source": [
    "print(n)\n",
    "models_se[n].fit_model(image_sets_se[n],label_sets_se[n],x_val,y_val,epochs=10,batch_size = 64)\n",
    "n = n+1"
   ]
  },
  {
   "cell_type": "code",
   "execution_count": 125,
   "id": "c9ba5f63",
   "metadata": {},
   "outputs": [
    {
     "name": "stdout",
     "output_type": "stream",
     "text": [
      "14\n",
      "Epoch 1/10\n",
      "657/657 [==============================] - 85s 125ms/step - loss: 0.4754 - accuracy: 0.8488 - val_loss: 0.0620 - val_accuracy: 0.9795\n",
      "Epoch 2/10\n",
      "657/657 [==============================] - 82s 124ms/step - loss: 0.1085 - accuracy: 0.9668 - val_loss: 0.0481 - val_accuracy: 0.9836\n",
      "Epoch 3/10\n",
      "657/657 [==============================] - 82s 124ms/step - loss: 0.0837 - accuracy: 0.9757 - val_loss: 0.0482 - val_accuracy: 0.9849\n",
      "Epoch 4/10\n",
      "657/657 [==============================] - 81s 124ms/step - loss: 0.0731 - accuracy: 0.9798 - val_loss: 0.0416 - val_accuracy: 0.9869\n",
      "Epoch 5/10\n",
      "657/657 [==============================] - 82s 124ms/step - loss: 0.0634 - accuracy: 0.9810 - val_loss: 0.0556 - val_accuracy: 0.9837\n",
      "Epoch 6/10\n",
      "657/657 [==============================] - 81s 124ms/step - loss: 0.0687 - accuracy: 0.9817 - val_loss: 0.0459 - val_accuracy: 0.9861\n",
      "Epoch 7/10\n",
      "657/657 [==============================] - 82s 124ms/step - loss: 0.0663 - accuracy: 0.9827 - val_loss: 0.0505 - val_accuracy: 0.9872\n",
      "Epoch 8/10\n",
      "657/657 [==============================] - 82s 124ms/step - loss: 0.0699 - accuracy: 0.9818 - val_loss: 0.0548 - val_accuracy: 0.9859\n",
      "Epoch 9/10\n",
      "657/657 [==============================] - 81s 124ms/step - loss: 0.0767 - accuracy: 0.9806 - val_loss: 0.0492 - val_accuracy: 0.9869\n",
      "Epoch 10/10\n",
      "657/657 [==============================] - 81s 124ms/step - loss: 0.0764 - accuracy: 0.9807 - val_loss: 0.0572 - val_accuracy: 0.9863\n",
      "Duration: 0:13:38.522442\n"
     ]
    }
   ],
   "source": [
    "print(n)#\n",
    "models_se[n].fit_model(image_sets_se[n],label_sets_se[n],x_val,y_val,epochs=10,batch_size = 64)\n",
    "n = n+1"
   ]
  },
  {
   "cell_type": "code",
   "execution_count": 126,
   "id": "147a3a59",
   "metadata": {},
   "outputs": [
    {
     "name": "stdout",
     "output_type": "stream",
     "text": [
      "15\n",
      "Epoch 1/10\n",
      "700/700 [==============================] - 89s 123ms/step - loss: 0.4497 - accuracy: 0.8554 - val_loss: 0.0630 - val_accuracy: 0.9798\n",
      "Epoch 2/10\n",
      "700/700 [==============================] - 86s 123ms/step - loss: 0.0975 - accuracy: 0.9702 - val_loss: 0.0460 - val_accuracy: 0.9860\n",
      "Epoch 3/10\n",
      "700/700 [==============================] - 86s 123ms/step - loss: 0.0813 - accuracy: 0.9757 - val_loss: 0.0479 - val_accuracy: 0.9859\n",
      "Epoch 4/10\n",
      "700/700 [==============================] - 87s 124ms/step - loss: 0.0662 - accuracy: 0.9798 - val_loss: 0.0466 - val_accuracy: 0.9867\n",
      "Epoch 5/10\n",
      "700/700 [==============================] - 86s 123ms/step - loss: 0.0672 - accuracy: 0.9809 - val_loss: 0.0483 - val_accuracy: 0.9866\n",
      "Epoch 6/10\n",
      "700/700 [==============================] - 86s 123ms/step - loss: 0.0721 - accuracy: 0.9810 - val_loss: 0.0472 - val_accuracy: 0.9852\n",
      "Epoch 7/10\n",
      "700/700 [==============================] - 86s 123ms/step - loss: 0.0740 - accuracy: 0.9801 - val_loss: 0.0456 - val_accuracy: 0.9879\n",
      "Epoch 8/10\n",
      "700/700 [==============================] - 86s 123ms/step - loss: 0.0691 - accuracy: 0.9830 - val_loss: 0.0506 - val_accuracy: 0.9861\n",
      "Epoch 9/10\n",
      "700/700 [==============================] - 86s 123ms/step - loss: 0.0765 - accuracy: 0.9813 - val_loss: 0.0453 - val_accuracy: 0.9873\n",
      "Epoch 10/10\n",
      "700/700 [==============================] - 86s 123ms/step - loss: 0.0781 - accuracy: 0.9793 - val_loss: 0.0469 - val_accuracy: 0.9860\n",
      "Duration: 0:14:24.401566\n"
     ]
    }
   ],
   "source": [
    "print(n)\n",
    "models_se[n].fit_model(image_sets_se[n],label_sets_se[n],x_val,y_val,epochs=10,batch_size = 64)\n",
    "n = n+1"
   ]
  },
  {
   "cell_type": "code",
   "execution_count": 127,
   "id": "2153455d",
   "metadata": {},
   "outputs": [
    {
     "name": "stdout",
     "output_type": "stream",
     "text": [
      "16\n",
      "Epoch 1/10\n",
      "744/744 [==============================] - 95s 124ms/step - loss: 0.4628 - accuracy: 0.8567 - val_loss: 0.0662 - val_accuracy: 0.9789\n",
      "Epoch 2/10\n",
      "744/744 [==============================] - 93s 125ms/step - loss: 0.1020 - accuracy: 0.9704 - val_loss: 0.0517 - val_accuracy: 0.9842\n",
      "Epoch 3/10\n",
      "744/744 [==============================] - 93s 125ms/step - loss: 0.0782 - accuracy: 0.9775 - val_loss: 0.0467 - val_accuracy: 0.9853\n",
      "Epoch 4/10\n",
      "744/744 [==============================] - 93s 125ms/step - loss: 0.0683 - accuracy: 0.9804 - val_loss: 0.0481 - val_accuracy: 0.9859\n",
      "Epoch 5/10\n",
      "744/744 [==============================] - 94s 126ms/step - loss: 0.0681 - accuracy: 0.9808 - val_loss: 0.0543 - val_accuracy: 0.9856\n",
      "Epoch 6/10\n",
      "744/744 [==============================] - 93s 126ms/step - loss: 0.0707 - accuracy: 0.9801 - val_loss: 0.0496 - val_accuracy: 0.9861\n",
      "Epoch 7/10\n",
      "744/744 [==============================] - 93s 125ms/step - loss: 0.0685 - accuracy: 0.9806 - val_loss: 0.0539 - val_accuracy: 0.9855\n",
      "Epoch 8/10\n",
      "744/744 [==============================] - 93s 124ms/step - loss: 0.0735 - accuracy: 0.9801 - val_loss: 0.0530 - val_accuracy: 0.9858\n",
      "Epoch 9/10\n",
      "744/744 [==============================] - 93s 125ms/step - loss: 0.0760 - accuracy: 0.9797 - val_loss: 0.0486 - val_accuracy: 0.9859\n",
      "Epoch 10/10\n",
      "744/744 [==============================] - 93s 125ms/step - loss: 0.0828 - accuracy: 0.9806 - val_loss: 0.0599 - val_accuracy: 0.9862\n",
      "Duration: 0:15:32.378791\n"
     ]
    }
   ],
   "source": [
    "print(n)\n",
    "models_se[n].fit_model(image_sets_se[n],label_sets_se[n],x_val,y_val,epochs=10,batch_size = 64)\n",
    "n = n+1"
   ]
  },
  {
   "cell_type": "code",
   "execution_count": null,
   "id": "1670fb79",
   "metadata": {},
   "outputs": [],
   "source": [
    "time.sleep(400)"
   ]
  },
  {
   "cell_type": "code",
   "execution_count": 128,
   "id": "8763f2f6",
   "metadata": {},
   "outputs": [
    {
     "name": "stdout",
     "output_type": "stream",
     "text": [
      "17\n",
      "Epoch 1/10\n",
      "788/788 [==============================] - 101s 125ms/step - loss: 0.4093 - accuracy: 0.8749 - val_loss: 0.0628 - val_accuracy: 0.9806\n",
      "Epoch 2/10\n",
      "788/788 [==============================] - 98s 124ms/step - loss: 0.0960 - accuracy: 0.9723 - val_loss: 0.0516 - val_accuracy: 0.9832\n",
      "Epoch 3/10\n",
      "788/788 [==============================] - 98s 124ms/step - loss: 0.0707 - accuracy: 0.9784 - val_loss: 0.0430 - val_accuracy: 0.9866\n",
      "Epoch 4/10\n",
      "788/788 [==============================] - 98s 124ms/step - loss: 0.0640 - accuracy: 0.9812 - val_loss: 0.0439 - val_accuracy: 0.9873\n",
      "Epoch 5/10\n",
      "788/788 [==============================] - 98s 125ms/step - loss: 0.0643 - accuracy: 0.9817 - val_loss: 0.0606 - val_accuracy: 0.9839\n",
      "Epoch 6/10\n",
      "788/788 [==============================] - 98s 124ms/step - loss: 0.0627 - accuracy: 0.9831 - val_loss: 0.0558 - val_accuracy: 0.9839\n",
      "Epoch 7/10\n",
      "788/788 [==============================] - 98s 124ms/step - loss: 0.0670 - accuracy: 0.9826 - val_loss: 0.0480 - val_accuracy: 0.9866\n",
      "Epoch 8/10\n",
      "788/788 [==============================] - 99s 125ms/step - loss: 0.0675 - accuracy: 0.9820 - val_loss: 0.0481 - val_accuracy: 0.9860\n",
      "Epoch 9/10\n",
      "788/788 [==============================] - 98s 124ms/step - loss: 0.0698 - accuracy: 0.9820 - val_loss: 0.0687 - val_accuracy: 0.9809\n",
      "Epoch 10/10\n",
      "788/788 [==============================] - 98s 124ms/step - loss: 0.0773 - accuracy: 0.9817 - val_loss: 0.0498 - val_accuracy: 0.9867\n",
      "Duration: 0:16:23.266014\n"
     ]
    }
   ],
   "source": [
    "print(n)\n",
    "models_se[n].fit_model(image_sets_se[n],label_sets_se[n],x_val,y_val,epochs=10,batch_size = 64)\n",
    "n = n+1"
   ]
  },
  {
   "cell_type": "code",
   "execution_count": 129,
   "id": "b91ad678",
   "metadata": {},
   "outputs": [],
   "source": [
    "time.sleep(400)"
   ]
  },
  {
   "cell_type": "code",
   "execution_count": 130,
   "id": "f6c0a987",
   "metadata": {},
   "outputs": [
    {
     "name": "stdout",
     "output_type": "stream",
     "text": [
      "18\n",
      "Epoch 1/10\n",
      "832/832 [==============================] - 102s 120ms/step - loss: 0.3999 - accuracy: 0.8753 - val_loss: 0.0608 - val_accuracy: 0.9806\n",
      "Epoch 2/10\n",
      "832/832 [==============================] - 100s 120ms/step - loss: 0.0856 - accuracy: 0.9754 - val_loss: 0.0520 - val_accuracy: 0.9844\n",
      "Epoch 3/10\n",
      "832/832 [==============================] - 100s 120ms/step - loss: 0.0718 - accuracy: 0.9800 - val_loss: 0.0438 - val_accuracy: 0.9864\n",
      "Epoch 4/10\n",
      "832/832 [==============================] - 100s 120ms/step - loss: 0.0627 - accuracy: 0.9821 - val_loss: 0.0480 - val_accuracy: 0.9868\n",
      "Epoch 5/10\n",
      "832/832 [==============================] - 99s 120ms/step - loss: 0.0669 - accuracy: 0.9813 - val_loss: 0.0517 - val_accuracy: 0.9861\n",
      "Epoch 6/10\n",
      "832/832 [==============================] - 100s 120ms/step - loss: 0.0606 - accuracy: 0.9831 - val_loss: 0.0579 - val_accuracy: 0.9869\n",
      "Epoch 7/10\n",
      "832/832 [==============================] - 102s 122ms/step - loss: 0.0668 - accuracy: 0.9833 - val_loss: 0.0597 - val_accuracy: 0.9854\n",
      "Epoch 8/10\n",
      "832/832 [==============================] - 104s 125ms/step - loss: 0.0792 - accuracy: 0.9811 - val_loss: 0.0509 - val_accuracy: 0.9860\n",
      "Epoch 9/10\n",
      "832/832 [==============================] - 104s 125ms/step - loss: 0.0653 - accuracy: 0.9826 - val_loss: 0.0594 - val_accuracy: 0.9863\n",
      "Epoch 10/10\n",
      "832/832 [==============================] - 103s 124ms/step - loss: 0.0694 - accuracy: 0.9819 - val_loss: 0.0627 - val_accuracy: 0.9860\n",
      "Duration: 0:16:54.327957\n"
     ]
    }
   ],
   "source": [
    "print(n)\n",
    "models_se[n].fit_model(image_sets_se[n],label_sets_se[n],x_val,y_val,epochs=10,batch_size = 64)\n",
    "n = n+1"
   ]
  },
  {
   "cell_type": "code",
   "execution_count": null,
   "id": "39f645c7",
   "metadata": {},
   "outputs": [],
   "source": [
    "time.sleep(400)"
   ]
  },
  {
   "cell_type": "code",
   "execution_count": 131,
   "id": "ee3c5163",
   "metadata": {},
   "outputs": [
    {
     "name": "stdout",
     "output_type": "stream",
     "text": [
      "19\n",
      "Epoch 1/10\n",
      "875/875 [==============================] - 112s 125ms/step - loss: 0.3952 - accuracy: 0.8768 - val_loss: 0.0601 - val_accuracy: 0.9807\n",
      "Epoch 2/10\n",
      "875/875 [==============================] - 109s 124ms/step - loss: 0.0821 - accuracy: 0.9769 - val_loss: 0.0508 - val_accuracy: 0.9846\n",
      "Epoch 3/10\n",
      "875/875 [==============================] - 109s 124ms/step - loss: 0.0620 - accuracy: 0.9812 - val_loss: 0.0552 - val_accuracy: 0.9839\n",
      "Epoch 4/10\n",
      "875/875 [==============================] - 109s 124ms/step - loss: 0.0610 - accuracy: 0.9827 - val_loss: 0.0482 - val_accuracy: 0.9868\n",
      "Epoch 5/10\n",
      "875/875 [==============================] - 109s 124ms/step - loss: 0.0642 - accuracy: 0.9826 - val_loss: 0.0508 - val_accuracy: 0.9863\n",
      "Epoch 6/10\n",
      "875/875 [==============================] - 109s 124ms/step - loss: 0.0610 - accuracy: 0.9839 - val_loss: 0.0471 - val_accuracy: 0.9860\n",
      "Epoch 7/10\n",
      "875/875 [==============================] - 111s 127ms/step - loss: 0.0639 - accuracy: 0.9833 - val_loss: 0.0556 - val_accuracy: 0.9846\n",
      "Epoch 8/10\n",
      "875/875 [==============================] - 109s 124ms/step - loss: 0.0675 - accuracy: 0.9836 - val_loss: 0.0581 - val_accuracy: 0.9852\n",
      "Epoch 9/10\n",
      "875/875 [==============================] - 108s 124ms/step - loss: 0.0676 - accuracy: 0.9820 - val_loss: 0.0615 - val_accuracy: 0.9844\n",
      "Epoch 10/10\n",
      "875/875 [==============================] - 109s 124ms/step - loss: 0.0763 - accuracy: 0.9813 - val_loss: 0.0511 - val_accuracy: 0.9870\n",
      "Duration: 0:18:11.696717\n"
     ]
    }
   ],
   "source": [
    "print(n)\n",
    "models_se[n].fit_model(image_sets_se[n],label_sets_se[n],x_val,y_val,epochs=10,batch_size = 64)\n",
    "n = n+1"
   ]
  },
  {
   "cell_type": "code",
   "execution_count": null,
   "id": "61d40f4a",
   "metadata": {},
   "outputs": [],
   "source": [
    "len(models_se)"
   ]
  },
  {
   "cell_type": "code",
   "execution_count": 132,
   "id": "825c1334",
   "metadata": {},
   "outputs": [
    {
     "name": "stdout",
     "output_type": "stream",
     "text": [
      "INFO:tensorflow:Assets written to: D:/models/aug_22/mnist/C1/mnist_model_c1_aug_se_e1_0\\assets\n",
      "Model has been saved\n",
      "INFO:tensorflow:Assets written to: D:/models/aug_22/mnist/C1/mnist_model_c1_aug_se_e1_1\\assets\n",
      "Model has been saved\n",
      "INFO:tensorflow:Assets written to: D:/models/aug_22/mnist/C1/mnist_model_c1_aug_se_e1_2\\assets\n",
      "Model has been saved\n",
      "INFO:tensorflow:Assets written to: D:/models/aug_22/mnist/C1/mnist_model_c1_aug_se_e1_3\\assets\n",
      "Model has been saved\n",
      "INFO:tensorflow:Assets written to: D:/models/aug_22/mnist/C1/mnist_model_c1_aug_se_e1_4\\assets\n",
      "Model has been saved\n",
      "INFO:tensorflow:Assets written to: D:/models/aug_22/mnist/C1/mnist_model_c1_aug_se_e1_5\\assets\n",
      "Model has been saved\n",
      "INFO:tensorflow:Assets written to: D:/models/aug_22/mnist/C1/mnist_model_c1_aug_se_e1_6\\assets\n",
      "Model has been saved\n",
      "INFO:tensorflow:Assets written to: D:/models/aug_22/mnist/C1/mnist_model_c1_aug_se_e1_7\\assets\n",
      "Model has been saved\n",
      "INFO:tensorflow:Assets written to: D:/models/aug_22/mnist/C1/mnist_model_c1_aug_se_e1_8\\assets\n",
      "Model has been saved\n",
      "INFO:tensorflow:Assets written to: D:/models/aug_22/mnist/C1/mnist_model_c1_aug_se_e1_9\\assets\n",
      "Model has been saved\n",
      "INFO:tensorflow:Assets written to: D:/models/aug_22/mnist/C1/mnist_model_c1_aug_se_e1_10\\assets\n",
      "Model has been saved\n",
      "INFO:tensorflow:Assets written to: D:/models/aug_22/mnist/C1/mnist_model_c1_aug_se_e1_11\\assets\n",
      "Model has been saved\n",
      "INFO:tensorflow:Assets written to: D:/models/aug_22/mnist/C1/mnist_model_c1_aug_se_e1_12\\assets\n",
      "Model has been saved\n",
      "INFO:tensorflow:Assets written to: D:/models/aug_22/mnist/C1/mnist_model_c1_aug_se_e1_13\\assets\n",
      "Model has been saved\n",
      "INFO:tensorflow:Assets written to: D:/models/aug_22/mnist/C1/mnist_model_c1_aug_se_e1_14\\assets\n",
      "Model has been saved\n",
      "INFO:tensorflow:Assets written to: D:/models/aug_22/mnist/C1/mnist_model_c1_aug_se_e1_15\\assets\n",
      "Model has been saved\n",
      "INFO:tensorflow:Assets written to: D:/models/aug_22/mnist/C1/mnist_model_c1_aug_se_e1_16\\assets\n",
      "Model has been saved\n",
      "INFO:tensorflow:Assets written to: D:/models/aug_22/mnist/C1/mnist_model_c1_aug_se_e1_17\\assets\n",
      "Model has been saved\n",
      "INFO:tensorflow:Assets written to: D:/models/aug_22/mnist/C1/mnist_model_c1_aug_se_e1_18\\assets\n",
      "Model has been saved\n",
      "INFO:tensorflow:Assets written to: D:/models/aug_22/mnist/C1/mnist_model_c1_aug_se_e1_19\\assets\n",
      "Model has been saved\n"
     ]
    }
   ],
   "source": [
    "new_model_se_dir  = \"D:/models/aug_22/\"+dataset+\"/C1/\"+dataset+\"_model_c1_aug_se_e1\"\n",
    "\n",
    "i=0\n",
    "\n",
    "for model in models_se:\n",
    "    model.save(new_model_se_dir+\"_\"+str(i))\n",
    "    i+=1"
   ]
  },
  {
   "cell_type": "code",
   "execution_count": 133,
   "id": "95d86000",
   "metadata": {},
   "outputs": [],
   "source": [
    "try:\n",
    "    del se_values\n",
    "    del top_images_by_se\n",
    "    del top_labels_by_se\n",
    "    del image_sets_se\n",
    "    del label_sets_se\n",
    "    del models_se\n",
    "except:\n",
    "    print(\"Error\")"
   ]
  },
  {
   "cell_type": "code",
   "execution_count": 134,
   "id": "fcf7c5f3",
   "metadata": {},
   "outputs": [
    {
     "data": {
      "text/plain": [
       "72809"
      ]
     },
     "execution_count": 134,
     "metadata": {},
     "output_type": "execute_result"
    }
   ],
   "source": [
    "gc.collect()"
   ]
  },
  {
   "cell_type": "markdown",
   "id": "11198aa3",
   "metadata": {},
   "source": [
    "## Training guided by Random values"
   ]
  },
  {
   "cell_type": "code",
   "execution_count": 135,
   "id": "3581436b",
   "metadata": {},
   "outputs": [
    {
     "name": "stdout",
     "output_type": "stream",
     "text": [
      "[45735, 8226, 11767, 13547, 11000, 17771, 36267, 10793, 13561, 21588]\n",
      "55998\n"
     ]
    }
   ],
   "source": [
    "import random\n",
    "random_indexes =list(range(len(x_train_and_adversary)))\n",
    "random.shuffle(random_indexes)\n",
    "print(random_indexes[:10])\n",
    "print(len(random_indexes))"
   ]
  },
  {
   "cell_type": "code",
   "execution_count": 136,
   "id": "0eca574c",
   "metadata": {},
   "outputs": [],
   "source": [
    "save_dir = \"C:/Users/fjdur/Documents/upc-july/data/\"+dataset+\"/random_values.npy\"\n",
    "random_indexes = np.load(save_dir)"
   ]
  },
  {
   "cell_type": "code",
   "execution_count": 137,
   "id": "5a735c0d",
   "metadata": {},
   "outputs": [
    {
     "data": {
      "text/plain": [
       "55998"
      ]
     },
     "execution_count": 137,
     "metadata": {},
     "output_type": "execute_result"
    }
   ],
   "source": [
    "len(random_indexes)"
   ]
  },
  {
   "cell_type": "code",
   "execution_count": 138,
   "id": "d13ccb6c",
   "metadata": {},
   "outputs": [],
   "source": [
    "# Obtaining top n images by random values\n",
    "top_images_by_random = utils.get_x_of_indexes(list(np.flip(np.argsort(random_indexes))),x_train_and_adversary)\n",
    "top_labels_by_random = utils.get_x_of_indexes(list(np.flip(np.argsort(random_indexes))),y_train_and_adversary)"
   ]
  },
  {
   "cell_type": "code",
   "execution_count": 139,
   "id": "1209ac75",
   "metadata": {},
   "outputs": [
    {
     "name": "stdout",
     "output_type": "stream",
     "text": [
      "0 :\n",
      "0  ->  2800\n",
      "2800\n",
      "1 :\n",
      "0  ->  5600\n",
      "5600\n",
      "2 :\n",
      "0  ->  8400\n",
      "8400\n",
      "3 :\n",
      "0  ->  11200\n",
      "11200\n",
      "4 :\n",
      "0  ->  14000\n",
      "14000\n",
      "5 :\n",
      "0  ->  16800\n",
      "16800\n",
      "6 :\n",
      "0  ->  19600\n",
      "19600\n",
      "7 :\n",
      "0  ->  22400\n",
      "22400\n",
      "8 :\n",
      "0  ->  25200\n",
      "25200\n",
      "9 :\n",
      "0  ->  28000\n",
      "28000\n",
      "10 :\n",
      "0  ->  30800\n",
      "30800\n",
      "11 :\n",
      "0  ->  33600\n",
      "33600\n",
      "12 :\n",
      "0  ->  36400\n",
      "36400\n",
      "13 :\n",
      "0  ->  39200\n",
      "39200\n",
      "14 :\n",
      "0  ->  42000\n",
      "42000\n",
      "15 :\n",
      "0  ->  44800\n",
      "44800\n",
      "16 :\n",
      "0  ->  47600\n",
      "47600\n",
      "17 :\n",
      "0  ->  50400\n",
      "50400\n",
      "18 :\n",
      "0  ->  53200\n",
      "53200\n",
      "19 :\n",
      "Last\n",
      "0  ->  58798\n",
      "55998\n"
     ]
    }
   ],
   "source": [
    "m = n_data_points\n",
    "n = 0\n",
    "image_sets_random = []\n",
    "label_sets_random = []\n",
    "\n",
    "\n",
    "\n",
    "for i in range((len(top_images_by_random)//m)+1):\n",
    "    print(i,\":\")\n",
    "    if (i+1 >= ((len(top_images_by_random)//m)+1)):\n",
    "        print(\"Last\")\n",
    "        print(0,\" -> \",n+m+(len(top_images_by_random)%m))\n",
    "        top_images_by_random_n = np.array(top_images_by_random[:n+m+(len(top_images_by_random)%m)])\n",
    "        top_labels_by_random_n = np.array(top_labels_by_random[:n+m+(len(top_images_by_random)%m)])\n",
    "    else:\n",
    "        print(0,\" -> \",m+n)\n",
    "        top_images_by_random_n = np.array(top_images_by_random[:n+m])\n",
    "        top_labels_by_random_n = np.array(top_labels_by_random[:n+m])\n",
    "    image_sets_random.append(top_images_by_random_n)\n",
    "    label_sets_random.append(top_labels_by_random_n)\n",
    "    print(len(top_images_by_random_n))\n",
    "    n += m\n",
    "\n",
    "\n"
   ]
  },
  {
   "cell_type": "code",
   "execution_count": 140,
   "id": "3ed47a88",
   "metadata": {},
   "outputs": [
    {
     "data": {
      "text/plain": [
       "20"
      ]
     },
     "execution_count": 140,
     "metadata": {},
     "output_type": "execute_result"
    }
   ],
   "source": [
    "len(image_sets_random)"
   ]
  },
  {
   "cell_type": "code",
   "execution_count": 141,
   "id": "3f03e1cf",
   "metadata": {},
   "outputs": [
    {
     "name": "stdout",
     "output_type": "stream",
     "text": [
      "C:/Users/fjdur/Documents/upc-july/models/models2\n",
      "0 :\n",
      "Model compiled\n",
      "1 :\n",
      "Model compiled\n",
      "2 :\n",
      "Model compiled\n",
      "3 :\n",
      "Model compiled\n",
      "4 :\n",
      "Model compiled\n",
      "5 :\n",
      "Model compiled\n",
      "6 :\n",
      "Model compiled\n",
      "7 :\n",
      "Model compiled\n",
      "8 :\n",
      "Model compiled\n",
      "9 :\n",
      "Model compiled\n",
      "10 :\n",
      "Model compiled\n",
      "11 :\n",
      "Model compiled\n",
      "12 :\n",
      "Model compiled\n",
      "13 :\n",
      "Model compiled\n",
      "14 :\n",
      "Model compiled\n",
      "15 :\n",
      "Model compiled\n",
      "16 :\n",
      "Model compiled\n",
      "17 :\n",
      "Model compiled\n",
      "18 :\n",
      "Model compiled\n",
      "19 :\n",
      "Model compiled\n"
     ]
    }
   ],
   "source": [
    "print(model_dir)\n",
    "\n",
    "models_random = []\n",
    "for i in range(len(label_sets_random)):\n",
    "    print(i,\":\")\n",
    "    model = utils.My_model(dataset,False,None)\n",
    "    model.compile_model()\n",
    "    models_random.append(model)\n"
   ]
  },
  {
   "cell_type": "code",
   "execution_count": 142,
   "id": "14912c8b",
   "metadata": {},
   "outputs": [
    {
     "name": "stdout",
     "output_type": "stream",
     "text": [
      "0\n",
      "Epoch 1/10\n",
      "44/44 [==============================] - 13s 241ms/step - loss: 1.4106 - accuracy: 0.5448 - val_loss: 0.3203 - val_accuracy: 0.9062\n",
      "Epoch 2/10\n",
      "44/44 [==============================] - 10s 228ms/step - loss: 0.3535 - accuracy: 0.9088 - val_loss: 0.2259 - val_accuracy: 0.9309\n",
      "Epoch 3/10\n",
      "44/44 [==============================] - 10s 230ms/step - loss: 0.2529 - accuracy: 0.9164 - val_loss: 0.1706 - val_accuracy: 0.9487\n",
      "Epoch 4/10\n",
      "44/44 [==============================] - 11s 242ms/step - loss: 0.1829 - accuracy: 0.9450 - val_loss: 0.1478 - val_accuracy: 0.9553\n",
      "Epoch 5/10\n",
      "44/44 [==============================] - 11s 244ms/step - loss: 0.1442 - accuracy: 0.9572 - val_loss: 0.1385 - val_accuracy: 0.9594\n",
      "Epoch 6/10\n",
      "44/44 [==============================] - 11s 242ms/step - loss: 0.0980 - accuracy: 0.9639 - val_loss: 0.1292 - val_accuracy: 0.9629\n",
      "Epoch 7/10\n",
      "44/44 [==============================] - 11s 243ms/step - loss: 0.0814 - accuracy: 0.9736 - val_loss: 0.1218 - val_accuracy: 0.9651\n",
      "Epoch 8/10\n",
      "44/44 [==============================] - 11s 243ms/step - loss: 0.0688 - accuracy: 0.9818 - val_loss: 0.1356 - val_accuracy: 0.9626\n",
      "Epoch 9/10\n",
      "44/44 [==============================] - 11s 243ms/step - loss: 0.0562 - accuracy: 0.9834 - val_loss: 0.1349 - val_accuracy: 0.9635\n",
      "Epoch 10/10\n",
      "44/44 [==============================] - 11s 243ms/step - loss: 0.0608 - accuracy: 0.9800 - val_loss: 0.1451 - val_accuracy: 0.9649\n",
      "Duration: 0:01:46.625110\n"
     ]
    }
   ],
   "source": [
    "n=0\n",
    "print(n)\n",
    "\n",
    "models_random[n].fit_model(image_sets_random[n],label_sets_random[n],x_val,y_val,epochs=10,batch_size = 64)\n",
    "n = n+1"
   ]
  },
  {
   "cell_type": "code",
   "execution_count": 143,
   "id": "f28e27b1",
   "metadata": {},
   "outputs": [
    {
     "name": "stdout",
     "output_type": "stream",
     "text": [
      "1\n",
      "Epoch 1/10\n",
      "88/88 [==============================] - 18s 178ms/step - loss: 1.1327 - accuracy: 0.6172 - val_loss: 0.2305 - val_accuracy: 0.9310\n",
      "Epoch 2/10\n",
      "88/88 [==============================] - 16s 178ms/step - loss: 0.2666 - accuracy: 0.9208 - val_loss: 0.1311 - val_accuracy: 0.9595\n",
      "Epoch 3/10\n",
      "88/88 [==============================] - 16s 179ms/step - loss: 0.1684 - accuracy: 0.9497 - val_loss: 0.1116 - val_accuracy: 0.9652\n",
      "Epoch 4/10\n",
      "88/88 [==============================] - 16s 177ms/step - loss: 0.1181 - accuracy: 0.9622 - val_loss: 0.0982 - val_accuracy: 0.9697\n",
      "Epoch 5/10\n",
      "88/88 [==============================] - 16s 178ms/step - loss: 0.0877 - accuracy: 0.9726 - val_loss: 0.0898 - val_accuracy: 0.9722\n",
      "Epoch 6/10\n",
      "88/88 [==============================] - 16s 178ms/step - loss: 0.0653 - accuracy: 0.9798 - val_loss: 0.0944 - val_accuracy: 0.9712\n",
      "Epoch 7/10\n",
      "88/88 [==============================] - 16s 178ms/step - loss: 0.0638 - accuracy: 0.9795 - val_loss: 0.1061 - val_accuracy: 0.9687\n",
      "Epoch 8/10\n",
      "88/88 [==============================] - 16s 178ms/step - loss: 0.0632 - accuracy: 0.9815 - val_loss: 0.0904 - val_accuracy: 0.9746\n",
      "Epoch 9/10\n",
      "88/88 [==============================] - 16s 178ms/step - loss: 0.0401 - accuracy: 0.9881 - val_loss: 0.0932 - val_accuracy: 0.9746\n",
      "Epoch 10/10\n",
      "88/88 [==============================] - 16s 179ms/step - loss: 0.0431 - accuracy: 0.9871 - val_loss: 0.0844 - val_accuracy: 0.9782\n",
      "Duration: 0:02:38.491945\n"
     ]
    }
   ],
   "source": [
    "print(n)\n",
    "models_random[n].fit_model(image_sets_random[n],label_sets_random[n],x_val,y_val,epochs=10,batch_size = 64)\n",
    "n = n+1"
   ]
  },
  {
   "cell_type": "code",
   "execution_count": 144,
   "id": "a212da14",
   "metadata": {},
   "outputs": [
    {
     "name": "stdout",
     "output_type": "stream",
     "text": [
      "2\n",
      "Epoch 1/10\n",
      "132/132 [==============================] - 23s 158ms/step - loss: 0.8844 - accuracy: 0.7082 - val_loss: 0.1722 - val_accuracy: 0.9494\n",
      "Epoch 2/10\n",
      "132/132 [==============================] - 21s 160ms/step - loss: 0.2018 - accuracy: 0.9400 - val_loss: 0.1153 - val_accuracy: 0.9649\n",
      "Epoch 3/10\n",
      "132/132 [==============================] - 21s 158ms/step - loss: 0.1336 - accuracy: 0.9586 - val_loss: 0.0904 - val_accuracy: 0.9735\n",
      "Epoch 4/10\n",
      "132/132 [==============================] - 21s 157ms/step - loss: 0.0834 - accuracy: 0.9737 - val_loss: 0.0890 - val_accuracy: 0.9739\n",
      "Epoch 5/10\n",
      "132/132 [==============================] - 21s 157ms/step - loss: 0.0769 - accuracy: 0.9733 - val_loss: 0.0706 - val_accuracy: 0.9783\n",
      "Epoch 6/10\n",
      "132/132 [==============================] - 21s 157ms/step - loss: 0.0677 - accuracy: 0.9785 - val_loss: 0.0735 - val_accuracy: 0.9784\n",
      "Epoch 7/10\n",
      "132/132 [==============================] - 21s 157ms/step - loss: 0.0505 - accuracy: 0.9828 - val_loss: 0.0765 - val_accuracy: 0.9778\n",
      "Epoch 8/10\n",
      "132/132 [==============================] - 21s 159ms/step - loss: 0.0459 - accuracy: 0.9838 - val_loss: 0.0685 - val_accuracy: 0.9799\n",
      "Epoch 9/10\n",
      "132/132 [==============================] - 21s 158ms/step - loss: 0.0423 - accuracy: 0.9849 - val_loss: 0.0818 - val_accuracy: 0.9778\n",
      "Epoch 10/10\n",
      "132/132 [==============================] - 21s 156ms/step - loss: 0.0276 - accuracy: 0.9900 - val_loss: 0.0786 - val_accuracy: 0.9802\n",
      "Duration: 0:03:29.938138\n"
     ]
    }
   ],
   "source": [
    "print(n)\n",
    "models_random[n].fit_model(image_sets_random[n],label_sets_random[n],x_val,y_val,epochs=10,batch_size = 64)\n",
    "n = n+1"
   ]
  },
  {
   "cell_type": "code",
   "execution_count": 145,
   "id": "825cb011",
   "metadata": {},
   "outputs": [
    {
     "name": "stdout",
     "output_type": "stream",
     "text": [
      "3\n",
      "Epoch 1/10\n",
      "175/175 [==============================] - 29s 153ms/step - loss: 0.7892 - accuracy: 0.7476 - val_loss: 0.1232 - val_accuracy: 0.9621\n",
      "Epoch 2/10\n",
      "175/175 [==============================] - 26s 151ms/step - loss: 0.1617 - accuracy: 0.9492 - val_loss: 0.0863 - val_accuracy: 0.9735\n",
      "Epoch 3/10\n",
      "175/175 [==============================] - 26s 150ms/step - loss: 0.1044 - accuracy: 0.9677 - val_loss: 0.0763 - val_accuracy: 0.9766\n",
      "Epoch 4/10\n",
      "175/175 [==============================] - 26s 150ms/step - loss: 0.0742 - accuracy: 0.9760 - val_loss: 0.0731 - val_accuracy: 0.9778\n",
      "Epoch 5/10\n",
      "175/175 [==============================] - 26s 150ms/step - loss: 0.0683 - accuracy: 0.9784 - val_loss: 0.0653 - val_accuracy: 0.9794\n",
      "Epoch 6/10\n",
      "175/175 [==============================] - 26s 150ms/step - loss: 0.0537 - accuracy: 0.9829 - val_loss: 0.0663 - val_accuracy: 0.9814\n",
      "Epoch 7/10\n",
      "175/175 [==============================] - 26s 149ms/step - loss: 0.0496 - accuracy: 0.9845 - val_loss: 0.0604 - val_accuracy: 0.9823\n",
      "Epoch 8/10\n",
      "175/175 [==============================] - 26s 150ms/step - loss: 0.0410 - accuracy: 0.9869 - val_loss: 0.0704 - val_accuracy: 0.9799\n",
      "Epoch 9/10\n",
      "175/175 [==============================] - 26s 151ms/step - loss: 0.0383 - accuracy: 0.9887 - val_loss: 0.0657 - val_accuracy: 0.9814\n",
      "Epoch 10/10\n",
      "175/175 [==============================] - 26s 150ms/step - loss: 0.0301 - accuracy: 0.9913 - val_loss: 0.0807 - val_accuracy: 0.9811\n",
      "Duration: 0:04:25.065729\n"
     ]
    }
   ],
   "source": [
    "print(n)\n",
    "models_random[n].fit_model(image_sets_random[n],label_sets_random[n],x_val,y_val,epochs=10,batch_size = 64)\n",
    "n = n+1"
   ]
  },
  {
   "cell_type": "code",
   "execution_count": 146,
   "id": "b6988483",
   "metadata": {},
   "outputs": [
    {
     "name": "stdout",
     "output_type": "stream",
     "text": [
      "4\n",
      "Epoch 1/10\n",
      "219/219 [==============================] - 35s 150ms/step - loss: 0.7064 - accuracy: 0.7809 - val_loss: 0.1317 - val_accuracy: 0.9591\n",
      "Epoch 2/10\n",
      "219/219 [==============================] - 33s 150ms/step - loss: 0.1511 - accuracy: 0.9550 - val_loss: 0.0904 - val_accuracy: 0.9746\n",
      "Epoch 3/10\n",
      "219/219 [==============================] - 33s 151ms/step - loss: 0.1050 - accuracy: 0.9707 - val_loss: 0.0688 - val_accuracy: 0.9786\n",
      "Epoch 4/10\n",
      "219/219 [==============================] - 34s 155ms/step - loss: 0.0784 - accuracy: 0.9767 - val_loss: 0.0633 - val_accuracy: 0.9814\n",
      "Epoch 5/10\n",
      "219/219 [==============================] - 32s 146ms/step - loss: 0.0616 - accuracy: 0.9809 - val_loss: 0.0610 - val_accuracy: 0.9829\n",
      "Epoch 6/10\n",
      "219/219 [==============================] - 34s 156ms/step - loss: 0.0516 - accuracy: 0.9844 - val_loss: 0.0612 - val_accuracy: 0.9830\n",
      "Epoch 7/10\n",
      "219/219 [==============================] - 34s 153ms/step - loss: 0.0503 - accuracy: 0.9854 - val_loss: 0.0549 - val_accuracy: 0.9844\n",
      "Epoch 8/10\n",
      "219/219 [==============================] - 35s 159ms/step - loss: 0.0390 - accuracy: 0.9884 - val_loss: 0.0600 - val_accuracy: 0.9841\n",
      "Epoch 9/10\n",
      "219/219 [==============================] - 35s 160ms/step - loss: 0.0341 - accuracy: 0.9898 - val_loss: 0.0641 - val_accuracy: 0.9834\n",
      "Epoch 10/10\n",
      "219/219 [==============================] - 36s 162ms/step - loss: 0.0261 - accuracy: 0.9917 - val_loss: 0.0643 - val_accuracy: 0.9822\n",
      "Duration: 0:05:39.911089\n"
     ]
    }
   ],
   "source": [
    "print(n)#\n",
    "models_random[n].fit_model(image_sets_random[n],label_sets_random[n],x_val,y_val,epochs=10,batch_size = 64)\n",
    "n = n+1"
   ]
  },
  {
   "cell_type": "code",
   "execution_count": 147,
   "id": "b5013c8d",
   "metadata": {},
   "outputs": [
    {
     "name": "stdout",
     "output_type": "stream",
     "text": [
      "5\n",
      "Epoch 1/10\n",
      "263/263 [==============================] - 45s 155ms/step - loss: 0.6962 - accuracy: 0.7754 - val_loss: 0.1146 - val_accuracy: 0.9650\n",
      "Epoch 2/10\n",
      "263/263 [==============================] - 39s 147ms/step - loss: 0.1476 - accuracy: 0.9574 - val_loss: 0.0796 - val_accuracy: 0.9750\n",
      "Epoch 3/10\n",
      "263/263 [==============================] - 38s 146ms/step - loss: 0.0968 - accuracy: 0.9718 - val_loss: 0.0617 - val_accuracy: 0.9807\n",
      "Epoch 4/10\n",
      "263/263 [==============================] - 39s 147ms/step - loss: 0.0814 - accuracy: 0.9772 - val_loss: 0.0613 - val_accuracy: 0.9818\n",
      "Epoch 5/10\n",
      "263/263 [==============================] - 38s 146ms/step - loss: 0.0631 - accuracy: 0.9823 - val_loss: 0.0577 - val_accuracy: 0.9820\n",
      "Epoch 6/10\n",
      "263/263 [==============================] - 39s 147ms/step - loss: 0.0552 - accuracy: 0.9819 - val_loss: 0.0599 - val_accuracy: 0.9824\n",
      "Epoch 7/10\n",
      "263/263 [==============================] - 39s 147ms/step - loss: 0.0458 - accuracy: 0.9863 - val_loss: 0.0590 - val_accuracy: 0.9829\n",
      "Epoch 8/10\n",
      "263/263 [==============================] - 39s 147ms/step - loss: 0.0439 - accuracy: 0.9868 - val_loss: 0.0569 - val_accuracy: 0.9836\n",
      "Epoch 9/10\n",
      "263/263 [==============================] - 39s 148ms/step - loss: 0.0417 - accuracy: 0.9898 - val_loss: 0.0680 - val_accuracy: 0.9831\n",
      "Epoch 10/10\n",
      "263/263 [==============================] - 39s 147ms/step - loss: 0.0421 - accuracy: 0.9877 - val_loss: 0.0741 - val_accuracy: 0.9826\n",
      "Duration: 0:06:32.752907\n"
     ]
    }
   ],
   "source": [
    "print(n)\n",
    "models_random[n].fit_model(image_sets_random[n],label_sets_random[n],x_val,y_val,epochs=10,batch_size = 64)\n",
    "n = n+1"
   ]
  },
  {
   "cell_type": "code",
   "execution_count": 148,
   "id": "6af282f1",
   "metadata": {},
   "outputs": [
    {
     "name": "stdout",
     "output_type": "stream",
     "text": [
      "6\n",
      "Epoch 1/10\n",
      "307/307 [==============================] - 48s 149ms/step - loss: 0.6338 - accuracy: 0.7992 - val_loss: 0.1039 - val_accuracy: 0.9669\n",
      "Epoch 2/10\n",
      "307/307 [==============================] - 46s 149ms/step - loss: 0.1288 - accuracy: 0.9626 - val_loss: 0.0717 - val_accuracy: 0.9771\n",
      "Epoch 3/10\n",
      "307/307 [==============================] - 46s 149ms/step - loss: 0.0915 - accuracy: 0.9714 - val_loss: 0.0634 - val_accuracy: 0.9803\n",
      "Epoch 4/10\n",
      "307/307 [==============================] - 46s 148ms/step - loss: 0.0789 - accuracy: 0.9764 - val_loss: 0.0615 - val_accuracy: 0.9813\n",
      "Epoch 5/10\n",
      "307/307 [==============================] - 45s 148ms/step - loss: 0.0617 - accuracy: 0.9825 - val_loss: 0.0570 - val_accuracy: 0.9822\n",
      "Epoch 6/10\n",
      "307/307 [==============================] - 46s 149ms/step - loss: 0.0427 - accuracy: 0.9870 - val_loss: 0.0630 - val_accuracy: 0.9825\n",
      "Epoch 7/10\n",
      "307/307 [==============================] - 46s 149ms/step - loss: 0.0511 - accuracy: 0.9856 - val_loss: 0.0560 - val_accuracy: 0.9837\n",
      "Epoch 8/10\n",
      "307/307 [==============================] - 46s 149ms/step - loss: 0.0467 - accuracy: 0.9869 - val_loss: 0.0638 - val_accuracy: 0.9832\n",
      "Epoch 9/10\n",
      "307/307 [==============================] - 46s 149ms/step - loss: 0.0421 - accuracy: 0.9885 - val_loss: 0.0682 - val_accuracy: 0.9823\n",
      "Epoch 10/10\n",
      "307/307 [==============================] - 45s 148ms/step - loss: 0.0459 - accuracy: 0.9861 - val_loss: 0.0608 - val_accuracy: 0.9834\n",
      "Duration: 0:07:38.318162\n"
     ]
    }
   ],
   "source": [
    "print(n)\n",
    "models_random[n].fit_model(image_sets_random[n],label_sets_random[n],x_val,y_val,epochs=10,batch_size = 64)\n",
    "n = n+1"
   ]
  },
  {
   "cell_type": "code",
   "execution_count": 149,
   "id": "d29def12",
   "metadata": {},
   "outputs": [
    {
     "name": "stdout",
     "output_type": "stream",
     "text": [
      "7\n",
      "Epoch 1/10\n",
      "350/350 [==============================] - 53s 144ms/step - loss: 0.6104 - accuracy: 0.8061 - val_loss: 0.0901 - val_accuracy: 0.9704\n",
      "Epoch 2/10\n",
      "350/350 [==============================] - 50s 144ms/step - loss: 0.1240 - accuracy: 0.9615 - val_loss: 0.0808 - val_accuracy: 0.9754\n",
      "Epoch 3/10\n",
      "350/350 [==============================] - 50s 144ms/step - loss: 0.0889 - accuracy: 0.9747 - val_loss: 0.0586 - val_accuracy: 0.9819\n",
      "Epoch 4/10\n",
      "350/350 [==============================] - 50s 144ms/step - loss: 0.0678 - accuracy: 0.9812 - val_loss: 0.0561 - val_accuracy: 0.9823\n",
      "Epoch 5/10\n",
      "350/350 [==============================] - 50s 144ms/step - loss: 0.0643 - accuracy: 0.9805 - val_loss: 0.0526 - val_accuracy: 0.9844\n",
      "Epoch 6/10\n",
      "350/350 [==============================] - 51s 145ms/step - loss: 0.0518 - accuracy: 0.9861 - val_loss: 0.0501 - val_accuracy: 0.9854\n",
      "Epoch 7/10\n",
      "350/350 [==============================] - 50s 144ms/step - loss: 0.0470 - accuracy: 0.9868 - val_loss: 0.0560 - val_accuracy: 0.9823\n",
      "Epoch 8/10\n",
      "350/350 [==============================] - 51s 144ms/step - loss: 0.0487 - accuracy: 0.9857 - val_loss: 0.0543 - val_accuracy: 0.9849\n",
      "Epoch 9/10\n",
      "350/350 [==============================] - 50s 144ms/step - loss: 0.0417 - accuracy: 0.9871 - val_loss: 0.0516 - val_accuracy: 0.9847\n",
      "Epoch 10/10\n",
      "350/350 [==============================] - 50s 144ms/step - loss: 0.0405 - accuracy: 0.9894 - val_loss: 0.0607 - val_accuracy: 0.9827\n",
      "Duration: 0:08:26.219187\n"
     ]
    }
   ],
   "source": [
    "print(n)\n",
    "models_random[n].fit_model(image_sets_random[n],label_sets_random[n],x_val,y_val,epochs=10,batch_size = 64)\n",
    "n = n+1"
   ]
  },
  {
   "cell_type": "code",
   "execution_count": 150,
   "id": "279e2866",
   "metadata": {},
   "outputs": [
    {
     "name": "stdout",
     "output_type": "stream",
     "text": [
      "8\n",
      "Epoch 1/10\n",
      "394/394 [==============================] - 59s 143ms/step - loss: 0.5774 - accuracy: 0.8171 - val_loss: 0.0846 - val_accuracy: 0.9741\n",
      "Epoch 2/10\n",
      "394/394 [==============================] - 56s 143ms/step - loss: 0.1126 - accuracy: 0.9675 - val_loss: 0.0633 - val_accuracy: 0.9804\n",
      "Epoch 3/10\n",
      "394/394 [==============================] - 57s 144ms/step - loss: 0.0823 - accuracy: 0.9747 - val_loss: 0.0526 - val_accuracy: 0.9839\n",
      "Epoch 4/10\n",
      "394/394 [==============================] - 57s 144ms/step - loss: 0.0654 - accuracy: 0.9811 - val_loss: 0.0516 - val_accuracy: 0.9845\n",
      "Epoch 5/10\n",
      "394/394 [==============================] - 57s 144ms/step - loss: 0.0572 - accuracy: 0.9836 - val_loss: 0.0574 - val_accuracy: 0.9834\n",
      "Epoch 6/10\n",
      "394/394 [==============================] - 57s 144ms/step - loss: 0.0510 - accuracy: 0.9855 - val_loss: 0.0564 - val_accuracy: 0.9838\n",
      "Epoch 7/10\n",
      "394/394 [==============================] - 57s 144ms/step - loss: 0.0491 - accuracy: 0.9862 - val_loss: 0.0483 - val_accuracy: 0.9854\n",
      "Epoch 8/10\n",
      "394/394 [==============================] - 56s 143ms/step - loss: 0.0492 - accuracy: 0.9851 - val_loss: 0.0503 - val_accuracy: 0.9859\n",
      "Epoch 9/10\n",
      "394/394 [==============================] - 56s 143ms/step - loss: 0.0408 - accuracy: 0.9879 - val_loss: 0.0656 - val_accuracy: 0.9831\n",
      "Epoch 10/10\n",
      "394/394 [==============================] - 56s 143ms/step - loss: 0.0424 - accuracy: 0.9877 - val_loss: 0.0604 - val_accuracy: 0.9853\n",
      "Duration: 0:09:27.345242\n"
     ]
    }
   ],
   "source": [
    "print(n)\n",
    "models_random[n].fit_model(image_sets_random[n],label_sets_random[n],x_val,y_val,epochs=10,batch_size = 64)\n",
    "n = n+1"
   ]
  },
  {
   "cell_type": "code",
   "execution_count": 151,
   "id": "4767ce8f",
   "metadata": {},
   "outputs": [
    {
     "name": "stdout",
     "output_type": "stream",
     "text": [
      "9\n",
      "Epoch 1/10\n",
      "438/438 [==============================] - 65s 143ms/step - loss: 0.5395 - accuracy: 0.8294 - val_loss: 0.0859 - val_accuracy: 0.9743\n",
      "Epoch 2/10\n",
      "438/438 [==============================] - 62s 141ms/step - loss: 0.1167 - accuracy: 0.9663 - val_loss: 0.0616 - val_accuracy: 0.9814\n",
      "Epoch 3/10\n",
      "438/438 [==============================] - 62s 142ms/step - loss: 0.0829 - accuracy: 0.9745 - val_loss: 0.0549 - val_accuracy: 0.9832\n",
      "Epoch 4/10\n",
      "438/438 [==============================] - 63s 145ms/step - loss: 0.0707 - accuracy: 0.9792 - val_loss: 0.0531 - val_accuracy: 0.9844\n",
      "Epoch 5/10\n",
      "438/438 [==============================] - 62s 142ms/step - loss: 0.0529 - accuracy: 0.9849 - val_loss: 0.0523 - val_accuracy: 0.9846\n",
      "Epoch 6/10\n",
      "438/438 [==============================] - 62s 142ms/step - loss: 0.0552 - accuracy: 0.9856 - val_loss: 0.0550 - val_accuracy: 0.9839\n",
      "Epoch 7/10\n",
      "438/438 [==============================] - 62s 142ms/step - loss: 0.0532 - accuracy: 0.9857 - val_loss: 0.0514 - val_accuracy: 0.9844\n",
      "Epoch 8/10\n",
      "438/438 [==============================] - 62s 143ms/step - loss: 0.0464 - accuracy: 0.9864 - val_loss: 0.0515 - val_accuracy: 0.9854\n",
      "Epoch 9/10\n",
      "438/438 [==============================] - 62s 142ms/step - loss: 0.0462 - accuracy: 0.9856 - val_loss: 0.0510 - val_accuracy: 0.9851\n",
      "Epoch 10/10\n",
      "438/438 [==============================] - 62s 142ms/step - loss: 0.0473 - accuracy: 0.9856 - val_loss: 0.0615 - val_accuracy: 0.9842\n",
      "Duration: 0:10:25.905331\n"
     ]
    }
   ],
   "source": [
    "print(n)#\n",
    "models_random[n].fit_model(image_sets_random[n],label_sets_random[n],x_val,y_val,epochs=10,batch_size = 64)\n",
    "n = n+1"
   ]
  },
  {
   "cell_type": "code",
   "execution_count": 152,
   "id": "fb28909f",
   "metadata": {},
   "outputs": [
    {
     "name": "stdout",
     "output_type": "stream",
     "text": [
      "10\n",
      "Epoch 1/10\n",
      "482/482 [==============================] - 71s 143ms/step - loss: 0.5232 - accuracy: 0.8387 - val_loss: 0.0762 - val_accuracy: 0.9759\n",
      "Epoch 2/10\n",
      "482/482 [==============================] - 69s 143ms/step - loss: 0.1069 - accuracy: 0.9693 - val_loss: 0.0559 - val_accuracy: 0.9822\n",
      "Epoch 3/10\n",
      "482/482 [==============================] - 69s 143ms/step - loss: 0.0776 - accuracy: 0.9776 - val_loss: 0.0508 - val_accuracy: 0.9853\n",
      "Epoch 4/10\n",
      "482/482 [==============================] - 69s 143ms/step - loss: 0.0687 - accuracy: 0.9799 - val_loss: 0.0493 - val_accuracy: 0.9848\n",
      "Epoch 5/10\n",
      "482/482 [==============================] - 69s 142ms/step - loss: 0.0544 - accuracy: 0.9838 - val_loss: 0.0503 - val_accuracy: 0.9839\n",
      "Epoch 6/10\n",
      "482/482 [==============================] - 69s 143ms/step - loss: 0.0549 - accuracy: 0.9839 - val_loss: 0.0428 - val_accuracy: 0.9863\n",
      "Epoch 7/10\n",
      "482/482 [==============================] - 70s 144ms/step - loss: 0.0478 - accuracy: 0.9865 - val_loss: 0.0457 - val_accuracy: 0.9860\n",
      "Epoch 8/10\n",
      "482/482 [==============================] - 69s 143ms/step - loss: 0.0473 - accuracy: 0.9858 - val_loss: 0.0466 - val_accuracy: 0.9866\n",
      "Epoch 9/10\n",
      "482/482 [==============================] - 69s 143ms/step - loss: 0.0433 - accuracy: 0.9871 - val_loss: 0.0560 - val_accuracy: 0.9839\n",
      "Epoch 10/10\n",
      "482/482 [==============================] - 69s 143ms/step - loss: 0.0507 - accuracy: 0.9867 - val_loss: 0.0579 - val_accuracy: 0.9833\n",
      "Duration: 0:11:31.787507\n"
     ]
    }
   ],
   "source": [
    "print(n)\n",
    "models_random[n].fit_model(image_sets_random[n],label_sets_random[n],x_val,y_val,epochs=10,batch_size = 64)\n",
    "n = n+1"
   ]
  },
  {
   "cell_type": "code",
   "execution_count": 153,
   "id": "0e5cdaeb",
   "metadata": {},
   "outputs": [
    {
     "name": "stdout",
     "output_type": "stream",
     "text": [
      "11\n",
      "Epoch 1/10\n",
      "525/525 [==============================] - 76s 140ms/step - loss: 0.4747 - accuracy: 0.8515 - val_loss: 0.0801 - val_accuracy: 0.9763\n",
      "Epoch 2/10\n",
      "525/525 [==============================] - 74s 141ms/step - loss: 0.1055 - accuracy: 0.9680 - val_loss: 0.0643 - val_accuracy: 0.9810\n",
      "Epoch 3/10\n",
      "525/525 [==============================] - 73s 140ms/step - loss: 0.0783 - accuracy: 0.9776 - val_loss: 0.0526 - val_accuracy: 0.9834\n",
      "Epoch 4/10\n",
      "525/525 [==============================] - 73s 140ms/step - loss: 0.0663 - accuracy: 0.9818 - val_loss: 0.0498 - val_accuracy: 0.9854\n",
      "Epoch 5/10\n",
      "525/525 [==============================] - 73s 139ms/step - loss: 0.0566 - accuracy: 0.9837 - val_loss: 0.0438 - val_accuracy: 0.9861\n",
      "Epoch 6/10\n",
      "525/525 [==============================] - 73s 140ms/step - loss: 0.0551 - accuracy: 0.9837 - val_loss: 0.0462 - val_accuracy: 0.9861\n",
      "Epoch 7/10\n",
      "525/525 [==============================] - 74s 141ms/step - loss: 0.0509 - accuracy: 0.9850 - val_loss: 0.0471 - val_accuracy: 0.9862\n",
      "Epoch 8/10\n",
      "525/525 [==============================] - 73s 139ms/step - loss: 0.0474 - accuracy: 0.9866 - val_loss: 0.0498 - val_accuracy: 0.9862\n",
      "Epoch 9/10\n",
      "525/525 [==============================] - 73s 139ms/step - loss: 0.0510 - accuracy: 0.9856 - val_loss: 0.0476 - val_accuracy: 0.9867\n",
      "Epoch 10/10\n",
      "525/525 [==============================] - 73s 139ms/step - loss: 0.0501 - accuracy: 0.9870 - val_loss: 0.0461 - val_accuracy: 0.9871\n",
      "Duration: 0:12:16.356527\n"
     ]
    }
   ],
   "source": [
    "print(n)\n",
    "models_random[n].fit_model(image_sets_random[n],label_sets_random[n],x_val,y_val,epochs=10,batch_size = 64)\n",
    "n = n+1"
   ]
  },
  {
   "cell_type": "code",
   "execution_count": 154,
   "id": "5a093e50",
   "metadata": {},
   "outputs": [
    {
     "name": "stdout",
     "output_type": "stream",
     "text": [
      "12\n",
      "Epoch 1/10\n",
      "569/569 [==============================] - 83s 142ms/step - loss: 0.4715 - accuracy: 0.8506 - val_loss: 0.0730 - val_accuracy: 0.9781\n",
      "Epoch 2/10\n",
      "569/569 [==============================] - 80s 141ms/step - loss: 0.1013 - accuracy: 0.9709 - val_loss: 0.0541 - val_accuracy: 0.9837\n",
      "Epoch 3/10\n",
      "569/569 [==============================] - 80s 141ms/step - loss: 0.0724 - accuracy: 0.9789 - val_loss: 0.0484 - val_accuracy: 0.9839\n",
      "Epoch 4/10\n",
      "569/569 [==============================] - 81s 142ms/step - loss: 0.0601 - accuracy: 0.9825 - val_loss: 0.0469 - val_accuracy: 0.9861\n",
      "Epoch 5/10\n",
      "569/569 [==============================] - 81s 142ms/step - loss: 0.0514 - accuracy: 0.9845 - val_loss: 0.0473 - val_accuracy: 0.9861\n",
      "Epoch 6/10\n",
      "569/569 [==============================] - 80s 141ms/step - loss: 0.0498 - accuracy: 0.9864 - val_loss: 0.0530 - val_accuracy: 0.9866\n",
      "Epoch 7/10\n",
      "569/569 [==============================] - 80s 141ms/step - loss: 0.0556 - accuracy: 0.9845 - val_loss: 0.0512 - val_accuracy: 0.9861\n",
      "Epoch 8/10\n",
      "569/569 [==============================] - 80s 141ms/step - loss: 0.0537 - accuracy: 0.9839 - val_loss: 0.0478 - val_accuracy: 0.9859\n",
      "Epoch 9/10\n",
      "569/569 [==============================] - 80s 141ms/step - loss: 0.0585 - accuracy: 0.9847 - val_loss: 0.0477 - val_accuracy: 0.9860\n",
      "Epoch 10/10\n",
      "569/569 [==============================] - 81s 142ms/step - loss: 0.0598 - accuracy: 0.9843 - val_loss: 0.0500 - val_accuracy: 0.9858\n",
      "Duration: 0:13:26.505995\n"
     ]
    }
   ],
   "source": [
    "print(n)\n",
    "models_random[n].fit_model(image_sets_random[n],label_sets_random[n],x_val,y_val,epochs=10,batch_size = 64)\n",
    "n = n+1"
   ]
  },
  {
   "cell_type": "code",
   "execution_count": 155,
   "id": "7d59f257",
   "metadata": {},
   "outputs": [
    {
     "name": "stdout",
     "output_type": "stream",
     "text": [
      "13\n",
      "Epoch 1/10\n",
      "613/613 [==============================] - 90s 142ms/step - loss: 0.4949 - accuracy: 0.8457 - val_loss: 0.0734 - val_accuracy: 0.9771\n",
      "Epoch 2/10\n",
      "613/613 [==============================] - 87s 141ms/step - loss: 0.0999 - accuracy: 0.9720 - val_loss: 0.0512 - val_accuracy: 0.9836\n",
      "Epoch 3/10\n",
      "613/613 [==============================] - 86s 140ms/step - loss: 0.0738 - accuracy: 0.9789 - val_loss: 0.0527 - val_accuracy: 0.9833\n",
      "Epoch 4/10\n",
      "613/613 [==============================] - 86s 141ms/step - loss: 0.0615 - accuracy: 0.9825 - val_loss: 0.0516 - val_accuracy: 0.9854\n",
      "Epoch 5/10\n",
      "613/613 [==============================] - 87s 141ms/step - loss: 0.0583 - accuracy: 0.9829 - val_loss: 0.0490 - val_accuracy: 0.9851\n",
      "Epoch 6/10\n",
      "613/613 [==============================] - 86s 141ms/step - loss: 0.0529 - accuracy: 0.9854 - val_loss: 0.0490 - val_accuracy: 0.9856\n",
      "Epoch 7/10\n",
      "613/613 [==============================] - 86s 141ms/step - loss: 0.0527 - accuracy: 0.9858 - val_loss: 0.0465 - val_accuracy: 0.9859\n",
      "Epoch 8/10\n",
      "613/613 [==============================] - 87s 141ms/step - loss: 0.0537 - accuracy: 0.9859 - val_loss: 0.0498 - val_accuracy: 0.9865\n",
      "Epoch 9/10\n",
      "613/613 [==============================] - 87s 141ms/step - loss: 0.0551 - accuracy: 0.9849 - val_loss: 0.0579 - val_accuracy: 0.9859\n",
      "Epoch 10/10\n",
      "613/613 [==============================] - 87s 141ms/step - loss: 0.0589 - accuracy: 0.9845 - val_loss: 0.0575 - val_accuracy: 0.9858\n",
      "Duration: 0:14:28.062704\n"
     ]
    }
   ],
   "source": [
    "print(n)\n",
    "models_random[n].fit_model(image_sets_random[n],label_sets_random[n],x_val,y_val,epochs=10,batch_size = 64)\n",
    "n = n+1"
   ]
  },
  {
   "cell_type": "code",
   "execution_count": 156,
   "id": "4b04c74e",
   "metadata": {},
   "outputs": [
    {
     "name": "stdout",
     "output_type": "stream",
     "text": [
      "14\n",
      "Epoch 1/10\n",
      "657/657 [==============================] - 95s 142ms/step - loss: 0.4475 - accuracy: 0.8590 - val_loss: 0.0641 - val_accuracy: 0.9799\n",
      "Epoch 2/10\n",
      "657/657 [==============================] - 93s 141ms/step - loss: 0.1004 - accuracy: 0.9702 - val_loss: 0.0540 - val_accuracy: 0.9840\n",
      "Epoch 3/10\n",
      "657/657 [==============================] - 92s 140ms/step - loss: 0.0710 - accuracy: 0.9802 - val_loss: 0.0549 - val_accuracy: 0.9834\n",
      "Epoch 4/10\n",
      "657/657 [==============================] - 92s 140ms/step - loss: 0.0616 - accuracy: 0.9823 - val_loss: 0.0589 - val_accuracy: 0.9822\n",
      "Epoch 5/10\n",
      "657/657 [==============================] - 92s 141ms/step - loss: 0.0606 - accuracy: 0.9825 - val_loss: 0.0556 - val_accuracy: 0.9832\n",
      "Epoch 6/10\n",
      "657/657 [==============================] - 92s 141ms/step - loss: 0.0640 - accuracy: 0.9821 - val_loss: 0.0618 - val_accuracy: 0.9840\n",
      "Epoch 7/10\n",
      "657/657 [==============================] - 92s 140ms/step - loss: 0.0648 - accuracy: 0.9824 - val_loss: 0.0490 - val_accuracy: 0.9848\n",
      "Epoch 8/10\n",
      "657/657 [==============================] - 93s 141ms/step - loss: 0.0630 - accuracy: 0.9817 - val_loss: 0.0563 - val_accuracy: 0.9846\n",
      "Epoch 9/10\n",
      "657/657 [==============================] - 92s 141ms/step - loss: 0.0704 - accuracy: 0.9814 - val_loss: 0.0643 - val_accuracy: 0.9823\n",
      "Epoch 10/10\n",
      "657/657 [==============================] - 93s 141ms/step - loss: 0.0648 - accuracy: 0.9827 - val_loss: 0.0611 - val_accuracy: 0.9845\n",
      "Duration: 0:15:26.801529\n"
     ]
    }
   ],
   "source": [
    "print(n)#\n",
    "models_random[n].fit_model(image_sets_random[n],label_sets_random[n],x_val,y_val,epochs=10,batch_size = 64)\n",
    "n = n+1"
   ]
  },
  {
   "cell_type": "code",
   "execution_count": 157,
   "id": "230fb39c",
   "metadata": {},
   "outputs": [
    {
     "name": "stdout",
     "output_type": "stream",
     "text": [
      "15\n",
      "Epoch 1/10\n",
      "700/700 [==============================] - 99s 138ms/step - loss: 0.4556 - accuracy: 0.8535 - val_loss: 0.0655 - val_accuracy: 0.9796\n",
      "Epoch 2/10\n",
      "700/700 [==============================] - 96s 137ms/step - loss: 0.0960 - accuracy: 0.9721 - val_loss: 0.0496 - val_accuracy: 0.9839\n",
      "Epoch 3/10\n",
      "700/700 [==============================] - 96s 137ms/step - loss: 0.0712 - accuracy: 0.9790 - val_loss: 0.0493 - val_accuracy: 0.9841\n",
      "Epoch 4/10\n",
      "700/700 [==============================] - 96s 137ms/step - loss: 0.0600 - accuracy: 0.9817 - val_loss: 0.0513 - val_accuracy: 0.9841\n",
      "Epoch 5/10\n",
      "700/700 [==============================] - 96s 137ms/step - loss: 0.0549 - accuracy: 0.9835 - val_loss: 0.0519 - val_accuracy: 0.9854\n",
      "Epoch 6/10\n",
      "700/700 [==============================] - 96s 137ms/step - loss: 0.0553 - accuracy: 0.9838 - val_loss: 0.0504 - val_accuracy: 0.9852\n",
      "Epoch 7/10\n",
      "700/700 [==============================] - 96s 137ms/step - loss: 0.0575 - accuracy: 0.9842 - val_loss: 0.0522 - val_accuracy: 0.9849\n",
      "Epoch 8/10\n",
      "700/700 [==============================] - 97s 138ms/step - loss: 0.0570 - accuracy: 0.9838 - val_loss: 0.0633 - val_accuracy: 0.9844\n",
      "Epoch 9/10\n",
      "700/700 [==============================] - 97s 138ms/step - loss: 0.0649 - accuracy: 0.9830 - val_loss: 0.0495 - val_accuracy: 0.9858\n",
      "Epoch 10/10\n",
      "700/700 [==============================] - 97s 139ms/step - loss: 0.0646 - accuracy: 0.9836 - val_loss: 0.0588 - val_accuracy: 0.9850\n",
      "Duration: 0:16:05.763561\n"
     ]
    }
   ],
   "source": [
    "print(n)\n",
    "models_random[n].fit_model(image_sets_random[n],label_sets_random[n],x_val,y_val,epochs=10,batch_size = 64)\n",
    "n = n+1"
   ]
  },
  {
   "cell_type": "code",
   "execution_count": 158,
   "id": "7c52ef78",
   "metadata": {},
   "outputs": [
    {
     "name": "stdout",
     "output_type": "stream",
     "text": [
      "16\n",
      "Epoch 1/10\n",
      "744/744 [==============================] - 107s 141ms/step - loss: 0.4142 - accuracy: 0.8694 - val_loss: 0.0663 - val_accuracy: 0.9781\n",
      "Epoch 2/10\n",
      "744/744 [==============================] - 104s 140ms/step - loss: 0.0923 - accuracy: 0.9741 - val_loss: 0.0553 - val_accuracy: 0.9831\n",
      "Epoch 3/10\n",
      "744/744 [==============================] - 104s 140ms/step - loss: 0.0660 - accuracy: 0.9806 - val_loss: 0.0491 - val_accuracy: 0.9851\n",
      "Epoch 4/10\n",
      "744/744 [==============================] - 104s 140ms/step - loss: 0.0616 - accuracy: 0.9832 - val_loss: 0.0483 - val_accuracy: 0.9856\n",
      "Epoch 5/10\n",
      "744/744 [==============================] - 104s 140ms/step - loss: 0.0669 - accuracy: 0.9820 - val_loss: 0.0524 - val_accuracy: 0.9856\n",
      "Epoch 6/10\n",
      "744/744 [==============================] - 104s 140ms/step - loss: 0.0595 - accuracy: 0.9846 - val_loss: 0.0932 - val_accuracy: 0.9845\n",
      "Epoch 7/10\n",
      "744/744 [==============================] - 104s 140ms/step - loss: 0.0701 - accuracy: 0.9820 - val_loss: 0.0558 - val_accuracy: 0.9840\n",
      "Epoch 8/10\n",
      "744/744 [==============================] - 105s 141ms/step - loss: 0.0704 - accuracy: 0.9826 - val_loss: 0.0596 - val_accuracy: 0.9858\n",
      "Epoch 9/10\n",
      "744/744 [==============================] - 104s 140ms/step - loss: 0.0742 - accuracy: 0.9808 - val_loss: 0.0508 - val_accuracy: 0.9867\n",
      "Epoch 10/10\n",
      "744/744 [==============================] - 104s 140ms/step - loss: 0.0837 - accuracy: 0.9806 - val_loss: 0.0869 - val_accuracy: 0.9836\n",
      "Duration: 0:17:24.916426\n"
     ]
    }
   ],
   "source": [
    "print(n)\n",
    "models_random[n].fit_model(image_sets_random[n],label_sets_random[n],x_val,y_val,epochs=10,batch_size = 64)\n",
    "n = n+1"
   ]
  },
  {
   "cell_type": "code",
   "execution_count": 159,
   "id": "470b8507",
   "metadata": {},
   "outputs": [],
   "source": [
    "time.sleep(400)"
   ]
  },
  {
   "cell_type": "code",
   "execution_count": 160,
   "id": "9f44f5c2",
   "metadata": {},
   "outputs": [
    {
     "name": "stdout",
     "output_type": "stream",
     "text": [
      "17\n",
      "Epoch 1/10\n",
      "788/788 [==============================] - 111s 138ms/step - loss: 0.4078 - accuracy: 0.8723 - val_loss: 0.0644 - val_accuracy: 0.9796\n",
      "Epoch 2/10\n",
      "788/788 [==============================] - 109s 138ms/step - loss: 0.0941 - accuracy: 0.9739 - val_loss: 0.0613 - val_accuracy: 0.9811\n",
      "Epoch 3/10\n",
      "788/788 [==============================] - 109s 138ms/step - loss: 0.0700 - accuracy: 0.9798 - val_loss: 0.0529 - val_accuracy: 0.9846\n",
      "Epoch 4/10\n",
      "788/788 [==============================] - 109s 138ms/step - loss: 0.0554 - accuracy: 0.9840 - val_loss: 0.0547 - val_accuracy: 0.9842\n",
      "Epoch 5/10\n",
      "788/788 [==============================] - 109s 139ms/step - loss: 0.0539 - accuracy: 0.9846 - val_loss: 0.0459 - val_accuracy: 0.9873\n",
      "Epoch 6/10\n",
      "788/788 [==============================] - 111s 140ms/step - loss: 0.0543 - accuracy: 0.9852 - val_loss: 0.0458 - val_accuracy: 0.9870\n",
      "Epoch 7/10\n",
      "788/788 [==============================] - 111s 141ms/step - loss: 0.0534 - accuracy: 0.9851 - val_loss: 0.0522 - val_accuracy: 0.9864\n",
      "Epoch 8/10\n",
      "788/788 [==============================] - 110s 140ms/step - loss: 0.0636 - accuracy: 0.9836 - val_loss: 0.0456 - val_accuracy: 0.9858\n",
      "Epoch 9/10\n",
      "788/788 [==============================] - 111s 140ms/step - loss: 0.0662 - accuracy: 0.9822 - val_loss: 0.0550 - val_accuracy: 0.9861\n",
      "Epoch 10/10\n",
      "788/788 [==============================] - 111s 140ms/step - loss: 0.0638 - accuracy: 0.9833 - val_loss: 0.8165 - val_accuracy: 0.9302\n",
      "Duration: 0:18:19.595260\n"
     ]
    }
   ],
   "source": [
    "print(n)\n",
    "models_random[n].fit_model(image_sets_random[n],label_sets_random[n],x_val,y_val,epochs=10,batch_size = 64)\n",
    "n = n+1"
   ]
  },
  {
   "cell_type": "code",
   "execution_count": 161,
   "id": "66419a3a",
   "metadata": {},
   "outputs": [],
   "source": [
    "time.sleep(400)"
   ]
  },
  {
   "cell_type": "code",
   "execution_count": 162,
   "id": "d61ae9f8",
   "metadata": {},
   "outputs": [
    {
     "name": "stdout",
     "output_type": "stream",
     "text": [
      "18\n",
      "Epoch 1/10\n",
      "832/832 [==============================] - 118s 138ms/step - loss: 0.3671 - accuracy: 0.8842 - val_loss: 0.0583 - val_accuracy: 0.9821\n",
      "Epoch 2/10\n",
      "832/832 [==============================] - 116s 140ms/step - loss: 0.0819 - accuracy: 0.9763 - val_loss: 0.0476 - val_accuracy: 0.9858\n",
      "Epoch 3/10\n",
      "832/832 [==============================] - 117s 140ms/step - loss: 0.0598 - accuracy: 0.9830 - val_loss: 0.0446 - val_accuracy: 0.9870\n",
      "Epoch 4/10\n",
      "832/832 [==============================] - 116s 140ms/step - loss: 0.0573 - accuracy: 0.9835 - val_loss: 0.0474 - val_accuracy: 0.9859\n",
      "Epoch 5/10\n",
      "832/832 [==============================] - 116s 140ms/step - loss: 0.0560 - accuracy: 0.9843 - val_loss: 0.0505 - val_accuracy: 0.9862\n",
      "Epoch 6/10\n",
      "832/832 [==============================] - 117s 140ms/step - loss: 0.0574 - accuracy: 0.9843 - val_loss: 0.0514 - val_accuracy: 0.9863\n",
      "Epoch 7/10\n",
      "832/832 [==============================] - 118s 142ms/step - loss: 0.0628 - accuracy: 0.9839 - val_loss: 0.0465 - val_accuracy: 0.9873\n",
      "Epoch 8/10\n",
      "832/832 [==============================] - 119s 143ms/step - loss: 0.0624 - accuracy: 0.9829 - val_loss: 0.0454 - val_accuracy: 0.9863\n",
      "Epoch 9/10\n",
      "832/832 [==============================] - 119s 143ms/step - loss: 0.0659 - accuracy: 0.9821 - val_loss: 0.0604 - val_accuracy: 0.9856\n",
      "Epoch 10/10\n",
      "832/832 [==============================] - 119s 143ms/step - loss: 0.0706 - accuracy: 0.9825 - val_loss: 0.0481 - val_accuracy: 0.9866\n",
      "Duration: 0:19:34.405890\n"
     ]
    }
   ],
   "source": [
    "print(n)\n",
    "models_random[n].fit_model(image_sets_random[n],label_sets_random[n],x_val,y_val,epochs=10,batch_size = 64)\n",
    "n = n+1"
   ]
  },
  {
   "cell_type": "code",
   "execution_count": null,
   "id": "8d844da6",
   "metadata": {},
   "outputs": [],
   "source": [
    "time.sleep(400)"
   ]
  },
  {
   "cell_type": "code",
   "execution_count": 163,
   "id": "486d063b",
   "metadata": {},
   "outputs": [
    {
     "name": "stdout",
     "output_type": "stream",
     "text": [
      "19\n",
      "Epoch 1/10\n",
      "875/875 [==============================] - 129s 144ms/step - loss: 0.3841 - accuracy: 0.8814 - val_loss: 0.0665 - val_accuracy: 0.9803\n",
      "Epoch 2/10\n",
      "875/875 [==============================] - 125s 143ms/step - loss: 0.0854 - accuracy: 0.9762 - val_loss: 0.0535 - val_accuracy: 0.9831\n",
      "Epoch 3/10\n",
      "875/875 [==============================] - 126s 144ms/step - loss: 0.0694 - accuracy: 0.9810 - val_loss: 0.0487 - val_accuracy: 0.9853\n",
      "Epoch 4/10\n",
      "875/875 [==============================] - 125s 143ms/step - loss: 0.0665 - accuracy: 0.9812 - val_loss: 0.0524 - val_accuracy: 0.9855\n",
      "Epoch 5/10\n",
      "875/875 [==============================] - 125s 142ms/step - loss: 0.0744 - accuracy: 0.9801 - val_loss: 0.0530 - val_accuracy: 0.9847\n",
      "Epoch 6/10\n",
      "875/875 [==============================] - 125s 143ms/step - loss: 0.0714 - accuracy: 0.9809 - val_loss: 0.0594 - val_accuracy: 0.9832\n",
      "Epoch 7/10\n",
      "875/875 [==============================] - 125s 143ms/step - loss: 0.0703 - accuracy: 0.9815 - val_loss: 0.0625 - val_accuracy: 0.9824\n",
      "Epoch 8/10\n",
      "875/875 [==============================] - 125s 142ms/step - loss: 0.0706 - accuracy: 0.9811 - val_loss: 0.0525 - val_accuracy: 0.9851\n",
      "Epoch 9/10\n",
      "875/875 [==============================] - 125s 142ms/step - loss: 0.0712 - accuracy: 0.9810 - val_loss: 0.0512 - val_accuracy: 0.9846\n",
      "Epoch 10/10\n",
      "875/875 [==============================] - 125s 142ms/step - loss: 0.0755 - accuracy: 0.9809 - val_loss: 0.0628 - val_accuracy: 0.9846\n",
      "Duration: 0:20:53.487275\n"
     ]
    }
   ],
   "source": [
    "print(n)#\n",
    "models_random[n].fit_model(image_sets_random[n],label_sets_random[n],x_val,y_val,epochs=10,batch_size = 64)\n",
    "n = n+1"
   ]
  },
  {
   "cell_type": "code",
   "execution_count": 164,
   "id": "24dc2667",
   "metadata": {},
   "outputs": [
    {
     "name": "stdout",
     "output_type": "stream",
     "text": [
      "INFO:tensorflow:Assets written to: D:/models/aug_22/mnist/C1/mnist_model_c1_aug_random_e1_0\\assets\n",
      "Model has been saved\n",
      "INFO:tensorflow:Assets written to: D:/models/aug_22/mnist/C1/mnist_model_c1_aug_random_e1_1\\assets\n",
      "Model has been saved\n",
      "INFO:tensorflow:Assets written to: D:/models/aug_22/mnist/C1/mnist_model_c1_aug_random_e1_2\\assets\n",
      "Model has been saved\n",
      "INFO:tensorflow:Assets written to: D:/models/aug_22/mnist/C1/mnist_model_c1_aug_random_e1_3\\assets\n",
      "Model has been saved\n",
      "INFO:tensorflow:Assets written to: D:/models/aug_22/mnist/C1/mnist_model_c1_aug_random_e1_4\\assets\n",
      "Model has been saved\n",
      "INFO:tensorflow:Assets written to: D:/models/aug_22/mnist/C1/mnist_model_c1_aug_random_e1_5\\assets\n",
      "Model has been saved\n",
      "INFO:tensorflow:Assets written to: D:/models/aug_22/mnist/C1/mnist_model_c1_aug_random_e1_6\\assets\n",
      "Model has been saved\n",
      "INFO:tensorflow:Assets written to: D:/models/aug_22/mnist/C1/mnist_model_c1_aug_random_e1_7\\assets\n",
      "Model has been saved\n",
      "INFO:tensorflow:Assets written to: D:/models/aug_22/mnist/C1/mnist_model_c1_aug_random_e1_8\\assets\n",
      "Model has been saved\n",
      "INFO:tensorflow:Assets written to: D:/models/aug_22/mnist/C1/mnist_model_c1_aug_random_e1_9\\assets\n",
      "Model has been saved\n",
      "INFO:tensorflow:Assets written to: D:/models/aug_22/mnist/C1/mnist_model_c1_aug_random_e1_10\\assets\n",
      "Model has been saved\n",
      "INFO:tensorflow:Assets written to: D:/models/aug_22/mnist/C1/mnist_model_c1_aug_random_e1_11\\assets\n",
      "Model has been saved\n",
      "INFO:tensorflow:Assets written to: D:/models/aug_22/mnist/C1/mnist_model_c1_aug_random_e1_12\\assets\n",
      "Model has been saved\n",
      "INFO:tensorflow:Assets written to: D:/models/aug_22/mnist/C1/mnist_model_c1_aug_random_e1_13\\assets\n",
      "Model has been saved\n",
      "INFO:tensorflow:Assets written to: D:/models/aug_22/mnist/C1/mnist_model_c1_aug_random_e1_14\\assets\n",
      "Model has been saved\n",
      "INFO:tensorflow:Assets written to: D:/models/aug_22/mnist/C1/mnist_model_c1_aug_random_e1_15\\assets\n",
      "Model has been saved\n",
      "INFO:tensorflow:Assets written to: D:/models/aug_22/mnist/C1/mnist_model_c1_aug_random_e1_16\\assets\n",
      "Model has been saved\n",
      "INFO:tensorflow:Assets written to: D:/models/aug_22/mnist/C1/mnist_model_c1_aug_random_e1_17\\assets\n",
      "Model has been saved\n",
      "INFO:tensorflow:Assets written to: D:/models/aug_22/mnist/C1/mnist_model_c1_aug_random_e1_18\\assets\n",
      "Model has been saved\n",
      "INFO:tensorflow:Assets written to: D:/models/aug_22/mnist/C1/mnist_model_c1_aug_random_e1_19\\assets\n",
      "Model has been saved\n"
     ]
    }
   ],
   "source": [
    "new_model_random_dir  = \"D:/models/aug_22/\"+dataset+\"/C1/\"+dataset+\"_model_c1_aug_random_e1\"\n",
    "\n",
    "i=0\n",
    "\n",
    "for model in models_random:\n",
    "    model.save(new_model_random_dir+\"_\"+str(i))\n",
    "    i+=1"
   ]
  },
  {
   "cell_type": "code",
   "execution_count": null,
   "id": "4d243087",
   "metadata": {},
   "outputs": [],
   "source": [
    "loading = False\n",
    "\n",
    "models_random = []\n",
    "\n",
    "if loading:\n",
    "    for i in range(20):\n",
    "        model_random_dir = \"D:/models/aug_22/gtsrb/C1/gtsrb_model_c1_aug_random_e1_\"+str(i)\n",
    "        print(model_random_dir)\n",
    "        model =utils.My_model('gtsrb',True,model_random_dir)\n",
    "        model.model.compile(loss= 'categorical_crossentropy', optimizer = 'rmsprop', metrics = ['accuracy',tf.keras.metrics.Precision(), tf.keras.metrics.Recall()])\n",
    "        models_random.append(model)\n",
    "       "
   ]
  },
  {
   "cell_type": "code",
   "execution_count": 165,
   "id": "85078e3a",
   "metadata": {},
   "outputs": [],
   "source": [
    "try:\n",
    "    del random_indexes\n",
    "    del top_images_by_random\n",
    "    del top_labels_by_random\n",
    "    del image_sets_random\n",
    "    del label_sets_random\n",
    "    del models_random\n",
    "except:\n",
    "    print(\"Error\")"
   ]
  },
  {
   "cell_type": "code",
   "execution_count": null,
   "id": "cae6021e",
   "metadata": {},
   "outputs": [],
   "source": []
  },
  {
   "cell_type": "code",
   "execution_count": 166,
   "id": "5a4c9d66",
   "metadata": {},
   "outputs": [
    {
     "data": {
      "text/plain": [
       "73342"
      ]
     },
     "execution_count": 166,
     "metadata": {},
     "output_type": "execute_result"
    }
   ],
   "source": [
    "gc.collect()"
   ]
  },
  {
   "cell_type": "markdown",
   "id": "58a54b05",
   "metadata": {},
   "source": [
    "## Training guided by NC"
   ]
  },
  {
   "cell_type": "code",
   "execution_count": 167,
   "id": "e53f2bcb",
   "metadata": {},
   "outputs": [],
   "source": [
    "# NC\n",
    "nc_values = []\n",
    "for i in range(1,20):\n",
    "    #save_dir = \"C:/Users/fjdur/Desktop/upc/project_notebooks/github_project/DL_notebooks/NC_values/nc_values_\"+str(i)+\".npy\"\n",
    "    save_dir = \"C:/Users/fjdur/Documents/upc-july/data/\"+dataset+\"/\"+dataset+\"_nc_values_\"+str(i)+\".npy\"\n",
    "\n",
    "    #print(save_dir_rand)\n",
    "    tmp_values = np.load(save_dir)\n",
    "    #print(tmp_values.shape)\n",
    "    nc_values = np.append(nc_values,tmp_values)"
   ]
  },
  {
   "cell_type": "code",
   "execution_count": 168,
   "id": "637de522",
   "metadata": {},
   "outputs": [
    {
     "data": {
      "text/plain": [
       "(55998,)"
      ]
     },
     "execution_count": 168,
     "metadata": {},
     "output_type": "execute_result"
    }
   ],
   "source": [
    "nc_values.shape"
   ]
  },
  {
   "cell_type": "code",
   "execution_count": 169,
   "id": "024f3314",
   "metadata": {},
   "outputs": [],
   "source": [
    "\n",
    "top_images_by_nc = utils.get_x_of_indexes(list(np.flip(np.argsort(nc_values))),x_train_and_adversary)\n",
    "top_labels_by_nc = utils.get_x_of_indexes(list(np.flip(np.argsort(nc_values))),y_train_and_adversary)\n"
   ]
  },
  {
   "cell_type": "code",
   "execution_count": 170,
   "id": "7490c255",
   "metadata": {},
   "outputs": [
    {
     "name": "stdout",
     "output_type": "stream",
     "text": [
      "0 :\n",
      "0  ->  2800\n",
      "2800\n",
      "1 :\n",
      "0  ->  5600\n",
      "5600\n",
      "2 :\n",
      "0  ->  8400\n",
      "8400\n",
      "3 :\n",
      "0  ->  11200\n",
      "11200\n",
      "4 :\n",
      "0  ->  14000\n",
      "14000\n",
      "5 :\n",
      "0  ->  16800\n",
      "16800\n",
      "6 :\n",
      "0  ->  19600\n",
      "19600\n",
      "7 :\n",
      "0  ->  22400\n",
      "22400\n",
      "8 :\n",
      "0  ->  25200\n",
      "25200\n",
      "9 :\n",
      "0  ->  28000\n",
      "28000\n",
      "10 :\n",
      "0  ->  30800\n",
      "30800\n",
      "11 :\n",
      "0  ->  33600\n",
      "33600\n",
      "12 :\n",
      "0  ->  36400\n",
      "36400\n",
      "13 :\n",
      "0  ->  39200\n",
      "39200\n",
      "14 :\n",
      "0  ->  42000\n",
      "42000\n",
      "15 :\n",
      "0  ->  44800\n",
      "44800\n",
      "16 :\n",
      "0  ->  47600\n",
      "47600\n",
      "17 :\n",
      "0  ->  50400\n",
      "50400\n",
      "18 :\n",
      "0  ->  53200\n",
      "53200\n",
      "19 :\n",
      "Last\n",
      "0  ->  58798\n",
      "55998\n"
     ]
    }
   ],
   "source": [
    "m = n_data_points\n",
    "n = 0\n",
    "image_sets_nc = []\n",
    "label_sets_nc = []\n",
    "\n",
    "\n",
    "for i in range((len(top_images_by_nc)//m)+1):\n",
    "    print(i,\":\")\n",
    "    if (i+1 >= ((len(top_images_by_nc)//m)+1)):\n",
    "        print(\"Last\")\n",
    "        print(0,\" -> \",n+m+(len(top_images_by_nc)%m))\n",
    "        top_images_by_nc_n = np.array(top_images_by_nc[:n+m+(len(top_images_by_nc)%m)])\n",
    "        top_labels_by_nc_n = np.array(top_labels_by_nc[:n+m+(len(top_images_by_nc)%m)])\n",
    "    else:\n",
    "        print(0,\" -> \",m+n)\n",
    "        top_images_by_nc_n = np.array(top_images_by_nc[:n+m])\n",
    "        top_labels_by_nc_n = np.array(top_labels_by_nc[:n+m])\n",
    "    image_sets_nc.append(top_images_by_nc_n)\n",
    "    label_sets_nc.append(top_labels_by_nc_n)\n",
    "    print(len(top_images_by_nc_n))\n",
    "    n += m\n",
    "\n",
    "\n"
   ]
  },
  {
   "cell_type": "code",
   "execution_count": 171,
   "id": "0a65e301",
   "metadata": {},
   "outputs": [
    {
     "name": "stdout",
     "output_type": "stream",
     "text": [
      "C:/Users/fjdur/Documents/upc-july/models/models2\n",
      "0 :\n",
      "Model compiled\n",
      "1 :\n",
      "Model compiled\n",
      "2 :\n",
      "Model compiled\n",
      "3 :\n",
      "Model compiled\n",
      "4 :\n",
      "Model compiled\n",
      "5 :\n",
      "Model compiled\n",
      "6 :\n",
      "Model compiled\n",
      "7 :\n",
      "Model compiled\n",
      "8 :\n",
      "Model compiled\n",
      "9 :\n",
      "Model compiled\n",
      "10 :\n",
      "Model compiled\n",
      "11 :\n",
      "Model compiled\n",
      "12 :\n",
      "Model compiled\n",
      "13 :\n",
      "Model compiled\n",
      "14 :\n",
      "Model compiled\n",
      "15 :\n",
      "Model compiled\n",
      "16 :\n",
      "Model compiled\n",
      "17 :\n",
      "Model compiled\n",
      "18 :\n",
      "Model compiled\n",
      "19 :\n",
      "Model compiled\n"
     ]
    }
   ],
   "source": [
    "print(model_dir)\n",
    "\n",
    "models_nc = []\n",
    "for i in range(len(label_sets_nc)):\n",
    "    print(i,\":\")\n",
    "    model = utils.My_model(dataset,False,None)\n",
    "    model.compile_model()\n",
    "    models_nc.append(model)\n"
   ]
  },
  {
   "cell_type": "code",
   "execution_count": 172,
   "id": "df0b6c8f",
   "metadata": {},
   "outputs": [
    {
     "name": "stdout",
     "output_type": "stream",
     "text": [
      "0\n",
      "Epoch 1/10\n",
      "44/44 [==============================] - 13s 238ms/step - loss: 1.1655 - accuracy: 0.6066 - val_loss: 2.2602 - val_accuracy: 0.4812\n",
      "Epoch 2/10\n",
      "44/44 [==============================] - 10s 228ms/step - loss: 0.3319 - accuracy: 0.8947 - val_loss: 2.1262 - val_accuracy: 0.5360\n",
      "Epoch 3/10\n",
      "44/44 [==============================] - 10s 228ms/step - loss: 0.2003 - accuracy: 0.9400 - val_loss: 2.2465 - val_accuracy: 0.5586\n",
      "Epoch 4/10\n",
      "44/44 [==============================] - 11s 245ms/step - loss: 0.1322 - accuracy: 0.9605 - val_loss: 2.4166 - val_accuracy: 0.5583\n",
      "Epoch 5/10\n",
      "44/44 [==============================] - 11s 243ms/step - loss: 0.1117 - accuracy: 0.9652 - val_loss: 2.6972 - val_accuracy: 0.5679\n",
      "Epoch 6/10\n",
      "44/44 [==============================] - 11s 242ms/step - loss: 0.0839 - accuracy: 0.9740 - val_loss: 2.5887 - val_accuracy: 0.5934\n",
      "Epoch 7/10\n",
      "44/44 [==============================] - 11s 242ms/step - loss: 0.0590 - accuracy: 0.9840 - val_loss: 2.6882 - val_accuracy: 0.5958\n",
      "Epoch 8/10\n",
      "44/44 [==============================] - 11s 243ms/step - loss: 0.0445 - accuracy: 0.9836 - val_loss: 2.9331 - val_accuracy: 0.6128\n",
      "Epoch 9/10\n",
      "44/44 [==============================] - 11s 243ms/step - loss: 0.0458 - accuracy: 0.9812 - val_loss: 3.0810 - val_accuracy: 0.6222\n",
      "Epoch 10/10\n",
      "44/44 [==============================] - 11s 243ms/step - loss: 0.0335 - accuracy: 0.9900 - val_loss: 3.2244 - val_accuracy: 0.6094\n",
      "Duration: 0:01:46.481401\n"
     ]
    }
   ],
   "source": [
    "n=0\n",
    "print(n)\n",
    "\n",
    "models_nc[n].fit_model(image_sets_nc[n],label_sets_nc[n],x_val,y_val,epochs=10,batch_size = 64)\n",
    "n = n+1"
   ]
  },
  {
   "cell_type": "code",
   "execution_count": 173,
   "id": "0f4f3f4b",
   "metadata": {},
   "outputs": [
    {
     "name": "stdout",
     "output_type": "stream",
     "text": [
      "1\n",
      "Epoch 1/10\n",
      "88/88 [==============================] - 18s 177ms/step - loss: 0.9575 - accuracy: 0.6864 - val_loss: 2.0684 - val_accuracy: 0.5489\n",
      "Epoch 2/10\n",
      "88/88 [==============================] - 16s 179ms/step - loss: 0.2074 - accuracy: 0.9423 - val_loss: 2.1342 - val_accuracy: 0.5822\n",
      "Epoch 3/10\n",
      "88/88 [==============================] - 16s 178ms/step - loss: 0.1405 - accuracy: 0.9583 - val_loss: 1.9469 - val_accuracy: 0.6512\n",
      "Epoch 4/10\n",
      "88/88 [==============================] - 16s 179ms/step - loss: 0.0973 - accuracy: 0.9732 - val_loss: 2.2406 - val_accuracy: 0.6489\n",
      "Epoch 5/10\n",
      "88/88 [==============================] - 16s 177ms/step - loss: 0.0821 - accuracy: 0.9760 - val_loss: 2.3418 - val_accuracy: 0.6514\n",
      "Epoch 6/10\n",
      "88/88 [==============================] - 16s 178ms/step - loss: 0.0699 - accuracy: 0.9784 - val_loss: 2.0365 - val_accuracy: 0.6803\n",
      "Epoch 7/10\n",
      "88/88 [==============================] - 16s 177ms/step - loss: 0.0502 - accuracy: 0.9841 - val_loss: 1.9000 - val_accuracy: 0.6657\n",
      "Epoch 8/10\n",
      "88/88 [==============================] - 16s 178ms/step - loss: 0.0407 - accuracy: 0.9858 - val_loss: 2.4124 - val_accuracy: 0.7005\n",
      "Epoch 9/10\n",
      "88/88 [==============================] - 16s 178ms/step - loss: 0.0317 - accuracy: 0.9887 - val_loss: 2.8299 - val_accuracy: 0.7003\n",
      "Epoch 10/10\n",
      "88/88 [==============================] - 16s 178ms/step - loss: 0.0308 - accuracy: 0.9903 - val_loss: 2.2760 - val_accuracy: 0.7275\n",
      "Duration: 0:02:38.236559\n"
     ]
    }
   ],
   "source": [
    "print(n)\n",
    "models_nc[n].fit_model(image_sets_nc[n],label_sets_nc[n],x_val,y_val,epochs=10,batch_size = 64)\n",
    "n = n+1"
   ]
  },
  {
   "cell_type": "code",
   "execution_count": 174,
   "id": "5f72b7a3",
   "metadata": {},
   "outputs": [
    {
     "name": "stdout",
     "output_type": "stream",
     "text": [
      "2\n",
      "Epoch 1/10\n",
      "132/132 [==============================] - 23s 159ms/step - loss: 0.7951 - accuracy: 0.7392 - val_loss: 2.0773 - val_accuracy: 0.6156\n",
      "Epoch 2/10\n",
      "132/132 [==============================] - 21s 158ms/step - loss: 0.1430 - accuracy: 0.9569 - val_loss: 2.0783 - val_accuracy: 0.6960\n",
      "Epoch 3/10\n",
      "132/132 [==============================] - 21s 158ms/step - loss: 0.0989 - accuracy: 0.9693 - val_loss: 2.6532 - val_accuracy: 0.6956\n",
      "Epoch 4/10\n",
      "132/132 [==============================] - 21s 158ms/step - loss: 0.0640 - accuracy: 0.9799 - val_loss: 2.5401 - val_accuracy: 0.7264\n",
      "Epoch 5/10\n",
      "132/132 [==============================] - 21s 157ms/step - loss: 0.0531 - accuracy: 0.9842 - val_loss: 2.8559 - val_accuracy: 0.7233\n",
      "Epoch 6/10\n",
      "132/132 [==============================] - 21s 158ms/step - loss: 0.0475 - accuracy: 0.9867 - val_loss: 2.8081 - val_accuracy: 0.7254\n",
      "Epoch 7/10\n",
      "132/132 [==============================] - 21s 163ms/step - loss: 0.0337 - accuracy: 0.9883 - val_loss: 3.0899 - val_accuracy: 0.7287\n",
      "Epoch 8/10\n",
      "132/132 [==============================] - 20s 155ms/step - loss: 0.0277 - accuracy: 0.9920 - val_loss: 3.0856 - val_accuracy: 0.7359\n",
      "Epoch 9/10\n",
      "132/132 [==============================] - 20s 151ms/step - loss: 0.0231 - accuracy: 0.9922 - val_loss: 3.5870 - val_accuracy: 0.7293\n",
      "Epoch 10/10\n",
      "132/132 [==============================] - 20s 150ms/step - loss: 0.0269 - accuracy: 0.9929 - val_loss: 3.4781 - val_accuracy: 0.7347\n",
      "Duration: 0:03:28.938246\n"
     ]
    }
   ],
   "source": [
    "print(n)\n",
    "models_nc[n].fit_model(image_sets_nc[n],label_sets_nc[n],x_val,y_val,epochs=10,batch_size = 64)\n",
    "n = n+1"
   ]
  },
  {
   "cell_type": "code",
   "execution_count": 175,
   "id": "08f19179",
   "metadata": {},
   "outputs": [
    {
     "name": "stdout",
     "output_type": "stream",
     "text": [
      "3\n",
      "Epoch 1/10\n",
      "175/175 [==============================] - 28s 145ms/step - loss: 0.6409 - accuracy: 0.7898 - val_loss: 1.7062 - val_accuracy: 0.6754\n",
      "Epoch 2/10\n",
      "175/175 [==============================] - 25s 143ms/step - loss: 0.1116 - accuracy: 0.9675 - val_loss: 1.6804 - val_accuracy: 0.7191\n",
      "Epoch 3/10\n",
      "175/175 [==============================] - 25s 142ms/step - loss: 0.0708 - accuracy: 0.9789 - val_loss: 1.9314 - val_accuracy: 0.7355\n",
      "Epoch 4/10\n",
      "175/175 [==============================] - 25s 142ms/step - loss: 0.0615 - accuracy: 0.9813 - val_loss: 1.9322 - val_accuracy: 0.7336\n",
      "Epoch 5/10\n",
      "175/175 [==============================] - 25s 142ms/step - loss: 0.0394 - accuracy: 0.9889 - val_loss: 1.8222 - val_accuracy: 0.7541\n",
      "Epoch 6/10\n",
      "175/175 [==============================] - 25s 143ms/step - loss: 0.0331 - accuracy: 0.9902 - val_loss: 1.4069 - val_accuracy: 0.7724\n",
      "Epoch 7/10\n",
      "175/175 [==============================] - 25s 144ms/step - loss: 0.0254 - accuracy: 0.9915 - val_loss: 1.6607 - val_accuracy: 0.7713\n",
      "Epoch 8/10\n",
      "175/175 [==============================] - 26s 146ms/step - loss: 0.0243 - accuracy: 0.9934 - val_loss: 2.0757 - val_accuracy: 0.7681\n",
      "Epoch 9/10\n",
      "175/175 [==============================] - 25s 144ms/step - loss: 0.0194 - accuracy: 0.9946 - val_loss: 2.0037 - val_accuracy: 0.7774\n",
      "Epoch 10/10\n",
      "175/175 [==============================] - 25s 142ms/step - loss: 0.0142 - accuracy: 0.9960 - val_loss: 1.4588 - val_accuracy: 0.7739\n",
      "Duration: 0:04:12.837887\n"
     ]
    }
   ],
   "source": [
    "print(n)\n",
    "models_nc[n].fit_model(image_sets_nc[n],label_sets_nc[n],x_val,y_val,epochs=10,batch_size = 64)\n",
    "n = n+1"
   ]
  },
  {
   "cell_type": "code",
   "execution_count": 176,
   "id": "bf71df4f",
   "metadata": {},
   "outputs": [
    {
     "name": "stdout",
     "output_type": "stream",
     "text": [
      "4\n",
      "Epoch 1/10\n",
      "219/219 [==============================] - 34s 143ms/step - loss: 0.6426 - accuracy: 0.7887 - val_loss: 1.7448 - val_accuracy: 0.6954\n",
      "Epoch 2/10\n",
      "219/219 [==============================] - 31s 141ms/step - loss: 0.1131 - accuracy: 0.9646 - val_loss: 1.6587 - val_accuracy: 0.7379\n",
      "Epoch 3/10\n",
      "219/219 [==============================] - 31s 142ms/step - loss: 0.0747 - accuracy: 0.9784 - val_loss: 1.8788 - val_accuracy: 0.7571\n",
      "Epoch 4/10\n",
      "219/219 [==============================] - 31s 140ms/step - loss: 0.0510 - accuracy: 0.9857 - val_loss: 1.5317 - val_accuracy: 0.7729\n",
      "Epoch 5/10\n",
      "219/219 [==============================] - 31s 142ms/step - loss: 0.0428 - accuracy: 0.9885 - val_loss: 1.9215 - val_accuracy: 0.7641\n",
      "Epoch 6/10\n",
      "219/219 [==============================] - 31s 141ms/step - loss: 0.0342 - accuracy: 0.9882 - val_loss: 1.5595 - val_accuracy: 0.7684\n",
      "Epoch 7/10\n",
      "219/219 [==============================] - 31s 142ms/step - loss: 0.0349 - accuracy: 0.9897 - val_loss: 1.8489 - val_accuracy: 0.7809\n",
      "Epoch 8/10\n",
      "219/219 [==============================] - 31s 141ms/step - loss: 0.0308 - accuracy: 0.9911 - val_loss: 1.5505 - val_accuracy: 0.7781\n",
      "Epoch 9/10\n",
      "219/219 [==============================] - 31s 141ms/step - loss: 0.0264 - accuracy: 0.9922 - val_loss: 1.2545 - val_accuracy: 0.7841\n",
      "Epoch 10/10\n",
      "219/219 [==============================] - 31s 141ms/step - loss: 0.0225 - accuracy: 0.9924 - val_loss: 1.4568 - val_accuracy: 0.7765\n",
      "Duration: 0:05:11.791132\n"
     ]
    }
   ],
   "source": [
    "print(n)#\n",
    "models_nc[n].fit_model(image_sets_nc[n],label_sets_nc[n],x_val,y_val,epochs=10,batch_size = 64)\n",
    "n = n+1"
   ]
  },
  {
   "cell_type": "code",
   "execution_count": 177,
   "id": "72c612a2",
   "metadata": {},
   "outputs": [
    {
     "name": "stdout",
     "output_type": "stream",
     "text": [
      "5\n",
      "Epoch 1/10\n",
      "263/263 [==============================] - 39s 138ms/step - loss: 0.5538 - accuracy: 0.8268 - val_loss: 1.5496 - val_accuracy: 0.7363\n",
      "Epoch 2/10\n",
      "263/263 [==============================] - 36s 139ms/step - loss: 0.0851 - accuracy: 0.9751 - val_loss: 1.3371 - val_accuracy: 0.7844\n",
      "Epoch 3/10\n",
      "263/263 [==============================] - 36s 138ms/step - loss: 0.0530 - accuracy: 0.9834 - val_loss: 1.3047 - val_accuracy: 0.7782\n",
      "Epoch 4/10\n",
      "263/263 [==============================] - 36s 137ms/step - loss: 0.0469 - accuracy: 0.9851 - val_loss: 1.8848 - val_accuracy: 0.7861\n",
      "Epoch 5/10\n",
      "263/263 [==============================] - 36s 137ms/step - loss: 0.0379 - accuracy: 0.9885 - val_loss: 1.5370 - val_accuracy: 0.7982\n",
      "Epoch 6/10\n",
      "263/263 [==============================] - 36s 138ms/step - loss: 0.0300 - accuracy: 0.9905 - val_loss: 1.4159 - val_accuracy: 0.8161\n",
      "Epoch 7/10\n",
      "263/263 [==============================] - 37s 140ms/step - loss: 0.0275 - accuracy: 0.9918 - val_loss: 1.6515 - val_accuracy: 0.8174\n",
      "Epoch 8/10\n",
      "263/263 [==============================] - 36s 139ms/step - loss: 0.0249 - accuracy: 0.9925 - val_loss: 1.7361 - val_accuracy: 0.8201\n",
      "Epoch 9/10\n",
      "263/263 [==============================] - 36s 138ms/step - loss: 0.0267 - accuracy: 0.9922 - val_loss: 1.1342 - val_accuracy: 0.8241\n",
      "Epoch 10/10\n",
      "263/263 [==============================] - 36s 138ms/step - loss: 0.0221 - accuracy: 0.9932 - val_loss: 1.3479 - val_accuracy: 0.8251\n",
      "Duration: 0:06:05.780191\n"
     ]
    }
   ],
   "source": [
    "print(n)\n",
    "models_nc[n].fit_model(image_sets_nc[n],label_sets_nc[n],x_val,y_val,epochs=10,batch_size = 64)\n",
    "n = n+1"
   ]
  },
  {
   "cell_type": "code",
   "execution_count": 178,
   "id": "534d3527",
   "metadata": {},
   "outputs": [
    {
     "name": "stdout",
     "output_type": "stream",
     "text": [
      "6\n",
      "Epoch 1/10\n",
      "307/307 [==============================] - 44s 136ms/step - loss: 0.5106 - accuracy: 0.8373 - val_loss: 1.3788 - val_accuracy: 0.7674\n",
      "Epoch 2/10\n",
      "307/307 [==============================] - 42s 136ms/step - loss: 0.0822 - accuracy: 0.9770 - val_loss: 1.6323 - val_accuracy: 0.7931\n",
      "Epoch 3/10\n",
      "307/307 [==============================] - 42s 136ms/step - loss: 0.0610 - accuracy: 0.9821 - val_loss: 1.7223 - val_accuracy: 0.8098\n",
      "Epoch 4/10\n",
      "307/307 [==============================] - 42s 136ms/step - loss: 0.0428 - accuracy: 0.9886 - val_loss: 1.3817 - val_accuracy: 0.8247\n",
      "Epoch 5/10\n",
      "307/307 [==============================] - 42s 136ms/step - loss: 0.0342 - accuracy: 0.9891 - val_loss: 0.9387 - val_accuracy: 0.8234\n",
      "Epoch 6/10\n",
      "307/307 [==============================] - 42s 136ms/step - loss: 0.0261 - accuracy: 0.9930 - val_loss: 1.0444 - val_accuracy: 0.8444\n",
      "Epoch 7/10\n",
      "307/307 [==============================] - 42s 137ms/step - loss: 0.0300 - accuracy: 0.9911 - val_loss: 1.5944 - val_accuracy: 0.8308\n",
      "Epoch 8/10\n",
      "307/307 [==============================] - 42s 136ms/step - loss: 0.0303 - accuracy: 0.9926 - val_loss: 1.4554 - val_accuracy: 0.8436\n",
      "Epoch 9/10\n",
      "307/307 [==============================] - 42s 136ms/step - loss: 0.0228 - accuracy: 0.9937 - val_loss: 1.1500 - val_accuracy: 0.8392\n",
      "Epoch 10/10\n",
      "307/307 [==============================] - 42s 136ms/step - loss: 0.0214 - accuracy: 0.9942 - val_loss: 1.2553 - val_accuracy: 0.8237\n",
      "Duration: 0:06:59.961525\n"
     ]
    }
   ],
   "source": [
    "print(n)\n",
    "models_nc[n].fit_model(image_sets_nc[n],label_sets_nc[n],x_val,y_val,epochs=10,batch_size = 64)\n",
    "n = n+1"
   ]
  },
  {
   "cell_type": "code",
   "execution_count": 179,
   "id": "1266750b",
   "metadata": {},
   "outputs": [
    {
     "name": "stdout",
     "output_type": "stream",
     "text": [
      "7\n",
      "Epoch 1/10\n",
      "350/350 [==============================] - 49s 135ms/step - loss: 0.5000 - accuracy: 0.8372 - val_loss: 1.3960 - val_accuracy: 0.8126\n",
      "Epoch 2/10\n",
      "350/350 [==============================] - 46s 133ms/step - loss: 0.0862 - accuracy: 0.9761 - val_loss: 1.4875 - val_accuracy: 0.8287\n",
      "Epoch 3/10\n",
      "350/350 [==============================] - 47s 133ms/step - loss: 0.0524 - accuracy: 0.9848 - val_loss: 1.4614 - val_accuracy: 0.8324\n",
      "Epoch 4/10\n",
      "350/350 [==============================] - 46s 133ms/step - loss: 0.0419 - accuracy: 0.9884 - val_loss: 1.5320 - val_accuracy: 0.8326\n",
      "Epoch 5/10\n",
      "350/350 [==============================] - 47s 134ms/step - loss: 0.0356 - accuracy: 0.9899 - val_loss: 1.2633 - val_accuracy: 0.8541\n",
      "Epoch 6/10\n",
      "350/350 [==============================] - 50s 143ms/step - loss: 0.0344 - accuracy: 0.9900 - val_loss: 0.9630 - val_accuracy: 0.8514\n",
      "Epoch 7/10\n",
      "350/350 [==============================] - 48s 136ms/step - loss: 0.0309 - accuracy: 0.9912 - val_loss: 1.6414 - val_accuracy: 0.8422\n",
      "Epoch 8/10\n",
      "350/350 [==============================] - 50s 143ms/step - loss: 0.0257 - accuracy: 0.9926 - val_loss: 0.8592 - val_accuracy: 0.8421\n",
      "Epoch 9/10\n",
      "350/350 [==============================] - 52s 149ms/step - loss: 0.0260 - accuracy: 0.9919 - val_loss: 0.8821 - val_accuracy: 0.8596\n",
      "Epoch 10/10\n",
      "350/350 [==============================] - 49s 139ms/step - loss: 0.0272 - accuracy: 0.9916 - val_loss: 0.8304 - val_accuracy: 0.8442\n",
      "Duration: 0:08:04.306680\n"
     ]
    }
   ],
   "source": [
    "print(n)\n",
    "models_nc[n].fit_model(image_sets_nc[n],label_sets_nc[n],x_val,y_val,epochs=10,batch_size = 64)\n",
    "n = n+1"
   ]
  },
  {
   "cell_type": "code",
   "execution_count": 180,
   "id": "28f83db6",
   "metadata": {},
   "outputs": [
    {
     "name": "stdout",
     "output_type": "stream",
     "text": [
      "8\n",
      "Epoch 1/10\n",
      "394/394 [==============================] - 56s 135ms/step - loss: 0.4724 - accuracy: 0.8463 - val_loss: 1.1024 - val_accuracy: 0.8389\n",
      "Epoch 2/10\n",
      "394/394 [==============================] - 53s 134ms/step - loss: 0.0856 - accuracy: 0.9759 - val_loss: 1.1513 - val_accuracy: 0.8333\n",
      "Epoch 3/10\n",
      "394/394 [==============================] - 53s 134ms/step - loss: 0.0565 - accuracy: 0.9841 - val_loss: 0.9301 - val_accuracy: 0.8458\n",
      "Epoch 4/10\n",
      "394/394 [==============================] - 53s 134ms/step - loss: 0.0424 - accuracy: 0.9885 - val_loss: 0.9634 - val_accuracy: 0.8565\n",
      "Epoch 5/10\n",
      "394/394 [==============================] - 53s 134ms/step - loss: 0.0331 - accuracy: 0.9905 - val_loss: 0.9512 - val_accuracy: 0.8533\n",
      "Epoch 6/10\n",
      "394/394 [==============================] - 54s 137ms/step - loss: 0.0285 - accuracy: 0.9920 - val_loss: 0.7339 - val_accuracy: 0.8448\n",
      "Epoch 7/10\n",
      "394/394 [==============================] - 53s 135ms/step - loss: 0.0312 - accuracy: 0.9912 - val_loss: 0.3881 - val_accuracy: 0.8672\n",
      "Epoch 8/10\n",
      "394/394 [==============================] - 53s 134ms/step - loss: 0.0302 - accuracy: 0.9910 - val_loss: 0.4398 - val_accuracy: 0.8604\n",
      "Epoch 9/10\n",
      "394/394 [==============================] - 53s 134ms/step - loss: 0.0272 - accuracy: 0.9917 - val_loss: 0.4865 - val_accuracy: 0.8639\n",
      "Epoch 10/10\n",
      "394/394 [==============================] - 53s 134ms/step - loss: 0.0268 - accuracy: 0.9919 - val_loss: 0.7030 - val_accuracy: 0.8554\n",
      "Duration: 0:08:52.426642\n"
     ]
    }
   ],
   "source": [
    "print(n)\n",
    "models_nc[n].fit_model(image_sets_nc[n],label_sets_nc[n],x_val,y_val,epochs=10,batch_size = 64)\n",
    "n = n+1"
   ]
  },
  {
   "cell_type": "code",
   "execution_count": 181,
   "id": "0b788eac",
   "metadata": {},
   "outputs": [
    {
     "name": "stdout",
     "output_type": "stream",
     "text": [
      "9\n",
      "Epoch 1/10\n",
      "438/438 [==============================] - 61s 134ms/step - loss: 0.4488 - accuracy: 0.8583 - val_loss: 1.0524 - val_accuracy: 0.8379\n",
      "Epoch 2/10\n",
      "438/438 [==============================] - 58s 133ms/step - loss: 0.0780 - accuracy: 0.9782 - val_loss: 0.8972 - val_accuracy: 0.8583\n",
      "Epoch 3/10\n",
      "438/438 [==============================] - 58s 133ms/step - loss: 0.0493 - accuracy: 0.9873 - val_loss: 0.7110 - val_accuracy: 0.8594\n",
      "Epoch 4/10\n",
      "438/438 [==============================] - 58s 133ms/step - loss: 0.0433 - accuracy: 0.9870 - val_loss: 0.7592 - val_accuracy: 0.8531\n",
      "Epoch 5/10\n",
      "438/438 [==============================] - 58s 132ms/step - loss: 0.0342 - accuracy: 0.9897 - val_loss: 0.3730 - val_accuracy: 0.8735\n",
      "Epoch 6/10\n",
      "438/438 [==============================] - 58s 133ms/step - loss: 0.0299 - accuracy: 0.9908 - val_loss: 0.4997 - val_accuracy: 0.8604\n",
      "Epoch 7/10\n",
      "438/438 [==============================] - 58s 132ms/step - loss: 0.0287 - accuracy: 0.9919 - val_loss: 0.3509 - val_accuracy: 0.8858\n",
      "Epoch 8/10\n",
      "438/438 [==============================] - 58s 133ms/step - loss: 0.0290 - accuracy: 0.9916 - val_loss: 0.3079 - val_accuracy: 0.9029\n",
      "Epoch 9/10\n",
      "438/438 [==============================] - 58s 133ms/step - loss: 0.0293 - accuracy: 0.9917 - val_loss: 0.3986 - val_accuracy: 0.8812\n",
      "Epoch 10/10\n",
      "438/438 [==============================] - 58s 133ms/step - loss: 0.0309 - accuracy: 0.9911 - val_loss: 0.3124 - val_accuracy: 0.9306\n",
      "Duration: 0:09:43.948214\n"
     ]
    }
   ],
   "source": [
    "print(n)#\n",
    "models_nc[n].fit_model(image_sets_nc[n],label_sets_nc[n],x_val,y_val,epochs=10,batch_size = 64)\n",
    "n = n+1"
   ]
  },
  {
   "cell_type": "code",
   "execution_count": 182,
   "id": "b73a982c",
   "metadata": {},
   "outputs": [
    {
     "name": "stdout",
     "output_type": "stream",
     "text": [
      "10\n",
      "Epoch 1/10\n",
      "482/482 [==============================] - 68s 136ms/step - loss: 0.4293 - accuracy: 0.8653 - val_loss: 0.6920 - val_accuracy: 0.8558\n",
      "Epoch 2/10\n",
      "482/482 [==============================] - 64s 133ms/step - loss: 0.0778 - accuracy: 0.9777 - val_loss: 0.4551 - val_accuracy: 0.8667\n",
      "Epoch 3/10\n",
      "482/482 [==============================] - 64s 133ms/step - loss: 0.0520 - accuracy: 0.9851 - val_loss: 0.5142 - val_accuracy: 0.8754\n",
      "Epoch 4/10\n",
      "482/482 [==============================] - 64s 133ms/step - loss: 0.0422 - accuracy: 0.9878 - val_loss: 0.3465 - val_accuracy: 0.8937\n",
      "Epoch 5/10\n",
      "482/482 [==============================] - 64s 132ms/step - loss: 0.0369 - accuracy: 0.9883 - val_loss: 0.4357 - val_accuracy: 0.8849\n",
      "Epoch 6/10\n",
      "482/482 [==============================] - 64s 132ms/step - loss: 0.0396 - accuracy: 0.9883 - val_loss: 0.2846 - val_accuracy: 0.9149\n",
      "Epoch 7/10\n",
      "482/482 [==============================] - 64s 132ms/step - loss: 0.0395 - accuracy: 0.9890 - val_loss: 0.2215 - val_accuracy: 0.9366\n",
      "Epoch 8/10\n",
      "482/482 [==============================] - 64s 133ms/step - loss: 0.0384 - accuracy: 0.9899 - val_loss: 0.1650 - val_accuracy: 0.9596\n",
      "Epoch 9/10\n",
      "482/482 [==============================] - 64s 133ms/step - loss: 0.0449 - accuracy: 0.9890 - val_loss: 0.2249 - val_accuracy: 0.9332\n",
      "Epoch 10/10\n",
      "482/482 [==============================] - 64s 133ms/step - loss: 0.0399 - accuracy: 0.9891 - val_loss: 0.1697 - val_accuracy: 0.9552\n",
      "Duration: 0:10:43.413116\n"
     ]
    }
   ],
   "source": [
    "print(n)\n",
    "models_nc[n].fit_model(image_sets_nc[n],label_sets_nc[n],x_val,y_val,epochs=10,batch_size = 64)\n",
    "n = n+1"
   ]
  },
  {
   "cell_type": "code",
   "execution_count": 183,
   "id": "b9367822",
   "metadata": {},
   "outputs": [
    {
     "name": "stdout",
     "output_type": "stream",
     "text": [
      "11\n",
      "Epoch 1/10\n",
      "525/525 [==============================] - 73s 134ms/step - loss: 0.4528 - accuracy: 0.8511 - val_loss: 0.5849 - val_accuracy: 0.8522\n",
      "Epoch 2/10\n",
      "525/525 [==============================] - 69s 131ms/step - loss: 0.0819 - accuracy: 0.9766 - val_loss: 0.3840 - val_accuracy: 0.8911\n",
      "Epoch 3/10\n",
      "525/525 [==============================] - 69s 131ms/step - loss: 0.0562 - accuracy: 0.9843 - val_loss: 0.3733 - val_accuracy: 0.9123\n",
      "Epoch 4/10\n",
      "525/525 [==============================] - 69s 131ms/step - loss: 0.0460 - accuracy: 0.9874 - val_loss: 0.2144 - val_accuracy: 0.9301\n",
      "Epoch 5/10\n",
      "525/525 [==============================] - 69s 132ms/step - loss: 0.0411 - accuracy: 0.9880 - val_loss: 0.1714 - val_accuracy: 0.9570\n",
      "Epoch 6/10\n",
      "525/525 [==============================] - 70s 133ms/step - loss: 0.0363 - accuracy: 0.9896 - val_loss: 0.1302 - val_accuracy: 0.9639\n",
      "Epoch 7/10\n",
      "525/525 [==============================] - 69s 131ms/step - loss: 0.0349 - accuracy: 0.9902 - val_loss: 0.1651 - val_accuracy: 0.9375\n",
      "Epoch 8/10\n",
      "525/525 [==============================] - 69s 131ms/step - loss: 0.0425 - accuracy: 0.9890 - val_loss: 0.1287 - val_accuracy: 0.9705\n",
      "Epoch 9/10\n",
      "525/525 [==============================] - 69s 131ms/step - loss: 0.0413 - accuracy: 0.9891 - val_loss: 0.1945 - val_accuracy: 0.9413\n",
      "Epoch 10/10\n",
      "525/525 [==============================] - 69s 131ms/step - loss: 0.0460 - accuracy: 0.9874 - val_loss: 0.2423 - val_accuracy: 0.9232\n",
      "Duration: 0:11:33.269549\n"
     ]
    }
   ],
   "source": [
    "print(n)\n",
    "models_nc[n].fit_model(image_sets_nc[n],label_sets_nc[n],x_val,y_val,epochs=10,batch_size = 64)\n",
    "n = n+1"
   ]
  },
  {
   "cell_type": "code",
   "execution_count": 184,
   "id": "6c7fcec4",
   "metadata": {},
   "outputs": [
    {
     "name": "stdout",
     "output_type": "stream",
     "text": [
      "12\n",
      "Epoch 1/10\n",
      "569/569 [==============================] - 79s 135ms/step - loss: 0.3917 - accuracy: 0.8745 - val_loss: 0.3766 - val_accuracy: 0.9014\n",
      "Epoch 2/10\n",
      "569/569 [==============================] - 76s 133ms/step - loss: 0.0742 - accuracy: 0.9786 - val_loss: 0.2857 - val_accuracy: 0.9131\n",
      "Epoch 3/10\n",
      "569/569 [==============================] - 76s 134ms/step - loss: 0.0535 - accuracy: 0.9849 - val_loss: 0.1659 - val_accuracy: 0.9513\n",
      "Epoch 4/10\n",
      "569/569 [==============================] - 76s 133ms/step - loss: 0.0453 - accuracy: 0.9873 - val_loss: 0.1438 - val_accuracy: 0.9585\n",
      "Epoch 5/10\n",
      "569/569 [==============================] - 76s 134ms/step - loss: 0.0378 - accuracy: 0.9900 - val_loss: 0.1549 - val_accuracy: 0.9556\n",
      "Epoch 6/10\n",
      "569/569 [==============================] - 76s 134ms/step - loss: 0.0422 - accuracy: 0.9901 - val_loss: 0.1415 - val_accuracy: 0.9696\n",
      "Epoch 7/10\n",
      "569/569 [==============================] - 76s 134ms/step - loss: 0.0396 - accuracy: 0.9881 - val_loss: 0.1194 - val_accuracy: 0.9751\n",
      "Epoch 8/10\n",
      "569/569 [==============================] - 76s 134ms/step - loss: 0.0420 - accuracy: 0.9885 - val_loss: 0.1286 - val_accuracy: 0.9781\n",
      "Epoch 9/10\n",
      "569/569 [==============================] - 76s 133ms/step - loss: 0.0478 - accuracy: 0.9876 - val_loss: 0.1497 - val_accuracy: 0.9666\n",
      "Epoch 10/10\n",
      "569/569 [==============================] - 77s 134ms/step - loss: 0.0510 - accuracy: 0.9860 - val_loss: 0.1990 - val_accuracy: 0.9511\n",
      "Duration: 0:12:44.045035\n"
     ]
    }
   ],
   "source": [
    "print(n)\n",
    "models_nc[n].fit_model(image_sets_nc[n],label_sets_nc[n],x_val,y_val,epochs=10,batch_size = 64)\n",
    "n = n+1"
   ]
  },
  {
   "cell_type": "code",
   "execution_count": 185,
   "id": "9e832bba",
   "metadata": {},
   "outputs": [
    {
     "name": "stdout",
     "output_type": "stream",
     "text": [
      "13\n",
      "Epoch 1/10\n",
      "613/613 [==============================] - 83s 131ms/step - loss: 0.4435 - accuracy: 0.8578 - val_loss: 0.1946 - val_accuracy: 0.9419\n",
      "Epoch 2/10\n",
      "613/613 [==============================] - 80s 130ms/step - loss: 0.0839 - accuracy: 0.9764 - val_loss: 0.1277 - val_accuracy: 0.9624\n",
      "Epoch 3/10\n",
      "613/613 [==============================] - 80s 130ms/step - loss: 0.0561 - accuracy: 0.9837 - val_loss: 0.1097 - val_accuracy: 0.9656\n",
      "Epoch 4/10\n",
      "613/613 [==============================] - 80s 130ms/step - loss: 0.0477 - accuracy: 0.9869 - val_loss: 0.1017 - val_accuracy: 0.9694\n",
      "Epoch 5/10\n",
      "613/613 [==============================] - 80s 131ms/step - loss: 0.0443 - accuracy: 0.9878 - val_loss: 0.0852 - val_accuracy: 0.9766\n",
      "Epoch 6/10\n",
      "613/613 [==============================] - 80s 130ms/step - loss: 0.0449 - accuracy: 0.9880 - val_loss: 0.0885 - val_accuracy: 0.9798\n",
      "Epoch 7/10\n",
      "613/613 [==============================] - 80s 130ms/step - loss: 0.0446 - accuracy: 0.9880 - val_loss: 0.0996 - val_accuracy: 0.9746\n",
      "Epoch 8/10\n",
      "613/613 [==============================] - 80s 130ms/step - loss: 0.0483 - accuracy: 0.9868 - val_loss: 0.1169 - val_accuracy: 0.9724\n",
      "Epoch 9/10\n",
      "613/613 [==============================] - 80s 130ms/step - loss: 0.0512 - accuracy: 0.9880 - val_loss: 0.1158 - val_accuracy: 0.9687\n",
      "Epoch 10/10\n",
      "613/613 [==============================] - 80s 130ms/step - loss: 0.0520 - accuracy: 0.9870 - val_loss: 0.0908 - val_accuracy: 0.9759\n",
      "Duration: 0:13:20.730302\n"
     ]
    }
   ],
   "source": [
    "print(n)\n",
    "models_nc[n].fit_model(image_sets_nc[n],label_sets_nc[n],x_val,y_val,epochs=10,batch_size = 64)\n",
    "n = n+1"
   ]
  },
  {
   "cell_type": "code",
   "execution_count": 186,
   "id": "95525d5f",
   "metadata": {},
   "outputs": [
    {
     "name": "stdout",
     "output_type": "stream",
     "text": [
      "14\n",
      "Epoch 1/10\n",
      "657/657 [==============================] - 88s 130ms/step - loss: 0.4273 - accuracy: 0.8660 - val_loss: 0.1147 - val_accuracy: 0.9636\n",
      "Epoch 2/10\n",
      "657/657 [==============================] - 86s 130ms/step - loss: 0.0792 - accuracy: 0.9777 - val_loss: 0.0985 - val_accuracy: 0.9689\n",
      "Epoch 3/10\n",
      "657/657 [==============================] - 85s 130ms/step - loss: 0.0546 - accuracy: 0.9833 - val_loss: 0.0729 - val_accuracy: 0.9780\n",
      "Epoch 4/10\n",
      "657/657 [==============================] - 85s 130ms/step - loss: 0.0502 - accuracy: 0.9855 - val_loss: 0.0642 - val_accuracy: 0.9796\n",
      "Epoch 5/10\n",
      "657/657 [==============================] - 85s 130ms/step - loss: 0.0452 - accuracy: 0.9871 - val_loss: 0.1322 - val_accuracy: 0.9699\n",
      "Epoch 6/10\n",
      "657/657 [==============================] - 85s 130ms/step - loss: 0.0455 - accuracy: 0.9873 - val_loss: 0.0783 - val_accuracy: 0.9776\n",
      "Epoch 7/10\n",
      "657/657 [==============================] - 85s 129ms/step - loss: 0.0420 - accuracy: 0.9877 - val_loss: 0.0702 - val_accuracy: 0.9794\n",
      "Epoch 8/10\n",
      "657/657 [==============================] - 85s 130ms/step - loss: 0.0450 - accuracy: 0.9885 - val_loss: 0.0952 - val_accuracy: 0.9783\n",
      "Epoch 9/10\n",
      "657/657 [==============================] - 85s 129ms/step - loss: 0.0469 - accuracy: 0.9873 - val_loss: 0.0580 - val_accuracy: 0.9849\n",
      "Epoch 10/10\n",
      "657/657 [==============================] - 86s 131ms/step - loss: 0.0475 - accuracy: 0.9860 - val_loss: 0.0699 - val_accuracy: 0.9818\n",
      "Duration: 0:14:16.210082\n"
     ]
    }
   ],
   "source": [
    "print(n)#\n",
    "models_nc[n].fit_model(image_sets_nc[n],label_sets_nc[n],x_val,y_val,epochs=10,batch_size = 64)\n",
    "n = n+1"
   ]
  },
  {
   "cell_type": "code",
   "execution_count": 187,
   "id": "90c55183",
   "metadata": {},
   "outputs": [],
   "source": [
    "time.sleep(400)"
   ]
  },
  {
   "cell_type": "code",
   "execution_count": 188,
   "id": "c41a1606",
   "metadata": {},
   "outputs": [
    {
     "name": "stdout",
     "output_type": "stream",
     "text": [
      "15\n",
      "Epoch 1/10\n",
      "700/700 [==============================] - 90s 126ms/step - loss: 0.4280 - accuracy: 0.8665 - val_loss: 0.0940 - val_accuracy: 0.9717\n",
      "Epoch 2/10\n",
      "700/700 [==============================] - 87s 124ms/step - loss: 0.0804 - accuracy: 0.9770 - val_loss: 0.0769 - val_accuracy: 0.9765\n",
      "Epoch 3/10\n",
      "700/700 [==============================] - 87s 124ms/step - loss: 0.0595 - accuracy: 0.9830 - val_loss: 0.0745 - val_accuracy: 0.9786\n",
      "Epoch 4/10\n",
      "700/700 [==============================] - 87s 124ms/step - loss: 0.0474 - accuracy: 0.9871 - val_loss: 0.0600 - val_accuracy: 0.9816\n",
      "Epoch 5/10\n",
      "700/700 [==============================] - 87s 124ms/step - loss: 0.0444 - accuracy: 0.9875 - val_loss: 0.0603 - val_accuracy: 0.9814\n",
      "Epoch 6/10\n",
      "700/700 [==============================] - 88s 125ms/step - loss: 0.0406 - accuracy: 0.9891 - val_loss: 0.0636 - val_accuracy: 0.9834\n",
      "Epoch 7/10\n",
      "700/700 [==============================] - 89s 128ms/step - loss: 0.0453 - accuracy: 0.9874 - val_loss: 0.0693 - val_accuracy: 0.9821\n",
      "Epoch 8/10\n",
      "700/700 [==============================] - 90s 129ms/step - loss: 0.0472 - accuracy: 0.9860 - val_loss: 0.0750 - val_accuracy: 0.9819\n",
      "Epoch 9/10\n",
      "700/700 [==============================] - 90s 129ms/step - loss: 0.0523 - accuracy: 0.9870 - val_loss: 0.0619 - val_accuracy: 0.9842\n",
      "Epoch 10/10\n",
      "700/700 [==============================] - 91s 130ms/step - loss: 0.0538 - accuracy: 0.9871 - val_loss: 0.0699 - val_accuracy: 0.9818\n",
      "Duration: 0:14:46.477509\n"
     ]
    }
   ],
   "source": [
    "print(n)\n",
    "models_nc[n].fit_model(image_sets_nc[n],label_sets_nc[n],x_val,y_val,epochs=10,batch_size = 64)\n",
    "n = n+1"
   ]
  },
  {
   "cell_type": "code",
   "execution_count": null,
   "id": "0280db18",
   "metadata": {},
   "outputs": [],
   "source": [
    "time.sleep(400)"
   ]
  },
  {
   "cell_type": "code",
   "execution_count": 189,
   "id": "c801b11d",
   "metadata": {},
   "outputs": [
    {
     "name": "stdout",
     "output_type": "stream",
     "text": [
      "16\n",
      "Epoch 1/10\n",
      "744/744 [==============================] - 101s 133ms/step - loss: 0.4031 - accuracy: 0.8726 - val_loss: 0.0677 - val_accuracy: 0.9793\n",
      "Epoch 2/10\n",
      "744/744 [==============================] - 98s 132ms/step - loss: 0.0807 - accuracy: 0.9768 - val_loss: 0.0627 - val_accuracy: 0.9818\n",
      "Epoch 3/10\n",
      "744/744 [==============================] - 98s 132ms/step - loss: 0.0611 - accuracy: 0.9819 - val_loss: 0.0656 - val_accuracy: 0.9823\n",
      "Epoch 4/10\n",
      "744/744 [==============================] - 98s 132ms/step - loss: 0.0525 - accuracy: 0.9850 - val_loss: 0.0579 - val_accuracy: 0.9829\n",
      "Epoch 5/10\n",
      "744/744 [==============================] - 98s 132ms/step - loss: 0.0489 - accuracy: 0.9859 - val_loss: 0.0500 - val_accuracy: 0.9854\n",
      "Epoch 6/10\n",
      "744/744 [==============================] - 98s 132ms/step - loss: 0.0422 - accuracy: 0.9873 - val_loss: 0.0483 - val_accuracy: 0.9851\n",
      "Epoch 7/10\n",
      "744/744 [==============================] - 98s 132ms/step - loss: 0.0525 - accuracy: 0.9861 - val_loss: 0.0501 - val_accuracy: 0.9854\n",
      "Epoch 8/10\n",
      "744/744 [==============================] - 98s 132ms/step - loss: 0.0475 - accuracy: 0.9872 - val_loss: 0.0568 - val_accuracy: 0.9840\n",
      "Epoch 9/10\n",
      "744/744 [==============================] - 98s 132ms/step - loss: 0.0529 - accuracy: 0.9864 - val_loss: 0.0536 - val_accuracy: 0.9853\n",
      "Epoch 10/10\n",
      "744/744 [==============================] - 98s 132ms/step - loss: 0.0547 - accuracy: 0.9854 - val_loss: 0.0590 - val_accuracy: 0.9859\n",
      "Duration: 0:16:23.349923\n"
     ]
    }
   ],
   "source": [
    "print(n)\n",
    "models_nc[n].fit_model(image_sets_nc[n],label_sets_nc[n],x_val,y_val,epochs=10,batch_size = 64)\n",
    "n = n+1"
   ]
  },
  {
   "cell_type": "code",
   "execution_count": null,
   "id": "bf0ab4e9",
   "metadata": {},
   "outputs": [],
   "source": [
    "time.sleep(400)"
   ]
  },
  {
   "cell_type": "code",
   "execution_count": 190,
   "id": "8a689e2d",
   "metadata": {},
   "outputs": [
    {
     "name": "stdout",
     "output_type": "stream",
     "text": [
      "17\n",
      "Epoch 1/10\n",
      "788/788 [==============================] - 108s 134ms/step - loss: 0.3867 - accuracy: 0.8790 - val_loss: 0.0663 - val_accuracy: 0.9785\n",
      "Epoch 2/10\n",
      "788/788 [==============================] - 105s 133ms/step - loss: 0.0805 - accuracy: 0.9777 - val_loss: 0.0541 - val_accuracy: 0.9829\n",
      "Epoch 3/10\n",
      "788/788 [==============================] - 105s 134ms/step - loss: 0.0624 - accuracy: 0.9816 - val_loss: 0.0484 - val_accuracy: 0.9849\n",
      "Epoch 4/10\n",
      "788/788 [==============================] - 105s 134ms/step - loss: 0.0540 - accuracy: 0.9847 - val_loss: 0.0485 - val_accuracy: 0.9852\n",
      "Epoch 5/10\n",
      "788/788 [==============================] - 106s 134ms/step - loss: 0.0526 - accuracy: 0.9855 - val_loss: 0.0529 - val_accuracy: 0.9842\n",
      "Epoch 6/10\n",
      "788/788 [==============================] - 105s 134ms/step - loss: 0.0541 - accuracy: 0.9861 - val_loss: 0.0499 - val_accuracy: 0.9856\n",
      "Epoch 7/10\n",
      "788/788 [==============================] - 105s 134ms/step - loss: 0.0601 - accuracy: 0.9844 - val_loss: 0.0491 - val_accuracy: 0.9857\n",
      "Epoch 8/10\n",
      "788/788 [==============================] - 105s 134ms/step - loss: 0.0570 - accuracy: 0.9846 - val_loss: 0.0582 - val_accuracy: 0.9849\n",
      "Epoch 9/10\n",
      "788/788 [==============================] - 105s 134ms/step - loss: 0.0628 - accuracy: 0.9836 - val_loss: 0.0737 - val_accuracy: 0.9837\n",
      "Epoch 10/10\n",
      "788/788 [==============================] - 105s 133ms/step - loss: 0.0736 - accuracy: 0.9822 - val_loss: 0.0724 - val_accuracy: 0.9804\n",
      "Duration: 0:17:35.581858\n"
     ]
    }
   ],
   "source": [
    "print(n)\n",
    "models_nc[n].fit_model(image_sets_nc[n],label_sets_nc[n],x_val,y_val,epochs=10,batch_size = 64)\n",
    "n = n+1"
   ]
  },
  {
   "cell_type": "code",
   "execution_count": null,
   "id": "117d7bfe",
   "metadata": {},
   "outputs": [],
   "source": [
    "time.sleep(400)"
   ]
  },
  {
   "cell_type": "code",
   "execution_count": 191,
   "id": "7a79f353",
   "metadata": {},
   "outputs": [
    {
     "name": "stdout",
     "output_type": "stream",
     "text": [
      "18\n",
      "Epoch 1/10\n",
      "832/832 [==============================] - 113s 133ms/step - loss: 0.3790 - accuracy: 0.8834 - val_loss: 0.0651 - val_accuracy: 0.9794\n",
      "Epoch 2/10\n",
      "832/832 [==============================] - 112s 135ms/step - loss: 0.0739 - accuracy: 0.9783 - val_loss: 0.0545 - val_accuracy: 0.9831\n",
      "Epoch 3/10\n",
      "832/832 [==============================] - 111s 133ms/step - loss: 0.0587 - accuracy: 0.9818 - val_loss: 0.0437 - val_accuracy: 0.9860\n",
      "Epoch 4/10\n",
      "832/832 [==============================] - 110s 133ms/step - loss: 0.0510 - accuracy: 0.9861 - val_loss: 0.0448 - val_accuracy: 0.9864\n",
      "Epoch 5/10\n",
      "832/832 [==============================] - 111s 133ms/step - loss: 0.0498 - accuracy: 0.9855 - val_loss: 0.0490 - val_accuracy: 0.9851\n",
      "Epoch 6/10\n",
      "832/832 [==============================] - 111s 133ms/step - loss: 0.0514 - accuracy: 0.9853 - val_loss: 0.0474 - val_accuracy: 0.9861\n",
      "Epoch 7/10\n",
      "832/832 [==============================] - 111s 133ms/step - loss: 0.0541 - accuracy: 0.9855 - val_loss: 0.0492 - val_accuracy: 0.9863\n",
      "Epoch 8/10\n",
      "832/832 [==============================] - 112s 134ms/step - loss: 0.0552 - accuracy: 0.9847 - val_loss: 0.0463 - val_accuracy: 0.9864\n",
      "Epoch 9/10\n",
      "832/832 [==============================] - 114s 137ms/step - loss: 0.0627 - accuracy: 0.9842 - val_loss: 0.0589 - val_accuracy: 0.9843\n",
      "Epoch 10/10\n",
      "832/832 [==============================] - 118s 141ms/step - loss: 0.0660 - accuracy: 0.9838 - val_loss: 0.0610 - val_accuracy: 0.9861\n",
      "Duration: 0:18:41.687128\n"
     ]
    }
   ],
   "source": [
    "print(n)\n",
    "models_nc[n].fit_model(image_sets_nc[n],label_sets_nc[n],x_val,y_val,epochs=10,batch_size = 64)\n",
    "n = n+1"
   ]
  },
  {
   "cell_type": "code",
   "execution_count": null,
   "id": "8fbbb96b",
   "metadata": {},
   "outputs": [],
   "source": [
    "time.sleep(400)"
   ]
  },
  {
   "cell_type": "code",
   "execution_count": 192,
   "id": "a19fc597",
   "metadata": {},
   "outputs": [
    {
     "name": "stdout",
     "output_type": "stream",
     "text": [
      "19\n",
      "Epoch 1/10\n",
      "875/875 [==============================] - 123s 138ms/step - loss: 0.3850 - accuracy: 0.8787 - val_loss: 0.0691 - val_accuracy: 0.9794\n",
      "Epoch 2/10\n",
      "875/875 [==============================] - 122s 140ms/step - loss: 0.0859 - accuracy: 0.9753 - val_loss: 0.0489 - val_accuracy: 0.9839\n",
      "Epoch 3/10\n",
      "875/875 [==============================] - 118s 135ms/step - loss: 0.0676 - accuracy: 0.9805 - val_loss: 0.0458 - val_accuracy: 0.9855\n",
      "Epoch 4/10\n",
      "875/875 [==============================] - 119s 136ms/step - loss: 0.0601 - accuracy: 0.9828 - val_loss: 0.0453 - val_accuracy: 0.9859\n",
      "Epoch 5/10\n",
      "875/875 [==============================] - 118s 134ms/step - loss: 0.0551 - accuracy: 0.9849 - val_loss: 0.0571 - val_accuracy: 0.9829\n",
      "Epoch 6/10\n",
      "875/875 [==============================] - 118s 135ms/step - loss: 0.0576 - accuracy: 0.9849 - val_loss: 0.0488 - val_accuracy: 0.9865\n",
      "Epoch 7/10\n",
      "875/875 [==============================] - 124s 142ms/step - loss: 0.0623 - accuracy: 0.9842 - val_loss: 0.0481 - val_accuracy: 0.9859\n",
      "Epoch 8/10\n",
      "875/875 [==============================] - 118s 134ms/step - loss: 0.0636 - accuracy: 0.9832 - val_loss: 0.0556 - val_accuracy: 0.9860\n",
      "Epoch 9/10\n",
      "875/875 [==============================] - 118s 134ms/step - loss: 0.0673 - accuracy: 0.9835 - val_loss: 0.0558 - val_accuracy: 0.9864\n",
      "Epoch 10/10\n",
      "875/875 [==============================] - 117s 134ms/step - loss: 0.0692 - accuracy: 0.9820 - val_loss: 0.0558 - val_accuracy: 0.9857\n",
      "Duration: 0:19:54.844692\n"
     ]
    }
   ],
   "source": [
    "print(n)#\n",
    "models_nc[n].fit_model(image_sets_nc[n],label_sets_nc[n],x_val,y_val,epochs=10,batch_size = 64)\n",
    "n = n+1"
   ]
  },
  {
   "cell_type": "code",
   "execution_count": 193,
   "id": "43bd398f",
   "metadata": {},
   "outputs": [
    {
     "name": "stdout",
     "output_type": "stream",
     "text": [
      "INFO:tensorflow:Assets written to: D:/models/aug_22/mnist/C1/mnist_model_c1_aug_nc_e1_0\\assets\n",
      "Model has been saved\n"
     ]
    }
   ],
   "source": [
    "new_model_nc_dir  = \"D:/models/aug_22/\"+dataset+\"/C1/\"+dataset+\"_model_c1_aug_nc_e1\"\n",
    "\n",
    "i=0\n",
    "\n",
    "for model in models_nc[:1]:\n",
    "    model.save(new_model_nc_dir+\"_\"+str(i))\n",
    "    i+=1"
   ]
  },
  {
   "cell_type": "code",
   "execution_count": 194,
   "id": "784ef57c",
   "metadata": {},
   "outputs": [
    {
     "name": "stdout",
     "output_type": "stream",
     "text": [
      "INFO:tensorflow:Assets written to: D:/models/aug_22/mnist/C1/mnist_model_c1_aug_nc_e1_0\\assets\n",
      "Model has been saved\n",
      "INFO:tensorflow:Assets written to: D:/models/aug_22/mnist/C1/mnist_model_c1_aug_nc_e1_1\\assets\n",
      "Model has been saved\n",
      "INFO:tensorflow:Assets written to: D:/models/aug_22/mnist/C1/mnist_model_c1_aug_nc_e1_2\\assets\n",
      "Model has been saved\n",
      "INFO:tensorflow:Assets written to: D:/models/aug_22/mnist/C1/mnist_model_c1_aug_nc_e1_3\\assets\n",
      "Model has been saved\n",
      "INFO:tensorflow:Assets written to: D:/models/aug_22/mnist/C1/mnist_model_c1_aug_nc_e1_4\\assets\n",
      "Model has been saved\n",
      "INFO:tensorflow:Assets written to: D:/models/aug_22/mnist/C1/mnist_model_c1_aug_nc_e1_5\\assets\n",
      "Model has been saved\n",
      "INFO:tensorflow:Assets written to: D:/models/aug_22/mnist/C1/mnist_model_c1_aug_nc_e1_6\\assets\n",
      "Model has been saved\n",
      "INFO:tensorflow:Assets written to: D:/models/aug_22/mnist/C1/mnist_model_c1_aug_nc_e1_7\\assets\n",
      "Model has been saved\n",
      "INFO:tensorflow:Assets written to: D:/models/aug_22/mnist/C1/mnist_model_c1_aug_nc_e1_8\\assets\n",
      "Model has been saved\n",
      "INFO:tensorflow:Assets written to: D:/models/aug_22/mnist/C1/mnist_model_c1_aug_nc_e1_9\\assets\n",
      "Model has been saved\n",
      "INFO:tensorflow:Assets written to: D:/models/aug_22/mnist/C1/mnist_model_c1_aug_nc_e1_10\\assets\n",
      "Model has been saved\n",
      "INFO:tensorflow:Assets written to: D:/models/aug_22/mnist/C1/mnist_model_c1_aug_nc_e1_11\\assets\n",
      "Model has been saved\n",
      "INFO:tensorflow:Assets written to: D:/models/aug_22/mnist/C1/mnist_model_c1_aug_nc_e1_12\\assets\n",
      "Model has been saved\n",
      "INFO:tensorflow:Assets written to: D:/models/aug_22/mnist/C1/mnist_model_c1_aug_nc_e1_13\\assets\n",
      "Model has been saved\n",
      "INFO:tensorflow:Assets written to: D:/models/aug_22/mnist/C1/mnist_model_c1_aug_nc_e1_14\\assets\n",
      "Model has been saved\n",
      "INFO:tensorflow:Assets written to: D:/models/aug_22/mnist/C1/mnist_model_c1_aug_nc_e1_15\\assets\n",
      "Model has been saved\n",
      "INFO:tensorflow:Assets written to: D:/models/aug_22/mnist/C1/mnist_model_c1_aug_nc_e1_16\\assets\n",
      "Model has been saved\n",
      "INFO:tensorflow:Assets written to: D:/models/aug_22/mnist/C1/mnist_model_c1_aug_nc_e1_17\\assets\n",
      "Model has been saved\n",
      "INFO:tensorflow:Assets written to: D:/models/aug_22/mnist/C1/mnist_model_c1_aug_nc_e1_18\\assets\n",
      "Model has been saved\n",
      "INFO:tensorflow:Assets written to: D:/models/aug_22/mnist/C1/mnist_model_c1_aug_nc_e1_19\\assets\n",
      "Model has been saved\n"
     ]
    }
   ],
   "source": [
    "new_model_nc_dir  = \"D:/models/aug_22/\"+dataset+\"/C1/\"+dataset+\"_model_c1_aug_nc_e1\"\n",
    "\n",
    "i=0\n",
    "\n",
    "for model in models_nc:\n",
    "    model.save(new_model_nc_dir+\"_\"+str(i))\n",
    "    i+=1"
   ]
  },
  {
   "cell_type": "code",
   "execution_count": null,
   "id": "7931428f",
   "metadata": {},
   "outputs": [],
   "source": [
    "loading = False\n",
    "\n",
    "models_nc = []\n",
    "\n",
    "if loading:\n",
    "    for i in range(20):\n",
    "        model_nc_dir = \"D:/models/aug_22/gtsrb/C1/gtsrb_model_c1_aug_nc_e1\"+str(i)\n",
    "        print(model_nc_dir)\n",
    "        model =utils.My_model(dataset,True,model_nc_dir)\n",
    "        model.model.compile(loss= 'categorical_crossentropy', optimizer = 'rmsprop', metrics = ['accuracy',tf.keras.metrics.Precision(), tf.keras.metrics.Recall()])\n",
    "        models_nc.append(model)\n",
    "       "
   ]
  },
  {
   "cell_type": "code",
   "execution_count": null,
   "id": "47e2faf4",
   "metadata": {},
   "outputs": [],
   "source": [
    "try:\n",
    "    del nc_values\n",
    "    del top_images_by_nc\n",
    "    del top_labels_by_nc\n",
    "    del image_sets_nc\n",
    "    del label_sets_nc\n",
    "    del models_nc\n",
    "except:\n",
    "    print(\"Error\")"
   ]
  },
  {
   "cell_type": "code",
   "execution_count": null,
   "id": "98f93725",
   "metadata": {},
   "outputs": [],
   "source": [
    "gc.collect()"
   ]
  }
 ],
 "metadata": {
  "kernelspec": {
   "display_name": "Python 3 (ipykernel)",
   "language": "python",
   "name": "python3"
  },
  "language_info": {
   "codemirror_mode": {
    "name": "ipython",
    "version": 3
   },
   "file_extension": ".py",
   "mimetype": "text/x-python",
   "name": "python",
   "nbconvert_exporter": "python",
   "pygments_lexer": "ipython3",
   "version": "3.9.7"
  }
 },
 "nbformat": 4,
 "nbformat_minor": 5
}
