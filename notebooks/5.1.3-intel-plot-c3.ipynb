{
 "cells": [
  {
   "cell_type": "code",
   "execution_count": 1,
   "id": "458bf345",
   "metadata": {},
   "outputs": [],
   "source": [
    "import argparse\n",
    "\n",
    "import numpy as np\n",
    "import tensorflow as tf\n",
    "import keras.backend as K\n",
    "\n",
    "import matplotlib.pyplot as plt\n",
    "\n",
    "from keras.utils import np_utils\n",
    "from keras.models import Sequential\n",
    "from keras.layers import Dense, Dropout, Activation, Flatten, Conv2D, MaxPooling2D\n",
    "from keras.regularizers import l2\n",
    "\n",
    "import glob\n",
    "import os\n",
    "import cv2\n",
    "import keras\n",
    "\n",
    "\n",
    "import time\n",
    "import argparse\n",
    "\n",
    "from tqdm import tqdm\n",
    "\n",
    "from keras.models import load_model, Model\n"
   ]
  },
  {
   "cell_type": "code",
   "execution_count": 2,
   "id": "d87645a5",
   "metadata": {},
   "outputs": [
    {
     "name": "stdout",
     "output_type": "stream",
     "text": [
      "[WinError 3] The system cannot find the path specified: 'C:/Users/fjdur/Documents/utils/'\n",
      "C:\\Users\\fjdurlop\\Documents\\upc\\upc-july\\notebooks\n"
     ]
    }
   ],
   "source": [
    "cd C:/Users/fjdur/Documents/utils/"
   ]
  },
  {
   "cell_type": "code",
   "execution_count": 3,
   "id": "c6c83ac8",
   "metadata": {},
   "outputs": [
    {
     "name": "stdout",
     "output_type": "stream",
     "text": [
      "C:\\Users\\fjdurlop\\Documents\\upc\\utils\n"
     ]
    }
   ],
   "source": [
    "cd C:/Users/fjdurlop/Documents/upc/utils/"
   ]
  },
  {
   "cell_type": "code",
   "execution_count": 4,
   "id": "b4b5dea1",
   "metadata": {},
   "outputs": [
    {
     "name": "stdout",
     "output_type": "stream",
     "text": [
      "2.5.0\n",
      "keras\n",
      "2.5.0\n"
     ]
    }
   ],
   "source": [
    "#import utils_guided_retraining as utils\n",
    "import utils_guided_retraining2 as utils"
   ]
  },
  {
   "cell_type": "code",
   "execution_count": 5,
   "id": "a90d3511",
   "metadata": {},
   "outputs": [],
   "source": [
    "dataset = \"intel\""
   ]
  },
  {
   "cell_type": "code",
   "execution_count": 6,
   "id": "07b34a1a",
   "metadata": {},
   "outputs": [],
   "source": [
    "x_test,y_test = utils.get_data(dataset,\"Test\")"
   ]
  },
  {
   "cell_type": "code",
   "execution_count": 7,
   "id": "244a4fbd",
   "metadata": {},
   "outputs": [],
   "source": [
    "x_train_and_adversary,y_train_and_adversary = utils.get_data(dataset,\"Train_and_adversary\")"
   ]
  },
  {
   "cell_type": "code",
   "execution_count": 8,
   "id": "739175c8",
   "metadata": {},
   "outputs": [],
   "source": [
    "x_test_and_adversary,y_test_and_adversary = utils.get_adversarial_data(dataset,'Test_adversarial') "
   ]
  },
  {
   "cell_type": "code",
   "execution_count": 9,
   "id": "0875bdf0",
   "metadata": {},
   "outputs": [],
   "source": [
    "\n",
    "model_dir = \"C:/Users/fjdur/Documents/upc-july/models/tf_model_25-06/\"\n",
    "if(dataset == 'gtsrb'):\n",
    "    model_dir = \"C:/Users/fjdur/Documents/upc-july/models/tf_model_25-06\"\n",
    "elif(dataset == 'intel'):\n",
    "    model_dir = \"C:/Users/fjdur/Documents/upc-july/models/intel_model_21_10\"\n",
    "elif(dataset == 'mnist'):\n",
    "    model_dir = \"C:/Users/fjdur/Documents/upc-july/models/models2\"\n",
    "elif(dataset == 'cifar'):\n",
    "    model_dir = \"C:/Users/fjdur/Documents/upc-july/models/model_02\"\n"
   ]
  },
  {
   "cell_type": "code",
   "execution_count": 10,
   "id": "e0c78975",
   "metadata": {},
   "outputs": [],
   "source": [
    "model_dir = \"C:/Users/fjdurlop/Documents/upc/upc-july/models/tf_model_25-06/\"\n",
    "if(dataset == 'gtsrb'):\n",
    "    model_dir = \"C:/Users/fjdurlop/Documents/upc/upc-july/models/tf_model_25-06\"\n",
    "elif(dataset == 'intel'):\n",
    "    model_dir = \"C:/Users/fjdurlop/Documents/upc/upc-july/models/intel_model_21_10\"\n",
    "elif(dataset == 'mnist'):\n",
    "    model_dir = \"C:/Users/fjdurlop/Documents/upc/upc-july/models/models2\"\n",
    "elif(dataset == 'cifar'):\n",
    "    model_dir = \"C:/Users/fjdurlop/Documents/upc/upc-july/models/model_02\""
   ]
  },
  {
   "cell_type": "code",
   "execution_count": 11,
   "id": "1485065e",
   "metadata": {},
   "outputs": [
    {
     "name": "stdout",
     "output_type": "stream",
     "text": [
      "C:/Users/fjdurlop/Documents/upc/upc-july/models/intel_model_21_10\n",
      "Model loaded correctly\n"
     ]
    }
   ],
   "source": [
    "print(model_dir)\n",
    "model_original = utils.My_model(dataset,True, model_dir)"
   ]
  },
  {
   "cell_type": "code",
   "execution_count": 12,
   "id": "9b01a96b",
   "metadata": {},
   "outputs": [],
   "source": [
    "loading_csv = True"
   ]
  },
  {
   "cell_type": "markdown",
   "id": "48e95400",
   "metadata": {},
   "source": [
    "## Loading models"
   ]
  },
  {
   "cell_type": "code",
   "execution_count": 13,
   "id": "a22156f9",
   "metadata": {},
   "outputs": [],
   "source": [
    "data_dir = \"D:/models/aug_22\"\n",
    "dataset = \"gtsrb\"\n",
    "config = \"C1\"\n",
    "config_lc = \"c1\"\n",
    "num_models = 20"
   ]
  },
  {
   "cell_type": "code",
   "execution_count": 14,
   "id": "9ca8455f",
   "metadata": {},
   "outputs": [],
   "source": [
    "data_dir = \"C:/Users/fjdurlop/Documents/upc/models\"\n",
    "dataset = \"intel\"\n",
    "config = \"C3\"\n",
    "config_lc = \"c3\"\n",
    "num_models = 20"
   ]
  },
  {
   "cell_type": "code",
   "execution_count": 14,
   "id": "53255a20",
   "metadata": {},
   "outputs": [],
   "source": [
    "# C:/Users/fjdurlop/Documents/upc/models/intel/C2/intel_model_c2_aug_lsa_e1_0"
   ]
  },
  {
   "cell_type": "code",
   "execution_count": 15,
   "id": "fe3eb254",
   "metadata": {},
   "outputs": [],
   "source": [
    "#change config"
   ]
  },
  {
   "cell_type": "code",
   "execution_count": 15,
   "id": "c0dc05ec",
   "metadata": {},
   "outputs": [
    {
     "name": "stdout",
     "output_type": "stream",
     "text": [
      "C:/Users/fjdurlop/Documents/upc/models/intel/C3/e2/intel_model_c3_aug_lsa_e2_0\n",
      "Model loaded correctly\n",
      "C:/Users/fjdurlop/Documents/upc/models/intel/C3/e2/intel_model_c3_aug_lsa_e2_1\n",
      "Model loaded correctly\n",
      "C:/Users/fjdurlop/Documents/upc/models/intel/C3/e2/intel_model_c3_aug_lsa_e2_2\n",
      "Model loaded correctly\n",
      "C:/Users/fjdurlop/Documents/upc/models/intel/C3/e2/intel_model_c3_aug_lsa_e2_3\n",
      "Model loaded correctly\n",
      "C:/Users/fjdurlop/Documents/upc/models/intel/C3/e2/intel_model_c3_aug_lsa_e2_4\n",
      "Model loaded correctly\n",
      "C:/Users/fjdurlop/Documents/upc/models/intel/C3/e2/intel_model_c3_aug_lsa_e2_5\n",
      "Model loaded correctly\n",
      "C:/Users/fjdurlop/Documents/upc/models/intel/C3/e2/intel_model_c3_aug_lsa_e2_6\n",
      "Model loaded correctly\n",
      "C:/Users/fjdurlop/Documents/upc/models/intel/C3/e2/intel_model_c3_aug_lsa_e2_7\n",
      "Model loaded correctly\n",
      "C:/Users/fjdurlop/Documents/upc/models/intel/C3/e2/intel_model_c3_aug_lsa_e2_8\n",
      "Model loaded correctly\n",
      "C:/Users/fjdurlop/Documents/upc/models/intel/C3/e2/intel_model_c3_aug_lsa_e2_9\n",
      "Model loaded correctly\n",
      "C:/Users/fjdurlop/Documents/upc/models/intel/C3/e2/intel_model_c3_aug_lsa_e2_10\n",
      "Model loaded correctly\n",
      "C:/Users/fjdurlop/Documents/upc/models/intel/C3/e2/intel_model_c3_aug_lsa_e2_11\n",
      "Model loaded correctly\n",
      "C:/Users/fjdurlop/Documents/upc/models/intel/C3/e2/intel_model_c3_aug_lsa_e2_12\n",
      "Model loaded correctly\n",
      "C:/Users/fjdurlop/Documents/upc/models/intel/C3/e2/intel_model_c3_aug_lsa_e2_13\n",
      "Model loaded correctly\n",
      "C:/Users/fjdurlop/Documents/upc/models/intel/C3/e2/intel_model_c3_aug_lsa_e2_14\n",
      "Model loaded correctly\n",
      "C:/Users/fjdurlop/Documents/upc/models/intel/C3/e2/intel_model_c3_aug_lsa_e2_15\n",
      "Model loaded correctly\n",
      "C:/Users/fjdurlop/Documents/upc/models/intel/C3/e2/intel_model_c3_aug_lsa_e2_16\n",
      "Model loaded correctly\n",
      "C:/Users/fjdurlop/Documents/upc/models/intel/C3/e2/intel_model_c3_aug_lsa_e2_17\n",
      "Model loaded correctly\n",
      "C:/Users/fjdurlop/Documents/upc/models/intel/C3/e2/intel_model_c3_aug_lsa_e2_18\n",
      "Model loaded correctly\n",
      "C:/Users/fjdurlop/Documents/upc/models/intel/C3/e2/intel_model_c3_aug_lsa_e2_19\n",
      "Model loaded correctly\n"
     ]
    }
   ],
   "source": [
    "loading = True\n",
    "\n",
    "models_lsa = []\n",
    "\n",
    "if loading:\n",
    "    for i in range(num_models):\n",
    "        model_lsa_dir = data_dir+\"/\"+dataset+\"/C3/e2/\"+dataset+\"_model_c3_aug_lsa_e2_\"+str(i)\n",
    "        print(model_lsa_dir)\n",
    "        model =utils.My_model(dataset,True,model_lsa_dir)\n",
    "        model.model.compile(loss= 'categorical_crossentropy', optimizer = 'rmsprop', metrics = ['accuracy',tf.keras.metrics.Precision(), tf.keras.metrics.Recall()])\n",
    "        models_lsa.append(model)\n",
    "       \n",
    "    "
   ]
  },
  {
   "cell_type": "code",
   "execution_count": 16,
   "id": "da4d6ed4",
   "metadata": {},
   "outputs": [
    {
     "name": "stdout",
     "output_type": "stream",
     "text": [
      "C:/Users/fjdurlop/Documents/upc/models/intel/C3/e2/intel_model_c3_aug_dsa_e2_0\n",
      "Model loaded correctly\n",
      "C:/Users/fjdurlop/Documents/upc/models/intel/C3/e2/intel_model_c3_aug_dsa_e2_1\n",
      "Model loaded correctly\n",
      "C:/Users/fjdurlop/Documents/upc/models/intel/C3/e2/intel_model_c3_aug_dsa_e2_2\n",
      "Model loaded correctly\n",
      "C:/Users/fjdurlop/Documents/upc/models/intel/C3/e2/intel_model_c3_aug_dsa_e2_3\n",
      "Model loaded correctly\n",
      "C:/Users/fjdurlop/Documents/upc/models/intel/C3/e2/intel_model_c3_aug_dsa_e2_4\n",
      "Model loaded correctly\n",
      "C:/Users/fjdurlop/Documents/upc/models/intel/C3/e2/intel_model_c3_aug_dsa_e2_5\n",
      "Model loaded correctly\n",
      "C:/Users/fjdurlop/Documents/upc/models/intel/C3/e2/intel_model_c3_aug_dsa_e2_6\n",
      "Model loaded correctly\n",
      "C:/Users/fjdurlop/Documents/upc/models/intel/C3/e2/intel_model_c3_aug_dsa_e2_7\n",
      "Model loaded correctly\n",
      "C:/Users/fjdurlop/Documents/upc/models/intel/C3/e2/intel_model_c3_aug_dsa_e2_8\n",
      "Model loaded correctly\n",
      "C:/Users/fjdurlop/Documents/upc/models/intel/C3/e2/intel_model_c3_aug_dsa_e2_9\n",
      "Model loaded correctly\n",
      "C:/Users/fjdurlop/Documents/upc/models/intel/C3/e2/intel_model_c3_aug_dsa_e2_10\n",
      "Model loaded correctly\n",
      "C:/Users/fjdurlop/Documents/upc/models/intel/C3/e2/intel_model_c3_aug_dsa_e2_11\n",
      "Model loaded correctly\n",
      "C:/Users/fjdurlop/Documents/upc/models/intel/C3/e2/intel_model_c3_aug_dsa_e2_12\n",
      "Model loaded correctly\n",
      "C:/Users/fjdurlop/Documents/upc/models/intel/C3/e2/intel_model_c3_aug_dsa_e2_13\n",
      "Model loaded correctly\n",
      "C:/Users/fjdurlop/Documents/upc/models/intel/C3/e2/intel_model_c3_aug_dsa_e2_14\n",
      "Model loaded correctly\n",
      "C:/Users/fjdurlop/Documents/upc/models/intel/C3/e2/intel_model_c3_aug_dsa_e2_15\n",
      "Model loaded correctly\n",
      "C:/Users/fjdurlop/Documents/upc/models/intel/C3/e2/intel_model_c3_aug_dsa_e2_16\n",
      "Model loaded correctly\n",
      "C:/Users/fjdurlop/Documents/upc/models/intel/C3/e2/intel_model_c3_aug_dsa_e2_17\n",
      "Model loaded correctly\n",
      "C:/Users/fjdurlop/Documents/upc/models/intel/C3/e2/intel_model_c3_aug_dsa_e2_18\n",
      "Model loaded correctly\n",
      "C:/Users/fjdurlop/Documents/upc/models/intel/C3/e2/intel_model_c3_aug_dsa_e2_19\n",
      "Model loaded correctly\n"
     ]
    }
   ],
   "source": [
    "loading = True\n",
    "\n",
    "models_dsa = []\n",
    "\n",
    "if loading:\n",
    "    for i in range(num_models):\n",
    "        #model_dsa_dir = \"D:/models/gtsrb_models/C1/gtsrb_model_c1_sep_dsa_e2_\"+str(i)\n",
    "        model_dsa_dir = data_dir+\"/\"+dataset+\"/C3/e2/\"+dataset+\"_model_c3_aug_dsa_e2_\"+str(i)\n",
    "        print(model_dsa_dir)\n",
    "        model =utils.My_model(dataset,True,model_dsa_dir)\n",
    "        model.model.compile(loss= 'categorical_crossentropy', optimizer = 'rmsprop', metrics = ['accuracy',tf.keras.metrics.Precision(), tf.keras.metrics.Recall()])\n",
    "        models_dsa.append(model)\n",
    "       \n",
    "\n",
    "    "
   ]
  },
  {
   "cell_type": "code",
   "execution_count": 17,
   "id": "0a4a7c64",
   "metadata": {
    "scrolled": true
   },
   "outputs": [
    {
     "name": "stdout",
     "output_type": "stream",
     "text": [
      "C:/Users/fjdurlop/Documents/upc/models/intel/C3/e2/intel_model_c3_aug_dg_e2_0\n",
      "Model loaded correctly\n",
      "C:/Users/fjdurlop/Documents/upc/models/intel/C3/e2/intel_model_c3_aug_dg_e2_1\n",
      "Model loaded correctly\n",
      "C:/Users/fjdurlop/Documents/upc/models/intel/C3/e2/intel_model_c3_aug_dg_e2_2\n",
      "Model loaded correctly\n",
      "C:/Users/fjdurlop/Documents/upc/models/intel/C3/e2/intel_model_c3_aug_dg_e2_3\n",
      "Model loaded correctly\n",
      "C:/Users/fjdurlop/Documents/upc/models/intel/C3/e2/intel_model_c3_aug_dg_e2_4\n",
      "Model loaded correctly\n",
      "C:/Users/fjdurlop/Documents/upc/models/intel/C3/e2/intel_model_c3_aug_dg_e2_5\n",
      "Model loaded correctly\n",
      "C:/Users/fjdurlop/Documents/upc/models/intel/C3/e2/intel_model_c3_aug_dg_e2_6\n",
      "Model loaded correctly\n",
      "C:/Users/fjdurlop/Documents/upc/models/intel/C3/e2/intel_model_c3_aug_dg_e2_7\n",
      "Model loaded correctly\n",
      "C:/Users/fjdurlop/Documents/upc/models/intel/C3/e2/intel_model_c3_aug_dg_e2_8\n",
      "Model loaded correctly\n",
      "C:/Users/fjdurlop/Documents/upc/models/intel/C3/e2/intel_model_c3_aug_dg_e2_9\n",
      "Model loaded correctly\n",
      "C:/Users/fjdurlop/Documents/upc/models/intel/C3/e2/intel_model_c3_aug_dg_e2_10\n",
      "Model loaded correctly\n",
      "C:/Users/fjdurlop/Documents/upc/models/intel/C3/e2/intel_model_c3_aug_dg_e2_11\n",
      "Model loaded correctly\n",
      "C:/Users/fjdurlop/Documents/upc/models/intel/C3/e2/intel_model_c3_aug_dg_e2_12\n",
      "Model loaded correctly\n",
      "C:/Users/fjdurlop/Documents/upc/models/intel/C3/e2/intel_model_c3_aug_dg_e2_13\n",
      "Model loaded correctly\n",
      "C:/Users/fjdurlop/Documents/upc/models/intel/C3/e2/intel_model_c3_aug_dg_e2_14\n",
      "Model loaded correctly\n",
      "C:/Users/fjdurlop/Documents/upc/models/intel/C3/e2/intel_model_c3_aug_dg_e2_15\n",
      "Model loaded correctly\n",
      "C:/Users/fjdurlop/Documents/upc/models/intel/C3/e2/intel_model_c3_aug_dg_e2_16\n",
      "Model loaded correctly\n",
      "C:/Users/fjdurlop/Documents/upc/models/intel/C3/e2/intel_model_c3_aug_dg_e2_17\n",
      "Model loaded correctly\n",
      "C:/Users/fjdurlop/Documents/upc/models/intel/C3/e2/intel_model_c3_aug_dg_e2_18\n",
      "Model loaded correctly\n",
      "C:/Users/fjdurlop/Documents/upc/models/intel/C3/e2/intel_model_c3_aug_dg_e2_19\n",
      "Model loaded correctly\n"
     ]
    }
   ],
   "source": [
    "loading = True\n",
    "\n",
    "models_dg = []\n",
    "\n",
    "if loading:\n",
    "    for i in range(num_models):\n",
    "        #model_dg_dir = \"D:/models/aug_22/gtsrb/C1/gtsrb_model_c1_aug_gn_e1_\"+str(i)\n",
    "        model_dg_dir = data_dir+\"/\"+dataset+\"/C3/e2/\"+dataset+\"_model_c3_aug_dg_e2_\"+str(i)\n",
    "        \n",
    "        print(model_dg_dir)\n",
    "        model =utils.My_model(dataset,True,model_dg_dir)\n",
    "        model.model.compile(loss= 'categorical_crossentropy', optimizer = 'rmsprop', metrics = ['accuracy',tf.keras.metrics.Precision(), tf.keras.metrics.Recall()])\n",
    "        models_dg.append(model)\n",
    "       \n",
    "    "
   ]
  },
  {
   "cell_type": "code",
   "execution_count": 18,
   "id": "9301cc38",
   "metadata": {
    "scrolled": true
   },
   "outputs": [
    {
     "name": "stdout",
     "output_type": "stream",
     "text": [
      "C:/Users/fjdurlop/Documents/upc/models/intel/C3/e2/intel_model_c3_aug_se_e2_0\n",
      "Model loaded correctly\n",
      "C:/Users/fjdurlop/Documents/upc/models/intel/C3/e2/intel_model_c3_aug_se_e2_1\n",
      "Model loaded correctly\n",
      "C:/Users/fjdurlop/Documents/upc/models/intel/C3/e2/intel_model_c3_aug_se_e2_2\n",
      "Model loaded correctly\n",
      "C:/Users/fjdurlop/Documents/upc/models/intel/C3/e2/intel_model_c3_aug_se_e2_3\n",
      "Model loaded correctly\n",
      "C:/Users/fjdurlop/Documents/upc/models/intel/C3/e2/intel_model_c3_aug_se_e2_4\n",
      "Model loaded correctly\n",
      "C:/Users/fjdurlop/Documents/upc/models/intel/C3/e2/intel_model_c3_aug_se_e2_5\n",
      "Model loaded correctly\n",
      "C:/Users/fjdurlop/Documents/upc/models/intel/C3/e2/intel_model_c3_aug_se_e2_6\n",
      "Model loaded correctly\n",
      "C:/Users/fjdurlop/Documents/upc/models/intel/C3/e2/intel_model_c3_aug_se_e2_7\n",
      "Model loaded correctly\n",
      "C:/Users/fjdurlop/Documents/upc/models/intel/C3/e2/intel_model_c3_aug_se_e2_8\n",
      "Model loaded correctly\n",
      "C:/Users/fjdurlop/Documents/upc/models/intel/C3/e2/intel_model_c3_aug_se_e2_9\n",
      "Model loaded correctly\n",
      "C:/Users/fjdurlop/Documents/upc/models/intel/C3/e2/intel_model_c3_aug_se_e2_10\n",
      "Model loaded correctly\n",
      "C:/Users/fjdurlop/Documents/upc/models/intel/C3/e2/intel_model_c3_aug_se_e2_11\n",
      "Model loaded correctly\n",
      "C:/Users/fjdurlop/Documents/upc/models/intel/C3/e2/intel_model_c3_aug_se_e2_12\n",
      "Model loaded correctly\n",
      "C:/Users/fjdurlop/Documents/upc/models/intel/C3/e2/intel_model_c3_aug_se_e2_13\n",
      "Model loaded correctly\n",
      "C:/Users/fjdurlop/Documents/upc/models/intel/C3/e2/intel_model_c3_aug_se_e2_14\n",
      "Model loaded correctly\n",
      "C:/Users/fjdurlop/Documents/upc/models/intel/C3/e2/intel_model_c3_aug_se_e2_15\n",
      "Model loaded correctly\n",
      "C:/Users/fjdurlop/Documents/upc/models/intel/C3/e2/intel_model_c3_aug_se_e2_16\n",
      "Model loaded correctly\n",
      "C:/Users/fjdurlop/Documents/upc/models/intel/C3/e2/intel_model_c3_aug_se_e2_17\n",
      "Model loaded correctly\n",
      "C:/Users/fjdurlop/Documents/upc/models/intel/C3/e2/intel_model_c3_aug_se_e2_18\n",
      "Model loaded correctly\n",
      "C:/Users/fjdurlop/Documents/upc/models/intel/C3/e2/intel_model_c3_aug_se_e2_19\n",
      "Model loaded correctly\n"
     ]
    }
   ],
   "source": [
    "loading = True\n",
    "\n",
    "models_se = []\n",
    "\n",
    "if loading:\n",
    "    for i in range(num_models):\n",
    "        \n",
    "        model_se_dir = data_dir+\"/\"+dataset+\"/C3/e2/\"+dataset+\"_model_c3_aug_se_e2_\"+str(i)\n",
    "        \n",
    "        print(model_se_dir)\n",
    "        model =utils.My_model(dataset,True,model_se_dir)\n",
    "        model.model.compile(loss= 'categorical_crossentropy', optimizer = 'rmsprop', metrics = ['accuracy',tf.keras.metrics.Precision(), tf.keras.metrics.Recall()])\n",
    "        models_se.append(model)"
   ]
  },
  {
   "cell_type": "code",
   "execution_count": 19,
   "id": "eb1718e3",
   "metadata": {
    "scrolled": true
   },
   "outputs": [
    {
     "name": "stdout",
     "output_type": "stream",
     "text": [
      "C:/Users/fjdurlop/Documents/upc/models/intel/C3/e2/intel_model_c3_aug_random_e2_0\n",
      "Model loaded correctly\n",
      "C:/Users/fjdurlop/Documents/upc/models/intel/C3/e2/intel_model_c3_aug_random_e2_1\n",
      "Model loaded correctly\n",
      "C:/Users/fjdurlop/Documents/upc/models/intel/C3/e2/intel_model_c3_aug_random_e2_2\n",
      "Model loaded correctly\n",
      "C:/Users/fjdurlop/Documents/upc/models/intel/C3/e2/intel_model_c3_aug_random_e2_3\n",
      "Model loaded correctly\n",
      "C:/Users/fjdurlop/Documents/upc/models/intel/C3/e2/intel_model_c3_aug_random_e2_4\n",
      "Model loaded correctly\n",
      "C:/Users/fjdurlop/Documents/upc/models/intel/C3/e2/intel_model_c3_aug_random_e2_5\n",
      "Model loaded correctly\n",
      "C:/Users/fjdurlop/Documents/upc/models/intel/C3/e2/intel_model_c3_aug_random_e2_6\n",
      "Model loaded correctly\n",
      "C:/Users/fjdurlop/Documents/upc/models/intel/C3/e2/intel_model_c3_aug_random_e2_7\n",
      "Model loaded correctly\n",
      "C:/Users/fjdurlop/Documents/upc/models/intel/C3/e2/intel_model_c3_aug_random_e2_8\n",
      "Model loaded correctly\n",
      "C:/Users/fjdurlop/Documents/upc/models/intel/C3/e2/intel_model_c3_aug_random_e2_9\n",
      "Model loaded correctly\n",
      "C:/Users/fjdurlop/Documents/upc/models/intel/C3/e2/intel_model_c3_aug_random_e2_10\n",
      "Model loaded correctly\n",
      "C:/Users/fjdurlop/Documents/upc/models/intel/C3/e2/intel_model_c3_aug_random_e2_11\n",
      "Model loaded correctly\n",
      "C:/Users/fjdurlop/Documents/upc/models/intel/C3/e2/intel_model_c3_aug_random_e2_12\n",
      "Model loaded correctly\n",
      "C:/Users/fjdurlop/Documents/upc/models/intel/C3/e2/intel_model_c3_aug_random_e2_13\n",
      "Model loaded correctly\n",
      "C:/Users/fjdurlop/Documents/upc/models/intel/C3/e2/intel_model_c3_aug_random_e2_14\n",
      "Model loaded correctly\n",
      "C:/Users/fjdurlop/Documents/upc/models/intel/C3/e2/intel_model_c3_aug_random_e2_15\n",
      "Model loaded correctly\n",
      "C:/Users/fjdurlop/Documents/upc/models/intel/C3/e2/intel_model_c3_aug_random_e2_16\n",
      "Model loaded correctly\n",
      "C:/Users/fjdurlop/Documents/upc/models/intel/C3/e2/intel_model_c3_aug_random_e2_17\n",
      "Model loaded correctly\n",
      "C:/Users/fjdurlop/Documents/upc/models/intel/C3/e2/intel_model_c3_aug_random_e2_18\n",
      "Model loaded correctly\n",
      "C:/Users/fjdurlop/Documents/upc/models/intel/C3/e2/intel_model_c3_aug_random_e2_19\n",
      "Model loaded correctly\n"
     ]
    }
   ],
   "source": [
    "loading = True\n",
    "\n",
    "models_random = []\n",
    "\n",
    "if loading:\n",
    "    for i in range(num_models):\n",
    "        #model_random_dir = \"D:/models/aug_22/gtsrb/C1/gtsrb_model_c1_aug_random_e1_\"+str(i)\n",
    "        model_random_dir = data_dir+\"/\"+dataset+\"/C3/e2/\"+dataset+\"_model_c3_aug_random_e2_\"+str(i)\n",
    "        \n",
    "        print(model_random_dir)\n",
    "        model =utils.My_model(dataset,True,model_random_dir)\n",
    "        model.model.compile(loss= 'categorical_crossentropy', optimizer = 'rmsprop', metrics = ['accuracy',tf.keras.metrics.Precision(), tf.keras.metrics.Recall()])\n",
    "        models_random.append(model)\n",
    "       "
   ]
  },
  {
   "cell_type": "code",
   "execution_count": 20,
   "id": "b9860981",
   "metadata": {
    "scrolled": true
   },
   "outputs": [
    {
     "name": "stdout",
     "output_type": "stream",
     "text": [
      "C:/Users/fjdurlop/Documents/upc/models/intel/C3/e2/intel_model_c3_aug_nc_e2_0\n",
      "Model loaded correctly\n",
      "C:/Users/fjdurlop/Documents/upc/models/intel/C3/e2/intel_model_c3_aug_nc_e2_1\n",
      "Model loaded correctly\n",
      "C:/Users/fjdurlop/Documents/upc/models/intel/C3/e2/intel_model_c3_aug_nc_e2_2\n",
      "Model loaded correctly\n",
      "C:/Users/fjdurlop/Documents/upc/models/intel/C3/e2/intel_model_c3_aug_nc_e2_3\n",
      "Model loaded correctly\n",
      "C:/Users/fjdurlop/Documents/upc/models/intel/C3/e2/intel_model_c3_aug_nc_e2_4\n",
      "Model loaded correctly\n",
      "C:/Users/fjdurlop/Documents/upc/models/intel/C3/e2/intel_model_c3_aug_nc_e2_5\n",
      "Model loaded correctly\n",
      "C:/Users/fjdurlop/Documents/upc/models/intel/C3/e2/intel_model_c3_aug_nc_e2_6\n",
      "Model loaded correctly\n",
      "C:/Users/fjdurlop/Documents/upc/models/intel/C3/e2/intel_model_c3_aug_nc_e2_7\n",
      "Model loaded correctly\n",
      "C:/Users/fjdurlop/Documents/upc/models/intel/C3/e2/intel_model_c3_aug_nc_e2_8\n",
      "Model loaded correctly\n",
      "C:/Users/fjdurlop/Documents/upc/models/intel/C3/e2/intel_model_c3_aug_nc_e2_9\n",
      "Model loaded correctly\n",
      "C:/Users/fjdurlop/Documents/upc/models/intel/C3/e2/intel_model_c3_aug_nc_e2_10\n",
      "Model loaded correctly\n",
      "C:/Users/fjdurlop/Documents/upc/models/intel/C3/e2/intel_model_c3_aug_nc_e2_11\n",
      "Model loaded correctly\n",
      "C:/Users/fjdurlop/Documents/upc/models/intel/C3/e2/intel_model_c3_aug_nc_e2_12\n",
      "Model loaded correctly\n",
      "C:/Users/fjdurlop/Documents/upc/models/intel/C3/e2/intel_model_c3_aug_nc_e2_13\n",
      "Model loaded correctly\n",
      "C:/Users/fjdurlop/Documents/upc/models/intel/C3/e2/intel_model_c3_aug_nc_e2_14\n",
      "Model loaded correctly\n",
      "C:/Users/fjdurlop/Documents/upc/models/intel/C3/e2/intel_model_c3_aug_nc_e2_15\n",
      "Model loaded correctly\n",
      "C:/Users/fjdurlop/Documents/upc/models/intel/C3/e2/intel_model_c3_aug_nc_e2_16\n",
      "Model loaded correctly\n",
      "C:/Users/fjdurlop/Documents/upc/models/intel/C3/e2/intel_model_c3_aug_nc_e2_17\n",
      "Model loaded correctly\n",
      "C:/Users/fjdurlop/Documents/upc/models/intel/C3/e2/intel_model_c3_aug_nc_e2_18\n",
      "Model loaded correctly\n",
      "C:/Users/fjdurlop/Documents/upc/models/intel/C3/e2/intel_model_c3_aug_nc_e2_19\n",
      "Model loaded correctly\n"
     ]
    }
   ],
   "source": [
    "loading = True\n",
    "\n",
    "models_nc = []\n",
    "\n",
    "if loading:\n",
    "    for i in range(num_models):\n",
    "        #model_nc_dir = \"D:/models/aug_22/\"+dataset+\"/C1/\"+dataset+\"_model_c1_aug_nc_e1\"+str\n",
    "        model_nc_dir = data_dir+\"/\"+dataset+\"/C3/e2/\"+dataset+\"_model_c3_aug_nc_e2_\"+str(i)\n",
    "        print(model_nc_dir)\n",
    "        model =utils.My_model(dataset,True,model_nc_dir)\n",
    "        model.model.compile(loss= 'categorical_crossentropy', optimizer = 'rmsprop', metrics = ['accuracy',tf.keras.metrics.Precision(), tf.keras.metrics.Recall()])\n",
    "        models_nc.append(model)"
   ]
  },
  {
   "cell_type": "markdown",
   "id": "e02952dc",
   "metadata": {},
   "source": [
    "## Evaluating"
   ]
  },
  {
   "cell_type": "code",
   "execution_count": 21,
   "id": "cbc59f41",
   "metadata": {},
   "outputs": [],
   "source": [
    "model_original.model.compile(loss= 'categorical_crossentropy', optimizer = 'rmsprop', metrics = ['accuracy',tf.keras.metrics.Precision(), tf.keras.metrics.Recall()])"
   ]
  },
  {
   "cell_type": "code",
   "execution_count": 22,
   "id": "6fd7c127",
   "metadata": {},
   "outputs": [
    {
     "name": "stdout",
     "output_type": "stream",
     "text": [
      "188/188 [==============================] - 11s 13ms/step - loss: 0.5711 - accuracy: 0.8017 - precision_120: 0.8554 - recall_120: 0.7891\n"
     ]
    },
    {
     "data": {
      "text/plain": [
       "[0.9981359839439392, 0.687166690826416, 0.8330450654029846, 0.7658698558807373]"
      ]
     },
     "execution_count": 22,
     "metadata": {},
     "output_type": "execute_result"
    }
   ],
   "source": [
    "model_original.evaluate(x_test_and_adversary,y_test_and_adversary)\n"
   ]
  },
  {
   "cell_type": "code",
   "execution_count": 23,
   "id": "896eb89c",
   "metadata": {},
   "outputs": [
    {
     "name": "stdout",
     "output_type": "stream",
     "text": [
      "188/188 [==============================] - 2s 13ms/step - loss: 0.9981 - accuracy: 0.6872 - precision_120: 0.7535 - recall_120: 0.6806: 0s - loss: 0.5619 - accuracy: 0.7948 - precision_120: 0.7536 - recall\n"
     ]
    }
   ],
   "source": [
    "evaluate_dsa = []\n",
    "evaluate_dsa.append(model_original.evaluate(x_test_and_adversary,y_test_and_adversary))\n"
   ]
  },
  {
   "cell_type": "code",
   "execution_count": 26,
   "id": "f0fa2d76",
   "metadata": {},
   "outputs": [
    {
     "name": "stdout",
     "output_type": "stream",
     "text": [
      "Evaluating for dsa\n",
      "188/188 [==============================] - 10s 41ms/step - loss: 1.0226 - accuracy: 0.6534 - precision_40: 0.6670 - recall_40: 0.5682\n",
      "188/188 [==============================] - 10s 38ms/step - loss: 1.0560 - accuracy: 0.6506 - precision_41: 0.6992 - recall_41: 0.6046\n",
      "188/188 [==============================] - 10s 39ms/step - loss: 0.8805 - accuracy: 0.7168 - precision_42: 0.7747 - recall_42: 0.6593\n",
      "188/188 [==============================] - 10s 38ms/step - loss: 0.9434 - accuracy: 0.6900 - precision_43: 0.7249 - recall_43: 0.6125\n",
      "188/188 [==============================] - 10s 38ms/step - loss: 0.9482 - accuracy: 0.6745 - precision_44: 0.7220 - recall_44: 0.5659\n",
      "188/188 [==============================] - 10s 39ms/step - loss: 0.9849 - accuracy: 0.6210 - precision_45: 0.6556 - recall_45: 0.4539\n",
      "188/188 [==============================] - 10s 39ms/step - loss: 0.9347 - accuracy: 0.6749 - precision_46: 0.7045 - recall_46: 0.5810\n",
      "188/188 [==============================] - 10s 39ms/step - loss: 0.9071 - accuracy: 0.6742 - precision_47: 0.6986 - recall_47: 0.5509\n",
      "188/188 [==============================] - 11s 44ms/step - loss: 0.9482 - accuracy: 0.6591 - precision_48: 0.6778 - recall_48: 0.5545\n",
      "188/188 [==============================] - 10s 40ms/step - loss: 0.8748 - accuracy: 0.6761 - precision_49: 0.7255 - recall_49: 0.5888\n",
      "188/188 [==============================] - 10s 39ms/step - loss: 1.0136 - accuracy: 0.6561 - precision_50: 0.6504 - recall_50: 0.5476\n",
      "188/188 [==============================] - 10s 38ms/step - loss: 0.9088 - accuracy: 0.6687 - precision_51: 0.7627 - recall_51: 0.6858\n",
      "188/188 [==============================] - 10s 39ms/step - loss: 1.0573 - accuracy: 0.6797 - precision_52: 0.6986 - recall_52: 0.5754\n",
      "188/188 [==============================] - 9s 38ms/step - loss: 0.7820 - accuracy: 0.7341 - precision_53: 0.7795 - recall_53: 0.6717\n",
      "188/188 [==============================] - 9s 38ms/step - loss: 1.0308 - accuracy: 0.6863 - precision_54: 0.6582 - recall_54: 0.6051\n",
      "188/188 [==============================] - 9s 39ms/step - loss: 0.9213 - accuracy: 0.6821 - precision_55: 0.7009 - recall_55: 0.5859\n",
      "188/188 [==============================] - 10s 39ms/step - loss: 0.8285 - accuracy: 0.7115 - precision_56: 0.7133 - recall_56: 0.6120\n",
      "188/188 [==============================] - 10s 39ms/step - loss: 0.7000 - accuracy: 0.7562 - precision_57: 0.7841 - recall_57: 0.7002\n",
      "188/188 [==============================] - 10s 38ms/step - loss: 0.7222 - accuracy: 0.7470 - precision_58: 0.7603 - recall_58: 0.6803\n",
      "188/188 [==============================] - 9s 37ms/step - loss: 0.9386 - accuracy: 0.6578 - precision_59: 0.6590 - recall_59: 0.4968\n"
     ]
    }
   ],
   "source": [
    "print(\"Evaluating for dsa\")\n",
    "for model in models_dsa:\n",
    "    evaluate_dsa.append(model.evaluate(x_test_and_adversary,y_test_and_adversary))"
   ]
  },
  {
   "cell_type": "code",
   "execution_count": 24,
   "id": "286ee29c",
   "metadata": {},
   "outputs": [
    {
     "name": "stdout",
     "output_type": "stream",
     "text": [
      "188/188 [==============================] - 2s 13ms/step - loss: 0.9981 - accuracy: 0.6872 - precision_120: 0.7415 - recall_120: 0.6680: 2s - loss: 0.3871 - accuracy: 0.8763 - pr\n",
      "188/188 [==============================] - 2s 13ms/step - loss: 0.9981 - accuracy: 0.6872 - precision_120: 0.7363 - recall_120: 0.6626\n",
      "188/188 [==============================] - 2s 13ms/step - loss: 0.9981 - accuracy: 0.6872 - precision_120: 0.7334 - recall_120: 0.6596\n",
      "188/188 [==============================] - 2s 13ms/step - loss: 0.9981 - accuracy: 0.6872 - precision_120: 0.7316 - recall_120: 0.6576: 0s - loss: 0.8288 - accuracy: 0.7286 - precision_120: 0.7320 - recall_120: 0.\n",
      "188/188 [==============================] - 2s 13ms/step - loss: 0.9981 - accuracy: 0.6872 - precision_120: 0.7303 - recall_120: 0.6563\n",
      "188/188 [==============================] - 3s 15ms/step - loss: 0.9981 - accuracy: 0.6872 - precision_120: 0.7293 - recall_120: 0.6553\n"
     ]
    }
   ],
   "source": [
    "evaluate_lsa = []\n",
    "evaluate_dsa = []\n",
    "evaluate_dg = []\n",
    "evaluate_se = []\n",
    "evaluate_nc = []\n",
    "evaluate_random = []\n",
    "\n",
    "#c2\n",
    "evaluate_lsa.append(model_original.evaluate(x_test_and_adversary,y_test_and_adversary))\n",
    "evaluate_dsa.append(model_original.evaluate(x_test_and_adversary,y_test_and_adversary))\n",
    "evaluate_dg.append(model_original.evaluate(x_test_and_adversary,y_test_and_adversary))\n",
    "evaluate_se.append(model_original.evaluate(x_test_and_adversary,y_test_and_adversary))\n",
    "evaluate_nc.append(model_original.evaluate(x_test_and_adversary,y_test_and_adversary))\n",
    "evaluate_random.append(model_original.evaluate(x_test_and_adversary,y_test_and_adversary))"
   ]
  },
  {
   "cell_type": "code",
   "execution_count": 25,
   "id": "30633373",
   "metadata": {
    "scrolled": true
   },
   "outputs": [
    {
     "name": "stdout",
     "output_type": "stream",
     "text": [
      "Evaluating for lsa\n",
      "188/188 [==============================] - 3s 13ms/step - loss: 0.8684 - accuracy: 0.7221 - precision: 0.7994 - recall: 0.7206: 1s - loss: 0.6538 - accuracy: 0.8190 - precision: 0. - ETA: 0s - loss: 0.8218 - accuracy: 0.7415 - precision: 0.8165 -\n",
      "188/188 [==============================] - 3s 13ms/step - loss: 1.0471 - accuracy: 0.6308 - precision_1: 0.6560 - recall_1: 0.4577: 1s - loss: 1.2372 - accuracy: 0.5738 - preci\n",
      "188/188 [==============================] - 4s 13ms/step - loss: 0.9573 - accuracy: 0.6754 - precision_2: 0.6671 - recall_2: 0.5237: 1s - loss: 1.0102 - accuracy: 0.6553 - precision_2: 0.6122 - recall_2: 0.4 - ETA: 1s - loss: 0.9953 - accuracy: 0.6610 - precision_2: 0.6228 - rec - ETA: 0s - loss: 0.9584 - accuracy: 0.6748 - precision_2: 0.6549 - recall_2\n",
      "188/188 [==============================] - 4s 14ms/step - loss: 0.9477 - accuracy: 0.6498 - precision_3: 0.7074 - recall_3: 0.5361\n",
      "188/188 [==============================] - 3s 13ms/step - loss: 1.0244 - accuracy: 0.6415 - precision_4: 0.7032 - recall_4: 0.5235\n",
      "188/188 [==============================] - 3s 13ms/step - loss: 1.2826 - accuracy: 0.6342 - precision_5: 0.7646 - recall_5: 0.6280\n",
      "188/188 [==============================] - 4s 14ms/step - loss: 1.1049 - accuracy: 0.6584 - precision_6: 0.7816 - recall_6: 0.6958: 2s - loss: 0.6033 - accuracy: 0.8391 \n",
      "188/188 [==============================] - 4s 14ms/step - loss: 0.7647 - accuracy: 0.7233 - precision_7: 0.8254 - recall_7: 0.7001\n",
      "188/188 [==============================] - 4s 15ms/step - loss: 0.9116 - accuracy: 0.6770 - precision_8: 0.7422 - recall_8: 0.6630\n",
      "188/188 [==============================] - 4s 15ms/step - loss: 0.8666 - accuracy: 0.6968 - precision_9: 0.7533 - recall_9: 0.6789: 1s - loss: 0.8336 - accuracy: 0.7067 - precision_9: 0.76\n",
      "188/188 [==============================] - 4s 15ms/step - loss: 0.7893 - accuracy: 0.7133 - precision_10: 0.7832 - recall_10: 0.6617: 0s - loss: 0.7783 - accuracy: 0.7186 - precision_10: 0.7860 - reca\n",
      "188/188 [==============================] - 4s 15ms/step - loss: 0.8702 - accuracy: 0.7097 - precision_11: 0.7683 - recall_11: 0.6859\n",
      "188/188 [==============================] - 4s 16ms/step - loss: 0.7511 - accuracy: 0.7325 - precision_12: 0.7919 - recall_12: 0.6825\n",
      "188/188 [==============================] - 4s 16ms/step - loss: 0.7633 - accuracy: 0.7300 - precision_13: 0.7828 - recall_13: 0.6297: 0s - loss: 0.7550 - accuracy: 0.7343 - precision_13: 0.7817 - recall_1\n",
      "188/188 [==============================] - 4s 17ms/step - loss: 0.7792 - accuracy: 0.7413 - precision_14: 0.7674 - recall_14: 0.6931: 2s - loss: 0.7695 - accuracy: 0.7413 - precision_14: 0.7329 - recall_14: 0 - ETA: 2s - loss: 0.7701 - accuracy: 0.7436 \n",
      "188/188 [==============================] - 4s 18ms/step - loss: 0.8068 - accuracy: 0.7440 - precision_15: 0.7622 - recall_15: 0.7077\n",
      "188/188 [==============================] - 4s 19ms/step - loss: 1.1039 - accuracy: 0.6651 - precision_16: 0.6668 - recall_16: 0.5483\n",
      "188/188 [==============================] - 5s 19ms/step - loss: 1.0124 - accuracy: 0.6499 - precision_17: 0.6458 - recall_17: 0.5486\n",
      "188/188 [==============================] - 5s 19ms/step - loss: 0.6766 - accuracy: 0.7793 - precision_18: 0.8273 - recall_18: 0.7618\n",
      "188/188 [==============================] - 5s 19ms/step - loss: 0.7040 - accuracy: 0.7710 - precision_19: 0.8239 - recall_19: 0.7554\n",
      "Evaluating for dsa\n",
      "188/188 [==============================] - 5s 20ms/step - loss: 1.2194 - accuracy: 0.5720 - precision_20: 0.6020 - recall_20: 0.4600\n",
      "188/188 [==============================] - 5s 19ms/step - loss: 1.0128 - accuracy: 0.6659 - precision_21: 0.7609 - recall_21: 0.5615\n",
      "188/188 [==============================] - 5s 19ms/step - loss: 0.9141 - accuracy: 0.6891 - precision_22: 0.7437 - recall_22: 0.6363\n",
      "188/188 [==============================] - 5s 19ms/step - loss: 0.8476 - accuracy: 0.7223 - precision_23: 0.7866 - recall_23: 0.6713\n",
      "188/188 [==============================] - 5s 19ms/step - loss: 0.8547 - accuracy: 0.7115 - precision_24: 0.7453 - recall_24: 0.6380\n",
      "188/188 [==============================] - 5s 19ms/step - loss: 0.8838 - accuracy: 0.6900 - precision_25: 0.7341 - recall_25: 0.6125: 2s - loss: 0.9560 - a\n",
      "188/188 [==============================] - 5s 20ms/step - loss: 0.9022 - accuracy: 0.6624 - precision_26: 0.7001 - recall_26: 0.5322\n",
      "188/188 [==============================] - 5s 21ms/step - loss: 0.9219 - accuracy: 0.6734 - precision_27: 0.7316 - recall_27: 0.6058\n",
      "188/188 [==============================] - 5s 19ms/step - loss: 0.7869 - accuracy: 0.7108 - precision_28: 0.7771 - recall_28: 0.6480\n",
      "188/188 [==============================] - 5s 20ms/step - loss: 0.7796 - accuracy: 0.7248 - precision_29: 0.7699 - recall_29: 0.6551\n",
      "188/188 [==============================] - 5s 19ms/step - loss: 0.8512 - accuracy: 0.7034 - precision_30: 0.7182 - recall_30: 0.6075\n",
      "188/188 [==============================] - 5s 19ms/step - loss: 0.9027 - accuracy: 0.7143 - precision_31: 0.7468 - recall_31: 0.6829\n",
      "188/188 [==============================] - 5s 19ms/step - loss: 0.8724 - accuracy: 0.7093 - precision_32: 0.7450 - recall_32: 0.6513\n",
      "188/188 [==============================] - 5s 20ms/step - loss: 0.8238 - accuracy: 0.7281 - precision_33: 0.7367 - recall_33: 0.6646\n",
      "188/188 [==============================] - 5s 19ms/step - loss: 0.8425 - accuracy: 0.7231 - precision_34: 0.7471 - recall_34: 0.6550\n",
      "188/188 [==============================] - 5s 19ms/step - loss: 0.8240 - accuracy: 0.7194 - precision_35: 0.7972 - recall_35: 0.6645\n",
      "188/188 [==============================] - 5s 19ms/step - loss: 0.8090 - accuracy: 0.7087 - precision_36: 0.7567 - recall_36: 0.6138\n",
      "188/188 [==============================] - 5s 19ms/step - loss: 0.7921 - accuracy: 0.7200 - precision_37: 0.7373 - recall_37: 0.6281\n",
      "188/188 [==============================] - 5s 20ms/step - loss: 0.9718 - accuracy: 0.6588 - precision_38: 0.6942 - recall_38: 0.5214\n",
      "188/188 [==============================] - 5s 19ms/step - loss: 0.7254 - accuracy: 0.7305 - precision_39: 0.7728 - recall_39: 0.6537\n",
      "Evaluating for random\n",
      "188/188 [==============================] - 5s 20ms/step - loss: 0.7768 - accuracy: 0.7454 - precision_80: 0.7619 - recall_80: 0.7162\n",
      "188/188 [==============================] - 5s 19ms/step - loss: 0.7362 - accuracy: 0.7523 - precision_81: 0.7887 - recall_81: 0.7073\n",
      "188/188 [==============================] - 5s 20ms/step - loss: 0.8790 - accuracy: 0.7267 - precision_82: 0.7622 - recall_82: 0.6999\n",
      "188/188 [==============================] - 5s 20ms/step - loss: 0.9323 - accuracy: 0.7239 - precision_83: 0.7495 - recall_83: 0.7071\n",
      "188/188 [==============================] - 5s 20ms/step - loss: 0.8008 - accuracy: 0.7385 - precision_84: 0.7597 - recall_84: 0.6828\n",
      "188/188 [==============================] - 5s 19ms/step - loss: 1.0112 - accuracy: 0.7323 - precision_85: 0.7954 - recall_85: 0.7645\n",
      "188/188 [==============================] - 5s 20ms/step - loss: 0.7245 - accuracy: 0.7634 - precision_86: 0.7883 - recall_86: 0.7175\n",
      "188/188 [==============================] - 5s 20ms/step - loss: 0.8732 - accuracy: 0.7096 - precision_87: 0.7077 - recall_87: 0.6304\n",
      "188/188 [==============================] - 5s 20ms/step - loss: 0.7332 - accuracy: 0.7574 - precision_88: 0.7906 - recall_88: 0.7219\n",
      "188/188 [==============================] - 5s 20ms/step - loss: 0.7842 - accuracy: 0.7429 - precision_89: 0.7664 - recall_89: 0.6879\n",
      "188/188 [==============================] - 5s 20ms/step - loss: 0.7402 - accuracy: 0.7621 - precision_90: 0.7979 - recall_90: 0.7161\n",
      "188/188 [==============================] - 5s 20ms/step - loss: 0.8498 - accuracy: 0.7041 - precision_91: 0.7935 - recall_91: 0.6626\n",
      "188/188 [==============================] - 5s 20ms/step - loss: 0.7762 - accuracy: 0.7489 - precision_92: 0.7711 - recall_92: 0.7069\n",
      "188/188 [==============================] - 5s 20ms/step - loss: 0.7723 - accuracy: 0.7339 - precision_93: 0.7739 - recall_93: 0.6667\n",
      "188/188 [==============================] - 5s 20ms/step - loss: 0.6960 - accuracy: 0.7616 - precision_94: 0.8073 - recall_94: 0.6991\n",
      "188/188 [==============================] - 5s 20ms/step - loss: 0.7246 - accuracy: 0.7769 - precision_95: 0.8105 - recall_95: 0.7540\n",
      "188/188 [==============================] - 5s 20ms/step - loss: 0.7334 - accuracy: 0.7429 - precision_96: 0.7953 - recall_96: 0.6964\n",
      "188/188 [==============================] - 5s 23ms/step - loss: 0.8255 - accuracy: 0.7468 - precision_97: 0.7611 - recall_97: 0.7284\n",
      "188/188 [==============================] - 6s 24ms/step - loss: 0.7513 - accuracy: 0.7425 - precision_98: 0.7979 - recall_98: 0.6868\n",
      "188/188 [==============================] - 5s 22ms/step - loss: 0.7207 - accuracy: 0.7597 - precision_99: 0.7847 - recall_99: 0.7056\n",
      "Evaluating for nc\n",
      "188/188 [==============================] - 5s 22ms/step - loss: 1.1340 - accuracy: 0.7126 - precision_100: 0.7486 - recall_100: 0.7198\n",
      "188/188 [==============================] - 5s 22ms/step - loss: 1.0851 - accuracy: 0.6984 - precision_101: 0.7416 - recall_101: 0.6900\n",
      "188/188 [==============================] - 5s 20ms/step - loss: 1.4106 - accuracy: 0.6506 - precision_102: 0.6804 - recall_102: 0.6025\n",
      "188/188 [==============================] - 6s 24ms/step - loss: 1.3870 - accuracy: 0.6471 - precision_103: 0.6335 - recall_103: 0.5684: 1s - loss: 1.4855 - accuracy: 0.6314 - precision_103: \n",
      "188/188 [==============================] - 6s 23ms/step - loss: 1.1447 - accuracy: 0.7317 - precision_104: 0.7582 - recall_104: 0.7198A: 3s - loss: 1.0529 - accuracy: 0.7716 - precision_104: 0 - ETA: 2s - loss: 1.1704 - accuracy: 0.7396 - pre\n",
      "188/188 [==============================] - 5s 23ms/step - loss: 0.8868 - accuracy: 0.6982 - precision_105: 0.7726 - recall_105: 0.6801\n",
      "188/188 [==============================] - 5s 21ms/step - loss: 1.0823 - accuracy: 0.7386 - precision_106: 0.7630 - recall_106: 0.7413\n",
      "188/188 [==============================] - 5s 20ms/step - loss: 1.1343 - accuracy: 0.6411 - precision_107: 0.6205 - recall_107: 0.4859\n",
      "188/188 [==============================] - 6s 20ms/step - loss: 1.1128 - accuracy: 0.7047 - precision_108: 0.7081 - recall_108: 0.6567\n",
      "188/188 [==============================] - 5s 20ms/step - loss: 1.0467 - accuracy: 0.7123 - precision_109: 0.7404 - recall_109: 0.6513\n",
      "188/188 [==============================] - 6s 23ms/step - loss: 0.8920 - accuracy: 0.7571 - precision_110: 0.8129 - recall_110: 0.7552\n",
      "188/188 [==============================] - 6s 24ms/step - loss: 1.3292 - accuracy: 0.7049 - precision_111: 0.6906 - recall_111: 0.6339\n",
      "188/188 [==============================] - 5s 21ms/step - loss: 1.0787 - accuracy: 0.7197 - precision_112: 0.7151 - recall_112: 0.6608\n",
      "188/188 [==============================] - 5s 21ms/step - loss: 0.9451 - accuracy: 0.6988 - precision_113: 0.7215 - recall_113: 0.6183\n",
      "188/188 [==============================] - 5s 22ms/step - loss: 0.9048 - accuracy: 0.7166 - precision_114: 0.7236 - recall_114: 0.6637\n",
      "188/188 [==============================] - 5s 21ms/step - loss: 0.9042 - accuracy: 0.7134 - precision_115: 0.7173 - recall_115: 0.6297\n",
      "188/188 [==============================] - 5s 21ms/step - loss: 0.8646 - accuracy: 0.7255 - precision_116: 0.7202 - recall_116: 0.6504\n",
      "188/188 [==============================] - 5s 21ms/step - loss: 0.7447 - accuracy: 0.7400 - precision_117: 0.7548 - recall_117: 0.6645\n",
      "188/188 [==============================] - 5s 21ms/step - loss: 0.7438 - accuracy: 0.7643 - precision_118: 0.7837 - recall_118: 0.7383\n",
      "188/188 [==============================] - 5s 21ms/step - loss: 0.8484 - accuracy: 0.7216 - precision_119: 0.7421 - recall_119: 0.6691\n"
     ]
    }
   ],
   "source": [
    "# Metrics using adversarial test\n",
    "\n",
    "#evaluate_lsa.append(model_original.evaluate(x_test_and_adversary,y_test_and_adversary))\n",
    "#evaluate_dsa.append(model_original.evaluate(x_test_and_adversary,y_test_and_adversary))\n",
    "#evaluate_nc.append(model_original.evaluate(x_test_and_adversary,y_test_and_adversary))\n",
    "#evaluate_random.append(model_original.evaluate(x_test_and_adversary,y_test_and_adversary))\n",
    "print(\"Evaluating for lsa\")\n",
    "for model in models_lsa:\n",
    "    evaluate_lsa.append(model.evaluate(x_test_and_adversary,y_test_and_adversary))\n",
    "    \n",
    "print(\"Evaluating for dsa\")\n",
    "for model in models_dsa:\n",
    "    evaluate_dsa.append(model.evaluate(x_test_and_adversary,y_test_and_adversary))\n",
    "print(\"Evaluating for random\")\n",
    "for model in models_random:\n",
    "    evaluate_random.append(model.evaluate(x_test_and_adversary,y_test_and_adversary))\n",
    "print(\"Evaluating for nc\")\n",
    "for model in models_nc:\n",
    "    evaluate_nc.append(model.evaluate(x_test_and_adversary,y_test_and_adversary))"
   ]
  },
  {
   "cell_type": "code",
   "execution_count": 26,
   "id": "ae3df5fe",
   "metadata": {
    "scrolled": true
   },
   "outputs": [
    {
     "name": "stdout",
     "output_type": "stream",
     "text": [
      "Evaluating for dg\n",
      "188/188 [==============================] - 5s 23ms/step - loss: 0.8827 - accuracy: 0.7119 - precision_40: 0.7662 - recall_40: 0.6457\n",
      "188/188 [==============================] - 5s 22ms/step - loss: 1.0826 - accuracy: 0.6649 - precision_41: 0.6850 - recall_41: 0.6034\n",
      "188/188 [==============================] - 5s 22ms/step - loss: 0.8055 - accuracy: 0.7334 - precision_42: 0.7793 - recall_42: 0.6885\n",
      "188/188 [==============================] - 5s 22ms/step - loss: 0.8868 - accuracy: 0.7005 - precision_43: 0.7521 - recall_43: 0.6383\n",
      "188/188 [==============================] - 5s 22ms/step - loss: 0.8396 - accuracy: 0.7217 - precision_44: 0.7466 - recall_44: 0.6650\n",
      "188/188 [==============================] - 5s 22ms/step - loss: 0.9699 - accuracy: 0.6626 - precision_45: 0.6777 - recall_45: 0.5309\n",
      "188/188 [==============================] - 5s 23ms/step - loss: 0.9324 - accuracy: 0.6864 - precision_46: 0.6873 - recall_46: 0.5714\n",
      "188/188 [==============================] - 5s 21ms/step - loss: 0.9885 - accuracy: 0.6994 - precision_47: 0.7145 - recall_47: 0.6587\n",
      "188/188 [==============================] - 5s 22ms/step - loss: 0.7505 - accuracy: 0.7334 - precision_48: 0.7716 - recall_48: 0.6903\n",
      "188/188 [==============================] - 5s 22ms/step - loss: 0.8470 - accuracy: 0.6994 - precision_49: 0.7168 - recall_49: 0.6003\n",
      "188/188 [==============================] - 5s 22ms/step - loss: 0.8246 - accuracy: 0.7362 - precision_50: 0.7433 - recall_50: 0.6824\n",
      "188/188 [==============================] - 5s 22ms/step - loss: 0.9400 - accuracy: 0.6623 - precision_51: 0.7219 - recall_51: 0.6065\n",
      "188/188 [==============================] - 5s 22ms/step - loss: 0.8779 - accuracy: 0.6891 - precision_52: 0.7001 - recall_52: 0.5991: 3s - loss: 1.1498 - accuracy: 0.6113 - precision_52: 0.601 - ETA: 1s - loss: 0.9429 - accuracy: 0.6718 - precisi\n",
      "188/188 [==============================] - 5s 22ms/step - loss: 0.7928 - accuracy: 0.7284 - precision_53: 0.7735 - recall_53: 0.6650: 1s - loss: 0.7903 - accuracy: 0.7305 - precision_53: 0.\n",
      "188/188 [==============================] - 6s 24ms/step - loss: 0.7009 - accuracy: 0.7747 - precision_54: 0.8012 - recall_54: 0.7422\n",
      "188/188 [==============================] - 5s 22ms/step - loss: 0.7630 - accuracy: 0.7484 - precision_55: 0.7601 - recall_55: 0.6827\n",
      "188/188 [==============================] - 5s 22ms/step - loss: 0.8193 - accuracy: 0.7414 - precision_56: 0.7890 - recall_56: 0.7463\n",
      "188/188 [==============================] - 5s 22ms/step - loss: 0.8637 - accuracy: 0.7114 - precision_57: 0.7054 - recall_57: 0.6158\n",
      "188/188 [==============================] - 5s 22ms/step - loss: 0.8894 - accuracy: 0.7068 - precision_58: 0.7108 - recall_58: 0.6256\n",
      "188/188 [==============================] - 5s 22ms/step - loss: 0.8003 - accuracy: 0.7426 - precision_59: 0.7596 - recall_59: 0.6731\n",
      "Evaluating for se\n",
      "188/188 [==============================] - 5s 22ms/step - loss: 0.8883 - accuracy: 0.7022 - precision_60: 0.7561 - recall_60: 0.6252\n",
      "188/188 [==============================] - 5s 22ms/step - loss: 0.9215 - accuracy: 0.7363 - precision_61: 0.7722 - recall_61: 0.7160\n",
      "188/188 [==============================] - 5s 22ms/step - loss: 0.9793 - accuracy: 0.6873 - precision_62: 0.7209 - recall_62: 0.6596\n",
      "188/188 [==============================] - 5s 22ms/step - loss: 0.8747 - accuracy: 0.7253 - precision_63: 0.7599 - recall_63: 0.6868\n",
      "188/188 [==============================] - 5s 22ms/step - loss: 0.9738 - accuracy: 0.6858 - precision_64: 0.7177 - recall_64: 0.6318\n",
      "188/188 [==============================] - 5s 22ms/step - loss: 1.0321 - accuracy: 0.6503 - precision_65: 0.6653 - recall_65: 0.5721\n",
      "188/188 [==============================] - 5s 22ms/step - loss: 0.9415 - accuracy: 0.7109 - precision_66: 0.7753 - recall_66: 0.7040\n",
      "188/188 [==============================] - 5s 23ms/step - loss: 0.8664 - accuracy: 0.7036 - precision_67: 0.7298 - recall_67: 0.6006\n",
      "188/188 [==============================] - 5s 22ms/step - loss: 0.9322 - accuracy: 0.7042 - precision_68: 0.6990 - recall_68: 0.6126\n",
      "188/188 [==============================] - 5s 22ms/step - loss: 0.7637 - accuracy: 0.7448 - precision_69: 0.7922 - recall_69: 0.6889\n",
      "188/188 [==============================] - 5s 22ms/step - loss: 0.9963 - accuracy: 0.6893 - precision_70: 0.6837 - recall_70: 0.6298\n",
      "188/188 [==============================] - 5s 23ms/step - loss: 0.9851 - accuracy: 0.7009 - precision_71: 0.7139 - recall_71: 0.6460: 2s - loss: 1.0403 - accuracy: 0.6845 - prec\n",
      "188/188 [==============================] - 6s 24ms/step - loss: 0.8483 - accuracy: 0.7221 - precision_72: 0.7534 - recall_72: 0.6911\n",
      "188/188 [==============================] - 6s 24ms/step - loss: 0.8804 - accuracy: 0.7227 - precision_73: 0.7755 - recall_73: 0.7184\n",
      "188/188 [==============================] - 6s 24ms/step - loss: 0.7740 - accuracy: 0.7395 - precision_74: 0.7543 - recall_74: 0.6779\n",
      "188/188 [==============================] - 6s 24ms/step - loss: 0.7454 - accuracy: 0.7475 - precision_75: 0.7868 - recall_75: 0.7139\n",
      "188/188 [==============================] - 6s 23ms/step - loss: 0.7303 - accuracy: 0.7540 - precision_76: 0.7844 - recall_76: 0.7011\n",
      "188/188 [==============================] - 6s 23ms/step - loss: 0.7803 - accuracy: 0.7162 - precision_77: 0.7434 - recall_77: 0.6101\n",
      "188/188 [==============================] - 6s 23ms/step - loss: 0.8483 - accuracy: 0.7335 - precision_78: 0.7828 - recall_78: 0.7337\n",
      "188/188 [==============================] - 6s 23ms/step - loss: 0.7099 - accuracy: 0.7498 - precision_79: 0.7759 - recall_79: 0.6905\n"
     ]
    }
   ],
   "source": [
    "print(\"Evaluating for dg\")\n",
    "for model in models_dg:\n",
    "    evaluate_dg.append(model.evaluate(x_test_and_adversary,y_test_and_adversary))\n",
    "    \n",
    "print(\"Evaluating for se\")\n",
    "for model in models_se:\n",
    "    evaluate_se.append(model.evaluate(x_test_and_adversary,y_test_and_adversary))\n"
   ]
  },
  {
   "cell_type": "code",
   "execution_count": 27,
   "id": "2141a097",
   "metadata": {},
   "outputs": [
    {
     "data": {
      "text/plain": [
       "21"
      ]
     },
     "execution_count": 27,
     "metadata": {},
     "output_type": "execute_result"
    }
   ],
   "source": [
    "len(evaluate_dg)"
   ]
  },
  {
   "cell_type": "code",
   "execution_count": 28,
   "id": "078f3e93",
   "metadata": {},
   "outputs": [],
   "source": [
    "#evaluate_lsa.append(models_lsa[20].evaluate(x_test_and_adversary,y_test_and_adversary))\n",
    "#evaluate_dsa.append(models_dsa[20].evaluate(x_test_and_adversary,y_test_and_adversary))\n",
    "#evaluate_dg.append(models_dg[20].evaluate(x_test_and_adversary,y_test_and_adversary))\n",
    "#evaluate_se.append(models_se[20].evaluate(x_test_and_adversary,y_test_and_adversary))\n",
    "#evaluate_random.append(models_random[20].evaluate(x_test_and_adversary,y_test_and_adversary))\n",
    "#evaluate_nc.append(models_nc[20].evaluate(x_test_and_adversary,y_test_and_adversary))\n"
   ]
  },
  {
   "cell_type": "code",
   "execution_count": 29,
   "id": "e48d1822",
   "metadata": {},
   "outputs": [
    {
     "data": {
      "text/plain": [
       "21"
      ]
     },
     "execution_count": 29,
     "metadata": {},
     "output_type": "execute_result"
    }
   ],
   "source": [
    "len(evaluate_nc)"
   ]
  },
  {
   "cell_type": "code",
   "execution_count": 30,
   "id": "cc37b272",
   "metadata": {},
   "outputs": [],
   "source": [
    "#import pandas as pd\n",
    "#df_evaluate_dsa = pd.DataFrame(np.array(evaluate_dsa),columns=[\"loss\",\"accuracy\",\"precision\",\"recall\"])\n"
   ]
  },
  {
   "cell_type": "code",
   "execution_count": 31,
   "id": "ba831e22",
   "metadata": {},
   "outputs": [],
   "source": [
    "import pandas as pd\n",
    "\n",
    "df_evaluate_lsa = pd.DataFrame(np.array(evaluate_lsa),columns=[\"loss\",\"accuracy\",\"precision\",\"recall\"])\n",
    "df_evaluate_dsa = pd.DataFrame(np.array(evaluate_dsa),columns=[\"loss\",\"accuracy\",\"precision\",\"recall\"])\n",
    "df_evaluate_dg = pd.DataFrame(np.array(evaluate_dg),columns=[\"loss\",\"accuracy\",\"precision\",\"recall\"])\n",
    "df_evaluate_se = pd.DataFrame(np.array(evaluate_se),columns=[\"loss\",\"accuracy\",\"precision\",\"recall\"])\n",
    "df_evaluate_random = pd.DataFrame(np.array(evaluate_random),columns=[\"loss\",\"accuracy\",\"precision\",\"recall\"])\n",
    "df_evaluate_nc = pd.DataFrame(np.array(evaluate_nc),columns=[\"loss\",\"accuracy\",\"precision\",\"recall\"])\n"
   ]
  },
  {
   "cell_type": "code",
   "execution_count": 32,
   "id": "d5eae8d4",
   "metadata": {},
   "outputs": [],
   "source": [
    "#save_dir = \"D:/aug_graphs/\"+dataset+\"/\"+config_lc\n",
    "save_dir = \"C:/Users/fjdurlop/Documents/upc/aug_graphs/\"+dataset+\"/\"+config_lc+\"_e2\""
   ]
  },
  {
   "cell_type": "code",
   "execution_count": 33,
   "id": "709b4466",
   "metadata": {},
   "outputs": [
    {
     "name": "stdout",
     "output_type": "stream",
     "text": [
      "False\n"
     ]
    }
   ],
   "source": [
    "loading_csv = False\n",
    "# Check if loading\n",
    "print(loading_csv)"
   ]
  },
  {
   "cell_type": "code",
   "execution_count": 34,
   "id": "1fcc89a7",
   "metadata": {},
   "outputs": [],
   "source": [
    "df_evaluate_lsa.to_csv(save_dir+\"/lsa_\"+config_lc,index=False)\n",
    "df_evaluate_dsa.to_csv(save_dir+\"/dsa_\"+config_lc,index=False)\n",
    "df_evaluate_dg.to_csv(save_dir+\"/dg_\"+config_lc,index=False)\n",
    "df_evaluate_se.to_csv(save_dir+\"/se_\"+config_lc,index=False)\n",
    "df_evaluate_random.to_csv(save_dir+\"/random_\"+config_lc,index=False)\n",
    "df_evaluate_nc.to_csv(save_dir+\"/nc_\"+config_lc,index=False)"
   ]
  },
  {
   "cell_type": "code",
   "execution_count": 17,
   "id": "7c0f541f",
   "metadata": {},
   "outputs": [],
   "source": [
    "import pandas as pd\n",
    "loading_csv = True\n",
    "if(loading_csv):\n",
    "    df_evaluate_lsa = pd.read_csv(save_dir+\"/lsa_\"+config_lc)\n",
    "    df_evaluate_dsa = pd.read_csv(save_dir+\"/dsa_\"+config_lc)\n",
    "    df_evaluate_dg = pd.read_csv(save_dir+\"/dg_\"+config_lc)\n",
    "    df_evaluate_se = pd.read_csv(save_dir+\"/se_\"+config_lc)\n",
    "    df_evaluate_random = pd.read_csv(save_dir+\"/random_\"+config_lc)\n",
    "    df_evaluate_nc = pd.read_csv(save_dir+\"/nc_\"+config_lc)"
   ]
  },
  {
   "cell_type": "code",
   "execution_count": 35,
   "id": "434369a2",
   "metadata": {},
   "outputs": [
    {
     "data": {
      "text/html": [
       "<div>\n",
       "<style scoped>\n",
       "    .dataframe tbody tr th:only-of-type {\n",
       "        vertical-align: middle;\n",
       "    }\n",
       "\n",
       "    .dataframe tbody tr th {\n",
       "        vertical-align: top;\n",
       "    }\n",
       "\n",
       "    .dataframe thead th {\n",
       "        text-align: right;\n",
       "    }\n",
       "</style>\n",
       "<table border=\"1\" class=\"dataframe\">\n",
       "  <thead>\n",
       "    <tr style=\"text-align: right;\">\n",
       "      <th></th>\n",
       "      <th>loss</th>\n",
       "      <th>accuracy</th>\n",
       "      <th>precision</th>\n",
       "      <th>recall</th>\n",
       "    </tr>\n",
       "  </thead>\n",
       "  <tbody>\n",
       "    <tr>\n",
       "      <th>0</th>\n",
       "      <td>0.998136</td>\n",
       "      <td>0.687167</td>\n",
       "      <td>0.736320</td>\n",
       "      <td>0.662589</td>\n",
       "    </tr>\n",
       "    <tr>\n",
       "      <th>1</th>\n",
       "      <td>1.249038</td>\n",
       "      <td>0.554500</td>\n",
       "      <td>0.609058</td>\n",
       "      <td>0.491428</td>\n",
       "    </tr>\n",
       "    <tr>\n",
       "      <th>2</th>\n",
       "      <td>1.117338</td>\n",
       "      <td>0.625500</td>\n",
       "      <td>0.745003</td>\n",
       "      <td>0.550384</td>\n",
       "    </tr>\n",
       "    <tr>\n",
       "      <th>3</th>\n",
       "      <td>1.040733</td>\n",
       "      <td>0.654000</td>\n",
       "      <td>0.744384</td>\n",
       "      <td>0.628851</td>\n",
       "    </tr>\n",
       "    <tr>\n",
       "      <th>4</th>\n",
       "      <td>0.971124</td>\n",
       "      <td>0.666833</td>\n",
       "      <td>0.769075</td>\n",
       "      <td>0.653779</td>\n",
       "    </tr>\n",
       "    <tr>\n",
       "      <th>5</th>\n",
       "      <td>0.941913</td>\n",
       "      <td>0.679667</td>\n",
       "      <td>0.751904</td>\n",
       "      <td>0.652778</td>\n",
       "    </tr>\n",
       "    <tr>\n",
       "      <th>6</th>\n",
       "      <td>0.955337</td>\n",
       "      <td>0.665500</td>\n",
       "      <td>0.735899</td>\n",
       "      <td>0.625684</td>\n",
       "    </tr>\n",
       "    <tr>\n",
       "      <th>7</th>\n",
       "      <td>0.914026</td>\n",
       "      <td>0.661000</td>\n",
       "      <td>0.729015</td>\n",
       "      <td>0.566285</td>\n",
       "    </tr>\n",
       "    <tr>\n",
       "      <th>8</th>\n",
       "      <td>0.960609</td>\n",
       "      <td>0.657333</td>\n",
       "      <td>0.729694</td>\n",
       "      <td>0.612996</td>\n",
       "    </tr>\n",
       "    <tr>\n",
       "      <th>9</th>\n",
       "      <td>0.893709</td>\n",
       "      <td>0.671667</td>\n",
       "      <td>0.773813</td>\n",
       "      <td>0.650011</td>\n",
       "    </tr>\n",
       "    <tr>\n",
       "      <th>10</th>\n",
       "      <td>0.865601</td>\n",
       "      <td>0.694167</td>\n",
       "      <td>0.774179</td>\n",
       "      <td>0.666679</td>\n",
       "    </tr>\n",
       "    <tr>\n",
       "      <th>11</th>\n",
       "      <td>0.935035</td>\n",
       "      <td>0.675667</td>\n",
       "      <td>0.740240</td>\n",
       "      <td>0.619616</td>\n",
       "    </tr>\n",
       "    <tr>\n",
       "      <th>12</th>\n",
       "      <td>1.034303</td>\n",
       "      <td>0.669833</td>\n",
       "      <td>0.743237</td>\n",
       "      <td>0.680451</td>\n",
       "    </tr>\n",
       "    <tr>\n",
       "      <th>13</th>\n",
       "      <td>0.945936</td>\n",
       "      <td>0.681500</td>\n",
       "      <td>0.751757</td>\n",
       "      <td>0.668312</td>\n",
       "    </tr>\n",
       "    <tr>\n",
       "      <th>14</th>\n",
       "      <td>0.906310</td>\n",
       "      <td>0.701000</td>\n",
       "      <td>0.758265</td>\n",
       "      <td>0.681496</td>\n",
       "    </tr>\n",
       "    <tr>\n",
       "      <th>15</th>\n",
       "      <td>0.933891</td>\n",
       "      <td>0.682000</td>\n",
       "      <td>0.759157</td>\n",
       "      <td>0.673104</td>\n",
       "    </tr>\n",
       "    <tr>\n",
       "      <th>16</th>\n",
       "      <td>0.934894</td>\n",
       "      <td>0.671167</td>\n",
       "      <td>0.773440</td>\n",
       "      <td>0.646655</td>\n",
       "    </tr>\n",
       "    <tr>\n",
       "      <th>17</th>\n",
       "      <td>0.849879</td>\n",
       "      <td>0.690667</td>\n",
       "      <td>0.781911</td>\n",
       "      <td>0.643232</td>\n",
       "    </tr>\n",
       "    <tr>\n",
       "      <th>18</th>\n",
       "      <td>0.846144</td>\n",
       "      <td>0.691833</td>\n",
       "      <td>0.765053</td>\n",
       "      <td>0.659675</td>\n",
       "    </tr>\n",
       "    <tr>\n",
       "      <th>19</th>\n",
       "      <td>0.959304</td>\n",
       "      <td>0.656833</td>\n",
       "      <td>0.741878</td>\n",
       "      <td>0.576856</td>\n",
       "    </tr>\n",
       "    <tr>\n",
       "      <th>20</th>\n",
       "      <td>0.835516</td>\n",
       "      <td>0.692833</td>\n",
       "      <td>0.790567</td>\n",
       "      <td>0.652780</td>\n",
       "    </tr>\n",
       "  </tbody>\n",
       "</table>\n",
       "</div>"
      ],
      "text/plain": [
       "        loss  accuracy  precision    recall\n",
       "0   0.998136  0.687167   0.736320  0.662589\n",
       "1   1.249038  0.554500   0.609058  0.491428\n",
       "2   1.117338  0.625500   0.745003  0.550384\n",
       "3   1.040733  0.654000   0.744384  0.628851\n",
       "4   0.971124  0.666833   0.769075  0.653779\n",
       "5   0.941913  0.679667   0.751904  0.652778\n",
       "6   0.955337  0.665500   0.735899  0.625684\n",
       "7   0.914026  0.661000   0.729015  0.566285\n",
       "8   0.960609  0.657333   0.729694  0.612996\n",
       "9   0.893709  0.671667   0.773813  0.650011\n",
       "10  0.865601  0.694167   0.774179  0.666679\n",
       "11  0.935035  0.675667   0.740240  0.619616\n",
       "12  1.034303  0.669833   0.743237  0.680451\n",
       "13  0.945936  0.681500   0.751757  0.668312\n",
       "14  0.906310  0.701000   0.758265  0.681496\n",
       "15  0.933891  0.682000   0.759157  0.673104\n",
       "16  0.934894  0.671167   0.773440  0.646655\n",
       "17  0.849879  0.690667   0.781911  0.643232\n",
       "18  0.846144  0.691833   0.765053  0.659675\n",
       "19  0.959304  0.656833   0.741878  0.576856\n",
       "20  0.835516  0.692833   0.790567  0.652780"
      ]
     },
     "execution_count": 35,
     "metadata": {},
     "output_type": "execute_result"
    }
   ],
   "source": [
    "df_evaluate_dsa"
   ]
  },
  {
   "cell_type": "code",
   "execution_count": 36,
   "id": "3c21fd01",
   "metadata": {},
   "outputs": [],
   "source": [
    "\n",
    "metric =\"accuracy\"\n",
    "accuracy_lsa_3 = np.array(df_evaluate_lsa[metric])\n",
    "accuracy_dsa_3 = np.array(df_evaluate_dsa[metric])\n",
    "accuracy_dg_3 = np.array(df_evaluate_dg[metric])\n",
    "accuracy_se_3 = np.array(df_evaluate_se[metric])\n",
    "\n",
    "accuracy_nc_3 =np.array(df_evaluate_nc[metric])\n",
    "accuracy_random_3 = np.array(df_evaluate_random[metric])\n"
   ]
  },
  {
   "cell_type": "code",
   "execution_count": null,
   "id": "7aeb569b",
   "metadata": {},
   "outputs": [],
   "source": []
  },
  {
   "cell_type": "code",
   "execution_count": 37,
   "id": "9ed5051f",
   "metadata": {},
   "outputs": [],
   "source": [
    "n_data_points = 150"
   ]
  },
  {
   "cell_type": "code",
   "execution_count": 38,
   "id": "43b61f22",
   "metadata": {},
   "outputs": [
    {
     "data": {
      "text/plain": [
       "21"
      ]
     },
     "execution_count": 38,
     "metadata": {},
     "output_type": "execute_result"
    }
   ],
   "source": [
    "len(accuracy_dsa_3)"
   ]
  },
  {
   "cell_type": "code",
   "execution_count": 39,
   "id": "cb15309c",
   "metadata": {},
   "outputs": [
    {
     "data": {
      "text/plain": [
       "20"
      ]
     },
     "execution_count": 39,
     "metadata": {},
     "output_type": "execute_result"
    }
   ],
   "source": [
    "num_models"
   ]
  },
  {
   "cell_type": "code",
   "execution_count": 40,
   "id": "e67df87a",
   "metadata": {},
   "outputs": [
    {
     "name": "stdout",
     "output_type": "stream",
     "text": [
      "21\n"
     ]
    },
    {
     "data": {
      "text/plain": [
       "[0,\n",
       " 150,\n",
       " 300,\n",
       " 450,\n",
       " 600,\n",
       " 750,\n",
       " 900,\n",
       " 1050,\n",
       " 1200,\n",
       " 1350,\n",
       " 1500,\n",
       " 1650,\n",
       " 1800,\n",
       " 1950,\n",
       " 2100,\n",
       " 2250,\n",
       " 2400,\n",
       " 2550,\n",
       " 2700,\n",
       " 2850,\n",
       " 3000]"
      ]
     },
     "execution_count": 40,
     "metadata": {},
     "output_type": "execute_result"
    }
   ],
   "source": [
    "#if(num_models>20):\n",
    "n_inputs = [n_data_points*i for i in range(num_models+1)]\n",
    "#n_inputs.append(len(x_train_and_adversary))\n",
    "print(len(n_inputs))\n",
    "n_inputs"
   ]
  },
  {
   "cell_type": "code",
   "execution_count": 41,
   "id": "3cd2cd2d",
   "metadata": {},
   "outputs": [
    {
     "name": "stdout",
     "output_type": "stream",
     "text": [
      "21\n",
      "21\n"
     ]
    }
   ],
   "source": [
    "print(len(df_evaluate_dg))\n",
    "print(len(n_inputs))"
   ]
  },
  {
   "cell_type": "code",
   "execution_count": 42,
   "id": "b484cf9a",
   "metadata": {},
   "outputs": [],
   "source": [
    "#save_dir = \"D:/aug_graphs/\"+dataset+\"/\"+config"
   ]
  },
  {
   "cell_type": "code",
   "execution_count": 43,
   "id": "04d02a6d",
   "metadata": {},
   "outputs": [],
   "source": [
    "linestyles = ['solid','dotted','dashed','dashed','dashdot','dashdot']\n",
    "colors =['b','g','r','c','m','k']"
   ]
  },
  {
   "cell_type": "code",
   "execution_count": 45,
   "id": "889f7963",
   "metadata": {},
   "outputs": [
    {
     "name": "stdout",
     "output_type": "stream",
     "text": [
      "LSA\n",
      "2850 0.7210000157356262\n",
      "DSA\n",
      "2100 0.7009999752044678\n",
      "dg\n",
      "2250 0.7238333225250244\n",
      "se\n",
      "3000 0.7196666598320007\n",
      "random\n",
      "2400 0.7176666855812073\n",
      "nc\n",
      "2850 0.718833327293396\n"
     ]
    },
    {
     "data": {
      "image/png": "[encoded data removed]",
      "text/plain": [
       "<Figure size 432x288 with 1 Axes>"
      ]
     },
     "metadata": {
      "needs_background": "light"
     },
     "output_type": "display_data"
    }
   ],
   "source": [
    "#adversarial jsma test set\n",
    "#configuration 3\n",
    "\"\"\"\n",
    "6) Incremental guided retraining starting from the original model using only the new adversarial inputs.\n",
    "Incremental training, starting with the previous trained model. Using at each iteration a subset of the new inputs.\n",
    "\"\"\"\n",
    "import matplotlib.pyplot as plt\n",
    "import matplotlib.patches as mpatches\n",
    "\n",
    "from matplotlib.patches import Patch\n",
    "from matplotlib.lines import Line2D\n",
    "\n",
    "plt.plot(n_inputs,accuracy_lsa_3,colors[0],linestyle=linestyles[0])\n",
    "plt.plot(n_inputs,accuracy_dsa_3,colors[1],linestyle=linestyles[1])\n",
    "plt.plot(n_inputs,accuracy_dg_3,colors[2],linestyle=linestyles[2])\n",
    "plt.plot(n_inputs,accuracy_se_3,colors[3],linestyle=linestyles[3])\n",
    "plt.plot(n_inputs,accuracy_random_3,colors[4],linestyle=linestyles[4])\n",
    "plt.plot(n_inputs,accuracy_nc_3,colors[5],linestyle=linestyles[5])\n",
    "\n",
    "\n",
    "legend_elements = [Line2D([0], [0], color=colors[0], label='LSA',ls = linestyles[0]),\n",
    "                   Line2D([0], [0], color=colors[1], label='DSA',ls = linestyles[1]),\n",
    "                   Line2D([0], [0], color=colors[2], label='dg',ls = linestyles[2]),\n",
    "                   Line2D([0], [0], color=colors[3], label='se',ls = linestyles[3]),\n",
    "                   Line2D([0], [0], color=colors[4], label='Random',ls = linestyles[4]),\n",
    "                   Line2D([0], [0], color=colors[5], label='NC',ls = linestyles[5])]\n",
    "\n",
    "\n",
    "\n",
    "plt.legend(handles=legend_elements)#\n",
    "#plt.title(\"Accuracy\")\n",
    "\n",
    "print(\"LSA\")\n",
    "print(n_inputs[np.argmax(accuracy_lsa_3)],accuracy_lsa_3.max())\n",
    "print(\"DSA\")\n",
    "print(n_inputs[np.argmax(accuracy_dsa_3)],accuracy_dsa_3.max())\n",
    "print(\"dg\")\n",
    "print(n_inputs[np.argmax(accuracy_dg_3)],accuracy_dg_3.max())\n",
    "print(\"se\")\n",
    "print(n_inputs[np.argmax(accuracy_se_3)],accuracy_se_3.max())\n",
    "print(\"random\")\n",
    "print(n_inputs[np.argmax(accuracy_random_3)],accuracy_random_3.max())\n",
    "print(\"nc\")\n",
    "print(n_inputs[np.argmax(accuracy_nc_3)],accuracy_nc_3.max())\n",
    "\n",
    "plt.plot(n_inputs[np.argmax(accuracy_lsa_3)],accuracy_lsa_3.max(),'-bD',)\n",
    "plt.plot(n_inputs[np.argmax(accuracy_dsa_3)],accuracy_dsa_3.max(),'-go')\n",
    "plt.plot(n_inputs[np.argmax(accuracy_dg_3)],accuracy_dg_3.max(),'-r+')\n",
    "plt.plot(n_inputs[np.argmax(accuracy_se_3)],accuracy_se_3.max(),'-c*')\n",
    "plt.plot(n_inputs[np.argmax(accuracy_random_3)],accuracy_random_3.max(),'-mv')\n",
    "plt.plot(n_inputs[np.argmax(accuracy_nc_3)],accuracy_nc_3.max(),'-kp')\n",
    "\n",
    "plt.xlabel('Number of inputs')\n",
    "plt.ylabel('Accuracy')\n",
    "plt.xlim([0, 3000])\n",
    "#plt.ylim([0.5, 0.8])\n",
    "\n",
    "plt.savefig(save_dir+\"/\"+dataset+\"_\"+config_lc+\"_\"+\"accuracy\" + \".svg\")\n",
    "\n",
    "plt.show()"
   ]
  },
  {
   "cell_type": "code",
   "execution_count": null,
   "id": "4b7caa63",
   "metadata": {},
   "outputs": [],
   "source": []
  }
 ],
 "metadata": {
  "kernelspec": {
   "display_name": "Python 3 (ipykernel)",
   "language": "python",
   "name": "python3"
  },
  "language_info": {
   "codemirror_mode": {
    "name": "ipython",
    "version": 3
   },
   "file_extension": ".py",
   "mimetype": "text/x-python",
   "name": "python",
   "nbconvert_exporter": "python",
   "pygments_lexer": "ipython3",
   "version": "3.9.7"
  }
 },
 "nbformat": 4,
 "nbformat_minor": 5
}
