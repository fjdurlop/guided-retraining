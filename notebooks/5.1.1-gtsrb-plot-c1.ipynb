{
 "cells": [
  {
   "cell_type": "code",
   "execution_count": 1,
   "id": "458bf345",
   "metadata": {},
   "outputs": [],
   "source": [
    "import argparse\n",
    "\n",
    "import numpy as np\n",
    "import tensorflow as tf\n",
    "import keras.backend as K\n",
    "\n",
    "import matplotlib.pyplot as plt\n",
    "\n",
    "from keras.utils import np_utils\n",
    "from keras.models import Sequential\n",
    "from keras.layers import Dense, Dropout, Activation, Flatten, Conv2D, MaxPooling2D\n",
    "from keras.regularizers import l2\n",
    "\n",
    "import glob\n",
    "import os\n",
    "import cv2\n",
    "import keras\n",
    "\n",
    "\n",
    "import time\n",
    "import argparse\n",
    "\n",
    "from tqdm import tqdm\n",
    "\n",
    "from keras.models import load_model, Model\n"
   ]
  },
  {
   "cell_type": "code",
   "execution_count": 2,
   "id": "d87645a5",
   "metadata": {},
   "outputs": [
    {
     "name": "stdout",
     "output_type": "stream",
     "text": [
      "C:\\Users\\fjdur\\Documents\\utils\n"
     ]
    }
   ],
   "source": [
    "cd C:/Users/fjdur/Documents/utils/"
   ]
  },
  {
   "cell_type": "code",
   "execution_count": 3,
   "id": "b4b5dea1",
   "metadata": {},
   "outputs": [
    {
     "name": "stdout",
     "output_type": "stream",
     "text": [
      "2.5.0\n",
      "keras\n",
      "2.5.0\n"
     ]
    }
   ],
   "source": [
    "import utils_guided_retraining as utils"
   ]
  },
  {
   "cell_type": "code",
   "execution_count": 4,
   "id": "a90d3511",
   "metadata": {},
   "outputs": [],
   "source": [
    "dataset = \"gtsrb\""
   ]
  },
  {
   "cell_type": "code",
   "execution_count": 5,
   "id": "07b34a1a",
   "metadata": {},
   "outputs": [],
   "source": [
    "x_test,y_test = utils.get_data(dataset,\"Test\")"
   ]
  },
  {
   "cell_type": "code",
   "execution_count": 6,
   "id": "244a4fbd",
   "metadata": {},
   "outputs": [],
   "source": [
    "x_train_and_adversary,y_train_and_adversary = utils.get_data(dataset,\"Train_and_adversary\")"
   ]
  },
  {
   "cell_type": "code",
   "execution_count": 7,
   "id": "739175c8",
   "metadata": {},
   "outputs": [],
   "source": [
    "x_test_and_adversary,y_test_and_adversary = utils.get_adversarial_data(dataset,'Test_adversarial') "
   ]
  },
  {
   "cell_type": "code",
   "execution_count": 8,
   "id": "0875bdf0",
   "metadata": {},
   "outputs": [],
   "source": [
    "\n",
    "model_dir = \"C:/Users/fjdur/Documents/upc-july/models/tf_model_25-06/\"\n",
    "if(dataset == 'gtsrb'):\n",
    "    model_dir = \"C:/Users/fjdur/Documents/upc-july/models/tf_model_25-06\"\n",
    "elif(dataset == 'intel'):\n",
    "    model_dir = \"C:/Users/fjdur/Documents/upc-july/models/intel_model_21_10\"\n",
    "elif(dataset == 'mnist'):\n",
    "    model_dir = \"C:/Users/fjdur/Documents/upc-july/models/models2\"\n",
    "elif(dataset == 'cifar'):\n",
    "    model_dir = \"C:/Users/fjdur/Documents/upc-july/models/model_02\"\n"
   ]
  },
  {
   "cell_type": "code",
   "execution_count": 9,
   "id": "1485065e",
   "metadata": {},
   "outputs": [
    {
     "name": "stdout",
     "output_type": "stream",
     "text": [
      "C:/Users/fjdur/Documents/upc-july/models/tf_model_25-06\n",
      "Model loaded correctly\n"
     ]
    }
   ],
   "source": [
    "print(model_dir)\n",
    "model_original = utils.My_model(dataset,True, model_dir)"
   ]
  },
  {
   "cell_type": "markdown",
   "id": "48e95400",
   "metadata": {},
   "source": [
    "## Loading models"
   ]
  },
  {
   "cell_type": "code",
   "execution_count": 10,
   "id": "a22156f9",
   "metadata": {},
   "outputs": [],
   "source": [
    "data_dir = \"D:/models/aug_22\"\n",
    "dataset = \"gtsrb\"\n",
    "config = \"C1\"\n",
    "config_lc = \"c1\"\n",
    "num_models = 20"
   ]
  },
  {
   "cell_type": "code",
   "execution_count": 14,
   "id": "c0dc05ec",
   "metadata": {},
   "outputs": [
    {
     "name": "stdout",
     "output_type": "stream",
     "text": [
      "D:/models/aug_22/gtsrb/C1/gtsrb_model_c1_aug_lsa_e1_0\n",
      "Model loaded correctly\n",
      "D:/models/aug_22/gtsrb/C1/gtsrb_model_c1_aug_lsa_e1_1\n",
      "Model loaded correctly\n",
      "D:/models/aug_22/gtsrb/C1/gtsrb_model_c1_aug_lsa_e1_2\n",
      "Model loaded correctly\n",
      "D:/models/aug_22/gtsrb/C1/gtsrb_model_c1_aug_lsa_e1_3\n",
      "Model loaded correctly\n",
      "D:/models/aug_22/gtsrb/C1/gtsrb_model_c1_aug_lsa_e1_4\n",
      "Model loaded correctly\n",
      "D:/models/aug_22/gtsrb/C1/gtsrb_model_c1_aug_lsa_e1_5\n",
      "Model loaded correctly\n",
      "D:/models/aug_22/gtsrb/C1/gtsrb_model_c1_aug_lsa_e1_6\n",
      "Model loaded correctly\n",
      "D:/models/aug_22/gtsrb/C1/gtsrb_model_c1_aug_lsa_e1_7\n",
      "Model loaded correctly\n",
      "D:/models/aug_22/gtsrb/C1/gtsrb_model_c1_aug_lsa_e1_8\n",
      "Model loaded correctly\n",
      "D:/models/aug_22/gtsrb/C1/gtsrb_model_c1_aug_lsa_e1_9\n",
      "Model loaded correctly\n",
      "D:/models/aug_22/gtsrb/C1/gtsrb_model_c1_aug_lsa_e1_10\n",
      "Model loaded correctly\n",
      "D:/models/aug_22/gtsrb/C1/gtsrb_model_c1_aug_lsa_e1_11\n",
      "Model loaded correctly\n",
      "D:/models/aug_22/gtsrb/C1/gtsrb_model_c1_aug_lsa_e1_12\n",
      "Model loaded correctly\n",
      "D:/models/aug_22/gtsrb/C1/gtsrb_model_c1_aug_lsa_e1_13\n",
      "Model loaded correctly\n",
      "D:/models/aug_22/gtsrb/C1/gtsrb_model_c1_aug_lsa_e1_14\n",
      "Model loaded correctly\n",
      "D:/models/aug_22/gtsrb/C1/gtsrb_model_c1_aug_lsa_e1_15\n",
      "Model loaded correctly\n",
      "D:/models/aug_22/gtsrb/C1/gtsrb_model_c1_aug_lsa_e1_16\n",
      "Model loaded correctly\n",
      "D:/models/aug_22/gtsrb/C1/gtsrb_model_c1_aug_lsa_e1_17\n",
      "Model loaded correctly\n",
      "D:/models/aug_22/gtsrb/C1/gtsrb_model_c1_aug_lsa_e1_18\n",
      "Model loaded correctly\n",
      "D:/models/aug_22/gtsrb/C1/gtsrb_model_c1_aug_lsa_e1_19\n",
      "Model loaded correctly\n"
     ]
    }
   ],
   "source": [
    "loading = True\n",
    "\n",
    "models_lsa = []\n",
    "\n",
    "if loading:\n",
    "    for i in range(20):\n",
    "        model_lsa_dir = data_dir+\"/\"+dataset+\"/C1/\"+dataset+\"_model_c1_aug_lsa_e1_\"+str(i)\n",
    "        print(model_lsa_dir)\n",
    "        model =utils.My_model(dataset,True,model_lsa_dir)\n",
    "        model.model.compile(loss= 'categorical_crossentropy', optimizer = 'rmsprop', metrics = ['accuracy',tf.keras.metrics.Precision(), tf.keras.metrics.Recall()])\n",
    "        models_lsa.append(model)\n",
    "       \n",
    "    "
   ]
  },
  {
   "cell_type": "code",
   "execution_count": 47,
   "id": "e5d72c70",
   "metadata": {},
   "outputs": [
    {
     "name": "stdout",
     "output_type": "stream",
     "text": [
      "D:/models/aug_22/gtsrb/C1/gtsrb_model_c1_aug_lsa_e1_20\n",
      "Model loaded correctly\n"
     ]
    }
   ],
   "source": [
    "i=20\n",
    "model_lsa_dir = data_dir+\"/\"+dataset+\"/C1/\"+dataset+\"_model_c1_aug_lsa_e1_\"+str(i)\n",
    "print(model_lsa_dir)\n",
    "model =utils.My_model(dataset,True,model_lsa_dir)\n",
    "model.model.compile(loss= 'categorical_crossentropy', optimizer = 'rmsprop', metrics = ['accuracy',tf.keras.metrics.Precision(), tf.keras.metrics.Recall()])\n",
    "models_lsa.append(model)"
   ]
  },
  {
   "cell_type": "code",
   "execution_count": 48,
   "id": "6499958d",
   "metadata": {},
   "outputs": [
    {
     "data": {
      "text/plain": [
       "21"
      ]
     },
     "execution_count": 48,
     "metadata": {},
     "output_type": "execute_result"
    }
   ],
   "source": [
    "len(models_lsa)"
   ]
  },
  {
   "cell_type": "code",
   "execution_count": 15,
   "id": "da4d6ed4",
   "metadata": {},
   "outputs": [
    {
     "name": "stdout",
     "output_type": "stream",
     "text": [
      "D:/models/aug_22/gtsrb/C1/gtsrb_model_c1_aug_dsa_e1_0\n",
      "Model loaded correctly\n",
      "D:/models/aug_22/gtsrb/C1/gtsrb_model_c1_aug_dsa_e1_1\n",
      "Model loaded correctly\n",
      "D:/models/aug_22/gtsrb/C1/gtsrb_model_c1_aug_dsa_e1_2\n",
      "Model loaded correctly\n",
      "D:/models/aug_22/gtsrb/C1/gtsrb_model_c1_aug_dsa_e1_3\n",
      "Model loaded correctly\n",
      "D:/models/aug_22/gtsrb/C1/gtsrb_model_c1_aug_dsa_e1_4\n",
      "Model loaded correctly\n",
      "D:/models/aug_22/gtsrb/C1/gtsrb_model_c1_aug_dsa_e1_5\n",
      "Model loaded correctly\n",
      "D:/models/aug_22/gtsrb/C1/gtsrb_model_c1_aug_dsa_e1_6\n",
      "Model loaded correctly\n",
      "D:/models/aug_22/gtsrb/C1/gtsrb_model_c1_aug_dsa_e1_7\n",
      "Model loaded correctly\n",
      "D:/models/aug_22/gtsrb/C1/gtsrb_model_c1_aug_dsa_e1_8\n",
      "Model loaded correctly\n",
      "D:/models/aug_22/gtsrb/C1/gtsrb_model_c1_aug_dsa_e1_9\n",
      "Model loaded correctly\n",
      "D:/models/aug_22/gtsrb/C1/gtsrb_model_c1_aug_dsa_e1_10\n",
      "Model loaded correctly\n",
      "D:/models/aug_22/gtsrb/C1/gtsrb_model_c1_aug_dsa_e1_11\n",
      "Model loaded correctly\n",
      "D:/models/aug_22/gtsrb/C1/gtsrb_model_c1_aug_dsa_e1_12\n",
      "Model loaded correctly\n",
      "D:/models/aug_22/gtsrb/C1/gtsrb_model_c1_aug_dsa_e1_13\n",
      "Model loaded correctly\n",
      "D:/models/aug_22/gtsrb/C1/gtsrb_model_c1_aug_dsa_e1_14\n",
      "Model loaded correctly\n",
      "D:/models/aug_22/gtsrb/C1/gtsrb_model_c1_aug_dsa_e1_15\n",
      "Model loaded correctly\n",
      "D:/models/aug_22/gtsrb/C1/gtsrb_model_c1_aug_dsa_e1_16\n",
      "Model loaded correctly\n",
      "D:/models/aug_22/gtsrb/C1/gtsrb_model_c1_aug_dsa_e1_17\n",
      "Model loaded correctly\n",
      "D:/models/aug_22/gtsrb/C1/gtsrb_model_c1_aug_dsa_e1_18\n",
      "Model loaded correctly\n",
      "D:/models/aug_22/gtsrb/C1/gtsrb_model_c1_aug_dsa_e1_19\n",
      "Model loaded correctly\n"
     ]
    }
   ],
   "source": [
    "loading = True\n",
    "\n",
    "models_dsa = []\n",
    "\n",
    "if loading:\n",
    "    for i in range(20):\n",
    "        #model_dsa_dir = \"D:/models/gtsrb_models/C1/gtsrb_model_c1_sep_dsa_e2_\"+str(i)\n",
    "        model_dsa_dir = data_dir+\"/\"+dataset+\"/C1/\"+dataset+\"_model_c1_aug_dsa_e1_\"+str(i)\n",
    "        print(model_dsa_dir)\n",
    "        model =utils.My_model(dataset,True,model_dsa_dir)\n",
    "        model.model.compile(loss= 'categorical_crossentropy', optimizer = 'rmsprop', metrics = ['accuracy',tf.keras.metrics.Precision(), tf.keras.metrics.Recall()])\n",
    "        models_dsa.append(model)\n",
    "       \n",
    "\n",
    "    "
   ]
  },
  {
   "cell_type": "code",
   "execution_count": 49,
   "id": "b989c7c1",
   "metadata": {},
   "outputs": [
    {
     "name": "stdout",
     "output_type": "stream",
     "text": [
      "D:/models/aug_22/gtsrb/C1/gtsrb_model_c1_aug_dsa_e1_20\n",
      "Model loaded correctly\n"
     ]
    }
   ],
   "source": [
    "i=20\n",
    "model_dsa_dir = data_dir+\"/\"+dataset+\"/C1/\"+dataset+\"_model_c1_aug_dsa_e1_\"+str(i)\n",
    "print(model_dsa_dir)\n",
    "model =utils.My_model(dataset,True,model_dsa_dir)\n",
    "model.model.compile(loss= 'categorical_crossentropy', optimizer = 'rmsprop', metrics = ['accuracy',tf.keras.metrics.Precision(), tf.keras.metrics.Recall()])\n",
    "models_dsa.append(model)"
   ]
  },
  {
   "cell_type": "code",
   "execution_count": 55,
   "id": "0a4a7c64",
   "metadata": {
    "scrolled": true
   },
   "outputs": [
    {
     "name": "stdout",
     "output_type": "stream",
     "text": [
      "D:/models/aug_22/gtsrb/C1/gtsrb_model_c1_aug_dg_e1_0\n",
      "Model loaded correctly\n",
      "D:/models/aug_22/gtsrb/C1/gtsrb_model_c1_aug_dg_e1_1\n",
      "Model loaded correctly\n",
      "D:/models/aug_22/gtsrb/C1/gtsrb_model_c1_aug_dg_e1_2\n",
      "Model loaded correctly\n",
      "D:/models/aug_22/gtsrb/C1/gtsrb_model_c1_aug_dg_e1_3\n",
      "Model loaded correctly\n",
      "D:/models/aug_22/gtsrb/C1/gtsrb_model_c1_aug_dg_e1_4\n",
      "Model loaded correctly\n",
      "D:/models/aug_22/gtsrb/C1/gtsrb_model_c1_aug_dg_e1_5\n",
      "Model loaded correctly\n",
      "D:/models/aug_22/gtsrb/C1/gtsrb_model_c1_aug_dg_e1_6\n",
      "Model loaded correctly\n",
      "D:/models/aug_22/gtsrb/C1/gtsrb_model_c1_aug_dg_e1_7\n",
      "Model loaded correctly\n",
      "D:/models/aug_22/gtsrb/C1/gtsrb_model_c1_aug_dg_e1_8\n",
      "Model loaded correctly\n",
      "D:/models/aug_22/gtsrb/C1/gtsrb_model_c1_aug_dg_e1_9\n",
      "Model loaded correctly\n",
      "D:/models/aug_22/gtsrb/C1/gtsrb_model_c1_aug_dg_e1_10\n",
      "Model loaded correctly\n",
      "D:/models/aug_22/gtsrb/C1/gtsrb_model_c1_aug_dg_e1_11\n",
      "Model loaded correctly\n",
      "D:/models/aug_22/gtsrb/C1/gtsrb_model_c1_aug_dg_e1_12\n",
      "Model loaded correctly\n",
      "D:/models/aug_22/gtsrb/C1/gtsrb_model_c1_aug_dg_e1_13\n",
      "Model loaded correctly\n",
      "D:/models/aug_22/gtsrb/C1/gtsrb_model_c1_aug_dg_e1_14\n",
      "Model loaded correctly\n",
      "D:/models/aug_22/gtsrb/C1/gtsrb_model_c1_aug_dg_e1_15\n",
      "Model loaded correctly\n",
      "D:/models/aug_22/gtsrb/C1/gtsrb_model_c1_aug_dg_e1_16\n",
      "Model loaded correctly\n",
      "D:/models/aug_22/gtsrb/C1/gtsrb_model_c1_aug_dg_e1_17\n",
      "Model loaded correctly\n",
      "D:/models/aug_22/gtsrb/C1/gtsrb_model_c1_aug_dg_e1_18\n",
      "Model loaded correctly\n",
      "D:/models/aug_22/gtsrb/C1/gtsrb_model_c1_aug_dg_e1_19\n",
      "Model loaded correctly\n"
     ]
    }
   ],
   "source": [
    "loading = True\n",
    "\n",
    "models_dg = []\n",
    "\n",
    "if loading:\n",
    "    for i in range(num_models):\n",
    "        #model_dg_dir = \"D:/models/aug_22/gtsrb/C1/gtsrb_model_c1_aug_gn_e1_\"+str(i)\n",
    "        model_dg_dir = data_dir+\"/\"+dataset+\"/C1/\"+dataset+\"_model_c1_aug_dg_e1_\"+str(i)\n",
    "        \n",
    "        print(model_dg_dir)\n",
    "        model =utils.My_model(dataset,True,model_dg_dir)\n",
    "        model.model.compile(loss= 'categorical_crossentropy', optimizer = 'rmsprop', metrics = ['accuracy',tf.keras.metrics.Precision(), tf.keras.metrics.Recall()])\n",
    "        models_dg.append(model)\n",
    "       \n",
    "    "
   ]
  },
  {
   "cell_type": "code",
   "execution_count": 56,
   "id": "586e15f4",
   "metadata": {},
   "outputs": [
    {
     "name": "stdout",
     "output_type": "stream",
     "text": [
      "D:/models/aug_22/gtsrb/C1/gtsrb_model_c1_aug_dg_e1_20\n",
      "Model loaded correctly\n"
     ]
    }
   ],
   "source": [
    "i=20\n",
    "model_dg_dir = data_dir+\"/\"+dataset+\"/C1/\"+dataset+\"_model_c1_aug_dg_e1_\"+str(i)\n",
    "\n",
    "print(model_dg_dir)\n",
    "model =utils.My_model(dataset,True,model_dg_dir)\n",
    "model.model.compile(loss= 'categorical_crossentropy', optimizer = 'rmsprop', metrics = ['accuracy',tf.keras.metrics.Precision(), tf.keras.metrics.Recall()])\n",
    "models_dg.append(model)"
   ]
  },
  {
   "cell_type": "code",
   "execution_count": 57,
   "id": "9301cc38",
   "metadata": {},
   "outputs": [
    {
     "name": "stdout",
     "output_type": "stream",
     "text": [
      "D:/models/aug_22/gtsrb/C1/gtsrb_model_c1_aug_se_e1_0\n",
      "Model loaded correctly\n",
      "D:/models/aug_22/gtsrb/C1/gtsrb_model_c1_aug_se_e1_1\n",
      "Model loaded correctly\n",
      "D:/models/aug_22/gtsrb/C1/gtsrb_model_c1_aug_se_e1_2\n",
      "Model loaded correctly\n",
      "D:/models/aug_22/gtsrb/C1/gtsrb_model_c1_aug_se_e1_3\n",
      "Model loaded correctly\n",
      "D:/models/aug_22/gtsrb/C1/gtsrb_model_c1_aug_se_e1_4\n",
      "Model loaded correctly\n",
      "D:/models/aug_22/gtsrb/C1/gtsrb_model_c1_aug_se_e1_5\n",
      "Model loaded correctly\n",
      "D:/models/aug_22/gtsrb/C1/gtsrb_model_c1_aug_se_e1_6\n",
      "Model loaded correctly\n",
      "D:/models/aug_22/gtsrb/C1/gtsrb_model_c1_aug_se_e1_7\n",
      "Model loaded correctly\n",
      "D:/models/aug_22/gtsrb/C1/gtsrb_model_c1_aug_se_e1_8\n",
      "Model loaded correctly\n",
      "D:/models/aug_22/gtsrb/C1/gtsrb_model_c1_aug_se_e1_9\n",
      "Model loaded correctly\n",
      "D:/models/aug_22/gtsrb/C1/gtsrb_model_c1_aug_se_e1_10\n",
      "Model loaded correctly\n",
      "D:/models/aug_22/gtsrb/C1/gtsrb_model_c1_aug_se_e1_11\n",
      "Model loaded correctly\n",
      "D:/models/aug_22/gtsrb/C1/gtsrb_model_c1_aug_se_e1_12\n",
      "Model loaded correctly\n",
      "D:/models/aug_22/gtsrb/C1/gtsrb_model_c1_aug_se_e1_13\n",
      "Model loaded correctly\n",
      "D:/models/aug_22/gtsrb/C1/gtsrb_model_c1_aug_se_e1_14\n",
      "Model loaded correctly\n",
      "D:/models/aug_22/gtsrb/C1/gtsrb_model_c1_aug_se_e1_15\n",
      "Model loaded correctly\n",
      "D:/models/aug_22/gtsrb/C1/gtsrb_model_c1_aug_se_e1_16\n",
      "Model loaded correctly\n",
      "D:/models/aug_22/gtsrb/C1/gtsrb_model_c1_aug_se_e1_17\n",
      "Model loaded correctly\n",
      "D:/models/aug_22/gtsrb/C1/gtsrb_model_c1_aug_se_e1_18\n",
      "Model loaded correctly\n",
      "D:/models/aug_22/gtsrb/C1/gtsrb_model_c1_aug_se_e1_19\n",
      "Model loaded correctly\n"
     ]
    }
   ],
   "source": [
    "loading = True\n",
    "\n",
    "models_se = []\n",
    "\n",
    "if loading:\n",
    "    for i in range(num_models):\n",
    "        \n",
    "        model_se_dir = data_dir+\"/\"+dataset+\"/C1/\"+dataset+\"_model_c1_aug_se_e1_\"+str(i)\n",
    "        \n",
    "        print(model_se_dir)\n",
    "        model =utils.My_model(dataset,True,model_se_dir)\n",
    "        model.model.compile(loss= 'categorical_crossentropy', optimizer = 'rmsprop', metrics = ['accuracy',tf.keras.metrics.Precision(), tf.keras.metrics.Recall()])\n",
    "        models_se.append(model)"
   ]
  },
  {
   "cell_type": "code",
   "execution_count": 58,
   "id": "c3ed245d",
   "metadata": {},
   "outputs": [
    {
     "name": "stdout",
     "output_type": "stream",
     "text": [
      "D:/models/aug_22/gtsrb/C1/gtsrb_model_c1_aug_se_e1_20\n",
      "Model loaded correctly\n"
     ]
    }
   ],
   "source": [
    "i=20\n",
    "model_se_dir = data_dir+\"/\"+dataset+\"/C1/\"+dataset+\"_model_c1_aug_se_e1_\"+str(i)\n",
    "\n",
    "print(model_se_dir)\n",
    "model =utils.My_model(dataset,True,model_se_dir)\n",
    "model.model.compile(loss= 'categorical_crossentropy', optimizer = 'rmsprop', metrics = ['accuracy',tf.keras.metrics.Precision(), tf.keras.metrics.Recall()])\n",
    "models_se.append(model)"
   ]
  },
  {
   "cell_type": "code",
   "execution_count": 19,
   "id": "eb1718e3",
   "metadata": {},
   "outputs": [
    {
     "name": "stdout",
     "output_type": "stream",
     "text": [
      "D:/models/aug_22/gtsrb/C1/gtsrb_model_c1_aug_random_e1_0\n",
      "Model loaded correctly\n",
      "D:/models/aug_22/gtsrb/C1/gtsrb_model_c1_aug_random_e1_1\n",
      "Model loaded correctly\n",
      "D:/models/aug_22/gtsrb/C1/gtsrb_model_c1_aug_random_e1_2\n",
      "Model loaded correctly\n",
      "D:/models/aug_22/gtsrb/C1/gtsrb_model_c1_aug_random_e1_3\n",
      "Model loaded correctly\n",
      "D:/models/aug_22/gtsrb/C1/gtsrb_model_c1_aug_random_e1_4\n",
      "Model loaded correctly\n",
      "D:/models/aug_22/gtsrb/C1/gtsrb_model_c1_aug_random_e1_5\n",
      "Model loaded correctly\n",
      "D:/models/aug_22/gtsrb/C1/gtsrb_model_c1_aug_random_e1_6\n",
      "Model loaded correctly\n",
      "D:/models/aug_22/gtsrb/C1/gtsrb_model_c1_aug_random_e1_7\n",
      "Model loaded correctly\n",
      "D:/models/aug_22/gtsrb/C1/gtsrb_model_c1_aug_random_e1_8\n",
      "Model loaded correctly\n",
      "D:/models/aug_22/gtsrb/C1/gtsrb_model_c1_aug_random_e1_9\n",
      "Model loaded correctly\n",
      "D:/models/aug_22/gtsrb/C1/gtsrb_model_c1_aug_random_e1_10\n",
      "Model loaded correctly\n",
      "D:/models/aug_22/gtsrb/C1/gtsrb_model_c1_aug_random_e1_11\n",
      "Model loaded correctly\n",
      "D:/models/aug_22/gtsrb/C1/gtsrb_model_c1_aug_random_e1_12\n",
      "Model loaded correctly\n",
      "D:/models/aug_22/gtsrb/C1/gtsrb_model_c1_aug_random_e1_13\n",
      "Model loaded correctly\n",
      "D:/models/aug_22/gtsrb/C1/gtsrb_model_c1_aug_random_e1_14\n",
      "Model loaded correctly\n",
      "D:/models/aug_22/gtsrb/C1/gtsrb_model_c1_aug_random_e1_15\n",
      "Model loaded correctly\n",
      "D:/models/aug_22/gtsrb/C1/gtsrb_model_c1_aug_random_e1_16\n",
      "Model loaded correctly\n",
      "D:/models/aug_22/gtsrb/C1/gtsrb_model_c1_aug_random_e1_17\n",
      "Model loaded correctly\n",
      "D:/models/aug_22/gtsrb/C1/gtsrb_model_c1_aug_random_e1_18\n",
      "Model loaded correctly\n",
      "D:/models/aug_22/gtsrb/C1/gtsrb_model_c1_aug_random_e1_19\n",
      "Model loaded correctly\n"
     ]
    }
   ],
   "source": [
    "loading = True\n",
    "\n",
    "models_random = []\n",
    "\n",
    "if loading:\n",
    "    for i in range(num_models):\n",
    "        #model_random_dir = \"D:/models/aug_22/gtsrb/C1/gtsrb_model_c1_aug_random_e1_\"+str(i)\n",
    "        model_random_dir = data_dir+\"/\"+dataset+\"/C1/\"+dataset+\"_model_c1_aug_random_e1_\"+str(i)\n",
    "        \n",
    "        print(model_random_dir)\n",
    "        model =utils.My_model(dataset,True,model_random_dir)\n",
    "        model.model.compile(loss= 'categorical_crossentropy', optimizer = 'rmsprop', metrics = ['accuracy',tf.keras.metrics.Precision(), tf.keras.metrics.Recall()])\n",
    "        models_random.append(model)\n",
    "       "
   ]
  },
  {
   "cell_type": "code",
   "execution_count": 52,
   "id": "a84c8a33",
   "metadata": {},
   "outputs": [
    {
     "name": "stdout",
     "output_type": "stream",
     "text": [
      "D:/models/aug_22/gtsrb/C1/gtsrb_model_c1_aug_random_e1_20\n",
      "Model loaded correctly\n"
     ]
    }
   ],
   "source": [
    "i=20\n",
    "model_random_dir = data_dir+\"/\"+dataset+\"/C1/\"+dataset+\"_model_c1_aug_random_e1_\"+str(i)\n",
    "\n",
    "print(model_random_dir)\n",
    "model =utils.My_model(dataset,True,model_random_dir)\n",
    "model.model.compile(loss= 'categorical_crossentropy', optimizer = 'rmsprop', metrics = ['accuracy',tf.keras.metrics.Precision(), tf.keras.metrics.Recall()])\n",
    "models_random.append(model)"
   ]
  },
  {
   "cell_type": "code",
   "execution_count": 20,
   "id": "b9860981",
   "metadata": {
    "scrolled": true
   },
   "outputs": [
    {
     "name": "stdout",
     "output_type": "stream",
     "text": [
      "D:/models/aug_22/gtsrb/C1/gtsrb_model_c1_aug_nc_e1_0\n",
      "Model loaded correctly\n",
      "D:/models/aug_22/gtsrb/C1/gtsrb_model_c1_aug_nc_e1_1\n",
      "Model loaded correctly\n",
      "D:/models/aug_22/gtsrb/C1/gtsrb_model_c1_aug_nc_e1_2\n",
      "Model loaded correctly\n",
      "D:/models/aug_22/gtsrb/C1/gtsrb_model_c1_aug_nc_e1_3\n",
      "Model loaded correctly\n",
      "D:/models/aug_22/gtsrb/C1/gtsrb_model_c1_aug_nc_e1_4\n",
      "Model loaded correctly\n",
      "D:/models/aug_22/gtsrb/C1/gtsrb_model_c1_aug_nc_e1_5\n",
      "Model loaded correctly\n",
      "D:/models/aug_22/gtsrb/C1/gtsrb_model_c1_aug_nc_e1_6\n",
      "Model loaded correctly\n",
      "D:/models/aug_22/gtsrb/C1/gtsrb_model_c1_aug_nc_e1_7\n",
      "Model loaded correctly\n",
      "D:/models/aug_22/gtsrb/C1/gtsrb_model_c1_aug_nc_e1_8\n",
      "Model loaded correctly\n",
      "D:/models/aug_22/gtsrb/C1/gtsrb_model_c1_aug_nc_e1_9\n",
      "Model loaded correctly\n",
      "D:/models/aug_22/gtsrb/C1/gtsrb_model_c1_aug_nc_e1_10\n",
      "Model loaded correctly\n",
      "D:/models/aug_22/gtsrb/C1/gtsrb_model_c1_aug_nc_e1_11\n",
      "Model loaded correctly\n",
      "D:/models/aug_22/gtsrb/C1/gtsrb_model_c1_aug_nc_e1_12\n",
      "Model loaded correctly\n",
      "D:/models/aug_22/gtsrb/C1/gtsrb_model_c1_aug_nc_e1_13\n",
      "Model loaded correctly\n",
      "D:/models/aug_22/gtsrb/C1/gtsrb_model_c1_aug_nc_e1_14\n",
      "Model loaded correctly\n",
      "D:/models/aug_22/gtsrb/C1/gtsrb_model_c1_aug_nc_e1_15\n",
      "Model loaded correctly\n",
      "D:/models/aug_22/gtsrb/C1/gtsrb_model_c1_aug_nc_e1_16\n",
      "Model loaded correctly\n",
      "D:/models/aug_22/gtsrb/C1/gtsrb_model_c1_aug_nc_e1_17\n",
      "Model loaded correctly\n",
      "D:/models/aug_22/gtsrb/C1/gtsrb_model_c1_aug_nc_e1_18\n",
      "Model loaded correctly\n",
      "D:/models/aug_22/gtsrb/C1/gtsrb_model_c1_aug_nc_e1_19\n",
      "Model loaded correctly\n"
     ]
    }
   ],
   "source": [
    "loading = True\n",
    "\n",
    "models_nc = []\n",
    "\n",
    "if loading:\n",
    "    for i in range(num_models):\n",
    "        #model_nc_dir = \"D:/models/aug_22/\"+dataset+\"/C1/\"+dataset+\"_model_c1_aug_nc_e1\"+str\n",
    "        model_nc_dir = data_dir+\"/\"+dataset+\"/C1/\"+dataset+\"_model_c1_aug_nc_e1_\"+str(i)\n",
    "        print(model_nc_dir)\n",
    "        model =utils.My_model(dataset,True,model_nc_dir)\n",
    "        model.model.compile(loss= 'categorical_crossentropy', optimizer = 'rmsprop', metrics = ['accuracy',tf.keras.metrics.Precision(), tf.keras.metrics.Recall()])\n",
    "        models_nc.append(model)"
   ]
  },
  {
   "cell_type": "code",
   "execution_count": 53,
   "id": "ae0236e9",
   "metadata": {},
   "outputs": [
    {
     "name": "stdout",
     "output_type": "stream",
     "text": [
      "D:/models/aug_22/gtsrb/C1/gtsrb_model_c1_aug_nc_e1_20\n",
      "Model loaded correctly\n"
     ]
    }
   ],
   "source": [
    "i=20\n",
    "#model_nc_dir = \"D:/models/aug_22/\"+dataset+\"/C1/\"+dataset+\"_model_c1_aug_nc_e1\"+str\n",
    "model_nc_dir = data_dir+\"/\"+dataset+\"/C1/\"+dataset+\"_model_c1_aug_nc_e1_\"+str(i)\n",
    "print(model_nc_dir)\n",
    "model =utils.My_model(dataset,True,model_nc_dir)\n",
    "model.model.compile(loss= 'categorical_crossentropy', optimizer = 'rmsprop', metrics = ['accuracy',tf.keras.metrics.Precision(), tf.keras.metrics.Recall()])\n",
    "models_nc.append(model)"
   ]
  },
  {
   "cell_type": "markdown",
   "id": "e02952dc",
   "metadata": {},
   "source": [
    "## Evaluating"
   ]
  },
  {
   "cell_type": "code",
   "execution_count": 22,
   "id": "cbc59f41",
   "metadata": {},
   "outputs": [],
   "source": [
    "model_original.model.compile(loss= 'categorical_crossentropy', optimizer = 'rmsprop', metrics = ['accuracy',tf.keras.metrics.Precision(), tf.keras.metrics.Recall()])"
   ]
  },
  {
   "cell_type": "code",
   "execution_count": 29,
   "id": "286ee29c",
   "metadata": {},
   "outputs": [],
   "source": [
    "evaluate_lsa = []\n",
    "evaluate_dsa = []\n",
    "evaluate_dg = []\n",
    "evaluate_se = []\n",
    "evaluate_nc = []\n",
    "evaluate_random = []\n",
    "\n",
    "evaluate_lsa.append([0,0,0,0])\n",
    "evaluate_dsa.append([0,0,0,0])\n",
    "evaluate_dg.append([0,0,0,0])\n",
    "evaluate_se.append([0,0,0,0])\n",
    "evaluate_nc.append([0,0,0,0])\n",
    "evaluate_random.append([0,0,0,0])"
   ]
  },
  {
   "cell_type": "code",
   "execution_count": 88,
   "id": "f013feb8",
   "metadata": {},
   "outputs": [],
   "source": [
    "evaluate_dg = []\n",
    "evaluate_se = []\n",
    "evaluate_dg.append([0,0,0,0])\n",
    "evaluate_se.append([0,0,0,0])"
   ]
  },
  {
   "cell_type": "code",
   "execution_count": 30,
   "id": "30633373",
   "metadata": {},
   "outputs": [
    {
     "name": "stdout",
     "output_type": "stream",
     "text": [
      "246/246 [==============================] - 26s 96ms/step - loss: 2.9720 - accuracy: 0.1938 - precision: 0.5297 - recall: 0.0231\n",
      "246/246 [==============================] - 26s 89ms/step - loss: 1.5595 - accuracy: 0.5939 - precision_1: 0.8706 - recall_1: 0.2446\n",
      "246/246 [==============================] - 26s 89ms/step - loss: 1.4319 - accuracy: 0.6326 - precision_2: 0.9606 - recall_2: 0.2370\n",
      "246/246 [==============================] - 24s 83ms/step - loss: 1.3734 - accuracy: 0.6171 - precision_3: 0.8007 - recall_3: 0.4658\n",
      "246/246 [==============================] - 21s 77ms/step - loss: 1.4361 - accuracy: 0.6291 - precision_4: 0.8030 - recall_4: 0.4266\n",
      "246/246 [==============================] - 25s 81ms/step - loss: 1.8707 - accuracy: 0.5958 - precision_5: 0.6115 - recall_5: 0.4336\n",
      "246/246 [==============================] - 23s 79ms/step - loss: 0.9618 - accuracy: 0.7483 - precision_6: 0.8409 - recall_6: 0.5804\n",
      "246/246 [==============================] - 24s 81ms/step - loss: 1.0766 - accuracy: 0.7111 - precision_7: 0.8087 - recall_7: 0.5496\n",
      "246/246 [==============================] - 24s 81ms/step - loss: 0.7634 - accuracy: 0.7828 - precision_8: 0.8640 - recall_8: 0.6795\n",
      "246/246 [==============================] - 24s 80ms/step - loss: 0.5447 - accuracy: 0.8594 - precision_9: 0.9392 - recall_9: 0.7612\n",
      "246/246 [==============================] - 24s 80ms/step - loss: 0.6579 - accuracy: 0.8206 - precision_10: 0.9021 - recall_10: 0.7465 6s \n",
      "246/246 [==============================] - 24s 81ms/step - loss: 0.5183 - accuracy: 0.8249 - precision_11: 0.9253 - recall_11: 0.7042\n",
      "246/246 [==============================] - 24s 80ms/step - loss: 0.3339 - accuracy: 0.9075 - precision_12: 0.9331 - recall_12: 0.8871 4s - loss: 0.3435 - accura\n",
      "246/246 [==============================] - 25s 79ms/step - loss: 0.5151 - accuracy: 0.8752 - precision_13: 0.9000 - recall_13: 0.8673\n",
      "246/246 [==============================] - 23s 79ms/step - loss: 0.3141 - accuracy: 0.9069 - precision_14: 0.9348 - recall_14: 0.8765\n",
      "246/246 [==============================] - 24s 78ms/step - loss: 0.1929 - accuracy: 0.9500 - precision_15: 0.9573 - recall_15: 0.9453\n",
      "246/246 [==============================] - 23s 78ms/step - loss: 0.3932 - accuracy: 0.9351 - precision_16: 0.9392 - recall_16: 0.9365\n",
      "246/246 [==============================] - 23s 77ms/step - loss: 0.0959 - accuracy: 0.9783 - precision_17: 0.9827 - recall_17: 0.9741\n",
      "246/246 [==============================] - 22s 76ms/step - loss: 0.0543 - accuracy: 0.9856 - precision_18: 0.9929 - recall_18: 0.9841\n",
      "246/246 [==============================] - 22s 76ms/step - loss: 0.0364 - accuracy: 0.9915 - precision_19: 0.9925 - recall_19: 0.9893\n",
      "246/246 [==============================] - 24s 80ms/step - loss: 2.8836 - accuracy: 0.2121 - precision_20: 0.5660 - recall_20: 0.0180\n",
      "246/246 [==============================] - 26s 81ms/step - loss: 0.7027 - accuracy: 0.7839 - precision_21: 0.8264 - recall_21: 0.6839\n",
      "246/246 [==============================] - 24s 81ms/step - loss: 0.3223 - accuracy: 0.8933 - precision_22: 0.9347 - recall_22: 0.8836\n",
      "246/246 [==============================] - 24s 81ms/step - loss: 0.2907 - accuracy: 0.9100 - precision_23: 0.9072 - recall_23: 0.8781\n",
      "246/246 [==============================] - 24s 82ms/step - loss: 0.2157 - accuracy: 0.9372 - precision_24: 0.9495 - recall_24: 0.9213 4s - loss: 0.2080 - accurac\n",
      "246/246 [==============================] - 24s 81ms/step - loss: 0.2736 - accuracy: 0.9191 - precision_25: 0.9348 - recall_25: 0.8887\n",
      "246/246 [==============================] - 24s 81ms/step - loss: 0.1996 - accuracy: 0.9484 - precision_26: 0.9781 - recall_26: 0.9268\n",
      "246/246 [==============================] - 24s 81ms/step - loss: 0.3507 - accuracy: 0.9212 - precision_27: 0.9434 - recall_27: 0.9199\n",
      "246/246 [==============================] - 24s 81ms/step - loss: 0.1519 - accuracy: 0.9533 - precision_28: 0.9872 - recall_28: 0.9676\n",
      "246/246 [==============================] - 23s 77ms/step - loss: 0.1839 - accuracy: 0.9461 - precision_29: 0.9827 - recall_29: 0.9635\n",
      "246/246 [==============================] - 24s 80ms/step - loss: 0.1696 - accuracy: 0.9588 - precision_30: 0.9959 - recall_30: 0.9588\n",
      "246/246 [==============================] - 24s 79ms/step - loss: 0.1579 - accuracy: 0.9560 - precision_31: 0.9892 - recall_31: 0.9640\n",
      "246/246 [==============================] - 24s 80ms/step - loss: 0.1409 - accuracy: 0.9653 - precision_32: 0.9843 - recall_32: 0.9785\n",
      "246/246 [==============================] - 23s 80ms/step - loss: 0.1400 - accuracy: 0.9686 - precision_33: 0.9810 - recall_33: 0.9749\n",
      "246/246 [==============================] - 23s 79ms/step - loss: 0.0680 - accuracy: 0.9868 - precision_34: 0.9906 - recall_34: 0.9873\n",
      "246/246 [==============================] - 23s 80ms/step - loss: 0.0978 - accuracy: 0.9775 - precision_35: 0.9912 - recall_35: 0.9854\n",
      "246/246 [==============================] - 23s 79ms/step - loss: 0.1116 - accuracy: 0.9743 - precision_36: 0.9844 - recall_36: 0.9784\n",
      "246/246 [==============================] - 23s 79ms/step - loss: 0.0587 - accuracy: 0.9868 - precision_37: 0.9966 - recall_37: 0.9862\n",
      "246/246 [==============================] - 23s 79ms/step - loss: 0.0782 - accuracy: 0.9842 - precision_38: 0.9887 - recall_38: 0.9864\n",
      "246/246 [==============================] - 23s 79ms/step - loss: 0.0468 - accuracy: 0.9898 - precision_39: 0.9913 - recall_39: 0.9911\n",
      "246/246 [==============================] - 23s 78ms/step - loss: 2.3420 - accuracy: 0.3611 - precision_60: 0.8345 - recall_60: 0.1570\n",
      "246/246 [==============================] - 23s 79ms/step - loss: 0.7986 - accuracy: 0.7529 - precision_61: 0.8895 - recall_61: 0.6082\n",
      "246/246 [==============================] - 23s 79ms/step - loss: 0.2252 - accuracy: 0.9304 - precision_62: 0.9407 - recall_62: 0.8957\n",
      "246/246 [==============================] - 22s 78ms/step - loss: 0.0916 - accuracy: 0.9735 - precision_63: 0.9823 - recall_63: 0.9719\n",
      "246/246 [==============================] - 23s 80ms/step - loss: 0.0863 - accuracy: 0.9748 - precision_64: 0.9799 - recall_64: 0.9734\n",
      "246/246 [==============================] - 23s 78ms/step - loss: 0.0618 - accuracy: 0.9834 - precision_65: 0.9897 - recall_65: 0.9821 1s - loss: 0.0504 - accuracy: 0.9867 - precision_65: 0.\n",
      "246/246 [==============================] - 26s 80ms/step - loss: 0.0667 - accuracy: 0.9829 - precision_66: 0.9843 - recall_66: 0.9804\n",
      "246/246 [==============================] - 23s 79ms/step - loss: 0.0672 - accuracy: 0.9858 - precision_67: 0.9919 - recall_67: 0.9869\n",
      "246/246 [==============================] - 23s 79ms/step - loss: 0.0621 - accuracy: 0.9845 - precision_68: 0.9862 - recall_68: 0.9815\n",
      "246/246 [==============================] - 23s 79ms/step - loss: 0.0827 - accuracy: 0.9830 - precision_69: 0.9800 - recall_69: 0.9782\n",
      "246/246 [==============================] - 24s 80ms/step - loss: 0.0561 - accuracy: 0.9898 - precision_70: 0.9925 - recall_70: 0.9893\n",
      "246/246 [==============================] - 23s 78ms/step - loss: 0.0499 - accuracy: 0.9858 - precision_71: 0.9905 - recall_71: 0.9839\n",
      "246/246 [==============================] - 24s 80ms/step - loss: 0.0520 - accuracy: 0.9898 - precision_72: 0.9912 - recall_72: 0.9890\n",
      "246/246 [==============================] - 23s 79ms/step - loss: 0.0635 - accuracy: 0.9888 - precision_73: 0.9892 - recall_73: 0.9882\n",
      "246/246 [==============================] - 23s 79ms/step - loss: 0.0545 - accuracy: 0.9903 - precision_74: 0.9906 - recall_74: 0.9886\n",
      "246/246 [==============================] - 23s 78ms/step - loss: 0.0393 - accuracy: 0.9917 - precision_75: 0.9935 - recall_75: 0.9905\n",
      "246/246 [==============================] - 23s 79ms/step - loss: 0.0463 - accuracy: 0.9917 - precision_76: 0.9933 - recall_76: 0.9922\n",
      "246/246 [==============================] - 23s 78ms/step - loss: 0.0419 - accuracy: 0.9920 - precision_77: 0.9925 - recall_77: 0.9920\n",
      "246/246 [==============================] - 23s 79ms/step - loss: 0.0910 - accuracy: 0.9917 - precision_78: 0.9927 - recall_78: 0.9926\n",
      "246/246 [==============================] - 23s 79ms/step - loss: 0.0366 - accuracy: 0.9926 - precision_79: 0.9964 - recall_79: 0.9945\n",
      "246/246 [==============================] - 23s 77ms/step - loss: 22.0206 - accuracy: 0.1905 - precision_80: 0.2151 - recall_80: 0.2139\n",
      "246/246 [==============================] - 23s 79ms/step - loss: 25.0027 - accuracy: 0.1968 - precision_81: 0.2216 - recall_81: 0.2203\n",
      "246/246 [==============================] - 24s 79ms/step - loss: 13.5590 - accuracy: 0.2493 - precision_82: 0.2944 - recall_82: 0.2798\n",
      "246/246 [==============================] - 23s 79ms/step - loss: 5.7397 - accuracy: 0.5859 - precision_83: 0.7479 - recall_83: 0.6805\n",
      "246/246 [==============================] - 23s 80ms/step - loss: 7.5649 - accuracy: 0.6547 - precision_84: 0.7829 - recall_84: 0.7599\n",
      "246/246 [==============================] - 22s 76ms/step - loss: 8.5650 - accuracy: 0.6715 - precision_85: 0.7881 - recall_85: 0.7744\n",
      "246/246 [==============================] - 24s 82ms/step - loss: 9.7867 - accuracy: 0.6701 - precision_86: 0.7980 - recall_86: 0.7810\n",
      "246/246 [==============================] - 23s 78ms/step - loss: 11.1253 - accuracy: 0.6821 - precision_87: 0.8059 - recall_87: 0.7912\n",
      "246/246 [==============================] - 23s 78ms/step - loss: 8.0428 - accuracy: 0.7075 - precision_88: 0.8395 - recall_88: 0.8066\n",
      "246/246 [==============================] - 23s 78ms/step - loss: 5.6398 - accuracy: 0.8090 - precision_89: 0.8902 - recall_89: 0.8633\n",
      "246/246 [==============================] - 23s 78ms/step - loss: 5.3616 - accuracy: 0.8251 - precision_90: 0.8918 - recall_90: 0.8765\n",
      "246/246 [==============================] - 23s 78ms/step - loss: 9.3531 - accuracy: 0.8391 - precision_91: 0.8883 - recall_91: 0.8849 3s - loss: 8.8256 - accuracy: 0.85\n",
      "246/246 [==============================] - 23s 80ms/step - loss: 5.3259 - accuracy: 0.8781 - precision_92: 0.9081 - recall_92: 0.9010\n",
      "246/246 [==============================] - 23s 78ms/step - loss: 4.1416 - accuracy: 0.8774 - precision_93: 0.9075 - recall_93: 0.8979\n",
      "246/246 [==============================] - 23s 80ms/step - loss: 2.4638 - accuracy: 0.8949 - precision_94: 0.9233 - recall_94: 0.9020 7s - loss: 2.6056 - accuracy: 0.9161 - precision_94: 0.9150 -  - ETA: 5s - los\n",
      "246/246 [==============================] - 23s 80ms/step - loss: 2.5441 - accuracy: 0.9104 - precision_95: 0.9227 - recall_95: 0.9130\n",
      "246/246 [==============================] - 23s 78ms/step - loss: 1.1573 - accuracy: 0.9553 - precision_96: 0.9789 - recall_96: 0.9745\n",
      "246/246 [==============================] - 23s 79ms/step - loss: 1.0880 - accuracy: 0.9622 - precision_97: 0.9848 - recall_97: 0.9694\n",
      "246/246 [==============================] - 23s 79ms/step - loss: 0.5138 - accuracy: 0.9708 - precision_98: 0.9879 - recall_98: 0.9853\n",
      "246/246 [==============================] - 23s 79ms/step - loss: 0.0696 - accuracy: 0.9826 - precision_99: 0.9970 - recall_99: 0.9726\n"
     ]
    }
   ],
   "source": [
    "# Metrics using adversarial test\n",
    "\n",
    "#evaluate_lsa.append(model_original.evaluate(x_test_and_adversary,y_test_and_adversary))\n",
    "#evaluate_dsa.append(model_original.evaluate(x_test_and_adversary,y_test_and_adversary))\n",
    "#evaluate_nc.append(model_original.evaluate(x_test_and_adversary,y_test_and_adversary))\n",
    "#evaluate_random.append(model_original.evaluate(x_test_and_adversary,y_test_and_adversary))\n",
    "print(\"Evaluating for lsa\")\n",
    "for model in models_lsa:\n",
    "    evaluate_lsa.append(model.evaluate(x_test_and_adversary,y_test_and_adversary))\n",
    "    \n",
    "print(\"Evaluating for dsa\")\n",
    "for model in models_dsa:\n",
    "    evaluate_dsa.append(model.evaluate(x_test_and_adversary,y_test_and_adversary))\n",
    "print(\"Evaluating for random\")\n",
    "for model in models_random:\n",
    "    evaluate_random.append(model.evaluate(x_test_and_adversary,y_test_and_adversary))\n",
    "print(\"Evaluating for nc\")\n",
    "for model in models_nc:\n",
    "    evaluate_nc.append(model.evaluate(x_test_and_adversary,y_test_and_adversary))"
   ]
  },
  {
   "cell_type": "code",
   "execution_count": 89,
   "id": "ae3df5fe",
   "metadata": {},
   "outputs": [
    {
     "name": "stdout",
     "output_type": "stream",
     "text": [
      "Evaluating for dg\n",
      "246/246 [==============================] - 27s 94ms/step - loss: 3.2539 - accuracy: 0.1397 - precision_127: 0.4018 - recall_127: 0.0025\n",
      "246/246 [==============================] - 26s 90ms/step - loss: 2.3623 - accuracy: 0.3703 - precision_128: 0.5353 - recall_128: 0.3184 1s - loss: 2.3536 - accuracy: 0.3715 - precision_128: 0.5366 - rec - ETA: 0s - loss: 2.3609 - accuracy: 0.3705 - precision_128: 0.5355 - recall_128: 0.31\n",
      "246/246 [==============================] - 26s 89ms/step - loss: 0.8112 - accuracy: 0.7461 - precision_129: 0.7768 - recall_129: 0.7047\n",
      "246/246 [==============================] - 26s 91ms/step - loss: 0.3752 - accuracy: 0.8841 - precision_130: 0.8955 - recall_130: 0.8551\n",
      "246/246 [==============================] - 26s 89ms/step - loss: 0.1806 - accuracy: 0.9402 - precision_131: 0.9317 - recall_131: 0.9228 8s - loss: 0.1873 - accuracy: 0.9374 - pr - ETA: 5s - loss: 0.1797 - ac\n",
      "246/246 [==============================] - 26s 89ms/step - loss: 0.1735 - accuracy: 0.9449 - precision_132: 0.9593 - recall_132: 0.9288 0s - loss: 0.1711 - accuracy: 0.9455 - precision_132: 0.9592 - recall_\n",
      "246/246 [==============================] - 25s 86ms/step - loss: 0.0583 - accuracy: 0.9813 - precision_133: 0.9831 - recall_133: 0.9805\n",
      "246/246 [==============================] - 25s 87ms/step - loss: 0.0475 - accuracy: 0.9885 - precision_134: 0.9917 - recall_134: 0.9905\n",
      "246/246 [==============================] - 25s 88ms/step - loss: 0.0700 - accuracy: 0.9809 - precision_135: 0.9861 - recall_135: 0.9816\n",
      "246/246 [==============================] - 26s 89ms/step - loss: 0.0502 - accuracy: 0.9863 - precision_136: 0.9867 - recall_136: 0.9819 9s - loss: 0.0468 - accuracy: 0.9875 - pr - ETA: 6s - loss: 0.0445 - accuracy: 0.9881 - precision_136: 0.985 - ETA: 4s - loss: 0.0437 - accuracy: 0.988\n",
      "246/246 [==============================] - 26s 90ms/step - loss: 0.0465 - accuracy: 0.9896 - precision_137: 0.9954 - recall_137: 0.9940 3s - loss: 0.0342 - accuracy: 0.9931 - prec\n",
      "246/246 [==============================] - 26s 89ms/step - loss: 0.0378 - accuracy: 0.9918 - precision_138: 0.9964 - recall_138: 0.9952 10s - loss: 0.0248 - accuracy: 0.9961 - precision_1 - ETA: 7s - loss: 0.0260 - accuracy: 0.9955 - ETA: 3s - loss: 0.0268 - accuracy: 0.9950 - \n",
      "246/246 [==============================] - 26s 89ms/step - loss: 0.0553 - accuracy: 0.9877 - precision_139: 0.9931 - recall_139: 0.9914 7\n",
      "246/246 [==============================] - 26s 90ms/step - loss: 0.0540 - accuracy: 0.9852 - precision_140: 0.9879 - recall_140: 0.9820\n",
      "246/246 [==============================] - 25s 86ms/step - loss: 0.0592 - accuracy: 0.9915 - precision_141: 0.9947 - recall_141: 0.9926\n",
      "246/246 [==============================] - 25s 87ms/step - loss: 0.0313 - accuracy: 0.9929 - precision_142: 0.9958 - recall_142: 0.9925\n",
      "246/246 [==============================] - 25s 87ms/step - loss: 0.0477 - accuracy: 0.9910 - precision_143: 0.9956 - recall_143: 0.9942 9s - loss: 0.0322 - accuracy: 0.9950 - precision_143: 0.9958 - ETA: 7s - loss: 0.0335 - accuracy: 0.9948 - precision_143: 0.9958 - recall_143:  - ETA: 7s - loss: 0. - ETA: 1s - loss: 0.0408 - accuracy: 0.9929 - precision_143: 0.9957 - re\n",
      "246/246 [==============================] - 25s 88ms/step - loss: 0.0340 - accuracy: 0.9912 - precision_144: 0.9926 - recall_144: 0.9904\n",
      "246/246 [==============================] - 24s 80ms/step - loss: 0.0741 - accuracy: 0.9917 - precision_145: 0.9918 - recall_145: 0.9917\n",
      "246/246 [==============================] - 25s 85ms/step - loss: 0.0435 - accuracy: 0.9921 - precision_146: 0.9941 - recall_146: 0.9931\n",
      "246/246 [==============================] - 26s 91ms/step - loss: 0.0443 - accuracy: 0.9913 - precision_147: 0.9922 - recall_147: 0.9903\n",
      "Evaluating for se\n",
      "246/246 [==============================] - 26s 90ms/step - loss: 3.2348 - accuracy: 0.1564 - precision_148: 0.0000e+00 - recall_148: 0.0000e+00 11s - loss: 3.0392 - accuracy: 0.2288 - precision_148: 0.0000e+00 - recall_148: 0.0000e+ - ETA: 11s - loss: 3.0422  - ETA: 6s - loss: 3.1629 - accuracy: 0.1831 - precision_148: 0.0000e+00 - - ETA: 4s - loss: 3.1922 - accuracy: 0.1721 - preci\n",
      "246/246 [==============================] - 25s 85ms/step - loss: 1.9706 - accuracy: 0.4805 - precision_149: 0.5787 - recall_149: 0.3842\n",
      "246/246 [==============================] - 27s 90ms/step - loss: 1.2516 - accuracy: 0.6949 - precision_150: 0.7359 - recall_150: 0.6741 1s - loss: 1.2431 - accuracy: 0.6960 - precision_150: 0.735\n",
      "246/246 [==============================] - 26s 90ms/step - loss: 0.4475 - accuracy: 0.8606 - precision_151: 0.8711 - recall_151: 0.8332 17s - loss: 0.4867 - acc - ETA: 14s - loss: 0.4734 - accuracy: 0.8511 - - ETA: 8s - loss: 0.4569 - accuracy: 0.8576 - precision_151: 0.8628 - r - ETA: 6s - loss\n",
      "246/246 [==============================] - 27s 90ms/step - loss: 0.1158 - accuracy: 0.9655 - precision_152: 0.9611 - recall_152: 0.9496\n",
      "246/246 [==============================] - 25s 88ms/step - loss: 0.0763 - accuracy: 0.9769 - precision_153: 0.9753 - recall_153: 0.9712\n",
      "246/246 [==============================] - 25s 86ms/step - loss: 0.0356 - accuracy: 0.9893 - precision_154: 0.9919 - recall_154: 0.9909\n",
      "246/246 [==============================] - 27s 89ms/step - loss: 0.0420 - accuracy: 0.9897 - precision_155: 0.9915 - recall_155: 0.9900\n",
      "246/246 [==============================] - 26s 89ms/step - loss: 0.0306 - accuracy: 0.9922 - precision_156: 0.9928 - recall_156: 0.9900\n",
      "246/246 [==============================] - 27s 92ms/step - loss: 0.0479 - accuracy: 0.9875 - precision_157: 0.9859 - recall_157: 0.9840 3s - loss: 0.0423 - accuracy: 0.9888 - pre\n",
      "246/246 [==============================] - 27s 86ms/step - loss: 0.0329 - accuracy: 0.9915 - precision_158: 0.9938 - recall_158: 0.9915\n",
      "246/246 [==============================] - 28s 92ms/step - loss: 0.0375 - accuracy: 0.9922 - precision_159: 0.9923 - recall_159: 0.9920 1s - loss: 0.0310 - accuracy: 0.9938 - precision_159: 0.9922 \n",
      "246/246 [==============================] - 27s 90ms/step - loss: 0.0604 - accuracy: 0.9888 - precision_160: 0.9902 - recall_160: 0.9893 0s - loss: 0.0592 - accuracy: 0.9892 - precision_160: 0.9902 - recall_160: 0.9\n",
      "246/246 [==============================] - 28s 92ms/step - loss: 0.0451 - accuracy: 0.9899 - precision_161: 0.9939 - recall_161: 0.9857 0s - loss: 0.0434 - accuracy: 0.9903 - precision_161: 0.9939 - recall_161: 0\n",
      "246/246 [==============================] - 27s 91ms/step - loss: 0.0499 - accuracy: 0.9898 - precision_162: 0.9925 - recall_162: 0.9892 8s - ETA: 1s - loss: 0.0433 - accuracy: 0.9917 - precision_162: 0.9924 - \n",
      "246/246 [==============================] - 31s 105ms/step - loss: 0.0597 - accuracy: 0.9914 - precision_163: 0.9950 - recall_163: 0.9918\n",
      "246/246 [==============================] - 33s 104ms/step - loss: 0.0370 - accuracy: 0.9927 - precision_164: 0.9960 - recall_164: 0.99105s - loss: 0.0277 - accuracy: 0.9954  - ETA: 1s - loss: 0.0326 - accuracy: 0.9939 - precision_164: 0.9961 - recall_\n",
      "246/246 [==============================] - 34s 104ms/step - loss: 0.0538 - accuracy: 0.9883 - precision_165: 0.9904 - recall_165: 0.9837\n",
      "246/246 [==============================] - 24s 62ms/step - loss: 0.0727 - accuracy: 0.9902 - precision_166: 0.9923 - recall_166: 0.9894\n",
      "246/246 [==============================] - 21s 67ms/step - loss: 0.0503 - accuracy: 0.9917 - precision_167: 0.9933 - recall_167: 0.9926 8s - loss: 0.0484 - accuracy: 0.9937 - precision_167: 0\n",
      "246/246 [==============================] - 23s 68ms/step - loss: 0.0758 - accuracy: 0.9896 - precision_168: 0.9910 - recall_168: 0.9881\n"
     ]
    }
   ],
   "source": [
    "print(\"Evaluating for dg\")\n",
    "for model in models_dg:\n",
    "    evaluate_dg.append(model.evaluate(x_test_and_adversary,y_test_and_adversary))\n",
    "    \n",
    "print(\"Evaluating for se\")\n",
    "for model in models_se:\n",
    "    evaluate_se.append(model.evaluate(x_test_and_adversary,y_test_and_adversary))\n"
   ]
  },
  {
   "cell_type": "code",
   "execution_count": 90,
   "id": "2141a097",
   "metadata": {},
   "outputs": [
    {
     "data": {
      "text/plain": [
       "22"
      ]
     },
     "execution_count": 90,
     "metadata": {},
     "output_type": "execute_result"
    }
   ],
   "source": [
    "len(evaluate_dg)"
   ]
  },
  {
   "cell_type": "code",
   "execution_count": 62,
   "id": "078f3e93",
   "metadata": {},
   "outputs": [
    {
     "name": "stdout",
     "output_type": "stream",
     "text": [
      "246/246 [==============================] - 27s 97ms/step - loss: 0.0446 - accuracy: 0.9924 - precision_125: 0.9927 - recall_125: 0.9926 10s - loss: 0.0362 - accuracy: 0.9941 - precision_1 - ETA: 7s - loss:  - ETA: 0s - loss: 0.0421 - accuracy: 0.9930 - precision_125: 0.9926 - recall_125: \n",
      "246/246 [==============================] - 26s 93ms/step - loss: 0.0357 - accuracy: 0.9933 - precision_126: 0.9960 - recall_126: 0.9950\n"
     ]
    }
   ],
   "source": [
    "#evaluate_lsa.append(models_lsa[20].evaluate(x_test_and_adversary,y_test_and_adversary))\n",
    "#evaluate_dsa.append(models_dsa[20].evaluate(x_test_and_adversary,y_test_and_adversary))\n",
    "#evaluate_dg.append(models_dg[20].evaluate(x_test_and_adversary,y_test_and_adversary))\n",
    "#evaluate_se.append(models_se[20].evaluate(x_test_and_adversary,y_test_and_adversary))\n",
    "evaluate_random.append(models_random[20].evaluate(x_test_and_adversary,y_test_and_adversary))\n",
    "evaluate_nc.append(models_nc[20].evaluate(x_test_and_adversary,y_test_and_adversary))\n"
   ]
  },
  {
   "cell_type": "code",
   "execution_count": 63,
   "id": "e48d1822",
   "metadata": {},
   "outputs": [
    {
     "data": {
      "text/plain": [
       "22"
      ]
     },
     "execution_count": 63,
     "metadata": {},
     "output_type": "execute_result"
    }
   ],
   "source": [
    "len(evaluate_nc)"
   ]
  },
  {
   "cell_type": "code",
   "execution_count": 91,
   "id": "ba831e22",
   "metadata": {},
   "outputs": [],
   "source": [
    "import pandas as pd\n",
    "\n",
    "df_evaluate_lsa = pd.DataFrame(np.array(evaluate_lsa),columns=[\"loss\",\"accuracy\",\"precision\",\"recall\"])\n",
    "df_evaluate_dsa = pd.DataFrame(np.array(evaluate_dsa),columns=[\"loss\",\"accuracy\",\"precision\",\"recall\"])\n",
    "df_evaluate_dg = pd.DataFrame(np.array(evaluate_dg),columns=[\"loss\",\"accuracy\",\"precision\",\"recall\"])\n",
    "df_evaluate_se = pd.DataFrame(np.array(evaluate_se),columns=[\"loss\",\"accuracy\",\"precision\",\"recall\"])\n",
    "\n",
    "df_evaluate_random = pd.DataFrame(np.array(evaluate_random),columns=[\"loss\",\"accuracy\",\"precision\",\"recall\"])\n",
    "df_evaluate_nc = pd.DataFrame(np.array(evaluate_nc),columns=[\"loss\",\"accuracy\",\"precision\",\"recall\"])\n"
   ]
  },
  {
   "cell_type": "code",
   "execution_count": 11,
   "id": "d5eae8d4",
   "metadata": {},
   "outputs": [],
   "source": [
    "save_dir = \"D:/aug_graphs/\"+dataset+\"/\"+config_lc"
   ]
  },
  {
   "cell_type": "code",
   "execution_count": 12,
   "id": "eee08d4a",
   "metadata": {},
   "outputs": [],
   "source": [
    "import pandas as pd\n",
    "loading_csv = True\n",
    "if(loading_csv):\n",
    "    \n",
    "    df_evaluate_lsa = pd.read_csv(save_dir+\"/lsa_\"+config_lc)\n",
    "    df_evaluate_dsa = pd.read_csv(save_dir+\"/dsa_\"+config_lc)\n",
    "    df_evaluate_dg = pd.read_csv(save_dir+\"/dg_\"+config_lc)\n",
    "    df_evaluate_se = pd.read_csv(save_dir+\"/se_\"+config_lc)\n",
    "    df_evaluate_random = pd.read_csv(save_dir+\"/random_\"+config_lc)\n",
    "    df_evaluate_nc = pd.read_csv(save_dir+\"/nc_\"+config_lc)"
   ]
  },
  {
   "cell_type": "code",
   "execution_count": 92,
   "id": "1fcc89a7",
   "metadata": {},
   "outputs": [],
   "source": [
    "df_evaluate_lsa.to_csv(save_dir+\"/lsa_\"+config_lc,index=False)\n",
    "df_evaluate_dsa.to_csv(save_dir+\"/dsa_\"+config_lc,index=False)\n",
    "df_evaluate_dg.to_csv(save_dir+\"/dg_\"+config_lc,index=False)\n",
    "df_evaluate_se.to_csv(save_dir+\"/se_\"+config_lc,index=False)\n",
    "df_evaluate_random.to_csv(save_dir+\"/random_\"+config_lc,index=False)\n",
    "df_evaluate_nc.to_csv(save_dir+\"/nc_\"+config_lc,index=False)"
   ]
  },
  {
   "cell_type": "code",
   "execution_count": 13,
   "id": "434369a2",
   "metadata": {},
   "outputs": [
    {
     "data": {
      "text/html": [
       "<div>\n",
       "<style scoped>\n",
       "    .dataframe tbody tr th:only-of-type {\n",
       "        vertical-align: middle;\n",
       "    }\n",
       "\n",
       "    .dataframe tbody tr th {\n",
       "        vertical-align: top;\n",
       "    }\n",
       "\n",
       "    .dataframe thead th {\n",
       "        text-align: right;\n",
       "    }\n",
       "</style>\n",
       "<table border=\"1\" class=\"dataframe\">\n",
       "  <thead>\n",
       "    <tr style=\"text-align: right;\">\n",
       "      <th></th>\n",
       "      <th>loss</th>\n",
       "      <th>accuracy</th>\n",
       "      <th>precision</th>\n",
       "      <th>recall</th>\n",
       "    </tr>\n",
       "  </thead>\n",
       "  <tbody>\n",
       "    <tr>\n",
       "      <th>0</th>\n",
       "      <td>0.000000</td>\n",
       "      <td>0.000000</td>\n",
       "      <td>0.000000</td>\n",
       "      <td>0.000000</td>\n",
       "    </tr>\n",
       "    <tr>\n",
       "      <th>1</th>\n",
       "      <td>3.473825</td>\n",
       "      <td>0.065783</td>\n",
       "      <td>0.209805</td>\n",
       "      <td>0.000855</td>\n",
       "    </tr>\n",
       "    <tr>\n",
       "      <th>2</th>\n",
       "      <td>2.470625</td>\n",
       "      <td>0.354411</td>\n",
       "      <td>0.519065</td>\n",
       "      <td>0.231395</td>\n",
       "    </tr>\n",
       "    <tr>\n",
       "      <th>3</th>\n",
       "      <td>0.864252</td>\n",
       "      <td>0.740694</td>\n",
       "      <td>0.801990</td>\n",
       "      <td>0.702971</td>\n",
       "    </tr>\n",
       "    <tr>\n",
       "      <th>4</th>\n",
       "      <td>0.401138</td>\n",
       "      <td>0.878506</td>\n",
       "      <td>0.905847</td>\n",
       "      <td>0.863822</td>\n",
       "    </tr>\n",
       "    <tr>\n",
       "      <th>5</th>\n",
       "      <td>0.243437</td>\n",
       "      <td>0.924018</td>\n",
       "      <td>0.945425</td>\n",
       "      <td>0.934732</td>\n",
       "    </tr>\n",
       "    <tr>\n",
       "      <th>6</th>\n",
       "      <td>0.229721</td>\n",
       "      <td>0.930520</td>\n",
       "      <td>0.961540</td>\n",
       "      <td>0.931516</td>\n",
       "    </tr>\n",
       "    <tr>\n",
       "      <th>7</th>\n",
       "      <td>0.149377</td>\n",
       "      <td>0.956527</td>\n",
       "      <td>0.983784</td>\n",
       "      <td>0.979506</td>\n",
       "    </tr>\n",
       "    <tr>\n",
       "      <th>8</th>\n",
       "      <td>0.123374</td>\n",
       "      <td>0.967109</td>\n",
       "      <td>0.990531</td>\n",
       "      <td>0.987821</td>\n",
       "    </tr>\n",
       "    <tr>\n",
       "      <th>9</th>\n",
       "      <td>0.163189</td>\n",
       "      <td>0.956017</td>\n",
       "      <td>0.983918</td>\n",
       "      <td>0.979433</td>\n",
       "    </tr>\n",
       "    <tr>\n",
       "      <th>10</th>\n",
       "      <td>0.124260</td>\n",
       "      <td>0.964686</td>\n",
       "      <td>0.988834</td>\n",
       "      <td>0.984367</td>\n",
       "    </tr>\n",
       "    <tr>\n",
       "      <th>11</th>\n",
       "      <td>0.167567</td>\n",
       "      <td>0.956272</td>\n",
       "      <td>0.992469</td>\n",
       "      <td>0.987898</td>\n",
       "    </tr>\n",
       "    <tr>\n",
       "      <th>12</th>\n",
       "      <td>0.148779</td>\n",
       "      <td>0.961882</td>\n",
       "      <td>0.993770</td>\n",
       "      <td>0.990380</td>\n",
       "    </tr>\n",
       "    <tr>\n",
       "      <th>13</th>\n",
       "      <td>0.165448</td>\n",
       "      <td>0.957547</td>\n",
       "      <td>0.991307</td>\n",
       "      <td>0.986546</td>\n",
       "    </tr>\n",
       "    <tr>\n",
       "      <th>14</th>\n",
       "      <td>0.141098</td>\n",
       "      <td>0.961372</td>\n",
       "      <td>0.990143</td>\n",
       "      <td>0.982752</td>\n",
       "    </tr>\n",
       "    <tr>\n",
       "      <th>15</th>\n",
       "      <td>0.145598</td>\n",
       "      <td>0.970041</td>\n",
       "      <td>0.993781</td>\n",
       "      <td>0.991303</td>\n",
       "    </tr>\n",
       "    <tr>\n",
       "      <th>16</th>\n",
       "      <td>0.124792</td>\n",
       "      <td>0.966726</td>\n",
       "      <td>0.995027</td>\n",
       "      <td>0.990799</td>\n",
       "    </tr>\n",
       "    <tr>\n",
       "      <th>17</th>\n",
       "      <td>0.161070</td>\n",
       "      <td>0.960479</td>\n",
       "      <td>0.994190</td>\n",
       "      <td>0.989194</td>\n",
       "    </tr>\n",
       "    <tr>\n",
       "      <th>18</th>\n",
       "      <td>0.119792</td>\n",
       "      <td>0.964941</td>\n",
       "      <td>0.993552</td>\n",
       "      <td>0.988651</td>\n",
       "    </tr>\n",
       "    <tr>\n",
       "      <th>19</th>\n",
       "      <td>0.185998</td>\n",
       "      <td>0.966726</td>\n",
       "      <td>0.992461</td>\n",
       "      <td>0.991493</td>\n",
       "    </tr>\n",
       "    <tr>\n",
       "      <th>20</th>\n",
       "      <td>0.118695</td>\n",
       "      <td>0.971443</td>\n",
       "      <td>0.994325</td>\n",
       "      <td>0.990584</td>\n",
       "    </tr>\n",
       "    <tr>\n",
       "      <th>21</th>\n",
       "      <td>0.149913</td>\n",
       "      <td>0.962774</td>\n",
       "      <td>0.993967</td>\n",
       "      <td>0.989057</td>\n",
       "    </tr>\n",
       "  </tbody>\n",
       "</table>\n",
       "</div>"
      ],
      "text/plain": [
       "        loss  accuracy  precision    recall\n",
       "0   0.000000  0.000000   0.000000  0.000000\n",
       "1   3.473825  0.065783   0.209805  0.000855\n",
       "2   2.470625  0.354411   0.519065  0.231395\n",
       "3   0.864252  0.740694   0.801990  0.702971\n",
       "4   0.401138  0.878506   0.905847  0.863822\n",
       "5   0.243437  0.924018   0.945425  0.934732\n",
       "6   0.229721  0.930520   0.961540  0.931516\n",
       "7   0.149377  0.956527   0.983784  0.979506\n",
       "8   0.123374  0.967109   0.990531  0.987821\n",
       "9   0.163189  0.956017   0.983918  0.979433\n",
       "10  0.124260  0.964686   0.988834  0.984367\n",
       "11  0.167567  0.956272   0.992469  0.987898\n",
       "12  0.148779  0.961882   0.993770  0.990380\n",
       "13  0.165448  0.957547   0.991307  0.986546\n",
       "14  0.141098  0.961372   0.990143  0.982752\n",
       "15  0.145598  0.970041   0.993781  0.991303\n",
       "16  0.124792  0.966726   0.995027  0.990799\n",
       "17  0.161070  0.960479   0.994190  0.989194\n",
       "18  0.119792  0.964941   0.993552  0.988651\n",
       "19  0.185998  0.966726   0.992461  0.991493\n",
       "20  0.118695  0.971443   0.994325  0.990584\n",
       "21  0.149913  0.962774   0.993967  0.989057"
      ]
     },
     "execution_count": 13,
     "metadata": {},
     "output_type": "execute_result"
    }
   ],
   "source": [
    "df_evaluate_dg"
   ]
  },
  {
   "cell_type": "code",
   "execution_count": 14,
   "id": "3c21fd01",
   "metadata": {},
   "outputs": [],
   "source": [
    "\n",
    "metric =\"accuracy\"\n",
    "accuracy_lsa_3 = np.array(df_evaluate_lsa[metric])\n",
    "accuracy_dsa_3 = np.array(df_evaluate_dsa[metric])\n",
    "accuracy_dg_3 = np.array(df_evaluate_dg[metric])\n",
    "accuracy_se_3 = np.array(df_evaluate_se[metric])\n",
    "\n",
    "accuracy_nc_3 =np.array(df_evaluate_nc[metric])\n",
    "accuracy_random_3 = np.array(df_evaluate_random[metric])\n"
   ]
  },
  {
   "cell_type": "code",
   "execution_count": null,
   "id": "7aeb569b",
   "metadata": {},
   "outputs": [],
   "source": []
  },
  {
   "cell_type": "code",
   "execution_count": 15,
   "id": "9ed5051f",
   "metadata": {},
   "outputs": [],
   "source": [
    "n_data_points = 1750"
   ]
  },
  {
   "cell_type": "code",
   "execution_count": 16,
   "id": "43b61f22",
   "metadata": {},
   "outputs": [
    {
     "data": {
      "text/plain": [
       "22"
      ]
     },
     "execution_count": 16,
     "metadata": {},
     "output_type": "execute_result"
    }
   ],
   "source": [
    "len(accuracy_dsa_3)"
   ]
  },
  {
   "cell_type": "code",
   "execution_count": 17,
   "id": "e67df87a",
   "metadata": {},
   "outputs": [
    {
     "name": "stdout",
     "output_type": "stream",
     "text": [
      "22\n"
     ]
    },
    {
     "data": {
      "text/plain": [
       "[0,\n",
       " 1750,\n",
       " 3500,\n",
       " 5250,\n",
       " 7000,\n",
       " 8750,\n",
       " 10500,\n",
       " 12250,\n",
       " 14000,\n",
       " 15750,\n",
       " 17500,\n",
       " 19250,\n",
       " 21000,\n",
       " 22750,\n",
       " 24500,\n",
       " 26250,\n",
       " 28000,\n",
       " 29750,\n",
       " 31500,\n",
       " 33250,\n",
       " 35000,\n",
       " 35287]"
      ]
     },
     "execution_count": 17,
     "metadata": {},
     "output_type": "execute_result"
    }
   ],
   "source": [
    "n_inputs = [n_data_points*i for i in range(num_models+1)]\n",
    "n_inputs.append(len(x_train_and_adversary))\n",
    "print(len(n_inputs))\n",
    "n_inputs"
   ]
  },
  {
   "cell_type": "code",
   "execution_count": null,
   "id": "3cd2cd2d",
   "metadata": {},
   "outputs": [],
   "source": []
  },
  {
   "cell_type": "code",
   "execution_count": 18,
   "id": "b484cf9a",
   "metadata": {},
   "outputs": [],
   "source": [
    "save_dir = \"D:/aug_graphs/\"+dataset+\"/\"+config"
   ]
  },
  {
   "cell_type": "code",
   "execution_count": 19,
   "id": "04d02a6d",
   "metadata": {},
   "outputs": [],
   "source": [
    "linestyles = ['solid','dotted','dashed','dashed','dashdot','dashdot']\n",
    "colors =['b','g','r','c','m','k']"
   ]
  },
  {
   "cell_type": "code",
   "execution_count": 109,
   "id": "d9862fd1",
   "metadata": {},
   "outputs": [
    {
     "name": "stdout",
     "output_type": "stream",
     "text": [
      "35000 0.9705507159233093\n",
      "35287 0.967491090297699\n",
      "35000 0.9714431166648865\n",
      "15750 0.9750127196311951\n",
      "35287 0.973100483417511\n",
      "35287 0.9682559967041016\n"
     ]
    },
    {
     "data": {
      "image/png": "[encoded data removed]",
      "text/plain": [
       "<Figure size 432x288 with 1 Axes>"
      ]
     },
     "metadata": {
      "needs_background": "light"
     },
     "output_type": "display_data"
    }
   ],
   "source": [
    "#adversarial jsma test set\n",
    "#configuration 3\n",
    "\"\"\"\n",
    "6) Incremental guided retraining starting from the original model using only the new adversarial inputs.\n",
    "Incremental training, starting with the previous trained model. Using at each iteration a subset of the new inputs.\n",
    "\"\"\"\n",
    "import matplotlib.pyplot as plt\n",
    "import matplotlib.patches as mpatches\n",
    "\n",
    "from matplotlib.patches import Patch\n",
    "from matplotlib.lines import Line2D\n",
    "\n",
    "plt.plot(n_inputs,accuracy_lsa_3,colors[0],linestyle=linestyles[0])\n",
    "plt.plot(n_inputs,accuracy_dsa_3,colors[1],linestyle=linestyles[1])\n",
    "plt.plot(n_inputs,accuracy_dg_3,colors[2],linestyle=linestyles[2])\n",
    "plt.plot(n_inputs,accuracy_se_3,colors[3],linestyle=linestyles[3])\n",
    "plt.plot(n_inputs,accuracy_random_3,colors[4],linestyle=linestyles[4])\n",
    "plt.plot(n_inputs,accuracy_nc_3,colors[5],linestyle=linestyles[5])\n",
    "\n",
    "\n",
    "legend_elements = [Line2D([0], [0], color=colors[0], label='LSA',ls = linestyles[0]),\n",
    "                   Line2D([0], [0], color=colors[1], label='DSA',ls = linestyles[1]),\n",
    "                   Line2D([0], [0], color=colors[2], label='dg',ls = linestyles[2]),\n",
    "                   Line2D([0], [0], color=colors[3], label='se',ls = linestyles[3]),\n",
    "                   Line2D([0], [0], color=colors[4], label='Random',ls = linestyles[4]),\n",
    "                   Line2D([0], [0], color=colors[5], label='NC',ls = linestyles[5])]\n",
    "\n",
    "\n",
    "\n",
    "plt.legend(handles=legend_elements)#\n",
    "#plt.title(\"Accuracy\")\n",
    "\n",
    "print(n_inputs[np.argmax(accuracy_lsa_3)],accuracy_lsa_3.max())\n",
    "print(n_inputs[np.argmax(accuracy_dsa_3)],accuracy_dsa_3.max())\n",
    "print(n_inputs[np.argmax(accuracy_dg_3)],accuracy_dg_3.max())\n",
    "print(n_inputs[np.argmax(accuracy_se_3)],accuracy_se_3.max())\n",
    "print(n_inputs[np.argmax(accuracy_random_3)],accuracy_random_3.max())\n",
    "print(n_inputs[np.argmax(accuracy_nc_3)],accuracy_nc_3.max())\n",
    "\n",
    "plt.plot(n_inputs[np.argmax(accuracy_lsa_3)],accuracy_lsa_3.max(),'-bD',)\n",
    "plt.plot(n_inputs[np.argmax(accuracy_dsa_3)],accuracy_dsa_3.max(),'-go')\n",
    "plt.plot(n_inputs[np.argmax(accuracy_dg_3)],accuracy_dg_3.max(),'-r+')\n",
    "plt.plot(n_inputs[np.argmax(accuracy_se_3)],accuracy_se_3.max(),'-c*')\n",
    "plt.plot(n_inputs[np.argmax(accuracy_random_3)],accuracy_random_3.max(),'-mv')\n",
    "plt.plot(n_inputs[np.argmax(accuracy_nc_3)],accuracy_nc_3.max(),'-kp')\n",
    "\n",
    "plt.xlabel('Number of inputs')\n",
    "plt.ylabel('Accuracy')\n",
    "plt.xlim([0, len(x_train_and_adversary)])\n",
    "#plt.ylim([0, 1])\n",
    "\n",
    "plt.savefig(save_dir+\"/\"+dataset+\"_\"+config_lc+\"_\"+\"accuracy\" + \".svg\")\n",
    "\n",
    "plt.show()"
   ]
  },
  {
   "cell_type": "code",
   "execution_count": 20,
   "id": "2a94d48b",
   "metadata": {},
   "outputs": [
    {
     "name": "stdout",
     "output_type": "stream",
     "text": [
      "35000 0.9705507159233092\n",
      "35287 0.967491090297699\n",
      "35000 0.9714431166648864\n",
      "15750 0.9750127196311952\n",
      "35287 0.973100483417511\n",
      "35287 0.9682559967041016\n"
     ]
    },
    {
     "data": {
      "image/png": "[encoded data removed]",
      "text/plain": [
       "<Figure size 432x288 with 1 Axes>"
      ]
     },
     "metadata": {
      "needs_background": "light"
     },
     "output_type": "display_data"
    }
   ],
   "source": [
    "#adversarial jsma test set\n",
    "#configuration 3\n",
    "\"\"\"\n",
    "6) Incremental guided retraining starting from the original model using only the new adversarial inputs.\n",
    "Incremental training, starting with the previous trained model. Using at each iteration a subset of the new inputs.\n",
    "\"\"\"\n",
    "import matplotlib.pyplot as plt\n",
    "import matplotlib.patches as mpatches\n",
    "\n",
    "from matplotlib.patches import Patch\n",
    "from matplotlib.lines import Line2D\n",
    "\n",
    "plt.plot(n_inputs,accuracy_lsa_3,colors[0],linestyle=linestyles[0])\n",
    "plt.plot(n_inputs,accuracy_dsa_3,colors[1],linestyle=linestyles[1])\n",
    "plt.plot(n_inputs,accuracy_dg_3,colors[2],linestyle=linestyles[2])\n",
    "plt.plot(n_inputs,accuracy_se_3,colors[3],linestyle=linestyles[3])\n",
    "plt.plot(n_inputs,accuracy_random_3,colors[4],linestyle=linestyles[4])\n",
    "plt.plot(n_inputs,accuracy_nc_3,colors[5],linestyle=linestyles[5])\n",
    "\n",
    "\n",
    "legend_elements = [Line2D([0], [0], color=colors[0], label='LSA',ls = linestyles[0]),\n",
    "                   Line2D([0], [0], color=colors[1], label='DSA',ls = linestyles[1]),\n",
    "                   Line2D([0], [0], color=colors[2], label='dg',ls = linestyles[2]),\n",
    "                   Line2D([0], [0], color=colors[3], label='se',ls = linestyles[3]),\n",
    "                   Line2D([0], [0], color=colors[4], label='Random',ls = linestyles[4]),\n",
    "                   Line2D([0], [0], color=colors[5], label='NC',ls = linestyles[5])]\n",
    "\n",
    "\n",
    "\n",
    "plt.legend(handles=legend_elements)#\n",
    "#plt.title(\"Accuracy\")\n",
    "\n",
    "print(n_inputs[np.argmax(accuracy_lsa_3)],accuracy_lsa_3.max())\n",
    "print(n_inputs[np.argmax(accuracy_dsa_3)],accuracy_dsa_3.max())\n",
    "print(n_inputs[np.argmax(accuracy_dg_3)],accuracy_dg_3.max())\n",
    "print(n_inputs[np.argmax(accuracy_se_3)],accuracy_se_3.max())\n",
    "print(n_inputs[np.argmax(accuracy_random_3)],accuracy_random_3.max())\n",
    "print(n_inputs[np.argmax(accuracy_nc_3)],accuracy_nc_3.max())\n",
    "\n",
    "plt.plot(n_inputs[np.argmax(accuracy_lsa_3)],accuracy_lsa_3.max(),'-bD',)\n",
    "plt.plot(n_inputs[np.argmax(accuracy_dsa_3)],accuracy_dsa_3.max(),'-go')\n",
    "plt.plot(n_inputs[np.argmax(accuracy_dg_3)],accuracy_dg_3.max(),'-r+')\n",
    "plt.plot(n_inputs[np.argmax(accuracy_se_3)],accuracy_se_3.max(),'-c*')\n",
    "plt.plot(n_inputs[np.argmax(accuracy_random_3)],accuracy_random_3.max(),'-mv')\n",
    "plt.plot(n_inputs[np.argmax(accuracy_nc_3)],accuracy_nc_3.max(),'-kp')\n",
    "\n",
    "plt.xlabel('Number of inputs')\n",
    "plt.ylabel('Accuracy')\n",
    "plt.xlim([0, len(x_train_and_adversary)])\n",
    "#plt.ylim([0, 1])\n",
    "\n",
    "plt.savefig(save_dir+\"/\"+dataset+\"_\"+config_lc+\"_\"+\"accuracy\" + \".svg\")\n",
    "\n",
    "plt.show()"
   ]
  },
  {
   "cell_type": "code",
   "execution_count": null,
   "id": "75c13967",
   "metadata": {},
   "outputs": [],
   "source": []
  }
 ],
 "metadata": {
  "kernelspec": {
   "display_name": "Python 3 (ipykernel)",
   "language": "python",
   "name": "python3"
  },
  "language_info": {
   "codemirror_mode": {
    "name": "ipython",
    "version": 3
   },
   "file_extension": ".py",
   "mimetype": "text/x-python",
   "name": "python",
   "nbconvert_exporter": "python",
   "pygments_lexer": "ipython3",
   "version": "3.9.7"
  }
 },
 "nbformat": 4,
 "nbformat_minor": 5
}
