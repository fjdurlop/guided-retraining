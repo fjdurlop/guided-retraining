{
 "cells": [
  {
   "cell_type": "code",
   "execution_count": 1,
   "id": "458bf345",
   "metadata": {},
   "outputs": [],
   "source": [
    "import argparse\n",
    "\n",
    "import numpy as np\n",
    "import tensorflow as tf\n",
    "import keras.backend as K\n",
    "\n",
    "import matplotlib.pyplot as plt\n",
    "\n",
    "from keras.utils import np_utils\n",
    "from keras.models import Sequential\n",
    "from keras.layers import Dense, Dropout, Activation, Flatten, Conv2D, MaxPooling2D\n",
    "from keras.regularizers import l2\n",
    "\n",
    "import glob\n",
    "import os\n",
    "import cv2\n",
    "import keras\n",
    "\n",
    "\n",
    "import time\n",
    "import argparse\n",
    "\n",
    "from tqdm import tqdm\n",
    "\n",
    "from keras.models import load_model, Model\n"
   ]
  },
  {
   "cell_type": "code",
   "execution_count": 2,
   "id": "d87645a5",
   "metadata": {},
   "outputs": [
    {
     "name": "stdout",
     "output_type": "stream",
     "text": [
      "C:\\Users\\fjdur\\Documents\\utils\n"
     ]
    }
   ],
   "source": [
    "cd C:/Users/fjdur/Documents/utils/"
   ]
  },
  {
   "cell_type": "code",
   "execution_count": 3,
   "id": "b4b5dea1",
   "metadata": {},
   "outputs": [
    {
     "name": "stdout",
     "output_type": "stream",
     "text": [
      "2.5.0\n",
      "keras\n",
      "2.5.0\n"
     ]
    }
   ],
   "source": [
    "import utils_guided_retraining as utils"
   ]
  },
  {
   "cell_type": "code",
   "execution_count": 4,
   "id": "a90d3511",
   "metadata": {},
   "outputs": [],
   "source": [
    "dataset = \"gtsrb\""
   ]
  },
  {
   "cell_type": "code",
   "execution_count": 5,
   "id": "07b34a1a",
   "metadata": {},
   "outputs": [],
   "source": [
    "x_test,y_test = utils.get_data(dataset,\"Test\")"
   ]
  },
  {
   "cell_type": "code",
   "execution_count": 6,
   "id": "244a4fbd",
   "metadata": {},
   "outputs": [],
   "source": [
    "x_train_and_adversary,y_train_and_adversary = utils.get_data(dataset,\"Train_and_adversary\")"
   ]
  },
  {
   "cell_type": "code",
   "execution_count": 7,
   "id": "739175c8",
   "metadata": {},
   "outputs": [],
   "source": [
    "x_test_and_adversary,y_test_and_adversary = utils.get_adversarial_data(dataset,'Test_adversarial') "
   ]
  },
  {
   "cell_type": "code",
   "execution_count": 8,
   "id": "0875bdf0",
   "metadata": {},
   "outputs": [],
   "source": [
    "\n",
    "model_dir = \"C:/Users/fjdur/Documents/upc-july/models/tf_model_25-06/\"\n",
    "if(dataset == 'gtsrb'):\n",
    "    model_dir = \"C:/Users/fjdur/Documents/upc-july/models/tf_model_25-06\"\n",
    "elif(dataset == 'intel'):\n",
    "    model_dir = \"C:/Users/fjdur/Documents/upc-july/models/intel_model_21_10\"\n",
    "elif(dataset == 'mnist'):\n",
    "    model_dir = \"C:/Users/fjdur/Documents/upc-july/models/models2\"\n",
    "elif(dataset == 'cifar'):\n",
    "    model_dir = \"C:/Users/fjdur/Documents/upc-july/models/model_02\"\n"
   ]
  },
  {
   "cell_type": "code",
   "execution_count": 9,
   "id": "1485065e",
   "metadata": {},
   "outputs": [
    {
     "name": "stdout",
     "output_type": "stream",
     "text": [
      "C:/Users/fjdur/Documents/upc-july/models/tf_model_25-06\n",
      "Model loaded correctly\n"
     ]
    }
   ],
   "source": [
    "print(model_dir)\n",
    "model_original = utils.My_model(dataset,True, model_dir)"
   ]
  },
  {
   "cell_type": "markdown",
   "id": "48e95400",
   "metadata": {},
   "source": [
    "## Loading models"
   ]
  },
  {
   "cell_type": "code",
   "execution_count": 10,
   "id": "a22156f9",
   "metadata": {},
   "outputs": [],
   "source": [
    "data_dir = \"D:/models/aug_22\"\n",
    "dataset = \"gtsrb\"\n",
    "config = \"C2\"\n",
    "config_lc = \"c2\"\n",
    "num_models = 21"
   ]
  },
  {
   "cell_type": "code",
   "execution_count": 11,
   "id": "c0dc05ec",
   "metadata": {},
   "outputs": [
    {
     "name": "stdout",
     "output_type": "stream",
     "text": [
      "D:/models/aug_22/gtsrb/C2/gtsrb_model_c2_aug_lsa_e1_0\n",
      "Model loaded correctly\n",
      "D:/models/aug_22/gtsrb/C2/gtsrb_model_c2_aug_lsa_e1_1\n",
      "Model loaded correctly\n",
      "D:/models/aug_22/gtsrb/C2/gtsrb_model_c2_aug_lsa_e1_2\n",
      "Model loaded correctly\n",
      "D:/models/aug_22/gtsrb/C2/gtsrb_model_c2_aug_lsa_e1_3\n",
      "Model loaded correctly\n",
      "D:/models/aug_22/gtsrb/C2/gtsrb_model_c2_aug_lsa_e1_4\n",
      "Model loaded correctly\n",
      "D:/models/aug_22/gtsrb/C2/gtsrb_model_c2_aug_lsa_e1_5\n",
      "Model loaded correctly\n",
      "D:/models/aug_22/gtsrb/C2/gtsrb_model_c2_aug_lsa_e1_6\n",
      "Model loaded correctly\n",
      "D:/models/aug_22/gtsrb/C2/gtsrb_model_c2_aug_lsa_e1_7\n",
      "Model loaded correctly\n",
      "D:/models/aug_22/gtsrb/C2/gtsrb_model_c2_aug_lsa_e1_8\n",
      "Model loaded correctly\n",
      "D:/models/aug_22/gtsrb/C2/gtsrb_model_c2_aug_lsa_e1_9\n",
      "Model loaded correctly\n",
      "D:/models/aug_22/gtsrb/C2/gtsrb_model_c2_aug_lsa_e1_10\n",
      "Model loaded correctly\n",
      "D:/models/aug_22/gtsrb/C2/gtsrb_model_c2_aug_lsa_e1_11\n",
      "Model loaded correctly\n",
      "D:/models/aug_22/gtsrb/C2/gtsrb_model_c2_aug_lsa_e1_12\n",
      "Model loaded correctly\n",
      "D:/models/aug_22/gtsrb/C2/gtsrb_model_c2_aug_lsa_e1_13\n",
      "Model loaded correctly\n",
      "D:/models/aug_22/gtsrb/C2/gtsrb_model_c2_aug_lsa_e1_14\n",
      "Model loaded correctly\n",
      "D:/models/aug_22/gtsrb/C2/gtsrb_model_c2_aug_lsa_e1_15\n",
      "Model loaded correctly\n",
      "D:/models/aug_22/gtsrb/C2/gtsrb_model_c2_aug_lsa_e1_16\n",
      "Model loaded correctly\n",
      "D:/models/aug_22/gtsrb/C2/gtsrb_model_c2_aug_lsa_e1_17\n",
      "Model loaded correctly\n",
      "D:/models/aug_22/gtsrb/C2/gtsrb_model_c2_aug_lsa_e1_18\n",
      "Model loaded correctly\n",
      "D:/models/aug_22/gtsrb/C2/gtsrb_model_c2_aug_lsa_e1_19\n",
      "Model loaded correctly\n",
      "D:/models/aug_22/gtsrb/C2/gtsrb_model_c2_aug_lsa_e1_20\n",
      "Model loaded correctly\n"
     ]
    }
   ],
   "source": [
    "loading = True\n",
    "\n",
    "models_lsa = []\n",
    "\n",
    "if loading:\n",
    "    for i in range(num_models):\n",
    "        model_lsa_dir = data_dir+\"/\"+dataset+\"/C2/\"+dataset+\"_model_c2_aug_lsa_e1_\"+str(i)\n",
    "        print(model_lsa_dir)\n",
    "        model =utils.My_model(dataset,True,model_lsa_dir)\n",
    "        model.model.compile(loss= 'categorical_crossentropy', optimizer = 'rmsprop', metrics = ['accuracy',tf.keras.metrics.Precision(), tf.keras.metrics.Recall()])\n",
    "        models_lsa.append(model)\n",
    "       \n",
    "    "
   ]
  },
  {
   "cell_type": "code",
   "execution_count": 12,
   "id": "6499958d",
   "metadata": {},
   "outputs": [
    {
     "data": {
      "text/plain": [
       "21"
      ]
     },
     "execution_count": 12,
     "metadata": {},
     "output_type": "execute_result"
    }
   ],
   "source": [
    "len(models_lsa)"
   ]
  },
  {
   "cell_type": "code",
   "execution_count": 13,
   "id": "da4d6ed4",
   "metadata": {},
   "outputs": [
    {
     "name": "stdout",
     "output_type": "stream",
     "text": [
      "D:/models/aug_22/gtsrb/C2/gtsrb_model_c2_aug_dsa_e1_0\n",
      "Model loaded correctly\n",
      "D:/models/aug_22/gtsrb/C2/gtsrb_model_c2_aug_dsa_e1_1\n",
      "Model loaded correctly\n",
      "D:/models/aug_22/gtsrb/C2/gtsrb_model_c2_aug_dsa_e1_2\n",
      "Model loaded correctly\n",
      "D:/models/aug_22/gtsrb/C2/gtsrb_model_c2_aug_dsa_e1_3\n",
      "Model loaded correctly\n",
      "D:/models/aug_22/gtsrb/C2/gtsrb_model_c2_aug_dsa_e1_4\n",
      "Model loaded correctly\n",
      "D:/models/aug_22/gtsrb/C2/gtsrb_model_c2_aug_dsa_e1_5\n",
      "Model loaded correctly\n",
      "D:/models/aug_22/gtsrb/C2/gtsrb_model_c2_aug_dsa_e1_6\n",
      "Model loaded correctly\n",
      "D:/models/aug_22/gtsrb/C2/gtsrb_model_c2_aug_dsa_e1_7\n",
      "Model loaded correctly\n",
      "D:/models/aug_22/gtsrb/C2/gtsrb_model_c2_aug_dsa_e1_8\n",
      "Model loaded correctly\n",
      "D:/models/aug_22/gtsrb/C2/gtsrb_model_c2_aug_dsa_e1_9\n",
      "Model loaded correctly\n",
      "D:/models/aug_22/gtsrb/C2/gtsrb_model_c2_aug_dsa_e1_10\n",
      "Model loaded correctly\n",
      "D:/models/aug_22/gtsrb/C2/gtsrb_model_c2_aug_dsa_e1_11\n",
      "Model loaded correctly\n",
      "D:/models/aug_22/gtsrb/C2/gtsrb_model_c2_aug_dsa_e1_12\n",
      "Model loaded correctly\n",
      "D:/models/aug_22/gtsrb/C2/gtsrb_model_c2_aug_dsa_e1_13\n",
      "Model loaded correctly\n",
      "D:/models/aug_22/gtsrb/C2/gtsrb_model_c2_aug_dsa_e1_14\n",
      "Model loaded correctly\n",
      "D:/models/aug_22/gtsrb/C2/gtsrb_model_c2_aug_dsa_e1_15\n",
      "Model loaded correctly\n",
      "D:/models/aug_22/gtsrb/C2/gtsrb_model_c2_aug_dsa_e1_16\n",
      "Model loaded correctly\n",
      "D:/models/aug_22/gtsrb/C2/gtsrb_model_c2_aug_dsa_e1_17\n",
      "Model loaded correctly\n",
      "D:/models/aug_22/gtsrb/C2/gtsrb_model_c2_aug_dsa_e1_18\n",
      "Model loaded correctly\n",
      "D:/models/aug_22/gtsrb/C2/gtsrb_model_c2_aug_dsa_e1_19\n",
      "Model loaded correctly\n",
      "D:/models/aug_22/gtsrb/C2/gtsrb_model_c2_aug_dsa_e1_20\n",
      "Model loaded correctly\n"
     ]
    }
   ],
   "source": [
    "loading = True\n",
    "\n",
    "models_dsa = []\n",
    "\n",
    "if loading:\n",
    "    for i in range(num_models):\n",
    "        #model_dsa_dir = \"D:/models/gtsrb_models/C1/gtsrb_model_c1_sep_dsa_e2_\"+str(i)\n",
    "        model_dsa_dir = data_dir+\"/\"+dataset+\"/C2/\"+dataset+\"_model_c2_aug_dsa_e1_\"+str(i)\n",
    "        print(model_dsa_dir)\n",
    "        model =utils.My_model(dataset,True,model_dsa_dir)\n",
    "        model.model.compile(loss= 'categorical_crossentropy', optimizer = 'rmsprop', metrics = ['accuracy',tf.keras.metrics.Precision(), tf.keras.metrics.Recall()])\n",
    "        models_dsa.append(model)\n",
    "       \n",
    "\n",
    "    "
   ]
  },
  {
   "cell_type": "code",
   "execution_count": 14,
   "id": "0a4a7c64",
   "metadata": {
    "scrolled": true
   },
   "outputs": [
    {
     "name": "stdout",
     "output_type": "stream",
     "text": [
      "D:/models/aug_22/gtsrb/C2/gtsrb_model_c2_aug_dg_e1_0\n",
      "Model loaded correctly\n",
      "D:/models/aug_22/gtsrb/C2/gtsrb_model_c2_aug_dg_e1_1\n",
      "Model loaded correctly\n",
      "D:/models/aug_22/gtsrb/C2/gtsrb_model_c2_aug_dg_e1_2\n",
      "Model loaded correctly\n",
      "D:/models/aug_22/gtsrb/C2/gtsrb_model_c2_aug_dg_e1_3\n",
      "Model loaded correctly\n",
      "D:/models/aug_22/gtsrb/C2/gtsrb_model_c2_aug_dg_e1_4\n",
      "Model loaded correctly\n",
      "D:/models/aug_22/gtsrb/C2/gtsrb_model_c2_aug_dg_e1_5\n",
      "Model loaded correctly\n",
      "D:/models/aug_22/gtsrb/C2/gtsrb_model_c2_aug_dg_e1_6\n",
      "Model loaded correctly\n",
      "D:/models/aug_22/gtsrb/C2/gtsrb_model_c2_aug_dg_e1_7\n",
      "Model loaded correctly\n",
      "D:/models/aug_22/gtsrb/C2/gtsrb_model_c2_aug_dg_e1_8\n",
      "Model loaded correctly\n",
      "D:/models/aug_22/gtsrb/C2/gtsrb_model_c2_aug_dg_e1_9\n",
      "Model loaded correctly\n",
      "D:/models/aug_22/gtsrb/C2/gtsrb_model_c2_aug_dg_e1_10\n",
      "Model loaded correctly\n",
      "D:/models/aug_22/gtsrb/C2/gtsrb_model_c2_aug_dg_e1_11\n",
      "Model loaded correctly\n",
      "D:/models/aug_22/gtsrb/C2/gtsrb_model_c2_aug_dg_e1_12\n",
      "Model loaded correctly\n",
      "D:/models/aug_22/gtsrb/C2/gtsrb_model_c2_aug_dg_e1_13\n",
      "Model loaded correctly\n",
      "D:/models/aug_22/gtsrb/C2/gtsrb_model_c2_aug_dg_e1_14\n",
      "Model loaded correctly\n",
      "D:/models/aug_22/gtsrb/C2/gtsrb_model_c2_aug_dg_e1_15\n",
      "Model loaded correctly\n",
      "D:/models/aug_22/gtsrb/C2/gtsrb_model_c2_aug_dg_e1_16\n",
      "Model loaded correctly\n",
      "D:/models/aug_22/gtsrb/C2/gtsrb_model_c2_aug_dg_e1_17\n",
      "Model loaded correctly\n",
      "D:/models/aug_22/gtsrb/C2/gtsrb_model_c2_aug_dg_e1_18\n",
      "Model loaded correctly\n",
      "D:/models/aug_22/gtsrb/C2/gtsrb_model_c2_aug_dg_e1_19\n",
      "Model loaded correctly\n",
      "D:/models/aug_22/gtsrb/C2/gtsrb_model_c2_aug_dg_e1_20\n",
      "Model loaded correctly\n"
     ]
    }
   ],
   "source": [
    "loading = True\n",
    "\n",
    "models_dg = []\n",
    "\n",
    "if loading:\n",
    "    for i in range(num_models):\n",
    "        #model_dg_dir = \"D:/models/aug_22/gtsrb/C1/gtsrb_model_c1_aug_gn_e1_\"+str(i)\n",
    "        model_dg_dir = data_dir+\"/\"+dataset+\"/C2/\"+dataset+\"_model_c2_aug_dg_e1_\"+str(i)\n",
    "        \n",
    "        print(model_dg_dir)\n",
    "        model =utils.My_model(dataset,True,model_dg_dir)\n",
    "        model.model.compile(loss= 'categorical_crossentropy', optimizer = 'rmsprop', metrics = ['accuracy',tf.keras.metrics.Precision(), tf.keras.metrics.Recall()])\n",
    "        models_dg.append(model)\n",
    "       \n",
    "    "
   ]
  },
  {
   "cell_type": "code",
   "execution_count": 15,
   "id": "9301cc38",
   "metadata": {},
   "outputs": [
    {
     "name": "stdout",
     "output_type": "stream",
     "text": [
      "D:/models/aug_22/gtsrb/C2/gtsrb_model_c2_aug_se_e1_0\n",
      "Model loaded correctly\n",
      "D:/models/aug_22/gtsrb/C2/gtsrb_model_c2_aug_se_e1_1\n",
      "Model loaded correctly\n",
      "D:/models/aug_22/gtsrb/C2/gtsrb_model_c2_aug_se_e1_2\n",
      "Model loaded correctly\n",
      "D:/models/aug_22/gtsrb/C2/gtsrb_model_c2_aug_se_e1_3\n",
      "Model loaded correctly\n",
      "D:/models/aug_22/gtsrb/C2/gtsrb_model_c2_aug_se_e1_4\n",
      "Model loaded correctly\n",
      "D:/models/aug_22/gtsrb/C2/gtsrb_model_c2_aug_se_e1_5\n",
      "Model loaded correctly\n",
      "D:/models/aug_22/gtsrb/C2/gtsrb_model_c2_aug_se_e1_6\n",
      "Model loaded correctly\n",
      "D:/models/aug_22/gtsrb/C2/gtsrb_model_c2_aug_se_e1_7\n",
      "Model loaded correctly\n",
      "D:/models/aug_22/gtsrb/C2/gtsrb_model_c2_aug_se_e1_8\n",
      "Model loaded correctly\n",
      "D:/models/aug_22/gtsrb/C2/gtsrb_model_c2_aug_se_e1_9\n",
      "Model loaded correctly\n",
      "D:/models/aug_22/gtsrb/C2/gtsrb_model_c2_aug_se_e1_10\n",
      "Model loaded correctly\n",
      "D:/models/aug_22/gtsrb/C2/gtsrb_model_c2_aug_se_e1_11\n",
      "Model loaded correctly\n",
      "D:/models/aug_22/gtsrb/C2/gtsrb_model_c2_aug_se_e1_12\n",
      "Model loaded correctly\n",
      "D:/models/aug_22/gtsrb/C2/gtsrb_model_c2_aug_se_e1_13\n",
      "Model loaded correctly\n",
      "D:/models/aug_22/gtsrb/C2/gtsrb_model_c2_aug_se_e1_14\n",
      "Model loaded correctly\n",
      "D:/models/aug_22/gtsrb/C2/gtsrb_model_c2_aug_se_e1_15\n",
      "Model loaded correctly\n",
      "D:/models/aug_22/gtsrb/C2/gtsrb_model_c2_aug_se_e1_16\n",
      "Model loaded correctly\n",
      "D:/models/aug_22/gtsrb/C2/gtsrb_model_c2_aug_se_e1_17\n",
      "Model loaded correctly\n",
      "D:/models/aug_22/gtsrb/C2/gtsrb_model_c2_aug_se_e1_18\n",
      "Model loaded correctly\n",
      "D:/models/aug_22/gtsrb/C2/gtsrb_model_c2_aug_se_e1_19\n",
      "Model loaded correctly\n",
      "D:/models/aug_22/gtsrb/C2/gtsrb_model_c2_aug_se_e1_20\n",
      "Model loaded correctly\n"
     ]
    }
   ],
   "source": [
    "loading = True\n",
    "\n",
    "models_se = []\n",
    "\n",
    "if loading:\n",
    "    for i in range(num_models):\n",
    "        \n",
    "        model_se_dir = data_dir+\"/\"+dataset+\"/C2/\"+dataset+\"_model_c2_aug_se_e1_\"+str(i)\n",
    "        \n",
    "        print(model_se_dir)\n",
    "        model =utils.My_model(dataset,True,model_se_dir)\n",
    "        model.model.compile(loss= 'categorical_crossentropy', optimizer = 'rmsprop', metrics = ['accuracy',tf.keras.metrics.Precision(), tf.keras.metrics.Recall()])\n",
    "        models_se.append(model)"
   ]
  },
  {
   "cell_type": "code",
   "execution_count": 16,
   "id": "eb1718e3",
   "metadata": {},
   "outputs": [
    {
     "name": "stdout",
     "output_type": "stream",
     "text": [
      "D:/models/aug_22/gtsrb/C2/gtsrb_model_c2_aug_random_e1_0\n",
      "Model loaded correctly\n",
      "D:/models/aug_22/gtsrb/C2/gtsrb_model_c2_aug_random_e1_1\n",
      "Model loaded correctly\n",
      "D:/models/aug_22/gtsrb/C2/gtsrb_model_c2_aug_random_e1_2\n",
      "Model loaded correctly\n",
      "D:/models/aug_22/gtsrb/C2/gtsrb_model_c2_aug_random_e1_3\n",
      "Model loaded correctly\n",
      "D:/models/aug_22/gtsrb/C2/gtsrb_model_c2_aug_random_e1_4\n",
      "Model loaded correctly\n",
      "D:/models/aug_22/gtsrb/C2/gtsrb_model_c2_aug_random_e1_5\n",
      "Model loaded correctly\n",
      "D:/models/aug_22/gtsrb/C2/gtsrb_model_c2_aug_random_e1_6\n",
      "Model loaded correctly\n",
      "D:/models/aug_22/gtsrb/C2/gtsrb_model_c2_aug_random_e1_7\n",
      "Model loaded correctly\n",
      "D:/models/aug_22/gtsrb/C2/gtsrb_model_c2_aug_random_e1_8\n",
      "Model loaded correctly\n",
      "D:/models/aug_22/gtsrb/C2/gtsrb_model_c2_aug_random_e1_9\n",
      "Model loaded correctly\n",
      "D:/models/aug_22/gtsrb/C2/gtsrb_model_c2_aug_random_e1_10\n",
      "Model loaded correctly\n",
      "D:/models/aug_22/gtsrb/C2/gtsrb_model_c2_aug_random_e1_11\n",
      "Model loaded correctly\n",
      "D:/models/aug_22/gtsrb/C2/gtsrb_model_c2_aug_random_e1_12\n",
      "Model loaded correctly\n",
      "D:/models/aug_22/gtsrb/C2/gtsrb_model_c2_aug_random_e1_13\n",
      "Model loaded correctly\n",
      "D:/models/aug_22/gtsrb/C2/gtsrb_model_c2_aug_random_e1_14\n",
      "Model loaded correctly\n",
      "D:/models/aug_22/gtsrb/C2/gtsrb_model_c2_aug_random_e1_15\n",
      "Model loaded correctly\n",
      "D:/models/aug_22/gtsrb/C2/gtsrb_model_c2_aug_random_e1_16\n",
      "Model loaded correctly\n",
      "D:/models/aug_22/gtsrb/C2/gtsrb_model_c2_aug_random_e1_17\n",
      "Model loaded correctly\n",
      "D:/models/aug_22/gtsrb/C2/gtsrb_model_c2_aug_random_e1_18\n",
      "Model loaded correctly\n",
      "D:/models/aug_22/gtsrb/C2/gtsrb_model_c2_aug_random_e1_19\n",
      "Model loaded correctly\n",
      "D:/models/aug_22/gtsrb/C2/gtsrb_model_c2_aug_random_e1_20\n",
      "Model loaded correctly\n"
     ]
    }
   ],
   "source": [
    "loading = True\n",
    "\n",
    "models_random = []\n",
    "\n",
    "if loading:\n",
    "    for i in range(num_models):\n",
    "        #model_random_dir = \"D:/models/aug_22/gtsrb/C1/gtsrb_model_c1_aug_random_e1_\"+str(i)\n",
    "        model_random_dir = data_dir+\"/\"+dataset+\"/C2/\"+dataset+\"_model_c2_aug_random_e1_\"+str(i)\n",
    "        \n",
    "        print(model_random_dir)\n",
    "        model =utils.My_model(dataset,True,model_random_dir)\n",
    "        model.model.compile(loss= 'categorical_crossentropy', optimizer = 'rmsprop', metrics = ['accuracy',tf.keras.metrics.Precision(), tf.keras.metrics.Recall()])\n",
    "        models_random.append(model)\n",
    "       "
   ]
  },
  {
   "cell_type": "code",
   "execution_count": 17,
   "id": "b9860981",
   "metadata": {
    "scrolled": true
   },
   "outputs": [
    {
     "name": "stdout",
     "output_type": "stream",
     "text": [
      "D:/models/aug_22/gtsrb/C2/gtsrb_model_c2_aug_nc_e1_0\n",
      "Model loaded correctly\n",
      "D:/models/aug_22/gtsrb/C2/gtsrb_model_c2_aug_nc_e1_1\n",
      "Model loaded correctly\n",
      "D:/models/aug_22/gtsrb/C2/gtsrb_model_c2_aug_nc_e1_2\n",
      "Model loaded correctly\n",
      "D:/models/aug_22/gtsrb/C2/gtsrb_model_c2_aug_nc_e1_3\n",
      "Model loaded correctly\n",
      "D:/models/aug_22/gtsrb/C2/gtsrb_model_c2_aug_nc_e1_4\n",
      "Model loaded correctly\n",
      "D:/models/aug_22/gtsrb/C2/gtsrb_model_c2_aug_nc_e1_5\n",
      "Model loaded correctly\n",
      "D:/models/aug_22/gtsrb/C2/gtsrb_model_c2_aug_nc_e1_6\n",
      "Model loaded correctly\n",
      "D:/models/aug_22/gtsrb/C2/gtsrb_model_c2_aug_nc_e1_7\n",
      "Model loaded correctly\n",
      "D:/models/aug_22/gtsrb/C2/gtsrb_model_c2_aug_nc_e1_8\n",
      "Model loaded correctly\n",
      "D:/models/aug_22/gtsrb/C2/gtsrb_model_c2_aug_nc_e1_9\n",
      "Model loaded correctly\n",
      "D:/models/aug_22/gtsrb/C2/gtsrb_model_c2_aug_nc_e1_10\n",
      "Model loaded correctly\n",
      "D:/models/aug_22/gtsrb/C2/gtsrb_model_c2_aug_nc_e1_11\n",
      "Model loaded correctly\n",
      "D:/models/aug_22/gtsrb/C2/gtsrb_model_c2_aug_nc_e1_12\n",
      "Model loaded correctly\n",
      "D:/models/aug_22/gtsrb/C2/gtsrb_model_c2_aug_nc_e1_13\n",
      "Model loaded correctly\n",
      "D:/models/aug_22/gtsrb/C2/gtsrb_model_c2_aug_nc_e1_14\n",
      "Model loaded correctly\n",
      "D:/models/aug_22/gtsrb/C2/gtsrb_model_c2_aug_nc_e1_15\n",
      "Model loaded correctly\n",
      "D:/models/aug_22/gtsrb/C2/gtsrb_model_c2_aug_nc_e1_16\n",
      "Model loaded correctly\n",
      "D:/models/aug_22/gtsrb/C2/gtsrb_model_c2_aug_nc_e1_17\n",
      "Model loaded correctly\n",
      "D:/models/aug_22/gtsrb/C2/gtsrb_model_c2_aug_nc_e1_18\n",
      "Model loaded correctly\n",
      "D:/models/aug_22/gtsrb/C2/gtsrb_model_c2_aug_nc_e1_19\n",
      "Model loaded correctly\n",
      "D:/models/aug_22/gtsrb/C2/gtsrb_model_c2_aug_nc_e1_20\n",
      "Model loaded correctly\n"
     ]
    }
   ],
   "source": [
    "loading = True\n",
    "\n",
    "models_nc = []\n",
    "\n",
    "if loading:\n",
    "    for i in range(num_models):\n",
    "        #model_nc_dir = \"D:/models/aug_22/\"+dataset+\"/C1/\"+dataset+\"_model_c1_aug_nc_e1\"+str\n",
    "        model_nc_dir = data_dir+\"/\"+dataset+\"/C2/\"+dataset+\"_model_c2_aug_nc_e1_\"+str(i)\n",
    "        print(model_nc_dir)\n",
    "        model =utils.My_model(dataset,True,model_nc_dir)\n",
    "        model.model.compile(loss= 'categorical_crossentropy', optimizer = 'rmsprop', metrics = ['accuracy',tf.keras.metrics.Precision(), tf.keras.metrics.Recall()])\n",
    "        models_nc.append(model)"
   ]
  },
  {
   "cell_type": "markdown",
   "id": "e02952dc",
   "metadata": {},
   "source": [
    "## Evaluating"
   ]
  },
  {
   "cell_type": "code",
   "execution_count": 18,
   "id": "cbc59f41",
   "metadata": {},
   "outputs": [],
   "source": [
    "model_original.model.compile(loss= 'categorical_crossentropy', optimizer = 'rmsprop', metrics = ['accuracy',tf.keras.metrics.Precision(), tf.keras.metrics.Recall()])"
   ]
  },
  {
   "cell_type": "code",
   "execution_count": 19,
   "id": "286ee29c",
   "metadata": {},
   "outputs": [
    {
     "name": "stdout",
     "output_type": "stream",
     "text": [
      "246/246 [==============================] - 62s 94ms/step - loss: 0.1560 - accuracy: 0.9706 - precision_126: 0.9834 - recall_126: 0.9773 7s - loss: 0.0660 - accuracy: 0.9856 - precision_126: 0.9823 - recall_126: 0.9 - ETA: 7s -  - ETA: 0s - loss: 0.1387 - accuracy: 0.9736 - precision_126: 0.9834 - recall_126: 0\n",
      "246/246 [==============================] - 23s 93ms/step - loss: 0.8656 - accuracy: 0.8480 - precision_126: 0.9443 - recall_126: 0.8751 5s - loss: 0.1241 - accuracy: 0.9794 - precision_126:  - ETA: 2s - loss: 0.3215 - accuracy: 0.9411 - precision_1\n",
      "246/246 [==============================] - 23s 93ms/step - loss: 0.8656 - accuracy: 0.8480 - precision_126: 0.9380 - recall_126: 0.8601 9s - loss: 0.0814 - accuracy: 0.9858 - p - ETA: 5s - loss: 0.1281 - accuracy: 0.9787 - precision_126: 0.9376 - recall_126: 0. - ETA: 5s - loss: 0.1254 - accuracy: 0.9792 - precision_126: 0.9377 - recall_126: 0.8 - ETA: 5s - loss: 0.1236 - accu\n",
      "246/246 [==============================] - 23s 93ms/step - loss: 0.8656 - accuracy: 0.8480 - precision_126: 0.9351 - recall_126: 0.8536 11s - loss: 0.0299 - accuracy: 0.9927 - ETA: 9s - loss: 0.0967 - accuracy: 0.9837 - precision_126: 0.9339 - rec - ETA: 7s - loss: 0.1398 - accuracy: 0.9771 - precision_126: 0.9343  - ETA: 6s - loss: 0.128\n",
      "246/246 [==============================] - 23s 93ms/step - loss: 0.8656 - accuracy: 0.8480 - precision_126: 0.9336 - recall_126: 0.8500 14s - loss: 0.0358 - accuracy: - ETA: 12s - loss: 0\n",
      "246/246 [==============================] - 23s 93ms/step - loss: 0.8656 - accuracy: 0.8480 - precision_126: 0.9325 - recall_126: 0.8477\n"
     ]
    }
   ],
   "source": [
    "evaluate_lsa = []\n",
    "evaluate_dsa = []\n",
    "evaluate_dg = []\n",
    "evaluate_se = []\n",
    "evaluate_nc = []\n",
    "evaluate_random = []\n",
    "\n",
    "evaluate_lsa.append(model_original.evaluate(x_test_and_adversary,y_test_and_adversary))\n",
    "evaluate_dsa.append(model_original.evaluate(x_test_and_adversary,y_test_and_adversary))\n",
    "evaluate_dg.append(model_original.evaluate(x_test_and_adversary,y_test_and_adversary))\n",
    "evaluate_se.append(model_original.evaluate(x_test_and_adversary,y_test_and_adversary))\n",
    "evaluate_nc.append(model_original.evaluate(x_test_and_adversary,y_test_and_adversary))\n",
    "evaluate_random.append(model_original.evaluate(x_test_and_adversary,y_test_and_adversary))"
   ]
  },
  {
   "cell_type": "code",
   "execution_count": 20,
   "id": "30633373",
   "metadata": {},
   "outputs": [
    {
     "name": "stdout",
     "output_type": "stream",
     "text": [
      "Evaluating for lsa\n",
      "246/246 [==============================] - 26s 90ms/step - loss: 0.1473 - accuracy: 0.9617 - precision: 0.9619 - recall: 0.9445\n",
      "246/246 [==============================] - 25s 87ms/step - loss: 0.1222 - accuracy: 0.9639 - precision_1: 0.9669 - recall_1: 0.9517 9s - loss: 0.1186 - accuracy: 0.9650 - precision_1: 0.\n",
      "246/246 [==============================] - 25s 85ms/step - loss: 0.1695 - accuracy: 0.9635 - precision_2: 0.9632 - recall_2: 0.9550 3s - loss: 0.1663 - accuracy: 0.9651\n",
      "246/246 [==============================] - 24s 83ms/step - loss: 0.1278 - accuracy: 0.9635 - precision_3: 0.9740 - recall_3: 0.9546\n",
      "246/246 [==============================] - 24s 82ms/step - loss: 0.3023 - accuracy: 0.9331 - precision_4: 0.9409 - recall_4: 0.9118\n",
      "246/246 [==============================] - 23s 80ms/step - loss: 0.3500 - accuracy: 0.9098 - precision_5: 0.9205 - recall_5: 0.8637\n",
      "246/246 [==============================] - 23s 80ms/step - loss: 0.1629 - accuracy: 0.9567 - precision_6: 0.9494 - recall_6: 0.9367\n",
      "246/246 [==============================] - 23s 80ms/step - loss: 0.1207 - accuracy: 0.9691 - precision_7: 0.9763 - recall_7: 0.9536\n",
      "246/246 [==============================] - 23s 79ms/step - loss: 0.1347 - accuracy: 0.9587 - precision_8: 0.9769 - recall_8: 0.9401\n",
      "246/246 [==============================] - 23s 80ms/step - loss: 0.1018 - accuracy: 0.9787 - precision_9: 0.9859 - recall_9: 0.9711 5s - loss: 0\n",
      "246/246 [==============================] - 23s 79ms/step - loss: 0.1122 - accuracy: 0.9780 - precision_10: 0.9827 - recall_10: 0.9774\n",
      "246/246 [==============================] - 23s 79ms/step - loss: 0.1527 - accuracy: 0.9605 - precision_11: 0.9663 - recall_11: 0.9500\n",
      "246/246 [==============================] - 23s 79ms/step - loss: 0.1733 - accuracy: 0.9673 - precision_12: 0.9747 - recall_12: 0.9624\n",
      "246/246 [==============================] - 21s 71ms/step - loss: 0.1612 - accuracy: 0.9519 - precision_13: 0.9667 - recall_13: 0.9350\n",
      "246/246 [==============================] - 23s 80ms/step - loss: 0.1701 - accuracy: 0.9586 - precision_14: 0.9664 - recall_14: 0.9554\n",
      "246/246 [==============================] - 23s 79ms/step - loss: 0.2787 - accuracy: 0.9472 - precision_15: 0.9984 - recall_15: 0.8500\n",
      "246/246 [==============================] - 23s 79ms/step - loss: 0.1216 - accuracy: 0.9785 - precision_16: 0.9869 - recall_16: 0.9778\n",
      "246/246 [==============================] - 23s 79ms/step - loss: 0.0911 - accuracy: 0.9771 - precision_17: 0.9841 - recall_17: 0.9766\n",
      "246/246 [==============================] - 23s 79ms/step - loss: 0.0863 - accuracy: 0.9803 - precision_18: 0.9945 - recall_18: 0.9626\n",
      "246/246 [==============================] - 23s 79ms/step - loss: 0.1151 - accuracy: 0.9839 - precision_19: 0.9870 - recall_19: 0.9784\n",
      "246/246 [==============================] - 23s 79ms/step - loss: 0.0547 - accuracy: 0.9886 - precision_20: 0.9955 - recall_20: 0.9911\n",
      "Evaluating for dsa\n",
      "246/246 [==============================] - 23s 79ms/step - loss: 0.1149 - accuracy: 0.9764 - precision_21: 0.9748 - recall_21: 0.9735\n",
      "246/246 [==============================] - 23s 79ms/step - loss: 0.0688 - accuracy: 0.9839 - precision_22: 0.9899 - recall_22: 0.9801\n",
      "246/246 [==============================] - 23s 79ms/step - loss: 0.0822 - accuracy: 0.9830 - precision_23: 0.9834 - recall_23: 0.9758\n",
      "246/246 [==============================] - 23s 79ms/step - loss: 0.0959 - accuracy: 0.9809 - precision_24: 0.9848 - recall_24: 0.9801\n",
      "246/246 [==============================] - 23s 79ms/step - loss: 0.0996 - accuracy: 0.9756 - precision_25: 0.9789 - recall_25: 0.9656\n",
      "246/246 [==============================] - 23s 79ms/step - loss: 0.0981 - accuracy: 0.9760 - precision_26: 0.9795 - recall_26: 0.9720\n",
      "246/246 [==============================] - 23s 80ms/step - loss: 0.1097 - accuracy: 0.9772 - precision_27: 0.9820 - recall_27: 0.9705\n",
      "246/246 [==============================] - 23s 79ms/step - loss: 0.0581 - accuracy: 0.9859 - precision_28: 0.9931 - recall_28: 0.9863\n",
      "246/246 [==============================] - 23s 79ms/step - loss: 0.0720 - accuracy: 0.9832 - precision_29: 0.9916 - recall_29: 0.9855\n",
      "246/246 [==============================] - 23s 78ms/step - loss: 0.0871 - accuracy: 0.9849 - precision_30: 0.9929 - recall_30: 0.9876\n",
      "246/246 [==============================] - 23s 79ms/step - loss: 0.0542 - accuracy: 0.9891 - precision_31: 0.9956 - recall_31: 0.9926\n",
      "246/246 [==============================] - 23s 78ms/step - loss: 0.0738 - accuracy: 0.9859 - precision_32: 0.9936 - recall_32: 0.9885\n",
      "246/246 [==============================] - 23s 79ms/step - loss: 0.0684 - accuracy: 0.9857 - precision_33: 0.9949 - recall_33: 0.9853\n",
      "246/246 [==============================] - 23s 79ms/step - loss: 0.0595 - accuracy: 0.9873 - precision_34: 0.9971 - recall_34: 0.9859\n",
      "246/246 [==============================] - 25s 79ms/step - loss: 0.0845 - accuracy: 0.9830 - precision_35: 0.9901 - recall_35: 0.9861\n",
      "246/246 [==============================] - 23s 81ms/step - loss: 0.0506 - accuracy: 0.9884 - precision_36: 0.9925 - recall_36: 0.9899 2s - loss: 0.0366 - accuracy: 0.9919 - precision\n",
      "246/246 [==============================] - 22s 68ms/step - loss: 0.0591 - accuracy: 0.9886 - precision_37: 0.9939 - recall_37: 0.9909\n",
      "246/246 [==============================] - 20s 71ms/step - loss: 0.0832 - accuracy: 0.9877 - precision_38: 0.9951 - recall_38: 0.9923\n",
      "246/246 [==============================] - 23s 78ms/step - loss: 0.0773 - accuracy: 0.9847 - precision_39: 0.9937 - recall_39: 0.9847 3s - loss: 0.0620 - accuracy: 0.989\n",
      "246/246 [==============================] - 22s 76ms/step - loss: 0.0473 - accuracy: 0.9894 - precision_40: 0.9986 - recall_40: 0.9883\n",
      "246/246 [==============================] - 24s 78ms/step - loss: 0.0603 - accuracy: 0.9877 - precision_41: 0.9902 - recall_41: 0.9877\n",
      "Evaluating for random\n",
      "246/246 [==============================] - 22s 77ms/step - loss: 0.1195 - accuracy: 0.9810 - precision_84: 0.9887 - recall_84: 0.9867\n",
      "246/246 [==============================] - 21s 77ms/step - loss: 0.0868 - accuracy: 0.9839 - precision_85: 0.9922 - recall_85: 0.9902\n",
      "246/246 [==============================] - 22s 77ms/step - loss: 0.0800 - accuracy: 0.9833 - precision_86: 0.9906 - recall_86: 0.9870\n",
      "246/246 [==============================] - 22s 76ms/step - loss: 0.0993 - accuracy: 0.9841 - precision_87: 0.9911 - recall_87: 0.9863\n",
      "246/246 [==============================] - 22s 77ms/step - loss: 0.0980 - accuracy: 0.9830 - precision_88: 0.9880 - recall_88: 0.9835\n",
      "246/246 [==============================] - 22s 77ms/step - loss: 0.0795 - accuracy: 0.9830 - precision_89: 0.9905 - recall_89: 0.9861\n",
      "246/246 [==============================] - 22s 77ms/step - loss: 0.0922 - accuracy: 0.9816 - precision_90: 0.9866 - recall_90: 0.9840\n",
      "246/246 [==============================] - 22s 77ms/step - loss: 0.1254 - accuracy: 0.9692 - precision_91: 0.9842 - recall_91: 0.9456\n",
      "246/246 [==============================] - 22s 77ms/step - loss: 0.0780 - accuracy: 0.9835 - precision_92: 0.9924 - recall_92: 0.9844\n",
      "246/246 [==============================] - 23s 77ms/step - loss: 0.0767 - accuracy: 0.9861 - precision_93: 0.9907 - recall_93: 0.9882\n",
      "246/246 [==============================] - 22s 77ms/step - loss: 0.0946 - accuracy: 0.9855 - precision_94: 0.9899 - recall_94: 0.9850\n",
      "246/246 [==============================] - 23s 78ms/step - loss: 0.0869 - accuracy: 0.9847 - precision_95: 0.9906 - recall_95: 0.9883\n",
      "246/246 [==============================] - 22s 76ms/step - loss: 0.0597 - accuracy: 0.9878 - precision_96: 0.9956 - recall_96: 0.9901\n",
      "246/246 [==============================] - 23s 70ms/step - loss: 0.0750 - accuracy: 0.9819 - precision_97: 0.9873 - recall_97: 0.9781\n",
      "246/246 [==============================] - 22s 72ms/step - loss: 0.0479 - accuracy: 0.9897 - precision_98: 0.9945 - recall_98: 0.9927\n",
      "246/246 [==============================] - 23s 80ms/step - loss: 0.0556 - accuracy: 0.9875 - precision_99: 0.9988 - recall_99: 0.9824\n",
      "246/246 [==============================] - ETA: 0s - loss: 0.0741 - accuracy: 0.9838 - precision_100: 0.9956 - recall_100: 0.982 - 22s 76ms/step - loss: 0.0754 - accuracy: 0.9835 - precision_100: 0.9956 - recall_100: 0.9820\n"
     ]
    },
    {
     "name": "stdout",
     "output_type": "stream",
     "text": [
      "246/246 [==============================] - 23s 77ms/step - loss: 0.1638 - accuracy: 0.9795 - precision_101: 0.9798 - recall_101: 0.9769\n",
      "246/246 [==============================] - 22s 76ms/step - loss: 0.1198 - accuracy: 0.9737 - precision_102: 0.9904 - recall_102: 0.9541\n",
      "246/246 [==============================] - 23s 78ms/step - loss: 0.0605 - accuracy: 0.9862 - precision_103: 0.9961 - recall_103: 0.9906 1s - loss: 0.0473 - accuracy: 0.9900 - precision_103: 0.9962 -\n",
      "246/246 [==============================] - 24s 80ms/step - loss: 0.0640 - accuracy: 0.9864 - precision_104: 0.9935 - recall_104: 0.9878\n",
      "Evaluating for nc\n",
      "246/246 [==============================] - 20s 68ms/step - loss: 0.9606 - accuracy: 0.8579 - precision_105: 0.8932 - recall_105: 0.8900\n",
      "246/246 [==============================] - 20s 70ms/step - loss: 4.2447 - accuracy: 0.6563 - precision_106: 0.7086 - recall_106: 0.7004\n",
      "246/246 [==============================] - 22s 76ms/step - loss: 6.2876 - accuracy: 0.6485 - precision_107: 0.7485 - recall_107: 0.7459\n",
      "246/246 [==============================] - 21s 76ms/step - loss: 7.1096 - accuracy: 0.7110 - precision_108: 0.8055 - recall_108: 0.8030\n",
      "246/246 [==============================] - 23s 79ms/step - loss: 6.6752 - accuracy: 0.7175 - precision_109: 0.8218 - recall_109: 0.8113\n",
      "246/246 [==============================] - 22s 76ms/step - loss: 7.8329 - accuracy: 0.7453 - precision_110: 0.8425 - recall_110: 0.8356\n",
      "246/246 [==============================] - 22s 77ms/step - loss: 7.7425 - accuracy: 0.7659 - precision_111: 0.8500 - recall_111: 0.8422\n",
      "246/246 [==============================] - 23s 77ms/step - loss: 12.1844 - accuracy: 0.7658 - precision_112: 0.8483 - recall_112: 0.8435\n",
      "246/246 [==============================] - 22s 77ms/step - loss: 7.2408 - accuracy: 0.8071 - precision_113: 0.8808 - recall_113: 0.8729\n",
      "246/246 [==============================] - 22s 77ms/step - loss: 5.1510 - accuracy: 0.8386 - precision_114: 0.8901 - recall_114: 0.8848\n",
      "246/246 [==============================] - 22s 77ms/step - loss: 7.6765 - accuracy: 0.8616 - precision_115: 0.8963 - recall_115: 0.8922\n",
      "246/246 [==============================] - 23s 78ms/step - loss: 7.8273 - accuracy: 0.8715 - precision_116: 0.9019 - recall_116: 0.8963\n",
      "246/246 [==============================] - 23s 78ms/step - loss: 8.1926 - accuracy: 0.8805 - precision_117: 0.9046 - recall_117: 0.9015\n",
      "246/246 [==============================] - 24s 80ms/step - loss: 3.2810 - accuracy: 0.8755 - precision_118: 0.9070 - recall_118: 0.8892\n",
      "246/246 [==============================] - 23s 78ms/step - loss: 3.7293 - accuracy: 0.9044 - precision_119: 0.9208 - recall_119: 0.9095\n",
      "246/246 [==============================] - 23s 78ms/step - loss: 1.5200 - accuracy: 0.9359 - precision_120: 0.9724 - recall_120: 0.9636\n",
      "246/246 [==============================] - 23s 78ms/step - loss: 1.4718 - accuracy: 0.9628 - precision_121: 0.9851 - recall_121: 0.9831\n",
      "246/246 [==============================] - 23s 78ms/step - loss: 1.6525 - accuracy: 0.9593 - precision_122: 0.9829 - recall_122: 0.9720\n",
      "246/246 [==============================] - 23s 78ms/step - loss: 0.6608 - accuracy: 0.9694 - precision_123: 0.9862 - recall_123: 0.9771\n",
      "246/246 [==============================] - 23s 80ms/step - loss: 0.0685 - accuracy: 0.9841 - precision_124: 0.9969 - recall_124: 0.9767\n",
      "246/246 [==============================] - 23s 79ms/step - loss: 0.0647 - accuracy: 0.9872 - precision_125: 0.9939 - recall_125: 0.9883\n"
     ]
    }
   ],
   "source": [
    "# Metrics using adversarial test\n",
    "\n",
    "#evaluate_lsa.append(model_original.evaluate(x_test_and_adversary,y_test_and_adversary))\n",
    "#evaluate_dsa.append(model_original.evaluate(x_test_and_adversary,y_test_and_adversary))\n",
    "#evaluate_nc.append(model_original.evaluate(x_test_and_adversary,y_test_and_adversary))\n",
    "#evaluate_random.append(model_original.evaluate(x_test_and_adversary,y_test_and_adversary))\n",
    "print(\"Evaluating for lsa\")\n",
    "for model in models_lsa:\n",
    "    evaluate_lsa.append(model.evaluate(x_test_and_adversary,y_test_and_adversary))\n",
    "    \n",
    "print(\"Evaluating for dsa\")\n",
    "for model in models_dsa:\n",
    "    evaluate_dsa.append(model.evaluate(x_test_and_adversary,y_test_and_adversary))\n",
    "print(\"Evaluating for random\")\n",
    "for model in models_random:\n",
    "    evaluate_random.append(model.evaluate(x_test_and_adversary,y_test_and_adversary))\n",
    "print(\"Evaluating for nc\")\n",
    "for model in models_nc:\n",
    "    evaluate_nc.append(model.evaluate(x_test_and_adversary,y_test_and_adversary))"
   ]
  },
  {
   "cell_type": "code",
   "execution_count": 21,
   "id": "ae3df5fe",
   "metadata": {},
   "outputs": [
    {
     "name": "stdout",
     "output_type": "stream",
     "text": [
      "Evaluating for dg\n",
      "246/246 [==============================] - 23s 80ms/step - loss: 0.1084 - accuracy: 0.9761 - precision_42: 0.9805 - recall_42: 0.9773\n",
      "246/246 [==============================] - 23s 80ms/step - loss: 0.0531 - accuracy: 0.9880 - precision_43: 0.9927 - recall_43: 0.9908\n",
      "246/246 [==============================] - 23s 80ms/step - loss: 0.0374 - accuracy: 0.9911 - precision_44: 0.9940 - recall_44: 0.9938\n",
      "246/246 [==============================] - 23s 80ms/step - loss: 0.0437 - accuracy: 0.9892 - precision_45: 0.9916 - recall_45: 0.9912 5s - loss\n",
      "246/246 [==============================] - 23s 80ms/step - loss: 0.0491 - accuracy: 0.9918 - precision_46: 0.9954 - recall_46: 0.9934\n",
      "246/246 [==============================] - 23s 80ms/step - loss: 0.0377 - accuracy: 0.9922 - precision_47: 0.9955 - recall_47: 0.9945\n",
      "246/246 [==============================] - 23s 81ms/step - loss: 0.0549 - accuracy: 0.9894 - precision_48: 0.9930 - recall_48: 0.9915 5s - loss: 0\n",
      "246/246 [==============================] - 24s 83ms/step - loss: 0.0467 - accuracy: 0.9911 - precision_49: 0.9934 - recall_49: 0.9923\n",
      "246/246 [==============================] - 24s 82ms/step - loss: 0.0778 - accuracy: 0.9863 - precision_50: 0.9864 - recall_50: 0.9840\n",
      "246/246 [==============================] - 24s 84ms/step - loss: 0.0543 - accuracy: 0.9893 - precision_51: 0.9937 - recall_51: 0.9903\n",
      "246/246 [==============================] - 24s 83ms/step - loss: 0.0547 - accuracy: 0.9875 - precision_52: 0.9925 - recall_52: 0.9891\n",
      "246/246 [==============================] - 24s 82ms/step - loss: 0.0352 - accuracy: 0.9933 - precision_53: 0.9981 - recall_53: 0.9949\n",
      "246/246 [==============================] - 24s 82ms/step - loss: 0.0425 - accuracy: 0.9910 - precision_54: 0.9960 - recall_54: 0.9940\n",
      "246/246 [==============================] - 24s 82ms/step - loss: 0.1022 - accuracy: 0.9770 - precision_55: 0.9955 - recall_55: 0.9604 7s - loss: 0.0824 - accuracy: 0.9824 - prec - ETA: 4s - loss: 0.0837 - accurac\n",
      "246/246 [==============================] - 24s 83ms/step - loss: 0.1130 - accuracy: 0.9867 - precision_56: 0.9915 - recall_56: 0.9896\n",
      "246/246 [==============================] - 24s 83ms/step - loss: 0.0726 - accuracy: 0.9847 - precision_57: 0.9953 - recall_57: 0.9758\n",
      "246/246 [==============================] - 24s 83ms/step - loss: 0.0664 - accuracy: 0.9874 - precision_58: 0.9953 - recall_58: 0.9878 10s - loss: 0.0507 - accuracy: 0.9909 - preci - ETA: 8s - loss: 0.0493 - accuracy: 0.9915 - precision_5 - ETA: 6s - \n",
      "246/246 [==============================] - 24s 83ms/step - loss: 0.1676 - accuracy: 0.9761 - precision_59: 0.9827 - recall_59: 0.9684\n",
      "246/246 [==============================] - 24s 84ms/step - loss: 0.0731 - accuracy: 0.9875 - precision_60: 0.9974 - recall_60: 0.9862\n",
      "246/246 [==============================] - 25s 85ms/step - loss: 0.0756 - accuracy: 0.9859 - precision_61: 0.9962 - recall_61: 0.9809\n",
      "246/246 [==============================] - 24s 83ms/step - loss: 0.0841 - accuracy: 0.9861 - precision_62: 0.9938 - recall_62: 0.9893\n",
      "Evaluating for se\n",
      "246/246 [==============================] - 24s 85ms/step - loss: 0.0793 - accuracy: 0.9809 - precision_63: 0.9866 - recall_63: 0.9856\n",
      "246/246 [==============================] - 25s 86ms/step - loss: 0.0491 - accuracy: 0.9895 - precision_64: 0.9950 - recall_64: 0.9922\n",
      "246/246 [==============================] - 25s 88ms/step - loss: 0.0580 - accuracy: 0.9875 - precision_65: 0.9955 - recall_65: 0.9815ETA: 9s - loss: 0.0457 - ac - ETA: 4s - loss: 0.0452 - accuracy: 0.\n",
      "246/246 [==============================] - 25s 89ms/step - loss: 0.0457 - accuracy: 0.9919 - precision_66: 0.9947 - recall_66: 0.9940\n",
      "246/246 [==============================] - 25s 88ms/step - loss: 0.0336 - accuracy: 0.9928 - precision_67: 0.9986 - recall_67: 0.9983\n",
      "246/246 [==============================] - 25s 88ms/step - loss: 0.0330 - accuracy: 0.9910 - precision_68: 0.9978 - recall_68: 0.9913 5s - loss: 0.017\n",
      "246/246 [==============================] - 25s 88ms/step - loss: 0.0447 - accuracy: 0.9932 - precision_69: 0.9964 - recall_69: 0.9957\n",
      "246/246 [==============================] - 26s 91ms/step - loss: 0.0664 - accuracy: 0.9808 - precision_70: 0.9936 - recall_70: 0.9795 10s - loss: 0.0467 - accurac - ETA: 6s - loss: 0.0492 - accuracy: 0.9860 - precision_70: 0. - ETA: 4s - loss: 0.0504 - accuracy: 0.9856 - precision_70: 0.9945 - recall_70: 0 - ETA: 4s - loss: 0.0506 - accuracy: 0.985\n",
      "246/246 [==============================] - 26s 90ms/step - loss: 0.0518 - accuracy: 0.9882 - precision_71: 0.9916 - recall_71: 0.9876 6s - \n",
      "246/246 [==============================] - 27s 93ms/step - loss: 0.0722 - accuracy: 0.9807 - precision_72: 0.9893 - recall_72: 0.9832 \n",
      "246/246 [==============================] - 27s 97ms/step - loss: 0.0557 - accuracy: 0.9900 - precision_73: 0.9949 - recall_73: 0.9932\n",
      "246/246 [==============================] - 29s 100ms/step - loss: 0.0521 - accuracy: 0.9917 - precision_74: 0.9953 - recall_74: 0.9942\n",
      "246/246 [==============================] - 28s 95ms/step - loss: 0.0619 - accuracy: 0.9902 - precision_75: 0.9953 - recall_75: 0.9914 4s - loss: 0.0470 - accurac\n",
      "246/246 [==============================] - 32s 94ms/step - loss: 0.0418 - accuracy: 0.9889 - precision_76: 0.9931 - recall_76: 0.9895 7s - loss: 0.0252 -  - ETA: 2s - loss: 0.0301 - accuracy: 0.9918 - precision_76: 0.99\n",
      "246/246 [==============================] - 27s 94ms/step - loss: 0.0554 - accuracy: 0.9884 - precision_77: 0.9967 - recall_77: 0.9827\n",
      "246/246 [==============================] - 27s 96ms/step - loss: 0.0619 - accuracy: 0.9850 - precision_78: 0.9937 - recall_78: 0.9848 3s - loss: 0.0418 - accuracy: 0.9904 - precisi\n",
      "246/246 [==============================] - 28s 98ms/step - loss: 0.0700 - accuracy: 0.9897 - precision_79: 0.9945 - recall_79: 0.9939\n",
      "246/246 [==============================] - 28s 98ms/step - loss: 0.0820 - accuracy: 0.9836 - precision_80: 0.9923 - recall_80: 0.9672\n",
      "246/246 [==============================] - 29s 105ms/step - loss: 0.0494 - accuracy: 0.9881 - precision_81: 0.9945 - recall_81: 0.9892\n",
      "246/246 [==============================] - 29s 104ms/step - loss: 0.0683 - accuracy: 0.9835 - precision_82: 0.9920 - recall_82: 0.98549s - loss: 0.0419 - accuracy: 0.9 - ETA: 4s - loss: 0.0469 - accuracy: 0.9887 -\n",
      "246/246 [==============================] - 29s 103ms/step - loss: 0.0790 - accuracy: 0.9816 - precision_83: 0.9901 - recall_83: 0.9799\n"
     ]
    }
   ],
   "source": [
    "print(\"Evaluating for dg\")\n",
    "for model in models_dg:\n",
    "    evaluate_dg.append(model.evaluate(x_test_and_adversary,y_test_and_adversary))\n",
    "    \n",
    "print(\"Evaluating for se\")\n",
    "for model in models_se:\n",
    "    evaluate_se.append(model.evaluate(x_test_and_adversary,y_test_and_adversary))\n"
   ]
  },
  {
   "cell_type": "code",
   "execution_count": 22,
   "id": "2141a097",
   "metadata": {},
   "outputs": [
    {
     "data": {
      "text/plain": [
       "22"
      ]
     },
     "execution_count": 22,
     "metadata": {},
     "output_type": "execute_result"
    }
   ],
   "source": [
    "len(evaluate_dg)"
   ]
  },
  {
   "cell_type": "code",
   "execution_count": 23,
   "id": "e48d1822",
   "metadata": {},
   "outputs": [
    {
     "data": {
      "text/plain": [
       "22"
      ]
     },
     "execution_count": 23,
     "metadata": {},
     "output_type": "execute_result"
    }
   ],
   "source": [
    "len(evaluate_nc)"
   ]
  },
  {
   "cell_type": "code",
   "execution_count": 24,
   "id": "ba831e22",
   "metadata": {},
   "outputs": [],
   "source": [
    "import pandas as pd\n",
    "\n",
    "df_evaluate_lsa = pd.DataFrame(np.array(evaluate_lsa),columns=[\"loss\",\"accuracy\",\"precision\",\"recall\"])\n",
    "df_evaluate_dsa = pd.DataFrame(np.array(evaluate_dsa),columns=[\"loss\",\"accuracy\",\"precision\",\"recall\"])\n",
    "df_evaluate_dg = pd.DataFrame(np.array(evaluate_dg),columns=[\"loss\",\"accuracy\",\"precision\",\"recall\"])\n",
    "df_evaluate_se = pd.DataFrame(np.array(evaluate_se),columns=[\"loss\",\"accuracy\",\"precision\",\"recall\"])\n",
    "\n",
    "df_evaluate_random = pd.DataFrame(np.array(evaluate_random),columns=[\"loss\",\"accuracy\",\"precision\",\"recall\"])\n",
    "df_evaluate_nc = pd.DataFrame(np.array(evaluate_nc),columns=[\"loss\",\"accuracy\",\"precision\",\"recall\"])\n"
   ]
  },
  {
   "cell_type": "code",
   "execution_count": 12,
   "id": "d5eae8d4",
   "metadata": {},
   "outputs": [
    {
     "name": "stdout",
     "output_type": "stream",
     "text": [
      "D:/aug_graphs/gtsrb/c2\n"
     ]
    }
   ],
   "source": [
    "save_dir = \"D:/aug_graphs/\"+dataset+\"/\"+config_lc\n",
    "print(save_dir)"
   ]
  },
  {
   "cell_type": "code",
   "execution_count": 28,
   "id": "1fcc89a7",
   "metadata": {},
   "outputs": [],
   "source": [
    "df_evaluate_lsa.to_csv(save_dir+\"/lsa_\"+config_lc,index=False)\n",
    "df_evaluate_dsa.to_csv(save_dir+\"/dsa_\"+config_lc,index=False)\n",
    "df_evaluate_dg.to_csv(save_dir+\"/dg_\"+config_lc,index=False)\n",
    "df_evaluate_se.to_csv(save_dir+\"/se_\"+config_lc,index=False)\n",
    "df_evaluate_random.to_csv(save_dir+\"/random_\"+config_lc,index=False)\n",
    "df_evaluate_nc.to_csv(save_dir+\"/nc_\"+config_lc,index=False)"
   ]
  },
  {
   "cell_type": "code",
   "execution_count": 13,
   "id": "ef3a3982",
   "metadata": {},
   "outputs": [],
   "source": [
    "import pandas as pd\n",
    "loading_csv = True\n",
    "if(loading_csv):\n",
    "    \n",
    "    df_evaluate_lsa = pd.read_csv(save_dir+\"/lsa_\"+config_lc)\n",
    "    df_evaluate_dsa = pd.read_csv(save_dir+\"/dsa_\"+config_lc)\n",
    "    df_evaluate_dg = pd.read_csv(save_dir+\"/dg_\"+config_lc)\n",
    "    df_evaluate_se = pd.read_csv(save_dir+\"/se_\"+config_lc)\n",
    "    df_evaluate_random = pd.read_csv(save_dir+\"/random_\"+config_lc)\n",
    "    df_evaluate_nc = pd.read_csv(save_dir+\"/nc_\"+config_lc)"
   ]
  },
  {
   "cell_type": "code",
   "execution_count": 14,
   "id": "434369a2",
   "metadata": {},
   "outputs": [
    {
     "data": {
      "text/html": [
       "<div>\n",
       "<style scoped>\n",
       "    .dataframe tbody tr th:only-of-type {\n",
       "        vertical-align: middle;\n",
       "    }\n",
       "\n",
       "    .dataframe tbody tr th {\n",
       "        vertical-align: top;\n",
       "    }\n",
       "\n",
       "    .dataframe thead th {\n",
       "        text-align: right;\n",
       "    }\n",
       "</style>\n",
       "<table border=\"1\" class=\"dataframe\">\n",
       "  <thead>\n",
       "    <tr style=\"text-align: right;\">\n",
       "      <th></th>\n",
       "      <th>loss</th>\n",
       "      <th>accuracy</th>\n",
       "      <th>precision</th>\n",
       "      <th>recall</th>\n",
       "    </tr>\n",
       "  </thead>\n",
       "  <tbody>\n",
       "    <tr>\n",
       "      <th>0</th>\n",
       "      <td>0.865599</td>\n",
       "      <td>0.848037</td>\n",
       "      <td>0.937963</td>\n",
       "      <td>0.860125</td>\n",
       "    </tr>\n",
       "    <tr>\n",
       "      <th>1</th>\n",
       "      <td>0.238137</td>\n",
       "      <td>0.942759</td>\n",
       "      <td>0.979653</td>\n",
       "      <td>0.974452</td>\n",
       "    </tr>\n",
       "    <tr>\n",
       "      <th>2</th>\n",
       "      <td>0.184354</td>\n",
       "      <td>0.953468</td>\n",
       "      <td>0.990879</td>\n",
       "      <td>0.986326</td>\n",
       "    </tr>\n",
       "    <tr>\n",
       "      <th>3</th>\n",
       "      <td>0.199139</td>\n",
       "      <td>0.950535</td>\n",
       "      <td>0.993710</td>\n",
       "      <td>0.989954</td>\n",
       "    </tr>\n",
       "    <tr>\n",
       "      <th>4</th>\n",
       "      <td>0.169100</td>\n",
       "      <td>0.956017</td>\n",
       "      <td>0.991260</td>\n",
       "      <td>0.988098</td>\n",
       "    </tr>\n",
       "    <tr>\n",
       "      <th>5</th>\n",
       "      <td>0.180139</td>\n",
       "      <td>0.958440</td>\n",
       "      <td>0.994764</td>\n",
       "      <td>0.990012</td>\n",
       "    </tr>\n",
       "    <tr>\n",
       "      <th>6</th>\n",
       "      <td>0.183158</td>\n",
       "      <td>0.955125</td>\n",
       "      <td>0.994900</td>\n",
       "      <td>0.990396</td>\n",
       "    </tr>\n",
       "    <tr>\n",
       "      <th>7</th>\n",
       "      <td>0.189139</td>\n",
       "      <td>0.949898</td>\n",
       "      <td>0.992686</td>\n",
       "      <td>0.987343</td>\n",
       "    </tr>\n",
       "    <tr>\n",
       "      <th>8</th>\n",
       "      <td>0.171035</td>\n",
       "      <td>0.956527</td>\n",
       "      <td>0.993910</td>\n",
       "      <td>0.988744</td>\n",
       "    </tr>\n",
       "    <tr>\n",
       "      <th>9</th>\n",
       "      <td>0.222330</td>\n",
       "      <td>0.952575</td>\n",
       "      <td>0.988647</td>\n",
       "      <td>0.985051</td>\n",
       "    </tr>\n",
       "    <tr>\n",
       "      <th>10</th>\n",
       "      <td>0.191522</td>\n",
       "      <td>0.947858</td>\n",
       "      <td>0.993009</td>\n",
       "      <td>0.986897</td>\n",
       "    </tr>\n",
       "    <tr>\n",
       "      <th>11</th>\n",
       "      <td>0.203640</td>\n",
       "      <td>0.945563</td>\n",
       "      <td>0.992658</td>\n",
       "      <td>0.984344</td>\n",
       "    </tr>\n",
       "    <tr>\n",
       "      <th>12</th>\n",
       "      <td>0.175804</td>\n",
       "      <td>0.953723</td>\n",
       "      <td>0.996228</td>\n",
       "      <td>0.990414</td>\n",
       "    </tr>\n",
       "    <tr>\n",
       "      <th>13</th>\n",
       "      <td>0.191292</td>\n",
       "      <td>0.951173</td>\n",
       "      <td>0.994738</td>\n",
       "      <td>0.989131</td>\n",
       "    </tr>\n",
       "    <tr>\n",
       "      <th>14</th>\n",
       "      <td>0.280612</td>\n",
       "      <td>0.926441</td>\n",
       "      <td>0.994333</td>\n",
       "      <td>0.956158</td>\n",
       "    </tr>\n",
       "    <tr>\n",
       "      <th>15</th>\n",
       "      <td>0.266560</td>\n",
       "      <td>0.946328</td>\n",
       "      <td>0.990298</td>\n",
       "      <td>0.984628</td>\n",
       "    </tr>\n",
       "    <tr>\n",
       "      <th>16</th>\n",
       "      <td>0.240365</td>\n",
       "      <td>0.937404</td>\n",
       "      <td>0.994044</td>\n",
       "      <td>0.975602</td>\n",
       "    </tr>\n",
       "    <tr>\n",
       "      <th>17</th>\n",
       "      <td>0.225386</td>\n",
       "      <td>0.943779</td>\n",
       "      <td>0.994360</td>\n",
       "      <td>0.984385</td>\n",
       "    </tr>\n",
       "    <tr>\n",
       "      <th>18</th>\n",
       "      <td>0.314361</td>\n",
       "      <td>0.928480</td>\n",
       "      <td>0.986525</td>\n",
       "      <td>0.970777</td>\n",
       "    </tr>\n",
       "    <tr>\n",
       "      <th>19</th>\n",
       "      <td>0.247488</td>\n",
       "      <td>0.940337</td>\n",
       "      <td>0.995814</td>\n",
       "      <td>0.983201</td>\n",
       "    </tr>\n",
       "    <tr>\n",
       "      <th>20</th>\n",
       "      <td>0.303498</td>\n",
       "      <td>0.923891</td>\n",
       "      <td>0.996442</td>\n",
       "      <td>0.976547</td>\n",
       "    </tr>\n",
       "    <tr>\n",
       "      <th>21</th>\n",
       "      <td>0.250754</td>\n",
       "      <td>0.936384</td>\n",
       "      <td>0.993366</td>\n",
       "      <td>0.984031</td>\n",
       "    </tr>\n",
       "  </tbody>\n",
       "</table>\n",
       "</div>"
      ],
      "text/plain": [
       "        loss  accuracy  precision    recall\n",
       "0   0.865599  0.848037   0.937963  0.860125\n",
       "1   0.238137  0.942759   0.979653  0.974452\n",
       "2   0.184354  0.953468   0.990879  0.986326\n",
       "3   0.199139  0.950535   0.993710  0.989954\n",
       "4   0.169100  0.956017   0.991260  0.988098\n",
       "5   0.180139  0.958440   0.994764  0.990012\n",
       "6   0.183158  0.955125   0.994900  0.990396\n",
       "7   0.189139  0.949898   0.992686  0.987343\n",
       "8   0.171035  0.956527   0.993910  0.988744\n",
       "9   0.222330  0.952575   0.988647  0.985051\n",
       "10  0.191522  0.947858   0.993009  0.986897\n",
       "11  0.203640  0.945563   0.992658  0.984344\n",
       "12  0.175804  0.953723   0.996228  0.990414\n",
       "13  0.191292  0.951173   0.994738  0.989131\n",
       "14  0.280612  0.926441   0.994333  0.956158\n",
       "15  0.266560  0.946328   0.990298  0.984628\n",
       "16  0.240365  0.937404   0.994044  0.975602\n",
       "17  0.225386  0.943779   0.994360  0.984385\n",
       "18  0.314361  0.928480   0.986525  0.970777\n",
       "19  0.247488  0.940337   0.995814  0.983201\n",
       "20  0.303498  0.923891   0.996442  0.976547\n",
       "21  0.250754  0.936384   0.993366  0.984031"
      ]
     },
     "execution_count": 14,
     "metadata": {},
     "output_type": "execute_result"
    }
   ],
   "source": [
    "df_evaluate_dg"
   ]
  },
  {
   "cell_type": "code",
   "execution_count": 15,
   "id": "3c21fd01",
   "metadata": {},
   "outputs": [],
   "source": [
    "\n",
    "metric =\"accuracy\"\n",
    "accuracy_lsa_3 = np.array(df_evaluate_lsa[metric])\n",
    "accuracy_dsa_3 = np.array(df_evaluate_dsa[metric])\n",
    "accuracy_dg_3 = np.array(df_evaluate_dg[metric])\n",
    "accuracy_se_3 = np.array(df_evaluate_se[metric])\n",
    "\n",
    "accuracy_nc_3 =np.array(df_evaluate_nc[metric])\n",
    "accuracy_random_3 = np.array(df_evaluate_random[metric])\n"
   ]
  },
  {
   "cell_type": "code",
   "execution_count": null,
   "id": "7aeb569b",
   "metadata": {},
   "outputs": [],
   "source": []
  },
  {
   "cell_type": "code",
   "execution_count": 16,
   "id": "9ed5051f",
   "metadata": {},
   "outputs": [],
   "source": [
    "n_data_points = 1750"
   ]
  },
  {
   "cell_type": "code",
   "execution_count": 17,
   "id": "43b61f22",
   "metadata": {},
   "outputs": [
    {
     "data": {
      "text/plain": [
       "22"
      ]
     },
     "execution_count": 17,
     "metadata": {},
     "output_type": "execute_result"
    }
   ],
   "source": [
    "len(accuracy_dsa_3)"
   ]
  },
  {
   "cell_type": "code",
   "execution_count": 18,
   "id": "4bae8ca4",
   "metadata": {},
   "outputs": [
    {
     "data": {
      "text/plain": [
       "35287"
      ]
     },
     "execution_count": 18,
     "metadata": {},
     "output_type": "execute_result"
    }
   ],
   "source": [
    "len(x_train_and_adversary)"
   ]
  },
  {
   "cell_type": "code",
   "execution_count": 19,
   "id": "e67df87a",
   "metadata": {},
   "outputs": [
    {
     "name": "stdout",
     "output_type": "stream",
     "text": [
      "22\n"
     ]
    },
    {
     "data": {
      "text/plain": [
       "[0,\n",
       " 1750,\n",
       " 3500,\n",
       " 5250,\n",
       " 7000,\n",
       " 8750,\n",
       " 10500,\n",
       " 12250,\n",
       " 14000,\n",
       " 15750,\n",
       " 17500,\n",
       " 19250,\n",
       " 21000,\n",
       " 22750,\n",
       " 24500,\n",
       " 26250,\n",
       " 28000,\n",
       " 29750,\n",
       " 31500,\n",
       " 33250,\n",
       " 35000,\n",
       " 35287]"
      ]
     },
     "execution_count": 19,
     "metadata": {},
     "output_type": "execute_result"
    }
   ],
   "source": [
    "n_inputs = [n_data_points*i for i in range(num_models)]\n",
    "n_inputs.append(len(x_train_and_adversary))\n",
    "print(len(n_inputs))\n",
    "n_inputs"
   ]
  },
  {
   "cell_type": "code",
   "execution_count": 20,
   "id": "3cd2cd2d",
   "metadata": {},
   "outputs": [
    {
     "name": "stdout",
     "output_type": "stream",
     "text": [
      "22\n",
      "22\n"
     ]
    }
   ],
   "source": [
    "print(len(df_evaluate_dg))\n",
    "print(len(n_inputs))"
   ]
  },
  {
   "cell_type": "code",
   "execution_count": 37,
   "id": "b484cf9a",
   "metadata": {},
   "outputs": [],
   "source": [
    "#save_dir = \"D:/aug_graphs/\"+dataset+\"/\"+config"
   ]
  },
  {
   "cell_type": "code",
   "execution_count": 21,
   "id": "04d02a6d",
   "metadata": {},
   "outputs": [],
   "source": [
    "linestyles = ['solid','dotted','dashed','dashed','dashdot','dashdot']\n",
    "colors =['b','g','r','c','m','k']"
   ]
  },
  {
   "cell_type": "code",
   "execution_count": 23,
   "id": "648d207c",
   "metadata": {},
   "outputs": [
    {
     "name": "stdout",
     "output_type": "stream",
     "text": [
      "17500 0.9447985887527466\n",
      "3500 0.957164704799652\n",
      "8750 0.9584395885467528\n",
      "12250 0.9608618021011353\n",
      "29750 0.9395716190338136\n",
      "35287 0.9427587985992432\n"
     ]
    },
    {
     "data": {
      "image/png": "[encoded data removed]",
      "text/plain": [
       "<Figure size 432x288 with 1 Axes>"
      ]
     },
     "metadata": {
      "needs_background": "light"
     },
     "output_type": "display_data"
    }
   ],
   "source": [
    "#adversarial jsma test set\n",
    "#configuration 3\n",
    "\"\"\"\n",
    "6) Incremental guided retraining starting from the original model using only the new adversarial inputs.\n",
    "Incremental training, starting with the previous trained model. Using at each iteration a subset of the new inputs.\n",
    "\"\"\"\n",
    "import matplotlib.pyplot as plt\n",
    "import matplotlib.patches as mpatches\n",
    "\n",
    "from matplotlib.patches import Patch\n",
    "from matplotlib.lines import Line2D\n",
    "\n",
    "plt.plot(n_inputs,accuracy_lsa_3,colors[0],linestyle=linestyles[0])\n",
    "plt.plot(n_inputs,accuracy_dsa_3,colors[1],linestyle=linestyles[1])\n",
    "plt.plot(n_inputs,accuracy_dg_3,colors[2],linestyle=linestyles[2])\n",
    "plt.plot(n_inputs,accuracy_se_3,colors[3],linestyle=linestyles[3])\n",
    "plt.plot(n_inputs,accuracy_random_3,colors[4],linestyle=linestyles[4])\n",
    "plt.plot(n_inputs,accuracy_nc_3,colors[5],linestyle=linestyles[5])\n",
    "\n",
    "\n",
    "legend_elements = [Line2D([0], [0], color=colors[0], label='LSA',ls = linestyles[0]),\n",
    "                   Line2D([0], [0], color=colors[1], label='DSA',ls = linestyles[1]),\n",
    "                   Line2D([0], [0], color=colors[2], label='dg',ls = linestyles[2]),\n",
    "                   Line2D([0], [0], color=colors[3], label='se',ls = linestyles[3]),\n",
    "                   Line2D([0], [0], color=colors[4], label='Random',ls = linestyles[4]),\n",
    "                   Line2D([0], [0], color=colors[5], label='NC',ls = linestyles[5])]\n",
    "\n",
    "\n",
    "\n",
    "plt.legend(handles=legend_elements)#\n",
    "#plt.title(\"Accuracy\")\n",
    "\n",
    "print(n_inputs[np.argmax(accuracy_lsa_3)],accuracy_lsa_3.max())\n",
    "print(n_inputs[np.argmax(accuracy_dsa_3)],accuracy_dsa_3.max())\n",
    "print(n_inputs[np.argmax(accuracy_dg_3)],accuracy_dg_3.max())\n",
    "print(n_inputs[np.argmax(accuracy_se_3)],accuracy_se_3.max())\n",
    "print(n_inputs[np.argmax(accuracy_random_3)],accuracy_random_3.max())\n",
    "print(n_inputs[np.argmax(accuracy_nc_3)],accuracy_nc_3.max())\n",
    "\n",
    "plt.plot(n_inputs[np.argmax(accuracy_lsa_3)],accuracy_lsa_3.max(),'-bD',)\n",
    "plt.plot(n_inputs[np.argmax(accuracy_dsa_3)],accuracy_dsa_3.max(),'-go')\n",
    "plt.plot(n_inputs[np.argmax(accuracy_dg_3)],accuracy_dg_3.max(),'-r+')\n",
    "plt.plot(n_inputs[np.argmax(accuracy_se_3)],accuracy_se_3.max(),'-c*')\n",
    "plt.plot(n_inputs[np.argmax(accuracy_random_3)],accuracy_random_3.max(),'-mv')\n",
    "plt.plot(n_inputs[np.argmax(accuracy_nc_3)],accuracy_nc_3.max(),'-kp')\n",
    "\n",
    "plt.xlabel('Number of inputs')\n",
    "plt.ylabel('Accuracy')\n",
    "plt.xlim([0, len(x_train_and_adversary)])\n",
    "#plt.ylim([0.5, 1])\n",
    "\n",
    "plt.savefig(save_dir+\"/\"+dataset+\"_\"+config_lc+\"_\"+\"accuracy\" + \".svg\")\n",
    "\n",
    "plt.show()"
   ]
  },
  {
   "cell_type": "code",
   "execution_count": null,
   "id": "75c13967",
   "metadata": {},
   "outputs": [],
   "source": []
  }
 ],
 "metadata": {
  "kernelspec": {
   "display_name": "Python 3 (ipykernel)",
   "language": "python",
   "name": "python3"
  },
  "language_info": {
   "codemirror_mode": {
    "name": "ipython",
    "version": 3
   },
   "file_extension": ".py",
   "mimetype": "text/x-python",
   "name": "python",
   "nbconvert_exporter": "python",
   "pygments_lexer": "ipython3",
   "version": "3.9.7"
  }
 },
 "nbformat": 4,
 "nbformat_minor": 5
}
