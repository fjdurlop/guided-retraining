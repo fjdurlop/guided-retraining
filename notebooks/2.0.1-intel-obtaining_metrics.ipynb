{
 "cells": [
  {
   "cell_type": "markdown",
   "id": "4d2d649f",
   "metadata": {},
   "source": [
    "# Obtaining metrics\n",
    "\n",
    "## Dataset: Intel\n",
    "\n",
    "## Output:\n",
    "\n",
    "- LSA values\n",
    "    ```python\n",
    "    \"C:/Users/fjdur/Desktop/upc/project_notebooks/github_project/DL_notebooks/SA_values/intel_lsa_values_2.npy\"\n",
    "    ```\n",
    "- DSA values\n",
    "    ```python\n",
    "    \"C:/Users/fjdur/Desktop/upc/project_notebooks/github_project/DL_notebooks/SA_values/intel_dsa_values_2.npy\"\n",
    "    ```\n",
    "- Random values\n",
    "    ```python\n",
    "    \"C:/Users/fjdur/Desktop/upc/project_notebooks/github_project/DL_notebooks/SA_values/intel_random_values_e2.npy\"\n",
    "    ```\n",
    "- NC values\n",
    "    ```python\n",
    "    'intel_nc_values_'+str(i)+'.npy'\n",
    "    ```\n"
   ]
  },
  {
   "cell_type": "code",
   "execution_count": 4,
   "id": "b8042bdf",
   "metadata": {},
   "outputs": [],
   "source": [
    "import argparse\n",
    "\n",
    "import numpy as np\n",
    "import tensorflow as tf\n",
    "import keras.backend as K\n",
    "\n",
    "import matplotlib.pyplot as plt\n",
    "\n",
    "from keras.utils import np_utils\n",
    "from keras.models import Sequential\n",
    "from keras.layers import Dense, Dropout, Activation, Flatten, Conv2D, MaxPooling2D\n",
    "from keras.regularizers import l2\n",
    "\n",
    "import glob\n",
    "import os\n",
    "import cv2\n",
    "import keras\n",
    "\n",
    "\n",
    "import time\n",
    "import argparse\n",
    "\n",
    "from tqdm import tqdm\n",
    "\n",
    "from keras.models import load_model, Model\n"
   ]
  },
  {
   "cell_type": "code",
   "execution_count": 5,
   "id": "ddd20f16",
   "metadata": {},
   "outputs": [],
   "source": [
    "# Params\n",
    "num_classes = 6\n",
    "img_width = 48\n",
    "img_height = 48"
   ]
  },
  {
   "cell_type": "code",
   "execution_count": null,
   "id": "ed65692d",
   "metadata": {},
   "outputs": [],
   "source": [
    "cd '../utils/'"
   ]
  },
  {
   "cell_type": "code",
   "execution_count": null,
   "id": "cf856138",
   "metadata": {},
   "outputs": [],
   "source": [
    "# utils for project\n",
    "import utils_guided_retraining as utils"
   ]
  },
  {
   "cell_type": "code",
   "execution_count": null,
   "id": "d662a178",
   "metadata": {},
   "outputs": [],
   "source": [
    "cd '../notebooks/'"
   ]
  },
  {
   "cell_type": "code",
   "execution_count": null,
   "id": "64ff6a78",
   "metadata": {},
   "outputs": [],
   "source": [
    "x_train,y_train = utils.get_data(\"intel\",\"Train\")\n",
    "x_val,y_val = utils.get_data(\"intel\",\"Val\")\n",
    "x_test,y_test = utils.get_data(\"intel\",\"Test\")"
   ]
  },
  {
   "cell_type": "code",
   "execution_count": null,
   "id": "95d84796",
   "metadata": {},
   "outputs": [],
   "source": [
    "x_train_and_adversary,y_train_and_adversary = utils.get_data(\"intel\",\"Train_and_adversary\")"
   ]
  },
  {
   "cell_type": "code",
   "execution_count": null,
   "id": "37c46dba",
   "metadata": {},
   "outputs": [],
   "source": [
    "x_adversary_training = x_train_and_adversary[len(x_train):]\n",
    "print(len(x_adversary_training))\n",
    "y_adversary_training = y_train_and_adversary[len(y_train):]\n",
    "\n",
    "print(len(y_adversary_training))"
   ]
  },
  {
   "cell_type": "code",
   "execution_count": null,
   "id": "7d8a931e",
   "metadata": {},
   "outputs": [],
   "source": [
    "# Obtaining adversarial examples for testing \n",
    "x_test_and_adversary,y_test_and_adversary = utils.get_adversarial_data(\"intel\",'Test_fgsm') "
   ]
  },
  {
   "cell_type": "code",
   "execution_count": null,
   "id": "d20dcb9a",
   "metadata": {},
   "outputs": [],
   "source": [
    "x_adversary_test_fgsm = x_test_and_adversary[len(x_test):]\n",
    "print(len(x_adversary_test_fgsm))\n",
    "y_adversary_test_fgsm = y_test_and_adversary[len(y_test):]\n",
    "\n",
    "print(len(y_adversary_test_fgsm))"
   ]
  },
  {
   "cell_type": "markdown",
   "id": "c182b627",
   "metadata": {},
   "source": [
    "## loading models"
   ]
  },
  {
   "cell_type": "code",
   "execution_count": 16,
   "id": "b6752ece",
   "metadata": {},
   "outputs": [],
   "source": [
    "# Model compiled without other metrics\n",
    "model_dir = \"C:/Users/fjdur/Desktop/upc/project_notebooks/github_project/DL_notebooks/models/intel_model_21_10/\"\n",
    "#model_dir = \"C:/Users/fjdur/Desktop/upc/project_notebooks/github_project/DL_notebooks/models/intel_model\"\n",
    "model = keras.models.load_model(model_dir)"
   ]
  },
  {
   "cell_type": "code",
   "execution_count": 18,
   "id": "cf14b18e",
   "metadata": {},
   "outputs": [
    {
     "name": "stdout",
     "output_type": "stream",
     "text": [
      "94/94 [==============================] - 12s 21ms/step - loss: 0.5392 - accuracy: 0.8037\n"
     ]
    },
    {
     "data": {
      "text/plain": [
       "[0.5391883850097656, 0.8036666512489319]"
      ]
     },
     "execution_count": 18,
     "metadata": {},
     "output_type": "execute_result"
    }
   ],
   "source": [
    "model.evaluate(x_test,y_test)"
   ]
  },
  {
   "cell_type": "code",
   "execution_count": 52,
   "id": "e3078058",
   "metadata": {},
   "outputs": [
    {
     "name": "stdout",
     "output_type": "stream",
     "text": [
      "(14224, 48, 48, 1)\n",
      "(6000, 48, 48, 1)\n"
     ]
    }
   ],
   "source": [
    "print(x_train_and_adversary.shape)\n",
    "print(x_test_and_adversary.shape)"
   ]
  },
  {
   "cell_type": "markdown",
   "id": "ce1e500c",
   "metadata": {},
   "source": [
    "## Obtaining new LSA and DSA values \n",
    "- Required module 'deepimportance_code_release'"
   ]
  },
  {
   "cell_type": "code",
   "execution_count": 53,
   "id": "c03f9fbf",
   "metadata": {},
   "outputs": [
    {
     "name": "stdout",
     "output_type": "stream",
     "text": [
      "C:\\Users\\fjdur\\Desktop\\upc\\project_notebooks\\deepimportance_code_release\n"
     ]
    }
   ],
   "source": [
    "cd \"C:\\Users\\fjdur\\Desktop\\upc\\project_notebooks\\deepimportance_code_release\""
   ]
  },
  {
   "cell_type": "code",
   "execution_count": 54,
   "id": "cb6dc937",
   "metadata": {},
   "outputs": [],
   "source": [
    "# from 07_notebook\n",
    "from utils import filter_val_set, get_trainable_layers\n",
    "from utils import generate_adversarial, filter_correct_classifications\n",
    "from coverages.idc import ImportanceDrivenCoverage\n",
    "from coverages.neuron_cov import NeuronCoverage\n",
    "from coverages.tkn import DeepGaugeLayerLevelCoverage\n",
    "from coverages.kmn import DeepGaugePercentCoverage\n",
    "from coverages.ss import SSCover\n",
    "from coverages.sa import SurpriseAdequacy\n"
   ]
  },
  {
   "cell_type": "code",
   "execution_count": 55,
   "id": "07bf30ec",
   "metadata": {},
   "outputs": [
    {
     "name": "stdout",
     "output_type": "stream",
     "text": [
      "Trainable layers: [0, 2, 4, 7, 12, 14, 15]\n",
      "Non trainable layers: [1, 3, 5, 6, 8, 9, 10, 11, 13]\n"
     ]
    }
   ],
   "source": [
    "trainable_layers = get_trainable_layers(model)\n",
    "non_trainable_layers = list(set(range(len(model.layers))) - set(trainable_layers))\n",
    "print('Trainable layers: ' + str(trainable_layers))\n",
    "print('Non trainable layers: ' + str(non_trainable_layers))"
   ]
  },
  {
   "cell_type": "code",
   "execution_count": 56,
   "id": "1a57315e",
   "metadata": {},
   "outputs": [
    {
     "name": "stdout",
     "output_type": "stream",
     "text": [
      "Model: \"sequential_2\"\n",
      "_________________________________________________________________\n",
      "Layer (type)                 Output Shape              Param #   \n",
      "=================================================================\n",
      "conv2d (Conv2D)              (None, 48, 48, 32)        320       \n",
      "_________________________________________________________________\n",
      "max_pooling2d (MaxPooling2D) (None, 24, 24, 32)        0         \n",
      "_________________________________________________________________\n",
      "conv2d_1 (Conv2D)            (None, 24, 24, 64)        18496     \n",
      "_________________________________________________________________\n",
      "max_pooling2d_1 (MaxPooling2 (None, 12, 12, 64)        0         \n",
      "_________________________________________________________________\n",
      "conv2d_2 (Conv2D)            (None, 12, 12, 128)       73856     \n",
      "_________________________________________________________________\n",
      "max_pooling2d_2 (MaxPooling2 (None, 6, 6, 128)         0         \n",
      "_________________________________________________________________\n",
      "dropout_2 (Dropout)          (None, 6, 6, 128)         0         \n",
      "_________________________________________________________________\n",
      "conv2d_3 (Conv2D)            (None, 6, 6, 128)         147584    \n",
      "_________________________________________________________________\n",
      "max_pooling2d_3 (MaxPooling2 (None, 3, 3, 128)         0         \n",
      "_________________________________________________________________\n",
      "dropout_3 (Dropout)          (None, 3, 3, 128)         0         \n",
      "_________________________________________________________________\n",
      "flatten (Flatten)            (None, 1152)              0         \n",
      "_________________________________________________________________\n",
      "dropout_4 (Dropout)          (None, 1152)              0         \n",
      "_________________________________________________________________\n",
      "dense (Dense)                (None, 512)               590336    \n",
      "_________________________________________________________________\n",
      "dropout_5 (Dropout)          (None, 512)               0         \n",
      "_________________________________________________________________\n",
      "dense_1 (Dense)              (None, 100)               51300     \n",
      "_________________________________________________________________\n",
      "dense_2 (Dense)              (None, 6)                 606       \n",
      "=================================================================\n",
      "Total params: 882,498\n",
      "Trainable params: 882,498\n",
      "Non-trainable params: 0\n",
      "_________________________________________________________________\n"
     ]
    }
   ],
   "source": [
    "model.summary()"
   ]
  },
  {
   "cell_type": "code",
   "execution_count": 57,
   "id": "b8a7eab5",
   "metadata": {},
   "outputs": [
    {
     "name": "stdout",
     "output_type": "stream",
     "text": [
      "['dense_1']\n"
     ]
    }
   ],
   "source": [
    "subject_layer = trainable_layers[-2]\n",
    "layer_names = [model.layers[-2].name]\n",
    "print(layer_names)\n",
    "upper_bound = 2000"
   ]
  },
  {
   "cell_type": "code",
   "execution_count": 59,
   "id": "8e183315",
   "metadata": {},
   "outputs": [],
   "source": [
    "from coverages import sa\n",
    "from datetime import datetime"
   ]
  },
  {
   "cell_type": "code",
   "execution_count": 60,
   "id": "75989895",
   "metadata": {},
   "outputs": [
    {
     "name": "stdout",
     "output_type": "stream",
     "text": [
      "[train] Model serving\n",
      "16\n",
      "88/88 [==============================] - 7s 75ms/step\n",
      "88/88 [==============================] - 7s 76ms/step\n",
      "[train] Processing ATs\n",
      "Layer: dense_1\n",
      "train ATs is saved at ./sa_data\\intel_model1_2_train_dense_1_ats.npy\n",
      "[intel_x_train_and_adversary_fgsm_2] Model serving\n",
      "16\n",
      "112/112 [==============================] - 10s 85ms/step\n",
      "112/112 [==============================] - 10s 85ms/step\n",
      "[intel_x_train_and_adversary_fgsm_2] Processing ATs\n",
      "Layer: dense_1\n",
      "intel_x_train_and_adversary_fgsm_2 ATs is saved at ./sa_data\\intel_model1_2_intel_x_train_and_adversary_fgsm_2_dense_1_ats.npy\n",
      "yes\n",
      "dict_keys([3, 0, 5, 4, 1, 2])\n",
      "The number of removed columns: 33\n",
      "[intel_x_train_and_adversary_fgsm_2] Fetching LSA\n",
      "Duration: 0:00:57.484108\n"
     ]
    }
   ],
   "source": [
    "start_time = datetime.now()\n",
    "\n",
    "\n",
    "\n",
    "target_lsa = sa.fetch_lsa(model, x_train, x_train_and_adversary,\n",
    "                                   \"intel_x_train_and_adversary_fgsm_2\", layer_names,\n",
    "                                   num_classes, True,\n",
    "                                   1e-05, './sa_data', \"intel_model1_2\")\n",
    "\n",
    "\n",
    "end_time = datetime.now()\n",
    "print('Duration: {}'.format(end_time - start_time))"
   ]
  },
  {
   "cell_type": "code",
   "execution_count": 61,
   "id": "13e84fcf",
   "metadata": {},
   "outputs": [
    {
     "name": "stdout",
     "output_type": "stream",
     "text": [
      "Found saved train ATs, skip serving\n",
      "[intel_x_train_and_adversary_fgsm_2] Model serving\n",
      "16\n",
      "112/112 [==============================] - 9s 78ms/step\n",
      "112/112 [==============================] - 9s 79ms/step\n",
      "[intel_x_train_and_adversary_fgsm_2] Processing ATs\n",
      "Layer: dense_1\n",
      "intel_x_train_and_adversary_fgsm_2 ATs is saved at ./sa_data\\intel_model1_2_intel_x_train_and_adversary_fgsm_2_dense_1_ats.npy\n",
      "[intel_x_train_and_adversary_fgsm_2] Fetching DSA\n",
      "Duration: 0:02:04.818284\n"
     ]
    }
   ],
   "source": [
    "start_time = datetime.now()\n",
    "\n",
    "target_dsa = sa.fetch_dsa(model, x_train, x_train_and_adversary,\n",
    "                                   \"intel_x_train_and_adversary_fgsm_2\", layer_names,\n",
    "                                   num_classes, True,\n",
    "                                   './sa_data',  \"intel_model1_2\")\n",
    "end_time = datetime.now()\n",
    "print('Duration: {}'.format(end_time - start_time))"
   ]
  },
  {
   "cell_type": "code",
   "execution_count": 62,
   "id": "42dd1dff",
   "metadata": {},
   "outputs": [
    {
     "name": "stdout",
     "output_type": "stream",
     "text": [
      "-141.29960938911742\n",
      "14224\n"
     ]
    }
   ],
   "source": [
    "print(sum(target_lsa)/len(target_lsa))\n",
    "print(len(target_lsa))"
   ]
  },
  {
   "cell_type": "code",
   "execution_count": 63,
   "id": "410d9dc5",
   "metadata": {},
   "outputs": [
    {
     "data": {
      "text/plain": [
       "[-96.74262316765555,\n",
       " -89.78846137782241,\n",
       " -109.34962825007679,\n",
       " -145.2803882902978,\n",
       " -74.22917489798564,\n",
       " -124.4235144192323,\n",
       " -111.69370484500891,\n",
       " -114.96432152881017,\n",
       " -114.99649412355818,\n",
       " -114.13783385864635]"
      ]
     },
     "execution_count": 63,
     "metadata": {},
     "output_type": "execute_result"
    }
   ],
   "source": [
    "target_lsa[len(x_train):len(x_train)+10]"
   ]
  },
  {
   "cell_type": "code",
   "execution_count": 64,
   "id": "8fa8a27f",
   "metadata": {
    "scrolled": true
   },
   "outputs": [
    {
     "name": "stdout",
     "output_type": "stream",
     "text": [
      "0.11192677398003051\n",
      "14224\n"
     ]
    }
   ],
   "source": [
    "print(sum(target_dsa)/len(target_dsa))\n",
    "print(len(target_dsa))"
   ]
  },
  {
   "cell_type": "code",
   "execution_count": 65,
   "id": "02655e3f",
   "metadata": {},
   "outputs": [],
   "source": [
    "save_dir = \"C:/Users/fjdur/Desktop/upc/project_notebooks/github_project/DL_notebooks/SA_values/intel_dsa_values_2.npy\"\n",
    "\n",
    "np.save(save_dir,np.array(target_dsa))\n",
    "save_dir = \"C:/Users/fjdur/Desktop/upc/project_notebooks/github_project/DL_notebooks/SA_values/intel_lsa_values_2.npy\"\n",
    "\n",
    "np.save(save_dir,np.array(target_lsa))"
   ]
  },
  {
   "cell_type": "markdown",
   "id": "4b89ddaa",
   "metadata": {},
   "source": [
    "## Obtaining NC values \n",
    "- Required module 'TestSelection'"
   ]
  },
  {
   "cell_type": "code",
   "execution_count": 1,
   "id": "8f4935c9",
   "metadata": {},
   "outputs": [
    {
     "name": "stdout",
     "output_type": "stream",
     "text": [
      "C:\\Users\\fjdur\\Desktop\\upc\\project_notebooks\n"
     ]
    }
   ],
   "source": [
    "cd C:\\Users\\fjdur\\Desktop\\upc\\project_notebooks"
   ]
  },
  {
   "cell_type": "code",
   "execution_count": 2,
   "id": "eea0a26c",
   "metadata": {},
   "outputs": [],
   "source": [
    "#import sys\n",
    "#sys.path.append('C:/Users/Francisco Duran/Desktop/upc/project_notebooks')\n",
    "import TestSelection\n",
    "from TestSelection.utils.ncoverage import NCoverage # https://github.com/TestSelection/TestSelection"
   ]
  },
  {
   "cell_type": "code",
   "execution_count": 23,
   "id": "ca857f94",
   "metadata": {},
   "outputs": [
    {
     "name": "stdout",
     "output_type": "stream",
     "text": [
      "Model loaded correctly\n"
     ]
    }
   ],
   "source": [
    "# Original model \n",
    "model_dir = \"C:/Users/fjdur/Desktop/upc/project_notebooks/github_project/DL_notebooks/models/intel_model_21_10/\"\n",
    "\n",
    "model = utils.My_model(\"intel\",True, model_dir)"
   ]
  },
  {
   "cell_type": "code",
   "execution_count": 24,
   "id": "81e19f39",
   "metadata": {},
   "outputs": [
    {
     "name": "stdout",
     "output_type": "stream",
     "text": [
      "Model: \"sequential_2\"\n",
      "_________________________________________________________________\n",
      "Layer (type)                 Output Shape              Param #   \n",
      "=================================================================\n",
      "conv2d (Conv2D)              (None, 48, 48, 32)        320       \n",
      "_________________________________________________________________\n",
      "max_pooling2d (MaxPooling2D) (None, 24, 24, 32)        0         \n",
      "_________________________________________________________________\n",
      "conv2d_1 (Conv2D)            (None, 24, 24, 64)        18496     \n",
      "_________________________________________________________________\n",
      "max_pooling2d_1 (MaxPooling2 (None, 12, 12, 64)        0         \n",
      "_________________________________________________________________\n",
      "conv2d_2 (Conv2D)            (None, 12, 12, 128)       73856     \n",
      "_________________________________________________________________\n",
      "max_pooling2d_2 (MaxPooling2 (None, 6, 6, 128)         0         \n",
      "_________________________________________________________________\n",
      "dropout_2 (Dropout)          (None, 6, 6, 128)         0         \n",
      "_________________________________________________________________\n",
      "conv2d_3 (Conv2D)            (None, 6, 6, 128)         147584    \n",
      "_________________________________________________________________\n",
      "max_pooling2d_3 (MaxPooling2 (None, 3, 3, 128)         0         \n",
      "_________________________________________________________________\n",
      "dropout_3 (Dropout)          (None, 3, 3, 128)         0         \n",
      "_________________________________________________________________\n",
      "flatten (Flatten)            (None, 1152)              0         \n",
      "_________________________________________________________________\n",
      "dropout_4 (Dropout)          (None, 1152)              0         \n",
      "_________________________________________________________________\n",
      "dense (Dense)                (None, 512)               590336    \n",
      "_________________________________________________________________\n",
      "dropout_5 (Dropout)          (None, 512)               0         \n",
      "_________________________________________________________________\n",
      "dense_1 (Dense)              (None, 100)               51300     \n",
      "_________________________________________________________________\n",
      "dense_2 (Dense)              (None, 6)                 606       \n",
      "=================================================================\n",
      "Total params: 882,498\n",
      "Trainable params: 882,498\n",
      "Non-trainable params: 0\n",
      "_________________________________________________________________\n"
     ]
    }
   ],
   "source": [
    "model.model.summary()"
   ]
  },
  {
   "cell_type": "code",
   "execution_count": 22,
   "id": "ace7f41d",
   "metadata": {},
   "outputs": [
    {
     "name": "stdout",
     "output_type": "stream",
     "text": [
      "models loaded\n",
      "['dense_1']\n"
     ]
    }
   ],
   "source": [
    "# NC computor, one layer, model_1\n",
    "ncComputor_model_1 = NCoverage(model, threshold=0.2,only_layers=[ 'dense_1']) #last hidden layer"
   ]
  },
  {
   "cell_type": "code",
   "execution_count": 25,
   "id": "9cf03ae1",
   "metadata": {},
   "outputs": [
    {
     "name": "stdout",
     "output_type": "stream",
     "text": [
      "models loaded\n",
      "['dense_1']\n"
     ]
    }
   ],
   "source": [
    "# NC computor, one layer, model_1\n",
    "ncComputor_model_1 = NCoverage(model.model, threshold=0.2,only_layers=[ 'dense_1']) #last hidden layer"
   ]
  },
  {
   "cell_type": "code",
   "execution_count": null,
   "id": "7fa21eec",
   "metadata": {},
   "outputs": [],
   "source": [
    "cd '../utils/'"
   ]
  },
  {
   "cell_type": "code",
   "execution_count": 7,
   "id": "ae3f20fe",
   "metadata": {},
   "outputs": [],
   "source": [
    "# once obtained the adversarial data\n",
    "\n",
    "import utils_guided_retraining as utils"
   ]
  },
  {
   "cell_type": "code",
   "execution_count": null,
   "id": "af5f7bd3",
   "metadata": {},
   "outputs": [],
   "source": [
    "cd '../notebooks/'"
   ]
  },
  {
   "cell_type": "code",
   "execution_count": 26,
   "id": "34f6974e",
   "metadata": {},
   "outputs": [],
   "source": [
    "x_train_and_adversary,y_train_and_adversary = utils.get_data(\"intel\",\"Train_and_adversary\")"
   ]
  },
  {
   "cell_type": "code",
   "execution_count": 27,
   "id": "79e01907",
   "metadata": {},
   "outputs": [
    {
     "data": {
      "text/plain": [
       "14224"
      ]
     },
     "execution_count": 27,
     "metadata": {},
     "output_type": "execute_result"
    }
   ],
   "source": [
    "len(x_train_and_adversary)"
   ]
  },
  {
   "cell_type": "code",
   "execution_count": 28,
   "id": "edddca92",
   "metadata": {},
   "outputs": [
    {
     "name": "stdout",
     "output_type": "stream",
     "text": [
      "3000\n",
      "3000\n"
     ]
    }
   ],
   "source": [
    "x_adversary_training = x_train_and_adversary[11224:]\n",
    "print(len(x_adversary_training))\n",
    "y_adversary_training = y_train_and_adversary[11224:]\n",
    "\n",
    "print(len(y_adversary_training))"
   ]
  },
  {
   "cell_type": "code",
   "execution_count": null,
   "id": "c6e360ca",
   "metadata": {},
   "outputs": [],
   "source": [
    "nc_model_original_values_1 = [ncComputor_model_1.NC(tf.expand_dims(x, axis=0)) for x in x_train_and_adversary[:1000]]"
   ]
  },
  {
   "cell_type": "code",
   "execution_count": 30,
   "id": "3bad1946",
   "metadata": {
    "scrolled": true
   },
   "outputs": [
    {
     "name": "stdout",
     "output_type": "stream",
     "text": [
      "--- 297.05143308639526 seconds ---\n"
     ]
    }
   ],
   "source": [
    "import time\n",
    "start_time = time.time()\n",
    "nc_model_original_values_1 = [ncComputor_model_1.NC(tf.expand_dims(x, axis=0)) for x in x_train_and_adversary[:1000]]\n",
    "print(\"--- %s seconds ---\" % (time.time() - start_time))\n"
   ]
  },
  {
   "cell_type": "code",
   "execution_count": 34,
   "id": "7393116d",
   "metadata": {},
   "outputs": [
    {
     "name": "stdout",
     "output_type": "stream",
     "text": [
      "--- 279.7343292236328 seconds ---\n"
     ]
    }
   ],
   "source": [
    "start_time = time.time()\n",
    "nc_model_original_values_1 = [ncComputor_model_1.NC(tf.expand_dims(x, axis=0)) for x in x_train_and_adversary[:1000]]\n",
    "print(\"--- %s seconds ---\" % (time.time() - start_time))"
   ]
  },
  {
   "cell_type": "code",
   "execution_count": 28,
   "id": "2a219092",
   "metadata": {},
   "outputs": [],
   "source": [
    "nc_model_original_values_2 = [ncComputor_model_1.NC(tf.expand_dims(x, axis=0)) for x in x_train_and_adversary[1000:2000]]"
   ]
  },
  {
   "cell_type": "code",
   "execution_count": 33,
   "id": "5b664d65",
   "metadata": {},
   "outputs": [
    {
     "name": "stdout",
     "output_type": "stream",
     "text": [
      "--- 287.054758310318 seconds ---\n"
     ]
    }
   ],
   "source": [
    "\n",
    "start_time = time.time()\n",
    "nc_model_original_values_2 = [ncComputor_model_1.NC(tf.expand_dims(x, axis=0)) for x in x_train_and_adversary[1000:2000]]\n",
    "print(\"--- %s seconds ---\" % (time.time() - start_time))\n",
    "\n"
   ]
  },
  {
   "cell_type": "code",
   "execution_count": 32,
   "id": "fe6486ee",
   "metadata": {},
   "outputs": [
    {
     "name": "stdout",
     "output_type": "stream",
     "text": [
      "--- 367.07521963119507 seconds ---\n"
     ]
    }
   ],
   "source": [
    "\n",
    "start_time = time.time()\n",
    "nc_model_original_values_14 = [ncComputor_model_1.NC(tf.expand_dims(x, axis=0)) for x in x_train_and_adversary[13000:]]\n",
    "print(\"--- %s seconds ---\" % (time.time() - start_time))\n",
    "\n"
   ]
  },
  {
   "cell_type": "code",
   "execution_count": 29,
   "id": "e4b765ab",
   "metadata": {},
   "outputs": [],
   "source": [
    "nc_model_original_values_3 = [ncComputor_model_1.NC(tf.expand_dims(x, axis=0)) for x in x_train_and_adversary[2000:3000]]"
   ]
  },
  {
   "cell_type": "code",
   "execution_count": 35,
   "id": "a425e858",
   "metadata": {},
   "outputs": [
    {
     "name": "stdout",
     "output_type": "stream",
     "text": [
      "--- 287.0088303089142 seconds ---\n"
     ]
    }
   ],
   "source": [
    "start_time = time.time()\n",
    "nc_model_original_values_3 = [ncComputor_model_1.NC(tf.expand_dims(x, axis=0)) for x in x_train_and_adversary[2000:3000]]\n",
    "print(\"--- %s seconds ---\" % (time.time() - start_time))\n",
    "\n"
   ]
  },
  {
   "cell_type": "code",
   "execution_count": 30,
   "id": "9f3526df",
   "metadata": {},
   "outputs": [],
   "source": [
    "nc_model_original_values_4 = [ncComputor_model_1.NC(tf.expand_dims(x, axis=0)) for x in x_train_and_adversary[3000:4000]]\n",
    "nc_model_original_values_5 = [ncComputor_model_1.NC(tf.expand_dims(x, axis=0)) for x in x_train_and_adversary[4000:5000]]"
   ]
  },
  {
   "cell_type": "code",
   "execution_count": null,
   "id": "113d436e",
   "metadata": {},
   "outputs": [],
   "source": []
  },
  {
   "cell_type": "code",
   "execution_count": 31,
   "id": "493eedf8",
   "metadata": {},
   "outputs": [],
   "source": [
    "nc_model_original_values_6 = [ncComputor_model_1.NC(tf.expand_dims(x, axis=0)) for x in x_train_and_adversary[5000:6000]]\n"
   ]
  },
  {
   "cell_type": "code",
   "execution_count": 32,
   "id": "72aecf81",
   "metadata": {},
   "outputs": [],
   "source": [
    "nc_model_original_values_7 = [ncComputor_model_1.NC(tf.expand_dims(x, axis=0)) for x in x_train_and_adversary[6000:7000]]\n",
    "nc_model_original_values_8 = [ncComputor_model_1.NC(tf.expand_dims(x, axis=0)) for x in x_train_and_adversary[7000:8000]]"
   ]
  },
  {
   "cell_type": "code",
   "execution_count": 33,
   "id": "e513deb2",
   "metadata": {},
   "outputs": [],
   "source": [
    "nc_model_original_values_9 = [ncComputor_model_1.NC(tf.expand_dims(x, axis=0)) for x in x_train_and_adversary[8000:9000]]\n",
    "nc_model_original_values_10 = [ncComputor_model_1.NC(tf.expand_dims(x, axis=0)) for x in x_train_and_adversary[9000:10000]]\n",
    "nc_model_original_values_11 = [ncComputor_model_1.NC(tf.expand_dims(x, axis=0)) for x in x_train_and_adversary[10000:11000]]"
   ]
  },
  {
   "cell_type": "code",
   "execution_count": 34,
   "id": "9a79f994",
   "metadata": {},
   "outputs": [],
   "source": [
    "nc_model_original_values_12 = [ncComputor_model_1.NC(tf.expand_dims(x, axis=0)) for x in x_train_and_adversary[11000:12000]]\n"
   ]
  },
  {
   "cell_type": "code",
   "execution_count": 35,
   "id": "d32d7b22",
   "metadata": {},
   "outputs": [],
   "source": [
    "nc_model_original_values_13 = [ncComputor_model_1.NC(tf.expand_dims(x, axis=0)) for x in x_train_and_adversary[12000:13000]]\n",
    "nc_model_original_values_14 = [ncComputor_model_1.NC(tf.expand_dims(x, axis=0)) for x in x_train_and_adversary[13000:]]"
   ]
  },
  {
   "cell_type": "code",
   "execution_count": 36,
   "id": "a0cda7a2",
   "metadata": {},
   "outputs": [
    {
     "name": "stdout",
     "output_type": "stream",
     "text": [
      "C:\\Users\\fjdur\\Desktop\\upc\\project_notebooks\\github_project\\DL_notebooks\\NC_values\n"
     ]
    }
   ],
   "source": [
    "cd C:\\Users\\fjdur\\Desktop\\upc\\project_notebooks\\github_project\\DL_notebooks\\NC_values"
   ]
  },
  {
   "cell_type": "code",
   "execution_count": 37,
   "id": "b996c133",
   "metadata": {},
   "outputs": [],
   "source": [
    "nc_values = [\n",
    "    nc_model_original_values_1,\n",
    "    nc_model_original_values_2,\n",
    "    nc_model_original_values_3,\n",
    "    nc_model_original_values_4,\n",
    "    nc_model_original_values_5,\n",
    "    nc_model_original_values_6,\n",
    "    nc_model_original_values_7,\n",
    "    nc_model_original_values_8,\n",
    "    nc_model_original_values_9,\n",
    "    nc_model_original_values_10,\n",
    "    nc_model_original_values_11,\n",
    "    nc_model_original_values_12,\n",
    "    nc_model_original_values_13,\n",
    "    nc_model_original_values_14  \n",
    "]"
   ]
  },
  {
   "cell_type": "code",
   "execution_count": 38,
   "id": "ec0c29c7",
   "metadata": {},
   "outputs": [],
   "source": [
    "#Save nc values\n",
    "i=1\n",
    "for values in nc_values:\n",
    "    with open('intel_nc_values_'+str(i)+'.npy', 'wb') as f:\n",
    "        np.save(f, np.array(values))\n",
    "    i+=1"
   ]
  },
  {
   "cell_type": "markdown",
   "id": "b9a97d5b",
   "metadata": {},
   "source": [
    "## Random values"
   ]
  },
  {
   "cell_type": "code",
   "execution_count": null,
   "id": "25d4506f",
   "metadata": {},
   "outputs": [],
   "source": [
    "import random\n",
    "random_indexes =list(range(len(x_train_and_adversary)))\n",
    "random.shuffle(random_indexes)\n",
    "print(random_indexes[:10])\n",
    "print(len(random_indexes))"
   ]
  },
  {
   "cell_type": "code",
   "execution_count": null,
   "id": "593ef123",
   "metadata": {},
   "outputs": [],
   "source": [
    "save_dir = \"C:/Users/fjdur/Desktop/upc/project_notebooks/github_project/DL_notebooks/SA_values/intel_random_values_e2.npy\"\n",
    "\n",
    "np.save(save_dir,np.array(random_indexes))\n",
    "\n",
    "#random_indexes = np.load(save_dir)"
   ]
  }
 ],
 "metadata": {
  "kernelspec": {
   "display_name": "Python 3",
   "language": "python",
   "name": "python3"
  },
  "language_info": {
   "codemirror_mode": {
    "name": "ipython",
    "version": 3
   },
   "file_extension": ".py",
   "mimetype": "text/x-python",
   "name": "python",
   "nbconvert_exporter": "python",
   "pygments_lexer": "ipython3",
   "version": "3.8.8"
  }
 },
 "nbformat": 4,
 "nbformat_minor": 5
}
