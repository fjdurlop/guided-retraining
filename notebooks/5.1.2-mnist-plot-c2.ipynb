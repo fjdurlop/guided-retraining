{
 "cells": [
  {
   "cell_type": "code",
   "execution_count": 1,
   "id": "458bf345",
   "metadata": {},
   "outputs": [],
   "source": [
    "import argparse\n",
    "\n",
    "import numpy as np\n",
    "import tensorflow as tf\n",
    "import keras.backend as K\n",
    "\n",
    "import matplotlib.pyplot as plt\n",
    "\n",
    "from keras.utils import np_utils\n",
    "from keras.models import Sequential\n",
    "from keras.layers import Dense, Dropout, Activation, Flatten, Conv2D, MaxPooling2D\n",
    "from keras.regularizers import l2\n",
    "\n",
    "import glob\n",
    "import os\n",
    "import cv2\n",
    "import keras\n",
    "\n",
    "\n",
    "import time\n",
    "import argparse\n",
    "\n",
    "from tqdm import tqdm\n",
    "\n",
    "from keras.models import load_model, Model\n"
   ]
  },
  {
   "cell_type": "code",
   "execution_count": 2,
   "id": "d87645a5",
   "metadata": {},
   "outputs": [
    {
     "name": "stdout",
     "output_type": "stream",
     "text": [
      "C:\\Users\\fjdur\\Documents\\utils\n"
     ]
    }
   ],
   "source": [
    "cd C:/Users/fjdur/Documents/utils/"
   ]
  },
  {
   "cell_type": "code",
   "execution_count": 3,
   "id": "b4b5dea1",
   "metadata": {},
   "outputs": [
    {
     "name": "stdout",
     "output_type": "stream",
     "text": [
      "2.5.0\n",
      "keras\n",
      "2.5.0\n"
     ]
    }
   ],
   "source": [
    "import utils_guided_retraining as utils"
   ]
  },
  {
   "cell_type": "code",
   "execution_count": 4,
   "id": "a90d3511",
   "metadata": {},
   "outputs": [],
   "source": [
    "dataset = \"mnist\""
   ]
  },
  {
   "cell_type": "code",
   "execution_count": 5,
   "id": "07b34a1a",
   "metadata": {},
   "outputs": [],
   "source": [
    "x_test,y_test = utils.get_data(dataset,\"Test\")"
   ]
  },
  {
   "cell_type": "code",
   "execution_count": 6,
   "id": "244a4fbd",
   "metadata": {},
   "outputs": [],
   "source": [
    "x_train_and_adversary,y_train_and_adversary = utils.get_data(dataset,\"Train_and_adversary\")"
   ]
  },
  {
   "cell_type": "code",
   "execution_count": 7,
   "id": "739175c8",
   "metadata": {},
   "outputs": [],
   "source": [
    "x_test_and_adversary,y_test_and_adversary = utils.get_adversarial_data(dataset,'Test_adversarial') "
   ]
  },
  {
   "cell_type": "code",
   "execution_count": 8,
   "id": "0875bdf0",
   "metadata": {},
   "outputs": [],
   "source": [
    "\n",
    "model_dir = \"C:/Users/fjdur/Documents/upc-july/models/tf_model_25-06/\"\n",
    "if(dataset == 'gtsrb'):\n",
    "    model_dir = \"C:/Users/fjdur/Documents/upc-july/models/tf_model_25-06\"\n",
    "elif(dataset == 'intel'):\n",
    "    model_dir = \"C:/Users/fjdur/Documents/upc-july/models/intel_model_21_10\"\n",
    "elif(dataset == 'mnist'):\n",
    "    model_dir = \"C:/Users/fjdur/Documents/upc-july/models/models2\"\n",
    "elif(dataset == 'cifar'):\n",
    "    model_dir = \"C:/Users/fjdur/Documents/upc-july/models/model_02\"\n"
   ]
  },
  {
   "cell_type": "code",
   "execution_count": 9,
   "id": "1485065e",
   "metadata": {},
   "outputs": [
    {
     "name": "stdout",
     "output_type": "stream",
     "text": [
      "C:/Users/fjdur/Documents/upc-july/models/models2\n",
      "Model loaded correctly\n"
     ]
    }
   ],
   "source": [
    "print(model_dir)\n",
    "model_original = utils.My_model(dataset,True, model_dir)"
   ]
  },
  {
   "cell_type": "markdown",
   "id": "48e95400",
   "metadata": {},
   "source": [
    "## Loading models"
   ]
  },
  {
   "cell_type": "code",
   "execution_count": 10,
   "id": "a22156f9",
   "metadata": {},
   "outputs": [],
   "source": [
    "data_dir = \"D:/models/aug_22\"\n",
    "dataset = \"mnist\"\n",
    "config = \"C2\"\n",
    "config_lc = \"c2\"\n",
    "num_models = 20"
   ]
  },
  {
   "cell_type": "code",
   "execution_count": 11,
   "id": "c0dc05ec",
   "metadata": {},
   "outputs": [
    {
     "name": "stdout",
     "output_type": "stream",
     "text": [
      "D:/models/aug_22/mnist/C2/mnist_model_c2_aug_lsa_e1_0\n",
      "Model loaded correctly\n",
      "D:/models/aug_22/mnist/C2/mnist_model_c2_aug_lsa_e1_1\n",
      "Model loaded correctly\n",
      "D:/models/aug_22/mnist/C2/mnist_model_c2_aug_lsa_e1_2\n",
      "Model loaded correctly\n",
      "D:/models/aug_22/mnist/C2/mnist_model_c2_aug_lsa_e1_3\n",
      "Model loaded correctly\n",
      "D:/models/aug_22/mnist/C2/mnist_model_c2_aug_lsa_e1_4\n",
      "Model loaded correctly\n",
      "D:/models/aug_22/mnist/C2/mnist_model_c2_aug_lsa_e1_5\n",
      "Model loaded correctly\n",
      "D:/models/aug_22/mnist/C2/mnist_model_c2_aug_lsa_e1_6\n",
      "Model loaded correctly\n",
      "D:/models/aug_22/mnist/C2/mnist_model_c2_aug_lsa_e1_7\n",
      "Model loaded correctly\n",
      "D:/models/aug_22/mnist/C2/mnist_model_c2_aug_lsa_e1_8\n",
      "Model loaded correctly\n",
      "D:/models/aug_22/mnist/C2/mnist_model_c2_aug_lsa_e1_9\n",
      "Model loaded correctly\n",
      "D:/models/aug_22/mnist/C2/mnist_model_c2_aug_lsa_e1_10\n",
      "Model loaded correctly\n",
      "D:/models/aug_22/mnist/C2/mnist_model_c2_aug_lsa_e1_11\n",
      "Model loaded correctly\n",
      "D:/models/aug_22/mnist/C2/mnist_model_c2_aug_lsa_e1_12\n",
      "Model loaded correctly\n",
      "D:/models/aug_22/mnist/C2/mnist_model_c2_aug_lsa_e1_13\n",
      "Model loaded correctly\n",
      "D:/models/aug_22/mnist/C2/mnist_model_c2_aug_lsa_e1_14\n",
      "Model loaded correctly\n",
      "D:/models/aug_22/mnist/C2/mnist_model_c2_aug_lsa_e1_15\n",
      "Model loaded correctly\n",
      "D:/models/aug_22/mnist/C2/mnist_model_c2_aug_lsa_e1_16\n",
      "Model loaded correctly\n",
      "D:/models/aug_22/mnist/C2/mnist_model_c2_aug_lsa_e1_17\n",
      "Model loaded correctly\n",
      "D:/models/aug_22/mnist/C2/mnist_model_c2_aug_lsa_e1_18\n",
      "Model loaded correctly\n",
      "D:/models/aug_22/mnist/C2/mnist_model_c2_aug_lsa_e1_19\n",
      "Model loaded correctly\n"
     ]
    }
   ],
   "source": [
    "loading = True\n",
    "\n",
    "models_lsa = []\n",
    "\n",
    "if loading:\n",
    "    for i in range(num_models):\n",
    "        model_lsa_dir = data_dir+\"/\"+dataset+\"/C2/\"+dataset+\"_model_c2_aug_lsa_e1_\"+str(i)\n",
    "        print(model_lsa_dir)\n",
    "        model =utils.My_model(dataset,True,model_lsa_dir)\n",
    "        model.model.compile(loss= 'categorical_crossentropy', optimizer = 'rmsprop', metrics = ['accuracy',tf.keras.metrics.Precision(), tf.keras.metrics.Recall()])\n",
    "        models_lsa.append(model)\n",
    "       \n",
    "    "
   ]
  },
  {
   "cell_type": "code",
   "execution_count": null,
   "id": "6499958d",
   "metadata": {},
   "outputs": [],
   "source": [
    "len(models_lsa)"
   ]
  },
  {
   "cell_type": "code",
   "execution_count": 12,
   "id": "da4d6ed4",
   "metadata": {},
   "outputs": [
    {
     "name": "stdout",
     "output_type": "stream",
     "text": [
      "D:/models/aug_22/mnist/C2/mnist_model_c2_aug_dsa_e1_0\n",
      "Model loaded correctly\n",
      "D:/models/aug_22/mnist/C2/mnist_model_c2_aug_dsa_e1_1\n",
      "Model loaded correctly\n",
      "D:/models/aug_22/mnist/C2/mnist_model_c2_aug_dsa_e1_2\n",
      "Model loaded correctly\n",
      "D:/models/aug_22/mnist/C2/mnist_model_c2_aug_dsa_e1_3\n",
      "Model loaded correctly\n",
      "D:/models/aug_22/mnist/C2/mnist_model_c2_aug_dsa_e1_4\n",
      "Model loaded correctly\n",
      "D:/models/aug_22/mnist/C2/mnist_model_c2_aug_dsa_e1_5\n",
      "Model loaded correctly\n",
      "D:/models/aug_22/mnist/C2/mnist_model_c2_aug_dsa_e1_6\n",
      "Model loaded correctly\n",
      "D:/models/aug_22/mnist/C2/mnist_model_c2_aug_dsa_e1_7\n",
      "Model loaded correctly\n",
      "D:/models/aug_22/mnist/C2/mnist_model_c2_aug_dsa_e1_8\n",
      "Model loaded correctly\n",
      "D:/models/aug_22/mnist/C2/mnist_model_c2_aug_dsa_e1_9\n",
      "Model loaded correctly\n",
      "D:/models/aug_22/mnist/C2/mnist_model_c2_aug_dsa_e1_10\n",
      "Model loaded correctly\n",
      "D:/models/aug_22/mnist/C2/mnist_model_c2_aug_dsa_e1_11\n",
      "Model loaded correctly\n",
      "D:/models/aug_22/mnist/C2/mnist_model_c2_aug_dsa_e1_12\n",
      "Model loaded correctly\n",
      "D:/models/aug_22/mnist/C2/mnist_model_c2_aug_dsa_e1_13\n",
      "Model loaded correctly\n",
      "D:/models/aug_22/mnist/C2/mnist_model_c2_aug_dsa_e1_14\n",
      "Model loaded correctly\n",
      "D:/models/aug_22/mnist/C2/mnist_model_c2_aug_dsa_e1_15\n",
      "Model loaded correctly\n",
      "D:/models/aug_22/mnist/C2/mnist_model_c2_aug_dsa_e1_16\n",
      "Model loaded correctly\n",
      "D:/models/aug_22/mnist/C2/mnist_model_c2_aug_dsa_e1_17\n",
      "Model loaded correctly\n",
      "D:/models/aug_22/mnist/C2/mnist_model_c2_aug_dsa_e1_18\n",
      "Model loaded correctly\n",
      "D:/models/aug_22/mnist/C2/mnist_model_c2_aug_dsa_e1_19\n",
      "Model loaded correctly\n"
     ]
    }
   ],
   "source": [
    "loading = True\n",
    "\n",
    "models_dsa = []\n",
    "\n",
    "if loading:\n",
    "    for i in range(num_models):\n",
    "        #model_dsa_dir = \"D:/models/gtsrb_models/C1/gtsrb_model_c1_sep_dsa_e2_\"+str(i)\n",
    "        model_dsa_dir = data_dir+\"/\"+dataset+\"/C2/\"+dataset+\"_model_c2_aug_dsa_e1_\"+str(i)\n",
    "        print(model_dsa_dir)\n",
    "        model =utils.My_model(dataset,True,model_dsa_dir)\n",
    "        model.model.compile(loss= 'categorical_crossentropy', optimizer = 'rmsprop', metrics = ['accuracy',tf.keras.metrics.Precision(), tf.keras.metrics.Recall()])\n",
    "        models_dsa.append(model)\n",
    "       \n",
    "\n",
    "    "
   ]
  },
  {
   "cell_type": "code",
   "execution_count": 13,
   "id": "0a4a7c64",
   "metadata": {
    "scrolled": true
   },
   "outputs": [
    {
     "name": "stdout",
     "output_type": "stream",
     "text": [
      "D:/models/aug_22/mnist/C2/mnist_model_c2_aug_dg_e1_0\n",
      "Model loaded correctly\n",
      "D:/models/aug_22/mnist/C2/mnist_model_c2_aug_dg_e1_1\n",
      "Model loaded correctly\n",
      "D:/models/aug_22/mnist/C2/mnist_model_c2_aug_dg_e1_2\n",
      "Model loaded correctly\n",
      "D:/models/aug_22/mnist/C2/mnist_model_c2_aug_dg_e1_3\n",
      "Model loaded correctly\n",
      "D:/models/aug_22/mnist/C2/mnist_model_c2_aug_dg_e1_4\n",
      "Model loaded correctly\n",
      "D:/models/aug_22/mnist/C2/mnist_model_c2_aug_dg_e1_5\n",
      "Model loaded correctly\n",
      "D:/models/aug_22/mnist/C2/mnist_model_c2_aug_dg_e1_6\n",
      "Model loaded correctly\n",
      "D:/models/aug_22/mnist/C2/mnist_model_c2_aug_dg_e1_7\n",
      "Model loaded correctly\n",
      "D:/models/aug_22/mnist/C2/mnist_model_c2_aug_dg_e1_8\n",
      "Model loaded correctly\n",
      "D:/models/aug_22/mnist/C2/mnist_model_c2_aug_dg_e1_9\n",
      "Model loaded correctly\n",
      "D:/models/aug_22/mnist/C2/mnist_model_c2_aug_dg_e1_10\n",
      "Model loaded correctly\n",
      "D:/models/aug_22/mnist/C2/mnist_model_c2_aug_dg_e1_11\n",
      "Model loaded correctly\n",
      "D:/models/aug_22/mnist/C2/mnist_model_c2_aug_dg_e1_12\n",
      "Model loaded correctly\n",
      "D:/models/aug_22/mnist/C2/mnist_model_c2_aug_dg_e1_13\n",
      "Model loaded correctly\n",
      "D:/models/aug_22/mnist/C2/mnist_model_c2_aug_dg_e1_14\n",
      "Model loaded correctly\n",
      "D:/models/aug_22/mnist/C2/mnist_model_c2_aug_dg_e1_15\n",
      "Model loaded correctly\n",
      "D:/models/aug_22/mnist/C2/mnist_model_c2_aug_dg_e1_16\n",
      "Model loaded correctly\n",
      "D:/models/aug_22/mnist/C2/mnist_model_c2_aug_dg_e1_17\n",
      "Model loaded correctly\n",
      "D:/models/aug_22/mnist/C2/mnist_model_c2_aug_dg_e1_18\n",
      "Model loaded correctly\n",
      "D:/models/aug_22/mnist/C2/mnist_model_c2_aug_dg_e1_19\n",
      "Model loaded correctly\n"
     ]
    }
   ],
   "source": [
    "loading = True\n",
    "\n",
    "models_dg = []\n",
    "\n",
    "if loading:\n",
    "    for i in range(num_models):\n",
    "        #model_dg_dir = \"D:/models/aug_22/gtsrb/C1/gtsrb_model_c1_aug_gn_e1_\"+str(i)\n",
    "        model_dg_dir = data_dir+\"/\"+dataset+\"/C2/\"+dataset+\"_model_c2_aug_dg_e1_\"+str(i)\n",
    "        \n",
    "        print(model_dg_dir)\n",
    "        model =utils.My_model(dataset,True,model_dg_dir)\n",
    "        model.model.compile(loss= 'categorical_crossentropy', optimizer = 'rmsprop', metrics = ['accuracy',tf.keras.metrics.Precision(), tf.keras.metrics.Recall()])\n",
    "        models_dg.append(model)\n",
    "       \n",
    "    "
   ]
  },
  {
   "cell_type": "code",
   "execution_count": 14,
   "id": "9301cc38",
   "metadata": {},
   "outputs": [
    {
     "name": "stdout",
     "output_type": "stream",
     "text": [
      "D:/models/aug_22/mnist/C2/mnist_model_c2_aug_se_e1_0\n",
      "Model loaded correctly\n",
      "D:/models/aug_22/mnist/C2/mnist_model_c2_aug_se_e1_1\n",
      "Model loaded correctly\n",
      "D:/models/aug_22/mnist/C2/mnist_model_c2_aug_se_e1_2\n",
      "Model loaded correctly\n",
      "D:/models/aug_22/mnist/C2/mnist_model_c2_aug_se_e1_3\n",
      "Model loaded correctly\n",
      "D:/models/aug_22/mnist/C2/mnist_model_c2_aug_se_e1_4\n",
      "Model loaded correctly\n",
      "D:/models/aug_22/mnist/C2/mnist_model_c2_aug_se_e1_5\n",
      "Model loaded correctly\n",
      "D:/models/aug_22/mnist/C2/mnist_model_c2_aug_se_e1_6\n",
      "Model loaded correctly\n",
      "D:/models/aug_22/mnist/C2/mnist_model_c2_aug_se_e1_7\n",
      "Model loaded correctly\n",
      "D:/models/aug_22/mnist/C2/mnist_model_c2_aug_se_e1_8\n",
      "Model loaded correctly\n",
      "D:/models/aug_22/mnist/C2/mnist_model_c2_aug_se_e1_9\n",
      "Model loaded correctly\n",
      "D:/models/aug_22/mnist/C2/mnist_model_c2_aug_se_e1_10\n",
      "Model loaded correctly\n",
      "D:/models/aug_22/mnist/C2/mnist_model_c2_aug_se_e1_11\n",
      "Model loaded correctly\n",
      "D:/models/aug_22/mnist/C2/mnist_model_c2_aug_se_e1_12\n",
      "Model loaded correctly\n",
      "D:/models/aug_22/mnist/C2/mnist_model_c2_aug_se_e1_13\n",
      "Model loaded correctly\n",
      "D:/models/aug_22/mnist/C2/mnist_model_c2_aug_se_e1_14\n",
      "Model loaded correctly\n",
      "D:/models/aug_22/mnist/C2/mnist_model_c2_aug_se_e1_15\n",
      "Model loaded correctly\n",
      "D:/models/aug_22/mnist/C2/mnist_model_c2_aug_se_e1_16\n",
      "Model loaded correctly\n",
      "D:/models/aug_22/mnist/C2/mnist_model_c2_aug_se_e1_17\n",
      "Model loaded correctly\n",
      "D:/models/aug_22/mnist/C2/mnist_model_c2_aug_se_e1_18\n",
      "Model loaded correctly\n",
      "D:/models/aug_22/mnist/C2/mnist_model_c2_aug_se_e1_19\n",
      "Model loaded correctly\n"
     ]
    }
   ],
   "source": [
    "loading = True\n",
    "\n",
    "models_se = []\n",
    "\n",
    "if loading:\n",
    "    for i in range(num_models):\n",
    "        \n",
    "        model_se_dir = data_dir+\"/\"+dataset+\"/C2/\"+dataset+\"_model_c2_aug_se_e1_\"+str(i)\n",
    "        \n",
    "        print(model_se_dir)\n",
    "        model =utils.My_model(dataset,True,model_se_dir)\n",
    "        model.model.compile(loss= 'categorical_crossentropy', optimizer = 'rmsprop', metrics = ['accuracy',tf.keras.metrics.Precision(), tf.keras.metrics.Recall()])\n",
    "        models_se.append(model)"
   ]
  },
  {
   "cell_type": "code",
   "execution_count": 15,
   "id": "eb1718e3",
   "metadata": {},
   "outputs": [
    {
     "name": "stdout",
     "output_type": "stream",
     "text": [
      "D:/models/aug_22/mnist/C2/mnist_model_c2_aug_random_e1_0\n",
      "Model loaded correctly\n",
      "D:/models/aug_22/mnist/C2/mnist_model_c2_aug_random_e1_1\n",
      "Model loaded correctly\n",
      "D:/models/aug_22/mnist/C2/mnist_model_c2_aug_random_e1_2\n",
      "Model loaded correctly\n",
      "D:/models/aug_22/mnist/C2/mnist_model_c2_aug_random_e1_3\n",
      "Model loaded correctly\n",
      "D:/models/aug_22/mnist/C2/mnist_model_c2_aug_random_e1_4\n",
      "Model loaded correctly\n",
      "D:/models/aug_22/mnist/C2/mnist_model_c2_aug_random_e1_5\n",
      "Model loaded correctly\n",
      "D:/models/aug_22/mnist/C2/mnist_model_c2_aug_random_e1_6\n",
      "Model loaded correctly\n",
      "D:/models/aug_22/mnist/C2/mnist_model_c2_aug_random_e1_7\n",
      "Model loaded correctly\n",
      "D:/models/aug_22/mnist/C2/mnist_model_c2_aug_random_e1_8\n",
      "Model loaded correctly\n",
      "D:/models/aug_22/mnist/C2/mnist_model_c2_aug_random_e1_9\n",
      "Model loaded correctly\n",
      "D:/models/aug_22/mnist/C2/mnist_model_c2_aug_random_e1_10\n",
      "Model loaded correctly\n",
      "D:/models/aug_22/mnist/C2/mnist_model_c2_aug_random_e1_11\n",
      "Model loaded correctly\n",
      "D:/models/aug_22/mnist/C2/mnist_model_c2_aug_random_e1_12\n",
      "Model loaded correctly\n",
      "D:/models/aug_22/mnist/C2/mnist_model_c2_aug_random_e1_13\n",
      "Model loaded correctly\n",
      "D:/models/aug_22/mnist/C2/mnist_model_c2_aug_random_e1_14\n",
      "Model loaded correctly\n",
      "D:/models/aug_22/mnist/C2/mnist_model_c2_aug_random_e1_15\n",
      "Model loaded correctly\n",
      "D:/models/aug_22/mnist/C2/mnist_model_c2_aug_random_e1_16\n",
      "Model loaded correctly\n",
      "D:/models/aug_22/mnist/C2/mnist_model_c2_aug_random_e1_17\n",
      "Model loaded correctly\n",
      "D:/models/aug_22/mnist/C2/mnist_model_c2_aug_random_e1_18\n",
      "Model loaded correctly\n",
      "D:/models/aug_22/mnist/C2/mnist_model_c2_aug_random_e1_19\n",
      "Model loaded correctly\n"
     ]
    }
   ],
   "source": [
    "loading = True\n",
    "\n",
    "models_random = []\n",
    "\n",
    "if loading:\n",
    "    for i in range(num_models):\n",
    "        #model_random_dir = \"D:/models/aug_22/gtsrb/C1/gtsrb_model_c1_aug_random_e1_\"+str(i)\n",
    "        model_random_dir = data_dir+\"/\"+dataset+\"/C2/\"+dataset+\"_model_c2_aug_random_e1_\"+str(i)\n",
    "        \n",
    "        print(model_random_dir)\n",
    "        model =utils.My_model(dataset,True,model_random_dir)\n",
    "        model.model.compile(loss= 'categorical_crossentropy', optimizer = 'rmsprop', metrics = ['accuracy',tf.keras.metrics.Precision(), tf.keras.metrics.Recall()])\n",
    "        models_random.append(model)\n",
    "       "
   ]
  },
  {
   "cell_type": "code",
   "execution_count": 16,
   "id": "b9860981",
   "metadata": {
    "scrolled": true
   },
   "outputs": [
    {
     "name": "stdout",
     "output_type": "stream",
     "text": [
      "D:/models/aug_22/mnist/C2/mnist_model_c2_aug_nc_e1_0\n",
      "Model loaded correctly\n",
      "D:/models/aug_22/mnist/C2/mnist_model_c2_aug_nc_e1_1\n",
      "Model loaded correctly\n",
      "D:/models/aug_22/mnist/C2/mnist_model_c2_aug_nc_e1_2\n",
      "Model loaded correctly\n",
      "D:/models/aug_22/mnist/C2/mnist_model_c2_aug_nc_e1_3\n",
      "Model loaded correctly\n",
      "D:/models/aug_22/mnist/C2/mnist_model_c2_aug_nc_e1_4\n",
      "Model loaded correctly\n",
      "D:/models/aug_22/mnist/C2/mnist_model_c2_aug_nc_e1_5\n",
      "Model loaded correctly\n",
      "D:/models/aug_22/mnist/C2/mnist_model_c2_aug_nc_e1_6\n",
      "Model loaded correctly\n",
      "D:/models/aug_22/mnist/C2/mnist_model_c2_aug_nc_e1_7\n",
      "Model loaded correctly\n",
      "D:/models/aug_22/mnist/C2/mnist_model_c2_aug_nc_e1_8\n",
      "Model loaded correctly\n",
      "D:/models/aug_22/mnist/C2/mnist_model_c2_aug_nc_e1_9\n",
      "Model loaded correctly\n",
      "D:/models/aug_22/mnist/C2/mnist_model_c2_aug_nc_e1_10\n",
      "Model loaded correctly\n",
      "D:/models/aug_22/mnist/C2/mnist_model_c2_aug_nc_e1_11\n",
      "Model loaded correctly\n",
      "D:/models/aug_22/mnist/C2/mnist_model_c2_aug_nc_e1_12\n",
      "Model loaded correctly\n",
      "D:/models/aug_22/mnist/C2/mnist_model_c2_aug_nc_e1_13\n",
      "Model loaded correctly\n",
      "D:/models/aug_22/mnist/C2/mnist_model_c2_aug_nc_e1_14\n",
      "Model loaded correctly\n",
      "D:/models/aug_22/mnist/C2/mnist_model_c2_aug_nc_e1_15\n",
      "Model loaded correctly\n",
      "D:/models/aug_22/mnist/C2/mnist_model_c2_aug_nc_e1_16\n",
      "Model loaded correctly\n",
      "D:/models/aug_22/mnist/C2/mnist_model_c2_aug_nc_e1_17\n",
      "Model loaded correctly\n",
      "D:/models/aug_22/mnist/C2/mnist_model_c2_aug_nc_e1_18\n",
      "Model loaded correctly\n",
      "D:/models/aug_22/mnist/C2/mnist_model_c2_aug_nc_e1_19\n",
      "Model loaded correctly\n"
     ]
    }
   ],
   "source": [
    "loading = True\n",
    "\n",
    "models_nc = []\n",
    "\n",
    "if loading:\n",
    "    for i in range(num_models):\n",
    "        #model_nc_dir = \"D:/models/aug_22/\"+dataset+\"/C1/\"+dataset+\"_model_c1_aug_nc_e1\"+str\n",
    "        model_nc_dir = data_dir+\"/\"+dataset+\"/C2/\"+dataset+\"_model_c2_aug_nc_e1_\"+str(i)\n",
    "        print(model_nc_dir)\n",
    "        model =utils.My_model(dataset,True,model_nc_dir)\n",
    "        model.model.compile(loss= 'categorical_crossentropy', optimizer = 'rmsprop', metrics = ['accuracy',tf.keras.metrics.Precision(), tf.keras.metrics.Recall()])\n",
    "        models_nc.append(model)"
   ]
  },
  {
   "cell_type": "markdown",
   "id": "e02952dc",
   "metadata": {},
   "source": [
    "## Evaluating"
   ]
  },
  {
   "cell_type": "code",
   "execution_count": 17,
   "id": "cbc59f41",
   "metadata": {},
   "outputs": [],
   "source": [
    "model_original.model.compile(loss= 'categorical_crossentropy', optimizer = 'rmsprop', metrics = ['accuracy',tf.keras.metrics.Precision(), tf.keras.metrics.Recall()])"
   ]
  },
  {
   "cell_type": "code",
   "execution_count": 18,
   "id": "286ee29c",
   "metadata": {},
   "outputs": [
    {
     "name": "stdout",
     "output_type": "stream",
     "text": [
      "438/438 [==============================] - 47s 21ms/step - loss: 0.0427 - accuracy: 0.9886 - precision_120: 0.9919 - recall_120: 0.9906\n",
      "438/438 [==============================] - 9s 20ms/step - loss: 0.1094 - accuracy: 0.9770 - precision_120: 0.9839 - recall_120: 0.9656: 6s - loss: 0.0346 - accuracy: 0.9907 - precision_120: 0\n",
      "438/438 [==============================] - 9s 20ms/step - loss: 0.1094 - accuracy: 0.9770 - precision_120: 0.9830 - recall_120: 0.9624: 1s - loss: 0.0392 - accuracy: 0.9884 - precision_120: 0.9829 -  - ETA: 0s - loss: 0.0701 - accuracy: 0.9835 - precision_120: 0.9830 - reca\n",
      "438/438 [==============================] - 9s 21ms/step - loss: 0.1094 - accuracy: 0.9770 - precision_120: 0.9826 - recall_120: 0.9609\n",
      "438/438 [==============================] - 9s 21ms/step - loss: 0.1094 - accuracy: 0.9770 - precision_120: 0.9823 - recall_120: 0.9601: 1s - loss: 0.0510 - accuracy: 0.9867 - precision_120: 0.9824\n",
      "438/438 [==============================] - 9s 20ms/step - loss: 0.1094 - accuracy: 0.9770 - precision_120: 0.9822 - recall_120: 0.9596\n"
     ]
    }
   ],
   "source": [
    "evaluate_lsa = []\n",
    "evaluate_dsa = []\n",
    "evaluate_dg = []\n",
    "evaluate_se = []\n",
    "evaluate_nc = []\n",
    "evaluate_random = []\n",
    "\n",
    "evaluate_lsa.append(model_original.evaluate(x_test_and_adversary,y_test_and_adversary))\n",
    "evaluate_dsa.append(model_original.evaluate(x_test_and_adversary,y_test_and_adversary))\n",
    "evaluate_dg.append(model_original.evaluate(x_test_and_adversary,y_test_and_adversary))\n",
    "evaluate_se.append(model_original.evaluate(x_test_and_adversary,y_test_and_adversary))\n",
    "evaluate_nc.append(model_original.evaluate(x_test_and_adversary,y_test_and_adversary))\n",
    "evaluate_random.append(model_original.evaluate(x_test_and_adversary,y_test_and_adversary))"
   ]
  },
  {
   "cell_type": "code",
   "execution_count": 19,
   "id": "30633373",
   "metadata": {},
   "outputs": [
    {
     "name": "stdout",
     "output_type": "stream",
     "text": [
      "Evaluating for lsa\n",
      "438/438 [==============================] - 12s 21ms/step - loss: 0.0837 - accuracy: 0.9770 - precision: 0.9806 - recall: 0.9780 2s - loss: 0.0805 - accuracy: 0.9\n",
      "438/438 [==============================] - 11s 19ms/step - loss: 0.0800 - accuracy: 0.9784 - precision_1: 0.9804 - recall_1: 0.9746\n",
      "438/438 [==============================] - 11s 21ms/step - loss: 0.0674 - accuracy: 0.9809 - precision_2: 0.9840 - recall_2: 0.9770\n",
      "438/438 [==============================] - 12s 21ms/step - loss: 0.1242 - accuracy: 0.9720 - precision_3: 0.9733 - recall_3: 0.9724\n",
      "438/438 [==============================] - 11s 20ms/step - loss: 0.1060 - accuracy: 0.9723 - precision_4: 0.9759 - recall_4: 0.9679\n",
      "438/438 [==============================] - 13s 22ms/step - loss: 0.1173 - accuracy: 0.9658 - precision_5: 0.9698 - recall_5: 0.9564\n",
      "438/438 [==============================] - ETA: 0s - loss: 0.1148 - accuracy: 0.9767 - precision_6: 0.9835 - recall_6: 0.967 - 13s 20ms/step - loss: 0.1149 - accuracy: 0.9766 - precision_6: 0.9835 - recall_6: 0.9678\n",
      "438/438 [==============================] - 12s 20ms/step - loss: 0.2721 - accuracy: 0.9393 - precision_7: 0.9541 - recall_7: 0.9061\n",
      "438/438 [==============================] - 11s 20ms/step - loss: 0.2330 - accuracy: 0.9500 - precision_8: 0.9626 - recall_8: 0.9240 0s - loss: 0.2328 - accuracy: 0.9501 - precision_8: 0.9627 - recall_8: 0\n",
      "438/438 [==============================] - 12s 21ms/step - loss: 0.2115 - accuracy: 0.9462 - precision_9: 0.9625 - recall_9: 0.9134 6s - loss: 0.2030 - accura - ETA: 3s - loss: 0.2092 - acc\n",
      "438/438 [==============================] - 11s 20ms/step - loss: 0.1984 - accuracy: 0.9537 - precision_10: 0.9613 - recall_10: 0.9539\n",
      "438/438 [==============================] - 11s 20ms/step - loss: 0.4180 - accuracy: 0.9144 - precision_11: 0.9309 - recall_11: 0.9033\n",
      "438/438 [==============================] - 12s 20ms/step - loss: 0.2014 - accuracy: 0.9517 - precision_12: 0.9663 - recall_12: 0.9414 6s - l - ETA: 1s - loss: 0.1956 - accuracy: 0.9527 - precision_\n",
      "438/438 [==============================] - 11s 19ms/step - loss: 0.2774 - accuracy: 0.9724 - precision_13: 0.9915 - recall_13: 0.8388\n",
      "438/438 [==============================] - 11s 20ms/step - loss: 0.1208 - accuracy: 0.9769 - precision_14: 0.9836 - recall_14: 0.9619\n",
      "438/438 [==============================] - 12s 21ms/step - loss: 0.1284 - accuracy: 0.9825 - precision_15: 0.9926 - recall_15: 0.9486\n",
      "438/438 [==============================] - 10s 18ms/step - loss: 0.0564 - accuracy: 0.9863 - precision_16: 0.9898 - recall_16: 0.9848 7s - l - ETA: 2s - loss: 0.0534 - accuracy: 0.9873 -  - ETA: 0s - loss: 0.0553 - accuracy: 0.9865 - precision_16: 0.9900 - rec\n",
      "438/438 [==============================] - 11s 19ms/step - loss: 0.1258 - accuracy: 0.9857 - precision_17: 0.9938 - recall_17: 0.9447 5s -  - ETA: 1s - loss: 0.1250 - accuracy: 0.9861 - precision_17: 0.994\n",
      "438/438 [==============================] - 11s 20ms/step - loss: 0.0507 - accuracy: 0.9874 - precision_18: 0.9902 - recall_18: 0.9892 2s - loss: 0.0480 - accuracy: 0.9879 - preci\n",
      "438/438 [==============================] - 11s 20ms/step - loss: 0.0443 - accuracy: 0.9900 - precision_19: 0.9924 - recall_19: 0.9920\n",
      "Evaluating for dsa\n",
      "438/438 [==============================] - 11s 20ms/step - loss: 0.0500 - accuracy: 0.9884 - precision_20: 0.9899 - recall_20: 0.9896\n",
      "438/438 [==============================] - 12s 21ms/step - loss: 0.0488 - accuracy: 0.9879 - precision_21: 0.9897 - recall_21: 0.9893 1s - loss: 0.0472 - accuracy: 0.9883 - precision_21\n",
      "438/438 [==============================] - 12s 19ms/step - loss: 0.0300 - accuracy: 0.9898 - precision_22: 0.9923 - recall_22: 0.9893 2s - loss: 0.0291 - accuracy: 0.9900 - p\n",
      "438/438 [==============================] - 13s 20ms/step - loss: 0.0462 - accuracy: 0.9896 - precision_23: 0.9923 - recall_23: 0.9917\n",
      "438/438 [==============================] - 11s 19ms/step - loss: 0.0369 - accuracy: 0.9893 - precision_24: 0.9919 - recall_24: 0.9905 0s - loss: 0.0365 - accuracy: 0.9894 - precision_24: 0.9920 - recall_\n",
      "438/438 [==============================] - 11s 19ms/step - loss: 0.0437 - accuracy: 0.9880 - precision_25: 0.9914 - recall_25: 0.9899 0s - loss: 0.0433 - accuracy: 0.9881 - precision_25: 0.9915 - recall_25:  - ETA: 0s - loss: 0.0436 - accuracy: 0.9881 - precision_25: 0.9914 - recall_25: 0.9\n",
      "438/438 [==============================] - 11s 20ms/step - loss: 0.0636 - accuracy: 0.9808 - precision_26: 0.9842 - recall_26: 0.9770 5s -  - ETA: 1s - loss: 0.0630 - accuracy: 0.9809 - precision_26: 0.9844 - re - ETA: 0s - loss: 0.0633 - accuracy: 0.9808 - precision_26: 0.9843 - recall_\n",
      "438/438 [==============================] - 12s 20ms/step - loss: 0.0358 - accuracy: 0.9894 - precision_27: 0.9906 - recall_27: 0.9888 1s - loss: 0.0349 - accuracy: 0.9896 - precisi\n",
      "438/438 [==============================] - 12s 20ms/step - loss: 0.0406 - accuracy: 0.9881 - precision_28: 0.9905 - recall_28: 0.9885\n",
      "438/438 [==============================] - 11s 19ms/step - loss: 0.0367 - accuracy: 0.9897 - precision_29: 0.9917 - recall_29: 0.9904 4s - \n",
      "438/438 [==============================] - 11s 19ms/step - loss: 0.0390 - accuracy: 0.9886 - precision_30: 0.9908 - recall_30: 0.9879 3s - loss: 0.0\n",
      "438/438 [==============================] - 11s 19ms/step - loss: 0.0402 - accuracy: 0.9884 - precision_31: 0.9911 - recall_31: 0.9896\n",
      "438/438 [==============================] - 11s 19ms/step - loss: 0.0458 - accuracy: 0.9867 - precision_32: 0.9906 - recall_32: 0.9860\n",
      "438/438 [==============================] - 11s 19ms/step - loss: 0.0466 - accuracy: 0.9880 - precision_33: 0.9908 - recall_33: 0.9896- ETA: 7s - loss: 0.0142 - accuracy: 0\n",
      "438/438 [==============================] - 11s 19ms/step - loss: 0.0440 - accuracy: 0.9898 - precision_34: 0.9923 - recall_34: 0.9916 2s - loss: 0.0415 - accuracy: 0.9904 \n",
      "438/438 [==============================] - 11s 19ms/step - loss: 0.0514 - accuracy: 0.9862 - precision_35: 0.9878 - recall_35: 0.9864\n",
      "438/438 [==============================] - 11s 19ms/step - loss: 0.0511 - accuracy: 0.9885 - precision_36: 0.9904 - recall_36: 0.9901 1s - loss: 0.0496 - accuracy: 0.9889 - precision\n",
      "438/438 [==============================] - 11s 19ms/step - loss: 0.0551 - accuracy: 0.9861 - precision_37: 0.9873 - recall_37: 0.9863 4s - loss\n",
      "438/438 [==============================] - 12s 19ms/step - loss: 0.0523 - accuracy: 0.9876 - precision_38: 0.9912 - recall_38: 0.9895 3s - loss: 0.0453 - accuracy: 0.9886 - precision_38: 0.99 - ETA: 2s - loss: 0.0488 - accuracy: 0.9881 \n",
      "438/438 [==============================] - 11s 19ms/step - loss: 0.0587 - accuracy: 0.9852 - precision_39: 0.9884 - recall_39: 0.9852\n",
      "Evaluating for random\n",
      "438/438 [==============================] - 11s 20ms/step - loss: 0.0397 - accuracy: 0.9887 - precision_80: 0.9909 - recall_80: 0.9900ETA: 11s - loss: 0.0153 - accuracy: 0.9963 - precision_80: 0.9992 - recall_80: 0.9992   - ETA: - ETA: 5\n",
      "438/438 [==============================] - 11s 19ms/step - loss: 0.0441 - accuracy: 0.9902 - precision_81: 0.9919 - recall_81: 0.9917\n",
      "438/438 [==============================] - 11s 19ms/step - loss: 0.0481 - accuracy: 0.9898 - precision_82: 0.9917 - recall_82: 0.9907 5s - loss: 0.0386 - accuracy: 0.9922 - precision_82: 0.9932  - ETA: 4s - loss - ETA: 0s - loss: 0.0467 - accuracy: 0.9901 - precision_82: 0.9918 - recall_\n",
      "438/438 [==============================] - 11s 19ms/step - loss: 0.0385 - accuracy: 0.9876 - precision_83: 0.9911 - recall_83: 0.9881 6s - loss: 0.0305 - accuracy: 0.9913 - precision_8\n",
      "438/438 [==============================] - 11s 19ms/step - loss: 0.0372 - accuracy: 0.9904 - precision_84: 0.9933 - recall_84: 0.9918 1s - loss: 0.0352 - accuracy: 0.9910 - precision_84:\n",
      "438/438 [==============================] - 11s 19ms/step - loss: 0.0526 - accuracy: 0.9877 - precision_85: 0.9913 - recall_85: 0.9869 6s - loss: 0.0420 - accuracy: 0.9927 - precision_85: 0.9922 - rec - ETA: 5s - loss: 0.0434 - accu - ETA: 2s - loss: 0.0488 - accuracy: 0.9889 - precision_85: 0.9918 - r - ETA: 1s - loss: 0.0497 - accuracy: 0.9885 - precision_85: 0.9916 - rec - ETA: 0s - loss: 0.0510 - accuracy: 0.9881 - precision_85: 0.9914 - recall_\n",
      "438/438 [==============================] - 11s 19ms/step - loss: 0.0361 - accuracy: 0.9901 - precision_86: 0.9919 - recall_86: 0.9911\n",
      "438/438 [==============================] - 11s 19ms/step - loss: 0.0431 - accuracy: 0.9872 - precision_87: 0.9909 - recall_87: 0.9888\n",
      "438/438 [==============================] - 11s 19ms/step - loss: 0.0403 - accuracy: 0.9904 - precision_88: 0.9922 - recall_88: 0.9916\n",
      "438/438 [==============================] - 11s 19ms/step - loss: 0.0385 - accuracy: 0.9898 - precision_89: 0.9917 - recall_89: 0.9910\n",
      "438/438 [==============================] - 11s 19ms/step - loss: 0.0482 - accuracy: 0.9866 - precision_90: 0.9887 - recall_90: 0.9874 4s\n",
      "438/438 [==============================] - 12s 20ms/step - loss: 0.0585 - accuracy: 0.9847 - precision_91: 0.9866 - recall_91: 0.9844\n",
      "438/438 [==============================] - 11s 20ms/step - loss: 0.0370 - accuracy: 0.9894 - precision_92: 0.9925 - recall_92: 0.9919\n",
      "438/438 [==============================] - 11s 20ms/step - loss: 0.0375 - accuracy: 0.9904 - precision_93: 0.9936 - recall_93: 0.9924\n",
      "438/438 [==============================] - 11s 20ms/step - loss: 0.0919 - accuracy: 0.9824 - precision_94: 0.9847 - recall_94: 0.9841\n",
      "438/438 [==============================] - 11s 20ms/step - loss: 0.0356 - accuracy: 0.9889 - precision_95: 0.9916 - recall_95: 0.9892 ETA: 1s - loss: 0.0346 - accuracy: 0.9892 - precision_95: 0.9918 - rec - ETA: 0s - loss: 0.0352 - accuracy: 0.9891 - precision_95: 0.9916 - recall_95:\n",
      "438/438 [==============================] - 11s 19ms/step - loss: 0.0516 - accuracy: 0.9852 - precision_96: 0.9898 - recall_96: 0.9840\n",
      "438/438 [==============================] - 11s 20ms/step - loss: 0.0446 - accuracy: 0.9882 - precision_97: 0.9909 - recall_97: 0.9900 0s - loss: 0.0436 - accuracy: 0.9884 - precision_97: 0.9912 - re\n",
      "438/438 [==============================] - 11s 20ms/step - loss: 0.0646 - accuracy: 0.9882 - precision_98: 0.9904 - recall_98: 0.9904 2s - loss: 0.0613 - accuracy: 0.9\n",
      "438/438 [==============================] - 11s 19ms/step - loss: 0.0410 - accuracy: 0.9896 - precision_99: 0.9917 - recall_99: 0.9907\n",
      "Evaluating for nc\n",
      "438/438 [==============================] - 11s 19ms/step - loss: 0.0528 - accuracy: 0.9865 - precision_100: 0.9886 - recall_100: 0.9853\n",
      "438/438 [==============================] - 11s 19ms/step - loss: 0.1278 - accuracy: 0.9700 - precision_101: 0.9779 - recall_101: 0.9665\n",
      "438/438 [==============================] - 11s 19ms/step - loss: 0.1016 - accuracy: 0.9738 - precision_102: 0.9781 - recall_102: 0.9751\n",
      "438/438 [==============================] - 11s 19ms/step - loss: 0.0834 - accuracy: 0.9786 - precision_103: 0.9840 - recall_103: 0.9772 0s - loss: 0.0828 - accuracy: 0.9787 - precision_103: 0.9840 - recall_103: 0.97\n",
      "438/438 [==============================] - 11s 20ms/step - loss: 0.0939 - accuracy: 0.9746 - precision_104: 0.9800 - recall_104: 0.9710\n",
      "438/438 [==============================] - 11s 19ms/step - loss: 0.1229 - accuracy: 0.9714 - precision_105: 0.9785 - recall_105: 0.9611\n",
      "438/438 [==============================] - 11s 20ms/step - loss: 0.2592 - accuracy: 0.9514 - precision_106: 0.9744 - recall_106: 0.8609\n",
      "438/438 [==============================] - 11s 19ms/step - loss: 0.2423 - accuracy: 0.9392 - precision_107: 0.9650 - recall_107: 0.8849\n",
      "438/438 [==============================] - 11s 19ms/step - loss: 0.1836 - accuracy: 0.9692 - precision_108: 0.9825 - recall_108: 0.9073 4s - loss: 0.1729 - accuracy: 0.9704 - precision_108: 0.9844 - recall_108: - ETA: 4s - loss: 0.1740 - accuracy: 0.9702 - precision_108: 0.9842 - recall_108: 0.90 - ETA: 4s - loss: 0\n",
      "438/438 [==============================] - 11s 19ms/step - loss: 0.1130 - accuracy: 0.9768 - precision_109: 0.9828 - recall_109: 0.9598 7s - loss: 0.0916 - - ETA: 4s - loss: 0.\n",
      "438/438 [==============================] - 11s 19ms/step - loss: 0.0780 - accuracy: 0.9799 - precision_110: 0.9831 - recall_110: 0.9800\n",
      "438/438 [==============================] - 11s 19ms/step - loss: 0.0621 - accuracy: 0.9846 - precision_111: 0.9870 - recall_111: 0.9859\n",
      "438/438 [==============================] - 11s 19ms/step - loss: 0.1236 - accuracy: 0.9803 - precision_112: 0.9850 - recall_112: 0.9591 7s - loss: 0. - ETA: 3s - loss: 0.1145 - accuracy: 0.9825 - precision_112:  - ETA: 1s - loss: 0.1174 - accuracy: 0.9817 - precision\n",
      "438/438 [==============================] - 11s 20ms/step - loss: 0.1513 - accuracy: 0.9699 - precision_113: 0.9800 - recall_113: 0.9455\n",
      "438/438 [==============================] - 11s 19ms/step - loss: 0.0552 - accuracy: 0.9842 - precision_114: 0.9895 - recall_114: 0.9832 7s - loss: 0.0329 - ac - ETA: 4s - loss: 0.0456 - accuracy: 0.9855 - precision_114: 0.9906 - recal - ETA: 3s - loss: 0.0473 - accuracy: 0.9852 - - ETA: 0s - loss: 0.0508 - accuracy: 0.9847 - precision_114: 0.9896 - re\n",
      "438/438 [==============================] - 11s 19ms/step - loss: 0.0585 - accuracy: 0.9871 - precision_115: 0.9910 - recall_115: 0.9808\n",
      "438/438 [==============================] - 11s 19ms/step - loss: 0.0594 - accuracy: 0.9848 - precision_116: 0.9877 - recall_116: 0.9826 6s - loss: 0.0474 - accuracy: 0.9864 - precision_116: 0. - ETA: 4s - loss: 0.0513 - accuracy: 0.9857 - prec - ETA: 2s - loss: 0.0543 - accuracy: 0.9854 \n",
      "438/438 [==============================] - 11s 19ms/step - loss: 0.0714 - accuracy: 0.9860 - precision_117: 0.9889 - recall_117: 0.9883\n",
      "438/438 [==============================] - 11s 19ms/step - loss: 0.0510 - accuracy: 0.9879 - precision_118: 0.9898 - recall_118: 0.9884\n",
      "438/438 [==============================] - 11s 19ms/step - loss: 0.0409 - accuracy: 0.9880 - precision_119: 0.9906 - recall_119: 0.9889\n"
     ]
    }
   ],
   "source": [
    "# Metrics using adversarial test\n",
    "\n",
    "#evaluate_lsa.append(model_original.evaluate(x_test_and_adversary,y_test_and_adversary))\n",
    "#evaluate_dsa.append(model_original.evaluate(x_test_and_adversary,y_test_and_adversary))\n",
    "#evaluate_nc.append(model_original.evaluate(x_test_and_adversary,y_test_and_adversary))\n",
    "#evaluate_random.append(model_original.evaluate(x_test_and_adversary,y_test_and_adversary))\n",
    "print(\"Evaluating for lsa\")\n",
    "for model in models_lsa:\n",
    "    evaluate_lsa.append(model.evaluate(x_test_and_adversary,y_test_and_adversary))\n",
    "    \n",
    "print(\"Evaluating for dsa\")\n",
    "for model in models_dsa:\n",
    "    evaluate_dsa.append(model.evaluate(x_test_and_adversary,y_test_and_adversary))\n",
    "print(\"Evaluating for random\")\n",
    "for model in models_random:\n",
    "    evaluate_random.append(model.evaluate(x_test_and_adversary,y_test_and_adversary))\n",
    "print(\"Evaluating for nc\")\n",
    "for model in models_nc:\n",
    "    evaluate_nc.append(model.evaluate(x_test_and_adversary,y_test_and_adversary))"
   ]
  },
  {
   "cell_type": "code",
   "execution_count": 20,
   "id": "ae3df5fe",
   "metadata": {},
   "outputs": [
    {
     "name": "stdout",
     "output_type": "stream",
     "text": [
      "Evaluating for dg\n",
      "438/438 [==============================] - 11s 20ms/step - loss: 0.0258 - accuracy: 0.9923 - precision_40: 0.9942 - recall_40: 0.9936\n",
      "438/438 [==============================] - 11s 20ms/step - loss: 0.0261 - accuracy: 0.9926 - precision_41: 0.9931 - recall_41: 0.9930\n",
      "438/438 [==============================] - 11s 20ms/step - loss: 0.0283 - accuracy: 0.9923 - precision_42: 0.9936 - recall_42: 0.9935 0s - loss: 0.0277 - accuracy: 0.9924 - precision_42: 0.9937 - recall_\n",
      "438/438 [==============================] - 11s 19ms/step - loss: 0.0219 - accuracy: 0.9932 - precision_43: 0.9939 - recall_43: 0.9936 7s - loss: 0.0151 - accuracy: 0. - ETA: 4s \n",
      "438/438 [==============================] - 11s 19ms/step - loss: 0.0193 - accuracy: 0.9942 - precision_44: 0.9954 - recall_44: 0.9948 5s - loss: 0.0141 - accuracy: 0.9957 - precision_44: 0.9963 -  - ETA: 4s - loss: 0.0152 - accuracy: 0.9954 - precisi - ETA: 2s - loss: 0.0173 - accuracy: 0\n",
      "438/438 [==============================] - 11s 19ms/step - loss: 0.0248 - accuracy: 0.9932 - precision_45: 0.9943 - recall_45: 0.9931\n",
      "438/438 [==============================] - 11s 20ms/step - loss: 0.0264 - accuracy: 0.9924 - precision_46: 0.9940 - recall_46: 0.9932\n",
      "438/438 [==============================] - 12s 20ms/step - loss: 0.0305 - accuracy: 0.9919 - precision_47: 0.9934 - recall_47: 0.9925\n",
      "438/438 [==============================] - 11s 19ms/step - loss: 0.0313 - accuracy: 0.9918 - precision_48: 0.9944 - recall_48: 0.9922 4\n",
      "438/438 [==============================] - 11s 19ms/step - loss: 0.0435 - accuracy: 0.9904 - precision_49: 0.9922 - recall_49: 0.9922 0s - loss: 0.0425 - accuracy: 0.9905 - precision_49: 0.9924 - rec\n",
      "438/438 [==============================] - 13s 19ms/step - loss: 0.0548 - accuracy: 0.9895 - precision_50: 0.9909 - recall_50: 0.9905\n",
      "438/438 [==============================] - 11s 19ms/step - loss: 0.0342 - accuracy: 0.9903 - precision_51: 0.9914 - recall_51: 0.9899\n",
      "438/438 [==============================] - 11s 20ms/step - loss: 0.0387 - accuracy: 0.9905 - precision_52: 0.9923 - recall_52: 0.9916 2s - loss: 0.0364 - accuracy: 0.9910 - p\n",
      "438/438 [==============================] - 11s 20ms/step - loss: 0.0416 - accuracy: 0.9876 - precision_53: 0.9904 - recall_53: 0.9882 6s - loss: 0.0345 - accuracy: - ETA: 3s - loss: 0.0387 - \n",
      "438/438 [==============================] - 11s 20ms/step - loss: 0.0526 - accuracy: 0.9884 - precision_54: 0.9902 - recall_54: 0.9902\n",
      "438/438 [==============================] - 11s 20ms/step - loss: 0.0419 - accuracy: 0.9880 - precision_55: 0.9916 - recall_55: 0.9865\n",
      "438/438 [==============================] - 11s 20ms/step - loss: 0.0429 - accuracy: 0.9890 - precision_56: 0.9914 - recall_56: 0.9877\n",
      "438/438 [==============================] - 11s 20ms/step - loss: 0.0510 - accuracy: 0.9879 - precision_57: 0.9896 - recall_57: 0.9890\n",
      "438/438 [==============================] - 11s 20ms/step - loss: 0.0434 - accuracy: 0.9880 - precision_58: 0.9924 - recall_58: 0.9858\n",
      "438/438 [==============================] - 11s 20ms/step - loss: 0.0387 - accuracy: 0.9904 - precision_59: 0.9942 - recall_59: 0.9893\n",
      "Evaluating for se\n",
      "438/438 [==============================] - 12s 21ms/step - loss: 0.0320 - accuracy: 0.9920 - precision_60: 0.9935 - recall_60: 0.9931\n",
      "438/438 [==============================] - 12s 21ms/step - loss: 0.0250 - accuracy: 0.9914 - precision_61: 0.9930 - recall_61: 0.9924\n",
      "438/438 [==============================] - 12s 20ms/step - loss: 0.0277 - accuracy: 0.9933 - precision_62: 0.9944 - recall_62: 0.9940\n",
      "438/438 [==============================] - 11s 20ms/step - loss: 0.0284 - accuracy: 0.9917 - precision_63: 0.9927 - recall_63: 0.9924 3s - loss: 0.0259 - accura\n",
      "438/438 [==============================] - 11s 20ms/step - loss: 0.0276 - accuracy: 0.9933 - precision_64: 0.9960 - recall_64: 0.9911 0s - loss: 0.0275 - accuracy: 0.9933 - precision_64: 0.9961 - recall_64: 0\n",
      "438/438 [==============================] - 11s 20ms/step - loss: 0.0540 - accuracy: 0.9880 - precision_65: 0.9924 - recall_65: 0.9828\n",
      "438/438 [==============================] - 11s 20ms/step - loss: 0.0267 - accuracy: 0.9923 - precision_66: 0.9945 - recall_66: 0.9932 4s -\n",
      "438/438 [==============================] - 11s 20ms/step - loss: 0.0245 - accuracy: 0.9928 - precision_67: 0.9949 - recall_67: 0.9931\n",
      "438/438 [==============================] - 11s 20ms/step - loss: 0.0303 - accuracy: 0.9922 - precision_68: 0.9939 - recall_68: 0.9934\n",
      "438/438 [==============================] - 11s 20ms/step - loss: 0.0292 - accuracy: 0.9911 - precision_69: 0.9928 - recall_69: 0.9927\n",
      "438/438 [==============================] - 11s 20ms/step - loss: 0.0396 - accuracy: 0.9906 - precision_70: 0.9928 - recall_70: 0.9917\n",
      "438/438 [==============================] - 11s 20ms/step - loss: 0.0364 - accuracy: 0.9908 - precision_71: 0.9920 - recall_71: 0.9918 1s - loss: 0.0348 - accuracy: 0.9911 - precis\n",
      "438/438 [==============================] - 11s 20ms/step - loss: 0.0538 - accuracy: 0.9886 - precision_72: 0.9916 - recall_72: 0.9913\n",
      "438/438 [==============================] - 11s 20ms/step - loss: 0.0658 - accuracy: 0.9864 - precision_73: 0.9882 - recall_73: 0.9881 3s - loss: 0.\n",
      "438/438 [==============================] - 11s 20ms/step - loss: 0.0455 - accuracy: 0.9888 - precision_74: 0.9911 - recall_74: 0.9904\n",
      "438/438 [==============================] - 11s 20ms/step - loss: 0.0586 - accuracy: 0.9879 - precision_75: 0.9897 - recall_75: 0.9895\n",
      "438/438 [==============================] - 11s 20ms/step - loss: 0.0403 - accuracy: 0.9896 - precision_76: 0.9923 - recall_76: 0.9904 4s - loss: 0.0348 - accuracy: 0.9912 - precision_76: 0 - ETA: 3s - loss: 0.0372 - a\n",
      "438/438 [==============================] - 11s 20ms/step - loss: 0.0447 - accuracy: 0.9899 - precision_77: 0.9922 - recall_77: 0.9915\n",
      "438/438 [==============================] - 11s 20ms/step - loss: 0.0705 - accuracy: 0.9860 - precision_78: 0.9874 - recall_78: 0.9870\n",
      "438/438 [==============================] - 11s 20ms/step - loss: 0.0556 - accuracy: 0.9862 - precision_79: 0.9904 - recall_79: 0.9801\n"
     ]
    }
   ],
   "source": [
    "print(\"Evaluating for dg\")\n",
    "for model in models_dg:\n",
    "    evaluate_dg.append(model.evaluate(x_test_and_adversary,y_test_and_adversary))\n",
    "    \n",
    "print(\"Evaluating for se\")\n",
    "for model in models_se:\n",
    "    evaluate_se.append(model.evaluate(x_test_and_adversary,y_test_and_adversary))\n"
   ]
  },
  {
   "cell_type": "code",
   "execution_count": 21,
   "id": "2141a097",
   "metadata": {},
   "outputs": [
    {
     "data": {
      "text/plain": [
       "21"
      ]
     },
     "execution_count": 21,
     "metadata": {},
     "output_type": "execute_result"
    }
   ],
   "source": [
    "len(evaluate_dg)"
   ]
  },
  {
   "cell_type": "code",
   "execution_count": null,
   "id": "e48d1822",
   "metadata": {},
   "outputs": [],
   "source": [
    "len(evaluate_nc)"
   ]
  },
  {
   "cell_type": "code",
   "execution_count": 22,
   "id": "ba831e22",
   "metadata": {},
   "outputs": [],
   "source": [
    "import pandas as pd\n",
    "\n",
    "df_evaluate_lsa = pd.DataFrame(np.array(evaluate_lsa),columns=[\"loss\",\"accuracy\",\"precision\",\"recall\"])\n",
    "df_evaluate_dsa = pd.DataFrame(np.array(evaluate_dsa),columns=[\"loss\",\"accuracy\",\"precision\",\"recall\"])\n",
    "df_evaluate_dg = pd.DataFrame(np.array(evaluate_dg),columns=[\"loss\",\"accuracy\",\"precision\",\"recall\"])\n",
    "df_evaluate_se = pd.DataFrame(np.array(evaluate_se),columns=[\"loss\",\"accuracy\",\"precision\",\"recall\"])\n",
    "\n",
    "df_evaluate_random = pd.DataFrame(np.array(evaluate_random),columns=[\"loss\",\"accuracy\",\"precision\",\"recall\"])\n",
    "df_evaluate_nc = pd.DataFrame(np.array(evaluate_nc),columns=[\"loss\",\"accuracy\",\"precision\",\"recall\"])\n"
   ]
  },
  {
   "cell_type": "code",
   "execution_count": 11,
   "id": "d5eae8d4",
   "metadata": {},
   "outputs": [
    {
     "name": "stdout",
     "output_type": "stream",
     "text": [
      "D:/aug_graphs/mnist/c2\n"
     ]
    }
   ],
   "source": [
    "save_dir = \"D:/aug_graphs/\"+dataset+\"/\"+config_lc\n",
    "print(save_dir)"
   ]
  },
  {
   "cell_type": "code",
   "execution_count": 24,
   "id": "1fcc89a7",
   "metadata": {},
   "outputs": [],
   "source": [
    "df_evaluate_lsa.to_csv(save_dir+\"/lsa_\"+config_lc,index=False)\n",
    "df_evaluate_dsa.to_csv(save_dir+\"/dsa_\"+config_lc,index=False)\n",
    "df_evaluate_dg.to_csv(save_dir+\"/dg_\"+config_lc,index=False)\n",
    "df_evaluate_se.to_csv(save_dir+\"/se_\"+config_lc,index=False)\n",
    "df_evaluate_random.to_csv(save_dir+\"/random_\"+config_lc,index=False)\n",
    "df_evaluate_nc.to_csv(save_dir+\"/nc_\"+config_lc,index=False)"
   ]
  },
  {
   "cell_type": "code",
   "execution_count": 12,
   "id": "6b575e92",
   "metadata": {},
   "outputs": [],
   "source": [
    "import pandas as pd\n",
    "loading_csv = True\n",
    "if(loading_csv):\n",
    "    \n",
    "    df_evaluate_lsa = pd.read_csv(save_dir+\"/lsa_\"+config_lc)\n",
    "    df_evaluate_dsa = pd.read_csv(save_dir+\"/dsa_\"+config_lc)\n",
    "    df_evaluate_dg = pd.read_csv(save_dir+\"/dg_\"+config_lc)\n",
    "    df_evaluate_se = pd.read_csv(save_dir+\"/se_\"+config_lc)\n",
    "    df_evaluate_random = pd.read_csv(save_dir+\"/random_\"+config_lc)\n",
    "    df_evaluate_nc = pd.read_csv(save_dir+\"/nc_\"+config_lc)"
   ]
  },
  {
   "cell_type": "code",
   "execution_count": 13,
   "id": "434369a2",
   "metadata": {},
   "outputs": [
    {
     "data": {
      "text/html": [
       "<div>\n",
       "<style scoped>\n",
       "    .dataframe tbody tr th:only-of-type {\n",
       "        vertical-align: middle;\n",
       "    }\n",
       "\n",
       "    .dataframe tbody tr th {\n",
       "        vertical-align: top;\n",
       "    }\n",
       "\n",
       "    .dataframe thead th {\n",
       "        text-align: right;\n",
       "    }\n",
       "</style>\n",
       "<table border=\"1\" class=\"dataframe\">\n",
       "  <thead>\n",
       "    <tr style=\"text-align: right;\">\n",
       "      <th></th>\n",
       "      <th>loss</th>\n",
       "      <th>accuracy</th>\n",
       "      <th>precision</th>\n",
       "      <th>recall</th>\n",
       "    </tr>\n",
       "  </thead>\n",
       "  <tbody>\n",
       "    <tr>\n",
       "      <th>0</th>\n",
       "      <td>0.109429</td>\n",
       "      <td>0.977000</td>\n",
       "      <td>0.982950</td>\n",
       "      <td>0.962366</td>\n",
       "    </tr>\n",
       "    <tr>\n",
       "      <th>1</th>\n",
       "      <td>0.036311</td>\n",
       "      <td>0.988857</td>\n",
       "      <td>0.992743</td>\n",
       "      <td>0.991640</td>\n",
       "    </tr>\n",
       "    <tr>\n",
       "      <th>2</th>\n",
       "      <td>0.033347</td>\n",
       "      <td>0.991071</td>\n",
       "      <td>0.992745</td>\n",
       "      <td>0.992553</td>\n",
       "    </tr>\n",
       "    <tr>\n",
       "      <th>3</th>\n",
       "      <td>0.039699</td>\n",
       "      <td>0.990429</td>\n",
       "      <td>0.992507</td>\n",
       "      <td>0.992277</td>\n",
       "    </tr>\n",
       "    <tr>\n",
       "      <th>4</th>\n",
       "      <td>0.031188</td>\n",
       "      <td>0.991071</td>\n",
       "      <td>0.993335</td>\n",
       "      <td>0.992950</td>\n",
       "    </tr>\n",
       "    <tr>\n",
       "      <th>5</th>\n",
       "      <td>0.027133</td>\n",
       "      <td>0.992286</td>\n",
       "      <td>0.994377</td>\n",
       "      <td>0.993784</td>\n",
       "    </tr>\n",
       "    <tr>\n",
       "      <th>6</th>\n",
       "      <td>0.032072</td>\n",
       "      <td>0.991357</td>\n",
       "      <td>0.993698</td>\n",
       "      <td>0.992023</td>\n",
       "    </tr>\n",
       "    <tr>\n",
       "      <th>7</th>\n",
       "      <td>0.033316</td>\n",
       "      <td>0.989857</td>\n",
       "      <td>0.992886</td>\n",
       "      <td>0.991895</td>\n",
       "    </tr>\n",
       "    <tr>\n",
       "      <th>8</th>\n",
       "      <td>0.038026</td>\n",
       "      <td>0.989714</td>\n",
       "      <td>0.992002</td>\n",
       "      <td>0.990955</td>\n",
       "    </tr>\n",
       "    <tr>\n",
       "      <th>9</th>\n",
       "      <td>0.040838</td>\n",
       "      <td>0.988857</td>\n",
       "      <td>0.992910</td>\n",
       "      <td>0.991075</td>\n",
       "    </tr>\n",
       "    <tr>\n",
       "      <th>10</th>\n",
       "      <td>0.058132</td>\n",
       "      <td>0.988071</td>\n",
       "      <td>0.990393</td>\n",
       "      <td>0.990315</td>\n",
       "    </tr>\n",
       "    <tr>\n",
       "      <th>11</th>\n",
       "      <td>0.065036</td>\n",
       "      <td>0.987571</td>\n",
       "      <td>0.989540</td>\n",
       "      <td>0.989295</td>\n",
       "    </tr>\n",
       "    <tr>\n",
       "      <th>12</th>\n",
       "      <td>0.041649</td>\n",
       "      <td>0.987929</td>\n",
       "      <td>0.990866</td>\n",
       "      <td>0.988896</td>\n",
       "    </tr>\n",
       "    <tr>\n",
       "      <th>13</th>\n",
       "      <td>0.050020</td>\n",
       "      <td>0.988000</td>\n",
       "      <td>0.991009</td>\n",
       "      <td>0.990039</td>\n",
       "    </tr>\n",
       "    <tr>\n",
       "      <th>14</th>\n",
       "      <td>0.053413</td>\n",
       "      <td>0.984000</td>\n",
       "      <td>0.988983</td>\n",
       "      <td>0.986318</td>\n",
       "    </tr>\n",
       "    <tr>\n",
       "      <th>15</th>\n",
       "      <td>0.066179</td>\n",
       "      <td>0.986429</td>\n",
       "      <td>0.988445</td>\n",
       "      <td>0.988384</td>\n",
       "    </tr>\n",
       "    <tr>\n",
       "      <th>16</th>\n",
       "      <td>0.050085</td>\n",
       "      <td>0.985357</td>\n",
       "      <td>0.989790</td>\n",
       "      <td>0.984530</td>\n",
       "    </tr>\n",
       "    <tr>\n",
       "      <th>17</th>\n",
       "      <td>0.055143</td>\n",
       "      <td>0.985857</td>\n",
       "      <td>0.990355</td>\n",
       "      <td>0.986738</td>\n",
       "    </tr>\n",
       "    <tr>\n",
       "      <th>18</th>\n",
       "      <td>0.061909</td>\n",
       "      <td>0.985143</td>\n",
       "      <td>0.988161</td>\n",
       "      <td>0.987209</td>\n",
       "    </tr>\n",
       "    <tr>\n",
       "      <th>19</th>\n",
       "      <td>0.058476</td>\n",
       "      <td>0.984857</td>\n",
       "      <td>0.990834</td>\n",
       "      <td>0.984846</td>\n",
       "    </tr>\n",
       "    <tr>\n",
       "      <th>20</th>\n",
       "      <td>0.048876</td>\n",
       "      <td>0.987786</td>\n",
       "      <td>0.992914</td>\n",
       "      <td>0.987380</td>\n",
       "    </tr>\n",
       "  </tbody>\n",
       "</table>\n",
       "</div>"
      ],
      "text/plain": [
       "        loss  accuracy  precision    recall\n",
       "0   0.109429  0.977000   0.982950  0.962366\n",
       "1   0.036311  0.988857   0.992743  0.991640\n",
       "2   0.033347  0.991071   0.992745  0.992553\n",
       "3   0.039699  0.990429   0.992507  0.992277\n",
       "4   0.031188  0.991071   0.993335  0.992950\n",
       "5   0.027133  0.992286   0.994377  0.993784\n",
       "6   0.032072  0.991357   0.993698  0.992023\n",
       "7   0.033316  0.989857   0.992886  0.991895\n",
       "8   0.038026  0.989714   0.992002  0.990955\n",
       "9   0.040838  0.988857   0.992910  0.991075\n",
       "10  0.058132  0.988071   0.990393  0.990315\n",
       "11  0.065036  0.987571   0.989540  0.989295\n",
       "12  0.041649  0.987929   0.990866  0.988896\n",
       "13  0.050020  0.988000   0.991009  0.990039\n",
       "14  0.053413  0.984000   0.988983  0.986318\n",
       "15  0.066179  0.986429   0.988445  0.988384\n",
       "16  0.050085  0.985357   0.989790  0.984530\n",
       "17  0.055143  0.985857   0.990355  0.986738\n",
       "18  0.061909  0.985143   0.988161  0.987209\n",
       "19  0.058476  0.984857   0.990834  0.984846\n",
       "20  0.048876  0.987786   0.992914  0.987380"
      ]
     },
     "execution_count": 13,
     "metadata": {},
     "output_type": "execute_result"
    }
   ],
   "source": [
    "df_evaluate_dg"
   ]
  },
  {
   "cell_type": "code",
   "execution_count": 14,
   "id": "3c21fd01",
   "metadata": {},
   "outputs": [],
   "source": [
    "\n",
    "metric =\"accuracy\"\n",
    "accuracy_lsa_3 = np.array(df_evaluate_lsa[metric])\n",
    "accuracy_dsa_3 = np.array(df_evaluate_dsa[metric])\n",
    "accuracy_dg_3 = np.array(df_evaluate_dg[metric])\n",
    "accuracy_se_3 = np.array(df_evaluate_se[metric])\n",
    "\n",
    "accuracy_nc_3 =np.array(df_evaluate_nc[metric])\n",
    "accuracy_random_3 = np.array(df_evaluate_random[metric])\n"
   ]
  },
  {
   "cell_type": "code",
   "execution_count": null,
   "id": "7aeb569b",
   "metadata": {},
   "outputs": [],
   "source": []
  },
  {
   "cell_type": "code",
   "execution_count": 15,
   "id": "9ed5051f",
   "metadata": {},
   "outputs": [],
   "source": [
    "n_data_points = 2800"
   ]
  },
  {
   "cell_type": "code",
   "execution_count": 16,
   "id": "43b61f22",
   "metadata": {},
   "outputs": [
    {
     "data": {
      "text/plain": [
       "21"
      ]
     },
     "execution_count": 16,
     "metadata": {},
     "output_type": "execute_result"
    }
   ],
   "source": [
    "len(accuracy_dsa_3)"
   ]
  },
  {
   "cell_type": "code",
   "execution_count": 17,
   "id": "f989196d",
   "metadata": {},
   "outputs": [
    {
     "data": {
      "text/plain": [
       "55998"
      ]
     },
     "execution_count": 17,
     "metadata": {},
     "output_type": "execute_result"
    }
   ],
   "source": [
    "len(x_train_and_adversary)"
   ]
  },
  {
   "cell_type": "code",
   "execution_count": 18,
   "id": "e67df87a",
   "metadata": {},
   "outputs": [
    {
     "name": "stdout",
     "output_type": "stream",
     "text": [
      "21\n"
     ]
    },
    {
     "data": {
      "text/plain": [
       "[0,\n",
       " 2800,\n",
       " 5600,\n",
       " 8400,\n",
       " 11200,\n",
       " 14000,\n",
       " 16800,\n",
       " 19600,\n",
       " 22400,\n",
       " 25200,\n",
       " 28000,\n",
       " 30800,\n",
       " 33600,\n",
       " 36400,\n",
       " 39200,\n",
       " 42000,\n",
       " 44800,\n",
       " 47600,\n",
       " 50400,\n",
       " 53200,\n",
       " 55998]"
      ]
     },
     "execution_count": 18,
     "metadata": {},
     "output_type": "execute_result"
    }
   ],
   "source": [
    "n_inputs = [n_data_points*i for i in range(num_models)]\n",
    "n_inputs.append(len(x_train_and_adversary))\n",
    "print(len(n_inputs))\n",
    "n_inputs"
   ]
  },
  {
   "cell_type": "code",
   "execution_count": 19,
   "id": "3cd2cd2d",
   "metadata": {},
   "outputs": [
    {
     "name": "stdout",
     "output_type": "stream",
     "text": [
      "21\n",
      "21\n"
     ]
    }
   ],
   "source": [
    "print(len(df_evaluate_dg))\n",
    "print(len(n_inputs))"
   ]
  },
  {
   "cell_type": "code",
   "execution_count": null,
   "id": "b484cf9a",
   "metadata": {},
   "outputs": [],
   "source": [
    "#save_dir = \"D:/aug_graphs/\"+dataset+\"/\"+config"
   ]
  },
  {
   "cell_type": "code",
   "execution_count": 20,
   "id": "04d02a6d",
   "metadata": {},
   "outputs": [],
   "source": [
    "linestyles = ['solid','dotted','dashed','dashed','dashdot','dashdot']\n",
    "colors =['b','g','r','c','m','k']"
   ]
  },
  {
   "cell_type": "code",
   "execution_count": 22,
   "id": "9d88b02f",
   "metadata": {},
   "outputs": [
    {
     "name": "stdout",
     "output_type": "stream",
     "text": [
      "55998 0.9873571395874025\n",
      "22400 0.9882143139839172\n",
      "14000 0.9922857284545898\n",
      "14000 0.9912142753601074\n",
      "55998 0.986642837524414\n",
      "55998 0.9860714077949524\n"
     ]
    },
    {
     "data": {
      "image/png": "[encoded data removed]",
      "text/plain": [
       "<Figure size 432x288 with 1 Axes>"
      ]
     },
     "metadata": {
      "needs_background": "light"
     },
     "output_type": "display_data"
    }
   ],
   "source": [
    "#adversarial jsma test set\n",
    "#configuration 3\n",
    "\"\"\"\n",
    "6) Incremental guided retraining starting from the original model using only the new adversarial inputs.\n",
    "Incremental training, starting with the previous trained model. Using at each iteration a subset of the new inputs.\n",
    "\"\"\"\n",
    "import matplotlib.pyplot as plt\n",
    "import matplotlib.patches as mpatches\n",
    "\n",
    "from matplotlib.patches import Patch\n",
    "from matplotlib.lines import Line2D\n",
    "\n",
    "plt.plot(n_inputs,accuracy_lsa_3,colors[0],linestyle=linestyles[0])\n",
    "plt.plot(n_inputs,accuracy_dsa_3,colors[1],linestyle=linestyles[1])\n",
    "plt.plot(n_inputs,accuracy_dg_3,colors[2],linestyle=linestyles[2])\n",
    "plt.plot(n_inputs,accuracy_se_3,colors[3],linestyle=linestyles[3])\n",
    "plt.plot(n_inputs,accuracy_random_3,colors[4],linestyle=linestyles[4])\n",
    "plt.plot(n_inputs,accuracy_nc_3,colors[5],linestyle=linestyles[5])\n",
    "\n",
    "\n",
    "legend_elements = [Line2D([0], [0], color=colors[0], label='LSA',ls = linestyles[0]),\n",
    "                   Line2D([0], [0], color=colors[1], label='DSA',ls = linestyles[1]),\n",
    "                   Line2D([0], [0], color=colors[2], label='dg',ls = linestyles[2]),\n",
    "                   Line2D([0], [0], color=colors[3], label='se',ls = linestyles[3]),\n",
    "                   Line2D([0], [0], color=colors[4], label='Random',ls = linestyles[4]),\n",
    "                   Line2D([0], [0], color=colors[5], label='NC',ls = linestyles[5])]\n",
    "\n",
    "\n",
    "\n",
    "plt.legend(handles=legend_elements)#\n",
    "#plt.title(\"Accuracy\")\n",
    "\n",
    "print(n_inputs[np.argmax(accuracy_lsa_3)],accuracy_lsa_3.max())\n",
    "print(n_inputs[np.argmax(accuracy_dsa_3)],accuracy_dsa_3.max())\n",
    "print(n_inputs[np.argmax(accuracy_dg_3)],accuracy_dg_3.max())\n",
    "print(n_inputs[np.argmax(accuracy_se_3)],accuracy_se_3.max())\n",
    "print(n_inputs[np.argmax(accuracy_random_3)],accuracy_random_3.max())\n",
    "print(n_inputs[np.argmax(accuracy_nc_3)],accuracy_nc_3.max())\n",
    "\n",
    "plt.plot(n_inputs[np.argmax(accuracy_lsa_3)],accuracy_lsa_3.max(),'-bD',)\n",
    "plt.plot(n_inputs[np.argmax(accuracy_dsa_3)],accuracy_dsa_3.max(),'-go')\n",
    "plt.plot(n_inputs[np.argmax(accuracy_dg_3)],accuracy_dg_3.max(),'-r+')\n",
    "plt.plot(n_inputs[np.argmax(accuracy_se_3)],accuracy_se_3.max(),'-c*')\n",
    "plt.plot(n_inputs[np.argmax(accuracy_random_3)],accuracy_random_3.max(),'-mv')\n",
    "plt.plot(n_inputs[np.argmax(accuracy_nc_3)],accuracy_nc_3.max(),'-kp')\n",
    "\n",
    "plt.xlabel('Number of inputs')\n",
    "plt.ylabel('Accuracy')\n",
    "plt.xlim([0, len(x_train_and_adversary)])\n",
    "#plt.ylim([0.9, 1])\n",
    "\n",
    "plt.savefig(save_dir+\"/\"+dataset+\"_\"+config_lc+\"_\"+\"accuracy\" + \".svg\")\n",
    "\n",
    "plt.show()"
   ]
  },
  {
   "cell_type": "code",
   "execution_count": null,
   "id": "75c13967",
   "metadata": {},
   "outputs": [],
   "source": []
  }
 ],
 "metadata": {
  "kernelspec": {
   "display_name": "Python 3",
   "language": "python",
   "name": "python3"
  },
  "language_info": {
   "codemirror_mode": {
    "name": "ipython",
    "version": 3
   },
   "file_extension": ".py",
   "mimetype": "text/x-python",
   "name": "python",
   "nbconvert_exporter": "python",
   "pygments_lexer": "ipython3",
   "version": "3.8.8"
  }
 },
 "nbformat": 4,
 "nbformat_minor": 5
}
