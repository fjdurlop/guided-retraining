{
 "cells": [
  {
   "cell_type": "markdown",
   "id": "cd2b2122",
   "metadata": {},
   "source": [
    "# Ordering by metrics and retraining phase\n",
    "\n",
    "## Dataset: GTSRB"
   ]
  },
  {
   "cell_type": "markdown",
   "id": "790af13b",
   "metadata": {},
   "source": [
    "## Experiment configuration 2\n",
    "- Date: 27/10/2021"
   ]
  },
  {
   "cell_type": "markdown",
   "id": "21a98552",
   "metadata": {},
   "source": [
    "## Configuration\n",
    "\t2. Incremental guided retraining starting from the original model using the new adversarial inputs and original training set."
   ]
  },
  {
   "cell_type": "code",
   "execution_count": null,
   "id": "90383afd",
   "metadata": {},
   "outputs": [],
   "source": [
    "pip install --user tensorflow==2.5"
   ]
  },
  {
   "cell_type": "code",
   "execution_count": 1,
   "id": "08e0debc",
   "metadata": {},
   "outputs": [],
   "source": [
    "import tensorflow as tf"
   ]
  },
  {
   "cell_type": "code",
   "execution_count": 2,
   "id": "f146072e",
   "metadata": {},
   "outputs": [
    {
     "data": {
      "text/plain": [
       "True"
      ]
     },
     "execution_count": 2,
     "metadata": {},
     "output_type": "execute_result"
    }
   ],
   "source": [
    "tf.__version__ == '2.5.0' # Version of tensorflow"
   ]
  },
  {
   "cell_type": "code",
   "execution_count": 1,
   "id": "ce1386e9",
   "metadata": {},
   "outputs": [],
   "source": [
    "import argparse\n",
    "\n",
    "import numpy as np\n",
    "import tensorflow as tf\n",
    "import keras.backend as K\n",
    "\n",
    "import matplotlib.pyplot as plt\n",
    "\n",
    "from keras.utils import np_utils\n",
    "from keras.models import Sequential\n",
    "from keras.layers import Dense, Dropout, Activation, Flatten, Conv2D, MaxPooling2D\n",
    "from keras.regularizers import l2\n",
    "\n",
    "import glob\n",
    "import os\n",
    "import cv2\n",
    "import keras\n",
    "\n",
    "\n",
    "import time\n",
    "import argparse\n",
    "\n",
    "from tqdm import tqdm\n",
    "\n",
    "from keras.models import load_model, Model\n"
   ]
  },
  {
   "cell_type": "code",
   "execution_count": 2,
   "id": "723735cb",
   "metadata": {},
   "outputs": [],
   "source": [
    "# utils for project\n",
    "import project_utils_v3_intel_dataset as utils"
   ]
  },
  {
   "cell_type": "code",
   "execution_count": 3,
   "id": "de1bd2cb",
   "metadata": {},
   "outputs": [],
   "source": [
    "dataset = \"gtsrb\""
   ]
  },
  {
   "cell_type": "code",
   "execution_count": 4,
   "id": "50c2b3f3",
   "metadata": {},
   "outputs": [],
   "source": [
    "x_train,y_train = utils.get_data(dataset,\"Train\")\n",
    "x_val,y_val = utils.get_data(dataset,\"Val\")\n",
    "x_test,y_test = utils.get_data(dataset,\"Test\")"
   ]
  },
  {
   "cell_type": "code",
   "execution_count": 5,
   "id": "e6f6f8a7",
   "metadata": {},
   "outputs": [],
   "source": [
    "x_train_and_adversary,y_train_and_adversary = utils.get_data(dataset,\"Train_and_adversary\")"
   ]
  },
  {
   "cell_type": "code",
   "execution_count": 6,
   "id": "53dcdf78",
   "metadata": {},
   "outputs": [
    {
     "name": "stdout",
     "output_type": "stream",
     "text": [
      "5000\n",
      "5000\n"
     ]
    }
   ],
   "source": [
    "x_adversary_training = x_train_and_adversary[len(x_train):]\n",
    "print(len(x_adversary_training))\n",
    "y_adversary_training = y_train_and_adversary[len(y_train):]\n",
    "\n",
    "print(len(y_adversary_training))"
   ]
  },
  {
   "cell_type": "code",
   "execution_count": 7,
   "id": "d8fd2c92",
   "metadata": {},
   "outputs": [],
   "source": [
    "# Obtaining adversarial examples for testing \n",
    "x_test_and_adversary,y_test_and_adversary = utils.get_adversarial_data(dataset,'Test_fgsm') "
   ]
  },
  {
   "cell_type": "code",
   "execution_count": 8,
   "id": "c27698e5",
   "metadata": {},
   "outputs": [
    {
     "name": "stdout",
     "output_type": "stream",
     "text": [
      "3923\n",
      "3923\n"
     ]
    }
   ],
   "source": [
    "x_adversary_test_fgsm = x_test_and_adversary[len(x_test):]\n",
    "print(len(x_adversary_test_fgsm))\n",
    "y_adversary_test_fgsm = y_test_and_adversary[len(y_test):]\n",
    "\n",
    "print(len(y_adversary_test_fgsm))"
   ]
  },
  {
   "cell_type": "markdown",
   "id": "becb4e3b",
   "metadata": {},
   "source": [
    "## ----"
   ]
  },
  {
   "cell_type": "code",
   "execution_count": 9,
   "id": "c1560941",
   "metadata": {},
   "outputs": [],
   "source": [
    "# Original model \n",
    "model_dir = \"C:/Users/fjdur/Desktop/upc/project_notebooks/github_project/DL_notebooks/models/tf_model_25-06\"\n"
   ]
  },
  {
   "cell_type": "code",
   "execution_count": 10,
   "id": "e5478616",
   "metadata": {},
   "outputs": [
    {
     "name": "stdout",
     "output_type": "stream",
     "text": [
      "Model loaded correctly\n"
     ]
    }
   ],
   "source": [
    "model_original = utils.My_model(dataset,True, model_dir)"
   ]
  },
  {
   "cell_type": "code",
   "execution_count": 11,
   "id": "1137efd4",
   "metadata": {},
   "outputs": [
    {
     "name": "stdout",
     "output_type": "stream",
     "text": [
      "123/123 [==============================] - 17s 52ms/step - loss: 0.0293 - accuracy: 0.9929\n"
     ]
    },
    {
     "data": {
      "text/plain": [
       "[0.029302377253770828, 0.9928625822067261]"
      ]
     },
     "execution_count": 11,
     "metadata": {},
     "output_type": "execute_result"
    }
   ],
   "source": [
    "model_original.evaluate(x_test,y_test)"
   ]
  },
  {
   "cell_type": "code",
   "execution_count": 14,
   "id": "397de2cb",
   "metadata": {},
   "outputs": [
    {
     "name": "stdout",
     "output_type": "stream",
     "text": [
      "123/123 [==============================] - 6s 48ms/step - loss: 4.5121 - accuracy: 0.1843\n"
     ]
    },
    {
     "data": {
      "text/plain": [
       "[4.512054920196533, 0.18429772555828094]"
      ]
     },
     "execution_count": 14,
     "metadata": {},
     "output_type": "execute_result"
    }
   ],
   "source": [
    "model_original.evaluate(x_adversary_test_fgsm,y_adversary_test_fgsm)"
   ]
  },
  {
   "cell_type": "markdown",
   "id": "78edd1c7",
   "metadata": {},
   "source": [
    "## Obtaining new LSA and DSA values "
   ]
  },
  {
   "cell_type": "code",
   "execution_count": 12,
   "id": "dd62896d",
   "metadata": {},
   "outputs": [],
   "source": [
    "save_dir_lsa = \"C:/Users/fjdur/Desktop/upc/project_notebooks/github_project/DL_notebooks/SA_values/lsa_values_1.npy\"\n",
    " \n",
    "save_dir_dsa = \"C:/Users/fjdur/Desktop/upc/project_notebooks/github_project/DL_notebooks/SA_values/dsa_values_1.npy\"\n",
    "\n",
    "target_lsa = np.load(save_dir_lsa)\n",
    "target_dsa = np.load(save_dir_dsa)"
   ]
  },
  {
   "cell_type": "code",
   "execution_count": 13,
   "id": "cbe684c7",
   "metadata": {},
   "outputs": [],
   "source": [
    "lsa_values = target_lsa\n",
    "dsa_values = target_dsa"
   ]
  },
  {
   "cell_type": "code",
   "execution_count": 13,
   "id": "c0ec186e",
   "metadata": {},
   "outputs": [],
   "source": [
    "\n",
    "# Obtaining top n images by LSA values\n",
    "top_images_by_lsa = utils.get_x_of_indexes(list(np.flip(np.argsort(lsa_values))),x_train_and_adversary)\n",
    "top_labels_by_lsa = utils.get_x_of_indexes(list(np.flip(np.argsort(lsa_values))),y_train_and_adversary)\n"
   ]
  },
  {
   "cell_type": "code",
   "execution_count": 14,
   "id": "4a3451bf",
   "metadata": {},
   "outputs": [],
   "source": [
    "\n",
    "top_images_by_dsa = utils.get_x_of_indexes(list(np.flip(np.argsort(dsa_values))),x_train_and_adversary)\n",
    "top_labels_by_dsa = utils.get_x_of_indexes(list(np.flip(np.argsort(dsa_values))),y_train_and_adversary)\n"
   ]
  },
  {
   "cell_type": "code",
   "execution_count": 17,
   "id": "4b1edf1f",
   "metadata": {},
   "outputs": [
    {
     "data": {
      "text/plain": [
       "1818"
      ]
     },
     "execution_count": 17,
     "metadata": {},
     "output_type": "execute_result"
    }
   ],
   "source": [
    "len(top_images_by_lsa)//20"
   ]
  },
  {
   "cell_type": "code",
   "execution_count": 54,
   "id": "68180e9a",
   "metadata": {},
   "outputs": [
    {
     "data": {
      "text/plain": [
       "31366"
      ]
     },
     "execution_count": 54,
     "metadata": {},
     "output_type": "execute_result"
    }
   ],
   "source": [
    "len(x_train)"
   ]
  },
  {
   "cell_type": "code",
   "execution_count": 60,
   "id": "ff16a686",
   "metadata": {},
   "outputs": [],
   "source": [
    "top_images_by_lsa_5000 = np.array(top_images_by_lsa[:5000])\n",
    "top_labels_by_lsa_5000 = np.array(top_labels_by_lsa[:5000])\n",
    "\n"
   ]
  },
  {
   "cell_type": "code",
   "execution_count": 18,
   "id": "3bc51573",
   "metadata": {},
   "outputs": [
    {
     "name": "stdout",
     "output_type": "stream",
     "text": [
      "0 :\n",
      "0  ->  1800\n",
      "1800\n",
      "1 :\n",
      "0  ->  3600\n",
      "3600\n",
      "2 :\n",
      "0  ->  5400\n",
      "5400\n",
      "3 :\n",
      "0  ->  7200\n",
      "7200\n",
      "4 :\n",
      "0  ->  9000\n",
      "9000\n",
      "5 :\n",
      "0  ->  10800\n",
      "10800\n",
      "6 :\n",
      "0  ->  12600\n",
      "12600\n",
      "7 :\n",
      "0  ->  14400\n",
      "14400\n",
      "8 :\n",
      "0  ->  16200\n",
      "16200\n",
      "9 :\n",
      "0  ->  18000\n",
      "18000\n",
      "10 :\n",
      "0  ->  19800\n",
      "19800\n",
      "11 :\n",
      "0  ->  21600\n",
      "21600\n",
      "12 :\n",
      "0  ->  23400\n",
      "23400\n",
      "13 :\n",
      "0  ->  25200\n",
      "25200\n",
      "14 :\n",
      "0  ->  27000\n",
      "27000\n",
      "15 :\n",
      "0  ->  28800\n",
      "28800\n",
      "16 :\n",
      "0  ->  30600\n",
      "30600\n",
      "17 :\n",
      "0  ->  32400\n",
      "32400\n",
      "18 :\n",
      "0  ->  34200\n",
      "34200\n",
      "19 :\n",
      "Last\n",
      "0  ->  36366\n",
      "36366\n"
     ]
    }
   ],
   "source": [
    "m = 1800\n",
    "n = 0\n",
    "image_sets_lsa = []\n",
    "label_sets_lsa = []\n",
    "\n",
    "\n",
    "for i in range(len(top_images_by_lsa)//m):\n",
    "    print(i,\":\")\n",
    "    if (i+1 >= len(top_images_by_lsa)//m):\n",
    "        print(\"Last\")\n",
    "        print(0,\" -> \",n+m+(len(top_images_by_lsa)%m))\n",
    "        top_images_by_lsa_n = np.array(top_images_by_lsa[:n+m+(len(top_images_by_lsa)%m)])\n",
    "        top_labels_by_lsa_n = np.array(top_labels_by_lsa[:n+m+(len(top_images_by_lsa)%m)])\n",
    "    else:\n",
    "        print(0,\" -> \",m+n)\n",
    "        top_images_by_lsa_n = np.array(top_images_by_lsa[:n+m])\n",
    "        top_labels_by_lsa_n = np.array(top_labels_by_lsa[:n+m])\n",
    "    image_sets_lsa.append(top_images_by_lsa_n)\n",
    "    label_sets_lsa.append(top_labels_by_lsa_n)\n",
    "    print(len(top_images_by_lsa_n))\n",
    "    n += m\n",
    "\n"
   ]
  },
  {
   "cell_type": "markdown",
   "id": "ed06a68e",
   "metadata": {},
   "source": [
    "## point lsa"
   ]
  },
  {
   "cell_type": "code",
   "execution_count": 61,
   "id": "532c3a68",
   "metadata": {},
   "outputs": [
    {
     "name": "stdout",
     "output_type": "stream",
     "text": [
      "Model loaded correctly\n",
      "Model compiled\n"
     ]
    }
   ],
   "source": [
    "model_lsa_5000 =  utils.My_model(dataset,True,model_dir)\n",
    "model_lsa_5000.compile_model()"
   ]
  },
  {
   "cell_type": "code",
   "execution_count": 62,
   "id": "dc6e43e7",
   "metadata": {},
   "outputs": [
    {
     "name": "stdout",
     "output_type": "stream",
     "text": [
      "Epoch 1/10\n",
      "79/79 [==============================] - 47s 491ms/step - loss: 2.2472 - accuracy: 0.4426 - val_loss: 0.2017 - val_accuracy: 0.9663\n",
      "Epoch 2/10\n",
      "79/79 [==============================] - 38s 484ms/step - loss: 1.1129 - accuracy: 0.6862 - val_loss: 0.4781 - val_accuracy: 0.8928\n",
      "Epoch 3/10\n",
      "79/79 [==============================] - 39s 492ms/step - loss: 0.7918 - accuracy: 0.7596 - val_loss: 0.8992 - val_accuracy: 0.8283\n",
      "Epoch 4/10\n",
      "79/79 [==============================] - 39s 490ms/step - loss: 0.6117 - accuracy: 0.8270 - val_loss: 0.5346 - val_accuracy: 0.8523\n",
      "Epoch 5/10\n",
      "79/79 [==============================] - 38s 487ms/step - loss: 0.4824 - accuracy: 0.8526 - val_loss: 1.3374 - val_accuracy: 0.8160\n",
      "Epoch 6/10\n",
      "79/79 [==============================] - 38s 482ms/step - loss: 0.4202 - accuracy: 0.8749 - val_loss: 2.0235 - val_accuracy: 0.7367\n",
      "Epoch 7/10\n",
      "79/79 [==============================] - 38s 486ms/step - loss: 0.3859 - accuracy: 0.8850 - val_loss: 1.4919 - val_accuracy: 0.8102\n",
      "Epoch 8/10\n",
      "79/79 [==============================] - 38s 483ms/step - loss: 0.3049 - accuracy: 0.9073 - val_loss: 2.0429 - val_accuracy: 0.7785\n",
      "Epoch 9/10\n",
      "79/79 [==============================] - 39s 496ms/step - loss: 0.2527 - accuracy: 0.9217 - val_loss: 1.1144 - val_accuracy: 0.7913\n",
      "Epoch 10/10\n",
      "79/79 [==============================] - 37s 475ms/step - loss: 0.2642 - accuracy: 0.9142 - val_loss: 2.1748 - val_accuracy: 0.7877\n",
      "Duration: 0:06:31.822908\n"
     ]
    },
    {
     "data": {
      "text/plain": [
       "<keras.callbacks.History at 0x232bf203610>"
      ]
     },
     "execution_count": 62,
     "metadata": {},
     "output_type": "execute_result"
    }
   ],
   "source": [
    "model_lsa_5000.fit_model(top_images_by_lsa_5000,top_labels_by_lsa_5000,x_val,y_val)"
   ]
  },
  {
   "cell_type": "code",
   "execution_count": 28,
   "id": "daef1b47",
   "metadata": {},
   "outputs": [
    {
     "name": "stdout",
     "output_type": "stream",
     "text": [
      "C:/Users/fjdur/Desktop/upc/project_notebooks/github_project/DL_notebooks/models/tf_model_25-06\n",
      "0 :\n",
      "Model loaded correctly\n",
      "Model compiled\n",
      "1 :\n",
      "Model loaded correctly\n",
      "Model compiled\n",
      "2 :\n",
      "Model loaded correctly\n",
      "Model compiled\n",
      "3 :\n",
      "Model loaded correctly\n",
      "Model compiled\n",
      "4 :\n",
      "Model loaded correctly\n",
      "Model compiled\n",
      "5 :\n",
      "Model loaded correctly\n",
      "Model compiled\n",
      "6 :\n",
      "Model loaded correctly\n",
      "Model compiled\n",
      "7 :\n",
      "Model loaded correctly\n",
      "Model compiled\n",
      "8 :\n",
      "Model loaded correctly\n",
      "Model compiled\n",
      "9 :\n",
      "Model loaded correctly\n",
      "Model compiled\n",
      "10 :\n",
      "Model loaded correctly\n",
      "Model compiled\n",
      "11 :\n",
      "Model loaded correctly\n",
      "Model compiled\n",
      "12 :\n",
      "Model loaded correctly\n",
      "Model compiled\n",
      "13 :\n",
      "Model loaded correctly\n",
      "Model compiled\n",
      "14 :\n",
      "Model loaded correctly\n",
      "Model compiled\n",
      "15 :\n",
      "Model loaded correctly\n",
      "Model compiled\n",
      "16 :\n",
      "Model loaded correctly\n",
      "Model compiled\n",
      "17 :\n",
      "Model loaded correctly\n",
      "Model compiled\n",
      "18 :\n",
      "Model loaded correctly\n",
      "Model compiled\n",
      "19 :\n",
      "Model loaded correctly\n",
      "Model compiled\n"
     ]
    }
   ],
   "source": [
    "print(model_dir)\n",
    "\n",
    "models_lsa = []\n",
    "for i in range(len(label_sets_lsa)):\n",
    "    print(i,\":\")\n",
    "    model = utils.My_model(dataset,True,model_dir)\n",
    "    model.compile_model()\n",
    "    models_lsa.append(model)\n"
   ]
  },
  {
   "cell_type": "code",
   "execution_count": 29,
   "id": "3665e51c",
   "metadata": {},
   "outputs": [
    {
     "name": "stdout",
     "output_type": "stream",
     "text": [
      "Epoch 1/10\n",
      "29/29 [==============================] - 21s 676ms/step - loss: 3.5568 - accuracy: 0.1698 - val_loss: 0.5954 - val_accuracy: 0.8627\n",
      "Epoch 2/10\n",
      "29/29 [==============================] - 19s 658ms/step - loss: 2.1412 - accuracy: 0.4189 - val_loss: 0.3260 - val_accuracy: 0.9053\n",
      "Epoch 3/10\n",
      "29/29 [==============================] - 19s 658ms/step - loss: 1.6907 - accuracy: 0.5140 - val_loss: 1.0183 - val_accuracy: 0.8015\n",
      "Epoch 4/10\n",
      "29/29 [==============================] - 19s 660ms/step - loss: 1.3568 - accuracy: 0.5942 - val_loss: 0.3570 - val_accuracy: 0.9028\n",
      "Epoch 5/10\n",
      "29/29 [==============================] - 19s 661ms/step - loss: 1.0867 - accuracy: 0.6889 - val_loss: 0.4366 - val_accuracy: 0.8969\n",
      "Epoch 6/10\n",
      "29/29 [==============================] - 19s 654ms/step - loss: 0.9439 - accuracy: 0.7312 - val_loss: 0.5996 - val_accuracy: 0.8443\n",
      "Epoch 7/10\n",
      "29/29 [==============================] - 19s 651ms/step - loss: 0.8805 - accuracy: 0.7291 - val_loss: 1.0838 - val_accuracy: 0.8193\n",
      "Epoch 8/10\n",
      "29/29 [==============================] - 19s 653ms/step - loss: 0.7507 - accuracy: 0.7735 - val_loss: 1.1099 - val_accuracy: 0.8367\n",
      "Epoch 9/10\n",
      "29/29 [==============================] - 19s 655ms/step - loss: 0.7383 - accuracy: 0.7725 - val_loss: 2.0993 - val_accuracy: 0.7632\n",
      "Epoch 10/10\n",
      "29/29 [==============================] - 19s 653ms/step - loss: 0.5650 - accuracy: 0.8365 - val_loss: 0.7214 - val_accuracy: 0.8704\n",
      "Duration: 0:03:10.386096\n"
     ]
    }
   ],
   "source": [
    "n = 0\n",
    "models_lsa[n].fit_model(image_sets_lsa[n],label_sets_lsa[n],x_val,y_val)\n",
    "n=n+1"
   ]
  },
  {
   "cell_type": "code",
   "execution_count": 30,
   "id": "c2f79099",
   "metadata": {},
   "outputs": [
    {
     "name": "stdout",
     "output_type": "stream",
     "text": [
      "Epoch 1/10\n",
      "57/57 [==============================] - 33s 554ms/step - loss: 3.0463 - accuracy: 0.2587 - val_loss: 0.4009 - val_accuracy: 0.8910\n",
      "Epoch 2/10\n",
      "57/57 [==============================] - 32s 567ms/step - loss: 1.4831 - accuracy: 0.5797 - val_loss: 0.4052 - val_accuracy: 0.8977\n",
      "Epoch 3/10\n",
      "57/57 [==============================] - 33s 574ms/step - loss: 1.1765 - accuracy: 0.6553 - val_loss: 0.7222 - val_accuracy: 0.8089\n",
      "Epoch 4/10\n",
      "57/57 [==============================] - 31s 543ms/step - loss: 0.8822 - accuracy: 0.7357 - val_loss: 0.6737 - val_accuracy: 0.8221\n",
      "Epoch 5/10\n",
      "57/57 [==============================] - 30s 530ms/step - loss: 0.7210 - accuracy: 0.7913 - val_loss: 0.7349 - val_accuracy: 0.7900\n",
      "Epoch 6/10\n",
      "57/57 [==============================] - 30s 528ms/step - loss: 0.6416 - accuracy: 0.8020 - val_loss: 0.5039 - val_accuracy: 0.8617\n",
      "Epoch 7/10\n",
      "57/57 [==============================] - 30s 528ms/step - loss: 0.6073 - accuracy: 0.8314 - val_loss: 1.1844 - val_accuracy: 0.8035\n",
      "Epoch 8/10\n",
      "57/57 [==============================] - 30s 529ms/step - loss: 0.4197 - accuracy: 0.8679 - val_loss: 0.7950 - val_accuracy: 0.8214\n",
      "Epoch 9/10\n",
      "57/57 [==============================] - 30s 529ms/step - loss: 0.4264 - accuracy: 0.8708 - val_loss: 0.4109 - val_accuracy: 0.8854\n",
      "Epoch 10/10\n",
      "57/57 [==============================] - 30s 526ms/step - loss: 0.3897 - accuracy: 0.8858 - val_loss: 0.7695 - val_accuracy: 0.7915\n",
      "Duration: 0:05:09.010810\n"
     ]
    }
   ],
   "source": [
    "n=1\n",
    "models_lsa[n].fit_model(image_sets_lsa[n],label_sets_lsa[n],x_val,y_val)\n",
    "n = n+1"
   ]
  },
  {
   "cell_type": "code",
   "execution_count": 31,
   "id": "d9f7fa66",
   "metadata": {},
   "outputs": [
    {
     "name": "stdout",
     "output_type": "stream",
     "text": [
      "2\n",
      "Epoch 1/10\n",
      "85/85 [==============================] - 46s 515ms/step - loss: 2.2295 - accuracy: 0.4468 - val_loss: 0.3609 - val_accuracy: 0.9153\n",
      "Epoch 2/10\n",
      "85/85 [==============================] - 43s 508ms/step - loss: 1.0812 - accuracy: 0.6949 - val_loss: 0.2688 - val_accuracy: 0.9288\n",
      "Epoch 3/10\n",
      "85/85 [==============================] - 44s 518ms/step - loss: 0.7992 - accuracy: 0.7650 - val_loss: 0.5313 - val_accuracy: 0.8775\n",
      "Epoch 4/10\n",
      "85/85 [==============================] - 44s 513ms/step - loss: 0.6411 - accuracy: 0.8190 - val_loss: 0.4868 - val_accuracy: 0.8722\n",
      "Epoch 5/10\n",
      "85/85 [==============================] - 44s 513ms/step - loss: 0.4877 - accuracy: 0.8532 - val_loss: 0.7753 - val_accuracy: 0.8265\n",
      "Epoch 6/10\n",
      "85/85 [==============================] - 44s 514ms/step - loss: 0.4622 - accuracy: 0.8604 - val_loss: 1.8562 - val_accuracy: 0.7780\n",
      "Epoch 7/10\n",
      "85/85 [==============================] - 44s 516ms/step - loss: 0.3765 - accuracy: 0.8879 - val_loss: 0.6904 - val_accuracy: 0.8548\n",
      "Epoch 8/10\n",
      "85/85 [==============================] - 44s 516ms/step - loss: 0.3178 - accuracy: 0.9061 - val_loss: 0.8938 - val_accuracy: 0.8632\n",
      "Epoch 9/10\n",
      "85/85 [==============================] - 44s 515ms/step - loss: 0.3143 - accuracy: 0.9086 - val_loss: 1.7377 - val_accuracy: 0.8140\n",
      "Epoch 10/10\n",
      "85/85 [==============================] - 43s 512ms/step - loss: 0.2625 - accuracy: 0.9269 - val_loss: 0.6733 - val_accuracy: 0.8551\n",
      "Duration: 0:07:18.249706\n"
     ]
    }
   ],
   "source": [
    "print(n)\n",
    "models_lsa[n].fit_model(image_sets_lsa[n],label_sets_lsa[n],x_val,y_val)\n",
    "n = n+1"
   ]
  },
  {
   "cell_type": "code",
   "execution_count": 32,
   "id": "a4586fc7",
   "metadata": {},
   "outputs": [
    {
     "name": "stdout",
     "output_type": "stream",
     "text": [
      "3\n",
      "Epoch 1/10\n",
      "113/113 [==============================] - 59s 510ms/step - loss: 1.6453 - accuracy: 0.5839 - val_loss: 0.1348 - val_accuracy: 0.9699\n",
      "Epoch 2/10\n",
      "113/113 [==============================] - 57s 508ms/step - loss: 0.8030 - accuracy: 0.7719 - val_loss: 0.1986 - val_accuracy: 0.9548\n",
      "Epoch 3/10\n",
      "113/113 [==============================] - 58s 515ms/step - loss: 0.5901 - accuracy: 0.8294 - val_loss: 0.1715 - val_accuracy: 0.9518\n",
      "Epoch 4/10\n",
      "113/113 [==============================] - 58s 513ms/step - loss: 0.4935 - accuracy: 0.8544 - val_loss: 0.2691 - val_accuracy: 0.9273\n",
      "Epoch 5/10\n",
      "113/113 [==============================] - 58s 514ms/step - loss: 0.4142 - accuracy: 0.8835 - val_loss: 0.4807 - val_accuracy: 0.9122\n",
      "Epoch 6/10\n",
      "113/113 [==============================] - 58s 512ms/step - loss: 0.3625 - accuracy: 0.8946 - val_loss: 0.2820 - val_accuracy: 0.9237\n",
      "Epoch 7/10\n",
      "113/113 [==============================] - 58s 512ms/step - loss: 0.2857 - accuracy: 0.9171 - val_loss: 0.1900 - val_accuracy: 0.9451\n",
      "Epoch 8/10\n",
      "113/113 [==============================] - 59s 521ms/step - loss: 0.2818 - accuracy: 0.9159 - val_loss: 0.1885 - val_accuracy: 0.9436\n",
      "Epoch 9/10\n",
      "113/113 [==============================] - 58s 512ms/step - loss: 0.2483 - accuracy: 0.9260 - val_loss: 0.2926 - val_accuracy: 0.9296\n",
      "Epoch 10/10\n",
      "113/113 [==============================] - 58s 511ms/step - loss: 0.2082 - accuracy: 0.9409 - val_loss: 0.1988 - val_accuracy: 0.9444\n",
      "Duration: 0:09:40.684637\n"
     ]
    }
   ],
   "source": [
    "print(n)\n",
    "models_lsa[n].fit_model(image_sets_lsa[n],label_sets_lsa[n],x_val,y_val)\n",
    "n = n+1"
   ]
  },
  {
   "cell_type": "code",
   "execution_count": 33,
   "id": "681edfc1",
   "metadata": {},
   "outputs": [
    {
     "name": "stdout",
     "output_type": "stream",
     "text": [
      "4\n",
      "Epoch 1/10\n",
      "141/141 [==============================] - 73s 503ms/step - loss: 1.3332 - accuracy: 0.6675 - val_loss: 0.1793 - val_accuracy: 0.9666\n",
      "Epoch 2/10\n",
      "141/141 [==============================] - 71s 501ms/step - loss: 0.6628 - accuracy: 0.8137 - val_loss: 0.2103 - val_accuracy: 0.9462\n",
      "Epoch 3/10\n",
      "141/141 [==============================] - 71s 506ms/step - loss: 0.4801 - accuracy: 0.8593 - val_loss: 0.2458 - val_accuracy: 0.9283\n",
      "Epoch 4/10\n",
      "141/141 [==============================] - 72s 512ms/step - loss: 0.3626 - accuracy: 0.8926 - val_loss: 0.1883 - val_accuracy: 0.9482\n",
      "Epoch 5/10\n",
      "141/141 [==============================] - 72s 509ms/step - loss: 0.3221 - accuracy: 0.9074 - val_loss: 0.2245 - val_accuracy: 0.9357\n",
      "Epoch 6/10\n",
      "141/141 [==============================] - 72s 510ms/step - loss: 0.2752 - accuracy: 0.9183 - val_loss: 0.1446 - val_accuracy: 0.9587\n",
      "Epoch 7/10\n",
      "141/141 [==============================] - 72s 511ms/step - loss: 0.2216 - accuracy: 0.9359 - val_loss: 0.2169 - val_accuracy: 0.9469\n",
      "Epoch 8/10\n",
      "141/141 [==============================] - 72s 508ms/step - loss: 0.2397 - accuracy: 0.9357 - val_loss: 0.1893 - val_accuracy: 0.9439\n",
      "Epoch 9/10\n",
      "141/141 [==============================] - 72s 508ms/step - loss: 0.1712 - accuracy: 0.9522 - val_loss: 0.2658 - val_accuracy: 0.9428\n",
      "Epoch 10/10\n",
      "141/141 [==============================] - 71s 506ms/step - loss: 0.1867 - accuracy: 0.9485 - val_loss: 0.3163 - val_accuracy: 0.9183\n",
      "Duration: 0:11:56.662100\n"
     ]
    }
   ],
   "source": [
    "print(n) #4\n",
    "models_lsa[n].fit_model(image_sets_lsa[n],label_sets_lsa[n],x_val,y_val)\n",
    "n = n+1"
   ]
  },
  {
   "cell_type": "code",
   "execution_count": 34,
   "id": "d6645eca",
   "metadata": {},
   "outputs": [
    {
     "name": "stdout",
     "output_type": "stream",
     "text": [
      "5\n",
      "Epoch 1/10\n",
      "169/169 [==============================] - 87s 505ms/step - loss: 1.1797 - accuracy: 0.7030 - val_loss: 0.0895 - val_accuracy: 0.9773\n",
      "Epoch 2/10\n",
      "169/169 [==============================] - 85s 502ms/step - loss: 0.6088 - accuracy: 0.8289 - val_loss: 0.1042 - val_accuracy: 0.9735\n",
      "Epoch 3/10\n",
      "169/169 [==============================] - 85s 501ms/step - loss: 0.4193 - accuracy: 0.8840 - val_loss: 0.1507 - val_accuracy: 0.9551\n",
      "Epoch 4/10\n",
      "169/169 [==============================] - 84s 500ms/step - loss: 0.3480 - accuracy: 0.9028 - val_loss: 0.1006 - val_accuracy: 0.9727\n",
      "Epoch 5/10\n",
      "169/169 [==============================] - 85s 500ms/step - loss: 0.2928 - accuracy: 0.9169 - val_loss: 0.1006 - val_accuracy: 0.9735\n",
      "Epoch 6/10\n",
      "169/169 [==============================] - 84s 496ms/step - loss: 0.2636 - accuracy: 0.9229 - val_loss: 0.1220 - val_accuracy: 0.9686\n",
      "Epoch 7/10\n",
      "169/169 [==============================] - 85s 504ms/step - loss: 0.2370 - accuracy: 0.9347 - val_loss: 0.1676 - val_accuracy: 0.9566\n",
      "Epoch 8/10\n",
      "169/169 [==============================] - 85s 504ms/step - loss: 0.1893 - accuracy: 0.9449 - val_loss: 0.1164 - val_accuracy: 0.9684\n",
      "Epoch 9/10\n",
      "169/169 [==============================] - 85s 503ms/step - loss: 0.1849 - accuracy: 0.9485 - val_loss: 0.1698 - val_accuracy: 0.9536\n",
      "Epoch 10/10\n",
      "169/169 [==============================] - 86s 506ms/step - loss: 0.1818 - accuracy: 0.9464 - val_loss: 0.1291 - val_accuracy: 0.9712\n",
      "Duration: 0:14:10.122565\n"
     ]
    }
   ],
   "source": [
    "print(n)\n",
    "models_lsa[n].fit_model(image_sets_lsa[n],label_sets_lsa[n],x_val,y_val)\n",
    "n = n+1"
   ]
  },
  {
   "cell_type": "code",
   "execution_count": 35,
   "id": "bd1521fb",
   "metadata": {},
   "outputs": [
    {
     "name": "stdout",
     "output_type": "stream",
     "text": [
      "6\n",
      "Epoch 1/10\n",
      "197/197 [==============================] - 101s 502ms/step - loss: 1.0187 - accuracy: 0.7451 - val_loss: 0.1031 - val_accuracy: 0.9666\n",
      "Epoch 2/10\n",
      "197/197 [==============================] - 99s 501ms/step - loss: 0.4820 - accuracy: 0.8627 - val_loss: 0.1095 - val_accuracy: 0.9668\n",
      "Epoch 3/10\n",
      "197/197 [==============================] - 99s 504ms/step - loss: 0.3835 - accuracy: 0.8898 - val_loss: 0.1372 - val_accuracy: 0.9661\n",
      "Epoch 4/10\n",
      "197/197 [==============================] - 99s 503ms/step - loss: 0.2974 - accuracy: 0.9177 - val_loss: 0.0909 - val_accuracy: 0.9704\n",
      "Epoch 5/10\n",
      "197/197 [==============================] - 99s 504ms/step - loss: 0.2653 - accuracy: 0.9264 - val_loss: 0.0858 - val_accuracy: 0.9752\n",
      "Epoch 6/10\n",
      "197/197 [==============================] - 99s 504ms/step - loss: 0.2237 - accuracy: 0.9394 - val_loss: 0.0845 - val_accuracy: 0.9781\n",
      "Epoch 7/10\n",
      "197/197 [==============================] - 99s 500ms/step - loss: 0.2063 - accuracy: 0.9434 - val_loss: 0.0829 - val_accuracy: 0.9765\n",
      "Epoch 8/10\n",
      "197/197 [==============================] - 98s 499ms/step - loss: 0.1931 - accuracy: 0.9485 - val_loss: 0.1558 - val_accuracy: 0.9592\n",
      "Epoch 9/10\n",
      "197/197 [==============================] - 98s 498ms/step - loss: 0.1889 - accuracy: 0.9517 - val_loss: 0.1108 - val_accuracy: 0.9709\n",
      "Epoch 10/10\n",
      "197/197 [==============================] - 98s 498ms/step - loss: 0.1637 - accuracy: 0.9548 - val_loss: 0.1847 - val_accuracy: 0.9551\n",
      "Duration: 0:16:29.285904\n"
     ]
    }
   ],
   "source": [
    "print(n)\n",
    "models_lsa[n].fit_model(image_sets_lsa[n],label_sets_lsa[n],x_val,y_val)\n",
    "n = n+1"
   ]
  },
  {
   "cell_type": "code",
   "execution_count": 36,
   "id": "ec3ff3ad",
   "metadata": {},
   "outputs": [
    {
     "name": "stdout",
     "output_type": "stream",
     "text": [
      "7\n",
      "Epoch 1/10\n",
      "225/225 [==============================] - 496s 2s/step - loss: 0.8653 - accuracy: 0.7819 - val_loss: 0.0653 - val_accuracy: 0.9852\n",
      "Epoch 2/10\n",
      "225/225 [==============================] - 111s 494ms/step - loss: 0.4409 - accuracy: 0.8723 - val_loss: 0.0633 - val_accuracy: 0.9849\n",
      "Epoch 3/10\n",
      "225/225 [==============================] - 110s 489ms/step - loss: 0.3301 - accuracy: 0.9081 - val_loss: 0.0730 - val_accuracy: 0.9768\n",
      "Epoch 4/10\n",
      "225/225 [==============================] - 111s 491ms/step - loss: 0.2577 - accuracy: 0.9247 - val_loss: 0.0864 - val_accuracy: 0.9760\n",
      "Epoch 5/10\n",
      "225/225 [==============================] - 110s 490ms/step - loss: 0.2340 - accuracy: 0.9326 - val_loss: 0.0749 - val_accuracy: 0.9842\n",
      "Epoch 6/10\n",
      "225/225 [==============================] - 110s 491ms/step - loss: 0.2252 - accuracy: 0.9419 - val_loss: 0.1581 - val_accuracy: 0.9576\n",
      "Epoch 7/10\n",
      "225/225 [==============================] - 114s 505ms/step - loss: 0.1943 - accuracy: 0.9479 - val_loss: 0.0697 - val_accuracy: 0.9839\n",
      "Epoch 8/10\n",
      "225/225 [==============================] - 111s 492ms/step - loss: 0.1733 - accuracy: 0.9524 - val_loss: 0.1022 - val_accuracy: 0.9707\n",
      "Epoch 9/10\n",
      "225/225 [==============================] - 110s 491ms/step - loss: 0.1740 - accuracy: 0.9532 - val_loss: 0.1050 - val_accuracy: 0.9788\n",
      "Epoch 10/10\n",
      "225/225 [==============================] - 111s 492ms/step - loss: 0.1704 - accuracy: 0.9529 - val_loss: 0.1808 - val_accuracy: 0.9490\n",
      "Duration: 0:24:53.130019\n"
     ]
    }
   ],
   "source": [
    "print(n)\n",
    "models_lsa[n].fit_model(image_sets_lsa[n],label_sets_lsa[n],x_val,y_val)\n",
    "n = n+1"
   ]
  },
  {
   "cell_type": "code",
   "execution_count": 37,
   "id": "514d4de3",
   "metadata": {},
   "outputs": [
    {
     "name": "stdout",
     "output_type": "stream",
     "text": [
      "8\n",
      "Epoch 1/10\n",
      "254/254 [==============================] - 127s 493ms/step - loss: 0.8114 - accuracy: 0.7935 - val_loss: 0.1353 - val_accuracy: 0.9610\n",
      "Epoch 2/10\n",
      "254/254 [==============================] - 124s 486ms/step - loss: 0.4251 - accuracy: 0.8810 - val_loss: 0.0867 - val_accuracy: 0.9798\n",
      "Epoch 3/10\n",
      "254/254 [==============================] - 124s 487ms/step - loss: 0.3155 - accuracy: 0.9109 - val_loss: 0.0732 - val_accuracy: 0.9788\n",
      "Epoch 4/10\n",
      "254/254 [==============================] - 124s 488ms/step - loss: 0.2662 - accuracy: 0.9254 - val_loss: 0.0593 - val_accuracy: 0.9816\n",
      "Epoch 5/10\n",
      "254/254 [==============================] - 124s 488ms/step - loss: 0.2352 - accuracy: 0.9360 - val_loss: 0.0925 - val_accuracy: 0.9765\n",
      "Epoch 6/10\n",
      "254/254 [==============================] - 123s 483ms/step - loss: 0.1937 - accuracy: 0.9461 - val_loss: 0.2138 - val_accuracy: 0.9250\n",
      "Epoch 7/10\n",
      "254/254 [==============================] - 123s 483ms/step - loss: 0.1920 - accuracy: 0.9476 - val_loss: 0.1384 - val_accuracy: 0.9694\n",
      "Epoch 8/10\n",
      "254/254 [==============================] - 124s 487ms/step - loss: 0.1590 - accuracy: 0.9552 - val_loss: 0.0873 - val_accuracy: 0.9775\n",
      "Epoch 9/10\n",
      "254/254 [==============================] - 123s 483ms/step - loss: 0.1624 - accuracy: 0.9588 - val_loss: 0.0890 - val_accuracy: 0.9696\n",
      "Epoch 10/10\n",
      "254/254 [==============================] - 124s 489ms/step - loss: 0.1458 - accuracy: 0.9586 - val_loss: 0.0999 - val_accuracy: 0.9730\n",
      "Duration: 0:20:37.681626\n"
     ]
    }
   ],
   "source": [
    "print(n)\n",
    "models_lsa[n].fit_model(image_sets_lsa[n],label_sets_lsa[n],x_val,y_val)\n",
    "n = n+1"
   ]
  },
  {
   "cell_type": "code",
   "execution_count": 38,
   "id": "1283b165",
   "metadata": {},
   "outputs": [
    {
     "name": "stdout",
     "output_type": "stream",
     "text": [
      "9\n",
      "Epoch 1/10\n",
      "282/282 [==============================] - 144s 504ms/step - loss: 0.7174 - accuracy: 0.8194 - val_loss: 0.0398 - val_accuracy: 0.9898\n",
      "Epoch 2/10\n",
      "282/282 [==============================] - 135s 480ms/step - loss: 0.3986 - accuracy: 0.8869 - val_loss: 0.0845 - val_accuracy: 0.9760\n",
      "Epoch 3/10\n",
      "282/282 [==============================] - 136s 483ms/step - loss: 0.2939 - accuracy: 0.9162 - val_loss: 0.0899 - val_accuracy: 0.9783\n",
      "Epoch 4/10\n",
      "282/282 [==============================] - 136s 483ms/step - loss: 0.2686 - accuracy: 0.9272 - val_loss: 0.0704 - val_accuracy: 0.9798\n",
      "Epoch 5/10\n",
      "282/282 [==============================] - 137s 485ms/step - loss: 0.2058 - accuracy: 0.9447 - val_loss: 0.0735 - val_accuracy: 0.9804\n",
      "Epoch 6/10\n",
      "282/282 [==============================] - 136s 482ms/step - loss: 0.2005 - accuracy: 0.9435 - val_loss: 0.2019 - val_accuracy: 0.9508\n",
      "Epoch 7/10\n",
      "282/282 [==============================] - 136s 481ms/step - loss: 0.1888 - accuracy: 0.9501 - val_loss: 0.0942 - val_accuracy: 0.9712\n",
      "Epoch 8/10\n",
      "282/282 [==============================] - 136s 481ms/step - loss: 0.1765 - accuracy: 0.9530 - val_loss: 0.0944 - val_accuracy: 0.9750\n",
      "Epoch 9/10\n",
      "282/282 [==============================] - 138s 488ms/step - loss: 0.1629 - accuracy: 0.9535 - val_loss: 0.1328 - val_accuracy: 0.9707\n",
      "Epoch 10/10\n",
      "282/282 [==============================] - 136s 482ms/step - loss: 0.1505 - accuracy: 0.9620 - val_loss: 0.1182 - val_accuracy: 0.9673\n",
      "Duration: 0:22:48.982624\n"
     ]
    }
   ],
   "source": [
    "print(n)#9\n",
    "models_lsa[n].fit_model(image_sets_lsa[n],label_sets_lsa[n],x_val,y_val)\n",
    "n = n+1"
   ]
  },
  {
   "cell_type": "code",
   "execution_count": 39,
   "id": "f9bbeb00",
   "metadata": {},
   "outputs": [
    {
     "name": "stdout",
     "output_type": "stream",
     "text": [
      "10\n",
      "Epoch 1/10\n",
      "310/310 [==============================] - 154s 489ms/step - loss: 0.6722 - accuracy: 0.8325 - val_loss: 0.0475 - val_accuracy: 0.9898\n",
      "Epoch 2/10\n",
      "310/310 [==============================] - 150s 483ms/step - loss: 0.3486 - accuracy: 0.9021 - val_loss: 0.0770 - val_accuracy: 0.9824\n",
      "Epoch 3/10\n",
      "310/310 [==============================] - 150s 485ms/step - loss: 0.2623 - accuracy: 0.9228 - val_loss: 0.0687 - val_accuracy: 0.9814\n",
      "Epoch 4/10\n",
      "310/310 [==============================] - 149s 482ms/step - loss: 0.2396 - accuracy: 0.9339 - val_loss: 0.0742 - val_accuracy: 0.9778\n",
      "Epoch 5/10\n",
      "310/310 [==============================] - 150s 483ms/step - loss: 0.2102 - accuracy: 0.9434 - val_loss: 0.0748 - val_accuracy: 0.9778\n",
      "Epoch 6/10\n",
      "310/310 [==============================] - 150s 484ms/step - loss: 0.1911 - accuracy: 0.9480 - val_loss: 0.1444 - val_accuracy: 0.9528\n",
      "Epoch 7/10\n",
      "310/310 [==============================] - 149s 482ms/step - loss: 0.1787 - accuracy: 0.9532 - val_loss: 0.0972 - val_accuracy: 0.9747\n",
      "Epoch 8/10\n",
      "310/310 [==============================] - 149s 482ms/step - loss: 0.1690 - accuracy: 0.9559 - val_loss: 0.0766 - val_accuracy: 0.9758\n",
      "Epoch 9/10\n",
      "310/310 [==============================] - 149s 481ms/step - loss: 0.1667 - accuracy: 0.9582 - val_loss: 0.1342 - val_accuracy: 0.9658\n",
      "Epoch 10/10\n",
      "310/310 [==============================] - 148s 476ms/step - loss: 0.1538 - accuracy: 0.9602 - val_loss: 0.0886 - val_accuracy: 0.9760\n",
      "Duration: 0:24:58.544762\n"
     ]
    }
   ],
   "source": [
    "print(n)\n",
    "models_lsa[n].fit_model(image_sets_lsa[n],label_sets_lsa[n],x_val,y_val)\n",
    "n = n+1"
   ]
  },
  {
   "cell_type": "code",
   "execution_count": 40,
   "id": "fcc0bfc7",
   "metadata": {},
   "outputs": [
    {
     "name": "stdout",
     "output_type": "stream",
     "text": [
      "11\n",
      "Epoch 1/10\n",
      "338/338 [==============================] - 161s 470ms/step - loss: 0.6047 - accuracy: 0.8449 - val_loss: 0.0576 - val_accuracy: 0.9834\n",
      "Epoch 2/10\n",
      "338/338 [==============================] - 160s 474ms/step - loss: 0.3501 - accuracy: 0.9014 - val_loss: 0.1401 - val_accuracy: 0.9668\n",
      "Epoch 3/10\n",
      "338/338 [==============================] - 161s 476ms/step - loss: 0.2652 - accuracy: 0.9257 - val_loss: 0.0753 - val_accuracy: 0.9773\n",
      "Epoch 4/10\n",
      "338/338 [==============================] - 161s 476ms/step - loss: 0.2286 - accuracy: 0.9368 - val_loss: 0.1045 - val_accuracy: 0.9696\n",
      "Epoch 5/10\n",
      "338/338 [==============================] - 161s 475ms/step - loss: 0.2166 - accuracy: 0.9439 - val_loss: 0.1092 - val_accuracy: 0.9770\n",
      "Epoch 6/10\n",
      "338/338 [==============================] - 161s 476ms/step - loss: 0.1948 - accuracy: 0.9473 - val_loss: 0.1122 - val_accuracy: 0.9668\n",
      "Epoch 7/10\n",
      "338/338 [==============================] - 162s 478ms/step - loss: 0.1843 - accuracy: 0.9520 - val_loss: 0.0938 - val_accuracy: 0.9760\n",
      "Epoch 8/10\n",
      "338/338 [==============================] - 161s 475ms/step - loss: 0.1696 - accuracy: 0.9547 - val_loss: 0.1550 - val_accuracy: 0.9676\n",
      "Epoch 9/10\n",
      "338/338 [==============================] - 161s 476ms/step - loss: 0.1848 - accuracy: 0.9567 - val_loss: 0.1954 - val_accuracy: 0.9502\n",
      "Epoch 10/10\n",
      "338/338 [==============================] - 161s 475ms/step - loss: 0.1820 - accuracy: 0.9591 - val_loss: 0.1001 - val_accuracy: 0.9768\n",
      "Duration: 0:26:47.598378\n"
     ]
    }
   ],
   "source": [
    "print(n)\n",
    "models_lsa[n].fit_model(image_sets_lsa[n],label_sets_lsa[n],x_val,y_val)\n",
    "n = n+1"
   ]
  },
  {
   "cell_type": "code",
   "execution_count": 41,
   "id": "13facd5c",
   "metadata": {},
   "outputs": [
    {
     "name": "stdout",
     "output_type": "stream",
     "text": [
      "12\n",
      "Epoch 1/10\n",
      "366/366 [==============================] - 177s 477ms/step - loss: 0.5741 - accuracy: 0.8570 - val_loss: 0.0548 - val_accuracy: 0.9857\n",
      "Epoch 2/10\n",
      "366/366 [==============================] - 172s 471ms/step - loss: 0.3190 - accuracy: 0.9082 - val_loss: 0.1368 - val_accuracy: 0.9604\n",
      "Epoch 3/10\n",
      "366/366 [==============================] - 173s 472ms/step - loss: 0.2484 - accuracy: 0.9329 - val_loss: 0.1008 - val_accuracy: 0.9750\n",
      "Epoch 4/10\n",
      "366/366 [==============================] - 172s 470ms/step - loss: 0.2214 - accuracy: 0.9404 - val_loss: 0.0562 - val_accuracy: 0.9837\n",
      "Epoch 5/10\n",
      "366/366 [==============================] - 173s 472ms/step - loss: 0.2034 - accuracy: 0.9460 - val_loss: 0.1100 - val_accuracy: 0.9714\n",
      "Epoch 6/10\n",
      "366/366 [==============================] - 173s 471ms/step - loss: 0.1821 - accuracy: 0.9524 - val_loss: 0.0818 - val_accuracy: 0.9770\n",
      "Epoch 7/10\n",
      "366/366 [==============================] - 172s 470ms/step - loss: 0.1644 - accuracy: 0.9558 - val_loss: 0.0990 - val_accuracy: 0.9709\n",
      "Epoch 8/10\n",
      "366/366 [==============================] - 173s 473ms/step - loss: 0.1846 - accuracy: 0.9570 - val_loss: 0.1101 - val_accuracy: 0.9612\n",
      "Epoch 9/10\n",
      "366/366 [==============================] - 173s 473ms/step - loss: 0.1601 - accuracy: 0.9613 - val_loss: 0.1273 - val_accuracy: 0.9650\n",
      "Epoch 10/10\n",
      "366/366 [==============================] - 172s 471ms/step - loss: 0.1601 - accuracy: 0.9593 - val_loss: 0.1387 - val_accuracy: 0.9643\n",
      "Duration: 0:28:49.784759\n"
     ]
    }
   ],
   "source": [
    "print(n)\n",
    "models_lsa[n].fit_model(image_sets_lsa[n],label_sets_lsa[n],x_val,y_val)\n",
    "n = n+1"
   ]
  },
  {
   "cell_type": "code",
   "execution_count": 42,
   "id": "ad7f0043",
   "metadata": {},
   "outputs": [
    {
     "name": "stdout",
     "output_type": "stream",
     "text": [
      "13\n",
      "Epoch 1/10\n",
      "394/394 [==============================] - 185s 465ms/step - loss: 0.5396 - accuracy: 0.8671 - val_loss: 0.0787 - val_accuracy: 0.9768\n",
      "Epoch 2/10\n",
      "394/394 [==============================] - 183s 465ms/step - loss: 0.3015 - accuracy: 0.9170 - val_loss: 0.0782 - val_accuracy: 0.9760\n",
      "Epoch 3/10\n",
      "394/394 [==============================] - 183s 465ms/step - loss: 0.2457 - accuracy: 0.9295 - val_loss: 0.1219 - val_accuracy: 0.9694\n",
      "Epoch 4/10\n",
      "394/394 [==============================] - 182s 463ms/step - loss: 0.2109 - accuracy: 0.9422 - val_loss: 0.0973 - val_accuracy: 0.9735\n",
      "Epoch 5/10\n",
      "394/394 [==============================] - 182s 462ms/step - loss: 0.1777 - accuracy: 0.9508 - val_loss: 0.1104 - val_accuracy: 0.9719\n",
      "Epoch 6/10\n",
      "394/394 [==============================] - 181s 460ms/step - loss: 0.1944 - accuracy: 0.9460 - val_loss: 0.1592 - val_accuracy: 0.9686\n",
      "Epoch 7/10\n",
      "394/394 [==============================] - 181s 460ms/step - loss: 0.1699 - accuracy: 0.9582 - val_loss: 0.1154 - val_accuracy: 0.9666\n",
      "Epoch 8/10\n",
      "394/394 [==============================] - 182s 461ms/step - loss: 0.1627 - accuracy: 0.9588 - val_loss: 0.0979 - val_accuracy: 0.9745\n",
      "Epoch 9/10\n",
      "394/394 [==============================] - 182s 462ms/step - loss: 0.1715 - accuracy: 0.9598 - val_loss: 0.1187 - val_accuracy: 0.9681\n",
      "Epoch 10/10\n",
      "394/394 [==============================] - 182s 462ms/step - loss: 0.1513 - accuracy: 0.9628 - val_loss: 0.0833 - val_accuracy: 0.9793\n",
      "Duration: 0:30:24.047555\n"
     ]
    }
   ],
   "source": [
    "print(n)\n",
    "models_lsa[n].fit_model(image_sets_lsa[n],label_sets_lsa[n],x_val,y_val)\n",
    "n = n+1"
   ]
  },
  {
   "cell_type": "code",
   "execution_count": 43,
   "id": "419551ee",
   "metadata": {},
   "outputs": [
    {
     "name": "stdout",
     "output_type": "stream",
     "text": [
      "14\n",
      "Epoch 1/10\n",
      "422/422 [==============================] - 208s 489ms/step - loss: 0.4993 - accuracy: 0.8745 - val_loss: 0.1045 - val_accuracy: 0.9860\n",
      "Epoch 2/10\n",
      "422/422 [==============================] - 387s 917ms/step - loss: 0.2798 - accuracy: 0.9236 - val_loss: 0.0971 - val_accuracy: 0.9806\n",
      "Epoch 3/10\n",
      "422/422 [==============================] - 199s 471ms/step - loss: 0.2259 - accuracy: 0.9373 - val_loss: 0.0910 - val_accuracy: 0.9775\n",
      "Epoch 4/10\n",
      "422/422 [==============================] - 198s 469ms/step - loss: 0.1959 - accuracy: 0.9468 - val_loss: 0.0758 - val_accuracy: 0.9814\n",
      "Epoch 5/10\n",
      "422/422 [==============================] - 29276s 70s/step - loss: 0.1790 - accuracy: 0.9508 - val_loss: 0.1403 - val_accuracy: 0.9622\n",
      "Epoch 6/10\n",
      "422/422 [==============================] - 218s 517ms/step - loss: 0.1697 - accuracy: 0.9561 - val_loss: 0.1079 - val_accuracy: 0.9737\n",
      "Epoch 7/10\n",
      "422/422 [==============================] - 217s 514ms/step - loss: 0.1692 - accuracy: 0.9581 - val_loss: 0.1251 - val_accuracy: 0.9701\n",
      "Epoch 8/10\n",
      "422/422 [==============================] - 218s 518ms/step - loss: 0.1580 - accuracy: 0.9611 - val_loss: 0.1578 - val_accuracy: 0.9681\n",
      "Epoch 9/10\n",
      "422/422 [==============================] - 222s 526ms/step - loss: 0.1588 - accuracy: 0.9605 - val_loss: 0.1620 - val_accuracy: 0.9709\n",
      "Epoch 10/10\n",
      "422/422 [==============================] - 219s 519ms/step - loss: 0.1694 - accuracy: 0.9636 - val_loss: 0.1651 - val_accuracy: 0.9615\n",
      "Duration: 8:42:41.273966\n"
     ]
    }
   ],
   "source": [
    "print(n)#14\n",
    "models_lsa[n].fit_model(image_sets_lsa[n],label_sets_lsa[n],x_val,y_val)\n",
    "n = n+1"
   ]
  },
  {
   "cell_type": "code",
   "execution_count": 44,
   "id": "60f36b0b",
   "metadata": {},
   "outputs": [
    {
     "name": "stdout",
     "output_type": "stream",
     "text": [
      "15\n",
      "Epoch 1/10\n",
      "450/450 [==============================] - 226s 497ms/step - loss: 0.4693 - accuracy: 0.8821 - val_loss: 0.0762 - val_accuracy: 0.9834\n",
      "Epoch 2/10\n",
      "450/450 [==============================] - 217s 483ms/step - loss: 0.2756 - accuracy: 0.9245 - val_loss: 0.0486 - val_accuracy: 0.9872\n",
      "Epoch 3/10\n",
      "450/450 [==============================] - 220s 490ms/step - loss: 0.1988 - accuracy: 0.9423 - val_loss: 0.0836 - val_accuracy: 0.9806\n",
      "Epoch 4/10\n",
      "450/450 [==============================] - 222s 493ms/step - loss: 0.1993 - accuracy: 0.9441 - val_loss: 0.1067 - val_accuracy: 0.9712\n",
      "Epoch 5/10\n",
      "450/450 [==============================] - 218s 485ms/step - loss: 0.1755 - accuracy: 0.9540 - val_loss: 0.0952 - val_accuracy: 0.9727\n",
      "Epoch 6/10\n",
      "450/450 [==============================] - 219s 487ms/step - loss: 0.1619 - accuracy: 0.9564 - val_loss: 0.0807 - val_accuracy: 0.9796\n",
      "Epoch 7/10\n",
      "450/450 [==============================] - 206s 458ms/step - loss: 0.1732 - accuracy: 0.9578 - val_loss: 0.0947 - val_accuracy: 0.9732\n",
      "Epoch 8/10\n",
      "450/450 [==============================] - 197s 437ms/step - loss: 0.1756 - accuracy: 0.9578 - val_loss: 0.1922 - val_accuracy: 0.9441\n",
      "Epoch 9/10\n",
      "450/450 [==============================] - 196s 436ms/step - loss: 0.1716 - accuracy: 0.9576 - val_loss: 0.1175 - val_accuracy: 0.9732\n",
      "Epoch 10/10\n",
      "450/450 [==============================] - 196s 435ms/step - loss: 0.1622 - accuracy: 0.9608 - val_loss: 0.1766 - val_accuracy: 0.9456\n",
      "Duration: 0:35:18.183261\n"
     ]
    }
   ],
   "source": [
    "print(n)\n",
    "models_lsa[n].fit_model(image_sets_lsa[n],label_sets_lsa[n],x_val,y_val)\n",
    "n = n+1"
   ]
  },
  {
   "cell_type": "code",
   "execution_count": 45,
   "id": "b0203db1",
   "metadata": {},
   "outputs": [
    {
     "name": "stdout",
     "output_type": "stream",
     "text": [
      "16\n",
      "Epoch 1/10\n",
      "479/479 [==============================] - 213s 440ms/step - loss: 0.4663 - accuracy: 0.8845 - val_loss: 0.0611 - val_accuracy: 0.9844\n",
      "Epoch 2/10\n",
      "479/479 [==============================] - 211s 440ms/step - loss: 0.2566 - accuracy: 0.9287 - val_loss: 0.2524 - val_accuracy: 0.9515\n",
      "Epoch 3/10\n",
      "479/479 [==============================] - 210s 439ms/step - loss: 0.2234 - accuracy: 0.9381 - val_loss: 0.0522 - val_accuracy: 0.9847\n",
      "Epoch 4/10\n",
      "479/479 [==============================] - 211s 440ms/step - loss: 0.1952 - accuracy: 0.9447 - val_loss: 0.0848 - val_accuracy: 0.9793\n",
      "Epoch 5/10\n",
      "479/479 [==============================] - 211s 441ms/step - loss: 0.1686 - accuracy: 0.9549 - val_loss: 0.1039 - val_accuracy: 0.9707\n",
      "Epoch 6/10\n",
      "479/479 [==============================] - 211s 440ms/step - loss: 0.1669 - accuracy: 0.9533 - val_loss: 0.0706 - val_accuracy: 0.9786\n",
      "Epoch 7/10\n",
      "479/479 [==============================] - 211s 440ms/step - loss: 0.1701 - accuracy: 0.9593 - val_loss: 0.2616 - val_accuracy: 0.9510\n",
      "Epoch 8/10\n",
      "479/479 [==============================] - 211s 440ms/step - loss: 0.1699 - accuracy: 0.9570 - val_loss: 0.1144 - val_accuracy: 0.9742\n",
      "Epoch 9/10\n",
      "479/479 [==============================] - 211s 440ms/step - loss: 0.1478 - accuracy: 0.9636 - val_loss: 0.0999 - val_accuracy: 0.9750\n",
      "Epoch 10/10\n",
      "479/479 [==============================] - 211s 441ms/step - loss: 0.1756 - accuracy: 0.9588 - val_loss: 0.1605 - val_accuracy: 0.9722\n",
      "Duration: 0:35:10.548595\n"
     ]
    }
   ],
   "source": [
    "print(n)\n",
    "models_lsa[n].fit_model(image_sets_lsa[n],label_sets_lsa[n],x_val,y_val)\n",
    "n = n+1"
   ]
  },
  {
   "cell_type": "code",
   "execution_count": 46,
   "id": "947e9756",
   "metadata": {},
   "outputs": [
    {
     "name": "stdout",
     "output_type": "stream",
     "text": [
      "17\n",
      "Epoch 1/10\n",
      "507/507 [==============================] - 225s 441ms/step - loss: 0.4209 - accuracy: 0.8953 - val_loss: 0.0661 - val_accuracy: 0.9832\n",
      "Epoch 2/10\n",
      "507/507 [==============================] - 223s 441ms/step - loss: 0.2482 - accuracy: 0.9318 - val_loss: 0.0703 - val_accuracy: 0.9819\n",
      "Epoch 3/10\n",
      "507/507 [==============================] - 224s 442ms/step - loss: 0.2207 - accuracy: 0.9395 - val_loss: 0.0738 - val_accuracy: 0.9824\n",
      "Epoch 4/10\n",
      "507/507 [==============================] - 224s 442ms/step - loss: 0.1871 - accuracy: 0.9488 - val_loss: 0.0941 - val_accuracy: 0.9768\n",
      "Epoch 5/10\n",
      "507/507 [==============================] - 224s 441ms/step - loss: 0.1790 - accuracy: 0.9509 - val_loss: 0.0926 - val_accuracy: 0.9727\n",
      "Epoch 6/10\n",
      "507/507 [==============================] - 223s 440ms/step - loss: 0.1667 - accuracy: 0.9574 - val_loss: 0.0664 - val_accuracy: 0.9816\n",
      "Epoch 7/10\n",
      "507/507 [==============================] - 224s 442ms/step - loss: 0.1646 - accuracy: 0.9600 - val_loss: 0.1148 - val_accuracy: 0.9727\n",
      "Epoch 8/10\n",
      "507/507 [==============================] - 224s 441ms/step - loss: 0.1698 - accuracy: 0.9593 - val_loss: 0.1022 - val_accuracy: 0.9737\n",
      "Epoch 9/10\n",
      "507/507 [==============================] - 224s 442ms/step - loss: 0.1776 - accuracy: 0.9602 - val_loss: 0.0919 - val_accuracy: 0.9765\n",
      "Epoch 10/10\n",
      "507/507 [==============================] - 223s 440ms/step - loss: 0.1688 - accuracy: 0.9624 - val_loss: 0.0660 - val_accuracy: 0.9811\n",
      "Duration: 0:37:18.971595\n"
     ]
    }
   ],
   "source": [
    "print(n)\n",
    "models_lsa[n].fit_model(image_sets_lsa[n],label_sets_lsa[n],x_val,y_val)\n",
    "n = n+1"
   ]
  },
  {
   "cell_type": "code",
   "execution_count": 47,
   "id": "b9a0a231",
   "metadata": {},
   "outputs": [
    {
     "name": "stdout",
     "output_type": "stream",
     "text": [
      "18\n",
      "Epoch 1/10\n",
      "535/535 [==============================] - 243s 450ms/step - loss: 0.4096 - accuracy: 0.8969 - val_loss: 0.0314 - val_accuracy: 0.9923\n",
      "Epoch 2/10\n",
      "535/535 [==============================] - 233s 436ms/step - loss: 0.2436 - accuracy: 0.9311 - val_loss: 0.0288 - val_accuracy: 0.9941\n",
      "Epoch 3/10\n",
      "535/535 [==============================] - 234s 437ms/step - loss: 0.2150 - accuracy: 0.9415 - val_loss: 0.0350 - val_accuracy: 0.9934\n",
      "Epoch 4/10\n",
      "535/535 [==============================] - 234s 437ms/step - loss: 0.1790 - accuracy: 0.9520 - val_loss: 0.0371 - val_accuracy: 0.9906\n",
      "Epoch 5/10\n",
      "535/535 [==============================] - 235s 439ms/step - loss: 0.1798 - accuracy: 0.9527 - val_loss: 0.0535 - val_accuracy: 0.9895\n",
      "Epoch 6/10\n",
      "535/535 [==============================] - 234s 438ms/step - loss: 0.1715 - accuracy: 0.9560 - val_loss: 0.0309 - val_accuracy: 0.9918\n",
      "Epoch 7/10\n",
      "535/535 [==============================] - 234s 438ms/step - loss: 0.1629 - accuracy: 0.9593 - val_loss: 0.0582 - val_accuracy: 0.9878\n",
      "Epoch 8/10\n",
      "535/535 [==============================] - 234s 437ms/step - loss: 0.1911 - accuracy: 0.9550 - val_loss: 0.0318 - val_accuracy: 0.9923\n",
      "Epoch 9/10\n",
      "535/535 [==============================] - 234s 438ms/step - loss: 0.1753 - accuracy: 0.9591 - val_loss: 0.0391 - val_accuracy: 0.9916\n",
      "Epoch 10/10\n",
      "535/535 [==============================] - 234s 437ms/step - loss: 0.1895 - accuracy: 0.9577 - val_loss: 0.0254 - val_accuracy: 0.9939\n",
      "Duration: 0:39:08.708381\n"
     ]
    }
   ],
   "source": [
    "print(n)\n",
    "models_lsa[n].fit_model(image_sets_lsa[n],label_sets_lsa[n],x_val,y_val)\n",
    "n = n+1"
   ]
  },
  {
   "cell_type": "code",
   "execution_count": 48,
   "id": "d3a5471a",
   "metadata": {},
   "outputs": [
    {
     "name": "stdout",
     "output_type": "stream",
     "text": [
      "19\n",
      "Epoch 1/10\n",
      "569/569 [==============================] - 253s 441ms/step - loss: 0.4039 - accuracy: 0.8993 - val_loss: 0.0355 - val_accuracy: 0.9911\n",
      "Epoch 2/10\n",
      "569/569 [==============================] - 250s 440ms/step - loss: 0.2462 - accuracy: 0.9348 - val_loss: 0.0368 - val_accuracy: 0.9895\n",
      "Epoch 3/10\n",
      "569/569 [==============================] - 251s 441ms/step - loss: 0.2017 - accuracy: 0.9451 - val_loss: 0.0328 - val_accuracy: 0.9921\n",
      "Epoch 4/10\n",
      "569/569 [==============================] - 251s 441ms/step - loss: 0.1859 - accuracy: 0.9498 - val_loss: 0.0303 - val_accuracy: 0.9954\n",
      "Epoch 5/10\n",
      "569/569 [==============================] - 251s 441ms/step - loss: 0.1838 - accuracy: 0.9518 - val_loss: 0.0420 - val_accuracy: 0.9939\n",
      "Epoch 6/10\n",
      "569/569 [==============================] - 251s 442ms/step - loss: 0.1707 - accuracy: 0.9567 - val_loss: 0.0183 - val_accuracy: 0.9949\n",
      "Epoch 7/10\n",
      "569/569 [==============================] - 252s 443ms/step - loss: 0.1803 - accuracy: 0.9553 - val_loss: 0.0255 - val_accuracy: 0.9941\n",
      "Epoch 8/10\n",
      "569/569 [==============================] - 14766s 26s/step - loss: 0.1732 - accuracy: 0.9570 - val_loss: 0.0291 - val_accuracy: 0.9962\n",
      "Epoch 9/10\n",
      "569/569 [==============================] - 292s 514ms/step - loss: 0.1918 - accuracy: 0.9580 - val_loss: 0.0417 - val_accuracy: 0.9931\n",
      "Epoch 10/10\n",
      "569/569 [==============================] - 264s 464ms/step - loss: 0.2057 - accuracy: 0.9553 - val_loss: 0.0400 - val_accuracy: 0.9893\n",
      "Duration: 4:44:41.810957\n"
     ]
    }
   ],
   "source": [
    "print(n)#19\n",
    "models_lsa[n].fit_model(image_sets_lsa[n],label_sets_lsa[n],x_val,y_val)\n",
    "n = n+1"
   ]
  },
  {
   "cell_type": "code",
   "execution_count": 16,
   "id": "6fa0857e",
   "metadata": {},
   "outputs": [
    {
     "name": "stdout",
     "output_type": "stream",
     "text": [
      "D:/models/gtsrb_models/C2/gtsrb_model_c2_sep_lsa_e2_0\n",
      "Model loaded correctly\n",
      "D:/models/gtsrb_models/C2/gtsrb_model_c2_sep_lsa_e2_1\n",
      "Model loaded correctly\n",
      "D:/models/gtsrb_models/C2/gtsrb_model_c2_sep_lsa_e2_2\n",
      "Model loaded correctly\n",
      "D:/models/gtsrb_models/C2/gtsrb_model_c2_sep_lsa_e2_3\n",
      "Model loaded correctly\n",
      "D:/models/gtsrb_models/C2/gtsrb_model_c2_sep_lsa_e2_4\n",
      "Model loaded correctly\n",
      "D:/models/gtsrb_models/C2/gtsrb_model_c2_sep_lsa_e2_5\n",
      "Model loaded correctly\n",
      "D:/models/gtsrb_models/C2/gtsrb_model_c2_sep_lsa_e2_6\n",
      "Model loaded correctly\n",
      "D:/models/gtsrb_models/C2/gtsrb_model_c2_sep_lsa_e2_7\n",
      "Model loaded correctly\n",
      "D:/models/gtsrb_models/C2/gtsrb_model_c2_sep_lsa_e2_8\n",
      "Model loaded correctly\n",
      "D:/models/gtsrb_models/C2/gtsrb_model_c2_sep_lsa_e2_9\n",
      "Model loaded correctly\n",
      "D:/models/gtsrb_models/C2/gtsrb_model_c2_sep_lsa_e2_10\n",
      "Model loaded correctly\n",
      "D:/models/gtsrb_models/C2/gtsrb_model_c2_sep_lsa_e2_11\n",
      "Model loaded correctly\n",
      "D:/models/gtsrb_models/C2/gtsrb_model_c2_sep_lsa_e2_12\n",
      "Model loaded correctly\n",
      "D:/models/gtsrb_models/C2/gtsrb_model_c2_sep_lsa_e2_13\n",
      "Model loaded correctly\n",
      "D:/models/gtsrb_models/C2/gtsrb_model_c2_sep_lsa_e2_14\n",
      "Model loaded correctly\n",
      "D:/models/gtsrb_models/C2/gtsrb_model_c2_sep_lsa_e2_15\n",
      "Model loaded correctly\n",
      "D:/models/gtsrb_models/C2/gtsrb_model_c2_sep_lsa_e2_16\n",
      "Model loaded correctly\n",
      "D:/models/gtsrb_models/C2/gtsrb_model_c2_sep_lsa_e2_17\n",
      "Model loaded correctly\n",
      "D:/models/gtsrb_models/C2/gtsrb_model_c2_sep_lsa_e2_18\n",
      "Model loaded correctly\n",
      "D:/models/gtsrb_models/C2/gtsrb_model_c2_sep_lsa_e2_19\n",
      "Model loaded correctly\n"
     ]
    }
   ],
   "source": [
    "loading = True\n",
    "\n",
    "models_lsa = []\n",
    "\n",
    "if loading:\n",
    "    for i in range(20):\n",
    "        model_lsa_dir = \"D:/models/gtsrb_models/C2/gtsrb_model_c2_sep_lsa_e2_\"+str(i)\n",
    "        print(model_lsa_dir)\n",
    "        model =utils.My_model('gtsrb',True,model_lsa_dir)\n",
    "        model.model.compile(loss= 'categorical_crossentropy', optimizer = 'rmsprop', metrics = ['accuracy',tf.keras.metrics.Precision(), tf.keras.metrics.Recall()])\n",
    "        models_lsa.append(model)"
   ]
  },
  {
   "cell_type": "code",
   "execution_count": 29,
   "id": "8c58e84e",
   "metadata": {},
   "outputs": [
    {
     "name": "stdout",
     "output_type": "stream",
     "text": [
      "Model loaded correctly\n"
     ]
    }
   ],
   "source": [
    "\n",
    "        \n",
    "model_lsa_dir_5000 = \"D:/models/gtsrb/C3/gtsrb_model_c3_sep_lsa_e2_5000\"\n",
    "model_lsa_5000 =utils.My_model('gtsrb',True,model_lsa_dir_5000)\n",
    "model_lsa_5000.model.compile(loss= 'categorical_crossentropy', optimizer = 'rmsprop', metrics = ['accuracy',tf.keras.metrics.Precision(), tf.keras.metrics.Recall()])\n"
   ]
  },
  {
   "cell_type": "markdown",
   "id": "a13ef06e",
   "metadata": {},
   "source": [
    "## DSA"
   ]
  },
  {
   "cell_type": "markdown",
   "id": "c3e940af",
   "metadata": {},
   "source": [
    "## Point dsa"
   ]
  },
  {
   "cell_type": "code",
   "execution_count": 15,
   "id": "29e1b299",
   "metadata": {},
   "outputs": [],
   "source": [
    "top_images_by_dsa_5000 = np.array(top_images_by_dsa[:5000])\n",
    "top_labels_by_dsa_5000 = np.array(top_labels_by_dsa[:5000])\n"
   ]
  },
  {
   "cell_type": "code",
   "execution_count": 16,
   "id": "b28d0f36",
   "metadata": {},
   "outputs": [
    {
     "name": "stdout",
     "output_type": "stream",
     "text": [
      "Model loaded correctly\n",
      "Model compiled\n"
     ]
    }
   ],
   "source": [
    "model_dsa_5000 =  utils.My_model(dataset,True,model_dir)\n",
    "model_dsa_5000.compile_model()"
   ]
  },
  {
   "cell_type": "code",
   "execution_count": 17,
   "id": "5de76f17",
   "metadata": {},
   "outputs": [
    {
     "name": "stdout",
     "output_type": "stream",
     "text": [
      "Epoch 1/10\n",
      "79/79 [==============================] - 55s 484ms/step - loss: 2.5676 - accuracy: 0.3474 - val_loss: 0.5547 - val_accuracy: 0.8625\n",
      "Epoch 2/10\n",
      "79/79 [==============================] - 38s 482ms/step - loss: 1.2156 - accuracy: 0.6544 - val_loss: 0.5245 - val_accuracy: 0.8591\n",
      "Epoch 3/10\n",
      "79/79 [==============================] - 40s 512ms/step - loss: 0.9192 - accuracy: 0.7364 - val_loss: 0.5093 - val_accuracy: 0.8671\n",
      "Epoch 4/10\n",
      "79/79 [==============================] - 43s 548ms/step - loss: 0.7300 - accuracy: 0.7850 - val_loss: 0.9045 - val_accuracy: 0.7772\n",
      "Epoch 5/10\n",
      "79/79 [==============================] - 41s 514ms/step - loss: 0.5861 - accuracy: 0.8334 - val_loss: 0.5801 - val_accuracy: 0.8528\n",
      "Epoch 6/10\n",
      "79/79 [==============================] - 41s 521ms/step - loss: 0.4953 - accuracy: 0.8552 - val_loss: 0.4364 - val_accuracy: 0.8936\n",
      "Epoch 7/10\n",
      "79/79 [==============================] - 39s 490ms/step - loss: 0.4303 - accuracy: 0.8715 - val_loss: 0.8012 - val_accuracy: 0.7956\n",
      "Epoch 8/10\n",
      "79/79 [==============================] - 40s 505ms/step - loss: 0.3479 - accuracy: 0.8950 - val_loss: 0.6585 - val_accuracy: 0.8313\n",
      "Epoch 9/10\n",
      "79/79 [==============================] - 43s 540ms/step - loss: 0.2982 - accuracy: 0.9125 - val_loss: 0.5510 - val_accuracy: 0.8982\n",
      "Epoch 10/10\n",
      "79/79 [==============================] - 40s 502ms/step - loss: 0.2816 - accuracy: 0.9159 - val_loss: 0.7066 - val_accuracy: 0.8178\n",
      "Duration: 0:06:59.951613\n"
     ]
    },
    {
     "data": {
      "text/plain": [
       "<keras.callbacks.History at 0x1a37c47ff70>"
      ]
     },
     "execution_count": 17,
     "metadata": {},
     "output_type": "execute_result"
    }
   ],
   "source": [
    "model_dsa_5000.fit_model(top_images_by_dsa_5000,top_labels_by_dsa_5000,x_val,y_val)"
   ]
  },
  {
   "cell_type": "code",
   "execution_count": 17,
   "id": "099c7fa2",
   "metadata": {},
   "outputs": [
    {
     "name": "stdout",
     "output_type": "stream",
     "text": [
      "0 :\n",
      "0  ->  1800\n",
      "1800\n",
      "1 :\n",
      "0  ->  3600\n",
      "3600\n",
      "2 :\n",
      "0  ->  5400\n",
      "5400\n",
      "3 :\n",
      "0  ->  7200\n",
      "7200\n",
      "4 :\n",
      "0  ->  9000\n",
      "9000\n",
      "5 :\n",
      "0  ->  10800\n",
      "10800\n",
      "6 :\n",
      "0  ->  12600\n",
      "12600\n",
      "7 :\n",
      "0  ->  14400\n",
      "14400\n",
      "8 :\n",
      "0  ->  16200\n",
      "16200\n",
      "9 :\n",
      "0  ->  18000\n",
      "18000\n",
      "10 :\n",
      "0  ->  19800\n",
      "19800\n",
      "11 :\n",
      "0  ->  21600\n",
      "21600\n",
      "12 :\n",
      "0  ->  23400\n",
      "23400\n",
      "13 :\n",
      "0  ->  25200\n",
      "25200\n",
      "14 :\n",
      "0  ->  27000\n",
      "27000\n",
      "15 :\n",
      "0  ->  28800\n",
      "28800\n",
      "16 :\n",
      "0  ->  30600\n",
      "30600\n",
      "17 :\n",
      "0  ->  32400\n",
      "32400\n",
      "18 :\n",
      "0  ->  34200\n",
      "34200\n",
      "19 :\n",
      "Last\n",
      "0  ->  36366\n",
      "36366\n"
     ]
    }
   ],
   "source": [
    "m = 1800\n",
    "n = 0\n",
    "image_sets_dsa = []\n",
    "label_sets_dsa = []\n",
    "\n",
    "\n",
    "for i in range(len(top_images_by_dsa)//m):\n",
    "    print(i,\":\")\n",
    "    if (i+1 >= len(top_images_by_dsa)//m):\n",
    "        print(\"Last\")\n",
    "        print(0,\" -> \",n+m+(len(top_images_by_dsa)%m))\n",
    "        top_images_by_dsa_n = np.array(top_images_by_dsa[:n+m+(len(top_images_by_dsa)%m)])\n",
    "        top_labels_by_dsa_n = np.array(top_labels_by_dsa[:n+m+(len(top_images_by_dsa)%m)])\n",
    "    else:\n",
    "        print(0,\" -> \",m+n)\n",
    "        top_images_by_dsa_n = np.array(top_images_by_dsa[:n+m])\n",
    "        top_labels_by_dsa_n = np.array(top_labels_by_dsa[:n+m])\n",
    "    image_sets_dsa.append(top_images_by_dsa_n)\n",
    "    label_sets_dsa.append(top_labels_by_dsa_n)\n",
    "    print(len(top_images_by_dsa_n))\n",
    "    n += m\n",
    "\n"
   ]
  },
  {
   "cell_type": "code",
   "execution_count": 20,
   "id": "8713d09c",
   "metadata": {
    "scrolled": true
   },
   "outputs": [
    {
     "name": "stdout",
     "output_type": "stream",
     "text": [
      "C:/Users/fjdur/Desktop/upc/project_notebooks/github_project/DL_notebooks/models/tf_model_25-06\n",
      "0 :\n",
      "Model loaded correctly\n",
      "Model compiled\n",
      "1 :\n",
      "Model loaded correctly\n",
      "Model compiled\n",
      "2 :\n",
      "Model loaded correctly\n",
      "Model compiled\n",
      "3 :\n",
      "Model loaded correctly\n",
      "Model compiled\n",
      "4 :\n",
      "Model loaded correctly\n",
      "Model compiled\n",
      "5 :\n",
      "Model loaded correctly\n",
      "Model compiled\n",
      "6 :\n",
      "Model loaded correctly\n",
      "Model compiled\n",
      "7 :\n",
      "Model loaded correctly\n",
      "Model compiled\n",
      "8 :\n",
      "Model loaded correctly\n",
      "Model compiled\n",
      "9 :\n",
      "Model loaded correctly\n",
      "Model compiled\n",
      "10 :\n",
      "Model loaded correctly\n",
      "Model compiled\n",
      "11 :\n",
      "Model loaded correctly\n",
      "Model compiled\n",
      "12 :\n",
      "Model loaded correctly\n",
      "Model compiled\n",
      "13 :\n",
      "Model loaded correctly\n",
      "Model compiled\n",
      "14 :\n",
      "Model loaded correctly\n",
      "Model compiled\n",
      "15 :\n",
      "Model loaded correctly\n",
      "Model compiled\n",
      "16 :\n",
      "Model loaded correctly\n",
      "Model compiled\n",
      "17 :\n",
      "Model loaded correctly\n",
      "Model compiled\n",
      "18 :\n",
      "Model loaded correctly\n",
      "Model compiled\n",
      "19 :\n",
      "Model loaded correctly\n",
      "Model compiled\n"
     ]
    }
   ],
   "source": [
    "print(model_dir)\n",
    "\n",
    "models_dsa = []\n",
    "for i in range(len(label_sets_dsa)):\n",
    "    print(i,\":\")\n",
    "    model = utils.My_model('gtsrb',True,model_dir)\n",
    "    model.compile_model()\n",
    "    models_dsa.append(model)\n"
   ]
  },
  {
   "cell_type": "code",
   "execution_count": 56,
   "id": "6185e378",
   "metadata": {},
   "outputs": [
    {
     "name": "stdout",
     "output_type": "stream",
     "text": [
      "123/123 [==============================] - 8s 59ms/step - loss: 0.0595 - accuracy: 0.9859\n"
     ]
    },
    {
     "data": {
      "text/plain": [
       "[0.029302377253770828, 0.9928625822067261]"
      ]
     },
     "execution_count": 56,
     "metadata": {},
     "output_type": "execute_result"
    }
   ],
   "source": [
    "models_dsa[1].evaluate(x_test,y_test)"
   ]
  },
  {
   "cell_type": "code",
   "execution_count": 55,
   "id": "2fd23c18",
   "metadata": {},
   "outputs": [],
   "source": [
    "n=0"
   ]
  },
  {
   "cell_type": "code",
   "execution_count": 31,
   "id": "9990e037",
   "metadata": {},
   "outputs": [
    {
     "name": "stdout",
     "output_type": "stream",
     "text": [
      "0\n",
      "Epoch 1/10\n",
      "29/29 [==============================] - 20s 623ms/step - loss: 3.5564 - accuracy: 0.1722 - val_loss: 0.3946 - val_accuracy: 0.9076\n",
      "Epoch 2/10\n",
      "29/29 [==============================] - 17s 604ms/step - loss: 1.9154 - accuracy: 0.4793 - val_loss: 0.9690 - val_accuracy: 0.8334\n",
      "Epoch 3/10\n",
      "29/29 [==============================] - 17s 608ms/step - loss: 1.5983 - accuracy: 0.5643 - val_loss: 1.0980 - val_accuracy: 0.8178\n",
      "Epoch 4/10\n",
      "29/29 [==============================] - 17s 605ms/step - loss: 1.2754 - accuracy: 0.6391 - val_loss: 0.3896 - val_accuracy: 0.8918\n",
      "Epoch 5/10\n",
      "29/29 [==============================] - 17s 607ms/step - loss: 1.0439 - accuracy: 0.6838 - val_loss: 0.5365 - val_accuracy: 0.8569\n",
      "Epoch 6/10\n",
      "29/29 [==============================] - 17s 607ms/step - loss: 0.9646 - accuracy: 0.7252 - val_loss: 0.5419 - val_accuracy: 0.8591\n",
      "Epoch 7/10\n",
      "29/29 [==============================] - 18s 620ms/step - loss: 0.8457 - accuracy: 0.7419 - val_loss: 1.6124 - val_accuracy: 0.6400\n",
      "Epoch 8/10\n",
      "29/29 [==============================] - 18s 612ms/step - loss: 0.8566 - accuracy: 0.7601 - val_loss: 0.3746 - val_accuracy: 0.8997\n",
      "Epoch 9/10\n",
      "29/29 [==============================] - 18s 614ms/step - loss: 0.6923 - accuracy: 0.7959 - val_loss: 0.5144 - val_accuracy: 0.8813\n",
      "Epoch 10/10\n",
      "29/29 [==============================] - 18s 615ms/step - loss: 0.4958 - accuracy: 0.8433 - val_loss: 0.6606 - val_accuracy: 0.8352\n",
      "Duration: 0:02:57.291042\n"
     ]
    }
   ],
   "source": [
    "n=0\n",
    "print(n)\n",
    "\n",
    "models_dsa[n].fit_model(image_sets_dsa[n],label_sets_dsa[n],x_val,y_val)\n",
    "n = n+1"
   ]
  },
  {
   "cell_type": "code",
   "execution_count": 21,
   "id": "c24fa024",
   "metadata": {},
   "outputs": [
    {
     "name": "stdout",
     "output_type": "stream",
     "text": [
      "1\n",
      "Epoch 1/10\n",
      "57/57 [==============================] - 30s 501ms/step - loss: 2.8749 - accuracy: 0.2735 - val_loss: 0.4392 - val_accuracy: 0.8813\n",
      "Epoch 2/10\n",
      "57/57 [==============================] - 28s 492ms/step - loss: 1.4353 - accuracy: 0.6021 - val_loss: 0.4914 - val_accuracy: 0.8877\n",
      "Epoch 3/10\n",
      "57/57 [==============================] - 28s 484ms/step - loss: 1.0745 - accuracy: 0.6916 - val_loss: 0.4412 - val_accuracy: 0.8842\n",
      "Epoch 4/10\n",
      "57/57 [==============================] - 28s 489ms/step - loss: 0.8491 - accuracy: 0.7452 - val_loss: 0.5784 - val_accuracy: 0.8459\n",
      "Epoch 5/10\n",
      "57/57 [==============================] - 28s 487ms/step - loss: 0.6655 - accuracy: 0.7993 - val_loss: 0.6309 - val_accuracy: 0.8369\n",
      "Epoch 6/10\n",
      "57/57 [==============================] - 28s 488ms/step - loss: 0.6135 - accuracy: 0.8115 - val_loss: 1.5231 - val_accuracy: 0.8122\n",
      "Epoch 7/10\n",
      "57/57 [==============================] - 29s 510ms/step - loss: 0.5206 - accuracy: 0.8474 - val_loss: 0.4761 - val_accuracy: 0.8796\n",
      "Epoch 8/10\n",
      "57/57 [==============================] - 28s 500ms/step - loss: 0.4596 - accuracy: 0.8702 - val_loss: 0.9286 - val_accuracy: 0.8474\n",
      "Epoch 9/10\n",
      "57/57 [==============================] - 28s 487ms/step - loss: 0.4034 - accuracy: 0.8847 - val_loss: 0.7574 - val_accuracy: 0.8520\n",
      "Epoch 10/10\n",
      "57/57 [==============================] - 28s 488ms/step - loss: 0.4263 - accuracy: 0.8845 - val_loss: 0.7216 - val_accuracy: 0.8510\n",
      "Duration: 0:04:41.819267\n"
     ]
    }
   ],
   "source": [
    "n=1\n",
    "print(n)\n",
    "\n",
    "models_dsa[n].fit_model(image_sets_dsa[n],label_sets_dsa[n],x_val,y_val)\n",
    "n = n+1"
   ]
  },
  {
   "cell_type": "code",
   "execution_count": 22,
   "id": "2582ba35",
   "metadata": {},
   "outputs": [
    {
     "name": "stdout",
     "output_type": "stream",
     "text": [
      "2\n",
      "Epoch 1/10\n",
      "85/85 [==============================] - 41s 460ms/step - loss: 2.4935 - accuracy: 0.3923 - val_loss: 0.4134 - val_accuracy: 0.8936\n",
      "Epoch 2/10\n",
      "85/85 [==============================] - 38s 453ms/step - loss: 1.1246 - accuracy: 0.6840 - val_loss: 1.1303 - val_accuracy: 0.8390\n",
      "Epoch 3/10\n",
      "85/85 [==============================] - 39s 455ms/step - loss: 0.7989 - accuracy: 0.7563 - val_loss: 1.4749 - val_accuracy: 0.8099\n",
      "Epoch 4/10\n",
      "85/85 [==============================] - 39s 454ms/step - loss: 0.6347 - accuracy: 0.8141 - val_loss: 1.8702 - val_accuracy: 0.7829\n",
      "Epoch 5/10\n",
      "85/85 [==============================] - 39s 461ms/step - loss: 0.5001 - accuracy: 0.8499 - val_loss: 3.1533 - val_accuracy: 0.7517\n",
      "Epoch 6/10\n",
      "85/85 [==============================] - 39s 456ms/step - loss: 0.4563 - accuracy: 0.8675 - val_loss: 3.3713 - val_accuracy: 0.7767\n",
      "Epoch 7/10\n",
      "85/85 [==============================] - 39s 461ms/step - loss: 0.3625 - accuracy: 0.8881 - val_loss: 1.8593 - val_accuracy: 0.8232\n",
      "Epoch 8/10\n",
      "85/85 [==============================] - 39s 454ms/step - loss: 0.3117 - accuracy: 0.9107 - val_loss: 1.7453 - val_accuracy: 0.8191\n",
      "Epoch 9/10\n",
      "85/85 [==============================] - 39s 456ms/step - loss: 0.2749 - accuracy: 0.9162 - val_loss: 2.7688 - val_accuracy: 0.8035\n",
      "Epoch 10/10\n",
      "85/85 [==============================] - 39s 454ms/step - loss: 0.2389 - accuracy: 0.9216 - val_loss: 2.3476 - val_accuracy: 0.8096\n",
      "Duration: 0:06:29.231807\n"
     ]
    }
   ],
   "source": [
    "n=2\n",
    "print(n)\n",
    "\n",
    "models_dsa[n].fit_model(image_sets_dsa[n],label_sets_dsa[n],x_val,y_val)\n",
    "n = n+1"
   ]
  },
  {
   "cell_type": "code",
   "execution_count": 23,
   "id": "62d686d3",
   "metadata": {},
   "outputs": [
    {
     "name": "stdout",
     "output_type": "stream",
     "text": [
      "3\n",
      "Epoch 1/10\n",
      "113/113 [==============================] - 52s 441ms/step - loss: 1.9473 - accuracy: 0.5233 - val_loss: 0.2860 - val_accuracy: 0.9234\n",
      "Epoch 2/10\n",
      "113/113 [==============================] - 50s 439ms/step - loss: 0.8795 - accuracy: 0.7505 - val_loss: 0.4624 - val_accuracy: 0.9109\n",
      "Epoch 3/10\n",
      "113/113 [==============================] - 50s 443ms/step - loss: 0.6607 - accuracy: 0.8081 - val_loss: 0.1831 - val_accuracy: 0.9541\n",
      "Epoch 4/10\n",
      "113/113 [==============================] - 51s 452ms/step - loss: 0.5035 - accuracy: 0.8494 - val_loss: 0.3291 - val_accuracy: 0.9219\n",
      "Epoch 5/10\n",
      "113/113 [==============================] - 52s 460ms/step - loss: 0.4156 - accuracy: 0.8811 - val_loss: 0.1667 - val_accuracy: 0.9520\n",
      "Epoch 6/10\n",
      "113/113 [==============================] - 51s 449ms/step - loss: 0.3809 - accuracy: 0.8925 - val_loss: 0.2904 - val_accuracy: 0.9278\n",
      "Epoch 7/10\n",
      "113/113 [==============================] - 49s 437ms/step - loss: 0.3046 - accuracy: 0.9115 - val_loss: 0.3527 - val_accuracy: 0.8969\n",
      "Epoch 8/10\n",
      "113/113 [==============================] - 49s 438ms/step - loss: 0.3091 - accuracy: 0.9091 - val_loss: 0.3223 - val_accuracy: 0.9408\n",
      "Epoch 9/10\n",
      "113/113 [==============================] - 50s 440ms/step - loss: 0.2604 - accuracy: 0.9274 - val_loss: 0.2029 - val_accuracy: 0.9543\n",
      "Epoch 10/10\n",
      "113/113 [==============================] - 50s 444ms/step - loss: 0.2225 - accuracy: 0.9354 - val_loss: 0.3231 - val_accuracy: 0.9329\n",
      "Duration: 0:08:23.705175\n"
     ]
    }
   ],
   "source": [
    "print(n)\n",
    "\n",
    "models_dsa[n].fit_model(image_sets_dsa[n],label_sets_dsa[n],x_val,y_val)\n",
    "n = n+1"
   ]
  },
  {
   "cell_type": "code",
   "execution_count": 24,
   "id": "a675c8a7",
   "metadata": {},
   "outputs": [
    {
     "name": "stdout",
     "output_type": "stream",
     "text": [
      "4\n",
      "Epoch 1/10\n",
      "141/141 [==============================] - 63s 430ms/step - loss: 1.4725 - accuracy: 0.6386 - val_loss: 0.1198 - val_accuracy: 0.9714\n",
      "Epoch 2/10\n",
      "141/141 [==============================] - 62s 443ms/step - loss: 0.7115 - accuracy: 0.7984 - val_loss: 0.3997 - val_accuracy: 0.9018\n",
      "Epoch 3/10\n",
      "141/141 [==============================] - 71s 503ms/step - loss: 0.5287 - accuracy: 0.8500 - val_loss: 0.2034 - val_accuracy: 0.9599\n",
      "Epoch 4/10\n",
      "141/141 [==============================] - 64s 455ms/step - loss: 0.4165 - accuracy: 0.8790 - val_loss: 0.3098 - val_accuracy: 0.9257\n",
      "Epoch 5/10\n",
      "141/141 [==============================] - 69s 489ms/step - loss: 0.3307 - accuracy: 0.9077 - val_loss: 0.0966 - val_accuracy: 0.9730\n",
      "Epoch 6/10\n",
      "141/141 [==============================] - 66s 469ms/step - loss: 0.2800 - accuracy: 0.9170 - val_loss: 0.1700 - val_accuracy: 0.9633\n",
      "Epoch 7/10\n",
      "141/141 [==============================] - 61s 430ms/step - loss: 0.2439 - accuracy: 0.9314 - val_loss: 0.1739 - val_accuracy: 0.9571\n",
      "Epoch 8/10\n",
      "141/141 [==============================] - 61s 430ms/step - loss: 0.2165 - accuracy: 0.9389 - val_loss: 0.2708 - val_accuracy: 0.9439\n",
      "Epoch 9/10\n",
      "141/141 [==============================] - 61s 430ms/step - loss: 0.2345 - accuracy: 0.9362 - val_loss: 0.5219 - val_accuracy: 0.9434\n",
      "Epoch 10/10\n",
      "141/141 [==============================] - 61s 432ms/step - loss: 0.1814 - accuracy: 0.9503 - val_loss: 0.2161 - val_accuracy: 0.9495\n",
      "Duration: 0:10:37.895905\n"
     ]
    }
   ],
   "source": [
    "print(n)#4\n",
    "\n",
    "models_dsa[n].fit_model(image_sets_dsa[n],label_sets_dsa[n],x_val,y_val)\n",
    "n = n+1"
   ]
  },
  {
   "cell_type": "code",
   "execution_count": 25,
   "id": "9098044d",
   "metadata": {},
   "outputs": [
    {
     "name": "stdout",
     "output_type": "stream",
     "text": [
      "5\n",
      "Epoch 1/10\n",
      "169/169 [==============================] - 74s 430ms/step - loss: 1.1665 - accuracy: 0.7031 - val_loss: 0.1557 - val_accuracy: 0.9533\n",
      "Epoch 2/10\n",
      "169/169 [==============================] - 75s 442ms/step - loss: 0.5902 - accuracy: 0.8322 - val_loss: 0.1621 - val_accuracy: 0.9594\n",
      "Epoch 3/10\n",
      "169/169 [==============================] - 78s 464ms/step - loss: 0.4266 - accuracy: 0.8788 - val_loss: 0.0818 - val_accuracy: 0.9750\n",
      "Epoch 4/10\n",
      "169/169 [==============================] - 74s 439ms/step - loss: 0.3327 - accuracy: 0.9050 - val_loss: 0.2184 - val_accuracy: 0.9543\n",
      "Epoch 5/10\n",
      "169/169 [==============================] - 76s 452ms/step - loss: 0.3064 - accuracy: 0.9095 - val_loss: 0.3135 - val_accuracy: 0.9479\n",
      "Epoch 6/10\n",
      "169/169 [==============================] - 76s 450ms/step - loss: 0.2440 - accuracy: 0.9331 - val_loss: 0.1278 - val_accuracy: 0.9689\n",
      "Epoch 7/10\n",
      "169/169 [==============================] - 75s 445ms/step - loss: 0.2192 - accuracy: 0.9381 - val_loss: 0.4888 - val_accuracy: 0.9370\n",
      "Epoch 8/10\n",
      "169/169 [==============================] - 75s 442ms/step - loss: 0.2082 - accuracy: 0.9409 - val_loss: 0.1593 - val_accuracy: 0.9617\n",
      "Epoch 9/10\n",
      "169/169 [==============================] - 75s 444ms/step - loss: 0.1836 - accuracy: 0.9486 - val_loss: 0.1805 - val_accuracy: 0.9617\n",
      "Epoch 10/10\n",
      "169/169 [==============================] - 75s 444ms/step - loss: 0.1817 - accuracy: 0.9483 - val_loss: 0.2035 - val_accuracy: 0.9551\n",
      "Duration: 0:12:33.899129\n"
     ]
    }
   ],
   "source": [
    "print(n)\n",
    "\n",
    "models_dsa[n].fit_model(image_sets_dsa[n],label_sets_dsa[n],x_val,y_val)\n",
    "n = n+1"
   ]
  },
  {
   "cell_type": "code",
   "execution_count": 26,
   "id": "5d2e4246",
   "metadata": {},
   "outputs": [
    {
     "name": "stdout",
     "output_type": "stream",
     "text": [
      "6\n",
      "Epoch 1/10\n",
      "197/197 [==============================] - 95s 472ms/step - loss: 1.0209 - accuracy: 0.7451 - val_loss: 0.1065 - val_accuracy: 0.9709\n",
      "Epoch 2/10\n",
      "197/197 [==============================] - 88s 447ms/step - loss: 0.5530 - accuracy: 0.8441 - val_loss: 0.1231 - val_accuracy: 0.9668\n",
      "Epoch 3/10\n",
      "197/197 [==============================] - 87s 441ms/step - loss: 0.3785 - accuracy: 0.8910 - val_loss: 0.1229 - val_accuracy: 0.9673\n",
      "Epoch 4/10\n",
      "197/197 [==============================] - 86s 439ms/step - loss: 0.3236 - accuracy: 0.9084 - val_loss: 0.1490 - val_accuracy: 0.9604\n",
      "Epoch 5/10\n",
      "197/197 [==============================] - 86s 437ms/step - loss: 0.2626 - accuracy: 0.9264 - val_loss: 0.1714 - val_accuracy: 0.9582\n",
      "Epoch 6/10\n",
      "197/197 [==============================] - 86s 436ms/step - loss: 0.2310 - accuracy: 0.9349 - val_loss: 0.0950 - val_accuracy: 0.9732\n",
      "Epoch 7/10\n",
      "197/197 [==============================] - 86s 436ms/step - loss: 0.2170 - accuracy: 0.9398 - val_loss: 0.1949 - val_accuracy: 0.9508\n",
      "Epoch 8/10\n",
      "197/197 [==============================] - 86s 439ms/step - loss: 0.1960 - accuracy: 0.9435 - val_loss: 0.3873 - val_accuracy: 0.9375\n",
      "Epoch 9/10\n",
      "197/197 [==============================] - 86s 436ms/step - loss: 0.1962 - accuracy: 0.9478 - val_loss: 0.1833 - val_accuracy: 0.9658\n",
      "Epoch 10/10\n",
      "197/197 [==============================] - 96s 486ms/step - loss: 0.1782 - accuracy: 0.9499 - val_loss: 0.1916 - val_accuracy: 0.9587\n",
      "Duration: 0:14:42.386080\n"
     ]
    }
   ],
   "source": [
    "print(n)\n",
    "\n",
    "models_dsa[n].fit_model(image_sets_dsa[n],label_sets_dsa[n],x_val,y_val)\n",
    "n = n+1"
   ]
  },
  {
   "cell_type": "code",
   "execution_count": 27,
   "id": "13254a67",
   "metadata": {},
   "outputs": [
    {
     "name": "stdout",
     "output_type": "stream",
     "text": [
      "7\n",
      "Epoch 1/10\n",
      "225/225 [==============================] - 101s 442ms/step - loss: 0.9125 - accuracy: 0.7752 - val_loss: 0.0715 - val_accuracy: 0.9786\n",
      "Epoch 2/10\n",
      "225/225 [==============================] - 103s 457ms/step - loss: 0.4491 - accuracy: 0.8733 - val_loss: 0.1430 - val_accuracy: 0.9658\n",
      "Epoch 3/10\n",
      "225/225 [==============================] - 103s 457ms/step - loss: 0.3384 - accuracy: 0.9041 - val_loss: 0.1705 - val_accuracy: 0.9579\n",
      "Epoch 4/10\n",
      "225/225 [==============================] - 96s 428ms/step - loss: 0.2836 - accuracy: 0.9204 - val_loss: 0.1028 - val_accuracy: 0.9737\n",
      "Epoch 5/10\n",
      "225/225 [==============================] - 109s 486ms/step - loss: 0.2466 - accuracy: 0.9290 - val_loss: 0.1111 - val_accuracy: 0.9658\n",
      "Epoch 6/10\n",
      "225/225 [==============================] - 96s 428ms/step - loss: 0.2043 - accuracy: 0.9430 - val_loss: 0.0923 - val_accuracy: 0.9758\n",
      "Epoch 7/10\n",
      "225/225 [==============================] - 95s 422ms/step - loss: 0.1989 - accuracy: 0.9461 - val_loss: 0.0951 - val_accuracy: 0.9722\n",
      "Epoch 8/10\n",
      "225/225 [==============================] - 96s 427ms/step - loss: 0.1758 - accuracy: 0.9516 - val_loss: 0.1351 - val_accuracy: 0.9712\n",
      "Epoch 9/10\n",
      "225/225 [==============================] - 98s 437ms/step - loss: 0.1687 - accuracy: 0.9575 - val_loss: 0.2343 - val_accuracy: 0.9543\n",
      "Epoch 10/10\n",
      "225/225 [==============================] - 95s 422ms/step - loss: 0.1684 - accuracy: 0.9529 - val_loss: 0.1033 - val_accuracy: 0.9730\n",
      "Duration: 0:16:32.931261\n"
     ]
    }
   ],
   "source": [
    "print(n)\n",
    "\n",
    "models_dsa[n].fit_model(image_sets_dsa[n],label_sets_dsa[n],x_val,y_val)\n",
    "n = n+1"
   ]
  },
  {
   "cell_type": "code",
   "execution_count": 28,
   "id": "ff7478ae",
   "metadata": {},
   "outputs": [
    {
     "name": "stdout",
     "output_type": "stream",
     "text": [
      "8\n",
      "Epoch 1/10\n",
      "254/254 [==============================] - 110s 425ms/step - loss: 0.8111 - accuracy: 0.7994 - val_loss: 0.1787 - val_accuracy: 0.9671\n",
      "Epoch 2/10\n",
      "254/254 [==============================] - 108s 425ms/step - loss: 0.3913 - accuracy: 0.8881 - val_loss: 0.1456 - val_accuracy: 0.9633\n",
      "Epoch 3/10\n",
      "254/254 [==============================] - 108s 426ms/step - loss: 0.3244 - accuracy: 0.9116 - val_loss: 0.0726 - val_accuracy: 0.9788\n",
      "Epoch 4/10\n",
      "254/254 [==============================] - 107s 423ms/step - loss: 0.2675 - accuracy: 0.9235 - val_loss: 0.1078 - val_accuracy: 0.9699\n",
      "Epoch 5/10\n",
      "254/254 [==============================] - 107s 423ms/step - loss: 0.2317 - accuracy: 0.9381 - val_loss: 0.1034 - val_accuracy: 0.9745\n",
      "Epoch 6/10\n",
      "254/254 [==============================] - 107s 423ms/step - loss: 0.2072 - accuracy: 0.9450 - val_loss: 0.3151 - val_accuracy: 0.9525\n",
      "Epoch 7/10\n",
      "254/254 [==============================] - 109s 429ms/step - loss: 0.1990 - accuracy: 0.9473 - val_loss: 0.1391 - val_accuracy: 0.9666\n",
      "Epoch 8/10\n",
      "254/254 [==============================] - 108s 423ms/step - loss: 0.1580 - accuracy: 0.9568 - val_loss: 0.2949 - val_accuracy: 0.9548\n",
      "Epoch 9/10\n",
      "254/254 [==============================] - 107s 423ms/step - loss: 0.1729 - accuracy: 0.9524 - val_loss: 0.1031 - val_accuracy: 0.9724\n",
      "Epoch 10/10\n",
      "254/254 [==============================] - 108s 426ms/step - loss: 0.1829 - accuracy: 0.9504 - val_loss: 0.1408 - val_accuracy: 0.9707\n",
      "Duration: 0:18:00.245782\n"
     ]
    }
   ],
   "source": [
    "print(n)\n",
    "\n",
    "models_dsa[n].fit_model(image_sets_dsa[n],label_sets_dsa[n],x_val,y_val)\n",
    "n = n+1"
   ]
  },
  {
   "cell_type": "code",
   "execution_count": 29,
   "id": "529ba2f1",
   "metadata": {},
   "outputs": [
    {
     "name": "stdout",
     "output_type": "stream",
     "text": [
      "9\n",
      "Epoch 1/10\n",
      "282/282 [==============================] - 122s 427ms/step - loss: 0.7915 - accuracy: 0.8057 - val_loss: 0.0437 - val_accuracy: 0.9883\n",
      "Epoch 2/10\n",
      "282/282 [==============================] - 119s 423ms/step - loss: 0.3909 - accuracy: 0.8915 - val_loss: 0.1265 - val_accuracy: 0.9676\n",
      "Epoch 3/10\n",
      "282/282 [==============================] - 122s 433ms/step - loss: 0.2878 - accuracy: 0.9189 - val_loss: 0.0685 - val_accuracy: 0.9832\n",
      "Epoch 4/10\n",
      "282/282 [==============================] - 120s 424ms/step - loss: 0.2536 - accuracy: 0.9276 - val_loss: 0.0727 - val_accuracy: 0.9844\n",
      "Epoch 5/10\n",
      "282/282 [==============================] - 119s 422ms/step - loss: 0.2041 - accuracy: 0.9409 - val_loss: 0.0949 - val_accuracy: 0.9837\n",
      "Epoch 6/10\n",
      "282/282 [==============================] - 119s 422ms/step - loss: 0.2106 - accuracy: 0.9396 - val_loss: 0.0795 - val_accuracy: 0.9819\n",
      "Epoch 7/10\n",
      "282/282 [==============================] - 119s 422ms/step - loss: 0.1889 - accuracy: 0.9523 - val_loss: 0.0993 - val_accuracy: 0.9717\n",
      "Epoch 8/10\n",
      "282/282 [==============================] - 119s 422ms/step - loss: 0.1849 - accuracy: 0.9523 - val_loss: 0.0898 - val_accuracy: 0.9768\n",
      "Epoch 9/10\n",
      "282/282 [==============================] - 119s 424ms/step - loss: 0.1710 - accuracy: 0.9549 - val_loss: 0.1225 - val_accuracy: 0.9681\n",
      "Epoch 10/10\n",
      "282/282 [==============================] - 119s 422ms/step - loss: 0.1633 - accuracy: 0.9579 - val_loss: 0.2067 - val_accuracy: 0.9681\n",
      "Duration: 0:19:57.842801\n"
     ]
    }
   ],
   "source": [
    "print(n)#9\n",
    "\n",
    "models_dsa[n].fit_model(image_sets_dsa[n],label_sets_dsa[n],x_val,y_val)\n",
    "n = n+1"
   ]
  },
  {
   "cell_type": "code",
   "execution_count": 34,
   "id": "fb965078",
   "metadata": {},
   "outputs": [
    {
     "name": "stdout",
     "output_type": "stream",
     "text": [
      "10\n",
      "Epoch 1/10\n",
      "310/310 [==============================] - 137s 437ms/step - loss: 0.7020 - accuracy: 0.8268 - val_loss: 0.1130 - val_accuracy: 0.9724\n",
      "Epoch 2/10\n",
      "310/310 [==============================] - 137s 441ms/step - loss: 0.3674 - accuracy: 0.8964 - val_loss: 0.0950 - val_accuracy: 0.9735\n",
      "Epoch 3/10\n",
      "310/310 [==============================] - 136s 437ms/step - loss: 0.2725 - accuracy: 0.9239 - val_loss: 0.0516 - val_accuracy: 0.9872\n",
      "Epoch 4/10\n",
      "310/310 [==============================] - 136s 439ms/step - loss: 0.2471 - accuracy: 0.9294 - val_loss: 0.0482 - val_accuracy: 0.9888\n",
      "Epoch 5/10\n",
      "310/310 [==============================] - 136s 438ms/step - loss: 0.2221 - accuracy: 0.9398 - val_loss: 0.2139 - val_accuracy: 0.9643\n",
      "Epoch 6/10\n",
      "310/310 [==============================] - 136s 437ms/step - loss: 0.2120 - accuracy: 0.9428 - val_loss: 0.0780 - val_accuracy: 0.9801\n",
      "Epoch 7/10\n",
      "310/310 [==============================] - 139s 449ms/step - loss: 0.1999 - accuracy: 0.9481 - val_loss: 0.1143 - val_accuracy: 0.9770\n",
      "Epoch 8/10\n",
      "310/310 [==============================] - 136s 439ms/step - loss: 0.1909 - accuracy: 0.9530 - val_loss: 0.0782 - val_accuracy: 0.9816\n",
      "Epoch 9/10\n",
      "310/310 [==============================] - 136s 439ms/step - loss: 0.1876 - accuracy: 0.9538 - val_loss: 0.0813 - val_accuracy: 0.9855\n",
      "Epoch 10/10\n",
      "310/310 [==============================] - 136s 438ms/step - loss: 0.1912 - accuracy: 0.9536 - val_loss: 0.1685 - val_accuracy: 0.9684\n",
      "Duration: 0:22:44.410822\n"
     ]
    }
   ],
   "source": [
    "n=10\n",
    "print(n)\n",
    "\n",
    "models_dsa[n].fit_model(image_sets_dsa[n],label_sets_dsa[n],x_val,y_val)\n",
    "n = n+1"
   ]
  },
  {
   "cell_type": "code",
   "execution_count": 35,
   "id": "552adb28",
   "metadata": {},
   "outputs": [
    {
     "name": "stdout",
     "output_type": "stream",
     "text": [
      "11\n",
      "Epoch 1/10\n",
      "338/338 [==============================] - 148s 434ms/step - loss: 0.6419 - accuracy: 0.8414 - val_loss: 0.0573 - val_accuracy: 0.9870\n",
      "Epoch 2/10\n",
      "338/338 [==============================] - 146s 433ms/step - loss: 0.3425 - accuracy: 0.9065 - val_loss: 0.0434 - val_accuracy: 0.9893\n",
      "Epoch 3/10\n",
      "338/338 [==============================] - 146s 433ms/step - loss: 0.2865 - accuracy: 0.9249 - val_loss: 0.0531 - val_accuracy: 0.9839\n",
      "Epoch 4/10\n",
      "338/338 [==============================] - 154s 456ms/step - loss: 0.2382 - accuracy: 0.9339 - val_loss: 0.1065 - val_accuracy: 0.9678\n",
      "Epoch 5/10\n",
      "338/338 [==============================] - 147s 434ms/step - loss: 0.2260 - accuracy: 0.9383 - val_loss: 0.0681 - val_accuracy: 0.9865\n",
      "Epoch 6/10\n",
      "338/338 [==============================] - 146s 432ms/step - loss: 0.2052 - accuracy: 0.9440 - val_loss: 0.0909 - val_accuracy: 0.9781\n",
      "Epoch 7/10\n",
      "338/338 [==============================] - 146s 432ms/step - loss: 0.1803 - accuracy: 0.9537 - val_loss: 0.1409 - val_accuracy: 0.9740\n",
      "Epoch 8/10\n",
      "338/338 [==============================] - 146s 431ms/step - loss: 0.2056 - accuracy: 0.9488 - val_loss: 0.1501 - val_accuracy: 0.9694\n",
      "Epoch 9/10\n",
      "338/338 [==============================] - 146s 432ms/step - loss: 0.1787 - accuracy: 0.9549 - val_loss: 0.0792 - val_accuracy: 0.9834\n",
      "Epoch 10/10\n",
      "338/338 [==============================] - 146s 432ms/step - loss: 0.1779 - accuracy: 0.9541 - val_loss: 0.1381 - val_accuracy: 0.9750\n",
      "Duration: 0:24:31.700255\n"
     ]
    }
   ],
   "source": [
    "print(n)\n",
    "\n",
    "models_dsa[n].fit_model(image_sets_dsa[n],label_sets_dsa[n],x_val,y_val)\n",
    "n = n+1"
   ]
  },
  {
   "cell_type": "code",
   "execution_count": 36,
   "id": "110ad1aa",
   "metadata": {},
   "outputs": [
    {
     "name": "stdout",
     "output_type": "stream",
     "text": [
      "12\n",
      "Epoch 1/10\n",
      "366/366 [==============================] - 159s 428ms/step - loss: 0.5899 - accuracy: 0.8546 - val_loss: 0.0769 - val_accuracy: 0.9788\n",
      "Epoch 2/10\n",
      "366/366 [==============================] - 155s 424ms/step - loss: 0.3308 - accuracy: 0.9089 - val_loss: 0.0829 - val_accuracy: 0.9824\n",
      "Epoch 3/10\n",
      "366/366 [==============================] - 155s 424ms/step - loss: 0.2610 - accuracy: 0.9251 - val_loss: 0.0544 - val_accuracy: 0.9862\n",
      "Epoch 4/10\n",
      "366/366 [==============================] - 155s 423ms/step - loss: 0.2211 - accuracy: 0.9375 - val_loss: 0.0780 - val_accuracy: 0.9809\n",
      "Epoch 5/10\n",
      "366/366 [==============================] - 156s 425ms/step - loss: 0.2066 - accuracy: 0.9423 - val_loss: 0.0737 - val_accuracy: 0.9862\n",
      "Epoch 6/10\n",
      "366/366 [==============================] - 165s 451ms/step - loss: 0.2055 - accuracy: 0.9457 - val_loss: 0.0501 - val_accuracy: 0.9872\n",
      "Epoch 7/10\n",
      "366/366 [==============================] - 158s 431ms/step - loss: 0.1909 - accuracy: 0.9498 - val_loss: 0.1071 - val_accuracy: 0.9816\n",
      "Epoch 8/10\n",
      "366/366 [==============================] - 158s 433ms/step - loss: 0.2028 - accuracy: 0.9476 - val_loss: 0.1179 - val_accuracy: 0.9786\n",
      "Epoch 9/10\n",
      "366/366 [==============================] - 158s 431ms/step - loss: 0.2123 - accuracy: 0.9510 - val_loss: 0.0950 - val_accuracy: 0.9832\n",
      "Epoch 10/10\n",
      "366/366 [==============================] - 157s 428ms/step - loss: 0.2013 - accuracy: 0.9531 - val_loss: 0.0779 - val_accuracy: 0.9809\n",
      "Duration: 0:26:14.914148\n"
     ]
    }
   ],
   "source": [
    "print(n)\n",
    "\n",
    "models_dsa[n].fit_model(image_sets_dsa[n],label_sets_dsa[n],x_val,y_val)\n",
    "n = n+1"
   ]
  },
  {
   "cell_type": "code",
   "execution_count": 37,
   "id": "506b30e2",
   "metadata": {},
   "outputs": [
    {
     "name": "stdout",
     "output_type": "stream",
     "text": [
      "13\n",
      "Epoch 1/10\n",
      "394/394 [==============================] - 171s 428ms/step - loss: 0.5452 - accuracy: 0.8620 - val_loss: 0.0372 - val_accuracy: 0.9908\n",
      "Epoch 2/10\n",
      "394/394 [==============================] - 168s 427ms/step - loss: 0.2882 - accuracy: 0.9170 - val_loss: 0.0900 - val_accuracy: 0.9737\n",
      "Epoch 3/10\n",
      "394/394 [==============================] - 168s 426ms/step - loss: 0.2422 - accuracy: 0.9338 - val_loss: 0.0676 - val_accuracy: 0.9821\n",
      "Epoch 4/10\n",
      "394/394 [==============================] - 168s 427ms/step - loss: 0.2314 - accuracy: 0.9371 - val_loss: 0.0443 - val_accuracy: 0.9900\n",
      "Epoch 5/10\n",
      "394/394 [==============================] - 24296s 62s/step - loss: 0.2013 - accuracy: 0.9477 - val_loss: 0.0488 - val_accuracy: 0.9865\n",
      "Epoch 6/10\n",
      "394/394 [==============================] - 203s 515ms/step - loss: 0.1965 - accuracy: 0.9494 - val_loss: 0.0585 - val_accuracy: 0.9860\n",
      "Epoch 7/10\n",
      "394/394 [==============================] - 203s 516ms/step - loss: 0.1780 - accuracy: 0.9531 - val_loss: 0.0836 - val_accuracy: 0.9804\n",
      "Epoch 8/10\n",
      "394/394 [==============================] - 203s 514ms/step - loss: 0.1758 - accuracy: 0.9547 - val_loss: 0.0813 - val_accuracy: 0.9837\n",
      "Epoch 9/10\n",
      "394/394 [==============================] - 202s 513ms/step - loss: 0.1786 - accuracy: 0.9567 - val_loss: 0.0899 - val_accuracy: 0.9844\n",
      "Epoch 10/10\n",
      "394/394 [==============================] - 205s 521ms/step - loss: 0.1915 - accuracy: 0.9567 - val_loss: 0.1175 - val_accuracy: 0.9742\n",
      "Duration: 7:13:06.503313\n"
     ]
    }
   ],
   "source": [
    "print(n)\n",
    "\n",
    "models_dsa[n].fit_model(image_sets_dsa[n],label_sets_dsa[n],x_val,y_val)\n",
    "n = n+1"
   ]
  },
  {
   "cell_type": "code",
   "execution_count": 38,
   "id": "bb438669",
   "metadata": {},
   "outputs": [
    {
     "name": "stdout",
     "output_type": "stream",
     "text": [
      "14\n",
      "Epoch 1/10\n",
      "422/422 [==============================] - 220s 510ms/step - loss: 0.5572 - accuracy: 0.8633 - val_loss: 0.0279 - val_accuracy: 0.9911\n",
      "Epoch 2/10\n",
      "422/422 [==============================] - 222s 525ms/step - loss: 0.3063 - accuracy: 0.9168 - val_loss: 0.0518 - val_accuracy: 0.9860\n",
      "Epoch 3/10\n",
      "422/422 [==============================] - 210s 498ms/step - loss: 0.2405 - accuracy: 0.9348 - val_loss: 0.0426 - val_accuracy: 0.9885\n",
      "Epoch 4/10\n",
      "422/422 [==============================] - 209s 496ms/step - loss: 0.2108 - accuracy: 0.9417 - val_loss: 0.0741 - val_accuracy: 0.9849\n",
      "Epoch 5/10\n",
      "422/422 [==============================] - 216s 513ms/step - loss: 0.2063 - accuracy: 0.9447 - val_loss: 0.0701 - val_accuracy: 0.9811\n",
      "Epoch 6/10\n",
      "422/422 [==============================] - 213s 505ms/step - loss: 0.1943 - accuracy: 0.9500 - val_loss: 0.0860 - val_accuracy: 0.9837\n",
      "Epoch 7/10\n",
      "422/422 [==============================] - 218s 516ms/step - loss: 0.1783 - accuracy: 0.9509 - val_loss: 0.0652 - val_accuracy: 0.9862\n",
      "Epoch 8/10\n",
      "422/422 [==============================] - 217s 514ms/step - loss: 0.1788 - accuracy: 0.9545 - val_loss: 0.0805 - val_accuracy: 0.9832\n",
      "Epoch 9/10\n",
      "422/422 [==============================] - 220s 522ms/step - loss: 0.1824 - accuracy: 0.9556 - val_loss: 0.1002 - val_accuracy: 0.9798\n",
      "Epoch 10/10\n",
      "422/422 [==============================] - 223s 528ms/step - loss: 0.1938 - accuracy: 0.9549 - val_loss: 0.0776 - val_accuracy: 0.9837\n",
      "Duration: 0:36:07.624331\n"
     ]
    }
   ],
   "source": [
    "print(n)#14\n",
    "\n",
    "models_dsa[n].fit_model(image_sets_dsa[n],label_sets_dsa[n],x_val,y_val)\n",
    "n = n+1"
   ]
  },
  {
   "cell_type": "code",
   "execution_count": 39,
   "id": "9c988977",
   "metadata": {},
   "outputs": [
    {
     "name": "stdout",
     "output_type": "stream",
     "text": [
      "15\n",
      "Epoch 1/10\n",
      "450/450 [==============================] - 235s 517ms/step - loss: 0.4782 - accuracy: 0.8776 - val_loss: 0.0376 - val_accuracy: 0.9918\n",
      "Epoch 2/10\n",
      "450/450 [==============================] - 233s 519ms/step - loss: 0.2792 - accuracy: 0.9255 - val_loss: 0.0472 - val_accuracy: 0.9870\n",
      "Epoch 3/10\n",
      "450/450 [==============================] - 230s 511ms/step - loss: 0.2314 - accuracy: 0.9358 - val_loss: 0.0539 - val_accuracy: 0.9857\n",
      "Epoch 4/10\n",
      "450/450 [==============================] - 233s 518ms/step - loss: 0.2044 - accuracy: 0.9463 - val_loss: 0.0542 - val_accuracy: 0.9883\n",
      "Epoch 5/10\n",
      "450/450 [==============================] - 235s 522ms/step - loss: 0.1911 - accuracy: 0.9497 - val_loss: 0.0615 - val_accuracy: 0.9834\n",
      "Epoch 6/10\n",
      "450/450 [==============================] - 233s 518ms/step - loss: 0.1879 - accuracy: 0.9509 - val_loss: 0.0663 - val_accuracy: 0.9829\n",
      "Epoch 7/10\n",
      "450/450 [==============================] - 240s 533ms/step - loss: 0.1799 - accuracy: 0.9527 - val_loss: 0.0425 - val_accuracy: 0.9895\n",
      "Epoch 8/10\n",
      "450/450 [==============================] - 233s 518ms/step - loss: 0.1677 - accuracy: 0.9587 - val_loss: 0.0550 - val_accuracy: 0.9855\n",
      "Epoch 9/10\n",
      "450/450 [==============================] - 218s 486ms/step - loss: 0.1832 - accuracy: 0.9547 - val_loss: 0.0538 - val_accuracy: 0.9898\n",
      "Epoch 10/10\n",
      "450/450 [==============================] - 189s 420ms/step - loss: 0.1827 - accuracy: 0.9553 - val_loss: 0.0402 - val_accuracy: 0.9895\n",
      "Duration: 0:38:00.265751\n"
     ]
    }
   ],
   "source": [
    "print(n)\n",
    "\n",
    "models_dsa[n].fit_model(image_sets_dsa[n],label_sets_dsa[n],x_val,y_val)\n",
    "n = n+1"
   ]
  },
  {
   "cell_type": "code",
   "execution_count": 40,
   "id": "ef562e5b",
   "metadata": {},
   "outputs": [
    {
     "name": "stdout",
     "output_type": "stream",
     "text": [
      "16\n",
      "Epoch 1/10\n",
      "479/479 [==============================] - 205s 423ms/step - loss: 0.4629 - accuracy: 0.8876 - val_loss: 0.3536 - val_accuracy: 0.9097\n",
      "Epoch 2/10\n",
      "479/479 [==============================] - 205s 428ms/step - loss: 0.2714 - accuracy: 0.9241 - val_loss: 0.0369 - val_accuracy: 0.9895\n",
      "Epoch 3/10\n",
      "479/479 [==============================] - 201s 420ms/step - loss: 0.2178 - accuracy: 0.9398 - val_loss: 0.1488 - val_accuracy: 0.9648\n",
      "Epoch 4/10\n",
      "479/479 [==============================] - 202s 422ms/step - loss: 0.2099 - accuracy: 0.9436 - val_loss: 0.0706 - val_accuracy: 0.9837\n",
      "Epoch 5/10\n",
      "479/479 [==============================] - 203s 423ms/step - loss: 0.1899 - accuracy: 0.9508 - val_loss: 0.0664 - val_accuracy: 0.9834\n",
      "Epoch 6/10\n",
      "479/479 [==============================] - 202s 421ms/step - loss: 0.1782 - accuracy: 0.9534 - val_loss: 0.3764 - val_accuracy: 0.9283\n",
      "Epoch 7/10\n",
      "479/479 [==============================] - 202s 421ms/step - loss: 0.1873 - accuracy: 0.9515 - val_loss: 0.0490 - val_accuracy: 0.9872\n",
      "Epoch 8/10\n",
      "479/479 [==============================] - 203s 425ms/step - loss: 0.1676 - accuracy: 0.9561 - val_loss: 0.0444 - val_accuracy: 0.9908\n",
      "Epoch 9/10\n",
      "479/479 [==============================] - 203s 424ms/step - loss: 0.1861 - accuracy: 0.9545 - val_loss: 0.0476 - val_accuracy: 0.9872\n",
      "Epoch 10/10\n",
      "479/479 [==============================] - 203s 424ms/step - loss: 0.1883 - accuracy: 0.9551 - val_loss: 0.0879 - val_accuracy: 0.9865\n",
      "Duration: 0:33:47.825854\n"
     ]
    }
   ],
   "source": [
    "print(n)\n",
    "\n",
    "models_dsa[n].fit_model(image_sets_dsa[n],label_sets_dsa[n],x_val,y_val)\n",
    "n = n+1"
   ]
  },
  {
   "cell_type": "code",
   "execution_count": 41,
   "id": "6d4d8530",
   "metadata": {},
   "outputs": [
    {
     "name": "stdout",
     "output_type": "stream",
     "text": [
      "17\n",
      "Epoch 1/10\n",
      "507/507 [==============================] - 217s 424ms/step - loss: 0.4341 - accuracy: 0.8904 - val_loss: 0.0777 - val_accuracy: 0.9829\n",
      "Epoch 2/10\n",
      "507/507 [==============================] - 216s 426ms/step - loss: 0.2497 - accuracy: 0.9331 - val_loss: 0.0541 - val_accuracy: 0.9865\n",
      "Epoch 3/10\n",
      "507/507 [==============================] - 216s 426ms/step - loss: 0.2084 - accuracy: 0.9420 - val_loss: 0.2199 - val_accuracy: 0.9627\n",
      "Epoch 4/10\n",
      "507/507 [==============================] - 217s 427ms/step - loss: 0.1996 - accuracy: 0.9472 - val_loss: 0.0541 - val_accuracy: 0.9878\n",
      "Epoch 5/10\n",
      "507/507 [==============================] - 217s 429ms/step - loss: 0.1860 - accuracy: 0.9522 - val_loss: 0.0592 - val_accuracy: 0.9855\n",
      "Epoch 6/10\n",
      "507/507 [==============================] - 216s 427ms/step - loss: 0.1798 - accuracy: 0.9550 - val_loss: 0.0459 - val_accuracy: 0.9862\n",
      "Epoch 7/10\n",
      "507/507 [==============================] - 217s 427ms/step - loss: 0.1803 - accuracy: 0.9557 - val_loss: 0.1160 - val_accuracy: 0.9775\n",
      "Epoch 8/10\n",
      "507/507 [==============================] - 215s 424ms/step - loss: 0.1758 - accuracy: 0.9568 - val_loss: 0.1544 - val_accuracy: 0.9722\n",
      "Epoch 9/10\n",
      "507/507 [==============================] - 215s 424ms/step - loss: 0.1726 - accuracy: 0.9597 - val_loss: 0.1040 - val_accuracy: 0.9773\n",
      "Epoch 10/10\n",
      "507/507 [==============================] - 217s 427ms/step - loss: 0.1873 - accuracy: 0.9573 - val_loss: 0.0555 - val_accuracy: 0.9849\n",
      "Duration: 0:36:02.782794\n"
     ]
    }
   ],
   "source": [
    "print(n)\n",
    "\n",
    "models_dsa[n].fit_model(image_sets_dsa[n],label_sets_dsa[n],x_val,y_val)\n",
    "n = n+1"
   ]
  },
  {
   "cell_type": "code",
   "execution_count": 42,
   "id": "59df5459",
   "metadata": {},
   "outputs": [
    {
     "name": "stdout",
     "output_type": "stream",
     "text": [
      "18\n",
      "Epoch 1/10\n",
      "535/535 [==============================] - 237s 437ms/step - loss: 0.4217 - accuracy: 0.8958 - val_loss: 0.0385 - val_accuracy: 0.9903\n",
      "Epoch 2/10\n",
      "535/535 [==============================] - 232s 433ms/step - loss: 0.2505 - accuracy: 0.9314 - val_loss: 0.2238 - val_accuracy: 0.9474\n",
      "Epoch 3/10\n",
      "535/535 [==============================] - 232s 435ms/step - loss: 0.2150 - accuracy: 0.9425 - val_loss: 0.0377 - val_accuracy: 0.9895\n",
      "Epoch 4/10\n",
      "535/535 [==============================] - 232s 434ms/step - loss: 0.2016 - accuracy: 0.9471 - val_loss: 0.0645 - val_accuracy: 0.9888\n",
      "Epoch 5/10\n",
      "535/535 [==============================] - 232s 433ms/step - loss: 0.1695 - accuracy: 0.9547 - val_loss: 0.0401 - val_accuracy: 0.9888\n",
      "Epoch 6/10\n",
      "535/535 [==============================] - 232s 434ms/step - loss: 0.1749 - accuracy: 0.9545 - val_loss: 0.0740 - val_accuracy: 0.9857\n",
      "Epoch 7/10\n",
      "535/535 [==============================] - 232s 433ms/step - loss: 0.1889 - accuracy: 0.9550 - val_loss: 0.0998 - val_accuracy: 0.9788\n",
      "Epoch 8/10\n",
      "535/535 [==============================] - 232s 434ms/step - loss: 0.1942 - accuracy: 0.9550 - val_loss: 0.0419 - val_accuracy: 0.9890\n",
      "Epoch 9/10\n",
      "535/535 [==============================] - 232s 433ms/step - loss: 0.1700 - accuracy: 0.9591 - val_loss: 0.0908 - val_accuracy: 0.9832\n",
      "Epoch 10/10\n",
      "535/535 [==============================] - 231s 432ms/step - loss: 0.1757 - accuracy: 0.9573 - val_loss: 0.0643 - val_accuracy: 0.9844\n",
      "Duration: 0:38:43.321047\n"
     ]
    }
   ],
   "source": [
    "print(n)\n",
    "\n",
    "models_dsa[n].fit_model(image_sets_dsa[n],label_sets_dsa[n],x_val,y_val)\n",
    "n = n+1"
   ]
  },
  {
   "cell_type": "code",
   "execution_count": 43,
   "id": "ff9aad2b",
   "metadata": {},
   "outputs": [
    {
     "name": "stdout",
     "output_type": "stream",
     "text": [
      "19\n",
      "Epoch 1/10\n",
      "569/569 [==============================] - 247s 430ms/step - loss: 0.3919 - accuracy: 0.9032 - val_loss: 0.0265 - val_accuracy: 0.9929\n",
      "Epoch 2/10\n",
      "569/569 [==============================] - 244s 428ms/step - loss: 0.2406 - accuracy: 0.9329 - val_loss: 0.0237 - val_accuracy: 0.9939\n",
      "Epoch 3/10\n",
      "569/569 [==============================] - 244s 428ms/step - loss: 0.2074 - accuracy: 0.9430 - val_loss: 0.0201 - val_accuracy: 0.9952\n",
      "Epoch 4/10\n",
      "569/569 [==============================] - 245s 431ms/step - loss: 0.1917 - accuracy: 0.9494 - val_loss: 0.0280 - val_accuracy: 0.9936\n",
      "Epoch 5/10\n",
      "569/569 [==============================] - 245s 430ms/step - loss: 0.1829 - accuracy: 0.9530 - val_loss: 0.0211 - val_accuracy: 0.9944\n",
      "Epoch 6/10\n",
      "569/569 [==============================] - 243s 428ms/step - loss: 0.1797 - accuracy: 0.9522 - val_loss: 0.0312 - val_accuracy: 0.9939\n",
      "Epoch 7/10\n",
      "569/569 [==============================] - 244s 428ms/step - loss: 0.1886 - accuracy: 0.9537 - val_loss: 0.2182 - val_accuracy: 0.9627\n",
      "Epoch 8/10\n",
      "569/569 [==============================] - 244s 428ms/step - loss: 0.1822 - accuracy: 0.9564 - val_loss: 0.0264 - val_accuracy: 0.9946\n",
      "Epoch 9/10\n",
      "569/569 [==============================] - 243s 427ms/step - loss: 0.1720 - accuracy: 0.9583 - val_loss: 0.0410 - val_accuracy: 0.9929\n",
      "Epoch 10/10\n",
      "569/569 [==============================] - 243s 427ms/step - loss: 0.1953 - accuracy: 0.9572 - val_loss: 0.0331 - val_accuracy: 0.9941\n",
      "Duration: 0:40:39.896996\n"
     ]
    }
   ],
   "source": [
    "print(n)#19\n",
    "\n",
    "models_dsa[n].fit_model(image_sets_dsa[n],label_sets_dsa[n],x_val,y_val)\n",
    "n = n+1"
   ]
  },
  {
   "cell_type": "code",
   "execution_count": 23,
   "id": "58f250fb",
   "metadata": {},
   "outputs": [
    {
     "name": "stdout",
     "output_type": "stream",
     "text": [
      "D:/models/gtsrb_models/C2/gtsrb_model_c2_sep_dsa_e2_0\n",
      "Model loaded correctly\n",
      "D:/models/gtsrb_models/C2/gtsrb_model_c2_sep_dsa_e2_1\n",
      "Model loaded correctly\n",
      "D:/models/gtsrb_models/C2/gtsrb_model_c2_sep_dsa_e2_2\n",
      "Model loaded correctly\n",
      "D:/models/gtsrb_models/C2/gtsrb_model_c2_sep_dsa_e2_3\n",
      "Model loaded correctly\n",
      "D:/models/gtsrb_models/C2/gtsrb_model_c2_sep_dsa_e2_4\n",
      "Model loaded correctly\n",
      "D:/models/gtsrb_models/C2/gtsrb_model_c2_sep_dsa_e2_5\n",
      "Model loaded correctly\n",
      "D:/models/gtsrb_models/C2/gtsrb_model_c2_sep_dsa_e2_6\n",
      "Model loaded correctly\n",
      "D:/models/gtsrb_models/C2/gtsrb_model_c2_sep_dsa_e2_7\n",
      "Model loaded correctly\n",
      "D:/models/gtsrb_models/C2/gtsrb_model_c2_sep_dsa_e2_8\n",
      "Model loaded correctly\n",
      "D:/models/gtsrb_models/C2/gtsrb_model_c2_sep_dsa_e2_9\n",
      "Model loaded correctly\n",
      "D:/models/gtsrb_models/C2/gtsrb_model_c2_sep_dsa_e2_10\n",
      "Model loaded correctly\n",
      "D:/models/gtsrb_models/C2/gtsrb_model_c2_sep_dsa_e2_11\n",
      "Model loaded correctly\n",
      "D:/models/gtsrb_models/C2/gtsrb_model_c2_sep_dsa_e2_12\n",
      "Model loaded correctly\n",
      "D:/models/gtsrb_models/C2/gtsrb_model_c2_sep_dsa_e2_13\n",
      "Model loaded correctly\n",
      "D:/models/gtsrb_models/C2/gtsrb_model_c2_sep_dsa_e2_14\n",
      "Model loaded correctly\n",
      "D:/models/gtsrb_models/C2/gtsrb_model_c2_sep_dsa_e2_15\n",
      "Model loaded correctly\n",
      "D:/models/gtsrb_models/C2/gtsrb_model_c2_sep_dsa_e2_16\n",
      "Model loaded correctly\n",
      "D:/models/gtsrb_models/C2/gtsrb_model_c2_sep_dsa_e2_17\n",
      "Model loaded correctly\n",
      "D:/models/gtsrb_models/C2/gtsrb_model_c2_sep_dsa_e2_18\n",
      "Model loaded correctly\n",
      "D:/models/gtsrb_models/C2/gtsrb_model_c2_sep_dsa_e2_19\n",
      "Model loaded correctly\n"
     ]
    }
   ],
   "source": [
    "loading = True\n",
    "\n",
    "models_dsa = []\n",
    "\n",
    "if loading:\n",
    "    for i in range(20):\n",
    "        model_dsa_dir = \"D:/models/gtsrb_models/C2/gtsrb_model_c2_sep_dsa_e2_\"+str(i)\n",
    "        print(model_dsa_dir)\n",
    "        model =utils.My_model('gtsrb',True,model_dsa_dir)\n",
    "        model.model.compile(loss= 'categorical_crossentropy', optimizer = 'rmsprop', metrics = ['accuracy',tf.keras.metrics.Precision(), tf.keras.metrics.Recall()])\n",
    "        models_dsa.append(model)\n",
    "       \n",
    "    "
   ]
  },
  {
   "cell_type": "markdown",
   "id": "bf9b45e9",
   "metadata": {},
   "source": [
    "## Random"
   ]
  },
  {
   "cell_type": "markdown",
   "id": "11198aa3",
   "metadata": {},
   "source": [
    "## point random"
   ]
  },
  {
   "cell_type": "code",
   "execution_count": 17,
   "id": "3581436b",
   "metadata": {},
   "outputs": [
    {
     "name": "stdout",
     "output_type": "stream",
     "text": [
      "[921, 18463, 517, 13296, 35880, 20708, 13878, 13719, 1592, 27604]\n",
      "36366\n"
     ]
    }
   ],
   "source": [
    "import random\n",
    "random_indexes =list(range(len(x_train_and_adversary)))\n",
    "random.shuffle(random_indexes)\n",
    "print(random_indexes[:10])\n",
    "print(len(random_indexes))"
   ]
  },
  {
   "cell_type": "code",
   "execution_count": 18,
   "id": "0eca574c",
   "metadata": {},
   "outputs": [],
   "source": [
    "save_dir = \"C:/Users/fjdur/Desktop/upc/project_notebooks/github_project/DL_notebooks/SA_values/gtsrb_random_values_e2.npy\"\n",
    "\n",
    "#np.save(save_dir,np.array(random_indexes))\n",
    "\n",
    "random_indexes = np.load(save_dir)"
   ]
  },
  {
   "cell_type": "code",
   "execution_count": 19,
   "id": "d13ccb6c",
   "metadata": {},
   "outputs": [],
   "source": [
    "# Obtaining top n images by random values\n",
    "top_images_by_random = utils.get_x_of_indexes(list(np.flip(np.argsort(random_indexes))),x_train_and_adversary)\n",
    "top_labels_by_random = utils.get_x_of_indexes(list(np.flip(np.argsort(random_indexes))),y_train_and_adversary)"
   ]
  },
  {
   "cell_type": "code",
   "execution_count": 20,
   "id": "6cc951db",
   "metadata": {},
   "outputs": [
    {
     "name": "stdout",
     "output_type": "stream",
     "text": [
      "Model loaded correctly\n",
      "Model compiled\n",
      "Epoch 1/10\n",
      "79/79 [==============================] - 44s 529ms/step - loss: 0.5540 - accuracy: 0.8753 - val_loss: 0.0332 - val_accuracy: 0.9916\n",
      "Epoch 2/10\n",
      "79/79 [==============================] - 45s 572ms/step - loss: 0.3346 - accuracy: 0.9113 - val_loss: 0.0407 - val_accuracy: 0.9888\n",
      "Epoch 3/10\n",
      "79/79 [==============================] - 40s 510ms/step - loss: 0.3225 - accuracy: 0.9108 - val_loss: 0.0823 - val_accuracy: 0.9867\n",
      "Epoch 4/10\n",
      "79/79 [==============================] - 39s 489ms/step - loss: 0.3098 - accuracy: 0.9202 - val_loss: 0.0441 - val_accuracy: 0.9900\n",
      "Epoch 5/10\n",
      "79/79 [==============================] - 38s 481ms/step - loss: 0.2349 - accuracy: 0.9370 - val_loss: 0.0338 - val_accuracy: 0.9944\n",
      "Epoch 6/10\n",
      "79/79 [==============================] - 38s 486ms/step - loss: 0.2204 - accuracy: 0.9425 - val_loss: 0.1771 - val_accuracy: 0.9627\n",
      "Epoch 7/10\n",
      "79/79 [==============================] - 42s 533ms/step - loss: 0.2063 - accuracy: 0.9389 - val_loss: 0.0341 - val_accuracy: 0.9929\n",
      "Epoch 8/10\n",
      "79/79 [==============================] - 39s 495ms/step - loss: 0.1634 - accuracy: 0.9495 - val_loss: 0.0488 - val_accuracy: 0.9906\n",
      "Epoch 9/10\n",
      "79/79 [==============================] - 41s 522ms/step - loss: 0.1742 - accuracy: 0.9541 - val_loss: 0.0274 - val_accuracy: 0.9936\n",
      "Epoch 10/10\n",
      "79/79 [==============================] - 43s 538ms/step - loss: 0.1510 - accuracy: 0.9604 - val_loss: 0.1241 - val_accuracy: 0.9778\n",
      "Duration: 0:06:48.809575\n"
     ]
    },
    {
     "data": {
      "text/plain": [
       "<keras.callbacks.History at 0x1a3aeae65e0>"
      ]
     },
     "execution_count": 20,
     "metadata": {},
     "output_type": "execute_result"
    }
   ],
   "source": [
    "top_images_by_random_5000 = np.array(top_images_by_random[:5000])\n",
    "top_labels_by_random_5000 = np.array(top_labels_by_random[:5000])\n",
    "\n",
    "model_random_5000 =  utils.My_model(dataset,True,model_dir)\n",
    "model_random_5000.compile_model()\n",
    "\n",
    "model_random_5000.fit_model(top_images_by_random_5000,top_labels_by_random_5000,x_val,y_val)"
   ]
  },
  {
   "cell_type": "code",
   "execution_count": 16,
   "id": "1209ac75",
   "metadata": {},
   "outputs": [
    {
     "name": "stdout",
     "output_type": "stream",
     "text": [
      "0 :\n",
      "0  ->  1800\n",
      "1800\n",
      "1 :\n",
      "0  ->  3600\n",
      "3600\n",
      "2 :\n",
      "0  ->  5400\n",
      "5400\n",
      "3 :\n",
      "0  ->  7200\n",
      "7200\n",
      "4 :\n",
      "0  ->  9000\n",
      "9000\n",
      "5 :\n",
      "0  ->  10800\n",
      "10800\n",
      "6 :\n",
      "0  ->  12600\n",
      "12600\n",
      "7 :\n",
      "0  ->  14400\n",
      "14400\n",
      "8 :\n",
      "0  ->  16200\n",
      "16200\n",
      "9 :\n",
      "0  ->  18000\n",
      "18000\n",
      "10 :\n",
      "0  ->  19800\n",
      "19800\n",
      "11 :\n",
      "0  ->  21600\n",
      "21600\n",
      "12 :\n",
      "0  ->  23400\n",
      "23400\n",
      "13 :\n",
      "0  ->  25200\n",
      "25200\n",
      "14 :\n",
      "0  ->  27000\n",
      "27000\n",
      "15 :\n",
      "0  ->  28800\n",
      "28800\n",
      "16 :\n",
      "0  ->  30600\n",
      "30600\n",
      "17 :\n",
      "0  ->  32400\n",
      "32400\n",
      "18 :\n",
      "0  ->  34200\n",
      "34200\n",
      "19 :\n",
      "Last\n",
      "0  ->  36366\n",
      "36366\n"
     ]
    }
   ],
   "source": [
    "m = 1800\n",
    "n = 0\n",
    "image_sets_random = []\n",
    "label_sets_random = []\n",
    "\n",
    "\n",
    "for i in range(len(top_images_by_random)//m):\n",
    "    print(i,\":\")\n",
    "    if (i+1 >= len(top_images_by_random)//m):\n",
    "        print(\"Last\")\n",
    "        print(0,\" -> \",n+m+(len(top_images_by_random)%m))\n",
    "        top_images_by_random_n = np.array(top_images_by_random[:n+m+(len(top_images_by_random)%m)])\n",
    "        top_labels_by_random_n = np.array(top_labels_by_random[:n+m+(len(top_images_by_random)%m)])\n",
    "    else:\n",
    "        print(0,\" -> \",m+n)\n",
    "        top_images_by_random_n = np.array(top_images_by_random[:n+m])\n",
    "        top_labels_by_random_n = np.array(top_labels_by_random[:n+m])\n",
    "    image_sets_random.append(top_images_by_random_n)\n",
    "    label_sets_random.append(top_labels_by_random_n)\n",
    "    print(len(top_images_by_random_n))\n",
    "    n += m\n",
    "\n"
   ]
  },
  {
   "cell_type": "code",
   "execution_count": 17,
   "id": "3ed47a88",
   "metadata": {},
   "outputs": [
    {
     "data": {
      "text/plain": [
       "20"
      ]
     },
     "execution_count": 17,
     "metadata": {},
     "output_type": "execute_result"
    }
   ],
   "source": [
    "len(image_sets_random)"
   ]
  },
  {
   "cell_type": "code",
   "execution_count": null,
   "id": "89d604af",
   "metadata": {},
   "outputs": [],
   "source": []
  },
  {
   "cell_type": "code",
   "execution_count": 18,
   "id": "3f03e1cf",
   "metadata": {},
   "outputs": [
    {
     "name": "stdout",
     "output_type": "stream",
     "text": [
      "C:/Users/fjdur/Desktop/upc/project_notebooks/github_project/DL_notebooks/models/tf_model_25-06\n",
      "0 :\n",
      "Model loaded correctly\n",
      "Model compiled\n",
      "1 :\n",
      "Model loaded correctly\n",
      "Model compiled\n",
      "2 :\n",
      "Model loaded correctly\n",
      "Model compiled\n",
      "3 :\n",
      "Model loaded correctly\n",
      "Model compiled\n",
      "4 :\n",
      "Model loaded correctly\n",
      "Model compiled\n",
      "5 :\n",
      "Model loaded correctly\n",
      "Model compiled\n",
      "6 :\n",
      "Model loaded correctly\n",
      "Model compiled\n",
      "7 :\n",
      "Model loaded correctly\n",
      "Model compiled\n",
      "8 :\n",
      "Model loaded correctly\n",
      "Model compiled\n",
      "9 :\n",
      "Model loaded correctly\n",
      "Model compiled\n",
      "10 :\n",
      "Model loaded correctly\n",
      "Model compiled\n",
      "11 :\n",
      "Model loaded correctly\n",
      "Model compiled\n",
      "12 :\n",
      "Model loaded correctly\n",
      "Model compiled\n",
      "13 :\n",
      "Model loaded correctly\n",
      "Model compiled\n",
      "14 :\n",
      "Model loaded correctly\n",
      "Model compiled\n",
      "15 :\n",
      "Model loaded correctly\n",
      "Model compiled\n",
      "16 :\n",
      "Model loaded correctly\n",
      "Model compiled\n",
      "17 :\n",
      "Model loaded correctly\n",
      "Model compiled\n",
      "18 :\n",
      "Model loaded correctly\n",
      "Model compiled\n",
      "19 :\n",
      "Model loaded correctly\n",
      "Model compiled\n"
     ]
    }
   ],
   "source": [
    "print(model_dir)\n",
    "\n",
    "models_random = []\n",
    "for i in range(len(label_sets_random)):\n",
    "    print(i,\":\")\n",
    "    model = utils.My_model('gtsrb',True,model_dir)\n",
    "    model.compile_model()\n",
    "    models_random.append(model)\n"
   ]
  },
  {
   "cell_type": "code",
   "execution_count": 119,
   "id": "14912c8b",
   "metadata": {},
   "outputs": [
    {
     "name": "stdout",
     "output_type": "stream",
     "text": [
      "0\n",
      "Epoch 1/10\n",
      "29/29 [==============================] - 56s 2s/step - loss: 0.5768 - accuracy: 0.8767 - val_loss: 0.0388 - val_accuracy: 0.9903\n",
      "Epoch 2/10\n",
      "29/29 [==============================] - 50s 2s/step - loss: 0.3757 - accuracy: 0.9040 - val_loss: 0.0541 - val_accuracy: 0.9872\n",
      "Epoch 3/10\n",
      "29/29 [==============================] - 48s 2s/step - loss: 0.4791 - accuracy: 0.9034 - val_loss: 0.0355 - val_accuracy: 0.9908\n",
      "Epoch 4/10\n",
      "29/29 [==============================] - 49s 2s/step - loss: 0.2569 - accuracy: 0.9245 - val_loss: 0.0434 - val_accuracy: 0.9908\n",
      "Epoch 5/10\n",
      "29/29 [==============================] - 48s 2s/step - loss: 0.3046 - accuracy: 0.9216 - val_loss: 0.0295 - val_accuracy: 0.9929\n",
      "Epoch 6/10\n",
      "29/29 [==============================] - 49s 2s/step - loss: 0.2280 - accuracy: 0.9370 - val_loss: 0.0501 - val_accuracy: 0.9888\n",
      "Epoch 7/10\n",
      "29/29 [==============================] - 48s 2s/step - loss: 0.2228 - accuracy: 0.9400 - val_loss: 0.0374 - val_accuracy: 0.9911\n",
      "Epoch 8/10\n",
      "29/29 [==============================] - 48s 2s/step - loss: 0.1945 - accuracy: 0.9344 - val_loss: 0.0521 - val_accuracy: 0.9906\n",
      "Epoch 9/10\n",
      "29/29 [==============================] - 48s 2s/step - loss: 0.1369 - accuracy: 0.9574 - val_loss: 0.0356 - val_accuracy: 0.9923\n",
      "Epoch 10/10\n",
      "29/29 [==============================] - 48s 2s/step - loss: 0.2002 - accuracy: 0.9406 - val_loss: 0.0534 - val_accuracy: 0.9862\n",
      "Duration: 0:08:12.078239\n"
     ]
    }
   ],
   "source": [
    "n=0\n",
    "print(n)\n",
    "\n",
    "models_random[n].fit_model(image_sets_random[n],label_sets_random[n],x_val,y_val)\n",
    "n = n+1"
   ]
  },
  {
   "cell_type": "code",
   "execution_count": 120,
   "id": "f28e27b1",
   "metadata": {},
   "outputs": [
    {
     "name": "stdout",
     "output_type": "stream",
     "text": [
      "1\n",
      "Epoch 1/10\n",
      "57/57 [==============================] - 79s 1s/step - loss: 0.5253 - accuracy: 0.8785 - val_loss: 0.0376 - val_accuracy: 0.9921\n",
      "Epoch 2/10\n",
      "57/57 [==============================] - 75s 1s/step - loss: 0.3612 - accuracy: 0.9084 - val_loss: 0.0482 - val_accuracy: 0.9906\n",
      "Epoch 3/10\n",
      "57/57 [==============================] - 74s 1s/step - loss: 0.3426 - accuracy: 0.9102 - val_loss: 0.2802 - val_accuracy: 0.9653\n",
      "Epoch 4/10\n",
      "57/57 [==============================] - 75s 1s/step - loss: 0.2859 - accuracy: 0.9187 - val_loss: 0.0467 - val_accuracy: 0.9906\n",
      "Epoch 5/10\n",
      "57/57 [==============================] - 74s 1s/step - loss: 0.2727 - accuracy: 0.9293 - val_loss: 0.0410 - val_accuracy: 0.9906\n",
      "Epoch 6/10\n",
      "57/57 [==============================] - 78s 1s/step - loss: 0.2420 - accuracy: 0.9340 - val_loss: 0.0507 - val_accuracy: 0.9916\n",
      "Epoch 7/10\n",
      "57/57 [==============================] - 72s 1s/step - loss: 0.2105 - accuracy: 0.9418 - val_loss: 0.0921 - val_accuracy: 0.9727\n",
      "Epoch 8/10\n",
      "57/57 [==============================] - 76s 1s/step - loss: 0.2123 - accuracy: 0.9415 - val_loss: 0.0386 - val_accuracy: 0.9921\n",
      "Epoch 9/10\n",
      "57/57 [==============================] - 74s 1s/step - loss: 0.1536 - accuracy: 0.9544 - val_loss: 0.0578 - val_accuracy: 0.9890\n",
      "Epoch 10/10\n",
      "57/57 [==============================] - 73s 1s/step - loss: 0.1811 - accuracy: 0.9510 - val_loss: 0.0810 - val_accuracy: 0.9786\n",
      "Duration: 0:12:28.610345\n"
     ]
    }
   ],
   "source": [
    "print(n)\n",
    "\n",
    "models_random[n].fit_model(image_sets_random[n],label_sets_random[n],x_val,y_val)\n",
    "n = n+1"
   ]
  },
  {
   "cell_type": "code",
   "execution_count": 121,
   "id": "86be2715",
   "metadata": {},
   "outputs": [
    {
     "name": "stdout",
     "output_type": "stream",
     "text": [
      "2\n",
      "Epoch 1/10\n",
      "85/85 [==============================] - 99s 1s/step - loss: 0.4843 - accuracy: 0.8848 - val_loss: 0.0351 - val_accuracy: 0.9898\n",
      "Epoch 2/10\n",
      "85/85 [==============================] - 97s 1s/step - loss: 0.3539 - accuracy: 0.9010 - val_loss: 0.0244 - val_accuracy: 0.9939\n",
      "Epoch 3/10\n",
      "85/85 [==============================] - 97s 1s/step - loss: 0.2853 - accuracy: 0.9235 - val_loss: 0.0303 - val_accuracy: 0.9918\n",
      "Epoch 4/10\n",
      "85/85 [==============================] - 97s 1s/step - loss: 0.2614 - accuracy: 0.9267 - val_loss: 0.0274 - val_accuracy: 0.9929\n",
      "Epoch 5/10\n",
      "85/85 [==============================] - 97s 1s/step - loss: 0.2244 - accuracy: 0.9375 - val_loss: 0.0280 - val_accuracy: 0.9934\n",
      "Epoch 6/10\n",
      "85/85 [==============================] - 97s 1s/step - loss: 0.2123 - accuracy: 0.9411 - val_loss: 0.0413 - val_accuracy: 0.9906\n",
      "Epoch 7/10\n",
      "85/85 [==============================] - 97s 1s/step - loss: 0.2222 - accuracy: 0.9425 - val_loss: 0.0436 - val_accuracy: 0.9900\n",
      "Epoch 8/10\n",
      "85/85 [==============================] - 99s 1s/step - loss: 0.1649 - accuracy: 0.9514 - val_loss: 0.0282 - val_accuracy: 0.9916\n",
      "Epoch 9/10\n",
      "85/85 [==============================] - 103s 1s/step - loss: 0.1770 - accuracy: 0.9491 - val_loss: 0.0375 - val_accuracy: 0.9918\n",
      "Epoch 10/10\n",
      "85/85 [==============================] - 100s 1s/step - loss: 0.1602 - accuracy: 0.9542 - val_loss: 0.0320 - val_accuracy: 0.9934\n",
      "Duration: 0:16:22.634390\n"
     ]
    }
   ],
   "source": [
    "print(n)\n",
    "\n",
    "models_random[n].fit_model(image_sets_random[n],label_sets_random[n],x_val,y_val)\n",
    "n = n+1"
   ]
  },
  {
   "cell_type": "code",
   "execution_count": 122,
   "id": "ac9da2be",
   "metadata": {
    "scrolled": true
   },
   "outputs": [
    {
     "name": "stdout",
     "output_type": "stream",
     "text": [
      "3\n",
      "Epoch 1/10\n",
      "113/113 [==============================] - 133s 1s/step - loss: 0.5621 - accuracy: 0.8720 - val_loss: 0.0561 - val_accuracy: 0.9898\n",
      "Epoch 2/10\n",
      "113/113 [==============================] - 132s 1s/step - loss: 0.3410 - accuracy: 0.9082 - val_loss: 0.0340 - val_accuracy: 0.9908\n",
      "Epoch 3/10\n",
      "113/113 [==============================] - 126s 1s/step - loss: 0.2786 - accuracy: 0.9289 - val_loss: 0.0388 - val_accuracy: 0.9898\n",
      "Epoch 4/10\n",
      "113/113 [==============================] - 130s 1s/step - loss: 0.2799 - accuracy: 0.9241 - val_loss: 0.0287 - val_accuracy: 0.9926\n",
      "Epoch 5/10\n",
      "113/113 [==============================] - 132s 1s/step - loss: 0.1971 - accuracy: 0.9435 - val_loss: 0.0509 - val_accuracy: 0.9898\n",
      "Epoch 6/10\n",
      "113/113 [==============================] - 129s 1s/step - loss: 0.1983 - accuracy: 0.9447 - val_loss: 0.0319 - val_accuracy: 0.9923\n",
      "Epoch 7/10\n",
      "113/113 [==============================] - 129s 1s/step - loss: 0.1943 - accuracy: 0.9452 - val_loss: 0.0442 - val_accuracy: 0.9911\n",
      "Epoch 8/10\n",
      "113/113 [==============================] - 131s 1s/step - loss: 0.1652 - accuracy: 0.9474 - val_loss: 0.0334 - val_accuracy: 0.9923\n",
      "Epoch 9/10\n",
      "113/113 [==============================] - 130s 1s/step - loss: 0.1834 - accuracy: 0.9536 - val_loss: 0.0411 - val_accuracy: 0.9900\n",
      "Epoch 10/10\n",
      "113/113 [==============================] - 129s 1s/step - loss: 0.1480 - accuracy: 0.9565 - val_loss: 0.0522 - val_accuracy: 0.9934\n",
      "Duration: 0:21:40.679654\n"
     ]
    }
   ],
   "source": [
    "print(n)\n",
    "\n",
    "models_random[n].fit_model(image_sets_random[n],label_sets_random[n],x_val,y_val)\n",
    "n = n+1"
   ]
  },
  {
   "cell_type": "code",
   "execution_count": 124,
   "id": "0c0f3809",
   "metadata": {},
   "outputs": [
    {
     "name": "stdout",
     "output_type": "stream",
     "text": [
      "4\n",
      "Epoch 1/10\n",
      "141/141 [==============================] - 166s 1s/step - loss: 0.5214 - accuracy: 0.8834 - val_loss: 0.0409 - val_accuracy: 0.9890\n",
      "Epoch 2/10\n",
      "141/141 [==============================] - 162s 1s/step - loss: 0.3121 - accuracy: 0.9185 - val_loss: 0.0243 - val_accuracy: 0.9934\n",
      "Epoch 3/10\n",
      "141/141 [==============================] - 164s 1s/step - loss: 0.2862 - accuracy: 0.9238 - val_loss: 0.0389 - val_accuracy: 0.9916\n",
      "Epoch 4/10\n",
      "141/141 [==============================] - 163s 1s/step - loss: 0.2493 - accuracy: 0.9313 - val_loss: 0.0338 - val_accuracy: 0.9926\n",
      "Epoch 5/10\n",
      "141/141 [==============================] - 163s 1s/step - loss: 0.2196 - accuracy: 0.9453 - val_loss: 0.0272 - val_accuracy: 0.9926\n",
      "Epoch 6/10\n",
      "141/141 [==============================] - 163s 1s/step - loss: 0.1881 - accuracy: 0.9498 - val_loss: 0.0475 - val_accuracy: 0.9921\n",
      "Epoch 7/10\n",
      "141/141 [==============================] - 169s 1s/step - loss: 0.1675 - accuracy: 0.9525 - val_loss: 0.0359 - val_accuracy: 0.9903\n",
      "Epoch 8/10\n",
      "141/141 [==============================] - 161s 1s/step - loss: 0.1669 - accuracy: 0.9544 - val_loss: 0.0497 - val_accuracy: 0.9898\n",
      "Epoch 9/10\n",
      "141/141 [==============================] - 163s 1s/step - loss: 0.1613 - accuracy: 0.9590 - val_loss: 0.0343 - val_accuracy: 0.9931\n",
      "Epoch 10/10\n",
      "141/141 [==============================] - 174s 1s/step - loss: 0.1446 - accuracy: 0.9597 - val_loss: 0.0418 - val_accuracy: 0.9936\n",
      "Duration: 0:27:28.983988\n"
     ]
    }
   ],
   "source": [
    "print(n)#4\n",
    "\n",
    "models_random[n].fit_model(image_sets_random[n],label_sets_random[n],x_val,y_val)\n",
    "n = n+1"
   ]
  },
  {
   "cell_type": "code",
   "execution_count": 125,
   "id": "cf722ccd",
   "metadata": {},
   "outputs": [
    {
     "name": "stdout",
     "output_type": "stream",
     "text": [
      "5\n",
      "Epoch 1/10\n",
      "169/169 [==============================] - 208s 1s/step - loss: 0.5165 - accuracy: 0.8811 - val_loss: 0.0300 - val_accuracy: 0.9929\n",
      "Epoch 2/10\n",
      "169/169 [==============================] - 206s 1s/step - loss: 0.3017 - accuracy: 0.9180 - val_loss: 0.0302 - val_accuracy: 0.9934\n",
      "Epoch 3/10\n",
      "169/169 [==============================] - 200s 1s/step - loss: 0.2284 - accuracy: 0.9380 - val_loss: 0.0252 - val_accuracy: 0.9926\n",
      "Epoch 4/10\n",
      "169/169 [==============================] - 201s 1s/step - loss: 0.2322 - accuracy: 0.9375 - val_loss: 0.0486 - val_accuracy: 0.9898\n",
      "Epoch 5/10\n",
      "169/169 [==============================] - 201s 1s/step - loss: 0.1977 - accuracy: 0.9477 - val_loss: 0.0302 - val_accuracy: 0.9911\n",
      "Epoch 6/10\n",
      "169/169 [==============================] - 204s 1s/step - loss: 0.2029 - accuracy: 0.9434 - val_loss: 0.0293 - val_accuracy: 0.9944\n",
      "Epoch 7/10\n",
      "169/169 [==============================] - 208s 1s/step - loss: 0.1804 - accuracy: 0.9486 - val_loss: 0.0281 - val_accuracy: 0.9941\n",
      "Epoch 8/10\n",
      "169/169 [==============================] - 203s 1s/step - loss: 0.1601 - accuracy: 0.9581 - val_loss: 0.0404 - val_accuracy: 0.9929\n",
      "Epoch 9/10\n",
      "169/169 [==============================] - 209s 1s/step - loss: 0.1685 - accuracy: 0.9549 - val_loss: 0.0357 - val_accuracy: 0.9921\n",
      "Epoch 10/10\n",
      "169/169 [==============================] - 223s 1s/step - loss: 0.1458 - accuracy: 0.9606 - val_loss: 0.0335 - val_accuracy: 0.9918\n",
      "Duration: 0:34:22.777144\n"
     ]
    }
   ],
   "source": [
    "print(n)\n",
    "\n",
    "models_random[n].fit_model(image_sets_random[n],label_sets_random[n],x_val,y_val)\n",
    "n = n+1"
   ]
  },
  {
   "cell_type": "code",
   "execution_count": 126,
   "id": "35301e47",
   "metadata": {},
   "outputs": [
    {
     "name": "stdout",
     "output_type": "stream",
     "text": [
      "6\n",
      "Epoch 1/10\n",
      "197/197 [==============================] - 276s 1s/step - loss: 0.4424 - accuracy: 0.8945 - val_loss: 0.0254 - val_accuracy: 0.9946\n",
      "Epoch 2/10\n",
      "197/197 [==============================] - 247s 1s/step - loss: 0.2852 - accuracy: 0.9235 - val_loss: 0.0319 - val_accuracy: 0.9931\n",
      "Epoch 3/10\n",
      "197/197 [==============================] - 248s 1s/step - loss: 0.2250 - accuracy: 0.9400 - val_loss: 0.0296 - val_accuracy: 0.9936\n",
      "Epoch 4/10\n",
      "197/197 [==============================] - 235s 1s/step - loss: 0.2278 - accuracy: 0.9405 - val_loss: 0.0297 - val_accuracy: 0.9944\n",
      "Epoch 5/10\n",
      "197/197 [==============================] - 242s 1s/step - loss: 0.1821 - accuracy: 0.9494 - val_loss: 0.0394 - val_accuracy: 0.9893\n",
      "Epoch 6/10\n",
      "197/197 [==============================] - 238s 1s/step - loss: 0.1706 - accuracy: 0.9520 - val_loss: 0.0335 - val_accuracy: 0.9944\n",
      "Epoch 7/10\n",
      "197/197 [==============================] - 237s 1s/step - loss: 0.1740 - accuracy: 0.9505 - val_loss: 0.0287 - val_accuracy: 0.9931\n",
      "Epoch 8/10\n",
      "197/197 [==============================] - 238s 1s/step - loss: 0.1645 - accuracy: 0.9569 - val_loss: 0.0469 - val_accuracy: 0.9926\n",
      "Epoch 9/10\n",
      "197/197 [==============================] - 240s 1s/step - loss: 0.1709 - accuracy: 0.9555 - val_loss: 0.0513 - val_accuracy: 0.9913\n",
      "Epoch 10/10\n",
      "197/197 [==============================] - 241s 1s/step - loss: 0.1462 - accuracy: 0.9602 - val_loss: 0.0308 - val_accuracy: 0.9936\n",
      "Duration: 0:40:42.114622\n"
     ]
    }
   ],
   "source": [
    "print(n)\n",
    "\n",
    "models_random[n].fit_model(image_sets_random[n],label_sets_random[n],x_val,y_val)\n",
    "n = n+1"
   ]
  },
  {
   "cell_type": "code",
   "execution_count": 23,
   "id": "31086dab",
   "metadata": {},
   "outputs": [
    {
     "name": "stdout",
     "output_type": "stream",
     "text": [
      "7\n",
      "Epoch 1/10\n",
      "225/225 [==============================] - 93s 384ms/step - loss: 0.4534 - accuracy: 0.8897 - val_loss: 0.0275 - val_accuracy: 0.9913\n",
      "Epoch 2/10\n",
      "225/225 [==============================] - 90s 399ms/step - loss: 0.3038 - accuracy: 0.9187 - val_loss: 0.0268 - val_accuracy: 0.9941\n",
      "Epoch 3/10\n",
      "225/225 [==============================] - 87s 387ms/step - loss: 0.2488 - accuracy: 0.9323 - val_loss: 0.0479 - val_accuracy: 0.9923\n",
      "Epoch 4/10\n",
      "225/225 [==============================] - 87s 387ms/step - loss: 0.2148 - accuracy: 0.9398 - val_loss: 0.0328 - val_accuracy: 0.9916\n",
      "Epoch 5/10\n",
      "225/225 [==============================] - 87s 386ms/step - loss: 0.1822 - accuracy: 0.9478 - val_loss: 0.0297 - val_accuracy: 0.9923\n",
      "Epoch 6/10\n",
      "225/225 [==============================] - 87s 388ms/step - loss: 0.1777 - accuracy: 0.9485 - val_loss: 0.0523 - val_accuracy: 0.9893\n",
      "Epoch 7/10\n",
      "225/225 [==============================] - 87s 386ms/step - loss: 0.1726 - accuracy: 0.9545 - val_loss: 0.0410 - val_accuracy: 0.9931\n",
      "Epoch 8/10\n",
      "225/225 [==============================] - 92s 410ms/step - loss: 0.1584 - accuracy: 0.9580 - val_loss: 0.0340 - val_accuracy: 0.9954\n",
      "Epoch 9/10\n",
      "225/225 [==============================] - 95s 423ms/step - loss: 0.1591 - accuracy: 0.9588 - val_loss: 0.0577 - val_accuracy: 0.9872\n",
      "Epoch 10/10\n",
      "225/225 [==============================] - 91s 406ms/step - loss: 0.1468 - accuracy: 0.9619 - val_loss: 0.0283 - val_accuracy: 0.9944\n",
      "Duration: 0:14:56.938828\n"
     ]
    }
   ],
   "source": [
    "n=7\n",
    "print(n)\n",
    "\n",
    "models_random[n].fit_model(image_sets_random[n],label_sets_random[n],x_val,y_val)\n",
    "n = n+1"
   ]
  },
  {
   "cell_type": "code",
   "execution_count": 24,
   "id": "693f95bc",
   "metadata": {},
   "outputs": [
    {
     "name": "stdout",
     "output_type": "stream",
     "text": [
      "8\n",
      "Epoch 1/10\n",
      "254/254 [==============================] - 103s 397ms/step - loss: 0.4324 - accuracy: 0.8944 - val_loss: 0.0292 - val_accuracy: 0.9931\n",
      "Epoch 2/10\n",
      "254/254 [==============================] - 99s 390ms/step - loss: 0.2766 - accuracy: 0.9266 - val_loss: 0.0243 - val_accuracy: 0.9941\n",
      "Epoch 3/10\n",
      "254/254 [==============================] - 106s 417ms/step - loss: 0.2226 - accuracy: 0.9397 - val_loss: 0.1046 - val_accuracy: 0.9811\n",
      "Epoch 4/10\n",
      "254/254 [==============================] - 105s 412ms/step - loss: 0.2202 - accuracy: 0.9422 - val_loss: 0.0241 - val_accuracy: 0.9954\n",
      "Epoch 5/10\n",
      "254/254 [==============================] - 106s 416ms/step - loss: 0.1870 - accuracy: 0.9487 - val_loss: 0.0358 - val_accuracy: 0.9923\n",
      "Epoch 6/10\n",
      "254/254 [==============================] - 108s 425ms/step - loss: 0.1858 - accuracy: 0.9487 - val_loss: 0.0366 - val_accuracy: 0.9916\n",
      "Epoch 7/10\n",
      "254/254 [==============================] - 113s 443ms/step - loss: 0.1783 - accuracy: 0.9560 - val_loss: 0.0258 - val_accuracy: 0.9934\n",
      "Epoch 8/10\n",
      "254/254 [==============================] - 109s 430ms/step - loss: 0.1629 - accuracy: 0.9552 - val_loss: 0.0365 - val_accuracy: 0.9926\n",
      "Epoch 9/10\n",
      "254/254 [==============================] - 100s 395ms/step - loss: 0.1779 - accuracy: 0.9531 - val_loss: 0.0217 - val_accuracy: 0.9944\n",
      "Epoch 10/10\n",
      "254/254 [==============================] - 102s 400ms/step - loss: 0.1521 - accuracy: 0.9596 - val_loss: 0.0373 - val_accuracy: 0.9946\n",
      "Duration: 0:17:30.272983\n"
     ]
    }
   ],
   "source": [
    "print(n)\n",
    "\n",
    "models_random[n].fit_model(image_sets_random[n],label_sets_random[n],x_val,y_val)\n",
    "n = n+1"
   ]
  },
  {
   "cell_type": "code",
   "execution_count": 45,
   "id": "6e0e5801",
   "metadata": {
    "scrolled": false
   },
   "outputs": [
    {
     "name": "stdout",
     "output_type": "stream",
     "text": [
      "9\n",
      "Epoch 1/10\n",
      "282/282 [==============================] - 125s 423ms/step - loss: 0.4387 - accuracy: 0.8965 - val_loss: 0.0325 - val_accuracy: 0.9936\n",
      "Epoch 2/10\n",
      "282/282 [==============================] - 113s 400ms/step - loss: 0.2867 - accuracy: 0.9244 - val_loss: 0.0285 - val_accuracy: 0.9944\n",
      "Epoch 3/10\n",
      "282/282 [==============================] - 115s 406ms/step - loss: 0.2340 - accuracy: 0.9354 - val_loss: 0.0403 - val_accuracy: 0.9911\n",
      "Epoch 4/10\n",
      "282/282 [==============================] - 117s 416ms/step - loss: 0.1898 - accuracy: 0.9476 - val_loss: 0.0277 - val_accuracy: 0.9939\n",
      "Epoch 5/10\n",
      "282/282 [==============================] - 111s 395ms/step - loss: 0.1839 - accuracy: 0.9515 - val_loss: 0.0736 - val_accuracy: 0.9768\n",
      "Epoch 6/10\n",
      "282/282 [==============================] - 111s 392ms/step - loss: 0.1723 - accuracy: 0.9496 - val_loss: 0.0533 - val_accuracy: 0.9926\n",
      "Epoch 7/10\n",
      "282/282 [==============================] - 111s 392ms/step - loss: 0.1637 - accuracy: 0.9552 - val_loss: 0.0422 - val_accuracy: 0.9890\n",
      "Epoch 8/10\n",
      "282/282 [==============================] - 110s 392ms/step - loss: 0.1619 - accuracy: 0.9575 - val_loss: 0.0312 - val_accuracy: 0.9936\n",
      "Epoch 9/10\n",
      "282/282 [==============================] - 110s 391ms/step - loss: 0.1575 - accuracy: 0.9619 - val_loss: 0.0459 - val_accuracy: 0.9893\n",
      "Epoch 10/10\n",
      "282/282 [==============================] - 110s 391ms/step - loss: 0.1593 - accuracy: 0.9600 - val_loss: 0.0483 - val_accuracy: 0.9893\n",
      "Duration: 0:18:53.404826\n"
     ]
    }
   ],
   "source": [
    "n=9\n",
    "print(n)#9\n",
    "\n",
    "models_random[n].fit_model(image_sets_random[n],label_sets_random[n],x_val,y_val)\n",
    "n = n+1"
   ]
  },
  {
   "cell_type": "code",
   "execution_count": 46,
   "id": "ebd0756a",
   "metadata": {},
   "outputs": [
    {
     "name": "stdout",
     "output_type": "stream",
     "text": [
      "10\n",
      "Epoch 1/10\n",
      "310/310 [==============================] - 123s 390ms/step - loss: 0.4330 - accuracy: 0.8950 - val_loss: 0.0414 - val_accuracy: 0.9903\n",
      "Epoch 2/10\n",
      "310/310 [==============================] - 121s 389ms/step - loss: 0.2798 - accuracy: 0.9258 - val_loss: 0.0402 - val_accuracy: 0.9926\n",
      "Epoch 3/10\n",
      "310/310 [==============================] - 120s 388ms/step - loss: 0.2238 - accuracy: 0.9395 - val_loss: 0.0306 - val_accuracy: 0.9931\n",
      "Epoch 4/10\n",
      "310/310 [==============================] - 121s 389ms/step - loss: 0.2178 - accuracy: 0.9425 - val_loss: 0.0581 - val_accuracy: 0.9885\n",
      "Epoch 5/10\n",
      "310/310 [==============================] - 121s 389ms/step - loss: 0.1758 - accuracy: 0.9530 - val_loss: 0.0300 - val_accuracy: 0.9934\n",
      "Epoch 6/10\n",
      "310/310 [==============================] - 129s 416ms/step - loss: 0.1864 - accuracy: 0.9510 - val_loss: 0.0572 - val_accuracy: 0.9878\n",
      "Epoch 7/10\n",
      "310/310 [==============================] - 130s 421ms/step - loss: 0.1622 - accuracy: 0.9549 - val_loss: 0.0350 - val_accuracy: 0.9908\n",
      "Epoch 8/10\n",
      "310/310 [==============================] - 124s 399ms/step - loss: 0.1778 - accuracy: 0.9552 - val_loss: 0.0331 - val_accuracy: 0.9931\n",
      "Epoch 9/10\n",
      "310/310 [==============================] - 123s 397ms/step - loss: 0.1410 - accuracy: 0.9626 - val_loss: 0.0681 - val_accuracy: 0.9842\n",
      "Epoch 10/10\n",
      "310/310 [==============================] - 130s 420ms/step - loss: 0.1590 - accuracy: 0.9590 - val_loss: 0.0337 - val_accuracy: 0.9926\n",
      "Duration: 0:20:41.400688\n"
     ]
    }
   ],
   "source": [
    "print(n)\n",
    "\n",
    "models_random[n].fit_model(image_sets_random[n],label_sets_random[n],x_val,y_val)\n",
    "n = n+1"
   ]
  },
  {
   "cell_type": "code",
   "execution_count": 47,
   "id": "8c267b21",
   "metadata": {},
   "outputs": [
    {
     "name": "stdout",
     "output_type": "stream",
     "text": [
      "11\n",
      "Epoch 1/10\n",
      "338/338 [==============================] - 145s 424ms/step - loss: 0.4496 - accuracy: 0.8898 - val_loss: 0.0326 - val_accuracy: 0.9929\n",
      "Epoch 2/10\n",
      "338/338 [==============================] - 141s 417ms/step - loss: 0.2870 - accuracy: 0.9243 - val_loss: 0.0248 - val_accuracy: 0.9957\n",
      "Epoch 3/10\n",
      "338/338 [==============================] - 140s 415ms/step - loss: 0.2195 - accuracy: 0.9388 - val_loss: 0.0288 - val_accuracy: 0.9944\n",
      "Epoch 4/10\n",
      "338/338 [==============================] - 142s 420ms/step - loss: 0.1942 - accuracy: 0.9489 - val_loss: 0.0231 - val_accuracy: 0.9946\n",
      "Epoch 5/10\n",
      "338/338 [==============================] - 141s 416ms/step - loss: 0.1828 - accuracy: 0.9514 - val_loss: 0.0434 - val_accuracy: 0.9931\n",
      "Epoch 6/10\n",
      "338/338 [==============================] - 132s 390ms/step - loss: 0.1631 - accuracy: 0.9567 - val_loss: 0.0247 - val_accuracy: 0.9939\n",
      "Epoch 7/10\n",
      "338/338 [==============================] - 136s 402ms/step - loss: 0.1573 - accuracy: 0.9580 - val_loss: 0.0207 - val_accuracy: 0.9944\n",
      "Epoch 8/10\n",
      "338/338 [==============================] - 137s 404ms/step - loss: 0.1741 - accuracy: 0.9570 - val_loss: 0.0530 - val_accuracy: 0.9908\n",
      "Epoch 9/10\n",
      "338/338 [==============================] - 137s 407ms/step - loss: 0.1764 - accuracy: 0.9549 - val_loss: 0.0572 - val_accuracy: 0.9911\n",
      "Epoch 10/10\n",
      "338/338 [==============================] - 137s 405ms/step - loss: 0.1656 - accuracy: 0.9581 - val_loss: 0.0268 - val_accuracy: 0.9939\n",
      "Duration: 0:23:07.680196\n"
     ]
    }
   ],
   "source": [
    "print(n)\n",
    "\n",
    "models_random[n].fit_model(image_sets_random[n],label_sets_random[n],x_val,y_val)\n",
    "n = n+1"
   ]
  },
  {
   "cell_type": "code",
   "execution_count": 48,
   "id": "a0f77dbe",
   "metadata": {},
   "outputs": [
    {
     "name": "stdout",
     "output_type": "stream",
     "text": [
      "12\n",
      "Epoch 1/10\n",
      "366/366 [==============================] - 142s 385ms/step - loss: 0.4275 - accuracy: 0.8941 - val_loss: 0.0331 - val_accuracy: 0.9916\n",
      "Epoch 2/10\n",
      "366/366 [==============================] - 148s 404ms/step - loss: 0.2646 - accuracy: 0.9285 - val_loss: 0.0817 - val_accuracy: 0.9867\n",
      "Epoch 3/10\n",
      "366/366 [==============================] - 153s 417ms/step - loss: 0.2346 - accuracy: 0.9359 - val_loss: 0.0339 - val_accuracy: 0.9926\n",
      "Epoch 4/10\n",
      "366/366 [==============================] - 154s 420ms/step - loss: 0.2123 - accuracy: 0.9447 - val_loss: 0.0227 - val_accuracy: 0.9952\n",
      "Epoch 5/10\n",
      "366/366 [==============================] - 152s 415ms/step - loss: 0.1971 - accuracy: 0.9495 - val_loss: 0.0316 - val_accuracy: 0.9929\n",
      "Epoch 6/10\n",
      "366/366 [==============================] - 154s 422ms/step - loss: 0.1821 - accuracy: 0.9492 - val_loss: 0.0488 - val_accuracy: 0.9878\n",
      "Epoch 7/10\n",
      "366/366 [==============================] - 144s 394ms/step - loss: 0.1802 - accuracy: 0.9517 - val_loss: 0.0344 - val_accuracy: 0.9903\n",
      "Epoch 8/10\n",
      "366/366 [==============================] - 142s 388ms/step - loss: 0.1657 - accuracy: 0.9570 - val_loss: 0.0460 - val_accuracy: 0.9923\n",
      "Epoch 9/10\n",
      "366/366 [==============================] - 143s 390ms/step - loss: 0.1730 - accuracy: 0.9540 - val_loss: 0.0437 - val_accuracy: 0.9921\n",
      "Epoch 10/10\n",
      "366/366 [==============================] - 142s 388ms/step - loss: 0.1776 - accuracy: 0.9556 - val_loss: 0.0438 - val_accuracy: 0.9893\n",
      "Duration: 0:24:33.945030\n"
     ]
    }
   ],
   "source": [
    "print(n)\n",
    "\n",
    "models_random[n].fit_model(image_sets_random[n],label_sets_random[n],x_val,y_val)\n",
    "n = n+1"
   ]
  },
  {
   "cell_type": "code",
   "execution_count": 49,
   "id": "f6406922",
   "metadata": {},
   "outputs": [
    {
     "name": "stdout",
     "output_type": "stream",
     "text": [
      "13\n",
      "Epoch 1/10\n",
      "394/394 [==============================] - 155s 389ms/step - loss: 0.4269 - accuracy: 0.8949 - val_loss: 0.0319 - val_accuracy: 0.9923\n",
      "Epoch 2/10\n",
      "394/394 [==============================] - 153s 387ms/step - loss: 0.2607 - accuracy: 0.9293 - val_loss: 0.0249 - val_accuracy: 0.9941\n",
      "Epoch 3/10\n",
      "394/394 [==============================] - 153s 388ms/step - loss: 0.2187 - accuracy: 0.9388 - val_loss: 0.0216 - val_accuracy: 0.9939\n",
      "Epoch 4/10\n",
      "394/394 [==============================] - 153s 388ms/step - loss: 0.2055 - accuracy: 0.9453 - val_loss: 0.0378 - val_accuracy: 0.9921\n",
      "Epoch 5/10\n",
      "394/394 [==============================] - 152s 387ms/step - loss: 0.1897 - accuracy: 0.9491 - val_loss: 0.0400 - val_accuracy: 0.9911\n",
      "Epoch 6/10\n",
      "394/394 [==============================] - 152s 386ms/step - loss: 0.1978 - accuracy: 0.9503 - val_loss: 0.0188 - val_accuracy: 0.9949\n",
      "Epoch 7/10\n",
      "394/394 [==============================] - 152s 386ms/step - loss: 0.1687 - accuracy: 0.9557 - val_loss: 0.0420 - val_accuracy: 0.9890\n",
      "Epoch 8/10\n",
      "394/394 [==============================] - 152s 386ms/step - loss: 0.1678 - accuracy: 0.9568 - val_loss: 0.0360 - val_accuracy: 0.9936\n",
      "Epoch 9/10\n",
      "394/394 [==============================] - 152s 385ms/step - loss: 0.1643 - accuracy: 0.9578 - val_loss: 0.0601 - val_accuracy: 0.9865\n",
      "Epoch 10/10\n",
      "394/394 [==============================] - 152s 385ms/step - loss: 0.1751 - accuracy: 0.9575 - val_loss: 0.0357 - val_accuracy: 0.9921\n",
      "Duration: 0:25:25.875003\n"
     ]
    }
   ],
   "source": [
    "print(n)\n",
    "\n",
    "models_random[n].fit_model(image_sets_random[n],label_sets_random[n],x_val,y_val)\n",
    "n = n+1"
   ]
  },
  {
   "cell_type": "code",
   "execution_count": 50,
   "id": "7a13139a",
   "metadata": {},
   "outputs": [
    {
     "name": "stdout",
     "output_type": "stream",
     "text": [
      "14\n",
      "Epoch 1/10\n",
      "422/422 [==============================] - 165s 386ms/step - loss: 0.4331 - accuracy: 0.8936 - val_loss: 0.0248 - val_accuracy: 0.9946\n",
      "Epoch 2/10\n",
      "422/422 [==============================] - 163s 386ms/step - loss: 0.2559 - accuracy: 0.9293 - val_loss: 0.0274 - val_accuracy: 0.9929\n",
      "Epoch 3/10\n",
      "422/422 [==============================] - 162s 384ms/step - loss: 0.2189 - accuracy: 0.9402 - val_loss: 0.0737 - val_accuracy: 0.9842\n",
      "Epoch 4/10\n",
      "422/422 [==============================] - 162s 384ms/step - loss: 0.1960 - accuracy: 0.9466 - val_loss: 0.0330 - val_accuracy: 0.9918\n",
      "Epoch 5/10\n",
      "422/422 [==============================] - 163s 386ms/step - loss: 0.1878 - accuracy: 0.9502 - val_loss: 0.0263 - val_accuracy: 0.9931\n",
      "Epoch 6/10\n",
      "422/422 [==============================] - 163s 386ms/step - loss: 0.1801 - accuracy: 0.9544 - val_loss: 0.0414 - val_accuracy: 0.9918\n",
      "Epoch 7/10\n",
      "422/422 [==============================] - 162s 384ms/step - loss: 0.1750 - accuracy: 0.9560 - val_loss: 0.0367 - val_accuracy: 0.9916\n",
      "Epoch 8/10\n",
      "422/422 [==============================] - 163s 385ms/step - loss: 0.1767 - accuracy: 0.9573 - val_loss: 0.0402 - val_accuracy: 0.9931\n",
      "Epoch 9/10\n",
      "422/422 [==============================] - 162s 384ms/step - loss: 0.1728 - accuracy: 0.9579 - val_loss: 0.0408 - val_accuracy: 0.9911\n",
      "Epoch 10/10\n",
      "422/422 [==============================] - 162s 384ms/step - loss: 0.1668 - accuracy: 0.9619 - val_loss: 0.0352 - val_accuracy: 0.9916\n",
      "Duration: 0:27:06.603872\n"
     ]
    }
   ],
   "source": [
    "print(n)#14\n",
    "\n",
    "models_random[n].fit_model(image_sets_random[n],label_sets_random[n],x_val,y_val)\n",
    "n = n+1"
   ]
  },
  {
   "cell_type": "code",
   "execution_count": 51,
   "id": "78517ef0",
   "metadata": {},
   "outputs": [
    {
     "name": "stdout",
     "output_type": "stream",
     "text": [
      "15\n",
      "Epoch 1/10\n",
      "450/450 [==============================] - 174s 382ms/step - loss: 0.4212 - accuracy: 0.8974 - val_loss: 0.0276 - val_accuracy: 0.9931\n",
      "Epoch 2/10\n",
      "450/450 [==============================] - 172s 382ms/step - loss: 0.2535 - accuracy: 0.9308 - val_loss: 0.0221 - val_accuracy: 0.9936\n",
      "Epoch 3/10\n",
      "450/450 [==============================] - 171s 381ms/step - loss: 0.2009 - accuracy: 0.9440 - val_loss: 0.0347 - val_accuracy: 0.9916\n",
      "Epoch 4/10\n",
      "450/450 [==============================] - 171s 380ms/step - loss: 0.1987 - accuracy: 0.9464 - val_loss: 0.0274 - val_accuracy: 0.9939\n",
      "Epoch 5/10\n",
      "450/450 [==============================] - 171s 380ms/step - loss: 0.1780 - accuracy: 0.9524 - val_loss: 0.0296 - val_accuracy: 0.9936\n",
      "Epoch 6/10\n",
      "450/450 [==============================] - 171s 381ms/step - loss: 0.1730 - accuracy: 0.9541 - val_loss: 0.0224 - val_accuracy: 0.9954\n",
      "Epoch 7/10\n",
      "450/450 [==============================] - 174s 387ms/step - loss: 0.1738 - accuracy: 0.9591 - val_loss: 0.0297 - val_accuracy: 0.9923\n",
      "Epoch 8/10\n",
      "450/450 [==============================] - 177s 393ms/step - loss: 0.1681 - accuracy: 0.9567 - val_loss: 0.0767 - val_accuracy: 0.9849\n",
      "Epoch 9/10\n",
      "450/450 [==============================] - 175s 390ms/step - loss: 0.1759 - accuracy: 0.9576 - val_loss: 0.0266 - val_accuracy: 0.9936\n",
      "Epoch 10/10\n",
      "450/450 [==============================] - 195s 433ms/step - loss: 0.1681 - accuracy: 0.9600 - val_loss: 0.0389 - val_accuracy: 0.9913\n",
      "Duration: 0:29:11.546821\n"
     ]
    }
   ],
   "source": [
    "print(n)\n",
    "\n",
    "models_random[n].fit_model(image_sets_random[n],label_sets_random[n],x_val,y_val)\n",
    "n = n+1"
   ]
  },
  {
   "cell_type": "code",
   "execution_count": 52,
   "id": "be924fe3",
   "metadata": {},
   "outputs": [
    {
     "name": "stdout",
     "output_type": "stream",
     "text": [
      "16\n",
      "Epoch 1/10\n",
      "479/479 [==============================] - 268s 549ms/step - loss: 0.4145 - accuracy: 0.8976 - val_loss: 0.0161 - val_accuracy: 0.9954\n",
      "Epoch 2/10\n",
      "479/479 [==============================] - 253s 527ms/step - loss: 0.2496 - accuracy: 0.9306 - val_loss: 0.1819 - val_accuracy: 0.9604\n",
      "Epoch 3/10\n",
      "479/479 [==============================] - 260s 542ms/step - loss: 0.2114 - accuracy: 0.9439 - val_loss: 0.0253 - val_accuracy: 0.9939\n",
      "Epoch 4/10\n",
      "479/479 [==============================] - 256s 535ms/step - loss: 0.1998 - accuracy: 0.9484 - val_loss: 0.0507 - val_accuracy: 0.9875\n",
      "Epoch 5/10\n",
      "479/479 [==============================] - 253s 527ms/step - loss: 0.1790 - accuracy: 0.9533 - val_loss: 0.0261 - val_accuracy: 0.9934\n",
      "Epoch 6/10\n",
      "479/479 [==============================] - 264s 552ms/step - loss: 0.1805 - accuracy: 0.9537 - val_loss: 0.0236 - val_accuracy: 0.9941\n",
      "Epoch 7/10\n",
      "479/479 [==============================] - 264s 551ms/step - loss: 0.1730 - accuracy: 0.9560 - val_loss: 0.0434 - val_accuracy: 0.9906\n",
      "Epoch 8/10\n",
      "479/479 [==============================] - 233s 487ms/step - loss: 0.1657 - accuracy: 0.9574 - val_loss: 0.0297 - val_accuracy: 0.9944\n",
      "Epoch 9/10\n",
      "479/479 [==============================] - 213s 445ms/step - loss: 0.1563 - accuracy: 0.9608 - val_loss: 0.0441 - val_accuracy: 0.9898\n",
      "Epoch 10/10\n",
      "479/479 [==============================] - 210s 438ms/step - loss: 0.1827 - accuracy: 0.9552 - val_loss: 0.0381 - val_accuracy: 0.9913\n",
      "Duration: 0:41:13.889394\n"
     ]
    }
   ],
   "source": [
    "n=16\n",
    "print(n)\n",
    "\n",
    "models_random[n].fit_model(image_sets_random[n],label_sets_random[n],x_val,y_val)\n",
    "n = n+1"
   ]
  },
  {
   "cell_type": "code",
   "execution_count": 53,
   "id": "f4b40a6c",
   "metadata": {},
   "outputs": [
    {
     "name": "stdout",
     "output_type": "stream",
     "text": [
      "17\n",
      "Epoch 1/10\n",
      "507/507 [==============================] - 224s 437ms/step - loss: 0.4226 - accuracy: 0.8952 - val_loss: 0.0276 - val_accuracy: 0.9929\n",
      "Epoch 2/10\n",
      "507/507 [==============================] - 222s 437ms/step - loss: 0.2492 - accuracy: 0.9298 - val_loss: 0.0384 - val_accuracy: 0.9923\n",
      "Epoch 3/10\n",
      "507/507 [==============================] - 222s 437ms/step - loss: 0.2138 - accuracy: 0.9415 - val_loss: 0.0506 - val_accuracy: 0.9860\n",
      "Epoch 4/10\n",
      "507/507 [==============================] - 221s 436ms/step - loss: 0.1927 - accuracy: 0.9475 - val_loss: 0.0295 - val_accuracy: 0.9944\n",
      "Epoch 5/10\n",
      "507/507 [==============================] - 224s 441ms/step - loss: 0.1739 - accuracy: 0.9523 - val_loss: 0.0301 - val_accuracy: 0.9921\n",
      "Epoch 6/10\n",
      "507/507 [==============================] - 226s 447ms/step - loss: 0.1731 - accuracy: 0.9559 - val_loss: 0.0637 - val_accuracy: 0.9872\n",
      "Epoch 7/10\n",
      "507/507 [==============================] - 225s 444ms/step - loss: 0.1854 - accuracy: 0.9552 - val_loss: 0.0214 - val_accuracy: 0.9944\n",
      "Epoch 8/10\n",
      "507/507 [==============================] - 226s 445ms/step - loss: 0.1690 - accuracy: 0.9585 - val_loss: 0.0316 - val_accuracy: 0.9936\n",
      "Epoch 9/10\n",
      "507/507 [==============================] - 223s 440ms/step - loss: 0.1757 - accuracy: 0.9590 - val_loss: 0.0281 - val_accuracy: 0.9941\n",
      "Epoch 10/10\n",
      "507/507 [==============================] - 222s 437ms/step - loss: 0.1798 - accuracy: 0.9589 - val_loss: 0.0412 - val_accuracy: 0.9916\n",
      "Duration: 0:37:13.831064\n"
     ]
    }
   ],
   "source": [
    "print(n)\n",
    "\n",
    "models_random[n].fit_model(image_sets_random[n],label_sets_random[n],x_val,y_val)\n",
    "n = n+1"
   ]
  },
  {
   "cell_type": "code",
   "execution_count": 19,
   "id": "d6ee7926",
   "metadata": {},
   "outputs": [
    {
     "name": "stdout",
     "output_type": "stream",
     "text": [
      "18\n",
      "Epoch 1/10\n",
      "535/535 [==============================] - 210s 380ms/step - loss: 0.4027 - accuracy: 0.9013 - val_loss: 0.0337 - val_accuracy: 0.9921\n",
      "Epoch 2/10\n",
      "535/535 [==============================] - 205s 384ms/step - loss: 0.2402 - accuracy: 0.9345 - val_loss: 0.0291 - val_accuracy: 0.9929\n",
      "Epoch 3/10\n",
      "535/535 [==============================] - 205s 383ms/step - loss: 0.2034 - accuracy: 0.9448 - val_loss: 0.0370 - val_accuracy: 0.9918\n",
      "Epoch 4/10\n",
      "535/535 [==============================] - 206s 385ms/step - loss: 0.1903 - accuracy: 0.9505 - val_loss: 0.0313 - val_accuracy: 0.9944\n",
      "Epoch 5/10\n",
      "535/535 [==============================] - 201s 376ms/step - loss: 0.1646 - accuracy: 0.9552 - val_loss: 0.0254 - val_accuracy: 0.9954\n",
      "Epoch 6/10\n",
      "535/535 [==============================] - 200s 374ms/step - loss: 0.1840 - accuracy: 0.9554 - val_loss: 0.0304 - val_accuracy: 0.9944\n",
      "Epoch 7/10\n",
      "535/535 [==============================] - 200s 374ms/step - loss: 0.1659 - accuracy: 0.9569 - val_loss: 0.0372 - val_accuracy: 0.9929\n",
      "Epoch 8/10\n",
      "535/535 [==============================] - 199s 373ms/step - loss: 0.1875 - accuracy: 0.9553 - val_loss: 0.0443 - val_accuracy: 0.9931\n",
      "Epoch 9/10\n",
      "535/535 [==============================] - 200s 373ms/step - loss: 0.1854 - accuracy: 0.9571 - val_loss: 0.0356 - val_accuracy: 0.9936\n",
      "Epoch 10/10\n",
      "535/535 [==============================] - 199s 372ms/step - loss: 0.1959 - accuracy: 0.9556 - val_loss: 0.0434 - val_accuracy: 0.9929\n",
      "Duration: 0:33:44.490370\n"
     ]
    }
   ],
   "source": [
    "n=18\n",
    "print(n)\n",
    "\n",
    "models_random[n].fit_model(image_sets_random[n],label_sets_random[n],x_val,y_val)\n",
    "n = n+1"
   ]
  },
  {
   "cell_type": "code",
   "execution_count": 20,
   "id": "e6497c26",
   "metadata": {},
   "outputs": [
    {
     "name": "stdout",
     "output_type": "stream",
     "text": [
      "19\n",
      "Epoch 1/10\n",
      "569/569 [==============================] - 214s 373ms/step - loss: 0.3991 - accuracy: 0.8998 - val_loss: 0.0414 - val_accuracy: 0.9900\n",
      "Epoch 2/10\n",
      "569/569 [==============================] - 212s 373ms/step - loss: 0.2477 - accuracy: 0.9340 - val_loss: 0.0668 - val_accuracy: 0.9832\n",
      "Epoch 3/10\n",
      "569/569 [==============================] - 212s 372ms/step - loss: 0.2129 - accuracy: 0.9423 - val_loss: 0.0630 - val_accuracy: 0.9862\n",
      "Epoch 4/10\n",
      "569/569 [==============================] - 211s 372ms/step - loss: 0.1961 - accuracy: 0.9491 - val_loss: 0.1186 - val_accuracy: 0.9668\n",
      "Epoch 5/10\n",
      "569/569 [==============================] - 211s 371ms/step - loss: 0.1865 - accuracy: 0.9523 - val_loss: 0.0929 - val_accuracy: 0.9865\n",
      "Epoch 6/10\n",
      "569/569 [==============================] - 211s 371ms/step - loss: 0.1736 - accuracy: 0.9534 - val_loss: 0.0448 - val_accuracy: 0.9911\n",
      "Epoch 7/10\n",
      "569/569 [==============================] - 211s 372ms/step - loss: 0.1932 - accuracy: 0.9532 - val_loss: 0.0357 - val_accuracy: 0.9952\n",
      "Epoch 8/10\n",
      "569/569 [==============================] - 211s 371ms/step - loss: 0.1829 - accuracy: 0.9577 - val_loss: 0.0318 - val_accuracy: 0.9952\n",
      "Epoch 9/10\n",
      "569/569 [==============================] - 211s 371ms/step - loss: 0.1804 - accuracy: 0.9589 - val_loss: 0.0554 - val_accuracy: 0.9918\n",
      "Epoch 10/10\n",
      "569/569 [==============================] - 211s 372ms/step - loss: 0.1938 - accuracy: 0.9554 - val_loss: 0.0472 - val_accuracy: 0.9918\n",
      "Duration: 0:35:17.284290\n"
     ]
    }
   ],
   "source": [
    "print(n)#19\n",
    "\n",
    "models_random[n].fit_model(image_sets_random[n],label_sets_random[n],x_val,y_val)\n",
    "n = n+1"
   ]
  },
  {
   "cell_type": "code",
   "execution_count": null,
   "id": "1372dcb6",
   "metadata": {},
   "outputs": [],
   "source": []
  },
  {
   "cell_type": "code",
   "execution_count": 24,
   "id": "4d243087",
   "metadata": {},
   "outputs": [
    {
     "name": "stdout",
     "output_type": "stream",
     "text": [
      "D:/models/gtsrb_models/C2/gtsrb_model_c2_sep_random_e2_0\n",
      "Model loaded correctly\n",
      "D:/models/gtsrb_models/C2/gtsrb_model_c2_sep_random_e2_1\n",
      "Model loaded correctly\n",
      "D:/models/gtsrb_models/C2/gtsrb_model_c2_sep_random_e2_2\n",
      "Model loaded correctly\n",
      "D:/models/gtsrb_models/C2/gtsrb_model_c2_sep_random_e2_3\n",
      "Model loaded correctly\n",
      "D:/models/gtsrb_models/C2/gtsrb_model_c2_sep_random_e2_4\n",
      "Model loaded correctly\n",
      "D:/models/gtsrb_models/C2/gtsrb_model_c2_sep_random_e2_5\n",
      "Model loaded correctly\n",
      "D:/models/gtsrb_models/C2/gtsrb_model_c2_sep_random_e2_6\n",
      "Model loaded correctly\n",
      "D:/models/gtsrb_models/C2/gtsrb_model_c2_sep_random_e2_7\n",
      "Model loaded correctly\n",
      "D:/models/gtsrb_models/C2/gtsrb_model_c2_sep_random_e2_8\n",
      "Model loaded correctly\n",
      "D:/models/gtsrb_models/C2/gtsrb_model_c2_sep_random_e2_9\n",
      "Model loaded correctly\n",
      "D:/models/gtsrb_models/C2/gtsrb_model_c2_sep_random_e2_10\n",
      "Model loaded correctly\n",
      "D:/models/gtsrb_models/C2/gtsrb_model_c2_sep_random_e2_11\n",
      "Model loaded correctly\n",
      "D:/models/gtsrb_models/C2/gtsrb_model_c2_sep_random_e2_12\n",
      "Model loaded correctly\n",
      "D:/models/gtsrb_models/C2/gtsrb_model_c2_sep_random_e2_13\n",
      "Model loaded correctly\n",
      "D:/models/gtsrb_models/C2/gtsrb_model_c2_sep_random_e2_14\n",
      "Model loaded correctly\n",
      "D:/models/gtsrb_models/C2/gtsrb_model_c2_sep_random_e2_15\n",
      "Model loaded correctly\n",
      "D:/models/gtsrb_models/C2/gtsrb_model_c2_sep_random_e2_16\n",
      "Model loaded correctly\n",
      "D:/models/gtsrb_models/C2/gtsrb_model_c2_sep_random_e2_17\n",
      "Model loaded correctly\n",
      "D:/models/gtsrb_models/C2/gtsrb_model_c2_sep_random_e2_18\n",
      "Model loaded correctly\n",
      "D:/models/gtsrb_models/C2/gtsrb_model_c2_sep_random_e2_19\n",
      "Model loaded correctly\n"
     ]
    }
   ],
   "source": [
    "loading = True\n",
    "\n",
    "models_random = []\n",
    "\n",
    "if loading:\n",
    "    for i in range(20):\n",
    "        model_random_dir = \"D:/models/gtsrb_models/C2/gtsrb_model_c2_sep_random_e2_\"+str(i)\n",
    "        print(model_random_dir)\n",
    "        model =utils.My_model('gtsrb',True,model_random_dir)\n",
    "        model.model.compile(loss= 'categorical_crossentropy', optimizer = 'rmsprop', metrics = ['accuracy',tf.keras.metrics.Precision(), tf.keras.metrics.Recall()])\n",
    "        models_random.append(model)\n",
    "       "
   ]
  },
  {
   "cell_type": "markdown",
   "id": "884629f5",
   "metadata": {},
   "source": [
    "## NC"
   ]
  },
  {
   "cell_type": "markdown",
   "id": "58a54b05",
   "metadata": {},
   "source": [
    "## point nc"
   ]
  },
  {
   "cell_type": "code",
   "execution_count": 21,
   "id": "e53f2bcb",
   "metadata": {},
   "outputs": [],
   "source": [
    "# NC\n",
    "nc_values = []\n",
    "for i in range(1,38):\n",
    "    save_dir_rand = \"C:/Users/fjdur/Desktop/upc/project_notebooks/github_project/DL_notebooks/NC_values/nc_values_\"+str(i)+\".npy\"\n",
    "    #print(save_dir_rand)\n",
    "    tmp_values = np.load(save_dir_rand)\n",
    "    #print(tmp_values.shape)\n",
    "    nc_values = np.append(nc_values,tmp_values)"
   ]
  },
  {
   "cell_type": "code",
   "execution_count": 22,
   "id": "637de522",
   "metadata": {},
   "outputs": [
    {
     "data": {
      "text/plain": [
       "(36366,)"
      ]
     },
     "execution_count": 22,
     "metadata": {},
     "output_type": "execute_result"
    }
   ],
   "source": [
    "nc_values.shape"
   ]
  },
  {
   "cell_type": "code",
   "execution_count": 23,
   "id": "024f3314",
   "metadata": {},
   "outputs": [],
   "source": [
    "\n",
    "top_images_by_nc = utils.get_x_of_indexes(list(np.flip(np.argsort(nc_values))),x_train_and_adversary)\n",
    "top_labels_by_nc = utils.get_x_of_indexes(list(np.flip(np.argsort(nc_values))),y_train_and_adversary)\n"
   ]
  },
  {
   "cell_type": "code",
   "execution_count": 24,
   "id": "90d5f124",
   "metadata": {},
   "outputs": [
    {
     "name": "stdout",
     "output_type": "stream",
     "text": [
      "Model loaded correctly\n",
      "Model compiled\n",
      "Epoch 1/10\n",
      "79/79 [==============================] - 45s 545ms/step - loss: 0.2034 - accuracy: 0.9689 - val_loss: 0.0955 - val_accuracy: 0.9727\n",
      "Epoch 2/10\n",
      "79/79 [==============================] - 41s 525ms/step - loss: 0.0893 - accuracy: 0.9759 - val_loss: 0.1965 - val_accuracy: 0.9510\n",
      "Epoch 3/10\n",
      "79/79 [==============================] - 43s 541ms/step - loss: 0.0963 - accuracy: 0.9761 - val_loss: 0.6323 - val_accuracy: 0.8979\n",
      "Epoch 4/10\n",
      "79/79 [==============================] - 43s 541ms/step - loss: 0.0941 - accuracy: 0.9770 - val_loss: 1.5925 - val_accuracy: 0.8405\n",
      "Epoch 5/10\n",
      "79/79 [==============================] - 43s 541ms/step - loss: 0.0820 - accuracy: 0.9774 - val_loss: 2.6360 - val_accuracy: 0.7453\n",
      "Epoch 6/10\n",
      "79/79 [==============================] - 42s 536ms/step - loss: 0.0701 - accuracy: 0.9785 - val_loss: 3.9566 - val_accuracy: 0.7124\n",
      "Epoch 7/10\n",
      "79/79 [==============================] - 42s 536ms/step - loss: 0.0983 - accuracy: 0.9800 - val_loss: 2.5150 - val_accuracy: 0.6660\n",
      "Epoch 8/10\n",
      "79/79 [==============================] - 42s 533ms/step - loss: 0.0544 - accuracy: 0.9847 - val_loss: 4.5528 - val_accuracy: 0.6787\n",
      "Epoch 9/10\n",
      "79/79 [==============================] - 42s 530ms/step - loss: 0.0725 - accuracy: 0.9830 - val_loss: 5.1757 - val_accuracy: 0.6382\n",
      "Epoch 10/10\n",
      "79/79 [==============================] - 41s 526ms/step - loss: 0.0733 - accuracy: 0.9829 - val_loss: 4.2876 - val_accuracy: 0.6234\n",
      "Duration: 0:07:05.121133\n"
     ]
    },
    {
     "data": {
      "text/plain": [
       "<keras.callbacks.History at 0x1a3b102a8b0>"
      ]
     },
     "execution_count": 24,
     "metadata": {},
     "output_type": "execute_result"
    }
   ],
   "source": [
    "top_images_by_nc_5000 = np.array(top_images_by_nc[:5000])\n",
    "top_labels_by_nc_5000 = np.array(top_labels_by_nc[:5000])\n",
    "\n",
    "model_nc_5000 =  utils.My_model(dataset,True,model_dir)\n",
    "model_nc_5000.compile_model()\n",
    "\n",
    "model_nc_5000.fit_model(top_images_by_nc_5000,top_labels_by_nc_5000,x_val,y_val)"
   ]
  },
  {
   "cell_type": "code",
   "execution_count": 25,
   "id": "7490c255",
   "metadata": {},
   "outputs": [
    {
     "name": "stdout",
     "output_type": "stream",
     "text": [
      "0 :\n",
      "0  ->  1800\n",
      "1800\n",
      "1 :\n",
      "0  ->  3600\n",
      "3600\n",
      "2 :\n",
      "0  ->  5400\n",
      "5400\n",
      "3 :\n",
      "0  ->  7200\n",
      "7200\n",
      "4 :\n",
      "0  ->  9000\n",
      "9000\n",
      "5 :\n",
      "0  ->  10800\n",
      "10800\n",
      "6 :\n",
      "0  ->  12600\n",
      "12600\n",
      "7 :\n",
      "0  ->  14400\n",
      "14400\n",
      "8 :\n",
      "0  ->  16200\n",
      "16200\n",
      "9 :\n",
      "0  ->  18000\n",
      "18000\n",
      "10 :\n",
      "0  ->  19800\n",
      "19800\n",
      "11 :\n",
      "0  ->  21600\n",
      "21600\n",
      "12 :\n",
      "0  ->  23400\n",
      "23400\n",
      "13 :\n",
      "0  ->  25200\n",
      "25200\n",
      "14 :\n",
      "0  ->  27000\n",
      "27000\n",
      "15 :\n",
      "0  ->  28800\n",
      "28800\n",
      "16 :\n",
      "0  ->  30600\n",
      "30600\n",
      "17 :\n",
      "0  ->  32400\n",
      "32400\n",
      "18 :\n",
      "0  ->  34200\n",
      "34200\n",
      "19 :\n",
      "Last\n",
      "0  ->  36366\n",
      "36366\n"
     ]
    }
   ],
   "source": [
    "m = 1800\n",
    "n = 0\n",
    "image_sets_nc = []\n",
    "label_sets_nc = []\n",
    "\n",
    "\n",
    "for i in range(len(top_images_by_nc)//m):\n",
    "    print(i,\":\")\n",
    "    if (i+1 >= len(top_images_by_nc)//m):\n",
    "        print(\"Last\")\n",
    "        print(0,\" -> \",n+m+(len(top_images_by_nc)%m))\n",
    "        top_images_by_nc_n = np.array(top_images_by_nc[:n+m+(len(top_images_by_nc)%m)])\n",
    "        top_labels_by_nc_n = np.array(top_labels_by_nc[:n+m+(len(top_images_by_nc)%m)])\n",
    "    else:\n",
    "        print(0,\" -> \",m+n)\n",
    "        top_images_by_nc_n = np.array(top_images_by_nc[:n+m])\n",
    "        top_labels_by_nc_n = np.array(top_labels_by_nc[:n+m])\n",
    "    image_sets_nc.append(top_images_by_nc_n)\n",
    "    label_sets_nc.append(top_labels_by_nc_n)\n",
    "    print(len(top_images_by_nc_n))\n",
    "    n += m\n",
    "\n"
   ]
  },
  {
   "cell_type": "code",
   "execution_count": 30,
   "id": "0a65e301",
   "metadata": {},
   "outputs": [
    {
     "name": "stdout",
     "output_type": "stream",
     "text": [
      "C:/Users/fjdur/Desktop/upc/project_notebooks/github_project/DL_notebooks/models/tf_model_25-06\n",
      "0 :\n",
      "Model loaded correctly\n",
      "Model compiled\n",
      "1 :\n",
      "Model loaded correctly\n",
      "Model compiled\n",
      "2 :\n",
      "Model loaded correctly\n",
      "Model compiled\n",
      "3 :\n",
      "Model loaded correctly\n",
      "Model compiled\n",
      "4 :\n",
      "Model loaded correctly\n",
      "Model compiled\n",
      "5 :\n",
      "Model loaded correctly\n",
      "Model compiled\n",
      "6 :\n",
      "Model loaded correctly\n",
      "Model compiled\n",
      "7 :\n",
      "Model loaded correctly\n",
      "Model compiled\n",
      "8 :\n",
      "Model loaded correctly\n",
      "Model compiled\n",
      "9 :\n",
      "Model loaded correctly\n",
      "Model compiled\n",
      "10 :\n",
      "Model loaded correctly\n",
      "Model compiled\n",
      "11 :\n",
      "Model loaded correctly\n",
      "Model compiled\n",
      "12 :\n",
      "Model loaded correctly\n",
      "Model compiled\n",
      "13 :\n",
      "Model loaded correctly\n",
      "Model compiled\n",
      "14 :\n",
      "Model loaded correctly\n",
      "Model compiled\n",
      "15 :\n",
      "Model loaded correctly\n",
      "Model compiled\n",
      "16 :\n",
      "Model loaded correctly\n",
      "Model compiled\n",
      "17 :\n",
      "Model loaded correctly\n",
      "Model compiled\n",
      "18 :\n",
      "Model loaded correctly\n",
      "Model compiled\n",
      "19 :\n",
      "Model loaded correctly\n",
      "Model compiled\n"
     ]
    }
   ],
   "source": [
    "print(model_dir)\n",
    "\n",
    "models_nc = []\n",
    "for i in range(len(label_sets_nc)):\n",
    "    print(i,\":\")\n",
    "    model = utils.My_model('gtsrb',True,model_dir)\n",
    "    model.compile_model()\n",
    "    models_nc.append(model)\n"
   ]
  },
  {
   "cell_type": "code",
   "execution_count": 89,
   "id": "df0b6c8f",
   "metadata": {},
   "outputs": [
    {
     "name": "stdout",
     "output_type": "stream",
     "text": [
      "0\n",
      "Epoch 1/10\n",
      "29/29 [==============================] - 210s 7s/step - loss: 0.2596 - accuracy: 0.9640 - val_loss: 0.2941 - val_accuracy: 0.9316\n",
      "Epoch 2/10\n",
      "29/29 [==============================] - 203s 7s/step - loss: 0.0899 - accuracy: 0.9779 - val_loss: 0.2481 - val_accuracy: 0.9331\n",
      "Epoch 3/10\n",
      "29/29 [==============================] - 206s 7s/step - loss: 0.0670 - accuracy: 0.9819 - val_loss: 0.3662 - val_accuracy: 0.9303\n",
      "Epoch 4/10\n",
      "29/29 [==============================] - 206s 7s/step - loss: 0.0695 - accuracy: 0.9813 - val_loss: 0.2282 - val_accuracy: 0.9508\n",
      "Epoch 5/10\n",
      "29/29 [==============================] - 195s 7s/step - loss: 0.0453 - accuracy: 0.9874 - val_loss: 0.2601 - val_accuracy: 0.9370\n",
      "Epoch 6/10\n",
      "29/29 [==============================] - 195s 7s/step - loss: 0.0372 - accuracy: 0.9908 - val_loss: 0.5552 - val_accuracy: 0.9132\n",
      "Epoch 7/10\n",
      "29/29 [==============================] - 193s 7s/step - loss: 0.0547 - accuracy: 0.9844 - val_loss: 0.2691 - val_accuracy: 0.9263\n",
      "Epoch 8/10\n",
      "29/29 [==============================] - 194s 7s/step - loss: 0.0628 - accuracy: 0.9864 - val_loss: 1.1049 - val_accuracy: 0.8219\n",
      "Epoch 9/10\n",
      "29/29 [==============================] - 195s 7s/step - loss: 0.0345 - accuracy: 0.9903 - val_loss: 0.4760 - val_accuracy: 0.9084\n",
      "Epoch 10/10\n",
      "29/29 [==============================] - 190s 7s/step - loss: 0.0458 - accuracy: 0.9907 - val_loss: 0.8057 - val_accuracy: 0.8926\n",
      "Duration: 0:33:06.838114\n"
     ]
    }
   ],
   "source": [
    "n=0\n",
    "print(n)\n",
    "\n",
    "models_nc[n].fit_model(image_sets_nc[n],label_sets_nc[n],x_val,y_val)\n",
    "n = n+1"
   ]
  },
  {
   "cell_type": "code",
   "execution_count": 90,
   "id": "0f4f3f4b",
   "metadata": {},
   "outputs": [
    {
     "name": "stdout",
     "output_type": "stream",
     "text": [
      "1\n",
      "Epoch 1/10\n",
      "57/57 [==============================] - 310s 5s/step - loss: 0.1611 - accuracy: 0.9767 - val_loss: 0.9040 - val_accuracy: 0.8867\n",
      "Epoch 2/10\n",
      "57/57 [==============================] - 302s 5s/step - loss: 0.0885 - accuracy: 0.9855 - val_loss: 0.2844 - val_accuracy: 0.9291\n",
      "Epoch 3/10\n",
      "57/57 [==============================] - 301s 5s/step - loss: 0.0604 - accuracy: 0.9829 - val_loss: 1.7813 - val_accuracy: 0.7535\n",
      "Epoch 4/10\n",
      "57/57 [==============================] - 300s 5s/step - loss: 0.0572 - accuracy: 0.9857 - val_loss: 1.5449 - val_accuracy: 0.8214\n",
      "Epoch 5/10\n",
      "57/57 [==============================] - 300s 5s/step - loss: 0.0427 - accuracy: 0.9875 - val_loss: 2.7135 - val_accuracy: 0.7798\n",
      "Epoch 6/10\n",
      "57/57 [==============================] - 297s 5s/step - loss: 0.0663 - accuracy: 0.9866 - val_loss: 2.4401 - val_accuracy: 0.6241\n",
      "Epoch 7/10\n",
      "57/57 [==============================] - 306s 5s/step - loss: 0.0398 - accuracy: 0.9897 - val_loss: 3.9127 - val_accuracy: 0.6451\n",
      "Epoch 8/10\n",
      "57/57 [==============================] - 310s 5s/step - loss: 0.0464 - accuracy: 0.9889 - val_loss: 10.3604 - val_accuracy: 0.4746\n",
      "Epoch 9/10\n",
      "57/57 [==============================] - 86s 1s/step - loss: 0.0316 - accuracy: 0.9902 - val_loss: 6.9037 - val_accuracy: 0.5690\n",
      "Epoch 10/10\n",
      "57/57 [==============================] - 71s 1s/step - loss: 0.0476 - accuracy: 0.9895 - val_loss: 4.9019 - val_accuracy: 0.6037\n",
      "Duration: 0:43:03.533269\n"
     ]
    }
   ],
   "source": [
    "\n",
    "print(n)\n",
    "\n",
    "models_nc[n].fit_model(image_sets_nc[n],label_sets_nc[n],x_val,y_val)\n",
    "n = n+1"
   ]
  },
  {
   "cell_type": "code",
   "execution_count": 91,
   "id": "c055f71b",
   "metadata": {},
   "outputs": [
    {
     "name": "stdout",
     "output_type": "stream",
     "text": [
      "2\n",
      "Epoch 1/10\n",
      "85/85 [==============================] - 100s 1s/step - loss: 0.3129 - accuracy: 0.9468 - val_loss: 0.0846 - val_accuracy: 0.9821\n",
      "Epoch 2/10\n",
      "85/85 [==============================] - 98s 1s/step - loss: 0.1187 - accuracy: 0.9687 - val_loss: 0.1837 - val_accuracy: 0.9541\n",
      "Epoch 3/10\n",
      "85/85 [==============================] - 97s 1s/step - loss: 0.1088 - accuracy: 0.9722 - val_loss: 0.4914 - val_accuracy: 0.9150\n",
      "Epoch 4/10\n",
      "85/85 [==============================] - 98s 1s/step - loss: 0.1016 - accuracy: 0.9693 - val_loss: 1.4707 - val_accuracy: 0.8298\n",
      "Epoch 5/10\n",
      "85/85 [==============================] - 98s 1s/step - loss: 0.1056 - accuracy: 0.9721 - val_loss: 1.8550 - val_accuracy: 0.7607\n",
      "Epoch 6/10\n",
      "85/85 [==============================] - 98s 1s/step - loss: 0.0838 - accuracy: 0.9778 - val_loss: 2.9112 - val_accuracy: 0.7050\n",
      "Epoch 7/10\n",
      "85/85 [==============================] - 98s 1s/step - loss: 0.0912 - accuracy: 0.9732 - val_loss: 3.4106 - val_accuracy: 0.6507\n",
      "Epoch 8/10\n",
      "85/85 [==============================] - 97s 1s/step - loss: 0.0850 - accuracy: 0.9782 - val_loss: 5.1113 - val_accuracy: 0.6512\n",
      "Epoch 9/10\n",
      "85/85 [==============================] - 97s 1s/step - loss: 0.0923 - accuracy: 0.9772 - val_loss: 9.0469 - val_accuracy: 0.6081\n",
      "Epoch 10/10\n",
      "85/85 [==============================] - 97s 1s/step - loss: 0.0797 - accuracy: 0.9815 - val_loss: 9.5214 - val_accuracy: 0.5935\n",
      "Duration: 0:16:16.117451\n"
     ]
    }
   ],
   "source": [
    "\n",
    "print(n)\n",
    "\n",
    "models_nc[n].fit_model(image_sets_nc[n],label_sets_nc[n],x_val,y_val)\n",
    "n = n+1"
   ]
  },
  {
   "cell_type": "code",
   "execution_count": 92,
   "id": "5186f306",
   "metadata": {},
   "outputs": [
    {
     "name": "stdout",
     "output_type": "stream",
     "text": [
      "3\n",
      "Epoch 1/10\n",
      "113/113 [==============================] - 424s 4s/step - loss: 0.2795 - accuracy: 0.9449 - val_loss: 0.0859 - val_accuracy: 0.9798\n",
      "Epoch 2/10\n",
      "113/113 [==============================] - 535s 5s/step - loss: 0.1381 - accuracy: 0.9639 - val_loss: 0.2246 - val_accuracy: 0.9541\n",
      "Epoch 3/10\n",
      "113/113 [==============================] - 521s 5s/step - loss: 0.1186 - accuracy: 0.9668 - val_loss: 0.6007 - val_accuracy: 0.8905\n",
      "Epoch 4/10\n",
      "113/113 [==============================] - 960s 9s/step - loss: 0.1127 - accuracy: 0.9708 - val_loss: 1.2529 - val_accuracy: 0.7880\n",
      "Epoch 5/10\n",
      "113/113 [==============================] - 137s 1s/step - loss: 0.1215 - accuracy: 0.9715 - val_loss: 2.1843 - val_accuracy: 0.6961\n",
      "Epoch 6/10\n",
      "113/113 [==============================] - 129s 1s/step - loss: 0.1157 - accuracy: 0.9704 - val_loss: 3.6200 - val_accuracy: 0.6657\n",
      "Epoch 7/10\n",
      "113/113 [==============================] - 138s 1s/step - loss: 0.0980 - accuracy: 0.9742 - val_loss: 4.0907 - val_accuracy: 0.6366\n",
      "Epoch 8/10\n",
      "113/113 [==============================] - 125s 1s/step - loss: 0.1017 - accuracy: 0.9745 - val_loss: 7.2734 - val_accuracy: 0.6129\n",
      "Epoch 9/10\n",
      "113/113 [==============================] - 126s 1s/step - loss: 0.1428 - accuracy: 0.9719 - val_loss: 5.8358 - val_accuracy: 0.6167\n",
      "Epoch 10/10\n",
      "113/113 [==============================] - 130s 1s/step - loss: 0.1036 - accuracy: 0.9779 - val_loss: 7.7510 - val_accuracy: 0.6121\n",
      "Duration: 0:53:44.849379\n"
     ]
    }
   ],
   "source": [
    "\n",
    "print(n)\n",
    "\n",
    "models_nc[n].fit_model(image_sets_nc[n],label_sets_nc[n],x_val,y_val)\n",
    "n = n+1"
   ]
  },
  {
   "cell_type": "code",
   "execution_count": 93,
   "id": "173fe6bf",
   "metadata": {},
   "outputs": [
    {
     "name": "stdout",
     "output_type": "stream",
     "text": [
      "4\n",
      "Epoch 1/10\n",
      "141/141 [==============================] - 158s 1s/step - loss: 0.3510 - accuracy: 0.9395 - val_loss: 0.0705 - val_accuracy: 0.9826\n",
      "Epoch 2/10\n",
      "141/141 [==============================] - 157s 1s/step - loss: 0.1375 - accuracy: 0.9668 - val_loss: 0.2235 - val_accuracy: 0.9456\n",
      "Epoch 3/10\n",
      "141/141 [==============================] - 163s 1s/step - loss: 0.1354 - accuracy: 0.9653 - val_loss: 0.8593 - val_accuracy: 0.7974\n",
      "Epoch 4/10\n",
      "141/141 [==============================] - 155s 1s/step - loss: 0.1482 - accuracy: 0.9655 - val_loss: 2.7354 - val_accuracy: 0.7055\n",
      "Epoch 5/10\n",
      "141/141 [==============================] - 156s 1s/step - loss: 0.1146 - accuracy: 0.9743 - val_loss: 2.4075 - val_accuracy: 0.6762\n",
      "Epoch 6/10\n",
      "141/141 [==============================] - 155s 1s/step - loss: 0.1004 - accuracy: 0.9732 - val_loss: 5.9412 - val_accuracy: 0.6433\n",
      "Epoch 7/10\n",
      "141/141 [==============================] - 156s 1s/step - loss: 0.1058 - accuracy: 0.9748 - val_loss: 3.3031 - val_accuracy: 0.6162\n",
      "Epoch 8/10\n",
      "141/141 [==============================] - 155s 1s/step - loss: 0.1123 - accuracy: 0.9707 - val_loss: 7.3822 - val_accuracy: 0.6172\n",
      "Epoch 9/10\n",
      "141/141 [==============================] - 155s 1s/step - loss: 0.1130 - accuracy: 0.9738 - val_loss: 3.3379 - val_accuracy: 0.5907\n",
      "Epoch 10/10\n",
      "141/141 [==============================] - 153s 1s/step - loss: 0.1154 - accuracy: 0.9706 - val_loss: 10.6245 - val_accuracy: 0.6188\n",
      "Duration: 0:26:02.056711\n"
     ]
    }
   ],
   "source": [
    "#4\n",
    "print(n)\n",
    "\n",
    "models_nc[n].fit_model(image_sets_nc[n],label_sets_nc[n],x_val,y_val)\n",
    "n = n+1"
   ]
  },
  {
   "cell_type": "code",
   "execution_count": 95,
   "id": "28e685f0",
   "metadata": {},
   "outputs": [
    {
     "name": "stdout",
     "output_type": "stream",
     "text": [
      "Model loaded correctly\n",
      "Model compiled\n"
     ]
    }
   ],
   "source": [
    "models_nc[5] = utils.My_model('gtsrb',True,model_dir)\n",
    "models_nc[5].compile_model()"
   ]
  },
  {
   "cell_type": "code",
   "execution_count": 96,
   "id": "01a70471",
   "metadata": {},
   "outputs": [
    {
     "name": "stdout",
     "output_type": "stream",
     "text": [
      "5\n",
      "Epoch 1/10\n",
      "169/169 [==============================] - 200s 1s/step - loss: 0.3087 - accuracy: 0.9466 - val_loss: 0.1154 - val_accuracy: 0.9694\n",
      "Epoch 2/10\n",
      "169/169 [==============================] - 186s 1s/step - loss: 0.1478 - accuracy: 0.9625 - val_loss: 0.3730 - val_accuracy: 0.9354\n",
      "Epoch 3/10\n",
      "169/169 [==============================] - 186s 1s/step - loss: 0.1085 - accuracy: 0.9713 - val_loss: 1.1385 - val_accuracy: 0.7607\n",
      "Epoch 4/10\n",
      "169/169 [==============================] - 184s 1s/step - loss: 0.1273 - accuracy: 0.9666 - val_loss: 3.0987 - val_accuracy: 0.7216\n",
      "Epoch 5/10\n",
      "169/169 [==============================] - 185s 1s/step - loss: 0.1138 - accuracy: 0.9716 - val_loss: 3.5963 - val_accuracy: 0.7004\n",
      "Epoch 6/10\n",
      "169/169 [==============================] - 183s 1s/step - loss: 0.1085 - accuracy: 0.9756 - val_loss: 7.6805 - val_accuracy: 0.6816\n",
      "Epoch 7/10\n",
      "169/169 [==============================] - 188s 1s/step - loss: 0.1108 - accuracy: 0.9755 - val_loss: 5.2007 - val_accuracy: 0.6708\n",
      "Epoch 8/10\n",
      "169/169 [==============================] - 189s 1s/step - loss: 0.0937 - accuracy: 0.9757 - val_loss: 9.9771 - val_accuracy: 0.6558\n",
      "Epoch 9/10\n",
      "169/169 [==============================] - 188s 1s/step - loss: 0.1076 - accuracy: 0.9755 - val_loss: 4.1691 - val_accuracy: 0.6479\n",
      "Epoch 10/10\n",
      "169/169 [==============================] - 186s 1s/step - loss: 0.1085 - accuracy: 0.9756 - val_loss: 9.3076 - val_accuracy: 0.6509\n",
      "Duration: 0:31:14.822695\n"
     ]
    }
   ],
   "source": [
    "print(n)\n",
    "\n",
    "models_nc[n].fit_model(image_sets_nc[n],label_sets_nc[n],x_val,y_val)\n",
    "n = n+1"
   ]
  },
  {
   "cell_type": "code",
   "execution_count": 99,
   "id": "0a840f3c",
   "metadata": {},
   "outputs": [
    {
     "name": "stdout",
     "output_type": "stream",
     "text": [
      "Model loaded correctly\n",
      "Model compiled\n",
      "Model loaded correctly\n",
      "Model compiled\n"
     ]
    }
   ],
   "source": [
    "models_nc[6] = utils.My_model('gtsrb',True,model_dir)\n",
    "models_nc[6].compile_model()\n",
    "models_nc[7] = utils.My_model('gtsrb',True,model_dir)\n",
    "models_nc[7].compile_model()"
   ]
  },
  {
   "cell_type": "code",
   "execution_count": 100,
   "id": "4d0fce3f",
   "metadata": {},
   "outputs": [
    {
     "name": "stdout",
     "output_type": "stream",
     "text": [
      "6\n",
      "Epoch 1/10\n",
      "197/197 [==============================] - 224s 1s/step - loss: 0.2249 - accuracy: 0.9545 - val_loss: 0.1663 - val_accuracy: 0.9536\n",
      "Epoch 2/10\n",
      "197/197 [==============================] - 214s 1s/step - loss: 0.1409 - accuracy: 0.9637 - val_loss: 0.7029 - val_accuracy: 0.8775\n",
      "Epoch 3/10\n",
      "197/197 [==============================] - 224s 1s/step - loss: 0.1254 - accuracy: 0.9672 - val_loss: 2.6510 - val_accuracy: 0.7334\n",
      "Epoch 4/10\n",
      "197/197 [==============================] - 222s 1s/step - loss: 0.1205 - accuracy: 0.9682 - val_loss: 3.6424 - val_accuracy: 0.7124\n",
      "Epoch 5/10\n",
      "197/197 [==============================] - 213s 1s/step - loss: 0.1163 - accuracy: 0.9708 - val_loss: 3.5150 - val_accuracy: 0.6800\n",
      "Epoch 6/10\n",
      "197/197 [==============================] - 222s 1s/step - loss: 0.1126 - accuracy: 0.9720 - val_loss: 9.4534 - val_accuracy: 0.6994\n",
      "Epoch 7/10\n",
      "197/197 [==============================] - 214s 1s/step - loss: 0.1101 - accuracy: 0.9744 - val_loss: 16.9366 - val_accuracy: 0.6780\n",
      "Epoch 8/10\n",
      "197/197 [==============================] - 222s 1s/step - loss: 0.1178 - accuracy: 0.9725 - val_loss: 9.3570 - val_accuracy: 0.6826\n",
      "Epoch 9/10\n",
      "197/197 [==============================] - 224s 1s/step - loss: 0.1214 - accuracy: 0.9721 - val_loss: 14.8254 - val_accuracy: 0.6734\n",
      "Epoch 10/10\n",
      "197/197 [==============================] - 218s 1s/step - loss: 0.1019 - accuracy: 0.9757 - val_loss: 6.2367 - val_accuracy: 0.6678\n",
      "Duration: 0:36:37.697572\n"
     ]
    }
   ],
   "source": [
    "n=6\n",
    "print(n)\n",
    "\n",
    "models_nc[n].fit_model(image_sets_nc[n],label_sets_nc[n],x_val,y_val)\n",
    "n = n+1"
   ]
  },
  {
   "cell_type": "code",
   "execution_count": 138,
   "id": "a498b007",
   "metadata": {},
   "outputs": [
    {
     "name": "stdout",
     "output_type": "stream",
     "text": [
      "7\n",
      "Epoch 1/10\n",
      "225/225 [==============================] - 234s 1s/step - loss: 0.1919 - accuracy: 0.9564 - val_loss: 0.1845 - val_accuracy: 0.9559\n",
      "Epoch 2/10\n",
      "225/225 [==============================] - 224s 994ms/step - loss: 0.1412 - accuracy: 0.9641 - val_loss: 0.9413 - val_accuracy: 0.8714\n",
      "Epoch 3/10\n",
      "225/225 [==============================] - 221s 982ms/step - loss: 0.1360 - accuracy: 0.9668 - val_loss: 1.7935 - val_accuracy: 0.7586\n",
      "Epoch 4/10\n",
      "225/225 [==============================] - 223s 993ms/step - loss: 0.1273 - accuracy: 0.9665 - val_loss: 2.6545 - val_accuracy: 0.7492\n",
      "Epoch 5/10\n",
      "225/225 [==============================] - 226s 1s/step - loss: 0.1243 - accuracy: 0.9694 - val_loss: 5.6725 - val_accuracy: 0.7420\n",
      "Epoch 6/10\n",
      "225/225 [==============================] - 221s 984ms/step - loss: 0.1367 - accuracy: 0.9675 - val_loss: 2.4833 - val_accuracy: 0.6999\n",
      "Epoch 7/10\n",
      "225/225 [==============================] - 221s 984ms/step - loss: 0.1324 - accuracy: 0.9706 - val_loss: 7.5099 - val_accuracy: 0.7372\n",
      "Epoch 8/10\n",
      "225/225 [==============================] - 222s 985ms/step - loss: 0.1001 - accuracy: 0.9761 - val_loss: 7.2989 - val_accuracy: 0.7288\n",
      "Epoch 9/10\n",
      "225/225 [==============================] - 221s 982ms/step - loss: 0.1307 - accuracy: 0.9710 - val_loss: 9.3220 - val_accuracy: 0.7208\n",
      "Epoch 10/10\n",
      "225/225 [==============================] - 221s 981ms/step - loss: 0.1198 - accuracy: 0.9723 - val_loss: 10.1657 - val_accuracy: 0.7165\n",
      "Duration: 0:37:12.948375\n"
     ]
    }
   ],
   "source": [
    "n=7\n",
    "print(n)\n",
    "\n",
    "models_nc[n].fit_model(image_sets_nc[n],label_sets_nc[n],x_val,y_val)\n",
    "n = n+1"
   ]
  },
  {
   "cell_type": "code",
   "execution_count": 19,
   "id": "aa682122",
   "metadata": {},
   "outputs": [
    {
     "name": "stdout",
     "output_type": "stream",
     "text": [
      "8\n",
      "Epoch 1/10\n",
      "254/254 [==============================] - 106s 393ms/step - loss: 0.2095 - accuracy: 0.9541 - val_loss: 0.1022 - val_accuracy: 0.9768\n",
      "Epoch 2/10\n",
      "254/254 [==============================] - 99s 388ms/step - loss: 0.1366 - accuracy: 0.9648 - val_loss: 0.5681 - val_accuracy: 0.9015\n",
      "Epoch 3/10\n",
      "254/254 [==============================] - 338s 1s/step - loss: 0.1282 - accuracy: 0.9667 - val_loss: 4.0147 - val_accuracy: 0.7777\n",
      "Epoch 4/10\n",
      "254/254 [==============================] - 102s 401ms/step - loss: 0.1431 - accuracy: 0.9642 - val_loss: 2.6532 - val_accuracy: 0.7818\n",
      "Epoch 5/10\n",
      "254/254 [==============================] - 89s 349ms/step - loss: 0.1400 - accuracy: 0.9686 - val_loss: 3.8279 - val_accuracy: 0.7698\n",
      "Epoch 6/10\n",
      "254/254 [==============================] - 90s 356ms/step - loss: 0.1204 - accuracy: 0.9723 - val_loss: 4.3532 - val_accuracy: 0.7647\n",
      "Epoch 7/10\n",
      "254/254 [==============================] - 88s 346ms/step - loss: 0.1347 - accuracy: 0.9702 - val_loss: 4.8740 - val_accuracy: 0.7675\n",
      "Epoch 8/10\n",
      "254/254 [==============================] - 88s 345ms/step - loss: 0.1231 - accuracy: 0.9695 - val_loss: 5.2672 - val_accuracy: 0.7711\n",
      "Epoch 9/10\n",
      "254/254 [==============================] - 103s 405ms/step - loss: 0.1116 - accuracy: 0.9724 - val_loss: 4.3155 - val_accuracy: 0.7451\n",
      "Epoch 10/10\n",
      "254/254 [==============================] - 104s 411ms/step - loss: 0.1295 - accuracy: 0.9712 - val_loss: 7.7553 - val_accuracy: 0.7525\n",
      "Duration: 0:20:06.533606\n"
     ]
    }
   ],
   "source": [
    "n=8\n",
    "print(n)\n",
    "\n",
    "models_nc[n].fit_model(image_sets_nc[n],label_sets_nc[n],x_val,y_val)\n",
    "n = n+1"
   ]
  },
  {
   "cell_type": "code",
   "execution_count": 21,
   "id": "d1674b70",
   "metadata": {},
   "outputs": [
    {
     "name": "stdout",
     "output_type": "stream",
     "text": [
      "Model loaded correctly\n",
      "Model compiled\n"
     ]
    }
   ],
   "source": [
    "models_nc[9] = utils.My_model('gtsrb',True,model_dir)\n",
    "models_nc[9].compile_model()"
   ]
  },
  {
   "cell_type": "code",
   "execution_count": 22,
   "id": "7ec61144",
   "metadata": {},
   "outputs": [
    {
     "name": "stdout",
     "output_type": "stream",
     "text": [
      "9\n",
      "Epoch 1/10\n",
      "282/282 [==============================] - 104s 363ms/step - loss: 0.2333 - accuracy: 0.9474 - val_loss: 0.2371 - val_accuracy: 0.9645\n",
      "Epoch 2/10\n",
      "282/282 [==============================] - 117s 415ms/step - loss: 0.1608 - accuracy: 0.9573 - val_loss: 0.7693 - val_accuracy: 0.8734\n",
      "Epoch 3/10\n",
      "282/282 [==============================] - 118s 418ms/step - loss: 0.1535 - accuracy: 0.9635 - val_loss: 1.7513 - val_accuracy: 0.8176\n",
      "Epoch 4/10\n",
      "282/282 [==============================] - 116s 410ms/step - loss: 0.1374 - accuracy: 0.9671 - val_loss: 2.9110 - val_accuracy: 0.8158\n",
      "Epoch 5/10\n",
      "282/282 [==============================] - 116s 410ms/step - loss: 0.1316 - accuracy: 0.9676 - val_loss: 3.8216 - val_accuracy: 0.8301\n",
      "Epoch 6/10\n",
      "282/282 [==============================] - 120s 427ms/step - loss: 0.1307 - accuracy: 0.9686 - val_loss: 4.6474 - val_accuracy: 0.8280\n",
      "Epoch 7/10\n",
      "282/282 [==============================] - 117s 414ms/step - loss: 0.1195 - accuracy: 0.9720 - val_loss: 4.1497 - val_accuracy: 0.8160\n",
      "Epoch 8/10\n",
      "282/282 [==============================] - 125s 444ms/step - loss: 0.1432 - accuracy: 0.9669 - val_loss: 6.8118 - val_accuracy: 0.8181\n",
      "Epoch 9/10\n",
      "282/282 [==============================] - 127s 451ms/step - loss: 0.1502 - accuracy: 0.9655 - val_loss: 5.5673 - val_accuracy: 0.8099\n",
      "Epoch 10/10\n",
      "282/282 [==============================] - 119s 422ms/step - loss: 0.1443 - accuracy: 0.9677 - val_loss: 8.7334 - val_accuracy: 0.8216\n",
      "Duration: 0:19:38.623603\n"
     ]
    }
   ],
   "source": [
    "print(n)#9\n",
    "\n",
    "models_nc[n].fit_model(image_sets_nc[n],label_sets_nc[n],x_val,y_val)\n",
    "n = n+1"
   ]
  },
  {
   "cell_type": "code",
   "execution_count": 23,
   "id": "e05d85c1",
   "metadata": {},
   "outputs": [
    {
     "name": "stdout",
     "output_type": "stream",
     "text": [
      "10\n",
      "Epoch 1/10\n",
      "310/310 [==============================] - 135s 430ms/step - loss: 0.2315 - accuracy: 0.9445 - val_loss: 0.1476 - val_accuracy: 0.9579\n",
      "Epoch 2/10\n",
      "310/310 [==============================] - 130s 418ms/step - loss: 0.1657 - accuracy: 0.9575 - val_loss: 1.1774 - val_accuracy: 0.8676\n",
      "Epoch 3/10\n",
      "310/310 [==============================] - 132s 425ms/step - loss: 0.1528 - accuracy: 0.9605 - val_loss: 2.8351 - val_accuracy: 0.8451\n",
      "Epoch 4/10\n",
      "310/310 [==============================] - 127s 409ms/step - loss: 0.1435 - accuracy: 0.9644 - val_loss: 2.5552 - val_accuracy: 0.8408\n",
      "Epoch 5/10\n",
      "310/310 [==============================] - 132s 426ms/step - loss: 0.1403 - accuracy: 0.9679 - val_loss: 1.5938 - val_accuracy: 0.8278\n",
      "Epoch 6/10\n",
      "310/310 [==============================] - 129s 414ms/step - loss: 0.1286 - accuracy: 0.9688 - val_loss: 4.0558 - val_accuracy: 0.8298\n",
      "Epoch 7/10\n",
      "310/310 [==============================] - 127s 409ms/step - loss: 0.1387 - accuracy: 0.9659 - val_loss: 7.7682 - val_accuracy: 0.8352\n",
      "Epoch 8/10\n",
      "310/310 [==============================] - 117s 378ms/step - loss: 0.1340 - accuracy: 0.9679 - val_loss: 5.5957 - val_accuracy: 0.8324\n",
      "Epoch 9/10\n",
      "310/310 [==============================] - 117s 378ms/step - loss: 0.1459 - accuracy: 0.9692 - val_loss: 5.2009 - val_accuracy: 0.8352\n",
      "Epoch 10/10\n",
      "310/310 [==============================] - 117s 378ms/step - loss: 0.1405 - accuracy: 0.9703 - val_loss: 6.4557 - val_accuracy: 0.8186\n",
      "Duration: 0:21:02.795662\n"
     ]
    }
   ],
   "source": [
    "print(n)\n",
    "\n",
    "models_nc[n].fit_model(image_sets_nc[n],label_sets_nc[n],x_val,y_val)\n",
    "n = n+1"
   ]
  },
  {
   "cell_type": "code",
   "execution_count": 24,
   "id": "a6081dea",
   "metadata": {},
   "outputs": [
    {
     "name": "stdout",
     "output_type": "stream",
     "text": [
      "11\n",
      "Epoch 1/10\n",
      "338/338 [==============================] - 130s 378ms/step - loss: 0.2469 - accuracy: 0.9458 - val_loss: 0.2277 - val_accuracy: 0.9599\n",
      "Epoch 2/10\n",
      "338/338 [==============================] - 128s 379ms/step - loss: 0.1765 - accuracy: 0.9549 - val_loss: 1.3153 - val_accuracy: 0.8704\n",
      "Epoch 3/10\n",
      "338/338 [==============================] - 128s 378ms/step - loss: 0.1493 - accuracy: 0.9623 - val_loss: 1.6607 - val_accuracy: 0.8512\n",
      "Epoch 4/10\n",
      "338/338 [==============================] - 128s 378ms/step - loss: 0.1409 - accuracy: 0.9641 - val_loss: 3.6337 - val_accuracy: 0.8523\n",
      "Epoch 5/10\n",
      "338/338 [==============================] - 965s 3s/step - loss: 0.1347 - accuracy: 0.9682 - val_loss: 4.4667 - val_accuracy: 0.8528\n",
      "Epoch 6/10\n",
      "338/338 [==============================] - 116s 342ms/step - loss: 0.1397 - accuracy: 0.9660 - val_loss: 2.9324 - val_accuracy: 0.8500\n",
      "Epoch 7/10\n",
      "338/338 [==============================] - 116s 344ms/step - loss: 0.1398 - accuracy: 0.9679 - val_loss: 7.4412 - val_accuracy: 0.8487\n",
      "Epoch 8/10\n",
      "338/338 [==============================] - 116s 345ms/step - loss: 0.1335 - accuracy: 0.9693 - val_loss: 8.5662 - val_accuracy: 0.8528\n",
      "Epoch 9/10\n",
      "338/338 [==============================] - 119s 352ms/step - loss: 0.1609 - accuracy: 0.9669 - val_loss: 5.4668 - val_accuracy: 0.8405\n",
      "Epoch 10/10\n",
      "338/338 [==============================] - 124s 366ms/step - loss: 0.1690 - accuracy: 0.9654 - val_loss: 7.5648 - val_accuracy: 0.8502\n",
      "Duration: 0:34:29.596843\n"
     ]
    }
   ],
   "source": [
    "print(n)\n",
    "\n",
    "models_nc[n].fit_model(image_sets_nc[n],label_sets_nc[n],x_val,y_val)\n",
    "n = n+1"
   ]
  },
  {
   "cell_type": "code",
   "execution_count": 25,
   "id": "6ee630ca",
   "metadata": {},
   "outputs": [
    {
     "name": "stdout",
     "output_type": "stream",
     "text": [
      "12\n",
      "Epoch 1/10\n",
      "366/366 [==============================] - 2296s 6s/step - loss: 0.2256 - accuracy: 0.9456 - val_loss: 0.2825 - val_accuracy: 0.9354\n",
      "Epoch 2/10\n",
      "366/366 [==============================] - 163s 447ms/step - loss: 0.1773 - accuracy: 0.9544 - val_loss: 1.3030 - val_accuracy: 0.8727\n",
      "Epoch 3/10\n",
      "366/366 [==============================] - 183s 500ms/step - loss: 0.1467 - accuracy: 0.9615 - val_loss: 2.3485 - val_accuracy: 0.8591\n",
      "Epoch 4/10\n",
      "366/366 [==============================] - 196s 536ms/step - loss: 0.1518 - accuracy: 0.9613 - val_loss: 4.2657 - val_accuracy: 0.8533\n",
      "Epoch 5/10\n",
      "366/366 [==============================] - 182s 497ms/step - loss: 0.1488 - accuracy: 0.9645 - val_loss: 3.2687 - val_accuracy: 0.8530\n",
      "Epoch 6/10\n",
      "366/366 [==============================] - 180s 493ms/step - loss: 0.1357 - accuracy: 0.9682 - val_loss: 2.3933 - val_accuracy: 0.8477\n",
      "Epoch 7/10\n",
      "366/366 [==============================] - 166s 453ms/step - loss: 0.1408 - accuracy: 0.9679 - val_loss: 4.9163 - val_accuracy: 0.8482\n",
      "Epoch 8/10\n",
      "366/366 [==============================] - 149s 406ms/step - loss: 0.1498 - accuracy: 0.9678 - val_loss: 8.7183 - val_accuracy: 0.8535\n",
      "Epoch 9/10\n",
      "366/366 [==============================] - 150s 410ms/step - loss: 0.1510 - accuracy: 0.9682 - val_loss: 4.2304 - val_accuracy: 0.8523\n",
      "Epoch 10/10\n",
      "366/366 [==============================] - 144s 394ms/step - loss: 0.1503 - accuracy: 0.9645 - val_loss: 5.9585 - val_accuracy: 0.8492\n",
      "Duration: 1:03:30.049644\n"
     ]
    }
   ],
   "source": [
    "print(n)\n",
    "\n",
    "models_nc[n].fit_model(image_sets_nc[n],label_sets_nc[n],x_val,y_val)\n",
    "n = n+1"
   ]
  },
  {
   "cell_type": "code",
   "execution_count": 21,
   "id": "b333726b",
   "metadata": {},
   "outputs": [
    {
     "name": "stdout",
     "output_type": "stream",
     "text": [
      "13\n",
      "Epoch 1/10\n",
      "394/394 [==============================] - 176s 439ms/step - loss: 0.2482 - accuracy: 0.9429 - val_loss: 0.1768 - val_accuracy: 0.9630\n",
      "Epoch 2/10\n",
      "394/394 [==============================] - 188s 476ms/step - loss: 0.1585 - accuracy: 0.9575 - val_loss: 1.1294 - val_accuracy: 0.8862\n",
      "Epoch 3/10\n",
      "394/394 [==============================] - 194s 493ms/step - loss: 0.1579 - accuracy: 0.9586 - val_loss: 1.9103 - val_accuracy: 0.8872\n",
      "Epoch 4/10\n",
      "394/394 [==============================] - 193s 490ms/step - loss: 0.1496 - accuracy: 0.9627 - val_loss: 1.6259 - val_accuracy: 0.8857\n",
      "Epoch 5/10\n",
      "394/394 [==============================] - 194s 491ms/step - loss: 0.1494 - accuracy: 0.9634 - val_loss: 3.0677 - val_accuracy: 0.8791\n",
      "Epoch 6/10\n",
      "394/394 [==============================] - 193s 489ms/step - loss: 0.1476 - accuracy: 0.9644 - val_loss: 3.2204 - val_accuracy: 0.8842\n",
      "Epoch 7/10\n",
      "394/394 [==============================] - 193s 490ms/step - loss: 0.1403 - accuracy: 0.9669 - val_loss: 2.4829 - val_accuracy: 0.8824\n",
      "Epoch 8/10\n",
      "394/394 [==============================] - 186s 471ms/step - loss: 0.1504 - accuracy: 0.9654 - val_loss: 3.5894 - val_accuracy: 0.8691\n",
      "Epoch 9/10\n",
      "394/394 [==============================] - 179s 454ms/step - loss: 0.1541 - accuracy: 0.9658 - val_loss: 3.8316 - val_accuracy: 0.8775\n",
      "Epoch 10/10\n",
      "394/394 [==============================] - 158s 400ms/step - loss: 0.1577 - accuracy: 0.9671 - val_loss: 3.3963 - val_accuracy: 0.8722\n",
      "Duration: 0:30:52.218840\n"
     ]
    }
   ],
   "source": [
    "n=13\n",
    "print(n)\n",
    "\n",
    "models_nc[n].fit_model(image_sets_nc[n],label_sets_nc[n],x_val,y_val)\n",
    "n = n+1"
   ]
  },
  {
   "cell_type": "code",
   "execution_count": 22,
   "id": "a1956bc5",
   "metadata": {},
   "outputs": [
    {
     "name": "stdout",
     "output_type": "stream",
     "text": [
      "14\n",
      "Epoch 1/10\n",
      "422/422 [==============================] - 178s 416ms/step - loss: 0.2347 - accuracy: 0.9426 - val_loss: 0.1633 - val_accuracy: 0.9633\n",
      "Epoch 2/10\n",
      "422/422 [==============================] - 193s 457ms/step - loss: 0.1804 - accuracy: 0.9544 - val_loss: 0.6570 - val_accuracy: 0.9268\n",
      "Epoch 3/10\n",
      "422/422 [==============================] - 179s 425ms/step - loss: 0.1513 - accuracy: 0.9613 - val_loss: 1.2354 - val_accuracy: 0.9181\n",
      "Epoch 4/10\n",
      "422/422 [==============================] - 171s 406ms/step - loss: 0.1466 - accuracy: 0.9631 - val_loss: 1.3047 - val_accuracy: 0.9166\n",
      "Epoch 5/10\n",
      "422/422 [==============================] - 172s 409ms/step - loss: 0.1530 - accuracy: 0.9633 - val_loss: 1.5830 - val_accuracy: 0.9132\n",
      "Epoch 6/10\n",
      "422/422 [==============================] - 171s 406ms/step - loss: 0.1509 - accuracy: 0.9635 - val_loss: 0.8193 - val_accuracy: 0.9076\n",
      "Epoch 7/10\n",
      "422/422 [==============================] - 171s 406ms/step - loss: 0.1637 - accuracy: 0.9618 - val_loss: 1.3175 - val_accuracy: 0.9135\n",
      "Epoch 8/10\n",
      "422/422 [==============================] - 174s 412ms/step - loss: 0.1643 - accuracy: 0.9639 - val_loss: 1.4319 - val_accuracy: 0.9087\n",
      "Epoch 9/10\n",
      "422/422 [==============================] - 175s 415ms/step - loss: 0.1705 - accuracy: 0.9627 - val_loss: 3.2545 - val_accuracy: 0.9153\n",
      "Epoch 10/10\n",
      "422/422 [==============================] - 175s 414ms/step - loss: 0.1596 - accuracy: 0.9667 - val_loss: 3.3228 - val_accuracy: 0.9087\n",
      "Duration: 0:29:20.187268\n"
     ]
    }
   ],
   "source": [
    "\n",
    "print(n)\n",
    "\n",
    "models_nc[n].fit_model(image_sets_nc[n],label_sets_nc[n],x_val,y_val)\n",
    "n = n+1"
   ]
  },
  {
   "cell_type": "code",
   "execution_count": 23,
   "id": "4b7c1dd9",
   "metadata": {},
   "outputs": [
    {
     "name": "stdout",
     "output_type": "stream",
     "text": [
      "15\n",
      "Epoch 1/10\n",
      "450/450 [==============================] - 554s 1s/step - loss: 0.2667 - accuracy: 0.9342 - val_loss: 0.1065 - val_accuracy: 0.9727\n",
      "Epoch 2/10\n",
      "450/450 [==============================] - 194s 431ms/step - loss: 0.1974 - accuracy: 0.9493 - val_loss: 0.6313 - val_accuracy: 0.9543\n",
      "Epoch 3/10\n",
      "450/450 [==============================] - 195s 432ms/step - loss: 0.1744 - accuracy: 0.9547 - val_loss: 0.7192 - val_accuracy: 0.9541\n",
      "Epoch 4/10\n",
      "450/450 [==============================] - 193s 429ms/step - loss: 0.1556 - accuracy: 0.9610 - val_loss: 1.3553 - val_accuracy: 0.9428\n",
      "Epoch 5/10\n",
      "450/450 [==============================] - 197s 437ms/step - loss: 0.1585 - accuracy: 0.9620 - val_loss: 1.2154 - val_accuracy: 0.9390\n",
      "Epoch 6/10\n",
      "450/450 [==============================] - 194s 431ms/step - loss: 0.1531 - accuracy: 0.9639 - val_loss: 1.4609 - val_accuracy: 0.9436\n",
      "Epoch 7/10\n",
      "450/450 [==============================] - 197s 437ms/step - loss: 0.1654 - accuracy: 0.9630 - val_loss: 1.5098 - val_accuracy: 0.9543\n",
      "Epoch 8/10\n",
      "450/450 [==============================] - 206s 457ms/step - loss: 0.1572 - accuracy: 0.9646 - val_loss: 1.7135 - val_accuracy: 0.9525\n",
      "Epoch 9/10\n",
      "450/450 [==============================] - 193s 430ms/step - loss: 0.1574 - accuracy: 0.9648 - val_loss: 1.0391 - val_accuracy: 0.9523\n",
      "Epoch 10/10\n",
      "450/450 [==============================] - 201s 448ms/step - loss: 0.1733 - accuracy: 0.9620 - val_loss: 1.3361 - val_accuracy: 0.9508\n",
      "Duration: 0:38:43.532904\n"
     ]
    }
   ],
   "source": [
    "\n",
    "print(n)\n",
    "\n",
    "models_nc[n].fit_model(image_sets_nc[n],label_sets_nc[n],x_val,y_val)\n",
    "n = n+1"
   ]
  },
  {
   "cell_type": "code",
   "execution_count": 31,
   "id": "7aedeb81",
   "metadata": {},
   "outputs": [
    {
     "name": "stdout",
     "output_type": "stream",
     "text": [
      "16\n",
      "Epoch 1/10\n",
      "479/479 [==============================] - 207s 428ms/step - loss: 0.2884 - accuracy: 0.9332 - val_loss: 0.1108 - val_accuracy: 0.9798\n",
      "Epoch 2/10\n",
      "479/479 [==============================] - 196s 408ms/step - loss: 0.2033 - accuracy: 0.9480 - val_loss: 0.4140 - val_accuracy: 0.9569\n",
      "Epoch 3/10\n",
      "479/479 [==============================] - 189s 394ms/step - loss: 0.1716 - accuracy: 0.9550 - val_loss: 0.5728 - val_accuracy: 0.9617\n",
      "Epoch 4/10\n",
      "479/479 [==============================] - 189s 395ms/step - loss: 0.1717 - accuracy: 0.9569 - val_loss: 0.8632 - val_accuracy: 0.9582\n",
      "Epoch 5/10\n",
      "479/479 [==============================] - 188s 392ms/step - loss: 0.1562 - accuracy: 0.9618 - val_loss: 0.9312 - val_accuracy: 0.9622\n",
      "Epoch 6/10\n",
      "479/479 [==============================] - 186s 388ms/step - loss: 0.1573 - accuracy: 0.9621 - val_loss: 1.1706 - val_accuracy: 0.9612\n",
      "Epoch 7/10\n",
      "479/479 [==============================] - 186s 389ms/step - loss: 0.1640 - accuracy: 0.9621 - val_loss: 1.2314 - val_accuracy: 0.9602\n",
      "Epoch 8/10\n",
      "479/479 [==============================] - 186s 388ms/step - loss: 0.1701 - accuracy: 0.9603 - val_loss: 1.2014 - val_accuracy: 0.9592\n",
      "Epoch 9/10\n",
      "479/479 [==============================] - 186s 388ms/step - loss: 0.1669 - accuracy: 0.9633 - val_loss: 1.5150 - val_accuracy: 0.9610\n",
      "Epoch 10/10\n",
      "479/479 [==============================] - 186s 387ms/step - loss: 0.1745 - accuracy: 0.9611 - val_loss: 1.4835 - val_accuracy: 0.9490\n",
      "Duration: 0:31:37.435167\n"
     ]
    }
   ],
   "source": [
    "n=16\n",
    "print(n)\n",
    "\n",
    "models_nc[n].fit_model(image_sets_nc[n],label_sets_nc[n],x_val,y_val)\n",
    "n = n+1"
   ]
  },
  {
   "cell_type": "code",
   "execution_count": 32,
   "id": "26e3e080",
   "metadata": {},
   "outputs": [
    {
     "name": "stdout",
     "output_type": "stream",
     "text": [
      "17\n",
      "Epoch 1/10\n",
      "507/507 [==============================] - 202s 394ms/step - loss: 0.3184 - accuracy: 0.9227 - val_loss: 0.0934 - val_accuracy: 0.9816\n",
      "Epoch 2/10\n",
      "507/507 [==============================] - 199s 393ms/step - loss: 0.1896 - accuracy: 0.9486 - val_loss: 0.4589 - val_accuracy: 0.9627\n",
      "Epoch 3/10\n",
      "507/507 [==============================] - 199s 393ms/step - loss: 0.1789 - accuracy: 0.9536 - val_loss: 0.6484 - val_accuracy: 0.9610\n",
      "Epoch 4/10\n",
      "507/507 [==============================] - 199s 392ms/step - loss: 0.1708 - accuracy: 0.9549 - val_loss: 0.9868 - val_accuracy: 0.9612\n",
      "Epoch 5/10\n",
      "507/507 [==============================] - 199s 392ms/step - loss: 0.1535 - accuracy: 0.9611 - val_loss: 0.5691 - val_accuracy: 0.9622\n",
      "Epoch 6/10\n",
      "507/507 [==============================] - 201s 397ms/step - loss: 0.1598 - accuracy: 0.9597 - val_loss: 0.7644 - val_accuracy: 0.9594\n",
      "Epoch 7/10\n",
      "507/507 [==============================] - 201s 396ms/step - loss: 0.1753 - accuracy: 0.9607 - val_loss: 0.4084 - val_accuracy: 0.9564\n",
      "Epoch 8/10\n",
      "507/507 [==============================] - 202s 398ms/step - loss: 0.1644 - accuracy: 0.9592 - val_loss: 1.3227 - val_accuracy: 0.9589\n",
      "Epoch 9/10\n",
      "507/507 [==============================] - 200s 395ms/step - loss: 0.1762 - accuracy: 0.9606 - val_loss: 0.8222 - val_accuracy: 0.9594\n",
      "Epoch 10/10\n",
      "507/507 [==============================] - 201s 397ms/step - loss: 0.1588 - accuracy: 0.9645 - val_loss: 0.7188 - val_accuracy: 0.9604\n",
      "Duration: 0:33:22.357736\n"
     ]
    }
   ],
   "source": [
    "n=17\n",
    "print(n)\n",
    "\n",
    "models_nc[n].fit_model(image_sets_nc[n],label_sets_nc[n],x_val,y_val)\n",
    "n = n+1"
   ]
  },
  {
   "cell_type": "code",
   "execution_count": 33,
   "id": "14409d0f",
   "metadata": {},
   "outputs": [
    {
     "name": "stdout",
     "output_type": "stream",
     "text": [
      "18\n",
      "Epoch 1/10\n",
      "535/535 [==============================] - 212s 392ms/step - loss: 0.3547 - accuracy: 0.9114 - val_loss: 0.0307 - val_accuracy: 0.9913\n",
      "Epoch 2/10\n",
      "535/535 [==============================] - 209s 391ms/step - loss: 0.2262 - accuracy: 0.9386 - val_loss: 0.0567 - val_accuracy: 0.9849\n",
      "Epoch 3/10\n",
      "535/535 [==============================] - 208s 390ms/step - loss: 0.2047 - accuracy: 0.9465 - val_loss: 0.0868 - val_accuracy: 0.9865\n",
      "Epoch 4/10\n",
      "535/535 [==============================] - 209s 390ms/step - loss: 0.1724 - accuracy: 0.9541 - val_loss: 0.0849 - val_accuracy: 0.9883\n",
      "Epoch 5/10\n",
      "535/535 [==============================] - 210s 392ms/step - loss: 0.1683 - accuracy: 0.9565 - val_loss: 0.1148 - val_accuracy: 0.9870\n",
      "Epoch 6/10\n",
      "535/535 [==============================] - 208s 390ms/step - loss: 0.1729 - accuracy: 0.9564 - val_loss: 0.1174 - val_accuracy: 0.9862\n",
      "Epoch 7/10\n",
      "535/535 [==============================] - 208s 389ms/step - loss: 0.1762 - accuracy: 0.9554 - val_loss: 0.1370 - val_accuracy: 0.9885\n",
      "Epoch 8/10\n",
      "535/535 [==============================] - 208s 390ms/step - loss: 0.1705 - accuracy: 0.9611 - val_loss: 0.2320 - val_accuracy: 0.9842\n",
      "Epoch 9/10\n",
      "535/535 [==============================] - 208s 389ms/step - loss: 0.1942 - accuracy: 0.9562 - val_loss: 0.1106 - val_accuracy: 0.9862\n",
      "Epoch 10/10\n",
      "535/535 [==============================] - 208s 388ms/step - loss: 0.1936 - accuracy: 0.9584 - val_loss: 0.1204 - val_accuracy: 0.9814\n",
      "Duration: 0:34:48.094915\n"
     ]
    }
   ],
   "source": [
    "print(n)\n",
    "\n",
    "models_nc[n].fit_model(image_sets_nc[n],label_sets_nc[n],x_val,y_val)\n",
    "n = n+1"
   ]
  },
  {
   "cell_type": "code",
   "execution_count": 37,
   "id": "bff7c269",
   "metadata": {},
   "outputs": [
    {
     "name": "stdout",
     "output_type": "stream",
     "text": [
      "Model loaded correctly\n",
      "Model compiled\n"
     ]
    }
   ],
   "source": [
    "\n",
    "models_nc[19] = utils.My_model('gtsrb',True,model_dir)\n",
    "models_nc[19].compile_model()"
   ]
  },
  {
   "cell_type": "code",
   "execution_count": 38,
   "id": "78afe372",
   "metadata": {},
   "outputs": [
    {
     "name": "stdout",
     "output_type": "stream",
     "text": [
      "19\n",
      "Epoch 1/10\n",
      "569/569 [==============================] - 311s 541ms/step - loss: 0.4098 - accuracy: 0.8993 - val_loss: 0.0340 - val_accuracy: 0.9923\n",
      "Epoch 2/10\n",
      "569/569 [==============================] - 314s 552ms/step - loss: 0.2525 - accuracy: 0.9320 - val_loss: 0.0899 - val_accuracy: 0.9717\n",
      "Epoch 3/10\n",
      "569/569 [==============================] - 316s 556ms/step - loss: 0.2053 - accuracy: 0.9442 - val_loss: 0.0254 - val_accuracy: 0.9949\n",
      "Epoch 4/10\n",
      "569/569 [==============================] - 328s 577ms/step - loss: 0.1988 - accuracy: 0.9487 - val_loss: 0.0232 - val_accuracy: 0.9939\n",
      "Epoch 5/10\n",
      "569/569 [==============================] - 328s 577ms/step - loss: 0.1777 - accuracy: 0.9542 - val_loss: 0.1285 - val_accuracy: 0.9694\n",
      "Epoch 6/10\n",
      "569/569 [==============================] - 366s 643ms/step - loss: 0.1870 - accuracy: 0.9543 - val_loss: 0.0374 - val_accuracy: 0.9911\n",
      "Epoch 7/10\n",
      "569/569 [==============================] - 354s 622ms/step - loss: 0.1740 - accuracy: 0.9566 - val_loss: 0.0238 - val_accuracy: 0.9946\n",
      "Epoch 8/10\n",
      "569/569 [==============================] - 352s 619ms/step - loss: 0.1758 - accuracy: 0.9589 - val_loss: 0.0322 - val_accuracy: 0.9936\n",
      "Epoch 9/10\n",
      "569/569 [==============================] - 338s 594ms/step - loss: 0.1694 - accuracy: 0.9589 - val_loss: 0.0411 - val_accuracy: 0.9911\n",
      "Epoch 10/10\n",
      "569/569 [==============================] - 322s 565ms/step - loss: 0.1864 - accuracy: 0.9578 - val_loss: 0.0316 - val_accuracy: 0.9921\n",
      "Duration: 0:55:30.272766\n"
     ]
    }
   ],
   "source": [
    "n=19\n",
    "print(n)\n",
    "\n",
    "models_nc[n].fit_model(image_sets_nc[n],label_sets_nc[n],x_val,y_val)\n",
    "n = n+1"
   ]
  },
  {
   "cell_type": "code",
   "execution_count": 26,
   "id": "7931428f",
   "metadata": {},
   "outputs": [
    {
     "name": "stdout",
     "output_type": "stream",
     "text": [
      "D:/models/gtsrb_models/C2/gtsrb_model_c2_sep_nc_e2_0\n",
      "Model loaded correctly\n",
      "D:/models/gtsrb_models/C2/gtsrb_model_c2_sep_nc_e2_1\n",
      "Model loaded correctly\n",
      "D:/models/gtsrb_models/C2/gtsrb_model_c2_sep_nc_e2_2\n",
      "Model loaded correctly\n",
      "D:/models/gtsrb_models/C2/gtsrb_model_c2_sep_nc_e2_3\n",
      "Model loaded correctly\n",
      "D:/models/gtsrb_models/C2/gtsrb_model_c2_sep_nc_e2_4\n",
      "Model loaded correctly\n",
      "D:/models/gtsrb_models/C2/gtsrb_model_c2_sep_nc_e2_5\n",
      "Model loaded correctly\n",
      "D:/models/gtsrb_models/C2/gtsrb_model_c2_sep_nc_e2_6\n",
      "Model loaded correctly\n",
      "D:/models/gtsrb_models/C2/gtsrb_model_c2_sep_nc_e2_7\n",
      "Model loaded correctly\n",
      "D:/models/gtsrb_models/C2/gtsrb_model_c2_sep_nc_e2_8\n",
      "Model loaded correctly\n",
      "D:/models/gtsrb_models/C2/gtsrb_model_c2_sep_nc_e2_9\n",
      "Model loaded correctly\n",
      "D:/models/gtsrb_models/C2/gtsrb_model_c2_sep_nc_e2_10\n",
      "Model loaded correctly\n",
      "D:/models/gtsrb_models/C2/gtsrb_model_c2_sep_nc_e2_11\n",
      "Model loaded correctly\n",
      "D:/models/gtsrb_models/C2/gtsrb_model_c2_sep_nc_e2_12\n",
      "Model loaded correctly\n",
      "D:/models/gtsrb_models/C2/gtsrb_model_c2_sep_nc_e2_13\n",
      "Model loaded correctly\n",
      "D:/models/gtsrb_models/C2/gtsrb_model_c2_sep_nc_e2_14\n",
      "Model loaded correctly\n",
      "D:/models/gtsrb_models/C2/gtsrb_model_c2_sep_nc_e2_15\n",
      "Model loaded correctly\n",
      "D:/models/gtsrb_models/C2/gtsrb_model_c2_sep_nc_e2_16\n",
      "Model loaded correctly\n",
      "D:/models/gtsrb_models/C2/gtsrb_model_c2_sep_nc_e2_17\n",
      "Model loaded correctly\n",
      "D:/models/gtsrb_models/C2/gtsrb_model_c2_sep_nc_e2_18\n",
      "Model loaded correctly\n",
      "D:/models/gtsrb_models/C2/gtsrb_model_c2_sep_nc_e2_19\n",
      "Model loaded correctly\n"
     ]
    }
   ],
   "source": [
    "loading = True\n",
    "\n",
    "models_nc = []\n",
    "\n",
    "if loading:\n",
    "    for i in range(20):\n",
    "        model_nc_dir = \"D:/models/gtsrb_models/C2/gtsrb_model_c2_sep_nc_e2_\"+str(i)\n",
    "        print(model_nc_dir)\n",
    "        model =utils.My_model('gtsrb',True,model_nc_dir)\n",
    "        model.model.compile(loss= 'categorical_crossentropy', optimizer = 'rmsprop', metrics = ['accuracy',tf.keras.metrics.Precision(), tf.keras.metrics.Recall()])\n",
    "        models_nc.append(model)\n",
    "       "
   ]
  },
  {
   "cell_type": "markdown",
   "id": "2b428980",
   "metadata": {},
   "source": [
    "## Evaluating"
   ]
  },
  {
   "cell_type": "code",
   "execution_count": 27,
   "id": "e6300f23",
   "metadata": {},
   "outputs": [],
   "source": [
    "model_original.model.compile(loss= 'categorical_crossentropy', optimizer = 'rmsprop', metrics = ['accuracy',tf.keras.metrics.Precision(), tf.keras.metrics.Recall()])"
   ]
  },
  {
   "cell_type": "code",
   "execution_count": 30,
   "id": "58ebf6e5",
   "metadata": {},
   "outputs": [],
   "source": [
    "model_lsa_5000.model.compile(loss= 'categorical_crossentropy', optimizer = 'rmsprop', metrics = ['accuracy',tf.keras.metrics.Precision(), tf.keras.metrics.Recall()])\n",
    "model_dsa_5000.model.compile(loss= 'categorical_crossentropy', optimizer = 'rmsprop', metrics = ['accuracy',tf.keras.metrics.Precision(), tf.keras.metrics.Recall()])\n",
    "model_random_5000.model.compile(loss= 'categorical_crossentropy', optimizer = 'rmsprop', metrics = ['accuracy',tf.keras.metrics.Precision(), tf.keras.metrics.Recall()])\n",
    "model_nc_5000.model.compile(loss= 'categorical_crossentropy', optimizer = 'rmsprop', metrics = ['accuracy',tf.keras.metrics.Precision(), tf.keras.metrics.Recall()])"
   ]
  },
  {
   "cell_type": "code",
   "execution_count": 32,
   "id": "8d4fad6b",
   "metadata": {},
   "outputs": [
    {
     "name": "stdout",
     "output_type": "stream",
     "text": [
      "123/123 [==============================] - 6s 51ms/step - loss: 0.4318 - accuracy: 0.8942 - precision_1: 0.9250 - recall_1: 0.8692\n",
      "123/123 [==============================] - 6s 52ms/step - loss: 0.2441 - accuracy: 0.9370 - precision_2: 0.9541 - recall_2: 0.9138\n",
      "123/123 [==============================] - 6s 51ms/step - loss: 1.4859 - accuracy: 0.6538 - precision_3: 0.7856 - recall_3: 0.5852\n",
      "123/123 [==============================] - 6s 50ms/step - loss: 3.8228 - accuracy: 0.2501 - precision_4: 0.5297 - recall_4: 0.2037\n"
     ]
    }
   ],
   "source": [
    "evaluate_lsa_5k_0 = []\n",
    "evaluate_dsa_5k_0 = []\n",
    "evaluate_nc_5k_0 = []\n",
    "evaluate_random_5k_0 = []\n",
    "\n",
    "evaluate_lsa_5k_0.append(model_lsa_5000.evaluate(x_adversary_test_fgsm,y_adversary_test_fgsm))\n",
    "evaluate_dsa_5k_0.append(model_dsa_5000.evaluate(x_adversary_test_fgsm,y_adversary_test_fgsm))\n",
    "evaluate_random_5k_0.append(model_random_5000.evaluate(x_adversary_test_fgsm,y_adversary_test_fgsm))\n",
    "evaluate_nc_5k_0.append(model_nc_5000.evaluate(x_adversary_test_fgsm,y_adversary_test_fgsm))"
   ]
  },
  {
   "cell_type": "code",
   "execution_count": 28,
   "id": "fd074ff2",
   "metadata": {},
   "outputs": [
    {
     "name": "stdout",
     "output_type": "stream",
     "text": [
      "123/123 [==============================] - 24s 162ms/step - loss: 4.9518 - accuracy: 0.1311 - precision_100: 0.1937 - recall_100: 0.0905\n",
      "123/123 [==============================] - 19s 158ms/step - loss: 4.5121 - accuracy: 0.1843 - precision_100: 0.2965 - recall_100: 0.1261\n",
      "123/123 [==============================] - 19s 153ms/step - loss: 4.5121 - accuracy: 0.1843 - precision_100: 0.3060 - recall_100: 0.1296\n",
      "123/123 [==============================] - 19s 156ms/step - loss: 4.5121 - accuracy: 0.1843 - precision_100: 0.3098 - recall_100: 0.1310\n",
      "123/123 [==============================] - 20s 154ms/step - loss: 0.9497 - accuracy: 0.7597 - precision: 0.8118 - recall: 0.7123\n",
      "123/123 [==============================] - 20s 148ms/step - loss: 0.5514 - accuracy: 0.8413 - precision_1: 0.9269 - recall_1: 0.7540\n",
      "123/123 [==============================] - 18s 139ms/step - loss: 0.3247 - accuracy: 0.9063 - precision_2: 0.9285 - recall_2: 0.8554\n",
      "123/123 [==============================] - 18s 132ms/step - loss: 0.4020 - accuracy: 0.8805 - precision_3: 0.9258 - recall_3: 0.8042\n",
      "123/123 [==============================] - 17s 129ms/step - loss: 0.3641 - accuracy: 0.8941 - precision_4: 0.9245 - recall_4: 0.8406\n",
      "123/123 [==============================] - 17s 128ms/step - loss: 0.4081 - accuracy: 0.9017 - precision_5: 0.9167 - recall_5: 0.8501\n",
      "123/123 [==============================] - 17s 123ms/step - loss: 0.4816 - accuracy: 0.8639 - precision_6: 0.8932 - recall_6: 0.7996\n",
      "123/123 [==============================] - 16s 121ms/step - loss: 0.5347 - accuracy: 0.8626 - precision_7: 0.9429 - recall_7: 0.7483\n",
      "123/123 [==============================] - 16s 122ms/step - loss: 0.4526 - accuracy: 0.8659 - precision_8: 0.9244 - recall_8: 0.7804\n",
      "123/123 [==============================] - 16s 116ms/step - loss: 0.4390 - accuracy: 0.8813 - precision_9: 0.9165 - recall_9: 0.8133\n",
      "123/123 [==============================] - 15s 113ms/step - loss: 0.4033 - accuracy: 0.8832 - precision_10: 0.9510 - recall_10: 0.7955\n",
      "123/123 [==============================] - 15s 113ms/step - loss: 0.4355 - accuracy: 0.8784 - precision_11: 0.9306 - recall_11: 0.8074\n",
      "123/123 [==============================] - 16s 111ms/step - loss: 0.5124 - accuracy: 0.8689 - precision_12: 0.9618 - recall_12: 0.7417\n",
      "123/123 [==============================] - 18s 137ms/step - loss: 0.4393 - accuracy: 0.8681 - precision_13: 0.9198 - recall_13: 0.7996\n",
      "123/123 [==============================] - 16s 115ms/step - loss: 0.5069 - accuracy: 0.8647 - precision_14: 0.9540 - recall_14: 0.7764\n",
      "123/123 [==============================] - 16s 116ms/step - loss: 0.9196 - accuracy: 0.7572 - precision_15: 0.9536 - recall_15: 0.5739\n",
      "123/123 [==============================] - 16s 116ms/step - loss: 0.5308 - accuracy: 0.8708 - precision_16: 0.9327 - recall_16: 0.7996\n",
      "123/123 [==============================] - 16s 116ms/step - loss: 0.4884 - accuracy: 0.8586 - precision_17: 0.9689 - recall_17: 0.7414\n",
      "123/123 [==============================] - 17s 122ms/step - loss: 0.4963 - accuracy: 0.8583 - precision_18: 0.9368 - recall_18: 0.7872\n",
      "123/123 [==============================] - 16s 123ms/step - loss: 0.6048 - accuracy: 0.8287 - precision_19: 0.9511 - recall_19: 0.7150\n",
      "123/123 [==============================] - 17s 122ms/step - loss: 0.6375 - accuracy: 0.8127 - precision_20: 0.8871 - recall_20: 0.7528\n",
      "123/123 [==============================] - 16s 115ms/step - loss: 0.3250 - accuracy: 0.8984 - precision_21: 0.9136 - recall_21: 0.8626\n",
      "123/123 [==============================] - 16s 116ms/step - loss: 0.2797 - accuracy: 0.9210 - precision_22: 0.9410 - recall_22: 0.8985\n",
      "123/123 [==============================] - 15s 113ms/step - loss: 0.3546 - accuracy: 0.9096 - precision_23: 0.9441 - recall_23: 0.8695\n",
      "123/123 [==============================] - 15s 113ms/step - loss: 0.2924 - accuracy: 0.9184 - precision_24: 0.9566 - recall_24: 0.8844\n",
      "123/123 [==============================] - 15s 114ms/step - loss: 0.3086 - accuracy: 0.9167 - precision_25: 0.9533 - recall_25: 0.8683\n",
      "123/123 [==============================] - 16s 121ms/step - loss: 0.3446 - accuracy: 0.9016 - precision_26: 0.9394 - recall_26: 0.8501\n",
      "123/123 [==============================] - 18s 136ms/step - loss: 0.3838 - accuracy: 0.9125 - precision_27: 0.9504 - recall_27: 0.8388\n",
      "123/123 [==============================] - 17s 129ms/step - loss: 0.4972 - accuracy: 0.8657 - precision_28: 0.9473 - recall_28: 0.7476\n",
      "123/123 [==============================] - 18s 131ms/step - loss: 0.5549 - accuracy: 0.8705 - precision_29: 0.9113 - recall_29: 0.8330\n",
      "123/123 [==============================] - 19s 140ms/step - loss: 0.4592 - accuracy: 0.8689 - precision_30: 0.9388 - recall_30: 0.7821\n",
      "123/123 [==============================] - 19s 142ms/step - loss: 0.5801 - accuracy: 0.8414 - precision_31: 0.8907 - recall_31: 0.7842\n",
      "123/123 [==============================] - 20s 148ms/step - loss: 0.4673 - accuracy: 0.8676 - precision_32: 0.9425 - recall_32: 0.7775\n",
      "123/123 [==============================] - 21s 156ms/step - loss: 0.4873 - accuracy: 0.8520 - precision_33: 0.9570 - recall_33: 0.7542\n",
      "123/123 [==============================] - 21s 157ms/step - loss: 0.5601 - accuracy: 0.8465 - precision_34: 0.9545 - recall_34: 0.7283\n",
      "123/123 [==============================] - 21s 159ms/step - loss: 0.5670 - accuracy: 0.8587 - precision_35: 0.9629 - recall_35: 0.7360\n",
      "123/123 [==============================] - 21s 162ms/step - loss: 0.4765 - accuracy: 0.8740 - precision_36: 0.9511 - recall_36: 0.7795\n",
      "123/123 [==============================] - 22s 163ms/step - loss: 0.4851 - accuracy: 0.8717 - precision_37: 0.9630 - recall_37: 0.7841\n",
      "123/123 [==============================] - 22s 166ms/step - loss: 0.5527 - accuracy: 0.8523 - precision_38: 0.9380 - recall_38: 0.7804\n",
      "123/123 [==============================] - 22s 165ms/step - loss: 0.5173 - accuracy: 0.8414 - precision_39: 0.9281 - recall_39: 0.7506\n",
      "123/123 [==============================] - 22s 165ms/step - loss: 1.8387 - accuracy: 0.4881 - precision_40: 0.7526 - recall_40: 0.3801\n",
      "123/123 [==============================] - 21s 163ms/step - loss: 1.5393 - accuracy: 0.5298 - precision_41: 0.8041 - recall_41: 0.4124\n",
      "123/123 [==============================] - 22s 166ms/step - loss: 1.2393 - accuracy: 0.6777 - precision_42: 0.7976 - recall_42: 0.6187\n",
      "123/123 [==============================] - 21s 162ms/step - loss: 1.3321 - accuracy: 0.6837 - precision_43: 0.7981 - recall_43: 0.6300\n",
      "123/123 [==============================] - 22s 165ms/step - loss: 0.9492 - accuracy: 0.7373 - precision_44: 0.8467 - recall_44: 0.6699\n",
      "123/123 [==============================] - 22s 167ms/step - loss: 0.8839 - accuracy: 0.7388 - precision_45: 0.8782 - recall_45: 0.6473\n",
      "123/123 [==============================] - 21s 162ms/step - loss: 0.7583 - accuracy: 0.7632 - precision_46: 0.8963 - recall_46: 0.6917\n",
      "123/123 [==============================] - 22s 167ms/step - loss: 0.7783 - accuracy: 0.7950 - precision_47: 0.9106 - recall_47: 0.7182\n",
      "123/123 [==============================] - 22s 166ms/step - loss: 0.7883 - accuracy: 0.7879 - precision_48: 0.8813 - recall_48: 0.7177\n",
      "123/123 [==============================] - 21s 163ms/step - loss: 0.7783 - accuracy: 0.7784 - precision_49: 0.8887 - recall_49: 0.7089\n",
      "123/123 [==============================] - 22s 169ms/step - loss: 0.6792 - accuracy: 0.7907 - precision_50: 0.8974 - recall_50: 0.7210\n",
      "123/123 [==============================] - 21s 160ms/step - loss: 0.7401 - accuracy: 0.7862 - precision_51: 0.9099 - recall_51: 0.6613\n",
      "123/123 [==============================] - 22s 166ms/step - loss: 0.7199 - accuracy: 0.8017 - precision_52: 0.9517 - recall_52: 0.6492\n",
      "123/123 [==============================] - 21s 161ms/step - loss: 0.6203 - accuracy: 0.8226 - precision_53: 0.9189 - recall_53: 0.7528\n",
      "123/123 [==============================] - 21s 160ms/step - loss: 0.5777 - accuracy: 0.8165 - precision_54: 0.9173 - recall_54: 0.7361\n",
      "123/123 [==============================] - 21s 153ms/step - loss: 0.5463 - accuracy: 0.8466 - precision_55: 0.9473 - recall_55: 0.7512\n",
      "123/123 [==============================] - 21s 155ms/step - loss: 0.6451 - accuracy: 0.8271 - precision_56: 0.9487 - recall_56: 0.6863\n",
      "123/123 [==============================] - 21s 157ms/step - loss: 0.6430 - accuracy: 0.8239 - precision_57: 0.9655 - recall_57: 0.6655\n",
      "123/123 [==============================] - 21s 160ms/step - loss: 0.6474 - accuracy: 0.8248 - precision_58: 0.9396 - recall_58: 0.7205\n",
      "123/123 [==============================] - 21s 160ms/step - loss: 0.5644 - accuracy: 0.8412 - precision_59: 0.8944 - recall_59: 0.7832\n",
      "123/123 [==============================] - 20s 148ms/step - loss: 4.1418 - accuracy: 0.2714 - precision_80: 0.3833 - recall_80: 0.2295\n",
      "123/123 [==============================] - 20s 151ms/step - loss: 3.9601 - accuracy: 0.2359 - precision_81: 0.3788 - recall_81: 0.2048\n",
      "123/123 [==============================] - 20s 148ms/step - loss: 4.4505 - accuracy: 0.3606 - precision_82: 0.4970 - recall_82: 0.3497\n",
      "123/123 [==============================] - 20s 155ms/step - loss: 3.3826 - accuracy: 0.4086 - precision_83: 0.7155 - recall_83: 0.3572\n",
      "123/123 [==============================] - 19s 145ms/step - loss: 3.9520 - accuracy: 0.4083 - precision_84: 0.6581 - recall_84: 0.3529\n",
      "123/123 [==============================] - 19s 142ms/step - loss: 3.2528 - accuracy: 0.4379 - precision_85: 0.7346 - recall_85: 0.3872\n",
      "123/123 [==============================] - 19s 147ms/step - loss: 3.1275 - accuracy: 0.3924 - precision_86: 0.7791 - recall_86: 0.3415\n",
      "123/123 [==============================] - 19s 146ms/step - loss: 4.5938 - accuracy: 0.4859 - precision_87: 0.6807 - recall_87: 0.4572\n",
      "123/123 [==============================] - 19s 144ms/step - loss: 4.0995 - accuracy: 0.5352 - precision_88: 0.7420 - recall_88: 0.4811\n",
      "123/123 [==============================] - 19s 140ms/step - loss: 4.9066 - accuracy: 0.5232 - precision_89: 0.7359 - recall_89: 0.4445\n",
      "123/123 [==============================] - 19s 141ms/step - loss: 3.8641 - accuracy: 0.5499 - precision_90: 0.7575 - recall_90: 0.4822\n",
      "123/123 [==============================] - 18s 136ms/step - loss: 3.2689 - accuracy: 0.6008 - precision_91: 0.7852 - recall_91: 0.5007\n",
      "123/123 [==============================] - 19s 141ms/step - loss: 4.0495 - accuracy: 0.6250 - precision_92: 0.8335 - recall_92: 0.5102\n",
      "123/123 [==============================] - 18s 136ms/step - loss: 3.4346 - accuracy: 0.6246 - precision_93: 0.8008 - recall_93: 0.5253\n",
      "123/123 [==============================] - 18s 137ms/step - loss: 1.3140 - accuracy: 0.7346 - precision_94: 0.8747 - recall_94: 0.6732\n",
      "123/123 [==============================] - 18s 131ms/step - loss: 1.2888 - accuracy: 0.6403 - precision_95: 0.9534 - recall_95: 0.4752\n",
      "123/123 [==============================] - 17s 130ms/step - loss: 1.1321 - accuracy: 0.6983 - precision_96: 0.8712 - recall_96: 0.6100\n",
      "123/123 [==============================] - 17s 127ms/step - loss: 1.1131 - accuracy: 0.7363 - precision_97: 0.9878 - recall_97: 0.5636\n",
      "123/123 [==============================] - 17s 125ms/step - loss: 0.8460 - accuracy: 0.7731 - precision_98: 0.9626 - recall_98: 0.6409\n",
      "123/123 [==============================] - 16s 124ms/step - loss: 0.6504 - accuracy: 0.8402 - precision_99: 0.9710 - recall_99: 0.6992\n"
     ]
    }
   ],
   "source": [
    "# Metrics using adversarial test\n",
    "evaluate_lsa_0 = []\n",
    "evaluate_dsa_0 = []\n",
    "evaluate_nc_0 = []\n",
    "evaluate_random_0 = []\n",
    "\n",
    "evaluate_lsa_0.append(model_original.evaluate(x_adversary_test_fgsm,y_adversary_test_fgsm))\n",
    "evaluate_dsa_0.append(model_original.evaluate(x_adversary_test_fgsm,y_adversary_test_fgsm))\n",
    "evaluate_nc_0.append(model_original.evaluate(x_adversary_test_fgsm,y_adversary_test_fgsm))\n",
    "evaluate_random_0.append(model_original.evaluate(x_adversary_test_fgsm,y_adversary_test_fgsm))\n",
    "\n",
    "for model in models_lsa:\n",
    "    evaluate_lsa_0.append(model.evaluate(x_adversary_test_fgsm,y_adversary_test_fgsm))\n",
    "    \n",
    "for model in models_dsa:\n",
    "    evaluate_dsa_0.append(model.evaluate(x_adversary_test_fgsm,y_adversary_test_fgsm))\n",
    "    \n",
    "for model in models_random:\n",
    "    evaluate_random_0.append(model.evaluate(x_adversary_test_fgsm,y_adversary_test_fgsm))\n",
    "    \n",
    "for model in models_nc:\n",
    "    evaluate_nc_0.append(model.evaluate(x_adversary_test_fgsm,y_adversary_test_fgsm))"
   ]
  },
  {
   "cell_type": "code",
   "execution_count": 29,
   "id": "11b4b138",
   "metadata": {},
   "outputs": [
    {
     "name": "stdout",
     "output_type": "stream",
     "text": [
      "21\n",
      "21\n",
      "21\n",
      "21\n"
     ]
    }
   ],
   "source": [
    "print(len(evaluate_lsa_0))\n",
    "print(len(evaluate_dsa_0))\n",
    "print(len(evaluate_random_0))\n",
    "print(len(evaluate_nc_0))"
   ]
  },
  {
   "cell_type": "code",
   "execution_count": 33,
   "id": "5a7f22c7",
   "metadata": {},
   "outputs": [
    {
     "name": "stdout",
     "output_type": "stream",
     "text": [
      "123/123 [==============================] - 6s 52ms/step - loss: 2.0570 - accuracy: 0.7836 - precision_1: 0.8982 - recall_1: 0.8518\n",
      "123/123 [==============================] - 6s 50ms/step - loss: 0.7130 - accuracy: 0.8170 - precision_2: 0.9510 - recall_2: 0.8895\n",
      "123/123 [==============================] - 6s 50ms/step - loss: 0.1280 - accuracy: 0.9788 - precision_3: 0.8417 - recall_3: 0.6738\n",
      "123/123 [==============================] - 6s 51ms/step - loss: 4.1282 - accuracy: 0.6304 - precision_4: 0.5978 - recall_4: 0.2943\n"
     ]
    }
   ],
   "source": [
    "evaluate_lsa_5k_1 = []\n",
    "evaluate_dsa_5k_1 = []\n",
    "evaluate_nc_5k_1 = []\n",
    "evaluate_random_5k_1 = []\n",
    "\n",
    "evaluate_lsa_5k_1.append(model_lsa_5000.evaluate(x_test,y_test))\n",
    "evaluate_dsa_5k_1.append(model_dsa_5000.evaluate(x_test,y_test))\n",
    "evaluate_nc_5k_1.append(model_random_5000.evaluate(x_test,y_test))\n",
    "evaluate_random_5k_1.append(model_nc_5000.evaluate(x_test,y_test))"
   ]
  },
  {
   "cell_type": "code",
   "execution_count": 30,
   "id": "1d1c6ec0",
   "metadata": {
    "scrolled": true
   },
   "outputs": [
    {
     "name": "stdout",
     "output_type": "stream",
     "text": [
      "123/123 [==============================] - 16s 127ms/step - loss: 0.0293 - accuracy: 0.9929 - precision_100: 0.4645 - recall_100: 0.2270\n",
      "123/123 [==============================] - 15s 124ms/step - loss: 0.0293 - accuracy: 0.9929 - precision_100: 0.6339 - recall_100: 0.3667\n",
      "123/123 [==============================] - 15s 123ms/step - loss: 0.0293 - accuracy: 0.9929 - precision_100: 0.7208 - recall_100: 0.4631\n",
      "123/123 [==============================] - 15s 123ms/step - loss: 0.0293 - accuracy: 0.9929 - precision_100: 0.7739 - recall_100: 0.5337\n",
      "lsa---\n",
      "123/123 [==============================] - 15s 124ms/step - loss: 0.7120 - accuracy: 0.8669 - precision: 0.8631 - recall: 0.7998\n",
      "123/123 [==============================] - 15s 121ms/step - loss: 0.7695 - accuracy: 0.7910 - precision_1: 0.9315 - recall_1: 0.7581\n",
      "123/123 [==============================] - 15s 121ms/step - loss: 0.6075 - accuracy: 0.8639 - precision_2: 0.9311 - recall_2: 0.8807\n",
      "123/123 [==============================] - 15s 121ms/step - loss: 0.1859 - accuracy: 0.9475 - precision_3: 0.9567 - recall_3: 0.8982\n",
      "123/123 [==============================] - 15s 121ms/step - loss: 0.3000 - accuracy: 0.9202 - precision_4: 0.9560 - recall_4: 0.8930\n",
      "123/123 [==============================] - 15s 121ms/step - loss: 0.1371 - accuracy: 0.9715 - precision_5: 0.9594 - recall_5: 0.9214\n",
      "123/123 [==============================] - 15s 122ms/step - loss: 0.1569 - accuracy: 0.9582 - precision_6: 0.9423 - recall_6: 0.8931\n",
      "123/123 [==============================] - 15s 121ms/step - loss: 0.1637 - accuracy: 0.9562 - precision_7: 0.9598 - recall_7: 0.8515\n",
      "123/123 [==============================] - 15s 121ms/step - loss: 0.0870 - accuracy: 0.9755 - precision_8: 0.9665 - recall_8: 0.8787\n",
      "123/123 [==============================] - 16s 127ms/step - loss: 0.1055 - accuracy: 0.9707 - precision_9: 0.9584 - recall_9: 0.9072\n",
      "123/123 [==============================] - 15s 120ms/step - loss: 0.0685 - accuracy: 0.9814 - precision_10: 0.9715 - recall_10: 0.8969\n",
      "123/123 [==============================] - 15s 120ms/step - loss: 0.0963 - accuracy: 0.9753 - precision_11: 0.9595 - recall_11: 0.8820\n",
      "123/123 [==============================] - 17s 136ms/step - loss: 0.1310 - accuracy: 0.9686 - precision_12: 0.9699 - recall_12: 0.8490\n",
      "123/123 [==============================] - 15s 123ms/step - loss: 0.0620 - accuracy: 0.9860 - precision_13: 0.9595 - recall_13: 0.9097\n",
      "123/123 [==============================] - 15s 121ms/step - loss: 0.1431 - accuracy: 0.9653 - precision_14: 0.9602 - recall_14: 0.8669\n",
      "123/123 [==============================] - 15s 121ms/step - loss: 0.1757 - accuracy: 0.9528 - precision_15: 0.9708 - recall_15: 0.7238\n",
      "123/123 [==============================] - 16s 126ms/step - loss: 0.1236 - accuracy: 0.9773 - precision_16: 0.9562 - recall_16: 0.8788\n",
      "123/123 [==============================] - 15s 121ms/step - loss: 0.0684 - accuracy: 0.9781 - precision_17: 0.9733 - recall_17: 0.8555\n",
      "123/123 [==============================] - 15s 121ms/step - loss: 0.0389 - accuracy: 0.9916 - precision_18: 0.9611 - recall_18: 0.8892\n",
      "123/123 [==============================] - 15s 122ms/step - loss: 0.0325 - accuracy: 0.9929 - precision_19: 0.9660 - recall_19: 0.8463\n",
      "dsa---\n",
      "123/123 [==============================] - 15s 123ms/step - loss: 0.6558 - accuracy: 0.8399 - precision_20: 0.9063 - recall_20: 0.7953\n",
      "123/123 [==============================] - 15s 122ms/step - loss: 0.6851 - accuracy: 0.8532 - precision_21: 0.9329 - recall_21: 0.8765\n",
      "123/123 [==============================] - 15s 121ms/step - loss: 2.3532 - accuracy: 0.8055 - precision_22: 0.9063 - recall_22: 0.8773\n",
      "123/123 [==============================] - 15s 121ms/step - loss: 0.3534 - accuracy: 0.9337 - precision_23: 0.9445 - recall_23: 0.9086\n",
      "123/123 [==============================] - 15s 121ms/step - loss: 0.2137 - accuracy: 0.9477 - precision_24: 0.9564 - recall_24: 0.9228\n",
      "123/123 [==============================] - 15s 121ms/step - loss: 0.1870 - accuracy: 0.9597 - precision_25: 0.9624 - recall_25: 0.9188\n",
      "123/123 [==============================] - 15s 122ms/step - loss: 0.1952 - accuracy: 0.9577 - precision_26: 0.9547 - recall_26: 0.9038\n",
      "123/123 [==============================] - 15s 123ms/step - loss: 0.1340 - accuracy: 0.9763 - precision_27: 0.9696 - recall_27: 0.9122\n",
      "123/123 [==============================] - 15s 121ms/step - loss: 0.1235 - accuracy: 0.9737 - precision_28: 0.9666 - recall_28: 0.8734\n",
      "123/123 [==============================] - 15s 126ms/step - loss: 0.2092 - accuracy: 0.9676 - precision_29: 0.9397 - recall_29: 0.8960\n",
      "123/123 [==============================] - 15s 122ms/step - loss: 0.1319 - accuracy: 0.9709 - precision_30: 0.9583 - recall_30: 0.8770\n",
      "123/123 [==============================] - 15s 121ms/step - loss: 0.1511 - accuracy: 0.9758 - precision_31: 0.9416 - recall_31: 0.8807\n",
      "123/123 [==============================] - 15s 121ms/step - loss: 0.0777 - accuracy: 0.9799 - precision_32: 0.9653 - recall_32: 0.8748\n",
      "123/123 [==============================] - 15s 121ms/step - loss: 0.1070 - accuracy: 0.9730 - precision_33: 0.9654 - recall_33: 0.8678\n",
      "123/123 [==============================] - 15s 122ms/step - loss: 0.0465 - accuracy: 0.9898 - precision_34: 0.9696 - recall_34: 0.8448\n",
      "123/123 [==============================] - 15s 122ms/step - loss: 0.0550 - accuracy: 0.9885 - precision_35: 0.9739 - recall_35: 0.8535\n",
      "123/123 [==============================] - 15s 122ms/step - loss: 0.0621 - accuracy: 0.9883 - precision_36: 0.9667 - recall_36: 0.8832\n",
      "123/123 [==============================] - 15s 122ms/step - loss: 0.0712 - accuracy: 0.9867 - precision_37: 0.9715 - recall_37: 0.8772\n",
      "123/123 [==============================] - 15s 122ms/step - loss: 0.0623 - accuracy: 0.9857 - precision_38: 0.9566 - recall_38: 0.8742\n",
      "123/123 [==============================] - 15s 122ms/step - loss: 0.0338 - accuracy: 0.9959 - precision_39: 0.9648 - recall_39: 0.8770\n",
      "random---\n",
      "123/123 [==============================] - 15s 121ms/step - loss: 0.0794 - accuracy: 0.9865 - precision_40: 0.8881 - recall_40: 0.6328\n",
      "123/123 [==============================] - 15s 122ms/step - loss: 0.0888 - accuracy: 0.9801 - precision_41: 0.8934 - recall_41: 0.6400\n",
      "123/123 [==============================] - 15s 122ms/step - loss: 0.0363 - accuracy: 0.9934 - precision_42: 0.9053 - recall_42: 0.7780\n",
      "123/123 [==============================] - 15s 122ms/step - loss: 0.0576 - accuracy: 0.9918 - precision_43: 0.9037 - recall_43: 0.7919\n",
      "123/123 [==============================] - 15s 121ms/step - loss: 0.0385 - accuracy: 0.9941 - precision_44: 0.9249 - recall_44: 0.8181\n",
      "123/123 [==============================] - 15s 121ms/step - loss: 0.0282 - accuracy: 0.9929 - precision_45: 0.9398 - recall_45: 0.7882\n",
      "123/123 [==============================] - 15s 121ms/step - loss: 0.0296 - accuracy: 0.9944 - precision_46: 0.9457 - recall_46: 0.8236\n",
      "123/123 [==============================] - 15s 120ms/step - loss: 0.0337 - accuracy: 0.9949 - precision_47: 0.9423 - recall_47: 0.8295\n",
      "123/123 [==============================] - 15s 120ms/step - loss: 0.0332 - accuracy: 0.9931 - precision_48: 0.9404 - recall_48: 0.8324\n",
      "123/123 [==============================] - 15s 119ms/step - loss: 0.0502 - accuracy: 0.9898 - precision_49: 0.9387 - recall_49: 0.8284\n",
      "123/123 [==============================] - 15s 123ms/step - loss: 0.0366 - accuracy: 0.9944 - precision_50: 0.9443 - recall_50: 0.8608\n",
      "123/123 [==============================] - 15s 121ms/step - loss: 0.0497 - accuracy: 0.9934 - precision_51: 0.9570 - recall_51: 0.8251\n",
      "123/123 [==============================] - 15s 119ms/step - loss: 0.0455 - accuracy: 0.9901 - precision_52: 0.9642 - recall_52: 0.7861\n",
      "123/123 [==============================] - 15s 120ms/step - loss: 0.0488 - accuracy: 0.9931 - precision_53: 0.9535 - recall_53: 0.8761\n",
      "123/123 [==============================] - 15s 120ms/step - loss: 0.0498 - accuracy: 0.9929 - precision_54: 0.9567 - recall_54: 0.8729\n",
      "123/123 [==============================] - 15s 121ms/step - loss: 0.0411 - accuracy: 0.9926 - precision_55: 0.9728 - recall_55: 0.8513\n",
      "123/123 [==============================] - 15s 119ms/step - loss: 0.0376 - accuracy: 0.9916 - precision_56: 0.9730 - recall_56: 0.8172\n",
      "123/123 [==============================] - 15s 119ms/step - loss: 0.0415 - accuracy: 0.9908 - precision_57: 0.9814 - recall_57: 0.8253\n",
      "123/123 [==============================] - 15s 120ms/step - loss: 0.0469 - accuracy: 0.9934 - precision_58: 0.9685 - recall_58: 0.8358\n",
      "123/123 [==============================] - 15s 121ms/step - loss: 0.0526 - accuracy: 0.9921 - precision_59: 0.9476 - recall_59: 0.8982\n",
      "nc---\n",
      "123/123 [==============================] - 15s 120ms/step - loss: 0.7171 - accuracy: 0.8983 - precision_80: 0.6249 - recall_80: 0.4014\n",
      "123/123 [==============================] - 15s 120ms/step - loss: 4.8005 - accuracy: 0.6046 - precision_81: 0.5061 - recall_81: 0.3161\n",
      "123/123 [==============================] - 15s 121ms/step - loss: 9.3490 - accuracy: 0.5978 - precision_82: 0.5415 - recall_82: 0.3803\n",
      "123/123 [==============================] - 15s 119ms/step - loss: 7.6236 - accuracy: 0.6153 - precision_83: 0.7284 - recall_83: 0.3921\n",
      "123/123 [==============================] - 15s 120ms/step - loss: 10.5594 - accuracy: 0.6220 - precision_84: 0.7144 - recall_84: 0.4159\n",
      "123/123 [==============================] - 15s 120ms/step - loss: 9.2604 - accuracy: 0.6490 - precision_85: 0.7400 - recall_85: 0.4149\n",
      "123/123 [==============================] - 15s 120ms/step - loss: 6.2499 - accuracy: 0.6666 - precision_86: 0.8447 - recall_86: 0.3974\n",
      "123/123 [==============================] - 15s 121ms/step - loss: 9.9685 - accuracy: 0.7168 - precision_87: 0.7605 - recall_87: 0.4689\n",
      "123/123 [==============================] - 15s 120ms/step - loss: 7.8416 - accuracy: 0.7543 - precision_88: 0.7738 - recall_88: 0.5139\n",
      "123/123 [==============================] - 15s 120ms/step - loss: 8.5545 - accuracy: 0.8244 - precision_89: 0.8398 - recall_89: 0.5293\n",
      "123/123 [==============================] - 15s 119ms/step - loss: 6.4914 - accuracy: 0.8246 - precision_90: 0.8433 - recall_90: 0.5659\n",
      "123/123 [==============================] - 15s 120ms/step - loss: 7.3817 - accuracy: 0.8506 - precision_91: 0.8511 - recall_91: 0.6211\n",
      "123/123 [==============================] - 15s 120ms/step - loss: 5.9370 - accuracy: 0.8476 - precision_92: 0.8907 - recall_92: 0.5947\n",
      "123/123 [==============================] - 15s 121ms/step - loss: 3.4823 - accuracy: 0.8756 - precision_93: 0.8869 - recall_93: 0.6453\n",
      "123/123 [==============================] - 15s 120ms/step - loss: 3.2455 - accuracy: 0.9047 - precision_94: 0.8815 - recall_94: 0.7259\n",
      "123/123 [==============================] - 15s 122ms/step - loss: 1.3193 - accuracy: 0.9513 - precision_95: 0.9541 - recall_95: 0.6277\n",
      "123/123 [==============================] - 15s 121ms/step - loss: 1.4275 - accuracy: 0.9513 - precision_96: 0.9098 - recall_96: 0.7323\n",
      "123/123 [==============================] - 15s 120ms/step - loss: 0.6641 - accuracy: 0.9610 - precision_97: 0.9779 - recall_97: 0.6635\n",
      "123/123 [==============================] - 15s 119ms/step - loss: 0.1194 - accuracy: 0.9816 - precision_98: 0.9683 - recall_98: 0.7751\n",
      "123/123 [==============================] - 15s 121ms/step - loss: 0.0411 - accuracy: 0.9924 - precision_99: 0.9809 - recall_99: 0.8050\n"
     ]
    }
   ],
   "source": [
    "# Metrics using original test\n",
    "evaluate_lsa_1 = []\n",
    "evaluate_dsa_1 = []\n",
    "evaluate_nc_1 = []\n",
    "evaluate_random_1 = []\n",
    "\n",
    "evaluate_lsa_1.append(model_original.evaluate(x_test,y_test))\n",
    "evaluate_dsa_1.append(model_original.evaluate(x_test,y_test))\n",
    "evaluate_nc_1.append(model_original.evaluate(x_test,y_test))\n",
    "evaluate_random_1.append(model_original.evaluate(x_test,y_test))\n",
    "print(\"lsa---\")\n",
    "for model in models_lsa:\n",
    "    evaluate_lsa_1.append(model.evaluate(x_test,y_test))\n",
    "\n",
    "print(\"dsa---\")\n",
    "    \n",
    "for model in models_dsa:\n",
    "    evaluate_dsa_1.append(model.evaluate(x_test,y_test))\n",
    "    \n",
    "\n",
    "print(\"random---\")\n",
    "\n",
    "for model in models_random:\n",
    "    evaluate_random_1.append(model.evaluate(x_test,y_test))\n",
    "    \n",
    "print(\"nc---\")\n",
    "\n",
    "for model in models_nc:\n",
    "    evaluate_nc_1.append(model.evaluate(x_test,y_test))\n"
   ]
  },
  {
   "cell_type": "code",
   "execution_count": 34,
   "id": "85dd3308",
   "metadata": {},
   "outputs": [
    {
     "name": "stdout",
     "output_type": "stream",
     "text": [
      "21\n",
      "21\n",
      "21\n",
      "21\n"
     ]
    }
   ],
   "source": [
    "\n",
    "print(len(evaluate_lsa_1))\n",
    "print(len(evaluate_dsa_1))\n",
    "print(len(evaluate_random_1))\n",
    "print(len(evaluate_nc_1))"
   ]
  },
  {
   "cell_type": "code",
   "execution_count": 34,
   "id": "9d2b7d1f",
   "metadata": {},
   "outputs": [],
   "source": [
    "import pandas as pd\n",
    "\n",
    "df_evaluate_lsa_5k_0 = pd.DataFrame(np.array(evaluate_lsa_5k_0),columns=[\"loss\",\"accuracy\",\"precision\",\"recall\"])\n",
    "df_evaluate_lsa_5k_1 = pd.DataFrame(np.array(evaluate_lsa_5k_1),columns=[\"loss\",\"accuracy\",\"precision\",\"recall\"])\n",
    "df_evaluate_dsa_5k_0 = pd.DataFrame(np.array(evaluate_dsa_5k_0),columns=[\"loss\",\"accuracy\",\"precision\",\"recall\"])\n",
    "df_evaluate_dsa_5k_1 = pd.DataFrame(np.array(evaluate_dsa_5k_1),columns=[\"loss\",\"accuracy\",\"precision\",\"recall\"])\n",
    "\n",
    "df_evaluate_random_5k_0 = pd.DataFrame(np.array(evaluate_random_5k_0),columns=[\"loss\",\"accuracy\",\"precision\",\"recall\"])\n",
    "df_evaluate_random_5k_1 = pd.DataFrame(np.array(evaluate_random_5k_1),columns=[\"loss\",\"accuracy\",\"precision\",\"recall\"])\n",
    "df_evaluate_nc_5k_0 = pd.DataFrame(np.array(evaluate_nc_5k_0),columns=[\"loss\",\"accuracy\",\"precision\",\"recall\"])\n",
    "df_evaluate_nc_5k_1 = pd.DataFrame(np.array(evaluate_nc_5k_1),columns=[\"loss\",\"accuracy\",\"precision\",\"recall\"])\n"
   ]
  },
  {
   "cell_type": "code",
   "execution_count": 32,
   "id": "8c45b340",
   "metadata": {},
   "outputs": [],
   "source": [
    "import pandas as pd\n",
    "\n",
    "df_evaluate_lsa_0 = pd.DataFrame(np.array(evaluate_lsa_0),columns=[\"loss\",\"accuracy\",\"precision\",\"recall\"])\n",
    "df_evaluate_lsa_1 = pd.DataFrame(np.array(evaluate_lsa_1),columns=[\"loss\",\"accuracy\",\"precision\",\"recall\"])\n",
    "df_evaluate_dsa_0 = pd.DataFrame(np.array(evaluate_dsa_0),columns=[\"loss\",\"accuracy\",\"precision\",\"recall\"])\n",
    "df_evaluate_dsa_1 = pd.DataFrame(np.array(evaluate_dsa_1),columns=[\"loss\",\"accuracy\",\"precision\",\"recall\"])\n",
    "\n",
    "df_evaluate_random_0 = pd.DataFrame(np.array(evaluate_random_0),columns=[\"loss\",\"accuracy\",\"precision\",\"recall\"])\n",
    "df_evaluate_random_1 = pd.DataFrame(np.array(evaluate_random_1),columns=[\"loss\",\"accuracy\",\"precision\",\"recall\"])\n",
    "df_evaluate_nc_0 = pd.DataFrame(np.array(evaluate_nc_0),columns=[\"loss\",\"accuracy\",\"precision\",\"recall\"])\n",
    "df_evaluate_nc_1 = pd.DataFrame(np.array(evaluate_nc_1),columns=[\"loss\",\"accuracy\",\"precision\",\"recall\"])\n"
   ]
  },
  {
   "cell_type": "code",
   "execution_count": 35,
   "id": "a895aed3",
   "metadata": {},
   "outputs": [],
   "source": [
    "# Original test set + adversarial set\n",
    "\n",
    "metric =\"accuracy\"\n",
    "accuracy_c3_lsa_5k_3 = (np.array(df_evaluate_lsa_5k_0[metric])+np.array(df_evaluate_lsa_5k_1[metric]))/2\n",
    "accuracy_c3_dsa_5k_3 = (np.array(df_evaluate_dsa_5k_0[metric])+np.array(df_evaluate_dsa_5k_1[metric]))/2\n",
    "accuracy_c3_nc_5k_3 = (np.array(df_evaluate_nc_5k_0[metric])+np.array(df_evaluate_nc_5k_1[metric]))/2\n",
    "accuracy_c3_random_5k_3 = (np.array(df_evaluate_random_5k_0[metric])+np.array(df_evaluate_random_5k_1[metric]))/2\n"
   ]
  },
  {
   "cell_type": "code",
   "execution_count": 33,
   "id": "5fbac3f0",
   "metadata": {},
   "outputs": [],
   "source": [
    "# Original test set + adversarial set\n",
    "\n",
    "metric =\"accuracy\"\n",
    "accuracy_lsa_3 = (np.array(df_evaluate_lsa_0[metric])+np.array(df_evaluate_lsa_1[metric]))/2\n",
    "accuracy_dsa_3 = (np.array(df_evaluate_dsa_0[metric])+np.array(df_evaluate_dsa_1[metric]))/2\n",
    "accuracy_nc_3 = (np.array(df_evaluate_nc_0[metric])+np.array(df_evaluate_nc_1[metric]))/2\n",
    "accuracy_random_3 = (np.array(df_evaluate_random_0[metric])+np.array(df_evaluate_random_1[metric]))/2\n"
   ]
  },
  {
   "cell_type": "code",
   "execution_count": 36,
   "id": "311ce33d",
   "metadata": {},
   "outputs": [
    {
     "name": "stdout",
     "output_type": "stream",
     "text": [
      "[0.83889881]\n",
      "[0.8770074]\n",
      "[0.64211065]\n",
      "[0.61445323]\n"
     ]
    }
   ],
   "source": [
    "print(accuracy_c3_lsa_5k_3)\n",
    "print(accuracy_c3_dsa_5k_3)\n",
    "print(accuracy_c3_random_5k_3)\n",
    "print(accuracy_c3_nc_5k_3)\n"
   ]
  },
  {
   "cell_type": "markdown",
   "id": "c0edc866",
   "metadata": {},
   "source": [
    "## Charts"
   ]
  },
  {
   "cell_type": "code",
   "execution_count": 35,
   "id": "db32b23d",
   "metadata": {},
   "outputs": [],
   "source": [
    "n_inputs = [1800*i for i in range(20)]\n",
    "n_inputs.append(len(x_train_and_adversary))"
   ]
  },
  {
   "cell_type": "code",
   "execution_count": 36,
   "id": "0e5d823a",
   "metadata": {},
   "outputs": [
    {
     "name": "stdout",
     "output_type": "stream",
     "text": [
      "[0, 1800, 3600, 5400, 7200, 9000, 10800, 12600, 14400, 16200, 18000, 19800, 21600, 23400, 25200, 27000, 28800, 30600, 32400, 34200, 36366]\n"
     ]
    }
   ],
   "source": [
    "print(n_inputs)"
   ]
  },
  {
   "cell_type": "code",
   "execution_count": 39,
   "id": "4feb0d30",
   "metadata": {},
   "outputs": [
    {
     "name": "stdout",
     "output_type": "stream",
     "text": [
      "C:\\Users\\fjdur\\Desktop\\gtsrb_graphs\\e2_graphs_dec\n"
     ]
    }
   ],
   "source": [
    "cd \"C:/Users/fjdur/Desktop/gtsrb_graphs/e2_graphs_dec\""
   ]
  },
  {
   "cell_type": "code",
   "execution_count": 68,
   "id": "9443d46d",
   "metadata": {},
   "outputs": [],
   "source": [
    "linestyles = ['solid','dotted','dashed','dashdot']\n",
    "colors =['k','k','k','k']"
   ]
  },
  {
   "cell_type": "code",
   "execution_count": 69,
   "id": "fde130ed",
   "metadata": {},
   "outputs": [
    {
     "data": {
      "image/png": "[encoded data removed]",
      "text/plain": [
       "<Figure size 432x288 with 1 Axes>"
      ]
     },
     "metadata": {
      "needs_background": "light"
     },
     "output_type": "display_data"
    },
    {
     "data": {
      "image/png": "[encoded data removed]",
      "text/plain": [
       "<Figure size 432x288 with 1 Axes>"
      ]
     },
     "metadata": {
      "needs_background": "light"
     },
     "output_type": "display_data"
    },
    {
     "data": {
      "image/png": "[encoded data removed]",
      "text/plain": [
       "<Figure size 432x288 with 1 Axes>"
      ]
     },
     "metadata": {
      "needs_background": "light"
     },
     "output_type": "display_data"
    },
    {
     "data": {
      "image/png": "[encoded data removed]",
      "text/plain": [
       "<Figure size 432x288 with 1 Axes>"
      ]
     },
     "metadata": {
      "needs_background": "light"
     },
     "output_type": "display_data"
    }
   ],
   "source": [
    "#configuration 2\n",
    "\n",
    "import matplotlib.pyplot as plt\n",
    "import matplotlib.patches as mpatches\n",
    "from matplotlib.patches import Patch\n",
    "from matplotlib.lines import Line2D\n",
    "\n",
    "#metric = \"accuracy\" # accuracy loss\n",
    "my_metrics =[\"accuracy\",\"loss\",\"precision\",\"recall\"]\n",
    "\n",
    "for metric in my_metrics:\n",
    "    plt.clf()\n",
    "    plt.plot(n_inputs,df_evaluate_lsa_0[metric],colors[0],linestyle=linestyles[0])\n",
    "    plt.plot(n_inputs,df_evaluate_dsa_0[metric],colors[1],linestyle=linestyles[1])\n",
    "    plt.plot(n_inputs,df_evaluate_random_0[metric],colors[2],linestyle=linestyles[2])\n",
    "    plt.plot(n_inputs,df_evaluate_nc_0[metric],colors[3],linestyle=linestyles[3])\n",
    "\n",
    "\n",
    "    legend_elements = [Line2D([0], [0], color='k', label='LSA',ls = linestyles[0]),\n",
    "                   Line2D([0], [0], color='k', label='DSA',ls = linestyles[1]),\n",
    "                   Line2D([0], [0], color='k', label='Random',ls = linestyles[2]),\n",
    "                   Line2D([0], [0], color='k', label='NC',ls = linestyles[3])]\n",
    "\n",
    "\n",
    "\n",
    "    plt.legend(handles=legend_elements)#\n",
    "\n",
    "    plt.title(metric + \" with test set of adversarial examples FGSM\")\n",
    "    plt.xlim([0, 37000])\n",
    "    #plt.ylim([0, 1])\n",
    "    plt.xlabel('number of inputs')\n",
    "    plt.ylabel(metric)\n",
    "    plt.savefig(\"gtsrb_c2_\"+metric + \"_0.svg\")\n",
    "    plt.show()"
   ]
  },
  {
   "cell_type": "code",
   "execution_count": 70,
   "id": "38563782",
   "metadata": {},
   "outputs": [
    {
     "data": {
      "image/png": "[encoded data removed]",
      "text/plain": [
       "<Figure size 432x288 with 1 Axes>"
      ]
     },
     "metadata": {
      "needs_background": "light"
     },
     "output_type": "display_data"
    },
    {
     "data": {
      "image/png": "[encoded data removed]",
      "text/plain": [
       "<Figure size 432x288 with 1 Axes>"
      ]
     },
     "metadata": {
      "needs_background": "light"
     },
     "output_type": "display_data"
    },
    {
     "data": {
      "image/png": "[encoded data removed]",
      "text/plain": [
       "<Figure size 432x288 with 1 Axes>"
      ]
     },
     "metadata": {
      "needs_background": "light"
     },
     "output_type": "display_data"
    },
    {
     "data": {
      "image/png": "[encoded data removed]",
      "text/plain": [
       "<Figure size 432x288 with 1 Axes>"
      ]
     },
     "metadata": {
      "needs_background": "light"
     },
     "output_type": "display_data"
    }
   ],
   "source": [
    "#configuration 2\n",
    "\n",
    "import matplotlib.pyplot as plt\n",
    "import matplotlib.patches as mpatches\n",
    "\n",
    "my_metrics =[\"accuracy\",\"loss\",\"precision\",\"recall\"]\n",
    "\n",
    "for metric in my_metrics:\n",
    "    \n",
    "#metric = \"accuracy\" # accuracy loss\n",
    "    plt.clf()\n",
    "    plt.plot(n_inputs,df_evaluate_lsa_1[metric],colors[0],linestyle=linestyles[0])\n",
    "    plt.plot(n_inputs,df_evaluate_dsa_1[metric],colors[1],linestyle=linestyles[1])\n",
    "    plt.plot(n_inputs,df_evaluate_random_1[metric],colors[2],linestyle=linestyles[2])\n",
    "    plt.plot(n_inputs,df_evaluate_nc_1[metric],colors[3],linestyle=linestyles[3])\n",
    "\n",
    "    legend_elements = [Line2D([0], [0], color='k', label='LSA',ls = linestyles[0]),\n",
    "                   Line2D([0], [0], color='k', label='DSA',ls = linestyles[1]),\n",
    "                   Line2D([0], [0], color='k', label='Random',ls = linestyles[2]),\n",
    "                   Line2D([0], [0], color='k', label='NC',ls = linestyles[3])]\n",
    "\n",
    "\n",
    "\n",
    "    plt.legend(handles=legend_elements)#\n",
    "    plt.xlim([0, 37000])\n",
    "    #plt.ylim([0, 1])\n",
    "    plt.xlabel('number of inputs')\n",
    "    plt.ylabel(metric)\n",
    "    plt.savefig(\"gtsrb_c2_\"+metric + \"_1.svg\")\n",
    "    plt.show()"
   ]
  },
  {
   "cell_type": "code",
   "execution_count": 50,
   "id": "0dd390be",
   "metadata": {},
   "outputs": [],
   "source": []
  },
  {
   "cell_type": "code",
   "execution_count": 67,
   "id": "884a1d99",
   "metadata": {
    "scrolled": true
   },
   "outputs": [
    {
     "name": "stdout",
     "output_type": "stream",
     "text": [
      "10800 0.9496558904647827\n",
      "14400 0.9529696404933929\n",
      "36366 0.9361457824707031\n",
      "36366 0.9267142415046692\n"
     ]
    },
    {
     "data": {
      "image/png": "[encoded data removed]",
      "text/plain": [
       "<Figure size 432x288 with 1 Axes>"
      ]
     },
     "metadata": {
      "needs_background": "light"
     },
     "output_type": "display_data"
    }
   ],
   "source": [
    "\n",
    "import matplotlib.pyplot as plt\n",
    "import matplotlib.patches as mpatches\n",
    "\n",
    "\n",
    "\n",
    "plt.plot(n_inputs,accuracy_lsa_3,colors[0],linestyle=linestyles[0])\n",
    "plt.plot(n_inputs,accuracy_dsa_3,colors[1],linestyle=linestyles[1])\n",
    "plt.plot(n_inputs,accuracy_random_3,colors[2],linestyle=linestyles[2])\n",
    "plt.plot(n_inputs,accuracy_nc_3,colors[3],linestyle=linestyles[3])\n",
    "\n",
    "\n",
    "legend_elements = [Line2D([0], [0], color='k', label='LSA',ls = linestyles[0]),\n",
    "                   Line2D([0], [0], color='k', label='DSA',ls = linestyles[1]),\n",
    "                   Line2D([0], [0], color='k', label='Random',ls = linestyles[2]),\n",
    "                   Line2D([0], [0], color='k', label='NC',ls = linestyles[3])]\n",
    "\n",
    "\n",
    "\n",
    "plt.legend(handles=legend_elements)#\n",
    "plt.title(\"accuracy with both sets\")\n",
    "\n",
    "print(n_inputs[np.argmax(accuracy_lsa_3)],accuracy_lsa_3.max())\n",
    "print(n_inputs[np.argmax(accuracy_dsa_3)],accuracy_dsa_3.max())\n",
    "print(n_inputs[np.argmax(accuracy_random_3)],accuracy_random_3.max())\n",
    "print(n_inputs[np.argmax(accuracy_nc_3)],accuracy_nc_3.max())\n",
    "\n",
    "plt.plot(n_inputs[np.argmax(accuracy_lsa_3)],accuracy_lsa_3.max(),'-kD')\n",
    "plt.plot(n_inputs[np.argmax(accuracy_dsa_3)],accuracy_dsa_3.max(),'-ko')\n",
    "plt.plot(n_inputs[np.argmax(accuracy_random_3)],accuracy_random_3.max(),'-kv')\n",
    "plt.plot(n_inputs[np.argmax(accuracy_nc_3)],accuracy_nc_3.max(),'-kp')\n",
    "\n",
    "plt.xlabel('number of inputs')\n",
    "plt.ylabel('accuracy')\n",
    "plt.xlim([0, 37000])\n",
    "#plt.ylim([0, 1])\n",
    "\n",
    "plt.savefig(\"gtsrb_c2_\"+\"accuracy\" + \"_both.svg\")\n",
    "\n",
    "plt.show()"
   ]
  },
  {
   "cell_type": "code",
   "execution_count": 49,
   "id": "c4241c8c",
   "metadata": {},
   "outputs": [
    {
     "data": {
      "text/plain": [
       "5400"
      ]
     },
     "execution_count": 49,
     "metadata": {},
     "output_type": "execute_result"
    }
   ],
   "source": [
    "n_inputs[3]"
   ]
  },
  {
   "cell_type": "code",
   "execution_count": 53,
   "id": "34f74ffe",
   "metadata": {},
   "outputs": [
    {
     "name": "stdout",
     "output_type": "stream",
     "text": [
      "5400 0.8961254060268402\n",
      "5400 0.8712719976902008\n",
      "5400 0.4333418160676956\n",
      "5400 0.8659189641475677\n"
     ]
    }
   ],
   "source": [
    "print(n_inputs[3],accuracy_c3_lsa_3[3])\n",
    "print(n_inputs[3],accuracy_c3_dsa_3[3])\n",
    "print(n_inputs[3],accuracy_c3_nc_3[3])\n",
    "print(n_inputs[3],accuracy_c3_random_3[3])\n",
    "\n",
    "\n"
   ]
  },
  {
   "cell_type": "code",
   "execution_count": 37,
   "id": "a776ca12",
   "metadata": {},
   "outputs": [
    {
     "name": "stdout",
     "output_type": "stream",
     "text": [
      "[0.83889881]\n",
      "[0.8770074]\n",
      "[0.64211065]\n",
      "[0.61445323]\n"
     ]
    }
   ],
   "source": [
    "print(accuracy_c3_lsa_5k_3)\n",
    "print(accuracy_c3_dsa_5k_3)\n",
    "print(accuracy_c3_random_5k_3)\n",
    "print(accuracy_c3_nc_5k_3)\n",
    "\n",
    "\n"
   ]
  },
  {
   "cell_type": "markdown",
   "id": "02c81771",
   "metadata": {},
   "source": [
    "## Saving models"
   ]
  },
  {
   "cell_type": "code",
   "execution_count": 63,
   "id": "518076aa",
   "metadata": {},
   "outputs": [
    {
     "name": "stdout",
     "output_type": "stream",
     "text": [
      "INFO:tensorflow:Assets written to: D:/models/gtsrb/C3/gtsrb_model_c3_sep_lsa_e2_5000\\assets\n",
      "Model has been saved\n"
     ]
    }
   ],
   "source": [
    "model_lsa_dir_5000  = \"D:/models/gtsrb/C3/gtsrb_model_c3_sep_lsa_e2_5000\"\n",
    "\n",
    "model_lsa_5000.save(model_lsa_dir_5000)"
   ]
  },
  {
   "cell_type": "code",
   "execution_count": 25,
   "id": "d21aab01",
   "metadata": {},
   "outputs": [
    {
     "name": "stdout",
     "output_type": "stream",
     "text": [
      "INFO:tensorflow:Assets written to: D:/models/gtsrb/C3/gtsrb_model_c3_sep_dsa_e2_5000\\assets\n",
      "Model has been saved\n"
     ]
    }
   ],
   "source": [
    "model_dsa_dir_5000  = \"D:/models/gtsrb/C3/gtsrb_model_c3_sep_dsa_e2_5000\"\n",
    "\n",
    "model_dsa_5000.save(model_dsa_dir_5000)"
   ]
  },
  {
   "cell_type": "code",
   "execution_count": 26,
   "id": "146f76bc",
   "metadata": {},
   "outputs": [
    {
     "name": "stdout",
     "output_type": "stream",
     "text": [
      "INFO:tensorflow:Assets written to: D:/models/gtsrb/C3/gtsrb_model_c3_sep_random_e2_5000\\assets\n",
      "Model has been saved\n"
     ]
    }
   ],
   "source": [
    "model_random_dir_5000  = \"D:/models/gtsrb/C3/gtsrb_model_c3_sep_random_e2_5000\"\n",
    "\n",
    "model_random_5000.save(model_random_dir_5000)"
   ]
  },
  {
   "cell_type": "code",
   "execution_count": 27,
   "id": "22b9276b",
   "metadata": {},
   "outputs": [
    {
     "name": "stdout",
     "output_type": "stream",
     "text": [
      "INFO:tensorflow:Assets written to: D:/models/gtsrb/C3/gtsrb_model_c3_sep_nc_e2_5000\\assets\n",
      "Model has been saved\n"
     ]
    }
   ],
   "source": [
    "model_nc_dir_5000  = \"D:/models/gtsrb/C3/gtsrb_model_c3_sep_nc_e2_5000\"\n",
    "\n",
    "model_nc_5000.save(model_nc_dir_5000)"
   ]
  },
  {
   "cell_type": "code",
   "execution_count": 15,
   "id": "3e45f8c2",
   "metadata": {},
   "outputs": [
    {
     "name": "stdout",
     "output_type": "stream",
     "text": [
      "INFO:tensorflow:Assets written to: D:/models/gtsrb_models/C2/gtsrb_model_c2_sep_lsa_e2_0\\assets\n",
      "Model has been saved\n",
      "INFO:tensorflow:Assets written to: D:/models/gtsrb_models/C2/gtsrb_model_c2_sep_lsa_e2_1\\assets\n",
      "Model has been saved\n",
      "INFO:tensorflow:Assets written to: D:/models/gtsrb_models/C2/gtsrb_model_c2_sep_lsa_e2_2\\assets\n",
      "Model has been saved\n",
      "INFO:tensorflow:Assets written to: D:/models/gtsrb_models/C2/gtsrb_model_c2_sep_lsa_e2_3\\assets\n",
      "Model has been saved\n",
      "INFO:tensorflow:Assets written to: D:/models/gtsrb_models/C2/gtsrb_model_c2_sep_lsa_e2_4\\assets\n",
      "Model has been saved\n",
      "INFO:tensorflow:Assets written to: D:/models/gtsrb_models/C2/gtsrb_model_c2_sep_lsa_e2_5\\assets\n",
      "Model has been saved\n",
      "INFO:tensorflow:Assets written to: D:/models/gtsrb_models/C2/gtsrb_model_c2_sep_lsa_e2_6\\assets\n",
      "Model has been saved\n",
      "INFO:tensorflow:Assets written to: D:/models/gtsrb_models/C2/gtsrb_model_c2_sep_lsa_e2_7\\assets\n",
      "Model has been saved\n",
      "INFO:tensorflow:Assets written to: D:/models/gtsrb_models/C2/gtsrb_model_c2_sep_lsa_e2_8\\assets\n",
      "Model has been saved\n",
      "INFO:tensorflow:Assets written to: D:/models/gtsrb_models/C2/gtsrb_model_c2_sep_lsa_e2_9\\assets\n",
      "Model has been saved\n",
      "INFO:tensorflow:Assets written to: D:/models/gtsrb_models/C2/gtsrb_model_c2_sep_lsa_e2_10\\assets\n",
      "Model has been saved\n",
      "INFO:tensorflow:Assets written to: D:/models/gtsrb_models/C2/gtsrb_model_c2_sep_lsa_e2_11\\assets\n",
      "Model has been saved\n",
      "INFO:tensorflow:Assets written to: D:/models/gtsrb_models/C2/gtsrb_model_c2_sep_lsa_e2_12\\assets\n",
      "Model has been saved\n",
      "INFO:tensorflow:Assets written to: D:/models/gtsrb_models/C2/gtsrb_model_c2_sep_lsa_e2_13\\assets\n",
      "Model has been saved\n",
      "INFO:tensorflow:Assets written to: D:/models/gtsrb_models/C2/gtsrb_model_c2_sep_lsa_e2_14\\assets\n",
      "Model has been saved\n",
      "INFO:tensorflow:Assets written to: D:/models/gtsrb_models/C2/gtsrb_model_c2_sep_lsa_e2_15\\assets\n",
      "Model has been saved\n",
      "INFO:tensorflow:Assets written to: D:/models/gtsrb_models/C2/gtsrb_model_c2_sep_lsa_e2_16\\assets\n",
      "Model has been saved\n",
      "INFO:tensorflow:Assets written to: D:/models/gtsrb_models/C2/gtsrb_model_c2_sep_lsa_e2_17\\assets\n",
      "Model has been saved\n",
      "INFO:tensorflow:Assets written to: D:/models/gtsrb_models/C2/gtsrb_model_c2_sep_lsa_e2_18\\assets\n",
      "Model has been saved\n",
      "INFO:tensorflow:Assets written to: D:/models/gtsrb_models/C2/gtsrb_model_c2_sep_lsa_e2_19\\assets\n",
      "Model has been saved\n"
     ]
    }
   ],
   "source": [
    "new_model_lsa_dir  = \"D:/models/gtsrb_models/C2/gtsrb_model_c2_sep_lsa_e2\"\n",
    "i=0\n",
    "\n",
    "for model in models_lsa:\n",
    "    model.save(new_model_lsa_dir+\"_\"+str(i))\n",
    "    i+=1"
   ]
  },
  {
   "cell_type": "code",
   "execution_count": 18,
   "id": "a27e332d",
   "metadata": {},
   "outputs": [
    {
     "name": "stdout",
     "output_type": "stream",
     "text": [
      "INFO:tensorflow:Assets written to: D:/models/gtsrb_models/C2/gtsrb_model_c2_sep_dsa_e2_0\\assets\n",
      "Model has been saved\n",
      "INFO:tensorflow:Assets written to: D:/models/gtsrb_models/C2/gtsrb_model_c2_sep_dsa_e2_1\\assets\n",
      "Model has been saved\n",
      "INFO:tensorflow:Assets written to: D:/models/gtsrb_models/C2/gtsrb_model_c2_sep_dsa_e2_2\\assets\n",
      "Model has been saved\n",
      "INFO:tensorflow:Assets written to: D:/models/gtsrb_models/C2/gtsrb_model_c2_sep_dsa_e2_3\\assets\n",
      "Model has been saved\n",
      "INFO:tensorflow:Assets written to: D:/models/gtsrb_models/C2/gtsrb_model_c2_sep_dsa_e2_4\\assets\n",
      "Model has been saved\n",
      "INFO:tensorflow:Assets written to: D:/models/gtsrb_models/C2/gtsrb_model_c2_sep_dsa_e2_5\\assets\n",
      "Model has been saved\n",
      "INFO:tensorflow:Assets written to: D:/models/gtsrb_models/C2/gtsrb_model_c2_sep_dsa_e2_6\\assets\n",
      "Model has been saved\n",
      "INFO:tensorflow:Assets written to: D:/models/gtsrb_models/C2/gtsrb_model_c2_sep_dsa_e2_7\\assets\n",
      "Model has been saved\n",
      "INFO:tensorflow:Assets written to: D:/models/gtsrb_models/C2/gtsrb_model_c2_sep_dsa_e2_8\\assets\n",
      "Model has been saved\n",
      "INFO:tensorflow:Assets written to: D:/models/gtsrb_models/C2/gtsrb_model_c2_sep_dsa_e2_9\\assets\n",
      "Model has been saved\n",
      "INFO:tensorflow:Assets written to: D:/models/gtsrb_models/C2/gtsrb_model_c2_sep_dsa_e2_10\\assets\n",
      "Model has been saved\n",
      "INFO:tensorflow:Assets written to: D:/models/gtsrb_models/C2/gtsrb_model_c2_sep_dsa_e2_11\\assets\n",
      "Model has been saved\n",
      "INFO:tensorflow:Assets written to: D:/models/gtsrb_models/C2/gtsrb_model_c2_sep_dsa_e2_12\\assets\n",
      "Model has been saved\n",
      "INFO:tensorflow:Assets written to: D:/models/gtsrb_models/C2/gtsrb_model_c2_sep_dsa_e2_13\\assets\n",
      "Model has been saved\n",
      "INFO:tensorflow:Assets written to: D:/models/gtsrb_models/C2/gtsrb_model_c2_sep_dsa_e2_14\\assets\n",
      "Model has been saved\n",
      "INFO:tensorflow:Assets written to: D:/models/gtsrb_models/C2/gtsrb_model_c2_sep_dsa_e2_15\\assets\n",
      "Model has been saved\n",
      "INFO:tensorflow:Assets written to: D:/models/gtsrb_models/C2/gtsrb_model_c2_sep_dsa_e2_16\\assets\n",
      "Model has been saved\n",
      "INFO:tensorflow:Assets written to: D:/models/gtsrb_models/C2/gtsrb_model_c2_sep_dsa_e2_17\\assets\n",
      "Model has been saved\n",
      "INFO:tensorflow:Assets written to: D:/models/gtsrb_models/C2/gtsrb_model_c2_sep_dsa_e2_18\\assets\n",
      "Model has been saved\n",
      "INFO:tensorflow:Assets written to: D:/models/gtsrb_models/C2/gtsrb_model_c2_sep_dsa_e2_19\\assets\n",
      "Model has been saved\n"
     ]
    }
   ],
   "source": [
    "new_model_dsa_dir  = \"D:/models/gtsrb_models/C2/gtsrb_model_c2_sep_dsa_e2\"\n",
    "\n",
    "i=0\n",
    "for model in models_dsa:\n",
    "    model.save(new_model_dsa_dir+\"_\"+str(i))\n",
    "    i+=1"
   ]
  },
  {
   "cell_type": "code",
   "execution_count": 20,
   "id": "4424a0bd",
   "metadata": {},
   "outputs": [
    {
     "name": "stdout",
     "output_type": "stream",
     "text": [
      "INFO:tensorflow:Assets written to: D:/models/gtsrb_models/C2/gtsrb_model_c2_sep_random_e2_0\\assets\n",
      "Model has been saved\n",
      "INFO:tensorflow:Assets written to: D:/models/gtsrb_models/C2/gtsrb_model_c2_sep_random_e2_1\\assets\n",
      "Model has been saved\n",
      "INFO:tensorflow:Assets written to: D:/models/gtsrb_models/C2/gtsrb_model_c2_sep_random_e2_2\\assets\n",
      "Model has been saved\n",
      "INFO:tensorflow:Assets written to: D:/models/gtsrb_models/C2/gtsrb_model_c2_sep_random_e2_3\\assets\n",
      "Model has been saved\n",
      "INFO:tensorflow:Assets written to: D:/models/gtsrb_models/C2/gtsrb_model_c2_sep_random_e2_4\\assets\n",
      "Model has been saved\n",
      "INFO:tensorflow:Assets written to: D:/models/gtsrb_models/C2/gtsrb_model_c2_sep_random_e2_5\\assets\n",
      "Model has been saved\n",
      "INFO:tensorflow:Assets written to: D:/models/gtsrb_models/C2/gtsrb_model_c2_sep_random_e2_6\\assets\n",
      "Model has been saved\n",
      "INFO:tensorflow:Assets written to: D:/models/gtsrb_models/C2/gtsrb_model_c2_sep_random_e2_7\\assets\n",
      "Model has been saved\n",
      "INFO:tensorflow:Assets written to: D:/models/gtsrb_models/C2/gtsrb_model_c2_sep_random_e2_8\\assets\n",
      "Model has been saved\n",
      "INFO:tensorflow:Assets written to: D:/models/gtsrb_models/C2/gtsrb_model_c2_sep_random_e2_9\\assets\n",
      "Model has been saved\n",
      "INFO:tensorflow:Assets written to: D:/models/gtsrb_models/C2/gtsrb_model_c2_sep_random_e2_10\\assets\n",
      "Model has been saved\n",
      "INFO:tensorflow:Assets written to: D:/models/gtsrb_models/C2/gtsrb_model_c2_sep_random_e2_11\\assets\n",
      "Model has been saved\n",
      "INFO:tensorflow:Assets written to: D:/models/gtsrb_models/C2/gtsrb_model_c2_sep_random_e2_12\\assets\n",
      "Model has been saved\n",
      "INFO:tensorflow:Assets written to: D:/models/gtsrb_models/C2/gtsrb_model_c2_sep_random_e2_13\\assets\n",
      "Model has been saved\n",
      "INFO:tensorflow:Assets written to: D:/models/gtsrb_models/C2/gtsrb_model_c2_sep_random_e2_14\\assets\n",
      "Model has been saved\n",
      "INFO:tensorflow:Assets written to: D:/models/gtsrb_models/C2/gtsrb_model_c2_sep_random_e2_15\\assets\n",
      "Model has been saved\n",
      "INFO:tensorflow:Assets written to: D:/models/gtsrb_models/C2/gtsrb_model_c2_sep_random_e2_16\\assets\n",
      "Model has been saved\n",
      "INFO:tensorflow:Assets written to: D:/models/gtsrb_models/C2/gtsrb_model_c2_sep_random_e2_17\\assets\n",
      "Model has been saved\n",
      "INFO:tensorflow:Assets written to: D:/models/gtsrb_models/C2/gtsrb_model_c2_sep_random_e2_18\\assets\n",
      "Model has been saved\n",
      "INFO:tensorflow:Assets written to: D:/models/gtsrb_models/C2/gtsrb_model_c2_sep_random_e2_19\\assets\n",
      "Model has been saved\n"
     ]
    }
   ],
   "source": [
    "new_model_random_dir  = \"D:/models/gtsrb_models/C2/gtsrb_model_c2_sep_random_e2\"\n",
    "\n",
    "i=0\n",
    "for model in models_random:\n",
    "    model.save(new_model_random_dir+\"_\"+str(i))\n",
    "    i+=1"
   ]
  },
  {
   "cell_type": "code",
   "execution_count": 22,
   "id": "a03c55e0",
   "metadata": {},
   "outputs": [
    {
     "name": "stdout",
     "output_type": "stream",
     "text": [
      "INFO:tensorflow:Assets written to: D:/models/gtsrb_models/C2/gtsrb_model_c2_sep_nc_e2_0\\assets\n",
      "Model has been saved\n",
      "INFO:tensorflow:Assets written to: D:/models/gtsrb_models/C2/gtsrb_model_c2_sep_nc_e2_1\\assets\n",
      "Model has been saved\n",
      "INFO:tensorflow:Assets written to: D:/models/gtsrb_models/C2/gtsrb_model_c2_sep_nc_e2_2\\assets\n",
      "Model has been saved\n",
      "INFO:tensorflow:Assets written to: D:/models/gtsrb_models/C2/gtsrb_model_c2_sep_nc_e2_3\\assets\n",
      "Model has been saved\n",
      "INFO:tensorflow:Assets written to: D:/models/gtsrb_models/C2/gtsrb_model_c2_sep_nc_e2_4\\assets\n",
      "Model has been saved\n",
      "INFO:tensorflow:Assets written to: D:/models/gtsrb_models/C2/gtsrb_model_c2_sep_nc_e2_5\\assets\n",
      "Model has been saved\n",
      "INFO:tensorflow:Assets written to: D:/models/gtsrb_models/C2/gtsrb_model_c2_sep_nc_e2_6\\assets\n",
      "Model has been saved\n",
      "INFO:tensorflow:Assets written to: D:/models/gtsrb_models/C2/gtsrb_model_c2_sep_nc_e2_7\\assets\n",
      "Model has been saved\n",
      "INFO:tensorflow:Assets written to: D:/models/gtsrb_models/C2/gtsrb_model_c2_sep_nc_e2_8\\assets\n",
      "Model has been saved\n",
      "INFO:tensorflow:Assets written to: D:/models/gtsrb_models/C2/gtsrb_model_c2_sep_nc_e2_9\\assets\n",
      "Model has been saved\n",
      "INFO:tensorflow:Assets written to: D:/models/gtsrb_models/C2/gtsrb_model_c2_sep_nc_e2_10\\assets\n",
      "Model has been saved\n",
      "INFO:tensorflow:Assets written to: D:/models/gtsrb_models/C2/gtsrb_model_c2_sep_nc_e2_11\\assets\n",
      "Model has been saved\n",
      "INFO:tensorflow:Assets written to: D:/models/gtsrb_models/C2/gtsrb_model_c2_sep_nc_e2_12\\assets\n",
      "Model has been saved\n",
      "INFO:tensorflow:Assets written to: D:/models/gtsrb_models/C2/gtsrb_model_c2_sep_nc_e2_13\\assets\n",
      "Model has been saved\n",
      "INFO:tensorflow:Assets written to: D:/models/gtsrb_models/C2/gtsrb_model_c2_sep_nc_e2_14\\assets\n",
      "Model has been saved\n",
      "INFO:tensorflow:Assets written to: D:/models/gtsrb_models/C2/gtsrb_model_c2_sep_nc_e2_15\\assets\n",
      "Model has been saved\n",
      "INFO:tensorflow:Assets written to: D:/models/gtsrb_models/C2/gtsrb_model_c2_sep_nc_e2_16\\assets\n",
      "Model has been saved\n",
      "INFO:tensorflow:Assets written to: D:/models/gtsrb_models/C2/gtsrb_model_c2_sep_nc_e2_17\\assets\n",
      "Model has been saved\n",
      "INFO:tensorflow:Assets written to: D:/models/gtsrb_models/C2/gtsrb_model_c2_sep_nc_e2_18\\assets\n",
      "Model has been saved\n",
      "INFO:tensorflow:Assets written to: D:/models/gtsrb_models/C2/gtsrb_model_c2_sep_nc_e2_19\\assets\n",
      "Model has been saved\n"
     ]
    }
   ],
   "source": [
    "model_nc_dir  = \"D:/models/gtsrb_models/C2/gtsrb_model_c2_sep_nc_e2\"\n",
    "\n",
    "i=0\n",
    "for model in models_nc:\n",
    "    model.save(model_nc_dir+\"_\"+str(i))\n",
    "    i+=1"
   ]
  },
  {
   "cell_type": "code",
   "execution_count": null,
   "id": "f3e41163",
   "metadata": {},
   "outputs": [],
   "source": []
  }
 ],
 "metadata": {
  "kernelspec": {
   "display_name": "Python 3",
   "language": "python",
   "name": "python3"
  },
  "language_info": {
   "codemirror_mode": {
    "name": "ipython",
    "version": 3
   },
   "file_extension": ".py",
   "mimetype": "text/x-python",
   "name": "python",
   "nbconvert_exporter": "python",
   "pygments_lexer": "ipython3",
   "version": "3.8.8"
  }
 },
 "nbformat": 4,
 "nbformat_minor": 5
}
