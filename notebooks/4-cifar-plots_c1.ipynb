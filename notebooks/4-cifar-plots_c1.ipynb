{
 "cells": [
  {
   "cell_type": "code",
   "execution_count": 1,
   "id": "ad95d3c7",
   "metadata": {},
   "outputs": [],
   "source": [
    "import argparse\n",
    "\n",
    "import numpy as np\n",
    "import tensorflow as tf\n",
    "import keras.backend as K\n",
    "\n",
    "import matplotlib.pyplot as plt\n",
    "\n",
    "from keras.utils import np_utils\n",
    "from keras.models import Sequential\n",
    "from keras.layers import Dense, Dropout, Activation, Flatten, Conv2D, MaxPooling2D\n",
    "from keras.regularizers import l2\n",
    "\n",
    "import glob\n",
    "import os\n",
    "import cv2\n",
    "import keras\n",
    "\n",
    "\n",
    "import time\n",
    "import argparse\n",
    "\n",
    "from tqdm import tqdm\n",
    "\n",
    "from keras.models import load_model, Model\n"
   ]
  },
  {
   "cell_type": "code",
   "execution_count": 2,
   "id": "8d035d9c",
   "metadata": {},
   "outputs": [
    {
     "name": "stdout",
     "output_type": "stream",
     "text": [
      "C:\\Users\\fjdur\\Documents\\utils\n"
     ]
    }
   ],
   "source": [
    "cd C:/Users/fjdur/Documents/utils/"
   ]
  },
  {
   "cell_type": "code",
   "execution_count": 3,
   "id": "5d1f761f",
   "metadata": {},
   "outputs": [
    {
     "name": "stdout",
     "output_type": "stream",
     "text": [
      "2.5.0\n",
      "keras\n",
      "2.5.0\n"
     ]
    }
   ],
   "source": [
    "import utils_guided_retraining as utils"
   ]
  },
  {
   "cell_type": "code",
   "execution_count": 4,
   "id": "37b911ae",
   "metadata": {},
   "outputs": [],
   "source": [
    "dataset = \"cifar\""
   ]
  },
  {
   "cell_type": "code",
   "execution_count": 5,
   "id": "5067d05c",
   "metadata": {},
   "outputs": [],
   "source": [
    "x_test,y_test = utils.get_data(dataset,\"Test\")"
   ]
  },
  {
   "cell_type": "code",
   "execution_count": 6,
   "id": "0fa4ca3a",
   "metadata": {},
   "outputs": [],
   "source": [
    "x_train_and_adversary,y_train_and_adversary = utils.get_data(dataset,\"Train_and_adversary\")"
   ]
  },
  {
   "cell_type": "code",
   "execution_count": 7,
   "id": "98036191",
   "metadata": {},
   "outputs": [],
   "source": [
    "x_test_and_adversary,y_test_and_adversary = utils.get_adversarial_data(dataset,'Test_adversarial') "
   ]
  },
  {
   "cell_type": "code",
   "execution_count": 8,
   "id": "19d492ed",
   "metadata": {},
   "outputs": [],
   "source": [
    "\n",
    "model_dir = \"C:/Users/fjdur/Documents/upc-july/models/tf_model_25-06/\"\n",
    "if(dataset == 'gtsrb'):\n",
    "    model_dir = \"C:/Users/fjdur/Documents/upc-july/models/tf_model_25-06\"\n",
    "elif(dataset == 'intel'):\n",
    "    model_dir = \"C:/Users/fjdur/Documents/upc-july/models/intel_model_21_10\"\n",
    "elif(dataset == 'mnist'):\n",
    "    model_dir = \"C:/Users/fjdur/Documents/upc-july/models/models2\"\n",
    "elif(dataset == 'cifar'):\n",
    "    model_dir = \"C:/Users/fjdur/Documents/upc-july/models/model_02\"\n"
   ]
  },
  {
   "cell_type": "code",
   "execution_count": 9,
   "id": "57c02559",
   "metadata": {},
   "outputs": [
    {
     "name": "stdout",
     "output_type": "stream",
     "text": [
      "C:/Users/fjdur/Documents/upc-july/models/model_02\n",
      "Model loaded correctly\n"
     ]
    }
   ],
   "source": [
    "print(model_dir)\n",
    "model_original = utils.My_model(dataset,True, model_dir)"
   ]
  },
  {
   "cell_type": "markdown",
   "id": "84bc1203",
   "metadata": {},
   "source": [
    "## Loading models"
   ]
  },
  {
   "cell_type": "code",
   "execution_count": 10,
   "id": "3a3b0a3b",
   "metadata": {},
   "outputs": [],
   "source": [
    "data_dir = \"D:/models/aug_22\"\n",
    "\n",
    "config = \"C1\"\n",
    "config_lc = \"c1\"\n",
    "num_models = 20"
   ]
  },
  {
   "cell_type": "code",
   "execution_count": 11,
   "id": "a79de2ac",
   "metadata": {},
   "outputs": [
    {
     "name": "stdout",
     "output_type": "stream",
     "text": [
      "D:/models/aug_22/cifar/C1/cifar_model_c1_aug_lsa_e1_0\n",
      "Model loaded correctly\n",
      "D:/models/aug_22/cifar/C1/cifar_model_c1_aug_lsa_e1_1\n",
      "Model loaded correctly\n",
      "D:/models/aug_22/cifar/C1/cifar_model_c1_aug_lsa_e1_2\n",
      "Model loaded correctly\n",
      "D:/models/aug_22/cifar/C1/cifar_model_c1_aug_lsa_e1_3\n",
      "Model loaded correctly\n",
      "D:/models/aug_22/cifar/C1/cifar_model_c1_aug_lsa_e1_4\n",
      "Model loaded correctly\n",
      "D:/models/aug_22/cifar/C1/cifar_model_c1_aug_lsa_e1_5\n",
      "Model loaded correctly\n",
      "D:/models/aug_22/cifar/C1/cifar_model_c1_aug_lsa_e1_6\n",
      "Model loaded correctly\n",
      "D:/models/aug_22/cifar/C1/cifar_model_c1_aug_lsa_e1_7\n",
      "Model loaded correctly\n",
      "D:/models/aug_22/cifar/C1/cifar_model_c1_aug_lsa_e1_8\n",
      "Model loaded correctly\n",
      "D:/models/aug_22/cifar/C1/cifar_model_c1_aug_lsa_e1_9\n",
      "Model loaded correctly\n",
      "D:/models/aug_22/cifar/C1/cifar_model_c1_aug_lsa_e1_10\n",
      "Model loaded correctly\n",
      "D:/models/aug_22/cifar/C1/cifar_model_c1_aug_lsa_e1_11\n",
      "Model loaded correctly\n",
      "D:/models/aug_22/cifar/C1/cifar_model_c1_aug_lsa_e1_12\n",
      "Model loaded correctly\n",
      "D:/models/aug_22/cifar/C1/cifar_model_c1_aug_lsa_e1_13\n",
      "Model loaded correctly\n",
      "D:/models/aug_22/cifar/C1/cifar_model_c1_aug_lsa_e1_14\n",
      "Model loaded correctly\n",
      "D:/models/aug_22/cifar/C1/cifar_model_c1_aug_lsa_e1_15\n",
      "Model loaded correctly\n",
      "D:/models/aug_22/cifar/C1/cifar_model_c1_aug_lsa_e1_16\n",
      "Model loaded correctly\n",
      "D:/models/aug_22/cifar/C1/cifar_model_c1_aug_lsa_e1_17\n",
      "Model loaded correctly\n",
      "D:/models/aug_22/cifar/C1/cifar_model_c1_aug_lsa_e1_18\n",
      "Model loaded correctly\n",
      "D:/models/aug_22/cifar/C1/cifar_model_c1_aug_lsa_e1_19\n",
      "Model loaded correctly\n"
     ]
    }
   ],
   "source": [
    "loading = True\n",
    "\n",
    "models_lsa = []\n",
    "\n",
    "if loading:\n",
    "    for i in range(num_models):\n",
    "        model_lsa_dir = data_dir+\"/\"+dataset+\"/C1/\"+dataset+\"_model_c1_aug_lsa_e1_\"+str(i)\n",
    "        print(model_lsa_dir)\n",
    "        model =utils.My_model(dataset,True,model_lsa_dir)\n",
    "        model.model.compile(loss= 'categorical_crossentropy', optimizer = 'rmsprop', metrics = ['accuracy',tf.keras.metrics.Precision(), tf.keras.metrics.Recall()])\n",
    "        models_lsa.append(model)\n",
    "       \n",
    "    "
   ]
  },
  {
   "cell_type": "code",
   "execution_count": 12,
   "id": "1347e307",
   "metadata": {},
   "outputs": [
    {
     "data": {
      "text/plain": [
       "20"
      ]
     },
     "execution_count": 12,
     "metadata": {},
     "output_type": "execute_result"
    }
   ],
   "source": [
    "len(models_lsa)"
   ]
  },
  {
   "cell_type": "code",
   "execution_count": 13,
   "id": "e3ff7377",
   "metadata": {},
   "outputs": [
    {
     "name": "stdout",
     "output_type": "stream",
     "text": [
      "D:/models/aug_22/cifar/C1/cifar_model_c1_aug_dsa_e1_0\n",
      "Model loaded correctly\n",
      "D:/models/aug_22/cifar/C1/cifar_model_c1_aug_dsa_e1_1\n",
      "Model loaded correctly\n",
      "D:/models/aug_22/cifar/C1/cifar_model_c1_aug_dsa_e1_2\n",
      "Model loaded correctly\n",
      "D:/models/aug_22/cifar/C1/cifar_model_c1_aug_dsa_e1_3\n",
      "Model loaded correctly\n",
      "D:/models/aug_22/cifar/C1/cifar_model_c1_aug_dsa_e1_4\n",
      "Model loaded correctly\n",
      "D:/models/aug_22/cifar/C1/cifar_model_c1_aug_dsa_e1_5\n",
      "Model loaded correctly\n",
      "D:/models/aug_22/cifar/C1/cifar_model_c1_aug_dsa_e1_6\n",
      "Model loaded correctly\n",
      "D:/models/aug_22/cifar/C1/cifar_model_c1_aug_dsa_e1_7\n",
      "Model loaded correctly\n",
      "D:/models/aug_22/cifar/C1/cifar_model_c1_aug_dsa_e1_8\n",
      "Model loaded correctly\n",
      "D:/models/aug_22/cifar/C1/cifar_model_c1_aug_dsa_e1_9\n",
      "Model loaded correctly\n",
      "D:/models/aug_22/cifar/C1/cifar_model_c1_aug_dsa_e1_10\n",
      "Model loaded correctly\n",
      "D:/models/aug_22/cifar/C1/cifar_model_c1_aug_dsa_e1_11\n",
      "Model loaded correctly\n",
      "D:/models/aug_22/cifar/C1/cifar_model_c1_aug_dsa_e1_12\n",
      "Model loaded correctly\n",
      "D:/models/aug_22/cifar/C1/cifar_model_c1_aug_dsa_e1_13\n",
      "Model loaded correctly\n",
      "D:/models/aug_22/cifar/C1/cifar_model_c1_aug_dsa_e1_14\n",
      "Model loaded correctly\n",
      "D:/models/aug_22/cifar/C1/cifar_model_c1_aug_dsa_e1_15\n",
      "Model loaded correctly\n",
      "D:/models/aug_22/cifar/C1/cifar_model_c1_aug_dsa_e1_16\n",
      "Model loaded correctly\n",
      "D:/models/aug_22/cifar/C1/cifar_model_c1_aug_dsa_e1_17\n",
      "Model loaded correctly\n",
      "D:/models/aug_22/cifar/C1/cifar_model_c1_aug_dsa_e1_18\n",
      "Model loaded correctly\n",
      "D:/models/aug_22/cifar/C1/cifar_model_c1_aug_dsa_e1_19\n",
      "Model loaded correctly\n"
     ]
    }
   ],
   "source": [
    "loading = True\n",
    "\n",
    "models_dsa = []\n",
    "\n",
    "if loading:\n",
    "    for i in range(num_models):\n",
    "        #model_dsa_dir = \"D:/models/gtsrb_models/C1/gtsrb_model_c1_sep_dsa_e2_\"+str(i)\n",
    "        model_dsa_dir = data_dir+\"/\"+dataset+\"/C1/\"+dataset+\"_model_c1_aug_dsa_e1_\"+str(i)\n",
    "        print(model_dsa_dir)\n",
    "        model =utils.My_model(dataset,True,model_dsa_dir)\n",
    "        model.model.compile(loss= 'categorical_crossentropy', optimizer = 'rmsprop', metrics = ['accuracy',tf.keras.metrics.Precision(), tf.keras.metrics.Recall()])\n",
    "        models_dsa.append(model)\n",
    "       \n",
    "\n",
    "    "
   ]
  },
  {
   "cell_type": "code",
   "execution_count": 14,
   "id": "a716e996",
   "metadata": {
    "scrolled": true
   },
   "outputs": [
    {
     "name": "stdout",
     "output_type": "stream",
     "text": [
      "D:/models/aug_22/cifar/C1/cifar_model_c1_aug_dg_e1_0\n",
      "Model loaded correctly\n",
      "D:/models/aug_22/cifar/C1/cifar_model_c1_aug_dg_e1_1\n",
      "Model loaded correctly\n",
      "D:/models/aug_22/cifar/C1/cifar_model_c1_aug_dg_e1_2\n",
      "Model loaded correctly\n",
      "D:/models/aug_22/cifar/C1/cifar_model_c1_aug_dg_e1_3\n",
      "Model loaded correctly\n",
      "D:/models/aug_22/cifar/C1/cifar_model_c1_aug_dg_e1_4\n",
      "Model loaded correctly\n",
      "D:/models/aug_22/cifar/C1/cifar_model_c1_aug_dg_e1_5\n",
      "Model loaded correctly\n",
      "D:/models/aug_22/cifar/C1/cifar_model_c1_aug_dg_e1_6\n",
      "Model loaded correctly\n",
      "D:/models/aug_22/cifar/C1/cifar_model_c1_aug_dg_e1_7\n",
      "Model loaded correctly\n",
      "D:/models/aug_22/cifar/C1/cifar_model_c1_aug_dg_e1_8\n",
      "Model loaded correctly\n",
      "D:/models/aug_22/cifar/C1/cifar_model_c1_aug_dg_e1_9\n",
      "Model loaded correctly\n",
      "D:/models/aug_22/cifar/C1/cifar_model_c1_aug_dg_e1_10\n",
      "Model loaded correctly\n",
      "D:/models/aug_22/cifar/C1/cifar_model_c1_aug_dg_e1_11\n",
      "Model loaded correctly\n",
      "D:/models/aug_22/cifar/C1/cifar_model_c1_aug_dg_e1_12\n",
      "Model loaded correctly\n",
      "D:/models/aug_22/cifar/C1/cifar_model_c1_aug_dg_e1_13\n",
      "Model loaded correctly\n",
      "D:/models/aug_22/cifar/C1/cifar_model_c1_aug_dg_e1_14\n",
      "Model loaded correctly\n",
      "D:/models/aug_22/cifar/C1/cifar_model_c1_aug_dg_e1_15\n",
      "Model loaded correctly\n",
      "D:/models/aug_22/cifar/C1/cifar_model_c1_aug_dg_e1_16\n",
      "Model loaded correctly\n",
      "D:/models/aug_22/cifar/C1/cifar_model_c1_aug_dg_e1_17\n",
      "Model loaded correctly\n",
      "D:/models/aug_22/cifar/C1/cifar_model_c1_aug_dg_e1_18\n",
      "Model loaded correctly\n",
      "D:/models/aug_22/cifar/C1/cifar_model_c1_aug_dg_e1_19\n",
      "Model loaded correctly\n"
     ]
    }
   ],
   "source": [
    "loading = True\n",
    "\n",
    "models_dg = []\n",
    "\n",
    "if loading:\n",
    "    for i in range(num_models):\n",
    "        #model_dg_dir = \"D:/models/aug_22/gtsrb/C1/gtsrb_model_c1_aug_gn_e1_\"+str(i)\n",
    "        model_dg_dir = data_dir+\"/\"+dataset+\"/C1/\"+dataset+\"_model_c1_aug_dg_e1_\"+str(i)\n",
    "        \n",
    "        print(model_dg_dir)\n",
    "        model =utils.My_model(dataset,True,model_dg_dir)\n",
    "        model.model.compile(loss= 'categorical_crossentropy', optimizer = 'rmsprop', metrics = ['accuracy',tf.keras.metrics.Precision(), tf.keras.metrics.Recall()])\n",
    "        models_dg.append(model)\n",
    "       \n",
    "    "
   ]
  },
  {
   "cell_type": "code",
   "execution_count": 15,
   "id": "a5a45e17",
   "metadata": {},
   "outputs": [
    {
     "name": "stdout",
     "output_type": "stream",
     "text": [
      "D:/models/aug_22/cifar/C1/cifar_model_c1_aug_se_e1_0\n",
      "Model loaded correctly\n",
      "D:/models/aug_22/cifar/C1/cifar_model_c1_aug_se_e1_1\n",
      "Model loaded correctly\n",
      "D:/models/aug_22/cifar/C1/cifar_model_c1_aug_se_e1_2\n",
      "Model loaded correctly\n",
      "D:/models/aug_22/cifar/C1/cifar_model_c1_aug_se_e1_3\n",
      "Model loaded correctly\n",
      "D:/models/aug_22/cifar/C1/cifar_model_c1_aug_se_e1_4\n",
      "Model loaded correctly\n",
      "D:/models/aug_22/cifar/C1/cifar_model_c1_aug_se_e1_5\n",
      "Model loaded correctly\n",
      "D:/models/aug_22/cifar/C1/cifar_model_c1_aug_se_e1_6\n",
      "Model loaded correctly\n",
      "D:/models/aug_22/cifar/C1/cifar_model_c1_aug_se_e1_7\n",
      "Model loaded correctly\n",
      "D:/models/aug_22/cifar/C1/cifar_model_c1_aug_se_e1_8\n",
      "Model loaded correctly\n",
      "D:/models/aug_22/cifar/C1/cifar_model_c1_aug_se_e1_9\n",
      "Model loaded correctly\n",
      "D:/models/aug_22/cifar/C1/cifar_model_c1_aug_se_e1_10\n",
      "Model loaded correctly\n",
      "D:/models/aug_22/cifar/C1/cifar_model_c1_aug_se_e1_11\n",
      "Model loaded correctly\n",
      "D:/models/aug_22/cifar/C1/cifar_model_c1_aug_se_e1_12\n",
      "Model loaded correctly\n",
      "D:/models/aug_22/cifar/C1/cifar_model_c1_aug_se_e1_13\n",
      "Model loaded correctly\n",
      "D:/models/aug_22/cifar/C1/cifar_model_c1_aug_se_e1_14\n",
      "Model loaded correctly\n",
      "D:/models/aug_22/cifar/C1/cifar_model_c1_aug_se_e1_15\n",
      "Model loaded correctly\n",
      "D:/models/aug_22/cifar/C1/cifar_model_c1_aug_se_e1_16\n",
      "Model loaded correctly\n",
      "D:/models/aug_22/cifar/C1/cifar_model_c1_aug_se_e1_17\n",
      "Model loaded correctly\n",
      "D:/models/aug_22/cifar/C1/cifar_model_c1_aug_se_e1_18\n",
      "Model loaded correctly\n",
      "D:/models/aug_22/cifar/C1/cifar_model_c1_aug_se_e1_19\n",
      "Model loaded correctly\n"
     ]
    }
   ],
   "source": [
    "loading = True\n",
    "\n",
    "models_se = []\n",
    "\n",
    "if loading:\n",
    "    for i in range(num_models):\n",
    "        \n",
    "        model_se_dir = data_dir+\"/\"+dataset+\"/C1/\"+dataset+\"_model_c1_aug_se_e1_\"+str(i)\n",
    "        \n",
    "        print(model_se_dir)\n",
    "        model =utils.My_model(dataset,True,model_se_dir)\n",
    "        model.model.compile(loss= 'categorical_crossentropy', optimizer = 'rmsprop', metrics = ['accuracy',tf.keras.metrics.Precision(), tf.keras.metrics.Recall()])\n",
    "        models_se.append(model)"
   ]
  },
  {
   "cell_type": "code",
   "execution_count": 16,
   "id": "a4ac1ede",
   "metadata": {},
   "outputs": [
    {
     "name": "stdout",
     "output_type": "stream",
     "text": [
      "D:/models/aug_22/cifar/C1/cifar_model_c1_aug_random_e1_0\n",
      "Model loaded correctly\n",
      "D:/models/aug_22/cifar/C1/cifar_model_c1_aug_random_e1_1\n",
      "Model loaded correctly\n",
      "D:/models/aug_22/cifar/C1/cifar_model_c1_aug_random_e1_2\n",
      "Model loaded correctly\n",
      "D:/models/aug_22/cifar/C1/cifar_model_c1_aug_random_e1_3\n",
      "Model loaded correctly\n",
      "D:/models/aug_22/cifar/C1/cifar_model_c1_aug_random_e1_4\n",
      "Model loaded correctly\n",
      "D:/models/aug_22/cifar/C1/cifar_model_c1_aug_random_e1_5\n",
      "Model loaded correctly\n",
      "D:/models/aug_22/cifar/C1/cifar_model_c1_aug_random_e1_6\n",
      "Model loaded correctly\n",
      "D:/models/aug_22/cifar/C1/cifar_model_c1_aug_random_e1_7\n",
      "Model loaded correctly\n",
      "D:/models/aug_22/cifar/C1/cifar_model_c1_aug_random_e1_8\n",
      "Model loaded correctly\n",
      "D:/models/aug_22/cifar/C1/cifar_model_c1_aug_random_e1_9\n",
      "Model loaded correctly\n",
      "D:/models/aug_22/cifar/C1/cifar_model_c1_aug_random_e1_10\n",
      "Model loaded correctly\n",
      "D:/models/aug_22/cifar/C1/cifar_model_c1_aug_random_e1_11\n",
      "Model loaded correctly\n",
      "D:/models/aug_22/cifar/C1/cifar_model_c1_aug_random_e1_12\n",
      "Model loaded correctly\n",
      "D:/models/aug_22/cifar/C1/cifar_model_c1_aug_random_e1_13\n",
      "Model loaded correctly\n",
      "D:/models/aug_22/cifar/C1/cifar_model_c1_aug_random_e1_14\n",
      "Model loaded correctly\n",
      "D:/models/aug_22/cifar/C1/cifar_model_c1_aug_random_e1_15\n",
      "Model loaded correctly\n",
      "D:/models/aug_22/cifar/C1/cifar_model_c1_aug_random_e1_16\n",
      "Model loaded correctly\n",
      "D:/models/aug_22/cifar/C1/cifar_model_c1_aug_random_e1_17\n",
      "Model loaded correctly\n",
      "D:/models/aug_22/cifar/C1/cifar_model_c1_aug_random_e1_18\n",
      "Model loaded correctly\n",
      "D:/models/aug_22/cifar/C1/cifar_model_c1_aug_random_e1_19\n",
      "Model loaded correctly\n"
     ]
    }
   ],
   "source": [
    "loading = True\n",
    "\n",
    "models_random = []\n",
    "\n",
    "if loading:\n",
    "    for i in range(num_models):\n",
    "        #model_random_dir = \"D:/models/aug_22/gtsrb/C1/gtsrb_model_c1_aug_random_e1_\"+str(i)\n",
    "        model_random_dir = data_dir+\"/\"+dataset+\"/C1/\"+dataset+\"_model_c1_aug_random_e1_\"+str(i)\n",
    "        \n",
    "        print(model_random_dir)\n",
    "        model =utils.My_model(dataset,True,model_random_dir)\n",
    "        model.model.compile(loss= 'categorical_crossentropy', optimizer = 'rmsprop', metrics = ['accuracy',tf.keras.metrics.Precision(), tf.keras.metrics.Recall()])\n",
    "        models_random.append(model)\n",
    "       "
   ]
  },
  {
   "cell_type": "code",
   "execution_count": 17,
   "id": "f1b143c0",
   "metadata": {
    "scrolled": true
   },
   "outputs": [
    {
     "name": "stdout",
     "output_type": "stream",
     "text": [
      "D:/models/aug_22/cifar/C1/cifar_model_c1_aug_nc_e1_0\n",
      "Model loaded correctly\n",
      "D:/models/aug_22/cifar/C1/cifar_model_c1_aug_nc_e1_1\n",
      "Model loaded correctly\n",
      "D:/models/aug_22/cifar/C1/cifar_model_c1_aug_nc_e1_2\n",
      "Model loaded correctly\n",
      "D:/models/aug_22/cifar/C1/cifar_model_c1_aug_nc_e1_3\n",
      "Model loaded correctly\n",
      "D:/models/aug_22/cifar/C1/cifar_model_c1_aug_nc_e1_4\n",
      "Model loaded correctly\n",
      "D:/models/aug_22/cifar/C1/cifar_model_c1_aug_nc_e1_5\n",
      "Model loaded correctly\n",
      "D:/models/aug_22/cifar/C1/cifar_model_c1_aug_nc_e1_6\n",
      "Model loaded correctly\n",
      "D:/models/aug_22/cifar/C1/cifar_model_c1_aug_nc_e1_7\n",
      "Model loaded correctly\n",
      "D:/models/aug_22/cifar/C1/cifar_model_c1_aug_nc_e1_8\n",
      "Model loaded correctly\n",
      "D:/models/aug_22/cifar/C1/cifar_model_c1_aug_nc_e1_9\n",
      "Model loaded correctly\n",
      "D:/models/aug_22/cifar/C1/cifar_model_c1_aug_nc_e1_10\n",
      "Model loaded correctly\n",
      "D:/models/aug_22/cifar/C1/cifar_model_c1_aug_nc_e1_11\n",
      "Model loaded correctly\n",
      "D:/models/aug_22/cifar/C1/cifar_model_c1_aug_nc_e1_12\n",
      "Model loaded correctly\n",
      "D:/models/aug_22/cifar/C1/cifar_model_c1_aug_nc_e1_13\n",
      "Model loaded correctly\n",
      "D:/models/aug_22/cifar/C1/cifar_model_c1_aug_nc_e1_14\n",
      "Model loaded correctly\n",
      "D:/models/aug_22/cifar/C1/cifar_model_c1_aug_nc_e1_15\n",
      "Model loaded correctly\n",
      "D:/models/aug_22/cifar/C1/cifar_model_c1_aug_nc_e1_16\n",
      "Model loaded correctly\n",
      "D:/models/aug_22/cifar/C1/cifar_model_c1_aug_nc_e1_17\n",
      "Model loaded correctly\n",
      "D:/models/aug_22/cifar/C1/cifar_model_c1_aug_nc_e1_18\n",
      "Model loaded correctly\n",
      "D:/models/aug_22/cifar/C1/cifar_model_c1_aug_nc_e1_19\n",
      "Model loaded correctly\n"
     ]
    }
   ],
   "source": [
    "loading = True\n",
    "\n",
    "models_nc = []\n",
    "\n",
    "if loading:\n",
    "    for i in range(num_models):\n",
    "        #model_nc_dir = \"D:/models/aug_22/\"+dataset+\"/C1/\"+dataset+\"_model_c1_aug_nc_e1\"+str\n",
    "        model_nc_dir = data_dir+\"/\"+dataset+\"/C1/\"+dataset+\"_model_c1_aug_nc_e1_\"+str(i)\n",
    "        print(model_nc_dir)\n",
    "        model =utils.My_model(dataset,True,model_nc_dir)\n",
    "        model.model.compile(loss= 'categorical_crossentropy', optimizer = 'rmsprop', metrics = ['accuracy',tf.keras.metrics.Precision(), tf.keras.metrics.Recall()])\n",
    "        models_nc.append(model)"
   ]
  },
  {
   "cell_type": "markdown",
   "id": "833fda77",
   "metadata": {},
   "source": [
    "## Evaluating"
   ]
  },
  {
   "cell_type": "code",
   "execution_count": 18,
   "id": "750bf683",
   "metadata": {},
   "outputs": [],
   "source": [
    "model_original.model.compile(loss= 'categorical_crossentropy', optimizer = 'rmsprop', metrics = ['accuracy',tf.keras.metrics.Precision(), tf.keras.metrics.Recall()])"
   ]
  },
  {
   "cell_type": "code",
   "execution_count": 19,
   "id": "4e0bd645",
   "metadata": {},
   "outputs": [],
   "source": [
    "evaluate_lsa = []\n",
    "evaluate_dsa = []\n",
    "evaluate_dg = []\n",
    "evaluate_se = []\n",
    "evaluate_nc = []\n",
    "evaluate_random = []\n",
    "\n",
    "evaluate_lsa.append([0,0,0,0])\n",
    "evaluate_dsa.append([0,0,0,0])\n",
    "evaluate_dg.append([0,0,0,0])\n",
    "evaluate_se.append([0,0,0,0])\n",
    "evaluate_nc.append([0,0,0,0])\n",
    "evaluate_random.append([0,0,0,0])"
   ]
  },
  {
   "cell_type": "code",
   "execution_count": 20,
   "id": "d1355117",
   "metadata": {},
   "outputs": [
    {
     "name": "stdout",
     "output_type": "stream",
     "text": [
      "Evaluating for lsa\n",
      "376/376 [==============================] - 51s 30ms/step - loss: 2.2018 - accuracy: 0.3780 - precision: 0.4377 - recall: 0.2874\n",
      "376/376 [==============================] - 15s 30ms/step - loss: 2.6440 - accuracy: 0.2453 - precision_1: 0.2778 - recall_1: 0.1679\n",
      "376/376 [==============================] - 17s 31ms/step - loss: 2.2180 - accuracy: 0.2852 - precision_2: 0.3737 - recall_2: 0.1848\n",
      "376/376 [==============================] - 14s 28ms/step - loss: 2.0695 - accuracy: 0.3675 - precision_3: 0.4601 - recall_3: 0.2590\n",
      "376/376 [==============================] - 14s 28ms/step - loss: 2.0135 - accuracy: 0.4041 - precision_4: 0.5229 - recall_4: 0.3138\n",
      "376/376 [==============================] - 14s 28ms/step - loss: 1.7699 - accuracy: 0.4110 - precision_5: 0.6180 - recall_5: 0.2889\n",
      "376/376 [==============================] - 14s 28ms/step - loss: 1.5918 - accuracy: 0.4743 - precision_6: 0.6347 - recall_6: 0.3687\n",
      "376/376 [==============================] - 14s 28ms/step - loss: 1.5374 - accuracy: 0.4555 - precision_7: 0.6071 - recall_7: 0.3653\n",
      "376/376 [==============================] - 14s 28ms/step - loss: 1.4349 - accuracy: 0.5104 - precision_8: 0.6845 - recall_8: 0.4235\n",
      "376/376 [==============================] - 17s 32ms/step - loss: 1.3340 - accuracy: 0.5297 - precision_9: 0.8071 - recall_9: 0.3864 2s - loss: 1.3219 - accuracy: 0.5342 - precis\n",
      "376/376 [==============================] - 14s 28ms/step - loss: 1.3304 - accuracy: 0.5146 - precision_10: 0.6966 - recall_10: 0.4199\n",
      "376/376 [==============================] - 14s 28ms/step - loss: 1.0932 - accuracy: 0.6112 - precision_11: 0.8579 - recall_11: 0.4593\n",
      "376/376 [==============================] - 14s 28ms/step - loss: 1.1440 - accuracy: 0.5798 - precision_12: 0.7856 - recall_12: 0.4790\n",
      "376/376 [==============================] - 14s 28ms/step - loss: 1.0523 - accuracy: 0.6254 - precision_13: 0.8422 - recall_13: 0.4872\n",
      "376/376 [==============================] - 14s 28ms/step - loss: 1.0370 - accuracy: 0.6353 - precision_14: 0.8163 - recall_14: 0.5310\n",
      "376/376 [==============================] - 14s 28ms/step - loss: 0.9653 - accuracy: 0.6591 - precision_15: 0.8707 - recall_15: 0.5246\n",
      "376/376 [==============================] - 15s 31ms/step - loss: 0.9341 - accuracy: 0.6825 - precision_16: 0.8730 - recall_16: 0.5330 2s - loss: 0.9037 - accuracy: 0.\n",
      "376/376 [==============================] - 14s 29ms/step - loss: 0.9078 - accuracy: 0.6869 - precision_17: 0.8603 - recall_17: 0.5502\n",
      "376/376 [==============================] - 17s 27ms/step - loss: 0.8456 - accuracy: 0.7061 - precision_18: 0.8561 - recall_18: 0.6266 0s - loss: 0.8341 - accuracy: 0.7103 - precision_18: 0.8574 - recall\n",
      "376/376 [==============================] - 14s 28ms/step - loss: 0.8114 - accuracy: 0.7298 - precision_19: 0.9016 - recall_19: 0.6074\n",
      "Evaluating for dsa\n",
      "376/376 [==============================] - 14s 28ms/step - loss: 2.1108 - accuracy: 0.3852 - precision_20: 0.4477 - recall_20: 0.2919\n",
      "376/376 [==============================] - 14s 28ms/step - loss: 1.7622 - accuracy: 0.4419 - precision_21: 0.5448 - recall_21: 0.3503\n",
      "376/376 [==============================] - 14s 28ms/step - loss: 1.4087 - accuracy: 0.5346 - precision_22: 0.6511 - recall_22: 0.4454\n",
      "376/376 [==============================] - 14s 28ms/step - loss: 1.3375 - accuracy: 0.5745 - precision_23: 0.6680 - recall_23: 0.5012\n",
      "376/376 [==============================] - 14s 28ms/step - loss: 1.1706 - accuracy: 0.6038 - precision_24: 0.7270 - recall_24: 0.5174\n",
      "376/376 [==============================] - 14s 28ms/step - loss: 1.1338 - accuracy: 0.6232 - precision_25: 0.7430 - recall_25: 0.5427\n",
      "376/376 [==============================] - 14s 28ms/step - loss: 1.0852 - accuracy: 0.6380 - precision_26: 0.7336 - recall_26: 0.5638\n",
      "376/376 [==============================] - 14s 28ms/step - loss: 0.9715 - accuracy: 0.6742 - precision_27: 0.7960 - recall_27: 0.5915 2s - loss: 0.9540 - accuracy: 0.6793 - pre\n",
      "376/376 [==============================] - 14s 28ms/step - loss: 1.0181 - accuracy: 0.6638 - precision_28: 0.7825 - recall_28: 0.5820\n",
      "376/376 [==============================] - 14s 28ms/step - loss: 0.9659 - accuracy: 0.6715 - precision_29: 0.8069 - recall_29: 0.5658\n",
      "376/376 [==============================] - 14s 28ms/step - loss: 0.8972 - accuracy: 0.6918 - precision_30: 0.8295 - recall_30: 0.5794\n",
      "376/376 [==============================] - 14s 28ms/step - loss: 0.9275 - accuracy: 0.6860 - precision_31: 0.8262 - recall_31: 0.6012\n",
      "376/376 [==============================] - 14s 28ms/step - loss: 0.8842 - accuracy: 0.7011 - precision_32: 0.8339 - recall_32: 0.6314\n",
      "376/376 [==============================] - 14s 28ms/step - loss: 0.8738 - accuracy: 0.7022 - precision_33: 0.8562 - recall_33: 0.5913 4s - los\n",
      "376/376 [==============================] - 14s 28ms/step - loss: 0.8770 - accuracy: 0.6978 - precision_34: 0.8466 - recall_34: 0.6055\n",
      "376/376 [==============================] - 14s 28ms/step - loss: 0.8238 - accuracy: 0.7204 - precision_35: 0.8641 - recall_35: 0.6364 3s - loss: 0.7856 - acc\n",
      "376/376 [==============================] - 14s 28ms/step - loss: 0.9272 - accuracy: 0.6954 - precision_36: 0.8910 - recall_36: 0.5323\n",
      "376/376 [==============================] - 14s 28ms/step - loss: 0.8150 - accuracy: 0.7255 - precision_37: 0.8785 - recall_37: 0.6105\n",
      "376/376 [==============================] - 14s 28ms/step - loss: 0.8804 - accuracy: 0.6944 - precision_38: 0.8701 - recall_38: 0.5860\n",
      "376/376 [==============================] - 15s 30ms/step - loss: 0.8183 - accuracy: 0.7243 - precision_39: 0.8750 - recall_39: 0.6080\n",
      "Evaluating for random\n",
      "376/376 [==============================] - 14s 28ms/step - loss: 1.6421 - accuracy: 0.4383 - precision_80: 0.5626 - recall_80: 0.3036 3s - loss: 1.6286 - accuracy: 0.4439 - precision_ - ETA: 1s - loss: 1.6356 - accuracy: 0.4409 - preci\n",
      "376/376 [==============================] - 14s 28ms/step - loss: 1.3779 - accuracy: 0.5383 - precision_81: 0.6453 - recall_81: 0.4450\n",
      "376/376 [==============================] - 14s 28ms/step - loss: 1.2132 - accuracy: 0.5833 - precision_82: 0.7107 - recall_82: 0.4743\n",
      "376/376 [==============================] - 14s 28ms/step - loss: 1.0971 - accuracy: 0.6273 - precision_83: 0.7513 - recall_83: 0.5525\n",
      "376/376 [==============================] - 17s 33ms/step - loss: 1.0367 - accuracy: 0.6427 - precision_84: 0.7815 - recall_84: 0.5556 2s - loss: 1.0143 - accuracy: 0.6501 - precision\n",
      "376/376 [==============================] - 14s 28ms/step - loss: 0.9895 - accuracy: 0.6548 - precision_85: 0.8037 - recall_85: 0.5721\n",
      "376/376 [==============================] - 14s 28ms/step - loss: 1.0191 - accuracy: 0.6476 - precision_86: 0.8110 - recall_86: 0.5468\n",
      "376/376 [==============================] - 14s 28ms/step - loss: 0.9370 - accuracy: 0.6751 - precision_87: 0.8218 - recall_87: 0.5786\n",
      "376/376 [==============================] - 14s 28ms/step - loss: 0.9679 - accuracy: 0.6681 - precision_88: 0.7943 - recall_88: 0.5950\n",
      "376/376 [==============================] - 14s 28ms/step - loss: 0.8958 - accuracy: 0.6872 - precision_89: 0.8408 - recall_89: 0.5935\n",
      "376/376 [==============================] - 14s 28ms/step - loss: 0.9606 - accuracy: 0.6848 - precision_90: 0.7903 - recall_90: 0.6350\n",
      "376/376 [==============================] - 14s 28ms/step - loss: 0.8846 - accuracy: 0.6965 - precision_91: 0.8354 - recall_91: 0.6209\n",
      "376/376 [==============================] - 14s 28ms/step - loss: 0.8585 - accuracy: 0.7138 - precision_92: 0.8376 - recall_92: 0.6538\n",
      "376/376 [==============================] - 14s 28ms/step - loss: 0.8983 - accuracy: 0.6959 - precision_93: 0.8444 - recall_93: 0.5842 1s - loss: 0.8777 - accuracy: 0.7037 - precision_93: \n",
      "376/376 [==============================] - 14s 28ms/step - loss: 0.8679 - accuracy: 0.7096 - precision_94: 0.8712 - recall_94: 0.5737 3s - loss: 0.8171\n",
      "376/376 [==============================] - 14s 28ms/step - loss: 0.8312 - accuracy: 0.7259 - precision_95: 0.8766 - recall_95: 0.6253\n",
      "376/376 [==============================] - 14s 28ms/step - loss: 0.8366 - accuracy: 0.7162 - precision_96: 0.8680 - recall_96: 0.6416\n",
      "376/376 [==============================] - 15s 30ms/step - loss: 0.8658 - accuracy: 0.7065 - precision_97: 0.8487 - recall_97: 0.6262\n",
      "376/376 [==============================] - 14s 29ms/step - loss: 0.8928 - accuracy: 0.7157 - precision_98: 0.9010 - recall_98: 0.5504 2s - loss: 0.8633 - accuracy: 0.7286 - pre\n",
      "376/376 [==============================] - 16s 28ms/step - loss: 0.8432 - accuracy: 0.7132 - precision_99: 0.8527 - recall_99: 0.6293\n",
      "Evaluating for nc\n",
      "376/376 [==============================] - 14s 29ms/step - loss: 3.2232 - accuracy: 0.3827 - precision_100: 0.4241 - recall_100: 0.3536\n",
      "376/376 [==============================] - 14s 28ms/step - loss: 2.5589 - accuracy: 0.4430 - precision_101: 0.5005 - recall_101: 0.4175\n",
      "376/376 [==============================] - 14s 29ms/step - loss: 1.9935 - accuracy: 0.5088 - precision_102: 0.5944 - recall_102: 0.4918\n",
      "376/376 [==============================] - 15s 29ms/step - loss: 1.8292 - accuracy: 0.4999 - precision_103: 0.5946 - recall_103: 0.4568\n",
      "376/376 [==============================] - 15s 30ms/step - loss: 1.5037 - accuracy: 0.5573 - precision_104: 0.6732 - recall_104: 0.5112\n",
      "376/376 [==============================] - 14s 28ms/step - loss: 1.3249 - accuracy: 0.5863 - precision_105: 0.7115 - recall_105: 0.5301 8s - loss: 1.2574 - accura\n",
      "376/376 [==============================] - 14s 28ms/step - loss: 1.4427 - accuracy: 0.5928 - precision_106: 0.6753 - recall_106: 0.5583\n",
      "376/376 [==============================] - 14s 28ms/step - loss: 1.1753 - accuracy: 0.6167 - precision_107: 0.7436 - recall_107: 0.5521 7s - los - ETA: 3s - loss: 1\n",
      "376/376 [==============================] - 14s 29ms/step - loss: 1.1727 - accuracy: 0.6270 - precision_108: 0.7569 - recall_108: 0.5606\n",
      "376/376 [==============================] - 14s 28ms/step - loss: 1.0891 - accuracy: 0.6472 - precision_109: 0.7627 - recall_109: 0.5929\n",
      "376/376 [==============================] - 14s 28ms/step - loss: 1.0557 - accuracy: 0.6588 - precision_110: 0.7791 - recall_110: 0.6022\n",
      "376/376 [==============================] - 14s 30ms/step - loss: 0.9774 - accuracy: 0.6652 - precision_111: 0.8119 - recall_111: 0.5838\n",
      "376/376 [==============================] - 15s 28ms/step - loss: 0.9470 - accuracy: 0.6772 - precision_112: 0.8309 - recall_112: 0.5713\n",
      "376/376 [==============================] - 15s 30ms/step - loss: 0.9547 - accuracy: 0.6813 - precision_113: 0.8470 - recall_113: 0.5706\n",
      "376/376 [==============================] - 15s 29ms/step - loss: 0.9979 - accuracy: 0.6733 - precision_114: 0.8055 - recall_114: 0.5860\n",
      "376/376 [==============================] - 15s 29ms/step - loss: 0.8652 - accuracy: 0.7041 - precision_115: 0.8584 - recall_115: 0.6199\n",
      "376/376 [==============================] - 15s 28ms/step - loss: 0.8590 - accuracy: 0.7133 - precision_116: 0.8774 - recall_116: 0.6037\n",
      "376/376 [==============================] - 18s 28ms/step - loss: 0.8412 - accuracy: 0.7158 - precision_117: 0.8509 - recall_117: 0.6330 1s - loss: 0.8251 - accuracy: 0.7219 - precision_117: 0.85\n",
      "376/376 [==============================] - 14s 28ms/step - loss: 0.8398 - accuracy: 0.7141 - precision_118: 0.8695 - recall_118: 0.6135 1s - loss: 0.8116 - accuracy: 0.7250 - precision_\n",
      "376/376 [==============================] - 14s 28ms/step - loss: 0.8433 - accuracy: 0.7163 - precision_119: 0.8744 - recall_119: 0.5956\n"
     ]
    }
   ],
   "source": [
    "# Metrics using adversarial test\n",
    "\n",
    "#evaluate_lsa.append(model_original.evaluate(x_test_and_adversary,y_test_and_adversary))\n",
    "#evaluate_dsa.append(model_original.evaluate(x_test_and_adversary,y_test_and_adversary))\n",
    "#evaluate_nc.append(model_original.evaluate(x_test_and_adversary,y_test_and_adversary))\n",
    "#evaluate_random.append(model_original.evaluate(x_test_and_adversary,y_test_and_adversary))\n",
    "print(\"Evaluating for lsa\")\n",
    "for model in models_lsa:\n",
    "    evaluate_lsa.append(model.evaluate(x_test_and_adversary,y_test_and_adversary))\n",
    "    \n",
    "print(\"Evaluating for dsa\")\n",
    "for model in models_dsa:\n",
    "    evaluate_dsa.append(model.evaluate(x_test_and_adversary,y_test_and_adversary))\n",
    "print(\"Evaluating for random\")\n",
    "for model in models_random:\n",
    "    evaluate_random.append(model.evaluate(x_test_and_adversary,y_test_and_adversary))\n",
    "print(\"Evaluating for nc\")\n",
    "for model in models_nc:\n",
    "    evaluate_nc.append(model.evaluate(x_test_and_adversary,y_test_and_adversary))"
   ]
  },
  {
   "cell_type": "code",
   "execution_count": 21,
   "id": "763ceacd",
   "metadata": {},
   "outputs": [
    {
     "name": "stdout",
     "output_type": "stream",
     "text": [
      "Evaluating for dg\n",
      "376/376 [==============================] - 14s 28ms/step - loss: 2.5504 - accuracy: 0.1429 - precision_40: 0.2952 - recall_40: 0.0129\n",
      "376/376 [==============================] - 14s 28ms/step - loss: 2.2617 - accuracy: 0.2368 - precision_41: 0.3997 - recall_41: 0.0740\n",
      "376/376 [==============================] - 14s 28ms/step - loss: 1.9852 - accuracy: 0.3100 - precision_42: 0.4789 - recall_42: 0.0904\n",
      "376/376 [==============================] - 15s 29ms/step - loss: 1.7494 - accuracy: 0.3869 - precision_43: 0.5445 - recall_43: 0.1923\n",
      "376/376 [==============================] - 14s 28ms/step - loss: 1.6868 - accuracy: 0.4143 - precision_44: 0.5349 - recall_44: 0.2295 4s - loss: 1.6767 - accuracy: 0.4106 - pr - ETA: 2s - loss: 1.6825 - accuracy: 0.4129 - precision_44: 0.5343 - recall_44: 0.22 - ETA: 1s - loss: 1.6826 - accuracy: 0.4130 - precisi\n",
      "376/376 [==============================] - 14s 27ms/step - loss: 1.4174 - accuracy: 0.4832 - precision_45: 0.6529 - recall_45: 0.2707 3s - loss: 1.4061 - accuracy: 0.48\n",
      "376/376 [==============================] - 12s 25ms/step - loss: 1.3522 - accuracy: 0.5165 - precision_46: 0.6647 - recall_46: 0.3312 1s - loss: 1.3397 - accuracy: 0.5197 - precision\n",
      "376/376 [==============================] - 15s 29ms/step - loss: 1.1949 - accuracy: 0.5762 - precision_47: 0.7344 - recall_47: 0.3892\n",
      "376/376 [==============================] - 15s 29ms/step - loss: 1.1447 - accuracy: 0.5959 - precision_48: 0.7717 - recall_48: 0.3998\n",
      "376/376 [==============================] - 15s 29ms/step - loss: 1.0698 - accuracy: 0.6227 - precision_49: 0.7483 - recall_49: 0.4972\n",
      "376/376 [==============================] - 15s 29ms/step - loss: 1.0931 - accuracy: 0.6020 - precision_50: 0.7458 - recall_50: 0.4518\n",
      "376/376 [==============================] - 15s 31ms/step - loss: 0.9762 - accuracy: 0.6630 - precision_51: 0.8198 - recall_51: 0.4947: 9s - loss: 0.9289 - acc\n",
      "376/376 [==============================] - 16s 30ms/step - loss: 0.9730 - accuracy: 0.6588 - precision_52: 0.7963 - recall_52: 0.5240 7s - loss: 0.9163 - accuracy: 0.6781  - ETA: 4s - loss: 0.9207 - accuracy: 0.6758 - - ETA: 2s - loss: 0.9513 - accuracy: 0.6657 - pr\n",
      "376/376 [==============================] - 15s 26ms/step - loss: 0.8880 - accuracy: 0.7079 - precision_53: 0.8505 - recall_53: 0.5846\n",
      "376/376 [==============================] - 16s 31ms/step - loss: 0.9043 - accuracy: 0.6947 - precision_54: 0.8276 - recall_54: 0.6059\n",
      "376/376 [==============================] - 16s 30ms/step - loss: 0.8174 - accuracy: 0.7288 - precision_55: 0.8689 - recall_55: 0.6269\n",
      "376/376 [==============================] - 15s 29ms/step - loss: 0.8840 - accuracy: 0.7016 - precision_56: 0.8598 - recall_56: 0.5732\n",
      "376/376 [==============================] - 15s 30ms/step - loss: 0.8451 - accuracy: 0.7096 - precision_57: 0.8555 - recall_57: 0.6340 2s - loss: 0.8090 - accuracy: 0\n",
      "376/376 [==============================] - 15s 30ms/step - loss: 0.8677 - accuracy: 0.7065 - precision_58: 0.8763 - recall_58: 0.6036\n",
      "376/376 [==============================] - 15s 29ms/step - loss: 0.8292 - accuracy: 0.7186 - precision_59: 0.8717 - recall_59: 0.5881\n",
      "Evaluating for se\n",
      "376/376 [==============================] - 15s 31ms/step - loss: 2.4094 - accuracy: 0.1837 - precision_60: 0.2460 - recall_60: 0.0438\n",
      "376/376 [==============================] - 15s 29ms/step - loss: 2.1228 - accuracy: 0.2768 - precision_61: 0.4619 - recall_61: 0.0951\n",
      "376/376 [==============================] - 14s 29ms/step - loss: 2.2798 - accuracy: 0.2444 - precision_62: 0.4458 - recall_62: 0.0883\n",
      "376/376 [==============================] - 14s 29ms/step - loss: 1.7265 - accuracy: 0.4216 - precision_63: 0.5489 - recall_63: 0.2037 1s - loss: 1.7143 - accuracy: 0.4223 - precision_63: 0.\n",
      "376/376 [==============================] - 14s 29ms/step - loss: 1.7344 - accuracy: 0.3837 - precision_64: 0.5613 - recall_64: 0.1693\n",
      "376/376 [==============================] - 14s 29ms/step - loss: 1.3976 - accuracy: 0.5187 - precision_65: 0.7352 - recall_65: 0.2512\n",
      "376/376 [==============================] - 15s 28ms/step - loss: 1.2920 - accuracy: 0.5277 - precision_66: 0.6910 - recall_66: 0.3200 3s - loss:\n",
      "376/376 [==============================] - 14s 29ms/step - loss: 1.2030 - accuracy: 0.5714 - precision_67: 0.7190 - recall_67: 0.4017\n",
      "376/376 [==============================] - 14s 29ms/step - loss: 1.1133 - accuracy: 0.5968 - precision_68: 0.7532 - recall_68: 0.4353\n",
      "376/376 [==============================] - 14s 28ms/step - loss: 1.0997 - accuracy: 0.6012 - precision_69: 0.7401 - recall_69: 0.4512 2s - loss: 1.0854 - accuracy: 0.6043 - pr\n",
      "376/376 [==============================] - 14s 29ms/step - loss: 1.0606 - accuracy: 0.6270 - precision_70: 0.7554 - recall_70: 0.4912 4s \n",
      "376/376 [==============================] - 14s 29ms/step - loss: 0.9335 - accuracy: 0.6813 - precision_71: 0.8117 - recall_71: 0.5891\n",
      "376/376 [==============================] - 14s 29ms/step - loss: 0.9383 - accuracy: 0.6811 - precision_72: 0.8520 - recall_72: 0.5247 0s - loss: 0.9337 - accuracy: 0.6830 - precision_72: 0.8528 - recall_72:\n",
      "376/376 [==============================] - 15s 30ms/step - loss: 0.9088 - accuracy: 0.6909 - precision_73: 0.8389 - recall_73: 0.5568\n",
      "376/376 [==============================] - 15s 30ms/step - loss: 0.8292 - accuracy: 0.7182 - precision_74: 0.8504 - recall_74: 0.6415\n",
      "376/376 [==============================] - 15s 29ms/step - loss: 0.8453 - accuracy: 0.7090 - precision_75: 0.8617 - recall_75: 0.6037\n",
      "376/376 [==============================] - 15s 30ms/step - loss: 0.8221 - accuracy: 0.7215 - precision_76: 0.8745 - recall_76: 0.6365\n",
      "376/376 [==============================] - 15s 31ms/step - loss: 0.8080 - accuracy: 0.7239 - precision_77: 0.8655 - recall_77: 0.6334\n",
      "376/376 [==============================] - 15s 29ms/step - loss: 0.8799 - accuracy: 0.7025 - precision_78: 0.8487 - recall_78: 0.6237\n",
      "376/376 [==============================] - 14s 29ms/step - loss: 0.8165 - accuracy: 0.7232 - precision_79: 0.8746 - recall_79: 0.6389\n"
     ]
    }
   ],
   "source": [
    "print(\"Evaluating for dg\")\n",
    "for model in models_dg:\n",
    "    evaluate_dg.append(model.evaluate(x_test_and_adversary,y_test_and_adversary))\n",
    "    \n",
    "print(\"Evaluating for se\")\n",
    "for model in models_se:\n",
    "    evaluate_se.append(model.evaluate(x_test_and_adversary,y_test_and_adversary))\n"
   ]
  },
  {
   "cell_type": "code",
   "execution_count": 22,
   "id": "f1f34188",
   "metadata": {},
   "outputs": [
    {
     "data": {
      "text/plain": [
       "21"
      ]
     },
     "execution_count": 22,
     "metadata": {},
     "output_type": "execute_result"
    }
   ],
   "source": [
    "len(evaluate_dg)"
   ]
  },
  {
   "cell_type": "code",
   "execution_count": 23,
   "id": "5dbabf04",
   "metadata": {},
   "outputs": [
    {
     "data": {
      "text/plain": [
       "21"
      ]
     },
     "execution_count": 23,
     "metadata": {},
     "output_type": "execute_result"
    }
   ],
   "source": [
    "len(evaluate_nc)"
   ]
  },
  {
   "cell_type": "code",
   "execution_count": 24,
   "id": "517d4d11",
   "metadata": {},
   "outputs": [],
   "source": [
    "import pandas as pd\n",
    "\n",
    "df_evaluate_lsa = pd.DataFrame(np.array(evaluate_lsa),columns=[\"loss\",\"accuracy\",\"precision\",\"recall\"])\n",
    "df_evaluate_dsa = pd.DataFrame(np.array(evaluate_dsa),columns=[\"loss\",\"accuracy\",\"precision\",\"recall\"])\n",
    "df_evaluate_dg = pd.DataFrame(np.array(evaluate_dg),columns=[\"loss\",\"accuracy\",\"precision\",\"recall\"])\n",
    "df_evaluate_se = pd.DataFrame(np.array(evaluate_se),columns=[\"loss\",\"accuracy\",\"precision\",\"recall\"])\n",
    "\n",
    "df_evaluate_random = pd.DataFrame(np.array(evaluate_random),columns=[\"loss\",\"accuracy\",\"precision\",\"recall\"])\n",
    "df_evaluate_nc = pd.DataFrame(np.array(evaluate_nc),columns=[\"loss\",\"accuracy\",\"precision\",\"recall\"])\n"
   ]
  },
  {
   "cell_type": "code",
   "execution_count": 11,
   "id": "61cdc34d",
   "metadata": {},
   "outputs": [],
   "source": [
    "save_dir = \"D:/aug_graphs/\"+dataset+\"/\"+config_lc"
   ]
  },
  {
   "cell_type": "code",
   "execution_count": 13,
   "id": "3371b191",
   "metadata": {},
   "outputs": [],
   "source": [
    "import pandas as pd\n",
    "loading_csv = True\n",
    "if(loading_csv):\n",
    "    \n",
    "    df_evaluate_lsa = pd.read_csv(save_dir+\"/lsa_\"+config_lc)\n",
    "    df_evaluate_dsa = pd.read_csv(save_dir+\"/dsa_\"+config_lc)\n",
    "    df_evaluate_dg = pd.read_csv(save_dir+\"/dg_\"+config_lc)\n",
    "    df_evaluate_se = pd.read_csv(save_dir+\"/se_\"+config_lc)\n",
    "    df_evaluate_random = pd.read_csv(save_dir+\"/random_\"+config_lc)\n",
    "    df_evaluate_nc = pd.read_csv(save_dir+\"/nc_\"+config_lc)\n",
    "    "
   ]
  },
  {
   "cell_type": "code",
   "execution_count": null,
   "id": "50aaf0aa",
   "metadata": {},
   "outputs": [],
   "source": []
  },
  {
   "cell_type": "code",
   "execution_count": null,
   "id": "071139f8",
   "metadata": {},
   "outputs": [],
   "source": []
  },
  {
   "cell_type": "code",
   "execution_count": 27,
   "id": "0ac880db",
   "metadata": {},
   "outputs": [],
   "source": [
    "if(not loading_csv):\n",
    "    df_evaluate_lsa.to_csv(save_dir+\"/lsa_\"+config_lc,index=False)\n",
    "    df_evaluate_dsa.to_csv(save_dir+\"/dsa_\"+config_lc,index=False)\n",
    "    df_evaluate_dg.to_csv(save_dir+\"/dg_\"+config_lc,index=False)\n",
    "    df_evaluate_se.to_csv(save_dir+\"/se_\"+config_lc,index=False)\n",
    "    df_evaluate_random.to_csv(save_dir+\"/random_\"+config_lc,index=False)\n",
    "    df_evaluate_nc.to_csv(save_dir+\"/nc_\"+config_lc,index=False)"
   ]
  },
  {
   "cell_type": "code",
   "execution_count": 14,
   "id": "890f3a71",
   "metadata": {},
   "outputs": [],
   "source": [
    "\n",
    "metric =\"accuracy\"\n",
    "accuracy_lsa_3 = np.array(df_evaluate_lsa[metric])\n",
    "accuracy_dsa_3 = np.array(df_evaluate_dsa[metric])\n",
    "accuracy_dg_3 = np.array(df_evaluate_dg[metric])\n",
    "accuracy_se_3 = np.array(df_evaluate_se[metric])\n",
    "\n",
    "accuracy_nc_3 =np.array(df_evaluate_nc[metric])\n",
    "accuracy_random_3 = np.array(df_evaluate_random[metric])\n"
   ]
  },
  {
   "cell_type": "code",
   "execution_count": null,
   "id": "8024d77a",
   "metadata": {},
   "outputs": [],
   "source": []
  },
  {
   "cell_type": "code",
   "execution_count": 15,
   "id": "03c35db6",
   "metadata": {},
   "outputs": [],
   "source": [
    "n_data_points = 2400"
   ]
  },
  {
   "cell_type": "code",
   "execution_count": 16,
   "id": "8f14989c",
   "metadata": {},
   "outputs": [
    {
     "data": {
      "text/plain": [
       "21"
      ]
     },
     "execution_count": 16,
     "metadata": {},
     "output_type": "execute_result"
    }
   ],
   "source": [
    "len(accuracy_dsa_3)"
   ]
  },
  {
   "cell_type": "code",
   "execution_count": 17,
   "id": "5a1006eb",
   "metadata": {},
   "outputs": [
    {
     "name": "stdout",
     "output_type": "stream",
     "text": [
      "21\n"
     ]
    },
    {
     "data": {
      "text/plain": [
       "[0,\n",
       " 2400,\n",
       " 4800,\n",
       " 7200,\n",
       " 9600,\n",
       " 12000,\n",
       " 14400,\n",
       " 16800,\n",
       " 19200,\n",
       " 21600,\n",
       " 24000,\n",
       " 26400,\n",
       " 28800,\n",
       " 31200,\n",
       " 33600,\n",
       " 36000,\n",
       " 38400,\n",
       " 40800,\n",
       " 43200,\n",
       " 45600,\n",
       " 47999]"
      ]
     },
     "execution_count": 17,
     "metadata": {},
     "output_type": "execute_result"
    }
   ],
   "source": [
    "if(len(accuracy_lsa_3)>21):\n",
    "    n_inputs = [n_data_points*i for i in range(num_models+1)]\n",
    "else:\n",
    "    n_inputs = [n_data_points*i for i in range(num_models)]\n",
    "    \n",
    "n_inputs.append(len(x_train_and_adversary))\n",
    "print(len(n_inputs))\n",
    "n_inputs"
   ]
  },
  {
   "cell_type": "code",
   "execution_count": 18,
   "id": "7d87bbdc",
   "metadata": {},
   "outputs": [
    {
     "name": "stdout",
     "output_type": "stream",
     "text": [
      "21\n",
      "21\n"
     ]
    }
   ],
   "source": [
    "print(len(df_evaluate_lsa))\n",
    "print(len(n_inputs))"
   ]
  },
  {
   "cell_type": "code",
   "execution_count": null,
   "id": "94dd0268",
   "metadata": {},
   "outputs": [],
   "source": [
    "save_dir = \"D:/aug_graphs/\"+dataset+\"/\"+config"
   ]
  },
  {
   "cell_type": "code",
   "execution_count": 19,
   "id": "e661d375",
   "metadata": {},
   "outputs": [],
   "source": [
    "linestyles = ['solid','dotted','dashed','dashed','dashdot','dashdot']\n",
    "colors =['b','g','r','c','m','k']"
   ]
  },
  {
   "cell_type": "code",
   "execution_count": 22,
   "id": "125545fd",
   "metadata": {},
   "outputs": [
    {
     "name": "stdout",
     "output_type": "stream",
     "text": [
      "47999 0.669110894203186\n",
      "38400 0.6683609485626221\n",
      "38400 0.664111316204071\n",
      "43200 0.664277970790863\n",
      "38400 0.659195065498352\n",
      "43200 0.666027843952179\n"
     ]
    },
    {
     "data": {
      "image/png": "[encoded data removed]",
      "text/plain": [
       "<Figure size 432x288 with 1 Axes>"
      ]
     },
     "metadata": {
      "needs_background": "light"
     },
     "output_type": "display_data"
    }
   ],
   "source": [
    "#adversarial jsma test set\n",
    "#configuration 3\n",
    "\"\"\"\n",
    "6) Incremental guided retraining starting from the original model using only the new adversarial inputs.\n",
    "Incremental training, starting with the previous trained model. Using at each iteration a subset of the new inputs.\n",
    "\"\"\"\n",
    "import matplotlib.pyplot as plt\n",
    "import matplotlib.patches as mpatches\n",
    "\n",
    "from matplotlib.patches import Patch\n",
    "from matplotlib.lines import Line2D\n",
    "\n",
    "plt.plot(n_inputs,accuracy_lsa_3,colors[0],linestyle=linestyles[0])\n",
    "plt.plot(n_inputs,accuracy_dsa_3,colors[1],linestyle=linestyles[1])\n",
    "plt.plot(n_inputs,accuracy_dg_3,colors[2],linestyle=linestyles[2])\n",
    "plt.plot(n_inputs,accuracy_se_3,colors[3],linestyle=linestyles[3])\n",
    "plt.plot(n_inputs,accuracy_random_3,colors[4],linestyle=linestyles[4])\n",
    "plt.plot(n_inputs,accuracy_nc_3,colors[5],linestyle=linestyles[5])\n",
    "\n",
    "\n",
    "legend_elements = [Line2D([0], [0], color=colors[0], label='LSA',ls = linestyles[0]),\n",
    "                   Line2D([0], [0], color=colors[1], label='DSA',ls = linestyles[1]),\n",
    "                   Line2D([0], [0], color=colors[2], label='dg',ls = linestyles[2]),\n",
    "                   Line2D([0], [0], color=colors[3], label='se',ls = linestyles[3]),\n",
    "                   Line2D([0], [0], color=colors[4], label='Random',ls = linestyles[4]),\n",
    "                   Line2D([0], [0], color=colors[5], label='NC',ls = linestyles[5])]\n",
    "\n",
    "\n",
    "\n",
    "plt.legend(handles=legend_elements)#\n",
    "#plt.title(\"Accuracy\")\n",
    "\n",
    "print(n_inputs[np.argmax(accuracy_lsa_3)],accuracy_lsa_3.max())\n",
    "print(n_inputs[np.argmax(accuracy_dsa_3)],accuracy_dsa_3.max())\n",
    "print(n_inputs[np.argmax(accuracy_dg_3)],accuracy_dg_3.max())\n",
    "print(n_inputs[np.argmax(accuracy_se_3)],accuracy_se_3.max())\n",
    "print(n_inputs[np.argmax(accuracy_random_3)],accuracy_random_3.max())\n",
    "print(n_inputs[np.argmax(accuracy_nc_3)],accuracy_nc_3.max())\n",
    "\n",
    "plt.plot(n_inputs[np.argmax(accuracy_lsa_3)],accuracy_lsa_3.max(),'-bD',)\n",
    "plt.plot(n_inputs[np.argmax(accuracy_dsa_3)],accuracy_dsa_3.max(),'-go')\n",
    "plt.plot(n_inputs[np.argmax(accuracy_dg_3)],accuracy_dg_3.max(),'-r+')\n",
    "plt.plot(n_inputs[np.argmax(accuracy_se_3)],accuracy_se_3.max(),'-c*')\n",
    "plt.plot(n_inputs[np.argmax(accuracy_random_3)],accuracy_random_3.max(),'-mv')\n",
    "plt.plot(n_inputs[np.argmax(accuracy_nc_3)],accuracy_nc_3.max(),'-kp')\n",
    "\n",
    "plt.xlabel('Number of inputs')\n",
    "plt.ylabel('Accuracy')\n",
    "plt.xlim([0, len(x_train_and_adversary)])\n",
    "#plt.ylim([0, 1])\n",
    "\n",
    "plt.savefig(save_dir+\"/\"+dataset+\"_\"+config_lc+\"_\"+\"accuracy\" + \".svg\")\n",
    "\n",
    "plt.show()"
   ]
  },
  {
   "cell_type": "code",
   "execution_count": 21,
   "id": "e3eaca60",
   "metadata": {},
   "outputs": [
    {
     "name": "stdout",
     "output_type": "stream",
     "text": [
      "47999 0.669110894203186\n",
      "38400 0.6683609485626221\n",
      "38400 0.664111316204071\n",
      "43200 0.664277970790863\n",
      "38400 0.659195065498352\n",
      "43200 0.666027843952179\n"
     ]
    },
    {
     "data": {
      "image/png": "[encoded data removed]",
      "text/plain": [
       "<Figure size 432x288 with 1 Axes>"
      ]
     },
     "metadata": {
      "needs_background": "light"
     },
     "output_type": "display_data"
    }
   ],
   "source": [
    "#adversarial jsma test set\n",
    "#configuration 3\n",
    "\"\"\"\n",
    "6) Incremental guided retraining starting from the original model using only the new adversarial inputs.\n",
    "Incremental training, starting with the previous trained model. Using at each iteration a subset of the new inputs.\n",
    "\"\"\"\n",
    "import matplotlib.pyplot as plt\n",
    "import matplotlib.patches as mpatches\n",
    "\n",
    "from matplotlib.patches import Patch\n",
    "from matplotlib.lines import Line2D\n",
    "\n",
    "plt.plot(n_inputs,accuracy_lsa_3,colors[0],linestyle=linestyles[0])\n",
    "plt.plot(n_inputs,accuracy_dsa_3,colors[1],linestyle=linestyles[1])\n",
    "plt.plot(n_inputs,accuracy_dg_3,colors[2],linestyle=linestyles[2])\n",
    "plt.plot(n_inputs,accuracy_se_3,colors[3],linestyle=linestyles[3])\n",
    "plt.plot(n_inputs,accuracy_random_3,colors[4],linestyle=linestyles[4])\n",
    "plt.plot(n_inputs,accuracy_nc_3,colors[5],linestyle=linestyles[5])\n",
    "\n",
    "\n",
    "legend_elements = [Line2D([0], [0], color=colors[0], label='LSA',ls = linestyles[0]),\n",
    "                   Line2D([0], [0], color=colors[1], label='DSA',ls = linestyles[1]),\n",
    "                   Line2D([0], [0], color=colors[2], label='dg',ls = linestyles[2]),\n",
    "                   Line2D([0], [0], color=colors[3], label='se',ls = linestyles[3]),\n",
    "                   Line2D([0], [0], color=colors[4], label='Random',ls = linestyles[4]),\n",
    "                   Line2D([0], [0], color=colors[5], label='NC',ls = linestyles[5])]\n",
    "\n",
    "\n",
    "\n",
    "plt.legend(handles=legend_elements)#\n",
    "#plt.title(\"Accuracy\")\n",
    "\n",
    "print(n_inputs[np.argmax(accuracy_lsa_3)],accuracy_lsa_3.max())\n",
    "print(n_inputs[np.argmax(accuracy_dsa_3)],accuracy_dsa_3.max())\n",
    "print(n_inputs[np.argmax(accuracy_dg_3)],accuracy_dg_3.max())\n",
    "print(n_inputs[np.argmax(accuracy_se_3)],accuracy_se_3.max())\n",
    "print(n_inputs[np.argmax(accuracy_random_3)],accuracy_random_3.max())\n",
    "print(n_inputs[np.argmax(accuracy_nc_3)],accuracy_nc_3.max())\n",
    "\n",
    "plt.plot(n_inputs[np.argmax(accuracy_lsa_3)],accuracy_lsa_3.max(),'-bD',)\n",
    "plt.plot(n_inputs[np.argmax(accuracy_dsa_3)],accuracy_dsa_3.max(),'-go')\n",
    "plt.plot(n_inputs[np.argmax(accuracy_dg_3)],accuracy_dg_3.max(),'-r+')\n",
    "plt.plot(n_inputs[np.argmax(accuracy_se_3)],accuracy_se_3.max(),'-c*')\n",
    "plt.plot(n_inputs[np.argmax(accuracy_random_3)],accuracy_random_3.max(),'-mv')\n",
    "plt.plot(n_inputs[np.argmax(accuracy_nc_3)],accuracy_nc_3.max(),'-kp')\n",
    "\n",
    "plt.xlabel('Number of inputs')\n",
    "plt.ylabel('Accuracy')\n",
    "plt.xlim([0, len(x_train_and_adversary)])\n",
    "#plt.ylim([0, 1])\n",
    "\n",
    "plt.savefig(save_dir+\"/\"+dataset+\"_\"+config_lc+\"_\"+\"accuracy\" + \".svg\")\n",
    "\n",
    "plt.show()"
   ]
  },
  {
   "cell_type": "code",
   "execution_count": null,
   "id": "09841214",
   "metadata": {},
   "outputs": [],
   "source": []
  }
 ],
 "metadata": {
  "kernelspec": {
   "display_name": "Python 3 (ipykernel)",
   "language": "python",
   "name": "python3"
  },
  "language_info": {
   "codemirror_mode": {
    "name": "ipython",
    "version": 3
   },
   "file_extension": ".py",
   "mimetype": "text/x-python",
   "name": "python",
   "nbconvert_exporter": "python",
   "pygments_lexer": "ipython3",
   "version": "3.9.7"
  }
 },
 "nbformat": 4,
 "nbformat_minor": 5
}
