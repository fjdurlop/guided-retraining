{
 "cells": [
  {
   "cell_type": "code",
   "execution_count": 15,
   "id": "e79f2c86",
   "metadata": {},
   "outputs": [],
   "source": [
    "import os\n",
    "import tensorflow as tf\n",
    "from tensorflow import keras\n",
    "import matplotlib.pyplot as plt\n",
    "from sklearn.model_selection import train_test_split\n",
    "import numpy as np\n",
    "import pathlib\n",
    "import cv2\n",
    "import splitfolders"
   ]
  },
  {
   "cell_type": "code",
   "execution_count": 36,
   "id": "d2036937",
   "metadata": {},
   "outputs": [],
   "source": [
    "train_dir=\"data/intel_dataset/images/seg_train/seg_train\"\n",
    "test_dir=\"data/intel_dataset/images/seg_test/seg_test\"\n",
    "val_dir=\"data/intel_dataset/images/seg_pred/seg_pred\"\n"
   ]
  },
  {
   "cell_type": "code",
   "execution_count": 18,
   "id": "ba77d918",
   "metadata": {},
   "outputs": [
    {
     "name": "stdout",
     "output_type": "stream",
     "text": [
      "C:\\Users\\fjdur\\Desktop\\upc\\project_notebooks\\github_project\\data\\intel_dataset\\images\\seg_train\\seg_train\n"
     ]
    }
   ],
   "source": [
    "cd \"C:/Users/fjdur/Desktop/upc/project_notebooks/github_project/data/intel_dataset/images/seg_train/seg_train/\""
   ]
  },
  {
   "cell_type": "code",
   "execution_count": 21,
   "id": "6a37f199",
   "metadata": {},
   "outputs": [
    {
     "data": {
      "text/plain": [
       "'C:\\\\Users\\\\fjdur\\\\Desktop\\\\upc\\\\project_notebooks\\\\github_project\\\\data\\\\intel_dataset\\\\images\\\\seg_train\\\\seg_train'"
      ]
     },
     "execution_count": 21,
     "metadata": {},
     "output_type": "execute_result"
    }
   ],
   "source": [
    "pwd"
   ]
  },
  {
   "cell_type": "code",
   "execution_count": 22,
   "id": "a697bda2",
   "metadata": {},
   "outputs": [
    {
     "name": "stdout",
     "output_type": "stream",
     "text": [
      " Volume in drive C is Windows\n",
      " Volume Serial Number is 54D3-6FC8\n",
      "\n",
      " Directory of C:\\Users\\fjdur\\Desktop\\upc\\project_notebooks\\github_project\\data\\intel_dataset\\images\\seg_train\\seg_train\n",
      "\n",
      "09/10/2021  18:37    <DIR>          .\n",
      "09/10/2021  18:37    <DIR>          ..\n",
      "09/10/2021  18:37    <DIR>          buildings\n",
      "09/10/2021  18:37    <DIR>          forest\n",
      "09/10/2021  18:37    <DIR>          glacier\n",
      "09/10/2021  18:37    <DIR>          mountain\n",
      "09/10/2021  18:37    <DIR>          sea\n",
      "09/10/2021  18:37    <DIR>          street\n",
      "               0 File(s)              0 bytes\n",
      "               8 Dir(s)  16,064,819,200 bytes free\n"
     ]
    }
   ],
   "source": [
    "ls"
   ]
  },
  {
   "cell_type": "code",
   "execution_count": 28,
   "id": "cc338ab8",
   "metadata": {},
   "outputs": [],
   "source": [
    "name_dict = {\"00000\":\"buildings\",\n",
    "             \"00001\":\"forest\",\n",
    "             \"00002\":\"glacier\",\n",
    "             \"00003\":\"mountain\",\n",
    "             \"00004\":\"sea\",\n",
    "             \"00005\":\"street\"}"
   ]
  },
  {
   "cell_type": "code",
   "execution_count": 5,
   "id": "186a2d5b",
   "metadata": {},
   "outputs": [
    {
     "data": {
      "text/plain": [
       "'00000'"
      ]
     },
     "execution_count": 5,
     "metadata": {},
     "output_type": "execute_result"
    }
   ],
   "source": [
    "def method2(dict, value):\n",
    "    return [name for name,age in dict.items() if age == value]\n",
    "\n",
    "method2(name_dict,\"buildings\")[0]"
   ]
  },
  {
   "cell_type": "code",
   "execution_count": 33,
   "id": "2d4128e0",
   "metadata": {},
   "outputs": [
    {
     "data": {
      "text/plain": [
       "dict_keys(['00000', '00001', '00002', '00003', '00004', '00005'])"
      ]
     },
     "execution_count": 33,
     "metadata": {},
     "output_type": "execute_result"
    }
   ],
   "source": [
    "name_dict.keys()"
   ]
  },
  {
   "cell_type": "code",
   "execution_count": 34,
   "id": "6c59d032",
   "metadata": {},
   "outputs": [
    {
     "data": {
      "text/plain": [
       "'buildings'"
      ]
     },
     "execution_count": 34,
     "metadata": {},
     "output_type": "execute_result"
    }
   ],
   "source": [
    "name_dict[str(\"00000\")]"
   ]
  },
  {
   "cell_type": "code",
   "execution_count": 38,
   "id": "a202dfad",
   "metadata": {},
   "outputs": [],
   "source": [
    "#Renaming the directories with class names\n",
    "\n",
    "\n",
    "for root, dirs, files in os.walk(val_dir, topdown= False):\n",
    "  dirs = sorted(dirs)\n",
    "  for dir_name in dirs: \n",
    "    print(root +\"/\"+ dir_name)\n",
    "    #print(name_dict[str(dir_name)])\n",
    "    rename_dir = root +\"/\"+ dir_name\n",
    "    final_name = root +\"/\" + method2(name_dict,dir_name)[0]#name_dict[str(dir_name)]\n",
    "    os.rename(rename_dir, final_name)\n",
    "    \n",
    "\n",
    "\n"
   ]
  },
  {
   "cell_type": "code",
   "execution_count": 44,
   "id": "20cc06dd",
   "metadata": {},
   "outputs": [
    {
     "name": "stderr",
     "output_type": "stream",
     "text": [
      "Copying files: 14034 files [00:16, 839.93 files/s]\n"
     ]
    }
   ],
   "source": [
    "output_folder=\"C:/Users/fjdur/Desktop/upc/project_notebooks/github_project/data/intel_dataset/images/splited\"\n",
    "\n",
    "#output_folder = \"C:/Users/fjdur/Desktop/upc/project_notebooks/github_project/data_web_page/GTSRB_Final_Training_Images/GTSRB/split\"\n",
    "\n",
    "#output_folder = \"C:/Users/fjdur/Desktop/upc/project_notebooks/github_project/data_web_page/GTSRB_Final_Test_Images/GTSRB/splitted\"\n",
    "\n",
    "# input folder is data_dir\n",
    "splitfolders.ratio(train_dir, output= output_folder, seed = 42, ratio=(0.8, 0.2, 0))"
   ]
  },
  {
   "cell_type": "code",
   "execution_count": null,
   "id": "9c217b30",
   "metadata": {},
   "outputs": [],
   "source": []
  }
 ],
 "metadata": {
  "kernelspec": {
   "display_name": "Python 3",
   "language": "python",
   "name": "python3"
  },
  "language_info": {
   "codemirror_mode": {
    "name": "ipython",
    "version": 3
   },
   "file_extension": ".py",
   "mimetype": "text/x-python",
   "name": "python",
   "nbconvert_exporter": "python",
   "pygments_lexer": "ipython3",
   "version": "3.8.8"
  }
 },
 "nbformat": 4,
 "nbformat_minor": 5
}
