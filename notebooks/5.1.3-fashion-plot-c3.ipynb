{
 "cells": [
  {
   "cell_type": "code",
   "execution_count": 1,
   "id": "458bf345",
   "metadata": {},
   "outputs": [],
   "source": [
    "import argparse\n",
    "\n",
    "import numpy as np\n",
    "import tensorflow as tf\n",
    "#import keras.backend as K\n",
    "\n",
    "import matplotlib.pyplot as plt\n",
    "\n",
    "#from keras.utils import np_utils\n",
    "#from keras.models import Sequential\n",
    "#from keras.layers import Dense, Dropout, Activation, Flatten, Conv2D, MaxPooling2D\n",
    "#from keras.regularizers import l2\n",
    "\n",
    "import glob\n",
    "import os\n",
    "import cv2\n",
    "import tensorflow.keras as keras\n",
    "\n",
    "\n",
    "import time\n",
    "import argparse\n",
    "\n",
    "from tqdm import tqdm\n",
    "\n",
    "from tensorflow.keras.models import load_model, Model\n"
   ]
  },
  {
   "cell_type": "code",
   "execution_count": 2,
   "id": "d87645a5",
   "metadata": {},
   "outputs": [
    {
     "name": "stdout",
     "output_type": "stream",
     "text": [
      "D:\\guided-retraining\\utils\n"
     ]
    }
   ],
   "source": [
    "cd ../utils/"
   ]
  },
  {
   "cell_type": "code",
   "execution_count": 3,
   "id": "b4b5dea1",
   "metadata": {},
   "outputs": [
    {
     "name": "stdout",
     "output_type": "stream",
     "text": [
      "2.5.0\n",
      "keras\n",
      "2.5.0\n"
     ]
    }
   ],
   "source": [
    "import utils_guided_retraining2 as utils"
   ]
  },
  {
   "cell_type": "code",
   "execution_count": 4,
   "id": "a90d3511",
   "metadata": {},
   "outputs": [],
   "source": [
    "dataset = \"fashion\""
   ]
  },
  {
   "cell_type": "code",
   "execution_count": 5,
   "id": "07b34a1a",
   "metadata": {},
   "outputs": [
    {
     "name": "stdout",
     "output_type": "stream",
     "text": [
      "D:/guided-retraining/data/fashion/x_test.npy\n",
      "x_set len:  7001\n",
      "D:/guided-retraining/data/fashion/y_test.npy\n",
      "y_set len:  7001\n"
     ]
    }
   ],
   "source": [
    "x_test,y_test = utils.get_data(dataset,\"Test\",True)"
   ]
  },
  {
   "cell_type": "code",
   "execution_count": 6,
   "id": "244a4fbd",
   "metadata": {},
   "outputs": [
    {
     "name": "stdout",
     "output_type": "stream",
     "text": [
      "D:/guided-retraining/data/data_adversarial_july/fashion/train_and_adversary.npy\n",
      "x_set len:  55998\n",
      "D:/guided-retraining/data/data_adversarial_july/fashion/train_and_adversary_labels.npy\n",
      "y_set len:  55998\n"
     ]
    }
   ],
   "source": [
    "x_train_and_adversary,y_train_and_adversary = utils.get_data(dataset,\"Train_and_adversary\",True)"
   ]
  },
  {
   "cell_type": "code",
   "execution_count": 7,
   "id": "739175c8",
   "metadata": {},
   "outputs": [
    {
     "name": "stdout",
     "output_type": "stream",
     "text": [
      "D:/guided-retraining/data/data_adversarial_july/fashion/test_and_adversary.npy D:/guided-retraining/data/data_adversarial_july/fashion/test_and_adversary_labels.npy\n",
      "D:/guided-retraining/data/data_adversarial_july/fashion/test_and_adversary.npy\n",
      "x_set len:  14000\n",
      "D:/guided-retraining/data/data_adversarial_july/fashion/test_and_adversary_labels.npy\n",
      "y_set len:  14000\n"
     ]
    }
   ],
   "source": [
    "x_test_and_adversary,y_test_and_adversary = utils.get_adversarial_data(dataset,'Test_adversarial',True) "
   ]
  },
  {
   "cell_type": "code",
   "execution_count": 8,
   "id": "0875bdf0",
   "metadata": {},
   "outputs": [],
   "source": [
    "\n",
    "model_dir = \"C:/Users/fjdur/Documents/upc-july/models/tf_model_25-06/\"\n",
    "if(dataset == 'gtsrb'):\n",
    "    model_dir = \"C:/Users/fjdur/Documents/upc-july/models/tf_model_25-06\"\n",
    "elif(dataset == 'intel'):\n",
    "    model_dir = \"C:/Users/fjdur/Documents/upc-july/models/intel_model_21_10\"\n",
    "elif(dataset == 'mnist'):\n",
    "    model_dir = \"C:/Users/fjdur/Documents/upc-july/models/models2\"\n",
    "elif(dataset == 'cifar'):\n",
    "    model_dir = \"C:/Users/fjdur/Documents/upc-july/models/model_02\"\n",
    "elif(dataset == 'fashion'):\n",
    "    model_dir = \"D:/guided-retraining/models/model_fashion_2\"\n"
   ]
  },
  {
   "cell_type": "code",
   "execution_count": 9,
   "id": "1485065e",
   "metadata": {},
   "outputs": [
    {
     "name": "stdout",
     "output_type": "stream",
     "text": [
      "D:/guided-retraining/models/model_fashion_2\n",
      "D:/guided-retraining/models/model_fashion_2\n",
      "Model loaded correctly\n"
     ]
    }
   ],
   "source": [
    "print(model_dir)\n",
    "model_original = utils.My_model(dataset,True, model_dir)"
   ]
  },
  {
   "cell_type": "markdown",
   "id": "48e95400",
   "metadata": {},
   "source": [
    "## Loading models"
   ]
  },
  {
   "cell_type": "code",
   "execution_count": 10,
   "id": "a22156f9",
   "metadata": {},
   "outputs": [],
   "source": [
    "data_dir = \"D:/models/aug_22\"\n",
    "dataset = \"fashion\"\n",
    "config = \"C3\"\n",
    "config_lc = \"c3\"\n",
    "num_models = 20"
   ]
  },
  {
   "cell_type": "code",
   "execution_count": 12,
   "id": "c0dc05ec",
   "metadata": {},
   "outputs": [
    {
     "name": "stdout",
     "output_type": "stream",
     "text": [
      "D:/models/aug_22/fashion/C3/fashion_model_c3_may_lsa_e1_0\n",
      "Model loaded correctly\n",
      "D:/models/aug_22/fashion/C3/fashion_model_c3_may_lsa_e1_1\n",
      "Model loaded correctly\n",
      "D:/models/aug_22/fashion/C3/fashion_model_c3_may_lsa_e1_2\n",
      "Model loaded correctly\n",
      "D:/models/aug_22/fashion/C3/fashion_model_c3_may_lsa_e1_3\n",
      "Model loaded correctly\n",
      "D:/models/aug_22/fashion/C3/fashion_model_c3_may_lsa_e1_4\n",
      "Model loaded correctly\n",
      "D:/models/aug_22/fashion/C3/fashion_model_c3_may_lsa_e1_5\n",
      "Model loaded correctly\n",
      "D:/models/aug_22/fashion/C3/fashion_model_c3_may_lsa_e1_6\n",
      "Model loaded correctly\n",
      "D:/models/aug_22/fashion/C3/fashion_model_c3_may_lsa_e1_7\n",
      "Model loaded correctly\n",
      "D:/models/aug_22/fashion/C3/fashion_model_c3_may_lsa_e1_8\n",
      "Model loaded correctly\n",
      "D:/models/aug_22/fashion/C3/fashion_model_c3_may_lsa_e1_9\n",
      "Model loaded correctly\n",
      "D:/models/aug_22/fashion/C3/fashion_model_c3_may_lsa_e1_10\n",
      "Model loaded correctly\n",
      "D:/models/aug_22/fashion/C3/fashion_model_c3_may_lsa_e1_11\n",
      "Model loaded correctly\n",
      "D:/models/aug_22/fashion/C3/fashion_model_c3_may_lsa_e1_12\n",
      "Model loaded correctly\n",
      "D:/models/aug_22/fashion/C3/fashion_model_c3_may_lsa_e1_13\n",
      "Model loaded correctly\n",
      "D:/models/aug_22/fashion/C3/fashion_model_c3_may_lsa_e1_14\n",
      "Model loaded correctly\n",
      "D:/models/aug_22/fashion/C3/fashion_model_c3_may_lsa_e1_15\n",
      "Model loaded correctly\n",
      "D:/models/aug_22/fashion/C3/fashion_model_c3_may_lsa_e1_16\n",
      "Model loaded correctly\n",
      "D:/models/aug_22/fashion/C3/fashion_model_c3_may_lsa_e1_17\n",
      "Model loaded correctly\n",
      "D:/models/aug_22/fashion/C3/fashion_model_c3_may_lsa_e1_18\n",
      "Model loaded correctly\n",
      "D:/models/aug_22/fashion/C3/fashion_model_c3_may_lsa_e1_19\n",
      "Model loaded correctly\n"
     ]
    }
   ],
   "source": [
    "loading = True\n",
    "\n",
    "models_lsa = []\n",
    "\n",
    "if loading:\n",
    "    for i in range(num_models):\n",
    "        model_lsa_dir = data_dir+\"/\"+dataset+\"/C3/\"+dataset+\"_model_c3_may_lsa_e1_\"+str(i)\n",
    "        print(model_lsa_dir)\n",
    "        model =utils.My_model(dataset,True,model_lsa_dir)\n",
    "        model.model.compile(loss= 'categorical_crossentropy', optimizer = 'rmsprop', metrics = ['accuracy',tf.keras.metrics.Precision(), tf.keras.metrics.Recall()])\n",
    "        models_lsa.append(model)\n",
    "       \n",
    "    "
   ]
  },
  {
   "cell_type": "code",
   "execution_count": 13,
   "id": "6499958d",
   "metadata": {},
   "outputs": [
    {
     "data": {
      "text/plain": [
       "20"
      ]
     },
     "execution_count": 13,
     "metadata": {},
     "output_type": "execute_result"
    }
   ],
   "source": [
    "len(models_lsa)"
   ]
  },
  {
   "cell_type": "code",
   "execution_count": 14,
   "id": "da4d6ed4",
   "metadata": {},
   "outputs": [
    {
     "name": "stdout",
     "output_type": "stream",
     "text": [
      "D:/models/aug_22/fashion/C3/fashion_model_c3_may_dsa_e1_0\n",
      "Model loaded correctly\n",
      "D:/models/aug_22/fashion/C3/fashion_model_c3_may_dsa_e1_1\n",
      "Model loaded correctly\n",
      "D:/models/aug_22/fashion/C3/fashion_model_c3_may_dsa_e1_2\n",
      "Model loaded correctly\n",
      "D:/models/aug_22/fashion/C3/fashion_model_c3_may_dsa_e1_3\n",
      "Model loaded correctly\n",
      "D:/models/aug_22/fashion/C3/fashion_model_c3_may_dsa_e1_4\n",
      "Model loaded correctly\n",
      "D:/models/aug_22/fashion/C3/fashion_model_c3_may_dsa_e1_5\n",
      "Model loaded correctly\n",
      "D:/models/aug_22/fashion/C3/fashion_model_c3_may_dsa_e1_6\n",
      "Model loaded correctly\n",
      "D:/models/aug_22/fashion/C3/fashion_model_c3_may_dsa_e1_7\n",
      "Model loaded correctly\n",
      "D:/models/aug_22/fashion/C3/fashion_model_c3_may_dsa_e1_8\n",
      "Model loaded correctly\n",
      "D:/models/aug_22/fashion/C3/fashion_model_c3_may_dsa_e1_9\n",
      "Model loaded correctly\n",
      "D:/models/aug_22/fashion/C3/fashion_model_c3_may_dsa_e1_10\n",
      "Model loaded correctly\n",
      "D:/models/aug_22/fashion/C3/fashion_model_c3_may_dsa_e1_11\n",
      "Model loaded correctly\n",
      "D:/models/aug_22/fashion/C3/fashion_model_c3_may_dsa_e1_12\n",
      "Model loaded correctly\n",
      "D:/models/aug_22/fashion/C3/fashion_model_c3_may_dsa_e1_13\n",
      "Model loaded correctly\n",
      "D:/models/aug_22/fashion/C3/fashion_model_c3_may_dsa_e1_14\n",
      "Model loaded correctly\n",
      "D:/models/aug_22/fashion/C3/fashion_model_c3_may_dsa_e1_15\n",
      "Model loaded correctly\n",
      "D:/models/aug_22/fashion/C3/fashion_model_c3_may_dsa_e1_16\n",
      "Model loaded correctly\n",
      "D:/models/aug_22/fashion/C3/fashion_model_c3_may_dsa_e1_17\n",
      "Model loaded correctly\n",
      "D:/models/aug_22/fashion/C3/fashion_model_c3_may_dsa_e1_18\n",
      "Model loaded correctly\n",
      "D:/models/aug_22/fashion/C3/fashion_model_c3_may_dsa_e1_19\n",
      "Model loaded correctly\n"
     ]
    }
   ],
   "source": [
    "loading = True\n",
    "\n",
    "models_dsa = []\n",
    "\n",
    "if loading:\n",
    "    for i in range(num_models):\n",
    "        #model_dsa_dir = \"D:/models/gtsrb_models/C1/gtsrb_model_c1_sep_dsa_e2_\"+str(i)\n",
    "        model_dsa_dir = data_dir+\"/\"+dataset+\"/C3/\"+dataset+\"_model_c3_may_dsa_e1_\"+str(i)\n",
    "        print(model_dsa_dir)\n",
    "        model =utils.My_model(dataset,True,model_dsa_dir)\n",
    "        model.model.compile(loss= 'categorical_crossentropy', optimizer = 'rmsprop', metrics = ['accuracy',tf.keras.metrics.Precision(), tf.keras.metrics.Recall()])\n",
    "        models_dsa.append(model)\n",
    "       \n",
    "\n",
    "    "
   ]
  },
  {
   "cell_type": "code",
   "execution_count": 16,
   "id": "0a4a7c64",
   "metadata": {
    "scrolled": true
   },
   "outputs": [
    {
     "name": "stdout",
     "output_type": "stream",
     "text": [
      "D:/models/aug_22/fashion/C3/fashion_model_c3_may_dg_e1_0\n",
      "Model loaded correctly\n",
      "D:/models/aug_22/fashion/C3/fashion_model_c3_may_dg_e1_1\n",
      "Model loaded correctly\n",
      "D:/models/aug_22/fashion/C3/fashion_model_c3_may_dg_e1_2\n",
      "Model loaded correctly\n",
      "D:/models/aug_22/fashion/C3/fashion_model_c3_may_dg_e1_3\n",
      "Model loaded correctly\n",
      "D:/models/aug_22/fashion/C3/fashion_model_c3_may_dg_e1_4\n",
      "Model loaded correctly\n",
      "D:/models/aug_22/fashion/C3/fashion_model_c3_may_dg_e1_5\n",
      "Model loaded correctly\n",
      "D:/models/aug_22/fashion/C3/fashion_model_c3_may_dg_e1_6\n",
      "Model loaded correctly\n",
      "D:/models/aug_22/fashion/C3/fashion_model_c3_may_dg_e1_7\n",
      "Model loaded correctly\n",
      "D:/models/aug_22/fashion/C3/fashion_model_c3_may_dg_e1_8\n",
      "Model loaded correctly\n",
      "D:/models/aug_22/fashion/C3/fashion_model_c3_may_dg_e1_9\n",
      "Model loaded correctly\n",
      "D:/models/aug_22/fashion/C3/fashion_model_c3_may_dg_e1_10\n",
      "Model loaded correctly\n",
      "D:/models/aug_22/fashion/C3/fashion_model_c3_may_dg_e1_11\n",
      "Model loaded correctly\n",
      "D:/models/aug_22/fashion/C3/fashion_model_c3_may_dg_e1_12\n",
      "Model loaded correctly\n",
      "D:/models/aug_22/fashion/C3/fashion_model_c3_may_dg_e1_13\n",
      "Model loaded correctly\n",
      "D:/models/aug_22/fashion/C3/fashion_model_c3_may_dg_e1_14\n",
      "Model loaded correctly\n",
      "D:/models/aug_22/fashion/C3/fashion_model_c3_may_dg_e1_15\n",
      "Model loaded correctly\n",
      "D:/models/aug_22/fashion/C3/fashion_model_c3_may_dg_e1_16\n",
      "Model loaded correctly\n",
      "D:/models/aug_22/fashion/C3/fashion_model_c3_may_dg_e1_17\n",
      "Model loaded correctly\n",
      "D:/models/aug_22/fashion/C3/fashion_model_c3_may_dg_e1_18\n",
      "Model loaded correctly\n",
      "D:/models/aug_22/fashion/C3/fashion_model_c3_may_dg_e1_19\n",
      "Model loaded correctly\n"
     ]
    }
   ],
   "source": [
    "loading = True\n",
    "\n",
    "models_dg = []\n",
    "\n",
    "if loading:\n",
    "    for i in range(num_models):\n",
    "        #model_dg_dir = \"D:/models/aug_22/gtsrb/C1/gtsrb_model_c1_aug_gn_e1_\"+str(i)\n",
    "        model_dg_dir = data_dir+\"/\"+dataset+\"/C3/\"+dataset+\"_model_c3_may_dg_e1_\"+str(i)\n",
    "        \n",
    "        print(model_dg_dir)\n",
    "        model =utils.My_model(dataset,True,model_dg_dir)\n",
    "        model.model.compile(loss= 'categorical_crossentropy', optimizer = 'rmsprop', metrics = ['accuracy',tf.keras.metrics.Precision(), tf.keras.metrics.Recall()])\n",
    "        models_dg.append(model)\n",
    "       \n",
    "    "
   ]
  },
  {
   "cell_type": "code",
   "execution_count": 15,
   "id": "9301cc38",
   "metadata": {},
   "outputs": [
    {
     "name": "stdout",
     "output_type": "stream",
     "text": [
      "D:/models/aug_22/fashion/C3/fashion_model_c3_may_se_e1_0\n",
      "Model loaded correctly\n",
      "D:/models/aug_22/fashion/C3/fashion_model_c3_may_se_e1_1\n",
      "Model loaded correctly\n",
      "D:/models/aug_22/fashion/C3/fashion_model_c3_may_se_e1_2\n",
      "Model loaded correctly\n",
      "D:/models/aug_22/fashion/C3/fashion_model_c3_may_se_e1_3\n",
      "Model loaded correctly\n",
      "D:/models/aug_22/fashion/C3/fashion_model_c3_may_se_e1_4\n",
      "Model loaded correctly\n",
      "D:/models/aug_22/fashion/C3/fashion_model_c3_may_se_e1_5\n",
      "Model loaded correctly\n",
      "D:/models/aug_22/fashion/C3/fashion_model_c3_may_se_e1_6\n",
      "Model loaded correctly\n",
      "D:/models/aug_22/fashion/C3/fashion_model_c3_may_se_e1_7\n",
      "Model loaded correctly\n",
      "D:/models/aug_22/fashion/C3/fashion_model_c3_may_se_e1_8\n",
      "Model loaded correctly\n",
      "D:/models/aug_22/fashion/C3/fashion_model_c3_may_se_e1_9\n",
      "Model loaded correctly\n",
      "D:/models/aug_22/fashion/C3/fashion_model_c3_may_se_e1_10\n",
      "Model loaded correctly\n",
      "D:/models/aug_22/fashion/C3/fashion_model_c3_may_se_e1_11\n",
      "Model loaded correctly\n",
      "D:/models/aug_22/fashion/C3/fashion_model_c3_may_se_e1_12\n",
      "Model loaded correctly\n",
      "D:/models/aug_22/fashion/C3/fashion_model_c3_may_se_e1_13\n",
      "Model loaded correctly\n",
      "D:/models/aug_22/fashion/C3/fashion_model_c3_may_se_e1_14\n",
      "Model loaded correctly\n",
      "D:/models/aug_22/fashion/C3/fashion_model_c3_may_se_e1_15\n",
      "Model loaded correctly\n",
      "D:/models/aug_22/fashion/C3/fashion_model_c3_may_se_e1_16\n",
      "Model loaded correctly\n",
      "D:/models/aug_22/fashion/C3/fashion_model_c3_may_se_e1_17\n",
      "Model loaded correctly\n",
      "D:/models/aug_22/fashion/C3/fashion_model_c3_may_se_e1_18\n",
      "Model loaded correctly\n",
      "D:/models/aug_22/fashion/C3/fashion_model_c3_may_se_e1_19\n",
      "Model loaded correctly\n"
     ]
    }
   ],
   "source": [
    "loading = True\n",
    "\n",
    "models_se = []\n",
    "\n",
    "if loading:\n",
    "    for i in range(num_models):\n",
    "        \n",
    "        model_se_dir = data_dir+\"/\"+dataset+\"/C3/\"+dataset+\"_model_c3_may_se_e1_\"+str(i)\n",
    "        \n",
    "        print(model_se_dir)\n",
    "        model =utils.My_model(dataset,True,model_se_dir)\n",
    "        model.model.compile(loss= 'categorical_crossentropy', optimizer = 'rmsprop', metrics = ['accuracy',tf.keras.metrics.Precision(), tf.keras.metrics.Recall()])\n",
    "        models_se.append(model)"
   ]
  },
  {
   "cell_type": "code",
   "execution_count": 17,
   "id": "eb1718e3",
   "metadata": {},
   "outputs": [
    {
     "name": "stdout",
     "output_type": "stream",
     "text": [
      "D:/models/aug_22/fashion/C3/fashion_model_c3_aug_random_e1_0\n",
      "Model loaded correctly\n",
      "D:/models/aug_22/fashion/C3/fashion_model_c3_aug_random_e1_1\n",
      "Model loaded correctly\n",
      "D:/models/aug_22/fashion/C3/fashion_model_c3_aug_random_e1_2\n",
      "Model loaded correctly\n",
      "D:/models/aug_22/fashion/C3/fashion_model_c3_aug_random_e1_3\n",
      "Model loaded correctly\n",
      "D:/models/aug_22/fashion/C3/fashion_model_c3_aug_random_e1_4\n",
      "Model loaded correctly\n",
      "D:/models/aug_22/fashion/C3/fashion_model_c3_aug_random_e1_5\n",
      "Model loaded correctly\n",
      "D:/models/aug_22/fashion/C3/fashion_model_c3_aug_random_e1_6\n",
      "Model loaded correctly\n",
      "D:/models/aug_22/fashion/C3/fashion_model_c3_aug_random_e1_7\n",
      "Model loaded correctly\n",
      "D:/models/aug_22/fashion/C3/fashion_model_c3_aug_random_e1_8\n",
      "Model loaded correctly\n",
      "D:/models/aug_22/fashion/C3/fashion_model_c3_aug_random_e1_9\n",
      "Model loaded correctly\n",
      "D:/models/aug_22/fashion/C3/fashion_model_c3_aug_random_e1_10\n",
      "Model loaded correctly\n",
      "D:/models/aug_22/fashion/C3/fashion_model_c3_aug_random_e1_11\n",
      "Model loaded correctly\n",
      "D:/models/aug_22/fashion/C3/fashion_model_c3_aug_random_e1_12\n",
      "Model loaded correctly\n",
      "D:/models/aug_22/fashion/C3/fashion_model_c3_aug_random_e1_13\n",
      "Model loaded correctly\n",
      "D:/models/aug_22/fashion/C3/fashion_model_c3_aug_random_e1_14\n",
      "Model loaded correctly\n",
      "D:/models/aug_22/fashion/C3/fashion_model_c3_aug_random_e1_15\n",
      "Model loaded correctly\n",
      "D:/models/aug_22/fashion/C3/fashion_model_c3_aug_random_e1_16\n",
      "Model loaded correctly\n",
      "D:/models/aug_22/fashion/C3/fashion_model_c3_aug_random_e1_17\n",
      "Model loaded correctly\n",
      "D:/models/aug_22/fashion/C3/fashion_model_c3_aug_random_e1_18\n",
      "Model loaded correctly\n",
      "D:/models/aug_22/fashion/C3/fashion_model_c3_aug_random_e1_19\n",
      "Model loaded correctly\n"
     ]
    }
   ],
   "source": [
    "loading = True\n",
    "\n",
    "models_random = []\n",
    "\n",
    "if loading:\n",
    "    for i in range(num_models):\n",
    "        #model_random_dir = \"D:/models/aug_22/gtsrb/C1/gtsrb_model_c1_aug_random_e1_\"+str(i)\n",
    "        model_random_dir = data_dir+\"/\"+dataset+\"/C3/\"+dataset+\"_model_c3_aug_random_e1_\"+str(i)\n",
    "        \n",
    "        print(model_random_dir)\n",
    "        model =utils.My_model(dataset,True,model_random_dir)\n",
    "        model.model.compile(loss= 'categorical_crossentropy', optimizer = 'rmsprop', metrics = ['accuracy',tf.keras.metrics.Precision(), tf.keras.metrics.Recall()])\n",
    "        models_random.append(model)\n",
    "       "
   ]
  },
  {
   "cell_type": "code",
   "execution_count": 18,
   "id": "b9860981",
   "metadata": {
    "scrolled": true
   },
   "outputs": [
    {
     "name": "stdout",
     "output_type": "stream",
     "text": [
      "D:/models/aug_22/fashion/C3/fashion_model_c3_aug_nc_e1_0\n",
      "Model loaded correctly\n",
      "D:/models/aug_22/fashion/C3/fashion_model_c3_aug_nc_e1_1\n",
      "Model loaded correctly\n",
      "D:/models/aug_22/fashion/C3/fashion_model_c3_aug_nc_e1_2\n",
      "Model loaded correctly\n",
      "D:/models/aug_22/fashion/C3/fashion_model_c3_aug_nc_e1_3\n",
      "Model loaded correctly\n",
      "D:/models/aug_22/fashion/C3/fashion_model_c3_aug_nc_e1_4\n",
      "Model loaded correctly\n",
      "D:/models/aug_22/fashion/C3/fashion_model_c3_aug_nc_e1_5\n",
      "Model loaded correctly\n",
      "D:/models/aug_22/fashion/C3/fashion_model_c3_aug_nc_e1_6\n",
      "Model loaded correctly\n",
      "D:/models/aug_22/fashion/C3/fashion_model_c3_aug_nc_e1_7\n",
      "Model loaded correctly\n",
      "D:/models/aug_22/fashion/C3/fashion_model_c3_aug_nc_e1_8\n",
      "Model loaded correctly\n",
      "D:/models/aug_22/fashion/C3/fashion_model_c3_aug_nc_e1_9\n",
      "Model loaded correctly\n",
      "D:/models/aug_22/fashion/C3/fashion_model_c3_aug_nc_e1_10\n",
      "Model loaded correctly\n",
      "D:/models/aug_22/fashion/C3/fashion_model_c3_aug_nc_e1_11\n",
      "Model loaded correctly\n",
      "D:/models/aug_22/fashion/C3/fashion_model_c3_aug_nc_e1_12\n",
      "Model loaded correctly\n",
      "D:/models/aug_22/fashion/C3/fashion_model_c3_aug_nc_e1_13\n",
      "Model loaded correctly\n",
      "D:/models/aug_22/fashion/C3/fashion_model_c3_aug_nc_e1_14\n",
      "Model loaded correctly\n",
      "D:/models/aug_22/fashion/C3/fashion_model_c3_aug_nc_e1_15\n",
      "Model loaded correctly\n",
      "D:/models/aug_22/fashion/C3/fashion_model_c3_aug_nc_e1_16\n",
      "Model loaded correctly\n",
      "D:/models/aug_22/fashion/C3/fashion_model_c3_aug_nc_e1_17\n",
      "Model loaded correctly\n",
      "D:/models/aug_22/fashion/C3/fashion_model_c3_aug_nc_e1_18\n",
      "Model loaded correctly\n",
      "D:/models/aug_22/fashion/C3/fashion_model_c3_aug_nc_e1_19\n",
      "Model loaded correctly\n"
     ]
    }
   ],
   "source": [
    "loading = True\n",
    "\n",
    "models_nc = []\n",
    "\n",
    "if loading:\n",
    "    for i in range(num_models):\n",
    "        #model_nc_dir = \"D:/models/aug_22/\"+dataset+\"/C1/\"+dataset+\"_model_c1_aug_nc_e1\"+str\n",
    "        model_nc_dir = data_dir+\"/\"+dataset+\"/C3/\"+dataset+\"_model_c3_aug_nc_e1_\"+str(i)\n",
    "        print(model_nc_dir)\n",
    "        model =utils.My_model(dataset,True,model_nc_dir)\n",
    "        model.model.compile(loss= 'categorical_crossentropy', optimizer = 'rmsprop', metrics = ['accuracy',tf.keras.metrics.Precision(), tf.keras.metrics.Recall()])\n",
    "        models_nc.append(model)"
   ]
  },
  {
   "cell_type": "markdown",
   "id": "e02952dc",
   "metadata": {},
   "source": [
    "## Evaluating"
   ]
  },
  {
   "cell_type": "code",
   "execution_count": 19,
   "id": "cbc59f41",
   "metadata": {},
   "outputs": [],
   "source": [
    "model_original.model.compile(loss= 'categorical_crossentropy', optimizer = 'rmsprop', metrics = ['accuracy',tf.keras.metrics.Precision(), tf.keras.metrics.Recall()])"
   ]
  },
  {
   "cell_type": "code",
   "execution_count": 20,
   "id": "286ee29c",
   "metadata": {},
   "outputs": [
    {
     "name": "stdout",
     "output_type": "stream",
     "text": [
      "438/438 [==============================] - 8s 14ms/step - loss: 0.5032 - accuracy: 0.8342 - precision_120: 0.8589 - recall_120: 0.8172\n",
      "438/438 [==============================] - 6s 14ms/step - loss: 0.5032 - accuracy: 0.8342 - precision_120: 0.8589 - recall_120: 0.8172\n",
      "438/438 [==============================] - 6s 14ms/step - loss: 0.5032 - accuracy: 0.8342 - precision_120: 0.8589 - recall_120: 0.8172\n",
      "438/438 [==============================] - 6s 14ms/step - loss: 0.5032 - accuracy: 0.8342 - precision_120: 0.8589 - recall_120: 0.8172\n",
      "438/438 [==============================] - 6s 13ms/step - loss: 0.5032 - accuracy: 0.8342 - precision_120: 0.8589 - recall_120: 0.8172\n",
      "438/438 [==============================] - 6s 13ms/step - loss: 0.5032 - accuracy: 0.8342 - precision_120: 0.8589 - recall_120: 0.8172\n"
     ]
    }
   ],
   "source": [
    "evaluate_lsa = []\n",
    "evaluate_dsa = []\n",
    "evaluate_dg = []\n",
    "evaluate_se = []\n",
    "evaluate_nc = []\n",
    "evaluate_random = []\n",
    "\n",
    "evaluate_lsa.append(model_original.evaluate(x_test_and_adversary,y_test_and_adversary))\n",
    "evaluate_dsa.append(model_original.evaluate(x_test_and_adversary,y_test_and_adversary))\n",
    "evaluate_dg.append(model_original.evaluate(x_test_and_adversary,y_test_and_adversary))\n",
    "evaluate_se.append(model_original.evaluate(x_test_and_adversary,y_test_and_adversary))\n",
    "evaluate_nc.append(model_original.evaluate(x_test_and_adversary,y_test_and_adversary))\n",
    "evaluate_random.append(model_original.evaluate(x_test_and_adversary,y_test_and_adversary))"
   ]
  },
  {
   "cell_type": "code",
   "execution_count": 21,
   "id": "30633373",
   "metadata": {},
   "outputs": [
    {
     "name": "stdout",
     "output_type": "stream",
     "text": [
      "Evaluating for lsa\n",
      "438/438 [==============================] - 8s 13ms/step - loss: 0.4956 - accuracy: 0.8443 - precision: 0.8623 - recall: 0.8298\n",
      "438/438 [==============================] - 7s 13ms/step - loss: 0.4196 - accuracy: 0.8592 - precision_1: 0.8765 - recall_1: 0.8463\n",
      "438/438 [==============================] - 7s 13ms/step - loss: 0.4152 - accuracy: 0.8624 - precision_2: 0.8798 - recall_2: 0.8484\n",
      "438/438 [==============================] - 8s 15ms/step - loss: 0.4019 - accuracy: 0.8659 - precision_3: 0.8804 - recall_3: 0.8551\n",
      "438/438 [==============================] - 7s 14ms/step - loss: 0.3927 - accuracy: 0.8679 - precision_4: 0.8837 - recall_4: 0.8574\n",
      "438/438 [==============================] - 7s 14ms/step - loss: 0.3988 - accuracy: 0.8714 - precision_5: 0.8815 - recall_5: 0.8626\n",
      "438/438 [==============================] - 8s 14ms/step - loss: 0.4054 - accuracy: 0.8701 - precision_6: 0.8841 - recall_6: 0.8606\n",
      "438/438 [==============================] - 7s 14ms/step - loss: 0.3784 - accuracy: 0.8680 - precision_7: 0.8875 - recall_7: 0.8507\n",
      "438/438 [==============================] - 7s 14ms/step - loss: 0.3709 - accuracy: 0.8777 - precision_8: 0.8910 - recall_8: 0.8636: 3s - \n",
      "438/438 [==============================] - 8s 15ms/step - loss: 0.3991 - accuracy: 0.8731 - precision_9: 0.8860 - recall_9: 0.8604\n",
      "438/438 [==============================] - 7s 13ms/step - loss: 0.3645 - accuracy: 0.8751 - precision_10: 0.8928 - recall_10: 0.8588\n",
      "438/438 [==============================] - 7s 14ms/step - loss: 0.3712 - accuracy: 0.8762 - precision_11: 0.8929 - recall_11: 0.8616\n",
      "438/438 [==============================] - 7s 14ms/step - loss: 0.3603 - accuracy: 0.8829 - precision_12: 0.8988 - recall_12: 0.8708\n",
      "438/438 [==============================] - 7s 13ms/step - loss: 0.3611 - accuracy: 0.8823 - precision_13: 0.8965 - recall_13: 0.8704\n",
      "438/438 [==============================] - 9s 14ms/step - loss: 0.3399 - accuracy: 0.8895 - precision_14: 0.9046 - recall_14: 0.8782\n",
      "438/438 [==============================] - 8s 14ms/step - loss: 0.3631 - accuracy: 0.8852 - precision_15: 0.8941 - recall_15: 0.8775\n",
      "438/438 [==============================] - 7s 14ms/step - loss: 0.3299 - accuracy: 0.8986 - precision_16: 0.9114 - recall_16: 0.8902\n",
      "438/438 [==============================] - 8s 14ms/step - loss: 0.3064 - accuracy: 0.8986 - precision_17: 0.9191 - recall_17: 0.8841\n",
      "438/438 [==============================] - 8s 14ms/step - loss: 0.3102 - accuracy: 0.9044 - precision_18: 0.9161 - recall_18: 0.8968\n",
      "438/438 [==============================] - 7s 14ms/step - loss: 0.3150 - accuracy: 0.9044 - precision_19: 0.9153 - recall_19: 0.8951\n",
      "Evaluating for dsa\n",
      "438/438 [==============================] - 7s 14ms/step - loss: 0.4675 - accuracy: 0.8553 - precision_20: 0.8768 - recall_20: 0.8390\n",
      "438/438 [==============================] - 7s 13ms/step - loss: 0.4299 - accuracy: 0.8631 - precision_21: 0.8827 - recall_21: 0.8446\n",
      "438/438 [==============================] - 7s 13ms/step - loss: 0.4431 - accuracy: 0.8711 - precision_22: 0.8865 - recall_22: 0.8603\n",
      "438/438 [==============================] - 8s 14ms/step - loss: 0.4277 - accuracy: 0.8721 - precision_23: 0.8862 - recall_23: 0.8604\n",
      "438/438 [==============================] - 7s 14ms/step - loss: 0.3829 - accuracy: 0.8697 - precision_24: 0.8887 - recall_24: 0.8541\n",
      "438/438 [==============================] - 7s 14ms/step - loss: 0.3613 - accuracy: 0.8767 - precision_25: 0.8918 - recall_25: 0.8638\n",
      "438/438 [==============================] - 7s 14ms/step - loss: 0.3464 - accuracy: 0.8846 - precision_26: 0.9012 - recall_26: 0.8689\n",
      "438/438 [==============================] - 7s 14ms/step - loss: 0.3317 - accuracy: 0.8915 - precision_27: 0.9048 - recall_27: 0.8799\n",
      "438/438 [==============================] - 7s 14ms/step - loss: 0.3406 - accuracy: 0.8924 - precision_28: 0.9045 - recall_28: 0.8831\n",
      "438/438 [==============================] - 8s 14ms/step - loss: 0.3167 - accuracy: 0.8934 - precision_29: 0.9115 - recall_29: 0.8794\n",
      "438/438 [==============================] - 8s 15ms/step - loss: 0.3356 - accuracy: 0.8951 - precision_30: 0.9063 - recall_30: 0.8859\n",
      "438/438 [==============================] - 7s 14ms/step - loss: 0.3061 - accuracy: 0.8983 - precision_31: 0.9139 - recall_31: 0.8861\n",
      "438/438 [==============================] - 7s 14ms/step - loss: 0.3191 - accuracy: 0.8976 - precision_32: 0.9094 - recall_32: 0.8899\n",
      "438/438 [==============================] - 7s 14ms/step - loss: 0.3154 - accuracy: 0.8967 - precision_33: 0.9129 - recall_33: 0.8856\n",
      "438/438 [==============================] - 7s 14ms/step - loss: 0.3070 - accuracy: 0.9001 - precision_34: 0.9140 - recall_34: 0.8886\n",
      "438/438 [==============================] - 7s 14ms/step - loss: 0.3155 - accuracy: 0.8999 - precision_35: 0.9129 - recall_35: 0.8889\n",
      "438/438 [==============================] - 7s 14ms/step - loss: 0.3205 - accuracy: 0.8947 - precision_36: 0.9055 - recall_36: 0.8851\n",
      "438/438 [==============================] - 7s 14ms/step - loss: 0.3153 - accuracy: 0.9041 - precision_37: 0.9141 - recall_37: 0.8962\n",
      "438/438 [==============================] - 7s 14ms/step - loss: 0.3307 - accuracy: 0.9016 - precision_38: 0.9133 - recall_38: 0.8936\n",
      "438/438 [==============================] - 7s 14ms/step - loss: 0.2961 - accuracy: 0.9090 - precision_39: 0.9196 - recall_39: 0.9014\n",
      "Evaluating for random\n",
      "438/438 [==============================] - 7s 14ms/step - loss: 0.4652 - accuracy: 0.8486 - precision_80: 0.8642 - recall_80: 0.8379\n",
      "438/438 [==============================] - 7s 14ms/step - loss: 0.4210 - accuracy: 0.8664 - precision_81: 0.8813 - recall_81: 0.8567\n",
      "438/438 [==============================] - 7s 13ms/step - loss: 0.4003 - accuracy: 0.8719 - precision_82: 0.8885 - recall_82: 0.8597\n",
      "438/438 [==============================] - 7s 13ms/step - loss: 0.3951 - accuracy: 0.8699 - precision_83: 0.8854 - recall_83: 0.8596\n",
      "438/438 [==============================] - 7s 14ms/step - loss: 0.3834 - accuracy: 0.8746 - precision_84: 0.8912 - recall_84: 0.8631\n",
      "438/438 [==============================] - 7s 14ms/step - loss: 0.3791 - accuracy: 0.8742 - precision_85: 0.8887 - recall_85: 0.8639\n",
      "438/438 [==============================] - 7s 13ms/step - loss: 0.3659 - accuracy: 0.8773 - precision_86: 0.8927 - recall_86: 0.8665\n",
      "438/438 [==============================] - 7s 14ms/step - loss: 0.3636 - accuracy: 0.8811 - precision_87: 0.8972 - recall_87: 0.8699\n",
      "438/438 [==============================] - 7s 14ms/step - loss: 0.3559 - accuracy: 0.8856 - precision_88: 0.9022 - recall_88: 0.8719\n",
      "438/438 [==============================] - 7s 14ms/step - loss: 0.3513 - accuracy: 0.8862 - precision_89: 0.8997 - recall_89: 0.8744\n",
      "438/438 [==============================] - 7s 14ms/step - loss: 0.3518 - accuracy: 0.8889 - precision_90: 0.9027 - recall_90: 0.8781\n",
      "438/438 [==============================] - 7s 14ms/step - loss: 0.3525 - accuracy: 0.8862 - precision_91: 0.9006 - recall_91: 0.8746\n",
      "438/438 [==============================] - 7s 14ms/step - loss: 0.3279 - accuracy: 0.8891 - precision_92: 0.9087 - recall_92: 0.8734\n",
      "438/438 [==============================] - 7s 14ms/step - loss: 0.3503 - accuracy: 0.8922 - precision_93: 0.9048 - recall_93: 0.8796\n",
      "438/438 [==============================] - 7s 13ms/step - loss: 0.3343 - accuracy: 0.8920 - precision_94: 0.9050 - recall_94: 0.8811\n",
      "438/438 [==============================] - 7s 14ms/step - loss: 0.3330 - accuracy: 0.8998 - precision_95: 0.9107 - recall_95: 0.8911\n",
      "438/438 [==============================] - 7s 14ms/step - loss: 0.3445 - accuracy: 0.8936 - precision_96: 0.9069 - recall_96: 0.8816\n",
      "438/438 [==============================] - 8s 14ms/step - loss: 0.3323 - accuracy: 0.9000 - precision_97: 0.9109 - recall_97: 0.8933\n",
      "438/438 [==============================] - 8s 15ms/step - loss: 0.3144 - accuracy: 0.9021 - precision_98: 0.9133 - recall_98: 0.8925\n",
      "438/438 [==============================] - 7s 14ms/step - loss: 0.2900 - accuracy: 0.9060 - precision_99: 0.9182 - recall_99: 0.8954\n",
      "Evaluating for nc\n",
      "438/438 [==============================] - 7s 14ms/step - loss: 0.4870 - accuracy: 0.8431 - precision_100: 0.8584 - recall_100: 0.8317\n",
      "438/438 [==============================] - 7s 14ms/step - loss: 0.4436 - accuracy: 0.8488 - precision_101: 0.8686 - recall_101: 0.8321\n",
      "438/438 [==============================] - 7s 14ms/step - loss: 0.4255 - accuracy: 0.8616 - precision_102: 0.8855 - recall_102: 0.8389\n",
      "438/438 [==============================] - 7s 14ms/step - loss: 0.4592 - accuracy: 0.8520 - precision_103: 0.8741 - recall_103: 0.8384\n",
      "438/438 [==============================] - 7s 14ms/step - loss: 0.4218 - accuracy: 0.8652 - precision_104: 0.8849 - recall_104: 0.8492\n",
      "438/438 [==============================] - 7s 14ms/step - loss: 0.4297 - accuracy: 0.8660 - precision_105: 0.8825 - recall_105: 0.8530\n",
      "438/438 [==============================] - 8s 17ms/step - loss: 0.4391 - accuracy: 0.8680 - precision_106: 0.8823 - recall_106: 0.8568\n",
      "438/438 [==============================] - 7s 12ms/step - loss: 0.3995 - accuracy: 0.8732 - precision_107: 0.8926 - recall_107: 0.8561\n",
      "438/438 [==============================] - 7s 12ms/step - loss: 0.4183 - accuracy: 0.8724 - precision_108: 0.8869 - recall_108: 0.8578\n",
      "438/438 [==============================] - 7s 14ms/step - loss: 0.4911 - accuracy: 0.8666 - precision_109: 0.8745 - recall_109: 0.8604\n",
      "438/438 [==============================] - 7s 14ms/step - loss: 0.3816 - accuracy: 0.8794 - precision_110: 0.8924 - recall_110: 0.8704\n",
      "438/438 [==============================] - 7s 13ms/step - loss: 0.3710 - accuracy: 0.8746 - precision_111: 0.8912 - recall_111: 0.8630\n",
      "438/438 [==============================] - 8s 15ms/step - loss: 0.3618 - accuracy: 0.8807 - precision_112: 0.8984 - recall_112: 0.8654\n",
      "438/438 [==============================] - 8s 15ms/step - loss: 0.3613 - accuracy: 0.8887 - precision_113: 0.8993 - recall_113: 0.8784\n",
      "438/438 [==============================] - 7s 14ms/step - loss: 0.3534 - accuracy: 0.8922 - precision_114: 0.9043 - recall_114: 0.8835\n",
      "438/438 [==============================] - 8s 15ms/step - loss: 0.3512 - accuracy: 0.8965 - precision_115: 0.9082 - recall_115: 0.8895\n",
      "438/438 [==============================] - 10s 15ms/step - loss: 0.3631 - accuracy: 0.8929 - precision_116: 0.9041 - recall_116: 0.8848\n",
      "438/438 [==============================] - 8s 15ms/step - loss: 0.3168 - accuracy: 0.9001 - precision_117: 0.9141 - recall_117: 0.8851\n",
      "438/438 [==============================] - 7s 14ms/step - loss: 0.3444 - accuracy: 0.9020 - precision_118: 0.9116 - recall_118: 0.8957\n",
      "438/438 [==============================] - 8s 15ms/step - loss: 0.3089 - accuracy: 0.9047 - precision_119: 0.9180 - recall_119: 0.8949\n"
     ]
    }
   ],
   "source": [
    "# Metrics using adversarial test\n",
    "\n",
    "#evaluate_lsa.append(model_original.evaluate(x_test_and_adversary,y_test_and_adversary))\n",
    "#evaluate_dsa.append(model_original.evaluate(x_test_and_adversary,y_test_and_adversary))\n",
    "#evaluate_nc.append(model_original.evaluate(x_test_and_adversary,y_test_and_adversary))\n",
    "#evaluate_random.append(model_original.evaluate(x_test_and_adversary,y_test_and_adversary))\n",
    "print(\"Evaluating for lsa\")\n",
    "for model in models_lsa:\n",
    "    evaluate_lsa.append(model.evaluate(x_test_and_adversary,y_test_and_adversary))\n",
    "    \n",
    "print(\"Evaluating for dsa\")\n",
    "for model in models_dsa:\n",
    "    evaluate_dsa.append(model.evaluate(x_test_and_adversary,y_test_and_adversary))\n",
    "print(\"Evaluating for random\")\n",
    "for model in models_random:\n",
    "    evaluate_random.append(model.evaluate(x_test_and_adversary,y_test_and_adversary))\n",
    "print(\"Evaluating for nc\")\n",
    "for model in models_nc:\n",
    "    evaluate_nc.append(model.evaluate(x_test_and_adversary,y_test_and_adversary))"
   ]
  },
  {
   "cell_type": "code",
   "execution_count": 22,
   "id": "ae3df5fe",
   "metadata": {},
   "outputs": [
    {
     "name": "stdout",
     "output_type": "stream",
     "text": [
      "Evaluating for dg\n",
      "438/438 [==============================] - 7s 14ms/step - loss: 0.5741 - accuracy: 0.8537 - precision_60: 0.8641 - recall_60: 0.8462\n",
      "438/438 [==============================] - 7s 14ms/step - loss: 0.5038 - accuracy: 0.8656 - precision_61: 0.8766 - recall_61: 0.8573\n",
      "438/438 [==============================] - 8s 15ms/step - loss: 0.4485 - accuracy: 0.8734 - precision_62: 0.8839 - recall_62: 0.8646\n",
      "438/438 [==============================] - 7s 14ms/step - loss: 0.4314 - accuracy: 0.8723 - precision_63: 0.8868 - recall_63: 0.8619\n",
      "438/438 [==============================] - 8s 15ms/step - loss: 0.4009 - accuracy: 0.8789 - precision_64: 0.8906 - recall_64: 0.8682\n",
      "438/438 [==============================] - 8s 15ms/step - loss: 0.3823 - accuracy: 0.8799 - precision_65: 0.8956 - recall_65: 0.8661\n",
      "438/438 [==============================] - 8s 15ms/step - loss: 0.3820 - accuracy: 0.8751 - precision_66: 0.8882 - recall_66: 0.8643\n",
      "438/438 [==============================] - 8s 15ms/step - loss: 0.3504 - accuracy: 0.8846 - precision_67: 0.8998 - recall_67: 0.8727\n",
      "438/438 [==============================] - 8s 15ms/step - loss: 0.3392 - accuracy: 0.8892 - precision_68: 0.9041 - recall_68: 0.8784\n",
      "438/438 [==============================] - 8s 15ms/step - loss: 0.3495 - accuracy: 0.8834 - precision_69: 0.9004 - recall_69: 0.8689\n",
      "438/438 [==============================] - 8s 15ms/step - loss: 0.3219 - accuracy: 0.8959 - precision_70: 0.9092 - recall_70: 0.8847\n",
      "438/438 [==============================] - 8s 16ms/step - loss: 0.3078 - accuracy: 0.8971 - precision_71: 0.9111 - recall_71: 0.8877\n",
      "438/438 [==============================] - 6s 12ms/step - loss: 0.3407 - accuracy: 0.8967 - precision_72: 0.9074 - recall_72: 0.8902: \n",
      "438/438 [==============================] - 7s 13ms/step - loss: 0.3101 - accuracy: 0.8976 - precision_73: 0.9153 - recall_73: 0.8859\n",
      "438/438 [==============================] - 6s 11ms/step - loss: 0.3005 - accuracy: 0.9044 - precision_74: 0.9180 - recall_74: 0.8936\n",
      "438/438 [==============================] - 7s 13ms/step - loss: 0.3267 - accuracy: 0.9006 - precision_75: 0.9110 - recall_75: 0.8933\n",
      "438/438 [==============================] - 7s 14ms/step - loss: 0.3164 - accuracy: 0.9029 - precision_76: 0.9148 - recall_76: 0.8949\n",
      "438/438 [==============================] - 7s 14ms/step - loss: 0.3035 - accuracy: 0.9031 - precision_77: 0.9145 - recall_77: 0.8936\n",
      "438/438 [==============================] - 7s 14ms/step - loss: 0.3182 - accuracy: 0.9037 - precision_78: 0.9145 - recall_78: 0.8958\n",
      "438/438 [==============================] - 7s 14ms/step - loss: 0.3420 - accuracy: 0.8999 - precision_79: 0.9100 - recall_79: 0.8931\n",
      "Evaluating for se\n",
      "438/438 [==============================] - 7s 14ms/step - loss: 0.5726 - accuracy: 0.8550 - precision_40: 0.8657 - recall_40: 0.8470\n",
      "438/438 [==============================] - 7s 14ms/step - loss: 0.5367 - accuracy: 0.8671 - precision_41: 0.8763 - recall_41: 0.8602\n",
      "438/438 [==============================] - 7s 14ms/step - loss: 0.4688 - accuracy: 0.8696 - precision_42: 0.8828 - recall_42: 0.8605\n",
      "438/438 [==============================] - 7s 14ms/step - loss: 0.4298 - accuracy: 0.8741 - precision_43: 0.8895 - recall_43: 0.8634\n",
      "438/438 [==============================] - 8s 14ms/step - loss: 0.4220 - accuracy: 0.8785 - precision_44: 0.8928 - recall_44: 0.8685\n",
      "438/438 [==============================] - 7s 14ms/step - loss: 0.3909 - accuracy: 0.8809 - precision_45: 0.8946 - recall_45: 0.8719\n",
      "438/438 [==============================] - 7s 14ms/step - loss: 0.3832 - accuracy: 0.8821 - precision_46: 0.8956 - recall_46: 0.8697\n",
      "438/438 [==============================] - 7s 14ms/step - loss: 0.3481 - accuracy: 0.8851 - precision_47: 0.9004 - recall_47: 0.8721\n",
      "438/438 [==============================] - 8s 15ms/step - loss: 0.3376 - accuracy: 0.8916 - precision_48: 0.9064 - recall_48: 0.8812\n",
      "438/438 [==============================] - 7s 14ms/step - loss: 0.3554 - accuracy: 0.8896 - precision_49: 0.9026 - recall_49: 0.8799\n",
      "438/438 [==============================] - 7s 14ms/step - loss: 0.3264 - accuracy: 0.8934 - precision_50: 0.9080 - recall_50: 0.8824\n",
      "438/438 [==============================] - 7s 13ms/step - loss: 0.3212 - accuracy: 0.8976 - precision_51: 0.9088 - recall_51: 0.8894\n",
      "438/438 [==============================] - 7s 14ms/step - loss: 0.3016 - accuracy: 0.8996 - precision_52: 0.9173 - recall_52: 0.8829\n",
      "438/438 [==============================] - 7s 14ms/step - loss: 0.3081 - accuracy: 0.9027 - precision_53: 0.9128 - recall_53: 0.8943\n",
      "438/438 [==============================] - 7s 14ms/step - loss: 0.3089 - accuracy: 0.9009 - precision_54: 0.9129 - recall_54: 0.8874\n",
      "438/438 [==============================] - 7s 13ms/step - loss: 0.3033 - accuracy: 0.8994 - precision_55: 0.9152 - recall_55: 0.8872\n",
      "438/438 [==============================] - 8s 14ms/step - loss: 0.3013 - accuracy: 0.9032 - precision_56: 0.9190 - recall_56: 0.8894\n",
      "438/438 [==============================] - 8s 14ms/step - loss: 0.2998 - accuracy: 0.9065 - precision_57: 0.9181 - recall_57: 0.8964\n",
      "438/438 [==============================] - 8s 14ms/step - loss: 0.3015 - accuracy: 0.9054 - precision_58: 0.9198 - recall_58: 0.8951\n",
      "438/438 [==============================] - 7s 13ms/step - loss: 0.3395 - accuracy: 0.8973 - precision_59: 0.9104 - recall_59: 0.8868\n"
     ]
    }
   ],
   "source": [
    "print(\"Evaluating for dg\")\n",
    "for model in models_dg:\n",
    "    evaluate_dg.append(model.evaluate(x_test_and_adversary,y_test_and_adversary))\n",
    "    \n",
    "print(\"Evaluating for se\")\n",
    "for model in models_se:\n",
    "    evaluate_se.append(model.evaluate(x_test_and_adversary,y_test_and_adversary))\n"
   ]
  },
  {
   "cell_type": "code",
   "execution_count": 23,
   "id": "2141a097",
   "metadata": {},
   "outputs": [
    {
     "data": {
      "text/plain": [
       "21"
      ]
     },
     "execution_count": 23,
     "metadata": {},
     "output_type": "execute_result"
    }
   ],
   "source": [
    "len(evaluate_dg)"
   ]
  },
  {
   "cell_type": "code",
   "execution_count": 25,
   "id": "e48d1822",
   "metadata": {},
   "outputs": [
    {
     "data": {
      "text/plain": [
       "21"
      ]
     },
     "execution_count": 25,
     "metadata": {},
     "output_type": "execute_result"
    }
   ],
   "source": [
    "len(evaluate_nc)"
   ]
  },
  {
   "cell_type": "code",
   "execution_count": 26,
   "id": "ba831e22",
   "metadata": {},
   "outputs": [],
   "source": [
    "import pandas as pd\n",
    "\n",
    "df_evaluate_lsa = pd.DataFrame(np.array(evaluate_lsa),columns=[\"loss\",\"accuracy\",\"precision\",\"recall\"])\n",
    "df_evaluate_dsa = pd.DataFrame(np.array(evaluate_dsa),columns=[\"loss\",\"accuracy\",\"precision\",\"recall\"])\n",
    "df_evaluate_dg = pd.DataFrame(np.array(evaluate_dg),columns=[\"loss\",\"accuracy\",\"precision\",\"recall\"])\n",
    "df_evaluate_se = pd.DataFrame(np.array(evaluate_se),columns=[\"loss\",\"accuracy\",\"precision\",\"recall\"])\n",
    "\n",
    "df_evaluate_random = pd.DataFrame(np.array(evaluate_random),columns=[\"loss\",\"accuracy\",\"precision\",\"recall\"])\n",
    "df_evaluate_nc = pd.DataFrame(np.array(evaluate_nc),columns=[\"loss\",\"accuracy\",\"precision\",\"recall\"])\n"
   ]
  },
  {
   "cell_type": "code",
   "execution_count": 21,
   "id": "d5eae8d4",
   "metadata": {},
   "outputs": [
    {
     "name": "stdout",
     "output_type": "stream",
     "text": [
      "D:/models/aug_22/fashion/csv_good/c3\n"
     ]
    }
   ],
   "source": [
    "save_dir = \"D:/models/aug_22/\"+dataset+\"/csv_good/\"+config_lc\n",
    "print(save_dir)"
   ]
  },
  {
   "cell_type": "code",
   "execution_count": 28,
   "id": "1fcc89a7",
   "metadata": {},
   "outputs": [],
   "source": [
    "df_evaluate_lsa.to_csv(save_dir+\"/lsa_\"+config_lc,index=False)\n",
    "df_evaluate_dsa.to_csv(save_dir+\"/dsa_\"+config_lc,index=False)\n",
    "df_evaluate_dg.to_csv(save_dir+\"/dg_\"+config_lc,index=False)\n",
    "df_evaluate_se.to_csv(save_dir+\"/se_\"+config_lc,index=False)\n",
    "df_evaluate_random.to_csv(save_dir+\"/random_\"+config_lc,index=False)\n",
    "df_evaluate_nc.to_csv(save_dir+\"/nc_\"+config_lc,index=False)"
   ]
  },
  {
   "cell_type": "code",
   "execution_count": 22,
   "id": "6b575e92",
   "metadata": {},
   "outputs": [],
   "source": [
    "import pandas as pd\n",
    "loading_csv = True\n",
    "if(loading_csv):\n",
    "    \n",
    "    df_evaluate_lsa = pd.read_csv(save_dir+\"/lsa_\"+config_lc)\n",
    "    df_evaluate_dsa = pd.read_csv(save_dir+\"/dsa_\"+config_lc)\n",
    "    df_evaluate_dg = pd.read_csv(save_dir+\"/dg_\"+config_lc)\n",
    "    df_evaluate_se = pd.read_csv(save_dir+\"/se_\"+config_lc)\n",
    "    df_evaluate_random = pd.read_csv(save_dir+\"/random_\"+config_lc)\n",
    "    df_evaluate_nc = pd.read_csv(save_dir+\"/nc_\"+config_lc)"
   ]
  },
  {
   "cell_type": "code",
   "execution_count": 23,
   "id": "434369a2",
   "metadata": {},
   "outputs": [
    {
     "data": {
      "text/html": [
       "<div>\n",
       "<style scoped>\n",
       "    .dataframe tbody tr th:only-of-type {\n",
       "        vertical-align: middle;\n",
       "    }\n",
       "\n",
       "    .dataframe tbody tr th {\n",
       "        vertical-align: top;\n",
       "    }\n",
       "\n",
       "    .dataframe thead th {\n",
       "        text-align: right;\n",
       "    }\n",
       "</style>\n",
       "<table border=\"1\" class=\"dataframe\">\n",
       "  <thead>\n",
       "    <tr style=\"text-align: right;\">\n",
       "      <th></th>\n",
       "      <th>loss</th>\n",
       "      <th>accuracy</th>\n",
       "      <th>precision</th>\n",
       "      <th>recall</th>\n",
       "    </tr>\n",
       "  </thead>\n",
       "  <tbody>\n",
       "    <tr>\n",
       "      <th>0</th>\n",
       "      <td>0.503242</td>\n",
       "      <td>0.834214</td>\n",
       "      <td>0.858934</td>\n",
       "      <td>0.817214</td>\n",
       "    </tr>\n",
       "    <tr>\n",
       "      <th>1</th>\n",
       "      <td>0.574085</td>\n",
       "      <td>0.853714</td>\n",
       "      <td>0.864051</td>\n",
       "      <td>0.846214</td>\n",
       "    </tr>\n",
       "    <tr>\n",
       "      <th>2</th>\n",
       "      <td>0.503810</td>\n",
       "      <td>0.865571</td>\n",
       "      <td>0.876570</td>\n",
       "      <td>0.857286</td>\n",
       "    </tr>\n",
       "    <tr>\n",
       "      <th>3</th>\n",
       "      <td>0.448462</td>\n",
       "      <td>0.873429</td>\n",
       "      <td>0.883899</td>\n",
       "      <td>0.864643</td>\n",
       "    </tr>\n",
       "    <tr>\n",
       "      <th>4</th>\n",
       "      <td>0.431370</td>\n",
       "      <td>0.872286</td>\n",
       "      <td>0.886815</td>\n",
       "      <td>0.861857</td>\n",
       "    </tr>\n",
       "    <tr>\n",
       "      <th>5</th>\n",
       "      <td>0.400890</td>\n",
       "      <td>0.878857</td>\n",
       "      <td>0.890607</td>\n",
       "      <td>0.868214</td>\n",
       "    </tr>\n",
       "    <tr>\n",
       "      <th>6</th>\n",
       "      <td>0.382321</td>\n",
       "      <td>0.879857</td>\n",
       "      <td>0.895627</td>\n",
       "      <td>0.866071</td>\n",
       "    </tr>\n",
       "    <tr>\n",
       "      <th>7</th>\n",
       "      <td>0.381990</td>\n",
       "      <td>0.875143</td>\n",
       "      <td>0.888204</td>\n",
       "      <td>0.864286</td>\n",
       "    </tr>\n",
       "    <tr>\n",
       "      <th>8</th>\n",
       "      <td>0.350371</td>\n",
       "      <td>0.884571</td>\n",
       "      <td>0.899772</td>\n",
       "      <td>0.872714</td>\n",
       "    </tr>\n",
       "    <tr>\n",
       "      <th>9</th>\n",
       "      <td>0.339207</td>\n",
       "      <td>0.889214</td>\n",
       "      <td>0.904065</td>\n",
       "      <td>0.878429</td>\n",
       "    </tr>\n",
       "    <tr>\n",
       "      <th>10</th>\n",
       "      <td>0.349527</td>\n",
       "      <td>0.883357</td>\n",
       "      <td>0.900377</td>\n",
       "      <td>0.868929</td>\n",
       "    </tr>\n",
       "    <tr>\n",
       "      <th>11</th>\n",
       "      <td>0.321949</td>\n",
       "      <td>0.895929</td>\n",
       "      <td>0.909198</td>\n",
       "      <td>0.884714</td>\n",
       "    </tr>\n",
       "    <tr>\n",
       "      <th>12</th>\n",
       "      <td>0.307839</td>\n",
       "      <td>0.897071</td>\n",
       "      <td>0.911144</td>\n",
       "      <td>0.887714</td>\n",
       "    </tr>\n",
       "    <tr>\n",
       "      <th>13</th>\n",
       "      <td>0.340694</td>\n",
       "      <td>0.896714</td>\n",
       "      <td>0.907390</td>\n",
       "      <td>0.890214</td>\n",
       "    </tr>\n",
       "    <tr>\n",
       "      <th>14</th>\n",
       "      <td>0.310121</td>\n",
       "      <td>0.897643</td>\n",
       "      <td>0.915283</td>\n",
       "      <td>0.885929</td>\n",
       "    </tr>\n",
       "    <tr>\n",
       "      <th>15</th>\n",
       "      <td>0.300494</td>\n",
       "      <td>0.904429</td>\n",
       "      <td>0.918030</td>\n",
       "      <td>0.893571</td>\n",
       "    </tr>\n",
       "    <tr>\n",
       "      <th>16</th>\n",
       "      <td>0.326675</td>\n",
       "      <td>0.900643</td>\n",
       "      <td>0.910985</td>\n",
       "      <td>0.893286</td>\n",
       "    </tr>\n",
       "    <tr>\n",
       "      <th>17</th>\n",
       "      <td>0.316374</td>\n",
       "      <td>0.902929</td>\n",
       "      <td>0.914793</td>\n",
       "      <td>0.894929</td>\n",
       "    </tr>\n",
       "    <tr>\n",
       "      <th>18</th>\n",
       "      <td>0.303544</td>\n",
       "      <td>0.903071</td>\n",
       "      <td>0.914547</td>\n",
       "      <td>0.893643</td>\n",
       "    </tr>\n",
       "    <tr>\n",
       "      <th>19</th>\n",
       "      <td>0.318210</td>\n",
       "      <td>0.903714</td>\n",
       "      <td>0.914467</td>\n",
       "      <td>0.895786</td>\n",
       "    </tr>\n",
       "    <tr>\n",
       "      <th>20</th>\n",
       "      <td>0.342022</td>\n",
       "      <td>0.899857</td>\n",
       "      <td>0.909971</td>\n",
       "      <td>0.893071</td>\n",
       "    </tr>\n",
       "  </tbody>\n",
       "</table>\n",
       "</div>"
      ],
      "text/plain": [
       "        loss  accuracy  precision    recall\n",
       "0   0.503242  0.834214   0.858934  0.817214\n",
       "1   0.574085  0.853714   0.864051  0.846214\n",
       "2   0.503810  0.865571   0.876570  0.857286\n",
       "3   0.448462  0.873429   0.883899  0.864643\n",
       "4   0.431370  0.872286   0.886815  0.861857\n",
       "5   0.400890  0.878857   0.890607  0.868214\n",
       "6   0.382321  0.879857   0.895627  0.866071\n",
       "7   0.381990  0.875143   0.888204  0.864286\n",
       "8   0.350371  0.884571   0.899772  0.872714\n",
       "9   0.339207  0.889214   0.904065  0.878429\n",
       "10  0.349527  0.883357   0.900377  0.868929\n",
       "11  0.321949  0.895929   0.909198  0.884714\n",
       "12  0.307839  0.897071   0.911144  0.887714\n",
       "13  0.340694  0.896714   0.907390  0.890214\n",
       "14  0.310121  0.897643   0.915283  0.885929\n",
       "15  0.300494  0.904429   0.918030  0.893571\n",
       "16  0.326675  0.900643   0.910985  0.893286\n",
       "17  0.316374  0.902929   0.914793  0.894929\n",
       "18  0.303544  0.903071   0.914547  0.893643\n",
       "19  0.318210  0.903714   0.914467  0.895786\n",
       "20  0.342022  0.899857   0.909971  0.893071"
      ]
     },
     "execution_count": 23,
     "metadata": {},
     "output_type": "execute_result"
    }
   ],
   "source": [
    "df_evaluate_dg"
   ]
  },
  {
   "cell_type": "code",
   "execution_count": 24,
   "id": "3c21fd01",
   "metadata": {},
   "outputs": [],
   "source": [
    "\n",
    "metric =\"accuracy\"\n",
    "accuracy_lsa_3 = np.array(df_evaluate_lsa[metric])\n",
    "accuracy_dsa_3 = np.array(df_evaluate_dsa[metric])\n",
    "accuracy_dg_3 = np.array(df_evaluate_dg[metric])\n",
    "accuracy_se_3 = np.array(df_evaluate_se[metric])\n",
    "\n",
    "accuracy_nc_3 =np.array(df_evaluate_nc[metric])\n",
    "accuracy_random_3 = np.array(df_evaluate_random[metric])\n"
   ]
  },
  {
   "cell_type": "code",
   "execution_count": null,
   "id": "7aeb569b",
   "metadata": {},
   "outputs": [],
   "source": []
  },
  {
   "cell_type": "code",
   "execution_count": 15,
   "id": "9ed5051f",
   "metadata": {},
   "outputs": [],
   "source": [
    "n_data_points = 340"
   ]
  },
  {
   "cell_type": "code",
   "execution_count": 16,
   "id": "43b61f22",
   "metadata": {},
   "outputs": [
    {
     "data": {
      "text/plain": [
       "21"
      ]
     },
     "execution_count": 16,
     "metadata": {},
     "output_type": "execute_result"
    }
   ],
   "source": [
    "len(accuracy_dsa_3)"
   ]
  },
  {
   "cell_type": "code",
   "execution_count": 17,
   "id": "f989196d",
   "metadata": {},
   "outputs": [
    {
     "data": {
      "text/plain": [
       "55998"
      ]
     },
     "execution_count": 17,
     "metadata": {},
     "output_type": "execute_result"
    }
   ],
   "source": [
    "len(x_train_and_adversary)"
   ]
  },
  {
   "cell_type": "code",
   "execution_count": 18,
   "id": "e67df87a",
   "metadata": {},
   "outputs": [
    {
     "name": "stdout",
     "output_type": "stream",
     "text": [
      "21\n"
     ]
    },
    {
     "data": {
      "text/plain": [
       "[0,\n",
       " 340,\n",
       " 680,\n",
       " 1020,\n",
       " 1360,\n",
       " 1700,\n",
       " 2040,\n",
       " 2380,\n",
       " 2720,\n",
       " 3060,\n",
       " 3400,\n",
       " 3740,\n",
       " 4080,\n",
       " 4420,\n",
       " 4760,\n",
       " 5100,\n",
       " 5440,\n",
       " 5780,\n",
       " 6120,\n",
       " 6460,\n",
       " 6999]"
      ]
     },
     "execution_count": 18,
     "metadata": {},
     "output_type": "execute_result"
    }
   ],
   "source": [
    "n_inputs = [n_data_points*i for i in range(num_models)]\n",
    "n_inputs.append(6999)\n",
    "print(len(n_inputs))\n",
    "n_inputs"
   ]
  },
  {
   "cell_type": "code",
   "execution_count": 36,
   "id": "3cd2cd2d",
   "metadata": {},
   "outputs": [
    {
     "name": "stdout",
     "output_type": "stream",
     "text": [
      "21\n",
      "21\n"
     ]
    }
   ],
   "source": [
    "print(len(df_evaluate_dg))\n",
    "print(len(n_inputs))"
   ]
  },
  {
   "cell_type": "code",
   "execution_count": 37,
   "id": "b484cf9a",
   "metadata": {},
   "outputs": [],
   "source": [
    "#save_dir = \"D:/aug_graphs/\"+dataset+\"/\"+config"
   ]
  },
  {
   "cell_type": "code",
   "execution_count": 25,
   "id": "04d02a6d",
   "metadata": {},
   "outputs": [],
   "source": [
    "linestyles = ['solid','dotted','dashed','dashed','dashdot','dashdot']\n",
    "colors =['b','g','r','c','m','k']"
   ]
  },
  {
   "cell_type": "code",
   "execution_count": 39,
   "id": "75c13967",
   "metadata": {},
   "outputs": [
    {
     "name": "stdout",
     "output_type": "stream",
     "text": [
      "6460 0.9043571352958679\n",
      "6999 0.9089999794960022\n",
      "5100 0.9044285416603088\n",
      "6120 0.906499981880188\n",
      "6999 0.906000018119812\n",
      "6999 0.9047142863273621\n"
     ]
    },
    {
     "data": {
      "image/png": "[encoded data removed]",
      "text/plain": [
       "<Figure size 432x288 with 1 Axes>"
      ]
     },
     "metadata": {
      "needs_background": "light"
     },
     "output_type": "display_data"
    }
   ],
   "source": [
    "#adversarial jsma test set\n",
    "#configuration 3\n",
    "\"\"\"\n",
    "6) Incremental guided retraining starting from the original model using only the new adversarial inputs.\n",
    "Incremental training, starting with the previous trained model. Using at each iteration a subset of the new inputs.\n",
    "\"\"\"\n",
    "import matplotlib.pyplot as plt\n",
    "import matplotlib.patches as mpatches\n",
    "\n",
    "from matplotlib.patches import Patch\n",
    "from matplotlib.lines import Line2D\n",
    "\n",
    "plt.plot(n_inputs,accuracy_lsa_3,colors[0],linestyle=linestyles[0])\n",
    "plt.plot(n_inputs,accuracy_dsa_3,colors[1],linestyle=linestyles[1])\n",
    "plt.plot(n_inputs,accuracy_dg_3,colors[2],linestyle=linestyles[2])\n",
    "plt.plot(n_inputs,accuracy_se_3,colors[3],linestyle=linestyles[3])\n",
    "plt.plot(n_inputs,accuracy_random_3,colors[4],linestyle=linestyles[4])\n",
    "plt.plot(n_inputs,accuracy_nc_3,colors[5],linestyle=linestyles[5])\n",
    "\n",
    "\n",
    "legend_elements = [Line2D([0], [0], color=colors[0], label='LSA',ls = linestyles[0]),\n",
    "                   Line2D([0], [0], color=colors[1], label='DSA',ls = linestyles[1]),\n",
    "                   Line2D([0], [0], color=colors[2], label='dg',ls = linestyles[2]),\n",
    "                   Line2D([0], [0], color=colors[3], label='se',ls = linestyles[3]),\n",
    "                   Line2D([0], [0], color=colors[4], label='Random',ls = linestyles[4]),\n",
    "                   Line2D([0], [0], color=colors[5], label='NC',ls = linestyles[5])]\n",
    "\n",
    "\n",
    "\n",
    "plt.legend(handles=legend_elements)#\n",
    "#plt.title(\"Accuracy\")\n",
    "\n",
    "print(n_inputs[np.argmax(accuracy_lsa_3)],accuracy_lsa_3.max())\n",
    "print(n_inputs[np.argmax(accuracy_dsa_3)],accuracy_dsa_3.max())\n",
    "print(n_inputs[np.argmax(accuracy_dg_3)],accuracy_dg_3.max())\n",
    "print(n_inputs[np.argmax(accuracy_se_3)],accuracy_se_3.max())\n",
    "print(n_inputs[np.argmax(accuracy_random_3)],accuracy_random_3.max())\n",
    "print(n_inputs[np.argmax(accuracy_nc_3)],accuracy_nc_3.max())\n",
    "\n",
    "plt.plot(n_inputs[np.argmax(accuracy_lsa_3)],accuracy_lsa_3.max(),'-bD',)\n",
    "plt.plot(n_inputs[np.argmax(accuracy_dsa_3)],accuracy_dsa_3.max(),'-go')\n",
    "plt.plot(n_inputs[np.argmax(accuracy_dg_3)],accuracy_dg_3.max(),'-r+')\n",
    "plt.plot(n_inputs[np.argmax(accuracy_se_3)],accuracy_se_3.max(),'-c*')\n",
    "plt.plot(n_inputs[np.argmax(accuracy_random_3)],accuracy_random_3.max(),'-mv')\n",
    "plt.plot(n_inputs[np.argmax(accuracy_nc_3)],accuracy_nc_3.max(),'-kp')\n",
    "\n",
    "plt.xlabel('Number of inputs')\n",
    "plt.ylabel('Accuracy')\n",
    "plt.xlim([0, 6999])\n",
    "#plt.ylim([0.95, 1])\n",
    "\n",
    "plt.savefig(save_dir+\"/\"+dataset+\"_\"+config_lc+\"_\"+\"accuracy\" + \".svg\")\n",
    "\n",
    "plt.show()"
   ]
  },
  {
   "cell_type": "code",
   "execution_count": 26,
   "id": "303ce049",
   "metadata": {},
   "outputs": [
    {
     "name": "stdout",
     "output_type": "stream",
     "text": [
      "6460 0.904357135295868\n",
      "6999 0.9089999794960022\n",
      "5100 0.9044285416603088\n",
      "6120 0.906499981880188\n",
      "6999 0.906000018119812\n",
      "6999 0.904714286327362\n"
     ]
    },
    {
     "data": {
      "image/png": "[encoded data removed]",
      "text/plain": [
       "<Figure size 432x288 with 1 Axes>"
      ]
     },
     "metadata": {
      "needs_background": "light"
     },
     "output_type": "display_data"
    }
   ],
   "source": [
    "#adversarial jsma test set\n",
    "#configuration 3\n",
    "\"\"\"\n",
    "6) Incremental guided retraining starting from the original model using only the new adversarial inputs.\n",
    "Incremental training, starting with the previous trained model. Using at each iteration a subset of the new inputs.\n",
    "\"\"\"\n",
    "import matplotlib.pyplot as plt\n",
    "import matplotlib.patches as mpatches\n",
    "\n",
    "from matplotlib.patches import Patch\n",
    "from matplotlib.lines import Line2D\n",
    "\n",
    "plt.plot(n_inputs,accuracy_lsa_3,colors[0],linestyle=linestyles[0])\n",
    "plt.plot(n_inputs,accuracy_dsa_3,colors[1],linestyle=linestyles[1])\n",
    "plt.plot(n_inputs,accuracy_dg_3,colors[2],linestyle=linestyles[2])\n",
    "plt.plot(n_inputs,accuracy_se_3,colors[3],linestyle=linestyles[3])\n",
    "plt.plot(n_inputs,accuracy_random_3,colors[4],linestyle=linestyles[4])\n",
    "plt.plot(n_inputs,accuracy_nc_3,colors[5],linestyle=linestyles[5])\n",
    "\n",
    "\n",
    "legend_elements = [Line2D([0], [0], color=colors[0], label='LSA',ls = linestyles[0]),\n",
    "                   Line2D([0], [0], color=colors[1], label='DSA',ls = linestyles[1]),\n",
    "                   Line2D([0], [0], color=colors[2], label='dg',ls = linestyles[2]),\n",
    "                   Line2D([0], [0], color=colors[3], label='se',ls = linestyles[3]),\n",
    "                   Line2D([0], [0], color=colors[4], label='Random',ls = linestyles[4]),\n",
    "                   Line2D([0], [0], color=colors[5], label='NC',ls = linestyles[5])]\n",
    "\n",
    "\n",
    "\n",
    "plt.legend(handles=legend_elements)#\n",
    "#plt.title(\"Accuracy\")\n",
    "\n",
    "print(n_inputs[np.argmax(accuracy_lsa_3)],accuracy_lsa_3.max())\n",
    "print(n_inputs[np.argmax(accuracy_dsa_3)],accuracy_dsa_3.max())\n",
    "print(n_inputs[np.argmax(accuracy_dg_3)],accuracy_dg_3.max())\n",
    "print(n_inputs[np.argmax(accuracy_se_3)],accuracy_se_3.max())\n",
    "print(n_inputs[np.argmax(accuracy_random_3)],accuracy_random_3.max())\n",
    "print(n_inputs[np.argmax(accuracy_nc_3)],accuracy_nc_3.max())\n",
    "\n",
    "plt.plot(n_inputs[np.argmax(accuracy_lsa_3)],accuracy_lsa_3.max(),'-bD',)\n",
    "plt.plot(n_inputs[np.argmax(accuracy_dsa_3)],accuracy_dsa_3.max(),'-go')\n",
    "plt.plot(n_inputs[np.argmax(accuracy_dg_3)],accuracy_dg_3.max(),'-r+')\n",
    "plt.plot(n_inputs[np.argmax(accuracy_se_3)],accuracy_se_3.max(),'-c*')\n",
    "plt.plot(n_inputs[np.argmax(accuracy_random_3)],accuracy_random_3.max(),'-mv')\n",
    "plt.plot(n_inputs[np.argmax(accuracy_nc_3)],accuracy_nc_3.max(),'-kp')\n",
    "\n",
    "plt.xlabel('Number of inputs')\n",
    "plt.ylabel('Accuracy')\n",
    "plt.xlim([0, 6999])\n",
    "#plt.ylim([0.95, 1])\n",
    "\n",
    "plt.savefig(save_dir+\"/\"+dataset+\"_\"+config_lc+\"_\"+\"accuracy\" + \".svg\")\n",
    "\n",
    "plt.show()"
   ]
  },
  {
   "cell_type": "code",
   "execution_count": null,
   "id": "979b0141",
   "metadata": {},
   "outputs": [],
   "source": []
  }
 ],
 "metadata": {
  "kernelspec": {
   "display_name": "Python 3 (ipykernel)",
   "language": "python",
   "name": "python3"
  },
  "language_info": {
   "codemirror_mode": {
    "name": "ipython",
    "version": 3
   },
   "file_extension": ".py",
   "mimetype": "text/x-python",
   "name": "python",
   "nbconvert_exporter": "python",
   "pygments_lexer": "ipython3",
   "version": "3.9.6"
  }
 },
 "nbformat": 4,
 "nbformat_minor": 5
}
