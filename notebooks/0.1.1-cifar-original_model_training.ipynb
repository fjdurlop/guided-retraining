{
 "cells": [
  {
   "cell_type": "code",
   "execution_count": null,
   "id": "4b8304ca",
   "metadata": {},
   "outputs": [],
   "source": [
    "pip install tensorflow==2.5\n"
   ]
  },
  {
   "cell_type": "code",
   "execution_count": null,
   "id": "fe5233dd",
   "metadata": {},
   "outputs": [],
   "source": [
    "pip install keras==2.5\n"
   ]
  },
  {
   "cell_type": "code",
   "execution_count": 8,
   "id": "be9f52fa",
   "metadata": {},
   "outputs": [
    {
     "name": "stdout",
     "output_type": "stream",
     "text": [
      "Note: you may need to restart the kernel to use updated packages.\n"
     ]
    },
    {
     "name": "stderr",
     "output_type": "stream",
     "text": [
      "ERROR: Could not find a version that satisfies the requirement cv2 (from versions: none)\n",
      "ERROR: No matching distribution found for cv2\n"
     ]
    }
   ],
   "source": [
    "pip install cv2"
   ]
  },
  {
   "cell_type": "code",
   "execution_count": null,
   "id": "fb910980",
   "metadata": {},
   "outputs": [],
   "source": [
    "pip install opencv-python"
   ]
  },
  {
   "cell_type": "code",
   "execution_count": 1,
   "id": "390a4491",
   "metadata": {},
   "outputs": [],
   "source": [
    "from keras.datasets import mnist\n",
    "from keras.utils import np_utils\n",
    "import numpy as np\n",
    "import keras"
   ]
  },
  {
   "cell_type": "code",
   "execution_count": 2,
   "id": "2220a944",
   "metadata": {},
   "outputs": [],
   "source": [
    "from matplotlib import pyplot"
   ]
  },
  {
   "cell_type": "code",
   "execution_count": 3,
   "id": "f80a80b6",
   "metadata": {},
   "outputs": [],
   "source": [
    "from sklearn.model_selection import train_test_split\n",
    "import tensorflow as tf"
   ]
  },
  {
   "cell_type": "code",
   "execution_count": 4,
   "id": "c55da0c8",
   "metadata": {},
   "outputs": [],
   "source": [
    "\n",
    "#DATASET_SIZE = 70000\n",
    "TRAIN_RATIO = 0.7\n",
    "VALIDATION_RATIO = 0.2\n",
    "TEST_RATIO = 0.1\n",
    "\n",
    "(x_train, y_train), (x_test, y_test) = tf.keras.datasets.cifar10.load_data()\n",
    "\n",
    "X = np.concatenate([x_train, x_test])\n",
    "y = np.concatenate([y_train, y_test])"
   ]
  },
  {
   "cell_type": "code",
   "execution_count": 5,
   "id": "b4e5f85e",
   "metadata": {},
   "outputs": [],
   "source": [
    "X_train, X_val, y_train, y_val = train_test_split(X, y, test_size=(1-TRAIN_RATIO))\n",
    "X_val, X_test, y_val, y_test = train_test_split(X_val, y_val, test_size=((TEST_RATIO/(VALIDATION_RATIO+TEST_RATIO))))"
   ]
  },
  {
   "cell_type": "code",
   "execution_count": 6,
   "id": "0f6d2ee1",
   "metadata": {},
   "outputs": [],
   "source": [
    "x_train = np.array(X_train)\n",
    "y_train = np.array(y_train)\n",
    "\n",
    "x_val = np.array(X_val)\n",
    "y_val = np.array(y_val)\n",
    "\n",
    "x_test = np.array(X_test)\n",
    "y_test = np.array(y_test)"
   ]
  },
  {
   "cell_type": "code",
   "execution_count": 7,
   "id": "98bae710",
   "metadata": {},
   "outputs": [
    {
     "name": "stdout",
     "output_type": "stream",
     "text": [
      "(41999, 32, 32, 3)\n",
      "(41999, 1)\n",
      "(12000, 32, 32, 3)\n",
      "(12000, 1)\n",
      "(6001, 32, 32, 3)\n",
      "(6001, 1)\n",
      "---\n",
      "(32, 32, 3)\n"
     ]
    }
   ],
   "source": [
    "print(x_train.shape)\n",
    "print(y_train.shape)\n",
    "print(x_val.shape)\n",
    "print(y_val.shape)\n",
    "print(x_test.shape)\n",
    "print(y_test.shape)\n",
    "print(\"---\")\n",
    "print(x_train[0].shape)\n"
   ]
  },
  {
   "cell_type": "code",
   "execution_count": 30,
   "id": "a4401030",
   "metadata": {},
   "outputs": [
    {
     "name": "stdout",
     "output_type": "stream",
     "text": [
      "Requirement already satisfied: opencv-python in c:\\users\\fjdurlop\\cesar\\lib\\site-packages (4.6.0.66)\n",
      "Requirement already satisfied: numpy>=1.19.3 in c:\\users\\fjdurlop\\cesar\\lib\\site-packages (from opencv-python) (1.19.5)\n",
      "Note: you may need to restart the kernel to use updated packages.\n"
     ]
    }
   ],
   "source": []
  },
  {
   "cell_type": "code",
   "execution_count": 8,
   "id": "b4ecac0d",
   "metadata": {},
   "outputs": [],
   "source": [
    "import cv2"
   ]
  },
  {
   "cell_type": "code",
   "execution_count": 9,
   "id": "be0d74b9",
   "metadata": {},
   "outputs": [
    {
     "data": {
      "text/plain": [
       "250"
      ]
     },
     "execution_count": 9,
     "metadata": {},
     "output_type": "execute_result"
    }
   ],
   "source": [
    "x_train[1].max()"
   ]
  },
  {
   "cell_type": "code",
   "execution_count": 10,
   "id": "30ba8296",
   "metadata": {},
   "outputs": [],
   "source": [
    "x_train = np.array([cv2.cvtColor(image, cv2.COLOR_BGR2GRAY) for image in x_train])\n",
    "x_val = np.array([cv2.cvtColor(image, cv2.COLOR_BGR2GRAY) for image in x_val])\n",
    "x_test = np.array([cv2.cvtColor(image, cv2.COLOR_BGR2GRAY) for image in x_test])"
   ]
  },
  {
   "cell_type": "code",
   "execution_count": 11,
   "id": "6019c9bd",
   "metadata": {},
   "outputs": [
    {
     "name": "stdout",
     "output_type": "stream",
     "text": [
      "(41999, 32, 32)\n",
      "(41999, 1)\n",
      "(12000, 32, 32)\n",
      "(12000, 1)\n",
      "(6001, 32, 32)\n",
      "(6001, 1)\n",
      "---\n",
      "(32, 32)\n"
     ]
    }
   ],
   "source": [
    "print(x_train.shape)\n",
    "print(y_train.shape)\n",
    "print(x_val.shape)\n",
    "print(y_val.shape)\n",
    "print(x_test.shape)\n",
    "print(y_test.shape)\n",
    "print(\"---\")\n",
    "print(x_train[0].shape)\n"
   ]
  },
  {
   "cell_type": "code",
   "execution_count": 12,
   "id": "5ae8b61d",
   "metadata": {},
   "outputs": [
    {
     "data": {
      "text/plain": [
       "221"
      ]
     },
     "execution_count": 12,
     "metadata": {},
     "output_type": "execute_result"
    }
   ],
   "source": [
    "x_train[1].max()"
   ]
  },
  {
   "cell_type": "code",
   "execution_count": 13,
   "id": "673966f5",
   "metadata": {},
   "outputs": [],
   "source": [
    "img_width, img_height = 32,32"
   ]
  },
  {
   "cell_type": "code",
   "execution_count": 14,
   "id": "4637e2e5",
   "metadata": {},
   "outputs": [],
   "source": [
    "num_classes = 10"
   ]
  },
  {
   "cell_type": "code",
   "execution_count": 15,
   "id": "cc326b11",
   "metadata": {},
   "outputs": [],
   "source": [
    "x_train = x_train.reshape(-1, img_width, img_height, 1)\n",
    "x_test = x_test.reshape(-1, img_width, img_height, 1)\n",
    "x_val = x_val.reshape(-1, img_width, img_height, 1)\n",
    "\n",
    "x_train = x_train.astype(\"float32\")\n",
    "x_test = x_test.astype(\"float32\")\n",
    "x_val = x_val.astype(\"float32\")\n",
    "\n",
    "x_train = (x_train / 255.0) \n",
    "x_test = (x_test / 255.0)\n",
    "x_val = (x_val / 255.0)\n",
    "\n",
    "\n",
    "y_train = np_utils.to_categorical(y_train, num_classes)\n",
    "y_test = np_utils.to_categorical(y_test, num_classes)\n",
    "y_val = np_utils.to_categorical(y_val, num_classes)"
   ]
  },
  {
   "cell_type": "code",
   "execution_count": 16,
   "id": "a017c761",
   "metadata": {},
   "outputs": [
    {
     "data": {
      "text/plain": [
       "0.98039216"
      ]
     },
     "execution_count": 16,
     "metadata": {},
     "output_type": "execute_result"
    }
   ],
   "source": [
    "x_train[0].max()"
   ]
  },
  {
   "cell_type": "code",
   "execution_count": 17,
   "id": "ef95ed31",
   "metadata": {},
   "outputs": [
    {
     "name": "stdout",
     "output_type": "stream",
     "text": [
      "(41999, 32, 32, 1)\n",
      "(41999, 10)\n",
      "(12000, 32, 32, 1)\n",
      "(12000, 10)\n",
      "(6001, 32, 32, 1)\n",
      "(6001, 10)\n",
      "---\n",
      "(32, 32, 1)\n"
     ]
    }
   ],
   "source": [
    "print(x_train.shape)\n",
    "print(y_train.shape)\n",
    "print(x_val.shape)\n",
    "print(y_val.shape)\n",
    "print(x_test.shape)\n",
    "print(y_test.shape)\n",
    "print(\"---\")\n",
    "print(x_train[0].shape)\n"
   ]
  },
  {
   "cell_type": "code",
   "execution_count": 19,
   "id": "9a36f613",
   "metadata": {},
   "outputs": [
    {
     "data": {
      "text/plain": [
       "'C:\\\\Users\\\\fjdurlop\\\\Desktop'"
      ]
     },
     "execution_count": 19,
     "metadata": {},
     "output_type": "execute_result"
    }
   ],
   "source": [
    "pwd"
   ]
  },
  {
   "cell_type": "code",
   "execution_count": 19,
   "id": "1ee6aa2c",
   "metadata": {},
   "outputs": [],
   "source": [
    "loading = False"
   ]
  },
  {
   "cell_type": "code",
   "execution_count": 20,
   "id": "2b174dc2",
   "metadata": {},
   "outputs": [],
   "source": [
    "if (not loading):\n",
    "    save_dir = \"D:/data/cifar/x_train.npy\"\n",
    "    with open(save_dir, 'wb') as f:\n",
    "        np.save(f, x_train)\n",
    "\n",
    "    save_dir = \"D:/data/cifar/y_train.npy\"\n",
    "    with open(save_dir, 'wb') as f:\n",
    "        np.save(f, y_train)\n",
    "\n",
    "    save_dir = \"D:/data/cifar/x_test.npy\"\n",
    "    with open(save_dir, 'wb') as f:\n",
    "        np.save(f, x_test)\n",
    "    save_dir = \"D:/data/cifar/y_test.npy\"\n",
    "    with open(save_dir, 'wb') as f:\n",
    "        np.save(f, y_test)\n",
    "\n",
    "    save_dir = \"D:/data/cifar/x_val.npy\"\n",
    "    with open(save_dir, 'wb') as f:\n",
    "        np.save(f, x_val)\n",
    "\n",
    "    save_dir = \"D:/data/cifar/y_val.npy\"\n",
    "    with open(save_dir, 'wb') as f:\n",
    "        np.save(f, y_val)"
   ]
  },
  {
   "cell_type": "code",
   "execution_count": null,
   "id": "aa4278b5",
   "metadata": {},
   "outputs": [],
   "source": []
  },
  {
   "cell_type": "code",
   "execution_count": null,
   "id": "4607081d",
   "metadata": {},
   "outputs": [],
   "source": []
  },
  {
   "cell_type": "code",
   "execution_count": 42,
   "id": "350673e4",
   "metadata": {},
   "outputs": [],
   "source": [
    "\n",
    "model_1 = keras.models.Sequential([\n",
    "                                 keras.layers.Conv2D(32, kernel_size= (3, 3), \n",
    "                                                     padding= 'same', activation= 'relu'), \n",
    "                                 keras.layers.MaxPooling2D(pool_size= (2, 2)),\n",
    "                                 keras.layers.Conv2D(64, kernel_size= (3, 3), \n",
    "                                                     padding= 'same', activation= 'relu'), \n",
    "                                 keras.layers.MaxPooling2D(pool_size= (2, 2)), \n",
    "                                 keras.layers.Conv2D(128, kernel_size= (3, 3), \n",
    "                                                     padding= 'same', activation= 'relu'),\n",
    "                                 keras.layers.MaxPooling2D(pool_size= (2, 2)),\n",
    "                                 keras.layers.Dropout(0.25),\n",
    "                                 keras.layers.Conv2D(128, kernel_size= (3, 3), padding= 'same', \n",
    "                                                     activation= 'relu'), \n",
    "                                 keras.layers.MaxPooling2D(pool_size= (2, 2)),\n",
    "                                 keras.layers.Dropout(0.25),\n",
    "\n",
    "                                 keras.layers.Flatten(),\n",
    "                                 keras.layers.Dropout(0.3), \n",
    "                                \n",
    "                                 keras.layers.Dense(512, activation= 'relu'), \n",
    "                                 keras.layers.Dropout(0.3), \n",
    "                                \n",
    "                                 keras.layers.Dense(100, activation= 'relu'),\n",
    " \n",
    "                                 keras.layers.Dense(num_classes, activation = 'softmax')])\n",
    "\n"
   ]
  },
  {
   "cell_type": "code",
   "execution_count": 43,
   "id": "2eaf3fbc",
   "metadata": {},
   "outputs": [],
   "source": [
    "model_1.compile(loss= 'categorical_crossentropy', optimizer = 'rmsprop', metrics = ['accuracy']) #change adam"
   ]
  },
  {
   "cell_type": "code",
   "execution_count": 44,
   "id": "457074de",
   "metadata": {},
   "outputs": [
    {
     "name": "stdout",
     "output_type": "stream",
     "text": [
      "Epoch 1/20\n",
      "657/657 [==============================] - 198s 162ms/step - loss: 2.0568 - accuracy: 0.2300 - val_loss: 1.5280 - val_accuracy: 0.4293\n",
      "Epoch 2/20\n",
      "657/657 [==============================] - 98s 150ms/step - loss: 1.5170 - accuracy: 0.4491 - val_loss: 1.3414 - val_accuracy: 0.5134\n",
      "Epoch 3/20\n",
      "657/657 [==============================] - 101s 153ms/step - loss: 1.2875 - accuracy: 0.5448 - val_loss: 1.1896 - val_accuracy: 0.5624\n",
      "Epoch 4/20\n",
      "657/657 [==============================] - 101s 153ms/step - loss: 1.1607 - accuracy: 0.5927 - val_loss: 1.0892 - val_accuracy: 0.6151\n",
      "Epoch 5/20\n",
      "657/657 [==============================] - 101s 153ms/step - loss: 1.0596 - accuracy: 0.6265 - val_loss: 1.1080 - val_accuracy: 0.6113\n",
      "Epoch 6/20\n",
      "657/657 [==============================] - 101s 154ms/step - loss: 0.9931 - accuracy: 0.6534 - val_loss: 1.2318 - val_accuracy: 0.5888\n",
      "Epoch 7/20\n",
      "657/657 [==============================] - 101s 154ms/step - loss: 0.9476 - accuracy: 0.6710 - val_loss: 1.7528 - val_accuracy: 0.4558\n",
      "Epoch 8/20\n",
      "657/657 [==============================] - 101s 154ms/step - loss: 0.9051 - accuracy: 0.6901 - val_loss: 0.9187 - val_accuracy: 0.6950\n",
      "Epoch 9/20\n",
      "657/657 [==============================] - 102s 155ms/step - loss: 0.8658 - accuracy: 0.7037 - val_loss: 1.1014 - val_accuracy: 0.6190\n",
      "Epoch 10/20\n",
      "657/657 [==============================] - 100s 153ms/step - loss: 0.8451 - accuracy: 0.7099 - val_loss: 0.8909 - val_accuracy: 0.6980\n",
      "Epoch 11/20\n",
      "657/657 [==============================] - 97s 148ms/step - loss: 0.8227 - accuracy: 0.7182 - val_loss: 0.8561 - val_accuracy: 0.7124\n",
      "Epoch 12/20\n",
      "657/657 [==============================] - 102s 155ms/step - loss: 0.8086 - accuracy: 0.7256 - val_loss: 0.8416 - val_accuracy: 0.7138\n",
      "Epoch 13/20\n",
      "657/657 [==============================] - 101s 154ms/step - loss: 0.7681 - accuracy: 0.7394 - val_loss: 0.8858 - val_accuracy: 0.6992\n",
      "Epoch 14/20\n",
      "657/657 [==============================] - 101s 153ms/step - loss: 0.7747 - accuracy: 0.7360 - val_loss: 0.8282 - val_accuracy: 0.7209\n",
      "Epoch 15/20\n",
      "657/657 [==============================] - 101s 154ms/step - loss: 0.7472 - accuracy: 0.7464 - val_loss: 0.8597 - val_accuracy: 0.7098\n",
      "Epoch 16/20\n",
      "657/657 [==============================] - 101s 153ms/step - loss: 0.7555 - accuracy: 0.7455 - val_loss: 0.8883 - val_accuracy: 0.6985\n",
      "Epoch 17/20\n",
      "657/657 [==============================] - 101s 154ms/step - loss: 0.7273 - accuracy: 0.7530 - val_loss: 0.8168 - val_accuracy: 0.7258\n",
      "Epoch 18/20\n",
      "657/657 [==============================] - 93s 141ms/step - loss: 0.7370 - accuracy: 0.7522 - val_loss: 0.9307 - val_accuracy: 0.6853\n",
      "Epoch 19/20\n",
      "657/657 [==============================] - 97s 148ms/step - loss: 0.7214 - accuracy: 0.7549 - val_loss: 0.8154 - val_accuracy: 0.7237\n",
      "Epoch 20/20\n",
      "657/657 [==============================] - 100s 153ms/step - loss: 0.7083 - accuracy: 0.7611 - val_loss: 0.8218 - val_accuracy: 0.7198\n"
     ]
    }
   ],
   "source": [
    "history = model_1.fit(\n",
    "    x_train,\n",
    "    y_train,\n",
    "    epochs=20,\n",
    "    batch_size=64,\n",
    "    shuffle=True,\n",
    "    validation_data=(x_val, y_val),\n",
    ")"
   ]
  },
  {
   "cell_type": "code",
   "execution_count": 45,
   "id": "a9ec5527",
   "metadata": {},
   "outputs": [
    {
     "data": {
      "image/png": "[encoded data removed]",
      "text/plain": [
       "<Figure size 432x288 with 1 Axes>"
      ]
     },
     "metadata": {
      "needs_background": "light"
     },
     "output_type": "display_data"
    }
   ],
   "source": [
    "# plotting training and validation loss\n",
    "import matplotlib.pyplot as plt\n",
    "loss = history.history['loss']\n",
    "val_loss = history.history['val_loss']\n",
    "epochs = range(1, len(loss) + 1)\n",
    "plt.plot(epochs, loss, 'bo', label='Training loss')\n",
    "plt.plot(epochs, val_loss, 'b', label='Validation loss')\n",
    "plt.title('Training and validation loss')\n",
    "plt.xlabel('Epochs')\n",
    "plt.ylabel('Loss')\n",
    "plt.legend()\n",
    "plt.show()"
   ]
  },
  {
   "cell_type": "code",
   "execution_count": 46,
   "id": "e80bbccd",
   "metadata": {},
   "outputs": [
    {
     "data": {
      "image/png": "[encoded data removed]",
      "text/plain": [
       "<Figure size 432x288 with 1 Axes>"
      ]
     },
     "metadata": {
      "needs_background": "light"
     },
     "output_type": "display_data"
    }
   ],
   "source": [
    "# Plotting training and validation accuracy\n",
    "plt.clf()\n",
    "acc = history.history['accuracy']\n",
    "val_acc = history.history['val_accuracy']\n",
    "plt.plot(epochs, acc, 'bo', label='Training acc')\n",
    "plt.plot(epochs, val_acc, 'b', label='Validation acc')\n",
    "plt.title('Training and validation accuracy')\n",
    "plt.xlabel('Epochs')\n",
    "plt.ylabel('Loss')\n",
    "plt.legend()\n",
    "plt.show()"
   ]
  },
  {
   "cell_type": "code",
   "execution_count": 47,
   "id": "0d8673f6",
   "metadata": {},
   "outputs": [
    {
     "data": {
      "text/plain": [
       "'C:\\\\Users\\\\fjdurlop\\\\Desktop'"
      ]
     },
     "execution_count": 47,
     "metadata": {},
     "output_type": "execute_result"
    }
   ],
   "source": [
    "pwd"
   ]
  },
  {
   "cell_type": "code",
   "execution_count": 48,
   "id": "465d135f",
   "metadata": {},
   "outputs": [
    {
     "name": "stdout",
     "output_type": "stream",
     "text": [
      "INFO:tensorflow:Assets written to: C:/Users/fjdurlop/Desktop/model_01\\assets\n"
     ]
    }
   ],
   "source": [
    "model_1.save(\"C:/Users/fjdurlop/Desktop/model_01\")\n"
   ]
  },
  {
   "cell_type": "code",
   "execution_count": 49,
   "id": "729660ab",
   "metadata": {},
   "outputs": [
    {
     "name": "stdout",
     "output_type": "stream",
     "text": [
      "188/188 [==============================] - 6s 30ms/step - loss: 0.8080 - accuracy: 0.7299\n"
     ]
    }
   ],
   "source": [
    "results = model_1.evaluate(x_test,y_test)"
   ]
  },
  {
   "cell_type": "code",
   "execution_count": null,
   "id": "10c44f4c",
   "metadata": {},
   "outputs": [
    {
     "ename": "",
     "evalue": "",
     "output_type": "error",
     "traceback": [
      "\u001b[1;31mRunning cells with 'Python 3.10.2 64-bit' requires ipykernel package.\n",
      "\u001b[1;31mRun the following command to install 'ipykernel' into the Python environment. \n",
      "\u001b[1;31mCommand: 'c:/Users/fjdurlop/AppData/Local/Programs/Python/Python310/python.exe -m pip install ipykernel -U --user --force-reinstall'"
     ]
    }
   ],
   "source": [
    "\n",
    "model_2 = keras.models.Sequential([\n",
    "                                 keras.layers.Conv2D(16, kernel_size= (3, 3), \n",
    "                                                     padding= 'same', activation= 'relu'), \n",
    "                                 #keras.layers.MaxPooling2D(pool_size= (2, 2)),\n",
    "                                 keras.layers.Conv2D(32, kernel_size= (3, 3), \n",
    "                                                     padding= 'same', activation= 'relu'), \n",
    "                                 keras.layers.MaxPooling2D(pool_size= (2, 2)),\n",
    "                                 keras.layers.Conv2D(64, kernel_size= (3, 3), \n",
    "                                                     padding= 'same', activation= 'relu'), \n",
    "                                 #keras.layers.MaxPooling2D(pool_size= (2, 2)), \n",
    "                                 keras.layers.Conv2D(64, kernel_size= (3, 3), \n",
    "                                                     padding= 'same', activation= 'relu'),\n",
    "                                 keras.layers.MaxPooling2D(pool_size= (2, 2)),\n",
    "                                 keras.layers.Dropout(0.25),\n",
    "                                 keras.layers.Conv2D(128, kernel_size= (3, 3), padding= 'same', \n",
    "                                                     activation= 'relu'), \n",
    "                                 keras.layers.MaxPooling2D(pool_size= (2, 2)),\n",
    "                                 keras.layers.Dropout(0.25),\n",
    "\n",
    "                                 keras.layers.Flatten(),\n",
    "                                 keras.layers.Dropout(0.3), \n",
    "                                \n",
    "                                 keras.layers.Dense(256, activation= 'relu'), \n",
    "                                 keras.layers.Dropout(0.3), \n",
    "                                \n",
    "                                 keras.layers.Dense(64, activation= 'relu'),\n",
    " \n",
    "                                 keras.layers.Dense(num_classes, activation = 'softmax')])\n",
    "\n",
    "model_2.compile(loss= 'categorical_crossentropy', optimizer = 'rmsprop', metrics = ['accuracy']) #change adam"
   ]
  },
  {
   "cell_type": "code",
   "execution_count": 73,
   "id": "65ae910d",
   "metadata": {},
   "outputs": [
    {
     "name": "stdout",
     "output_type": "stream",
     "text": [
      "Epoch 1/20\n",
      "657/657 [==============================] - 120s 174ms/step - loss: 2.0300 - accuracy: 0.2436 - val_loss: 1.5482 - val_accuracy: 0.4342\n",
      "Epoch 2/20\n",
      "657/657 [==============================] - 111s 169ms/step - loss: 1.4666 - accuracy: 0.4740 - val_loss: 1.3555 - val_accuracy: 0.5230\n",
      "Epoch 3/20\n",
      "657/657 [==============================] - 119s 181ms/step - loss: 1.2116 - accuracy: 0.5756 - val_loss: 1.0954 - val_accuracy: 0.6042\n",
      "Epoch 4/20\n",
      "657/657 [==============================] - 118s 180ms/step - loss: 1.0487 - accuracy: 0.6404 - val_loss: 0.9516 - val_accuracy: 0.6736\n",
      "Epoch 5/20\n",
      "657/657 [==============================] - 118s 179ms/step - loss: 0.9475 - accuracy: 0.6714 - val_loss: 0.8376 - val_accuracy: 0.7052\n",
      "Epoch 6/20\n",
      "657/657 [==============================] - 123s 188ms/step - loss: 0.8747 - accuracy: 0.7002 - val_loss: 1.0793 - val_accuracy: 0.6332\n",
      "Epoch 7/20\n",
      "657/657 [==============================] - 122s 186ms/step - loss: 0.8328 - accuracy: 0.7151 - val_loss: 0.8191 - val_accuracy: 0.7166\n",
      "Epoch 8/20\n",
      "657/657 [==============================] - 121s 184ms/step - loss: 0.7904 - accuracy: 0.7267 - val_loss: 0.8056 - val_accuracy: 0.7203\n",
      "Epoch 9/20\n",
      "657/657 [==============================] - 124s 189ms/step - loss: 0.7585 - accuracy: 0.7387 - val_loss: 0.7915 - val_accuracy: 0.7313\n",
      "Epoch 10/20\n",
      "657/657 [==============================] - 121s 184ms/step - loss: 0.7331 - accuracy: 0.7507 - val_loss: 0.7391 - val_accuracy: 0.7447\n",
      "Epoch 11/20\n",
      "657/657 [==============================] - 120s 183ms/step - loss: 0.7053 - accuracy: 0.7588 - val_loss: 0.9722 - val_accuracy: 0.6900\n",
      "Epoch 12/20\n",
      "657/657 [==============================] - 120s 182ms/step - loss: 0.6916 - accuracy: 0.7618 - val_loss: 0.8028 - val_accuracy: 0.7235\n",
      "Epoch 13/20\n",
      "657/657 [==============================] - 120s 182ms/step - loss: 0.6898 - accuracy: 0.7640 - val_loss: 0.7813 - val_accuracy: 0.7323\n",
      "Epoch 14/20\n",
      "657/657 [==============================] - 135s 206ms/step - loss: 0.6523 - accuracy: 0.7763 - val_loss: 0.7697 - val_accuracy: 0.7339\n",
      "Epoch 15/20\n",
      "657/657 [==============================] - 122s 186ms/step - loss: 0.6556 - accuracy: 0.7788 - val_loss: 1.0266 - val_accuracy: 0.6694\n",
      "Epoch 16/20\n",
      "657/657 [==============================] - 127s 194ms/step - loss: 0.6617 - accuracy: 0.7757 - val_loss: 0.7288 - val_accuracy: 0.7536\n",
      "Epoch 17/20\n",
      "657/657 [==============================] - 117s 178ms/step - loss: 0.6325 - accuracy: 0.7833 - val_loss: 0.7656 - val_accuracy: 0.7494\n",
      "Epoch 18/20\n",
      "657/657 [==============================] - 117s 178ms/step - loss: 0.6371 - accuracy: 0.7857 - val_loss: 0.6936 - val_accuracy: 0.7655\n",
      "Epoch 19/20\n",
      "657/657 [==============================] - 114s 174ms/step - loss: 0.6306 - accuracy: 0.7870 - val_loss: 0.7258 - val_accuracy: 0.7593\n",
      "Epoch 20/20\n",
      "657/657 [==============================] - 118s 179ms/step - loss: 0.6135 - accuracy: 0.7917 - val_loss: 0.7190 - val_accuracy: 0.7688\n"
     ]
    }
   ],
   "source": [
    "history = model_2.fit(\n",
    "    x_train,\n",
    "    y_train,\n",
    "    epochs=20,\n",
    "    batch_size=64,\n",
    "    shuffle=True,\n",
    "    validation_data=(x_val, y_val),\n",
    ")"
   ]
  },
  {
   "cell_type": "code",
   "execution_count": 74,
   "id": "95fbdee5",
   "metadata": {},
   "outputs": [
    {
     "data": {
      "image/png": "[encoded data removed]",
      "text/plain": [
       "<Figure size 432x288 with 1 Axes>"
      ]
     },
     "metadata": {
      "needs_background": "light"
     },
     "output_type": "display_data"
    }
   ],
   "source": [
    "# plotting training and validation loss\n",
    "import matplotlib.pyplot as plt\n",
    "loss = history.history['loss']\n",
    "val_loss = history.history['val_loss']\n",
    "epochs = range(1, len(loss) + 1)\n",
    "plt.plot(epochs, loss, 'bo', label='Training loss')\n",
    "plt.plot(epochs, val_loss, 'b', label='Validation loss')\n",
    "plt.title('Training and validation loss')\n",
    "plt.xlabel('Epochs')\n",
    "plt.ylabel('Loss')\n",
    "plt.legend()\n",
    "plt.show()"
   ]
  },
  {
   "cell_type": "code",
   "execution_count": 75,
   "id": "e2c2ddcf",
   "metadata": {},
   "outputs": [
    {
     "data": {
      "image/png": "[encoded data removed]",
      "text/plain": [
       "<Figure size 432x288 with 1 Axes>"
      ]
     },
     "metadata": {
      "needs_background": "light"
     },
     "output_type": "display_data"
    }
   ],
   "source": [
    "# Plotting training and validation accuracy\n",
    "plt.clf()\n",
    "acc = history.history['accuracy']\n",
    "val_acc = history.history['val_accuracy']\n",
    "plt.plot(epochs, acc, 'bo', label='Training acc')\n",
    "plt.plot(epochs, val_acc, 'b', label='Validation acc')\n",
    "plt.title('Training and validation accuracy')\n",
    "plt.xlabel('Epochs')\n",
    "plt.ylabel('Loss')\n",
    "plt.legend()\n",
    "plt.show()"
   ]
  },
  {
   "cell_type": "code",
   "execution_count": 76,
   "id": "b19cfa09",
   "metadata": {},
   "outputs": [
    {
     "name": "stdout",
     "output_type": "stream",
     "text": [
      "188/188 [==============================] - 4s 23ms/step - loss: 0.6805 - accuracy: 0.7809\n"
     ]
    },
    {
     "data": {
      "text/plain": [
       "[0.6804701685905457, 0.7808698415756226]"
      ]
     },
     "execution_count": 76,
     "metadata": {},
     "output_type": "execute_result"
    }
   ],
   "source": [
    "model_2.evaluate(x_test,y_test)"
   ]
  },
  {
   "cell_type": "code",
   "execution_count": 77,
   "id": "f71a7c2a",
   "metadata": {},
   "outputs": [
    {
     "name": "stdout",
     "output_type": "stream",
     "text": [
      "INFO:tensorflow:Assets written to: C:/Users/fjdurlop/Desktop/model_02\\assets\n"
     ]
    }
   ],
   "source": [
    "model_2.save(\"C:/Users/fjdurlop/Desktop/model_02\")\n"
   ]
  }
 ],
 "metadata": {
  "kernelspec": {
   "display_name": "Python 3.10.2 64-bit",
   "language": "python",
   "name": "python3"
  },
  "language_info": {
   "codemirror_mode": {
    "name": "ipython",
    "version": 3
   },
   "file_extension": ".py",
   "mimetype": "text/x-python",
   "name": "python",
   "nbconvert_exporter": "python",
   "pygments_lexer": "ipython3",
   "version": "3.10.2"
  },
  "vscode": {
   "interpreter": {
    "hash": "038ebeb117e27241fe3987d065cd2ba1dd84139734a5a3d913202e6429e5fcbf"
   }
  }
 },
 "nbformat": 4,
 "nbformat_minor": 5
}
