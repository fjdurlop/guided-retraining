{
 "cells": [
  {
   "cell_type": "markdown",
   "id": "f216e2a2",
   "metadata": {},
   "source": [
    "# Ordering by metrics and retraining phase\n",
    "\n",
    "## Dataset: Intel"
   ]
  },
  {
   "cell_type": "markdown",
   "id": "790af13b",
   "metadata": {},
   "source": [
    "## Experiment configuration 1\n"
   ]
  },
  {
   "cell_type": "markdown",
   "id": "21a98552",
   "metadata": {},
   "source": [
    "## Configuration 2\n",
    "\t2. Incremental guided retraining starting from the original model using the new adversarial inputs and original training set."
   ]
  },
  {
   "cell_type": "code",
   "execution_count": null,
   "id": "90383afd",
   "metadata": {},
   "outputs": [],
   "source": [
    "pip install --user tensorflow==2.5"
   ]
  },
  {
   "cell_type": "code",
   "execution_count": 1,
   "id": "ce1386e9",
   "metadata": {},
   "outputs": [],
   "source": [
    "import argparse\n",
    "\n",
    "import numpy as np\n",
    "import tensorflow as tf\n",
    "import keras.backend as K\n",
    "\n",
    "import matplotlib.pyplot as plt\n",
    "\n",
    "from keras.utils import np_utils\n",
    "from keras.models import Sequential\n",
    "from keras.layers import Dense, Dropout, Activation, Flatten, Conv2D, MaxPooling2D\n",
    "from keras.regularizers import l2\n",
    "\n",
    "import glob\n",
    "import os\n",
    "import cv2\n",
    "import keras\n",
    "\n",
    "\n",
    "import time\n",
    "import argparse\n",
    "\n",
    "from tqdm import tqdm\n",
    "\n",
    "from keras.models import load_model, Model\n"
   ]
  },
  {
   "cell_type": "code",
   "execution_count": 2,
   "id": "aa0aa2b2",
   "metadata": {},
   "outputs": [
    {
     "data": {
      "text/plain": [
       "True"
      ]
     },
     "execution_count": 2,
     "metadata": {},
     "output_type": "execute_result"
    }
   ],
   "source": [
    "tf.__version__ == '2.5.0' # Version of tensorflow"
   ]
  },
  {
   "cell_type": "code",
   "execution_count": 3,
   "id": "f93a3031",
   "metadata": {},
   "outputs": [
    {
     "data": {
      "text/plain": [
       "'C:\\\\Users\\\\fjdur\\\\Documents\\\\upc-july\\\\notebooks'"
      ]
     },
     "execution_count": 3,
     "metadata": {},
     "output_type": "execute_result"
    }
   ],
   "source": [
    "pwd"
   ]
  },
  {
   "cell_type": "code",
   "execution_count": 4,
   "id": "fa923a43",
   "metadata": {},
   "outputs": [
    {
     "name": "stdout",
     "output_type": "stream",
     "text": [
      "C:\\Users\\fjdur\\Documents\\utils\n"
     ]
    }
   ],
   "source": [
    "cd C:/Users/fjdur/Documents/utils//"
   ]
  },
  {
   "cell_type": "code",
   "execution_count": 5,
   "id": "87b12b81",
   "metadata": {},
   "outputs": [
    {
     "name": "stdout",
     "output_type": "stream",
     "text": [
      " Volume in drive C is Windows\n",
      " Volume Serial Number is 54D3-6FC8\n",
      "\n",
      " Directory of C:\\Users\\fjdur\\Documents\\utils\n",
      "\n",
      "24/07/2022  22:57    <DIR>          .\n",
      "24/07/2022  22:57    <DIR>          ..\n",
      "13/08/2022  18:03    <DIR>          __pycache__\n",
      "24/07/2022  22:57               432 adversarial_creation.py\n",
      "07/11/2021  18:37            11.457 project_utils.py\n",
      "17/07/2022  15:27    <DIR>          tmp\n",
      "13/08/2022  18:01            31.616 utils_guided_retraining.py\n",
      "               3 File(s)         43.505 bytes\n",
      "               4 Dir(s)  22.691.643.392 bytes free\n"
     ]
    }
   ],
   "source": [
    "ls"
   ]
  },
  {
   "cell_type": "code",
   "execution_count": 6,
   "id": "723735cb",
   "metadata": {},
   "outputs": [
    {
     "name": "stdout",
     "output_type": "stream",
     "text": [
      "2.5.0\n",
      "keras\n",
      "2.5.0\n"
     ]
    }
   ],
   "source": [
    "# utils for project\n",
    "#import utils_guided_retraining2 as utils\n",
    "import utils_guided_retraining as utils"
   ]
  },
  {
   "cell_type": "code",
   "execution_count": 7,
   "id": "1c6a307c",
   "metadata": {},
   "outputs": [],
   "source": [
    "#cd '../notebooks/'"
   ]
  },
  {
   "cell_type": "code",
   "execution_count": 8,
   "id": "de1bd2cb",
   "metadata": {},
   "outputs": [],
   "source": [
    "dataset = \"gtsrb\""
   ]
  },
  {
   "cell_type": "code",
   "execution_count": 9,
   "id": "50c2b3f3",
   "metadata": {},
   "outputs": [
    {
     "name": "stdout",
     "output_type": "stream",
     "text": [
      "D:/data/x_train.npy\n",
      "x_set len:  31366\n",
      "D:/data/y_train.npy\n",
      "y_set len:  31366\n",
      "D:/data/x_val.npy\n",
      "x_set len:  3919\n",
      "D:/data/y_val.npy\n",
      "y_set len:  3919\n",
      "D:/data/x_test.npy\n",
      "x_set len:  3923\n",
      "D:/data/y_test.npy\n",
      "y_set len:  3923\n"
     ]
    }
   ],
   "source": [
    "x_train,y_train = utils.get_data(dataset,\"Train\",verbose=True)\n",
    "x_val,y_val = utils.get_data(dataset,\"Val\",verbose=True)\n",
    "x_test,y_test = utils.get_data(dataset,\"Test\",verbose=True)"
   ]
  },
  {
   "cell_type": "code",
   "execution_count": 10,
   "id": "e6f6f8a7",
   "metadata": {},
   "outputs": [
    {
     "name": "stdout",
     "output_type": "stream",
     "text": [
      "D:/data_adversarial_july/gtsrb/train_and_adversary.npy\n",
      "x_set len:  35287\n",
      "D:/data_adversarial_july/gtsrb/train_and_adversary_labels.npy\n",
      "y_set len:  35287\n"
     ]
    }
   ],
   "source": [
    "x_train_and_adversary,y_train_and_adversary = utils.get_data(dataset,\"Train_and_adversary\",verbose=True)"
   ]
  },
  {
   "cell_type": "code",
   "execution_count": 11,
   "id": "53dcdf78",
   "metadata": {},
   "outputs": [
    {
     "name": "stdout",
     "output_type": "stream",
     "text": [
      "3921\n",
      "3921\n"
     ]
    }
   ],
   "source": [
    "x_adversary_training = x_train_and_adversary[len(x_train):]\n",
    "print(len(x_adversary_training))\n",
    "y_adversary_training = y_train_and_adversary[len(y_train):]\n",
    "\n",
    "print(len(y_adversary_training))"
   ]
  },
  {
   "cell_type": "code",
   "execution_count": 12,
   "id": "d8fd2c92",
   "metadata": {},
   "outputs": [],
   "source": [
    "# Obtaining adversarial examples for testing \n",
    "x_test_and_adversary,y_test_and_adversary = utils.get_adversarial_data(dataset,'Test_adversarial') "
   ]
  },
  {
   "cell_type": "code",
   "execution_count": 13,
   "id": "c27698e5",
   "metadata": {},
   "outputs": [
    {
     "name": "stdout",
     "output_type": "stream",
     "text": [
      "3921\n",
      "3921\n"
     ]
    }
   ],
   "source": [
    "x_adversary_test = x_test_and_adversary[len(x_test):]\n",
    "print(len(x_adversary_test))\n",
    "y_adversary_test = y_test_and_adversary[len(y_test):]\n",
    "\n",
    "print(len(y_adversary_test))"
   ]
  },
  {
   "cell_type": "markdown",
   "id": "becb4e3b",
   "metadata": {},
   "source": [
    "## ----"
   ]
  },
  {
   "cell_type": "code",
   "execution_count": 14,
   "id": "c1560941",
   "metadata": {},
   "outputs": [],
   "source": [
    "# Original model \n",
    "\n",
    "model_dir = \"C:/Users/fjdur/Documents/upc-july/models/tf_model_25-06/\"\n",
    "if(dataset == 'gtsrb'):\n",
    "    model_dir = \"C:/Users/fjdur/Documents/upc-july/models/tf_model_25-06\"\n",
    "elif(dataset == 'intel'):\n",
    "    model_dir = \"C:/Users/fjdur/Documents/upc-july/models/intel_model_21_10\"\n",
    "elif(dataset == 'mnist'):\n",
    "    model_dir = \"C:/Users/fjdur/Documents/upc-july/models/models2\"\n",
    "elif(dataset == 'cifar'):\n",
    "    model_dir = \"C:/Users/fjdur/Documents/upc-july/models/model_02\"\n"
   ]
  },
  {
   "cell_type": "markdown",
   "id": "40a25d92",
   "metadata": {},
   "source": [
    "model_dir = \"C:/Users/fjdurlop/Documents/upc/upc-july/models/tf_model_25-06/\"\n",
    "if(dataset == 'gtsrb'):\n",
    "    model_dir = \"C:/Users/fjdurlop/Documents/upc/upc-july/models/tf_model_25-06\"\n",
    "elif(dataset == 'intel'):\n",
    "    model_dir = \"C:/Users/fjdurlop/Documents/upc/upc-july/models/intel_model_21_10\"\n",
    "elif(dataset == 'mnist'):\n",
    "    model_dir = \"C:/Users/fjdurlop/Documents/upc/upc-july/models/models2\"\n",
    "elif(dataset == 'cifar'):\n",
    "    model_dir = \"C:/Users/fjdurlop/Documents/upc/upc-july/models/model_02\""
   ]
  },
  {
   "cell_type": "code",
   "execution_count": 15,
   "id": "e5478616",
   "metadata": {},
   "outputs": [
    {
     "name": "stdout",
     "output_type": "stream",
     "text": [
      "C:/Users/fjdur/Documents/upc-july/models/tf_model_25-06\n",
      "Model loaded correctly\n"
     ]
    }
   ],
   "source": [
    "print(model_dir)\n",
    "model_original = utils.My_model(dataset,True, model_dir)"
   ]
  },
  {
   "cell_type": "code",
   "execution_count": 16,
   "id": "a81f5589",
   "metadata": {},
   "outputs": [
    {
     "name": "stdout",
     "output_type": "stream",
     "text": [
      "3921\n"
     ]
    }
   ],
   "source": [
    "print(len(x_adversary_training))"
   ]
  },
  {
   "cell_type": "code",
   "execution_count": 17,
   "id": "8ea0bc17",
   "metadata": {},
   "outputs": [
    {
     "name": "stdout",
     "output_type": "stream",
     "text": [
      "(3921, 48, 48, 1)\n"
     ]
    },
    {
     "data": {
      "text/plain": [
       "196"
      ]
     },
     "execution_count": 17,
     "metadata": {},
     "output_type": "execute_result"
    }
   ],
   "source": [
    "print(x_adversary_training.shape)\n",
    "len(x_adversary_training)//20"
   ]
  },
  {
   "cell_type": "code",
   "execution_count": 18,
   "id": "983373d2",
   "metadata": {},
   "outputs": [],
   "source": [
    "n_data_points = 190"
   ]
  },
  {
   "cell_type": "code",
   "execution_count": 19,
   "id": "7537e3a8",
   "metadata": {},
   "outputs": [],
   "source": [
    "import gc"
   ]
  },
  {
   "cell_type": "markdown",
   "id": "78edd1c7",
   "metadata": {},
   "source": [
    "## Loading LSA and DSA values "
   ]
  },
  {
   "cell_type": "code",
   "execution_count": 20,
   "id": "dd62896d",
   "metadata": {},
   "outputs": [],
   "source": [
    "lsa_direction = \"C:/Users/fjdur/Documents/upc-july/data/\"+dataset+\"/lsa_values.npy\"\n"
   ]
  },
  {
   "cell_type": "code",
   "execution_count": 21,
   "id": "d62da548",
   "metadata": {},
   "outputs": [],
   "source": [
    "lsa_direction = \"C:/Users/fjdurlop/Documents/upc/upc-july/data/\"+dataset+\"/lsa_values.npy\"\n"
   ]
  },
  {
   "cell_type": "code",
   "execution_count": 21,
   "id": "cbe684c7",
   "metadata": {},
   "outputs": [
    {
     "name": "stdout",
     "output_type": "stream",
     "text": [
      "3921\n"
     ]
    }
   ],
   "source": [
    "lsa_values = np.load(lsa_direction)[len(x_train):] \n",
    "print(len(lsa_values))\n"
   ]
  },
  {
   "cell_type": "code",
   "execution_count": null,
   "id": "8e725932",
   "metadata": {},
   "outputs": [],
   "source": []
  },
  {
   "cell_type": "code",
   "execution_count": 25,
   "id": "c0ec186e",
   "metadata": {},
   "outputs": [],
   "source": [
    "\n",
    "# Obtaining top n images by LSA values\n",
    "top_images_by_lsa = utils.get_x_of_indexes(list(np.flip(np.argsort(lsa_values))),x_adversary_training)\n",
    "top_labels_by_lsa = utils.get_x_of_indexes(list(np.flip(np.argsort(lsa_values))),y_adversary_training)\n"
   ]
  },
  {
   "cell_type": "code",
   "execution_count": null,
   "id": "037f9ba1",
   "metadata": {},
   "outputs": [],
   "source": []
  },
  {
   "cell_type": "code",
   "execution_count": 26,
   "id": "262a4841",
   "metadata": {
    "scrolled": true
   },
   "outputs": [
    {
     "name": "stdout",
     "output_type": "stream",
     "text": [
      "0 :\n",
      "0  ->  190\n",
      "190\n",
      "1 :\n",
      "0  ->  380\n",
      "380\n",
      "2 :\n",
      "0  ->  570\n",
      "570\n",
      "3 :\n",
      "0  ->  760\n",
      "760\n",
      "4 :\n",
      "0  ->  950\n",
      "950\n",
      "5 :\n",
      "0  ->  1140\n",
      "1140\n",
      "6 :\n",
      "0  ->  1330\n",
      "1330\n",
      "7 :\n",
      "0  ->  1520\n",
      "1520\n",
      "8 :\n",
      "0  ->  1710\n",
      "1710\n",
      "9 :\n",
      "0  ->  1900\n",
      "1900\n",
      "10 :\n",
      "0  ->  2090\n",
      "2090\n",
      "11 :\n",
      "0  ->  2280\n",
      "2280\n",
      "12 :\n",
      "0  ->  2470\n",
      "2470\n",
      "13 :\n",
      "0  ->  2660\n",
      "2660\n",
      "14 :\n",
      "0  ->  2850\n",
      "2850\n",
      "15 :\n",
      "0  ->  3040\n",
      "3040\n",
      "16 :\n",
      "0  ->  3230\n",
      "3230\n",
      "17 :\n",
      "0  ->  3420\n",
      "3420\n",
      "18 :\n",
      "0  ->  3610\n",
      "3610\n",
      "19 :\n",
      "Last\n",
      "0  ->  3921\n",
      "3921\n"
     ]
    }
   ],
   "source": [
    "m = n_data_points\n",
    "n = 0\n",
    "image_sets_lsa = []\n",
    "label_sets_lsa = []\n",
    "\n",
    "# last\n",
    "#for i in range(0,len(top_images_by_lsa)//m):\n",
    "\n",
    "for i in range((len(top_images_by_lsa)//m)):\n",
    "    print(i,\":\")\n",
    "    if (i+1 >= ((len(top_images_by_lsa)//m))):\n",
    "        print(\"Last\")\n",
    "        print(0,\" -> \",n+m+(len(top_images_by_lsa)%m))\n",
    "        top_images_by_lsa_n = np.array(top_images_by_lsa[:n+m+(len(top_images_by_lsa)%m)])\n",
    "        top_labels_by_lsa_n = np.array(top_labels_by_lsa[:n+m+(len(top_images_by_lsa)%m)])\n",
    "    else:\n",
    "        print(0,\" -> \",m+n)\n",
    "        top_images_by_lsa_n = np.array(top_images_by_lsa[:n+m])\n",
    "        top_labels_by_lsa_n = np.array(top_labels_by_lsa[:n+m])\n",
    "    image_sets_lsa.append(top_images_by_lsa_n)\n",
    "    label_sets_lsa.append(top_labels_by_lsa_n)\n",
    "    print(len(top_images_by_lsa_n))\n",
    "    n += m"
   ]
  },
  {
   "cell_type": "code",
   "execution_count": 23,
   "id": "55e3a060",
   "metadata": {},
   "outputs": [
    {
     "data": {
      "text/plain": [
       "3610"
      ]
     },
     "execution_count": 23,
     "metadata": {},
     "output_type": "execute_result"
    }
   ],
   "source": [
    "len(image_sets_lsa[-2])"
   ]
  },
  {
   "cell_type": "markdown",
   "id": "ed06a68e",
   "metadata": {},
   "source": [
    "## Training guided by LSA"
   ]
  },
  {
   "cell_type": "code",
   "execution_count": 27,
   "id": "9fa4de5c",
   "metadata": {},
   "outputs": [
    {
     "data": {
      "text/plain": [
       "20"
      ]
     },
     "execution_count": 27,
     "metadata": {},
     "output_type": "execute_result"
    }
   ],
   "source": [
    "len(label_sets_lsa)"
   ]
  },
  {
   "cell_type": "code",
   "execution_count": 28,
   "id": "21782029",
   "metadata": {},
   "outputs": [
    {
     "name": "stdout",
     "output_type": "stream",
     "text": [
      "C:/Users/fjdur/Documents/upc-july/models/tf_model_25-06\n"
     ]
    }
   ],
   "source": [
    "print(model_dir)"
   ]
  },
  {
   "cell_type": "code",
   "execution_count": 29,
   "id": "daef1b47",
   "metadata": {},
   "outputs": [
    {
     "name": "stdout",
     "output_type": "stream",
     "text": [
      "C:/Users/fjdur/Documents/upc-july/models/tf_model_25-06\n",
      "0 :\n",
      "Model loaded correctly\n",
      "Model compiled\n",
      "1 :\n",
      "Model loaded correctly\n",
      "Model compiled\n",
      "2 :\n",
      "Model loaded correctly\n",
      "Model compiled\n",
      "3 :\n",
      "Model loaded correctly\n",
      "Model compiled\n",
      "4 :\n",
      "Model loaded correctly\n",
      "Model compiled\n",
      "5 :\n",
      "Model loaded correctly\n",
      "Model compiled\n",
      "6 :\n",
      "Model loaded correctly\n",
      "Model compiled\n",
      "7 :\n",
      "Model loaded correctly\n",
      "Model compiled\n",
      "8 :\n",
      "Model loaded correctly\n",
      "Model compiled\n",
      "9 :\n",
      "Model loaded correctly\n",
      "Model compiled\n",
      "10 :\n",
      "Model loaded correctly\n",
      "Model compiled\n",
      "11 :\n",
      "Model loaded correctly\n",
      "Model compiled\n",
      "12 :\n",
      "Model loaded correctly\n",
      "Model compiled\n",
      "13 :\n",
      "Model loaded correctly\n",
      "Model compiled\n",
      "14 :\n",
      "Model loaded correctly\n",
      "Model compiled\n",
      "15 :\n",
      "Model loaded correctly\n",
      "Model compiled\n",
      "16 :\n",
      "Model loaded correctly\n",
      "Model compiled\n",
      "17 :\n",
      "Model loaded correctly\n",
      "Model compiled\n",
      "18 :\n",
      "Model loaded correctly\n",
      "Model compiled\n",
      "19 :\n",
      "Model loaded correctly\n",
      "Model compiled\n"
     ]
    }
   ],
   "source": [
    "print(model_dir)\n",
    "\n",
    "models_lsa = []\n",
    "for i in range(len(label_sets_lsa)):\n",
    "    print(i,\":\")\n",
    "    model = utils.My_model(dataset,True,model_dir)\n",
    "    model.compile_model()\n",
    "    models_lsa.append(model)\n"
   ]
  },
  {
   "cell_type": "code",
   "execution_count": 30,
   "id": "282cec1c",
   "metadata": {},
   "outputs": [
    {
     "name": "stdout",
     "output_type": "stream",
     "text": [
      "123/123 [==============================] - 41s 75ms/step - loss: 0.0595 - accuracy: 0.9859\n"
     ]
    },
    {
     "data": {
      "text/plain": [
       "[0.029302377253770828, 0.9928625822067261]"
      ]
     },
     "execution_count": 30,
     "metadata": {},
     "output_type": "execute_result"
    }
   ],
   "source": [
    "models_lsa[0].evaluate(x_test,y_test)"
   ]
  },
  {
   "cell_type": "code",
   "execution_count": 31,
   "id": "3665e51c",
   "metadata": {},
   "outputs": [
    {
     "name": "stdout",
     "output_type": "stream",
     "text": [
      "Epoch 1/10\n",
      "3/3 [==============================] - 26s 5s/step - loss: 5.0634 - accuracy: 0.0842 - val_loss: 1.0709 - val_accuracy: 0.8591\n",
      "Epoch 2/10\n",
      "3/3 [==============================] - 10s 5s/step - loss: 3.1304 - accuracy: 0.1368 - val_loss: 0.9860 - val_accuracy: 0.8625\n",
      "Epoch 3/10\n",
      "3/3 [==============================] - 10s 5s/step - loss: 2.8142 - accuracy: 0.2053 - val_loss: 0.2846 - val_accuracy: 0.9530\n",
      "Epoch 4/10\n",
      "3/3 [==============================] - 10s 5s/step - loss: 2.5054 - accuracy: 0.2684 - val_loss: 0.2401 - val_accuracy: 0.9533\n",
      "Epoch 5/10\n",
      "3/3 [==============================] - 10s 5s/step - loss: 2.3226 - accuracy: 0.2895 - val_loss: 0.1581 - val_accuracy: 0.9666\n",
      "Epoch 6/10\n",
      "3/3 [==============================] - 10s 5s/step - loss: 2.2003 - accuracy: 0.3526 - val_loss: 0.1099 - val_accuracy: 0.9793\n",
      "Epoch 7/10\n",
      "3/3 [==============================] - 10s 5s/step - loss: 1.9964 - accuracy: 0.3526 - val_loss: 0.1516 - val_accuracy: 0.9617\n",
      "Epoch 8/10\n",
      "3/3 [==============================] - 10s 5s/step - loss: 1.8372 - accuracy: 0.4526 - val_loss: 0.1893 - val_accuracy: 0.9497\n",
      "Epoch 9/10\n",
      "3/3 [==============================] - 10s 5s/step - loss: 1.8211 - accuracy: 0.4158 - val_loss: 0.1046 - val_accuracy: 0.9742\n",
      "Epoch 10/10\n",
      "3/3 [==============================] - 10s 5s/step - loss: 1.5845 - accuracy: 0.5053 - val_loss: 0.1467 - val_accuracy: 0.9633\n",
      "Duration: 0:01:54.226151\n"
     ]
    }
   ],
   "source": [
    "n = 0\n",
    "models_lsa[n].fit_model(image_sets_lsa[n],label_sets_lsa[n],x_val,y_val,epochs=10,batch_size = 64)\n",
    "n=n+1"
   ]
  },
  {
   "cell_type": "code",
   "execution_count": 32,
   "id": "c2f79099",
   "metadata": {},
   "outputs": [
    {
     "name": "stdout",
     "output_type": "stream",
     "text": [
      "Epoch 1/10\n",
      "6/6 [==============================] - 18s 2s/step - loss: 5.1555 - accuracy: 0.0762 - val_loss: 0.5223 - val_accuracy: 0.9446\n",
      "Epoch 2/10\n",
      "6/6 [==============================] - 11s 2s/step - loss: 2.8275 - accuracy: 0.1997 - val_loss: 0.1522 - val_accuracy: 0.9732\n",
      "Epoch 3/10\n",
      "6/6 [==============================] - 11s 2s/step - loss: 2.4853 - accuracy: 0.3045 - val_loss: 0.1138 - val_accuracy: 0.9801\n",
      "Epoch 4/10\n",
      "6/6 [==============================] - 11s 2s/step - loss: 2.2249 - accuracy: 0.3695 - val_loss: 0.0727 - val_accuracy: 0.9855\n",
      "Epoch 5/10\n",
      "6/6 [==============================] - 11s 2s/step - loss: 1.8716 - accuracy: 0.4532 - val_loss: 0.0865 - val_accuracy: 0.9829\n",
      "Epoch 6/10\n",
      "6/6 [==============================] - 11s 2s/step - loss: 1.7309 - accuracy: 0.4950 - val_loss: 0.0963 - val_accuracy: 0.9788\n",
      "Epoch 7/10\n",
      "6/6 [==============================] - 11s 2s/step - loss: 1.5495 - accuracy: 0.5184 - val_loss: 0.1062 - val_accuracy: 0.9722\n",
      "Epoch 8/10\n",
      "6/6 [==============================] - 12s 2s/step - loss: 1.5285 - accuracy: 0.5593 - val_loss: 0.0840 - val_accuracy: 0.9811\n",
      "Epoch 9/10\n",
      "6/6 [==============================] - 12s 2s/step - loss: 1.3635 - accuracy: 0.6068 - val_loss: 0.1104 - val_accuracy: 0.9742\n",
      "Epoch 10/10\n",
      "6/6 [==============================] - 11s 2s/step - loss: 1.3146 - accuracy: 0.6011 - val_loss: 0.0744 - val_accuracy: 0.9832\n",
      "Duration: 0:01:59.987916\n"
     ]
    }
   ],
   "source": [
    "n=1\n",
    "models_lsa[n].fit_model(image_sets_lsa[n],label_sets_lsa[n],x_val,y_val,epochs=10,batch_size = 64)\n",
    "n = n+1"
   ]
  },
  {
   "cell_type": "code",
   "execution_count": 33,
   "id": "d9f7fa66",
   "metadata": {},
   "outputs": [
    {
     "name": "stdout",
     "output_type": "stream",
     "text": [
      "2\n",
      "Epoch 1/10\n",
      "9/9 [==============================] - 19s 2s/step - loss: 4.2448 - accuracy: 0.1190 - val_loss: 0.2246 - val_accuracy: 0.9543\n",
      "Epoch 2/10\n",
      "9/9 [==============================] - 13s 2s/step - loss: 2.5342 - accuracy: 0.2930 - val_loss: 0.1332 - val_accuracy: 0.9645\n",
      "Epoch 3/10\n",
      "9/9 [==============================] - 13s 2s/step - loss: 2.2093 - accuracy: 0.3871 - val_loss: 0.1069 - val_accuracy: 0.9775\n",
      "Epoch 4/10\n",
      "9/9 [==============================] - 13s 2s/step - loss: 1.8806 - accuracy: 0.4472 - val_loss: 0.0680 - val_accuracy: 0.9809\n",
      "Epoch 5/10\n",
      "9/9 [==============================] - 13s 2s/step - loss: 1.8627 - accuracy: 0.4925 - val_loss: 0.1235 - val_accuracy: 0.9684\n",
      "Epoch 6/10\n",
      "9/9 [==============================] - 13s 2s/step - loss: 1.5269 - accuracy: 0.5491 - val_loss: 0.1290 - val_accuracy: 0.9768\n",
      "Epoch 7/10\n",
      "9/9 [==============================] - 13s 2s/step - loss: 1.4119 - accuracy: 0.5676 - val_loss: 0.0939 - val_accuracy: 0.9775\n",
      "Epoch 8/10\n",
      "9/9 [==============================] - 13s 2s/step - loss: 1.1608 - accuracy: 0.6391 - val_loss: 0.1124 - val_accuracy: 0.9727\n",
      "Epoch 9/10\n",
      "9/9 [==============================] - 11s 1s/step - loss: 1.2371 - accuracy: 0.6339 - val_loss: 0.1383 - val_accuracy: 0.9656\n",
      "Epoch 10/10\n",
      "9/9 [==============================] - 13s 2s/step - loss: 1.0765 - accuracy: 0.6781 - val_loss: 0.1388 - val_accuracy: 0.9635\n",
      "Duration: 0:02:13.012984\n"
     ]
    }
   ],
   "source": [
    "print(n)\n",
    "models_lsa[n].fit_model(image_sets_lsa[n],label_sets_lsa[n],x_val,y_val)\n",
    "n = n+1"
   ]
  },
  {
   "cell_type": "code",
   "execution_count": 34,
   "id": "a4586fc7",
   "metadata": {},
   "outputs": [
    {
     "name": "stdout",
     "output_type": "stream",
     "text": [
      "3\n",
      "Epoch 1/10\n",
      "12/12 [==============================] - 21s 1s/step - loss: 3.8552 - accuracy: 0.1724 - val_loss: 0.1491 - val_accuracy: 0.9691\n",
      "Epoch 2/10\n",
      "12/12 [==============================] - 14s 1s/step - loss: 2.2922 - accuracy: 0.3599 - val_loss: 0.1139 - val_accuracy: 0.9788\n",
      "Epoch 3/10\n",
      "12/12 [==============================] - 14s 1s/step - loss: 1.9166 - accuracy: 0.4694 - val_loss: 0.1296 - val_accuracy: 0.9684\n",
      "Epoch 4/10\n",
      "12/12 [==============================] - 14s 1s/step - loss: 1.8433 - accuracy: 0.4577 - val_loss: 0.1147 - val_accuracy: 0.9732\n",
      "Epoch 5/10\n",
      "12/12 [==============================] - 15s 1s/step - loss: 1.4544 - accuracy: 0.5771 - val_loss: 0.0898 - val_accuracy: 0.9755\n",
      "Epoch 6/10\n",
      "12/12 [==============================] - 14s 1s/step - loss: 1.3562 - accuracy: 0.5904 - val_loss: 0.0658 - val_accuracy: 0.9832\n",
      "Epoch 7/10\n",
      "12/12 [==============================] - 14s 1s/step - loss: 1.1732 - accuracy: 0.6329 - val_loss: 0.1090 - val_accuracy: 0.9696\n",
      "Epoch 8/10\n",
      "12/12 [==============================] - 14s 1s/step - loss: 1.1320 - accuracy: 0.6616 - val_loss: 0.0903 - val_accuracy: 0.9760\n",
      "Epoch 9/10\n",
      "12/12 [==============================] - 14s 1s/step - loss: 0.9685 - accuracy: 0.7187 - val_loss: 0.1355 - val_accuracy: 0.9643\n",
      "Epoch 10/10\n",
      "12/12 [==============================] - 14s 1s/step - loss: 0.8581 - accuracy: 0.7424 - val_loss: 0.1655 - val_accuracy: 0.9599\n",
      "Duration: 0:02:30.549581\n"
     ]
    }
   ],
   "source": [
    "print(n)\n",
    "models_lsa[n].fit_model(image_sets_lsa[n],label_sets_lsa[n],x_val,y_val)\n",
    "n = n+1"
   ]
  },
  {
   "cell_type": "code",
   "execution_count": 35,
   "id": "681edfc1",
   "metadata": {},
   "outputs": [
    {
     "name": "stdout",
     "output_type": "stream",
     "text": [
      "4\n",
      "Epoch 1/10\n",
      "15/15 [==============================] - 22s 1s/step - loss: 3.7006 - accuracy: 0.1847 - val_loss: 0.2719 - val_accuracy: 0.9712\n",
      "Epoch 2/10\n",
      "15/15 [==============================] - 16s 1s/step - loss: 2.2243 - accuracy: 0.4002 - val_loss: 0.1233 - val_accuracy: 0.9786\n",
      "Epoch 3/10\n",
      "15/15 [==============================] - 16s 1s/step - loss: 1.8106 - accuracy: 0.5171 - val_loss: 0.0959 - val_accuracy: 0.9791\n",
      "Epoch 4/10\n",
      "15/15 [==============================] - 16s 1s/step - loss: 1.5397 - accuracy: 0.5587 - val_loss: 0.1065 - val_accuracy: 0.9732\n",
      "Epoch 5/10\n",
      "15/15 [==============================] - 16s 1s/step - loss: 1.3633 - accuracy: 0.6252 - val_loss: 0.0889 - val_accuracy: 0.9791\n",
      "Epoch 6/10\n",
      "15/15 [==============================] - 16s 1s/step - loss: 1.1799 - accuracy: 0.6378 - val_loss: 0.0806 - val_accuracy: 0.9804\n",
      "Epoch 7/10\n",
      "15/15 [==============================] - 16s 1s/step - loss: 1.0598 - accuracy: 0.6746 - val_loss: 0.2887 - val_accuracy: 0.9232\n",
      "Epoch 8/10\n",
      "15/15 [==============================] - 16s 1s/step - loss: 1.0249 - accuracy: 0.6819 - val_loss: 0.0981 - val_accuracy: 0.9740\n",
      "Epoch 9/10\n",
      "15/15 [==============================] - 16s 1s/step - loss: 0.8672 - accuracy: 0.7247 - val_loss: 0.1231 - val_accuracy: 0.9673\n",
      "Epoch 10/10\n",
      "15/15 [==============================] - 16s 1s/step - loss: 0.7592 - accuracy: 0.7650 - val_loss: 0.1218 - val_accuracy: 0.9671\n",
      "Duration: 0:02:46.431821\n"
     ]
    }
   ],
   "source": [
    "print(n) #4\n",
    "models_lsa[n].fit_model(image_sets_lsa[n],label_sets_lsa[n],x_val,y_val)\n",
    "n = n+1"
   ]
  },
  {
   "cell_type": "code",
   "execution_count": 36,
   "id": "68bcdd19",
   "metadata": {},
   "outputs": [
    {
     "name": "stdout",
     "output_type": "stream",
     "text": [
      "5\n",
      "Epoch 1/10\n",
      "18/18 [==============================] - 24s 1s/step - loss: 3.4402 - accuracy: 0.2367 - val_loss: 0.1233 - val_accuracy: 0.9788\n",
      "Epoch 2/10\n",
      "18/18 [==============================] - 18s 1s/step - loss: 1.8938 - accuracy: 0.4983 - val_loss: 0.1083 - val_accuracy: 0.9745\n",
      "Epoch 3/10\n",
      "18/18 [==============================] - 18s 1s/step - loss: 1.5133 - accuracy: 0.5612 - val_loss: 0.0775 - val_accuracy: 0.9804\n",
      "Epoch 4/10\n",
      "18/18 [==============================] - 18s 1s/step - loss: 1.2914 - accuracy: 0.6407 - val_loss: 0.0792 - val_accuracy: 0.9781\n",
      "Epoch 5/10\n",
      "18/18 [==============================] - 18s 1s/step - loss: 1.1351 - accuracy: 0.6761 - val_loss: 0.0746 - val_accuracy: 0.9821\n",
      "Epoch 6/10\n",
      "18/18 [==============================] - 18s 1s/step - loss: 1.0056 - accuracy: 0.7016 - val_loss: 0.1118 - val_accuracy: 0.9673\n",
      "Epoch 7/10\n",
      "18/18 [==============================] - 18s 1s/step - loss: 0.8780 - accuracy: 0.7339 - val_loss: 0.1147 - val_accuracy: 0.9701\n",
      "Epoch 8/10\n",
      "18/18 [==============================] - 18s 999ms/step - loss: 0.7730 - accuracy: 0.7716 - val_loss: 0.0922 - val_accuracy: 0.9758\n",
      "Epoch 9/10\n",
      "18/18 [==============================] - 18s 1s/step - loss: 0.6450 - accuracy: 0.7916 - val_loss: 0.1713 - val_accuracy: 0.9530\n",
      "Epoch 10/10\n",
      "18/18 [==============================] - 18s 1s/step - loss: 0.7356 - accuracy: 0.7883 - val_loss: 0.1103 - val_accuracy: 0.9709\n",
      "Duration: 0:03:02.535006\n"
     ]
    }
   ],
   "source": [
    "print(n)\n",
    "models_lsa[n].fit_model(image_sets_lsa[n],label_sets_lsa[n],x_val,y_val)\n",
    "n = n+1"
   ]
  },
  {
   "cell_type": "code",
   "execution_count": 37,
   "id": "39a60446",
   "metadata": {},
   "outputs": [
    {
     "name": "stdout",
     "output_type": "stream",
     "text": [
      "6\n",
      "Epoch 1/10\n",
      "21/21 [==============================] - 25s 995ms/step - loss: 3.2076 - accuracy: 0.3119 - val_loss: 0.0929 - val_accuracy: 0.9862\n",
      "Epoch 2/10\n",
      "21/21 [==============================] - 19s 928ms/step - loss: 1.7846 - accuracy: 0.5224 - val_loss: 0.0723 - val_accuracy: 0.9814\n",
      "Epoch 3/10\n",
      "21/21 [==============================] - 19s 937ms/step - loss: 1.2823 - accuracy: 0.6376 - val_loss: 0.1146 - val_accuracy: 0.9709\n",
      "Epoch 4/10\n",
      "21/21 [==============================] - 19s 931ms/step - loss: 1.2477 - accuracy: 0.6576 - val_loss: 0.0764 - val_accuracy: 0.9791\n",
      "Epoch 5/10\n",
      "21/21 [==============================] - 19s 934ms/step - loss: 1.1412 - accuracy: 0.6668 - val_loss: 0.1016 - val_accuracy: 0.9752\n",
      "Epoch 6/10\n",
      "21/21 [==============================] - 19s 931ms/step - loss: 0.8314 - accuracy: 0.7629 - val_loss: 0.0825 - val_accuracy: 0.9781\n",
      "Epoch 7/10\n",
      "21/21 [==============================] - 19s 928ms/step - loss: 0.7239 - accuracy: 0.7791 - val_loss: 0.0933 - val_accuracy: 0.9742\n",
      "Epoch 8/10\n",
      "21/21 [==============================] - 19s 930ms/step - loss: 0.6715 - accuracy: 0.8013 - val_loss: 0.0982 - val_accuracy: 0.9735\n",
      "Epoch 9/10\n",
      "21/21 [==============================] - 19s 932ms/step - loss: 0.6588 - accuracy: 0.7969 - val_loss: 0.1230 - val_accuracy: 0.9701\n",
      "Epoch 10/10\n",
      "21/21 [==============================] - 19s 929ms/step - loss: 0.6258 - accuracy: 0.8187 - val_loss: 0.0944 - val_accuracy: 0.9765\n",
      "Duration: 0:03:17.901956\n"
     ]
    }
   ],
   "source": [
    "print(n)\n",
    "models_lsa[n].fit_model(image_sets_lsa[n],label_sets_lsa[n],x_val,y_val)\n",
    "n = n+1"
   ]
  },
  {
   "cell_type": "code",
   "execution_count": 38,
   "id": "a6ca03ba",
   "metadata": {},
   "outputs": [
    {
     "name": "stdout",
     "output_type": "stream",
     "text": [
      "7\n",
      "Epoch 1/10\n",
      "24/24 [==============================] - 27s 934ms/step - loss: 2.7136 - accuracy: 0.3608 - val_loss: 0.0490 - val_accuracy: 0.9865\n",
      "Epoch 2/10\n",
      "24/24 [==============================] - 21s 878ms/step - loss: 1.4996 - accuracy: 0.5798 - val_loss: 0.1974 - val_accuracy: 0.9617\n",
      "Epoch 3/10\n",
      "24/24 [==============================] - 21s 881ms/step - loss: 1.2761 - accuracy: 0.6263 - val_loss: 0.0950 - val_accuracy: 0.9796\n",
      "Epoch 4/10\n",
      "24/24 [==============================] - 21s 882ms/step - loss: 1.0138 - accuracy: 0.7129 - val_loss: 0.0676 - val_accuracy: 0.9826\n",
      "Epoch 5/10\n",
      "24/24 [==============================] - 21s 887ms/step - loss: 0.9455 - accuracy: 0.7202 - val_loss: 0.1495 - val_accuracy: 0.9666\n",
      "Epoch 6/10\n",
      "24/24 [==============================] - 21s 880ms/step - loss: 0.7690 - accuracy: 0.7795 - val_loss: 0.0888 - val_accuracy: 0.9758\n",
      "Epoch 7/10\n",
      "24/24 [==============================] - 21s 879ms/step - loss: 0.7662 - accuracy: 0.7716 - val_loss: 0.0901 - val_accuracy: 0.9740\n",
      "Epoch 8/10\n",
      "24/24 [==============================] - 21s 879ms/step - loss: 0.6545 - accuracy: 0.7985 - val_loss: 0.1110 - val_accuracy: 0.9707\n",
      "Epoch 9/10\n",
      "24/24 [==============================] - 21s 881ms/step - loss: 0.5896 - accuracy: 0.8189 - val_loss: 0.1069 - val_accuracy: 0.9696\n",
      "Epoch 10/10\n",
      "24/24 [==============================] - 21s 884ms/step - loss: 0.5302 - accuracy: 0.8435 - val_loss: 0.0738 - val_accuracy: 0.9788\n",
      "Duration: 0:03:34.251863\n"
     ]
    }
   ],
   "source": [
    "print(n)\n",
    "models_lsa[n].fit_model(image_sets_lsa[n],label_sets_lsa[n],x_val,y_val)\n",
    "n = n+1"
   ]
  },
  {
   "cell_type": "code",
   "execution_count": 39,
   "id": "26c6cdaf",
   "metadata": {},
   "outputs": [
    {
     "name": "stdout",
     "output_type": "stream",
     "text": [
      "8\n",
      "Epoch 1/10\n",
      "27/27 [==============================] - 29s 883ms/step - loss: 2.4858 - accuracy: 0.4176 - val_loss: 0.0576 - val_accuracy: 0.9880\n",
      "Epoch 2/10\n",
      "27/27 [==============================] - 22s 837ms/step - loss: 1.4175 - accuracy: 0.6190 - val_loss: 0.1138 - val_accuracy: 0.9740\n",
      "Epoch 3/10\n",
      "27/27 [==============================] - 22s 844ms/step - loss: 1.1113 - accuracy: 0.6931 - val_loss: 0.0923 - val_accuracy: 0.9806\n",
      "Epoch 4/10\n",
      "27/27 [==============================] - 22s 841ms/step - loss: 0.9864 - accuracy: 0.7085 - val_loss: 0.0659 - val_accuracy: 0.9847\n",
      "Epoch 5/10\n",
      "27/27 [==============================] - 23s 846ms/step - loss: 0.7959 - accuracy: 0.7770 - val_loss: 0.0980 - val_accuracy: 0.9732\n",
      "Epoch 6/10\n",
      "27/27 [==============================] - 23s 844ms/step - loss: 0.7468 - accuracy: 0.7757 - val_loss: 0.0889 - val_accuracy: 0.9786\n",
      "Epoch 7/10\n",
      "27/27 [==============================] - 22s 840ms/step - loss: 0.6845 - accuracy: 0.8004 - val_loss: 0.0610 - val_accuracy: 0.9832\n",
      "Epoch 8/10\n",
      "27/27 [==============================] - 22s 838ms/step - loss: 0.5755 - accuracy: 0.8275 - val_loss: 0.0843 - val_accuracy: 0.9740\n",
      "Epoch 9/10\n",
      "27/27 [==============================] - 22s 841ms/step - loss: 0.4874 - accuracy: 0.8493 - val_loss: 0.1092 - val_accuracy: 0.9732\n",
      "Epoch 10/10\n",
      "27/27 [==============================] - 22s 842ms/step - loss: 0.5203 - accuracy: 0.8513 - val_loss: 0.0765 - val_accuracy: 0.9775\n",
      "Duration: 0:03:50.828836\n"
     ]
    }
   ],
   "source": [
    "print(n)\n",
    "models_lsa[n].fit_model(image_sets_lsa[n],label_sets_lsa[n],x_val,y_val)\n",
    "n = n+1"
   ]
  },
  {
   "cell_type": "code",
   "execution_count": 40,
   "id": "3a6dfa93",
   "metadata": {},
   "outputs": [
    {
     "name": "stdout",
     "output_type": "stream",
     "text": [
      "9\n",
      "Epoch 1/10\n",
      "30/30 [==============================] - 29s 796ms/step - loss: 2.2495 - accuracy: 0.4695 - val_loss: 0.1411 - val_accuracy: 0.9681\n",
      "Epoch 2/10\n",
      "30/30 [==============================] - 23s 786ms/step - loss: 1.3290 - accuracy: 0.6479 - val_loss: 0.1028 - val_accuracy: 0.9707\n",
      "Epoch 3/10\n",
      "30/30 [==============================] - 24s 805ms/step - loss: 1.0491 - accuracy: 0.6982 - val_loss: 0.0610 - val_accuracy: 0.9849\n",
      "Epoch 4/10\n",
      "30/30 [==============================] - 24s 798ms/step - loss: 0.8451 - accuracy: 0.7602 - val_loss: 0.0862 - val_accuracy: 0.9763\n",
      "Epoch 5/10\n",
      "30/30 [==============================] - 24s 817ms/step - loss: 0.7358 - accuracy: 0.7986 - val_loss: 0.0677 - val_accuracy: 0.9809\n",
      "Epoch 6/10\n",
      "30/30 [==============================] - 24s 812ms/step - loss: 0.6044 - accuracy: 0.8183 - val_loss: 0.0704 - val_accuracy: 0.9793\n",
      "Epoch 7/10\n",
      "30/30 [==============================] - 24s 811ms/step - loss: 0.5423 - accuracy: 0.8407 - val_loss: 0.0814 - val_accuracy: 0.9796\n",
      "Epoch 8/10\n",
      "30/30 [==============================] - 24s 810ms/step - loss: 0.5381 - accuracy: 0.8429 - val_loss: 0.0907 - val_accuracy: 0.9778\n",
      "Epoch 9/10\n",
      "30/30 [==============================] - 24s 807ms/step - loss: 0.4591 - accuracy: 0.8551 - val_loss: 0.0803 - val_accuracy: 0.9781\n",
      "Epoch 10/10\n",
      "30/30 [==============================] - 24s 815ms/step - loss: 0.4221 - accuracy: 0.8729 - val_loss: 0.0955 - val_accuracy: 0.9724\n",
      "Duration: 0:04:04.012435\n"
     ]
    }
   ],
   "source": [
    "#\n",
    "print(n)\n",
    "models_lsa[n].fit_model(image_sets_lsa[n],label_sets_lsa[n],x_val,y_val)\n",
    "n = n+1"
   ]
  },
  {
   "cell_type": "code",
   "execution_count": 41,
   "id": "2974fe90",
   "metadata": {},
   "outputs": [
    {
     "name": "stdout",
     "output_type": "stream",
     "text": [
      "10\n",
      "Epoch 1/10\n",
      "33/33 [==============================] - 31s 806ms/step - loss: 2.0632 - accuracy: 0.5040 - val_loss: 0.1830 - val_accuracy: 0.9781\n",
      "Epoch 2/10\n",
      "33/33 [==============================] - 26s 787ms/step - loss: 1.1547 - accuracy: 0.6747 - val_loss: 0.0908 - val_accuracy: 0.9765\n",
      "Epoch 3/10\n",
      "33/33 [==============================] - 26s 791ms/step - loss: 0.9379 - accuracy: 0.7316 - val_loss: 0.0409 - val_accuracy: 0.9888\n",
      "Epoch 4/10\n",
      "33/33 [==============================] - 26s 787ms/step - loss: 0.7867 - accuracy: 0.7757 - val_loss: 0.0512 - val_accuracy: 0.9847\n",
      "Epoch 5/10\n",
      "33/33 [==============================] - 26s 791ms/step - loss: 0.6290 - accuracy: 0.8112 - val_loss: 0.0528 - val_accuracy: 0.9857\n",
      "Epoch 6/10\n",
      "33/33 [==============================] - 26s 787ms/step - loss: 0.5830 - accuracy: 0.8329 - val_loss: 0.0636 - val_accuracy: 0.9834\n",
      "Epoch 7/10\n",
      "33/33 [==============================] - 26s 784ms/step - loss: 0.4857 - accuracy: 0.8558 - val_loss: 0.0775 - val_accuracy: 0.9842\n",
      "Epoch 8/10\n",
      "33/33 [==============================] - 26s 788ms/step - loss: 0.4517 - accuracy: 0.8623 - val_loss: 0.1122 - val_accuracy: 0.9712\n",
      "Epoch 9/10\n",
      "33/33 [==============================] - 26s 789ms/step - loss: 0.4030 - accuracy: 0.8823 - val_loss: 0.0805 - val_accuracy: 0.9786\n",
      "Epoch 10/10\n",
      "33/33 [==============================] - 26s 784ms/step - loss: 0.3341 - accuracy: 0.8965 - val_loss: 0.0949 - val_accuracy: 0.9765\n",
      "Duration: 0:04:23.217454\n"
     ]
    }
   ],
   "source": [
    "print(n)\n",
    "models_lsa[n].fit_model(image_sets_lsa[n],label_sets_lsa[n],x_val,y_val)\n",
    "n = n+1"
   ]
  },
  {
   "cell_type": "code",
   "execution_count": 42,
   "id": "84013f49",
   "metadata": {},
   "outputs": [
    {
     "name": "stdout",
     "output_type": "stream",
     "text": [
      "11\n",
      "Epoch 1/10\n",
      "36/36 [==============================] - 35s 833ms/step - loss: 1.8528 - accuracy: 0.5554 - val_loss: 0.0650 - val_accuracy: 0.9883\n",
      "Epoch 2/10\n",
      "36/36 [==============================] - 27s 769ms/step - loss: 1.1053 - accuracy: 0.6922 - val_loss: 0.0407 - val_accuracy: 0.9893\n",
      "Epoch 3/10\n",
      "36/36 [==============================] - 27s 764ms/step - loss: 0.8517 - accuracy: 0.7469 - val_loss: 0.0808 - val_accuracy: 0.9791\n",
      "Epoch 4/10\n",
      "36/36 [==============================] - 27s 762ms/step - loss: 0.7435 - accuracy: 0.7821 - val_loss: 0.0597 - val_accuracy: 0.9847\n",
      "Epoch 5/10\n",
      "36/36 [==============================] - 27s 761ms/step - loss: 0.5772 - accuracy: 0.8188 - val_loss: 0.0649 - val_accuracy: 0.9826\n",
      "Epoch 6/10\n",
      "36/36 [==============================] - 27s 765ms/step - loss: 0.5292 - accuracy: 0.8453 - val_loss: 0.0819 - val_accuracy: 0.9791\n",
      "Epoch 7/10\n",
      "36/36 [==============================] - 27s 764ms/step - loss: 0.4713 - accuracy: 0.8545 - val_loss: 0.0928 - val_accuracy: 0.9742\n",
      "Epoch 8/10\n",
      "36/36 [==============================] - 27s 767ms/step - loss: 0.4788 - accuracy: 0.8553 - val_loss: 0.0713 - val_accuracy: 0.9824\n",
      "Epoch 9/10\n",
      "36/36 [==============================] - 27s 762ms/step - loss: 0.3641 - accuracy: 0.8808 - val_loss: 0.0618 - val_accuracy: 0.9865\n",
      "Epoch 10/10\n",
      "36/36 [==============================] - 27s 761ms/step - loss: 0.3407 - accuracy: 0.8990 - val_loss: 0.0639 - val_accuracy: 0.9847\n",
      "Duration: 0:04:40.364392\n"
     ]
    }
   ],
   "source": [
    "print(n)\n",
    "models_lsa[n].fit_model(image_sets_lsa[n],label_sets_lsa[n],x_val,y_val)\n",
    "n = n+1"
   ]
  },
  {
   "cell_type": "code",
   "execution_count": 43,
   "id": "55e7d60b",
   "metadata": {},
   "outputs": [
    {
     "name": "stdout",
     "output_type": "stream",
     "text": [
      "12\n",
      "Epoch 1/10\n",
      "39/39 [==============================] - 35s 778ms/step - loss: 1.8142 - accuracy: 0.5864 - val_loss: 0.0965 - val_accuracy: 0.9783\n",
      "Epoch 2/10\n",
      "39/39 [==============================] - 29s 748ms/step - loss: 1.0405 - accuracy: 0.7078 - val_loss: 0.1022 - val_accuracy: 0.9849\n",
      "Epoch 3/10\n",
      "39/39 [==============================] - 29s 746ms/step - loss: 0.8144 - accuracy: 0.7666 - val_loss: 0.0493 - val_accuracy: 0.9878\n",
      "Epoch 4/10\n",
      "39/39 [==============================] - 29s 743ms/step - loss: 0.7212 - accuracy: 0.7804 - val_loss: 0.0608 - val_accuracy: 0.9847\n",
      "Epoch 5/10\n",
      "39/39 [==============================] - 29s 744ms/step - loss: 0.5963 - accuracy: 0.8282 - val_loss: 0.0610 - val_accuracy: 0.9852\n",
      "Epoch 6/10\n",
      "39/39 [==============================] - 29s 750ms/step - loss: 0.5475 - accuracy: 0.8396 - val_loss: 0.0532 - val_accuracy: 0.9865\n",
      "Epoch 7/10\n",
      "39/39 [==============================] - 29s 746ms/step - loss: 0.4998 - accuracy: 0.8701 - val_loss: 0.0537 - val_accuracy: 0.9834\n",
      "Epoch 8/10\n",
      "39/39 [==============================] - 29s 744ms/step - loss: 0.3985 - accuracy: 0.8739 - val_loss: 0.0532 - val_accuracy: 0.9847\n",
      "Epoch 9/10\n",
      "39/39 [==============================] - 29s 744ms/step - loss: 0.3987 - accuracy: 0.8901 - val_loss: 0.0774 - val_accuracy: 0.9809\n",
      "Epoch 10/10\n",
      "39/39 [==============================] - 29s 747ms/step - loss: 0.3662 - accuracy: 0.8944 - val_loss: 0.0645 - val_accuracy: 0.9816\n",
      "Duration: 0:04:55.316584\n"
     ]
    }
   ],
   "source": [
    "print(n)\n",
    "models_lsa[n].fit_model(image_sets_lsa[n],label_sets_lsa[n],x_val,y_val)\n",
    "n = n+1"
   ]
  },
  {
   "cell_type": "code",
   "execution_count": 44,
   "id": "8bb45aa3",
   "metadata": {},
   "outputs": [
    {
     "name": "stdout",
     "output_type": "stream",
     "text": [
      "13\n",
      "Epoch 1/10\n",
      "42/42 [==============================] - 37s 760ms/step - loss: 1.7501 - accuracy: 0.5900 - val_loss: 0.0534 - val_accuracy: 0.9898\n",
      "Epoch 2/10\n",
      "42/42 [==============================] - 31s 731ms/step - loss: 0.8867 - accuracy: 0.7511 - val_loss: 0.0550 - val_accuracy: 0.9875\n",
      "Epoch 3/10\n",
      "42/42 [==============================] - 30s 730ms/step - loss: 0.7346 - accuracy: 0.7834 - val_loss: 0.0548 - val_accuracy: 0.9855\n",
      "Epoch 4/10\n",
      "42/42 [==============================] - 31s 735ms/step - loss: 0.6615 - accuracy: 0.8068 - val_loss: 0.0577 - val_accuracy: 0.9862\n",
      "Epoch 5/10\n",
      "42/42 [==============================] - 30s 728ms/step - loss: 0.5542 - accuracy: 0.8426 - val_loss: 0.0549 - val_accuracy: 0.9847\n",
      "Epoch 6/10\n",
      "42/42 [==============================] - 30s 729ms/step - loss: 0.4902 - accuracy: 0.8561 - val_loss: 0.0638 - val_accuracy: 0.9816\n",
      "Epoch 7/10\n",
      "42/42 [==============================] - 30s 729ms/step - loss: 0.4025 - accuracy: 0.8801 - val_loss: 0.0904 - val_accuracy: 0.9783\n",
      "Epoch 8/10\n",
      "42/42 [==============================] - 31s 733ms/step - loss: 0.3808 - accuracy: 0.8833 - val_loss: 0.0909 - val_accuracy: 0.9773\n",
      "Epoch 9/10\n",
      "42/42 [==============================] - 30s 729ms/step - loss: 0.3837 - accuracy: 0.8908 - val_loss: 0.0727 - val_accuracy: 0.9816\n",
      "Epoch 10/10\n",
      "42/42 [==============================] - 30s 730ms/step - loss: 0.3362 - accuracy: 0.9042 - val_loss: 0.1205 - val_accuracy: 0.9719\n",
      "Duration: 0:05:11.281267\n"
     ]
    }
   ],
   "source": [
    "print(n)\n",
    "models_lsa[n].fit_model(image_sets_lsa[n],label_sets_lsa[n],x_val,y_val)\n",
    "n = n+1"
   ]
  },
  {
   "cell_type": "code",
   "execution_count": 45,
   "id": "ffbe2e9c",
   "metadata": {},
   "outputs": [
    {
     "name": "stdout",
     "output_type": "stream",
     "text": [
      "14\n",
      "Epoch 1/10\n",
      "45/45 [==============================] - 39s 747ms/step - loss: 1.6546 - accuracy: 0.6134 - val_loss: 0.0507 - val_accuracy: 0.9862\n",
      "Epoch 2/10\n",
      "45/45 [==============================] - 33s 728ms/step - loss: 0.8987 - accuracy: 0.7518 - val_loss: 0.1060 - val_accuracy: 0.9760\n",
      "Epoch 3/10\n",
      "45/45 [==============================] - 32s 717ms/step - loss: 0.7673 - accuracy: 0.7895 - val_loss: 0.0407 - val_accuracy: 0.9898\n",
      "Epoch 4/10\n",
      "45/45 [==============================] - 32s 717ms/step - loss: 0.5812 - accuracy: 0.8340 - val_loss: 0.0867 - val_accuracy: 0.9791\n",
      "Epoch 5/10\n",
      "45/45 [==============================] - 32s 709ms/step - loss: 0.5639 - accuracy: 0.8383 - val_loss: 0.0626 - val_accuracy: 0.9832\n",
      "Epoch 6/10\n",
      "45/45 [==============================] - 32s 716ms/step - loss: 0.4724 - accuracy: 0.8647 - val_loss: 0.0688 - val_accuracy: 0.9829\n",
      "Epoch 7/10\n",
      "45/45 [==============================] - 32s 715ms/step - loss: 0.3554 - accuracy: 0.8841 - val_loss: 0.0642 - val_accuracy: 0.9826\n",
      "Epoch 8/10\n",
      "45/45 [==============================] - 32s 714ms/step - loss: 0.3392 - accuracy: 0.8947 - val_loss: 0.0623 - val_accuracy: 0.9847\n",
      "Epoch 9/10\n",
      "45/45 [==============================] - 32s 717ms/step - loss: 0.3436 - accuracy: 0.8987 - val_loss: 0.0661 - val_accuracy: 0.9862\n",
      "Epoch 10/10\n",
      "45/45 [==============================] - 32s 716ms/step - loss: 0.2999 - accuracy: 0.9157 - val_loss: 0.0589 - val_accuracy: 0.9824\n",
      "Duration: 0:05:27.362699\n"
     ]
    }
   ],
   "source": [
    "#\n",
    "print(n)\n",
    "models_lsa[n].fit_model(image_sets_lsa[n],label_sets_lsa[n],x_val,y_val)\n",
    "n = n+1"
   ]
  },
  {
   "cell_type": "code",
   "execution_count": 46,
   "id": "ebdd2dda",
   "metadata": {},
   "outputs": [
    {
     "name": "stdout",
     "output_type": "stream",
     "text": [
      "15\n",
      "Epoch 1/10\n",
      "48/48 [==============================] - 40s 728ms/step - loss: 1.4962 - accuracy: 0.6477 - val_loss: 0.1187 - val_accuracy: 0.9694\n",
      "Epoch 2/10\n",
      "48/48 [==============================] - 33s 696ms/step - loss: 0.8938 - accuracy: 0.7549 - val_loss: 0.3065 - val_accuracy: 0.9153\n",
      "Epoch 3/10\n",
      "48/48 [==============================] - 34s 705ms/step - loss: 0.6794 - accuracy: 0.8134 - val_loss: 0.0598 - val_accuracy: 0.9860\n",
      "Epoch 4/10\n",
      "48/48 [==============================] - 33s 695ms/step - loss: 0.5877 - accuracy: 0.8313 - val_loss: 0.0666 - val_accuracy: 0.9786\n",
      "Epoch 5/10\n",
      "48/48 [==============================] - 33s 703ms/step - loss: 0.4942 - accuracy: 0.8527 - val_loss: 0.0564 - val_accuracy: 0.9844\n",
      "Epoch 6/10\n",
      "48/48 [==============================] - 34s 706ms/step - loss: 0.4577 - accuracy: 0.8644 - val_loss: 0.0577 - val_accuracy: 0.9844\n",
      "Epoch 7/10\n",
      "48/48 [==============================] - 34s 708ms/step - loss: 0.4061 - accuracy: 0.8820 - val_loss: 0.0541 - val_accuracy: 0.9890\n",
      "Epoch 8/10\n",
      "48/48 [==============================] - 34s 705ms/step - loss: 0.3567 - accuracy: 0.8973 - val_loss: 0.0712 - val_accuracy: 0.9814\n",
      "Epoch 9/10\n",
      "48/48 [==============================] - 34s 703ms/step - loss: 0.3183 - accuracy: 0.9092 - val_loss: 0.0789 - val_accuracy: 0.9773\n",
      "Epoch 10/10\n",
      "48/48 [==============================] - 34s 703ms/step - loss: 0.3176 - accuracy: 0.9159 - val_loss: 0.0625 - val_accuracy: 0.9821\n",
      "Duration: 0:05:41.910702\n"
     ]
    }
   ],
   "source": [
    "print(n)\n",
    "models_lsa[n].fit_model(image_sets_lsa[n],label_sets_lsa[n],x_val,y_val)\n",
    "n = n+1"
   ]
  },
  {
   "cell_type": "code",
   "execution_count": 47,
   "id": "1a22ae4c",
   "metadata": {},
   "outputs": [
    {
     "name": "stdout",
     "output_type": "stream",
     "text": [
      "16\n",
      "Epoch 1/10\n",
      "51/51 [==============================] - 42s 721ms/step - loss: 1.4425 - accuracy: 0.6718 - val_loss: 0.0658 - val_accuracy: 0.9834\n",
      "Epoch 2/10\n",
      "51/51 [==============================] - 35s 694ms/step - loss: 0.7902 - accuracy: 0.7766 - val_loss: 0.0740 - val_accuracy: 0.9829\n",
      "Epoch 3/10\n",
      "51/51 [==============================] - 35s 698ms/step - loss: 0.5839 - accuracy: 0.8343 - val_loss: 0.0974 - val_accuracy: 0.9758\n",
      "Epoch 4/10\n",
      "51/51 [==============================] - 35s 697ms/step - loss: 0.5451 - accuracy: 0.8395 - val_loss: 0.0439 - val_accuracy: 0.9885\n",
      "Epoch 5/10\n",
      "51/51 [==============================] - 35s 693ms/step - loss: 0.4384 - accuracy: 0.8675 - val_loss: 0.0771 - val_accuracy: 0.9821\n",
      "Epoch 6/10\n",
      "51/51 [==============================] - 35s 697ms/step - loss: 0.4574 - accuracy: 0.8707 - val_loss: 0.0643 - val_accuracy: 0.9860\n",
      "Epoch 7/10\n",
      "51/51 [==============================] - 35s 694ms/step - loss: 0.3392 - accuracy: 0.8935 - val_loss: 0.0589 - val_accuracy: 0.9870\n",
      "Epoch 8/10\n",
      "51/51 [==============================] - 34s 667ms/step - loss: 0.3542 - accuracy: 0.8929 - val_loss: 0.0677 - val_accuracy: 0.9855\n",
      "Epoch 9/10\n",
      "51/51 [==============================] - 35s 693ms/step - loss: 0.2979 - accuracy: 0.9142 - val_loss: 0.1970 - val_accuracy: 0.9482\n",
      "Epoch 10/10\n",
      "51/51 [==============================] - 35s 695ms/step - loss: 0.2602 - accuracy: 0.9182 - val_loss: 0.1156 - val_accuracy: 0.9712\n",
      "Duration: 0:05:58.040712\n"
     ]
    }
   ],
   "source": [
    "print(n)\n",
    "models_lsa[n].fit_model(image_sets_lsa[n],label_sets_lsa[n],x_val,y_val)\n",
    "n = n+1"
   ]
  },
  {
   "cell_type": "code",
   "execution_count": 48,
   "id": "08a857e6",
   "metadata": {},
   "outputs": [
    {
     "name": "stdout",
     "output_type": "stream",
     "text": [
      "17\n",
      "Epoch 1/10\n",
      "54/54 [==============================] - 43s 710ms/step - loss: 1.3102 - accuracy: 0.6954 - val_loss: 0.0573 - val_accuracy: 0.9870\n",
      "Epoch 2/10\n",
      "54/54 [==============================] - 37s 684ms/step - loss: 0.7591 - accuracy: 0.7887 - val_loss: 0.0614 - val_accuracy: 0.9867\n",
      "Epoch 3/10\n",
      "54/54 [==============================] - 37s 689ms/step - loss: 0.6069 - accuracy: 0.8284 - val_loss: 0.0431 - val_accuracy: 0.9890\n",
      "Epoch 4/10\n",
      "54/54 [==============================] - 37s 684ms/step - loss: 0.5549 - accuracy: 0.8408 - val_loss: 0.0682 - val_accuracy: 0.9793\n",
      "Epoch 5/10\n",
      "54/54 [==============================] - 37s 685ms/step - loss: 0.4325 - accuracy: 0.8778 - val_loss: 0.0591 - val_accuracy: 0.9855\n",
      "Epoch 6/10\n",
      "54/54 [==============================] - 37s 689ms/step - loss: 0.3892 - accuracy: 0.8897 - val_loss: 0.0398 - val_accuracy: 0.9916\n",
      "Epoch 7/10\n",
      "54/54 [==============================] - 37s 688ms/step - loss: 0.3573 - accuracy: 0.9003 - val_loss: 0.0528 - val_accuracy: 0.9860\n",
      "Epoch 8/10\n",
      "54/54 [==============================] - 37s 686ms/step - loss: 0.2969 - accuracy: 0.9155 - val_loss: 0.0752 - val_accuracy: 0.9806\n",
      "Epoch 9/10\n",
      "54/54 [==============================] - 37s 687ms/step - loss: 0.2946 - accuracy: 0.9166 - val_loss: 0.0935 - val_accuracy: 0.9793\n",
      "Epoch 10/10\n",
      "54/54 [==============================] - 37s 686ms/step - loss: 0.2786 - accuracy: 0.9227 - val_loss: 0.0572 - val_accuracy: 0.9855\n",
      "Duration: 0:06:15.627979\n"
     ]
    }
   ],
   "source": [
    "print(n)\n",
    "models_lsa[n].fit_model(image_sets_lsa[n],label_sets_lsa[n],x_val,y_val)\n",
    "n = n+1"
   ]
  },
  {
   "cell_type": "code",
   "execution_count": 49,
   "id": "f6957df9",
   "metadata": {},
   "outputs": [
    {
     "name": "stdout",
     "output_type": "stream",
     "text": [
      "18\n",
      "Epoch 1/10\n",
      "57/57 [==============================] - 45s 700ms/step - loss: 1.3098 - accuracy: 0.7023 - val_loss: 0.0754 - val_accuracy: 0.9875\n",
      "Epoch 2/10\n",
      "57/57 [==============================] - 39s 679ms/step - loss: 0.6558 - accuracy: 0.8212 - val_loss: 0.0988 - val_accuracy: 0.9758\n",
      "Epoch 3/10\n",
      "57/57 [==============================] - 36s 634ms/step - loss: 0.5777 - accuracy: 0.8363 - val_loss: 0.0485 - val_accuracy: 0.9893\n",
      "Epoch 4/10\n",
      "57/57 [==============================] - 38s 675ms/step - loss: 0.5015 - accuracy: 0.8616 - val_loss: 0.1423 - val_accuracy: 0.9712\n",
      "Epoch 5/10\n",
      "57/57 [==============================] - 38s 675ms/step - loss: 0.4336 - accuracy: 0.8706 - val_loss: 0.0816 - val_accuracy: 0.9747\n",
      "Epoch 6/10\n",
      "57/57 [==============================] - 38s 674ms/step - loss: 0.3785 - accuracy: 0.8913 - val_loss: 0.0979 - val_accuracy: 0.9737\n",
      "Epoch 7/10\n",
      "57/57 [==============================] - 38s 675ms/step - loss: 0.3670 - accuracy: 0.8957 - val_loss: 0.0872 - val_accuracy: 0.9735\n",
      "Epoch 8/10\n",
      "57/57 [==============================] - 39s 679ms/step - loss: 0.3247 - accuracy: 0.9100 - val_loss: 0.0719 - val_accuracy: 0.9811\n",
      "Epoch 9/10\n",
      "57/57 [==============================] - 38s 677ms/step - loss: 0.3032 - accuracy: 0.9145 - val_loss: 0.0549 - val_accuracy: 0.9837\n",
      "Epoch 10/10\n",
      "57/57 [==============================] - 39s 679ms/step - loss: 0.2602 - accuracy: 0.9256 - val_loss: 0.0408 - val_accuracy: 0.9900\n",
      "Duration: 0:06:28.362617\n"
     ]
    }
   ],
   "source": [
    "print(n)\n",
    "models_lsa[n].fit_model(image_sets_lsa[n],label_sets_lsa[n],x_val,y_val)\n",
    "n = n+1"
   ]
  },
  {
   "cell_type": "code",
   "execution_count": 50,
   "id": "c1080b16",
   "metadata": {},
   "outputs": [
    {
     "name": "stdout",
     "output_type": "stream",
     "text": [
      "19\n",
      "Epoch 1/10\n",
      "62/62 [==============================] - 48s 696ms/step - loss: 1.1301 - accuracy: 0.7375 - val_loss: 0.0365 - val_accuracy: 0.9923\n",
      "Epoch 2/10\n",
      "62/62 [==============================] - 42s 676ms/step - loss: 0.6903 - accuracy: 0.8102 - val_loss: 0.0579 - val_accuracy: 0.9878\n",
      "Epoch 3/10\n",
      "62/62 [==============================] - 42s 677ms/step - loss: 0.5567 - accuracy: 0.8476 - val_loss: 0.0556 - val_accuracy: 0.9847\n",
      "Epoch 4/10\n",
      "62/62 [==============================] - 42s 680ms/step - loss: 0.4650 - accuracy: 0.8720 - val_loss: 0.0562 - val_accuracy: 0.9857\n",
      "Epoch 5/10\n",
      "62/62 [==============================] - 42s 679ms/step - loss: 0.4001 - accuracy: 0.8849 - val_loss: 0.0596 - val_accuracy: 0.9852\n",
      "Epoch 6/10\n",
      "62/62 [==============================] - 42s 684ms/step - loss: 0.3600 - accuracy: 0.8965 - val_loss: 0.0525 - val_accuracy: 0.9852\n",
      "Epoch 7/10\n",
      "62/62 [==============================] - 42s 682ms/step - loss: 0.3034 - accuracy: 0.9113 - val_loss: 0.2340 - val_accuracy: 0.9347\n",
      "Epoch 8/10\n",
      "62/62 [==============================] - 41s 671ms/step - loss: 0.3150 - accuracy: 0.9113 - val_loss: 0.0405 - val_accuracy: 0.9906\n",
      "Epoch 9/10\n",
      "62/62 [==============================] - 42s 678ms/step - loss: 0.2553 - accuracy: 0.9238 - val_loss: 0.0384 - val_accuracy: 0.9908\n",
      "Epoch 10/10\n",
      "62/62 [==============================] - 42s 682ms/step - loss: 0.2250 - accuracy: 0.9387 - val_loss: 0.0522 - val_accuracy: 0.9900\n",
      "Duration: 0:07:05.736698\n"
     ]
    }
   ],
   "source": [
    "#\n",
    "print(n)\n",
    "models_lsa[n].fit_model(image_sets_lsa[n],label_sets_lsa[n],x_val,y_val)\n",
    "n = n+1"
   ]
  },
  {
   "cell_type": "code",
   "execution_count": 51,
   "id": "9cf4ae1e",
   "metadata": {},
   "outputs": [
    {
     "name": "stdout",
     "output_type": "stream",
     "text": [
      "INFO:tensorflow:Assets written to: D:/models/aug_22/gtsrb/C3/e2/gtsrb_model_c3_aug_lsa_e2_0\\assets\n",
      "Model has been saved\n",
      "INFO:tensorflow:Assets written to: D:/models/aug_22/gtsrb/C3/e2/gtsrb_model_c3_aug_lsa_e2_1\\assets\n",
      "Model has been saved\n",
      "INFO:tensorflow:Assets written to: D:/models/aug_22/gtsrb/C3/e2/gtsrb_model_c3_aug_lsa_e2_2\\assets\n",
      "Model has been saved\n",
      "INFO:tensorflow:Assets written to: D:/models/aug_22/gtsrb/C3/e2/gtsrb_model_c3_aug_lsa_e2_3\\assets\n",
      "Model has been saved\n",
      "INFO:tensorflow:Assets written to: D:/models/aug_22/gtsrb/C3/e2/gtsrb_model_c3_aug_lsa_e2_4\\assets\n",
      "Model has been saved\n",
      "INFO:tensorflow:Assets written to: D:/models/aug_22/gtsrb/C3/e2/gtsrb_model_c3_aug_lsa_e2_5\\assets\n",
      "Model has been saved\n",
      "INFO:tensorflow:Assets written to: D:/models/aug_22/gtsrb/C3/e2/gtsrb_model_c3_aug_lsa_e2_6\\assets\n",
      "Model has been saved\n",
      "INFO:tensorflow:Assets written to: D:/models/aug_22/gtsrb/C3/e2/gtsrb_model_c3_aug_lsa_e2_7\\assets\n",
      "Model has been saved\n",
      "INFO:tensorflow:Assets written to: D:/models/aug_22/gtsrb/C3/e2/gtsrb_model_c3_aug_lsa_e2_8\\assets\n",
      "Model has been saved\n",
      "INFO:tensorflow:Assets written to: D:/models/aug_22/gtsrb/C3/e2/gtsrb_model_c3_aug_lsa_e2_9\\assets\n",
      "Model has been saved\n",
      "INFO:tensorflow:Assets written to: D:/models/aug_22/gtsrb/C3/e2/gtsrb_model_c3_aug_lsa_e2_10\\assets\n",
      "Model has been saved\n",
      "INFO:tensorflow:Assets written to: D:/models/aug_22/gtsrb/C3/e2/gtsrb_model_c3_aug_lsa_e2_11\\assets\n",
      "Model has been saved\n",
      "INFO:tensorflow:Assets written to: D:/models/aug_22/gtsrb/C3/e2/gtsrb_model_c3_aug_lsa_e2_12\\assets\n",
      "Model has been saved\n",
      "INFO:tensorflow:Assets written to: D:/models/aug_22/gtsrb/C3/e2/gtsrb_model_c3_aug_lsa_e2_13\\assets\n",
      "Model has been saved\n",
      "INFO:tensorflow:Assets written to: D:/models/aug_22/gtsrb/C3/e2/gtsrb_model_c3_aug_lsa_e2_14\\assets\n",
      "Model has been saved\n",
      "INFO:tensorflow:Assets written to: D:/models/aug_22/gtsrb/C3/e2/gtsrb_model_c3_aug_lsa_e2_15\\assets\n",
      "Model has been saved\n",
      "INFO:tensorflow:Assets written to: D:/models/aug_22/gtsrb/C3/e2/gtsrb_model_c3_aug_lsa_e2_16\\assets\n",
      "Model has been saved\n",
      "INFO:tensorflow:Assets written to: D:/models/aug_22/gtsrb/C3/e2/gtsrb_model_c3_aug_lsa_e2_17\\assets\n",
      "Model has been saved\n",
      "INFO:tensorflow:Assets written to: D:/models/aug_22/gtsrb/C3/e2/gtsrb_model_c3_aug_lsa_e2_18\\assets\n",
      "Model has been saved\n",
      "INFO:tensorflow:Assets written to: D:/models/aug_22/gtsrb/C3/e2/gtsrb_model_c3_aug_lsa_e2_19\\assets\n",
      "Model has been saved\n"
     ]
    }
   ],
   "source": [
    "#new_model_lsa_dir  = \"D:/models/gtsrb_models/C3/gtsrb_model_c3_sep_lsa_e1\"\n",
    "new_model_lsa_dir  = \"D:/models/aug_22/gtsrb/C3/e2/gtsrb_model_c3_aug_lsa_e2\"\n",
    "#new_model_lsa_dir  = \"C:/Users/fjdurlop/Documents/upc/models/\"+dataset+\"/C3/\"+dataset+\"_model_c3_aug_lsa_e1\"\n",
    "\n",
    "i=0\n",
    "\n",
    "for model in models_lsa:\n",
    "    model.save(new_model_lsa_dir+\"_\"+str(i))\n",
    "    i+=1"
   ]
  },
  {
   "cell_type": "code",
   "execution_count": 52,
   "id": "52746ba6",
   "metadata": {},
   "outputs": [],
   "source": [
    "import gc"
   ]
  },
  {
   "cell_type": "code",
   "execution_count": 53,
   "id": "b7733ff4",
   "metadata": {},
   "outputs": [],
   "source": [
    "try:\n",
    "    del lsa_values\n",
    "    del top_images_by_lsa\n",
    "    del top_labels_by_lsa\n",
    "    del image_sets_lsa\n",
    "    del label_sets_lsa\n",
    "    del models_lsa\n",
    "except:\n",
    "    print(\"Error\")"
   ]
  },
  {
   "cell_type": "code",
   "execution_count": 54,
   "id": "402aa433",
   "metadata": {},
   "outputs": [
    {
     "data": {
      "text/plain": [
       "589658"
      ]
     },
     "execution_count": 54,
     "metadata": {},
     "output_type": "execute_result"
    }
   ],
   "source": [
    "gc.collect()"
   ]
  },
  {
   "cell_type": "markdown",
   "id": "a13ef06e",
   "metadata": {},
   "source": [
    "## Training guided by DSA"
   ]
  },
  {
   "cell_type": "code",
   "execution_count": 62,
   "id": "14fc6a14",
   "metadata": {},
   "outputs": [],
   "source": [
    "dsa_direction = \"C:/Users/fjdur/Documents/upc-july/data/\"+dataset+\"/dsa_values.npy\""
   ]
  },
  {
   "cell_type": "code",
   "execution_count": 63,
   "id": "9781aafd",
   "metadata": {},
   "outputs": [],
   "source": [
    "#dsa_direction = \"C:/Users/fjdurlop/Documents/upc/upc-july/data/\"+dataset+\"/dsa_values.npy\""
   ]
  },
  {
   "cell_type": "code",
   "execution_count": 64,
   "id": "585cd8f2",
   "metadata": {},
   "outputs": [
    {
     "name": "stdout",
     "output_type": "stream",
     "text": [
      "3921\n"
     ]
    }
   ],
   "source": [
    "dsa_values = np.load(dsa_direction)[len(x_train):] \n",
    "print(len(dsa_values))"
   ]
  },
  {
   "cell_type": "code",
   "execution_count": 65,
   "id": "5944946f",
   "metadata": {},
   "outputs": [],
   "source": [
    "top_images_by_dsa = utils.get_x_of_indexes(list(np.flip(np.argsort(dsa_values))),x_adversary_training)\n",
    "top_labels_by_dsa = utils.get_x_of_indexes(list(np.flip(np.argsort(dsa_values))),y_adversary_training)"
   ]
  },
  {
   "cell_type": "code",
   "execution_count": 66,
   "id": "099c7fa2",
   "metadata": {},
   "outputs": [
    {
     "name": "stdout",
     "output_type": "stream",
     "text": [
      "0 :\n",
      "0  ->  190\n",
      "190\n",
      "1 :\n",
      "0  ->  380\n",
      "380\n",
      "2 :\n",
      "0  ->  570\n",
      "570\n",
      "3 :\n",
      "0  ->  760\n",
      "760\n",
      "4 :\n",
      "0  ->  950\n",
      "950\n",
      "5 :\n",
      "0  ->  1140\n",
      "1140\n",
      "6 :\n",
      "0  ->  1330\n",
      "1330\n",
      "7 :\n",
      "0  ->  1520\n",
      "1520\n",
      "8 :\n",
      "0  ->  1710\n",
      "1710\n",
      "9 :\n",
      "0  ->  1900\n",
      "1900\n",
      "10 :\n",
      "0  ->  2090\n",
      "2090\n",
      "11 :\n",
      "0  ->  2280\n",
      "2280\n",
      "12 :\n",
      "0  ->  2470\n",
      "2470\n",
      "13 :\n",
      "0  ->  2660\n",
      "2660\n",
      "14 :\n",
      "0  ->  2850\n",
      "2850\n",
      "15 :\n",
      "0  ->  3040\n",
      "3040\n",
      "16 :\n",
      "0  ->  3230\n",
      "3230\n",
      "17 :\n",
      "0  ->  3420\n",
      "3420\n",
      "18 :\n",
      "0  ->  3610\n",
      "3610\n",
      "19 :\n",
      "Last\n",
      "0  ->  3921\n",
      "3921\n"
     ]
    }
   ],
   "source": [
    "m = n_data_points\n",
    "n = 0\n",
    "image_sets_dsa = []\n",
    "label_sets_dsa = []\n",
    "\n",
    "\n",
    "for i in range((len(top_images_by_dsa)//m)):\n",
    "    print(i,\":\")\n",
    "    if (i+1 >= ((len(top_images_by_dsa)//m))):\n",
    "        print(\"Last\")\n",
    "        print(0,\" -> \",n+m+(len(top_images_by_dsa)%m))\n",
    "        top_images_by_dsa_n = np.array(top_images_by_dsa[:n+m+(len(top_images_by_dsa)%m)])\n",
    "        top_labels_by_dsa_n = np.array(top_labels_by_dsa[:n+m+(len(top_images_by_dsa)%m)])\n",
    "    else:\n",
    "        print(0,\" -> \",m+n)\n",
    "        top_images_by_dsa_n = np.array(top_images_by_dsa[:n+m])\n",
    "        top_labels_by_dsa_n = np.array(top_labels_by_dsa[:n+m])\n",
    "    image_sets_dsa.append(top_images_by_dsa_n)\n",
    "    label_sets_dsa.append(top_labels_by_dsa_n)\n",
    "    print(len(top_images_by_dsa_n))\n",
    "    n += m\n",
    "\n"
   ]
  },
  {
   "cell_type": "code",
   "execution_count": 67,
   "id": "8713d09c",
   "metadata": {
    "scrolled": true
   },
   "outputs": [
    {
     "name": "stdout",
     "output_type": "stream",
     "text": [
      "C:/Users/fjdur/Documents/upc-july/models/tf_model_25-06\n",
      "0 :\n",
      "Model loaded correctly\n",
      "Model compiled\n",
      "1 :\n",
      "Model loaded correctly\n",
      "Model compiled\n",
      "2 :\n",
      "Model loaded correctly\n",
      "Model compiled\n",
      "3 :\n",
      "Model loaded correctly\n",
      "Model compiled\n",
      "4 :\n",
      "Model loaded correctly\n",
      "Model compiled\n",
      "5 :\n",
      "Model loaded correctly\n",
      "Model compiled\n",
      "6 :\n",
      "Model loaded correctly\n",
      "Model compiled\n",
      "7 :\n",
      "Model loaded correctly\n",
      "Model compiled\n",
      "8 :\n",
      "Model loaded correctly\n",
      "Model compiled\n",
      "9 :\n",
      "Model loaded correctly\n",
      "Model compiled\n",
      "10 :\n",
      "Model loaded correctly\n",
      "Model compiled\n",
      "11 :\n",
      "Model loaded correctly\n",
      "Model compiled\n",
      "12 :\n",
      "Model loaded correctly\n",
      "Model compiled\n",
      "13 :\n",
      "Model loaded correctly\n",
      "Model compiled\n",
      "14 :\n",
      "Model loaded correctly\n",
      "Model compiled\n",
      "15 :\n",
      "Model loaded correctly\n",
      "Model compiled\n",
      "16 :\n",
      "Model loaded correctly\n",
      "Model compiled\n",
      "17 :\n",
      "Model loaded correctly\n",
      "Model compiled\n",
      "18 :\n",
      "Model loaded correctly\n",
      "Model compiled\n",
      "19 :\n",
      "Model loaded correctly\n",
      "Model compiled\n"
     ]
    }
   ],
   "source": [
    "print(model_dir)\n",
    "\n",
    "models_dsa = []\n",
    "for i in range(len(label_sets_dsa)):\n",
    "    print(i,\":\")\n",
    "    model = utils.My_model(dataset,True,model_dir)\n",
    "    model.compile_model()\n",
    "    models_dsa.append(model)\n"
   ]
  },
  {
   "cell_type": "code",
   "execution_count": 68,
   "id": "9990e037",
   "metadata": {},
   "outputs": [
    {
     "name": "stdout",
     "output_type": "stream",
     "text": [
      "0\n",
      "Epoch 1/10\n",
      "3/3 [==============================] - 16s 5s/step - loss: 5.3541 - accuracy: 0.0531 - val_loss: 0.9613 - val_accuracy: 0.8369\n",
      "Epoch 2/10\n",
      "3/3 [==============================] - 11s 5s/step - loss: 3.5157 - accuracy: 0.1165 - val_loss: 0.5402 - val_accuracy: 0.9398\n",
      "Epoch 3/10\n",
      "3/3 [==============================] - 10s 5s/step - loss: 3.1249 - accuracy: 0.1754 - val_loss: 0.1855 - val_accuracy: 0.9676\n",
      "Epoch 4/10\n",
      "3/3 [==============================] - 6s 3s/step - loss: 2.8232 - accuracy: 0.2597 - val_loss: 0.1578 - val_accuracy: 0.9694\n",
      "Epoch 5/10\n",
      "3/3 [==============================] - 7s 3s/step - loss: 2.5141 - accuracy: 0.3127 - val_loss: 0.2006 - val_accuracy: 0.9566\n",
      "Epoch 6/10\n",
      "3/3 [==============================] - 8s 4s/step - loss: 2.2739 - accuracy: 0.3632 - val_loss: 0.1390 - val_accuracy: 0.9732\n",
      "Epoch 7/10\n",
      "3/3 [==============================] - 8s 4s/step - loss: 2.1445 - accuracy: 0.3744 - val_loss: 0.1895 - val_accuracy: 0.9604\n",
      "Epoch 8/10\n",
      "3/3 [==============================] - 8s 4s/step - loss: 1.8715 - accuracy: 0.4379 - val_loss: 0.1929 - val_accuracy: 0.9607\n",
      "Epoch 9/10\n",
      "3/3 [==============================] - 8s 4s/step - loss: 1.7058 - accuracy: 0.5111 - val_loss: 0.1713 - val_accuracy: 0.9638\n",
      "Epoch 10/10\n",
      "3/3 [==============================] - 8s 4s/step - loss: 1.6095 - accuracy: 0.5694 - val_loss: 0.2398 - val_accuracy: 0.9523\n",
      "Duration: 0:01:31.466050\n"
     ]
    }
   ],
   "source": [
    "n=0\n",
    "print(n)\n",
    "\n",
    "models_dsa[n].fit_model(image_sets_dsa[n],label_sets_dsa[n],x_val,y_val)\n",
    "n = n+1"
   ]
  },
  {
   "cell_type": "code",
   "execution_count": 69,
   "id": "c24fa024",
   "metadata": {},
   "outputs": [
    {
     "name": "stdout",
     "output_type": "stream",
     "text": [
      "1\n",
      "Epoch 1/10\n",
      "6/6 [==============================] - 14s 2s/step - loss: 4.6899 - accuracy: 0.0802 - val_loss: 0.3548 - val_accuracy: 0.9479\n",
      "Epoch 2/10\n",
      "6/6 [==============================] - 9s 2s/step - loss: 2.9289 - accuracy: 0.2137 - val_loss: 0.5527 - val_accuracy: 0.8908\n",
      "Epoch 3/10\n",
      "6/6 [==============================] - 9s 2s/step - loss: 2.6561 - accuracy: 0.3160 - val_loss: 0.2270 - val_accuracy: 0.9508\n",
      "Epoch 4/10\n",
      "6/6 [==============================] - 8s 2s/step - loss: 2.1294 - accuracy: 0.3961 - val_loss: 0.6538 - val_accuracy: 0.8599\n",
      "Epoch 5/10\n",
      "6/6 [==============================] - 8s 2s/step - loss: 2.0321 - accuracy: 0.4347 - val_loss: 0.3429 - val_accuracy: 0.9265\n",
      "Epoch 6/10\n",
      "6/6 [==============================] - 8s 2s/step - loss: 1.8068 - accuracy: 0.4834 - val_loss: 0.2433 - val_accuracy: 0.9421\n",
      "Epoch 7/10\n",
      "6/6 [==============================] - 8s 2s/step - loss: 1.6363 - accuracy: 0.5204 - val_loss: 0.3339 - val_accuracy: 0.9189\n",
      "Epoch 8/10\n",
      "6/6 [==============================] - 8s 2s/step - loss: 1.3078 - accuracy: 0.6369 - val_loss: 0.5395 - val_accuracy: 0.8643\n",
      "Epoch 9/10\n",
      "6/6 [==============================] - 8s 2s/step - loss: 1.4170 - accuracy: 0.5832 - val_loss: 0.5332 - val_accuracy: 0.8617\n",
      "Epoch 10/10\n",
      "6/6 [==============================] - 8s 2s/step - loss: 1.1484 - accuracy: 0.6667 - val_loss: 0.5778 - val_accuracy: 0.8714\n",
      "Duration: 0:01:30.551824\n"
     ]
    }
   ],
   "source": [
    "n=1\n",
    "print(n)\n",
    "\n",
    "models_dsa[n].fit_model(image_sets_dsa[n],label_sets_dsa[n],x_val,y_val)\n",
    "n = n+1"
   ]
  },
  {
   "cell_type": "code",
   "execution_count": 70,
   "id": "cfb68060",
   "metadata": {},
   "outputs": [
    {
     "name": "stdout",
     "output_type": "stream",
     "text": [
      "2\n",
      "Epoch 1/10\n",
      "9/9 [==============================] - 14s 1s/step - loss: 4.3875 - accuracy: 0.0952 - val_loss: 0.1517 - val_accuracy: 0.9786\n",
      "Epoch 2/10\n",
      "9/9 [==============================] - 11s 1s/step - loss: 2.7513 - accuracy: 0.2636 - val_loss: 0.1434 - val_accuracy: 0.9793\n",
      "Epoch 3/10\n",
      "9/9 [==============================] - 11s 1s/step - loss: 2.2559 - accuracy: 0.3507 - val_loss: 0.2523 - val_accuracy: 0.9472\n",
      "Epoch 4/10\n",
      "9/9 [==============================] - 11s 1s/step - loss: 1.9522 - accuracy: 0.4626 - val_loss: 0.2459 - val_accuracy: 0.9530\n",
      "Epoch 5/10\n",
      "9/9 [==============================] - 11s 1s/step - loss: 1.7641 - accuracy: 0.5038 - val_loss: 0.2136 - val_accuracy: 0.9444\n",
      "Epoch 6/10\n",
      "9/9 [==============================] - 11s 1s/step - loss: 1.4884 - accuracy: 0.5843 - val_loss: 0.3110 - val_accuracy: 0.9183\n",
      "Epoch 7/10\n",
      "9/9 [==============================] - 11s 1s/step - loss: 1.4041 - accuracy: 0.5767 - val_loss: 0.3521 - val_accuracy: 0.9178\n",
      "Epoch 8/10\n",
      "9/9 [==============================] - 11s 1s/step - loss: 1.4441 - accuracy: 0.5892 - val_loss: 0.2516 - val_accuracy: 0.9321\n",
      "Epoch 9/10\n",
      "9/9 [==============================] - 11s 1s/step - loss: 1.1889 - accuracy: 0.6382 - val_loss: 0.2271 - val_accuracy: 0.9444\n",
      "Epoch 10/10\n",
      "9/9 [==============================] - 12s 1s/step - loss: 1.0038 - accuracy: 0.7120 - val_loss: 0.2941 - val_accuracy: 0.9329\n",
      "Duration: 0:01:53.422007\n"
     ]
    }
   ],
   "source": [
    "print(n)\n",
    "models_dsa[n].fit_model(image_sets_dsa[n],label_sets_dsa[n],x_val,y_val)\n",
    "n = n+1"
   ]
  },
  {
   "cell_type": "code",
   "execution_count": 71,
   "id": "3c5d20d6",
   "metadata": {},
   "outputs": [
    {
     "name": "stdout",
     "output_type": "stream",
     "text": [
      "3\n",
      "Epoch 1/10\n",
      "12/12 [==============================] - 17s 1s/step - loss: 4.0456 - accuracy: 0.1119 - val_loss: 0.3148 - val_accuracy: 0.9257\n",
      "Epoch 2/10\n",
      "12/12 [==============================] - 13s 1s/step - loss: 2.6073 - accuracy: 0.3255 - val_loss: 0.2339 - val_accuracy: 0.9367\n",
      "Epoch 3/10\n",
      "12/12 [==============================] - 13s 1s/step - loss: 2.1317 - accuracy: 0.4076 - val_loss: 0.4591 - val_accuracy: 0.9173\n",
      "Epoch 4/10\n",
      "12/12 [==============================] - 13s 1s/step - loss: 1.9416 - accuracy: 0.4592 - val_loss: 0.2884 - val_accuracy: 0.9382\n",
      "Epoch 5/10\n",
      "12/12 [==============================] - 13s 1s/step - loss: 1.5139 - accuracy: 0.5680 - val_loss: 0.3014 - val_accuracy: 0.9257\n",
      "Epoch 6/10\n",
      "12/12 [==============================] - 13s 1s/step - loss: 1.4007 - accuracy: 0.5670 - val_loss: 0.4829 - val_accuracy: 0.8870\n",
      "Epoch 7/10\n",
      "12/12 [==============================] - 13s 1s/step - loss: 1.2185 - accuracy: 0.6278 - val_loss: 0.4248 - val_accuracy: 0.8977\n",
      "Epoch 8/10\n",
      "12/12 [==============================] - 13s 1s/step - loss: 1.1660 - accuracy: 0.6655 - val_loss: 0.3736 - val_accuracy: 0.9005\n",
      "Epoch 9/10\n",
      "12/12 [==============================] - 13s 1s/step - loss: 0.9813 - accuracy: 0.7092 - val_loss: 0.2162 - val_accuracy: 0.9426\n",
      "Epoch 10/10\n",
      "12/12 [==============================] - 13s 1s/step - loss: 0.9859 - accuracy: 0.7357 - val_loss: 0.2082 - val_accuracy: 0.9449\n",
      "Duration: 0:02:13.740632\n"
     ]
    }
   ],
   "source": [
    "print(n)\n",
    "models_dsa[n].fit_model(image_sets_dsa[n],label_sets_dsa[n],x_val,y_val)\n",
    "n = n+1"
   ]
  },
  {
   "cell_type": "code",
   "execution_count": 72,
   "id": "ccb7a03f",
   "metadata": {},
   "outputs": [
    {
     "name": "stdout",
     "output_type": "stream",
     "text": [
      "4\n",
      "Epoch 1/10\n",
      "15/15 [==============================] - 17s 1s/step - loss: 3.7191 - accuracy: 0.1456 - val_loss: 0.1249 - val_accuracy: 0.9684\n",
      "Epoch 2/10\n",
      "15/15 [==============================] - 15s 1s/step - loss: 2.2753 - accuracy: 0.3891 - val_loss: 0.1595 - val_accuracy: 0.9569\n",
      "Epoch 3/10\n",
      "15/15 [==============================] - 15s 1s/step - loss: 1.8466 - accuracy: 0.4875 - val_loss: 0.2892 - val_accuracy: 0.9324\n",
      "Epoch 4/10\n",
      "15/15 [==============================] - 15s 1s/step - loss: 1.7319 - accuracy: 0.5406 - val_loss: 0.2477 - val_accuracy: 0.9405\n",
      "Epoch 5/10\n",
      "15/15 [==============================] - 15s 1s/step - loss: 1.3495 - accuracy: 0.6228 - val_loss: 0.1931 - val_accuracy: 0.9610\n",
      "Epoch 6/10\n",
      "15/15 [==============================] - 15s 1s/step - loss: 1.2549 - accuracy: 0.6148 - val_loss: 0.2441 - val_accuracy: 0.9342\n",
      "Epoch 7/10\n",
      "15/15 [==============================] - 15s 1s/step - loss: 1.0645 - accuracy: 0.6979 - val_loss: 0.1500 - val_accuracy: 0.9594\n",
      "Epoch 8/10\n",
      "15/15 [==============================] - 16s 1s/step - loss: 0.9890 - accuracy: 0.7275 - val_loss: 0.1510 - val_accuracy: 0.9587\n",
      "Epoch 9/10\n",
      "15/15 [==============================] - 15s 1s/step - loss: 0.8836 - accuracy: 0.7403 - val_loss: 0.2091 - val_accuracy: 0.9395\n",
      "Epoch 10/10\n",
      "15/15 [==============================] - 15s 1s/step - loss: 0.7190 - accuracy: 0.7831 - val_loss: 0.2563 - val_accuracy: 0.9439\n",
      "Duration: 0:02:35.372699\n"
     ]
    }
   ],
   "source": [
    "#\n",
    "print(n)\n",
    "models_dsa[n].fit_model(image_sets_dsa[n],label_sets_dsa[n],x_val,y_val)\n",
    "n = n+1"
   ]
  },
  {
   "cell_type": "code",
   "execution_count": 73,
   "id": "c0e3117a",
   "metadata": {},
   "outputs": [
    {
     "name": "stdout",
     "output_type": "stream",
     "text": [
      "5\n",
      "Epoch 1/10\n",
      "18/18 [==============================] - 19s 939ms/step - loss: 3.6106 - accuracy: 0.1707 - val_loss: 0.0829 - val_accuracy: 0.9832\n",
      "Epoch 2/10\n",
      "18/18 [==============================] - 17s 987ms/step - loss: 2.0741 - accuracy: 0.4520 - val_loss: 0.1059 - val_accuracy: 0.9773\n",
      "Epoch 3/10\n",
      "18/18 [==============================] - 17s 945ms/step - loss: 1.6579 - accuracy: 0.5325 - val_loss: 0.2224 - val_accuracy: 0.9490\n",
      "Epoch 4/10\n",
      "18/18 [==============================] - 16s 934ms/step - loss: 1.3074 - accuracy: 0.6306 - val_loss: 0.2083 - val_accuracy: 0.9405\n",
      "Epoch 5/10\n",
      "18/18 [==============================] - 16s 931ms/step - loss: 1.2583 - accuracy: 0.6327 - val_loss: 0.1575 - val_accuracy: 0.9592\n",
      "Epoch 6/10\n",
      "18/18 [==============================] - 16s 933ms/step - loss: 1.0659 - accuracy: 0.6870 - val_loss: 0.1812 - val_accuracy: 0.9456\n",
      "Epoch 7/10\n",
      "18/18 [==============================] - 17s 940ms/step - loss: 1.0491 - accuracy: 0.6922 - val_loss: 0.1796 - val_accuracy: 0.9502\n",
      "Epoch 8/10\n",
      "18/18 [==============================] - 16s 938ms/step - loss: 0.8128 - accuracy: 0.7463 - val_loss: 0.2027 - val_accuracy: 0.9459\n",
      "Epoch 9/10\n",
      "18/18 [==============================] - 16s 931ms/step - loss: 0.7238 - accuracy: 0.7838 - val_loss: 0.1462 - val_accuracy: 0.9561\n",
      "Epoch 10/10\n",
      "18/18 [==============================] - 16s 937ms/step - loss: 0.6821 - accuracy: 0.7855 - val_loss: 0.1858 - val_accuracy: 0.9492\n",
      "Duration: 0:02:47.838090\n"
     ]
    }
   ],
   "source": [
    "n=5\n",
    "print(n)\n",
    "models_dsa[n].fit_model(image_sets_dsa[n],label_sets_dsa[n],x_val,y_val)\n",
    "n = n+1"
   ]
  },
  {
   "cell_type": "code",
   "execution_count": 74,
   "id": "73dbf589",
   "metadata": {},
   "outputs": [
    {
     "name": "stdout",
     "output_type": "stream",
     "text": [
      "6\n",
      "Epoch 1/10\n",
      "21/21 [==============================] - 23s 988ms/step - loss: 3.6093 - accuracy: 0.2050 - val_loss: 0.1363 - val_accuracy: 0.9742\n",
      "Epoch 2/10\n",
      "21/21 [==============================] - 19s 924ms/step - loss: 1.8214 - accuracy: 0.4721 - val_loss: 0.2498 - val_accuracy: 0.9643\n",
      "Epoch 3/10\n",
      "21/21 [==============================] - 19s 932ms/step - loss: 1.6184 - accuracy: 0.5605 - val_loss: 0.0853 - val_accuracy: 0.9765\n",
      "Epoch 4/10\n",
      "21/21 [==============================] - 19s 921ms/step - loss: 1.2040 - accuracy: 0.6383 - val_loss: 0.0838 - val_accuracy: 0.9760\n",
      "Epoch 5/10\n",
      "21/21 [==============================] - 19s 904ms/step - loss: 1.1945 - accuracy: 0.6370 - val_loss: 0.0996 - val_accuracy: 0.9775\n",
      "Epoch 6/10\n",
      "21/21 [==============================] - 19s 905ms/step - loss: 1.0625 - accuracy: 0.6849 - val_loss: 0.0750 - val_accuracy: 0.9829\n",
      "Epoch 7/10\n",
      "21/21 [==============================] - 19s 913ms/step - loss: 0.8986 - accuracy: 0.7289 - val_loss: 0.0971 - val_accuracy: 0.9745\n",
      "Epoch 8/10\n",
      "21/21 [==============================] - 19s 921ms/step - loss: 0.7389 - accuracy: 0.7707 - val_loss: 0.1049 - val_accuracy: 0.9686\n",
      "Epoch 9/10\n",
      "21/21 [==============================] - 19s 926ms/step - loss: 0.6901 - accuracy: 0.7923 - val_loss: 0.0866 - val_accuracy: 0.9765\n",
      "Epoch 10/10\n",
      "21/21 [==============================] - 20s 963ms/step - loss: 0.5791 - accuracy: 0.8220 - val_loss: 0.0849 - val_accuracy: 0.9781\n",
      "Duration: 0:03:13.861885\n"
     ]
    }
   ],
   "source": [
    "print(n)\n",
    "models_dsa[n].fit_model(image_sets_dsa[n],label_sets_dsa[n],x_val,y_val)\n",
    "n = n+1"
   ]
  },
  {
   "cell_type": "code",
   "execution_count": 75,
   "id": "096fa5ed",
   "metadata": {},
   "outputs": [
    {
     "name": "stdout",
     "output_type": "stream",
     "text": [
      "7\n",
      "Epoch 1/10\n",
      "24/24 [==============================] - 24s 908ms/step - loss: 3.1220 - accuracy: 0.2769 - val_loss: 0.1443 - val_accuracy: 0.9696\n",
      "Epoch 2/10\n",
      "24/24 [==============================] - 21s 874ms/step - loss: 1.7567 - accuracy: 0.4993 - val_loss: 0.1074 - val_accuracy: 0.9740\n",
      "Epoch 3/10\n",
      "24/24 [==============================] - 21s 878ms/step - loss: 1.3767 - accuracy: 0.6147 - val_loss: 0.0714 - val_accuracy: 0.9834\n",
      "Epoch 4/10\n",
      "24/24 [==============================] - 21s 870ms/step - loss: 1.1233 - accuracy: 0.6754 - val_loss: 0.0510 - val_accuracy: 0.9872\n",
      "Epoch 5/10\n",
      "24/24 [==============================] - 21s 870ms/step - loss: 0.9820 - accuracy: 0.7243 - val_loss: 0.0593 - val_accuracy: 0.9842\n",
      "Epoch 6/10\n",
      "24/24 [==============================] - 21s 875ms/step - loss: 0.8306 - accuracy: 0.7429 - val_loss: 0.0739 - val_accuracy: 0.9811\n",
      "Epoch 7/10\n",
      "24/24 [==============================] - 21s 875ms/step - loss: 0.7822 - accuracy: 0.7823 - val_loss: 0.0953 - val_accuracy: 0.9760\n",
      "Epoch 8/10\n",
      "24/24 [==============================] - 21s 876ms/step - loss: 0.6884 - accuracy: 0.7940 - val_loss: 0.0672 - val_accuracy: 0.9806\n",
      "Epoch 9/10\n",
      "24/24 [==============================] - 21s 877ms/step - loss: 0.5517 - accuracy: 0.8283 - val_loss: 0.0928 - val_accuracy: 0.9750\n",
      "Epoch 10/10\n",
      "24/24 [==============================] - 21s 873ms/step - loss: 0.5550 - accuracy: 0.8316 - val_loss: 0.0614 - val_accuracy: 0.9829\n",
      "Duration: 0:03:30.294366\n"
     ]
    }
   ],
   "source": [
    "print(n)\n",
    "models_dsa[n].fit_model(image_sets_dsa[n],label_sets_dsa[n],x_val,y_val)\n",
    "n = n+1"
   ]
  },
  {
   "cell_type": "code",
   "execution_count": 76,
   "id": "7bb81a44",
   "metadata": {},
   "outputs": [
    {
     "name": "stdout",
     "output_type": "stream",
     "text": [
      "8\n",
      "Epoch 1/10\n",
      "27/27 [==============================] - 24s 808ms/step - loss: 2.6796 - accuracy: 0.3791 - val_loss: 0.1106 - val_accuracy: 0.9750\n",
      "Epoch 2/10\n",
      "27/27 [==============================] - 22s 817ms/step - loss: 1.4495 - accuracy: 0.5969 - val_loss: 0.0680 - val_accuracy: 0.9809\n",
      "Epoch 3/10\n",
      "27/27 [==============================] - 22s 809ms/step - loss: 1.2078 - accuracy: 0.6580 - val_loss: 0.0663 - val_accuracy: 0.9855\n",
      "Epoch 4/10\n",
      "27/27 [==============================] - 22s 816ms/step - loss: 1.0396 - accuracy: 0.7051 - val_loss: 0.0713 - val_accuracy: 0.9811\n",
      "Epoch 5/10\n",
      "27/27 [==============================] - 22s 812ms/step - loss: 0.8937 - accuracy: 0.7347 - val_loss: 0.1198 - val_accuracy: 0.9737\n",
      "Epoch 6/10\n",
      "27/27 [==============================] - 22s 815ms/step - loss: 0.8122 - accuracy: 0.7728 - val_loss: 0.0711 - val_accuracy: 0.9832\n",
      "Epoch 7/10\n",
      "27/27 [==============================] - 22s 816ms/step - loss: 0.6418 - accuracy: 0.8157 - val_loss: 0.0787 - val_accuracy: 0.9783\n",
      "Epoch 8/10\n",
      "27/27 [==============================] - 22s 809ms/step - loss: 0.5879 - accuracy: 0.8235 - val_loss: 0.0688 - val_accuracy: 0.9811\n",
      "Epoch 9/10\n",
      "27/27 [==============================] - 22s 814ms/step - loss: 0.5746 - accuracy: 0.8375 - val_loss: 0.0517 - val_accuracy: 0.9847\n",
      "Epoch 10/10\n",
      "27/27 [==============================] - 22s 812ms/step - loss: 0.4596 - accuracy: 0.8490 - val_loss: 0.0683 - val_accuracy: 0.9806\n",
      "Duration: 0:03:39.215818\n"
     ]
    }
   ],
   "source": [
    "print(n)\n",
    "models_dsa[n].fit_model(image_sets_dsa[n],label_sets_dsa[n],x_val,y_val)\n",
    "n = n+1"
   ]
  },
  {
   "cell_type": "code",
   "execution_count": 77,
   "id": "3043bc8f",
   "metadata": {},
   "outputs": [
    {
     "name": "stdout",
     "output_type": "stream",
     "text": [
      "9\n",
      "Epoch 1/10\n",
      "30/30 [==============================] - 25s 777ms/step - loss: 2.7048 - accuracy: 0.3975 - val_loss: 0.0389 - val_accuracy: 0.9908\n",
      "Epoch 2/10\n",
      "30/30 [==============================] - 23s 771ms/step - loss: 1.3651 - accuracy: 0.6160 - val_loss: 0.0568 - val_accuracy: 0.9826\n",
      "Epoch 3/10\n",
      "30/30 [==============================] - 23s 770ms/step - loss: 1.1822 - accuracy: 0.6681 - val_loss: 0.0489 - val_accuracy: 0.9872\n",
      "Epoch 4/10\n",
      "30/30 [==============================] - 23s 770ms/step - loss: 0.9562 - accuracy: 0.7285 - val_loss: 0.0400 - val_accuracy: 0.9898\n",
      "Epoch 5/10\n",
      "30/30 [==============================] - 23s 776ms/step - loss: 0.8220 - accuracy: 0.7615 - val_loss: 0.0618 - val_accuracy: 0.9837\n",
      "Epoch 6/10\n",
      "30/30 [==============================] - 23s 777ms/step - loss: 0.6711 - accuracy: 0.8006 - val_loss: 0.0436 - val_accuracy: 0.9888\n",
      "Epoch 7/10\n",
      "30/30 [==============================] - 25s 841ms/step - loss: 0.6563 - accuracy: 0.8095 - val_loss: 0.0540 - val_accuracy: 0.9834\n",
      "Epoch 8/10\n",
      "30/30 [==============================] - 26s 873ms/step - loss: 0.5697 - accuracy: 0.8369 - val_loss: 0.0596 - val_accuracy: 0.9878\n",
      "Epoch 9/10\n",
      "30/30 [==============================] - 26s 877ms/step - loss: 0.5455 - accuracy: 0.8397 - val_loss: 0.0700 - val_accuracy: 0.9811\n",
      "Epoch 10/10\n",
      "30/30 [==============================] - 26s 872ms/step - loss: 0.4509 - accuracy: 0.8771 - val_loss: 0.0825 - val_accuracy: 0.9750\n",
      "Duration: 0:04:03.121895\n"
     ]
    }
   ],
   "source": [
    "#\n",
    "print(n)\n",
    "models_dsa[n].fit_model(image_sets_dsa[n],label_sets_dsa[n],x_val,y_val)\n",
    "n = n+1"
   ]
  },
  {
   "cell_type": "code",
   "execution_count": 78,
   "id": "38509dfc",
   "metadata": {},
   "outputs": [
    {
     "name": "stdout",
     "output_type": "stream",
     "text": [
      "10\n",
      "Epoch 1/10\n",
      "33/33 [==============================] - 31s 839ms/step - loss: 2.4187 - accuracy: 0.4581 - val_loss: 0.2031 - val_accuracy: 0.9658\n",
      "Epoch 2/10\n",
      "33/33 [==============================] - 27s 819ms/step - loss: 1.2601 - accuracy: 0.6443 - val_loss: 0.0460 - val_accuracy: 0.9878\n",
      "Epoch 3/10\n",
      "33/33 [==============================] - 27s 818ms/step - loss: 1.0535 - accuracy: 0.6979 - val_loss: 0.0650 - val_accuracy: 0.9844\n",
      "Epoch 4/10\n",
      "33/33 [==============================] - 27s 822ms/step - loss: 0.8158 - accuracy: 0.7618 - val_loss: 0.0532 - val_accuracy: 0.9878\n",
      "Epoch 5/10\n",
      "33/33 [==============================] - 27s 819ms/step - loss: 0.7027 - accuracy: 0.7995 - val_loss: 0.0673 - val_accuracy: 0.9849\n",
      "Epoch 6/10\n",
      "33/33 [==============================] - 27s 824ms/step - loss: 0.6586 - accuracy: 0.8063 - val_loss: 0.0749 - val_accuracy: 0.9804\n",
      "Epoch 7/10\n",
      "33/33 [==============================] - 27s 820ms/step - loss: 0.5847 - accuracy: 0.8283 - val_loss: 0.0485 - val_accuracy: 0.9870\n",
      "Epoch 8/10\n",
      "33/33 [==============================] - 27s 833ms/step - loss: 0.4827 - accuracy: 0.8546 - val_loss: 0.0555 - val_accuracy: 0.9880\n",
      "Epoch 9/10\n",
      "33/33 [==============================] - 29s 896ms/step - loss: 0.4550 - accuracy: 0.8703 - val_loss: 0.0613 - val_accuracy: 0.9839\n",
      "Epoch 10/10\n",
      "33/33 [==============================] - 28s 844ms/step - loss: 0.4197 - accuracy: 0.8815 - val_loss: 0.0801 - val_accuracy: 0.9809\n",
      "Duration: 0:04:36.351610\n"
     ]
    }
   ],
   "source": [
    "print(n)\n",
    "models_dsa[n].fit_model(image_sets_dsa[n],label_sets_dsa[n],x_val,y_val)\n",
    "n = n+1"
   ]
  },
  {
   "cell_type": "code",
   "execution_count": 79,
   "id": "2e5bd2b1",
   "metadata": {},
   "outputs": [
    {
     "name": "stdout",
     "output_type": "stream",
     "text": [
      "11\n",
      "Epoch 1/10\n",
      "36/36 [==============================] - 33s 816ms/step - loss: 2.1603 - accuracy: 0.5139 - val_loss: 0.0558 - val_accuracy: 0.9872\n",
      "Epoch 2/10\n",
      "36/36 [==============================] - 28s 795ms/step - loss: 1.2239 - accuracy: 0.6650 - val_loss: 0.0812 - val_accuracy: 0.9788\n",
      "Epoch 3/10\n",
      "36/36 [==============================] - 28s 791ms/step - loss: 0.9220 - accuracy: 0.7423 - val_loss: 0.0727 - val_accuracy: 0.9826\n",
      "Epoch 4/10\n",
      "36/36 [==============================] - 28s 794ms/step - loss: 0.7954 - accuracy: 0.7618 - val_loss: 0.0427 - val_accuracy: 0.9883\n",
      "Epoch 5/10\n",
      "36/36 [==============================] - 28s 795ms/step - loss: 0.7036 - accuracy: 0.7956 - val_loss: 0.0685 - val_accuracy: 0.9826\n",
      "Epoch 6/10\n",
      "36/36 [==============================] - 29s 822ms/step - loss: 0.5581 - accuracy: 0.8304 - val_loss: 0.0570 - val_accuracy: 0.9847\n",
      "Epoch 7/10\n",
      "36/36 [==============================] - 29s 812ms/step - loss: 0.5376 - accuracy: 0.8387 - val_loss: 0.0612 - val_accuracy: 0.9832\n",
      "Epoch 8/10\n",
      "36/36 [==============================] - 29s 800ms/step - loss: 0.4685 - accuracy: 0.8500 - val_loss: 0.1018 - val_accuracy: 0.9781\n",
      "Epoch 9/10\n",
      "36/36 [==============================] - 29s 801ms/step - loss: 0.4230 - accuracy: 0.8722 - val_loss: 0.0500 - val_accuracy: 0.9867\n",
      "Epoch 10/10\n",
      "36/36 [==============================] - 29s 806ms/step - loss: 0.3742 - accuracy: 0.8808 - val_loss: 0.0770 - val_accuracy: 0.9788\n",
      "Duration: 0:04:50.797632\n"
     ]
    }
   ],
   "source": [
    "print(n)\n",
    "models_dsa[n].fit_model(image_sets_dsa[n],label_sets_dsa[n],x_val,y_val)\n",
    "n = n+1"
   ]
  },
  {
   "cell_type": "code",
   "execution_count": 80,
   "id": "8030a6ac",
   "metadata": {},
   "outputs": [
    {
     "name": "stdout",
     "output_type": "stream",
     "text": [
      "12\n",
      "Epoch 1/10\n",
      "39/39 [==============================] - 34s 799ms/step - loss: 1.9132 - accuracy: 0.5537 - val_loss: 0.0983 - val_accuracy: 0.9862\n",
      "Epoch 2/10\n",
      "39/39 [==============================] - 31s 798ms/step - loss: 1.0645 - accuracy: 0.7048 - val_loss: 0.0785 - val_accuracy: 0.9793\n",
      "Epoch 3/10\n",
      "39/39 [==============================] - 31s 793ms/step - loss: 0.8484 - accuracy: 0.7499 - val_loss: 0.0414 - val_accuracy: 0.9878\n",
      "Epoch 4/10\n",
      "39/39 [==============================] - 31s 789ms/step - loss: 0.7302 - accuracy: 0.7963 - val_loss: 0.0573 - val_accuracy: 0.9855\n",
      "Epoch 5/10\n",
      "39/39 [==============================] - 31s 788ms/step - loss: 0.6352 - accuracy: 0.8074 - val_loss: 0.0462 - val_accuracy: 0.9888\n",
      "Epoch 6/10\n",
      "39/39 [==============================] - 31s 790ms/step - loss: 0.5530 - accuracy: 0.8376 - val_loss: 0.0489 - val_accuracy: 0.9867\n",
      "Epoch 7/10\n",
      "39/39 [==============================] - 31s 790ms/step - loss: 0.4803 - accuracy: 0.8508 - val_loss: 0.0428 - val_accuracy: 0.9883\n",
      "Epoch 8/10\n",
      "39/39 [==============================] - 31s 794ms/step - loss: 0.4611 - accuracy: 0.8640 - val_loss: 0.0472 - val_accuracy: 0.9870\n",
      "Epoch 9/10\n",
      "39/39 [==============================] - 31s 792ms/step - loss: 0.4292 - accuracy: 0.8680 - val_loss: 0.0491 - val_accuracy: 0.9860\n",
      "Epoch 10/10\n",
      "39/39 [==============================] - 31s 790ms/step - loss: 0.3528 - accuracy: 0.8971 - val_loss: 0.0474 - val_accuracy: 0.9883\n",
      "Duration: 0:05:10.771000\n"
     ]
    }
   ],
   "source": [
    "print(n)\n",
    "models_dsa[n].fit_model(image_sets_dsa[n],label_sets_dsa[n],x_val,y_val)\n",
    "n = n+1"
   ]
  },
  {
   "cell_type": "code",
   "execution_count": 81,
   "id": "2fb5a3b1",
   "metadata": {},
   "outputs": [
    {
     "name": "stdout",
     "output_type": "stream",
     "text": [
      "13\n",
      "Epoch 1/10\n",
      "42/42 [==============================] - 37s 805ms/step - loss: 1.7901 - accuracy: 0.5911 - val_loss: 0.0471 - val_accuracy: 0.9903\n",
      "Epoch 2/10\n",
      "42/42 [==============================] - 33s 795ms/step - loss: 1.0068 - accuracy: 0.7136 - val_loss: 0.0534 - val_accuracy: 0.9860\n",
      "Epoch 3/10\n",
      "42/42 [==============================] - 33s 789ms/step - loss: 0.8007 - accuracy: 0.7621 - val_loss: 0.0295 - val_accuracy: 0.9916\n",
      "Epoch 4/10\n",
      "42/42 [==============================] - 33s 793ms/step - loss: 0.6883 - accuracy: 0.8040 - val_loss: 0.0559 - val_accuracy: 0.9842\n",
      "Epoch 5/10\n",
      "42/42 [==============================] - 33s 793ms/step - loss: 0.5775 - accuracy: 0.8299 - val_loss: 0.0632 - val_accuracy: 0.9826\n",
      "Epoch 6/10\n",
      "42/42 [==============================] - 33s 799ms/step - loss: 0.5173 - accuracy: 0.8495 - val_loss: 0.0578 - val_accuracy: 0.9852\n",
      "Epoch 7/10\n",
      "42/42 [==============================] - 33s 796ms/step - loss: 0.4191 - accuracy: 0.8800 - val_loss: 0.0508 - val_accuracy: 0.9875\n",
      "Epoch 8/10\n",
      "42/42 [==============================] - 33s 796ms/step - loss: 0.4362 - accuracy: 0.8752 - val_loss: 0.0819 - val_accuracy: 0.9816\n",
      "Epoch 9/10\n",
      "42/42 [==============================] - 33s 798ms/step - loss: 0.3948 - accuracy: 0.8756 - val_loss: 0.0765 - val_accuracy: 0.9783\n",
      "Epoch 10/10\n",
      "42/42 [==============================] - 34s 804ms/step - loss: 0.3222 - accuracy: 0.8928 - val_loss: 0.0682 - val_accuracy: 0.9837\n",
      "Duration: 0:05:36.465775\n"
     ]
    }
   ],
   "source": [
    "print(n)\n",
    "models_dsa[n].fit_model(image_sets_dsa[n],label_sets_dsa[n],x_val,y_val)\n",
    "n = n+1"
   ]
  },
  {
   "cell_type": "code",
   "execution_count": 82,
   "id": "f82df5a9",
   "metadata": {},
   "outputs": [
    {
     "name": "stdout",
     "output_type": "stream",
     "text": [
      "14\n",
      "Epoch 1/10\n",
      "45/45 [==============================] - 39s 795ms/step - loss: 1.6280 - accuracy: 0.6312 - val_loss: 0.0404 - val_accuracy: 0.9895\n",
      "Epoch 2/10\n",
      "45/45 [==============================] - 35s 791ms/step - loss: 0.9334 - accuracy: 0.7406 - val_loss: 0.0477 - val_accuracy: 0.9883\n",
      "Epoch 3/10\n",
      "45/45 [==============================] - 36s 794ms/step - loss: 0.6549 - accuracy: 0.8080 - val_loss: 0.0568 - val_accuracy: 0.9860\n",
      "Epoch 4/10\n",
      "45/45 [==============================] - 35s 788ms/step - loss: 0.6464 - accuracy: 0.8130 - val_loss: 0.0401 - val_accuracy: 0.9913\n",
      "Epoch 5/10\n",
      "45/45 [==============================] - 36s 798ms/step - loss: 0.4832 - accuracy: 0.8566 - val_loss: 0.1629 - val_accuracy: 0.9556\n",
      "Epoch 6/10\n",
      "45/45 [==============================] - 35s 788ms/step - loss: 0.5533 - accuracy: 0.8438 - val_loss: 0.0572 - val_accuracy: 0.9880\n",
      "Epoch 7/10\n",
      "45/45 [==============================] - 35s 788ms/step - loss: 0.4631 - accuracy: 0.8604 - val_loss: 0.0529 - val_accuracy: 0.9880\n",
      "Epoch 8/10\n",
      "45/45 [==============================] - 35s 786ms/step - loss: 0.3860 - accuracy: 0.8823 - val_loss: 0.0616 - val_accuracy: 0.9870\n",
      "Epoch 9/10\n",
      "45/45 [==============================] - 36s 796ms/step - loss: 0.3287 - accuracy: 0.8946 - val_loss: 0.0502 - val_accuracy: 0.9895\n",
      "Epoch 10/10\n",
      "45/45 [==============================] - 35s 790ms/step - loss: 0.3192 - accuracy: 0.9084 - val_loss: 0.0530 - val_accuracy: 0.9911\n",
      "Duration: 0:05:58.093125\n"
     ]
    }
   ],
   "source": [
    "#\n",
    "print(n)\n",
    "models_dsa[n].fit_model(image_sets_dsa[n],label_sets_dsa[n],x_val,y_val)\n",
    "n = n+1"
   ]
  },
  {
   "cell_type": "code",
   "execution_count": 83,
   "id": "614d629a",
   "metadata": {},
   "outputs": [
    {
     "name": "stdout",
     "output_type": "stream",
     "text": [
      "15\n",
      "Epoch 1/10\n",
      "48/48 [==============================] - 41s 788ms/step - loss: 1.4544 - accuracy: 0.6502 - val_loss: 0.0407 - val_accuracy: 0.9918\n",
      "Epoch 2/10\n",
      "48/48 [==============================] - 38s 797ms/step - loss: 0.8589 - accuracy: 0.7611 - val_loss: 0.0698 - val_accuracy: 0.9875\n",
      "Epoch 3/10\n",
      "48/48 [==============================] - 38s 794ms/step - loss: 0.6941 - accuracy: 0.7918 - val_loss: 0.0663 - val_accuracy: 0.9824\n",
      "Epoch 4/10\n",
      "48/48 [==============================] - 38s 791ms/step - loss: 0.5831 - accuracy: 0.8284 - val_loss: 0.0818 - val_accuracy: 0.9747\n",
      "Epoch 5/10\n",
      "48/48 [==============================] - 38s 788ms/step - loss: 0.4903 - accuracy: 0.8633 - val_loss: 0.0515 - val_accuracy: 0.9867\n",
      "Epoch 6/10\n",
      "48/48 [==============================] - 38s 794ms/step - loss: 0.4313 - accuracy: 0.8731 - val_loss: 0.0390 - val_accuracy: 0.9885\n",
      "Epoch 7/10\n",
      "48/48 [==============================] - 38s 792ms/step - loss: 0.4177 - accuracy: 0.8792 - val_loss: 0.0407 - val_accuracy: 0.9903\n",
      "Epoch 8/10\n",
      "48/48 [==============================] - 38s 793ms/step - loss: 0.3719 - accuracy: 0.8876 - val_loss: 0.0839 - val_accuracy: 0.9796\n",
      "Epoch 9/10\n",
      "48/48 [==============================] - 38s 795ms/step - loss: 0.2812 - accuracy: 0.9104 - val_loss: 0.0606 - val_accuracy: 0.9860\n",
      "Epoch 10/10\n",
      "48/48 [==============================] - 38s 794ms/step - loss: 0.3212 - accuracy: 0.9046 - val_loss: 0.0331 - val_accuracy: 0.9923\n",
      "Duration: 0:06:22.420524\n"
     ]
    }
   ],
   "source": [
    "print(n)\n",
    "models_dsa[n].fit_model(image_sets_dsa[n],label_sets_dsa[n],x_val,y_val)\n",
    "n = n+1"
   ]
  },
  {
   "cell_type": "code",
   "execution_count": 84,
   "id": "36499bca",
   "metadata": {},
   "outputs": [
    {
     "name": "stdout",
     "output_type": "stream",
     "text": [
      "16\n",
      "Epoch 1/10\n",
      "51/51 [==============================] - 43s 785ms/step - loss: 1.4656 - accuracy: 0.6663 - val_loss: 0.0547 - val_accuracy: 0.9878\n",
      "Epoch 2/10\n",
      "51/51 [==============================] - 39s 776ms/step - loss: 0.8428 - accuracy: 0.7717 - val_loss: 0.0376 - val_accuracy: 0.9913\n",
      "Epoch 3/10\n",
      "51/51 [==============================] - 39s 760ms/step - loss: 0.6558 - accuracy: 0.8270 - val_loss: 0.0352 - val_accuracy: 0.9929\n",
      "Epoch 4/10\n",
      "51/51 [==============================] - 39s 764ms/step - loss: 0.5478 - accuracy: 0.8355 - val_loss: 0.0323 - val_accuracy: 0.9908\n",
      "Epoch 5/10\n",
      "51/51 [==============================] - 39s 765ms/step - loss: 0.5144 - accuracy: 0.8527 - val_loss: 0.0347 - val_accuracy: 0.9895\n",
      "Epoch 6/10\n",
      "51/51 [==============================] - 39s 765ms/step - loss: 0.4092 - accuracy: 0.8790 - val_loss: 0.0394 - val_accuracy: 0.9900\n",
      "Epoch 7/10\n",
      "51/51 [==============================] - 39s 764ms/step - loss: 0.3953 - accuracy: 0.8818 - val_loss: 0.0531 - val_accuracy: 0.9888\n",
      "Epoch 8/10\n",
      "51/51 [==============================] - 39s 775ms/step - loss: 0.3475 - accuracy: 0.8986 - val_loss: 0.0456 - val_accuracy: 0.9888\n",
      "Epoch 9/10\n",
      "51/51 [==============================] - 39s 768ms/step - loss: 0.2932 - accuracy: 0.9090 - val_loss: 0.0435 - val_accuracy: 0.9918\n",
      "Epoch 10/10\n",
      "51/51 [==============================] - 39s 764ms/step - loss: 0.2848 - accuracy: 0.9170 - val_loss: 0.0483 - val_accuracy: 0.9885\n",
      "Duration: 0:06:34.299191\n"
     ]
    }
   ],
   "source": [
    "print(n)\n",
    "models_dsa[n].fit_model(image_sets_dsa[n],label_sets_dsa[n],x_val,y_val)\n",
    "n = n+1"
   ]
  },
  {
   "cell_type": "code",
   "execution_count": 85,
   "id": "4fdd3d0b",
   "metadata": {},
   "outputs": [
    {
     "name": "stdout",
     "output_type": "stream",
     "text": [
      "17\n",
      "Epoch 1/10\n",
      "54/54 [==============================] - 46s 793ms/step - loss: 1.4143 - accuracy: 0.6662 - val_loss: 0.0419 - val_accuracy: 0.9898\n",
      "Epoch 2/10\n",
      "54/54 [==============================] - 42s 786ms/step - loss: 0.8061 - accuracy: 0.7795 - val_loss: 0.0394 - val_accuracy: 0.9913\n",
      "Epoch 3/10\n",
      "54/54 [==============================] - 42s 782ms/step - loss: 0.6337 - accuracy: 0.8260 - val_loss: 0.0458 - val_accuracy: 0.9878\n",
      "Epoch 4/10\n",
      "54/54 [==============================] - 42s 789ms/step - loss: 0.5284 - accuracy: 0.8463 - val_loss: 0.0444 - val_accuracy: 0.9903\n",
      "Epoch 5/10\n",
      "54/54 [==============================] - 43s 790ms/step - loss: 0.4437 - accuracy: 0.8745 - val_loss: 0.0577 - val_accuracy: 0.9878\n",
      "Epoch 6/10\n",
      "54/54 [==============================] - 42s 789ms/step - loss: 0.4369 - accuracy: 0.8739 - val_loss: 0.0410 - val_accuracy: 0.9906\n",
      "Epoch 7/10\n",
      "54/54 [==============================] - 42s 787ms/step - loss: 0.3634 - accuracy: 0.8941 - val_loss: 0.0385 - val_accuracy: 0.9918\n",
      "Epoch 8/10\n",
      "54/54 [==============================] - 42s 784ms/step - loss: 0.3085 - accuracy: 0.9028 - val_loss: 0.0536 - val_accuracy: 0.9890\n",
      "Epoch 9/10\n",
      "54/54 [==============================] - 42s 785ms/step - loss: 0.3297 - accuracy: 0.9050 - val_loss: 0.0483 - val_accuracy: 0.9867\n",
      "Epoch 10/10\n",
      "54/54 [==============================] - 42s 789ms/step - loss: 0.3111 - accuracy: 0.9113 - val_loss: 0.0400 - val_accuracy: 0.9895\n",
      "Duration: 0:07:07.494962\n"
     ]
    }
   ],
   "source": [
    "print(n)\n",
    "models_dsa[n].fit_model(image_sets_dsa[n],label_sets_dsa[n],x_val,y_val)\n",
    "n = n+1"
   ]
  },
  {
   "cell_type": "code",
   "execution_count": 86,
   "id": "998c89cf",
   "metadata": {},
   "outputs": [
    {
     "name": "stdout",
     "output_type": "stream",
     "text": [
      "18\n",
      "Epoch 1/10\n",
      "57/57 [==============================] - 49s 790ms/step - loss: 1.4682 - accuracy: 0.6841 - val_loss: 0.0385 - val_accuracy: 0.9903\n",
      "Epoch 2/10\n",
      "57/57 [==============================] - 45s 793ms/step - loss: 0.7411 - accuracy: 0.8069 - val_loss: 0.0602 - val_accuracy: 0.9857\n",
      "Epoch 3/10\n",
      "57/57 [==============================] - 45s 799ms/step - loss: 0.5991 - accuracy: 0.8259 - val_loss: 0.0410 - val_accuracy: 0.9900\n",
      "Epoch 4/10\n",
      "57/57 [==============================] - 77s 1s/step - loss: 0.4993 - accuracy: 0.8526 - val_loss: 0.0636 - val_accuracy: 0.9860\n",
      "Epoch 5/10\n",
      "57/57 [==============================] - 80s 1s/step - loss: 0.4698 - accuracy: 0.8738 - val_loss: 0.0420 - val_accuracy: 0.9870\n",
      "Epoch 6/10\n",
      "57/57 [==============================] - 80s 1s/step - loss: 0.3927 - accuracy: 0.8811 - val_loss: 0.0396 - val_accuracy: 0.9900\n",
      "Epoch 7/10\n",
      "57/57 [==============================] - 79s 1s/step - loss: 0.3593 - accuracy: 0.9006 - val_loss: 0.0269 - val_accuracy: 0.9931\n",
      "Epoch 8/10\n",
      "57/57 [==============================] - 80s 1s/step - loss: 0.3139 - accuracy: 0.9088 - val_loss: 0.0626 - val_accuracy: 0.9878\n",
      "Epoch 9/10\n",
      "57/57 [==============================] - 81s 1s/step - loss: 0.2799 - accuracy: 0.9182 - val_loss: 0.0495 - val_accuracy: 0.9908\n",
      "Epoch 10/10\n",
      "57/57 [==============================] - 79s 1s/step - loss: 0.2609 - accuracy: 0.9183 - val_loss: 0.0392 - val_accuracy: 0.9918\n",
      "Duration: 0:11:35.379517\n"
     ]
    }
   ],
   "source": [
    "print(n)\n",
    "models_dsa[n].fit_model(image_sets_dsa[n],label_sets_dsa[n],x_val,y_val)\n",
    "n = n+1"
   ]
  },
  {
   "cell_type": "code",
   "execution_count": 87,
   "id": "608b6028",
   "metadata": {},
   "outputs": [
    {
     "name": "stdout",
     "output_type": "stream",
     "text": [
      "19\n",
      "Epoch 1/10\n",
      "62/62 [==============================] - 89s 1s/step - loss: 1.1992 - accuracy: 0.7258 - val_loss: 0.0897 - val_accuracy: 0.9865\n",
      "Epoch 2/10\n",
      "62/62 [==============================] - 85s 1s/step - loss: 0.6802 - accuracy: 0.8118 - val_loss: 0.1277 - val_accuracy: 0.9788\n",
      "Epoch 3/10\n",
      "62/62 [==============================] - 84s 1s/step - loss: 0.5900 - accuracy: 0.8302 - val_loss: 0.0688 - val_accuracy: 0.9857\n",
      "Epoch 4/10\n",
      "62/62 [==============================] - 86s 1s/step - loss: 0.4690 - accuracy: 0.8671 - val_loss: 0.0904 - val_accuracy: 0.9763\n",
      "Epoch 5/10\n",
      "62/62 [==============================] - 86s 1s/step - loss: 0.4094 - accuracy: 0.8835 - val_loss: 0.0362 - val_accuracy: 0.9923\n",
      "Epoch 6/10\n",
      "62/62 [==============================] - 86s 1s/step - loss: 0.3598 - accuracy: 0.8956 - val_loss: 0.0789 - val_accuracy: 0.9852\n",
      "Epoch 7/10\n",
      "62/62 [==============================] - 85s 1s/step - loss: 0.3137 - accuracy: 0.9060 - val_loss: 0.0381 - val_accuracy: 0.9906\n",
      "Epoch 8/10\n",
      "62/62 [==============================] - 85s 1s/step - loss: 0.2700 - accuracy: 0.9177 - val_loss: 0.0341 - val_accuracy: 0.9916\n",
      "Epoch 9/10\n",
      "62/62 [==============================] - 85s 1s/step - loss: 0.2606 - accuracy: 0.9186 - val_loss: 0.0490 - val_accuracy: 0.9852\n",
      "Epoch 10/10\n",
      "62/62 [==============================] - 85s 1s/step - loss: 0.2284 - accuracy: 0.9304 - val_loss: 0.0427 - val_accuracy: 0.9908\n",
      "Duration: 0:14:15.611050\n"
     ]
    }
   ],
   "source": [
    "#\n",
    "print(n)\n",
    "models_dsa[n].fit_model(image_sets_dsa[n],label_sets_dsa[n],x_val,y_val)\n",
    "n = n+1"
   ]
  },
  {
   "cell_type": "code",
   "execution_count": 88,
   "id": "f5efcb59",
   "metadata": {},
   "outputs": [
    {
     "name": "stdout",
     "output_type": "stream",
     "text": [
      "INFO:tensorflow:Assets written to: D:/models/aug_22/gtsrb/C3/e2/gtsrb_model_c3_aug_dsa_e2_0\\assets\n",
      "Model has been saved\n",
      "INFO:tensorflow:Assets written to: D:/models/aug_22/gtsrb/C3/e2/gtsrb_model_c3_aug_dsa_e2_1\\assets\n",
      "Model has been saved\n",
      "INFO:tensorflow:Assets written to: D:/models/aug_22/gtsrb/C3/e2/gtsrb_model_c3_aug_dsa_e2_2\\assets\n",
      "Model has been saved\n",
      "INFO:tensorflow:Assets written to: D:/models/aug_22/gtsrb/C3/e2/gtsrb_model_c3_aug_dsa_e2_3\\assets\n",
      "Model has been saved\n",
      "INFO:tensorflow:Assets written to: D:/models/aug_22/gtsrb/C3/e2/gtsrb_model_c3_aug_dsa_e2_4\\assets\n",
      "Model has been saved\n",
      "INFO:tensorflow:Assets written to: D:/models/aug_22/gtsrb/C3/e2/gtsrb_model_c3_aug_dsa_e2_5\\assets\n",
      "Model has been saved\n",
      "INFO:tensorflow:Assets written to: D:/models/aug_22/gtsrb/C3/e2/gtsrb_model_c3_aug_dsa_e2_6\\assets\n",
      "Model has been saved\n",
      "INFO:tensorflow:Assets written to: D:/models/aug_22/gtsrb/C3/e2/gtsrb_model_c3_aug_dsa_e2_7\\assets\n",
      "Model has been saved\n",
      "INFO:tensorflow:Assets written to: D:/models/aug_22/gtsrb/C3/e2/gtsrb_model_c3_aug_dsa_e2_8\\assets\n",
      "Model has been saved\n",
      "INFO:tensorflow:Assets written to: D:/models/aug_22/gtsrb/C3/e2/gtsrb_model_c3_aug_dsa_e2_9\\assets\n",
      "Model has been saved\n",
      "INFO:tensorflow:Assets written to: D:/models/aug_22/gtsrb/C3/e2/gtsrb_model_c3_aug_dsa_e2_10\\assets\n",
      "Model has been saved\n",
      "INFO:tensorflow:Assets written to: D:/models/aug_22/gtsrb/C3/e2/gtsrb_model_c3_aug_dsa_e2_11\\assets\n",
      "Model has been saved\n",
      "INFO:tensorflow:Assets written to: D:/models/aug_22/gtsrb/C3/e2/gtsrb_model_c3_aug_dsa_e2_12\\assets\n",
      "Model has been saved\n",
      "INFO:tensorflow:Assets written to: D:/models/aug_22/gtsrb/C3/e2/gtsrb_model_c3_aug_dsa_e2_13\\assets\n",
      "Model has been saved\n",
      "INFO:tensorflow:Assets written to: D:/models/aug_22/gtsrb/C3/e2/gtsrb_model_c3_aug_dsa_e2_14\\assets\n",
      "Model has been saved\n",
      "INFO:tensorflow:Assets written to: D:/models/aug_22/gtsrb/C3/e2/gtsrb_model_c3_aug_dsa_e2_15\\assets\n",
      "Model has been saved\n",
      "INFO:tensorflow:Assets written to: D:/models/aug_22/gtsrb/C3/e2/gtsrb_model_c3_aug_dsa_e2_16\\assets\n",
      "Model has been saved\n",
      "INFO:tensorflow:Assets written to: D:/models/aug_22/gtsrb/C3/e2/gtsrb_model_c3_aug_dsa_e2_17\\assets\n",
      "Model has been saved\n",
      "INFO:tensorflow:Assets written to: D:/models/aug_22/gtsrb/C3/e2/gtsrb_model_c3_aug_dsa_e2_18\\assets\n",
      "Model has been saved\n",
      "INFO:tensorflow:Assets written to: D:/models/aug_22/gtsrb/C3/e2/gtsrb_model_c3_aug_dsa_e2_19\\assets\n",
      "Model has been saved\n"
     ]
    }
   ],
   "source": [
    "#new_model_dsa_dir  = \"C:/Users/fjdurlop/Documents/upc/models/\"+dataset+\"/C3/\"+dataset+\"_model_c3_aug_dsa_e1\"\n",
    "new_model_dsa_dir  = \"D:/models/aug_22/gtsrb/C3/e2/gtsrb_model_c3_aug_dsa_e2\"\n",
    "\n",
    "\n",
    "i=0\n",
    "\n",
    "for model in models_dsa:\n",
    "    model.save(new_model_dsa_dir+\"_\"+str(i))\n",
    "    i+=1"
   ]
  },
  {
   "cell_type": "code",
   "execution_count": 89,
   "id": "77836993",
   "metadata": {},
   "outputs": [],
   "source": [
    "try:\n",
    "    del dsa_values\n",
    "    del top_images_by_dsa\n",
    "    del top_labels_by_dsa\n",
    "    del image_sets_dsa\n",
    "    del label_sets_dsa\n",
    "    del models_dsa\n",
    "except:\n",
    "    print(\"Error\")"
   ]
  },
  {
   "cell_type": "code",
   "execution_count": 90,
   "id": "a2d78dd7",
   "metadata": {},
   "outputs": [
    {
     "data": {
      "text/plain": [
       "499060"
      ]
     },
     "execution_count": 90,
     "metadata": {},
     "output_type": "execute_result"
    }
   ],
   "source": [
    "import gc\n",
    "gc.collect()"
   ]
  },
  {
   "cell_type": "markdown",
   "id": "1c73510f",
   "metadata": {},
   "source": [
    "## Uncertainty"
   ]
  },
  {
   "cell_type": "code",
   "execution_count": 91,
   "id": "0ac6d3c4",
   "metadata": {},
   "outputs": [
    {
     "name": "stdout",
     "output_type": "stream",
     "text": [
      "3921\n"
     ]
    }
   ],
   "source": [
    "#dg_direction = \"C:/Users/fjdurlop/Documents/upc/upc-july/data/\"+dataset+\"/deep_gini_values.npy\"\n",
    "\n",
    "#deep_gini_values = np.load(dg_direction)\n",
    "dg_direction = \"C:/Users/fjdur/Documents/upc-july/data/\"+dataset+\"/deep_gini_values.npy\"\n",
    "\n",
    "deep_gini_values = np.load(dg_direction)[len(x_train):] \n",
    "print(len(deep_gini_values))"
   ]
  },
  {
   "cell_type": "code",
   "execution_count": 92,
   "id": "d85ee221",
   "metadata": {},
   "outputs": [],
   "source": [
    "# Obtaining top n images by dg values\n",
    "top_images_by_dg  = utils.get_x_of_indexes(list(np.flip(np.argsort(deep_gini_values))),x_adversary_training)\n",
    "top_labels_by_dg = utils.get_x_of_indexes(list(np.flip(np.argsort(deep_gini_values))),y_adversary_training)"
   ]
  },
  {
   "cell_type": "code",
   "execution_count": 93,
   "id": "b7636eda",
   "metadata": {
    "scrolled": true
   },
   "outputs": [
    {
     "name": "stdout",
     "output_type": "stream",
     "text": [
      "0 :\n",
      "0  ->  190\n",
      "190\n",
      "1 :\n",
      "0  ->  380\n",
      "380\n",
      "2 :\n",
      "0  ->  570\n",
      "570\n",
      "3 :\n",
      "0  ->  760\n",
      "760\n",
      "4 :\n",
      "0  ->  950\n",
      "950\n",
      "5 :\n",
      "0  ->  1140\n",
      "1140\n",
      "6 :\n",
      "0  ->  1330\n",
      "1330\n",
      "7 :\n",
      "0  ->  1520\n",
      "1520\n",
      "8 :\n",
      "0  ->  1710\n",
      "1710\n",
      "9 :\n",
      "0  ->  1900\n",
      "1900\n",
      "10 :\n",
      "0  ->  2090\n",
      "2090\n",
      "11 :\n",
      "0  ->  2280\n",
      "2280\n",
      "12 :\n",
      "0  ->  2470\n",
      "2470\n",
      "13 :\n",
      "0  ->  2660\n",
      "2660\n",
      "14 :\n",
      "0  ->  2850\n",
      "2850\n",
      "15 :\n",
      "0  ->  3040\n",
      "3040\n",
      "16 :\n",
      "0  ->  3230\n",
      "3230\n",
      "17 :\n",
      "0  ->  3420\n",
      "3420\n",
      "18 :\n",
      "0  ->  3610\n",
      "3610\n",
      "19 :\n",
      "Last\n",
      "0  ->  3921\n",
      "3921\n"
     ]
    }
   ],
   "source": [
    "m = n_data_points\n",
    "n = 0\n",
    "image_sets_dg = []\n",
    "label_sets_dg = []\n",
    "\n",
    "# last\n",
    "#for i in range(0,len(top_images_by_lsa)//m):\n",
    "\n",
    "for i in range((len(top_images_by_dg)//m)):\n",
    "    print(i,\":\")\n",
    "    if (i+1 >= ((len(top_images_by_dg)//m))):\n",
    "        print(\"Last\")\n",
    "        print(0,\" -> \",n+m+(len(top_images_by_dg)%m))\n",
    "        top_images_by_dg_n = np.array(top_images_by_dg[:n+m+(len(top_images_by_dg)%m)])\n",
    "        top_labels_by_dg_n = np.array(top_labels_by_dg[:n+m+(len(top_images_by_dg)%m)])\n",
    "    else:\n",
    "        print(0,\" -> \",m+n)\n",
    "        top_images_by_dg_n = np.array(top_images_by_dg[:n+m])\n",
    "        top_labels_by_dg_n = np.array(top_labels_by_dg[:n+m])\n",
    "    image_sets_dg.append(top_images_by_dg_n)\n",
    "    label_sets_dg.append(top_labels_by_dg_n)\n",
    "    print(len(top_images_by_dg_n))\n",
    "    n += m\n",
    "\n"
   ]
  },
  {
   "cell_type": "code",
   "execution_count": 94,
   "id": "8235ece2",
   "metadata": {},
   "outputs": [
    {
     "name": "stdout",
     "output_type": "stream",
     "text": [
      "C:/Users/fjdur/Documents/upc-july/models/tf_model_25-06\n",
      "0 :\n",
      "Model loaded correctly\n",
      "Model compiled\n",
      "1 :\n",
      "Model loaded correctly\n",
      "Model compiled\n",
      "2 :\n",
      "Model loaded correctly\n",
      "Model compiled\n",
      "3 :\n",
      "Model loaded correctly\n",
      "Model compiled\n",
      "4 :\n",
      "Model loaded correctly\n",
      "Model compiled\n",
      "5 :\n",
      "Model loaded correctly\n",
      "Model compiled\n",
      "6 :\n",
      "Model loaded correctly\n",
      "Model compiled\n",
      "7 :\n",
      "Model loaded correctly\n",
      "Model compiled\n",
      "8 :\n",
      "Model loaded correctly\n",
      "Model compiled\n",
      "9 :\n",
      "Model loaded correctly\n",
      "Model compiled\n",
      "10 :\n",
      "Model loaded correctly\n",
      "Model compiled\n",
      "11 :\n",
      "Model loaded correctly\n",
      "Model compiled\n",
      "12 :\n",
      "Model loaded correctly\n",
      "Model compiled\n",
      "13 :\n",
      "Model loaded correctly\n",
      "Model compiled\n",
      "14 :\n",
      "Model loaded correctly\n",
      "Model compiled\n",
      "15 :\n",
      "Model loaded correctly\n",
      "Model compiled\n",
      "16 :\n",
      "Model loaded correctly\n",
      "Model compiled\n",
      "17 :\n",
      "Model loaded correctly\n",
      "Model compiled\n",
      "18 :\n",
      "Model loaded correctly\n",
      "Model compiled\n",
      "19 :\n",
      "Model loaded correctly\n",
      "Model compiled\n"
     ]
    }
   ],
   "source": [
    "print(model_dir)\n",
    "models_dg = []\n",
    "#for i in range(len(label_sets_lsa)):\n",
    "for i in range(len(label_sets_dg)):\n",
    "    print(i,\":\")\n",
    "    model = utils.My_model(dataset,True,model_dir)\n",
    "    model.compile_model()\n",
    "    models_dg.append(model)"
   ]
  },
  {
   "cell_type": "code",
   "execution_count": 95,
   "id": "1e0ae2d4",
   "metadata": {},
   "outputs": [
    {
     "name": "stdout",
     "output_type": "stream",
     "text": [
      "0\n",
      "Epoch 1/10\n",
      "3/3 [==============================] - 23s 9s/step - loss: 4.0973 - accuracy: 0.1147 - val_loss: 0.6378 - val_accuracy: 0.9074\n",
      "Epoch 2/10\n",
      "3/3 [==============================] - 17s 8s/step - loss: 3.0444 - accuracy: 0.2435 - val_loss: 0.3353 - val_accuracy: 0.9395\n",
      "Epoch 3/10\n",
      "3/3 [==============================] - 18s 8s/step - loss: 2.4542 - accuracy: 0.4038 - val_loss: 0.3711 - val_accuracy: 0.9025\n",
      "Epoch 4/10\n",
      "3/3 [==============================] - 18s 8s/step - loss: 2.2608 - accuracy: 0.4386 - val_loss: 2.9048 - val_accuracy: 0.7321\n",
      "Epoch 5/10\n",
      "3/3 [==============================] - 17s 8s/step - loss: 2.7180 - accuracy: 0.4397 - val_loss: 0.3935 - val_accuracy: 0.9056\n",
      "Epoch 6/10\n",
      "3/3 [==============================] - 17s 8s/step - loss: 1.9104 - accuracy: 0.4935 - val_loss: 0.2279 - val_accuracy: 0.9421\n",
      "Epoch 7/10\n",
      "3/3 [==============================] - 16s 8s/step - loss: 1.6760 - accuracy: 0.5661 - val_loss: 0.4955 - val_accuracy: 0.8709\n",
      "Epoch 8/10\n",
      "3/3 [==============================] - 16s 8s/step - loss: 1.3741 - accuracy: 0.6081 - val_loss: 0.2528 - val_accuracy: 0.9416\n",
      "Epoch 9/10\n",
      "3/3 [==============================] - 16s 8s/step - loss: 1.2950 - accuracy: 0.6276 - val_loss: 0.2750 - val_accuracy: 0.9273\n",
      "Epoch 10/10\n",
      "3/3 [==============================] - 16s 8s/step - loss: 1.1417 - accuracy: 0.6716 - val_loss: 0.2293 - val_accuracy: 0.9405\n",
      "Duration: 0:02:54.946731\n"
     ]
    }
   ],
   "source": [
    "n=0\n",
    "print(n)\n",
    "models_dg[n].fit_model(image_sets_dg[n],label_sets_dg[n],x_val,y_val)\n",
    "n = n+1"
   ]
  },
  {
   "cell_type": "code",
   "execution_count": 96,
   "id": "9111d03b",
   "metadata": {},
   "outputs": [
    {
     "name": "stdout",
     "output_type": "stream",
     "text": [
      "1\n",
      "Epoch 1/10\n",
      "6/6 [==============================] - 28s 4s/step - loss: 3.9580 - accuracy: 0.1150 - val_loss: 0.6423 - val_accuracy: 0.9102\n",
      "Epoch 2/10\n",
      "6/6 [==============================] - 23s 4s/step - loss: 2.6658 - accuracy: 0.3023 - val_loss: 1.1063 - val_accuracy: 0.7742\n",
      "Epoch 3/10\n",
      "6/6 [==============================] - 23s 4s/step - loss: 2.2665 - accuracy: 0.4263 - val_loss: 0.6016 - val_accuracy: 0.8410\n",
      "Epoch 4/10\n",
      "6/6 [==============================] - 23s 4s/step - loss: 1.8054 - accuracy: 0.4972 - val_loss: 0.3815 - val_accuracy: 0.8969\n",
      "Epoch 5/10\n",
      "6/6 [==============================] - 23s 4s/step - loss: 1.7173 - accuracy: 0.4910 - val_loss: 0.3328 - val_accuracy: 0.9168\n",
      "Epoch 6/10\n",
      "6/6 [==============================] - 23s 4s/step - loss: 1.5441 - accuracy: 0.5665 - val_loss: 0.6626 - val_accuracy: 0.8339\n",
      "Epoch 7/10\n",
      "6/6 [==============================] - 23s 4s/step - loss: 1.2728 - accuracy: 0.6661 - val_loss: 0.5023 - val_accuracy: 0.8732\n",
      "Epoch 8/10\n",
      "6/6 [==============================] - 23s 4s/step - loss: 1.3756 - accuracy: 0.5920 - val_loss: 0.5502 - val_accuracy: 0.8704\n",
      "Epoch 9/10\n",
      "6/6 [==============================] - 23s 4s/step - loss: 1.0925 - accuracy: 0.6739 - val_loss: 0.6459 - val_accuracy: 0.8561\n",
      "Epoch 10/10\n",
      "6/6 [==============================] - 23s 4s/step - loss: 0.9929 - accuracy: 0.6962 - val_loss: 0.4089 - val_accuracy: 0.9094\n",
      "Duration: 0:03:54.504743\n"
     ]
    }
   ],
   "source": [
    "print(n)\n",
    "models_dg[n].fit_model(image_sets_dg[n],label_sets_dg[n],x_val,y_val)\n",
    "n = n+1"
   ]
  },
  {
   "cell_type": "code",
   "execution_count": 97,
   "id": "b7e4d9ba",
   "metadata": {},
   "outputs": [
    {
     "name": "stdout",
     "output_type": "stream",
     "text": [
      "2\n",
      "Epoch 1/10\n",
      "9/9 [==============================] - 31s 3s/step - loss: 3.7407 - accuracy: 0.1637 - val_loss: 0.1991 - val_accuracy: 0.9594\n",
      "Epoch 2/10\n",
      "9/9 [==============================] - 25s 3s/step - loss: 2.3650 - accuracy: 0.3758 - val_loss: 0.3675 - val_accuracy: 0.9079\n",
      "Epoch 3/10\n",
      "9/9 [==============================] - 25s 3s/step - loss: 1.8873 - accuracy: 0.4794 - val_loss: 0.4138 - val_accuracy: 0.9010\n",
      "Epoch 4/10\n",
      "9/9 [==============================] - 26s 3s/step - loss: 1.6276 - accuracy: 0.5488 - val_loss: 0.4182 - val_accuracy: 0.8875\n",
      "Epoch 5/10\n",
      "9/9 [==============================] - 25s 3s/step - loss: 1.3009 - accuracy: 0.6044 - val_loss: 0.6079 - val_accuracy: 0.8479\n",
      "Epoch 6/10\n",
      "9/9 [==============================] - 25s 3s/step - loss: 1.2645 - accuracy: 0.6115 - val_loss: 0.4429 - val_accuracy: 0.8824\n",
      "Epoch 7/10\n",
      "9/9 [==============================] - 25s 3s/step - loss: 0.9863 - accuracy: 0.6848 - val_loss: 0.5070 - val_accuracy: 0.8729\n",
      "Epoch 8/10\n",
      "9/9 [==============================] - 25s 3s/step - loss: 0.9872 - accuracy: 0.7139 - val_loss: 0.5778 - val_accuracy: 0.8584\n",
      "Epoch 9/10\n",
      "9/9 [==============================] - 26s 3s/step - loss: 0.7597 - accuracy: 0.7756 - val_loss: 0.4838 - val_accuracy: 0.8757\n",
      "Epoch 10/10\n",
      "9/9 [==============================] - 26s 3s/step - loss: 0.7605 - accuracy: 0.7717 - val_loss: 0.7817 - val_accuracy: 0.8206\n",
      "Duration: 0:04:19.607868\n"
     ]
    }
   ],
   "source": [
    "print(n)\n",
    "models_dg[n].fit_model(image_sets_dg[n],label_sets_dg[n],x_val,y_val)\n",
    "n = n+1"
   ]
  },
  {
   "cell_type": "code",
   "execution_count": 98,
   "id": "42875fb0",
   "metadata": {},
   "outputs": [
    {
     "name": "stdout",
     "output_type": "stream",
     "text": [
      "3\n",
      "Epoch 1/10\n",
      "12/12 [==============================] - 35s 3s/step - loss: 4.0610 - accuracy: 0.1068 - val_loss: 0.1895 - val_accuracy: 0.9559\n",
      "Epoch 2/10\n",
      "12/12 [==============================] - 30s 3s/step - loss: 2.4772 - accuracy: 0.3388 - val_loss: 0.3459 - val_accuracy: 0.9298\n",
      "Epoch 3/10\n",
      "12/12 [==============================] - 30s 3s/step - loss: 1.9247 - accuracy: 0.4939 - val_loss: 0.5223 - val_accuracy: 0.8584\n",
      "Epoch 4/10\n",
      "12/12 [==============================] - 30s 3s/step - loss: 1.5911 - accuracy: 0.5965 - val_loss: 0.5320 - val_accuracy: 0.8538\n",
      "Epoch 5/10\n",
      "12/12 [==============================] - 31s 3s/step - loss: 1.3534 - accuracy: 0.6420 - val_loss: 0.5284 - val_accuracy: 0.8696\n",
      "Epoch 6/10\n",
      "12/12 [==============================] - 31s 3s/step - loss: 1.2139 - accuracy: 0.6637 - val_loss: 0.3819 - val_accuracy: 0.8931\n",
      "Epoch 7/10\n",
      "12/12 [==============================] - 31s 3s/step - loss: 1.0417 - accuracy: 0.7015 - val_loss: 0.6962 - val_accuracy: 0.8270\n",
      "Epoch 8/10\n",
      "12/12 [==============================] - 30s 3s/step - loss: 1.0215 - accuracy: 0.7092 - val_loss: 0.4812 - val_accuracy: 0.8686\n",
      "Epoch 9/10\n",
      "12/12 [==============================] - 31s 3s/step - loss: 0.7663 - accuracy: 0.7410 - val_loss: 0.4037 - val_accuracy: 0.8967\n",
      "Epoch 10/10\n",
      "12/12 [==============================] - 32s 3s/step - loss: 0.7165 - accuracy: 0.7850 - val_loss: 0.4711 - val_accuracy: 0.8694\n",
      "Duration: 0:05:11.814318\n"
     ]
    }
   ],
   "source": [
    "print(n)\n",
    "models_dg[n].fit_model(image_sets_dg[n],label_sets_dg[n],x_val,y_val)\n",
    "n = n+1"
   ]
  },
  {
   "cell_type": "code",
   "execution_count": 99,
   "id": "efd03b2e",
   "metadata": {},
   "outputs": [
    {
     "name": "stdout",
     "output_type": "stream",
     "text": [
      "4\n",
      "Epoch 1/10\n",
      "15/15 [==============================] - 40s 3s/step - loss: 3.7003 - accuracy: 0.1426 - val_loss: 0.2557 - val_accuracy: 0.9398\n",
      "Epoch 2/10\n",
      "15/15 [==============================] - 36s 3s/step - loss: 2.3048 - accuracy: 0.3907 - val_loss: 0.3231 - val_accuracy: 0.9199\n",
      "Epoch 3/10\n",
      "15/15 [==============================] - 38s 3s/step - loss: 1.7476 - accuracy: 0.5182 - val_loss: 0.3613 - val_accuracy: 0.8984\n",
      "Epoch 4/10\n",
      "15/15 [==============================] - 37s 3s/step - loss: 1.4775 - accuracy: 0.5731 - val_loss: 0.4162 - val_accuracy: 0.8941\n",
      "Epoch 5/10\n",
      "15/15 [==============================] - 37s 3s/step - loss: 1.3232 - accuracy: 0.6317 - val_loss: 0.4809 - val_accuracy: 0.8607\n",
      "Epoch 6/10\n",
      "15/15 [==============================] - 37s 3s/step - loss: 1.1601 - accuracy: 0.6750 - val_loss: 0.5155 - val_accuracy: 0.8625\n",
      "Epoch 7/10\n",
      "15/15 [==============================] - 38s 3s/step - loss: 1.0247 - accuracy: 0.7057 - val_loss: 0.3920 - val_accuracy: 0.9097\n",
      "Epoch 8/10\n",
      "15/15 [==============================] - 38s 3s/step - loss: 0.8714 - accuracy: 0.7386 - val_loss: 0.4760 - val_accuracy: 0.8750\n",
      "Epoch 9/10\n",
      "15/15 [==============================] - 37s 3s/step - loss: 0.7302 - accuracy: 0.7855 - val_loss: 0.2823 - val_accuracy: 0.9283\n",
      "Epoch 10/10\n",
      "15/15 [==============================] - 37s 3s/step - loss: 0.6566 - accuracy: 0.8004 - val_loss: 0.7215 - val_accuracy: 0.8380\n",
      "Duration: 0:06:16.531207\n"
     ]
    }
   ],
   "source": [
    "#\n",
    "print(n)\n",
    "models_dg[n].fit_model(image_sets_dg[n],label_sets_dg[n],x_val,y_val)\n",
    "n = n+1"
   ]
  },
  {
   "cell_type": "code",
   "execution_count": 100,
   "id": "94d34929",
   "metadata": {},
   "outputs": [
    {
     "name": "stdout",
     "output_type": "stream",
     "text": [
      "5\n",
      "Epoch 1/10\n",
      "18/18 [==============================] - 45s 2s/step - loss: 3.2804 - accuracy: 0.2106 - val_loss: 0.1382 - val_accuracy: 0.9650\n",
      "Epoch 2/10\n",
      "18/18 [==============================] - 41s 2s/step - loss: 1.9200 - accuracy: 0.4586 - val_loss: 0.1061 - val_accuracy: 0.9686\n",
      "Epoch 3/10\n",
      "18/18 [==============================] - 43s 2s/step - loss: 1.5856 - accuracy: 0.5542 - val_loss: 0.1437 - val_accuracy: 0.9617\n",
      "Epoch 4/10\n",
      "18/18 [==============================] - 42s 2s/step - loss: 1.4034 - accuracy: 0.6022 - val_loss: 0.1449 - val_accuracy: 0.9622\n",
      "Epoch 5/10\n",
      "18/18 [==============================] - 41s 2s/step - loss: 1.1660 - accuracy: 0.6687 - val_loss: 0.1570 - val_accuracy: 0.9599\n",
      "Epoch 6/10\n",
      "18/18 [==============================] - 42s 2s/step - loss: 1.0356 - accuracy: 0.6783 - val_loss: 0.1401 - val_accuracy: 0.9604\n",
      "Epoch 7/10\n",
      "18/18 [==============================] - 42s 2s/step - loss: 0.8839 - accuracy: 0.7363 - val_loss: 0.1581 - val_accuracy: 0.9587\n",
      "Epoch 8/10\n",
      "18/18 [==============================] - 42s 2s/step - loss: 0.7573 - accuracy: 0.7588 - val_loss: 0.1956 - val_accuracy: 0.9551\n",
      "Epoch 9/10\n",
      "18/18 [==============================] - 41s 2s/step - loss: 0.7406 - accuracy: 0.7751 - val_loss: 0.1515 - val_accuracy: 0.9584\n",
      "Epoch 10/10\n",
      "18/18 [==============================] - 41s 2s/step - loss: 0.7131 - accuracy: 0.8045 - val_loss: 0.1501 - val_accuracy: 0.9633\n",
      "Duration: 0:06:58.632533\n"
     ]
    }
   ],
   "source": [
    "print(n)\n",
    "models_dg[n].fit_model(image_sets_dg[n],label_sets_dg[n],x_val,y_val)\n",
    "n = n+1"
   ]
  },
  {
   "cell_type": "code",
   "execution_count": 101,
   "id": "7c340580",
   "metadata": {},
   "outputs": [
    {
     "name": "stdout",
     "output_type": "stream",
     "text": [
      "6\n",
      "Epoch 1/10\n",
      "21/21 [==============================] - 48s 2s/step - loss: 3.2827 - accuracy: 0.2249 - val_loss: 0.1008 - val_accuracy: 0.9747\n",
      "Epoch 2/10\n",
      "21/21 [==============================] - 45s 2s/step - loss: 1.8793 - accuracy: 0.5083 - val_loss: 0.0817 - val_accuracy: 0.9786\n",
      "Epoch 3/10\n",
      "21/21 [==============================] - 44s 2s/step - loss: 1.5294 - accuracy: 0.5870 - val_loss: 0.0780 - val_accuracy: 0.9763\n",
      "Epoch 4/10\n",
      "21/21 [==============================] - 45s 2s/step - loss: 1.2979 - accuracy: 0.6199 - val_loss: 0.0884 - val_accuracy: 0.9786\n",
      "Epoch 5/10\n",
      "21/21 [==============================] - 44s 2s/step - loss: 1.1505 - accuracy: 0.6760 - val_loss: 0.1108 - val_accuracy: 0.9707\n",
      "Epoch 6/10\n",
      "21/21 [==============================] - 46s 2s/step - loss: 0.9294 - accuracy: 0.7283 - val_loss: 0.0785 - val_accuracy: 0.9775\n",
      "Epoch 7/10\n",
      "21/21 [==============================] - 45s 2s/step - loss: 0.8995 - accuracy: 0.7325 - val_loss: 0.0706 - val_accuracy: 0.9804\n",
      "Epoch 8/10\n",
      "21/21 [==============================] - 45s 2s/step - loss: 0.7442 - accuracy: 0.7965 - val_loss: 0.1157 - val_accuracy: 0.9714\n",
      "Epoch 9/10\n",
      "21/21 [==============================] - 45s 2s/step - loss: 0.7418 - accuracy: 0.7823 - val_loss: 0.0814 - val_accuracy: 0.9806\n",
      "Epoch 10/10\n",
      "21/21 [==============================] - 45s 2s/step - loss: 0.5869 - accuracy: 0.8114 - val_loss: 0.0789 - val_accuracy: 0.9793\n",
      "Duration: 0:07:33.059772\n"
     ]
    }
   ],
   "source": [
    "print(n)\n",
    "models_dg[n].fit_model(image_sets_dg[n],label_sets_dg[n],x_val,y_val)\n",
    "n = n+1"
   ]
  },
  {
   "cell_type": "code",
   "execution_count": 102,
   "id": "658a655f",
   "metadata": {},
   "outputs": [
    {
     "name": "stdout",
     "output_type": "stream",
     "text": [
      "7\n",
      "Epoch 1/10\n",
      "24/24 [==============================] - 52s 2s/step - loss: 2.9384 - accuracy: 0.3031 - val_loss: 0.0944 - val_accuracy: 0.9832\n",
      "Epoch 2/10\n",
      "24/24 [==============================] - 49s 2s/step - loss: 1.7035 - accuracy: 0.5051 - val_loss: 0.0507 - val_accuracy: 0.9872\n",
      "Epoch 3/10\n",
      "24/24 [==============================] - 50s 2s/step - loss: 1.4298 - accuracy: 0.5932 - val_loss: 0.0505 - val_accuracy: 0.9880\n",
      "Epoch 4/10\n",
      "24/24 [==============================] - 50s 2s/step - loss: 1.0710 - accuracy: 0.6857 - val_loss: 0.0493 - val_accuracy: 0.9865\n",
      "Epoch 5/10\n",
      "24/24 [==============================] - 49s 2s/step - loss: 0.9520 - accuracy: 0.7169 - val_loss: 0.0561 - val_accuracy: 0.9857\n",
      "Epoch 6/10\n",
      "24/24 [==============================] - 49s 2s/step - loss: 0.7976 - accuracy: 0.7563 - val_loss: 0.0678 - val_accuracy: 0.9796\n",
      "Epoch 7/10\n",
      "24/24 [==============================] - 49s 2s/step - loss: 0.7798 - accuracy: 0.7744 - val_loss: 0.0594 - val_accuracy: 0.9834\n",
      "Epoch 8/10\n",
      "24/24 [==============================] - 49s 2s/step - loss: 0.6592 - accuracy: 0.8019 - val_loss: 0.0668 - val_accuracy: 0.9811\n",
      "Epoch 9/10\n",
      "24/24 [==============================] - 49s 2s/step - loss: 0.6091 - accuracy: 0.8237 - val_loss: 0.0710 - val_accuracy: 0.9849\n",
      "Epoch 10/10\n",
      "24/24 [==============================] - 49s 2s/step - loss: 0.5709 - accuracy: 0.8384 - val_loss: 0.0763 - val_accuracy: 0.9796\n",
      "Duration: 0:08:13.682874\n"
     ]
    }
   ],
   "source": [
    "print(n)\n",
    "models_dg[n].fit_model(image_sets_dg[n],label_sets_dg[n],x_val,y_val)\n",
    "n = n+1"
   ]
  },
  {
   "cell_type": "code",
   "execution_count": 103,
   "id": "d53b3893",
   "metadata": {},
   "outputs": [
    {
     "name": "stdout",
     "output_type": "stream",
     "text": [
      "8\n",
      "Epoch 1/10\n",
      "27/27 [==============================] - 58s 2s/step - loss: 2.6307 - accuracy: 0.3556 - val_loss: 0.0367 - val_accuracy: 0.9900\n",
      "Epoch 2/10\n",
      "27/27 [==============================] - 52s 2s/step - loss: 1.6364 - accuracy: 0.5639 - val_loss: 0.0418 - val_accuracy: 0.9893\n",
      "Epoch 3/10\n",
      "27/27 [==============================] - 54s 2s/step - loss: 1.2331 - accuracy: 0.6496 - val_loss: 0.0439 - val_accuracy: 0.9895\n",
      "Epoch 4/10\n",
      "27/27 [==============================] - 53s 2s/step - loss: 1.0754 - accuracy: 0.6831 - val_loss: 0.0622 - val_accuracy: 0.9826\n",
      "Epoch 5/10\n",
      "27/27 [==============================] - 55s 2s/step - loss: 0.8468 - accuracy: 0.7427 - val_loss: 0.0618 - val_accuracy: 0.9870\n",
      "Epoch 6/10\n",
      "27/27 [==============================] - 55s 2s/step - loss: 0.7691 - accuracy: 0.7800 - val_loss: 0.0561 - val_accuracy: 0.9867\n",
      "Epoch 7/10\n",
      "27/27 [==============================] - 55s 2s/step - loss: 0.6800 - accuracy: 0.7977 - val_loss: 0.0381 - val_accuracy: 0.9906\n",
      "Epoch 8/10\n",
      "27/27 [==============================] - 54s 2s/step - loss: 0.6257 - accuracy: 0.8171 - val_loss: 0.0488 - val_accuracy: 0.9890\n",
      "Epoch 9/10\n",
      "27/27 [==============================] - 55s 2s/step - loss: 0.5542 - accuracy: 0.8197 - val_loss: 0.0545 - val_accuracy: 0.9849\n",
      "Epoch 10/10\n",
      "27/27 [==============================] - 54s 2s/step - loss: 0.5258 - accuracy: 0.8382 - val_loss: 0.0417 - val_accuracy: 0.9926\n",
      "Duration: 0:09:05.340385\n"
     ]
    }
   ],
   "source": [
    "print(n)\n",
    "models_dg[n].fit_model(image_sets_dg[n],label_sets_dg[n],x_val,y_val)\n",
    "n = n+1"
   ]
  },
  {
   "cell_type": "code",
   "execution_count": 104,
   "id": "d5a1e3c5",
   "metadata": {},
   "outputs": [
    {
     "name": "stdout",
     "output_type": "stream",
     "text": [
      "9\n",
      "Epoch 1/10\n",
      "30/30 [==============================] - 63s 2s/step - loss: 2.6218 - accuracy: 0.3939 - val_loss: 0.0486 - val_accuracy: 0.9883\n",
      "Epoch 2/10\n",
      "30/30 [==============================] - 60s 2s/step - loss: 1.3874 - accuracy: 0.6141 - val_loss: 0.0478 - val_accuracy: 0.9888\n",
      "Epoch 3/10\n",
      "30/30 [==============================] - 59s 2s/step - loss: 1.2386 - accuracy: 0.6526 - val_loss: 0.0570 - val_accuracy: 0.9857\n",
      "Epoch 4/10\n",
      "30/30 [==============================] - 58s 2s/step - loss: 0.9817 - accuracy: 0.7256 - val_loss: 0.0392 - val_accuracy: 0.9895\n",
      "Epoch 5/10\n",
      "30/30 [==============================] - 60s 2s/step - loss: 0.8129 - accuracy: 0.7606 - val_loss: 0.0549 - val_accuracy: 0.9857\n",
      "Epoch 6/10\n",
      "30/30 [==============================] - 60s 2s/step - loss: 0.7788 - accuracy: 0.7779 - val_loss: 0.0568 - val_accuracy: 0.9839\n",
      "Epoch 7/10\n",
      "30/30 [==============================] - 57s 2s/step - loss: 0.6271 - accuracy: 0.8154 - val_loss: 0.0520 - val_accuracy: 0.9844\n",
      "Epoch 8/10\n",
      "30/30 [==============================] - 56s 2s/step - loss: 0.5895 - accuracy: 0.8284 - val_loss: 0.0534 - val_accuracy: 0.9865\n",
      "Epoch 9/10\n",
      "30/30 [==============================] - 60s 2s/step - loss: 0.5337 - accuracy: 0.8438 - val_loss: 0.0417 - val_accuracy: 0.9895\n",
      "Epoch 10/10\n",
      "30/30 [==============================] - 59s 2s/step - loss: 0.5433 - accuracy: 0.8505 - val_loss: 0.0580 - val_accuracy: 0.9826\n",
      "Duration: 0:09:53.764347\n"
     ]
    }
   ],
   "source": [
    "#\n",
    "print(n)\n",
    "models_dg[n].fit_model(image_sets_dg[n],label_sets_dg[n],x_val,y_val)\n",
    "n = n+1"
   ]
  },
  {
   "cell_type": "code",
   "execution_count": 105,
   "id": "a3a38f77",
   "metadata": {},
   "outputs": [
    {
     "name": "stdout",
     "output_type": "stream",
     "text": [
      "10\n",
      "Epoch 1/10\n",
      "33/33 [==============================] - 70s 2s/step - loss: 2.1706 - accuracy: 0.5071 - val_loss: 0.0368 - val_accuracy: 0.9908\n",
      "Epoch 2/10\n",
      "33/33 [==============================] - 65s 2s/step - loss: 1.2302 - accuracy: 0.6635 - val_loss: 0.0741 - val_accuracy: 0.9809\n",
      "Epoch 3/10\n",
      "33/33 [==============================] - 66s 2s/step - loss: 1.0893 - accuracy: 0.6834 - val_loss: 0.0417 - val_accuracy: 0.9898\n",
      "Epoch 4/10\n",
      "33/33 [==============================] - 66s 2s/step - loss: 0.8455 - accuracy: 0.7449 - val_loss: 0.0808 - val_accuracy: 0.9819\n",
      "Epoch 5/10\n",
      "33/33 [==============================] - 63s 2s/step - loss: 0.6725 - accuracy: 0.8049 - val_loss: 0.0372 - val_accuracy: 0.9918\n",
      "Epoch 6/10\n",
      "33/33 [==============================] - 65s 2s/step - loss: 0.6485 - accuracy: 0.8108 - val_loss: 0.0430 - val_accuracy: 0.9895\n",
      "Epoch 7/10\n",
      "33/33 [==============================] - 65s 2s/step - loss: 0.5989 - accuracy: 0.8082 - val_loss: 0.0370 - val_accuracy: 0.9906\n",
      "Epoch 8/10\n",
      "33/33 [==============================] - 65s 2s/step - loss: 0.5518 - accuracy: 0.8250 - val_loss: 0.0336 - val_accuracy: 0.9916\n",
      "Epoch 9/10\n",
      "33/33 [==============================] - 62s 2s/step - loss: 0.4549 - accuracy: 0.8659 - val_loss: 0.0386 - val_accuracy: 0.9900\n",
      "Epoch 10/10\n",
      "33/33 [==============================] - 64s 2s/step - loss: 0.4085 - accuracy: 0.8796 - val_loss: 0.0502 - val_accuracy: 0.9878\n",
      "Duration: 0:10:50.848001\n"
     ]
    }
   ],
   "source": [
    "print(n)\n",
    "models_dg[n].fit_model(image_sets_dg[n],label_sets_dg[n],x_val,y_val)\n",
    "n = n+1"
   ]
  },
  {
   "cell_type": "code",
   "execution_count": 106,
   "id": "a1d9ca2b",
   "metadata": {},
   "outputs": [
    {
     "name": "stdout",
     "output_type": "stream",
     "text": [
      "11\n",
      "Epoch 1/10\n",
      "36/36 [==============================] - 76s 2s/step - loss: 1.8773 - accuracy: 0.5507 - val_loss: 0.0475 - val_accuracy: 0.9878\n",
      "Epoch 2/10\n",
      "36/36 [==============================] - 70s 2s/step - loss: 1.1114 - accuracy: 0.6865 - val_loss: 0.0423 - val_accuracy: 0.9903\n",
      "Epoch 3/10\n",
      "36/36 [==============================] - 73s 2s/step - loss: 0.9256 - accuracy: 0.7277 - val_loss: 0.0422 - val_accuracy: 0.9893\n",
      "Epoch 4/10\n",
      "36/36 [==============================] - 73s 2s/step - loss: 0.8050 - accuracy: 0.7667 - val_loss: 0.0346 - val_accuracy: 0.9931\n",
      "Epoch 5/10\n",
      "36/36 [==============================] - 72s 2s/step - loss: 0.6853 - accuracy: 0.7998 - val_loss: 0.0442 - val_accuracy: 0.9906\n",
      "Epoch 6/10\n",
      "36/36 [==============================] - 73s 2s/step - loss: 0.5855 - accuracy: 0.8265 - val_loss: 0.0403 - val_accuracy: 0.9895\n",
      "Epoch 7/10\n",
      "36/36 [==============================] - 71s 2s/step - loss: 0.5178 - accuracy: 0.8457 - val_loss: 0.0420 - val_accuracy: 0.9875\n",
      "Epoch 8/10\n",
      "36/36 [==============================] - 74s 2s/step - loss: 0.4826 - accuracy: 0.8557 - val_loss: 0.0378 - val_accuracy: 0.9885\n",
      "Epoch 9/10\n",
      "36/36 [==============================] - 72s 2s/step - loss: 0.3887 - accuracy: 0.8811 - val_loss: 0.0474 - val_accuracy: 0.9890\n",
      "Epoch 10/10\n",
      "36/36 [==============================] - 73s 2s/step - loss: 0.3729 - accuracy: 0.8867 - val_loss: 0.0420 - val_accuracy: 0.9900\n",
      "Duration: 0:12:07.290409\n"
     ]
    }
   ],
   "source": [
    "print(n)\n",
    "models_dg[n].fit_model(image_sets_dg[n],label_sets_dg[n],x_val,y_val)\n",
    "n = n+1"
   ]
  },
  {
   "cell_type": "code",
   "execution_count": 107,
   "id": "0df0a46c",
   "metadata": {},
   "outputs": [
    {
     "name": "stdout",
     "output_type": "stream",
     "text": [
      "12\n",
      "Epoch 1/10\n",
      "39/39 [==============================] - 86s 2s/step - loss: 1.9143 - accuracy: 0.5495 - val_loss: 0.0579 - val_accuracy: 0.9852\n",
      "Epoch 2/10\n",
      "39/39 [==============================] - 81s 2s/step - loss: 1.1206 - accuracy: 0.7000 - val_loss: 0.0370 - val_accuracy: 0.9911\n",
      "Epoch 3/10\n",
      "39/39 [==============================] - 82s 2s/step - loss: 0.8823 - accuracy: 0.7504 - val_loss: 0.0418 - val_accuracy: 0.9900\n",
      "Epoch 4/10\n",
      "39/39 [==============================] - 81s 2s/step - loss: 0.7565 - accuracy: 0.7847 - val_loss: 0.0360 - val_accuracy: 0.9913\n",
      "Epoch 5/10\n",
      "39/39 [==============================] - 83s 2s/step - loss: 0.6408 - accuracy: 0.8207 - val_loss: 0.0548 - val_accuracy: 0.9849\n",
      "Epoch 6/10\n",
      "39/39 [==============================] - 80s 2s/step - loss: 0.5842 - accuracy: 0.8285 - val_loss: 0.0393 - val_accuracy: 0.9895\n",
      "Epoch 7/10\n",
      "39/39 [==============================] - 78s 2s/step - loss: 0.5559 - accuracy: 0.8409 - val_loss: 0.0406 - val_accuracy: 0.9893\n",
      "Epoch 8/10\n",
      "39/39 [==============================] - 82s 2s/step - loss: 0.4237 - accuracy: 0.8711 - val_loss: 0.0711 - val_accuracy: 0.9814\n",
      "Epoch 9/10\n",
      "39/39 [==============================] - 80s 2s/step - loss: 0.3938 - accuracy: 0.8744 - val_loss: 0.0371 - val_accuracy: 0.9890\n",
      "Epoch 10/10\n",
      "39/39 [==============================] - 85s 2s/step - loss: 0.3359 - accuracy: 0.9074 - val_loss: 0.0418 - val_accuracy: 0.9900\n",
      "Duration: 0:13:39.851643\n"
     ]
    }
   ],
   "source": [
    "print(n)\n",
    "models_dg[n].fit_model(image_sets_dg[n],label_sets_dg[n],x_val,y_val)\n",
    "n = n+1"
   ]
  },
  {
   "cell_type": "code",
   "execution_count": 108,
   "id": "b156eb49",
   "metadata": {},
   "outputs": [
    {
     "name": "stdout",
     "output_type": "stream",
     "text": [
      "13\n",
      "Epoch 1/10\n",
      "42/42 [==============================] - 97s 2s/step - loss: 1.8268 - accuracy: 0.5726 - val_loss: 0.0292 - val_accuracy: 0.9926\n",
      "Epoch 2/10\n",
      "42/42 [==============================] - 93s 2s/step - loss: 1.0148 - accuracy: 0.7232 - val_loss: 0.0493 - val_accuracy: 0.9878\n",
      "Epoch 3/10\n",
      "42/42 [==============================] - 94s 2s/step - loss: 0.7865 - accuracy: 0.7712 - val_loss: 0.0490 - val_accuracy: 0.9895\n",
      "Epoch 4/10\n",
      "42/42 [==============================] - 92s 2s/step - loss: 0.6291 - accuracy: 0.8056 - val_loss: 0.0421 - val_accuracy: 0.9890\n",
      "Epoch 5/10\n",
      "42/42 [==============================] - 91s 2s/step - loss: 0.5802 - accuracy: 0.8334 - val_loss: 0.0506 - val_accuracy: 0.9885\n",
      "Epoch 6/10\n",
      "42/42 [==============================] - 90s 2s/step - loss: 0.5534 - accuracy: 0.8374 - val_loss: 0.0549 - val_accuracy: 0.9875\n",
      "Epoch 7/10\n",
      "42/42 [==============================] - 89s 2s/step - loss: 0.4722 - accuracy: 0.8596 - val_loss: 0.0431 - val_accuracy: 0.9878\n",
      "Epoch 8/10\n",
      "42/42 [==============================] - 90s 2s/step - loss: 0.4704 - accuracy: 0.8669 - val_loss: 0.0469 - val_accuracy: 0.9888\n",
      "Epoch 9/10\n",
      "42/42 [==============================] - 86s 2s/step - loss: 0.4012 - accuracy: 0.8800 - val_loss: 0.0409 - val_accuracy: 0.9908\n",
      "Epoch 10/10\n",
      "42/42 [==============================] - 90s 2s/step - loss: 0.3391 - accuracy: 0.9038 - val_loss: 0.0507 - val_accuracy: 0.9888\n",
      "Duration: 0:15:11.933661\n"
     ]
    }
   ],
   "source": [
    "print(n)\n",
    "models_dg[n].fit_model(image_sets_dg[n],label_sets_dg[n],x_val,y_val)\n",
    "n = n+1"
   ]
  },
  {
   "cell_type": "code",
   "execution_count": 109,
   "id": "c002d96d",
   "metadata": {},
   "outputs": [
    {
     "name": "stdout",
     "output_type": "stream",
     "text": [
      "14\n",
      "Epoch 1/10\n",
      "45/45 [==============================] - 106s 2s/step - loss: 1.7131 - accuracy: 0.6184 - val_loss: 0.0344 - val_accuracy: 0.9918\n",
      "Epoch 2/10\n",
      "45/45 [==============================] - 111s 2s/step - loss: 0.9326 - accuracy: 0.7518 - val_loss: 0.0563 - val_accuracy: 0.9867\n",
      "Epoch 3/10\n",
      "45/45 [==============================] - 108s 2s/step - loss: 0.7257 - accuracy: 0.7999 - val_loss: 0.0529 - val_accuracy: 0.9865\n",
      "Epoch 4/10\n",
      "45/45 [==============================] - 106s 2s/step - loss: 0.6477 - accuracy: 0.8100 - val_loss: 0.1604 - val_accuracy: 0.9681\n",
      "Epoch 5/10\n",
      "45/45 [==============================] - 104s 2s/step - loss: 0.5435 - accuracy: 0.8379 - val_loss: 0.0291 - val_accuracy: 0.9936\n",
      "Epoch 6/10\n",
      "45/45 [==============================] - 103s 2s/step - loss: 0.4598 - accuracy: 0.8594 - val_loss: 0.0532 - val_accuracy: 0.9888\n",
      "Epoch 7/10\n",
      "45/45 [==============================] - 107s 2s/step - loss: 0.4161 - accuracy: 0.8801 - val_loss: 0.0319 - val_accuracy: 0.9911\n",
      "Epoch 8/10\n",
      "45/45 [==============================] - 97s 2s/step - loss: 0.4430 - accuracy: 0.8740 - val_loss: 0.0705 - val_accuracy: 0.9857\n",
      "Epoch 9/10\n",
      "45/45 [==============================] - 104s 2s/step - loss: 0.3257 - accuracy: 0.9036 - val_loss: 0.0461 - val_accuracy: 0.9898\n",
      "Epoch 10/10\n",
      "45/45 [==============================] - 107s 2s/step - loss: 0.2915 - accuracy: 0.9083 - val_loss: 0.0341 - val_accuracy: 0.9918\n",
      "Duration: 0:17:32.189768\n"
     ]
    }
   ],
   "source": [
    "#\n",
    "print(n)\n",
    "models_dg[n].fit_model(image_sets_dg[n],label_sets_dg[n],x_val,y_val)\n",
    "n = n+1"
   ]
  },
  {
   "cell_type": "code",
   "execution_count": 110,
   "id": "f86550a9",
   "metadata": {},
   "outputs": [
    {
     "name": "stdout",
     "output_type": "stream",
     "text": [
      "15\n",
      "Epoch 1/10\n",
      "48/48 [==============================] - 118s 2s/step - loss: 1.4954 - accuracy: 0.6437 - val_loss: 0.0381 - val_accuracy: 0.9893\n",
      "Epoch 2/10\n",
      "48/48 [==============================] - 110s 2s/step - loss: 0.8859 - accuracy: 0.7521 - val_loss: 0.0958 - val_accuracy: 0.9816\n",
      "Epoch 3/10\n",
      "48/48 [==============================] - 114s 2s/step - loss: 0.7363 - accuracy: 0.8000 - val_loss: 0.0749 - val_accuracy: 0.9842\n",
      "Epoch 4/10\n",
      "48/48 [==============================] - 119s 3s/step - loss: 0.6063 - accuracy: 0.8231 - val_loss: 0.0715 - val_accuracy: 0.9832\n",
      "Epoch 5/10\n",
      "48/48 [==============================] - 116s 2s/step - loss: 0.5137 - accuracy: 0.8494 - val_loss: 0.0479 - val_accuracy: 0.9870\n",
      "Epoch 6/10\n",
      "48/48 [==============================] - 115s 2s/step - loss: 0.4539 - accuracy: 0.8592 - val_loss: 0.0385 - val_accuracy: 0.9906\n",
      "Epoch 7/10\n",
      "48/48 [==============================] - 122s 3s/step - loss: 0.3852 - accuracy: 0.8749 - val_loss: 0.0492 - val_accuracy: 0.9870\n",
      "Epoch 8/10\n",
      "48/48 [==============================] - 116s 2s/step - loss: 0.3748 - accuracy: 0.8936 - val_loss: 0.0507 - val_accuracy: 0.9898\n",
      "Epoch 9/10\n",
      "48/48 [==============================] - 122s 3s/step - loss: 0.3228 - accuracy: 0.8924 - val_loss: 0.0366 - val_accuracy: 0.9921\n",
      "Epoch 10/10\n",
      "48/48 [==============================] - 121s 3s/step - loss: 0.2954 - accuracy: 0.9128 - val_loss: 0.0576 - val_accuracy: 0.9865\n",
      "Duration: 0:19:33.365442\n"
     ]
    }
   ],
   "source": [
    "print(n)\n",
    "models_dg[n].fit_model(image_sets_dg[n],label_sets_dg[n],x_val,y_val)\n",
    "n = n+1"
   ]
  },
  {
   "cell_type": "code",
   "execution_count": 111,
   "id": "8d58ce7e",
   "metadata": {},
   "outputs": [
    {
     "name": "stdout",
     "output_type": "stream",
     "text": [
      "16\n",
      "Epoch 1/10\n",
      "51/51 [==============================] - 141s 3s/step - loss: 1.4409 - accuracy: 0.6719 - val_loss: 0.0373 - val_accuracy: 0.9906\n",
      "Epoch 2/10\n",
      "51/51 [==============================] - 131s 3s/step - loss: 0.7759 - accuracy: 0.7875 - val_loss: 0.0468 - val_accuracy: 0.9857\n",
      "Epoch 3/10\n",
      "51/51 [==============================] - 127s 2s/step - loss: 0.6183 - accuracy: 0.8210 - val_loss: 0.0470 - val_accuracy: 0.9888\n",
      "Epoch 4/10\n",
      "51/51 [==============================] - 132s 3s/step - loss: 0.5240 - accuracy: 0.8453 - val_loss: 0.0556 - val_accuracy: 0.9885\n",
      "Epoch 5/10\n",
      "51/51 [==============================] - 129s 3s/step - loss: 0.4836 - accuracy: 0.8610 - val_loss: 0.0429 - val_accuracy: 0.9903\n",
      "Epoch 6/10\n",
      "51/51 [==============================] - 129s 3s/step - loss: 0.4378 - accuracy: 0.8627 - val_loss: 0.0614 - val_accuracy: 0.9865\n",
      "Epoch 7/10\n",
      "51/51 [==============================] - 132s 3s/step - loss: 0.3829 - accuracy: 0.8870 - val_loss: 0.0397 - val_accuracy: 0.9913\n",
      "Epoch 8/10\n",
      "51/51 [==============================] - 138s 3s/step - loss: 0.3141 - accuracy: 0.9062 - val_loss: 0.0378 - val_accuracy: 0.9913\n",
      "Epoch 9/10\n",
      "51/51 [==============================] - 128s 3s/step - loss: 0.2797 - accuracy: 0.9188 - val_loss: 0.0754 - val_accuracy: 0.9834\n",
      "Epoch 10/10\n",
      "51/51 [==============================] - 131s 3s/step - loss: 0.3365 - accuracy: 0.9068 - val_loss: 0.0525 - val_accuracy: 0.9900\n",
      "Duration: 0:21:58.072538\n"
     ]
    }
   ],
   "source": [
    "print(n)\n",
    "models_dg[n].fit_model(image_sets_dg[n],label_sets_dg[n],x_val,y_val)\n",
    "n = n+1"
   ]
  },
  {
   "cell_type": "code",
   "execution_count": 112,
   "id": "7091e284",
   "metadata": {},
   "outputs": [
    {
     "name": "stdout",
     "output_type": "stream",
     "text": [
      "17\n",
      "Epoch 1/10\n",
      "54/54 [==============================] - 157s 3s/step - loss: 1.4192 - accuracy: 0.6677 - val_loss: 0.0603 - val_accuracy: 0.9855\n",
      "Epoch 2/10\n",
      "54/54 [==============================] - 147s 3s/step - loss: 0.7892 - accuracy: 0.7798 - val_loss: 0.0306 - val_accuracy: 0.9911\n",
      "Epoch 3/10\n",
      "54/54 [==============================] - 152s 3s/step - loss: 0.6417 - accuracy: 0.8174 - val_loss: 0.0499 - val_accuracy: 0.9847\n",
      "Epoch 4/10\n",
      "54/54 [==============================] - 148s 3s/step - loss: 0.5486 - accuracy: 0.8451 - val_loss: 0.0313 - val_accuracy: 0.9900\n",
      "Epoch 5/10\n",
      "54/54 [==============================] - 152s 3s/step - loss: 0.4175 - accuracy: 0.8715 - val_loss: 0.0459 - val_accuracy: 0.9883\n",
      "Epoch 6/10\n",
      "54/54 [==============================] - 144s 3s/step - loss: 0.3878 - accuracy: 0.8785 - val_loss: 0.0437 - val_accuracy: 0.9888\n",
      "Epoch 7/10\n",
      "54/54 [==============================] - 146s 3s/step - loss: 0.3661 - accuracy: 0.8905 - val_loss: 0.0290 - val_accuracy: 0.9929\n",
      "Epoch 8/10\n",
      "54/54 [==============================] - 136s 3s/step - loss: 0.3121 - accuracy: 0.9099 - val_loss: 0.0356 - val_accuracy: 0.9903\n",
      "Epoch 9/10\n",
      "54/54 [==============================] - 145s 3s/step - loss: 0.2914 - accuracy: 0.9119 - val_loss: 0.0526 - val_accuracy: 0.9867\n",
      "Epoch 10/10\n",
      "54/54 [==============================] - 149s 3s/step - loss: 0.2380 - accuracy: 0.9252 - val_loss: 0.0434 - val_accuracy: 0.9875\n",
      "Duration: 0:24:36.439240\n"
     ]
    }
   ],
   "source": [
    "print(n)\n",
    "models_dg[n].fit_model(image_sets_dg[n],label_sets_dg[n],x_val,y_val)\n",
    "n = n+1"
   ]
  },
  {
   "cell_type": "code",
   "execution_count": 113,
   "id": "96e79448",
   "metadata": {},
   "outputs": [
    {
     "name": "stdout",
     "output_type": "stream",
     "text": [
      "18\n",
      "Epoch 1/10\n",
      "57/57 [==============================] - 167s 3s/step - loss: 1.3415 - accuracy: 0.6940 - val_loss: 0.0403 - val_accuracy: 0.9906\n",
      "Epoch 2/10\n",
      "57/57 [==============================] - 163s 3s/step - loss: 0.7402 - accuracy: 0.8007 - val_loss: 0.0444 - val_accuracy: 0.9878\n",
      "Epoch 3/10\n",
      "57/57 [==============================] - 156s 3s/step - loss: 0.6256 - accuracy: 0.8201 - val_loss: 0.0849 - val_accuracy: 0.9801\n",
      "Epoch 4/10\n",
      "57/57 [==============================] - 153s 3s/step - loss: 0.5248 - accuracy: 0.8521 - val_loss: 0.0671 - val_accuracy: 0.9847\n",
      "Epoch 5/10\n",
      "57/57 [==============================] - 158s 3s/step - loss: 0.4268 - accuracy: 0.8770 - val_loss: 0.0381 - val_accuracy: 0.9903\n",
      "Epoch 6/10\n",
      "57/57 [==============================] - 162s 3s/step - loss: 0.3696 - accuracy: 0.8955 - val_loss: 0.0598 - val_accuracy: 0.9832\n",
      "Epoch 7/10\n",
      "57/57 [==============================] - 160s 3s/step - loss: 0.3551 - accuracy: 0.8942 - val_loss: 0.0402 - val_accuracy: 0.9893\n",
      "Epoch 8/10\n",
      "57/57 [==============================] - 150s 3s/step - loss: 0.3465 - accuracy: 0.8986 - val_loss: 0.0360 - val_accuracy: 0.9900\n",
      "Epoch 9/10\n",
      "57/57 [==============================] - 162s 3s/step - loss: 0.2710 - accuracy: 0.9134 - val_loss: 0.0477 - val_accuracy: 0.9885\n",
      "Epoch 10/10\n",
      "57/57 [==============================] - 158s 3s/step - loss: 0.2727 - accuracy: 0.9189 - val_loss: 0.0497 - val_accuracy: 0.9900\n",
      "Duration: 0:26:30.250046\n"
     ]
    }
   ],
   "source": [
    "print(n)\n",
    "models_dg[n].fit_model(image_sets_dg[n],label_sets_dg[n],x_val,y_val)\n",
    "n = n+1"
   ]
  },
  {
   "cell_type": "code",
   "execution_count": 114,
   "id": "9b3b88cb",
   "metadata": {},
   "outputs": [
    {
     "name": "stdout",
     "output_type": "stream",
     "text": [
      "19\n",
      "Epoch 1/10\n",
      "62/62 [==============================] - 185s 3s/step - loss: 1.1404 - accuracy: 0.7255 - val_loss: 0.0487 - val_accuracy: 0.9870\n",
      "Epoch 2/10\n",
      "62/62 [==============================] - 192s 3s/step - loss: 0.6975 - accuracy: 0.8082 - val_loss: 0.0629 - val_accuracy: 0.9798\n",
      "Epoch 3/10\n",
      "62/62 [==============================] - 186s 3s/step - loss: 0.5691 - accuracy: 0.8486 - val_loss: 0.0416 - val_accuracy: 0.9893\n",
      "Epoch 4/10\n",
      "62/62 [==============================] - 186s 3s/step - loss: 0.4431 - accuracy: 0.8724 - val_loss: 0.0879 - val_accuracy: 0.9826\n",
      "Epoch 5/10\n",
      "62/62 [==============================] - 181s 3s/step - loss: 0.3967 - accuracy: 0.8860 - val_loss: 0.0512 - val_accuracy: 0.9870\n",
      "Epoch 6/10\n",
      "62/62 [==============================] - 181s 3s/step - loss: 0.3712 - accuracy: 0.8919 - val_loss: 0.0323 - val_accuracy: 0.9923\n",
      "Epoch 7/10\n",
      "62/62 [==============================] - 189s 3s/step - loss: 0.2860 - accuracy: 0.9166 - val_loss: 0.0386 - val_accuracy: 0.9903\n",
      "Epoch 8/10\n",
      "62/62 [==============================] - 181s 3s/step - loss: 0.2935 - accuracy: 0.9129 - val_loss: 0.1305 - val_accuracy: 0.9645\n",
      "Epoch 9/10\n",
      "62/62 [==============================] - 186s 3s/step - loss: 0.3008 - accuracy: 0.9108 - val_loss: 0.0378 - val_accuracy: 0.9885\n",
      "Epoch 10/10\n",
      "62/62 [==============================] - 178s 3s/step - loss: 0.2474 - accuracy: 0.9259 - val_loss: 0.0416 - val_accuracy: 0.9918\n",
      "Duration: 0:30:44.950044\n"
     ]
    }
   ],
   "source": [
    "#\n",
    "print(n)\n",
    "models_dg[n].fit_model(image_sets_dg[n],label_sets_dg[n],x_val,y_val)\n",
    "n = n+1"
   ]
  },
  {
   "cell_type": "code",
   "execution_count": 115,
   "id": "822aa540",
   "metadata": {},
   "outputs": [
    {
     "name": "stdout",
     "output_type": "stream",
     "text": [
      "INFO:tensorflow:Assets written to: D:/models/aug_22/gtsrb/C3/e2/gtsrb_model_c3_aug_dg_e2_0\\assets\n",
      "Model has been saved\n",
      "INFO:tensorflow:Assets written to: D:/models/aug_22/gtsrb/C3/e2/gtsrb_model_c3_aug_dg_e2_1\\assets\n",
      "Model has been saved\n",
      "INFO:tensorflow:Assets written to: D:/models/aug_22/gtsrb/C3/e2/gtsrb_model_c3_aug_dg_e2_2\\assets\n",
      "Model has been saved\n",
      "INFO:tensorflow:Assets written to: D:/models/aug_22/gtsrb/C3/e2/gtsrb_model_c3_aug_dg_e2_3\\assets\n",
      "Model has been saved\n",
      "INFO:tensorflow:Assets written to: D:/models/aug_22/gtsrb/C3/e2/gtsrb_model_c3_aug_dg_e2_4\\assets\n",
      "Model has been saved\n",
      "INFO:tensorflow:Assets written to: D:/models/aug_22/gtsrb/C3/e2/gtsrb_model_c3_aug_dg_e2_5\\assets\n",
      "Model has been saved\n",
      "INFO:tensorflow:Assets written to: D:/models/aug_22/gtsrb/C3/e2/gtsrb_model_c3_aug_dg_e2_6\\assets\n",
      "Model has been saved\n",
      "INFO:tensorflow:Assets written to: D:/models/aug_22/gtsrb/C3/e2/gtsrb_model_c3_aug_dg_e2_7\\assets\n",
      "Model has been saved\n",
      "INFO:tensorflow:Assets written to: D:/models/aug_22/gtsrb/C3/e2/gtsrb_model_c3_aug_dg_e2_8\\assets\n",
      "Model has been saved\n",
      "INFO:tensorflow:Assets written to: D:/models/aug_22/gtsrb/C3/e2/gtsrb_model_c3_aug_dg_e2_9\\assets\n",
      "Model has been saved\n",
      "INFO:tensorflow:Assets written to: D:/models/aug_22/gtsrb/C3/e2/gtsrb_model_c3_aug_dg_e2_10\\assets\n",
      "Model has been saved\n",
      "INFO:tensorflow:Assets written to: D:/models/aug_22/gtsrb/C3/e2/gtsrb_model_c3_aug_dg_e2_11\\assets\n",
      "Model has been saved\n",
      "INFO:tensorflow:Assets written to: D:/models/aug_22/gtsrb/C3/e2/gtsrb_model_c3_aug_dg_e2_12\\assets\n",
      "Model has been saved\n",
      "INFO:tensorflow:Assets written to: D:/models/aug_22/gtsrb/C3/e2/gtsrb_model_c3_aug_dg_e2_13\\assets\n",
      "Model has been saved\n",
      "INFO:tensorflow:Assets written to: D:/models/aug_22/gtsrb/C3/e2/gtsrb_model_c3_aug_dg_e2_14\\assets\n",
      "Model has been saved\n",
      "INFO:tensorflow:Assets written to: D:/models/aug_22/gtsrb/C3/e2/gtsrb_model_c3_aug_dg_e2_15\\assets\n",
      "Model has been saved\n",
      "INFO:tensorflow:Assets written to: D:/models/aug_22/gtsrb/C3/e2/gtsrb_model_c3_aug_dg_e2_16\\assets\n",
      "Model has been saved\n",
      "INFO:tensorflow:Assets written to: D:/models/aug_22/gtsrb/C3/e2/gtsrb_model_c3_aug_dg_e2_17\\assets\n",
      "Model has been saved\n",
      "INFO:tensorflow:Assets written to: D:/models/aug_22/gtsrb/C3/e2/gtsrb_model_c3_aug_dg_e2_18\\assets\n",
      "Model has been saved\n",
      "INFO:tensorflow:Assets written to: D:/models/aug_22/gtsrb/C3/e2/gtsrb_model_c3_aug_dg_e2_19\\assets\n",
      "Model has been saved\n"
     ]
    }
   ],
   "source": [
    "#new_model_dg_dir  = \"C:/Users/fjdurlop/Documents/upc/models/\"+dataset+\"/C3/\"+dataset+\"_model_c3_aug_dg_e1\"\n",
    "new_model_dg_dir  = \"D:/models/aug_22/gtsrb/C3/e2/gtsrb_model_c3_aug_dg_e2\"\n",
    "\n",
    "i=0\n",
    "\n",
    "for model in models_dg:\n",
    "    model.save(new_model_dg_dir+\"_\"+str(i))\n",
    "    i+=1"
   ]
  },
  {
   "cell_type": "code",
   "execution_count": 116,
   "id": "2139719c",
   "metadata": {},
   "outputs": [],
   "source": [
    "try:\n",
    "    del deep_gini_values\n",
    "    del top_images_by_dg\n",
    "    del top_labels_by_dg\n",
    "    del image_sets_dg\n",
    "    del label_sets_dg\n",
    "    del models_dg\n",
    "except:\n",
    "    print(\"Error\")"
   ]
  },
  {
   "cell_type": "code",
   "execution_count": 117,
   "id": "a8986882",
   "metadata": {},
   "outputs": [
    {
     "data": {
      "text/plain": [
       "528874"
      ]
     },
     "execution_count": 117,
     "metadata": {},
     "output_type": "execute_result"
    }
   ],
   "source": [
    "\n",
    "gc.collect()"
   ]
  },
  {
   "cell_type": "markdown",
   "id": "be3bfcff",
   "metadata": {},
   "source": [
    "### Softmax "
   ]
  },
  {
   "cell_type": "code",
   "execution_count": 118,
   "id": "d3b6b20c",
   "metadata": {},
   "outputs": [
    {
     "name": "stdout",
     "output_type": "stream",
     "text": [
      "3921\n"
     ]
    }
   ],
   "source": [
    "#softmax values\n",
    "#se_direction = \"C:/Users/fjdurlop/Documents/upc/upc-july/data/\"+dataset+\"/softmax_values.npy\"\n",
    "se_direction = \"C:/Users/fjdur/Documents/upc-july/data/\"+dataset+\"/softmax_values.npy\"\n",
    "\n",
    "se_values = np.load(se_direction)[len(x_train):] \n",
    "print(len(se_values))\n"
   ]
  },
  {
   "cell_type": "code",
   "execution_count": 119,
   "id": "a389aa31",
   "metadata": {},
   "outputs": [],
   "source": [
    "# Obtaining top n images by LSA values\n",
    "top_images_by_se  = utils.get_x_of_indexes(list(np.flip(np.argsort(se_values))),x_adversary_training)\n",
    "top_labels_by_se = utils.get_x_of_indexes(list(np.flip(np.argsort(se_values))),y_adversary_training)"
   ]
  },
  {
   "cell_type": "code",
   "execution_count": 120,
   "id": "74bdb95f",
   "metadata": {},
   "outputs": [
    {
     "name": "stdout",
     "output_type": "stream",
     "text": [
      "0 :\n",
      "0  ->  190\n",
      "190\n",
      "1 :\n",
      "0  ->  380\n",
      "380\n",
      "2 :\n",
      "0  ->  570\n",
      "570\n",
      "3 :\n",
      "0  ->  760\n",
      "760\n",
      "4 :\n",
      "0  ->  950\n",
      "950\n",
      "5 :\n",
      "0  ->  1140\n",
      "1140\n",
      "6 :\n",
      "0  ->  1330\n",
      "1330\n",
      "7 :\n",
      "0  ->  1520\n",
      "1520\n",
      "8 :\n",
      "0  ->  1710\n",
      "1710\n",
      "9 :\n",
      "0  ->  1900\n",
      "1900\n",
      "10 :\n",
      "0  ->  2090\n",
      "2090\n",
      "11 :\n",
      "0  ->  2280\n",
      "2280\n",
      "12 :\n",
      "0  ->  2470\n",
      "2470\n",
      "13 :\n",
      "0  ->  2660\n",
      "2660\n",
      "14 :\n",
      "0  ->  2850\n",
      "2850\n",
      "15 :\n",
      "0  ->  3040\n",
      "3040\n",
      "16 :\n",
      "0  ->  3230\n",
      "3230\n",
      "17 :\n",
      "0  ->  3420\n",
      "3420\n",
      "18 :\n",
      "0  ->  3610\n",
      "3610\n",
      "19 :\n",
      "Last\n",
      "0  ->  3921\n",
      "3921\n"
     ]
    }
   ],
   "source": [
    "m = n_data_points\n",
    "\n",
    "n = 0\n",
    "image_sets_se = []\n",
    "label_sets_se = []\n",
    "\n",
    "# last\n",
    "#for i in range(0,len(top_images_by_lsa)//m):\n",
    "\n",
    "for i in range((len(top_images_by_se)//m)):\n",
    "    print(i,\":\")\n",
    "    if (i+1 >= ((len(top_images_by_se)//m))):\n",
    "        print(\"Last\")\n",
    "        print(0,\" -> \",n+m+(len(top_images_by_se)%m))\n",
    "        top_images_by_se_n = np.array(top_images_by_se[:n+m+(len(top_images_by_se)%m)])\n",
    "        top_labels_by_se_n = np.array(top_labels_by_se[:n+m+(len(top_images_by_se)%m)])\n",
    "    else:\n",
    "        print(0,\" -> \",m+n)\n",
    "        top_images_by_se_n = np.array(top_images_by_se[:n+m])\n",
    "        top_labels_by_se_n = np.array(top_labels_by_se[:n+m])\n",
    "    image_sets_se.append(top_images_by_se_n)\n",
    "    label_sets_se.append(top_labels_by_se_n)\n",
    "    print(len(top_images_by_se_n))\n",
    "    n += m\n",
    "\n"
   ]
  },
  {
   "cell_type": "code",
   "execution_count": 121,
   "id": "14e3cfb3",
   "metadata": {},
   "outputs": [
    {
     "name": "stdout",
     "output_type": "stream",
     "text": [
      "C:/Users/fjdur/Documents/upc-july/models/tf_model_25-06\n",
      "0 :\n",
      "Model loaded correctly\n",
      "Model compiled\n",
      "1 :\n",
      "Model loaded correctly\n",
      "Model compiled\n",
      "2 :\n",
      "Model loaded correctly\n",
      "Model compiled\n",
      "3 :\n",
      "Model loaded correctly\n",
      "Model compiled\n",
      "4 :\n",
      "Model loaded correctly\n",
      "Model compiled\n",
      "5 :\n",
      "Model loaded correctly\n",
      "Model compiled\n",
      "6 :\n",
      "Model loaded correctly\n",
      "Model compiled\n",
      "7 :\n",
      "Model loaded correctly\n",
      "Model compiled\n",
      "8 :\n",
      "Model loaded correctly\n",
      "Model compiled\n",
      "9 :\n",
      "Model loaded correctly\n",
      "Model compiled\n",
      "10 :\n",
      "Model loaded correctly\n",
      "Model compiled\n",
      "11 :\n",
      "Model loaded correctly\n",
      "Model compiled\n",
      "12 :\n",
      "Model loaded correctly\n",
      "Model compiled\n",
      "13 :\n",
      "Model loaded correctly\n",
      "Model compiled\n",
      "14 :\n",
      "Model loaded correctly\n",
      "Model compiled\n",
      "15 :\n",
      "Model loaded correctly\n",
      "Model compiled\n",
      "16 :\n",
      "Model loaded correctly\n",
      "Model compiled\n",
      "17 :\n",
      "Model loaded correctly\n",
      "Model compiled\n",
      "18 :\n",
      "Model loaded correctly\n",
      "Model compiled\n",
      "19 :\n",
      "Model loaded correctly\n",
      "Model compiled\n"
     ]
    }
   ],
   "source": [
    "print(model_dir)\n",
    "models_se = []\n",
    "for i in range(len(label_sets_se)):\n",
    "    print(i,\":\")\n",
    "    model = utils.My_model(dataset,True,model_dir)\n",
    "    model.compile_model()\n",
    "    models_se.append(model)"
   ]
  },
  {
   "cell_type": "code",
   "execution_count": 122,
   "id": "f66277ed",
   "metadata": {},
   "outputs": [
    {
     "name": "stdout",
     "output_type": "stream",
     "text": [
      "0\n",
      "Epoch 1/10\n",
      "3/3 [==============================] - 18s 7s/step - loss: 4.3091 - accuracy: 0.1042 - val_loss: 0.3625 - val_accuracy: 0.9382\n",
      "Epoch 2/10\n",
      "3/3 [==============================] - 14s 7s/step - loss: 3.1700 - accuracy: 0.1768 - val_loss: 0.2955 - val_accuracy: 0.9650\n",
      "Epoch 3/10\n",
      "3/3 [==============================] - 14s 7s/step - loss: 2.8160 - accuracy: 0.2866 - val_loss: 0.1375 - val_accuracy: 0.9689\n",
      "Epoch 4/10\n",
      "3/3 [==============================] - 15s 7s/step - loss: 2.3320 - accuracy: 0.3966 - val_loss: 0.1574 - val_accuracy: 0.9630\n",
      "Epoch 5/10\n",
      "3/3 [==============================] - 15s 7s/step - loss: 1.9758 - accuracy: 0.5058 - val_loss: 0.1633 - val_accuracy: 0.9584\n",
      "Epoch 6/10\n",
      "3/3 [==============================] - 15s 7s/step - loss: 1.7361 - accuracy: 0.5204 - val_loss: 0.2001 - val_accuracy: 0.9518\n",
      "Epoch 7/10\n",
      "3/3 [==============================] - 15s 7s/step - loss: 1.6302 - accuracy: 0.5237 - val_loss: 0.2054 - val_accuracy: 0.9454\n",
      "Epoch 8/10\n",
      "3/3 [==============================] - 15s 7s/step - loss: 1.3841 - accuracy: 0.6165 - val_loss: 0.3267 - val_accuracy: 0.9314\n",
      "Epoch 9/10\n",
      "3/3 [==============================] - 15s 7s/step - loss: 1.3141 - accuracy: 0.6263 - val_loss: 0.1576 - val_accuracy: 0.9564\n",
      "Epoch 10/10\n",
      "3/3 [==============================] - 15s 7s/step - loss: 1.0887 - accuracy: 0.6727 - val_loss: 0.2053 - val_accuracy: 0.9508\n",
      "Duration: 0:02:32.746684\n"
     ]
    }
   ],
   "source": [
    "n=0\n",
    "print(n)\n",
    "models_se[n].fit_model(image_sets_se[n],label_sets_se[n],x_val,y_val)\n",
    "n = n+1"
   ]
  },
  {
   "cell_type": "code",
   "execution_count": 123,
   "id": "5bb251b4",
   "metadata": {},
   "outputs": [
    {
     "name": "stdout",
     "output_type": "stream",
     "text": [
      "1\n",
      "Epoch 1/10\n",
      "6/6 [==============================] - 25s 4s/step - loss: 3.9600 - accuracy: 0.0993 - val_loss: 0.8803 - val_accuracy: 0.8280\n",
      "Epoch 2/10\n",
      "6/6 [==============================] - 22s 4s/step - loss: 2.4572 - accuracy: 0.3509 - val_loss: 0.2314 - val_accuracy: 0.9551\n",
      "Epoch 3/10\n",
      "6/6 [==============================] - 21s 4s/step - loss: 1.9151 - accuracy: 0.4561 - val_loss: 0.6457 - val_accuracy: 0.8640\n",
      "Epoch 4/10\n",
      "6/6 [==============================] - 21s 4s/step - loss: 1.5533 - accuracy: 0.5876 - val_loss: 0.4444 - val_accuracy: 0.9028\n",
      "Epoch 5/10\n",
      "6/6 [==============================] - 21s 4s/step - loss: 1.4788 - accuracy: 0.5951 - val_loss: 0.4031 - val_accuracy: 0.9079\n",
      "Epoch 6/10\n",
      "6/6 [==============================] - 21s 4s/step - loss: 1.2750 - accuracy: 0.6632 - val_loss: 0.5179 - val_accuracy: 0.8714\n",
      "Epoch 7/10\n",
      "6/6 [==============================] - 21s 4s/step - loss: 1.1474 - accuracy: 0.6743 - val_loss: 0.4601 - val_accuracy: 0.8933\n",
      "Epoch 8/10\n",
      "6/6 [==============================] - 21s 4s/step - loss: 1.0689 - accuracy: 0.7070 - val_loss: 0.5419 - val_accuracy: 0.8770\n",
      "Epoch 9/10\n",
      "6/6 [==============================] - 21s 4s/step - loss: 0.9407 - accuracy: 0.7240 - val_loss: 0.5166 - val_accuracy: 0.8750\n",
      "Epoch 10/10\n",
      "6/6 [==============================] - 21s 4s/step - loss: 0.8090 - accuracy: 0.7445 - val_loss: 0.4144 - val_accuracy: 0.8936\n",
      "Duration: 0:03:33.859643\n"
     ]
    }
   ],
   "source": [
    "print(n)\n",
    "models_se[n].fit_model(image_sets_se[n],label_sets_se[n],x_val,y_val)\n",
    "n = n+1"
   ]
  },
  {
   "cell_type": "code",
   "execution_count": 124,
   "id": "aaa22c03",
   "metadata": {},
   "outputs": [
    {
     "name": "stdout",
     "output_type": "stream",
     "text": [
      "2\n",
      "Epoch 1/10\n",
      "9/9 [==============================] - 31s 3s/step - loss: 3.8541 - accuracy: 0.1229 - val_loss: 0.2678 - val_accuracy: 0.9334\n",
      "Epoch 2/10\n",
      "9/9 [==============================] - 27s 3s/step - loss: 2.5668 - accuracy: 0.3399 - val_loss: 0.4138 - val_accuracy: 0.8967\n",
      "Epoch 3/10\n",
      "9/9 [==============================] - 26s 3s/step - loss: 2.0776 - accuracy: 0.4666 - val_loss: 0.3545 - val_accuracy: 0.9069\n",
      "Epoch 4/10\n",
      "9/9 [==============================] - 26s 3s/step - loss: 1.5869 - accuracy: 0.5659 - val_loss: 0.2990 - val_accuracy: 0.9352\n",
      "Epoch 5/10\n",
      "9/9 [==============================] - 26s 3s/step - loss: 1.5999 - accuracy: 0.5892 - val_loss: 0.2563 - val_accuracy: 0.9342\n",
      "Epoch 6/10\n",
      "9/9 [==============================] - 26s 3s/step - loss: 1.2341 - accuracy: 0.6401 - val_loss: 0.2961 - val_accuracy: 0.9189\n",
      "Epoch 7/10\n",
      "9/9 [==============================] - 26s 3s/step - loss: 1.0766 - accuracy: 0.6716 - val_loss: 0.4027 - val_accuracy: 0.8916\n",
      "Epoch 8/10\n",
      "9/9 [==============================] - 26s 3s/step - loss: 1.1327 - accuracy: 0.6953 - val_loss: 0.3388 - val_accuracy: 0.9143\n",
      "Epoch 9/10\n",
      "9/9 [==============================] - 26s 3s/step - loss: 0.9688 - accuracy: 0.6903 - val_loss: 0.5023 - val_accuracy: 0.8734\n",
      "Epoch 10/10\n",
      "9/9 [==============================] - 26s 3s/step - loss: 0.7791 - accuracy: 0.7993 - val_loss: 0.2333 - val_accuracy: 0.9393\n",
      "Duration: 0:04:24.929600\n"
     ]
    }
   ],
   "source": [
    "print(n)\n",
    "models_se[n].fit_model(image_sets_se[n],label_sets_se[n],x_val,y_val)\n",
    "n = n+1"
   ]
  },
  {
   "cell_type": "code",
   "execution_count": 125,
   "id": "674c7497",
   "metadata": {},
   "outputs": [
    {
     "name": "stdout",
     "output_type": "stream",
     "text": [
      "3\n",
      "Epoch 1/10\n",
      "12/12 [==============================] - 36s 3s/step - loss: 3.8704 - accuracy: 0.1227 - val_loss: 0.4707 - val_accuracy: 0.9331\n",
      "Epoch 2/10\n",
      "12/12 [==============================] - 32s 3s/step - loss: 2.4541 - accuracy: 0.3443 - val_loss: 0.3044 - val_accuracy: 0.9237\n",
      "Epoch 3/10\n",
      "12/12 [==============================] - 32s 3s/step - loss: 1.8461 - accuracy: 0.4809 - val_loss: 0.3065 - val_accuracy: 0.9183\n",
      "Epoch 4/10\n",
      "12/12 [==============================] - 32s 3s/step - loss: 1.4759 - accuracy: 0.5784 - val_loss: 0.3456 - val_accuracy: 0.9148\n",
      "Epoch 5/10\n",
      "12/12 [==============================] - 32s 3s/step - loss: 1.4211 - accuracy: 0.5581 - val_loss: 0.4233 - val_accuracy: 0.8951\n",
      "Epoch 6/10\n",
      "12/12 [==============================] - 32s 3s/step - loss: 1.2255 - accuracy: 0.6269 - val_loss: 0.2926 - val_accuracy: 0.9196\n",
      "Epoch 7/10\n",
      "12/12 [==============================] - 32s 3s/step - loss: 0.9371 - accuracy: 0.7183 - val_loss: 0.3832 - val_accuracy: 0.9066\n",
      "Epoch 8/10\n",
      "12/12 [==============================] - 32s 3s/step - loss: 0.9220 - accuracy: 0.7178 - val_loss: 0.2827 - val_accuracy: 0.9326\n",
      "Epoch 9/10\n",
      "12/12 [==============================] - 32s 3s/step - loss: 0.8495 - accuracy: 0.7427 - val_loss: 0.3891 - val_accuracy: 0.9048\n",
      "Epoch 10/10\n",
      "12/12 [==============================] - 32s 3s/step - loss: 0.7616 - accuracy: 0.7470 - val_loss: 0.4138 - val_accuracy: 0.8969\n",
      "Duration: 0:05:23.207701\n"
     ]
    }
   ],
   "source": [
    "print(n)\n",
    "models_se[n].fit_model(image_sets_se[n],label_sets_se[n],x_val,y_val)\n",
    "n = n+1"
   ]
  },
  {
   "cell_type": "code",
   "execution_count": 126,
   "id": "dfe9b86d",
   "metadata": {},
   "outputs": [
    {
     "name": "stdout",
     "output_type": "stream",
     "text": [
      "4\n",
      "Epoch 1/10\n",
      "15/15 [==============================] - 41s 3s/step - loss: 3.5081 - accuracy: 0.1836 - val_loss: 0.4724 - val_accuracy: 0.8798\n",
      "Epoch 2/10\n",
      "15/15 [==============================] - 37s 3s/step - loss: 2.1401 - accuracy: 0.4297 - val_loss: 0.2419 - val_accuracy: 0.9342\n",
      "Epoch 3/10\n",
      "15/15 [==============================] - 37s 3s/step - loss: 1.8169 - accuracy: 0.4926 - val_loss: 0.1834 - val_accuracy: 0.9564\n",
      "Epoch 4/10\n",
      "15/15 [==============================] - 37s 3s/step - loss: 1.3643 - accuracy: 0.6227 - val_loss: 0.2155 - val_accuracy: 0.9400\n",
      "Epoch 5/10\n",
      "15/15 [==============================] - 37s 3s/step - loss: 1.3272 - accuracy: 0.6313 - val_loss: 0.3116 - val_accuracy: 0.9094\n",
      "Epoch 6/10\n",
      "15/15 [==============================] - 37s 3s/step - loss: 1.1210 - accuracy: 0.6588 - val_loss: 0.2778 - val_accuracy: 0.9212\n",
      "Epoch 7/10\n",
      "15/15 [==============================] - 36s 2s/step - loss: 0.9115 - accuracy: 0.7172 - val_loss: 0.3109 - val_accuracy: 0.9127\n",
      "Epoch 8/10\n",
      "15/15 [==============================] - 37s 3s/step - loss: 0.9425 - accuracy: 0.7343 - val_loss: 0.3085 - val_accuracy: 0.9168\n",
      "Epoch 9/10\n",
      "15/15 [==============================] - 37s 3s/step - loss: 0.8135 - accuracy: 0.7729 - val_loss: 0.3034 - val_accuracy: 0.9283\n",
      "Epoch 10/10\n",
      "15/15 [==============================] - 38s 3s/step - loss: 0.7773 - accuracy: 0.7666 - val_loss: 0.2665 - val_accuracy: 0.9296\n",
      "Duration: 0:06:15.453321\n"
     ]
    }
   ],
   "source": [
    "#\n",
    "print(n)\n",
    "models_se[n].fit_model(image_sets_se[n],label_sets_se[n],x_val,y_val)\n",
    "n = n+1"
   ]
  },
  {
   "cell_type": "code",
   "execution_count": 127,
   "id": "e4ccc154",
   "metadata": {},
   "outputs": [
    {
     "name": "stdout",
     "output_type": "stream",
     "text": [
      "5\n",
      "Epoch 1/10\n",
      "18/18 [==============================] - 47s 2s/step - loss: 3.4439 - accuracy: 0.1858 - val_loss: 0.1656 - val_accuracy: 0.9653\n",
      "Epoch 2/10\n",
      "18/18 [==============================] - 45s 3s/step - loss: 2.0488 - accuracy: 0.4363 - val_loss: 0.1609 - val_accuracy: 0.9699\n",
      "Epoch 3/10\n",
      "18/18 [==============================] - 43s 2s/step - loss: 1.7089 - accuracy: 0.5222 - val_loss: 0.5383 - val_accuracy: 0.8686\n",
      "Epoch 4/10\n",
      "18/18 [==============================] - 43s 2s/step - loss: 1.4399 - accuracy: 0.5679 - val_loss: 0.1679 - val_accuracy: 0.9612\n",
      "Epoch 5/10\n",
      "18/18 [==============================] - 43s 2s/step - loss: 1.0890 - accuracy: 0.6649 - val_loss: 0.2701 - val_accuracy: 0.9367\n",
      "Epoch 6/10\n",
      "18/18 [==============================] - 43s 2s/step - loss: 1.0401 - accuracy: 0.6935 - val_loss: 0.2036 - val_accuracy: 0.9518\n",
      "Epoch 7/10\n",
      "18/18 [==============================] - 45s 3s/step - loss: 0.9430 - accuracy: 0.7184 - val_loss: 0.1626 - val_accuracy: 0.9543\n",
      "Epoch 8/10\n",
      "18/18 [==============================] - 42s 2s/step - loss: 0.7799 - accuracy: 0.7831 - val_loss: 0.1284 - val_accuracy: 0.9650\n",
      "Epoch 9/10\n",
      "18/18 [==============================] - 41s 2s/step - loss: 0.7067 - accuracy: 0.7769 - val_loss: 0.2044 - val_accuracy: 0.9456\n",
      "Epoch 10/10\n",
      "18/18 [==============================] - 43s 2s/step - loss: 0.5965 - accuracy: 0.8220 - val_loss: 0.1370 - val_accuracy: 0.9640\n",
      "Duration: 0:07:15.527868\n"
     ]
    }
   ],
   "source": [
    "print(n)\n",
    "models_se[n].fit_model(image_sets_se[n],label_sets_se[n],x_val,y_val)\n",
    "n = n+1"
   ]
  },
  {
   "cell_type": "code",
   "execution_count": 128,
   "id": "b9361b0f",
   "metadata": {},
   "outputs": [
    {
     "name": "stdout",
     "output_type": "stream",
     "text": [
      "6\n",
      "Epoch 1/10\n",
      "21/21 [==============================] - 54s 2s/step - loss: 3.3158 - accuracy: 0.2408 - val_loss: 0.0692 - val_accuracy: 0.9811\n",
      "Epoch 2/10\n",
      "21/21 [==============================] - 50s 2s/step - loss: 1.8383 - accuracy: 0.5151 - val_loss: 0.1217 - val_accuracy: 0.9661\n",
      "Epoch 3/10\n",
      "21/21 [==============================] - 51s 2s/step - loss: 1.4728 - accuracy: 0.5951 - val_loss: 0.0800 - val_accuracy: 0.9798\n",
      "Epoch 4/10\n",
      "21/21 [==============================] - 53s 3s/step - loss: 1.1448 - accuracy: 0.6690 - val_loss: 0.1074 - val_accuracy: 0.9730\n",
      "Epoch 5/10\n",
      "21/21 [==============================] - 49s 2s/step - loss: 1.2005 - accuracy: 0.6552 - val_loss: 0.0892 - val_accuracy: 0.9781\n",
      "Epoch 6/10\n",
      "21/21 [==============================] - 49s 2s/step - loss: 0.9722 - accuracy: 0.7240 - val_loss: 0.1048 - val_accuracy: 0.9712\n",
      "Epoch 7/10\n",
      "21/21 [==============================] - 50s 2s/step - loss: 0.8397 - accuracy: 0.7345 - val_loss: 0.0921 - val_accuracy: 0.9740\n",
      "Epoch 8/10\n",
      "21/21 [==============================] - 49s 2s/step - loss: 0.7031 - accuracy: 0.7887 - val_loss: 0.0846 - val_accuracy: 0.9763\n",
      "Epoch 9/10\n",
      "21/21 [==============================] - 49s 2s/step - loss: 0.7190 - accuracy: 0.7829 - val_loss: 0.1614 - val_accuracy: 0.9556\n",
      "Epoch 10/10\n",
      "21/21 [==============================] - 49s 2s/step - loss: 0.5885 - accuracy: 0.8181 - val_loss: 0.1481 - val_accuracy: 0.9661\n",
      "Duration: 0:08:24.091527\n"
     ]
    }
   ],
   "source": [
    "print(n)\n",
    "models_se[n].fit_model(image_sets_se[n],label_sets_se[n],x_val,y_val)\n",
    "n = n+1"
   ]
  },
  {
   "cell_type": "code",
   "execution_count": 129,
   "id": "5d018799",
   "metadata": {},
   "outputs": [
    {
     "name": "stdout",
     "output_type": "stream",
     "text": [
      "7\n",
      "Epoch 1/10\n",
      "24/24 [==============================] - 59s 2s/step - loss: 3.1300 - accuracy: 0.2662 - val_loss: 0.0492 - val_accuracy: 0.9880\n",
      "Epoch 2/10\n",
      "24/24 [==============================] - 54s 2s/step - loss: 1.6776 - accuracy: 0.5349 - val_loss: 0.0816 - val_accuracy: 0.9770\n",
      "Epoch 3/10\n",
      "24/24 [==============================] - 56s 2s/step - loss: 1.3735 - accuracy: 0.5908 - val_loss: 0.1701 - val_accuracy: 0.9673\n",
      "Epoch 4/10\n",
      "24/24 [==============================] - 56s 2s/step - loss: 1.0643 - accuracy: 0.6956 - val_loss: 0.0457 - val_accuracy: 0.9870\n",
      "Epoch 5/10\n",
      "24/24 [==============================] - 56s 2s/step - loss: 0.9945 - accuracy: 0.7184 - val_loss: 0.0447 - val_accuracy: 0.9893\n",
      "Epoch 6/10\n",
      "24/24 [==============================] - 54s 2s/step - loss: 0.8541 - accuracy: 0.7484 - val_loss: 0.0724 - val_accuracy: 0.9788\n",
      "Epoch 7/10\n",
      "24/24 [==============================] - 55s 2s/step - loss: 0.8340 - accuracy: 0.7464 - val_loss: 0.1071 - val_accuracy: 0.9694\n",
      "Epoch 8/10\n",
      "24/24 [==============================] - 56s 2s/step - loss: 0.6379 - accuracy: 0.8082 - val_loss: 0.0589 - val_accuracy: 0.9849\n",
      "Epoch 9/10\n",
      "24/24 [==============================] - 54s 2s/step - loss: 0.6319 - accuracy: 0.8183 - val_loss: 0.0557 - val_accuracy: 0.9834\n",
      "Epoch 10/10\n",
      "24/24 [==============================] - 57s 2s/step - loss: 0.5419 - accuracy: 0.8294 - val_loss: 0.0586 - val_accuracy: 0.9852\n",
      "Duration: 0:09:18.585031\n"
     ]
    }
   ],
   "source": [
    "print(n)\n",
    "models_se[n].fit_model(image_sets_se[n],label_sets_se[n],x_val,y_val)\n",
    "n = n+1"
   ]
  },
  {
   "cell_type": "code",
   "execution_count": 130,
   "id": "e73810d4",
   "metadata": {},
   "outputs": [
    {
     "name": "stdout",
     "output_type": "stream",
     "text": [
      "8\n",
      "Epoch 1/10\n",
      "27/27 [==============================] - 71s 3s/step - loss: 3.0092 - accuracy: 0.3351 - val_loss: 0.0480 - val_accuracy: 0.9878\n",
      "Epoch 2/10\n",
      "27/27 [==============================] - 66s 2s/step - loss: 1.4880 - accuracy: 0.5892 - val_loss: 0.0724 - val_accuracy: 0.9829\n",
      "Epoch 3/10\n",
      "27/27 [==============================] - 64s 2s/step - loss: 1.2039 - accuracy: 0.6681 - val_loss: 0.0523 - val_accuracy: 0.9875\n",
      "Epoch 4/10\n",
      "27/27 [==============================] - 62s 2s/step - loss: 1.0508 - accuracy: 0.6919 - val_loss: 0.0796 - val_accuracy: 0.9796\n",
      "Epoch 5/10\n",
      "27/27 [==============================] - 66s 2s/step - loss: 0.9562 - accuracy: 0.7084 - val_loss: 0.0452 - val_accuracy: 0.9888\n",
      "Epoch 6/10\n",
      "27/27 [==============================] - 69s 3s/step - loss: 0.7965 - accuracy: 0.7662 - val_loss: 0.0543 - val_accuracy: 0.9865\n",
      "Epoch 7/10\n",
      "27/27 [==============================] - 65s 2s/step - loss: 0.7541 - accuracy: 0.7606 - val_loss: 0.0459 - val_accuracy: 0.9898\n",
      "Epoch 8/10\n",
      "27/27 [==============================] - 62s 2s/step - loss: 0.6761 - accuracy: 0.8023 - val_loss: 0.0550 - val_accuracy: 0.9865\n",
      "Epoch 9/10\n",
      "27/27 [==============================] - 66s 2s/step - loss: 0.5340 - accuracy: 0.8408 - val_loss: 0.0966 - val_accuracy: 0.9727\n",
      "Epoch 10/10\n",
      "27/27 [==============================] - 66s 2s/step - loss: 0.5371 - accuracy: 0.8315 - val_loss: 0.0374 - val_accuracy: 0.9888\n",
      "Duration: 0:10:57.819877\n"
     ]
    }
   ],
   "source": [
    "print(n)\n",
    "models_se[n].fit_model(image_sets_se[n],label_sets_se[n],x_val,y_val)\n",
    "n = n+1"
   ]
  },
  {
   "cell_type": "code",
   "execution_count": 131,
   "id": "ec33d8eb",
   "metadata": {},
   "outputs": [
    {
     "name": "stdout",
     "output_type": "stream",
     "text": [
      "9\n",
      "Epoch 1/10\n",
      "30/30 [==============================] - 71s 2s/step - loss: 2.5904 - accuracy: 0.4162 - val_loss: 0.0533 - val_accuracy: 0.9862\n",
      "Epoch 2/10\n",
      "30/30 [==============================] - 68s 2s/step - loss: 1.4819 - accuracy: 0.5912 - val_loss: 0.0425 - val_accuracy: 0.9895\n",
      "Epoch 3/10\n",
      "30/30 [==============================] - 71s 2s/step - loss: 1.0833 - accuracy: 0.6991 - val_loss: 0.0412 - val_accuracy: 0.9895\n",
      "Epoch 4/10\n",
      "30/30 [==============================] - 72s 2s/step - loss: 0.9737 - accuracy: 0.7317 - val_loss: 0.0435 - val_accuracy: 0.9888\n",
      "Epoch 5/10\n",
      "30/30 [==============================] - 71s 2s/step - loss: 0.7732 - accuracy: 0.7825 - val_loss: 0.0351 - val_accuracy: 0.9906\n",
      "Epoch 6/10\n",
      "30/30 [==============================] - 72s 2s/step - loss: 0.7337 - accuracy: 0.7774 - val_loss: 0.0982 - val_accuracy: 0.9781\n",
      "Epoch 7/10\n",
      "30/30 [==============================] - 71s 2s/step - loss: 0.6817 - accuracy: 0.8029 - val_loss: 0.0364 - val_accuracy: 0.9913\n",
      "Epoch 8/10\n",
      "30/30 [==============================] - 71s 2s/step - loss: 0.6368 - accuracy: 0.8170 - val_loss: 0.0449 - val_accuracy: 0.9867\n",
      "Epoch 9/10\n",
      "30/30 [==============================] - 72s 2s/step - loss: 0.4795 - accuracy: 0.8519 - val_loss: 0.0510 - val_accuracy: 0.9875\n",
      "Epoch 10/10\n",
      "30/30 [==============================] - 74s 3s/step - loss: 0.4872 - accuracy: 0.8480 - val_loss: 0.0404 - val_accuracy: 0.9888\n",
      "Duration: 0:11:53.389296\n"
     ]
    }
   ],
   "source": [
    "#\n",
    "print(n)\n",
    "models_se[n].fit_model(image_sets_se[n],label_sets_se[n],x_val,y_val)\n",
    "n = n+1"
   ]
  },
  {
   "cell_type": "code",
   "execution_count": 132,
   "id": "8806a4e3",
   "metadata": {},
   "outputs": [
    {
     "name": "stdout",
     "output_type": "stream",
     "text": [
      "10\n",
      "Epoch 1/10\n",
      "33/33 [==============================] - 79s 2s/step - loss: 2.2346 - accuracy: 0.4721 - val_loss: 0.0603 - val_accuracy: 0.9844\n",
      "Epoch 2/10\n",
      "33/33 [==============================] - 71s 2s/step - loss: 1.2432 - accuracy: 0.6378 - val_loss: 0.0459 - val_accuracy: 0.9872\n",
      "Epoch 3/10\n",
      "33/33 [==============================] - 73s 2s/step - loss: 0.9992 - accuracy: 0.7080 - val_loss: 0.0521 - val_accuracy: 0.9875\n",
      "Epoch 4/10\n",
      "33/33 [==============================] - 80s 2s/step - loss: 0.7843 - accuracy: 0.7714 - val_loss: 0.0547 - val_accuracy: 0.9852\n",
      "Epoch 5/10\n",
      "33/33 [==============================] - 74s 2s/step - loss: 0.7105 - accuracy: 0.7909 - val_loss: 0.0353 - val_accuracy: 0.9908\n",
      "Epoch 6/10\n",
      "33/33 [==============================] - 77s 2s/step - loss: 0.6587 - accuracy: 0.8113 - val_loss: 0.0292 - val_accuracy: 0.9929\n",
      "Epoch 7/10\n",
      "33/33 [==============================] - 75s 2s/step - loss: 0.5210 - accuracy: 0.8301 - val_loss: 0.0325 - val_accuracy: 0.9921\n",
      "Epoch 8/10\n",
      "33/33 [==============================] - 74s 2s/step - loss: 0.4972 - accuracy: 0.8485 - val_loss: 0.0425 - val_accuracy: 0.9898\n",
      "Epoch 9/10\n",
      "33/33 [==============================] - 77s 2s/step - loss: 0.4528 - accuracy: 0.8683 - val_loss: 0.0575 - val_accuracy: 0.9862\n",
      "Epoch 10/10\n",
      "33/33 [==============================] - 75s 2s/step - loss: 0.4098 - accuracy: 0.8774 - val_loss: 0.0407 - val_accuracy: 0.9893\n",
      "Duration: 0:12:34.531654\n"
     ]
    }
   ],
   "source": [
    "print(n)\n",
    "models_se[n].fit_model(image_sets_se[n],label_sets_se[n],x_val,y_val)\n",
    "n = n+1"
   ]
  },
  {
   "cell_type": "code",
   "execution_count": 133,
   "id": "1bf6fa19",
   "metadata": {},
   "outputs": [
    {
     "name": "stdout",
     "output_type": "stream",
     "text": [
      "11\n",
      "Epoch 1/10\n",
      "36/36 [==============================] - 85s 2s/step - loss: 2.0487 - accuracy: 0.4994 - val_loss: 0.0529 - val_accuracy: 0.9849\n",
      "Epoch 2/10\n",
      "36/36 [==============================] - 86s 2s/step - loss: 1.1235 - accuracy: 0.6830 - val_loss: 0.0503 - val_accuracy: 0.9875\n",
      "Epoch 3/10\n",
      "36/36 [==============================] - 92s 3s/step - loss: 0.9147 - accuracy: 0.7255 - val_loss: 0.0932 - val_accuracy: 0.9829\n",
      "Epoch 4/10\n",
      "36/36 [==============================] - 88s 2s/step - loss: 0.8206 - accuracy: 0.7621 - val_loss: 0.0342 - val_accuracy: 0.9923\n",
      "Epoch 5/10\n",
      "36/36 [==============================] - 83s 2s/step - loss: 0.6805 - accuracy: 0.8033 - val_loss: 0.0481 - val_accuracy: 0.9872\n",
      "Epoch 6/10\n",
      "36/36 [==============================] - 86s 2s/step - loss: 0.5921 - accuracy: 0.8146 - val_loss: 0.0577 - val_accuracy: 0.9852\n",
      "Epoch 7/10\n",
      "36/36 [==============================] - 84s 2s/step - loss: 0.5884 - accuracy: 0.8218 - val_loss: 0.0725 - val_accuracy: 0.9829\n",
      "Epoch 8/10\n",
      "36/36 [==============================] - 84s 2s/step - loss: 0.4821 - accuracy: 0.8619 - val_loss: 0.0705 - val_accuracy: 0.9819\n",
      "Epoch 9/10\n",
      "36/36 [==============================] - 88s 2s/step - loss: 0.4169 - accuracy: 0.8747 - val_loss: 0.0361 - val_accuracy: 0.9906\n",
      "Epoch 10/10\n",
      "36/36 [==============================] - 88s 2s/step - loss: 0.4079 - accuracy: 0.8748 - val_loss: 0.0514 - val_accuracy: 0.9883\n",
      "Duration: 0:14:23.693955\n"
     ]
    }
   ],
   "source": [
    "print(n)\n",
    "models_se[n].fit_model(image_sets_se[n],label_sets_se[n],x_val,y_val)\n",
    "n = n+1"
   ]
  },
  {
   "cell_type": "code",
   "execution_count": 134,
   "id": "10a1fe8d",
   "metadata": {},
   "outputs": [
    {
     "name": "stdout",
     "output_type": "stream",
     "text": [
      "12\n",
      "Epoch 1/10\n",
      "39/39 [==============================] - 96s 2s/step - loss: 1.8885 - accuracy: 0.5567 - val_loss: 0.0464 - val_accuracy: 0.9903\n",
      "Epoch 2/10\n",
      "39/39 [==============================] - 93s 2s/step - loss: 1.0320 - accuracy: 0.7199 - val_loss: 0.0522 - val_accuracy: 0.9865\n",
      "Epoch 3/10\n",
      "39/39 [==============================] - 95s 2s/step - loss: 0.8807 - accuracy: 0.7562 - val_loss: 0.0406 - val_accuracy: 0.9900\n",
      "Epoch 4/10\n",
      "39/39 [==============================] - 93s 2s/step - loss: 0.7010 - accuracy: 0.7837 - val_loss: 0.0988 - val_accuracy: 0.9778\n",
      "Epoch 5/10\n",
      "39/39 [==============================] - 94s 2s/step - loss: 0.6164 - accuracy: 0.8170 - val_loss: 0.0616 - val_accuracy: 0.9865\n",
      "Epoch 6/10\n",
      "39/39 [==============================] - 90s 2s/step - loss: 0.5004 - accuracy: 0.8457 - val_loss: 0.0522 - val_accuracy: 0.9898\n",
      "Epoch 7/10\n",
      "39/39 [==============================] - 93s 2s/step - loss: 0.5218 - accuracy: 0.8477 - val_loss: 0.0568 - val_accuracy: 0.9842\n",
      "Epoch 8/10\n",
      "39/39 [==============================] - 92s 2s/step - loss: 0.4703 - accuracy: 0.8587 - val_loss: 0.0704 - val_accuracy: 0.9849\n",
      "Epoch 9/10\n",
      "39/39 [==============================] - 91s 2s/step - loss: 0.4153 - accuracy: 0.8732 - val_loss: 0.0338 - val_accuracy: 0.9926\n",
      "Epoch 10/10\n",
      "39/39 [==============================] - 94s 2s/step - loss: 0.3822 - accuracy: 0.8852 - val_loss: 0.0408 - val_accuracy: 0.9918\n",
      "Duration: 0:15:31.912204\n"
     ]
    }
   ],
   "source": [
    "print(n)\n",
    "models_se[n].fit_model(image_sets_se[n],label_sets_se[n],x_val,y_val)\n",
    "n = n+1"
   ]
  },
  {
   "cell_type": "code",
   "execution_count": 135,
   "id": "14517ae0",
   "metadata": {},
   "outputs": [
    {
     "name": "stdout",
     "output_type": "stream",
     "text": [
      "13\n",
      "Epoch 1/10\n",
      "42/42 [==============================] - 108s 3s/step - loss: 1.6852 - accuracy: 0.5996 - val_loss: 0.0491 - val_accuracy: 0.9895\n",
      "Epoch 2/10\n",
      "42/42 [==============================] - 95s 2s/step - loss: 0.9371 - accuracy: 0.7351 - val_loss: 0.0419 - val_accuracy: 0.9893\n",
      "Epoch 3/10\n",
      "42/42 [==============================] - 115s 3s/step - loss: 0.8274 - accuracy: 0.7683 - val_loss: 0.0548 - val_accuracy: 0.9855\n",
      "Epoch 4/10\n",
      "42/42 [==============================] - 102s 2s/step - loss: 0.6822 - accuracy: 0.7991 - val_loss: 0.0407 - val_accuracy: 0.9906\n",
      "Epoch 5/10\n",
      "42/42 [==============================] - 100s 2s/step - loss: 0.6026 - accuracy: 0.8150 - val_loss: 0.0594 - val_accuracy: 0.9865\n",
      "Epoch 6/10\n",
      "42/42 [==============================] - 100s 2s/step - loss: 0.5354 - accuracy: 0.8329 - val_loss: 0.0348 - val_accuracy: 0.9929\n",
      "Epoch 7/10\n",
      "42/42 [==============================] - 106s 3s/step - loss: 0.4877 - accuracy: 0.8549 - val_loss: 0.0524 - val_accuracy: 0.9834\n",
      "Epoch 8/10\n",
      "42/42 [==============================] - 113s 3s/step - loss: 0.4309 - accuracy: 0.8741 - val_loss: 0.0388 - val_accuracy: 0.9906\n",
      "Epoch 9/10\n",
      "42/42 [==============================] - 102s 2s/step - loss: 0.3789 - accuracy: 0.8924 - val_loss: 0.0413 - val_accuracy: 0.9911\n",
      "Epoch 10/10\n",
      "42/42 [==============================] - 105s 3s/step - loss: 0.3326 - accuracy: 0.8984 - val_loss: 0.0642 - val_accuracy: 0.9857\n",
      "Duration: 0:17:26.060039\n"
     ]
    }
   ],
   "source": [
    "print(n)\n",
    "models_se[n].fit_model(image_sets_se[n],label_sets_se[n],x_val,y_val)\n",
    "n = n+1"
   ]
  },
  {
   "cell_type": "code",
   "execution_count": 136,
   "id": "ef9d752d",
   "metadata": {},
   "outputs": [
    {
     "name": "stdout",
     "output_type": "stream",
     "text": [
      "14\n",
      "Epoch 1/10\n",
      "45/45 [==============================] - 124s 3s/step - loss: 1.6006 - accuracy: 0.6055 - val_loss: 0.0743 - val_accuracy: 0.9860\n",
      "Epoch 2/10\n",
      "45/45 [==============================] - 135s 3s/step - loss: 0.9267 - accuracy: 0.7437 - val_loss: 0.0412 - val_accuracy: 0.9888\n",
      "Epoch 3/10\n",
      "45/45 [==============================] - 123s 3s/step - loss: 0.7513 - accuracy: 0.7913 - val_loss: 0.0463 - val_accuracy: 0.9880\n",
      "Epoch 4/10\n",
      "45/45 [==============================] - 128s 3s/step - loss: 0.5948 - accuracy: 0.8324 - val_loss: 0.0535 - val_accuracy: 0.9875\n",
      "Epoch 5/10\n",
      "45/45 [==============================] - 118s 3s/step - loss: 0.5840 - accuracy: 0.8350 - val_loss: 0.0336 - val_accuracy: 0.9908\n",
      "Epoch 6/10\n",
      "45/45 [==============================] - 103s 2s/step - loss: 0.4540 - accuracy: 0.8703 - val_loss: 0.0412 - val_accuracy: 0.9898\n",
      "Epoch 7/10\n",
      "45/45 [==============================] - 101s 2s/step - loss: 0.4253 - accuracy: 0.8787 - val_loss: 0.0377 - val_accuracy: 0.9885\n",
      "Epoch 8/10\n",
      "45/45 [==============================] - 102s 2s/step - loss: 0.3412 - accuracy: 0.8968 - val_loss: 0.0320 - val_accuracy: 0.9918\n",
      "Epoch 9/10\n",
      "45/45 [==============================] - 108s 2s/step - loss: 0.3417 - accuracy: 0.8968 - val_loss: 0.0423 - val_accuracy: 0.9890\n",
      "Epoch 10/10\n",
      "45/45 [==============================] - 104s 2s/step - loss: 0.3010 - accuracy: 0.9064 - val_loss: 0.0330 - val_accuracy: 0.9934\n",
      "Duration: 0:19:06.181186\n"
     ]
    }
   ],
   "source": [
    "#\n",
    "print(n)\n",
    "models_se[n].fit_model(image_sets_se[n],label_sets_se[n],x_val,y_val)\n",
    "n = n+1"
   ]
  },
  {
   "cell_type": "code",
   "execution_count": 137,
   "id": "8866d4bf",
   "metadata": {},
   "outputs": [
    {
     "name": "stdout",
     "output_type": "stream",
     "text": [
      "15\n",
      "Epoch 1/10\n",
      "48/48 [==============================] - 124s 3s/step - loss: 1.5233 - accuracy: 0.6548 - val_loss: 0.0499 - val_accuracy: 0.9875\n",
      "Epoch 2/10\n",
      "48/48 [==============================] - 123s 3s/step - loss: 0.8670 - accuracy: 0.7613 - val_loss: 0.0411 - val_accuracy: 0.9890\n",
      "Epoch 3/10\n",
      "48/48 [==============================] - 125s 3s/step - loss: 0.6858 - accuracy: 0.7997 - val_loss: 0.0562 - val_accuracy: 0.9855\n",
      "Epoch 4/10\n",
      "48/48 [==============================] - 125s 3s/step - loss: 0.5822 - accuracy: 0.8329 - val_loss: 0.0307 - val_accuracy: 0.9921\n",
      "Epoch 5/10\n",
      "48/48 [==============================] - 123s 3s/step - loss: 0.5292 - accuracy: 0.8430 - val_loss: 0.0588 - val_accuracy: 0.9860\n",
      "Epoch 6/10\n",
      "48/48 [==============================] - 121s 3s/step - loss: 0.4921 - accuracy: 0.8573 - val_loss: 0.0719 - val_accuracy: 0.9832\n",
      "Epoch 7/10\n",
      "48/48 [==============================] - 122s 3s/step - loss: 0.4106 - accuracy: 0.8809 - val_loss: 0.0309 - val_accuracy: 0.9921\n",
      "Epoch 8/10\n",
      "48/48 [==============================] - 121s 3s/step - loss: 0.3901 - accuracy: 0.8827 - val_loss: 0.0410 - val_accuracy: 0.9913\n",
      "Epoch 9/10\n",
      "48/48 [==============================] - 125s 3s/step - loss: 0.3263 - accuracy: 0.9036 - val_loss: 0.0349 - val_accuracy: 0.9931\n",
      "Epoch 10/10\n",
      "48/48 [==============================] - 120s 3s/step - loss: 0.2946 - accuracy: 0.9040 - val_loss: 0.0504 - val_accuracy: 0.9888\n",
      "Duration: 0:20:28.280726\n"
     ]
    }
   ],
   "source": [
    "print(n)\n",
    "models_se[n].fit_model(image_sets_se[n],label_sets_se[n],x_val,y_val)\n",
    "n = n+1"
   ]
  },
  {
   "cell_type": "code",
   "execution_count": 138,
   "id": "20094079",
   "metadata": {},
   "outputs": [
    {
     "name": "stdout",
     "output_type": "stream",
     "text": [
      "16\n",
      "Epoch 1/10\n",
      "51/51 [==============================] - 124s 2s/step - loss: 1.4932 - accuracy: 0.6484 - val_loss: 0.0426 - val_accuracy: 0.9898\n",
      "Epoch 2/10\n",
      "51/51 [==============================] - 133s 3s/step - loss: 0.8605 - accuracy: 0.7632 - val_loss: 0.0535 - val_accuracy: 0.9900\n",
      "Epoch 3/10\n",
      "51/51 [==============================] - 128s 3s/step - loss: 0.6767 - accuracy: 0.8102 - val_loss: 0.0936 - val_accuracy: 0.9801\n",
      "Epoch 4/10\n",
      "51/51 [==============================] - 138s 3s/step - loss: 0.5692 - accuracy: 0.8326 - val_loss: 0.0457 - val_accuracy: 0.9880\n",
      "Epoch 5/10\n",
      "51/51 [==============================] - 128s 3s/step - loss: 0.5294 - accuracy: 0.8528 - val_loss: 0.0371 - val_accuracy: 0.9883\n",
      "Epoch 6/10\n",
      "51/51 [==============================] - 139s 3s/step - loss: 0.4762 - accuracy: 0.8606 - val_loss: 0.0981 - val_accuracy: 0.9747\n",
      "Epoch 7/10\n",
      "51/51 [==============================] - 135s 3s/step - loss: 0.3961 - accuracy: 0.8808 - val_loss: 0.0399 - val_accuracy: 0.9888\n",
      "Epoch 8/10\n",
      "51/51 [==============================] - 135s 3s/step - loss: 0.3334 - accuracy: 0.8945 - val_loss: 0.0472 - val_accuracy: 0.9923\n",
      "Epoch 9/10\n",
      "51/51 [==============================] - 135s 3s/step - loss: 0.3250 - accuracy: 0.9152 - val_loss: 0.0352 - val_accuracy: 0.9916\n",
      "Epoch 10/10\n",
      "51/51 [==============================] - 137s 3s/step - loss: 0.3168 - accuracy: 0.9104 - val_loss: 0.0506 - val_accuracy: 0.9867\n",
      "Duration: 0:22:11.372867\n"
     ]
    }
   ],
   "source": [
    "print(n)\n",
    "models_se[n].fit_model(image_sets_se[n],label_sets_se[n],x_val,y_val)\n",
    "n = n+1"
   ]
  },
  {
   "cell_type": "code",
   "execution_count": 139,
   "id": "86a5bf4a",
   "metadata": {},
   "outputs": [
    {
     "name": "stdout",
     "output_type": "stream",
     "text": [
      "17\n",
      "Epoch 1/10\n",
      "54/54 [==============================] - 162s 3s/step - loss: 1.3693 - accuracy: 0.6832 - val_loss: 0.0843 - val_accuracy: 0.9860\n",
      "Epoch 2/10\n",
      "54/54 [==============================] - 156s 3s/step - loss: 0.8028 - accuracy: 0.7777 - val_loss: 0.0552 - val_accuracy: 0.9829\n",
      "Epoch 3/10\n",
      "54/54 [==============================] - 168s 3s/step - loss: 0.6170 - accuracy: 0.8171 - val_loss: 0.0367 - val_accuracy: 0.9913\n",
      "Epoch 4/10\n",
      "54/54 [==============================] - 147s 3s/step - loss: 0.5431 - accuracy: 0.8421 - val_loss: 0.0535 - val_accuracy: 0.9872\n",
      "Epoch 5/10\n",
      "54/54 [==============================] - 162s 3s/step - loss: 0.4610 - accuracy: 0.8668 - val_loss: 0.0431 - val_accuracy: 0.9888\n",
      "Epoch 6/10\n",
      "54/54 [==============================] - 159s 3s/step - loss: 0.4059 - accuracy: 0.8753 - val_loss: 0.0434 - val_accuracy: 0.9913\n",
      "Epoch 7/10\n",
      "54/54 [==============================] - 160s 3s/step - loss: 0.3439 - accuracy: 0.8981 - val_loss: 0.0361 - val_accuracy: 0.9898\n",
      "Epoch 8/10\n",
      "54/54 [==============================] - 157s 3s/step - loss: 0.3551 - accuracy: 0.9008 - val_loss: 0.0427 - val_accuracy: 0.9900\n",
      "Epoch 9/10\n",
      "54/54 [==============================] - 154s 3s/step - loss: 0.2855 - accuracy: 0.9137 - val_loss: 0.0380 - val_accuracy: 0.9898\n",
      "Epoch 10/10\n",
      "54/54 [==============================] - 154s 3s/step - loss: 0.3055 - accuracy: 0.9217 - val_loss: 0.0512 - val_accuracy: 0.9895\n",
      "Duration: 0:26:19.956998\n"
     ]
    }
   ],
   "source": [
    "print(n)\n",
    "models_se[n].fit_model(image_sets_se[n],label_sets_se[n],x_val,y_val)\n",
    "n = n+1"
   ]
  },
  {
   "cell_type": "code",
   "execution_count": 140,
   "id": "ff39111d",
   "metadata": {},
   "outputs": [
    {
     "name": "stdout",
     "output_type": "stream",
     "text": [
      "18\n",
      "Epoch 1/10\n",
      "57/57 [==============================] - 177s 3s/step - loss: 1.2797 - accuracy: 0.6933 - val_loss: 0.0462 - val_accuracy: 0.9883\n",
      "Epoch 2/10\n",
      "57/57 [==============================] - 171s 3s/step - loss: 0.7243 - accuracy: 0.8062 - val_loss: 0.0535 - val_accuracy: 0.9852\n",
      "Epoch 3/10\n",
      "57/57 [==============================] - 174s 3s/step - loss: 0.6079 - accuracy: 0.8309 - val_loss: 0.0428 - val_accuracy: 0.9895\n",
      "Epoch 4/10\n",
      "57/57 [==============================] - 175s 3s/step - loss: 0.4984 - accuracy: 0.8627 - val_loss: 0.0383 - val_accuracy: 0.9916\n",
      "Epoch 5/10\n",
      "57/57 [==============================] - 176s 3s/step - loss: 0.4400 - accuracy: 0.8743 - val_loss: 0.0405 - val_accuracy: 0.9918\n",
      "Epoch 6/10\n",
      "57/57 [==============================] - 168s 3s/step - loss: 0.3947 - accuracy: 0.8824 - val_loss: 0.0547 - val_accuracy: 0.9872\n",
      "Epoch 7/10\n",
      "57/57 [==============================] - 173s 3s/step - loss: 0.3455 - accuracy: 0.8929 - val_loss: 0.0510 - val_accuracy: 0.9883\n",
      "Epoch 8/10\n",
      "57/57 [==============================] - 167s 3s/step - loss: 0.2965 - accuracy: 0.9121 - val_loss: 0.0717 - val_accuracy: 0.9839\n",
      "Epoch 9/10\n",
      "57/57 [==============================] - 162s 3s/step - loss: 0.3152 - accuracy: 0.9055 - val_loss: 0.0471 - val_accuracy: 0.9913\n",
      "Epoch 10/10\n",
      "57/57 [==============================] - 179s 3s/step - loss: 0.2564 - accuracy: 0.9260 - val_loss: 0.0443 - val_accuracy: 0.9893\n",
      "Duration: 0:28:41.734121\n"
     ]
    }
   ],
   "source": [
    "print(n)\n",
    "models_se[n].fit_model(image_sets_se[n],label_sets_se[n],x_val,y_val)\n",
    "n = n+1"
   ]
  },
  {
   "cell_type": "code",
   "execution_count": 141,
   "id": "c5efc9e3",
   "metadata": {},
   "outputs": [
    {
     "name": "stdout",
     "output_type": "stream",
     "text": [
      "19\n",
      "Epoch 1/10\n",
      "62/62 [==============================] - 192s 3s/step - loss: 1.1453 - accuracy: 0.7226 - val_loss: 0.1268 - val_accuracy: 0.9676\n",
      "Epoch 2/10\n",
      "62/62 [==============================] - 193s 3s/step - loss: 0.7500 - accuracy: 0.7983 - val_loss: 0.0279 - val_accuracy: 0.9934\n",
      "Epoch 3/10\n",
      "62/62 [==============================] - 185s 3s/step - loss: 0.5054 - accuracy: 0.8543 - val_loss: 0.0390 - val_accuracy: 0.9898\n",
      "Epoch 4/10\n",
      "62/62 [==============================] - 181s 3s/step - loss: 0.4174 - accuracy: 0.8748 - val_loss: 0.0967 - val_accuracy: 0.9727\n",
      "Epoch 5/10\n",
      "62/62 [==============================] - 173s 3s/step - loss: 0.4005 - accuracy: 0.8873 - val_loss: 0.0516 - val_accuracy: 0.9867\n",
      "Epoch 6/10\n",
      "62/62 [==============================] - 187s 3s/step - loss: 0.3562 - accuracy: 0.8899 - val_loss: 0.0380 - val_accuracy: 0.9911\n",
      "Epoch 7/10\n",
      "62/62 [==============================] - 185s 3s/step - loss: 0.3440 - accuracy: 0.9018 - val_loss: 0.0608 - val_accuracy: 0.9867\n",
      "Epoch 8/10\n",
      "62/62 [==============================] - 182s 3s/step - loss: 0.3015 - accuracy: 0.9064 - val_loss: 0.0678 - val_accuracy: 0.9872\n",
      "Epoch 9/10\n",
      "62/62 [==============================] - 190s 3s/step - loss: 0.2719 - accuracy: 0.9185 - val_loss: 0.0426 - val_accuracy: 0.9895\n",
      "Epoch 10/10\n",
      "62/62 [==============================] - 190s 3s/step - loss: 0.2543 - accuracy: 0.9249 - val_loss: 0.0690 - val_accuracy: 0.9872\n",
      "Duration: 0:30:57.936100\n"
     ]
    }
   ],
   "source": [
    "#\n",
    "print(n)\n",
    "models_se[n].fit_model(image_sets_se[n],label_sets_se[n],x_val,y_val)\n",
    "n = n+1"
   ]
  },
  {
   "cell_type": "code",
   "execution_count": 142,
   "id": "825c1334",
   "metadata": {},
   "outputs": [
    {
     "name": "stdout",
     "output_type": "stream",
     "text": [
      "INFO:tensorflow:Assets written to: D:/models/aug_22/gtsrb/C3/e2/gtsrb_model_c3_aug_se_e2_0\\assets\n",
      "Model has been saved\n",
      "INFO:tensorflow:Assets written to: D:/models/aug_22/gtsrb/C3/e2/gtsrb_model_c3_aug_se_e2_1\\assets\n",
      "Model has been saved\n",
      "INFO:tensorflow:Assets written to: D:/models/aug_22/gtsrb/C3/e2/gtsrb_model_c3_aug_se_e2_2\\assets\n",
      "Model has been saved\n",
      "INFO:tensorflow:Assets written to: D:/models/aug_22/gtsrb/C3/e2/gtsrb_model_c3_aug_se_e2_3\\assets\n",
      "Model has been saved\n",
      "INFO:tensorflow:Assets written to: D:/models/aug_22/gtsrb/C3/e2/gtsrb_model_c3_aug_se_e2_4\\assets\n",
      "Model has been saved\n",
      "INFO:tensorflow:Assets written to: D:/models/aug_22/gtsrb/C3/e2/gtsrb_model_c3_aug_se_e2_5\\assets\n",
      "Model has been saved\n",
      "INFO:tensorflow:Assets written to: D:/models/aug_22/gtsrb/C3/e2/gtsrb_model_c3_aug_se_e2_6\\assets\n",
      "Model has been saved\n",
      "INFO:tensorflow:Assets written to: D:/models/aug_22/gtsrb/C3/e2/gtsrb_model_c3_aug_se_e2_7\\assets\n",
      "Model has been saved\n",
      "INFO:tensorflow:Assets written to: D:/models/aug_22/gtsrb/C3/e2/gtsrb_model_c3_aug_se_e2_8\\assets\n",
      "Model has been saved\n",
      "INFO:tensorflow:Assets written to: D:/models/aug_22/gtsrb/C3/e2/gtsrb_model_c3_aug_se_e2_9\\assets\n",
      "Model has been saved\n",
      "INFO:tensorflow:Assets written to: D:/models/aug_22/gtsrb/C3/e2/gtsrb_model_c3_aug_se_e2_10\\assets\n",
      "Model has been saved\n",
      "INFO:tensorflow:Assets written to: D:/models/aug_22/gtsrb/C3/e2/gtsrb_model_c3_aug_se_e2_11\\assets\n",
      "Model has been saved\n",
      "INFO:tensorflow:Assets written to: D:/models/aug_22/gtsrb/C3/e2/gtsrb_model_c3_aug_se_e2_12\\assets\n",
      "Model has been saved\n",
      "INFO:tensorflow:Assets written to: D:/models/aug_22/gtsrb/C3/e2/gtsrb_model_c3_aug_se_e2_13\\assets\n",
      "Model has been saved\n",
      "INFO:tensorflow:Assets written to: D:/models/aug_22/gtsrb/C3/e2/gtsrb_model_c3_aug_se_e2_14\\assets\n",
      "Model has been saved\n",
      "INFO:tensorflow:Assets written to: D:/models/aug_22/gtsrb/C3/e2/gtsrb_model_c3_aug_se_e2_15\\assets\n",
      "Model has been saved\n",
      "INFO:tensorflow:Assets written to: D:/models/aug_22/gtsrb/C3/e2/gtsrb_model_c3_aug_se_e2_16\\assets\n",
      "Model has been saved\n",
      "INFO:tensorflow:Assets written to: D:/models/aug_22/gtsrb/C3/e2/gtsrb_model_c3_aug_se_e2_17\\assets\n",
      "Model has been saved\n",
      "INFO:tensorflow:Assets written to: D:/models/aug_22/gtsrb/C3/e2/gtsrb_model_c3_aug_se_e2_18\\assets\n",
      "Model has been saved\n",
      "INFO:tensorflow:Assets written to: D:/models/aug_22/gtsrb/C3/e2/gtsrb_model_c3_aug_se_e2_19\\assets\n",
      "Model has been saved\n"
     ]
    }
   ],
   "source": [
    "#new_model_se_dir  = \"C:/Users/fjdurlop/Documents/upc/models/\"+dataset+\"/C3/\"+dataset+\"_model_c3_aug_se_e1\"\n",
    "new_model_se_dir  = \"D:/models/aug_22/gtsrb/C3/e2/gtsrb_model_c3_aug_se_e2\"\n",
    "\n",
    "i=0\n",
    "\n",
    "for model in models_se:\n",
    "    model.save(new_model_se_dir+\"_\"+str(i))\n",
    "    i+=1"
   ]
  },
  {
   "cell_type": "code",
   "execution_count": 143,
   "id": "95d86000",
   "metadata": {},
   "outputs": [],
   "source": [
    "try:\n",
    "    del se_values\n",
    "    del top_images_by_se\n",
    "    del top_labels_by_se\n",
    "    del image_sets_se\n",
    "    del label_sets_se\n",
    "    del models_se\n",
    "except:\n",
    "    print(\"Error\")"
   ]
  },
  {
   "cell_type": "code",
   "execution_count": 144,
   "id": "fcf7c5f3",
   "metadata": {},
   "outputs": [
    {
     "data": {
      "text/plain": [
       "526135"
      ]
     },
     "execution_count": 144,
     "metadata": {},
     "output_type": "execute_result"
    }
   ],
   "source": [
    "gc.collect()"
   ]
  },
  {
   "cell_type": "markdown",
   "id": "11198aa3",
   "metadata": {},
   "source": [
    "## Training guided by Random values"
   ]
  },
  {
   "cell_type": "code",
   "execution_count": 145,
   "id": "0eca574c",
   "metadata": {},
   "outputs": [
    {
     "name": "stdout",
     "output_type": "stream",
     "text": [
      "3921\n"
     ]
    }
   ],
   "source": [
    "#save_dir = \"C:/Users/fjdurlop/Documents/upc/upc-july/data/\"+dataset+\"/random_values.npy\"\n",
    "save_dir = \"C:/Users/fjdur/Documents/upc-july/data/\"+dataset+\"/random_values.npy\"\n",
    "\n",
    "\n",
    "random_indexes = np.load(save_dir)[len(x_train):] \n",
    "print(len(random_indexes))"
   ]
  },
  {
   "cell_type": "code",
   "execution_count": 146,
   "id": "5a735c0d",
   "metadata": {},
   "outputs": [
    {
     "data": {
      "text/plain": [
       "3921"
      ]
     },
     "execution_count": 146,
     "metadata": {},
     "output_type": "execute_result"
    }
   ],
   "source": [
    "len(random_indexes)"
   ]
  },
  {
   "cell_type": "code",
   "execution_count": 147,
   "id": "d13ccb6c",
   "metadata": {},
   "outputs": [],
   "source": [
    "# Obtaining top n images by random values\n",
    "top_images_by_random = utils.get_x_of_indexes(list(np.flip(np.argsort(random_indexes))),x_adversary_training)\n",
    "top_labels_by_random = utils.get_x_of_indexes(list(np.flip(np.argsort(random_indexes))),y_adversary_training)"
   ]
  },
  {
   "cell_type": "code",
   "execution_count": 148,
   "id": "1209ac75",
   "metadata": {},
   "outputs": [
    {
     "name": "stdout",
     "output_type": "stream",
     "text": [
      "0 :\n",
      "0  ->  190\n",
      "190\n",
      "1 :\n",
      "0  ->  380\n",
      "380\n",
      "2 :\n",
      "0  ->  570\n",
      "570\n",
      "3 :\n",
      "0  ->  760\n",
      "760\n",
      "4 :\n",
      "0  ->  950\n",
      "950\n",
      "5 :\n",
      "0  ->  1140\n",
      "1140\n",
      "6 :\n",
      "0  ->  1330\n",
      "1330\n",
      "7 :\n",
      "0  ->  1520\n",
      "1520\n",
      "8 :\n",
      "0  ->  1710\n",
      "1710\n",
      "9 :\n",
      "0  ->  1900\n",
      "1900\n",
      "10 :\n",
      "0  ->  2090\n",
      "2090\n",
      "11 :\n",
      "0  ->  2280\n",
      "2280\n",
      "12 :\n",
      "0  ->  2470\n",
      "2470\n",
      "13 :\n",
      "0  ->  2660\n",
      "2660\n",
      "14 :\n",
      "0  ->  2850\n",
      "2850\n",
      "15 :\n",
      "0  ->  3040\n",
      "3040\n",
      "16 :\n",
      "0  ->  3230\n",
      "3230\n",
      "17 :\n",
      "0  ->  3420\n",
      "3420\n",
      "18 :\n",
      "0  ->  3610\n",
      "3610\n",
      "19 :\n",
      "Last\n",
      "0  ->  3921\n",
      "3921\n"
     ]
    }
   ],
   "source": [
    "m = n_data_points\n",
    "n = 0\n",
    "image_sets_random = []\n",
    "label_sets_random = []\n",
    "\n",
    "\n",
    "\n",
    "for i in range((len(top_images_by_random)//m)):\n",
    "    print(i,\":\")\n",
    "    if (i+1 >= ((len(top_images_by_random)//m))):\n",
    "        print(\"Last\")\n",
    "        print(0,\" -> \",n+m+(len(top_images_by_random)%m))\n",
    "        top_images_by_random_n = np.array(top_images_by_random[:n+m+(len(top_images_by_random)%m)])\n",
    "        top_labels_by_random_n = np.array(top_labels_by_random[:n+m+(len(top_images_by_random)%m)])\n",
    "    else:\n",
    "        print(0,\" -> \",m+n)\n",
    "        top_images_by_random_n = np.array(top_images_by_random[:n+m])\n",
    "        top_labels_by_random_n = np.array(top_labels_by_random[:n+m])\n",
    "    image_sets_random.append(top_images_by_random_n)\n",
    "    label_sets_random.append(top_labels_by_random_n)\n",
    "    print(len(top_images_by_random_n))\n",
    "    n += m\n",
    "\n",
    "\n"
   ]
  },
  {
   "cell_type": "code",
   "execution_count": 149,
   "id": "3ed47a88",
   "metadata": {},
   "outputs": [
    {
     "data": {
      "text/plain": [
       "20"
      ]
     },
     "execution_count": 149,
     "metadata": {},
     "output_type": "execute_result"
    }
   ],
   "source": [
    "len(image_sets_random)"
   ]
  },
  {
   "cell_type": "code",
   "execution_count": 150,
   "id": "3f03e1cf",
   "metadata": {},
   "outputs": [
    {
     "name": "stdout",
     "output_type": "stream",
     "text": [
      "C:/Users/fjdur/Documents/upc-july/models/tf_model_25-06\n",
      "0 :\n",
      "Model loaded correctly\n",
      "Model compiled\n",
      "1 :\n",
      "Model loaded correctly\n",
      "Model compiled\n",
      "2 :\n",
      "Model loaded correctly\n",
      "Model compiled\n",
      "3 :\n",
      "Model loaded correctly\n",
      "Model compiled\n",
      "4 :\n",
      "Model loaded correctly\n",
      "Model compiled\n",
      "5 :\n",
      "Model loaded correctly\n",
      "Model compiled\n",
      "6 :\n",
      "Model loaded correctly\n",
      "Model compiled\n",
      "7 :\n",
      "Model loaded correctly\n",
      "Model compiled\n",
      "8 :\n",
      "Model loaded correctly\n",
      "Model compiled\n",
      "9 :\n",
      "Model loaded correctly\n",
      "Model compiled\n",
      "10 :\n",
      "Model loaded correctly\n",
      "Model compiled\n",
      "11 :\n",
      "Model loaded correctly\n",
      "Model compiled\n",
      "12 :\n",
      "Model loaded correctly\n",
      "Model compiled\n",
      "13 :\n",
      "Model loaded correctly\n",
      "Model compiled\n",
      "14 :\n",
      "Model loaded correctly\n",
      "Model compiled\n",
      "15 :\n",
      "Model loaded correctly\n",
      "Model compiled\n",
      "16 :\n",
      "Model loaded correctly\n",
      "Model compiled\n",
      "17 :\n",
      "Model loaded correctly\n",
      "Model compiled\n",
      "18 :\n",
      "Model loaded correctly\n",
      "Model compiled\n",
      "19 :\n",
      "Model loaded correctly\n",
      "Model compiled\n"
     ]
    }
   ],
   "source": [
    "print(model_dir)\n",
    "\n",
    "models_random = []\n",
    "for i in range(len(label_sets_random)):\n",
    "    print(i,\":\")\n",
    "    model = utils.My_model(dataset,True,model_dir)\n",
    "    model.compile_model()\n",
    "    models_random.append(model)\n"
   ]
  },
  {
   "cell_type": "code",
   "execution_count": 151,
   "id": "14912c8b",
   "metadata": {},
   "outputs": [
    {
     "name": "stdout",
     "output_type": "stream",
     "text": [
      "0\n",
      "Epoch 1/10\n",
      "3/3 [==============================] - 19s 7s/step - loss: 1.7873 - accuracy: 0.6570 - val_loss: 0.1287 - val_accuracy: 0.9765\n",
      "Epoch 2/10\n",
      "3/3 [==============================] - 15s 7s/step - loss: 1.1078 - accuracy: 0.7095 - val_loss: 0.0382 - val_accuracy: 0.9900\n",
      "Epoch 3/10\n",
      "3/3 [==============================] - 15s 7s/step - loss: 0.7309 - accuracy: 0.7808 - val_loss: 0.0546 - val_accuracy: 0.9890\n",
      "Epoch 4/10\n",
      "3/3 [==============================] - 16s 7s/step - loss: 0.5909 - accuracy: 0.8729 - val_loss: 0.0507 - val_accuracy: 0.9880\n",
      "Epoch 5/10\n",
      "3/3 [==============================] - 16s 8s/step - loss: 0.4791 - accuracy: 0.8709 - val_loss: 0.0632 - val_accuracy: 0.9842\n",
      "Epoch 6/10\n",
      "3/3 [==============================] - 16s 8s/step - loss: 0.5978 - accuracy: 0.8469 - val_loss: 0.0437 - val_accuracy: 0.9893\n",
      "Epoch 7/10\n",
      "3/3 [==============================] - 16s 8s/step - loss: 0.4700 - accuracy: 0.8482 - val_loss: 0.0690 - val_accuracy: 0.9811\n",
      "Epoch 8/10\n",
      "3/3 [==============================] - 16s 8s/step - loss: 0.4781 - accuracy: 0.8750 - val_loss: 0.0686 - val_accuracy: 0.9870\n",
      "Epoch 9/10\n",
      "3/3 [==============================] - 16s 8s/step - loss: 0.5487 - accuracy: 0.8672 - val_loss: 0.0479 - val_accuracy: 0.9880\n",
      "Epoch 10/10\n",
      "3/3 [==============================] - 16s 8s/step - loss: 0.3760 - accuracy: 0.8848 - val_loss: 0.0509 - val_accuracy: 0.9880\n",
      "Duration: 0:02:40.878032\n"
     ]
    }
   ],
   "source": [
    "n=0\n",
    "print(n)\n",
    "\n",
    "models_random[n].fit_model(image_sets_random[n],label_sets_random[n],x_val,y_val)\n",
    "n = n+1"
   ]
  },
  {
   "cell_type": "code",
   "execution_count": 152,
   "id": "f28e27b1",
   "metadata": {},
   "outputs": [
    {
     "name": "stdout",
     "output_type": "stream",
     "text": [
      "1\n",
      "Epoch 1/10\n",
      "6/6 [==============================] - 22s 4s/step - loss: 1.4954 - accuracy: 0.7225 - val_loss: 0.0676 - val_accuracy: 0.9847\n",
      "Epoch 2/10\n",
      "6/6 [==============================] - 18s 4s/step - loss: 0.9872 - accuracy: 0.7491 - val_loss: 0.0427 - val_accuracy: 0.9890\n",
      "Epoch 3/10\n",
      "6/6 [==============================] - 18s 4s/step - loss: 0.7422 - accuracy: 0.8073 - val_loss: 0.0344 - val_accuracy: 0.9906\n",
      "Epoch 4/10\n",
      "6/6 [==============================] - 19s 4s/step - loss: 0.8446 - accuracy: 0.7765 - val_loss: 0.0437 - val_accuracy: 0.9888\n",
      "Epoch 5/10\n",
      "6/6 [==============================] - 19s 4s/step - loss: 0.6754 - accuracy: 0.8381 - val_loss: 0.0438 - val_accuracy: 0.9900\n",
      "Epoch 6/10\n",
      "6/6 [==============================] - 20s 4s/step - loss: 0.5753 - accuracy: 0.8228 - val_loss: 0.0334 - val_accuracy: 0.9931\n",
      "Epoch 7/10\n",
      "6/6 [==============================] - 18s 4s/step - loss: 0.5072 - accuracy: 0.8583 - val_loss: 0.0590 - val_accuracy: 0.9883\n",
      "Epoch 8/10\n",
      "6/6 [==============================] - 19s 4s/step - loss: 0.5052 - accuracy: 0.8618 - val_loss: 0.0585 - val_accuracy: 0.9862\n",
      "Epoch 9/10\n",
      "6/6 [==============================] - 19s 4s/step - loss: 0.4400 - accuracy: 0.8830 - val_loss: 0.0450 - val_accuracy: 0.9890\n",
      "Epoch 10/10\n",
      "6/6 [==============================] - 18s 4s/step - loss: 0.3674 - accuracy: 0.8792 - val_loss: 0.0476 - val_accuracy: 0.9900\n",
      "Duration: 0:03:09.622306\n"
     ]
    }
   ],
   "source": [
    "print(n)\n",
    "models_random[n].fit_model(image_sets_random[n],label_sets_random[n],x_val,y_val)\n",
    "n = n+1"
   ]
  },
  {
   "cell_type": "code",
   "execution_count": 153,
   "id": "c9f5601b",
   "metadata": {},
   "outputs": [
    {
     "name": "stdout",
     "output_type": "stream",
     "text": [
      "2\n",
      "Epoch 1/10\n",
      "9/9 [==============================] - 33s 4s/step - loss: 1.8804 - accuracy: 0.6213 - val_loss: 0.0863 - val_accuracy: 0.9875\n",
      "Epoch 2/10\n",
      "9/9 [==============================] - 30s 4s/step - loss: 0.9204 - accuracy: 0.7621 - val_loss: 0.0489 - val_accuracy: 0.9900\n",
      "Epoch 3/10\n",
      "9/9 [==============================] - 29s 4s/step - loss: 0.7743 - accuracy: 0.7819 - val_loss: 0.0450 - val_accuracy: 0.9893\n",
      "Epoch 4/10\n",
      "9/9 [==============================] - 30s 4s/step - loss: 0.7071 - accuracy: 0.7998 - val_loss: 0.0498 - val_accuracy: 0.9885\n",
      "Epoch 5/10\n",
      "9/9 [==============================] - 29s 4s/step - loss: 0.5757 - accuracy: 0.8310 - val_loss: 0.0755 - val_accuracy: 0.9857\n",
      "Epoch 6/10\n",
      "9/9 [==============================] - 31s 4s/step - loss: 0.5620 - accuracy: 0.8320 - val_loss: 0.0470 - val_accuracy: 0.9908\n",
      "Epoch 7/10\n",
      "9/9 [==============================] - 31s 4s/step - loss: 0.5356 - accuracy: 0.8490 - val_loss: 0.0645 - val_accuracy: 0.9880\n",
      "Epoch 8/10\n",
      "9/9 [==============================] - 31s 4s/step - loss: 0.4595 - accuracy: 0.8655 - val_loss: 0.0456 - val_accuracy: 0.9893\n",
      "Epoch 9/10\n",
      "9/9 [==============================] - 30s 4s/step - loss: 0.5198 - accuracy: 0.8722 - val_loss: 0.0508 - val_accuracy: 0.9890\n",
      "Epoch 10/10\n",
      "9/9 [==============================] - 30s 4s/step - loss: 0.3260 - accuracy: 0.9021 - val_loss: 0.0552 - val_accuracy: 0.9890\n",
      "Duration: 0:05:05.017519\n"
     ]
    }
   ],
   "source": [
    "print(n)\n",
    "models_random[n].fit_model(image_sets_random[n],label_sets_random[n],x_val,y_val)\n",
    "n = n+1"
   ]
  },
  {
   "cell_type": "code",
   "execution_count": 154,
   "id": "383e5890",
   "metadata": {},
   "outputs": [
    {
     "name": "stdout",
     "output_type": "stream",
     "text": [
      "3\n",
      "Epoch 1/10\n",
      "12/12 [==============================] - 39s 3s/step - loss: 1.7010 - accuracy: 0.6788 - val_loss: 0.0527 - val_accuracy: 0.9875\n",
      "Epoch 2/10\n",
      "12/12 [==============================] - 34s 3s/step - loss: 0.9940 - accuracy: 0.7550 - val_loss: 0.0980 - val_accuracy: 0.9842\n",
      "Epoch 3/10\n",
      "12/12 [==============================] - 34s 3s/step - loss: 0.8691 - accuracy: 0.7592 - val_loss: 0.0418 - val_accuracy: 0.9913\n",
      "Epoch 4/10\n",
      "12/12 [==============================] - 44s 4s/step - loss: 0.6514 - accuracy: 0.8112 - val_loss: 0.0517 - val_accuracy: 0.9898\n",
      "Epoch 5/10\n",
      "12/12 [==============================] - 45s 4s/step - loss: 0.5727 - accuracy: 0.8596 - val_loss: 0.0310 - val_accuracy: 0.9923\n",
      "Epoch 6/10\n",
      "12/12 [==============================] - 38s 3s/step - loss: 0.4800 - accuracy: 0.8675 - val_loss: 0.0292 - val_accuracy: 0.9918\n",
      "Epoch 7/10\n",
      "12/12 [==============================] - 45s 4s/step - loss: 0.4260 - accuracy: 0.8681 - val_loss: 0.0466 - val_accuracy: 0.9921\n",
      "Epoch 8/10\n",
      "12/12 [==============================] - 37s 3s/step - loss: 0.3629 - accuracy: 0.8992 - val_loss: 0.0500 - val_accuracy: 0.9893\n",
      "Epoch 9/10\n",
      "12/12 [==============================] - 36s 3s/step - loss: 0.3304 - accuracy: 0.9003 - val_loss: 0.0667 - val_accuracy: 0.9860\n",
      "Epoch 10/10\n",
      "12/12 [==============================] - 34s 3s/step - loss: 0.3507 - accuracy: 0.9041 - val_loss: 0.0738 - val_accuracy: 0.9829\n",
      "Duration: 0:06:25.263646\n"
     ]
    }
   ],
   "source": [
    "print(n)\n",
    "models_random[n].fit_model(image_sets_random[n],label_sets_random[n],x_val,y_val)\n",
    "n = n+1"
   ]
  },
  {
   "cell_type": "code",
   "execution_count": 155,
   "id": "dc5c7384",
   "metadata": {},
   "outputs": [
    {
     "name": "stdout",
     "output_type": "stream",
     "text": [
      "4\n",
      "Epoch 1/10\n",
      "15/15 [==============================] - 50s 3s/step - loss: 1.4968 - accuracy: 0.6781 - val_loss: 0.0573 - val_accuracy: 0.9911\n",
      "Epoch 2/10\n",
      "15/15 [==============================] - 41s 3s/step - loss: 0.8258 - accuracy: 0.7779 - val_loss: 0.1090 - val_accuracy: 0.9737\n",
      "Epoch 3/10\n",
      "15/15 [==============================] - 46s 3s/step - loss: 0.8375 - accuracy: 0.7762 - val_loss: 0.0457 - val_accuracy: 0.9895\n",
      "Epoch 4/10\n",
      "15/15 [==============================] - 42s 3s/step - loss: 0.6717 - accuracy: 0.8200 - val_loss: 0.0406 - val_accuracy: 0.9921\n",
      "Epoch 5/10\n",
      "15/15 [==============================] - 43s 3s/step - loss: 0.5685 - accuracy: 0.8387 - val_loss: 0.0964 - val_accuracy: 0.9852\n",
      "Epoch 6/10\n",
      "15/15 [==============================] - 43s 3s/step - loss: 0.4319 - accuracy: 0.8833 - val_loss: 0.0508 - val_accuracy: 0.9893\n",
      "Epoch 7/10\n",
      "15/15 [==============================] - 47s 3s/step - loss: 0.4854 - accuracy: 0.8541 - val_loss: 0.0554 - val_accuracy: 0.9878\n",
      "Epoch 8/10\n",
      "15/15 [==============================] - 44s 3s/step - loss: 0.4870 - accuracy: 0.8726 - val_loss: 0.0382 - val_accuracy: 0.9918\n",
      "Epoch 9/10\n",
      "15/15 [==============================] - 47s 3s/step - loss: 0.4265 - accuracy: 0.8833 - val_loss: 0.0413 - val_accuracy: 0.9895\n",
      "Epoch 10/10\n",
      "15/15 [==============================] - 43s 3s/step - loss: 0.3926 - accuracy: 0.8736 - val_loss: 0.0548 - val_accuracy: 0.9862\n",
      "Duration: 0:07:25.141766\n"
     ]
    }
   ],
   "source": [
    "#\n",
    "print(n)\n",
    "models_random[n].fit_model(image_sets_random[n],label_sets_random[n],x_val,y_val)\n",
    "n = n+1"
   ]
  },
  {
   "cell_type": "code",
   "execution_count": 156,
   "id": "d0481a29",
   "metadata": {},
   "outputs": [
    {
     "name": "stdout",
     "output_type": "stream",
     "text": [
      "5\n",
      "Epoch 1/10\n",
      "18/18 [==============================] - 52s 3s/step - loss: 1.4664 - accuracy: 0.6781 - val_loss: 0.0589 - val_accuracy: 0.9878\n",
      "Epoch 2/10\n",
      "18/18 [==============================] - 50s 3s/step - loss: 0.9198 - accuracy: 0.7672 - val_loss: 0.0357 - val_accuracy: 0.9913\n",
      "Epoch 3/10\n",
      "18/18 [==============================] - 49s 3s/step - loss: 0.7109 - accuracy: 0.7995 - val_loss: 0.0385 - val_accuracy: 0.9926\n",
      "Epoch 4/10\n",
      "18/18 [==============================] - 62s 4s/step - loss: 0.6440 - accuracy: 0.8102 - val_loss: 0.0512 - val_accuracy: 0.9890\n",
      "Epoch 5/10\n",
      "18/18 [==============================] - 53s 3s/step - loss: 0.5482 - accuracy: 0.8338 - val_loss: 0.0544 - val_accuracy: 0.9890\n",
      "Epoch 6/10\n",
      "18/18 [==============================] - 51s 3s/step - loss: 0.5241 - accuracy: 0.8538 - val_loss: 0.0505 - val_accuracy: 0.9883\n",
      "Epoch 7/10\n",
      "18/18 [==============================] - 49s 3s/step - loss: 0.4843 - accuracy: 0.8683 - val_loss: 0.0347 - val_accuracy: 0.9906\n",
      "Epoch 8/10\n",
      "18/18 [==============================] - 50s 3s/step - loss: 0.4379 - accuracy: 0.8763 - val_loss: 0.0561 - val_accuracy: 0.9870\n",
      "Epoch 9/10\n",
      "18/18 [==============================] - 50s 3s/step - loss: 0.3724 - accuracy: 0.8928 - val_loss: 0.0448 - val_accuracy: 0.9885\n",
      "Epoch 10/10\n",
      "18/18 [==============================] - 50s 3s/step - loss: 0.4243 - accuracy: 0.8831 - val_loss: 0.0646 - val_accuracy: 0.9867\n",
      "Duration: 0:08:36.849647\n"
     ]
    }
   ],
   "source": [
    "print(n)\n",
    "models_random[n].fit_model(image_sets_random[n],label_sets_random[n],x_val,y_val)\n",
    "n = n+1"
   ]
  },
  {
   "cell_type": "code",
   "execution_count": 157,
   "id": "4ba8de19",
   "metadata": {},
   "outputs": [
    {
     "name": "stdout",
     "output_type": "stream",
     "text": [
      "6\n",
      "Epoch 1/10\n",
      "21/21 [==============================] - 69s 3s/step - loss: 1.5353 - accuracy: 0.6851 - val_loss: 0.0315 - val_accuracy: 0.9923\n",
      "Epoch 2/10\n",
      "21/21 [==============================] - 66s 3s/step - loss: 0.8877 - accuracy: 0.7624 - val_loss: 0.0385 - val_accuracy: 0.9895\n",
      "Epoch 3/10\n",
      "21/21 [==============================] - 56s 3s/step - loss: 0.7293 - accuracy: 0.7959 - val_loss: 0.0388 - val_accuracy: 0.9911\n",
      "Epoch 4/10\n",
      "21/21 [==============================] - 70s 3s/step - loss: 0.6110 - accuracy: 0.8367 - val_loss: 0.0315 - val_accuracy: 0.9926\n",
      "Epoch 5/10\n",
      "21/21 [==============================] - 59s 3s/step - loss: 0.5762 - accuracy: 0.8519 - val_loss: 0.0335 - val_accuracy: 0.9900\n",
      "Epoch 6/10\n",
      "21/21 [==============================] - 61s 3s/step - loss: 0.5027 - accuracy: 0.8519 - val_loss: 0.0573 - val_accuracy: 0.9893\n",
      "Epoch 7/10\n",
      "21/21 [==============================] - 55s 3s/step - loss: 0.4913 - accuracy: 0.8650 - val_loss: 0.0395 - val_accuracy: 0.9888\n",
      "Epoch 8/10\n",
      "21/21 [==============================] - 60s 3s/step - loss: 0.3402 - accuracy: 0.8923 - val_loss: 0.0417 - val_accuracy: 0.9890\n",
      "Epoch 9/10\n",
      "21/21 [==============================] - 59s 3s/step - loss: 0.3706 - accuracy: 0.8883 - val_loss: 0.0910 - val_accuracy: 0.9765\n",
      "Epoch 10/10\n",
      "21/21 [==============================] - 58s 3s/step - loss: 0.3787 - accuracy: 0.8890 - val_loss: 0.0411 - val_accuracy: 0.9898\n",
      "Duration: 0:10:14.281400\n"
     ]
    }
   ],
   "source": [
    "print(n)\n",
    "models_random[n].fit_model(image_sets_random[n],label_sets_random[n],x_val,y_val)\n",
    "n = n+1"
   ]
  },
  {
   "cell_type": "code",
   "execution_count": 158,
   "id": "543c4799",
   "metadata": {},
   "outputs": [
    {
     "name": "stdout",
     "output_type": "stream",
     "text": [
      "7\n",
      "Epoch 1/10\n",
      "24/24 [==============================] - 79s 3s/step - loss: 1.3486 - accuracy: 0.6856 - val_loss: 0.0683 - val_accuracy: 0.9875\n",
      "Epoch 2/10\n",
      "24/24 [==============================] - 77s 3s/step - loss: 0.8748 - accuracy: 0.7737 - val_loss: 0.0372 - val_accuracy: 0.9906\n",
      "Epoch 3/10\n",
      "24/24 [==============================] - 86s 4s/step - loss: 0.7650 - accuracy: 0.7929 - val_loss: 0.0569 - val_accuracy: 0.9870\n",
      "Epoch 4/10\n",
      "24/24 [==============================] - 76s 3s/step - loss: 0.6641 - accuracy: 0.8287 - val_loss: 0.0383 - val_accuracy: 0.9903\n",
      "Epoch 5/10\n",
      "24/24 [==============================] - 77s 3s/step - loss: 0.5947 - accuracy: 0.8301 - val_loss: 0.0462 - val_accuracy: 0.9895\n",
      "Epoch 6/10\n",
      "24/24 [==============================] - 77s 3s/step - loss: 0.5391 - accuracy: 0.8429 - val_loss: 0.0387 - val_accuracy: 0.9918\n",
      "Epoch 7/10\n",
      "24/24 [==============================] - 77s 3s/step - loss: 0.4157 - accuracy: 0.8707 - val_loss: 0.0476 - val_accuracy: 0.9890\n",
      "Epoch 8/10\n",
      "24/24 [==============================] - 76s 3s/step - loss: 0.3967 - accuracy: 0.8825 - val_loss: 0.0367 - val_accuracy: 0.9926\n",
      "Epoch 9/10\n",
      "24/24 [==============================] - 77s 3s/step - loss: 0.3705 - accuracy: 0.8894 - val_loss: 0.0597 - val_accuracy: 0.9862\n",
      "Epoch 10/10\n",
      "24/24 [==============================] - 80s 3s/step - loss: 0.3945 - accuracy: 0.8805 - val_loss: 0.0704 - val_accuracy: 0.9844\n",
      "Duration: 0:13:00.912249\n"
     ]
    }
   ],
   "source": [
    "print(n)\n",
    "models_random[n].fit_model(image_sets_random[n],label_sets_random[n],x_val,y_val)\n",
    "n = n+1"
   ]
  },
  {
   "cell_type": "code",
   "execution_count": 159,
   "id": "fd83ae3d",
   "metadata": {},
   "outputs": [
    {
     "name": "stdout",
     "output_type": "stream",
     "text": [
      "8\n",
      "Epoch 1/10\n",
      "27/27 [==============================] - 100s 4s/step - loss: 1.4544 - accuracy: 0.6768 - val_loss: 0.0452 - val_accuracy: 0.9893\n",
      "Epoch 2/10\n",
      "27/27 [==============================] - 105s 4s/step - loss: 0.8553 - accuracy: 0.7800 - val_loss: 0.0413 - val_accuracy: 0.9906\n",
      "Epoch 3/10\n",
      "27/27 [==============================] - 86s 3s/step - loss: 0.7153 - accuracy: 0.8047 - val_loss: 0.0535 - val_accuracy: 0.9872\n",
      "Epoch 4/10\n",
      "27/27 [==============================] - 87s 3s/step - loss: 0.5906 - accuracy: 0.8374 - val_loss: 0.0329 - val_accuracy: 0.9906\n",
      "Epoch 5/10\n",
      "27/27 [==============================] - 101s 4s/step - loss: 0.4859 - accuracy: 0.8626 - val_loss: 0.0321 - val_accuracy: 0.9921\n",
      "Epoch 6/10\n",
      "27/27 [==============================] - 94s 4s/step - loss: 0.4831 - accuracy: 0.8530 - val_loss: 0.0556 - val_accuracy: 0.9883\n",
      "Epoch 7/10\n",
      "27/27 [==============================] - 99s 4s/step - loss: 0.5145 - accuracy: 0.8508 - val_loss: 0.0403 - val_accuracy: 0.9893\n",
      "Epoch 8/10\n",
      "27/27 [==============================] - 98s 4s/step - loss: 0.3789 - accuracy: 0.8883 - val_loss: 0.0672 - val_accuracy: 0.9844\n",
      "Epoch 9/10\n",
      "27/27 [==============================] - 98s 4s/step - loss: 0.4480 - accuracy: 0.8700 - val_loss: 0.0469 - val_accuracy: 0.9898\n",
      "Epoch 10/10\n",
      "27/27 [==============================] - 88s 3s/step - loss: 0.3411 - accuracy: 0.8934 - val_loss: 0.0811 - val_accuracy: 0.9775\n",
      "Duration: 0:15:55.841846\n"
     ]
    }
   ],
   "source": [
    "print(n)\n",
    "models_random[n].fit_model(image_sets_random[n],label_sets_random[n],x_val,y_val)\n",
    "n = n+1"
   ]
  },
  {
   "cell_type": "code",
   "execution_count": 160,
   "id": "321027f8",
   "metadata": {},
   "outputs": [
    {
     "name": "stdout",
     "output_type": "stream",
     "text": [
      "9\n",
      "Epoch 1/10\n",
      "30/30 [==============================] - 104s 3s/step - loss: 1.4610 - accuracy: 0.6696 - val_loss: 0.0418 - val_accuracy: 0.9900\n",
      "Epoch 2/10\n",
      "30/30 [==============================] - 108s 4s/step - loss: 0.8537 - accuracy: 0.7778 - val_loss: 0.0546 - val_accuracy: 0.9870\n",
      "Epoch 3/10\n",
      "30/30 [==============================] - 108s 4s/step - loss: 0.7183 - accuracy: 0.8020 - val_loss: 0.0516 - val_accuracy: 0.9875\n",
      "Epoch 4/10\n",
      "30/30 [==============================] - 113s 4s/step - loss: 0.6087 - accuracy: 0.8250 - val_loss: 0.0420 - val_accuracy: 0.9903\n",
      "Epoch 5/10\n",
      "30/30 [==============================] - 94s 3s/step - loss: 0.5768 - accuracy: 0.8195 - val_loss: 0.0838 - val_accuracy: 0.9811\n",
      "Epoch 6/10\n",
      "30/30 [==============================] - 104s 4s/step - loss: 0.4342 - accuracy: 0.8701 - val_loss: 0.0502 - val_accuracy: 0.9878\n",
      "Epoch 7/10\n",
      "30/30 [==============================] - 94s 3s/step - loss: 0.4352 - accuracy: 0.8663 - val_loss: 0.0555 - val_accuracy: 0.9860\n",
      "Epoch 8/10\n",
      "30/30 [==============================] - 101s 3s/step - loss: 0.4249 - accuracy: 0.8759 - val_loss: 0.0475 - val_accuracy: 0.9872\n",
      "Epoch 9/10\n",
      "30/30 [==============================] - 98s 3s/step - loss: 0.3246 - accuracy: 0.9036 - val_loss: 0.0655 - val_accuracy: 0.9883\n",
      "Epoch 10/10\n",
      "30/30 [==============================] - 106s 4s/step - loss: 0.3319 - accuracy: 0.8982 - val_loss: 0.0623 - val_accuracy: 0.9860\n",
      "Duration: 0:17:10.630731\n"
     ]
    }
   ],
   "source": [
    "#\n",
    "print(n)\n",
    "models_random[n].fit_model(image_sets_random[n],label_sets_random[n],x_val,y_val)\n",
    "n = n+1"
   ]
  },
  {
   "cell_type": "code",
   "execution_count": 161,
   "id": "453e04da",
   "metadata": {},
   "outputs": [
    {
     "name": "stdout",
     "output_type": "stream",
     "text": [
      "10\n",
      "Epoch 1/10\n",
      "33/33 [==============================] - 103s 3s/step - loss: 1.5028 - accuracy: 0.6585 - val_loss: 0.0821 - val_accuracy: 0.9809\n",
      "Epoch 2/10\n",
      "33/33 [==============================] - 101s 3s/step - loss: 0.8764 - accuracy: 0.7710 - val_loss: 0.0398 - val_accuracy: 0.9908\n",
      "Epoch 3/10\n",
      "33/33 [==============================] - 110s 3s/step - loss: 0.6824 - accuracy: 0.8049 - val_loss: 0.0359 - val_accuracy: 0.9918\n",
      "Epoch 4/10\n",
      "33/33 [==============================] - 103s 3s/step - loss: 0.5424 - accuracy: 0.8426 - val_loss: 0.0438 - val_accuracy: 0.9903\n",
      "Epoch 5/10\n",
      "33/33 [==============================] - 101s 3s/step - loss: 0.6064 - accuracy: 0.8292 - val_loss: 0.0418 - val_accuracy: 0.9878\n",
      "Epoch 6/10\n",
      "33/33 [==============================] - 110s 3s/step - loss: 0.3996 - accuracy: 0.8900 - val_loss: 0.0355 - val_accuracy: 0.9918\n",
      "Epoch 7/10\n",
      "33/33 [==============================] - 95s 3s/step - loss: 0.3793 - accuracy: 0.8809 - val_loss: 0.0454 - val_accuracy: 0.9906\n",
      "Epoch 8/10\n",
      "33/33 [==============================] - 112s 3s/step - loss: 0.3645 - accuracy: 0.8936 - val_loss: 0.0418 - val_accuracy: 0.9895\n",
      "Epoch 9/10\n",
      "33/33 [==============================] - 105s 3s/step - loss: 0.3076 - accuracy: 0.9084 - val_loss: 0.0394 - val_accuracy: 0.9900\n",
      "Epoch 10/10\n",
      "33/33 [==============================] - 102s 3s/step - loss: 0.3151 - accuracy: 0.9081 - val_loss: 0.0424 - val_accuracy: 0.9911\n",
      "Duration: 0:17:20.591022\n"
     ]
    }
   ],
   "source": [
    "print(n)\n",
    "models_random[n].fit_model(image_sets_random[n],label_sets_random[n],x_val,y_val)\n",
    "n = n+1"
   ]
  },
  {
   "cell_type": "code",
   "execution_count": 162,
   "id": "8bd63529",
   "metadata": {},
   "outputs": [
    {
     "name": "stdout",
     "output_type": "stream",
     "text": [
      "11\n",
      "Epoch 1/10\n",
      "36/36 [==============================] - 117s 3s/step - loss: 1.2421 - accuracy: 0.7216 - val_loss: 0.0798 - val_accuracy: 0.9860\n",
      "Epoch 2/10\n",
      "36/36 [==============================] - 106s 3s/step - loss: 0.7620 - accuracy: 0.7960 - val_loss: 0.0300 - val_accuracy: 0.9929\n",
      "Epoch 3/10\n",
      "36/36 [==============================] - 107s 3s/step - loss: 0.6700 - accuracy: 0.8310 - val_loss: 0.0350 - val_accuracy: 0.9908\n",
      "Epoch 4/10\n",
      "36/36 [==============================] - 113s 3s/step - loss: 0.5790 - accuracy: 0.8311 - val_loss: 0.0413 - val_accuracy: 0.9883\n",
      "Epoch 5/10\n",
      "36/36 [==============================] - 117s 3s/step - loss: 0.4873 - accuracy: 0.8519 - val_loss: 0.0382 - val_accuracy: 0.9900\n",
      "Epoch 6/10\n",
      "36/36 [==============================] - 108s 3s/step - loss: 0.4461 - accuracy: 0.8709 - val_loss: 0.0646 - val_accuracy: 0.9829\n",
      "Epoch 7/10\n",
      "36/36 [==============================] - 120s 3s/step - loss: 0.3974 - accuracy: 0.8876 - val_loss: 0.0352 - val_accuracy: 0.9908\n",
      "Epoch 8/10\n",
      "36/36 [==============================] - 112s 3s/step - loss: 0.3405 - accuracy: 0.8962 - val_loss: 0.0358 - val_accuracy: 0.9908\n",
      "Epoch 9/10\n",
      "36/36 [==============================] - 116s 3s/step - loss: 0.2752 - accuracy: 0.9175 - val_loss: 0.0618 - val_accuracy: 0.9829\n",
      "Epoch 10/10\n",
      "36/36 [==============================] - 116s 3s/step - loss: 0.2315 - accuracy: 0.9328 - val_loss: 0.0481 - val_accuracy: 0.9857\n",
      "Duration: 0:18:50.737364\n"
     ]
    }
   ],
   "source": [
    "print(n)\n",
    "models_random[n].fit_model(image_sets_random[n],label_sets_random[n],x_val,y_val)\n",
    "n = n+1"
   ]
  },
  {
   "cell_type": "code",
   "execution_count": 163,
   "id": "7c990f66",
   "metadata": {},
   "outputs": [
    {
     "name": "stdout",
     "output_type": "stream",
     "text": [
      "12\n",
      "Epoch 1/10\n",
      "39/39 [==============================] - 141s 4s/step - loss: 1.2378 - accuracy: 0.7134 - val_loss: 0.0315 - val_accuracy: 0.9921\n",
      "Epoch 2/10\n",
      "39/39 [==============================] - 133s 3s/step - loss: 0.7158 - accuracy: 0.8095 - val_loss: 0.0314 - val_accuracy: 0.9931\n",
      "Epoch 3/10\n",
      "39/39 [==============================] - 124s 3s/step - loss: 0.6358 - accuracy: 0.8354 - val_loss: 0.0468 - val_accuracy: 0.9883\n",
      "Epoch 4/10\n",
      "39/39 [==============================] - 137s 4s/step - loss: 0.5356 - accuracy: 0.8453 - val_loss: 0.0507 - val_accuracy: 0.9875\n",
      "Epoch 5/10\n",
      "39/39 [==============================] - 124s 3s/step - loss: 0.4399 - accuracy: 0.8663 - val_loss: 0.0552 - val_accuracy: 0.9862\n",
      "Epoch 6/10\n",
      "39/39 [==============================] - 136s 4s/step - loss: 0.4381 - accuracy: 0.8648 - val_loss: 0.0373 - val_accuracy: 0.9903\n",
      "Epoch 7/10\n",
      "39/39 [==============================] - 126s 3s/step - loss: 0.3931 - accuracy: 0.8841 - val_loss: 0.0347 - val_accuracy: 0.9903\n",
      "Epoch 8/10\n",
      "39/39 [==============================] - 127s 3s/step - loss: 0.3519 - accuracy: 0.8974 - val_loss: 0.0459 - val_accuracy: 0.9870\n",
      "Epoch 9/10\n",
      "39/39 [==============================] - 127s 3s/step - loss: 0.3193 - accuracy: 0.9007 - val_loss: 0.0338 - val_accuracy: 0.9929\n",
      "Epoch 10/10\n",
      "39/39 [==============================] - 124s 3s/step - loss: 0.3024 - accuracy: 0.9078 - val_loss: 0.0572 - val_accuracy: 0.9844\n",
      "Duration: 0:21:37.655228\n"
     ]
    }
   ],
   "source": [
    "print(n)\n",
    "models_random[n].fit_model(image_sets_random[n],label_sets_random[n],x_val,y_val)\n",
    "n = n+1"
   ]
  },
  {
   "cell_type": "code",
   "execution_count": 164,
   "id": "8018c1a4",
   "metadata": {},
   "outputs": [
    {
     "name": "stdout",
     "output_type": "stream",
     "text": [
      "13\n",
      "Epoch 1/10\n",
      "42/42 [==============================] - 156s 4s/step - loss: 1.3216 - accuracy: 0.6954 - val_loss: 0.0486 - val_accuracy: 0.9898\n",
      "Epoch 2/10\n",
      "42/42 [==============================] - 141s 3s/step - loss: 0.7532 - accuracy: 0.7953 - val_loss: 0.0471 - val_accuracy: 0.9875\n",
      "Epoch 3/10\n",
      "42/42 [==============================] - 155s 4s/step - loss: 0.6090 - accuracy: 0.8231 - val_loss: 0.0434 - val_accuracy: 0.9906\n",
      "Epoch 4/10\n",
      "42/42 [==============================] - 152s 4s/step - loss: 0.5458 - accuracy: 0.8403 - val_loss: 0.0457 - val_accuracy: 0.9875\n",
      "Epoch 5/10\n",
      "42/42 [==============================] - 147s 4s/step - loss: 0.4756 - accuracy: 0.8617 - val_loss: 0.0479 - val_accuracy: 0.9898\n",
      "Epoch 6/10\n",
      "42/42 [==============================] - 134s 3s/step - loss: 0.4397 - accuracy: 0.8697 - val_loss: 0.0366 - val_accuracy: 0.9923\n",
      "Epoch 7/10\n",
      "42/42 [==============================] - 151s 4s/step - loss: 0.3589 - accuracy: 0.8954 - val_loss: 0.0713 - val_accuracy: 0.9832\n",
      "Epoch 8/10\n",
      "42/42 [==============================] - 152s 4s/step - loss: 0.3534 - accuracy: 0.8996 - val_loss: 0.0534 - val_accuracy: 0.9857\n",
      "Epoch 9/10\n",
      "42/42 [==============================] - 150s 4s/step - loss: 0.2899 - accuracy: 0.9133 - val_loss: 0.0529 - val_accuracy: 0.9865\n",
      "Epoch 10/10\n",
      "42/42 [==============================] - 150s 4s/step - loss: 0.2781 - accuracy: 0.9183 - val_loss: 0.0344 - val_accuracy: 0.9913\n",
      "Duration: 0:24:47.533131\n"
     ]
    }
   ],
   "source": [
    "print(n)\n",
    "models_random[n].fit_model(image_sets_random[n],label_sets_random[n],x_val,y_val)\n",
    "n = n+1"
   ]
  },
  {
   "cell_type": "code",
   "execution_count": 165,
   "id": "33202163",
   "metadata": {},
   "outputs": [
    {
     "name": "stdout",
     "output_type": "stream",
     "text": [
      "14\n",
      "Epoch 1/10\n",
      "45/45 [==============================] - 166s 4s/step - loss: 1.3425 - accuracy: 0.6873 - val_loss: 0.0397 - val_accuracy: 0.9890\n",
      "Epoch 2/10\n",
      "45/45 [==============================] - 175s 4s/step - loss: 0.7359 - accuracy: 0.7953 - val_loss: 0.0498 - val_accuracy: 0.9872\n",
      "Epoch 3/10\n",
      "45/45 [==============================] - 179s 4s/step - loss: 0.5998 - accuracy: 0.8265 - val_loss: 0.0575 - val_accuracy: 0.9857\n",
      "Epoch 4/10\n",
      "45/45 [==============================] - 174s 4s/step - loss: 0.5260 - accuracy: 0.8572 - val_loss: 0.0654 - val_accuracy: 0.9819\n",
      "Epoch 5/10\n",
      "45/45 [==============================] - 173s 4s/step - loss: 0.5005 - accuracy: 0.8608 - val_loss: 0.0399 - val_accuracy: 0.9893\n",
      "Epoch 6/10\n",
      "45/45 [==============================] - 178s 4s/step - loss: 0.4146 - accuracy: 0.8789 - val_loss: 0.0458 - val_accuracy: 0.9883\n",
      "Epoch 7/10\n",
      "45/45 [==============================] - 162s 4s/step - loss: 0.3618 - accuracy: 0.8933 - val_loss: 0.0681 - val_accuracy: 0.9829\n",
      "Epoch 8/10\n",
      "45/45 [==============================] - 176s 4s/step - loss: 0.3596 - accuracy: 0.8868 - val_loss: 0.1013 - val_accuracy: 0.9722\n",
      "Epoch 9/10\n",
      "45/45 [==============================] - 169s 4s/step - loss: 0.3376 - accuracy: 0.9057 - val_loss: 0.0477 - val_accuracy: 0.9875\n",
      "Epoch 10/10\n",
      "45/45 [==============================] - 168s 4s/step - loss: 0.2995 - accuracy: 0.9124 - val_loss: 0.0414 - val_accuracy: 0.9906\n",
      "Duration: 0:28:40.974991\n"
     ]
    }
   ],
   "source": [
    "#\n",
    "print(n)\n",
    "models_random[n].fit_model(image_sets_random[n],label_sets_random[n],x_val,y_val)\n",
    "n = n+1"
   ]
  },
  {
   "cell_type": "code",
   "execution_count": 166,
   "id": "0f220f72",
   "metadata": {},
   "outputs": [
    {
     "name": "stdout",
     "output_type": "stream",
     "text": [
      "15\n",
      "Epoch 1/10\n",
      "48/48 [==============================] - 200s 4s/step - loss: 1.2837 - accuracy: 0.7114 - val_loss: 0.0426 - val_accuracy: 0.9908\n",
      "Epoch 2/10\n",
      "48/48 [==============================] - 196s 4s/step - loss: 0.6957 - accuracy: 0.8155 - val_loss: 0.0429 - val_accuracy: 0.9903\n",
      "Epoch 3/10\n",
      "48/48 [==============================] - 197s 4s/step - loss: 0.5942 - accuracy: 0.8299 - val_loss: 0.0430 - val_accuracy: 0.9885\n",
      "Epoch 4/10\n",
      "48/48 [==============================] - 197s 4s/step - loss: 0.4999 - accuracy: 0.8605 - val_loss: 0.0360 - val_accuracy: 0.9926\n",
      "Epoch 5/10\n",
      "48/48 [==============================] - 204s 4s/step - loss: 0.4397 - accuracy: 0.8701 - val_loss: 0.0440 - val_accuracy: 0.9880\n",
      "Epoch 6/10\n",
      "48/48 [==============================] - 193s 4s/step - loss: 0.3512 - accuracy: 0.8998 - val_loss: 0.0361 - val_accuracy: 0.9895\n",
      "Epoch 7/10\n",
      "48/48 [==============================] - 202s 4s/step - loss: 0.3258 - accuracy: 0.8994 - val_loss: 0.0357 - val_accuracy: 0.9908\n",
      "Epoch 8/10\n",
      "48/48 [==============================] - 185s 4s/step - loss: 0.3396 - accuracy: 0.9036 - val_loss: 0.0374 - val_accuracy: 0.9900\n",
      "Epoch 9/10\n",
      "48/48 [==============================] - 218s 5s/step - loss: 0.2907 - accuracy: 0.9122 - val_loss: 0.0467 - val_accuracy: 0.9880\n",
      "Epoch 10/10\n",
      "48/48 [==============================] - 217s 5s/step - loss: 0.2861 - accuracy: 0.9218 - val_loss: 0.0483 - val_accuracy: 0.9865\n",
      "Duration: 0:33:30.053397\n"
     ]
    }
   ],
   "source": [
    "print(n)\n",
    "models_random[n].fit_model(image_sets_random[n],label_sets_random[n],x_val,y_val)\n",
    "n = n+1"
   ]
  },
  {
   "cell_type": "code",
   "execution_count": 167,
   "id": "3f47aa5c",
   "metadata": {},
   "outputs": [
    {
     "name": "stdout",
     "output_type": "stream",
     "text": [
      "16\n",
      "Epoch 1/10\n",
      "51/51 [==============================] - 253s 5s/step - loss: 1.2218 - accuracy: 0.7231 - val_loss: 0.0360 - val_accuracy: 0.9911\n",
      "Epoch 2/10\n",
      "51/51 [==============================] - 244s 5s/step - loss: 0.7406 - accuracy: 0.8038 - val_loss: 0.0321 - val_accuracy: 0.9934\n",
      "Epoch 3/10\n",
      "51/51 [==============================] - 240s 5s/step - loss: 0.5672 - accuracy: 0.8392 - val_loss: 0.0349 - val_accuracy: 0.9898\n",
      "Epoch 4/10\n",
      "51/51 [==============================] - 243s 5s/step - loss: 0.4636 - accuracy: 0.8670 - val_loss: 0.0576 - val_accuracy: 0.9849\n",
      "Epoch 5/10\n",
      "51/51 [==============================] - 214s 4s/step - loss: 0.4908 - accuracy: 0.8543 - val_loss: 0.0303 - val_accuracy: 0.9906\n",
      "Epoch 6/10\n",
      "51/51 [==============================] - 202s 4s/step - loss: 0.3679 - accuracy: 0.8934 - val_loss: 0.0429 - val_accuracy: 0.9895\n",
      "Epoch 7/10\n",
      "51/51 [==============================] - 207s 4s/step - loss: 0.3502 - accuracy: 0.8923 - val_loss: 0.0918 - val_accuracy: 0.9752\n",
      "Epoch 8/10\n",
      "51/51 [==============================] - 216s 4s/step - loss: 0.3645 - accuracy: 0.8984 - val_loss: 0.0352 - val_accuracy: 0.9921\n",
      "Epoch 9/10\n",
      "51/51 [==============================] - 218s 4s/step - loss: 0.2821 - accuracy: 0.9185 - val_loss: 0.0432 - val_accuracy: 0.9903\n",
      "Epoch 10/10\n",
      "51/51 [==============================] - 214s 4s/step - loss: 0.2552 - accuracy: 0.9277 - val_loss: 0.0420 - val_accuracy: 0.9888\n",
      "Duration: 0:37:31.502742\n"
     ]
    }
   ],
   "source": [
    "print(n)\n",
    "models_random[n].fit_model(image_sets_random[n],label_sets_random[n],x_val,y_val)\n",
    "n = n+1"
   ]
  },
  {
   "cell_type": "code",
   "execution_count": 168,
   "id": "2092ec3f",
   "metadata": {},
   "outputs": [
    {
     "name": "stdout",
     "output_type": "stream",
     "text": [
      "17\n",
      "Epoch 1/10\n",
      "54/54 [==============================] - 207s 4s/step - loss: 1.2936 - accuracy: 0.7115 - val_loss: 0.0492 - val_accuracy: 0.9872\n",
      "Epoch 2/10\n",
      "54/54 [==============================] - 229s 4s/step - loss: 0.7261 - accuracy: 0.7958 - val_loss: 0.0466 - val_accuracy: 0.9918\n",
      "Epoch 3/10\n",
      "54/54 [==============================] - 216s 4s/step - loss: 0.6014 - accuracy: 0.8385 - val_loss: 0.0339 - val_accuracy: 0.9906\n",
      "Epoch 4/10\n",
      "54/54 [==============================] - 211s 4s/step - loss: 0.4856 - accuracy: 0.8586 - val_loss: 0.0357 - val_accuracy: 0.9908\n",
      "Epoch 5/10\n",
      "54/54 [==============================] - 180s 3s/step - loss: 0.4098 - accuracy: 0.8774 - val_loss: 0.1245 - val_accuracy: 0.9717\n",
      "Epoch 6/10\n",
      "54/54 [==============================] - 198s 4s/step - loss: 0.4062 - accuracy: 0.8827 - val_loss: 0.0400 - val_accuracy: 0.9895\n",
      "Epoch 7/10\n",
      "54/54 [==============================] - 195s 4s/step - loss: 0.3456 - accuracy: 0.9011 - val_loss: 0.0408 - val_accuracy: 0.9888\n",
      "Epoch 8/10\n",
      "54/54 [==============================] - 210s 4s/step - loss: 0.3005 - accuracy: 0.9081 - val_loss: 0.0825 - val_accuracy: 0.9829\n",
      "Epoch 9/10\n",
      "54/54 [==============================] - 208s 4s/step - loss: 0.3091 - accuracy: 0.9188 - val_loss: 0.0403 - val_accuracy: 0.9903\n",
      "Epoch 10/10\n",
      "54/54 [==============================] - 211s 4s/step - loss: 0.2651 - accuracy: 0.9231 - val_loss: 0.0674 - val_accuracy: 0.9811\n",
      "Duration: 0:34:26.475823\n"
     ]
    }
   ],
   "source": [
    "print(n)\n",
    "models_random[n].fit_model(image_sets_random[n],label_sets_random[n],x_val,y_val)\n",
    "n = n+1"
   ]
  },
  {
   "cell_type": "code",
   "execution_count": 169,
   "id": "a7e42b01",
   "metadata": {},
   "outputs": [
    {
     "name": "stdout",
     "output_type": "stream",
     "text": [
      "18\n",
      "Epoch 1/10\n",
      "57/57 [==============================] - 239s 4s/step - loss: 1.1980 - accuracy: 0.7192 - val_loss: 0.0622 - val_accuracy: 0.9883\n",
      "Epoch 2/10\n",
      "57/57 [==============================] - 230s 4s/step - loss: 0.6495 - accuracy: 0.8153 - val_loss: 0.0910 - val_accuracy: 0.9862\n",
      "Epoch 3/10\n",
      "57/57 [==============================] - 234s 4s/step - loss: 0.5894 - accuracy: 0.8370 - val_loss: 0.0528 - val_accuracy: 0.9862\n",
      "Epoch 4/10\n",
      "57/57 [==============================] - 230s 4s/step - loss: 0.4633 - accuracy: 0.8594 - val_loss: 0.0423 - val_accuracy: 0.9893\n",
      "Epoch 5/10\n",
      "57/57 [==============================] - 237s 4s/step - loss: 0.4159 - accuracy: 0.8766 - val_loss: 0.0857 - val_accuracy: 0.9849\n",
      "Epoch 6/10\n",
      "57/57 [==============================] - 242s 4s/step - loss: 0.3943 - accuracy: 0.8866 - val_loss: 0.0453 - val_accuracy: 0.9918\n",
      "Epoch 7/10\n",
      "57/57 [==============================] - 242s 4s/step - loss: 0.3667 - accuracy: 0.8909 - val_loss: 0.0476 - val_accuracy: 0.9880\n",
      "Epoch 8/10\n",
      "57/57 [==============================] - 247s 4s/step - loss: 0.2694 - accuracy: 0.9267 - val_loss: 0.0493 - val_accuracy: 0.9916\n",
      "Epoch 9/10\n",
      "57/57 [==============================] - 220s 4s/step - loss: 0.2477 - accuracy: 0.9235 - val_loss: 0.0484 - val_accuracy: 0.9862\n",
      "Epoch 10/10\n",
      "57/57 [==============================] - 248s 4s/step - loss: 0.2261 - accuracy: 0.9269 - val_loss: 0.0444 - val_accuracy: 0.9880\n",
      "Duration: 0:39:29.198675\n"
     ]
    }
   ],
   "source": [
    "print(n)\n",
    "models_random[n].fit_model(image_sets_random[n],label_sets_random[n],x_val,y_val)\n",
    "n = n+1"
   ]
  },
  {
   "cell_type": "code",
   "execution_count": 170,
   "id": "f2884c4f",
   "metadata": {},
   "outputs": [
    {
     "name": "stdout",
     "output_type": "stream",
     "text": [
      "19\n",
      "Epoch 1/10\n",
      "62/62 [==============================] - 259s 4s/step - loss: 1.0905 - accuracy: 0.7412 - val_loss: 0.0390 - val_accuracy: 0.9908\n",
      "Epoch 2/10\n",
      "62/62 [==============================] - 244s 4s/step - loss: 0.7167 - accuracy: 0.7990 - val_loss: 0.0426 - val_accuracy: 0.9875\n",
      "Epoch 3/10\n",
      "62/62 [==============================] - 254s 4s/step - loss: 0.5599 - accuracy: 0.8360 - val_loss: 0.1725 - val_accuracy: 0.9704\n",
      "Epoch 4/10\n",
      "62/62 [==============================] - 249s 4s/step - loss: 0.4911 - accuracy: 0.8565 - val_loss: 0.1311 - val_accuracy: 0.9707\n",
      "Epoch 5/10\n",
      "62/62 [==============================] - 255s 4s/step - loss: 0.3936 - accuracy: 0.8754 - val_loss: 0.0652 - val_accuracy: 0.9798\n",
      "Epoch 6/10\n",
      "62/62 [==============================] - 258s 4s/step - loss: 0.3561 - accuracy: 0.8928 - val_loss: 0.0595 - val_accuracy: 0.9862\n",
      "Epoch 7/10\n",
      "62/62 [==============================] - 255s 4s/step - loss: 0.3192 - accuracy: 0.9099 - val_loss: 0.0349 - val_accuracy: 0.9921\n",
      "Epoch 8/10\n",
      "62/62 [==============================] - 251s 4s/step - loss: 0.3006 - accuracy: 0.9172 - val_loss: 0.0492 - val_accuracy: 0.9888\n",
      "Epoch 9/10\n",
      "62/62 [==============================] - 250s 4s/step - loss: 0.2561 - accuracy: 0.9205 - val_loss: 0.0491 - val_accuracy: 0.9872\n",
      "Epoch 10/10\n",
      "62/62 [==============================] - 258s 4s/step - loss: 0.2550 - accuracy: 0.9222 - val_loss: 0.0453 - val_accuracy: 0.9906\n",
      "Duration: 0:42:13.177700\n"
     ]
    }
   ],
   "source": [
    "#\n",
    "print(n)\n",
    "models_random[n].fit_model(image_sets_random[n],label_sets_random[n],x_val,y_val)\n",
    "n = n+1"
   ]
  },
  {
   "cell_type": "code",
   "execution_count": 171,
   "id": "24dc2667",
   "metadata": {},
   "outputs": [
    {
     "name": "stdout",
     "output_type": "stream",
     "text": [
      "INFO:tensorflow:Assets written to: D:/models/aug_22/gtsrb/C3/e2/gtsrb_model_c3_aug_random_e2_0\\assets\n",
      "Model has been saved\n",
      "INFO:tensorflow:Assets written to: D:/models/aug_22/gtsrb/C3/e2/gtsrb_model_c3_aug_random_e2_1\\assets\n",
      "Model has been saved\n",
      "INFO:tensorflow:Assets written to: D:/models/aug_22/gtsrb/C3/e2/gtsrb_model_c3_aug_random_e2_2\\assets\n",
      "Model has been saved\n",
      "INFO:tensorflow:Assets written to: D:/models/aug_22/gtsrb/C3/e2/gtsrb_model_c3_aug_random_e2_3\\assets\n",
      "Model has been saved\n",
      "INFO:tensorflow:Assets written to: D:/models/aug_22/gtsrb/C3/e2/gtsrb_model_c3_aug_random_e2_4\\assets\n",
      "Model has been saved\n",
      "INFO:tensorflow:Assets written to: D:/models/aug_22/gtsrb/C3/e2/gtsrb_model_c3_aug_random_e2_5\\assets\n",
      "Model has been saved\n",
      "INFO:tensorflow:Assets written to: D:/models/aug_22/gtsrb/C3/e2/gtsrb_model_c3_aug_random_e2_6\\assets\n",
      "Model has been saved\n",
      "INFO:tensorflow:Assets written to: D:/models/aug_22/gtsrb/C3/e2/gtsrb_model_c3_aug_random_e2_7\\assets\n",
      "Model has been saved\n",
      "INFO:tensorflow:Assets written to: D:/models/aug_22/gtsrb/C3/e2/gtsrb_model_c3_aug_random_e2_8\\assets\n",
      "Model has been saved\n",
      "INFO:tensorflow:Assets written to: D:/models/aug_22/gtsrb/C3/e2/gtsrb_model_c3_aug_random_e2_9\\assets\n",
      "Model has been saved\n",
      "INFO:tensorflow:Assets written to: D:/models/aug_22/gtsrb/C3/e2/gtsrb_model_c3_aug_random_e2_10\\assets\n",
      "Model has been saved\n",
      "INFO:tensorflow:Assets written to: D:/models/aug_22/gtsrb/C3/e2/gtsrb_model_c3_aug_random_e2_11\\assets\n",
      "Model has been saved\n",
      "INFO:tensorflow:Assets written to: D:/models/aug_22/gtsrb/C3/e2/gtsrb_model_c3_aug_random_e2_12\\assets\n",
      "Model has been saved\n",
      "INFO:tensorflow:Assets written to: D:/models/aug_22/gtsrb/C3/e2/gtsrb_model_c3_aug_random_e2_13\\assets\n",
      "Model has been saved\n",
      "INFO:tensorflow:Assets written to: D:/models/aug_22/gtsrb/C3/e2/gtsrb_model_c3_aug_random_e2_14\\assets\n",
      "Model has been saved\n",
      "INFO:tensorflow:Assets written to: D:/models/aug_22/gtsrb/C3/e2/gtsrb_model_c3_aug_random_e2_15\\assets\n",
      "Model has been saved\n",
      "INFO:tensorflow:Assets written to: D:/models/aug_22/gtsrb/C3/e2/gtsrb_model_c3_aug_random_e2_16\\assets\n",
      "Model has been saved\n",
      "INFO:tensorflow:Assets written to: D:/models/aug_22/gtsrb/C3/e2/gtsrb_model_c3_aug_random_e2_17\\assets\n",
      "Model has been saved\n",
      "INFO:tensorflow:Assets written to: D:/models/aug_22/gtsrb/C3/e2/gtsrb_model_c3_aug_random_e2_18\\assets\n",
      "Model has been saved\n",
      "INFO:tensorflow:Assets written to: D:/models/aug_22/gtsrb/C3/e2/gtsrb_model_c3_aug_random_e2_19\\assets\n",
      "Model has been saved\n"
     ]
    }
   ],
   "source": [
    "#new_model_random_dir  = \"C:/Users/fjdurlop/Documents/upc/models/\"+dataset+\"/C2/\"+dataset+\"_model_c2_aug_random_e1\"\n",
    "new_model_random_dir  = \"D:/models/aug_22/gtsrb/C3/e2/gtsrb_model_c3_aug_random_e2\"\n",
    "\n",
    "i=0\n",
    "\n",
    "for model in models_random:\n",
    "    model.save(new_model_random_dir+\"_\"+str(i))\n",
    "    i+=1"
   ]
  },
  {
   "cell_type": "code",
   "execution_count": 172,
   "id": "85078e3a",
   "metadata": {},
   "outputs": [],
   "source": [
    "try:\n",
    "    del random_indexes\n",
    "    del top_images_by_random\n",
    "    del top_labels_by_random\n",
    "    del image_sets_random\n",
    "    del label_sets_random\n",
    "    del models_random\n",
    "except:\n",
    "    print(\"Error\")"
   ]
  },
  {
   "cell_type": "code",
   "execution_count": 173,
   "id": "deac767a",
   "metadata": {},
   "outputs": [],
   "source": [
    "import gc"
   ]
  },
  {
   "cell_type": "code",
   "execution_count": 174,
   "id": "5a4c9d66",
   "metadata": {},
   "outputs": [
    {
     "data": {
      "text/plain": [
       "508036"
      ]
     },
     "execution_count": 174,
     "metadata": {},
     "output_type": "execute_result"
    }
   ],
   "source": [
    "gc.collect()"
   ]
  },
  {
   "cell_type": "markdown",
   "id": "58a54b05",
   "metadata": {},
   "source": [
    "## Training guided by NC"
   ]
  },
  {
   "cell_type": "code",
   "execution_count": 20,
   "id": "e53f2bcb",
   "metadata": {},
   "outputs": [
    {
     "name": "stdout",
     "output_type": "stream",
     "text": [
      "3921\n"
     ]
    }
   ],
   "source": [
    "# NC\n",
    "nc_values = []\n",
    "for i in range(1,13):\n",
    "    #save_dir = \"C:/Users/fjdur/Desktop/upc/project_notebooks/github_project/DL_notebooks/NC_values/nc_values_\"+str(i)+\".npy\"\n",
    "    #save_dir = \"C:/Users/fjdurlop/Documents/upc/upc-july/data/\"+dataset+\"/\"+dataset+\"_nc_values_\"+str(i)+\".npy\"\n",
    "    save_dir = \"C:/Users/fjdur/Documents/upc-july/data/\"+dataset+\"/gtsrb_nc_values_\"+str(i)+\".npy\"\n",
    "\n",
    "    #print(save_dir_rand)\n",
    "    tmp_values = np.load(save_dir)\n",
    "    #print(tmp_values.shape)\n",
    "    nc_values = np.append(nc_values,tmp_values)\n",
    "    \n",
    "nc_values = nc_values[len(x_train):] \n",
    "print(len(nc_values))"
   ]
  },
  {
   "cell_type": "code",
   "execution_count": 21,
   "id": "637de522",
   "metadata": {},
   "outputs": [
    {
     "data": {
      "text/plain": [
       "(3921,)"
      ]
     },
     "execution_count": 21,
     "metadata": {},
     "output_type": "execute_result"
    }
   ],
   "source": [
    "nc_values.shape"
   ]
  },
  {
   "cell_type": "code",
   "execution_count": 22,
   "id": "024f3314",
   "metadata": {},
   "outputs": [],
   "source": [
    "\n",
    "top_images_by_nc = utils.get_x_of_indexes(list(np.flip(np.argsort(nc_values))),x_adversary_training)\n",
    "top_labels_by_nc = utils.get_x_of_indexes(list(np.flip(np.argsort(nc_values))),y_adversary_training)\n"
   ]
  },
  {
   "cell_type": "code",
   "execution_count": 23,
   "id": "7490c255",
   "metadata": {},
   "outputs": [
    {
     "name": "stdout",
     "output_type": "stream",
     "text": [
      "0 :\n",
      "0  ->  190\n",
      "190\n",
      "1 :\n",
      "0  ->  380\n",
      "380\n",
      "2 :\n",
      "0  ->  570\n",
      "570\n",
      "3 :\n",
      "0  ->  760\n",
      "760\n",
      "4 :\n",
      "0  ->  950\n",
      "950\n",
      "5 :\n",
      "0  ->  1140\n",
      "1140\n",
      "6 :\n",
      "0  ->  1330\n",
      "1330\n",
      "7 :\n",
      "0  ->  1520\n",
      "1520\n",
      "8 :\n",
      "0  ->  1710\n",
      "1710\n",
      "9 :\n",
      "0  ->  1900\n",
      "1900\n",
      "10 :\n",
      "0  ->  2090\n",
      "2090\n",
      "11 :\n",
      "0  ->  2280\n",
      "2280\n",
      "12 :\n",
      "0  ->  2470\n",
      "2470\n",
      "13 :\n",
      "0  ->  2660\n",
      "2660\n",
      "14 :\n",
      "0  ->  2850\n",
      "2850\n",
      "15 :\n",
      "0  ->  3040\n",
      "3040\n",
      "16 :\n",
      "0  ->  3230\n",
      "3230\n",
      "17 :\n",
      "0  ->  3420\n",
      "3420\n",
      "18 :\n",
      "0  ->  3610\n",
      "3610\n",
      "19 :\n",
      "Last\n",
      "0  ->  3921\n",
      "3921\n"
     ]
    }
   ],
   "source": [
    "m = n_data_points\n",
    "n = 0\n",
    "image_sets_nc = []\n",
    "label_sets_nc = []\n",
    "\n",
    "\n",
    "for i in range((len(top_images_by_nc)//m)):\n",
    "    print(i,\":\")\n",
    "    if (i+1 >= ((len(top_images_by_nc)//m))):\n",
    "        print(\"Last\")\n",
    "        print(0,\" -> \",n+m+(len(top_images_by_nc)%m))\n",
    "        top_images_by_nc_n = np.array(top_images_by_nc[:n+m+(len(top_images_by_nc)%m)])\n",
    "        top_labels_by_nc_n = np.array(top_labels_by_nc[:n+m+(len(top_images_by_nc)%m)])\n",
    "    else:\n",
    "        print(0,\" -> \",m+n)\n",
    "        top_images_by_nc_n = np.array(top_images_by_nc[:n+m])\n",
    "        top_labels_by_nc_n = np.array(top_labels_by_nc[:n+m])\n",
    "    image_sets_nc.append(top_images_by_nc_n)\n",
    "    label_sets_nc.append(top_labels_by_nc_n)\n",
    "    print(len(top_images_by_nc_n))\n",
    "    n += m\n",
    "\n",
    "\n"
   ]
  },
  {
   "cell_type": "code",
   "execution_count": 24,
   "id": "0a65e301",
   "metadata": {},
   "outputs": [
    {
     "name": "stdout",
     "output_type": "stream",
     "text": [
      "C:/Users/fjdur/Documents/upc-july/models/tf_model_25-06\n",
      "0 :\n",
      "Model loaded correctly\n",
      "Model compiled\n",
      "1 :\n",
      "Model loaded correctly\n",
      "Model compiled\n",
      "2 :\n",
      "Model loaded correctly\n",
      "Model compiled\n",
      "3 :\n",
      "Model loaded correctly\n",
      "Model compiled\n",
      "4 :\n",
      "Model loaded correctly\n",
      "Model compiled\n",
      "5 :\n",
      "Model loaded correctly\n",
      "Model compiled\n",
      "6 :\n",
      "Model loaded correctly\n",
      "Model compiled\n",
      "7 :\n",
      "Model loaded correctly\n",
      "Model compiled\n",
      "8 :\n",
      "Model loaded correctly\n",
      "Model compiled\n",
      "9 :\n",
      "Model loaded correctly\n",
      "Model compiled\n",
      "10 :\n",
      "Model loaded correctly\n",
      "Model compiled\n",
      "11 :\n",
      "Model loaded correctly\n",
      "Model compiled\n",
      "12 :\n",
      "Model loaded correctly\n",
      "Model compiled\n",
      "13 :\n",
      "Model loaded correctly\n",
      "Model compiled\n",
      "14 :\n",
      "Model loaded correctly\n",
      "Model compiled\n",
      "15 :\n",
      "Model loaded correctly\n",
      "Model compiled\n",
      "16 :\n",
      "Model loaded correctly\n",
      "Model compiled\n",
      "17 :\n",
      "Model loaded correctly\n",
      "Model compiled\n",
      "18 :\n",
      "Model loaded correctly\n",
      "Model compiled\n",
      "19 :\n",
      "Model loaded correctly\n",
      "Model compiled\n"
     ]
    }
   ],
   "source": [
    "print(model_dir)\n",
    "\n",
    "models_nc = []\n",
    "for i in range(len(label_sets_nc)):\n",
    "    print(i,\":\")\n",
    "    model = utils.My_model(dataset,True,model_dir)\n",
    "    model.compile_model()\n",
    "    models_nc.append(model)\n"
   ]
  },
  {
   "cell_type": "code",
   "execution_count": 25,
   "id": "df0b6c8f",
   "metadata": {},
   "outputs": [
    {
     "name": "stdout",
     "output_type": "stream",
     "text": [
      "0\n",
      "Epoch 1/10\n",
      "3/3 [==============================] - 30s 3s/step - loss: 0.8557 - accuracy: 0.8658 - val_loss: 0.7573 - val_accuracy: 0.8551\n",
      "Epoch 2/10\n",
      "3/3 [==============================] - 6s 3s/step - loss: 0.2570 - accuracy: 0.9418 - val_loss: 0.0808 - val_accuracy: 0.9758\n",
      "Epoch 3/10\n",
      "3/3 [==============================] - 6s 3s/step - loss: 0.1249 - accuracy: 0.9437 - val_loss: 0.0648 - val_accuracy: 0.9806\n",
      "Epoch 4/10\n",
      "3/3 [==============================] - 7s 3s/step - loss: 0.1409 - accuracy: 0.9607 - val_loss: 0.0547 - val_accuracy: 0.9862\n",
      "Epoch 5/10\n",
      "3/3 [==============================] - 7s 3s/step - loss: 0.1607 - accuracy: 0.9568 - val_loss: 0.0750 - val_accuracy: 0.9778\n",
      "Epoch 6/10\n",
      "3/3 [==============================] - 7s 3s/step - loss: 0.1337 - accuracy: 0.9620 - val_loss: 0.0723 - val_accuracy: 0.9793\n",
      "Epoch 7/10\n",
      "3/3 [==============================] - 7s 3s/step - loss: 0.1042 - accuracy: 0.9705 - val_loss: 0.0655 - val_accuracy: 0.9816\n",
      "Epoch 8/10\n",
      "3/3 [==============================] - 7s 3s/step - loss: 0.0902 - accuracy: 0.9712 - val_loss: 0.0714 - val_accuracy: 0.9796\n",
      "Epoch 9/10\n",
      "3/3 [==============================] - 7s 3s/step - loss: 0.0601 - accuracy: 0.9829 - val_loss: 0.0744 - val_accuracy: 0.9806\n",
      "Epoch 10/10\n",
      "3/3 [==============================] - 7s 3s/step - loss: 0.0730 - accuracy: 0.9823 - val_loss: 0.1159 - val_accuracy: 0.9622\n",
      "Duration: 0:01:31.420934\n"
     ]
    }
   ],
   "source": [
    "n=0\n",
    "print(n)\n",
    "\n",
    "models_nc[n].fit_model(image_sets_nc[n],label_sets_nc[n],x_val,y_val)\n",
    "n = n+1"
   ]
  },
  {
   "cell_type": "code",
   "execution_count": 26,
   "id": "0f4f3f4b",
   "metadata": {},
   "outputs": [
    {
     "name": "stdout",
     "output_type": "stream",
     "text": [
      "1\n",
      "Epoch 1/10\n",
      "6/6 [==============================] - 11s 2s/step - loss: 0.9257 - accuracy: 0.8426 - val_loss: 0.1675 - val_accuracy: 0.9490\n",
      "Epoch 2/10\n",
      "6/6 [==============================] - 8s 2s/step - loss: 0.3750 - accuracy: 0.9119 - val_loss: 0.0954 - val_accuracy: 0.9735\n",
      "Epoch 3/10\n",
      "6/6 [==============================] - 8s 2s/step - loss: 0.2932 - accuracy: 0.9217 - val_loss: 0.0755 - val_accuracy: 0.9786\n",
      "Epoch 4/10\n",
      "6/6 [==============================] - 8s 2s/step - loss: 0.2076 - accuracy: 0.9263 - val_loss: 0.0805 - val_accuracy: 0.9775\n",
      "Epoch 5/10\n",
      "6/6 [==============================] - 8s 2s/step - loss: 0.2305 - accuracy: 0.9385 - val_loss: 0.0846 - val_accuracy: 0.9758\n",
      "Epoch 6/10\n",
      "6/6 [==============================] - 8s 2s/step - loss: 0.2044 - accuracy: 0.9536 - val_loss: 0.1138 - val_accuracy: 0.9671\n",
      "Epoch 7/10\n",
      "6/6 [==============================] - 8s 2s/step - loss: 0.1582 - accuracy: 0.9602 - val_loss: 0.1120 - val_accuracy: 0.9727\n",
      "Epoch 8/10\n",
      "6/6 [==============================] - 8s 2s/step - loss: 0.1745 - accuracy: 0.9585 - val_loss: 0.1062 - val_accuracy: 0.9740\n",
      "Epoch 9/10\n",
      "6/6 [==============================] - 8s 2s/step - loss: 0.1647 - accuracy: 0.9458 - val_loss: 0.1758 - val_accuracy: 0.9599\n",
      "Epoch 10/10\n",
      "6/6 [==============================] - 8s 2s/step - loss: 0.1302 - accuracy: 0.9618 - val_loss: 0.1317 - val_accuracy: 0.9699\n",
      "Duration: 0:01:25.542733\n"
     ]
    }
   ],
   "source": [
    "print(n)\n",
    "models_nc[n].fit_model(image_sets_nc[n],label_sets_nc[n],x_val,y_val)\n",
    "n = n+1"
   ]
  },
  {
   "cell_type": "code",
   "execution_count": 27,
   "id": "48322beb",
   "metadata": {},
   "outputs": [
    {
     "name": "stdout",
     "output_type": "stream",
     "text": [
      "2\n",
      "Epoch 1/10\n",
      "9/9 [==============================] - 12s 1s/step - loss: 1.0846 - accuracy: 0.8114 - val_loss: 0.0510 - val_accuracy: 0.9862\n",
      "Epoch 2/10\n",
      "9/9 [==============================] - 10s 1s/step - loss: 0.4430 - accuracy: 0.8810 - val_loss: 0.0430 - val_accuracy: 0.9893\n",
      "Epoch 3/10\n",
      "9/9 [==============================] - 10s 1s/step - loss: 0.4482 - accuracy: 0.8775 - val_loss: 0.1139 - val_accuracy: 0.9671\n",
      "Epoch 4/10\n",
      "9/9 [==============================] - 10s 1s/step - loss: 0.4815 - accuracy: 0.8692 - val_loss: 0.0915 - val_accuracy: 0.9727\n",
      "Epoch 5/10\n",
      "9/9 [==============================] - 10s 1s/step - loss: 0.3261 - accuracy: 0.8990 - val_loss: 0.0580 - val_accuracy: 0.9857\n",
      "Epoch 6/10\n",
      "9/9 [==============================] - 10s 1s/step - loss: 0.3667 - accuracy: 0.9016 - val_loss: 0.0460 - val_accuracy: 0.9883\n",
      "Epoch 7/10\n",
      "9/9 [==============================] - 10s 1s/step - loss: 0.3375 - accuracy: 0.9087 - val_loss: 0.0971 - val_accuracy: 0.9724\n",
      "Epoch 8/10\n",
      "9/9 [==============================] - 10s 1s/step - loss: 0.2644 - accuracy: 0.9307 - val_loss: 0.1117 - val_accuracy: 0.9758\n",
      "Epoch 9/10\n",
      "9/9 [==============================] - 10s 1s/step - loss: 0.2778 - accuracy: 0.9352 - val_loss: 0.0927 - val_accuracy: 0.9750\n",
      "Epoch 10/10\n",
      "9/9 [==============================] - 10s 1s/step - loss: 0.2430 - accuracy: 0.9318 - val_loss: 0.1130 - val_accuracy: 0.9681\n",
      "Duration: 0:01:38.480548\n"
     ]
    }
   ],
   "source": [
    "print(n)\n",
    "models_nc[n].fit_model(image_sets_nc[n],label_sets_nc[n],x_val,y_val)\n",
    "n = n+1"
   ]
  },
  {
   "cell_type": "code",
   "execution_count": 28,
   "id": "1bdcbb42",
   "metadata": {},
   "outputs": [
    {
     "name": "stdout",
     "output_type": "stream",
     "text": [
      "3\n",
      "Epoch 1/10\n",
      "12/12 [==============================] - 13s 936ms/step - loss: 0.9662 - accuracy: 0.8354 - val_loss: 0.0538 - val_accuracy: 0.9852\n",
      "Epoch 2/10\n",
      "12/12 [==============================] - 11s 943ms/step - loss: 0.4343 - accuracy: 0.8782 - val_loss: 0.1481 - val_accuracy: 0.9763\n",
      "Epoch 3/10\n",
      "12/12 [==============================] - 11s 940ms/step - loss: 0.4198 - accuracy: 0.8735 - val_loss: 0.0461 - val_accuracy: 0.9872\n",
      "Epoch 4/10\n",
      "12/12 [==============================] - 11s 940ms/step - loss: 0.3984 - accuracy: 0.8982 - val_loss: 0.0510 - val_accuracy: 0.9872\n",
      "Epoch 5/10\n",
      "12/12 [==============================] - 11s 945ms/step - loss: 0.3373 - accuracy: 0.8996 - val_loss: 0.0621 - val_accuracy: 0.9816\n",
      "Epoch 6/10\n",
      "12/12 [==============================] - 11s 941ms/step - loss: 0.2764 - accuracy: 0.9178 - val_loss: 0.0515 - val_accuracy: 0.9842\n",
      "Epoch 7/10\n",
      "12/12 [==============================] - 11s 938ms/step - loss: 0.2533 - accuracy: 0.9289 - val_loss: 0.0772 - val_accuracy: 0.9791\n",
      "Epoch 8/10\n",
      "12/12 [==============================] - 11s 941ms/step - loss: 0.2971 - accuracy: 0.9078 - val_loss: 0.1241 - val_accuracy: 0.9602\n",
      "Epoch 9/10\n",
      "12/12 [==============================] - 11s 935ms/step - loss: 0.2277 - accuracy: 0.9401 - val_loss: 0.1087 - val_accuracy: 0.9676\n",
      "Epoch 10/10\n",
      "12/12 [==============================] - 11s 940ms/step - loss: 0.2559 - accuracy: 0.9172 - val_loss: 0.1200 - val_accuracy: 0.9689\n",
      "Duration: 0:01:49.911872\n"
     ]
    }
   ],
   "source": [
    "print(n)\n",
    "models_nc[n].fit_model(image_sets_nc[n],label_sets_nc[n],x_val,y_val)\n",
    "n = n+1"
   ]
  },
  {
   "cell_type": "code",
   "execution_count": 29,
   "id": "8d722415",
   "metadata": {},
   "outputs": [
    {
     "name": "stdout",
     "output_type": "stream",
     "text": [
      "4\n",
      "Epoch 1/10\n",
      "15/15 [==============================] - 14s 816ms/step - loss: 1.2306 - accuracy: 0.7939 - val_loss: 0.0306 - val_accuracy: 0.9921\n",
      "Epoch 2/10\n",
      "15/15 [==============================] - 12s 826ms/step - loss: 0.4725 - accuracy: 0.8811 - val_loss: 0.0567 - val_accuracy: 0.9867\n",
      "Epoch 3/10\n",
      "15/15 [==============================] - 13s 877ms/step - loss: 0.3586 - accuracy: 0.8885 - val_loss: 0.0460 - val_accuracy: 0.9878\n",
      "Epoch 4/10\n",
      "15/15 [==============================] - 12s 817ms/step - loss: 0.3577 - accuracy: 0.8950 - val_loss: 0.0584 - val_accuracy: 0.9862\n",
      "Epoch 5/10\n",
      "15/15 [==============================] - 12s 807ms/step - loss: 0.3430 - accuracy: 0.8979 - val_loss: 0.0749 - val_accuracy: 0.9796\n",
      "Epoch 6/10\n",
      "15/15 [==============================] - 12s 806ms/step - loss: 0.3214 - accuracy: 0.9085 - val_loss: 0.1549 - val_accuracy: 0.9533\n",
      "Epoch 7/10\n",
      "15/15 [==============================] - 12s 809ms/step - loss: 0.3010 - accuracy: 0.9002 - val_loss: 0.0730 - val_accuracy: 0.9814\n",
      "Epoch 8/10\n",
      "15/15 [==============================] - 12s 810ms/step - loss: 0.2605 - accuracy: 0.9239 - val_loss: 0.1413 - val_accuracy: 0.9666\n",
      "Epoch 9/10\n",
      "15/15 [==============================] - 12s 808ms/step - loss: 0.2497 - accuracy: 0.9312 - val_loss: 0.1181 - val_accuracy: 0.9717\n",
      "Epoch 10/10\n",
      "15/15 [==============================] - 12s 826ms/step - loss: 0.1700 - accuracy: 0.9483 - val_loss: 0.1411 - val_accuracy: 0.9625\n",
      "Duration: 0:02:01.522647\n"
     ]
    }
   ],
   "source": [
    "#\n",
    "print(n)\n",
    "models_nc[n].fit_model(image_sets_nc[n],label_sets_nc[n],x_val,y_val)\n",
    "n = n+1"
   ]
  },
  {
   "cell_type": "code",
   "execution_count": 30,
   "id": "7c53a99f",
   "metadata": {},
   "outputs": [
    {
     "name": "stdout",
     "output_type": "stream",
     "text": [
      "5\n",
      "Epoch 1/10\n",
      "18/18 [==============================] - 15s 747ms/step - loss: 0.8775 - accuracy: 0.8417 - val_loss: 0.0443 - val_accuracy: 0.9888\n",
      "Epoch 2/10\n",
      "18/18 [==============================] - 13s 745ms/step - loss: 0.4652 - accuracy: 0.8701 - val_loss: 0.0735 - val_accuracy: 0.9804\n",
      "Epoch 3/10\n",
      "18/18 [==============================] - 13s 740ms/step - loss: 0.4104 - accuracy: 0.8839 - val_loss: 0.1083 - val_accuracy: 0.9696\n",
      "Epoch 4/10\n",
      "18/18 [==============================] - 13s 736ms/step - loss: 0.3286 - accuracy: 0.8909 - val_loss: 0.0572 - val_accuracy: 0.9839\n",
      "Epoch 5/10\n",
      "18/18 [==============================] - 13s 739ms/step - loss: 0.3456 - accuracy: 0.9145 - val_loss: 0.0846 - val_accuracy: 0.9750\n",
      "Epoch 6/10\n",
      "18/18 [==============================] - 13s 741ms/step - loss: 0.3359 - accuracy: 0.9000 - val_loss: 0.1081 - val_accuracy: 0.9681\n",
      "Epoch 7/10\n",
      "18/18 [==============================] - 13s 743ms/step - loss: 0.2270 - accuracy: 0.9303 - val_loss: 0.1089 - val_accuracy: 0.9712\n",
      "Epoch 8/10\n",
      "18/18 [==============================] - 13s 738ms/step - loss: 0.2729 - accuracy: 0.9232 - val_loss: 0.1839 - val_accuracy: 0.9610\n",
      "Epoch 9/10\n",
      "18/18 [==============================] - 13s 746ms/step - loss: 0.2992 - accuracy: 0.9180 - val_loss: 0.1272 - val_accuracy: 0.9681\n",
      "Epoch 10/10\n",
      "18/18 [==============================] - 13s 740ms/step - loss: 0.2683 - accuracy: 0.9248 - val_loss: 0.2131 - val_accuracy: 0.9536\n",
      "Duration: 0:02:12.577928\n"
     ]
    }
   ],
   "source": [
    "print(n)\n",
    "models_nc[n].fit_model(image_sets_nc[n],label_sets_nc[n],x_val,y_val)\n",
    "n = n+1"
   ]
  },
  {
   "cell_type": "code",
   "execution_count": 31,
   "id": "39c3b443",
   "metadata": {},
   "outputs": [
    {
     "name": "stdout",
     "output_type": "stream",
     "text": [
      "6\n",
      "Epoch 1/10\n",
      "21/21 [==============================] - 17s 691ms/step - loss: 0.8150 - accuracy: 0.8271 - val_loss: 0.0666 - val_accuracy: 0.9875\n",
      "Epoch 2/10\n",
      "21/21 [==============================] - 14s 693ms/step - loss: 0.4695 - accuracy: 0.8692 - val_loss: 0.0840 - val_accuracy: 0.9847\n",
      "Epoch 3/10\n",
      "21/21 [==============================] - 14s 691ms/step - loss: 0.3846 - accuracy: 0.8849 - val_loss: 0.0806 - val_accuracy: 0.9806\n",
      "Epoch 4/10\n",
      "21/21 [==============================] - 14s 692ms/step - loss: 0.3149 - accuracy: 0.8986 - val_loss: 0.0673 - val_accuracy: 0.9847\n",
      "Epoch 5/10\n",
      "21/21 [==============================] - 14s 690ms/step - loss: 0.2972 - accuracy: 0.9186 - val_loss: 0.0622 - val_accuracy: 0.9867\n",
      "Epoch 6/10\n",
      "21/21 [==============================] - 14s 690ms/step - loss: 0.2926 - accuracy: 0.9130 - val_loss: 0.0913 - val_accuracy: 0.9798\n",
      "Epoch 7/10\n",
      "21/21 [==============================] - 14s 692ms/step - loss: 0.2213 - accuracy: 0.9336 - val_loss: 0.2387 - val_accuracy: 0.9625\n",
      "Epoch 8/10\n",
      "21/21 [==============================] - 14s 696ms/step - loss: 0.2463 - accuracy: 0.9464 - val_loss: 0.0815 - val_accuracy: 0.9758\n",
      "Epoch 9/10\n",
      "21/21 [==============================] - 14s 688ms/step - loss: 0.1997 - accuracy: 0.9388 - val_loss: 0.1375 - val_accuracy: 0.9645\n",
      "Epoch 10/10\n",
      "21/21 [==============================] - 14s 690ms/step - loss: 0.2722 - accuracy: 0.9248 - val_loss: 0.2448 - val_accuracy: 0.9513\n",
      "Duration: 0:02:24.796783\n"
     ]
    }
   ],
   "source": [
    "print(n)\n",
    "models_nc[n].fit_model(image_sets_nc[n],label_sets_nc[n],x_val,y_val)\n",
    "n = n+1"
   ]
  },
  {
   "cell_type": "code",
   "execution_count": 32,
   "id": "5c9be677",
   "metadata": {},
   "outputs": [
    {
     "name": "stdout",
     "output_type": "stream",
     "text": [
      "7\n",
      "Epoch 1/10\n",
      "24/24 [==============================] - 18s 660ms/step - loss: 0.9942 - accuracy: 0.8066 - val_loss: 0.0526 - val_accuracy: 0.9865\n",
      "Epoch 2/10\n",
      "24/24 [==============================] - 16s 658ms/step - loss: 0.3931 - accuracy: 0.8877 - val_loss: 0.0939 - val_accuracy: 0.9727\n",
      "Epoch 3/10\n",
      "24/24 [==============================] - 16s 657ms/step - loss: 0.4065 - accuracy: 0.8883 - val_loss: 0.0881 - val_accuracy: 0.9778\n",
      "Epoch 4/10\n",
      "24/24 [==============================] - 16s 659ms/step - loss: 0.3018 - accuracy: 0.9037 - val_loss: 0.0771 - val_accuracy: 0.9796\n",
      "Epoch 5/10\n",
      "24/24 [==============================] - 16s 659ms/step - loss: 0.3365 - accuracy: 0.9062 - val_loss: 0.0567 - val_accuracy: 0.9872\n",
      "Epoch 6/10\n",
      "24/24 [==============================] - 16s 662ms/step - loss: 0.2904 - accuracy: 0.9154 - val_loss: 0.0772 - val_accuracy: 0.9801\n",
      "Epoch 7/10\n",
      "24/24 [==============================] - 15s 654ms/step - loss: 0.2585 - accuracy: 0.9231 - val_loss: 0.1648 - val_accuracy: 0.9551\n",
      "Epoch 8/10\n",
      "24/24 [==============================] - 16s 668ms/step - loss: 0.2564 - accuracy: 0.9225 - val_loss: 0.1666 - val_accuracy: 0.9617\n",
      "Epoch 9/10\n",
      "24/24 [==============================] - 16s 662ms/step - loss: 0.2208 - accuracy: 0.9349 - val_loss: 0.1543 - val_accuracy: 0.9602\n",
      "Epoch 10/10\n",
      "24/24 [==============================] - 16s 665ms/step - loss: 0.2608 - accuracy: 0.9288 - val_loss: 0.1661 - val_accuracy: 0.9538\n",
      "Duration: 0:02:38.381614\n"
     ]
    }
   ],
   "source": [
    "print(n)\n",
    "models_nc[n].fit_model(image_sets_nc[n],label_sets_nc[n],x_val,y_val)\n",
    "n = n+1"
   ]
  },
  {
   "cell_type": "code",
   "execution_count": 33,
   "id": "2cb1ea37",
   "metadata": {},
   "outputs": [
    {
     "name": "stdout",
     "output_type": "stream",
     "text": [
      "8\n",
      "Epoch 1/10\n",
      "27/27 [==============================] - 19s 632ms/step - loss: 0.9624 - accuracy: 0.8000 - val_loss: 0.2758 - val_accuracy: 0.9661\n",
      "Epoch 2/10\n",
      "27/27 [==============================] - 17s 629ms/step - loss: 0.5022 - accuracy: 0.8657 - val_loss: 0.0385 - val_accuracy: 0.9911\n",
      "Epoch 3/10\n",
      "27/27 [==============================] - 17s 643ms/step - loss: 0.3577 - accuracy: 0.8960 - val_loss: 0.0501 - val_accuracy: 0.9857\n",
      "Epoch 4/10\n",
      "27/27 [==============================] - 17s 627ms/step - loss: 0.3107 - accuracy: 0.9075 - val_loss: 0.0726 - val_accuracy: 0.9834\n",
      "Epoch 5/10\n",
      "27/27 [==============================] - 17s 628ms/step - loss: 0.2683 - accuracy: 0.9285 - val_loss: 0.1397 - val_accuracy: 0.9663\n",
      "Epoch 6/10\n",
      "27/27 [==============================] - 17s 627ms/step - loss: 0.2728 - accuracy: 0.9230 - val_loss: 0.1011 - val_accuracy: 0.9742\n",
      "Epoch 7/10\n",
      "27/27 [==============================] - 17s 627ms/step - loss: 0.2668 - accuracy: 0.9280 - val_loss: 0.0969 - val_accuracy: 0.9763\n",
      "Epoch 8/10\n",
      "27/27 [==============================] - 17s 628ms/step - loss: 0.2078 - accuracy: 0.9393 - val_loss: 0.2742 - val_accuracy: 0.9541\n",
      "Epoch 9/10\n",
      "27/27 [==============================] - 17s 630ms/step - loss: 0.2303 - accuracy: 0.9410 - val_loss: 0.4026 - val_accuracy: 0.9367\n",
      "Epoch 10/10\n",
      "27/27 [==============================] - 17s 632ms/step - loss: 0.1615 - accuracy: 0.9557 - val_loss: 0.3731 - val_accuracy: 0.9388\n",
      "Duration: 0:02:50.328313\n"
     ]
    }
   ],
   "source": [
    "print(n)\n",
    "models_nc[n].fit_model(image_sets_nc[n],label_sets_nc[n],x_val,y_val)\n",
    "n = n+1"
   ]
  },
  {
   "cell_type": "code",
   "execution_count": 34,
   "id": "d9f1000d",
   "metadata": {},
   "outputs": [
    {
     "name": "stdout",
     "output_type": "stream",
     "text": [
      "9\n",
      "Epoch 1/10\n",
      "30/30 [==============================] - 21s 606ms/step - loss: 0.8821 - accuracy: 0.8073 - val_loss: 0.0395 - val_accuracy: 0.9906\n",
      "Epoch 2/10\n",
      "30/30 [==============================] - 18s 609ms/step - loss: 0.4437 - accuracy: 0.8859 - val_loss: 0.0454 - val_accuracy: 0.9898\n",
      "Epoch 3/10\n",
      "30/30 [==============================] - 18s 607ms/step - loss: 0.3580 - accuracy: 0.8991 - val_loss: 0.0375 - val_accuracy: 0.9908\n",
      "Epoch 4/10\n",
      "30/30 [==============================] - 18s 607ms/step - loss: 0.3387 - accuracy: 0.9022 - val_loss: 0.0782 - val_accuracy: 0.9755\n",
      "Epoch 5/10\n",
      "30/30 [==============================] - 18s 609ms/step - loss: 0.3582 - accuracy: 0.8945 - val_loss: 0.0859 - val_accuracy: 0.9722\n",
      "Epoch 6/10\n",
      "30/30 [==============================] - 18s 608ms/step - loss: 0.2597 - accuracy: 0.9263 - val_loss: 0.2315 - val_accuracy: 0.9365\n",
      "Epoch 7/10\n",
      "30/30 [==============================] - 18s 611ms/step - loss: 0.2814 - accuracy: 0.9191 - val_loss: 0.1425 - val_accuracy: 0.9612\n",
      "Epoch 8/10\n",
      "30/30 [==============================] - 18s 607ms/step - loss: 0.2005 - accuracy: 0.9412 - val_loss: 0.3134 - val_accuracy: 0.9477\n",
      "Epoch 9/10\n",
      "30/30 [==============================] - 18s 606ms/step - loss: 0.2026 - accuracy: 0.9388 - val_loss: 0.2459 - val_accuracy: 0.9497\n",
      "Epoch 10/10\n",
      "30/30 [==============================] - 18s 606ms/step - loss: 0.1862 - accuracy: 0.9449 - val_loss: 0.3412 - val_accuracy: 0.9403\n",
      "Duration: 0:03:03.087409\n"
     ]
    }
   ],
   "source": [
    "#\n",
    "print(n)\n",
    "models_nc[n].fit_model(image_sets_nc[n],label_sets_nc[n],x_val,y_val)\n",
    "n = n+1"
   ]
  },
  {
   "cell_type": "code",
   "execution_count": 35,
   "id": "e1cc3559",
   "metadata": {},
   "outputs": [
    {
     "name": "stdout",
     "output_type": "stream",
     "text": [
      "10\n",
      "Epoch 1/10\n",
      "33/33 [==============================] - 22s 588ms/step - loss: 0.8370 - accuracy: 0.8387 - val_loss: 0.0928 - val_accuracy: 0.9781\n",
      "Epoch 2/10\n",
      "33/33 [==============================] - 20s 597ms/step - loss: 0.4487 - accuracy: 0.8798 - val_loss: 0.0699 - val_accuracy: 0.9875\n",
      "Epoch 3/10\n",
      "33/33 [==============================] - 19s 589ms/step - loss: 0.3788 - accuracy: 0.8987 - val_loss: 0.1368 - val_accuracy: 0.9747\n",
      "Epoch 4/10\n",
      "33/33 [==============================] - 19s 586ms/step - loss: 0.3609 - accuracy: 0.9011 - val_loss: 0.0848 - val_accuracy: 0.9760\n",
      "Epoch 5/10\n",
      "33/33 [==============================] - 19s 586ms/step - loss: 0.3012 - accuracy: 0.9070 - val_loss: 0.1017 - val_accuracy: 0.9714\n",
      "Epoch 6/10\n",
      "33/33 [==============================] - 19s 584ms/step - loss: 0.2383 - accuracy: 0.9311 - val_loss: 0.1253 - val_accuracy: 0.9656\n",
      "Epoch 7/10\n",
      "33/33 [==============================] - 24s 750ms/step - loss: 0.2571 - accuracy: 0.9256 - val_loss: 0.1804 - val_accuracy: 0.9520\n",
      "Epoch 8/10\n",
      "33/33 [==============================] - 30s 930ms/step - loss: 0.2560 - accuracy: 0.9253 - val_loss: 0.2079 - val_accuracy: 0.9556\n",
      "Epoch 9/10\n",
      "33/33 [==============================] - 31s 953ms/step - loss: 0.1521 - accuracy: 0.9552 - val_loss: 0.4000 - val_accuracy: 0.9367\n",
      "Epoch 10/10\n",
      "33/33 [==============================] - 27s 832ms/step - loss: 0.1881 - accuracy: 0.9443 - val_loss: 0.2636 - val_accuracy: 0.9388\n",
      "Duration: 0:03:50.978470\n"
     ]
    }
   ],
   "source": [
    "print(n)\n",
    "models_nc[n].fit_model(image_sets_nc[n],label_sets_nc[n],x_val,y_val)\n",
    "n = n+1"
   ]
  },
  {
   "cell_type": "code",
   "execution_count": 36,
   "id": "e17d50fa",
   "metadata": {},
   "outputs": [
    {
     "name": "stdout",
     "output_type": "stream",
     "text": [
      "11\n",
      "Epoch 1/10\n",
      "36/36 [==============================] - 33s 819ms/step - loss: 0.8900 - accuracy: 0.8035 - val_loss: 0.2556 - val_accuracy: 0.9684\n",
      "Epoch 2/10\n",
      "36/36 [==============================] - 29s 819ms/step - loss: 0.4682 - accuracy: 0.8675 - val_loss: 0.0359 - val_accuracy: 0.9926\n",
      "Epoch 3/10\n",
      "36/36 [==============================] - 29s 806ms/step - loss: 0.3858 - accuracy: 0.8852 - val_loss: 0.0462 - val_accuracy: 0.9857\n",
      "Epoch 4/10\n",
      "36/36 [==============================] - 29s 808ms/step - loss: 0.3426 - accuracy: 0.8974 - val_loss: 0.0751 - val_accuracy: 0.9824\n",
      "Epoch 5/10\n",
      "36/36 [==============================] - 29s 805ms/step - loss: 0.3407 - accuracy: 0.9011 - val_loss: 0.1352 - val_accuracy: 0.9737\n",
      "Epoch 6/10\n",
      "36/36 [==============================] - 29s 805ms/step - loss: 0.2467 - accuracy: 0.9391 - val_loss: 0.2548 - val_accuracy: 0.9599\n",
      "Epoch 7/10\n",
      "36/36 [==============================] - 29s 813ms/step - loss: 0.2588 - accuracy: 0.9264 - val_loss: 0.1776 - val_accuracy: 0.9640\n",
      "Epoch 8/10\n",
      "36/36 [==============================] - 30s 831ms/step - loss: 0.2294 - accuracy: 0.9286 - val_loss: 0.1393 - val_accuracy: 0.9681\n",
      "Epoch 9/10\n",
      "36/36 [==============================] - 29s 814ms/step - loss: 0.2209 - accuracy: 0.9420 - val_loss: 0.3264 - val_accuracy: 0.9525\n",
      "Epoch 10/10\n",
      "36/36 [==============================] - 29s 804ms/step - loss: 0.2155 - accuracy: 0.9368 - val_loss: 0.3885 - val_accuracy: 0.9421\n",
      "Duration: 0:04:53.774699\n"
     ]
    }
   ],
   "source": [
    "print(n)\n",
    "models_nc[n].fit_model(image_sets_nc[n],label_sets_nc[n],x_val,y_val)\n",
    "n = n+1"
   ]
  },
  {
   "cell_type": "code",
   "execution_count": 37,
   "id": "0f12f210",
   "metadata": {},
   "outputs": [
    {
     "name": "stdout",
     "output_type": "stream",
     "text": [
      "12\n",
      "Epoch 1/10\n",
      "39/39 [==============================] - 34s 793ms/step - loss: 0.7763 - accuracy: 0.8198 - val_loss: 0.0624 - val_accuracy: 0.9844\n",
      "Epoch 2/10\n",
      "39/39 [==============================] - 30s 786ms/step - loss: 0.4571 - accuracy: 0.8682 - val_loss: 0.0575 - val_accuracy: 0.9862\n",
      "Epoch 3/10\n",
      "39/39 [==============================] - 31s 789ms/step - loss: 0.4160 - accuracy: 0.8885 - val_loss: 0.0749 - val_accuracy: 0.9819\n",
      "Epoch 4/10\n",
      "39/39 [==============================] - 31s 790ms/step - loss: 0.3657 - accuracy: 0.8964 - val_loss: 0.0706 - val_accuracy: 0.9842\n",
      "Epoch 5/10\n",
      "39/39 [==============================] - 31s 788ms/step - loss: 0.3328 - accuracy: 0.9105 - val_loss: 0.1074 - val_accuracy: 0.9804\n",
      "Epoch 6/10\n",
      "39/39 [==============================] - 31s 788ms/step - loss: 0.2541 - accuracy: 0.9305 - val_loss: 0.1386 - val_accuracy: 0.9709\n",
      "Epoch 7/10\n",
      "39/39 [==============================] - 32s 830ms/step - loss: 0.2536 - accuracy: 0.9252 - val_loss: 0.2155 - val_accuracy: 0.9627\n",
      "Epoch 8/10\n",
      "39/39 [==============================] - 31s 803ms/step - loss: 0.2240 - accuracy: 0.9374 - val_loss: 0.2026 - val_accuracy: 0.9594\n",
      "Epoch 9/10\n",
      "39/39 [==============================] - 31s 788ms/step - loss: 0.2336 - accuracy: 0.9346 - val_loss: 0.3960 - val_accuracy: 0.9485\n",
      "Epoch 10/10\n",
      "39/39 [==============================] - 31s 793ms/step - loss: 0.2015 - accuracy: 0.9465 - val_loss: 0.3750 - val_accuracy: 0.9513\n",
      "Duration: 0:05:11.214641\n"
     ]
    }
   ],
   "source": [
    "print(n)\n",
    "models_nc[n].fit_model(image_sets_nc[n],label_sets_nc[n],x_val,y_val)\n",
    "n = n+1"
   ]
  },
  {
   "cell_type": "code",
   "execution_count": 38,
   "id": "8438733c",
   "metadata": {},
   "outputs": [
    {
     "name": "stdout",
     "output_type": "stream",
     "text": [
      "13\n",
      "Epoch 1/10\n",
      "42/42 [==============================] - 36s 775ms/step - loss: 0.9619 - accuracy: 0.7873 - val_loss: 0.0663 - val_accuracy: 0.9880\n",
      "Epoch 2/10\n",
      "42/42 [==============================] - 32s 771ms/step - loss: 0.5404 - accuracy: 0.8508 - val_loss: 0.0418 - val_accuracy: 0.9867\n",
      "Epoch 3/10\n",
      "42/42 [==============================] - 32s 771ms/step - loss: 0.4516 - accuracy: 0.8636 - val_loss: 0.0411 - val_accuracy: 0.9890\n",
      "Epoch 4/10\n",
      "42/42 [==============================] - 33s 783ms/step - loss: 0.3800 - accuracy: 0.8955 - val_loss: 0.0577 - val_accuracy: 0.9862\n",
      "Epoch 5/10\n",
      "42/42 [==============================] - 32s 770ms/step - loss: 0.3256 - accuracy: 0.9105 - val_loss: 0.1366 - val_accuracy: 0.9770\n",
      "Epoch 6/10\n",
      "42/42 [==============================] - 32s 775ms/step - loss: 0.3368 - accuracy: 0.9128 - val_loss: 0.0924 - val_accuracy: 0.9752\n",
      "Epoch 7/10\n",
      "42/42 [==============================] - 32s 774ms/step - loss: 0.2658 - accuracy: 0.9241 - val_loss: 0.1562 - val_accuracy: 0.9691\n",
      "Epoch 8/10\n",
      "42/42 [==============================] - 31s 733ms/step - loss: 0.2165 - accuracy: 0.9388 - val_loss: 0.2082 - val_accuracy: 0.9635\n",
      "Epoch 9/10\n",
      "42/42 [==============================] - 25s 591ms/step - loss: 0.2631 - accuracy: 0.9320 - val_loss: 0.3556 - val_accuracy: 0.9656\n",
      "Epoch 10/10\n",
      "42/42 [==============================] - 25s 595ms/step - loss: 0.2239 - accuracy: 0.9346 - val_loss: 0.3474 - val_accuracy: 0.9633\n",
      "Duration: 0:05:09.856072\n"
     ]
    }
   ],
   "source": [
    "print(n)\n",
    "models_nc[n].fit_model(image_sets_nc[n],label_sets_nc[n],x_val,y_val)\n",
    "n = n+1"
   ]
  },
  {
   "cell_type": "code",
   "execution_count": 39,
   "id": "87e95b49",
   "metadata": {},
   "outputs": [
    {
     "name": "stdout",
     "output_type": "stream",
     "text": [
      "14\n",
      "Epoch 1/10\n",
      "45/45 [==============================] - 30s 584ms/step - loss: 0.9124 - accuracy: 0.8016 - val_loss: 0.1897 - val_accuracy: 0.9758\n",
      "Epoch 2/10\n",
      "45/45 [==============================] - 26s 587ms/step - loss: 0.5703 - accuracy: 0.8403 - val_loss: 0.0471 - val_accuracy: 0.9880\n",
      "Epoch 3/10\n",
      "45/45 [==============================] - 26s 585ms/step - loss: 0.4361 - accuracy: 0.8747 - val_loss: 0.0613 - val_accuracy: 0.9855\n",
      "Epoch 4/10\n",
      "45/45 [==============================] - 26s 588ms/step - loss: 0.3397 - accuracy: 0.9020 - val_loss: 0.0661 - val_accuracy: 0.9857\n",
      "Epoch 5/10\n",
      "45/45 [==============================] - 26s 585ms/step - loss: 0.2930 - accuracy: 0.9198 - val_loss: 0.1368 - val_accuracy: 0.9750\n",
      "Epoch 6/10\n",
      "45/45 [==============================] - 26s 584ms/step - loss: 0.3360 - accuracy: 0.9088 - val_loss: 0.1824 - val_accuracy: 0.9627\n",
      "Epoch 7/10\n",
      "45/45 [==============================] - 26s 585ms/step - loss: 0.2678 - accuracy: 0.9254 - val_loss: 0.2024 - val_accuracy: 0.9712\n",
      "Epoch 8/10\n",
      "45/45 [==============================] - 26s 585ms/step - loss: 0.2741 - accuracy: 0.9215 - val_loss: 0.1526 - val_accuracy: 0.9678\n",
      "Epoch 9/10\n",
      "45/45 [==============================] - 26s 588ms/step - loss: 0.2018 - accuracy: 0.9399 - val_loss: 0.2343 - val_accuracy: 0.9592\n",
      "Epoch 10/10\n",
      "45/45 [==============================] - 27s 601ms/step - loss: 0.2413 - accuracy: 0.9341 - val_loss: 0.3078 - val_accuracy: 0.9625\n",
      "Duration: 0:04:26.455700\n"
     ]
    }
   ],
   "source": [
    "#\n",
    "print(n)\n",
    "models_nc[n].fit_model(image_sets_nc[n],label_sets_nc[n],x_val,y_val)\n",
    "n = n+1"
   ]
  },
  {
   "cell_type": "code",
   "execution_count": 40,
   "id": "43b1e894",
   "metadata": {},
   "outputs": [
    {
     "name": "stdout",
     "output_type": "stream",
     "text": [
      "15\n",
      "Epoch 1/10\n",
      "48/48 [==============================] - 33s 599ms/step - loss: 0.9463 - accuracy: 0.7851 - val_loss: 0.1464 - val_accuracy: 0.9829\n",
      "Epoch 2/10\n",
      "48/48 [==============================] - 28s 578ms/step - loss: 0.5318 - accuracy: 0.8505 - val_loss: 0.0488 - val_accuracy: 0.9878\n",
      "Epoch 3/10\n",
      "48/48 [==============================] - 28s 579ms/step - loss: 0.4061 - accuracy: 0.8816 - val_loss: 0.0441 - val_accuracy: 0.9880\n",
      "Epoch 4/10\n",
      "48/48 [==============================] - 27s 573ms/step - loss: 0.3764 - accuracy: 0.8937 - val_loss: 0.0562 - val_accuracy: 0.9862\n",
      "Epoch 5/10\n",
      "48/48 [==============================] - 27s 574ms/step - loss: 0.3279 - accuracy: 0.9039 - val_loss: 0.0728 - val_accuracy: 0.9798\n",
      "Epoch 6/10\n",
      "48/48 [==============================] - 27s 576ms/step - loss: 0.3114 - accuracy: 0.9147 - val_loss: 0.1877 - val_accuracy: 0.9673\n",
      "Epoch 7/10\n",
      "48/48 [==============================] - 28s 577ms/step - loss: 0.2524 - accuracy: 0.9307 - val_loss: 0.1843 - val_accuracy: 0.9722\n",
      "Epoch 8/10\n",
      "48/48 [==============================] - 27s 575ms/step - loss: 0.2316 - accuracy: 0.9321 - val_loss: 0.1783 - val_accuracy: 0.9770\n",
      "Epoch 9/10\n",
      "48/48 [==============================] - 27s 576ms/step - loss: 0.2341 - accuracy: 0.9329 - val_loss: 0.2721 - val_accuracy: 0.9696\n",
      "Epoch 10/10\n",
      "48/48 [==============================] - 28s 576ms/step - loss: 0.2292 - accuracy: 0.9379 - val_loss: 0.2819 - val_accuracy: 0.9671\n",
      "Duration: 0:04:40.486437\n"
     ]
    }
   ],
   "source": [
    "print(n)\n",
    "models_nc[n].fit_model(image_sets_nc[n],label_sets_nc[n],x_val,y_val)\n",
    "n = n+1"
   ]
  },
  {
   "cell_type": "code",
   "execution_count": 41,
   "id": "7de153f9",
   "metadata": {},
   "outputs": [
    {
     "name": "stdout",
     "output_type": "stream",
     "text": [
      "16\n",
      "Epoch 1/10\n",
      "51/51 [==============================] - 32s 570ms/step - loss: 1.0400 - accuracy: 0.7616 - val_loss: 0.0416 - val_accuracy: 0.9906\n",
      "Epoch 2/10\n",
      "51/51 [==============================] - 29s 570ms/step - loss: 0.5605 - accuracy: 0.8453 - val_loss: 0.0558 - val_accuracy: 0.9865\n",
      "Epoch 3/10\n",
      "51/51 [==============================] - 29s 569ms/step - loss: 0.4089 - accuracy: 0.8824 - val_loss: 0.1065 - val_accuracy: 0.9788\n",
      "Epoch 4/10\n",
      "51/51 [==============================] - 29s 567ms/step - loss: 0.3889 - accuracy: 0.8923 - val_loss: 0.1241 - val_accuracy: 0.9801\n",
      "Epoch 5/10\n",
      "51/51 [==============================] - 29s 566ms/step - loss: 0.3124 - accuracy: 0.9122 - val_loss: 0.1323 - val_accuracy: 0.9742\n",
      "Epoch 6/10\n",
      "51/51 [==============================] - 29s 578ms/step - loss: 0.3018 - accuracy: 0.9157 - val_loss: 0.2070 - val_accuracy: 0.9750\n",
      "Epoch 7/10\n",
      "51/51 [==============================] - 29s 566ms/step - loss: 0.2474 - accuracy: 0.9269 - val_loss: 0.3151 - val_accuracy: 0.9681\n",
      "Epoch 8/10\n",
      "51/51 [==============================] - 29s 568ms/step - loss: 0.2292 - accuracy: 0.9332 - val_loss: 0.3245 - val_accuracy: 0.9627\n",
      "Epoch 9/10\n",
      "51/51 [==============================] - 29s 568ms/step - loss: 0.2502 - accuracy: 0.9337 - val_loss: 0.4150 - val_accuracy: 0.9546\n",
      "Epoch 10/10\n",
      "51/51 [==============================] - 29s 572ms/step - loss: 0.2008 - accuracy: 0.9346 - val_loss: 0.5433 - val_accuracy: 0.9610\n",
      "Duration: 0:04:52.600263\n"
     ]
    }
   ],
   "source": [
    "print(n)\n",
    "models_nc[n].fit_model(image_sets_nc[n],label_sets_nc[n],x_val,y_val)\n",
    "n = n+1"
   ]
  },
  {
   "cell_type": "code",
   "execution_count": 42,
   "id": "814d3a6c",
   "metadata": {},
   "outputs": [
    {
     "name": "stdout",
     "output_type": "stream",
     "text": [
      "17\n",
      "Epoch 1/10\n",
      "54/54 [==============================] - 41s 712ms/step - loss: 1.1313 - accuracy: 0.7501 - val_loss: 0.0463 - val_accuracy: 0.9900\n",
      "Epoch 2/10\n",
      "54/54 [==============================] - 52s 964ms/step - loss: 0.5782 - accuracy: 0.8444 - val_loss: 0.0313 - val_accuracy: 0.9913\n",
      "Epoch 3/10\n",
      "54/54 [==============================] - 43s 807ms/step - loss: 0.5010 - accuracy: 0.8595 - val_loss: 0.0477 - val_accuracy: 0.9865\n",
      "Epoch 4/10\n",
      "54/54 [==============================] - 39s 724ms/step - loss: 0.4275 - accuracy: 0.8755 - val_loss: 0.3423 - val_accuracy: 0.9232\n",
      "Epoch 5/10\n",
      "54/54 [==============================] - 39s 728ms/step - loss: 0.4065 - accuracy: 0.8845 - val_loss: 0.0595 - val_accuracy: 0.9870\n",
      "Epoch 6/10\n",
      "54/54 [==============================] - 39s 731ms/step - loss: 0.3081 - accuracy: 0.9114 - val_loss: 0.0601 - val_accuracy: 0.9862\n",
      "Epoch 7/10\n",
      "54/54 [==============================] - 39s 724ms/step - loss: 0.3019 - accuracy: 0.9117 - val_loss: 0.0381 - val_accuracy: 0.9906\n",
      "Epoch 8/10\n",
      "54/54 [==============================] - 39s 732ms/step - loss: 0.2903 - accuracy: 0.9147 - val_loss: 0.0472 - val_accuracy: 0.9893\n",
      "Epoch 9/10\n",
      "54/54 [==============================] - 39s 730ms/step - loss: 0.2681 - accuracy: 0.9270 - val_loss: 0.0701 - val_accuracy: 0.9839\n",
      "Epoch 10/10\n",
      "54/54 [==============================] - 39s 727ms/step - loss: 0.2429 - accuracy: 0.9338 - val_loss: 0.0566 - val_accuracy: 0.9860\n",
      "Duration: 0:06:50.876156\n"
     ]
    }
   ],
   "source": [
    "print(n)\n",
    "models_nc[n].fit_model(image_sets_nc[n],label_sets_nc[n],x_val,y_val)\n",
    "n = n+1"
   ]
  },
  {
   "cell_type": "code",
   "execution_count": 43,
   "id": "b5db2221",
   "metadata": {},
   "outputs": [
    {
     "name": "stdout",
     "output_type": "stream",
     "text": [
      "18\n",
      "Epoch 1/10\n",
      "57/57 [==============================] - 44s 718ms/step - loss: 1.1197 - accuracy: 0.7353 - val_loss: 0.0663 - val_accuracy: 0.9875\n",
      "Epoch 2/10\n",
      "57/57 [==============================] - 41s 718ms/step - loss: 0.6202 - accuracy: 0.8326 - val_loss: 0.0331 - val_accuracy: 0.9936\n",
      "Epoch 3/10\n",
      "57/57 [==============================] - 41s 716ms/step - loss: 0.4851 - accuracy: 0.8671 - val_loss: 0.0394 - val_accuracy: 0.9898\n",
      "Epoch 4/10\n",
      "57/57 [==============================] - 42s 732ms/step - loss: 0.4159 - accuracy: 0.8749 - val_loss: 0.0367 - val_accuracy: 0.9913\n",
      "Epoch 5/10\n",
      "57/57 [==============================] - 41s 720ms/step - loss: 0.3673 - accuracy: 0.9015 - val_loss: 0.0401 - val_accuracy: 0.9908\n",
      "Epoch 6/10\n",
      "57/57 [==============================] - 41s 718ms/step - loss: 0.3081 - accuracy: 0.9100 - val_loss: 0.0351 - val_accuracy: 0.9923\n",
      "Epoch 7/10\n",
      "57/57 [==============================] - 41s 715ms/step - loss: 0.3347 - accuracy: 0.9081 - val_loss: 0.0321 - val_accuracy: 0.9923\n",
      "Epoch 8/10\n",
      "57/57 [==============================] - 41s 716ms/step - loss: 0.2551 - accuracy: 0.9252 - val_loss: 0.0632 - val_accuracy: 0.9855\n",
      "Epoch 9/10\n",
      "57/57 [==============================] - 41s 720ms/step - loss: 0.2621 - accuracy: 0.9194 - val_loss: 0.0478 - val_accuracy: 0.9872\n",
      "Epoch 10/10\n",
      "57/57 [==============================] - 41s 721ms/step - loss: 0.2241 - accuracy: 0.9349 - val_loss: 0.0481 - val_accuracy: 0.9870\n",
      "Duration: 0:06:51.915908\n"
     ]
    }
   ],
   "source": [
    "print(n)\n",
    "models_nc[n].fit_model(image_sets_nc[n],label_sets_nc[n],x_val,y_val)\n",
    "n = n+1"
   ]
  },
  {
   "cell_type": "code",
   "execution_count": 44,
   "id": "e5b7e32d",
   "metadata": {},
   "outputs": [
    {
     "name": "stdout",
     "output_type": "stream",
     "text": [
      "19\n",
      "Epoch 1/10\n",
      "62/62 [==============================] - 47s 707ms/step - loss: 1.1483 - accuracy: 0.7245 - val_loss: 0.0413 - val_accuracy: 0.9913\n",
      "Epoch 2/10\n",
      "62/62 [==============================] - 43s 696ms/step - loss: 0.6930 - accuracy: 0.8020 - val_loss: 0.0376 - val_accuracy: 0.9936\n",
      "Epoch 3/10\n",
      "62/62 [==============================] - 34s 556ms/step - loss: 0.5678 - accuracy: 0.8498 - val_loss: 0.0513 - val_accuracy: 0.9885\n",
      "Epoch 4/10\n",
      "62/62 [==============================] - 34s 546ms/step - loss: 0.4597 - accuracy: 0.8714 - val_loss: 0.1687 - val_accuracy: 0.9666\n",
      "Epoch 5/10\n",
      "62/62 [==============================] - 34s 548ms/step - loss: 0.4060 - accuracy: 0.8827 - val_loss: 0.0573 - val_accuracy: 0.9860\n",
      "Epoch 6/10\n",
      "62/62 [==============================] - 34s 549ms/step - loss: 0.3593 - accuracy: 0.8917 - val_loss: 0.1067 - val_accuracy: 0.9686\n",
      "Epoch 7/10\n",
      "62/62 [==============================] - 34s 546ms/step - loss: 0.3522 - accuracy: 0.8942 - val_loss: 0.0441 - val_accuracy: 0.9880\n",
      "Epoch 8/10\n",
      "62/62 [==============================] - 34s 543ms/step - loss: 0.3043 - accuracy: 0.9080 - val_loss: 0.0320 - val_accuracy: 0.9908\n",
      "Epoch 9/10\n",
      "62/62 [==============================] - 34s 544ms/step - loss: 0.2544 - accuracy: 0.9281 - val_loss: 0.0342 - val_accuracy: 0.9923\n",
      "Epoch 10/10\n",
      "62/62 [==============================] - 34s 545ms/step - loss: 0.2415 - accuracy: 0.9289 - val_loss: 0.0379 - val_accuracy: 0.9893\n",
      "Duration: 0:06:00.981593\n"
     ]
    }
   ],
   "source": [
    "#\n",
    "print(n)\n",
    "models_nc[n].fit_model(image_sets_nc[n],label_sets_nc[n],x_val,y_val)\n",
    "n = n+1"
   ]
  },
  {
   "cell_type": "code",
   "execution_count": 45,
   "id": "43bd398f",
   "metadata": {},
   "outputs": [
    {
     "name": "stdout",
     "output_type": "stream",
     "text": [
      "INFO:tensorflow:Assets written to: D:/models/aug_22/gtsrb/C3/e2/gtsrb_model_c3_aug_nc_e2_0\\assets\n",
      "Model has been saved\n",
      "INFO:tensorflow:Assets written to: D:/models/aug_22/gtsrb/C3/e2/gtsrb_model_c3_aug_nc_e2_1\\assets\n",
      "Model has been saved\n",
      "INFO:tensorflow:Assets written to: D:/models/aug_22/gtsrb/C3/e2/gtsrb_model_c3_aug_nc_e2_2\\assets\n",
      "Model has been saved\n",
      "INFO:tensorflow:Assets written to: D:/models/aug_22/gtsrb/C3/e2/gtsrb_model_c3_aug_nc_e2_3\\assets\n",
      "Model has been saved\n",
      "INFO:tensorflow:Assets written to: D:/models/aug_22/gtsrb/C3/e2/gtsrb_model_c3_aug_nc_e2_4\\assets\n",
      "Model has been saved\n",
      "INFO:tensorflow:Assets written to: D:/models/aug_22/gtsrb/C3/e2/gtsrb_model_c3_aug_nc_e2_5\\assets\n",
      "Model has been saved\n",
      "INFO:tensorflow:Assets written to: D:/models/aug_22/gtsrb/C3/e2/gtsrb_model_c3_aug_nc_e2_6\\assets\n",
      "Model has been saved\n",
      "INFO:tensorflow:Assets written to: D:/models/aug_22/gtsrb/C3/e2/gtsrb_model_c3_aug_nc_e2_7\\assets\n",
      "Model has been saved\n",
      "INFO:tensorflow:Assets written to: D:/models/aug_22/gtsrb/C3/e2/gtsrb_model_c3_aug_nc_e2_8\\assets\n",
      "Model has been saved\n",
      "INFO:tensorflow:Assets written to: D:/models/aug_22/gtsrb/C3/e2/gtsrb_model_c3_aug_nc_e2_9\\assets\n",
      "Model has been saved\n",
      "INFO:tensorflow:Assets written to: D:/models/aug_22/gtsrb/C3/e2/gtsrb_model_c3_aug_nc_e2_10\\assets\n",
      "Model has been saved\n",
      "INFO:tensorflow:Assets written to: D:/models/aug_22/gtsrb/C3/e2/gtsrb_model_c3_aug_nc_e2_11\\assets\n",
      "Model has been saved\n",
      "INFO:tensorflow:Assets written to: D:/models/aug_22/gtsrb/C3/e2/gtsrb_model_c3_aug_nc_e2_12\\assets\n",
      "Model has been saved\n",
      "INFO:tensorflow:Assets written to: D:/models/aug_22/gtsrb/C3/e2/gtsrb_model_c3_aug_nc_e2_13\\assets\n",
      "Model has been saved\n",
      "INFO:tensorflow:Assets written to: D:/models/aug_22/gtsrb/C3/e2/gtsrb_model_c3_aug_nc_e2_14\\assets\n",
      "Model has been saved\n",
      "INFO:tensorflow:Assets written to: D:/models/aug_22/gtsrb/C3/e2/gtsrb_model_c3_aug_nc_e2_15\\assets\n",
      "Model has been saved\n",
      "INFO:tensorflow:Assets written to: D:/models/aug_22/gtsrb/C3/e2/gtsrb_model_c3_aug_nc_e2_16\\assets\n",
      "Model has been saved\n",
      "INFO:tensorflow:Assets written to: D:/models/aug_22/gtsrb/C3/e2/gtsrb_model_c3_aug_nc_e2_17\\assets\n",
      "Model has been saved\n",
      "INFO:tensorflow:Assets written to: D:/models/aug_22/gtsrb/C3/e2/gtsrb_model_c3_aug_nc_e2_18\\assets\n",
      "Model has been saved\n",
      "INFO:tensorflow:Assets written to: D:/models/aug_22/gtsrb/C3/e2/gtsrb_model_c3_aug_nc_e2_19\\assets\n",
      "Model has been saved\n"
     ]
    }
   ],
   "source": [
    "#new_model_nc_dir  = \"C:/Users/fjdurlop/Documents/upc/models/\"+dataset+\"/C3/\"+dataset+\"_model_c3_aug_nc_e1\"\n",
    "new_model_nc_dir  = \"D:/models/aug_22/gtsrb/C3/e2/gtsrb_model_c3_aug_nc_e2\"\n",
    "i=0\n",
    "\n",
    "for model in models_nc:\n",
    "    model.save(new_model_nc_dir+\"_\"+str(i))\n",
    "    i+=1"
   ]
  },
  {
   "cell_type": "code",
   "execution_count": null,
   "id": "47e2faf4",
   "metadata": {},
   "outputs": [],
   "source": [
    "try:\n",
    "    del nc_values\n",
    "    del top_images_by_nc\n",
    "    del top_labels_by_nc\n",
    "    del image_sets_nc\n",
    "    del label_sets_nc\n",
    "    del models_nc\n",
    "except:\n",
    "    print(\"Error\")"
   ]
  },
  {
   "cell_type": "code",
   "execution_count": null,
   "id": "98f93725",
   "metadata": {},
   "outputs": [],
   "source": [
    "gc.collect()"
   ]
  },
  {
   "cell_type": "markdown",
   "id": "2b428980",
   "metadata": {},
   "source": [
    "## Evaluating"
   ]
  },
  {
   "cell_type": "code",
   "execution_count": null,
   "id": "e6300f23",
   "metadata": {},
   "outputs": [],
   "source": [
    "model_original.model.compile(loss= 'categorical_crossentropy', optimizer = 'rmsprop', metrics = ['accuracy',tf.keras.metrics.Precision(), tf.keras.metrics.Recall()])"
   ]
  },
  {
   "cell_type": "code",
   "execution_count": null,
   "id": "fd074ff2",
   "metadata": {},
   "outputs": [],
   "source": [
    "# Metrics using adversarial test\n",
    "evaluate_lsa_0 = []\n",
    "evaluate_dsa_0 = []\n",
    "evaluate_nc_0 = []\n",
    "evaluate_random_0 = []\n",
    "\n",
    "evaluate_lsa_0.append(model_original.evaluate(x_adversary_test_fgsm,y_adversary_test_fgsm))\n",
    "evaluate_dsa_0.append(model_original.evaluate(x_adversary_test_fgsm,y_adversary_test_fgsm))\n",
    "evaluate_nc_0.append(model_original.evaluate(x_adversary_test_fgsm,y_adversary_test_fgsm))\n",
    "evaluate_random_0.append(model_original.evaluate(x_adversary_test_fgsm,y_adversary_test_fgsm))\n",
    "\n",
    "for model in models_lsa:\n",
    "    evaluate_lsa_0.append(model.evaluate(x_adversary_test_fgsm,y_adversary_test_fgsm))\n",
    "    \n",
    "for model in models_dsa:\n",
    "    evaluate_dsa_0.append(model.evaluate(x_adversary_test_fgsm,y_adversary_test_fgsm))\n",
    "    \n",
    "for model in models_random:\n",
    "    evaluate_random_0.append(model.evaluate(x_adversary_test_fgsm,y_adversary_test_fgsm))\n",
    "    \n",
    "for model in models_nc:\n",
    "    evaluate_nc_0.append(model.evaluate(x_adversary_test_fgsm,y_adversary_test_fgsm))"
   ]
  },
  {
   "cell_type": "code",
   "execution_count": null,
   "id": "889a2bb6",
   "metadata": {},
   "outputs": [],
   "source": [
    "evaluate_lsa_0[0]=[0,0,0,0]\n",
    "evaluate_dsa_0[0]=[0,0,0,0]\n",
    "evaluate_random_0[0]=[0,0,0,0]\n",
    "evaluate_nc_0[0]=[0,0,0,0]"
   ]
  },
  {
   "cell_type": "code",
   "execution_count": null,
   "id": "11b4b138",
   "metadata": {},
   "outputs": [],
   "source": [
    "print(len(evaluate_lsa_0))\n",
    "print(len(evaluate_dsa_0))\n",
    "print(len(evaluate_random_0))\n",
    "print(len(evaluate_nc_0))"
   ]
  },
  {
   "cell_type": "code",
   "execution_count": null,
   "id": "1d1c6ec0",
   "metadata": {
    "scrolled": true
   },
   "outputs": [],
   "source": [
    "# Metrics using original test\n",
    "evaluate_lsa_1 = []\n",
    "evaluate_dsa_1 = []\n",
    "evaluate_nc_1 = []\n",
    "evaluate_random_1 = []\n",
    "\n",
    "evaluate_lsa_1.append(model_original.evaluate(x_test,y_test))\n",
    "evaluate_dsa_1.append(model_original.evaluate(x_test,y_test))\n",
    "evaluate_nc_1.append(model_original.evaluate(x_test,y_test))\n",
    "evaluate_random_1.append(model_original.evaluate(x_test,y_test))\n",
    "print(\"lsa---\")\n",
    "for model in models_lsa:\n",
    "    evaluate_lsa_1.append(model.evaluate(x_test,y_test))\n",
    "\n",
    "print(\"dsa---\")\n",
    "    \n",
    "for model in models_dsa:\n",
    "    evaluate_dsa_1.append(model.evaluate(x_test,y_test))\n",
    "    \n",
    "\n",
    "print(\"random---\")\n",
    "\n",
    "for model in models_random:\n",
    "    evaluate_random_1.append(model.evaluate(x_test,y_test))\n",
    "    \n",
    "print(\"nc---\")\n",
    "\n",
    "for model in models_nc:\n",
    "    evaluate_nc_1.append(model.evaluate(x_test,y_test))\n"
   ]
  },
  {
   "cell_type": "code",
   "execution_count": null,
   "id": "3968b39d",
   "metadata": {},
   "outputs": [],
   "source": [
    "evaluate_lsa_1[0]=[0,0,0,0]\n",
    "evaluate_dsa_1[0]=[0,0,0,0]\n",
    "evaluate_random_1[0]=[0,0,0,0]\n",
    "evaluate_nc_1[0]=[0,0,0,0]"
   ]
  },
  {
   "cell_type": "code",
   "execution_count": null,
   "id": "85dd3308",
   "metadata": {},
   "outputs": [],
   "source": [
    "\n",
    "print(len(evaluate_lsa_1))\n",
    "print(len(evaluate_dsa_1))\n",
    "print(len(evaluate_random_1))\n",
    "print(len(evaluate_nc_1))"
   ]
  },
  {
   "cell_type": "code",
   "execution_count": null,
   "id": "641ef7af",
   "metadata": {},
   "outputs": [],
   "source": [
    "type(evaluate_dsa_0[0][0])"
   ]
  },
  {
   "cell_type": "code",
   "execution_count": null,
   "id": "8c45b340",
   "metadata": {},
   "outputs": [],
   "source": [
    "import pandas as pd\n",
    "\n",
    "df_evaluate_lsa_0 = pd.DataFrame(np.array(evaluate_lsa_0),columns=[\"loss\",\"accuracy\",\"precision\",\"recall\"])\n",
    "df_evaluate_lsa_1 = pd.DataFrame(np.array(evaluate_lsa_1),columns=[\"loss\",\"accuracy\",\"precision\",\"recall\"])\n",
    "df_evaluate_dsa_0 = pd.DataFrame(np.array(evaluate_dsa_0),columns=[\"loss\",\"accuracy\",\"precision\",\"recall\"])\n",
    "df_evaluate_dsa_1 = pd.DataFrame(np.array(evaluate_dsa_1),columns=[\"loss\",\"accuracy\",\"precision\",\"recall\"])\n",
    "\n",
    "df_evaluate_random_0 = pd.DataFrame(np.array(evaluate_random_0),columns=[\"loss\",\"accuracy\",\"precision\",\"recall\"])\n",
    "df_evaluate_random_1 = pd.DataFrame(np.array(evaluate_random_1),columns=[\"loss\",\"accuracy\",\"precision\",\"recall\"])\n",
    "df_evaluate_nc_0 = pd.DataFrame(np.array(evaluate_nc_0),columns=[\"loss\",\"accuracy\",\"precision\",\"recall\"])\n",
    "df_evaluate_nc_1 = pd.DataFrame(np.array(evaluate_nc_1),columns=[\"loss\",\"accuracy\",\"precision\",\"recall\"])\n"
   ]
  },
  {
   "cell_type": "code",
   "execution_count": null,
   "id": "5fbac3f0",
   "metadata": {},
   "outputs": [],
   "source": [
    "# Original test set + adversarial set\n",
    "\n",
    "metric =\"accuracy\"\n",
    "accuracy_lsa_3 = (np.array(df_evaluate_lsa_0[metric])+np.array(df_evaluate_lsa_1[metric]))/2\n",
    "accuracy_dsa_3 = (np.array(df_evaluate_dsa_0[metric])+np.array(df_evaluate_dsa_1[metric]))/2\n",
    "accuracy_nc_3 = (np.array(df_evaluate_nc_0[metric])+np.array(df_evaluate_nc_1[metric]))/2\n",
    "accuracy_random_3 = (np.array(df_evaluate_random_0[metric])+np.array(df_evaluate_random_1[metric]))/2\n"
   ]
  },
  {
   "cell_type": "markdown",
   "id": "c0edc866",
   "metadata": {},
   "source": [
    "## Charts"
   ]
  },
  {
   "cell_type": "code",
   "execution_count": null,
   "id": "db32b23d",
   "metadata": {},
   "outputs": [],
   "source": [
    "n_inputs = [1800*i for i in range(20)]\n",
    "n_inputs.append(len(x_train_and_adversary))"
   ]
  },
  {
   "cell_type": "code",
   "execution_count": null,
   "id": "0e5d823a",
   "metadata": {},
   "outputs": [],
   "source": [
    "print(n_inputs)"
   ]
  },
  {
   "cell_type": "code",
   "execution_count": null,
   "id": "4feb0d30",
   "metadata": {},
   "outputs": [],
   "source": [
    "cd \"C:/Users/fjdur/Desktop/gtsrb_graphs/e2_graphs_dec/\""
   ]
  },
  {
   "cell_type": "code",
   "execution_count": null,
   "id": "bc3a0bf7",
   "metadata": {},
   "outputs": [],
   "source": [
    "linestyles = ['solid','dotted','dashed','dashdot']\n",
    "colors =['k','k','k','k']"
   ]
  },
  {
   "cell_type": "code",
   "execution_count": null,
   "id": "fde130ed",
   "metadata": {},
   "outputs": [],
   "source": [
    "#configuration 1\n",
    "\"\"\"\n",
    "6) Incremental guided retraining starting from the original model using only the new adversarial inputs.\n",
    "Incremental training, starting with the previous trained model. Using at each iteration a subset of the new inputs.\n",
    "\"\"\"\n",
    "import matplotlib.pyplot as plt\n",
    "import matplotlib.patches as mpatches\n",
    "from matplotlib.patches import Patch\n",
    "from matplotlib.lines import Line2D\n",
    "\n",
    "#metric = \"accuracy\" # accuracy loss\n",
    "my_metrics =[\"accuracy\",\"loss\",\"precision\",\"recall\"]\n",
    "\n",
    "for metric in my_metrics:\n",
    "    plt.clf()\n",
    "    plt.plot(n_inputs,df_evaluate_lsa_0[metric],colors[0],linestyle=linestyles[0])\n",
    "    plt.plot(n_inputs,df_evaluate_dsa_0[metric],colors[1],linestyle=linestyles[1])\n",
    "    plt.plot(n_inputs,df_evaluate_random_0[metric],colors[2],linestyle=linestyles[2])\n",
    "    plt.plot(n_inputs,df_evaluate_nc_0[metric],colors[3],linestyle=linestyles[3])\n",
    "\n",
    "\n",
    "    legend_elements = [Line2D([0], [0], color='k', label='LSA',ls = linestyles[0]),\n",
    "                   Line2D([0], [0], color='k', label='DSA',ls = linestyles[1]),\n",
    "                   Line2D([0], [0], color='k', label='Random',ls = linestyles[2]),\n",
    "                   Line2D([0], [0], color='k', label='NC',ls = linestyles[3])]\n",
    "\n",
    "\n",
    "\n",
    "    plt.legend(handles=legend_elements)#\n",
    "    plt.title(metric + \" with test set of adversarial examples FGSM\")\n",
    "    plt.xlim([0, 37000])\n",
    "    #plt.ylim([0, 1])\n",
    "    plt.xlabel('number of inputs')\n",
    "    plt.ylabel(metric)\n",
    "    plt.savefig(\"gtsrb_c1_\"+metric + \"_0.svg\")\n",
    "    plt.show()"
   ]
  },
  {
   "cell_type": "code",
   "execution_count": null,
   "id": "38563782",
   "metadata": {},
   "outputs": [],
   "source": [
    "#configuration 1\n",
    "\"\"\"\n",
    "6) Incremental guided retraining starting from the original model using only the new adversarial inputs.\n",
    "Incremental training, starting with the previous trained model. Using at each iteration a subset of the new inputs.\n",
    "\"\"\"\n",
    "import matplotlib.pyplot as plt\n",
    "import matplotlib.patches as mpatches\n",
    "\n",
    "my_metrics =[\"accuracy\",\"loss\",\"precision\",\"recall\"]\n",
    "\n",
    "for metric in my_metrics:\n",
    "    \n",
    "#metric = \"accuracy\" # accuracy loss\n",
    "    plt.clf()\n",
    "    plt.plot(n_inputs,df_evaluate_lsa_1[metric],colors[0],linestyle=linestyles[0])\n",
    "    plt.plot(n_inputs,df_evaluate_dsa_1[metric],colors[1],linestyle=linestyles[1])\n",
    "    plt.plot(n_inputs,df_evaluate_random_1[metric],colors[2],linestyle=linestyles[2])\n",
    "    plt.plot(n_inputs,df_evaluate_nc_1[metric],colors[3],linestyle=linestyles[3])\n",
    "\n",
    "    legend_elements = [Line2D([0], [0], color='k', label='LSA',ls = linestyles[0]),\n",
    "                   Line2D([0], [0], color='k', label='DSA',ls = linestyles[1]),\n",
    "                   Line2D([0], [0], color='k', label='Random',ls = linestyles[2]),\n",
    "                   Line2D([0], [0], color='k', label='NC',ls = linestyles[3])]\n",
    "\n",
    "\n",
    "\n",
    "    plt.legend(handles=legend_elements)#\n",
    "    plt.title(metric + \" with original set\")\n",
    "    plt.xlim([0, 37000])\n",
    "    #plt.ylim([0, 1])\n",
    "    plt.xlabel('number of inputs')\n",
    "    plt.ylabel(metric)\n",
    "    plt.savefig(\"gtsrb_c1_\"+metric + \"_1.svg\")\n",
    "    plt.show()"
   ]
  },
  {
   "cell_type": "code",
   "execution_count": null,
   "id": "884a1d99",
   "metadata": {},
   "outputs": [],
   "source": [
    "#adversarial jsma test set\n",
    "#configuration 3\n",
    "\"\"\"\n",
    "6) Incremental guided retraining starting from the original model using only the new adversarial inputs.\n",
    "Incremental training, starting with the previous trained model. Using at each iteration a subset of the new inputs.\n",
    "\"\"\"\n",
    "import matplotlib.pyplot as plt\n",
    "import matplotlib.patches as mpatches\n",
    "\n",
    "plt.plot(n_inputs,accuracy_lsa_3,colors[0],linestyle=linestyles[0])\n",
    "plt.plot(n_inputs,accuracy_dsa_3,colors[1],linestyle=linestyles[1])\n",
    "plt.plot(n_inputs,accuracy_random_3,colors[2],linestyle=linestyles[2])\n",
    "plt.plot(n_inputs,accuracy_nc_3,colors[3],linestyle=linestyles[3])\n",
    "\n",
    "\n",
    "legend_elements = [Line2D([0], [0], color='k', label='LSA',ls = linestyles[0]),\n",
    "                   Line2D([0], [0], color='k', label='DSA',ls = linestyles[1]),\n",
    "                   Line2D([0], [0], color='k', label='Random',ls = linestyles[2]),\n",
    "                   Line2D([0], [0], color='k', label='NC',ls = linestyles[3])]\n",
    "\n",
    "\n",
    "\n",
    "plt.legend(handles=legend_elements)#\n",
    "plt.title(\"accuracy with both sets\")\n",
    "\n",
    "print(n_inputs[np.argmax(accuracy_lsa_3)],accuracy_lsa_3.max())\n",
    "print(n_inputs[np.argmax(accuracy_dsa_3)],accuracy_dsa_3.max())\n",
    "print(n_inputs[np.argmax(accuracy_random_3)],accuracy_random_3.max())\n",
    "print(n_inputs[np.argmax(accuracy_nc_3)],accuracy_nc_3.max())\n",
    "\n",
    "plt.plot(n_inputs[np.argmax(accuracy_lsa_3)],accuracy_lsa_3.max(),'-kD')\n",
    "plt.plot(n_inputs[np.argmax(accuracy_dsa_3)],accuracy_dsa_3.max(),'-ko')\n",
    "plt.plot(n_inputs[np.argmax(accuracy_random_3)],accuracy_random_3.max(),'-kv')\n",
    "plt.plot(n_inputs[np.argmax(accuracy_nc_3)],accuracy_nc_3.max(),'-kp')\n",
    "\n",
    "plt.xlabel('number of inputs')\n",
    "plt.ylabel('accuracy')\n",
    "plt.xlim([0, 37000])\n",
    "#plt.ylim([0, 1])\n",
    "\n",
    "plt.savefig(\"gtsrb_c1_\"+\"accuracy\" + \"_both.svg\")\n",
    "\n",
    "plt.show()"
   ]
  },
  {
   "cell_type": "markdown",
   "id": "02c81771",
   "metadata": {},
   "source": [
    "## Saving models"
   ]
  },
  {
   "cell_type": "code",
   "execution_count": null,
   "id": "ef05a059",
   "metadata": {},
   "outputs": [],
   "source": [
    "new_model_lsa_dir  = \"D:/models/gtsrb_models/C1/gtsrb_model_c1_sep_lsa_e2\"\n",
    "i=0\n",
    "\n",
    "for model in models_lsa:\n",
    "    model.save(new_model_lsa_dir+\"_\"+str(i))\n",
    "    i+=1"
   ]
  },
  {
   "cell_type": "code",
   "execution_count": null,
   "id": "6464778f",
   "metadata": {},
   "outputs": [],
   "source": [
    "new_model_dsa_dir  = \"D:/models/gtsrb_models/C1/gtsrb_model_c1_sep_dsa_e2\"\n",
    "\n",
    "i=0\n",
    "for model in models_dsa:\n",
    "    model.save(new_model_dsa_dir+\"_\"+str(i))\n",
    "    i+=1"
   ]
  },
  {
   "cell_type": "code",
   "execution_count": null,
   "id": "f6406565",
   "metadata": {},
   "outputs": [],
   "source": [
    "new_model_random_dir  = \"D:/models/gtsrb_models/C1/gtsrb_model_c1_sep_random_e2\"\n",
    "\n",
    "i=0\n",
    "for model in models_random:\n",
    "    model.save(new_model_random_dir+\"_\"+str(i))\n",
    "    i+=1"
   ]
  },
  {
   "cell_type": "code",
   "execution_count": null,
   "id": "2c03ee7e",
   "metadata": {},
   "outputs": [],
   "source": [
    "new_model_nc_dir  = \"D:/models/gtsrb_models/C1/gtsrb_model_c1_sep_nc_e2\"\n",
    "\n",
    "i=0\n",
    "for model in models_nc:\n",
    "    model.save(new_model_nc_dir+\"_\"+str(i))\n",
    "    i+=1"
   ]
  }
 ],
 "metadata": {
  "kernelspec": {
   "display_name": "Python 3",
   "language": "python",
   "name": "python3"
  },
  "language_info": {
   "codemirror_mode": {
    "name": "ipython",
    "version": 3
   },
   "file_extension": ".py",
   "mimetype": "text/x-python",
   "name": "python",
   "nbconvert_exporter": "python",
   "pygments_lexer": "ipython3",
   "version": "3.8.8"
  }
 },
 "nbformat": 4,
 "nbformat_minor": 5
}
