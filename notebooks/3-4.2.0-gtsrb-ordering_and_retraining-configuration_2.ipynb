{
 "cells": [
  {
   "cell_type": "markdown",
   "id": "f216e2a2",
   "metadata": {},
   "source": [
    "# Ordering by metrics and retraining phase\n",
    "\n",
    "## Dataset: GTSRB"
   ]
  },
  {
   "cell_type": "markdown",
   "id": "790af13b",
   "metadata": {},
   "source": [
    "## Experiment configuration 1\n"
   ]
  },
  {
   "cell_type": "markdown",
   "id": "21a98552",
   "metadata": {},
   "source": [
    "## Configuration 1\n",
    "\t1. Incremental guided retraining starting from scratch using the new adversarial inputs and original training set"
   ]
  },
  {
   "cell_type": "code",
   "execution_count": null,
   "id": "90383afd",
   "metadata": {},
   "outputs": [],
   "source": [
    "pip install --user tensorflow==2.5"
   ]
  },
  {
   "cell_type": "code",
   "execution_count": 1,
   "id": "ce1386e9",
   "metadata": {},
   "outputs": [],
   "source": [
    "import argparse\n",
    "\n",
    "import numpy as np\n",
    "import tensorflow as tf\n",
    "import keras.backend as K\n",
    "\n",
    "import matplotlib.pyplot as plt\n",
    "\n",
    "from keras.utils import np_utils\n",
    "from keras.models import Sequential\n",
    "from keras.layers import Dense, Dropout, Activation, Flatten, Conv2D, MaxPooling2D\n",
    "from keras.regularizers import l2\n",
    "\n",
    "import glob\n",
    "import os\n",
    "import cv2\n",
    "import keras\n",
    "\n",
    "\n",
    "import time\n",
    "import argparse\n",
    "\n",
    "from tqdm import tqdm\n",
    "\n",
    "from keras.models import load_model, Model\n"
   ]
  },
  {
   "cell_type": "code",
   "execution_count": 2,
   "id": "aa0aa2b2",
   "metadata": {},
   "outputs": [
    {
     "data": {
      "text/plain": [
       "True"
      ]
     },
     "execution_count": 2,
     "metadata": {},
     "output_type": "execute_result"
    }
   ],
   "source": [
    "tf.__version__ == '2.5.0' # Version of tensorflow"
   ]
  },
  {
   "cell_type": "code",
   "execution_count": 3,
   "id": "fa923a43",
   "metadata": {},
   "outputs": [
    {
     "name": "stdout",
     "output_type": "stream",
     "text": [
      "C:\\Users\\fjdur\\Documents\\utils\n"
     ]
    }
   ],
   "source": [
    "cd C:/Users/fjdur/Documents/utils/"
   ]
  },
  {
   "cell_type": "code",
   "execution_count": 4,
   "id": "723735cb",
   "metadata": {},
   "outputs": [
    {
     "name": "stdout",
     "output_type": "stream",
     "text": [
      "2.5.0\n",
      "keras\n",
      "2.5.0\n"
     ]
    }
   ],
   "source": [
    "# utils for project\n",
    "import utils_guided_retraining as utils"
   ]
  },
  {
   "cell_type": "code",
   "execution_count": 5,
   "id": "1c6a307c",
   "metadata": {},
   "outputs": [],
   "source": [
    "#cd '../notebooks/'"
   ]
  },
  {
   "cell_type": "code",
   "execution_count": 6,
   "id": "de1bd2cb",
   "metadata": {},
   "outputs": [],
   "source": [
    "dataset = \"gtsrb\""
   ]
  },
  {
   "cell_type": "code",
   "execution_count": 7,
   "id": "50c2b3f3",
   "metadata": {},
   "outputs": [],
   "source": [
    "x_train,y_train = utils.get_data(dataset,\"Train\")\n",
    "x_val,y_val = utils.get_data(dataset,\"Val\")\n",
    "x_test,y_test = utils.get_data(dataset,\"Test\")"
   ]
  },
  {
   "cell_type": "code",
   "execution_count": 8,
   "id": "e6f6f8a7",
   "metadata": {},
   "outputs": [],
   "source": [
    "x_train_and_adversary,y_train_and_adversary = utils.get_data(dataset,\"Train_and_adversary\")"
   ]
  },
  {
   "cell_type": "code",
   "execution_count": 9,
   "id": "53dcdf78",
   "metadata": {},
   "outputs": [
    {
     "name": "stdout",
     "output_type": "stream",
     "text": [
      "3921\n",
      "3921\n"
     ]
    }
   ],
   "source": [
    "x_adversary_training = x_train_and_adversary[len(x_train):]\n",
    "print(len(x_adversary_training))\n",
    "y_adversary_training = y_train_and_adversary[len(y_train):]\n",
    "\n",
    "print(len(y_adversary_training))"
   ]
  },
  {
   "cell_type": "code",
   "execution_count": 10,
   "id": "d8fd2c92",
   "metadata": {},
   "outputs": [],
   "source": [
    "# Obtaining adversarial examples for testing \n",
    "x_test_and_adversary,y_test_and_adversary = utils.get_adversarial_data(dataset,'Test_adversarial') "
   ]
  },
  {
   "cell_type": "code",
   "execution_count": 11,
   "id": "c27698e5",
   "metadata": {},
   "outputs": [
    {
     "name": "stdout",
     "output_type": "stream",
     "text": [
      "3921\n",
      "3921\n"
     ]
    }
   ],
   "source": [
    "x_adversary_test_fgsm = x_test_and_adversary[len(x_test):]\n",
    "print(len(x_adversary_test_fgsm))\n",
    "y_adversary_test_fgsm = y_test_and_adversary[len(y_test):]\n",
    "\n",
    "print(len(y_adversary_test_fgsm))"
   ]
  },
  {
   "cell_type": "markdown",
   "id": "becb4e3b",
   "metadata": {},
   "source": [
    "## ----"
   ]
  },
  {
   "cell_type": "code",
   "execution_count": 12,
   "id": "c1560941",
   "metadata": {},
   "outputs": [],
   "source": [
    "# Original model \n",
    "model_dir = \"C:/Users/fjdur/Documents/upc-july/models/tf_model_25-06/\"\n"
   ]
  },
  {
   "cell_type": "code",
   "execution_count": 13,
   "id": "e5478616",
   "metadata": {},
   "outputs": [
    {
     "name": "stdout",
     "output_type": "stream",
     "text": [
      "Model loaded correctly\n"
     ]
    }
   ],
   "source": [
    "model_original = utils.My_model(dataset,True, model_dir)"
   ]
  },
  {
   "cell_type": "code",
   "execution_count": 14,
   "id": "12a250f4",
   "metadata": {},
   "outputs": [],
   "source": [
    "n_data_points = 1750\n"
   ]
  },
  {
   "cell_type": "code",
   "execution_count": 15,
   "id": "40ca41fe",
   "metadata": {},
   "outputs": [],
   "source": [
    "import gc"
   ]
  },
  {
   "cell_type": "code",
   "execution_count": 14,
   "id": "a81f5589",
   "metadata": {},
   "outputs": [],
   "source": [
    "lsa_direction = \"C:/Users/fjdur/Documents/upc-july/data/\"+dataset+\"/lsa_values.npy\"\n",
    "dsa_direction = \"C:/Users/fjdur/Documents/upc-july/data/\"+dataset+\"/dsa_values.npy\""
   ]
  },
  {
   "cell_type": "markdown",
   "id": "78edd1c7",
   "metadata": {},
   "source": [
    "## Loading LSA and DSA values "
   ]
  },
  {
   "cell_type": "code",
   "execution_count": null,
   "id": "dd62896d",
   "metadata": {},
   "outputs": [],
   "source": []
  },
  {
   "cell_type": "code",
   "execution_count": 16,
   "id": "cbe684c7",
   "metadata": {},
   "outputs": [],
   "source": [
    "lsa_values = np.load(lsa_direction)\n"
   ]
  },
  {
   "cell_type": "code",
   "execution_count": 17,
   "id": "8e725932",
   "metadata": {},
   "outputs": [],
   "source": [
    "dsa_values = np.load(dsa_direction)"
   ]
  },
  {
   "cell_type": "code",
   "execution_count": 18,
   "id": "c0ec186e",
   "metadata": {},
   "outputs": [],
   "source": [
    "\n",
    "# Obtaining top n images by LSA values\n",
    "top_images_by_lsa = utils.get_x_of_indexes(list(np.flip(np.argsort(lsa_values))),x_train_and_adversary)\n",
    "top_labels_by_lsa = utils.get_x_of_indexes(list(np.flip(np.argsort(lsa_values))),y_train_and_adversary)\n"
   ]
  },
  {
   "cell_type": "code",
   "execution_count": 19,
   "id": "4a3451bf",
   "metadata": {},
   "outputs": [],
   "source": [
    "\n",
    "top_images_by_dsa = utils.get_x_of_indexes(list(np.flip(np.argsort(dsa_values))),x_train_and_adversary)\n",
    "top_labels_by_dsa = utils.get_x_of_indexes(list(np.flip(np.argsort(dsa_values))),y_train_and_adversary)\n"
   ]
  },
  {
   "cell_type": "code",
   "execution_count": null,
   "id": "677d3bad",
   "metadata": {},
   "outputs": [],
   "source": []
  },
  {
   "cell_type": "code",
   "execution_count": 20,
   "id": "4b1edf1f",
   "metadata": {},
   "outputs": [
    {
     "name": "stdout",
     "output_type": "stream",
     "text": [
      "(35287, 48, 48, 1)\n"
     ]
    },
    {
     "data": {
      "text/plain": [
       "1764"
      ]
     },
     "execution_count": 20,
     "metadata": {},
     "output_type": "execute_result"
    }
   ],
   "source": [
    "print(x_train_and_adversary.shape)\n",
    "len(top_images_by_lsa)//20"
   ]
  },
  {
   "cell_type": "code",
   "execution_count": null,
   "id": "037f9ba1",
   "metadata": {},
   "outputs": [],
   "source": []
  },
  {
   "cell_type": "code",
   "execution_count": 21,
   "id": "262a4841",
   "metadata": {},
   "outputs": [
    {
     "name": "stdout",
     "output_type": "stream",
     "text": [
      "0 :\n",
      "0  ->  1750\n",
      "1750\n",
      "1 :\n",
      "0  ->  3500\n",
      "3500\n",
      "2 :\n",
      "0  ->  5250\n",
      "5250\n",
      "3 :\n",
      "0  ->  7000\n",
      "7000\n",
      "4 :\n",
      "0  ->  8750\n",
      "8750\n",
      "5 :\n",
      "0  ->  10500\n",
      "10500\n",
      "6 :\n",
      "0  ->  12250\n",
      "12250\n",
      "7 :\n",
      "0  ->  14000\n",
      "14000\n",
      "8 :\n",
      "0  ->  15750\n",
      "15750\n",
      "9 :\n",
      "0  ->  17500\n",
      "17500\n",
      "10 :\n",
      "0  ->  19250\n",
      "19250\n",
      "11 :\n",
      "0  ->  21000\n",
      "21000\n",
      "12 :\n",
      "0  ->  22750\n",
      "22750\n",
      "13 :\n",
      "0  ->  24500\n",
      "24500\n",
      "14 :\n",
      "0  ->  26250\n",
      "26250\n",
      "15 :\n",
      "0  ->  28000\n",
      "28000\n",
      "16 :\n",
      "0  ->  29750\n",
      "29750\n",
      "17 :\n",
      "0  ->  31500\n",
      "31500\n",
      "18 :\n",
      "0  ->  33250\n",
      "33250\n",
      "19 :\n",
      "0  ->  35000\n",
      "35000\n",
      "20 :\n",
      "Last\n",
      "0  ->  37037\n",
      "35287\n"
     ]
    }
   ],
   "source": [
    "m = 1750 \n",
    "n = 0\n",
    "image_sets_lsa = []\n",
    "label_sets_lsa = []\n",
    "\n",
    "# last\n",
    "#for i in range(0,len(top_images_by_lsa)//m):\n",
    "\n",
    "for i in range((len(top_images_by_lsa)//m)+1):\n",
    "    print(i,\":\")\n",
    "    if (i+1 >= ((len(top_images_by_lsa)//m)+1)):\n",
    "        print(\"Last\")\n",
    "        print(0,\" -> \",n+m+(len(top_images_by_lsa)%m))\n",
    "        top_images_by_lsa_n = np.array(top_images_by_lsa[:n+m+(len(top_images_by_lsa)%m)])\n",
    "        top_labels_by_lsa_n = np.array(top_labels_by_lsa[:n+m+(len(top_images_by_lsa)%m)])\n",
    "    else:\n",
    "        print(0,\" -> \",m+n)\n",
    "        top_images_by_lsa_n = np.array(top_images_by_lsa[:n+m])\n",
    "        top_labels_by_lsa_n = np.array(top_labels_by_lsa[:n+m])\n",
    "    image_sets_lsa.append(top_images_by_lsa_n)\n",
    "    label_sets_lsa.append(top_labels_by_lsa_n)\n",
    "    print(len(top_images_by_lsa_n))\n",
    "    n += m"
   ]
  },
  {
   "cell_type": "code",
   "execution_count": 24,
   "id": "6964de31",
   "metadata": {},
   "outputs": [
    {
     "data": {
      "text/plain": [
       "35287"
      ]
     },
     "execution_count": 24,
     "metadata": {},
     "output_type": "execute_result"
    }
   ],
   "source": [
    "len(image_sets_lsa[-1])"
   ]
  },
  {
   "cell_type": "code",
   "execution_count": 22,
   "id": "3bc51573",
   "metadata": {
    "scrolled": true
   },
   "outputs": [
    {
     "name": "stdout",
     "output_type": "stream",
     "text": [
      "0 :\n",
      "0  ->  1750\n",
      "1750\n",
      "1 :\n",
      "0  ->  3500\n",
      "3500\n",
      "2 :\n",
      "0  ->  5250\n",
      "5250\n",
      "3 :\n",
      "0  ->  7000\n",
      "7000\n",
      "4 :\n",
      "0  ->  8750\n",
      "8750\n",
      "5 :\n",
      "0  ->  10500\n",
      "10500\n",
      "6 :\n",
      "0  ->  12250\n",
      "12250\n",
      "7 :\n",
      "0  ->  14000\n",
      "14000\n",
      "8 :\n",
      "0  ->  15750\n",
      "15750\n",
      "9 :\n",
      "0  ->  17500\n",
      "17500\n",
      "10 :\n",
      "0  ->  19250\n",
      "19250\n",
      "11 :\n",
      "0  ->  21000\n",
      "21000\n",
      "12 :\n",
      "0  ->  22750\n",
      "22750\n",
      "13 :\n",
      "0  ->  24500\n",
      "24500\n",
      "14 :\n",
      "0  ->  26250\n",
      "26250\n",
      "15 :\n",
      "0  ->  28000\n",
      "28000\n",
      "16 :\n",
      "0  ->  29750\n",
      "29750\n",
      "17 :\n",
      "0  ->  31500\n",
      "31500\n",
      "18 :\n",
      "0  ->  33250\n",
      "33250\n",
      "19 :\n",
      "Last\n",
      "0  ->  35287\n",
      "35287\n",
      "20  total sets\n"
     ]
    }
   ],
   "source": [
    "m = 1750\n",
    "n = 0\n",
    "image_sets_lsa = []\n",
    "label_sets_lsa = []\n",
    "\n",
    "\n",
    "for i in range(len(top_images_by_lsa)//m):\n",
    "    print(i,\":\")\n",
    "    if (i+1 >= len(top_images_by_lsa)//m):\n",
    "        print(\"Last\")\n",
    "        print(0,\" -> \",n+m+(len(top_images_by_lsa)%m))\n",
    "        top_images_by_lsa_n = np.array(top_images_by_lsa[:n+m+(len(top_images_by_lsa)%m)])\n",
    "        top_labels_by_lsa_n = np.array(top_labels_by_lsa[:n+m+(len(top_images_by_lsa)%m)])\n",
    "    else:\n",
    "        print(0,\" -> \",m+n)\n",
    "        top_images_by_lsa_n = np.array(top_images_by_lsa[:n+m])\n",
    "        top_labels_by_lsa_n = np.array(top_labels_by_lsa[:n+m])\n",
    "    image_sets_lsa.append(top_images_by_lsa_n)\n",
    "    label_sets_lsa.append(top_labels_by_lsa_n)\n",
    "    print(len(top_images_by_lsa_n))\n",
    "    n += m\n",
    "\n",
    "print(len(image_sets_lsa),\" total sets\")"
   ]
  },
  {
   "cell_type": "markdown",
   "id": "ed06a68e",
   "metadata": {},
   "source": [
    "## Training guided by LSA"
   ]
  },
  {
   "cell_type": "code",
   "execution_count": 22,
   "id": "bc2a7dd2",
   "metadata": {},
   "outputs": [
    {
     "data": {
      "text/plain": [
       "21"
      ]
     },
     "execution_count": 22,
     "metadata": {},
     "output_type": "execute_result"
    }
   ],
   "source": [
    "len(label_sets_lsa)"
   ]
  },
  {
   "cell_type": "code",
   "execution_count": 23,
   "id": "daef1b47",
   "metadata": {},
   "outputs": [
    {
     "name": "stdout",
     "output_type": "stream",
     "text": [
      "C:/Users/fjdur/Documents/upc-july/models/tf_model_25-06/\n",
      "0 :\n",
      "Model loaded correctly\n",
      "Model compiled\n",
      "1 :\n",
      "Model loaded correctly\n",
      "Model compiled\n",
      "2 :\n",
      "Model loaded correctly\n",
      "Model compiled\n",
      "3 :\n",
      "Model loaded correctly\n",
      "Model compiled\n",
      "4 :\n",
      "Model loaded correctly\n",
      "Model compiled\n",
      "5 :\n",
      "Model loaded correctly\n",
      "Model compiled\n",
      "6 :\n",
      "Model loaded correctly\n",
      "Model compiled\n",
      "7 :\n",
      "Model loaded correctly\n",
      "Model compiled\n",
      "8 :\n",
      "Model loaded correctly\n",
      "Model compiled\n",
      "9 :\n",
      "Model loaded correctly\n",
      "Model compiled\n",
      "10 :\n",
      "Model loaded correctly\n",
      "Model compiled\n",
      "11 :\n",
      "Model loaded correctly\n",
      "Model compiled\n",
      "12 :\n",
      "Model loaded correctly\n",
      "Model compiled\n",
      "13 :\n",
      "Model loaded correctly\n",
      "Model compiled\n",
      "14 :\n",
      "Model loaded correctly\n",
      "Model compiled\n",
      "15 :\n",
      "Model loaded correctly\n",
      "Model compiled\n",
      "16 :\n",
      "Model loaded correctly\n",
      "Model compiled\n",
      "17 :\n",
      "Model loaded correctly\n",
      "Model compiled\n",
      "18 :\n",
      "Model loaded correctly\n",
      "Model compiled\n",
      "19 :\n",
      "Model loaded correctly\n",
      "Model compiled\n",
      "20 :\n",
      "Model loaded correctly\n",
      "Model compiled\n"
     ]
    }
   ],
   "source": [
    "print(model_dir)\n",
    "\n",
    "models_lsa = []\n",
    "for i in range(len(label_sets_lsa)):\n",
    "    print(i,\":\")\n",
    "    model = utils.My_model(dataset,True,model_dir)\n",
    "    model.compile_model()\n",
    "    models_lsa.append(model)\n"
   ]
  },
  {
   "cell_type": "code",
   "execution_count": 24,
   "id": "3665e51c",
   "metadata": {},
   "outputs": [
    {
     "name": "stdout",
     "output_type": "stream",
     "text": [
      "Epoch 1/10\n",
      "28/28 [==============================] - 75s 880ms/step - loss: 2.0385 - accuracy: 0.5040 - val_loss: 0.0987 - val_accuracy: 0.9816\n",
      "Epoch 2/10\n",
      "28/28 [==============================] - 22s 787ms/step - loss: 1.2656 - accuracy: 0.6469 - val_loss: 0.1927 - val_accuracy: 0.9712\n",
      "Epoch 3/10\n",
      "28/28 [==============================] - 22s 797ms/step - loss: 1.0187 - accuracy: 0.7009 - val_loss: 0.0976 - val_accuracy: 0.9755\n",
      "Epoch 4/10\n",
      "28/28 [==============================] - 23s 848ms/step - loss: 0.8468 - accuracy: 0.7524 - val_loss: 0.1290 - val_accuracy: 0.9701\n",
      "Epoch 5/10\n",
      "28/28 [==============================] - 17s 595ms/step - loss: 0.7409 - accuracy: 0.7888 - val_loss: 0.1589 - val_accuracy: 0.9548\n",
      "Epoch 6/10\n",
      "28/28 [==============================] - 17s 630ms/step - loss: 0.6606 - accuracy: 0.8026 - val_loss: 0.1175 - val_accuracy: 0.9635\n",
      "Epoch 7/10\n",
      "28/28 [==============================] - 17s 621ms/step - loss: 0.6041 - accuracy: 0.8308 - val_loss: 0.1376 - val_accuracy: 0.9625\n",
      "Epoch 8/10\n",
      "28/28 [==============================] - 16s 576ms/step - loss: 0.5450 - accuracy: 0.8342 - val_loss: 0.1858 - val_accuracy: 0.9431\n",
      "Epoch 9/10\n",
      "28/28 [==============================] - 16s 591ms/step - loss: 0.5212 - accuracy: 0.8475 - val_loss: 0.1608 - val_accuracy: 0.9559\n",
      "Epoch 10/10\n",
      "28/28 [==============================] - 16s 589ms/step - loss: 0.4549 - accuracy: 0.8647 - val_loss: 0.1028 - val_accuracy: 0.9709\n",
      "Duration: 0:04:03.280706\n"
     ]
    }
   ],
   "source": [
    "n = 0\n",
    "models_lsa[n].fit_model(image_sets_lsa[n],label_sets_lsa[n],x_val,y_val)\n",
    "n=n+1"
   ]
  },
  {
   "cell_type": "code",
   "execution_count": 25,
   "id": "c2f79099",
   "metadata": {},
   "outputs": [
    {
     "name": "stdout",
     "output_type": "stream",
     "text": [
      "Epoch 1/10\n",
      "55/55 [==============================] - 31s 499ms/step - loss: 1.1640 - accuracy: 0.7321 - val_loss: 0.0923 - val_accuracy: 0.9834\n",
      "Epoch 2/10\n",
      "55/55 [==============================] - 27s 492ms/step - loss: 0.6705 - accuracy: 0.8111 - val_loss: 0.0893 - val_accuracy: 0.9722\n",
      "Epoch 3/10\n",
      "55/55 [==============================] - 29s 529ms/step - loss: 0.5537 - accuracy: 0.8434 - val_loss: 0.1042 - val_accuracy: 0.9737\n",
      "Epoch 4/10\n",
      "55/55 [==============================] - 26s 471ms/step - loss: 0.4487 - accuracy: 0.8729 - val_loss: 0.1438 - val_accuracy: 0.9643\n",
      "Epoch 5/10\n",
      "55/55 [==============================] - 26s 482ms/step - loss: 0.3669 - accuracy: 0.8991 - val_loss: 0.0650 - val_accuracy: 0.9816\n",
      "Epoch 6/10\n",
      "55/55 [==============================] - 29s 529ms/step - loss: 0.3717 - accuracy: 0.8897 - val_loss: 0.0937 - val_accuracy: 0.9727\n",
      "Epoch 7/10\n",
      "55/55 [==============================] - 28s 518ms/step - loss: 0.2959 - accuracy: 0.9178 - val_loss: 0.1493 - val_accuracy: 0.9584\n",
      "Epoch 8/10\n",
      "55/55 [==============================] - 27s 493ms/step - loss: 0.2843 - accuracy: 0.9168 - val_loss: 0.1896 - val_accuracy: 0.9551\n",
      "Epoch 9/10\n",
      "55/55 [==============================] - 25s 461ms/step - loss: 0.2619 - accuracy: 0.9250 - val_loss: 0.1260 - val_accuracy: 0.9684\n",
      "Epoch 10/10\n",
      "55/55 [==============================] - 25s 463ms/step - loss: 0.2358 - accuracy: 0.9332 - val_loss: 0.1041 - val_accuracy: 0.9709\n",
      "Duration: 0:04:34.110448\n"
     ]
    }
   ],
   "source": [
    "n=1\n",
    "models_lsa[n].fit_model(image_sets_lsa[n],label_sets_lsa[n],x_val,y_val)\n",
    "n = n+1"
   ]
  },
  {
   "cell_type": "code",
   "execution_count": 26,
   "id": "d9f7fa66",
   "metadata": {},
   "outputs": [
    {
     "name": "stdout",
     "output_type": "stream",
     "text": [
      "2\n",
      "Epoch 1/10\n",
      "83/83 [==============================] - 39s 434ms/step - loss: 0.7418 - accuracy: 0.8188 - val_loss: 0.1315 - val_accuracy: 0.9678\n",
      "Epoch 2/10\n",
      "83/83 [==============================] - 36s 437ms/step - loss: 0.4966 - accuracy: 0.8663 - val_loss: 0.0974 - val_accuracy: 0.9727\n",
      "Epoch 3/10\n",
      "83/83 [==============================] - 37s 442ms/step - loss: 0.3719 - accuracy: 0.8940 - val_loss: 0.1039 - val_accuracy: 0.9742\n",
      "Epoch 4/10\n",
      "83/83 [==============================] - 37s 445ms/step - loss: 0.3057 - accuracy: 0.9138 - val_loss: 0.1060 - val_accuracy: 0.9740\n",
      "Epoch 5/10\n",
      "83/83 [==============================] - 37s 449ms/step - loss: 0.2678 - accuracy: 0.9183 - val_loss: 0.0968 - val_accuracy: 0.9758\n",
      "Epoch 6/10\n",
      "83/83 [==============================] - 38s 458ms/step - loss: 0.2629 - accuracy: 0.9247 - val_loss: 0.2320 - val_accuracy: 0.9469\n",
      "Epoch 7/10\n",
      "83/83 [==============================] - 38s 463ms/step - loss: 0.2417 - accuracy: 0.9314 - val_loss: 0.1569 - val_accuracy: 0.9594\n",
      "Epoch 8/10\n",
      "83/83 [==============================] - 39s 472ms/step - loss: 0.2278 - accuracy: 0.9373 - val_loss: 0.1198 - val_accuracy: 0.9691\n",
      "Epoch 9/10\n",
      "83/83 [==============================] - 40s 481ms/step - loss: 0.1705 - accuracy: 0.9529 - val_loss: 0.1534 - val_accuracy: 0.9735\n",
      "Epoch 10/10\n",
      "83/83 [==============================] - 40s 485ms/step - loss: 0.1759 - accuracy: 0.9528 - val_loss: 0.1405 - val_accuracy: 0.9678\n",
      "Duration: 0:06:21.252696\n"
     ]
    }
   ],
   "source": [
    "print(n)\n",
    "models_lsa[n].fit_model(image_sets_lsa[n],label_sets_lsa[n],x_val,y_val)\n",
    "n = n+1"
   ]
  },
  {
   "cell_type": "code",
   "execution_count": 27,
   "id": "a4586fc7",
   "metadata": {},
   "outputs": [
    {
     "name": "stdout",
     "output_type": "stream",
     "text": [
      "3\n",
      "Epoch 1/10\n",
      "110/110 [==============================] - 55s 474ms/step - loss: 0.6034 - accuracy: 0.8577 - val_loss: 0.0938 - val_accuracy: 0.9778\n",
      "Epoch 2/10\n",
      "110/110 [==============================] - 58s 526ms/step - loss: 0.3751 - accuracy: 0.9001 - val_loss: 0.0755 - val_accuracy: 0.9788\n",
      "Epoch 3/10\n",
      "110/110 [==============================] - 53s 485ms/step - loss: 0.2963 - accuracy: 0.9176 - val_loss: 0.0899 - val_accuracy: 0.9752\n",
      "Epoch 4/10\n",
      "110/110 [==============================] - 52s 472ms/step - loss: 0.2697 - accuracy: 0.9246 - val_loss: 0.0951 - val_accuracy: 0.9742\n",
      "Epoch 5/10\n",
      "110/110 [==============================] - 58s 524ms/step - loss: 0.2247 - accuracy: 0.9363 - val_loss: 0.0936 - val_accuracy: 0.9755\n",
      "Epoch 6/10\n",
      "110/110 [==============================] - 55s 496ms/step - loss: 0.1947 - accuracy: 0.9431 - val_loss: 0.0770 - val_accuracy: 0.9770\n",
      "Epoch 7/10\n",
      "110/110 [==============================] - 56s 505ms/step - loss: 0.1884 - accuracy: 0.9414 - val_loss: 0.0996 - val_accuracy: 0.9719\n",
      "Epoch 8/10\n",
      "110/110 [==============================] - 52s 476ms/step - loss: 0.1895 - accuracy: 0.9487 - val_loss: 0.0711 - val_accuracy: 0.9791\n",
      "Epoch 9/10\n",
      "110/110 [==============================] - 52s 476ms/step - loss: 0.1579 - accuracy: 0.9501 - val_loss: 0.0800 - val_accuracy: 0.9778\n",
      "Epoch 10/10\n",
      "110/110 [==============================] - 52s 471ms/step - loss: 0.1517 - accuracy: 0.9553 - val_loss: 0.1328 - val_accuracy: 0.9694\n",
      "Duration: 0:09:02.017340\n"
     ]
    }
   ],
   "source": [
    "print(n)\n",
    "models_lsa[n].fit_model(image_sets_lsa[n],label_sets_lsa[n],x_val,y_val)\n",
    "n = n+1"
   ]
  },
  {
   "cell_type": "code",
   "execution_count": 28,
   "id": "681edfc1",
   "metadata": {},
   "outputs": [
    {
     "name": "stdout",
     "output_type": "stream",
     "text": [
      "4\n",
      "Epoch 1/10\n",
      "137/137 [==============================] - 66s 464ms/step - loss: 0.5064 - accuracy: 0.8709 - val_loss: 0.0562 - val_accuracy: 0.9870\n",
      "Epoch 2/10\n",
      "137/137 [==============================] - 63s 460ms/step - loss: 0.3342 - accuracy: 0.9092 - val_loss: 0.0735 - val_accuracy: 0.9837\n",
      "Epoch 3/10\n",
      "137/137 [==============================] - 63s 463ms/step - loss: 0.2687 - accuracy: 0.9261 - val_loss: 0.1000 - val_accuracy: 0.9691\n",
      "Epoch 4/10\n",
      "137/137 [==============================] - 69s 504ms/step - loss: 0.2102 - accuracy: 0.9413 - val_loss: 0.0616 - val_accuracy: 0.9821\n",
      "Epoch 5/10\n",
      "137/137 [==============================] - 69s 503ms/step - loss: 0.1974 - accuracy: 0.9428 - val_loss: 0.0914 - val_accuracy: 0.9747\n",
      "Epoch 6/10\n",
      "137/137 [==============================] - 69s 504ms/step - loss: 0.1808 - accuracy: 0.9489 - val_loss: 0.0824 - val_accuracy: 0.9778\n",
      "Epoch 7/10\n",
      "137/137 [==============================] - 69s 502ms/step - loss: 0.1612 - accuracy: 0.9521 - val_loss: 0.0996 - val_accuracy: 0.9735\n",
      "Epoch 8/10\n",
      "137/137 [==============================] - 69s 503ms/step - loss: 0.1549 - accuracy: 0.9585 - val_loss: 0.1570 - val_accuracy: 0.9607\n",
      "Epoch 9/10\n",
      "137/137 [==============================] - 69s 501ms/step - loss: 0.1470 - accuracy: 0.9607 - val_loss: 0.0856 - val_accuracy: 0.9786\n",
      "Epoch 10/10\n",
      "137/137 [==============================] - 69s 503ms/step - loss: 0.1375 - accuracy: 0.9616 - val_loss: 0.2319 - val_accuracy: 0.9467\n",
      "Duration: 0:11:14.856211\n"
     ]
    }
   ],
   "source": [
    "print(n) #4\n",
    "models_lsa[n].fit_model(image_sets_lsa[n],label_sets_lsa[n],x_val,y_val)\n",
    "n = n+1"
   ]
  },
  {
   "cell_type": "code",
   "execution_count": 29,
   "id": "d6645eca",
   "metadata": {},
   "outputs": [
    {
     "name": "stdout",
     "output_type": "stream",
     "text": [
      "5\n",
      "Epoch 1/10\n",
      "165/165 [==============================] - 85s 493ms/step - loss: 0.4530 - accuracy: 0.8944 - val_loss: 0.0340 - val_accuracy: 0.9921\n",
      "Epoch 2/10\n",
      "165/165 [==============================] - 82s 498ms/step - loss: 0.2641 - accuracy: 0.9265 - val_loss: 0.1003 - val_accuracy: 0.9791\n",
      "Epoch 3/10\n",
      "165/165 [==============================] - 82s 497ms/step - loss: 0.2134 - accuracy: 0.9403 - val_loss: 0.0602 - val_accuracy: 0.9844\n",
      "Epoch 4/10\n",
      "165/165 [==============================] - 82s 499ms/step - loss: 0.1968 - accuracy: 0.9467 - val_loss: 0.1064 - val_accuracy: 0.9735\n",
      "Epoch 5/10\n",
      "165/165 [==============================] - 81s 492ms/step - loss: 0.1799 - accuracy: 0.9500 - val_loss: 0.1061 - val_accuracy: 0.9691\n",
      "Epoch 6/10\n",
      "165/165 [==============================] - 82s 499ms/step - loss: 0.1573 - accuracy: 0.9571 - val_loss: 0.0637 - val_accuracy: 0.9844\n",
      "Epoch 7/10\n",
      "165/165 [==============================] - 82s 496ms/step - loss: 0.1481 - accuracy: 0.9581 - val_loss: 0.2386 - val_accuracy: 0.9234\n",
      "Epoch 8/10\n",
      "165/165 [==============================] - 81s 493ms/step - loss: 0.1345 - accuracy: 0.9635 - val_loss: 0.1084 - val_accuracy: 0.9821\n",
      "Epoch 9/10\n",
      "165/165 [==============================] - 81s 493ms/step - loss: 0.1324 - accuracy: 0.9622 - val_loss: 0.1341 - val_accuracy: 0.9719\n",
      "Epoch 10/10\n",
      "165/165 [==============================] - 82s 494ms/step - loss: 0.1349 - accuracy: 0.9687 - val_loss: 0.2961 - val_accuracy: 0.9301\n",
      "Duration: 0:13:41.416677\n"
     ]
    }
   ],
   "source": [
    "n=5\n",
    "print(n)\n",
    "models_lsa[n].fit_model(image_sets_lsa[n],label_sets_lsa[n],x_val,y_val)\n",
    "n = n+1"
   ]
  },
  {
   "cell_type": "code",
   "execution_count": 30,
   "id": "bd1521fb",
   "metadata": {},
   "outputs": [
    {
     "name": "stdout",
     "output_type": "stream",
     "text": [
      "6\n",
      "Epoch 1/10\n",
      "192/192 [==============================] - 98s 492ms/step - loss: 0.3784 - accuracy: 0.9062 - val_loss: 0.0596 - val_accuracy: 0.9872\n",
      "Epoch 2/10\n",
      "192/192 [==============================] - 94s 488ms/step - loss: 0.2303 - accuracy: 0.9374 - val_loss: 0.0603 - val_accuracy: 0.9855\n",
      "Epoch 3/10\n",
      "192/192 [==============================] - 94s 490ms/step - loss: 0.2152 - accuracy: 0.9398 - val_loss: 0.0824 - val_accuracy: 0.9786\n",
      "Epoch 4/10\n",
      "192/192 [==============================] - 94s 491ms/step - loss: 0.1978 - accuracy: 0.9499 - val_loss: 0.1259 - val_accuracy: 0.9699\n",
      "Epoch 5/10\n",
      "192/192 [==============================] - 94s 490ms/step - loss: 0.1652 - accuracy: 0.9569 - val_loss: 0.0903 - val_accuracy: 0.9775\n",
      "Epoch 6/10\n",
      "192/192 [==============================] - 96s 502ms/step - loss: 0.1476 - accuracy: 0.9618 - val_loss: 0.0891 - val_accuracy: 0.9770\n",
      "Epoch 7/10\n",
      "192/192 [==============================] - 95s 496ms/step - loss: 0.1402 - accuracy: 0.9606 - val_loss: 0.0742 - val_accuracy: 0.9837\n",
      "Epoch 8/10\n",
      "192/192 [==============================] - 94s 488ms/step - loss: 0.1458 - accuracy: 0.9610 - val_loss: 0.1478 - val_accuracy: 0.9579\n",
      "Epoch 9/10\n",
      "192/192 [==============================] - 98s 510ms/step - loss: 0.1303 - accuracy: 0.9663 - val_loss: 0.2081 - val_accuracy: 0.9426\n",
      "Epoch 10/10\n",
      "192/192 [==============================] - 99s 512ms/step - loss: 0.1258 - accuracy: 0.9664 - val_loss: 0.1016 - val_accuracy: 0.9750\n",
      "Duration: 0:15:55.638931\n"
     ]
    }
   ],
   "source": [
    "print(n)\n",
    "models_lsa[n].fit_model(image_sets_lsa[n],label_sets_lsa[n],x_val,y_val)\n",
    "n = n+1"
   ]
  },
  {
   "cell_type": "code",
   "execution_count": 31,
   "id": "ec3ff3ad",
   "metadata": {},
   "outputs": [
    {
     "name": "stdout",
     "output_type": "stream",
     "text": [
      "7\n",
      "Epoch 1/10\n",
      "219/219 [==============================] - 112s 494ms/step - loss: 0.3393 - accuracy: 0.9165 - val_loss: 0.1129 - val_accuracy: 0.9852\n",
      "Epoch 2/10\n",
      "219/219 [==============================] - 107s 490ms/step - loss: 0.2203 - accuracy: 0.9416 - val_loss: 0.0513 - val_accuracy: 0.9880\n",
      "Epoch 3/10\n",
      "219/219 [==============================] - 106s 486ms/step - loss: 0.1919 - accuracy: 0.9481 - val_loss: 0.0544 - val_accuracy: 0.9883\n",
      "Epoch 4/10\n",
      "219/219 [==============================] - 106s 484ms/step - loss: 0.1612 - accuracy: 0.9556 - val_loss: 0.0558 - val_accuracy: 0.9865\n",
      "Epoch 5/10\n",
      "219/219 [==============================] - 109s 499ms/step - loss: 0.1563 - accuracy: 0.9565 - val_loss: 0.1859 - val_accuracy: 0.9500\n",
      "Epoch 6/10\n",
      "219/219 [==============================] - 108s 493ms/step - loss: 0.1468 - accuracy: 0.9608 - val_loss: 0.0827 - val_accuracy: 0.9829\n",
      "Epoch 7/10\n",
      "219/219 [==============================] - 106s 485ms/step - loss: 0.1463 - accuracy: 0.9599 - val_loss: 0.0821 - val_accuracy: 0.9865\n",
      "Epoch 8/10\n",
      "219/219 [==============================] - 107s 487ms/step - loss: 0.1363 - accuracy: 0.9657 - val_loss: 0.1277 - val_accuracy: 0.9781\n",
      "Epoch 9/10\n",
      "219/219 [==============================] - 106s 486ms/step - loss: 0.1340 - accuracy: 0.9660 - val_loss: 0.0916 - val_accuracy: 0.9783\n",
      "Epoch 10/10\n",
      "219/219 [==============================] - 107s 487ms/step - loss: 0.1161 - accuracy: 0.9697 - val_loss: 0.0903 - val_accuracy: 0.9747\n",
      "Duration: 0:17:54.373012\n"
     ]
    }
   ],
   "source": [
    "print(n)\n",
    "models_lsa[n].fit_model(image_sets_lsa[n],label_sets_lsa[n],x_val,y_val)\n",
    "n = n+1"
   ]
  },
  {
   "cell_type": "code",
   "execution_count": 32,
   "id": "514d4de3",
   "metadata": {},
   "outputs": [
    {
     "name": "stdout",
     "output_type": "stream",
     "text": [
      "8\n",
      "Epoch 1/10\n",
      "247/247 [==============================] - 124s 489ms/step - loss: 0.3022 - accuracy: 0.9257 - val_loss: 0.0464 - val_accuracy: 0.9893\n",
      "Epoch 2/10\n",
      "247/247 [==============================] - 122s 495ms/step - loss: 0.2075 - accuracy: 0.9469 - val_loss: 0.0469 - val_accuracy: 0.9888\n",
      "Epoch 3/10\n",
      "247/247 [==============================] - 123s 499ms/step - loss: 0.1730 - accuracy: 0.9535 - val_loss: 0.0549 - val_accuracy: 0.9857\n",
      "Epoch 4/10\n",
      "247/247 [==============================] - 126s 512ms/step - loss: 0.1687 - accuracy: 0.9550 - val_loss: 0.0595 - val_accuracy: 0.9811\n",
      "Epoch 5/10\n",
      "247/247 [==============================] - 119s 482ms/step - loss: 0.1440 - accuracy: 0.9614 - val_loss: 0.0550 - val_accuracy: 0.9855\n",
      "Epoch 6/10\n",
      "247/247 [==============================] - 119s 482ms/step - loss: 0.1418 - accuracy: 0.9628 - val_loss: 0.0671 - val_accuracy: 0.9839\n",
      "Epoch 7/10\n",
      "247/247 [==============================] - 119s 483ms/step - loss: 0.1362 - accuracy: 0.9632 - val_loss: 0.1242 - val_accuracy: 0.9773\n",
      "Epoch 8/10\n",
      "247/247 [==============================] - 120s 485ms/step - loss: 0.1286 - accuracy: 0.9670 - val_loss: 0.1728 - val_accuracy: 0.9778\n",
      "Epoch 9/10\n",
      "247/247 [==============================] - 119s 483ms/step - loss: 0.1187 - accuracy: 0.9698 - val_loss: 0.0890 - val_accuracy: 0.9773\n",
      "Epoch 10/10\n",
      "247/247 [==============================] - 119s 481ms/step - loss: 0.1060 - accuracy: 0.9716 - val_loss: 0.1104 - val_accuracy: 0.9712\n",
      "Duration: 0:20:11.392352\n"
     ]
    }
   ],
   "source": [
    "print(n)\n",
    "models_lsa[n].fit_model(image_sets_lsa[n],label_sets_lsa[n],x_val,y_val)\n",
    "n = n+1"
   ]
  },
  {
   "cell_type": "code",
   "execution_count": 33,
   "id": "1283b165",
   "metadata": {},
   "outputs": [
    {
     "name": "stdout",
     "output_type": "stream",
     "text": [
      "9\n",
      "Epoch 1/10\n",
      "274/274 [==============================] - 136s 484ms/step - loss: 0.2901 - accuracy: 0.9304 - val_loss: 0.0382 - val_accuracy: 0.9906\n",
      "Epoch 2/10\n",
      "274/274 [==============================] - 132s 481ms/step - loss: 0.1944 - accuracy: 0.9489 - val_loss: 0.0587 - val_accuracy: 0.9855\n",
      "Epoch 3/10\n",
      "274/274 [==============================] - 132s 482ms/step - loss: 0.1609 - accuracy: 0.9581 - val_loss: 0.0692 - val_accuracy: 0.9837\n",
      "Epoch 4/10\n",
      "274/274 [==============================] - 132s 482ms/step - loss: 0.1634 - accuracy: 0.9579 - val_loss: 0.1521 - val_accuracy: 0.9533\n",
      "Epoch 5/10\n",
      "274/274 [==============================] - 132s 483ms/step - loss: 0.1362 - accuracy: 0.9643 - val_loss: 0.1057 - val_accuracy: 0.9768\n",
      "Epoch 6/10\n",
      "274/274 [==============================] - 132s 482ms/step - loss: 0.1374 - accuracy: 0.9633 - val_loss: 0.0773 - val_accuracy: 0.9786\n",
      "Epoch 7/10\n",
      "274/274 [==============================] - 133s 484ms/step - loss: 0.1228 - accuracy: 0.9676 - val_loss: 0.1644 - val_accuracy: 0.9658\n",
      "Epoch 8/10\n",
      "274/274 [==============================] - 133s 486ms/step - loss: 0.1304 - accuracy: 0.9672 - val_loss: 0.1888 - val_accuracy: 0.9760\n",
      "Epoch 9/10\n",
      "274/274 [==============================] - 132s 481ms/step - loss: 0.1343 - accuracy: 0.9695 - val_loss: 0.1346 - val_accuracy: 0.9742\n",
      "Epoch 10/10\n",
      "274/274 [==============================] - 132s 482ms/step - loss: 0.1226 - accuracy: 0.9687 - val_loss: 0.1433 - val_accuracy: 0.9824\n",
      "Duration: 0:22:05.863074\n"
     ]
    }
   ],
   "source": [
    "print(n)#9\n",
    "models_lsa[n].fit_model(image_sets_lsa[n],label_sets_lsa[n],x_val,y_val)\n",
    "n = n+1"
   ]
  },
  {
   "cell_type": "code",
   "execution_count": 34,
   "id": "15778af4",
   "metadata": {},
   "outputs": [
    {
     "name": "stdout",
     "output_type": "stream",
     "text": [
      "Epoch 1/10\n",
      "301/301 [==============================] - 151s 488ms/step - loss: 0.2741 - accuracy: 0.9342 - val_loss: 0.0219 - val_accuracy: 0.9929\n",
      "Epoch 2/10\n",
      "301/301 [==============================] - 145s 482ms/step - loss: 0.1847 - accuracy: 0.9525 - val_loss: 0.0607 - val_accuracy: 0.9870\n",
      "Epoch 3/10\n",
      "301/301 [==============================] - 145s 481ms/step - loss: 0.1570 - accuracy: 0.9590 - val_loss: 0.0628 - val_accuracy: 0.9870\n",
      "Epoch 4/10\n",
      "301/301 [==============================] - 145s 483ms/step - loss: 0.1380 - accuracy: 0.9639 - val_loss: 0.0757 - val_accuracy: 0.9821\n",
      "Epoch 5/10\n",
      "301/301 [==============================] - 145s 480ms/step - loss: 0.1293 - accuracy: 0.9664 - val_loss: 0.0784 - val_accuracy: 0.9832\n",
      "Epoch 6/10\n",
      "301/301 [==============================] - 144s 480ms/step - loss: 0.1349 - accuracy: 0.9660 - val_loss: 0.1230 - val_accuracy: 0.9722\n",
      "Epoch 7/10\n",
      "301/301 [==============================] - 145s 480ms/step - loss: 0.1325 - accuracy: 0.9665 - val_loss: 0.1111 - val_accuracy: 0.9796\n",
      "Epoch 8/10\n",
      "301/301 [==============================] - 145s 482ms/step - loss: 0.1147 - accuracy: 0.9693 - val_loss: 0.1106 - val_accuracy: 0.9844\n",
      "Epoch 9/10\n",
      "301/301 [==============================] - 144s 480ms/step - loss: 0.1339 - accuracy: 0.9668 - val_loss: 0.2213 - val_accuracy: 0.9574\n",
      "Epoch 10/10\n",
      "301/301 [==============================] - 145s 481ms/step - loss: 0.1298 - accuracy: 0.9696 - val_loss: 0.1804 - val_accuracy: 0.9786\n",
      "Duration: 0:24:14.071188\n"
     ]
    }
   ],
   "source": [
    "## print(n)\n",
    "n=10\n",
    "models_lsa[n].fit_model(image_sets_lsa[n],label_sets_lsa[n],x_val,y_val)\n",
    "n = n+1"
   ]
  },
  {
   "cell_type": "code",
   "execution_count": 35,
   "id": "fcc0bfc7",
   "metadata": {},
   "outputs": [
    {
     "name": "stdout",
     "output_type": "stream",
     "text": [
      "11\n",
      "Epoch 1/10\n",
      "329/329 [==============================] - 160s 476ms/step - loss: 0.2567 - accuracy: 0.9380 - val_loss: 0.0584 - val_accuracy: 0.9837\n",
      "Epoch 2/10\n",
      "329/329 [==============================] - 157s 478ms/step - loss: 0.1665 - accuracy: 0.9540 - val_loss: 0.0636 - val_accuracy: 0.9893\n",
      "Epoch 3/10\n",
      "329/329 [==============================] - 157s 478ms/step - loss: 0.1546 - accuracy: 0.9589 - val_loss: 0.1265 - val_accuracy: 0.9804\n",
      "Epoch 4/10\n",
      "329/329 [==============================] - 157s 477ms/step - loss: 0.1469 - accuracy: 0.9622 - val_loss: 0.1211 - val_accuracy: 0.9709\n",
      "Epoch 5/10\n",
      "329/329 [==============================] - 157s 477ms/step - loss: 0.1280 - accuracy: 0.9671 - val_loss: 0.0694 - val_accuracy: 0.9860\n",
      "Epoch 6/10\n",
      "329/329 [==============================] - 157s 477ms/step - loss: 0.1258 - accuracy: 0.9661 - val_loss: 0.2135 - val_accuracy: 0.9650\n",
      "Epoch 7/10\n",
      "329/329 [==============================] - 157s 477ms/step - loss: 0.1295 - accuracy: 0.9691 - val_loss: 0.1428 - val_accuracy: 0.9658\n",
      "Epoch 8/10\n",
      "329/329 [==============================] - 157s 477ms/step - loss: 0.1343 - accuracy: 0.9690 - val_loss: 0.1607 - val_accuracy: 0.9574\n",
      "Epoch 9/10\n",
      "329/329 [==============================] - 162s 493ms/step - loss: 0.1219 - accuracy: 0.9697 - val_loss: 0.5619 - val_accuracy: 0.9474\n",
      "Epoch 10/10\n",
      "329/329 [==============================] - 170s 516ms/step - loss: 0.1030 - accuracy: 0.9740 - val_loss: 0.2016 - val_accuracy: 0.9686\n",
      "Duration: 0:26:30.816506\n"
     ]
    }
   ],
   "source": [
    "print(n)\n",
    "models_lsa[n].fit_model(image_sets_lsa[n],label_sets_lsa[n],x_val,y_val)\n",
    "n = n+1"
   ]
  },
  {
   "cell_type": "code",
   "execution_count": 36,
   "id": "13facd5c",
   "metadata": {},
   "outputs": [
    {
     "name": "stdout",
     "output_type": "stream",
     "text": [
      "12\n",
      "Epoch 1/10\n",
      "356/356 [==============================] - 178s 489ms/step - loss: 0.2600 - accuracy: 0.9429 - val_loss: 0.0538 - val_accuracy: 0.9865\n",
      "Epoch 2/10\n",
      "356/356 [==============================] - 170s 476ms/step - loss: 0.1506 - accuracy: 0.9602 - val_loss: 0.1052 - val_accuracy: 0.9781\n",
      "Epoch 3/10\n",
      "356/356 [==============================] - 169s 476ms/step - loss: 0.1600 - accuracy: 0.9598 - val_loss: 0.1500 - val_accuracy: 0.9699\n",
      "Epoch 4/10\n",
      "356/356 [==============================] - 170s 478ms/step - loss: 0.1367 - accuracy: 0.9638 - val_loss: 0.0986 - val_accuracy: 0.9786\n",
      "Epoch 5/10\n",
      "356/356 [==============================] - 172s 483ms/step - loss: 0.1361 - accuracy: 0.9670 - val_loss: 0.0670 - val_accuracy: 0.9824\n",
      "Epoch 6/10\n",
      "356/356 [==============================] - 169s 476ms/step - loss: 0.1318 - accuracy: 0.9677 - val_loss: 0.1190 - val_accuracy: 0.9709\n",
      "Epoch 7/10\n",
      "356/356 [==============================] - 170s 477ms/step - loss: 0.1262 - accuracy: 0.9712 - val_loss: 0.1195 - val_accuracy: 0.9745\n",
      "Epoch 8/10\n",
      "356/356 [==============================] - 169s 475ms/step - loss: 0.1160 - accuracy: 0.9722 - val_loss: 0.1471 - val_accuracy: 0.9615\n",
      "Epoch 9/10\n",
      "356/356 [==============================] - 169s 476ms/step - loss: 0.1377 - accuracy: 0.9692 - val_loss: 0.1503 - val_accuracy: 0.9740\n",
      "Epoch 10/10\n",
      "356/356 [==============================] - 168s 473ms/step - loss: 0.1301 - accuracy: 0.9708 - val_loss: 0.1821 - val_accuracy: 0.9717\n",
      "Duration: 0:28:25.034362\n"
     ]
    }
   ],
   "source": [
    "print(n)\n",
    "models_lsa[n].fit_model(image_sets_lsa[n],label_sets_lsa[n],x_val,y_val)\n",
    "n = n+1"
   ]
  },
  {
   "cell_type": "code",
   "execution_count": 37,
   "id": "ad7f0043",
   "metadata": {},
   "outputs": [
    {
     "name": "stdout",
     "output_type": "stream",
     "text": [
      "13\n",
      "Epoch 1/10\n",
      "383/383 [==============================] - 186s 477ms/step - loss: 0.2216 - accuracy: 0.9486 - val_loss: 0.0447 - val_accuracy: 0.9913\n",
      "Epoch 2/10\n",
      "383/383 [==============================] - 184s 481ms/step - loss: 0.1592 - accuracy: 0.9580 - val_loss: 0.0876 - val_accuracy: 0.9814\n",
      "Epoch 3/10\n",
      "383/383 [==============================] - 182s 475ms/step - loss: 0.1330 - accuracy: 0.9650 - val_loss: 0.0794 - val_accuracy: 0.9747\n",
      "Epoch 4/10\n",
      "383/383 [==============================] - 184s 479ms/step - loss: 0.1258 - accuracy: 0.9685 - val_loss: 0.1208 - val_accuracy: 0.9663\n",
      "Epoch 5/10\n",
      "383/383 [==============================] - 182s 476ms/step - loss: 0.1252 - accuracy: 0.9688 - val_loss: 0.0800 - val_accuracy: 0.9809\n",
      "Epoch 6/10\n",
      "383/383 [==============================] - 183s 478ms/step - loss: 0.1229 - accuracy: 0.9706 - val_loss: 0.1157 - val_accuracy: 0.9732\n",
      "Epoch 7/10\n",
      "383/383 [==============================] - 182s 475ms/step - loss: 0.1322 - accuracy: 0.9697 - val_loss: 0.1994 - val_accuracy: 0.9459\n",
      "Epoch 8/10\n",
      "383/383 [==============================] - 187s 489ms/step - loss: 0.1224 - accuracy: 0.9699 - val_loss: 0.1555 - val_accuracy: 0.9640\n",
      "Epoch 9/10\n",
      "383/383 [==============================] - 191s 500ms/step - loss: 0.1207 - accuracy: 0.9705 - val_loss: 0.1114 - val_accuracy: 0.9681\n",
      "Epoch 10/10\n",
      "383/383 [==============================] - 184s 481ms/step - loss: 0.1257 - accuracy: 0.9712 - val_loss: 0.1165 - val_accuracy: 0.9666\n",
      "Duration: 0:30:46.012566\n"
     ]
    }
   ],
   "source": [
    "print(n)\n",
    "models_lsa[n].fit_model(image_sets_lsa[n],label_sets_lsa[n],x_val,y_val)\n",
    "n = n+1"
   ]
  },
  {
   "cell_type": "code",
   "execution_count": 38,
   "id": "419551ee",
   "metadata": {},
   "outputs": [
    {
     "name": "stdout",
     "output_type": "stream",
     "text": [
      "14\n",
      "Epoch 1/10\n",
      "411/411 [==============================] - 199s 475ms/step - loss: 0.2164 - accuracy: 0.9506 - val_loss: 0.0519 - val_accuracy: 0.9883\n",
      "Epoch 2/10\n",
      "411/411 [==============================] - 198s 481ms/step - loss: 0.1452 - accuracy: 0.9625 - val_loss: 0.0474 - val_accuracy: 0.9867\n",
      "Epoch 3/10\n",
      "411/411 [==============================] - 195s 474ms/step - loss: 0.1430 - accuracy: 0.9630 - val_loss: 0.1147 - val_accuracy: 0.9778\n",
      "Epoch 4/10\n",
      "411/411 [==============================] - 196s 477ms/step - loss: 0.1420 - accuracy: 0.9638 - val_loss: 0.0686 - val_accuracy: 0.9847\n",
      "Epoch 5/10\n",
      "411/411 [==============================] - 197s 478ms/step - loss: 0.1308 - accuracy: 0.9683 - val_loss: 0.0912 - val_accuracy: 0.9775\n",
      "Epoch 6/10\n",
      "411/411 [==============================] - 195s 475ms/step - loss: 0.1178 - accuracy: 0.9709 - val_loss: 0.1416 - val_accuracy: 0.9709\n",
      "Epoch 7/10\n",
      "411/411 [==============================] - 195s 474ms/step - loss: 0.1431 - accuracy: 0.9686 - val_loss: 0.1208 - val_accuracy: 0.9760\n",
      "Epoch 8/10\n",
      "411/411 [==============================] - 195s 474ms/step - loss: 0.1344 - accuracy: 0.9707 - val_loss: 0.2755 - val_accuracy: 0.9413\n",
      "Epoch 9/10\n",
      "411/411 [==============================] - 195s 474ms/step - loss: 0.1312 - accuracy: 0.9704 - val_loss: 0.3606 - val_accuracy: 0.9505\n",
      "Epoch 10/10\n",
      "411/411 [==============================] - 195s 474ms/step - loss: 0.1291 - accuracy: 0.9705 - val_loss: 0.1410 - val_accuracy: 0.9663\n",
      "Duration: 0:32:38.259849\n"
     ]
    }
   ],
   "source": [
    "print(n)#14\n",
    "models_lsa[n].fit_model(image_sets_lsa[n],label_sets_lsa[n],x_val,y_val)\n",
    "n = n+1"
   ]
  },
  {
   "cell_type": "code",
   "execution_count": 39,
   "id": "60f36b0b",
   "metadata": {},
   "outputs": [
    {
     "name": "stdout",
     "output_type": "stream",
     "text": [
      "15\n",
      "Epoch 1/10\n",
      "438/438 [==============================] - 211s 474ms/step - loss: 0.2081 - accuracy: 0.9499 - val_loss: 0.0524 - val_accuracy: 0.9903\n",
      "Epoch 2/10\n",
      "438/438 [==============================] - 208s 475ms/step - loss: 0.1529 - accuracy: 0.9612 - val_loss: 0.0585 - val_accuracy: 0.9849\n",
      "Epoch 3/10\n",
      "438/438 [==============================] - 208s 475ms/step - loss: 0.1284 - accuracy: 0.9653 - val_loss: 0.1069 - val_accuracy: 0.9717\n",
      "Epoch 4/10\n",
      "438/438 [==============================] - 208s 475ms/step - loss: 0.1329 - accuracy: 0.9669 - val_loss: 0.0566 - val_accuracy: 0.9862\n",
      "Epoch 5/10\n",
      "438/438 [==============================] - 208s 475ms/step - loss: 0.1367 - accuracy: 0.9657 - val_loss: 0.0691 - val_accuracy: 0.9878\n",
      "Epoch 6/10\n",
      "438/438 [==============================] - 207s 473ms/step - loss: 0.1335 - accuracy: 0.9691 - val_loss: 0.0915 - val_accuracy: 0.9788\n",
      "Epoch 7/10\n",
      "438/438 [==============================] - 207s 472ms/step - loss: 0.1247 - accuracy: 0.9697 - val_loss: 0.1156 - val_accuracy: 0.9745\n",
      "Epoch 8/10\n",
      "438/438 [==============================] - 207s 472ms/step - loss: 0.1327 - accuracy: 0.9691 - val_loss: 0.0920 - val_accuracy: 0.9821\n",
      "Epoch 9/10\n",
      "438/438 [==============================] - 209s 477ms/step - loss: 0.1319 - accuracy: 0.9719 - val_loss: 0.1014 - val_accuracy: 0.9826\n",
      "Epoch 10/10\n",
      "438/438 [==============================] - 207s 473ms/step - loss: 0.1296 - accuracy: 0.9724 - val_loss: 0.2229 - val_accuracy: 0.9640\n",
      "Duration: 0:34:39.887473\n"
     ]
    }
   ],
   "source": [
    "n=15\n",
    "print(n)\n",
    "models_lsa[n].fit_model(image_sets_lsa[n],label_sets_lsa[n],x_val,y_val)\n",
    "n = n+1"
   ]
  },
  {
   "cell_type": "code",
   "execution_count": 40,
   "id": "b0203db1",
   "metadata": {},
   "outputs": [
    {
     "name": "stdout",
     "output_type": "stream",
     "text": [
      "16\n",
      "Epoch 1/10\n",
      "465/465 [==============================] - 224s 474ms/step - loss: 0.2353 - accuracy: 0.9507 - val_loss: 0.0608 - val_accuracy: 0.9839\n",
      "Epoch 2/10\n",
      "465/465 [==============================] - 222s 477ms/step - loss: 0.1431 - accuracy: 0.9636 - val_loss: 0.0531 - val_accuracy: 0.9878\n",
      "Epoch 3/10\n",
      "465/465 [==============================] - 222s 478ms/step - loss: 0.1276 - accuracy: 0.9671 - val_loss: 0.0729 - val_accuracy: 0.9824\n",
      "Epoch 4/10\n",
      "465/465 [==============================] - 221s 475ms/step - loss: 0.1314 - accuracy: 0.9677 - val_loss: 0.0599 - val_accuracy: 0.9867\n",
      "Epoch 5/10\n",
      "465/465 [==============================] - 220s 474ms/step - loss: 0.1240 - accuracy: 0.9698 - val_loss: 0.0392 - val_accuracy: 0.9929\n",
      "Epoch 6/10\n",
      "465/465 [==============================] - 220s 473ms/step - loss: 0.1206 - accuracy: 0.9713 - val_loss: 0.0933 - val_accuracy: 0.9724\n",
      "Epoch 7/10\n",
      "465/465 [==============================] - 220s 474ms/step - loss: 0.1226 - accuracy: 0.9710 - val_loss: 0.1250 - val_accuracy: 0.9804\n",
      "Epoch 8/10\n",
      "465/465 [==============================] - 232s 498ms/step - loss: 0.1305 - accuracy: 0.9703 - val_loss: 0.0540 - val_accuracy: 0.9870\n",
      "Epoch 9/10\n",
      "465/465 [==============================] - 231s 496ms/step - loss: 0.1203 - accuracy: 0.9722 - val_loss: 0.0834 - val_accuracy: 0.9867\n",
      "Epoch 10/10\n",
      "465/465 [==============================] - 221s 474ms/step - loss: 0.1332 - accuracy: 0.9722 - val_loss: 0.0745 - val_accuracy: 0.9842\n",
      "Duration: 0:37:12.446336\n"
     ]
    }
   ],
   "source": [
    "print(n)\n",
    "models_lsa[n].fit_model(image_sets_lsa[n],label_sets_lsa[n],x_val,y_val)\n",
    "n = n+1"
   ]
  },
  {
   "cell_type": "code",
   "execution_count": 41,
   "id": "947e9756",
   "metadata": {},
   "outputs": [
    {
     "name": "stdout",
     "output_type": "stream",
     "text": [
      "17\n",
      "Epoch 1/10\n",
      "493/493 [==============================] - 237s 475ms/step - loss: 0.1934 - accuracy: 0.9563 - val_loss: 0.0686 - val_accuracy: 0.9824\n",
      "Epoch 2/10\n",
      "493/493 [==============================] - 233s 473ms/step - loss: 0.1461 - accuracy: 0.9640 - val_loss: 0.1028 - val_accuracy: 0.9804\n",
      "Epoch 3/10\n",
      "493/493 [==============================] - 233s 472ms/step - loss: 0.1408 - accuracy: 0.9636 - val_loss: 0.0345 - val_accuracy: 0.9918\n",
      "Epoch 4/10\n",
      "493/493 [==============================] - 233s 472ms/step - loss: 0.1376 - accuracy: 0.9661 - val_loss: 0.0545 - val_accuracy: 0.9885\n",
      "Epoch 5/10\n",
      "493/493 [==============================] - 235s 477ms/step - loss: 0.1263 - accuracy: 0.9704 - val_loss: 0.0908 - val_accuracy: 0.9834\n",
      "Epoch 6/10\n",
      "493/493 [==============================] - 233s 473ms/step - loss: 0.1297 - accuracy: 0.9704 - val_loss: 0.1480 - val_accuracy: 0.9740\n",
      "Epoch 7/10\n",
      "493/493 [==============================] - 233s 473ms/step - loss: 0.1251 - accuracy: 0.9700 - val_loss: 0.1295 - val_accuracy: 0.9678\n",
      "Epoch 8/10\n",
      "493/493 [==============================] - 234s 475ms/step - loss: 0.1282 - accuracy: 0.9712 - val_loss: 0.0623 - val_accuracy: 0.9824\n",
      "Epoch 9/10\n",
      "493/493 [==============================] - 234s 474ms/step - loss: 0.1302 - accuracy: 0.9696 - val_loss: 0.0908 - val_accuracy: 0.9801\n",
      "Epoch 10/10\n",
      "493/493 [==============================] - 233s 472ms/step - loss: 0.1480 - accuracy: 0.9696 - val_loss: 0.0646 - val_accuracy: 0.9824\n",
      "Duration: 0:38:58.150876\n"
     ]
    }
   ],
   "source": [
    "print(n)\n",
    "models_lsa[n].fit_model(image_sets_lsa[n],label_sets_lsa[n],x_val,y_val)\n",
    "n = n+1"
   ]
  },
  {
   "cell_type": "code",
   "execution_count": 42,
   "id": "b9a0a231",
   "metadata": {},
   "outputs": [
    {
     "name": "stdout",
     "output_type": "stream",
     "text": [
      "18\n",
      "Epoch 1/10\n",
      "520/520 [==============================] - 249s 472ms/step - loss: 0.1827 - accuracy: 0.9563 - val_loss: 0.0344 - val_accuracy: 0.9923\n",
      "Epoch 2/10\n",
      "520/520 [==============================] - 245s 472ms/step - loss: 0.1435 - accuracy: 0.9628 - val_loss: 0.0287 - val_accuracy: 0.9926\n",
      "Epoch 3/10\n",
      "520/520 [==============================] - 246s 473ms/step - loss: 0.1323 - accuracy: 0.9661 - val_loss: 0.0282 - val_accuracy: 0.9954\n",
      "Epoch 4/10\n",
      "520/520 [==============================] - 246s 473ms/step - loss: 0.1284 - accuracy: 0.9668 - val_loss: 0.0294 - val_accuracy: 0.9913\n",
      "Epoch 5/10\n",
      "520/520 [==============================] - 246s 473ms/step - loss: 0.1208 - accuracy: 0.9705 - val_loss: 0.0502 - val_accuracy: 0.9903\n",
      "Epoch 6/10\n",
      "520/520 [==============================] - 246s 473ms/step - loss: 0.1300 - accuracy: 0.9700 - val_loss: 0.0238 - val_accuracy: 0.9929\n",
      "Epoch 7/10\n",
      "520/520 [==============================] - 246s 472ms/step - loss: 0.1303 - accuracy: 0.9704 - val_loss: 0.1251 - val_accuracy: 0.9809\n",
      "Epoch 8/10\n",
      "520/520 [==============================] - 245s 471ms/step - loss: 0.1340 - accuracy: 0.9716 - val_loss: 0.0325 - val_accuracy: 0.9913\n",
      "Epoch 9/10\n",
      "520/520 [==============================] - 245s 471ms/step - loss: 0.1433 - accuracy: 0.9669 - val_loss: 0.0192 - val_accuracy: 0.9959\n",
      "Epoch 10/10\n",
      "520/520 [==============================] - 247s 475ms/step - loss: 0.1281 - accuracy: 0.9731 - val_loss: 0.0636 - val_accuracy: 0.9875\n",
      "Duration: 0:41:01.095418\n"
     ]
    }
   ],
   "source": [
    "print(n)\n",
    "models_lsa[n].fit_model(image_sets_lsa[n],label_sets_lsa[n],x_val,y_val)\n",
    "n = n+1"
   ]
  },
  {
   "cell_type": "code",
   "execution_count": 43,
   "id": "d3a5471a",
   "metadata": {},
   "outputs": [
    {
     "name": "stdout",
     "output_type": "stream",
     "text": [
      "19\n",
      "Epoch 1/10\n",
      "547/547 [==============================] - 261s 471ms/step - loss: 0.1842 - accuracy: 0.9564 - val_loss: 0.0392 - val_accuracy: 0.9908\n",
      "Epoch 2/10\n",
      "547/547 [==============================] - 258s 473ms/step - loss: 0.1362 - accuracy: 0.9659 - val_loss: 0.0299 - val_accuracy: 0.9944\n",
      "Epoch 3/10\n",
      "547/547 [==============================] - 260s 475ms/step - loss: 0.1261 - accuracy: 0.9687 - val_loss: 0.0237 - val_accuracy: 0.9946\n",
      "Epoch 4/10\n",
      "547/547 [==============================] - 259s 474ms/step - loss: 0.1245 - accuracy: 0.9694 - val_loss: 0.0399 - val_accuracy: 0.9916\n",
      "Epoch 5/10\n",
      "547/547 [==============================] - 258s 472ms/step - loss: 0.1227 - accuracy: 0.9695 - val_loss: 0.0355 - val_accuracy: 0.9934\n",
      "Epoch 6/10\n",
      "547/547 [==============================] - 257s 470ms/step - loss: 0.1236 - accuracy: 0.9698 - val_loss: 0.0434 - val_accuracy: 0.9936\n",
      "Epoch 7/10\n",
      "547/547 [==============================] - 259s 473ms/step - loss: 0.1412 - accuracy: 0.9684 - val_loss: 0.0358 - val_accuracy: 0.9944\n",
      "Epoch 8/10\n",
      "547/547 [==============================] - 259s 473ms/step - loss: 0.1346 - accuracy: 0.9708 - val_loss: 0.0371 - val_accuracy: 0.9934\n",
      "Epoch 9/10\n",
      "547/547 [==============================] - 258s 472ms/step - loss: 0.1370 - accuracy: 0.9697 - val_loss: 0.0449 - val_accuracy: 0.9916\n",
      "Epoch 10/10\n",
      "547/547 [==============================] - 257s 470ms/step - loss: 0.1568 - accuracy: 0.9678 - val_loss: 0.0598 - val_accuracy: 0.9921\n",
      "Duration: 0:43:06.617375\n"
     ]
    }
   ],
   "source": [
    "print(n)#19\n",
    "models_lsa[n].fit_model(image_sets_lsa[n],label_sets_lsa[n],x_val,y_val)\n",
    "n = n+1"
   ]
  },
  {
   "cell_type": "code",
   "execution_count": 44,
   "id": "0e25266c",
   "metadata": {},
   "outputs": [
    {
     "name": "stdout",
     "output_type": "stream",
     "text": [
      "20\n",
      "Epoch 1/10\n",
      "552/552 [==============================] - 264s 473ms/step - loss: 0.1955 - accuracy: 0.9542 - val_loss: 0.0478 - val_accuracy: 0.9880\n",
      "Epoch 2/10\n",
      "552/552 [==============================] - 260s 471ms/step - loss: 0.1402 - accuracy: 0.9652 - val_loss: 0.1120 - val_accuracy: 0.9796\n",
      "Epoch 3/10\n",
      "552/552 [==============================] - 260s 471ms/step - loss: 0.1292 - accuracy: 0.9664 - val_loss: 0.0310 - val_accuracy: 0.9936\n",
      "Epoch 4/10\n",
      "552/552 [==============================] - 263s 476ms/step - loss: 0.1292 - accuracy: 0.9686 - val_loss: 0.0294 - val_accuracy: 0.9936\n",
      "Epoch 5/10\n",
      "552/552 [==============================] - 260s 471ms/step - loss: 0.1282 - accuracy: 0.9681 - val_loss: 0.0955 - val_accuracy: 0.9842\n",
      "Epoch 6/10\n",
      "552/552 [==============================] - 267s 483ms/step - loss: 0.1333 - accuracy: 0.9680 - val_loss: 0.0283 - val_accuracy: 0.9952\n",
      "Epoch 7/10\n",
      "552/552 [==============================] - 276s 500ms/step - loss: 0.1274 - accuracy: 0.9715 - val_loss: 0.0473 - val_accuracy: 0.9890\n",
      "Epoch 8/10\n",
      "552/552 [==============================] - 265s 480ms/step - loss: 0.1249 - accuracy: 0.9709 - val_loss: 0.0226 - val_accuracy: 0.9944\n",
      "Epoch 9/10\n",
      "552/552 [==============================] - 260s 471ms/step - loss: 0.1397 - accuracy: 0.9686 - val_loss: 0.0362 - val_accuracy: 0.9949\n",
      "Epoch 10/10\n",
      "552/552 [==============================] - 260s 471ms/step - loss: 0.1397 - accuracy: 0.9701 - val_loss: 0.0222 - val_accuracy: 0.9941\n",
      "Duration: 0:43:54.441207\n"
     ]
    }
   ],
   "source": [
    "print(n)#last\n",
    "models_lsa[n].fit_model(image_sets_lsa[n],label_sets_lsa[n],x_val,y_val)\n",
    "n = n+1"
   ]
  },
  {
   "cell_type": "code",
   "execution_count": null,
   "id": "a6deb814",
   "metadata": {},
   "outputs": [],
   "source": [
    "len(models_lsa)"
   ]
  },
  {
   "cell_type": "code",
   "execution_count": null,
   "id": "00eb4c81",
   "metadata": {},
   "outputs": [],
   "source": [
    "models_lsa[-1].evaluate(x_val,y_val)"
   ]
  },
  {
   "cell_type": "code",
   "execution_count": null,
   "id": "a50d6c39",
   "metadata": {},
   "outputs": [],
   "source": [
    "len(models_lsa)"
   ]
  },
  {
   "cell_type": "code",
   "execution_count": 45,
   "id": "c7794bb9",
   "metadata": {},
   "outputs": [
    {
     "name": "stdout",
     "output_type": "stream",
     "text": [
      "INFO:tensorflow:Assets written to: D:/models/aug_22/gtsrb/C2/gtsrb_model_c2_aug_lsa_e1_0\\assets\n",
      "Model has been saved\n",
      "INFO:tensorflow:Assets written to: D:/models/aug_22/gtsrb/C2/gtsrb_model_c2_aug_lsa_e1_1\\assets\n",
      "Model has been saved\n",
      "INFO:tensorflow:Assets written to: D:/models/aug_22/gtsrb/C2/gtsrb_model_c2_aug_lsa_e1_2\\assets\n",
      "Model has been saved\n",
      "INFO:tensorflow:Assets written to: D:/models/aug_22/gtsrb/C2/gtsrb_model_c2_aug_lsa_e1_3\\assets\n",
      "Model has been saved\n",
      "INFO:tensorflow:Assets written to: D:/models/aug_22/gtsrb/C2/gtsrb_model_c2_aug_lsa_e1_4\\assets\n",
      "Model has been saved\n",
      "INFO:tensorflow:Assets written to: D:/models/aug_22/gtsrb/C2/gtsrb_model_c2_aug_lsa_e1_5\\assets\n",
      "Model has been saved\n",
      "INFO:tensorflow:Assets written to: D:/models/aug_22/gtsrb/C2/gtsrb_model_c2_aug_lsa_e1_6\\assets\n",
      "Model has been saved\n",
      "INFO:tensorflow:Assets written to: D:/models/aug_22/gtsrb/C2/gtsrb_model_c2_aug_lsa_e1_7\\assets\n",
      "Model has been saved\n",
      "INFO:tensorflow:Assets written to: D:/models/aug_22/gtsrb/C2/gtsrb_model_c2_aug_lsa_e1_8\\assets\n",
      "Model has been saved\n",
      "INFO:tensorflow:Assets written to: D:/models/aug_22/gtsrb/C2/gtsrb_model_c2_aug_lsa_e1_9\\assets\n",
      "Model has been saved\n",
      "INFO:tensorflow:Assets written to: D:/models/aug_22/gtsrb/C2/gtsrb_model_c2_aug_lsa_e1_10\\assets\n",
      "Model has been saved\n",
      "INFO:tensorflow:Assets written to: D:/models/aug_22/gtsrb/C2/gtsrb_model_c2_aug_lsa_e1_11\\assets\n",
      "Model has been saved\n",
      "INFO:tensorflow:Assets written to: D:/models/aug_22/gtsrb/C2/gtsrb_model_c2_aug_lsa_e1_12\\assets\n",
      "Model has been saved\n",
      "INFO:tensorflow:Assets written to: D:/models/aug_22/gtsrb/C2/gtsrb_model_c2_aug_lsa_e1_13\\assets\n",
      "Model has been saved\n",
      "INFO:tensorflow:Assets written to: D:/models/aug_22/gtsrb/C2/gtsrb_model_c2_aug_lsa_e1_14\\assets\n",
      "Model has been saved\n",
      "INFO:tensorflow:Assets written to: D:/models/aug_22/gtsrb/C2/gtsrb_model_c2_aug_lsa_e1_15\\assets\n",
      "Model has been saved\n",
      "INFO:tensorflow:Assets written to: D:/models/aug_22/gtsrb/C2/gtsrb_model_c2_aug_lsa_e1_16\\assets\n",
      "Model has been saved\n",
      "INFO:tensorflow:Assets written to: D:/models/aug_22/gtsrb/C2/gtsrb_model_c2_aug_lsa_e1_17\\assets\n",
      "Model has been saved\n",
      "INFO:tensorflow:Assets written to: D:/models/aug_22/gtsrb/C2/gtsrb_model_c2_aug_lsa_e1_18\\assets\n",
      "Model has been saved\n",
      "INFO:tensorflow:Assets written to: D:/models/aug_22/gtsrb/C2/gtsrb_model_c2_aug_lsa_e1_19\\assets\n",
      "Model has been saved\n",
      "INFO:tensorflow:Assets written to: D:/models/aug_22/gtsrb/C2/gtsrb_model_c2_aug_lsa_e1_20\\assets\n",
      "Model has been saved\n"
     ]
    }
   ],
   "source": [
    "#new_model_lsa_dir  = \"D:/models/gtsrb_models/C1/gtsrb_model_c1_sep_lsa_e2\"\n",
    "new_model_lsa_dir  = \"D:/models/aug_22/gtsrb/C2/gtsrb_model_c2_aug_lsa_e1\"\n",
    "\n",
    "i=0\n",
    "\n",
    "for model in models_lsa:\n",
    "    model.save(new_model_lsa_dir+\"_\"+str(i))\n",
    "    i+=1"
   ]
  },
  {
   "cell_type": "code",
   "execution_count": 46,
   "id": "f4c281ec",
   "metadata": {},
   "outputs": [],
   "source": [
    "import gc"
   ]
  },
  {
   "cell_type": "code",
   "execution_count": 47,
   "id": "1695d396",
   "metadata": {},
   "outputs": [],
   "source": [
    "try:\n",
    "    del lsa_values\n",
    "    del top_images_by_lsa\n",
    "    del top_labels_by_lsa\n",
    "    del image_sets_lsa\n",
    "    del label_sets_lsa\n",
    "    del models_lsa\n",
    "except:\n",
    "    print(\"Error\")"
   ]
  },
  {
   "cell_type": "code",
   "execution_count": 48,
   "id": "521a0e50",
   "metadata": {},
   "outputs": [
    {
     "data": {
      "text/plain": [
       "595889"
      ]
     },
     "execution_count": 48,
     "metadata": {},
     "output_type": "execute_result"
    }
   ],
   "source": [
    "gc.collect()"
   ]
  },
  {
   "cell_type": "code",
   "execution_count": null,
   "id": "66c44d5f",
   "metadata": {},
   "outputs": [],
   "source": [
    "loading = False\n",
    "\n",
    "models_lsa = []\n",
    "\n",
    "if loading:\n",
    "    for i in range(10,20):\n",
    "        model_lsa_dir = \"D:/models/aug_22/gtsrb/C1/gtsrb_model_c1_aug_lsa_e1_\"+str(i)\n",
    "        print(model_lsa_dir)\n",
    "        model =utils.My_model('gtsrb',True,model_lsa_dir)\n",
    "        model.model.compile(loss= 'categorical_crossentropy', optimizer = 'rmsprop', metrics = ['accuracy',tf.keras.metrics.Precision(), tf.keras.metrics.Recall()])\n",
    "        models_lsa.append(model)\n",
    "       \n",
    "    "
   ]
  },
  {
   "cell_type": "markdown",
   "id": "a13ef06e",
   "metadata": {},
   "source": [
    "## Training guided by DSA"
   ]
  },
  {
   "cell_type": "code",
   "execution_count": null,
   "id": "89a3d5c2",
   "metadata": {},
   "outputs": [],
   "source": []
  },
  {
   "cell_type": "code",
   "execution_count": 49,
   "id": "099c7fa2",
   "metadata": {},
   "outputs": [
    {
     "name": "stdout",
     "output_type": "stream",
     "text": [
      "0 :\n",
      "0  ->  1750\n",
      "1750\n",
      "1 :\n",
      "0  ->  3500\n",
      "3500\n",
      "2 :\n",
      "0  ->  5250\n",
      "5250\n",
      "3 :\n",
      "0  ->  7000\n",
      "7000\n",
      "4 :\n",
      "0  ->  8750\n",
      "8750\n",
      "5 :\n",
      "0  ->  10500\n",
      "10500\n",
      "6 :\n",
      "0  ->  12250\n",
      "12250\n",
      "7 :\n",
      "0  ->  14000\n",
      "14000\n",
      "8 :\n",
      "0  ->  15750\n",
      "15750\n",
      "9 :\n",
      "0  ->  17500\n",
      "17500\n",
      "10 :\n",
      "0  ->  19250\n",
      "19250\n",
      "11 :\n",
      "0  ->  21000\n",
      "21000\n",
      "12 :\n",
      "0  ->  22750\n",
      "22750\n",
      "13 :\n",
      "0  ->  24500\n",
      "24500\n",
      "14 :\n",
      "0  ->  26250\n",
      "26250\n",
      "15 :\n",
      "0  ->  28000\n",
      "28000\n",
      "16 :\n",
      "0  ->  29750\n",
      "29750\n",
      "17 :\n",
      "0  ->  31500\n",
      "31500\n",
      "18 :\n",
      "0  ->  33250\n",
      "33250\n",
      "19 :\n",
      "0  ->  35000\n",
      "35000\n",
      "20 :\n",
      "Last\n",
      "0  ->  37037\n",
      "35287\n"
     ]
    }
   ],
   "source": [
    "m = 1750\n",
    "n = 0\n",
    "image_sets_dsa = []\n",
    "label_sets_dsa = []\n",
    "\n",
    "\n",
    "for i in range((len(top_images_by_dsa)//m)+1):\n",
    "    print(i,\":\")\n",
    "    if (i+1 >= ((len(top_images_by_dsa)//m)+1)):\n",
    "        print(\"Last\")\n",
    "        print(0,\" -> \",n+m+(len(top_images_by_dsa)%m))\n",
    "        top_images_by_dsa_n = np.array(top_images_by_dsa[:n+m+(len(top_images_by_dsa)%m)])\n",
    "        top_labels_by_dsa_n = np.array(top_labels_by_dsa[:n+m+(len(top_images_by_dsa)%m)])\n",
    "    else:\n",
    "        print(0,\" -> \",m+n)\n",
    "        top_images_by_dsa_n = np.array(top_images_by_dsa[:n+m])\n",
    "        top_labels_by_dsa_n = np.array(top_labels_by_dsa[:n+m])\n",
    "    image_sets_dsa.append(top_images_by_dsa_n)\n",
    "    label_sets_dsa.append(top_labels_by_dsa_n)\n",
    "    print(len(top_images_by_dsa_n))\n",
    "    n += m\n",
    "\n"
   ]
  },
  {
   "cell_type": "code",
   "execution_count": 50,
   "id": "8713d09c",
   "metadata": {
    "scrolled": true
   },
   "outputs": [
    {
     "name": "stdout",
     "output_type": "stream",
     "text": [
      "C:/Users/fjdur/Documents/upc-july/models/tf_model_25-06/\n",
      "0 :\n",
      "Model loaded correctly\n",
      "Model compiled\n",
      "1 :\n",
      "Model loaded correctly\n",
      "Model compiled\n",
      "2 :\n",
      "Model loaded correctly\n",
      "Model compiled\n",
      "3 :\n",
      "Model loaded correctly\n",
      "Model compiled\n",
      "4 :\n",
      "Model loaded correctly\n",
      "Model compiled\n",
      "5 :\n",
      "Model loaded correctly\n",
      "Model compiled\n",
      "6 :\n",
      "Model loaded correctly\n",
      "Model compiled\n",
      "7 :\n",
      "Model loaded correctly\n",
      "Model compiled\n",
      "8 :\n",
      "Model loaded correctly\n",
      "Model compiled\n",
      "9 :\n",
      "Model loaded correctly\n",
      "Model compiled\n",
      "10 :\n",
      "Model loaded correctly\n",
      "Model compiled\n",
      "11 :\n",
      "Model loaded correctly\n",
      "Model compiled\n",
      "12 :\n",
      "Model loaded correctly\n",
      "Model compiled\n",
      "13 :\n",
      "Model loaded correctly\n",
      "Model compiled\n",
      "14 :\n",
      "Model loaded correctly\n",
      "Model compiled\n",
      "15 :\n",
      "Model loaded correctly\n",
      "Model compiled\n",
      "16 :\n",
      "Model loaded correctly\n",
      "Model compiled\n",
      "17 :\n",
      "Model loaded correctly\n",
      "Model compiled\n",
      "18 :\n",
      "Model loaded correctly\n",
      "Model compiled\n",
      "19 :\n",
      "Model loaded correctly\n",
      "Model compiled\n",
      "20 :\n",
      "Model loaded correctly\n",
      "Model compiled\n"
     ]
    }
   ],
   "source": [
    "print(model_dir)\n",
    "\n",
    "models_dsa = []\n",
    "for i in range(len(label_sets_dsa)):\n",
    "    print(i,\":\")\n",
    "    model = utils.My_model(dataset,True,model_dir)\n",
    "    model.compile_model()\n",
    "    models_dsa.append(model)\n"
   ]
  },
  {
   "cell_type": "code",
   "execution_count": 51,
   "id": "9990e037",
   "metadata": {},
   "outputs": [
    {
     "name": "stdout",
     "output_type": "stream",
     "text": [
      "0\n",
      "Epoch 1/10\n",
      "28/28 [==============================] - 24s 734ms/step - loss: 2.8782 - accuracy: 0.3874 - val_loss: 0.1395 - val_accuracy: 0.9801\n",
      "Epoch 2/10\n",
      "28/28 [==============================] - 20s 714ms/step - loss: 1.4450 - accuracy: 0.6159 - val_loss: 0.0683 - val_accuracy: 0.9796\n",
      "Epoch 3/10\n",
      "28/28 [==============================] - 20s 739ms/step - loss: 1.2367 - accuracy: 0.6523 - val_loss: 0.0664 - val_accuracy: 0.9811\n",
      "Epoch 4/10\n",
      "28/28 [==============================] - 22s 786ms/step - loss: 0.9845 - accuracy: 0.7238 - val_loss: 0.0577 - val_accuracy: 0.9862\n",
      "Epoch 5/10\n",
      "28/28 [==============================] - 21s 769ms/step - loss: 0.8484 - accuracy: 0.7499 - val_loss: 0.0636 - val_accuracy: 0.9816\n",
      "Epoch 6/10\n",
      "28/28 [==============================] - 21s 753ms/step - loss: 0.7421 - accuracy: 0.7663 - val_loss: 0.1593 - val_accuracy: 0.9610\n",
      "Epoch 7/10\n",
      "28/28 [==============================] - 21s 762ms/step - loss: 0.7199 - accuracy: 0.8106 - val_loss: 0.0722 - val_accuracy: 0.9796\n",
      "Epoch 8/10\n",
      "28/28 [==============================] - 21s 763ms/step - loss: 0.5308 - accuracy: 0.8463 - val_loss: 0.1411 - val_accuracy: 0.9643\n",
      "Epoch 9/10\n",
      "28/28 [==============================] - 21s 765ms/step - loss: 0.5926 - accuracy: 0.8267 - val_loss: 0.0880 - val_accuracy: 0.9773\n",
      "Epoch 10/10\n",
      "28/28 [==============================] - 21s 774ms/step - loss: 0.5183 - accuracy: 0.8340 - val_loss: 0.0904 - val_accuracy: 0.9781\n",
      "Duration: 0:03:32.648128\n"
     ]
    }
   ],
   "source": [
    "n=0\n",
    "print(n)\n",
    "\n",
    "models_dsa[n].fit_model(image_sets_dsa[n],label_sets_dsa[n],x_val,y_val)\n",
    "n = n+1"
   ]
  },
  {
   "cell_type": "code",
   "execution_count": 52,
   "id": "c24fa024",
   "metadata": {},
   "outputs": [
    {
     "name": "stdout",
     "output_type": "stream",
     "text": [
      "1\n",
      "Epoch 1/10\n",
      "55/55 [==============================] - 39s 646ms/step - loss: 1.2882 - accuracy: 0.6980 - val_loss: 0.0397 - val_accuracy: 0.9908\n",
      "Epoch 2/10\n",
      "55/55 [==============================] - 35s 648ms/step - loss: 0.7389 - accuracy: 0.8016 - val_loss: 0.0417 - val_accuracy: 0.9890\n",
      "Epoch 3/10\n",
      "55/55 [==============================] - 35s 646ms/step - loss: 0.6072 - accuracy: 0.8353 - val_loss: 0.0758 - val_accuracy: 0.9829\n",
      "Epoch 4/10\n",
      "55/55 [==============================] - 36s 649ms/step - loss: 0.4917 - accuracy: 0.8552 - val_loss: 0.0587 - val_accuracy: 0.9849\n",
      "Epoch 5/10\n",
      "55/55 [==============================] - 36s 655ms/step - loss: 0.4719 - accuracy: 0.8600 - val_loss: 0.0370 - val_accuracy: 0.9939\n",
      "Epoch 6/10\n",
      "55/55 [==============================] - 36s 649ms/step - loss: 0.3838 - accuracy: 0.8899 - val_loss: 0.0636 - val_accuracy: 0.9844\n",
      "Epoch 7/10\n",
      "55/55 [==============================] - 36s 650ms/step - loss: 0.3687 - accuracy: 0.8869 - val_loss: 0.0579 - val_accuracy: 0.9862\n",
      "Epoch 8/10\n",
      "55/55 [==============================] - 35s 647ms/step - loss: 0.3309 - accuracy: 0.8992 - val_loss: 0.0300 - val_accuracy: 0.9918\n",
      "Epoch 9/10\n",
      "55/55 [==============================] - 35s 647ms/step - loss: 0.2787 - accuracy: 0.9159 - val_loss: 0.0367 - val_accuracy: 0.9929\n",
      "Epoch 10/10\n",
      "55/55 [==============================] - 36s 651ms/step - loss: 0.2488 - accuracy: 0.9346 - val_loss: 0.0420 - val_accuracy: 0.9911\n",
      "Duration: 0:05:59.097222\n"
     ]
    }
   ],
   "source": [
    "n=1\n",
    "print(n)\n",
    "\n",
    "models_dsa[n].fit_model(image_sets_dsa[n],label_sets_dsa[n],x_val,y_val)\n",
    "n = n+1"
   ]
  },
  {
   "cell_type": "code",
   "execution_count": 53,
   "id": "2582ba35",
   "metadata": {},
   "outputs": [
    {
     "name": "stdout",
     "output_type": "stream",
     "text": [
      "2\n",
      "Epoch 1/10\n",
      "83/83 [==============================] - 54s 605ms/step - loss: 0.9661 - accuracy: 0.7716 - val_loss: 0.0507 - val_accuracy: 0.9870\n",
      "Epoch 2/10\n",
      "83/83 [==============================] - 50s 605ms/step - loss: 0.5532 - accuracy: 0.8513 - val_loss: 0.0445 - val_accuracy: 0.9872\n",
      "Epoch 3/10\n",
      "83/83 [==============================] - 50s 607ms/step - loss: 0.3728 - accuracy: 0.8926 - val_loss: 0.0502 - val_accuracy: 0.9900\n",
      "Epoch 4/10\n",
      "83/83 [==============================] - 50s 609ms/step - loss: 0.3756 - accuracy: 0.8934 - val_loss: 0.1486 - val_accuracy: 0.9604\n",
      "Epoch 5/10\n",
      "83/83 [==============================] - 50s 607ms/step - loss: 0.3449 - accuracy: 0.8978 - val_loss: 0.0565 - val_accuracy: 0.9852\n",
      "Epoch 6/10\n",
      "83/83 [==============================] - 51s 610ms/step - loss: 0.2856 - accuracy: 0.9169 - val_loss: 0.0427 - val_accuracy: 0.9916\n",
      "Epoch 7/10\n",
      "83/83 [==============================] - 51s 611ms/step - loss: 0.2541 - accuracy: 0.9304 - val_loss: 0.0401 - val_accuracy: 0.9903\n",
      "Epoch 8/10\n",
      "83/83 [==============================] - 51s 617ms/step - loss: 0.2642 - accuracy: 0.9233 - val_loss: 0.0444 - val_accuracy: 0.9908\n",
      "Epoch 9/10\n",
      "83/83 [==============================] - 51s 612ms/step - loss: 0.1961 - accuracy: 0.9435 - val_loss: 0.0863 - val_accuracy: 0.9816\n",
      "Epoch 10/10\n",
      "83/83 [==============================] - 51s 613ms/step - loss: 0.1984 - accuracy: 0.9436 - val_loss: 0.0663 - val_accuracy: 0.9862\n",
      "Duration: 0:08:28.804284\n"
     ]
    }
   ],
   "source": [
    "n=2\n",
    "print(n)\n",
    "\n",
    "models_dsa[n].fit_model(image_sets_dsa[n],label_sets_dsa[n],x_val,y_val)\n",
    "n = n+1"
   ]
  },
  {
   "cell_type": "code",
   "execution_count": 54,
   "id": "62d686d3",
   "metadata": {},
   "outputs": [
    {
     "name": "stdout",
     "output_type": "stream",
     "text": [
      "3\n",
      "Epoch 1/10\n",
      "110/110 [==============================] - 70s 603ms/step - loss: 0.6881 - accuracy: 0.8420 - val_loss: 0.0361 - val_accuracy: 0.9913\n",
      "Epoch 2/10\n",
      "110/110 [==============================] - 66s 604ms/step - loss: 0.3736 - accuracy: 0.8990 - val_loss: 0.0780 - val_accuracy: 0.9814\n",
      "Epoch 3/10\n",
      "110/110 [==============================] - 66s 603ms/step - loss: 0.3230 - accuracy: 0.9109 - val_loss: 0.0396 - val_accuracy: 0.9923\n",
      "Epoch 4/10\n",
      "110/110 [==============================] - 67s 605ms/step - loss: 0.2718 - accuracy: 0.9191 - val_loss: 0.0593 - val_accuracy: 0.9865\n",
      "Epoch 5/10\n",
      "110/110 [==============================] - 67s 607ms/step - loss: 0.2507 - accuracy: 0.9278 - val_loss: 0.1209 - val_accuracy: 0.9717\n",
      "Epoch 6/10\n",
      "110/110 [==============================] - 70s 633ms/step - loss: 0.2251 - accuracy: 0.9357 - val_loss: 0.0501 - val_accuracy: 0.9903\n",
      "Epoch 7/10\n",
      "110/110 [==============================] - 66s 604ms/step - loss: 0.1840 - accuracy: 0.9471 - val_loss: 0.0412 - val_accuracy: 0.9918\n",
      "Epoch 8/10\n",
      "110/110 [==============================] - 66s 603ms/step - loss: 0.1927 - accuracy: 0.9481 - val_loss: 0.0381 - val_accuracy: 0.9885\n",
      "Epoch 9/10\n",
      "110/110 [==============================] - 66s 603ms/step - loss: 0.1788 - accuracy: 0.9517 - val_loss: 0.0849 - val_accuracy: 0.9788\n",
      "Epoch 10/10\n",
      "110/110 [==============================] - 66s 604ms/step - loss: 0.1671 - accuracy: 0.9548 - val_loss: 0.0542 - val_accuracy: 0.9878\n",
      "Duration: 0:11:10.866756\n"
     ]
    }
   ],
   "source": [
    "print(n)\n",
    "\n",
    "models_dsa[n].fit_model(image_sets_dsa[n],label_sets_dsa[n],x_val,y_val)\n",
    "n = n+1"
   ]
  },
  {
   "cell_type": "code",
   "execution_count": 55,
   "id": "a675c8a7",
   "metadata": {},
   "outputs": [
    {
     "name": "stdout",
     "output_type": "stream",
     "text": [
      "4\n",
      "Epoch 1/10\n",
      "137/137 [==============================] - 85s 598ms/step - loss: 0.5614 - accuracy: 0.8771 - val_loss: 0.0421 - val_accuracy: 0.9918\n",
      "Epoch 2/10\n",
      "137/137 [==============================] - 81s 593ms/step - loss: 0.3077 - accuracy: 0.9184 - val_loss: 0.0400 - val_accuracy: 0.9906\n",
      "Epoch 3/10\n",
      "137/137 [==============================] - 81s 590ms/step - loss: 0.2671 - accuracy: 0.9235 - val_loss: 0.0563 - val_accuracy: 0.9893\n",
      "Epoch 4/10\n",
      "137/137 [==============================] - 81s 591ms/step - loss: 0.2143 - accuracy: 0.9394 - val_loss: 0.0527 - val_accuracy: 0.9903\n",
      "Epoch 5/10\n",
      "137/137 [==============================] - 81s 590ms/step - loss: 0.2174 - accuracy: 0.9416 - val_loss: 0.0503 - val_accuracy: 0.9900\n",
      "Epoch 6/10\n",
      "137/137 [==============================] - 81s 591ms/step - loss: 0.1925 - accuracy: 0.9454 - val_loss: 0.0465 - val_accuracy: 0.9883\n",
      "Epoch 7/10\n",
      "137/137 [==============================] - 81s 592ms/step - loss: 0.1704 - accuracy: 0.9510 - val_loss: 0.0788 - val_accuracy: 0.9849\n",
      "Epoch 8/10\n",
      "137/137 [==============================] - 81s 592ms/step - loss: 0.1651 - accuracy: 0.9553 - val_loss: 0.0711 - val_accuracy: 0.9883\n",
      "Epoch 9/10\n",
      "137/137 [==============================] - 81s 591ms/step - loss: 0.1604 - accuracy: 0.9543 - val_loss: 0.1169 - val_accuracy: 0.9758\n",
      "Epoch 10/10\n",
      "137/137 [==============================] - 81s 590ms/step - loss: 0.1617 - accuracy: 0.9542 - val_loss: 0.0678 - val_accuracy: 0.9834\n",
      "Duration: 0:13:33.910937\n"
     ]
    }
   ],
   "source": [
    "print(n)#4\n",
    "\n",
    "models_dsa[n].fit_model(image_sets_dsa[n],label_sets_dsa[n],x_val,y_val)\n",
    "n = n+1"
   ]
  },
  {
   "cell_type": "code",
   "execution_count": 56,
   "id": "9098044d",
   "metadata": {},
   "outputs": [
    {
     "name": "stdout",
     "output_type": "stream",
     "text": [
      "5\n",
      "Epoch 1/10\n",
      "165/165 [==============================] - 99s 581ms/step - loss: 0.4494 - accuracy: 0.8948 - val_loss: 0.0398 - val_accuracy: 0.9918\n",
      "Epoch 2/10\n",
      "165/165 [==============================] - 98s 597ms/step - loss: 0.2796 - accuracy: 0.9258 - val_loss: 0.0455 - val_accuracy: 0.9903\n",
      "Epoch 3/10\n",
      "165/165 [==============================] - 98s 595ms/step - loss: 0.2355 - accuracy: 0.9354 - val_loss: 0.0542 - val_accuracy: 0.9852\n",
      "Epoch 4/10\n",
      "165/165 [==============================] - 98s 593ms/step - loss: 0.2248 - accuracy: 0.9422 - val_loss: 0.0589 - val_accuracy: 0.9870\n",
      "Epoch 5/10\n",
      "165/165 [==============================] - 98s 591ms/step - loss: 0.1864 - accuracy: 0.9457 - val_loss: 0.0474 - val_accuracy: 0.9888\n",
      "Epoch 6/10\n",
      "165/165 [==============================] - 98s 591ms/step - loss: 0.1666 - accuracy: 0.9542 - val_loss: 0.0715 - val_accuracy: 0.9821\n",
      "Epoch 7/10\n",
      "165/165 [==============================] - 98s 592ms/step - loss: 0.1932 - accuracy: 0.9514 - val_loss: 0.0526 - val_accuracy: 0.9867\n",
      "Epoch 8/10\n",
      "165/165 [==============================] - 97s 591ms/step - loss: 0.1710 - accuracy: 0.9586 - val_loss: 0.0795 - val_accuracy: 0.9832\n",
      "Epoch 9/10\n",
      "165/165 [==============================] - 98s 592ms/step - loss: 0.1476 - accuracy: 0.9593 - val_loss: 0.0712 - val_accuracy: 0.9893\n",
      "Epoch 10/10\n",
      "165/165 [==============================] - 97s 590ms/step - loss: 0.1466 - accuracy: 0.9623 - val_loss: 0.0798 - val_accuracy: 0.9832\n",
      "Duration: 0:16:18.898207\n"
     ]
    }
   ],
   "source": [
    "n=5\n",
    "print(n)\n",
    "\n",
    "models_dsa[n].fit_model(image_sets_dsa[n],label_sets_dsa[n],x_val,y_val)\n",
    "n = n+1"
   ]
  },
  {
   "cell_type": "code",
   "execution_count": 57,
   "id": "5d2e4246",
   "metadata": {},
   "outputs": [
    {
     "name": "stdout",
     "output_type": "stream",
     "text": [
      "6\n",
      "Epoch 1/10\n",
      "192/192 [==============================] - 119s 601ms/step - loss: 0.4380 - accuracy: 0.8992 - val_loss: 0.0346 - val_accuracy: 0.9918\n",
      "Epoch 2/10\n",
      "192/192 [==============================] - 118s 615ms/step - loss: 0.2271 - accuracy: 0.9370 - val_loss: 0.0486 - val_accuracy: 0.9883\n",
      "Epoch 3/10\n",
      "192/192 [==============================] - 117s 608ms/step - loss: 0.2137 - accuracy: 0.9405 - val_loss: 0.0497 - val_accuracy: 0.9878\n",
      "Epoch 4/10\n",
      "192/192 [==============================] - 117s 609ms/step - loss: 0.1763 - accuracy: 0.9494 - val_loss: 0.0681 - val_accuracy: 0.9870\n",
      "Epoch 5/10\n",
      "192/192 [==============================] - 117s 610ms/step - loss: 0.1927 - accuracy: 0.9487 - val_loss: 0.0557 - val_accuracy: 0.9872\n",
      "Epoch 6/10\n",
      "192/192 [==============================] - 117s 611ms/step - loss: 0.1495 - accuracy: 0.9600 - val_loss: 0.0777 - val_accuracy: 0.9829\n",
      "Epoch 7/10\n",
      "192/192 [==============================] - 117s 609ms/step - loss: 0.1397 - accuracy: 0.9650 - val_loss: 0.0807 - val_accuracy: 0.9855\n",
      "Epoch 8/10\n",
      "192/192 [==============================] - 117s 611ms/step - loss: 0.1361 - accuracy: 0.9621 - val_loss: 0.0562 - val_accuracy: 0.9862\n",
      "Epoch 9/10\n",
      "192/192 [==============================] - 118s 613ms/step - loss: 0.1276 - accuracy: 0.9666 - val_loss: 0.0720 - val_accuracy: 0.9872\n",
      "Epoch 10/10\n",
      "192/192 [==============================] - 118s 614ms/step - loss: 0.1585 - accuracy: 0.9611 - val_loss: 0.0743 - val_accuracy: 0.9865\n",
      "Duration: 0:19:34.683663\n"
     ]
    }
   ],
   "source": [
    "print(n)\n",
    "\n",
    "models_dsa[n].fit_model(image_sets_dsa[n],label_sets_dsa[n],x_val,y_val)\n",
    "n = n+1"
   ]
  },
  {
   "cell_type": "code",
   "execution_count": 58,
   "id": "13254a67",
   "metadata": {},
   "outputs": [
    {
     "name": "stdout",
     "output_type": "stream",
     "text": [
      "7\n",
      "Epoch 1/10\n",
      "219/219 [==============================] - 136s 604ms/step - loss: 0.3528 - accuracy: 0.9159 - val_loss: 0.0630 - val_accuracy: 0.9880\n",
      "Epoch 2/10\n",
      "219/219 [==============================] - 129s 588ms/step - loss: 0.2234 - accuracy: 0.9422 - val_loss: 0.0454 - val_accuracy: 0.9898\n",
      "Epoch 3/10\n",
      "219/219 [==============================] - 116s 531ms/step - loss: 0.1758 - accuracy: 0.9526 - val_loss: 0.0453 - val_accuracy: 0.9872\n",
      "Epoch 4/10\n",
      "219/219 [==============================] - 116s 530ms/step - loss: 0.1733 - accuracy: 0.9550 - val_loss: 0.0637 - val_accuracy: 0.9883\n",
      "Epoch 5/10\n",
      "219/219 [==============================] - 116s 531ms/step - loss: 0.1768 - accuracy: 0.9540 - val_loss: 0.0652 - val_accuracy: 0.9855\n",
      "Epoch 6/10\n",
      "219/219 [==============================] - 118s 538ms/step - loss: 0.1553 - accuracy: 0.9570 - val_loss: 0.0403 - val_accuracy: 0.9913\n",
      "Epoch 7/10\n",
      "219/219 [==============================] - 117s 533ms/step - loss: 0.1313 - accuracy: 0.9635 - val_loss: 0.0355 - val_accuracy: 0.9908\n",
      "Epoch 8/10\n",
      "219/219 [==============================] - 116s 530ms/step - loss: 0.1390 - accuracy: 0.9639 - val_loss: 0.0460 - val_accuracy: 0.9936\n",
      "Epoch 9/10\n",
      "219/219 [==============================] - 116s 532ms/step - loss: 0.1359 - accuracy: 0.9633 - val_loss: 0.0573 - val_accuracy: 0.9903\n",
      "Epoch 10/10\n",
      "219/219 [==============================] - 116s 531ms/step - loss: 0.1306 - accuracy: 0.9641 - val_loss: 0.0534 - val_accuracy: 0.9872\n",
      "Duration: 0:19:56.383987\n"
     ]
    }
   ],
   "source": [
    "print(n)\n",
    "\n",
    "models_dsa[n].fit_model(image_sets_dsa[n],label_sets_dsa[n],x_val,y_val)\n",
    "n = n+1"
   ]
  },
  {
   "cell_type": "code",
   "execution_count": 59,
   "id": "ff7478ae",
   "metadata": {},
   "outputs": [
    {
     "name": "stdout",
     "output_type": "stream",
     "text": [
      "8\n",
      "Epoch 1/10\n",
      "247/247 [==============================] - 135s 533ms/step - loss: 0.3178 - accuracy: 0.9231 - val_loss: 0.0303 - val_accuracy: 0.9923\n",
      "Epoch 2/10\n",
      "247/247 [==============================] - 132s 533ms/step - loss: 0.2022 - accuracy: 0.9464 - val_loss: 0.0501 - val_accuracy: 0.9885\n",
      "Epoch 3/10\n",
      "247/247 [==============================] - 132s 536ms/step - loss: 0.1811 - accuracy: 0.9519 - val_loss: 0.0383 - val_accuracy: 0.9918\n",
      "Epoch 4/10\n",
      "247/247 [==============================] - 153s 620ms/step - loss: 0.1665 - accuracy: 0.9573 - val_loss: 0.4071 - val_accuracy: 0.9140\n",
      "Epoch 5/10\n",
      "247/247 [==============================] - 189s 765ms/step - loss: 0.1670 - accuracy: 0.9549 - val_loss: 0.0340 - val_accuracy: 0.9913\n",
      "Epoch 6/10\n",
      "247/247 [==============================] - 194s 784ms/step - loss: 0.1458 - accuracy: 0.9620 - val_loss: 0.0667 - val_accuracy: 0.9821\n",
      "Epoch 7/10\n",
      "247/247 [==============================] - 192s 778ms/step - loss: 0.1594 - accuracy: 0.9605 - val_loss: 0.0489 - val_accuracy: 0.9921\n",
      "Epoch 8/10\n",
      "247/247 [==============================] - 194s 785ms/step - loss: 0.1376 - accuracy: 0.9640 - val_loss: 0.0449 - val_accuracy: 0.9931\n",
      "Epoch 9/10\n",
      "247/247 [==============================] - 191s 774ms/step - loss: 0.1390 - accuracy: 0.9664 - val_loss: 0.0760 - val_accuracy: 0.9783\n",
      "Epoch 10/10\n",
      "247/247 [==============================] - 176s 713ms/step - loss: 0.1380 - accuracy: 0.9657 - val_loss: 0.0588 - val_accuracy: 0.9860\n",
      "Duration: 0:28:07.170786\n"
     ]
    }
   ],
   "source": [
    "print(n)\n",
    "\n",
    "models_dsa[n].fit_model(image_sets_dsa[n],label_sets_dsa[n],x_val,y_val)\n",
    "n = n+1"
   ]
  },
  {
   "cell_type": "code",
   "execution_count": 60,
   "id": "529ba2f1",
   "metadata": {},
   "outputs": [
    {
     "name": "stdout",
     "output_type": "stream",
     "text": [
      "9\n",
      "Epoch 1/10\n",
      "274/274 [==============================] - 214s 741ms/step - loss: 0.3052 - accuracy: 0.9272 - val_loss: 0.0551 - val_accuracy: 0.9880\n",
      "Epoch 2/10\n",
      "274/274 [==============================] - 184s 671ms/step - loss: 0.1957 - accuracy: 0.9490 - val_loss: 0.0274 - val_accuracy: 0.9934\n",
      "Epoch 3/10\n",
      "274/274 [==============================] - 188s 685ms/step - loss: 0.1722 - accuracy: 0.9542 - val_loss: 0.0380 - val_accuracy: 0.9893\n",
      "Epoch 4/10\n",
      "274/274 [==============================] - 188s 685ms/step - loss: 0.1670 - accuracy: 0.9565 - val_loss: 0.0365 - val_accuracy: 0.9895\n",
      "Epoch 5/10\n",
      "274/274 [==============================] - 191s 698ms/step - loss: 0.1505 - accuracy: 0.9598 - val_loss: 0.0438 - val_accuracy: 0.9913\n",
      "Epoch 6/10\n",
      "274/274 [==============================] - 188s 685ms/step - loss: 0.1450 - accuracy: 0.9635 - val_loss: 0.0405 - val_accuracy: 0.9911\n",
      "Epoch 7/10\n",
      "274/274 [==============================] - 182s 664ms/step - loss: 0.1379 - accuracy: 0.9639 - val_loss: 0.0741 - val_accuracy: 0.9844\n",
      "Epoch 8/10\n",
      "274/274 [==============================] - 181s 662ms/step - loss: 0.1341 - accuracy: 0.9644 - val_loss: 0.0781 - val_accuracy: 0.9847\n",
      "Epoch 9/10\n",
      "274/274 [==============================] - 184s 673ms/step - loss: 0.1489 - accuracy: 0.9656 - val_loss: 0.0457 - val_accuracy: 0.9906\n",
      "Epoch 10/10\n",
      "274/274 [==============================] - 173s 633ms/step - loss: 0.1378 - accuracy: 0.9660 - val_loss: 0.0830 - val_accuracy: 0.9893\n",
      "Duration: 0:31:12.584562\n"
     ]
    }
   ],
   "source": [
    "print(n)#9\n",
    "\n",
    "models_dsa[n].fit_model(image_sets_dsa[n],label_sets_dsa[n],x_val,y_val)\n",
    "n = n+1"
   ]
  },
  {
   "cell_type": "code",
   "execution_count": 61,
   "id": "fb965078",
   "metadata": {},
   "outputs": [
    {
     "name": "stdout",
     "output_type": "stream",
     "text": [
      "10\n",
      "Epoch 1/10\n",
      "301/301 [==============================] - 167s 544ms/step - loss: 0.2724 - accuracy: 0.9345 - val_loss: 0.0431 - val_accuracy: 0.9898\n",
      "Epoch 2/10\n",
      "301/301 [==============================] - 170s 566ms/step - loss: 0.2048 - accuracy: 0.9462 - val_loss: 0.0409 - val_accuracy: 0.9895\n",
      "Epoch 3/10\n",
      "301/301 [==============================] - 163s 542ms/step - loss: 0.1603 - accuracy: 0.9580 - val_loss: 0.0449 - val_accuracy: 0.9903\n",
      "Epoch 4/10\n",
      "301/301 [==============================] - 166s 552ms/step - loss: 0.1591 - accuracy: 0.9580 - val_loss: 0.0422 - val_accuracy: 0.9906\n",
      "Epoch 5/10\n",
      "301/301 [==============================] - 163s 542ms/step - loss: 0.1542 - accuracy: 0.9605 - val_loss: 0.0405 - val_accuracy: 0.9936\n",
      "Epoch 6/10\n",
      "301/301 [==============================] - 164s 544ms/step - loss: 0.1485 - accuracy: 0.9622 - val_loss: 0.0509 - val_accuracy: 0.9911\n",
      "Epoch 7/10\n",
      "301/301 [==============================] - 164s 544ms/step - loss: 0.1461 - accuracy: 0.9636 - val_loss: 0.0325 - val_accuracy: 0.9929\n",
      "Epoch 8/10\n",
      "301/301 [==============================] - 164s 543ms/step - loss: 0.1484 - accuracy: 0.9652 - val_loss: 0.0668 - val_accuracy: 0.9903\n",
      "Epoch 9/10\n",
      "301/301 [==============================] - 176s 584ms/step - loss: 0.1644 - accuracy: 0.9628 - val_loss: 0.0422 - val_accuracy: 0.9908\n",
      "Epoch 10/10\n",
      "301/301 [==============================] - 187s 623ms/step - loss: 0.1350 - accuracy: 0.9665 - val_loss: 0.0558 - val_accuracy: 0.9900\n",
      "Duration: 0:28:04.322471\n"
     ]
    }
   ],
   "source": [
    "n=10\n",
    "print(n)\n",
    "\n",
    "models_dsa[n].fit_model(image_sets_dsa[n],label_sets_dsa[n],x_val,y_val)\n",
    "n = n+1"
   ]
  },
  {
   "cell_type": "code",
   "execution_count": 62,
   "id": "552adb28",
   "metadata": {},
   "outputs": [
    {
     "name": "stdout",
     "output_type": "stream",
     "text": [
      "11\n",
      "Epoch 1/10\n",
      "329/329 [==============================] - 209s 626ms/step - loss: 0.2741 - accuracy: 0.9367 - val_loss: 0.0366 - val_accuracy: 0.9913\n",
      "Epoch 2/10\n",
      "329/329 [==============================] - 207s 630ms/step - loss: 0.1784 - accuracy: 0.9532 - val_loss: 0.0283 - val_accuracy: 0.9934\n",
      "Epoch 3/10\n",
      "329/329 [==============================] - 207s 630ms/step - loss: 0.1698 - accuracy: 0.9561 - val_loss: 0.0367 - val_accuracy: 0.9908\n",
      "Epoch 4/10\n",
      "329/329 [==============================] - 207s 630ms/step - loss: 0.1503 - accuracy: 0.9620 - val_loss: 0.0942 - val_accuracy: 0.9804\n",
      "Epoch 5/10\n",
      "329/329 [==============================] - 209s 636ms/step - loss: 0.1488 - accuracy: 0.9605 - val_loss: 0.0487 - val_accuracy: 0.9885\n",
      "Epoch 6/10\n",
      "329/329 [==============================] - 209s 635ms/step - loss: 0.1317 - accuracy: 0.9650 - val_loss: 0.0546 - val_accuracy: 0.9913\n",
      "Epoch 7/10\n",
      "329/329 [==============================] - 208s 633ms/step - loss: 0.1370 - accuracy: 0.9670 - val_loss: 0.0729 - val_accuracy: 0.9824\n",
      "Epoch 8/10\n",
      "329/329 [==============================] - 209s 634ms/step - loss: 0.1366 - accuracy: 0.9661 - val_loss: 0.0543 - val_accuracy: 0.9926\n",
      "Epoch 9/10\n",
      "329/329 [==============================] - 208s 632ms/step - loss: 0.1259 - accuracy: 0.9695 - val_loss: 0.0400 - val_accuracy: 0.9941\n",
      "Epoch 10/10\n",
      "329/329 [==============================] - 208s 633ms/step - loss: 0.1469 - accuracy: 0.9670 - val_loss: 0.0622 - val_accuracy: 0.9906\n",
      "Duration: 0:34:42.352902\n"
     ]
    }
   ],
   "source": [
    "print(n)\n",
    "\n",
    "models_dsa[n].fit_model(image_sets_dsa[n],label_sets_dsa[n],x_val,y_val)\n",
    "n = n+1"
   ]
  },
  {
   "cell_type": "code",
   "execution_count": 63,
   "id": "110ad1aa",
   "metadata": {},
   "outputs": [
    {
     "name": "stdout",
     "output_type": "stream",
     "text": [
      "12\n",
      "Epoch 1/10\n",
      "356/356 [==============================] - 218s 601ms/step - loss: 0.2785 - accuracy: 0.9360 - val_loss: 0.0672 - val_accuracy: 0.9916\n",
      "Epoch 2/10\n",
      "356/356 [==============================] - 203s 569ms/step - loss: 0.1732 - accuracy: 0.9561 - val_loss: 0.0352 - val_accuracy: 0.9926\n",
      "Epoch 3/10\n",
      "356/356 [==============================] - 203s 570ms/step - loss: 0.1437 - accuracy: 0.9614 - val_loss: 0.1065 - val_accuracy: 0.9730\n",
      "Epoch 4/10\n",
      "356/356 [==============================] - 202s 568ms/step - loss: 0.1512 - accuracy: 0.9602 - val_loss: 0.0232 - val_accuracy: 0.9954\n",
      "Epoch 5/10\n",
      "356/356 [==============================] - 202s 567ms/step - loss: 0.1466 - accuracy: 0.9638 - val_loss: 0.0997 - val_accuracy: 0.9775\n",
      "Epoch 6/10\n",
      "356/356 [==============================] - 201s 564ms/step - loss: 0.1451 - accuracy: 0.9639 - val_loss: 0.0505 - val_accuracy: 0.9890\n",
      "Epoch 7/10\n",
      "356/356 [==============================] - 201s 564ms/step - loss: 0.1432 - accuracy: 0.9656 - val_loss: 0.0322 - val_accuracy: 0.9913\n",
      "Epoch 8/10\n",
      "356/356 [==============================] - 203s 571ms/step - loss: 0.1371 - accuracy: 0.9659 - val_loss: 0.0994 - val_accuracy: 0.9860\n",
      "Epoch 9/10\n",
      "356/356 [==============================] - 231s 650ms/step - loss: 0.1363 - accuracy: 0.9668 - val_loss: 0.0392 - val_accuracy: 0.9903\n",
      "Epoch 10/10\n",
      "356/356 [==============================] - 232s 651ms/step - loss: 0.1391 - accuracy: 0.9664 - val_loss: 0.0552 - val_accuracy: 0.9865\n",
      "Duration: 0:34:55.471742\n"
     ]
    }
   ],
   "source": [
    "print(n)\n",
    "\n",
    "models_dsa[n].fit_model(image_sets_dsa[n],label_sets_dsa[n],x_val,y_val)\n",
    "n = n+1"
   ]
  },
  {
   "cell_type": "code",
   "execution_count": 64,
   "id": "506b30e2",
   "metadata": {},
   "outputs": [
    {
     "name": "stdout",
     "output_type": "stream",
     "text": [
      "13\n",
      "Epoch 1/10\n",
      "383/383 [==============================] - 255s 656ms/step - loss: 0.2571 - accuracy: 0.9430 - val_loss: 0.0448 - val_accuracy: 0.9911\n",
      "Epoch 2/10\n",
      "383/383 [==============================] - 252s 659ms/step - loss: 0.1642 - accuracy: 0.9559 - val_loss: 0.0376 - val_accuracy: 0.9911\n",
      "Epoch 3/10\n",
      "383/383 [==============================] - 389s 1s/step - loss: 0.1518 - accuracy: 0.9592 - val_loss: 0.0544 - val_accuracy: 0.9885\n",
      "Epoch 4/10\n",
      "383/383 [==============================] - 540s 1s/step - loss: 0.1600 - accuracy: 0.9593 - val_loss: 0.0259 - val_accuracy: 0.9939\n",
      "Epoch 5/10\n",
      "383/383 [==============================] - 532s 1s/step - loss: 0.1406 - accuracy: 0.9647 - val_loss: 0.0878 - val_accuracy: 0.9880\n",
      "Epoch 6/10\n",
      "383/383 [==============================] - 544s 1s/step - loss: 0.1317 - accuracy: 0.9676 - val_loss: 0.0523 - val_accuracy: 0.9880\n",
      "Epoch 7/10\n",
      "383/383 [==============================] - 501s 1s/step - loss: 0.1440 - accuracy: 0.9674 - val_loss: 0.0344 - val_accuracy: 0.9923\n",
      "Epoch 8/10\n",
      "383/383 [==============================] - 498s 1s/step - loss: 0.1370 - accuracy: 0.9665 - val_loss: 0.0628 - val_accuracy: 0.9855\n",
      "Epoch 9/10\n",
      "383/383 [==============================] - 544s 1s/step - loss: 0.1367 - accuracy: 0.9665 - val_loss: 0.0430 - val_accuracy: 0.9916\n",
      "Epoch 10/10\n",
      "383/383 [==============================] - 531s 1s/step - loss: 0.1438 - accuracy: 0.9677 - val_loss: 0.0410 - val_accuracy: 0.9934\n",
      "Duration: 1:16:26.044666\n"
     ]
    }
   ],
   "source": [
    "print(n)\n",
    "\n",
    "models_dsa[n].fit_model(image_sets_dsa[n],label_sets_dsa[n],x_val,y_val)\n",
    "n = n+1"
   ]
  },
  {
   "cell_type": "code",
   "execution_count": 65,
   "id": "bb438669",
   "metadata": {},
   "outputs": [
    {
     "name": "stdout",
     "output_type": "stream",
     "text": [
      "14\n",
      "Epoch 1/10\n",
      "411/411 [==============================] - 572s 1s/step - loss: 0.2163 - accuracy: 0.9477 - val_loss: 0.0330 - val_accuracy: 0.9926\n",
      "Epoch 2/10\n",
      "411/411 [==============================] - 569s 1s/step - loss: 0.1656 - accuracy: 0.9584 - val_loss: 0.0351 - val_accuracy: 0.9903\n",
      "Epoch 3/10\n",
      "411/411 [==============================] - 565s 1s/step - loss: 0.1493 - accuracy: 0.9623 - val_loss: 0.0394 - val_accuracy: 0.9921\n",
      "Epoch 4/10\n",
      "411/411 [==============================] - 490s 1s/step - loss: 0.1394 - accuracy: 0.9642 - val_loss: 0.0651 - val_accuracy: 0.9906\n",
      "Epoch 5/10\n",
      "411/411 [==============================] - 437s 1s/step - loss: 0.1441 - accuracy: 0.9629 - val_loss: 0.0544 - val_accuracy: 0.9862\n",
      "Epoch 6/10\n",
      "411/411 [==============================] - 441s 1s/step - loss: 0.1371 - accuracy: 0.9668 - val_loss: 0.0663 - val_accuracy: 0.9855\n",
      "Epoch 7/10\n",
      "411/411 [==============================] - 474s 1s/step - loss: 0.1400 - accuracy: 0.9672 - val_loss: 0.0615 - val_accuracy: 0.9888\n",
      "Epoch 8/10\n",
      "411/411 [==============================] - 572s 1s/step - loss: 0.1502 - accuracy: 0.9631 - val_loss: 0.0335 - val_accuracy: 0.9931\n",
      "Epoch 9/10\n",
      "411/411 [==============================] - 556s 1s/step - loss: 0.1364 - accuracy: 0.9692 - val_loss: 0.0583 - val_accuracy: 0.9867\n",
      "Epoch 10/10\n",
      "411/411 [==============================] - 562s 1s/step - loss: 0.1553 - accuracy: 0.9664 - val_loss: 0.0824 - val_accuracy: 0.9837\n",
      "Duration: 1:27:18.271169\n"
     ]
    }
   ],
   "source": [
    "print(n)#14\n",
    "\n",
    "models_dsa[n].fit_model(image_sets_dsa[n],label_sets_dsa[n],x_val,y_val)\n",
    "n = n+1"
   ]
  },
  {
   "cell_type": "code",
   "execution_count": 66,
   "id": "9c988977",
   "metadata": {},
   "outputs": [
    {
     "name": "stdout",
     "output_type": "stream",
     "text": [
      "15\n",
      "Epoch 1/10\n",
      "438/438 [==============================] - 580s 1s/step - loss: 0.2175 - accuracy: 0.9498 - val_loss: 0.0331 - val_accuracy: 0.9939\n",
      "Epoch 2/10\n",
      "438/438 [==============================] - 574s 1s/step - loss: 0.1563 - accuracy: 0.9602 - val_loss: 0.0461 - val_accuracy: 0.9913\n",
      "Epoch 3/10\n",
      "438/438 [==============================] - 573s 1s/step - loss: 0.1407 - accuracy: 0.9650 - val_loss: 0.0285 - val_accuracy: 0.9929\n",
      "Epoch 4/10\n",
      "438/438 [==============================] - 541s 1s/step - loss: 0.1394 - accuracy: 0.9654 - val_loss: 0.0296 - val_accuracy: 0.9936\n",
      "Epoch 5/10\n",
      "438/438 [==============================] - 471s 1s/step - loss: 0.1322 - accuracy: 0.9679 - val_loss: 0.0535 - val_accuracy: 0.9913\n",
      "Epoch 6/10\n",
      "438/438 [==============================] - 472s 1s/step - loss: 0.1345 - accuracy: 0.9659 - val_loss: 0.1645 - val_accuracy: 0.9694\n",
      "Epoch 7/10\n",
      "438/438 [==============================] - 466s 1s/step - loss: 0.1317 - accuracy: 0.9683 - val_loss: 0.0581 - val_accuracy: 0.9906\n",
      "Epoch 8/10\n",
      "438/438 [==============================] - 467s 1s/step - loss: 0.1265 - accuracy: 0.9709 - val_loss: 0.0244 - val_accuracy: 0.9946\n",
      "Epoch 9/10\n",
      "438/438 [==============================] - 580s 1s/step - loss: 0.1370 - accuracy: 0.9686 - val_loss: 0.0475 - val_accuracy: 0.9918\n",
      "Epoch 10/10\n",
      "438/438 [==============================] - 574s 1s/step - loss: 0.1410 - accuracy: 0.9686 - val_loss: 0.0360 - val_accuracy: 0.9936\n",
      "Duration: 1:28:17.480723\n"
     ]
    }
   ],
   "source": [
    "n=15\n",
    "print(n)\n",
    "\n",
    "models_dsa[n].fit_model(image_sets_dsa[n],label_sets_dsa[n],x_val,y_val)\n",
    "n = n+1"
   ]
  },
  {
   "cell_type": "code",
   "execution_count": 67,
   "id": "ffd1bd2d",
   "metadata": {},
   "outputs": [],
   "source": [
    "import time\n",
    "time.sleep(400)"
   ]
  },
  {
   "cell_type": "code",
   "execution_count": 68,
   "id": "ef562e5b",
   "metadata": {},
   "outputs": [
    {
     "name": "stdout",
     "output_type": "stream",
     "text": [
      "16\n",
      "Epoch 1/10\n",
      "465/465 [==============================] - 586s 1s/step - loss: 0.2166 - accuracy: 0.9484 - val_loss: 0.0277 - val_accuracy: 0.9946\n",
      "Epoch 2/10\n",
      "465/465 [==============================] - 501s 1s/step - loss: 0.1482 - accuracy: 0.9609 - val_loss: 0.0296 - val_accuracy: 0.9934\n",
      "Epoch 3/10\n",
      "465/465 [==============================] - 500s 1s/step - loss: 0.1461 - accuracy: 0.9636 - val_loss: 0.0361 - val_accuracy: 0.9921\n",
      "Epoch 4/10\n",
      "465/465 [==============================] - 528s 1s/step - loss: 0.1285 - accuracy: 0.9676 - val_loss: 0.0369 - val_accuracy: 0.9923\n",
      "Epoch 5/10\n",
      "465/465 [==============================] - 608s 1s/step - loss: 0.1427 - accuracy: 0.9655 - val_loss: 0.0281 - val_accuracy: 0.9941\n",
      "Epoch 6/10\n",
      "465/465 [==============================] - 610s 1s/step - loss: 0.1463 - accuracy: 0.9640 - val_loss: 0.0470 - val_accuracy: 0.9898\n",
      "Epoch 7/10\n",
      "465/465 [==============================] - 603s 1s/step - loss: 0.1395 - accuracy: 0.9679 - val_loss: 0.0236 - val_accuracy: 0.9962\n",
      "Epoch 8/10\n",
      "465/465 [==============================] - 611s 1s/step - loss: 0.1225 - accuracy: 0.9710 - val_loss: 0.0887 - val_accuracy: 0.9893\n",
      "Epoch 9/10\n",
      "465/465 [==============================] - 617s 1s/step - loss: 0.1398 - accuracy: 0.9674 - val_loss: 0.0338 - val_accuracy: 0.9926\n",
      "Epoch 10/10\n",
      "465/465 [==============================] - 533s 1s/step - loss: 0.1463 - accuracy: 0.9673 - val_loss: 0.0269 - val_accuracy: 0.9931\n",
      "Duration: 1:34:56.784518\n"
     ]
    }
   ],
   "source": [
    "print(n)\n",
    "\n",
    "models_dsa[n].fit_model(image_sets_dsa[n],label_sets_dsa[n],x_val,y_val)\n",
    "n = n+1"
   ]
  },
  {
   "cell_type": "code",
   "execution_count": null,
   "id": "02a0088e",
   "metadata": {},
   "outputs": [],
   "source": [
    "\n",
    "time.sleep(400)"
   ]
  },
  {
   "cell_type": "code",
   "execution_count": 69,
   "id": "6d4d8530",
   "metadata": {},
   "outputs": [
    {
     "name": "stdout",
     "output_type": "stream",
     "text": [
      "17\n",
      "Epoch 1/10\n",
      "493/493 [==============================] - 543s 1s/step - loss: 0.1947 - accuracy: 0.9544 - val_loss: 0.0516 - val_accuracy: 0.9923\n",
      "Epoch 2/10\n",
      "493/493 [==============================] - 532s 1s/step - loss: 0.1489 - accuracy: 0.9634 - val_loss: 0.0268 - val_accuracy: 0.9934\n",
      "Epoch 3/10\n",
      "493/493 [==============================] - 620s 1s/step - loss: 0.1432 - accuracy: 0.9651 - val_loss: 0.0311 - val_accuracy: 0.9941\n",
      "Epoch 4/10\n",
      "493/493 [==============================] - 631s 1s/step - loss: 0.1284 - accuracy: 0.9675 - val_loss: 0.0395 - val_accuracy: 0.9888\n",
      "Epoch 5/10\n",
      "493/493 [==============================] - 638s 1s/step - loss: 0.1213 - accuracy: 0.9702 - val_loss: 0.0312 - val_accuracy: 0.9952\n",
      "Epoch 6/10\n",
      "493/493 [==============================] - 634s 1s/step - loss: 0.1375 - accuracy: 0.9680 - val_loss: 0.0225 - val_accuracy: 0.9944\n",
      "Epoch 7/10\n",
      "493/493 [==============================] - 639s 1s/step - loss: 0.1359 - accuracy: 0.9685 - val_loss: 0.0375 - val_accuracy: 0.9893\n",
      "Epoch 8/10\n",
      "493/493 [==============================] - 633s 1s/step - loss: 0.1399 - accuracy: 0.9704 - val_loss: 0.0301 - val_accuracy: 0.9921\n",
      "Epoch 9/10\n",
      "493/493 [==============================] - 635s 1s/step - loss: 0.1381 - accuracy: 0.9697 - val_loss: 0.0370 - val_accuracy: 0.9929\n",
      "Epoch 10/10\n",
      "493/493 [==============================] - 633s 1s/step - loss: 0.1420 - accuracy: 0.9686 - val_loss: 0.0495 - val_accuracy: 0.9929\n",
      "Duration: 1:42:17.632519\n"
     ]
    }
   ],
   "source": [
    "print(n)\n",
    "\n",
    "models_dsa[n].fit_model(image_sets_dsa[n],label_sets_dsa[n],x_val,y_val)\n",
    "n = n+1"
   ]
  },
  {
   "cell_type": "code",
   "execution_count": 70,
   "id": "59df5459",
   "metadata": {},
   "outputs": [
    {
     "name": "stdout",
     "output_type": "stream",
     "text": [
      "18\n",
      "Epoch 1/10\n",
      "520/520 [==============================] - 671s 1s/step - loss: 0.1917 - accuracy: 0.9566 - val_loss: 0.0261 - val_accuracy: 0.9931\n",
      "Epoch 2/10\n",
      "520/520 [==============================] - 669s 1s/step - loss: 0.1405 - accuracy: 0.9631 - val_loss: 0.0971 - val_accuracy: 0.9778\n",
      "Epoch 3/10\n",
      "520/520 [==============================] - 665s 1s/step - loss: 0.1397 - accuracy: 0.9656 - val_loss: 0.0246 - val_accuracy: 0.9954\n",
      "Epoch 4/10\n",
      "520/520 [==============================] - 665s 1s/step - loss: 0.1307 - accuracy: 0.9682 - val_loss: 0.0598 - val_accuracy: 0.9860\n",
      "Epoch 5/10\n",
      "520/520 [==============================] - 667s 1s/step - loss: 0.1277 - accuracy: 0.9695 - val_loss: 0.0232 - val_accuracy: 0.9972\n",
      "Epoch 6/10\n",
      "520/520 [==============================] - 666s 1s/step - loss: 0.1218 - accuracy: 0.9702 - val_loss: 0.0323 - val_accuracy: 0.9941\n",
      "Epoch 7/10\n",
      "520/520 [==============================] - 668s 1s/step - loss: 0.1302 - accuracy: 0.9691 - val_loss: 0.0621 - val_accuracy: 0.9893\n",
      "Epoch 8/10\n",
      "520/520 [==============================] - 674s 1s/step - loss: 0.1456 - accuracy: 0.9679 - val_loss: 0.0324 - val_accuracy: 0.9929\n",
      "Epoch 9/10\n",
      "520/520 [==============================] - 660s 1s/step - loss: 0.1412 - accuracy: 0.9685 - val_loss: 0.0396 - val_accuracy: 0.9934\n",
      "Epoch 10/10\n",
      "520/520 [==============================] - 640s 1s/step - loss: 0.1360 - accuracy: 0.9706 - val_loss: 0.0480 - val_accuracy: 0.9916\n",
      "Duration: 1:50:45.798496\n"
     ]
    }
   ],
   "source": [
    "print(n)\n",
    "\n",
    "models_dsa[n].fit_model(image_sets_dsa[n],label_sets_dsa[n],x_val,y_val)\n",
    "n = n+1"
   ]
  },
  {
   "cell_type": "code",
   "execution_count": 71,
   "id": "ff9aad2b",
   "metadata": {},
   "outputs": [
    {
     "name": "stdout",
     "output_type": "stream",
     "text": [
      "19\n",
      "Epoch 1/10\n",
      "547/547 [==============================] - 631s 1s/step - loss: 0.1914 - accuracy: 0.9556 - val_loss: 0.0350 - val_accuracy: 0.9939\n",
      "Epoch 2/10\n",
      "547/547 [==============================] - 641s 1s/step - loss: 0.1452 - accuracy: 0.9637 - val_loss: 0.0555 - val_accuracy: 0.9918\n",
      "Epoch 3/10\n",
      "547/547 [==============================] - 704s 1s/step - loss: 0.1320 - accuracy: 0.9678 - val_loss: 0.0223 - val_accuracy: 0.9946\n",
      "Epoch 4/10\n",
      "547/547 [==============================] - 708s 1s/step - loss: 0.1339 - accuracy: 0.9679 - val_loss: 0.0275 - val_accuracy: 0.9939\n",
      "Epoch 5/10\n",
      "547/547 [==============================] - 701s 1s/step - loss: 0.1400 - accuracy: 0.9687 - val_loss: 0.0546 - val_accuracy: 0.9941\n",
      "Epoch 6/10\n",
      "547/547 [==============================] - 701s 1s/step - loss: 0.1339 - accuracy: 0.9697 - val_loss: 0.0220 - val_accuracy: 0.9949\n",
      "Epoch 7/10\n",
      "547/547 [==============================] - 692s 1s/step - loss: 0.1301 - accuracy: 0.9706 - val_loss: 0.0329 - val_accuracy: 0.9926\n",
      "Epoch 8/10\n",
      "547/547 [==============================] - 703s 1s/step - loss: 0.1419 - accuracy: 0.9681 - val_loss: 0.0288 - val_accuracy: 0.9941\n",
      "Epoch 9/10\n",
      "547/547 [==============================] - 697s 1s/step - loss: 0.1418 - accuracy: 0.9674 - val_loss: 0.0622 - val_accuracy: 0.9931\n",
      "Epoch 10/10\n",
      "547/547 [==============================] - 704s 1s/step - loss: 0.1674 - accuracy: 0.9683 - val_loss: 0.0240 - val_accuracy: 0.9941\n",
      "Duration: 1:54:43.923230\n"
     ]
    }
   ],
   "source": [
    "n=19\n",
    "print(n)#19\n",
    "\n",
    "models_dsa[n].fit_model(image_sets_dsa[n],label_sets_dsa[n],x_val,y_val)\n",
    "n = n+1"
   ]
  },
  {
   "cell_type": "code",
   "execution_count": 72,
   "id": "f21f8698",
   "metadata": {},
   "outputs": [
    {
     "name": "stdout",
     "output_type": "stream",
     "text": [
      "20\n",
      "Epoch 1/10\n",
      "552/552 [==============================] - 653s 1s/step - loss: 0.1881 - accuracy: 0.9549 - val_loss: 0.0221 - val_accuracy: 0.9954\n",
      "Epoch 2/10\n",
      "552/552 [==============================] - 619s 1s/step - loss: 0.1464 - accuracy: 0.9634 - val_loss: 0.0380 - val_accuracy: 0.9946\n",
      "Epoch 3/10\n",
      "552/552 [==============================] - 636s 1s/step - loss: 0.1285 - accuracy: 0.9692 - val_loss: 0.0311 - val_accuracy: 0.9913\n",
      "Epoch 4/10\n",
      "552/552 [==============================] - 707s 1s/step - loss: 0.1301 - accuracy: 0.9691 - val_loss: 0.0354 - val_accuracy: 0.9944\n",
      "Epoch 5/10\n",
      "552/552 [==============================] - 698s 1s/step - loss: 0.1345 - accuracy: 0.9697 - val_loss: 0.0392 - val_accuracy: 0.9944\n",
      "Epoch 6/10\n",
      "552/552 [==============================] - 708s 1s/step - loss: 0.1378 - accuracy: 0.9671 - val_loss: 0.0266 - val_accuracy: 0.9918\n",
      "Epoch 7/10\n",
      "552/552 [==============================] - 704s 1s/step - loss: 0.1332 - accuracy: 0.9688 - val_loss: 0.0396 - val_accuracy: 0.9929\n",
      "Epoch 8/10\n",
      "552/552 [==============================] - 647s 1s/step - loss: 0.1332 - accuracy: 0.9711 - val_loss: 0.0243 - val_accuracy: 0.9939\n",
      "Epoch 9/10\n",
      "552/552 [==============================] - 656s 1s/step - loss: 0.1493 - accuracy: 0.9687 - val_loss: 0.0427 - val_accuracy: 0.9918\n",
      "Epoch 10/10\n",
      "552/552 [==============================] - 705s 1s/step - loss: 0.1400 - accuracy: 0.9696 - val_loss: 0.0315 - val_accuracy: 0.9939\n",
      "Duration: 1:52:12.301529\n"
     ]
    }
   ],
   "source": [
    "n=20\n",
    "print(n)\n",
    "\n",
    "models_dsa[n].fit_model(image_sets_dsa[n],label_sets_dsa[n],x_val,y_val)\n",
    "n = n+1"
   ]
  },
  {
   "cell_type": "code",
   "execution_count": 73,
   "id": "3f61bd3e",
   "metadata": {},
   "outputs": [
    {
     "name": "stdout",
     "output_type": "stream",
     "text": [
      "INFO:tensorflow:Assets written to: D:/models/aug_22/gtsrb/C2/gtsrb_model_c2_aug_dsa_e1_0\\assets\n",
      "Model has been saved\n",
      "INFO:tensorflow:Assets written to: D:/models/aug_22/gtsrb/C2/gtsrb_model_c2_aug_dsa_e1_1\\assets\n",
      "Model has been saved\n",
      "INFO:tensorflow:Assets written to: D:/models/aug_22/gtsrb/C2/gtsrb_model_c2_aug_dsa_e1_2\\assets\n",
      "Model has been saved\n",
      "INFO:tensorflow:Assets written to: D:/models/aug_22/gtsrb/C2/gtsrb_model_c2_aug_dsa_e1_3\\assets\n",
      "Model has been saved\n",
      "INFO:tensorflow:Assets written to: D:/models/aug_22/gtsrb/C2/gtsrb_model_c2_aug_dsa_e1_4\\assets\n",
      "Model has been saved\n",
      "INFO:tensorflow:Assets written to: D:/models/aug_22/gtsrb/C2/gtsrb_model_c2_aug_dsa_e1_5\\assets\n",
      "Model has been saved\n",
      "INFO:tensorflow:Assets written to: D:/models/aug_22/gtsrb/C2/gtsrb_model_c2_aug_dsa_e1_6\\assets\n",
      "Model has been saved\n",
      "INFO:tensorflow:Assets written to: D:/models/aug_22/gtsrb/C2/gtsrb_model_c2_aug_dsa_e1_7\\assets\n",
      "Model has been saved\n",
      "INFO:tensorflow:Assets written to: D:/models/aug_22/gtsrb/C2/gtsrb_model_c2_aug_dsa_e1_8\\assets\n",
      "Model has been saved\n",
      "INFO:tensorflow:Assets written to: D:/models/aug_22/gtsrb/C2/gtsrb_model_c2_aug_dsa_e1_9\\assets\n",
      "Model has been saved\n",
      "INFO:tensorflow:Assets written to: D:/models/aug_22/gtsrb/C2/gtsrb_model_c2_aug_dsa_e1_10\\assets\n",
      "Model has been saved\n",
      "INFO:tensorflow:Assets written to: D:/models/aug_22/gtsrb/C2/gtsrb_model_c2_aug_dsa_e1_11\\assets\n",
      "Model has been saved\n",
      "INFO:tensorflow:Assets written to: D:/models/aug_22/gtsrb/C2/gtsrb_model_c2_aug_dsa_e1_12\\assets\n",
      "Model has been saved\n",
      "INFO:tensorflow:Assets written to: D:/models/aug_22/gtsrb/C2/gtsrb_model_c2_aug_dsa_e1_13\\assets\n",
      "Model has been saved\n",
      "INFO:tensorflow:Assets written to: D:/models/aug_22/gtsrb/C2/gtsrb_model_c2_aug_dsa_e1_14\\assets\n",
      "Model has been saved\n",
      "INFO:tensorflow:Assets written to: D:/models/aug_22/gtsrb/C2/gtsrb_model_c2_aug_dsa_e1_15\\assets\n",
      "Model has been saved\n",
      "INFO:tensorflow:Assets written to: D:/models/aug_22/gtsrb/C2/gtsrb_model_c2_aug_dsa_e1_16\\assets\n",
      "Model has been saved\n",
      "INFO:tensorflow:Assets written to: D:/models/aug_22/gtsrb/C2/gtsrb_model_c2_aug_dsa_e1_17\\assets\n",
      "Model has been saved\n",
      "INFO:tensorflow:Assets written to: D:/models/aug_22/gtsrb/C2/gtsrb_model_c2_aug_dsa_e1_18\\assets\n",
      "Model has been saved\n",
      "INFO:tensorflow:Assets written to: D:/models/aug_22/gtsrb/C2/gtsrb_model_c2_aug_dsa_e1_19\\assets\n",
      "Model has been saved\n",
      "INFO:tensorflow:Assets written to: D:/models/aug_22/gtsrb/C2/gtsrb_model_c2_aug_dsa_e1_20\\assets\n",
      "Model has been saved\n"
     ]
    }
   ],
   "source": [
    "new_model_dsa_dir  = \"D:/models/aug_22/gtsrb/C2/gtsrb_model_c2_aug_dsa_e1\"\n",
    "\n",
    "i=0\n",
    "\n",
    "for model in models_dsa:\n",
    "    model.save(new_model_dsa_dir+\"_\"+str(i))\n",
    "    i+=1"
   ]
  },
  {
   "cell_type": "code",
   "execution_count": null,
   "id": "58f250fb",
   "metadata": {},
   "outputs": [],
   "source": [
    "loading = True\n",
    "\n",
    "models_dsa = []\n",
    "\n",
    "if loading:\n",
    "    for i in range(20):\n",
    "        model_dsa_dir = \"D:/models/gtsrb_models/C1/gtsrb_model_c1_sep_dsa_e2_\"+str(i)\n",
    "        print(model_dsa_dir)\n",
    "        model =utils.My_model('gtsrb',True,model_dsa_dir)\n",
    "        model.model.compile(loss= 'categorical_crossentropy', optimizer = 'rmsprop', metrics = ['accuracy',tf.keras.metrics.Precision(), tf.keras.metrics.Recall()])\n",
    "        models_dsa.append(model)\n",
    "       \n",
    "    "
   ]
  },
  {
   "cell_type": "code",
   "execution_count": 74,
   "id": "d91a832b",
   "metadata": {},
   "outputs": [],
   "source": [
    "try:\n",
    "    del dsa_values\n",
    "    del top_images_by_dsa\n",
    "    del top_labels_by_dsa\n",
    "    del image_sets_dsa\n",
    "    del label_sets_dsa\n",
    "    del models_dsa\n",
    "except:\n",
    "    print(\"Error\")"
   ]
  },
  {
   "cell_type": "code",
   "execution_count": 75,
   "id": "5a1923ff",
   "metadata": {},
   "outputs": [
    {
     "data": {
      "text/plain": [
       "559646"
      ]
     },
     "execution_count": 75,
     "metadata": {},
     "output_type": "execute_result"
    }
   ],
   "source": [
    "gc.collect()"
   ]
  },
  {
   "cell_type": "markdown",
   "id": "dc50a24e",
   "metadata": {},
   "source": [
    "## Uncertainty"
   ]
  },
  {
   "cell_type": "code",
   "execution_count": 18,
   "id": "4eaaacd1",
   "metadata": {},
   "outputs": [],
   "source": [
    "dg_direction = \"C:/Users/fjdur/Documents/upc-july/data/\"+dataset+\"/deep_gini_values.npy\"\n",
    "\n",
    "deep_gini_values = np.load(dg_direction)\n"
   ]
  },
  {
   "cell_type": "code",
   "execution_count": 19,
   "id": "b6e7817b",
   "metadata": {},
   "outputs": [],
   "source": [
    "# Obtaining top n images by dg values\n",
    "top_images_by_dg  = utils.get_x_of_indexes(list(np.flip(np.argsort(deep_gini_values))),x_train_and_adversary)\n",
    "top_labels_by_dg = utils.get_x_of_indexes(list(np.flip(np.argsort(deep_gini_values))),y_train_and_adversary)"
   ]
  },
  {
   "cell_type": "code",
   "execution_count": 20,
   "id": "4b3ae30e",
   "metadata": {},
   "outputs": [
    {
     "name": "stdout",
     "output_type": "stream",
     "text": [
      "0 :\n",
      "0  ->  1750\n",
      "1750\n",
      "1 :\n",
      "0  ->  3500\n",
      "3500\n",
      "2 :\n",
      "0  ->  5250\n",
      "5250\n",
      "3 :\n",
      "0  ->  7000\n",
      "7000\n",
      "4 :\n",
      "0  ->  8750\n",
      "8750\n",
      "5 :\n",
      "0  ->  10500\n",
      "10500\n",
      "6 :\n",
      "0  ->  12250\n",
      "12250\n",
      "7 :\n",
      "0  ->  14000\n",
      "14000\n",
      "8 :\n",
      "0  ->  15750\n",
      "15750\n",
      "9 :\n",
      "0  ->  17500\n",
      "17500\n",
      "10 :\n",
      "0  ->  19250\n",
      "19250\n",
      "11 :\n",
      "0  ->  21000\n",
      "21000\n",
      "12 :\n",
      "0  ->  22750\n",
      "22750\n",
      "13 :\n",
      "0  ->  24500\n",
      "24500\n",
      "14 :\n",
      "0  ->  26250\n",
      "26250\n",
      "15 :\n",
      "0  ->  28000\n",
      "28000\n",
      "16 :\n",
      "0  ->  29750\n",
      "29750\n",
      "17 :\n",
      "0  ->  31500\n",
      "31500\n",
      "18 :\n",
      "0  ->  33250\n",
      "33250\n",
      "19 :\n",
      "0  ->  35000\n",
      "35000\n",
      "20 :\n",
      "Last\n",
      "0  ->  37037\n",
      "35287\n"
     ]
    }
   ],
   "source": [
    "m = n_data_points\n",
    "n = 0\n",
    "image_sets_dg = []\n",
    "label_sets_dg = []\n",
    "\n",
    "# last\n",
    "#for i in range(0,len(top_images_by_lsa)//m):\n",
    "\n",
    "for i in range((len(top_images_by_dg)//m)+1):\n",
    "    print(i,\":\")\n",
    "    if (i+1 >= ((len(top_images_by_dg)//m)+1)):\n",
    "        print(\"Last\")\n",
    "        print(0,\" -> \",n+m+(len(top_images_by_dg)%m))\n",
    "        top_images_by_dg_n = np.array(top_images_by_dg[:n+m+(len(top_images_by_dg)%m)])\n",
    "        top_labels_by_dg_n = np.array(top_labels_by_dg[:n+m+(len(top_images_by_dg)%m)])\n",
    "    else:\n",
    "        print(0,\" -> \",m+n)\n",
    "        top_images_by_dg_n = np.array(top_images_by_dg[:n+m])\n",
    "        top_labels_by_dg_n = np.array(top_labels_by_dg[:n+m])\n",
    "    image_sets_dg.append(top_images_by_dg_n)\n",
    "    label_sets_dg.append(top_labels_by_dg_n)\n",
    "    print(len(top_images_by_dg_n))\n",
    "    n += m\n",
    "\n"
   ]
  },
  {
   "cell_type": "code",
   "execution_count": 21,
   "id": "a513cf02",
   "metadata": {},
   "outputs": [
    {
     "name": "stdout",
     "output_type": "stream",
     "text": [
      "C:/Users/fjdur/Documents/upc-july/models/tf_model_25-06/\n",
      "0 :\n",
      "Model loaded correctly\n",
      "Model compiled\n",
      "1 :\n",
      "Model loaded correctly\n",
      "Model compiled\n",
      "2 :\n",
      "Model loaded correctly\n",
      "Model compiled\n",
      "3 :\n",
      "Model loaded correctly\n",
      "Model compiled\n",
      "4 :\n",
      "Model loaded correctly\n",
      "Model compiled\n",
      "5 :\n",
      "Model loaded correctly\n",
      "Model compiled\n",
      "6 :\n",
      "Model loaded correctly\n",
      "Model compiled\n",
      "7 :\n",
      "Model loaded correctly\n",
      "Model compiled\n",
      "8 :\n",
      "Model loaded correctly\n",
      "Model compiled\n",
      "9 :\n",
      "Model loaded correctly\n",
      "Model compiled\n",
      "10 :\n",
      "Model loaded correctly\n",
      "Model compiled\n",
      "11 :\n",
      "Model loaded correctly\n",
      "Model compiled\n",
      "12 :\n",
      "Model loaded correctly\n",
      "Model compiled\n",
      "13 :\n",
      "Model loaded correctly\n",
      "Model compiled\n",
      "14 :\n",
      "Model loaded correctly\n",
      "Model compiled\n",
      "15 :\n",
      "Model loaded correctly\n",
      "Model compiled\n",
      "16 :\n",
      "Model loaded correctly\n",
      "Model compiled\n",
      "17 :\n",
      "Model loaded correctly\n",
      "Model compiled\n",
      "18 :\n",
      "Model loaded correctly\n",
      "Model compiled\n",
      "19 :\n",
      "Model loaded correctly\n",
      "Model compiled\n",
      "20 :\n",
      "Model loaded correctly\n",
      "Model compiled\n"
     ]
    }
   ],
   "source": [
    "print(model_dir)\n",
    "models_dg = []\n",
    "#for i in range(len(label_sets_lsa)):\n",
    "for i in range(len(label_sets_dg)):\n",
    "    print(i,\":\")\n",
    "    model = utils.My_model(dataset,True, model_dir)\n",
    "    model.compile_model()\n",
    "    models_dg.append(model)"
   ]
  },
  {
   "cell_type": "code",
   "execution_count": 80,
   "id": "4f769fda",
   "metadata": {},
   "outputs": [
    {
     "name": "stdout",
     "output_type": "stream",
     "text": [
      "0\n",
      "Epoch 1/10\n",
      "28/28 [==============================] - 42s 1s/step - loss: 2.6309 - accuracy: 0.3419 - val_loss: 0.0367 - val_accuracy: 0.9911\n",
      "Epoch 2/10\n",
      "28/28 [==============================] - 37s 1s/step - loss: 1.5975 - accuracy: 0.5593 - val_loss: 0.0351 - val_accuracy: 0.9903\n",
      "Epoch 3/10\n",
      "28/28 [==============================] - 35s 1s/step - loss: 1.2723 - accuracy: 0.6408 - val_loss: 0.0393 - val_accuracy: 0.9885\n",
      "Epoch 4/10\n",
      "28/28 [==============================] - 37s 1s/step - loss: 1.0829 - accuracy: 0.6889 - val_loss: 0.0805 - val_accuracy: 0.9778\n",
      "Epoch 5/10\n",
      "28/28 [==============================] - 38s 1s/step - loss: 0.9609 - accuracy: 0.7256 - val_loss: 0.0292 - val_accuracy: 0.9908\n",
      "Epoch 6/10\n",
      "28/28 [==============================] - 36s 1s/step - loss: 0.7594 - accuracy: 0.7672 - val_loss: 0.0418 - val_accuracy: 0.9885\n",
      "Epoch 7/10\n",
      "28/28 [==============================] - 37s 1s/step - loss: 0.6335 - accuracy: 0.8192 - val_loss: 0.0960 - val_accuracy: 0.9791\n",
      "Epoch 8/10\n",
      "28/28 [==============================] - 35s 1s/step - loss: 0.7455 - accuracy: 0.7876 - val_loss: 0.0614 - val_accuracy: 0.9870\n",
      "Epoch 9/10\n",
      "28/28 [==============================] - 35s 1s/step - loss: 0.6164 - accuracy: 0.8147 - val_loss: 0.0369 - val_accuracy: 0.9911\n",
      "Epoch 10/10\n",
      "28/28 [==============================] - 33s 1s/step - loss: 0.5182 - accuracy: 0.8499 - val_loss: 0.0695 - val_accuracy: 0.9849\n",
      "Duration: 0:06:04.235833\n"
     ]
    }
   ],
   "source": [
    "n=0\n",
    "print(n)\n",
    "models_dg[n].fit_model(image_sets_dg[n],label_sets_dg[n],x_val,y_val,epochs=10,batch_size = 64)\n",
    "n = n+1"
   ]
  },
  {
   "cell_type": "code",
   "execution_count": 81,
   "id": "82f0e9df",
   "metadata": {},
   "outputs": [
    {
     "name": "stdout",
     "output_type": "stream",
     "text": [
      "1\n",
      "Epoch 1/10\n",
      "55/55 [==============================] - 81s 1s/step - loss: 1.6669 - accuracy: 0.6046 - val_loss: 0.0239 - val_accuracy: 0.9934\n",
      "Epoch 2/10\n",
      "55/55 [==============================] - 84s 2s/step - loss: 0.9181 - accuracy: 0.7620 - val_loss: 0.0208 - val_accuracy: 0.9954\n",
      "Epoch 3/10\n",
      "55/55 [==============================] - 85s 2s/step - loss: 0.6963 - accuracy: 0.8108 - val_loss: 0.0158 - val_accuracy: 0.9959\n",
      "Epoch 4/10\n",
      "55/55 [==============================] - 86s 2s/step - loss: 0.5937 - accuracy: 0.8184 - val_loss: 0.0155 - val_accuracy: 0.9954\n",
      "Epoch 5/10\n",
      "55/55 [==============================] - 85s 2s/step - loss: 0.5689 - accuracy: 0.8343 - val_loss: 0.0143 - val_accuracy: 0.9974\n",
      "Epoch 6/10\n",
      "55/55 [==============================] - 84s 2s/step - loss: 0.4895 - accuracy: 0.8542 - val_loss: 0.0886 - val_accuracy: 0.9768\n",
      "Epoch 7/10\n",
      "55/55 [==============================] - 83s 2s/step - loss: 0.4812 - accuracy: 0.8613 - val_loss: 0.0397 - val_accuracy: 0.9918\n",
      "Epoch 8/10\n",
      "55/55 [==============================] - 84s 2s/step - loss: 0.4215 - accuracy: 0.8713 - val_loss: 0.0131 - val_accuracy: 0.9969\n",
      "Epoch 9/10\n",
      "55/55 [==============================] - 84s 2s/step - loss: 0.3771 - accuracy: 0.8873 - val_loss: 0.0211 - val_accuracy: 0.9959\n",
      "Epoch 10/10\n",
      "55/55 [==============================] - 83s 2s/step - loss: 0.3595 - accuracy: 0.8944 - val_loss: 0.0285 - val_accuracy: 0.9931\n",
      "Duration: 0:13:58.732575\n"
     ]
    }
   ],
   "source": [
    "print(n)\n",
    "models_dg[n].fit_model(image_sets_dg[n],label_sets_dg[n],x_val,y_val,epochs=10,batch_size = 64)\n",
    "n = n+1"
   ]
  },
  {
   "cell_type": "code",
   "execution_count": 82,
   "id": "a7171738",
   "metadata": {},
   "outputs": [
    {
     "name": "stdout",
     "output_type": "stream",
     "text": [
      "2\n",
      "Epoch 1/10\n",
      "83/83 [==============================] - 121s 1s/step - loss: 0.9875 - accuracy: 0.7672 - val_loss: 0.0150 - val_accuracy: 0.9959\n",
      "Epoch 2/10\n",
      "83/83 [==============================] - 125s 2s/step - loss: 0.6338 - accuracy: 0.8222 - val_loss: 0.0322 - val_accuracy: 0.9944\n",
      "Epoch 3/10\n",
      "83/83 [==============================] - 126s 2s/step - loss: 0.5355 - accuracy: 0.8502 - val_loss: 0.0191 - val_accuracy: 0.9957\n",
      "Epoch 4/10\n",
      "83/83 [==============================] - 125s 2s/step - loss: 0.4442 - accuracy: 0.8694 - val_loss: 0.0373 - val_accuracy: 0.9939\n",
      "Epoch 5/10\n",
      "83/83 [==============================] - 126s 2s/step - loss: 0.3973 - accuracy: 0.8899 - val_loss: 0.0194 - val_accuracy: 0.9962\n",
      "Epoch 6/10\n",
      "83/83 [==============================] - 126s 2s/step - loss: 0.3594 - accuracy: 0.9001 - val_loss: 0.0236 - val_accuracy: 0.9954\n",
      "Epoch 7/10\n",
      "83/83 [==============================] - 125s 2s/step - loss: 0.3335 - accuracy: 0.9051 - val_loss: 0.0198 - val_accuracy: 0.9964\n",
      "Epoch 8/10\n",
      "83/83 [==============================] - 125s 2s/step - loss: 0.3177 - accuracy: 0.9080 - val_loss: 0.0247 - val_accuracy: 0.9944\n",
      "Epoch 9/10\n",
      "83/83 [==============================] - 116s 1s/step - loss: 0.3040 - accuracy: 0.9076 - val_loss: 0.0181 - val_accuracy: 0.9962\n",
      "Epoch 10/10\n",
      "83/83 [==============================] - 111s 1s/step - loss: 0.2378 - accuracy: 0.9285 - val_loss: 0.0169 - val_accuracy: 0.9964\n",
      "Duration: 0:20:26.174613\n"
     ]
    }
   ],
   "source": [
    "print(n)\n",
    "models_dg[n].fit_model(image_sets_dg[n],label_sets_dg[n],x_val,y_val,epochs=10,batch_size = 64)\n",
    "n = n+1"
   ]
  },
  {
   "cell_type": "code",
   "execution_count": 83,
   "id": "63a5e662",
   "metadata": {},
   "outputs": [
    {
     "name": "stdout",
     "output_type": "stream",
     "text": [
      "3\n",
      "Epoch 1/10\n",
      "110/110 [==============================] - 145s 1s/step - loss: 0.7515 - accuracy: 0.8166 - val_loss: 0.0962 - val_accuracy: 0.9903\n",
      "Epoch 2/10\n",
      "110/110 [==============================] - 161s 1s/step - loss: 0.4990 - accuracy: 0.8635 - val_loss: 0.0329 - val_accuracy: 0.9926\n",
      "Epoch 3/10\n",
      "110/110 [==============================] - 168s 2s/step - loss: 0.4054 - accuracy: 0.8846 - val_loss: 0.0186 - val_accuracy: 0.9959\n",
      "Epoch 4/10\n",
      "110/110 [==============================] - 173s 2s/step - loss: 0.3303 - accuracy: 0.9112 - val_loss: 0.0268 - val_accuracy: 0.9959\n",
      "Epoch 5/10\n",
      "110/110 [==============================] - 167s 2s/step - loss: 0.2948 - accuracy: 0.9180 - val_loss: 0.0274 - val_accuracy: 0.9954\n",
      "Epoch 6/10\n",
      "110/110 [==============================] - 166s 2s/step - loss: 0.3040 - accuracy: 0.9151 - val_loss: 0.0172 - val_accuracy: 0.9967\n",
      "Epoch 7/10\n",
      "110/110 [==============================] - 149s 1s/step - loss: 0.2797 - accuracy: 0.9246 - val_loss: 0.0210 - val_accuracy: 0.9969\n",
      "Epoch 8/10\n",
      "110/110 [==============================] - 166s 2s/step - loss: 0.2406 - accuracy: 0.9316 - val_loss: 0.0183 - val_accuracy: 0.9969\n",
      "Epoch 9/10\n",
      "110/110 [==============================] - 169s 2s/step - loss: 0.2296 - accuracy: 0.9330 - val_loss: 0.0189 - val_accuracy: 0.9972\n",
      "Epoch 10/10\n",
      "110/110 [==============================] - 170s 2s/step - loss: 0.1979 - accuracy: 0.9438 - val_loss: 0.0251 - val_accuracy: 0.9946\n",
      "Duration: 0:27:14.678400\n"
     ]
    }
   ],
   "source": [
    "n=3\n",
    "print(n)\n",
    "models_dg[n].fit_model(image_sets_dg[n],label_sets_dg[n],x_val,y_val,epochs=10,batch_size = 64)\n",
    "n = n+1"
   ]
  },
  {
   "cell_type": "code",
   "execution_count": 84,
   "id": "3e21bc29",
   "metadata": {},
   "outputs": [
    {
     "name": "stdout",
     "output_type": "stream",
     "text": [
      "4\n",
      "Epoch 1/10\n",
      "137/137 [==============================] - 219s 2s/step - loss: 0.6536 - accuracy: 0.8441 - val_loss: 0.0196 - val_accuracy: 0.9952\n",
      "Epoch 2/10\n",
      "137/137 [==============================] - 216s 2s/step - loss: 0.3812 - accuracy: 0.8956 - val_loss: 0.0127 - val_accuracy: 0.9964\n",
      "Epoch 3/10\n",
      "137/137 [==============================] - 214s 2s/step - loss: 0.3303 - accuracy: 0.9089 - val_loss: 0.0170 - val_accuracy: 0.9959\n",
      "Epoch 4/10\n",
      "137/137 [==============================] - 214s 2s/step - loss: 0.3081 - accuracy: 0.9138 - val_loss: 0.0175 - val_accuracy: 0.9974\n",
      "Epoch 5/10\n",
      "137/137 [==============================] - 213s 2s/step - loss: 0.2588 - accuracy: 0.9302 - val_loss: 0.0237 - val_accuracy: 0.9946\n",
      "Epoch 6/10\n",
      "137/137 [==============================] - 211s 2s/step - loss: 0.2482 - accuracy: 0.9316 - val_loss: 0.0257 - val_accuracy: 0.9939\n",
      "Epoch 7/10\n",
      "137/137 [==============================] - 215s 2s/step - loss: 0.2325 - accuracy: 0.9352 - val_loss: 0.0417 - val_accuracy: 0.9908\n",
      "Epoch 8/10\n",
      "137/137 [==============================] - 214s 2s/step - loss: 0.2356 - accuracy: 0.9394 - val_loss: 0.0186 - val_accuracy: 0.9962\n",
      "Epoch 9/10\n",
      "137/137 [==============================] - 214s 2s/step - loss: 0.2130 - accuracy: 0.9414 - val_loss: 0.0157 - val_accuracy: 0.9969\n",
      "Epoch 10/10\n",
      "137/137 [==============================] - 215s 2s/step - loss: 0.2051 - accuracy: 0.9453 - val_loss: 0.0124 - val_accuracy: 0.9964\n",
      "Duration: 0:35:46.809294\n"
     ]
    }
   ],
   "source": [
    "print(n)\n",
    "models_dg[n].fit_model(image_sets_dg[n],label_sets_dg[n],x_val,y_val,epochs=10,batch_size = 64)\n",
    "n = n+1"
   ]
  },
  {
   "cell_type": "code",
   "execution_count": 85,
   "id": "034f0415",
   "metadata": {},
   "outputs": [
    {
     "name": "stdout",
     "output_type": "stream",
     "text": [
      "5\n",
      "Epoch 1/10\n",
      "165/165 [==============================] - 249s 1s/step - loss: 0.5562 - accuracy: 0.8744 - val_loss: 0.0180 - val_accuracy: 0.9959\n",
      "Epoch 2/10\n",
      "165/165 [==============================] - 236s 1s/step - loss: 0.3457 - accuracy: 0.9123 - val_loss: 0.0261 - val_accuracy: 0.9939\n",
      "Epoch 3/10\n",
      "165/165 [==============================] - 251s 2s/step - loss: 0.2887 - accuracy: 0.9224 - val_loss: 0.0137 - val_accuracy: 0.9974\n",
      "Epoch 4/10\n",
      "165/165 [==============================] - 234s 1s/step - loss: 0.2548 - accuracy: 0.9320 - val_loss: 0.0165 - val_accuracy: 0.9959\n",
      "Epoch 5/10\n",
      "165/165 [==============================] - 243s 1s/step - loss: 0.2318 - accuracy: 0.9404 - val_loss: 0.0171 - val_accuracy: 0.9972\n",
      "Epoch 6/10\n",
      "165/165 [==============================] - 250s 2s/step - loss: 0.2262 - accuracy: 0.9382 - val_loss: 0.0191 - val_accuracy: 0.9952\n",
      "Epoch 7/10\n",
      "165/165 [==============================] - 254s 2s/step - loss: 0.2135 - accuracy: 0.9410 - val_loss: 0.0133 - val_accuracy: 0.9962\n",
      "Epoch 8/10\n",
      "165/165 [==============================] - 211s 1s/step - loss: 0.1757 - accuracy: 0.9489 - val_loss: 0.0303 - val_accuracy: 0.9936\n",
      "Epoch 9/10\n",
      "165/165 [==============================] - 222s 1s/step - loss: 0.2018 - accuracy: 0.9463 - val_loss: 0.0383 - val_accuracy: 0.9934\n",
      "Epoch 10/10\n",
      "165/165 [==============================] - 251s 2s/step - loss: 0.1776 - accuracy: 0.9512 - val_loss: 0.0165 - val_accuracy: 0.9964\n",
      "Duration: 0:40:00.205763\n"
     ]
    }
   ],
   "source": [
    "print(n)#5\n",
    "models_dg[n].fit_model(image_sets_dg[n],label_sets_dg[n],x_val,y_val,epochs=10,batch_size = 64)\n",
    "n = n+1"
   ]
  },
  {
   "cell_type": "code",
   "execution_count": 86,
   "id": "20bbd631",
   "metadata": {},
   "outputs": [
    {
     "name": "stdout",
     "output_type": "stream",
     "text": [
      "6\n",
      "Epoch 1/10\n",
      "192/192 [==============================] - 267s 1s/step - loss: 0.4668 - accuracy: 0.8923 - val_loss: 0.0235 - val_accuracy: 0.9946\n",
      "Epoch 2/10\n",
      "192/192 [==============================] - 278s 1s/step - loss: 0.2991 - accuracy: 0.9195 - val_loss: 0.0294 - val_accuracy: 0.9944\n",
      "Epoch 3/10\n",
      "192/192 [==============================] - 276s 1s/step - loss: 0.2532 - accuracy: 0.9305 - val_loss: 0.0155 - val_accuracy: 0.9959\n",
      "Epoch 4/10\n",
      "192/192 [==============================] - 275s 1s/step - loss: 0.2252 - accuracy: 0.9349 - val_loss: 0.0162 - val_accuracy: 0.9962\n",
      "Epoch 5/10\n",
      "192/192 [==============================] - 274s 1s/step - loss: 0.2080 - accuracy: 0.9427 - val_loss: 0.0276 - val_accuracy: 0.9959\n",
      "Epoch 6/10\n",
      "192/192 [==============================] - 276s 1s/step - loss: 0.2069 - accuracy: 0.9464 - val_loss: 0.0317 - val_accuracy: 0.9916\n",
      "Epoch 7/10\n",
      "192/192 [==============================] - 279s 1s/step - loss: 0.2026 - accuracy: 0.9437 - val_loss: 0.0201 - val_accuracy: 0.9962\n",
      "Epoch 8/10\n",
      "192/192 [==============================] - 264s 1s/step - loss: 0.1746 - accuracy: 0.9500 - val_loss: 0.0315 - val_accuracy: 0.9921\n",
      "Epoch 9/10\n",
      "192/192 [==============================] - 280s 1s/step - loss: 0.1718 - accuracy: 0.9525 - val_loss: 0.0145 - val_accuracy: 0.9974\n",
      "Epoch 10/10\n",
      "192/192 [==============================] - 279s 1s/step - loss: 0.1630 - accuracy: 0.9593 - val_loss: 0.0135 - val_accuracy: 0.9962\n",
      "Duration: 0:45:47.836654\n"
     ]
    }
   ],
   "source": [
    "print(n)\n",
    "models_dg[n].fit_model(image_sets_dg[n],label_sets_dg[n],x_val,y_val,epochs=10,batch_size = 64)\n",
    "n = n+1"
   ]
  },
  {
   "cell_type": "code",
   "execution_count": 87,
   "id": "18acb9c3",
   "metadata": {},
   "outputs": [
    {
     "name": "stdout",
     "output_type": "stream",
     "text": [
      "7\n",
      "Epoch 1/10\n",
      "219/219 [==============================] - 311s 1s/step - loss: 0.4043 - accuracy: 0.9052 - val_loss: 0.0242 - val_accuracy: 0.9939\n",
      "Epoch 2/10\n",
      "219/219 [==============================] - 296s 1s/step - loss: 0.2729 - accuracy: 0.9260 - val_loss: 0.0339 - val_accuracy: 0.9957\n",
      "Epoch 3/10\n",
      "219/219 [==============================] - 304s 1s/step - loss: 0.2284 - accuracy: 0.9377 - val_loss: 0.0193 - val_accuracy: 0.9957\n",
      "Epoch 4/10\n",
      "219/219 [==============================] - 308s 1s/step - loss: 0.2084 - accuracy: 0.9428 - val_loss: 0.0168 - val_accuracy: 0.9967\n",
      "Epoch 5/10\n",
      "219/219 [==============================] - 315s 1s/step - loss: 0.1888 - accuracy: 0.9471 - val_loss: 0.0225 - val_accuracy: 0.9959\n",
      "Epoch 6/10\n",
      "219/219 [==============================] - 299s 1s/step - loss: 0.1786 - accuracy: 0.9511 - val_loss: 0.0277 - val_accuracy: 0.9941\n",
      "Epoch 7/10\n",
      "219/219 [==============================] - 311s 1s/step - loss: 0.1729 - accuracy: 0.9543 - val_loss: 0.0320 - val_accuracy: 0.9946\n",
      "Epoch 8/10\n",
      "219/219 [==============================] - 308s 1s/step - loss: 0.1732 - accuracy: 0.9528 - val_loss: 0.0312 - val_accuracy: 0.9974\n",
      "Epoch 9/10\n",
      "219/219 [==============================] - 310s 1s/step - loss: 0.1574 - accuracy: 0.9609 - val_loss: 0.0173 - val_accuracy: 0.9962\n",
      "Epoch 10/10\n",
      "219/219 [==============================] - 302s 1s/step - loss: 0.1611 - accuracy: 0.9566 - val_loss: 0.0146 - val_accuracy: 0.9972\n",
      "Duration: 0:51:03.933440\n"
     ]
    }
   ],
   "source": [
    "print(n)\n",
    "models_dg[n].fit_model(image_sets_dg[n],label_sets_dg[n],x_val,y_val,epochs=10,batch_size = 64)\n",
    "n = n+1"
   ]
  },
  {
   "cell_type": "code",
   "execution_count": 88,
   "id": "f6fb73a0",
   "metadata": {},
   "outputs": [
    {
     "name": "stdout",
     "output_type": "stream",
     "text": [
      "8\n",
      "Epoch 1/10\n",
      "247/247 [==============================] - 341s 1s/step - loss: 0.3719 - accuracy: 0.9109 - val_loss: 0.0436 - val_accuracy: 0.9913\n",
      "Epoch 2/10\n",
      "247/247 [==============================] - 334s 1s/step - loss: 0.2513 - accuracy: 0.9356 - val_loss: 0.0218 - val_accuracy: 0.9944\n",
      "Epoch 3/10\n",
      "247/247 [==============================] - 337s 1s/step - loss: 0.2192 - accuracy: 0.9432 - val_loss: 0.0363 - val_accuracy: 0.9939\n",
      "Epoch 4/10\n",
      "247/247 [==============================] - 336s 1s/step - loss: 0.1941 - accuracy: 0.9445 - val_loss: 0.0356 - val_accuracy: 0.9926\n",
      "Epoch 5/10\n",
      "247/247 [==============================] - 334s 1s/step - loss: 0.1748 - accuracy: 0.9520 - val_loss: 0.0338 - val_accuracy: 0.9967\n",
      "Epoch 6/10\n",
      "247/247 [==============================] - 344s 1s/step - loss: 0.1860 - accuracy: 0.9492 - val_loss: 0.1594 - val_accuracy: 0.9645\n",
      "Epoch 7/10\n",
      "247/247 [==============================] - 333s 1s/step - loss: 0.1777 - accuracy: 0.9520 - val_loss: 0.0293 - val_accuracy: 0.9941\n",
      "Epoch 8/10\n",
      "247/247 [==============================] - 338s 1s/step - loss: 0.1760 - accuracy: 0.9585 - val_loss: 0.0230 - val_accuracy: 0.9949\n",
      "Epoch 9/10\n",
      "247/247 [==============================] - 337s 1s/step - loss: 0.1457 - accuracy: 0.9616 - val_loss: 0.0245 - val_accuracy: 0.9969\n",
      "Epoch 10/10\n",
      "247/247 [==============================] - 332s 1s/step - loss: 0.1491 - accuracy: 0.9608 - val_loss: 0.0431 - val_accuracy: 0.9939\n",
      "Duration: 0:56:05.306670\n"
     ]
    }
   ],
   "source": [
    "print(n)\n",
    "models_dg[n].fit_model(image_sets_dg[n],label_sets_dg[n],x_val,y_val,epochs=10,batch_size = 64)\n",
    "n = n+1"
   ]
  },
  {
   "cell_type": "code",
   "execution_count": 89,
   "id": "57f11b03",
   "metadata": {},
   "outputs": [
    {
     "name": "stdout",
     "output_type": "stream",
     "text": [
      "9\n",
      "Epoch 1/10\n",
      "274/274 [==============================] - 362s 1s/step - loss: 0.3387 - accuracy: 0.9184 - val_loss: 0.0216 - val_accuracy: 0.9954\n",
      "Epoch 2/10\n",
      "274/274 [==============================] - 371s 1s/step - loss: 0.2200 - accuracy: 0.9436 - val_loss: 0.0442 - val_accuracy: 0.9911\n",
      "Epoch 3/10\n",
      "274/274 [==============================] - 373s 1s/step - loss: 0.1945 - accuracy: 0.9466 - val_loss: 0.0289 - val_accuracy: 0.9931\n",
      "Epoch 4/10\n",
      "274/274 [==============================] - 331s 1s/step - loss: 0.1646 - accuracy: 0.9553 - val_loss: 0.0161 - val_accuracy: 0.9959\n",
      "Epoch 5/10\n",
      "274/274 [==============================] - 326s 1s/step - loss: 0.1678 - accuracy: 0.9550 - val_loss: 0.0201 - val_accuracy: 0.9967\n",
      "Epoch 6/10\n",
      "274/274 [==============================] - 347s 1s/step - loss: 0.1622 - accuracy: 0.9574 - val_loss: 0.0185 - val_accuracy: 0.9972\n",
      "Epoch 7/10\n",
      "274/274 [==============================] - 363s 1s/step - loss: 0.1645 - accuracy: 0.9589 - val_loss: 0.0272 - val_accuracy: 0.9949\n",
      "Epoch 8/10\n",
      "274/274 [==============================] - 361s 1s/step - loss: 0.1672 - accuracy: 0.9576 - val_loss: 0.0889 - val_accuracy: 0.9821\n",
      "Epoch 9/10\n",
      "274/274 [==============================] - 367s 1s/step - loss: 0.1551 - accuracy: 0.9622 - val_loss: 0.0131 - val_accuracy: 0.9977\n",
      "Epoch 10/10\n",
      "274/274 [==============================] - 355s 1s/step - loss: 0.1631 - accuracy: 0.9618 - val_loss: 0.0157 - val_accuracy: 0.9972\n",
      "Duration: 0:59:15.805077\n"
     ]
    }
   ],
   "source": [
    "print(n)\n",
    "models_dg[n].fit_model(image_sets_dg[n],label_sets_dg[n],x_val,y_val,epochs=10,batch_size = 64)\n",
    "n = n+1"
   ]
  },
  {
   "cell_type": "code",
   "execution_count": 90,
   "id": "631fb05e",
   "metadata": {},
   "outputs": [
    {
     "name": "stdout",
     "output_type": "stream",
     "text": [
      "10\n",
      "Epoch 1/10\n",
      "301/301 [==============================] - 398s 1s/step - loss: 0.3121 - accuracy: 0.9230 - val_loss: 0.0611 - val_accuracy: 0.9918\n",
      "Epoch 2/10\n",
      "301/301 [==============================] - 397s 1s/step - loss: 0.2177 - accuracy: 0.9438 - val_loss: 0.0201 - val_accuracy: 0.9944\n",
      "Epoch 3/10\n",
      "301/301 [==============================] - 398s 1s/step - loss: 0.1973 - accuracy: 0.9507 - val_loss: 0.0347 - val_accuracy: 0.9944\n",
      "Epoch 4/10\n",
      "301/301 [==============================] - 389s 1s/step - loss: 0.1850 - accuracy: 0.9538 - val_loss: 0.0616 - val_accuracy: 0.9837\n",
      "Epoch 5/10\n",
      "301/301 [==============================] - 394s 1s/step - loss: 0.1627 - accuracy: 0.9562 - val_loss: 0.0201 - val_accuracy: 0.9962\n",
      "Epoch 6/10\n",
      "301/301 [==============================] - 404s 1s/step - loss: 0.1652 - accuracy: 0.9568 - val_loss: 0.0199 - val_accuracy: 0.9964\n",
      "Epoch 7/10\n",
      "301/301 [==============================] - 394s 1s/step - loss: 0.1433 - accuracy: 0.9629 - val_loss: 0.0826 - val_accuracy: 0.9865\n",
      "Epoch 8/10\n",
      "301/301 [==============================] - 399s 1s/step - loss: 0.1826 - accuracy: 0.9556 - val_loss: 0.0207 - val_accuracy: 0.9959\n",
      "Epoch 9/10\n",
      "301/301 [==============================] - 398s 1s/step - loss: 0.1586 - accuracy: 0.9622 - val_loss: 0.0277 - val_accuracy: 0.9949\n",
      "Epoch 10/10\n",
      "301/301 [==============================] - 393s 1s/step - loss: 0.1579 - accuracy: 0.9628 - val_loss: 0.0244 - val_accuracy: 0.9957\n",
      "Duration: 1:06:03.936261\n"
     ]
    }
   ],
   "source": [
    "print(n)#10\n",
    "models_dg[n].fit_model(image_sets_dg[n],label_sets_dg[n],x_val,y_val,epochs=10,batch_size = 64)\n",
    "n = n+1"
   ]
  },
  {
   "cell_type": "code",
   "execution_count": 91,
   "id": "2cda7f58",
   "metadata": {},
   "outputs": [
    {
     "name": "stdout",
     "output_type": "stream",
     "text": [
      "11\n",
      "Epoch 1/10\n",
      "329/329 [==============================] - 432s 1s/step - loss: 0.3175 - accuracy: 0.9293 - val_loss: 0.0157 - val_accuracy: 0.9954\n",
      "Epoch 2/10\n",
      "329/329 [==============================] - 424s 1s/step - loss: 0.1990 - accuracy: 0.9483 - val_loss: 0.0289 - val_accuracy: 0.9952\n",
      "Epoch 3/10\n",
      "329/329 [==============================] - 420s 1s/step - loss: 0.1647 - accuracy: 0.9550 - val_loss: 0.0228 - val_accuracy: 0.9939\n",
      "Epoch 4/10\n",
      "329/329 [==============================] - 422s 1s/step - loss: 0.1584 - accuracy: 0.9590 - val_loss: 0.0638 - val_accuracy: 0.9844\n",
      "Epoch 5/10\n",
      "329/329 [==============================] - 423s 1s/step - loss: 0.1548 - accuracy: 0.9588 - val_loss: 0.6519 - val_accuracy: 0.8831\n",
      "Epoch 6/10\n",
      "329/329 [==============================] - 422s 1s/step - loss: 0.1653 - accuracy: 0.9572 - val_loss: 0.0155 - val_accuracy: 0.9949\n",
      "Epoch 7/10\n",
      "329/329 [==============================] - 378s 1s/step - loss: 0.1371 - accuracy: 0.9658 - val_loss: 0.0915 - val_accuracy: 0.9804\n",
      "Epoch 8/10\n",
      "329/329 [==============================] - 358s 1s/step - loss: 0.1391 - accuracy: 0.9637 - val_loss: 0.0261 - val_accuracy: 0.9962\n",
      "Epoch 9/10\n",
      "329/329 [==============================] - 358s 1s/step - loss: 0.1541 - accuracy: 0.9625 - val_loss: 0.0689 - val_accuracy: 0.9855\n",
      "Epoch 10/10\n",
      "329/329 [==============================] - 352s 1s/step - loss: 0.1636 - accuracy: 0.9611 - val_loss: 0.0224 - val_accuracy: 0.9972\n",
      "Duration: 1:06:28.469137\n"
     ]
    }
   ],
   "source": [
    "n=11\n",
    "print(n)\n",
    "models_dg[n].fit_model(image_sets_dg[n],label_sets_dg[n],x_val,y_val,epochs=10,batch_size = 64)\n",
    "n = n+1"
   ]
  },
  {
   "cell_type": "code",
   "execution_count": 22,
   "id": "50367000",
   "metadata": {},
   "outputs": [
    {
     "name": "stdout",
     "output_type": "stream",
     "text": [
      "12\n",
      "Epoch 1/10\n",
      "356/356 [==============================] - 205s 426ms/step - loss: 0.2689 - accuracy: 0.9360 - val_loss: 0.0257 - val_accuracy: 0.9944\n",
      "Epoch 2/10\n",
      "356/356 [==============================] - 142s 400ms/step - loss: 0.1916 - accuracy: 0.9522 - val_loss: 0.0203 - val_accuracy: 0.9944\n",
      "Epoch 3/10\n",
      "356/356 [==============================] - 156s 437ms/step - loss: 0.1652 - accuracy: 0.9557 - val_loss: 0.0171 - val_accuracy: 0.9952\n",
      "Epoch 4/10\n",
      "356/356 [==============================] - 155s 436ms/step - loss: 0.1511 - accuracy: 0.9610 - val_loss: 0.0184 - val_accuracy: 0.9964\n",
      "Epoch 5/10\n",
      "356/356 [==============================] - 155s 434ms/step - loss: 0.1509 - accuracy: 0.9609 - val_loss: 0.0333 - val_accuracy: 0.9934\n",
      "Epoch 6/10\n",
      "356/356 [==============================] - 150s 421ms/step - loss: 0.1461 - accuracy: 0.9618 - val_loss: 0.0248 - val_accuracy: 0.9936\n",
      "Epoch 7/10\n",
      "356/356 [==============================] - 146s 411ms/step - loss: 0.1396 - accuracy: 0.9649 - val_loss: 0.0269 - val_accuracy: 0.9944\n",
      "Epoch 8/10\n",
      "356/356 [==============================] - 146s 410ms/step - loss: 0.1378 - accuracy: 0.9678 - val_loss: 0.0348 - val_accuracy: 0.9941\n",
      "Epoch 9/10\n",
      "356/356 [==============================] - 146s 410ms/step - loss: 0.1402 - accuracy: 0.9655 - val_loss: 0.0347 - val_accuracy: 0.9931\n",
      "Epoch 10/10\n",
      "356/356 [==============================] - 146s 410ms/step - loss: 0.1672 - accuracy: 0.9612 - val_loss: 0.0275 - val_accuracy: 0.9957\n",
      "Duration: 0:25:49.188031\n"
     ]
    }
   ],
   "source": [
    "n=12\n",
    "print(n)\n",
    "models_dg[n].fit_model(image_sets_dg[n],label_sets_dg[n],x_val,y_val,epochs=10,batch_size = 64)\n",
    "n = n+1"
   ]
  },
  {
   "cell_type": "code",
   "execution_count": 23,
   "id": "60ffaa47",
   "metadata": {},
   "outputs": [
    {
     "name": "stdout",
     "output_type": "stream",
     "text": [
      "13\n",
      "Epoch 1/10\n",
      "383/383 [==============================] - 173s 446ms/step - loss: 0.2462 - accuracy: 0.9411 - val_loss: 0.0204 - val_accuracy: 0.9957\n",
      "Epoch 2/10\n",
      "383/383 [==============================] - 179s 467ms/step - loss: 0.1795 - accuracy: 0.9544 - val_loss: 0.0171 - val_accuracy: 0.9949\n",
      "Epoch 3/10\n",
      "383/383 [==============================] - 176s 458ms/step - loss: 0.1697 - accuracy: 0.9560 - val_loss: 0.0224 - val_accuracy: 0.9959\n",
      "Epoch 4/10\n",
      "383/383 [==============================] - 175s 458ms/step - loss: 0.1419 - accuracy: 0.9637 - val_loss: 0.0210 - val_accuracy: 0.9944\n",
      "Epoch 5/10\n",
      "383/383 [==============================] - 176s 459ms/step - loss: 0.1428 - accuracy: 0.9637 - val_loss: 0.0178 - val_accuracy: 0.9941\n",
      "Epoch 6/10\n",
      "383/383 [==============================] - 177s 462ms/step - loss: 0.1436 - accuracy: 0.9630 - val_loss: 0.0403 - val_accuracy: 0.9923\n",
      "Epoch 7/10\n",
      "383/383 [==============================] - 176s 460ms/step - loss: 0.1384 - accuracy: 0.9670 - val_loss: 0.0355 - val_accuracy: 0.9936\n",
      "Epoch 8/10\n",
      "383/383 [==============================] - 177s 461ms/step - loss: 0.1441 - accuracy: 0.9651 - val_loss: 0.0509 - val_accuracy: 0.9923\n",
      "Epoch 9/10\n",
      "383/383 [==============================] - 175s 458ms/step - loss: 0.1396 - accuracy: 0.9687 - val_loss: 0.0385 - val_accuracy: 0.9941\n",
      "Epoch 10/10\n",
      "383/383 [==============================] - 176s 459ms/step - loss: 0.1402 - accuracy: 0.9667 - val_loss: 0.0787 - val_accuracy: 0.9847\n",
      "Duration: 0:29:19.727634\n"
     ]
    }
   ],
   "source": [
    "print(n)\n",
    "models_dg[n].fit_model(image_sets_dg[n],label_sets_dg[n],x_val,y_val,epochs=10,batch_size = 64)\n",
    "n = n+1"
   ]
  },
  {
   "cell_type": "code",
   "execution_count": 24,
   "id": "3344080a",
   "metadata": {},
   "outputs": [
    {
     "name": "stdout",
     "output_type": "stream",
     "text": [
      "14\n",
      "Epoch 1/10\n",
      "411/411 [==============================] - 193s 462ms/step - loss: 0.2567 - accuracy: 0.9404 - val_loss: 0.0157 - val_accuracy: 0.9964\n",
      "Epoch 2/10\n",
      "411/411 [==============================] - 189s 459ms/step - loss: 0.1600 - accuracy: 0.9581 - val_loss: 0.0232 - val_accuracy: 0.9934\n",
      "Epoch 3/10\n",
      "411/411 [==============================] - 189s 459ms/step - loss: 0.1573 - accuracy: 0.9588 - val_loss: 0.0285 - val_accuracy: 0.9949\n",
      "Epoch 4/10\n",
      "411/411 [==============================] - 188s 458ms/step - loss: 0.1505 - accuracy: 0.9608 - val_loss: 0.0487 - val_accuracy: 0.9906\n",
      "Epoch 5/10\n",
      "411/411 [==============================] - 188s 457ms/step - loss: 0.1484 - accuracy: 0.9616 - val_loss: 0.0412 - val_accuracy: 0.9900\n",
      "Epoch 6/10\n",
      "411/411 [==============================] - 188s 458ms/step - loss: 0.1379 - accuracy: 0.9656 - val_loss: 0.0262 - val_accuracy: 0.9941\n",
      "Epoch 7/10\n",
      "411/411 [==============================] - 188s 458ms/step - loss: 0.1455 - accuracy: 0.9650 - val_loss: 0.0160 - val_accuracy: 0.9962\n",
      "Epoch 8/10\n",
      "411/411 [==============================] - 188s 458ms/step - loss: 0.1412 - accuracy: 0.9668 - val_loss: 0.0246 - val_accuracy: 0.9949\n",
      "Epoch 9/10\n",
      "411/411 [==============================] - 187s 456ms/step - loss: 0.1429 - accuracy: 0.9674 - val_loss: 0.3210 - val_accuracy: 0.9421\n",
      "Epoch 10/10\n",
      "411/411 [==============================] - 187s 456ms/step - loss: 0.1609 - accuracy: 0.9652 - val_loss: 0.0380 - val_accuracy: 0.9929\n",
      "Duration: 0:31:25.410393\n"
     ]
    }
   ],
   "source": [
    "print(n)\n",
    "models_dg[n].fit_model(image_sets_dg[n],label_sets_dg[n],x_val,y_val,epochs=10,batch_size = 64)\n",
    "n = n+1"
   ]
  },
  {
   "cell_type": "code",
   "execution_count": 25,
   "id": "f9358860",
   "metadata": {},
   "outputs": [
    {
     "name": "stdout",
     "output_type": "stream",
     "text": [
      "15\n",
      "Epoch 1/10\n",
      "438/438 [==============================] - 206s 463ms/step - loss: 0.2187 - accuracy: 0.9496 - val_loss: 0.0384 - val_accuracy: 0.9911\n",
      "Epoch 2/10\n",
      "438/438 [==============================] - 200s 457ms/step - loss: 0.1663 - accuracy: 0.9569 - val_loss: 0.0244 - val_accuracy: 0.9931\n",
      "Epoch 3/10\n",
      "438/438 [==============================] - 201s 458ms/step - loss: 0.1483 - accuracy: 0.9616 - val_loss: 0.0596 - val_accuracy: 0.9878\n",
      "Epoch 4/10\n",
      "438/438 [==============================] - 200s 456ms/step - loss: 0.1357 - accuracy: 0.9650 - val_loss: 0.0445 - val_accuracy: 0.9936\n",
      "Epoch 5/10\n",
      "438/438 [==============================] - 200s 458ms/step - loss: 0.1405 - accuracy: 0.9647 - val_loss: 0.0346 - val_accuracy: 0.9946\n",
      "Epoch 6/10\n",
      "438/438 [==============================] - 201s 459ms/step - loss: 0.1324 - accuracy: 0.9662 - val_loss: 0.0312 - val_accuracy: 0.9913\n",
      "Epoch 7/10\n",
      "438/438 [==============================] - 200s 456ms/step - loss: 0.1373 - accuracy: 0.9662 - val_loss: 0.0207 - val_accuracy: 0.9944\n",
      "Epoch 8/10\n",
      "438/438 [==============================] - 200s 456ms/step - loss: 0.1389 - accuracy: 0.9669 - val_loss: 0.0246 - val_accuracy: 0.9946\n",
      "Epoch 9/10\n",
      "438/438 [==============================] - 200s 457ms/step - loss: 0.1510 - accuracy: 0.9650 - val_loss: 0.0269 - val_accuracy: 0.9949\n",
      "Epoch 10/10\n",
      "438/438 [==============================] - 200s 456ms/step - loss: 0.1445 - accuracy: 0.9656 - val_loss: 0.0281 - val_accuracy: 0.9923\n",
      "Duration: 0:33:27.008014\n"
     ]
    }
   ],
   "source": [
    "print(n)#15\n",
    "models_dg[n].fit_model(image_sets_dg[n],label_sets_dg[n],x_val,y_val,epochs=10,batch_size = 64)\n",
    "n = n+1"
   ]
  },
  {
   "cell_type": "code",
   "execution_count": 26,
   "id": "b7e50494",
   "metadata": {},
   "outputs": [
    {
     "name": "stdout",
     "output_type": "stream",
     "text": [
      "16\n",
      "Epoch 1/10\n",
      "465/465 [==============================] - 211s 447ms/step - loss: 0.2137 - accuracy: 0.9502 - val_loss: 0.0420 - val_accuracy: 0.9908\n",
      "Epoch 2/10\n",
      "465/465 [==============================] - 196s 421ms/step - loss: 0.1519 - accuracy: 0.9599 - val_loss: 0.0242 - val_accuracy: 0.9952\n",
      "Epoch 3/10\n",
      "465/465 [==============================] - 196s 420ms/step - loss: 0.1410 - accuracy: 0.9647 - val_loss: 0.0219 - val_accuracy: 0.9952\n",
      "Epoch 4/10\n",
      "465/465 [==============================] - 196s 422ms/step - loss: 0.1412 - accuracy: 0.9650 - val_loss: 0.0246 - val_accuracy: 0.9969\n",
      "Epoch 5/10\n",
      "465/465 [==============================] - 196s 422ms/step - loss: 0.1307 - accuracy: 0.9676 - val_loss: 0.0248 - val_accuracy: 0.9952\n",
      "Epoch 6/10\n",
      "465/465 [==============================] - 196s 421ms/step - loss: 0.1417 - accuracy: 0.9662 - val_loss: 0.0375 - val_accuracy: 0.9923\n",
      "Epoch 7/10\n",
      "465/465 [==============================] - 195s 420ms/step - loss: 0.1390 - accuracy: 0.9662 - val_loss: 0.0257 - val_accuracy: 0.9954\n",
      "Epoch 8/10\n",
      "465/465 [==============================] - 195s 420ms/step - loss: 0.1487 - accuracy: 0.9669 - val_loss: 0.0955 - val_accuracy: 0.9834\n",
      "Epoch 9/10\n",
      "465/465 [==============================] - 210s 451ms/step - loss: 0.1429 - accuracy: 0.9646 - val_loss: 0.0392 - val_accuracy: 0.9936\n",
      "Epoch 10/10\n",
      "465/465 [==============================] - 214s 461ms/step - loss: 0.1516 - accuracy: 0.9667 - val_loss: 0.0390 - val_accuracy: 0.9941\n",
      "Duration: 0:33:25.077152\n"
     ]
    }
   ],
   "source": [
    "print(n)\n",
    "models_dg[n].fit_model(image_sets_dg[n],label_sets_dg[n],x_val,y_val,epochs=10,batch_size = 64)\n",
    "n = n+1"
   ]
  },
  {
   "cell_type": "code",
   "execution_count": 27,
   "id": "c8510837",
   "metadata": {},
   "outputs": [
    {
     "name": "stdout",
     "output_type": "stream",
     "text": [
      "17\n",
      "Epoch 1/10\n",
      "493/493 [==============================] - 229s 458ms/step - loss: 0.2058 - accuracy: 0.9539 - val_loss: 0.0446 - val_accuracy: 0.9890\n",
      "Epoch 2/10\n",
      "493/493 [==============================] - 225s 456ms/step - loss: 0.1537 - accuracy: 0.9594 - val_loss: 0.0350 - val_accuracy: 0.9949\n",
      "Epoch 3/10\n",
      "493/493 [==============================] - 225s 457ms/step - loss: 0.1439 - accuracy: 0.9655 - val_loss: 0.0218 - val_accuracy: 0.9952\n",
      "Epoch 4/10\n",
      "493/493 [==============================] - 229s 464ms/step - loss: 0.1362 - accuracy: 0.9668 - val_loss: 0.0211 - val_accuracy: 0.9959\n",
      "Epoch 5/10\n",
      "493/493 [==============================] - 234s 474ms/step - loss: 0.1292 - accuracy: 0.9689 - val_loss: 0.0292 - val_accuracy: 0.9929\n",
      "Epoch 6/10\n",
      "493/493 [==============================] - 231s 468ms/step - loss: 0.1374 - accuracy: 0.9671 - val_loss: 0.0152 - val_accuracy: 0.9962\n",
      "Epoch 7/10\n",
      "493/493 [==============================] - 226s 458ms/step - loss: 0.1331 - accuracy: 0.9688 - val_loss: 0.0205 - val_accuracy: 0.9949\n",
      "Epoch 8/10\n",
      "493/493 [==============================] - 225s 457ms/step - loss: 0.1353 - accuracy: 0.9684 - val_loss: 0.0241 - val_accuracy: 0.9957\n",
      "Epoch 9/10\n",
      "493/493 [==============================] - 225s 457ms/step - loss: 0.1374 - accuracy: 0.9696 - val_loss: 0.0270 - val_accuracy: 0.9946\n",
      "Epoch 10/10\n",
      "493/493 [==============================] - 224s 455ms/step - loss: 0.1432 - accuracy: 0.9695 - val_loss: 0.0556 - val_accuracy: 0.9883\n",
      "Duration: 0:37:52.822865\n"
     ]
    }
   ],
   "source": [
    "print(n)\n",
    "models_dg[n].fit_model(image_sets_dg[n],label_sets_dg[n],x_val,y_val,epochs=10,batch_size = 64)\n",
    "n = n+1"
   ]
  },
  {
   "cell_type": "code",
   "execution_count": 28,
   "id": "49761e00",
   "metadata": {},
   "outputs": [
    {
     "name": "stdout",
     "output_type": "stream",
     "text": [
      "18\n",
      "Epoch 1/10\n",
      "520/520 [==============================] - 241s 457ms/step - loss: 0.2112 - accuracy: 0.9531 - val_loss: 0.0213 - val_accuracy: 0.9946\n",
      "Epoch 2/10\n",
      "520/520 [==============================] - 238s 458ms/step - loss: 0.1463 - accuracy: 0.9632 - val_loss: 0.0223 - val_accuracy: 0.9944\n",
      "Epoch 3/10\n",
      "520/520 [==============================] - 237s 456ms/step - loss: 0.1370 - accuracy: 0.9658 - val_loss: 0.0220 - val_accuracy: 0.9954\n",
      "Epoch 4/10\n",
      "520/520 [==============================] - 237s 456ms/step - loss: 0.1453 - accuracy: 0.9654 - val_loss: 0.0241 - val_accuracy: 0.9941\n",
      "Epoch 5/10\n",
      "520/520 [==============================] - 237s 456ms/step - loss: 0.1344 - accuracy: 0.9679 - val_loss: 0.0200 - val_accuracy: 0.9952\n",
      "Epoch 6/10\n",
      "520/520 [==============================] - 239s 460ms/step - loss: 0.1358 - accuracy: 0.9674 - val_loss: 0.0206 - val_accuracy: 0.9949\n",
      "Epoch 7/10\n",
      "520/520 [==============================] - 238s 457ms/step - loss: 0.1288 - accuracy: 0.9703 - val_loss: 0.0233 - val_accuracy: 0.9949\n",
      "Epoch 8/10\n",
      "520/520 [==============================] - 238s 457ms/step - loss: 0.1492 - accuracy: 0.9678 - val_loss: 0.0248 - val_accuracy: 0.9946\n",
      "Epoch 9/10\n",
      "520/520 [==============================] - 217s 418ms/step - loss: 0.1337 - accuracy: 0.9688 - val_loss: 0.0355 - val_accuracy: 0.9941\n",
      "Epoch 10/10\n",
      "520/520 [==============================] - 217s 418ms/step - loss: 0.1441 - accuracy: 0.9678 - val_loss: 0.0263 - val_accuracy: 0.9936\n",
      "Duration: 0:38:59.915134\n"
     ]
    }
   ],
   "source": [
    "print(n)\n",
    "models_dg[n].fit_model(image_sets_dg[n],label_sets_dg[n],x_val,y_val,epochs=10,batch_size = 64)\n",
    "n = n+1"
   ]
  },
  {
   "cell_type": "code",
   "execution_count": 29,
   "id": "f3b393ee",
   "metadata": {},
   "outputs": [
    {
     "name": "stdout",
     "output_type": "stream",
     "text": [
      "19\n",
      "Epoch 1/10\n",
      "547/547 [==============================] - 232s 420ms/step - loss: 0.1881 - accuracy: 0.9564 - val_loss: 0.0261 - val_accuracy: 0.9921\n",
      "Epoch 2/10\n",
      "547/547 [==============================] - 229s 418ms/step - loss: 0.1387 - accuracy: 0.9647 - val_loss: 0.0207 - val_accuracy: 0.9949\n",
      "Epoch 3/10\n",
      "547/547 [==============================] - 229s 419ms/step - loss: 0.1277 - accuracy: 0.9680 - val_loss: 0.0131 - val_accuracy: 0.9967\n",
      "Epoch 4/10\n",
      "547/547 [==============================] - 229s 419ms/step - loss: 0.1248 - accuracy: 0.9668 - val_loss: 0.0211 - val_accuracy: 0.9959\n",
      "Epoch 5/10\n",
      "547/547 [==============================] - 236s 431ms/step - loss: 0.1221 - accuracy: 0.9708 - val_loss: 0.0198 - val_accuracy: 0.9954\n",
      "Epoch 6/10\n",
      "547/547 [==============================] - 250s 456ms/step - loss: 0.1223 - accuracy: 0.9698 - val_loss: 0.0210 - val_accuracy: 0.9946\n",
      "Epoch 7/10\n",
      "547/547 [==============================] - 229s 418ms/step - loss: 0.1291 - accuracy: 0.9685 - val_loss: 0.0307 - val_accuracy: 0.9957\n",
      "Epoch 8/10\n",
      "547/547 [==============================] - 233s 426ms/step - loss: 0.1395 - accuracy: 0.9689 - val_loss: 0.0383 - val_accuracy: 0.9918\n",
      "Epoch 9/10\n",
      "547/547 [==============================] - 229s 418ms/step - loss: 0.1430 - accuracy: 0.9679 - val_loss: 0.0285 - val_accuracy: 0.9952\n",
      "Epoch 10/10\n",
      "547/547 [==============================] - 229s 418ms/step - loss: 0.1412 - accuracy: 0.9687 - val_loss: 0.0283 - val_accuracy: 0.9939\n",
      "Duration: 0:38:43.854644\n"
     ]
    }
   ],
   "source": [
    "print(n)\n",
    "models_dg[n].fit_model(image_sets_dg[n],label_sets_dg[n],x_val,y_val,epochs=10,batch_size = 64)\n",
    "n = n+1"
   ]
  },
  {
   "cell_type": "code",
   "execution_count": 30,
   "id": "3583f6f1",
   "metadata": {},
   "outputs": [
    {
     "name": "stdout",
     "output_type": "stream",
     "text": [
      "20\n",
      "Epoch 1/10\n",
      "552/552 [==============================] - 236s 423ms/step - loss: 0.2042 - accuracy: 0.9535 - val_loss: 0.0344 - val_accuracy: 0.9918\n",
      "Epoch 2/10\n",
      "552/552 [==============================] - 232s 420ms/step - loss: 0.1411 - accuracy: 0.9644 - val_loss: 0.0363 - val_accuracy: 0.9931\n",
      "Epoch 3/10\n",
      "552/552 [==============================] - 243s 440ms/step - loss: 0.1320 - accuracy: 0.9666 - val_loss: 0.0342 - val_accuracy: 0.9944\n",
      "Epoch 4/10\n",
      "552/552 [==============================] - 251s 456ms/step - loss: 0.1226 - accuracy: 0.9692 - val_loss: 0.0222 - val_accuracy: 0.9959\n",
      "Epoch 5/10\n",
      "552/552 [==============================] - 243s 440ms/step - loss: 0.1301 - accuracy: 0.9683 - val_loss: 0.0334 - val_accuracy: 0.9936\n",
      "Epoch 6/10\n",
      "552/552 [==============================] - 232s 420ms/step - loss: 0.1334 - accuracy: 0.9683 - val_loss: 0.0338 - val_accuracy: 0.9941\n",
      "Epoch 7/10\n",
      "552/552 [==============================] - 231s 419ms/step - loss: 0.1329 - accuracy: 0.9689 - val_loss: 0.0298 - val_accuracy: 0.9946\n",
      "Epoch 8/10\n",
      "552/552 [==============================] - 231s 418ms/step - loss: 0.1340 - accuracy: 0.9685 - val_loss: 0.0233 - val_accuracy: 0.9959\n",
      "Epoch 9/10\n",
      "552/552 [==============================] - 234s 423ms/step - loss: 0.1316 - accuracy: 0.9712 - val_loss: 0.0363 - val_accuracy: 0.9923\n",
      "Epoch 10/10\n",
      "552/552 [==============================] - 230s 418ms/step - loss: 0.1489 - accuracy: 0.9673 - val_loss: 0.0344 - val_accuracy: 0.9952\n",
      "Duration: 0:39:23.006305\n"
     ]
    }
   ],
   "source": [
    "print(n)\n",
    "models_dg[n].fit_model(image_sets_dg[n],label_sets_dg[n],x_val,y_val,epochs=10,batch_size = 64)\n",
    "n = n+1"
   ]
  },
  {
   "cell_type": "code",
   "execution_count": null,
   "id": "eec48aaa",
   "metadata": {},
   "outputs": [
    {
     "name": "stdout",
     "output_type": "stream",
     "text": [
      "INFO:tensorflow:Assets written to: D:/models/aug_22/gtsrb/C2/gtsrb_model_c2_aug_dg_e1_12\\assets\n",
      "Model has been saved\n"
     ]
    }
   ],
   "source": [
    "\n",
    "new_model_dg_dir  = \"D:/models/aug_22/gtsrb/C2/gtsrb_model_c2_aug_dg_e1\"\n",
    "\n",
    "i=12\n",
    "\n",
    "for model in models_dg[12:]:\n",
    "    model.save(new_model_dg_dir+\"_\"+str(i))\n",
    "    i+=1"
   ]
  },
  {
   "cell_type": "code",
   "execution_count": null,
   "id": "17e60676",
   "metadata": {},
   "outputs": [],
   "source": [
    "loading = False\n",
    "\n",
    "models_dg = []\n",
    "\n",
    "if loading:\n",
    "    for i in range(5):\n",
    "        model_dg_dir = \"D:/models/aug_22/gtsrb/C1/gtsrb_model_c1_aug_gn_e1_\"+str(i)\n",
    "        print(model_dg_dir)\n",
    "        model =utils.My_model('gtsrb',True,model_dg_dir)\n",
    "        model.model.compile(loss= 'categorical_crossentropy', optimizer = 'rmsprop', metrics = ['accuracy',tf.keras.metrics.Precision(), tf.keras.metrics.Recall()])\n",
    "        models_dg.append(model)\n",
    "       \n",
    "    "
   ]
  },
  {
   "cell_type": "code",
   "execution_count": null,
   "id": "2b8f5e4e",
   "metadata": {},
   "outputs": [],
   "source": [
    "try:\n",
    "    del deep_gini_values\n",
    "    del top_images_by_dg\n",
    "    del top_labels_by_dg\n",
    "    del image_sets_dg\n",
    "    del label_sets_dg\n",
    "    del models_dg\n",
    "except:\n",
    "    print(\"Error\")"
   ]
  },
  {
   "cell_type": "code",
   "execution_count": null,
   "id": "c70ce257",
   "metadata": {},
   "outputs": [],
   "source": [
    "import gc\n",
    "gc.collect()"
   ]
  },
  {
   "cell_type": "markdown",
   "id": "55c50119",
   "metadata": {},
   "source": [
    "### Softmax "
   ]
  },
  {
   "cell_type": "code",
   "execution_count": 17,
   "id": "8d58b9e0",
   "metadata": {},
   "outputs": [],
   "source": [
    "#softmax values\n",
    "se_direction = \"C:/Users/fjdur/Documents/upc-july/data/\"+dataset+\"/softmax_values.npy\"\n",
    "se_values = np.load(se_direction)\n"
   ]
  },
  {
   "cell_type": "code",
   "execution_count": 18,
   "id": "1f59b50b",
   "metadata": {},
   "outputs": [],
   "source": [
    "# Obtaining top n images by LSA values\n",
    "top_images_by_se  = utils.get_x_of_indexes(list(np.flip(np.argsort(se_values))),x_train_and_adversary)\n",
    "top_labels_by_se = utils.get_x_of_indexes(list(np.flip(np.argsort(se_values))),y_train_and_adversary)"
   ]
  },
  {
   "cell_type": "code",
   "execution_count": 19,
   "id": "90c005be",
   "metadata": {},
   "outputs": [
    {
     "name": "stdout",
     "output_type": "stream",
     "text": [
      "0 :\n",
      "0  ->  1750\n",
      "1750\n",
      "1 :\n",
      "0  ->  3500\n",
      "3500\n",
      "2 :\n",
      "0  ->  5250\n",
      "5250\n",
      "3 :\n",
      "0  ->  7000\n",
      "7000\n",
      "4 :\n",
      "0  ->  8750\n",
      "8750\n",
      "5 :\n",
      "0  ->  10500\n",
      "10500\n",
      "6 :\n",
      "0  ->  12250\n",
      "12250\n",
      "7 :\n",
      "0  ->  14000\n",
      "14000\n",
      "8 :\n",
      "0  ->  15750\n",
      "15750\n",
      "9 :\n",
      "0  ->  17500\n",
      "17500\n",
      "10 :\n",
      "0  ->  19250\n",
      "19250\n",
      "11 :\n",
      "0  ->  21000\n",
      "21000\n",
      "12 :\n",
      "0  ->  22750\n",
      "22750\n",
      "13 :\n",
      "0  ->  24500\n",
      "24500\n",
      "14 :\n",
      "0  ->  26250\n",
      "26250\n",
      "15 :\n",
      "0  ->  28000\n",
      "28000\n",
      "16 :\n",
      "0  ->  29750\n",
      "29750\n",
      "17 :\n",
      "0  ->  31500\n",
      "31500\n",
      "18 :\n",
      "0  ->  33250\n",
      "33250\n",
      "19 :\n",
      "0  ->  35000\n",
      "35000\n",
      "20 :\n",
      "Last\n",
      "0  ->  37037\n",
      "35287\n"
     ]
    }
   ],
   "source": [
    "m = n_data_points\n",
    "\n",
    "n = 0\n",
    "image_sets_se = []\n",
    "label_sets_se = []\n",
    "\n",
    "# last\n",
    "#for i in range(0,len(top_images_by_lsa)//m):\n",
    "\n",
    "for i in range((len(top_images_by_se)//m)+1):\n",
    "    print(i,\":\")\n",
    "    if (i+1 >= ((len(top_images_by_se)//m)+1)):\n",
    "        print(\"Last\")\n",
    "        print(0,\" -> \",n+m+(len(top_images_by_se)%m))\n",
    "        top_images_by_se_n = np.array(top_images_by_se[:n+m+(len(top_images_by_se)%m)])\n",
    "        top_labels_by_se_n = np.array(top_labels_by_se[:n+m+(len(top_images_by_se)%m)])\n",
    "    else:\n",
    "        print(0,\" -> \",m+n)\n",
    "        top_images_by_se_n = np.array(top_images_by_se[:n+m])\n",
    "        top_labels_by_se_n = np.array(top_labels_by_se[:n+m])\n",
    "    image_sets_se.append(top_images_by_se_n)\n",
    "    label_sets_se.append(top_labels_by_se_n)\n",
    "    print(len(top_images_by_se_n))\n",
    "    n += m\n",
    "\n"
   ]
  },
  {
   "cell_type": "code",
   "execution_count": 20,
   "id": "7a6e01cb",
   "metadata": {},
   "outputs": [
    {
     "name": "stdout",
     "output_type": "stream",
     "text": [
      "C:/Users/fjdur/Documents/upc-july/models/tf_model_25-06/\n",
      "0 :\n",
      "Model loaded correctly\n",
      "Model compiled\n",
      "1 :\n",
      "Model loaded correctly\n",
      "Model compiled\n",
      "2 :\n",
      "Model loaded correctly\n",
      "Model compiled\n",
      "3 :\n",
      "Model loaded correctly\n",
      "Model compiled\n",
      "4 :\n",
      "Model loaded correctly\n",
      "Model compiled\n",
      "5 :\n",
      "Model loaded correctly\n",
      "Model compiled\n",
      "6 :\n",
      "Model loaded correctly\n",
      "Model compiled\n",
      "7 :\n",
      "Model loaded correctly\n",
      "Model compiled\n",
      "8 :\n",
      "Model loaded correctly\n",
      "Model compiled\n",
      "9 :\n",
      "Model loaded correctly\n",
      "Model compiled\n",
      "10 :\n",
      "Model loaded correctly\n",
      "Model compiled\n",
      "11 :\n",
      "Model loaded correctly\n",
      "Model compiled\n",
      "12 :\n",
      "Model loaded correctly\n",
      "Model compiled\n",
      "13 :\n",
      "Model loaded correctly\n",
      "Model compiled\n",
      "14 :\n",
      "Model loaded correctly\n",
      "Model compiled\n",
      "15 :\n",
      "Model loaded correctly\n",
      "Model compiled\n",
      "16 :\n",
      "Model loaded correctly\n",
      "Model compiled\n",
      "17 :\n",
      "Model loaded correctly\n",
      "Model compiled\n",
      "18 :\n",
      "Model loaded correctly\n",
      "Model compiled\n",
      "19 :\n",
      "Model loaded correctly\n",
      "Model compiled\n",
      "20 :\n",
      "Model loaded correctly\n",
      "Model compiled\n"
     ]
    }
   ],
   "source": [
    "print(model_dir)\n",
    "models_se = []\n",
    "for i in range(len(label_sets_se)):\n",
    "    print(i,\":\")\n",
    "    model = utils.My_model(dataset,True, model_dir)\n",
    "    model.compile_model()\n",
    "    models_se.append(model)"
   ]
  },
  {
   "cell_type": "code",
   "execution_count": 21,
   "id": "f64cd379",
   "metadata": {},
   "outputs": [
    {
     "name": "stdout",
     "output_type": "stream",
     "text": [
      "0\n",
      "Epoch 1/10\n",
      "28/28 [==============================] - 46s 565ms/step - loss: 2.8955 - accuracy: 0.3360 - val_loss: 0.0431 - val_accuracy: 0.9898\n",
      "Epoch 2/10\n",
      "28/28 [==============================] - 16s 560ms/step - loss: 1.6643 - accuracy: 0.5391 - val_loss: 0.0281 - val_accuracy: 0.9923\n",
      "Epoch 3/10\n",
      "28/28 [==============================] - 15s 558ms/step - loss: 1.2584 - accuracy: 0.6345 - val_loss: 0.0542 - val_accuracy: 0.9862\n",
      "Epoch 4/10\n",
      "28/28 [==============================] - 15s 533ms/step - loss: 1.0958 - accuracy: 0.6793 - val_loss: 0.0390 - val_accuracy: 0.9906\n",
      "Epoch 5/10\n",
      "28/28 [==============================] - 14s 520ms/step - loss: 0.8742 - accuracy: 0.7473 - val_loss: 0.0421 - val_accuracy: 0.9890\n",
      "Epoch 6/10\n",
      "28/28 [==============================] - 14s 519ms/step - loss: 0.8162 - accuracy: 0.7591 - val_loss: 0.0662 - val_accuracy: 0.9832\n",
      "Epoch 7/10\n",
      "28/28 [==============================] - 14s 513ms/step - loss: 0.7226 - accuracy: 0.7935 - val_loss: 0.1209 - val_accuracy: 0.9732\n",
      "Epoch 8/10\n",
      "28/28 [==============================] - 14s 513ms/step - loss: 0.7102 - accuracy: 0.7926 - val_loss: 0.0482 - val_accuracy: 0.9880\n",
      "Epoch 9/10\n",
      "28/28 [==============================] - 14s 513ms/step - loss: 0.6309 - accuracy: 0.8207 - val_loss: 0.0428 - val_accuracy: 0.9898\n",
      "Epoch 10/10\n",
      "28/28 [==============================] - 14s 513ms/step - loss: 0.5537 - accuracy: 0.8405 - val_loss: 0.0761 - val_accuracy: 0.9844\n",
      "Duration: 0:02:59.371784\n"
     ]
    }
   ],
   "source": [
    "n=0\n",
    "print(n)\n",
    "models_se[n].fit_model(image_sets_se[n],label_sets_se[n],x_val,y_val,epochs=10,batch_size = 64)\n",
    "n = n+1"
   ]
  },
  {
   "cell_type": "code",
   "execution_count": 22,
   "id": "190558b1",
   "metadata": {},
   "outputs": [
    {
     "name": "stdout",
     "output_type": "stream",
     "text": [
      "1\n",
      "Epoch 1/10\n",
      "55/55 [==============================] - 26s 444ms/step - loss: 1.5617 - accuracy: 0.6303 - val_loss: 0.0266 - val_accuracy: 0.9946\n",
      "Epoch 2/10\n",
      "55/55 [==============================] - 24s 446ms/step - loss: 0.9600 - accuracy: 0.7546 - val_loss: 0.0154 - val_accuracy: 0.9954\n",
      "Epoch 3/10\n",
      "55/55 [==============================] - 24s 438ms/step - loss: 0.7111 - accuracy: 0.8017 - val_loss: 0.0390 - val_accuracy: 0.9936\n",
      "Epoch 4/10\n",
      "55/55 [==============================] - 24s 443ms/step - loss: 0.6581 - accuracy: 0.8186 - val_loss: 0.0209 - val_accuracy: 0.9954\n",
      "Epoch 5/10\n",
      "55/55 [==============================] - 25s 464ms/step - loss: 0.5885 - accuracy: 0.8372 - val_loss: 0.0166 - val_accuracy: 0.9969\n",
      "Epoch 6/10\n",
      "55/55 [==============================] - 25s 452ms/step - loss: 0.5251 - accuracy: 0.8543 - val_loss: 0.0128 - val_accuracy: 0.9957\n",
      "Epoch 7/10\n",
      "55/55 [==============================] - 24s 437ms/step - loss: 0.4655 - accuracy: 0.8700 - val_loss: 0.0144 - val_accuracy: 0.9964\n",
      "Epoch 8/10\n",
      "55/55 [==============================] - 24s 440ms/step - loss: 0.3913 - accuracy: 0.8874 - val_loss: 0.0139 - val_accuracy: 0.9959\n",
      "Epoch 9/10\n",
      "55/55 [==============================] - 24s 444ms/step - loss: 0.3427 - accuracy: 0.8973 - val_loss: 0.0208 - val_accuracy: 0.9941\n",
      "Epoch 10/10\n",
      "55/55 [==============================] - 24s 446ms/step - loss: 0.3245 - accuracy: 0.9104 - val_loss: 0.0156 - val_accuracy: 0.9954\n",
      "Duration: 0:04:06.104658\n"
     ]
    }
   ],
   "source": [
    "print(n)\n",
    "models_se[n].fit_model(image_sets_se[n],label_sets_se[n],x_val,y_val,epochs=10,batch_size = 64)\n",
    "n = n+1"
   ]
  },
  {
   "cell_type": "code",
   "execution_count": 23,
   "id": "b59702fb",
   "metadata": {},
   "outputs": [
    {
     "name": "stdout",
     "output_type": "stream",
     "text": [
      "2\n",
      "Epoch 1/10\n",
      "83/83 [==============================] - 37s 420ms/step - loss: 1.1055 - accuracy: 0.7487 - val_loss: 0.0281 - val_accuracy: 0.9946\n",
      "Epoch 2/10\n",
      "83/83 [==============================] - 35s 420ms/step - loss: 0.6118 - accuracy: 0.8321 - val_loss: 0.0198 - val_accuracy: 0.9959\n",
      "Epoch 3/10\n",
      "83/83 [==============================] - 35s 426ms/step - loss: 0.4941 - accuracy: 0.8559 - val_loss: 0.0266 - val_accuracy: 0.9941\n",
      "Epoch 4/10\n",
      "83/83 [==============================] - 36s 431ms/step - loss: 0.4236 - accuracy: 0.8842 - val_loss: 0.0210 - val_accuracy: 0.9949\n",
      "Epoch 5/10\n",
      "83/83 [==============================] - 36s 436ms/step - loss: 0.3955 - accuracy: 0.8852 - val_loss: 0.0181 - val_accuracy: 0.9964\n",
      "Epoch 6/10\n",
      "83/83 [==============================] - 37s 442ms/step - loss: 0.3228 - accuracy: 0.9154 - val_loss: 0.1208 - val_accuracy: 0.9806\n",
      "Epoch 7/10\n",
      "83/83 [==============================] - 37s 447ms/step - loss: 0.3526 - accuracy: 0.8950 - val_loss: 0.0146 - val_accuracy: 0.9972\n",
      "Epoch 8/10\n",
      "83/83 [==============================] - 37s 452ms/step - loss: 0.2949 - accuracy: 0.9211 - val_loss: 0.0208 - val_accuracy: 0.9972\n",
      "Epoch 9/10\n",
      "83/83 [==============================] - 38s 459ms/step - loss: 0.2843 - accuracy: 0.9201 - val_loss: 0.0264 - val_accuracy: 0.9949\n",
      "Epoch 10/10\n",
      "83/83 [==============================] - 39s 469ms/step - loss: 0.2583 - accuracy: 0.9265 - val_loss: 0.0468 - val_accuracy: 0.9913\n",
      "Duration: 0:06:06.670738\n"
     ]
    }
   ],
   "source": [
    "print(n)\n",
    "models_se[n].fit_model(image_sets_se[n],label_sets_se[n],x_val,y_val,epochs=10,batch_size = 64)\n",
    "n = n+1"
   ]
  },
  {
   "cell_type": "code",
   "execution_count": 24,
   "id": "2b3c34ed",
   "metadata": {},
   "outputs": [
    {
     "name": "stdout",
     "output_type": "stream",
     "text": [
      "3\n",
      "Epoch 1/10\n",
      "110/110 [==============================] - 52s 458ms/step - loss: 0.8791 - accuracy: 0.8024 - val_loss: 0.0205 - val_accuracy: 0.9957\n",
      "Epoch 2/10\n",
      "110/110 [==============================] - 50s 452ms/step - loss: 0.4640 - accuracy: 0.8743 - val_loss: 0.0221 - val_accuracy: 0.9946\n",
      "Epoch 3/10\n",
      "110/110 [==============================] - 50s 455ms/step - loss: 0.3873 - accuracy: 0.8926 - val_loss: 0.0376 - val_accuracy: 0.9895\n",
      "Epoch 4/10\n",
      "110/110 [==============================] - 50s 454ms/step - loss: 0.3342 - accuracy: 0.9102 - val_loss: 0.0222 - val_accuracy: 0.9949\n",
      "Epoch 5/10\n",
      "110/110 [==============================] - 50s 455ms/step - loss: 0.3169 - accuracy: 0.9142 - val_loss: 0.0137 - val_accuracy: 0.9959\n",
      "Epoch 6/10\n",
      "110/110 [==============================] - 50s 453ms/step - loss: 0.2861 - accuracy: 0.9169 - val_loss: 0.0235 - val_accuracy: 0.9946\n",
      "Epoch 7/10\n",
      "110/110 [==============================] - 50s 456ms/step - loss: 0.2698 - accuracy: 0.9202 - val_loss: 0.0174 - val_accuracy: 0.9954\n",
      "Epoch 8/10\n",
      "110/110 [==============================] - 50s 457ms/step - loss: 0.2705 - accuracy: 0.9278 - val_loss: 0.0185 - val_accuracy: 0.9974\n",
      "Epoch 9/10\n",
      "110/110 [==============================] - 50s 459ms/step - loss: 0.2385 - accuracy: 0.9358 - val_loss: 0.0442 - val_accuracy: 0.9883\n",
      "Epoch 10/10\n",
      "110/110 [==============================] - 50s 455ms/step - loss: 0.2465 - accuracy: 0.9323 - val_loss: 0.0180 - val_accuracy: 0.9959\n",
      "Duration: 0:08:22.229282\n"
     ]
    }
   ],
   "source": [
    "print(n)\n",
    "models_se[n].fit_model(image_sets_se[n],label_sets_se[n],x_val,y_val,epochs=10,batch_size = 64)\n",
    "n = n+1"
   ]
  },
  {
   "cell_type": "code",
   "execution_count": 25,
   "id": "ffa82743",
   "metadata": {},
   "outputs": [
    {
     "name": "stdout",
     "output_type": "stream",
     "text": [
      "4\n",
      "Epoch 1/10\n",
      "137/137 [==============================] - 63s 449ms/step - loss: 0.6958 - accuracy: 0.8390 - val_loss: 0.0243 - val_accuracy: 0.9939\n",
      "Epoch 2/10\n",
      "137/137 [==============================] - 61s 446ms/step - loss: 0.3987 - accuracy: 0.8857 - val_loss: 0.0163 - val_accuracy: 0.9959\n",
      "Epoch 3/10\n",
      "137/137 [==============================] - 61s 446ms/step - loss: 0.3507 - accuracy: 0.9066 - val_loss: 0.0070 - val_accuracy: 0.9980\n",
      "Epoch 4/10\n",
      "137/137 [==============================] - 62s 454ms/step - loss: 0.3018 - accuracy: 0.9206 - val_loss: 0.0120 - val_accuracy: 0.9972\n",
      "Epoch 5/10\n",
      "137/137 [==============================] - 67s 487ms/step - loss: 0.2497 - accuracy: 0.9267 - val_loss: 0.0197 - val_accuracy: 0.9967\n",
      "Epoch 6/10\n",
      "137/137 [==============================] - 67s 489ms/step - loss: 0.2225 - accuracy: 0.9322 - val_loss: 0.0167 - val_accuracy: 0.9964\n",
      "Epoch 7/10\n",
      "137/137 [==============================] - 67s 487ms/step - loss: 0.2403 - accuracy: 0.9286 - val_loss: 0.0126 - val_accuracy: 0.9972\n",
      "Epoch 8/10\n",
      "137/137 [==============================] - 67s 491ms/step - loss: 0.2318 - accuracy: 0.9354 - val_loss: 0.0212 - val_accuracy: 0.9949\n",
      "Epoch 9/10\n",
      "137/137 [==============================] - 68s 498ms/step - loss: 0.1954 - accuracy: 0.9486 - val_loss: 0.0164 - val_accuracy: 0.9959\n",
      "Epoch 10/10\n",
      "137/137 [==============================] - 67s 487ms/step - loss: 0.1831 - accuracy: 0.9465 - val_loss: 0.0191 - val_accuracy: 0.9946\n",
      "Duration: 0:10:50.261770\n"
     ]
    }
   ],
   "source": [
    "print(n)#4\n",
    "models_se[n].fit_model(image_sets_se[n],label_sets_se[n],x_val,y_val,epochs=10,batch_size = 64)\n",
    "n = n+1"
   ]
  },
  {
   "cell_type": "code",
   "execution_count": 26,
   "id": "a621fa8d",
   "metadata": {},
   "outputs": [
    {
     "name": "stdout",
     "output_type": "stream",
     "text": [
      "5\n",
      "Epoch 1/10\n",
      "165/165 [==============================] - 82s 484ms/step - loss: 0.5563 - accuracy: 0.8682 - val_loss: 0.0240 - val_accuracy: 0.9936\n",
      "Epoch 2/10\n",
      "165/165 [==============================] - 79s 480ms/step - loss: 0.3613 - accuracy: 0.9027 - val_loss: 0.0375 - val_accuracy: 0.9934\n",
      "Epoch 3/10\n",
      "165/165 [==============================] - 82s 495ms/step - loss: 0.3170 - accuracy: 0.9119 - val_loss: 0.0166 - val_accuracy: 0.9962\n",
      "Epoch 4/10\n",
      "165/165 [==============================] - 84s 507ms/step - loss: 0.2686 - accuracy: 0.9271 - val_loss: 0.0121 - val_accuracy: 0.9980\n",
      "Epoch 5/10\n",
      "165/165 [==============================] - 81s 488ms/step - loss: 0.2281 - accuracy: 0.9362 - val_loss: 0.0253 - val_accuracy: 0.9959\n",
      "Epoch 6/10\n",
      "165/165 [==============================] - 79s 481ms/step - loss: 0.2102 - accuracy: 0.9453 - val_loss: 0.0395 - val_accuracy: 0.9941\n",
      "Epoch 7/10\n",
      "165/165 [==============================] - 79s 479ms/step - loss: 0.2109 - accuracy: 0.9407 - val_loss: 0.0272 - val_accuracy: 0.9952\n",
      "Epoch 8/10\n",
      "165/165 [==============================] - 79s 481ms/step - loss: 0.2234 - accuracy: 0.9425 - val_loss: 0.0192 - val_accuracy: 0.9972\n",
      "Epoch 9/10\n",
      "165/165 [==============================] - 79s 481ms/step - loss: 0.1888 - accuracy: 0.9477 - val_loss: 0.0196 - val_accuracy: 0.9964\n",
      "Epoch 10/10\n",
      "165/165 [==============================] - 79s 481ms/step - loss: 0.1894 - accuracy: 0.9470 - val_loss: 0.0149 - val_accuracy: 0.9964\n",
      "Duration: 0:13:23.499732\n"
     ]
    }
   ],
   "source": [
    "print(n)\n",
    "models_se[n].fit_model(image_sets_se[n],label_sets_se[n],x_val,y_val,epochs=10,batch_size = 64)\n",
    "n = n+1"
   ]
  },
  {
   "cell_type": "code",
   "execution_count": 27,
   "id": "31580fe4",
   "metadata": {},
   "outputs": [
    {
     "name": "stdout",
     "output_type": "stream",
     "text": [
      "6\n",
      "Epoch 1/10\n",
      "192/192 [==============================] - 95s 482ms/step - loss: 0.4792 - accuracy: 0.8927 - val_loss: 0.1509 - val_accuracy: 0.9793\n",
      "Epoch 2/10\n",
      "192/192 [==============================] - 92s 478ms/step - loss: 0.2994 - accuracy: 0.9227 - val_loss: 0.0229 - val_accuracy: 0.9941\n",
      "Epoch 3/10\n",
      "192/192 [==============================] - 92s 482ms/step - loss: 0.2743 - accuracy: 0.9281 - val_loss: 0.0215 - val_accuracy: 0.9954\n",
      "Epoch 4/10\n",
      "192/192 [==============================] - 95s 494ms/step - loss: 0.2391 - accuracy: 0.9357 - val_loss: 0.0237 - val_accuracy: 0.9957\n",
      "Epoch 5/10\n",
      "192/192 [==============================] - 92s 477ms/step - loss: 0.2265 - accuracy: 0.9368 - val_loss: 0.0190 - val_accuracy: 0.9946\n",
      "Epoch 6/10\n",
      "192/192 [==============================] - 92s 480ms/step - loss: 0.1942 - accuracy: 0.9460 - val_loss: 0.0267 - val_accuracy: 0.9944\n",
      "Epoch 7/10\n",
      "192/192 [==============================] - 92s 480ms/step - loss: 0.1908 - accuracy: 0.9475 - val_loss: 0.0177 - val_accuracy: 0.9969\n",
      "Epoch 8/10\n",
      "192/192 [==============================] - 92s 478ms/step - loss: 0.2062 - accuracy: 0.9449 - val_loss: 0.0202 - val_accuracy: 0.9969\n",
      "Epoch 9/10\n",
      "192/192 [==============================] - 92s 479ms/step - loss: 0.1918 - accuracy: 0.9522 - val_loss: 0.0186 - val_accuracy: 0.9954\n",
      "Epoch 10/10\n",
      "192/192 [==============================] - 92s 481ms/step - loss: 0.1806 - accuracy: 0.9504 - val_loss: 0.0142 - val_accuracy: 0.9972\n",
      "Duration: 0:15:25.675997\n"
     ]
    }
   ],
   "source": [
    "print(n)\n",
    "models_se[n].fit_model(image_sets_se[n],label_sets_se[n],x_val,y_val,epochs=10,batch_size = 64)\n",
    "n = n+1"
   ]
  },
  {
   "cell_type": "code",
   "execution_count": 28,
   "id": "2b4b0cd8",
   "metadata": {},
   "outputs": [
    {
     "name": "stdout",
     "output_type": "stream",
     "text": [
      "7\n",
      "Epoch 1/10\n",
      "219/219 [==============================] - 106s 476ms/step - loss: 0.4054 - accuracy: 0.9010 - val_loss: 0.0246 - val_accuracy: 0.9941\n",
      "Epoch 2/10\n",
      "219/219 [==============================] - 104s 475ms/step - loss: 0.2713 - accuracy: 0.9284 - val_loss: 0.0258 - val_accuracy: 0.9949\n",
      "Epoch 3/10\n",
      "219/219 [==============================] - 104s 476ms/step - loss: 0.2401 - accuracy: 0.9365 - val_loss: 0.0152 - val_accuracy: 0.9964\n",
      "Epoch 4/10\n",
      "219/219 [==============================] - 104s 475ms/step - loss: 0.2215 - accuracy: 0.9399 - val_loss: 0.0226 - val_accuracy: 0.9957\n",
      "Epoch 5/10\n",
      "219/219 [==============================] - 104s 475ms/step - loss: 0.1922 - accuracy: 0.9484 - val_loss: 0.0216 - val_accuracy: 0.9946\n",
      "Epoch 6/10\n",
      "219/219 [==============================] - 104s 474ms/step - loss: 0.1945 - accuracy: 0.9458 - val_loss: 0.0180 - val_accuracy: 0.9967\n",
      "Epoch 7/10\n",
      "219/219 [==============================] - 104s 474ms/step - loss: 0.1730 - accuracy: 0.9523 - val_loss: 0.0234 - val_accuracy: 0.9964\n",
      "Epoch 8/10\n",
      "219/219 [==============================] - 104s 476ms/step - loss: 0.1692 - accuracy: 0.9548 - val_loss: 0.0243 - val_accuracy: 0.9957\n",
      "Epoch 9/10\n",
      "219/219 [==============================] - 104s 475ms/step - loss: 0.1688 - accuracy: 0.9535 - val_loss: 0.0164 - val_accuracy: 0.9972\n",
      "Epoch 10/10\n",
      "219/219 [==============================] - 104s 474ms/step - loss: 0.1697 - accuracy: 0.9562 - val_loss: 0.0508 - val_accuracy: 0.9860\n",
      "Duration: 0:17:22.423805\n"
     ]
    }
   ],
   "source": [
    "print(n)\n",
    "models_se[n].fit_model(image_sets_se[n],label_sets_se[n],x_val,y_val,epochs=10,batch_size = 64)\n",
    "n = n+1"
   ]
  },
  {
   "cell_type": "code",
   "execution_count": 29,
   "id": "a291bc67",
   "metadata": {},
   "outputs": [
    {
     "name": "stdout",
     "output_type": "stream",
     "text": [
      "8\n",
      "Epoch 1/10\n",
      "247/247 [==============================] - 119s 472ms/step - loss: 0.3865 - accuracy: 0.9102 - val_loss: 0.0161 - val_accuracy: 0.9952\n",
      "Epoch 2/10\n",
      "247/247 [==============================] - 117s 473ms/step - loss: 0.2459 - accuracy: 0.9358 - val_loss: 0.0114 - val_accuracy: 0.9969\n",
      "Epoch 3/10\n",
      "247/247 [==============================] - 117s 473ms/step - loss: 0.2147 - accuracy: 0.9422 - val_loss: 0.0219 - val_accuracy: 0.9969\n",
      "Epoch 4/10\n",
      "247/247 [==============================] - 117s 473ms/step - loss: 0.1954 - accuracy: 0.9501 - val_loss: 0.0409 - val_accuracy: 0.9911\n",
      "Epoch 5/10\n",
      "247/247 [==============================] - 116s 471ms/step - loss: 0.1895 - accuracy: 0.9510 - val_loss: 0.0243 - val_accuracy: 0.9962\n",
      "Epoch 6/10\n",
      "247/247 [==============================] - 117s 473ms/step - loss: 0.1822 - accuracy: 0.9527 - val_loss: 0.0530 - val_accuracy: 0.9842\n",
      "Epoch 7/10\n",
      "247/247 [==============================] - 116s 472ms/step - loss: 0.1791 - accuracy: 0.9523 - val_loss: 0.0494 - val_accuracy: 0.9913\n",
      "Epoch 8/10\n",
      "247/247 [==============================] - 119s 480ms/step - loss: 0.1643 - accuracy: 0.9594 - val_loss: 0.0193 - val_accuracy: 0.9967\n",
      "Epoch 9/10\n",
      "247/247 [==============================] - 116s 471ms/step - loss: 0.1690 - accuracy: 0.9565 - val_loss: 0.0221 - val_accuracy: 0.9957\n",
      "Epoch 10/10\n",
      "247/247 [==============================] - 117s 473ms/step - loss: 0.1509 - accuracy: 0.9619 - val_loss: 0.0257 - val_accuracy: 0.9944\n",
      "Duration: 0:19:30.507171\n"
     ]
    }
   ],
   "source": [
    "print(n)\n",
    "models_se[n].fit_model(image_sets_se[n],label_sets_se[n],x_val,y_val,epochs=10,batch_size = 64)\n",
    "n = n+1"
   ]
  },
  {
   "cell_type": "code",
   "execution_count": 30,
   "id": "66f94d63",
   "metadata": {},
   "outputs": [
    {
     "name": "stdout",
     "output_type": "stream",
     "text": [
      "9\n",
      "Epoch 1/10\n",
      "274/274 [==============================] - 133s 479ms/step - loss: 0.3365 - accuracy: 0.9191 - val_loss: 0.0452 - val_accuracy: 0.9895\n",
      "Epoch 2/10\n",
      "274/274 [==============================] - 128s 466ms/step - loss: 0.2301 - accuracy: 0.9389 - val_loss: 0.0471 - val_accuracy: 0.9931\n",
      "Epoch 3/10\n",
      "274/274 [==============================] - 128s 468ms/step - loss: 0.2079 - accuracy: 0.9426 - val_loss: 0.0284 - val_accuracy: 0.9934\n",
      "Epoch 4/10\n",
      "274/274 [==============================] - 129s 471ms/step - loss: 0.1773 - accuracy: 0.9521 - val_loss: 0.0174 - val_accuracy: 0.9957\n",
      "Epoch 5/10\n",
      "274/274 [==============================] - 128s 467ms/step - loss: 0.1773 - accuracy: 0.9546 - val_loss: 0.0247 - val_accuracy: 0.9949\n",
      "Epoch 6/10\n",
      "274/274 [==============================] - 128s 467ms/step - loss: 0.1769 - accuracy: 0.9532 - val_loss: 0.0213 - val_accuracy: 0.9964\n",
      "Epoch 7/10\n",
      "274/274 [==============================] - 128s 469ms/step - loss: 0.1725 - accuracy: 0.9560 - val_loss: 0.0216 - val_accuracy: 0.9964\n",
      "Epoch 8/10\n",
      "274/274 [==============================] - 128s 468ms/step - loss: 0.1670 - accuracy: 0.9588 - val_loss: 0.0192 - val_accuracy: 0.9957\n",
      "Epoch 9/10\n",
      "274/274 [==============================] - 128s 469ms/step - loss: 0.1590 - accuracy: 0.9590 - val_loss: 0.0311 - val_accuracy: 0.9957\n",
      "Epoch 10/10\n",
      "274/274 [==============================] - 122s 446ms/step - loss: 0.1535 - accuracy: 0.9623 - val_loss: 0.0451 - val_accuracy: 0.9903\n",
      "Duration: 0:21:21.981112\n"
     ]
    }
   ],
   "source": [
    "print(n)#9\n",
    "models_se[n].fit_model(image_sets_se[n],label_sets_se[n],x_val,y_val,epochs=10,batch_size = 64)\n",
    "n = n+1"
   ]
  },
  {
   "cell_type": "code",
   "execution_count": 31,
   "id": "5b4c5df0",
   "metadata": {},
   "outputs": [
    {
     "name": "stdout",
     "output_type": "stream",
     "text": [
      "10\n",
      "Epoch 1/10\n",
      "301/301 [==============================] - 132s 432ms/step - loss: 0.3091 - accuracy: 0.9218 - val_loss: 0.0350 - val_accuracy: 0.9903\n",
      "Epoch 2/10\n",
      "301/301 [==============================] - 129s 427ms/step - loss: 0.2266 - accuracy: 0.9391 - val_loss: 0.0241 - val_accuracy: 0.9959\n",
      "Epoch 3/10\n",
      "301/301 [==============================] - 128s 426ms/step - loss: 0.1929 - accuracy: 0.9505 - val_loss: 0.0685 - val_accuracy: 0.9865\n",
      "Epoch 4/10\n",
      "301/301 [==============================] - 129s 428ms/step - loss: 0.1729 - accuracy: 0.9533 - val_loss: 0.0229 - val_accuracy: 0.9957\n",
      "Epoch 5/10\n",
      "301/301 [==============================] - 128s 427ms/step - loss: 0.1554 - accuracy: 0.9588 - val_loss: 0.0164 - val_accuracy: 0.9969\n",
      "Epoch 6/10\n",
      "301/301 [==============================] - 128s 426ms/step - loss: 0.1690 - accuracy: 0.9597 - val_loss: 0.0259 - val_accuracy: 0.9962\n",
      "Epoch 7/10\n",
      "301/301 [==============================] - 128s 426ms/step - loss: 0.1524 - accuracy: 0.9597 - val_loss: 0.0213 - val_accuracy: 0.9959\n",
      "Epoch 8/10\n",
      "301/301 [==============================] - 128s 426ms/step - loss: 0.1498 - accuracy: 0.9627 - val_loss: 0.0158 - val_accuracy: 0.9967\n",
      "Epoch 9/10\n",
      "301/301 [==============================] - 128s 426ms/step - loss: 0.1514 - accuracy: 0.9602 - val_loss: 0.0174 - val_accuracy: 0.9952\n",
      "Epoch 10/10\n",
      "301/301 [==============================] - 128s 426ms/step - loss: 0.1409 - accuracy: 0.9651 - val_loss: 0.0222 - val_accuracy: 0.9982\n",
      "Duration: 0:21:26.907116\n"
     ]
    }
   ],
   "source": [
    "n=10\n",
    "print(n)\n",
    "models_se[n].fit_model(image_sets_se[n],label_sets_se[n],x_val,y_val,epochs=10,batch_size = 64)\n",
    "n = n+1"
   ]
  },
  {
   "cell_type": "code",
   "execution_count": 32,
   "id": "6d8475d2",
   "metadata": {},
   "outputs": [
    {
     "name": "stdout",
     "output_type": "stream",
     "text": [
      "11\n",
      "Epoch 1/10\n",
      "329/329 [==============================] - 143s 429ms/step - loss: 0.2836 - accuracy: 0.9351 - val_loss: 0.0303 - val_accuracy: 0.9936\n",
      "Epoch 2/10\n",
      "329/329 [==============================] - 152s 462ms/step - loss: 0.2014 - accuracy: 0.9482 - val_loss: 0.0386 - val_accuracy: 0.9931\n",
      "Epoch 3/10\n",
      "329/329 [==============================] - 152s 462ms/step - loss: 0.1792 - accuracy: 0.9514 - val_loss: 0.0182 - val_accuracy: 0.9962\n",
      "Epoch 4/10\n",
      "329/329 [==============================] - 152s 463ms/step - loss: 0.1709 - accuracy: 0.9564 - val_loss: 0.0143 - val_accuracy: 0.9967\n",
      "Epoch 5/10\n",
      "329/329 [==============================] - 152s 462ms/step - loss: 0.1528 - accuracy: 0.9596 - val_loss: 0.0188 - val_accuracy: 0.9952\n",
      "Epoch 6/10\n",
      "329/329 [==============================] - 152s 462ms/step - loss: 0.1461 - accuracy: 0.9639 - val_loss: 0.0359 - val_accuracy: 0.9957\n",
      "Epoch 7/10\n",
      "329/329 [==============================] - 155s 471ms/step - loss: 0.1499 - accuracy: 0.9616 - val_loss: 0.0110 - val_accuracy: 0.9967\n",
      "Epoch 8/10\n",
      "329/329 [==============================] - 152s 462ms/step - loss: 0.1412 - accuracy: 0.9654 - val_loss: 0.0752 - val_accuracy: 0.9849\n",
      "Epoch 9/10\n",
      "329/329 [==============================] - 152s 461ms/step - loss: 0.1490 - accuracy: 0.9634 - val_loss: 0.0317 - val_accuracy: 0.9954\n",
      "Epoch 10/10\n",
      "329/329 [==============================] - 152s 461ms/step - loss: 0.1391 - accuracy: 0.9632 - val_loss: 0.0363 - val_accuracy: 0.9954\n",
      "Duration: 0:25:14.233498\n"
     ]
    }
   ],
   "source": [
    "n=11\n",
    "print(n)\n",
    "models_se[n].fit_model(image_sets_se[n],label_sets_se[n],x_val,y_val,epochs=10,batch_size = 64)\n",
    "n = n+1"
   ]
  },
  {
   "cell_type": "code",
   "execution_count": 33,
   "id": "f6b129a9",
   "metadata": {},
   "outputs": [
    {
     "name": "stdout",
     "output_type": "stream",
     "text": [
      "12\n",
      "Epoch 1/10\n",
      "356/356 [==============================] - 167s 462ms/step - loss: 0.2752 - accuracy: 0.9373 - val_loss: 0.0192 - val_accuracy: 0.9954\n",
      "Epoch 2/10\n",
      "356/356 [==============================] - 165s 462ms/step - loss: 0.1804 - accuracy: 0.9529 - val_loss: 0.0206 - val_accuracy: 0.9949\n",
      "Epoch 3/10\n",
      "356/356 [==============================] - 165s 464ms/step - loss: 0.1777 - accuracy: 0.9551 - val_loss: 0.0211 - val_accuracy: 0.9957\n",
      "Epoch 4/10\n",
      "356/356 [==============================] - 164s 462ms/step - loss: 0.1601 - accuracy: 0.9581 - val_loss: 0.0237 - val_accuracy: 0.9959\n",
      "Epoch 5/10\n",
      "356/356 [==============================] - 164s 461ms/step - loss: 0.1437 - accuracy: 0.9629 - val_loss: 0.0502 - val_accuracy: 0.9913\n",
      "Epoch 6/10\n",
      "356/356 [==============================] - 165s 464ms/step - loss: 0.1428 - accuracy: 0.9638 - val_loss: 0.0304 - val_accuracy: 0.9934\n",
      "Epoch 7/10\n",
      "356/356 [==============================] - 164s 461ms/step - loss: 0.1391 - accuracy: 0.9663 - val_loss: 0.0250 - val_accuracy: 0.9946\n",
      "Epoch 8/10\n",
      "356/356 [==============================] - 164s 461ms/step - loss: 0.1526 - accuracy: 0.9619 - val_loss: 0.0297 - val_accuracy: 0.9934\n",
      "Epoch 9/10\n",
      "356/356 [==============================] - 164s 461ms/step - loss: 0.1429 - accuracy: 0.9642 - val_loss: 0.0192 - val_accuracy: 0.9962\n",
      "Epoch 10/10\n",
      "356/356 [==============================] - 164s 460ms/step - loss: 0.1679 - accuracy: 0.9617 - val_loss: 0.0280 - val_accuracy: 0.9952\n",
      "Duration: 0:27:26.086968\n"
     ]
    }
   ],
   "source": [
    "print(n)\n",
    "models_se[n].fit_model(image_sets_se[n],label_sets_se[n],x_val,y_val,epochs=10,batch_size = 64)\n",
    "n = n+1"
   ]
  },
  {
   "cell_type": "code",
   "execution_count": 34,
   "id": "812935ba",
   "metadata": {},
   "outputs": [
    {
     "name": "stdout",
     "output_type": "stream",
     "text": [
      "13\n",
      "Epoch 1/10\n",
      "383/383 [==============================] - 179s 461ms/step - loss: 0.2562 - accuracy: 0.9383 - val_loss: 0.0212 - val_accuracy: 0.9959\n",
      "Epoch 2/10\n",
      "383/383 [==============================] - 176s 461ms/step - loss: 0.1693 - accuracy: 0.9562 - val_loss: 0.0206 - val_accuracy: 0.9954\n",
      "Epoch 3/10\n",
      "383/383 [==============================] - 176s 460ms/step - loss: 0.1674 - accuracy: 0.9559 - val_loss: 0.0269 - val_accuracy: 0.9946\n",
      "Epoch 4/10\n",
      "383/383 [==============================] - 177s 462ms/step - loss: 0.1472 - accuracy: 0.9622 - val_loss: 0.0227 - val_accuracy: 0.9939\n",
      "Epoch 5/10\n",
      "383/383 [==============================] - 176s 460ms/step - loss: 0.1399 - accuracy: 0.9619 - val_loss: 0.0171 - val_accuracy: 0.9972\n",
      "Epoch 6/10\n",
      "383/383 [==============================] - 176s 460ms/step - loss: 0.1537 - accuracy: 0.9622 - val_loss: 0.0302 - val_accuracy: 0.9931\n",
      "Epoch 7/10\n",
      "383/383 [==============================] - 176s 461ms/step - loss: 0.1433 - accuracy: 0.9647 - val_loss: 0.0288 - val_accuracy: 0.9944\n",
      "Epoch 8/10\n",
      "383/383 [==============================] - 176s 460ms/step - loss: 0.1417 - accuracy: 0.9651 - val_loss: 0.0312 - val_accuracy: 0.9964\n",
      "Epoch 9/10\n",
      "383/383 [==============================] - 178s 466ms/step - loss: 0.1509 - accuracy: 0.9670 - val_loss: 0.0324 - val_accuracy: 0.9916\n",
      "Epoch 10/10\n",
      "383/383 [==============================] - 176s 459ms/step - loss: 0.1550 - accuracy: 0.9662 - val_loss: 0.0253 - val_accuracy: 0.9954\n",
      "Duration: 0:29:27.735806\n"
     ]
    }
   ],
   "source": [
    "n=13\n",
    "print(n)\n",
    "models_se[n].fit_model(image_sets_se[n],label_sets_se[n],x_val,y_val,epochs=10,batch_size = 64)\n",
    "n = n+1"
   ]
  },
  {
   "cell_type": "code",
   "execution_count": 35,
   "id": "4b030967",
   "metadata": {},
   "outputs": [
    {
     "name": "stdout",
     "output_type": "stream",
     "text": [
      "14\n",
      "Epoch 1/10\n",
      "411/411 [==============================] - 191s 460ms/step - loss: 0.2452 - accuracy: 0.9438 - val_loss: 0.0318 - val_accuracy: 0.9926\n",
      "Epoch 2/10\n",
      "411/411 [==============================] - 188s 458ms/step - loss: 0.1724 - accuracy: 0.9581 - val_loss: 0.0263 - val_accuracy: 0.9946\n",
      "Epoch 3/10\n",
      "411/411 [==============================] - 190s 462ms/step - loss: 0.1623 - accuracy: 0.9591 - val_loss: 0.0222 - val_accuracy: 0.9957\n",
      "Epoch 4/10\n",
      "411/411 [==============================] - 191s 465ms/step - loss: 0.1445 - accuracy: 0.9621 - val_loss: 0.0413 - val_accuracy: 0.9929\n",
      "Epoch 5/10\n",
      "411/411 [==============================] - 173s 420ms/step - loss: 0.1499 - accuracy: 0.9612 - val_loss: 0.0230 - val_accuracy: 0.9962\n",
      "Epoch 6/10\n",
      "411/411 [==============================] - 173s 422ms/step - loss: 0.1530 - accuracy: 0.9649 - val_loss: 0.0313 - val_accuracy: 0.9954\n",
      "Epoch 7/10\n",
      "411/411 [==============================] - 173s 422ms/step - loss: 0.1504 - accuracy: 0.9648 - val_loss: 0.0119 - val_accuracy: 0.9967\n",
      "Epoch 8/10\n",
      "411/411 [==============================] - 172s 419ms/step - loss: 0.1457 - accuracy: 0.9666 - val_loss: 0.0251 - val_accuracy: 0.9954\n",
      "Epoch 9/10\n",
      "411/411 [==============================] - 173s 421ms/step - loss: 0.1442 - accuracy: 0.9664 - val_loss: 0.0363 - val_accuracy: 0.9936\n",
      "Epoch 10/10\n",
      "411/411 [==============================] - 172s 419ms/step - loss: 0.1368 - accuracy: 0.9680 - val_loss: 0.0254 - val_accuracy: 0.9959\n",
      "Duration: 0:29:57.502140\n"
     ]
    }
   ],
   "source": [
    "print(n)#14\n",
    "models_se[n].fit_model(image_sets_se[n],label_sets_se[n],x_val,y_val,epochs=10,batch_size = 64)\n",
    "n = n+1"
   ]
  },
  {
   "cell_type": "code",
   "execution_count": 36,
   "id": "be10cf76",
   "metadata": {},
   "outputs": [
    {
     "name": "stdout",
     "output_type": "stream",
     "text": [
      "15\n",
      "Epoch 1/10\n",
      "438/438 [==============================] - 186s 420ms/step - loss: 0.2144 - accuracy: 0.9489 - val_loss: 0.0229 - val_accuracy: 0.9954\n",
      "Epoch 2/10\n",
      "438/438 [==============================] - 184s 419ms/step - loss: 0.1559 - accuracy: 0.9596 - val_loss: 0.0259 - val_accuracy: 0.9954\n",
      "Epoch 3/10\n",
      "438/438 [==============================] - 194s 444ms/step - loss: 0.1444 - accuracy: 0.9627 - val_loss: 0.1109 - val_accuracy: 0.9890\n",
      "Epoch 4/10\n",
      "438/438 [==============================] - 201s 460ms/step - loss: 0.1546 - accuracy: 0.9615 - val_loss: 0.0303 - val_accuracy: 0.9949\n",
      "Epoch 5/10\n",
      "438/438 [==============================] - 201s 459ms/step - loss: 0.1343 - accuracy: 0.9662 - val_loss: 0.0338 - val_accuracy: 0.9934\n",
      "Epoch 6/10\n",
      "438/438 [==============================] - 200s 458ms/step - loss: 0.1552 - accuracy: 0.9630 - val_loss: 0.0276 - val_accuracy: 0.9959\n",
      "Epoch 7/10\n",
      "438/438 [==============================] - 203s 463ms/step - loss: 0.1530 - accuracy: 0.9633 - val_loss: 0.0222 - val_accuracy: 0.9949\n",
      "Epoch 8/10\n",
      "438/438 [==============================] - 201s 458ms/step - loss: 0.1448 - accuracy: 0.9676 - val_loss: 0.0261 - val_accuracy: 0.9964\n",
      "Epoch 9/10\n",
      "438/438 [==============================] - 201s 459ms/step - loss: 0.1433 - accuracy: 0.9680 - val_loss: 0.0310 - val_accuracy: 0.9949\n",
      "Epoch 10/10\n",
      "438/438 [==============================] - 200s 456ms/step - loss: 0.1404 - accuracy: 0.9685 - val_loss: 0.0275 - val_accuracy: 0.9939\n",
      "Duration: 0:32:50.347134\n"
     ]
    }
   ],
   "source": [
    "print(n)\n",
    "models_se[n].fit_model(image_sets_se[n],label_sets_se[n],x_val,y_val,epochs=10,batch_size = 64)\n",
    "n = n+1"
   ]
  },
  {
   "cell_type": "code",
   "execution_count": 37,
   "id": "250c6dbb",
   "metadata": {},
   "outputs": [
    {
     "name": "stdout",
     "output_type": "stream",
     "text": [
      "16\n",
      "Epoch 1/10\n",
      "465/465 [==============================] - 216s 460ms/step - loss: 0.2127 - accuracy: 0.9508 - val_loss: 0.0226 - val_accuracy: 0.9957\n",
      "Epoch 2/10\n",
      "465/465 [==============================] - 214s 459ms/step - loss: 0.1586 - accuracy: 0.9598 - val_loss: 0.0349 - val_accuracy: 0.9931\n",
      "Epoch 3/10\n",
      "465/465 [==============================] - 214s 460ms/step - loss: 0.1375 - accuracy: 0.9649 - val_loss: 0.0414 - val_accuracy: 0.9895\n",
      "Epoch 4/10\n",
      "465/465 [==============================] - 214s 460ms/step - loss: 0.1412 - accuracy: 0.9676 - val_loss: 0.0275 - val_accuracy: 0.9934\n",
      "Epoch 5/10\n",
      "465/465 [==============================] - 214s 460ms/step - loss: 0.1357 - accuracy: 0.9651 - val_loss: 0.0276 - val_accuracy: 0.9949\n",
      "Epoch 6/10\n",
      "465/465 [==============================] - 213s 458ms/step - loss: 0.1265 - accuracy: 0.9716 - val_loss: 0.0408 - val_accuracy: 0.9911\n",
      "Epoch 7/10\n",
      "465/465 [==============================] - 214s 461ms/step - loss: 0.1251 - accuracy: 0.9694 - val_loss: 0.0155 - val_accuracy: 0.9962\n",
      "Epoch 8/10\n",
      "465/465 [==============================] - 213s 458ms/step - loss: 0.1405 - accuracy: 0.9683 - val_loss: 0.0190 - val_accuracy: 0.9964\n",
      "Epoch 9/10\n",
      "465/465 [==============================] - 213s 458ms/step - loss: 0.1300 - accuracy: 0.9703 - val_loss: 0.0276 - val_accuracy: 0.9929\n",
      "Epoch 10/10\n",
      "465/465 [==============================] - 212s 457ms/step - loss: 0.1433 - accuracy: 0.9684 - val_loss: 0.0282 - val_accuracy: 0.9954\n",
      "Duration: 0:35:35.830439\n"
     ]
    }
   ],
   "source": [
    "print(n)\n",
    "models_se[n].fit_model(image_sets_se[n],label_sets_se[n],x_val,y_val,epochs=10,batch_size = 64)\n",
    "n = n+1"
   ]
  },
  {
   "cell_type": "code",
   "execution_count": 38,
   "id": "0fbb2ca1",
   "metadata": {},
   "outputs": [
    {
     "name": "stdout",
     "output_type": "stream",
     "text": [
      "17\n",
      "Epoch 1/10\n",
      "493/493 [==============================] - 228s 458ms/step - loss: 0.1928 - accuracy: 0.9544 - val_loss: 0.0258 - val_accuracy: 0.9929\n",
      "Epoch 2/10\n",
      "493/493 [==============================] - 225s 456ms/step - loss: 0.1536 - accuracy: 0.9608 - val_loss: 0.0169 - val_accuracy: 0.9967\n",
      "Epoch 3/10\n",
      "493/493 [==============================] - 226s 458ms/step - loss: 0.1377 - accuracy: 0.9654 - val_loss: 0.0298 - val_accuracy: 0.9952\n",
      "Epoch 4/10\n",
      "493/493 [==============================] - 218s 441ms/step - loss: 0.1410 - accuracy: 0.9653 - val_loss: 0.0245 - val_accuracy: 0.9934\n",
      "Epoch 5/10\n",
      "493/493 [==============================] - 208s 422ms/step - loss: 0.1315 - accuracy: 0.9665 - val_loss: 0.0776 - val_accuracy: 0.9811\n",
      "Epoch 6/10\n",
      "493/493 [==============================] - 207s 420ms/step - loss: 0.1424 - accuracy: 0.9660 - val_loss: 0.0581 - val_accuracy: 0.9934\n",
      "Epoch 7/10\n",
      "493/493 [==============================] - 221s 449ms/step - loss: 0.1500 - accuracy: 0.9666 - val_loss: 0.0392 - val_accuracy: 0.9929\n",
      "Epoch 8/10\n",
      "493/493 [==============================] - 217s 440ms/step - loss: 0.1350 - accuracy: 0.9674 - val_loss: 0.0284 - val_accuracy: 0.9939\n",
      "Epoch 9/10\n",
      "493/493 [==============================] - 206s 417ms/step - loss: 0.1608 - accuracy: 0.9636 - val_loss: 0.0325 - val_accuracy: 0.9949\n",
      "Epoch 10/10\n",
      "493/493 [==============================] - 206s 418ms/step - loss: 0.1456 - accuracy: 0.9675 - val_loss: 0.0450 - val_accuracy: 0.9923\n",
      "Duration: 0:36:01.333559\n"
     ]
    }
   ],
   "source": [
    "print(n)\n",
    "models_se[n].fit_model(image_sets_se[n],label_sets_se[n],x_val,y_val,epochs=10,batch_size = 64)\n",
    "n = n+1"
   ]
  },
  {
   "cell_type": "code",
   "execution_count": 39,
   "id": "3dfdc65c",
   "metadata": {},
   "outputs": [
    {
     "name": "stdout",
     "output_type": "stream",
     "text": [
      "18\n",
      "Epoch 1/10\n",
      "520/520 [==============================] - 230s 440ms/step - loss: 0.1988 - accuracy: 0.9541 - val_loss: 0.0388 - val_accuracy: 0.9911\n",
      "Epoch 2/10\n",
      "520/520 [==============================] - 237s 456ms/step - loss: 0.1435 - accuracy: 0.9632 - val_loss: 0.0182 - val_accuracy: 0.9962\n",
      "Epoch 3/10\n",
      "520/520 [==============================] - 238s 458ms/step - loss: 0.1373 - accuracy: 0.9664 - val_loss: 0.0241 - val_accuracy: 0.9936\n",
      "Epoch 4/10\n",
      "520/520 [==============================] - 238s 457ms/step - loss: 0.1264 - accuracy: 0.9698 - val_loss: 0.0264 - val_accuracy: 0.9967\n",
      "Epoch 5/10\n",
      "520/520 [==============================] - 237s 455ms/step - loss: 0.1314 - accuracy: 0.9675 - val_loss: 0.0225 - val_accuracy: 0.9949\n",
      "Epoch 6/10\n",
      "520/520 [==============================] - 236s 454ms/step - loss: 0.1268 - accuracy: 0.9694 - val_loss: 0.0266 - val_accuracy: 0.9949\n",
      "Epoch 7/10\n",
      "520/520 [==============================] - 236s 455ms/step - loss: 0.1365 - accuracy: 0.9681 - val_loss: 0.0184 - val_accuracy: 0.9949\n",
      "Epoch 8/10\n",
      "520/520 [==============================] - 237s 456ms/step - loss: 0.1401 - accuracy: 0.9707 - val_loss: 0.0402 - val_accuracy: 0.9931\n",
      "Epoch 9/10\n",
      "520/520 [==============================] - 236s 455ms/step - loss: 0.1391 - accuracy: 0.9679 - val_loss: 0.0330 - val_accuracy: 0.9941\n",
      "Epoch 10/10\n",
      "520/520 [==============================] - 238s 457ms/step - loss: 0.1498 - accuracy: 0.9693 - val_loss: 0.0213 - val_accuracy: 0.9957\n",
      "Duration: 0:39:23.934798\n"
     ]
    }
   ],
   "source": [
    "print(n)\n",
    "models_se[n].fit_model(image_sets_se[n],label_sets_se[n],x_val,y_val,epochs=10,batch_size = 64)\n",
    "n = n+1"
   ]
  },
  {
   "cell_type": "code",
   "execution_count": 40,
   "id": "3f1a28bf",
   "metadata": {},
   "outputs": [
    {
     "name": "stdout",
     "output_type": "stream",
     "text": [
      "19\n",
      "Epoch 1/10\n",
      "547/547 [==============================] - 253s 458ms/step - loss: 0.1817 - accuracy: 0.9562 - val_loss: 0.0578 - val_accuracy: 0.9890\n",
      "Epoch 2/10\n",
      "547/547 [==============================] - 241s 441ms/step - loss: 0.1350 - accuracy: 0.9663 - val_loss: 0.0326 - val_accuracy: 0.9926\n",
      "Epoch 3/10\n",
      "547/547 [==============================] - 229s 419ms/step - loss: 0.1349 - accuracy: 0.9668 - val_loss: 0.0374 - val_accuracy: 0.9934\n",
      "Epoch 4/10\n",
      "547/547 [==============================] - 229s 419ms/step - loss: 0.1288 - accuracy: 0.9686 - val_loss: 0.0294 - val_accuracy: 0.9934\n",
      "Epoch 5/10\n",
      "547/547 [==============================] - 228s 417ms/step - loss: 0.1296 - accuracy: 0.9692 - val_loss: 0.0385 - val_accuracy: 0.9941\n",
      "Epoch 6/10\n",
      "547/547 [==============================] - 228s 417ms/step - loss: 0.1354 - accuracy: 0.9685 - val_loss: 0.0727 - val_accuracy: 0.9895\n",
      "Epoch 7/10\n",
      "547/547 [==============================] - 229s 418ms/step - loss: 0.1262 - accuracy: 0.9698 - val_loss: 0.0250 - val_accuracy: 0.9941\n",
      "Epoch 8/10\n",
      "547/547 [==============================] - 228s 416ms/step - loss: 0.1432 - accuracy: 0.9694 - val_loss: 0.0472 - val_accuracy: 0.9911\n",
      "Epoch 9/10\n",
      "547/547 [==============================] - 251s 458ms/step - loss: 0.1470 - accuracy: 0.9686 - val_loss: 0.0399 - val_accuracy: 0.9944\n",
      "Epoch 10/10\n",
      "547/547 [==============================] - 249s 455ms/step - loss: 0.1475 - accuracy: 0.9675 - val_loss: 0.0353 - val_accuracy: 0.9939\n",
      "Duration: 0:39:25.762132\n"
     ]
    }
   ],
   "source": [
    "print(n)#19\n",
    "models_se[n].fit_model(image_sets_se[n],label_sets_se[n],x_val,y_val,epochs=10,batch_size = 64)\n",
    "n = n+1"
   ]
  },
  {
   "cell_type": "code",
   "execution_count": 41,
   "id": "b0758c50",
   "metadata": {},
   "outputs": [
    {
     "name": "stdout",
     "output_type": "stream",
     "text": [
      "20\n",
      "Epoch 1/10\n",
      "552/552 [==============================] - 254s 456ms/step - loss: 0.1741 - accuracy: 0.9598 - val_loss: 0.0273 - val_accuracy: 0.9954\n",
      "Epoch 2/10\n",
      "552/552 [==============================] - 252s 456ms/step - loss: 0.1357 - accuracy: 0.9659 - val_loss: 0.0221 - val_accuracy: 0.9959\n",
      "Epoch 3/10\n",
      "552/552 [==============================] - 251s 455ms/step - loss: 0.1305 - accuracy: 0.9655 - val_loss: 0.0332 - val_accuracy: 0.9952\n",
      "Epoch 4/10\n",
      "552/552 [==============================] - 251s 454ms/step - loss: 0.1366 - accuracy: 0.9683 - val_loss: 0.0532 - val_accuracy: 0.9900\n",
      "Epoch 5/10\n",
      "552/552 [==============================] - 253s 458ms/step - loss: 0.1343 - accuracy: 0.9696 - val_loss: 0.0361 - val_accuracy: 0.9903\n",
      "Epoch 6/10\n",
      "552/552 [==============================] - 251s 454ms/step - loss: 0.1340 - accuracy: 0.9699 - val_loss: 0.0404 - val_accuracy: 0.9929\n",
      "Epoch 7/10\n",
      "552/552 [==============================] - 251s 454ms/step - loss: 0.1315 - accuracy: 0.9702 - val_loss: 0.0577 - val_accuracy: 0.9926\n",
      "Epoch 8/10\n",
      "552/552 [==============================] - 251s 454ms/step - loss: 0.1303 - accuracy: 0.9708 - val_loss: 0.0294 - val_accuracy: 0.9926\n",
      "Epoch 9/10\n",
      "552/552 [==============================] - 253s 459ms/step - loss: 0.1445 - accuracy: 0.9694 - val_loss: 0.0420 - val_accuracy: 0.9926\n",
      "Epoch 10/10\n",
      "552/552 [==============================] - 251s 455ms/step - loss: 0.1513 - accuracy: 0.9684 - val_loss: 0.0336 - val_accuracy: 0.9944\n",
      "Duration: 0:41:57.208770\n"
     ]
    }
   ],
   "source": [
    "print(n)\n",
    "models_se[n].fit_model(image_sets_se[n],label_sets_se[n],x_val,y_val,epochs=10,batch_size = 64)\n",
    "n = n+1"
   ]
  },
  {
   "cell_type": "code",
   "execution_count": null,
   "id": "d2081045",
   "metadata": {},
   "outputs": [],
   "source": [
    "len(models_se)"
   ]
  },
  {
   "cell_type": "code",
   "execution_count": 42,
   "id": "7e298532",
   "metadata": {},
   "outputs": [
    {
     "name": "stdout",
     "output_type": "stream",
     "text": [
      "INFO:tensorflow:Assets written to: D:/models/aug_22/gtsrb/C2/gtsrb_model_c2_aug_se_e1_0\\assets\n",
      "Model has been saved\n",
      "INFO:tensorflow:Assets written to: D:/models/aug_22/gtsrb/C2/gtsrb_model_c2_aug_se_e1_1\\assets\n",
      "Model has been saved\n",
      "INFO:tensorflow:Assets written to: D:/models/aug_22/gtsrb/C2/gtsrb_model_c2_aug_se_e1_2\\assets\n",
      "Model has been saved\n",
      "INFO:tensorflow:Assets written to: D:/models/aug_22/gtsrb/C2/gtsrb_model_c2_aug_se_e1_3\\assets\n",
      "Model has been saved\n",
      "INFO:tensorflow:Assets written to: D:/models/aug_22/gtsrb/C2/gtsrb_model_c2_aug_se_e1_4\\assets\n",
      "Model has been saved\n",
      "INFO:tensorflow:Assets written to: D:/models/aug_22/gtsrb/C2/gtsrb_model_c2_aug_se_e1_5\\assets\n",
      "Model has been saved\n",
      "INFO:tensorflow:Assets written to: D:/models/aug_22/gtsrb/C2/gtsrb_model_c2_aug_se_e1_6\\assets\n",
      "Model has been saved\n",
      "INFO:tensorflow:Assets written to: D:/models/aug_22/gtsrb/C2/gtsrb_model_c2_aug_se_e1_7\\assets\n",
      "Model has been saved\n",
      "INFO:tensorflow:Assets written to: D:/models/aug_22/gtsrb/C2/gtsrb_model_c2_aug_se_e1_8\\assets\n",
      "Model has been saved\n",
      "INFO:tensorflow:Assets written to: D:/models/aug_22/gtsrb/C2/gtsrb_model_c2_aug_se_e1_9\\assets\n",
      "Model has been saved\n",
      "INFO:tensorflow:Assets written to: D:/models/aug_22/gtsrb/C2/gtsrb_model_c2_aug_se_e1_10\\assets\n",
      "Model has been saved\n",
      "INFO:tensorflow:Assets written to: D:/models/aug_22/gtsrb/C2/gtsrb_model_c2_aug_se_e1_11\\assets\n",
      "Model has been saved\n",
      "INFO:tensorflow:Assets written to: D:/models/aug_22/gtsrb/C2/gtsrb_model_c2_aug_se_e1_12\\assets\n",
      "Model has been saved\n",
      "INFO:tensorflow:Assets written to: D:/models/aug_22/gtsrb/C2/gtsrb_model_c2_aug_se_e1_13\\assets\n",
      "Model has been saved\n",
      "INFO:tensorflow:Assets written to: D:/models/aug_22/gtsrb/C2/gtsrb_model_c2_aug_se_e1_14\\assets\n",
      "Model has been saved\n",
      "INFO:tensorflow:Assets written to: D:/models/aug_22/gtsrb/C2/gtsrb_model_c2_aug_se_e1_15\\assets\n",
      "Model has been saved\n",
      "INFO:tensorflow:Assets written to: D:/models/aug_22/gtsrb/C2/gtsrb_model_c2_aug_se_e1_16\\assets\n",
      "Model has been saved\n",
      "INFO:tensorflow:Assets written to: D:/models/aug_22/gtsrb/C2/gtsrb_model_c2_aug_se_e1_17\\assets\n",
      "Model has been saved\n",
      "INFO:tensorflow:Assets written to: D:/models/aug_22/gtsrb/C2/gtsrb_model_c2_aug_se_e1_18\\assets\n",
      "Model has been saved\n",
      "INFO:tensorflow:Assets written to: D:/models/aug_22/gtsrb/C2/gtsrb_model_c2_aug_se_e1_19\\assets\n",
      "Model has been saved\n",
      "INFO:tensorflow:Assets written to: D:/models/aug_22/gtsrb/C2/gtsrb_model_c2_aug_se_e1_20\\assets\n",
      "Model has been saved\n"
     ]
    }
   ],
   "source": [
    "new_model_se_dir  = \"D:/models/aug_22/gtsrb/C2/gtsrb_model_c2_aug_se_e1\"\n",
    "\n",
    "i=0\n",
    "\n",
    "for model in models_se:\n",
    "    model.save(new_model_se_dir+\"_\"+str(i))\n",
    "    i+=1"
   ]
  },
  {
   "cell_type": "code",
   "execution_count": 43,
   "id": "f189e7cf",
   "metadata": {},
   "outputs": [],
   "source": [
    "try:\n",
    "    del se_values\n",
    "    del top_images_by_se\n",
    "    del top_labels_by_se\n",
    "    del image_sets_se\n",
    "    del label_sets_se\n",
    "    del models_se\n",
    "except:\n",
    "    print(\"Error\")"
   ]
  },
  {
   "cell_type": "code",
   "execution_count": 44,
   "id": "d4d60437",
   "metadata": {},
   "outputs": [
    {
     "data": {
      "text/plain": [
       "632102"
      ]
     },
     "execution_count": 44,
     "metadata": {},
     "output_type": "execute_result"
    }
   ],
   "source": [
    "gc.collect()"
   ]
  },
  {
   "cell_type": "markdown",
   "id": "11198aa3",
   "metadata": {},
   "source": [
    "## Training guided by Random values"
   ]
  },
  {
   "cell_type": "code",
   "execution_count": null,
   "id": "3581436b",
   "metadata": {},
   "outputs": [],
   "source": [
    "import random\n",
    "random_indexes =list(range(len(x_train_and_adversary)))\n",
    "random.shuffle(random_indexes)\n",
    "print(random_indexes[:10])\n",
    "print(len(random_indexes))"
   ]
  },
  {
   "cell_type": "code",
   "execution_count": 45,
   "id": "0eca574c",
   "metadata": {},
   "outputs": [],
   "source": [
    "save_dir = \"C:/Users/fjdur/Documents/upc-july/data/\"+dataset+\"/random_values.npy\"\n",
    "\n",
    "\n",
    "random_indexes = np.load(save_dir)"
   ]
  },
  {
   "cell_type": "code",
   "execution_count": 46,
   "id": "94967b8d",
   "metadata": {},
   "outputs": [
    {
     "data": {
      "text/plain": [
       "35287"
      ]
     },
     "execution_count": 46,
     "metadata": {},
     "output_type": "execute_result"
    }
   ],
   "source": [
    "len(random_indexes)"
   ]
  },
  {
   "cell_type": "code",
   "execution_count": 47,
   "id": "d13ccb6c",
   "metadata": {},
   "outputs": [],
   "source": [
    "# Obtaining top n images by random values\n",
    "top_images_by_random = utils.get_x_of_indexes(list(np.flip(np.argsort(random_indexes))),x_train_and_adversary)\n",
    "top_labels_by_random = utils.get_x_of_indexes(list(np.flip(np.argsort(random_indexes))),y_train_and_adversary)"
   ]
  },
  {
   "cell_type": "code",
   "execution_count": 48,
   "id": "1209ac75",
   "metadata": {},
   "outputs": [
    {
     "name": "stdout",
     "output_type": "stream",
     "text": [
      "0 :\n",
      "0  ->  1750\n",
      "1750\n",
      "1 :\n",
      "0  ->  3500\n",
      "3500\n",
      "2 :\n",
      "0  ->  5250\n",
      "5250\n",
      "3 :\n",
      "0  ->  7000\n",
      "7000\n",
      "4 :\n",
      "0  ->  8750\n",
      "8750\n",
      "5 :\n",
      "0  ->  10500\n",
      "10500\n",
      "6 :\n",
      "0  ->  12250\n",
      "12250\n",
      "7 :\n",
      "0  ->  14000\n",
      "14000\n",
      "8 :\n",
      "0  ->  15750\n",
      "15750\n",
      "9 :\n",
      "0  ->  17500\n",
      "17500\n",
      "10 :\n",
      "0  ->  19250\n",
      "19250\n",
      "11 :\n",
      "0  ->  21000\n",
      "21000\n",
      "12 :\n",
      "0  ->  22750\n",
      "22750\n",
      "13 :\n",
      "0  ->  24500\n",
      "24500\n",
      "14 :\n",
      "0  ->  26250\n",
      "26250\n",
      "15 :\n",
      "0  ->  28000\n",
      "28000\n",
      "16 :\n",
      "0  ->  29750\n",
      "29750\n",
      "17 :\n",
      "0  ->  31500\n",
      "31500\n",
      "18 :\n",
      "0  ->  33250\n",
      "33250\n",
      "19 :\n",
      "0  ->  35000\n",
      "35000\n",
      "20 :\n",
      "Last\n",
      "0  ->  37037\n",
      "35287\n"
     ]
    }
   ],
   "source": [
    "m = n_data_points\n",
    "n = 0\n",
    "image_sets_random = []\n",
    "label_sets_random = []\n",
    "\n",
    "\n",
    "\n",
    "for i in range((len(top_images_by_random)//m)+1):\n",
    "    print(i,\":\")\n",
    "    if (i+1 >= ((len(top_images_by_random)//m)+1)):\n",
    "        print(\"Last\")\n",
    "        print(0,\" -> \",n+m+(len(top_images_by_random)%m))\n",
    "        top_images_by_random_n = np.array(top_images_by_random[:n+m+(len(top_images_by_random)%m)])\n",
    "        top_labels_by_random_n = np.array(top_labels_by_random[:n+m+(len(top_images_by_random)%m)])\n",
    "    else:\n",
    "        print(0,\" -> \",m+n)\n",
    "        top_images_by_random_n = np.array(top_images_by_random[:n+m])\n",
    "        top_labels_by_random_n = np.array(top_labels_by_random[:n+m])\n",
    "    image_sets_random.append(top_images_by_random_n)\n",
    "    label_sets_random.append(top_labels_by_random_n)\n",
    "    print(len(top_images_by_random_n))\n",
    "    n += m\n",
    "\n",
    "\n"
   ]
  },
  {
   "cell_type": "code",
   "execution_count": 49,
   "id": "3ed47a88",
   "metadata": {},
   "outputs": [
    {
     "data": {
      "text/plain": [
       "21"
      ]
     },
     "execution_count": 49,
     "metadata": {},
     "output_type": "execute_result"
    }
   ],
   "source": [
    "len(image_sets_random)"
   ]
  },
  {
   "cell_type": "code",
   "execution_count": null,
   "id": "89d604af",
   "metadata": {},
   "outputs": [],
   "source": []
  },
  {
   "cell_type": "code",
   "execution_count": 50,
   "id": "3f03e1cf",
   "metadata": {},
   "outputs": [
    {
     "name": "stdout",
     "output_type": "stream",
     "text": [
      "C:/Users/fjdur/Documents/upc-july/models/tf_model_25-06/\n",
      "0 :\n",
      "Model loaded correctly\n",
      "Model compiled\n",
      "1 :\n",
      "Model loaded correctly\n",
      "Model compiled\n",
      "2 :\n",
      "Model loaded correctly\n",
      "Model compiled\n",
      "3 :\n",
      "Model loaded correctly\n",
      "Model compiled\n",
      "4 :\n",
      "Model loaded correctly\n",
      "Model compiled\n",
      "5 :\n",
      "Model loaded correctly\n",
      "Model compiled\n",
      "6 :\n",
      "Model loaded correctly\n",
      "Model compiled\n",
      "7 :\n",
      "Model loaded correctly\n",
      "Model compiled\n",
      "8 :\n",
      "Model loaded correctly\n",
      "Model compiled\n",
      "9 :\n",
      "Model loaded correctly\n",
      "Model compiled\n",
      "10 :\n",
      "Model loaded correctly\n",
      "Model compiled\n",
      "11 :\n",
      "Model loaded correctly\n",
      "Model compiled\n",
      "12 :\n",
      "Model loaded correctly\n",
      "Model compiled\n",
      "13 :\n",
      "Model loaded correctly\n",
      "Model compiled\n",
      "14 :\n",
      "Model loaded correctly\n",
      "Model compiled\n",
      "15 :\n",
      "Model loaded correctly\n",
      "Model compiled\n",
      "16 :\n",
      "Model loaded correctly\n",
      "Model compiled\n",
      "17 :\n",
      "Model loaded correctly\n",
      "Model compiled\n",
      "18 :\n",
      "Model loaded correctly\n",
      "Model compiled\n",
      "19 :\n",
      "Model loaded correctly\n",
      "Model compiled\n",
      "20 :\n",
      "Model loaded correctly\n",
      "Model compiled\n"
     ]
    }
   ],
   "source": [
    "print(model_dir)\n",
    "\n",
    "models_random = []\n",
    "for i in range(len(label_sets_random)):\n",
    "    print(i,\":\")\n",
    "    model = utils.My_model(dataset,True,model_dir)\n",
    "    model.compile_model()\n",
    "    models_random.append(model)\n"
   ]
  },
  {
   "cell_type": "code",
   "execution_count": 51,
   "id": "14912c8b",
   "metadata": {},
   "outputs": [
    {
     "name": "stdout",
     "output_type": "stream",
     "text": [
      "0\n",
      "Epoch 1/10\n",
      "28/28 [==============================] - 23s 765ms/step - loss: 0.2543 - accuracy: 0.9421 - val_loss: 0.0435 - val_accuracy: 0.9913\n",
      "Epoch 2/10\n",
      "28/28 [==============================] - 21s 742ms/step - loss: 0.1670 - accuracy: 0.9593 - val_loss: 0.0259 - val_accuracy: 0.9939\n",
      "Epoch 3/10\n",
      "28/28 [==============================] - 21s 750ms/step - loss: 0.1570 - accuracy: 0.9586 - val_loss: 0.0245 - val_accuracy: 0.9941\n",
      "Epoch 4/10\n",
      "28/28 [==============================] - 21s 745ms/step - loss: 0.1025 - accuracy: 0.9680 - val_loss: 0.0321 - val_accuracy: 0.9923\n",
      "Epoch 5/10\n",
      "28/28 [==============================] - 21s 748ms/step - loss: 0.1045 - accuracy: 0.9741 - val_loss: 0.0312 - val_accuracy: 0.9923\n",
      "Epoch 6/10\n",
      "28/28 [==============================] - 21s 751ms/step - loss: 0.1192 - accuracy: 0.9690 - val_loss: 0.0326 - val_accuracy: 0.9929\n",
      "Epoch 7/10\n",
      "28/28 [==============================] - 21s 746ms/step - loss: 0.0906 - accuracy: 0.9791 - val_loss: 0.0399 - val_accuracy: 0.9908\n",
      "Epoch 8/10\n",
      "28/28 [==============================] - 21s 747ms/step - loss: 0.0604 - accuracy: 0.9785 - val_loss: 0.0225 - val_accuracy: 0.9946\n",
      "Epoch 9/10\n",
      "28/28 [==============================] - 21s 742ms/step - loss: 0.0542 - accuracy: 0.9829 - val_loss: 0.0297 - val_accuracy: 0.9931\n",
      "Epoch 10/10\n",
      "28/28 [==============================] - 21s 743ms/step - loss: 0.0666 - accuracy: 0.9817 - val_loss: 0.0473 - val_accuracy: 0.9934\n",
      "Duration: 0:03:29.308271\n"
     ]
    }
   ],
   "source": [
    "n=0\n",
    "print(n)\n",
    "\n",
    "models_random[n].fit_model(image_sets_random[n],label_sets_random[n],x_val,y_val)\n",
    "n = n+1"
   ]
  },
  {
   "cell_type": "code",
   "execution_count": 52,
   "id": "f28e27b1",
   "metadata": {},
   "outputs": [
    {
     "name": "stdout",
     "output_type": "stream",
     "text": [
      "1\n",
      "Epoch 1/10\n",
      "55/55 [==============================] - 39s 663ms/step - loss: 0.2814 - accuracy: 0.9485 - val_loss: 0.0447 - val_accuracy: 0.9931\n",
      "Epoch 2/10\n",
      "55/55 [==============================] - 36s 657ms/step - loss: 0.1250 - accuracy: 0.9688 - val_loss: 0.0295 - val_accuracy: 0.9931\n",
      "Epoch 3/10\n",
      "55/55 [==============================] - 36s 649ms/step - loss: 0.1301 - accuracy: 0.9674 - val_loss: 0.0304 - val_accuracy: 0.9944\n",
      "Epoch 4/10\n",
      "55/55 [==============================] - 36s 652ms/step - loss: 0.1490 - accuracy: 0.9618 - val_loss: 0.0377 - val_accuracy: 0.9890\n",
      "Epoch 5/10\n",
      "55/55 [==============================] - 36s 649ms/step - loss: 0.1064 - accuracy: 0.9707 - val_loss: 0.0535 - val_accuracy: 0.9860\n",
      "Epoch 6/10\n",
      "55/55 [==============================] - 36s 650ms/step - loss: 0.1068 - accuracy: 0.9727 - val_loss: 0.0264 - val_accuracy: 0.9949\n",
      "Epoch 7/10\n",
      "55/55 [==============================] - 36s 649ms/step - loss: 0.0790 - accuracy: 0.9801 - val_loss: 0.0309 - val_accuracy: 0.9929\n",
      "Epoch 8/10\n",
      "55/55 [==============================] - 36s 651ms/step - loss: 0.1065 - accuracy: 0.9726 - val_loss: 0.0304 - val_accuracy: 0.9954\n",
      "Epoch 9/10\n",
      "55/55 [==============================] - 36s 649ms/step - loss: 0.0885 - accuracy: 0.9767 - val_loss: 0.0281 - val_accuracy: 0.9952\n",
      "Epoch 10/10\n",
      "55/55 [==============================] - 36s 655ms/step - loss: 0.0935 - accuracy: 0.9781 - val_loss: 0.0355 - val_accuracy: 0.9941\n",
      "Duration: 0:06:00.038457\n"
     ]
    }
   ],
   "source": [
    "print(n)\n",
    "\n",
    "models_random[n].fit_model(image_sets_random[n],label_sets_random[n],x_val,y_val)\n",
    "n = n+1"
   ]
  },
  {
   "cell_type": "code",
   "execution_count": 53,
   "id": "86be2715",
   "metadata": {},
   "outputs": [
    {
     "name": "stdout",
     "output_type": "stream",
     "text": [
      "2\n",
      "Epoch 1/10\n",
      "83/83 [==============================] - 57s 660ms/step - loss: 0.2090 - accuracy: 0.9578 - val_loss: 0.0492 - val_accuracy: 0.9906\n",
      "Epoch 2/10\n",
      "83/83 [==============================] - 54s 653ms/step - loss: 0.1572 - accuracy: 0.9579 - val_loss: 0.0300 - val_accuracy: 0.9936\n",
      "Epoch 3/10\n",
      "83/83 [==============================] - 54s 650ms/step - loss: 0.1300 - accuracy: 0.9663 - val_loss: 0.0245 - val_accuracy: 0.9939\n",
      "Epoch 4/10\n",
      "83/83 [==============================] - 54s 651ms/step - loss: 0.1234 - accuracy: 0.9670 - val_loss: 0.0226 - val_accuracy: 0.9954\n",
      "Epoch 5/10\n",
      "83/83 [==============================] - 56s 676ms/step - loss: 0.1320 - accuracy: 0.9667 - val_loss: 0.0352 - val_accuracy: 0.9957\n",
      "Epoch 6/10\n",
      "83/83 [==============================] - 54s 646ms/step - loss: 0.1295 - accuracy: 0.9704 - val_loss: 0.0351 - val_accuracy: 0.9906\n",
      "Epoch 7/10\n",
      "83/83 [==============================] - 57s 682ms/step - loss: 0.1155 - accuracy: 0.9685 - val_loss: 0.0261 - val_accuracy: 0.9944\n",
      "Epoch 8/10\n",
      "83/83 [==============================] - 54s 657ms/step - loss: 0.1164 - accuracy: 0.9712 - val_loss: 0.0358 - val_accuracy: 0.9939\n",
      "Epoch 9/10\n",
      "83/83 [==============================] - 51s 615ms/step - loss: 0.1093 - accuracy: 0.9718 - val_loss: 0.0292 - val_accuracy: 0.9946\n",
      "Epoch 10/10\n",
      "83/83 [==============================] - 51s 615ms/step - loss: 0.0934 - accuracy: 0.9747 - val_loss: 0.0287 - val_accuracy: 0.9944\n",
      "Duration: 0:09:01.619949\n"
     ]
    }
   ],
   "source": [
    "print(n)\n",
    "\n",
    "models_random[n].fit_model(image_sets_random[n],label_sets_random[n],x_val,y_val)\n",
    "n = n+1"
   ]
  },
  {
   "cell_type": "code",
   "execution_count": 54,
   "id": "ac9da2be",
   "metadata": {
    "scrolled": true
   },
   "outputs": [
    {
     "name": "stdout",
     "output_type": "stream",
     "text": [
      "3\n",
      "Epoch 1/10\n",
      "110/110 [==============================] - 73s 647ms/step - loss: 0.2509 - accuracy: 0.9525 - val_loss: 0.0265 - val_accuracy: 0.9936\n",
      "Epoch 2/10\n",
      "110/110 [==============================] - 73s 661ms/step - loss: 0.1484 - accuracy: 0.9590 - val_loss: 0.0317 - val_accuracy: 0.9934\n",
      "Epoch 3/10\n",
      "110/110 [==============================] - 73s 660ms/step - loss: 0.1391 - accuracy: 0.9653 - val_loss: 0.0412 - val_accuracy: 0.9906\n",
      "Epoch 4/10\n",
      "110/110 [==============================] - 73s 660ms/step - loss: 0.1338 - accuracy: 0.9635 - val_loss: 0.0387 - val_accuracy: 0.9929\n",
      "Epoch 5/10\n",
      "110/110 [==============================] - 73s 665ms/step - loss: 0.1213 - accuracy: 0.9676 - val_loss: 0.0244 - val_accuracy: 0.9954\n",
      "Epoch 6/10\n",
      "110/110 [==============================] - 84s 765ms/step - loss: 0.1162 - accuracy: 0.9699 - val_loss: 0.0283 - val_accuracy: 0.9952\n",
      "Epoch 7/10\n",
      "110/110 [==============================] - 107s 970ms/step - loss: 0.0816 - accuracy: 0.9779 - val_loss: 0.0340 - val_accuracy: 0.9944\n",
      "Epoch 8/10\n",
      "110/110 [==============================] - 109s 989ms/step - loss: 0.1049 - accuracy: 0.9744 - val_loss: 0.0353 - val_accuracy: 0.9918\n",
      "Epoch 9/10\n",
      "110/110 [==============================] - 108s 988ms/step - loss: 0.0875 - accuracy: 0.9763 - val_loss: 0.0331 - val_accuracy: 0.9918\n",
      "Epoch 10/10\n",
      "110/110 [==============================] - 109s 990ms/step - loss: 0.0866 - accuracy: 0.9771 - val_loss: 0.0409 - val_accuracy: 0.9936\n",
      "Duration: 0:14:40.599653\n"
     ]
    }
   ],
   "source": [
    "n=3\n",
    "print(n)\n",
    "models_random[n].fit_model(image_sets_random[n],label_sets_random[n],x_val,y_val)\n",
    "n = n+1"
   ]
  },
  {
   "cell_type": "code",
   "execution_count": 55,
   "id": "0c0f3809",
   "metadata": {},
   "outputs": [
    {
     "name": "stdout",
     "output_type": "stream",
     "text": [
      "4\n",
      "Epoch 1/10\n",
      "137/137 [==============================] - 136s 976ms/step - loss: 0.2372 - accuracy: 0.9453 - val_loss: 0.0253 - val_accuracy: 0.9939\n",
      "Epoch 2/10\n",
      "137/137 [==============================] - 128s 932ms/step - loss: 0.1625 - accuracy: 0.9592 - val_loss: 0.0256 - val_accuracy: 0.9941\n",
      "Epoch 3/10\n",
      "137/137 [==============================] - 128s 934ms/step - loss: 0.1500 - accuracy: 0.9635 - val_loss: 0.0279 - val_accuracy: 0.9941\n",
      "Epoch 4/10\n",
      "137/137 [==============================] - 131s 956ms/step - loss: 0.1359 - accuracy: 0.9680 - val_loss: 0.0360 - val_accuracy: 0.9934\n",
      "Epoch 5/10\n",
      "137/137 [==============================] - 128s 935ms/step - loss: 0.1344 - accuracy: 0.9654 - val_loss: 0.0384 - val_accuracy: 0.9934\n",
      "Epoch 6/10\n",
      "137/137 [==============================] - 128s 937ms/step - loss: 0.1269 - accuracy: 0.9688 - val_loss: 0.0345 - val_accuracy: 0.9944\n",
      "Epoch 7/10\n",
      "137/137 [==============================] - 128s 937ms/step - loss: 0.1056 - accuracy: 0.9721 - val_loss: 0.0238 - val_accuracy: 0.9941\n",
      "Epoch 8/10\n",
      "137/137 [==============================] - 128s 934ms/step - loss: 0.1055 - accuracy: 0.9721 - val_loss: 0.0243 - val_accuracy: 0.9954\n",
      "Epoch 9/10\n",
      "137/137 [==============================] - 128s 937ms/step - loss: 0.0983 - accuracy: 0.9747 - val_loss: 0.0264 - val_accuracy: 0.9939\n",
      "Epoch 10/10\n",
      "137/137 [==============================] - 130s 952ms/step - loss: 0.1085 - accuracy: 0.9758 - val_loss: 0.0289 - val_accuracy: 0.9944\n",
      "Duration: 0:21:33.349897\n"
     ]
    }
   ],
   "source": [
    "print(n)#4\n",
    "\n",
    "models_random[n].fit_model(image_sets_random[n],label_sets_random[n],x_val,y_val)\n",
    "n = n+1"
   ]
  },
  {
   "cell_type": "code",
   "execution_count": 56,
   "id": "cf722ccd",
   "metadata": {},
   "outputs": [
    {
     "name": "stdout",
     "output_type": "stream",
     "text": [
      "5\n",
      "Epoch 1/10\n",
      "165/165 [==============================] - 159s 952ms/step - loss: 0.2742 - accuracy: 0.9392 - val_loss: 0.0305 - val_accuracy: 0.9929\n",
      "Epoch 2/10\n",
      "165/165 [==============================] - 158s 956ms/step - loss: 0.1704 - accuracy: 0.9554 - val_loss: 0.0260 - val_accuracy: 0.9929\n",
      "Epoch 3/10\n",
      "165/165 [==============================] - 157s 952ms/step - loss: 0.1541 - accuracy: 0.9617 - val_loss: 0.0260 - val_accuracy: 0.9931\n",
      "Epoch 4/10\n",
      "165/165 [==============================] - 156s 949ms/step - loss: 0.1309 - accuracy: 0.9668 - val_loss: 0.0371 - val_accuracy: 0.9941\n",
      "Epoch 5/10\n",
      "165/165 [==============================] - 156s 947ms/step - loss: 0.1315 - accuracy: 0.9670 - val_loss: 0.0235 - val_accuracy: 0.9957\n",
      "Epoch 6/10\n",
      "165/165 [==============================] - 157s 952ms/step - loss: 0.1223 - accuracy: 0.9699 - val_loss: 0.0277 - val_accuracy: 0.9936\n",
      "Epoch 7/10\n",
      "165/165 [==============================] - 156s 947ms/step - loss: 0.1146 - accuracy: 0.9698 - val_loss: 0.0391 - val_accuracy: 0.9923\n",
      "Epoch 8/10\n",
      "165/165 [==============================] - 156s 944ms/step - loss: 0.1197 - accuracy: 0.9707 - val_loss: 0.0206 - val_accuracy: 0.9954\n",
      "Epoch 9/10\n",
      "165/165 [==============================] - 155s 941ms/step - loss: 0.1070 - accuracy: 0.9757 - val_loss: 0.0321 - val_accuracy: 0.9946\n",
      "Epoch 10/10\n",
      "165/165 [==============================] - 155s 941ms/step - loss: 0.1159 - accuracy: 0.9727 - val_loss: 0.0359 - val_accuracy: 0.9931\n",
      "Duration: 0:26:05.643338\n"
     ]
    }
   ],
   "source": [
    "print(n)\n",
    "\n",
    "models_random[n].fit_model(image_sets_random[n],label_sets_random[n],x_val,y_val)\n",
    "n = n+1"
   ]
  },
  {
   "cell_type": "code",
   "execution_count": 57,
   "id": "35301e47",
   "metadata": {},
   "outputs": [
    {
     "name": "stdout",
     "output_type": "stream",
     "text": [
      "6\n",
      "Epoch 1/10\n",
      "192/192 [==============================] - 184s 945ms/step - loss: 0.2182 - accuracy: 0.9497 - val_loss: 0.0506 - val_accuracy: 0.9918\n",
      "Epoch 2/10\n",
      "192/192 [==============================] - 182s 947ms/step - loss: 0.1566 - accuracy: 0.9602 - val_loss: 0.0258 - val_accuracy: 0.9949\n",
      "Epoch 3/10\n",
      "192/192 [==============================] - 182s 948ms/step - loss: 0.1316 - accuracy: 0.9654 - val_loss: 0.0274 - val_accuracy: 0.9934\n",
      "Epoch 4/10\n",
      "192/192 [==============================] - 182s 946ms/step - loss: 0.1381 - accuracy: 0.9651 - val_loss: 0.0448 - val_accuracy: 0.9890\n",
      "Epoch 5/10\n",
      "192/192 [==============================] - 181s 944ms/step - loss: 0.1342 - accuracy: 0.9635 - val_loss: 0.0281 - val_accuracy: 0.9941\n",
      "Epoch 6/10\n",
      "192/192 [==============================] - 181s 942ms/step - loss: 0.1367 - accuracy: 0.9658 - val_loss: 0.0499 - val_accuracy: 0.9890\n",
      "Epoch 7/10\n",
      "192/192 [==============================] - 183s 952ms/step - loss: 0.1185 - accuracy: 0.9694 - val_loss: 0.0316 - val_accuracy: 0.9934\n",
      "Epoch 8/10\n",
      "192/192 [==============================] - 181s 945ms/step - loss: 0.1195 - accuracy: 0.9704 - val_loss: 0.0316 - val_accuracy: 0.9929\n",
      "Epoch 9/10\n",
      "192/192 [==============================] - 181s 944ms/step - loss: 0.1300 - accuracy: 0.9701 - val_loss: 0.0706 - val_accuracy: 0.9890\n",
      "Epoch 10/10\n",
      "192/192 [==============================] - 181s 941ms/step - loss: 0.1166 - accuracy: 0.9733 - val_loss: 0.0538 - val_accuracy: 0.9893\n",
      "Duration: 0:30:16.831191\n"
     ]
    }
   ],
   "source": [
    "print(n)\n",
    "\n",
    "models_random[n].fit_model(image_sets_random[n],label_sets_random[n],x_val,y_val)\n",
    "n = n+1"
   ]
  },
  {
   "cell_type": "code",
   "execution_count": 58,
   "id": "31086dab",
   "metadata": {},
   "outputs": [
    {
     "name": "stdout",
     "output_type": "stream",
     "text": [
      "7\n",
      "Epoch 1/10\n",
      "219/219 [==============================] - 207s 938ms/step - loss: 0.2189 - accuracy: 0.9519 - val_loss: 0.0276 - val_accuracy: 0.9944\n",
      "Epoch 2/10\n",
      "219/219 [==============================] - 197s 902ms/step - loss: 0.1577 - accuracy: 0.9603 - val_loss: 0.0624 - val_accuracy: 0.9903\n",
      "Epoch 3/10\n",
      "219/219 [==============================] - 198s 905ms/step - loss: 0.1410 - accuracy: 0.9642 - val_loss: 0.0417 - val_accuracy: 0.9949\n",
      "Epoch 4/10\n",
      "219/219 [==============================] - 198s 906ms/step - loss: 0.1175 - accuracy: 0.9703 - val_loss: 0.0301 - val_accuracy: 0.9952\n",
      "Epoch 5/10\n",
      "219/219 [==============================] - 198s 906ms/step - loss: 0.1348 - accuracy: 0.9655 - val_loss: 0.0402 - val_accuracy: 0.9916\n",
      "Epoch 6/10\n",
      "219/219 [==============================] - 198s 904ms/step - loss: 0.1327 - accuracy: 0.9667 - val_loss: 0.0440 - val_accuracy: 0.9936\n",
      "Epoch 7/10\n",
      "219/219 [==============================] - 198s 905ms/step - loss: 0.1516 - accuracy: 0.9662 - val_loss: 0.0253 - val_accuracy: 0.9957\n",
      "Epoch 8/10\n",
      "219/219 [==============================] - 198s 906ms/step - loss: 0.1323 - accuracy: 0.9690 - val_loss: 0.0295 - val_accuracy: 0.9949\n",
      "Epoch 9/10\n",
      "219/219 [==============================] - 198s 906ms/step - loss: 0.1234 - accuracy: 0.9690 - val_loss: 0.0573 - val_accuracy: 0.9921\n",
      "Epoch 10/10\n",
      "219/219 [==============================] - 199s 908ms/step - loss: 0.1197 - accuracy: 0.9697 - val_loss: 0.0749 - val_accuracy: 0.9837\n",
      "Duration: 0:33:11.320112\n"
     ]
    }
   ],
   "source": [
    "n=7\n",
    "print(n)\n",
    "\n",
    "models_random[n].fit_model(image_sets_random[n],label_sets_random[n],x_val,y_val)\n",
    "n = n+1"
   ]
  },
  {
   "cell_type": "code",
   "execution_count": 59,
   "id": "693f95bc",
   "metadata": {},
   "outputs": [
    {
     "name": "stdout",
     "output_type": "stream",
     "text": [
      "8\n",
      "Epoch 1/10\n",
      "247/247 [==============================] - 233s 933ms/step - loss: 0.2246 - accuracy: 0.9511 - val_loss: 0.0328 - val_accuracy: 0.9913\n",
      "Epoch 2/10\n",
      "247/247 [==============================] - 230s 932ms/step - loss: 0.1463 - accuracy: 0.9633 - val_loss: 0.0282 - val_accuracy: 0.9941\n",
      "Epoch 3/10\n",
      "247/247 [==============================] - 231s 937ms/step - loss: 0.1514 - accuracy: 0.9614 - val_loss: 0.0415 - val_accuracy: 0.9903\n",
      "Epoch 4/10\n",
      "247/247 [==============================] - 234s 948ms/step - loss: 0.1305 - accuracy: 0.9666 - val_loss: 0.0328 - val_accuracy: 0.9949\n",
      "Epoch 5/10\n",
      "247/247 [==============================] - 232s 939ms/step - loss: 0.1283 - accuracy: 0.9678 - val_loss: 0.0282 - val_accuracy: 0.9946\n",
      "Epoch 6/10\n",
      "247/247 [==============================] - 233s 942ms/step - loss: 0.1214 - accuracy: 0.9677 - val_loss: 0.0365 - val_accuracy: 0.9936\n",
      "Epoch 7/10\n",
      "247/247 [==============================] - 233s 943ms/step - loss: 0.1075 - accuracy: 0.9723 - val_loss: 0.0525 - val_accuracy: 0.9878\n",
      "Epoch 8/10\n",
      "247/247 [==============================] - 235s 950ms/step - loss: 0.1111 - accuracy: 0.9719 - val_loss: 0.0382 - val_accuracy: 0.9952\n",
      "Epoch 9/10\n",
      "247/247 [==============================] - 243s 985ms/step - loss: 0.1177 - accuracy: 0.9700 - val_loss: 0.0300 - val_accuracy: 0.9916\n",
      "Epoch 10/10\n",
      "247/247 [==============================] - 233s 946ms/step - loss: 0.1109 - accuracy: 0.9733 - val_loss: 0.0235 - val_accuracy: 0.9946\n",
      "Duration: 0:38:57.000428\n"
     ]
    }
   ],
   "source": [
    "print(n)\n",
    "\n",
    "models_random[n].fit_model(image_sets_random[n],label_sets_random[n],x_val,y_val)\n",
    "n = n+1"
   ]
  },
  {
   "cell_type": "code",
   "execution_count": 60,
   "id": "6e0e5801",
   "metadata": {
    "scrolled": false
   },
   "outputs": [
    {
     "name": "stdout",
     "output_type": "stream",
     "text": [
      "9\n",
      "Epoch 1/10\n",
      "274/274 [==============================] - 262s 949ms/step - loss: 0.2159 - accuracy: 0.9522 - val_loss: 0.0243 - val_accuracy: 0.9946\n",
      "Epoch 2/10\n",
      "274/274 [==============================] - 260s 950ms/step - loss: 0.1503 - accuracy: 0.9621 - val_loss: 0.0353 - val_accuracy: 0.9921\n",
      "Epoch 3/10\n",
      "274/274 [==============================] - 261s 952ms/step - loss: 0.1357 - accuracy: 0.9643 - val_loss: 0.0143 - val_accuracy: 0.9957\n",
      "Epoch 4/10\n",
      "274/274 [==============================] - 260s 949ms/step - loss: 0.1205 - accuracy: 0.9698 - val_loss: 0.0246 - val_accuracy: 0.9939\n",
      "Epoch 5/10\n",
      "274/274 [==============================] - 260s 950ms/step - loss: 0.1133 - accuracy: 0.9710 - val_loss: 0.0437 - val_accuracy: 0.9936\n",
      "Epoch 6/10\n",
      "274/274 [==============================] - 260s 948ms/step - loss: 0.1178 - accuracy: 0.9693 - val_loss: 0.0358 - val_accuracy: 0.9918\n",
      "Epoch 7/10\n",
      "274/274 [==============================] - 260s 950ms/step - loss: 0.1309 - accuracy: 0.9671 - val_loss: 0.0214 - val_accuracy: 0.9972\n",
      "Epoch 8/10\n",
      "274/274 [==============================] - 261s 954ms/step - loss: 0.1190 - accuracy: 0.9717 - val_loss: 0.1857 - val_accuracy: 0.9645\n",
      "Epoch 9/10\n",
      "274/274 [==============================] - 262s 956ms/step - loss: 0.1277 - accuracy: 0.9650 - val_loss: 0.0545 - val_accuracy: 0.9895\n",
      "Epoch 10/10\n",
      "274/274 [==============================] - 261s 951ms/step - loss: 0.1187 - accuracy: 0.9698 - val_loss: 0.0391 - val_accuracy: 0.9967\n",
      "Duration: 0:43:27.032510\n"
     ]
    }
   ],
   "source": [
    "n=9\n",
    "print(n)#9\n",
    "\n",
    "models_random[n].fit_model(image_sets_random[n],label_sets_random[n],x_val,y_val)\n",
    "n = n+1"
   ]
  },
  {
   "cell_type": "code",
   "execution_count": 61,
   "id": "ebd0756a",
   "metadata": {},
   "outputs": [
    {
     "name": "stdout",
     "output_type": "stream",
     "text": [
      "10\n",
      "Epoch 1/10\n",
      "301/301 [==============================] - 299s 987ms/step - loss: 0.2009 - accuracy: 0.9519 - val_loss: 0.0300 - val_accuracy: 0.9946\n",
      "Epoch 2/10\n",
      "301/301 [==============================] - 282s 937ms/step - loss: 0.1483 - accuracy: 0.9615 - val_loss: 0.0663 - val_accuracy: 0.9855\n",
      "Epoch 3/10\n",
      "301/301 [==============================] - 282s 939ms/step - loss: 0.1423 - accuracy: 0.9624 - val_loss: 0.0365 - val_accuracy: 0.9916\n",
      "Epoch 4/10\n",
      "301/301 [==============================] - 294s 978ms/step - loss: 0.1362 - accuracy: 0.9642 - val_loss: 0.0416 - val_accuracy: 0.9931\n",
      "Epoch 5/10\n",
      "301/301 [==============================] - 296s 982ms/step - loss: 0.1252 - accuracy: 0.9683 - val_loss: 0.0291 - val_accuracy: 0.9944\n",
      "Epoch 6/10\n",
      "301/301 [==============================] - 296s 983ms/step - loss: 0.1201 - accuracy: 0.9695 - val_loss: 0.0327 - val_accuracy: 0.9923\n",
      "Epoch 7/10\n",
      "301/301 [==============================] - 295s 981ms/step - loss: 0.1107 - accuracy: 0.9725 - val_loss: 0.0400 - val_accuracy: 0.9898\n",
      "Epoch 8/10\n",
      "301/301 [==============================] - 296s 983ms/step - loss: 0.1046 - accuracy: 0.9744 - val_loss: 0.0316 - val_accuracy: 0.9941\n",
      "Epoch 9/10\n",
      "301/301 [==============================] - 296s 983ms/step - loss: 0.1269 - accuracy: 0.9692 - val_loss: 0.0435 - val_accuracy: 0.9929\n",
      "Epoch 10/10\n",
      "301/301 [==============================] - 296s 982ms/step - loss: 0.1310 - accuracy: 0.9710 - val_loss: 0.0362 - val_accuracy: 0.9939\n",
      "Duration: 0:48:52.295772\n"
     ]
    }
   ],
   "source": [
    "n=10\n",
    "print(n)\n",
    "\n",
    "models_random[n].fit_model(image_sets_random[n],label_sets_random[n],x_val,y_val)\n",
    "n = n+1"
   ]
  },
  {
   "cell_type": "code",
   "execution_count": 62,
   "id": "8c267b21",
   "metadata": {},
   "outputs": [
    {
     "name": "stdout",
     "output_type": "stream",
     "text": [
      "11\n",
      "Epoch 1/10\n",
      "329/329 [==============================] - 327s 987ms/step - loss: 0.2297 - accuracy: 0.9485 - val_loss: 0.0495 - val_accuracy: 0.9921\n",
      "Epoch 2/10\n",
      "329/329 [==============================] - 322s 979ms/step - loss: 0.1623 - accuracy: 0.9585 - val_loss: 0.0921 - val_accuracy: 0.9885\n",
      "Epoch 3/10\n",
      "329/329 [==============================] - 321s 977ms/step - loss: 0.1342 - accuracy: 0.9668 - val_loss: 0.0593 - val_accuracy: 0.9903\n",
      "Epoch 4/10\n",
      "329/329 [==============================] - 322s 979ms/step - loss: 0.1367 - accuracy: 0.9668 - val_loss: 0.0315 - val_accuracy: 0.9944\n",
      "Epoch 5/10\n",
      "329/329 [==============================] - 322s 980ms/step - loss: 0.1325 - accuracy: 0.9685 - val_loss: 0.0380 - val_accuracy: 0.9934\n",
      "Epoch 6/10\n",
      "329/329 [==============================] - 322s 978ms/step - loss: 0.1231 - accuracy: 0.9714 - val_loss: 0.1756 - val_accuracy: 0.9622\n",
      "Epoch 7/10\n",
      "329/329 [==============================] - 321s 977ms/step - loss: 0.1314 - accuracy: 0.9680 - val_loss: 0.0539 - val_accuracy: 0.9923\n",
      "Epoch 8/10\n",
      "329/329 [==============================] - 322s 977ms/step - loss: 0.1200 - accuracy: 0.9723 - val_loss: 0.0684 - val_accuracy: 0.9900\n",
      "Epoch 9/10\n",
      "329/329 [==============================] - 321s 976ms/step - loss: 0.1135 - accuracy: 0.9722 - val_loss: 0.0231 - val_accuracy: 0.9959\n",
      "Epoch 10/10\n",
      "329/329 [==============================] - 320s 974ms/step - loss: 0.1162 - accuracy: 0.9726 - val_loss: 0.0467 - val_accuracy: 0.9939\n",
      "Duration: 0:53:40.834528\n"
     ]
    }
   ],
   "source": [
    "print(n)\n",
    "\n",
    "models_random[n].fit_model(image_sets_random[n],label_sets_random[n],x_val,y_val)\n",
    "n = n+1"
   ]
  },
  {
   "cell_type": "code",
   "execution_count": 63,
   "id": "a0f77dbe",
   "metadata": {},
   "outputs": [
    {
     "name": "stdout",
     "output_type": "stream",
     "text": [
      "12\n",
      "Epoch 1/10\n",
      "356/356 [==============================] - 350s 976ms/step - loss: 0.2028 - accuracy: 0.9546 - val_loss: 0.0321 - val_accuracy: 0.9929\n",
      "Epoch 2/10\n",
      "356/356 [==============================] - 349s 980ms/step - loss: 0.1341 - accuracy: 0.9639 - val_loss: 0.0299 - val_accuracy: 0.9934\n",
      "Epoch 3/10\n",
      "356/356 [==============================] - 347s 974ms/step - loss: 0.1341 - accuracy: 0.9650 - val_loss: 0.0316 - val_accuracy: 0.9918\n",
      "Epoch 4/10\n",
      "356/356 [==============================] - 347s 974ms/step - loss: 0.1200 - accuracy: 0.9694 - val_loss: 0.0749 - val_accuracy: 0.9903\n",
      "Epoch 5/10\n",
      "356/356 [==============================] - 347s 975ms/step - loss: 0.1255 - accuracy: 0.9691 - val_loss: 0.0376 - val_accuracy: 0.9939\n",
      "Epoch 6/10\n",
      "356/356 [==============================] - 347s 974ms/step - loss: 0.1373 - accuracy: 0.9688 - val_loss: 0.0517 - val_accuracy: 0.9898\n",
      "Epoch 7/10\n",
      "356/356 [==============================] - 347s 976ms/step - loss: 0.1296 - accuracy: 0.9696 - val_loss: 0.0187 - val_accuracy: 0.9944\n",
      "Epoch 8/10\n",
      "356/356 [==============================] - 347s 976ms/step - loss: 0.1289 - accuracy: 0.9690 - val_loss: 0.0441 - val_accuracy: 0.9895\n",
      "Epoch 9/10\n",
      "356/356 [==============================] - 348s 976ms/step - loss: 0.1275 - accuracy: 0.9703 - val_loss: 0.0206 - val_accuracy: 0.9949\n",
      "Epoch 10/10\n",
      "356/356 [==============================] - 347s 975ms/step - loss: 0.1320 - accuracy: 0.9689 - val_loss: 0.0230 - val_accuracy: 0.9967\n",
      "Duration: 0:57:54.751291\n"
     ]
    }
   ],
   "source": [
    "n=12\n",
    "print(n)\n",
    "\n",
    "models_random[n].fit_model(image_sets_random[n],label_sets_random[n],x_val,y_val)\n",
    "n = n+1"
   ]
  },
  {
   "cell_type": "code",
   "execution_count": 64,
   "id": "f6406922",
   "metadata": {},
   "outputs": [
    {
     "name": "stdout",
     "output_type": "stream",
     "text": [
      "13\n",
      "Epoch 1/10\n",
      "383/383 [==============================] - 378s 982ms/step - loss: 0.2005 - accuracy: 0.9542 - val_loss: 0.0217 - val_accuracy: 0.9954\n",
      "Epoch 2/10\n",
      "383/383 [==============================] - 378s 987ms/step - loss: 0.1455 - accuracy: 0.9622 - val_loss: 0.0206 - val_accuracy: 0.9954\n",
      "Epoch 3/10\n",
      "383/383 [==============================] - 377s 984ms/step - loss: 0.1406 - accuracy: 0.9647 - val_loss: 0.0224 - val_accuracy: 0.9952\n",
      "Epoch 4/10\n",
      "383/383 [==============================] - 376s 981ms/step - loss: 0.1287 - accuracy: 0.9679 - val_loss: 0.0326 - val_accuracy: 0.9934\n",
      "Epoch 5/10\n",
      "383/383 [==============================] - 376s 982ms/step - loss: 0.1285 - accuracy: 0.9694 - val_loss: 0.0373 - val_accuracy: 0.9929\n",
      "Epoch 6/10\n",
      "383/383 [==============================] - 377s 984ms/step - loss: 0.1169 - accuracy: 0.9700 - val_loss: 0.0161 - val_accuracy: 0.9959\n",
      "Epoch 7/10\n",
      "383/383 [==============================] - 376s 981ms/step - loss: 0.1346 - accuracy: 0.9687 - val_loss: 0.0367 - val_accuracy: 0.9911\n",
      "Epoch 8/10\n",
      "383/383 [==============================] - 376s 981ms/step - loss: 0.1264 - accuracy: 0.9680 - val_loss: 0.0260 - val_accuracy: 0.9949\n",
      "Epoch 9/10\n",
      "383/383 [==============================] - 375s 979ms/step - loss: 0.1328 - accuracy: 0.9698 - val_loss: 0.0221 - val_accuracy: 0.9949\n",
      "Epoch 10/10\n",
      "383/383 [==============================] - 375s 979ms/step - loss: 0.1047 - accuracy: 0.9732 - val_loss: 0.0239 - val_accuracy: 0.9936\n",
      "Duration: 1:02:43.542889\n"
     ]
    }
   ],
   "source": [
    "print(n)\n",
    "\n",
    "models_random[n].fit_model(image_sets_random[n],label_sets_random[n],x_val,y_val)\n",
    "n = n+1"
   ]
  },
  {
   "cell_type": "code",
   "execution_count": 65,
   "id": "7a13139a",
   "metadata": {},
   "outputs": [
    {
     "name": "stdout",
     "output_type": "stream",
     "text": [
      "14\n",
      "Epoch 1/10\n",
      "411/411 [==============================] - 409s 989ms/step - loss: 0.2093 - accuracy: 0.9524 - val_loss: 0.0197 - val_accuracy: 0.9952\n",
      "Epoch 2/10\n",
      "411/411 [==============================] - 414s 1s/step - loss: 0.1478 - accuracy: 0.9636 - val_loss: 0.0185 - val_accuracy: 0.9952\n",
      "Epoch 3/10\n",
      "411/411 [==============================] - 411s 999ms/step - loss: 0.1367 - accuracy: 0.9659 - val_loss: 0.0496 - val_accuracy: 0.9936\n",
      "Epoch 4/10\n",
      "411/411 [==============================] - 410s 997ms/step - loss: 0.1292 - accuracy: 0.9683 - val_loss: 0.0325 - val_accuracy: 0.9921\n",
      "Epoch 5/10\n",
      "411/411 [==============================] - 409s 996ms/step - loss: 0.1253 - accuracy: 0.9679 - val_loss: 0.0393 - val_accuracy: 0.9923\n",
      "Epoch 6/10\n",
      "411/411 [==============================] - 410s 998ms/step - loss: 0.1222 - accuracy: 0.9698 - val_loss: 0.0830 - val_accuracy: 0.9788\n",
      "Epoch 7/10\n",
      "411/411 [==============================] - 409s 995ms/step - loss: 0.1343 - accuracy: 0.9699 - val_loss: 0.0196 - val_accuracy: 0.9952\n",
      "Epoch 8/10\n",
      "411/411 [==============================] - 408s 993ms/step - loss: 0.1273 - accuracy: 0.9698 - val_loss: 0.0353 - val_accuracy: 0.9931\n",
      "Epoch 9/10\n",
      "411/411 [==============================] - 409s 995ms/step - loss: 0.1223 - accuracy: 0.9721 - val_loss: 0.1163 - val_accuracy: 0.9704\n",
      "Epoch 10/10\n",
      "411/411 [==============================] - 410s 997ms/step - loss: 0.1230 - accuracy: 0.9708 - val_loss: 0.0248 - val_accuracy: 0.9969\n",
      "Duration: 1:08:17.578616\n"
     ]
    }
   ],
   "source": [
    "print(n)#14\n",
    "\n",
    "models_random[n].fit_model(image_sets_random[n],label_sets_random[n],x_val,y_val)\n",
    "n = n+1"
   ]
  },
  {
   "cell_type": "code",
   "execution_count": 66,
   "id": "78517ef0",
   "metadata": {},
   "outputs": [
    {
     "name": "stdout",
     "output_type": "stream",
     "text": [
      "15\n",
      "Epoch 1/10\n",
      "438/438 [==============================] - 446s 1s/step - loss: 0.2095 - accuracy: 0.9569 - val_loss: 0.0197 - val_accuracy: 0.9952\n",
      "Epoch 2/10\n",
      "438/438 [==============================] - 424s 967ms/step - loss: 0.1464 - accuracy: 0.9637 - val_loss: 0.0258 - val_accuracy: 0.9949\n",
      "Epoch 3/10\n",
      "438/438 [==============================] - 416s 950ms/step - loss: 0.1333 - accuracy: 0.9672 - val_loss: 0.0370 - val_accuracy: 0.9944\n",
      "Epoch 4/10\n",
      "438/438 [==============================] - 416s 949ms/step - loss: 0.1273 - accuracy: 0.9675 - val_loss: 0.0218 - val_accuracy: 0.9954\n",
      "Epoch 5/10\n",
      "438/438 [==============================] - 399s 911ms/step - loss: 0.1320 - accuracy: 0.9672 - val_loss: 0.0328 - val_accuracy: 0.9944\n",
      "Epoch 6/10\n",
      "438/438 [==============================] - 440s 1s/step - loss: 0.1359 - accuracy: 0.9687 - val_loss: 0.0236 - val_accuracy: 0.9957\n",
      "Epoch 7/10\n",
      "438/438 [==============================] - 445s 1s/step - loss: 0.1258 - accuracy: 0.9706 - val_loss: 0.0257 - val_accuracy: 0.9949\n",
      "Epoch 8/10\n",
      "438/438 [==============================] - 444s 1s/step - loss: 0.1314 - accuracy: 0.9698 - val_loss: 0.0434 - val_accuracy: 0.9936\n",
      "Epoch 9/10\n",
      "438/438 [==============================] - 446s 1s/step - loss: 0.1312 - accuracy: 0.9714 - val_loss: 0.0293 - val_accuracy: 0.9941\n",
      "Epoch 10/10\n",
      "438/438 [==============================] - 443s 1s/step - loss: 0.1375 - accuracy: 0.9706 - val_loss: 0.0285 - val_accuracy: 0.9936\n",
      "Duration: 1:12:00.325298\n"
     ]
    }
   ],
   "source": [
    "print(n)\n",
    "\n",
    "models_random[n].fit_model(image_sets_random[n],label_sets_random[n],x_val,y_val)\n",
    "n = n+1"
   ]
  },
  {
   "cell_type": "code",
   "execution_count": 67,
   "id": "be924fe3",
   "metadata": {},
   "outputs": [
    {
     "name": "stdout",
     "output_type": "stream",
     "text": [
      "16\n",
      "Epoch 1/10\n",
      "465/465 [==============================] - 475s 1s/step - loss: 0.1864 - accuracy: 0.9553 - val_loss: 0.0286 - val_accuracy: 0.9944\n",
      "Epoch 2/10\n",
      "465/465 [==============================] - 474s 1s/step - loss: 0.1385 - accuracy: 0.9643 - val_loss: 0.0307 - val_accuracy: 0.9931\n",
      "Epoch 3/10\n",
      "465/465 [==============================] - 472s 1s/step - loss: 0.1372 - accuracy: 0.9660 - val_loss: 0.0368 - val_accuracy: 0.9911\n",
      "Epoch 4/10\n",
      "465/465 [==============================] - 473s 1s/step - loss: 0.1323 - accuracy: 0.9688 - val_loss: 0.0421 - val_accuracy: 0.9918\n",
      "Epoch 5/10\n",
      "465/465 [==============================] - 473s 1s/step - loss: 0.1282 - accuracy: 0.9688 - val_loss: 0.0640 - val_accuracy: 0.9885\n",
      "Epoch 6/10\n",
      "465/465 [==============================] - 476s 1s/step - loss: 0.1359 - accuracy: 0.9684 - val_loss: 0.0232 - val_accuracy: 0.9952\n",
      "Epoch 7/10\n",
      "465/465 [==============================] - 474s 1s/step - loss: 0.1260 - accuracy: 0.9704 - val_loss: 0.0228 - val_accuracy: 0.9952\n",
      "Epoch 8/10\n",
      "465/465 [==============================] - 466s 1s/step - loss: 0.1395 - accuracy: 0.9695 - val_loss: 0.0422 - val_accuracy: 0.9939\n",
      "Epoch 9/10\n",
      "465/465 [==============================] - 424s 912ms/step - loss: 0.1383 - accuracy: 0.9696 - val_loss: 0.0376 - val_accuracy: 0.9898\n",
      "Epoch 10/10\n",
      "465/465 [==============================] - 425s 914ms/step - loss: 0.1375 - accuracy: 0.9688 - val_loss: 0.0350 - val_accuracy: 0.9934\n",
      "Duration: 1:17:13.051630\n"
     ]
    }
   ],
   "source": [
    "n=16\n",
    "print(n)\n",
    "\n",
    "models_random[n].fit_model(image_sets_random[n],label_sets_random[n],x_val,y_val)\n",
    "n = n+1"
   ]
  },
  {
   "cell_type": "code",
   "execution_count": 68,
   "id": "f4b40a6c",
   "metadata": {},
   "outputs": [
    {
     "name": "stdout",
     "output_type": "stream",
     "text": [
      "17\n",
      "Epoch 1/10\n",
      "493/493 [==============================] - 458s 924ms/step - loss: 0.1853 - accuracy: 0.9567 - val_loss: 0.0580 - val_accuracy: 0.9844\n",
      "Epoch 2/10\n",
      "493/493 [==============================] - 497s 1s/step - loss: 0.1412 - accuracy: 0.9641 - val_loss: 0.0196 - val_accuracy: 0.9962\n",
      "Epoch 3/10\n",
      "493/493 [==============================] - 506s 1s/step - loss: 0.1301 - accuracy: 0.9665 - val_loss: 0.0297 - val_accuracy: 0.9939\n",
      "Epoch 4/10\n",
      "493/493 [==============================] - 508s 1s/step - loss: 0.1319 - accuracy: 0.9691 - val_loss: 0.0255 - val_accuracy: 0.9952\n",
      "Epoch 5/10\n",
      "493/493 [==============================] - 505s 1s/step - loss: 0.1365 - accuracy: 0.9678 - val_loss: 0.0516 - val_accuracy: 0.9885\n",
      "Epoch 6/10\n",
      "493/493 [==============================] - 506s 1s/step - loss: 0.1253 - accuracy: 0.9707 - val_loss: 0.0253 - val_accuracy: 0.9949\n",
      "Epoch 7/10\n",
      "493/493 [==============================] - 506s 1s/step - loss: 0.1291 - accuracy: 0.9695 - val_loss: 0.0400 - val_accuracy: 0.9929\n",
      "Epoch 8/10\n",
      "493/493 [==============================] - 506s 1s/step - loss: 0.1287 - accuracy: 0.9699 - val_loss: 0.0576 - val_accuracy: 0.9898\n",
      "Epoch 9/10\n",
      "493/493 [==============================] - 505s 1s/step - loss: 0.1449 - accuracy: 0.9691 - val_loss: 0.0569 - val_accuracy: 0.9911\n",
      "Epoch 10/10\n",
      "493/493 [==============================] - 504s 1s/step - loss: 0.1350 - accuracy: 0.9696 - val_loss: 0.0856 - val_accuracy: 0.9908\n",
      "Duration: 1:23:20.404623\n"
     ]
    }
   ],
   "source": [
    "print(n)\n",
    "\n",
    "models_random[n].fit_model(image_sets_random[n],label_sets_random[n],x_val,y_val)\n",
    "n = n+1"
   ]
  },
  {
   "cell_type": "code",
   "execution_count": 69,
   "id": "d6ee7926",
   "metadata": {},
   "outputs": [
    {
     "name": "stdout",
     "output_type": "stream",
     "text": [
      "18\n",
      "Epoch 1/10\n",
      "520/520 [==============================] - 543s 1s/step - loss: 0.1924 - accuracy: 0.9548 - val_loss: 0.0288 - val_accuracy: 0.9929\n",
      "Epoch 2/10\n",
      "520/520 [==============================] - 541s 1s/step - loss: 0.1343 - accuracy: 0.9660 - val_loss: 0.0205 - val_accuracy: 0.9962\n",
      "Epoch 3/10\n",
      "520/520 [==============================] - 540s 1s/step - loss: 0.1303 - accuracy: 0.9670 - val_loss: 0.0226 - val_accuracy: 0.9952\n",
      "Epoch 4/10\n",
      "520/520 [==============================] - 541s 1s/step - loss: 0.1280 - accuracy: 0.9673 - val_loss: 0.0334 - val_accuracy: 0.9941\n",
      "Epoch 5/10\n",
      "520/520 [==============================] - 540s 1s/step - loss: 0.1246 - accuracy: 0.9690 - val_loss: 0.0488 - val_accuracy: 0.9893\n",
      "Epoch 6/10\n",
      "520/520 [==============================] - 537s 1s/step - loss: 0.1237 - accuracy: 0.9709 - val_loss: 0.0263 - val_accuracy: 0.9941\n",
      "Epoch 7/10\n",
      "520/520 [==============================] - 488s 939ms/step - loss: 0.1353 - accuracy: 0.9696 - val_loss: 0.0200 - val_accuracy: 0.9941\n",
      "Epoch 8/10\n",
      "520/520 [==============================] - 488s 938ms/step - loss: 0.1413 - accuracy: 0.9703 - val_loss: 0.0320 - val_accuracy: 0.9946\n",
      "Epoch 9/10\n",
      "520/520 [==============================] - 487s 937ms/step - loss: 0.1487 - accuracy: 0.9685 - val_loss: 0.0276 - val_accuracy: 0.9946\n",
      "Epoch 10/10\n",
      "520/520 [==============================] - 539s 1s/step - loss: 0.1468 - accuracy: 0.9689 - val_loss: 0.0952 - val_accuracy: 0.9798\n",
      "Duration: 1:27:23.570708\n"
     ]
    }
   ],
   "source": [
    "n=18\n",
    "print(n)\n",
    "\n",
    "models_random[n].fit_model(image_sets_random[n],label_sets_random[n],x_val,y_val)\n",
    "n = n+1"
   ]
  },
  {
   "cell_type": "code",
   "execution_count": 70,
   "id": "e6497c26",
   "metadata": {},
   "outputs": [
    {
     "name": "stdout",
     "output_type": "stream",
     "text": [
      "19\n",
      "Epoch 1/10\n",
      "547/547 [==============================] - 559s 1s/step - loss: 0.1834 - accuracy: 0.9562 - val_loss: 0.0299 - val_accuracy: 0.9934\n",
      "Epoch 2/10\n",
      "547/547 [==============================] - 563s 1s/step - loss: 0.1409 - accuracy: 0.9644 - val_loss: 0.0221 - val_accuracy: 0.9946\n",
      "Epoch 3/10\n",
      "547/547 [==============================] - 563s 1s/step - loss: 0.1273 - accuracy: 0.9672 - val_loss: 0.0478 - val_accuracy: 0.9936\n",
      "Epoch 4/10\n",
      "547/547 [==============================] - 563s 1s/step - loss: 0.1274 - accuracy: 0.9693 - val_loss: 0.0305 - val_accuracy: 0.9949\n",
      "Epoch 5/10\n",
      "547/547 [==============================] - 552s 1s/step - loss: 0.1329 - accuracy: 0.9713 - val_loss: 0.0355 - val_accuracy: 0.9923\n",
      "Epoch 6/10\n",
      "547/547 [==============================] - 505s 923ms/step - loss: 0.1357 - accuracy: 0.9683 - val_loss: 0.0290 - val_accuracy: 0.9931\n",
      "Epoch 7/10\n",
      "547/547 [==============================] - 504s 922ms/step - loss: 0.1444 - accuracy: 0.9671 - val_loss: 0.0345 - val_accuracy: 0.9957\n",
      "Epoch 8/10\n",
      "547/547 [==============================] - 518s 947ms/step - loss: 0.1541 - accuracy: 0.9674 - val_loss: 0.0376 - val_accuracy: 0.9931\n",
      "Epoch 9/10\n",
      "547/547 [==============================] - 560s 1s/step - loss: 0.1620 - accuracy: 0.9670 - val_loss: 0.0300 - val_accuracy: 0.9929\n",
      "Epoch 10/10\n",
      "547/547 [==============================] - 559s 1s/step - loss: 0.1493 - accuracy: 0.9682 - val_loss: 0.0252 - val_accuracy: 0.9934\n",
      "Duration: 1:30:46.291661\n"
     ]
    }
   ],
   "source": [
    "n=19\n",
    "print(n)#19\n",
    "\n",
    "models_random[n].fit_model(image_sets_random[n],label_sets_random[n],x_val,y_val)\n",
    "n = n+1"
   ]
  },
  {
   "cell_type": "code",
   "execution_count": 71,
   "id": "1d57eade",
   "metadata": {},
   "outputs": [
    {
     "name": "stdout",
     "output_type": "stream",
     "text": [
      "20\n",
      "Epoch 1/10\n",
      "552/552 [==============================] - 569s 1s/step - loss: 0.2015 - accuracy: 0.9549 - val_loss: 0.0425 - val_accuracy: 0.9911\n",
      "Epoch 2/10\n",
      "552/552 [==============================] - 571s 1s/step - loss: 0.1350 - accuracy: 0.9655 - val_loss: 0.0230 - val_accuracy: 0.9941\n",
      "Epoch 3/10\n",
      "552/552 [==============================] - 573s 1s/step - loss: 0.1430 - accuracy: 0.9661 - val_loss: 0.0202 - val_accuracy: 0.9946\n",
      "Epoch 4/10\n",
      "552/552 [==============================] - 571s 1s/step - loss: 0.1333 - accuracy: 0.9682 - val_loss: 0.0241 - val_accuracy: 0.9946\n",
      "Epoch 5/10\n",
      "552/552 [==============================] - 569s 1s/step - loss: 0.1241 - accuracy: 0.9706 - val_loss: 0.0230 - val_accuracy: 0.9918\n",
      "Epoch 6/10\n",
      "552/552 [==============================] - 569s 1s/step - loss: 0.1309 - accuracy: 0.9685 - val_loss: 0.0293 - val_accuracy: 0.9949\n",
      "Epoch 7/10\n",
      "552/552 [==============================] - 538s 975ms/step - loss: 0.1248 - accuracy: 0.9706 - val_loss: 0.0322 - val_accuracy: 0.9946\n",
      "Epoch 8/10\n",
      "552/552 [==============================] - 501s 909ms/step - loss: 0.1362 - accuracy: 0.9704 - val_loss: 0.0593 - val_accuracy: 0.9921\n",
      "Epoch 9/10\n",
      "552/552 [==============================] - 496s 898ms/step - loss: 0.1504 - accuracy: 0.9676 - val_loss: 0.0218 - val_accuracy: 0.9964\n",
      "Epoch 10/10\n",
      "552/552 [==============================] - 517s 937ms/step - loss: 0.1381 - accuracy: 0.9694 - val_loss: 0.0254 - val_accuracy: 0.9936\n",
      "Duration: 1:31:15.308306\n"
     ]
    }
   ],
   "source": [
    "\n",
    "print(n)\n",
    "\n",
    "models_random[n].fit_model(image_sets_random[n],label_sets_random[n],x_val,y_val)\n",
    "n = n+1"
   ]
  },
  {
   "cell_type": "code",
   "execution_count": 72,
   "id": "721d09f6",
   "metadata": {},
   "outputs": [
    {
     "name": "stdout",
     "output_type": "stream",
     "text": [
      "INFO:tensorflow:Assets written to: D:/models/aug_22/gtsrb/C2/gtsrb_model_c2_aug_random_e1_0\\assets\n",
      "Model has been saved\n",
      "INFO:tensorflow:Assets written to: D:/models/aug_22/gtsrb/C2/gtsrb_model_c2_aug_random_e1_1\\assets\n",
      "Model has been saved\n",
      "INFO:tensorflow:Assets written to: D:/models/aug_22/gtsrb/C2/gtsrb_model_c2_aug_random_e1_2\\assets\n",
      "Model has been saved\n",
      "INFO:tensorflow:Assets written to: D:/models/aug_22/gtsrb/C2/gtsrb_model_c2_aug_random_e1_3\\assets\n",
      "Model has been saved\n",
      "INFO:tensorflow:Assets written to: D:/models/aug_22/gtsrb/C2/gtsrb_model_c2_aug_random_e1_4\\assets\n",
      "Model has been saved\n",
      "INFO:tensorflow:Assets written to: D:/models/aug_22/gtsrb/C2/gtsrb_model_c2_aug_random_e1_5\\assets\n",
      "Model has been saved\n",
      "INFO:tensorflow:Assets written to: D:/models/aug_22/gtsrb/C2/gtsrb_model_c2_aug_random_e1_6\\assets\n",
      "Model has been saved\n",
      "INFO:tensorflow:Assets written to: D:/models/aug_22/gtsrb/C2/gtsrb_model_c2_aug_random_e1_7\\assets\n",
      "Model has been saved\n",
      "INFO:tensorflow:Assets written to: D:/models/aug_22/gtsrb/C2/gtsrb_model_c2_aug_random_e1_8\\assets\n",
      "Model has been saved\n",
      "INFO:tensorflow:Assets written to: D:/models/aug_22/gtsrb/C2/gtsrb_model_c2_aug_random_e1_9\\assets\n",
      "Model has been saved\n",
      "INFO:tensorflow:Assets written to: D:/models/aug_22/gtsrb/C2/gtsrb_model_c2_aug_random_e1_10\\assets\n",
      "Model has been saved\n",
      "INFO:tensorflow:Assets written to: D:/models/aug_22/gtsrb/C2/gtsrb_model_c2_aug_random_e1_11\\assets\n",
      "Model has been saved\n",
      "INFO:tensorflow:Assets written to: D:/models/aug_22/gtsrb/C2/gtsrb_model_c2_aug_random_e1_12\\assets\n",
      "Model has been saved\n",
      "INFO:tensorflow:Assets written to: D:/models/aug_22/gtsrb/C2/gtsrb_model_c2_aug_random_e1_13\\assets\n",
      "Model has been saved\n",
      "INFO:tensorflow:Assets written to: D:/models/aug_22/gtsrb/C2/gtsrb_model_c2_aug_random_e1_14\\assets\n",
      "Model has been saved\n",
      "INFO:tensorflow:Assets written to: D:/models/aug_22/gtsrb/C2/gtsrb_model_c2_aug_random_e1_15\\assets\n",
      "Model has been saved\n",
      "INFO:tensorflow:Assets written to: D:/models/aug_22/gtsrb/C2/gtsrb_model_c2_aug_random_e1_16\\assets\n",
      "Model has been saved\n",
      "INFO:tensorflow:Assets written to: D:/models/aug_22/gtsrb/C2/gtsrb_model_c2_aug_random_e1_17\\assets\n",
      "Model has been saved\n",
      "INFO:tensorflow:Assets written to: D:/models/aug_22/gtsrb/C2/gtsrb_model_c2_aug_random_e1_18\\assets\n",
      "Model has been saved\n",
      "INFO:tensorflow:Assets written to: D:/models/aug_22/gtsrb/C2/gtsrb_model_c2_aug_random_e1_19\\assets\n",
      "Model has been saved\n",
      "INFO:tensorflow:Assets written to: D:/models/aug_22/gtsrb/C2/gtsrb_model_c2_aug_random_e1_20\\assets\n",
      "Model has been saved\n"
     ]
    }
   ],
   "source": [
    "new_model_random_dir  = \"D:/models/aug_22/gtsrb/C2/gtsrb_model_c2_aug_random_e1\"\n",
    "\n",
    "i=0\n",
    "\n",
    "for model in models_random:\n",
    "    model.save(new_model_random_dir+\"_\"+str(i))\n",
    "    i+=1"
   ]
  },
  {
   "cell_type": "code",
   "execution_count": null,
   "id": "4d243087",
   "metadata": {},
   "outputs": [],
   "source": [
    "loading = False\n",
    "\n",
    "models_random = []\n",
    "\n",
    "if loading:\n",
    "    for i in range(20):\n",
    "        model_random_dir = \"D:/models/aug_22/gtsrb/C1/gtsrb_model_c1_aug_random_e1_\"+str(i)\n",
    "        print(model_random_dir)\n",
    "        model =utils.My_model('gtsrb',True,model_random_dir)\n",
    "        model.model.compile(loss= 'categorical_crossentropy', optimizer = 'rmsprop', metrics = ['accuracy',tf.keras.metrics.Precision(), tf.keras.metrics.Recall()])\n",
    "        models_random.append(model)\n",
    "       "
   ]
  },
  {
   "cell_type": "code",
   "execution_count": 73,
   "id": "c33d4ae4",
   "metadata": {},
   "outputs": [
    {
     "name": "stdout",
     "output_type": "stream",
     "text": [
      "Error\n"
     ]
    }
   ],
   "source": [
    "try:\n",
    "    del random_values\n",
    "    del top_images_by_random\n",
    "    del top_labels_by_random\n",
    "    del image_sets_random\n",
    "    del label_sets_random\n",
    "    del models_random\n",
    "except:\n",
    "    print(\"Error\")"
   ]
  },
  {
   "cell_type": "code",
   "execution_count": null,
   "id": "62489ace",
   "metadata": {},
   "outputs": [],
   "source": []
  },
  {
   "cell_type": "code",
   "execution_count": 74,
   "id": "4302c95c",
   "metadata": {},
   "outputs": [
    {
     "data": {
      "text/plain": [
       "72486"
      ]
     },
     "execution_count": 74,
     "metadata": {},
     "output_type": "execute_result"
    }
   ],
   "source": [
    "gc.collect()"
   ]
  },
  {
   "cell_type": "markdown",
   "id": "58a54b05",
   "metadata": {},
   "source": [
    "## Training guided by NC"
   ]
  },
  {
   "cell_type": "code",
   "execution_count": 16,
   "id": "e53f2bcb",
   "metadata": {},
   "outputs": [],
   "source": [
    "# NC\n",
    "nc_values = []\n",
    "for i in range(1,13):\n",
    "    #save_dir = \"C:/Users/fjdur/Desktop/upc/project_notebooks/github_project/DL_notebooks/NC_values/nc_values_\"+str(i)+\".npy\"\n",
    "    save_dir = \"C:/Users/fjdur/Documents/upc-july/data/\"+dataset+\"/gtsrb_nc_values_\"+str(i)+\".npy\"\n",
    "\n",
    "    #print(save_dir_rand)\n",
    "    tmp_values = np.load(save_dir)\n",
    "    #print(tmp_values.shape)\n",
    "    nc_values = np.append(nc_values,tmp_values)"
   ]
  },
  {
   "cell_type": "code",
   "execution_count": null,
   "id": "7fbf7788",
   "metadata": {},
   "outputs": [],
   "source": []
  },
  {
   "cell_type": "code",
   "execution_count": 17,
   "id": "637de522",
   "metadata": {},
   "outputs": [
    {
     "data": {
      "text/plain": [
       "(35287,)"
      ]
     },
     "execution_count": 17,
     "metadata": {},
     "output_type": "execute_result"
    }
   ],
   "source": [
    "nc_values.shape"
   ]
  },
  {
   "cell_type": "code",
   "execution_count": 18,
   "id": "024f3314",
   "metadata": {},
   "outputs": [],
   "source": [
    "\n",
    "top_images_by_nc = utils.get_x_of_indexes(list(np.flip(np.argsort(nc_values))),x_train_and_adversary)\n",
    "top_labels_by_nc = utils.get_x_of_indexes(list(np.flip(np.argsort(nc_values))),y_train_and_adversary)\n"
   ]
  },
  {
   "cell_type": "code",
   "execution_count": 19,
   "id": "7490c255",
   "metadata": {},
   "outputs": [
    {
     "name": "stdout",
     "output_type": "stream",
     "text": [
      "0 :\n",
      "0  ->  1750\n",
      "1750\n",
      "1 :\n",
      "0  ->  3500\n",
      "3500\n",
      "2 :\n",
      "0  ->  5250\n",
      "5250\n",
      "3 :\n",
      "0  ->  7000\n",
      "7000\n",
      "4 :\n",
      "0  ->  8750\n",
      "8750\n",
      "5 :\n",
      "0  ->  10500\n",
      "10500\n",
      "6 :\n",
      "0  ->  12250\n",
      "12250\n",
      "7 :\n",
      "0  ->  14000\n",
      "14000\n",
      "8 :\n",
      "0  ->  15750\n",
      "15750\n",
      "9 :\n",
      "0  ->  17500\n",
      "17500\n",
      "10 :\n",
      "0  ->  19250\n",
      "19250\n",
      "11 :\n",
      "0  ->  21000\n",
      "21000\n",
      "12 :\n",
      "0  ->  22750\n",
      "22750\n",
      "13 :\n",
      "0  ->  24500\n",
      "24500\n",
      "14 :\n",
      "0  ->  26250\n",
      "26250\n",
      "15 :\n",
      "0  ->  28000\n",
      "28000\n",
      "16 :\n",
      "0  ->  29750\n",
      "29750\n",
      "17 :\n",
      "0  ->  31500\n",
      "31500\n",
      "18 :\n",
      "0  ->  33250\n",
      "33250\n",
      "19 :\n",
      "0  ->  35000\n",
      "35000\n",
      "20 :\n",
      "Last\n",
      "0  ->  37037\n",
      "35287\n"
     ]
    }
   ],
   "source": [
    "m = n_data_points\n",
    "n = 0\n",
    "image_sets_nc = []\n",
    "label_sets_nc = []\n",
    "\n",
    "\n",
    "for i in range((len(top_images_by_nc)//m)+1):\n",
    "    print(i,\":\")\n",
    "    if (i+1 >= ((len(top_images_by_nc)//m)+1)):\n",
    "        print(\"Last\")\n",
    "        print(0,\" -> \",n+m+(len(top_images_by_nc)%m))\n",
    "        top_images_by_nc_n = np.array(top_images_by_nc[:n+m+(len(top_images_by_nc)%m)])\n",
    "        top_labels_by_nc_n = np.array(top_labels_by_nc[:n+m+(len(top_images_by_nc)%m)])\n",
    "    else:\n",
    "        print(0,\" -> \",m+n)\n",
    "        top_images_by_nc_n = np.array(top_images_by_nc[:n+m])\n",
    "        top_labels_by_nc_n = np.array(top_labels_by_nc[:n+m])\n",
    "    image_sets_nc.append(top_images_by_nc_n)\n",
    "    label_sets_nc.append(top_labels_by_nc_n)\n",
    "    print(len(top_images_by_nc_n))\n",
    "    n += m\n",
    "\n",
    "\n"
   ]
  },
  {
   "cell_type": "code",
   "execution_count": 20,
   "id": "0a65e301",
   "metadata": {},
   "outputs": [
    {
     "name": "stdout",
     "output_type": "stream",
     "text": [
      "C:/Users/fjdur/Documents/upc-july/models/tf_model_25-06/\n",
      "0 :\n",
      "Model loaded correctly\n",
      "Model compiled\n",
      "1 :\n",
      "Model loaded correctly\n",
      "Model compiled\n",
      "2 :\n",
      "Model loaded correctly\n",
      "Model compiled\n",
      "3 :\n",
      "Model loaded correctly\n",
      "Model compiled\n",
      "4 :\n",
      "Model loaded correctly\n",
      "Model compiled\n",
      "5 :\n",
      "Model loaded correctly\n",
      "Model compiled\n",
      "6 :\n",
      "Model loaded correctly\n",
      "Model compiled\n",
      "7 :\n",
      "Model loaded correctly\n",
      "Model compiled\n",
      "8 :\n",
      "Model loaded correctly\n",
      "Model compiled\n",
      "9 :\n",
      "Model loaded correctly\n",
      "Model compiled\n",
      "10 :\n",
      "Model loaded correctly\n",
      "Model compiled\n",
      "11 :\n",
      "Model loaded correctly\n",
      "Model compiled\n",
      "12 :\n",
      "Model loaded correctly\n",
      "Model compiled\n",
      "13 :\n",
      "Model loaded correctly\n",
      "Model compiled\n",
      "14 :\n",
      "Model loaded correctly\n",
      "Model compiled\n",
      "15 :\n",
      "Model loaded correctly\n",
      "Model compiled\n",
      "16 :\n",
      "Model loaded correctly\n",
      "Model compiled\n",
      "17 :\n",
      "Model loaded correctly\n",
      "Model compiled\n",
      "18 :\n",
      "Model loaded correctly\n",
      "Model compiled\n",
      "19 :\n",
      "Model loaded correctly\n",
      "Model compiled\n",
      "20 :\n",
      "Model loaded correctly\n",
      "Model compiled\n"
     ]
    }
   ],
   "source": [
    "print(model_dir)\n",
    "\n",
    "models_nc = []\n",
    "for i in range(len(label_sets_nc)):\n",
    "    print(i,\":\")\n",
    "    model = utils.My_model(dataset,True,model_dir)\n",
    "    model.compile_model()\n",
    "    models_nc.append(model)\n"
   ]
  },
  {
   "cell_type": "code",
   "execution_count": 21,
   "id": "df0b6c8f",
   "metadata": {},
   "outputs": [
    {
     "name": "stdout",
     "output_type": "stream",
     "text": [
      "0\n",
      "Epoch 1/10\n",
      "28/28 [==============================] - 33s 584ms/step - loss: 0.1168 - accuracy: 0.9818 - val_loss: 0.1387 - val_accuracy: 0.9671\n",
      "Epoch 2/10\n",
      "28/28 [==============================] - 16s 565ms/step - loss: 0.0337 - accuracy: 0.9918 - val_loss: 0.7072 - val_accuracy: 0.8686\n",
      "Epoch 3/10\n",
      "28/28 [==============================] - 16s 573ms/step - loss: 0.0272 - accuracy: 0.9922 - val_loss: 0.6684 - val_accuracy: 0.8798\n",
      "Epoch 4/10\n",
      "28/28 [==============================] - 16s 569ms/step - loss: 0.0114 - accuracy: 0.9976 - val_loss: 1.5312 - val_accuracy: 0.8701\n",
      "Epoch 5/10\n",
      "28/28 [==============================] - 16s 571ms/step - loss: 0.0217 - accuracy: 0.9944 - val_loss: 1.2311 - val_accuracy: 0.8569\n",
      "Epoch 6/10\n",
      "28/28 [==============================] - 16s 587ms/step - loss: 0.0186 - accuracy: 0.9933 - val_loss: 1.5154 - val_accuracy: 0.8847\n",
      "Epoch 7/10\n",
      "28/28 [==============================] - 16s 578ms/step - loss: 0.0116 - accuracy: 0.9973 - val_loss: 1.1641 - val_accuracy: 0.8974\n",
      "Epoch 8/10\n",
      "28/28 [==============================] - 16s 580ms/step - loss: 0.0137 - accuracy: 0.9974 - val_loss: 1.7124 - val_accuracy: 0.8216\n",
      "Epoch 9/10\n",
      "28/28 [==============================] - 16s 585ms/step - loss: 0.0130 - accuracy: 0.9975 - val_loss: 1.2534 - val_accuracy: 0.8956\n",
      "Epoch 10/10\n",
      "28/28 [==============================] - 16s 596ms/step - loss: 0.0148 - accuracy: 0.9966 - val_loss: 1.0436 - val_accuracy: 0.8520\n",
      "Duration: 0:02:58.294356\n"
     ]
    }
   ],
   "source": [
    "n=0\n",
    "print(n)\n",
    "\n",
    "models_nc[n].fit_model(image_sets_nc[n],label_sets_nc[n],x_val,y_val)\n",
    "n = n+1"
   ]
  },
  {
   "cell_type": "code",
   "execution_count": 22,
   "id": "0f4f3f4b",
   "metadata": {},
   "outputs": [
    {
     "name": "stdout",
     "output_type": "stream",
     "text": [
      "1\n",
      "Epoch 1/10\n",
      "55/55 [==============================] - 30s 506ms/step - loss: 0.1594 - accuracy: 0.9884 - val_loss: 0.1494 - val_accuracy: 0.9594\n",
      "Epoch 2/10\n",
      "55/55 [==============================] - 28s 503ms/step - loss: 0.0238 - accuracy: 0.9951 - val_loss: 0.1331 - val_accuracy: 0.9668\n",
      "Epoch 3/10\n",
      "55/55 [==============================] - 30s 539ms/step - loss: 0.0334 - accuracy: 0.9927 - val_loss: 0.2034 - val_accuracy: 0.9456\n",
      "Epoch 4/10\n",
      "55/55 [==============================] - 30s 554ms/step - loss: 0.0099 - accuracy: 0.9974 - val_loss: 0.7390 - val_accuracy: 0.7908\n",
      "Epoch 5/10\n",
      "55/55 [==============================] - 29s 524ms/step - loss: 0.0301 - accuracy: 0.9928 - val_loss: 2.2895 - val_accuracy: 0.6680\n",
      "Epoch 6/10\n",
      "55/55 [==============================] - 28s 509ms/step - loss: 0.0247 - accuracy: 0.9953 - val_loss: 1.6315 - val_accuracy: 0.6591\n",
      "Epoch 7/10\n",
      "55/55 [==============================] - 28s 509ms/step - loss: 0.0196 - accuracy: 0.9949 - val_loss: 2.0996 - val_accuracy: 0.7058\n",
      "Epoch 8/10\n",
      "55/55 [==============================] - 28s 509ms/step - loss: 0.0082 - accuracy: 0.9978 - val_loss: 3.3987 - val_accuracy: 0.6826\n",
      "Epoch 9/10\n",
      "55/55 [==============================] - 28s 511ms/step - loss: 0.0325 - accuracy: 0.9936 - val_loss: 4.0910 - val_accuracy: 0.6573\n",
      "Epoch 10/10\n",
      "55/55 [==============================] - 28s 513ms/step - loss: 0.0426 - accuracy: 0.9953 - val_loss: 4.4864 - val_accuracy: 0.6313\n",
      "Duration: 0:04:45.674647\n"
     ]
    }
   ],
   "source": [
    "\n",
    "print(n)\n",
    "\n",
    "models_nc[n].fit_model(image_sets_nc[n],label_sets_nc[n],x_val,y_val)\n",
    "n = n+1"
   ]
  },
  {
   "cell_type": "code",
   "execution_count": 23,
   "id": "c055f71b",
   "metadata": {},
   "outputs": [
    {
     "name": "stdout",
     "output_type": "stream",
     "text": [
      "2\n",
      "Epoch 1/10\n",
      "83/83 [==============================] - 41s 477ms/step - loss: 0.1362 - accuracy: 0.9761 - val_loss: 0.2078 - val_accuracy: 0.9398\n",
      "Epoch 2/10\n",
      "83/83 [==============================] - 39s 476ms/step - loss: 0.0682 - accuracy: 0.9803 - val_loss: 0.1356 - val_accuracy: 0.9701\n",
      "Epoch 3/10\n",
      "83/83 [==============================] - 40s 479ms/step - loss: 0.0431 - accuracy: 0.9882 - val_loss: 0.9537 - val_accuracy: 0.8811\n",
      "Epoch 4/10\n",
      "83/83 [==============================] - 39s 472ms/step - loss: 0.0625 - accuracy: 0.9849 - val_loss: 0.4695 - val_accuracy: 0.9148\n",
      "Epoch 5/10\n",
      "83/83 [==============================] - 40s 478ms/step - loss: 0.0483 - accuracy: 0.9879 - val_loss: 1.7273 - val_accuracy: 0.8094\n",
      "Epoch 6/10\n",
      "83/83 [==============================] - 39s 471ms/step - loss: 0.0525 - accuracy: 0.9887 - val_loss: 1.7611 - val_accuracy: 0.7811\n",
      "Epoch 7/10\n",
      "83/83 [==============================] - 39s 471ms/step - loss: 0.0671 - accuracy: 0.9903 - val_loss: 2.1364 - val_accuracy: 0.7535\n",
      "Epoch 8/10\n",
      "83/83 [==============================] - 39s 474ms/step - loss: 0.0523 - accuracy: 0.9888 - val_loss: 11.4404 - val_accuracy: 0.5879\n",
      "Epoch 9/10\n",
      "83/83 [==============================] - 39s 473ms/step - loss: 0.0460 - accuracy: 0.9894 - val_loss: 6.9926 - val_accuracy: 0.6014\n",
      "Epoch 10/10\n",
      "83/83 [==============================] - 39s 473ms/step - loss: 0.0718 - accuracy: 0.9892 - val_loss: 7.8036 - val_accuracy: 0.5547\n",
      "Duration: 0:06:34.934965\n"
     ]
    }
   ],
   "source": [
    "\n",
    "print(n)\n",
    "\n",
    "models_nc[n].fit_model(image_sets_nc[n],label_sets_nc[n],x_val,y_val)\n",
    "n = n+1"
   ]
  },
  {
   "cell_type": "code",
   "execution_count": 24,
   "id": "5186f306",
   "metadata": {},
   "outputs": [
    {
     "name": "stdout",
     "output_type": "stream",
     "text": [
      "3\n",
      "Epoch 1/10\n",
      "110/110 [==============================] - 53s 463ms/step - loss: 0.1455 - accuracy: 0.9765 - val_loss: 0.0509 - val_accuracy: 0.9880\n",
      "Epoch 2/10\n",
      "110/110 [==============================] - 50s 458ms/step - loss: 0.0778 - accuracy: 0.9808 - val_loss: 0.1755 - val_accuracy: 0.9742\n",
      "Epoch 3/10\n",
      "110/110 [==============================] - 51s 460ms/step - loss: 0.0730 - accuracy: 0.9813 - val_loss: 0.2070 - val_accuracy: 0.9627\n",
      "Epoch 4/10\n",
      "110/110 [==============================] - 51s 459ms/step - loss: 0.0585 - accuracy: 0.9822 - val_loss: 0.2774 - val_accuracy: 0.9444\n",
      "Epoch 5/10\n",
      "110/110 [==============================] - 51s 464ms/step - loss: 0.0533 - accuracy: 0.9848 - val_loss: 0.9754 - val_accuracy: 0.8303\n",
      "Epoch 6/10\n",
      "110/110 [==============================] - 50s 459ms/step - loss: 0.0482 - accuracy: 0.9873 - val_loss: 1.3860 - val_accuracy: 0.8188\n",
      "Epoch 7/10\n",
      "110/110 [==============================] - 50s 459ms/step - loss: 0.0509 - accuracy: 0.9878 - val_loss: 2.7548 - val_accuracy: 0.7234\n",
      "Epoch 8/10\n",
      "110/110 [==============================] - 50s 459ms/step - loss: 0.0495 - accuracy: 0.9880 - val_loss: 4.2966 - val_accuracy: 0.6884\n",
      "Epoch 9/10\n",
      "110/110 [==============================] - 50s 458ms/step - loss: 0.0524 - accuracy: 0.9876 - val_loss: 4.2546 - val_accuracy: 0.5986\n",
      "Epoch 10/10\n",
      "110/110 [==============================] - 50s 458ms/step - loss: 0.0534 - accuracy: 0.9866 - val_loss: 8.7762 - val_accuracy: 0.6224\n",
      "Duration: 0:08:27.230195\n"
     ]
    }
   ],
   "source": [
    "\n",
    "print(n)\n",
    "\n",
    "models_nc[n].fit_model(image_sets_nc[n],label_sets_nc[n],x_val,y_val)\n",
    "n = n+1"
   ]
  },
  {
   "cell_type": "code",
   "execution_count": 25,
   "id": "173fe6bf",
   "metadata": {},
   "outputs": [
    {
     "name": "stdout",
     "output_type": "stream",
     "text": [
      "4\n",
      "Epoch 1/10\n",
      "137/137 [==============================] - 64s 453ms/step - loss: 0.1903 - accuracy: 0.9717 - val_loss: 0.0693 - val_accuracy: 0.9862\n",
      "Epoch 2/10\n",
      "137/137 [==============================] - 61s 449ms/step - loss: 0.0903 - accuracy: 0.9809 - val_loss: 0.0846 - val_accuracy: 0.9798\n",
      "Epoch 3/10\n",
      "137/137 [==============================] - 65s 477ms/step - loss: 0.0829 - accuracy: 0.9809 - val_loss: 0.8605 - val_accuracy: 0.8566\n",
      "Epoch 4/10\n",
      "137/137 [==============================] - 68s 499ms/step - loss: 0.0668 - accuracy: 0.9832 - val_loss: 0.5265 - val_accuracy: 0.9023\n",
      "Epoch 5/10\n",
      "137/137 [==============================] - 69s 504ms/step - loss: 0.0653 - accuracy: 0.9835 - val_loss: 1.3465 - val_accuracy: 0.7821\n",
      "Epoch 6/10\n",
      "137/137 [==============================] - 67s 490ms/step - loss: 0.0733 - accuracy: 0.9832 - val_loss: 2.5920 - val_accuracy: 0.7071\n",
      "Epoch 7/10\n",
      "137/137 [==============================] - 67s 492ms/step - loss: 0.0650 - accuracy: 0.9840 - val_loss: 3.2775 - val_accuracy: 0.6693\n",
      "Epoch 8/10\n",
      "137/137 [==============================] - 67s 489ms/step - loss: 0.0674 - accuracy: 0.9883 - val_loss: 3.7073 - val_accuracy: 0.6509\n",
      "Epoch 9/10\n",
      "137/137 [==============================] - 67s 488ms/step - loss: 0.0638 - accuracy: 0.9875 - val_loss: 5.8650 - val_accuracy: 0.6318\n",
      "Epoch 10/10\n",
      "137/137 [==============================] - 67s 493ms/step - loss: 0.0648 - accuracy: 0.9821 - val_loss: 7.6916 - val_accuracy: 0.6088\n",
      "Duration: 0:11:03.661739\n"
     ]
    }
   ],
   "source": [
    "#4\n",
    "print(n)\n",
    "\n",
    "models_nc[n].fit_model(image_sets_nc[n],label_sets_nc[n],x_val,y_val)\n",
    "n = n+1"
   ]
  },
  {
   "cell_type": "code",
   "execution_count": 26,
   "id": "01a70471",
   "metadata": {},
   "outputs": [
    {
     "name": "stdout",
     "output_type": "stream",
     "text": [
      "5\n",
      "Epoch 1/10\n",
      "165/165 [==============================] - 82s 485ms/step - loss: 0.1405 - accuracy: 0.9747 - val_loss: 0.0586 - val_accuracy: 0.9872\n",
      "Epoch 2/10\n",
      "165/165 [==============================] - 80s 483ms/step - loss: 0.0777 - accuracy: 0.9811 - val_loss: 0.1047 - val_accuracy: 0.9724\n",
      "Epoch 3/10\n",
      "165/165 [==============================] - 79s 480ms/step - loss: 0.0690 - accuracy: 0.9829 - val_loss: 0.8015 - val_accuracy: 0.9010\n",
      "Epoch 4/10\n",
      "165/165 [==============================] - 79s 482ms/step - loss: 0.0825 - accuracy: 0.9810 - val_loss: 1.5185 - val_accuracy: 0.8357\n",
      "Epoch 5/10\n",
      "165/165 [==============================] - 79s 480ms/step - loss: 0.0667 - accuracy: 0.9852 - val_loss: 1.8744 - val_accuracy: 0.6923\n",
      "Epoch 6/10\n",
      "165/165 [==============================] - 79s 480ms/step - loss: 0.0773 - accuracy: 0.9842 - val_loss: 1.8461 - val_accuracy: 0.6522\n",
      "Epoch 7/10\n",
      "165/165 [==============================] - 79s 480ms/step - loss: 0.0753 - accuracy: 0.9837 - val_loss: 6.5990 - val_accuracy: 0.6624\n",
      "Epoch 8/10\n",
      "165/165 [==============================] - 79s 480ms/step - loss: 0.0744 - accuracy: 0.9833 - val_loss: 6.4118 - val_accuracy: 0.6491\n",
      "Epoch 9/10\n",
      "165/165 [==============================] - 79s 481ms/step - loss: 0.0572 - accuracy: 0.9884 - val_loss: 8.8380 - val_accuracy: 0.6354\n",
      "Epoch 10/10\n",
      "165/165 [==============================] - 79s 481ms/step - loss: 0.0789 - accuracy: 0.9830 - val_loss: 9.4774 - val_accuracy: 0.6433\n",
      "Duration: 0:13:15.939872\n"
     ]
    }
   ],
   "source": [
    "n=5\n",
    "print(n)\n",
    "\n",
    "models_nc[n].fit_model(image_sets_nc[n],label_sets_nc[n],x_val,y_val)\n",
    "n = n+1"
   ]
  },
  {
   "cell_type": "code",
   "execution_count": 27,
   "id": "4d0fce3f",
   "metadata": {},
   "outputs": [
    {
     "name": "stdout",
     "output_type": "stream",
     "text": [
      "6\n",
      "Epoch 1/10\n",
      "192/192 [==============================] - 95s 484ms/step - loss: 0.1197 - accuracy: 0.9751 - val_loss: 0.0858 - val_accuracy: 0.9788\n",
      "Epoch 2/10\n",
      "192/192 [==============================] - 92s 477ms/step - loss: 0.0690 - accuracy: 0.9827 - val_loss: 0.4155 - val_accuracy: 0.9265\n",
      "Epoch 3/10\n",
      "192/192 [==============================] - 92s 480ms/step - loss: 0.0651 - accuracy: 0.9855 - val_loss: 0.7991 - val_accuracy: 0.8783\n",
      "Epoch 4/10\n",
      "192/192 [==============================] - 91s 476ms/step - loss: 0.0735 - accuracy: 0.9831 - val_loss: 1.8181 - val_accuracy: 0.7854\n",
      "Epoch 5/10\n",
      "192/192 [==============================] - 92s 477ms/step - loss: 0.0679 - accuracy: 0.9842 - val_loss: 2.9304 - val_accuracy: 0.7395\n",
      "Epoch 6/10\n",
      "192/192 [==============================] - 92s 478ms/step - loss: 0.0596 - accuracy: 0.9863 - val_loss: 6.3739 - val_accuracy: 0.7022\n",
      "Epoch 7/10\n",
      "192/192 [==============================] - 91s 475ms/step - loss: 0.0809 - accuracy: 0.9845 - val_loss: 4.9242 - val_accuracy: 0.6890\n",
      "Epoch 8/10\n",
      "192/192 [==============================] - 92s 477ms/step - loss: 0.0669 - accuracy: 0.9854 - val_loss: 7.1824 - val_accuracy: 0.6836\n",
      "Epoch 9/10\n",
      "192/192 [==============================] - 92s 479ms/step - loss: 0.0496 - accuracy: 0.9874 - val_loss: 7.1532 - val_accuracy: 0.6724\n",
      "Epoch 10/10\n",
      "192/192 [==============================] - 91s 476ms/step - loss: 0.0654 - accuracy: 0.9853 - val_loss: 9.4484 - val_accuracy: 0.6782\n",
      "Duration: 0:15:19.549507\n"
     ]
    }
   ],
   "source": [
    "n=6\n",
    "print(n)\n",
    "\n",
    "models_nc[n].fit_model(image_sets_nc[n],label_sets_nc[n],x_val,y_val)\n",
    "n = n+1"
   ]
  },
  {
   "cell_type": "code",
   "execution_count": 28,
   "id": "a498b007",
   "metadata": {},
   "outputs": [
    {
     "name": "stdout",
     "output_type": "stream",
     "text": [
      "7\n",
      "Epoch 1/10\n",
      "219/219 [==============================] - 107s 478ms/step - loss: 0.1186 - accuracy: 0.9779 - val_loss: 0.1294 - val_accuracy: 0.9781\n",
      "Epoch 2/10\n",
      "219/219 [==============================] - 105s 482ms/step - loss: 0.0772 - accuracy: 0.9829 - val_loss: 0.4263 - val_accuracy: 0.9199\n",
      "Epoch 3/10\n",
      "219/219 [==============================] - 104s 476ms/step - loss: 0.0683 - accuracy: 0.9848 - val_loss: 1.1581 - val_accuracy: 0.8359\n",
      "Epoch 4/10\n",
      "219/219 [==============================] - 104s 473ms/step - loss: 0.0726 - accuracy: 0.9839 - val_loss: 2.5522 - val_accuracy: 0.7385\n",
      "Epoch 5/10\n",
      "219/219 [==============================] - 104s 473ms/step - loss: 0.0649 - accuracy: 0.9863 - val_loss: 4.6058 - val_accuracy: 0.6971\n",
      "Epoch 6/10\n",
      "219/219 [==============================] - 104s 473ms/step - loss: 0.0620 - accuracy: 0.9861 - val_loss: 3.8872 - val_accuracy: 0.6762\n",
      "Epoch 7/10\n",
      "219/219 [==============================] - 103s 471ms/step - loss: 0.0759 - accuracy: 0.9841 - val_loss: 7.4338 - val_accuracy: 0.6803\n",
      "Epoch 8/10\n",
      "219/219 [==============================] - 103s 471ms/step - loss: 0.0799 - accuracy: 0.9851 - val_loss: 11.4035 - val_accuracy: 0.6782\n",
      "Epoch 9/10\n",
      "219/219 [==============================] - 104s 474ms/step - loss: 0.0605 - accuracy: 0.9873 - val_loss: 8.3426 - val_accuracy: 0.6634\n",
      "Epoch 10/10\n",
      "219/219 [==============================] - 104s 473ms/step - loss: 0.0715 - accuracy: 0.9852 - val_loss: 15.8113 - val_accuracy: 0.6724\n",
      "Duration: 0:17:20.875172\n"
     ]
    }
   ],
   "source": [
    "n=7\n",
    "print(n)\n",
    "\n",
    "models_nc[n].fit_model(image_sets_nc[n],label_sets_nc[n],x_val,y_val)\n",
    "n = n+1"
   ]
  },
  {
   "cell_type": "code",
   "execution_count": 29,
   "id": "aa682122",
   "metadata": {},
   "outputs": [
    {
     "name": "stdout",
     "output_type": "stream",
     "text": [
      "8\n",
      "Epoch 1/10\n",
      "247/247 [==============================] - 119s 473ms/step - loss: 0.1246 - accuracy: 0.9749 - val_loss: 0.0869 - val_accuracy: 0.9829\n",
      "Epoch 2/10\n",
      "247/247 [==============================] - 116s 469ms/step - loss: 0.0821 - accuracy: 0.9825 - val_loss: 0.4162 - val_accuracy: 0.9428\n",
      "Epoch 3/10\n",
      "247/247 [==============================] - 116s 470ms/step - loss: 0.0765 - accuracy: 0.9824 - val_loss: 0.7164 - val_accuracy: 0.8643\n",
      "Epoch 4/10\n",
      "247/247 [==============================] - 116s 469ms/step - loss: 0.0742 - accuracy: 0.9805 - val_loss: 1.8596 - val_accuracy: 0.7890\n",
      "Epoch 5/10\n",
      "247/247 [==============================] - 119s 480ms/step - loss: 0.0754 - accuracy: 0.9818 - val_loss: 3.7748 - val_accuracy: 0.7604\n",
      "Epoch 6/10\n",
      "247/247 [==============================] - 117s 474ms/step - loss: 0.0761 - accuracy: 0.9843 - val_loss: 4.4904 - val_accuracy: 0.7464\n",
      "Epoch 7/10\n",
      "247/247 [==============================] - 116s 471ms/step - loss: 0.0734 - accuracy: 0.9835 - val_loss: 6.4160 - val_accuracy: 0.7446\n",
      "Epoch 8/10\n",
      "247/247 [==============================] - 116s 468ms/step - loss: 0.0786 - accuracy: 0.9838 - val_loss: 3.8463 - val_accuracy: 0.7326\n",
      "Epoch 9/10\n",
      "247/247 [==============================] - 116s 470ms/step - loss: 0.0680 - accuracy: 0.9874 - val_loss: 8.6885 - val_accuracy: 0.7364\n",
      "Epoch 10/10\n",
      "247/247 [==============================] - 116s 468ms/step - loss: 0.0899 - accuracy: 0.9827 - val_loss: 10.0743 - val_accuracy: 0.7252\n",
      "Duration: 0:19:26.381821\n"
     ]
    }
   ],
   "source": [
    "n=8\n",
    "print(n)\n",
    "\n",
    "models_nc[n].fit_model(image_sets_nc[n],label_sets_nc[n],x_val,y_val)\n",
    "n = n+1"
   ]
  },
  {
   "cell_type": "code",
   "execution_count": 30,
   "id": "7ec61144",
   "metadata": {},
   "outputs": [
    {
     "name": "stdout",
     "output_type": "stream",
     "text": [
      "9\n",
      "Epoch 1/10\n",
      "274/274 [==============================] - 131s 471ms/step - loss: 0.1226 - accuracy: 0.9752 - val_loss: 0.1610 - val_accuracy: 0.9668\n",
      "Epoch 2/10\n",
      "274/274 [==============================] - 128s 467ms/step - loss: 0.0731 - accuracy: 0.9802 - val_loss: 0.3076 - val_accuracy: 0.9423\n",
      "Epoch 3/10\n",
      "274/274 [==============================] - 128s 469ms/step - loss: 0.0710 - accuracy: 0.9831 - val_loss: 1.1499 - val_accuracy: 0.8699\n",
      "Epoch 4/10\n",
      "274/274 [==============================] - 129s 471ms/step - loss: 0.0727 - accuracy: 0.9840 - val_loss: 1.8714 - val_accuracy: 0.8357\n",
      "Epoch 5/10\n",
      "274/274 [==============================] - 129s 470ms/step - loss: 0.0819 - accuracy: 0.9843 - val_loss: 1.9405 - val_accuracy: 0.8214\n",
      "Epoch 6/10\n",
      "274/274 [==============================] - 128s 469ms/step - loss: 0.0775 - accuracy: 0.9841 - val_loss: 3.4105 - val_accuracy: 0.8094\n",
      "Epoch 7/10\n",
      "274/274 [==============================] - 128s 468ms/step - loss: 0.0833 - accuracy: 0.9838 - val_loss: 6.2936 - val_accuracy: 0.7913\n",
      "Epoch 8/10\n",
      "274/274 [==============================] - 128s 466ms/step - loss: 0.0743 - accuracy: 0.9851 - val_loss: 5.6098 - val_accuracy: 0.7734\n",
      "Epoch 9/10\n",
      "274/274 [==============================] - 128s 467ms/step - loss: 0.0909 - accuracy: 0.9838 - val_loss: 5.6489 - val_accuracy: 0.7724\n",
      "Epoch 10/10\n",
      "274/274 [==============================] - 128s 468ms/step - loss: 0.0957 - accuracy: 0.9836 - val_loss: 6.0368 - val_accuracy: 0.7785\n",
      "Duration: 0:21:26.130186\n"
     ]
    }
   ],
   "source": [
    "#reiniciar la 9\n",
    "print(n)#9\n",
    "\n",
    "models_nc[n].fit_model(image_sets_nc[n],label_sets_nc[n],x_val,y_val)\n",
    "n = n+1"
   ]
  },
  {
   "cell_type": "code",
   "execution_count": 31,
   "id": "e05d85c1",
   "metadata": {},
   "outputs": [
    {
     "name": "stdout",
     "output_type": "stream",
     "text": [
      "10\n",
      "Epoch 1/10\n",
      "301/301 [==============================] - 144s 471ms/step - loss: 0.1399 - accuracy: 0.9715 - val_loss: 0.1392 - val_accuracy: 0.9763\n",
      "Epoch 2/10\n",
      "301/301 [==============================] - 141s 468ms/step - loss: 0.0944 - accuracy: 0.9798 - val_loss: 0.5823 - val_accuracy: 0.9319\n",
      "Epoch 3/10\n",
      "301/301 [==============================] - 141s 468ms/step - loss: 0.0850 - accuracy: 0.9812 - val_loss: 0.7827 - val_accuracy: 0.8556\n",
      "Epoch 4/10\n",
      "301/301 [==============================] - 140s 466ms/step - loss: 0.0849 - accuracy: 0.9816 - val_loss: 1.9645 - val_accuracy: 0.8492\n",
      "Epoch 5/10\n",
      "301/301 [==============================] - 140s 466ms/step - loss: 0.0815 - accuracy: 0.9829 - val_loss: 1.3061 - val_accuracy: 0.7928\n",
      "Epoch 6/10\n",
      "301/301 [==============================] - 141s 467ms/step - loss: 0.0833 - accuracy: 0.9814 - val_loss: 2.0096 - val_accuracy: 0.8181\n",
      "Epoch 7/10\n",
      "301/301 [==============================] - 140s 466ms/step - loss: 0.0790 - accuracy: 0.9837 - val_loss: 4.9074 - val_accuracy: 0.8239\n",
      "Epoch 8/10\n",
      "301/301 [==============================] - 141s 470ms/step - loss: 0.0845 - accuracy: 0.9835 - val_loss: 2.8052 - val_accuracy: 0.8204\n",
      "Epoch 9/10\n",
      "301/301 [==============================] - 140s 465ms/step - loss: 0.0958 - accuracy: 0.9816 - val_loss: 5.2626 - val_accuracy: 0.8306\n",
      "Epoch 10/10\n",
      "301/301 [==============================] - 140s 466ms/step - loss: 0.0746 - accuracy: 0.9848 - val_loss: 8.7860 - val_accuracy: 0.8181\n",
      "Duration: 0:23:29.443302\n"
     ]
    }
   ],
   "source": [
    "print(n)\n",
    "\n",
    "models_nc[n].fit_model(image_sets_nc[n],label_sets_nc[n],x_val,y_val)\n",
    "n = n+1"
   ]
  },
  {
   "cell_type": "code",
   "execution_count": 32,
   "id": "a6081dea",
   "metadata": {},
   "outputs": [
    {
     "name": "stdout",
     "output_type": "stream",
     "text": [
      "11\n",
      "Epoch 1/10\n",
      "329/329 [==============================] - 156s 467ms/step - loss: 0.1090 - accuracy: 0.9773 - val_loss: 0.1147 - val_accuracy: 0.9758\n",
      "Epoch 2/10\n",
      "329/329 [==============================] - 153s 465ms/step - loss: 0.0829 - accuracy: 0.9810 - val_loss: 0.4008 - val_accuracy: 0.9224\n",
      "Epoch 3/10\n",
      "329/329 [==============================] - 153s 465ms/step - loss: 0.0833 - accuracy: 0.9795 - val_loss: 1.3408 - val_accuracy: 0.8663\n",
      "Epoch 4/10\n",
      "329/329 [==============================] - 155s 472ms/step - loss: 0.0826 - accuracy: 0.9812 - val_loss: 2.7988 - val_accuracy: 0.8392\n",
      "Epoch 5/10\n",
      "329/329 [==============================] - 153s 464ms/step - loss: 0.0690 - accuracy: 0.9829 - val_loss: 3.6488 - val_accuracy: 0.8367\n",
      "Epoch 6/10\n",
      "329/329 [==============================] - 153s 466ms/step - loss: 0.0789 - accuracy: 0.9831 - val_loss: 5.1532 - val_accuracy: 0.8288\n",
      "Epoch 7/10\n",
      "329/329 [==============================] - 152s 463ms/step - loss: 0.1034 - accuracy: 0.9816 - val_loss: 3.2456 - val_accuracy: 0.8313\n",
      "Epoch 8/10\n",
      "329/329 [==============================] - 153s 464ms/step - loss: 0.0811 - accuracy: 0.9846 - val_loss: 6.5608 - val_accuracy: 0.8341\n",
      "Epoch 9/10\n",
      "329/329 [==============================] - 154s 468ms/step - loss: 0.0783 - accuracy: 0.9854 - val_loss: 10.4081 - val_accuracy: 0.8318\n",
      "Epoch 10/10\n",
      "329/329 [==============================] - 152s 463ms/step - loss: 0.0947 - accuracy: 0.9831 - val_loss: 8.5309 - val_accuracy: 0.8303\n",
      "Duration: 0:25:34.548591\n"
     ]
    }
   ],
   "source": [
    "print(n)\n",
    "\n",
    "models_nc[n].fit_model(image_sets_nc[n],label_sets_nc[n],x_val,y_val)\n",
    "n = n+1"
   ]
  },
  {
   "cell_type": "code",
   "execution_count": 33,
   "id": "6ee630ca",
   "metadata": {},
   "outputs": [
    {
     "name": "stdout",
     "output_type": "stream",
     "text": [
      "12\n",
      "Epoch 1/10\n",
      "356/356 [==============================] - 168s 466ms/step - loss: 0.1173 - accuracy: 0.9747 - val_loss: 0.0851 - val_accuracy: 0.9839\n",
      "Epoch 2/10\n",
      "356/356 [==============================] - 165s 464ms/step - loss: 0.0771 - accuracy: 0.9816 - val_loss: 0.2779 - val_accuracy: 0.9393\n",
      "Epoch 3/10\n",
      "356/356 [==============================] - 165s 462ms/step - loss: 0.0801 - accuracy: 0.9816 - val_loss: 0.7465 - val_accuracy: 0.8423\n",
      "Epoch 4/10\n",
      "356/356 [==============================] - 164s 461ms/step - loss: 0.0784 - accuracy: 0.9807 - val_loss: 2.5046 - val_accuracy: 0.8543\n",
      "Epoch 5/10\n",
      "356/356 [==============================] - 165s 465ms/step - loss: 0.0900 - accuracy: 0.9812 - val_loss: 2.3751 - val_accuracy: 0.8497\n",
      "Epoch 6/10\n",
      "356/356 [==============================] - 156s 439ms/step - loss: 0.0843 - accuracy: 0.9806 - val_loss: 2.9826 - val_accuracy: 0.8487\n",
      "Epoch 7/10\n",
      "356/356 [==============================] - 151s 423ms/step - loss: 0.0970 - accuracy: 0.9821 - val_loss: 5.3241 - val_accuracy: 0.8495\n",
      "Epoch 8/10\n",
      "356/356 [==============================] - 151s 424ms/step - loss: 0.0921 - accuracy: 0.9813 - val_loss: 4.3638 - val_accuracy: 0.8492\n",
      "Epoch 9/10\n",
      "356/356 [==============================] - 150s 421ms/step - loss: 0.0972 - accuracy: 0.9803 - val_loss: 4.5942 - val_accuracy: 0.8331\n",
      "Epoch 10/10\n",
      "356/356 [==============================] - 150s 421ms/step - loss: 0.0885 - accuracy: 0.9828 - val_loss: 8.9744 - val_accuracy: 0.8464\n",
      "Duration: 0:26:25.381534\n"
     ]
    }
   ],
   "source": [
    "print(n)\n",
    "\n",
    "models_nc[n].fit_model(image_sets_nc[n],label_sets_nc[n],x_val,y_val)\n",
    "n = n+1"
   ]
  },
  {
   "cell_type": "code",
   "execution_count": 34,
   "id": "b333726b",
   "metadata": {},
   "outputs": [
    {
     "name": "stdout",
     "output_type": "stream",
     "text": [
      "13\n",
      "Epoch 1/10\n",
      "383/383 [==============================] - 164s 424ms/step - loss: 0.1494 - accuracy: 0.9714 - val_loss: 0.1171 - val_accuracy: 0.9801\n",
      "Epoch 2/10\n",
      "383/383 [==============================] - 162s 422ms/step - loss: 0.0830 - accuracy: 0.9796 - val_loss: 0.4027 - val_accuracy: 0.9446\n",
      "Epoch 3/10\n",
      "383/383 [==============================] - 162s 422ms/step - loss: 0.0886 - accuracy: 0.9807 - val_loss: 0.7865 - val_accuracy: 0.8921\n",
      "Epoch 4/10\n",
      "383/383 [==============================] - 161s 421ms/step - loss: 0.0788 - accuracy: 0.9806 - val_loss: 2.0650 - val_accuracy: 0.8739\n",
      "Epoch 5/10\n",
      "383/383 [==============================] - 166s 433ms/step - loss: 0.0945 - accuracy: 0.9808 - val_loss: 2.4872 - val_accuracy: 0.8696\n",
      "Epoch 6/10\n",
      "383/383 [==============================] - 177s 461ms/step - loss: 0.0931 - accuracy: 0.9804 - val_loss: 4.1182 - val_accuracy: 0.8614\n",
      "Epoch 7/10\n",
      "383/383 [==============================] - 177s 463ms/step - loss: 0.0905 - accuracy: 0.9808 - val_loss: 3.2256 - val_accuracy: 0.8571\n",
      "Epoch 8/10\n",
      "383/383 [==============================] - 176s 460ms/step - loss: 0.1096 - accuracy: 0.9812 - val_loss: 9.9987 - val_accuracy: 0.8505\n",
      "Epoch 9/10\n",
      "383/383 [==============================] - 177s 462ms/step - loss: 0.0973 - accuracy: 0.9815 - val_loss: 3.6045 - val_accuracy: 0.8543\n",
      "Epoch 10/10\n",
      "383/383 [==============================] - 176s 459ms/step - loss: 0.1045 - accuracy: 0.9800 - val_loss: 3.9528 - val_accuracy: 0.8477\n",
      "Duration: 0:28:17.488420\n"
     ]
    }
   ],
   "source": [
    "n=13\n",
    "print(n)\n",
    "\n",
    "models_nc[n].fit_model(image_sets_nc[n],label_sets_nc[n],x_val,y_val)\n",
    "n = n+1"
   ]
  },
  {
   "cell_type": "code",
   "execution_count": 35,
   "id": "a1956bc5",
   "metadata": {},
   "outputs": [
    {
     "name": "stdout",
     "output_type": "stream",
     "text": [
      "14\n",
      "Epoch 1/10\n",
      "411/411 [==============================] - 195s 468ms/step - loss: 0.1290 - accuracy: 0.9736 - val_loss: 0.0685 - val_accuracy: 0.9839\n",
      "Epoch 2/10\n",
      "411/411 [==============================] - 189s 460ms/step - loss: 0.0977 - accuracy: 0.9773 - val_loss: 0.6190 - val_accuracy: 0.9291\n",
      "Epoch 3/10\n",
      "411/411 [==============================] - 189s 459ms/step - loss: 0.0856 - accuracy: 0.9789 - val_loss: 1.2251 - val_accuracy: 0.9058\n",
      "Epoch 4/10\n",
      "411/411 [==============================] - 190s 463ms/step - loss: 0.1022 - accuracy: 0.9782 - val_loss: 1.6882 - val_accuracy: 0.8997\n",
      "Epoch 5/10\n",
      "411/411 [==============================] - 189s 459ms/step - loss: 0.1066 - accuracy: 0.9777 - val_loss: 2.4947 - val_accuracy: 0.8913\n",
      "Epoch 6/10\n",
      "411/411 [==============================] - 190s 461ms/step - loss: 0.0919 - accuracy: 0.9809 - val_loss: 2.7537 - val_accuracy: 0.8887\n",
      "Epoch 7/10\n",
      "411/411 [==============================] - 189s 459ms/step - loss: 0.1044 - accuracy: 0.9804 - val_loss: 2.3136 - val_accuracy: 0.8877\n",
      "Epoch 8/10\n",
      "411/411 [==============================] - 189s 460ms/step - loss: 0.0958 - accuracy: 0.9810 - val_loss: 3.1691 - val_accuracy: 0.8872\n",
      "Epoch 9/10\n",
      "411/411 [==============================] - 188s 458ms/step - loss: 0.1123 - accuracy: 0.9784 - val_loss: 1.9362 - val_accuracy: 0.8872\n",
      "Epoch 10/10\n",
      "411/411 [==============================] - 188s 458ms/step - loss: 0.1127 - accuracy: 0.9774 - val_loss: 3.4063 - val_accuracy: 0.8852\n",
      "Duration: 0:31:35.579290\n"
     ]
    }
   ],
   "source": [
    "#14\n",
    "n=14\n",
    "print(n)\n",
    "\n",
    "models_nc[n].fit_model(image_sets_nc[n],label_sets_nc[n],x_val,y_val)\n",
    "n = n+1"
   ]
  },
  {
   "cell_type": "code",
   "execution_count": 36,
   "id": "8657006a",
   "metadata": {},
   "outputs": [],
   "source": [
    "time.sleep(180)"
   ]
  },
  {
   "cell_type": "code",
   "execution_count": 37,
   "id": "4b7c1dd9",
   "metadata": {},
   "outputs": [
    {
     "name": "stdout",
     "output_type": "stream",
     "text": [
      "15\n",
      "Epoch 1/10\n",
      "438/438 [==============================] - 197s 444ms/step - loss: 0.1238 - accuracy: 0.9732 - val_loss: 0.0543 - val_accuracy: 0.9857\n",
      "Epoch 2/10\n",
      "438/438 [==============================] - 204s 466ms/step - loss: 0.0937 - accuracy: 0.9776 - val_loss: 0.4364 - val_accuracy: 0.9497\n",
      "Epoch 3/10\n",
      "438/438 [==============================] - 204s 465ms/step - loss: 0.0978 - accuracy: 0.9776 - val_loss: 0.7659 - val_accuracy: 0.9291\n",
      "Epoch 4/10\n",
      "438/438 [==============================] - 204s 467ms/step - loss: 0.0963 - accuracy: 0.9783 - val_loss: 1.2623 - val_accuracy: 0.9242\n",
      "Epoch 5/10\n",
      "438/438 [==============================] - 207s 473ms/step - loss: 0.1008 - accuracy: 0.9791 - val_loss: 1.2328 - val_accuracy: 0.9150\n",
      "Epoch 6/10\n",
      "438/438 [==============================] - 204s 465ms/step - loss: 0.1028 - accuracy: 0.9763 - val_loss: 2.0449 - val_accuracy: 0.9222\n",
      "Epoch 7/10\n",
      "438/438 [==============================] - 204s 466ms/step - loss: 0.1043 - accuracy: 0.9794 - val_loss: 2.3032 - val_accuracy: 0.9176\n",
      "Epoch 8/10\n",
      "438/438 [==============================] - 204s 465ms/step - loss: 0.1018 - accuracy: 0.9773 - val_loss: 3.8842 - val_accuracy: 0.9196\n",
      "Epoch 9/10\n",
      "438/438 [==============================] - 204s 466ms/step - loss: 0.1157 - accuracy: 0.9766 - val_loss: 2.8320 - val_accuracy: 0.9196\n",
      "Epoch 10/10\n",
      "438/438 [==============================] - 203s 464ms/step - loss: 0.1167 - accuracy: 0.9785 - val_loss: 2.4285 - val_accuracy: 0.9173\n",
      "Duration: 0:33:54.622013\n"
     ]
    }
   ],
   "source": [
    "\n",
    "print(n)\n",
    "\n",
    "models_nc[n].fit_model(image_sets_nc[n],label_sets_nc[n],x_val,y_val)\n",
    "n = n+1"
   ]
  },
  {
   "cell_type": "code",
   "execution_count": null,
   "id": "e334ecca",
   "metadata": {},
   "outputs": [],
   "source": [
    "time.sleep(180)"
   ]
  },
  {
   "cell_type": "code",
   "execution_count": 38,
   "id": "7aedeb81",
   "metadata": {},
   "outputs": [
    {
     "name": "stdout",
     "output_type": "stream",
     "text": [
      "16\n",
      "Epoch 1/10\n",
      "465/465 [==============================] - 221s 469ms/step - loss: 0.1419 - accuracy: 0.9695 - val_loss: 0.0708 - val_accuracy: 0.9819\n",
      "Epoch 2/10\n",
      "465/465 [==============================] - 217s 467ms/step - loss: 0.1100 - accuracy: 0.9742 - val_loss: 0.3770 - val_accuracy: 0.9576\n",
      "Epoch 3/10\n",
      "465/465 [==============================] - 214s 460ms/step - loss: 0.1035 - accuracy: 0.9759 - val_loss: 0.9946 - val_accuracy: 0.9617\n",
      "Epoch 4/10\n",
      "465/465 [==============================] - 195s 418ms/step - loss: 0.1101 - accuracy: 0.9747 - val_loss: 0.9960 - val_accuracy: 0.9589\n",
      "Epoch 5/10\n",
      "465/465 [==============================] - 194s 418ms/step - loss: 0.0922 - accuracy: 0.9787 - val_loss: 1.4989 - val_accuracy: 0.9597\n",
      "Epoch 6/10\n",
      "465/465 [==============================] - 195s 419ms/step - loss: 0.1065 - accuracy: 0.9763 - val_loss: 1.7676 - val_accuracy: 0.9597\n",
      "Epoch 7/10\n",
      "465/465 [==============================] - 194s 418ms/step - loss: 0.0930 - accuracy: 0.9806 - val_loss: 2.1048 - val_accuracy: 0.9546\n",
      "Epoch 8/10\n",
      "465/465 [==============================] - 195s 418ms/step - loss: 0.0978 - accuracy: 0.9788 - val_loss: 3.0695 - val_accuracy: 0.9449\n",
      "Epoch 9/10\n",
      "465/465 [==============================] - 194s 417ms/step - loss: 0.1184 - accuracy: 0.9769 - val_loss: 2.4069 - val_accuracy: 0.9556\n",
      "Epoch 10/10\n",
      "465/465 [==============================] - 194s 418ms/step - loss: 0.1175 - accuracy: 0.9778 - val_loss: 2.4681 - val_accuracy: 0.9582\n",
      "Duration: 0:33:32.093771\n"
     ]
    }
   ],
   "source": [
    "n=16\n",
    "print(n)\n",
    "\n",
    "models_nc[n].fit_model(image_sets_nc[n],label_sets_nc[n],x_val,y_val)\n",
    "n = n+1"
   ]
  },
  {
   "cell_type": "code",
   "execution_count": null,
   "id": "e6a18ea8",
   "metadata": {},
   "outputs": [],
   "source": []
  },
  {
   "cell_type": "code",
   "execution_count": 39,
   "id": "26e3e080",
   "metadata": {},
   "outputs": [
    {
     "name": "stdout",
     "output_type": "stream",
     "text": [
      "17\n",
      "Epoch 1/10\n",
      "493/493 [==============================] - 224s 450ms/step - loss: 0.1421 - accuracy: 0.9694 - val_loss: 0.1946 - val_accuracy: 0.9793\n",
      "Epoch 2/10\n",
      "493/493 [==============================] - 225s 457ms/step - loss: 0.0981 - accuracy: 0.9749 - val_loss: 0.3848 - val_accuracy: 0.9653\n",
      "Epoch 3/10\n",
      "493/493 [==============================] - 225s 456ms/step - loss: 0.1068 - accuracy: 0.9742 - val_loss: 0.8398 - val_accuracy: 0.9610\n",
      "Epoch 4/10\n",
      "493/493 [==============================] - 227s 461ms/step - loss: 0.1029 - accuracy: 0.9779 - val_loss: 0.9156 - val_accuracy: 0.9574\n",
      "Epoch 5/10\n",
      "493/493 [==============================] - 226s 458ms/step - loss: 0.1044 - accuracy: 0.9768 - val_loss: 1.2697 - val_accuracy: 0.9612\n",
      "Epoch 6/10\n",
      "493/493 [==============================] - 227s 460ms/step - loss: 0.1099 - accuracy: 0.9758 - val_loss: 2.0468 - val_accuracy: 0.9625\n",
      "Epoch 7/10\n",
      "493/493 [==============================] - 214s 434ms/step - loss: 0.1150 - accuracy: 0.9763 - val_loss: 1.8376 - val_accuracy: 0.9635\n",
      "Epoch 8/10\n",
      "493/493 [==============================] - 206s 418ms/step - loss: 0.1344 - accuracy: 0.9745 - val_loss: 1.5426 - val_accuracy: 0.9622\n",
      "Epoch 9/10\n",
      "493/493 [==============================] - 204s 414ms/step - loss: 0.1222 - accuracy: 0.9758 - val_loss: 2.2743 - val_accuracy: 0.9638\n",
      "Epoch 10/10\n",
      "493/493 [==============================] - 206s 419ms/step - loss: 0.1182 - accuracy: 0.9778 - val_loss: 2.5464 - val_accuracy: 0.9574\n",
      "Duration: 0:36:24.591641\n"
     ]
    }
   ],
   "source": [
    "n=17\n",
    "print(n)\n",
    "\n",
    "models_nc[n].fit_model(image_sets_nc[n],label_sets_nc[n],x_val,y_val)\n",
    "n = n+1 "
   ]
  },
  {
   "cell_type": "code",
   "execution_count": 40,
   "id": "14409d0f",
   "metadata": {},
   "outputs": [
    {
     "name": "stdout",
     "output_type": "stream",
     "text": [
      "18\n",
      "Epoch 1/10\n",
      "520/520 [==============================] - 219s 418ms/step - loss: 0.1521 - accuracy: 0.9645 - val_loss: 0.0818 - val_accuracy: 0.9860\n",
      "Epoch 2/10\n",
      "520/520 [==============================] - 216s 416ms/step - loss: 0.1184 - accuracy: 0.9705 - val_loss: 0.3537 - val_accuracy: 0.9727\n",
      "Epoch 3/10\n",
      "520/520 [==============================] - 217s 417ms/step - loss: 0.1150 - accuracy: 0.9737 - val_loss: 0.3276 - val_accuracy: 0.9701\n",
      "Epoch 4/10\n",
      "520/520 [==============================] - 231s 444ms/step - loss: 0.1139 - accuracy: 0.9734 - val_loss: 0.8668 - val_accuracy: 0.9719\n",
      "Epoch 5/10\n",
      "520/520 [==============================] - 237s 456ms/step - loss: 0.1079 - accuracy: 0.9741 - val_loss: 0.8631 - val_accuracy: 0.9707\n",
      "Epoch 6/10\n",
      "520/520 [==============================] - 236s 454ms/step - loss: 0.1251 - accuracy: 0.9723 - val_loss: 1.1506 - val_accuracy: 0.9712\n",
      "Epoch 7/10\n",
      "520/520 [==============================] - 239s 460ms/step - loss: 0.1150 - accuracy: 0.9747 - val_loss: 0.7256 - val_accuracy: 0.9712\n",
      "Epoch 8/10\n",
      "520/520 [==============================] - 237s 456ms/step - loss: 0.1066 - accuracy: 0.9774 - val_loss: 0.7710 - val_accuracy: 0.9699\n",
      "Epoch 9/10\n",
      "520/520 [==============================] - 236s 454ms/step - loss: 0.1169 - accuracy: 0.9754 - val_loss: 1.1898 - val_accuracy: 0.9712\n",
      "Epoch 10/10\n",
      "520/520 [==============================] - 236s 453ms/step - loss: 0.1258 - accuracy: 0.9726 - val_loss: 1.0501 - val_accuracy: 0.9704\n",
      "Duration: 0:38:24.841863\n"
     ]
    }
   ],
   "source": [
    "print(n)\n",
    "\n",
    "models_nc[n].fit_model(image_sets_nc[n],label_sets_nc[n],x_val,y_val)\n",
    "n = n+1"
   ]
  },
  {
   "cell_type": "code",
   "execution_count": 41,
   "id": "78afe372",
   "metadata": {},
   "outputs": [
    {
     "name": "stdout",
     "output_type": "stream",
     "text": [
      "19\n",
      "Epoch 1/10\n",
      "547/547 [==============================] - 252s 457ms/step - loss: 0.1968 - accuracy: 0.9563 - val_loss: 0.0263 - val_accuracy: 0.9944\n",
      "Epoch 2/10\n",
      "547/547 [==============================] - 252s 460ms/step - loss: 0.1392 - accuracy: 0.9645 - val_loss: 0.0404 - val_accuracy: 0.9903\n",
      "Epoch 3/10\n",
      "547/547 [==============================] - 249s 455ms/step - loss: 0.1348 - accuracy: 0.9665 - val_loss: 0.0380 - val_accuracy: 0.9926\n",
      "Epoch 4/10\n",
      "547/547 [==============================] - 250s 456ms/step - loss: 0.1369 - accuracy: 0.9676 - val_loss: 0.0203 - val_accuracy: 0.9954\n",
      "Epoch 5/10\n",
      "547/547 [==============================] - 248s 454ms/step - loss: 0.1235 - accuracy: 0.9697 - val_loss: 0.0286 - val_accuracy: 0.9934\n",
      "Epoch 6/10\n",
      "547/547 [==============================] - 239s 437ms/step - loss: 0.1415 - accuracy: 0.9701 - val_loss: 0.0211 - val_accuracy: 0.9957\n",
      "Epoch 7/10\n",
      "547/547 [==============================] - 241s 440ms/step - loss: 0.1268 - accuracy: 0.9723 - val_loss: 0.0328 - val_accuracy: 0.9941\n",
      "Epoch 8/10\n",
      "547/547 [==============================] - 249s 456ms/step - loss: 0.1443 - accuracy: 0.9686 - val_loss: 0.0363 - val_accuracy: 0.9923\n",
      "Epoch 9/10\n",
      "547/547 [==============================] - 249s 455ms/step - loss: 0.1398 - accuracy: 0.9687 - val_loss: 0.0208 - val_accuracy: 0.9954\n",
      "Epoch 10/10\n",
      "547/547 [==============================] - 248s 453ms/step - loss: 0.1433 - accuracy: 0.9693 - val_loss: 0.0396 - val_accuracy: 0.9939\n",
      "Duration: 0:41:16.136641\n"
     ]
    }
   ],
   "source": [
    "n=19\n",
    "print(n)\n",
    "\n",
    "models_nc[n].fit_model(image_sets_nc[n],label_sets_nc[n],x_val,y_val)\n",
    "n = n+1"
   ]
  },
  {
   "cell_type": "code",
   "execution_count": 42,
   "id": "1b3e5f1c",
   "metadata": {},
   "outputs": [
    {
     "name": "stdout",
     "output_type": "stream",
     "text": [
      "20\n",
      "Epoch 1/10\n",
      "552/552 [==============================] - 253s 455ms/step - loss: 0.1931 - accuracy: 0.9541 - val_loss: 0.0285 - val_accuracy: 0.9941\n",
      "Epoch 2/10\n",
      "552/552 [==============================] - 253s 459ms/step - loss: 0.1453 - accuracy: 0.9638 - val_loss: 0.0490 - val_accuracy: 0.9908\n",
      "Epoch 3/10\n",
      "552/552 [==============================] - 252s 457ms/step - loss: 0.1384 - accuracy: 0.9664 - val_loss: 0.1135 - val_accuracy: 0.9765\n",
      "Epoch 4/10\n",
      "552/552 [==============================] - 251s 455ms/step - loss: 0.1320 - accuracy: 0.9673 - val_loss: 0.0379 - val_accuracy: 0.9944\n",
      "Epoch 5/10\n",
      "552/552 [==============================] - 251s 454ms/step - loss: 0.1363 - accuracy: 0.9695 - val_loss: 0.0321 - val_accuracy: 0.9944\n",
      "Epoch 6/10\n",
      "552/552 [==============================] - 252s 457ms/step - loss: 0.1246 - accuracy: 0.9707 - val_loss: 0.0522 - val_accuracy: 0.9944\n",
      "Epoch 7/10\n",
      "552/552 [==============================] - 250s 453ms/step - loss: 0.1353 - accuracy: 0.9717 - val_loss: 0.0596 - val_accuracy: 0.9913\n",
      "Epoch 8/10\n",
      "552/552 [==============================] - 250s 453ms/step - loss: 0.1408 - accuracy: 0.9704 - val_loss: 0.0287 - val_accuracy: 0.9946\n",
      "Epoch 9/10\n",
      "552/552 [==============================] - 251s 455ms/step - loss: 0.1486 - accuracy: 0.9679 - val_loss: 0.0335 - val_accuracy: 0.9908\n",
      "Epoch 10/10\n",
      "552/552 [==============================] - 252s 456ms/step - loss: 0.1477 - accuracy: 0.9676 - val_loss: 0.0326 - val_accuracy: 0.9959\n",
      "Duration: 0:41:56.515670\n"
     ]
    }
   ],
   "source": [
    "n=20\n",
    "print(n)\n",
    "\n",
    "models_nc[n].fit_model(image_sets_nc[n],label_sets_nc[n],x_val,y_val)\n",
    "n = n+1"
   ]
  },
  {
   "cell_type": "code",
   "execution_count": 43,
   "id": "cbc65556",
   "metadata": {},
   "outputs": [
    {
     "name": "stdout",
     "output_type": "stream",
     "text": [
      "INFO:tensorflow:Assets written to: D:/models/aug_22/gtsrb/C2/gtsrb_model_c2_aug_nc_e1_0\\assets\n",
      "Model has been saved\n",
      "INFO:tensorflow:Assets written to: D:/models/aug_22/gtsrb/C2/gtsrb_model_c2_aug_nc_e1_1\\assets\n",
      "Model has been saved\n",
      "INFO:tensorflow:Assets written to: D:/models/aug_22/gtsrb/C2/gtsrb_model_c2_aug_nc_e1_2\\assets\n",
      "Model has been saved\n",
      "INFO:tensorflow:Assets written to: D:/models/aug_22/gtsrb/C2/gtsrb_model_c2_aug_nc_e1_3\\assets\n",
      "Model has been saved\n",
      "INFO:tensorflow:Assets written to: D:/models/aug_22/gtsrb/C2/gtsrb_model_c2_aug_nc_e1_4\\assets\n",
      "Model has been saved\n",
      "INFO:tensorflow:Assets written to: D:/models/aug_22/gtsrb/C2/gtsrb_model_c2_aug_nc_e1_5\\assets\n",
      "Model has been saved\n",
      "INFO:tensorflow:Assets written to: D:/models/aug_22/gtsrb/C2/gtsrb_model_c2_aug_nc_e1_6\\assets\n",
      "Model has been saved\n",
      "INFO:tensorflow:Assets written to: D:/models/aug_22/gtsrb/C2/gtsrb_model_c2_aug_nc_e1_7\\assets\n",
      "Model has been saved\n",
      "INFO:tensorflow:Assets written to: D:/models/aug_22/gtsrb/C2/gtsrb_model_c2_aug_nc_e1_8\\assets\n",
      "Model has been saved\n",
      "INFO:tensorflow:Assets written to: D:/models/aug_22/gtsrb/C2/gtsrb_model_c2_aug_nc_e1_9\\assets\n",
      "Model has been saved\n",
      "INFO:tensorflow:Assets written to: D:/models/aug_22/gtsrb/C2/gtsrb_model_c2_aug_nc_e1_10\\assets\n",
      "Model has been saved\n",
      "INFO:tensorflow:Assets written to: D:/models/aug_22/gtsrb/C2/gtsrb_model_c2_aug_nc_e1_11\\assets\n",
      "Model has been saved\n",
      "INFO:tensorflow:Assets written to: D:/models/aug_22/gtsrb/C2/gtsrb_model_c2_aug_nc_e1_12\\assets\n",
      "Model has been saved\n",
      "INFO:tensorflow:Assets written to: D:/models/aug_22/gtsrb/C2/gtsrb_model_c2_aug_nc_e1_13\\assets\n",
      "Model has been saved\n",
      "INFO:tensorflow:Assets written to: D:/models/aug_22/gtsrb/C2/gtsrb_model_c2_aug_nc_e1_14\\assets\n",
      "Model has been saved\n",
      "INFO:tensorflow:Assets written to: D:/models/aug_22/gtsrb/C2/gtsrb_model_c2_aug_nc_e1_15\\assets\n",
      "Model has been saved\n",
      "INFO:tensorflow:Assets written to: D:/models/aug_22/gtsrb/C2/gtsrb_model_c2_aug_nc_e1_16\\assets\n",
      "Model has been saved\n",
      "INFO:tensorflow:Assets written to: D:/models/aug_22/gtsrb/C2/gtsrb_model_c2_aug_nc_e1_17\\assets\n",
      "Model has been saved\n",
      "INFO:tensorflow:Assets written to: D:/models/aug_22/gtsrb/C2/gtsrb_model_c2_aug_nc_e1_18\\assets\n",
      "Model has been saved\n",
      "INFO:tensorflow:Assets written to: D:/models/aug_22/gtsrb/C2/gtsrb_model_c2_aug_nc_e1_19\\assets\n",
      "Model has been saved\n",
      "INFO:tensorflow:Assets written to: D:/models/aug_22/gtsrb/C2/gtsrb_model_c2_aug_nc_e1_20\\assets\n",
      "Model has been saved\n"
     ]
    }
   ],
   "source": [
    "new_model_nc_dir  = \"D:/models/aug_22/gtsrb/C2/gtsrb_model_c2_aug_nc_e1\"\n",
    "\n",
    "i=0\n",
    "\n",
    "for model in models_nc:\n",
    "    model.save(new_model_nc_dir+\"_\"+str(i))\n",
    "    i+=1"
   ]
  },
  {
   "cell_type": "code",
   "execution_count": null,
   "id": "7931428f",
   "metadata": {},
   "outputs": [],
   "source": [
    "loading = False\n",
    "\n",
    "models_nc = []\n",
    "\n",
    "if loading:\n",
    "    for i in range(20):\n",
    "        model_nc_dir = \"D:/models/aug_22/gtsrb/C1/gtsrb_model_c1_aug_nc_e1\"+str(i)\n",
    "        print(model_nc_dir)\n",
    "        model =utils.My_model(dataset,True,model_nc_dir)\n",
    "        model.model.compile(loss= 'categorical_crossentropy', optimizer = 'rmsprop', metrics = ['accuracy',tf.keras.metrics.Precision(), tf.keras.metrics.Recall()])\n",
    "        models_nc.append(model)\n",
    "       "
   ]
  },
  {
   "cell_type": "code",
   "execution_count": 44,
   "id": "66fa31cc",
   "metadata": {},
   "outputs": [],
   "source": [
    "try:\n",
    "    del nc_values\n",
    "    del top_images_by_nc\n",
    "    del top_labels_by_nc\n",
    "    del image_sets_nc\n",
    "    del label_sets_nc\n",
    "    del models_nc\n",
    "except:\n",
    "    print(\"Error\")"
   ]
  },
  {
   "cell_type": "code",
   "execution_count": 45,
   "id": "dbc6f3a6",
   "metadata": {},
   "outputs": [
    {
     "data": {
      "text/plain": [
       "632102"
      ]
     },
     "execution_count": 45,
     "metadata": {},
     "output_type": "execute_result"
    }
   ],
   "source": [
    "gc.collect()"
   ]
  },
  {
   "cell_type": "markdown",
   "id": "2b428980",
   "metadata": {},
   "source": [
    "## Evaluating"
   ]
  },
  {
   "cell_type": "code",
   "execution_count": 46,
   "id": "e6300f23",
   "metadata": {},
   "outputs": [],
   "source": [
    "model_original.model.compile(loss= 'categorical_crossentropy', optimizer = 'rmsprop', metrics = ['accuracy',tf.keras.metrics.Precision(), tf.keras.metrics.Recall()])"
   ]
  },
  {
   "cell_type": "code",
   "execution_count": 47,
   "id": "fd074ff2",
   "metadata": {},
   "outputs": [
    {
     "name": "stdout",
     "output_type": "stream",
     "text": [
      "123/123 [==============================] - 9s 63ms/step - loss: 0.6142 - accuracy: 0.8964 - precision: 0.9443 - recall: 0.9259\n",
      "123/123 [==============================] - 8s 64ms/step - loss: 1.7023 - accuracy: 0.7031 - precision: 0.8729 - recall: 0.7395\n",
      "123/123 [==============================] - 8s 64ms/step - loss: 1.7023 - accuracy: 0.7031 - precision: 0.8623 - recall: 0.7168\n",
      "123/123 [==============================] - 8s 64ms/step - loss: 1.7023 - accuracy: 0.7031 - precision: 0.8576 - recall: 0.7071\n"
     ]
    },
    {
     "ename": "NameError",
     "evalue": "name 'models_lsa' is not defined",
     "output_type": "error",
     "traceback": [
      "\u001b[1;31m---------------------------------------------------------------------------\u001b[0m",
      "\u001b[1;31mNameError\u001b[0m                                 Traceback (most recent call last)",
      "\u001b[1;32m<ipython-input-47-c77984901c2d>\u001b[0m in \u001b[0;36m<module>\u001b[1;34m\u001b[0m\n\u001b[0;32m     10\u001b[0m \u001b[0mevaluate_random_0\u001b[0m\u001b[1;33m.\u001b[0m\u001b[0mappend\u001b[0m\u001b[1;33m(\u001b[0m\u001b[0mmodel_original\u001b[0m\u001b[1;33m.\u001b[0m\u001b[0mevaluate\u001b[0m\u001b[1;33m(\u001b[0m\u001b[0mx_adversary_test_fgsm\u001b[0m\u001b[1;33m,\u001b[0m\u001b[0my_adversary_test_fgsm\u001b[0m\u001b[1;33m)\u001b[0m\u001b[1;33m)\u001b[0m\u001b[1;33m\u001b[0m\u001b[1;33m\u001b[0m\u001b[0m\n\u001b[0;32m     11\u001b[0m \u001b[1;33m\u001b[0m\u001b[0m\n\u001b[1;32m---> 12\u001b[1;33m \u001b[1;32mfor\u001b[0m \u001b[0mmodel\u001b[0m \u001b[1;32min\u001b[0m \u001b[0mmodels_lsa\u001b[0m\u001b[1;33m:\u001b[0m\u001b[1;33m\u001b[0m\u001b[1;33m\u001b[0m\u001b[0m\n\u001b[0m\u001b[0;32m     13\u001b[0m     \u001b[0mevaluate_lsa_0\u001b[0m\u001b[1;33m.\u001b[0m\u001b[0mappend\u001b[0m\u001b[1;33m(\u001b[0m\u001b[0mmodel\u001b[0m\u001b[1;33m.\u001b[0m\u001b[0mevaluate\u001b[0m\u001b[1;33m(\u001b[0m\u001b[0mx_adversary_test_fgsm\u001b[0m\u001b[1;33m,\u001b[0m\u001b[0my_adversary_test_fgsm\u001b[0m\u001b[1;33m)\u001b[0m\u001b[1;33m)\u001b[0m\u001b[1;33m\u001b[0m\u001b[1;33m\u001b[0m\u001b[0m\n\u001b[0;32m     14\u001b[0m \u001b[1;33m\u001b[0m\u001b[0m\n",
      "\u001b[1;31mNameError\u001b[0m: name 'models_lsa' is not defined"
     ]
    }
   ],
   "source": [
    "# Metrics using adversarial test\n",
    "evaluate_lsa_0 = []\n",
    "evaluate_dsa_0 = []\n",
    "evaluate_nc_0 = []\n",
    "evaluate_random_0 = []\n",
    "\n",
    "evaluate_lsa_0.append(model_original.evaluate(x_adversary_test_fgsm,y_adversary_test_fgsm))\n",
    "evaluate_dsa_0.append(model_original.evaluate(x_adversary_test_fgsm,y_adversary_test_fgsm))\n",
    "evaluate_nc_0.append(model_original.evaluate(x_adversary_test_fgsm,y_adversary_test_fgsm))\n",
    "evaluate_random_0.append(model_original.evaluate(x_adversary_test_fgsm,y_adversary_test_fgsm))\n",
    "\n",
    "for model in models_lsa:\n",
    "    evaluate_lsa_0.append(model.evaluate(x_adversary_test_fgsm,y_adversary_test_fgsm))\n",
    "    \n",
    "for model in models_dsa:\n",
    "    evaluate_dsa_0.append(model.evaluate(x_adversary_test_fgsm,y_adversary_test_fgsm))\n",
    "    \n",
    "for model in models_random:\n",
    "    evaluate_random_0.append(model.evaluate(x_adversary_test_fgsm,y_adversary_test_fgsm))\n",
    "    \n",
    "for model in models_nc:\n",
    "    evaluate_nc_0.append(model.evaluate(x_adversary_test_fgsm,y_adversary_test_fgsm))"
   ]
  },
  {
   "cell_type": "code",
   "execution_count": null,
   "id": "889a2bb6",
   "metadata": {},
   "outputs": [],
   "source": [
    "evaluate_lsa_0[0]=[0,0,0,0]\n",
    "evaluate_dsa_0[0]=[0,0,0,0]\n",
    "evaluate_random_0[0]=[0,0,0,0]\n",
    "evaluate_nc_0[0]=[0,0,0,0]"
   ]
  },
  {
   "cell_type": "code",
   "execution_count": null,
   "id": "11b4b138",
   "metadata": {},
   "outputs": [],
   "source": [
    "print(len(evaluate_lsa_0))\n",
    "print(len(evaluate_dsa_0))\n",
    "print(len(evaluate_random_0))\n",
    "print(len(evaluate_nc_0))"
   ]
  },
  {
   "cell_type": "code",
   "execution_count": null,
   "id": "1d1c6ec0",
   "metadata": {
    "scrolled": true
   },
   "outputs": [],
   "source": [
    "# Metrics using original test\n",
    "evaluate_lsa_1 = []\n",
    "evaluate_dsa_1 = []\n",
    "evaluate_nc_1 = []\n",
    "evaluate_random_1 = []\n",
    "\n",
    "evaluate_lsa_1.append(model_original.evaluate(x_test,y_test))\n",
    "evaluate_dsa_1.append(model_original.evaluate(x_test,y_test))\n",
    "evaluate_nc_1.append(model_original.evaluate(x_test,y_test))\n",
    "evaluate_random_1.append(model_original.evaluate(x_test,y_test))\n",
    "print(\"lsa---\")\n",
    "for model in models_lsa:\n",
    "    evaluate_lsa_1.append(model.evaluate(x_test,y_test))\n",
    "\n",
    "print(\"dsa---\")\n",
    "    \n",
    "for model in models_dsa:\n",
    "    evaluate_dsa_1.append(model.evaluate(x_test,y_test))\n",
    "    \n",
    "\n",
    "print(\"random---\")\n",
    "\n",
    "for model in models_random:\n",
    "    evaluate_random_1.append(model.evaluate(x_test,y_test))\n",
    "    \n",
    "print(\"nc---\")\n",
    "\n",
    "for model in models_nc:\n",
    "    evaluate_nc_1.append(model.evaluate(x_test,y_test))\n"
   ]
  },
  {
   "cell_type": "code",
   "execution_count": null,
   "id": "3968b39d",
   "metadata": {},
   "outputs": [],
   "source": [
    "evaluate_lsa_1[0]=[0,0,0,0]\n",
    "evaluate_dsa_1[0]=[0,0,0,0]\n",
    "evaluate_random_1[0]=[0,0,0,0]\n",
    "evaluate_nc_1[0]=[0,0,0,0]"
   ]
  },
  {
   "cell_type": "code",
   "execution_count": null,
   "id": "85dd3308",
   "metadata": {},
   "outputs": [],
   "source": [
    "\n",
    "print(len(evaluate_lsa_1))\n",
    "print(len(evaluate_dsa_1))\n",
    "print(len(evaluate_random_1))\n",
    "print(len(evaluate_nc_1))"
   ]
  },
  {
   "cell_type": "code",
   "execution_count": null,
   "id": "641ef7af",
   "metadata": {},
   "outputs": [],
   "source": [
    "type(evaluate_dsa_0[0][0])"
   ]
  },
  {
   "cell_type": "code",
   "execution_count": null,
   "id": "8c45b340",
   "metadata": {},
   "outputs": [],
   "source": [
    "import pandas as pd\n",
    "\n",
    "df_evaluate_lsa_0 = pd.DataFrame(np.array(evaluate_lsa_0),columns=[\"loss\",\"accuracy\",\"precision\",\"recall\"])\n",
    "df_evaluate_lsa_1 = pd.DataFrame(np.array(evaluate_lsa_1),columns=[\"loss\",\"accuracy\",\"precision\",\"recall\"])\n",
    "df_evaluate_dsa_0 = pd.DataFrame(np.array(evaluate_dsa_0),columns=[\"loss\",\"accuracy\",\"precision\",\"recall\"])\n",
    "df_evaluate_dsa_1 = pd.DataFrame(np.array(evaluate_dsa_1),columns=[\"loss\",\"accuracy\",\"precision\",\"recall\"])\n",
    "\n",
    "df_evaluate_random_0 = pd.DataFrame(np.array(evaluate_random_0),columns=[\"loss\",\"accuracy\",\"precision\",\"recall\"])\n",
    "df_evaluate_random_1 = pd.DataFrame(np.array(evaluate_random_1),columns=[\"loss\",\"accuracy\",\"precision\",\"recall\"])\n",
    "df_evaluate_nc_0 = pd.DataFrame(np.array(evaluate_nc_0),columns=[\"loss\",\"accuracy\",\"precision\",\"recall\"])\n",
    "df_evaluate_nc_1 = pd.DataFrame(np.array(evaluate_nc_1),columns=[\"loss\",\"accuracy\",\"precision\",\"recall\"])\n"
   ]
  },
  {
   "cell_type": "code",
   "execution_count": null,
   "id": "5fbac3f0",
   "metadata": {},
   "outputs": [],
   "source": [
    "# Original test set + adversarial set\n",
    "\n",
    "metric =\"accuracy\"\n",
    "accuracy_lsa_3 = (np.array(df_evaluate_lsa_0[metric])+np.array(df_evaluate_lsa_1[metric]))/2\n",
    "accuracy_dsa_3 = (np.array(df_evaluate_dsa_0[metric])+np.array(df_evaluate_dsa_1[metric]))/2\n",
    "accuracy_nc_3 = (np.array(df_evaluate_nc_0[metric])+np.array(df_evaluate_nc_1[metric]))/2\n",
    "accuracy_random_3 = (np.array(df_evaluate_random_0[metric])+np.array(df_evaluate_random_1[metric]))/2\n"
   ]
  },
  {
   "cell_type": "markdown",
   "id": "c0edc866",
   "metadata": {},
   "source": [
    "## Charts"
   ]
  },
  {
   "cell_type": "code",
   "execution_count": null,
   "id": "db32b23d",
   "metadata": {},
   "outputs": [],
   "source": [
    "n_inputs = [1800*i for i in range(20)]\n",
    "n_inputs.append(len(x_train_and_adversary))"
   ]
  },
  {
   "cell_type": "code",
   "execution_count": null,
   "id": "0e5d823a",
   "metadata": {},
   "outputs": [],
   "source": [
    "print(n_inputs)"
   ]
  },
  {
   "cell_type": "code",
   "execution_count": null,
   "id": "4feb0d30",
   "metadata": {},
   "outputs": [],
   "source": [
    "cd \"C:/Users/fjdur/Desktop/gtsrb_graphs/e2_graphs_dec/\""
   ]
  },
  {
   "cell_type": "code",
   "execution_count": null,
   "id": "bc3a0bf7",
   "metadata": {},
   "outputs": [],
   "source": [
    "linestyles = ['solid','dotted','dashed','dashdot']\n",
    "colors =['k','k','k','k']"
   ]
  },
  {
   "cell_type": "code",
   "execution_count": null,
   "id": "fde130ed",
   "metadata": {},
   "outputs": [],
   "source": [
    "#configuration 1\n",
    "\"\"\"\n",
    "6) Incremental guided retraining starting from the original model using only the new adversarial inputs.\n",
    "Incremental training, starting with the previous trained model. Using at each iteration a subset of the new inputs.\n",
    "\"\"\"\n",
    "import matplotlib.pyplot as plt\n",
    "import matplotlib.patches as mpatches\n",
    "from matplotlib.patches import Patch\n",
    "from matplotlib.lines import Line2D\n",
    "\n",
    "#metric = \"accuracy\" # accuracy loss\n",
    "my_metrics =[\"accuracy\",\"loss\",\"precision\",\"recall\"]\n",
    "\n",
    "for metric in my_metrics:\n",
    "    plt.clf()\n",
    "    plt.plot(n_inputs,df_evaluate_lsa_0[metric],colors[0],linestyle=linestyles[0])\n",
    "    plt.plot(n_inputs,df_evaluate_dsa_0[metric],colors[1],linestyle=linestyles[1])\n",
    "    plt.plot(n_inputs,df_evaluate_random_0[metric],colors[2],linestyle=linestyles[2])\n",
    "    plt.plot(n_inputs,df_evaluate_nc_0[metric],colors[3],linestyle=linestyles[3])\n",
    "\n",
    "\n",
    "    legend_elements = [Line2D([0], [0], color='k', label='LSA',ls = linestyles[0]),\n",
    "                   Line2D([0], [0], color='k', label='DSA',ls = linestyles[1]),\n",
    "                   Line2D([0], [0], color='k', label='Random',ls = linestyles[2]),\n",
    "                   Line2D([0], [0], color='k', label='NC',ls = linestyles[3])]\n",
    "\n",
    "\n",
    "\n",
    "    plt.legend(handles=legend_elements)#\n",
    "    plt.title(metric + \" with test set of adversarial examples FGSM\")\n",
    "    plt.xlim([0, 37000])\n",
    "    #plt.ylim([0, 1])\n",
    "    plt.xlabel('number of inputs')\n",
    "    plt.ylabel(metric)\n",
    "    plt.savefig(\"gtsrb_c1_\"+metric + \"_0.svg\")\n",
    "    plt.show()"
   ]
  },
  {
   "cell_type": "code",
   "execution_count": null,
   "id": "38563782",
   "metadata": {},
   "outputs": [],
   "source": [
    "#configuration 1\n",
    "\"\"\"\n",
    "6) Incremental guided retraining starting from the original model using only the new adversarial inputs.\n",
    "Incremental training, starting with the previous trained model. Using at each iteration a subset of the new inputs.\n",
    "\"\"\"\n",
    "import matplotlib.pyplot as plt\n",
    "import matplotlib.patches as mpatches\n",
    "\n",
    "my_metrics =[\"accuracy\",\"loss\",\"precision\",\"recall\"]\n",
    "\n",
    "for metric in my_metrics:\n",
    "    \n",
    "#metric = \"accuracy\" # accuracy loss\n",
    "    plt.clf()\n",
    "    plt.plot(n_inputs,df_evaluate_lsa_1[metric],colors[0],linestyle=linestyles[0])\n",
    "    plt.plot(n_inputs,df_evaluate_dsa_1[metric],colors[1],linestyle=linestyles[1])\n",
    "    plt.plot(n_inputs,df_evaluate_random_1[metric],colors[2],linestyle=linestyles[2])\n",
    "    plt.plot(n_inputs,df_evaluate_nc_1[metric],colors[3],linestyle=linestyles[3])\n",
    "\n",
    "    legend_elements = [Line2D([0], [0], color='k', label='LSA',ls = linestyles[0]),\n",
    "                   Line2D([0], [0], color='k', label='DSA',ls = linestyles[1]),\n",
    "                   Line2D([0], [0], color='k', label='Random',ls = linestyles[2]),\n",
    "                   Line2D([0], [0], color='k', label='NC',ls = linestyles[3])]\n",
    "\n",
    "\n",
    "\n",
    "    plt.legend(handles=legend_elements)#\n",
    "    plt.title(metric + \" with original set\")\n",
    "    plt.xlim([0, 37000])\n",
    "    #plt.ylim([0, 1])\n",
    "    plt.xlabel('number of inputs')\n",
    "    plt.ylabel(metric)\n",
    "    plt.savefig(\"gtsrb_c1_\"+metric + \"_1.svg\")\n",
    "    plt.show()"
   ]
  },
  {
   "cell_type": "code",
   "execution_count": null,
   "id": "884a1d99",
   "metadata": {},
   "outputs": [],
   "source": [
    "#adversarial jsma test set\n",
    "#configuration 3\n",
    "\"\"\"\n",
    "6) Incremental guided retraining starting from the original model using only the new adversarial inputs.\n",
    "Incremental training, starting with the previous trained model. Using at each iteration a subset of the new inputs.\n",
    "\"\"\"\n",
    "import matplotlib.pyplot as plt\n",
    "import matplotlib.patches as mpatches\n",
    "\n",
    "plt.plot(n_inputs,accuracy_lsa_3,colors[0],linestyle=linestyles[0])\n",
    "plt.plot(n_inputs,accuracy_dsa_3,colors[1],linestyle=linestyles[1])\n",
    "plt.plot(n_inputs,accuracy_random_3,colors[2],linestyle=linestyles[2])\n",
    "plt.plot(n_inputs,accuracy_nc_3,colors[3],linestyle=linestyles[3])\n",
    "\n",
    "\n",
    "legend_elements = [Line2D([0], [0], color='k', label='LSA',ls = linestyles[0]),\n",
    "                   Line2D([0], [0], color='k', label='DSA',ls = linestyles[1]),\n",
    "                   Line2D([0], [0], color='k', label='Random',ls = linestyles[2]),\n",
    "                   Line2D([0], [0], color='k', label='NC',ls = linestyles[3])]\n",
    "\n",
    "\n",
    "\n",
    "plt.legend(handles=legend_elements)#\n",
    "plt.title(\"accuracy with both sets\")\n",
    "\n",
    "print(n_inputs[np.argmax(accuracy_lsa_3)],accuracy_lsa_3.max())\n",
    "print(n_inputs[np.argmax(accuracy_dsa_3)],accuracy_dsa_3.max())\n",
    "print(n_inputs[np.argmax(accuracy_random_3)],accuracy_random_3.max())\n",
    "print(n_inputs[np.argmax(accuracy_nc_3)],accuracy_nc_3.max())\n",
    "\n",
    "plt.plot(n_inputs[np.argmax(accuracy_lsa_3)],accuracy_lsa_3.max(),'-kD')\n",
    "plt.plot(n_inputs[np.argmax(accuracy_dsa_3)],accuracy_dsa_3.max(),'-ko')\n",
    "plt.plot(n_inputs[np.argmax(accuracy_random_3)],accuracy_random_3.max(),'-kv')\n",
    "plt.plot(n_inputs[np.argmax(accuracy_nc_3)],accuracy_nc_3.max(),'-kp')\n",
    "\n",
    "plt.xlabel('number of inputs')\n",
    "plt.ylabel('accuracy')\n",
    "plt.xlim([0, 37000])\n",
    "#plt.ylim([0, 1])\n",
    "\n",
    "plt.savefig(\"gtsrb_c1_\"+\"accuracy\" + \"_both.svg\")\n",
    "\n",
    "plt.show()"
   ]
  },
  {
   "cell_type": "markdown",
   "id": "02c81771",
   "metadata": {},
   "source": [
    "## Saving models"
   ]
  },
  {
   "cell_type": "code",
   "execution_count": null,
   "id": "ef05a059",
   "metadata": {},
   "outputs": [],
   "source": [
    "new_model_lsa_dir  = \"D:/models/gtsrb_models/C1/gtsrb_model_c1_sep_lsa_e2\"\n",
    "i=0\n",
    "\n",
    "for model in models_lsa:\n",
    "    model.save(new_model_lsa_dir+\"_\"+str(i))\n",
    "    i+=1"
   ]
  },
  {
   "cell_type": "code",
   "execution_count": null,
   "id": "6464778f",
   "metadata": {},
   "outputs": [],
   "source": [
    "new_model_dsa_dir  = \"D:/models/gtsrb_models/C1/gtsrb_model_c1_sep_dsa_e2\"\n",
    "\n",
    "i=0\n",
    "for model in models_dsa:\n",
    "    model.save(new_model_dsa_dir+\"_\"+str(i))\n",
    "    i+=1"
   ]
  },
  {
   "cell_type": "code",
   "execution_count": null,
   "id": "f6406565",
   "metadata": {},
   "outputs": [],
   "source": [
    "new_model_random_dir  = \"D:/models/gtsrb_models/C1/gtsrb_model_c1_sep_random_e2\"\n",
    "\n",
    "i=0\n",
    "for model in models_random:\n",
    "    model.save(new_model_random_dir+\"_\"+str(i))\n",
    "    i+=1"
   ]
  },
  {
   "cell_type": "code",
   "execution_count": null,
   "id": "2c03ee7e",
   "metadata": {},
   "outputs": [],
   "source": [
    "new_model_nc_dir  = \"D:/models/gtsrb_models/C1/gtsrb_model_c1_sep_nc_e2\"\n",
    "\n",
    "i=0\n",
    "for model in models_nc:\n",
    "    model.save(new_model_nc_dir+\"_\"+str(i))\n",
    "    i+=1"
   ]
  }
 ],
 "metadata": {
  "kernelspec": {
   "display_name": "Python 3",
   "language": "python",
   "name": "python3"
  },
  "language_info": {
   "codemirror_mode": {
    "name": "ipython",
    "version": 3
   },
   "file_extension": ".py",
   "mimetype": "text/x-python",
   "name": "python",
   "nbconvert_exporter": "python",
   "pygments_lexer": "ipython3",
   "version": "3.8.8"
  }
 },
 "nbformat": 4,
 "nbformat_minor": 5
}
