{
 "cells": [
  {
   "cell_type": "code",
   "execution_count": 1,
   "id": "ad95d3c7",
   "metadata": {},
   "outputs": [],
   "source": [
    "import argparse\n",
    "\n",
    "import numpy as np\n",
    "import tensorflow as tf\n",
    "import keras.backend as K\n",
    "\n",
    "import matplotlib.pyplot as plt\n",
    "\n",
    "from keras.utils import np_utils\n",
    "from keras.models import Sequential\n",
    "from keras.layers import Dense, Dropout, Activation, Flatten, Conv2D, MaxPooling2D\n",
    "from keras.regularizers import l2\n",
    "\n",
    "import glob\n",
    "import os\n",
    "import cv2\n",
    "import keras\n",
    "\n",
    "\n",
    "import time\n",
    "import argparse\n",
    "\n",
    "from tqdm import tqdm\n",
    "\n",
    "from keras.models import load_model, Model\n"
   ]
  },
  {
   "cell_type": "code",
   "execution_count": 2,
   "id": "8d035d9c",
   "metadata": {},
   "outputs": [
    {
     "name": "stdout",
     "output_type": "stream",
     "text": [
      "C:\\Users\\fjdur\\Documents\\utils\n"
     ]
    }
   ],
   "source": [
    "cd C:/Users/fjdur/Documents/utils/"
   ]
  },
  {
   "cell_type": "code",
   "execution_count": 3,
   "id": "5d1f761f",
   "metadata": {},
   "outputs": [
    {
     "name": "stdout",
     "output_type": "stream",
     "text": [
      "2.5.0\n",
      "keras\n",
      "2.5.0\n"
     ]
    }
   ],
   "source": [
    "import utils_guided_retraining as utils"
   ]
  },
  {
   "cell_type": "code",
   "execution_count": 4,
   "id": "37b911ae",
   "metadata": {},
   "outputs": [],
   "source": [
    "dataset = \"intel\""
   ]
  },
  {
   "cell_type": "code",
   "execution_count": 5,
   "id": "5067d05c",
   "metadata": {},
   "outputs": [],
   "source": [
    "x_test,y_test = utils.get_data(dataset,\"Test\")"
   ]
  },
  {
   "cell_type": "code",
   "execution_count": 6,
   "id": "0fa4ca3a",
   "metadata": {},
   "outputs": [],
   "source": [
    "x_train_and_adversary,y_train_and_adversary = utils.get_data(dataset,\"Train_and_adversary\")"
   ]
  },
  {
   "cell_type": "code",
   "execution_count": 7,
   "id": "98036191",
   "metadata": {},
   "outputs": [],
   "source": [
    "x_test_and_adversary,y_test_and_adversary = utils.get_adversarial_data(dataset,'Test_adversarial') "
   ]
  },
  {
   "cell_type": "code",
   "execution_count": 8,
   "id": "19d492ed",
   "metadata": {},
   "outputs": [],
   "source": [
    "\n",
    "model_dir = \"C:/Users/fjdur/Documents/upc-july/models/tf_model_25-06/\"\n",
    "if(dataset == 'gtsrb'):\n",
    "    model_dir = \"C:/Users/fjdur/Documents/upc-july/models/tf_model_25-06\"\n",
    "elif(dataset == 'intel'):\n",
    "    model_dir = \"C:/Users/fjdur/Documents/upc-july/models/intel_model_21_10\"\n",
    "elif(dataset == 'mnist'):\n",
    "    model_dir = \"C:/Users/fjdur/Documents/upc-july/models/models2\"\n",
    "elif(dataset == 'cifar'):\n",
    "    model_dir = \"C:/Users/fjdur/Documents/upc-july/models/model_02\"\n"
   ]
  },
  {
   "cell_type": "code",
   "execution_count": 9,
   "id": "57c02559",
   "metadata": {},
   "outputs": [
    {
     "name": "stdout",
     "output_type": "stream",
     "text": [
      "C:/Users/fjdur/Documents/upc-july/models/intel_model_21_10\n",
      "Model loaded correctly\n"
     ]
    }
   ],
   "source": [
    "print(model_dir)\n",
    "model_original = utils.My_model(dataset,True, model_dir)"
   ]
  },
  {
   "cell_type": "markdown",
   "id": "84bc1203",
   "metadata": {},
   "source": [
    "## Loading models"
   ]
  },
  {
   "cell_type": "code",
   "execution_count": 10,
   "id": "3a3b0a3b",
   "metadata": {},
   "outputs": [],
   "source": [
    "data_dir = \"D:/models/aug_22\"\n",
    "\n",
    "config = \"C1\"\n",
    "config_lc = \"c1\"\n",
    "num_models = 20"
   ]
  },
  {
   "cell_type": "code",
   "execution_count": 12,
   "id": "a79de2ac",
   "metadata": {},
   "outputs": [
    {
     "name": "stdout",
     "output_type": "stream",
     "text": [
      "D:/models/aug_22/intel/C1/intel_model_c1_aug_lsa_e1_0\n",
      "Model loaded correctly\n",
      "D:/models/aug_22/intel/C1/intel_model_c1_aug_lsa_e1_1\n",
      "Model loaded correctly\n",
      "D:/models/aug_22/intel/C1/intel_model_c1_aug_lsa_e1_2\n",
      "Model loaded correctly\n",
      "D:/models/aug_22/intel/C1/intel_model_c1_aug_lsa_e1_3\n",
      "Model loaded correctly\n",
      "D:/models/aug_22/intel/C1/intel_model_c1_aug_lsa_e1_4\n",
      "Model loaded correctly\n",
      "D:/models/aug_22/intel/C1/intel_model_c1_aug_lsa_e1_5\n",
      "Model loaded correctly\n",
      "D:/models/aug_22/intel/C1/intel_model_c1_aug_lsa_e1_6\n",
      "Model loaded correctly\n",
      "D:/models/aug_22/intel/C1/intel_model_c1_aug_lsa_e1_7\n",
      "Model loaded correctly\n",
      "D:/models/aug_22/intel/C1/intel_model_c1_aug_lsa_e1_8\n",
      "Model loaded correctly\n",
      "D:/models/aug_22/intel/C1/intel_model_c1_aug_lsa_e1_9\n",
      "Model loaded correctly\n",
      "D:/models/aug_22/intel/C1/intel_model_c1_aug_lsa_e1_10\n",
      "Model loaded correctly\n",
      "D:/models/aug_22/intel/C1/intel_model_c1_aug_lsa_e1_11\n",
      "Model loaded correctly\n",
      "D:/models/aug_22/intel/C1/intel_model_c1_aug_lsa_e1_12\n",
      "Model loaded correctly\n",
      "D:/models/aug_22/intel/C1/intel_model_c1_aug_lsa_e1_13\n",
      "Model loaded correctly\n",
      "D:/models/aug_22/intel/C1/intel_model_c1_aug_lsa_e1_14\n",
      "Model loaded correctly\n",
      "D:/models/aug_22/intel/C1/intel_model_c1_aug_lsa_e1_15\n",
      "Model loaded correctly\n",
      "D:/models/aug_22/intel/C1/intel_model_c1_aug_lsa_e1_16\n",
      "Model loaded correctly\n",
      "D:/models/aug_22/intel/C1/intel_model_c1_aug_lsa_e1_17\n",
      "Model loaded correctly\n",
      "D:/models/aug_22/intel/C1/intel_model_c1_aug_lsa_e1_18\n",
      "Model loaded correctly\n",
      "D:/models/aug_22/intel/C1/intel_model_c1_aug_lsa_e1_19\n",
      "Model loaded correctly\n"
     ]
    }
   ],
   "source": [
    "loading = True\n",
    "\n",
    "models_lsa = []\n",
    "\n",
    "if loading:\n",
    "    for i in range(num_models):\n",
    "        model_lsa_dir = data_dir+\"/\"+dataset+\"/C1/\"+dataset+\"_model_c1_aug_lsa_e1_\"+str(i)\n",
    "        print(model_lsa_dir)\n",
    "        model =utils.My_model(dataset,True,model_lsa_dir)\n",
    "        model.model.compile(loss= 'categorical_crossentropy', optimizer = 'rmsprop', metrics = ['accuracy',tf.keras.metrics.Precision(), tf.keras.metrics.Recall()])\n",
    "        models_lsa.append(model)\n",
    "       \n",
    "    "
   ]
  },
  {
   "cell_type": "code",
   "execution_count": 13,
   "id": "1347e307",
   "metadata": {},
   "outputs": [
    {
     "data": {
      "text/plain": [
       "20"
      ]
     },
     "execution_count": 13,
     "metadata": {},
     "output_type": "execute_result"
    }
   ],
   "source": [
    "len(models_lsa)"
   ]
  },
  {
   "cell_type": "code",
   "execution_count": 14,
   "id": "e3ff7377",
   "metadata": {},
   "outputs": [
    {
     "name": "stdout",
     "output_type": "stream",
     "text": [
      "D:/models/aug_22/intel/C1/intel_model_c1_aug_dsa_e1_0\n",
      "Model loaded correctly\n",
      "D:/models/aug_22/intel/C1/intel_model_c1_aug_dsa_e1_1\n",
      "Model loaded correctly\n",
      "D:/models/aug_22/intel/C1/intel_model_c1_aug_dsa_e1_2\n",
      "Model loaded correctly\n",
      "D:/models/aug_22/intel/C1/intel_model_c1_aug_dsa_e1_3\n",
      "Model loaded correctly\n",
      "D:/models/aug_22/intel/C1/intel_model_c1_aug_dsa_e1_4\n",
      "Model loaded correctly\n",
      "D:/models/aug_22/intel/C1/intel_model_c1_aug_dsa_e1_5\n",
      "Model loaded correctly\n",
      "D:/models/aug_22/intel/C1/intel_model_c1_aug_dsa_e1_6\n",
      "Model loaded correctly\n",
      "D:/models/aug_22/intel/C1/intel_model_c1_aug_dsa_e1_7\n",
      "Model loaded correctly\n",
      "D:/models/aug_22/intel/C1/intel_model_c1_aug_dsa_e1_8\n",
      "Model loaded correctly\n",
      "D:/models/aug_22/intel/C1/intel_model_c1_aug_dsa_e1_9\n",
      "Model loaded correctly\n",
      "D:/models/aug_22/intel/C1/intel_model_c1_aug_dsa_e1_10\n",
      "Model loaded correctly\n",
      "D:/models/aug_22/intel/C1/intel_model_c1_aug_dsa_e1_11\n",
      "Model loaded correctly\n",
      "D:/models/aug_22/intel/C1/intel_model_c1_aug_dsa_e1_12\n",
      "Model loaded correctly\n",
      "D:/models/aug_22/intel/C1/intel_model_c1_aug_dsa_e1_13\n",
      "Model loaded correctly\n",
      "D:/models/aug_22/intel/C1/intel_model_c1_aug_dsa_e1_14\n",
      "Model loaded correctly\n",
      "D:/models/aug_22/intel/C1/intel_model_c1_aug_dsa_e1_15\n",
      "Model loaded correctly\n",
      "D:/models/aug_22/intel/C1/intel_model_c1_aug_dsa_e1_16\n",
      "Model loaded correctly\n",
      "D:/models/aug_22/intel/C1/intel_model_c1_aug_dsa_e1_17\n",
      "Model loaded correctly\n",
      "D:/models/aug_22/intel/C1/intel_model_c1_aug_dsa_e1_18\n",
      "Model loaded correctly\n",
      "D:/models/aug_22/intel/C1/intel_model_c1_aug_dsa_e1_19\n",
      "Model loaded correctly\n"
     ]
    }
   ],
   "source": [
    "loading = True\n",
    "\n",
    "models_dsa = []\n",
    "\n",
    "if loading:\n",
    "    for i in range(num_models):\n",
    "        #model_dsa_dir = \"D:/models/gtsrb_models/C1/gtsrb_model_c1_sep_dsa_e2_\"+str(i)\n",
    "        model_dsa_dir = data_dir+\"/\"+dataset+\"/C1/\"+dataset+\"_model_c1_aug_dsa_e1_\"+str(i)\n",
    "        print(model_dsa_dir)\n",
    "        model =utils.My_model(dataset,True,model_dsa_dir)\n",
    "        model.model.compile(loss= 'categorical_crossentropy', optimizer = 'rmsprop', metrics = ['accuracy',tf.keras.metrics.Precision(), tf.keras.metrics.Recall()])\n",
    "        models_dsa.append(model)\n",
    "       \n",
    "\n",
    "    "
   ]
  },
  {
   "cell_type": "code",
   "execution_count": 15,
   "id": "a716e996",
   "metadata": {
    "scrolled": true
   },
   "outputs": [
    {
     "name": "stdout",
     "output_type": "stream",
     "text": [
      "D:/models/aug_22/intel/C1/intel_model_c1_aug_dg_e1_0\n",
      "Model loaded correctly\n",
      "D:/models/aug_22/intel/C1/intel_model_c1_aug_dg_e1_1\n",
      "Model loaded correctly\n",
      "D:/models/aug_22/intel/C1/intel_model_c1_aug_dg_e1_2\n",
      "Model loaded correctly\n",
      "D:/models/aug_22/intel/C1/intel_model_c1_aug_dg_e1_3\n",
      "Model loaded correctly\n",
      "D:/models/aug_22/intel/C1/intel_model_c1_aug_dg_e1_4\n",
      "Model loaded correctly\n",
      "D:/models/aug_22/intel/C1/intel_model_c1_aug_dg_e1_5\n",
      "Model loaded correctly\n",
      "D:/models/aug_22/intel/C1/intel_model_c1_aug_dg_e1_6\n",
      "Model loaded correctly\n",
      "D:/models/aug_22/intel/C1/intel_model_c1_aug_dg_e1_7\n",
      "Model loaded correctly\n",
      "D:/models/aug_22/intel/C1/intel_model_c1_aug_dg_e1_8\n",
      "Model loaded correctly\n",
      "D:/models/aug_22/intel/C1/intel_model_c1_aug_dg_e1_9\n",
      "Model loaded correctly\n",
      "D:/models/aug_22/intel/C1/intel_model_c1_aug_dg_e1_10\n",
      "Model loaded correctly\n",
      "D:/models/aug_22/intel/C1/intel_model_c1_aug_dg_e1_11\n",
      "Model loaded correctly\n",
      "D:/models/aug_22/intel/C1/intel_model_c1_aug_dg_e1_12\n",
      "Model loaded correctly\n",
      "D:/models/aug_22/intel/C1/intel_model_c1_aug_dg_e1_13\n",
      "Model loaded correctly\n",
      "D:/models/aug_22/intel/C1/intel_model_c1_aug_dg_e1_14\n",
      "Model loaded correctly\n",
      "D:/models/aug_22/intel/C1/intel_model_c1_aug_dg_e1_15\n",
      "Model loaded correctly\n",
      "D:/models/aug_22/intel/C1/intel_model_c1_aug_dg_e1_16\n",
      "Model loaded correctly\n",
      "D:/models/aug_22/intel/C1/intel_model_c1_aug_dg_e1_17\n",
      "Model loaded correctly\n",
      "D:/models/aug_22/intel/C1/intel_model_c1_aug_dg_e1_18\n",
      "Model loaded correctly\n",
      "D:/models/aug_22/intel/C1/intel_model_c1_aug_dg_e1_19\n",
      "Model loaded correctly\n"
     ]
    }
   ],
   "source": [
    "loading = True\n",
    "\n",
    "models_dg = []\n",
    "\n",
    "if loading:\n",
    "    for i in range(num_models):\n",
    "        #model_dg_dir = \"D:/models/aug_22/gtsrb/C1/gtsrb_model_c1_aug_gn_e1_\"+str(i)\n",
    "        model_dg_dir = data_dir+\"/\"+dataset+\"/C1/\"+dataset+\"_model_c1_aug_dg_e1_\"+str(i)\n",
    "        \n",
    "        print(model_dg_dir)\n",
    "        model =utils.My_model(dataset,True,model_dg_dir)\n",
    "        model.model.compile(loss= 'categorical_crossentropy', optimizer = 'rmsprop', metrics = ['accuracy',tf.keras.metrics.Precision(), tf.keras.metrics.Recall()])\n",
    "        models_dg.append(model)\n",
    "       \n",
    "    "
   ]
  },
  {
   "cell_type": "code",
   "execution_count": 16,
   "id": "a5a45e17",
   "metadata": {},
   "outputs": [
    {
     "name": "stdout",
     "output_type": "stream",
     "text": [
      "D:/models/aug_22/intel/C1/intel_model_c1_aug_se_e1_0\n",
      "Model loaded correctly\n",
      "D:/models/aug_22/intel/C1/intel_model_c1_aug_se_e1_1\n",
      "Model loaded correctly\n",
      "D:/models/aug_22/intel/C1/intel_model_c1_aug_se_e1_2\n",
      "Model loaded correctly\n",
      "D:/models/aug_22/intel/C1/intel_model_c1_aug_se_e1_3\n",
      "Model loaded correctly\n",
      "D:/models/aug_22/intel/C1/intel_model_c1_aug_se_e1_4\n",
      "Model loaded correctly\n",
      "D:/models/aug_22/intel/C1/intel_model_c1_aug_se_e1_5\n",
      "Model loaded correctly\n",
      "D:/models/aug_22/intel/C1/intel_model_c1_aug_se_e1_6\n",
      "Model loaded correctly\n",
      "D:/models/aug_22/intel/C1/intel_model_c1_aug_se_e1_7\n",
      "Model loaded correctly\n",
      "D:/models/aug_22/intel/C1/intel_model_c1_aug_se_e1_8\n",
      "Model loaded correctly\n",
      "D:/models/aug_22/intel/C1/intel_model_c1_aug_se_e1_9\n",
      "Model loaded correctly\n",
      "D:/models/aug_22/intel/C1/intel_model_c1_aug_se_e1_10\n",
      "Model loaded correctly\n",
      "D:/models/aug_22/intel/C1/intel_model_c1_aug_se_e1_11\n",
      "Model loaded correctly\n",
      "D:/models/aug_22/intel/C1/intel_model_c1_aug_se_e1_12\n",
      "Model loaded correctly\n",
      "D:/models/aug_22/intel/C1/intel_model_c1_aug_se_e1_13\n",
      "Model loaded correctly\n",
      "D:/models/aug_22/intel/C1/intel_model_c1_aug_se_e1_14\n",
      "Model loaded correctly\n",
      "D:/models/aug_22/intel/C1/intel_model_c1_aug_se_e1_15\n",
      "Model loaded correctly\n",
      "D:/models/aug_22/intel/C1/intel_model_c1_aug_se_e1_16\n",
      "Model loaded correctly\n",
      "D:/models/aug_22/intel/C1/intel_model_c1_aug_se_e1_17\n",
      "Model loaded correctly\n",
      "D:/models/aug_22/intel/C1/intel_model_c1_aug_se_e1_18\n",
      "Model loaded correctly\n",
      "D:/models/aug_22/intel/C1/intel_model_c1_aug_se_e1_19\n",
      "Model loaded correctly\n"
     ]
    }
   ],
   "source": [
    "loading = True\n",
    "\n",
    "models_se = []\n",
    "\n",
    "if loading:\n",
    "    for i in range(num_models):\n",
    "        \n",
    "        model_se_dir = data_dir+\"/\"+dataset+\"/C1/\"+dataset+\"_model_c1_aug_se_e1_\"+str(i)\n",
    "        \n",
    "        print(model_se_dir)\n",
    "        model =utils.My_model(dataset,True,model_se_dir)\n",
    "        model.model.compile(loss= 'categorical_crossentropy', optimizer = 'rmsprop', metrics = ['accuracy',tf.keras.metrics.Precision(), tf.keras.metrics.Recall()])\n",
    "        models_se.append(model)"
   ]
  },
  {
   "cell_type": "code",
   "execution_count": 17,
   "id": "a4ac1ede",
   "metadata": {},
   "outputs": [
    {
     "name": "stdout",
     "output_type": "stream",
     "text": [
      "D:/models/aug_22/intel/C1/intel_model_c1_aug_random_e1_0\n",
      "Model loaded correctly\n",
      "D:/models/aug_22/intel/C1/intel_model_c1_aug_random_e1_1\n",
      "Model loaded correctly\n",
      "D:/models/aug_22/intel/C1/intel_model_c1_aug_random_e1_2\n",
      "Model loaded correctly\n",
      "D:/models/aug_22/intel/C1/intel_model_c1_aug_random_e1_3\n",
      "Model loaded correctly\n",
      "D:/models/aug_22/intel/C1/intel_model_c1_aug_random_e1_4\n",
      "Model loaded correctly\n",
      "D:/models/aug_22/intel/C1/intel_model_c1_aug_random_e1_5\n",
      "Model loaded correctly\n",
      "D:/models/aug_22/intel/C1/intel_model_c1_aug_random_e1_6\n",
      "Model loaded correctly\n",
      "D:/models/aug_22/intel/C1/intel_model_c1_aug_random_e1_7\n",
      "Model loaded correctly\n",
      "D:/models/aug_22/intel/C1/intel_model_c1_aug_random_e1_8\n",
      "Model loaded correctly\n",
      "D:/models/aug_22/intel/C1/intel_model_c1_aug_random_e1_9\n",
      "Model loaded correctly\n",
      "D:/models/aug_22/intel/C1/intel_model_c1_aug_random_e1_10\n",
      "Model loaded correctly\n",
      "D:/models/aug_22/intel/C1/intel_model_c1_aug_random_e1_11\n",
      "Model loaded correctly\n",
      "D:/models/aug_22/intel/C1/intel_model_c1_aug_random_e1_12\n",
      "Model loaded correctly\n",
      "D:/models/aug_22/intel/C1/intel_model_c1_aug_random_e1_13\n",
      "Model loaded correctly\n",
      "D:/models/aug_22/intel/C1/intel_model_c1_aug_random_e1_14\n",
      "Model loaded correctly\n",
      "D:/models/aug_22/intel/C1/intel_model_c1_aug_random_e1_15\n",
      "Model loaded correctly\n",
      "D:/models/aug_22/intel/C1/intel_model_c1_aug_random_e1_16\n",
      "Model loaded correctly\n",
      "D:/models/aug_22/intel/C1/intel_model_c1_aug_random_e1_17\n",
      "Model loaded correctly\n",
      "D:/models/aug_22/intel/C1/intel_model_c1_aug_random_e1_18\n",
      "Model loaded correctly\n",
      "D:/models/aug_22/intel/C1/intel_model_c1_aug_random_e1_19\n",
      "Model loaded correctly\n"
     ]
    }
   ],
   "source": [
    "loading = True\n",
    "\n",
    "models_random = []\n",
    "\n",
    "if loading:\n",
    "    for i in range(num_models):\n",
    "        #model_random_dir = \"D:/models/aug_22/gtsrb/C1/gtsrb_model_c1_aug_random_e1_\"+str(i)\n",
    "        model_random_dir = data_dir+\"/\"+dataset+\"/C1/\"+dataset+\"_model_c1_aug_random_e1_\"+str(i)\n",
    "        \n",
    "        print(model_random_dir)\n",
    "        model =utils.My_model(dataset,True,model_random_dir)\n",
    "        model.model.compile(loss= 'categorical_crossentropy', optimizer = 'rmsprop', metrics = ['accuracy',tf.keras.metrics.Precision(), tf.keras.metrics.Recall()])\n",
    "        models_random.append(model)\n",
    "       "
   ]
  },
  {
   "cell_type": "code",
   "execution_count": 18,
   "id": "f1b143c0",
   "metadata": {
    "scrolled": true
   },
   "outputs": [
    {
     "name": "stdout",
     "output_type": "stream",
     "text": [
      "D:/models/aug_22/intel/C1/intel_model_c1_aug_nc_e1_0\n",
      "Model loaded correctly\n",
      "D:/models/aug_22/intel/C1/intel_model_c1_aug_nc_e1_1\n",
      "Model loaded correctly\n",
      "D:/models/aug_22/intel/C1/intel_model_c1_aug_nc_e1_2\n",
      "Model loaded correctly\n",
      "D:/models/aug_22/intel/C1/intel_model_c1_aug_nc_e1_3\n",
      "Model loaded correctly\n",
      "D:/models/aug_22/intel/C1/intel_model_c1_aug_nc_e1_4\n",
      "Model loaded correctly\n",
      "D:/models/aug_22/intel/C1/intel_model_c1_aug_nc_e1_5\n",
      "Model loaded correctly\n",
      "D:/models/aug_22/intel/C1/intel_model_c1_aug_nc_e1_6\n",
      "Model loaded correctly\n",
      "D:/models/aug_22/intel/C1/intel_model_c1_aug_nc_e1_7\n",
      "Model loaded correctly\n",
      "D:/models/aug_22/intel/C1/intel_model_c1_aug_nc_e1_8\n",
      "Model loaded correctly\n",
      "D:/models/aug_22/intel/C1/intel_model_c1_aug_nc_e1_9\n",
      "Model loaded correctly\n",
      "D:/models/aug_22/intel/C1/intel_model_c1_aug_nc_e1_10\n",
      "Model loaded correctly\n",
      "D:/models/aug_22/intel/C1/intel_model_c1_aug_nc_e1_11\n",
      "Model loaded correctly\n",
      "D:/models/aug_22/intel/C1/intel_model_c1_aug_nc_e1_12\n",
      "Model loaded correctly\n",
      "D:/models/aug_22/intel/C1/intel_model_c1_aug_nc_e1_13\n",
      "Model loaded correctly\n",
      "D:/models/aug_22/intel/C1/intel_model_c1_aug_nc_e1_14\n",
      "Model loaded correctly\n",
      "D:/models/aug_22/intel/C1/intel_model_c1_aug_nc_e1_15\n",
      "Model loaded correctly\n",
      "D:/models/aug_22/intel/C1/intel_model_c1_aug_nc_e1_16\n",
      "Model loaded correctly\n",
      "D:/models/aug_22/intel/C1/intel_model_c1_aug_nc_e1_17\n",
      "Model loaded correctly\n",
      "D:/models/aug_22/intel/C1/intel_model_c1_aug_nc_e1_18\n",
      "Model loaded correctly\n",
      "D:/models/aug_22/intel/C1/intel_model_c1_aug_nc_e1_19\n",
      "Model loaded correctly\n"
     ]
    }
   ],
   "source": [
    "loading = True\n",
    "\n",
    "models_nc = []\n",
    "\n",
    "if loading:\n",
    "    for i in range(num_models):\n",
    "        #model_nc_dir = \"D:/models/aug_22/\"+dataset+\"/C1/\"+dataset+\"_model_c1_aug_nc_e1\"+str\n",
    "        model_nc_dir = data_dir+\"/\"+dataset+\"/C1/\"+dataset+\"_model_c1_aug_nc_e1_\"+str(i)\n",
    "        print(model_nc_dir)\n",
    "        model =utils.My_model(dataset,True,model_nc_dir)\n",
    "        model.model.compile(loss= 'categorical_crossentropy', optimizer = 'rmsprop', metrics = ['accuracy',tf.keras.metrics.Precision(), tf.keras.metrics.Recall()])\n",
    "        models_nc.append(model)"
   ]
  },
  {
   "cell_type": "markdown",
   "id": "833fda77",
   "metadata": {},
   "source": [
    "## Evaluating"
   ]
  },
  {
   "cell_type": "code",
   "execution_count": 19,
   "id": "750bf683",
   "metadata": {},
   "outputs": [],
   "source": [
    "model_original.model.compile(loss= 'categorical_crossentropy', optimizer = 'rmsprop', metrics = ['accuracy',tf.keras.metrics.Precision(), tf.keras.metrics.Recall()])"
   ]
  },
  {
   "cell_type": "code",
   "execution_count": 20,
   "id": "4e0bd645",
   "metadata": {},
   "outputs": [],
   "source": [
    "evaluate_lsa = []\n",
    "evaluate_dsa = []\n",
    "evaluate_dg = []\n",
    "evaluate_se = []\n",
    "evaluate_nc = []\n",
    "evaluate_random = []\n",
    "\n",
    "evaluate_lsa.append([0,0,0,0])\n",
    "evaluate_dsa.append([0,0,0,0])\n",
    "evaluate_dg.append([0,0,0,0])\n",
    "evaluate_se.append([0,0,0,0])\n",
    "evaluate_nc.append([0,0,0,0])\n",
    "evaluate_random.append([0,0,0,0])"
   ]
  },
  {
   "cell_type": "code",
   "execution_count": 21,
   "id": "d1355117",
   "metadata": {},
   "outputs": [
    {
     "name": "stdout",
     "output_type": "stream",
     "text": [
      "Evaluating for lsa\n",
      "188/188 [==============================] - 75s 52ms/step - loss: 1.3386 - accuracy: 0.5010 - precision: 0.6928 - recall: 0.1291\n",
      "188/188 [==============================] - 15s 50ms/step - loss: 1.5224 - accuracy: 0.3954 - precision_1: 0.8352 - recall_1: 0.0571\n",
      "188/188 [==============================] - 13s 41ms/step - loss: 1.4645 - accuracy: 0.4148 - precision_2: 0.7274 - recall_2: 0.5408\n",
      "188/188 [==============================] - 12s 40ms/step - loss: 1.4405 - accuracy: 0.4631 - precision_3: 0.7260 - recall_3: 0.6206\n",
      "188/188 [==============================] - 12s 39ms/step - loss: 1.2912 - accuracy: 0.5227 - precision_4: 0.6926 - recall_4: 0.5683 2s - loss: 1.2274 - accuracy: 0.5475 - p\n",
      "188/188 [==============================] - 12s 39ms/step - loss: 1.1410 - accuracy: 0.5432 - precision_5: 0.6370 - recall_5: 0.4167\n",
      "188/188 [==============================] - 12s 39ms/step - loss: 1.3486 - accuracy: 0.4717 - precision_6: 0.5510 - recall_6: 0.3276\n",
      "188/188 [==============================] - 10s 36ms/step - loss: 0.9850 - accuracy: 0.6287 - precision_7: 0.7383 - recall_7: 0.6053\n",
      "188/188 [==============================] - 10s 36ms/step - loss: 1.0286 - accuracy: 0.6073 - precision_8: 0.7351 - recall_8: 0.4867\n",
      "188/188 [==============================] - 10s 36ms/step - loss: 1.2242 - accuracy: 0.5841 - precision_9: 0.6900 - recall_9: 0.5951 1s - loss: 1.2007 - accuracy: 0.5992 - precision_9\n",
      "188/188 [==============================] - 10s 36ms/step - loss: 1.0763 - accuracy: 0.6073 - precision_10: 0.7365 - recall_10: 0.6191\n",
      "188/188 [==============================] - 10s 36ms/step - loss: 1.3466 - accuracy: 0.5735 - precision_11: 0.6852 - recall_11: 0.6197\n",
      "188/188 [==============================] - 10s 36ms/step - loss: 0.9816 - accuracy: 0.6714 - precision_12: 0.7379 - recall_12: 0.7025 4s - loss: 0.8271 - \n",
      "188/188 [==============================] - 10s 37ms/step - loss: 0.7334 - accuracy: 0.7253 - precision_13: 0.7801 - recall_13: 0.6881 1s - loss: 0.7023 - accuracy: 0.7404 - precision_1\n",
      "188/188 [==============================] - 10s 36ms/step - loss: 1.2113 - accuracy: 0.5784 - precision_14: 0.6547 - recall_14: 0.5320\n",
      "188/188 [==============================] - 11s 38ms/step - loss: 0.7259 - accuracy: 0.7505 - precision_15: 0.7935 - recall_15: 0.7355\n",
      "188/188 [==============================] - 12s 37ms/step - loss: 0.9840 - accuracy: 0.6629 - precision_16: 0.6818 - recall_16: 0.5801\n",
      "188/188 [==============================] - 12s 36ms/step - loss: 0.6371 - accuracy: 0.7765 - precision_17: 0.8028 - recall_17: 0.7134 3s - loss: 0.6345 - accuracy:\n",
      "188/188 [==============================] - 10s 36ms/step - loss: 0.5905 - accuracy: 0.7920 - precision_18: 0.8465 - recall_18: 0.7658\n",
      "188/188 [==============================] - 10s 37ms/step - loss: 1.0781 - accuracy: 0.6292 - precision_19: 0.5994 - recall_19: 0.4840 2s - loss: 1.1483 - accuracy: 0.6178 -\n",
      "Evaluating for dsa\n",
      "188/188 [==============================] - 10s 36ms/step - loss: 1.3289 - accuracy: 0.4985 - precision_20: 0.6379 - recall_20: 0.1514 6s - los - ETA: 1s - loss: 1.3375 - accuracy: 0.4959 - precision_20: 0.6162\n",
      "188/188 [==============================] - 10s 36ms/step - loss: 1.1636 - accuracy: 0.5125 - precision_21: 0.6399 - recall_21: 0.2767 1s - loss: 1.1792 - accuracy: 0.5010 - precision_21: 0.\n",
      "188/188 [==============================] - 10s 36ms/step - loss: 1.0486 - accuracy: 0.5919 - precision_22: 0.6965 - recall_22: 0.3947\n",
      "188/188 [==============================] - 10s 36ms/step - loss: 0.8691 - accuracy: 0.6748 - precision_23: 0.7793 - recall_23: 0.5668\n",
      "188/188 [==============================] - 10s 37ms/step - loss: 1.2226 - accuracy: 0.5563 - precision_24: 0.5707 - recall_24: 0.4305\n",
      "188/188 [==============================] - 10s 36ms/step - loss: 0.8616 - accuracy: 0.6872 - precision_25: 0.7497 - recall_25: 0.5650\n",
      "188/188 [==============================] - 10s 36ms/step - loss: 0.9439 - accuracy: 0.6570 - precision_26: 0.6795 - recall_26: 0.5236\n",
      "188/188 [==============================] - 10s 36ms/step - loss: 0.8022 - accuracy: 0.7114 - precision_27: 0.7660 - recall_27: 0.6067\n",
      "188/188 [==============================] - 10s 35ms/step - loss: 0.7043 - accuracy: 0.7487 - precision_28: 0.8244 - recall_28: 0.7342\n",
      "188/188 [==============================] - 10s 36ms/step - loss: 0.8734 - accuracy: 0.6895 - precision_29: 0.7624 - recall_29: 0.6747\n",
      "188/188 [==============================] - 10s 36ms/step - loss: 0.8083 - accuracy: 0.7031 - precision_30: 0.7853 - recall_30: 0.6936\n",
      "188/188 [==============================] - 10s 36ms/step - loss: 0.8176 - accuracy: 0.7220 - precision_31: 0.8234 - recall_31: 0.7512\n",
      "188/188 [==============================] - 10s 36ms/step - loss: 0.7970 - accuracy: 0.6849 - precision_32: 0.8056 - recall_32: 0.7528 5s - \n",
      "188/188 [==============================] - 10s 36ms/step - loss: 0.6228 - accuracy: 0.7769 - precision_33: 0.8595 - recall_33: 0.7637\n",
      "188/188 [==============================] - 10s 36ms/step - loss: 0.6802 - accuracy: 0.7750 - precision_34: 0.8560 - recall_34: 0.8113 3s - loss: 0.5232 - accu\n",
      "188/188 [==============================] - 10s 36ms/step - loss: 0.7503 - accuracy: 0.7397 - precision_35: 0.7853 - recall_35: 0.7018\n",
      "188/188 [==============================] - 10s 37ms/step - loss: 0.7359 - accuracy: 0.7367 - precision_36: 0.7740 - recall_36: 0.7220 1s - loss: 0.7233 - accuracy: 0.7410 - precision_36: 0.775\n",
      "188/188 [==============================] - 10s 36ms/step - loss: 0.5991 - accuracy: 0.8009 - precision_37: 0.8441 - recall_37: 0.8010 4s - lo\n",
      "188/188 [==============================] - 10s 36ms/step - loss: 0.6610 - accuracy: 0.7687 - precision_38: 0.8354 - recall_38: 0.7542\n",
      "188/188 [==============================] - 10s 36ms/step - loss: 0.5808 - accuracy: 0.8119 - precision_39: 0.8488 - recall_39: 0.8037 0s - loss: 0.5678 - accuracy: 0.8174 - precision_39: 0.8503 - recall\n",
      "Evaluating for random\n",
      "188/188 [==============================] - 10s 36ms/step - loss: 1.1988 - accuracy: 0.5089 - precision_80: 0.5878 - recall_80: 0.2658\n",
      "188/188 [==============================] - 10s 36ms/step - loss: 1.1286 - accuracy: 0.5582 - precision_81: 0.6480 - recall_81: 0.3621\n",
      "188/188 [==============================] - 10s 36ms/step - loss: 0.9241 - accuracy: 0.6391 - precision_82: 0.8017 - recall_82: 0.5405\n",
      "188/188 [==============================] - 10s 36ms/step - loss: 0.9663 - accuracy: 0.6394 - precision_83: 0.7137 - recall_83: 0.5292\n",
      "188/188 [==============================] - 10s 36ms/step - loss: 0.9199 - accuracy: 0.6727 - precision_84: 0.6598 - recall_84: 0.5620\n",
      "188/188 [==============================] - 10s 36ms/step - loss: 1.0779 - accuracy: 0.5829 - precision_85: 0.6062 - recall_85: 0.4517 0s - loss: 1.0803 - accuracy: 0.5820 - precision_85: 0.6029 - recall_\n",
      "188/188 [==============================] - 10s 36ms/step - loss: 0.8649 - accuracy: 0.6930 - precision_86: 0.6672 - recall_86: 0.5933 0s - loss: 0.8657 - accuracy: 0.6928 - precision_86: 0.6636 - recall_86: \n",
      "188/188 [==============================] - 10s 36ms/step - loss: 0.6727 - accuracy: 0.7583 - precision_87: 0.8294 - recall_87: 0.7295\n",
      "188/188 [==============================] - 10s 36ms/step - loss: 0.7316 - accuracy: 0.7392 - precision_88: 0.8160 - recall_88: 0.7047 4s - loss: 0.7066 - accuracy: 0.7609 - precision_88: 0.8318 - recall_88: 0.715 - ETA: 4s - loss: 0.7068 -\n",
      "188/188 [==============================] - 10s 38ms/step - loss: 0.7225 - accuracy: 0.7348 - precision_89: 0.7907 - recall_89: 0.7060\n",
      "188/188 [==============================] - 12s 37ms/step - loss: 0.6770 - accuracy: 0.7678 - precision_90: 0.8150 - recall_90: 0.7272 2s - loss: 0.6518 - accuracy: 0.7802 - preci\n",
      "188/188 [==============================] - 10s 37ms/step - loss: 0.6413 - accuracy: 0.7775 - precision_91: 0.8604 - recall_91: 0.7718\n",
      "188/188 [==============================] - 10s 36ms/step - loss: 0.7906 - accuracy: 0.7079 - precision_92: 0.8168 - recall_92: 0.6194\n",
      "188/188 [==============================] - 10s 36ms/step - loss: 0.7032 - accuracy: 0.7605 - precision_93: 0.7876 - recall_93: 0.7406\n",
      "188/188 [==============================] - 10s 35ms/step - loss: 0.6985 - accuracy: 0.7618 - precision_94: 0.8209 - recall_94: 0.7662 6s - loss: 0.5884 - accuracy: 0.8296 - precision_94: 0.8630 -  - ETA: 5s -\n",
      "188/188 [==============================] - 10s 36ms/step - loss: 0.7479 - accuracy: 0.7344 - precision_95: 0.7437 - recall_95: 0.6483\n",
      "188/188 [==============================] - 10s 36ms/step - loss: 0.7302 - accuracy: 0.7389 - precision_96: 0.7967 - recall_96: 0.7149 0s - loss: 0.7178 - accuracy: 0.7435 - precision_96: 0.7989 - rec\n",
      "188/188 [==============================] - 11s 38ms/step - loss: 0.6665 - accuracy: 0.7680 - precision_97: 0.8358 - recall_97: 0.7755\n",
      "188/188 [==============================] - 11s 37ms/step - loss: 0.6131 - accuracy: 0.7800 - precision_98: 0.7976 - recall_98: 0.7125\n",
      "188/188 [==============================] - 10s 35ms/step - loss: 0.6114 - accuracy: 0.7779 - precision_99: 0.7988 - recall_99: 0.7310 1s - loss: 0.6020 - accuracy: 0.7806 - precision_99: 0.79\n",
      "Evaluating for nc\n",
      "188/188 [==============================] - 10s 37ms/step - loss: 1.6361 - accuracy: 0.3859 - precision_100: 0.5984 - recall_100: 0.2685\n",
      "188/188 [==============================] - 10s 35ms/step - loss: 1.8570 - accuracy: 0.4848 - precision_101: 0.6575 - recall_101: 0.5468\n",
      "188/188 [==============================] - 10s 35ms/step - loss: 1.4910 - accuracy: 0.5386 - precision_102: 0.6828 - recall_102: 0.5521\n",
      "188/188 [==============================] - 10s 35ms/step - loss: 1.1268 - accuracy: 0.6254 - precision_103: 0.7431 - recall_103: 0.5889\n",
      "188/188 [==============================] - 10s 36ms/step - loss: 1.3358 - accuracy: 0.6129 - precision_104: 0.7248 - recall_104: 0.6294\n",
      "188/188 [==============================] - 10s 36ms/step - loss: 1.2016 - accuracy: 0.6504 - precision_105: 0.7451 - recall_105: 0.6661 0s - loss: 1.1858 - accuracy: 0.6574 - precision_105: 0.7495 - recall_105:\n",
      "188/188 [==============================] - 10s 37ms/step - loss: 1.0677 - accuracy: 0.6876 - precision_106: 0.7617 - recall_106: 0.6509\n",
      "188/188 [==============================] - 11s 37ms/step - loss: 0.8964 - accuracy: 0.7286 - precision_107: 0.7967 - recall_107: 0.7006\n",
      "188/188 [==============================] - 13s 39ms/step - loss: 0.9610 - accuracy: 0.6938 - precision_108: 0.7246 - recall_108: 0.6303\n",
      "188/188 [==============================] - 11s 37ms/step - loss: 0.8515 - accuracy: 0.7342 - precision_109: 0.8169 - recall_109: 0.7423\n",
      "188/188 [==============================] - 11s 36ms/step - loss: 1.0881 - accuracy: 0.7018 - precision_110: 0.8107 - recall_110: 0.7689\n",
      "188/188 [==============================] - 11s 36ms/step - loss: 0.9422 - accuracy: 0.7276 - precision_111: 0.8056 - recall_111: 0.6873 2s - loss: 0.8883 - accuracy: 0.7531 - preci\n",
      "188/188 [==============================] - 11s 35ms/step - loss: 1.0043 - accuracy: 0.7201 - precision_112: 0.7807 - recall_112: 0.7141\n",
      "188/188 [==============================] - 10s 35ms/step - loss: 0.6595 - accuracy: 0.7931 - precision_113: 0.8601 - recall_113: 0.8110\n",
      "188/188 [==============================] - 10s 35ms/step - loss: 0.7510 - accuracy: 0.7717 - precision_114: 0.8380 - recall_114: 0.7951 1s - loss: 0.7146 - accuracy: 0.7859 - precision_114: 0.848\n",
      "188/188 [==============================] - 10s 35ms/step - loss: 0.6832 - accuracy: 0.7746 - precision_115: 0.8402 - recall_115: 0.7378\n",
      "188/188 [==============================] - 10s 35ms/step - loss: 0.7203 - accuracy: 0.7479 - precision_116: 0.7679 - recall_116: 0.6946 5s - loss: 0.8086 - accuracy: 0.7396 - precision_ - ETA: 2s - loss: 0.7416 - accuracy: 0.7462 - precision_116: 0.7546 - reca - ETA: 1s - loss: 0.7259 - accuracy: 0.7489 - precision_116: \n",
      "188/188 [==============================] - 8s 34ms/step - loss: 0.6456 - accuracy: 0.7862 - precision_117: 0.8047 - recall_117: 0.7423: 4s - los\n",
      "188/188 [==============================] - 10s 35ms/step - loss: 0.5876 - accuracy: 0.7973 - precision_118: 0.8536 - recall_118: 0.8101 0s - loss: 0.5715 - accuracy: 0.8030 - precision_118: 0.8561 - recall_1\n",
      "188/188 [==============================] - 10s 37ms/step - loss: 0.5964 - accuracy: 0.7857 - precision_119: 0.8531 - recall_119: 0.7552 3s - loss: 0.5550 - accuracy: 0.8\n"
     ]
    }
   ],
   "source": [
    "# Metrics using adversarial test\n",
    "\n",
    "#evaluate_lsa.append(model_original.evaluate(x_test_and_adversary,y_test_and_adversary))\n",
    "#evaluate_dsa.append(model_original.evaluate(x_test_and_adversary,y_test_and_adversary))\n",
    "#evaluate_nc.append(model_original.evaluate(x_test_and_adversary,y_test_and_adversary))\n",
    "#evaluate_random.append(model_original.evaluate(x_test_and_adversary,y_test_and_adversary))\n",
    "print(\"Evaluating for lsa\")\n",
    "for model in models_lsa:\n",
    "    evaluate_lsa.append(model.evaluate(x_test_and_adversary,y_test_and_adversary))\n",
    "    \n",
    "print(\"Evaluating for dsa\")\n",
    "for model in models_dsa:\n",
    "    evaluate_dsa.append(model.evaluate(x_test_and_adversary,y_test_and_adversary))\n",
    "print(\"Evaluating for random\")\n",
    "for model in models_random:\n",
    "    evaluate_random.append(model.evaluate(x_test_and_adversary,y_test_and_adversary))\n",
    "print(\"Evaluating for nc\")\n",
    "for model in models_nc:\n",
    "    evaluate_nc.append(model.evaluate(x_test_and_adversary,y_test_and_adversary))"
   ]
  },
  {
   "cell_type": "code",
   "execution_count": 22,
   "id": "763ceacd",
   "metadata": {},
   "outputs": [
    {
     "name": "stdout",
     "output_type": "stream",
     "text": [
      "Evaluating for dg\n",
      "188/188 [==============================] - 10s 35ms/step - loss: 1.6595 - accuracy: 0.3047 - precision_40: 0.2054 - recall_40: 0.0111ETA: 5s - l\n",
      "188/188 [==============================] - 11s 37ms/step - loss: 1.3919 - accuracy: 0.4094 - precision_41: 0.4092 - recall_41: 0.2092\n",
      "188/188 [==============================] - 10s 35ms/step - loss: 1.3427 - accuracy: 0.3969 - precision_42: 0.3913 - recall_42: 0.1029\n",
      "188/188 [==============================] - 10s 35ms/step - loss: 1.1845 - accuracy: 0.5128 - precision_43: 0.6189 - recall_43: 0.2162 3s - loss: 1.1548 - accuracy: 0.5173 - preci - ETA: 0s - loss: 1.1787 - accuracy: 0.5145 - precision_43: 0.6104 - recall_43:  - ETA: 0s - loss: 1.1817 - accuracy: 0.5137 - precision_43: 0.6150 - recall_43: 0\n",
      "188/188 [==============================] - 13s 37ms/step - loss: 1.0917 - accuracy: 0.5525 - precision_44: 0.7073 - recall_44: 0.3602\n",
      "188/188 [==============================] - 11s 37ms/step - loss: 1.2346 - accuracy: 0.4890 - precision_45: 0.5149 - recall_45: 0.2396\n",
      "188/188 [==============================] - 12s 33ms/step - loss: 1.4156 - accuracy: 0.4358 - precision_46: 0.3517 - recall_46: 0.2132\n",
      "188/188 [==============================] - 11s 37ms/step - loss: 0.9845 - accuracy: 0.5714 - precision_47: 0.5534 - recall_47: 0.3879\n",
      "188/188 [==============================] - 12s 37ms/step - loss: 1.2655 - accuracy: 0.5416 - precision_48: 0.6166 - recall_48: 0.4257\n",
      "188/188 [==============================] - 13s 40ms/step - loss: 0.9603 - accuracy: 0.6234 - precision_49: 0.6535 - recall_49: 0.4141\n",
      "188/188 [==============================] - 13s 33ms/step - loss: 0.8794 - accuracy: 0.6335 - precision_50: 0.6306 - recall_50: 0.5245\n",
      "188/188 [==============================] - 12s 37ms/step - loss: 0.9076 - accuracy: 0.6620 - precision_51: 0.6816 - recall_51: 0.5382\n",
      "188/188 [==============================] - 10s 35ms/step - loss: 0.8900 - accuracy: 0.6476 - precision_52: 0.6932 - recall_52: 0.6031\n",
      "188/188 [==============================] - 10s 36ms/step - loss: 0.7002 - accuracy: 0.7458 - precision_53: 0.8144 - recall_53: 0.7075\n",
      "188/188 [==============================] - 10s 35ms/step - loss: 1.1841 - accuracy: 0.5685 - precision_54: 0.6086 - recall_54: 0.4692 0s - loss: 1.1765 - accuracy: 0.5714 - precision_54: 0.6048 - reca\n",
      "188/188 [==============================] - 10s 36ms/step - loss: 0.6972 - accuracy: 0.7505 - precision_55: 0.8243 - recall_55: 0.6849\n",
      "188/188 [==============================] - 10s 36ms/step - loss: 0.6199 - accuracy: 0.7793 - precision_56: 0.7902 - recall_56: 0.7393\n",
      "188/188 [==============================] - 10s 36ms/step - loss: 0.5739 - accuracy: 0.8029 - precision_57: 0.8326 - recall_57: 0.7845\n",
      "188/188 [==============================] - 10s 35ms/step - loss: 0.6151 - accuracy: 0.7777 - precision_58: 0.8290 - recall_58: 0.7405 3s - loss: 0.5985 - accuracy: 0.784\n",
      "188/188 [==============================] - 10s 37ms/step - loss: 0.6259 - accuracy: 0.7696 - precision_59: 0.7880 - recall_59: 0.7030\n",
      "Evaluating for se\n",
      "188/188 [==============================] - 12s 38ms/step - loss: 1.7036 - accuracy: 0.2576 - precision_60: 0.1384 - recall_60: 5.0014e-04\n",
      "188/188 [==============================] - 12s 37ms/step - loss: 1.3341 - accuracy: 0.4434 - precision_61: 0.5459 - recall_61: 0.1314 5s - loss:\n",
      "188/188 [==============================] - 10s 37ms/step - loss: 1.3681 - accuracy: 0.4208 - precision_62: 0.3792 - recall_62: 0.0625\n",
      "188/188 [==============================] - 10s 37ms/step - loss: 1.1579 - accuracy: 0.5385 - precision_63: 0.6488 - recall_63: 0.2861\n",
      "188/188 [==============================] - 10s 38ms/step - loss: 1.0607 - accuracy: 0.5782 - precision_64: 0.6567 - recall_64: 0.3333\n",
      "188/188 [==============================] - 10s 37ms/step - loss: 1.0984 - accuracy: 0.5599 - precision_65: 0.6246 - recall_65: 0.3792\n",
      "188/188 [==============================] - 10s 37ms/step - loss: 1.2834 - accuracy: 0.4975 - precision_66: 0.4725 - recall_66: 0.2682\n",
      "188/188 [==============================] - 10s 38ms/step - loss: 1.1808 - accuracy: 0.5307 - precision_67: 0.5717 - recall_67: 0.4048\n",
      "188/188 [==============================] - 11s 38ms/step - loss: 0.9417 - accuracy: 0.6215 - precision_68: 0.6443 - recall_68: 0.4492\n",
      "188/188 [==============================] - 10s 38ms/step - loss: 0.9719 - accuracy: 0.6216 - precision_69: 0.6360 - recall_69: 0.4785\n",
      "188/188 [==============================] - 11s 39ms/step - loss: 0.9566 - accuracy: 0.6130 - precision_70: 0.6186 - recall_70: 0.5045 5s - \n",
      "188/188 [==============================] - 10s 37ms/step - loss: 0.9272 - accuracy: 0.6367 - precision_71: 0.6083 - recall_71: 0.4817\n",
      "188/188 [==============================] - 11s 37ms/step - loss: 0.9334 - accuracy: 0.6528 - precision_72: 0.7056 - recall_72: 0.4387\n",
      "188/188 [==============================] - 12s 43ms/step - loss: 0.8573 - accuracy: 0.6644 - precision_73: 0.6330 - recall_73: 0.5358\n",
      "188/188 [==============================] - 10s 38ms/step - loss: 1.1831 - accuracy: 0.5814 - precision_74: 0.6512 - recall_74: 0.4093\n",
      "188/188 [==============================] - 12s 45ms/step - loss: 0.6303 - accuracy: 0.7782 - precision_75: 0.8004 - recall_75: 0.7251\n",
      "188/188 [==============================] - 11s 38ms/step - loss: 0.6043 - accuracy: 0.7922 - precision_76: 0.8239 - recall_76: 0.7592\n",
      "188/188 [==============================] - 10s 38ms/step - loss: 0.8546 - accuracy: 0.7044 - precision_77: 0.6966 - recall_77: 0.6276\n",
      "188/188 [==============================] - 11s 37ms/step - loss: 0.7057 - accuracy: 0.7391 - precision_78: 0.7357 - recall_78: 0.6713\n",
      "188/188 [==============================] - 10s 38ms/step - loss: 0.6905 - accuracy: 0.7514 - precision_79: 0.7479 - recall_79: 0.6690\n"
     ]
    }
   ],
   "source": [
    "print(\"Evaluating for dg\")\n",
    "for model in models_dg:\n",
    "    evaluate_dg.append(model.evaluate(x_test_and_adversary,y_test_and_adversary))\n",
    "    \n",
    "print(\"Evaluating for se\")\n",
    "for model in models_se:\n",
    "    evaluate_se.append(model.evaluate(x_test_and_adversary,y_test_and_adversary))\n"
   ]
  },
  {
   "cell_type": "code",
   "execution_count": 23,
   "id": "f1f34188",
   "metadata": {},
   "outputs": [
    {
     "data": {
      "text/plain": [
       "21"
      ]
     },
     "execution_count": 23,
     "metadata": {},
     "output_type": "execute_result"
    }
   ],
   "source": [
    "len(evaluate_dg)"
   ]
  },
  {
   "cell_type": "code",
   "execution_count": 24,
   "id": "5dbabf04",
   "metadata": {},
   "outputs": [
    {
     "data": {
      "text/plain": [
       "21"
      ]
     },
     "execution_count": 24,
     "metadata": {},
     "output_type": "execute_result"
    }
   ],
   "source": [
    "len(evaluate_nc)"
   ]
  },
  {
   "cell_type": "code",
   "execution_count": 25,
   "id": "517d4d11",
   "metadata": {},
   "outputs": [],
   "source": [
    "import pandas as pd\n",
    "\n",
    "df_evaluate_lsa = pd.DataFrame(np.array(evaluate_lsa),columns=[\"loss\",\"accuracy\",\"precision\",\"recall\"])\n",
    "df_evaluate_dsa = pd.DataFrame(np.array(evaluate_dsa),columns=[\"loss\",\"accuracy\",\"precision\",\"recall\"])\n",
    "df_evaluate_dg = pd.DataFrame(np.array(evaluate_dg),columns=[\"loss\",\"accuracy\",\"precision\",\"recall\"])\n",
    "df_evaluate_se = pd.DataFrame(np.array(evaluate_se),columns=[\"loss\",\"accuracy\",\"precision\",\"recall\"])\n",
    "\n",
    "df_evaluate_random = pd.DataFrame(np.array(evaluate_random),columns=[\"loss\",\"accuracy\",\"precision\",\"recall\"])\n",
    "df_evaluate_nc = pd.DataFrame(np.array(evaluate_nc),columns=[\"loss\",\"accuracy\",\"precision\",\"recall\"])\n"
   ]
  },
  {
   "cell_type": "code",
   "execution_count": 11,
   "id": "61cdc34d",
   "metadata": {},
   "outputs": [],
   "source": [
    "save_dir = \"D:/aug_graphs/\"+dataset+\"/\"+config_lc"
   ]
  },
  {
   "cell_type": "code",
   "execution_count": 12,
   "id": "3371b191",
   "metadata": {},
   "outputs": [],
   "source": [
    "import pandas as pd\n",
    "loading_csv = True\n",
    "if(loading_csv):\n",
    "    \n",
    "    df_evaluate_lsa = pd.read_csv(save_dir+\"/lsa_\"+config_lc)\n",
    "    df_evaluate_dsa = pd.read_csv(save_dir+\"/dsa_\"+config_lc)\n",
    "    df_evaluate_dg = pd.read_csv(save_dir+\"/dg_\"+config_lc)\n",
    "    df_evaluate_se = pd.read_csv(save_dir+\"/se_\"+config_lc)\n",
    "    df_evaluate_random = pd.read_csv(save_dir+\"/random_\"+config_lc)\n",
    "    df_evaluate_nc = pd.read_csv(save_dir+\"/nc_\"+config_lc)\n",
    "    "
   ]
  },
  {
   "cell_type": "code",
   "execution_count": null,
   "id": "50aaf0aa",
   "metadata": {},
   "outputs": [],
   "source": []
  },
  {
   "cell_type": "code",
   "execution_count": 29,
   "id": "071139f8",
   "metadata": {},
   "outputs": [
    {
     "data": {
      "text/plain": [
       "'intel'"
      ]
     },
     "execution_count": 29,
     "metadata": {},
     "output_type": "execute_result"
    }
   ],
   "source": [
    "dataset"
   ]
  },
  {
   "cell_type": "code",
   "execution_count": 28,
   "id": "0ac880db",
   "metadata": {},
   "outputs": [],
   "source": [
    "if(not loading_csv):\n",
    "    df_evaluate_lsa.to_csv(save_dir+\"/lsa_\"+config_lc,index=False)\n",
    "    df_evaluate_dsa.to_csv(save_dir+\"/dsa_\"+config_lc,index=False)\n",
    "    df_evaluate_dg.to_csv(save_dir+\"/dg_\"+config_lc,index=False)\n",
    "    df_evaluate_se.to_csv(save_dir+\"/se_\"+config_lc,index=False)\n",
    "    df_evaluate_random.to_csv(save_dir+\"/random_\"+config_lc,index=False)\n",
    "    df_evaluate_nc.to_csv(save_dir+\"/nc_\"+config_lc,index=False)"
   ]
  },
  {
   "cell_type": "code",
   "execution_count": 13,
   "id": "890f3a71",
   "metadata": {},
   "outputs": [],
   "source": [
    "\n",
    "metric =\"accuracy\"\n",
    "accuracy_lsa_3 = np.array(df_evaluate_lsa[metric])\n",
    "accuracy_dsa_3 = np.array(df_evaluate_dsa[metric])\n",
    "accuracy_dg_3 = np.array(df_evaluate_dg[metric])\n",
    "accuracy_se_3 = np.array(df_evaluate_se[metric])\n",
    "\n",
    "accuracy_nc_3 =np.array(df_evaluate_nc[metric])\n",
    "accuracy_random_3 = np.array(df_evaluate_random[metric])\n"
   ]
  },
  {
   "cell_type": "code",
   "execution_count": null,
   "id": "8024d77a",
   "metadata": {},
   "outputs": [],
   "source": []
  },
  {
   "cell_type": "code",
   "execution_count": 14,
   "id": "03c35db6",
   "metadata": {},
   "outputs": [],
   "source": [
    "n_data_points = 700"
   ]
  },
  {
   "cell_type": "code",
   "execution_count": 15,
   "id": "8f14989c",
   "metadata": {},
   "outputs": [
    {
     "data": {
      "text/plain": [
       "21"
      ]
     },
     "execution_count": 15,
     "metadata": {},
     "output_type": "execute_result"
    }
   ],
   "source": [
    "len(accuracy_dsa_3)"
   ]
  },
  {
   "cell_type": "code",
   "execution_count": 16,
   "id": "5a1006eb",
   "metadata": {},
   "outputs": [
    {
     "name": "stdout",
     "output_type": "stream",
     "text": [
      "21\n"
     ]
    },
    {
     "data": {
      "text/plain": [
       "[0,\n",
       " 700,\n",
       " 1400,\n",
       " 2100,\n",
       " 2800,\n",
       " 3500,\n",
       " 4200,\n",
       " 4900,\n",
       " 5600,\n",
       " 6300,\n",
       " 7000,\n",
       " 7700,\n",
       " 8400,\n",
       " 9100,\n",
       " 9800,\n",
       " 10500,\n",
       " 11200,\n",
       " 11900,\n",
       " 12600,\n",
       " 13300,\n",
       " 14224]"
      ]
     },
     "execution_count": 16,
     "metadata": {},
     "output_type": "execute_result"
    }
   ],
   "source": [
    "if(len(accuracy_lsa_3)>21):\n",
    "    n_inputs = [n_data_points*i for i in range(num_models+1)]\n",
    "else:\n",
    "    n_inputs = [n_data_points*i for i in range(num_models)]\n",
    "    \n",
    "n_inputs.append(len(x_train_and_adversary))\n",
    "print(len(n_inputs))\n",
    "n_inputs"
   ]
  },
  {
   "cell_type": "code",
   "execution_count": 17,
   "id": "7d87bbdc",
   "metadata": {},
   "outputs": [
    {
     "name": "stdout",
     "output_type": "stream",
     "text": [
      "21\n",
      "21\n"
     ]
    }
   ],
   "source": [
    "print(len(df_evaluate_lsa))\n",
    "print(len(n_inputs))"
   ]
  },
  {
   "cell_type": "code",
   "execution_count": 18,
   "id": "94dd0268",
   "metadata": {},
   "outputs": [],
   "source": [
    "save_dir = \"D:/aug_graphs/\"+dataset+\"/\"+config"
   ]
  },
  {
   "cell_type": "code",
   "execution_count": 19,
   "id": "e661d375",
   "metadata": {},
   "outputs": [],
   "source": [
    "linestyles = ['solid','dotted','dashed','dashed','dashdot','dashdot']\n",
    "colors =['b','g','r','c','m','k']"
   ]
  },
  {
   "cell_type": "code",
   "execution_count": 21,
   "id": "7c6a626f",
   "metadata": {},
   "outputs": [
    {
     "name": "stdout",
     "output_type": "stream",
     "text": [
      "12600 0.7361666560173035\n",
      "14224 0.7528333067893982\n",
      "12600 0.7555000185966492\n",
      "11900 0.750166654586792\n",
      "13300 0.7490000128746033\n",
      "12600 0.7483333349227905\n"
     ]
    },
    {
     "data": {
      "image/png": "[encoded data removed]",
      "text/plain": [
       "<Figure size 432x288 with 1 Axes>"
      ]
     },
     "metadata": {
      "needs_background": "light"
     },
     "output_type": "display_data"
    }
   ],
   "source": [
    "#adversarial jsma test set\n",
    "#configuration 3\n",
    "\"\"\"\n",
    "6) Incremental guided retraining starting from the original model using only the new adversarial inputs.\n",
    "Incremental training, starting with the previous trained model. Using at each iteration a subset of the new inputs.\n",
    "\"\"\"\n",
    "import matplotlib.pyplot as plt\n",
    "import matplotlib.patches as mpatches\n",
    "\n",
    "from matplotlib.patches import Patch\n",
    "from matplotlib.lines import Line2D\n",
    "\n",
    "plt.plot(n_inputs,accuracy_lsa_3,colors[0],linestyle=linestyles[0])\n",
    "plt.plot(n_inputs,accuracy_dsa_3,colors[1],linestyle=linestyles[1])\n",
    "plt.plot(n_inputs,accuracy_dg_3,colors[2],linestyle=linestyles[2])\n",
    "plt.plot(n_inputs,accuracy_se_3,colors[3],linestyle=linestyles[3])\n",
    "plt.plot(n_inputs,accuracy_random_3,colors[4],linestyle=linestyles[4])\n",
    "plt.plot(n_inputs,accuracy_nc_3,colors[5],linestyle=linestyles[5])\n",
    "\n",
    "\n",
    "legend_elements = [Line2D([0], [0], color=colors[0], label='LSA',ls = linestyles[0]),\n",
    "                   Line2D([0], [0], color=colors[1], label='DSA',ls = linestyles[1]),\n",
    "                   Line2D([0], [0], color=colors[2], label='dg',ls = linestyles[2]),\n",
    "                   Line2D([0], [0], color=colors[3], label='se',ls = linestyles[3]),\n",
    "                   Line2D([0], [0], color=colors[4], label='Random',ls = linestyles[4]),\n",
    "                   Line2D([0], [0], color=colors[5], label='NC',ls = linestyles[5])]\n",
    "\n",
    "\n",
    "\n",
    "plt.legend(handles=legend_elements)#\n",
    "#plt.title(\"Accuracy\")\n",
    "\n",
    "print(n_inputs[np.argmax(accuracy_lsa_3)],accuracy_lsa_3.max())\n",
    "print(n_inputs[np.argmax(accuracy_dsa_3)],accuracy_dsa_3.max())\n",
    "print(n_inputs[np.argmax(accuracy_dg_3)],accuracy_dg_3.max())\n",
    "print(n_inputs[np.argmax(accuracy_se_3)],accuracy_se_3.max())\n",
    "print(n_inputs[np.argmax(accuracy_random_3)],accuracy_random_3.max())\n",
    "print(n_inputs[np.argmax(accuracy_nc_3)],accuracy_nc_3.max())\n",
    "\n",
    "plt.plot(n_inputs[np.argmax(accuracy_lsa_3)],accuracy_lsa_3.max(),'-bD',)\n",
    "plt.plot(n_inputs[np.argmax(accuracy_dsa_3)],accuracy_dsa_3.max(),'-go')\n",
    "plt.plot(n_inputs[np.argmax(accuracy_dg_3)],accuracy_dg_3.max(),'-r+')\n",
    "plt.plot(n_inputs[np.argmax(accuracy_se_3)],accuracy_se_3.max(),'-c*')\n",
    "plt.plot(n_inputs[np.argmax(accuracy_random_3)],accuracy_random_3.max(),'-mv')\n",
    "plt.plot(n_inputs[np.argmax(accuracy_nc_3)],accuracy_nc_3.max(),'-kp')\n",
    "\n",
    "plt.xlabel('Number of inputs')\n",
    "plt.ylabel('Accuracy')\n",
    "plt.xlim([0, len(x_train_and_adversary)])\n",
    "#plt.ylim([0, 1])\n",
    "\n",
    "plt.savefig(save_dir+\"/\"+dataset+\"_\"+config_lc+\"_\"+\"accuracy\" + \".svg\")\n",
    "\n",
    "plt.show()"
   ]
  },
  {
   "cell_type": "code",
   "execution_count": null,
   "id": "09841214",
   "metadata": {},
   "outputs": [],
   "source": []
  }
 ],
 "metadata": {
  "kernelspec": {
   "display_name": "Python 3 (ipykernel)",
   "language": "python",
   "name": "python3"
  },
  "language_info": {
   "codemirror_mode": {
    "name": "ipython",
    "version": 3
   },
   "file_extension": ".py",
   "mimetype": "text/x-python",
   "name": "python",
   "nbconvert_exporter": "python",
   "pygments_lexer": "ipython3",
   "version": "3.9.7"
  }
 },
 "nbformat": 4,
 "nbformat_minor": 5
}
