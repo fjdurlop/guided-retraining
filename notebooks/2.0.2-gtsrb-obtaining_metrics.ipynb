{
 "cells": [
  {
   "cell_type": "markdown",
   "id": "18e2bffd",
   "metadata": {},
   "source": [
    "# Obtaining metrics\n",
    "\n",
    "## Dataset: GTSRB\n",
    "\n",
    "## Output:\n",
    "\n",
    "- NC values\n",
    "    ```python\n",
    "    'nc_values_'+str(i)+'.npy'\n",
    "    ```"
   ]
  },
  {
   "cell_type": "markdown",
   "id": "89f64fc0",
   "metadata": {},
   "source": [
    "## NC values "
   ]
  },
  {
   "cell_type": "code",
   "execution_count": 3,
   "id": "2426d270",
   "metadata": {},
   "outputs": [],
   "source": [
    "import argparse\n",
    "\n",
    "import numpy as np\n",
    "import tensorflow as tf\n",
    "import keras.backend as K\n",
    "\n",
    "import matplotlib.pyplot as plt\n",
    "\n",
    "from keras.utils import np_utils\n",
    "from keras.models import Sequential\n",
    "from keras.layers import Dense, Dropout, Activation, Flatten, Conv2D, MaxPooling2D\n",
    "from keras.regularizers import l2\n",
    "\n",
    "import glob\n",
    "import os\n",
    "import cv2\n",
    "import keras\n",
    "\n",
    "\n",
    "import time\n",
    "import argparse\n",
    "\n",
    "from tqdm import tqdm\n",
    "from keras.models import load_model, Model\n"
   ]
  },
  {
   "cell_type": "code",
   "execution_count": 4,
   "id": "e41133aa",
   "metadata": {},
   "outputs": [],
   "source": [
    "# utils for project\n",
    "import project_utils as utils"
   ]
  },
  {
   "cell_type": "code",
   "execution_count": 5,
   "id": "a4d11c74",
   "metadata": {},
   "outputs": [],
   "source": [
    "from importlib import reload  \n",
    "utils = reload(utils)"
   ]
  },
  {
   "cell_type": "code",
   "execution_count": 6,
   "id": "ae258a46",
   "metadata": {},
   "outputs": [],
   "source": [
    "x_train,y_train = utils.get_data(\"Train\")\n",
    "x_val,y_val = utils.get_data(\"Val\")\n",
    "x_test,y_test = utils.get_data(\"Test\")"
   ]
  },
  {
   "cell_type": "code",
   "execution_count": 7,
   "id": "5a9b23ef",
   "metadata": {},
   "outputs": [],
   "source": [
    "x_train_and_adversary,y_train_and_adversary = utils.get_data(\"Train_and_adversary\")"
   ]
  },
  {
   "cell_type": "code",
   "execution_count": 8,
   "id": "6ba69cea",
   "metadata": {},
   "outputs": [
    {
     "name": "stdout",
     "output_type": "stream",
     "text": [
      "5000\n",
      "5000\n"
     ]
    }
   ],
   "source": [
    "x_adversary_training = x_train_and_adversary[len(x_train):]\n",
    "print(len(x_adversary_training))\n",
    "y_adversary_training = y_train_and_adversary[len(y_train):]\n",
    "\n",
    "print(len(y_adversary_training))"
   ]
  },
  {
   "cell_type": "code",
   "execution_count": 9,
   "id": "d46cc9e2",
   "metadata": {},
   "outputs": [],
   "source": [
    "x_test_and_adversary,y_test_and_adversary = utils.get_adversarial_data('Test_fgsm') "
   ]
  },
  {
   "cell_type": "code",
   "execution_count": 10,
   "id": "f9e954a1",
   "metadata": {},
   "outputs": [],
   "source": [
    "x_test_and_adversary_jsma,y_test_and_adversary_jsma = utils.get_adversarial_data('Test_jsma') "
   ]
  },
  {
   "cell_type": "code",
   "execution_count": 11,
   "id": "b747db20",
   "metadata": {},
   "outputs": [
    {
     "name": "stdout",
     "output_type": "stream",
     "text": [
      "3923\n",
      "3923\n"
     ]
    }
   ],
   "source": [
    "x_adversary_test_jsma = x_test_and_adversary_jsma[len(x_test):]\n",
    "print(len(x_adversary_test_jsma))\n",
    "y_adversary_test_jsma = y_test_and_adversary_jsma[len(y_test):]\n",
    "\n",
    "print(len(y_adversary_test_jsma))"
   ]
  },
  {
   "cell_type": "code",
   "execution_count": null,
   "id": "737befb2",
   "metadata": {},
   "outputs": [],
   "source": []
  },
  {
   "cell_type": "code",
   "execution_count": 14,
   "id": "1f3b910c",
   "metadata": {},
   "outputs": [
    {
     "name": "stdout",
     "output_type": "stream",
     "text": [
      "Model loaded correctly\n"
     ]
    }
   ],
   "source": [
    "model_dir = \"C:/Users/fjdur/Desktop/upc/project_notebooks/github_project/DL_notebooks/models/tf_model_25-06\"\n",
    "model_original = utils.My_model(True,model_dir)"
   ]
  },
  {
   "cell_type": "code",
   "execution_count": 15,
   "id": "8a807007",
   "metadata": {},
   "outputs": [
    {
     "data": {
      "text/plain": [
       "['conv2d',\n",
       " 'conv2d_1',\n",
       " 'max_pooling2d',\n",
       " 'dropout',\n",
       " 'conv2d_2',\n",
       " 'conv2d_3',\n",
       " 'max_pooling2d_1',\n",
       " 'dropout_1',\n",
       " 'conv2d_4',\n",
       " 'conv2d_5',\n",
       " 'max_pooling2d_2',\n",
       " 'dropout_2',\n",
       " 'flatten',\n",
       " 'dense',\n",
       " 'dropout_3',\n",
       " 'dense_1',\n",
       " 'dropout_4',\n",
       " 'dense_2']"
      ]
     },
     "execution_count": 15,
     "metadata": {},
     "output_type": "execute_result"
    }
   ],
   "source": [
    "[layer.name for layer in model_original.model.layers]"
   ]
  },
  {
   "cell_type": "code",
   "execution_count": null,
   "id": "01a8b825",
   "metadata": {},
   "outputs": [],
   "source": []
  },
  {
   "cell_type": "code",
   "execution_count": 12,
   "id": "c2c14cbb",
   "metadata": {},
   "outputs": [
    {
     "name": "stdout",
     "output_type": "stream",
     "text": [
      "C:\\Users\\fjdur\\Desktop\\upc\\project_notebooks\n"
     ]
    }
   ],
   "source": [
    "cd C:\\Users\\fjdur\\Desktop\\upc\\project_notebooks"
   ]
  },
  {
   "cell_type": "code",
   "execution_count": 13,
   "id": "15efc5e0",
   "metadata": {},
   "outputs": [],
   "source": [
    "#import sys\n",
    "#sys.path.append('C:/Users/Francisco Duran/Desktop/upc/project_notebooks')\n",
    "import TestSelection\n",
    "from TestSelection.utils.ncoverage import NCoverage # https://github.com/TestSelection/TestSelection"
   ]
  },
  {
   "cell_type": "code",
   "execution_count": 16,
   "id": "098beea3",
   "metadata": {},
   "outputs": [
    {
     "name": "stdout",
     "output_type": "stream",
     "text": [
      "models loaded\n",
      "['dense_1']\n"
     ]
    }
   ],
   "source": [
    "# NC computor, one layer, model_1\n",
    "ncComputor_model_1 = NCoverage(model_original.model, threshold=0.2,only_layers=[ 'dense_1']) #last hidden layer"
   ]
  },
  {
   "cell_type": "code",
   "execution_count": 17,
   "id": "ba2ab3e6",
   "metadata": {},
   "outputs": [
    {
     "data": {
      "text/plain": [
       "0.37109375"
      ]
     },
     "execution_count": 17,
     "metadata": {},
     "output_type": "execute_result"
    }
   ],
   "source": [
    "img_batch = tf.expand_dims(x_test[1999], axis=0)\n",
    "#i1_outputs = model.predict(img_batch)\n",
    "ncComputor_model_1.NC(img_batch)"
   ]
  },
  {
   "cell_type": "code",
   "execution_count": 18,
   "id": "41f27ed0",
   "metadata": {},
   "outputs": [
    {
     "name": "stdout",
     "output_type": "stream",
     "text": [
      "WARNING:tensorflow:5 out of the last 5 calls to <function Model.make_predict_function.<locals>.predict_function at 0x0000017085EE2C10> triggered tf.function retracing. Tracing is expensive and the excessive number of tracings could be due to (1) creating @tf.function repeatedly in a loop, (2) passing tensors with different shapes, (3) passing Python objects instead of tensors. For (1), please define your @tf.function outside of the loop. For (2), @tf.function has experimental_relax_shapes=True option that relaxes argument shapes that can avoid unnecessary retracing. For (3), please refer to https://www.tensorflow.org/guide/function#controlling_retracing and https://www.tensorflow.org/api_docs/python/tf/function for  more details.\n",
      "WARNING:tensorflow:6 out of the last 6 calls to <function Model.make_predict_function.<locals>.predict_function at 0x00000170856B9280> triggered tf.function retracing. Tracing is expensive and the excessive number of tracings could be due to (1) creating @tf.function repeatedly in a loop, (2) passing tensors with different shapes, (3) passing Python objects instead of tensors. For (1), please define your @tf.function outside of the loop. For (2), @tf.function has experimental_relax_shapes=True option that relaxes argument shapes that can avoid unnecessary retracing. For (3), please refer to https://www.tensorflow.org/guide/function#controlling_retracing and https://www.tensorflow.org/api_docs/python/tf/function for  more details.\n"
     ]
    }
   ],
   "source": [
    "# x_train_and_adversary[:1000]\n",
    "nc_model_original_values_1 = [ncComputor_model_1.NC(tf.expand_dims(x, axis=0)) for x in x_train_and_adversary[:1000]]"
   ]
  },
  {
   "cell_type": "code",
   "execution_count": 20,
   "id": "5f8ec264",
   "metadata": {},
   "outputs": [
    {
     "data": {
      "text/plain": [
       "1000"
      ]
     },
     "execution_count": 20,
     "metadata": {},
     "output_type": "execute_result"
    }
   ],
   "source": [
    "len(nc_model_original_values_1)"
   ]
  },
  {
   "cell_type": "code",
   "execution_count": 21,
   "id": "82ba882f",
   "metadata": {},
   "outputs": [],
   "source": [
    "nc_model_original_values_2 = [ncComputor_model_1.NC(tf.expand_dims(x, axis=0)) for x in x_train_and_adversary[1000:2000]]"
   ]
  },
  {
   "cell_type": "code",
   "execution_count": 22,
   "id": "8d8b7fc1",
   "metadata": {},
   "outputs": [],
   "source": [
    "nc_model_original_values_1and2 = [ncComputor_model_1.NC(tf.expand_dims(x, axis=0)) for x in x_train_and_adversary[:2000]]"
   ]
  },
  {
   "cell_type": "code",
   "execution_count": 23,
   "id": "3e57ab22",
   "metadata": {},
   "outputs": [
    {
     "name": "stdout",
     "output_type": "stream",
     "text": [
      "1000\n",
      "1000\n",
      "2000\n"
     ]
    }
   ],
   "source": [
    "print(len(nc_model_original_values_1))\n",
    "print(len(nc_model_original_values_2))\n",
    "print(len(nc_model_original_values_1and2))"
   ]
  },
  {
   "cell_type": "code",
   "execution_count": 25,
   "id": "7d3bb581",
   "metadata": {},
   "outputs": [
    {
     "name": "stdout",
     "output_type": "stream",
     "text": [
      "[0.33984375, 0.34375, 0.3203125, 0.33984375, 0.328125]\n",
      "[0.33203125, 0.3125, 0.33984375, 0.375, 0.3515625]\n",
      "[0.33984375, 0.34375, 0.3203125, 0.33984375, 0.328125, 0.33203125, 0.3125, 0.33984375, 0.375, 0.3515625]\n"
     ]
    }
   ],
   "source": [
    "print(nc_model_original_values_1[-5:])\n",
    "print(nc_model_original_values_2[:5])\n",
    "print(nc_model_original_values_1and2[995:1005])"
   ]
  },
  {
   "cell_type": "code",
   "execution_count": 26,
   "id": "d0e942ce",
   "metadata": {},
   "outputs": [],
   "source": [
    "nc_model_original_values_3 = [ncComputor_model_1.NC(tf.expand_dims(x, axis=0)) for x in x_train_and_adversary[2000:3000]]"
   ]
  },
  {
   "cell_type": "code",
   "execution_count": 32,
   "id": "84cf587e",
   "metadata": {},
   "outputs": [],
   "source": [
    "nc_model_original_values_4 = [ncComputor_model_1.NC(tf.expand_dims(x, axis=0)) for x in x_train_and_adversary[3000:4000]]"
   ]
  },
  {
   "cell_type": "code",
   "execution_count": 33,
   "id": "ac6b20b1",
   "metadata": {},
   "outputs": [],
   "source": [
    "nc_model_original_values_5 = [ncComputor_model_1.NC(tf.expand_dims(x, axis=0)) for x in x_train_and_adversary[4000:5000]]"
   ]
  },
  {
   "cell_type": "code",
   "execution_count": 34,
   "id": "bdcc996c",
   "metadata": {},
   "outputs": [],
   "source": [
    "nc_model_original_values_6 = [ncComputor_model_1.NC(tf.expand_dims(x, axis=0)) for x in x_train_and_adversary[5000:6000]]\n",
    "nc_model_original_values_7 = [ncComputor_model_1.NC(tf.expand_dims(x, axis=0)) for x in x_train_and_adversary[6000:7000]]\n",
    "nc_model_original_values_8 = [ncComputor_model_1.NC(tf.expand_dims(x, axis=0)) for x in x_train_and_adversary[7000:8000]]"
   ]
  },
  {
   "cell_type": "code",
   "execution_count": 35,
   "id": "6232f305",
   "metadata": {},
   "outputs": [],
   "source": [
    "nc_model_original_values_9 = [ncComputor_model_1.NC(tf.expand_dims(x, axis=0)) for x in x_train_and_adversary[8000:9000]]\n",
    "nc_model_original_values_10 = [ncComputor_model_1.NC(tf.expand_dims(x, axis=0)) for x in x_train_and_adversary[9000:10000]]\n",
    "nc_model_original_values_11 = [ncComputor_model_1.NC(tf.expand_dims(x, axis=0)) for x in x_train_and_adversary[10000:11000]]"
   ]
  },
  {
   "cell_type": "code",
   "execution_count": 41,
   "id": "8193e454",
   "metadata": {},
   "outputs": [],
   "source": [
    "nc_model_original_values_12 = [ncComputor_model_1.NC(tf.expand_dims(x, axis=0)) for x in x_train_and_adversary[11000:12000]]"
   ]
  },
  {
   "cell_type": "code",
   "execution_count": 42,
   "id": "23b91cf7",
   "metadata": {},
   "outputs": [],
   "source": [
    "nc_model_original_values_13 = [ncComputor_model_1.NC(tf.expand_dims(x, axis=0)) for x in x_train_and_adversary[12000:13000]]"
   ]
  },
  {
   "cell_type": "code",
   "execution_count": 43,
   "id": "b4ef4020",
   "metadata": {},
   "outputs": [],
   "source": [
    "nc_model_original_values_14 = [ncComputor_model_1.NC(tf.expand_dims(x, axis=0)) for x in x_train_and_adversary[13000:14000]]\n",
    "nc_model_original_values_15 = [ncComputor_model_1.NC(tf.expand_dims(x, axis=0)) for x in x_train_and_adversary[14000:15000]]\n",
    "nc_model_original_values_16 = [ncComputor_model_1.NC(tf.expand_dims(x, axis=0)) for x in x_train_and_adversary[15000:16000]]\n",
    "nc_model_original_values_17 = [ncComputor_model_1.NC(tf.expand_dims(x, axis=0)) for x in x_train_and_adversary[16000:17000]]"
   ]
  },
  {
   "cell_type": "code",
   "execution_count": 44,
   "id": "078e7b3b",
   "metadata": {},
   "outputs": [],
   "source": [
    "nc_model_original_values_18 = [ncComputor_model_1.NC(tf.expand_dims(x, axis=0)) for x in x_train_and_adversary[17000:18000]]\n",
    "nc_model_original_values_19 = [ncComputor_model_1.NC(tf.expand_dims(x, axis=0)) for x in x_train_and_adversary[18000:19000]]\n",
    "nc_model_original_values_20 = [ncComputor_model_1.NC(tf.expand_dims(x, axis=0)) for x in x_train_and_adversary[19000:20000]]\n",
    "nc_model_original_values_21 = [ncComputor_model_1.NC(tf.expand_dims(x, axis=0)) for x in x_train_and_adversary[20000:21000]]"
   ]
  },
  {
   "cell_type": "code",
   "execution_count": 48,
   "id": "b7acaadb",
   "metadata": {},
   "outputs": [],
   "source": [
    "nc_model_original_values_22 = [ncComputor_model_1.NC(tf.expand_dims(x, axis=0)) for x in x_train_and_adversary[21000:22000]]\n",
    "nc_model_original_values_23 = [ncComputor_model_1.NC(tf.expand_dims(x, axis=0)) for x in x_train_and_adversary[22000:23000]]\n",
    "nc_model_original_values_24 = [ncComputor_model_1.NC(tf.expand_dims(x, axis=0)) for x in x_train_and_adversary[23000:24000]]\n",
    "nc_model_original_values_25 = [ncComputor_model_1.NC(tf.expand_dims(x, axis=0)) for x in x_train_and_adversary[24000:25000]]"
   ]
  },
  {
   "cell_type": "code",
   "execution_count": 49,
   "id": "b596ab51",
   "metadata": {},
   "outputs": [],
   "source": [
    "nc_model_original_values_26 = [ncComputor_model_1.NC(tf.expand_dims(x, axis=0)) for x in x_train_and_adversary[25000:26000]]\n",
    "nc_model_original_values_27 = [ncComputor_model_1.NC(tf.expand_dims(x, axis=0)) for x in x_train_and_adversary[26000:27000]]\n",
    "nc_model_original_values_28 = [ncComputor_model_1.NC(tf.expand_dims(x, axis=0)) for x in x_train_and_adversary[27000:28000]]\n",
    "nc_model_original_values_29 = [ncComputor_model_1.NC(tf.expand_dims(x, axis=0)) for x in x_train_and_adversary[28000:29000]]"
   ]
  },
  {
   "cell_type": "code",
   "execution_count": 50,
   "id": "cd5dbdd1",
   "metadata": {},
   "outputs": [],
   "source": [
    "nc_model_original_values_30 = [ncComputor_model_1.NC(tf.expand_dims(x, axis=0)) for x in x_train_and_adversary[29000:30000]]\n",
    "nc_model_original_values_31 = [ncComputor_model_1.NC(tf.expand_dims(x, axis=0)) for x in x_train_and_adversary[30000:31000]]\n",
    "nc_model_original_values_32 = [ncComputor_model_1.NC(tf.expand_dims(x, axis=0)) for x in x_train_and_adversary[31000:32000]]\n",
    "nc_model_original_values_33 = [ncComputor_model_1.NC(tf.expand_dims(x, axis=0)) for x in x_train_and_adversary[32000:33000]]"
   ]
  },
  {
   "cell_type": "code",
   "execution_count": 52,
   "id": "aaf2493b",
   "metadata": {},
   "outputs": [],
   "source": [
    "nc_model_original_values_34 = [ncComputor_model_1.NC(tf.expand_dims(x, axis=0)) for x in x_train_and_adversary[33000:34000]]\n",
    "nc_model_original_values_35 = [ncComputor_model_1.NC(tf.expand_dims(x, axis=0)) for x in x_train_and_adversary[34000:35000]]\n",
    "nc_model_original_values_36 = [ncComputor_model_1.NC(tf.expand_dims(x, axis=0)) for x in x_train_and_adversary[35000:36000]]\n",
    "nc_model_original_values_37 = [ncComputor_model_1.NC(tf.expand_dims(x, axis=0)) for x in x_train_and_adversary[36000:]]"
   ]
  },
  {
   "cell_type": "code",
   "execution_count": 51,
   "id": "1ce15f85",
   "metadata": {},
   "outputs": [
    {
     "data": {
      "text/plain": [
       "36366"
      ]
     },
     "execution_count": 51,
     "metadata": {},
     "output_type": "execute_result"
    }
   ],
   "source": [
    "len(x_train_and_adversary)"
   ]
  },
  {
   "cell_type": "code",
   "execution_count": 27,
   "id": "ca285b7a",
   "metadata": {},
   "outputs": [
    {
     "name": "stdout",
     "output_type": "stream",
     "text": [
      "C:\\Users\\fjdur\\Desktop\\upc\\project_notebooks\\github_project\\DL_notebooks\\NC_values\n"
     ]
    }
   ],
   "source": [
    "cd C:\\Users\\fjdur\\Desktop\\upc\\project_notebooks\\github_project\\DL_notebooks\\NC_values"
   ]
  },
  {
   "cell_type": "code",
   "execution_count": 53,
   "id": "e5bcfd1c",
   "metadata": {},
   "outputs": [],
   "source": [
    "nc_values = [\n",
    "    nc_model_original_values_1,\n",
    "    nc_model_original_values_2,\n",
    "    nc_model_original_values_3,\n",
    "    nc_model_original_values_4,\n",
    "    nc_model_original_values_5,\n",
    "    nc_model_original_values_6,\n",
    "    nc_model_original_values_7,\n",
    "    nc_model_original_values_8,\n",
    "    nc_model_original_values_9,\n",
    "    nc_model_original_values_10,\n",
    "    nc_model_original_values_11,\n",
    "    nc_model_original_values_12,\n",
    "    nc_model_original_values_13,\n",
    "    nc_model_original_values_14,\n",
    "    nc_model_original_values_15,\n",
    "    nc_model_original_values_16,\n",
    "    nc_model_original_values_17,\n",
    "    nc_model_original_values_18,\n",
    "    nc_model_original_values_19,\n",
    "    nc_model_original_values_20,\n",
    "    nc_model_original_values_21,\n",
    "    nc_model_original_values_22,\n",
    "    nc_model_original_values_23,\n",
    "    nc_model_original_values_24,\n",
    "    nc_model_original_values_25,\n",
    "    nc_model_original_values_26,\n",
    "    nc_model_original_values_27,\n",
    "    nc_model_original_values_28,\n",
    "    nc_model_original_values_29,\n",
    "    nc_model_original_values_30,\n",
    "    nc_model_original_values_31,\n",
    "    nc_model_original_values_32,\n",
    "    nc_model_original_values_33,\n",
    "    nc_model_original_values_34,\n",
    "    nc_model_original_values_35,\n",
    "    nc_model_original_values_36,\n",
    "    nc_model_original_values_37    \n",
    "]"
   ]
  },
  {
   "cell_type": "code",
   "execution_count": 54,
   "id": "09764ea8",
   "metadata": {},
   "outputs": [],
   "source": [
    "#Save nc values\n",
    "i=1\n",
    "for values in nc_values:\n",
    "    with open('nc_values_'+str(i)+'.npy', 'wb') as f:\n",
    "        np.save(f, np.array(values))\n",
    "    i+=1"
   ]
  },
  {
   "cell_type": "code",
   "execution_count": 47,
   "id": "d1097f9a",
   "metadata": {},
   "outputs": [
    {
     "data": {
      "text/plain": [
       "'C:\\\\Users\\\\fjdur\\\\Desktop\\\\upc\\\\project_notebooks\\\\github_project\\\\DL_notebooks\\\\NC_values'"
      ]
     },
     "execution_count": 47,
     "metadata": {},
     "output_type": "execute_result"
    }
   ],
   "source": [
    "pwd"
   ]
  },
  {
   "cell_type": "code",
   "execution_count": null,
   "id": "ed64f5e1",
   "metadata": {},
   "outputs": [],
   "source": [
    "# x_train_and_adversary[1000:2000]\n",
    "nc_model_original_values_1 = [ncComputor_model_1.NC(tf.expand_dims(x, axis=0)) for x in x_train_and_adversary[1000:2000]]"
   ]
  },
  {
   "cell_type": "code",
   "execution_count": null,
   "id": "0604f74f",
   "metadata": {},
   "outputs": [],
   "source": []
  }
 ],
 "metadata": {
  "kernelspec": {
   "display_name": "Python 3",
   "language": "python",
   "name": "python3"
  },
  "language_info": {
   "codemirror_mode": {
    "name": "ipython",
    "version": 3
   },
   "file_extension": ".py",
   "mimetype": "text/x-python",
   "name": "python",
   "nbconvert_exporter": "python",
   "pygments_lexer": "ipython3",
   "version": "3.8.8"
  }
 },
 "nbformat": 4,
 "nbformat_minor": 5
}
