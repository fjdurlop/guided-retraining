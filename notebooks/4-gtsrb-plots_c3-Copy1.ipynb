{
 "cells": [
  {
   "cell_type": "code",
   "execution_count": 1,
   "id": "458bf345",
   "metadata": {},
   "outputs": [],
   "source": [
    "import argparse\n",
    "\n",
    "import numpy as np\n",
    "import tensorflow as tf\n",
    "import keras.backend as K\n",
    "\n",
    "import matplotlib.pyplot as plt\n",
    "\n",
    "from keras.utils import np_utils\n",
    "from keras.models import Sequential\n",
    "from keras.layers import Dense, Dropout, Activation, Flatten, Conv2D, MaxPooling2D\n",
    "from keras.regularizers import l2\n",
    "\n",
    "import glob\n",
    "import os\n",
    "import cv2\n",
    "import keras\n",
    "\n",
    "\n",
    "import time\n",
    "import argparse\n",
    "\n",
    "from tqdm import tqdm\n",
    "\n",
    "from keras.models import load_model, Model\n"
   ]
  },
  {
   "cell_type": "code",
   "execution_count": 2,
   "id": "d87645a5",
   "metadata": {},
   "outputs": [
    {
     "name": "stdout",
     "output_type": "stream",
     "text": [
      "C:\\Users\\fjdur\\Documents\\utils\n"
     ]
    }
   ],
   "source": [
    "cd C:/Users/fjdur/Documents/utils/"
   ]
  },
  {
   "cell_type": "code",
   "execution_count": 3,
   "id": "b4b5dea1",
   "metadata": {},
   "outputs": [
    {
     "name": "stdout",
     "output_type": "stream",
     "text": [
      "2.5.0\n",
      "keras\n",
      "2.5.0\n"
     ]
    }
   ],
   "source": [
    "import utils_guided_retraining as utils"
   ]
  },
  {
   "cell_type": "code",
   "execution_count": 4,
   "id": "a90d3511",
   "metadata": {},
   "outputs": [],
   "source": [
    "dataset = \"gtsrb\""
   ]
  },
  {
   "cell_type": "code",
   "execution_count": 5,
   "id": "07b34a1a",
   "metadata": {},
   "outputs": [],
   "source": [
    "x_test,y_test = utils.get_data(dataset,\"Test\")"
   ]
  },
  {
   "cell_type": "code",
   "execution_count": 6,
   "id": "244a4fbd",
   "metadata": {},
   "outputs": [],
   "source": [
    "x_train_and_adversary,y_train_and_adversary = utils.get_data(dataset,\"Train_and_adversary\")"
   ]
  },
  {
   "cell_type": "code",
   "execution_count": 7,
   "id": "739175c8",
   "metadata": {},
   "outputs": [],
   "source": [
    "x_test_and_adversary,y_test_and_adversary = utils.get_adversarial_data(dataset,'Test_adversarial') "
   ]
  },
  {
   "cell_type": "code",
   "execution_count": 8,
   "id": "0875bdf0",
   "metadata": {},
   "outputs": [],
   "source": [
    "\n",
    "model_dir = \"C:/Users/fjdur/Documents/upc-july/models/tf_model_25-06/\"\n",
    "if(dataset == 'gtsrb'):\n",
    "    model_dir = \"C:/Users/fjdur/Documents/upc-july/models/tf_model_25-06\"\n",
    "elif(dataset == 'intel'):\n",
    "    model_dir = \"C:/Users/fjdur/Documents/upc-july/models/intel_model_21_10\"\n",
    "elif(dataset == 'mnist'):\n",
    "    model_dir = \"C:/Users/fjdur/Documents/upc-july/models/models2\"\n",
    "elif(dataset == 'cifar'):\n",
    "    model_dir = \"C:/Users/fjdur/Documents/upc-july/models/model_02\"\n"
   ]
  },
  {
   "cell_type": "code",
   "execution_count": 9,
   "id": "1485065e",
   "metadata": {},
   "outputs": [
    {
     "name": "stdout",
     "output_type": "stream",
     "text": [
      "C:/Users/fjdur/Documents/upc-july/models/tf_model_25-06\n",
      "Model loaded correctly\n"
     ]
    }
   ],
   "source": [
    "print(model_dir)\n",
    "model_original = utils.My_model(dataset,True, model_dir)"
   ]
  },
  {
   "cell_type": "markdown",
   "id": "48e95400",
   "metadata": {},
   "source": [
    "## Loading models"
   ]
  },
  {
   "cell_type": "code",
   "execution_count": 10,
   "id": "a22156f9",
   "metadata": {},
   "outputs": [],
   "source": [
    "data_dir = \"D:/models/aug_22\"\n",
    "dataset = \"gtsrb\"\n",
    "config = \"C3\"\n",
    "config_lc = \"c3\"\n",
    "num_models = 20"
   ]
  },
  {
   "cell_type": "code",
   "execution_count": 11,
   "id": "c0dc05ec",
   "metadata": {},
   "outputs": [
    {
     "name": "stdout",
     "output_type": "stream",
     "text": [
      "D:/models/aug_22/gtsrb/C3/e2/gtsrb_model_c3_aug_lsa_e2_0\n",
      "Model loaded correctly\n",
      "D:/models/aug_22/gtsrb/C3/e2/gtsrb_model_c3_aug_lsa_e2_1\n",
      "Model loaded correctly\n",
      "D:/models/aug_22/gtsrb/C3/e2/gtsrb_model_c3_aug_lsa_e2_2\n",
      "Model loaded correctly\n",
      "D:/models/aug_22/gtsrb/C3/e2/gtsrb_model_c3_aug_lsa_e2_3\n",
      "Model loaded correctly\n",
      "D:/models/aug_22/gtsrb/C3/e2/gtsrb_model_c3_aug_lsa_e2_4\n",
      "Model loaded correctly\n",
      "D:/models/aug_22/gtsrb/C3/e2/gtsrb_model_c3_aug_lsa_e2_5\n",
      "Model loaded correctly\n",
      "D:/models/aug_22/gtsrb/C3/e2/gtsrb_model_c3_aug_lsa_e2_6\n",
      "Model loaded correctly\n",
      "D:/models/aug_22/gtsrb/C3/e2/gtsrb_model_c3_aug_lsa_e2_7\n",
      "Model loaded correctly\n",
      "D:/models/aug_22/gtsrb/C3/e2/gtsrb_model_c3_aug_lsa_e2_8\n",
      "Model loaded correctly\n",
      "D:/models/aug_22/gtsrb/C3/e2/gtsrb_model_c3_aug_lsa_e2_9\n",
      "Model loaded correctly\n",
      "D:/models/aug_22/gtsrb/C3/e2/gtsrb_model_c3_aug_lsa_e2_10\n",
      "Model loaded correctly\n",
      "D:/models/aug_22/gtsrb/C3/e2/gtsrb_model_c3_aug_lsa_e2_11\n",
      "Model loaded correctly\n",
      "D:/models/aug_22/gtsrb/C3/e2/gtsrb_model_c3_aug_lsa_e2_12\n",
      "Model loaded correctly\n",
      "D:/models/aug_22/gtsrb/C3/e2/gtsrb_model_c3_aug_lsa_e2_13\n",
      "Model loaded correctly\n",
      "D:/models/aug_22/gtsrb/C3/e2/gtsrb_model_c3_aug_lsa_e2_14\n",
      "Model loaded correctly\n",
      "D:/models/aug_22/gtsrb/C3/e2/gtsrb_model_c3_aug_lsa_e2_15\n",
      "Model loaded correctly\n",
      "D:/models/aug_22/gtsrb/C3/e2/gtsrb_model_c3_aug_lsa_e2_16\n",
      "Model loaded correctly\n",
      "D:/models/aug_22/gtsrb/C3/e2/gtsrb_model_c3_aug_lsa_e2_17\n",
      "Model loaded correctly\n",
      "D:/models/aug_22/gtsrb/C3/e2/gtsrb_model_c3_aug_lsa_e2_18\n",
      "Model loaded correctly\n",
      "D:/models/aug_22/gtsrb/C3/e2/gtsrb_model_c3_aug_lsa_e2_19\n",
      "Model loaded correctly\n"
     ]
    }
   ],
   "source": [
    "loading = True\n",
    "\n",
    "models_lsa = []\n",
    "\n",
    "if loading:\n",
    "    for i in range(num_models):\n",
    "        model_lsa_dir = data_dir+\"/\"+dataset+\"/C3/e2/\"+dataset+\"_model_c3_aug_lsa_e2_\"+str(i)\n",
    "        print(model_lsa_dir)\n",
    "        model =utils.My_model(dataset,True,model_lsa_dir)\n",
    "        model.model.compile(loss= 'categorical_crossentropy', optimizer = 'rmsprop', metrics = ['accuracy',tf.keras.metrics.Precision(), tf.keras.metrics.Recall()])\n",
    "        models_lsa.append(model)\n",
    "       \n",
    "    "
   ]
  },
  {
   "cell_type": "code",
   "execution_count": 12,
   "id": "6499958d",
   "metadata": {},
   "outputs": [
    {
     "data": {
      "text/plain": [
       "20"
      ]
     },
     "execution_count": 12,
     "metadata": {},
     "output_type": "execute_result"
    }
   ],
   "source": [
    "len(models_lsa)"
   ]
  },
  {
   "cell_type": "code",
   "execution_count": 13,
   "id": "da4d6ed4",
   "metadata": {},
   "outputs": [
    {
     "name": "stdout",
     "output_type": "stream",
     "text": [
      "D:/models/aug_22/gtsrb/C3/e2/gtsrb_model_c3_aug_dsa_e2_0\n",
      "Model loaded correctly\n",
      "D:/models/aug_22/gtsrb/C3/e2/gtsrb_model_c3_aug_dsa_e2_1\n",
      "Model loaded correctly\n",
      "D:/models/aug_22/gtsrb/C3/e2/gtsrb_model_c3_aug_dsa_e2_2\n",
      "Model loaded correctly\n",
      "D:/models/aug_22/gtsrb/C3/e2/gtsrb_model_c3_aug_dsa_e2_3\n",
      "Model loaded correctly\n",
      "D:/models/aug_22/gtsrb/C3/e2/gtsrb_model_c3_aug_dsa_e2_4\n",
      "Model loaded correctly\n",
      "D:/models/aug_22/gtsrb/C3/e2/gtsrb_model_c3_aug_dsa_e2_5\n",
      "Model loaded correctly\n",
      "D:/models/aug_22/gtsrb/C3/e2/gtsrb_model_c3_aug_dsa_e2_6\n",
      "Model loaded correctly\n",
      "D:/models/aug_22/gtsrb/C3/e2/gtsrb_model_c3_aug_dsa_e2_7\n",
      "Model loaded correctly\n",
      "D:/models/aug_22/gtsrb/C3/e2/gtsrb_model_c3_aug_dsa_e2_8\n",
      "Model loaded correctly\n",
      "D:/models/aug_22/gtsrb/C3/e2/gtsrb_model_c3_aug_dsa_e2_9\n",
      "Model loaded correctly\n",
      "D:/models/aug_22/gtsrb/C3/e2/gtsrb_model_c3_aug_dsa_e2_10\n",
      "Model loaded correctly\n",
      "D:/models/aug_22/gtsrb/C3/e2/gtsrb_model_c3_aug_dsa_e2_11\n",
      "Model loaded correctly\n",
      "D:/models/aug_22/gtsrb/C3/e2/gtsrb_model_c3_aug_dsa_e2_12\n",
      "Model loaded correctly\n",
      "D:/models/aug_22/gtsrb/C3/e2/gtsrb_model_c3_aug_dsa_e2_13\n",
      "Model loaded correctly\n",
      "D:/models/aug_22/gtsrb/C3/e2/gtsrb_model_c3_aug_dsa_e2_14\n",
      "Model loaded correctly\n",
      "D:/models/aug_22/gtsrb/C3/e2/gtsrb_model_c3_aug_dsa_e2_15\n",
      "Model loaded correctly\n",
      "D:/models/aug_22/gtsrb/C3/e2/gtsrb_model_c3_aug_dsa_e2_16\n",
      "Model loaded correctly\n",
      "D:/models/aug_22/gtsrb/C3/e2/gtsrb_model_c3_aug_dsa_e2_17\n",
      "Model loaded correctly\n",
      "D:/models/aug_22/gtsrb/C3/e2/gtsrb_model_c3_aug_dsa_e2_18\n",
      "Model loaded correctly\n",
      "D:/models/aug_22/gtsrb/C3/e2/gtsrb_model_c3_aug_dsa_e2_19\n",
      "Model loaded correctly\n"
     ]
    }
   ],
   "source": [
    "loading = True\n",
    "\n",
    "models_dsa = []\n",
    "\n",
    "if loading:\n",
    "    for i in range(num_models):\n",
    "        #model_dsa_dir = \"D:/models/gtsrb_models/C1/gtsrb_model_c1_sep_dsa_e2_\"+str(i)\n",
    "        model_dsa_dir = data_dir+\"/\"+dataset+\"/C3/e2/\"+dataset+\"_model_c3_aug_dsa_e2_\"+str(i)\n",
    "        print(model_dsa_dir)\n",
    "        model =utils.My_model(dataset,True,model_dsa_dir)\n",
    "        model.model.compile(loss= 'categorical_crossentropy', optimizer = 'rmsprop', metrics = ['accuracy',tf.keras.metrics.Precision(), tf.keras.metrics.Recall()])\n",
    "        models_dsa.append(model)\n",
    "       \n",
    "\n",
    "    "
   ]
  },
  {
   "cell_type": "code",
   "execution_count": 14,
   "id": "0a4a7c64",
   "metadata": {
    "scrolled": true
   },
   "outputs": [
    {
     "name": "stdout",
     "output_type": "stream",
     "text": [
      "D:/models/aug_22/gtsrb/C3/e2/gtsrb_model_c3_aug_dg_e2_0\n",
      "Model loaded correctly\n",
      "D:/models/aug_22/gtsrb/C3/e2/gtsrb_model_c3_aug_dg_e2_1\n",
      "Model loaded correctly\n",
      "D:/models/aug_22/gtsrb/C3/e2/gtsrb_model_c3_aug_dg_e2_2\n",
      "Model loaded correctly\n",
      "D:/models/aug_22/gtsrb/C3/e2/gtsrb_model_c3_aug_dg_e2_3\n",
      "Model loaded correctly\n",
      "D:/models/aug_22/gtsrb/C3/e2/gtsrb_model_c3_aug_dg_e2_4\n",
      "Model loaded correctly\n",
      "D:/models/aug_22/gtsrb/C3/e2/gtsrb_model_c3_aug_dg_e2_5\n",
      "Model loaded correctly\n",
      "D:/models/aug_22/gtsrb/C3/e2/gtsrb_model_c3_aug_dg_e2_6\n",
      "Model loaded correctly\n",
      "D:/models/aug_22/gtsrb/C3/e2/gtsrb_model_c3_aug_dg_e2_7\n",
      "Model loaded correctly\n",
      "D:/models/aug_22/gtsrb/C3/e2/gtsrb_model_c3_aug_dg_e2_8\n",
      "Model loaded correctly\n",
      "D:/models/aug_22/gtsrb/C3/e2/gtsrb_model_c3_aug_dg_e2_9\n",
      "Model loaded correctly\n",
      "D:/models/aug_22/gtsrb/C3/e2/gtsrb_model_c3_aug_dg_e2_10\n",
      "Model loaded correctly\n",
      "D:/models/aug_22/gtsrb/C3/e2/gtsrb_model_c3_aug_dg_e2_11\n",
      "Model loaded correctly\n",
      "D:/models/aug_22/gtsrb/C3/e2/gtsrb_model_c3_aug_dg_e2_12\n",
      "Model loaded correctly\n",
      "D:/models/aug_22/gtsrb/C3/e2/gtsrb_model_c3_aug_dg_e2_13\n",
      "Model loaded correctly\n",
      "D:/models/aug_22/gtsrb/C3/e2/gtsrb_model_c3_aug_dg_e2_14\n",
      "Model loaded correctly\n",
      "D:/models/aug_22/gtsrb/C3/e2/gtsrb_model_c3_aug_dg_e2_15\n",
      "Model loaded correctly\n",
      "D:/models/aug_22/gtsrb/C3/e2/gtsrb_model_c3_aug_dg_e2_16\n",
      "Model loaded correctly\n",
      "D:/models/aug_22/gtsrb/C3/e2/gtsrb_model_c3_aug_dg_e2_17\n",
      "Model loaded correctly\n",
      "D:/models/aug_22/gtsrb/C3/e2/gtsrb_model_c3_aug_dg_e2_18\n",
      "Model loaded correctly\n",
      "D:/models/aug_22/gtsrb/C3/e2/gtsrb_model_c3_aug_dg_e2_19\n",
      "Model loaded correctly\n"
     ]
    }
   ],
   "source": [
    "loading = True\n",
    "\n",
    "models_dg = []\n",
    "\n",
    "if loading:\n",
    "    for i in range(num_models):\n",
    "        #model_dg_dir = \"D:/models/aug_22/gtsrb/C1/gtsrb_model_c1_aug_gn_e1_\"+str(i)\n",
    "        model_dg_dir = data_dir+\"/\"+dataset+\"/C3/e2/\"+dataset+\"_model_c3_aug_dg_e2_\"+str(i)\n",
    "        \n",
    "        print(model_dg_dir)\n",
    "        model =utils.My_model(dataset,True,model_dg_dir)\n",
    "        model.model.compile(loss= 'categorical_crossentropy', optimizer = 'rmsprop', metrics = ['accuracy',tf.keras.metrics.Precision(), tf.keras.metrics.Recall()])\n",
    "        models_dg.append(model)\n",
    "       \n",
    "    "
   ]
  },
  {
   "cell_type": "code",
   "execution_count": 15,
   "id": "9301cc38",
   "metadata": {},
   "outputs": [
    {
     "name": "stdout",
     "output_type": "stream",
     "text": [
      "D:/models/aug_22/gtsrb/C3/e2/gtsrb_model_c3_aug_se_e2_0\n",
      "Model loaded correctly\n",
      "D:/models/aug_22/gtsrb/C3/e2/gtsrb_model_c3_aug_se_e2_1\n",
      "Model loaded correctly\n",
      "D:/models/aug_22/gtsrb/C3/e2/gtsrb_model_c3_aug_se_e2_2\n",
      "Model loaded correctly\n",
      "D:/models/aug_22/gtsrb/C3/e2/gtsrb_model_c3_aug_se_e2_3\n",
      "Model loaded correctly\n",
      "D:/models/aug_22/gtsrb/C3/e2/gtsrb_model_c3_aug_se_e2_4\n",
      "Model loaded correctly\n",
      "D:/models/aug_22/gtsrb/C3/e2/gtsrb_model_c3_aug_se_e2_5\n",
      "Model loaded correctly\n",
      "D:/models/aug_22/gtsrb/C3/e2/gtsrb_model_c3_aug_se_e2_6\n",
      "Model loaded correctly\n",
      "D:/models/aug_22/gtsrb/C3/e2/gtsrb_model_c3_aug_se_e2_7\n",
      "Model loaded correctly\n",
      "D:/models/aug_22/gtsrb/C3/e2/gtsrb_model_c3_aug_se_e2_8\n",
      "Model loaded correctly\n",
      "D:/models/aug_22/gtsrb/C3/e2/gtsrb_model_c3_aug_se_e2_9\n",
      "Model loaded correctly\n",
      "D:/models/aug_22/gtsrb/C3/e2/gtsrb_model_c3_aug_se_e2_10\n",
      "Model loaded correctly\n",
      "D:/models/aug_22/gtsrb/C3/e2/gtsrb_model_c3_aug_se_e2_11\n",
      "Model loaded correctly\n",
      "D:/models/aug_22/gtsrb/C3/e2/gtsrb_model_c3_aug_se_e2_12\n",
      "Model loaded correctly\n",
      "D:/models/aug_22/gtsrb/C3/e2/gtsrb_model_c3_aug_se_e2_13\n",
      "Model loaded correctly\n",
      "D:/models/aug_22/gtsrb/C3/e2/gtsrb_model_c3_aug_se_e2_14\n",
      "Model loaded correctly\n",
      "D:/models/aug_22/gtsrb/C3/e2/gtsrb_model_c3_aug_se_e2_15\n",
      "Model loaded correctly\n",
      "D:/models/aug_22/gtsrb/C3/e2/gtsrb_model_c3_aug_se_e2_16\n",
      "Model loaded correctly\n",
      "D:/models/aug_22/gtsrb/C3/e2/gtsrb_model_c3_aug_se_e2_17\n",
      "Model loaded correctly\n",
      "D:/models/aug_22/gtsrb/C3/e2/gtsrb_model_c3_aug_se_e2_18\n",
      "Model loaded correctly\n",
      "D:/models/aug_22/gtsrb/C3/e2/gtsrb_model_c3_aug_se_e2_19\n",
      "Model loaded correctly\n"
     ]
    }
   ],
   "source": [
    "loading = True\n",
    "\n",
    "models_se = []\n",
    "\n",
    "if loading:\n",
    "    for i in range(num_models):\n",
    "        \n",
    "        model_se_dir = data_dir+\"/\"+dataset+\"/C3/e2/\"+dataset+\"_model_c3_aug_se_e2_\"+str(i)\n",
    "        \n",
    "        print(model_se_dir)\n",
    "        model =utils.My_model(dataset,True,model_se_dir)\n",
    "        model.model.compile(loss= 'categorical_crossentropy', optimizer = 'rmsprop', metrics = ['accuracy',tf.keras.metrics.Precision(), tf.keras.metrics.Recall()])\n",
    "        models_se.append(model)"
   ]
  },
  {
   "cell_type": "code",
   "execution_count": 18,
   "id": "eb1718e3",
   "metadata": {},
   "outputs": [
    {
     "name": "stdout",
     "output_type": "stream",
     "text": [
      "D:/models/aug_22/gtsrb/C3/e2/gtsrb_model_c3_aug_random_e2_0\n",
      "Model loaded correctly\n",
      "D:/models/aug_22/gtsrb/C3/e2/gtsrb_model_c3_aug_random_e2_1\n",
      "Model loaded correctly\n",
      "D:/models/aug_22/gtsrb/C3/e2/gtsrb_model_c3_aug_random_e2_2\n",
      "Model loaded correctly\n",
      "D:/models/aug_22/gtsrb/C3/e2/gtsrb_model_c3_aug_random_e2_3\n",
      "Model loaded correctly\n",
      "D:/models/aug_22/gtsrb/C3/e2/gtsrb_model_c3_aug_random_e2_4\n",
      "Model loaded correctly\n",
      "D:/models/aug_22/gtsrb/C3/e2/gtsrb_model_c3_aug_random_e2_5\n",
      "Model loaded correctly\n",
      "D:/models/aug_22/gtsrb/C3/e2/gtsrb_model_c3_aug_random_e2_6\n",
      "Model loaded correctly\n",
      "D:/models/aug_22/gtsrb/C3/e2/gtsrb_model_c3_aug_random_e2_7\n",
      "Model loaded correctly\n",
      "D:/models/aug_22/gtsrb/C3/e2/gtsrb_model_c3_aug_random_e2_8\n",
      "Model loaded correctly\n",
      "D:/models/aug_22/gtsrb/C3/e2/gtsrb_model_c3_aug_random_e2_9\n",
      "Model loaded correctly\n",
      "D:/models/aug_22/gtsrb/C3/e2/gtsrb_model_c3_aug_random_e2_10\n",
      "Model loaded correctly\n",
      "D:/models/aug_22/gtsrb/C3/e2/gtsrb_model_c3_aug_random_e2_11\n",
      "Model loaded correctly\n",
      "D:/models/aug_22/gtsrb/C3/e2/gtsrb_model_c3_aug_random_e2_12\n",
      "Model loaded correctly\n",
      "D:/models/aug_22/gtsrb/C3/e2/gtsrb_model_c3_aug_random_e2_13\n",
      "Model loaded correctly\n",
      "D:/models/aug_22/gtsrb/C3/e2/gtsrb_model_c3_aug_random_e2_14\n",
      "Model loaded correctly\n",
      "D:/models/aug_22/gtsrb/C3/e2/gtsrb_model_c3_aug_random_e2_15\n",
      "Model loaded correctly\n",
      "D:/models/aug_22/gtsrb/C3/e2/gtsrb_model_c3_aug_random_e2_16\n",
      "Model loaded correctly\n",
      "D:/models/aug_22/gtsrb/C3/e2/gtsrb_model_c3_aug_random_e2_17\n",
      "Model loaded correctly\n",
      "D:/models/aug_22/gtsrb/C3/e2/gtsrb_model_c3_aug_random_e2_18\n",
      "Model loaded correctly\n",
      "D:/models/aug_22/gtsrb/C3/e2/gtsrb_model_c3_aug_random_e2_19\n",
      "Model loaded correctly\n"
     ]
    }
   ],
   "source": [
    "loading = True\n",
    "\n",
    "models_random = []\n",
    "\n",
    "if loading:\n",
    "    for i in range(num_models):\n",
    "        #model_random_dir = \"D:/models/aug_22/gtsrb/C1/gtsrb_model_c1_aug_random_e1_\"+str(i)\n",
    "        model_random_dir = data_dir+\"/\"+dataset+\"/C3/e2/\"+dataset+\"_model_c3_aug_random_e2_\"+str(i)\n",
    "        \n",
    "        print(model_random_dir)\n",
    "        model =utils.My_model(dataset,True,model_random_dir)\n",
    "        model.model.compile(loss= 'categorical_crossentropy', optimizer = 'rmsprop', metrics = ['accuracy',tf.keras.metrics.Precision(), tf.keras.metrics.Recall()])\n",
    "        models_random.append(model)\n",
    "       "
   ]
  },
  {
   "cell_type": "code",
   "execution_count": 17,
   "id": "b9860981",
   "metadata": {
    "scrolled": true
   },
   "outputs": [
    {
     "name": "stdout",
     "output_type": "stream",
     "text": [
      "D:/models/aug_22/gtsrb/C3/e2/gtsrb_model_c3_aug_nc_e2_0\n",
      "Model loaded correctly\n",
      "D:/models/aug_22/gtsrb/C3/e2/gtsrb_model_c3_aug_nc_e2_1\n",
      "Model loaded correctly\n",
      "D:/models/aug_22/gtsrb/C3/e2/gtsrb_model_c3_aug_nc_e2_2\n",
      "Model loaded correctly\n",
      "D:/models/aug_22/gtsrb/C3/e2/gtsrb_model_c3_aug_nc_e2_3\n",
      "Model loaded correctly\n",
      "D:/models/aug_22/gtsrb/C3/e2/gtsrb_model_c3_aug_nc_e2_4\n",
      "Model loaded correctly\n",
      "D:/models/aug_22/gtsrb/C3/e2/gtsrb_model_c3_aug_nc_e2_5\n",
      "Model loaded correctly\n",
      "D:/models/aug_22/gtsrb/C3/e2/gtsrb_model_c3_aug_nc_e2_6\n",
      "Model loaded correctly\n",
      "D:/models/aug_22/gtsrb/C3/e2/gtsrb_model_c3_aug_nc_e2_7\n",
      "Model loaded correctly\n",
      "D:/models/aug_22/gtsrb/C3/e2/gtsrb_model_c3_aug_nc_e2_8\n",
      "Model loaded correctly\n",
      "D:/models/aug_22/gtsrb/C3/e2/gtsrb_model_c3_aug_nc_e2_9\n",
      "Model loaded correctly\n",
      "D:/models/aug_22/gtsrb/C3/e2/gtsrb_model_c3_aug_nc_e2_10\n",
      "Model loaded correctly\n",
      "D:/models/aug_22/gtsrb/C3/e2/gtsrb_model_c3_aug_nc_e2_11\n",
      "Model loaded correctly\n",
      "D:/models/aug_22/gtsrb/C3/e2/gtsrb_model_c3_aug_nc_e2_12\n",
      "Model loaded correctly\n",
      "D:/models/aug_22/gtsrb/C3/e2/gtsrb_model_c3_aug_nc_e2_13\n",
      "Model loaded correctly\n",
      "D:/models/aug_22/gtsrb/C3/e2/gtsrb_model_c3_aug_nc_e2_14\n",
      "Model loaded correctly\n",
      "D:/models/aug_22/gtsrb/C3/e2/gtsrb_model_c3_aug_nc_e2_15\n",
      "Model loaded correctly\n",
      "D:/models/aug_22/gtsrb/C3/e2/gtsrb_model_c3_aug_nc_e2_16\n",
      "Model loaded correctly\n",
      "D:/models/aug_22/gtsrb/C3/e2/gtsrb_model_c3_aug_nc_e2_17\n",
      "Model loaded correctly\n",
      "D:/models/aug_22/gtsrb/C3/e2/gtsrb_model_c3_aug_nc_e2_18\n",
      "Model loaded correctly\n",
      "D:/models/aug_22/gtsrb/C3/e2/gtsrb_model_c3_aug_nc_e2_19\n",
      "Model loaded correctly\n"
     ]
    }
   ],
   "source": [
    "loading = True\n",
    "\n",
    "models_nc = []\n",
    "\n",
    "if loading:\n",
    "    for i in range(num_models):\n",
    "        #model_nc_dir = \"D:/models/aug_22/\"+dataset+\"/C1/\"+dataset+\"_model_c1_aug_nc_e1\"+str\n",
    "        model_nc_dir = data_dir+\"/\"+dataset+\"/C3/e2/\"+dataset+\"_model_c3_aug_nc_e2_\"+str(i)\n",
    "        print(model_nc_dir)\n",
    "        model =utils.My_model(dataset,True,model_nc_dir)\n",
    "        model.model.compile(loss= 'categorical_crossentropy', optimizer = 'rmsprop', metrics = ['accuracy',tf.keras.metrics.Precision(), tf.keras.metrics.Recall()])\n",
    "        models_nc.append(model)"
   ]
  },
  {
   "cell_type": "markdown",
   "id": "e02952dc",
   "metadata": {},
   "source": [
    "## Evaluating"
   ]
  },
  {
   "cell_type": "code",
   "execution_count": 20,
   "id": "cbc59f41",
   "metadata": {},
   "outputs": [],
   "source": [
    "model_original.model.compile(loss= 'categorical_crossentropy', optimizer = 'rmsprop', metrics = ['accuracy',tf.keras.metrics.Precision(), tf.keras.metrics.Recall()])"
   ]
  },
  {
   "cell_type": "code",
   "execution_count": 21,
   "id": "286ee29c",
   "metadata": {},
   "outputs": [
    {
     "name": "stdout",
     "output_type": "stream",
     "text": [
      "246/246 [==============================] - 55s 87ms/step - loss: 0.1560 - accuracy: 0.9706 - precision_141: 0.9834 - recall_141: 0.9773\n",
      "246/246 [==============================] - 22s 90ms/step - loss: 0.8656 - accuracy: 0.8480 - precision_141: 0.9443 - recall_141: 0.8751\n",
      "246/246 [==============================] - 22s 89ms/step - loss: 0.8656 - accuracy: 0.8480 - precision_141: 0.9380 - recall_141: 0.8601 5s - loss: 0.1288 - accuracy: 0.9786 - pre - ETA: 2s - loss: 0.4179 - accuracy: 0.9230 - precision_141: 0\n",
      "246/246 [==============================] - 22s 90ms/step - loss: 0.8656 - accuracy: 0.8480 - precision_141: 0.9351 - recall_141: 0.8536\n",
      "246/246 [==============================] - 22s 88ms/step - loss: 0.8656 - accuracy: 0.8480 - precision_141: 0.9336 - recall_141: 0.8500 6s - loss: 0.1361 - acc - ETA: 1s - loss: 0.5663 - accuracy: 0.8964 - precision_141: 0.9339 - \n",
      "246/246 [==============================] - 22s 89ms/step - loss: 0.8656 - accuracy: 0.8480 - precision_141: 0.9325 - recall_141: 0.8477 6s - loss: 0.1369 - ETA: 1s - loss: 0.6608 - accuracy: 0.8810 - precision_141: 0.9327 - recal\n"
     ]
    }
   ],
   "source": [
    "evaluate_lsa = []\n",
    "evaluate_dsa = []\n",
    "evaluate_dg = []\n",
    "evaluate_se = []\n",
    "evaluate_nc = []\n",
    "evaluate_random = []\n",
    "\n",
    "evaluate_lsa.append(model_original.evaluate(x_test_and_adversary,y_test_and_adversary))\n",
    "evaluate_dsa.append(model_original.evaluate(x_test_and_adversary,y_test_and_adversary))\n",
    "evaluate_dg.append(model_original.evaluate(x_test_and_adversary,y_test_and_adversary))\n",
    "evaluate_se.append(model_original.evaluate(x_test_and_adversary,y_test_and_adversary))\n",
    "evaluate_nc.append(model_original.evaluate(x_test_and_adversary,y_test_and_adversary))\n",
    "evaluate_random.append(model_original.evaluate(x_test_and_adversary,y_test_and_adversary))"
   ]
  },
  {
   "cell_type": "code",
   "execution_count": 22,
   "id": "30633373",
   "metadata": {},
   "outputs": [
    {
     "name": "stdout",
     "output_type": "stream",
     "text": [
      "Evaluating for lsa\n",
      "246/246 [==============================] - 25s 86ms/step - loss: 0.1999 - accuracy: 0.9451 - precision: 0.9558 - recall: 0.9189\n",
      "246/246 [==============================] - 24s 82ms/step - loss: 0.1110 - accuracy: 0.9721 - precision_1: 0.9832 - recall_1: 0.9664\n",
      "246/246 [==============================] - 23s 79ms/step - loss: 0.1953 - accuracy: 0.9493 - precision_2: 0.9698 - recall_2: 0.9238\n",
      "246/246 [==============================] - 23s 78ms/step - loss: 0.1886 - accuracy: 0.9545 - precision_3: 0.9616 - recall_3: 0.9449\n",
      "246/246 [==============================] - 23s 79ms/step - loss: 0.1681 - accuracy: 0.9564 - precision_4: 0.9700 - recall_4: 0.9314\n",
      "246/246 [==============================] - 23s 79ms/step - loss: 0.1391 - accuracy: 0.9610 - precision_5: 0.9640 - recall_5: 0.9398\n",
      "246/246 [==============================] - 23s 79ms/step - loss: 0.1310 - accuracy: 0.9652 - precision_6: 0.9686 - recall_6: 0.9490\n",
      "246/246 [==============================] - 23s 79ms/step - loss: 0.1061 - accuracy: 0.9676 - precision_7: 0.9665 - recall_7: 0.9526\n",
      "246/246 [==============================] - 23s 78ms/step - loss: 0.0890 - accuracy: 0.9755 - precision_8: 0.9822 - recall_8: 0.9664\n",
      "246/246 [==============================] - 23s 78ms/step - loss: 0.1060 - accuracy: 0.9684 - precision_9: 0.9735 - recall_9: 0.9540\n",
      "246/246 [==============================] - 23s 78ms/step - loss: 0.1140 - accuracy: 0.9648 - precision_10: 0.9647 - recall_10: 0.9513\n",
      "246/246 [==============================] - 23s 78ms/step - loss: 0.0854 - accuracy: 0.9802 - precision_11: 0.9794 - recall_11: 0.9732\n",
      "246/246 [==============================] - 23s 79ms/step - loss: 0.1022 - accuracy: 0.9717 - precision_12: 0.9696 - recall_12: 0.9600\n",
      "246/246 [==============================] - 23s 78ms/step - loss: 0.1469 - accuracy: 0.9692 - precision_13: 0.9735 - recall_13: 0.9628\n",
      "246/246 [==============================] - 23s 79ms/step - loss: 0.0621 - accuracy: 0.9833 - precision_14: 0.9906 - recall_14: 0.9730\n",
      "246/246 [==============================] - 23s 79ms/step - loss: 0.1022 - accuracy: 0.9783 - precision_15: 0.9833 - recall_15: 0.9713\n",
      "246/246 [==============================] - 23s 79ms/step - loss: 0.1480 - accuracy: 0.9623 - precision_16: 0.9773 - recall_16: 0.9369\n",
      "246/246 [==============================] - 23s 78ms/step - loss: 0.0766 - accuracy: 0.9799 - precision_17: 0.9827 - recall_17: 0.9692\n",
      "246/246 [==============================] - 23s 79ms/step - loss: 0.0436 - accuracy: 0.9894 - precision_18: 0.9937 - recall_18: 0.9916\n",
      "246/246 [==============================] - 23s 78ms/step - loss: 0.0700 - accuracy: 0.9846 - precision_19: 0.9911 - recall_19: 0.9857\n",
      "Evaluating for dsa\n",
      "246/246 [==============================] - 23s 79ms/step - loss: 0.3286 - accuracy: 0.9307 - precision_20: 0.9626 - recall_20: 0.8627\n",
      "246/246 [==============================] - 23s 79ms/step - loss: 0.6670 - accuracy: 0.8529 - precision_21: 0.9583 - recall_21: 0.6916\n",
      "246/246 [==============================] - 23s 79ms/step - loss: 0.3783 - accuracy: 0.9127 - precision_22: 0.9356 - recall_22: 0.8589\n",
      "246/246 [==============================] - 23s 79ms/step - loss: 0.2474 - accuracy: 0.9383 - precision_23: 0.9525 - recall_23: 0.9095 0s - loss: 0.2436 - accuracy: 0.9394 - precision_23: 0.9522 - recall_23\n",
      "246/246 [==============================] - 23s 79ms/step - loss: 0.3016 - accuracy: 0.9357 - precision_24: 0.9496 - recall_24: 0.9303 0s - loss: 0.3007 - accuracy: 0.9360 - precision_24: 0.9496 - recall_24: 0.930\n",
      "246/246 [==============================] - 23s 78ms/step - loss: 0.2309 - accuracy: 0.9432 - precision_25: 0.9531 - recall_25: 0.9194\n",
      "246/246 [==============================] - 23s 80ms/step - loss: 0.0970 - accuracy: 0.9741 - precision_26: 0.9776 - recall_26: 0.9689\n",
      "246/246 [==============================] - 23s 79ms/step - loss: 0.0849 - accuracy: 0.9799 - precision_27: 0.9805 - recall_27: 0.9691\n",
      "246/246 [==============================] - 23s 79ms/step - loss: 0.0742 - accuracy: 0.9806 - precision_28: 0.9798 - recall_28: 0.9765\n",
      "246/246 [==============================] - 23s 79ms/step - loss: 0.1085 - accuracy: 0.9708 - precision_29: 0.9751 - recall_29: 0.9519\n",
      "246/246 [==============================] - 23s 79ms/step - loss: 0.0917 - accuracy: 0.9769 - precision_30: 0.9788 - recall_30: 0.9667\n",
      "246/246 [==============================] - 23s 79ms/step - loss: 0.1018 - accuracy: 0.9681 - precision_31: 0.9711 - recall_31: 0.9634\n",
      "246/246 [==============================] - 23s 79ms/step - loss: 0.0687 - accuracy: 0.9843 - precision_32: 0.9853 - recall_32: 0.9828\n",
      "246/246 [==============================] - 23s 79ms/step - loss: 0.1004 - accuracy: 0.9766 - precision_33: 0.9769 - recall_33: 0.9658\n",
      "246/246 [==============================] - 23s 79ms/step - loss: 0.0635 - accuracy: 0.9875 - precision_34: 0.9897 - recall_34: 0.9870\n",
      "246/246 [==============================] - 23s 79ms/step - loss: 0.0377 - accuracy: 0.9913 - precision_35: 0.9965 - recall_35: 0.9916\n",
      "246/246 [==============================] - 23s 79ms/step - loss: 0.0582 - accuracy: 0.9855 - precision_36: 0.9900 - recall_36: 0.9827\n",
      "246/246 [==============================] - 23s 79ms/step - loss: 0.0601 - accuracy: 0.9872 - precision_37: 0.9930 - recall_37: 0.9786\n",
      "246/246 [==============================] - 23s 80ms/step - loss: 0.0526 - accuracy: 0.9868 - precision_38: 0.9879 - recall_38: 0.9873\n",
      "246/246 [==============================] - 23s 79ms/step - loss: 0.0589 - accuracy: 0.9867 - precision_39: 0.9887 - recall_39: 0.9857\n",
      "Evaluating for random\n",
      "246/246 [==============================] - 23s 79ms/step - loss: 0.1075 - accuracy: 0.9763 - precision_120: 0.9881 - recall_120: 0.9790\n",
      "246/246 [==============================] - 23s 79ms/step - loss: 0.0966 - accuracy: 0.9791 - precision_121: 0.9847 - recall_121: 0.9831\n",
      "246/246 [==============================] - 25s 79ms/step - loss: 0.1104 - accuracy: 0.9780 - precision_122: 0.9831 - recall_122: 0.9823\n",
      "246/246 [==============================] - 23s 79ms/step - loss: 0.1184 - accuracy: 0.9730 - precision_123: 0.9798 - recall_123: 0.9628\n",
      "246/246 [==============================] - 23s 79ms/step - loss: 0.1017 - accuracy: 0.9794 - precision_124: 0.9874 - recall_124: 0.9791\n",
      "246/246 [==============================] - 23s 81ms/step - loss: 0.1149 - accuracy: 0.9713 - precision_125: 0.9794 - recall_125: 0.9615\n",
      "246/246 [==============================] - 23s 79ms/step - loss: 0.0817 - accuracy: 0.9794 - precision_126: 0.9868 - recall_126: 0.9780\n",
      "246/246 [==============================] - 23s 79ms/step - loss: 0.1125 - accuracy: 0.9787 - precision_127: 0.9821 - recall_127: 0.9793\n",
      "246/246 [==============================] - 23s 80ms/step - loss: 0.1154 - accuracy: 0.9692 - precision_128: 0.9778 - recall_128: 0.9653\n",
      "246/246 [==============================] - 23s 81ms/step - loss: 0.0916 - accuracy: 0.9768 - precision_129: 0.9779 - recall_129: 0.9615\n",
      "246/246 [==============================] - 23s 81ms/step - loss: 0.0819 - accuracy: 0.9839 - precision_130: 0.9828 - recall_130: 0.9809\n",
      "246/246 [==============================] - 23s 81ms/step - loss: 0.0745 - accuracy: 0.9801 - precision_131: 0.9854 - recall_131: 0.9756 5s - loss: 0.\n",
      "246/246 [==============================] - 23s 80ms/step - loss: 0.0688 - accuracy: 0.9869 - precision_132: 0.9928 - recall_132: 0.9852\n",
      "246/246 [==============================] - 23s 80ms/step - loss: 0.0546 - accuracy: 0.9877 - precision_133: 0.9900 - recall_133: 0.9860\n",
      "246/246 [==============================] - 23s 81ms/step - loss: 0.0584 - accuracy: 0.9847 - precision_134: 0.9888 - recall_134: 0.9861\n",
      "246/246 [==============================] - 23s 81ms/step - loss: 0.0607 - accuracy: 0.9873 - precision_135: 0.9905 - recall_135: 0.9875\n",
      "246/246 [==============================] - 23s 80ms/step - loss: 0.0782 - accuracy: 0.9845 - precision_136: 0.9844 - recall_136: 0.9778\n",
      "246/246 [==============================] - 23s 81ms/step - loss: 0.0910 - accuracy: 0.9768 - precision_137: 0.9873 - recall_137: 0.9673\n",
      "246/246 [==============================] - 23s 81ms/step - loss: 0.0751 - accuracy: 0.9833 - precision_138: 0.9863 - recall_138: 0.9786\n",
      "246/246 [==============================] - 23s 81ms/step - loss: 0.0628 - accuracy: 0.9848 - precision_139: 0.9879 - recall_139: 0.9841\n",
      "Evaluating for nc\n",
      "246/246 [==============================] - 23s 79ms/step - loss: 0.1746 - accuracy: 0.9504 - precision_100: 0.9765 - recall_100: 0.9548\n",
      "246/246 [==============================] - 23s 80ms/step - loss: 0.1848 - accuracy: 0.9581 - precision_101: 0.9718 - recall_101: 0.9623\n",
      "246/246 [==============================] - 23s 80ms/step - loss: 0.1406 - accuracy: 0.9628 - precision_102: 0.9789 - recall_102: 0.9726\n",
      "246/246 [==============================] - 23s 81ms/step - loss: 0.1419 - accuracy: 0.9695 - precision_103: 0.9840 - recall_103: 0.9743\n",
      "246/246 [==============================] - 23s 81ms/step - loss: 0.1548 - accuracy: 0.9637 - precision_104: 0.9786 - recall_104: 0.9757\n",
      "246/246 [==============================] - 24s 82ms/step - loss: 0.2075 - accuracy: 0.9530 - precision_105: 0.9802 - recall_105: 0.9689\n",
      "246/246 [==============================] - 23s 80ms/step - loss: 0.2204 - accuracy: 0.9556 - precision_106: 0.9677 - recall_106: 0.9573\n",
      "246/246 [==============================] - 23s 81ms/step - loss: 0.2295 - accuracy: 0.9445 - precision_107: 0.9555 - recall_107: 0.9351\n",
      "246/246 [==============================] - 23s 81ms/step - loss: 0.3638 - accuracy: 0.9413 - precision_108: 0.9628 - recall_108: 0.9515\n",
      "246/246 [==============================] - 23s 81ms/step - loss: 0.3610 - accuracy: 0.9371 - precision_109: 0.9353 - recall_109: 0.9333\n",
      "246/246 [==============================] - 23s 81ms/step - loss: 0.4131 - accuracy: 0.9354 - precision_110: 0.9318 - recall_110: 0.9200\n",
      "246/246 [==============================] - 24s 82ms/step - loss: 0.5770 - accuracy: 0.9362 - precision_111: 0.9272 - recall_111: 0.9188\n",
      "246/246 [==============================] - 21s 73ms/step - loss: 0.3000 - accuracy: 0.9574 - precision_112: 0.9688 - recall_112: 0.9636\n",
      "246/246 [==============================] - 24s 82ms/step - loss: 0.2900 - accuracy: 0.9656 - precision_113: 0.9815 - recall_113: 0.9781\n",
      "246/246 [==============================] - 24s 82ms/step - loss: 0.2438 - accuracy: 0.9653 - precision_114: 0.9758 - recall_114: 0.9680\n",
      "246/246 [==============================] - 24s 83ms/step - loss: 0.2114 - accuracy: 0.9709 - precision_115: 0.9824 - recall_115: 0.9753\n",
      "246/246 [==============================] - 24s 82ms/step - loss: 0.3769 - accuracy: 0.9627 - precision_116: 0.9755 - recall_116: 0.9682 3s - loss: 0.3301 - accuracy: 0.9681 - precision_116: 0. - ETA: 1s - loss: 0.3520 - accuracy: 0.9664 - precision_116: 0.97\n",
      "246/246 [==============================] - 24s 83ms/step - loss: 0.0815 - accuracy: 0.9803 - precision_117: 0.9869 - recall_117: 0.9804 6s - l\n",
      "246/246 [==============================] - 24s 83ms/step - loss: 0.0628 - accuracy: 0.9875 - precision_118: 0.9931 - recall_118: 0.9891\n",
      "246/246 [==============================] - 24s 83ms/step - loss: 0.0736 - accuracy: 0.9843 - precision_119: 0.9884 - recall_119: 0.9769\n"
     ]
    }
   ],
   "source": [
    "# Metrics using adversarial test\n",
    "\n",
    "#evaluate_lsa.append(model_original.evaluate(x_test_and_adversary,y_test_and_adversary))\n",
    "#evaluate_dsa.append(model_original.evaluate(x_test_and_adversary,y_test_and_adversary))\n",
    "#evaluate_nc.append(model_original.evaluate(x_test_and_adversary,y_test_and_adversary))\n",
    "#evaluate_random.append(model_original.evaluate(x_test_and_adversary,y_test_and_adversary))\n",
    "print(\"Evaluating for lsa\")\n",
    "for model in models_lsa:\n",
    "    evaluate_lsa.append(model.evaluate(x_test_and_adversary,y_test_and_adversary))\n",
    "    \n",
    "print(\"Evaluating for dsa\")\n",
    "for model in models_dsa:\n",
    "    evaluate_dsa.append(model.evaluate(x_test_and_adversary,y_test_and_adversary))\n",
    "print(\"Evaluating for random\")\n",
    "for model in models_random:\n",
    "    evaluate_random.append(model.evaluate(x_test_and_adversary,y_test_and_adversary))\n",
    "print(\"Evaluating for nc\")\n",
    "for model in models_nc:\n",
    "    evaluate_nc.append(model.evaluate(x_test_and_adversary,y_test_and_adversary))"
   ]
  },
  {
   "cell_type": "code",
   "execution_count": 23,
   "id": "ae3df5fe",
   "metadata": {},
   "outputs": [
    {
     "name": "stdout",
     "output_type": "stream",
     "text": [
      "Evaluating for dg\n",
      "246/246 [==============================] - 24s 83ms/step - loss: 0.3203 - accuracy: 0.9273 - precision_40: 0.9393 - recall_40: 0.9039\n",
      "246/246 [==============================] - 24s 83ms/step - loss: 0.4664 - accuracy: 0.8931 - precision_41: 0.9398 - recall_41: 0.8578\n",
      "246/246 [==============================] - 24s 83ms/step - loss: 0.7796 - accuracy: 0.8198 - precision_42: 0.9497 - recall_42: 0.7364\n",
      "246/246 [==============================] - 24s 83ms/step - loss: 0.5100 - accuracy: 0.8670 - precision_43: 0.9472 - recall_43: 0.8235\n",
      "246/246 [==============================] - 25s 86ms/step - loss: 0.7726 - accuracy: 0.8247 - precision_44: 0.9143 - recall_44: 0.7886\n",
      "246/246 [==============================] - 24s 84ms/step - loss: 0.1993 - accuracy: 0.9515 - precision_45: 0.9539 - recall_45: 0.9326 4s - loss: 0.1966 - \n",
      "246/246 [==============================] - 24s 85ms/step - loss: 0.1211 - accuracy: 0.9700 - precision_46: 0.9690 - recall_46: 0.9549\n",
      "246/246 [==============================] - 25s 86ms/step - loss: 0.0948 - accuracy: 0.9763 - precision_47: 0.9822 - recall_47: 0.9715\n",
      "246/246 [==============================] - 25s 85ms/step - loss: 0.0683 - accuracy: 0.9876 - precision_48: 0.9906 - recall_48: 0.9867: 9s - loss: 0 - ETA: 4s - loss: 0.0598 - accuracy: 0.9905 - pr - ETA: 0s - loss: 0.0638 - accuracy: 0.9888 - precision_48: 0.9906 - recall_\n",
      "246/246 [==============================] - 25s 86ms/step - loss: 0.0817 - accuracy: 0.9778 - precision_49: 0.9867 - recall_49: 0.9685 8s - loss: 0.0766 - accuracy: 0.9791 - precision_49: 0.9861 - rec - ETA:\n",
      "246/246 [==============================] - 25s 87ms/step - loss: 0.0806 - accuracy: 0.9809 - precision_50: 0.9824 - recall_50: 0.9795\n",
      "246/246 [==============================] - 25s 86ms/step - loss: 0.0647 - accuracy: 0.9864 - precision_51: 0.9891 - recall_51: 0.9878\n",
      "246/246 [==============================] - 25s 87ms/step - loss: 0.0576 - accuracy: 0.9872 - precision_52: 0.9893 - recall_52: 0.9813\n",
      "246/246 [==============================] - 25s 87ms/step - loss: 0.0698 - accuracy: 0.9837 - precision_53: 0.9873 - recall_53: 0.9850\n",
      "246/246 [==============================] - 25s 88ms/step - loss: 0.0483 - accuracy: 0.9882 - precision_54: 0.9922 - recall_54: 0.9898 - ETA: 1s - loss: 0.0427 - accuracy: 0.9898 - precision_54: 0.9922 - recal - ETA: 0s - loss: 0.0467 - accuracy: 0.9886 - precision_54: 0.9922 - recall_54: 0.9\n",
      "246/246 [==============================] - 25s 89ms/step - loss: 0.0694 - accuracy: 0.9828 - precision_55: 0.9889 - recall_55: 0.9777 1s - loss: 0.0641 - accuracy: 0.9844 - precision_55: 0.9889 - \n",
      "246/246 [==============================] - 25s 88ms/step - loss: 0.0699 - accuracy: 0.9858 - precision_56: 0.9905 - recall_56: 0.9851\n",
      "246/246 [==============================] - 25s 89ms/step - loss: 0.0652 - accuracy: 0.9828 - precision_57: 0.9878 - recall_57: 0.9807 10s - loss: 0.0592 - acc - ETA: 6s - loss: 0.0569 - accuracy: 0.9855 - ETA: 2s - loss: 0.0576 - accuracy: 0.9851 - precision_57: 0\n",
      "246/246 [==============================] - 26s 91ms/step - loss: 0.0628 - accuracy: 0.9864 - precision_58: 0.9900 - recall_58: 0.9844 9s - loss: 0.0560 - accuracy: 0.9890 - precision_58: 0.9889 - re - ETA: 0s - loss: 0.0620 - accuracy: 0.9866 - precision_58: 0.9900 - recall_58: 0.984\n",
      "246/246 [==============================] - 27s 94ms/step - loss: 0.0852 - accuracy: 0.9863 - precision_59: 0.9860 - recall_59: 0.9847\n",
      "Evaluating for se\n",
      "246/246 [==============================] - 26s 93ms/step - loss: 0.2908 - accuracy: 0.9363 - precision_60: 0.9537 - recall_60: 0.9005 0s - loss: 0.2807 - accuracy: 0.9387 - precision_60: 0.9535 - recall_\n",
      "246/246 [==============================] - 26s 93ms/step - loss: 0.4245 - accuracy: 0.8923 - precision_61: 0.9460 - recall_61: 0.8601 11s - loss: 0.3995 - accurac\n",
      "246/246 [==============================] - 27s 94ms/step - loss: 0.2786 - accuracy: 0.9305 - precision_62: 0.9746 - recall_62: 0.8691 5s - loss: 0.2716 - a\n",
      "246/246 [==============================] - 26s 93ms/step - loss: 0.4329 - accuracy: 0.8859 - precision_63: 0.9323 - recall_63: 0.8497 12s - loss: 0.4301 - accu - ETA: 1s - loss: 0.4276 - accuracy: 0.8870 - precision_63: 0.9325 \n",
      "246/246 [==============================] - 27s 96ms/step - loss: 0.2969 - accuracy: 0.9223 - precision_64: 0.9677 - recall_64: 0.8632\n",
      "246/246 [==============================] - 28s 99ms/step - loss: 0.1611 - accuracy: 0.9622 - precision_65: 0.9787 - recall_65: 0.9417\n",
      "246/246 [==============================] - 29s 101ms/step - loss: 0.1732 - accuracy: 0.9584 - precision_66: 0.9644 - recall_66: 0.9567\n",
      "246/246 [==============================] - 28s 101ms/step - loss: 0.0908 - accuracy: 0.9773 - precision_67: 0.9812 - recall_67: 0.97190s - loss: 0.0890 - accuracy: 0.9778 - precision_67: 0.9812 - recall_67: 0.9\n",
      "246/246 [==============================] - 28s 101ms/step - loss: 0.0653 - accuracy: 0.9823 - precision_68: 0.9844 - recall_68: 0.98082s - loss: 0.0556 - accuracy: 0.9850 - precision_6\n",
      "246/246 [==============================] - 30s 107ms/step - loss: 0.0627 - accuracy: 0.9852 - precision_69: 0.9888 - recall_69: 0.9805\n",
      "246/246 [==============================] - 28s 100ms/step - loss: 0.0730 - accuracy: 0.9844 - precision_70: 0.9897 - recall_70: 0.98460s - loss: 0.0695 - accuracy: 0.9854 - precision_70: 0.9897 - recall_70:\n",
      "246/246 [==============================] - 29s 105ms/step - loss: 0.0633 - accuracy: 0.9850 - precision_71: 0.9879 - recall_71: 0.9843\n",
      "246/246 [==============================] - 32s 116ms/step - loss: 0.0627 - accuracy: 0.9872 - precision_72: 0.9895 - recall_72: 0.9855\n",
      "246/246 [==============================] - 30s 106ms/step - loss: 0.0692 - accuracy: 0.9835 - precision_73: 0.9914 - recall_73: 0.98326s - loss: 0.0558 - ac\n",
      "246/246 [==============================] - 32s 113ms/step - loss: 0.0548 - accuracy: 0.9898 - precision_74: 0.9928 - recall_74: 0.9911\n",
      "246/246 [==============================] - 31s 111ms/step - loss: 0.0764 - accuracy: 0.9836 - precision_75: 0.9846 - recall_75: 0.9835\n",
      "246/246 [==============================] - 32s 115ms/step - loss: 0.0747 - accuracy: 0.9827 - precision_76: 0.9869 - recall_76: 0.9778\n",
      "246/246 [==============================] - 31s 112ms/step - loss: 0.0621 - accuracy: 0.9867 - precision_77: 0.9904 - recall_77: 0.9880\n",
      "246/246 [==============================] - 31s 111ms/step - loss: 0.0652 - accuracy: 0.9856 - precision_78: 0.9885 - recall_78: 0.9835\n",
      "246/246 [==============================] - 32s 116ms/step - loss: 0.0964 - accuracy: 0.9823 - precision_79: 0.9824 - recall_79: 0.9808\n"
     ]
    }
   ],
   "source": [
    "print(\"Evaluating for dg\")\n",
    "for model in models_dg:\n",
    "    evaluate_dg.append(model.evaluate(x_test_and_adversary,y_test_and_adversary))\n",
    "    \n",
    "print(\"Evaluating for se\")\n",
    "for model in models_se:\n",
    "    evaluate_se.append(model.evaluate(x_test_and_adversary,y_test_and_adversary))\n"
   ]
  },
  {
   "cell_type": "code",
   "execution_count": 24,
   "id": "2141a097",
   "metadata": {},
   "outputs": [
    {
     "data": {
      "text/plain": [
       "21"
      ]
     },
     "execution_count": 24,
     "metadata": {},
     "output_type": "execute_result"
    }
   ],
   "source": [
    "len(evaluate_dg)"
   ]
  },
  {
   "cell_type": "code",
   "execution_count": 25,
   "id": "e48d1822",
   "metadata": {},
   "outputs": [
    {
     "data": {
      "text/plain": [
       "21"
      ]
     },
     "execution_count": 25,
     "metadata": {},
     "output_type": "execute_result"
    }
   ],
   "source": [
    "len(evaluate_nc)"
   ]
  },
  {
   "cell_type": "code",
   "execution_count": 26,
   "id": "ba831e22",
   "metadata": {},
   "outputs": [],
   "source": [
    "import pandas as pd\n",
    "\n",
    "df_evaluate_lsa = pd.DataFrame(np.array(evaluate_lsa),columns=[\"loss\",\"accuracy\",\"precision\",\"recall\"])\n",
    "df_evaluate_dsa = pd.DataFrame(np.array(evaluate_dsa),columns=[\"loss\",\"accuracy\",\"precision\",\"recall\"])\n",
    "df_evaluate_dg = pd.DataFrame(np.array(evaluate_dg),columns=[\"loss\",\"accuracy\",\"precision\",\"recall\"])\n",
    "df_evaluate_se = pd.DataFrame(np.array(evaluate_se),columns=[\"loss\",\"accuracy\",\"precision\",\"recall\"])\n",
    "\n",
    "df_evaluate_random = pd.DataFrame(np.array(evaluate_random),columns=[\"loss\",\"accuracy\",\"precision\",\"recall\"])\n",
    "df_evaluate_nc = pd.DataFrame(np.array(evaluate_nc),columns=[\"loss\",\"accuracy\",\"precision\",\"recall\"])\n"
   ]
  },
  {
   "cell_type": "code",
   "execution_count": 28,
   "id": "d5eae8d4",
   "metadata": {},
   "outputs": [
    {
     "name": "stdout",
     "output_type": "stream",
     "text": [
      "D:/aug_graphs/gtsrb/c3_2\n"
     ]
    }
   ],
   "source": [
    "save_dir = \"D:/aug_graphs/\"+dataset+\"/\"+config_lc+\"_2\"\n",
    "print(save_dir)"
   ]
  },
  {
   "cell_type": "code",
   "execution_count": 29,
   "id": "1fcc89a7",
   "metadata": {},
   "outputs": [],
   "source": [
    "df_evaluate_lsa.to_csv(save_dir+\"/lsa_\"+config_lc,index=False)\n",
    "df_evaluate_dsa.to_csv(save_dir+\"/dsa_\"+config_lc,index=False)\n",
    "df_evaluate_dg.to_csv(save_dir+\"/dg_\"+config_lc,index=False)\n",
    "df_evaluate_se.to_csv(save_dir+\"/se_\"+config_lc,index=False)\n",
    "df_evaluate_random.to_csv(save_dir+\"/random_\"+config_lc,index=False)\n",
    "df_evaluate_nc.to_csv(save_dir+\"/nc_\"+config_lc,index=False)"
   ]
  },
  {
   "cell_type": "code",
   "execution_count": 12,
   "id": "ef3a3982",
   "metadata": {},
   "outputs": [],
   "source": [
    "import pandas as pd\n",
    "loading_csv = True\n",
    "if(loading_csv):\n",
    "    \n",
    "    df_evaluate_lsa = pd.read_csv(save_dir+\"/lsa_\"+config_lc)\n",
    "    df_evaluate_dsa = pd.read_csv(save_dir+\"/dsa_\"+config_lc)\n",
    "    df_evaluate_dg = pd.read_csv(save_dir+\"/dg_\"+config_lc)\n",
    "    df_evaluate_se = pd.read_csv(save_dir+\"/se_\"+config_lc)\n",
    "    df_evaluate_random = pd.read_csv(save_dir+\"/random_\"+config_lc)\n",
    "    df_evaluate_nc = pd.read_csv(save_dir+\"/nc_\"+config_lc)"
   ]
  },
  {
   "cell_type": "code",
   "execution_count": 30,
   "id": "434369a2",
   "metadata": {},
   "outputs": [
    {
     "data": {
      "text/html": [
       "<div>\n",
       "<style scoped>\n",
       "    .dataframe tbody tr th:only-of-type {\n",
       "        vertical-align: middle;\n",
       "    }\n",
       "\n",
       "    .dataframe tbody tr th {\n",
       "        vertical-align: top;\n",
       "    }\n",
       "\n",
       "    .dataframe thead th {\n",
       "        text-align: right;\n",
       "    }\n",
       "</style>\n",
       "<table border=\"1\" class=\"dataframe\">\n",
       "  <thead>\n",
       "    <tr style=\"text-align: right;\">\n",
       "      <th></th>\n",
       "      <th>loss</th>\n",
       "      <th>accuracy</th>\n",
       "      <th>precision</th>\n",
       "      <th>recall</th>\n",
       "    </tr>\n",
       "  </thead>\n",
       "  <tbody>\n",
       "    <tr>\n",
       "      <th>0</th>\n",
       "      <td>0.865599</td>\n",
       "      <td>0.848037</td>\n",
       "      <td>0.937963</td>\n",
       "      <td>0.860125</td>\n",
       "    </tr>\n",
       "    <tr>\n",
       "      <th>1</th>\n",
       "      <td>0.586184</td>\n",
       "      <td>0.869582</td>\n",
       "      <td>0.947378</td>\n",
       "      <td>0.910426</td>\n",
       "    </tr>\n",
       "    <tr>\n",
       "      <th>2</th>\n",
       "      <td>0.620076</td>\n",
       "      <td>0.852754</td>\n",
       "      <td>0.937297</td>\n",
       "      <td>0.861980</td>\n",
       "    </tr>\n",
       "    <tr>\n",
       "      <th>3</th>\n",
       "      <td>0.848578</td>\n",
       "      <td>0.796660</td>\n",
       "      <td>0.944398</td>\n",
       "      <td>0.735833</td>\n",
       "    </tr>\n",
       "    <tr>\n",
       "      <th>4</th>\n",
       "      <td>0.592517</td>\n",
       "      <td>0.850586</td>\n",
       "      <td>0.944779</td>\n",
       "      <td>0.820332</td>\n",
       "    </tr>\n",
       "    <tr>\n",
       "      <th>5</th>\n",
       "      <td>0.761926</td>\n",
       "      <td>0.822922</td>\n",
       "      <td>0.911247</td>\n",
       "      <td>0.788788</td>\n",
       "    </tr>\n",
       "    <tr>\n",
       "      <th>6</th>\n",
       "      <td>0.273260</td>\n",
       "      <td>0.931795</td>\n",
       "      <td>0.962187</td>\n",
       "      <td>0.942521</td>\n",
       "    </tr>\n",
       "    <tr>\n",
       "      <th>7</th>\n",
       "      <td>0.206182</td>\n",
       "      <td>0.944926</td>\n",
       "      <td>0.976956</td>\n",
       "      <td>0.963429</td>\n",
       "    </tr>\n",
       "    <tr>\n",
       "      <th>8</th>\n",
       "      <td>0.200454</td>\n",
       "      <td>0.946201</td>\n",
       "      <td>0.981947</td>\n",
       "      <td>0.971349</td>\n",
       "    </tr>\n",
       "    <tr>\n",
       "      <th>9</th>\n",
       "      <td>0.180957</td>\n",
       "      <td>0.958185</td>\n",
       "      <td>0.989816</td>\n",
       "      <td>0.985818</td>\n",
       "    </tr>\n",
       "    <tr>\n",
       "      <th>10</th>\n",
       "      <td>0.181672</td>\n",
       "      <td>0.949771</td>\n",
       "      <td>0.987271</td>\n",
       "      <td>0.968090</td>\n",
       "    </tr>\n",
       "    <tr>\n",
       "      <th>11</th>\n",
       "      <td>0.185745</td>\n",
       "      <td>0.950790</td>\n",
       "      <td>0.984269</td>\n",
       "      <td>0.979331</td>\n",
       "    </tr>\n",
       "    <tr>\n",
       "      <th>12</th>\n",
       "      <td>0.182706</td>\n",
       "      <td>0.955125</td>\n",
       "      <td>0.989149</td>\n",
       "      <td>0.985189</td>\n",
       "    </tr>\n",
       "    <tr>\n",
       "      <th>13</th>\n",
       "      <td>0.146142</td>\n",
       "      <td>0.959969</td>\n",
       "      <td>0.991727</td>\n",
       "      <td>0.982476</td>\n",
       "    </tr>\n",
       "    <tr>\n",
       "      <th>14</th>\n",
       "      <td>0.192644</td>\n",
       "      <td>0.951428</td>\n",
       "      <td>0.986556</td>\n",
       "      <td>0.982571</td>\n",
       "    </tr>\n",
       "    <tr>\n",
       "      <th>15</th>\n",
       "      <td>0.148375</td>\n",
       "      <td>0.960862</td>\n",
       "      <td>0.991409</td>\n",
       "      <td>0.986992</td>\n",
       "    </tr>\n",
       "    <tr>\n",
       "      <th>16</th>\n",
       "      <td>0.156649</td>\n",
       "      <td>0.957420</td>\n",
       "      <td>0.988988</td>\n",
       "      <td>0.978860</td>\n",
       "    </tr>\n",
       "    <tr>\n",
       "      <th>17</th>\n",
       "      <td>0.169713</td>\n",
       "      <td>0.957802</td>\n",
       "      <td>0.990567</td>\n",
       "      <td>0.982506</td>\n",
       "    </tr>\n",
       "    <tr>\n",
       "      <th>18</th>\n",
       "      <td>0.161889</td>\n",
       "      <td>0.955252</td>\n",
       "      <td>0.987825</td>\n",
       "      <td>0.978919</td>\n",
       "    </tr>\n",
       "    <tr>\n",
       "      <th>19</th>\n",
       "      <td>0.165362</td>\n",
       "      <td>0.957802</td>\n",
       "      <td>0.990366</td>\n",
       "      <td>0.983351</td>\n",
       "    </tr>\n",
       "    <tr>\n",
       "      <th>20</th>\n",
       "      <td>0.205440</td>\n",
       "      <td>0.957420</td>\n",
       "      <td>0.987859</td>\n",
       "      <td>0.985246</td>\n",
       "    </tr>\n",
       "  </tbody>\n",
       "</table>\n",
       "</div>"
      ],
      "text/plain": [
       "        loss  accuracy  precision    recall\n",
       "0   0.865599  0.848037   0.937963  0.860125\n",
       "1   0.586184  0.869582   0.947378  0.910426\n",
       "2   0.620076  0.852754   0.937297  0.861980\n",
       "3   0.848578  0.796660   0.944398  0.735833\n",
       "4   0.592517  0.850586   0.944779  0.820332\n",
       "5   0.761926  0.822922   0.911247  0.788788\n",
       "6   0.273260  0.931795   0.962187  0.942521\n",
       "7   0.206182  0.944926   0.976956  0.963429\n",
       "8   0.200454  0.946201   0.981947  0.971349\n",
       "9   0.180957  0.958185   0.989816  0.985818\n",
       "10  0.181672  0.949771   0.987271  0.968090\n",
       "11  0.185745  0.950790   0.984269  0.979331\n",
       "12  0.182706  0.955125   0.989149  0.985189\n",
       "13  0.146142  0.959969   0.991727  0.982476\n",
       "14  0.192644  0.951428   0.986556  0.982571\n",
       "15  0.148375  0.960862   0.991409  0.986992\n",
       "16  0.156649  0.957420   0.988988  0.978860\n",
       "17  0.169713  0.957802   0.990567  0.982506\n",
       "18  0.161889  0.955252   0.987825  0.978919\n",
       "19  0.165362  0.957802   0.990366  0.983351\n",
       "20  0.205440  0.957420   0.987859  0.985246"
      ]
     },
     "execution_count": 30,
     "metadata": {},
     "output_type": "execute_result"
    }
   ],
   "source": [
    "df_evaluate_dg"
   ]
  },
  {
   "cell_type": "code",
   "execution_count": 31,
   "id": "3c21fd01",
   "metadata": {},
   "outputs": [],
   "source": [
    "\n",
    "metric =\"accuracy\"\n",
    "accuracy_lsa_3 = np.array(df_evaluate_lsa[metric])\n",
    "accuracy_dsa_3 = np.array(df_evaluate_dsa[metric])\n",
    "accuracy_dg_3 = np.array(df_evaluate_dg[metric])\n",
    "accuracy_se_3 = np.array(df_evaluate_se[metric])\n",
    "\n",
    "accuracy_nc_3 =np.array(df_evaluate_nc[metric])\n",
    "accuracy_random_3 = np.array(df_evaluate_random[metric])\n"
   ]
  },
  {
   "cell_type": "code",
   "execution_count": null,
   "id": "7aeb569b",
   "metadata": {},
   "outputs": [],
   "source": []
  },
  {
   "cell_type": "code",
   "execution_count": 32,
   "id": "9ed5051f",
   "metadata": {},
   "outputs": [],
   "source": [
    "n_data_points = 190"
   ]
  },
  {
   "cell_type": "code",
   "execution_count": 33,
   "id": "43b61f22",
   "metadata": {},
   "outputs": [
    {
     "data": {
      "text/plain": [
       "21"
      ]
     },
     "execution_count": 33,
     "metadata": {},
     "output_type": "execute_result"
    }
   ],
   "source": [
    "len(accuracy_dsa_3)"
   ]
  },
  {
   "cell_type": "code",
   "execution_count": 34,
   "id": "e67df87a",
   "metadata": {},
   "outputs": [
    {
     "name": "stdout",
     "output_type": "stream",
     "text": [
      "21\n"
     ]
    },
    {
     "data": {
      "text/plain": [
       "[0,\n",
       " 190,\n",
       " 380,\n",
       " 570,\n",
       " 760,\n",
       " 950,\n",
       " 1140,\n",
       " 1330,\n",
       " 1520,\n",
       " 1710,\n",
       " 1900,\n",
       " 2090,\n",
       " 2280,\n",
       " 2470,\n",
       " 2660,\n",
       " 2850,\n",
       " 3040,\n",
       " 3230,\n",
       " 3420,\n",
       " 3610,\n",
       " 3921]"
      ]
     },
     "execution_count": 34,
     "metadata": {},
     "output_type": "execute_result"
    }
   ],
   "source": [
    "n_inputs = [n_data_points*i for i in range(num_models)]\n",
    "n_inputs.append(3921) #3921\n",
    "print(len(n_inputs))\n",
    "n_inputs"
   ]
  },
  {
   "cell_type": "code",
   "execution_count": 35,
   "id": "3cd2cd2d",
   "metadata": {},
   "outputs": [
    {
     "name": "stdout",
     "output_type": "stream",
     "text": [
      "21\n",
      "21\n"
     ]
    }
   ],
   "source": [
    "print(len(df_evaluate_dg))\n",
    "print(len(n_inputs))"
   ]
  },
  {
   "cell_type": "code",
   "execution_count": 36,
   "id": "b484cf9a",
   "metadata": {},
   "outputs": [],
   "source": [
    "#save_dir = \"D:/aug_graphs/\"+dataset+\"/\"+config"
   ]
  },
  {
   "cell_type": "code",
   "execution_count": 37,
   "id": "04d02a6d",
   "metadata": {},
   "outputs": [],
   "source": [
    "linestyles = ['solid','dotted','dashed','dashed','dashdot','dashdot']\n",
    "colors =['b','g','r','c','m','k']"
   ]
  },
  {
   "cell_type": "code",
   "execution_count": 38,
   "id": "330e6598",
   "metadata": {},
   "outputs": [
    {
     "name": "stdout",
     "output_type": "stream",
     "text": [
      "3610 0.9584395885467529\n",
      "3921 0.9614992141723633\n",
      "2850 0.9608618021011353\n",
      "2850 0.9600968956947327\n",
      "3230 0.9566547870635986\n",
      "3921 0.9524477124214172\n"
     ]
    },
    {
     "data": {
      "image/png": "[encoded data removed]",
      "text/plain": [
       "<Figure size 432x288 with 1 Axes>"
      ]
     },
     "metadata": {
      "needs_background": "light"
     },
     "output_type": "display_data"
    }
   ],
   "source": [
    "#adversarial jsma test set\n",
    "#configuration 3\n",
    "\"\"\"\n",
    "6) Incremental guided retraining starting from the original model using only the new adversarial inputs.\n",
    "Incremental training, starting with the previous trained model. Using at each iteration a subset of the new inputs.\n",
    "\"\"\"\n",
    "import matplotlib.pyplot as plt\n",
    "import matplotlib.patches as mpatches\n",
    "\n",
    "from matplotlib.patches import Patch\n",
    "from matplotlib.lines import Line2D\n",
    "\n",
    "plt.plot(n_inputs,accuracy_lsa_3,colors[0],linestyle=linestyles[0])\n",
    "plt.plot(n_inputs,accuracy_dsa_3,colors[1],linestyle=linestyles[1])\n",
    "plt.plot(n_inputs,accuracy_dg_3,colors[2],linestyle=linestyles[2])\n",
    "plt.plot(n_inputs,accuracy_se_3,colors[3],linestyle=linestyles[3])\n",
    "plt.plot(n_inputs,accuracy_random_3,colors[4],linestyle=linestyles[4])\n",
    "plt.plot(n_inputs,accuracy_nc_3,colors[5],linestyle=linestyles[5])\n",
    "\n",
    "\n",
    "legend_elements = [Line2D([0], [0], color=colors[0], label='LSA',ls = linestyles[0]),\n",
    "                   Line2D([0], [0], color=colors[1], label='DSA',ls = linestyles[1]),\n",
    "                   Line2D([0], [0], color=colors[2], label='dg',ls = linestyles[2]),\n",
    "                   Line2D([0], [0], color=colors[3], label='se',ls = linestyles[3]),\n",
    "                   Line2D([0], [0], color=colors[4], label='Random',ls = linestyles[4]),\n",
    "                   Line2D([0], [0], color=colors[5], label='NC',ls = linestyles[5])]\n",
    "\n",
    "\n",
    "\n",
    "plt.legend(handles=legend_elements)#\n",
    "#plt.title(\"Accuracy\")\n",
    "\n",
    "print(n_inputs[np.argmax(accuracy_lsa_3)],accuracy_lsa_3.max())\n",
    "print(n_inputs[np.argmax(accuracy_dsa_3)],accuracy_dsa_3.max())\n",
    "print(n_inputs[np.argmax(accuracy_dg_3)],accuracy_dg_3.max())\n",
    "print(n_inputs[np.argmax(accuracy_se_3)],accuracy_se_3.max())\n",
    "print(n_inputs[np.argmax(accuracy_random_3)],accuracy_random_3.max())\n",
    "print(n_inputs[np.argmax(accuracy_nc_3)],accuracy_nc_3.max())\n",
    "\n",
    "plt.plot(n_inputs[np.argmax(accuracy_lsa_3)],accuracy_lsa_3.max(),'-bD',)\n",
    "plt.plot(n_inputs[np.argmax(accuracy_dsa_3)],accuracy_dsa_3.max(),'-go')\n",
    "plt.plot(n_inputs[np.argmax(accuracy_dg_3)],accuracy_dg_3.max(),'-r+')\n",
    "plt.plot(n_inputs[np.argmax(accuracy_se_3)],accuracy_se_3.max(),'-c*')\n",
    "plt.plot(n_inputs[np.argmax(accuracy_random_3)],accuracy_random_3.max(),'-mv')\n",
    "plt.plot(n_inputs[np.argmax(accuracy_nc_3)],accuracy_nc_3.max(),'-kp')\n",
    "\n",
    "plt.xlabel('Number of inputs')\n",
    "plt.ylabel('Accuracy')\n",
    "plt.xlim([0, 3921])\n",
    "#plt.ylim([0.5, 1])\n",
    "\n",
    "plt.savefig(save_dir+\"/\"+dataset+\"_\"+config_lc+\"_\"+\"accuracy\" + \".svg\")\n",
    "\n",
    "plt.show()"
   ]
  },
  {
   "cell_type": "code",
   "execution_count": null,
   "id": "75c13967",
   "metadata": {},
   "outputs": [],
   "source": []
  }
 ],
 "metadata": {
  "kernelspec": {
   "display_name": "Python 3 (ipykernel)",
   "language": "python",
   "name": "python3"
  },
  "language_info": {
   "codemirror_mode": {
    "name": "ipython",
    "version": 3
   },
   "file_extension": ".py",
   "mimetype": "text/x-python",
   "name": "python",
   "nbconvert_exporter": "python",
   "pygments_lexer": "ipython3",
   "version": "3.9.7"
  }
 },
 "nbformat": 4,
 "nbformat_minor": 5
}
