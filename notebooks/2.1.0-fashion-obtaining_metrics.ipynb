{
 "cells": [
  {
   "cell_type": "markdown",
   "id": "b89fa188",
   "metadata": {},
   "source": [
    "# Obtaining metrics\n",
    "\n",
    "## Dataset: CIFAR-10\n"
   ]
  },
  {
   "cell_type": "code",
   "execution_count": 1,
   "id": "ce1386e9",
   "metadata": {},
   "outputs": [],
   "source": [
    "import argparse\n",
    "\n",
    "import numpy as np\n",
    "import tensorflow as tf\n",
    "import tensorflow.keras.backend as K\n",
    "\n",
    "import matplotlib.pyplot as plt\n",
    "\n",
    "#from keras.utils import np_utils\n",
    "#from keras.models import Sequential\n",
    "#from keras.layers import Dense, Dropout, Activation, Flatten, Conv2D, MaxPooling2D\n",
    "#from keras.regularizers import l2\n",
    "\n",
    "import glob\n",
    "import os\n",
    "import cv2\n",
    "import tensorflow.keras as keras\n",
    "\n",
    "\n",
    "import time\n",
    "import argparse\n",
    "\n",
    "from tqdm import tqdm\n",
    "\n",
    "#from keras.models import load_model, Model\n",
    "from importlib import reload  \n"
   ]
  },
  {
   "cell_type": "code",
   "execution_count": 2,
   "id": "4a0f60c0",
   "metadata": {},
   "outputs": [
    {
     "data": {
      "text/plain": [
       "'D:\\\\guided-retraining\\\\notebooks'"
      ]
     },
     "execution_count": 2,
     "metadata": {},
     "output_type": "execute_result"
    }
   ],
   "source": [
    "pwd"
   ]
  },
  {
   "cell_type": "code",
   "execution_count": 3,
   "id": "1af83a55",
   "metadata": {},
   "outputs": [],
   "source": [
    "dataset = \"fashion\""
   ]
  },
  {
   "cell_type": "code",
   "execution_count": 4,
   "id": "5c0d4469",
   "metadata": {},
   "outputs": [],
   "source": [
    "model_direction = \"D:/guided-retraining/models/\"\n",
    "\n",
    "if(dataset == 'gtsrb'):\n",
    "    model_direction = \"C:/Users/fjdur/Documents/upc-july/models/tf_model_25-06\"\n",
    "elif(dataset == 'intel'):\n",
    "    model_direction = \"C:/Users/fjdur/Documents/upc-july/models/intel_model_21_10\"\n",
    "elif(dataset == 'mnist'):\n",
    "    model_direction = \"C:/Users/fjdur/Documents/MNIST project/models2\"\n",
    "elif(dataset == 'cifar'):\n",
    "    model_direction = \"C:/Users/fjdur/Documents/upc-july/models/model_02\"\n",
    "elif(dataset == 'fashion'):\n",
    "    model_direction += \"model_fashion_2\"\n"
   ]
  },
  {
   "cell_type": "code",
   "execution_count": 5,
   "id": "7aa9fcbd",
   "metadata": {},
   "outputs": [
    {
     "name": "stdout",
     "output_type": "stream",
     "text": [
      "D:\\guided-retraining\\utils\n"
     ]
    }
   ],
   "source": [
    "cd ../utils"
   ]
  },
  {
   "cell_type": "code",
   "execution_count": 6,
   "id": "723735cb",
   "metadata": {},
   "outputs": [
    {
     "name": "stdout",
     "output_type": "stream",
     "text": [
      "2.5.0\n",
      "keras\n",
      "2.5.0\n"
     ]
    }
   ],
   "source": [
    "# utils for project\n",
    "import utils_guided_retraining2 as utils"
   ]
  },
  {
   "cell_type": "code",
   "execution_count": 7,
   "id": "e91b351f",
   "metadata": {},
   "outputs": [
    {
     "data": {
      "text/plain": [
       "'D:\\\\guided-retraining\\\\utils'"
      ]
     },
     "execution_count": 7,
     "metadata": {},
     "output_type": "execute_result"
    }
   ],
   "source": [
    "pwd"
   ]
  },
  {
   "cell_type": "code",
   "execution_count": 8,
   "id": "bbb2f8e1",
   "metadata": {},
   "outputs": [
    {
     "name": "stdout",
     "output_type": "stream",
     "text": [
      "2.5.0\n",
      "keras\n",
      "2.5.0\n"
     ]
    }
   ],
   "source": [
    "from importlib import reload  \n",
    "utils = reload(utils)"
   ]
  },
  {
   "cell_type": "code",
   "execution_count": 9,
   "id": "09cb7606",
   "metadata": {},
   "outputs": [
    {
     "name": "stdout",
     "output_type": "stream",
     "text": [
      "[WinError 2] The system cannot find the file specified: '../MNIST project/'\n",
      "D:\\guided-retraining\\utils\n"
     ]
    }
   ],
   "source": [
    "cd ../MNIST project/"
   ]
  },
  {
   "cell_type": "code",
   "execution_count": null,
   "id": "dd8a9274",
   "metadata": {},
   "outputs": [],
   "source": []
  },
  {
   "cell_type": "code",
   "execution_count": 10,
   "id": "50c2b3f3",
   "metadata": {},
   "outputs": [],
   "source": [
    "x_train,y_train = utils.get_data(dataset,\"Train\")\n",
    "x_val,y_val = utils.get_data(dataset,\"Val\")\n",
    "x_test,y_test = utils.get_data(dataset,\"Test\")"
   ]
  },
  {
   "cell_type": "code",
   "execution_count": 11,
   "id": "e6f6f8a7",
   "metadata": {},
   "outputs": [
    {
     "name": "stdout",
     "output_type": "stream",
     "text": [
      "D:/guided-retraining/data/data_adversarial_july/fashion/train_and_adversary.npy\n",
      "x_set len:  55998\n",
      "D:/guided-retraining/data/data_adversarial_july/fashion/train_and_adversary_labels.npy\n",
      "y_set len:  55998\n"
     ]
    }
   ],
   "source": [
    "x_train_and_adversary,y_train_and_adversary = utils.get_data(dataset,\"Train_and_adversary\",True)"
   ]
  },
  {
   "cell_type": "code",
   "execution_count": 12,
   "id": "d7d112f8",
   "metadata": {},
   "outputs": [
    {
     "name": "stdout",
     "output_type": "stream",
     "text": [
      "(48999, 28, 28, 1)\n",
      "(48999, 10)\n",
      "(14000, 28, 28, 1)\n",
      "(14000, 10)\n",
      "(7001, 28, 28, 1)\n",
      "(7001, 10)\n",
      "---\n",
      "(28, 28, 1)\n",
      "(55998, 28, 28, 1)\n",
      "(55998, 10)\n"
     ]
    }
   ],
   "source": [
    "print(x_train.shape)\n",
    "print(y_train.shape)\n",
    "print(x_val.shape)\n",
    "print(y_val.shape)\n",
    "print(x_test.shape)\n",
    "print(y_test.shape)\n",
    "print(\"---\")\n",
    "print(x_train[0].shape)\n",
    "print(x_train_and_adversary.shape)\n",
    "print(y_train_and_adversary.shape)"
   ]
  },
  {
   "cell_type": "code",
   "execution_count": 13,
   "id": "1a43a014",
   "metadata": {},
   "outputs": [
    {
     "name": "stdout",
     "output_type": "stream",
     "text": [
      "10\n"
     ]
    }
   ],
   "source": [
    "num_classes = y_train_and_adversary.shape[-1]\n",
    "print(num_classes)"
   ]
  },
  {
   "cell_type": "code",
   "execution_count": 14,
   "id": "68da837f",
   "metadata": {},
   "outputs": [],
   "source": [
    "#here editing\n"
   ]
  },
  {
   "cell_type": "code",
   "execution_count": 15,
   "id": "53dcdf78",
   "metadata": {},
   "outputs": [
    {
     "name": "stdout",
     "output_type": "stream",
     "text": [
      "6999\n",
      "6999\n"
     ]
    }
   ],
   "source": [
    "x_adversary_training = x_train_and_adversary[len(x_train):]\n",
    "print(len(x_adversary_training))\n",
    "y_adversary_training = y_train_and_adversary[len(y_train):]\n",
    "\n",
    "print(len(y_adversary_training))"
   ]
  },
  {
   "cell_type": "code",
   "execution_count": 16,
   "id": "d8fd2c92",
   "metadata": {},
   "outputs": [
    {
     "name": "stdout",
     "output_type": "stream",
     "text": [
      "D:/guided-retraining/data/data_adversarial_july/fashion/test_and_adversary.npy D:/guided-retraining/data/data_adversarial_july/fashion/test_and_adversary_labels.npy\n",
      "D:/guided-retraining/data/data_adversarial_july/fashion/test_and_adversary.npy\n",
      "x_set len:  14000\n",
      "D:/guided-retraining/data/data_adversarial_july/fashion/test_and_adversary_labels.npy\n",
      "y_set len:  14000\n"
     ]
    }
   ],
   "source": [
    "# Obtaining adversarial examples for testing \n",
    "x_test_and_adversary,y_test_and_adversary = utils.get_adversarial_data(dataset,\"Test_adversarial\",True) "
   ]
  },
  {
   "cell_type": "code",
   "execution_count": 17,
   "id": "7a119796",
   "metadata": {},
   "outputs": [
    {
     "name": "stdout",
     "output_type": "stream",
     "text": [
      "(14000, 28, 28, 1)\n",
      "(14000, 10)\n"
     ]
    }
   ],
   "source": [
    "print(x_test_and_adversary.shape)\n",
    "print(y_test_and_adversary.shape)"
   ]
  },
  {
   "cell_type": "code",
   "execution_count": 18,
   "id": "c27698e5",
   "metadata": {},
   "outputs": [
    {
     "name": "stdout",
     "output_type": "stream",
     "text": [
      "6999\n",
      "6999\n"
     ]
    }
   ],
   "source": [
    "x_adversary_test_fgsm = x_test_and_adversary[len(x_test):]\n",
    "print(len(x_adversary_test_fgsm))\n",
    "y_adversary_test_fgsm = y_test_and_adversary[len(y_test):]\n",
    "\n",
    "print(len(y_adversary_test_fgsm))"
   ]
  },
  {
   "cell_type": "code",
   "execution_count": 19,
   "id": "a8be363b",
   "metadata": {},
   "outputs": [],
   "source": [
    "#x_test_and_adversary_jsma,y_test_and_adversary_jsma = utils.get_adversarial_data('Test_jsma') "
   ]
  },
  {
   "cell_type": "code",
   "execution_count": null,
   "id": "043cb855",
   "metadata": {},
   "outputs": [],
   "source": []
  },
  {
   "cell_type": "markdown",
   "id": "becb4e3b",
   "metadata": {},
   "source": [
    "## ----"
   ]
  },
  {
   "cell_type": "code",
   "execution_count": 20,
   "id": "c1560941",
   "metadata": {},
   "outputs": [],
   "source": [
    "# Original model \n",
    "#model_dir = \"C:/Users/fjdur/Desktop/upc/project_notebooks/github_project/DL_notebooks/models/tf_model_25-06\""
   ]
  },
  {
   "cell_type": "code",
   "execution_count": 21,
   "id": "e5478616",
   "metadata": {},
   "outputs": [],
   "source": [
    "#model = utils.My_model(True, model_dir)"
   ]
  },
  {
   "cell_type": "code",
   "execution_count": 22,
   "id": "10bf9c4c",
   "metadata": {},
   "outputs": [],
   "source": [
    "# Loading model already trained\n",
    "model_dir = \"D:/guided-retraining/models/model_fashion_2/\"\n",
    "model = keras.models.load_model(model_direction)"
   ]
  },
  {
   "cell_type": "code",
   "execution_count": 23,
   "id": "f9299057",
   "metadata": {},
   "outputs": [
    {
     "name": "stdout",
     "output_type": "stream",
     "text": [
      "219/219 [==============================] - 2s 8ms/step - loss: 0.2254 - accuracy: 0.9190\n"
     ]
    },
    {
     "data": {
      "text/plain": [
       "[0.2253975123167038, 0.9190115928649902]"
      ]
     },
     "execution_count": 23,
     "metadata": {},
     "output_type": "execute_result"
    }
   ],
   "source": [
    "model.evaluate(x_test,y_test)"
   ]
  },
  {
   "cell_type": "code",
   "execution_count": 24,
   "id": "30e521c2",
   "metadata": {},
   "outputs": [
    {
     "name": "stdout",
     "output_type": "stream",
     "text": [
      "438/438 [==============================] - 4s 8ms/step - loss: 0.5032 - accuracy: 0.8342\n"
     ]
    },
    {
     "data": {
      "text/plain": [
       "[0.5032416582107544, 0.8342142701148987]"
      ]
     },
     "execution_count": 24,
     "metadata": {},
     "output_type": "execute_result"
    }
   ],
   "source": [
    "model.evaluate(x_test_and_adversary,y_test_and_adversary)"
   ]
  },
  {
   "cell_type": "markdown",
   "id": "78edd1c7",
   "metadata": {},
   "source": [
    "## Obtaining new LSA and DSA values \n",
    "- Required module 'deepimportance_code_release'"
   ]
  },
  {
   "cell_type": "code",
   "execution_count": 25,
   "id": "1eccf405",
   "metadata": {},
   "outputs": [
    {
     "name": "stdout",
     "output_type": "stream",
     "text": [
      "D:\\deepimportance_code_release\n"
     ]
    }
   ],
   "source": [
    "cd \"D:/deepimportance_code_release\""
   ]
  },
  {
   "cell_type": "code",
   "execution_count": 45,
   "id": "683466fa",
   "metadata": {},
   "outputs": [
    {
     "name": "stdout",
     "output_type": "stream",
     "text": [
      "Collecting tensorflow-addons==0.13.0\n",
      "  Using cached tensorflow_addons-0.13.0-cp39-cp39-win_amd64.whl (615 kB)\n",
      "Collecting typeguard>=2.7 (from tensorflow-addons==0.13.0)\n",
      "  Using cached typeguard-3.0.2-py3-none-any.whl (30 kB)\n",
      "Requirement already satisfied: importlib-metadata>=3.6 in c:\\users\\fjdur\\appdata\\local\\programs\\python\\python39\\lib\\site-packages (from typeguard>=2.7->tensorflow-addons==0.13.0) (6.6.0)\n",
      "Collecting typing-extensions>=4.4.0 (from typeguard>=2.7->tensorflow-addons==0.13.0)\n",
      "  Using cached typing_extensions-4.5.0-py3-none-any.whl (27 kB)\n",
      "Requirement already satisfied: zipp>=0.5 in c:\\users\\fjdur\\appdata\\local\\programs\\python\\python39\\lib\\site-packages (from importlib-metadata>=3.6->typeguard>=2.7->tensorflow-addons==0.13.0) (3.15.0)\n",
      "Installing collected packages: typing-extensions, typeguard, tensorflow-addons\n",
      "  Attempting uninstall: typing-extensions\n",
      "    Found existing installation: typing-extensions 3.7.4.3\n",
      "    Uninstalling typing-extensions-3.7.4.3:\n",
      "      Successfully uninstalled typing-extensions-3.7.4.3\n",
      "Successfully installed tensorflow-addons-0.13.0 typeguard-3.0.2 typing-extensions-4.5.0\n",
      "Note: you may need to restart the kernel to use updated packages.\n"
     ]
    },
    {
     "name": "stderr",
     "output_type": "stream",
     "text": [
      "WARNING: Ignoring invalid distribution -rotobuf (c:\\users\\fjdur\\appdata\\local\\programs\\python\\python39\\lib\\site-packages)\n",
      "WARNING: Ignoring invalid distribution -rotobuf (c:\\users\\fjdur\\appdata\\local\\programs\\python\\python39\\lib\\site-packages)\n",
      "    WARNING: Ignoring invalid distribution -rotobuf (c:\\users\\fjdur\\appdata\\local\\programs\\python\\python39\\lib\\site-packages)\n",
      "WARNING: Ignoring invalid distribution -rotobuf (c:\\users\\fjdur\\appdata\\local\\programs\\python\\python39\\lib\\site-packages)\n",
      "WARNING: Ignoring invalid distribution -rotobuf (c:\\users\\fjdur\\appdata\\local\\programs\\python\\python39\\lib\\site-packages)\n",
      "WARNING: Ignoring invalid distribution -rotobuf (c:\\users\\fjdur\\appdata\\local\\programs\\python\\python39\\lib\\site-packages)\n",
      "ERROR: pip's dependency resolver does not currently take into account all the packages that are installed. This behaviour is the source of the following dependency conflicts.\n",
      "tensorflow 2.5.0 requires typing-extensions~=3.7.4, but you have typing-extensions 4.5.0 which is incompatible.\n",
      "tensorflow-cpu 2.5.0 requires typing-extensions~=3.7.4, but you have typing-extensions 4.5.0 which is incompatible.\n"
     ]
    }
   ],
   "source": [
    "pip install tensorflow-addons==0.13.0"
   ]
  },
  {
   "cell_type": "code",
   "execution_count": 49,
   "id": "824e90b6",
   "metadata": {},
   "outputs": [],
   "source": [
    "from typing import Literal\n",
    "from typing_extensions import Literal"
   ]
  },
  {
   "cell_type": "code",
   "execution_count": 51,
   "id": "ceaa5b7f",
   "metadata": {},
   "outputs": [
    {
     "name": "stdout",
     "output_type": "stream",
     "text": [
      "Requirement already satisfied: typing-extensions in c:\\users\\fjdur\\appdata\\local\\programs\\python\\python39\\lib\\site-packages (4.5.0)\n",
      "Note: you may need to restart the kernel to use updated packages.\n"
     ]
    },
    {
     "name": "stderr",
     "output_type": "stream",
     "text": [
      "WARNING: Ignoring invalid distribution -rotobuf (c:\\users\\fjdur\\appdata\\local\\programs\\python\\python39\\lib\\site-packages)\n",
      "WARNING: Ignoring invalid distribution -rotobuf (c:\\users\\fjdur\\appdata\\local\\programs\\python\\python39\\lib\\site-packages)\n"
     ]
    }
   ],
   "source": [
    "pip install typing-extensions --upgrade"
   ]
  },
  {
   "cell_type": "code",
   "execution_count": 35,
   "id": "6df52b78",
   "metadata": {},
   "outputs": [],
   "source": [
    "# from 07_notebook\n",
    "from utils import filter_val_set, get_trainable_layers\n",
    "from utils import generate_adversarial, filter_correct_classifications\n",
    "from coverages.idc import ImportanceDrivenCoverage\n",
    "from coverages.neuron_cov import NeuronCoverage\n",
    "from coverages.tkn import DeepGaugeLayerLevelCoverage\n",
    "from coverages.kmn import DeepGaugePercentCoverage\n",
    "from coverages.ss import SSCover\n",
    "from coverages.sa import SurpriseAdequacy\n"
   ]
  },
  {
   "cell_type": "code",
   "execution_count": 36,
   "id": "718bf035",
   "metadata": {},
   "outputs": [
    {
     "name": "stdout",
     "output_type": "stream",
     "text": [
      "Trainable layers: [0, 2, 6, 8, 10]\n",
      "Non trainable layers: [1, 3, 4, 5, 7, 9]\n"
     ]
    }
   ],
   "source": [
    "trainable_layers = get_trainable_layers(model)\n",
    "non_trainable_layers = list(set(range(len(model.layers))) - set(trainable_layers))\n",
    "print('Trainable layers: ' + str(trainable_layers))\n",
    "print('Non trainable layers: ' + str(non_trainable_layers))"
   ]
  },
  {
   "cell_type": "code",
   "execution_count": 37,
   "id": "67d41b48",
   "metadata": {},
   "outputs": [
    {
     "name": "stdout",
     "output_type": "stream",
     "text": [
      "Model: \"sequential_2\"\n",
      "_________________________________________________________________\n",
      "Layer (type)                 Output Shape              Param #   \n",
      "=================================================================\n",
      "conv2d_4 (Conv2D)            (None, 28, 28, 64)        640       \n",
      "_________________________________________________________________\n",
      "max_pooling2d_3 (MaxPooling2 (None, 14, 14, 64)        0         \n",
      "_________________________________________________________________\n",
      "conv2d_5 (Conv2D)            (None, 14, 14, 64)        36928     \n",
      "_________________________________________________________________\n",
      "max_pooling2d_4 (MaxPooling2 (None, 7, 7, 64)          0         \n",
      "_________________________________________________________________\n",
      "dropout_4 (Dropout)          (None, 7, 7, 64)          0         \n",
      "_________________________________________________________________\n",
      "flatten_2 (Flatten)          (None, 3136)              0         \n",
      "_________________________________________________________________\n",
      "dense_5 (Dense)              (None, 128)               401536    \n",
      "_________________________________________________________________\n",
      "dropout_5 (Dropout)          (None, 128)               0         \n",
      "_________________________________________________________________\n",
      "dense_6 (Dense)              (None, 64)                8256      \n",
      "_________________________________________________________________\n",
      "dropout_6 (Dropout)          (None, 64)                0         \n",
      "_________________________________________________________________\n",
      "dense_7 (Dense)              (None, 10)                650       \n",
      "=================================================================\n",
      "Total params: 448,010\n",
      "Trainable params: 448,010\n",
      "Non-trainable params: 0\n",
      "_________________________________________________________________\n"
     ]
    }
   ],
   "source": [
    "model.summary()"
   ]
  },
  {
   "cell_type": "code",
   "execution_count": 39,
   "id": "e2c1771f",
   "metadata": {},
   "outputs": [
    {
     "data": {
      "text/plain": [
       "['dense_6']"
      ]
     },
     "execution_count": 39,
     "metadata": {},
     "output_type": "execute_result"
    }
   ],
   "source": [
    "subject_layer = trainable_layers[-3]\n",
    "layer_names = [model.layers[-3].name]\n",
    "upper_bound = 2000\n",
    "layer_names"
   ]
  },
  {
   "cell_type": "code",
   "execution_count": 40,
   "id": "0562cf75",
   "metadata": {},
   "outputs": [
    {
     "data": {
      "text/plain": [
       "6"
      ]
     },
     "execution_count": 40,
     "metadata": {},
     "output_type": "execute_result"
    }
   ],
   "source": [
    "subject_layer"
   ]
  },
  {
   "cell_type": "code",
   "execution_count": 41,
   "id": "dd102757",
   "metadata": {},
   "outputs": [],
   "source": [
    "from coverages import sa\n",
    "from datetime import datetime"
   ]
  },
  {
   "cell_type": "code",
   "execution_count": 42,
   "id": "857f2c1c",
   "metadata": {},
   "outputs": [
    {
     "data": {
      "text/plain": [
       "'D:\\\\deepimportance_code_release'"
      ]
     },
     "execution_count": 42,
     "metadata": {},
     "output_type": "execute_result"
    }
   ],
   "source": [
    "pwd"
   ]
  },
  {
   "cell_type": "code",
   "execution_count": 44,
   "id": "efef58c4",
   "metadata": {},
   "outputs": [
    {
     "name": "stdout",
     "output_type": "stream",
     "text": [
      "check  fashion\n"
     ]
    }
   ],
   "source": [
    "print(\"check \",dataset)"
   ]
  },
  {
   "cell_type": "code",
   "execution_count": 45,
   "id": "80d8649b",
   "metadata": {},
   "outputs": [
    {
     "name": "stdout",
     "output_type": "stream",
     "text": [
      "[train] Model serving\n",
      "11\n",
      "383/383 [==============================] - 9s 24ms/step\n",
      "383/383 [==============================] - 9s 23ms/step\n",
      "[train] Processing ATs\n",
      "Layer: dense_6\n",
      "train ATs is saved at ./sa_fashion\\model_01_april_train_dense_6_ats.npy\n",
      "[conf_01_april] Model serving\n",
      "11\n",
      "438/438 [==============================] - 11s 24ms/step\n",
      "438/438 [==============================] - 11s 24ms/step\n",
      "[conf_01_april] Processing ATs\n",
      "Layer: dense_6\n",
      "conf_01_april ATs is saved at ./sa_fashion\\model_01_april_conf_01_april_dense_6_ats.npy\n",
      "yes\n",
      "dict_keys([1, 2, 5, 3, 0, 4, 9, 6, 7, 8])\n",
      "The number of removed columns: 29\n",
      "[conf_01_april] Fetching LSA\n",
      "Duration: 0:04:38.187023\n"
     ]
    }
   ],
   "source": [
    "start_time = datetime.now()\n",
    "#surprise of all inputs wrt to the original inputs\n",
    "target_lsa = sa.fetch_lsa(model, x_train, x_train_and_adversary,\n",
    "                                   \"conf_01_april\", layer_names,\n",
    "                                   num_classes, True,\n",
    "                                   1e-05, './sa_'+dataset, \"model_01_april\")\n",
    "\n",
    "\n",
    "end_time = datetime.now()\n",
    "print('Duration: {}'.format(end_time - start_time))"
   ]
  },
  {
   "cell_type": "code",
   "execution_count": 51,
   "id": "7eef5f72",
   "metadata": {},
   "outputs": [
    {
     "data": {
      "text/plain": [
       "'D:\\\\deepimportance_code_release'"
      ]
     },
     "execution_count": 51,
     "metadata": {},
     "output_type": "execute_result"
    }
   ],
   "source": [
    "pwd"
   ]
  },
  {
   "cell_type": "code",
   "execution_count": null,
   "id": "2c0d4dca",
   "metadata": {},
   "outputs": [],
   "source": []
  },
  {
   "cell_type": "code",
   "execution_count": 47,
   "id": "eccd446e",
   "metadata": {},
   "outputs": [],
   "source": [
    "save_dir = \"D:/guided-retraining/data/\"+dataset+\"/lsa_values.npy\"\n",
    "np.save(save_dir,np.array(target_lsa))"
   ]
  },
  {
   "cell_type": "code",
   "execution_count": 48,
   "id": "5bfd8b90",
   "metadata": {},
   "outputs": [],
   "source": [
    "# editing here"
   ]
  },
  {
   "cell_type": "code",
   "execution_count": 49,
   "id": "58c23d37",
   "metadata": {},
   "outputs": [
    {
     "name": "stdout",
     "output_type": "stream",
     "text": [
      "Found saved train ATs, skip serving\n",
      "[conf_01_april] Model serving\n",
      "11\n",
      "438/438 [==============================] - 11s 24ms/step\n",
      "438/438 [==============================] - 10s 24ms/step\n",
      "[conf_01_april] Processing ATs\n",
      "Layer: dense_6\n",
      "conf_01_april ATs is saved at ./sa_fashion\\model_01_april_conf_01_april_dense_6_ats.npy\n",
      "[conf_01_april] Fetching DSA\n",
      "Duration: 0:25:10.781827\n"
     ]
    }
   ],
   "source": [
    "start_time = datetime.now()\n",
    "\n",
    "target_dsa = sa.fetch_dsa(model, x_train, x_train_and_adversary,\n",
    "                                   \"conf_01_april\", layer_names,\n",
    "                                   num_classes, True,\n",
    "                                   './sa_'+dataset,  \"model_01_april\")\n",
    "end_time = datetime.now()\n",
    "print('Duration: {}'.format(end_time - start_time))"
   ]
  },
  {
   "cell_type": "code",
   "execution_count": 50,
   "id": "5e3ad78f",
   "metadata": {},
   "outputs": [],
   "source": [
    "save_dir = \"D:/guided-retraining/data/\"+dataset+\"/dsa_values.npy\"\n",
    "np.save(save_dir,np.array(target_dsa))"
   ]
  },
  {
   "cell_type": "code",
   "execution_count": null,
   "id": "9d9901e2",
   "metadata": {},
   "outputs": [],
   "source": []
  },
  {
   "cell_type": "code",
   "execution_count": 35,
   "id": "b264130a",
   "metadata": {},
   "outputs": [],
   "source": []
  },
  {
   "cell_type": "code",
   "execution_count": 52,
   "id": "274b5982",
   "metadata": {},
   "outputs": [],
   "source": [
    "#loading\n",
    "loading =False\n",
    "if (loading == True):\n",
    "    save_dir = \"C:/Users/fjdurlop/Documents/upc-july/data/\"+dataset+\"/lsa_values.npy\"\n",
    "    target_lsa = np.load(save_dir)\n",
    "\n",
    "    save_dir = \"C:/Users/fjdurlop/Documents/upc-july/data/\"+dataset+\"/dsa_values.npy\"\n",
    "    target_dsa = np.load(save_dir)"
   ]
  },
  {
   "cell_type": "code",
   "execution_count": 53,
   "id": "6777ec82",
   "metadata": {},
   "outputs": [],
   "source": [
    "#print(target_dsa[48980:49010])"
   ]
  },
  {
   "cell_type": "code",
   "execution_count": 54,
   "id": "d74088e9",
   "metadata": {},
   "outputs": [],
   "source": [
    "#print(target_dsa[49180:49210])"
   ]
  },
  {
   "cell_type": "code",
   "execution_count": 55,
   "id": "0613b226",
   "metadata": {},
   "outputs": [],
   "source": [
    "#print(target_dsa[40180:40210])"
   ]
  },
  {
   "cell_type": "markdown",
   "id": "bf9b45e9",
   "metadata": {},
   "source": [
    "## Random"
   ]
  },
  {
   "cell_type": "code",
   "execution_count": 88,
   "id": "3581436b",
   "metadata": {},
   "outputs": [
    {
     "name": "stdout",
     "output_type": "stream",
     "text": [
      "[3449, 45699, 11935, 49700, 22895, 28486, 43700, 8113, 50695, 50506]\n",
      "55998\n"
     ]
    }
   ],
   "source": [
    "import random\n",
    "random_indexes =list(range(len(x_train_and_adversary)))\n",
    "random.shuffle(random_indexes)\n",
    "print(random_indexes[:10])\n",
    "print(len(random_indexes))"
   ]
  },
  {
   "cell_type": "code",
   "execution_count": 89,
   "id": "0eca574c",
   "metadata": {},
   "outputs": [],
   "source": [
    "\n",
    "save_dir = \"D:/guided-retraining/data/\"+dataset+\"/random_values.npy\"\n",
    "\n",
    "np.save(save_dir,np.array(random_indexes))"
   ]
  },
  {
   "cell_type": "code",
   "execution_count": 61,
   "id": "86cd9ff9",
   "metadata": {},
   "outputs": [
    {
     "name": "stdout",
     "output_type": "stream",
     "text": [
      "D:\\backup_UPC\\upc\\project_notebooks\\TestSelection\n"
     ]
    }
   ],
   "source": [
    "cd D:/backup_UPC/upc/project_notebooks/TestSelection"
   ]
  },
  {
   "cell_type": "code",
   "execution_count": 62,
   "id": "5b460723",
   "metadata": {},
   "outputs": [
    {
     "name": "stdout",
     "output_type": "stream",
     "text": [
      "D:\\backup_UPC\\upc\\project_notebooks\n"
     ]
    }
   ],
   "source": [
    "cd .."
   ]
  },
  {
   "cell_type": "code",
   "execution_count": 28,
   "id": "5edb8353",
   "metadata": {},
   "outputs": [
    {
     "data": {
      "text/plain": [
       "'D:\\\\'"
      ]
     },
     "execution_count": 28,
     "metadata": {},
     "output_type": "execute_result"
    }
   ],
   "source": [
    "pwd"
   ]
  },
  {
   "cell_type": "code",
   "execution_count": 30,
   "id": "8272e881",
   "metadata": {},
   "outputs": [
    {
     "name": "stdout",
     "output_type": "stream",
     "text": [
      "D:\\upc-july-22\\project_notebooks\n"
     ]
    }
   ],
   "source": [
    "cd \"D:/upc-july-22/project_notebooks/\""
   ]
  },
  {
   "cell_type": "code",
   "execution_count": 32,
   "id": "2b25a2ee",
   "metadata": {},
   "outputs": [],
   "source": [
    "import TestSelection\n",
    "from TestSelection.utils.ncoverage import NCoverage # https://github.com/TestSelection/TestSelection"
   ]
  },
  {
   "cell_type": "code",
   "execution_count": null,
   "id": "a538f993",
   "metadata": {},
   "outputs": [],
   "source": []
  },
  {
   "cell_type": "code",
   "execution_count": 33,
   "id": "d479d410",
   "metadata": {},
   "outputs": [
    {
     "name": "stdout",
     "output_type": "stream",
     "text": [
      "Model: \"sequential_2\"\n",
      "_________________________________________________________________\n",
      "Layer (type)                 Output Shape              Param #   \n",
      "=================================================================\n",
      "conv2d_4 (Conv2D)            (None, 28, 28, 64)        640       \n",
      "_________________________________________________________________\n",
      "max_pooling2d_3 (MaxPooling2 (None, 14, 14, 64)        0         \n",
      "_________________________________________________________________\n",
      "conv2d_5 (Conv2D)            (None, 14, 14, 64)        36928     \n",
      "_________________________________________________________________\n",
      "max_pooling2d_4 (MaxPooling2 (None, 7, 7, 64)          0         \n",
      "_________________________________________________________________\n",
      "dropout_4 (Dropout)          (None, 7, 7, 64)          0         \n",
      "_________________________________________________________________\n",
      "flatten_2 (Flatten)          (None, 3136)              0         \n",
      "_________________________________________________________________\n",
      "dense_5 (Dense)              (None, 128)               401536    \n",
      "_________________________________________________________________\n",
      "dropout_5 (Dropout)          (None, 128)               0         \n",
      "_________________________________________________________________\n",
      "dense_6 (Dense)              (None, 64)                8256      \n",
      "_________________________________________________________________\n",
      "dropout_6 (Dropout)          (None, 64)                0         \n",
      "_________________________________________________________________\n",
      "dense_7 (Dense)              (None, 10)                650       \n",
      "=================================================================\n",
      "Total params: 448,010\n",
      "Trainable params: 448,010\n",
      "Non-trainable params: 0\n",
      "_________________________________________________________________\n"
     ]
    }
   ],
   "source": [
    "model.summary()"
   ]
  },
  {
   "cell_type": "code",
   "execution_count": 34,
   "id": "0fed54b8",
   "metadata": {},
   "outputs": [
    {
     "name": "stdout",
     "output_type": "stream",
     "text": [
      "models loaded\n",
      "['dense_6']\n"
     ]
    }
   ],
   "source": [
    "ncComputor_model_1 = NCoverage(model, threshold=0.2,only_layers=[ 'dense_6']) #last hidden layer"
   ]
  },
  {
   "cell_type": "code",
   "execution_count": 35,
   "id": "b7ffce90",
   "metadata": {},
   "outputs": [
    {
     "name": "stdout",
     "output_type": "stream",
     "text": [
      "(55998, 28, 28, 1)\n"
     ]
    }
   ],
   "source": [
    "# number of total inputs\n",
    "print(x_train_and_adversary.shape)"
   ]
  },
  {
   "cell_type": "code",
   "execution_count": 36,
   "id": "eec35f81",
   "metadata": {},
   "outputs": [
    {
     "name": "stdout",
     "output_type": "stream",
     "text": [
      "WARNING:tensorflow:5 out of the last 5 calls to <function Model.make_predict_function.<locals>.predict_function at 0x000001E094306940> triggered tf.function retracing. Tracing is expensive and the excessive number of tracings could be due to (1) creating @tf.function repeatedly in a loop, (2) passing tensors with different shapes, (3) passing Python objects instead of tensors. For (1), please define your @tf.function outside of the loop. For (2), @tf.function has experimental_relax_shapes=True option that relaxes argument shapes that can avoid unnecessary retracing. For (3), please refer to https://www.tensorflow.org/guide/function#controlling_retracing and https://www.tensorflow.org/api_docs/python/tf/function for  more details.\n",
      "WARNING:tensorflow:6 out of the last 6 calls to <function Model.make_predict_function.<locals>.predict_function at 0x000001E09435D310> triggered tf.function retracing. Tracing is expensive and the excessive number of tracings could be due to (1) creating @tf.function repeatedly in a loop, (2) passing tensors with different shapes, (3) passing Python objects instead of tensors. For (1), please define your @tf.function outside of the loop. For (2), @tf.function has experimental_relax_shapes=True option that relaxes argument shapes that can avoid unnecessary retracing. For (3), please refer to https://www.tensorflow.org/guide/function#controlling_retracing and https://www.tensorflow.org/api_docs/python/tf/function for  more details.\n",
      "--- 261.09612369537354 seconds ---\n"
     ]
    }
   ],
   "source": [
    "import time\n",
    "start_time = time.time()\n",
    "nc_model_original_values_1 = [ncComputor_model_1.NC(tf.expand_dims(x, axis=0)) for x in x_train_and_adversary[:3000]]\n",
    "print(\"--- %s seconds ---\" % (time.time() - start_time))\n"
   ]
  },
  {
   "cell_type": "code",
   "execution_count": 37,
   "id": "f7f42ae7",
   "metadata": {},
   "outputs": [
    {
     "name": "stdout",
     "output_type": "stream",
     "text": [
      "--- 258.884281873703 seconds ---\n"
     ]
    }
   ],
   "source": [
    "start_time = time.time()\n",
    "nc_model_original_values_2 = [ncComputor_model_1.NC(tf.expand_dims(x, axis=0)) for x in x_train_and_adversary[3000:6000]]\n",
    "print(\"--- %s seconds ---\" % (time.time() - start_time))\n"
   ]
  },
  {
   "cell_type": "code",
   "execution_count": 38,
   "id": "6079222b",
   "metadata": {},
   "outputs": [
    {
     "data": {
      "text/plain": [
       "(55998, 28, 28, 1)"
      ]
     },
     "execution_count": 38,
     "metadata": {},
     "output_type": "execute_result"
    }
   ],
   "source": [
    "x_train_and_adversary.shape"
   ]
  },
  {
   "cell_type": "code",
   "execution_count": 39,
   "id": "5ef296f0",
   "metadata": {},
   "outputs": [],
   "source": [
    "nc_model_original_values_3 = [ncComputor_model_1.NC(tf.expand_dims(x, axis=0)) for x in x_train_and_adversary[6000:9000]]"
   ]
  },
  {
   "cell_type": "code",
   "execution_count": 40,
   "id": "503101de",
   "metadata": {},
   "outputs": [],
   "source": [
    "nc_values = [\n",
    "    nc_model_original_values_1,\n",
    "    nc_model_original_values_2,\n",
    "    nc_model_original_values_3\n",
    "]"
   ]
  },
  {
   "cell_type": "code",
   "execution_count": 41,
   "id": "cef50798",
   "metadata": {},
   "outputs": [
    {
     "name": "stdout",
     "output_type": "stream",
     "text": [
      "D:\\guided-retraining\\data\\fashion\n"
     ]
    }
   ],
   "source": [
    "cd D:/guided-retraining/data/fashion"
   ]
  },
  {
   "cell_type": "code",
   "execution_count": 74,
   "id": "b03e0dd5",
   "metadata": {},
   "outputs": [
    {
     "name": "stdout",
     "output_type": "stream",
     "text": [
      "C:\\Users\\fjdur\\Documents\\upc-july\\data\\cifar\n"
     ]
    }
   ],
   "source": [
    "#cd C:/Users/fjdur/Documents/upc-july/data/cifar"
   ]
  },
  {
   "cell_type": "code",
   "execution_count": 42,
   "id": "096b6b2f",
   "metadata": {},
   "outputs": [],
   "source": [
    "#Save nc values\n",
    "dataset = \"fashion\"\n",
    "i=1\n",
    "for values in nc_values:\n",
    "    with open(dataset+'_nc_values_'+str(i)+'.npy', 'wb') as f:\n",
    "        np.save(f, np.array(values))\n",
    "    i+=1"
   ]
  },
  {
   "cell_type": "code",
   "execution_count": 43,
   "id": "83465500",
   "metadata": {},
   "outputs": [],
   "source": [
    "del nc_model_original_values_1\n",
    "del nc_model_original_values_2\n",
    "del nc_model_original_values_3"
   ]
  },
  {
   "cell_type": "code",
   "execution_count": 44,
   "id": "7a6ba132",
   "metadata": {},
   "outputs": [],
   "source": [
    "nc_model_original_values_4 = [ncComputor_model_1.NC(tf.expand_dims(x, axis=0)) for x in x_train_and_adversary[9000:12000]]\n",
    "nc_model_original_values_5 = [ncComputor_model_1.NC(tf.expand_dims(x, axis=0)) for x in x_train_and_adversary[12000:15000]]\n"
   ]
  },
  {
   "cell_type": "code",
   "execution_count": 45,
   "id": "9641e91e",
   "metadata": {},
   "outputs": [],
   "source": [
    "nc_values = [\n",
    "    nc_model_original_values_4,\n",
    "    nc_model_original_values_5\n",
    "]"
   ]
  },
  {
   "cell_type": "code",
   "execution_count": 46,
   "id": "fcf114c6",
   "metadata": {},
   "outputs": [],
   "source": [
    "#Save nc values\n",
    "i=4\n",
    "for values in nc_values:\n",
    "    with open(dataset+'_nc_values_'+str(i)+'.npy', 'wb') as f:\n",
    "        np.save(f, np.array(values))\n",
    "    i+=1"
   ]
  },
  {
   "cell_type": "code",
   "execution_count": 47,
   "id": "ce7ec0db",
   "metadata": {},
   "outputs": [],
   "source": [
    "del nc_model_original_values_4\n",
    "del nc_model_original_values_5"
   ]
  },
  {
   "cell_type": "code",
   "execution_count": 48,
   "id": "b8d175de",
   "metadata": {},
   "outputs": [],
   "source": [
    "nc_model_original_values_6 = [ncComputor_model_1.NC(tf.expand_dims(x, axis=0)) for x in x_train_and_adversary[15000:18000]]\n",
    "nc_model_original_values_7 = [ncComputor_model_1.NC(tf.expand_dims(x, axis=0)) for x in x_train_and_adversary[18000:21000]]\n"
   ]
  },
  {
   "cell_type": "code",
   "execution_count": 49,
   "id": "0a3edff4",
   "metadata": {},
   "outputs": [],
   "source": [
    "nc_values = [\n",
    "    nc_model_original_values_6,\n",
    "    nc_model_original_values_7\n",
    "]"
   ]
  },
  {
   "cell_type": "code",
   "execution_count": 50,
   "id": "af5c8a43",
   "metadata": {},
   "outputs": [],
   "source": [
    "#Save nc values\n",
    "i=6\n",
    "for values in nc_values:\n",
    "    with open(dataset+'_nc_values_'+str(i)+'.npy', 'wb') as f:\n",
    "        np.save(f, np.array(values))\n",
    "    i+=1"
   ]
  },
  {
   "cell_type": "code",
   "execution_count": 52,
   "id": "695e7329",
   "metadata": {},
   "outputs": [],
   "source": [
    "del nc_model_original_values_6\n",
    "del nc_model_original_values_7"
   ]
  },
  {
   "cell_type": "code",
   "execution_count": 53,
   "id": "f0e55b87",
   "metadata": {},
   "outputs": [
    {
     "name": "stdout",
     "output_type": "stream",
     "text": [
      "--- 260.7379925251007 seconds ---\n",
      "--- 521.382639169693 seconds ---\n",
      "--- 781.7735779285431 seconds ---\n"
     ]
    }
   ],
   "source": [
    "start_time = time.time()\n",
    "nc_model_original_values_8 = [ncComputor_model_1.NC(tf.expand_dims(x, axis=0)) for x in x_train_and_adversary[21000:24000]]\n",
    "print(\"--- %s seconds ---\" % (time.time() - start_time))\n",
    "\n",
    "nc_model_original_values_9 = [ncComputor_model_1.NC(tf.expand_dims(x, axis=0)) for x in x_train_and_adversary[24000:27000]]\n",
    "print(\"--- %s seconds ---\" % (time.time() - start_time))\n",
    "\n",
    "nc_model_original_values_10 = [ncComputor_model_1.NC(tf.expand_dims(x, axis=0)) for x in x_train_and_adversary[27000:30000]]\n",
    "print(\"--- %s seconds ---\" % (time.time() - start_time))\n"
   ]
  },
  {
   "cell_type": "code",
   "execution_count": 54,
   "id": "8f8a7816",
   "metadata": {},
   "outputs": [],
   "source": [
    "nc_values = [\n",
    "    nc_model_original_values_8,\n",
    "    nc_model_original_values_9,\n",
    "    nc_model_original_values_10\n",
    "]"
   ]
  },
  {
   "cell_type": "code",
   "execution_count": 55,
   "id": "bcdfa37f",
   "metadata": {},
   "outputs": [],
   "source": [
    "#Save nc values\n",
    "i=8\n",
    "for values in nc_values:\n",
    "    with open(dataset+'_nc_values_'+str(i)+'.npy', 'wb') as f:\n",
    "        np.save(f, np.array(values))\n",
    "    i+=1"
   ]
  },
  {
   "cell_type": "code",
   "execution_count": 57,
   "id": "8960fb0c",
   "metadata": {},
   "outputs": [
    {
     "ename": "NameError",
     "evalue": "name 'nc_model_original_values_8' is not defined",
     "output_type": "error",
     "traceback": [
      "\u001b[1;31m---------------------------------------------------------------------------\u001b[0m",
      "\u001b[1;31mNameError\u001b[0m                                 Traceback (most recent call last)",
      "\u001b[1;32m~\\AppData\\Local\\Temp/ipykernel_28628/1492076507.py\u001b[0m in \u001b[0;36m<module>\u001b[1;34m\u001b[0m\n\u001b[1;32m----> 1\u001b[1;33m \u001b[1;32mdel\u001b[0m \u001b[0mnc_model_original_values_8\u001b[0m\u001b[1;33m\u001b[0m\u001b[1;33m\u001b[0m\u001b[0m\n\u001b[0m\u001b[0;32m      2\u001b[0m \u001b[1;32mdel\u001b[0m \u001b[0mnc_model_original_values_9\u001b[0m\u001b[1;33m\u001b[0m\u001b[1;33m\u001b[0m\u001b[0m\n\u001b[0;32m      3\u001b[0m \u001b[1;32mdel\u001b[0m \u001b[0mnc_model_original_values_10\u001b[0m\u001b[1;33m\u001b[0m\u001b[1;33m\u001b[0m\u001b[0m\n",
      "\u001b[1;31mNameError\u001b[0m: name 'nc_model_original_values_8' is not defined"
     ]
    }
   ],
   "source": [
    "del nc_model_original_values_8\n",
    "del nc_model_original_values_9\n",
    "del nc_model_original_values_10"
   ]
  },
  {
   "cell_type": "code",
   "execution_count": 58,
   "id": "b4e15855",
   "metadata": {},
   "outputs": [
    {
     "data": {
      "text/plain": [
       "(55998, 28, 28, 1)"
      ]
     },
     "execution_count": 58,
     "metadata": {},
     "output_type": "execute_result"
    }
   ],
   "source": [
    "x_train_and_adversary.shape"
   ]
  },
  {
   "cell_type": "code",
   "execution_count": 59,
   "id": "de54ee61",
   "metadata": {},
   "outputs": [],
   "source": [
    "nc_model_original_values_11 = [ncComputor_model_1.NC(tf.expand_dims(x, axis=0)) for x in x_train_and_adversary[30000:33000]]\n",
    "nc_model_original_values_12 = [ncComputor_model_1.NC(tf.expand_dims(x, axis=0)) for x in x_train_and_adversary[33000:36000]]\n",
    "nc_model_original_values_13 = [ncComputor_model_1.NC(tf.expand_dims(x, axis=0)) for x in x_train_and_adversary[36000:39000]]"
   ]
  },
  {
   "cell_type": "code",
   "execution_count": 60,
   "id": "32cfb02e",
   "metadata": {},
   "outputs": [],
   "source": [
    "nc_values = [\n",
    "    nc_model_original_values_11,\n",
    "    nc_model_original_values_12,\n",
    "    nc_model_original_values_13,\n",
    "]"
   ]
  },
  {
   "cell_type": "code",
   "execution_count": 61,
   "id": "bdd5ae36",
   "metadata": {},
   "outputs": [],
   "source": [
    "#Save nc values\n",
    "i=11\n",
    "for values in nc_values:\n",
    "    with open(dataset+'_nc_values_'+str(i)+'.npy', 'wb') as f:\n",
    "        np.save(f, np.array(values))\n",
    "    i+=1"
   ]
  },
  {
   "cell_type": "code",
   "execution_count": 62,
   "id": "630e67e7",
   "metadata": {},
   "outputs": [],
   "source": [
    "del nc_model_original_values_11\n",
    "del nc_model_original_values_12\n",
    "del nc_model_original_values_13"
   ]
  },
  {
   "cell_type": "code",
   "execution_count": 63,
   "id": "0eb977fd",
   "metadata": {},
   "outputs": [],
   "source": [
    "\n",
    "nc_model_original_values_14 = [ncComputor_model_1.NC(tf.expand_dims(x, axis=0)) for x in x_train_and_adversary[39000:42000]]\n",
    "nc_model_original_values_15 = [ncComputor_model_1.NC(tf.expand_dims(x, axis=0)) for x in x_train_and_adversary[42000:45000]]\n",
    "nc_model_original_values_16 = [ncComputor_model_1.NC(tf.expand_dims(x, axis=0)) for x in x_train_and_adversary[45000:]]\n",
    "\n"
   ]
  },
  {
   "cell_type": "code",
   "execution_count": 64,
   "id": "29222252",
   "metadata": {},
   "outputs": [],
   "source": [
    "nc_values = [\n",
    "    nc_model_original_values_14,\n",
    "    nc_model_original_values_15,\n",
    "    nc_model_original_values_16,\n",
    "    \n",
    "]"
   ]
  },
  {
   "cell_type": "code",
   "execution_count": 65,
   "id": "b926300a",
   "metadata": {},
   "outputs": [
    {
     "data": {
      "text/plain": [
       "(55998, 28, 28, 1)"
      ]
     },
     "execution_count": 65,
     "metadata": {},
     "output_type": "execute_result"
    }
   ],
   "source": [
    "x_train_and_adversary.shape"
   ]
  },
  {
   "cell_type": "code",
   "execution_count": 66,
   "id": "7104e1c3",
   "metadata": {},
   "outputs": [],
   "source": [
    "#Save nc values\n",
    "i=14\n",
    "for values in nc_values:\n",
    "    with open(dataset+'_nc_values_'+str(i)+'.npy', 'wb') as f:\n",
    "        np.save(f, np.array(values))\n",
    "    i+=1"
   ]
  },
  {
   "cell_type": "code",
   "execution_count": 67,
   "id": "3326f4b0",
   "metadata": {},
   "outputs": [],
   "source": [
    "del nc_model_original_values_14\n",
    "del nc_model_original_values_15\n",
    "del nc_model_original_values_16"
   ]
  },
  {
   "cell_type": "markdown",
   "id": "38f1a214",
   "metadata": {},
   "source": [
    "## Uncertainty"
   ]
  },
  {
   "cell_type": "code",
   "execution_count": 68,
   "id": "646bc36f",
   "metadata": {},
   "outputs": [],
   "source": [
    "from tensorflow.keras import layers\n",
    "from tensorflow import keras"
   ]
  },
  {
   "cell_type": "code",
   "execution_count": 69,
   "id": "0be6d988",
   "metadata": {},
   "outputs": [],
   "source": [
    "# Guardar el Modelo\n",
    "model_dir = \"D:/guided-retraining/models/model_\"+dataset+\".h5\"\n",
    "\n",
    "model.save(model_dir)\n",
    "\n"
   ]
  },
  {
   "cell_type": "code",
   "execution_count": 70,
   "id": "fc1d7a81",
   "metadata": {},
   "outputs": [
    {
     "name": "stdout",
     "output_type": "stream",
     "text": [
      "219/219 [==============================] - 2s 8ms/step - loss: 0.2254 - accuracy: 0.9190\n"
     ]
    },
    {
     "data": {
      "text/plain": [
       "[0.2253975123167038, 0.9190115928649902]"
      ]
     },
     "execution_count": 70,
     "metadata": {},
     "output_type": "execute_result"
    }
   ],
   "source": [
    "model.evaluate(x_test,y_test)"
   ]
  },
  {
   "cell_type": "code",
   "execution_count": 71,
   "id": "5ca1b107",
   "metadata": {},
   "outputs": [],
   "source": [
    "model_dir = \"D:/guided-retraining/models/model_\"+dataset+\".h5\"\n",
    "\n",
    "model_original_functional = keras.models.load_model(model_dir)"
   ]
  },
  {
   "cell_type": "code",
   "execution_count": 72,
   "id": "91e826e0",
   "metadata": {},
   "outputs": [
    {
     "name": "stdout",
     "output_type": "stream",
     "text": [
      "219/219 [==============================] - 2s 8ms/step - loss: 0.2254 - accuracy: 0.9190\n"
     ]
    },
    {
     "data": {
      "text/plain": [
       "[0.2253975123167038, 0.9190115928649902]"
      ]
     },
     "execution_count": 72,
     "metadata": {},
     "output_type": "execute_result"
    }
   ],
   "source": [
    "model_original_functional.evaluate(x_test,y_test)"
   ]
  },
  {
   "cell_type": "code",
   "execution_count": 73,
   "id": "8be0f7d6",
   "metadata": {},
   "outputs": [
    {
     "name": "stdout",
     "output_type": "stream",
     "text": [
      "Collecting uncertainty_wizard\n",
      "  Downloading uncertainty_wizard-0.4.0-py3-none-any.whl (49 kB)\n",
      "     ---------------------------------------- 50.0/50.0 kB 2.6 MB/s eta 0:00:00\n",
      "Installing collected packages: uncertainty_wizard\n",
      "Successfully installed uncertainty_wizard-0.4.0\n"
     ]
    },
    {
     "name": "stderr",
     "output_type": "stream",
     "text": [
      "WARNING: Ignoring invalid distribution -rotobuf (c:\\users\\fjdur\\appdata\\local\\programs\\python\\python39\\lib\\site-packages)\n",
      "WARNING: Ignoring invalid distribution -rotobuf (c:\\users\\fjdur\\appdata\\local\\programs\\python\\python39\\lib\\site-packages)\n",
      "WARNING: Ignoring invalid distribution -rotobuf (c:\\users\\fjdur\\appdata\\local\\programs\\python\\python39\\lib\\site-packages)\n"
     ]
    }
   ],
   "source": [
    "try:\n",
    "  import uncertainty_wizard as uwiz\n",
    "except ModuleNotFoundError as e:\n",
    "  # Uncertainty wizard was not installed. Install it now (we're probably on colab)\n",
    "  !pip install uncertainty_wizard\n",
    "  import uncertainty_wizard as uwiz"
   ]
  },
  {
   "cell_type": "code",
   "execution_count": 74,
   "id": "e2beecfa",
   "metadata": {},
   "outputs": [
    {
     "data": {
      "text/plain": [
       "tensorflow.python.keras.engine.sequential.Sequential"
      ]
     },
     "execution_count": 74,
     "metadata": {},
     "output_type": "execute_result"
    }
   ],
   "source": [
    "type(model_original_functional)"
   ]
  },
  {
   "cell_type": "code",
   "execution_count": 75,
   "id": "e8727ac0",
   "metadata": {},
   "outputs": [],
   "source": [
    "stochastic_model2 = uwiz.models.stochastic_from_keras(model_original_functional)\n"
   ]
  },
  {
   "cell_type": "code",
   "execution_count": 76,
   "id": "3eb4b300",
   "metadata": {},
   "outputs": [
    {
     "name": "stdout",
     "output_type": "stream",
     "text": [
      "875/875 [==============================] - 12s 13ms/step\n"
     ]
    }
   ],
   "source": [
    "quantifiers = ['deep_gini']\n",
    "results_1 = stochastic_model2.predict_quantified(x_train_and_adversary,\n",
    "                                   quantifier=quantifiers,\n",
    "                                   batch_size=64,\n",
    "                                   sample_size=32,\n",
    "                                   verbose=1)"
   ]
  },
  {
   "cell_type": "code",
   "execution_count": 77,
   "id": "effcfbd8",
   "metadata": {},
   "outputs": [
    {
     "name": "stdout",
     "output_type": "stream",
     "text": [
      "875/875 [==============================] - 12s 14ms/step\n"
     ]
    }
   ],
   "source": [
    "quantifiers = [ 'softmax_entropy']\n",
    "results_2 = stochastic_model2.predict_quantified(x_train_and_adversary,\n",
    "                                   quantifier=quantifiers,\n",
    "                                   batch_size=64,\n",
    "                                   sample_size=32,\n",
    "                                   verbose=1)"
   ]
  },
  {
   "cell_type": "code",
   "execution_count": 78,
   "id": "3b9885bd",
   "metadata": {},
   "outputs": [
    {
     "data": {
      "text/plain": [
       "55998"
      ]
     },
     "execution_count": 78,
     "metadata": {},
     "output_type": "execute_result"
    }
   ],
   "source": [
    "len(x_train_and_adversary)"
   ]
  },
  {
   "cell_type": "code",
   "execution_count": 79,
   "id": "37fa8edb",
   "metadata": {},
   "outputs": [],
   "source": [
    "#deep_gini_values = results[0][1]\n",
    "#softmax_values = results[1][1]\n",
    "\n",
    "deep_gini_values = results_1[0][1]\n",
    "softmax_values = results_2[0][1]"
   ]
  },
  {
   "cell_type": "code",
   "execution_count": 80,
   "id": "ad9da949",
   "metadata": {},
   "outputs": [
    {
     "name": "stdout",
     "output_type": "stream",
     "text": [
      "(55998,)\n",
      "(55998,)\n"
     ]
    }
   ],
   "source": [
    "print(deep_gini_values.shape)\n",
    "print(softmax_values.shape)"
   ]
  },
  {
   "cell_type": "code",
   "execution_count": 81,
   "id": "7fd3bde6",
   "metadata": {},
   "outputs": [],
   "source": [
    "save_dir = \"D:/guided-retraining/data/\"+dataset+\"/deep_gini_values.npy\"\n",
    "np.save(save_dir,np.array(deep_gini_values))\n",
    "\n",
    "save_dir = \"D:/guided-retraining/data/\"+dataset+\"/softmax_values.npy\"\n",
    "np.save(save_dir,np.array(softmax_values))"
   ]
  },
  {
   "cell_type": "code",
   "execution_count": 82,
   "id": "78e640c2",
   "metadata": {},
   "outputs": [
    {
     "data": {
      "text/plain": [
       "array([0.66250044, 0.25858265, 1.1146878 , 1.3522917 , 2.284379  ,\n",
       "       0.01298194, 1.176996  , 0.82738376, 0.9531998 , 0.75376177,\n",
       "       0.6146275 , 1.4900167 , 2.3371253 , 0.7434354 , 2.042677  ],\n",
       "      dtype=float32)"
      ]
     },
     "execution_count": 82,
     "metadata": {},
     "output_type": "execute_result"
    }
   ],
   "source": [
    "softmax_values[-15:]"
   ]
  },
  {
   "cell_type": "code",
   "execution_count": 83,
   "id": "7189dd65",
   "metadata": {},
   "outputs": [
    {
     "data": {
      "text/plain": [
       "array([1.5186698e-07, 6.9177963e-02, 1.4216355e+00, 1.0776693e+00,\n",
       "       1.3661254e-11, 4.1334614e-02, 2.3439055e-13, 1.1720991e+00,\n",
       "       6.6281222e-03, 7.5684035e-01, 3.8585882e-04, 2.3269331e-01,\n",
       "       2.0353385e-04, 2.3453268e-07, 1.1927461e-02], dtype=float32)"
      ]
     },
     "execution_count": 83,
     "metadata": {},
     "output_type": "execute_result"
    }
   ],
   "source": [
    "softmax_values[:15]"
   ]
  },
  {
   "cell_type": "code",
   "execution_count": 84,
   "id": "5ceb0a2b",
   "metadata": {},
   "outputs": [
    {
     "data": {
      "text/plain": [
       "array([[0., 0., 1., 0., 0., 0., 0., 0., 0., 0.],\n",
       "       [0., 0., 1., 0., 0., 0., 0., 0., 0., 0.],\n",
       "       [0., 0., 0., 0., 1., 0., 0., 0., 0., 0.],\n",
       "       [0., 0., 0., 0., 0., 0., 1., 0., 0., 0.],\n",
       "       [0., 0., 0., 0., 0., 0., 0., 0., 1., 0.],\n",
       "       [0., 1., 0., 0., 0., 0., 0., 0., 0., 0.],\n",
       "       [0., 0., 0., 0., 0., 0., 1., 0., 0., 0.],\n",
       "       [0., 0., 0., 0., 0., 0., 0., 1., 0., 0.],\n",
       "       [0., 0., 0., 0., 0., 0., 1., 0., 0., 0.],\n",
       "       [0., 0., 0., 0., 0., 0., 0., 0., 1., 0.]], dtype=float32)"
      ]
     },
     "execution_count": 84,
     "metadata": {},
     "output_type": "execute_result"
    }
   ],
   "source": [
    "y_test_and_adversary[:10]"
   ]
  },
  {
   "cell_type": "code",
   "execution_count": null,
   "id": "f93c81b5",
   "metadata": {},
   "outputs": [],
   "source": [
    "# results[0][0] contains the point-predictions from the 'pcs' quantifier\n",
    "#     (i.e., argmax of a single non-randomized network forward pass)\n",
    "# results[0][1] contains the prediction confidence scores for these predictions\n",
    "\n",
    "# results[1][0] contains the predictions from the 'mean_softmax' quantifier\n",
    "#     (i.e., argmax of 32 averages forward pass samples on the randomized DNN)\n",
    "# results[1][1] contains the corresponding confidence\n",
    "#     (i.e., the average softmax value of the class with the highest average softmax value)"
   ]
  },
  {
   "cell_type": "code",
   "execution_count": 85,
   "id": "8e79942f",
   "metadata": {},
   "outputs": [
    {
     "ename": "NameError",
     "evalue": "name 'results' is not defined",
     "output_type": "error",
     "traceback": [
      "\u001b[1;31m---------------------------------------------------------------------------\u001b[0m",
      "\u001b[1;31mNameError\u001b[0m                                 Traceback (most recent call last)",
      "\u001b[1;32m~\\AppData\\Local\\Temp/ipykernel_28628/4135240138.py\u001b[0m in \u001b[0;36m<module>\u001b[1;34m\u001b[0m\n\u001b[1;32m----> 1\u001b[1;33m \u001b[0mprint\u001b[0m\u001b[1;33m(\u001b[0m\u001b[0mresults\u001b[0m\u001b[1;33m[\u001b[0m\u001b[1;36m0\u001b[0m\u001b[1;33m]\u001b[0m\u001b[1;33m[\u001b[0m\u001b[1;36m0\u001b[0m\u001b[1;33m]\u001b[0m\u001b[1;33m)\u001b[0m\u001b[1;33m\u001b[0m\u001b[1;33m\u001b[0m\u001b[0m\n\u001b[0m",
      "\u001b[1;31mNameError\u001b[0m: name 'results' is not defined"
     ]
    }
   ],
   "source": [
    "print(results[0][0])"
   ]
  },
  {
   "cell_type": "code",
   "execution_count": 86,
   "id": "39ef4e1c",
   "metadata": {},
   "outputs": [
    {
     "name": "stdout",
     "output_type": "stream",
     "text": [
      "[1.5186698e-07 6.9177963e-02 1.4216355e+00 1.0776693e+00 1.3661254e-11\n",
      " 4.1334614e-02 2.3439055e-13 1.1720991e+00 6.6281222e-03 7.5684035e-01\n",
      " 3.8585882e-04 2.3269331e-01 2.0353385e-04 2.3453268e-07 1.1927461e-02]\n",
      "[0.66250044 0.25858265 1.1146878  1.3522917  2.284379   0.01298194\n",
      " 1.176996   0.82738376 0.9531998  0.75376177 0.6146275  1.4900167\n",
      " 2.3371253  0.7434354  2.042677  ]\n"
     ]
    }
   ],
   "source": [
    "print(results_2[0][1][:15])\n",
    "print(results_2[0][1][-15:])"
   ]
  },
  {
   "cell_type": "code",
   "execution_count": 87,
   "id": "99879f9d",
   "metadata": {},
   "outputs": [
    {
     "name": "stdout",
     "output_type": "stream",
     "text": [
      "[0.0000000e+00 1.4915645e-02 5.6384498e-01 4.7601807e-01 0.0000000e+00\n",
      " 7.4292421e-03 0.0000000e+00 3.9313078e-01 1.0769367e-03 2.6662236e-01\n",
      " 4.5537949e-05 6.2292576e-02 2.2411346e-05 0.0000000e+00 1.8224716e-03]\n",
      "[0.2356801  0.08173913 0.5043684  0.496311   0.719068   0.00212085\n",
      " 0.5271653  0.26383805 0.44915134 0.24494618 0.17543232 0.5209495\n",
      " 0.7599513  0.26233494 0.72198206]\n"
     ]
    }
   ],
   "source": [
    "print(results_1[0][1][:15])\n",
    "print(results_1[0][1][-15:])"
   ]
  },
  {
   "cell_type": "code",
   "execution_count": null,
   "id": "6abcc8b4",
   "metadata": {},
   "outputs": [],
   "source": []
  }
 ],
 "metadata": {
  "kernelspec": {
   "display_name": "Python 3 (ipykernel)",
   "language": "python",
   "name": "python3"
  },
  "language_info": {
   "codemirror_mode": {
    "name": "ipython",
    "version": 3
   },
   "file_extension": ".py",
   "mimetype": "text/x-python",
   "name": "python",
   "nbconvert_exporter": "python",
   "pygments_lexer": "ipython3",
   "version": "3.9.6"
  }
 },
 "nbformat": 4,
 "nbformat_minor": 5
}
