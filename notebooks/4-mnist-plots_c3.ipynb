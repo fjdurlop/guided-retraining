{
 "cells": [
  {
   "cell_type": "code",
   "execution_count": 1,
   "id": "458bf345",
   "metadata": {},
   "outputs": [],
   "source": [
    "import argparse\n",
    "\n",
    "import numpy as np\n",
    "import tensorflow as tf\n",
    "import keras.backend as K\n",
    "\n",
    "import matplotlib.pyplot as plt\n",
    "\n",
    "from keras.utils import np_utils\n",
    "from keras.models import Sequential\n",
    "from keras.layers import Dense, Dropout, Activation, Flatten, Conv2D, MaxPooling2D\n",
    "from keras.regularizers import l2\n",
    "\n",
    "import glob\n",
    "import os\n",
    "import cv2\n",
    "import keras\n",
    "\n",
    "\n",
    "import time\n",
    "import argparse\n",
    "\n",
    "from tqdm import tqdm\n",
    "\n",
    "from keras.models import load_model, Model\n"
   ]
  },
  {
   "cell_type": "code",
   "execution_count": 2,
   "id": "d87645a5",
   "metadata": {},
   "outputs": [
    {
     "name": "stdout",
     "output_type": "stream",
     "text": [
      "C:\\Users\\fjdur\\Documents\\utils\n"
     ]
    }
   ],
   "source": [
    "cd C:/Users/fjdur/Documents/utils/"
   ]
  },
  {
   "cell_type": "code",
   "execution_count": 3,
   "id": "b4b5dea1",
   "metadata": {},
   "outputs": [
    {
     "name": "stdout",
     "output_type": "stream",
     "text": [
      "2.5.0\n",
      "keras\n",
      "2.5.0\n"
     ]
    }
   ],
   "source": [
    "import utils_guided_retraining as utils"
   ]
  },
  {
   "cell_type": "code",
   "execution_count": 4,
   "id": "a90d3511",
   "metadata": {},
   "outputs": [],
   "source": [
    "dataset = \"mnist\""
   ]
  },
  {
   "cell_type": "code",
   "execution_count": 5,
   "id": "07b34a1a",
   "metadata": {},
   "outputs": [],
   "source": [
    "x_test,y_test = utils.get_data(dataset,\"Test\")"
   ]
  },
  {
   "cell_type": "code",
   "execution_count": 6,
   "id": "244a4fbd",
   "metadata": {},
   "outputs": [],
   "source": [
    "x_train_and_adversary,y_train_and_adversary = utils.get_data(dataset,\"Train_and_adversary\")"
   ]
  },
  {
   "cell_type": "code",
   "execution_count": 7,
   "id": "739175c8",
   "metadata": {},
   "outputs": [],
   "source": [
    "x_test_and_adversary,y_test_and_adversary = utils.get_adversarial_data(dataset,'Test_adversarial') "
   ]
  },
  {
   "cell_type": "code",
   "execution_count": 8,
   "id": "0875bdf0",
   "metadata": {},
   "outputs": [],
   "source": [
    "\n",
    "model_dir = \"C:/Users/fjdur/Documents/upc-july/models/tf_model_25-06/\"\n",
    "if(dataset == 'gtsrb'):\n",
    "    model_dir = \"C:/Users/fjdur/Documents/upc-july/models/tf_model_25-06\"\n",
    "elif(dataset == 'intel'):\n",
    "    model_dir = \"C:/Users/fjdur/Documents/upc-july/models/intel_model_21_10\"\n",
    "elif(dataset == 'mnist'):\n",
    "    model_dir = \"C:/Users/fjdur/Documents/upc-july/models/models2\"\n",
    "elif(dataset == 'cifar'):\n",
    "    model_dir = \"C:/Users/fjdur/Documents/upc-july/models/model_02\"\n"
   ]
  },
  {
   "cell_type": "code",
   "execution_count": 9,
   "id": "1485065e",
   "metadata": {},
   "outputs": [
    {
     "name": "stdout",
     "output_type": "stream",
     "text": [
      "C:/Users/fjdur/Documents/upc-july/models/models2\n",
      "Model loaded correctly\n"
     ]
    }
   ],
   "source": [
    "print(model_dir)\n",
    "model_original = utils.My_model(dataset,True, model_dir)"
   ]
  },
  {
   "cell_type": "markdown",
   "id": "48e95400",
   "metadata": {},
   "source": [
    "## Loading models"
   ]
  },
  {
   "cell_type": "code",
   "execution_count": 10,
   "id": "a22156f9",
   "metadata": {},
   "outputs": [],
   "source": [
    "data_dir = \"D:/models/aug_22\"\n",
    "dataset = \"mnist\"\n",
    "config = \"C3\"\n",
    "config_lc = \"c3\"\n",
    "num_models = 20"
   ]
  },
  {
   "cell_type": "code",
   "execution_count": 11,
   "id": "c0dc05ec",
   "metadata": {},
   "outputs": [
    {
     "name": "stdout",
     "output_type": "stream",
     "text": [
      "D:/models/aug_22/mnist/C3/mnist_model_c3_aug_lsa_e1_0\n",
      "Model loaded correctly\n",
      "D:/models/aug_22/mnist/C3/mnist_model_c3_aug_lsa_e1_1\n",
      "Model loaded correctly\n",
      "D:/models/aug_22/mnist/C3/mnist_model_c3_aug_lsa_e1_2\n",
      "Model loaded correctly\n",
      "D:/models/aug_22/mnist/C3/mnist_model_c3_aug_lsa_e1_3\n",
      "Model loaded correctly\n",
      "D:/models/aug_22/mnist/C3/mnist_model_c3_aug_lsa_e1_4\n",
      "Model loaded correctly\n",
      "D:/models/aug_22/mnist/C3/mnist_model_c3_aug_lsa_e1_5\n",
      "Model loaded correctly\n",
      "D:/models/aug_22/mnist/C3/mnist_model_c3_aug_lsa_e1_6\n",
      "Model loaded correctly\n",
      "D:/models/aug_22/mnist/C3/mnist_model_c3_aug_lsa_e1_7\n",
      "Model loaded correctly\n",
      "D:/models/aug_22/mnist/C3/mnist_model_c3_aug_lsa_e1_8\n",
      "Model loaded correctly\n",
      "D:/models/aug_22/mnist/C3/mnist_model_c3_aug_lsa_e1_9\n",
      "Model loaded correctly\n",
      "D:/models/aug_22/mnist/C3/mnist_model_c3_aug_lsa_e1_10\n",
      "Model loaded correctly\n",
      "D:/models/aug_22/mnist/C3/mnist_model_c3_aug_lsa_e1_11\n",
      "Model loaded correctly\n",
      "D:/models/aug_22/mnist/C3/mnist_model_c3_aug_lsa_e1_12\n",
      "Model loaded correctly\n",
      "D:/models/aug_22/mnist/C3/mnist_model_c3_aug_lsa_e1_13\n",
      "Model loaded correctly\n",
      "D:/models/aug_22/mnist/C3/mnist_model_c3_aug_lsa_e1_14\n",
      "Model loaded correctly\n",
      "D:/models/aug_22/mnist/C3/mnist_model_c3_aug_lsa_e1_15\n",
      "Model loaded correctly\n",
      "D:/models/aug_22/mnist/C3/mnist_model_c3_aug_lsa_e1_16\n",
      "Model loaded correctly\n",
      "D:/models/aug_22/mnist/C3/mnist_model_c3_aug_lsa_e1_17\n",
      "Model loaded correctly\n",
      "D:/models/aug_22/mnist/C3/mnist_model_c3_aug_lsa_e1_18\n",
      "Model loaded correctly\n",
      "D:/models/aug_22/mnist/C3/mnist_model_c3_aug_lsa_e1_19\n",
      "Model loaded correctly\n"
     ]
    }
   ],
   "source": [
    "loading = True\n",
    "\n",
    "models_lsa = []\n",
    "\n",
    "if loading:\n",
    "    for i in range(num_models):\n",
    "        model_lsa_dir = data_dir+\"/\"+dataset+\"/C3/\"+dataset+\"_model_c3_aug_lsa_e1_\"+str(i)\n",
    "        print(model_lsa_dir)\n",
    "        model =utils.My_model(dataset,True,model_lsa_dir)\n",
    "        model.model.compile(loss= 'categorical_crossentropy', optimizer = 'rmsprop', metrics = ['accuracy',tf.keras.metrics.Precision(), tf.keras.metrics.Recall()])\n",
    "        models_lsa.append(model)\n",
    "       \n",
    "    "
   ]
  },
  {
   "cell_type": "code",
   "execution_count": 12,
   "id": "6499958d",
   "metadata": {},
   "outputs": [
    {
     "data": {
      "text/plain": [
       "20"
      ]
     },
     "execution_count": 12,
     "metadata": {},
     "output_type": "execute_result"
    }
   ],
   "source": [
    "len(models_lsa)"
   ]
  },
  {
   "cell_type": "code",
   "execution_count": 13,
   "id": "da4d6ed4",
   "metadata": {},
   "outputs": [
    {
     "name": "stdout",
     "output_type": "stream",
     "text": [
      "D:/models/aug_22/mnist/C3/mnist_model_c3_aug_dsa_e1_0\n",
      "Model loaded correctly\n",
      "D:/models/aug_22/mnist/C3/mnist_model_c3_aug_dsa_e1_1\n",
      "Model loaded correctly\n",
      "D:/models/aug_22/mnist/C3/mnist_model_c3_aug_dsa_e1_2\n",
      "Model loaded correctly\n",
      "D:/models/aug_22/mnist/C3/mnist_model_c3_aug_dsa_e1_3\n",
      "Model loaded correctly\n",
      "D:/models/aug_22/mnist/C3/mnist_model_c3_aug_dsa_e1_4\n",
      "Model loaded correctly\n",
      "D:/models/aug_22/mnist/C3/mnist_model_c3_aug_dsa_e1_5\n",
      "Model loaded correctly\n",
      "D:/models/aug_22/mnist/C3/mnist_model_c3_aug_dsa_e1_6\n",
      "Model loaded correctly\n",
      "D:/models/aug_22/mnist/C3/mnist_model_c3_aug_dsa_e1_7\n",
      "Model loaded correctly\n",
      "D:/models/aug_22/mnist/C3/mnist_model_c3_aug_dsa_e1_8\n",
      "Model loaded correctly\n",
      "D:/models/aug_22/mnist/C3/mnist_model_c3_aug_dsa_e1_9\n",
      "Model loaded correctly\n",
      "D:/models/aug_22/mnist/C3/mnist_model_c3_aug_dsa_e1_10\n",
      "Model loaded correctly\n",
      "D:/models/aug_22/mnist/C3/mnist_model_c3_aug_dsa_e1_11\n",
      "Model loaded correctly\n",
      "D:/models/aug_22/mnist/C3/mnist_model_c3_aug_dsa_e1_12\n",
      "Model loaded correctly\n",
      "D:/models/aug_22/mnist/C3/mnist_model_c3_aug_dsa_e1_13\n",
      "Model loaded correctly\n",
      "D:/models/aug_22/mnist/C3/mnist_model_c3_aug_dsa_e1_14\n",
      "Model loaded correctly\n",
      "D:/models/aug_22/mnist/C3/mnist_model_c3_aug_dsa_e1_15\n",
      "Model loaded correctly\n",
      "D:/models/aug_22/mnist/C3/mnist_model_c3_aug_dsa_e1_16\n",
      "Model loaded correctly\n",
      "D:/models/aug_22/mnist/C3/mnist_model_c3_aug_dsa_e1_17\n",
      "Model loaded correctly\n",
      "D:/models/aug_22/mnist/C3/mnist_model_c3_aug_dsa_e1_18\n",
      "Model loaded correctly\n",
      "D:/models/aug_22/mnist/C3/mnist_model_c3_aug_dsa_e1_19\n",
      "Model loaded correctly\n"
     ]
    }
   ],
   "source": [
    "loading = True\n",
    "\n",
    "models_dsa = []\n",
    "\n",
    "if loading:\n",
    "    for i in range(num_models):\n",
    "        #model_dsa_dir = \"D:/models/gtsrb_models/C1/gtsrb_model_c1_sep_dsa_e2_\"+str(i)\n",
    "        model_dsa_dir = data_dir+\"/\"+dataset+\"/C3/\"+dataset+\"_model_c3_aug_dsa_e1_\"+str(i)\n",
    "        print(model_dsa_dir)\n",
    "        model =utils.My_model(dataset,True,model_dsa_dir)\n",
    "        model.model.compile(loss= 'categorical_crossentropy', optimizer = 'rmsprop', metrics = ['accuracy',tf.keras.metrics.Precision(), tf.keras.metrics.Recall()])\n",
    "        models_dsa.append(model)\n",
    "       \n",
    "\n",
    "    "
   ]
  },
  {
   "cell_type": "code",
   "execution_count": 14,
   "id": "0a4a7c64",
   "metadata": {
    "scrolled": true
   },
   "outputs": [
    {
     "name": "stdout",
     "output_type": "stream",
     "text": [
      "D:/models/aug_22/mnist/C3/mnist_model_c3_aug_dg_e1_0\n",
      "Model loaded correctly\n",
      "D:/models/aug_22/mnist/C3/mnist_model_c3_aug_dg_e1_1\n",
      "Model loaded correctly\n",
      "D:/models/aug_22/mnist/C3/mnist_model_c3_aug_dg_e1_2\n",
      "Model loaded correctly\n",
      "D:/models/aug_22/mnist/C3/mnist_model_c3_aug_dg_e1_3\n",
      "Model loaded correctly\n",
      "D:/models/aug_22/mnist/C3/mnist_model_c3_aug_dg_e1_4\n",
      "Model loaded correctly\n",
      "D:/models/aug_22/mnist/C3/mnist_model_c3_aug_dg_e1_5\n",
      "Model loaded correctly\n",
      "D:/models/aug_22/mnist/C3/mnist_model_c3_aug_dg_e1_6\n",
      "Model loaded correctly\n",
      "D:/models/aug_22/mnist/C3/mnist_model_c3_aug_dg_e1_7\n",
      "Model loaded correctly\n",
      "D:/models/aug_22/mnist/C3/mnist_model_c3_aug_dg_e1_8\n",
      "Model loaded correctly\n",
      "D:/models/aug_22/mnist/C3/mnist_model_c3_aug_dg_e1_9\n",
      "Model loaded correctly\n",
      "D:/models/aug_22/mnist/C3/mnist_model_c3_aug_dg_e1_10\n",
      "Model loaded correctly\n",
      "D:/models/aug_22/mnist/C3/mnist_model_c3_aug_dg_e1_11\n",
      "Model loaded correctly\n",
      "D:/models/aug_22/mnist/C3/mnist_model_c3_aug_dg_e1_12\n",
      "Model loaded correctly\n",
      "D:/models/aug_22/mnist/C3/mnist_model_c3_aug_dg_e1_13\n",
      "Model loaded correctly\n",
      "D:/models/aug_22/mnist/C3/mnist_model_c3_aug_dg_e1_14\n",
      "Model loaded correctly\n",
      "D:/models/aug_22/mnist/C3/mnist_model_c3_aug_dg_e1_15\n",
      "Model loaded correctly\n",
      "D:/models/aug_22/mnist/C3/mnist_model_c3_aug_dg_e1_16\n",
      "Model loaded correctly\n",
      "D:/models/aug_22/mnist/C3/mnist_model_c3_aug_dg_e1_17\n",
      "Model loaded correctly\n",
      "D:/models/aug_22/mnist/C3/mnist_model_c3_aug_dg_e1_18\n",
      "Model loaded correctly\n",
      "D:/models/aug_22/mnist/C3/mnist_model_c3_aug_dg_e1_19\n",
      "Model loaded correctly\n"
     ]
    }
   ],
   "source": [
    "loading = True\n",
    "\n",
    "models_dg = []\n",
    "\n",
    "if loading:\n",
    "    for i in range(num_models):\n",
    "        #model_dg_dir = \"D:/models/aug_22/gtsrb/C1/gtsrb_model_c1_aug_gn_e1_\"+str(i)\n",
    "        model_dg_dir = data_dir+\"/\"+dataset+\"/C3/\"+dataset+\"_model_c3_aug_dg_e1_\"+str(i)\n",
    "        \n",
    "        print(model_dg_dir)\n",
    "        model =utils.My_model(dataset,True,model_dg_dir)\n",
    "        model.model.compile(loss= 'categorical_crossentropy', optimizer = 'rmsprop', metrics = ['accuracy',tf.keras.metrics.Precision(), tf.keras.metrics.Recall()])\n",
    "        models_dg.append(model)\n",
    "       \n",
    "    "
   ]
  },
  {
   "cell_type": "code",
   "execution_count": 15,
   "id": "9301cc38",
   "metadata": {},
   "outputs": [
    {
     "name": "stdout",
     "output_type": "stream",
     "text": [
      "D:/models/aug_22/mnist/C3/mnist_model_c3_aug_se_e1_0\n",
      "Model loaded correctly\n",
      "D:/models/aug_22/mnist/C3/mnist_model_c3_aug_se_e1_1\n",
      "Model loaded correctly\n",
      "D:/models/aug_22/mnist/C3/mnist_model_c3_aug_se_e1_2\n",
      "Model loaded correctly\n",
      "D:/models/aug_22/mnist/C3/mnist_model_c3_aug_se_e1_3\n",
      "Model loaded correctly\n",
      "D:/models/aug_22/mnist/C3/mnist_model_c3_aug_se_e1_4\n",
      "Model loaded correctly\n",
      "D:/models/aug_22/mnist/C3/mnist_model_c3_aug_se_e1_5\n",
      "Model loaded correctly\n",
      "D:/models/aug_22/mnist/C3/mnist_model_c3_aug_se_e1_6\n",
      "Model loaded correctly\n",
      "D:/models/aug_22/mnist/C3/mnist_model_c3_aug_se_e1_7\n",
      "Model loaded correctly\n",
      "D:/models/aug_22/mnist/C3/mnist_model_c3_aug_se_e1_8\n",
      "Model loaded correctly\n",
      "D:/models/aug_22/mnist/C3/mnist_model_c3_aug_se_e1_9\n",
      "Model loaded correctly\n",
      "D:/models/aug_22/mnist/C3/mnist_model_c3_aug_se_e1_10\n",
      "Model loaded correctly\n",
      "D:/models/aug_22/mnist/C3/mnist_model_c3_aug_se_e1_11\n",
      "Model loaded correctly\n",
      "D:/models/aug_22/mnist/C3/mnist_model_c3_aug_se_e1_12\n",
      "Model loaded correctly\n",
      "D:/models/aug_22/mnist/C3/mnist_model_c3_aug_se_e1_13\n",
      "Model loaded correctly\n",
      "D:/models/aug_22/mnist/C3/mnist_model_c3_aug_se_e1_14\n",
      "Model loaded correctly\n",
      "D:/models/aug_22/mnist/C3/mnist_model_c3_aug_se_e1_15\n",
      "Model loaded correctly\n",
      "D:/models/aug_22/mnist/C3/mnist_model_c3_aug_se_e1_16\n",
      "Model loaded correctly\n",
      "D:/models/aug_22/mnist/C3/mnist_model_c3_aug_se_e1_17\n",
      "Model loaded correctly\n",
      "D:/models/aug_22/mnist/C3/mnist_model_c3_aug_se_e1_18\n",
      "Model loaded correctly\n",
      "D:/models/aug_22/mnist/C3/mnist_model_c3_aug_se_e1_19\n",
      "Model loaded correctly\n"
     ]
    }
   ],
   "source": [
    "loading = True\n",
    "\n",
    "models_se = []\n",
    "\n",
    "if loading:\n",
    "    for i in range(num_models):\n",
    "        \n",
    "        model_se_dir = data_dir+\"/\"+dataset+\"/C3/\"+dataset+\"_model_c3_aug_se_e1_\"+str(i)\n",
    "        \n",
    "        print(model_se_dir)\n",
    "        model =utils.My_model(dataset,True,model_se_dir)\n",
    "        model.model.compile(loss= 'categorical_crossentropy', optimizer = 'rmsprop', metrics = ['accuracy',tf.keras.metrics.Precision(), tf.keras.metrics.Recall()])\n",
    "        models_se.append(model)"
   ]
  },
  {
   "cell_type": "code",
   "execution_count": 16,
   "id": "eb1718e3",
   "metadata": {},
   "outputs": [
    {
     "name": "stdout",
     "output_type": "stream",
     "text": [
      "D:/models/aug_22/mnist/C3/mnist_model_c3_aug_random_e1_0\n",
      "Model loaded correctly\n",
      "D:/models/aug_22/mnist/C3/mnist_model_c3_aug_random_e1_1\n",
      "Model loaded correctly\n",
      "D:/models/aug_22/mnist/C3/mnist_model_c3_aug_random_e1_2\n",
      "Model loaded correctly\n",
      "D:/models/aug_22/mnist/C3/mnist_model_c3_aug_random_e1_3\n",
      "Model loaded correctly\n",
      "D:/models/aug_22/mnist/C3/mnist_model_c3_aug_random_e1_4\n",
      "Model loaded correctly\n",
      "D:/models/aug_22/mnist/C3/mnist_model_c3_aug_random_e1_5\n",
      "Model loaded correctly\n",
      "D:/models/aug_22/mnist/C3/mnist_model_c3_aug_random_e1_6\n",
      "Model loaded correctly\n",
      "D:/models/aug_22/mnist/C3/mnist_model_c3_aug_random_e1_7\n",
      "Model loaded correctly\n",
      "D:/models/aug_22/mnist/C3/mnist_model_c3_aug_random_e1_8\n",
      "Model loaded correctly\n",
      "D:/models/aug_22/mnist/C3/mnist_model_c3_aug_random_e1_9\n",
      "Model loaded correctly\n",
      "D:/models/aug_22/mnist/C3/mnist_model_c3_aug_random_e1_10\n",
      "Model loaded correctly\n",
      "D:/models/aug_22/mnist/C3/mnist_model_c3_aug_random_e1_11\n",
      "Model loaded correctly\n",
      "D:/models/aug_22/mnist/C3/mnist_model_c3_aug_random_e1_12\n",
      "Model loaded correctly\n",
      "D:/models/aug_22/mnist/C3/mnist_model_c3_aug_random_e1_13\n",
      "Model loaded correctly\n",
      "D:/models/aug_22/mnist/C3/mnist_model_c3_aug_random_e1_14\n",
      "Model loaded correctly\n",
      "D:/models/aug_22/mnist/C3/mnist_model_c3_aug_random_e1_15\n",
      "Model loaded correctly\n",
      "D:/models/aug_22/mnist/C3/mnist_model_c3_aug_random_e1_16\n",
      "Model loaded correctly\n",
      "D:/models/aug_22/mnist/C3/mnist_model_c3_aug_random_e1_17\n",
      "Model loaded correctly\n",
      "D:/models/aug_22/mnist/C3/mnist_model_c3_aug_random_e1_18\n",
      "Model loaded correctly\n",
      "D:/models/aug_22/mnist/C3/mnist_model_c3_aug_random_e1_19\n",
      "Model loaded correctly\n"
     ]
    }
   ],
   "source": [
    "loading = True\n",
    "\n",
    "models_random = []\n",
    "\n",
    "if loading:\n",
    "    for i in range(num_models):\n",
    "        #model_random_dir = \"D:/models/aug_22/gtsrb/C1/gtsrb_model_c1_aug_random_e1_\"+str(i)\n",
    "        model_random_dir = data_dir+\"/\"+dataset+\"/C3/\"+dataset+\"_model_c3_aug_random_e1_\"+str(i)\n",
    "        \n",
    "        print(model_random_dir)\n",
    "        model =utils.My_model(dataset,True,model_random_dir)\n",
    "        model.model.compile(loss= 'categorical_crossentropy', optimizer = 'rmsprop', metrics = ['accuracy',tf.keras.metrics.Precision(), tf.keras.metrics.Recall()])\n",
    "        models_random.append(model)\n",
    "       "
   ]
  },
  {
   "cell_type": "code",
   "execution_count": 17,
   "id": "b9860981",
   "metadata": {
    "scrolled": true
   },
   "outputs": [
    {
     "name": "stdout",
     "output_type": "stream",
     "text": [
      "D:/models/aug_22/mnist/C3/mnist_model_c3_aug_nc_e1_0\n",
      "Model loaded correctly\n",
      "D:/models/aug_22/mnist/C3/mnist_model_c3_aug_nc_e1_1\n",
      "Model loaded correctly\n",
      "D:/models/aug_22/mnist/C3/mnist_model_c3_aug_nc_e1_2\n",
      "Model loaded correctly\n",
      "D:/models/aug_22/mnist/C3/mnist_model_c3_aug_nc_e1_3\n",
      "Model loaded correctly\n",
      "D:/models/aug_22/mnist/C3/mnist_model_c3_aug_nc_e1_4\n",
      "Model loaded correctly\n",
      "D:/models/aug_22/mnist/C3/mnist_model_c3_aug_nc_e1_5\n",
      "Model loaded correctly\n",
      "D:/models/aug_22/mnist/C3/mnist_model_c3_aug_nc_e1_6\n",
      "Model loaded correctly\n",
      "D:/models/aug_22/mnist/C3/mnist_model_c3_aug_nc_e1_7\n",
      "Model loaded correctly\n",
      "D:/models/aug_22/mnist/C3/mnist_model_c3_aug_nc_e1_8\n",
      "Model loaded correctly\n",
      "D:/models/aug_22/mnist/C3/mnist_model_c3_aug_nc_e1_9\n",
      "Model loaded correctly\n",
      "D:/models/aug_22/mnist/C3/mnist_model_c3_aug_nc_e1_10\n",
      "Model loaded correctly\n",
      "D:/models/aug_22/mnist/C3/mnist_model_c3_aug_nc_e1_11\n",
      "Model loaded correctly\n",
      "D:/models/aug_22/mnist/C3/mnist_model_c3_aug_nc_e1_12\n",
      "Model loaded correctly\n",
      "D:/models/aug_22/mnist/C3/mnist_model_c3_aug_nc_e1_13\n",
      "Model loaded correctly\n",
      "D:/models/aug_22/mnist/C3/mnist_model_c3_aug_nc_e1_14\n",
      "Model loaded correctly\n",
      "D:/models/aug_22/mnist/C3/mnist_model_c3_aug_nc_e1_15\n",
      "Model loaded correctly\n",
      "D:/models/aug_22/mnist/C3/mnist_model_c3_aug_nc_e1_16\n",
      "Model loaded correctly\n",
      "D:/models/aug_22/mnist/C3/mnist_model_c3_aug_nc_e1_17\n",
      "Model loaded correctly\n",
      "D:/models/aug_22/mnist/C3/mnist_model_c3_aug_nc_e1_18\n",
      "Model loaded correctly\n",
      "D:/models/aug_22/mnist/C3/mnist_model_c3_aug_nc_e1_19\n",
      "Model loaded correctly\n"
     ]
    }
   ],
   "source": [
    "loading = True\n",
    "\n",
    "models_nc = []\n",
    "\n",
    "if loading:\n",
    "    for i in range(num_models):\n",
    "        #model_nc_dir = \"D:/models/aug_22/\"+dataset+\"/C1/\"+dataset+\"_model_c1_aug_nc_e1\"+str\n",
    "        model_nc_dir = data_dir+\"/\"+dataset+\"/C3/\"+dataset+\"_model_c3_aug_nc_e1_\"+str(i)\n",
    "        print(model_nc_dir)\n",
    "        model =utils.My_model(dataset,True,model_nc_dir)\n",
    "        model.model.compile(loss= 'categorical_crossentropy', optimizer = 'rmsprop', metrics = ['accuracy',tf.keras.metrics.Precision(), tf.keras.metrics.Recall()])\n",
    "        models_nc.append(model)"
   ]
  },
  {
   "cell_type": "markdown",
   "id": "e02952dc",
   "metadata": {},
   "source": [
    "## Evaluating"
   ]
  },
  {
   "cell_type": "code",
   "execution_count": 18,
   "id": "cbc59f41",
   "metadata": {},
   "outputs": [],
   "source": [
    "model_original.model.compile(loss= 'categorical_crossentropy', optimizer = 'rmsprop', metrics = ['accuracy',tf.keras.metrics.Precision(), tf.keras.metrics.Recall()])"
   ]
  },
  {
   "cell_type": "code",
   "execution_count": 19,
   "id": "286ee29c",
   "metadata": {},
   "outputs": [
    {
     "name": "stdout",
     "output_type": "stream",
     "text": [
      "438/438 [==============================] - 53s 22ms/step - loss: 0.0427 - accuracy: 0.9886 - precision_120: 0.9919 - recall_120: 0.9906 2s - loss: 0.0359 - accuracy: 0.9900 - precisio\n",
      "438/438 [==============================] - 9s 22ms/step - loss: 0.1094 - accuracy: 0.9770 - precision_120: 0.9839 - recall_120: 0.9656: 8s - loss: 0.0347 - accuracy: 0.9910 - pr - ETA: 6s - loss: 0.0370 - accuracy: 0.9898 - prec - ETA: 3s - loss: 0.0393 - accura - ETA: 0s - loss: 0.0882 - accuracy: 0.9804 - precision_120: 0.9839 - recall_120\n",
      "438/438 [==============================] - 10s 22ms/step - loss: 0.1094 - accuracy: 0.9770 - precision_120: 0.9830 - recall_120: 0.9624 8s - loss: 0.0299 - accuracy: 0.9915 - precision_120: - ETA: 6s - loss: 0.0369 - accuracy: 0.9898 - precision_120: 0.9823 - r \n",
      "438/438 [==============================] - 9s 22ms/step - loss: 0.1094 - accuracy: 0.9770 - precision_120: 0.9826 - recall_120: 0.9609\n",
      "438/438 [==============================] - 9s 21ms/step - loss: 0.1094 - accuracy: 0.9770 - precision_120: 0.9823 - recall_120: 0.9601\n",
      "438/438 [==============================] - 9s 21ms/step - loss: 0.1094 - accuracy: 0.9770 - precision_120: 0.9822 - recall_120: 0.9596: 2s - loss: 0.0392 - accuracy: 0.9883 - preci\n"
     ]
    }
   ],
   "source": [
    "evaluate_lsa = []\n",
    "evaluate_dsa = []\n",
    "evaluate_dg = []\n",
    "evaluate_se = []\n",
    "evaluate_nc = []\n",
    "evaluate_random = []\n",
    "\n",
    "evaluate_lsa.append(model_original.evaluate(x_test_and_adversary,y_test_and_adversary))\n",
    "evaluate_dsa.append(model_original.evaluate(x_test_and_adversary,y_test_and_adversary))\n",
    "evaluate_dg.append(model_original.evaluate(x_test_and_adversary,y_test_and_adversary))\n",
    "evaluate_se.append(model_original.evaluate(x_test_and_adversary,y_test_and_adversary))\n",
    "evaluate_nc.append(model_original.evaluate(x_test_and_adversary,y_test_and_adversary))\n",
    "evaluate_random.append(model_original.evaluate(x_test_and_adversary,y_test_and_adversary))"
   ]
  },
  {
   "cell_type": "code",
   "execution_count": 20,
   "id": "30633373",
   "metadata": {},
   "outputs": [
    {
     "name": "stdout",
     "output_type": "stream",
     "text": [
      "Evaluating for lsa\n",
      "438/438 [==============================] - 14s 25ms/step - loss: 0.0922 - accuracy: 0.9850 - precision: 0.9893 - recall: 0.9649 1s - loss: 0.0881 - accuracy: 0.9854 - precisi\n",
      "438/438 [==============================] - 18s 27ms/step - loss: 0.0471 - accuracy: 0.9866 - precision_1: 0.9880 - recall_1: 0.9869 3s - loss: 0.0442 - accur\n",
      "438/438 [==============================] - 18s 28ms/step - loss: 0.0575 - accuracy: 0.9844 - precision_2: 0.9872 - recall_2: 0.9826 7s - loss: 0.0505 - accuracy: - ETA: 4s - loss: 0.0541 - accuracy: 0.9848 - precisi - ETA: 2s - loss: 0.0553 - accuracy: 0.9847 -\n",
      "438/438 [==============================] - 18s 28ms/step - loss: 0.0720 - accuracy: 0.9829 - precision_3: 0.9850 - recall_3: 0.9834\n",
      "438/438 [==============================] - 18s 28ms/step - loss: 0.0749 - accuracy: 0.9834 - precision_4: 0.9876 - recall_4: 0.9850\n",
      "438/438 [==============================] - 19s 27ms/step - loss: 0.0453 - accuracy: 0.9883 - precision_5: 0.9894 - recall_5: 0.9887 2s - loss: 0.0438 - accuracy: 0.9885 - pr\n",
      "438/438 [==============================] - 18s 28ms/step - loss: 0.0435 - accuracy: 0.9885 - precision_6: 0.9917 - recall_6: 0.9891\n",
      "438/438 [==============================] - 18s 28ms/step - loss: 0.0645 - accuracy: 0.9851 - precision_7: 0.9856 - recall_7: 0.9851 0s - loss: 0.0640 - accuracy: 0.9852 - precision_7: 0.9856 - reca\n",
      "438/438 [==============================] - 18s 28ms/step - loss: 0.0549 - accuracy: 0.9871 - precision_8: 0.9879 - recall_8: 0.9870\n",
      "438/438 [==============================] - 18s 28ms/step - loss: 0.0419 - accuracy: 0.9883 - precision_9: 0.9913 - recall_9: 0.9891\n",
      "438/438 [==============================] - 17s 25ms/step - loss: 0.0746 - accuracy: 0.9824 - precision_10: 0.9849 - recall_10: 0.9832 7s - loss:  - ETA: 1s - loss: 0.0729 - accuracy: 0.9828 - precision_10\n",
      "438/438 [==============================] - 16s 29ms/step - loss: 0.0416 - accuracy: 0.9881 - precision_11: 0.9890 - recall_11: 0.9887\n",
      "438/438 [==============================] - 18s 27ms/step - loss: 0.0491 - accuracy: 0.9871 - precision_12: 0.9899 - recall_12: 0.9846\n",
      "438/438 [==============================] - 17s 31ms/step - loss: 0.0407 - accuracy: 0.9892 - precision_13: 0.9908 - recall_13: 0.9899 2s - loss: 0.0394 - accuracy: 0.9895 - precisio - ETA: 0s - loss: 0.0404 - accuracy: 0.9893 - precision_13: 0.9908 - recall\n",
      "438/438 [==============================] - 18s 27ms/step - loss: 0.0482 - accuracy: 0.9868 - precision_14: 0.9899 - recall_14: 0.9873 1s - loss: 0.0468 - accuracy: 0.9872 - precision_14: 0.9903 - rec - ETA: 0s - loss: 0.0475 - accuracy: 0.9870 - precision_14: 0.9901 - recal\n",
      "438/438 [==============================] - 18s 31ms/step - loss: 0.0464 - accuracy: 0.9877 - precision_15: 0.9899 - recall_15: 0.9879 2s - loss: 0.0457 - accuracy: 0.9879 - pre\n",
      "438/438 [==============================] - 17s 25ms/step - loss: 0.0443 - accuracy: 0.9880 - precision_16: 0.9907 - recall_16: 0.9886 11s - loss: 0.0378 - accura\n",
      "438/438 [==============================] - 20s 34ms/step - loss: 0.0359 - accuracy: 0.9893 - precision_17: 0.9911 - recall_17: 0.9893 12s - loss: 0.0305 - accuracy: 0.9905 - precision_17 - ETA: 1s - loss: 0.0354 - accuracy: 0.9894 - precision_17: 0.9\n",
      "438/438 [==============================] - 16s 23ms/step - loss: 0.0473 - accuracy: 0.9871 - precision_18: 0.9896 - recall_18: 0.9856 1s - loss: 0.0464 - accuracy: 0.9873 - precision_18: 0.9898 - recall_18 - ETA: 1s - loss: 0.0467 - accuracy: 0.9872 - precision_18: 0\n",
      "438/438 [==============================] - 21s 34ms/step - loss: 0.0422 - accuracy: 0.9908 - precision_19: 0.9926 - recall_19: 0.9925 9s - loss: 0.0320 - accuracy: 0.9929 -  - ETA: 7s - loss: 0.0359 - accuracy: 0.9920 - precision_19: 0.9937 - re\n",
      "Evaluating for dsa\n",
      "438/438 [==============================] - 16s 28ms/step - loss: 0.0631 - accuracy: 0.9881 - precision_20: 0.9899 - recall_20: 0.9897\n",
      "438/438 [==============================] - 20s 31ms/step - loss: 0.0557 - accuracy: 0.9889 - precision_21: 0.9909 - recall_21: 0.9908 5s - loss: 0.0 - ETA: 0s - loss: 0.0550 - accuracy: 0.9890 - precision_21: 0.9909 - recall_21:\n",
      "438/438 [==============================] - 18s 33ms/step - loss: 0.0493 - accuracy: 0.9890 - precision_22: 0.9907 - recall_22: 0.9904\n",
      "438/438 [==============================] - 17s 26ms/step - loss: 0.0534 - accuracy: 0.9873 - precision_23: 0.9891 - recall_23: 0.9879 5s - loss: 0.0474 - accuracy: 0.9882 - precision_23: 0.9898 - recall_23:  - ETA: 5s - loss: 0.0482 - accuracy: 0.9881 - precision_23: 0.9898 - recall_ - ETA: 4s - loss: 0.0494 - accura\n",
      "438/438 [==============================] - 20s 34ms/step - loss: 0.0534 - accuracy: 0.9883 - precision_24: 0.9899 - recall_24: 0.9895 0s - loss: 0.0530 - accuracy: 0.9884 - precision_24: 0.9899 - recall_24:\n",
      "438/438 [==============================] - 16s 22ms/step - loss: 0.0418 - accuracy: 0.9893 - precision_25: 0.9920 - recall_25: 0.9916\n",
      "438/438 [==============================] - 20s 33ms/step - loss: 0.1075 - accuracy: 0.9788 - precision_26: 0.9811 - recall_26: 0.9800 4s - loss: 0.1048 - accuracy: 0.9793 - precision_26: 0.9815 - ETA: 2s - loss: 0.1052 - accuracy: 0.97\n",
      "438/438 [==============================] - 16s 26ms/step - loss: 0.0615 - accuracy: 0.9871 - precision_27: 0.9892 - recall_27: 0.9879 8s - loss: 0.0462 - accuracy: 0.9883 - precision_27: 0.9929 - recall_27: 0.9 - ETA: 8s - loss: 0.0470 - accuracy: 0.9883 - prec - ETA: 6s - loss: 0.0544 - accuracy: 0.9882 - - ETA: 3s -  - ETA: 0s - loss: 0.0612 - accuracy: 0.9871 - precision_27: 0.9892 - recall_27: 0.9 - ETA: 0s - loss: 0.0613 - accuracy: 0.9871 - precision_27: 0.9892 - recall_27: 0\n",
      "438/438 [==============================] - 20s 32ms/step - loss: 0.0407 - accuracy: 0.9892 - precision_28: 0.9911 - recall_28: 0.9905 10s - loss: 0.0299 - accuracy: 0.9916 - pr - ETA: 7s - loss: 0.0329 - accuracy: 0.9909 - precision_28: 0\n",
      "438/438 [==============================] - 16s 30ms/step - loss: 0.0370 - accuracy: 0.9906 - precision_29: 0.9939 - recall_29: 0.9907 6s - loss: 0.0287 - accuracy: 0.9932 - precision_29: 0.9962 - r - ETA: 6s -  - ETA: 2s - loss: 0.0353 - accuracy: 0.9912 - precision_29: 0. - ETA: 1s - loss: 0.0361 - accuracy: 0.9909 - precision_29: 0.994\n",
      "438/438 [==============================] - 18s 26ms/step - loss: 0.0394 - accuracy: 0.9890 - precision_30: 0.9919 - recall_30: 0.9904 12s - loss: 0.0304 - accuracy: 0.9935 - precision_30: 0.9948 - rec  - ETA: 8s - loss: 0.0341 - accuracy: 0.9910 - precision_30 - ETA: 5s - loss: 0.0360 - accuracy: 0.9901 - ETA: 1s - loss: 0.0385 - accuracy: 0.9894 - precision_30: 0.99 - ETA: 0s - loss: 0.0393 - accuracy: 0.9891 - precision_30: 0.9919 - recall_30: 0.99\n",
      "438/438 [==============================] - 20s 34ms/step - loss: 0.0670 - accuracy: 0.9848 - precision_31: 0.9844 - recall_31: 0.9842\n",
      "438/438 [==============================] - 15s 22ms/step - loss: 0.0397 - accuracy: 0.9903 - precision_32: 0.9936 - recall_32: 0.9879\n",
      "438/438 [==============================] - 20s 33ms/step - loss: 0.0509 - accuracy: 0.9859 - precision_33: 0.9879 - recall_33: 0.9861 9s - loss: 0.0445 - accuracy: 0.9878 - precision_33: 0.9892 - r - ETA: 8s - loss: 0.0458 - acc - ETA:\n",
      "438/438 [==============================] - 16s 27ms/step - loss: 0.0811 - accuracy: 0.9820 - precision_34: 0.9885 - recall_34: 0.9691 3s - loss: \n",
      "438/438 [==============================] - 19s 30ms/step - loss: 0.0365 - accuracy: 0.9906 - precision_35: 0.9923 - recall_35: 0.9916\n",
      "438/438 [==============================] - 18s 33ms/step - loss: 0.0411 - accuracy: 0.9901 - precision_36: 0.9917 - recall_36: 0.9915\n",
      "438/438 [==============================] - 17s 24ms/step - loss: 0.0429 - accuracy: 0.9894 - precision_37: 0.9902 - recall_37: 0.9900\n",
      "438/438 [==============================] - 20s 33ms/step - loss: 0.0452 - accuracy: 0.9888 - precision_38: 0.9900 - recall_38: 0.9896\n",
      "438/438 [==============================] - 18s 26ms/step - loss: 0.0420 - accuracy: 0.9883 - precision_39: 0.9900 - recall_39: 0.9888 1s - loss: 0.0414 - accuracy: 0.9884 - precision_39: 0.990\n",
      "Evaluating for random\n",
      "438/438 [==============================] - 21s 33ms/step - loss: 0.0717 - accuracy: 0.9842 - precision_80: 0.9864 - recall_80: 0.9863\n",
      "438/438 [==============================] - 18s 34ms/step - loss: 0.0530 - accuracy: 0.9876 - precision_81: 0.9905 - recall_81: 0.9898\n",
      "438/438 [==============================] - 18s 25ms/step - loss: 0.0405 - accuracy: 0.9884 - precision_82: 0.9914 - recall_82: 0.9901\n",
      "438/438 [==============================] - 21s 35ms/step - loss: 0.0393 - accuracy: 0.9903 - precision_83: 0.9921 - recall_83: 0.9914 7s - loss: 0. - ETA: 3s - loss: 0.0370 - accuracy: 0.9909 - precision_83: 0.9925 - re - ETA: 2s - loss: 0.0374 - accuracy: 0.9907 -\n",
      "438/438 [==============================] - 16s 24ms/step - loss: 0.0511 - accuracy: 0.9889 - precision_84: 0.9911 - recall_84: 0.9909\n",
      "438/438 [==============================] - 22s 35ms/step - loss: 0.0634 - accuracy: 0.9841 - precision_85: 0.9851 - recall_85: 0.9850\n",
      "438/438 [==============================] - 17s 31ms/step - loss: 0.0440 - accuracy: 0.9892 - precision_86: 0.9928 - recall_86: 0.9919\n",
      "438/438 [==============================] - 19s 29ms/step - loss: 0.0453 - accuracy: 0.9898 - precision_87: 0.9921 - recall_87: 0.9916\n",
      "438/438 [==============================] - 19s 35ms/step - loss: 0.0394 - accuracy: 0.9896 - precision_88: 0.9918 - recall_88: 0.9911\n",
      "438/438 [==============================] - 16s 23ms/step - loss: 0.0549 - accuracy: 0.9881 - precision_89: 0.9900 - recall_89: 0.9894 4s - l\n",
      "438/438 [==============================] - 21s 36ms/step - loss: 0.0450 - accuracy: 0.9880 - precision_90: 0.9907 - recall_90: 0.9897 4s - loss: 0.04\n",
      "438/438 [==============================] - 16s 26ms/step - loss: 0.0448 - accuracy: 0.9888 - precision_91: 0.9906 - recall_91: 0.9901 2s - loss: 0.0424 - \n",
      "438/438 [==============================] - 21s 33ms/step - loss: 0.0389 - accuracy: 0.9897 - precision_92: 0.9919 - recall_92: 0.9910 4s - loss: 0.0362 - accuracy: 0.9903 - - ETA: 0s - loss: 0.0382 - accuracy: 0.9899 - precision_92: 0.9920 - recall_\n",
      "438/438 [==============================] - 17s 32ms/step - loss: 0.0486 - accuracy: 0.9881 - precision_93: 0.9917 - recall_93: 0.9900 7s - - ETA: 3s - loss: 0.0460 - accuracy\n",
      "438/438 [==============================] - 18s 27ms/step - loss: 0.0457 - accuracy: 0.9868 - precision_94: 0.9896 - recall_94: 0.9868 14s - loss: 0.0340 - accuracy: 0.9905 - precision_94 - E - ETA: 10s - loss: 0.0386 - ac - ETA: 3s - loss: 0.0434 - accuracy: 0.9874 - precision_94: 0.9902 - recall_94: 0.987 - ETA: 3s - loss: 0.0434 - accuracy: 0.9874 - preci - ETA: 0s - loss: 0.0448 - accuracy: 0.9870 - precision_94: 0.9897 - rec\n",
      "438/438 [==============================] - 20s 34ms/step - loss: 0.0366 - accuracy: 0.9896 - precision_95: 0.9926 - recall_95: 0.9905 13s - loss: 0.0278 - accuracy: 0.9952 - precision_95: 0.9966 - recall_95 - - ETA: 10s - loss: 0.0303 - a - ETA: 7s - loss: 0.0327 - accuracy: 0.9915 - precision_95: 0.9939 - recall_9 - ETA: 7s -  - ETA: 1s - loss: 0.0357 - accuracy: 0.9900 - precision_9\n",
      "438/438 [==============================] - 15s 22ms/step - loss: 0.0331 - accuracy: 0.9912 - precision_96: 0.9935 - recall_96: 0.9930 1s - loss: 0.0317 - accuracy: 0.9916 - precision_96\n",
      "438/438 [==============================] - 21s 34ms/step - loss: 0.0346 - accuracy: 0.9885 - precision_97: 0.9931 - recall_97: 0.9894\n",
      "438/438 [==============================] - 16s 28ms/step - loss: 0.0417 - accuracy: 0.9881 - precision_98: 0.9913 - recall_98: 0.9883 1s - loss: 0.0412 - accuracy: 0.9883 - precision_98: 0.99\n",
      "438/438 [==============================] - 20s 32ms/step - loss: 0.0450 - accuracy: 0.9881 - precision_99: 0.9907 - recall_99: 0.9891\n",
      "Evaluating for nc\n",
      "438/438 [==============================] - 17s 33ms/step - loss: 0.0510 - accuracy: 0.9857 - precision_100: 0.9905 - recall_100: 0.9858\n",
      "438/438 [==============================] - 18s 26ms/step - loss: 0.0502 - accuracy: 0.9863 - precision_101: 0.9911 - recall_101: 0.9869 10s - loss: 0.0385 -  - ETA: 3s - loss: 0.0443 - accuracy: 0.9\n",
      "438/438 [==============================] - 19s 34ms/step - loss: 0.0512 - accuracy: 0.9863 - precision_102: 0.9885 - recall_102: 0.9864 10s - loss: 0.0446 - accuracy: 0.9884 - precision_102: 0.9905 - reca - ETA: 3s - loss: 0.0479 - ac\n",
      "438/438 [==============================] - 16s 23ms/step - loss: 0.0756 - accuracy: 0.9804 - precision_103: 0.9890 - recall_103: 0.9758\n",
      "438/438 [==============================] - 22s 34ms/step - loss: 0.0720 - accuracy: 0.9815 - precision_104: 0.9852 - recall_104: 0.9776 11s - loss: 0.0600 - accuracy: 0.9805 - precision_104\n",
      "438/438 [==============================] - 17s 29ms/step - loss: 0.1257 - accuracy: 0.9820 - precision_105: 0.9894 - recall_105: 0.9544 8s - loss: 0.0967 - accuracy: 0.9851 - precision_105: 0.9905 - recall_105:  - ETA: 8s - loss: 0.1009 - accuracy: 0.984 - ETA: 5s - loss: 0.1106 - accuracy: 0.9829 - precision_105: 0.9902 - recall - ETA: 5s - loss: 0.1111 - accuracy: 0.9830 - ETA: 3s - loss: 0.1132 - accuracy: 0.9831 - precision_105: 0.9897 - recal - ETA: 3s - loss: 0.1138 \n",
      "438/438 [==============================] - 19s 30ms/step - loss: 0.0498 - accuracy: 0.9895 - precision_106: 0.9934 - recall_106: 0.9864\n",
      "438/438 [==============================] - 18s 34ms/step - loss: 0.0425 - accuracy: 0.9886 - precision_107: 0.9919 - recall_107: 0.9886 8s - loss: 0.0369 - accuracy: 0 - ETA: 5s - loss: 0.0395 - accuracy: 0.9895 - precision_107: 0.9926 -  - ETA: 3s - loss: 0.0399 - accuracy: 0.989 - ETA: 0s - loss: 0.0415 - accuracy: 0.9888 - precision_107: 0.9920 - recall_107: 0.98 - ETA: 0s - loss: 0.0417 - accuracy: 0.9888 - precision_107: 0.9920 - recall_10\n",
      "438/438 [==============================] - 18s 25ms/step - loss: 0.0471 - accuracy: 0.9881 - precision_108: 0.9909 - recall_108: 0.9848\n",
      "438/438 [==============================] - 21s 35ms/step - loss: 0.0452 - accuracy: 0.9869 - precision_109: 0.9901 - recall_109: 0.9857 7s - loss: 0.0400 - accuracy: 0.9874 - precision_109: 0.99\n",
      "438/438 [==============================] - 17s 25ms/step - loss: 0.0521 - accuracy: 0.9864 - precision_110: 0.9885 - recall_110: 0.9875 1s - loss: 0.0506 - accuracy: 0.9867 - precision_110: 0.9\n",
      "438/438 [==============================] - 23s 33ms/step - loss: 0.0509 - accuracy: 0.9858 - precision_111: 0.9895 - recall_111: 0.9841\n",
      "438/438 [==============================] - 18s 34ms/step - loss: 0.0423 - accuracy: 0.9884 - precision_112: 0.9911 - recall_112: 0.9902 8s\n",
      "438/438 [==============================] - 19s 27ms/step - loss: 0.0609 - accuracy: 0.9842 - precision_113: 0.9870 - recall_113: 0.9861\n",
      "438/438 [==============================] - 21s 36ms/step - loss: 0.0342 - accuracy: 0.9907 - precision_114: 0.9942 - recall_114: 0.9909 2s - loss: 0.0326 - accuracy: 0.9911 - precision_11 - ETA: 0s - loss: 0.0341 - accuracy: 0.9907 - precision_114: 0.9942 - recall_114: 0.99\n",
      "438/438 [==============================] - 17s 23ms/step - loss: 0.0431 - accuracy: 0.9876 - precision_115: 0.9906 - recall_115: 0.9889 2s - loss: 0.0401 - accuracy: 0.9\n",
      "438/438 [==============================] - 23s 36ms/step - loss: 0.0420 - accuracy: 0.9881 - precision_116: 0.9897 - recall_116: 0.9894 5s - loss: 0.0395 - accuracy: 0.9889 - ETA: 2s - loss: 0.0407 - accuracy: 0.9885 - precision_116: 0.9 - ETA: 0s - loss: 0.0416 - accuracy: 0.9882 - precision_116: 0.9897 - recall_116:\n",
      "438/438 [==============================] - 17s 29ms/step - loss: 0.0517 - accuracy: 0.9874 - precision_117: 0.9892 - recall_117: 0.9888 3s - loss: 0.04\n",
      "438/438 [==============================] - 21s 32ms/step - loss: 0.0474 - accuracy: 0.9865 - precision_118: 0.9868 - recall_118: 0.9859 4s - loss: 0.0450 - accuracy: 0\n",
      "438/438 [==============================] - 18s 34ms/step - loss: 0.0439 - accuracy: 0.9874 - precision_119: 0.9907 - recall_119: 0.9894\n"
     ]
    }
   ],
   "source": [
    "# Metrics using adversarial test\n",
    "\n",
    "#evaluate_lsa.append(model_original.evaluate(x_test_and_adversary,y_test_and_adversary))\n",
    "#evaluate_dsa.append(model_original.evaluate(x_test_and_adversary,y_test_and_adversary))\n",
    "#evaluate_nc.append(model_original.evaluate(x_test_and_adversary,y_test_and_adversary))\n",
    "#evaluate_random.append(model_original.evaluate(x_test_and_adversary,y_test_and_adversary))\n",
    "print(\"Evaluating for lsa\")\n",
    "for model in models_lsa:\n",
    "    evaluate_lsa.append(model.evaluate(x_test_and_adversary,y_test_and_adversary))\n",
    "    \n",
    "print(\"Evaluating for dsa\")\n",
    "for model in models_dsa:\n",
    "    evaluate_dsa.append(model.evaluate(x_test_and_adversary,y_test_and_adversary))\n",
    "print(\"Evaluating for random\")\n",
    "for model in models_random:\n",
    "    evaluate_random.append(model.evaluate(x_test_and_adversary,y_test_and_adversary))\n",
    "print(\"Evaluating for nc\")\n",
    "for model in models_nc:\n",
    "    evaluate_nc.append(model.evaluate(x_test_and_adversary,y_test_and_adversary))"
   ]
  },
  {
   "cell_type": "code",
   "execution_count": 21,
   "id": "ae3df5fe",
   "metadata": {},
   "outputs": [
    {
     "name": "stdout",
     "output_type": "stream",
     "text": [
      "Evaluating for dg\n",
      "438/438 [==============================] - 19s 27ms/step - loss: 0.0866 - accuracy: 0.9872 - precision_40: 0.9884 - recall_40: 0.9883 2s - loss: 0.0840 - accuracy: 0.9876 - \n",
      "438/438 [==============================] - 21s 35ms/step - loss: 0.0445 - accuracy: 0.9893 - precision_41: 0.9910 - recall_41: 0.9908\n",
      "438/438 [==============================] - 17s 25ms/step - loss: 0.0494 - accuracy: 0.9886 - precision_42: 0.9896 - recall_42: 0.9891 1s - loss: 0.0480 - accuracy: 0.9889 - precision_42\n",
      "438/438 [==============================] - 24s 38ms/step - loss: 0.0440 - accuracy: 0.9883 - precision_43: 0.9900 - recall_43: 0.9892 0s - loss: 0.0433 - accuracy: 0.9884 - precision_43: 0.9901 - recall\n",
      "438/438 [==============================] - 18s 32ms/step - loss: 0.0461 - accuracy: 0.9873 - precision_44: 0.9891 - recall_44: 0.9886 2s - loss: 0.0437 - accuracy: 0.9881 - precision_44: 0.9895 -  - ETA: 2s - loss: 0.0442 - accuracy: 0.9879 - p\n",
      "438/438 [==============================] - 23s 34ms/step - loss: 0.0383 - accuracy: 0.9902 - precision_45: 0.9922 - recall_45: 0.9920 6s - loss: 0.0\n",
      "438/438 [==============================] - 16s 28ms/step - loss: 0.0478 - accuracy: 0.9870 - precision_46: 0.9902 - recall_46: 0.9833\n",
      "438/438 [==============================] - 24s 35ms/step - loss: 0.0425 - accuracy: 0.9883 - precision_47: 0.9902 - recall_47: 0.9887\n",
      "438/438 [==============================] - 20s 36ms/step - loss: 0.0322 - accuracy: 0.9918 - precision_48: 0.9934 - recall_48: 0.9924 0s - loss: 0.0320 - accuracy: 0.9919 - precision_48: 0.9935 - recall_48:\n",
      "438/438 [==============================] - 20s 27ms/step - loss: 0.0532 - accuracy: 0.9896 - precision_49: 0.9912 - recall_49: 0.9912 0s - loss: 0.0524 - accuracy: 0.9897 - precision_49: 0.9913 - recall_49: 0 - ETA: 0s - loss: 0.0528 - accuracy: 0.9897 - precision_49: 0.9912 - recall_49: 0\n",
      "438/438 [==============================] - 21s 36ms/step - loss: 0.0372 - accuracy: 0.9898 - precision_50: 0.9911 - recall_50: 0.9903 9s - loss: 0.0327 - accuracy: 0.9\n",
      "438/438 [==============================] - 21s 29ms/step - loss: 0.0332 - accuracy: 0.9907 - precision_51: 0.9919 - recall_51: 0.9907 7s - loss: 0.0\n",
      "438/438 [==============================] - 22s 35ms/step - loss: 0.0423 - accuracy: 0.9885 - precision_52: 0.9916 - recall_52: 0.9901\n",
      "438/438 [==============================] - 18s 34ms/step - loss: 0.0463 - accuracy: 0.9856 - precision_53: 0.9904 - recall_53: 0.9841\n",
      "438/438 [==============================] - ETA: 0s - loss: 0.0488 - accuracy: 0.9854 - precision_54: 0.9886 - recall_54: 0.983 - 19s 29ms/step - loss: 0.0489 - accuracy: 0.9854 - precision_54: 0.9886 - recall_54: 0.9838\n",
      "438/438 [==============================] - 20s 37ms/step - loss: 0.0321 - accuracy: 0.9904 - precision_55: 0.9932 - recall_55: 0.9922\n",
      "438/438 [==============================] - 17s 24ms/step - loss: 0.0447 - accuracy: 0.9872 - precision_56: 0.9898 - recall_56: 0.9859\n",
      "438/438 [==============================] - 22s 37ms/step - loss: 0.0374 - accuracy: 0.9895 - precision_57: 0.9921 - recall_57: 0.9901 1s - loss: 0.0368 - accuracy: 0.9897 - precision_57: 0.992\n",
      "438/438 [==============================] - 17s 26ms/step - loss: 0.0595 - accuracy: 0.9847 - precision_58: 0.9852 - recall_58: 0.9832\n",
      "438/438 [==============================] - 23s 37ms/step - loss: 0.0419 - accuracy: 0.9890 - precision_59: 0.9905 - recall_59: 0.9900 5s - loss:  - ETA: 0s - loss: 0.0415 - accuracy: 0.9891 - precision_59: 0.9905 - reca\n",
      "Evaluating for se\n",
      "438/438 [==============================] - 18s 32ms/step - loss: 0.0786 - accuracy: 0.9872 - precision_60: 0.9894 - recall_60: 0.9893\n",
      "438/438 [==============================] - 20s 33ms/step - loss: 0.0783 - accuracy: 0.9867 - precision_61: 0.9886 - recall_61: 0.9885\n",
      "438/438 [==============================] - 19s 37ms/step - loss: 0.0399 - accuracy: 0.9904 - precision_62: 0.9920 - recall_62: 0.9917\n",
      "438/438 [==============================] - 18s 28ms/step - loss: 0.0559 - accuracy: 0.9893 - precision_63: 0.9919 - recall_63: 0.9914 0s - loss: 0.0554 - accuracy: 0.9894 - precision_63: 0.9920 - recall_63: 0.\n",
      "438/438 [==============================] - 21s 37ms/step - loss: 0.0423 - accuracy: 0.9889 - precision_64: 0.9918 - recall_64: 0.9901 4s - loss: 0.03\n",
      "438/438 [==============================] - 17s 24ms/step - loss: 0.0389 - accuracy: 0.9906 - precision_65: 0.9931 - recall_65: 0.9928 3s - loss: 0.0354 - accuracy: 0.9917 - prec - ETA: 1s - loss: 0.0375 - accuracy: 0.9910 - precision_65:\n",
      "438/438 [==============================] - 22s 37ms/step - loss: 0.0589 - accuracy: 0.9867 - precision_66: 0.9874 - recall_66: 0.9869: 9s - loss: - ETA: 5s - los\n",
      "438/438 [==============================] - 17s 28ms/step - loss: 0.0645 - accuracy: 0.9852 - precision_67: 0.9891 - recall_67: 0.9780 1s - loss: 0.0631 - accuracy: 0.9854 - precision_67: 0.9891\n",
      "438/438 [==============================] - 22s 36ms/step - loss: 0.0300 - accuracy: 0.9921 - precision_68: 0.9935 - recall_68: 0.9923\n",
      "438/438 [==============================] - 18s 33ms/step - loss: 0.0475 - accuracy: 0.9883 - precision_69: 0.9901 - recall_69: 0.9897\n",
      "438/438 [==============================] - 20s 31ms/step - loss: 0.0495 - accuracy: 0.9901 - precision_70: 0.9923 - recall_70: 0.9920\n",
      "438/438 [==============================] - 20s 37ms/step - loss: 0.0362 - accuracy: 0.9904 - precision_71: 0.9920 - recall_71: 0.9917\n",
      "438/438 [==============================] - 18s 26ms/step - loss: 0.0461 - accuracy: 0.9882 - precision_72: 0.9905 - recall_72: 0.9897 1s - loss: 0.0452 - accuracy: 0.9885 - precision_72: 0.9\n",
      "438/438 [==============================] - 22s 37ms/step - loss: 0.0412 - accuracy: 0.9904 - precision_73: 0.9914 - recall_73: 0.9912\n",
      "438/438 [==============================] - 17s 25ms/step - loss: 0.0674 - accuracy: 0.9857 - precision_74: 0.9910 - recall_74: 0.9780\n",
      "438/438 [==============================] - 23s 38ms/step - loss: 0.0370 - accuracy: 0.9895 - precision_75: 0.9908 - recall_75: 0.9903\n",
      "438/438 [==============================] - 17s 31ms/step - loss: 0.1269 - accuracy: 0.9786 - precision_76: 0.9904 - recall_76: 0.9519\n",
      "438/438 [==============================] - 21s 35ms/step - loss: 0.0329 - accuracy: 0.9907 - precision_77: 0.9924 - recall_77: 0.9915 1s - loss: 0.0326 - accuracy: 0.9908 - precision_77: 0.9924 - recall\n",
      "438/438 [==============================] - 19s 37ms/step - loss: 0.0341 - accuracy: 0.9918 - precision_78: 0.9938 - recall_78: 0.9927\n",
      "438/438 [==============================] - 19s 29ms/step - loss: 0.0402 - accuracy: 0.9901 - precision_79: 0.9930 - recall_79: 0.9914\n"
     ]
    }
   ],
   "source": [
    "print(\"Evaluating for dg\")\n",
    "for model in models_dg:\n",
    "    evaluate_dg.append(model.evaluate(x_test_and_adversary,y_test_and_adversary))\n",
    "    \n",
    "print(\"Evaluating for se\")\n",
    "for model in models_se:\n",
    "    evaluate_se.append(model.evaluate(x_test_and_adversary,y_test_and_adversary))\n"
   ]
  },
  {
   "cell_type": "code",
   "execution_count": 22,
   "id": "2141a097",
   "metadata": {},
   "outputs": [
    {
     "data": {
      "text/plain": [
       "21"
      ]
     },
     "execution_count": 22,
     "metadata": {},
     "output_type": "execute_result"
    }
   ],
   "source": [
    "len(evaluate_dg)"
   ]
  },
  {
   "cell_type": "code",
   "execution_count": 23,
   "id": "e48d1822",
   "metadata": {},
   "outputs": [
    {
     "data": {
      "text/plain": [
       "21"
      ]
     },
     "execution_count": 23,
     "metadata": {},
     "output_type": "execute_result"
    }
   ],
   "source": [
    "len(evaluate_nc)"
   ]
  },
  {
   "cell_type": "code",
   "execution_count": 24,
   "id": "ba831e22",
   "metadata": {},
   "outputs": [],
   "source": [
    "import pandas as pd\n",
    "\n",
    "df_evaluate_lsa = pd.DataFrame(np.array(evaluate_lsa),columns=[\"loss\",\"accuracy\",\"precision\",\"recall\"])\n",
    "df_evaluate_dsa = pd.DataFrame(np.array(evaluate_dsa),columns=[\"loss\",\"accuracy\",\"precision\",\"recall\"])\n",
    "df_evaluate_dg = pd.DataFrame(np.array(evaluate_dg),columns=[\"loss\",\"accuracy\",\"precision\",\"recall\"])\n",
    "df_evaluate_se = pd.DataFrame(np.array(evaluate_se),columns=[\"loss\",\"accuracy\",\"precision\",\"recall\"])\n",
    "\n",
    "df_evaluate_random = pd.DataFrame(np.array(evaluate_random),columns=[\"loss\",\"accuracy\",\"precision\",\"recall\"])\n",
    "df_evaluate_nc = pd.DataFrame(np.array(evaluate_nc),columns=[\"loss\",\"accuracy\",\"precision\",\"recall\"])\n"
   ]
  },
  {
   "cell_type": "code",
   "execution_count": 11,
   "id": "d5eae8d4",
   "metadata": {},
   "outputs": [
    {
     "name": "stdout",
     "output_type": "stream",
     "text": [
      "D:/aug_graphs/mnist/c3\n"
     ]
    }
   ],
   "source": [
    "save_dir = \"D:/aug_graphs/\"+dataset+\"/\"+config_lc\n",
    "print(save_dir)"
   ]
  },
  {
   "cell_type": "code",
   "execution_count": 26,
   "id": "1fcc89a7",
   "metadata": {},
   "outputs": [],
   "source": [
    "df_evaluate_lsa.to_csv(save_dir+\"/lsa_\"+config_lc,index=False)\n",
    "df_evaluate_dsa.to_csv(save_dir+\"/dsa_\"+config_lc,index=False)\n",
    "df_evaluate_dg.to_csv(save_dir+\"/dg_\"+config_lc,index=False)\n",
    "df_evaluate_se.to_csv(save_dir+\"/se_\"+config_lc,index=False)\n",
    "df_evaluate_random.to_csv(save_dir+\"/random_\"+config_lc,index=False)\n",
    "df_evaluate_nc.to_csv(save_dir+\"/nc_\"+config_lc,index=False)"
   ]
  },
  {
   "cell_type": "code",
   "execution_count": 12,
   "id": "6b575e92",
   "metadata": {},
   "outputs": [],
   "source": [
    "import pandas as pd\n",
    "loading_csv = True\n",
    "if(loading_csv):\n",
    "    \n",
    "    df_evaluate_lsa = pd.read_csv(save_dir+\"/lsa_\"+config_lc)\n",
    "    df_evaluate_dsa = pd.read_csv(save_dir+\"/dsa_\"+config_lc)\n",
    "    df_evaluate_dg = pd.read_csv(save_dir+\"/dg_\"+config_lc)\n",
    "    df_evaluate_se = pd.read_csv(save_dir+\"/se_\"+config_lc)\n",
    "    df_evaluate_random = pd.read_csv(save_dir+\"/random_\"+config_lc)\n",
    "    df_evaluate_nc = pd.read_csv(save_dir+\"/nc_\"+config_lc)"
   ]
  },
  {
   "cell_type": "code",
   "execution_count": 13,
   "id": "434369a2",
   "metadata": {},
   "outputs": [
    {
     "data": {
      "text/html": [
       "<div>\n",
       "<style scoped>\n",
       "    .dataframe tbody tr th:only-of-type {\n",
       "        vertical-align: middle;\n",
       "    }\n",
       "\n",
       "    .dataframe tbody tr th {\n",
       "        vertical-align: top;\n",
       "    }\n",
       "\n",
       "    .dataframe thead th {\n",
       "        text-align: right;\n",
       "    }\n",
       "</style>\n",
       "<table border=\"1\" class=\"dataframe\">\n",
       "  <thead>\n",
       "    <tr style=\"text-align: right;\">\n",
       "      <th></th>\n",
       "      <th>loss</th>\n",
       "      <th>accuracy</th>\n",
       "      <th>precision</th>\n",
       "      <th>recall</th>\n",
       "    </tr>\n",
       "  </thead>\n",
       "  <tbody>\n",
       "    <tr>\n",
       "      <th>0</th>\n",
       "      <td>0.109429</td>\n",
       "      <td>0.977000</td>\n",
       "      <td>0.982950</td>\n",
       "      <td>0.962366</td>\n",
       "    </tr>\n",
       "    <tr>\n",
       "      <th>1</th>\n",
       "      <td>0.113110</td>\n",
       "      <td>0.983143</td>\n",
       "      <td>0.987209</td>\n",
       "      <td>0.986980</td>\n",
       "    </tr>\n",
       "    <tr>\n",
       "      <th>2</th>\n",
       "      <td>0.064469</td>\n",
       "      <td>0.984214</td>\n",
       "      <td>0.989372</td>\n",
       "      <td>0.988971</td>\n",
       "    </tr>\n",
       "    <tr>\n",
       "      <th>3</th>\n",
       "      <td>0.066507</td>\n",
       "      <td>0.985071</td>\n",
       "      <td>0.989190</td>\n",
       "      <td>0.988354</td>\n",
       "    </tr>\n",
       "    <tr>\n",
       "      <th>4</th>\n",
       "      <td>0.061500</td>\n",
       "      <td>0.984857</td>\n",
       "      <td>0.988584</td>\n",
       "      <td>0.987845</td>\n",
       "    </tr>\n",
       "    <tr>\n",
       "      <th>5</th>\n",
       "      <td>0.062186</td>\n",
       "      <td>0.982500</td>\n",
       "      <td>0.987559</td>\n",
       "      <td>0.986676</td>\n",
       "    </tr>\n",
       "    <tr>\n",
       "      <th>6</th>\n",
       "      <td>0.052196</td>\n",
       "      <td>0.987071</td>\n",
       "      <td>0.990526</td>\n",
       "      <td>0.990201</td>\n",
       "    </tr>\n",
       "    <tr>\n",
       "      <th>7</th>\n",
       "      <td>0.063830</td>\n",
       "      <td>0.982857</td>\n",
       "      <td>0.989550</td>\n",
       "      <td>0.982340</td>\n",
       "    </tr>\n",
       "    <tr>\n",
       "      <th>8</th>\n",
       "      <td>0.053524</td>\n",
       "      <td>0.985786</td>\n",
       "      <td>0.989203</td>\n",
       "      <td>0.987834</td>\n",
       "    </tr>\n",
       "    <tr>\n",
       "      <th>9</th>\n",
       "      <td>0.041820</td>\n",
       "      <td>0.989143</td>\n",
       "      <td>0.992436</td>\n",
       "      <td>0.990938</td>\n",
       "    </tr>\n",
       "    <tr>\n",
       "      <th>10</th>\n",
       "      <td>0.070512</td>\n",
       "      <td>0.986786</td>\n",
       "      <td>0.989608</td>\n",
       "      <td>0.989596</td>\n",
       "    </tr>\n",
       "    <tr>\n",
       "      <th>11</th>\n",
       "      <td>0.047474</td>\n",
       "      <td>0.987143</td>\n",
       "      <td>0.990121</td>\n",
       "      <td>0.989162</td>\n",
       "    </tr>\n",
       "    <tr>\n",
       "      <th>12</th>\n",
       "      <td>0.041930</td>\n",
       "      <td>0.988143</td>\n",
       "      <td>0.990945</td>\n",
       "      <td>0.989608</td>\n",
       "    </tr>\n",
       "    <tr>\n",
       "      <th>13</th>\n",
       "      <td>0.054059</td>\n",
       "      <td>0.985571</td>\n",
       "      <td>0.989300</td>\n",
       "      <td>0.987558</td>\n",
       "    </tr>\n",
       "    <tr>\n",
       "      <th>14</th>\n",
       "      <td>0.059787</td>\n",
       "      <td>0.982214</td>\n",
       "      <td>0.988976</td>\n",
       "      <td>0.982374</td>\n",
       "    </tr>\n",
       "    <tr>\n",
       "      <th>15</th>\n",
       "      <td>0.058724</td>\n",
       "      <td>0.983357</td>\n",
       "      <td>0.987884</td>\n",
       "      <td>0.983095</td>\n",
       "    </tr>\n",
       "    <tr>\n",
       "      <th>16</th>\n",
       "      <td>0.042289</td>\n",
       "      <td>0.987786</td>\n",
       "      <td>0.991472</td>\n",
       "      <td>0.990198</td>\n",
       "    </tr>\n",
       "    <tr>\n",
       "      <th>17</th>\n",
       "      <td>0.051186</td>\n",
       "      <td>0.985643</td>\n",
       "      <td>0.989130</td>\n",
       "      <td>0.984640</td>\n",
       "    </tr>\n",
       "    <tr>\n",
       "      <th>18</th>\n",
       "      <td>0.046304</td>\n",
       "      <td>0.986571</td>\n",
       "      <td>0.990602</td>\n",
       "      <td>0.988728</td>\n",
       "    </tr>\n",
       "    <tr>\n",
       "      <th>19</th>\n",
       "      <td>0.067736</td>\n",
       "      <td>0.982643</td>\n",
       "      <td>0.985793</td>\n",
       "      <td>0.983674</td>\n",
       "    </tr>\n",
       "    <tr>\n",
       "      <th>20</th>\n",
       "      <td>0.051540</td>\n",
       "      <td>0.987500</td>\n",
       "      <td>0.989229</td>\n",
       "      <td>0.988694</td>\n",
       "    </tr>\n",
       "  </tbody>\n",
       "</table>\n",
       "</div>"
      ],
      "text/plain": [
       "        loss  accuracy  precision    recall\n",
       "0   0.109429  0.977000   0.982950  0.962366\n",
       "1   0.113110  0.983143   0.987209  0.986980\n",
       "2   0.064469  0.984214   0.989372  0.988971\n",
       "3   0.066507  0.985071   0.989190  0.988354\n",
       "4   0.061500  0.984857   0.988584  0.987845\n",
       "5   0.062186  0.982500   0.987559  0.986676\n",
       "6   0.052196  0.987071   0.990526  0.990201\n",
       "7   0.063830  0.982857   0.989550  0.982340\n",
       "8   0.053524  0.985786   0.989203  0.987834\n",
       "9   0.041820  0.989143   0.992436  0.990938\n",
       "10  0.070512  0.986786   0.989608  0.989596\n",
       "11  0.047474  0.987143   0.990121  0.989162\n",
       "12  0.041930  0.988143   0.990945  0.989608\n",
       "13  0.054059  0.985571   0.989300  0.987558\n",
       "14  0.059787  0.982214   0.988976  0.982374\n",
       "15  0.058724  0.983357   0.987884  0.983095\n",
       "16  0.042289  0.987786   0.991472  0.990198\n",
       "17  0.051186  0.985643   0.989130  0.984640\n",
       "18  0.046304  0.986571   0.990602  0.988728\n",
       "19  0.067736  0.982643   0.985793  0.983674\n",
       "20  0.051540  0.987500   0.989229  0.988694"
      ]
     },
     "execution_count": 13,
     "metadata": {},
     "output_type": "execute_result"
    }
   ],
   "source": [
    "df_evaluate_dg"
   ]
  },
  {
   "cell_type": "code",
   "execution_count": 14,
   "id": "3c21fd01",
   "metadata": {},
   "outputs": [],
   "source": [
    "\n",
    "metric =\"accuracy\"\n",
    "accuracy_lsa_3 = np.array(df_evaluate_lsa[metric])\n",
    "accuracy_dsa_3 = np.array(df_evaluate_dsa[metric])\n",
    "accuracy_dg_3 = np.array(df_evaluate_dg[metric])\n",
    "accuracy_se_3 = np.array(df_evaluate_se[metric])\n",
    "\n",
    "accuracy_nc_3 =np.array(df_evaluate_nc[metric])\n",
    "accuracy_random_3 = np.array(df_evaluate_random[metric])\n"
   ]
  },
  {
   "cell_type": "code",
   "execution_count": null,
   "id": "7aeb569b",
   "metadata": {},
   "outputs": [],
   "source": []
  },
  {
   "cell_type": "code",
   "execution_count": 15,
   "id": "9ed5051f",
   "metadata": {},
   "outputs": [],
   "source": [
    "n_data_points = 340"
   ]
  },
  {
   "cell_type": "code",
   "execution_count": 16,
   "id": "43b61f22",
   "metadata": {},
   "outputs": [
    {
     "data": {
      "text/plain": [
       "21"
      ]
     },
     "execution_count": 16,
     "metadata": {},
     "output_type": "execute_result"
    }
   ],
   "source": [
    "len(accuracy_dsa_3)"
   ]
  },
  {
   "cell_type": "code",
   "execution_count": 17,
   "id": "f989196d",
   "metadata": {},
   "outputs": [
    {
     "data": {
      "text/plain": [
       "55998"
      ]
     },
     "execution_count": 17,
     "metadata": {},
     "output_type": "execute_result"
    }
   ],
   "source": [
    "len(x_train_and_adversary)"
   ]
  },
  {
   "cell_type": "code",
   "execution_count": 18,
   "id": "e67df87a",
   "metadata": {},
   "outputs": [
    {
     "name": "stdout",
     "output_type": "stream",
     "text": [
      "21\n"
     ]
    },
    {
     "data": {
      "text/plain": [
       "[0,\n",
       " 340,\n",
       " 680,\n",
       " 1020,\n",
       " 1360,\n",
       " 1700,\n",
       " 2040,\n",
       " 2380,\n",
       " 2720,\n",
       " 3060,\n",
       " 3400,\n",
       " 3740,\n",
       " 4080,\n",
       " 4420,\n",
       " 4760,\n",
       " 5100,\n",
       " 5440,\n",
       " 5780,\n",
       " 6120,\n",
       " 6460,\n",
       " 6999]"
      ]
     },
     "execution_count": 18,
     "metadata": {},
     "output_type": "execute_result"
    }
   ],
   "source": [
    "n_inputs = [n_data_points*i for i in range(num_models)]\n",
    "n_inputs.append(6999)\n",
    "print(len(n_inputs))\n",
    "n_inputs"
   ]
  },
  {
   "cell_type": "code",
   "execution_count": 19,
   "id": "3cd2cd2d",
   "metadata": {},
   "outputs": [
    {
     "name": "stdout",
     "output_type": "stream",
     "text": [
      "21\n",
      "21\n"
     ]
    }
   ],
   "source": [
    "print(len(df_evaluate_dg))\n",
    "print(len(n_inputs))"
   ]
  },
  {
   "cell_type": "code",
   "execution_count": null,
   "id": "b484cf9a",
   "metadata": {},
   "outputs": [],
   "source": [
    "#save_dir = \"D:/aug_graphs/\"+dataset+\"/\"+config"
   ]
  },
  {
   "cell_type": "code",
   "execution_count": 20,
   "id": "04d02a6d",
   "metadata": {},
   "outputs": [],
   "source": [
    "linestyles = ['solid','dotted','dashed','dashed','dashdot','dashdot']\n",
    "colors =['b','g','r','c','m','k']"
   ]
  },
  {
   "cell_type": "code",
   "execution_count": 22,
   "id": "75c13967",
   "metadata": {},
   "outputs": [
    {
     "name": "stdout",
     "output_type": "stream",
     "text": [
      "6999 0.9884285926818848\n",
      "5440 0.9878571629524232\n",
      "3060 0.9891428351402284\n",
      "3060 0.98971426486969\n",
      "5780 0.9882857203483582\n",
      "5100 0.9864285588264464\n"
     ]
    },
    {
     "data": {
      "image/png": "[encoded data removed]",
      "text/plain": [
       "<Figure size 432x288 with 1 Axes>"
      ]
     },
     "metadata": {
      "needs_background": "light"
     },
     "output_type": "display_data"
    }
   ],
   "source": [
    "#adversarial jsma test set\n",
    "#configuration 3\n",
    "\"\"\"\n",
    "6) Incremental guided retraining starting from the original model using only the new adversarial inputs.\n",
    "Incremental training, starting with the previous trained model. Using at each iteration a subset of the new inputs.\n",
    "\"\"\"\n",
    "import matplotlib.pyplot as plt\n",
    "import matplotlib.patches as mpatches\n",
    "\n",
    "from matplotlib.patches import Patch\n",
    "from matplotlib.lines import Line2D\n",
    "\n",
    "plt.plot(n_inputs,accuracy_lsa_3,colors[0],linestyle=linestyles[0])\n",
    "plt.plot(n_inputs,accuracy_dsa_3,colors[1],linestyle=linestyles[1])\n",
    "plt.plot(n_inputs,accuracy_dg_3,colors[2],linestyle=linestyles[2])\n",
    "plt.plot(n_inputs,accuracy_se_3,colors[3],linestyle=linestyles[3])\n",
    "plt.plot(n_inputs,accuracy_random_3,colors[4],linestyle=linestyles[4])\n",
    "plt.plot(n_inputs,accuracy_nc_3,colors[5],linestyle=linestyles[5])\n",
    "\n",
    "\n",
    "legend_elements = [Line2D([0], [0], color=colors[0], label='LSA',ls = linestyles[0]),\n",
    "                   Line2D([0], [0], color=colors[1], label='DSA',ls = linestyles[1]),\n",
    "                   Line2D([0], [0], color=colors[2], label='dg',ls = linestyles[2]),\n",
    "                   Line2D([0], [0], color=colors[3], label='se',ls = linestyles[3]),\n",
    "                   Line2D([0], [0], color=colors[4], label='Random',ls = linestyles[4]),\n",
    "                   Line2D([0], [0], color=colors[5], label='NC',ls = linestyles[5])]\n",
    "\n",
    "\n",
    "\n",
    "plt.legend(handles=legend_elements)#\n",
    "#plt.title(\"Accuracy\")\n",
    "\n",
    "print(n_inputs[np.argmax(accuracy_lsa_3)],accuracy_lsa_3.max())\n",
    "print(n_inputs[np.argmax(accuracy_dsa_3)],accuracy_dsa_3.max())\n",
    "print(n_inputs[np.argmax(accuracy_dg_3)],accuracy_dg_3.max())\n",
    "print(n_inputs[np.argmax(accuracy_se_3)],accuracy_se_3.max())\n",
    "print(n_inputs[np.argmax(accuracy_random_3)],accuracy_random_3.max())\n",
    "print(n_inputs[np.argmax(accuracy_nc_3)],accuracy_nc_3.max())\n",
    "\n",
    "plt.plot(n_inputs[np.argmax(accuracy_lsa_3)],accuracy_lsa_3.max(),'-bD',)\n",
    "plt.plot(n_inputs[np.argmax(accuracy_dsa_3)],accuracy_dsa_3.max(),'-go')\n",
    "plt.plot(n_inputs[np.argmax(accuracy_dg_3)],accuracy_dg_3.max(),'-r+')\n",
    "plt.plot(n_inputs[np.argmax(accuracy_se_3)],accuracy_se_3.max(),'-c*')\n",
    "plt.plot(n_inputs[np.argmax(accuracy_random_3)],accuracy_random_3.max(),'-mv')\n",
    "plt.plot(n_inputs[np.argmax(accuracy_nc_3)],accuracy_nc_3.max(),'-kp')\n",
    "\n",
    "plt.xlabel('Number of inputs')\n",
    "plt.ylabel('Accuracy')\n",
    "plt.xlim([0, 6999])\n",
    "#plt.ylim([0.95, 1])\n",
    "\n",
    "plt.savefig(save_dir+\"/\"+dataset+\"_\"+config_lc+\"_\"+\"accuracy\" + \".svg\")\n",
    "\n",
    "plt.show()"
   ]
  },
  {
   "cell_type": "code",
   "execution_count": null,
   "id": "303ce049",
   "metadata": {},
   "outputs": [],
   "source": []
  }
 ],
 "metadata": {
  "kernelspec": {
   "display_name": "Python 3",
   "language": "python",
   "name": "python3"
  },
  "language_info": {
   "codemirror_mode": {
    "name": "ipython",
    "version": 3
   },
   "file_extension": ".py",
   "mimetype": "text/x-python",
   "name": "python",
   "nbconvert_exporter": "python",
   "pygments_lexer": "ipython3",
   "version": "3.8.8"
  }
 },
 "nbformat": 4,
 "nbformat_minor": 5
}
