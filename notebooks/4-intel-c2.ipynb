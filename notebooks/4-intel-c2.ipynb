{
 "cells": [
  {
   "cell_type": "code",
   "execution_count": 28,
   "id": "458bf345",
   "metadata": {},
   "outputs": [],
   "source": [
    "import argparse\n",
    "\n",
    "import numpy as np\n",
    "import tensorflow as tf\n",
    "import keras.backend as K\n",
    "\n",
    "import matplotlib.pyplot as plt\n",
    "\n",
    "from keras.utils import np_utils\n",
    "from keras.models import Sequential\n",
    "from keras.layers import Dense, Dropout, Activation, Flatten, Conv2D, MaxPooling2D\n",
    "from keras.regularizers import l2\n",
    "\n",
    "import glob\n",
    "import os\n",
    "import cv2\n",
    "import keras\n",
    "\n",
    "\n",
    "import time\n",
    "import argparse\n",
    "\n",
    "from tqdm import tqdm\n",
    "\n",
    "from keras.models import load_model, Model\n"
   ]
  },
  {
   "cell_type": "code",
   "execution_count": 2,
   "id": "d87645a5",
   "metadata": {},
   "outputs": [
    {
     "name": "stdout",
     "output_type": "stream",
     "text": [
      "[WinError 3] The system cannot find the path specified: 'C:/Users/fjdur/Documents/utils/'\n",
      "C:\\Users\\fjdurlop\\Documents\\upc\\upc-july\\notebooks\n"
     ]
    }
   ],
   "source": [
    "cd C:/Users/fjdur/Documents/utils/"
   ]
  },
  {
   "cell_type": "code",
   "execution_count": 3,
   "id": "c6c83ac8",
   "metadata": {},
   "outputs": [
    {
     "name": "stdout",
     "output_type": "stream",
     "text": [
      "C:\\Users\\fjdurlop\\Documents\\upc\\utils\n"
     ]
    }
   ],
   "source": [
    "cd C:/Users/fjdurlop/Documents/upc/utils/"
   ]
  },
  {
   "cell_type": "code",
   "execution_count": 4,
   "id": "b4b5dea1",
   "metadata": {},
   "outputs": [
    {
     "name": "stdout",
     "output_type": "stream",
     "text": [
      "2.5.0\n",
      "keras\n",
      "2.5.0\n"
     ]
    }
   ],
   "source": [
    "#import utils_guided_retraining as utils\n",
    "import utils_guided_retraining2 as utils"
   ]
  },
  {
   "cell_type": "code",
   "execution_count": 5,
   "id": "a90d3511",
   "metadata": {},
   "outputs": [],
   "source": [
    "dataset = \"intel\""
   ]
  },
  {
   "cell_type": "code",
   "execution_count": 6,
   "id": "07b34a1a",
   "metadata": {},
   "outputs": [],
   "source": [
    "x_test,y_test = utils.get_data(dataset,\"Test\")"
   ]
  },
  {
   "cell_type": "code",
   "execution_count": 7,
   "id": "244a4fbd",
   "metadata": {},
   "outputs": [],
   "source": [
    "x_train_and_adversary,y_train_and_adversary = utils.get_data(dataset,\"Train_and_adversary\")"
   ]
  },
  {
   "cell_type": "code",
   "execution_count": 8,
   "id": "739175c8",
   "metadata": {},
   "outputs": [],
   "source": [
    "x_test_and_adversary,y_test_and_adversary = utils.get_adversarial_data(dataset,'Test_adversarial') "
   ]
  },
  {
   "cell_type": "code",
   "execution_count": 9,
   "id": "0875bdf0",
   "metadata": {},
   "outputs": [],
   "source": [
    "\n",
    "model_dir = \"C:/Users/fjdur/Documents/upc-july/models/tf_model_25-06/\"\n",
    "if(dataset == 'gtsrb'):\n",
    "    model_dir = \"C:/Users/fjdur/Documents/upc-july/models/tf_model_25-06\"\n",
    "elif(dataset == 'intel'):\n",
    "    model_dir = \"C:/Users/fjdur/Documents/upc-july/models/intel_model_21_10\"\n",
    "elif(dataset == 'mnist'):\n",
    "    model_dir = \"C:/Users/fjdur/Documents/upc-july/models/models2\"\n",
    "elif(dataset == 'cifar'):\n",
    "    model_dir = \"C:/Users/fjdur/Documents/upc-july/models/model_02\"\n"
   ]
  },
  {
   "cell_type": "code",
   "execution_count": 10,
   "id": "e0c78975",
   "metadata": {},
   "outputs": [],
   "source": [
    "model_dir = \"C:/Users/fjdurlop/Documents/upc/upc-july/models/tf_model_25-06/\"\n",
    "if(dataset == 'gtsrb'):\n",
    "    model_dir = \"C:/Users/fjdurlop/Documents/upc/upc-july/models/tf_model_25-06\"\n",
    "elif(dataset == 'intel'):\n",
    "    model_dir = \"C:/Users/fjdurlop/Documents/upc/upc-july/models/intel_model_21_10\"\n",
    "elif(dataset == 'mnist'):\n",
    "    model_dir = \"C:/Users/fjdurlop/Documents/upc/upc-july/models/models2\"\n",
    "elif(dataset == 'cifar'):\n",
    "    model_dir = \"C:/Users/fjdurlop/Documents/upc/upc-july/models/model_02\""
   ]
  },
  {
   "cell_type": "code",
   "execution_count": 11,
   "id": "1485065e",
   "metadata": {},
   "outputs": [
    {
     "name": "stdout",
     "output_type": "stream",
     "text": [
      "C:/Users/fjdurlop/Documents/upc/upc-july/models/intel_model_21_10\n",
      "Model loaded correctly\n"
     ]
    }
   ],
   "source": [
    "print(model_dir)\n",
    "model_original = utils.My_model(dataset,True, model_dir)"
   ]
  },
  {
   "cell_type": "code",
   "execution_count": 29,
   "id": "f6ff9b77",
   "metadata": {},
   "outputs": [
    {
     "name": "stdout",
     "output_type": "stream",
     "text": [
      "188/188 [==============================] - 10s 13ms/step - loss: 0.9981 - accuracy: 0.6872\n"
     ]
    },
    {
     "data": {
      "text/plain": [
       "[0.9981359839439392, 0.687166690826416]"
      ]
     },
     "execution_count": 29,
     "metadata": {},
     "output_type": "execute_result"
    }
   ],
   "source": [
    "model_original.evaluate(x_test_and_adversary,y_test_and_adversary)"
   ]
  },
  {
   "cell_type": "code",
   "execution_count": 12,
   "id": "9b01a96b",
   "metadata": {},
   "outputs": [],
   "source": [
    "loading_csv = True"
   ]
  },
  {
   "cell_type": "markdown",
   "id": "48e95400",
   "metadata": {},
   "source": [
    "## Loading models"
   ]
  },
  {
   "cell_type": "code",
   "execution_count": null,
   "id": "a22156f9",
   "metadata": {},
   "outputs": [],
   "source": [
    "data_dir = \"D:/models/aug_22\"\n",
    "dataset = \"gtsrb\"\n",
    "config = \"C1\"\n",
    "config_lc = \"c1\"\n",
    "num_models = 20"
   ]
  },
  {
   "cell_type": "code",
   "execution_count": 14,
   "id": "9ca8455f",
   "metadata": {},
   "outputs": [],
   "source": [
    "data_dir = \"C:/Users/fjdurlop/Documents/upc/models\"\n",
    "dataset = \"intel\"\n",
    "config = \"C2\"\n",
    "config_lc = \"c2\"\n",
    "num_models = 21"
   ]
  },
  {
   "cell_type": "code",
   "execution_count": 20,
   "id": "53255a20",
   "metadata": {},
   "outputs": [],
   "source": [
    "# C:/Users/fjdurlop/Documents/upc/models/intel/C2/intel_model_c2_aug_lsa_e1_0"
   ]
  },
  {
   "cell_type": "code",
   "execution_count": null,
   "id": "fe3eb254",
   "metadata": {},
   "outputs": [],
   "source": [
    "#change config"
   ]
  },
  {
   "cell_type": "code",
   "execution_count": 22,
   "id": "c0dc05ec",
   "metadata": {},
   "outputs": [
    {
     "name": "stdout",
     "output_type": "stream",
     "text": [
      "C:/Users/fjdurlop/Documents/upc/models/intel/C2/intel_model_c2_aug_lsa_e1_0\n",
      "Model loaded correctly\n",
      "C:/Users/fjdurlop/Documents/upc/models/intel/C2/intel_model_c2_aug_lsa_e1_1\n",
      "Model loaded correctly\n",
      "C:/Users/fjdurlop/Documents/upc/models/intel/C2/intel_model_c2_aug_lsa_e1_2\n",
      "Model loaded correctly\n",
      "C:/Users/fjdurlop/Documents/upc/models/intel/C2/intel_model_c2_aug_lsa_e1_3\n",
      "Model loaded correctly\n",
      "C:/Users/fjdurlop/Documents/upc/models/intel/C2/intel_model_c2_aug_lsa_e1_4\n",
      "Model loaded correctly\n",
      "C:/Users/fjdurlop/Documents/upc/models/intel/C2/intel_model_c2_aug_lsa_e1_5\n",
      "Model loaded correctly\n",
      "C:/Users/fjdurlop/Documents/upc/models/intel/C2/intel_model_c2_aug_lsa_e1_6\n",
      "Model loaded correctly\n",
      "C:/Users/fjdurlop/Documents/upc/models/intel/C2/intel_model_c2_aug_lsa_e1_7\n",
      "Model loaded correctly\n",
      "C:/Users/fjdurlop/Documents/upc/models/intel/C2/intel_model_c2_aug_lsa_e1_8\n",
      "Model loaded correctly\n",
      "C:/Users/fjdurlop/Documents/upc/models/intel/C2/intel_model_c2_aug_lsa_e1_9\n",
      "Model loaded correctly\n",
      "C:/Users/fjdurlop/Documents/upc/models/intel/C2/intel_model_c2_aug_lsa_e1_10\n",
      "Model loaded correctly\n",
      "C:/Users/fjdurlop/Documents/upc/models/intel/C2/intel_model_c2_aug_lsa_e1_11\n",
      "Model loaded correctly\n",
      "C:/Users/fjdurlop/Documents/upc/models/intel/C2/intel_model_c2_aug_lsa_e1_12\n",
      "Model loaded correctly\n",
      "C:/Users/fjdurlop/Documents/upc/models/intel/C2/intel_model_c2_aug_lsa_e1_13\n",
      "Model loaded correctly\n",
      "C:/Users/fjdurlop/Documents/upc/models/intel/C2/intel_model_c2_aug_lsa_e1_14\n",
      "Model loaded correctly\n",
      "C:/Users/fjdurlop/Documents/upc/models/intel/C2/intel_model_c2_aug_lsa_e1_15\n",
      "Model loaded correctly\n",
      "C:/Users/fjdurlop/Documents/upc/models/intel/C2/intel_model_c2_aug_lsa_e1_16\n",
      "Model loaded correctly\n",
      "C:/Users/fjdurlop/Documents/upc/models/intel/C2/intel_model_c2_aug_lsa_e1_17\n",
      "Model loaded correctly\n",
      "C:/Users/fjdurlop/Documents/upc/models/intel/C2/intel_model_c2_aug_lsa_e1_18\n",
      "Model loaded correctly\n",
      "C:/Users/fjdurlop/Documents/upc/models/intel/C2/intel_model_c2_aug_lsa_e1_19\n",
      "Model loaded correctly\n",
      "C:/Users/fjdurlop/Documents/upc/models/intel/C2/intel_model_c2_aug_lsa_e1_20\n",
      "Model loaded correctly\n"
     ]
    }
   ],
   "source": [
    "loading = True\n",
    "\n",
    "models_lsa = []\n",
    "\n",
    "if loading:\n",
    "    for i in range(num_models):\n",
    "        model_lsa_dir = data_dir+\"/\"+dataset+\"/C2/\"+dataset+\"_model_c2_aug_lsa_e1_\"+str(i)\n",
    "        print(model_lsa_dir)\n",
    "        model =utils.My_model(dataset,True,model_lsa_dir)\n",
    "        model.model.compile(loss= 'categorical_crossentropy', optimizer = 'rmsprop', metrics = ['accuracy',tf.keras.metrics.Precision(), tf.keras.metrics.Recall()])\n",
    "        models_lsa.append(model)\n",
    "       \n",
    "    "
   ]
  },
  {
   "cell_type": "code",
   "execution_count": 14,
   "id": "da4d6ed4",
   "metadata": {},
   "outputs": [
    {
     "name": "stdout",
     "output_type": "stream",
     "text": [
      "C:/Users/fjdurlop/Documents/upc/models/intel/C2/intel_model_c2_aug_dsa_e1_0\n",
      "Model loaded correctly\n",
      "C:/Users/fjdurlop/Documents/upc/models/intel/C2/intel_model_c2_aug_dsa_e1_1\n",
      "Model loaded correctly\n",
      "C:/Users/fjdurlop/Documents/upc/models/intel/C2/intel_model_c2_aug_dsa_e1_2\n",
      "Model loaded correctly\n",
      "C:/Users/fjdurlop/Documents/upc/models/intel/C2/intel_model_c2_aug_dsa_e1_3\n",
      "Model loaded correctly\n",
      "C:/Users/fjdurlop/Documents/upc/models/intel/C2/intel_model_c2_aug_dsa_e1_4\n",
      "Model loaded correctly\n",
      "C:/Users/fjdurlop/Documents/upc/models/intel/C2/intel_model_c2_aug_dsa_e1_5\n",
      "Model loaded correctly\n",
      "C:/Users/fjdurlop/Documents/upc/models/intel/C2/intel_model_c2_aug_dsa_e1_6\n",
      "Model loaded correctly\n",
      "C:/Users/fjdurlop/Documents/upc/models/intel/C2/intel_model_c2_aug_dsa_e1_7\n",
      "Model loaded correctly\n",
      "C:/Users/fjdurlop/Documents/upc/models/intel/C2/intel_model_c2_aug_dsa_e1_8\n",
      "Model loaded correctly\n",
      "C:/Users/fjdurlop/Documents/upc/models/intel/C2/intel_model_c2_aug_dsa_e1_9\n",
      "Model loaded correctly\n",
      "C:/Users/fjdurlop/Documents/upc/models/intel/C2/intel_model_c2_aug_dsa_e1_10\n",
      "Model loaded correctly\n",
      "C:/Users/fjdurlop/Documents/upc/models/intel/C2/intel_model_c2_aug_dsa_e1_11\n",
      "Model loaded correctly\n",
      "C:/Users/fjdurlop/Documents/upc/models/intel/C2/intel_model_c2_aug_dsa_e1_12\n",
      "Model loaded correctly\n",
      "C:/Users/fjdurlop/Documents/upc/models/intel/C2/intel_model_c2_aug_dsa_e1_13\n",
      "Model loaded correctly\n",
      "C:/Users/fjdurlop/Documents/upc/models/intel/C2/intel_model_c2_aug_dsa_e1_14\n",
      "Model loaded correctly\n",
      "C:/Users/fjdurlop/Documents/upc/models/intel/C2/intel_model_c2_aug_dsa_e1_15\n",
      "Model loaded correctly\n",
      "C:/Users/fjdurlop/Documents/upc/models/intel/C2/intel_model_c2_aug_dsa_e1_16\n",
      "Model loaded correctly\n",
      "C:/Users/fjdurlop/Documents/upc/models/intel/C2/intel_model_c2_aug_dsa_e1_17\n",
      "Model loaded correctly\n",
      "C:/Users/fjdurlop/Documents/upc/models/intel/C2/intel_model_c2_aug_dsa_e1_18\n",
      "Model loaded correctly\n",
      "C:/Users/fjdurlop/Documents/upc/models/intel/C2/intel_model_c2_aug_dsa_e1_19\n",
      "Model loaded correctly\n",
      "C:/Users/fjdurlop/Documents/upc/models/intel/C2/intel_model_c2_aug_dsa_e1_20\n",
      "Model loaded correctly\n"
     ]
    }
   ],
   "source": [
    "loading = True\n",
    "\n",
    "models_dsa = []\n",
    "\n",
    "if loading:\n",
    "    for i in range(num_models):\n",
    "        #model_dsa_dir = \"D:/models/gtsrb_models/C1/gtsrb_model_c1_sep_dsa_e2_\"+str(i)\n",
    "        model_dsa_dir = data_dir+\"/\"+dataset+\"/C2/\"+dataset+\"_model_c2_aug_dsa_e1_\"+str(i)\n",
    "        print(model_dsa_dir)\n",
    "        model =utils.My_model(dataset,True,model_dsa_dir)\n",
    "        model.model.compile(loss= 'categorical_crossentropy', optimizer = 'rmsprop', metrics = ['accuracy',tf.keras.metrics.Precision(), tf.keras.metrics.Recall()])\n",
    "        models_dsa.append(model)\n",
    "       \n",
    "\n",
    "    "
   ]
  },
  {
   "cell_type": "code",
   "execution_count": 24,
   "id": "0a4a7c64",
   "metadata": {
    "scrolled": true
   },
   "outputs": [
    {
     "name": "stdout",
     "output_type": "stream",
     "text": [
      "C:/Users/fjdurlop/Documents/upc/models/intel/C2/intel_model_c2_aug_dg_e1_0\n",
      "Model loaded correctly\n",
      "C:/Users/fjdurlop/Documents/upc/models/intel/C2/intel_model_c2_aug_dg_e1_1\n",
      "Model loaded correctly\n",
      "C:/Users/fjdurlop/Documents/upc/models/intel/C2/intel_model_c2_aug_dg_e1_2\n",
      "Model loaded correctly\n",
      "C:/Users/fjdurlop/Documents/upc/models/intel/C2/intel_model_c2_aug_dg_e1_3\n",
      "Model loaded correctly\n",
      "C:/Users/fjdurlop/Documents/upc/models/intel/C2/intel_model_c2_aug_dg_e1_4\n",
      "Model loaded correctly\n",
      "C:/Users/fjdurlop/Documents/upc/models/intel/C2/intel_model_c2_aug_dg_e1_5\n",
      "Model loaded correctly\n",
      "C:/Users/fjdurlop/Documents/upc/models/intel/C2/intel_model_c2_aug_dg_e1_6\n",
      "Model loaded correctly\n",
      "C:/Users/fjdurlop/Documents/upc/models/intel/C2/intel_model_c2_aug_dg_e1_7\n",
      "Model loaded correctly\n",
      "C:/Users/fjdurlop/Documents/upc/models/intel/C2/intel_model_c2_aug_dg_e1_8\n",
      "Model loaded correctly\n",
      "C:/Users/fjdurlop/Documents/upc/models/intel/C2/intel_model_c2_aug_dg_e1_9\n",
      "Model loaded correctly\n",
      "C:/Users/fjdurlop/Documents/upc/models/intel/C2/intel_model_c2_aug_dg_e1_10\n",
      "Model loaded correctly\n",
      "C:/Users/fjdurlop/Documents/upc/models/intel/C2/intel_model_c2_aug_dg_e1_11\n",
      "Model loaded correctly\n",
      "C:/Users/fjdurlop/Documents/upc/models/intel/C2/intel_model_c2_aug_dg_e1_12\n",
      "Model loaded correctly\n",
      "C:/Users/fjdurlop/Documents/upc/models/intel/C2/intel_model_c2_aug_dg_e1_13\n",
      "Model loaded correctly\n",
      "C:/Users/fjdurlop/Documents/upc/models/intel/C2/intel_model_c2_aug_dg_e1_14\n",
      "Model loaded correctly\n",
      "C:/Users/fjdurlop/Documents/upc/models/intel/C2/intel_model_c2_aug_dg_e1_15\n",
      "Model loaded correctly\n",
      "C:/Users/fjdurlop/Documents/upc/models/intel/C2/intel_model_c2_aug_dg_e1_16\n",
      "Model loaded correctly\n",
      "C:/Users/fjdurlop/Documents/upc/models/intel/C2/intel_model_c2_aug_dg_e1_17\n",
      "Model loaded correctly\n",
      "C:/Users/fjdurlop/Documents/upc/models/intel/C2/intel_model_c2_aug_dg_e1_18\n",
      "Model loaded correctly\n",
      "C:/Users/fjdurlop/Documents/upc/models/intel/C2/intel_model_c2_aug_dg_e1_19\n",
      "Model loaded correctly\n",
      "C:/Users/fjdurlop/Documents/upc/models/intel/C2/intel_model_c2_aug_dg_e1_20\n",
      "Model loaded correctly\n"
     ]
    }
   ],
   "source": [
    "loading = True\n",
    "\n",
    "models_dg = []\n",
    "\n",
    "if loading:\n",
    "    for i in range(num_models):\n",
    "        #model_dg_dir = \"D:/models/aug_22/gtsrb/C1/gtsrb_model_c1_aug_gn_e1_\"+str(i)\n",
    "        model_dg_dir = data_dir+\"/\"+dataset+\"/C2/\"+dataset+\"_model_c2_aug_dg_e1_\"+str(i)\n",
    "        \n",
    "        print(model_dg_dir)\n",
    "        model =utils.My_model(dataset,True,model_dg_dir)\n",
    "        model.model.compile(loss= 'categorical_crossentropy', optimizer = 'rmsprop', metrics = ['accuracy',tf.keras.metrics.Precision(), tf.keras.metrics.Recall()])\n",
    "        models_dg.append(model)\n",
    "       \n",
    "    "
   ]
  },
  {
   "cell_type": "code",
   "execution_count": 25,
   "id": "9301cc38",
   "metadata": {
    "scrolled": true
   },
   "outputs": [
    {
     "name": "stdout",
     "output_type": "stream",
     "text": [
      "C:/Users/fjdurlop/Documents/upc/models/intel/C2/intel_model_c2_aug_se_e1_0\n",
      "Model loaded correctly\n",
      "C:/Users/fjdurlop/Documents/upc/models/intel/C2/intel_model_c2_aug_se_e1_1\n",
      "Model loaded correctly\n",
      "C:/Users/fjdurlop/Documents/upc/models/intel/C2/intel_model_c2_aug_se_e1_2\n",
      "Model loaded correctly\n",
      "C:/Users/fjdurlop/Documents/upc/models/intel/C2/intel_model_c2_aug_se_e1_3\n",
      "Model loaded correctly\n",
      "C:/Users/fjdurlop/Documents/upc/models/intel/C2/intel_model_c2_aug_se_e1_4\n",
      "Model loaded correctly\n",
      "C:/Users/fjdurlop/Documents/upc/models/intel/C2/intel_model_c2_aug_se_e1_5\n",
      "Model loaded correctly\n",
      "C:/Users/fjdurlop/Documents/upc/models/intel/C2/intel_model_c2_aug_se_e1_6\n",
      "Model loaded correctly\n",
      "C:/Users/fjdurlop/Documents/upc/models/intel/C2/intel_model_c2_aug_se_e1_7\n",
      "Model loaded correctly\n",
      "C:/Users/fjdurlop/Documents/upc/models/intel/C2/intel_model_c2_aug_se_e1_8\n",
      "Model loaded correctly\n",
      "C:/Users/fjdurlop/Documents/upc/models/intel/C2/intel_model_c2_aug_se_e1_9\n",
      "Model loaded correctly\n",
      "C:/Users/fjdurlop/Documents/upc/models/intel/C2/intel_model_c2_aug_se_e1_10\n",
      "Model loaded correctly\n",
      "C:/Users/fjdurlop/Documents/upc/models/intel/C2/intel_model_c2_aug_se_e1_11\n",
      "Model loaded correctly\n",
      "C:/Users/fjdurlop/Documents/upc/models/intel/C2/intel_model_c2_aug_se_e1_12\n",
      "Model loaded correctly\n",
      "C:/Users/fjdurlop/Documents/upc/models/intel/C2/intel_model_c2_aug_se_e1_13\n",
      "Model loaded correctly\n",
      "C:/Users/fjdurlop/Documents/upc/models/intel/C2/intel_model_c2_aug_se_e1_14\n",
      "Model loaded correctly\n",
      "C:/Users/fjdurlop/Documents/upc/models/intel/C2/intel_model_c2_aug_se_e1_15\n",
      "Model loaded correctly\n",
      "C:/Users/fjdurlop/Documents/upc/models/intel/C2/intel_model_c2_aug_se_e1_16\n",
      "Model loaded correctly\n",
      "C:/Users/fjdurlop/Documents/upc/models/intel/C2/intel_model_c2_aug_se_e1_17\n",
      "Model loaded correctly\n",
      "C:/Users/fjdurlop/Documents/upc/models/intel/C2/intel_model_c2_aug_se_e1_18\n",
      "Model loaded correctly\n",
      "C:/Users/fjdurlop/Documents/upc/models/intel/C2/intel_model_c2_aug_se_e1_19\n",
      "Model loaded correctly\n",
      "C:/Users/fjdurlop/Documents/upc/models/intel/C2/intel_model_c2_aug_se_e1_20\n",
      "Model loaded correctly\n"
     ]
    }
   ],
   "source": [
    "loading = True\n",
    "\n",
    "models_se = []\n",
    "\n",
    "if loading:\n",
    "    for i in range(num_models):\n",
    "        \n",
    "        model_se_dir = data_dir+\"/\"+dataset+\"/C2/\"+dataset+\"_model_c2_aug_se_e1_\"+str(i)\n",
    "        \n",
    "        print(model_se_dir)\n",
    "        model =utils.My_model(dataset,True,model_se_dir)\n",
    "        model.model.compile(loss= 'categorical_crossentropy', optimizer = 'rmsprop', metrics = ['accuracy',tf.keras.metrics.Precision(), tf.keras.metrics.Recall()])\n",
    "        models_se.append(model)"
   ]
  },
  {
   "cell_type": "code",
   "execution_count": 26,
   "id": "eb1718e3",
   "metadata": {
    "scrolled": true
   },
   "outputs": [
    {
     "name": "stdout",
     "output_type": "stream",
     "text": [
      "C:/Users/fjdurlop/Documents/upc/models/intel/C2/intel_model_c2_aug_random_e1_0\n",
      "Model loaded correctly\n",
      "C:/Users/fjdurlop/Documents/upc/models/intel/C2/intel_model_c2_aug_random_e1_1\n",
      "Model loaded correctly\n",
      "C:/Users/fjdurlop/Documents/upc/models/intel/C2/intel_model_c2_aug_random_e1_2\n",
      "Model loaded correctly\n",
      "C:/Users/fjdurlop/Documents/upc/models/intel/C2/intel_model_c2_aug_random_e1_3\n",
      "Model loaded correctly\n",
      "C:/Users/fjdurlop/Documents/upc/models/intel/C2/intel_model_c2_aug_random_e1_4\n",
      "Model loaded correctly\n",
      "C:/Users/fjdurlop/Documents/upc/models/intel/C2/intel_model_c2_aug_random_e1_5\n",
      "Model loaded correctly\n",
      "C:/Users/fjdurlop/Documents/upc/models/intel/C2/intel_model_c2_aug_random_e1_6\n",
      "Model loaded correctly\n",
      "C:/Users/fjdurlop/Documents/upc/models/intel/C2/intel_model_c2_aug_random_e1_7\n",
      "Model loaded correctly\n",
      "C:/Users/fjdurlop/Documents/upc/models/intel/C2/intel_model_c2_aug_random_e1_8\n",
      "Model loaded correctly\n",
      "C:/Users/fjdurlop/Documents/upc/models/intel/C2/intel_model_c2_aug_random_e1_9\n",
      "Model loaded correctly\n",
      "C:/Users/fjdurlop/Documents/upc/models/intel/C2/intel_model_c2_aug_random_e1_10\n",
      "Model loaded correctly\n",
      "C:/Users/fjdurlop/Documents/upc/models/intel/C2/intel_model_c2_aug_random_e1_11\n",
      "Model loaded correctly\n",
      "C:/Users/fjdurlop/Documents/upc/models/intel/C2/intel_model_c2_aug_random_e1_12\n",
      "Model loaded correctly\n",
      "C:/Users/fjdurlop/Documents/upc/models/intel/C2/intel_model_c2_aug_random_e1_13\n",
      "Model loaded correctly\n",
      "C:/Users/fjdurlop/Documents/upc/models/intel/C2/intel_model_c2_aug_random_e1_14\n",
      "Model loaded correctly\n",
      "C:/Users/fjdurlop/Documents/upc/models/intel/C2/intel_model_c2_aug_random_e1_15\n",
      "Model loaded correctly\n",
      "C:/Users/fjdurlop/Documents/upc/models/intel/C2/intel_model_c2_aug_random_e1_16\n",
      "Model loaded correctly\n",
      "C:/Users/fjdurlop/Documents/upc/models/intel/C2/intel_model_c2_aug_random_e1_17\n",
      "Model loaded correctly\n",
      "C:/Users/fjdurlop/Documents/upc/models/intel/C2/intel_model_c2_aug_random_e1_18\n",
      "Model loaded correctly\n",
      "C:/Users/fjdurlop/Documents/upc/models/intel/C2/intel_model_c2_aug_random_e1_19\n",
      "Model loaded correctly\n",
      "C:/Users/fjdurlop/Documents/upc/models/intel/C2/intel_model_c2_aug_random_e1_20\n",
      "Model loaded correctly\n"
     ]
    }
   ],
   "source": [
    "loading = True\n",
    "\n",
    "models_random = []\n",
    "\n",
    "if loading:\n",
    "    for i in range(num_models):\n",
    "        #model_random_dir = \"D:/models/aug_22/gtsrb/C1/gtsrb_model_c1_aug_random_e1_\"+str(i)\n",
    "        model_random_dir = data_dir+\"/\"+dataset+\"/C2/\"+dataset+\"_model_c2_aug_random_e1_\"+str(i)\n",
    "        \n",
    "        print(model_random_dir)\n",
    "        model =utils.My_model(dataset,True,model_random_dir)\n",
    "        model.model.compile(loss= 'categorical_crossentropy', optimizer = 'rmsprop', metrics = ['accuracy',tf.keras.metrics.Precision(), tf.keras.metrics.Recall()])\n",
    "        models_random.append(model)\n",
    "       "
   ]
  },
  {
   "cell_type": "code",
   "execution_count": 27,
   "id": "b9860981",
   "metadata": {
    "scrolled": true
   },
   "outputs": [
    {
     "name": "stdout",
     "output_type": "stream",
     "text": [
      "C:/Users/fjdurlop/Documents/upc/models/intel/C2/intel_model_c2_aug_nc_e1_0\n",
      "Model loaded correctly\n",
      "C:/Users/fjdurlop/Documents/upc/models/intel/C2/intel_model_c2_aug_nc_e1_1\n",
      "Model loaded correctly\n",
      "C:/Users/fjdurlop/Documents/upc/models/intel/C2/intel_model_c2_aug_nc_e1_2\n",
      "Model loaded correctly\n",
      "C:/Users/fjdurlop/Documents/upc/models/intel/C2/intel_model_c2_aug_nc_e1_3\n",
      "Model loaded correctly\n",
      "C:/Users/fjdurlop/Documents/upc/models/intel/C2/intel_model_c2_aug_nc_e1_4\n",
      "Model loaded correctly\n",
      "C:/Users/fjdurlop/Documents/upc/models/intel/C2/intel_model_c2_aug_nc_e1_5\n",
      "Model loaded correctly\n",
      "C:/Users/fjdurlop/Documents/upc/models/intel/C2/intel_model_c2_aug_nc_e1_6\n",
      "Model loaded correctly\n",
      "C:/Users/fjdurlop/Documents/upc/models/intel/C2/intel_model_c2_aug_nc_e1_7\n",
      "Model loaded correctly\n",
      "C:/Users/fjdurlop/Documents/upc/models/intel/C2/intel_model_c2_aug_nc_e1_8\n",
      "Model loaded correctly\n",
      "C:/Users/fjdurlop/Documents/upc/models/intel/C2/intel_model_c2_aug_nc_e1_9\n",
      "Model loaded correctly\n",
      "C:/Users/fjdurlop/Documents/upc/models/intel/C2/intel_model_c2_aug_nc_e1_10\n",
      "Model loaded correctly\n",
      "C:/Users/fjdurlop/Documents/upc/models/intel/C2/intel_model_c2_aug_nc_e1_11\n",
      "Model loaded correctly\n",
      "C:/Users/fjdurlop/Documents/upc/models/intel/C2/intel_model_c2_aug_nc_e1_12\n",
      "Model loaded correctly\n",
      "C:/Users/fjdurlop/Documents/upc/models/intel/C2/intel_model_c2_aug_nc_e1_13\n",
      "Model loaded correctly\n",
      "C:/Users/fjdurlop/Documents/upc/models/intel/C2/intel_model_c2_aug_nc_e1_14\n",
      "Model loaded correctly\n",
      "C:/Users/fjdurlop/Documents/upc/models/intel/C2/intel_model_c2_aug_nc_e1_15\n",
      "Model loaded correctly\n",
      "C:/Users/fjdurlop/Documents/upc/models/intel/C2/intel_model_c2_aug_nc_e1_16\n",
      "Model loaded correctly\n",
      "C:/Users/fjdurlop/Documents/upc/models/intel/C2/intel_model_c2_aug_nc_e1_17\n",
      "Model loaded correctly\n",
      "C:/Users/fjdurlop/Documents/upc/models/intel/C2/intel_model_c2_aug_nc_e1_18\n",
      "Model loaded correctly\n",
      "C:/Users/fjdurlop/Documents/upc/models/intel/C2/intel_model_c2_aug_nc_e1_19\n",
      "Model loaded correctly\n",
      "C:/Users/fjdurlop/Documents/upc/models/intel/C2/intel_model_c2_aug_nc_e1_20\n",
      "Model loaded correctly\n"
     ]
    }
   ],
   "source": [
    "loading = True\n",
    "\n",
    "models_nc = []\n",
    "\n",
    "if loading:\n",
    "    for i in range(num_models):\n",
    "        #model_nc_dir = \"D:/models/aug_22/\"+dataset+\"/C1/\"+dataset+\"_model_c1_aug_nc_e1\"+str\n",
    "        model_nc_dir = data_dir+\"/\"+dataset+\"/C2/\"+dataset+\"_model_c2_aug_nc_e1_\"+str(i)\n",
    "        print(model_nc_dir)\n",
    "        model =utils.My_model(dataset,True,model_nc_dir)\n",
    "        model.model.compile(loss= 'categorical_crossentropy', optimizer = 'rmsprop', metrics = ['accuracy',tf.keras.metrics.Precision(), tf.keras.metrics.Recall()])\n",
    "        models_nc.append(model)"
   ]
  },
  {
   "cell_type": "markdown",
   "id": "e02952dc",
   "metadata": {},
   "source": [
    "## Evaluating"
   ]
  },
  {
   "cell_type": "code",
   "execution_count": 15,
   "id": "cbc59f41",
   "metadata": {},
   "outputs": [],
   "source": [
    "model_original.model.compile(loss= 'categorical_crossentropy', optimizer = 'rmsprop', metrics = ['accuracy',tf.keras.metrics.Precision(), tf.keras.metrics.Recall()])"
   ]
  },
  {
   "cell_type": "code",
   "execution_count": 16,
   "id": "6fd7c127",
   "metadata": {},
   "outputs": [
    {
     "name": "stdout",
     "output_type": "stream",
     "text": [
      "188/188 [==============================] - 69s 47ms/step - loss: 0.5711 - accuracy: 0.8017 - precision_21: 0.8554 - recall_21: 0.7891\n"
     ]
    },
    {
     "data": {
      "text/plain": [
       "[0.9981359839439392, 0.687166690826416, 0.8330450654029846, 0.7658698558807373]"
      ]
     },
     "execution_count": 16,
     "metadata": {},
     "output_type": "execute_result"
    }
   ],
   "source": [
    "model_original.evaluate(x_test_and_adversary,y_test_and_adversary)\n"
   ]
  },
  {
   "cell_type": "code",
   "execution_count": 17,
   "id": "896eb89c",
   "metadata": {},
   "outputs": [
    {
     "name": "stdout",
     "output_type": "stream",
     "text": [
      "188/188 [==============================] - 9s 49ms/step - loss: 0.9981 - accuracy: 0.6872 - precision_21: 0.7535 - recall_21: 0.6806\n"
     ]
    }
   ],
   "source": [
    "evaluate_dsa = []\n",
    "evaluate_dsa.append(model_original.evaluate(x_test_and_adversary,y_test_and_adversary))\n"
   ]
  },
  {
   "cell_type": "code",
   "execution_count": 18,
   "id": "f0fa2d76",
   "metadata": {},
   "outputs": [
    {
     "name": "stdout",
     "output_type": "stream",
     "text": [
      "Evaluating for dsa\n",
      "188/188 [==============================] - 18s 47ms/step - loss: 0.9695 - accuracy: 0.6782 - precision: 0.7706 - recall: 0.6472\n",
      "188/188 [==============================] - 16s 47ms/step - loss: 0.9215 - accuracy: 0.6655 - precision_1: 0.7158 - recall_1: 0.5554\n",
      "188/188 [==============================] - 17s 47ms/step - loss: 0.8421 - accuracy: 0.7172 - precision_2: 0.7331 - recall_2: 0.6266\n",
      "188/188 [==============================] - 18s 47ms/step - loss: 0.7666 - accuracy: 0.7346 - precision_3: 0.7714 - recall_3: 0.6243\n",
      "188/188 [==============================] - 16s 47ms/step - loss: 0.9039 - accuracy: 0.7329 - precision_4: 0.7577 - recall_4: 0.7093\n",
      "188/188 [==============================] - 16s 45ms/step - loss: 0.8846 - accuracy: 0.7235 - precision_5: 0.7427 - recall_5: 0.6852\n",
      "188/188 [==============================] - 17s 53ms/step - loss: 0.9392 - accuracy: 0.6918 - precision_6: 0.7140 - recall_6: 0.6650\n",
      "188/188 [==============================] - 21s 49ms/step - loss: 0.7299 - accuracy: 0.7599 - precision_7: 0.7815 - recall_7: 0.7186\n",
      "188/188 [==============================] - 17s 45ms/step - loss: 0.6655 - accuracy: 0.7803 - precision_8: 0.8336 - recall_8: 0.7701\n",
      "188/188 [==============================] - 17s 48ms/step - loss: 0.6486 - accuracy: 0.7953 - precision_9: 0.8588 - recall_9: 0.8225\n",
      "188/188 [==============================] - 18s 50ms/step - loss: 0.7334 - accuracy: 0.7755 - precision_10: 0.8611 - recall_10: 0.8298\n",
      "188/188 [==============================] - 17s 48ms/step - loss: 0.7891 - accuracy: 0.7399 - precision_11: 0.7829 - recall_11: 0.6554\n",
      "188/188 [==============================] - 19s 48ms/step - loss: 0.6469 - accuracy: 0.7823 - precision_12: 0.8535 - recall_12: 0.7544\n",
      "188/188 [==============================] - 17s 47ms/step - loss: 0.6276 - accuracy: 0.7886 - precision_13: 0.8506 - recall_13: 0.8070\n",
      "188/188 [==============================] - 18s 49ms/step - loss: 0.8699 - accuracy: 0.7291 - precision_14: 0.7510 - recall_14: 0.7045\n",
      "188/188 [==============================] - 14s 44ms/step - loss: 0.7510 - accuracy: 0.7522 - precision_15: 0.7769 - recall_15: 0.7044\n",
      "188/188 [==============================] - 15s 44ms/step - loss: 0.6158 - accuracy: 0.7841 - precision_16: 0.8266 - recall_16: 0.7568\n",
      "188/188 [==============================] - 15s 44ms/step - loss: 0.7752 - accuracy: 0.7544 - precision_17: 0.7792 - recall_17: 0.7186\n",
      "188/188 [==============================] - 15s 44ms/step - loss: 0.6958 - accuracy: 0.7906 - precision_18: 0.8147 - recall_18: 0.7856\n",
      "188/188 [==============================] - 15s 44ms/step - loss: 0.7355 - accuracy: 0.7617 - precision_19: 0.7818 - recall_19: 0.7219\n",
      "188/188 [==============================] - 15s 45ms/step - loss: 0.6771 - accuracy: 0.7576 - precision_20: 0.8392 - recall_20: 0.7066\n"
     ]
    }
   ],
   "source": [
    "print(\"Evaluating for dsa\")\n",
    "for model in models_dsa:\n",
    "    evaluate_dsa.append(model.evaluate(x_test_and_adversary,y_test_and_adversary))"
   ]
  },
  {
   "cell_type": "code",
   "execution_count": 31,
   "id": "286ee29c",
   "metadata": {},
   "outputs": [
    {
     "name": "stdout",
     "output_type": "stream",
     "text": [
      "188/188 [==============================] - 3s 15ms/step - loss: 0.9981 - accuracy: 0.6872 - precision_147: 0.7535 - recall_147: 0.6806\n",
      "188/188 [==============================] - 5s 29ms/step - loss: 0.9981 - accuracy: 0.6872 - precision_147: 0.7415 - recall_147: 0.6680\n",
      "188/188 [==============================] - 5s 28ms/step - loss: 0.9981 - accuracy: 0.6872 - precision_147: 0.7363 - recall_147: 0.6626\n",
      "188/188 [==============================] - 5s 27ms/step - loss: 0.9981 - accuracy: 0.6872 - precision_147: 0.7334 - recall_147: 0.6596\n",
      "188/188 [==============================] - 5s 27ms/step - loss: 0.9981 - accuracy: 0.6872 - precision_147: 0.7316 - recall_147: 0.6576\n",
      "188/188 [==============================] - 5s 28ms/step - loss: 0.9981 - accuracy: 0.6872 - precision_147: 0.7303 - recall_147: 0.6563\n"
     ]
    }
   ],
   "source": [
    "evaluate_lsa = []\n",
    "evaluate_dsa = []\n",
    "evaluate_dg = []\n",
    "evaluate_se = []\n",
    "evaluate_nc = []\n",
    "evaluate_random = []\n",
    "\n",
    "#c2\n",
    "evaluate_lsa.append(model_original.evaluate(x_test_and_adversary,y_test_and_adversary))\n",
    "evaluate_dsa.append(model_original.evaluate(x_test_and_adversary,y_test_and_adversary))\n",
    "evaluate_dg.append(model_original.evaluate(x_test_and_adversary,y_test_and_adversary))\n",
    "evaluate_se.append(model_original.evaluate(x_test_and_adversary,y_test_and_adversary))\n",
    "evaluate_nc.append(model_original.evaluate(x_test_and_adversary,y_test_and_adversary))\n",
    "evaluate_random.append(model_original.evaluate(x_test_and_adversary,y_test_and_adversary))"
   ]
  },
  {
   "cell_type": "code",
   "execution_count": 32,
   "id": "30633373",
   "metadata": {
    "scrolled": true
   },
   "outputs": [
    {
     "name": "stdout",
     "output_type": "stream",
     "text": [
      "Evaluating for lsa\n",
      "188/188 [==============================] - 4s 15ms/step - loss: 0.8863 - accuracy: 0.7040 - precision_21: 0.7553 - recall_21: 0.6343\n",
      "188/188 [==============================] - 7s 27ms/step - loss: 0.9360 - accuracy: 0.6650 - precision_22: 0.7299 - recall_22: 0.5950\n",
      "188/188 [==============================] - 7s 29ms/step - loss: 0.8330 - accuracy: 0.7064 - precision_23: 0.7658 - recall_23: 0.6655\n",
      "188/188 [==============================] - 7s 27ms/step - loss: 0.7724 - accuracy: 0.7134 - precision_24: 0.8341 - recall_24: 0.7273\n",
      "188/188 [==============================] - 7s 27ms/step - loss: 0.9039 - accuracy: 0.7014 - precision_25: 0.8069 - recall_25: 0.7532\n",
      "188/188 [==============================] - 7s 26ms/step - loss: 0.7224 - accuracy: 0.7322 - precision_26: 0.8099 - recall_26: 0.7170\n",
      "188/188 [==============================] - 6s 25ms/step - loss: 0.9381 - accuracy: 0.6913 - precision_27: 0.7583 - recall_27: 0.7097\n",
      "188/188 [==============================] - 7s 26ms/step - loss: 0.8213 - accuracy: 0.7331 - precision_28: 0.7996 - recall_28: 0.7397\n",
      "188/188 [==============================] - 6s 25ms/step - loss: 0.6737 - accuracy: 0.7583 - precision_29: 0.8316 - recall_29: 0.7475\n",
      "188/188 [==============================] - 7s 26ms/step - loss: 0.6879 - accuracy: 0.7498 - precision_30: 0.8225 - recall_30: 0.7251\n",
      "188/188 [==============================] - 6s 25ms/step - loss: 1.1289 - accuracy: 0.6323 - precision_31: 0.6657 - recall_31: 0.5920\n",
      "188/188 [==============================] - 8s 26ms/step - loss: 0.6918 - accuracy: 0.7484 - precision_32: 0.7868 - recall_32: 0.7089\n",
      "188/188 [==============================] - 6s 25ms/step - loss: 1.4284 - accuracy: 0.6379 - precision_33: 0.6570 - recall_33: 0.6154\n",
      "188/188 [==============================] - 7s 27ms/step - loss: 0.8277 - accuracy: 0.7540 - precision_34: 0.7719 - recall_34: 0.7256\n",
      "188/188 [==============================] - 7s 25ms/step - loss: 0.7392 - accuracy: 0.7599 - precision_35: 0.7791 - recall_35: 0.7078\n",
      "188/188 [==============================] - 6s 24ms/step - loss: 0.7910 - accuracy: 0.7508 - precision_36: 0.8279 - recall_36: 0.7679\n",
      "188/188 [==============================] - 6s 24ms/step - loss: 0.6574 - accuracy: 0.7794 - precision_37: 0.8085 - recall_37: 0.7398\n",
      "188/188 [==============================] - 6s 25ms/step - loss: 0.6912 - accuracy: 0.7708 - precision_38: 0.7957 - recall_38: 0.7459\n",
      "188/188 [==============================] - 6s 25ms/step - loss: 0.6546 - accuracy: 0.7955 - precision_39: 0.8198 - recall_39: 0.7815\n",
      "188/188 [==============================] - 8s 27ms/step - loss: 0.6232 - accuracy: 0.7964 - precision_40: 0.8164 - recall_40: 0.7663\n",
      "188/188 [==============================] - 6s 25ms/step - loss: 0.7804 - accuracy: 0.7272 - precision_41: 0.7409 - recall_41: 0.6092\n",
      "Evaluating for dsa\n",
      "188/188 [==============================] - 6s 25ms/step - loss: 0.9695 - accuracy: 0.6782 - precision_42: 0.7706 - recall_42: 0.6472\n",
      "188/188 [==============================] - 6s 24ms/step - loss: 0.9215 - accuracy: 0.6655 - precision_43: 0.7158 - recall_43: 0.5554\n",
      "188/188 [==============================] - 6s 24ms/step - loss: 0.8421 - accuracy: 0.7172 - precision_44: 0.7331 - recall_44: 0.6266\n",
      "188/188 [==============================] - 6s 24ms/step - loss: 0.7666 - accuracy: 0.7346 - precision_45: 0.7714 - recall_45: 0.6243\n",
      "188/188 [==============================] - 6s 24ms/step - loss: 0.9039 - accuracy: 0.7329 - precision_46: 0.7577 - recall_46: 0.7093\n",
      "188/188 [==============================] - 6s 24ms/step - loss: 0.8846 - accuracy: 0.7235 - precision_47: 0.7427 - recall_47: 0.6852\n",
      "188/188 [==============================] - 6s 24ms/step - loss: 0.9392 - accuracy: 0.6918 - precision_48: 0.7140 - recall_48: 0.6650\n",
      "188/188 [==============================] - 6s 24ms/step - loss: 0.7299 - accuracy: 0.7599 - precision_49: 0.7815 - recall_49: 0.7186\n",
      "188/188 [==============================] - 6s 24ms/step - loss: 0.6655 - accuracy: 0.7803 - precision_50: 0.8336 - recall_50: 0.7701\n",
      "188/188 [==============================] - 6s 24ms/step - loss: 0.6486 - accuracy: 0.7953 - precision_51: 0.8588 - recall_51: 0.8225\n",
      "188/188 [==============================] - 6s 24ms/step - loss: 0.7334 - accuracy: 0.7755 - precision_52: 0.8611 - recall_52: 0.8298\n",
      "188/188 [==============================] - 6s 24ms/step - loss: 0.7891 - accuracy: 0.7399 - precision_53: 0.7829 - recall_53: 0.6554\n",
      "188/188 [==============================] - 6s 25ms/step - loss: 0.6469 - accuracy: 0.7823 - precision_54: 0.8535 - recall_54: 0.7544\n",
      "188/188 [==============================] - 6s 24ms/step - loss: 0.6276 - accuracy: 0.7886 - precision_55: 0.8506 - recall_55: 0.8070\n",
      "188/188 [==============================] - 6s 24ms/step - loss: 0.8699 - accuracy: 0.7291 - precision_56: 0.7510 - recall_56: 0.7045\n",
      "188/188 [==============================] - 6s 24ms/step - loss: 0.7510 - accuracy: 0.7522 - precision_57: 0.7769 - recall_57: 0.7044\n",
      "188/188 [==============================] - 6s 24ms/step - loss: 0.6158 - accuracy: 0.7841 - precision_58: 0.8266 - recall_58: 0.7568\n",
      "188/188 [==============================] - 6s 24ms/step - loss: 0.7752 - accuracy: 0.7544 - precision_59: 0.7792 - recall_59: 0.7186\n",
      "188/188 [==============================] - 6s 24ms/step - loss: 0.6958 - accuracy: 0.7906 - precision_60: 0.8147 - recall_60: 0.7856: 2s - loss: 0.6599 - accuracy: \n",
      "188/188 [==============================] - 6s 24ms/step - loss: 0.7355 - accuracy: 0.7617 - precision_61: 0.7818 - recall_61: 0.7219\n",
      "188/188 [==============================] - 6s 24ms/step - loss: 1.3583 - accuracy: 0.5709 - precision_62: 0.7021 - recall_62: 0.6620\n",
      "Evaluating for random\n",
      "188/188 [==============================] - 6s 24ms/step - loss: 0.8464 - accuracy: 0.7662 - precision_105: 0.8073 - recall_105: 0.7706\n",
      "188/188 [==============================] - 6s 24ms/step - loss: 0.7272 - accuracy: 0.7877 - precision_106: 0.8146 - recall_106: 0.7765: 0s - loss: 0.6914 - accuracy: 0.7979 - precision_106: 0.8145 - re\n",
      "188/188 [==============================] - 6s 24ms/step - loss: 0.7579 - accuracy: 0.7695 - precision_107: 0.7961 - recall_107: 0.7415\n",
      "188/188 [==============================] - 6s 24ms/step - loss: 0.7943 - accuracy: 0.7562 - precision_108: 0.7696 - recall_108: 0.7102\n",
      "188/188 [==============================] - 6s 24ms/step - loss: 1.0602 - accuracy: 0.6934 - precision_109: 0.6911 - recall_109: 0.6286\n",
      "188/188 [==============================] - 6s 24ms/step - loss: 0.6780 - accuracy: 0.7841 - precision_110: 0.8230 - recall_110: 0.7560\n",
      "188/188 [==============================] - 6s 24ms/step - loss: 0.7769 - accuracy: 0.7559 - precision_111: 0.7776 - recall_111: 0.7007\n",
      "188/188 [==============================] - 6s 24ms/step - loss: 0.6972 - accuracy: 0.7896 - precision_112: 0.8258 - recall_112: 0.7856\n",
      "188/188 [==============================] - 6s 24ms/step - loss: 0.9152 - accuracy: 0.7123 - precision_113: 0.7143 - recall_113: 0.6670\n",
      "188/188 [==============================] - 6s 24ms/step - loss: 0.7764 - accuracy: 0.7632 - precision_114: 0.7925 - recall_114: 0.7362\n",
      "188/188 [==============================] - 6s 24ms/step - loss: 0.8347 - accuracy: 0.7433 - precision_115: 0.7703 - recall_115: 0.6941\n",
      "188/188 [==============================] - 6s 24ms/step - loss: 0.6109 - accuracy: 0.8107 - precision_116: 0.8660 - recall_116: 0.8315\n",
      "188/188 [==============================] - 6s 24ms/step - loss: 0.7446 - accuracy: 0.7402 - precision_117: 0.7410 - recall_117: 0.6498\n",
      "188/188 [==============================] - 6s 24ms/step - loss: 0.7470 - accuracy: 0.7748 - precision_118: 0.7670 - recall_118: 0.7227\n",
      "188/188 [==============================] - 6s 24ms/step - loss: 0.6874 - accuracy: 0.7822 - precision_119: 0.8814 - recall_119: 0.8150\n",
      "188/188 [==============================] - 6s 24ms/step - loss: 0.6672 - accuracy: 0.7843 - precision_120: 0.8046 - recall_120: 0.7486\n",
      "188/188 [==============================] - 6s 26ms/step - loss: 0.5854 - accuracy: 0.8058 - precision_121: 0.8378 - recall_121: 0.7929\n",
      "188/188 [==============================] - 7s 24ms/step - loss: 0.6685 - accuracy: 0.7791 - precision_122: 0.7902 - recall_122: 0.7231\n",
      "188/188 [==============================] - 6s 24ms/step - loss: 0.6930 - accuracy: 0.7637 - precision_123: 0.7961 - recall_123: 0.6723\n",
      "188/188 [==============================] - 6s 23ms/step - loss: 0.6326 - accuracy: 0.7976 - precision_124: 0.8189 - recall_124: 0.7568\n",
      "188/188 [==============================] - 6s 24ms/step - loss: 0.7424 - accuracy: 0.7419 - precision_125: 0.7859 - recall_125: 0.6981\n",
      "Evaluating for nc\n",
      "188/188 [==============================] - 6s 24ms/step - loss: 1.0809 - accuracy: 0.7386 - precision_126: 0.7493 - recall_126: 0.7238\n",
      "188/188 [==============================] - 6s 24ms/step - loss: 0.9888 - accuracy: 0.7841 - precision_127: 0.8340 - recall_127: 0.8118\n",
      "188/188 [==============================] - 6s 24ms/step - loss: 0.9380 - accuracy: 0.7781 - precision_128: 0.8228 - recall_128: 0.8011\n",
      "188/188 [==============================] - 6s 24ms/step - loss: 1.2144 - accuracy: 0.7385 - precision_129: 0.7721 - recall_129: 0.7375\n",
      "188/188 [==============================] - 6s 25ms/step - loss: 1.1929 - accuracy: 0.7216 - precision_130: 0.7174 - recall_130: 0.6696\n",
      "188/188 [==============================] - 6s 25ms/step - loss: 1.0609 - accuracy: 0.7448 - precision_131: 0.7770 - recall_131: 0.7340: 0s - loss: 1.0479 - accuracy: 0.7480 - precision_131: 0.7774 - recall_131: 0.7\n",
      "188/188 [==============================] - 6s 24ms/step - loss: 1.0108 - accuracy: 0.7835 - precision_132: 0.8183 - recall_132: 0.7864\n",
      "188/188 [==============================] - 6s 24ms/step - loss: 0.9064 - accuracy: 0.7659 - precision_133: 0.7968 - recall_133: 0.7409\n",
      "188/188 [==============================] - 6s 24ms/step - loss: 1.2932 - accuracy: 0.7337 - precision_134: 0.7962 - recall_134: 0.7777\n",
      "188/188 [==============================] - 6s 24ms/step - loss: 0.7980 - accuracy: 0.7846 - precision_135: 0.8425 - recall_135: 0.7953\n",
      "188/188 [==============================] - 6s 24ms/step - loss: 1.2036 - accuracy: 0.7224 - precision_136: 0.8273 - recall_136: 0.7852\n",
      "188/188 [==============================] - 6s 24ms/step - loss: 0.8215 - accuracy: 0.8007 - precision_137: 0.8404 - recall_137: 0.8103\n",
      "188/188 [==============================] - 6s 24ms/step - loss: 1.1344 - accuracy: 0.7067 - precision_138: 0.7496 - recall_138: 0.6745\n",
      "188/188 [==============================] - 6s 24ms/step - loss: 0.7075 - accuracy: 0.8012 - precision_139: 0.8567 - recall_139: 0.8109\n",
      "188/188 [==============================] - 6s 24ms/step - loss: 1.1021 - accuracy: 0.6687 - precision_140: 0.6916 - recall_140: 0.5773\n",
      "188/188 [==============================] - 6s 24ms/step - loss: 0.7559 - accuracy: 0.7751 - precision_141: 0.8187 - recall_141: 0.7630\n",
      "188/188 [==============================] - 6s 24ms/step - loss: 0.7483 - accuracy: 0.7522 - precision_142: 0.7570 - recall_142: 0.6774\n",
      "188/188 [==============================] - 6s 24ms/step - loss: 0.7274 - accuracy: 0.7964 - precision_143: 0.8136 - recall_143: 0.7856\n",
      "188/188 [==============================] - 6s 24ms/step - loss: 0.6659 - accuracy: 0.7870 - precision_144: 0.8096 - recall_144: 0.7557\n",
      "188/188 [==============================] - 6s 24ms/step - loss: 0.7186 - accuracy: 0.7782 - precision_145: 0.8082 - recall_145: 0.7654\n",
      "188/188 [==============================] - 8s 24ms/step - loss: 0.6496 - accuracy: 0.7731 - precision_146: 0.8235 - recall_146: 0.7371\n"
     ]
    }
   ],
   "source": [
    "# Metrics using adversarial test\n",
    "\n",
    "#evaluate_lsa.append(model_original.evaluate(x_test_and_adversary,y_test_and_adversary))\n",
    "#evaluate_dsa.append(model_original.evaluate(x_test_and_adversary,y_test_and_adversary))\n",
    "#evaluate_nc.append(model_original.evaluate(x_test_and_adversary,y_test_and_adversary))\n",
    "#evaluate_random.append(model_original.evaluate(x_test_and_adversary,y_test_and_adversary))\n",
    "print(\"Evaluating for lsa\")\n",
    "for model in models_lsa:\n",
    "    evaluate_lsa.append(model.evaluate(x_test_and_adversary,y_test_and_adversary))\n",
    "    \n",
    "print(\"Evaluating for dsa\")\n",
    "for model in models_dsa:\n",
    "    evaluate_dsa.append(model.evaluate(x_test_and_adversary,y_test_and_adversary))\n",
    "print(\"Evaluating for random\")\n",
    "for model in models_random:\n",
    "    evaluate_random.append(model.evaluate(x_test_and_adversary,y_test_and_adversary))\n",
    "print(\"Evaluating for nc\")\n",
    "for model in models_nc:\n",
    "    evaluate_nc.append(model.evaluate(x_test_and_adversary,y_test_and_adversary))"
   ]
  },
  {
   "cell_type": "code",
   "execution_count": 33,
   "id": "ae3df5fe",
   "metadata": {
    "scrolled": true
   },
   "outputs": [
    {
     "name": "stdout",
     "output_type": "stream",
     "text": [
      "Evaluating for dg\n",
      "188/188 [==============================] - 3s 13ms/step - loss: 0.8622 - accuracy: 0.7269 - precision_63: 0.7659 - recall_63: 0.6647\n",
      "188/188 [==============================] - 4s 13ms/step - loss: 0.7973 - accuracy: 0.7497 - precision_64: 0.7761 - recall_64: 0.7268: 0s - loss: 0.7597 - accuracy: 0.7596 - precision_64: 0.7756 \n",
      "188/188 [==============================] - 5s 21ms/step - loss: 0.6919 - accuracy: 0.7609 - precision_65: 0.8091 - recall_65: 0.7616\n",
      "188/188 [==============================] - 6s 23ms/step - loss: 0.7015 - accuracy: 0.7702 - precision_66: 0.7973 - recall_66: 0.7335\n",
      "188/188 [==============================] - 6s 22ms/step - loss: 0.8426 - accuracy: 0.6955 - precision_67: 0.6935 - recall_67: 0.6293\n",
      "188/188 [==============================] - 5s 20ms/step - loss: 0.8150 - accuracy: 0.7302 - precision_68: 0.7483 - recall_68: 0.6963: 1s - loss: 0.8549 - accuracy: 0.7181 - pr\n",
      "188/188 [==============================] - 5s 20ms/step - loss: 0.6524 - accuracy: 0.7682 - precision_69: 0.8307 - recall_69: 0.7396\n",
      "188/188 [==============================] - 5s 21ms/step - loss: 0.7673 - accuracy: 0.7402 - precision_70: 0.8081 - recall_70: 0.7653\n",
      "188/188 [==============================] - 5s 21ms/step - loss: 0.6646 - accuracy: 0.7546 - precision_71: 0.8366 - recall_71: 0.7644\n",
      "188/188 [==============================] - 5s 20ms/step - loss: 0.6641 - accuracy: 0.7572 - precision_72: 0.7923 - recall_72: 0.7136\n",
      "188/188 [==============================] - 5s 20ms/step - loss: 0.6429 - accuracy: 0.7900 - precision_73: 0.8126 - recall_73: 0.7618\n",
      "188/188 [==============================] - 5s 21ms/step - loss: 0.6348 - accuracy: 0.7842 - precision_74: 0.8007 - recall_74: 0.7410\n",
      "188/188 [==============================] - 5s 21ms/step - loss: 1.1407 - accuracy: 0.6683 - precision_75: 0.7146 - recall_75: 0.6730\n",
      "188/188 [==============================] - 5s 20ms/step - loss: 0.7368 - accuracy: 0.7506 - precision_76: 0.7352 - recall_76: 0.6772\n",
      "188/188 [==============================] - 5s 20ms/step - loss: 0.8814 - accuracy: 0.7303 - precision_77: 0.7608 - recall_77: 0.7093\n",
      "188/188 [==============================] - 5s 20ms/step - loss: 0.7157 - accuracy: 0.7593 - precision_78: 0.7585 - recall_78: 0.6868\n",
      "188/188 [==============================] - 5s 20ms/step - loss: 0.6595 - accuracy: 0.7733 - precision_79: 0.7958 - recall_79: 0.7182\n",
      "188/188 [==============================] - 5s 20ms/step - loss: 0.7358 - accuracy: 0.7736 - precision_80: 0.8053 - recall_80: 0.7456\n",
      "188/188 [==============================] - 5s 19ms/step - loss: 0.6259 - accuracy: 0.7942 - precision_81: 0.8142 - recall_81: 0.7587\n",
      "188/188 [==============================] - 5s 20ms/step - loss: 0.6241 - accuracy: 0.7939 - precision_82: 0.8366 - recall_82: 0.7881\n",
      "188/188 [==============================] - 5s 20ms/step - loss: 0.6425 - accuracy: 0.7771 - precision_83: 0.8048 - recall_83: 0.7439\n",
      "Evaluating for se\n",
      "188/188 [==============================] - 5s 20ms/step - loss: 0.7825 - accuracy: 0.7656 - precision_84: 0.8272 - recall_84: 0.7644\n",
      "188/188 [==============================] - 6s 21ms/step - loss: 0.6984 - accuracy: 0.7697 - precision_85: 0.7995 - recall_85: 0.7407\n",
      "188/188 [==============================] - 5s 20ms/step - loss: 0.7628 - accuracy: 0.7380 - precision_86: 0.7419 - recall_86: 0.6871\n",
      "188/188 [==============================] - 5s 20ms/step - loss: 0.9080 - accuracy: 0.6824 - precision_87: 0.6967 - recall_87: 0.5876\n",
      "188/188 [==============================] - 7s 26ms/step - loss: 0.7324 - accuracy: 0.7434 - precision_88: 0.7827 - recall_88: 0.6541\n",
      "188/188 [==============================] - 5s 21ms/step - loss: 0.7489 - accuracy: 0.7306 - precision_89: 0.7517 - recall_89: 0.6460\n",
      "188/188 [==============================] - 6s 21ms/step - loss: 0.6730 - accuracy: 0.7728 - precision_90: 0.7995 - recall_90: 0.7327\n",
      "188/188 [==============================] - 6s 23ms/step - loss: 0.6887 - accuracy: 0.7440 - precision_91: 0.7590 - recall_91: 0.6629\n",
      "188/188 [==============================] - 6s 22ms/step - loss: 0.8504 - accuracy: 0.7056 - precision_92: 0.7136 - recall_92: 0.5866\n",
      "188/188 [==============================] - 6s 23ms/step - loss: 0.5915 - accuracy: 0.7955 - precision_93: 0.8477 - recall_93: 0.7754\n",
      "188/188 [==============================] - 7s 26ms/step - loss: 0.7249 - accuracy: 0.7339 - precision_94: 0.7771 - recall_94: 0.6931\n",
      "188/188 [==============================] - 6s 23ms/step - loss: 0.6728 - accuracy: 0.7597 - precision_95: 0.7755 - recall_95: 0.7004\n",
      "188/188 [==============================] - 7s 27ms/step - loss: 0.7584 - accuracy: 0.7938 - precision_96: 0.8194 - recall_96: 0.7987\n",
      "188/188 [==============================] - 7s 29ms/step - loss: 0.6389 - accuracy: 0.7959 - precision_97: 0.8208 - recall_97: 0.7895\n",
      "188/188 [==============================] - 7s 29ms/step - loss: 0.6201 - accuracy: 0.8096 - precision_98: 0.8318 - recall_98: 0.7942: 0s - loss: 0.6088 - accuracy: 0.8128 - precision_98: 0.8319 - recall_98: 0\n",
      "188/188 [==============================] - 7s 25ms/step - loss: 0.6674 - accuracy: 0.7619 - precision_99: 0.7801 - recall_99: 0.7268\n",
      "188/188 [==============================] - 6s 23ms/step - loss: 0.5849 - accuracy: 0.8094 - precision_100: 0.8614 - recall_100: 0.8208\n",
      "188/188 [==============================] - 5s 21ms/step - loss: 0.5605 - accuracy: 0.8150 - precision_101: 0.8805 - recall_101: 0.8286\n",
      "188/188 [==============================] - 5s 21ms/step - loss: 0.7026 - accuracy: 0.7839 - precision_102: 0.7829 - recall_102: 0.7386\n",
      "188/188 [==============================] - 5s 21ms/step - loss: 0.7288 - accuracy: 0.7458 - precision_103: 0.7807 - recall_103: 0.7163\n",
      "188/188 [==============================] - 5s 21ms/step - loss: 0.8742 - accuracy: 0.6797 - precision_104: 0.7237 - recall_104: 0.6129\n"
     ]
    }
   ],
   "source": [
    "print(\"Evaluating for dg\")\n",
    "for model in models_dg:\n",
    "    evaluate_dg.append(model.evaluate(x_test_and_adversary,y_test_and_adversary))\n",
    "    \n",
    "print(\"Evaluating for se\")\n",
    "for model in models_se:\n",
    "    evaluate_se.append(model.evaluate(x_test_and_adversary,y_test_and_adversary))\n"
   ]
  },
  {
   "cell_type": "code",
   "execution_count": 34,
   "id": "2141a097",
   "metadata": {},
   "outputs": [
    {
     "data": {
      "text/plain": [
       "22"
      ]
     },
     "execution_count": 34,
     "metadata": {},
     "output_type": "execute_result"
    }
   ],
   "source": [
    "len(evaluate_dg)"
   ]
  },
  {
   "cell_type": "code",
   "execution_count": null,
   "id": "078f3e93",
   "metadata": {},
   "outputs": [],
   "source": [
    "#evaluate_lsa.append(models_lsa[20].evaluate(x_test_and_adversary,y_test_and_adversary))\n",
    "#evaluate_dsa.append(models_dsa[20].evaluate(x_test_and_adversary,y_test_and_adversary))\n",
    "#evaluate_dg.append(models_dg[20].evaluate(x_test_and_adversary,y_test_and_adversary))\n",
    "#evaluate_se.append(models_se[20].evaluate(x_test_and_adversary,y_test_and_adversary))\n",
    "#evaluate_random.append(models_random[20].evaluate(x_test_and_adversary,y_test_and_adversary))\n",
    "#evaluate_nc.append(models_nc[20].evaluate(x_test_and_adversary,y_test_and_adversary))\n"
   ]
  },
  {
   "cell_type": "code",
   "execution_count": 35,
   "id": "e48d1822",
   "metadata": {},
   "outputs": [
    {
     "data": {
      "text/plain": [
       "22"
      ]
     },
     "execution_count": 35,
     "metadata": {},
     "output_type": "execute_result"
    }
   ],
   "source": [
    "len(evaluate_nc)"
   ]
  },
  {
   "cell_type": "code",
   "execution_count": 19,
   "id": "cc37b272",
   "metadata": {},
   "outputs": [],
   "source": [
    "import pandas as pd\n",
    "df_evaluate_dsa = pd.DataFrame(np.array(evaluate_dsa),columns=[\"loss\",\"accuracy\",\"precision\",\"recall\"])\n"
   ]
  },
  {
   "cell_type": "code",
   "execution_count": 36,
   "id": "ba831e22",
   "metadata": {},
   "outputs": [],
   "source": [
    "import pandas as pd\n",
    "\n",
    "df_evaluate_lsa = pd.DataFrame(np.array(evaluate_lsa),columns=[\"loss\",\"accuracy\",\"precision\",\"recall\"])\n",
    "df_evaluate_dsa = pd.DataFrame(np.array(evaluate_dsa),columns=[\"loss\",\"accuracy\",\"precision\",\"recall\"])\n",
    "df_evaluate_dg = pd.DataFrame(np.array(evaluate_dg),columns=[\"loss\",\"accuracy\",\"precision\",\"recall\"])\n",
    "df_evaluate_se = pd.DataFrame(np.array(evaluate_se),columns=[\"loss\",\"accuracy\",\"precision\",\"recall\"])\n",
    "\n",
    "df_evaluate_random = pd.DataFrame(np.array(evaluate_random),columns=[\"loss\",\"accuracy\",\"precision\",\"recall\"])\n",
    "df_evaluate_nc = pd.DataFrame(np.array(evaluate_nc),columns=[\"loss\",\"accuracy\",\"precision\",\"recall\"])\n"
   ]
  },
  {
   "cell_type": "code",
   "execution_count": 15,
   "id": "d5eae8d4",
   "metadata": {},
   "outputs": [],
   "source": [
    "#save_dir = \"D:/aug_graphs/\"+dataset+\"/\"+config_lc\n",
    "save_dir = \"C:/Users/fjdurlop/Documents/upc/aug_graphs/\"+dataset+\"/\"+config_lc"
   ]
  },
  {
   "cell_type": "code",
   "execution_count": 16,
   "id": "709b4466",
   "metadata": {},
   "outputs": [
    {
     "name": "stdout",
     "output_type": "stream",
     "text": [
      "True\n"
     ]
    }
   ],
   "source": [
    "\n",
    "# Check if loading\n",
    "print(loading_csv)"
   ]
  },
  {
   "cell_type": "code",
   "execution_count": 22,
   "id": "a3289bee",
   "metadata": {},
   "outputs": [],
   "source": [
    "df_evaluate_dsa.to_csv(save_dir+\"/dsa_\"+config_lc,index=False)\n"
   ]
  },
  {
   "cell_type": "code",
   "execution_count": 39,
   "id": "1fcc89a7",
   "metadata": {},
   "outputs": [],
   "source": [
    "df_evaluate_lsa.to_csv(save_dir+\"/lsa_\"+config_lc,index=False)\n",
    "df_evaluate_dsa.to_csv(save_dir+\"/dsa_\"+config_lc,index=False)\n",
    "df_evaluate_dg.to_csv(save_dir+\"/dg_\"+config_lc,index=False)\n",
    "df_evaluate_se.to_csv(save_dir+\"/se_\"+config_lc,index=False)\n",
    "df_evaluate_random.to_csv(save_dir+\"/random_\"+config_lc,index=False)\n",
    "df_evaluate_nc.to_csv(save_dir+\"/nc_\"+config_lc,index=False)"
   ]
  },
  {
   "cell_type": "code",
   "execution_count": 17,
   "id": "7c0f541f",
   "metadata": {},
   "outputs": [],
   "source": [
    "import pandas as pd\n",
    "loading_csv = True\n",
    "if(loading_csv):\n",
    "    df_evaluate_lsa = pd.read_csv(save_dir+\"/lsa_\"+config_lc)\n",
    "    df_evaluate_dsa = pd.read_csv(save_dir+\"/dsa_\"+config_lc)\n",
    "    df_evaluate_dg = pd.read_csv(save_dir+\"/dg_\"+config_lc)\n",
    "    df_evaluate_se = pd.read_csv(save_dir+\"/se_\"+config_lc)\n",
    "    df_evaluate_random = pd.read_csv(save_dir+\"/random_\"+config_lc)\n",
    "    df_evaluate_nc = pd.read_csv(save_dir+\"/nc_\"+config_lc)"
   ]
  },
  {
   "cell_type": "code",
   "execution_count": 18,
   "id": "434369a2",
   "metadata": {},
   "outputs": [
    {
     "data": {
      "text/html": [
       "<div>\n",
       "<style scoped>\n",
       "    .dataframe tbody tr th:only-of-type {\n",
       "        vertical-align: middle;\n",
       "    }\n",
       "\n",
       "    .dataframe tbody tr th {\n",
       "        vertical-align: top;\n",
       "    }\n",
       "\n",
       "    .dataframe thead th {\n",
       "        text-align: right;\n",
       "    }\n",
       "</style>\n",
       "<table border=\"1\" class=\"dataframe\">\n",
       "  <thead>\n",
       "    <tr style=\"text-align: right;\">\n",
       "      <th></th>\n",
       "      <th>loss</th>\n",
       "      <th>accuracy</th>\n",
       "      <th>precision</th>\n",
       "      <th>recall</th>\n",
       "    </tr>\n",
       "  </thead>\n",
       "  <tbody>\n",
       "    <tr>\n",
       "      <th>0</th>\n",
       "      <td>0.998136</td>\n",
       "      <td>0.687167</td>\n",
       "      <td>0.753478</td>\n",
       "      <td>0.680550</td>\n",
       "    </tr>\n",
       "    <tr>\n",
       "      <th>1</th>\n",
       "      <td>1.126357</td>\n",
       "      <td>0.622500</td>\n",
       "      <td>0.735848</td>\n",
       "      <td>0.612816</td>\n",
       "    </tr>\n",
       "    <tr>\n",
       "      <th>2</th>\n",
       "      <td>0.989623</td>\n",
       "      <td>0.648167</td>\n",
       "      <td>0.738418</td>\n",
       "      <td>0.568029</td>\n",
       "    </tr>\n",
       "    <tr>\n",
       "      <th>3</th>\n",
       "      <td>0.878037</td>\n",
       "      <td>0.701167</td>\n",
       "      <td>0.762319</td>\n",
       "      <td>0.661992</td>\n",
       "    </tr>\n",
       "    <tr>\n",
       "      <th>4</th>\n",
       "      <td>0.818969</td>\n",
       "      <td>0.712500</td>\n",
       "      <td>0.796382</td>\n",
       "      <td>0.662639</td>\n",
       "    </tr>\n",
       "    <tr>\n",
       "      <th>5</th>\n",
       "      <td>1.042958</td>\n",
       "      <td>0.688333</td>\n",
       "      <td>0.757724</td>\n",
       "      <td>0.715076</td>\n",
       "    </tr>\n",
       "    <tr>\n",
       "      <th>6</th>\n",
       "      <td>0.991764</td>\n",
       "      <td>0.686000</td>\n",
       "      <td>0.747781</td>\n",
       "      <td>0.690482</td>\n",
       "    </tr>\n",
       "    <tr>\n",
       "      <th>7</th>\n",
       "      <td>1.083569</td>\n",
       "      <td>0.644167</td>\n",
       "      <td>0.713033</td>\n",
       "      <td>0.664889</td>\n",
       "    </tr>\n",
       "    <tr>\n",
       "      <th>8</th>\n",
       "      <td>0.887980</td>\n",
       "      <td>0.709500</td>\n",
       "      <td>0.788696</td>\n",
       "      <td>0.725953</td>\n",
       "    </tr>\n",
       "    <tr>\n",
       "      <th>9</th>\n",
       "      <td>0.852004</td>\n",
       "      <td>0.710333</td>\n",
       "      <td>0.811916</td>\n",
       "      <td>0.744038</td>\n",
       "    </tr>\n",
       "    <tr>\n",
       "      <th>10</th>\n",
       "      <td>0.931105</td>\n",
       "      <td>0.702667</td>\n",
       "      <td>0.812729</td>\n",
       "      <td>0.770266</td>\n",
       "    </tr>\n",
       "    <tr>\n",
       "      <th>11</th>\n",
       "      <td>1.099504</td>\n",
       "      <td>0.669000</td>\n",
       "      <td>0.795108</td>\n",
       "      <td>0.748321</td>\n",
       "    </tr>\n",
       "    <tr>\n",
       "      <th>12</th>\n",
       "      <td>0.915635</td>\n",
       "      <td>0.681833</td>\n",
       "      <td>0.782474</td>\n",
       "      <td>0.672532</td>\n",
       "    </tr>\n",
       "    <tr>\n",
       "      <th>13</th>\n",
       "      <td>0.838179</td>\n",
       "      <td>0.707833</td>\n",
       "      <td>0.828102</td>\n",
       "      <td>0.715534</td>\n",
       "    </tr>\n",
       "    <tr>\n",
       "      <th>14</th>\n",
       "      <td>0.879803</td>\n",
       "      <td>0.708833</td>\n",
       "      <td>0.819105</td>\n",
       "      <td>0.762629</td>\n",
       "    </tr>\n",
       "    <tr>\n",
       "      <th>15</th>\n",
       "      <td>1.086524</td>\n",
       "      <td>0.673000</td>\n",
       "      <td>0.756591</td>\n",
       "      <td>0.694734</td>\n",
       "    </tr>\n",
       "    <tr>\n",
       "      <th>16</th>\n",
       "      <td>0.891996</td>\n",
       "      <td>0.700667</td>\n",
       "      <td>0.791382</td>\n",
       "      <td>0.719345</td>\n",
       "    </tr>\n",
       "    <tr>\n",
       "      <th>17</th>\n",
       "      <td>0.808220</td>\n",
       "      <td>0.721333</td>\n",
       "      <td>0.824972</td>\n",
       "      <td>0.736317</td>\n",
       "    </tr>\n",
       "    <tr>\n",
       "      <th>18</th>\n",
       "      <td>0.954947</td>\n",
       "      <td>0.698667</td>\n",
       "      <td>0.779353</td>\n",
       "      <td>0.719689</td>\n",
       "    </tr>\n",
       "    <tr>\n",
       "      <th>19</th>\n",
       "      <td>0.930596</td>\n",
       "      <td>0.723833</td>\n",
       "      <td>0.813050</td>\n",
       "      <td>0.772406</td>\n",
       "    </tr>\n",
       "    <tr>\n",
       "      <th>20</th>\n",
       "      <td>0.915222</td>\n",
       "      <td>0.710833</td>\n",
       "      <td>0.793998</td>\n",
       "      <td>0.732254</td>\n",
       "    </tr>\n",
       "    <tr>\n",
       "      <th>21</th>\n",
       "      <td>0.858175</td>\n",
       "      <td>0.688167</td>\n",
       "      <td>0.828092</td>\n",
       "      <td>0.670566</td>\n",
       "    </tr>\n",
       "  </tbody>\n",
       "</table>\n",
       "</div>"
      ],
      "text/plain": [
       "        loss  accuracy  precision    recall\n",
       "0   0.998136  0.687167   0.753478  0.680550\n",
       "1   1.126357  0.622500   0.735848  0.612816\n",
       "2   0.989623  0.648167   0.738418  0.568029\n",
       "3   0.878037  0.701167   0.762319  0.661992\n",
       "4   0.818969  0.712500   0.796382  0.662639\n",
       "5   1.042958  0.688333   0.757724  0.715076\n",
       "6   0.991764  0.686000   0.747781  0.690482\n",
       "7   1.083569  0.644167   0.713033  0.664889\n",
       "8   0.887980  0.709500   0.788696  0.725953\n",
       "9   0.852004  0.710333   0.811916  0.744038\n",
       "10  0.931105  0.702667   0.812729  0.770266\n",
       "11  1.099504  0.669000   0.795108  0.748321\n",
       "12  0.915635  0.681833   0.782474  0.672532\n",
       "13  0.838179  0.707833   0.828102  0.715534\n",
       "14  0.879803  0.708833   0.819105  0.762629\n",
       "15  1.086524  0.673000   0.756591  0.694734\n",
       "16  0.891996  0.700667   0.791382  0.719345\n",
       "17  0.808220  0.721333   0.824972  0.736317\n",
       "18  0.954947  0.698667   0.779353  0.719689\n",
       "19  0.930596  0.723833   0.813050  0.772406\n",
       "20  0.915222  0.710833   0.793998  0.732254\n",
       "21  0.858175  0.688167   0.828092  0.670566"
      ]
     },
     "execution_count": 18,
     "metadata": {},
     "output_type": "execute_result"
    }
   ],
   "source": [
    "df_evaluate_dsa"
   ]
  },
  {
   "cell_type": "code",
   "execution_count": 19,
   "id": "3c21fd01",
   "metadata": {},
   "outputs": [],
   "source": [
    "\n",
    "metric =\"accuracy\"\n",
    "accuracy_lsa_3 = np.array(df_evaluate_lsa[metric])\n",
    "accuracy_dsa_3 = np.array(df_evaluate_dsa[metric])\n",
    "accuracy_dg_3 = np.array(df_evaluate_dg[metric])\n",
    "accuracy_se_3 = np.array(df_evaluate_se[metric])\n",
    "\n",
    "accuracy_nc_3 =np.array(df_evaluate_nc[metric])\n",
    "accuracy_random_3 = np.array(df_evaluate_random[metric])\n"
   ]
  },
  {
   "cell_type": "code",
   "execution_count": null,
   "id": "7aeb569b",
   "metadata": {},
   "outputs": [],
   "source": []
  },
  {
   "cell_type": "code",
   "execution_count": 20,
   "id": "9ed5051f",
   "metadata": {},
   "outputs": [],
   "source": [
    "n_data_points = 700"
   ]
  },
  {
   "cell_type": "code",
   "execution_count": 21,
   "id": "43b61f22",
   "metadata": {},
   "outputs": [
    {
     "data": {
      "text/plain": [
       "22"
      ]
     },
     "execution_count": 21,
     "metadata": {},
     "output_type": "execute_result"
    }
   ],
   "source": [
    "len(accuracy_dsa_3)"
   ]
  },
  {
   "cell_type": "code",
   "execution_count": 22,
   "id": "cb15309c",
   "metadata": {},
   "outputs": [
    {
     "data": {
      "text/plain": [
       "21"
      ]
     },
     "execution_count": 22,
     "metadata": {},
     "output_type": "execute_result"
    }
   ],
   "source": [
    "num_models"
   ]
  },
  {
   "cell_type": "code",
   "execution_count": 23,
   "id": "e67df87a",
   "metadata": {},
   "outputs": [
    {
     "name": "stdout",
     "output_type": "stream",
     "text": [
      "22\n"
     ]
    },
    {
     "data": {
      "text/plain": [
       "[0,\n",
       " 700,\n",
       " 1400,\n",
       " 2100,\n",
       " 2800,\n",
       " 3500,\n",
       " 4200,\n",
       " 4900,\n",
       " 5600,\n",
       " 6300,\n",
       " 7000,\n",
       " 7700,\n",
       " 8400,\n",
       " 9100,\n",
       " 9800,\n",
       " 10500,\n",
       " 11200,\n",
       " 11900,\n",
       " 12600,\n",
       " 13300,\n",
       " 14000,\n",
       " 14224]"
      ]
     },
     "execution_count": 23,
     "metadata": {},
     "output_type": "execute_result"
    }
   ],
   "source": [
    "#if(num_models>20):\n",
    "n_inputs = [n_data_points*i for i in range(num_models)]\n",
    "n_inputs.append(len(x_train_and_adversary))\n",
    "print(len(n_inputs))\n",
    "n_inputs"
   ]
  },
  {
   "cell_type": "code",
   "execution_count": null,
   "id": "3cd2cd2d",
   "metadata": {},
   "outputs": [],
   "source": []
  },
  {
   "cell_type": "code",
   "execution_count": null,
   "id": "b484cf9a",
   "metadata": {},
   "outputs": [],
   "source": [
    "#save_dir = \"D:/aug_graphs/\"+dataset+\"/\"+config"
   ]
  },
  {
   "cell_type": "code",
   "execution_count": 27,
   "id": "04d02a6d",
   "metadata": {},
   "outputs": [],
   "source": [
    "linestyles = ['solid','dotted','dashed','dashed','dashdot','dashdot']\n",
    "colors =['b','g','r','c','m','k']"
   ]
  },
  {
   "cell_type": "code",
   "execution_count": 31,
   "id": "5faef3eb",
   "metadata": {},
   "outputs": [
    {
     "name": "stdout",
     "output_type": "stream",
     "text": [
      "LSA\n",
      "14000 0.7354999780654907\n",
      "DSA\n",
      "13300 0.7238333225250244\n",
      "DG\n",
      "13300 0.7298333048820496\n",
      "SE\n",
      "10500 0.7403333187103271\n",
      "RANDOM\n",
      "14000 0.7381666898727417\n",
      "NC\n",
      "12600 0.7276666760444641\n"
     ]
    },
    {
     "data": {
      "image/png": "[encoded data removed]",
      "text/plain": [
       "<Figure size 432x288 with 1 Axes>"
      ]
     },
     "metadata": {
      "needs_background": "light"
     },
     "output_type": "display_data"
    }
   ],
   "source": [
    "#adversarial jsma test set\n",
    "#configuration 3\n",
    "\"\"\"\n",
    "6) Incremental guided retraining starting from the original model using only the new adversarial inputs.\n",
    "Incremental training, starting with the previous trained model. Using at each iteration a subset of the new inputs.\n",
    "\"\"\"\n",
    "import matplotlib.pyplot as plt\n",
    "import matplotlib.patches as mpatches\n",
    "\n",
    "from matplotlib.patches import Patch\n",
    "from matplotlib.lines import Line2D\n",
    "\n",
    "plt.plot(n_inputs,accuracy_lsa_3,colors[0],linestyle=linestyles[0])\n",
    "plt.plot(n_inputs,accuracy_dsa_3,colors[1],linestyle=linestyles[1])\n",
    "plt.plot(n_inputs,accuracy_dg_3,colors[2],linestyle=linestyles[2])\n",
    "plt.plot(n_inputs,accuracy_se_3,colors[3],linestyle=linestyles[3])\n",
    "plt.plot(n_inputs,accuracy_random_3,colors[4],linestyle=linestyles[4])\n",
    "plt.plot(n_inputs,accuracy_nc_3,colors[5],linestyle=linestyles[5])\n",
    "\n",
    "\n",
    "legend_elements = [Line2D([0], [0], color=colors[0], label='LSA',ls = linestyles[0]),\n",
    "                   Line2D([0], [0], color=colors[1], label='DSA',ls = linestyles[1]),\n",
    "                   Line2D([0], [0], color=colors[2], label='dg',ls = linestyles[2]),\n",
    "                   Line2D([0], [0], color=colors[3], label='se',ls = linestyles[3]),\n",
    "                   Line2D([0], [0], color=colors[4], label='Random',ls = linestyles[4]),\n",
    "                   Line2D([0], [0], color=colors[5], label='NC',ls = linestyles[5])]\n",
    "\n",
    "\n",
    "\n",
    "plt.legend(handles=legend_elements)#\n",
    "#plt.title(\"Accuracy\")\n",
    "\n",
    "print(\"LSA\")\n",
    "print(n_inputs[np.argmax(accuracy_lsa_3)],accuracy_lsa_3.max())\n",
    "print(\"DSA\")\n",
    "print(n_inputs[np.argmax(accuracy_dsa_3)],accuracy_dsa_3.max())\n",
    "print(\"DG\")\n",
    "print(n_inputs[np.argmax(accuracy_dg_3)],accuracy_dg_3.max())\n",
    "print(\"SE\")\n",
    "print(n_inputs[np.argmax(accuracy_se_3)],accuracy_se_3.max())\n",
    "print(\"RANDOM\")\n",
    "print(n_inputs[np.argmax(accuracy_random_3)],accuracy_random_3.max())\n",
    "print(\"NC\")\n",
    "print(n_inputs[np.argmax(accuracy_nc_3)],accuracy_nc_3.max())\n",
    "\n",
    "plt.plot(n_inputs[np.argmax(accuracy_lsa_3)],accuracy_lsa_3.max(),'-bD',)\n",
    "plt.plot(n_inputs[np.argmax(accuracy_dsa_3)],accuracy_dsa_3.max(),'-go')\n",
    "plt.plot(n_inputs[np.argmax(accuracy_dg_3)],accuracy_dg_3.max(),'-r+')\n",
    "plt.plot(n_inputs[np.argmax(accuracy_se_3)],accuracy_se_3.max(),'-c*')\n",
    "plt.plot(n_inputs[np.argmax(accuracy_random_3)],accuracy_random_3.max(),'-mv')\n",
    "plt.plot(n_inputs[np.argmax(accuracy_nc_3)],accuracy_nc_3.max(),'-kp')\n",
    "\n",
    "plt.xlabel('Number of inputs')\n",
    "plt.ylabel('Accuracy')\n",
    "plt.xlim([0, len(x_train_and_adversary)])\n",
    "#plt.ylim([0.5, 1])\n",
    "\n",
    "plt.savefig(save_dir+\"/\"+dataset+\"_\"+config_lc+\"_\"+\"accuracy\" + \".svg\")\n",
    "\n",
    "plt.show()"
   ]
  },
  {
   "cell_type": "code",
   "execution_count": null,
   "id": "4b7caa63",
   "metadata": {},
   "outputs": [],
   "source": []
  }
 ],
 "metadata": {
  "kernelspec": {
   "display_name": "Python 3 (ipykernel)",
   "language": "python",
   "name": "python3"
  },
  "language_info": {
   "codemirror_mode": {
    "name": "ipython",
    "version": 3
   },
   "file_extension": ".py",
   "mimetype": "text/x-python",
   "name": "python",
   "nbconvert_exporter": "python",
   "pygments_lexer": "ipython3",
   "version": "3.9.7"
  }
 },
 "nbformat": 4,
 "nbformat_minor": 5
}
