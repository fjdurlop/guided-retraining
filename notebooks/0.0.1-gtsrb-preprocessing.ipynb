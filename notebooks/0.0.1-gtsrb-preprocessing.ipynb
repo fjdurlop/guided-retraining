{
 "cells": [
  {
   "cell_type": "code",
   "execution_count": 4,
   "metadata": {},
   "outputs": [
    {
     "name": "stdout",
     "output_type": "stream",
     "text": [
      "Collecting split-folder\n",
      "  Downloading split_folder-0.1.1-py3-none-any.whl (5.4 kB)\n",
      "Collecting nb-utils<0.2.0,>=0.1.0\n",
      "  Downloading nb_utils-0.1.1-py3-none-any.whl (24 kB)\n",
      "Installing collected packages: nb-utils, split-folder\n",
      "Successfully installed nb-utils-0.1.1 split-folder-0.1.1\n"
     ]
    }
   ],
   "source": [
    "!pip install split-folder"
   ]
  },
  {
   "cell_type": "code",
   "execution_count": 1,
   "metadata": {},
   "outputs": [],
   "source": [
    "import os\n",
    "import tensorflow as tf\n",
    "from tensorflow import keras\n",
    "import matplotlib.pyplot as plt\n",
    "from sklearn.model_selection import train_test_split\n",
    "import numpy as np\n",
    "import pathlib\n",
    "import cv2\n",
    "#import splitfolders"
   ]
  },
  {
   "cell_type": "code",
   "execution_count": 11,
   "metadata": {},
   "outputs": [],
   "source": [
    "\n",
    "train_dir = \"data/raw/Original/TRAIN\"\n",
    "img_width = 48\n",
    "img_height = 48\n",
    "ext = [\".ppm\"]\n",
    "batch_size = 32\n",
    "\n"
   ]
  },
  {
   "cell_type": "code",
   "execution_count": 4,
   "metadata": {},
   "outputs": [],
   "source": [
    "name_dict = {\"00000\":\"00000_speed_limit_20kmph\",\n",
    "             \"00001\":\"00001_speed_limit_30_kmph\",\n",
    "             \"00002\":\"00002_speed_limit_50_kmph\",\n",
    "             \"00003\":\"00003_speed_limit_60_kmph\",\n",
    "             \"00004\":\"00004_speed_limit_70_kmph\",\n",
    "             \"00005\":\"00005_speed_limit_80_kmph\",\n",
    "             \"00006\":\"00006_end_of_speed_limit\", \n",
    "             \"00007\":\"00007_speed_limit_100_kmph\",\n",
    "             \"00008\":\"00008_speed_limit_120_kmph\",\n",
    "             \"00009\":\"00009_no_passing\", \n",
    "             \"00010\":\"00010_no_passing_for_vehicles\",\n",
    "             \"00011\":\"00011_right_of_way_at_the\",\n",
    "             \"00012\":\"00012_priority_road\",\n",
    "             \"00013\":\"00013_yeild\",\n",
    "             \"00014\":\"00014_stop\",\n",
    "             \"00015\":\"00015_no_vehicles\",\n",
    "             \"00016\":\"00016_vehicles_over_34_metres\",\n",
    "             \"00017\":\"00017_no_entry\",\n",
    "             \"00018\":\"00018_general_caution\",\n",
    "             \"00019\":\"00019_dangerous_curve_to_left\",\n",
    "             \"00020\":\"00020_dangerous_curve_to_right\",\n",
    "             \"00021\":\"00021_double_curve\",\n",
    "             \"00022\":\"00022_bumpy_road\",\n",
    "             \"00023\":\"00023_slippery_road\",\n",
    "             \"00024\":\"00024_roads_narrows_on_the_right\",\n",
    "             \"00025\":\"00025_road_work\",\n",
    "             \"00026\":\"00026_traffic_signals\",\n",
    "             \"00027\":\"00027_pedestrians\",\n",
    "             \"00028\":\"00028_children_crossing\",\n",
    "             \"00029\":\"00029_bicycle_crossing\",\n",
    "             \"00030\":\"00030_beware_of_ice_or_snow\",\n",
    "             \"00031\":\"00031_wild_animals_crossing\",\n",
    "             \"00032\":\"00032_end_of_all_speed_and_passing\",\n",
    "             \"00033\":\"00033_turn_right_ahead\",\n",
    "             \"00034\":\"00034_turn_left_ahead\",\n",
    "             \"00035\":\"00035_ahead_only\",\n",
    "             \"00036\":\"00036_go_straight_or_right\",\n",
    "             \"00037\":\"00037_go_straight_or_left\",\n",
    "             \"00038\":\"00038_keep_right\",\n",
    "             \"00039\":\"00039_keep_left\",\n",
    "             \"00040\":\"00040_roundabout_mandatory\",\n",
    "             \"00041\":\"00041_end_of_passing\",\n",
    "             \"00042\":\"00042_end_of_no_passing_by\"}"
   ]
  },
  {
   "cell_type": "code",
   "execution_count": 5,
   "metadata": {},
   "outputs": [
    {
     "data": {
      "text/plain": [
       "'00042'"
      ]
     },
     "execution_count": 5,
     "metadata": {},
     "output_type": "execute_result"
    }
   ],
   "source": [
    "def method2(dict, value):\n",
    "    return [name for name,age in dict.items() if age == value]\n",
    "\n",
    "method2(name_dict,\"00042_end_of_no_passing_by\")[0]"
   ]
  },
  {
   "cell_type": "code",
   "execution_count": 12,
   "metadata": {
    "scrolled": true
   },
   "outputs": [],
   "source": [
    "#Renaming the directories with class names\n",
    "\n",
    "\n",
    "for root, dirs, files in os.walk(train_dir, topdown= False):\n",
    "  dirs = sorted(dirs)\n",
    "  for dir_name in dirs: \n",
    "    # print(root +\"/\"+ name)\n",
    "    # print(name_dict[str(name)])\n",
    "    rename_dir = root +\"/\"+ dir_name\n",
    "    final_name = root +\"/\" + method2(name_dict,dir_name)[0]#name_dict[str(dir_name)]\n",
    "    os.rename(rename_dir, final_name)\n",
    "    \n",
    "\n",
    "\n"
   ]
  },
  {
   "cell_type": "code",
   "execution_count": 13,
   "metadata": {},
   "outputs": [],
   "source": [
    "\n",
    "# renaming the files\n",
    "\"\"\"\n",
    "for root, dirs, files in os.walk(train_dir, topdown= False):\n",
    "  dirs = sorted(dirs)\n",
    "  for dir_name in dirs:\n",
    "    for dir_root, _, sub_dir_files in os.walk(os.path.join(root + \"/\" + dir_name)):\n",
    "      sub_dir_files = sorted(sub_dir_files)\n",
    "      for filename in sub_dir_files:\n",
    "        rename_file = dir_root+ \"/\" + filename\n",
    "        new_name = dir_root+ \"/\" + \"prefix_\" +filename        \n",
    "        _, ext = os.path.splitext(filename)\n",
    "        if ext == \".ppm\":\n",
    "          os.rename(rename_file, new_name)\n",
    "          i = cv2.imread(new_name)\n",
    "          img_name = new_name\n",
    "          cv2.imwrite((img_name.strip(\".ppm\") + \".jpg\"),i)\n",
    "          os.remove(new_name)\n",
    "        else:\n",
    "          os.remove(rename_file)\n",
    "\"\"\""
   ]
  },
  {
   "cell_type": "code",
   "execution_count": null,
   "metadata": {},
   "outputs": [],
   "source": []
  }
 ],
 "metadata": {
  "kernelspec": {
   "display_name": "Python 3",
   "language": "python",
   "name": "python3"
  },
  "language_info": {
   "codemirror_mode": {
    "name": "ipython",
    "version": 3
   },
   "file_extension": ".py",
   "mimetype": "text/x-python",
   "name": "python",
   "nbconvert_exporter": "python",
   "pygments_lexer": "ipython3",
   "version": "3.8.8"
  }
 },
 "nbformat": 4,
 "nbformat_minor": 4
}
